{
 "cells": [
  {
   "cell_type": "code",
   "execution_count": 1,
   "metadata": {},
   "outputs": [],
   "source": [
    "import numpy as np\n",
    "import matplotlib.pyplot as plt"
   ]
  },
  {
   "cell_type": "code",
   "execution_count": 12,
   "metadata": {},
   "outputs": [],
   "source": [
    "from tqdm import tqdm_notebook\n",
    "import regex as re"
   ]
  },
  {
   "cell_type": "code",
   "execution_count": 3,
   "metadata": {},
   "outputs": [],
   "source": [
    "IUPAC_WILDCARDS = {\n",
    "    \"W\" : \"AT\",\n",
    "    \"S\" : \"CG\",\n",
    "    \"M\" : \"AC\",\n",
    "    \"K\" : \"GT\",\n",
    "    \"R\" : \"AG\",\n",
    "    \"Y\" : \"CT\",\n",
    "    \"B\" : \"CGT\",\n",
    "    \"D\" : \"AGT\",\n",
    "    \"H\" : \"ACT\",\n",
    "    \"V\" : \"ACG\",\n",
    "    \"N\" : \"ACGT\",\n",
    "}"
   ]
  },
  {
   "cell_type": "code",
   "execution_count": 4,
   "metadata": {},
   "outputs": [],
   "source": [
    "def read_fastq(path):\n",
    "    with open(path) as f:\n",
    "        lines = f.readlines()\n",
    "    \n",
    "    reads = [x[:-1] for x in lines[1::4]]\n",
    "    qualities = [x[:-1] for x in lines[3::4]]\n",
    "    \n",
    "    return reads, qualities"
   ]
  },
  {
   "cell_type": "code",
   "execution_count": 5,
   "metadata": {},
   "outputs": [],
   "source": [
    "def repeat_to_re_pattern(repeat, e=2, d = IUPAC_WILDCARDS):\n",
    "    re_pattern = \"(\"\n",
    "    for char in repeat:\n",
    "        if char not in d.keys() and char != '(' and char != ')':\n",
    "            re_pattern += char\n",
    "        elif char in d.keys():\n",
    "            re_pattern += \"[\" +  \"|\".join(d[char]) + \"]\"\n",
    "    \n",
    "    re_pattern += \"){e<=\" + str(e) + \"}\"\n",
    "    return re_pattern"
   ]
  },
  {
   "cell_type": "code",
   "execution_count": 6,
   "metadata": {},
   "outputs": [],
   "source": [
    "def find(repeat, read, e = 2):\n",
    "    p_str = repeat_to_re_pattern(repeat,e=e)\n",
    "    p = re.compile(p_str)\n",
    "   \n",
    "    return [x.span() for x in re.finditer(p, read)]"
   ]
  },
  {
   "cell_type": "code",
   "execution_count": 7,
   "metadata": {},
   "outputs": [],
   "source": [
    "def split_read(read, quality, repeat, repeat_s, repeat_e, e=2, v=0):\n",
    "    repeat_pos = find(repeat, read, e)\n",
    "    \n",
    "    if v: print(repeat_pos)\n",
    "    if len(repeat_pos) == 0:\n",
    "        return [-1, -1], [-1, -1]\n",
    "\n",
    "    else:\n",
    "        repeat_pos = repeat_pos[0]\n",
    "        read_left = read[:repeat_pos[0]]\n",
    "        q_left = quality[:repeat_pos[0]]\n",
    "        \n",
    "        read_right = read[repeat_pos[1]:]\n",
    "        q_right = quality[repeat_pos[1]:]\n",
    "        \n",
    "        \n",
    "        repeat_pos_l = find(repeat_e, read_left, e)\n",
    "        if v: print(repeat_pos_l)\n",
    "        if len(repeat_pos_l) == 0:\n",
    "            left_spacer = -1\n",
    "            left_sp_q = -1\n",
    "        else:\n",
    "            left_spacer = read_left[repeat_pos_l[0][1]:]\n",
    "            left_sp_q = q_left[repeat_pos_l[0][1]:]\n",
    "            \n",
    "        \n",
    "        repeat_pos_r = find(repeat_s, read_right, e)\n",
    "        if v: print(repeat_pos_r)\n",
    "        if len(repeat_pos_r) == 0:\n",
    "            right_spacer = -1\n",
    "            right_sp_q = -1\n",
    "        else:\n",
    "            right_spacer = read_right[:repeat_pos_r[0][0]]\n",
    "            right_sp_q = q_right[:repeat_pos_r[0][0]]\n",
    "        \n",
    "        return [left_spacer, right_spacer], [left_sp_q, right_sp_q]"
   ]
  },
  {
   "cell_type": "code",
   "execution_count": 32,
   "metadata": {},
   "outputs": [],
   "source": [
    "quality_symbols1 = r'!\"#$%&' \n",
    "quality_symbols2 = \"'()*+,-./0123456789:;<=>?@ABCDEFGHIJKLMNOPQRSTUVWXYZ[\\]^_`abcdefghijklmnopqrstuvwxyz{|}~\""
   ]
  },
  {
   "cell_type": "code",
   "execution_count": 43,
   "metadata": {},
   "outputs": [],
   "source": [
    "quality_dict = {}\n",
    "quality_dict_r = {}\n",
    "for i, char in enumerate(quality_symbols1 + quality_symbols2):\n",
    "    quality_dict[char] = i\n",
    "    quality_dict_r[i] = char"
   ]
  },
  {
   "cell_type": "code",
   "execution_count": 35,
   "metadata": {},
   "outputs": [],
   "source": [
    "get_quality = lambda x: quality_dict[x]"
   ]
  },
  {
   "cell_type": "code",
   "execution_count": 47,
   "metadata": {},
   "outputs": [],
   "source": [
    "def get_lowest_q(pair_q, gq = get_quality):\n",
    "    return quality_dict[min(pairs_q[123][0] + pairs_q[123][1], key=gq)]"
   ]
  },
  {
   "cell_type": "code",
   "execution_count": null,
   "metadata": {},
   "outputs": [],
   "source": []
  },
  {
   "cell_type": "code",
   "execution_count": null,
   "metadata": {},
   "outputs": [],
   "source": []
  },
  {
   "cell_type": "code",
   "execution_count": 8,
   "metadata": {},
   "outputs": [],
   "source": [
    "path = \"../data/clostr_test/fastq/Polina-1_S11_L001_R1_001.fastq\""
   ]
  },
  {
   "cell_type": "code",
   "execution_count": 9,
   "metadata": {},
   "outputs": [],
   "source": [
    "repeat = \"GTTTTAKATTA(ACTAWRTGG)WATGTAAAK\"\n",
    "repeat_s = \"GTTTTAKATTAACTAWRTGG\"\n",
    "repeat_e = \"ACTAWRTGGWATGTAAAK\"\n",
    "\n",
    "repeat_clear = \"GTTTTAKATTAACTAWRTGGWATGTAAAK\""
   ]
  },
  {
   "cell_type": "code",
   "execution_count": 18,
   "metadata": {},
   "outputs": [],
   "source": [
    "reads, qualities = read_fastq(path)"
   ]
  },
  {
   "cell_type": "code",
   "execution_count": 20,
   "metadata": {
    "scrolled": true
   },
   "outputs": [],
   "source": [
    "pairs, pairs_q = [], []\n",
    "for r,q in tqdm_notebook(zip(reads, qualities)):\n",
    "    p, pq = split_read(r, q, repeat, repeat_s, repeat_e)\n",
    "    pairs.append(p)\n",
    "    pairs_q.append(pq)"
   ]
  },
  {
   "cell_type": "code",
   "execution_count": 22,
   "metadata": {},
   "outputs": [],
   "source": [
    "pairs = np.array(pairs)\n",
    "pairs_q = np.array(pairs_q)"
   ]
  },
  {
   "cell_type": "code",
   "execution_count": 25,
   "metadata": {},
   "outputs": [
    {
     "data": {
      "application/vnd.jupyter.widget-view+json": {
       "model_id": "de97e1d406f44787b2dd2e4db1af9381",
       "version_major": 2,
       "version_minor": 0
      },
      "text/plain": [
       "A Jupyter Widget"
      ]
     },
     "metadata": {},
     "output_type": "display_data"
    },
    {
     "name": "stdout",
     "output_type": "stream",
     "text": [
      "\n",
      "28815\n"
     ]
    }
   ],
   "source": [
    "mask = np.array(['-1' not in pair for pair in tqdm_notebook(pairs)])\n",
    "\n",
    "print(mask.sum())\n",
    "\n",
    "pairs = pairs[mask]\n",
    "pairs_q = pairs_q[mask]"
   ]
  },
  {
   "cell_type": "code",
   "execution_count": 53,
   "metadata": {},
   "outputs": [],
   "source": [
    "min_pq = np.array([get_lowest_q(pq) for pq in pairs_q])"
   ]
  },
  {
   "cell_type": "code",
   "execution_count": null,
   "metadata": {},
   "outputs": [],
   "source": []
  },
  {
   "cell_type": "code",
   "execution_count": null,
   "metadata": {},
   "outputs": [],
   "source": []
  },
  {
   "cell_type": "code",
   "execution_count": null,
   "metadata": {},
   "outputs": [],
   "source": []
  },
  {
   "cell_type": "code",
   "execution_count": null,
   "metadata": {},
   "outputs": [],
   "source": []
  },
  {
   "cell_type": "code",
   "execution_count": 363,
   "metadata": {},
   "outputs": [],
   "source": [
    "pairs = np.array(pairs)"
   ]
  },
  {
   "cell_type": "code",
   "execution_count": 375,
   "metadata": {
    "scrolled": true
   },
   "outputs": [],
   "source": [
    "mask = np.array(['-1' not in pair for pair in pairs])"
   ]
  },
  {
   "cell_type": "code",
   "execution_count": 379,
   "metadata": {},
   "outputs": [
    {
     "data": {
      "text/plain": [
       "array([['GAGGAGATTCAGACAGCGACTAAAAAGACTGATATA',\n",
       "        'AACTTTATATCTCCANTTGCATATCCATCTGATGA'],\n",
       "       ['GCGTACAAGGTTGAGAAGCTCCGCAATCTCAACGTC',\n",
       "        'CAGCCAAAAACTTCGAATTTGAACTAAAATGCGT'],\n",
       "       ['AGGAGATAACTTCTATTAAAGATAACTTTGATGTG',\n",
       "        'GCGTACAAGGTTGAGAAGCTCCGCAATCTCAACGTC'],\n",
       "       ...,\n",
       "       ['AACTTTATATCTCCATTTGCATATCCATCTGATGA',\n",
       "        'GCGTACAAGGTTGAGAAGCTCCGCAATCTCAACGTC'],\n",
       "       ['AACTTTATATCTCCATTTGCATATCCATCTGATGC',\n",
       "        'GCGTACAAGGTTGAGAAGCTCCGCAATCTCAACGTC'],\n",
       "       ['GCTTACAAGGTTGAGAAGCTCCGCAATCTCAAAGTCGT',\n",
       "        'ATTTGAAATGAATAAATTTTAAATGAATGAAAGTATAG']], dtype='<U105')"
      ]
     },
     "execution_count": 379,
     "metadata": {},
     "output_type": "execute_result"
    }
   ],
   "source": [
    "pairs[mask]"
   ]
  },
  {
   "cell_type": "code",
   "execution_count": null,
   "metadata": {},
   "outputs": [],
   "source": []
  },
  {
   "cell_type": "code",
   "execution_count": null,
   "metadata": {},
   "outputs": [],
   "source": []
  },
  {
   "cell_type": "code",
   "execution_count": null,
   "metadata": {},
   "outputs": [],
   "source": []
  },
  {
   "cell_type": "code",
   "execution_count": null,
   "metadata": {},
   "outputs": [],
   "source": []
  },
  {
   "cell_type": "code",
   "execution_count": 299,
   "metadata": {},
   "outputs": [
    {
     "data": {
      "text/plain": [
       "(array([     0.,      0.,      0.,      0.,      0., 128171.,      0.,\n",
       "             0.,      0.,      0.]),\n",
       " array([150.5, 150.6, 150.7, 150.8, 150.9, 151. , 151.1, 151.2, 151.3,\n",
       "        151.4, 151.5]),\n",
       " <a list of 10 Patch objects>)"
      ]
     },
     "execution_count": 299,
     "metadata": {},
     "output_type": "execute_result"
    },
    {
     "data": {
      "image/png": "[encoded data removed]",
      "text/plain": [
       "<matplotlib.figure.Figure at 0x7f80514ca748>"
      ]
     },
     "metadata": {},
     "output_type": "display_data"
    }
   ],
   "source": [
    "plt.hist([len(x) for x in reads])"
   ]
  },
  {
   "cell_type": "code",
   "execution_count": 312,
   "metadata": {},
   "outputs": [
    {
     "data": {
      "text/plain": [
       "95"
      ]
     },
     "execution_count": 312,
     "metadata": {},
     "output_type": "execute_result"
    }
   ],
   "source": [
    "len(quality_symbols)"
   ]
  },
  {
   "cell_type": "code",
   "execution_count": 313,
   "metadata": {},
   "outputs": [
    {
     "data": {
      "text/plain": [
       "'!\"#$%&\\\\\\'()*+,-.'"
      ]
     },
     "execution_count": 313,
     "metadata": {},
     "output_type": "execute_result"
    }
   ],
   "source": [
    "quality_symbols[:15]"
   ]
  },
  {
   "cell_type": "code",
   "execution_count": 316,
   "metadata": {},
   "outputs": [
    {
     "data": {
      "text/plain": [
       "'AFFAFF=FFAFFFFFFFAFFFFFAFFFAFFFFFFFFFFFFFFFFFFFFFFFAFFFFFF/FFFFFFF6FAAFFFFFFFFF=FFFFFFFFFAFFFFFFFAFFF/FAFAF/FFFFF/FFF/FFFFFF=FFFFFFFFF/FFF/FFFFFFFFFFFF'"
      ]
     },
     "execution_count": 316,
     "metadata": {},
     "output_type": "execute_result"
    }
   ],
   "source": [
    "qualities[100]"
   ]
  },
  {
   "cell_type": "code",
   "execution_count": null,
   "metadata": {},
   "outputs": [],
   "source": []
  },
  {
   "cell_type": "code",
   "execution_count": null,
   "metadata": {},
   "outputs": [],
   "source": []
  },
  {
   "cell_type": "code",
   "execution_count": 318,
   "metadata": {},
   "outputs": [],
   "source": [
    "#  [sum([y in x for x in np.array(qualities)[mask]]) for y in quality_symbols]"
   ]
  },
  {
   "cell_type": "code",
   "execution_count": null,
   "metadata": {},
   "outputs": [],
   "source": []
  },
  {
   "cell_type": "code",
   "execution_count": 232,
   "metadata": {},
   "outputs": [],
   "source": [
    "p_str = repeat_to_re_pattern(\"(AAd)\") "
   ]
  },
  {
   "cell_type": "code",
   "execution_count": 233,
   "metadata": {},
   "outputs": [
    {
     "data": {
      "text/plain": [
       "'(AAd){e<=2}'"
      ]
     },
     "execution_count": 233,
     "metadata": {},
     "output_type": "execute_result"
    }
   ],
   "source": [
    "p_str"
   ]
  },
  {
   "cell_type": "code",
   "execution_count": 243,
   "metadata": {},
   "outputs": [],
   "source": [
    "#p = re.compile(\"(AAAC){e<=2}\")\n",
    "p = re.compile(p_str)"
   ]
  },
  {
   "cell_type": "code",
   "execution_count": 244,
   "metadata": {},
   "outputs": [
    {
     "data": {
      "text/plain": [
       "[]"
      ]
     },
     "execution_count": 244,
     "metadata": {},
     "output_type": "execute_result"
    }
   ],
   "source": [
    "[x.span() for x in re.finditer(p, \"AAAA\")]"
   ]
  },
  {
   "cell_type": "code",
   "execution_count": null,
   "metadata": {},
   "outputs": [],
   "source": []
  },
  {
   "cell_type": "code",
   "execution_count": 259,
   "metadata": {},
   "outputs": [
    {
     "name": "stdout",
     "output_type": "stream",
     "text": [
      "(GTTTTA[G|T]ATTAACTA[A|T][A|G]TGG[A|T]ATGTAAA[G|T]){e<=6}\n"
     ]
    }
   ],
   "source": [
    "p_str = repeat_to_re_pattern(repeat,e=6)\n",
    "p = re.compile(p_str)\n",
    "print(p_str)"
   ]
  },
  {
   "cell_type": "code",
   "execution_count": 260,
   "metadata": {},
   "outputs": [
    {
     "data": {
      "text/plain": [
       "[(52, 84)]"
      ]
     },
     "execution_count": 260,
     "metadata": {},
     "output_type": "execute_result"
    }
   ],
   "source": [
    "[x.span() for x in re.finditer(p, reads[1])]"
   ]
  },
  {
   "cell_type": "code",
   "execution_count": 261,
   "metadata": {},
   "outputs": [
    {
     "data": {
      "text/plain": [
       "'GGGTTTTAGATTAACTAAATGGAGATCGGAAG'"
      ]
     },
     "execution_count": 261,
     "metadata": {},
     "output_type": "execute_result"
    }
   ],
   "source": [
    "reads[1][52:84]"
   ]
  },
  {
   "cell_type": "code",
   "execution_count": 268,
   "metadata": {},
   "outputs": [
    {
     "data": {
      "text/plain": [
       "151"
      ]
     },
     "execution_count": 268,
     "metadata": {},
     "output_type": "execute_result"
    }
   ],
   "source": [
    "len(reads[1])"
   ]
  },
  {
   "cell_type": "code",
   "execution_count": 267,
   "metadata": {},
   "outputs": [
    {
     "name": "stdout",
     "output_type": "stream",
     "text": [
      "G G\n",
      "T T\n",
      "T T\n",
      "T T\n",
      "T T\n",
      "A A\n",
      "G K\n",
      "A A\n",
      "T T\n",
      "T T\n",
      "A A\n",
      "A A\n",
      "C C\n",
      "T T\n",
      "A A\n",
      "A W\n",
      "A R\n",
      "T T\n",
      "G G\n",
      "G G\n",
      "A W\n",
      "G A\n",
      "A T\n",
      "T G\n",
      "C T\n",
      "G A\n",
      "G A\n",
      "A A\n",
      "A K\n"
     ]
    }
   ],
   "source": [
    "print_together(reads[1][54:84], repeat_clear)"
   ]
  },
  {
   "cell_type": "code",
   "execution_count": 263,
   "metadata": {},
   "outputs": [],
   "source": [
    "def print_together(s1, s2):\n",
    "    for a,b in zip(s1, s2):\n",
    "        print(a,b)"
   ]
  },
  {
   "cell_type": "code",
   "execution_count": 254,
   "metadata": {},
   "outputs": [
    {
     "name": "stdout",
     "output_type": "stream",
     "text": [
      "A A\n",
      "C C\n",
      "T T\n",
      "A A\n",
      "T W\n",
      "G R\n",
      "T T\n",
      "G G\n",
      "G G\n",
      "A )\n",
      "A W\n",
      "T A\n",
      "G T\n",
      "T G\n",
      "A T\n",
      "A A\n",
      "A A\n",
      "T A\n",
      "G K\n"
     ]
    }
   ],
   "source": [
    "for  a,b in zip(reads[0], repeat[12:]):\n",
    "    print(a, b)"
   ]
  },
  {
   "cell_type": "code",
   "execution_count": null,
   "metadata": {},
   "outputs": [],
   "source": []
  },
  {
   "cell_type": "code",
   "execution_count": 17,
   "metadata": {},
   "outputs": [],
   "source": [
    "def repeat_matches(read, repeat, wildcards):\n",
    "    pass"
   ]
  },
  {
   "cell_type": "code",
   "execution_count": 102,
   "metadata": {},
   "outputs": [
    {
     "data": {
      "text/plain": [
       "'A|N|B'"
      ]
     },
     "execution_count": 102,
     "metadata": {},
     "output_type": "execute_result"
    }
   ],
   "source": [
    "\"|\".join(\"ANB\")"
   ]
  },
  {
   "cell_type": "code",
   "execution_count": null,
   "metadata": {},
   "outputs": [],
   "source": []
  },
  {
   "cell_type": "code",
   "execution_count": null,
   "metadata": {},
   "outputs": [],
   "source": []
  },
  {
   "cell_type": "markdown",
   "metadata": {},
   "source": [
    "## import bio"
   ]
  },
  {
   "cell_type": "code",
   "execution_count": 154,
   "metadata": {},
   "outputs": [],
   "source": [
    "from Bio.Seq import Seq\n",
    "from Bio.Alphabet import generic_nucleotide\n",
    "from Bio.Alphabet import IUPAC\n",
    "nuc_seq = Seq(\"GATCGATGC\", generic_nucleotide)\n",
    "dna_seq = Seq(\"ACGTW\", IUPAC.unambiguous_dna)"
   ]
  },
  {
   "cell_type": "code",
   "execution_count": 152,
   "metadata": {},
   "outputs": [
    {
     "data": {
      "text/plain": [
       "'GATCRYWSMKHBVDN'"
      ]
     },
     "execution_count": 152,
     "metadata": {},
     "output_type": "execute_result"
    }
   ],
   "source": [
    "IUPAC.ambiguous_dna"
   ]
  },
  {
   "cell_type": "code",
   "execution_count": 151,
   "metadata": {},
   "outputs": [
    {
     "data": {
      "text/plain": [
       "{'W': 'AT',\n",
       " 'S': 'CG',\n",
       " 'M': 'AC',\n",
       " 'K': 'GT',\n",
       " 'R': 'AG',\n",
       " 'Y': 'CT',\n",
       " 'B': 'CGT',\n",
       " 'D': 'AGT',\n",
       " 'H': 'ACT',\n",
       " 'V': 'ACG',\n",
       " 'N': 'ACGT'}"
      ]
     },
     "execution_count": 151,
     "metadata": {},
     "output_type": "execute_result"
    }
   ],
   "source": [
    "IUPAC_WILDCARDS"
   ]
  },
  {
   "cell_type": "markdown",
   "metadata": {},
   "source": [
    "## RE"
   ]
  },
  {
   "cell_type": "code",
   "execution_count": 206,
   "metadata": {},
   "outputs": [],
   "source": [
    "import regex as re"
   ]
  },
  {
   "cell_type": "code",
   "execution_count": 96,
   "metadata": {},
   "outputs": [],
   "source": [
    "p = re.compile('a[d|b]c')"
   ]
  },
  {
   "cell_type": "code",
   "execution_count": 98,
   "metadata": {},
   "outputs": [
    {
     "data": {
      "text/plain": [
       "[]"
      ]
     },
     "execution_count": 98,
     "metadata": {},
     "output_type": "execute_result"
    }
   ],
   "source": [
    "re.findall(p, 'aabddcx')"
   ]
  },
  {
   "cell_type": "code",
   "execution_count": null,
   "metadata": {},
   "outputs": [],
   "source": []
  },
  {
   "cell_type": "code",
   "execution_count": null,
   "metadata": {},
   "outputs": [],
   "source": []
  },
  {
   "cell_type": "markdown",
   "metadata": {},
   "source": [
    "## Mastering spades"
   ]
  },
  {
   "cell_type": "code",
   "execution_count": 9,
   "metadata": {},
   "outputs": [],
   "source": [
    "import sys\n",
    "sys.path.append(\"../spget/\")\n",
    "\n",
    "from importlib import reload"
   ]
  },
  {
   "cell_type": "code",
   "execution_count": 44,
   "metadata": {},
   "outputs": [],
   "source": [
    "import spget as sp\n",
    "sp = reload(sp)"
   ]
  },
  {
   "cell_type": "code",
   "execution_count": 50,
   "metadata": {},
   "outputs": [],
   "source": [
    "raw = [x.split(\"\\t\")[2] for x in lines]"
   ]
  },
  {
   "cell_type": "code",
   "execution_count": 31,
   "metadata": {
    "scrolled": true
   },
   "outputs": [
    {
     "data": {
      "text/plain": [
       "('ACTATGTGGAATGTAAATGAGGAGATTCAGACAGCGACTAAAAAGACTGATATAAAGTTTTAGATTAACTATATGGAATGTAAATAACTTTATATCTCCANTTGCATATCCATCTGATGAACGTTTTAGATTAACTATATGGAATGTAAAT',\n",
       " None,\n",
       " None)"
      ]
     },
     "execution_count": 31,
     "metadata": {},
     "output_type": "execute_result"
    }
   ],
   "source": [
    "sp.get_parts(raw)"
   ]
  },
  {
   "cell_type": "code",
   "execution_count": null,
   "metadata": {},
   "outputs": [],
   "source": []
  },
  {
   "cell_type": "code",
   "execution_count": null,
   "metadata": {},
   "outputs": [],
   "source": []
  },
  {
   "cell_type": "code",
   "execution_count": 34,
   "metadata": {
    "scrolled": true
   },
   "outputs": [
    {
     "name": "stdout",
     "output_type": "stream",
     "text": [
      "\n",
      "\n",
      "\n",
      "\n",
      "\n",
      "\n",
      "\n",
      "\n",
      "\n",
      "\n",
      "\n",
      "\n",
      "\n",
      "\n",
      "\n",
      "\n",
      "1\tGTTTTAKATTA(ACTAWRTGG)WATGTAAAK\t2\n"
     ]
    },
    {
     "name": "stderr",
     "output_type": "stream",
     "text": [
      "\n",
      "loading repeats from ../data/scripts/primers.txt\n"
     ]
    }
   ],
   "source": [
    "path = \"../data/clostr_test/fastq/test_1.fastq\"\n",
    "path = \"../data/scripts/raw_data_clostr.fastq\"\n",
    "r_path = \"../data/scripts/primers.txt\"\n",
    "rep = sp.load_repeats(r_path)"
   ]
  },
  {
   "cell_type": "code",
   "execution_count": 37,
   "metadata": {},
   "outputs": [
    {
     "name": "stderr",
     "output_type": "stream",
     "text": [
      "\n",
      "using following repeats sequences:\n",
      "seq: GTTTTAKATTAACTAWRTGGWATGTAAAK id: 0 types: 1(|1) mismatches: 2\n",
      "seq: ACTAWRTGGWATGTAAAK id: 1 types: 1( mismatches: 2\n",
      "seq: GTTTTAKATTAACTAWRTGG id: 2 types: 1) mismatches: 2\n"
     ]
    }
   ],
   "source": [
    "a = {}\n",
    "b = {}\n",
    "sp.fill_parts(rep,a, b)"
   ]
  },
  {
   "cell_type": "code",
   "execution_count": 45,
   "metadata": {},
   "outputs": [
    {
     "data": {
      "text/plain": [
       "'ATTTACATTCCATATAGTTAATCTAAAACGTTCATCAGATGGATATGCAANTGGAGATATAAAGTTATTTACATTCCATATAGTTAATCTAAAACTTTATATCAGTCTTTTTAGTCGCTGTCTGAATCTCCTCATTTACATTCCACATAGT'"
      ]
     },
     "execution_count": 45,
     "metadata": {},
     "output_type": "execute_result"
    }
   ],
   "source": [
    "sp.rc(raw)"
   ]
  },
  {
   "cell_type": "code",
   "execution_count": 53,
   "metadata": {},
   "outputs": [
    {
     "name": "stdout",
     "output_type": "stream",
     "text": [
      "{}\n",
      "{}\n",
      "{}\n",
      "{}\n",
      "{}\n",
      "{}\n",
      "{}\n",
      "{}\n"
     ]
    }
   ],
   "source": [
    "for r in raw:\n",
    "    print(sp.get_system_coords(sp.rc(r), a))"
   ]
  },
  {
   "cell_type": "code",
   "execution_count": 54,
   "metadata": {
    "scrolled": true
   },
   "outputs": [
    {
     "name": "stdout",
     "output_type": "stream",
     "text": [
      "{}\n",
      "{}\n",
      "{}\n",
      "{}\n",
      "{}\n",
      "{}\n",
      "{}\n",
      "{}\n"
     ]
    }
   ],
   "source": [
    "for r in raw:\n",
    "    print(sp.get_system_coords(r, a))"
   ]
  },
  {
   "cell_type": "code",
   "execution_count": 56,
   "metadata": {},
   "outputs": [],
   "source": [
    "from spget import * "
   ]
  },
  {
   "cell_type": "code",
   "execution_count": 58,
   "metadata": {},
   "outputs": [],
   "source": [
    "path = \"../data/clostr_test/fastq/test_1.fastq\"\n",
    "path = \"../data/scripts/raw_data_clostr.fastq\"\n",
    "r_path = \"../data/scripts/primers.txt\"\n",
    "#rep = sp.load_repeats(r_path)"
   ]
  },
  {
   "cell_type": "code",
   "execution_count": null,
   "metadata": {},
   "outputs": [],
   "source": [
    "repeats = load_repeats(r_path)\n",
    "if not repeats:\n",
    "    warn(\"no repeats loaded, exiting\")\n",
    "    exit(1)\n",
    "\n",
    "all_mm = {}\n",
    "id2primers = {}\n",
    "fill_parts(repeats, all_mm, id2primers)\n",
    "\n",
    "\n",
    "warn(\"\\ntrimming...\")"
   ]
  },
  {
   "cell_type": "code",
   "execution_count": 66,
   "metadata": {
    "scrolled": true
   },
   "outputs": [
    {
     "name": "stdout",
     "output_type": "stream",
     "text": [
      "home\t@MN00409:27:000H2KHTM:1:11102:17147:1044 1:N:0:11\tACTATGTGGAATGTAAATGAGGAGATTCAGACAGCGACTAAAAAGACTGATATAAAGTTTTAGATTAACTATATGGAATGTAAATAACTTTATATCTCCANTTGCATATCCATCTGATGAACGTTTTAGATTAACTATATGGAATGTAAAT\tAFFAFFFFFF/FAFFFFFF6FFFFFFFFFFAFFFFFFFFFFFFFFFFF/FFFFFFFFFFFFFFFFFFFFFFFFFFFFFFFFF/FFFFFFFFFFFFF/FFF#FFFFFFFFFFFFFFFFFFFFF6FFFFFAFFFFFF//FAAAFA//FFAFFF\n",
      "\n",
      "['home', '@MN00409:27:000H2KHTM:1:11102:17147:1044 1:N:0:11', 'ACTATGTGGAATGTAAATGAGGAGATTCAGACAGCGACTAAAAAGACTGATATAAAGTTTTAGATTAACTATATGGAATGTAAATAACTTTATATCTCCANTTGCATATCCATCTGATGAACGTTTTAGATTAACTATATGGAATGTAAAT', 'AFFAFFFFFF/FAFFFFFF6FFFFFFFFFFAFFFFFFFFFFFFFFFFF/FFFFFFFFFFFFFFFFFFFFFFFFFFFFFFFFF/FFFFFFFFFFFFF/FFF#FFFFFFFFFFFFFFFFFFFFF6FFFFFAFFFFFF//FAAAFA//FFAFFF', '']\n",
      "home\t@MN00409:27:000H2KHTM:1:11102:23264:1052 1:N:0:11\tACTATGTGGAATGTAAATCAGCCAAAAACTTCGAATTTGAACTAAAATGCGTGGGTTTTAGATTAACTAAATGGAGATCGGAAGAGCACACGTCTGAACTCCAGTCACCCAGTATCATCTCGTATGCCGTCTTCGGCTTGAAAAAAATAAG\tAAAFFFFFFF/FFFFFFFFFFFFFFFFFFFFFFF/FFAFFFFFFFFFFFFFFFFFFFFFFFFFFFF/FAFFFFFFFFFFFFFFFFFFFFFFFFFFFFFFFFFFFFFFFFFFFFF=F/=//FF/FAF/FF///F//F//FF/FFFF=/////\n",
      "\n",
      "['home', '@MN00409:27:000H2KHTM:1:11102:23264:1052 1:N:0:11', 'ACTATGTGGAATGTAAATCAGCCAAAAACTTCGAATTTGAACTAAAATGCGTGGGTTTTAGATTAACTAAATGGAGATCGGAAGAGCACACGTCTGAACTCCAGTCACCCAGTATCATCTCGTATGCCGTCTTCGGCTTGAAAAAAATAAG', 'AAAFFFFFFF/FFFFFFFFFFFFFFFFFFFFFFF/FFAFFFFFFFFFFFFFFFFFFFFFFFFFFFF/FAFFFFFFFFFFFFFFFFFFFFFFFFFFFFFFFFFFFFFFFFFFFFF=F/=//FF/FAF/FF///F//F//FF/FFFF=/////', '']\n",
      "home\t@MN00409:27:000H2KHTM:1:11102:25662:1058 1:N:0:11\tCCATTTAGTTAATATAAAACGATAGACAAAGCTAGTGCAGACGCTAAAGTACAATCATTTACATTCCATATAGTAGATCGGAAGAGCACACGTCTGAACTCCAGTCACCCAGTATCAGCGCGTAAGCCGTCTTGTGCTTGAAAAAAAAGAA\tAAAFFF/FAFFFFFFFFF6AFFFAFFFFFFFAFFFA/FFFFFFFFF6FFFFFF/FFFF/FFFFFAFFF/FFFFFFFFFFFFFFA/FFFFFF/AFFF/FFFF/FFFF/FF/FFFFF/F///FFAF/FFF//F/F//FF/FF/AFFF//////\n",
      "\n",
      "['home', '@MN00409:27:000H2KHTM:1:11102:25662:1058 1:N:0:11', 'CCATTTAGTTAATATAAAACGATAGACAAAGCTAGTGCAGACGCTAAAGTACAATCATTTACATTCCATATAGTAGATCGGAAGAGCACACGTCTGAACTCCAGTCACCCAGTATCAGCGCGTAAGCCGTCTTGTGCTTGAAAAAAAAGAA', 'AAAFFF/FAFFFFFFFFF6AFFFAFFFFFFFAFFFA/FFFFFFFFF6FFFFFF/FFFF/FFFFFAFFF/FFFFFFFFFFFFFFA/FFFFFF/AFFF/FFFF/FFFF/FF/FFFFF/F///FFAF/FFF//F/F//FF/FF/AFFF//////', '']\n",
      "home\t@MN00409:27:000H2KHTM:1:11102:8181:1059 1:N:0:11\tACTATATGGAATGTAAATAGATCGGAAGAGCACACGTCTGAACTCCAGTCACCCAGTATCATCTCGTATGCCGGGGTGGGCTTGAAAAAAAAATGGGGGGGGGGGGGGGGGGGGGGGGGGGGGGGGGGGGGGGGGGGGGGGGGGGGGGGGG\tF=AFAFFFF6FFFFAFFFFFAFFFFFFFFFF6FFFFFFFF6FFFFFFFFFFFFFFFFFFF6////AA/FAA/F////A/////////F/F//////FAFFFFFFFFFFFAFFFFFFFFFFFFFFFFFFFAFFAFFFFFFAFFFAFFFAFFA\n",
      "\n",
      "['home', '@MN00409:27:000H2KHTM:1:11102:8181:1059 1:N:0:11', 'ACTATATGGAATGTAAATAGATCGGAAGAGCACACGTCTGAACTCCAGTCACCCAGTATCATCTCGTATGCCGGGGTGGGCTTGAAAAAAAAATGGGGGGGGGGGGGGGGGGGGGGGGGGGGGGGGGGGGGGGGGGGGGGGGGGGGGGGGG', 'F=AFAFFFF6FFFFAFFFFFAFFFFFFFFFF6FFFFFFFF6FFFFFFFFFFFFFFFFFFF6////AA/FAA/F////A/////////F/F//////FAFFFFFFFFFFFAFFFFFFFFFFFFFFFFFFFAFFAFFFFFFAFFFAFFFAFFA', '']\n",
      "home\t@MN00409:27:000H2KHTM:1:11102:4003:1043 1:N:0:12\tACTAAGTGGTATGTAAAGACAAACAAGTGTAGGANAAACTTTCCTTGCCCAGTATAGTTTTATATTAACTAAGTGGTATGTAAAGGCAGAAGATTTAGCGNCTGTTGTTGCTGAATGGGATGGTTTTATATTAACTAAGTGGAGATCGGAA\t/FFAAFFFFF6FFFFFFAFFFFFFFFFFFFFFFF#FF6FF/FFFFFFFFFFFAFFFFFFFFAFFFFFF/FFFFFFFFFFFFFFFFFF/FFFFFFFFFFFF#FF/FFFFFFFFFFFFAFFFAFFAFAFAF=FF==FFAFF6/FFFFFFFFFF\n",
      "\n",
      "['home', '@MN00409:27:000H2KHTM:1:11102:4003:1043 1:N:0:12', 'ACTAAGTGGTATGTAAAGACAAACAAGTGTAGGANAAACTTTCCTTGCCCAGTATAGTTTTATATTAACTAAGTGGTATGTAAAGGCAGAAGATTTAGCGNCTGTTGTTGCTGAATGGGATGGTTTTATATTAACTAAGTGGAGATCGGAA', '/FFAAFFFFF6FFFFFFAFFFFFFFFFFFFFFFF#FF6FF/FFFFFFFFFFFAFFFFFFFFAFFFFFF/FFFFFFFFFFFFFFFFFF/FFFFFFFFFFFF#FF/FFFFFFFFFFFFAFFFAFFAFAFAF=FF==FFAFF6/FFFFFFFFFF', '']\n",
      "home\t@MN00409:27:000H2KHTM:1:11102:24020:1061 1:N:0:12\tCGTGATCTGCCTGCCTCGGCCTCCCAAAGAGTTGGGATTATAGGGGTGAACCACTGGGCCTGGCCCATTATCGCTGTTTTAAAAGTCTTAGACCAGGTCTGGATAGGGAGAAATAAACGTAAGATCGGAAGAGCACACGTCTGCACTCCAG\t66AA6FAAF/FFFFF6FFAFFAFF/F/FFFFFFFFAFFFFFAF6FFFFF/FF/AFFAF/=/AA//AF/F/F////F/A/AFFF//F//A/FF///FFA/FFAF/FF/F/F///////FF/F/FF/FFF//6//F//=FFFF////6F//F/\n",
      "\n",
      "['home', '@MN00409:27:000H2KHTM:1:11102:24020:1061 1:N:0:12', 'CGTGATCTGCCTGCCTCGGCCTCCCAAAGAGTTGGGATTATAGGGGTGAACCACTGGGCCTGGCCCATTATCGCTGTTTTAAAAGTCTTAGACCAGGTCTGGATAGGGAGAAATAAACGTAAGATCGGAAGAGCACACGTCTGCACTCCAG', '66AA6FAAF/FFFFF6FFAFFAFF/F/FFFFFFFFAFFFFFAF6FFFFF/FF/AFFAF/=/AA//AF/F/F////F/A/AFFF//F//A/FF///FFA/FFAF/FF/F/F///////FF/F/FF/FFF//6//F//=FFFF////6F//F/', '']\n",
      "home\t@MN00409:27:000H2KHTM:1:11102:16527:1065 1:N:0:12\tTAAAACTTTATGGGGAAGGTGGTATGTAAAGCGAAAAATCTAGGAAAAACTATTGTAAAAGCGTTTAGTTTTATATTAACTAAGTGGTATGTAAAGTTTGATTACATGGGCAGTTTTTTATTATAGAGTGTTAGTTTTATATTAACTAAGT\tF/FFAFFFF6FFFFFFFF/FFFF6FFFAFFFFF/AFFFFFF/FF/FF/FFFFFFFFFFFFAF/F/FFFFAAFAFFFFA/FFFAFFFAFFF/FFF/FF/FF//FF///F/FFFA/FFFFFFF/AA/FFFFFFFFFFF=A=F/F//FFA/AF=\n",
      "\n",
      "['home', '@MN00409:27:000H2KHTM:1:11102:16527:1065 1:N:0:12', 'TAAAACTTTATGGGGAAGGTGGTATGTAAAGCGAAAAATCTAGGAAAAACTATTGTAAAAGCGTTTAGTTTTATATTAACTAAGTGGTATGTAAAGTTTGATTACATGGGCAGTTTTTTATTATAGAGTGTTAGTTTTATATTAACTAAGT', 'F/FFAFFFF6FFFFFFFF/FFFF6FFFAFFFFF/AFFFFFF/FF/FF/FFFFFFFFFFFFAF/F/FFFFAAFAFFFFA/FFFAFFFAFFF/FFF/FF/FF//FF///F/FFFA/FFFFFFF/AA/FFFFFFFFFFF=A=F/F//FFA/AF=', '']\n",
      "home\t@MN00409:27:000H2KHTM:1:11102:7086:1068 1:N:0:12\tCCACTTAGTTAATATAAAACCCTTTATAGATAATTTTATAGACTCTTTGTATGTACTATTTACATACCACATAGTTAATATAAAATGAAAAGAGTTTTATATTAACTAAGTGGAGATCGGAAGAGCACACGTCTGAACTCCTGTCACTCTA\tAAAFAFFFFF/FFFFFF6FAFFAAAF6FFF/FFFFFFFFAF/FFFAFFFFFFF/F6FFAFFFFFFFFFFFFFFFFFFFFFFFFFFFFFFF/AAFAFFFFFFFFF/FFFFFFAFFFFFFFAF/AA/F/A/FFFFAA//FF/F//FAFAAF/6\n",
      "\n",
      "['home', '@MN00409:27:000H2KHTM:1:11102:7086:1068 1:N:0:12', 'CCACTTAGTTAATATAAAACCCTTTATAGATAATTTTATAGACTCTTTGTATGTACTATTTACATACCACATAGTTAATATAAAATGAAAAGAGTTTTATATTAACTAAGTGGAGATCGGAAGAGCACACGTCTGAACTCCTGTCACTCTA', 'AAAFAFFFFF/FFFFFF6FAFFAAAF6FFF/FFFFFFFFAF/FFFAFFFFFFF/F6FFAFFFFFFFFFFFFFFFFFFFFFFFFFFFFFFF/AAFAFFFFFFFFF/FFFFFFAFFFFFFFAF/AA/F/A/FFFFAA//FF/F//FAFAAF/6', '']\n"
     ]
    }
   ],
   "source": [
    "start_time = time.time()\n",
    "for cnt, line in enumerate(lines, start = 1):\n",
    "#     if cnt % time_each == 0 or cnt == args.time_first:\n",
    "#         warn(\"\\nprocessed \" + str(cnt) + \" reads in \" + str_time(start_time) + \" ...\")\n",
    "#     if of_parts and cnt % of_parts != part:\n",
    "#         continue\n",
    "\n",
    "    print(line)\n",
    "    rec = list(map(lambda x: x.strip(), line.strip().split(\"\\t\")))\n",
    "    rec += [\"\"]\n",
    "    print(rec)\n",
    "    place, read_id, seq, qual = rec[0:4]\n",
    "\n",
    "    rc_seq = rc(seq)\n",
    "    rc_qual = qual[::-1]\n",
    "\n",
    "    res = get_system_coords(seq, all_mm)\n",
    "    res_rc = get_system_coords(rc_seq, all_mm)\n",
    "\n",
    "#     both_dirs = res and res_rc\n",
    "#     dump_read(place, read_id, res, seq, id2primers, both_dirs, \"+\", qual, args.dump_linked_ids)\n",
    "#     dump_read(place, read_id, res_rc, rc_seq, id2primers, both_dirs, \"-\", qual, args.dump_linked_ids)\n",
    "\n",
    "# warn(\"\\nprocessed \" + str(cnt) + \" reads in \" + str_time(start_time) + \" ...\")\n",
    "# warn(\"\\ndone...\")"
   ]
  },
  {
   "cell_type": "code",
   "execution_count": 74,
   "metadata": {},
   "outputs": [],
   "source": [
    "def get_system_coords(seq, all_mm):\n",
    "    out = defaultdict(list)\n",
    "    for pat in all_mm:\n",
    "        mm = all_mm[pat][\"MM\"]\n",
    "        ins = all_mm[pat][\"INS\"]\n",
    "        dl = all_mm[pat][\"DEL\"]\n",
    "        pat_sys = all_mm[pat][\"SYS\"]\n",
    "        pat_type = all_mm[pat][\"TYPE\"]\n",
    "        pat_re_fuzzy = all_mm[pat][\"RE_FUZZY\"]\n",
    "        pat_id = all_mm[pat][\"ID\"]\n",
    "        found = fuzzy_find_seq(seq, pat, mm, ins, dl, pat_re_fuzzy, pat_type, pat_id)\n",
    "        print(found)\n",
    "        if found:\n",
    "            for sys in pat_sys:\n",
    "                out[sys] += found\n",
    "    res = {}\n",
    "    for sys in out:\n",
    "        pruned = prune_matches(out[sys], sys)\n",
    "        if pruned:\n",
    "            res[sys] = pruned\n",
    "    return res\n"
   ]
  },
  {
   "cell_type": "code",
   "execution_count": 83,
   "metadata": {},
   "outputs": [],
   "source": [
    "def fuzzy_find_seq(where, what, mm, ins, dl, what_re_fuzzy, pat_type = None, pat_id = None):\n",
    "    '''returns [(mm, from, to, substr)]'''\n",
    "    if mm < 0:\n",
    "        mm = 0\n",
    "        \n",
    "        \n",
    "    print(what_re_fuzzy)\n",
    "        \n",
    "    print(where, \"\\n\", what)\n",
    "    out = []\n",
    "    \n",
    "    print(what_re_fuzzy.find(where, overlapped=True))\n",
    "    positions = [(i.span()[0], i.span()[1], i[0], i.fuzzy_counts[0], i.fuzzy_counts[1], i.fuzzy_counts[2]) for i in what_re_fuzzy.finditer(where, overlapped=True)]\n",
    "\n",
    "    positions = filter(lambda x: x[3] <= mm and x[4] <= ins and x[5] <= dl, positions)\n",
    "    \n",
    "    for frm, to, match, dist_mm, dist_ins, dist_del in positions:\n",
    "        out.append((dist_mm + dist_ins + dist_del, frm, to, match, pat_type, pat_id))\n",
    "    if not out:\n",
    "        return None\n",
    "    return out"
   ]
  },
  {
   "cell_type": "code",
   "execution_count": 89,
   "metadata": {},
   "outputs": [],
   "source": [
    "re = all_mm['GTTTTAKATTAACTAWRTGGWATGTAAAK']['RE_FUZZY']"
   ]
  },
  {
   "cell_type": "code",
   "execution_count": 91,
   "metadata": {},
   "outputs": [
    {
     "data": {
      "text/plain": [
       "regex.Regex('(?:GTTTTAKATTAACTAWRTGGWATGTAAAK){s<=2,i<=0,d<=0}', flags=regex.V0)"
      ]
     },
     "execution_count": 91,
     "metadata": {},
     "output_type": "execute_result"
    }
   ],
   "source": [
    "re"
   ]
  },
  {
   "cell_type": "code",
   "execution_count": 90,
   "metadata": {},
   "outputs": [
    {
     "data": {
      "text/plain": [
       "[]"
      ]
     },
     "execution_count": 90,
     "metadata": {},
     "output_type": "execute_result"
    }
   ],
   "source": [
    "re.findall(raw[0])"
   ]
  },
  {
   "cell_type": "code",
   "execution_count": 84,
   "metadata": {},
   "outputs": [
    {
     "name": "stdout",
     "output_type": "stream",
     "text": [
      "regex.Regex('(?:GTTTTAKATTAACTAWRTGGWATGTAAAK){s<=2,i<=0,d<=0}', flags=regex.V0)\n",
      "ACTATGTGGAATGTAAATGAGGAGATTCAGACAGCGACTAAAAAGACTGATATAAAGTTTTAGATTAACTATATGGAATGTAAATAACTTTATATCTCCANTTGCATATCCATCTGATGAACGTTTTAGATTAACTATATGGAATGTAAAT \n",
      " GTTTTAKATTAACTAWRTGGWATGTAAAK\n",
      "<_regex.Scanner object at 0x5594137969d0>\n",
      "None\n",
      "regex.Regex('(?:ACTAWRTGGWATGTAAAK){s<=2,i<=0,d<=0}', flags=regex.V0)\n",
      "ACTATGTGGAATGTAAATGAGGAGATTCAGACAGCGACTAAAAAGACTGATATAAAGTTTTAGATTAACTATATGGAATGTAAATAACTTTATATCTCCANTTGCATATCCATCTGATGAACGTTTTAGATTAACTATATGGAATGTAAAT \n",
      " ACTAWRTGGWATGTAAAK\n",
      "<_regex.Scanner object at 0x5594137969d0>\n",
      "None\n",
      "regex.Regex('(?:GTTTTAKATTAACTAWRTGG){s<=2,i<=0,d<=0}', flags=regex.V0)\n",
      "ACTATGTGGAATGTAAATGAGGAGATTCAGACAGCGACTAAAAAGACTGATATAAAGTTTTAGATTAACTATATGGAATGTAAATAACTTTATATCTCCANTTGCATATCCATCTGATGAACGTTTTAGATTAACTATATGGAATGTAAAT \n",
      " GTTTTAKATTAACTAWRTGG\n",
      "<_regex.Scanner object at 0x5594137969d0>\n",
      "None\n"
     ]
    },
    {
     "data": {
      "text/plain": [
       "{}"
      ]
     },
     "execution_count": 84,
     "metadata": {},
     "output_type": "execute_result"
    }
   ],
   "source": [
    "get_system_coords(raw[0], all_mm)"
   ]
  },
  {
   "cell_type": "code",
   "execution_count": null,
   "metadata": {},
   "outputs": [],
   "source": [
    "fuzzy_find_seq(raw[0], )"
   ]
  },
  {
   "cell_type": "code",
   "execution_count": 2,
   "metadata": {},
   "outputs": [
    {
     "data": {
      "text/plain": [
       "'F'"
      ]
     },
     "execution_count": 2,
     "metadata": {},
     "output_type": "execute_result"
    }
   ],
   "source": [
    "False and 'T' or 'F'"
   ]
  },
  {
   "cell_type": "code",
   "execution_count": null,
   "metadata": {},
   "outputs": [],
   "source": []
  }
 ],
 "metadata": {
  "kernelspec": {
   "display_name": "Python 3",
   "language": "python",
   "name": "python3"
  },
  "language_info": {
   "codemirror_mode": {
    "name": "ipython",
    "version": 3
   },
   "file_extension": ".py",
   "mimetype": "text/x-python",
   "name": "python",
   "nbconvert_exporter": "python",
   "pygments_lexer": "ipython3",
   "version": "3.6.3"
  }
 },
 "nbformat": 4,
 "nbformat_minor": 2
}
