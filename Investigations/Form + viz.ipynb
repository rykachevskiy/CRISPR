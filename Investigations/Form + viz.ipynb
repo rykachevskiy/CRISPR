{
 "cells": [
  {
   "cell_type": "code",
   "execution_count": 26,
   "metadata": {},
   "outputs": [],
   "source": [
    "import numpy as np\n",
    "import matplotlib.pyplot as plt\n",
    "import os"
   ]
  },
  {
   "cell_type": "code",
   "execution_count": 2,
   "metadata": {},
   "outputs": [],
   "source": [
    "import pickle"
   ]
  },
  {
   "cell_type": "code",
   "execution_count": 3,
   "metadata": {},
   "outputs": [],
   "source": [
    "import sys\n",
    "sys.path.append(\"../\")"
   ]
  },
  {
   "cell_type": "code",
   "execution_count": 4,
   "metadata": {},
   "outputs": [],
   "source": [
    "import editdistance as ed\n",
    "import utils.hierarcical_utils as hu"
   ]
  },
  {
   "cell_type": "code",
   "execution_count": 5,
   "metadata": {},
   "outputs": [],
   "source": [
    "import utils.viz_utils as vu\n",
    "import utils.hamiltonian_utils as hamu\n",
    "from importlib import reload\n",
    "vu = reload(vu)\n",
    "hamu = reload(hamu)"
   ]
  },
  {
   "cell_type": "code",
   "execution_count": 6,
   "metadata": {},
   "outputs": [],
   "source": [
    "arrays = pickle.load(open(\"../../data/clostr_res/arrays_110\", 'rb'))\n",
    "cl_to_n = pickle.load(open(\"../../data/clostr_res/110_cl_to_n\", 'rb'))\n",
    "n_to_cl_full = pickle.load(open(\"../../data/clostr_res/n_to_cl_110\", 'rb'))\n",
    "nd = pickle.load(open(\"../../data/clostr_res/110_nd\", 'rb'))\n",
    "gr = np.load(\"../../data/clostr_res/110.npy\")"
   ]
  },
  {
   "cell_type": "code",
   "execution_count": 7,
   "metadata": {},
   "outputs": [],
   "source": [
    "\n",
    "n_to_cl = {}\n",
    "for item in cl_to_n.items():\n",
    "    n_to_cl[item[1]] = item[0]"
   ]
  },
  {
   "cell_type": "code",
   "execution_count": 8,
   "metadata": {},
   "outputs": [],
   "source": [
    "cl_to_n_full = {}\n",
    "for item in n_to_cl_full.items():\n",
    "    cl_to_n_full[item[1]] = item[0]"
   ]
  },
  {
   "cell_type": "code",
   "execution_count": 9,
   "metadata": {},
   "outputs": [],
   "source": [
    "with open(\"../../data/answers/Clo_009089.txt\", 'r') as f:\n",
    "    lines1 = [x[:-2] for x in f.readlines()]\n",
    "with open(\"../../data/answers/Clo_013316.txt\", 'r') as f:\n",
    "    lines2 = [x[:-2] for x in f.readlines()]"
   ]
  },
  {
   "cell_type": "code",
   "execution_count": 10,
   "metadata": {},
   "outputs": [],
   "source": [
    "lines1_s = [x.split(\",\")[1:] for x in lines1]\n",
    "lines2_s = [x.split(\",\")[1:] for x in lines2]"
   ]
  },
  {
   "cell_type": "code",
   "execution_count": 11,
   "metadata": {},
   "outputs": [],
   "source": [
    "answ1 = [[cl_to_n[hu.find_closest(cl_to_n, x)[1]] for x in y.split(',')[1:]] for y in lines1]"
   ]
  },
  {
   "cell_type": "code",
   "execution_count": 12,
   "metadata": {},
   "outputs": [],
   "source": [
    "answ2 = [[cl_to_n[hu.find_closest(cl_to_n, x)[1]] for x in y.split(',')[1:]] for y in lines2]"
   ]
  },
  {
   "cell_type": "code",
   "execution_count": 13,
   "metadata": {},
   "outputs": [],
   "source": [
    "rep = 'GTTTTATATTAACTAAGTGGTATGTAAAT'"
   ]
  },
  {
   "cell_type": "code",
   "execution_count": 14,
   "metadata": {},
   "outputs": [],
   "source": [
    "arrays, weights = hamu.restore_arrays(gr, 10)"
   ]
  },
  {
   "cell_type": "code",
   "execution_count": 15,
   "metadata": {
    "scrolled": true
   },
   "outputs": [
    {
     "data": {
      "text/plain": [
       "[138, 182, 98, 6, 96, 31, 37, 146, 115, 39, 211, 126, 112, 56, 174, 147, 93]"
      ]
     },
     "execution_count": 15,
     "metadata": {},
     "output_type": "execute_result"
    }
   ],
   "source": [
    "arrays[0]"
   ]
  },
  {
   "cell_type": "code",
   "execution_count": 16,
   "metadata": {},
   "outputs": [],
   "source": [
    "answ = answ1 + answ2\n",
    "answ_m = np.array([10] * len(answ1) + [1] * len(answ2))"
   ]
  },
  {
   "cell_type": "code",
   "execution_count": 17,
   "metadata": {},
   "outputs": [],
   "source": [
    "arrays_m = np.zeros(len(arrays))"
   ]
  },
  {
   "cell_type": "code",
   "execution_count": 18,
   "metadata": {},
   "outputs": [],
   "source": [
    "for i, arr in enumerate(arrays):\n",
    "    arrays_m[i] = answ_m[hamu.search_best_alignment(arr, answ, 2)[1]]"
   ]
  },
  {
   "cell_type": "code",
   "execution_count": 19,
   "metadata": {
    "scrolled": true
   },
   "outputs": [
    {
     "data": {
      "text/plain": [
       "array([10., 10., 10., 10., 10., 10.,  1., 10., 10., 10.,  1.,  1.,  1.,\n",
       "        1.,  1.,  1.,  1.,  1.,  1.])"
      ]
     },
     "execution_count": 19,
     "metadata": {},
     "output_type": "execute_result"
    }
   ],
   "source": [
    "arrays_m"
   ]
  },
  {
   "cell_type": "code",
   "execution_count": 20,
   "metadata": {},
   "outputs": [],
   "source": [
    "arrays_str = [rep + rep.join([n_to_cl[x] for x in arr]) + rep for arr in arrays]"
   ]
  },
  {
   "cell_type": "code",
   "execution_count": 21,
   "metadata": {},
   "outputs": [],
   "source": [
    "# for i, arr in enumerate(arrays):\n",
    "#     with open(\"../../data/seqs/arr\" + str(i), 'w') as f:\n",
    "#         f.write(rep + rep.join([n_to_cl[x] for x in arr]) + rep)"
   ]
  },
  {
   "cell_type": "code",
   "execution_count": 28,
   "metadata": {},
   "outputs": [],
   "source": [
    "def split_by_repeat(single_array_str, single_secondary, single_weights, repeat, c = 1, window = 0):\n",
    "    spacers = single_array_str.split(rep)[1:-1]\n",
    "    weights_elong = [0] + single_weights + [0]\n",
    "\n",
    "    parts = []\n",
    "    secondary_parts = []\n",
    "    amp = []\n",
    "    for i, sp in enumerate(spacers):\n",
    "        pos = single_array_str.find(sp)\n",
    "        start, end  = pos - window, pos + len(sp) + window\n",
    "        \n",
    "        parts.append(single_array_str[start:end])\n",
    "        secondary_parts.append(single_secondary[start:end])\n",
    "        amp.append((weights_elong[i] + weights_elong[i+1]) / c)\n",
    "\n",
    "    return parts, secondary_parts, amp"
   ]
  },
  {
   "cell_type": "code",
   "execution_count": 29,
   "metadata": {},
   "outputs": [],
   "source": [
    "def prepare_dataset_from_path(path, arrays=arrays, arrays_m=arrays_m, weights=weights):\n",
    "    secondary = [0 for i in range(len(arrays))]\n",
    "    energy = [0 for i in range(len(arrays))]\n",
    "    \n",
    "    for f in os.listdir(path):\n",
    "        pos = int(f[3:])\n",
    "        secondary[pos] = [x[:-1] for x in open(path + f).readlines()][1].split(\" \")[0]\n",
    "        energy[pos] = float([x[:-1] for x in open(path + f)\n",
    "                             .readlines()][1].split(\" \")[-1].translate({ord(')'):None,ord('('):None}))\n",
    "\n",
    "    energy = np.array(energy)\n",
    "    \n",
    "    X1, X2, Y  = [], [], []\n",
    "    for arr, sc, w, c in zip(arrays_str, secondary, weights, arrays_m):\n",
    "        x1, x2, y = split_by_repeat(arr, sc, w, rep, c)\n",
    "        X1.extend(x1)\n",
    "        X2.extend(x2)\n",
    "        Y.extend(y)\n",
    "\n",
    "    return X1,X2,np.array([y / 1000 for y in Y])"
   ]
  },
  {
   "cell_type": "code",
   "execution_count": 30,
   "metadata": {},
   "outputs": [],
   "source": [
    "def save_dataset(dataset, save_path):\n",
    "    if not os.path.exists(save_path):\n",
    "        os.makedirs(save_path)\n",
    "    with open(save_path + \"/X_nuc\", 'w') as f:\n",
    "        f.write(\"\\n\".join(dataset[0]))\n",
    "    with open(save_path + \"/X_struct\", 'w') as f:\n",
    "        f.writelines(\"\\n\".join(dataset[1]))\n",
    "    np.save(save_path + \"/Y\", dataset[2])"
   ]
  },
  {
   "cell_type": "code",
   "execution_count": 39,
   "metadata": {},
   "outputs": [
    {
     "name": "stdout",
     "output_type": "stream",
     "text": [
      "answs_55  answs_70  arr1   arr12  arr15  arr18\tarr4  arr7  dataset_60\r\n",
      "answs_60  answs_75  arr10  arr13  arr16  arr2\tarr5  arr8  process.sh\r\n",
      "answs_65  arr0\t    arr11  arr14  arr17  arr3\tarr6  arr9  rna.ps\r\n"
     ]
    }
   ],
   "source": [
    "! ls ../../data/seqs/"
   ]
  },
  {
   "cell_type": "code",
   "execution_count": 40,
   "metadata": {
    "scrolled": true
   },
   "outputs": [],
   "source": [
    "for i in [55, 60,65,70,75]:\n",
    "    path = \"../../data/seqs/answs_\" + str(i) + \"/\"\n",
    "    save_dataset(prepare_dataset_from_path(path), \"../../data/struct_datasets/\" + str(i))"
   ]
  },
  {
   "cell_type": "code",
   "execution_count": 112,
   "metadata": {},
   "outputs": [
    {
     "data": {
      "text/plain": [
       "['TTAGCTTCATAGCTTATTTTCTTTATTACTTCAATTT',\n",
       " 'AAGGTTTGACCTGCGTTTTTATATGCATCTGAATAA',\n",
       " 'CGAGTTGGCATCCAAGCATTTTTCACAGATTTTAATA',\n",
       " 'ACGATATTTTTATATTCTATTGTTGTTATCTTATTC',\n",
       " 'AGGTATACACCTTCTACTCTTGTAAGAGTACCATAA',\n",
       " 'TCAAAATTATTTAGTTATACTAAACATTATATTAT',\n",
       " 'TGAAACAAAATGCTGATGCAAGAAAAGAAAGTATCCGT',\n",
       " 'CGAATTTCATGGCTTTGAATTTATTTATATGTAGTT',\n",
       " 'CCAATTAAGTTACTAGATAAAAAAATAGAACAAATTA',\n",
       " 'ACAAAAAAACGTATAATAAAAATAATTTCTATCTCT',\n",
       " 'CATATTCTTCATTTATCCCTATTCTATCTAATATT',\n",
       " 'TTTAAAAGGTCAACTTAAAGGTAGTAATTTTTTAAT',\n",
       " 'TATCAAAAAATCCCCTCACCTGCATACTTATATAAA',\n",
       " 'CAAAGTGCTAGGTCACTAAATGATGCAACAGTAGACG',\n",
       " 'CCTGTATTCTGTTTAATGCTTCAATAGCTCTTTCT',\n",
       " 'TATCTAAAACCCAATAGGATTGACACGTTACGACC',\n",
       " 'AGGATAAAGAAAAGACTCACACAAGACACAGTGTCA',\n",
       " 'CTAGAATTAGAACTCATTATTAAAACCATTCTTGCAAG',\n",
       " 'TAATCTGACACATACAAAGTTGAACCTAGTGGTACG',\n",
       " 'AAAAGCGTTCTTAAATCGTTACTTAACTCTTGCAAA',\n",
       " 'TGGTATATCATACTCGTGCATTGCCTGCTCCACATT',\n",
       " 'ATACAACCATATATTTACCAATTATGTACTTATGAA',\n",
       " 'TTTTTTAACTTTTCAGTTCTCACAGGCGTTTCATC',\n",
       " 'TTCATATTCCAAGCGTTTTGCTTACACTTAATAGAA',\n",
       " 'AAAATTAAATTTCATGCTCTTAGACATACATATGCAA',\n",
       " 'TAGATTGCTTTCAAATTACCTCTTGTATAGCGTCTT',\n",
       " 'TTGCTCCGCTATGCCTTGCGCTCTCTAATATCGCTTA',\n",
       " 'TGAACTTTAATCGGTTTTATACAACAATATAACGC',\n",
       " 'TCACACATGAGCAATATCGAAACAGGCAAATCTACA',\n",
       " 'TTCGTAAAATAACAATTATCTGGAATATGAGAAGTT',\n",
       " 'CACTCTTAAGTTGTGACCTATCTGATATATGATTAA',\n",
       " 'TCAATATCTATATTAAGTTTATTTTTAAAAACATCT',\n",
       " 'GTAGAGTCTTTATATGGTAGAGGTGGAATATATAAGT',\n",
       " 'AACTCTTCAATATCTCCTAATCGTTCAATATAATTCT',\n",
       " 'ACTGTATGCCATCTAAATGCATCATACAAACTTATTT',\n",
       " 'TATACTTCCTAATGCAATCAAATAAGTACCTAAAAT',\n",
       " 'TTCGCAACTTATGATGGTGAAATGATTACATTAACAG',\n",
       " 'AATATAACAAAGTGGATGTTCTCTAAAAATAAAGAG',\n",
       " 'GTTTGAGAACGCTGTATAAAGCTTGTAGCTAGTTCTT',\n",
       " 'GTTGCATCATTAAATATTTTCCCTACAAACTCTTTTC',\n",
       " 'AGTACATACAAAGAGTCTATAAAATTATCTATAAAG',\n",
       " 'TAAAACCACTCAATTCTTAAAAGATACTGCAATTATT',\n",
       " 'GGACATTTTAACCATAGACTATTTTACAAACAAACTT',\n",
       " 'GGAGATTTAAAAGTTAACAACATAAAAATGATAGATA',\n",
       " 'TGGTGAACAATAAAACAATCATCTAAAGACGAAGAAAA',\n",
       " 'ATAATCCAGAAGATGATACACTTCTTGAACAATATATT',\n",
       " 'CTATCAATATATATTTTATAAGCATAAGTTTTACGCAT',\n",
       " 'AACAACGTCATATATATCATCTTTAGTTGTAAGAGCA',\n",
       " 'AGTTATGTCAAATTATTAGAAACTAAAAACCTAGTTG',\n",
       " 'AATATCTAAAAAAAACGACTTATATCCCATTTCTAC',\n",
       " 'AATTTAGAAAAGGACTATTAGGAAGCAAAGAAAAAAT',\n",
       " 'AAAGTAAATCCTAGAGCATAACCAATTTTCGTAGG',\n",
       " 'CTCCTTTCATTTCTCCTTTAGCTTCATAGCTTATTTT',\n",
       " 'CTTTTTCCGAAAAACCATTACTTACAAAATCTACA',\n",
       " 'AACGTACAAAATGTAGCTATTATCATCTTTTAGATAG',\n",
       " 'GAGGAGATTCAGACAGCGACTAAAAAGACTGATATAAA',\n",
       " 'AACTTTATATCTCCATTTGCATATCCATCTGATGAA',\n",
       " 'GCGTACAAGGTTGAGAAGCTCCGCAATCTCAACGTCGT',\n",
       " 'ATTTGAAAGGAATAAATTTTAAATGAATGAAAGGATA',\n",
       " 'CAGCCAAAAACTTCGAATTTGAACTAAAATGCGTGG',\n",
       " 'TCTCATGACTATTGAATAAATATAATAAACAAGCATA',\n",
       " 'AAAAGTTGCACGCCTATTTGATTTTTCAATACATTA',\n",
       " 'GACAAAGCGACTATTACTATCTCAGGTGATAAAAAT',\n",
       " 'GAAGAACAATAAAACAATCATCTAAACACGAAGAA',\n",
       " 'GTTCCTGTTGTGTTTTTTACTAATCCCATTTTATAT',\n",
       " 'TGCTGTGATTTCACTAATAAAACAATTAATAATTG',\n",
       " 'TTAATTTATCTATAATTTAAAACGGTGAATTACATAT',\n",
       " 'TAAAGAGGGGTACTTCGTACTTTTACCACTCAAACTA',\n",
       " 'AGGTCAAGCATAGATTTTGCAACTGGAAGATAAGAAGA',\n",
       " 'GTTTTAGAACAGAAAAAATTGTATAAATTGTGGAATG',\n",
       " 'TTGTAAAATGTAAATAGCATATTAATTTTTCTTTCA',\n",
       " 'TGGAGCATTATGTTTTTAGGTTACGGAGCAACATTTA',\n",
       " 'GGTGATAGTGGAAGTTTTACTTATACTTGGCGTGCT',\n",
       " 'TTCAGAATACTTAGCTCCTGCGCCTATATCGTCTGAAT',\n",
       " 'AAAGTTTTGCGCATTGTATGTGTGCCTAGATTATC',\n",
       " 'ATGTCCCCACATCAATTTTCCTCCGCATGAAAAAAT',\n",
       " 'TTTAGAAACAACAGAATAAACATAATATATAAGCATA',\n",
       " 'TTTTACTTTTCCTTTCTATGTGTCCAATTCGGACACAT',\n",
       " 'CTTATACTTAGTTAGAACTATATATCGACACAAATA',\n",
       " 'AAAGGTGTCCATTGATTTCTTTCAGTTTCGGGAATA',\n",
       " 'TGTTTTCCATAAACATTTCTAATTGACTTTTATTGT',\n",
       " 'TATCCTTGTATTTGCCTAACGCGATATAGAGCAAAAA',\n",
       " 'GCTATAGAAGTAGCAGACTTAGGAACATCAGAAAAA',\n",
       " 'TTGTTTAGGTCAAGTCTAATTTGACGTATTAAAGTAT',\n",
       " 'CGTATTAACACCTGTTCGGCACTATCACAATAAACACA',\n",
       " 'AAGCTTTCATAGCATCCTCTTCTGAACATTCATCACT',\n",
       " 'TAGTAAGTTAACTCATACATACCACCTTCCCCATAA',\n",
       " 'TATTATAAATCTTTAAATAGCCTTCTAAGCGTCTACT',\n",
       " 'ACATTATCAACATCATCTAATTTTTTTGTCACTGTA',\n",
       " 'TAAGAATTAACTAATGTGAATTTTTTAGACATGTCA',\n",
       " 'ACAAACAAGTGTAGGATAAACTTTCCTTGCCCAGTATA',\n",
       " 'TAACAAAATTTGCGAGTACACTTATTTCTAATATAT',\n",
       " 'ATAAGAGTGGTTTAAGAAAATAAGTTATTTTTCAA',\n",
       " 'TGACTCGTGCTATTTTTTTTACACGCCTAAGAGGTA',\n",
       " 'CGAAAAATCTAGGAAAAACTATTGTAAAAGCGTTTA',\n",
       " 'TTTGATTACATGGGCAGTTTTTTATTATAGAGTGTT',\n",
       " 'AAAAATCTTATTAAAGATTATTCAAAGTCTTTTGAT',\n",
       " 'AACAAAAAAGATACATCTGTAACTAATTTTTATAC',\n",
       " 'TATCTATTATTGGTATATTAAATGATTCTAATAATTC',\n",
       " 'ATGTTCACATTGACAGCTCAAGATAAACATGGAATT',\n",
       " 'TTAAATCGTTTGATTGGAAGTATAAATTATAATGACC',\n",
       " 'GCTGAAAGTTTAAAAGTTTTAACTATAAATTCAGTT',\n",
       " 'TCTTTTTCTAATGCTTTTTTTACATATGGAGCTAA',\n",
       " 'CCATCAGCCTTATCCTGTGCAAATAATAGTGCCAA',\n",
       " 'AGGAGATAACTTCTATTAAAGATAACTTTGATGTGGT',\n",
       " 'CTCAAAGTTGGACTAGCTTCATCTTTTAATTTTACAAG',\n",
       " 'AAGCAACTATAGTAGAAGCAAAAGCGACAACAACTAAAG',\n",
       " 'TTGGTTAACTTAAGTGCTATGAAAGGAATTAATGAA',\n",
       " 'TTAAAGGTGCAAGTCTTAATACTTGTTACATGAGT',\n",
       " 'AACAAAGAACCATTTGAATCACGAAAACTAAAAAACA',\n",
       " 'TTATTAACCTTATCAGAAACCTGACCATCCCAATTAT',\n",
       " 'TCCATTTGTCTAATGCTTCTAACTCTTTTTTTATA',\n",
       " 'TCCAAAATGGGCTTGGAGTTAAGAGTTGTATAAGAAAC',\n",
       " 'TAATTACACACTCCCTTTTAACGAACATATTTTAGAT',\n",
       " 'AGACTCGACATAGAATCGGTTACTAAATCCGAGGGTTTCAG',\n",
       " 'ACTAAACCTTTTTGTTTACTTTTATTTCTCATTTTA',\n",
       " 'CCGGATTTTTCTGCTTCGACTGTTGTTATTGAGACTT',\n",
       " 'AGTAATTCCATGCAATCTTTTATATTGCTTTTTAACC',\n",
       " 'AGATATACAAGGTGAAAGTGTTGAAATTTCAATCTT',\n",
       " 'ATTCTTAGATGTTATAATTTGTGTTGCATTTAAATC',\n",
       " 'ACAATATTATTGTTCATTTCATTTAATAATTCTAGT',\n",
       " 'TTGTTTATACCTTTAATCTTTAAAATTAAATATAAA',\n",
       " 'CATTGTATACTAAGCTTGATATAGTGCAAAATGAAAC',\n",
       " 'ACTAATTGGGTTAAACAAATGGATATAACTAAATTA',\n",
       " 'CCAACCCTTCGCACGAATCCGTGCGACGAAATATAAA',\n",
       " 'TGTAAAAATATTGCTTAGCATATTGATATCACTAAC',\n",
       " 'ACAAGAGGTTTTTCAGCAATATATGTACTTCTATAAT',\n",
       " 'TCATCAATATTAATTTTGGGAATATCAACATTTTTTG',\n",
       " 'GCGATAAGAGATTCGAGTCTTTTTACTGGGCTTAATC',\n",
       " 'GTTGTAAGAAGTATCATTCTATTTTTTAATCTTTCT',\n",
       " 'TTCAGTGAGAATAAGCTTTATTGTCGATGTAACACT',\n",
       " 'AGTACATATAATGAGTCTTTAACATCAGTTATGAAAG',\n",
       " 'GATTGTACTTTAGCGTCTGCACTAGCTTTGTCTATC',\n",
       " 'TATTTTACAGATGAACAATTACAGTTACTTCTTGAA',\n",
       " 'AGGTTTTTCAGAAGTATATGTACGTCTATATTGTAAA',\n",
       " 'AAGGAAGGTGGAAGTCAATATGCATGGGTCAAATGG',\n",
       " 'ACGAAATTAGAGTTTGAAATATATGACTACATAATA',\n",
       " 'TTGTGTCACATCATTGTCACTTCTTTAGAATATCAAA',\n",
       " 'TTTTAAGCAGGTGATTAAATGATTAAAAAAGTAGAAAA',\n",
       " 'AATAACTTGTCAATGTAGTTATATGCAACAACTTCTAT',\n",
       " 'GAATTATATATTATGAAAAAATATGGAGTCACAGAG',\n",
       " 'TTGCAGGTTTTCCTTATAGTTTGCCATATGTTCCTG',\n",
       " 'TACTTTAGCACTAGTAAAGGTAGAATTATTAAAG',\n",
       " 'TCGAATGTGAATGGCACTTCTATTTCTCCAACTTTT',\n",
       " 'CTTTGTAATGGTAGTGTATTTAAGATTGAAACATCAA',\n",
       " 'CAACATTAGTAGTTGTCTTTATACACATAGCATCAC',\n",
       " 'ACAGCTCCCAAGACATACAACGAATCTGTAACATCAGT',\n",
       " 'GACTTATTTACAGCTTTATTTGCTAAATCAGAA',\n",
       " 'TTATAAACTCCCACGACAAAATTAACTATAACCTCGT',\n",
       " 'AGTTTTAAAGAGGGCAGACCTAAAAAATATACTAAAA',\n",
       " 'GCAGAAGATTTAGCGACTGTTGTTGCTGAATGGGATG',\n",
       " 'ATTAAATTGCTCAGTCTAGTACTTAAAGAATTATAA',\n",
       " 'TTGCTATGATTTAATTATACGACGTTTTGTCTTTAAAG',\n",
       " 'TGCTGTGCCACAATTTGATGCTTCTATAGCTAAATTC',\n",
       " 'CTTTTAAGTGCATCAAAGGAGTTACAAGCTATATTT',\n",
       " 'TCTCCATCTCCAATTAACATAAATAATTCATCCGCTG',\n",
       " 'CCGCTTGGCAAATCATAAGAAGGATTATTTTCTCCAAC',\n",
       " 'AAAATAAAAGAGTTTGAATTACCCATTTTTTCAT',\n",
       " 'TACGACATTGAATAAAATGGGTACAGAGACAATTTATAA',\n",
       " 'TTTATAAATCTTTTAATGACTGTCTCTGATGGTACA',\n",
       " 'AAAGGAATAGATGATATGATTGCTAATGCTGAACAACA',\n",
       " 'TTACTAAACATCTTATAACTTCTCTGAGAGCCTCTAG',\n",
       " 'AGAGGCAACTAATTGCTTATGAGTCTGCTAGTCTTA',\n",
       " 'CTCGGAGAATTTCCTAATGTGGATTTAATAGGAAGT',\n",
       " 'TTTAGCAAATTTTTCGTAAAAGTCACTATTTTCAAT',\n",
       " 'ACATATAAAACTTTCATCTTCTGTTAATTCATTAAAA',\n",
       " 'TAGGATTGGTGTGTTACGACCACACAACGCTGGACT',\n",
       " 'AGTGAATTTGGCGAACTCGATATAGAGAAAAAAATAAAG',\n",
       " 'GAAGTTTTTAATGTTGTCGCGACTCTTGCTGTTGCT',\n",
       " 'CTGCTTTGGCTTTTGGTCGTATAATGCTCCTTATAATA',\n",
       " 'TTAAATCTAGCATCAGTCATTAGTATAAAATTTCCT',\n",
       " 'AATAAAAAAGGTATAGTTTTCTTCTTAGTTACTGCCA',\n",
       " 'TGTTATAATATTAAAACACAACTAAAATATACAGAA',\n",
       " 'TCTAGTTTTTTCTCTTTAGAAAAAATAAAAACAAC',\n",
       " 'TAAAATTGTGTTTTCTCTTTCATACACCCACTTCATT']"
      ]
     },
     "execution_count": 112,
     "metadata": {},
     "output_type": "execute_result"
    }
   ],
   "source": [
    "prepare_dataset_from_path(path)[0]"
   ]
  },
  {
   "cell_type": "code",
   "execution_count": 82,
   "metadata": {},
   "outputs": [],
   "source": [
    "secondary = [0 for i in range(len(arrays))]\n",
    "energy = [0 for i in range(len(arrays))]"
   ]
  },
  {
   "cell_type": "code",
   "execution_count": 40,
   "metadata": {},
   "outputs": [],
   "source": [
    "import os\n",
    "path = \"../../data/seqs/answs_60/\"\n",
    "for f in os.listdir(path):\n",
    "    pos = int(f[3:])\n",
    "    secondary[pos] = [x[:-1] for x in open(path + f).readlines()][1].split(\" \")[0]\n",
    "    energy[pos] = float([x[:-1] for x in open(path + f)\n",
    "                         .readlines()][1].split(\" \")[-1].translate({ord(')'):None,ord('('):None}))\n",
    "    \n",
    "energy = np.array(energy)"
   ]
  },
  {
   "cell_type": "code",
   "execution_count": 42,
   "metadata": {},
   "outputs": [
    {
     "data": {
      "text/plain": [
       "<matplotlib.collections.PathCollection at 0x7f43cb3c96a0>"
      ]
     },
     "execution_count": 42,
     "metadata": {},
     "output_type": "execute_result"
    },
    {
     "data": {
      "image/png": "[encoded data removed]",
      "text/plain": [
       "<matplotlib.figure.Figure at 0x7f43cd5ade48>"
      ]
     },
     "metadata": {},
     "output_type": "display_data"
    }
   ],
   "source": [
    "mask = arrays_m == 1\n",
    "#plt.scatter(energy, [np.mean(x) for x in arrays])\n",
    "plt.scatter(energy[mask], [np.median(x) for x in np.array(arrays)[mask]])\n",
    "# plt.scatter(energy, [np.max(x) for x in arrays])\n",
    "# plt.scatter(energy, [np.min(x) for x in arrays])"
   ]
  },
  {
   "cell_type": "code",
   "execution_count": 44,
   "metadata": {},
   "outputs": [],
   "source": [
    "X1, X2, Y  = [],[],[]\n",
    "for arr, sc, w, c in zip(arrays_str, secondary, weights, arrays_m):\n",
    "    x1, x2, y = split_by_repeat(arr, sc, w, rep, c)\n",
    "    X1.extend(x1)\n",
    "    X2.extend(x2)\n",
    "    Y.extend(y)"
   ]
  },
  {
   "cell_type": "code",
   "execution_count": 45,
   "metadata": {},
   "outputs": [
    {
     "name": "stdout",
     "output_type": "stream",
     "text": [
      "2109.9 ..((((....)))).........))))))))((((((\n",
      "3693.0 ...((((....(((((......)))))...))))..\n",
      "4716.4 )))))))(((((((((((((....(((((.....(((\n",
      "5058.2 .((............(((((((((((......((((\n",
      "2788.9 .((.((((...((((..(((((((..((((((((.(\n",
      "1284.3 .......((((((((((....((((((......))\n",
      "1759.8 ...........)))..)))))))..)))).))))))..\n",
      "2680.0 )))))......(((((((.(((((.(((...(((((\n",
      "9848.7 )))....))))).((((((..((((((((......((\n",
      "11391.0 ))...............................)))\n",
      "4114.5 )))))....)))))).........)))))).....\n",
      "2166.8 .(((((((((..(((.......))).))))))))).\n",
      "1850.7 ....................))))))))........\n",
      "4837.0 ))))))..(((....)))......)))))))))))))\n",
      "5690.7 .))))..)))))..))))))...............\n",
      "2528.2 .............(((((((((((((.......((\n",
      "758.9 .)).....((......))............))))))\n",
      "4394.5 .((((...................((((((.(((((((\n",
      "6475.5 .........))))))..))))).(((....)))(((\n",
      "3526.0 )))).)))...................))))))))(\n",
      "5881.9 (((((............(((.....)))........\n",
      "6010.8 .))))))))).....)))))))))))))).)))..)\n",
      "2763.6 ...................((((((..........\n",
      "3257.5 ((((((((((((((.....)))..((((((......\n",
      "3845.8 ........)))))))))))))))...(((((((...(\n",
      "3874.4 ((((((((((..............((((((((....\n",
      "5091.0 ......)))))))).....((((....((((((((((\n",
      "6305.7 ...................................\n",
      "5055.6 ))))....))))...........)))).))))))..\n",
      "4121.4 ....................))))))))))))....\n",
      "2929.7 ..........))))))........((((((.(((.(\n",
      "552.8 .................................)))\n",
      "2600.2 ..(((((.((((((((.((....(((...((((((..\n",
      "3817.5 .)))))...............((((((..........\n",
      "3152.6 .(((((((..(((......(((((((...((((((((\n",
      "3102.8 ))))))...)))))....))))))))).........\n",
      "2716.6 .))))....))))))).......)))..)))..))))\n",
      "1549.1 ............)))))).(((((........))))\n",
      "457.1 .........(((((((((((((((.....(((.....\n",
      "2892.5 .((((((((((..........................\n",
      "2435.4 ..)))))))....))).))))))))...)))...))\n",
      "486.0 ....((((((...........................\n",
      "1705.4 ..(((((((.(((((............(((((....)\n",
      "3185.0 ((.(((......................((((((((.\n",
      "4368.6 )))).....)))))))......................\n",
      "3786.7 (((......((((.........))))......))))))\n",
      "3138.3 )))))).............((((((..((...))..))\n",
      "3962.9 ..........((((((((((..((((((((((((...\n",
      "3657.9 ..............................(((.(((\n",
      "2102.0 ..............)).))))).))))))))..)))\n",
      "1313.0 ................................)))))\n",
      "660.6 .....(((((((((((...........))).))))\n",
      "540.8 ...................((((....)))).....(\n",
      "937.9 .............))))))............((((\n",
      "711.2 .(((((.((((((.......((((((((...((((((\n",
      "1115.4 (((....)))).))))).))).........((((((((\n",
      "1117.1 )))))))))))..((((((((((.((((.....(((\n",
      "929.8 (((......(((((((.((...))..)))))))..)))\n",
      "1166.6 .....................................\n",
      "1208.2 ..))))))))))))......((((((...(((.((.\n",
      "1159.8 ...))).)))))).....)))))))....)).)))))\n",
      "863.6 .....))))).))).)))))..............((\n",
      "1241.3 )...............)))))).)))))))).....\n",
      "897.1 .......................((((((((.(((\n",
      "2359.7 .)))...))))))))...........)))))).)))\n",
      "2344.5 .)))))).........))))))))...........\n",
      "1493.0 .................((((((((((...(((((((\n",
      "4307.0 ....((((....)))).......(((((((.....((\n",
      "7318.0 (((.((.(((((.....(((((((((((((........\n",
      "11436.0 ............................((((.....\n",
      "9436.0 .))))))))........))))........)))))))\n",
      "11290.0 (((((((((.......(((((...(((((..((((((\n",
      "13574.0 (((...(((((.....)))))...)))..)))))).\n",
      "9990.0 ..))...)))))))))))...))))).........)))\n",
      "9068.0 .......)))).....))))).))))))...))))\n",
      "4751.0 ......((((..............((((......))\n",
      "2170.0 ........................((((((..((.((\n",
      "1532.0 ................(((((((((.....))))))))\n",
      "247.0 ....))))))))))....))))))))).........\n",
      "838.7 ..((((((..(((((......)))))...(((((..\n",
      "1044.4 ...)))))................(((((((.((((\n",
      "617.4 ............((((......((((((((((.....\n",
      "994.9 (((((....)))))).))))))))))).))).))))\n",
      "1069.5 .....((.(((((((...))))))).))....(((((\n",
      "486.3 )))))).)))))).....))).))))))..........\n",
      "318.5 ..(((.....))).........(((....))).((((\n",
      "554.3 ((((...........((((((((((.....((((.(\n",
      "325.6 ..............(((((((.(((((...(((((..\n",
      "512.6 ))...........................((((.((\n",
      "723.9 ...........))))))))).....)))))......\n",
      "845.6 ))..........((((.......))))(((((((((((\n",
      "880.8 ...(((((((((((....((((((.((((.......\n",
      "610.8 ))))))........)))).................\n",
      "803.2 .....))))))))))...(((((.(((....((..(\n",
      "1247.4 ..............(((((((.(((....)))..))\n",
      "975.7 ))))..))).))))))...........))))).)))\n",
      "334.2 ...((((((....)))))).......(((((((..(\n",
      "77.2 )))).))))))).........)))))))).)))))\n",
      "324.8 .((((.....((((((((.((((((..........))\n",
      "864.4 (((((....((((....))))....)))))).....\n",
      "1235.1 .....................................\n",
      "1356.0 (((((..(((((..(((....))).)))))))))).\n",
      "1165.7 ...................))))))))(((((((.\n",
      "920.7 ((((((...(((((..............(((((((\n",
      "1104.6 (((((....))))))))...)))))...))))).)))\n",
      "689.1 .(((....)))..)))))))................))\n",
      "3209.0 ....((((((((((((((((.................((\n",
      "6434.0 )))))))............(((((((..((((((((\n",
      "5563.0 ........((((((......)))))).........\n",
      "5274.0 ........)))))))).....................\n",
      "4133.0 ))))))))))).))))))))))...............\n",
      "2304.0 .))))))).....)))))))).........)))))\n",
      "3718.0 (((((.......))))))))...((((((((((((...\n",
      "3604.0 ....))).))))............)))))))))))..\n",
      "4657.0 ((((((((.((((((.((((((..((((((((((((((.((\n",
      "5365.0 .)))))))))..................((((((.(\n",
      "5974.0 .)))))))...(((....((((((.........((((\n",
      "7261.0 )))........)))..................)))))\n",
      "6375.0 ......(((((((..((((......))))..)))))\n",
      "7663.0 ((((((((................((((((......\n",
      "4887.0 ((...(((((((...........)))))))....))\n",
      "995.0 .....)))))).................(((((((.\n",
      "1645.0 .....))))))..)))))....))))))..(((((((\n",
      "3641.0 ))))....)))))......((((((((((((..(((\n",
      "5488.0 ))).....(((((((....)))))))...(((((((.\n",
      "5516.0 ..(((.........)))..))....)))))))))))\n",
      "6812.0 (((((((((.................))))))....)\n",
      "5793.0 ...............))))))))))..))))..))))\n",
      "1389.0 )).)).......)))))))).)))))...)))))...\n",
      "1775.0 ....(((((((((.......................\n",
      "3104.0 .......(((..(((((....(((.(((((..((((\n",
      "2684.0 ..)))))))............................\n",
      "5043.0 ............))))).)))..)))))..)))...\n",
      "3688.0 ...))))))................)))))))))..\n",
      "426.0 (((((....(((((((.....................\n",
      "1950.0 ((((((..((.((((..((((((.............\n",
      "3434.0 ))....)))).........(((((((((((((..((\n",
      "2519.0 .........(((((((((((((.((((((((((((.(\n",
      "1906.0 .)))))).)))))))..))))))...............\n",
      "3490.0 ............)))))))))))))....(((((((.(\n",
      "3658.0 ...))))))))))).....))))))))).)).))))\n",
      "3708.0 )).))....))))))))....)))))).......((\n",
      "3997.0 .....)).)))))))....)))))))))......\n",
      "1754.0 ..........))).))))).)))))))..)))))..\n",
      "1397.0 ((((....(((((........................\n",
      "2833.0 ))...)))))((((((.(((....(((((.(((...\n",
      "3345.0 ))))))...................((((((....(((\n",
      "1909.0 .)))...)))))).......))))).....)))\n",
      "200.0 ........(((((...................((..(\n",
      "698.0 (((.......(((.....))).........))))...\n",
      "2056.0 )))..))..((((((((....)))))))).)))))..\n",
      "1996.0 ........((((......((((((((((........\n",
      "1014.0 (((((((.(((((..((((.(((.(((.......))).\n",
      "1650.0 )...)))))))........(((.....))).......\n",
      "1074.0 .)))))))))).......)))))))).)))))....\n",
      "590.0 ............................(((((((((\n",
      "1222.0 )))))((((((.(((((.......((((((..(((...\n",
      "735.0 ...................(((((((((((((((\n",
      "1498.0 ....))).)))).))))))))))((((((((((((((((\n",
      "1582.0 )))))))))...........))))))))........\n",
      "187.0 ...)))..)))))))))))))))))..((((.....))\n",
      "1106.0 .............................(((((((.\n",
      "1106.0 ))))))...................(((((..((((\n",
      "691.0 ....((((((((((((.((......)).))))))))\n",
      "1015.0 ((....))))))..))))....)))))..))))...\n",
      "324.0 ..((((((((((((....................)))\n",
      "269.0 ...(((((((((..(((((((((....((((..(((\n",
      "608.0 )))......))))..(((......)))............\n",
      "486.0 ..................((((((...(((...((.\n",
      "298.0 ..))...)))....))))))...(((((.(((((((((\n",
      "217.0 .........)))))))))..((((((((((((((.(\n",
      "119.0 ....................)).)))))))).(((((\n",
      "102.0 ..............................))))))\n",
      "60.0 ....(((((((((....))))))))).........\n",
      "11.0 ......................((((.((((((..((\n"
     ]
    }
   ],
   "source": [
    "for a,b in zip(X2, Y):\n",
    "    print(b, a)"
   ]
  },
  {
   "cell_type": "code",
   "execution_count": 46,
   "metadata": {},
   "outputs": [],
   "source": [
    "def x2_to_vector_1(x2, max_len=41):\n",
    "    vec = np.zeros(max_len)\n",
    "    for i,c in enumerate(x2):\n",
    "        if c=='(':\n",
    "            vec[i] = -1\n",
    "        elif c == ')':\n",
    "            vec[i] = 1\n",
    "    return vec"
   ]
  },
  {
   "cell_type": "code",
   "execution_count": 47,
   "metadata": {},
   "outputs": [],
   "source": [
    "X2_1 = np.stack([x2_to_vector_1(x) for x in X2])"
   ]
  },
  {
   "cell_type": "code",
   "execution_count": 48,
   "metadata": {},
   "outputs": [
    {
     "data": {
      "text/plain": [
       "(175, 41)"
      ]
     },
     "execution_count": 48,
     "metadata": {},
     "output_type": "execute_result"
    }
   ],
   "source": [
    "X2_1.shape"
   ]
  },
  {
   "cell_type": "code",
   "execution_count": 68,
   "metadata": {},
   "outputs": [],
   "source": [
    "Y = np.array(Y) / 1000"
   ]
  },
  {
   "cell_type": "code",
   "execution_count": 59,
   "metadata": {},
   "outputs": [],
   "source": [
    "from sklearn.linear_model import LinearRegression\n",
    "from sklearn.svm import SVR\n",
    "from sklearn.neural_network import multilayer_perceptron\n",
    "from sklearn.ensemble import RandomForestRegressor"
   ]
  },
  {
   "cell_type": "code",
   "execution_count": 60,
   "metadata": {},
   "outputs": [],
   "source": [
    "lr = RandomForestRegressor()"
   ]
  },
  {
   "cell_type": "code",
   "execution_count": 69,
   "metadata": {},
   "outputs": [
    {
     "data": {
      "text/plain": [
       "RandomForestRegressor(bootstrap=True, criterion='mse', max_depth=None,\n",
       "           max_features='auto', max_leaf_nodes=None,\n",
       "           min_impurity_decrease=0.0, min_impurity_split=None,\n",
       "           min_samples_leaf=1, min_samples_split=2,\n",
       "           min_weight_fraction_leaf=0.0, n_estimators=10, n_jobs=1,\n",
       "           oob_score=False, random_state=None, verbose=0, warm_start=False)"
      ]
     },
     "execution_count": 69,
     "metadata": {},
     "output_type": "execute_result"
    }
   ],
   "source": [
    "lr.fit(X2_1[:120], Y[:120])"
   ]
  },
  {
   "cell_type": "code",
   "execution_count": 70,
   "metadata": {},
   "outputs": [
    {
     "data": {
      "text/plain": [
       "2.550359813905298"
      ]
     },
     "execution_count": 70,
     "metadata": {},
     "output_type": "execute_result"
    }
   ],
   "source": [
    "np.sqrt(np.mean((lr.predict(X2_1[120:]) - Y[120:])**2))"
   ]
  },
  {
   "cell_type": "code",
   "execution_count": 71,
   "metadata": {},
   "outputs": [
    {
     "data": {
      "text/plain": [
       "[<matplotlib.lines.Line2D at 0x7f43c5398400>]"
      ]
     },
     "execution_count": 71,
     "metadata": {},
     "output_type": "execute_result"
    },
    {
     "data": {
      "image/png": "[encoded data removed]",
      "text/plain": [
       "<matplotlib.figure.Figure at 0x7f43c5431780>"
      ]
     },
     "metadata": {},
     "output_type": "display_data"
    }
   ],
   "source": [
    "plt.plot(lr.predict(X2_1[120:]))\n",
    "plt.plot(Y[120:])"
   ]
  },
  {
   "cell_type": "code",
   "execution_count": null,
   "metadata": {},
   "outputs": [],
   "source": []
  },
  {
   "cell_type": "code",
   "execution_count": 10,
   "metadata": {},
   "outputs": [
    {
     "data": {
      "text/plain": [
       "1"
      ]
     },
     "execution_count": 10,
     "metadata": {},
     "output_type": "execute_result"
    }
   ],
   "source": [
    "repeat = 'GTTTTATATTAACTAAGTGGTATGTAAAT'\n",
    "repeat1 = \"GTTTTATATTAACTAAGTGGTATGTAAAG\" \n",
    "ed.eval(repeat, repeat1)"
   ]
  },
  {
   "cell_type": "code",
   "execution_count": 90,
   "metadata": {},
   "outputs": [],
   "source": [
    "weights1 = [[nd[n_to_cl[x]] for x in y] for y in answ1]\n",
    "weights2 = [[nd[n_to_cl[x]] for x in y] for y in answ2]"
   ]
  },
  {
   "cell_type": "code",
   "execution_count": 52,
   "metadata": {},
   "outputs": [],
   "source": [
    "strs1 = [repeat + repeat.join(x) + repeat for x in lines1_s]\n",
    "strs2 = [repeat + repeat.join(x) + repeat for x in lines2_s]"
   ]
  },
  {
   "cell_type": "code",
   "execution_count": 82,
   "metadata": {},
   "outputs": [
    {
     "ename": "ValueError",
     "evalue": "invalid literal for int() with base 10: '-178.40'",
     "output_type": "error",
     "traceback": [
      "\u001b[0;31m---------------------------------------------------------------------------\u001b[0m",
      "\u001b[0;31mValueError\u001b[0m                                Traceback (most recent call last)",
      "\u001b[0;32m<ipython-input-82-6906ae2c188d>\u001b[0m in \u001b[0;36m<module>\u001b[0;34m()\u001b[0m\n\u001b[1;32m      1\u001b[0m \u001b[0;32mfor\u001b[0m \u001b[0ma\u001b[0m\u001b[0;34m,\u001b[0m\u001b[0mb\u001b[0m \u001b[0;32min\u001b[0m \u001b[0mzip\u001b[0m\u001b[0;34m(\u001b[0m\u001b[0;34m[\u001b[0m\u001b[0mx\u001b[0m\u001b[0;34m[\u001b[0m\u001b[0;36m1\u001b[0m\u001b[0;34m]\u001b[0m\u001b[0;34m.\u001b[0m\u001b[0msplit\u001b[0m\u001b[0;34m(\u001b[0m\u001b[0;34m)\u001b[0m\u001b[0;34m[\u001b[0m\u001b[0;36m1\u001b[0m\u001b[0;34m]\u001b[0m \u001b[0;32mfor\u001b[0m \u001b[0mx\u001b[0m \u001b[0;32min\u001b[0m \u001b[0msecondary_1\u001b[0m\u001b[0;34m]\u001b[0m\u001b[0;34m,\u001b[0m \u001b[0;34m[\u001b[0m\u001b[0mnp\u001b[0m\u001b[0;34m.\u001b[0m\u001b[0mmedian\u001b[0m\u001b[0;34m(\u001b[0m\u001b[0mx\u001b[0m\u001b[0;34m)\u001b[0m \u001b[0;32mfor\u001b[0m \u001b[0mx\u001b[0m \u001b[0;32min\u001b[0m \u001b[0mweights1\u001b[0m\u001b[0;34m]\u001b[0m\u001b[0;34m)\u001b[0m\u001b[0;34m:\u001b[0m\u001b[0;34m\u001b[0m\u001b[0m\n\u001b[0;32m----> 2\u001b[0;31m     \u001b[0mint\u001b[0m\u001b[0;34m(\u001b[0m\u001b[0ma\u001b[0m\u001b[0;34m[\u001b[0m\u001b[0;36m1\u001b[0m\u001b[0;34m:\u001b[0m\u001b[0;34m-\u001b[0m\u001b[0;36m1\u001b[0m\u001b[0;34m]\u001b[0m\u001b[0;34m)\u001b[0m\u001b[0;34m,\u001b[0m \u001b[0mb\u001b[0m\u001b[0;34m\u001b[0m\u001b[0m\n\u001b[0m",
      "\u001b[0;31mValueError\u001b[0m: invalid literal for int() with base 10: '-178.40'"
     ]
    }
   ],
   "source": [
    "for a,b in zip([x[1].split()[1] for x in secondary_1], [np.median(x) for x in weights1]):\n",
    "    int(a[1:-1]), b"
   ]
  },
  {
   "cell_type": "code",
   "execution_count": 86,
   "metadata": {},
   "outputs": [
    {
     "data": {
      "text/plain": [
       "[<matplotlib.lines.Line2D at 0x7f132887dd68>]"
      ]
     },
     "execution_count": 86,
     "metadata": {},
     "output_type": "execute_result"
    },
    {
     "data": {
      "image/png": "[encoded data removed]",
      "text/plain": [
       "<matplotlib.figure.Figure at 0x7f1328b46278>"
      ]
     },
     "metadata": {},
     "output_type": "display_data"
    }
   ],
   "source": [
    "plt.plot([float(x[1].split()[1][1:-1]) for x in secondary_1], [np.median(x) for x in weights1])"
   ]
  },
  {
   "cell_type": "code",
   "execution_count": 91,
   "metadata": {},
   "outputs": [
    {
     "data": {
      "text/plain": [
       "[<matplotlib.lines.Line2D at 0x7f1320ea4c18>]"
      ]
     },
     "execution_count": 91,
     "metadata": {},
     "output_type": "execute_result"
    },
    {
     "data": {
      "image/png": "[encoded data removed]",
      "text/plain": [
       "<matplotlib.figure.Figure at 0x7f1320feada0>"
      ]
     },
     "metadata": {},
     "output_type": "display_data"
    }
   ],
   "source": [
    "plt.plot([float(x[1].split()[1][1:-1]) for x in secondary_2], [np.median(x) for x in weights2])"
   ]
  },
  {
   "cell_type": "code",
   "execution_count": null,
   "metadata": {},
   "outputs": [],
   "source": []
  },
  {
   "cell_type": "code",
   "execution_count": 19,
   "metadata": {},
   "outputs": [],
   "source": [
    "arrays, weights = hamu.restore_arrays(gr, 0)"
   ]
  },
  {
   "cell_type": "code",
   "execution_count": null,
   "metadata": {},
   "outputs": [],
   "source": []
  }
 ],
 "metadata": {
  "kernelspec": {
   "display_name": "Python 3",
   "language": "python",
   "name": "python3"
  },
  "language_info": {
   "codemirror_mode": {
    "name": "ipython",
    "version": 3
   },
   "file_extension": ".py",
   "mimetype": "text/x-python",
   "name": "python",
   "nbconvert_exporter": "python",
   "pygments_lexer": "ipython3",
   "version": "3.6.3"
  }
 },
 "nbformat": 4,
 "nbformat_minor": 2
}
