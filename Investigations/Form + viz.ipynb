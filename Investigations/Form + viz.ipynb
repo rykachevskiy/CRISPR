{
 "cells": [
  {
   "cell_type": "code",
   "execution_count": 1,
   "metadata": {},
   "outputs": [],
   "source": [
    "import numpy as np\n",
    "import matplotlib.pyplot as plt"
   ]
  },
  {
   "cell_type": "code",
   "execution_count": 2,
   "metadata": {},
   "outputs": [],
   "source": [
    "import pickle"
   ]
  },
  {
   "cell_type": "code",
   "execution_count": 3,
   "metadata": {},
   "outputs": [],
   "source": [
    "import sys\n",
    "sys.path.append(\"../\")"
   ]
  },
  {
   "cell_type": "code",
   "execution_count": 4,
   "metadata": {},
   "outputs": [],
   "source": [
    "import editdistance as ed\n",
    "import utils.hierarcical_utils as hu"
   ]
  },
  {
   "cell_type": "code",
   "execution_count": 5,
   "metadata": {},
   "outputs": [],
   "source": [
    "import utils.viz_utils as vu\n",
    "import utils.hamiltonian_utils as hamu\n",
    "from importlib import reload\n",
    "vu = reload(vu)\n",
    "hamu = reload(hamu)"
   ]
  },
  {
   "cell_type": "code",
   "execution_count": 6,
   "metadata": {},
   "outputs": [],
   "source": [
    "arrays = pickle.load(open(\"../../data/clostr_res/arrays_110\", 'rb'))\n",
    "cl_to_n = pickle.load(open(\"../../data/clostr_res/110_cl_to_n\", 'rb'))\n",
    "n_to_cl_full = pickle.load(open(\"../../data/clostr_res/n_to_cl_110\", 'rb'))\n",
    "nd = pickle.load(open(\"../../data/clostr_res/110_nd\", 'rb'))\n",
    "gr = np.load(\"../../data/clostr_res/110.npy\")"
   ]
  },
  {
   "cell_type": "code",
   "execution_count": 7,
   "metadata": {},
   "outputs": [],
   "source": [
    "\n",
    "n_to_cl = {}\n",
    "for item in cl_to_n.items():\n",
    "    n_to_cl[item[1]] = item[0]"
   ]
  },
  {
   "cell_type": "code",
   "execution_count": 8,
   "metadata": {},
   "outputs": [],
   "source": [
    "cl_to_n_full = {}\n",
    "for item in n_to_cl_full.items():\n",
    "    cl_to_n_full[item[1]] = item[0]"
   ]
  },
  {
   "cell_type": "code",
   "execution_count": 9,
   "metadata": {},
   "outputs": [],
   "source": [
    "with open(\"../../data/answers/Clo_009089.txt\", 'r') as f:\n",
    "    lines1 = [x[:-2] for x in f.readlines()]\n",
    "with open(\"../../data/answers/Clo_013316.txt\", 'r') as f:\n",
    "    lines2 = [x[:-2] for x in f.readlines()]"
   ]
  },
  {
   "cell_type": "code",
   "execution_count": 14,
   "metadata": {},
   "outputs": [],
   "source": [
    "lines1_s = [x.split(\",\")[1:] for x in lines1]\n",
    "lines2_s = [x.split(\",\")[1:] for x in lines2]"
   ]
  },
  {
   "cell_type": "code",
   "execution_count": 15,
   "metadata": {},
   "outputs": [],
   "source": [
    "answ1 = [[cl_to_n[hu.find_closest(cl_to_n, x)[1]] for x in y.split(',')[1:]] for y in lines1]"
   ]
  },
  {
   "cell_type": "code",
   "execution_count": 16,
   "metadata": {},
   "outputs": [],
   "source": [
    "answ2 = [[cl_to_n[hu.find_closest(cl_to_n, x)[1]] for x in y.split(',')[1:]] for y in lines2]"
   ]
  },
  {
   "cell_type": "code",
   "execution_count": 38,
   "metadata": {},
   "outputs": [],
   "source": [
    "rep = 'GTTTTATATTAACTAAGTGGTATGTAAAT'"
   ]
  },
  {
   "cell_type": "code",
   "execution_count": 11,
   "metadata": {},
   "outputs": [],
   "source": [
    "arrays, weights = hamu.restore_arrays(gr, 10)"
   ]
  },
  {
   "cell_type": "code",
   "execution_count": 17,
   "metadata": {
    "scrolled": true
   },
   "outputs": [
    {
     "data": {
      "text/plain": [
       "[138, 182, 98, 6, 96, 31, 37, 146, 115, 39, 211, 126, 112, 56, 174, 147, 93]"
      ]
     },
     "execution_count": 17,
     "metadata": {},
     "output_type": "execute_result"
    }
   ],
   "source": [
    "arrays[0]"
   ]
  },
  {
   "cell_type": "code",
   "execution_count": 26,
   "metadata": {},
   "outputs": [],
   "source": [
    "answ = answ1 + answ2\n",
    "answ_m = np.array([10] * len(answ1) + [1] * len(answ2))"
   ]
  },
  {
   "cell_type": "code",
   "execution_count": 32,
   "metadata": {},
   "outputs": [],
   "source": [
    "arrays_m = np.zeros(len(arrays))"
   ]
  },
  {
   "cell_type": "code",
   "execution_count": 35,
   "metadata": {},
   "outputs": [],
   "source": [
    "for i, arr in enumerate(arrays):\n",
    "    arrays_m[i] = answ_m[hamu.search_best_alignment(arr, answ, 2)[1]]"
   ]
  },
  {
   "cell_type": "code",
   "execution_count": 36,
   "metadata": {
    "scrolled": true
   },
   "outputs": [
    {
     "data": {
      "text/plain": [
       "array([10., 10., 10., 10., 10., 10.,  1., 10., 10., 10.,  1.,  1.,  1.,\n",
       "        1.,  1.,  1.,  1.,  1.,  1.])"
      ]
     },
     "execution_count": 36,
     "metadata": {},
     "output_type": "execute_result"
    }
   ],
   "source": [
    "arrays_m"
   ]
  },
  {
   "cell_type": "code",
   "execution_count": 79,
   "metadata": {},
   "outputs": [],
   "source": [
    "arrays_str = [rep + rep.join([n_to_cl[x] for x in arr]) + rep for arr in arrays]"
   ]
  },
  {
   "cell_type": "code",
   "execution_count": 40,
   "metadata": {},
   "outputs": [],
   "source": [
    "for i, arr in enumerate(arrays):\n",
    "    with open(\"../../data/seqs/arr\" + str(i), 'w') as f:\n",
    "        f.write(rep + rep.join([n_to_cl[x] for x in arr]) + rep)"
   ]
  },
  {
   "cell_type": "code",
   "execution_count": 111,
   "metadata": {},
   "outputs": [],
   "source": [
    "secondary = [0 for i in range(len(arrays))]\n",
    "energy = [0 for i in range(len(arrays))]"
   ]
  },
  {
   "cell_type": "code",
   "execution_count": 152,
   "metadata": {},
   "outputs": [],
   "source": [
    "import os\n",
    "for f in os.listdir(\"../../data/seqs/answs/\"):\n",
    "    pos = int(f[3:])\n",
    "    secondary[pos] = [x[:-1] for x in open(\"../../data/seqs/answs/\" + f).readlines()][1].split(\" \")[0]\n",
    "    energy[pos] = float([x[:-1] for x in open(\"../../data/seqs/answs/\" + f)\n",
    "                         .readlines()][1].split(\" \")[-1].translate({ord(')'):None,ord('('):None}))\n",
    "    "
   ]
  },
  {
   "cell_type": "code",
   "execution_count": 153,
   "metadata": {},
   "outputs": [
    {
     "data": {
      "text/plain": [
       "<matplotlib.collections.PathCollection at 0x7f1d7ba02080>"
      ]
     },
     "execution_count": 153,
     "metadata": {},
     "output_type": "execute_result"
    },
    {
     "data": {
      "image/png": "[encoded data removed]",
      "text/plain": [
       "<matplotlib.figure.Figure at 0x7f1d7ba78e80>"
      ]
     },
     "metadata": {},
     "output_type": "display_data"
    }
   ],
   "source": [
    "plt.scatter(energy, [np.mean(x) for x in arrays])\n",
    "#plt.scatter(energy, [np.median(x) for x in arrays])\n",
    "# plt.scatter(energy, [np.max(x) for x in arrays])\n",
    "# plt.scatter(energy, [np.min(x) for x in arrays])"
   ]
  },
  {
   "cell_type": "code",
   "execution_count": 205,
   "metadata": {},
   "outputs": [],
   "source": [
    "def split_by_repeat(single_array_str, single_secondary, single_weights, repeat, c = 1, window = 0):\n",
    "    spacers = single_array_str.split(rep)[1:-1]\n",
    "    weights_elong = [0] + single_weights + [0]\n",
    "\n",
    "    parts = []\n",
    "    secondary_parts = []\n",
    "    amp = []\n",
    "    for i, sp in enumerate(spacers):\n",
    "        pos = single_array_str.find(sp)\n",
    "        start, end  = pos - window, pos + len(sp) + window\n",
    "        \n",
    "        parts.append(single_array_str[start:end])\n",
    "        secondary_parts.append(single_secondary[start:end])\n",
    "        amp.append((weights_elong[i] + weights_elong[i+1]) / c)\n",
    "\n",
    "    return parts, secondary_parts, amp"
   ]
  },
  {
   "cell_type": "code",
   "execution_count": 210,
   "metadata": {},
   "outputs": [],
   "source": [
    "X1, X2, Y  = [],[],[]\n",
    "for arr, sc, w, c in zip(arrays_str, secondary, weights, arrays_m):\n",
    "    x1, x2, y = split_by_repeat(arr, sc, w, rep, c)\n",
    "    X1.extend(x1)\n",
    "    X2.extend(x2)\n",
    "    Y.extend(y)"
   ]
  },
  {
   "cell_type": "code",
   "execution_count": 215,
   "metadata": {},
   "outputs": [
    {
     "name": "stdout",
     "output_type": "stream",
     "text": [
      "2109.9 ..((((....)))).......................\n",
      "3693.0 ...........(((((......))))).........\n",
      "4716.4 (..(((((.............................\n",
      "5058.2 ...............(((((((((((..........\n",
      "2788.9 ((((....))))(((..(((((((..((((((((.(\n",
      "1284.3 .......((((((((((....((((((......))\n",
      "1759.8 ...........)))..)))))))..)))..........\n",
      "2680.0 ....................................\n",
      "9848.7 ..........)))))..))..................\n",
      "11391.0 ....................................\n",
      "4114.5 ...................................\n",
      "2166.8 ....................................\n",
      "1850.7 ....................((((((((........\n",
      "4837.0 ........................)))))))))))..\n",
      "5690.7 .................(((.....))).......\n",
      "2528.2 ..........)))))..)))).......))).)))\n",
      "758.9 ....................................\n",
      "4394.5 ........................((((((.(((((((\n",
      "6475.5 .........))))))........(((....)))...\n",
      "3526.0 ...........................)))))))).\n",
      "5881.9 (((((............(((.....)))........\n",
      "6010.8 .))))))))).....))))))))...))))))....\n",
      "2763.6 ...................(((((...........\n",
      "3257.5 ((((((((((((((((........((((((......\n",
      "3845.8 .....................................\n",
      "3874.4 ....................................\n",
      "5091.0 .))).))))).......))))).....((((((((((\n",
      "6305.7 ...................................\n",
      "5055.6 ....................................\n",
      "4121.4 ....................))))))))))).....\n",
      "2929.7 )))).......)))))....................\n",
      "552.8 ....................................\n",
      "2600.2 .....................................\n",
      "3817.5 .....................................\n",
      "3152.6 .....................................\n",
      "3102.8 ....................................\n",
      "2716.6 .....................................\n",
      "1549.1 ....................................\n",
      "457.1 .....................................\n",
      "2892.5 .....................................\n",
      "2435.4 ....................................\n",
      "486.0 ....((((((...........................\n",
      "1705.4 ...............................(((((.\n",
      "3185.0 ...............................((..((\n",
      "4368.6 ......................................\n",
      "3786.7 .......(((((........))))).............\n",
      "3138.3 ......................................\n",
      "3962.9 ..........))))))))))..))))))))))))..)\n",
      "3657.9 ..............................(((..((\n",
      "2102.0 ..............)).)))))..............\n",
      "1313.0 .....................................\n",
      "660.6 .....((((((((..................))))\n",
      "540.8 ...........(((((((.((((....))))......\n",
      "937.9 ...................................\n",
      "711.2 .))))))..............................\n",
      "1115.4 ))))))).....((((((....................\n",
      "1117.1 ...)))))))..)))))))......(((((((....\n",
      "929.8 (((((((..(((((((.((...))..)))))))....)\n",
      "1166.6 .....................................\n",
      "1208.2 ...........((((....)))).....))))))..\n",
      "1159.8 .....................................\n",
      "863.6 ......)))).))).)))))................\n",
      "1241.3 .....................)))))))........\n",
      "897.1 ...................................\n",
      "2359.7 ....................................\n",
      "2344.5 ))))))....)))))....................\n",
      "1493.0 ..............................(((((((\n",
      "4307.0 .......................(((((((.......\n",
      "7318.0 ......................................\n",
      "11436.0 ............................((((((...\n",
      "9436.0 ....................................\n",
      "11290.0 ................(((((...(((((..((((((\n",
      "13574.0 ...((((((..((((.........)))).....)))\n",
      "9990.0 .............)))))...)))))............\n",
      "9068.0 ........((((((.....))))))..........\n",
      "4751.0 .....................)))))).........\n",
      "2170.0 .....................................\n",
      "1532.0 ................(((((((((.....))))))))\n",
      "247.0 ....))))))))))......................\n",
      "838.7 ....................................\n",
      "1044.4 ...............................(((((\n",
      "617.4 ))))))))....((((..(((................\n",
      "994.9 (((((....)))))).....................\n",
      "1069.5 .....((..((((((...))))))..)).........\n",
      "486.3 ............)))..))))..........)))))))\n",
      "318.5 .....................................\n",
      "554.3 ...............((((((((((...........\n",
      "325.6 .....................................\n",
      "512.6 .............................((((..(\n",
      "723.9 ....................................\n",
      "845.6 ..........................(((((((.....\n",
      "880.8 (.....))))))))....))))))............\n",
      "610.8 ...................................\n",
      "803.2 .....)))))))))).....................\n",
      "1247.4 ....................................\n",
      "975.7 ..........)))))))...................\n",
      "334.2 ....................................\n",
      "77.2 ...................................\n",
      "324.8 .....................................\n",
      "864.4 ....................................\n",
      "1235.1 .....................................\n",
      "1356.0 ....................................\n",
      "1165.7 .........................(((((((((.\n",
      "920.7 ............................(((((((\n",
      "1104.6 (((((....))))))))....................\n",
      "689.1 .............)))))))))................\n",
      "3209.0 (((((.............................(((((\n",
      "6434.0 )))))))..((((((((...................\n",
      "5563.0 ........(((((((((((((..............\n",
      "5274.0 ........((((((((.....................\n",
      "4133.0 ...............(((((((((....(((......\n",
      "2304.0 .)))))))...........................\n",
      "3718.0 (((((.......))))))))..................\n",
      "3604.0 .....................................\n",
      "4657.0 ................................)))..))))\n",
      "5365.0 ))))................................\n",
      "5974.0 .((((....)))).............)))))))))))\n",
      "7261.0 .....................................\n",
      "6375.0 ......((((((((((...........))).)))))\n",
      "7663.0 .........................))))))))...\n",
      "4887.0 ....................................\n",
      "995.0 ........))))))).....................\n",
      "1645.0 .....................................\n",
      "3641.0 ))))....))))).......................\n",
      "5488.0 ........(((((((....)))))))...........\n",
      "5516.0 ...........))))))........))))))))...\n",
      "6812.0 .....................................\n",
      "5793.0 .....................................\n",
      "1389.0 .....................................\n",
      "1775.0 ....(((((((((.......................\n",
      "3104.0 .....(((..(((.....)))..)))..........\n",
      "2684.0 .....................................\n",
      "5043.0 ....................................\n",
      "3688.0 ...))))))................)))))))))..\n",
      "426.0 .....................................\n",
      "1950.0 ....................................\n",
      "3434.0 ....................................\n",
      "2519.0 .....................................\n",
      "1906.0 ......................................\n",
      "3490.0 ......................................\n",
      "3658.0 .......................(((((....((((\n",
      "3708.0 .)))).................((((........))\n",
      "3997.0 ..................................\n",
      "1754.0 ...............))))))....)))))......\n",
      "1397.0 .....................................\n",
      "2833.0 ....................................\n",
      "3345.0 ......................................\n",
      "1909.0 .................................\n",
      "200.0 ........(((((........................\n",
      "698.0 ..........(((.....)))................\n",
      "2056.0 ..........(((((((....)))))))..)))))..\n",
      "1996.0 ................((..(((((...........\n",
      "1014.0 .)))))..))))).......(((.....))).......\n",
      "1650.0 ))).)))))))..........................\n",
      "1074.0 ....................................\n",
      "590.0 ...............................(((((.\n",
      "1222.0 )))))))...............................\n",
      "735.0 ...................((((((((((.....\n",
      "1498.0 .............))))))))))((((((((........\n",
      "1582.0 ....................))))))))........\n",
      "187.0 ......................................\n",
      "1106.0 .............................(((((((.\n",
      "1106.0 ))))))...................(((((..((((\n",
      "691.0 ....................................\n",
      "1015.0 ....................................\n",
      "324.0 .....................................\n",
      "269.0 ...(((((((((..((((((((.....((((..(((\n",
      "608.0 )))......))))..........................\n",
      "486.0 ..................(((.....))).......\n",
      "298.0 .............))))))))...............((\n",
      "217.0 .........)))))))))..(((((((((((.....\n",
      "119.0 ................................(((((\n",
      "102.0 ....................................\n",
      "60.0 ...................................\n",
      "11.0 ...........................))))))....\n"
     ]
    }
   ],
   "source": [
    "for a,b in zip(X2, Y):\n",
    "    print(b, a)"
   ]
  },
  {
   "cell_type": "code",
   "execution_count": 218,
   "metadata": {},
   "outputs": [],
   "source": [
    "def x2_to_vector_1(x2, max_len=41):\n",
    "    vec = np.zeros(max_len)\n",
    "    for i,c in enumerate(x2):\n",
    "        if c=='(':\n",
    "            vec[i] = -1\n",
    "        elif c == ')':\n",
    "            vec[i] = 1\n",
    "    return vec"
   ]
  },
  {
   "cell_type": "code",
   "execution_count": 223,
   "metadata": {},
   "outputs": [],
   "source": [
    "X2_1 = np.stack([x2_to_vector_1(x) for x in X2])"
   ]
  },
  {
   "cell_type": "code",
   "execution_count": 228,
   "metadata": {},
   "outputs": [
    {
     "data": {
      "text/plain": [
       "(175, 41)"
      ]
     },
     "execution_count": 228,
     "metadata": {},
     "output_type": "execute_result"
    }
   ],
   "source": [
    "X2_1.shape"
   ]
  },
  {
   "cell_type": "code",
   "execution_count": 241,
   "metadata": {},
   "outputs": [],
   "source": [
    "from sklearn.linear_model import LinearRegression\n",
    "from sklearn.svm import SVR\n",
    "from sklearn.neural_network import multilayer_perceptron"
   ]
  },
  {
   "cell_type": "code",
   "execution_count": 238,
   "metadata": {},
   "outputs": [
    {
     "data": {
      "text/plain": [
       "SVR(C=1.0, cache_size=200, coef0=0.0, degree=3, epsilon=0.1, gamma='auto',\n",
       "  kernel='rbf', max_iter=-1, shrinking=True, tol=0.001, verbose=False)"
      ]
     },
     "execution_count": 238,
     "metadata": {},
     "output_type": "execute_result"
    }
   ],
   "source": [
    "lr.fit(X2_1[:120], Y[:120])"
   ]
  },
  {
   "cell_type": "code",
   "execution_count": 239,
   "metadata": {},
   "outputs": [
    {
     "data": {
      "text/plain": [
       "1742.7716653011257"
      ]
     },
     "execution_count": 239,
     "metadata": {},
     "output_type": "execute_result"
    }
   ],
   "source": [
    "np.sqrt(np.mean((lr.predict(X2_1[120:]) - Y[120:])**2))"
   ]
  },
  {
   "cell_type": "code",
   "execution_count": 240,
   "metadata": {},
   "outputs": [
    {
     "data": {
      "text/plain": [
       "[<matplotlib.lines.Line2D at 0x7f1d76a4c908>]"
      ]
     },
     "execution_count": 240,
     "metadata": {},
     "output_type": "execute_result"
    },
    {
     "data": {
      "image/png": "[encoded data removed]",
      "text/plain": [
       "<matplotlib.figure.Figure at 0x7f1d76a13c18>"
      ]
     },
     "metadata": {},
     "output_type": "display_data"
    }
   ],
   "source": [
    "plt.plot(lr.predict(X2_1[120:]))\n",
    "plt.plot(Y[120:])"
   ]
  },
  {
   "cell_type": "code",
   "execution_count": null,
   "metadata": {},
   "outputs": [],
   "source": []
  },
  {
   "cell_type": "code",
   "execution_count": 10,
   "metadata": {},
   "outputs": [
    {
     "data": {
      "text/plain": [
       "1"
      ]
     },
     "execution_count": 10,
     "metadata": {},
     "output_type": "execute_result"
    }
   ],
   "source": [
    "repeat = 'GTTTTATATTAACTAAGTGGTATGTAAAT'\n",
    "repeat1 = \"GTTTTATATTAACTAAGTGGTATGTAAAG\" \n",
    "ed.eval(repeat, repeat1)"
   ]
  },
  {
   "cell_type": "code",
   "execution_count": 90,
   "metadata": {},
   "outputs": [],
   "source": [
    "weights1 = [[nd[n_to_cl[x]] for x in y] for y in answ1]\n",
    "weights2 = [[nd[n_to_cl[x]] for x in y] for y in answ2]"
   ]
  },
  {
   "cell_type": "code",
   "execution_count": 52,
   "metadata": {},
   "outputs": [],
   "source": [
    "strs1 = [repeat + repeat.join(x) + repeat for x in lines1_s]\n",
    "strs2 = [repeat + repeat.join(x) + repeat for x in lines2_s]"
   ]
  },
  {
   "cell_type": "code",
   "execution_count": 82,
   "metadata": {},
   "outputs": [
    {
     "ename": "ValueError",
     "evalue": "invalid literal for int() with base 10: '-178.40'",
     "output_type": "error",
     "traceback": [
      "\u001b[0;31m---------------------------------------------------------------------------\u001b[0m",
      "\u001b[0;31mValueError\u001b[0m                                Traceback (most recent call last)",
      "\u001b[0;32m<ipython-input-82-6906ae2c188d>\u001b[0m in \u001b[0;36m<module>\u001b[0;34m()\u001b[0m\n\u001b[1;32m      1\u001b[0m \u001b[0;32mfor\u001b[0m \u001b[0ma\u001b[0m\u001b[0;34m,\u001b[0m\u001b[0mb\u001b[0m \u001b[0;32min\u001b[0m \u001b[0mzip\u001b[0m\u001b[0;34m(\u001b[0m\u001b[0;34m[\u001b[0m\u001b[0mx\u001b[0m\u001b[0;34m[\u001b[0m\u001b[0;36m1\u001b[0m\u001b[0;34m]\u001b[0m\u001b[0;34m.\u001b[0m\u001b[0msplit\u001b[0m\u001b[0;34m(\u001b[0m\u001b[0;34m)\u001b[0m\u001b[0;34m[\u001b[0m\u001b[0;36m1\u001b[0m\u001b[0;34m]\u001b[0m \u001b[0;32mfor\u001b[0m \u001b[0mx\u001b[0m \u001b[0;32min\u001b[0m \u001b[0msecondary_1\u001b[0m\u001b[0;34m]\u001b[0m\u001b[0;34m,\u001b[0m \u001b[0;34m[\u001b[0m\u001b[0mnp\u001b[0m\u001b[0;34m.\u001b[0m\u001b[0mmedian\u001b[0m\u001b[0;34m(\u001b[0m\u001b[0mx\u001b[0m\u001b[0;34m)\u001b[0m \u001b[0;32mfor\u001b[0m \u001b[0mx\u001b[0m \u001b[0;32min\u001b[0m \u001b[0mweights1\u001b[0m\u001b[0;34m]\u001b[0m\u001b[0;34m)\u001b[0m\u001b[0;34m:\u001b[0m\u001b[0;34m\u001b[0m\u001b[0m\n\u001b[0;32m----> 2\u001b[0;31m     \u001b[0mint\u001b[0m\u001b[0;34m(\u001b[0m\u001b[0ma\u001b[0m\u001b[0;34m[\u001b[0m\u001b[0;36m1\u001b[0m\u001b[0;34m:\u001b[0m\u001b[0;34m-\u001b[0m\u001b[0;36m1\u001b[0m\u001b[0;34m]\u001b[0m\u001b[0;34m)\u001b[0m\u001b[0;34m,\u001b[0m \u001b[0mb\u001b[0m\u001b[0;34m\u001b[0m\u001b[0m\n\u001b[0m",
      "\u001b[0;31mValueError\u001b[0m: invalid literal for int() with base 10: '-178.40'"
     ]
    }
   ],
   "source": [
    "for a,b in zip([x[1].split()[1] for x in secondary_1], [np.median(x) for x in weights1]):\n",
    "    int(a[1:-1]), b"
   ]
  },
  {
   "cell_type": "code",
   "execution_count": 86,
   "metadata": {},
   "outputs": [
    {
     "data": {
      "text/plain": [
       "[<matplotlib.lines.Line2D at 0x7f132887dd68>]"
      ]
     },
     "execution_count": 86,
     "metadata": {},
     "output_type": "execute_result"
    },
    {
     "data": {
      "image/png": "[encoded data removed]",
      "text/plain": [
       "<matplotlib.figure.Figure at 0x7f1328b46278>"
      ]
     },
     "metadata": {},
     "output_type": "display_data"
    }
   ],
   "source": [
    "plt.plot([float(x[1].split()[1][1:-1]) for x in secondary_1], [np.median(x) for x in weights1])"
   ]
  },
  {
   "cell_type": "code",
   "execution_count": 91,
   "metadata": {},
   "outputs": [
    {
     "data": {
      "text/plain": [
       "[<matplotlib.lines.Line2D at 0x7f1320ea4c18>]"
      ]
     },
     "execution_count": 91,
     "metadata": {},
     "output_type": "execute_result"
    },
    {
     "data": {
      "image/png": "[encoded data removed]",
      "text/plain": [
       "<matplotlib.figure.Figure at 0x7f1320feada0>"
      ]
     },
     "metadata": {},
     "output_type": "display_data"
    }
   ],
   "source": [
    "plt.plot([float(x[1].split()[1][1:-1]) for x in secondary_2], [np.median(x) for x in weights2])"
   ]
  },
  {
   "cell_type": "code",
   "execution_count": null,
   "metadata": {},
   "outputs": [],
   "source": []
  },
  {
   "cell_type": "code",
   "execution_count": 19,
   "metadata": {},
   "outputs": [],
   "source": [
    "arrays, weights = hamu.restore_arrays(gr, 0)"
   ]
  },
  {
   "cell_type": "code",
   "execution_count": null,
   "metadata": {},
   "outputs": [],
   "source": []
  }
 ],
 "metadata": {
  "kernelspec": {
   "display_name": "Python 3",
   "language": "python",
   "name": "python3"
  },
  "language_info": {
   "codemirror_mode": {
    "name": "ipython",
    "version": 3
   },
   "file_extension": ".py",
   "mimetype": "text/x-python",
   "name": "python",
   "nbconvert_exporter": "python",
   "pygments_lexer": "ipython3",
   "version": "3.6.3"
  }
 },
 "nbformat": 4,
 "nbformat_minor": 2
}
