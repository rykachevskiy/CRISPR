{
 "cells": [
  {
   "cell_type": "code",
   "execution_count": 7,
   "metadata": {},
   "outputs": [],
   "source": [
    "import crispr_assembler as ca\n",
    "import numpy as np\n",
    "\n",
    "from multiprocessing import Pool\n",
    "\n",
    "from tqdm import tqdm_notebook\n",
    "# %load_ext autoreload\n",
    "# %autoreload 2"
   ]
  },
  {
   "cell_type": "code",
   "execution_count": 2,
   "metadata": {},
   "outputs": [],
   "source": [
    "read = 'CCC_111111_AAACCC_2222222_AAACCC_3333333_AAA'\n",
    "pattern = 'AAACCC'\n",
    "pattern_rc = 'GGGTTT'"
   ]
  },
  {
   "cell_type": "code",
   "execution_count": 3,
   "metadata": {},
   "outputs": [],
   "source": [
    "repeat = ca.Repeat('GG(GT)TT', 'GGGT', 'GTTT', 'GGGTTT')"
   ]
  },
  {
   "cell_type": "code",
   "execution_count": 7,
   "metadata": {
    "scrolled": true
   },
   "outputs": [],
   "source": [
    "r, id1, id2 = ca.check_reverse_complementarity(read, pattern_rc, e=0)"
   ]
  },
  {
   "cell_type": "code",
   "execution_count": 14,
   "metadata": {},
   "outputs": [
    {
     "data": {
      "text/plain": [
       "[slice(12, 18, None), slice(27, 33, None)]"
      ]
     },
     "execution_count": 14,
     "metadata": {},
     "output_type": "execute_result"
    }
   ],
   "source": [
    "id2"
   ]
  },
  {
   "cell_type": "code",
   "execution_count": 17,
   "metadata": {},
   "outputs": [
    {
     "data": {
      "text/plain": [
       "[slice(4, 12, None), slice(18, 27, None), slice(33, 40, None)]"
      ]
     },
     "execution_count": 17,
     "metadata": {},
     "output_type": "execute_result"
    }
   ],
   "source": [
    "ca.split_read_by_repeat(ca.rc(read,r=1), repeat, id2, e=0)"
   ]
  },
  {
   "cell_type": "code",
   "execution_count": 20,
   "metadata": {},
   "outputs": [
    {
     "name": "stdout",
     "output_type": "stream",
     "text": [
      "3333333_\n",
      "_2222222_\n",
      "_111111\n"
     ]
    }
   ],
   "source": [
    "for i in ca.split_read_by_repeat(ca.rc(read,r=1), repeat, e=0):\n",
    "    print(ca.rc(read, r=1)[i])"
   ]
  },
  {
   "cell_type": "code",
   "execution_count": 22,
   "metadata": {},
   "outputs": [
    {
     "name": "stdout",
     "output_type": "stream",
     "text": [
      "102 µs ± 1.33 µs per loop (mean ± std. dev. of 7 runs, 10000 loops each)\n"
     ]
    }
   ],
   "source": [
    "%timeit ca.split_read_by_repeat(ca.rc(read,r=1), repeat, id2, e=0)"
   ]
  },
  {
   "cell_type": "code",
   "execution_count": 23,
   "metadata": {},
   "outputs": [
    {
     "name": "stdout",
     "output_type": "stream",
     "text": [
      "133 µs ± 188 ns per loop (mean ± std. dev. of 7 runs, 10000 loops each)\n"
     ]
    }
   ],
   "source": [
    "%timeit ca.split_read_by_repeat(ca.rc(read,r=1), repeat, e=0)"
   ]
  },
  {
   "cell_type": "code",
   "execution_count": 25,
   "metadata": {},
   "outputs": [
    {
     "data": {
      "text/plain": [
       "(1,\n",
       " ['3333333_', '_2222222_', '_111111'],\n",
       " [['3333333_', '_2222222_', '_111111']])"
      ]
     },
     "execution_count": 25,
     "metadata": {},
     "output_type": "execute_result"
    }
   ],
   "source": [
    "ca.split_function('',read,'+',read, repeat,e=0)"
   ]
  },
  {
   "cell_type": "code",
   "execution_count": null,
   "metadata": {},
   "outputs": [],
   "source": []
  },
  {
   "cell_type": "code",
   "execution_count": 24,
   "metadata": {},
   "outputs": [],
   "source": [
    "with open(\"../article/data/fastq/es3_250.fastq\") as f:\n",
    "    lines = f.readlines()"
   ]
  },
  {
   "cell_type": "code",
   "execution_count": 25,
   "metadata": {},
   "outputs": [
    {
     "data": {
      "text/plain": [
       "['@M02459:39:000000000-AHGUU:1:1101:15529:1333 1:N:0:14\\n',\n",
       " 'CGCTGGCGCGGGGAACTCAGTGCTGGACCATTTCAAATTCACAATAGATTCGGTTTATCCCCGCTGGTGCGGGGAACACGGAATGATATTTCAATAAATAATTATAACAAT\\n',\n",
       " '+\\n',\n",
       " 'IIIIIIIIIIIIIIIIIIIIIIIIIIIIIIIIIIIIIIIIIIIIIIIIIIIIIIIIIIIIIIIIIIIIIIIIIIIIIIIIIIIIIIIIIIIIIIIIIIIIIIIIIIIIIII\\n',\n",
       " '@M02459:39:000000000-AHGUU:1:1101:15932:1476 1:N:0:14\\n',\n",
       " 'GCGCCAGCGGGATAAACCGAGCACAAATATCATCGCTCAAACCACTTACGGGTGTTCCCCGCGCCAGCGGGGATAAACCGCCTCGCTGTAAATTCCAAAAACGATCTCTATAGTGTTCCCCGCGCCAGCGGGGATAAACCGAC\\n',\n",
       " '+\\n',\n",
       " 'AIIIIIIIIIIIGIIGIIIIIIIIIIIIIIIIIIIIIIIIIIIIIIIIIIIIIIIIIIIIIIIIIGIIIIIIIIIIHIIIIIIIIIIIIIIIIIIIIIIIIIIIIIIIIIIIIIIIIIIIIIIIIIIIIIIIIIIIIIIIIII\\n',\n",
       " '@M02459:39:000000000-AHGUU:1:1101:17965:1514 1:N:0:14\\n',\n",
       " 'GCGCCAGCGTGATAAACCGGCGTCCGTCAAAGAGGAAGCCAAAGCCATGCAGTGTTCCCCGCGCCAGCG\\n']"
      ]
     },
     "execution_count": 25,
     "metadata": {},
     "output_type": "execute_result"
    }
   ],
   "source": [
    "lines[:10]"
   ]
  },
  {
   "cell_type": "code",
   "execution_count": 26,
   "metadata": {},
   "outputs": [],
   "source": [
    "def process_func(position, read, plus, quality):\n",
    "    return ca.split_function(position,read,plus,quality,ca.ecoli_r_2,e=3)"
   ]
  },
  {
   "cell_type": "code",
   "execution_count": 27,
   "metadata": {},
   "outputs": [],
   "source": [
    "fastq_p = ca.FastqProcessor(process_function=process_func, source=lines[:256])"
   ]
  },
  {
   "cell_type": "code",
   "execution_count": 28,
   "metadata": {},
   "outputs": [],
   "source": [
    "p = Pool(6)"
   ]
  },
  {
   "cell_type": "code",
   "execution_count": 29,
   "metadata": {},
   "outputs": [
    {
     "name": "stdout",
     "output_type": "stream",
     "text": [
      "CPU times: user 4.17 ms, sys: 2.11 ms, total: 6.28 ms\n",
      "Wall time: 17.7 ms\n"
     ]
    }
   ],
   "source": [
    "%%time\n",
    "res_batch = []\n",
    "for i, res in enumerate(fastq_p.process_by_batch(p, len(lines))):\n",
    "    res_batch.extend(res)"
   ]
  },
  {
   "cell_type": "code",
   "execution_count": 30,
   "metadata": {
    "scrolled": true
   },
   "outputs": [
    {
     "data": {
      "application/vnd.jupyter.widget-view+json": {
       "model_id": "0f879045436b46478ac42d0d472c446d",
       "version_major": 2,
       "version_minor": 0
      },
      "text/plain": [
       "A Jupyter Widget"
      ]
     },
     "metadata": {},
     "output_type": "display_data"
    },
    {
     "name": "stdout",
     "output_type": "stream",
     "text": [
      "\n",
      "CPU times: user 86.6 ms, sys: 1.44 ms, total: 88 ms\n",
      "Wall time: 84.4 ms\n"
     ]
    }
   ],
   "source": [
    "%%time\n",
    "res_no_batch = []\n",
    "for i, res in tqdm_notebook(enumerate(fastq_p.process())):\n",
    "    res_no_batch.append(res)"
   ]
  },
  {
   "cell_type": "code",
   "execution_count": 32,
   "metadata": {},
   "outputs": [
    {
     "data": {
      "text/plain": [
       "(-1,\n",
       " 'GCGCCAGCGTGATAAACCGGCGTCCGTCAAAGAGGAAGCCAAAGCCATGCAGTGTTCCCCGCGCCAGCG\\n',\n",
       " ['GCGCCAGCGTGATAAACCGGCGTCCGTCAAAGAGGAAGCCAAAGCCATGCAGTGTTCCCCGCGCCAGCG\\n'],\n",
       " ['?I??III?I2BIIIIII>@I@E>IIAI@IIIIII>II@>III?I?IIAAIIII?IIIAI@???IIIIII\\n'])"
      ]
     },
     "execution_count": 32,
     "metadata": {},
     "output_type": "execute_result"
    }
   ],
   "source": [
    "res_no_batch[2]"
   ]
  },
  {
   "cell_type": "code",
   "execution_count": 34,
   "metadata": {},
   "outputs": [
    {
     "data": {
      "text/plain": [
       "['AGTGCTGGACCATTTCAAATTCACAATAGA\\tGGAATGATATTTCAATAAATAATTATAACAAT\\n',\n",
       " '\\n\\tTATAGAGATCGTTTTTGGAATTTACAGCG\\tCCGTAAGTGGTTTGAGCGATGATATTTGTGC',\n",
       " 'GCGCCAGCGTGATAAACCGGCGTCCGTCAAAGAGGAAGCCAAAGCCATGCAGTGTTCCCCGCGCCAGCG\\n',\n",
       " 'GACAGAACGGCCTCAGTAGTCTCGTCAGG\\tACACGCCCTTATCAAATAGCTGTGATTTAC\\tAT\\n',\n",
       " 'CAAGTGATATCCATCATCGCATCCAGTGCG\\tAGTGCTGGACCATTTCAAATTCACAATAGA\\tGGAATGATATTTCAATAAATAATTATAAC\\tCCCTCACACCGATTCGCCAAACGGTGGAG\\tAGCTGGGCGAAATTTTGATTCATCGTGATGACCGGTTTATCCCGCTG\\n',\n",
       " 'GACAGAACGGCCTCAGTAGTCTCGTCAGG\\tACACGCCCTTATCAAATAGCTGTGATTTAC\\tAT',\n",
       " '\\nGGGAACACTATAGAGATCGTTTTTGGAATTTACAGCGA\\tCCGTAAGTGGTTTGAGCGATGATATTTGTGCT',\n",
       " 'TACCGTACAGACTGCCGGATATTATTTTTT\\tCTGCTGCTCGAGCTGGTGGAGTGCTGCTATAGCGGTTTATC\\n',\n",
       " 'CCCTCACACCCATTCGCCAAACGGTGGAG\\tAGCTGGGCGAAATTTTGATTCATCGTGATGA',\n",
       " 'TACCGTACAGACTGCCGGATATTATTTTT\\tCTGCTGCTCGAGCTGGTGGAGTGCTGCTA\\tAACGTCAGGTTGTCGCCGCTCTGCGTGGT\\tTGCCTGGCTTTGGCTTCCT',\n",
       " 'GGGGAACACTGCATGGCTTTGGCTTCCTCTTTGACGGAC\\tATATATCAGA\\n',\n",
       " 'ATAGACCCCGAACAACAATACGCGCAAAC\\tTACCGTACAGACTGCCGGATATTATTTTTTTG',\n",
       " 'GACAGAACGGCCTCAGTAGTCTCGTCAGG\\tACACGCCCTTATCAAATAGCTGTGATTTAC\\tATAGACCCCGAACAACAATACGCGCAAACCGACGG',\n",
       " '\\nGTGATATCCATCATCGCATCCAGTGC\\tAGTGCTGGACCATTTCAAATTCACAATAGA\\tGGAATGATATTTCAATAAATAATTATAACAATCGGTTT',\n",
       " '\\nGGCGCGGGGAACACCAAGTGATATCCATCATCGCATCCAGTGC\\tAGTGCTGGGCCATTTCAAATTCACAATAGAT',\n",
       " 'GACAGAACGGCCTCAGTAGTCTCGTCAGG\\tTACCGTACAGACTGCCGGATATTATTTTTTTGCGGTTTATCCCGCTGGC',\n",
       " 'CAAGTGATATCCATCATCGCATCCAGTGC\\tGACAGAACGGCCTCAGTAGTCTCGTCAGG\\tACACGCCCTTATCAAATAGCTGTGATTTACCTACGGTT\\n',\n",
       " 'ACACGCCCTTATCAAATAGCTGTGATTTACCT\\tATAGACCCCGAACAACAATACGCGCAAACCGA',\n",
       " 'CGCTGGCGCGGGGAACTCAGCTGGGCGAAATTTTGATTCATCGTGATGACCGGTTTATCCCGCTGGCGC\\n',\n",
       " 'GACAGAACGGCCTCAGTAGTCTCGTCAGG\\tACACGCCCTTATCAAATAGCTGTGATTTAC\\tATAGACCCCGAACAACAATACGCGCAAACCGACGGTTTATCC',\n",
       " '\\nGGCGCGGGGAACACTACCGTACAGACTGCCGGATATTATTTTT\\tCTGC',\n",
       " 'GACAGAACGGCCTCAGTAGTCTCGTCAGG\\tACACGCCCTTATCAAATAGCTGTGATTTAC\\tACACGCCCTTATCAAATAGCTGTGATTTACCT',\n",
       " 'GACAGAACGGCCTCAGTAGTCTCGTCAGGC\\tTACCGTACAGACTGCCGGATATTATTTTTTTGCGGTTTATCCCGCTGGC\\n',\n",
       " '\\nCTGGTGGAGTGCTGCTA\\tAACGTCAGGTTGTCGCCGCTCTGCGTGGT\\tTGCATGGCTTTGGCTTCCTCTTTGACGGA\\tCAAGTGATATCCATCATCGCATC',\n",
       " 'GACAGAACGGCCTCAGTAGTCTCGTCAGG\\tACACGCCCTTATCAAATAGCTGTGATTTAC\\tATAGACCCCGAACAACAATACGCGCAAAC\\tTACCGTACAGACTGCCGGATATTATTTTTTTGCGGTTTATCCCCG',\n",
       " 'GATAAACCGGAGCCTGACGAGACTACTGAGGCCGTTCTGTCGAGTTCCCCGCGCCAGCG\\n',\n",
       " '\\nGCGGGGAACACGGAATGATATTTCAATAAATAATTATAAC\\tCCCTCACACCGATTCGCCAAACGGTGGAGA',\n",
       " 'CCTGAT\\tCCGTAAGTGGTTTGAGCGATGATATTTGTGCTCGGTTTATCCCGCTGGCA\\n',\n",
       " 'ATATATCAGAGCAAAAAACAAAGCCACAG\\tGGAATGATATTTCAATAAATAATTATAAC\\tCCCTCACACCGATTCGCCAAACGGTGGAG\\tAGCTGGGCGAAATTTTGATTCATCGTGATGA',\n",
       " 'GGGAACACTATAGAGATCGTTTTTGGAATTTACAGCGA\\tCCGTAAGTGGTTTGAGCGATGATATTTGTGC',\n",
       " '\\nACCGTACAGACTGCCGGATATTATTTTT\\tACACGCCCTTATCAAATAGCTGTGATTTAC\\tATAGACCCCGAACAACAATGCGCGCAAAC\\tTACCGTACAGACTGCCGGATATTATTTTT\\tCTGCTGCTCGAGCTGGTGGAGTGCTGCTA\\tAACGTCAGG',\n",
       " 'CAAGTGATATCCATCATCGCATCCAGTGC\\tAGTGCTGGACCAT\\n',\n",
       " '\\nGGCGCGGGGAACACGACAGAACGGCCTCAGTAGTCTCGTCAGG\\tACACGCCCTTATCAAATAGCTGTGATTTACCTACGGTTTATCCCGCT',\n",
       " 'GGAATGATATTTCAATAGATAATTATAAC\\tCCCTCACACCGATTCGCCAAACGGTGGAG\\tAGTTGGGCGAAATTTTGATTCATCGTGATGA',\n",
       " 'CCCCGCGCCAGCGGGGATAAACCGGAGCCTGACGAGACTACTGAGGCCGTTCTGTCGAGTTCCCCGCGCCAGCG\\n',\n",
       " 'CAAGTGATATCCATCATCGCATCCAGTGC\\tAGTGCTGGACCATTTCAAATTCACAATAGA\\tGGAATGATATTTCAAT\\n',\n",
       " 'GCCAGCGGGGATAAACCGGGCGCACTGGATGCGATGATGGATATCACTTGGAGTTCCCCGCGCCAGCG\\n',\n",
       " '\\nGGCGCGGGGAACACAACGTCAGGTTGTCGCCGCTCTGCGTGGT\\tTGCATGGCTTTGG',\n",
       " 'GACAGAACGGCCTCAGTAGTCTCGTCAGG\\tGCACGCCCTTATCAAATAGCTGTGATTTAC\\tATAGACCCCGAACAACAATACGCGCAAACCG',\n",
       " 'GACAGAACGGCCTCAGTAGTCTCGTCAGG\\tACACGCCCTTATCAAATAGCTGTGATTTAC\\tATAGACCCCGAACAACAATACGCGCAAACCG',\n",
       " 'GCTGGCGCGGGGAACACATAGACCCCGAACAACAATACGCGCAAACCGACGGTTTATCCCGCTGGCGC\\n',\n",
       " 'GACAGAACGGCCTCAGTAGTCTCGTCAGGC\\tATCGACCCCGAACAACAATACGCGCAAACC\\tTACCGTACAGACTGCCGGATATTATTTTTTT',\n",
       " 'CCGCCGTTGGCACCGTCAAACTCCGGTAC\\tTATAGAGATCGTGTTTGGAATTTACAGCG\\tCCGTAAGTGGTTTGAGCGATGATATTTGTGC',\n",
       " 'GACAGAACGGCCTCAGTAGTCTCGTCAGG\\tACACGCCCTTATCAAATAGCTGTGATTTAC\\tATAGACCCCGAACAACAATACGCGCAAACCGACGGTTTATCCCGCTGG',\n",
       " 'GACAGAACGGCCTCAGTAGTCTCGTCAGG\\tACACGCCC',\n",
       " 'GACAGAACGGCCTCAGTGGTCTCGTCAGGC\\tTACCGTACAGACTGCCGGATATTATTTTT\\tCTGCTGCTCGAGCTGGTGGAG',\n",
       " 'GAATGATATTTCAATAAATAGTTATAAC\\tCCCTCGCACCGATTCGCCAAACGGTGGAG\\tAGCTGGGCGAAATTTTGATTCATCGTGATGA',\n",
       " 'CAAGTGATATCCATCATCGCATCCAGTGC\\tAGTGCTGGACCATTTCAAATTCACAATAGA\\tGGAATGATATTTCAATAAATAATTATAACA\\tCCCTCACACCGATTCGCCAAACGGTGGAG\\tAGCTGGGCGAATTTTGATTCATCGTGATGA',\n",
       " 'GACAGAACGGCCTCAGTAGTCTCGTCAGG\\tACACGCCCTTATCAAATAGCTGTGATTTACCTACGGTTTATCCCGCTGG\\n',\n",
       " '\\nCGGGGAACTCCAAGTGATATCCATCATCGCATCCAGTGC\\tAGTGCCGGACCATTTCAAATTCACAATAGATT',\n",
       " 'CCAGCGGGATAAACCGGGCGCACTGGATGCGATGATGGATATCACTTGGAGTTCCCCGCGCCAGCG\\n',\n",
       " '\\nGGCGCGGGGAACACTACCGTACAGACTGCCGGATATTATTTTT\\tCTGCTGCTCGAGCTGGTGGAGTGCTGCTA\\tAACGTCAGGTTGTCGCCGCTCTGCGTGGTC',\n",
       " '\\nGGGAACACGACAGAACGGCCTCAGTAGTCTCGTCAGG\\tACACGCCCTTATCAAATAGCTGTGATTTAC\\tATAGACCCCGAACAACAATAAGCGCAAAC\\tTACCGTACAGACTGCCGGATATTATTTTTT\\tCTGCTGCTCGAGCTGGTGGAGTGCTGCTA\\tAACGTCAGGTTGTCGCCGCTCTGCGTGGT\\tCATAAAGAAACTATTTTGCGTTTCGTTCAGGT',\n",
       " '\\n\\tATAGACCCCGAACAACAATACGCGCAAAC\\tTACCGTACAGGCTGCCGGATATTATTTTTT\\tTTGCTGCTCGAGCTGGTGGAGTGCTGCTA\\tAACGTCAGGTTGTCGCCGCTCTGCGTGGTCGC',\n",
       " 'GACAGAACGGCCTCAGTAGTCTCGTCAGG\\tACACGCCCTTATCAAATAGCTGTGATT',\n",
       " 'GCGCGGGGAACACAACGTCAGGTTGTCGCCGCTCTGCGTGGT\\tTGCATGGCTTTGGCTTCCTCTTTGACGGA\\tATATATCAGAGCAAAAAACAAAGCCACAGCC',\n",
       " 'CAAGTGATATCCATCATCGCATCCAGTGC\\tCCGCCGTTGGCACCGTCAAACTCCGGTAC\\tTATAGAGATCGTTTTTGGAATTTACA',\n",
       " 'GGAATGATATTTCAATAAATAATTATAAC\\tCCCTCACACCGATTCGCCAAACGGTGGAG\\tAGCTGGGCGAAATTTTGATTCATCGTGATGA',\n",
       " 'GGAACACATAGACCCCGAACAACAATACGCGCAAAC\\tTACCGTACAGACTGCCGGATATTATTTTT\\tCTGCTGCTCGAGCTGGTGGAGTGCTGCTA\\tAACGTCAGGTTGTCGCCGCTCTGCGTGGTCG',\n",
       " 'CATAAAGAAACTATTTTGCGTTTCGTTCAGG\\tTTTTACAGTGTCAACAATCGTTCCCTGATTGTCGGTTTATCCC',\n",
       " 'GACAGAACGGCCTCAGTAGTCTCGTCAGG\\tACACGCCCTTATCAAATAGCTGTGATT\\n',\n",
       " '\\nCGGGGAACTCCCGCCGTTGGCACCGTCAAACTCCGGTAC\\tTATAGAGATCGTTTTTGGAATTTACAGCG\\tCCGTGAGTGGTTTGAGCGATGATATTTGTGC',\n",
       " '\\nAGAGATCGTTTTTGGAATTTACAGCG\\tCCGTAAGTGGTTTGAGCGATGATATTTGTGC',\n",
       " 'GACAGAACGGCCTCAGTAGTCTCGTCAGG\\tACACGCCCTTATCAAATAGCTGTGATTTAC\\tATAGACCCCGAACAACAATACGCGCAAAC\\tTACCGTACAGACTGCCGGATATTATTTTTT']"
      ]
     },
     "execution_count": 34,
     "metadata": {},
     "output_type": "execute_result"
    }
   ],
   "source": [
    "['\\t'.join(x[2]) for x in res_batch]"
   ]
  },
  {
   "cell_type": "code",
   "execution_count": null,
   "metadata": {},
   "outputs": [],
   "source": []
  },
  {
   "cell_type": "code",
   "execution_count": null,
   "metadata": {},
   "outputs": [],
   "source": []
  },
  {
   "cell_type": "code",
   "execution_count": 8,
   "metadata": {},
   "outputs": [
    {
     "data": {
      "text/plain": [
       "250"
      ]
     },
     "execution_count": 8,
     "metadata": {},
     "output_type": "execute_result"
    }
   ],
   "source": [
    "len(res_batch)"
   ]
  },
  {
   "cell_type": "code",
   "execution_count": 9,
   "metadata": {},
   "outputs": [
    {
     "data": {
      "text/plain": [
       "250"
      ]
     },
     "execution_count": 9,
     "metadata": {},
     "output_type": "execute_result"
    }
   ],
   "source": [
    "len(res_no_batch)"
   ]
  },
  {
   "cell_type": "code",
   "execution_count": 67,
   "metadata": {},
   "outputs": [
    {
     "data": {
      "text/plain": [
       "(0,\n",
       " 'CGCTGGCGCGGGGAACTCAGTGCTGGACCATTTCAAATTCACAATAGATTCGGTTTATCCCCGCTGGTGCGGGGAACACGGAATGATATTTCAATAAATAATTATAACAAT\\n',\n",
       " ['AGTGCTGGACCATTTCAAATTCACAATAGA', 'GGAATGATATTTCAATAAATAATTATAACAAT\\n'],\n",
       " [['IIIIIIIIIIIIIIIIIIIIIIIIIIIIII', 'IIIIIIIIIIIIIIIIIIIIIIIIIIIIIIII\\n']])"
      ]
     },
     "execution_count": 67,
     "metadata": {},
     "output_type": "execute_result"
    }
   ],
   "source": [
    "res_batch[0]"
   ]
  },
  {
   "cell_type": "code",
   "execution_count": 68,
   "metadata": {},
   "outputs": [
    {
     "data": {
      "text/plain": [
       "(0,\n",
       " 'CGCTGGCGCGGGGAACTCAGTGCTGGACCATTTCAAATTCACAATAGATTCGGTTTATCCCCGCTGGTGCGGGGAACACGGAATGATATTTCAATAAATAATTATAACAAT\\n',\n",
       " ['AGTGCTGGACCATTTCAAATTCACAATAGA', 'GGAATGATATTTCAATAAATAATTATAACAAT\\n'],\n",
       " [['IIIIIIIIIIIIIIIIIIIIIIIIIIIIII', 'IIIIIIIIIIIIIIIIIIIIIIIIIIIIIIII\\n']])"
      ]
     },
     "execution_count": 68,
     "metadata": {},
     "output_type": "execute_result"
    }
   ],
   "source": [
    "res_no_batch[0]"
   ]
  },
  {
   "cell_type": "code",
   "execution_count": 10,
   "metadata": {},
   "outputs": [
    {
     "data": {
      "text/plain": [
       "True"
      ]
     },
     "execution_count": 10,
     "metadata": {},
     "output_type": "execute_result"
    }
   ],
   "source": [
    "all(np.array(res_batch) == np.array(res_no_batch))"
   ]
  },
  {
   "cell_type": "code",
   "execution_count": null,
   "metadata": {},
   "outputs": [],
   "source": []
  },
  {
   "cell_type": "code",
   "execution_count": null,
   "metadata": {},
   "outputs": [],
   "source": []
  },
  {
   "cell_type": "code",
   "execution_count": null,
   "metadata": {},
   "outputs": [],
   "source": []
  }
 ],
 "metadata": {
  "kernelspec": {
   "display_name": "Python 3",
   "language": "python",
   "name": "python3"
  },
  "language_info": {
   "codemirror_mode": {
    "name": "ipython",
    "version": 3
   },
   "file_extension": ".py",
   "mimetype": "text/x-python",
   "name": "python",
   "nbconvert_exporter": "python",
   "pygments_lexer": "ipython3",
   "version": "3.6.3"
  }
 },
 "nbformat": 4,
 "nbformat_minor": 2
}
