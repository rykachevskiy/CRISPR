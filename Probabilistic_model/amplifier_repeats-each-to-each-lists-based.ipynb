{
 "cells": [
  {
   "cell_type": "code",
   "execution_count": 1,
   "metadata": {},
   "outputs": [],
   "source": [
    "import numpy as np\n",
    "import matplotlib.pyplot as plt\n",
    "\n",
    "import pickle\n",
    "import sys\n",
    "\n",
    "from tqdm import tqdm_notebook\n",
    "\n",
    "from nltk import ngrams"
   ]
  },
  {
   "cell_type": "code",
   "execution_count": 2,
   "metadata": {},
   "outputs": [],
   "source": [
    "import itertools\n",
    "from itertools import tee\n",
    "\n",
    "import editdistance as ed"
   ]
  },
  {
   "cell_type": "code",
   "execution_count": 3,
   "metadata": {},
   "outputs": [],
   "source": [
    "def plot_gr(gr, start=0, end=-1, log = False, all_ticks = False,  s=10):\n",
    "    plt.figure(figsize=(s,s))\n",
    "    if end == -1:\n",
    "        end = gr.shape[0]\n",
    "    if log:\n",
    "        plt.imshow(np.log(gr[start:end,start:end] + 1))\n",
    "    else:\n",
    "        plt.imshow(gr[start:end,start:end])\n",
    "    plt.colorbar()\n",
    "    if all_ticks: \n",
    "        plt.xticks(np.arange(start,end))\n",
    "        plt.yticks(np.arange(start,end))\n",
    "    plt.show()"
   ]
  },
  {
   "cell_type": "code",
   "execution_count": 4,
   "metadata": {},
   "outputs": [],
   "source": [
    "def plot_group(*args, s = 7):\n",
    "    n = len(args) // 2\n",
    "    \n",
    "    plt.figure(figsize=(s,s))\n",
    "    f, a = plt.subplots(1, n,figsize=(s,s))\n",
    "    #f.set_figsize((s,s))\n",
    "    for i in range(n):\n",
    "        im = args[2*i]\n",
    "        if args[2*i + 1]:\n",
    "            im = np.log(im + 1)\n",
    "        a[i].imshow(im)\n",
    "\n",
    "    plt.show()"
   ]
  },
  {
   "cell_type": "code",
   "execution_count": null,
   "metadata": {},
   "outputs": [],
   "source": []
  },
  {
   "cell_type": "code",
   "execution_count": null,
   "metadata": {},
   "outputs": [],
   "source": []
  },
  {
   "cell_type": "code",
   "execution_count": 5,
   "metadata": {},
   "outputs": [],
   "source": [
    "# Check randint\n",
    "def generate_repeat(repeat_a, repeat_b):\n",
    "    transition_pos = np.random.randint(0, len(repeat_a) + 1)\n",
    "    return repeat_a[0:transition_pos] + repeat_b[transition_pos:]"
   ]
  },
  {
   "cell_type": "code",
   "execution_count": 6,
   "metadata": {},
   "outputs": [],
   "source": [
    "class RepeatsDescr:\n",
    "    def __init__(self, repeats):\n",
    "        self.n = len(repeats)\n",
    "        self.repeats = repeats\n",
    "        self.repeat_to_n = dict(zip(self.repeats, np.arange(len(repeats))))\n",
    "        self.n_to_repeat = dict(zip(np.arange(len(repeats)), self.repeats))\n",
    "        self.mat = self._create_complementory_matrix()\n",
    "\n",
    "    def add_repeat(self, repeat):\n",
    "        self.repeats.append(repeat)\n",
    "        self.repeat_to_n[repeat] = self.n\n",
    "        self.n_to_repeat[self.n] = repeat\n",
    "        self.n += 1\n",
    "        self._update_complementory_matrix()\n",
    "        \n",
    "    def _create_complementory_matrix(self):\n",
    "        mat = np.zeros((self.n, self.n))\n",
    "\n",
    "        for r1, r2 in itertools.product(self.repeats, self.repeats):\n",
    "            mat[self.repeat_to_n[r1]][self.repeat_to_n[r2]] = 1 - (ed.eval(r1,r2) / max(len(r1), len(r2)))\n",
    "        return mat\n",
    "    \n",
    "    def _update_complementory_matrix(self):\n",
    "        self.mat = np.pad(self.mat, ((0,1), (0,1)), mode = 'constant')\n",
    "        \n",
    "        for r in self.repeats:\n",
    "            val = 1 - (ed.eval(r,repeats[-1]) / max(len(r), len(repeats[-1])))\n",
    "            self.mat[self.repeat_to_n[r], self.repeat_to_n[repeats[-1]]] = val\n",
    "            self.mat[self.repeat_to_n[repeats[-1]], self.repeat_to_n[r]] = val"
   ]
  },
  {
   "cell_type": "code",
   "execution_count": 7,
   "metadata": {},
   "outputs": [],
   "source": [
    "repeats = ['aaaaaaaaaa',\n",
    "           'aaaaaaaaab',\n",
    "           'aaaaaaaabb']\n",
    "\n",
    "repeats_descr = RepeatsDescr(repeats)"
   ]
  },
  {
   "cell_type": "code",
   "execution_count": 8,
   "metadata": {},
   "outputs": [],
   "source": [
    "repeats_descr.add_repeat(\"aaaaaaabbb\")"
   ]
  },
  {
   "cell_type": "code",
   "execution_count": 123,
   "metadata": {},
   "outputs": [],
   "source": [
    "class Population:\n",
    "    def __init__(self,\n",
    "                 initial_population, \n",
    "                 primers_counts,\n",
    "                 max_len = 10):\n",
    "        #self.max_len = max_len\n",
    "        self.max_size = (sum(primers_counts.values()) + len(initial_population))\n",
    "        \n",
    "        self.p = [[-1, -1] + x + [-1, -1] for x in initial_population]\n",
    "        \n",
    "        for primer, num in primers_counts.items():\n",
    "            for i in range(num):\n",
    "                self.p.append([primer])\n",
    "        \n",
    "        if V == 'DEBUG' or V == 'DEBUG_1':\n",
    "            print(self.p, \"\\n\")   \n",
    "    \n",
    "        self._calc_lens()\n",
    "        \n",
    "    def _calc_lens(self):\n",
    "        self.lens = np.array([len(x) for x in self.p])\n",
    "        self.repeats_num = sum([x // 2 + 1 for x in self.lens])\n",
    "    \n",
    "    def get_rep_by_ind(self, ind):\n",
    "        pos_i, pos_j = self.get_pos_by_ind(ind)\n",
    "        if pos_i == -999:\n",
    "            return -999\n",
    "        else:\n",
    "            return self.p[pos_i][pos_j]\n",
    "    \n",
    "    def get_pos_by_ind(self, ind):\n",
    "        curr = 0\n",
    "        passed = 0\n",
    "        while curr < len(self.p) and passed + self.lens[curr] // 2 + 1 <= ind:\n",
    "            passed += self.lens[curr] // 2 + 1\n",
    "            curr += 1\n",
    "\n",
    "        if curr < len(self.p):\n",
    "            return (curr, (ind - passed) * 2)\n",
    "        else:\n",
    "            return (-999, -999)\n",
    "    \n",
    "#     def get_rep_by_ind(self, ind):\n",
    "#         return self.p[:,::2].flatten()[ind]\n",
    "\n",
    "#     def _recalc_glue_mask(self):\n",
    "#         self.glue_mask = self.p[:, ::2].flatten() != -1"
   ]
  },
  {
   "cell_type": "code",
   "execution_count": 124,
   "metadata": {},
   "outputs": [],
   "source": [
    "from copy import deepcopy"
   ]
  },
  {
   "cell_type": "code",
   "execution_count": 336,
   "metadata": {},
   "outputs": [],
   "source": [
    "class PCR:\n",
    "    def __init__(self, population, repeats_descr):\n",
    "        self.p = [deepcopy(population), deepcopy(population)]\n",
    "        \n",
    "    def _calculate_complementary_matrix(self):\n",
    "        self.comp_mat = np.zeros((self.p[0].repeats_num, self.p[1].repeats_num))\n",
    "        \n",
    "        for i in range(self.p[0].repeats_num):\n",
    "            for j in range(self.p[1].repeats_num):\n",
    "                r0 = self.p[0].get_rep_by_ind(i)\n",
    "                r1 = self.p[1].get_rep_by_ind(j)\n",
    "                if r0 != -1 and r1 != -1:\n",
    "                    self.comp_mat[i][j] = repeats_descr.mat[r0,r1]\n",
    "                \n",
    "    def _annealing(self):\n",
    "        self._calculate_complementary_matrix()\n",
    "        \n",
    "        self.anneal_all = (np.random.random(size = self.comp_mat.shape) < self.comp_mat).astype(int)\n",
    "        self.anneal = np.zeros_like(self.comp_mat)\n",
    "        #indexes = np.arange(self.anneal_all.shape[0])[self.anneal_all.sum(1) != 0]\n",
    "        #np.random.shuffle(indexes)\n",
    "        indexes = np.arange(self.anneal_all.shape[0])\n",
    "        np.random.shuffle(indexes)\n",
    "        \n",
    "        for i in indexes:\n",
    "            row = self.anneal_all[i]\n",
    "            if row.sum() != 0:\n",
    "                j = np.random.choice(np.arange(row.shape[0]), size = 1, p = row.astype(float) / row.sum())\n",
    "\n",
    "                if np.random.random() < 0.8 * self.anneal_all[i, j]:\n",
    "                    self.anneal[i, j] = 1\n",
    "                    #self.anneal[j, i] = 1\n",
    "\n",
    "                self.anneal_all[i] = 0\n",
    "                self.anneal_all[:, j] = 0\n",
    "            \n",
    "            \n",
    "    def _amplify(self):\n",
    "        \n",
    "        for f, b in zip(np.where(self.anneal == 1)[0], np.where(self.anneal == 1)[1]):\n",
    "            fi, fj = self.p[0].get_pos_by_ind(f)\n",
    "            bi, bj = self.p[1].get_pos_by_ind(b)\n",
    "            #print(f, b, '; ', fi, fj, '; ', bi, bj)\n",
    "            \n",
    "            self.restore_f(fi, fj, bi, bj)\n",
    "            self.restore_b(fi, fj, bi, bj)\n",
    "        self.p[0]._calc_lens()\n",
    "        self.p[1]._calc_lens()\n",
    "            \n",
    "    def restore_f(self, fi, fj, bi, bj):\n",
    "        if self.p[0].lens[fi] == fj + 1:\n",
    "            self.p[0].p[fi].extend(self.p[1].p[bi][bj + 1:])\n",
    "    \n",
    "    def restore_b(self, fi, fj, bi, bj):\n",
    "        if bj == 0:\n",
    "            self.p[1].p[bi] = self.p[0].p[fi][:fj] + self.p[1].p[bi]          \n",
    "            \n",
    "    def print_glue_points(self):\n",
    "        for f, b in zip(np.where(self.anneal == 1)[0], np.where(self.anneal == 1)[1]):\n",
    "            fi, fj = self.p[0].get_rep_pos_by_ind(f)\n",
    "            bi, bj = self.p[1].get_rep_pos_by_ind(b)\n",
    "            #print(f, b, '; ', fi, fj, '; ', bi, bj)\n",
    "            \n",
    "    \n",
    "    def cycle(self):\n",
    "        self._annealing()\n",
    "        self._amplify()\n",
    "        self.p = self.p[::-1]\n",
    "    \n",
    "    def to_pairs(self):\n",
    "        all_pairs = {}\n",
    "        for product in self.p[0].extend(self.p[1]):\n",
    "            for a,b in zip(product, product[1:]):\n",
    "                if a!= -1 and b!= -1:\n",
    "                    if (a,b) in all_pairs:\n",
    "                        all_pairs[(a,b)] += 1\n",
    "                    else:\n",
    "                        all_pairs[(a,b)] = 1\n",
    "        return all_pairs\n",
    "    \n",
    "    def to_graph(self, sp_num):\n",
    "        gr = np.zeros((sp_num, sp_num))\n",
    "        \n",
    "        for p, n in self.to_pairs().items():\n",
    "            gr[p[0]][p[1]] = n\n",
    "        return gr\n",
    "        "
   ]
  },
  {
   "cell_type": "code",
   "execution_count": 372,
   "metadata": {},
   "outputs": [],
   "source": [
    "p_list = [[0,0, 1,1, 0,2, 0], [0,1, 0,5, 0]]\n",
    "primers_num = {0:200}\n",
    "p = Population(p_list, primers_num, max_len=16)"
   ]
  },
  {
   "cell_type": "code",
   "execution_count": 374,
   "metadata": {},
   "outputs": [],
   "source": [
    "pcr = PCR(p, repeats_descr)"
   ]
  },
  {
   "cell_type": "code",
   "execution_count": 371,
   "metadata": {},
   "outputs": [
    {
     "data": {
      "text/plain": [
       "array([11,  9,  1,  7])"
      ]
     },
     "execution_count": 371,
     "metadata": {},
     "output_type": "execute_result"
    }
   ],
   "source": [
    "pcr.p[1].lens"
   ]
  },
  {
   "cell_type": "code",
   "execution_count": 368,
   "metadata": {},
   "outputs": [
    {
     "data": {
      "text/plain": [
       "[[-1, -1, 0, 0, 1, 1, 0, 2, 0, -1, -1],\n",
       " [-1, -1, 0, 1, 0, 5, 0, -1, -1],\n",
       " [-1, -1, 0, 0, 0],\n",
       " [-1, -1, 0, 1, 0, 5, 0]]"
      ]
     },
     "execution_count": 368,
     "metadata": {},
     "output_type": "execute_result"
    }
   ],
   "source": [
    "pcr.p[0].p"
   ]
  },
  {
   "cell_type": "code",
   "execution_count": 369,
   "metadata": {
    "scrolled": true
   },
   "outputs": [
    {
     "data": {
      "text/plain": [
       "[[-1, -1, 0, 0, 1, 1, 0, 2, 0, -1, -1],\n",
       " [-1, -1, 0, 1, 0, 5, 0, -1, -1],\n",
       " [0],\n",
       " [0, 1, 0, 5, 0, -1, -1]]"
      ]
     },
     "execution_count": 369,
     "metadata": {},
     "output_type": "execute_result"
    }
   ],
   "source": [
    "pcr.p[1].p"
   ]
  },
  {
   "cell_type": "code",
   "execution_count": 367,
   "metadata": {},
   "outputs": [],
   "source": [
    "pcr.cycle()"
   ]
  },
  {
   "cell_type": "code",
   "execution_count": 378,
   "metadata": {},
   "outputs": [
    {
     "data": {
      "application/vnd.jupyter.widget-view+json": {
       "model_id": "596b40ce9ab0434592f4759ebfacc8c8",
       "version_major": 2,
       "version_minor": 0
      },
      "text/plain": [
       "A Jupyter Widget"
      ]
     },
     "metadata": {},
     "output_type": "display_data"
    },
    {
     "name": "stdout",
     "output_type": "stream",
     "text": [
      "\n"
     ]
    },
    {
     "ename": "TypeError",
     "evalue": "'NoneType' object is not iterable",
     "output_type": "error",
     "traceback": [
      "\u001b[0;31m---------------------------------------------------------------------------\u001b[0m",
      "\u001b[0;31mTypeError\u001b[0m                                 Traceback (most recent call last)",
      "\u001b[0;32m<ipython-input-378-337fe04d48e4>\u001b[0m in \u001b[0;36m<module>\u001b[0;34m()\u001b[0m\n\u001b[1;32m      2\u001b[0m \u001b[0mpairs\u001b[0m \u001b[0;34m=\u001b[0m \u001b[0;34m[\u001b[0m\u001b[0;34m]\u001b[0m\u001b[0;34m\u001b[0m\u001b[0m\n\u001b[1;32m      3\u001b[0m \u001b[0;32mfor\u001b[0m \u001b[0mi\u001b[0m \u001b[0;32min\u001b[0m \u001b[0mtqdm_notebook\u001b[0m\u001b[0;34m(\u001b[0m\u001b[0mrange\u001b[0m\u001b[0;34m(\u001b[0m\u001b[0;36m20\u001b[0m\u001b[0;34m)\u001b[0m\u001b[0;34m)\u001b[0m\u001b[0;34m:\u001b[0m\u001b[0;34m\u001b[0m\u001b[0m\n\u001b[0;32m----> 4\u001b[0;31m     \u001b[0mproducts\u001b[0m\u001b[0;34m.\u001b[0m\u001b[0mappend\u001b[0m\u001b[0;34m(\u001b[0m\u001b[0msum\u001b[0m\u001b[0;34m(\u001b[0m\u001b[0;34m[\u001b[0m\u001b[0;36m1\u001b[0m \u001b[0;32mfor\u001b[0m \u001b[0mx\u001b[0m \u001b[0;32min\u001b[0m \u001b[0mpcr\u001b[0m\u001b[0;34m.\u001b[0m\u001b[0mp\u001b[0m\u001b[0;34m[\u001b[0m\u001b[0;36m0\u001b[0m\u001b[0;34m]\u001b[0m\u001b[0;34m.\u001b[0m\u001b[0mp\u001b[0m\u001b[0;34m.\u001b[0m\u001b[0mextend\u001b[0m\u001b[0;34m(\u001b[0m\u001b[0mpcr\u001b[0m\u001b[0;34m.\u001b[0m\u001b[0mp\u001b[0m\u001b[0;34m[\u001b[0m\u001b[0;36m1\u001b[0m\u001b[0;34m]\u001b[0m\u001b[0;34m.\u001b[0m\u001b[0mp\u001b[0m\u001b[0;34m)\u001b[0m \u001b[0;32mif\u001b[0m \u001b[0mlen\u001b[0m\u001b[0;34m(\u001b[0m\u001b[0mx\u001b[0m\u001b[0;34m)\u001b[0m \u001b[0;34m>\u001b[0m \u001b[0;36m1\u001b[0m \u001b[0;34m]\u001b[0m\u001b[0;34m)\u001b[0m\u001b[0;34m)\u001b[0m\u001b[0;34m\u001b[0m\u001b[0m\n\u001b[0m\u001b[1;32m      5\u001b[0m     \u001b[0mpairs\u001b[0m\u001b[0;34m.\u001b[0m\u001b[0mappend\u001b[0m\u001b[0;34m(\u001b[0m\u001b[0mpcr\u001b[0m\u001b[0;34m.\u001b[0m\u001b[0mp\u001b[0m\u001b[0;34m[\u001b[0m\u001b[0;36m0\u001b[0m\u001b[0;34m]\u001b[0m\u001b[0;34m.\u001b[0m\u001b[0mlens\u001b[0m\u001b[0;34m.\u001b[0m\u001b[0msum\u001b[0m\u001b[0;34m(\u001b[0m\u001b[0;34m)\u001b[0m \u001b[0;34m+\u001b[0m \u001b[0mpcr\u001b[0m\u001b[0;34m.\u001b[0m\u001b[0mp\u001b[0m\u001b[0;34m[\u001b[0m\u001b[0;36m1\u001b[0m\u001b[0;34m]\u001b[0m\u001b[0;34m.\u001b[0m\u001b[0mlens\u001b[0m\u001b[0;34m.\u001b[0m\u001b[0msum\u001b[0m\u001b[0;34m(\u001b[0m\u001b[0;34m)\u001b[0m\u001b[0;34m)\u001b[0m\u001b[0;34m\u001b[0m\u001b[0m\n\u001b[1;32m      6\u001b[0m     \u001b[0mpcr\u001b[0m\u001b[0;34m.\u001b[0m\u001b[0mcycle\u001b[0m\u001b[0;34m(\u001b[0m\u001b[0;34m)\u001b[0m\u001b[0;34m\u001b[0m\u001b[0m\n",
      "\u001b[0;31mTypeError\u001b[0m: 'NoneType' object is not iterable"
     ]
    }
   ],
   "source": [
    "products = []\n",
    "pairs = []\n",
    "for i in tqdm_notebook(range(20)):\n",
    "    products.append(sum([1 for x in pcr.p[0].p.extend(pcr.p[1].p) if len(x) > 1 ]))\n",
    "    pairs.append(pcr.p[0].lens.sum() + pcr.p[1].lens.sum())\n",
    "    pcr.cycle()"
   ]
  },
  {
   "cell_type": "code",
   "execution_count": 335,
   "metadata": {},
   "outputs": [
    {
     "data": {
      "text/plain": [
       "(16, 18)"
      ]
     },
     "execution_count": 335,
     "metadata": {},
     "output_type": "execute_result"
    }
   ],
   "source": [
    "pcr.anneal_all.shape"
   ]
  },
  {
   "cell_type": "code",
   "execution_count": 334,
   "metadata": {},
   "outputs": [
    {
     "data": {
      "image/png": "[encoded data removed]",
      "text/plain": [
       "<matplotlib.figure.Figure at 0x7fbda236ee10>"
      ]
     },
     "metadata": {},
     "output_type": "display_data"
    }
   ],
   "source": [
    "plot_gr(pcr.anneal_all, all_ticks=1)"
   ]
  },
  {
   "cell_type": "code",
   "execution_count": null,
   "metadata": {},
   "outputs": [],
   "source": []
  },
  {
   "cell_type": "code",
   "execution_count": 908,
   "metadata": {},
   "outputs": [
    {
     "data": {
      "text/plain": [
       "array([[ 3., 66.,  3.,  3.,  3.,  4.,  7.],\n",
       "       [ 8., 14., 92.,  2.,  3., 48., 14.],\n",
       "       [ 5.,  4.,  1., 83.,  1.,  0.,  1.],\n",
       "       [ 4.,  3.,  1.,  3., 64.,  2.,  4.],\n",
       "       [ 4., 18.,  2.,  2.,  2.,  0., 10.],\n",
       "       [ 2., 17.,  1.,  2.,  5., 12., 73.],\n",
       "       [37.,  4.,  1.,  0.,  0.,  0.,  0.]])"
      ]
     },
     "execution_count": 908,
     "metadata": {},
     "output_type": "execute_result"
    }
   ],
   "source": [
    "pcr.to_graph(7)"
   ]
  },
  {
   "cell_type": "code",
   "execution_count": 909,
   "metadata": {
    "scrolled": true
   },
   "outputs": [
    {
     "data": {
      "image/png": "[encoded data removed]",
      "text/plain": [
       "<matplotlib.figure.Figure at 0x7f9e03ea1a58>"
      ]
     },
     "metadata": {},
     "output_type": "display_data"
    }
   ],
   "source": [
    "plot_gr(pcr.to_graph(7), s = 3)"
   ]
  },
  {
   "cell_type": "code",
   "execution_count": 920,
   "metadata": {
    "scrolled": true
   },
   "outputs": [
    {
     "data": {
      "image/png": "[encoded data removed]",
      "text/plain": [
       "<matplotlib.figure.Figure at 0x7f9e03a6a978>"
      ]
     },
     "metadata": {},
     "output_type": "display_data"
    }
   ],
   "source": [
    "plot_gr(pcr.to_graph(7), s = 3, log = 1)"
   ]
  },
  {
   "cell_type": "code",
   "execution_count": 910,
   "metadata": {},
   "outputs": [
    {
     "data": {
      "text/plain": [
       "[[0, 0, 0, 1, 0, 2, 0, 3, 0, 4, 0], [0, 1, 0, 5, 0, 6, 0]]"
      ]
     },
     "execution_count": 910,
     "metadata": {},
     "output_type": "execute_result"
    }
   ],
   "source": [
    "p_list"
   ]
  },
  {
   "cell_type": "code",
   "execution_count": 762,
   "metadata": {},
   "outputs": [],
   "source": [
    "pcr.glue_f_to_b(2,3,0,2)"
   ]
  },
  {
   "cell_type": "code",
   "execution_count": 763,
   "metadata": {},
   "outputs": [],
   "source": [
    "pcr.glue_b_to_f(1,4, 2,1)"
   ]
  },
  {
   "cell_type": "code",
   "execution_count": 688,
   "metadata": {},
   "outputs": [
    {
     "ename": "NameError",
     "evalue": "name 'bj' is not defined",
     "output_type": "error",
     "traceback": [
      "\u001b[0;31m---------------------------------------------------------------------------\u001b[0m",
      "\u001b[0;31mNameError\u001b[0m                                 Traceback (most recent call last)",
      "\u001b[0;32m<ipython-input-688-bb49a4d5e5de>\u001b[0m in \u001b[0;36m<module>\u001b[0;34m()\u001b[0m\n\u001b[0;32m----> 1\u001b[0;31m \u001b[0;32mif\u001b[0m \u001b[0mbj\u001b[0m \u001b[0;34m>\u001b[0m \u001b[0;36m0\u001b[0m \u001b[0;32mand\u001b[0m \u001b[0mself\u001b[0m\u001b[0;34m.\u001b[0m\u001b[0mbp\u001b[0m\u001b[0;34m.\u001b[0m\u001b[0mp\u001b[0m\u001b[0;34m[\u001b[0m\u001b[0mbi\u001b[0m\u001b[0;34m]\u001b[0m\u001b[0;34m[\u001b[0m\u001b[0mbj\u001b[0m \u001b[0;34m-\u001b[0m \u001b[0;36m1\u001b[0m\u001b[0;34m]\u001b[0m \u001b[0;34m==\u001b[0m \u001b[0;34m-\u001b[0m\u001b[0;36m1\u001b[0m\u001b[0;34m:\u001b[0m\u001b[0;34m\u001b[0m\u001b[0m\n\u001b[0m\u001b[1;32m      2\u001b[0m     \u001b[0mcopy_part\u001b[0m \u001b[0;34m=\u001b[0m \u001b[0mself\u001b[0m\u001b[0;34m.\u001b[0m\u001b[0mfp\u001b[0m\u001b[0;34m.\u001b[0m\u001b[0mp\u001b[0m\u001b[0;34m[\u001b[0m\u001b[0mfi\u001b[0m\u001b[0;34m]\u001b[0m\u001b[0;34m[\u001b[0m\u001b[0;34m:\u001b[0m\u001b[0mfj\u001b[0m\u001b[0;34m]\u001b[0m\u001b[0;34m[\u001b[0m\u001b[0mself\u001b[0m\u001b[0;34m.\u001b[0m\u001b[0mfp\u001b[0m\u001b[0;34m.\u001b[0m\u001b[0mp\u001b[0m\u001b[0;34m[\u001b[0m\u001b[0mfi\u001b[0m\u001b[0;34m]\u001b[0m\u001b[0;34m[\u001b[0m\u001b[0;34m:\u001b[0m\u001b[0mfj\u001b[0m\u001b[0;34m]\u001b[0m \u001b[0;34m!=\u001b[0m \u001b[0;34m-\u001b[0m\u001b[0;36m1\u001b[0m\u001b[0;34m]\u001b[0m\u001b[0;34m[\u001b[0m\u001b[0mfj\u001b[0m \u001b[0;34m-\u001b[0m \u001b[0mbj\u001b[0m\u001b[0;34m:\u001b[0m\u001b[0mfj\u001b[0m\u001b[0;34m]\u001b[0m\u001b[0;34m\u001b[0m\u001b[0m\n\u001b[1;32m      3\u001b[0m     \u001b[0mself\u001b[0m\u001b[0;34m.\u001b[0m\u001b[0mfp\u001b[0m\u001b[0;34m.\u001b[0m\u001b[0mp\u001b[0m\u001b[0;34m[\u001b[0m\u001b[0mbi\u001b[0m\u001b[0;34m]\u001b[0m\u001b[0;34m[\u001b[0m\u001b[0mbj\u001b[0m \u001b[0;34m-\u001b[0m \u001b[0mcopy_part\u001b[0m\u001b[0;34m.\u001b[0m\u001b[0mshape\u001b[0m\u001b[0;34m[\u001b[0m\u001b[0;36m0\u001b[0m\u001b[0;34m]\u001b[0m\u001b[0;34m:\u001b[0m\u001b[0mbj\u001b[0m\u001b[0;34m]\u001b[0m \u001b[0;34m=\u001b[0m \u001b[0mcopy_part\u001b[0m\u001b[0;34m\u001b[0m\u001b[0m\n",
      "\u001b[0;31mNameError\u001b[0m: name 'bj' is not defined"
     ]
    }
   ],
   "source": [
    "if bj > 0 and self.bp.p[bi][bj - 1] == -1:\n",
    "    copy_part = self.fp.p[fi][:fj][self.fp.p[fi][:fj] != -1][fj - bj:fj]\n",
    "    self.fp.p[bi][bj - copy_part.shape[0]:bj] = copy_part"
   ]
  },
  {
   "cell_type": "code",
   "execution_count": null,
   "metadata": {},
   "outputs": [],
   "source": []
  },
  {
   "cell_type": "code",
   "execution_count": 641,
   "metadata": {
    "scrolled": true
   },
   "outputs": [
    {
     "name": "stdout",
     "output_type": "stream",
     "text": [
      "1 2 ;  0 2 ;  0 4\n",
      "2 1 ;  0 4 ;  0 2\n",
      "5 6 ;  1 2 ;  1 4\n",
      "6 5 ;  1 4 ;  1 2\n"
     ]
    }
   ],
   "source": [
    "pcr.print_glue_points()"
   ]
  },
  {
   "cell_type": "code",
   "execution_count": 612,
   "metadata": {},
   "outputs": [
    {
     "name": "stdout",
     "output_type": "stream",
     "text": [
      "1 17 ;  0 2 ;  3 4\n",
      "3 22 ;  0 6 ;  4 4\n",
      "6 6 ;  1 2 ;  1 2\n",
      "7 8 ;  1 4 ;  1 6\n",
      "8 7 ;  1 6 ;  1 4\n",
      "17 1 ;  3 4 ;  0 2\n",
      "22 3 ;  4 4 ;  0 6\n",
      "27 27 ;  5 4 ;  5 4\n"
     ]
    }
   ],
   "source": [
    "pcr._amplify()"
   ]
  },
  {
   "cell_type": "code",
   "execution_count": 789,
   "metadata": {},
   "outputs": [
    {
     "data": {
      "image/png": "[encoded data removed]",
      "text/plain": [
       "<matplotlib.figure.Figure at 0x7f9e040ef320>"
      ]
     },
     "metadata": {},
     "output_type": "display_data"
    }
   ],
   "source": [
    "pcr._annealing()\n",
    "plot_gr(pcr.comp_mat, s  = 8, all_ticks=1)"
   ]
  },
  {
   "cell_type": "markdown",
   "metadata": {},
   "source": [
    "## TRY REAL"
   ]
  },
  {
   "cell_type": "code",
   "execution_count": 16,
   "metadata": {},
   "outputs": [],
   "source": [
    "repeats_descr.mat = repeats_descr.mat**1.6"
   ]
  },
  {
   "cell_type": "code",
   "execution_count": 72,
   "metadata": {
    "scrolled": true
   },
   "outputs": [],
   "source": [
    "repeats_descr.mat[0][0] = 0.9"
   ]
  },
  {
   "cell_type": "code",
   "execution_count": 73,
   "metadata": {},
   "outputs": [],
   "source": [
    "p_list_0 = [[1, 0, 3, 6, 8, 9, 10, 13, 14, 15, 17, 12, 16] for i in range(10)] + \\\n",
    "            [[4, 2, 5, 7, 11] for i in range(10)] + \\\n",
    "               [[4, 24, 19, 18, 25, 30, 27, 26, 28, 31, 32, 33, 34]] + \\\n",
    "               [[1, 20, 22, 23, 21, 29]]"
   ]
  },
  {
   "cell_type": "code",
   "execution_count": 74,
   "metadata": {},
   "outputs": [],
   "source": [
    "p_list = []\n",
    "\n",
    "for p in p_list_0:\n",
    "    p_ = []\n",
    "    for c in p:\n",
    "        p_.append(0)\n",
    "        p_.append(c)\n",
    "    p_.append(0)\n",
    "    \n",
    "    p_list.append(p_)"
   ]
  },
  {
   "cell_type": "code",
   "execution_count": 77,
   "metadata": {},
   "outputs": [],
   "source": [
    "for i in range(5):\n",
    "    p_list[i][0] = 1\n",
    "    p_list[i][2] = 1\n",
    "    p_list[i][4] = 1"
   ]
  },
  {
   "cell_type": "code",
   "execution_count": 48,
   "metadata": {},
   "outputs": [
    {
     "data": {
      "text/plain": [
       "array([[-1,  0,  1,  0],\n",
       "       [-1,  0,  1,  0],\n",
       "       [-1,  0,  1,  0],\n",
       "       [-1,  0,  1,  0]])"
      ]
     },
     "execution_count": 48,
     "metadata": {},
     "output_type": "execute_result"
    }
   ],
   "source": [
    "p.p[3:7, 16:20]"
   ]
  },
  {
   "cell_type": "code",
   "execution_count": 191,
   "metadata": {},
   "outputs": [],
   "source": [
    "#p_list = [[0,0, 0,1, 0,2, 0,3, 0,4, 0], [0,1, 0,5, 0,6,0]]\n",
    "primers_num = {0:100, 1:100}\n",
    "p = Population(p_list, primers_num, max_len=64)"
   ]
  },
  {
   "cell_type": "code",
   "execution_count": 192,
   "metadata": {
    "scrolled": true
   },
   "outputs": [],
   "source": [
    "pcr = PCR(p, repeats_descr)"
   ]
  },
  {
   "cell_type": "code",
   "execution_count": 193,
   "metadata": {},
   "outputs": [
    {
     "name": "stdout",
     "output_type": "stream",
     "text": [
      "CPU times: user 1.48 s, sys: 509 ms, total: 1.99 s\n",
      "Wall time: 1.99 s\n"
     ]
    }
   ],
   "source": [
    "%time pcr.cycle()"
   ]
  },
  {
   "cell_type": "code",
   "execution_count": 194,
   "metadata": {},
   "outputs": [
    {
     "data": {
      "application/vnd.jupyter.widget-view+json": {
       "model_id": "dd8b286167944450a5c9aec487a769d2",
       "version_major": 2,
       "version_minor": 0
      },
      "text/plain": [
       "A Jupyter Widget"
      ]
     },
     "metadata": {},
     "output_type": "display_data"
    },
    {
     "name": "stdout",
     "output_type": "stream",
     "text": [
      "\n"
     ]
    }
   ],
   "source": [
    "products = []\n",
    "total = []\n",
    "for i in tqdm_notebook(range(15)):\n",
    "    products.append(((pcr.fp.p != -1).sum(1) != 1).sum())\n",
    "    total.append((pcr.fp.p != -1).astype(int).sum())\n",
    "    pcr.cycle()"
   ]
  },
  {
   "cell_type": "code",
   "execution_count": 177,
   "metadata": {},
   "outputs": [
    {
     "data": {
      "image/png": "[encoded data removed]",
      "text/plain": [
       "<matplotlib.figure.Figure at 0x7f00dcf92f28>"
      ]
     },
     "metadata": {},
     "output_type": "display_data"
    }
   ],
   "source": [
    "plt.plot(products)\n",
    "plt.show()"
   ]
  },
  {
   "cell_type": "code",
   "execution_count": 178,
   "metadata": {},
   "outputs": [
    {
     "data": {
      "image/png": "[encoded data removed]",
      "text/plain": [
       "<matplotlib.figure.Figure at 0x7f00dcf64908>"
      ]
     },
     "metadata": {},
     "output_type": "display_data"
    }
   ],
   "source": [
    "plt.plot(total)\n",
    "plt.show()"
   ]
  },
  {
   "cell_type": "code",
   "execution_count": 179,
   "metadata": {
    "scrolled": false
   },
   "outputs": [
    {
     "data": {
      "image/png": "[encoded data removed]",
      "text/plain": [
       "<matplotlib.figure.Figure at 0x7f00dcfe95c0>"
      ]
     },
     "metadata": {},
     "output_type": "display_data"
    }
   ],
   "source": [
    "plot_gr(pcr.to_graph(35), log = 1)"
   ]
  },
  {
   "cell_type": "code",
   "execution_count": 195,
   "metadata": {
    "scrolled": false
   },
   "outputs": [
    {
     "data": {
      "image/png": "[encoded data removed]",
      "text/plain": [
       "<matplotlib.figure.Figure at 0x7f00dccd7cc0>"
      ]
     },
     "metadata": {},
     "output_type": "display_data"
    }
   ],
   "source": [
    "plot_gr(pcr.to_graph(35), log = 1)"
   ]
  },
  {
   "cell_type": "code",
   "execution_count": 185,
   "metadata": {},
   "outputs": [],
   "source": [
    "gr = pcr.to_graph(35)"
   ]
  },
  {
   "cell_type": "code",
   "execution_count": 188,
   "metadata": {},
   "outputs": [
    {
     "data": {
      "text/plain": [
       "338.0"
      ]
     },
     "execution_count": 188,
     "metadata": {},
     "output_type": "execute_result"
    }
   ],
   "source": [
    "gr[15:].max()"
   ]
  },
  {
   "cell_type": "code",
   "execution_count": 189,
   "metadata": {},
   "outputs": [
    {
     "data": {
      "text/plain": [
       "338.0"
      ]
     },
     "execution_count": 189,
     "metadata": {},
     "output_type": "execute_result"
    }
   ],
   "source": [
    "gr[:17].max()"
   ]
  },
  {
   "cell_type": "code",
   "execution_count": 184,
   "metadata": {},
   "outputs": [
    {
     "data": {
      "text/plain": [
       "145.0"
      ]
     },
     "execution_count": 184,
     "metadata": {},
     "output_type": "execute_result"
    }
   ],
   "source": [
    "gr[0].max()"
   ]
  },
  {
   "cell_type": "code",
   "execution_count": 190,
   "metadata": {},
   "outputs": [
    {
     "data": {
      "text/plain": [
       "12.703703703703704"
      ]
     },
     "execution_count": 190,
     "metadata": {},
     "output_type": "execute_result"
    }
   ],
   "source": [
    "343 / 27"
   ]
  },
  {
   "cell_type": "code",
   "execution_count": 920,
   "metadata": {
    "scrolled": true
   },
   "outputs": [
    {
     "data": {
      "image/png": "[encoded data removed]",
      "text/plain": [
       "<matplotlib.figure.Figure at 0x7f9e03a6a978>"
      ]
     },
     "metadata": {},
     "output_type": "display_data"
    }
   ],
   "source": [
    "plot_gr(pcr.to_graph(7), s = 3, log = 1)"
   ]
  },
  {
   "cell_type": "code",
   "execution_count": 912,
   "metadata": {},
   "outputs": [],
   "source": [
    "p_list = [[0,0, 0,1, 0,2, 0,3, 0,4, 0], [0,1, 0,5, 0,6,0]]\n",
    "primers_num = {0:100}\n",
    "p = Population(p_list, primers_num, max_len=16)"
   ]
  },
  {
   "cell_type": "code",
   "execution_count": 913,
   "metadata": {
    "scrolled": true
   },
   "outputs": [
    {
     "data": {
      "text/plain": [
       "array([[-1, -1,  0,  0,  0,  1,  0,  2,  0,  3,  0,  4,  0, -1, -1, -1],\n",
       "       [-1, -1, -1, -1,  0,  1,  0,  5,  0,  6,  0, -1, -1, -1, -1, -1],\n",
       "       [-1, -1, -1, -1, -1, -1, -1, -1,  0, -1, -1, -1, -1, -1, -1, -1]])"
      ]
     },
     "execution_count": 913,
     "metadata": {},
     "output_type": "execute_result"
    }
   ],
   "source": [
    "p.p[:3]"
   ]
  },
  {
   "cell_type": "code",
   "execution_count": 914,
   "metadata": {
    "scrolled": true
   },
   "outputs": [
    {
     "data": {
      "text/plain": [
       "array([[-1, -1, -1, -1, -1, -1, -1, -1,  0, -1, -1, -1, -1, -1, -1, -1],\n",
       "       [-1, -1, -1, -1, -1, -1, -1, -1,  0, -1, -1, -1, -1, -1, -1, -1]])"
      ]
     },
     "execution_count": 914,
     "metadata": {},
     "output_type": "execute_result"
    }
   ],
   "source": [
    "p.p[-2:]"
   ]
  },
  {
   "cell_type": "code",
   "execution_count": 915,
   "metadata": {},
   "outputs": [],
   "source": [
    "pcr = PCR(p, repeats_descr)"
   ]
  },
  {
   "cell_type": "code",
   "execution_count": 916,
   "metadata": {
    "scrolled": true
   },
   "outputs": [
    {
     "data": {
      "text/plain": [
       "array([[-1, -1,  0, ..., -1, -1, -1],\n",
       "       [-1, -1, -1, ..., -1, -1, -1],\n",
       "       [-1, -1, -1, ..., -1, -1, -1],\n",
       "       ...,\n",
       "       [-1, -1, -1, ..., -1, -1, -1],\n",
       "       [-1, -1, -1, ..., -1, -1, -1],\n",
       "       [-1, -1, -1, ..., -1, -1, -1]])"
      ]
     },
     "execution_count": 916,
     "metadata": {},
     "output_type": "execute_result"
    }
   ],
   "source": [
    "pcr.fp.p"
   ]
  },
  {
   "cell_type": "code",
   "execution_count": 917,
   "metadata": {
    "scrolled": true
   },
   "outputs": [
    {
     "data": {
      "text/plain": [
       "array([[-1, -1,  0,  0,  0,  1,  0,  2,  0,  3,  0,  4,  0, -1, -1, -1],\n",
       "       [-1, -1, -1, -1,  0,  1,  0,  5,  0,  6,  0, -1, -1, -1, -1, -1],\n",
       "       [-1, -1, -1, -1, -1, -1, -1, -1,  0, -1, -1, -1, -1, -1, -1, -1],\n",
       "       [-1, -1, -1, -1, -1, -1, -1, -1,  0, -1, -1, -1, -1, -1, -1, -1],\n",
       "       [-1, -1, -1, -1, -1, -1, -1, -1,  0, -1, -1, -1, -1, -1, -1, -1],\n",
       "       [-1, -1, -1, -1, -1, -1, -1, -1,  0, -1, -1, -1, -1, -1, -1, -1],\n",
       "       [-1, -1, -1, -1, -1, -1, -1, -1,  0, -1, -1, -1, -1, -1, -1, -1],\n",
       "       [-1, -1, -1, -1, -1, -1, -1, -1,  0, -1, -1, -1, -1, -1, -1, -1],\n",
       "       [-1, -1, -1, -1, -1, -1, -1, -1,  0, -1, -1, -1, -1, -1, -1, -1],\n",
       "       [-1, -1, -1, -1, -1, -1, -1, -1,  0, -1, -1, -1, -1, -1, -1, -1]])"
      ]
     },
     "execution_count": 917,
     "metadata": {},
     "output_type": "execute_result"
    }
   ],
   "source": [
    "pcr.bp.p[:10]"
   ]
  },
  {
   "cell_type": "code",
   "execution_count": 918,
   "metadata": {},
   "outputs": [
    {
     "name": "stdout",
     "output_type": "stream",
     "text": [
      "1 300 ;  0 2 ;  37 8\n",
      "4 4 ;  0 8 ;  0 8\n",
      "5 84 ;  0 10 ;  10 8\n",
      "11 572 ;  1 6 ;  71 8\n",
      "20 20 ;  2 8 ;  2 8\n",
      "28 228 ;  3 8 ;  28 8\n",
      "52 100 ;  6 8 ;  12 8\n",
      "60 516 ;  7 8 ;  64 8\n",
      "84 5 ;  10 8 ;  0 10\n",
      "100 52 ;  12 8 ;  6 8\n",
      "124 612 ;  15 8 ;  76 8\n",
      "132 492 ;  16 8 ;  61 8\n",
      "140 436 ;  17 8 ;  54 8\n",
      "156 756 ;  19 8 ;  94 8\n",
      "164 708 ;  20 8 ;  88 8\n",
      "180 652 ;  22 8 ;  81 8\n",
      "204 484 ;  25 8 ;  60 8\n",
      "228 28 ;  28 8 ;  3 8\n",
      "236 540 ;  29 8 ;  67 8\n",
      "260 524 ;  32 8 ;  65 8\n",
      "268 548 ;  33 8 ;  68 8\n",
      "276 604 ;  34 8 ;  75 8\n",
      "292 764 ;  36 8 ;  95 8\n",
      "300 1 ;  37 8 ;  0 2\n",
      "308 340 ;  38 8 ;  42 8\n",
      "324 444 ;  40 8 ;  55 8\n",
      "332 748 ;  41 8 ;  93 8\n",
      "340 308 ;  42 8 ;  38 8\n",
      "348 716 ;  43 8 ;  89 8\n",
      "412 556 ;  51 8 ;  69 8\n",
      "436 140 ;  54 8 ;  17 8\n",
      "444 324 ;  55 8 ;  40 8\n",
      "468 780 ;  58 8 ;  97 8\n",
      "484 204 ;  60 8 ;  25 8\n",
      "492 132 ;  61 8 ;  16 8\n",
      "508 812 ;  63 8 ;  101 8\n",
      "516 60 ;  64 8 ;  7 8\n",
      "524 260 ;  65 8 ;  32 8\n",
      "532 620 ;  66 8 ;  77 8\n",
      "540 236 ;  67 8 ;  29 8\n",
      "548 268 ;  68 8 ;  33 8\n",
      "556 412 ;  69 8 ;  51 8\n",
      "572 11 ;  71 8 ;  1 6\n",
      "580 644 ;  72 8 ;  80 8\n",
      "604 276 ;  75 8 ;  34 8\n",
      "612 124 ;  76 8 ;  15 8\n",
      "620 532 ;  77 8 ;  66 8\n",
      "644 580 ;  80 8 ;  72 8\n",
      "652 180 ;  81 8 ;  22 8\n",
      "708 164 ;  88 8 ;  20 8\n",
      "716 348 ;  89 8 ;  43 8\n",
      "748 332 ;  93 8 ;  41 8\n",
      "756 156 ;  94 8 ;  19 8\n",
      "764 292 ;  95 8 ;  36 8\n",
      "780 468 ;  97 8 ;  58 8\n",
      "812 508 ;  101 8 ;  63 8\n",
      "1 100 ;  0 2 ;  12 8\n",
      "3 20 ;  0 6 ;  2 8\n",
      "6 580 ;  0 12 ;  72 8\n",
      "10 636 ;  1 4 ;  79 8\n",
      "11 804 ;  1 6 ;  100 8\n",
      "12 724 ;  1 8 ;  90 8\n",
      "20 3 ;  2 8 ;  0 6\n",
      "60 348 ;  7 8 ;  43 8\n",
      "68 68 ;  8 8 ;  8 8\n",
      "76 740 ;  9 8 ;  92 8\n",
      "92 700 ;  11 8 ;  87 8\n",
      "100 1 ;  12 8 ;  0 2\n",
      "132 404 ;  16 8 ;  50 8\n",
      "148 748 ;  18 8 ;  93 8\n",
      "156 532 ;  19 8 ;  66 8\n",
      "172 588 ;  21 8 ;  73 8\n",
      "180 812 ;  22 8 ;  101 8\n",
      "188 324 ;  23 8 ;  40 8\n",
      "220 716 ;  27 8 ;  89 8\n",
      "228 692 ;  28 8 ;  86 8\n",
      "236 236 ;  29 8 ;  29 8\n",
      "260 756 ;  32 8 ;  94 8\n",
      "292 300 ;  36 8 ;  37 8\n",
      "300 292 ;  37 8 ;  36 8\n",
      "308 596 ;  38 8 ;  74 8\n",
      "316 452 ;  39 8 ;  56 8\n",
      "324 188 ;  40 8 ;  23 8\n",
      "348 60 ;  43 8 ;  7 8\n",
      "404 132 ;  50 8 ;  16 8\n",
      "412 428 ;  51 8 ;  53 8\n",
      "420 460 ;  52 8 ;  57 8\n",
      "428 412 ;  53 8 ;  51 8\n",
      "436 620 ;  54 8 ;  77 8\n",
      "452 316 ;  56 8 ;  39 8\n",
      "460 420 ;  57 8 ;  52 8\n",
      "524 548 ;  65 8 ;  68 8\n",
      "532 156 ;  66 8 ;  19 8\n",
      "548 524 ;  68 8 ;  65 8\n",
      "572 572 ;  71 8 ;  71 8\n",
      "580 6 ;  72 8 ;  0 12\n",
      "588 172 ;  73 8 ;  21 8\n",
      "596 308 ;  74 8 ;  38 8\n",
      "612 684 ;  76 8 ;  85 8\n",
      "620 436 ;  77 8 ;  54 8\n",
      "636 10 ;  79 8 ;  1 4\n",
      "644 780 ;  80 8 ;  97 8\n",
      "676 676 ;  84 8 ;  84 8\n",
      "684 612 ;  85 8 ;  76 8\n",
      "692 228 ;  86 8 ;  28 8\n",
      "700 92 ;  87 8 ;  11 8\n",
      "716 220 ;  89 8 ;  27 8\n",
      "724 12 ;  90 8 ;  1 8\n",
      "740 76 ;  92 8 ;  9 8\n",
      "748 148 ;  93 8 ;  18 8\n",
      "756 260 ;  94 8 ;  32 8\n",
      "780 644 ;  97 8 ;  80 8\n",
      "804 11 ;  100 8 ;  1 6\n",
      "812 180 ;  101 8 ;  22 8\n",
      "3 764 ;  0 6 ;  95 8\n",
      "4 588 ;  0 8 ;  73 8\n",
      "6 516 ;  0 12 ;  64 8\n",
      "10 796 ;  1 4 ;  99 8\n",
      "20 148 ;  2 8 ;  18 8\n",
      "36 476 ;  4 8 ;  59 8\n",
      "44 412 ;  5 8 ;  51 8\n",
      "52 572 ;  6 8 ;  71 8\n",
      "68 188 ;  8 8 ;  23 8\n",
      "76 244 ;  9 8 ;  30 8\n",
      "92 196 ;  11 8 ;  24 8\n",
      "100 164 ;  12 8 ;  20 8\n",
      "108 780 ;  13 8 ;  97 8\n",
      "132 716 ;  16 8 ;  89 8\n",
      "148 20 ;  18 8 ;  2 8\n",
      "164 100 ;  20 8 ;  12 8\n",
      "188 68 ;  23 8 ;  8 8\n",
      "196 92 ;  24 8 ;  11 8\n",
      "220 812 ;  27 8 ;  101 8\n",
      "236 292 ;  29 8 ;  36 8\n",
      "244 76 ;  30 8 ;  9 8\n",
      "260 284 ;  32 8 ;  35 8\n",
      "268 524 ;  33 8 ;  65 8\n",
      "284 260 ;  35 8 ;  32 8\n",
      "292 236 ;  36 8 ;  29 8\n",
      "324 484 ;  40 8 ;  60 8\n",
      "332 788 ;  41 8 ;  98 8\n",
      "340 652 ;  42 8 ;  81 8\n",
      "348 628 ;  43 8 ;  78 8\n",
      "380 580 ;  47 8 ;  72 8\n",
      "388 660 ;  48 8 ;  82 8\n",
      "412 44 ;  51 8 ;  5 8\n",
      "428 540 ;  53 8 ;  67 8\n",
      "436 612 ;  54 8 ;  76 8\n",
      "452 548 ;  56 8 ;  68 8\n",
      "476 36 ;  59 8 ;  4 8\n",
      "484 324 ;  60 8 ;  40 8\n",
      "492 668 ;  61 8 ;  83 8\n",
      "516 6 ;  64 8 ;  0 12\n",
      "524 268 ;  65 8 ;  33 8\n",
      "540 428 ;  67 8 ;  53 8\n",
      "548 452 ;  68 8 ;  56 8\n",
      "572 52 ;  71 8 ;  6 8\n",
      "580 380 ;  72 8 ;  47 8\n",
      "588 4 ;  73 8 ;  0 8\n",
      "612 436 ;  76 8 ;  54 8\n",
      "628 348 ;  78 8 ;  43 8\n",
      "636 748 ;  79 8 ;  93 8\n",
      "652 340 ;  81 8 ;  42 8\n",
      "660 388 ;  82 8 ;  48 8\n",
      "668 492 ;  83 8 ;  61 8\n",
      "700 740 ;  87 8 ;  92 8\n",
      "716 132 ;  89 8 ;  16 8\n",
      "740 700 ;  92 8 ;  87 8\n",
      "748 636 ;  93 8 ;  79 8\n",
      "764 3 ;  95 8 ;  0 6\n",
      "780 108 ;  97 8 ;  13 8\n",
      "788 332 ;  98 8 ;  41 8\n",
      "796 10 ;  99 8 ;  1 4\n",
      "812 220 ;  101 8 ;  27 8\n",
      "1 716 ;  0 2 ;  89 8\n",
      "3 460 ;  0 6 ;  57 8\n",
      "4 580 ;  0 8 ;  72 8\n",
      "5 396 ;  0 10 ;  49 8\n",
      "10 300 ;  1 4 ;  37 8\n",
      "11 212 ;  1 6 ;  26 8\n",
      "12 284 ;  1 8 ;  35 8\n",
      "28 156 ;  3 8 ;  19 8\n",
      "44 260 ;  5 8 ;  32 8\n",
      "52 708 ;  6 8 ;  88 8\n",
      "68 780 ;  8 8 ;  97 8\n",
      "76 452 ;  9 8 ;  56 8\n",
      "84 524 ;  10 8 ;  65 8\n",
      "140 620 ;  17 8 ;  77 8\n",
      "156 28 ;  19 8 ;  3 8\n",
      "180 604 ;  22 8 ;  75 8\n",
      "188 788 ;  23 8 ;  98 8\n",
      "212 11 ;  26 8 ;  1 6\n",
      "220 740 ;  27 8 ;  92 8\n",
      "244 388 ;  30 8 ;  48 8\n",
      "252 724 ;  31 8 ;  90 8\n",
      "260 44 ;  32 8 ;  5 8\n",
      "284 12 ;  35 8 ;  1 8\n",
      "300 10 ;  37 8 ;  1 4\n",
      "316 700 ;  39 8 ;  87 8\n",
      "332 420 ;  41 8 ;  52 8\n",
      "340 340 ;  42 8 ;  42 8\n",
      "348 492 ;  43 8 ;  61 8\n",
      "364 644 ;  45 8 ;  80 8\n",
      "372 436 ;  46 8 ;  54 8\n",
      "388 244 ;  48 8 ;  30 8\n",
      "396 5 ;  49 8 ;  0 10\n",
      "420 332 ;  52 8 ;  41 8\n",
      "436 372 ;  54 8 ;  46 8\n",
      "452 76 ;  56 8 ;  9 8\n",
      "460 3 ;  57 8 ;  0 6\n",
      "468 596 ;  58 8 ;  74 8\n",
      "476 772 ;  59 8 ;  96 8\n",
      "492 348 ;  61 8 ;  43 8\n",
      "508 804 ;  63 8 ;  100 8\n",
      "524 84 ;  65 8 ;  10 8\n",
      "572 748 ;  71 8 ;  93 8\n",
      "580 4 ;  72 8 ;  0 8\n",
      "596 468 ;  74 8 ;  58 8\n",
      "604 180 ;  75 8 ;  22 8\n",
      "620 140 ;  77 8 ;  17 8\n",
      "644 364 ;  80 8 ;  45 8\n",
      "660 660 ;  82 8 ;  82 8\n",
      "700 316 ;  87 8 ;  39 8\n",
      "708 52 ;  88 8 ;  6 8\n",
      "716 1 ;  89 8 ;  0 2\n",
      "724 252 ;  90 8 ;  31 8\n",
      "740 220 ;  92 8 ;  27 8\n",
      "748 572 ;  93 8 ;  71 8\n",
      "772 476 ;  96 8 ;  59 8\n",
      "780 68 ;  97 8 ;  8 8\n",
      "788 188 ;  98 8 ;  23 8\n",
      "804 508 ;  100 8 ;  63 8\n",
      "1 260 ;  0 2 ;  32 8\n",
      "2 412 ;  0 4 ;  51 8\n",
      "3 3 ;  0 6 ;  0 6\n",
      "4 364 ;  0 8 ;  45 8\n",
      "5 356 ;  0 10 ;  44 8\n",
      "6 284 ;  0 12 ;  35 8\n",
      "20 796 ;  2 8 ;  99 8\n",
      "28 500 ;  3 8 ;  62 8\n",
      "44 220 ;  5 8 ;  27 8\n",
      "60 612 ;  7 8 ;  76 8\n",
      "76 84 ;  9 8 ;  10 8\n",
      "84 76 ;  10 8 ;  9 8\n",
      "92 716 ;  11 8 ;  89 8\n",
      "100 596 ;  12 8 ;  74 8\n",
      "108 404 ;  13 8 ;  50 8\n",
      "124 196 ;  15 8 ;  24 8\n",
      "140 340 ;  17 8 ;  42 8\n",
      "164 572 ;  20 8 ;  71 8\n",
      "172 676 ;  21 8 ;  84 8\n",
      "180 428 ;  22 8 ;  53 8\n",
      "196 124 ;  24 8 ;  15 8\n",
      "212 684 ;  26 8 ;  85 8\n",
      "220 44 ;  27 8 ;  5 8\n",
      "260 1 ;  32 8 ;  0 2\n",
      "276 468 ;  34 8 ;  58 8\n",
      "284 6 ;  35 8 ;  0 12\n",
      "292 580 ;  36 8 ;  72 8\n",
      "332 476 ;  41 8 ;  59 8\n",
      "340 140 ;  42 8 ;  17 8\n",
      "348 524 ;  43 8 ;  65 8\n",
      "356 5 ;  44 8 ;  0 10\n",
      "364 4 ;  45 8 ;  0 8\n",
      "396 668 ;  49 8 ;  83 8\n",
      "404 108 ;  50 8 ;  13 8\n",
      "412 2 ;  51 8 ;  0 4\n",
      "428 180 ;  53 8 ;  22 8\n",
      "468 276 ;  58 8 ;  34 8\n",
      "476 332 ;  59 8 ;  41 8\n",
      "500 28 ;  62 8 ;  3 8\n",
      "524 348 ;  65 8 ;  43 8\n",
      "556 748 ;  69 8 ;  93 8\n",
      "572 164 ;  71 8 ;  20 8\n",
      "580 292 ;  72 8 ;  36 8\n",
      "596 100 ;  74 8 ;  12 8\n",
      "612 60 ;  76 8 ;  7 8\n",
      "620 652 ;  77 8 ;  81 8\n",
      "628 692 ;  78 8 ;  86 8\n",
      "652 620 ;  81 8 ;  77 8\n",
      "668 396 ;  83 8 ;  49 8\n",
      "676 172 ;  84 8 ;  21 8\n",
      "684 212 ;  85 8 ;  26 8\n",
      "692 628 ;  86 8 ;  78 8\n",
      "716 92 ;  89 8 ;  11 8\n",
      "748 556 ;  93 8 ;  69 8\n",
      "756 764 ;  94 8 ;  95 8\n",
      "764 756 ;  95 8 ;  94 8\n",
      "796 20 ;  99 8 ;  2 8\n",
      "2 452 ;  0 4 ;  56 8\n",
      "5 124 ;  0 10 ;  15 8\n",
      "10 396 ;  1 4 ;  49 8\n",
      "20 684 ;  2 8 ;  85 8\n",
      "36 156 ;  4 8 ;  19 8\n",
      "60 180 ;  7 8 ;  22 8\n",
      "76 620 ;  9 8 ;  77 8\n",
      "116 764 ;  14 8 ;  95 8\n",
      "124 5 ;  15 8 ;  0 10\n",
      "132 380 ;  16 8 ;  47 8\n",
      "140 340 ;  17 8 ;  42 8\n",
      "148 636 ;  18 8 ;  79 8\n",
      "156 36 ;  19 8 ;  4 8\n",
      "180 60 ;  22 8 ;  7 8\n",
      "188 372 ;  23 8 ;  46 8\n",
      "196 676 ;  24 8 ;  84 8\n",
      "204 700 ;  25 8 ;  87 8\n",
      "212 468 ;  26 8 ;  58 8\n",
      "220 796 ;  27 8 ;  99 8\n",
      "236 612 ;  29 8 ;  76 8\n",
      "244 348 ;  30 8 ;  43 8\n",
      "276 708 ;  34 8 ;  88 8\n",
      "292 804 ;  36 8 ;  100 8\n",
      "308 548 ;  38 8 ;  68 8\n",
      "340 140 ;  42 8 ;  17 8\n",
      "348 244 ;  43 8 ;  30 8\n",
      "356 724 ;  44 8 ;  90 8\n",
      "372 188 ;  46 8 ;  23 8\n",
      "380 132 ;  47 8 ;  16 8\n",
      "396 10 ;  49 8 ;  1 4\n",
      "404 580 ;  50 8 ;  72 8\n",
      "436 564 ;  54 8 ;  70 8\n",
      "452 2 ;  56 8 ;  0 4\n",
      "468 212 ;  58 8 ;  26 8\n",
      "540 628 ;  67 8 ;  78 8\n",
      "548 308 ;  68 8 ;  38 8\n",
      "556 692 ;  69 8 ;  86 8\n",
      "564 436 ;  70 8 ;  54 8\n",
      "580 404 ;  72 8 ;  50 8\n",
      "612 236 ;  76 8 ;  29 8\n",
      "620 76 ;  77 8 ;  9 8\n",
      "628 540 ;  78 8 ;  67 8\n",
      "636 148 ;  79 8 ;  18 8\n",
      "676 196 ;  84 8 ;  24 8\n",
      "684 20 ;  85 8 ;  2 8\n",
      "692 556 ;  86 8 ;  69 8\n",
      "700 204 ;  87 8 ;  25 8\n",
      "708 276 ;  88 8 ;  34 8\n",
      "724 356 ;  90 8 ;  44 8\n",
      "764 116 ;  95 8 ;  14 8\n",
      "796 220 ;  99 8 ;  27 8\n",
      "804 292 ;  100 8 ;  36 8\n",
      "3 20 ;  0 6 ;  2 8\n",
      "5 5 ;  0 10 ;  0 10\n",
      "10 10 ;  1 4 ;  1 4\n",
      "12 156 ;  1 8 ;  19 8\n",
      "20 3 ;  2 8 ;  0 6\n",
      "28 172 ;  3 8 ;  21 8\n",
      "60 380 ;  7 8 ;  47 8\n",
      "68 628 ;  8 8 ;  78 8\n",
      "92 236 ;  11 8 ;  29 8\n",
      "148 388 ;  18 8 ;  48 8\n",
      "156 12 ;  19 8 ;  1 8\n",
      "164 204 ;  20 8 ;  25 8\n",
      "172 28 ;  21 8 ;  3 8\n",
      "188 492 ;  23 8 ;  61 8\n",
      "196 356 ;  24 8 ;  44 8\n",
      "204 164 ;  25 8 ;  20 8\n",
      "212 268 ;  26 8 ;  33 8\n",
      "228 804 ;  28 8 ;  100 8\n",
      "236 92 ;  29 8 ;  11 8\n",
      "244 796 ;  30 8 ;  99 8\n",
      "268 212 ;  33 8 ;  26 8\n",
      "308 788 ;  38 8 ;  98 8\n",
      "316 580 ;  39 8 ;  72 8\n",
      "356 196 ;  44 8 ;  24 8\n"
     ]
    },
    {
     "name": "stdout",
     "output_type": "stream",
     "text": [
      "380 60 ;  47 8 ;  7 8\n",
      "388 148 ;  48 8 ;  18 8\n",
      "412 780 ;  51 8 ;  97 8\n",
      "444 700 ;  55 8 ;  87 8\n",
      "452 468 ;  56 8 ;  58 8\n",
      "468 452 ;  58 8 ;  56 8\n",
      "492 188 ;  61 8 ;  23 8\n",
      "508 564 ;  63 8 ;  70 8\n",
      "540 732 ;  67 8 ;  91 8\n",
      "548 660 ;  68 8 ;  82 8\n",
      "564 508 ;  70 8 ;  63 8\n",
      "572 812 ;  71 8 ;  101 8\n",
      "580 316 ;  72 8 ;  39 8\n",
      "596 708 ;  74 8 ;  88 8\n",
      "628 68 ;  78 8 ;  8 8\n",
      "660 548 ;  82 8 ;  68 8\n",
      "700 444 ;  87 8 ;  55 8\n",
      "708 596 ;  88 8 ;  74 8\n",
      "732 540 ;  91 8 ;  67 8\n",
      "764 772 ;  95 8 ;  96 8\n",
      "772 764 ;  96 8 ;  95 8\n",
      "780 412 ;  97 8 ;  51 8\n",
      "788 308 ;  98 8 ;  38 8\n",
      "796 244 ;  99 8 ;  30 8\n",
      "804 228 ;  100 8 ;  28 8\n",
      "812 572 ;  101 8 ;  71 8\n",
      "2 692 ;  0 4 ;  86 8\n",
      "3 92 ;  0 6 ;  11 8\n",
      "4 52 ;  0 8 ;  6 8\n",
      "6 244 ;  0 12 ;  30 8\n",
      "10 420 ;  1 4 ;  52 8\n",
      "11 564 ;  1 6 ;  70 8\n",
      "13 796 ;  1 10 ;  99 8\n",
      "20 148 ;  2 8 ;  18 8\n",
      "36 684 ;  4 8 ;  85 8\n",
      "52 4 ;  6 8 ;  0 8\n",
      "76 460 ;  9 8 ;  57 8\n",
      "84 276 ;  10 8 ;  34 8\n",
      "92 3 ;  11 8 ;  0 6\n",
      "100 292 ;  12 8 ;  36 8\n",
      "116 636 ;  14 8 ;  79 8\n",
      "140 612 ;  17 8 ;  76 8\n",
      "148 20 ;  18 8 ;  2 8\n",
      "172 532 ;  21 8 ;  66 8\n",
      "180 780 ;  22 8 ;  97 8\n",
      "196 540 ;  24 8 ;  67 8\n",
      "228 756 ;  28 8 ;  94 8\n",
      "236 588 ;  29 8 ;  73 8\n",
      "244 6 ;  30 8 ;  0 12\n",
      "268 268 ;  33 8 ;  33 8\n",
      "276 84 ;  34 8 ;  10 8\n",
      "284 628 ;  35 8 ;  78 8\n",
      "292 100 ;  36 8 ;  12 8\n",
      "324 444 ;  40 8 ;  55 8\n",
      "356 772 ;  44 8 ;  96 8\n",
      "412 708 ;  51 8 ;  88 8\n",
      "420 10 ;  52 8 ;  1 4\n",
      "428 700 ;  53 8 ;  87 8\n",
      "444 324 ;  55 8 ;  40 8\n",
      "452 804 ;  56 8 ;  100 8\n",
      "460 76 ;  57 8 ;  9 8\n",
      "476 508 ;  59 8 ;  63 8\n",
      "492 548 ;  61 8 ;  68 8\n",
      "508 476 ;  63 8 ;  59 8\n",
      "524 604 ;  65 8 ;  75 8\n",
      "532 172 ;  66 8 ;  21 8\n",
      "540 196 ;  67 8 ;  24 8\n",
      "548 492 ;  68 8 ;  61 8\n",
      "564 11 ;  70 8 ;  1 6\n",
      "572 668 ;  71 8 ;  83 8\n",
      "580 676 ;  72 8 ;  84 8\n",
      "588 236 ;  73 8 ;  29 8\n",
      "596 788 ;  74 8 ;  98 8\n",
      "604 524 ;  75 8 ;  65 8\n",
      "612 140 ;  76 8 ;  17 8\n",
      "620 644 ;  77 8 ;  80 8\n",
      "628 284 ;  78 8 ;  35 8\n",
      "636 116 ;  79 8 ;  14 8\n",
      "644 620 ;  80 8 ;  77 8\n",
      "668 572 ;  83 8 ;  71 8\n",
      "676 580 ;  84 8 ;  72 8\n",
      "684 36 ;  85 8 ;  4 8\n",
      "692 2 ;  86 8 ;  0 4\n",
      "700 428 ;  87 8 ;  53 8\n",
      "708 412 ;  88 8 ;  51 8\n",
      "732 812 ;  91 8 ;  101 8\n",
      "756 228 ;  94 8 ;  28 8\n",
      "772 356 ;  96 8 ;  44 8\n",
      "780 180 ;  97 8 ;  22 8\n",
      "788 596 ;  98 8 ;  74 8\n",
      "796 13 ;  99 8 ;  1 10\n",
      "804 452 ;  100 8 ;  56 8\n",
      "812 732 ;  101 8 ;  91 8\n",
      "2 364 ;  0 4 ;  45 8\n",
      "4 172 ;  0 8 ;  21 8\n",
      "10 100 ;  1 4 ;  12 8\n",
      "13 724 ;  1 10 ;  90 8\n",
      "44 652 ;  5 8 ;  81 8\n",
      "60 500 ;  7 8 ;  62 8\n",
      "68 532 ;  8 8 ;  66 8\n",
      "76 260 ;  9 8 ;  32 8\n",
      "84 300 ;  10 8 ;  37 8\n",
      "92 228 ;  11 8 ;  28 8\n",
      "100 10 ;  12 8 ;  1 4\n",
      "148 484 ;  18 8 ;  60 8\n",
      "172 4 ;  21 8 ;  0 8\n",
      "180 412 ;  22 8 ;  51 8\n",
      "212 212 ;  26 8 ;  26 8\n",
      "220 748 ;  27 8 ;  93 8\n",
      "228 92 ;  28 8 ;  11 8\n",
      "260 76 ;  32 8 ;  9 8\n",
      "276 380 ;  34 8 ;  47 8\n",
      "284 572 ;  35 8 ;  71 8\n",
      "300 84 ;  37 8 ;  10 8\n",
      "340 428 ;  42 8 ;  53 8\n",
      "356 700 ;  44 8 ;  87 8\n",
      "364 2 ;  45 8 ;  0 4\n",
      "380 276 ;  47 8 ;  34 8\n",
      "388 812 ;  48 8 ;  101 8\n",
      "396 756 ;  49 8 ;  94 8\n",
      "412 180 ;  51 8 ;  22 8\n",
      "420 444 ;  52 8 ;  55 8\n",
      "428 340 ;  53 8 ;  42 8\n",
      "436 596 ;  54 8 ;  74 8\n",
      "444 420 ;  55 8 ;  52 8\n",
      "484 148 ;  60 8 ;  18 8\n",
      "500 60 ;  62 8 ;  7 8\n",
      "508 780 ;  63 8 ;  97 8\n",
      "516 620 ;  64 8 ;  77 8\n",
      "532 68 ;  66 8 ;  8 8\n",
      "556 732 ;  69 8 ;  91 8\n",
      "564 716 ;  70 8 ;  89 8\n",
      "572 284 ;  71 8 ;  35 8\n",
      "596 436 ;  74 8 ;  54 8\n",
      "620 516 ;  77 8 ;  64 8\n",
      "652 44 ;  81 8 ;  5 8\n",
      "700 356 ;  87 8 ;  44 8\n",
      "716 564 ;  89 8 ;  70 8\n",
      "724 13 ;  90 8 ;  1 10\n",
      "732 556 ;  91 8 ;  69 8\n",
      "748 220 ;  93 8 ;  27 8\n",
      "756 396 ;  94 8 ;  49 8\n",
      "780 508 ;  97 8 ;  63 8\n",
      "812 388 ;  101 8 ;  48 8\n",
      "1 84 ;  0 2 ;  10 8\n",
      "2 716 ;  0 4 ;  89 8\n",
      "3 436 ;  0 6 ;  54 8\n",
      "4 596 ;  0 8 ;  74 8\n",
      "5 580 ;  0 10 ;  72 8\n",
      "6 788 ;  0 12 ;  98 8\n",
      "11 620 ;  1 6 ;  77 8\n",
      "13 308 ;  1 10 ;  38 8\n",
      "20 732 ;  2 8 ;  91 8\n",
      "36 156 ;  4 8 ;  19 8\n",
      "44 100 ;  5 8 ;  12 8\n",
      "52 332 ;  6 8 ;  41 8\n",
      "60 452 ;  7 8 ;  56 8\n",
      "68 212 ;  8 8 ;  26 8\n",
      "84 1 ;  10 8 ;  0 2\n",
      "92 172 ;  11 8 ;  21 8\n",
      "100 44 ;  12 8 ;  5 8\n",
      "108 316 ;  13 8 ;  39 8\n",
      "116 812 ;  14 8 ;  101 8\n",
      "124 516 ;  15 8 ;  64 8\n",
      "132 652 ;  16 8 ;  81 8\n",
      "140 612 ;  17 8 ;  76 8\n",
      "148 764 ;  18 8 ;  95 8\n",
      "156 36 ;  19 8 ;  4 8\n",
      "172 92 ;  21 8 ;  11 8\n",
      "180 540 ;  22 8 ;  67 8\n",
      "188 244 ;  23 8 ;  30 8\n",
      "212 68 ;  26 8 ;  8 8\n",
      "228 268 ;  28 8 ;  33 8\n",
      "244 188 ;  30 8 ;  23 8\n",
      "268 228 ;  33 8 ;  28 8\n",
      "276 340 ;  34 8 ;  42 8\n",
      "300 404 ;  37 8 ;  50 8\n",
      "308 13 ;  38 8 ;  1 10\n",
      "316 108 ;  39 8 ;  13 8\n",
      "324 700 ;  40 8 ;  87 8\n",
      "332 52 ;  41 8 ;  6 8\n",
      "340 276 ;  42 8 ;  34 8\n",
      "348 348 ;  43 8 ;  43 8\n",
      "388 492 ;  48 8 ;  61 8\n",
      "404 300 ;  50 8 ;  37 8\n",
      "436 3 ;  54 8 ;  0 6\n",
      "452 60 ;  56 8 ;  7 8\n",
      "492 388 ;  61 8 ;  48 8\n",
      "516 124 ;  64 8 ;  15 8\n",
      "540 180 ;  67 8 ;  22 8\n",
      "556 564 ;  69 8 ;  70 8\n",
      "564 556 ;  70 8 ;  69 8\n",
      "580 5 ;  72 8 ;  0 10\n",
      "588 676 ;  73 8 ;  84 8\n",
      "596 4 ;  74 8 ;  0 8\n",
      "612 140 ;  76 8 ;  17 8\n",
      "620 11 ;  77 8 ;  1 6\n",
      "652 132 ;  81 8 ;  16 8\n",
      "676 588 ;  84 8 ;  73 8\n",
      "700 324 ;  87 8 ;  40 8\n",
      "716 2 ;  89 8 ;  0 4\n",
      "732 20 ;  91 8 ;  2 8\n",
      "764 148 ;  95 8 ;  18 8\n",
      "788 6 ;  98 8 ;  0 12\n",
      "812 116 ;  101 8 ;  14 8\n",
      "2 12 ;  0 4 ;  1 8\n",
      "4 132 ;  0 8 ;  16 8\n",
      "5 212 ;  0 10 ;  26 8\n",
      "11 660 ;  1 6 ;  82 8\n",
      "12 2 ;  1 8 ;  0 4\n",
      "36 164 ;  4 8 ;  20 8\n",
      "44 348 ;  5 8 ;  43 8\n",
      "68 452 ;  8 8 ;  56 8\n",
      "76 716 ;  9 8 ;  89 8\n",
      "84 748 ;  10 8 ;  93 8\n",
      "92 356 ;  11 8 ;  44 8\n",
      "132 4 ;  16 8 ;  0 8\n",
      "140 412 ;  17 8 ;  51 8\n",
      "156 396 ;  19 8 ;  49 8\n",
      "164 36 ;  20 8 ;  4 8\n",
      "196 228 ;  24 8 ;  28 8\n",
      "204 532 ;  25 8 ;  66 8\n",
      "212 5 ;  26 8 ;  0 10\n",
      "228 196 ;  28 8 ;  24 8\n",
      "244 372 ;  30 8 ;  46 8\n",
      "284 332 ;  35 8 ;  41 8\n",
      "308 732 ;  38 8 ;  91 8\n",
      "324 812 ;  40 8 ;  101 8\n",
      "332 284 ;  41 8 ;  35 8\n",
      "348 44 ;  43 8 ;  5 8\n",
      "356 92 ;  44 8 ;  11 8\n",
      "372 244 ;  46 8 ;  30 8\n",
      "380 564 ;  47 8 ;  70 8\n",
      "388 644 ;  48 8 ;  80 8\n",
      "396 156 ;  49 8 ;  19 8\n",
      "404 740 ;  50 8 ;  92 8\n",
      "412 140 ;  51 8 ;  17 8\n",
      "444 668 ;  55 8 ;  83 8\n",
      "452 68 ;  56 8 ;  8 8\n",
      "460 548 ;  57 8 ;  68 8\n",
      "484 612 ;  60 8 ;  76 8\n",
      "492 492 ;  61 8 ;  61 8\n",
      "532 204 ;  66 8 ;  25 8\n",
      "540 772 ;  67 8 ;  96 8\n",
      "548 460 ;  68 8 ;  57 8\n",
      "564 380 ;  70 8 ;  47 8\n",
      "612 484 ;  76 8 ;  60 8\n",
      "644 388 ;  80 8 ;  48 8\n",
      "652 652 ;  81 8 ;  81 8\n",
      "660 11 ;  82 8 ;  1 6\n",
      "668 444 ;  83 8 ;  55 8\n",
      "676 804 ;  84 8 ;  100 8\n",
      "692 700 ;  86 8 ;  87 8\n",
      "700 692 ;  87 8 ;  86 8\n",
      "716 76 ;  89 8 ;  9 8\n",
      "732 308 ;  91 8 ;  38 8\n",
      "740 404 ;  92 8 ;  50 8\n",
      "748 84 ;  93 8 ;  10 8\n",
      "772 540 ;  96 8 ;  67 8\n",
      "804 676 ;  100 8 ;  84 8\n",
      "812 324 ;  101 8 ;  40 8\n",
      "2 372 ;  0 4 ;  46 8\n",
      "4 780 ;  0 8 ;  97 8\n",
      "6 196 ;  0 12 ;  24 8\n",
      "12 548 ;  1 8 ;  68 8\n",
      "28 484 ;  3 8 ;  60 8\n",
      "52 540 ;  6 8 ;  67 8\n",
      "68 508 ;  8 8 ;  63 8\n",
      "92 388 ;  11 8 ;  48 8\n",
      "116 700 ;  14 8 ;  87 8\n",
      "180 396 ;  22 8 ;  49 8\n",
      "196 6 ;  24 8 ;  0 12\n",
      "204 380 ;  25 8 ;  47 8\n",
      "252 276 ;  31 8 ;  34 8\n",
      "268 628 ;  33 8 ;  78 8\n",
      "276 252 ;  34 8 ;  31 8\n",
      "284 788 ;  35 8 ;  98 8\n",
      "292 772 ;  36 8 ;  96 8\n",
      "300 300 ;  37 8 ;  37 8\n",
      "340 636 ;  42 8 ;  79 8\n",
      "372 2 ;  46 8 ;  0 4\n",
      "380 204 ;  47 8 ;  25 8\n",
      "388 92 ;  48 8 ;  11 8\n",
      "396 180 ;  49 8 ;  22 8\n",
      "404 596 ;  50 8 ;  74 8\n",
      "412 804 ;  51 8 ;  100 8\n",
      "420 428 ;  52 8 ;  53 8\n",
      "428 420 ;  53 8 ;  52 8\n",
      "444 452 ;  55 8 ;  56 8\n",
      "452 444 ;  56 8 ;  55 8\n",
      "460 580 ;  57 8 ;  72 8\n",
      "468 468 ;  58 8 ;  58 8\n",
      "476 644 ;  59 8 ;  80 8\n",
      "484 28 ;  60 8 ;  3 8\n",
      "508 68 ;  63 8 ;  8 8\n",
      "516 612 ;  64 8 ;  76 8\n",
      "540 52 ;  67 8 ;  6 8\n",
      "548 12 ;  68 8 ;  1 8\n",
      "580 460 ;  72 8 ;  57 8\n",
      "596 404 ;  74 8 ;  50 8\n",
      "612 516 ;  76 8 ;  64 8\n",
      "628 268 ;  78 8 ;  33 8\n",
      "636 340 ;  79 8 ;  42 8\n",
      "644 476 ;  80 8 ;  59 8\n",
      "676 692 ;  84 8 ;  86 8\n",
      "692 676 ;  86 8 ;  84 8\n",
      "700 116 ;  87 8 ;  14 8\n",
      "764 764 ;  95 8 ;  95 8\n",
      "772 292 ;  96 8 ;  36 8\n",
      "780 4 ;  97 8 ;  0 8\n",
      "788 284 ;  98 8 ;  35 8\n",
      "804 412 ;  100 8 ;  51 8\n",
      "1 596 ;  0 2 ;  74 8\n",
      "2 356 ;  0 4 ;  44 8\n",
      "4 388 ;  0 8 ;  48 8\n",
      "5 196 ;  0 10 ;  24 8\n",
      "6 268 ;  0 12 ;  33 8\n",
      "10 452 ;  1 4 ;  56 8\n",
      "13 13 ;  1 10 ;  1 10\n",
      "44 380 ;  5 8 ;  47 8\n",
      "52 436 ;  6 8 ;  54 8\n",
      "60 236 ;  7 8 ;  29 8\n",
      "68 428 ;  8 8 ;  53 8\n",
      "76 532 ;  9 8 ;  66 8\n",
      "84 772 ;  10 8 ;  96 8\n",
      "108 788 ;  13 8 ;  98 8\n",
      "116 324 ;  14 8 ;  40 8\n",
      "124 812 ;  15 8 ;  101 8\n",
      "148 556 ;  18 8 ;  69 8\n",
      "180 492 ;  22 8 ;  61 8\n",
      "188 252 ;  23 8 ;  31 8\n",
      "196 5 ;  24 8 ;  0 10\n",
      "204 468 ;  25 8 ;  58 8\n",
      "212 604 ;  26 8 ;  75 8\n",
      "236 60 ;  29 8 ;  7 8\n",
      "244 692 ;  30 8 ;  86 8\n",
      "252 188 ;  31 8 ;  23 8\n",
      "268 6 ;  33 8 ;  0 12\n",
      "276 588 ;  34 8 ;  73 8\n",
      "308 548 ;  38 8 ;  68 8\n",
      "316 348 ;  39 8 ;  43 8\n",
      "324 116 ;  40 8 ;  14 8\n",
      "348 316 ;  43 8 ;  39 8\n",
      "356 2 ;  44 8 ;  0 4\n",
      "364 652 ;  45 8 ;  81 8\n",
      "380 44 ;  47 8 ;  5 8\n",
      "388 4 ;  48 8 ;  0 8\n",
      "396 396 ;  49 8 ;  49 8\n",
      "412 572 ;  51 8 ;  71 8\n",
      "428 68 ;  53 8 ;  8 8\n",
      "436 52 ;  54 8 ;  6 8\n",
      "444 732 ;  55 8 ;  91 8\n",
      "452 10 ;  56 8 ;  1 4\n",
      "468 204 ;  58 8 ;  25 8\n",
      "492 180 ;  61 8 ;  22 8\n",
      "532 76 ;  66 8 ;  9 8\n",
      "548 308 ;  68 8 ;  38 8\n",
      "556 148 ;  69 8 ;  18 8\n",
      "564 580 ;  70 8 ;  72 8\n",
      "572 412 ;  71 8 ;  51 8\n",
      "580 564 ;  72 8 ;  70 8\n",
      "588 276 ;  73 8 ;  34 8\n",
      "596 1 ;  74 8 ;  0 2\n",
      "604 212 ;  75 8 ;  26 8\n",
      "644 756 ;  80 8 ;  94 8\n",
      "652 364 ;  81 8 ;  45 8\n",
      "676 700 ;  84 8 ;  87 8\n",
      "692 244 ;  86 8 ;  30 8\n",
      "700 676 ;  87 8 ;  84 8\n",
      "708 764 ;  88 8 ;  95 8\n",
      "732 444 ;  91 8 ;  55 8\n",
      "748 748 ;  93 8 ;  93 8\n",
      "756 644 ;  94 8 ;  80 8\n",
      "764 708 ;  95 8 ;  88 8\n",
      "772 84 ;  96 8 ;  10 8\n",
      "780 780 ;  97 8 ;  97 8\n",
      "788 108 ;  98 8 ;  13 8\n",
      "812 124 ;  101 8 ;  15 8\n",
      "1 588 ;  0 2 ;  73 8\n",
      "6 244 ;  0 12 ;  30 8\n",
      "10 420 ;  1 4 ;  52 8\n",
      "12 340 ;  1 8 ;  42 8\n",
      "13 356 ;  1 10 ;  44 8\n",
      "20 252 ;  2 8 ;  31 8\n",
      "28 436 ;  3 8 ;  54 8\n",
      "36 628 ;  4 8 ;  78 8\n",
      "52 676 ;  6 8 ;  84 8\n",
      "68 236 ;  8 8 ;  29 8\n",
      "84 148 ;  10 8 ;  18 8\n",
      "140 668 ;  17 8 ;  83 8\n",
      "148 84 ;  18 8 ;  10 8\n",
      "156 732 ;  19 8 ;  91 8\n",
      "164 300 ;  20 8 ;  37 8\n",
      "196 548 ;  24 8 ;  68 8\n",
      "236 68 ;  29 8 ;  8 8\n",
      "244 6 ;  30 8 ;  0 12\n",
      "252 20 ;  31 8 ;  2 8\n",
      "260 708 ;  32 8 ;  88 8\n",
      "300 164 ;  37 8 ;  20 8\n",
      "308 524 ;  38 8 ;  65 8\n",
      "340 12 ;  42 8 ;  1 8\n",
      "356 13 ;  44 8 ;  1 10\n",
      "364 692 ;  45 8 ;  86 8\n"
     ]
    },
    {
     "name": "stdout",
     "output_type": "stream",
     "text": [
      "396 796 ;  49 8 ;  99 8\n",
      "412 700 ;  51 8 ;  87 8\n",
      "420 10 ;  52 8 ;  1 4\n",
      "428 716 ;  53 8 ;  89 8\n",
      "436 28 ;  54 8 ;  3 8\n",
      "444 764 ;  55 8 ;  95 8\n",
      "452 516 ;  56 8 ;  64 8\n",
      "476 780 ;  59 8 ;  97 8\n",
      "516 452 ;  64 8 ;  56 8\n",
      "524 308 ;  65 8 ;  38 8\n",
      "532 572 ;  66 8 ;  71 8\n",
      "548 196 ;  68 8 ;  24 8\n",
      "572 532 ;  71 8 ;  66 8\n",
      "588 1 ;  73 8 ;  0 2\n",
      "596 756 ;  74 8 ;  94 8\n",
      "628 36 ;  78 8 ;  4 8\n",
      "660 812 ;  82 8 ;  101 8\n",
      "668 140 ;  83 8 ;  17 8\n",
      "676 52 ;  84 8 ;  6 8\n",
      "692 364 ;  86 8 ;  45 8\n",
      "700 412 ;  87 8 ;  51 8\n",
      "708 260 ;  88 8 ;  32 8\n",
      "716 428 ;  89 8 ;  53 8\n",
      "732 156 ;  91 8 ;  19 8\n",
      "756 596 ;  94 8 ;  74 8\n",
      "764 444 ;  95 8 ;  55 8\n",
      "780 476 ;  97 8 ;  59 8\n",
      "796 396 ;  99 8 ;  49 8\n",
      "812 660 ;  101 8 ;  82 8\n",
      "1 420 ;  0 2 ;  52 8\n",
      "3 644 ;  0 6 ;  80 8\n",
      "6 6 ;  0 12 ;  0 12\n",
      "13 572 ;  1 10 ;  71 8\n",
      "28 148 ;  3 8 ;  18 8\n",
      "36 540 ;  4 8 ;  67 8\n",
      "44 340 ;  5 8 ;  42 8\n",
      "52 748 ;  6 8 ;  93 8\n",
      "92 92 ;  11 8 ;  11 8\n",
      "100 548 ;  12 8 ;  68 8\n",
      "116 444 ;  14 8 ;  55 8\n",
      "148 28 ;  18 8 ;  3 8\n",
      "180 412 ;  22 8 ;  51 8\n",
      "188 516 ;  23 8 ;  64 8\n",
      "196 300 ;  24 8 ;  37 8\n",
      "204 452 ;  25 8 ;  56 8\n",
      "212 716 ;  26 8 ;  89 8\n",
      "244 252 ;  30 8 ;  31 8\n",
      "252 244 ;  31 8 ;  30 8\n",
      "260 468 ;  32 8 ;  58 8\n",
      "300 196 ;  37 8 ;  24 8\n",
      "308 372 ;  38 8 ;  46 8\n",
      "340 44 ;  42 8 ;  5 8\n",
      "372 308 ;  46 8 ;  38 8\n",
      "380 380 ;  47 8 ;  47 8\n",
      "412 180 ;  51 8 ;  22 8\n",
      "420 1 ;  52 8 ;  0 2\n",
      "428 708 ;  53 8 ;  88 8\n",
      "444 116 ;  55 8 ;  14 8\n",
      "452 204 ;  56 8 ;  25 8\n",
      "468 260 ;  58 8 ;  32 8\n",
      "476 564 ;  59 8 ;  70 8\n",
      "484 660 ;  60 8 ;  82 8\n",
      "516 188 ;  64 8 ;  23 8\n",
      "540 36 ;  67 8 ;  4 8\n",
      "548 100 ;  68 8 ;  12 8\n",
      "556 684 ;  69 8 ;  85 8\n",
      "564 476 ;  70 8 ;  59 8\n",
      "572 13 ;  71 8 ;  1 10\n",
      "628 628 ;  78 8 ;  78 8\n",
      "644 3 ;  80 8 ;  0 6\n",
      "660 484 ;  82 8 ;  60 8\n",
      "684 556 ;  85 8 ;  69 8\n",
      "708 428 ;  88 8 ;  53 8\n",
      "716 212 ;  89 8 ;  26 8\n",
      "732 732 ;  91 8 ;  91 8\n",
      "748 52 ;  93 8 ;  6 8\n",
      "2 11 ;  0 4 ;  1 6\n",
      "5 12 ;  0 10 ;  1 8\n",
      "6 596 ;  0 12 ;  74 8\n",
      "10 756 ;  1 4 ;  94 8\n",
      "11 2 ;  1 6 ;  0 4\n",
      "12 5 ;  1 8 ;  0 10\n",
      "60 228 ;  7 8 ;  28 8\n",
      "68 68 ;  8 8 ;  8 8\n",
      "76 204 ;  9 8 ;  25 8\n",
      "84 740 ;  10 8 ;  92 8\n",
      "92 732 ;  11 8 ;  91 8\n",
      "108 484 ;  13 8 ;  60 8\n",
      "116 508 ;  14 8 ;  63 8\n",
      "172 468 ;  21 8 ;  58 8\n",
      "204 76 ;  25 8 ;  9 8\n",
      "228 60 ;  28 8 ;  7 8\n",
      "236 804 ;  29 8 ;  100 8\n",
      "252 340 ;  31 8 ;  42 8\n",
      "284 500 ;  35 8 ;  62 8\n",
      "292 324 ;  36 8 ;  40 8\n",
      "300 316 ;  37 8 ;  39 8\n",
      "308 620 ;  38 8 ;  77 8\n",
      "316 300 ;  39 8 ;  37 8\n",
      "324 292 ;  40 8 ;  36 8\n",
      "332 548 ;  41 8 ;  68 8\n",
      "340 252 ;  42 8 ;  31 8\n",
      "356 356 ;  44 8 ;  44 8\n",
      "372 516 ;  46 8 ;  64 8\n",
      "380 476 ;  47 8 ;  59 8\n",
      "396 524 ;  49 8 ;  65 8\n",
      "404 764 ;  50 8 ;  95 8\n",
      "428 628 ;  53 8 ;  78 8\n",
      "436 564 ;  54 8 ;  70 8\n",
      "468 172 ;  58 8 ;  21 8\n",
      "476 380 ;  59 8 ;  47 8\n",
      "484 108 ;  60 8 ;  13 8\n",
      "500 284 ;  62 8 ;  35 8\n",
      "508 116 ;  63 8 ;  14 8\n",
      "516 372 ;  64 8 ;  46 8\n",
      "524 396 ;  65 8 ;  49 8\n",
      "548 332 ;  68 8 ;  41 8\n",
      "564 436 ;  70 8 ;  54 8\n",
      "572 692 ;  71 8 ;  86 8\n",
      "596 6 ;  74 8 ;  0 12\n",
      "612 748 ;  76 8 ;  93 8\n",
      "620 308 ;  77 8 ;  38 8\n",
      "628 428 ;  78 8 ;  53 8\n",
      "652 724 ;  81 8 ;  90 8\n",
      "692 572 ;  86 8 ;  71 8\n",
      "708 780 ;  88 8 ;  97 8\n",
      "724 652 ;  90 8 ;  81 8\n",
      "732 92 ;  91 8 ;  11 8\n",
      "740 84 ;  92 8 ;  10 8\n",
      "748 612 ;  93 8 ;  76 8\n",
      "756 10 ;  94 8 ;  1 4\n",
      "764 404 ;  95 8 ;  50 8\n",
      "780 708 ;  97 8 ;  88 8\n",
      "804 236 ;  100 8 ;  29 8\n",
      "1 740 ;  0 2 ;  92 8\n",
      "5 556 ;  0 10 ;  69 8\n",
      "6 436 ;  0 12 ;  54 8\n",
      "10 460 ;  1 4 ;  57 8\n",
      "28 412 ;  3 8 ;  51 8\n",
      "44 204 ;  5 8 ;  25 8\n",
      "52 644 ;  6 8 ;  80 8\n",
      "84 612 ;  10 8 ;  76 8\n",
      "100 100 ;  12 8 ;  12 8\n",
      "132 428 ;  16 8 ;  53 8\n",
      "140 252 ;  17 8 ;  31 8\n",
      "164 444 ;  20 8 ;  55 8\n",
      "180 372 ;  22 8 ;  46 8\n",
      "196 340 ;  24 8 ;  42 8\n",
      "204 44 ;  25 8 ;  5 8\n",
      "236 660 ;  29 8 ;  82 8\n",
      "252 140 ;  31 8 ;  17 8\n",
      "260 284 ;  32 8 ;  35 8\n",
      "268 316 ;  33 8 ;  39 8\n",
      "284 260 ;  35 8 ;  32 8\n",
      "300 396 ;  37 8 ;  49 8\n",
      "316 268 ;  39 8 ;  33 8\n",
      "340 196 ;  42 8 ;  24 8\n",
      "348 708 ;  43 8 ;  88 8\n",
      "356 652 ;  44 8 ;  81 8\n",
      "372 180 ;  46 8 ;  22 8\n",
      "396 300 ;  49 8 ;  37 8\n",
      "404 676 ;  50 8 ;  84 8\n",
      "412 28 ;  51 8 ;  3 8\n",
      "420 468 ;  52 8 ;  58 8\n",
      "428 132 ;  53 8 ;  16 8\n",
      "436 6 ;  54 8 ;  0 12\n",
      "444 164 ;  55 8 ;  20 8\n",
      "460 10 ;  57 8 ;  1 4\n",
      "468 420 ;  58 8 ;  52 8\n",
      "484 492 ;  60 8 ;  61 8\n",
      "492 484 ;  61 8 ;  60 8\n",
      "532 756 ;  66 8 ;  94 8\n",
      "556 5 ;  69 8 ;  0 10\n",
      "564 564 ;  70 8 ;  70 8\n",
      "572 668 ;  71 8 ;  83 8\n",
      "612 84 ;  76 8 ;  10 8\n",
      "628 748 ;  78 8 ;  93 8\n",
      "644 52 ;  80 8 ;  6 8\n",
      "652 356 ;  81 8 ;  44 8\n",
      "660 236 ;  82 8 ;  29 8\n",
      "668 572 ;  83 8 ;  71 8\n",
      "676 404 ;  84 8 ;  50 8\n",
      "708 348 ;  88 8 ;  43 8\n",
      "740 1 ;  92 8 ;  0 2\n",
      "748 628 ;  93 8 ;  78 8\n",
      "756 532 ;  94 8 ;  66 8\n",
      "12 740 ;  1 8 ;  92 8\n",
      "28 516 ;  3 8 ;  64 8\n",
      "44 76 ;  5 8 ;  9 8\n",
      "76 44 ;  9 8 ;  5 8\n",
      "92 180 ;  11 8 ;  22 8\n",
      "100 524 ;  12 8 ;  65 8\n",
      "116 260 ;  14 8 ;  32 8\n",
      "156 292 ;  19 8 ;  36 8\n",
      "180 92 ;  22 8 ;  11 8\n",
      "212 580 ;  26 8 ;  72 8\n",
      "220 748 ;  27 8 ;  93 8\n",
      "228 228 ;  28 8 ;  28 8\n",
      "260 116 ;  32 8 ;  14 8\n",
      "268 332 ;  33 8 ;  41 8\n",
      "292 156 ;  36 8 ;  19 8\n",
      "316 356 ;  39 8 ;  44 8\n",
      "324 420 ;  40 8 ;  52 8\n",
      "332 268 ;  41 8 ;  33 8\n",
      "356 316 ;  44 8 ;  39 8\n",
      "364 692 ;  45 8 ;  86 8\n",
      "372 612 ;  46 8 ;  76 8\n",
      "380 620 ;  47 8 ;  77 8\n",
      "388 660 ;  48 8 ;  82 8\n",
      "396 724 ;  49 8 ;  90 8\n",
      "420 324 ;  52 8 ;  40 8\n",
      "428 780 ;  53 8 ;  97 8\n",
      "436 788 ;  54 8 ;  98 8\n",
      "452 452 ;  56 8 ;  56 8\n",
      "476 532 ;  59 8 ;  66 8\n",
      "492 636 ;  61 8 ;  79 8\n",
      "508 732 ;  63 8 ;  91 8\n",
      "516 28 ;  64 8 ;  3 8\n",
      "524 100 ;  65 8 ;  12 8\n",
      "532 476 ;  66 8 ;  59 8\n",
      "540 548 ;  67 8 ;  68 8\n",
      "548 540 ;  68 8 ;  67 8\n",
      "556 588 ;  69 8 ;  73 8\n",
      "580 212 ;  72 8 ;  26 8\n",
      "588 556 ;  73 8 ;  69 8\n",
      "596 676 ;  74 8 ;  84 8\n",
      "612 372 ;  76 8 ;  46 8\n",
      "620 380 ;  77 8 ;  47 8\n",
      "636 492 ;  79 8 ;  61 8\n",
      "660 388 ;  82 8 ;  48 8\n",
      "676 596 ;  84 8 ;  74 8\n",
      "692 364 ;  86 8 ;  45 8\n",
      "700 772 ;  87 8 ;  96 8\n",
      "724 396 ;  90 8 ;  49 8\n",
      "732 508 ;  91 8 ;  63 8\n",
      "740 12 ;  92 8 ;  1 8\n",
      "748 220 ;  93 8 ;  27 8\n",
      "772 700 ;  96 8 ;  87 8\n",
      "780 428 ;  97 8 ;  53 8\n",
      "788 436 ;  98 8 ;  54 8\n",
      "2 220 ;  0 4 ;  27 8\n",
      "3 364 ;  0 6 ;  45 8\n",
      "6 708 ;  0 12 ;  88 8\n",
      "10 388 ;  1 4 ;  48 8\n",
      "11 116 ;  1 6 ;  14 8\n",
      "12 316 ;  1 8 ;  39 8\n",
      "28 108 ;  3 8 ;  13 8\n",
      "44 300 ;  5 8 ;  37 8\n",
      "52 332 ;  6 8 ;  41 8\n",
      "68 308 ;  8 8 ;  38 8\n",
      "76 236 ;  9 8 ;  29 8\n",
      "92 380 ;  11 8 ;  47 8\n",
      "108 28 ;  13 8 ;  3 8\n",
      "116 11 ;  14 8 ;  1 6\n",
      "124 556 ;  15 8 ;  69 8\n",
      "132 700 ;  16 8 ;  87 8\n",
      "148 396 ;  18 8 ;  49 8\n",
      "164 476 ;  20 8 ;  59 8\n",
      "172 252 ;  21 8 ;  31 8\n",
      "180 180 ;  22 8 ;  22 8\n",
      "188 604 ;  23 8 ;  75 8\n",
      "220 2 ;  27 8 ;  0 4\n",
      "236 76 ;  29 8 ;  9 8\n",
      "244 812 ;  30 8 ;  101 8\n",
      "252 172 ;  31 8 ;  21 8\n",
      "260 580 ;  32 8 ;  72 8\n",
      "276 284 ;  34 8 ;  35 8\n",
      "284 276 ;  35 8 ;  34 8\n",
      "300 44 ;  37 8 ;  5 8\n",
      "308 68 ;  38 8 ;  8 8\n",
      "316 12 ;  39 8 ;  1 8\n",
      "324 524 ;  40 8 ;  65 8\n",
      "332 52 ;  41 8 ;  6 8\n",
      "348 764 ;  43 8 ;  95 8\n",
      "356 740 ;  44 8 ;  92 8\n",
      "364 3 ;  45 8 ;  0 6\n",
      "372 532 ;  46 8 ;  66 8\n",
      "380 92 ;  47 8 ;  11 8\n",
      "388 10 ;  48 8 ;  1 4\n",
      "396 148 ;  49 8 ;  18 8\n",
      "420 540 ;  52 8 ;  67 8\n",
      "468 724 ;  58 8 ;  90 8\n",
      "476 164 ;  59 8 ;  20 8\n",
      "516 756 ;  64 8 ;  94 8\n",
      "524 324 ;  65 8 ;  40 8\n",
      "532 372 ;  66 8 ;  46 8\n",
      "540 420 ;  67 8 ;  52 8\n",
      "556 124 ;  69 8 ;  15 8\n",
      "580 260 ;  72 8 ;  32 8\n",
      "596 628 ;  74 8 ;  78 8\n",
      "604 188 ;  75 8 ;  23 8\n",
      "628 596 ;  78 8 ;  74 8\n",
      "652 692 ;  81 8 ;  86 8\n",
      "676 716 ;  84 8 ;  89 8\n",
      "692 652 ;  86 8 ;  81 8\n",
      "700 132 ;  87 8 ;  16 8\n",
      "708 6 ;  88 8 ;  0 12\n",
      "716 676 ;  89 8 ;  84 8\n",
      "724 468 ;  90 8 ;  58 8\n",
      "732 732 ;  91 8 ;  91 8\n",
      "740 356 ;  92 8 ;  44 8\n",
      "756 516 ;  94 8 ;  64 8\n",
      "764 348 ;  95 8 ;  43 8\n",
      "812 244 ;  101 8 ;  30 8\n",
      "6 364 ;  0 12 ;  45 8\n",
      "10 484 ;  1 4 ;  60 8\n",
      "13 572 ;  1 10 ;  71 8\n",
      "20 524 ;  2 8 ;  65 8\n",
      "36 604 ;  4 8 ;  75 8\n",
      "44 436 ;  5 8 ;  54 8\n",
      "52 52 ;  6 8 ;  6 8\n",
      "60 332 ;  7 8 ;  41 8\n",
      "76 636 ;  9 8 ;  79 8\n",
      "92 172 ;  11 8 ;  21 8\n",
      "148 732 ;  18 8 ;  91 8\n",
      "156 708 ;  19 8 ;  88 8\n",
      "164 644 ;  20 8 ;  80 8\n",
      "172 92 ;  21 8 ;  11 8\n",
      "228 260 ;  28 8 ;  32 8\n",
      "252 652 ;  31 8 ;  81 8\n",
      "260 228 ;  32 8 ;  28 8\n",
      "276 500 ;  34 8 ;  62 8\n",
      "300 428 ;  37 8 ;  53 8\n",
      "332 60 ;  41 8 ;  7 8\n",
      "340 804 ;  42 8 ;  100 8\n",
      "364 6 ;  45 8 ;  0 12\n",
      "404 788 ;  50 8 ;  98 8\n",
      "428 300 ;  53 8 ;  37 8\n",
      "436 44 ;  54 8 ;  5 8\n",
      "452 668 ;  56 8 ;  83 8\n",
      "460 620 ;  57 8 ;  77 8\n",
      "484 10 ;  60 8 ;  1 4\n",
      "500 276 ;  62 8 ;  34 8\n",
      "516 692 ;  64 8 ;  86 8\n",
      "524 20 ;  65 8 ;  2 8\n",
      "556 556 ;  69 8 ;  69 8\n",
      "572 13 ;  71 8 ;  1 10\n",
      "604 36 ;  75 8 ;  4 8\n",
      "620 460 ;  77 8 ;  57 8\n",
      "628 812 ;  78 8 ;  101 8\n",
      "636 76 ;  79 8 ;  9 8\n",
      "644 164 ;  80 8 ;  20 8\n",
      "652 252 ;  81 8 ;  31 8\n",
      "668 452 ;  83 8 ;  56 8\n",
      "676 740 ;  84 8 ;  92 8\n",
      "692 516 ;  86 8 ;  64 8\n",
      "708 156 ;  88 8 ;  19 8\n",
      "716 716 ;  89 8 ;  89 8\n",
      "724 772 ;  90 8 ;  96 8\n",
      "732 148 ;  91 8 ;  18 8\n",
      "740 676 ;  92 8 ;  84 8\n",
      "772 724 ;  96 8 ;  90 8\n",
      "788 404 ;  98 8 ;  50 8\n",
      "804 340 ;  100 8 ;  42 8\n",
      "812 628 ;  101 8 ;  78 8\n",
      "2 284 ;  0 4 ;  35 8\n",
      "6 604 ;  0 12 ;  75 8\n",
      "11 620 ;  1 6 ;  77 8\n",
      "20 308 ;  2 8 ;  38 8\n",
      "68 516 ;  8 8 ;  64 8\n",
      "100 484 ;  12 8 ;  60 8\n",
      "116 340 ;  14 8 ;  42 8\n",
      "140 572 ;  17 8 ;  71 8\n",
      "148 188 ;  18 8 ;  23 8\n",
      "180 796 ;  22 8 ;  99 8\n",
      "188 148 ;  23 8 ;  18 8\n",
      "260 540 ;  32 8 ;  67 8\n",
      "268 780 ;  33 8 ;  97 8\n",
      "284 2 ;  35 8 ;  0 4\n",
      "308 20 ;  38 8 ;  2 8\n",
      "316 660 ;  39 8 ;  82 8\n",
      "340 116 ;  42 8 ;  14 8\n",
      "356 468 ;  44 8 ;  58 8\n",
      "364 692 ;  45 8 ;  86 8\n"
     ]
    },
    {
     "name": "stdout",
     "output_type": "stream",
     "text": [
      "380 636 ;  47 8 ;  79 8\n",
      "388 628 ;  48 8 ;  78 8\n",
      "396 436 ;  49 8 ;  54 8\n",
      "436 396 ;  54 8 ;  49 8\n",
      "452 748 ;  56 8 ;  93 8\n",
      "468 356 ;  58 8 ;  44 8\n",
      "484 100 ;  60 8 ;  12 8\n",
      "516 68 ;  64 8 ;  8 8\n",
      "540 260 ;  67 8 ;  32 8\n",
      "572 140 ;  71 8 ;  17 8\n",
      "596 684 ;  74 8 ;  85 8\n",
      "604 6 ;  75 8 ;  0 12\n",
      "620 11 ;  77 8 ;  1 6\n",
      "628 388 ;  78 8 ;  48 8\n",
      "636 380 ;  79 8 ;  47 8\n",
      "644 732 ;  80 8 ;  91 8\n",
      "660 316 ;  82 8 ;  39 8\n",
      "684 596 ;  85 8 ;  74 8\n",
      "692 364 ;  86 8 ;  45 8\n",
      "732 644 ;  91 8 ;  80 8\n",
      "748 452 ;  93 8 ;  56 8\n",
      "780 268 ;  97 8 ;  33 8\n",
      "796 180 ;  99 8 ;  22 8\n",
      "1 508 ;  0 2 ;  63 8\n",
      "2 196 ;  0 4 ;  24 8\n",
      "3 380 ;  0 6 ;  47 8\n",
      "4 284 ;  0 8 ;  35 8\n",
      "5 292 ;  0 10 ;  36 8\n",
      "10 388 ;  1 4 ;  48 8\n",
      "12 660 ;  1 8 ;  82 8\n",
      "28 28 ;  3 8 ;  3 8\n",
      "44 164 ;  5 8 ;  20 8\n",
      "60 428 ;  7 8 ;  53 8\n",
      "76 372 ;  9 8 ;  46 8\n",
      "100 604 ;  12 8 ;  75 8\n",
      "116 300 ;  14 8 ;  37 8\n",
      "140 156 ;  17 8 ;  19 8\n",
      "156 140 ;  19 8 ;  17 8\n",
      "164 44 ;  20 8 ;  5 8\n",
      "180 468 ;  22 8 ;  58 8\n",
      "196 2 ;  24 8 ;  0 4\n",
      "228 228 ;  28 8 ;  28 8\n",
      "236 676 ;  29 8 ;  84 8\n",
      "244 244 ;  30 8 ;  30 8\n",
      "252 524 ;  31 8 ;  65 8\n",
      "268 708 ;  33 8 ;  88 8\n",
      "276 700 ;  34 8 ;  87 8\n",
      "284 4 ;  35 8 ;  0 8\n",
      "292 5 ;  36 8 ;  0 10\n",
      "300 116 ;  37 8 ;  14 8\n",
      "332 548 ;  41 8 ;  68 8\n",
      "340 492 ;  42 8 ;  61 8\n",
      "348 460 ;  43 8 ;  57 8\n",
      "364 716 ;  45 8 ;  89 8\n",
      "372 76 ;  46 8 ;  9 8\n",
      "380 3 ;  47 8 ;  0 6\n",
      "388 10 ;  48 8 ;  1 4\n",
      "404 780 ;  50 8 ;  97 8\n",
      "420 612 ;  52 8 ;  76 8\n",
      "428 60 ;  53 8 ;  7 8\n",
      "444 748 ;  55 8 ;  93 8\n",
      "460 348 ;  57 8 ;  43 8\n",
      "468 180 ;  58 8 ;  22 8\n",
      "492 340 ;  61 8 ;  42 8\n",
      "508 1 ;  63 8 ;  0 2\n",
      "524 252 ;  65 8 ;  31 8\n",
      "548 332 ;  68 8 ;  41 8\n",
      "556 556 ;  69 8 ;  69 8\n",
      "604 100 ;  75 8 ;  12 8\n",
      "612 420 ;  76 8 ;  52 8\n",
      "628 668 ;  78 8 ;  83 8\n",
      "652 788 ;  81 8 ;  98 8\n",
      "660 12 ;  82 8 ;  1 8\n",
      "668 628 ;  83 8 ;  78 8\n",
      "676 236 ;  84 8 ;  29 8\n",
      "692 724 ;  86 8 ;  90 8\n",
      "700 276 ;  87 8 ;  34 8\n",
      "708 268 ;  88 8 ;  33 8\n",
      "716 364 ;  89 8 ;  45 8\n",
      "724 692 ;  90 8 ;  86 8\n",
      "740 804 ;  92 8 ;  100 8\n",
      "748 444 ;  93 8 ;  55 8\n",
      "780 404 ;  97 8 ;  50 8\n",
      "788 652 ;  98 8 ;  81 8\n",
      "804 740 ;  100 8 ;  92 8\n",
      "3 396 ;  0 6 ;  49 8\n",
      "12 580 ;  1 8 ;  72 8\n",
      "20 252 ;  2 8 ;  31 8\n",
      "52 316 ;  6 8 ;  39 8\n",
      "68 84 ;  8 8 ;  10 8\n",
      "84 68 ;  10 8 ;  8 8\n",
      "92 132 ;  11 8 ;  16 8\n",
      "100 140 ;  12 8 ;  17 8\n",
      "108 388 ;  13 8 ;  48 8\n",
      "116 236 ;  14 8 ;  29 8\n",
      "132 92 ;  16 8 ;  11 8\n",
      "140 100 ;  17 8 ;  12 8\n",
      "196 524 ;  24 8 ;  65 8\n",
      "204 204 ;  25 8 ;  25 8\n",
      "212 476 ;  26 8 ;  59 8\n",
      "236 116 ;  29 8 ;  14 8\n",
      "252 20 ;  31 8 ;  2 8\n",
      "260 588 ;  32 8 ;  73 8\n",
      "276 804 ;  34 8 ;  100 8\n",
      "316 52 ;  39 8 ;  6 8\n",
      "332 628 ;  41 8 ;  78 8\n",
      "340 668 ;  42 8 ;  83 8\n",
      "388 108 ;  48 8 ;  13 8\n",
      "396 3 ;  49 8 ;  0 6\n",
      "444 644 ;  55 8 ;  80 8\n",
      "476 212 ;  59 8 ;  26 8\n",
      "508 740 ;  63 8 ;  92 8\n",
      "516 612 ;  64 8 ;  76 8\n",
      "524 196 ;  65 8 ;  24 8\n",
      "532 636 ;  66 8 ;  79 8\n",
      "540 716 ;  67 8 ;  89 8\n",
      "548 652 ;  68 8 ;  81 8\n",
      "580 12 ;  72 8 ;  1 8\n",
      "588 260 ;  73 8 ;  32 8\n",
      "612 516 ;  76 8 ;  64 8\n",
      "620 676 ;  77 8 ;  84 8\n",
      "628 332 ;  78 8 ;  41 8\n",
      "636 532 ;  79 8 ;  66 8\n",
      "644 444 ;  80 8 ;  55 8\n",
      "652 548 ;  81 8 ;  68 8\n",
      "668 340 ;  83 8 ;  42 8\n",
      "676 620 ;  84 8 ;  77 8\n",
      "716 540 ;  89 8 ;  67 8\n",
      "724 788 ;  90 8 ;  98 8\n",
      "740 508 ;  92 8 ;  63 8\n",
      "788 724 ;  98 8 ;  90 8\n",
      "804 276 ;  100 8 ;  34 8\n",
      "1 372 ;  0 2 ;  46 8\n",
      "4 13 ;  0 8 ;  1 10\n",
      "5 188 ;  0 10 ;  23 8\n",
      "6 756 ;  0 12 ;  94 8\n",
      "10 348 ;  1 4 ;  43 8\n",
      "13 4 ;  1 10 ;  0 8\n",
      "28 236 ;  3 8 ;  29 8\n",
      "36 604 ;  4 8 ;  75 8\n",
      "76 92 ;  9 8 ;  11 8\n",
      "84 380 ;  10 8 ;  47 8\n",
      "92 76 ;  11 8 ;  9 8\n",
      "108 460 ;  13 8 ;  57 8\n",
      "124 668 ;  15 8 ;  83 8\n",
      "172 676 ;  21 8 ;  84 8\n",
      "188 5 ;  23 8 ;  0 10\n",
      "196 388 ;  24 8 ;  48 8\n",
      "220 492 ;  27 8 ;  61 8\n",
      "236 28 ;  29 8 ;  3 8\n",
      "260 396 ;  32 8 ;  49 8\n",
      "276 404 ;  34 8 ;  50 8\n",
      "292 516 ;  36 8 ;  64 8\n",
      "308 412 ;  38 8 ;  51 8\n",
      "316 636 ;  39 8 ;  79 8\n",
      "348 10 ;  43 8 ;  1 4\n",
      "372 1 ;  46 8 ;  0 2\n",
      "380 84 ;  47 8 ;  10 8\n",
      "388 196 ;  48 8 ;  24 8\n",
      "396 260 ;  49 8 ;  32 8\n",
      "404 276 ;  50 8 ;  34 8\n",
      "412 308 ;  51 8 ;  38 8\n",
      "428 660 ;  53 8 ;  82 8\n",
      "436 652 ;  54 8 ;  81 8\n",
      "460 108 ;  57 8 ;  13 8\n",
      "492 220 ;  61 8 ;  27 8\n",
      "516 292 ;  64 8 ;  36 8\n",
      "540 596 ;  67 8 ;  74 8\n",
      "548 580 ;  68 8 ;  72 8\n",
      "564 644 ;  70 8 ;  80 8\n",
      "580 548 ;  72 8 ;  68 8\n",
      "588 804 ;  73 8 ;  100 8\n",
      "596 540 ;  74 8 ;  67 8\n",
      "604 36 ;  75 8 ;  4 8\n",
      "636 316 ;  79 8 ;  39 8\n",
      "644 564 ;  80 8 ;  70 8\n",
      "652 436 ;  81 8 ;  54 8\n",
      "660 428 ;  82 8 ;  53 8\n",
      "668 124 ;  83 8 ;  15 8\n",
      "676 172 ;  84 8 ;  21 8\n",
      "692 788 ;  86 8 ;  98 8\n",
      "708 716 ;  88 8 ;  89 8\n",
      "716 708 ;  89 8 ;  88 8\n",
      "756 6 ;  94 8 ;  0 12\n",
      "788 692 ;  98 8 ;  86 8\n",
      "804 588 ;  100 8 ;  73 8\n",
      "2 124 ;  0 4 ;  15 8\n",
      "3 668 ;  0 6 ;  83 8\n",
      "5 372 ;  0 10 ;  46 8\n",
      "6 780 ;  0 12 ;  97 8\n",
      "12 636 ;  1 8 ;  79 8\n",
      "60 228 ;  7 8 ;  28 8\n",
      "108 644 ;  13 8 ;  80 8\n",
      "116 260 ;  14 8 ;  32 8\n",
      "124 2 ;  15 8 ;  0 4\n",
      "156 756 ;  19 8 ;  94 8\n",
      "188 356 ;  23 8 ;  44 8\n",
      "196 340 ;  24 8 ;  42 8\n",
      "204 324 ;  25 8 ;  40 8\n",
      "220 788 ;  27 8 ;  98 8\n",
      "228 60 ;  28 8 ;  7 8\n",
      "244 524 ;  30 8 ;  65 8\n",
      "260 116 ;  32 8 ;  14 8\n",
      "276 292 ;  34 8 ;  36 8\n",
      "284 796 ;  35 8 ;  99 8\n",
      "292 276 ;  36 8 ;  34 8\n",
      "308 316 ;  38 8 ;  39 8\n",
      "316 308 ;  39 8 ;  38 8\n",
      "324 204 ;  40 8 ;  25 8\n",
      "340 196 ;  42 8 ;  24 8\n",
      "356 188 ;  44 8 ;  23 8\n",
      "372 5 ;  46 8 ;  0 10\n",
      "420 476 ;  52 8 ;  59 8\n",
      "436 724 ;  54 8 ;  90 8\n",
      "476 420 ;  59 8 ;  52 8\n",
      "484 612 ;  60 8 ;  76 8\n",
      "516 804 ;  64 8 ;  100 8\n",
      "524 244 ;  65 8 ;  30 8\n",
      "612 484 ;  76 8 ;  60 8\n",
      "636 12 ;  79 8 ;  1 8\n",
      "644 108 ;  80 8 ;  13 8\n",
      "668 3 ;  83 8 ;  0 6\n",
      "724 436 ;  90 8 ;  54 8\n",
      "756 156 ;  94 8 ;  19 8\n",
      "780 6 ;  97 8 ;  0 12\n",
      "788 220 ;  98 8 ;  27 8\n",
      "796 284 ;  99 8 ;  35 8\n",
      "804 516 ;  100 8 ;  64 8\n",
      "1 308 ;  0 2 ;  38 8\n",
      "3 292 ;  0 6 ;  36 8\n",
      "4 804 ;  0 8 ;  100 8\n",
      "5 316 ;  0 10 ;  39 8\n",
      "10 644 ;  1 4 ;  80 8\n",
      "12 196 ;  1 8 ;  24 8\n",
      "13 660 ;  1 10 ;  82 8\n",
      "20 556 ;  2 8 ;  69 8\n",
      "36 412 ;  4 8 ;  51 8\n",
      "52 588 ;  6 8 ;  73 8\n",
      "60 372 ;  7 8 ;  46 8\n",
      "68 700 ;  8 8 ;  87 8\n",
      "76 284 ;  9 8 ;  35 8\n",
      "92 420 ;  11 8 ;  52 8\n",
      "100 676 ;  12 8 ;  84 8\n",
      "108 548 ;  13 8 ;  68 8\n",
      "116 236 ;  14 8 ;  29 8\n",
      "140 812 ;  17 8 ;  101 8\n",
      "156 164 ;  19 8 ;  20 8\n",
      "164 156 ;  20 8 ;  19 8\n",
      "180 708 ;  22 8 ;  88 8\n",
      "196 12 ;  24 8 ;  1 8\n",
      "204 396 ;  25 8 ;  49 8\n",
      "220 596 ;  27 8 ;  74 8\n",
      "228 564 ;  28 8 ;  70 8\n",
      "236 116 ;  29 8 ;  14 8\n",
      "244 540 ;  30 8 ;  67 8\n",
      "284 76 ;  35 8 ;  9 8\n",
      "292 3 ;  36 8 ;  0 6\n",
      "308 1 ;  38 8 ;  0 2\n",
      "316 5 ;  39 8 ;  0 10\n",
      "356 460 ;  44 8 ;  57 8\n",
      "364 404 ;  45 8 ;  50 8\n",
      "372 60 ;  46 8 ;  7 8\n",
      "396 204 ;  49 8 ;  25 8\n",
      "404 364 ;  50 8 ;  45 8\n",
      "412 36 ;  51 8 ;  4 8\n",
      "420 92 ;  52 8 ;  11 8\n",
      "428 788 ;  53 8 ;  98 8\n",
      "452 572 ;  56 8 ;  71 8\n",
      "460 356 ;  57 8 ;  44 8\n",
      "468 580 ;  58 8 ;  72 8\n",
      "540 244 ;  67 8 ;  30 8\n",
      "548 108 ;  68 8 ;  13 8\n",
      "556 20 ;  69 8 ;  2 8\n",
      "564 228 ;  70 8 ;  28 8\n",
      "572 452 ;  71 8 ;  56 8\n",
      "580 468 ;  72 8 ;  58 8\n",
      "588 52 ;  73 8 ;  6 8\n",
      "596 220 ;  74 8 ;  27 8\n",
      "644 10 ;  80 8 ;  1 4\n",
      "660 13 ;  82 8 ;  1 10\n",
      "676 100 ;  84 8 ;  12 8\n",
      "700 68 ;  87 8 ;  8 8\n",
      "708 180 ;  88 8 ;  22 8\n",
      "748 756 ;  93 8 ;  94 8\n",
      "756 748 ;  94 8 ;  93 8\n",
      "788 428 ;  98 8 ;  53 8\n",
      "804 4 ;  100 8 ;  0 8\n",
      "812 140 ;  101 8 ;  17 8\n",
      "1 412 ;  0 2 ;  51 8\n",
      "3 268 ;  0 6 ;  33 8\n",
      "4 588 ;  0 8 ;  73 8\n",
      "6 532 ;  0 12 ;  66 8\n",
      "12 636 ;  1 8 ;  79 8\n",
      "20 716 ;  2 8 ;  89 8\n",
      "28 132 ;  3 8 ;  16 8\n",
      "76 396 ;  9 8 ;  49 8\n",
      "92 780 ;  11 8 ;  97 8\n",
      "132 28 ;  16 8 ;  3 8\n",
      "148 156 ;  18 8 ;  19 8\n",
      "156 148 ;  19 8 ;  18 8\n",
      "188 324 ;  23 8 ;  40 8\n",
      "196 740 ;  24 8 ;  92 8\n",
      "212 748 ;  26 8 ;  93 8\n",
      "220 276 ;  27 8 ;  34 8\n",
      "236 556 ;  29 8 ;  69 8\n",
      "260 476 ;  32 8 ;  59 8\n",
      "268 3 ;  33 8 ;  0 6\n",
      "276 220 ;  34 8 ;  27 8\n",
      "292 348 ;  36 8 ;  43 8\n",
      "300 612 ;  37 8 ;  76 8\n",
      "308 540 ;  38 8 ;  67 8\n",
      "316 436 ;  39 8 ;  54 8\n",
      "324 188 ;  40 8 ;  23 8\n",
      "340 596 ;  42 8 ;  74 8\n",
      "348 292 ;  43 8 ;  36 8\n",
      "372 788 ;  46 8 ;  98 8\n",
      "396 76 ;  49 8 ;  9 8\n",
      "412 1 ;  51 8 ;  0 2\n",
      "436 316 ;  54 8 ;  39 8\n",
      "468 516 ;  58 8 ;  64 8\n",
      "476 260 ;  59 8 ;  32 8\n",
      "492 692 ;  61 8 ;  86 8\n",
      "516 468 ;  64 8 ;  58 8\n",
      "532 6 ;  66 8 ;  0 12\n",
      "540 308 ;  67 8 ;  38 8\n",
      "556 236 ;  69 8 ;  29 8\n",
      "580 764 ;  72 8 ;  95 8\n",
      "588 4 ;  73 8 ;  0 8\n",
      "596 340 ;  74 8 ;  42 8\n",
      "604 724 ;  75 8 ;  90 8\n",
      "612 300 ;  76 8 ;  37 8\n",
      "636 12 ;  79 8 ;  1 8\n",
      "644 708 ;  80 8 ;  88 8\n",
      "684 772 ;  85 8 ;  96 8\n",
      "692 492 ;  86 8 ;  61 8\n",
      "708 644 ;  88 8 ;  80 8\n",
      "716 20 ;  89 8 ;  2 8\n",
      "724 604 ;  90 8 ;  75 8\n",
      "740 196 ;  92 8 ;  24 8\n",
      "748 212 ;  93 8 ;  26 8\n",
      "764 580 ;  95 8 ;  72 8\n",
      "772 684 ;  96 8 ;  85 8\n",
      "780 92 ;  97 8 ;  11 8\n",
      "788 372 ;  98 8 ;  46 8\n",
      "4 460 ;  0 8 ;  57 8\n",
      "5 396 ;  0 10 ;  49 8\n",
      "12 348 ;  1 8 ;  43 8\n",
      "13 284 ;  1 10 ;  35 8\n",
      "20 252 ;  2 8 ;  31 8\n",
      "28 684 ;  3 8 ;  85 8\n",
      "84 476 ;  10 8 ;  59 8\n",
      "116 380 ;  14 8 ;  47 8\n",
      "156 164 ;  19 8 ;  20 8\n",
      "164 156 ;  20 8 ;  19 8\n",
      "188 628 ;  23 8 ;  78 8\n",
      "212 468 ;  26 8 ;  58 8\n",
      "220 388 ;  27 8 ;  48 8\n",
      "228 612 ;  28 8 ;  76 8\n",
      "252 20 ;  31 8 ;  2 8\n",
      "284 13 ;  35 8 ;  1 10\n",
      "308 716 ;  38 8 ;  89 8\n",
      "316 748 ;  39 8 ;  93 8\n",
      "332 572 ;  41 8 ;  71 8\n",
      "348 12 ;  43 8 ;  1 8\n",
      "364 772 ;  45 8 ;  96 8\n",
      "372 444 ;  46 8 ;  55 8\n",
      "380 116 ;  47 8 ;  14 8\n",
      "388 220 ;  48 8 ;  27 8\n",
      "396 5 ;  49 8 ;  0 10\n",
      "412 692 ;  51 8 ;  86 8\n",
      "436 516 ;  54 8 ;  64 8\n",
      "444 372 ;  55 8 ;  46 8\n",
      "452 812 ;  56 8 ;  101 8\n",
      "460 4 ;  57 8 ;  0 8\n",
      "468 212 ;  58 8 ;  26 8\n",
      "476 84 ;  59 8 ;  10 8\n",
      "484 524 ;  60 8 ;  65 8\n",
      "516 436 ;  64 8 ;  54 8\n",
      "524 484 ;  65 8 ;  60 8\n",
      "540 620 ;  67 8 ;  77 8\n",
      "572 332 ;  71 8 ;  41 8\n",
      "580 756 ;  72 8 ;  94 8\n",
      "604 804 ;  75 8 ;  100 8\n",
      "612 228 ;  76 8 ;  28 8\n",
      "620 540 ;  77 8 ;  67 8\n",
      "628 188 ;  78 8 ;  23 8\n",
      "636 796 ;  79 8 ;  99 8\n",
      "660 700 ;  82 8 ;  87 8\n",
      "684 28 ;  85 8 ;  3 8\n",
      "692 412 ;  86 8 ;  51 8\n",
      "700 660 ;  87 8 ;  82 8\n",
      "716 308 ;  89 8 ;  38 8\n",
      "748 316 ;  93 8 ;  39 8\n",
      "756 580 ;  94 8 ;  72 8\n",
      "772 364 ;  96 8 ;  45 8\n",
      "796 636 ;  99 8 ;  79 8\n",
      "804 604 ;  100 8 ;  75 8\n",
      "812 452 ;  101 8 ;  56 8\n"
     ]
    },
    {
     "name": "stdout",
     "output_type": "stream",
     "text": [
      "11 740 ;  1 6 ;  92 8\n",
      "13 300 ;  1 10 ;  37 8\n",
      "28 700 ;  3 8 ;  87 8\n",
      "36 660 ;  4 8 ;  82 8\n",
      "76 372 ;  9 8 ;  46 8\n",
      "100 516 ;  12 8 ;  64 8\n",
      "108 332 ;  13 8 ;  41 8\n",
      "116 140 ;  14 8 ;  17 8\n",
      "140 116 ;  17 8 ;  14 8\n",
      "148 756 ;  18 8 ;  94 8\n",
      "164 684 ;  20 8 ;  85 8\n",
      "172 500 ;  21 8 ;  62 8\n",
      "212 284 ;  26 8 ;  35 8\n",
      "220 772 ;  27 8 ;  96 8\n",
      "236 540 ;  29 8 ;  67 8\n",
      "252 564 ;  31 8 ;  70 8\n",
      "260 340 ;  32 8 ;  42 8\n",
      "284 212 ;  35 8 ;  26 8\n",
      "300 13 ;  37 8 ;  1 10\n",
      "332 108 ;  41 8 ;  13 8\n",
      "340 260 ;  42 8 ;  32 8\n",
      "348 348 ;  43 8 ;  43 8\n",
      "372 76 ;  46 8 ;  9 8\n",
      "404 620 ;  50 8 ;  77 8\n",
      "428 460 ;  53 8 ;  57 8\n",
      "444 652 ;  55 8 ;  81 8\n",
      "460 428 ;  57 8 ;  53 8\n",
      "476 676 ;  59 8 ;  84 8\n",
      "500 172 ;  62 8 ;  21 8\n",
      "516 100 ;  64 8 ;  12 8\n",
      "540 236 ;  67 8 ;  29 8\n",
      "564 252 ;  70 8 ;  31 8\n",
      "604 604 ;  75 8 ;  75 8\n",
      "620 404 ;  77 8 ;  50 8\n",
      "644 732 ;  80 8 ;  91 8\n",
      "652 444 ;  81 8 ;  55 8\n",
      "660 36 ;  82 8 ;  4 8\n",
      "676 476 ;  84 8 ;  59 8\n",
      "684 164 ;  85 8 ;  20 8\n",
      "700 28 ;  87 8 ;  3 8\n",
      "716 812 ;  89 8 ;  101 8\n",
      "732 644 ;  91 8 ;  80 8\n",
      "740 11 ;  92 8 ;  1 6\n",
      "756 148 ;  94 8 ;  18 8\n",
      "772 220 ;  96 8 ;  27 8\n",
      "812 716 ;  101 8 ;  89 8\n",
      "2 13 ;  0 4 ;  1 10\n",
      "5 604 ;  0 10 ;  75 8\n",
      "6 20 ;  0 12 ;  2 8\n",
      "10 10 ;  1 4 ;  1 4\n",
      "13 2 ;  1 10 ;  0 4\n",
      "20 6 ;  2 8 ;  0 12\n",
      "44 756 ;  5 8 ;  94 8\n",
      "68 620 ;  8 8 ;  77 8\n",
      "92 668 ;  11 8 ;  83 8\n",
      "140 684 ;  17 8 ;  85 8\n",
      "148 556 ;  18 8 ;  69 8\n",
      "156 516 ;  19 8 ;  64 8\n",
      "172 572 ;  21 8 ;  71 8\n",
      "204 452 ;  25 8 ;  56 8\n",
      "212 332 ;  26 8 ;  41 8\n",
      "260 484 ;  32 8 ;  60 8\n",
      "268 276 ;  33 8 ;  34 8\n",
      "276 268 ;  34 8 ;  33 8\n",
      "308 812 ;  38 8 ;  101 8\n",
      "316 708 ;  39 8 ;  88 8\n",
      "324 612 ;  40 8 ;  76 8\n",
      "332 212 ;  41 8 ;  26 8\n",
      "356 532 ;  44 8 ;  66 8\n",
      "388 420 ;  48 8 ;  52 8\n",
      "420 388 ;  52 8 ;  48 8\n",
      "428 468 ;  53 8 ;  58 8\n",
      "452 204 ;  56 8 ;  25 8\n",
      "460 460 ;  57 8 ;  57 8\n",
      "468 428 ;  58 8 ;  53 8\n",
      "476 492 ;  59 8 ;  61 8\n",
      "484 260 ;  60 8 ;  32 8\n",
      "492 476 ;  61 8 ;  59 8\n",
      "516 156 ;  64 8 ;  19 8\n",
      "532 356 ;  66 8 ;  44 8\n",
      "540 540 ;  67 8 ;  67 8\n",
      "556 148 ;  69 8 ;  18 8\n",
      "572 172 ;  71 8 ;  21 8\n",
      "596 788 ;  74 8 ;  98 8\n",
      "604 5 ;  75 8 ;  0 10\n",
      "612 324 ;  76 8 ;  40 8\n",
      "620 68 ;  77 8 ;  8 8\n",
      "628 748 ;  78 8 ;  93 8\n",
      "668 92 ;  83 8 ;  11 8\n",
      "684 140 ;  85 8 ;  17 8\n",
      "708 316 ;  88 8 ;  39 8\n",
      "748 628 ;  93 8 ;  78 8\n",
      "756 44 ;  94 8 ;  5 8\n",
      "764 764 ;  95 8 ;  95 8\n",
      "788 596 ;  98 8 ;  74 8\n",
      "812 308 ;  101 8 ;  38 8\n",
      "2 652 ;  0 4 ;  81 8\n",
      "3 116 ;  0 6 ;  14 8\n",
      "4 10 ;  0 8 ;  1 4\n"
     ]
    },
    {
     "ename": "ValueError",
     "evalue": "could not broadcast input array from shape (5) into shape (0)",
     "output_type": "error",
     "traceback": [
      "\u001b[0;31m---------------------------------------------------------------------------\u001b[0m",
      "\u001b[0;31mValueError\u001b[0m                                Traceback (most recent call last)",
      "\u001b[0;32m<ipython-input-918-11bab08d7c32>\u001b[0m in \u001b[0;36m<module>\u001b[0;34m()\u001b[0m\n\u001b[1;32m      1\u001b[0m \u001b[0;32mfor\u001b[0m \u001b[0mi\u001b[0m \u001b[0;32min\u001b[0m \u001b[0mrange\u001b[0m\u001b[0;34m(\u001b[0m\u001b[0;36m40\u001b[0m\u001b[0;34m)\u001b[0m\u001b[0;34m:\u001b[0m\u001b[0;34m\u001b[0m\u001b[0m\n\u001b[0;32m----> 2\u001b[0;31m     \u001b[0mpcr\u001b[0m\u001b[0;34m.\u001b[0m\u001b[0mcycle\u001b[0m\u001b[0;34m(\u001b[0m\u001b[0;34m)\u001b[0m\u001b[0;34m\u001b[0m\u001b[0m\n\u001b[0m",
      "\u001b[0;32m<ipython-input-896-8d0557e84b8b>\u001b[0m in \u001b[0;36mcycle\u001b[0;34m(self)\u001b[0m\n\u001b[1;32m     67\u001b[0m     \u001b[0;32mdef\u001b[0m \u001b[0mcycle\u001b[0m\u001b[0;34m(\u001b[0m\u001b[0mself\u001b[0m\u001b[0;34m)\u001b[0m\u001b[0;34m:\u001b[0m\u001b[0;34m\u001b[0m\u001b[0m\n\u001b[1;32m     68\u001b[0m         \u001b[0mself\u001b[0m\u001b[0;34m.\u001b[0m\u001b[0m_annealing\u001b[0m\u001b[0;34m(\u001b[0m\u001b[0;34m)\u001b[0m\u001b[0;34m\u001b[0m\u001b[0m\n\u001b[0;32m---> 69\u001b[0;31m         \u001b[0mself\u001b[0m\u001b[0;34m.\u001b[0m\u001b[0m_amplify\u001b[0m\u001b[0;34m(\u001b[0m\u001b[0;34m)\u001b[0m\u001b[0;34m\u001b[0m\u001b[0m\n\u001b[0m\u001b[1;32m     70\u001b[0m         \u001b[0mself\u001b[0m\u001b[0;34m.\u001b[0m\u001b[0mfp\u001b[0m\u001b[0;34m,\u001b[0m \u001b[0mself\u001b[0m\u001b[0;34m.\u001b[0m\u001b[0mbp\u001b[0m \u001b[0;34m=\u001b[0m \u001b[0mself\u001b[0m\u001b[0;34m.\u001b[0m\u001b[0mbp\u001b[0m\u001b[0;34m,\u001b[0m \u001b[0mself\u001b[0m\u001b[0;34m.\u001b[0m\u001b[0mfp\u001b[0m\u001b[0;34m\u001b[0m\u001b[0m\n\u001b[1;32m     71\u001b[0m \u001b[0;34m\u001b[0m\u001b[0m\n",
      "\u001b[0;32m<ipython-input-896-8d0557e84b8b>\u001b[0m in \u001b[0;36m_amplify\u001b[0;34m(self)\u001b[0m\n\u001b[1;32m     43\u001b[0m \u001b[0;34m\u001b[0m\u001b[0m\n\u001b[1;32m     44\u001b[0m             \u001b[0mself\u001b[0m\u001b[0;34m.\u001b[0m\u001b[0mglue_f_to_b\u001b[0m\u001b[0;34m(\u001b[0m\u001b[0mfi\u001b[0m\u001b[0;34m,\u001b[0m \u001b[0mfj\u001b[0m\u001b[0;34m,\u001b[0m \u001b[0mbi\u001b[0m\u001b[0;34m,\u001b[0m \u001b[0mbj\u001b[0m\u001b[0;34m)\u001b[0m\u001b[0;34m\u001b[0m\u001b[0m\n\u001b[0;32m---> 45\u001b[0;31m             \u001b[0mself\u001b[0m\u001b[0;34m.\u001b[0m\u001b[0mglue_b_to_f\u001b[0m\u001b[0;34m(\u001b[0m\u001b[0mfi\u001b[0m\u001b[0;34m,\u001b[0m \u001b[0mfj\u001b[0m\u001b[0;34m,\u001b[0m \u001b[0mbi\u001b[0m\u001b[0;34m,\u001b[0m \u001b[0mbj\u001b[0m\u001b[0;34m)\u001b[0m\u001b[0;34m\u001b[0m\u001b[0m\n\u001b[0m\u001b[1;32m     46\u001b[0m \u001b[0;34m\u001b[0m\u001b[0m\n\u001b[1;32m     47\u001b[0m \u001b[0;34m\u001b[0m\u001b[0m\n",
      "\u001b[0;32m<ipython-input-896-8d0557e84b8b>\u001b[0m in \u001b[0;36mglue_b_to_f\u001b[0;34m(self, fi, fj, bi, bj)\u001b[0m\n\u001b[1;32m     55\u001b[0m         \u001b[0;32mif\u001b[0m \u001b[0mbj\u001b[0m \u001b[0;34m>\u001b[0m \u001b[0;36m0\u001b[0m \u001b[0;32mand\u001b[0m \u001b[0mself\u001b[0m\u001b[0;34m.\u001b[0m\u001b[0mbp\u001b[0m\u001b[0;34m.\u001b[0m\u001b[0mp\u001b[0m\u001b[0;34m[\u001b[0m\u001b[0mbi\u001b[0m\u001b[0;34m]\u001b[0m\u001b[0;34m[\u001b[0m\u001b[0mbj\u001b[0m \u001b[0;34m-\u001b[0m \u001b[0;36m1\u001b[0m\u001b[0;34m]\u001b[0m \u001b[0;34m==\u001b[0m \u001b[0;34m-\u001b[0m\u001b[0;36m1\u001b[0m\u001b[0;34m:\u001b[0m\u001b[0;34m\u001b[0m\u001b[0m\n\u001b[1;32m     56\u001b[0m             \u001b[0mcopy_part\u001b[0m \u001b[0;34m=\u001b[0m \u001b[0mself\u001b[0m\u001b[0;34m.\u001b[0m\u001b[0mfp\u001b[0m\u001b[0;34m.\u001b[0m\u001b[0mp\u001b[0m\u001b[0;34m[\u001b[0m\u001b[0mfi\u001b[0m\u001b[0;34m]\u001b[0m\u001b[0;34m[\u001b[0m\u001b[0;34m:\u001b[0m\u001b[0mfj\u001b[0m\u001b[0;34m]\u001b[0m\u001b[0;34m[\u001b[0m\u001b[0mself\u001b[0m\u001b[0;34m.\u001b[0m\u001b[0mfp\u001b[0m\u001b[0;34m.\u001b[0m\u001b[0mp\u001b[0m\u001b[0;34m[\u001b[0m\u001b[0mfi\u001b[0m\u001b[0;34m]\u001b[0m\u001b[0;34m[\u001b[0m\u001b[0;34m:\u001b[0m\u001b[0mfj\u001b[0m\u001b[0;34m]\u001b[0m \u001b[0;34m!=\u001b[0m \u001b[0;34m-\u001b[0m\u001b[0;36m1\u001b[0m\u001b[0;34m]\u001b[0m\u001b[0;34m[\u001b[0m\u001b[0mfj\u001b[0m \u001b[0;34m-\u001b[0m \u001b[0mbj\u001b[0m \u001b[0;34m-\u001b[0m \u001b[0;36m1\u001b[0m\u001b[0;34m:\u001b[0m\u001b[0mfj\u001b[0m\u001b[0;34m]\u001b[0m\u001b[0;34m\u001b[0m\u001b[0m\n\u001b[0;32m---> 57\u001b[0;31m             \u001b[0mself\u001b[0m\u001b[0;34m.\u001b[0m\u001b[0mbp\u001b[0m\u001b[0;34m.\u001b[0m\u001b[0mp\u001b[0m\u001b[0;34m[\u001b[0m\u001b[0mbi\u001b[0m\u001b[0;34m]\u001b[0m\u001b[0;34m[\u001b[0m\u001b[0mbj\u001b[0m \u001b[0;34m-\u001b[0m \u001b[0mcopy_part\u001b[0m\u001b[0;34m.\u001b[0m\u001b[0mshape\u001b[0m\u001b[0;34m[\u001b[0m\u001b[0;36m0\u001b[0m\u001b[0;34m]\u001b[0m\u001b[0;34m:\u001b[0m\u001b[0mbj\u001b[0m\u001b[0;34m]\u001b[0m \u001b[0;34m=\u001b[0m \u001b[0mcopy_part\u001b[0m\u001b[0;34m\u001b[0m\u001b[0m\n\u001b[0m\u001b[1;32m     58\u001b[0m \u001b[0;34m\u001b[0m\u001b[0m\n\u001b[1;32m     59\u001b[0m \u001b[0;34m\u001b[0m\u001b[0m\n",
      "\u001b[0;31mValueError\u001b[0m: could not broadcast input array from shape (5) into shape (0)"
     ]
    }
   ],
   "source": [
    "for i in range(40):\n",
    "    pcr.cycle()"
   ]
  },
  {
   "cell_type": "code",
   "execution_count": 905,
   "metadata": {},
   "outputs": [
    {
     "data": {
      "text/plain": [
       "array([[ 0,  3,  0,  0,  0,  1,  0,  2,  0,  3,  0,  4,  0,  6,  0, -1],\n",
       "       [-1,  1,  0,  2,  0,  1,  0,  5,  0,  6,  0,  0,  0,  1,  0,  2],\n",
       "       [-1, -1, -1, -1, -1, -1, -1,  3,  0,  2,  0,  3,  0,  4,  0, -1]])"
      ]
     },
     "execution_count": 905,
     "metadata": {},
     "output_type": "execute_result"
    }
   ],
   "source": [
    "pcr.fp.p[:3]"
   ]
  },
  {
   "cell_type": "code",
   "execution_count": 906,
   "metadata": {},
   "outputs": [
    {
     "data": {
      "text/plain": [
       "array([[-1, -1,  0,  0,  0,  1,  0,  2,  0,  3,  0,  4,  0,  1,  0,  5],\n",
       "       [-1, -1, -1, -1,  0,  1,  0,  5,  0,  6,  0,  1,  0,  2,  0,  3],\n",
       "       [-1, -1, -1, -1, -1, -1, -1,  1,  0,  4,  0, -1, -1, -1, -1, -1]])"
      ]
     },
     "execution_count": 906,
     "metadata": {},
     "output_type": "execute_result"
    }
   ],
   "source": [
    "pcr.bp.p[:3]"
   ]
  },
  {
   "cell_type": "code",
   "execution_count": 907,
   "metadata": {},
   "outputs": [
    {
     "data": {
      "text/plain": [
       "array([0, 0, 0, 1, 0, 2, 0, 3, 0, 4, 0, 1, 0, 5])"
      ]
     },
     "execution_count": 907,
     "metadata": {},
     "output_type": "execute_result"
    }
   ],
   "source": [
    "pcr.bp.p[0][2:][pcr.bp.p[0][2:] != -1]#[: 16 - 0]"
   ]
  },
  {
   "cell_type": "code",
   "execution_count": null,
   "metadata": {},
   "outputs": [],
   "source": []
  },
  {
   "cell_type": "code",
   "execution_count": 908,
   "metadata": {},
   "outputs": [
    {
     "data": {
      "text/plain": [
       "array([[ 3., 66.,  3.,  3.,  3.,  4.,  7.],\n",
       "       [ 8., 14., 92.,  2.,  3., 48., 14.],\n",
       "       [ 5.,  4.,  1., 83.,  1.,  0.,  1.],\n",
       "       [ 4.,  3.,  1.,  3., 64.,  2.,  4.],\n",
       "       [ 4., 18.,  2.,  2.,  2.,  0., 10.],\n",
       "       [ 2., 17.,  1.,  2.,  5., 12., 73.],\n",
       "       [37.,  4.,  1.,  0.,  0.,  0.,  0.]])"
      ]
     },
     "execution_count": 908,
     "metadata": {},
     "output_type": "execute_result"
    }
   ],
   "source": [
    "pcr.to_graph(7)"
   ]
  },
  {
   "cell_type": "code",
   "execution_count": 909,
   "metadata": {
    "scrolled": true
   },
   "outputs": [
    {
     "data": {
      "image/png": "[encoded data removed]",
      "text/plain": [
       "<matplotlib.figure.Figure at 0x7f9e03ea1a58>"
      ]
     },
     "metadata": {},
     "output_type": "display_data"
    }
   ],
   "source": [
    "plot_gr(pcr.to_graph(7), s = 3)"
   ]
  },
  {
   "cell_type": "code",
   "execution_count": 920,
   "metadata": {
    "scrolled": true
   },
   "outputs": [
    {
     "data": {
      "image/png": "[encoded data removed]",
      "text/plain": [
       "<matplotlib.figure.Figure at 0x7f9e03a6a978>"
      ]
     },
     "metadata": {},
     "output_type": "display_data"
    }
   ],
   "source": [
    "plot_gr(pcr.to_graph(7), s = 3, log = 1)"
   ]
  },
  {
   "cell_type": "code",
   "execution_count": 423,
   "metadata": {
    "scrolled": true
   },
   "outputs": [
    {
     "name": "stdout",
     "output_type": "stream",
     "text": [
      "0 (0, 1)\n",
      "1 (0, 3)\n",
      "2 (0, 5)\n",
      "3 (1, 1)\n",
      "4 (1, 3)\n",
      "5 (1, 5)\n",
      "5 (1, 5)\n",
      "6 (2, 1)\n",
      "8 (2, 5)\n",
      "8 (2, 5)\n",
      "8 (2, 5)\n",
      "8 (2, 5)\n",
      "12 (4, 1)\n",
      "12 (4, 1)\n",
      "12 (4, 1)\n",
      "16 (5, 3)\n",
      "16 (5, 3)\n",
      "20 (6, 5)\n",
      "20 (6, 5)\n"
     ]
    }
   ],
   "source": [
    "pcr._amplify()"
   ]
  },
  {
   "cell_type": "code",
   "execution_count": 412,
   "metadata": {},
   "outputs": [
    {
     "name": "stdout",
     "output_type": "stream",
     "text": [
      "0\n",
      "1\n",
      "2\n",
      "2\n",
      "3\n",
      "4\n",
      "4\n",
      "5\n",
      "5\n",
      "6\n",
      "6\n",
      "8\n",
      "12\n",
      "12\n",
      "16\n",
      "20\n",
      "20\n",
      "20\n"
     ]
    }
   ],
   "source": [
    "for a, b in zip(np.where(pcr.anneal == 1)[0], np.where(pcr.anneal == 1)[1]):\n",
    "    print(a)"
   ]
  },
  {
   "cell_type": "code",
   "execution_count": 397,
   "metadata": {},
   "outputs": [
    {
     "data": {
      "text/plain": [
       "array([ 0,  1,  2,  3,  4,  5,  5,  5,  6,  8,  8,  8, 12, 12, 12, 16, 20])"
      ]
     },
     "execution_count": 397,
     "metadata": {},
     "output_type": "execute_result"
    }
   ],
   "source": [
    "np.where(pcr.anneal == 1)[0]"
   ]
  },
  {
   "cell_type": "code",
   "execution_count": 354,
   "metadata": {},
   "outputs": [
    {
     "data": {
      "image/png": "[encoded data removed]",
      "text/plain": [
       "<matplotlib.figure.Figure at 0x7f9e042866a0>"
      ]
     },
     "metadata": {},
     "output_type": "display_data"
    }
   ],
   "source": [
    "plot_gr(pcr.comp_mat)"
   ]
  },
  {
   "cell_type": "code",
   "execution_count": 101,
   "metadata": {},
   "outputs": [
    {
     "data": {
      "text/plain": [
       "array([[ 0.,  0.,  0.,  0.,  1.,  1.,  2.,  0., -1.],\n",
       "       [ 0.,  2.,  3.,  0.,  4.,  1., -1., -1., -1.],\n",
       "       [ 1.,  0., -1., -1., -1., -1., -1., -1., -1.],\n",
       "       [ 1.,  1., -1., -1., -1., -1., -1., -1., -1.],\n",
       "       [ 1.,  2., -1., -1., -1., -1., -1., -1., -1.],\n",
       "       [ 1.,  3., -1., -1., -1., -1., -1., -1., -1.]])"
      ]
     },
     "execution_count": 101,
     "metadata": {},
     "output_type": "execute_result"
    }
   ],
   "source": [
    "p.bp"
   ]
  },
  {
   "cell_type": "code",
   "execution_count": 106,
   "metadata": {},
   "outputs": [
    {
     "data": {
      "text/plain": [
       "array([[ 0.,  0.,  0.,  1.,  1.,  2.,  0., -1.],\n",
       "       [ 2.,  3.,  0.,  4.,  1., -1., -1., -1.],\n",
       "       [ 0., -1., -1., -1., -1., -1., -1., -1.],\n",
       "       [ 1., -1., -1., -1., -1., -1., -1., -1.],\n",
       "       [ 2., -1., -1., -1., -1., -1., -1., -1.],\n",
       "       [ 3., -1., -1., -1., -1., -1., -1., -1.]])"
      ]
     },
     "execution_count": 106,
     "metadata": {},
     "output_type": "execute_result"
    }
   ],
   "source": [
    "p.fp[:,1:]"
   ]
  },
  {
   "cell_type": "code",
   "execution_count": 92,
   "metadata": {},
   "outputs": [],
   "source": [
    "complementaries = np.zeros((24,24))"
   ]
  },
  {
   "cell_type": "code",
   "execution_count": 104,
   "metadata": {},
   "outputs": [],
   "source": [
    "sh = p.bp[:,1:].shape"
   ]
  },
  {
   "cell_type": "code",
   "execution_count": 107,
   "metadata": {},
   "outputs": [
    {
     "data": {
      "text/plain": [
       "array([[ 0.,  0.,  1.,  0.],\n",
       "       [ 2.,  0.,  1., -1.],\n",
       "       [ 0., -1., -1., -1.],\n",
       "       [ 1., -1., -1., -1.],\n",
       "       [ 2., -1., -1., -1.],\n",
       "       [ 3., -1., -1., -1.]])"
      ]
     },
     "execution_count": 107,
     "metadata": {},
     "output_type": "execute_result"
    }
   ],
   "source": [
    "p.bp[:,1::2]"
   ]
  },
  {
   "cell_type": "code",
   "execution_count": null,
   "metadata": {},
   "outputs": [],
   "source": [
    "complementary_b_to_f = np.zeros"
   ]
  },
  {
   "cell_type": "code",
   "execution_count": null,
   "metadata": {},
   "outputs": [],
   "source": []
  },
  {
   "cell_type": "code",
   "execution_count": null,
   "metadata": {},
   "outputs": [],
   "source": []
  },
  {
   "cell_type": "code",
   "execution_count": null,
   "metadata": {},
   "outputs": [],
   "source": []
  },
  {
   "cell_type": "code",
   "execution_count": null,
   "metadata": {},
   "outputs": [],
   "source": []
  },
  {
   "cell_type": "code",
   "execution_count": 316,
   "metadata": {},
   "outputs": [],
   "source": [
    "m = repeats_descr.mat"
   ]
  },
  {
   "cell_type": "code",
   "execution_count": 312,
   "metadata": {},
   "outputs": [
    {
     "name": "stdout",
     "output_type": "stream",
     "text": [
      "[[0.  0.  0.  0. ]\n",
      " [1.  0.9 0.8 0.7]\n",
      " [1.  0.9 0.8 0.7]\n",
      " [0.9 1.  0.9 0.8]\n",
      " [1.  0.9 0.8 0.7]\n",
      " [0.8 0.9 1.  0.9]\n",
      " [1.  0.9 0.8 0.7]\n",
      " [0.9 1.  0.9 0.8]\n",
      " [0.9 1.  0.9 0.8]]\n"
     ]
    }
   ],
   "source": [
    "p.amplify(repeats_descr.mat, {})"
   ]
  },
  {
   "cell_type": "code",
   "execution_count": 315,
   "metadata": {
    "scrolled": false
   },
   "outputs": [
    {
     "name": "stdout",
     "output_type": "stream",
     "text": [
      "-1\n",
      "-1\n",
      "0\n",
      "0\n",
      "0\n",
      "1\n",
      "1\n",
      "2\n",
      "0\n",
      "-1\n",
      "2\n",
      "3\n",
      "0\n",
      "4\n",
      "1\n",
      "-1\n",
      "1\n",
      "5\n",
      "2\n",
      "-1\n"
     ]
    }
   ],
   "source": [
    "for x in p.p.flatten():\n",
    "    print(x)"
   ]
  },
  {
   "cell_type": "code",
   "execution_count": null,
   "metadata": {},
   "outputs": [],
   "source": []
  },
  {
   "cell_type": "code",
   "execution_count": 317,
   "metadata": {},
   "outputs": [
    {
     "data": {
      "text/plain": [
       "array([[1. , 0.9, 0.8, 0.7],\n",
       "       [0.9, 1. , 0.9, 0.8],\n",
       "       [0.8, 0.9, 1. , 0.9],\n",
       "       [0.7, 0.8, 0.9, 1. ]])"
      ]
     },
     "execution_count": 317,
     "metadata": {},
     "output_type": "execute_result"
    }
   ],
   "source": [
    "m"
   ]
  },
  {
   "cell_type": "code",
   "execution_count": null,
   "metadata": {},
   "outputs": [],
   "source": [
    "np.random.choice(np.arange(12).reshape((3,4)), size = 4, p = "
   ]
  },
  {
   "cell_type": "code",
   "execution_count": null,
   "metadata": {},
   "outputs": [],
   "source": []
  },
  {
   "cell_type": "code",
   "execution_count": null,
   "metadata": {},
   "outputs": [],
   "source": []
  },
  {
   "cell_type": "code",
   "execution_count": null,
   "metadata": {},
   "outputs": [],
   "source": []
  },
  {
   "cell_type": "code",
   "execution_count": null,
   "metadata": {},
   "outputs": [],
   "source": []
  },
  {
   "cell_type": "code",
   "execution_count": 267,
   "metadata": {},
   "outputs": [],
   "source": [
    "def single_amplify(to_amplify, population=None, v = False):\n",
    "    if population is None:\n",
    "        population = [x for x in to_amplify]\n",
    "    \n",
    "    new = []\n",
    "    for chain in to_amplify:\n",
    "        start = np.random.randint(0, len(chain) - 1)\n",
    "        stop = False\n",
    "        end = np.random.randint(start + 1, len(chain))\n",
    "\n",
    "        new_chain = []\n",
    "        pointer = start\n",
    "\n",
    "        while not stop:\n",
    "            switch = np.random.rand() < SWITCH_PROB\n",
    "\n",
    "            if v:\n",
    "                print(chain, new_chain, switch)\n",
    "            if switch:\n",
    "                chain = population[np.random.randint(0, len(population))]\n",
    "                pointer = np.random.randint(1, len(chain))\n",
    "\n",
    "            if np.random.rand() < STOP_PROB:\n",
    "                stop = True\n",
    "\n",
    "            if len(new_chain) >= end - start:\n",
    "                stop = True\n",
    "\n",
    "            if pointer < len(chain):\n",
    "                new_chain.append(chain[pointer])\n",
    "            else:\n",
    "                stop = True\n",
    "\n",
    "            pointer += 1 \n",
    "\n",
    "        if len(new_chain) > 2:\n",
    "            new.append(new_chain)\n",
    "    \n",
    "    return [x[::-1] for x in new]"
   ]
  },
  {
   "cell_type": "code",
   "execution_count": null,
   "metadata": {},
   "outputs": [],
   "source": []
  },
  {
   "cell_type": "code",
   "execution_count": 126,
   "metadata": {},
   "outputs": [
    {
     "data": {
      "image/png": "[encoded data removed]",
      "text/plain": [
       "<matplotlib.figure.Figure at 0x7f3d32450550>"
      ]
     },
     "metadata": {},
     "output_type": "display_data"
    }
   ],
   "source": [
    "plot_gr(np.load(\"../../data/graphs/ES3_22.npy\")[:35,:35], log = 1)"
   ]
  },
  {
   "cell_type": "code",
   "execution_count": 127,
   "metadata": {},
   "outputs": [
    {
     "data": {
      "image/png": "[encoded data removed]",
      "text/plain": [
       "<matplotlib.figure.Figure at 0x7f3d3017e278>"
      ]
     },
     "metadata": {},
     "output_type": "display_data"
    }
   ],
   "source": [
    "plot_gr(np.load(\"../../data/graphs/ES4_22.npy\")[:35,:35], log = 1)"
   ]
  },
  {
   "cell_type": "code",
   "execution_count": null,
   "metadata": {},
   "outputs": [],
   "source": []
  }
 ],
 "metadata": {
  "kernelspec": {
   "display_name": "Python 3",
   "language": "python",
   "name": "python3"
  },
  "language_info": {
   "codemirror_mode": {
    "name": "ipython",
    "version": 3
   },
   "file_extension": ".py",
   "mimetype": "text/x-python",
   "name": "python",
   "nbconvert_exporter": "python",
   "pygments_lexer": "ipython3",
   "version": "3.6.3"
  }
 },
 "nbformat": 4,
 "nbformat_minor": 2
}
