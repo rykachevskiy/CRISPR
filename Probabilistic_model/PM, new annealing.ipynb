{
 "cells": [
  {
   "cell_type": "code",
   "execution_count": 1,
   "metadata": {},
   "outputs": [],
   "source": [
    "import numpy as np\n",
    "import matplotlib.pyplot as plt"
   ]
  },
  {
   "cell_type": "code",
   "execution_count": 48,
   "metadata": {},
   "outputs": [],
   "source": [
    "class PCR:\n",
    "    def __init__(self, population_as_list, n_primers):\n",
    "        self.max_array_len = max([len(x) for x in population_as_list])\n",
    "        \n",
    "        self.f_population = np.ones((len(population_as_list), self.max_array_len + 2)) * -1\n",
    "        \n",
    "        for i, array in enumerate(population_as_list):\n",
    "            self.f_population[i][1:1 + len(array)] = array  \n",
    "        self.b_population = np.copy(self.f_population)\n",
    "        \n",
    "        self.n_f_primes = n_primers\n",
    "        self.n_b_primers = n_primers\n",
    "        self.initial_n_f = n_primers\n",
    "        self.initial_n_b = n_primers\n",
    "        \n",
    "        self.n_spacers = len(set([x for y in population_as_list for x in y]))\n",
    "        \n",
    "        self.p = [1 / self.max_array_len, 1 / self.max_array_len, 0]\n",
    "        self.p[-1] = 1 - self.p[0] - self.p[1]\n",
    "        \n",
    "        self.initial_p = [x for x in self.p]\n",
    "        \n",
    "        self.correct_pairs = set(self.to_pairs().keys())\n",
    "        \n",
    "    def _increase_populations(self, n_f, n_b):\n",
    "        self.f_population = np.vstack((self.f_population, np.zeros((n_f, self.max_array_len + 2))))\n",
    "        self.b_population = np.vstack((self.b_population, np.zeros((n_b, self.max_array_len + 2))))\n",
    "        \n",
    "        self.n_f_primes -= n_f\n",
    "        self.n_b_primers -= n_b\n",
    "        \n",
    "    def _make_annealing_masks(self, f_mask=None, b_mask=None):\n",
    "        #print(self.b_population.size)\n",
    "        if f_mask is None or b_mask is None:\n",
    "            f_annealing_mask = np.random.choice([0,1,2], self.f_population.shape, p = self.p)#.reshape(self.f_population.shape)\n",
    "            b_annealing_mask = np.random.choice([0,1,2], self.b_population.shape, p = self.p)#.reshape(self.b_population.shape)\n",
    "        else:\n",
    "            f_annealing_mask = f_mask\n",
    "            b_annealing_mask = b_mask\n",
    "\n",
    "        \n",
    "        f_annealing_mask[self.f_population <= 0] = 2\n",
    "        b_annealing_mask[self.b_population <= 0] = 2\n",
    "        return f_annealing_mask, b_annealing_mask, (b_annealing_mask == 0).sum(), (f_annealing_mask == 0).sum()\n",
    "    \n",
    "        \n",
    "    def _make_annealing_linkage(self, f_annealing_mask, b_annealing_mask):\n",
    "        f_indeces_0 = np.vstack(np.where(f_annealing_mask == 0)).T\n",
    "        nonzero_b = (self.b_population.sum(1) != 0).sum()\n",
    "        b_paired_0 = np.vstack((np.arange(nonzero_b,\n",
    "                                          nonzero_b + f_indeces_0.shape[0]),\n",
    "                                np.ones(f_indeces_0.shape[0]) * (self.max_array_len + 2))).T\n",
    "        \n",
    "        #print(self.f_population.shape)\n",
    "        b_indeces_0 = np.vstack(np.where(b_annealing_mask == 0)).T\n",
    "        nonzero_f = (self.f_population.sum(1) != 0).sum()\n",
    "        f_paired_0 = np.vstack((np.arange(nonzero_f,\n",
    "                                          nonzero_f + b_indeces_0.shape[0]),\n",
    "                                -np.ones(b_indeces_0.shape[0]))).T\n",
    "        \n",
    "        \n",
    "        f_indeces_1 = np.vstack(np.where(f_annealing_mask == 1)).T\n",
    "        b_indeces_1 = np.vstack(np.where(b_annealing_mask == 1)).T\n",
    "        np.random.shuffle(f_indeces_1)\n",
    "        np.random.shuffle(b_indeces_1)\n",
    "        f_indeces_1 = f_indeces_1[:min(f_indeces_1.shape[0], b_indeces_1.shape[0])]\n",
    "        b_indeces_1 = b_indeces_1[:min(f_indeces_1.shape[0], b_indeces_1.shape[0])]\n",
    "        \n",
    "\n",
    "        return np.vstack((f_indeces_0, f_paired_0, f_indeces_1)).astype(int), \\\n",
    "                np.vstack((b_paired_0, b_indeces_0, b_indeces_1)).astype(int)\n",
    "\n",
    "    def _debug_set_populations(self, fp, bp):\n",
    "        self.f_population = fp\n",
    "        self.b_population = bp \n",
    "        \n",
    "        \n",
    "    def _copy(self, index_f, index_b):\n",
    "        if index_f[1] <= self.max_array_len and self.f_population[index_f[0], index_f[1] + 1] == 0:\n",
    "            b_copy_part = self.b_population[index_b[0], index_b[1]:]\n",
    "#             print(b_copy_part)\n",
    "            copy_len = min(b_copy_part.shape[0], self.max_array_len + 1 - index_f[1])\n",
    "            b_copy_part = b_copy_part[:copy_len]\n",
    "            self.f_population[index_f[0], index_f[1] + 1 :index_f[1] + 1 + copy_len] = b_copy_part\n",
    "\n",
    "        if index_b[1] > 0 and self.b_population[index_b[0], index_b[1] - 1] == 0:\n",
    "            f_copy_part = self.f_population[index_f[0], : index_f[1] + 1]\n",
    "#             print(f_copy_part)\n",
    "            copy_len = min(f_copy_part.shape[0], index_b[1])\n",
    "            \n",
    "            f_copy_part = f_copy_part[-copy_len:]\n",
    "#             print(f_copy_part, index_b[1] - copy_len, index_b[1])\n",
    "            self.b_population[index_b[0], index_b[1] - copy_len : index_b[1]] = f_copy_part\n",
    "    \n",
    "    \n",
    "    def _recalc_p(self):\n",
    "        multiplicator = ((self.n_f_primes + self.n_b_primers) / (self.initial_n_f + self.initial_n_b)) ** 0.2\n",
    "        self.p = [self.initial_p[0] * multiplicator, self.initial_p[1] / multiplicator, 0]\n",
    "        self.p[2] = 1 - self.p[0] - self.p[1]\n",
    "        \n",
    "        \n",
    "    def anneal(self):\n",
    "        self._recalc_p()\n",
    "        fm, bm, nf,nb = self._make_annealing_masks()\n",
    "        self._increase_populations(nf, nb)\n",
    "        \n",
    "        fi, bi = self._make_annealing_linkage(fm, bm)\n",
    "        \n",
    "        for i in range(len(fi)):\n",
    "            self._copy(fi[i], bi[i])\n",
    "        \n",
    "        \n",
    "\n",
    "    def to_pairs(self):\n",
    "        all_pairs = {}\n",
    "        for product in np.vstack((self.f_population,self.b_population)):\n",
    "            for a,b in zip(product, product[1:]):\n",
    "                if a!= -1 and a!= 0 and b!= -1 and b!=0:\n",
    "                    if (a,b) in all_pairs:\n",
    "                        all_pairs[(a,b)] += 1\n",
    "                    else:\n",
    "                        all_pairs[(a,b)] = 1\n",
    "        return all_pairs\n",
    "    \n",
    "    def to_graph(self):\n",
    "        gr = np.zeros((self.n_spacers, self.n_spacers))\n",
    "        \n",
    "        for p, n in self.to_pairs().items():\n",
    "            if p[0] >= 0 and p[1] >= 0:\n",
    "                gr[int(p[0]) -1 ][int(p[1])-1] = n\n",
    "        return gr"
   ]
  },
  {
   "cell_type": "code",
   "execution_count": 49,
   "metadata": {},
   "outputs": [],
   "source": [
    "test_p = [[1,2,3,4,5,6], [4,5,7,8,9]]"
   ]
  },
  {
   "cell_type": "code",
   "execution_count": 50,
   "metadata": {},
   "outputs": [],
   "source": [
    "p_list_0 = [[1, 3, 6, 8, 9, 10, 13, 14, 15, 17, 12, 16] for i in range(5)] + \\\n",
    "            [[4, 2, 5, 7, 11] for i in range(5)] + \\\n",
    "               [[4, 24, 19, 18, 25, 30, 27, 26, 28, 31, 32, 33, 34] for i in range(1)] + \\\n",
    "               [[1, 20, 22, 23, 21, 29] for i in range(1)]"
   ]
  },
  {
   "cell_type": "code",
   "execution_count": 62,
   "metadata": {},
   "outputs": [],
   "source": [
    "pcr = PCR(p_list_0, 10000000)\n"
   ]
  },
  {
   "cell_type": "code",
   "execution_count": 63,
   "metadata": {},
   "outputs": [
    {
     "data": {
      "text/plain": [
       "(12, 15)"
      ]
     },
     "execution_count": 63,
     "metadata": {},
     "output_type": "execute_result"
    }
   ],
   "source": [
    "pcr.b_population.shape"
   ]
  },
  {
   "cell_type": "code",
   "execution_count": 64,
   "metadata": {
    "scrolled": true
   },
   "outputs": [
    {
     "name": "stdout",
     "output_type": "stream",
     "text": [
      "21 17\n",
      "[0.07692307692307693, 0.07692307692307693, 0.8461538461538463]\n",
      "33 31\n",
      "[0.07692306615384314, 0.07692308769231222, 0.8461538461538446]\n",
      "57 37\n",
      "[0.07692304615382155, 0.07692310769234462, 0.8461538461538338]\n",
      "88 65\n",
      "[0.0769230230768477, 0.07692313076934384, 0.8461538461538084]\n",
      "120 109\n",
      "[0.07692297769205168, 0.07692317615423018, 0.8461538461537181]\n",
      "165 149\n",
      "[0.07692291923012269, 0.07692323461635443, 0.8461538461535228]\n",
      "221 200\n",
      "[0.07692285384486, 0.0769233000019408, 0.8461538461531992]\n",
      "316 265\n",
      "[0.07692277153603676, 0.0769233823113295, 0.8461538461526337]\n",
      "419 376\n",
      "[0.07692264845676533, 0.07692350539177513, 0.8461538461514595]\n",
      "544 536\n",
      "[0.07692248383700839, 0.07692367001371826, 0.8461538461492734]\n",
      "747 723\n",
      "[0.07692226459822814, 0.07692388925650413, 0.8461538461452677]\n",
      "997 1003\n",
      "[0.07692196458321529, 0.0769241892790237, 0.846153846137761]\n",
      "1347 1372\n",
      "[0.07692155686300298, 0.07692459701318906, 0.846153846123808]\n",
      "1831 1843\n",
      "[0.07692100373440597, 0.07692515016762484, 0.8461538460979693]\n",
      "2476 2535\n",
      "[0.07692026902578525, 0.07692588492286809, 0.8461538460513466]\n",
      "3390 3444\n",
      "[0.07691924038655554, 0.07692691365095503, 0.8461538459624894]\n",
      "4659 4775\n",
      "[0.0769178377479142, 0.07692831645510038, 0.8461538457969855]\n",
      "6437 6536\n",
      "[0.07691583709887531, 0.07693031742873839, 0.8461538454723864]\n",
      "8849 8949\n",
      "[0.07691311357320357, 0.07693304156360588, 0.8461538448631906]\n",
      "12238 12240\n",
      "[0.0769093997525595, 0.07693675652587173, 0.8461538437215688]\n"
     ]
    }
   ],
   "source": [
    "for i in range(20):\n",
    "    pcr.anneal()\n",
    "    print(pcr.f_population.shape[0], pcr.b_population.shape[0])\n",
    "    print(pcr.p)"
   ]
  },
  {
   "cell_type": "code",
   "execution_count": 65,
   "metadata": {},
   "outputs": [],
   "source": [
    "import sys"
   ]
  },
  {
   "cell_type": "code",
   "execution_count": 67,
   "metadata": {},
   "outputs": [],
   "source": [
    "sys.path.append(\"../\")\n",
    "import utils.plot_utils as pu"
   ]
  },
  {
   "cell_type": "code",
   "execution_count": 69,
   "metadata": {
    "scrolled": true
   },
   "outputs": [
    {
     "data": {
      "image/png": "[encoded data removed]",
      "text/plain": [
       "<matplotlib.figure.Figure at 0x7f9b911cfb00>"
      ]
     },
     "metadata": {},
     "output_type": "display_data"
    }
   ],
   "source": [
    "pu.plot_gr(pcr.to_graph(), log = 1)"
   ]
  },
  {
   "cell_type": "code",
   "execution_count": 70,
   "metadata": {},
   "outputs": [],
   "source": [
    "gr = pcr.to_graph()"
   ]
  },
  {
   "cell_type": "code",
   "execution_count": 75,
   "metadata": {},
   "outputs": [
    {
     "data": {
      "text/plain": [
       "array([  10,   11, 2968,    2,    0,    2,    0,    1,    9,    6,    0,\n",
       "          0,   11,    9,    3,    2,   28,    3,    2,   62,    0,    0,\n",
       "          0,    1,    1,    7,    6,    2,    0,    2,    0,    0,    0,\n",
       "          0])"
      ]
     },
     "execution_count": 75,
     "metadata": {},
     "output_type": "execute_result"
    }
   ],
   "source": [
    "gr[0].astype(int)"
   ]
  },
  {
   "cell_type": "code",
   "execution_count": 156,
   "metadata": {},
   "outputs": [
    {
     "data": {
      "text/plain": [
       "{(1.0, 2.0): 22591,\n",
       " (2.0, 3.0): 33354,\n",
       " (2.0, 4.0): 34526,\n",
       " (4.0, 5.0): 28577,\n",
       " (5.0, 6.0): 17533,\n",
       " (2.0, 2.0): 38863,\n",
       " (3.0, 1.0): 16157,\n",
       " (2.0, 1.0): 6559,\n",
       " (3.0, 2.0): 24744,\n",
       " (2.0, 5.0): 8971,\n",
       " (5.0, 4.0): 4206,\n",
       " (5.0, 3.0): 9964,\n",
       " (4.0, 4.0): 5188,\n",
       " (6.0, 2.0): 7816,\n",
       " (3.0, 3.0): 5625,\n",
       " (3.0, 4.0): 6201,\n",
       " (5.0, 2.0): 14379,\n",
       " (3.0, 6.0): 2126,\n",
       " (6.0, 5.0): 3707,\n",
       " (6.0, 3.0): 5380,\n",
       " (6.0, 6.0): 1206,\n",
       " (3.0, 5.0): 5649,\n",
       " (4.0, 1.0): 3085,\n",
       " (4.0, 3.0): 4835,\n",
       " (4.0, 2.0): 15344,\n",
       " (6.0, 4.0): 5301,\n",
       " (2.0, 6.0): 3925,\n",
       " (5.0, 1.0): 2387,\n",
       " (5.0, 5.0): 4202,\n",
       " (6.0, 1.0): 1456,\n",
       " (1.0, 3.0): 2606,\n",
       " (1.0, 5.0): 1723,\n",
       " (1.0, 4.0): 2497,\n",
       " (4.0, 6.0): 1550,\n",
       " (1.0, 6.0): 599,\n",
       " (1.0, 1.0): 893}"
      ]
     },
     "execution_count": 156,
     "metadata": {},
     "output_type": "execute_result"
    }
   ],
   "source": [
    "pcr.to_pairs()"
   ]
  },
  {
   "cell_type": "code",
   "execution_count": null,
   "metadata": {},
   "outputs": [],
   "source": []
  },
  {
   "cell_type": "code",
   "execution_count": 118,
   "metadata": {},
   "outputs": [],
   "source": [
    "bp = np.array([[-1.,  1.,  2.,  3., -1., -1.],\n",
    "           [-1.,  2.,  4.,  5.,  6., -1.],\n",
    "           [ 0.,  0.,  0.,  0.,  0., -1.],\n",
    "           [ 0.,  0.,  0.,  0.,  1.,  2.],\n",
    "           [ 0.,  0.,  0.,  0.,  2.,  4.],\n",
    "           [ 0.,  0.,  0.,  0.,  0.,  0.],\n",
    "           [ 0.,  0.,  0.,  0.,  0.,  0.],\n",
    "           [ 0.,  0.,  0.,  0.,  0.,  0.]])"
   ]
  },
  {
   "cell_type": "code",
   "execution_count": 119,
   "metadata": {},
   "outputs": [],
   "source": [
    "fp = np.array([[-1.,  1.,  2.,  3., -1., -1.],\n",
    "           [-1.,  2.,  4.,  5.,  6., -1.],\n",
    "           [ 4.,  5.,  6., -1.,  0.,  0.],\n",
    "           [ 5.,  6.,  0.,  0.,  0.,  0.],\n",
    "           [ 0.,  0.,  0.,  0.,  0.,  0.],\n",
    "           [ 0.,  0.,  0.,  0.,  0.,  0.],\n",
    "           [ 0.,  0.,  0.,  0.,  0.,  0.]])"
   ]
  },
  {
   "cell_type": "code",
   "execution_count": 120,
   "metadata": {},
   "outputs": [],
   "source": [
    "pcr._debug_set_populations(fp, bp)"
   ]
  },
  {
   "cell_type": "code",
   "execution_count": 121,
   "metadata": {},
   "outputs": [
    {
     "name": "stdout",
     "output_type": "stream",
     "text": [
      "[ 1.  2.  3. -1. -1.]\n"
     ]
    }
   ],
   "source": [
    "#pcr._copy([3,1], [3,4])\n",
    "pcr._copy([3,1], [0,1])"
   ]
  },
  {
   "cell_type": "code",
   "execution_count": 122,
   "metadata": {},
   "outputs": [
    {
     "data": {
      "text/plain": [
       "array([[-1.,  1.,  2.,  3., -1., -1.],\n",
       "       [-1.,  2.,  4.,  5.,  6., -1.],\n",
       "       [ 4.,  5.,  6., -1.,  0.,  0.],\n",
       "       [ 5.,  6.,  1.,  2.,  3., -1.],\n",
       "       [ 0.,  0.,  0.,  0.,  0.,  0.],\n",
       "       [ 0.,  0.,  0.,  0.,  0.,  0.],\n",
       "       [ 0.,  0.,  0.,  0.,  0.,  0.]])"
      ]
     },
     "execution_count": 122,
     "metadata": {},
     "output_type": "execute_result"
    }
   ],
   "source": [
    "pcr.f_population"
   ]
  },
  {
   "cell_type": "code",
   "execution_count": 123,
   "metadata": {},
   "outputs": [
    {
     "data": {
      "text/plain": [
       "array([[-1.,  1.,  2.,  3., -1., -1.],\n",
       "       [-1.,  2.,  4.,  5.,  6., -1.],\n",
       "       [ 0.,  0.,  0.,  0.,  0., -1.],\n",
       "       [ 0.,  0.,  0.,  0.,  1.,  2.],\n",
       "       [ 0.,  0.,  0.,  0.,  2.,  4.],\n",
       "       [ 0.,  0.,  0.,  0.,  0.,  0.],\n",
       "       [ 0.,  0.,  0.,  0.,  0.,  0.],\n",
       "       [ 0.,  0.,  0.,  0.,  0.,  0.]])"
      ]
     },
     "execution_count": 123,
     "metadata": {},
     "output_type": "execute_result"
    }
   ],
   "source": [
    "pcr.b_population"
   ]
  },
  {
   "cell_type": "code",
   "execution_count": 17,
   "metadata": {},
   "outputs": [],
   "source": [
    "fm, bm, nf,nb = pcr._make_annealing_masks()\n",
    "pcr._increase_populations(nf, nb)"
   ]
  },
  {
   "cell_type": "code",
   "execution_count": 18,
   "metadata": {
    "scrolled": false
   },
   "outputs": [
    {
     "data": {
      "text/plain": [
       "array([[2, 2, 2, 0, 2, 2],\n",
       "       [2, 2, 2, 2, 1, 2],\n",
       "       [2, 0, 1, 2, 2, 1],\n",
       "       [0, 1, 2, 1, 2, 1]])"
      ]
     },
     "execution_count": 18,
     "metadata": {},
     "output_type": "execute_result"
    }
   ],
   "source": [
    "fm"
   ]
  },
  {
   "cell_type": "code",
   "execution_count": 19,
   "metadata": {},
   "outputs": [
    {
     "data": {
      "text/plain": [
       "array([[2, 2, 2, 2, 2, 2],\n",
       "       [2, 2, 2, 2, 1, 2],\n",
       "       [2, 2, 2, 2, 1, 2],\n",
       "       [2, 1, 1, 2, 1, 2],\n",
       "       [0, 0, 2, 2, 1, 0]])"
      ]
     },
     "execution_count": 19,
     "metadata": {},
     "output_type": "execute_result"
    }
   ],
   "source": [
    "bm"
   ]
  },
  {
   "cell_type": "code",
   "execution_count": 20,
   "metadata": {},
   "outputs": [
    {
     "name": "stdout",
     "output_type": "stream",
     "text": [
      "(7, 6)\n"
     ]
    }
   ],
   "source": [
    "fi, bi = pcr._make_annealing_linkage(fm, bm)"
   ]
  },
  {
   "cell_type": "code",
   "execution_count": 21,
   "metadata": {},
   "outputs": [
    {
     "data": {
      "text/plain": [
       "array([[ 0,  3],\n",
       "       [ 2,  1],\n",
       "       [ 3,  0],\n",
       "       [ 4, -1],\n",
       "       [ 5, -1],\n",
       "       [ 6, -1],\n",
       "       [ 3,  1],\n",
       "       [ 3,  5],\n",
       "       [ 3,  3],\n",
       "       [ 2,  2],\n",
       "       [ 1,  4],\n",
       "       [ 2,  5]])"
      ]
     },
     "execution_count": 21,
     "metadata": {},
     "output_type": "execute_result"
    }
   ],
   "source": [
    "fi"
   ]
  },
  {
   "cell_type": "code",
   "execution_count": 22,
   "metadata": {},
   "outputs": [
    {
     "data": {
      "text/plain": [
       "array([[5, 6],\n",
       "       [6, 6],\n",
       "       [7, 6],\n",
       "       [4, 0],\n",
       "       [4, 1],\n",
       "       [4, 5],\n",
       "       [3, 2],\n",
       "       [3, 1],\n",
       "       [1, 4],\n",
       "       [4, 4],\n",
       "       [2, 4],\n",
       "       [3, 4]])"
      ]
     },
     "execution_count": 22,
     "metadata": {},
     "output_type": "execute_result"
    }
   ],
   "source": [
    "bi"
   ]
  },
  {
   "cell_type": "code",
   "execution_count": 23,
   "metadata": {},
   "outputs": [
    {
     "data": {
      "text/plain": [
       "array([[-1.,  1.,  2.,  3., -1., -1.],\n",
       "       [-1.,  2.,  4.,  5.,  6., -1.],\n",
       "       [ 0.,  0.,  0.,  0.,  0., -1.],\n",
       "       [ 0.,  0.,  0., -1.,  1.,  2.],\n",
       "       [ 0.,  0.,  0., -1.,  2.,  4.],\n",
       "       [ 0.,  0.,  0.,  0.,  0.,  0.],\n",
       "       [ 0.,  0.,  0.,  0.,  0.,  0.],\n",
       "       [ 0.,  0.,  0.,  0.,  0.,  0.]])"
      ]
     },
     "execution_count": 23,
     "metadata": {},
     "output_type": "execute_result"
    }
   ],
   "source": [
    "pcr.b_population"
   ]
  },
  {
   "cell_type": "code",
   "execution_count": 24,
   "metadata": {},
   "outputs": [
    {
     "data": {
      "text/plain": [
       "array([[-1.,  1.,  2.,  3., -1., -1.],\n",
       "       [-1.,  2.,  4.,  5.,  6., -1.],\n",
       "       [ 4.,  5.,  6., -1.,  0.,  0.],\n",
       "       [ 5.,  6., -1.,  0.,  0.,  0.],\n",
       "       [ 0.,  0.,  0.,  0.,  0.,  0.],\n",
       "       [ 0.,  0.,  0.,  0.,  0.,  0.],\n",
       "       [ 0.,  0.,  0.,  0.,  0.,  0.]])"
      ]
     },
     "execution_count": 24,
     "metadata": {},
     "output_type": "execute_result"
    }
   ],
   "source": [
    "pcr.f_population"
   ]
  },
  {
   "cell_type": "code",
   "execution_count": 25,
   "metadata": {},
   "outputs": [
    {
     "name": "stdout",
     "output_type": "stream",
     "text": [
      "[ 0.  0.  0. -1.  2.  4.]\n",
      "0 6\n",
      "[ 0.  0. -1.  2.  4.]\n",
      "0 5\n"
     ]
    },
    {
     "ename": "ValueError",
     "evalue": "could not broadcast input array from shape (2) into shape (0)",
     "output_type": "error",
     "traceback": [
      "\u001b[0;31m---------------------------------------------------------------------------\u001b[0m",
      "\u001b[0;31mValueError\u001b[0m                                Traceback (most recent call last)",
      "\u001b[0;32m<ipython-input-25-40b37048a485>\u001b[0m in \u001b[0;36m<module>\u001b[0;34m()\u001b[0m\n\u001b[1;32m      1\u001b[0m \u001b[0;32mfor\u001b[0m \u001b[0mi\u001b[0m \u001b[0;32min\u001b[0m \u001b[0mrange\u001b[0m\u001b[0;34m(\u001b[0m\u001b[0mlen\u001b[0m\u001b[0;34m(\u001b[0m\u001b[0mfi\u001b[0m\u001b[0;34m)\u001b[0m\u001b[0;34m)\u001b[0m\u001b[0;34m:\u001b[0m\u001b[0;34m\u001b[0m\u001b[0m\n\u001b[0;32m----> 2\u001b[0;31m     \u001b[0mpcr\u001b[0m\u001b[0;34m.\u001b[0m\u001b[0m_copy\u001b[0m\u001b[0;34m(\u001b[0m\u001b[0mfi\u001b[0m\u001b[0;34m[\u001b[0m\u001b[0mi\u001b[0m\u001b[0;34m]\u001b[0m\u001b[0;34m,\u001b[0m \u001b[0mbi\u001b[0m\u001b[0;34m[\u001b[0m\u001b[0mi\u001b[0m\u001b[0;34m]\u001b[0m\u001b[0;34m)\u001b[0m\u001b[0;34m\u001b[0m\u001b[0m\n\u001b[0m",
      "\u001b[0;32m<ipython-input-3-5ae202a5bca3>\u001b[0m in \u001b[0;36m_copy\u001b[0;34m(self, index_f, index_b)\u001b[0m\n\u001b[1;32m     75\u001b[0m             \u001b[0mcopy_len\u001b[0m \u001b[0;34m=\u001b[0m \u001b[0mmin\u001b[0m\u001b[0;34m(\u001b[0m\u001b[0mf_copy_part\u001b[0m\u001b[0;34m.\u001b[0m\u001b[0mshape\u001b[0m\u001b[0;34m[\u001b[0m\u001b[0;36m0\u001b[0m\u001b[0;34m]\u001b[0m\u001b[0;34m,\u001b[0m \u001b[0mindex_b\u001b[0m\u001b[0;34m[\u001b[0m\u001b[0;36m1\u001b[0m\u001b[0;34m]\u001b[0m \u001b[0;34m+\u001b[0m \u001b[0;36m1\u001b[0m\u001b[0;34m)\u001b[0m\u001b[0;34m\u001b[0m\u001b[0m\n\u001b[1;32m     76\u001b[0m             \u001b[0mf_copy_part\u001b[0m \u001b[0;34m=\u001b[0m \u001b[0mf_copy_part\u001b[0m\u001b[0;34m[\u001b[0m\u001b[0;34m-\u001b[0m\u001b[0mcopy_len\u001b[0m\u001b[0;34m:\u001b[0m\u001b[0;34m]\u001b[0m\u001b[0;34m\u001b[0m\u001b[0m\n\u001b[0;32m---> 77\u001b[0;31m             \u001b[0mself\u001b[0m\u001b[0;34m.\u001b[0m\u001b[0mb_population\u001b[0m\u001b[0;34m[\u001b[0m\u001b[0mindex_b\u001b[0m\u001b[0;34m[\u001b[0m\u001b[0;36m0\u001b[0m\u001b[0;34m]\u001b[0m\u001b[0;34m,\u001b[0m \u001b[0mindex_b\u001b[0m\u001b[0;34m[\u001b[0m\u001b[0;36m1\u001b[0m\u001b[0;34m]\u001b[0m \u001b[0;34m-\u001b[0m \u001b[0mcopy_len\u001b[0m \u001b[0;34m:\u001b[0m \u001b[0mindex_b\u001b[0m\u001b[0;34m[\u001b[0m\u001b[0;36m1\u001b[0m\u001b[0;34m]\u001b[0m\u001b[0;34m]\u001b[0m \u001b[0;34m=\u001b[0m \u001b[0mf_copy_part\u001b[0m\u001b[0;34m\u001b[0m\u001b[0m\n\u001b[0m\u001b[1;32m     78\u001b[0m \u001b[0;34m\u001b[0m\u001b[0m\n\u001b[1;32m     79\u001b[0m \u001b[0;34m\u001b[0m\u001b[0m\n",
      "\u001b[0;31mValueError\u001b[0m: could not broadcast input array from shape (2) into shape (0)"
     ]
    }
   ],
   "source": [
    "for i in range(len(fi)):\n",
    "    pcr._copy(fi[i], bi[i])"
   ]
  },
  {
   "cell_type": "code",
   "execution_count": null,
   "metadata": {},
   "outputs": [],
   "source": []
  },
  {
   "cell_type": "code",
   "execution_count": 16,
   "metadata": {},
   "outputs": [
    {
     "data": {
      "text/plain": [
       "array([[-1.,  1.,  2.,  3., -1., -1.],\n",
       "       [-1.,  2.,  4.,  5.,  6., -1.],\n",
       "       [ 0.,  0.,  0.,  0.,  0., -1.],\n",
       "       [ 0.,  0.,  0., -1.,  1.,  2.],\n",
       "       [ 0.,  0.,  0., -1.,  2.,  4.]])"
      ]
     },
     "execution_count": 16,
     "metadata": {},
     "output_type": "execute_result"
    }
   ],
   "source": [
    "pcr.b_population"
   ]
  },
  {
   "cell_type": "code",
   "execution_count": 268,
   "metadata": {},
   "outputs": [
    {
     "data": {
      "text/plain": [
       "6"
      ]
     },
     "execution_count": 268,
     "metadata": {},
     "output_type": "execute_result"
    }
   ],
   "source": [
    "bi[0][1]"
   ]
  },
  {
   "cell_type": "code",
   "execution_count": null,
   "metadata": {},
   "outputs": [],
   "source": []
  },
  {
   "cell_type": "code",
   "execution_count": null,
   "metadata": {},
   "outputs": [],
   "source": []
  },
  {
   "cell_type": "code",
   "execution_count": null,
   "metadata": {},
   "outputs": [],
   "source": []
  },
  {
   "cell_type": "code",
   "execution_count": null,
   "metadata": {},
   "outputs": [],
   "source": []
  },
  {
   "cell_type": "code",
   "execution_count": null,
   "metadata": {},
   "outputs": [],
   "source": []
  }
 ],
 "metadata": {
  "kernelspec": {
   "display_name": "Python 3",
   "language": "python",
   "name": "python3"
  },
  "language_info": {
   "codemirror_mode": {
    "name": "ipython",
    "version": 3
   },
   "file_extension": ".py",
   "mimetype": "text/x-python",
   "name": "python",
   "nbconvert_exporter": "python",
   "pygments_lexer": "ipython3",
   "version": "3.6.3"
  }
 },
 "nbformat": 4,
 "nbformat_minor": 2
}
