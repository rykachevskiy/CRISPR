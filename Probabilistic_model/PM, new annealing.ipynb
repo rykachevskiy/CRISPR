{
 "cells": [
  {
   "cell_type": "markdown",
   "metadata": {},
   "source": [
    "Это амлификация с учетом заканичвающихся праймеров. Очень простая модель склеек, когда в кажое место либо ничего, либо праймер, либо другое место\n"
   ]
  },
  {
   "cell_type": "code",
   "execution_count": 25,
   "metadata": {},
   "outputs": [],
   "source": [
    "import numpy as np\n",
    "import matplotlib.pyplot as plt\n",
    "import crispr_assembler as ca"
   ]
  },
  {
   "cell_type": "code",
   "execution_count": 2,
   "metadata": {},
   "outputs": [],
   "source": [
    "from tqdm import tqdm_notebook"
   ]
  },
  {
   "cell_type": "code",
   "execution_count": 3,
   "metadata": {},
   "outputs": [],
   "source": [
    "import sys\n",
    "sys.path.append(\"../utils/\")"
   ]
  },
  {
   "cell_type": "code",
   "execution_count": 4,
   "metadata": {},
   "outputs": [],
   "source": [
    "import plot_utils as pu"
   ]
  },
  {
   "cell_type": "code",
   "execution_count": 5,
   "metadata": {},
   "outputs": [],
   "source": [
    "class PCR:\n",
    "    def __init__(self, population_as_list, n_primers, p = None, transform_to_min_range = 1):\n",
    "        if transform_to_min_range:\n",
    "            population_as_list = self._transform_to_min_range(population_as_list)\n",
    "            \n",
    "        self.max_array_len = max([len(x) for x in population_as_list])\n",
    "        \n",
    "        self.f_population = np.ones((len(population_as_list), self.max_array_len + 2)) * -1\n",
    "        \n",
    "        for i, array in enumerate(population_as_list):\n",
    "            self.f_population[i][1:1 + len(array)] = np.array(array) + 1\n",
    "        self.b_population = np.copy(self.f_population)\n",
    "        \n",
    "        self.n_f_primes = n_primers\n",
    "        self.n_b_primers = n_primers\n",
    "        self.initial_n_f = n_primers\n",
    "        self.initial_n_b = n_primers\n",
    "        \n",
    "        self.n_spacers = len(set([x for y in population_as_list for x in y]))\n",
    "        \n",
    "        if p is None:\n",
    "            self.p = [1 / self.max_array_len, 0.1 / self.max_array_len, 0]\n",
    "            self.p[-1] = 1 - self.p[0] - self.p[1]\n",
    "\n",
    "            self.initial_p = [x for x in self.p]\n",
    "        else:\n",
    "            self.p = [x for x in p]\n",
    "            self.initial_p = [x for x in p]\n",
    "        \n",
    "        self.correct_pairs = set(self.to_pairs().keys())\n",
    "        \n",
    "    def _transform_to_min_range(self, population_as_list):\n",
    "        spacers = set([sp for arr in population_as_list for sp in arr])\n",
    "        spacers_list_sorted = sorted(list(spacers))\n",
    "        translate_dict = dict(zip(spacers_list_sorted, np.arange(len(spacers)).astype(int)))\n",
    "        population_transformed = [[translate_dict[sp] for sp in arr] for arr in population_as_list]\n",
    "        \n",
    "        return population_transformed\n",
    "        \n",
    "    def _increase_populations(self, n_f, n_b):\n",
    "        self.f_population = np.vstack((self.f_population, np.zeros((n_f, self.max_array_len + 2))))\n",
    "        self.b_population = np.vstack((self.b_population, np.zeros((n_b, self.max_array_len + 2))))\n",
    "        \n",
    "        self.n_f_primes -= n_f\n",
    "        self.n_b_primers -= n_b\n",
    "        \n",
    "    def _make_annealing_masks(self, f_mask=None, b_mask=None):\n",
    "        #print(self.b_population.size)\n",
    "        if f_mask is None or b_mask is None:\n",
    "            f_annealing_mask = np.random.choice([0,1,2], self.f_population.shape, p = self.p)#.reshape(self.f_population.shape)\n",
    "            b_annealing_mask = np.random.choice([0,1,2], self.b_population.shape, p = self.p)#.reshape(self.b_population.shape)\n",
    "        else:\n",
    "            f_annealing_mask = f_mask\n",
    "            b_annealing_mask = b_mask\n",
    "\n",
    "        \n",
    "        f_annealing_mask[self.f_population <= 0] = 2\n",
    "        b_annealing_mask[self.b_population <= 0] = 2\n",
    "        return f_annealing_mask, b_annealing_mask, (b_annealing_mask == 0).sum(), (f_annealing_mask == 0).sum()\n",
    "    \n",
    "        \n",
    "    def _make_annealing_linkage(self, f_annealing_mask, b_annealing_mask):\n",
    "        f_indeces_0 = np.vstack(np.where(f_annealing_mask == 0)).T\n",
    "        nonzero_b = (self.b_population.sum(1) != 0).sum()\n",
    "        b_paired_0 = np.vstack((np.arange(nonzero_b,\n",
    "                                          nonzero_b + f_indeces_0.shape[0]),\n",
    "                                np.ones(f_indeces_0.shape[0]) * (self.max_array_len + 2))).T\n",
    "        \n",
    "        #print(self.f_population.shape)\n",
    "        b_indeces_0 = np.vstack(np.where(b_annealing_mask == 0)).T\n",
    "        nonzero_f = (self.f_population.sum(1) != 0).sum()\n",
    "        f_paired_0 = np.vstack((np.arange(nonzero_f,\n",
    "                                          nonzero_f + b_indeces_0.shape[0]),\n",
    "                                -np.ones(b_indeces_0.shape[0]))).T\n",
    "        \n",
    "        \n",
    "        f_indeces_1 = np.vstack(np.where(f_annealing_mask == 1)).T\n",
    "        b_indeces_1 = np.vstack(np.where(b_annealing_mask == 1)).T\n",
    "        np.random.shuffle(f_indeces_1)\n",
    "        np.random.shuffle(b_indeces_1)\n",
    "        f_indeces_1 = f_indeces_1[:min(f_indeces_1.shape[0], b_indeces_1.shape[0])]\n",
    "        b_indeces_1 = b_indeces_1[:min(f_indeces_1.shape[0], b_indeces_1.shape[0])]\n",
    "        \n",
    "\n",
    "        return np.vstack((f_indeces_0, f_paired_0, f_indeces_1)).astype(int), \\\n",
    "                np.vstack((b_paired_0, b_indeces_0, b_indeces_1)).astype(int)\n",
    "\n",
    "    def _debug_set_populations(self, fp, bp):\n",
    "        self.f_population = fp\n",
    "        self.b_population = bp \n",
    "        \n",
    "        \n",
    "    def _copy(self, index_f, index_b):\n",
    "        if index_f[1] <= self.max_array_len and self.f_population[index_f[0], index_f[1] + 1] == 0:\n",
    "            b_copy_part = self.b_population[index_b[0], index_b[1]:]\n",
    "#             print(b_copy_part)\n",
    "            copy_len = min(b_copy_part.shape[0], self.max_array_len + 1 - index_f[1])\n",
    "            b_copy_part = b_copy_part[:copy_len]\n",
    "            self.f_population[index_f[0], index_f[1] + 1 :index_f[1] + 1 + copy_len] = b_copy_part\n",
    "\n",
    "        if index_b[1] > 0 and self.b_population[index_b[0], index_b[1] - 1] == 0:\n",
    "            f_copy_part = self.f_population[index_f[0], : index_f[1] + 1]\n",
    "#             print(f_copy_part)\n",
    "            copy_len = min(f_copy_part.shape[0], index_b[1])\n",
    "            \n",
    "            f_copy_part = f_copy_part[-copy_len:]\n",
    "#             print(f_copy_part, index_b[1] - copy_len, index_b[1])\n",
    "            self.b_population[index_b[0], index_b[1] - copy_len : index_b[1]] = f_copy_part\n",
    "    \n",
    "    \n",
    "    def _recalc_p(self):\n",
    "        multiplicator = ((self.n_f_primes + self.n_b_primers) / (self.initial_n_f + self.initial_n_b))  ** 0.1\n",
    "        self.p = [self.initial_p[0] * multiplicator, self.initial_p[1] / multiplicator, 0]\n",
    "#         print(\"selfp\", self.n_f_primes, self.p[0], multiplicator, multiplicator ** 0.1)\n",
    "#         if self.p[0] < 0.01:\n",
    "#             self.p[0] = self.initial_p[1]\n",
    "#             self.p[1] = self.initial_p[0]\n",
    "        self.p[2] = 1 - self.p[0] - self.p[1]\n",
    "        \n",
    "        \n",
    "    def anneal(self):\n",
    "        if self.n_f_primes > 0 and self.n_b_primers > 0:\n",
    "            self._recalc_p()\n",
    "            fm, bm, nf,nb = self._make_annealing_masks()\n",
    "            self._increase_populations(nf, nb)\n",
    "\n",
    "            fi, bi = self._make_annealing_linkage(fm, bm)\n",
    "\n",
    "            for i in range(len(fi)):\n",
    "                self._copy(fi[i], bi[i])\n",
    "                \n",
    "            \n",
    "        if (self.f_population.shape[0] > 100000) or (self.b_population.shape[0] > 100000): \n",
    "            f_mask = np.random.binomial(1, 0.5, self.f_population.shape[0]).astype(bool)\n",
    "            b_mask = np.random.binomial(1, 0.5, self.b_population.shape[0]).astype(bool)\n",
    "            \n",
    "            self.f_population = self.f_population[f_mask]\n",
    "            self.b_population = self.b_population[b_mask]\n",
    "            \n",
    "            self.n_f_primes /= 2\n",
    "            self.n_b_primers /= 2\n",
    "            self.initial_n_f /= 2\n",
    "            self.initial_n_b /= 2\n",
    "            \n",
    "#             print('ENTER population cut', self.f_population.shape[0], self.b_population.shape[0])\n",
    "#         else:\n",
    "#             print('NO population cut', self.f_population.shape[0], self.b_population.shape[0])\n",
    "        \n",
    "\n",
    "    def to_pairs(self):\n",
    "        all_pairs = {}\n",
    "        for product in np.vstack((self.f_population,self.b_population)):\n",
    "            for a,b in zip(product, product[1:]):\n",
    "                if a!= -1 and a!= 0 and b!= -1 and b!=0:\n",
    "                    if (a,b) in all_pairs:\n",
    "                        all_pairs[(a,b)] += 1\n",
    "                    else:\n",
    "                        all_pairs[(a,b)] = 1\n",
    "        return all_pairs\n",
    "    \n",
    "    def to_graph(self):\n",
    "        gr = np.zeros((self.n_spacers, self.n_spacers))\n",
    "        \n",
    "        for p, n in self.to_pairs().items():\n",
    "            if p[0] >= 0 and p[1] >= 0:\n",
    "                gr[int(p[0]) - 1][int(p[1]) - 1] = n\n",
    "        return gr"
   ]
  },
  {
   "cell_type": "code",
   "execution_count": null,
   "metadata": {},
   "outputs": [],
   "source": []
  },
  {
   "cell_type": "code",
   "execution_count": 27,
   "metadata": {},
   "outputs": [],
   "source": [
    "p_list_0 = [[1, 3, 6, 8, 9, 10, 13, 14, 15, 17, 12, 16] for i in range(50)] + \\\n",
    "            [[4, 2, 5, 7, 11] for i in range(50)] + \\\n",
    "               [[4, 24, 19, 18, 25, 30, 27, 26, 28, 31, 32, 33, 34] for i in range(10)] + \\\n",
    "               [[1, 20, 22, 23, 21, 29] for i in range(10)]"
   ]
  },
  {
   "cell_type": "code",
   "execution_count": 18,
   "metadata": {},
   "outputs": [],
   "source": [
    "p_list_0 = [[2, 21, 18, 19, 22, 30, 27, 29, 28, 31, 33, 32, 34] for i in range(10)] + \\\n",
    "           [[0, 20, 24, 26, 23, 25] for i in range(10)] +\\\n",
    "           [[0, 1, 3, 6, 7, 10, 12, 15, 16, 14, 17, 13, 11] for i in range(50)] +\\\n",
    "           [[2, 4, 5, 9, 8] for i in range(50)]"
   ]
  },
  {
   "cell_type": "code",
   "execution_count": 19,
   "metadata": {},
   "outputs": [],
   "source": [
    "p_list_no0 = [[x+1 for x in y] for y in p_list_0]"
   ]
  },
  {
   "cell_type": "code",
   "execution_count": 28,
   "metadata": {
    "scrolled": true
   },
   "outputs": [],
   "source": [
    "pcr = PCR(p_list_0, len(p_list_0) * 100000, p = [0.1, 0.05, 0.85])"
   ]
  },
  {
   "cell_type": "code",
   "execution_count": null,
   "metadata": {},
   "outputs": [],
   "source": []
  },
  {
   "cell_type": "code",
   "execution_count": 29,
   "metadata": {},
   "outputs": [],
   "source": [
    "gr0 = pcr.to_graph()"
   ]
  },
  {
   "cell_type": "code",
   "execution_count": 30,
   "metadata": {
    "scrolled": true
   },
   "outputs": [
    {
     "name": "stdout",
     "output_type": "stream",
     "text": [
      "237 233\n",
      "[0.1, 0.05, 0.85]\n",
      "11 sum 164.0\n",
      "394 399\n",
      "[0.09999990416625339, 0.050000047916919234, 0.8500000479168274]\n",
      "11 sum 236.0\n",
      "636 656\n",
      "[0.09999976958094417, 0.05000011520979339, 0.8500001152092624]\n",
      "11 sum 317.0\n",
      "992 1026\n",
      "[0.0999995616580203, 0.05000021917195058, 0.8500002191700291]\n",
      "11 sum 431.0\n",
      "1486 1523\n",
      "[0.09999925914196799, 0.05000037043176039, 0.8500003704262716]\n",
      "11 sum 568.0\n",
      "2242 2306\n",
      "[0.09999884619009436, 0.050000576911609286, 0.8500005768982963]\n",
      "11 sum 751.0\n",
      "3296 3400\n",
      "[0.09999820485499239, 0.050000897588616824, 0.8500008975563909]\n",
      "11 sum 994.0\n",
      "4754 4995\n",
      "[0.09999730967432002, 0.05000134519903023, 0.8500013451266497]\n",
      "11 sum 1318.0\n",
      "6873 7146\n",
      "[0.09999603721007466, 0.0500019814734843, 0.850001981316441]\n",
      "11 sum 1782.0\n",
      "9948 10182\n",
      "[0.09999425726617261, 0.05000287153181812, 0.8500028712020092]\n",
      "11 sum 2380.0\n",
      "14222 14526\n",
      "[0.09999170940765725, 0.050004145639869484, 0.8500041449524733]\n",
      "11 sum 3242.0\n",
      "20292 20521\n",
      "[0.09998811531261992, 0.050005943050002964, 0.8500059416373772]\n",
      "11 sum 4425.0\n",
      "28780 29111\n",
      "[0.09998308170885672, 0.05000846057695668, 0.8500084577141866]\n",
      "11 sum 6057.0\n",
      "40765 41381\n",
      "[0.09997595274450762, 0.05001202651979414, 0.8500120207356983]\n",
      "11 sum 8460.0\n",
      "58095 58787\n",
      "[0.09996581997555612, 0.05001709585558956, 0.8500170841688544]\n",
      "11 sum 11931.0\n"
     ]
    }
   ],
   "source": [
    "for i in range(15):\n",
    "    pcr.anneal()\n",
    "    print(pcr.f_population.shape[0], pcr.b_population.shape[0])\n",
    "    print(pcr.p)\n",
    "    print('11 sum', pcr.to_graph()[11].sum())"
   ]
  },
  {
   "cell_type": "code",
   "execution_count": 31,
   "metadata": {},
   "outputs": [],
   "source": [
    "gr = pcr.to_graph()"
   ]
  },
  {
   "cell_type": "code",
   "execution_count": null,
   "metadata": {},
   "outputs": [],
   "source": []
  },
  {
   "cell_type": "code",
   "execution_count": null,
   "metadata": {},
   "outputs": [],
   "source": []
  },
  {
   "cell_type": "code",
   "execution_count": 33,
   "metadata": {},
   "outputs": [
    {
     "data": {
      "image/png": "[encoded data removed]",
      "text/plain": [
       "<matplotlib.figure.Figure at 0x7f6b5b0d2cf8>"
      ]
     },
     "metadata": {},
     "output_type": "display_data"
    }
   ],
   "source": [
    "ca.plot_grs(gr, gr0, log = 1)"
   ]
  },
  {
   "cell_type": "code",
   "execution_count": null,
   "metadata": {},
   "outputs": [],
   "source": []
  },
  {
   "cell_type": "code",
   "execution_count": 34,
   "metadata": {},
   "outputs": [],
   "source": [
    "def calc_noise_ratio(gr0, gr):\n",
    "    return gr[gr0>0].sum() / gr.sum()"
   ]
  },
  {
   "cell_type": "code",
   "execution_count": 35,
   "metadata": {},
   "outputs": [
    {
     "data": {
      "text/plain": [
       "0.9022018759087931"
      ]
     },
     "execution_count": 35,
     "metadata": {},
     "output_type": "execute_result"
    }
   ],
   "source": [
    "calc_noise_ratio(gr0, gr)"
   ]
  },
  {
   "cell_type": "code",
   "execution_count": null,
   "metadata": {
    "collapsed": true
   },
   "outputs": [],
   "source": []
  },
  {
   "cell_type": "code",
   "execution_count": 38,
   "metadata": {},
   "outputs": [],
   "source": [
    "a, w = ca.restore_arrays(gr)"
   ]
  },
  {
   "cell_type": "code",
   "execution_count": 42,
   "metadata": {},
   "outputs": [
    {
     "data": {
      "text/plain": [
       "<Container object of 28 artists>"
      ]
     },
     "execution_count": 42,
     "metadata": {},
     "output_type": "execute_result"
    },
    {
     "data": {
      "image/png": "[encoded data removed]",
      "text/plain": [
       "<matplotlib.figure.Figure at 0x7f6b5aff2550>"
      ]
     },
     "metadata": {},
     "output_type": "display_data"
    }
   ],
   "source": [
    "plt.bar(np.arange(len(w[0])), w[0])"
   ]
  },
  {
   "cell_type": "code",
   "execution_count": null,
   "metadata": {},
   "outputs": [],
   "source": []
  },
  {
   "cell_type": "code",
   "execution_count": 22,
   "metadata": {
    "collapsed": true
   },
   "outputs": [],
   "source": [
    "answ = [[2, 21, 18, 19, 22, 30, 27, 29, 28, 31, 33, 32, 34], \\\n",
    "        [0, 20, 24, 26, 23, 25], \\\n",
    "        [0, 1, 3, 6, 7, 10, 12, 15, 16, 14, 17, 13, 11],\\\n",
    "        [2, 4, 5, 9, 8]]"
   ]
  },
  {
   "cell_type": "code",
   "execution_count": 7,
   "metadata": {
    "collapsed": true
   },
   "outputs": [],
   "source": [
    "import sys"
   ]
  },
  {
   "cell_type": "code",
   "execution_count": 8,
   "metadata": {
    "collapsed": true
   },
   "outputs": [],
   "source": [
    "sys.path.append(\"../\")\n",
    "import utils.plot_utils as pu"
   ]
  },
  {
   "cell_type": "code",
   "execution_count": null,
   "metadata": {
    "collapsed": true
   },
   "outputs": [],
   "source": []
  },
  {
   "cell_type": "code",
   "execution_count": null,
   "metadata": {
    "collapsed": true
   },
   "outputs": [],
   "source": []
  },
  {
   "cell_type": "code",
   "execution_count": null,
   "metadata": {
    "collapsed": true
   },
   "outputs": [],
   "source": []
  },
  {
   "cell_type": "code",
   "execution_count": 10,
   "metadata": {
    "collapsed": true
   },
   "outputs": [],
   "source": [
    "import pickle"
   ]
  },
  {
   "cell_type": "code",
   "execution_count": 11,
   "metadata": {
    "collapsed": true
   },
   "outputs": [],
   "source": [
    "db = pickle.load(open(\"../../db_as_clusters\", 'rb'))"
   ]
  },
  {
   "cell_type": "code",
   "execution_count": 12,
   "metadata": {
    "collapsed": true
   },
   "outputs": [],
   "source": [
    "def gen_initial_p(db, max_arr, max_per_array):\n",
    "    n = len(db)\n",
    "    n_arr = np.random.randint(0, max_arr)\n",
    "    population = []\n",
    "    for i in range(n_arr):\n",
    "        n_repetitions = np.random.randint(1,max_per_array)\n",
    "        arr = np.random.choice(db)\n",
    "        if len(arr) > 1:\n",
    "            population.extend([arr for j in range(n_repetitions)])\n",
    "    \n",
    "    return population"
   ]
  },
  {
   "cell_type": "code",
   "execution_count": null,
   "metadata": {
    "collapsed": true
   },
   "outputs": [],
   "source": []
  },
  {
   "cell_type": "code",
   "execution_count": 13,
   "metadata": {
    "collapsed": true
   },
   "outputs": [],
   "source": [
    "def population_to_pairs(pop, sp_to_n):\n",
    "    pairs = {}\n",
    "    for arr in pop:\n",
    "        for a, b in zip(arr, arr[1:]):\n",
    "            key = (sp_to_n[a], sp_to_n[b])\n",
    "            if key in pairs.keys():\n",
    "                pairs[key] +=1\n",
    "            else:\n",
    "                pairs[key] = 1\n",
    "    return pairs"
   ]
  },
  {
   "cell_type": "code",
   "execution_count": 14,
   "metadata": {
    "collapsed": true
   },
   "outputs": [],
   "source": [
    "def to_graph(pairs, n):\n",
    "    gr = np.zeros((n, n))\n",
    "\n",
    "    for p, n in pairs.items():\n",
    "        if p[0] >= 0 and p[1] >= 0:\n",
    "            gr[int(p[0]) -1 ][int(p[1])-1] = n\n",
    "    return gr"
   ]
  },
  {
   "cell_type": "code",
   "execution_count": 15,
   "metadata": {
    "collapsed": true
   },
   "outputs": [],
   "source": [
    "initial_pops = []\n",
    "pcrs = []"
   ]
  },
  {
   "cell_type": "code",
   "execution_count": null,
   "metadata": {
    "collapsed": true
   },
   "outputs": [],
   "source": []
  },
  {
   "cell_type": "code",
   "execution_count": 16,
   "metadata": {
    "collapsed": true
   },
   "outputs": [],
   "source": [
    "from multiprocessing import Pool"
   ]
  },
  {
   "cell_type": "code",
   "execution_count": 17,
   "metadata": {
    "collapsed": true
   },
   "outputs": [],
   "source": [
    "def f(pop):\n",
    "    \n",
    "    #pop = gen_initial_p(db, 40, 40, i)\n",
    "    \n",
    "    if len(pop) > 0:\n",
    "        pcr = PCR(pop, len(pop) * 100000, p = [0.1, 0.05, 0.85])\n",
    "        \n",
    "        gr0 = pcr.to_graph()\n",
    "        \n",
    "        for i in range(20):\n",
    "            pcr.anneal()\n",
    "\n",
    "        gr = pcr.to_graph()\n",
    "    \n",
    "    \n",
    "    return (gr0, gr)\n",
    "    \n"
   ]
  },
  {
   "cell_type": "code",
   "execution_count": null,
   "metadata": {
    "collapsed": true
   },
   "outputs": [],
   "source": []
  },
  {
   "cell_type": "code",
   "execution_count": 44,
   "metadata": {
    "collapsed": true
   },
   "outputs": [],
   "source": [
    "initial_pops = []\n",
    "while len(initial_pops) < 1000:\n",
    "    pop = gen_initial_p(db, 5, 40)\n",
    "    if len(pop) > 0:\n",
    "        initial_pops.append(pop)"
   ]
  },
  {
   "cell_type": "code",
   "execution_count": 27,
   "metadata": {},
   "outputs": [
    {
     "data": {
      "text/plain": [
       "1000"
      ]
     },
     "execution_count": 27,
     "metadata": {},
     "output_type": "execute_result"
    }
   ],
   "source": [
    "len(initial_pops)"
   ]
  },
  {
   "cell_type": "code",
   "execution_count": 28,
   "metadata": {
    "collapsed": true
   },
   "outputs": [],
   "source": [
    "p.close()"
   ]
  },
  {
   "cell_type": "code",
   "execution_count": 29,
   "metadata": {
    "scrolled": false
   },
   "outputs": [],
   "source": [
    "p = Pool(50)"
   ]
  },
  {
   "cell_type": "code",
   "execution_count": 45,
   "metadata": {
    "collapsed": true
   },
   "outputs": [],
   "source": [
    "gr_list = []"
   ]
  },
  {
   "cell_type": "code",
   "execution_count": 46,
   "metadata": {},
   "outputs": [
    {
     "data": {
      "application/vnd.jupyter.widget-view+json": {
       "model_id": "3eed464d704746ef98b2fa32300e028d",
       "version_major": 2,
       "version_minor": 0
      },
      "text/plain": [
       "A Jupyter Widget"
      ]
     },
     "metadata": {},
     "output_type": "display_data"
    }
   ],
   "source": [
    "for i in tqdm_notebook(range(20)):\n",
    "    gr_list_ = p.map(f, initial_pops[i*50: (i+1)*50])\n",
    "    gr_list.extend(gr_list_)"
   ]
  },
  {
   "cell_type": "code",
   "execution_count": 32,
   "metadata": {},
   "outputs": [
    {
     "data": {
      "text/plain": [
       "1000"
      ]
     },
     "execution_count": 32,
     "metadata": {},
     "output_type": "execute_result"
    }
   ],
   "source": [
    "len(gr_list)"
   ]
  },
  {
   "cell_type": "code",
   "execution_count": 42,
   "metadata": {
    "collapsed": true
   },
   "outputs": [],
   "source": [
    "pickle.dump(gr_list, open(\"../../data/simulation/5_20_01_005/gr_list_1000\", 'wb'))"
   ]
  },
  {
   "cell_type": "code",
   "execution_count": 43,
   "metadata": {
    "collapsed": true
   },
   "outputs": [],
   "source": [
    "pickle.dump([x[0] for x in gr_list], open('../../data/simulation/5_20_01_005/before_grs', 'wb'))\n",
    "pickle.dump([x[1] for x in gr_list], open('../../data/simulation/5_20_01_005/after_grs', 'wb'))"
   ]
  },
  {
   "cell_type": "code",
   "execution_count": null,
   "metadata": {
    "collapsed": true
   },
   "outputs": [],
   "source": []
  },
  {
   "cell_type": "code",
   "execution_count": null,
   "metadata": {
    "collapsed": true
   },
   "outputs": [],
   "source": []
  },
  {
   "cell_type": "code",
   "execution_count": 41,
   "metadata": {},
   "outputs": [
    {
     "data": {
      "image/png": "[encoded data removed]",
      "text/plain": [
       "<matplotlib.figure.Figure at 0x7f26845535f8>"
      ]
     },
     "metadata": {},
     "output_type": "display_data"
    }
   ],
   "source": [
    "plt.hist([x[0].shape[0] for x in gr_list])\n",
    "plt.show()"
   ]
  },
  {
   "cell_type": "code",
   "execution_count": null,
   "metadata": {
    "collapsed": true
   },
   "outputs": [],
   "source": [
    "np.random.set_state()"
   ]
  },
  {
   "cell_type": "code",
   "execution_count": 36,
   "metadata": {},
   "outputs": [
    {
     "data": {
      "image/png": "[encoded data removed]",
      "text/plain": [
       "<matplotlib.figure.Figure at 0x7f2668c642b0>"
      ]
     },
     "metadata": {},
     "output_type": "display_data"
    }
   ],
   "source": [
    "pu.plot_gr(gr_list[-4][1], log = 1)"
   ]
  },
  {
   "cell_type": "code",
   "execution_count": null,
   "metadata": {
    "collapsed": true
   },
   "outputs": [],
   "source": [
    "print(322)"
   ]
  },
  {
   "cell_type": "code",
   "execution_count": null,
   "metadata": {
    "collapsed": true
   },
   "outputs": [],
   "source": []
  },
  {
   "cell_type": "code",
   "execution_count": null,
   "metadata": {
    "collapsed": true
   },
   "outputs": [],
   "source": [
    "p.close()"
   ]
  },
  {
   "cell_type": "code",
   "execution_count": 240,
   "metadata": {
    "collapsed": true
   },
   "outputs": [],
   "source": [
    "before_grs = []\n",
    "after_grs = []"
   ]
  },
  {
   "cell_type": "code",
   "execution_count": 251,
   "metadata": {
    "scrolled": true
   },
   "outputs": [
    {
     "data": {
      "application/vnd.jupyter.widget-view+json": {
       "model_id": "2ed34aee94ae4b159adfa73ee5ecdbef",
       "version_major": 2,
       "version_minor": 0
      },
      "text/plain": [
       "A Jupyter Widget"
      ]
     },
     "metadata": {},
     "output_type": "display_data"
    },
    {
     "name": "stdout",
     "output_type": "stream",
     "text": [
      "\n"
     ]
    },
    {
     "ename": "KeyboardInterrupt",
     "evalue": "",
     "output_type": "error",
     "traceback": [
      "\u001b[0;31m---------------------------------------------------------------------------\u001b[0m",
      "\u001b[0;31mKeyboardInterrupt\u001b[0m                         Traceback (most recent call last)",
      "\u001b[0;32m<ipython-input-251-6c4e24385244>\u001b[0m in \u001b[0;36m<module>\u001b[0;34m()\u001b[0m\n\u001b[1;32m      8\u001b[0m         \u001b[0mbefore_grs\u001b[0m\u001b[0;34m.\u001b[0m\u001b[0mappend\u001b[0m\u001b[0;34m(\u001b[0m\u001b[0mpcr\u001b[0m\u001b[0;34m.\u001b[0m\u001b[0mto_graph\u001b[0m\u001b[0;34m(\u001b[0m\u001b[0;34m)\u001b[0m\u001b[0;34m)\u001b[0m\u001b[0;34m\u001b[0m\u001b[0m\n\u001b[1;32m      9\u001b[0m         \u001b[0;32mfor\u001b[0m \u001b[0mi\u001b[0m \u001b[0;32min\u001b[0m \u001b[0mrange\u001b[0m\u001b[0;34m(\u001b[0m\u001b[0;36m20\u001b[0m\u001b[0;34m)\u001b[0m\u001b[0;34m:\u001b[0m\u001b[0;34m\u001b[0m\u001b[0m\n\u001b[0;32m---> 10\u001b[0;31m             \u001b[0mpcr\u001b[0m\u001b[0;34m.\u001b[0m\u001b[0manneal\u001b[0m\u001b[0;34m(\u001b[0m\u001b[0;34m)\u001b[0m\u001b[0;34m\u001b[0m\u001b[0m\n\u001b[0m\u001b[1;32m     11\u001b[0m \u001b[0;34m\u001b[0m\u001b[0m\n\u001b[1;32m     12\u001b[0m         \u001b[0mafter_grs\u001b[0m\u001b[0;34m.\u001b[0m\u001b[0mappend\u001b[0m\u001b[0;34m(\u001b[0m\u001b[0mpcr\u001b[0m\u001b[0;34m.\u001b[0m\u001b[0mto_graph\u001b[0m\u001b[0;34m(\u001b[0m\u001b[0;34m)\u001b[0m\u001b[0;34m)\u001b[0m\u001b[0;34m\u001b[0m\u001b[0m\n",
      "\u001b[0;32m<ipython-input-220-45ad617d7e86>\u001b[0m in \u001b[0;36manneal\u001b[0;34m(self)\u001b[0m\n\u001b[1;32m    127\u001b[0m \u001b[0;34m\u001b[0m\u001b[0m\n\u001b[1;32m    128\u001b[0m             \u001b[0;32mfor\u001b[0m \u001b[0mi\u001b[0m \u001b[0;32min\u001b[0m \u001b[0mrange\u001b[0m\u001b[0;34m(\u001b[0m\u001b[0mlen\u001b[0m\u001b[0;34m(\u001b[0m\u001b[0mfi\u001b[0m\u001b[0;34m)\u001b[0m\u001b[0;34m)\u001b[0m\u001b[0;34m:\u001b[0m\u001b[0;34m\u001b[0m\u001b[0m\n\u001b[0;32m--> 129\u001b[0;31m                 \u001b[0mself\u001b[0m\u001b[0;34m.\u001b[0m\u001b[0m_copy\u001b[0m\u001b[0;34m(\u001b[0m\u001b[0mfi\u001b[0m\u001b[0;34m[\u001b[0m\u001b[0mi\u001b[0m\u001b[0;34m]\u001b[0m\u001b[0;34m,\u001b[0m \u001b[0mbi\u001b[0m\u001b[0;34m[\u001b[0m\u001b[0mi\u001b[0m\u001b[0;34m]\u001b[0m\u001b[0;34m)\u001b[0m\u001b[0;34m\u001b[0m\u001b[0m\n\u001b[0m\u001b[1;32m    130\u001b[0m \u001b[0;34m\u001b[0m\u001b[0m\n\u001b[1;32m    131\u001b[0m \u001b[0;34m\u001b[0m\u001b[0m\n",
      "\u001b[0;32m<ipython-input-220-45ad617d7e86>\u001b[0m in \u001b[0;36m_copy\u001b[0;34m(self, index_f, index_b)\u001b[0m\n\u001b[1;32m     96\u001b[0m             \u001b[0mcopy_len\u001b[0m \u001b[0;34m=\u001b[0m \u001b[0mmin\u001b[0m\u001b[0;34m(\u001b[0m\u001b[0mb_copy_part\u001b[0m\u001b[0;34m.\u001b[0m\u001b[0mshape\u001b[0m\u001b[0;34m[\u001b[0m\u001b[0;36m0\u001b[0m\u001b[0;34m]\u001b[0m\u001b[0;34m,\u001b[0m \u001b[0mself\u001b[0m\u001b[0;34m.\u001b[0m\u001b[0mmax_array_len\u001b[0m \u001b[0;34m+\u001b[0m \u001b[0;36m1\u001b[0m \u001b[0;34m-\u001b[0m \u001b[0mindex_f\u001b[0m\u001b[0;34m[\u001b[0m\u001b[0;36m1\u001b[0m\u001b[0;34m]\u001b[0m\u001b[0;34m)\u001b[0m\u001b[0;34m\u001b[0m\u001b[0m\n\u001b[1;32m     97\u001b[0m             \u001b[0mb_copy_part\u001b[0m \u001b[0;34m=\u001b[0m \u001b[0mb_copy_part\u001b[0m\u001b[0;34m[\u001b[0m\u001b[0;34m:\u001b[0m\u001b[0mcopy_len\u001b[0m\u001b[0;34m]\u001b[0m\u001b[0;34m\u001b[0m\u001b[0m\n\u001b[0;32m---> 98\u001b[0;31m             \u001b[0mself\u001b[0m\u001b[0;34m.\u001b[0m\u001b[0mf_population\u001b[0m\u001b[0;34m[\u001b[0m\u001b[0mindex_f\u001b[0m\u001b[0;34m[\u001b[0m\u001b[0;36m0\u001b[0m\u001b[0;34m]\u001b[0m\u001b[0;34m,\u001b[0m \u001b[0mindex_f\u001b[0m\u001b[0;34m[\u001b[0m\u001b[0;36m1\u001b[0m\u001b[0;34m]\u001b[0m \u001b[0;34m+\u001b[0m \u001b[0;36m1\u001b[0m \u001b[0;34m:\u001b[0m\u001b[0mindex_f\u001b[0m\u001b[0;34m[\u001b[0m\u001b[0;36m1\u001b[0m\u001b[0;34m]\u001b[0m \u001b[0;34m+\u001b[0m \u001b[0;36m1\u001b[0m \u001b[0;34m+\u001b[0m \u001b[0mcopy_len\u001b[0m\u001b[0;34m]\u001b[0m \u001b[0;34m=\u001b[0m \u001b[0mb_copy_part\u001b[0m\u001b[0;34m\u001b[0m\u001b[0m\n\u001b[0m\u001b[1;32m     99\u001b[0m \u001b[0;34m\u001b[0m\u001b[0m\n\u001b[1;32m    100\u001b[0m         \u001b[0;32mif\u001b[0m \u001b[0mindex_b\u001b[0m\u001b[0;34m[\u001b[0m\u001b[0;36m1\u001b[0m\u001b[0;34m]\u001b[0m \u001b[0;34m>\u001b[0m \u001b[0;36m0\u001b[0m \u001b[0;32mand\u001b[0m \u001b[0mself\u001b[0m\u001b[0;34m.\u001b[0m\u001b[0mb_population\u001b[0m\u001b[0;34m[\u001b[0m\u001b[0mindex_b\u001b[0m\u001b[0;34m[\u001b[0m\u001b[0;36m0\u001b[0m\u001b[0;34m]\u001b[0m\u001b[0;34m,\u001b[0m \u001b[0mindex_b\u001b[0m\u001b[0;34m[\u001b[0m\u001b[0;36m1\u001b[0m\u001b[0;34m]\u001b[0m \u001b[0;34m-\u001b[0m \u001b[0;36m1\u001b[0m\u001b[0;34m]\u001b[0m \u001b[0;34m==\u001b[0m \u001b[0;36m0\u001b[0m\u001b[0;34m:\u001b[0m\u001b[0;34m\u001b[0m\u001b[0m\n",
      "\u001b[0;31mKeyboardInterrupt\u001b[0m: "
     ]
    }
   ],
   "source": [
    "\n",
    "for i in tqdm_notebook(range(1000)):\n",
    "    pop = gen_initial_p(db, 40, 40)\n",
    "    \n",
    "    if len(pop) > 0:\n",
    "        pcr = PCR(pop, len(pop) * 100000, p = [0.1, 0.05, 0.85])\n",
    "        \n",
    "        before_grs.append(pcr.to_graph())\n",
    "        for i in range(20):\n",
    "            pcr.anneal()\n",
    "\n",
    "        after_grs.append(pcr.to_graph())"
   ]
  },
  {
   "cell_type": "code",
   "execution_count": 242,
   "metadata": {
    "collapsed": true
   },
   "outputs": [],
   "source": [
    "import pickle"
   ]
  },
  {
   "cell_type": "code",
   "execution_count": null,
   "metadata": {
    "collapsed": true
   },
   "outputs": [],
   "source": []
  },
  {
   "cell_type": "code",
   "execution_count": null,
   "metadata": {
    "collapsed": true
   },
   "outputs": [],
   "source": []
  },
  {
   "cell_type": "code",
   "execution_count": null,
   "metadata": {
    "collapsed": true
   },
   "outputs": [],
   "source": []
  },
  {
   "cell_type": "code",
   "execution_count": 238,
   "metadata": {
    "scrolled": false
   },
   "outputs": [
    {
     "data": {
      "image/png": "[encoded data removed]",
      "text/plain": [
       "<matplotlib.figure.Figure at 0x7f085c107cc0>"
      ]
     },
     "metadata": {},
     "output_type": "display_data"
    }
   ],
   "source": [
    "pu.plot_gr(after_grs[0], log = 1)\n"
   ]
  },
  {
   "cell_type": "code",
   "execution_count": 239,
   "metadata": {},
   "outputs": [
    {
     "data": {
      "text/plain": [
       "0.82252584307066412"
      ]
     },
     "execution_count": 239,
     "metadata": {},
     "output_type": "execute_result"
    }
   ],
   "source": [
    "calc_noise_ratio(before_grs[0], after_grs[0])"
   ]
  },
  {
   "cell_type": "code",
   "execution_count": null,
   "metadata": {
    "collapsed": true
   },
   "outputs": [],
   "source": []
  },
  {
   "cell_type": "code",
   "execution_count": null,
   "metadata": {
    "collapsed": true
   },
   "outputs": [],
   "source": []
  },
  {
   "cell_type": "code",
   "execution_count": null,
   "metadata": {
    "collapsed": true
   },
   "outputs": [],
   "source": []
  },
  {
   "cell_type": "code",
   "execution_count": 166,
   "metadata": {},
   "outputs": [
    {
     "data": {
      "text/plain": [
       "True"
      ]
     },
     "execution_count": 166,
     "metadata": {},
     "output_type": "execute_result"
    }
   ],
   "source": [
    "len(pcrs) == len(initial_pops)"
   ]
  },
  {
   "cell_type": "code",
   "execution_count": 167,
   "metadata": {
    "collapsed": true
   },
   "outputs": [],
   "source": [
    "before_grs = []\n",
    "after_grs = []"
   ]
  },
  {
   "cell_type": "code",
   "execution_count": 168,
   "metadata": {},
   "outputs": [
    {
     "data": {
      "application/vnd.jupyter.widget-view+json": {
       "model_id": "ef55e40b038d43ecbc7c37076df43123",
       "version_major": 2,
       "version_minor": 0
      },
      "text/plain": [
       "A Jupyter Widget"
      ]
     },
     "metadata": {},
     "output_type": "display_data"
    },
    {
     "name": "stdout",
     "output_type": "stream",
     "text": [
      "\n"
     ]
    },
    {
     "ename": "KeyError",
     "evalue": "20",
     "output_type": "error",
     "traceback": [
      "\u001b[0;31m---------------------------------------------------------------------------\u001b[0m",
      "\u001b[0;31mKeyError\u001b[0m                                  Traceback (most recent call last)",
      "\u001b[0;32m<ipython-input-168-6cedb8ad7352>\u001b[0m in \u001b[0;36m<module>\u001b[0;34m()\u001b[0m\n\u001b[1;32m      7\u001b[0m \u001b[0;34m\u001b[0m\u001b[0m\n\u001b[1;32m      8\u001b[0m     \u001b[0;32mfor\u001b[0m \u001b[0mkey\u001b[0m \u001b[0;32min\u001b[0m \u001b[0mpairs\u001b[0m\u001b[0;34m.\u001b[0m\u001b[0mkeys\u001b[0m\u001b[0;34m(\u001b[0m\u001b[0;34m)\u001b[0m\u001b[0;34m:\u001b[0m\u001b[0;34m\u001b[0m\u001b[0m\n\u001b[0;32m----> 9\u001b[0;31m         \u001b[0mnew_key\u001b[0m \u001b[0;34m=\u001b[0m \u001b[0;34m(\u001b[0m\u001b[0msp_to_n\u001b[0m\u001b[0;34m[\u001b[0m\u001b[0mkey\u001b[0m\u001b[0;34m[\u001b[0m\u001b[0;36m0\u001b[0m\u001b[0;34m]\u001b[0m\u001b[0;34m.\u001b[0m\u001b[0mastype\u001b[0m\u001b[0;34m(\u001b[0m\u001b[0mint\u001b[0m\u001b[0;34m)\u001b[0m\u001b[0;34m]\u001b[0m\u001b[0;34m,\u001b[0m\u001b[0msp_to_n\u001b[0m\u001b[0;34m[\u001b[0m\u001b[0mkey\u001b[0m\u001b[0;34m[\u001b[0m\u001b[0;36m1\u001b[0m\u001b[0;34m]\u001b[0m\u001b[0;34m.\u001b[0m\u001b[0mastype\u001b[0m\u001b[0;34m(\u001b[0m\u001b[0mint\u001b[0m\u001b[0;34m)\u001b[0m\u001b[0;34m]\u001b[0m\u001b[0;34m)\u001b[0m\u001b[0;34m\u001b[0m\u001b[0m\n\u001b[0m\u001b[1;32m     10\u001b[0m         \u001b[0mnew_pairs\u001b[0m\u001b[0;34m[\u001b[0m\u001b[0mnew_key\u001b[0m\u001b[0;34m]\u001b[0m \u001b[0;34m=\u001b[0m \u001b[0mpairs\u001b[0m\u001b[0;34m[\u001b[0m\u001b[0mkey\u001b[0m\u001b[0;34m]\u001b[0m\u001b[0;34m\u001b[0m\u001b[0m\n\u001b[1;32m     11\u001b[0m \u001b[0;34m\u001b[0m\u001b[0m\n",
      "\u001b[0;31mKeyError\u001b[0m: 20"
     ]
    }
   ],
   "source": [
    "for pcr, pop in tqdm_notebook(zip(pcrs, initial_pops)):\n",
    "    all_spacers = set([x for y in pop for x in y])\n",
    "    sp_to_n = dict(zip(all_spacers, np.arange(len(all_spacers)).astype(int)))\n",
    "    \n",
    "    pairs = pcr.to_pairs()\n",
    "    new_pairs = {}\n",
    "\n",
    "    for key in pairs.keys():\n",
    "        new_key = (sp_to_n[key[0].astype(int)],sp_to_n[key[1].astype(int)])\n",
    "        new_pairs[new_key] = pairs[key] \n",
    "        \n",
    "    initial_pairs = population_to_pairs(pop, sp_to_n)\n",
    "    \n",
    "    before_grs.append(to_graph(initial_pairs, len(all_spacers)))\n",
    "    after_grs.append(to_graph(new_pairs, len(all_spacers)))"
   ]
  },
  {
   "cell_type": "code",
   "execution_count": 173,
   "metadata": {
    "scrolled": true
   },
   "outputs": [
    {
     "data": {
      "image/png": "[encoded data removed]",
      "text/plain": [
       "<matplotlib.figure.Figure at 0x7fb23cb38358>"
      ]
     },
     "metadata": {},
     "output_type": "display_data"
    }
   ],
   "source": [
    "pu.plot_gr(after_grs[0], log = 1)"
   ]
  },
  {
   "cell_type": "code",
   "execution_count": null,
   "metadata": {
    "collapsed": true
   },
   "outputs": [],
   "source": []
  }
 ],
 "metadata": {
  "kernelspec": {
   "display_name": "Python 3",
   "language": "python",
   "name": "python3"
  },
  "language_info": {
   "codemirror_mode": {
    "name": "ipython",
    "version": 3
   },
   "file_extension": ".py",
   "mimetype": "text/x-python",
   "name": "python",
   "nbconvert_exporter": "python",
   "pygments_lexer": "ipython3",
   "version": "3.6.3"
  }
 },
 "nbformat": 4,
 "nbformat_minor": 2
}
