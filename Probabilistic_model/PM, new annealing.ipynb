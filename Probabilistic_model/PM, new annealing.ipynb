{
 "cells": [
  {
   "cell_type": "code",
   "execution_count": 1,
   "metadata": {},
   "outputs": [],
   "source": [
    "import numpy as np\n",
    "import matplotlib.pyplot as plt"
   ]
  },
  {
   "cell_type": "code",
   "execution_count": 155,
   "metadata": {},
   "outputs": [],
   "source": [
    "class PCR:\n",
    "    def __init__(self, population_as_list, n_primers):\n",
    "        self.max_array_len = max([len(x) for x in population_as_list])\n",
    "        \n",
    "        self.f_population = np.ones((len(population_as_list), self.max_array_len + 2)) * -1\n",
    "        \n",
    "        for i, array in enumerate(population_as_list):\n",
    "            self.f_population[i][1:1 + len(array)] = array  \n",
    "        self.b_population = np.copy(self.f_population)\n",
    "        \n",
    "        self.n_f_primes = n_primers\n",
    "        self.n_b_primers = n_primers\n",
    "        \n",
    "        self.n_spacers = len(set([x for y in population_as_list for x in y]))\n",
    "        \n",
    "        self.p = [1 / self.max_array_len, 0.1 / self.max_array_len, 1 - 1/ self.max_array_len - 0.1/self.max_array_len ]\n",
    "        \n",
    "    def _increase_populations(self, n_f, n_b):\n",
    "        self.f_population = np.vstack((self.f_population, np.zeros((n_f, self.max_array_len + 2))))\n",
    "        self.b_population = np.vstack((self.b_population, np.zeros((n_b, self.max_array_len + 2))))\n",
    "        \n",
    "    def _make_annealing_masks(self):\n",
    "        #print(self.b_population.size)\n",
    "        f_annealing_mask = np.random.choice([0,1,2], self.f_population.shape, p = self.p)#.reshape(self.f_population.shape)\n",
    "        b_annealing_mask = np.random.choice([0,1,2], self.b_population.shape, p = self.p)#.reshape(self.b_population.shape)\n",
    "        \n",
    "        f_annealing_mask[self.f_population == -1] = 2\n",
    "        b_annealing_mask[self.b_population == -1] = 2\n",
    "        return f_annealing_mask, b_annealing_mask, (f_annealing_mask == 0).sum(), (b_annealing_mask == 0).sum()\n",
    "    \n",
    "        \n",
    "    def _make_annealing_linkage(self, f_annealing_mask, b_annealing_mask):\n",
    "        f_indeces_0 = np.vstack(np.where(f_annealing_mask == 0)).T\n",
    "        nonzero_b = (self.b_population.sum(1) != 0).sum()\n",
    "        b_paired_0 = np.vstack((np.arange(nonzero_b,\n",
    "                                          nonzero_b + f_indeces_0.shape[0]),\n",
    "                                np.ones(f_indeces_0.shape[0]) * (self.max_array_len + 1))).T\n",
    "        \n",
    "        print(self.f_population.shape)\n",
    "        b_indeces_0 = np.vstack(np.where(b_annealing_mask == 0)).T\n",
    "        nonzero_f = (self.f_population.sum(1) != 0).sum()\n",
    "        f_paired_0 = np.vstack((np.arange(nonzero_f,\n",
    "                                          nonzero_f + b_indeces_0.shape[0]),\n",
    "                                np.zeros(b_indeces_0.shape[0]))).T\n",
    "        \n",
    "        \n",
    "        f_indeces_1 = np.vstack(np.where(f_annealing_mask == 1)).T\n",
    "        b_indeces_1 = np.vstack(np.where(b_annealing_mask == 1)).T\n",
    "        np.random.shuffle(f_indeces_1)\n",
    "        np.random.shuffle(b_indeces_1)\n",
    "        f_indeces_1 = f_indeces_1[:min(f_indeces_1.shape[0], b_indeces_1.shape[0])]\n",
    "        b_indeces_1 = b_indeces_1[:min(f_indeces_1.shape[0], b_indeces_1.shape[0])]\n",
    "        \n",
    "\n",
    "        return np.vstack((f_indeces_0, f_paired_0, f_indeces_1)).astype(int), \\\n",
    "                np.vstack((b_paired_0, b_indeces_0, b_indeces_1)).astype(int)\n",
    "\n",
    "    def _copy(self, index_f, index_b):\n",
    "        if index_f[1] self.max_array_len + 2 and index_f[1]\n",
    "        \n",
    "        f_copy_part = self.b_population[index_b[0], index_b[1] :]\n",
    "        b_copy_part = self.f_population[index_f[0], :index_f[1]]\n",
    "        \n",
    "        \n",
    "        \n",
    "        return f_copy_part, b_copy_part"
   ]
  },
  {
   "cell_type": "code",
   "execution_count": 156,
   "metadata": {},
   "outputs": [],
   "source": [
    "test_p = [[1,2,3], [2, 4, 5, 6]]"
   ]
  },
  {
   "cell_type": "code",
   "execution_count": 157,
   "metadata": {},
   "outputs": [],
   "source": [
    "pcr = PCR(test_p, 19)\n"
   ]
  },
  {
   "cell_type": "code",
   "execution_count": 158,
   "metadata": {},
   "outputs": [
    {
     "data": {
      "text/plain": [
       "array([[-1.,  1.,  2.,  3., -1., -1.],\n",
       "       [-1.,  2.,  4.,  5.,  6., -1.]])"
      ]
     },
     "execution_count": 158,
     "metadata": {},
     "output_type": "execute_result"
    }
   ],
   "source": [
    "pcr.f_population"
   ]
  },
  {
   "cell_type": "code",
   "execution_count": 159,
   "metadata": {},
   "outputs": [],
   "source": [
    "fm, bm, nf,nb = pcr._make_annealing_masks()\n",
    "pcr._increase_populations(nf, nb)"
   ]
  },
  {
   "cell_type": "code",
   "execution_count": 160,
   "metadata": {
    "scrolled": true
   },
   "outputs": [
    {
     "data": {
      "text/plain": [
       "array([[2, 2, 2, 0, 2, 2],\n",
       "       [2, 1, 0, 2, 2, 2]])"
      ]
     },
     "execution_count": 160,
     "metadata": {},
     "output_type": "execute_result"
    }
   ],
   "source": [
    "fm"
   ]
  },
  {
   "cell_type": "code",
   "execution_count": 161,
   "metadata": {},
   "outputs": [
    {
     "data": {
      "text/plain": [
       "array([[2, 2, 0, 2, 2, 2],\n",
       "       [2, 2, 2, 0, 0, 2]])"
      ]
     },
     "execution_count": 161,
     "metadata": {},
     "output_type": "execute_result"
    }
   ],
   "source": [
    "bm"
   ]
  },
  {
   "cell_type": "code",
   "execution_count": 162,
   "metadata": {},
   "outputs": [
    {
     "name": "stdout",
     "output_type": "stream",
     "text": [
      "(4, 6)\n"
     ]
    }
   ],
   "source": [
    "fi, bi = pcr._make_annealing_linkage(fm, bm)"
   ]
  },
  {
   "cell_type": "code",
   "execution_count": 163,
   "metadata": {},
   "outputs": [
    {
     "data": {
      "text/plain": [
       "array([[0, 3],\n",
       "       [1, 2],\n",
       "       [2, 0],\n",
       "       [3, 0],\n",
       "       [4, 0]])"
      ]
     },
     "execution_count": 163,
     "metadata": {},
     "output_type": "execute_result"
    }
   ],
   "source": [
    "fi"
   ]
  },
  {
   "cell_type": "code",
   "execution_count": 164,
   "metadata": {},
   "outputs": [
    {
     "data": {
      "text/plain": [
       "array([[2, 5],\n",
       "       [3, 5],\n",
       "       [0, 2],\n",
       "       [1, 3],\n",
       "       [1, 4]])"
      ]
     },
     "execution_count": 164,
     "metadata": {},
     "output_type": "execute_result"
    }
   ],
   "source": [
    "bi"
   ]
  },
  {
   "cell_type": "code",
   "execution_count": 124,
   "metadata": {},
   "outputs": [
    {
     "data": {
      "text/plain": [
       "array([[-1.,  1.,  2.,  3., -1., -1.],\n",
       "       [-1.,  2.,  4.,  5.,  6., -1.],\n",
       "       [ 0.,  0.,  0.,  0.,  0.,  0.]])"
      ]
     },
     "execution_count": 124,
     "metadata": {},
     "output_type": "execute_result"
    }
   ],
   "source": [
    "pcr.b_population"
   ]
  },
  {
   "cell_type": "code",
   "execution_count": 125,
   "metadata": {},
   "outputs": [
    {
     "data": {
      "text/plain": [
       "array([[-1.,  1.,  2.,  3., -1., -1.],\n",
       "       [-1.,  2.,  4.,  5.,  6., -1.],\n",
       "       [ 0.,  0.,  0.,  0.,  0.,  0.],\n",
       "       [ 0.,  0.,  0.,  0.,  0.,  0.],\n",
       "       [ 0.,  0.,  0.,  0.,  0.,  0.]])"
      ]
     },
     "execution_count": 125,
     "metadata": {},
     "output_type": "execute_result"
    }
   ],
   "source": [
    "pcr.f_population"
   ]
  },
  {
   "cell_type": "code",
   "execution_count": 165,
   "metadata": {},
   "outputs": [
    {
     "data": {
      "text/plain": [
       "(array([ 2.,  3., -1., -1.]), array([], dtype=float64))"
      ]
     },
     "execution_count": 165,
     "metadata": {},
     "output_type": "execute_result"
    }
   ],
   "source": [
    "pcr._copy(fi[2], bi[2])"
   ]
  },
  {
   "cell_type": "code",
   "execution_count": 67,
   "metadata": {},
   "outputs": [
    {
     "ename": "IndexError",
     "evalue": "index 2 is out of bounds for axis 0 with size 2",
     "output_type": "error",
     "traceback": [
      "\u001b[0;31m---------------------------------------------------------------------------\u001b[0m",
      "\u001b[0;31mIndexError\u001b[0m                                Traceback (most recent call last)",
      "\u001b[0;32m<ipython-input-67-cdd00a5af00e>\u001b[0m in \u001b[0;36m<module>\u001b[0;34m()\u001b[0m\n\u001b[0;32m----> 1\u001b[0;31m \u001b[0mpcr\u001b[0m\u001b[0;34m.\u001b[0m\u001b[0mb_population\u001b[0m\u001b[0;34m[\u001b[0m\u001b[0mbi\u001b[0m\u001b[0;34m[\u001b[0m\u001b[0;36m0\u001b[0m\u001b[0;34m]\u001b[0m\u001b[0;34m[\u001b[0m\u001b[0;36m0\u001b[0m\u001b[0;34m]\u001b[0m\u001b[0;34m,\u001b[0m \u001b[0mbi\u001b[0m\u001b[0;34m[\u001b[0m\u001b[0;36m0\u001b[0m\u001b[0;34m]\u001b[0m\u001b[0;34m[\u001b[0m\u001b[0;36m1\u001b[0m\u001b[0;34m]\u001b[0m \u001b[0;34m:\u001b[0m\u001b[0;34m]\u001b[0m\u001b[0;34m\u001b[0m\u001b[0m\n\u001b[0m",
      "\u001b[0;31mIndexError\u001b[0m: index 2 is out of bounds for axis 0 with size 2"
     ]
    }
   ],
   "source": [
    "pcr.b_population[bi[0][0], bi[0][1] :]"
   ]
  },
  {
   "cell_type": "code",
   "execution_count": 57,
   "metadata": {},
   "outputs": [
    {
     "data": {
      "text/plain": [
       "-1"
      ]
     },
     "execution_count": 57,
     "metadata": {},
     "output_type": "execute_result"
    }
   ],
   "source": [
    "bi[0][1]"
   ]
  },
  {
   "cell_type": "code",
   "execution_count": null,
   "metadata": {},
   "outputs": [],
   "source": []
  }
 ],
 "metadata": {
  "kernelspec": {
   "display_name": "Python 3",
   "language": "python",
   "name": "python3"
  },
  "language_info": {
   "codemirror_mode": {
    "name": "ipython",
    "version": 3
   },
   "file_extension": ".py",
   "mimetype": "text/x-python",
   "name": "python",
   "nbconvert_exporter": "python",
   "pygments_lexer": "ipython3",
   "version": "3.6.3"
  }
 },
 "nbformat": 4,
 "nbformat_minor": 2
}
