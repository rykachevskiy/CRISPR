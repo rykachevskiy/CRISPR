{
 "cells": [
  {
   "cell_type": "code",
   "execution_count": 2,
   "metadata": {},
   "outputs": [],
   "source": [
    "import numpy as np\n",
    "import matplotlib.pyplot as plt\n",
    "\n",
    "import pickle\n",
    "import sys\n",
    "\n",
    "from tqdm import tqdm_notebook\n",
    "\n",
    "from nltk import ngrams"
   ]
  },
  {
   "cell_type": "code",
   "execution_count": 3,
   "metadata": {},
   "outputs": [],
   "source": [
    "import itertools\n",
    "from itertools import tee\n",
    "\n",
    "import editdistance as ed"
   ]
  },
  {
   "cell_type": "code",
   "execution_count": 4,
   "metadata": {},
   "outputs": [],
   "source": [
    "def plot_gr(gr, start=0, end=-1, log = False, all_ticks = False,  s=10):\n",
    "    plt.figure(figsize=(s,s))\n",
    "    if end == -1:\n",
    "        end = gr.shape[0]\n",
    "    if log:\n",
    "        plt.imshow(np.log(gr[start:end,start:end] + 1))\n",
    "    else:\n",
    "        plt.imshow(gr[start:end,start:end])\n",
    "    plt.colorbar()\n",
    "    if all_ticks: \n",
    "        plt.xticks(np.arange(start,end))\n",
    "        plt.yticks(np.arange(start,end))\n",
    "    plt.show()"
   ]
  },
  {
   "cell_type": "code",
   "execution_count": 5,
   "metadata": {},
   "outputs": [],
   "source": [
    "def plot_group(*args, s = 7):\n",
    "    n = len(args) // 2\n",
    "    \n",
    "    plt.figure(figsize=(s,s))\n",
    "    f, a = plt.subplots(1, n,figsize=(s,s))\n",
    "    #f.set_figsize((s,s))\n",
    "    for i in range(n):\n",
    "        im = args[2*i]\n",
    "        if args[2*i + 1]:\n",
    "            im = np.log(im + 1)\n",
    "        a[i].imshow(im)\n",
    "\n",
    "    plt.show()"
   ]
  },
  {
   "cell_type": "code",
   "execution_count": null,
   "metadata": {},
   "outputs": [],
   "source": []
  },
  {
   "cell_type": "code",
   "execution_count": null,
   "metadata": {},
   "outputs": [],
   "source": []
  },
  {
   "cell_type": "code",
   "execution_count": 6,
   "metadata": {},
   "outputs": [],
   "source": [
    "# Check randint\n",
    "def generate_repeat(repeat_a, repeat_b):\n",
    "    transition_pos = np.random.randint(0, len(repeat_a) + 1)\n",
    "    return repeat_a[0:transition_pos] + repeat_b[transition_pos:]"
   ]
  },
  {
   "cell_type": "code",
   "execution_count": 7,
   "metadata": {},
   "outputs": [],
   "source": [
    "class RepeatsDescr:\n",
    "    def __init__(self, repeats):\n",
    "        self.n = len(repeats)\n",
    "        self.repeats = repeats\n",
    "        self.repeat_to_n = dict(zip(self.repeats, np.arange(len(repeats))))\n",
    "        self.n_to_repeat = dict(zip(np.arange(len(repeats)), self.repeats))\n",
    "        self.mat = self._create_complementory_matrix()\n",
    "\n",
    "    def add_repeat(self, repeat):\n",
    "        self.repeats.append(repeat)\n",
    "        self.repeat_to_n[repeat] = self.n\n",
    "        self.n_to_repeat[self.n] = repeat\n",
    "        self.n += 1\n",
    "        self._update_complementory_matrix()\n",
    "        \n",
    "    def _create_complementory_matrix(self):\n",
    "        mat = np.zeros((self.n, self.n))\n",
    "\n",
    "        for r1, r2 in itertools.product(self.repeats, self.repeats):\n",
    "            mat[self.repeat_to_n[r1]][self.repeat_to_n[r2]] = 1 - (ed.eval(r1,r2) / max(len(r1), len(r2)))\n",
    "        return mat\n",
    "    \n",
    "    def _update_complementory_matrix(self):\n",
    "        self.mat = np.pad(self.mat, ((0,1), (0,1)), mode = 'constant')\n",
    "        \n",
    "        for r in self.repeats:\n",
    "            val = 1 - (ed.eval(r,repeats[-1]) / max(len(r), len(repeats[-1])))\n",
    "            self.mat[self.repeat_to_n[r], self.repeat_to_n[repeats[-1]]] = val\n",
    "            self.mat[self.repeat_to_n[repeats[-1]], self.repeat_to_n[r]] = val"
   ]
  },
  {
   "cell_type": "code",
   "execution_count": 8,
   "metadata": {},
   "outputs": [],
   "source": [
    "repeats = ['aaaaaaaaaa',\n",
    "           'aaaaaaaaab',\n",
    "           'aaaaaaaabb']\n",
    "\n",
    "repeats_descr = RepeatsDescr(repeats)"
   ]
  },
  {
   "cell_type": "code",
   "execution_count": 9,
   "metadata": {},
   "outputs": [],
   "source": [
    "repeats_descr.add_repeat(\"aaaaaaabbb\")"
   ]
  },
  {
   "cell_type": "code",
   "execution_count": 594,
   "metadata": {},
   "outputs": [],
   "source": [
    "class Population:\n",
    "    def __init__(self,\n",
    "                 initial_population, \n",
    "                 primers_counts,\n",
    "                 max_len = 10):\n",
    "        self.max_len = max_len\n",
    "        self.max_size = (sum(primers_counts.values()) + len(initial_population))\n",
    "        \n",
    "        self.p = np.ones((self.max_size, self.max_len)).astype(int) * -1\n",
    "        \n",
    "        pos = 0\n",
    "        for arr in initial_population:\n",
    "            self.p[pos, (max_len - len(arr)) // 2: (max_len - len(arr)) // 2 + len(arr)] = arr\n",
    "            pos += 1\n",
    "        for k, v in primers_counts.items():\n",
    "            self.p[pos: pos + v, max_len // 2 - 1] = k\n",
    "            pos += v\n",
    "        \n",
    "        self.glue_mask = self.p[:, ::2].flatten() != -1\n",
    "        \n",
    "        if V == 'DEBUG' or V == 'DEBUG_1':\n",
    "            print(self.p, \"\\n\")   \n",
    "            \n",
    "    \n",
    "    def get_rep_pos_by_ind(self, ind):\n",
    "        return (ind * 2 // self.p.shape[1], ind * 2 % self.p.shape[1])\n",
    "    \n",
    "    \n",
    "    def get_rep_by_ind(self, ind):\n",
    "        return self.p[:,::2].flatten()[ind]\n",
    "\n",
    "    def _recalc_glue_mask(self):\n",
    "        self.glue_mask = self.p[:, ::2].flatten() != -1"
   ]
  },
  {
   "cell_type": "code",
   "execution_count": 566,
   "metadata": {},
   "outputs": [],
   "source": [
    "from copy import deepcopy"
   ]
  },
  {
   "cell_type": "code",
   "execution_count": 707,
   "metadata": {},
   "outputs": [],
   "source": [
    "class PCR:\n",
    "    def __init__(self, population, repeats_descr):\n",
    "        self.fp = population\n",
    "        self.bp = deepcopy(population)\n",
    "#         self.ni = population.p.shape[0]\n",
    "#         self.nj = population.p.shape[1]\n",
    "        \n",
    "        self.comp_mat = np.zeros((self.fp.glue_mask.shape[0], self.fp.glue_mask.shape[0]))\n",
    "        \n",
    "        for i in np.where(self.fp.glue_mask)[0]:\n",
    "            for j in np.where(self.bp.glue_mask)[0]:\n",
    "                self.comp_mat[i][j] = repeats_descr.mat[self.fp.get_rep_by_ind(i), self.fp.get_rep_by_ind(j)]\n",
    "                \n",
    "    def _annealing(self):\n",
    "        self.anneal_all = (np.random.random(size = self.comp_mat.shape) < self.comp_mat).astype(int)\n",
    "        self.anneal = np.zeros_like(self.comp_mat)\n",
    "        indexes = np.arange(self.anneal_all.shape[0])[self.anneal_all.sum(1) != 0]\n",
    "        #np.random.shuffle(indexes)\n",
    "        for i in indexes:\n",
    "            row = self.anneal_all[i]\n",
    "  \n",
    "            j = np.random.choice(np.arange(self.comp_mat.shape[0]), size = 1, p = row.astype(float) / row.sum())\n",
    "            \n",
    "            if np.random.random() < 0.5 * self.anneal_all[i, j]:\n",
    "                self.anneal[i, j] = 1\n",
    "                self.anneal[j, i] = 1\n",
    "            \n",
    "            self.anneal_all[i] = 0\n",
    "            self.anneal_all[:, i] = 0\n",
    "            self.anneal_all[j] = 0\n",
    "            self.anneal_all[:, j] = 0\n",
    "            \n",
    "            \n",
    "    def _amplify(self):\n",
    "        \n",
    "        for f, b in zip(np.where(self.anneal == 1)[0], np.where(self.anneal == 1)[1]):\n",
    "            fi, fj = self.fp.get_rep_pos_by_ind(f)\n",
    "            bi, bj = self.bp.get_rep_pos_by_ind(b)\n",
    "            print(f, b, '; ', fi, fj, '; ', bi, bj)\n",
    "            \n",
    "        self.glue_f_to_b(fi, fj, bi, bj)\n",
    "        self.glue_b_to_f(fi, fj, bi, bj)\n",
    "            \n",
    "            \n",
    "    def glue_f_to_b(self, fi, fj, bi, bj):\n",
    "        if self.fp.p[fi][fj + 1] == -1 and fj + 2 != self.fp.max_len:\n",
    "            copy_part = self.bp.p[bi][bj:][self.bp.p[bi][bj:] != -1][: self.fp.max_len - fi]\n",
    "            self.fp.p[fi][fj:fj + copy_part.shape[0]] = copy_part\n",
    "    \n",
    "    \n",
    "    def glue_b_to_f(self, fi, fj, bi, bj):\n",
    "        if bj > 0 and self.bp.p[bi][bj - 1] == -1:\n",
    "            copy_part = self.fp.p[fi][:fj][self.fp.p[fi][:fj] != -1][fj - bj - 1:fj]\n",
    "            self.bp.p[bi][bj - copy_part.shape[0]:bj] = copy_part\n",
    "            \n",
    "            \n",
    "    def print_glue_points(self):\n",
    "        for f, b in zip(np.where(self.anneal == 1)[0], np.where(self.anneal == 1)[1]):\n",
    "            fi, fj = self.fp.get_rep_pos_by_ind(f)\n",
    "            bi, bj = self.bp.get_rep_pos_by_ind(b)\n",
    "            print(f, b, '; ', fi, fj, '; ', bi, bj)\n",
    "        \n",
    "        "
   ]
  },
  {
   "cell_type": "code",
   "execution_count": null,
   "metadata": {},
   "outputs": [],
   "source": []
  },
  {
   "cell_type": "code",
   "execution_count": 708,
   "metadata": {},
   "outputs": [],
   "source": [
    "V = 'DEBUG_2'"
   ]
  },
  {
   "cell_type": "code",
   "execution_count": 709,
   "metadata": {},
   "outputs": [],
   "source": [
    "p_list = [[0,10, 0,], [0, 20, 0,]]\n",
    "primers_num = {0:2}\n",
    "p = Population(p_list, primers_num, max_len=8)"
   ]
  },
  {
   "cell_type": "code",
   "execution_count": 710,
   "metadata": {
    "scrolled": true
   },
   "outputs": [
    {
     "data": {
      "text/plain": [
       "array([[-1, -1,  0, 10,  0, -1, -1, -1],\n",
       "       [-1, -1,  0, 20,  0, -1, -1, -1],\n",
       "       [-1, -1, -1,  0, -1, -1, -1, -1],\n",
       "       [-1, -1, -1,  0, -1, -1, -1, -1]])"
      ]
     },
     "execution_count": 710,
     "metadata": {},
     "output_type": "execute_result"
    }
   ],
   "source": [
    "p.p"
   ]
  },
  {
   "cell_type": "code",
   "execution_count": 711,
   "metadata": {},
   "outputs": [],
   "source": [
    "pcr = PCR(p, repeats_descr)"
   ]
  },
  {
   "cell_type": "code",
   "execution_count": 724,
   "metadata": {
    "scrolled": true
   },
   "outputs": [
    {
     "data": {
      "text/plain": [
       "array([[-1, -1,  0, 10,  0, -1, -1, -1],\n",
       "       [-1, -1,  0, 20,  0, -1, -1, -1],\n",
       "       [-1, -1, -1,  0, 10,  0, -1, -1],\n",
       "       [-1, -1, -1,  0, -1, -1, -1, -1]])"
      ]
     },
     "execution_count": 724,
     "metadata": {},
     "output_type": "execute_result"
    }
   ],
   "source": [
    "pcr.fp.p"
   ]
  },
  {
   "cell_type": "code",
   "execution_count": 728,
   "metadata": {
    "scrolled": true
   },
   "outputs": [
    {
     "data": {
      "text/plain": [
       "array([[-1, -1,  0, 10,  0, -1, -1, -1],\n",
       "       [-1, -1,  0, 20,  0, -1, -1, -1],\n",
       "       [-1,  0, 20,  0, -1, -1, -1, -1],\n",
       "       [-1, -1, -1,  0, -1, -1, -1, -1]])"
      ]
     },
     "execution_count": 728,
     "metadata": {},
     "output_type": "execute_result"
    }
   ],
   "source": [
    "pcr.bp.p"
   ]
  },
  {
   "cell_type": "code",
   "execution_count": 726,
   "metadata": {},
   "outputs": [],
   "source": [
    "pcr.glue_f_to_b(2,3,0,2)"
   ]
  },
  {
   "cell_type": "code",
   "execution_count": 727,
   "metadata": {},
   "outputs": [],
   "source": [
    "pcr.glue_b_to_f(1,4, 2,1)"
   ]
  },
  {
   "cell_type": "code",
   "execution_count": 688,
   "metadata": {},
   "outputs": [
    {
     "ename": "NameError",
     "evalue": "name 'bj' is not defined",
     "output_type": "error",
     "traceback": [
      "\u001b[0;31m---------------------------------------------------------------------------\u001b[0m",
      "\u001b[0;31mNameError\u001b[0m                                 Traceback (most recent call last)",
      "\u001b[0;32m<ipython-input-688-bb49a4d5e5de>\u001b[0m in \u001b[0;36m<module>\u001b[0;34m()\u001b[0m\n\u001b[0;32m----> 1\u001b[0;31m \u001b[0;32mif\u001b[0m \u001b[0mbj\u001b[0m \u001b[0;34m>\u001b[0m \u001b[0;36m0\u001b[0m \u001b[0;32mand\u001b[0m \u001b[0mself\u001b[0m\u001b[0;34m.\u001b[0m\u001b[0mbp\u001b[0m\u001b[0;34m.\u001b[0m\u001b[0mp\u001b[0m\u001b[0;34m[\u001b[0m\u001b[0mbi\u001b[0m\u001b[0;34m]\u001b[0m\u001b[0;34m[\u001b[0m\u001b[0mbj\u001b[0m \u001b[0;34m-\u001b[0m \u001b[0;36m1\u001b[0m\u001b[0;34m]\u001b[0m \u001b[0;34m==\u001b[0m \u001b[0;34m-\u001b[0m\u001b[0;36m1\u001b[0m\u001b[0;34m:\u001b[0m\u001b[0;34m\u001b[0m\u001b[0m\n\u001b[0m\u001b[1;32m      2\u001b[0m     \u001b[0mcopy_part\u001b[0m \u001b[0;34m=\u001b[0m \u001b[0mself\u001b[0m\u001b[0;34m.\u001b[0m\u001b[0mfp\u001b[0m\u001b[0;34m.\u001b[0m\u001b[0mp\u001b[0m\u001b[0;34m[\u001b[0m\u001b[0mfi\u001b[0m\u001b[0;34m]\u001b[0m\u001b[0;34m[\u001b[0m\u001b[0;34m:\u001b[0m\u001b[0mfj\u001b[0m\u001b[0;34m]\u001b[0m\u001b[0;34m[\u001b[0m\u001b[0mself\u001b[0m\u001b[0;34m.\u001b[0m\u001b[0mfp\u001b[0m\u001b[0;34m.\u001b[0m\u001b[0mp\u001b[0m\u001b[0;34m[\u001b[0m\u001b[0mfi\u001b[0m\u001b[0;34m]\u001b[0m\u001b[0;34m[\u001b[0m\u001b[0;34m:\u001b[0m\u001b[0mfj\u001b[0m\u001b[0;34m]\u001b[0m \u001b[0;34m!=\u001b[0m \u001b[0;34m-\u001b[0m\u001b[0;36m1\u001b[0m\u001b[0;34m]\u001b[0m\u001b[0;34m[\u001b[0m\u001b[0mfj\u001b[0m \u001b[0;34m-\u001b[0m \u001b[0mbj\u001b[0m\u001b[0;34m:\u001b[0m\u001b[0mfj\u001b[0m\u001b[0;34m]\u001b[0m\u001b[0;34m\u001b[0m\u001b[0m\n\u001b[1;32m      3\u001b[0m     \u001b[0mself\u001b[0m\u001b[0;34m.\u001b[0m\u001b[0mfp\u001b[0m\u001b[0;34m.\u001b[0m\u001b[0mp\u001b[0m\u001b[0;34m[\u001b[0m\u001b[0mbi\u001b[0m\u001b[0;34m]\u001b[0m\u001b[0;34m[\u001b[0m\u001b[0mbj\u001b[0m \u001b[0;34m-\u001b[0m \u001b[0mcopy_part\u001b[0m\u001b[0;34m.\u001b[0m\u001b[0mshape\u001b[0m\u001b[0;34m[\u001b[0m\u001b[0;36m0\u001b[0m\u001b[0;34m]\u001b[0m\u001b[0;34m:\u001b[0m\u001b[0mbj\u001b[0m\u001b[0;34m]\u001b[0m \u001b[0;34m=\u001b[0m \u001b[0mcopy_part\u001b[0m\u001b[0;34m\u001b[0m\u001b[0m\n",
      "\u001b[0;31mNameError\u001b[0m: name 'bj' is not defined"
     ]
    }
   ],
   "source": [
    "if bj > 0 and self.bp.p[bi][bj - 1] == -1:\n",
    "    copy_part = self.fp.p[fi][:fj][self.fp.p[fi][:fj] != -1][fj - bj:fj]\n",
    "    self.fp.p[bi][bj - copy_part.shape[0]:bj] = copy_part"
   ]
  },
  {
   "cell_type": "code",
   "execution_count": null,
   "metadata": {},
   "outputs": [],
   "source": []
  },
  {
   "cell_type": "code",
   "execution_count": 641,
   "metadata": {
    "scrolled": true
   },
   "outputs": [
    {
     "name": "stdout",
     "output_type": "stream",
     "text": [
      "1 2 ;  0 2 ;  0 4\n",
      "2 1 ;  0 4 ;  0 2\n",
      "5 6 ;  1 2 ;  1 4\n",
      "6 5 ;  1 4 ;  1 2\n"
     ]
    }
   ],
   "source": [
    "pcr.print_glue_points()"
   ]
  },
  {
   "cell_type": "code",
   "execution_count": 612,
   "metadata": {},
   "outputs": [
    {
     "name": "stdout",
     "output_type": "stream",
     "text": [
      "1 17 ;  0 2 ;  3 4\n",
      "3 22 ;  0 6 ;  4 4\n",
      "6 6 ;  1 2 ;  1 2\n",
      "7 8 ;  1 4 ;  1 6\n",
      "8 7 ;  1 6 ;  1 4\n",
      "17 1 ;  3 4 ;  0 2\n",
      "22 3 ;  4 4 ;  0 6\n",
      "27 27 ;  5 4 ;  5 4\n"
     ]
    }
   ],
   "source": [
    "pcr._amplify()"
   ]
  },
  {
   "cell_type": "code",
   "execution_count": 640,
   "metadata": {},
   "outputs": [
    {
     "name": "stderr",
     "output_type": "stream",
     "text": [
      "/home/anton/anaconda3/lib/python3.6/site-packages/ipykernel_launcher.py:22: RuntimeWarning: invalid value encountered in true_divide\n",
      "/home/anton/anaconda3/lib/python3.6/site-packages/ipykernel_launcher.py:22: RuntimeWarning: invalid value encountered in less\n"
     ]
    },
    {
     "data": {
      "image/png": "[encoded data removed]",
      "text/plain": [
       "<matplotlib.figure.Figure at 0x7f9e042cbc18>"
      ]
     },
     "metadata": {},
     "output_type": "display_data"
    }
   ],
   "source": [
    "pcr._annealing()\n",
    "plot_gr(pcr.anneal, s  = 8, all_ticks=1)"
   ]
  },
  {
   "cell_type": "code",
   "execution_count": null,
   "metadata": {},
   "outputs": [],
   "source": []
  },
  {
   "cell_type": "code",
   "execution_count": 423,
   "metadata": {
    "scrolled": true
   },
   "outputs": [
    {
     "name": "stdout",
     "output_type": "stream",
     "text": [
      "0 (0, 1)\n",
      "1 (0, 3)\n",
      "2 (0, 5)\n",
      "3 (1, 1)\n",
      "4 (1, 3)\n",
      "5 (1, 5)\n",
      "5 (1, 5)\n",
      "6 (2, 1)\n",
      "8 (2, 5)\n",
      "8 (2, 5)\n",
      "8 (2, 5)\n",
      "8 (2, 5)\n",
      "12 (4, 1)\n",
      "12 (4, 1)\n",
      "12 (4, 1)\n",
      "16 (5, 3)\n",
      "16 (5, 3)\n",
      "20 (6, 5)\n",
      "20 (6, 5)\n"
     ]
    }
   ],
   "source": [
    "pcr._amplify()"
   ]
  },
  {
   "cell_type": "code",
   "execution_count": 412,
   "metadata": {},
   "outputs": [
    {
     "name": "stdout",
     "output_type": "stream",
     "text": [
      "0\n",
      "1\n",
      "2\n",
      "2\n",
      "3\n",
      "4\n",
      "4\n",
      "5\n",
      "5\n",
      "6\n",
      "6\n",
      "8\n",
      "12\n",
      "12\n",
      "16\n",
      "20\n",
      "20\n",
      "20\n"
     ]
    }
   ],
   "source": [
    "for a, b in zip(np.where(pcr.anneal == 1)[0], np.where(pcr.anneal == 1)[1]):\n",
    "    print(a)"
   ]
  },
  {
   "cell_type": "code",
   "execution_count": 397,
   "metadata": {},
   "outputs": [
    {
     "data": {
      "text/plain": [
       "array([ 0,  1,  2,  3,  4,  5,  5,  5,  6,  8,  8,  8, 12, 12, 12, 16, 20])"
      ]
     },
     "execution_count": 397,
     "metadata": {},
     "output_type": "execute_result"
    }
   ],
   "source": [
    "np.where(pcr.anneal == 1)[0]"
   ]
  },
  {
   "cell_type": "code",
   "execution_count": 354,
   "metadata": {},
   "outputs": [
    {
     "data": {
      "image/png": "[encoded data removed]",
      "text/plain": [
       "<matplotlib.figure.Figure at 0x7f9e042866a0>"
      ]
     },
     "metadata": {},
     "output_type": "display_data"
    }
   ],
   "source": [
    "plot_gr(pcr.comp_mat)"
   ]
  },
  {
   "cell_type": "code",
   "execution_count": 101,
   "metadata": {},
   "outputs": [
    {
     "data": {
      "text/plain": [
       "array([[ 0.,  0.,  0.,  0.,  1.,  1.,  2.,  0., -1.],\n",
       "       [ 0.,  2.,  3.,  0.,  4.,  1., -1., -1., -1.],\n",
       "       [ 1.,  0., -1., -1., -1., -1., -1., -1., -1.],\n",
       "       [ 1.,  1., -1., -1., -1., -1., -1., -1., -1.],\n",
       "       [ 1.,  2., -1., -1., -1., -1., -1., -1., -1.],\n",
       "       [ 1.,  3., -1., -1., -1., -1., -1., -1., -1.]])"
      ]
     },
     "execution_count": 101,
     "metadata": {},
     "output_type": "execute_result"
    }
   ],
   "source": [
    "p.bp"
   ]
  },
  {
   "cell_type": "code",
   "execution_count": 106,
   "metadata": {},
   "outputs": [
    {
     "data": {
      "text/plain": [
       "array([[ 0.,  0.,  0.,  1.,  1.,  2.,  0., -1.],\n",
       "       [ 2.,  3.,  0.,  4.,  1., -1., -1., -1.],\n",
       "       [ 0., -1., -1., -1., -1., -1., -1., -1.],\n",
       "       [ 1., -1., -1., -1., -1., -1., -1., -1.],\n",
       "       [ 2., -1., -1., -1., -1., -1., -1., -1.],\n",
       "       [ 3., -1., -1., -1., -1., -1., -1., -1.]])"
      ]
     },
     "execution_count": 106,
     "metadata": {},
     "output_type": "execute_result"
    }
   ],
   "source": [
    "p.fp[:,1:]"
   ]
  },
  {
   "cell_type": "code",
   "execution_count": 92,
   "metadata": {},
   "outputs": [],
   "source": [
    "complementaries = np.zeros((24,24))"
   ]
  },
  {
   "cell_type": "code",
   "execution_count": 104,
   "metadata": {},
   "outputs": [],
   "source": [
    "sh = p.bp[:,1:].shape"
   ]
  },
  {
   "cell_type": "code",
   "execution_count": 107,
   "metadata": {},
   "outputs": [
    {
     "data": {
      "text/plain": [
       "array([[ 0.,  0.,  1.,  0.],\n",
       "       [ 2.,  0.,  1., -1.],\n",
       "       [ 0., -1., -1., -1.],\n",
       "       [ 1., -1., -1., -1.],\n",
       "       [ 2., -1., -1., -1.],\n",
       "       [ 3., -1., -1., -1.]])"
      ]
     },
     "execution_count": 107,
     "metadata": {},
     "output_type": "execute_result"
    }
   ],
   "source": [
    "p.bp[:,1::2]"
   ]
  },
  {
   "cell_type": "code",
   "execution_count": null,
   "metadata": {},
   "outputs": [],
   "source": [
    "complementary_b_to_f = np.zeros"
   ]
  },
  {
   "cell_type": "code",
   "execution_count": null,
   "metadata": {},
   "outputs": [],
   "source": []
  },
  {
   "cell_type": "code",
   "execution_count": null,
   "metadata": {},
   "outputs": [],
   "source": []
  },
  {
   "cell_type": "code",
   "execution_count": null,
   "metadata": {},
   "outputs": [],
   "source": []
  },
  {
   "cell_type": "code",
   "execution_count": null,
   "metadata": {},
   "outputs": [],
   "source": []
  },
  {
   "cell_type": "code",
   "execution_count": 316,
   "metadata": {},
   "outputs": [],
   "source": [
    "m = repeats_descr.mat"
   ]
  },
  {
   "cell_type": "code",
   "execution_count": 312,
   "metadata": {},
   "outputs": [
    {
     "name": "stdout",
     "output_type": "stream",
     "text": [
      "[[0.  0.  0.  0. ]\n",
      " [1.  0.9 0.8 0.7]\n",
      " [1.  0.9 0.8 0.7]\n",
      " [0.9 1.  0.9 0.8]\n",
      " [1.  0.9 0.8 0.7]\n",
      " [0.8 0.9 1.  0.9]\n",
      " [1.  0.9 0.8 0.7]\n",
      " [0.9 1.  0.9 0.8]\n",
      " [0.9 1.  0.9 0.8]]\n"
     ]
    }
   ],
   "source": [
    "p.amplify(repeats_descr.mat, {})"
   ]
  },
  {
   "cell_type": "code",
   "execution_count": 315,
   "metadata": {
    "scrolled": false
   },
   "outputs": [
    {
     "name": "stdout",
     "output_type": "stream",
     "text": [
      "-1\n",
      "-1\n",
      "0\n",
      "0\n",
      "0\n",
      "1\n",
      "1\n",
      "2\n",
      "0\n",
      "-1\n",
      "2\n",
      "3\n",
      "0\n",
      "4\n",
      "1\n",
      "-1\n",
      "1\n",
      "5\n",
      "2\n",
      "-1\n"
     ]
    }
   ],
   "source": [
    "for x in p.p.flatten():\n",
    "    print(x)"
   ]
  },
  {
   "cell_type": "code",
   "execution_count": null,
   "metadata": {},
   "outputs": [],
   "source": []
  },
  {
   "cell_type": "code",
   "execution_count": 317,
   "metadata": {},
   "outputs": [
    {
     "data": {
      "text/plain": [
       "array([[1. , 0.9, 0.8, 0.7],\n",
       "       [0.9, 1. , 0.9, 0.8],\n",
       "       [0.8, 0.9, 1. , 0.9],\n",
       "       [0.7, 0.8, 0.9, 1. ]])"
      ]
     },
     "execution_count": 317,
     "metadata": {},
     "output_type": "execute_result"
    }
   ],
   "source": [
    "m"
   ]
  },
  {
   "cell_type": "code",
   "execution_count": null,
   "metadata": {},
   "outputs": [],
   "source": [
    "np.random.choice(np.arange(12).reshape((3,4)), size = 4, p = "
   ]
  },
  {
   "cell_type": "code",
   "execution_count": null,
   "metadata": {},
   "outputs": [],
   "source": []
  },
  {
   "cell_type": "code",
   "execution_count": null,
   "metadata": {},
   "outputs": [],
   "source": []
  },
  {
   "cell_type": "code",
   "execution_count": null,
   "metadata": {},
   "outputs": [],
   "source": []
  },
  {
   "cell_type": "code",
   "execution_count": null,
   "metadata": {},
   "outputs": [],
   "source": []
  },
  {
   "cell_type": "code",
   "execution_count": 267,
   "metadata": {},
   "outputs": [],
   "source": [
    "def single_amplify(to_amplify, population=None, v = False):\n",
    "    if population is None:\n",
    "        population = [x for x in to_amplify]\n",
    "    \n",
    "    new = []\n",
    "    for chain in to_amplify:\n",
    "        start = np.random.randint(0, len(chain) - 1)\n",
    "        stop = False\n",
    "        end = np.random.randint(start + 1, len(chain))\n",
    "\n",
    "        new_chain = []\n",
    "        pointer = start\n",
    "\n",
    "        while not stop:\n",
    "            switch = np.random.rand() < SWITCH_PROB\n",
    "\n",
    "            if v:\n",
    "                print(chain, new_chain, switch)\n",
    "            if switch:\n",
    "                chain = population[np.random.randint(0, len(population))]\n",
    "                pointer = np.random.randint(1, len(chain))\n",
    "\n",
    "            if np.random.rand() < STOP_PROB:\n",
    "                stop = True\n",
    "\n",
    "            if len(new_chain) >= end - start:\n",
    "                stop = True\n",
    "\n",
    "            if pointer < len(chain):\n",
    "                new_chain.append(chain[pointer])\n",
    "            else:\n",
    "                stop = True\n",
    "\n",
    "            pointer += 1 \n",
    "\n",
    "        if len(new_chain) > 2:\n",
    "            new.append(new_chain)\n",
    "    \n",
    "    return [x[::-1] for x in new]"
   ]
  },
  {
   "cell_type": "code",
   "execution_count": null,
   "metadata": {},
   "outputs": [],
   "source": []
  },
  {
   "cell_type": "code",
   "execution_count": 126,
   "metadata": {},
   "outputs": [
    {
     "data": {
      "image/png": "[encoded data removed]",
      "text/plain": [
       "<matplotlib.figure.Figure at 0x7f3d32450550>"
      ]
     },
     "metadata": {},
     "output_type": "display_data"
    }
   ],
   "source": [
    "plot_gr(np.load(\"../../data/graphs/ES3_22.npy\")[:35,:35], log = 1)"
   ]
  },
  {
   "cell_type": "code",
   "execution_count": 127,
   "metadata": {},
   "outputs": [
    {
     "data": {
      "image/png": "[encoded data removed]",
      "text/plain": [
       "<matplotlib.figure.Figure at 0x7f3d3017e278>"
      ]
     },
     "metadata": {},
     "output_type": "display_data"
    }
   ],
   "source": [
    "plot_gr(np.load(\"../../data/graphs/ES4_22.npy\")[:35,:35], log = 1)"
   ]
  },
  {
   "cell_type": "code",
   "execution_count": null,
   "metadata": {},
   "outputs": [],
   "source": []
  }
 ],
 "metadata": {
  "kernelspec": {
   "display_name": "Python 3",
   "language": "python",
   "name": "python3"
  },
  "language_info": {
   "codemirror_mode": {
    "name": "ipython",
    "version": 3
   },
   "file_extension": ".py",
   "mimetype": "text/x-python",
   "name": "python",
   "nbconvert_exporter": "python",
   "pygments_lexer": "ipython3",
   "version": "3.6.3"
  }
 },
 "nbformat": 4,
 "nbformat_minor": 2
}
