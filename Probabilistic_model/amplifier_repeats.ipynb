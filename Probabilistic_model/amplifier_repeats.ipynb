{
 "cells": [
  {
   "cell_type": "code",
   "execution_count": 6,
   "metadata": {},
   "outputs": [],
   "source": [
    "import numpy as np\n",
    "import matplotlib.pyplot as plt\n",
    "\n",
    "import pickle\n",
    "import sys\n",
    "\n",
    "from tqdm import tqdm_notebook\n",
    "\n",
    "from nltk import ngrams"
   ]
  },
  {
   "cell_type": "code",
   "execution_count": 85,
   "metadata": {},
   "outputs": [],
   "source": [
    "import itertools\n",
    "import editdistance as ed"
   ]
  },
  {
   "cell_type": "code",
   "execution_count": 7,
   "metadata": {},
   "outputs": [],
   "source": [
    "def plot_gr(gr, start=0, end=-1, log = False, all_ticks = False,  s=10):\n",
    "    plt.figure(figsize=(s,s))\n",
    "    if end == -1:\n",
    "        end = gr.shape[0]\n",
    "    if log:\n",
    "        plt.imshow(np.log(gr[start:end,start:end] + 1))\n",
    "    else:\n",
    "        plt.imshow(gr[start:end,start:end])\n",
    "    plt.colorbar()\n",
    "    if all_ticks: \n",
    "        plt.xticks(np.arange(start,end))\n",
    "        plt.yticks(np.arange(start,end))\n",
    "    plt.show()"
   ]
  },
  {
   "cell_type": "code",
   "execution_count": 8,
   "metadata": {},
   "outputs": [],
   "source": [
    "def plot_group(*args, s = 7):\n",
    "    n = len(args) // 2\n",
    "    \n",
    "    plt.figure(figsize=(s,s))\n",
    "    f, a = plt.subplots(1, n,figsize=(s,s))\n",
    "    #f.set_figsize((s,s))\n",
    "    for i in range(n):\n",
    "        im = args[2*i]\n",
    "        if args[2*i + 1]:\n",
    "            im = np.log(im + 1)\n",
    "        a[i].imshow(im)\n",
    "\n",
    "    plt.show()"
   ]
  },
  {
   "cell_type": "code",
   "execution_count": null,
   "metadata": {},
   "outputs": [],
   "source": []
  },
  {
   "cell_type": "code",
   "execution_count": null,
   "metadata": {},
   "outputs": [],
   "source": []
  },
  {
   "cell_type": "code",
   "execution_count": 63,
   "metadata": {},
   "outputs": [],
   "source": [
    "# Check randint\n",
    "def generate_repeat(repeat_a, repeat_b):\n",
    "    transition_pos = np.random.randint(0, len(repeat_a) + 1)\n",
    "    return repeat_a[0:transition_pos] + repeat_b[transition_pos:]"
   ]
  },
  {
   "cell_type": "code",
   "execution_count": 120,
   "metadata": {},
   "outputs": [],
   "source": [
    "class RepeatsDescr:\n",
    "    def __init__(self, repeats):\n",
    "        self.n = len(repeats)\n",
    "        self.repeats = repeats\n",
    "        self.repeat_to_n = dict(zip(self.repeats, np.arange(len(repeats))))\n",
    "        self.n_to_repeat = dict(zip(np.arange(len(repeats)), self.repeats))\n",
    "        self.mat = self._create_complementory_matrix()\n",
    "\n",
    "    def add_repeat(self, repeat):\n",
    "        self.repeats.append(repeat)\n",
    "        self.repeat_to_n[repeat] = self.n\n",
    "        self.n_to_repeat[self.n] = repeat\n",
    "        self.n += 1\n",
    "        self._update_complementory_matrix()\n",
    "        \n",
    "    def _create_complementory_matrix(self):\n",
    "        mat = np.zeros((self.n, self.n))\n",
    "\n",
    "        for r1, r2 in itertools.product(self.repeats, self.repeats):\n",
    "            mat[self.repeat_to_n[r1]][self.repeat_to_n[r2]] = 1 - (ed.eval(r1,r2) / max(len(r1), len(r2)))\n",
    "        return mat\n",
    "    \n",
    "    def _update_complementory_matrix(self):\n",
    "        self.mat = np.pad(self.mat, ((0,1), (0,1)), mode = 'constant')\n",
    "        \n",
    "        for r in self.repeats:\n",
    "            val = 1 - (ed.eval(r,repeats[-1]) / max(len(r), len(repeats[-1])))\n",
    "            self.mat[self.repeat_to_n[r], self.repeat_to_n[repeats[-1]]] = val\n",
    "            self.mat[self.repeat_to_n[repeats[-1]], self.repeat_to_n[r]] = val"
   ]
  },
  {
   "cell_type": "code",
   "execution_count": 121,
   "metadata": {},
   "outputs": [],
   "source": [
    "repeats = ['aaaaaaaaaa',\n",
    "           'aaaaaaaaab',\n",
    "           'aaaaaaaabb']\n",
    "\n",
    "repeats_descr = RepeatsDescr(repeats)"
   ]
  },
  {
   "cell_type": "code",
   "execution_count": 123,
   "metadata": {},
   "outputs": [],
   "source": [
    "repeats_descr.add_repeat(\"aaaaaaabbb\")"
   ]
  },
  {
   "cell_type": "code",
   "execution_count": null,
   "metadata": {},
   "outputs": [],
   "source": []
  },
  {
   "cell_type": "code",
   "execution_count": 9,
   "metadata": {},
   "outputs": [],
   "source": [
    "def single_amplify(to_amplify, population=None, v = False):\n",
    "    if population is None:\n",
    "        population = [x for x in to_amplify]\n",
    "    \n",
    "    new = []\n",
    "    for chain in to_amplify:\n",
    "        start = np.random.randint(0, len(chain) - 1)\n",
    "        stop = False\n",
    "        end = np.random.randint(start + 1, len(chain))\n",
    "\n",
    "        new_chain = []\n",
    "        pointer = start\n",
    "\n",
    "        while not stop:\n",
    "            switch = np.random.rand() < SWITCH_PROB\n",
    "\n",
    "            if v:\n",
    "                print(chain, new_chain, switch)\n",
    "            if switch:\n",
    "                chain = population[np.random.randint(0, len(population))]\n",
    "                pointer = np.random.randint(1, len(chain))\n",
    "\n",
    "            if np.random.rand() < STOP_PROB:\n",
    "                stop = True\n",
    "\n",
    "            if len(new_chain) >= end - start:\n",
    "                stop = True\n",
    "\n",
    "            if pointer < len(chain):\n",
    "                new_chain.append(chain[pointer])\n",
    "            else:\n",
    "                stop = True\n",
    "\n",
    "            pointer += 1 \n",
    "\n",
    "        if len(new_chain) > 2:\n",
    "            new.append(new_chain)\n",
    "    \n",
    "    return [x[::-1] for x in new]"
   ]
  },
  {
   "cell_type": "code",
   "execution_count": null,
   "metadata": {},
   "outputs": [],
   "source": []
  }
 ],
 "metadata": {
  "kernelspec": {
   "display_name": "Python 3",
   "language": "python",
   "name": "python3"
  },
  "language_info": {
   "codemirror_mode": {
    "name": "ipython",
    "version": 3
   },
   "file_extension": ".py",
   "mimetype": "text/x-python",
   "name": "python",
   "nbconvert_exporter": "python",
   "pygments_lexer": "ipython3",
   "version": "3.6.3"
  }
 },
 "nbformat": 4,
 "nbformat_minor": 2
}
