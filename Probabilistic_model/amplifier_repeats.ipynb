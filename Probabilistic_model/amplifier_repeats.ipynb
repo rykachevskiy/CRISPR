{
 "cells": [
  {
   "cell_type": "code",
   "execution_count": 6,
   "metadata": {},
   "outputs": [],
   "source": [
    "import numpy as np\n",
    "import matplotlib.pyplot as plt\n",
    "\n",
    "import pickle\n",
    "import sys\n",
    "\n",
    "from tqdm import tqdm_notebook\n",
    "\n",
    "from nltk import ngrams"
   ]
  },
  {
   "cell_type": "code",
   "execution_count": 150,
   "metadata": {},
   "outputs": [],
   "source": [
    "import itertools\n",
    "from itertools import tee\n",
    "\n",
    "import editdistance as ed"
   ]
  },
  {
   "cell_type": "code",
   "execution_count": 7,
   "metadata": {},
   "outputs": [],
   "source": [
    "def plot_gr(gr, start=0, end=-1, log = False, all_ticks = False,  s=10):\n",
    "    plt.figure(figsize=(s,s))\n",
    "    if end == -1:\n",
    "        end = gr.shape[0]\n",
    "    if log:\n",
    "        plt.imshow(np.log(gr[start:end,start:end] + 1))\n",
    "    else:\n",
    "        plt.imshow(gr[start:end,start:end])\n",
    "    plt.colorbar()\n",
    "    if all_ticks: \n",
    "        plt.xticks(np.arange(start,end))\n",
    "        plt.yticks(np.arange(start,end))\n",
    "    plt.show()"
   ]
  },
  {
   "cell_type": "code",
   "execution_count": 8,
   "metadata": {},
   "outputs": [],
   "source": [
    "def plot_group(*args, s = 7):\n",
    "    n = len(args) // 2\n",
    "    \n",
    "    plt.figure(figsize=(s,s))\n",
    "    f, a = plt.subplots(1, n,figsize=(s,s))\n",
    "    #f.set_figsize((s,s))\n",
    "    for i in range(n):\n",
    "        im = args[2*i]\n",
    "        if args[2*i + 1]:\n",
    "            im = np.log(im + 1)\n",
    "        a[i].imshow(im)\n",
    "\n",
    "    plt.show()"
   ]
  },
  {
   "cell_type": "code",
   "execution_count": null,
   "metadata": {},
   "outputs": [],
   "source": []
  },
  {
   "cell_type": "code",
   "execution_count": null,
   "metadata": {},
   "outputs": [],
   "source": []
  },
  {
   "cell_type": "code",
   "execution_count": 63,
   "metadata": {},
   "outputs": [],
   "source": [
    "# Check randint\n",
    "def generate_repeat(repeat_a, repeat_b):\n",
    "    transition_pos = np.random.randint(0, len(repeat_a) + 1)\n",
    "    return repeat_a[0:transition_pos] + repeat_b[transition_pos:]"
   ]
  },
  {
   "cell_type": "code",
   "execution_count": 120,
   "metadata": {},
   "outputs": [],
   "source": [
    "class RepeatsDescr:\n",
    "    def __init__(self, repeats):\n",
    "        self.n = len(repeats)\n",
    "        self.repeats = repeats\n",
    "        self.repeat_to_n = dict(zip(self.repeats, np.arange(len(repeats))))\n",
    "        self.n_to_repeat = dict(zip(np.arange(len(repeats)), self.repeats))\n",
    "        self.mat = self._create_complementory_matrix()\n",
    "\n",
    "    def add_repeat(self, repeat):\n",
    "        self.repeats.append(repeat)\n",
    "        self.repeat_to_n[repeat] = self.n\n",
    "        self.n_to_repeat[self.n] = repeat\n",
    "        self.n += 1\n",
    "        self._update_complementory_matrix()\n",
    "        \n",
    "    def _create_complementory_matrix(self):\n",
    "        mat = np.zeros((self.n, self.n))\n",
    "\n",
    "        for r1, r2 in itertools.product(self.repeats, self.repeats):\n",
    "            mat[self.repeat_to_n[r1]][self.repeat_to_n[r2]] = 1 - (ed.eval(r1,r2) / max(len(r1), len(r2)))\n",
    "        return mat\n",
    "    \n",
    "    def _update_complementory_matrix(self):\n",
    "        self.mat = np.pad(self.mat, ((0,1), (0,1)), mode = 'constant')\n",
    "        \n",
    "        for r in self.repeats:\n",
    "            val = 1 - (ed.eval(r,repeats[-1]) / max(len(r), len(repeats[-1])))\n",
    "            self.mat[self.repeat_to_n[r], self.repeat_to_n[repeats[-1]]] = val\n",
    "            self.mat[self.repeat_to_n[repeats[-1]], self.repeat_to_n[r]] = val"
   ]
  },
  {
   "cell_type": "code",
   "execution_count": 121,
   "metadata": {},
   "outputs": [],
   "source": [
    "repeats = ['aaaaaaaaaa',\n",
    "           'aaaaaaaaab',\n",
    "           'aaaaaaaabb']\n",
    "\n",
    "repeats_descr = RepeatsDescr(repeats)"
   ]
  },
  {
   "cell_type": "code",
   "execution_count": 123,
   "metadata": {},
   "outputs": [],
   "source": [
    "repeats_descr.add_repeat(\"aaaaaaabbb\")"
   ]
  },
  {
   "cell_type": "code",
   "execution_count": 201,
   "metadata": {},
   "outputs": [],
   "source": [
    "class Population:\n",
    "    def __init__(self, init_population):\n",
    "        self.curr_cassettes = len(init_population)\n",
    "        total_len = sum([len(x) // 2 for x in init_population])\n",
    "        self.p = np.zeros((total_len + len(init_population) + 1, 2)) # len() stays for separators\n",
    "        self.p[0] = -1\n",
    "        self.last_cassette_end = 0\n",
    "        \n",
    "        for cassette in init_population:\n",
    "            self._add_cassette(cassette)\n",
    "            if V == 'DEBUG':\n",
    "                print(self.p, \"\\n\")\n",
    "        \n",
    "    def _add_cassette(self, cassette):\n",
    "        #last_cassette_end = np.where(self.p == -1)[0][-1]\n",
    "        cassette = cassette + [-1]\n",
    "        \n",
    "        if len(cassette) % 2 == 1:\n",
    "            cassette = cassette + [-1]\n",
    "        \n",
    "        if len(cassette) // 2 + 1  + self.last_cassette_end > self.p.shape[0]:\n",
    "            self.p = np.pad(self.p, ((0, self.p.shape[0]), (0,0)), mode = 'constant')\n",
    "        \n",
    "        for i, (r, sp) in enumerate(zip(cassette[::2], cassette[1::2])):\n",
    "            self.p[i + (last_cassette_end + 1), 0] = r\n",
    "            self.p[i + (last_cassette_end + 1), 1] = sp\n",
    "\n",
    "        self.curr_cassettes += 1\n",
    "        self.last_cassette_end = np.where(self.p == -1)[0][-1]\n",
    "        \n",
    "    def add_cassettes(self, cassettes):\n",
    "        for c in cassettes:\n",
    "            self._add_cassette(c)\n",
    "            \n",
    "    def amplify(self, spacers_complementary_matrix, spacers_pool, direction = 1):\n",
    "        last_cassette_end = np.where(self.p == -1)[0][-1]\n",
    "        \n",
    "        #p_comp_mat = np.zeros((self.las_cassette_end, spacers_complementary_matrix.shape[0]))\n",
    "        p_comp_mat = spacers_complementary_matrix[self.p[:last_cassette_end, :], :]\n",
    "        p_comp_mat[self.p[:last_cassette_end] == -1, :] = 0 \n",
    "        \n",
    "        \n",
    "    \n",
    "         "
   ]
  },
  {
   "cell_type": "code",
   "execution_count": 202,
   "metadata": {},
   "outputs": [],
   "source": [
    "V = 'DEBUG'"
   ]
  },
  {
   "cell_type": "code",
   "execution_count": 218,
   "metadata": {},
   "outputs": [
    {
     "data": {
      "text/plain": [
       "array([[2., 2., 1., 2.],\n",
       "       [2., 2., 1., 2.],\n",
       "       [2., 2., 1., 2.]])"
      ]
     },
     "execution_count": 218,
     "metadata": {},
     "output_type": "execute_result"
    }
   ],
   "source": [
    "(np.ones((3,3)) * range(3))[:, np.array([-1,2,1,2])]"
   ]
  },
  {
   "cell_type": "code",
   "execution_count": 214,
   "metadata": {},
   "outputs": [
    {
     "data": {
      "text/plain": [
       "array([1, 2, 1, 2])"
      ]
     },
     "execution_count": 214,
     "metadata": {},
     "output_type": "execute_result"
    }
   ],
   "source": [
    "np.array([1,2,1,2])"
   ]
  },
  {
   "cell_type": "code",
   "execution_count": 206,
   "metadata": {},
   "outputs": [],
   "source": [
    "p_list = [[x for x in range(3)], [x for x in range(4, 8)], [10]]"
   ]
  },
  {
   "cell_type": "code",
   "execution_count": 207,
   "metadata": {},
   "outputs": [
    {
     "data": {
      "text/plain": [
       "[[0, 1, 2], [4, 5, 6, 7], [10]]"
      ]
     },
     "execution_count": 207,
     "metadata": {},
     "output_type": "execute_result"
    }
   ],
   "source": [
    "p_list"
   ]
  },
  {
   "cell_type": "code",
   "execution_count": 208,
   "metadata": {},
   "outputs": [
    {
     "name": "stdout",
     "output_type": "stream",
     "text": [
      "[[-1. -1.]\n",
      " [ 0.  1.]\n",
      " [ 2. -1.]\n",
      " [ 0.  0.]\n",
      " [ 0.  0.]\n",
      " [ 0.  0.]\n",
      " [ 0.  0.]] \n",
      "\n",
      "[[-1. -1.]\n",
      " [ 0.  1.]\n",
      " [ 2. -1.]\n",
      " [ 4.  5.]\n",
      " [ 6.  7.]\n",
      " [-1. -1.]\n",
      " [ 0.  0.]] \n",
      "\n",
      "[[-1. -1.]\n",
      " [ 0.  1.]\n",
      " [ 2. -1.]\n",
      " [ 4.  5.]\n",
      " [ 6.  7.]\n",
      " [-1. -1.]\n",
      " [10. -1.]] \n",
      "\n"
     ]
    }
   ],
   "source": [
    "p = Population(p_list)"
   ]
  },
  {
   "cell_type": "code",
   "execution_count": 200,
   "metadata": {},
   "outputs": [
    {
     "data": {
      "text/plain": [
       "array([[-1., -1.],\n",
       "       [ 0.,  1.],\n",
       "       [ 2., -1.],\n",
       "       [ 4.,  5.],\n",
       "       [ 6.,  7.],\n",
       "       [-1., -1.],\n",
       "       [ 0.,  0.],\n",
       "       [ 0.,  0.],\n",
       "       [ 0.,  0.],\n",
       "       [ 0.,  0.],\n",
       "       [ 0.,  0.],\n",
       "       [ 0.,  0.]])"
      ]
     },
     "execution_count": 200,
     "metadata": {},
     "output_type": "execute_result"
    }
   ],
   "source": [
    "p.p"
   ]
  },
  {
   "cell_type": "code",
   "execution_count": 136,
   "metadata": {},
   "outputs": [],
   "source": [
    "p = np.ones((4, 2))\n",
    "p[2, 0] = -1"
   ]
  },
  {
   "cell_type": "code",
   "execution_count": 146,
   "metadata": {
    "scrolled": false
   },
   "outputs": [
    {
     "data": {
      "text/plain": [
       "array([[ 1.,  1.],\n",
       "       [ 1.,  1.],\n",
       "       [-1.,  1.],\n",
       "       [ 1.,  1.],\n",
       "       [ 0.,  0.],\n",
       "       [ 0.,  0.],\n",
       "       [ 0.,  0.],\n",
       "       [ 0.,  0.]])"
      ]
     },
     "execution_count": 146,
     "metadata": {},
     "output_type": "execute_result"
    }
   ],
   "source": [
    "np.pad(p, ((0, p.shape[0]), (0,0)), mode = 'constant')"
   ]
  },
  {
   "cell_type": "code",
   "execution_count": 154,
   "metadata": {},
   "outputs": [],
   "source": [
    "test_list = range(5)"
   ]
  },
  {
   "cell_type": "code",
   "execution_count": 155,
   "metadata": {},
   "outputs": [
    {
     "name": "stdout",
     "output_type": "stream",
     "text": [
      "0 1\n",
      "2 3\n"
     ]
    }
   ],
   "source": [
    "for a, b in zip(test_list[::2], test_list[1::2]):\n",
    "    print(a,b)"
   ]
  },
  {
   "cell_type": "code",
   "execution_count": null,
   "metadata": {},
   "outputs": [],
   "source": []
  },
  {
   "cell_type": "code",
   "execution_count": 142,
   "metadata": {},
   "outputs": [
    {
     "data": {
      "text/plain": [
       "2"
      ]
     },
     "execution_count": 142,
     "metadata": {},
     "output_type": "execute_result"
    }
   ],
   "source": [
    "np.where(p == -1)[0][-1]"
   ]
  },
  {
   "cell_type": "code",
   "execution_count": null,
   "metadata": {},
   "outputs": [],
   "source": []
  },
  {
   "cell_type": "code",
   "execution_count": 9,
   "metadata": {},
   "outputs": [],
   "source": [
    "def single_amplify(to_amplify, population=None, v = False):\n",
    "    if population is None:\n",
    "        population = [x for x in to_amplify]\n",
    "    \n",
    "    new = []\n",
    "    for chain in to_amplify:\n",
    "        start = np.random.randint(0, len(chain) - 1)\n",
    "        stop = False\n",
    "        end = np.random.randint(start + 1, len(chain))\n",
    "\n",
    "        new_chain = []\n",
    "        pointer = start\n",
    "\n",
    "        while not stop:\n",
    "            switch = np.random.rand() < SWITCH_PROB\n",
    "\n",
    "            if v:\n",
    "                print(chain, new_chain, switch)\n",
    "            if switch:\n",
    "                chain = population[np.random.randint(0, len(population))]\n",
    "                pointer = np.random.randint(1, len(chain))\n",
    "\n",
    "            if np.random.rand() < STOP_PROB:\n",
    "                stop = True\n",
    "\n",
    "            if len(new_chain) >= end - start:\n",
    "                stop = True\n",
    "\n",
    "            if pointer < len(chain):\n",
    "                new_chain.append(chain[pointer])\n",
    "            else:\n",
    "                stop = True\n",
    "\n",
    "            pointer += 1 \n",
    "\n",
    "        if len(new_chain) > 2:\n",
    "            new.append(new_chain)\n",
    "    \n",
    "    return [x[::-1] for x in new]"
   ]
  },
  {
   "cell_type": "code",
   "execution_count": null,
   "metadata": {},
   "outputs": [],
   "source": []
  },
  {
   "cell_type": "code",
   "execution_count": 126,
   "metadata": {},
   "outputs": [
    {
     "data": {
      "image/png": "[encoded data removed]",
      "text/plain": [
       "<matplotlib.figure.Figure at 0x7f3d32450550>"
      ]
     },
     "metadata": {},
     "output_type": "display_data"
    }
   ],
   "source": [
    "plot_gr(np.load(\"../../data/graphs/ES3_22.npy\")[:35,:35], log = 1)"
   ]
  },
  {
   "cell_type": "code",
   "execution_count": 127,
   "metadata": {},
   "outputs": [
    {
     "data": {
      "image/png": "[encoded data removed]",
      "text/plain": [
       "<matplotlib.figure.Figure at 0x7f3d3017e278>"
      ]
     },
     "metadata": {},
     "output_type": "display_data"
    }
   ],
   "source": [
    "plot_gr(np.load(\"../../data/graphs/ES4_22.npy\")[:35,:35], log = 1)"
   ]
  },
  {
   "cell_type": "code",
   "execution_count": null,
   "metadata": {},
   "outputs": [],
   "source": []
  }
 ],
 "metadata": {
  "kernelspec": {
   "display_name": "Python 3",
   "language": "python",
   "name": "python3"
  },
  "language_info": {
   "codemirror_mode": {
    "name": "ipython",
    "version": 3
   },
   "file_extension": ".py",
   "mimetype": "text/x-python",
   "name": "python",
   "nbconvert_exporter": "python",
   "pygments_lexer": "ipython3",
   "version": "3.6.3"
  }
 },
 "nbformat": 4,
 "nbformat_minor": 2
}
