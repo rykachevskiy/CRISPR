{
 "cells": [
  {
   "cell_type": "code",
   "execution_count": 1,
   "metadata": {},
   "outputs": [],
   "source": [
    "import numpy as np\n",
    "import matplotlib.pyplot as plt\n",
    "\n",
    "import pickle\n",
    "import sys\n",
    "\n",
    "from tqdm import tqdm_notebook\n",
    "\n",
    "from nltk import ngrams"
   ]
  },
  {
   "cell_type": "code",
   "execution_count": 2,
   "metadata": {},
   "outputs": [],
   "source": [
    "import itertools\n",
    "from itertools import tee\n",
    "\n",
    "import editdistance as ed"
   ]
  },
  {
   "cell_type": "code",
   "execution_count": 3,
   "metadata": {},
   "outputs": [],
   "source": [
    "def plot_gr(gr, start=0, end=-1, log = False, all_ticks = False,  s=10):\n",
    "    plt.figure(figsize=(s,s))\n",
    "    if end == -1:\n",
    "        end = gr.shape[0]\n",
    "    if log:\n",
    "        plt.imshow(np.log(gr[start:end,start:end] + 1))\n",
    "    else:\n",
    "        plt.imshow(gr[start:end,start:end])\n",
    "    plt.colorbar()\n",
    "    if all_ticks: \n",
    "        plt.xticks(np.arange(start,end))\n",
    "        plt.yticks(np.arange(start,end))\n",
    "    plt.show()"
   ]
  },
  {
   "cell_type": "code",
   "execution_count": 4,
   "metadata": {},
   "outputs": [],
   "source": [
    "def plot_group(*args, s = 7):\n",
    "    n = len(args) // 2\n",
    "    \n",
    "    plt.figure(figsize=(s,s))\n",
    "    f, a = plt.subplots(1, n,figsize=(s,s))\n",
    "    #f.set_figsize((s,s))\n",
    "    for i in range(n):\n",
    "        im = args[2*i]\n",
    "        if args[2*i + 1]:\n",
    "            im = np.log(im + 1)\n",
    "        a[i].imshow(im)\n",
    "\n",
    "    plt.show()"
   ]
  },
  {
   "cell_type": "code",
   "execution_count": null,
   "metadata": {},
   "outputs": [],
   "source": []
  },
  {
   "cell_type": "code",
   "execution_count": null,
   "metadata": {},
   "outputs": [],
   "source": []
  },
  {
   "cell_type": "code",
   "execution_count": 5,
   "metadata": {},
   "outputs": [],
   "source": [
    "# Check randint\n",
    "def generate_repeat(repeat_a, repeat_b):\n",
    "    transition_pos = np.random.randint(0, len(repeat_a) + 1)\n",
    "    return repeat_a[0:transition_pos] + repeat_b[transition_pos:]"
   ]
  },
  {
   "cell_type": "code",
   "execution_count": 6,
   "metadata": {},
   "outputs": [],
   "source": [
    "class RepeatsDescr:\n",
    "    def __init__(self, repeats):\n",
    "        self.n = len(repeats)\n",
    "        self.repeats = repeats\n",
    "        self.repeat_to_n = dict(zip(self.repeats, np.arange(len(repeats))))\n",
    "        self.n_to_repeat = dict(zip(np.arange(len(repeats)), self.repeats))\n",
    "        self.mat = self._create_complementory_matrix()\n",
    "\n",
    "    def add_repeat(self, repeat):\n",
    "        self.repeats.append(repeat)\n",
    "        self.repeat_to_n[repeat] = self.n\n",
    "        self.n_to_repeat[self.n] = repeat\n",
    "        self.n += 1\n",
    "        self._update_complementory_matrix()\n",
    "        \n",
    "    def _create_complementory_matrix(self):\n",
    "        mat = np.zeros((self.n, self.n))\n",
    "\n",
    "        for r1, r2 in itertools.product(self.repeats, self.repeats):\n",
    "            mat[self.repeat_to_n[r1]][self.repeat_to_n[r2]] = 1 - (ed.eval(r1,r2) / max(len(r1), len(r2)))\n",
    "        return mat\n",
    "    \n",
    "    def _update_complementory_matrix(self):\n",
    "        self.mat = np.pad(self.mat, ((0,1), (0,1)), mode = 'constant')\n",
    "        \n",
    "        for r in self.repeats:\n",
    "            val = 1 - (ed.eval(r,repeats[-1]) / max(len(r), len(repeats[-1])))\n",
    "            self.mat[self.repeat_to_n[r], self.repeat_to_n[repeats[-1]]] = val\n",
    "            self.mat[self.repeat_to_n[repeats[-1]], self.repeat_to_n[r]] = val"
   ]
  },
  {
   "cell_type": "code",
   "execution_count": 7,
   "metadata": {},
   "outputs": [],
   "source": [
    "repeats = ['aaaaaaaaaa',\n",
    "           'aaaaaaaaab',\n",
    "           'aaaaaaaabb']\n",
    "\n",
    "repeats_descr = RepeatsDescr(repeats)"
   ]
  },
  {
   "cell_type": "code",
   "execution_count": 8,
   "metadata": {},
   "outputs": [],
   "source": [
    "repeats_descr.add_repeat(\"aaaaaaabbb\")"
   ]
  },
  {
   "cell_type": "code",
   "execution_count": 5,
   "metadata": {},
   "outputs": [],
   "source": [
    "class Population:\n",
    "    def _from_ip(\n",
    "                 initial_population, \n",
    "                 primers_counts,\n",
    "                 max_len = 10):\n",
    "        max_len = max_len\n",
    "        max_size = (sum(primers_counts.values()) + len(initial_population))\n",
    "        \n",
    "        p = np.ones((max_size, max_len)).astype(int) * -1\n",
    "        \n",
    "        pos = 0\n",
    "        for arr in initial_population:\n",
    "            j_pos = (max_len - len(arr)) // 2 + ((max_len - len(arr)) // 2) % 2\n",
    "            p[pos, j_pos: j_pos + len(arr)] = arr\n",
    "            pos += 1\n",
    "        for k, v in primers_counts.items():\n",
    "            j_pos = max_len  // 2 - (max_len // 2) % 2\n",
    "            p[pos: pos + v, j_pos ] = k\n",
    "            pos += v\n",
    "        \n",
    "        return Population(p)\n",
    "    \n",
    "    def __init__(self, p):\n",
    "        self.p = p\n",
    "        self.max_len = p.shape[1]\n",
    "        self.max_size = p.shape[0]\n",
    "        self._recalc_glue_mask()\n",
    "    \n",
    "    def __getitem__(self, key):\n",
    "        return Population(self.p[key])\n",
    "    \n",
    "    def get_rep_pos_by_ind(self, ind):\n",
    "        return (ind * 2 // self.p.shape[1], ind * 2 % self.p.shape[1])\n",
    "    \n",
    "    def get_rep_by_ind(self, ind):\n",
    "        return self.p[:,::2].flatten()[ind]\n",
    "\n",
    "    def _recalc_glue_mask(self):\n",
    "        self.glue_mask = self.p[:, ::2].flatten() >= 0 "
   ]
  },
  {
   "cell_type": "code",
   "execution_count": 6,
   "metadata": {},
   "outputs": [],
   "source": [
    "from copy import deepcopy"
   ]
  },
  {
   "cell_type": "code",
   "execution_count": null,
   "metadata": {},
   "outputs": [],
   "source": []
  },
  {
   "cell_type": "code",
   "execution_count": null,
   "metadata": {},
   "outputs": [],
   "source": []
  },
  {
   "cell_type": "code",
   "execution_count": 30,
   "metadata": {},
   "outputs": [],
   "source": [
    "V = 'DEBUG_2'"
   ]
  },
  {
   "cell_type": "code",
   "execution_count": 112,
   "metadata": {},
   "outputs": [],
   "source": [
    "p_list = [[-2, -2, 0,0, 0,1, 0, -2, -2], [-2, -2, 0,1, 0,5,0, -2, -2]]# + [[-2, -2, 0, -2, -2]] * 10\n",
    "primers_num = {3:2}\n",
    "p = Population._from_ip(p_list, primers_num, max_len=16)"
   ]
  },
  {
   "cell_type": "code",
   "execution_count": 37,
   "metadata": {},
   "outputs": [],
   "source": [
    "p_list = [[-2, -2, 0,0, 0,1, 0,2, 0,3, 0,4, 0, -2, -2], [-2, -2, 0,1, 0,5, 0,6,0, -2, -2], [-2, -2, 0,1, 0,5, 0,6,0, -2, -2]]\n",
    "primers_num = {0:100}\n",
    "p = Population._from_ip(p_list, primers_num, max_len=16)"
   ]
  },
  {
   "cell_type": "code",
   "execution_count": 113,
   "metadata": {
    "scrolled": true
   },
   "outputs": [],
   "source": [
    "fp = deepcopy(p)\n",
    "bp = deepcopy(p)"
   ]
  },
  {
   "cell_type": "code",
   "execution_count": 114,
   "metadata": {},
   "outputs": [],
   "source": [
    "pcr = fast_PCR(fp, bp, repeats_descr)"
   ]
  },
  {
   "cell_type": "code",
   "execution_count": 115,
   "metadata": {},
   "outputs": [
    {
     "data": {
      "application/vnd.jupyter.widget-view+json": {
       "model_id": "eb9d8c6007d747bf99137b2e7f2da9f5",
       "version_major": 2,
       "version_minor": 0
      },
      "text/plain": [
       "A Jupyter Widget"
      ]
     },
     "metadata": {},
     "output_type": "display_data"
    },
    {
     "name": "stdout",
     "output_type": "stream",
     "text": [
      "CPU times: user 41.9 ms, sys: 4.03 ms, total: 45.9 ms\n",
      "Wall time: 39.4 ms\n"
     ]
    }
   ],
   "source": [
    "%%time\n",
    "for i in tqdm_notebook(range(5)):\n",
    "    pcr.split_cylce()"
   ]
  },
  {
   "cell_type": "code",
   "execution_count": 116,
   "metadata": {},
   "outputs": [
    {
     "data": {
      "text/plain": [
       "array([[-1, -1, -1, -1, -2, -2,  0,  0,  0,  1,  0, -2, -2, -1, -1, -1],\n",
       "       [-1, -1, -1, -1, -1, -1, -1, -1,  0,  1,  0,  5,  0, -2, -2, -1],\n",
       "       [-1, -1, -1, -1, -2, -2,  0,  1,  0,  5,  0, -2, -2, -1, -1, -1],\n",
       "       [-1, -1, -1, -1, -1, -1, -1, -1,  0,  1,  0, -2, -2, -1, -1, -1]])"
      ]
     },
     "execution_count": 116,
     "metadata": {},
     "output_type": "execute_result"
    }
   ],
   "source": [
    "pcr.fp.p"
   ]
  },
  {
   "cell_type": "code",
   "execution_count": 117,
   "metadata": {},
   "outputs": [
    {
     "data": {
      "text/plain": [
       "array([[-1, -1, -1, -1, -2, -2,  0,  0,  0,  1,  0, -2, -2, -1, -1, -1],\n",
       "       [-1, -1, -1, -1, -2, -2,  0,  0,  0, -1, -1, -1, -1, -1, -1, -1],\n",
       "       [-1, -1, -1, -1, -1, -1, -1, -2,  0, -1, -1, -1, -1, -1, -1, -1],\n",
       "       [-1, -1, -1, -1, -2, -2,  0,  1,  0,  5,  0, -2, -2, -1, -1, -1]])"
      ]
     },
     "execution_count": 117,
     "metadata": {},
     "output_type": "execute_result"
    }
   ],
   "source": [
    "pcr.bp.p"
   ]
  },
  {
   "cell_type": "code",
   "execution_count": 118,
   "metadata": {
    "scrolled": true
   },
   "outputs": [
    {
     "data": {
      "image/png": "[encoded data removed]",
      "text/plain": [
       "<matplotlib.figure.Figure at 0x7f12a8713470>"
      ]
     },
     "metadata": {},
     "output_type": "display_data"
    }
   ],
   "source": [
    "plot_gr(pcr.to_graph(7), s = 3, log = 0)"
   ]
  },
  {
   "cell_type": "code",
   "execution_count": null,
   "metadata": {},
   "outputs": [],
   "source": []
  },
  {
   "cell_type": "code",
   "execution_count": 920,
   "metadata": {
    "scrolled": true
   },
   "outputs": [
    {
     "data": {
      "image/png": "[encoded data removed]",
      "text/plain": [
       "<matplotlib.figure.Figure at 0x7f9e03a6a978>"
      ]
     },
     "metadata": {},
     "output_type": "display_data"
    }
   ],
   "source": [
    "plot_gr(pcr.to_graph(7), s = 3, log = 1)"
   ]
  },
  {
   "cell_type": "code",
   "execution_count": 910,
   "metadata": {},
   "outputs": [
    {
     "data": {
      "text/plain": [
       "[[0, 0, 0, 1, 0, 2, 0, 3, 0, 4, 0], [0, 1, 0, 5, 0, 6, 0]]"
      ]
     },
     "execution_count": 910,
     "metadata": {},
     "output_type": "execute_result"
    }
   ],
   "source": [
    "p_list"
   ]
  },
  {
   "cell_type": "code",
   "execution_count": 762,
   "metadata": {},
   "outputs": [],
   "source": [
    "pcr.glue_f_to_b(2,3,0,2)"
   ]
  },
  {
   "cell_type": "code",
   "execution_count": 763,
   "metadata": {},
   "outputs": [],
   "source": [
    "pcr.glue_b_to_f(1,4, 2,1)"
   ]
  },
  {
   "cell_type": "code",
   "execution_count": 688,
   "metadata": {},
   "outputs": [
    {
     "ename": "NameError",
     "evalue": "name 'bj' is not defined",
     "output_type": "error",
     "traceback": [
      "\u001b[0;31m---------------------------------------------------------------------------\u001b[0m",
      "\u001b[0;31mNameError\u001b[0m                                 Traceback (most recent call last)",
      "\u001b[0;32m<ipython-input-688-bb49a4d5e5de>\u001b[0m in \u001b[0;36m<module>\u001b[0;34m()\u001b[0m\n\u001b[0;32m----> 1\u001b[0;31m \u001b[0;32mif\u001b[0m \u001b[0mbj\u001b[0m \u001b[0;34m>\u001b[0m \u001b[0;36m0\u001b[0m \u001b[0;32mand\u001b[0m \u001b[0mself\u001b[0m\u001b[0;34m.\u001b[0m\u001b[0mbp\u001b[0m\u001b[0;34m.\u001b[0m\u001b[0mp\u001b[0m\u001b[0;34m[\u001b[0m\u001b[0mbi\u001b[0m\u001b[0;34m]\u001b[0m\u001b[0;34m[\u001b[0m\u001b[0mbj\u001b[0m \u001b[0;34m-\u001b[0m \u001b[0;36m1\u001b[0m\u001b[0;34m]\u001b[0m \u001b[0;34m==\u001b[0m \u001b[0;34m-\u001b[0m\u001b[0;36m1\u001b[0m\u001b[0;34m:\u001b[0m\u001b[0;34m\u001b[0m\u001b[0m\n\u001b[0m\u001b[1;32m      2\u001b[0m     \u001b[0mcopy_part\u001b[0m \u001b[0;34m=\u001b[0m \u001b[0mself\u001b[0m\u001b[0;34m.\u001b[0m\u001b[0mfp\u001b[0m\u001b[0;34m.\u001b[0m\u001b[0mp\u001b[0m\u001b[0;34m[\u001b[0m\u001b[0mfi\u001b[0m\u001b[0;34m]\u001b[0m\u001b[0;34m[\u001b[0m\u001b[0;34m:\u001b[0m\u001b[0mfj\u001b[0m\u001b[0;34m]\u001b[0m\u001b[0;34m[\u001b[0m\u001b[0mself\u001b[0m\u001b[0;34m.\u001b[0m\u001b[0mfp\u001b[0m\u001b[0;34m.\u001b[0m\u001b[0mp\u001b[0m\u001b[0;34m[\u001b[0m\u001b[0mfi\u001b[0m\u001b[0;34m]\u001b[0m\u001b[0;34m[\u001b[0m\u001b[0;34m:\u001b[0m\u001b[0mfj\u001b[0m\u001b[0;34m]\u001b[0m \u001b[0;34m!=\u001b[0m \u001b[0;34m-\u001b[0m\u001b[0;36m1\u001b[0m\u001b[0;34m]\u001b[0m\u001b[0;34m[\u001b[0m\u001b[0mfj\u001b[0m \u001b[0;34m-\u001b[0m \u001b[0mbj\u001b[0m\u001b[0;34m:\u001b[0m\u001b[0mfj\u001b[0m\u001b[0;34m]\u001b[0m\u001b[0;34m\u001b[0m\u001b[0m\n\u001b[1;32m      3\u001b[0m     \u001b[0mself\u001b[0m\u001b[0;34m.\u001b[0m\u001b[0mfp\u001b[0m\u001b[0;34m.\u001b[0m\u001b[0mp\u001b[0m\u001b[0;34m[\u001b[0m\u001b[0mbi\u001b[0m\u001b[0;34m]\u001b[0m\u001b[0;34m[\u001b[0m\u001b[0mbj\u001b[0m \u001b[0;34m-\u001b[0m \u001b[0mcopy_part\u001b[0m\u001b[0;34m.\u001b[0m\u001b[0mshape\u001b[0m\u001b[0;34m[\u001b[0m\u001b[0;36m0\u001b[0m\u001b[0;34m]\u001b[0m\u001b[0;34m:\u001b[0m\u001b[0mbj\u001b[0m\u001b[0;34m]\u001b[0m \u001b[0;34m=\u001b[0m \u001b[0mcopy_part\u001b[0m\u001b[0;34m\u001b[0m\u001b[0m\n",
      "\u001b[0;31mNameError\u001b[0m: name 'bj' is not defined"
     ]
    }
   ],
   "source": [
    "if bj > 0 and self.bp.p[bi][bj - 1] == -1:\n",
    "    copy_part = self.fp.p[fi][:fj][self.fp.p[fi][:fj] != -1][fj - bj:fj]\n",
    "    self.fp.p[bi][bj - copy_part.shape[0]:bj] = copy_part"
   ]
  },
  {
   "cell_type": "code",
   "execution_count": null,
   "metadata": {},
   "outputs": [],
   "source": []
  },
  {
   "cell_type": "code",
   "execution_count": 641,
   "metadata": {
    "scrolled": true
   },
   "outputs": [
    {
     "name": "stdout",
     "output_type": "stream",
     "text": [
      "1 2 ;  0 2 ;  0 4\n",
      "2 1 ;  0 4 ;  0 2\n",
      "5 6 ;  1 2 ;  1 4\n",
      "6 5 ;  1 4 ;  1 2\n"
     ]
    }
   ],
   "source": [
    "pcr.print_glue_points()"
   ]
  },
  {
   "cell_type": "code",
   "execution_count": 612,
   "metadata": {},
   "outputs": [
    {
     "name": "stdout",
     "output_type": "stream",
     "text": [
      "1 17 ;  0 2 ;  3 4\n",
      "3 22 ;  0 6 ;  4 4\n",
      "6 6 ;  1 2 ;  1 2\n",
      "7 8 ;  1 4 ;  1 6\n",
      "8 7 ;  1 6 ;  1 4\n",
      "17 1 ;  3 4 ;  0 2\n",
      "22 3 ;  4 4 ;  0 6\n",
      "27 27 ;  5 4 ;  5 4\n"
     ]
    }
   ],
   "source": [
    "pcr._amplify()"
   ]
  },
  {
   "cell_type": "code",
   "execution_count": 789,
   "metadata": {},
   "outputs": [
    {
     "data": {
      "image/png": "[encoded data removed]",
      "text/plain": [
       "<matplotlib.figure.Figure at 0x7f9e040ef320>"
      ]
     },
     "metadata": {},
     "output_type": "display_data"
    }
   ],
   "source": [
    "pcr._annealing()\n",
    "plot_gr(pcr.comp_mat, s  = 8, all_ticks=1)"
   ]
  },
  {
   "cell_type": "markdown",
   "metadata": {},
   "source": [
    "## TRY REAL"
   ]
  },
  {
   "cell_type": "code",
   "execution_count": 13,
   "metadata": {},
   "outputs": [],
   "source": [
    "repeats_descr.mat = repeats_descr.mat**1.6"
   ]
  },
  {
   "cell_type": "code",
   "execution_count": 48,
   "metadata": {
    "scrolled": true
   },
   "outputs": [],
   "source": [
    "repeats_descr.mat[0][0] = 0.8\n",
    "repeats_descr.mat[1][1] = 0.1"
   ]
  },
  {
   "cell_type": "code",
   "execution_count": 367,
   "metadata": {},
   "outputs": [
    {
     "data": {
      "text/plain": [
       "array([[0.8, 0.6, 0.9, 0.8, 0.9, 0.8],\n",
       "       [0.6, 0.8, 0.8, 0.9, 0.8, 0.9],\n",
       "       [0.9, 0.8, 0.9, 0.8, 0.8, 0.8],\n",
       "       [0.8, 0.9, 0.8, 0.9, 0.8, 0.8],\n",
       "       [0.9, 0.8, 0.8, 0.8, 0.8, 0.8],\n",
       "       [0.8, 0.9, 0.8, 0.8, 0.8, 0.8]])"
      ]
     },
     "execution_count": 367,
     "metadata": {},
     "output_type": "execute_result"
    }
   ],
   "source": [
    "repeats_descr.mat"
   ]
  },
  {
   "cell_type": "code",
   "execution_count": 366,
   "metadata": {},
   "outputs": [],
   "source": [
    "repeats_descr.mat[0][0] = 0.8\n",
    "repeats_descr.mat[1][1] = 0.8\n",
    "repeats_descr.mat[0][1] = 0.6\n",
    "repeats_descr.mat[1][0] = 0.6"
   ]
  },
  {
   "cell_type": "code",
   "execution_count": 509,
   "metadata": {},
   "outputs": [],
   "source": [
    "BIG_CONST = 300"
   ]
  },
  {
   "cell_type": "code",
   "execution_count": 571,
   "metadata": {},
   "outputs": [],
   "source": [
    "repeats_descr.mat = np.array(\n",
    "    [[0.8, 0.6, 0.1, 0.1, 0.1, 0.1],\n",
    "     [0.6, 0.8, 0.8, 0.9, 0.8, 0.9],\n",
    "     [0.1, 0.8, 0.9, 0.8, 0.8, 0.8],\n",
    "     [0.1, 0.9, 0.8, 0.9, 0.8, 0.8],\n",
    "     [0.1, 0.8, 0.8, 0.8, 0.8, 0.8],\n",
    "     [0.1, 0.9, 0.8, 0.8, 0.8, 0.8]\n",
    "    ])"
   ]
  },
  {
   "cell_type": "code",
   "execution_count": 573,
   "metadata": {},
   "outputs": [],
   "source": [
    "p_list_0 = [[1, 0, 3, 6, 8, 9, 10, 13, 14, 15, 17, 12, 16] for i in range(5)] + \\\n",
    "            [[4, 2, 5, 7, 11] for i in range(5)] + \\\n",
    "               [[4, 24, 19, 18, 25, 30, 27, 26, 28, 31, 32, 33, 34] for i in range(1)] + \\\n",
    "               [[1, 20, 22, 23, 21, 29] for i in range(1)]"
   ]
  },
  {
   "cell_type": "code",
   "execution_count": 587,
   "metadata": {},
   "outputs": [
    {
     "data": {
      "text/plain": [
       "[-2,\n",
       " -2,\n",
       " 1,\n",
       " 1,\n",
       " 1,\n",
       " 0,\n",
       " 1,\n",
       " 3,\n",
       " 0,\n",
       " 6,\n",
       " 0,\n",
       " 8,\n",
       " 0,\n",
       " 9,\n",
       " 0,\n",
       " 10,\n",
       " 0,\n",
       " 13,\n",
       " 0,\n",
       " 14,\n",
       " 0,\n",
       " 15,\n",
       " 0,\n",
       " 17,\n",
       " 0,\n",
       " 12,\n",
       " 0,\n",
       " 16,\n",
       " 0,\n",
       " -2,\n",
       " -2]"
      ]
     },
     "execution_count": 587,
     "metadata": {},
     "output_type": "execute_result"
    }
   ],
   "source": [
    "p_list[0]"
   ]
  },
  {
   "cell_type": "code",
   "execution_count": 574,
   "metadata": {},
   "outputs": [],
   "source": [
    "p_list = []\n",
    "\n",
    "for p in p_list_0:\n",
    "    p_ = [-2, -2]\n",
    "    for c in p:\n",
    "        p_.append(0)\n",
    "        p_.append(c)\n",
    "    p_.append(0)\n",
    "    \n",
    "    p_.extend([-2,-2])\n",
    "    \n",
    "    p_list.append(p_)"
   ]
  },
  {
   "cell_type": "code",
   "execution_count": 575,
   "metadata": {},
   "outputs": [],
   "source": [
    "for i in range(5):\n",
    "    p_list[i][2] = 1\n",
    "    p_list[i][4] = 1\n",
    "    p_list[i][6] = 1"
   ]
  },
  {
   "cell_type": "code",
   "execution_count": 576,
   "metadata": {},
   "outputs": [],
   "source": [
    "pfl = [x for x in p_list]\n",
    "pfl.extend([[2], [3]] * (50 * 20))\n",
    "\n",
    "pbl = [x for x in p_list]\n",
    "pbl.extend([[4]] * (33 * 20))\n",
    "pbl.extend([[5]] * (67 * 20))"
   ]
  },
  {
   "cell_type": "code",
   "execution_count": 577,
   "metadata": {},
   "outputs": [
    {
     "data": {
      "image/png": "[encoded data removed]",
      "text/plain": [
       "<matplotlib.figure.Figure at 0x7f12a223b0b8>"
      ]
     },
     "metadata": {},
     "output_type": "display_data"
    }
   ],
   "source": [
    "_ = plt.bar(np.arange(len(p_list[0])), p_list[0])"
   ]
  },
  {
   "cell_type": "code",
   "execution_count": 578,
   "metadata": {},
   "outputs": [],
   "source": [
    "#p_list = [[0,0, 0,1, 0,2, 0,3, 0,4, 0], [0,1, 0,5, 0,6,0]]\n",
    "primers_num = {0:0, 1:0}\n",
    "p = Population._from_ip(p_list, primers_num, max_len=64)"
   ]
  },
  {
   "cell_type": "code",
   "execution_count": 579,
   "metadata": {},
   "outputs": [],
   "source": [
    "fp = Population._from_ip(pfl, primers_num, max_len=64)\n",
    "bp = Population._from_ip(pbl, primers_num, max_len=64)"
   ]
  },
  {
   "cell_type": "code",
   "execution_count": 580,
   "metadata": {
    "scrolled": true
   },
   "outputs": [],
   "source": [
    "pcr = fast_PCR(fp,  bp, repeats_descr)"
   ]
  },
  {
   "cell_type": "code",
   "execution_count": 581,
   "metadata": {
    "scrolled": true
   },
   "outputs": [
    {
     "data": {
      "application/vnd.jupyter.widget-view+json": {
       "model_id": "cbd86d98c3024f7f875d45b0ee1c9997",
       "version_major": 2,
       "version_minor": 0
      },
      "text/plain": [
       "A Jupyter Widget"
      ]
     },
     "metadata": {},
     "output_type": "display_data"
    },
    {
     "name": "stdout",
     "output_type": "stream",
     "text": [
      "5.333333333333333\n",
      "4.722222222222222\n",
      "4.722222222222222\n",
      "5.361111111111111\n",
      "6.5\n",
      "7.388888888888889\n",
      "6.630434782608695\n",
      "7.065217391304348\n",
      "6.481481481481482\n",
      "7.092592592592593\n",
      "7.555555555555555\n",
      "8.296296296296296\n",
      "8.24561403508772\n",
      "9.140350877192983\n",
      "9.64406779661017\n",
      "10.066666666666666\n",
      "9.042857142857143\n",
      "8.430379746835444\n",
      "7.536842105263158\n",
      "8.2\n",
      "7.866666666666666\n",
      "8.028571428571428\n",
      "7.75\n",
      "8.233333333333333\n",
      "8.783333333333333\n",
      "\n"
     ]
    }
   ],
   "source": [
    "products = []\n",
    "total = []\n",
    "ratios = []\n",
    "for i in tqdm_notebook(range(25)):\n",
    "    products.append(((pcr.fp.p != -1).sum(1) != 1).sum())\n",
    "    total.append((pcr.fp.p != -1).astype(int).sum())\n",
    "    pcr.split_cylce()\n",
    "    \n",
    "    gr = pcr.to_graph(35)\n",
    "    ratios.append(gr[:18,:18].sum() / gr[18:,18:].sum())\n",
    "    print(ratios[-1])"
   ]
  },
  {
   "cell_type": "code",
   "execution_count": 582,
   "metadata": {},
   "outputs": [
    {
     "data": {
      "application/vnd.jupyter.widget-view+json": {
       "model_id": "cc0e95295fbb4a7198167d2c21e4bc74",
       "version_major": 2,
       "version_minor": 0
      },
      "text/plain": [
       "A Jupyter Widget"
      ]
     },
     "metadata": {},
     "output_type": "display_data"
    },
    {
     "name": "stdout",
     "output_type": "stream",
     "text": [
      "8.90983606557377\n",
      "9.69672131147541\n",
      "\n"
     ]
    }
   ],
   "source": [
    "for i in tqdm_notebook(range(2)):\n",
    "    products.append(((pcr.fp.p != -1).sum(1) != 1).sum())\n",
    "    total.append((pcr.fp.p != -1).astype(int).sum())\n",
    "    pcr.split_cylce()\n",
    "    \n",
    "    gr = pcr.to_graph(35)\n",
    "    ratios.append(gr[:18,:18].sum() / gr[18:,18:].sum())\n",
    "    print(ratios[-1])"
   ]
  },
  {
   "cell_type": "code",
   "execution_count": 528,
   "metadata": {},
   "outputs": [],
   "source": [
    "ratios_1 = [x for x in ratios]"
   ]
  },
  {
   "cell_type": "code",
   "execution_count": 583,
   "metadata": {},
   "outputs": [
    {
     "data": {
      "text/plain": [
       "[<matplotlib.lines.Line2D at 0x7f12a235bc18>]"
      ]
     },
     "execution_count": 583,
     "metadata": {},
     "output_type": "execute_result"
    },
    {
     "data": {
      "image/png": "[encoded data removed]",
      "text/plain": [
       "<matplotlib.figure.Figure at 0x7f12a1b863c8>"
      ]
     },
     "metadata": {},
     "output_type": "display_data"
    }
   ],
   "source": [
    "plt.plot(ratios_0)\n",
    "plt.plot(ratios_1)\n",
    "plt.plot(ratios)"
   ]
  },
  {
   "cell_type": "code",
   "execution_count": 584,
   "metadata": {},
   "outputs": [],
   "source": [
    "gr = pcr.to_graph(35)"
   ]
  },
  {
   "cell_type": "code",
   "execution_count": 585,
   "metadata": {
    "scrolled": false
   },
   "outputs": [
    {
     "data": {
      "image/png": "[encoded data removed]",
      "text/plain": [
       "<matplotlib.figure.Figure at 0x7f12a21a8dd8>"
      ]
     },
     "metadata": {},
     "output_type": "display_data"
    }
   ],
   "source": [
    "plot_gr(pcr.to_graph(35), log = 1)"
   ]
  },
  {
   "cell_type": "code",
   "execution_count": 382,
   "metadata": {},
   "outputs": [
    {
     "data": {
      "image/png": "[encoded data removed]",
      "text/plain": [
       "<matplotlib.figure.Figure at 0x7f12a1b5d160>"
      ]
     },
     "metadata": {},
     "output_type": "display_data"
    }
   ],
   "source": [
    "gr0 = np.load(\"../../data/graphs/ES3_22.npy\")[:35,:35]\n",
    "plot_gr(gr0, log = 1)"
   ]
  },
  {
   "cell_type": "code",
   "execution_count": 505,
   "metadata": {},
   "outputs": [
    {
     "data": {
      "text/plain": [
       "12.311839911061702"
      ]
     },
     "execution_count": 505,
     "metadata": {},
     "output_type": "execute_result"
    }
   ],
   "source": [
    "gr[:18,:18].sum() / gr[18:,18:].sum()"
   ]
  },
  {
   "cell_type": "code",
   "execution_count": 506,
   "metadata": {},
   "outputs": [
    {
     "data": {
      "text/plain": [
       "73.76393110435663"
      ]
     },
     "execution_count": 506,
     "metadata": {},
     "output_type": "execute_result"
    }
   ],
   "source": [
    "gr0[:18,:18].sum() / gr0[18:,18:].sum()"
   ]
  },
  {
   "cell_type": "code",
   "execution_count": 589,
   "metadata": {},
   "outputs": [
    {
     "data": {
      "text/plain": [
       "array([ 9224, 17455,  4956,  3815,  8568,  2941,  3022,  3059,  2268,\n",
       "        1809,  1174,     2,  1845,  1067,  1432,   619,     2,  1019,\n",
       "         102,   289,    86,    77,    69,    69,    18,    30,    38,\n",
       "          52,    42,     1,    42,    24,    24,    14,     0])"
      ]
     },
     "execution_count": 589,
     "metadata": {},
     "output_type": "execute_result"
    }
   ],
   "source": [
    "gr0.max(1).astype(int)"
   ]
  },
  {
   "cell_type": "code",
   "execution_count": 485,
   "metadata": {
    "scrolled": false
   },
   "outputs": [
    {
     "data": {
      "image/png": "[encoded data removed]",
      "text/plain": [
       "<matplotlib.figure.Figure at 0x7f12a1cf3668>"
      ]
     },
     "metadata": {},
     "output_type": "display_data"
    }
   ],
   "source": [
    "plt.plot(products)\n",
    "plt.show()"
   ]
  },
  {
   "cell_type": "code",
   "execution_count": 437,
   "metadata": {},
   "outputs": [
    {
     "data": {
      "image/png": "[encoded data removed]",
      "text/plain": [
       "<matplotlib.figure.Figure at 0x7f12a2378eb8>"
      ]
     },
     "metadata": {},
     "output_type": "display_data"
    }
   ],
   "source": [
    "plt.plot(total)\n",
    "plt.show()"
   ]
  },
  {
   "cell_type": "code",
   "execution_count": 118,
   "metadata": {},
   "outputs": [
    {
     "data": {
      "text/plain": [
       "(array([115., 172., 159.,  92., 115., 101.,  27.,  20.,   6.,   5.]),\n",
       " array([ 1. ,  6.4, 11.8, 17.2, 22.6, 28. , 33.4, 38.8, 44.2, 49.6, 55. ]),\n",
       " <a list of 10 Patch objects>)"
      ]
     },
     "execution_count": 118,
     "metadata": {},
     "output_type": "execute_result"
    },
    {
     "data": {
      "image/png": "[encoded data removed]",
      "text/plain": [
       "<matplotlib.figure.Figure at 0x7f5aefd36240>"
      ]
     },
     "metadata": {},
     "output_type": "display_data"
    }
   ],
   "source": [
    "plt.hist((pcr.fp.p != -1).sum(1), bins = 10)"
   ]
  },
  {
   "cell_type": "code",
   "execution_count": 119,
   "metadata": {},
   "outputs": [],
   "source": [
    "gr = pcr.to_graph(35)"
   ]
  },
  {
   "cell_type": "code",
   "execution_count": 120,
   "metadata": {},
   "outputs": [
    {
     "data": {
      "text/plain": [
       "<Container object of 35 artists>"
      ]
     },
     "execution_count": 120,
     "metadata": {},
     "output_type": "execute_result"
    },
    {
     "data": {
      "image/png": "[encoded data removed]",
      "text/plain": [
       "<matplotlib.figure.Figure at 0x7f5aeffd7198>"
      ]
     },
     "metadata": {},
     "output_type": "display_data"
    }
   ],
   "source": [
    "plt.bar(np.arange(35), gr.max(1))"
   ]
  },
  {
   "cell_type": "code",
   "execution_count": 121,
   "metadata": {},
   "outputs": [
    {
     "data": {
      "text/plain": [
       "85.0"
      ]
     },
     "execution_count": 121,
     "metadata": {},
     "output_type": "execute_result"
    }
   ],
   "source": [
    "gr[18:].max()"
   ]
  },
  {
   "cell_type": "code",
   "execution_count": 122,
   "metadata": {},
   "outputs": [
    {
     "data": {
      "text/plain": [
       "555.0"
      ]
     },
     "execution_count": 122,
     "metadata": {},
     "output_type": "execute_result"
    }
   ],
   "source": [
    "gr[:17].max()"
   ]
  },
  {
   "cell_type": "code",
   "execution_count": 107,
   "metadata": {},
   "outputs": [
    {
     "data": {
      "text/plain": [
       "368.0"
      ]
     },
     "execution_count": 107,
     "metadata": {},
     "output_type": "execute_result"
    }
   ],
   "source": [
    "gr[0].max()"
   ]
  },
  {
   "cell_type": "code",
   "execution_count": 190,
   "metadata": {},
   "outputs": [
    {
     "data": {
      "text/plain": [
       "12.703703703703704"
      ]
     },
     "execution_count": 190,
     "metadata": {},
     "output_type": "execute_result"
    }
   ],
   "source": [
    "343 / 27"
   ]
  },
  {
   "cell_type": "code",
   "execution_count": null,
   "metadata": {},
   "outputs": [],
   "source": []
  },
  {
   "cell_type": "code",
   "execution_count": null,
   "metadata": {},
   "outputs": [],
   "source": []
  },
  {
   "cell_type": "markdown",
   "metadata": {},
   "source": [
    "## ES1"
   ]
  },
  {
   "cell_type": "code",
   "execution_count": 214,
   "metadata": {},
   "outputs": [],
   "source": [
    "def run():\n",
    "    nrs = []\n",
    "    ps = []\n",
    "    params = []\n",
    "    \n",
    "    for coef in [1, 2, 4]:\n",
    "        print(coef)\n",
    "        p_list = []\n",
    "\n",
    "        for p in p_list_0:\n",
    "            p_ = [-2, -2]\n",
    "            for c in p:\n",
    "                p_.append(0)\n",
    "                p_.append(c)\n",
    "            p_.append(0)\n",
    "            p_.extend([-2,-2])\n",
    "            p_list.append(p_)\n",
    "        for i in range(10):\n",
    "            p_list[i][2] = 1\n",
    "            p_list[i][-3] = 1\n",
    "        \n",
    "        pfl = [x for x in p_list]\n",
    "        pfl.extend([[2], [3]] * 50 * coef)\n",
    "\n",
    "        pbl = [x for x in p_list]\n",
    "        pbl.extend([[4]] * 33 * coef)\n",
    "        pbl.extend([[5]] * 67 * coef)\n",
    "        \n",
    "        primers_num = {0:0, 1:0}\n",
    "        p = Population._from_ip(p_list, primers_num, max_len=64)\n",
    "        \n",
    "        fp = Population._from_ip(pfl, {}, max_len=64)\n",
    "        bp = Population._from_ip(pbl, {}, max_len=64)\n",
    "        \n",
    "        pcr = fast_PCR(fp,  bp, repeats_descr)\n",
    "        \n",
    "        products = []\n",
    "        total = []\n",
    "        noise_ratio = []\n",
    "        for i in tqdm_notebook(range(20)):\n",
    "            products.append(((pcr.fp.p != -1).sum(1) != 1).sum())\n",
    "            total.append((pcr.fp.p != -1).astype(int).sum())\n",
    "            pcr.split_cylce()\n",
    "            gr = pcr.to_graph(19)\n",
    "            noise_ratio.append(gr[grC != 1].sum() / gr[grC == 1].sum())\n",
    "            \n",
    "        nrs.append(noise_ratio)\n",
    "        ps.append(products)\n",
    "        params.append(coef)\n",
    "    \n",
    "    return nrs, ps, params"
   ]
  },
  {
   "cell_type": "code",
   "execution_count": 7,
   "metadata": {},
   "outputs": [],
   "source": [
    "class fast_PCR:\n",
    "    def __init__(self, fp, bp, mat):\n",
    "        self.fp = fp\n",
    "        self.bp = bp\n",
    "        self.mat = mat\n",
    "\n",
    "    def as_part(self, pcr, f_indexes, b_indexes):\n",
    "        self.fp = pcr.fp[f_indexes]\n",
    "        self.bp = pcr.bp[b_indexes]\n",
    "        \n",
    "    def from_list_of_pcrs(self, pcr_list):\n",
    "        self.fp = Population(np.vstack([x.fp.p for x in pcr_list]))\n",
    "        self.bp = Population(np.vstack([x.bp.p for x in pcr_list]))\n",
    "        \n",
    "    def _calculate_complementary_matrix(self):\n",
    "        self.fp._recalc_glue_mask()\n",
    "        self.bp._recalc_glue_mask()\n",
    "        self.comp_mat = np.zeros((self.fp.glue_mask.sum(), self.bp.glue_mask.sum()))\n",
    "        self.f_match = np.arange(self.fp.glue_mask.shape[0])[self.fp.glue_mask]\n",
    "        self.b_match = np.arange(self.bp.glue_mask.shape[0])[self.bp.glue_mask]\n",
    "        \n",
    "        for i in range(self.comp_mat.shape[0]):\n",
    "            for j in range(self.comp_mat.shape[1]):\n",
    "                r_f = self.fp.get_rep_by_ind(self.f_match[i])\n",
    "                r_b = self.bp.get_rep_by_ind(self.b_match[j])\n",
    "                \n",
    "                if r_f >= 0 and r_b >= 0:\n",
    "                    self.comp_mat[i][j] = self.mat[r_f, r_b]\n",
    "                \n",
    "    def _annealing(self):\n",
    "        self._calculate_complementary_matrix()\n",
    "        self.anneal = np.zeros_like(self.comp_mat)\n",
    "        indexes = np.arange(self.anneal.shape[0])\n",
    "        np.random.shuffle(indexes)\n",
    "        \n",
    "        self.rows_mean = BIG_CONST# np.mean(self.comp_mat.sum(1)) \n",
    "        \n",
    "        for i in indexes:\n",
    "            row = self.comp_mat[i]\n",
    "            if row.sum() != 0:\n",
    "                if np.random.rand() < row.sum() / (row.sum() + self.rows_mean):\n",
    "                    j = np.random.choice(np.arange(row.shape[0]), size = 1, p = row.astype(float) / row.sum())\n",
    "\n",
    "                    self.anneal[i, j] = 1\n",
    "                    self.comp_mat[i] = 0\n",
    "                    self.comp_mat[:, j] = 0\n",
    "               \n",
    "            \n",
    "    def _amplify(self):\n",
    "        \n",
    "        for f, b in zip(np.where(self.anneal == 1)[0], np.where(self.anneal == 1)[1]):\n",
    "            fi, fj = self.fp.get_rep_pos_by_ind(self.f_match[f])\n",
    "            bi, bj = self.bp.get_rep_pos_by_ind(self.b_match[b])\n",
    "#             print(self, f, b, '; ', fi, fj, '; ', bi, bj)\n",
    "#             print(\"forw\\n\", self.fp.p.astype(int))\n",
    "#             print(\"backw\\n\", self.bp.p.astype(int))\n",
    "            self.restore_f(fi, fj, bi, bj)\n",
    "            self.restore_b(fi, fj, bi, bj)\n",
    "            \n",
    "            \n",
    "    def restore_f(self, fi, fj, bi, bj):\n",
    "        if self.fp.p[fi][fj + 1] == -1 and fj + 2 != self.fp.max_len:# and (self.fp.p[fi]).sum() < 64:\n",
    "            copy_part = self.bp.p[bi][bj:][: self.fp.max_len - fj]#[self.bp.p[bi][bj:] != -1]\n",
    "            copy_part = copy_part[copy_part != -1]\n",
    "            self.fp.p[fi][fj:fj + copy_part.shape[0]] = copy_part\n",
    "#             if fj + copy_part.shape[0] > 16:\n",
    "#                 print(fi, fj, bi, bj, copy_part)\n",
    "#             if fj < 8:\n",
    "#                 print(fi, fj, bi, bj, copy_part)\n",
    "    \n",
    "    def restore_b(self, fi, fj, bi, bj):\n",
    "        #print(fi, fj, bi, bj)\n",
    "        if bj > 0 and self.bp.p[bi][bj - 1] == -1:# and (self.bp.p[bi]).sum() < 64:\n",
    "            copy_part = self.fp.p[fi][:fj + 1][fj - bj :fj + 1]#[self.fp.p[fi][:fj] != -1]\n",
    "            copy_part = copy_part[copy_part != -1]\n",
    "            self.bp.p[bi][bj - copy_part.shape[0] + 1 :bj + 1] = copy_part\n",
    "            \n",
    "            \n",
    "    def print_glue_points(self):\n",
    "        for f, b in zip(np.where(self.anneal == 1)[0], np.where(self.anneal == 1)[1]):\n",
    "            fi, fj = self.fp.get_rep_pos_by_ind(f)\n",
    "            bi, bj = self.bp.get_rep_pos_by_ind(b)\n",
    "            #print(f, b, '; ', fi, fj, '; ', bi, bj)\n",
    "            \n",
    "    \n",
    "    def cycle(self):\n",
    "        self._annealing()\n",
    "        self._amplify()\n",
    "        #self.fp, self.bp = self.bp, self.fp\n",
    "        \n",
    "    def split_cylce(self, n= None):\n",
    "        if n is None:\n",
    "            self.n  = max(self.fp.p.shape[0], self.bp.p.shape[0]) // 20 + 1\n",
    "        else: self.n = n\n",
    "            \n",
    "        self.f_indexes = np.arange(self.fp.p.shape[0])\n",
    "        self.b_indexes = np.arange(self.bp.p.shape[0])\n",
    "        \n",
    "        np.random.shuffle(self.f_indexes)\n",
    "        np.random.shuffle(self.b_indexes)\n",
    "        \n",
    "        self.pcr_list = []\n",
    "        \n",
    "        for f_i, b_i in zip(np.array_split(self.f_indexes, self.n), np.array_split(self.b_indexes, self.n)):\n",
    "            pcr_part = fast_PCR(self.fp[f_i], self.bp[b_i], self.mat)\n",
    "            pcr_part.cycle()\n",
    "            self.pcr_list.append(pcr_part)\n",
    "        \n",
    "        self.from_list_of_pcrs(self.pcr_list)\n",
    "            \n",
    "        \n",
    "    def to_pairs(self):\n",
    "        all_pairs = {}\n",
    "        for product in np.vstack((self.fp.p[:, 1::2],self.bp.p[:, 1::2])):\n",
    "            for a,b in zip(product, product[1:]):\n",
    "                if a!= -1 and b!= -1:\n",
    "                    if (a,b) in all_pairs:\n",
    "                        all_pairs[(a,b)] += 1\n",
    "                    else:\n",
    "                        all_pairs[(a,b)] = 1\n",
    "        return all_pairs\n",
    "    \n",
    "    def to_graph(self, sp_num):\n",
    "        gr = np.zeros((sp_num, sp_num))\n",
    "        \n",
    "        for p, n in self.to_pairs().items():\n",
    "            if p[0] >= 0 and p[1] >= 0:\n",
    "                gr[p[0]][p[1]] = n\n",
    "        return gr\n",
    "        "
   ]
  },
  {
   "cell_type": "code",
   "execution_count": 162,
   "metadata": {},
   "outputs": [
    {
     "name": "stdout",
     "output_type": "stream",
     "text": [
      "1\n"
     ]
    },
    {
     "data": {
      "application/vnd.jupyter.widget-view+json": {
       "model_id": "3c6e0ef34aa041e78971d887ef335fc1",
       "version_major": 2,
       "version_minor": 0
      },
      "text/plain": [
       "A Jupyter Widget"
      ]
     },
     "metadata": {},
     "output_type": "display_data"
    },
    {
     "name": "stdout",
     "output_type": "stream",
     "text": [
      "\n",
      "2\n"
     ]
    },
    {
     "data": {
      "application/vnd.jupyter.widget-view+json": {
       "model_id": "7c489b6b533e4615a74fb71ff0856a87",
       "version_major": 2,
       "version_minor": 0
      },
      "text/plain": [
       "A Jupyter Widget"
      ]
     },
     "metadata": {},
     "output_type": "display_data"
    },
    {
     "name": "stdout",
     "output_type": "stream",
     "text": [
      "\n",
      "4\n"
     ]
    },
    {
     "data": {
      "application/vnd.jupyter.widget-view+json": {
       "model_id": "e991a328b2fb44b681ec4c3a44837ecf",
       "version_major": 2,
       "version_minor": 0
      },
      "text/plain": [
       "A Jupyter Widget"
      ]
     },
     "metadata": {},
     "output_type": "display_data"
    },
    {
     "name": "stdout",
     "output_type": "stream",
     "text": [
      "\n",
      "8\n"
     ]
    },
    {
     "data": {
      "application/vnd.jupyter.widget-view+json": {
       "model_id": "a912ee2ce28c4bd2ac6f1402253c887c",
       "version_major": 2,
       "version_minor": 0
      },
      "text/plain": [
       "A Jupyter Widget"
      ]
     },
     "metadata": {},
     "output_type": "display_data"
    },
    {
     "name": "stdout",
     "output_type": "stream",
     "text": [
      "\n"
     ]
    }
   ],
   "source": [
    "nrs, ps, params = run()"
   ]
  },
  {
   "cell_type": "code",
   "execution_count": 169,
   "metadata": {},
   "outputs": [
    {
     "data": {
      "text/plain": [
       "<matplotlib.legend.Legend at 0x7f12a8716b38>"
      ]
     },
     "execution_count": 169,
     "metadata": {},
     "output_type": "execute_result"
    },
    {
     "data": {
      "image/png": "[encoded data removed]",
      "text/plain": [
       "<matplotlib.figure.Figure at 0x7f12a84faac8>"
      ]
     },
     "metadata": {},
     "output_type": "display_data"
    }
   ],
   "source": [
    "for c, nr in zip(params, nrs):\n",
    "    plt.plot(nr, label = str(c * 100) + \" primers\")\n",
    "plt.legend()"
   ]
  },
  {
   "cell_type": "code",
   "execution_count": 203,
   "metadata": {},
   "outputs": [],
   "source": [
    "p_list_0 = [[x for x in range(13)] for i in range(5)] +\\\n",
    "           [[x for x in range(13, 19)] for i in range(5) ]"
   ]
  },
  {
   "cell_type": "code",
   "execution_count": 9,
   "metadata": {},
   "outputs": [],
   "source": [
    "# repeats_descr.mat = np.ones((6,6))*0.7\n",
    "# repeats_descr.mat[0][1] = 0.6\n",
    "# repeats_descr.mat[1][0] = 0.6\n",
    "\n",
    "# repeats_descr.mat = np.array([[0.7, 0.6, 0.9, 0.8, 0.9, 0.8],\n",
    "#  [0.6, 0.7, 0.8, 0.9, 0.8, 0.9],\n",
    "#  [0.9, 0.8, 0.9, 0.8, 0.8, 0.8],\n",
    "#  [0.8, 0.9, 0.8, 0.9, 0.8, 0.8],\n",
    "#  [0.9, 0.8, 0.8, 0.8, 0.8, 0.8],\n",
    "#  [0.8, 0.9, 0.8, 0.8, 0.8, 0.8]\n",
    "# ])\n",
    "mat = np.array(\n",
    "    [[0.1, 0.05, 0.9, 0.8, 0.9, 0.8],\n",
    "     [0.05, 0.1, 0.8, 0.9, 0.8, 0.9],\n",
    "     [0.9, 0.8, 0.9, 0.8, 0.8, 0.8],\n",
    "     [0.8, 0.9, 0.8, 0.9, 0.8, 0.8],\n",
    "     [0.9, 0.8, 0.8, 0.8, 0.8, 0.8],\n",
    "     [0.8, 0.9, 0.8, 0.8, 0.8, 0.8]\n",
    "    ])\n",
    "\n",
    "BIG_CONST = 30"
   ]
  },
  {
   "cell_type": "code",
   "execution_count": null,
   "metadata": {},
   "outputs": [],
   "source": []
  },
  {
   "cell_type": "code",
   "execution_count": 11,
   "metadata": {},
   "outputs": [
    {
     "data": {
      "text/plain": [
       "array([[0.1 , 0.05, 0.9 , 0.8 , 0.9 , 0.8 ],\n",
       "       [0.05, 0.1 , 0.8 , 0.9 , 0.8 , 0.9 ],\n",
       "       [0.9 , 0.8 , 0.9 , 0.8 , 0.8 , 0.8 ],\n",
       "       [0.8 , 0.9 , 0.8 , 0.9 , 0.8 , 0.8 ],\n",
       "       [0.9 , 0.8 , 0.8 , 0.8 , 0.8 , 0.8 ],\n",
       "       [0.8 , 0.9 , 0.8 , 0.8 , 0.8 , 0.8 ]])"
      ]
     },
     "execution_count": 11,
     "metadata": {},
     "output_type": "execute_result"
    }
   ],
   "source": [
    "mat"
   ]
  },
  {
   "cell_type": "code",
   "execution_count": 12,
   "metadata": {},
   "outputs": [],
   "source": [
    "p_list_0 = [[9,8,2,3,12,17,16,15,13,14,11,10,18] for i in range(5)] + \\\n",
    "            [[7,5,6,4,0,1] for i in range(5)]"
   ]
  },
  {
   "cell_type": "code",
   "execution_count": 13,
   "metadata": {},
   "outputs": [],
   "source": [
    "p_list = []\n",
    "\n",
    "for p in p_list_0:\n",
    "    p_ = [-2, -2]\n",
    "    for c in p:\n",
    "        p_.append(0)\n",
    "        p_.append(c)\n",
    "    p_.append(0)\n",
    "    p_.extend([-2,-2])\n",
    "    p_list.append(p_)"
   ]
  },
  {
   "cell_type": "code",
   "execution_count": 14,
   "metadata": {},
   "outputs": [],
   "source": [
    "for i in range(10):\n",
    "    p_list[i][2] = 1\n",
    "    p_list[i][-3] = 1\n",
    "#     p_list[i][4] = 1\n",
    "#     p_list[i][6] = 1"
   ]
  },
  {
   "cell_type": "code",
   "execution_count": 15,
   "metadata": {},
   "outputs": [],
   "source": [
    "pfl = [x for x in p_list]\n",
    "pfl.extend([[2], [3]] * 50)\n",
    "\n",
    "pbl = [x for x in p_list]\n",
    "pbl.extend([[4]] * 33)\n",
    "pbl.extend([[5]] * 67)"
   ]
  },
  {
   "cell_type": "code",
   "execution_count": 326,
   "metadata": {},
   "outputs": [],
   "source": [
    "#p_list = [[0,0, 0,1, 0,2, 0,3, 0,4, 0], [0,1, 0,5, 0,6,0]]\n",
    "# primers_num = {0:0, 1:0}\n",
    "p = Population._from_ip(p_list, {primers_num}, max_len=64)"
   ]
  },
  {
   "cell_type": "code",
   "execution_count": 16,
   "metadata": {},
   "outputs": [],
   "source": [
    "fp = Population._from_ip(pfl, {}, max_len=64)\n",
    "bp = Population._from_ip(pbl, {}, max_len=64)"
   ]
  },
  {
   "cell_type": "code",
   "execution_count": 17,
   "metadata": {
    "scrolled": true
   },
   "outputs": [],
   "source": [
    "pcr = fast_PCR(fp,  bp, mat)"
   ]
  },
  {
   "cell_type": "code",
   "execution_count": 20,
   "metadata": {},
   "outputs": [
    {
     "data": {
      "application/vnd.jupyter.widget-view+json": {
       "model_id": "6adde4b1a2d14654b7f89c192e3b7ad8",
       "version_major": 2,
       "version_minor": 0
      },
      "text/plain": [
       "A Jupyter Widget"
      ]
     },
     "metadata": {},
     "output_type": "display_data"
    },
    {
     "name": "stdout",
     "output_type": "stream",
     "text": [
      "\n"
     ]
    }
   ],
   "source": [
    "products = []\n",
    "total = []\n",
    "noise_ratio = []\n",
    "for i in tqdm_notebook(range(10)):\n",
    "    products.append(((pcr.fp.p != -1).sum(1) != 1).sum())\n",
    "    total.append((pcr.fp.p != -1).astype(int).sum())\n",
    "    pcr.split_cylce()\n",
    "    gr = pcr.to_graph(19)\n",
    "    #noise_ratio.append(gr[grC != 1].sum() / gr[grC == 1].sum())"
   ]
  },
  {
   "cell_type": "code",
   "execution_count": 342,
   "metadata": {},
   "outputs": [
    {
     "name": "stdout",
     "output_type": "stream",
     "text": [
      "0.06352261790182868\n"
     ]
    }
   ],
   "source": [
    "pcr.split_cylce()\n",
    "gr = pcr.to_graph(19)\n",
    "print(gr[grC != 1].sum() / gr[grC == 1].sum())"
   ]
  },
  {
   "cell_type": "code",
   "execution_count": 21,
   "metadata": {
    "scrolled": false
   },
   "outputs": [
    {
     "data": {
      "image/png": "[encoded data removed]",
      "text/plain": [
       "<matplotlib.figure.Figure at 0x7f86baf495c0>"
      ]
     },
     "metadata": {},
     "output_type": "display_data"
    }
   ],
   "source": [
    "plot_gr(pcr.to_graph(19), all_ticks=1, log = 1, s = 4)"
   ]
  },
  {
   "cell_type": "code",
   "execution_count": 242,
   "metadata": {},
   "outputs": [],
   "source": [
    "#noise_ratio_400_0205 = [x for x in noise_ratio]\n",
    "#noise_ratio_1200_0205 = [x for x in noise_ratio]\n",
    "#noise_ratio_400_0002_C = [x for x in noise_ratio]\n",
    "noise_ratio_100_0002_C = [x for x in noise_ratio]"
   ]
  },
  {
   "cell_type": "code",
   "execution_count": 319,
   "metadata": {},
   "outputs": [
    {
     "data": {
      "text/plain": [
       "[<matplotlib.lines.Line2D at 0x7f12a243bc88>]"
      ]
     },
     "execution_count": 319,
     "metadata": {},
     "output_type": "execute_result"
    },
    {
     "data": {
      "image/png": "[encoded data removed]",
      "text/plain": [
       "<matplotlib.figure.Figure at 0x7f12a24d3588>"
      ]
     },
     "metadata": {},
     "output_type": "display_data"
    }
   ],
   "source": [
    "# plt.plot(noise_ratio_400_0205)\n",
    "# plt.plot(noise_ratio_1200_0205)\n",
    "plt.plot(noise_ratio_100_0002_C)\n",
    "plt.plot(noise_ratio_400_0002_C)\n",
    "plt.plot(noise_ratio)"
   ]
  },
  {
   "cell_type": "code",
   "execution_count": 229,
   "metadata": {},
   "outputs": [
    {
     "name": "stdout",
     "output_type": "stream",
     "text": [
      "30\n",
      "30\n",
      "30\n",
      "30\n",
      "30\n",
      "30\n",
      "30\n",
      "30\n",
      "30\n",
      "30\n",
      "30\n",
      "30\n",
      "30\n",
      "30\n",
      "30\n",
      "30\n",
      "30\n",
      "30\n",
      "30\n",
      "30\n"
     ]
    }
   ],
   "source": [
    "for i in range(20):\n",
    "    print(pcr.pcr_list[i].rows_mean)"
   ]
  },
  {
   "cell_type": "code",
   "execution_count": 267,
   "metadata": {},
   "outputs": [],
   "source": [
    "pcr.split_cylce()"
   ]
  },
  {
   "cell_type": "code",
   "execution_count": 286,
   "metadata": {},
   "outputs": [
    {
     "data": {
      "text/plain": [
       "array([32, 32, 32, 32, 32, 32, 32, 32, 32, 32, 32, 32, 28, 32, 32, 32, 32,\n",
       "       32, 32, 32, 32, 32, 24, 32, 32, 32, 32, 32, 32, 32, 32, 32, 32, 32,\n",
       "       32, 24, 32, 32, 28, 32, 32, 32, 32, 32, 32, 32, 32, 32, 32, 32, 32,\n",
       "       24, 32, 32, 32, 32, 24, 32, 32, 32, 28, 32, 32, 32, 32, 32, 28, 32,\n",
       "       32, 32, 32, 32, 32, 32, 32, 32, 32, 32, 32, 32, 32, 32, 32, 28, 32,\n",
       "       32, 32, 32, 32, 32, 32, 32, 32, 32, 24, 32, 32, 32, 32, 32, 32, 32,\n",
       "       32, 32, 32, 32, 32, 32, 32, 32])"
      ]
     },
     "execution_count": 286,
     "metadata": {},
     "output_type": "execute_result"
    }
   ],
   "source": [
    "(pcr.fp.p[:,::2][:, :32] == -1).sum(1) "
   ]
  },
  {
   "cell_type": "code",
   "execution_count": 287,
   "metadata": {},
   "outputs": [
    {
     "data": {
      "text/plain": [
       "array([31, 31, 31, 31, 31, 31, 31, 31, 24, 31, 31, 31, 31, 31, 31, 31, 31,\n",
       "       31, 31, 31, 31, 31, 27, 31, 31, 24, 31, 31, 31, 31, 31, 31, 31, 31,\n",
       "       31, 31, 31, 31, 31, 31, 31, 31, 31, 31, 31, 31, 31, 31, 31, 27, 31,\n",
       "       31, 31, 31, 24, 31, 31, 31, 31, 31, 31, 31, 31, 31, 31, 31, 31, 24,\n",
       "       31, 31, 31, 31, 31, 31, 31, 31, 31, 31, 31, 31, 31, 31, 31, 31, 31,\n",
       "       31, 31, 27, 27, 31, 31, 31, 31, 31, 31, 31, 27, 31, 31, 31, 31, 31,\n",
       "       31, 31, 31, 31, 31, 31, 31, 24])"
      ]
     },
     "execution_count": 287,
     "metadata": {},
     "output_type": "execute_result"
    }
   ],
   "source": [
    "(pcr.bp.p[:, ::2][:, 32:] == -1).sum(1)"
   ]
  },
  {
   "cell_type": "code",
   "execution_count": 280,
   "metadata": {},
   "outputs": [
    {
     "data": {
      "text/plain": [
       "(55, 128)"
      ]
     },
     "execution_count": 280,
     "metadata": {},
     "output_type": "execute_result"
    }
   ],
   "source": [
    "pcr.bp.p[::2]"
   ]
  },
  {
   "cell_type": "code",
   "execution_count": 309,
   "metadata": {},
   "outputs": [
    {
     "data": {
      "text/plain": [
       "[<matplotlib.lines.Line2D at 0x7f12a24557b8>]"
      ]
     },
     "execution_count": 309,
     "metadata": {},
     "output_type": "execute_result"
    },
    {
     "data": {
      "image/png": "[encoded data removed]",
      "text/plain": [
       "<matplotlib.figure.Figure at 0x7f12a252bb00>"
      ]
     },
     "metadata": {},
     "output_type": "display_data"
    }
   ],
   "source": [
    "plt.plot(products)"
   ]
  },
  {
   "cell_type": "code",
   "execution_count": null,
   "metadata": {},
   "outputs": [],
   "source": []
  },
  {
   "cell_type": "code",
   "execution_count": null,
   "metadata": {},
   "outputs": [],
   "source": []
  },
  {
   "cell_type": "code",
   "execution_count": null,
   "metadata": {},
   "outputs": [],
   "source": []
  },
  {
   "cell_type": "code",
   "execution_count": null,
   "metadata": {},
   "outputs": [],
   "source": []
  },
  {
   "cell_type": "code",
   "execution_count": 454,
   "metadata": {},
   "outputs": [],
   "source": [
    "noise_ratio_600_00 = [x for x in noise_ratio]"
   ]
  },
  {
   "cell_type": "code",
   "execution_count": 455,
   "metadata": {
    "scrolled": false
   },
   "outputs": [
    {
     "data": {
      "text/plain": [
       "Text(0,0.5,'Ratio of wrong edges')"
      ]
     },
     "execution_count": 455,
     "metadata": {},
     "output_type": "execute_result"
    },
    {
     "data": {
      "image/png": "[encoded data removed]",
      "text/plain": [
       "<matplotlib.figure.Figure at 0x7f5aee834c18>"
      ]
     },
     "metadata": {},
     "output_type": "display_data"
    }
   ],
   "source": [
    "plt.figure(figsize=(8,5))\n",
    "plt.plot(noise_ratio_200_00, label = 'p = s / (m + s)')\n",
    "plt.plot(noise_ratio_200_02, label = 'p = s / (m + s)')\n",
    "plt.plot(noise_ratio_600_00, label = 'p = s / (5m + s)')\n",
    "# plt.plot(noise_ratio_200_05, label = 'p = s / (0.5m + s)')\n",
    "\n",
    "plt.plot([1/22]*35, label = 'E.coli.1.1 level')\n",
    "\n",
    "\n",
    "plt.legend()\n",
    "plt.xlabel(\"Cycle Number\")\n",
    "plt.ylabel(\"Ratio of wrong edges\")\n",
    "# plt.plot(noise_ratio_200_less_connections)\n",
    "# plt.plot(noise_ratio_400_less_connections)"
   ]
  },
  {
   "cell_type": "code",
   "execution_count": 73,
   "metadata": {},
   "outputs": [],
   "source": [
    "rp = pcr.fp.p[:,::2]"
   ]
  },
  {
   "cell_type": "code",
   "execution_count": 79,
   "metadata": {
    "scrolled": false
   },
   "outputs": [
    {
     "data": {
      "text/plain": [
       "0"
      ]
     },
     "execution_count": 79,
     "metadata": {},
     "output_type": "execute_result"
    }
   ],
   "source": [
    "(rp == 3).sum()"
   ]
  },
  {
   "cell_type": "code",
   "execution_count": 483,
   "metadata": {},
   "outputs": [
    {
     "data": {
      "text/plain": [
       "(598, 63)"
      ]
     },
     "execution_count": 483,
     "metadata": {},
     "output_type": "execute_result"
    }
   ],
   "source": [
    "pcr.bp.p[12:,65:].shape"
   ]
  },
  {
   "cell_type": "code",
   "execution_count": 131,
   "metadata": {},
   "outputs": [
    {
     "data": {
      "text/plain": [
       "0"
      ]
     },
     "execution_count": 131,
     "metadata": {},
     "output_type": "execute_result"
    }
   ],
   "source": [
    "(pcr.fp.p[:,::2] == 3).sum()"
   ]
  },
  {
   "cell_type": "code",
   "execution_count": 135,
   "metadata": {},
   "outputs": [
    {
     "data": {
      "text/plain": [
       "36"
      ]
     },
     "execution_count": 135,
     "metadata": {},
     "output_type": "execute_result"
    }
   ],
   "source": [
    "(pcr.bp.p[:,::2] == 5).sum()"
   ]
  },
  {
   "cell_type": "code",
   "execution_count": 485,
   "metadata": {},
   "outputs": [
    {
     "data": {
      "text/plain": [
       "37674"
      ]
     },
     "execution_count": 485,
     "metadata": {},
     "output_type": "execute_result"
    }
   ],
   "source": [
    " 63 * 598"
   ]
  },
  {
   "cell_type": "code",
   "execution_count": null,
   "metadata": {},
   "outputs": [],
   "source": [
    "plt.plot(products)"
   ]
  },
  {
   "cell_type": "code",
   "execution_count": 457,
   "metadata": {},
   "outputs": [
    {
     "data": {
      "text/plain": [
       "[<matplotlib.lines.Line2D at 0x7f5aee007fd0>]"
      ]
     },
     "execution_count": 457,
     "metadata": {},
     "output_type": "execute_result"
    },
    {
     "data": {
      "image/png": "[encoded data removed]",
      "text/plain": [
       "<matplotlib.figure.Figure at 0x7f5aee0d07b8>"
      ]
     },
     "metadata": {},
     "output_type": "display_data"
    }
   ],
   "source": [
    "plt.plot(total)"
   ]
  },
  {
   "cell_type": "code",
   "execution_count": 456,
   "metadata": {},
   "outputs": [
    {
     "data": {
      "text/plain": [
       "[<matplotlib.lines.Line2D at 0x7f5aee0ac438>]"
      ]
     },
     "execution_count": 456,
     "metadata": {},
     "output_type": "execute_result"
    },
    {
     "data": {
      "image/png": "[encoded data removed]",
      "text/plain": [
       "<matplotlib.figure.Figure at 0x7f5aee0d6898>"
      ]
     },
     "metadata": {},
     "output_type": "display_data"
    }
   ],
   "source": [
    "plt.plot(products)"
   ]
  },
  {
   "cell_type": "code",
   "execution_count": 409,
   "metadata": {
    "scrolled": false
   },
   "outputs": [
    {
     "data": {
      "text/plain": [
       "Text(0,0.5,'Ratio of wrong edges')"
      ]
     },
     "execution_count": 409,
     "metadata": {},
     "output_type": "execute_result"
    },
    {
     "data": {
      "image/png": "[encoded data removed]",
      "text/plain": [
       "<matplotlib.figure.Figure at 0x7f5aee6a89e8>"
      ]
     },
     "metadata": {},
     "output_type": "display_data"
    }
   ],
   "source": [
    "plt.figure(figsize=(8,5))\n",
    "plt.plot(noise_ratio_200_1, label = 'p = s / (m + s)')\n",
    "plt.plot(noise_ratio_200_5, label = 'p = s / (5m + s)')\n",
    "plt.plot(noise_ratio_200_05, label = 'p = s / (0.5m + s)')\n",
    "\n",
    "plt.plot([1/22]*35, label = 'E.coli.1.1 level')\n",
    "\n",
    "\n",
    "plt.legend()\n",
    "plt.xlabel(\"Cycle Number\")\n",
    "plt.ylabel(\"Ratio of wrong edges\")\n",
    "# plt.plot(noise_ratio_200_less_connections)\n",
    "# plt.plot(noise_ratio_400_less_connections)"
   ]
  },
  {
   "cell_type": "code",
   "execution_count": 380,
   "metadata": {
    "scrolled": false
   },
   "outputs": [
    {
     "data": {
      "text/plain": [
       "Text(0,0.5,'Ratio of wrong edges')"
      ]
     },
     "execution_count": 380,
     "metadata": {},
     "output_type": "execute_result"
    },
    {
     "data": {
      "image/png": "[encoded data removed]",
      "text/plain": [
       "<matplotlib.figure.Figure at 0x7f5aee11f2b0>"
      ]
     },
     "metadata": {},
     "output_type": "display_data"
    }
   ],
   "source": [
    "plt.figure(figsize=(8,5))\n",
    "plt.plot(noise_ratio_1200, label = '1200 primers')\n",
    "plt.plot(noise_ratio_800, label = '800 primers')\n",
    "\n",
    "plt.plot(noise_ratio_200, label = '200 primers')\n",
    "plt.plot(noise_ratio_100, label = '100 primers')\n",
    "\n",
    "plt.plot([1/22]*35, label = 'E.coli.1.1 level')\n",
    "\n",
    "\n",
    "plt.legend()\n",
    "plt.xlabel(\"Cycle Number\")\n",
    "plt.ylabel(\"Ratio of wrong edges\")\n",
    "# plt.plot(noise_ratio_200_less_connections)\n",
    "# plt.plot(noise_ratio_400_less_connections)"
   ]
  },
  {
   "cell_type": "code",
   "execution_count": 211,
   "metadata": {},
   "outputs": [
    {
     "data": {
      "image/png": "[encoded data removed]",
      "text/plain": [
       "<matplotlib.figure.Figure at 0x7f5aefb09c50>"
      ]
     },
     "metadata": {},
     "output_type": "display_data"
    }
   ],
   "source": [
    "plot_gr(pcr.to_graph(19), all_ticks=1, log = 1)"
   ]
  },
  {
   "cell_type": "code",
   "execution_count": 320,
   "metadata": {
    "scrolled": false
   },
   "outputs": [
    {
     "data": {
      "image/png": "[encoded data removed]",
      "text/plain": [
       "<matplotlib.figure.Figure at 0x7f12a23d7630>"
      ]
     },
     "metadata": {},
     "output_type": "display_data"
    }
   ],
   "source": [
    "plot_gr(pcr.to_graph(19), all_ticks=1, log = 1)"
   ]
  },
  {
   "cell_type": "code",
   "execution_count": 175,
   "metadata": {
    "scrolled": false
   },
   "outputs": [
    {
     "data": {
      "image/png": "[encoded data removed]",
      "text/plain": [
       "<matplotlib.figure.Figure at 0x7f5aefaca780>"
      ]
     },
     "metadata": {},
     "output_type": "display_data"
    }
   ],
   "source": [
    "plot_gr(np.load(\"../../data/graphs/ES1.npy\")[:19, :19], all_ticks=1, log = 1)"
   ]
  },
  {
   "cell_type": "code",
   "execution_count": 224,
   "metadata": {},
   "outputs": [],
   "source": [
    "gr = pcr.to_graph(19)\n",
    "gr0 = np.load(\"../../data/graphs/ES1.npy\")[:19, :19]"
   ]
  },
  {
   "cell_type": "code",
   "execution_count": 255,
   "metadata": {},
   "outputs": [
    {
     "data": {
      "text/plain": [
       "<matplotlib.legend.Legend at 0x7f5aef66fac8>"
      ]
     },
     "execution_count": 255,
     "metadata": {},
     "output_type": "execute_result"
    },
    {
     "data": {
      "image/png": "[encoded data removed]",
      "text/plain": [
       "<matplotlib.figure.Figure at 0x7f5aeeced208>"
      ]
     },
     "metadata": {},
     "output_type": "display_data"
    }
   ],
   "source": [
    "plt.figure(figsize = (8,5))\n",
    "plt.bar(np.arange(19), gr.max(1) / gr.max(), alpha = 0.7, label = 'simulation')\n",
    "plt.bar(np.arange(19), gr0.max(1) / gr0.max() , alpha = 0.7, label = 'original')\n",
    "_ = plt.xticks(np.arange(0,19,2)) \n",
    "plt.xlabel(\"Spacer Number\")\n",
    "plt.ylabel(\"Maximum outgoing edge weigh normalized\")\n",
    "plt.legend()"
   ]
  },
  {
   "cell_type": "code",
   "execution_count": 257,
   "metadata": {},
   "outputs": [
    {
     "data": {
      "text/plain": [
       "Text(0,0.5,'Maximum incoming edge weigh normalized')"
      ]
     },
     "execution_count": 257,
     "metadata": {},
     "output_type": "execute_result"
    },
    {
     "data": {
      "image/png": "[encoded data removed]",
      "text/plain": [
       "<matplotlib.figure.Figure at 0x7f5aefb03b00>"
      ]
     },
     "metadata": {},
     "output_type": "display_data"
    }
   ],
   "source": [
    "plt.figure(figsize = (8,5))\n",
    "plt.bar(np.arange(19), gr.max(0) / gr.max(), alpha = 0.7, label = 'simulation')\n",
    "plt.bar(np.arange(19), gr0.max(0) / gr0.max() , alpha = 0.7, label = 'oroginal')\n",
    "_ = plt.xticks(np.arange(0,19,2)) \n",
    "plt.xlabel(\"Spacer Number\")\n",
    "plt.ylabel(\"Maximum incoming edge weigh normalized\")"
   ]
  },
  {
   "cell_type": "code",
   "execution_count": 55,
   "metadata": {},
   "outputs": [],
   "source": [
    "grC = np.zeros((19,19))\n",
    "for a,b in zip(p_list_0[0], p_list_0[1][1:]):\n",
    "    grC[a,b] = 1\n",
    "for a,b in zip(p_list_0[9], p_list_0[9][1:]):\n",
    "    grC[a,b] = 1"
   ]
  },
  {
   "cell_type": "code",
   "execution_count": 56,
   "metadata": {},
   "outputs": [
    {
     "name": "stderr",
     "output_type": "stream",
     "text": [
      "/home/anton/anaconda3/lib/python3.6/site-packages/ipykernel_launcher.py:1: RuntimeWarning: divide by zero encountered in double_scalars\n",
      "  \"\"\"Entry point for launching an IPython kernel.\n"
     ]
    },
    {
     "data": {
      "text/plain": [
       "inf"
      ]
     },
     "execution_count": 56,
     "metadata": {},
     "output_type": "execute_result"
    }
   ],
   "source": [
    "gr[grC == 1].sum() / gr[grC != 1].sum()"
   ]
  },
  {
   "cell_type": "code",
   "execution_count": 57,
   "metadata": {},
   "outputs": [
    {
     "ename": "NameError",
     "evalue": "name 'gr0' is not defined",
     "output_type": "error",
     "traceback": [
      "\u001b[0;31m---------------------------------------------------------------------------\u001b[0m",
      "\u001b[0;31mNameError\u001b[0m                                 Traceback (most recent call last)",
      "\u001b[0;32m<ipython-input-57-47c4476df8d5>\u001b[0m in \u001b[0;36m<module>\u001b[0;34m()\u001b[0m\n\u001b[0;32m----> 1\u001b[0;31m \u001b[0mgr0\u001b[0m\u001b[0;34m[\u001b[0m\u001b[0mgrC\u001b[0m \u001b[0;34m==\u001b[0m \u001b[0;36m1\u001b[0m\u001b[0;34m]\u001b[0m\u001b[0;34m.\u001b[0m\u001b[0msum\u001b[0m\u001b[0;34m(\u001b[0m\u001b[0;34m)\u001b[0m \u001b[0;34m/\u001b[0m \u001b[0mgr0\u001b[0m\u001b[0;34m[\u001b[0m\u001b[0mgrC\u001b[0m \u001b[0;34m!=\u001b[0m \u001b[0;36m1\u001b[0m\u001b[0;34m]\u001b[0m\u001b[0;34m.\u001b[0m\u001b[0msum\u001b[0m\u001b[0;34m(\u001b[0m\u001b[0;34m)\u001b[0m\u001b[0;34m\u001b[0m\u001b[0m\n\u001b[0m",
      "\u001b[0;31mNameError\u001b[0m: name 'gr0' is not defined"
     ]
    }
   ],
   "source": [
    "gr0[grC == 1].sum() / gr0[grC != 1].sum()"
   ]
  },
  {
   "cell_type": "code",
   "execution_count": 58,
   "metadata": {
    "scrolled": false
   },
   "outputs": [
    {
     "data": {
      "image/png": "[encoded data removed]",
      "text/plain": [
       "<matplotlib.figure.Figure at 0x7f12a904b390>"
      ]
     },
     "metadata": {},
     "output_type": "display_data"
    }
   ],
   "source": [
    "plot_gr(grC)"
   ]
  },
  {
   "cell_type": "code",
   "execution_count": 298,
   "metadata": {},
   "outputs": [
    {
     "data": {
      "text/plain": [
       "0.045454545454545456"
      ]
     },
     "execution_count": 298,
     "metadata": {},
     "output_type": "execute_result"
    }
   ],
   "source": [
    "1 / 22 "
   ]
  },
  {
   "cell_type": "code",
   "execution_count": null,
   "metadata": {},
   "outputs": [],
   "source": []
  },
  {
   "cell_type": "code",
   "execution_count": null,
   "metadata": {},
   "outputs": [],
   "source": []
  },
  {
   "cell_type": "code",
   "execution_count": 266,
   "metadata": {},
   "outputs": [
    {
     "data": {
      "image/png": "[encoded data removed]",
      "text/plain": [
       "<matplotlib.figure.Figure at 0x7f5aefb09240>"
      ]
     },
     "metadata": {},
     "output_type": "display_data"
    }
   ],
   "source": [
    "plot_gr(pcr.to_graph(19))"
   ]
  },
  {
   "cell_type": "code",
   "execution_count": 277,
   "metadata": {},
   "outputs": [
    {
     "data": {
      "text/plain": [
       "array([0, 0, 1, 0, 0, 0, 0, 0, 0, 0, 0, 0, 0, 0, 0, 0, 1, 0, 0, 0, 0, 0,\n",
       "       0, 0, 0, 0, 0, 0, 0, 0, 0, 0, 0, 0, 0, 0, 0, 1, 1, 0, 0, 1, 1, 0,\n",
       "       0, 0, 0, 0, 0, 0, 0, 0, 0, 0, 0, 1, 0, 0, 0, 1, 0, 0, 0, 0, 0, 1,\n",
       "       0, 1, 0, 0, 0, 0, 0, 0, 0, 0, 0, 0, 0, 0, 0, 0, 0, 0, 0, 0, 0, 0,\n",
       "       0, 0, 0, 0, 0, 0, 0, 1, 1, 0, 0, 0, 0, 0, 0, 0, 0, 0, 0, 0, 0, 1,\n",
       "       0, 0, 0, 0, 0, 0, 1, 1, 0, 0, 0, 0, 0, 0, 0, 0, 0, 0, 0, 0, 0, 0,\n",
       "       0, 0, 0, 0, 0, 0, 0, 0, 0, 0, 1, 0, 0, 0, 0, 0, 0, 0, 0, 0, 0, 1,\n",
       "       0, 1, 0, 0, 1, 0, 0, 0, 0, 0, 0, 0, 0, 0, 0, 0, 0, 0, 0, 0, 1, 0,\n",
       "       1, 0, 0, 0, 5, 0, 0, 0, 1, 0, 0, 0, 0, 0, 0, 0, 0, 0, 0, 0, 0, 0,\n",
       "       0, 0, 0, 0, 0, 0, 1, 0, 0, 0, 0, 0, 0, 0, 0, 0, 0, 0, 0, 0, 0, 0,\n",
       "       0, 0, 0, 0, 0, 0, 0, 0, 0, 0, 1, 0, 0, 0, 0, 0, 0, 0, 0, 0, 0, 0,\n",
       "       0, 1, 0, 0, 0, 0, 1, 1, 0, 0, 0, 0, 0, 0, 0, 0, 0, 0, 0, 0, 0, 0,\n",
       "       1, 1, 0, 0, 1, 0, 1, 0, 0, 0, 0, 0, 0, 1, 0, 0, 0, 0, 0, 0, 0, 0,\n",
       "       0, 0, 0, 0, 0, 0, 0, 0, 0, 0, 0, 0, 0, 0, 0, 0, 0, 0, 0, 0, 0, 0,\n",
       "       0, 0, 0, 0, 0, 0, 1, 0, 0, 0, 0, 0, 0, 0, 0, 0, 0, 0, 0, 0, 0, 0,\n",
       "       0, 1, 1, 0, 0, 0, 0, 0, 0, 0, 0, 0, 4, 0, 0, 0, 0, 0, 0, 0, 0, 0,\n",
       "       0, 0, 0, 1, 0, 0, 0, 0, 0, 0, 0, 0, 0, 0, 1, 0, 0, 0, 0, 0, 0, 0,\n",
       "       0, 1, 0, 0, 0, 0, 0, 0, 0, 0, 0, 1, 0, 1, 0, 1, 0, 1, 1, 0, 0, 0,\n",
       "       0, 0, 0, 0, 0, 0, 0, 1, 0, 0, 0, 0, 0, 0, 0, 0, 1, 0, 0, 0, 0, 1,\n",
       "       0, 0, 0, 0, 0, 0, 0, 0, 0, 0, 0, 0, 0, 0, 0, 0, 0, 0, 0, 0, 0, 0,\n",
       "       1, 0, 0, 0, 0, 0, 0, 1, 0, 1, 0, 0, 0, 0, 1, 0, 0, 0, 0, 0, 0, 1,\n",
       "       0, 0, 0, 0, 0, 0, 0, 0, 0, 0, 0, 0, 0, 0, 0, 1, 0, 0, 0, 0, 0, 0,\n",
       "       1, 0, 0, 0, 0, 1, 0, 0, 0, 0, 0, 0, 0, 0, 0, 0, 0, 0, 0, 0, 1, 0,\n",
       "       0, 1, 0, 0, 0, 0, 0, 0, 0, 0, 0, 0, 0, 0, 0, 0, 0, 0, 0, 0, 0, 0,\n",
       "       0, 0, 0, 0, 0, 0, 0, 0, 0, 0, 0, 0, 0, 0, 0, 0, 1, 0, 0, 0, 0, 0,\n",
       "       0, 1, 0, 0, 0, 0, 0, 0, 0, 0, 0, 0, 0, 0, 0, 0, 0, 0, 0, 1, 0, 0,\n",
       "       0, 0, 0, 0, 0, 0, 0, 0, 1, 0, 0, 0, 0, 0, 0, 0, 0, 0, 0, 0, 0, 0,\n",
       "       0, 0, 0, 0, 0, 1, 0, 0, 0, 0, 0, 0, 1, 1, 1, 0, 0, 0, 1, 0, 0, 0,\n",
       "       0, 0, 0, 1, 0, 0, 0, 0, 0, 0, 0, 0, 0, 0, 0, 0, 0, 0, 0, 1, 1, 0,\n",
       "       0, 0, 0, 0, 0, 0, 0, 0, 0, 0, 0, 0, 1, 0, 0, 0, 0, 0, 0, 0, 1, 1,\n",
       "       0, 1, 1, 1, 0, 1, 0, 0, 0, 0, 0, 0, 0, 0, 0, 0, 0, 0, 0, 0, 1, 0,\n",
       "       0, 1, 0, 0, 0, 0, 0, 1, 0, 0, 0, 0, 0, 0, 0, 0, 0, 1, 1, 0, 0, 0,\n",
       "       0, 0, 0, 0, 0, 0, 1, 0, 0, 0, 0, 0, 1, 0, 0, 5, 0, 0, 1, 0, 0, 0,\n",
       "       0, 0, 0, 0, 0, 0, 1, 0, 0, 0, 1, 0, 0, 0, 1, 0, 0, 0, 0, 0, 1, 0,\n",
       "       0, 0, 0, 1, 0, 0, 0, 0, 0, 1, 0, 0, 0, 0, 0, 0, 0, 0, 0, 1, 0, 0,\n",
       "       1, 0, 0, 0, 0, 1, 1, 1, 0, 0, 0, 0, 0, 0, 0, 0, 0, 0, 0, 0, 0, 0,\n",
       "       0, 0, 0, 0, 0, 1, 1, 0, 1, 0, 0, 0, 1, 1, 0, 0, 0, 0])"
      ]
     },
     "execution_count": 277,
     "metadata": {},
     "output_type": "execute_result"
    }
   ],
   "source": [
    "pcr.fp.p[:, 64]"
   ]
  },
  {
   "cell_type": "code",
   "execution_count": 278,
   "metadata": {},
   "outputs": [
    {
     "data": {
      "text/plain": [
       "array([0, 0, 0, 0, 0, 0, 0, 0, 0, 0, 2, 3, 2, 3, 2, 3, 2, 3, 2, 3, 2, 3,\n",
       "       2, 3, 2, 3, 2, 3, 2, 3, 2, 3, 2, 3, 2, 3, 2, 3, 2, 3, 2, 3, 2, 3,\n",
       "       2, 3, 2, 3, 2, 3, 2, 3, 2, 3, 2, 3, 2, 3, 2, 3, 2, 3, 2, 3, 2, 3,\n",
       "       2, 3, 2, 3, 2, 3, 2, 3, 2, 3, 2, 3, 2, 3, 2, 3, 2, 3, 2, 3, 2, 3,\n",
       "       2, 3, 2, 3, 2, 3, 2, 3, 2, 3, 2, 3, 2, 3, 2, 3, 2, 3, 2, 3, 2, 3,\n",
       "       2, 3, 2, 3, 2, 3, 2, 3, 2, 3, 2, 3, 2, 3, 2, 3, 2, 3, 2, 3, 2, 3,\n",
       "       2, 3, 2, 3, 2, 3, 2, 3, 2, 3, 2, 3, 2, 3, 2, 3, 2, 3, 2, 3, 2, 3,\n",
       "       2, 3, 2, 3, 2, 3, 2, 3, 2, 3, 2, 3, 2, 3, 2, 3, 2, 3, 2, 3, 2, 3,\n",
       "       2, 3, 2, 3, 2, 3, 2, 3, 2, 3, 2, 3, 2, 3, 2, 3, 2, 3, 2, 3, 2, 3,\n",
       "       2, 3, 2, 3, 2, 3, 2, 3, 2, 3, 2, 3, 2, 3, 2, 3, 2, 3, 2, 3, 2, 3,\n",
       "       2, 3, 2, 3, 2, 3, 2, 3, 2, 3, 2, 3, 2, 3, 2, 3, 2, 3, 2, 3, 2, 3,\n",
       "       2, 3, 2, 3, 2, 3, 2, 3, 2, 3, 2, 3, 2, 3, 2, 3, 2, 3, 2, 3, 2, 3,\n",
       "       2, 3, 2, 3, 2, 3, 2, 3, 2, 3, 2, 3, 2, 3, 2, 3, 2, 3, 2, 3, 2, 3,\n",
       "       2, 3, 2, 3, 2, 3, 2, 3, 2, 3, 2, 3, 2, 3, 2, 3, 2, 3, 2, 3, 2, 3,\n",
       "       2, 3, 2, 3, 2, 3, 2, 3, 2, 3, 2, 3, 2, 3, 2, 3, 2, 3, 2, 3, 2, 3,\n",
       "       2, 3, 2, 3, 2, 3, 2, 3, 2, 3, 2, 3, 2, 3, 2, 3, 2, 3, 2, 3, 2, 3,\n",
       "       2, 3, 2, 3, 2, 3, 2, 3, 2, 3, 2, 3, 2, 3, 2, 3, 2, 3, 2, 3, 2, 3,\n",
       "       2, 3, 2, 3, 2, 3, 2, 3, 2, 3, 2, 3, 2, 3, 2, 3, 2, 3, 2, 3, 2, 3,\n",
       "       2, 3, 2, 3, 2, 3, 2, 3, 2, 3, 2, 3, 2, 3, 2, 3, 2, 3, 2, 3, 2, 3,\n",
       "       2, 3, 2, 3, 2, 3, 2, 3, 2, 3, 2, 3, 2, 3, 2, 3, 2, 3, 2, 3, 2, 3,\n",
       "       2, 3, 2, 3, 2, 3, 2, 3, 2, 3, 2, 3, 2, 3, 2, 3, 2, 3, 2, 3, 2, 3,\n",
       "       2, 3, 2, 3, 2, 3, 2, 3, 2, 3, 2, 3, 2, 3, 2, 3, 2, 3, 2, 3, 2, 3,\n",
       "       2, 3, 2, 3, 2, 3, 2, 3, 2, 3, 2, 3, 2, 3, 2, 3, 2, 3, 2, 3, 2, 3,\n",
       "       2, 3, 2, 3, 2, 3, 2, 3, 2, 3, 2, 3, 2, 3, 2, 3, 2, 3, 2, 3, 2, 3,\n",
       "       2, 3, 2, 3, 2, 3, 2, 3, 2, 3, 2, 3, 2, 3, 2, 3, 2, 3, 2, 3, 2, 3,\n",
       "       2, 3, 2, 3, 2, 3, 2, 3, 2, 3, 2, 3, 2, 3, 2, 3, 2, 3, 2, 3, 2, 3,\n",
       "       2, 3, 2, 3, 2, 3, 2, 3, 2, 3, 2, 3, 2, 3, 2, 3, 2, 3, 2, 3, 2, 3,\n",
       "       2, 3, 2, 3, 2, 3, 2, 3, 2, 3, 2, 3, 2, 3, 2, 3, 2, 3, 2, 3, 2, 3,\n",
       "       2, 3, 2, 3, 2, 3, 2, 3, 2, 3, 2, 3, 2, 3, 2, 3, 2, 3, 2, 3, 2, 3,\n",
       "       2, 3, 2, 3, 2, 3, 2, 3, 2, 3, 2, 3, 2, 3, 2, 3, 2, 3, 2, 3, 2, 3,\n",
       "       2, 3, 2, 3, 2, 3, 2, 3, 2, 3, 2, 3, 2, 3, 2, 3, 2, 3, 2, 3, 2, 3,\n",
       "       2, 3, 2, 3, 2, 3, 2, 3, 2, 3, 2, 3, 2, 3, 2, 3, 2, 3, 2, 3, 2, 3,\n",
       "       2, 3, 2, 3, 2, 3, 2, 3, 2, 3, 2, 3, 2, 3, 2, 3, 2, 3, 2, 3, 2, 3,\n",
       "       2, 3, 2, 3, 2, 3, 2, 3, 2, 3, 2, 3, 2, 3, 2, 3, 2, 3, 2, 3, 2, 3,\n",
       "       2, 3, 2, 3, 2, 3, 2, 3, 2, 3, 2, 3, 2, 3, 2, 3, 2, 3, 2, 3, 2, 3,\n",
       "       2, 3, 2, 3, 2, 3, 2, 3, 2, 3, 2, 3, 2, 3, 2, 3, 2, 3, 2, 3, 2, 3,\n",
       "       2, 3, 2, 3, 2, 3, 2, 3, 2, 3, 2, 3, 2, 3, 2, 3, 2, 3])"
      ]
     },
     "execution_count": 278,
     "metadata": {},
     "output_type": "execute_result"
    }
   ],
   "source": [
    "fp.p[:, 64]"
   ]
  },
  {
   "cell_type": "code",
   "execution_count": null,
   "metadata": {},
   "outputs": [],
   "source": []
  },
  {
   "cell_type": "code",
   "execution_count": null,
   "metadata": {},
   "outputs": [],
   "source": []
  },
  {
   "cell_type": "code",
   "execution_count": 322,
   "metadata": {},
   "outputs": [
    {
     "data": {
      "text/plain": [
       "array([1.0311e+04, 1.0000e+00, 9.8050e+03, 3.1970e+03, 8.1470e+03,\n",
       "       7.7530e+03, 7.1440e+03, 7.1760e+03, 5.0400e+02, 3.7630e+03,\n",
       "       3.2000e+02, 3.1660e+03, 2.0670e+03, 3.0260e+03, 2.6480e+03,\n",
       "       2.1360e+03, 2.6270e+03, 2.5500e+03, 0.0000e+00])"
      ]
     },
     "execution_count": 322,
     "metadata": {},
     "output_type": "execute_result"
    }
   ],
   "source": [
    "gr0.max(1)"
   ]
  },
  {
   "cell_type": "code",
   "execution_count": 337,
   "metadata": {
    "scrolled": false
   },
   "outputs": [
    {
     "data": {
      "image/png": "[encoded data removed]",
      "text/plain": [
       "<matplotlib.figure.Figure at 0x7f5aee70fc88>"
      ]
     },
     "metadata": {},
     "output_type": "display_data"
    }
   ],
   "source": [
    "plt.plot(products)\n",
    "plt.show()"
   ]
  },
  {
   "cell_type": "code",
   "execution_count": 338,
   "metadata": {},
   "outputs": [
    {
     "data": {
      "image/png": "[encoded data removed]",
      "text/plain": [
       "<matplotlib.figure.Figure at 0x7f5aeeb7e128>"
      ]
     },
     "metadata": {},
     "output_type": "display_data"
    }
   ],
   "source": [
    "plt.plot(total)\n",
    "plt.show()"
   ]
  },
  {
   "cell_type": "code",
   "execution_count": 137,
   "metadata": {},
   "outputs": [
    {
     "data": {
      "text/plain": [
       "array([  2.,   1.,   3.,   1.,   2.,   2.,   3.,   4.,   0.,   1.,   0.,\n",
       "         2.,   1.,   0.,   3.,   6.,   3.,   5., 320.,   0.,   0.,   0.,\n",
       "         0.,   0.,   0.,   0.,   0.,   0.,   0.,   0.,   0.,   0.,   0.,\n",
       "         0.,   0.,   0.,   0.,   0.,   0.,   0.,   0.,   0.,   0.,   0.,\n",
       "         0.,   0.,   0.,   0.,   0.,   0.,   0.,   0.,   0.,   0.,   0.])"
      ]
     },
     "execution_count": 137,
     "metadata": {},
     "output_type": "execute_result"
    }
   ],
   "source": [
    "np.load(\"../../data/graphs/ES1.npy\")[10]"
   ]
  },
  {
   "cell_type": "code",
   "execution_count": null,
   "metadata": {},
   "outputs": [],
   "source": []
  }
 ],
 "metadata": {
  "kernelspec": {
   "display_name": "Python 3",
   "language": "python",
   "name": "python3"
  },
  "language_info": {
   "codemirror_mode": {
    "name": "ipython",
    "version": 3
   },
   "file_extension": ".py",
   "mimetype": "text/x-python",
   "name": "python",
   "nbconvert_exporter": "python",
   "pygments_lexer": "ipython3",
   "version": "3.6.3"
  }
 },
 "nbformat": 4,
 "nbformat_minor": 2
}
