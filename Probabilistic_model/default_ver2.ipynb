{
 "cells": [
  {
   "cell_type": "code",
   "execution_count": 1,
   "metadata": {},
   "outputs": [],
   "source": [
    "import numpy as np\n",
    "import matplotlib.pyplot as plt\n",
    "\n",
    "from tqdm import tqdm_notebook"
   ]
  },
  {
   "cell_type": "code",
   "execution_count": 2,
   "metadata": {},
   "outputs": [],
   "source": [
    "import pickle\n",
    "import json"
   ]
  },
  {
   "cell_type": "code",
   "execution_count": 3,
   "metadata": {},
   "outputs": [],
   "source": [
    "def plot_gr(gr, start=0, end=-1, log = False, all_ticks = False,  s=10):\n",
    "    plt.figure(figsize=(s,s))\n",
    "    if end == -1:\n",
    "        end = gr.shape[0]\n",
    "    if log:\n",
    "        plt.imshow(np.log(gr[start:end,start:end] + 1))\n",
    "    else:\n",
    "        plt.imshow(gr[start:end,start:end])\n",
    "    plt.colorbar()\n",
    "    if all_ticks: \n",
    "        plt.xticks(np.arange(start,end))\n",
    "        plt.yticks(np.arange(start,end))\n",
    "    plt.show()"
   ]
  },
  {
   "cell_type": "code",
   "execution_count": 6,
   "metadata": {},
   "outputs": [],
   "source": [
    "gr_tr = np.load(\"../../data/graphs/ES3_22.npy\")\n",
    "nd = pickle.load(open(\"../../data/dicts/ES3_nd\", 'rb'))\n",
    "cl_to_n = pickle.load(open(\"../../data/dicts/ES3_cl_to_n\", 'rb'))"
   ]
  },
  {
   "cell_type": "code",
   "execution_count": 12,
   "metadata": {
    "collapsed": true
   },
   "outputs": [
    {
     "name": "stdout",
     "output_type": "stream",
     "text": [
      "0 28374\n",
      "1 20414\n",
      "2 14353\n",
      "3 13974\n",
      "4 11315\n",
      "5 8389\n",
      "6 7672\n",
      "7 6864\n",
      "8 6274\n",
      "9 4979\n",
      "10 3798\n",
      "11 3740\n",
      "12 3707\n",
      "13 2920\n",
      "14 2764\n",
      "15 2611\n",
      "16 2390\n",
      "17 1913\n",
      "18 436\n",
      "19 331\n",
      "20 329\n",
      "21 195\n",
      "22 192\n",
      "23 173\n",
      "24 163\n",
      "25 158\n",
      "26 129\n",
      "27 123\n",
      "28 109\n",
      "29 92\n",
      "30 89\n",
      "31 87\n",
      "32 68\n",
      "33 56\n",
      "34 17\n",
      "35 5\n",
      "36 3\n",
      "37 2\n",
      "38 2\n",
      "39 2\n",
      "40 2\n",
      "41 1\n",
      "42 1\n",
      "43 2\n",
      "44 1\n",
      "45 2\n",
      "46 1\n",
      "47 1\n",
      "48 1\n",
      "49 1\n",
      "50 1\n",
      "51 1\n",
      "52 4\n",
      "53 1\n",
      "54 1\n",
      "55 1\n",
      "56 1\n",
      "57 1\n",
      "58 1\n",
      "59 2\n",
      "60 1\n",
      "61 3\n",
      "62 1\n",
      "63 1\n",
      "64 1\n",
      "65 1\n",
      "66 1\n",
      "67 2\n",
      "68 1\n",
      "69 1\n",
      "70 1\n",
      "71 1\n"
     ]
    }
   ],
   "source": [
    "values = []\n",
    "for k,v in nd.items():\n",
    "    print(cl_to_n[k], v)\n",
    "    values.append(v)"
   ]
  },
  {
   "cell_type": "code",
   "execution_count": 17,
   "metadata": {},
   "outputs": [
    {
     "data": {
      "text/plain": [
       "[28374,\n",
       " 20414,\n",
       " 14353,\n",
       " 13974,\n",
       " 11315,\n",
       " 8389,\n",
       " 7672,\n",
       " 6864,\n",
       " 6274,\n",
       " 4979,\n",
       " 3798,\n",
       " 3740,\n",
       " 3707,\n",
       " 2920,\n",
       " 2764,\n",
       " 2611,\n",
       " 2390]"
      ]
     },
     "execution_count": 17,
     "metadata": {},
     "output_type": "execute_result"
    }
   ],
   "source": [
    "values[:17]"
   ]
  },
  {
   "cell_type": "code",
   "execution_count": null,
   "metadata": {},
   "outputs": [],
   "source": [
    "[1, 0, 3, 6, 8, 9, 10, 13, 14, 15, 17, 12, 16],\n",
    " [4, 2, 5, 7, 11]"
   ]
  },
  {
   "cell_type": "code",
   "execution_count": 16,
   "metadata": {},
   "outputs": [
    {
     "data": {
      "image/png": "[encoded data removed]",
      "text/plain": [
       "<matplotlib.figure.Figure at 0x7fd4f6c54f28>"
      ]
     },
     "metadata": {},
     "output_type": "display_data"
    }
   ],
   "source": [
    "plt.plot(values[:17])\n",
    "plt.show()"
   ]
  },
  {
   "cell_type": "code",
   "execution_count": 15,
   "metadata": {},
   "outputs": [
    {
     "data": {
      "image/png": "[encoded data removed]",
      "text/plain": [
       "<matplotlib.figure.Figure at 0x7fd4f6d35978>"
      ]
     },
     "metadata": {},
     "output_type": "display_data"
    }
   ],
   "source": [
    "plot_gr(gr_tr[:35,:35], log=1)"
   ]
  },
  {
   "cell_type": "code",
   "execution_count": 18,
   "metadata": {},
   "outputs": [],
   "source": [
    "from nltk import ngrams"
   ]
  },
  {
   "cell_type": "code",
   "execution_count": 19,
   "metadata": {},
   "outputs": [
    {
     "data": {
      "text/plain": [
       "array([0, 1, 0, 1, 0, 1, 0, 1, 0, 1])"
      ]
     },
     "execution_count": 19,
     "metadata": {},
     "output_type": "execute_result"
    }
   ],
   "source": [
    "np.random.binomial(1, 0.5, 10)"
   ]
  },
  {
   "cell_type": "code",
   "execution_count": 20,
   "metadata": {},
   "outputs": [],
   "source": [
    "SWITCH_PROB = 0.2\n",
    "AMPLIFY_PROB = 1.\n",
    "STOP_PROB = 0\n",
    "MAX_LEN = 5"
   ]
  },
  {
   "cell_type": "code",
   "execution_count": 21,
   "metadata": {},
   "outputs": [
    {
     "data": {
      "text/plain": [
       "array([[ 0.,  1.,  2.,  3.,  4.,  5., -1.],\n",
       "       [ 1.,  7.,  8.,  9., 10., 11., -1.],\n",
       "       [ 2., 13., 14., 15., 16., 17., -1.]])"
      ]
     },
     "execution_count": 21,
     "metadata": {},
     "output_type": "execute_result"
    }
   ],
   "source": [
    "MAX_LEN = 6\n",
    "population = np.ones((3,MAX_LEN + 1)) * -1\n",
    "population[0,0:6] = np.arange(0,6)\n",
    "population[0,0] = 0\n",
    "population[1,0:6] = np.arange(6,12)\n",
    "population[1,0] = 1\n",
    "population[2,0:6] = np.arange(12,18)\n",
    "population[2,0] = 2\n",
    "population"
   ]
  },
  {
   "cell_type": "code",
   "execution_count": 22,
   "metadata": {},
   "outputs": [
    {
     "ename": "NameError",
     "evalue": "name 'reverse_population' is not defined",
     "output_type": "error",
     "traceback": [
      "\u001b[0;31m---------------------------------------------------------------------------\u001b[0m",
      "\u001b[0;31mNameError\u001b[0m                                 Traceback (most recent call last)",
      "\u001b[0;32m<ipython-input-22-f3e05237298e>\u001b[0m in \u001b[0;36m<module>\u001b[0;34m()\u001b[0m\n\u001b[1;32m      1\u001b[0m \u001b[0mpopulation_f\u001b[0m \u001b[0;34m=\u001b[0m \u001b[0mpopulation\u001b[0m\u001b[0;34m.\u001b[0m\u001b[0mcopy\u001b[0m\u001b[0;34m(\u001b[0m\u001b[0;34m)\u001b[0m\u001b[0;34m\u001b[0m\u001b[0m\n\u001b[0;32m----> 2\u001b[0;31m \u001b[0mpopulation_b\u001b[0m \u001b[0;34m=\u001b[0m \u001b[0mreverse_population\u001b[0m\u001b[0;34m(\u001b[0m\u001b[0mpopulation_f\u001b[0m\u001b[0;34m)\u001b[0m\u001b[0;34m\u001b[0m\u001b[0m\n\u001b[0m",
      "\u001b[0;31mNameError\u001b[0m: name 'reverse_population' is not defined"
     ]
    }
   ],
   "source": [
    "population_f = population.copy()\n",
    "population_b = reverse_population(population_f)"
   ]
  },
  {
   "cell_type": "code",
   "execution_count": 23,
   "metadata": {
    "scrolled": true
   },
   "outputs": [
    {
     "ename": "NameError",
     "evalue": "name 'single_amplify' is not defined",
     "output_type": "error",
     "traceback": [
      "\u001b[0;31m---------------------------------------------------------------------------\u001b[0m",
      "\u001b[0;31mNameError\u001b[0m                                 Traceback (most recent call last)",
      "\u001b[0;32m<ipython-input-23-0cb0f5699fc1>\u001b[0m in \u001b[0;36m<module>\u001b[0;34m()\u001b[0m\n\u001b[0;32m----> 1\u001b[0;31m \u001b[0msingle_amplify\u001b[0m\u001b[0;34m(\u001b[0m\u001b[0mpopulation_f\u001b[0m\u001b[0;34m,\u001b[0m \u001b[0mnp\u001b[0m\u001b[0;34m.\u001b[0m\u001b[0mones\u001b[0m\u001b[0;34m(\u001b[0m\u001b[0;36m3\u001b[0m\u001b[0;34m)\u001b[0m\u001b[0;34m,\u001b[0m \u001b[0;36m1\u001b[0m\u001b[0;34m,\u001b[0m\u001b[0;36m1\u001b[0m\u001b[0;34m)\u001b[0m\u001b[0;34m\u001b[0m\u001b[0m\n\u001b[0m",
      "\u001b[0;31mNameError\u001b[0m: name 'single_amplify' is not defined"
     ]
    }
   ],
   "source": [
    "single_amplify(population_f, np.ones(3), 1,1)"
   ]
  },
  {
   "cell_type": "code",
   "execution_count": 24,
   "metadata": {
    "scrolled": false
   },
   "outputs": [
    {
     "data": {
      "text/plain": [
       "array([[ 0.,  1.,  2.,  3.,  4.,  5., -1.],\n",
       "       [ 1.,  7.,  8.,  9., 10., 11., -1.],\n",
       "       [ 2., 13., 14., 15., 16., 17., -1.]])"
      ]
     },
     "execution_count": 24,
     "metadata": {},
     "output_type": "execute_result"
    }
   ],
   "source": [
    "population_f"
   ]
  },
  {
   "cell_type": "code",
   "execution_count": 25,
   "metadata": {
    "scrolled": true
   },
   "outputs": [
    {
     "ename": "NameError",
     "evalue": "name 'population_b' is not defined",
     "output_type": "error",
     "traceback": [
      "\u001b[0;31m---------------------------------------------------------------------------\u001b[0m",
      "\u001b[0;31mNameError\u001b[0m                                 Traceback (most recent call last)",
      "\u001b[0;32m<ipython-input-25-59ab92ddcaeb>\u001b[0m in \u001b[0;36m<module>\u001b[0;34m()\u001b[0m\n\u001b[0;32m----> 1\u001b[0;31m \u001b[0mpopulation_b\u001b[0m\u001b[0;34m\u001b[0m\u001b[0m\n\u001b[0m",
      "\u001b[0;31mNameError\u001b[0m: name 'population_b' is not defined"
     ]
    }
   ],
   "source": [
    "population_b"
   ]
  },
  {
   "cell_type": "code",
   "execution_count": 26,
   "metadata": {},
   "outputs": [
    {
     "ename": "NameError",
     "evalue": "name 'PCR_cycle' is not defined",
     "output_type": "error",
     "traceback": [
      "\u001b[0;31m---------------------------------------------------------------------------\u001b[0m",
      "\u001b[0;31mNameError\u001b[0m                                 Traceback (most recent call last)",
      "\u001b[0;32m<ipython-input-26-6df3e3b11510>\u001b[0m in \u001b[0;36m<module>\u001b[0;34m()\u001b[0m\n\u001b[0;32m----> 1\u001b[0;31m \u001b[0mpopulation_f\u001b[0m\u001b[0;34m,\u001b[0m \u001b[0mpopulation_b\u001b[0m \u001b[0;34m=\u001b[0m \u001b[0mPCR_cycle\u001b[0m\u001b[0;34m(\u001b[0m\u001b[0mpopulation_f\u001b[0m\u001b[0;34m,\u001b[0m \u001b[0mpopulation_b\u001b[0m\u001b[0;34m,\u001b[0m \u001b[0mnp\u001b[0m\u001b[0;34m.\u001b[0m\u001b[0marray\u001b[0m\u001b[0;34m(\u001b[0m\u001b[0;34m[\u001b[0m\u001b[0;36m1\u001b[0m\u001b[0;34m,\u001b[0m\u001b[0;36m1\u001b[0m\u001b[0;34m,\u001b[0m\u001b[0;36m1\u001b[0m\u001b[0;34m]\u001b[0m\u001b[0;34m)\u001b[0m\u001b[0;34m)\u001b[0m\u001b[0;34m\u001b[0m\u001b[0m\n\u001b[0m",
      "\u001b[0;31mNameError\u001b[0m: name 'PCR_cycle' is not defined"
     ]
    }
   ],
   "source": [
    "population_f, population_b = PCR_cycle(population_f, population_b, np.array([1,1,1]))"
   ]
  },
  {
   "cell_type": "code",
   "execution_count": 27,
   "metadata": {},
   "outputs": [],
   "source": [
    "def reverse_population(p):\n",
    "    p_b = p.copy()\n",
    "    for i in range(p.shape[0]):\n",
    "        length = (p[i] != -1).sum() - 1\n",
    "        \n",
    "        p_b[i,1:length + 1] = p[i,1:length + 1][::-1]\n",
    "    return p_b"
   ]
  },
  {
   "cell_type": "code",
   "execution_count": null,
   "metadata": {},
   "outputs": [],
   "source": []
  },
  {
   "cell_type": "code",
   "execution_count": 28,
   "metadata": {},
   "outputs": [],
   "source": [
    "def PCR_cycle(population_f, population_b, switch_weights):       \n",
    "    new_f = single_amplify(population_f, switch_weights, reverse=0)\n",
    "    #new_b = single_amplify(population_f, switch_weights)\n",
    "    \n",
    "    population_f = np.vstack((population_f, new_f))\n",
    "    #population_b = np.vstack((population_b, new_b))\n",
    "    \n",
    "    return population_f, population_b"
   ]
  },
  {
   "cell_type": "code",
   "execution_count": 29,
   "metadata": {},
   "outputs": [],
   "source": [
    "def generate_initial_population(spacers_num, chain_number=2, max_amount_per_chain = 2, min_len = 4, v = False):\n",
    "    # markov is our god! \n",
    "    graph = np.zeros((spacers_num, spacers_num))\n",
    "    for i in range(spacers_num):\n",
    "        for j in range(spacers_num -1, i, -1):\n",
    "            graph[i,j] = spacers_num - j\n",
    "\n",
    "    if v:\n",
    "        plot_gr(graph)\n",
    "        \n",
    "    graph /= np.max(np.vstack((graph.sum(1), np.ones(spacers_num))), 0).reshape(-1,1)\n",
    "    all_chains = []\n",
    "    while len(all_chains) < chain_number:\n",
    "        chain = []\n",
    "        amount = np.random.randint(1, max_amount_per_chain)\n",
    "        max_len = max([np.random.randint(min_len,spacers_num + 1) for i in range(3)])\n",
    "        curr = np.random.randint(0, (spacers_num - 1) / 2 )\n",
    "\n",
    "        for j in range(max_len):\n",
    "            chain.append(curr)\n",
    "            if curr != spacers_num - 1:\n",
    "                #print(np.arange(spacers_num), graph[curr])\n",
    "                curr = np.random.choice(np.arange(spacers_num), 1, p = graph[curr])[0]\n",
    "            else:\n",
    "                break\n",
    "        \n",
    "        if len(chain) > min_len:\n",
    "            all_chains.extend([chain for k in range(amount)])\n",
    "    \n",
    "    return all_chains[:chain_number]"
   ]
  },
  {
   "cell_type": "code",
   "execution_count": 30,
   "metadata": {},
   "outputs": [],
   "source": [
    "def population_from_list_of_lists(list_of_lists, cassettes_types = None, multiplier = 1):\n",
    "    max_len = max([len(x) for x in list_of_lists])\n",
    "    population_f = np.ones((len(list_of_lists), max_len + 1)) * (-1)\n",
    "    population_b = np.ones((len(list_of_lists), max_len + 1)) * (-1)\n",
    "    for i,l in enumerate(list_of_lists):\n",
    "        population_f[i, 1:len(l) + 1] = np.array(l)\n",
    "        population_b[i, 1:len(l) + 1] = np.array(l[::-1])\n",
    "        \n",
    "    if cassettes_types is not None:\n",
    "        population_f[:,0],population_b[:,0] = [np.array(cassettes_types)]*2\n",
    "        \n",
    "    else:\n",
    "        population_f[:,0],population_b[:,0] = [0]*2\n",
    "    \n",
    "    if multiplier > 1:\n",
    "        population_f = np.vstack([population_f] * multiplier)\n",
    "        population_b = np.vstack([population_b] * multiplier)\n",
    "    return population_f, population_b, max_len\n",
    "        "
   ]
  },
  {
   "cell_type": "code",
   "execution_count": 31,
   "metadata": {},
   "outputs": [],
   "source": [
    "population_as_list = [[1, 0, 3, 6, 8, 9, 10, 13, 14, 15, 17, 12, 16] for i in range(5)] + \\\n",
    "               [[4, 2, 5, 7, 11] for i in range(5)] + \\\n",
    "               [[24, 19, 18, 25, 30, 27, 26, 28, 31, 32, 33, 34]] + \\\n",
    "               [[20, 22, 23, 21, 29]]\n",
    "\n",
    "pairs_1 = set([x for y in population_as_list[:10] for x in ngrams(y, 2)])\n",
    "pairs_2 = set([x for y in population_as_list[10:] for x in ngrams(y, 2)])"
   ]
  },
  {
   "cell_type": "code",
   "execution_count": 32,
   "metadata": {},
   "outputs": [],
   "source": [
    "all_ratios_plots = []"
   ]
  },
  {
   "cell_type": "code",
   "execution_count": 33,
   "metadata": {},
   "outputs": [
    {
     "data": {
      "text/plain": [
       "array([2, 1, 1, 2, 1, 2, 2, 2, 2, 1])"
      ]
     },
     "execution_count": 33,
     "metadata": {},
     "output_type": "execute_result"
    }
   ],
   "source": [
    "np.random.randint(1,3,10)"
   ]
  },
  {
   "cell_type": "code",
   "execution_count": 34,
   "metadata": {},
   "outputs": [],
   "source": [
    "def single_amplify(all_population, switch_weights, reverse = True, v = False): \n",
    "    mask = np.random.binomial(1, AMPLIFY_PROB, all_population.shape[0]).astype(bool)\n",
    "    population_to_amplify = all_population[mask] \n",
    "    new = np.ones((population_to_amplify.shape[0], MAX_LEN + 1)) * (-1)\n",
    "    \n",
    "    if v:\n",
    "        print(mask)\n",
    "        print(population_to_amplify)\n",
    "    \n",
    "    i = 0\n",
    "    for chain in population_to_amplify:\n",
    "        source_len = (chain != -1).sum() - 1 \n",
    "        to_start = False\n",
    "        start = 0\n",
    "        while not to_start and start < source_len:\n",
    "            start += 1\n",
    "            if np.random.random() < START_PROB:\n",
    "                to_start = True\n",
    "        if v: print(\"start : \", start)\n",
    "            \n",
    "        #start = np.random.randint(1, source_len + 1 - 1)\n",
    "        stop = False\n",
    "#        end = np.random.randint(start + 1, source_len + 1)\n",
    "        \n",
    "        \n",
    "        pointer_new = 1\n",
    "        pointer_source = start\n",
    "        \n",
    "        new[i,0] = chain[0]\n",
    "        \n",
    "        while not stop:            \n",
    "            new[i,pointer_new] = chain[pointer_source]\n",
    "            \n",
    "            pointer_new += 1\n",
    "            pointer_source += 1\n",
    "            \n",
    "            switch = np.random.rand() < SWITCH_PROB\n",
    "            \n",
    "            if v:\n",
    "                print(chain, new[i], switch)\n",
    "            if switch:\n",
    "                mask = np.zeros(1)\n",
    "                while mask.sum() ==0:\n",
    "                    chain_type = np.random.choice(np.arange(switch_weights.shape[0]), p = switch_weights / switch_weights.sum())\n",
    "                    mask = population_to_amplify[:, 0] == chain_type\n",
    "\n",
    "                chain = population_to_amplify[mask][np.random.randint(0, mask.sum())]\n",
    "                source_len = (chain != -1).sum() - 1 \n",
    "                pointer_source = np.random.randint(1, source_len)\n",
    "\n",
    "            if np.random.rand() < STOP_PROB:\n",
    "                stop = True\n",
    "            if pointer_new == new.shape[1]:\n",
    "                stop = True\n",
    "#             if pointer_new == end:\n",
    "#                 stop = True\n",
    "            if pointer_source == source_len + 1:\n",
    "                if np.random.rand() < SWITCH_PROB :\n",
    "                    mask = np.zeros(1)\n",
    "                    while mask.sum() ==0:\n",
    "                        chain_type = np.random.choice(np.arange(switch_weights.shape[0]), p = switch_weights / switch_weights.sum())\n",
    "                        mask = population_to_amplify[:, 0] == chain_type\n",
    "\n",
    "                    chain = population_to_amplify[mask][np.random.randint(0, mask.sum())]\n",
    "                    source_len = (chain != -1).sum() - 1 \n",
    "                    pointer_source = np.random.randint(1, source_len)\n",
    "                else:\n",
    "                    stop = True\n",
    "            \n",
    "#                 if v:\n",
    "#                     print(chain, new[i], switch)\n",
    "\n",
    "#                 mask = np.zeros(1)\n",
    "#                 while mask.sum() ==0:\n",
    "#                     chain_type = np.random.choice(np.arange(switch_weights.shape[0]), p = switch_weights / switch_weights.sum())\n",
    "#                     mask = population_to_amplify[:, 0] == chain_type\n",
    "\n",
    "#                 chain = population_to_amplify[mask][np.random.randint(0, mask.sum())]\n",
    "#                 source_len = (chain != -1).sum() - 1 \n",
    "#                 pointer_source = np.random.randint(1, source_len)\n",
    " \n",
    "                \n",
    "                \n",
    "                \n",
    "                \n",
    "        if reverse:\n",
    "            if v:print(new[i], pointer_new)\n",
    "            new[i, 1:pointer_new] = new[i, pointer_new - 1:0:-1]\n",
    "            if v:print(new[i])\n",
    "        if (new[i] != -1).sum() > 2:\n",
    "            i += 1\n",
    "        \n",
    "    \n",
    "    return new[(new != -1).sum(1) > 2 ]\n",
    "    \n",
    "     "
   ]
  },
  {
   "cell_type": "code",
   "execution_count": null,
   "metadata": {},
   "outputs": [],
   "source": []
  },
  {
   "cell_type": "code",
   "execution_count": 35,
   "metadata": {},
   "outputs": [],
   "source": [
    "SWITCH_PROB = 0.03\n",
    "AMPLIFY_PROB = 0.3\n",
    "STOP_PROB = 0.05\n",
    "START_PROB = 0.85"
   ]
  },
  {
   "cell_type": "code",
   "execution_count": 36,
   "metadata": {},
   "outputs": [],
   "source": [
    "population_f, population_b, MAX_LEN = population_from_list_of_lists(population_as_list, [0]*10 + [1]*2, 10)"
   ]
  },
  {
   "cell_type": "code",
   "execution_count": 37,
   "metadata": {},
   "outputs": [
    {
     "data": {
      "application/vnd.jupyter.widget-view+json": {
       "model_id": "c5faa014e6024c92afcc378c83e93084",
       "version_major": 2,
       "version_minor": 0
      },
      "text/plain": [
       "A Jupyter Widget"
      ]
     },
     "metadata": {},
     "output_type": "display_data"
    },
    {
     "name": "stdout",
     "output_type": "stream",
     "text": [
      "\n"
     ]
    },
    {
     "data": {
      "image/png": "[encoded data removed]",
      "text/plain": [
       "<matplotlib.figure.Figure at 0x7fd4e90a53c8>"
      ]
     },
     "metadata": {},
     "output_type": "display_data"
    }
   ],
   "source": [
    "population_ratio = []\n",
    "\n",
    "for i in tqdm_notebook(range(50)) :\n",
    "    all_pairs = []\n",
    "    for seq in np.vstack((population_f,reverse_population(population_b))):\n",
    "        seq = seq[seq != -1][1:]\n",
    "        for x in ngrams(seq,2):\n",
    "            all_pairs.append(x)\n",
    "            \n",
    "    cp_1, cp_2, cp_3 = 0,0,0\n",
    "    for p in all_pairs:\n",
    "        if p in pairs_1:\n",
    "            cp_1+=1\n",
    "        elif p in pairs_2:\n",
    "            cp_2+=1\n",
    "        else:\n",
    "            cp_3+=1\n",
    "\n",
    "    population_ratio.append(cp_1 / cp_2)\n",
    "    \n",
    "    population_f, population_b = PCR_cycle(population_f, population_b, np.array([50,1]))\n",
    "\n",
    "    if population_f.shape[0] > 20000:\n",
    "        break\n",
    "\n",
    "all_ratios_plots.append(population_ratio)\n",
    "\n",
    "for p_r in all_ratios_plots:\n",
    "    plt.plot(p_r)\n",
    "plt.show()"
   ]
  },
  {
   "cell_type": "code",
   "execution_count": null,
   "metadata": {},
   "outputs": [],
   "source": []
  }
 ],
 "metadata": {
  "kernelspec": {
   "display_name": "Python 3",
   "language": "python",
   "name": "python3"
  },
  "language_info": {
   "codemirror_mode": {
    "name": "ipython",
    "version": 3
   },
   "file_extension": ".py",
   "mimetype": "text/x-python",
   "name": "python",
   "nbconvert_exporter": "python",
   "pygments_lexer": "ipython3",
   "version": "3.6.3"
  }
 },
 "nbformat": 4,
 "nbformat_minor": 2
}
