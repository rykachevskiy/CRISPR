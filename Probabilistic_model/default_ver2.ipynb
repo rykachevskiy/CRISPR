{
 "cells": [
  {
   "cell_type": "code",
   "execution_count": 1,
   "metadata": {
    "collapsed": true
   },
   "outputs": [],
   "source": [
    "import numpy as np\n",
    "import matplotlib.pyplot as plt\n",
    "\n",
    "from tqdm import tqdm_notebook"
   ]
  },
  {
   "cell_type": "code",
   "execution_count": 2,
   "metadata": {
    "collapsed": true
   },
   "outputs": [],
   "source": [
    "import pickle\n",
    "import json"
   ]
  },
  {
   "cell_type": "code",
   "execution_count": 6,
   "metadata": {
    "collapsed": true
   },
   "outputs": [],
   "source": [
    "def plot_gr(gr, start=0, end=-1, log = False, all_ticks = False,  s=10):\n",
    "    plt.figure(figsize=(s,s))\n",
    "    if end == -1:\n",
    "        end = gr.shape[0]\n",
    "    if log:\n",
    "        plt.imshow(np.log(gr[start:end,start:end] + 1))\n",
    "    else:\n",
    "        plt.imshow(gr[start:end,start:end])\n",
    "    plt.colorbar()\n",
    "    if all_ticks: \n",
    "        plt.xticks(np.arange(start,end))\n",
    "        plt.yticks(np.arange(start,end))\n",
    "    plt.show()"
   ]
  },
  {
   "cell_type": "code",
   "execution_count": 3,
   "metadata": {
    "collapsed": true
   },
   "outputs": [],
   "source": [
    "from nltk import ngrams"
   ]
  },
  {
   "cell_type": "code",
   "execution_count": 8,
   "metadata": {},
   "outputs": [
    {
     "data": {
      "text/plain": [
       "array([0, 1, 0, 1, 0, 0, 0, 0, 0, 1])"
      ]
     },
     "execution_count": 8,
     "metadata": {},
     "output_type": "execute_result"
    }
   ],
   "source": [
    "np.random.binomial(1, 0.5, 10)"
   ]
  },
  {
   "cell_type": "code",
   "execution_count": 9,
   "metadata": {
    "collapsed": true
   },
   "outputs": [],
   "source": [
    "SWITCH_PROB = 0.2\n",
    "AMPLIFY_PROB = 1.\n",
    "STOP_PROB = 0\n",
    "MAX_LEN = 5"
   ]
  },
  {
   "cell_type": "code",
   "execution_count": 10,
   "metadata": {},
   "outputs": [
    {
     "data": {
      "text/plain": [
       "array([[ 0.,  1.,  2.,  3.,  4.,  5., -1.],\n",
       "       [ 1.,  7.,  8.,  9., 10., 11., -1.],\n",
       "       [ 2., 13., 14., 15., 16., 17., -1.]])"
      ]
     },
     "execution_count": 10,
     "metadata": {},
     "output_type": "execute_result"
    }
   ],
   "source": [
    "MAX_LEN = 6\n",
    "population = np.ones((3,MAX_LEN + 1)) * -1\n",
    "population[0,0:6] = np.arange(0,6)\n",
    "population[0,0] = 0\n",
    "population[1,0:6] = np.arange(6,12)\n",
    "population[1,0] = 1\n",
    "population[2,0:6] = np.arange(12,18)\n",
    "population[2,0] = 2\n",
    "population"
   ]
  },
  {
   "cell_type": "code",
   "execution_count": 11,
   "metadata": {},
   "outputs": [
    {
     "ename": "NameError",
     "evalue": "name 'reverse_population' is not defined",
     "output_type": "error",
     "traceback": [
      "\u001b[0;31m---------------------------------------------------------------------------\u001b[0m",
      "\u001b[0;31mNameError\u001b[0m                                 Traceback (most recent call last)",
      "\u001b[0;32m<ipython-input-11-f3e05237298e>\u001b[0m in \u001b[0;36m<module>\u001b[0;34m()\u001b[0m\n\u001b[1;32m      1\u001b[0m \u001b[0mpopulation_f\u001b[0m \u001b[0;34m=\u001b[0m \u001b[0mpopulation\u001b[0m\u001b[0;34m.\u001b[0m\u001b[0mcopy\u001b[0m\u001b[0;34m(\u001b[0m\u001b[0;34m)\u001b[0m\u001b[0;34m\u001b[0m\u001b[0m\n\u001b[0;32m----> 2\u001b[0;31m \u001b[0mpopulation_b\u001b[0m \u001b[0;34m=\u001b[0m \u001b[0mreverse_population\u001b[0m\u001b[0;34m(\u001b[0m\u001b[0mpopulation_f\u001b[0m\u001b[0;34m)\u001b[0m\u001b[0;34m\u001b[0m\u001b[0m\n\u001b[0m",
      "\u001b[0;31mNameError\u001b[0m: name 'reverse_population' is not defined"
     ]
    }
   ],
   "source": [
    "population_f = population.copy()\n",
    "population_b = reverse_population(population_f)"
   ]
  },
  {
   "cell_type": "code",
   "execution_count": 12,
   "metadata": {
    "scrolled": true
   },
   "outputs": [
    {
     "ename": "NameError",
     "evalue": "name 'single_amplify' is not defined",
     "output_type": "error",
     "traceback": [
      "\u001b[0;31m---------------------------------------------------------------------------\u001b[0m",
      "\u001b[0;31mNameError\u001b[0m                                 Traceback (most recent call last)",
      "\u001b[0;32m<ipython-input-12-0cb0f5699fc1>\u001b[0m in \u001b[0;36m<module>\u001b[0;34m()\u001b[0m\n\u001b[0;32m----> 1\u001b[0;31m \u001b[0msingle_amplify\u001b[0m\u001b[0;34m(\u001b[0m\u001b[0mpopulation_f\u001b[0m\u001b[0;34m,\u001b[0m \u001b[0mnp\u001b[0m\u001b[0;34m.\u001b[0m\u001b[0mones\u001b[0m\u001b[0;34m(\u001b[0m\u001b[0;36m3\u001b[0m\u001b[0;34m)\u001b[0m\u001b[0;34m,\u001b[0m \u001b[0;36m1\u001b[0m\u001b[0;34m,\u001b[0m\u001b[0;36m1\u001b[0m\u001b[0;34m)\u001b[0m\u001b[0;34m\u001b[0m\u001b[0m\n\u001b[0m",
      "\u001b[0;31mNameError\u001b[0m: name 'single_amplify' is not defined"
     ]
    }
   ],
   "source": [
    "single_amplify(population_f, np.ones(3), 1,1)"
   ]
  },
  {
   "cell_type": "code",
   "execution_count": 13,
   "metadata": {
    "scrolled": false
   },
   "outputs": [
    {
     "data": {
      "text/plain": [
       "array([[ 0.,  1.,  2.,  3.,  4.,  5., -1.],\n",
       "       [ 1.,  7.,  8.,  9., 10., 11., -1.],\n",
       "       [ 2., 13., 14., 15., 16., 17., -1.]])"
      ]
     },
     "execution_count": 13,
     "metadata": {},
     "output_type": "execute_result"
    }
   ],
   "source": [
    "population_f"
   ]
  },
  {
   "cell_type": "code",
   "execution_count": 14,
   "metadata": {
    "scrolled": true
   },
   "outputs": [
    {
     "ename": "NameError",
     "evalue": "name 'population_b' is not defined",
     "output_type": "error",
     "traceback": [
      "\u001b[0;31m---------------------------------------------------------------------------\u001b[0m",
      "\u001b[0;31mNameError\u001b[0m                                 Traceback (most recent call last)",
      "\u001b[0;32m<ipython-input-14-59ab92ddcaeb>\u001b[0m in \u001b[0;36m<module>\u001b[0;34m()\u001b[0m\n\u001b[0;32m----> 1\u001b[0;31m \u001b[0mpopulation_b\u001b[0m\u001b[0;34m\u001b[0m\u001b[0m\n\u001b[0m",
      "\u001b[0;31mNameError\u001b[0m: name 'population_b' is not defined"
     ]
    }
   ],
   "source": [
    "population_b"
   ]
  },
  {
   "cell_type": "code",
   "execution_count": 15,
   "metadata": {
    "collapsed": true
   },
   "outputs": [
    {
     "ename": "NameError",
     "evalue": "name 'PCR_cycle' is not defined",
     "output_type": "error",
     "traceback": [
      "\u001b[0;31m---------------------------------------------------------------------------\u001b[0m",
      "\u001b[0;31mNameError\u001b[0m                                 Traceback (most recent call last)",
      "\u001b[0;32m<ipython-input-15-6df3e3b11510>\u001b[0m in \u001b[0;36m<module>\u001b[0;34m()\u001b[0m\n\u001b[0;32m----> 1\u001b[0;31m \u001b[0mpopulation_f\u001b[0m\u001b[0;34m,\u001b[0m \u001b[0mpopulation_b\u001b[0m \u001b[0;34m=\u001b[0m \u001b[0mPCR_cycle\u001b[0m\u001b[0;34m(\u001b[0m\u001b[0mpopulation_f\u001b[0m\u001b[0;34m,\u001b[0m \u001b[0mpopulation_b\u001b[0m\u001b[0;34m,\u001b[0m \u001b[0mnp\u001b[0m\u001b[0;34m.\u001b[0m\u001b[0marray\u001b[0m\u001b[0;34m(\u001b[0m\u001b[0;34m[\u001b[0m\u001b[0;36m1\u001b[0m\u001b[0;34m,\u001b[0m\u001b[0;36m1\u001b[0m\u001b[0;34m,\u001b[0m\u001b[0;36m1\u001b[0m\u001b[0;34m]\u001b[0m\u001b[0;34m)\u001b[0m\u001b[0;34m)\u001b[0m\u001b[0;34m\u001b[0m\u001b[0m\n\u001b[0m",
      "\u001b[0;31mNameError\u001b[0m: name 'PCR_cycle' is not defined"
     ]
    }
   ],
   "source": [
    "population_f, population_b = PCR_cycle(population_f, population_b, np.array([1,1,1]))"
   ]
  },
  {
   "cell_type": "code",
   "execution_count": 16,
   "metadata": {
    "collapsed": true
   },
   "outputs": [],
   "source": [
    "def reverse_population(p):\n",
    "    p_b = p.copy()\n",
    "    for i in range(p.shape[0]):\n",
    "        length = (p[i] != -1).sum() - 1\n",
    "        \n",
    "        p_b[i,1:length + 1] = p[i,1:length + 1][::-1]\n",
    "    return p_b"
   ]
  },
  {
   "cell_type": "code",
   "execution_count": 17,
   "metadata": {
    "collapsed": true
   },
   "outputs": [],
   "source": []
  },
  {
   "cell_type": "code",
   "execution_count": 17,
   "metadata": {
    "collapsed": true
   },
   "outputs": [],
   "source": [
    "def PCR_cycle(population_f, population_b, switch_weights):       \n",
    "    new_f = single_amplify(population_f, switch_weights, reverse=0)\n",
    "    #new_b = single_amplify(population_f, switch_weights)\n",
    "    \n",
    "    population_f = np.vstack((population_f, new_f))\n",
    "    #population_b = np.vstack((population_b, new_b))\n",
    "    \n",
    "    return population_f, population_b"
   ]
  },
  {
   "cell_type": "code",
   "execution_count": 7,
   "metadata": {
    "collapsed": true
   },
   "outputs": [],
   "source": [
    "def generate_initial_population(spacers_num, chain_number=2, max_amount_per_chain = 2, min_len = 4, v = False):\n",
    "    # markov is our god! \n",
    "    graph = np.zeros((spacers_num, spacers_num))\n",
    "    for i in range(spacers_num):\n",
    "        for j in range(spacers_num -1, i, -1):\n",
    "            graph[i,j] = spacers_num - j\n",
    "\n",
    "    if v:\n",
    "        plot_gr(graph)\n",
    "        \n",
    "    graph /= np.max(np.vstack((graph.sum(1), np.ones(spacers_num))), 0).reshape(-1,1)\n",
    "    all_chains = []\n",
    "    while len(all_chains) < chain_number:\n",
    "        chain = []\n",
    "        amount = np.random.randint(1, max_amount_per_chain)\n",
    "        max_len = max([np.random.randint(min_len,spacers_num + 1) for i in range(3)])\n",
    "        curr = np.random.randint(0, (spacers_num - 1) / 2 )\n",
    "\n",
    "        for j in range(max_len):\n",
    "            chain.append(curr)\n",
    "            if curr != spacers_num - 1:\n",
    "                #print(np.arange(spacers_num), graph[curr])\n",
    "                curr = np.random.choice(np.arange(spacers_num), 1, p = graph[curr])[0]\n",
    "            else:\n",
    "                break\n",
    "        \n",
    "        if len(chain) > min_len:\n",
    "            all_chains.extend([chain for k in range(amount)])\n",
    "    \n",
    "    return all_chains[:chain_number]"
   ]
  },
  {
   "cell_type": "code",
   "execution_count": 10,
   "metadata": {},
   "outputs": [
    {
     "data": {
      "text/plain": [
       "[[1, 3, 4, 5, 9],\n",
       " [1, 3, 4, 5, 9],\n",
       " [1, 3, 4, 5, 9],\n",
       " [1, 3, 4, 5, 9],\n",
       " [1, 3, 4, 5, 9],\n",
       " [1, 3, 4, 5, 9],\n",
       " [1, 3, 4, 5, 9],\n",
       " [1, 3, 4, 5, 9],\n",
       " [2, 3, 4, 6, 7, 9],\n",
       " [2, 3, 4, 6, 7, 9]]"
      ]
     },
     "execution_count": 10,
     "metadata": {},
     "output_type": "execute_result"
    }
   ],
   "source": [
    "generate_initial_population(10, chain_number=10, max_amount_per_chain=10)"
   ]
  },
  {
   "cell_type": "code",
   "execution_count": null,
   "metadata": {
    "collapsed": true
   },
   "outputs": [],
   "source": []
  },
  {
   "cell_type": "code",
   "execution_count": null,
   "metadata": {
    "collapsed": true
   },
   "outputs": [],
   "source": []
  },
  {
   "cell_type": "code",
   "execution_count": null,
   "metadata": {
    "collapsed": true
   },
   "outputs": [],
   "source": []
  },
  {
   "cell_type": "code",
   "execution_count": null,
   "metadata": {
    "collapsed": true
   },
   "outputs": [],
   "source": []
  },
  {
   "cell_type": "code",
   "execution_count": null,
   "metadata": {
    "collapsed": true
   },
   "outputs": [],
   "source": []
  },
  {
   "cell_type": "code",
   "execution_count": 19,
   "metadata": {
    "collapsed": true
   },
   "outputs": [],
   "source": [
    "def population_from_list_of_lists(list_of_lists, cassettes_types = None, multiplier = 1):\n",
    "    max_len = max([len(x) for x in list_of_lists])\n",
    "    population_f = np.ones((len(list_of_lists), max_len + 1)) * (-1)\n",
    "    population_b = np.ones((len(list_of_lists), max_len + 1)) * (-1)\n",
    "    for i,l in enumerate(list_of_lists):\n",
    "        population_f[i, 1:len(l) + 1] = np.array(l)\n",
    "        population_b[i, 1:len(l) + 1] = np.array(l[::-1])\n",
    "        \n",
    "    if cassettes_types is not None:\n",
    "        population_f[:,0],population_b[:,0] = [np.array(cassettes_types)]*2\n",
    "        \n",
    "    else:\n",
    "        population_f[:,0],population_b[:,0] = [0]*2\n",
    "    \n",
    "    if multiplier > 1:\n",
    "        population_f = np.vstack([population_f] * multiplier)\n",
    "        population_b = np.vstack([population_b] * multiplier)\n",
    "    return population_f, population_b, max_len\n",
    "        "
   ]
  },
  {
   "cell_type": "code",
   "execution_count": 20,
   "metadata": {
    "collapsed": true
   },
   "outputs": [],
   "source": [
    "population_as_list = [[1, 0, 3, 6, 8, 9, 10, 13, 14, 15, 17, 12, 16] for i in range(5)] + \\\n",
    "               [[4, 2, 5, 7, 11] for i in range(5)] + \\\n",
    "               [[24, 19, 18, 25, 30, 27, 26, 28, 31, 32, 33, 34]] + \\\n",
    "               [[20, 22, 23, 21, 29]]\n",
    "\n",
    "pairs_1 = set([x for y in population_as_list[:10] for x in ngrams(y, 2)])\n",
    "pairs_2 = set([x for y in population_as_list[10:] for x in ngrams(y, 2)])"
   ]
  },
  {
   "cell_type": "code",
   "execution_count": 21,
   "metadata": {
    "collapsed": true
   },
   "outputs": [],
   "source": [
    "all_ratios_plots = []"
   ]
  },
  {
   "cell_type": "code",
   "execution_count": 22,
   "metadata": {},
   "outputs": [
    {
     "data": {
      "text/plain": [
       "array([2, 1, 1, 1, 2, 1, 2, 2, 2, 1])"
      ]
     },
     "execution_count": 22,
     "metadata": {},
     "output_type": "execute_result"
    }
   ],
   "source": [
    "np.random.randint(1,3,10)"
   ]
  },
  {
   "cell_type": "code",
   "execution_count": 23,
   "metadata": {
    "collapsed": true
   },
   "outputs": [],
   "source": [
    "def single_amplify(all_population, switch_weights, reverse = True, v = False): \n",
    "    mask = np.random.binomial(1, AMPLIFY_PROB, all_population.shape[0]).astype(bool)\n",
    "    population_to_amplify = all_population[mask] \n",
    "    new = np.ones((population_to_amplify.shape[0], MAX_LEN + 1)) * (-1)\n",
    "    \n",
    "    if v:\n",
    "        print(mask)\n",
    "        print(population_to_amplify)\n",
    "    \n",
    "    i = 0\n",
    "    for chain in population_to_amplify:\n",
    "        source_len = (chain != -1).sum() - 1 \n",
    "        to_start = False\n",
    "        start = 0\n",
    "        while not to_start and start < source_len:\n",
    "            start += 1\n",
    "            if np.random.random() < START_PROB:\n",
    "                to_start = True\n",
    "        if v: print(\"start : \", start)\n",
    "            \n",
    "        #start = np.random.randint(1, source_len + 1 - 1)\n",
    "        stop = False\n",
    "#        end = np.random.randint(start + 1, source_len + 1)\n",
    "        \n",
    "        \n",
    "        pointer_new = 1\n",
    "        pointer_source = start\n",
    "        \n",
    "        new[i,0] = chain[0]\n",
    "        \n",
    "        while not stop:            \n",
    "            new[i,pointer_new] = chain[pointer_source]\n",
    "            \n",
    "            pointer_new += 1\n",
    "            pointer_source += 1\n",
    "            \n",
    "            switch = np.random.rand() < SWITCH_PROB\n",
    "            \n",
    "            if v:\n",
    "                print(chain, new[i], switch)\n",
    "            if switch:\n",
    "                mask = np.zeros(1)\n",
    "                while mask.sum() ==0:\n",
    "                    chain_type = np.random.choice(np.arange(switch_weights.shape[0]), p = switch_weights / switch_weights.sum())\n",
    "                    mask = population_to_amplify[:, 0] == chain_type\n",
    "\n",
    "                chain = population_to_amplify[mask][np.random.randint(0, mask.sum())]\n",
    "                source_len = (chain != -1).sum() - 1 \n",
    "                pointer_source = np.random.randint(1, source_len)\n",
    "\n",
    "            if np.random.rand() < STOP_PROB:\n",
    "                stop = True\n",
    "            if pointer_new == new.shape[1]:\n",
    "                stop = True\n",
    "#             if pointer_new == end:\n",
    "#                 stop = True\n",
    "            if pointer_source == source_len + 1:\n",
    "                if np.random.rand() < SWITCH_PROB :\n",
    "                    mask = np.zeros(1)\n",
    "                    while mask.sum() ==0:\n",
    "                        chain_type = np.random.choice(np.arange(switch_weights.shape[0]), p = switch_weights / switch_weights.sum())\n",
    "                        mask = population_to_amplify[:, 0] == chain_type\n",
    "\n",
    "                    chain = population_to_amplify[mask][np.random.randint(0, mask.sum())]\n",
    "                    source_len = (chain != -1).sum() - 1 \n",
    "                    pointer_source = np.random.randint(1, source_len)\n",
    "                else:\n",
    "                    stop = True\n",
    "            \n",
    "#                 if v:\n",
    "#                     print(chain, new[i], switch)\n",
    "\n",
    "#                 mask = np.zeros(1)\n",
    "#                 while mask.sum() ==0:\n",
    "#                     chain_type = np.random.choice(np.arange(switch_weights.shape[0]), p = switch_weights / switch_weights.sum())\n",
    "#                     mask = population_to_amplify[:, 0] == chain_type\n",
    "\n",
    "#                 chain = population_to_amplify[mask][np.random.randint(0, mask.sum())]\n",
    "#                 source_len = (chain != -1).sum() - 1 \n",
    "#                 pointer_source = np.random.randint(1, source_len)\n",
    " \n",
    "                \n",
    "                \n",
    "                \n",
    "                \n",
    "        if reverse:\n",
    "            if v:print(new[i], pointer_new)\n",
    "            new[i, 1:pointer_new] = new[i, pointer_new - 1:0:-1]\n",
    "            if v:print(new[i])\n",
    "        if (new[i] != -1).sum() > 2:\n",
    "            i += 1\n",
    "        \n",
    "    \n",
    "    return new[(new != -1).sum(1) > 2 ]\n",
    "    \n",
    "     "
   ]
  },
  {
   "cell_type": "code",
   "execution_count": 24,
   "metadata": {
    "collapsed": true
   },
   "outputs": [],
   "source": []
  },
  {
   "cell_type": "code",
   "execution_count": 24,
   "metadata": {
    "collapsed": true
   },
   "outputs": [],
   "source": [
    "SWITCH_PROB = 0.03\n",
    "AMPLIFY_PROB = 0.3\n",
    "STOP_PROB = 0.05\n",
    "START_PROB = 0.85"
   ]
  },
  {
   "cell_type": "code",
   "execution_count": 25,
   "metadata": {
    "collapsed": true
   },
   "outputs": [],
   "source": [
    "population_f, population_b, MAX_LEN = population_from_list_of_lists(population_as_list, [0]*10 + [1]*2, 10)"
   ]
  },
  {
   "cell_type": "code",
   "execution_count": 26,
   "metadata": {},
   "outputs": [
    {
     "data": {
      "text/plain": [
       "A Jupyter Widget"
      ]
     },
     "execution_count": 0,
     "metadata": {},
     "output_type": "execute_result"
    },
    {
     "name": "stdout",
     "output_type": "stream",
     "text": [
      "\n"
     ]
    },
    {
     "data": {
      "image/png": "[encoded data removed]",
      "text/plain": [
       "<matplotlib.figure.Figure at 0x7ff921a4de10>"
      ]
     },
     "metadata": {},
     "output_type": "display_data"
    }
   ],
   "source": [
    "population_ratio = []\n",
    "\n",
    "for i in tqdm_notebook(range(50)) :\n",
    "    all_pairs = []\n",
    "    for seq in np.vstack((population_f,reverse_population(population_b))):\n",
    "        seq = seq[seq != -1][1:]\n",
    "        for x in ngrams(seq,2):\n",
    "            all_pairs.append(x)\n",
    "            \n",
    "    cp_1, cp_2, cp_3 = 0,0,0\n",
    "    for p in all_pairs:\n",
    "        if p in pairs_1:\n",
    "            cp_1+=1\n",
    "        elif p in pairs_2:\n",
    "            cp_2+=1\n",
    "        else:\n",
    "            cp_3+=1\n",
    "\n",
    "    population_ratio.append(cp_1 / cp_2)\n",
    "    \n",
    "    population_f, population_b = PCR_cycle(population_f, population_b, np.array([50,1]))\n",
    "\n",
    "    if population_f.shape[0] > 20000:\n",
    "        break\n",
    "\n",
    "all_ratios_plots.append(population_ratio)\n",
    "\n",
    "for p_r in all_ratios_plots:\n",
    "    plt.plot(p_r)\n",
    "plt.show()"
   ]
  },
  {
   "cell_type": "code",
   "execution_count": 21,
   "metadata": {},
   "outputs": [
    {
     "data": {
      "text/plain": [
       "(20500, 14)"
      ]
     },
     "execution_count": 21,
     "metadata": {},
     "output_type": "execute_result"
    }
   ],
   "source": [
    "population_f.shape"
   ]
  },
  {
   "cell_type": "code",
   "execution_count": 24,
   "metadata": {},
   "outputs": [
    {
     "data": {
      "image/png": "[encoded data removed]",
      "text/plain": [
       "<matplotlib.figure.Figure at 0x7f6a839acac8>"
      ]
     },
     "metadata": {},
     "output_type": "display_data"
    }
   ],
   "source": [
    "gr = pairs_to_gr(all_pairs, int(population_f.max() + 1))\n",
    "plot_gr(gr, log= 1,all_ticks=1)"
   ]
  },
  {
   "cell_type": "code",
   "execution_count": 1022,
   "metadata": {},
   "outputs": [
    {
     "data": {
      "image/png": "[encoded data removed]",
      "text/plain": [
       "<matplotlib.figure.Figure at 0x7fee4fb4a7b8>"
      ]
     },
     "metadata": {},
     "output_type": "display_data"
    }
   ],
   "source": [
    "\n",
    "f, (a1, a2) = plt.subplots(1,2)\n",
    "f.set_size_inches((14,7))\n",
    "a1.imshow(np.log(gr_tr + 1))\n",
    "a2.imshow(np.log(gr + 1))\n",
    "plt.show()"
   ]
  },
  {
   "cell_type": "code",
   "execution_count": 969,
   "metadata": {},
   "outputs": [
    {
     "data": {
      "image/png": "[encoded data removed]",
      "text/plain": [
       "<matplotlib.figure.Figure at 0x7fee5c704978>"
      ]
     },
     "metadata": {},
     "output_type": "display_data"
    }
   ],
   "source": [
    "plot_gr(gr_tr, log= 1, all_ticks=1)"
   ]
  },
  {
   "cell_type": "code",
   "execution_count": 970,
   "metadata": {},
   "outputs": [
    {
     "data": {
      "text/plain": [
       "173.0"
      ]
     },
     "execution_count": 970,
     "metadata": {},
     "output_type": "execute_result"
    }
   ],
   "source": [
    "gr[5:9, 12:16].sum()"
   ]
  },
  {
   "cell_type": "code",
   "execution_count": 971,
   "metadata": {
    "scrolled": true
   },
   "outputs": [
    {
     "data": {
      "text/plain": [
       "767.0"
      ]
     },
     "execution_count": 971,
     "metadata": {},
     "output_type": "execute_result"
    }
   ],
   "source": [
    "gr[5:9, 0: 4].sum()"
   ]
  },
  {
   "cell_type": "code",
   "execution_count": null,
   "metadata": {
    "collapsed": true
   },
   "outputs": [],
   "source": [
    "np.histogram()"
   ]
  },
  {
   "cell_type": "code",
   "execution_count": 983,
   "metadata": {},
   "outputs": [
    {
     "data": {
      "text/plain": [
       "array([1.e+00, 2.e+04])"
      ]
     },
     "execution_count": 983,
     "metadata": {},
     "output_type": "execute_result"
    }
   ],
   "source": [
    "np.logspace(0,np.log10(20000),20)"
   ]
  },
  {
   "cell_type": "code",
   "execution_count": 997,
   "metadata": {
    "scrolled": false
   },
   "outputs": [
    {
     "data": {
      "image/png": "[encoded data removed]",
      "text/plain": [
       "<matplotlib.figure.Figure at 0x7fee5cc467f0>"
      ]
     },
     "metadata": {},
     "output_type": "display_data"
    }
   ],
   "source": [
    "plt.figure(figsize = (10,6))\n",
    "#bins = np.logspace(0,np.log10(20000),20)\n",
    "#bins = np.linspace(0,20000,20)\n",
    "#plt.xticks(np.arange(bins.shape[0]),bins)\n",
    "plt.xlabel(\"log weight\")\n",
    "plt.ylabel(\"number\")\n",
    "bins = 20\n",
    "plt.hist(np.log(gr_tr.flatten() + 1), bins=bins, log=1, alpha=0.7, label='True')\n",
    "plt.hist(np.log(gr.flatten() + 1), bins=bins, log=1, alpha = 0.6, label='Synthetic')\n",
    "\n",
    "plt.legend()\n",
    "plt.show()"
   ]
  },
  {
   "cell_type": "code",
   "execution_count": 1006,
   "metadata": {},
   "outputs": [
    {
     "data": {
      "image/png": "[encoded data removed]",
      "text/plain": [
       "<matplotlib.figure.Figure at 0x7fee5c50a780>"
      ]
     },
     "metadata": {},
     "output_type": "display_data"
    }
   ],
   "source": [
    "plt.figure(figsize = (10,6))\n",
    "plt.xlabel(\"vertex number\")\n",
    "plt.ylabel(\"total outcomming weight\")\n",
    "\n",
    "plt.plot(gr_tr.sum(0) / gr_tr.sum(), label='True')\n",
    "plt.plot(gr.sum(0) / gr.sum(), label='Synthetic')\n",
    "#plt.hist(np.log(gr.flatten() + 1).sum(0), bins=bins, log=1, alpha = 0.6, label='Synthetic')\n",
    "\n",
    "plt.legend()\n",
    "plt.show()"
   ]
  },
  {
   "cell_type": "code",
   "execution_count": 1008,
   "metadata": {},
   "outputs": [
    {
     "data": {
      "image/png": "[encoded data removed]",
      "text/plain": [
       "<matplotlib.figure.Figure at 0x7fee5c9703c8>"
      ]
     },
     "metadata": {},
     "output_type": "display_data"
    }
   ],
   "source": [
    "plt.figure(figsize = (10,6))\n",
    "plt.xlabel(\"vertex number\")\n",
    "plt.ylabel(\"total incomming weight\")\n",
    "\n",
    "plt.plot(gr_tr.sum(1) / gr_tr.sum(), label='True')\n",
    "plt.plot(gr.sum(1) / gr.sum(), label='Synthetic')\n",
    "#plt.hist(np.log(gr.flatten() + 1).sum(0), bins=bins, log=1, alpha = 0.6, label='Synthetic')\n",
    "\n",
    "plt.legend()\n",
    "plt.show()"
   ]
  },
  {
   "cell_type": "code",
   "execution_count": 1003,
   "metadata": {},
   "outputs": [
    {
     "data": {
      "text/plain": [
       "array([10276, 19554,  5491,  4215, 10752,  3242,  3339,  3377,  2543,\n",
       "        2156,  1485,    10,  2047,  1383,  1461,   875,     7,  1097,\n",
       "         142,   297,   124,   105,    88,    82,    23,    46,    61,\n",
       "          71,    65,     1,    54,    41,    34,    21,     0])"
      ]
     },
     "execution_count": 1003,
     "metadata": {},
     "output_type": "execute_result"
    }
   ],
   "source": [
    "gr_tr.sum(1).astype(int)"
   ]
  },
  {
   "cell_type": "code",
   "execution_count": 1004,
   "metadata": {},
   "outputs": [
    {
     "data": {
      "text/plain": [
       "array([4575, 2878, 7975, 4473, 4831, 8442, 3935, 7986, 3451, 3050, 2309,\n",
       "       1333, 1124, 1861, 1450, 1205,   82, 1142,  704,  793,  767,  560,\n",
       "        816,  719,  454,  621,  231,  348,  163,  131,  559,  136,  127,\n",
       "         97,   16])"
      ]
     },
     "execution_count": 1004,
     "metadata": {},
     "output_type": "execute_result"
    }
   ],
   "source": [
    "gr.sum(1).astype(int)"
   ]
  },
  {
   "cell_type": "code",
   "execution_count": null,
   "metadata": {
    "collapsed": true
   },
   "outputs": [],
   "source": [
    "plt.figure(figsize = (8,5))\n",
    "plt.hist(gr.flatten(), bins=100, log=1, alpha = 0.5)\n",
    "plt.hist(gr_tr.flatten(), bins=100, log=1, alpha=0.5)\n",
    "plt.show()"
   ]
  },
  {
   "cell_type": "code",
   "execution_count": null,
   "metadata": {
    "collapsed": true
   },
   "outputs": [],
   "source": []
  },
  {
   "cell_type": "code",
   "execution_count": null,
   "metadata": {
    "collapsed": true
   },
   "outputs": [],
   "source": []
  },
  {
   "cell_type": "code",
   "execution_count": null,
   "metadata": {
    "collapsed": true
   },
   "outputs": [],
   "source": [
    "plt.hist(.flatten(), bins=20)\n",
    "plt.show()"
   ]
  },
  {
   "cell_type": "code",
   "execution_count": 23,
   "metadata": {
    "collapsed": true
   },
   "outputs": [],
   "source": [
    "def pairs_to_gr(pairs, spacers_num):\n",
    "    graph = np.zeros((spacers_num, spacers_num))\n",
    "    \n",
    "    for p in pairs:\n",
    "        graph[int(p[0]), int(p[1])] += 1\n",
    "    \n",
    "    return graph"
   ]
  },
  {
   "cell_type": "code",
   "execution_count": null,
   "metadata": {
    "collapsed": true
   },
   "outputs": [],
   "source": []
  },
  {
   "cell_type": "code",
   "execution_count": null,
   "metadata": {
    "collapsed": true
   },
   "outputs": [],
   "source": []
  },
  {
   "cell_type": "code",
   "execution_count": 368,
   "metadata": {
    "collapsed": true
   },
   "outputs": [],
   "source": [
    "def amp_population(population_f, population_b, spacers_num, max_chains = 25000, max_epochs = 15):\n",
    "    epoch = 0\n",
    "    \n",
    "    while (population_f.shape[0] + population_b.shape[0] < max_chains) and epoch < max_epochs:\n",
    "        population_f, population_b = PCR_cycle(population_f, population_b)\n",
    "        epoch += 1\n",
    "    \n",
    "    full_population_amplified = population_f + [x[::-1] for x in population_b]\n",
    "    \n",
    "    all_pairs = []\n",
    "    for seq in full_population_amplified:\n",
    "        for x in ngrams(seq,2):\n",
    "            all_pairs.append(x)\n",
    "\n",
    "    graph = np.zeros((spacers_num, spacers_num))\n",
    "    for p in all_pairs:\n",
    "        graph[p[0],p[1]] += 1\n",
    "        \n",
    "    return graph"
   ]
  },
  {
   "cell_type": "code",
   "execution_count": 414,
   "metadata": {
    "collapsed": true
   },
   "outputs": [],
   "source": [
    "def reshuffle(population, spacers_num):\n",
    "    spacers_shuffled = np.arange(spacers_num)\n",
    "    np.random.shuffle(spacers_shuffled)\n",
    "    shuffle_map = dict(zip(np.arange(spacers_num), spacers_shuffled))\n",
    "    \n",
    "    return [[shuffle_map[x] for x in y] for y in population]"
   ]
  },
  {
   "cell_type": "code",
   "execution_count": 421,
   "metadata": {
    "scrolled": true
   },
   "outputs": [
    {
     "data": {
      "image/png": "[encoded data removed]",
      "text/plain": [
       "<matplotlib.figure.Figure at 0x7efcac04a128>"
      ]
     },
     "metadata": {},
     "output_type": "display_data"
    },
    {
     "data": {
      "text/plain": [
       "[[2, 5, 7, 8, 9],\n",
       " [2, 5, 7, 8, 9],\n",
       " [2, 5, 7, 8, 9],\n",
       " [3, 4, 7, 8, 9],\n",
       " [3, 4, 7, 8, 9],\n",
       " [1, 2, 6, 8, 9]]"
      ]
     },
     "execution_count": 421,
     "metadata": {},
     "output_type": "execute_result"
    }
   ],
   "source": [
    "pp = generate_initial_population(10, 6, 10, v =1)\n",
    "pp"
   ]
  },
  {
   "cell_type": "code",
   "execution_count": 429,
   "metadata": {
    "collapsed": true
   },
   "outputs": [],
   "source": [
    "gr = amp_population(pp, 10, 100000, 30)"
   ]
  },
  {
   "cell_type": "code",
   "execution_count": null,
   "metadata": {
    "collapsed": true
   },
   "outputs": [],
   "source": []
  },
  {
   "cell_type": "code",
   "execution_count": 431,
   "metadata": {
    "collapsed": true
   },
   "outputs": [],
   "source": [
    "def population_to_gr(population, spacers_num):\n",
    "    graph = np.zeros((spacers_num, spacers_num))\n",
    "    \n",
    "    for chain in population:\n",
    "        for p in ngrams(chain, 2):\n",
    "            graph[p[0], p[1]] = 1\n",
    "    \n",
    "    return graph"
   ]
  },
  {
   "cell_type": "code",
   "execution_count": 436,
   "metadata": {
    "collapsed": true
   },
   "outputs": [],
   "source": [
    "def complete_population(population, shape):\n",
    "    answ = np.ones(shape) * -1\n",
    "    \n",
    "    for i, chain in enumerate(population):\n",
    "        answ[i, :len(chain)] = np.array(chain)\n",
    "    return answ"
   ]
  },
  {
   "cell_type": "code",
   "execution_count": 461,
   "metadata": {},
   "outputs": [
    {
     "data": {
      "text/plain": [
       "A Jupyter Widget"
      ]
     },
     "metadata": {},
     "output_type": "display_data"
    },
    {
     "name": "stdout",
     "output_type": "stream",
     "text": [
      "\n"
     ]
    }
   ],
   "source": [
    "params = {\"N_POPULATONS\" : 5000,\n",
    "            \"N_SPACERS\" : 10,\n",
    "            \"N_CHAINS\" : 6,\n",
    "            \"MAX_LEN\" : 10,\n",
    "            \"SWITCH_PROB\" : 0.05,\n",
    "            \"AMPLIFY_PROB\"  :0.35,\n",
    "            \"STOP_PROB\" : 0,\n",
    "            \"MAX_POPULATION_SIZE\" : 10000}\n",
    "\n",
    "SWITCH_PROB = params[\"SWITCH_PROB\"]\n",
    "AMPLIFY_PROB = params[\"AMPLIFY_PROB\"]\n",
    "STOP_PROB = params[\"STOP_PROB\"]\n",
    "\n",
    "synthetic_populations = np.zeros((params[\"N_POPULATONS\"], params[\"N_CHAINS\"], params[\"MAX_LEN\"]))\n",
    "amp_graphs = np.zeros((params[\"N_POPULATONS\"], params[\"N_SPACERS\"], params[\"N_SPACERS\"]))\n",
    "initial_graphs = np.zeros((params[\"N_POPULATONS\"], params[\"N_SPACERS\"], params[\"N_SPACERS\"]))\n",
    "\n",
    "\n",
    "for i in tqdm_notebook(range(params[\"N_POPULATONS\"])):\n",
    "    p = generate_initial_population(params[\"N_SPACERS\"], params[\"N_CHAINS\"], 10)\n",
    "    synthetic_populations[i] = complete_population(p, (params[\"N_CHAINS\"], params[\"N_SPACERS\"] ))\n",
    "\n",
    "    amp_graphs[i] = amp_population(p, params[\"N_SPACERS\"], params[\"MAX_POPULATION_SIZE\"], 20)\n",
    "    initial_graphs[i] = population_to_gr(p, params[\"N_SPACERS\"])"
   ]
  },
  {
   "cell_type": "code",
   "execution_count": 467,
   "metadata": {
    "collapsed": true
   },
   "outputs": [],
   "source": [
    "np.save(\"../data/simulation/init5k/populations\", synthetic_populations)\n",
    "np.save(\"../data/simulation/init5k/populations_gr\", initial_graphs)\n",
    "np.save(\"../data/simulation/init5k/amp_gr\", amp_graphs)\n",
    "json.dump(params, open(\"../data/simulation/init5k/params.json\", 'w'))"
   ]
  },
  {
   "cell_type": "code",
   "execution_count": null,
   "metadata": {
    "collapsed": true
   },
   "outputs": [],
   "source": [
    "json.dump()"
   ]
  },
  {
   "cell_type": "code",
   "execution_count": null,
   "metadata": {
    "collapsed": true
   },
   "outputs": [],
   "source": []
  },
  {
   "cell_type": "code",
   "execution_count": 265,
   "metadata": {
    "scrolled": false
   },
   "outputs": [
    {
     "data": {
      "text/plain": [
       "A Jupyter Widget"
      ]
     },
     "metadata": {},
     "output_type": "display_data"
    },
    {
     "name": "stdout",
     "output_type": "stream",
     "text": [
      "\n"
     ]
    },
    {
     "data": {
      "image/png": "[encoded data removed]",
      "text/plain": [
       "<matplotlib.figure.Figure at 0x7efcadefb5c0>"
      ]
     },
     "metadata": {},
     "output_type": "display_data"
    }
   ],
   "source": [
    "population_ratio = []\n",
    "\n",
    "for i in tqdm_notebook(range(35)) :\n",
    "    PCR_cycle(population_f, population_b)\n",
    "    \n",
    "    all_pairs = []\n",
    "    for seq in population_f + [x[::-1] for x in population_b]:\n",
    "        for x in ngrams(seq,2):\n",
    "            all_pairs.append(x)\n",
    "            \n",
    "    cp_1, cp_2, cp_3 = 0,0,0\n",
    "    for p in all_pairs:\n",
    "        if p in pairs_1:\n",
    "            cp_1+=1\n",
    "        elif p in pairs_2:\n",
    "            cp_2+=1\n",
    "        else:\n",
    "            cp_3+=1\n",
    "            \n",
    "#     c_1, c_2, c_3 = 0,0,0\n",
    "#     for p in population_f:\n",
    "#         for l in p:\n",
    "#             if l in [0,1,2,3,4,5]:\n",
    "#                 c_1+=1\n",
    "#             elif l in [6,7,8,9]:\n",
    "#                 c_2+=1\n",
    "#             else:\n",
    "#                 c_3+=1\n",
    "    #print(len(population_f), c_1, c_2, c_3, c_1 / c_2)\n",
    "    population_ratio.append(cp_1 / cp_2)\n",
    "    \n",
    "    #print(len(population_f))#, len(population_b))\n",
    "    if len(population_f) >100000:\n",
    "        break\n",
    "\n",
    "all_ratios_plots.append(population_ratio)\n",
    "\n",
    "\n",
    "for p_r in all_ratios_plots:\n",
    "    plt.plot(p_r)\n",
    "plt.show()\n",
    "\n"
   ]
  },
  {
   "cell_type": "code",
   "execution_count": 266,
   "metadata": {},
   "outputs": [
    {
     "data": {
      "image/png": "[encoded data removed]",
      "text/plain": [
       "<matplotlib.figure.Figure at 0x7efcbc2c4978>"
      ]
     },
     "metadata": {},
     "output_type": "display_data"
    }
   ],
   "source": [
    "plt.figure(figsize=(12,8))\n",
    "\n",
    "for p_r in all_ratios_plots:\n",
    "    plt.plot(p_r)\n",
    "plt.show()\n"
   ]
  },
  {
   "cell_type": "code",
   "execution_count": 167,
   "metadata": {},
   "outputs": [
    {
     "data": {
      "text/plain": [
       "15.804110043089162"
      ]
     },
     "execution_count": 167,
     "metadata": {},
     "output_type": "execute_result"
    }
   ],
   "source": [
    "c_1 / c_2"
   ]
  },
  {
   "cell_type": "code",
   "execution_count": 267,
   "metadata": {
    "collapsed": true
   },
   "outputs": [],
   "source": [
    "population = population_f + [x[::-1] for x in population_b]"
   ]
  },
  {
   "cell_type": "code",
   "execution_count": 134,
   "metadata": {},
   "outputs": [
    {
     "data": {
      "text/plain": [
       "33222"
      ]
     },
     "execution_count": 134,
     "metadata": {},
     "output_type": "execute_result"
    }
   ],
   "source": [
    "all_pairs = []\n",
    "for seq in population:\n",
    "    for x in ngrams(seq,2):\n",
    "        all_pairs.append(x)\n",
    "len(all_pairs)"
   ]
  },
  {
   "cell_type": "code",
   "execution_count": 268,
   "metadata": {
    "collapsed": true
   },
   "outputs": [],
   "source": [
    "graph = np.zeros((11,11))\n",
    "\n",
    "for p in all_pairs:\n",
    "    graph[p[0],p[1]] += 1"
   ]
  },
  {
   "cell_type": "code",
   "execution_count": 269,
   "metadata": {
    "collapsed": true
   },
   "outputs": [],
   "source": [
    "c_1, c_2, c_3 = 0,0,0\n",
    "for p in all_pairs:\n",
    "    if p in pairs_1:\n",
    "        c_1+=1\n",
    "    elif p in pairs_2:\n",
    "        c_2+=1\n",
    "    else:\n",
    "        c_3+=1"
   ]
  },
  {
   "cell_type": "code",
   "execution_count": 270,
   "metadata": {
    "scrolled": true
   },
   "outputs": [
    {
     "name": "stdout",
     "output_type": "stream",
     "text": [
      "224870 18631 22514 12.069668831517363\n"
     ]
    }
   ],
   "source": [
    "print(c_1, c_2, c_3, c_1 / c_2)"
   ]
  },
  {
   "cell_type": "code",
   "execution_count": 271,
   "metadata": {
    "scrolled": false
   },
   "outputs": [
    {
     "data": {
      "image/png": "[encoded data removed]",
      "text/plain": [
       "<matplotlib.figure.Figure at 0x7efcbc30e7b8>"
      ]
     },
     "metadata": {},
     "output_type": "display_data"
    }
   ],
   "source": [
    "plot_gr(graph, log = 1)"
   ]
  },
  {
   "cell_type": "code",
   "execution_count": 589,
   "metadata": {},
   "outputs": [
    {
     "data": {
      "text/plain": [
       "3162"
      ]
     },
     "execution_count": 589,
     "metadata": {},
     "output_type": "execute_result"
    }
   ],
   "source": [
    "c_2"
   ]
  },
  {
   "cell_type": "code",
   "execution_count": 336,
   "metadata": {},
   "outputs": [
    {
     "data": {
      "text/plain": [
       "18988"
      ]
     },
     "execution_count": 336,
     "metadata": {},
     "output_type": "execute_result"
    }
   ],
   "source": [
    "c_3"
   ]
  },
  {
   "cell_type": "code",
   "execution_count": 480,
   "metadata": {},
   "outputs": [
    {
     "data": {
      "text/plain": [
       "<generator object ngrams at 0x7f7b6a570e60>"
      ]
     },
     "execution_count": 480,
     "metadata": {},
     "output_type": "execute_result"
    }
   ],
   "source": [
    "pairs_1"
   ]
  },
  {
   "cell_type": "code",
   "execution_count": 479,
   "metadata": {},
   "outputs": [
    {
     "data": {
      "text/plain": [
       "[(0, 1),\n",
       " (1, 2),\n",
       " (2, 3),\n",
       " (3, 4),\n",
       " (4, 5),\n",
       " (5, 0),\n",
       " (0, 1),\n",
       " (1, 2),\n",
       " (2, 3),\n",
       " (3, 4),\n",
       " (4, 5),\n",
       " (5, 0),\n",
       " (0, 1),\n",
       " (1, 2),\n",
       " (2, 3),\n",
       " (3, 4),\n",
       " (4, 5),\n",
       " (5, 0),\n",
       " (0, 1),\n",
       " (1, 2),\n",
       " (2, 3),\n",
       " (3, 4),\n",
       " (4, 5),\n",
       " (5, 0),\n",
       " (0, 1),\n",
       " (1, 2),\n",
       " (2, 3),\n",
       " (3, 4),\n",
       " (4, 5),\n",
       " (0, 6)]"
      ]
     },
     "execution_count": 479,
     "metadata": {},
     "output_type": "execute_result"
    }
   ],
   "source": [
    "all_pairs[:30]"
   ]
  },
  {
   "cell_type": "code",
   "execution_count": null,
   "metadata": {
    "collapsed": true
   },
   "outputs": [],
   "source": []
  },
  {
   "cell_type": "code",
   "execution_count": null,
   "metadata": {
    "collapsed": true
   },
   "outputs": [],
   "source": []
  },
  {
   "cell_type": "code",
   "execution_count": null,
   "metadata": {
    "collapsed": true
   },
   "outputs": [],
   "source": []
  },
  {
   "cell_type": "code",
   "execution_count": 283,
   "metadata": {},
   "outputs": [
    {
     "data": {
      "text/plain": [
       "[[16, 12, 17, 15, 14, 13, 10, 9, 8, 6, 3, 0, 1],\n",
       " [16, 12, 17, 15, 14, 13, 10, 9, 8, 6, 3, 0, 1],\n",
       " [16, 12, 17, 15, 14, 13, 10, 9, 8, 6, 3, 0, 1],\n",
       " [16, 12, 17, 15, 14, 13, 10, 9, 8, 6, 3, 0, 1],\n",
       " [16, 12, 17, 15, 14, 13, 10, 9, 8, 6, 3, 0, 1],\n",
       " [11, 7, 5, 2, 4],\n",
       " [11, 7, 5, 2, 4],\n",
       " [11, 7, 5, 2, 4],\n",
       " [11, 7, 5, 2, 4],\n",
       " [11, 7, 5, 2, 4],\n",
       " [34, 33, 32, 31, 28, 26, 27, 30, 25, 18, 19, 24],\n",
       " [29, 21, 23, 22, 20],\n",
       " [17, 15, 14],\n",
       " [13, 10, 9],\n",
       " [6, 3, 0],\n",
       " [11, 7],\n",
       " [7, 5, 2],\n",
       " [11, 7, 5, 2],\n",
       " [11, 7, 5, 2, 4],\n",
       " [32, 31],\n",
       " [29, 21],\n",
       " [16, 12, 17, 15, 14],\n",
       " [16, 12, 17, 15],\n",
       " [8, 6],\n",
       " [10, 9],\n",
       " [11, 7, 5, 2],\n",
       " [11, 7],\n",
       " [11, 7],\n",
       " [7, 5, 2],\n",
       " [12, 17, 15, 14],\n",
       " [14, 17, 15],\n",
       " [2, 4],\n",
       " [28, 26, 27, 30],\n",
       " [22, 20],\n",
       " [12, 17, 15],\n",
       " [16, 12],\n",
       " [12, 17],\n",
       " [6, 3],\n",
       " [11, 7, 5, 2],\n",
       " [11, 7, 5],\n",
       " [11, 7, 5, 2],\n",
       " [34, 33, 32, 31, 28, 26, 27, 30],\n",
       " [29, 21],\n",
       " [12, 17],\n",
       " [17, 15],\n",
       " [28, 26, 27, 30],\n",
       " [0, 1],\n",
       " [0, 1],\n",
       " [5, 2, 4],\n",
       " [5, 2, 4],\n",
       " [23, 22],\n",
       " [3, 0],\n",
       " [11, 7],\n",
       " [16, 12, 17, 15, 14, 13, 10, 9, 8, 6],\n",
       " [13, 10, 9],\n",
       " [15, 14],\n",
       " [11, 7, 5],\n",
       " [11, 7, 5],\n",
       " [5, 2],\n",
       " [32, 31, 28, 26, 27],\n",
       " [17, 15],\n",
       " [2, 4],\n",
       " [5, 2],\n",
       " [11, 7],\n",
       " [28, 26, 27, 30],\n",
       " [22, 20],\n",
       " [13, 10, 9, 8, 6],\n",
       " [15, 14],\n",
       " [7, 5, 2],\n",
       " [7, 5, 2, 4],\n",
       " [5, 2, 4],\n",
       " [23, 22],\n",
       " [27, 30, 25, 11, 7],\n",
       " [6, 3, 0],\n",
       " [5, 2],\n",
       " [7, 5, 2, 4],\n",
       " [2, 4],\n",
       " [10, 9],\n",
       " [2, 4],\n",
       " [15, 14, 13, 10],\n",
       " [9, 8, 6, 3, 0],\n",
       " [9, 8],\n",
       " [16, 12, 17],\n",
       " [11, 7, 5, 2],\n",
       " [2, 4],\n",
       " [5, 2, 4],\n",
       " [11, 7, 5, 2],\n",
       " [33, 32, 31, 28],\n",
       " [12, 17],\n",
       " [11, 7, 5],\n",
       " [26, 27, 30],\n",
       " [22, 20],\n",
       " [13, 10, 9, 8, 6],\n",
       " [7, 5],\n",
       " [7, 5],\n",
       " [5, 2, 4],\n",
       " [25, 18],\n",
       " [2, 4, 7],\n",
       " [7, 5],\n",
       " [15, 1],\n",
       " [13, 10],\n",
       " [9, 8, 6, 3, 0],\n",
       " [0, 1],\n",
       " [5, 2, 4],\n",
       " [7, 5, 2],\n",
       " [17, 15, 14],\n",
       " [3, 0],\n",
       " [2, 4],\n",
       " [10, 9],\n",
       " [5, 2],\n",
       " [27, 30],\n",
       " [22, 20],\n",
       " [5, 2, 1],\n",
       " [5, 2, 4],\n",
       " [15, 14],\n",
       " [5, 2],\n",
       " [32, 31],\n",
       " [8, 6],\n",
       " [10, 9],\n",
       " [11, 7],\n",
       " [15, 14],\n",
       " [17, 15],\n",
       " [16, 12, 17, 15],\n",
       " [13, 10, 9],\n",
       " [8, 6, 3, 0, 1],\n",
       " [16, 12],\n",
       " [5, 2],\n",
       " [2, 4],\n",
       " [11, 7, 5, 2],\n",
       " [34, 33],\n",
       " [29, 21],\n",
       " [17, 15],\n",
       " [3, 0],\n",
       " [2, 4],\n",
       " [5, 2, 4],\n",
       " [11, 7],\n",
       " [13, 10],\n",
       " [0, 1],\n",
       " [5, 2],\n",
       " [23, 22],\n",
       " [6, 3],\n",
       " [8, 6],\n",
       " [0, 1],\n",
       " [5, 2],\n",
       " [5, 2],\n",
       " [2, 4],\n",
       " [27, 30],\n",
       " [17, 15, 14],\n",
       " [3, 0],\n",
       " [10, 9],\n",
       " [7, 5, 2],\n",
       " [0, 1],\n",
       " [6, 3],\n",
       " [17, 15],\n",
       " [16, 12],\n",
       " [8, 6],\n",
       " [7, 5],\n",
       " [11, 7],\n",
       " [12, 17],\n",
       " [26, 27],\n",
       " [17, 15],\n",
       " [0, 1],\n",
       " [0, 1],\n",
       " [3, 0],\n",
       " [5, 2],\n",
       " [31, 28, 26],\n",
       " [5, 2],\n",
       " [7, 5],\n",
       " [5, 2],\n",
       " [8, 6],\n",
       " [7, 5, 2],\n",
       " [11, 7],\n",
       " [5, 2],\n",
       " [2, 4],\n",
       " [5, 2, 20],\n",
       " [12, 17],\n",
       " [11, 7, 5],\n",
       " [17, 15],\n",
       " [2, 4],\n",
       " [5, 3],\n",
       " [11, 7],\n",
       " [16, 12],\n",
       " [10, 9],\n",
       " [7, 5],\n",
       " [32, 31],\n",
       " [2, 4],\n",
       " [5, 2],\n",
       " [11, 7],\n",
       " [27, 30],\n",
       " [15, 14],\n",
       " [7, 5],\n",
       " [5, 2, 4],\n",
       " [11, 7],\n",
       " [5, 2],\n",
       " [5, 2],\n",
       " [2, 4],\n",
       " [10, 9, 8, 6, 3],\n",
       " [13, 10, 9, 8, 6],\n",
       " [11, 7, 5],\n",
       " [11, 7],\n",
       " [7, 5],\n",
       " [12, 17, 15, 14],\n",
       " [14, 17, 15],\n",
       " [2, 4],\n",
       " [28, 26],\n",
       " [0, 1],\n",
       " [9, 8, 6, 3],\n",
       " [0, 1],\n",
       " [0, 1],\n",
       " [7, 5, 2],\n",
       " [3, 0],\n",
       " [13, 10, 9],\n",
       " [6, 3],\n",
       " [6, 3, 0, 1],\n",
       " [27, 30],\n",
       " [17, 15],\n",
       " [5, 2],\n",
       " [2, 4],\n",
       " [10, 9],\n",
       " [2, 4],\n",
       " [6, 3],\n",
       " [5, 2],\n",
       " [16, 12, 17],\n",
       " [5, 2],\n",
       " [17, 15],\n",
       " [0, 1],\n",
       " [0, 1],\n",
       " [5, 2],\n",
       " [31, 28],\n",
       " [21, 23, 22, 20],\n",
       " [5, 2, 4],\n",
       " [29, 21],\n",
       " [8, 6],\n",
       " [11, 7],\n",
       " [27, 30],\n",
       " [22, 20],\n",
       " [7, 5],\n",
       " [17, 15],\n",
       " [28, 26],\n",
       " [2, 4],\n",
       " [11, 7],\n",
       " [16, 12, 17, 15, 14, 13],\n",
       " [10, 9],\n",
       " [7, 5],\n",
       " [32, 31, 28, 26],\n",
       " [5, 2],\n",
       " [22, 20],\n",
       " [2, 4],\n",
       " [23, 22],\n",
       " [11, 7],\n",
       " [5, 2],\n",
       " [17, 15],\n",
       " [6, 3],\n",
       " [10, 9, 8],\n",
       " [9, 8, 6, 3, 0],\n",
       " [2, 4],\n",
       " [7, 5],\n",
       " [11, 7],\n",
       " [29, 21],\n",
       " [15, 14],\n",
       " [5, 2],\n",
       " [29, 21],\n",
       " [15, 14],\n",
       " [11, 7],\n",
       " [11, 7],\n",
       " [2, 4],\n",
       " [26, 27],\n",
       " [12, 17, 15],\n",
       " [6, 3, 2],\n",
       " [12, 17],\n",
       " [28, 26, 27],\n",
       " [10, 9],\n",
       " [17, 15],\n",
       " [27, 30],\n",
       " [10, 9],\n",
       " [2, 4],\n",
       " [5, 2],\n",
       " [16, 12, 17],\n",
       " [7, 5],\n",
       " [11, 7],\n",
       " [26, 27],\n",
       " [7, 5],\n",
       " [13, 10],\n",
       " [3, 0],\n",
       " [0, 1],\n",
       " [2, 4],\n",
       " [3, 0],\n",
       " [15, 14, 13, 10, 9, 8, 6],\n",
       " [15, 14, 13, 10, 9],\n",
       " [15, 14, 13],\n",
       " [2, 4],\n",
       " [11, 7, 5, 2, 4],\n",
       " [29, 21, 23, 22],\n",
       " [3, 0, 1],\n",
       " [11, 7],\n",
       " [28, 26],\n",
       " [22, 20],\n",
       " [0, 1],\n",
       " [0, 1],\n",
       " [7, 5, 2, 4],\n",
       " [5, 2, 4],\n",
       " [23, 22],\n",
       " [3, 0],\n",
       " [7, 5],\n",
       " [13, 10, 9],\n",
       " [3, 0],\n",
       " [5, 2, 4],\n",
       " [27, 30, 25, 18],\n",
       " [17, 15, 14],\n",
       " [3, 0],\n",
       " [5, 2],\n",
       " [10, 9],\n",
       " [11, 7],\n",
       " [7, 5, 2],\n",
       " [6, 3],\n",
       " [2, 4],\n",
       " [8, 6],\n",
       " [7, 5],\n",
       " [11, 7],\n",
       " [2, 4],\n",
       " [12, 17],\n",
       " [0, 1],\n",
       " [3, 0],\n",
       " [3, 0, 1],\n",
       " [2, 4],\n",
       " [7, 5, 2],\n",
       " [31, 28, 26, 27, 30, 25],\n",
       " [21, 23, 22, 20],\n",
       " [5, 2, 4],\n",
       " [16, 12],\n",
       " [2, 8],\n",
       " [5, 2],\n",
       " [27, 30],\n",
       " [22, 20],\n",
       " [12, 17],\n",
       " [7, 5],\n",
       " [5, 2],\n",
       " [28, 26],\n",
       " [14, 13],\n",
       " [7, 5],\n",
       " [11, 7],\n",
       " [15, 14],\n",
       " [7, 5],\n",
       " [2, 4],\n",
       " [11, 7],\n",
       " [5, 2],\n",
       " [5, 2],\n",
       " [17, 15, 14],\n",
       " [6, 3],\n",
       " [9, 8, 6],\n",
       " [13, 10],\n",
       " [2, 4],\n",
       " [2, 4],\n",
       " [7, 5, 2],\n",
       " [11, 7],\n",
       " [29, 21, 23],\n",
       " [29, 21],\n",
       " [17, 15],\n",
       " [26, 27],\n",
       " [12, 17],\n",
       " [5, 2],\n",
       " [29, 21],\n",
       " [17, 15],\n",
       " [10, 9, 8],\n",
       " [30, 25],\n",
       " [9, 8],\n",
       " [7, 5],\n",
       " [2, 4],\n",
       " [2, 4, 11],\n",
       " [8, 6],\n",
       " [7, 5],\n",
       " [3, 0],\n",
       " [21, 23, 2],\n",
       " [17, 15],\n",
       " [2, 4],\n",
       " [10, 9],\n",
       " [10, 9, 8, 6, 3],\n",
       " [9, 8],\n",
       " [8, 6],\n",
       " [10, 9],\n",
       " [9, 8, 6, 3],\n",
       " [11, 7],\n",
       " [13, 10],\n",
       " [12, 17],\n",
       " [17, 15],\n",
       " [12, 17, 15],\n",
       " [14, 0, 4],\n",
       " [26, 27, 2],\n",
       " [22, 20],\n",
       " [5, 2],\n",
       " [7, 5],\n",
       " [7, 5],\n",
       " [29, 21],\n",
       " [3, 0],\n",
       " [11, 7],\n",
       " [13, 10, 9, 6],\n",
       " [27, 30],\n",
       " [5, 2, 4],\n",
       " [5, 2, 4],\n",
       " [15, 14],\n",
       " [5, 2],\n",
       " [31, 28],\n",
       " [32, 31],\n",
       " [2, 4],\n",
       " [2, 4],\n",
       " [2, 4],\n",
       " [11, 7],\n",
       " [13, 10],\n",
       " [1, 4],\n",
       " [5, 2],\n",
       " [5, 2],\n",
       " [26, 27],\n",
       " [3, 0],\n",
       " [7, 5],\n",
       " [7, 5],\n",
       " [5, 2],\n",
       " [11, 7],\n",
       " [2, 4],\n",
       " [11, 7],\n",
       " [15, 14],\n",
       " [7, 5],\n",
       " [5, 2],\n",
       " [16, 12, 17, 15, 14],\n",
       " [16, 12],\n",
       " [17, 15, 14, 13],\n",
       " [14, 13, 10, 9],\n",
       " [14, 13, 10],\n",
       " [11, 7],\n",
       " [11, 7, 5, 2],\n",
       " [5, 2],\n",
       " [31, 28, 26],\n",
       " [29, 21, 23, 22, 20],\n",
       " [15, 14, 13],\n",
       " [3, 0],\n",
       " [5, 2],\n",
       " [28, 26, 27],\n",
       " [0, 1],\n",
       " [7, 5, 2, 4],\n",
       " [5, 2],\n",
       " [25, 18],\n",
       " [23, 22],\n",
       " [3, 0],\n",
       " [11, 7],\n",
       " [15, 1],\n",
       " [13, 10],\n",
       " [0, 1],\n",
       " [6, 3, 0],\n",
       " [7, 5, 2],\n",
       " [2, 4],\n",
       " [23, 22],\n",
       " [3, 0],\n",
       " [5, 2],\n",
       " [2, 4],\n",
       " [10, 9],\n",
       " [11, 7],\n",
       " [0, 1],\n",
       " [2, 4],\n",
       " [15, 14],\n",
       " [16, 12],\n",
       " [8, 6],\n",
       " [15, 14],\n",
       " [12, 17],\n",
       " [7, 5],\n",
       " [26, 27],\n",
       " [17, 15],\n",
       " [3, 0],\n",
       " [0, 1],\n",
       " [3, 0, 1, 15],\n",
       " [7, 5],\n",
       " [5, 2],\n",
       " [26, 27, 30],\n",
       " [2, 4],\n",
       " [16, 12],\n",
       " [7, 5],\n",
       " [11, 7],\n",
       " [5, 2],\n",
       " [2, 4],\n",
       " [22, 20],\n",
       " [12, 17],\n",
       " [11, 7],\n",
       " [17, 15],\n",
       " [3, 0],\n",
       " [16, 12, 17, 15, 14, 13, 10],\n",
       " [2, 4],\n",
       " [5, 2],\n",
       " [27, 30],\n",
       " [27, 20],\n",
       " [7, 5],\n",
       " [5, 2],\n",
       " [2, 4],\n",
       " [10, 9, 8, 6],\n",
       " [9, 8, 6, 3, 0],\n",
       " [13, 10, 9],\n",
       " [11, 7],\n",
       " [27, 30],\n",
       " [29, 21],\n",
       " [5, 2],\n",
       " [10, 9],\n",
       " [17, 15, 9],\n",
       " [17, 15],\n",
       " [2, 4],\n",
       " [12, 17],\n",
       " [11, 7, 5, 2],\n",
       " [7, 5],\n",
       " [12, 17],\n",
       " [28, 26, 27],\n",
       " [26, 27],\n",
       " [10, 9, 8],\n",
       " [15, 14],\n",
       " [5, 2],\n",
       " [2, 11, 7],\n",
       " [14, 13],\n",
       " [7, 5, 2],\n",
       " [26, 27, 30],\n",
       " [7, 5],\n",
       " [17, 15, 14],\n",
       " [2, 4],\n",
       " [10, 9],\n",
       " [5, 2],\n",
       " [0, 1],\n",
       " [8, 6, 3],\n",
       " [2, 4],\n",
       " [5, 2],\n",
       " [13, 10],\n",
       " [32, 31],\n",
       " [26, 27],\n",
       " [7, 5],\n",
       " [7, 5],\n",
       " [12, 17],\n",
       " [0, 1],\n",
       " [0, 5],\n",
       " [10, 9],\n",
       " [13, 10, 9, 6],\n",
       " [3, 0],\n",
       " [9, 8],\n",
       " [7, 5],\n",
       " [5, 2],\n",
       " [9, 15, 14],\n",
       " [11, 7],\n",
       " [5, 2],\n",
       " [5, 2],\n",
       " [11, 7],\n",
       " [26, 27],\n",
       " [7, 5, 2],\n",
       " [5, 2],\n",
       " [5, 2],\n",
       " [5, 3],\n",
       " [2, 4],\n",
       " [5, 2],\n",
       " [6, 3],\n",
       " [12, 17],\n",
       " [17, 15, 14],\n",
       " [5, 2, 4],\n",
       " [5, 2],\n",
       " [32, 31],\n",
       " [23, 22, 20],\n",
       " [6, 3],\n",
       " [11, 7],\n",
       " [11, 7],\n",
       " [17, 15],\n",
       " [12, 17],\n",
       " [33, 32, 31, 28],\n",
       " [17, 15],\n",
       " [8, 6],\n",
       " [5, 2],\n",
       " [6, 3],\n",
       " [3, 1],\n",
       " [5, 2],\n",
       " [5, 2],\n",
       " [32, 31],\n",
       " [17, 15, 14, 8],\n",
       " [8, 6],\n",
       " [31, 28, 26],\n",
       " [2, 20],\n",
       " [2, 4],\n",
       " [10, 9],\n",
       " [2, 4],\n",
       " [11, 7],\n",
       " [6, 3],\n",
       " [13, 10, 9],\n",
       " [17, 15],\n",
       " [5, 2],\n",
       " [31, 28, 26],\n",
       " [11, 7],\n",
       " [8, 6, 3],\n",
       " [2, 4],\n",
       " [11, 7],\n",
       " [28, 26],\n",
       " [7, 5],\n",
       " [16, 12],\n",
       " [14, 13],\n",
       " [17, 15, 14, 13, 10],\n",
       " [5, 2, 4],\n",
       " [11, 7, 5],\n",
       " [7, 5],\n",
       " [11, 7],\n",
       " [23, 22],\n",
       " [12, 17, 15],\n",
       " [2, 4],\n",
       " [5, 2, 4],\n",
       " [11, 7],\n",
       " [28, 26, 27],\n",
       " [22, 20],\n",
       " [6, 3, 0, 1],\n",
       " [0, 1],\n",
       " [25, 18],\n",
       " [11, 7],\n",
       " [9, 8],\n",
       " [5, 2],\n",
       " [7, 5],\n",
       " [2, 4],\n",
       " [27, 30, 25],\n",
       " [3, 0],\n",
       " [5, 2],\n",
       " [2, 4],\n",
       " [10, 9],\n",
       " [7, 5],\n",
       " [0, 1],\n",
       " [5, 2],\n",
       " [12, 17],\n",
       " [7, 5],\n",
       " [2, 4],\n",
       " [28, 19, 24],\n",
       " [12, 17],\n",
       " [7, 5],\n",
       " [0, 1],\n",
       " [3, 0],\n",
       " [0, 1],\n",
       " [3, 0, 1],\n",
       " [7, 5, 2],\n",
       " [2, 4],\n",
       " [5, 2],\n",
       " [21, 23, 22, 20],\n",
       " [5, 2, 6],\n",
       " [5, 2],\n",
       " [7, 5],\n",
       " [29, 21],\n",
       " [27, 30],\n",
       " [2, 4],\n",
       " [22, 20],\n",
       " [11, 7],\n",
       " [5, 2],\n",
       " [9, 15],\n",
       " [3, 0],\n",
       " [17, 15],\n",
       " [10, 9],\n",
       " [7, 5],\n",
       " [2, 4],\n",
       " [27, 30],\n",
       " [22, 20],\n",
       " [6, 3, 15],\n",
       " [5, 2, 4],\n",
       " [23, 22],\n",
       " [11, 7],\n",
       " [3, 0],\n",
       " [5, 2],\n",
       " [5, 2],\n",
       " [10, 9],\n",
       " [17, 15, 14, 13, 10],\n",
       " [9, 8, 6, 3, 0, 1],\n",
       " [13, 10],\n",
       " [7, 5],\n",
       " [27, 30, 25],\n",
       " [17, 15],\n",
       " [10, 9],\n",
       " [11, 7],\n",
       " [17, 15],\n",
       " [26, 27],\n",
       " [11, 7],\n",
       " [7, 5],\n",
       " [7, 5, 2],\n",
       " [17, 15],\n",
       " [22, 20, 7],\n",
       " [26, 27, 30],\n",
       " [2, 4],\n",
       " [30, 25],\n",
       " [9, 8],\n",
       " [2, 4],\n",
       " [8, 6],\n",
       " [2, 4],\n",
       " [7, 5],\n",
       " [6, 3, 4],\n",
       " [17, 9],\n",
       " [5, 2],\n",
       " [11, 7],\n",
       " [10, 9, 8, 6, 3],\n",
       " [8, 6, 3],\n",
       " [11, 7],\n",
       " [12, 17],\n",
       " [14, 17],\n",
       " [7, 5],\n",
       " [12, 17],\n",
       " [0, 1],\n",
       " [5, 2],\n",
       " [3, 0],\n",
       " [6, 3, 0, 13, 10],\n",
       " [5, 2],\n",
       " [7, 5, 2, 4],\n",
       " [5, 2],\n",
       " [2, 4],\n",
       " [15, 14],\n",
       " [5, 2],\n",
       " [15, 14],\n",
       " [27, 30],\n",
       " [15, 14],\n",
       " [2, 4],\n",
       " [13, 10],\n",
       " [1, 4],\n",
       " [15, 14],\n",
       " [3, 0],\n",
       " [7, 5],\n",
       " [7, 5],\n",
       " [2, 20],\n",
       " [28, 26],\n",
       " [2, 4],\n",
       " [5, 2],\n",
       " [11, 7],\n",
       " [5, 2],\n",
       " [13, 10, 9, 8, 6, 3, 0],\n",
       " [12, 17, 15],\n",
       " [17, 15, 14],\n",
       " [7, 5, 2, 4],\n",
       " [5, 2],\n",
       " [11, 7, 5],\n",
       " [32, 31],\n",
       " [6, 3, 0],\n",
       " [27, 30],\n",
       " [12, 17],\n",
       " [12, 17],\n",
       " [6, 3],\n",
       " [11, 7],\n",
       " [33, 32, 31, 28],\n",
       " [12, 17],\n",
       " [2, 4],\n",
       " [14, 30],\n",
       " [17, 15],\n",
       " [22, 20],\n",
       " [8, 6],\n",
       " [7, 5, 2],\n",
       " [7, 5],\n",
       " [6, 3, 1],\n",
       " [7, 5],\n",
       " [10, 9],\n",
       " [10, 9],\n",
       " [0, 1],\n",
       " [3, 0],\n",
       " [2, 4],\n",
       " [23, 22],\n",
       " [2, 4],\n",
       " [6, 3],\n",
       " [0, 1],\n",
       " [31, 28, 26],\n",
       " [10, 9],\n",
       " [2, 4],\n",
       " [11, 7],\n",
       " [8, 6, 3],\n",
       " [10, 9],\n",
       " [11, 7],\n",
       " [0, 1],\n",
       " [13, 10],\n",
       " [6, 3, 0, 0, 1],\n",
       " [22, 20],\n",
       " [5, 2],\n",
       " [27, 30],\n",
       " [15, 14, 13],\n",
       " [7, 5],\n",
       " [31, 28, 26],\n",
       " [8, 6],\n",
       " [11, 7],\n",
       " [12, 17],\n",
       " [5, 2],\n",
       " [16, 12, 17],\n",
       " [2, 1],\n",
       " [9, 8, 6],\n",
       " [14, 13, 10, 9],\n",
       " [17, 15],\n",
       " [28, 26, 27, 30],\n",
       " [7, 5],\n",
       " [2, 4],\n",
       " [7, 5],\n",
       " [16, 12],\n",
       " [16, 12, 17],\n",
       " [10, 9],\n",
       " [26, 27, 30],\n",
       " [7, 5],\n",
       " [5, 2],\n",
       " [26, 27],\n",
       " [0, 1],\n",
       " [23, 22],\n",
       " [11, 7, 5],\n",
       " [16, 12, 17],\n",
       " [10, 9],\n",
       " [26, 27],\n",
       " [17, 15],\n",
       " [28, 26, 27, 30],\n",
       " [9, 8],\n",
       " [2, 4],\n",
       " [5, 2],\n",
       " [6, 3, 0],\n",
       " [5, 2],\n",
       " [13, 10],\n",
       " [8, 6],\n",
       " [16, 12, 17],\n",
       " [2, 15, 14],\n",
       " [22, 20],\n",
       " [2, 4],\n",
       " [25, 18],\n",
       " [8, 6],\n",
       " [5, 2],\n",
       " [27, 30],\n",
       " [5, 12],\n",
       " [6, 3],\n",
       " [12, 22],\n",
       " [0, 1],\n",
       " [8, 6],\n",
       " [11, 7],\n",
       " [10, 9],\n",
       " [7, 5],\n",
       " [2, 4],\n",
       " [7, 5],\n",
       " [5, 2],\n",
       " [11, 7],\n",
       " [11, 7],\n",
       " [0, 1],\n",
       " [0, 1],\n",
       " [5, 2],\n",
       " [10, 9],\n",
       " [5, 2],\n",
       " [0, 1],\n",
       " [29, 21],\n",
       " [27, 30],\n",
       " [17, 15],\n",
       " [10, 9],\n",
       " [5, 2],\n",
       " [29, 21],\n",
       " [27, 30],\n",
       " [0, 1],\n",
       " [3, 0],\n",
       " [22, 20],\n",
       " [3, 0],\n",
       " [2, 4],\n",
       " [6, 3],\n",
       " [23, 22, 7],\n",
       " [2, 8],\n",
       " [5, 2],\n",
       " [11, 7],\n",
       " [7, 5],\n",
       " [6, 3],\n",
       " [9, 8, 6],\n",
       " [13, 10],\n",
       " [11, 7],\n",
       " [17, 15],\n",
       " [26, 2],\n",
       " [12, 17],\n",
       " [9, 8],\n",
       " [30, 25],\n",
       " [10, 9, 8, 6],\n",
       " [9, 8],\n",
       " [13, 15],\n",
       " [22, 20],\n",
       " [15, 14, 13, 10, 9, 8],\n",
       " [12, 17, 15, 14, 13, 10, 9, 8, 6, 3],\n",
       " [15, 14],\n",
       " [16, 12, 17, 15, 14, 13, 10, 9, 8, 6],\n",
       " [9, 8, 6, 3, 0, 1],\n",
       " [11, 7],\n",
       " [11, 7, 5],\n",
       " [34, 33, 32, 31, 28],\n",
       " [29, 21, 23],\n",
       " [17, 15],\n",
       " [5, 2],\n",
       " [11, 7],\n",
       " [28, 26],\n",
       " [22, 20],\n",
       " [13, 10, 9, 8, 6, 3, 0, 1],\n",
       " [7, 5, 2],\n",
       " [10, 7, 5],\n",
       " [5, 2, 4],\n",
       " [25, 18],\n",
       " [23, 22],\n",
       " [6, 0],\n",
       " [11, 7],\n",
       " [7, 5],\n",
       " [6, 3],\n",
       " [8, 6, 3, 0, 1],\n",
       " [0, 1],\n",
       " [5, 2, 4],\n",
       " [2, 4],\n",
       " [27, 30, 25],\n",
       " [23, 22],\n",
       " [2, 4],\n",
       " [10, 9],\n",
       " [5, 11, 7],\n",
       " [27, 30],\n",
       " [11, 2, 4],\n",
       " [2, 4],\n",
       " [18, 19],\n",
       " [5, 2],\n",
       " [32, 31],\n",
       " [8, 6],\n",
       " [10, 9],\n",
       " [28, 19],\n",
       " [12, 17],\n",
       " [5, 2],\n",
       " [26, 27],\n",
       " [17, 15],\n",
       " [0, 1],\n",
       " [3, 0, 1, 15],\n",
       " [31, 28],\n",
       " [21, 23, 22],\n",
       " [5, 2, 4],\n",
       " [29, 21],\n",
       " [16, 12, 17, 15],\n",
       " [7, 5, 2],\n",
       " [15, 14],\n",
       " [22, 20],\n",
       " [12, 17],\n",
       " [11, 7, 5],\n",
       " [5, 2],\n",
       " [32, 31],\n",
       " [17, 15],\n",
       " [5, 2],\n",
       " [22, 20],\n",
       " [15, 14],\n",
       " [2, 4],\n",
       " [11, 7],\n",
       " [6, 3, 0],\n",
       " [10, 9],\n",
       " [2, 4],\n",
       " [10, 9, 8],\n",
       " [10, 9],\n",
       " [9, 8],\n",
       " [30, 25],\n",
       " [29, 21, 23],\n",
       " [5, 2],\n",
       " [29, 21],\n",
       " [12, 17, 15, 14],\n",
       " [11, 7],\n",
       " [12, 17, 15],\n",
       " [12, 17],\n",
       " [6, 3, 2],\n",
       " [7, 5],\n",
       " [29, 21],\n",
       " [12, 17],\n",
       " [28, 26, 27, 30],\n",
       " [17, 15, 14],\n",
       " [17, 15],\n",
       " [11, 7],\n",
       " [26, 27],\n",
       " [10, 9],\n",
       " [15, 14],\n",
       " [2, 4],\n",
       " [30, 25, 11],\n",
       " [14, 13, 10],\n",
       " [8, 6],\n",
       " [16, 12],\n",
       " [7, 5, 2],\n",
       " [11, 7],\n",
       " [2, 4],\n",
       " [15, 1],\n",
       " [13, 10],\n",
       " [0, 1],\n",
       " [2, 4],\n",
       " [17, 15],\n",
       " [3, 0],\n",
       " [10, 9],\n",
       " [5, 2],\n",
       " [2, 1],\n",
       " [11, 7],\n",
       " [15, 14],\n",
       " [10, 9, 8],\n",
       " [9, 8],\n",
       " [8, 6],\n",
       " [11, 7, 5],\n",
       " [5, 2, 4],\n",
       " [2, 4],\n",
       " [13, 10, 9],\n",
       " [3, 0],\n",
       " [12, 17],\n",
       " [8, 6, 5],\n",
       " [12, 17],\n",
       " [3, 0],\n",
       " [11, 7],\n",
       " [7, 5],\n",
       " [5, 2],\n",
       " [7, 5, 2, 4],\n",
       " [5, 2],\n",
       " [5, 2],\n",
       " [2, 4],\n",
       " [5, 2],\n",
       " [6, 3, 0, 1, 22],\n",
       " [5, 2],\n",
       " [27, 30],\n",
       " [17, 15],\n",
       " [34, 33],\n",
       " [2, 4],\n",
       " [11, 7],\n",
       " [1, 4],\n",
       " [5, 2],\n",
       " [2, 4],\n",
       " ...]"
      ]
     },
     "execution_count": 283,
     "metadata": {},
     "output_type": "execute_result"
    }
   ],
   "source": [
    "ES3_b"
   ]
  },
  {
   "cell_type": "code",
   "execution_count": 284,
   "metadata": {},
   "outputs": [
    {
     "data": {
      "text/plain": [
       "[[1, 0, 3, 6, 8, 9, 10, 13, 14, 15, 17, 12, 16],\n",
       " [1, 0, 3, 6, 8, 9, 10, 13, 14, 15, 17, 12, 16],\n",
       " [1, 0, 3, 6, 8, 9, 10, 13, 14, 15, 17, 12, 16],\n",
       " [1, 0, 3, 6, 8, 9, 10, 13, 14, 15, 17, 12, 16],\n",
       " [1, 0, 3, 6, 8, 9, 10, 13, 14, 15, 17, 12, 16],\n",
       " [4, 2, 5, 7, 11],\n",
       " [4, 2, 5, 7, 11],\n",
       " [4, 2, 5, 7, 11],\n",
       " [4, 2, 5, 7, 11],\n",
       " [4, 2, 5, 7, 11],\n",
       " [24, 19, 18, 25, 30, 27, 26, 28, 31, 32, 33, 34],\n",
       " [20, 22, 23, 21, 29],\n",
       " [13, 14, 15, 17, 12],\n",
       " [13, 14, 15, 17, 14],\n",
       " [1, 0, 3],\n",
       " [4, 2],\n",
       " [4, 2, 5],\n",
       " [5, 7, 11],\n",
       " [25, 30, 27, 26, 28],\n",
       " [20, 22],\n",
       " [1, 0],\n",
       " [1, 0, 3, 6, 8, 9, 10, 13],\n",
       " [1, 0],\n",
       " [1, 0],\n",
       " [4, 2, 5, 7],\n",
       " [4, 2, 5, 7],\n",
       " [4, 2, 5],\n",
       " [18, 25],\n",
       " [22, 23],\n",
       " [0, 3],\n",
       " [7, 11],\n",
       " [5, 7],\n",
       " [2, 5],\n",
       " [1, 15],\n",
       " [6, 8, 9, 10, 13],\n",
       " [3, 6],\n",
       " [1, 0, 3, 6, 8, 9],\n",
       " [1, 0, 3, 6],\n",
       " [4, 2, 5],\n",
       " [4, 2, 5, 7],\n",
       " [4, 2],\n",
       " [19, 18, 25, 30, 27],\n",
       " [22, 23],\n",
       " [14, 15, 17],\n",
       " [0, 3],\n",
       " [2, 5],\n",
       " [4, 2],\n",
       " [9, 10],\n",
       " [7, 11],\n",
       " [2, 5, 7],\n",
       " [4, 2],\n",
       " [30, 27],\n",
       " [20, 22],\n",
       " [1, 0],\n",
       " [3, 6],\n",
       " [4, 2, 5],\n",
       " [4, 2],\n",
       " [19, 18],\n",
       " [14, 15],\n",
       " [2, 5],\n",
       " [4, 2, 5],\n",
       " [31, 32],\n",
       " [15, 17],\n",
       " [17, 12, 16],\n",
       " [6, 8],\n",
       " [9, 10],\n",
       " [2, 5, 7],\n",
       " [7, 11],\n",
       " [7, 11],\n",
       " [14, 15],\n",
       " [4, 2],\n",
       " [24, 19, 28],\n",
       " [17, 12],\n",
       " [2, 5],\n",
       " [5, 7],\n",
       " [27, 26],\n",
       " [15, 17],\n",
       " [1, 0],\n",
       " [0, 3],\n",
       " [1, 0],\n",
       " [15, 1, 0, 3],\n",
       " [4, 2, 5, 7],\n",
       " [4, 2],\n",
       " [4, 2, 5, 7],\n",
       " [2, 5],\n",
       " [25, 30, 27, 26, 28, 31],\n",
       " [20, 22, 23, 21],\n",
       " [3, 6],\n",
       " [2, 5],\n",
       " [5, 7],\n",
       " [4, 2, 5],\n",
       " [21, 29],\n",
       " [15, 17, 12, 16],\n",
       " [6, 8],\n",
       " [2, 5, 7],\n",
       " [7, 11],\n",
       " [2, 5],\n",
       " [14, 15],\n",
       " [4, 2],\n",
       " [30, 27],\n",
       " [20, 22],\n",
       " [17, 12],\n",
       " [5, 7, 11],\n",
       " [2, 5],\n",
       " [15, 17],\n",
       " [26, 28],\n",
       " [4, 2],\n",
       " [0, 3],\n",
       " [7, 11],\n",
       " [9, 10, 13, 14, 15, 17, 12, 16],\n",
       " [9, 10],\n",
       " [5, 7],\n",
       " [27, 26, 28, 31, 32],\n",
       " [15, 17],\n",
       " [4, 2],\n",
       " [2, 5],\n",
       " [7, 11],\n",
       " [30, 27],\n",
       " [20, 22],\n",
       " [14, 15],\n",
       " [2, 5, 7],\n",
       " [4, 2, 5],\n",
       " [22, 23],\n",
       " [7, 11],\n",
       " [0, 3, 6],\n",
       " [2, 5],\n",
       " [4, 2, 5],\n",
       " [9, 10],\n",
       " [4, 2],\n",
       " [8, 9, 10, 13, 14, 15, 17],\n",
       " [3, 6],\n",
       " [6, 8, 9, 10],\n",
       " [1, 0, 3, 6, 8, 9],\n",
       " [8, 9, 10, 13],\n",
       " [4, 2],\n",
       " [4, 2],\n",
       " [2, 5, 7],\n",
       " [7, 11],\n",
       " [18, 25, 30, 27],\n",
       " [20, 22, 23, 21, 29],\n",
       " [14, 15],\n",
       " [2, 5],\n",
       " [21, 29],\n",
       " [14, 15, 17, 12, 16],\n",
       " [9, 10],\n",
       " [7, 11],\n",
       " [7, 11],\n",
       " [15, 17],\n",
       " [4, 2],\n",
       " [27, 26],\n",
       " [15, 17, 12],\n",
       " [17, 12],\n",
       " [4, 2, 3, 6],\n",
       " [2, 5, 7, 11],\n",
       " [5, 7],\n",
       " [2, 5, 7],\n",
       " [21, 29],\n",
       " [17, 12],\n",
       " [15, 17],\n",
       " [30, 27, 26, 28],\n",
       " [14, 15, 17],\n",
       " [9, 10],\n",
       " [15, 17],\n",
       " [2, 5],\n",
       " [7, 11],\n",
       " [30, 27, 26],\n",
       " [8, 9, 10],\n",
       " [14, 15],\n",
       " [4, 2, 5, 7],\n",
       " [4, 2],\n",
       " [7, 11, 25, 30],\n",
       " [2, 5],\n",
       " [10, 13, 14],\n",
       " [6, 8, 9],\n",
       " [8, 9],\n",
       " [17, 12, 16],\n",
       " [2, 5, 7],\n",
       " [4, 2],\n",
       " [4, 2],\n",
       " [2, 5],\n",
       " [7, 11],\n",
       " [30, 27, 26],\n",
       " [6, 8],\n",
       " [4, 2],\n",
       " [5, 7],\n",
       " [1, 15],\n",
       " [10, 13],\n",
       " [0, 3],\n",
       " [1, 0],\n",
       " [4, 2],\n",
       " [14, 15, 17],\n",
       " [0, 3],\n",
       " [4, 2],\n",
       " [9, 10],\n",
       " [2, 5],\n",
       " [1, 2],\n",
       " [4, 2, 5],\n",
       " [6, 8],\n",
       " [7, 11],\n",
       " [14, 15],\n",
       " [1, 0, 3, 6, 8, 9, 10],\n",
       " [8, 9],\n",
       " [1, 0, 3, 6, 8],\n",
       " [9, 10],\n",
       " [1, 0, 3, 6, 8, 9],\n",
       " [5, 7, 11],\n",
       " [4, 2],\n",
       " [4, 2, 5],\n",
       " [4, 2],\n",
       " [9, 10, 13],\n",
       " [0, 3],\n",
       " [31, 32],\n",
       " [15, 17, 12],\n",
       " [15, 17],\n",
       " [14, 15, 17, 12],\n",
       " [15, 17, 14],\n",
       " [4, 2],\n",
       " [4, 2, 27, 26],\n",
       " [20, 22],\n",
       " [2, 5, 7],\n",
       " [5, 7],\n",
       " [5, 7],\n",
       " [21, 29],\n",
       " [17, 12],\n",
       " [30, 27],\n",
       " [1, 0],\n",
       " [2, 5],\n",
       " [0, 3],\n",
       " [7, 11],\n",
       " [9, 10],\n",
       " [10, 13, 0, 3, 6, 9, 10, 13],\n",
       " [5, 7],\n",
       " [2, 5],\n",
       " [2, 5],\n",
       " [30, 27],\n",
       " [2, 5],\n",
       " [4, 2, 5, 7],\n",
       " [4, 2, 5],\n",
       " [25, 30],\n",
       " [0, 3, 6],\n",
       " [4, 2, 5],\n",
       " [4, 2],\n",
       " [14, 15],\n",
       " [8, 9],\n",
       " [2, 5],\n",
       " [2, 5],\n",
       " [28, 31],\n",
       " [20, 22],\n",
       " [8, 9],\n",
       " [5, 7],\n",
       " [7, 4],\n",
       " [2, 5],\n",
       " [2, 5],\n",
       " [14, 15],\n",
       " [27, 26, 28, 31, 32],\n",
       " [30, 27],\n",
       " [4, 2],\n",
       " [14, 15],\n",
       " [15, 17],\n",
       " [33, 34],\n",
       " [15, 17],\n",
       " [4, 2],\n",
       " [4, 2],\n",
       " [7, 11],\n",
       " [10, 13],\n",
       " [4, 1],\n",
       " [2, 5],\n",
       " [2, 5],\n",
       " [4, 2],\n",
       " [14, 15],\n",
       " [7, 11],\n",
       " [27, 26],\n",
       " [1, 0],\n",
       " [0, 3],\n",
       " [5, 7],\n",
       " [2, 5],\n",
       " [2, 5, 7],\n",
       " [2, 5],\n",
       " [20, 2, 5],\n",
       " [3, 5],\n",
       " [7, 11],\n",
       " [4, 2],\n",
       " [2, 5],\n",
       " [7, 11],\n",
       " [30, 27],\n",
       " [14, 15],\n",
       " [5, 7],\n",
       " [2, 5],\n",
       " [1, 0, 3, 6, 8, 9, 10, 13],\n",
       " [14, 15, 17, 12],\n",
       " [13, 14, 15, 17],\n",
       " [3, 6],\n",
       " [4, 2, 5, 7],\n",
       " [2, 5, 7, 11],\n",
       " [4, 2, 5],\n",
       " [2, 5, 7, 11],\n",
       " [31, 32],\n",
       " [20, 22, 23],\n",
       " [0, 3, 6],\n",
       " [7, 11],\n",
       " [2, 5, 7],\n",
       " [4, 2, 5],\n",
       " [6, 8],\n",
       " [9, 10],\n",
       " [5, 7, 11],\n",
       " [26, 28],\n",
       " [15, 17],\n",
       " [30, 27],\n",
       " [17, 12],\n",
       " [12, 16],\n",
       " [17, 12],\n",
       " [3, 6],\n",
       " [2, 5],\n",
       " [2, 5, 7, 11],\n",
       " [30, 27, 26, 28, 31, 32, 33],\n",
       " [17, 12],\n",
       " [30, 27],\n",
       " [1, 0],\n",
       " [4, 2],\n",
       " [4, 2],\n",
       " [6, 8, 9],\n",
       " [30, 14],\n",
       " [15, 17],\n",
       " [4, 2],\n",
       " [7, 11],\n",
       " [20, 22],\n",
       " [6, 8],\n",
       " [2, 5, 7],\n",
       " [4, 2, 5],\n",
       " [22, 23],\n",
       " [3, 6],\n",
       " [4, 2, 5],\n",
       " [9, 10],\n",
       " [4, 2],\n",
       " [6, 8],\n",
       " [17, 12, 16],\n",
       " [30, 27],\n",
       " [5, 7],\n",
       " [1, 3, 6],\n",
       " [4, 2, 5],\n",
       " [5, 7],\n",
       " [9, 10],\n",
       " [2, 5],\n",
       " [30, 27],\n",
       " [2, 5],\n",
       " [31, 32],\n",
       " [9, 10],\n",
       " [9, 10, 13],\n",
       " [1, 0],\n",
       " [4, 2],\n",
       " [15, 17, 33],\n",
       " [21, 29],\n",
       " [0, 3],\n",
       " [4, 2],\n",
       " [10, 13],\n",
       " [22, 23],\n",
       " [4, 2],\n",
       " [8, 14, 15, 17],\n",
       " [3, 6],\n",
       " [6, 8],\n",
       " [1, 0],\n",
       " [26, 28, 31],\n",
       " [2, 5],\n",
       " [20, 2],\n",
       " [5, 7],\n",
       " [4, 2],\n",
       " [7, 11],\n",
       " [9, 10],\n",
       " [4, 2],\n",
       " [7, 11],\n",
       " [4, 2],\n",
       " [7, 11],\n",
       " [3, 6, 8],\n",
       " [9, 10, 13],\n",
       " [7, 11],\n",
       " [15, 17],\n",
       " [1, 0],\n",
       " [9, 10, 13],\n",
       " [3, 6],\n",
       " [30, 27],\n",
       " [15, 17],\n",
       " [4, 2],\n",
       " [3, 6],\n",
       " [2, 5],\n",
       " [4, 2],\n",
       " [1, 0],\n",
       " [2, 5],\n",
       " [20, 22],\n",
       " [4, 2, 5],\n",
       " [30, 27],\n",
       " [15, 17],\n",
       " [13, 14, 15],\n",
       " [5, 7],\n",
       " [26, 28, 31],\n",
       " [20, 22],\n",
       " [7, 11],\n",
       " [0, 3, 6, 8],\n",
       " [4, 2],\n",
       " [7, 11],\n",
       " [21, 29],\n",
       " [14, 15],\n",
       " [7, 11],\n",
       " [17, 12],\n",
       " [26, 28],\n",
       " [2, 5],\n",
       " [17, 12, 16],\n",
       " [5, 7],\n",
       " [10, 13],\n",
       " [1, 2, 5, 4],\n",
       " [1, 0, 3, 6, 8, 9, 10, 13, 14],\n",
       " [8, 9, 10, 13, 14, 15, 17],\n",
       " [13, 14, 15, 17],\n",
       " [1, 0, 3],\n",
       " [4, 2, 5, 7, 11],\n",
       " [5, 7],\n",
       " [4, 2],\n",
       " [4, 2],\n",
       " [25, 30, 27, 26],\n",
       " [0, 3, 6],\n",
       " [5, 7],\n",
       " [4, 2],\n",
       " [17, 12, 16],\n",
       " [15, 17, 12, 16],\n",
       " [9, 10],\n",
       " [15, 17],\n",
       " [30, 27, 26],\n",
       " [15, 17],\n",
       " [12, 16],\n",
       " [2, 5, 7],\n",
       " [2, 5],\n",
       " [2, 5],\n",
       " [30, 27, 26],\n",
       " [15, 17],\n",
       " [27, 26, 28],\n",
       " [1, 0],\n",
       " [22, 23],\n",
       " [5, 7, 11],\n",
       " [17, 12, 16],\n",
       " [9, 10, 13],\n",
       " [2, 5],\n",
       " [27, 26],\n",
       " [15, 17],\n",
       " [7, 11],\n",
       " [30, 27, 26, 28],\n",
       " [6, 8, 9],\n",
       " [14, 15],\n",
       " [4, 2, 5],\n",
       " [4, 2, 5],\n",
       " [22, 23],\n",
       " [0, 3, 6],\n",
       " [2, 5],\n",
       " [10, 13],\n",
       " [0, 3, 6, 8],\n",
       " [17, 12, 16],\n",
       " [2, 5, 7, 11],\n",
       " [14, 15, 2],\n",
       " [17, 12],\n",
       " [7, 11],\n",
       " [30, 27],\n",
       " [20, 22],\n",
       " [5, 7],\n",
       " [4, 2, 5],\n",
       " [18, 25],\n",
       " [6, 8],\n",
       " [4, 2],\n",
       " [2, 5],\n",
       " [15, 17],\n",
       " [9, 10],\n",
       " [2, 5],\n",
       " [30, 27],\n",
       " [1, 2],\n",
       " [7, 11],\n",
       " [15, 17],\n",
       " [2, 5, 12],\n",
       " [9, 10],\n",
       " [0, 3, 6, 8],\n",
       " [22, 12],\n",
       " [2, 5],\n",
       " [2, 5],\n",
       " [2, 5],\n",
       " [10, 13],\n",
       " [22, 23],\n",
       " [2, 5],\n",
       " [14, 15],\n",
       " [2, 5, 7],\n",
       " [5, 7],\n",
       " [7, 11],\n",
       " [15, 17],\n",
       " [1, 0],\n",
       " [1, 0],\n",
       " [6, 8],\n",
       " [7, 11],\n",
       " [4, 2],\n",
       " [2, 5],\n",
       " [4, 2],\n",
       " [9, 10],\n",
       " [5, 7],\n",
       " [31, 32],\n",
       " [4, 2],\n",
       " [2, 5],\n",
       " [7, 11],\n",
       " [5, 7],\n",
       " [4, 2, 5],\n",
       " [2, 5],\n",
       " [4, 2],\n",
       " [3, 6],\n",
       " [3, 13, 8],\n",
       " [5, 7, 11],\n",
       " [7, 11],\n",
       " [5, 7],\n",
       " [2, 2],\n",
       " [1, 0],\n",
       " [3, 6],\n",
       " [1, 0],\n",
       " [2, 5],\n",
       " [9, 10],\n",
       " [1, 0],\n",
       " [2, 5],\n",
       " [9, 10],\n",
       " [4, 2],\n",
       " [3, 6],\n",
       " [2, 5],\n",
       " [2, 5],\n",
       " [1, 0],\n",
       " [2, 5],\n",
       " [21, 29],\n",
       " [6, 8],\n",
       " [30, 27],\n",
       " [20, 22],\n",
       " [15, 17],\n",
       " [4, 2],\n",
       " [4, 2],\n",
       " [8, 9, 10],\n",
       " [6, 8],\n",
       " [7, 11],\n",
       " [21, 29],\n",
       " [14, 15],\n",
       " [2, 5],\n",
       " [21, 29],\n",
       " [7, 11],\n",
       " [7, 11],\n",
       " [2, 3],\n",
       " [27, 26, 28],\n",
       " [30, 27],\n",
       " [2, 5],\n",
       " [17, 12],\n",
       " [7, 11],\n",
       " [5, 7],\n",
       " [10, 13],\n",
       " [1, 0],\n",
       " [0, 3],\n",
       " [6, 8, 9, 10],\n",
       " [4, 2],\n",
       " [2, 5, 7],\n",
       " [7, 11],\n",
       " [20, 22],\n",
       " [1, 0],\n",
       " [4, 2, 23],\n",
       " [0, 3],\n",
       " [0, 3],\n",
       " [4, 2],\n",
       " [18, 25],\n",
       " [14, 15],\n",
       " [2, 5],\n",
       " [3, 6],\n",
       " [6, 8],\n",
       " [4, 2],\n",
       " [1, 0],\n",
       " [1, 0, 3],\n",
       " [7, 22, 23],\n",
       " [8, 2],\n",
       " [2, 5],\n",
       " [20, 22],\n",
       " [5, 7],\n",
       " [7, 11],\n",
       " [14, 15],\n",
       " [5, 7],\n",
       " [4, 2],\n",
       " [14, 15],\n",
       " [3, 6],\n",
       " [6, 8, 9],\n",
       " [10, 13],\n",
       " [7, 11],\n",
       " [23, 21, 29],\n",
       " [15, 17],\n",
       " [4, 2, 26],\n",
       " [17, 12],\n",
       " [8, 9],\n",
       " [25, 30],\n",
       " [5, 7],\n",
       " [0, 3],\n",
       " [2, 23],\n",
       " [15, 17],\n",
       " [4, 2],\n",
       " [9, 10],\n",
       " [3, 6, 8, 9, 10],\n",
       " [3, 6, 8, 9],\n",
       " [7, 11],\n",
       " [15, 13],\n",
       " [20, 22],\n",
       " [21, 29],\n",
       " [6, 9],\n",
       " [4, 2],\n",
       " [4, 2],\n",
       " [2, 5],\n",
       " [4, 2],\n",
       " [3, 6],\n",
       " [15, 17, 12, 16],\n",
       " [0, 3],\n",
       " [13, 14, 15, 17],\n",
       " [15, 17],\n",
       " [2, 5, 7],\n",
       " [4, 2, 5, 7],\n",
       " [24, 19, 18],\n",
       " [20, 22],\n",
       " [14, 15],\n",
       " [9, 10],\n",
       " [0, 3, 6],\n",
       " [7, 11],\n",
       " [2, 5, 7],\n",
       " [2, 5],\n",
       " [4, 2, 5, 7],\n",
       " [31, 32],\n",
       " [21, 29],\n",
       " [15, 17],\n",
       " [15, 17],\n",
       " [6, 8],\n",
       " [5, 7, 11],\n",
       " [7, 11],\n",
       " [27, 26, 28],\n",
       " [20, 22],\n",
       " [15, 17, 12],\n",
       " [3, 6],\n",
       " [5, 7, 11],\n",
       " [2, 5],\n",
       " [30, 27],\n",
       " [21, 29],\n",
       " [30, 27, 26],\n",
       " [1, 0],\n",
       " [7, 11],\n",
       " [9, 10],\n",
       " [7, 11],\n",
       " [27, 26, 28],\n",
       " [15, 17],\n",
       " [20, 22],\n",
       " [8, 9],\n",
       " [14, 15],\n",
       " [7, 11, 25, 30],\n",
       " [4, 2],\n",
       " [9, 10],\n",
       " [10, 13],\n",
       " [17, 12, 16],\n",
       " [2, 5, 7],\n",
       " [2, 5, 7, 11],\n",
       " [5, 7, 11],\n",
       " [30, 27, 26],\n",
       " [6, 8, 9, 10],\n",
       " [5, 7],\n",
       " [18, 25],\n",
       " [5, 7],\n",
       " [10, 13],\n",
       " [0, 3, 6],\n",
       " [14, 15],\n",
       " [0, 3],\n",
       " [2, 5],\n",
       " [30, 27],\n",
       " [14, 15],\n",
       " [2, 5],\n",
       " [31, 32],\n",
       " [14, 15],\n",
       " [15, 17, 12],\n",
       " [9, 10],\n",
       " [4, 2],\n",
       " [2, 5],\n",
       " [21, 29],\n",
       " [4, 2],\n",
       " [4, 2],\n",
       " [7, 11],\n",
       " [3, 6],\n",
       " [6, 8],\n",
       " [4, 2],\n",
       " [9, 10],\n",
       " [2, 5],\n",
       " [3, 6],\n",
       " [12, 16],\n",
       " [7, 11],\n",
       " [17, 12],\n",
       " [15, 17],\n",
       " [1, 0],\n",
       " [2, 5],\n",
       " [2, 5],\n",
       " [7, 11],\n",
       " [2, 5],\n",
       " [5, 7, 11],\n",
       " [15, 17],\n",
       " [3, 5],\n",
       " [12, 16],\n",
       " [4, 2],\n",
       " [5, 7],\n",
       " [4, 2],\n",
       " [7, 11],\n",
       " [2, 5],\n",
       " [2, 5],\n",
       " [3, 6, 8],\n",
       " [1, 0],\n",
       " [1, 0],\n",
       " [0, 31, 9],\n",
       " [9, 10, 4, 2],\n",
       " [2, 5],\n",
       " [2, 5],\n",
       " [15, 17],\n",
       " [1, 0],\n",
       " [2, 5],\n",
       " [20, 22],\n",
       " [4, 2],\n",
       " [30, 27],\n",
       " [26, 28],\n",
       " [4, 2],\n",
       " [2, 5],\n",
       " [20, 22],\n",
       " [4, 2],\n",
       " [7, 11],\n",
       " [3, 6],\n",
       " [4, 2],\n",
       " [5, 7],\n",
       " [14, 15],\n",
       " [7, 11],\n",
       " [4, 2],\n",
       " [2, 3],\n",
       " [17, 12],\n",
       " [9, 10],\n",
       " [30, 27],\n",
       " [9, 10],\n",
       " [2, 5],\n",
       " [7, 11],\n",
       " [10, 13],\n",
       " [0, 3],\n",
       " [0, 3],\n",
       " [6, 8, 9, 10],\n",
       " [4, 2],\n",
       " [4, 2, 5, 7, 11],\n",
       " [22, 23],\n",
       " [7, 11],\n",
       " [26, 28],\n",
       " [1, 0],\n",
       " [4, 2, 5, 7],\n",
       " [5, 7],\n",
       " [4, 2, 5],\n",
       " [14, 15],\n",
       " [0, 3],\n",
       " [9, 10],\n",
       " [7, 11],\n",
       " [3, 6],\n",
       " [5, 7],\n",
       " [4, 2],\n",
       " [1, 0],\n",
       " [2, 5],\n",
       " [25, 30, 27, 26],\n",
       " [20, 22],\n",
       " [7, 11],\n",
       " [4, 2],\n",
       " [7, 11],\n",
       " [14, 15],\n",
       " [3, 6],\n",
       " [10, 13],\n",
       " [4, 2],\n",
       " [23, 21, 29],\n",
       " [21, 29],\n",
       " [15, 17],\n",
       " [27, 26],\n",
       " [17, 12],\n",
       " [21, 29],\n",
       " [8, 9],\n",
       " [8, 9],\n",
       " [5, 7],\n",
       " [4, 2],\n",
       " [15, 17],\n",
       " [9, 10],\n",
       " [3, 6],\n",
       " [9, 10],\n",
       " [3, 6, 8],\n",
       " [7, 11],\n",
       " [10, 13],\n",
       " [15, 17],\n",
       " [27, 26],\n",
       " [20, 22],\n",
       " [2, 5],\n",
       " [5, 7],\n",
       " [5, 7],\n",
       " [2, 5],\n",
       " [14, 15],\n",
       " [4, 2],\n",
       " [4, 2],\n",
       " [27, 26],\n",
       " [0, 3],\n",
       " [5, 7],\n",
       " [5, 7],\n",
       " [2, 5],\n",
       " [7, 11],\n",
       " [2, 5],\n",
       " [12, 16],\n",
       " [13, 14, 15],\n",
       " [9, 10, 13, 14],\n",
       " [7, 11],\n",
       " [21, 29],\n",
       " [13, 14, 15],\n",
       " [27, 26, 28],\n",
       " [2, 5],\n",
       " [18, 25],\n",
       " [22, 23],\n",
       " [10, 13],\n",
       " [1, 0],\n",
       " [0, 3],\n",
       " [2, 5, 7],\n",
       " [0, 3],\n",
       " [12, 16],\n",
       " [14, 15],\n",
       " [17, 12],\n",
       " [1, 0],\n",
       " [2, 5],\n",
       " [4, 2],\n",
       " [12, 16],\n",
       " [5, 7],\n",
       " [2, 5],\n",
       " [7, 11],\n",
       " [15, 17],\n",
       " [10, 13, 14, 15, 17, 12],\n",
       " [3, 6],\n",
       " [2, 5],\n",
       " [4, 2],\n",
       " [8, 9],\n",
       " [9, 10],\n",
       " [7, 11],\n",
       " [21, 29],\n",
       " [2, 5],\n",
       " [9, 10],\n",
       " [9, 15, 17],\n",
       " [4, 2],\n",
       " [17, 12],\n",
       " [5, 7],\n",
       " [17, 12],\n",
       " [27, 26],\n",
       " [27, 26],\n",
       " [15, 17],\n",
       " [9, 10],\n",
       " [17, 12],\n",
       " [2, 5],\n",
       " [14, 15, 9],\n",
       " [2, 5],\n",
       " [2, 5],\n",
       " [2, 5],\n",
       " [2, 5],\n",
       " [4, 2],\n",
       " [8, 9, 10, 3],\n",
       " [17, 12],\n",
       " [14, 15],\n",
       " [3, 6],\n",
       " [17, 12],\n",
       " [31, 32],\n",
       " [3, 6],\n",
       " [31, 32],\n",
       " [8, 14],\n",
       " [26, 28, 31],\n",
       " [20, 2],\n",
       " [4, 2],\n",
       " [7, 11],\n",
       " [3, 6],\n",
       " [9, 10],\n",
       " [26, 28, 31],\n",
       " [3, 6],\n",
       " [5, 7],\n",
       " [14, 15, 17],\n",
       " [9, 10, 13, 14, 15, 17, 12, 16],\n",
       " [3, 6, 8],\n",
       " [4, 2, 5, 7, 11],\n",
       " [5, 7, 11],\n",
       " [4, 2],\n",
       " [4, 2],\n",
       " [32, 33],\n",
       " [14, 15, 17],\n",
       " [9, 10],\n",
       " [2, 5],\n",
       " [2, 5],\n",
       " [4, 2],\n",
       " [31, 32],\n",
       " [14, 15],\n",
       " [2, 5, 7],\n",
       " [7, 11],\n",
       " [14, 15],\n",
       " [4, 2],\n",
       " [30, 27, 26],\n",
       " [2, 5],\n",
       " [5, 7],\n",
       " [2, 5],\n",
       " [30, 27, 26, 28, 31],\n",
       " [30, 27],\n",
       " [1, 0],\n",
       " [4, 2],\n",
       " [0, 3],\n",
       " [7, 11],\n",
       " [13, 14, 15],\n",
       " [5, 7, 11],\n",
       " [5, 7],\n",
       " [2, 5],\n",
       " [2, 5],\n",
       " [7, 11],\n",
       " [20, 22],\n",
       " [6, 8],\n",
       " [4, 2],\n",
       " [22, 23],\n",
       " [4, 2],\n",
       " [9, 10],\n",
       " [10, 13, 14, 15],\n",
       " [12, 16],\n",
       " [7, 11],\n",
       " [4, 2],\n",
       " [4, 2],\n",
       " [5, 7, 11],\n",
       " [30, 27],\n",
       " [20, 22],\n",
       " [4, 2, 5],\n",
       " [7, 4, 2],\n",
       " [1, 15],\n",
       " [0, 3, 6],\n",
       " [1, 0],\n",
       " [4, 2],\n",
       " [2, 5, 7],\n",
       " [0, 3],\n",
       " [20, 22],\n",
       " [1, 2, 5],\n",
       " [4, 2, 5],\n",
       " [14, 15],\n",
       " [6, 8],\n",
       " [15, 17],\n",
       " [15, 17, 12],\n",
       " [2, 5],\n",
       " [4, 2],\n",
       " [15, 21, 29],\n",
       " [0, 3],\n",
       " [4, 2, 5],\n",
       " [10, 13],\n",
       " [2, 5],\n",
       " [3, 6],\n",
       " [1, 0],\n",
       " [2, 5],\n",
       " [2, 5],\n",
       " [2, 5],\n",
       " [1, 0],\n",
       " [15, 17],\n",
       " [6, 8],\n",
       " [7, 11],\n",
       " [17, 12],\n",
       " [27, 26],\n",
       " [1, 0],\n",
       " [0, 3],\n",
       " [26, 28],\n",
       " [2, 5],\n",
       " [5, 7],\n",
       " [2, 5],\n",
       " [5, 7],\n",
       " [2, 5],\n",
       " [20, 2, 5],\n",
       " [5, 7, 11],\n",
       " [15, 17],\n",
       " [3, 5],\n",
       " [20, 22],\n",
       " [12, 16],\n",
       " [5, 7],\n",
       " [4, 2],\n",
       " [7, 11],\n",
       " [5, 7],\n",
       " [4, 2, 5],\n",
       " [2, 7],\n",
       " [2, 5],\n",
       " [4, 2],\n",
       " [6, 8, 9, 10],\n",
       " [5, 7, 11],\n",
       " [7, 11],\n",
       " [14, 15, 17, 12],\n",
       " [15, 17],\n",
       " [6, 8, 9],\n",
       " [1, 0],\n",
       " [1, 0],\n",
       " [0, 3],\n",
       " [30, 27],\n",
       " [15, 17],\n",
       " [4, 2],\n",
       " [17, 12, 16],\n",
       " [1, 0],\n",
       " [28, 31],\n",
       " [4, 2, 5],\n",
       " [7, 11],\n",
       " [30, 27],\n",
       " [20, 22],\n",
       " [15, 17],\n",
       " [26, 28],\n",
       " [7, 11],\n",
       " [13, 14, 15, 17],\n",
       " [9, 10],\n",
       " [5, 7],\n",
       " ...]"
      ]
     },
     "execution_count": 284,
     "metadata": {},
     "output_type": "execute_result"
    }
   ],
   "source": [
    "ES3_f"
   ]
  },
  {
   "cell_type": "code",
   "execution_count": 53,
   "metadata": {
    "collapsed": true
   },
   "outputs": [],
   "source": [
    "population=reshuffle(population, np.arange(10))"
   ]
  },
  {
   "cell_type": "code",
   "execution_count": null,
   "metadata": {
    "collapsed": true
   },
   "outputs": [],
   "source": []
  },
  {
   "cell_type": "code",
   "execution_count": 272,
   "metadata": {
    "collapsed": true
   },
   "outputs": [],
   "source": [
    "m = np.ones((3,3))"
   ]
  },
  {
   "cell_type": "code",
   "execution_count": null,
   "metadata": {
    "collapsed": true
   },
   "outputs": [],
   "source": []
  },
  {
   "cell_type": "code",
   "execution_count": 365,
   "metadata": {
    "scrolled": true
   },
   "outputs": [
    {
     "name": "stdout",
     "output_type": "stream",
     "text": [
      "[[0.         0.25       0.25       0.25       0.25      ]\n",
      " [0.         0.         0.33333333 0.33333333 0.33333333]\n",
      " [0.         0.         0.         0.5        0.5       ]\n",
      " [0.         0.         0.         0.         1.        ]\n",
      " [0.         0.         0.         0.         0.        ]]\n",
      "5\n",
      "5\n",
      "4\n",
      "[[0, 3, 4], [0, 3, 4], [1, 3, 4], [1, 3, 4], [0, 1, 3, 4], [0, 1, 3, 4]]\n",
      "[[3, 1, 4], [3, 1, 4], [2, 1, 4], [2, 1, 4], [3, 2, 1, 4], [3, 2, 1, 4]]\n"
     ]
    }
   ],
   "source": [
    "pp = generate_initial_population(5, 6, 5)\n",
    "ppr = reshuffle(pp,5)\n",
    "print(pp)\n",
    "print(ppr)"
   ]
  },
  {
   "cell_type": "code",
   "execution_count": null,
   "metadata": {
    "collapsed": true
   },
   "outputs": [],
   "source": []
  },
  {
   "cell_type": "code",
   "execution_count": null,
   "metadata": {
    "collapsed": true
   },
   "outputs": [],
   "source": []
  },
  {
   "cell_type": "code",
   "execution_count": null,
   "metadata": {
    "collapsed": true
   },
   "outputs": [],
   "source": []
  },
  {
   "cell_type": "code",
   "execution_count": 684,
   "metadata": {
    "collapsed": true
   },
   "outputs": [],
   "source": [
    "population_f = [[1, 0, 3, 6, 8, 9, 10, 13, 14, 15, 17, 12, 16] for i in range(5)] + \\\n",
    "        [[4, 2, 5, 7, 11] for i in range(5)] + \\\n",
    "        [[24, 19, 18, 25, 30, 27, 26, 28, 31, 32, 33, 34]] + \\\n",
    "        [[20, 22, 23, 21, 29]]\n",
    "        \n",
    "population_b = [x[::-1] for x in population_f]"
   ]
  }
 ],
 "metadata": {
  "kernelspec": {
   "display_name": "Python 3",
   "language": "python",
   "name": "python3"
  },
  "language_info": {
   "codemirror_mode": {
    "name": "ipython",
    "version": 3
   },
   "file_extension": ".py",
   "mimetype": "text/x-python",
   "name": "python",
   "nbconvert_exporter": "python",
   "pygments_lexer": "ipython3",
   "version": "3.6.3"
  }
 },
 "nbformat": 4,
 "nbformat_minor": 2
}
