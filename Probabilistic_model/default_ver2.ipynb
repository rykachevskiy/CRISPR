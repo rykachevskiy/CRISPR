{
 "cells": [
  {
   "cell_type": "code",
   "execution_count": 1,
   "metadata": {},
   "outputs": [],
   "source": [
    "import numpy as np\n",
    "import matplotlib.pyplot as plt\n",
    "\n",
    "from tqdm import tqdm_notebook"
   ]
  },
  {
   "cell_type": "code",
   "execution_count": 2,
   "metadata": {},
   "outputs": [],
   "source": [
    "import pickle\n",
    "import json"
   ]
  },
  {
   "cell_type": "code",
   "execution_count": 3,
   "metadata": {},
   "outputs": [],
   "source": [
    "def plot_grs(*gr, start=0, end=-1, log = False, all_ticks = False,  s=10):\n",
    "    f, a = plt.subplots(1, len(gr), figsize=(s,s))\n",
    "\n",
    "    if end == -1:\n",
    "        end = gr[0].shape[0]\n",
    "    if log:\n",
    "        for i in range(len(gr)): \n",
    "            a[i].imshow(np.log(gr[i][start:end,start:end] + 1))\n",
    "    else:\n",
    "        for i in range(len(gr)): \n",
    "            a[i].imshow(gr[i][start:end,start:end])\n",
    "            #a[i].colorbar()\n",
    "#     if all_ticks: \n",
    "#         plt.xticks(np.arange(start,end))\n",
    "#         plt.yticks(np.arange(start,end))\n",
    "    plt.show()"
   ]
  },
  {
   "cell_type": "code",
   "execution_count": 4,
   "metadata": {},
   "outputs": [],
   "source": [
    "def plot_gr(gr, start=0, end=-1, log = False, all_ticks = False,  s=10):\n",
    "    plt.figure(figsize=(s,s))\n",
    "    if end == -1:\n",
    "        end = gr.shape[0]\n",
    "    if log:\n",
    "        plt.imshow(np.log(gr[start:end,start:end] + 1))\n",
    "    else:\n",
    "        plt.imshow(gr[start:end,start:end])\n",
    "    plt.colorbar()\n",
    "    if all_ticks: \n",
    "        plt.xticks(np.arange(start,end))\n",
    "        plt.yticks(np.arange(start,end))\n",
    "    plt.show()"
   ]
  },
  {
   "cell_type": "code",
   "execution_count": 5,
   "metadata": {},
   "outputs": [],
   "source": [
    "from nltk import ngrams"
   ]
  },
  {
   "cell_type": "code",
   "execution_count": 6,
   "metadata": {},
   "outputs": [
    {
     "data": {
      "text/plain": [
       "array([1, 0, 0, 1, 1, 0, 0, 0, 0, 0])"
      ]
     },
     "execution_count": 6,
     "metadata": {},
     "output_type": "execute_result"
    }
   ],
   "source": [
    "np.random.binomial(1, 0.5, 10)"
   ]
  },
  {
   "cell_type": "code",
   "execution_count": 7,
   "metadata": {},
   "outputs": [],
   "source": [
    "SWITCH_PROB = 0.2\n",
    "AMPLIFY_PROB = 1.\n",
    "STOP_PROB = 0\n",
    "MAX_LEN = 5"
   ]
  },
  {
   "cell_type": "code",
   "execution_count": 8,
   "metadata": {},
   "outputs": [
    {
     "data": {
      "text/plain": [
       "array([[ 0.,  1.,  2.,  3.,  4.,  5., -1.],\n",
       "       [ 1.,  7.,  8.,  9., 10., 11., -1.],\n",
       "       [ 2., 13., 14., 15., 16., 17., -1.]])"
      ]
     },
     "execution_count": 8,
     "metadata": {},
     "output_type": "execute_result"
    }
   ],
   "source": [
    "MAX_LEN = 6\n",
    "population = np.ones((3,MAX_LEN + 1)) * -1\n",
    "population[0,0:6] = np.arange(0,6)\n",
    "population[0,0] = 0\n",
    "population[1,0:6] = np.arange(6,12)\n",
    "population[1,0] = 1\n",
    "population[2,0:6] = np.arange(12,18)\n",
    "population[2,0] = 2\n",
    "population"
   ]
  },
  {
   "cell_type": "code",
   "execution_count": 9,
   "metadata": {
    "scrolled": true
   },
   "outputs": [
    {
     "ename": "NameError",
     "evalue": "name 'reverse_population' is not defined",
     "output_type": "error",
     "traceback": [
      "\u001b[0;31m---------------------------------------------------------------------------\u001b[0m",
      "\u001b[0;31mNameError\u001b[0m                                 Traceback (most recent call last)",
      "\u001b[0;32m<ipython-input-9-f3e05237298e>\u001b[0m in \u001b[0;36m<module>\u001b[0;34m()\u001b[0m\n\u001b[1;32m      1\u001b[0m \u001b[0mpopulation_f\u001b[0m \u001b[0;34m=\u001b[0m \u001b[0mpopulation\u001b[0m\u001b[0;34m.\u001b[0m\u001b[0mcopy\u001b[0m\u001b[0;34m(\u001b[0m\u001b[0;34m)\u001b[0m\u001b[0;34m\u001b[0m\u001b[0m\n\u001b[0;32m----> 2\u001b[0;31m \u001b[0mpopulation_b\u001b[0m \u001b[0;34m=\u001b[0m \u001b[0mreverse_population\u001b[0m\u001b[0;34m(\u001b[0m\u001b[0mpopulation_f\u001b[0m\u001b[0;34m)\u001b[0m\u001b[0;34m\u001b[0m\u001b[0m\n\u001b[0m",
      "\u001b[0;31mNameError\u001b[0m: name 'reverse_population' is not defined"
     ]
    }
   ],
   "source": [
    "population_f = population.copy()\n",
    "population_b = reverse_population(population_f)"
   ]
  },
  {
   "cell_type": "code",
   "execution_count": 10,
   "metadata": {
    "scrolled": true
   },
   "outputs": [
    {
     "ename": "NameError",
     "evalue": "name 'single_amplify' is not defined",
     "output_type": "error",
     "traceback": [
      "\u001b[0;31m---------------------------------------------------------------------------\u001b[0m",
      "\u001b[0;31mNameError\u001b[0m                                 Traceback (most recent call last)",
      "\u001b[0;32m<ipython-input-10-0cb0f5699fc1>\u001b[0m in \u001b[0;36m<module>\u001b[0;34m()\u001b[0m\n\u001b[0;32m----> 1\u001b[0;31m \u001b[0msingle_amplify\u001b[0m\u001b[0;34m(\u001b[0m\u001b[0mpopulation_f\u001b[0m\u001b[0;34m,\u001b[0m \u001b[0mnp\u001b[0m\u001b[0;34m.\u001b[0m\u001b[0mones\u001b[0m\u001b[0;34m(\u001b[0m\u001b[0;36m3\u001b[0m\u001b[0;34m)\u001b[0m\u001b[0;34m,\u001b[0m \u001b[0;36m1\u001b[0m\u001b[0;34m,\u001b[0m\u001b[0;36m1\u001b[0m\u001b[0;34m)\u001b[0m\u001b[0;34m\u001b[0m\u001b[0m\n\u001b[0m",
      "\u001b[0;31mNameError\u001b[0m: name 'single_amplify' is not defined"
     ]
    }
   ],
   "source": [
    "single_amplify(population_f, np.ones(3), 1,1)"
   ]
  },
  {
   "cell_type": "code",
   "execution_count": 11,
   "metadata": {
    "scrolled": false
   },
   "outputs": [
    {
     "data": {
      "text/plain": [
       "array([[ 0.,  1.,  2.,  3.,  4.,  5., -1.],\n",
       "       [ 1.,  7.,  8.,  9., 10., 11., -1.],\n",
       "       [ 2., 13., 14., 15., 16., 17., -1.]])"
      ]
     },
     "execution_count": 11,
     "metadata": {},
     "output_type": "execute_result"
    }
   ],
   "source": [
    "population_f"
   ]
  },
  {
   "cell_type": "code",
   "execution_count": 12,
   "metadata": {
    "scrolled": true
   },
   "outputs": [
    {
     "ename": "NameError",
     "evalue": "name 'population_b' is not defined",
     "output_type": "error",
     "traceback": [
      "\u001b[0;31m---------------------------------------------------------------------------\u001b[0m",
      "\u001b[0;31mNameError\u001b[0m                                 Traceback (most recent call last)",
      "\u001b[0;32m<ipython-input-12-59ab92ddcaeb>\u001b[0m in \u001b[0;36m<module>\u001b[0;34m()\u001b[0m\n\u001b[0;32m----> 1\u001b[0;31m \u001b[0mpopulation_b\u001b[0m\u001b[0;34m\u001b[0m\u001b[0m\n\u001b[0m",
      "\u001b[0;31mNameError\u001b[0m: name 'population_b' is not defined"
     ]
    }
   ],
   "source": [
    "population_b"
   ]
  },
  {
   "cell_type": "code",
   "execution_count": 15,
   "metadata": {
    "collapsed": true
   },
   "outputs": [
    {
     "ename": "NameError",
     "evalue": "name 'PCR_cycle' is not defined",
     "output_type": "error",
     "traceback": [
      "\u001b[0;31m---------------------------------------------------------------------------\u001b[0m",
      "\u001b[0;31mNameError\u001b[0m                                 Traceback (most recent call last)",
      "\u001b[0;32m<ipython-input-15-6df3e3b11510>\u001b[0m in \u001b[0;36m<module>\u001b[0;34m()\u001b[0m\n\u001b[0;32m----> 1\u001b[0;31m \u001b[0mpopulation_f\u001b[0m\u001b[0;34m,\u001b[0m \u001b[0mpopulation_b\u001b[0m \u001b[0;34m=\u001b[0m \u001b[0mPCR_cycle\u001b[0m\u001b[0;34m(\u001b[0m\u001b[0mpopulation_f\u001b[0m\u001b[0;34m,\u001b[0m \u001b[0mpopulation_b\u001b[0m\u001b[0;34m,\u001b[0m \u001b[0mnp\u001b[0m\u001b[0;34m.\u001b[0m\u001b[0marray\u001b[0m\u001b[0;34m(\u001b[0m\u001b[0;34m[\u001b[0m\u001b[0;36m1\u001b[0m\u001b[0;34m,\u001b[0m\u001b[0;36m1\u001b[0m\u001b[0;34m,\u001b[0m\u001b[0;36m1\u001b[0m\u001b[0;34m]\u001b[0m\u001b[0;34m)\u001b[0m\u001b[0;34m)\u001b[0m\u001b[0;34m\u001b[0m\u001b[0m\n\u001b[0m",
      "\u001b[0;31mNameError\u001b[0m: name 'PCR_cycle' is not defined"
     ]
    }
   ],
   "source": [
    "population_f, population_b = PCR_cycle(population_f, population_b, np.array([1,1,1]))"
   ]
  },
  {
   "cell_type": "code",
   "execution_count": 13,
   "metadata": {},
   "outputs": [],
   "source": [
    "def reverse_population(p):\n",
    "    p_b = p.copy()\n",
    "    for i in range(p.shape[0]):\n",
    "        length = (p[i] != -1).sum() - 1\n",
    "        \n",
    "        p_b[i,1:length + 1] = p[i,1:length + 1][::-1]\n",
    "    return p_b"
   ]
  },
  {
   "cell_type": "code",
   "execution_count": null,
   "metadata": {},
   "outputs": [],
   "source": []
  },
  {
   "cell_type": "code",
   "execution_count": 14,
   "metadata": {},
   "outputs": [],
   "source": [
    "def PCR_cycle(population_f, population_b, switch_weights):       \n",
    "    new_f = single_amplify(population_f, switch_weights, reverse=0)\n",
    "    #new_b = single_amplify(population_f, switch_weights)\n",
    "    \n",
    "    population_f = np.vstack((population_f, new_f))\n",
    "    #population_b = np.vstack((population_b, new_b))\n",
    "    \n",
    "    return population_f, population_b"
   ]
  },
  {
   "cell_type": "code",
   "execution_count": 15,
   "metadata": {},
   "outputs": [],
   "source": [
    "def generate_initial_population(spacers_num, chain_number=2, max_amount_per_chain = 2, min_len = 4, v = False):\n",
    "    # markov is our god! \n",
    "    graph = np.zeros((spacers_num, spacers_num))\n",
    "    for i in range(spacers_num):\n",
    "        for j in range(spacers_num -1, i, -1):\n",
    "            graph[i,j] = spacers_num - j\n",
    "\n",
    "    if v:\n",
    "        plot_gr(graph)\n",
    "        \n",
    "    graph /= np.max(np.vstack((graph.sum(1), np.ones(spacers_num))), 0).reshape(-1,1)\n",
    "    all_chains = []\n",
    "    while len(all_chains) < chain_number:\n",
    "        chain = []\n",
    "        amount = np.random.randint(1, max_amount_per_chain)\n",
    "        max_len = max([np.random.randint(min_len,spacers_num + 1) for i in range(3)])\n",
    "        curr = np.random.randint(0, (spacers_num - 1) / 2 )\n",
    "\n",
    "        for j in range(max_len):\n",
    "            chain.append(curr)\n",
    "            if curr != spacers_num - 1:\n",
    "                #print(np.arange(spacers_num), graph[curr])\n",
    "                curr = np.random.choice(np.arange(spacers_num), 1, p = graph[curr])[0]\n",
    "            else:\n",
    "                break\n",
    "        \n",
    "        if len(chain) > min_len:\n",
    "            all_chains.extend([chain for k in range(amount)])\n",
    "    \n",
    "    return all_chains[:chain_number]"
   ]
  },
  {
   "cell_type": "code",
   "execution_count": 16,
   "metadata": {},
   "outputs": [],
   "source": [
    "def population_from_list_of_lists(list_of_lists, cassettes_types = None, multiplier = 1):\n",
    "    max_len = max([len(x) for x in list_of_lists])\n",
    "    population_f = np.ones((len(list_of_lists), max_len + 1)) * (-1)\n",
    "    population_b = np.ones((len(list_of_lists), max_len + 1)) * (-1)\n",
    "    for i,l in enumerate(list_of_lists):\n",
    "        population_f[i, 1:len(l) + 1] = np.array(l)\n",
    "        population_b[i, 1:len(l) + 1] = np.array(l[::-1])\n",
    "        \n",
    "    if cassettes_types is not None:\n",
    "        population_f[:,0],population_b[:,0] = [np.array(cassettes_types)]*2\n",
    "        \n",
    "    else:\n",
    "        population_f[:,0],population_b[:,0] = [0]*2\n",
    "    \n",
    "    if multiplier > 1:\n",
    "        population_f = np.vstack([population_f] * multiplier)\n",
    "        population_b = np.vstack([population_b] * multiplier)\n",
    "    return population_f, population_b, max_len\n",
    "        "
   ]
  },
  {
   "cell_type": "code",
   "execution_count": 19,
   "metadata": {
    "scrolled": true
   },
   "outputs": [
    {
     "data": {
      "text/plain": [
       "array([2, 2, 2, 1, 1, 2, 2, 2, 1, 2])"
      ]
     },
     "execution_count": 19,
     "metadata": {},
     "output_type": "execute_result"
    }
   ],
   "source": [
    "np.random.randint(1,3,10)"
   ]
  },
  {
   "cell_type": "code",
   "execution_count": null,
   "metadata": {},
   "outputs": [],
   "source": [
    "## LEGACY\n",
    "#         # START BY RANDOM FROM BEGGINING\n",
    "#         to_start = False\n",
    "#         start = 0\n",
    "#         while not to_start and start < source_len:\n",
    "#             start += 1\n",
    "#             if np.random.random() < START_PROB:\n",
    "#                 to_start = True\n",
    "#         if v: print(\"start : \", start)\n"
   ]
  },
  {
   "cell_type": "code",
   "execution_count": 125,
   "metadata": {},
   "outputs": [],
   "source": [
    "def single_amplify(all_population, switch_weights, amplify_prob, v = False): \n",
    "    mask = np.random.binomial(1, amplify_prob, all_population.shape[0]).astype(bool)\n",
    "    population_to_amplify = all_population[mask] \n",
    "    new = np.ones((population_to_amplify.shape[0], MAX_LEN + 1)) * (-1)\n",
    "    \n",
    "    if v:\n",
    "        print(mask)\n",
    "        print(population_to_amplify)\n",
    "    \n",
    "    i = 0\n",
    "    for chain in population_to_amplify:\n",
    "        source_len = (chain != -1).sum() - 1 \n",
    "\n",
    "\n",
    "        if v: print(\"source len:\", source_len)\n",
    "              \n",
    "        start = np.random.randint(1, source_len + 1 - 1)\n",
    "        stop = False\n",
    "#        end = np.random.randint(start + 1, source_len + 1)\n",
    "        pointer_new = 1\n",
    "        pointer_source = start\n",
    "        \n",
    "        new[i,0] = chain[0]\n",
    "        \n",
    "        while not stop:            \n",
    "            new[i,pointer_new] = chain[pointer_source]\n",
    "            \n",
    "            pointer_new += 1\n",
    "            pointer_source += 1\n",
    "            \n",
    "            if pointer_source == source_len + 1:\n",
    "                switch_prob = SWITCH_PROB / 10\n",
    "            else:\n",
    "                switch_prob = SWITCH_PROB\n",
    "            switch = np.random.rand() < switch_prob\n",
    "            \n",
    "            if v:\n",
    "                print(chain, new[i], switch)\n",
    "            if switch:\n",
    "#                 mask = np.zeros(1)\n",
    "#                 while mask.sum() ==0:\n",
    "#                     chain_type = np.random.choice(np.arange(switch_weights.shape[0]), p = switch_weights / switch_weights.sum())\n",
    "#                     mask = population_to_amplify[:, 0] == chain_type\n",
    "#                 chain = population_to_amplify[mask][np.random.randint(0, mask.sum())]\n",
    "#                 source_len = (chain != -1).sum() - 1 \n",
    "#                 pointer_source = np.random.randint(1, source_len)\n",
    "                chain = all_population[np.random.randint(0, all_population.shape[0])]\n",
    "                source_len = (chain != -1).sum() - 1 \n",
    "                pointer_source = np.random.randint(1, source_len)\n",
    "\n",
    "            if np.random.rand() < STOP_PROB:\n",
    "                stop = True\n",
    "            if pointer_new == new.shape[1]:\n",
    "                stop = True\n",
    "\n",
    "            if pointer_source == source_len + 1:\n",
    "                stop = True\n",
    "#                 if np.random.rand() < SWITCH_PROB :\n",
    "#                     mask = np.zeros(1)\n",
    "#                     while mask.sum() ==0:\n",
    "#                         chain_type = np.random.choice(np.arange(switch_weights.shape[0]), p = switch_weights / switch_weights.sum())\n",
    "#                         mask = population_to_amplify[:, 0] == chain_type\n",
    "\n",
    "#                     chain = population_to_amplify[mask][np.random.randint(0, mask.sum())]\n",
    "#                     source_len = (chain != -1).sum() - 1 \n",
    "#                     pointer_source = np.random.randint(1, source_len)\n",
    "#                 else:\n",
    "#                     stop = True\n",
    "            \n",
    "            if v:\n",
    "                print(chain, new[i], switch)\n",
    "\n",
    "        if (new[i] != -1).sum() > 2:\n",
    "            i += 1\n",
    "        \n",
    "    \n",
    "    return new[(new != -1).sum(1) > 2 ]\n",
    "    \n",
    "     "
   ]
  },
  {
   "cell_type": "code",
   "execution_count": 126,
   "metadata": {},
   "outputs": [],
   "source": [
    "def PCR_cycle(population_f, population_b, switch_weights):       \n",
    "    new_f = single_amplify(population_f, switch_weights, AMPLIFY_PROB_F)\n",
    "    new_b = single_amplify(population_b, switch_weights, AMPLIFY_PROB_B)\n",
    "    \n",
    "    population_f = np.vstack((population_f, reverse_population(new_b)))\n",
    "    population_b = np.vstack((population_b, reverse_population(new_f)))\n",
    "    \n",
    "    return population_f, population_b"
   ]
  },
  {
   "cell_type": "code",
   "execution_count": 127,
   "metadata": {},
   "outputs": [],
   "source": [
    "def pairs_to_graph(pairs, spacers_n):\n",
    "    gr = np.zeros((spacers_n, spacers_n))\n",
    "    \n",
    "    for p in pairs:\n",
    "        gr[int(p[0]), int(p[1])] += 1\n",
    "        \n",
    "    return gr"
   ]
  },
  {
   "cell_type": "code",
   "execution_count": null,
   "metadata": {},
   "outputs": [],
   "source": []
  },
  {
   "cell_type": "code",
   "execution_count": 215,
   "metadata": {},
   "outputs": [],
   "source": [
    "SWITCH_PROB = 0.13\n",
    "AMPLIFY_PROB_F = 0.5\n",
    "AMPLIFY_PROB_B = 0.7\n",
    "STOP_PROB = 0.0\n",
    "START_PROB = 0.85"
   ]
  },
  {
   "cell_type": "code",
   "execution_count": 216,
   "metadata": {},
   "outputs": [],
   "source": [
    "population_as_list = [[1, 0, 3, 6, 8, 9, 10, 13, 14, 15, 17, 12, 16] for i in range(5)] + \\\n",
    "               [[4, 2, 5, 7, 11] for i in range(5)] + \\\n",
    "               [[4, 24, 19, 18, 25, 30, 27, 26, 28, 31, 32, 33, 34]] + \\\n",
    "               [[1, 20, 22, 23, 21, 29]]\n",
    "\n",
    "pairs_1 = set([x for y in population_as_list[:10] for x in ngrams(y, 2)])\n",
    "pairs_2 = set([x for y in population_as_list[10:] for x in ngrams(y, 2)])"
   ]
  },
  {
   "cell_type": "code",
   "execution_count": 217,
   "metadata": {},
   "outputs": [],
   "source": [
    "all_ratios_plots = []"
   ]
  },
  {
   "cell_type": "code",
   "execution_count": 233,
   "metadata": {},
   "outputs": [],
   "source": [
    "population_f, population_b, MAX_LEN = population_from_list_of_lists(population_as_list, [0]*10 + [1]*2, 1)"
   ]
  },
  {
   "cell_type": "code",
   "execution_count": 234,
   "metadata": {},
   "outputs": [
    {
     "data": {
      "application/vnd.jupyter.widget-view+json": {
       "model_id": "b786656a11004ff5a7db9f1931b8fcc5",
       "version_major": 2,
       "version_minor": 0
      },
      "text/plain": [
       "A Jupyter Widget"
      ]
     },
     "metadata": {},
     "output_type": "display_data"
    },
    {
     "name": "stdout",
     "output_type": "stream",
     "text": [
      "\n"
     ]
    },
    {
     "data": {
      "image/png": "[encoded data removed]",
      "text/plain": [
       "<matplotlib.figure.Figure at 0x7fa52c08edd8>"
      ]
     },
     "metadata": {},
     "output_type": "display_data"
    }
   ],
   "source": [
    "population_ratio = []\n",
    "\n",
    "for i in tqdm_notebook(range(50)) :\n",
    "    all_pairs = []\n",
    "    for seq in np.vstack((population_f,reverse_population(population_b))):\n",
    "        seq = seq[seq != -1][1:]\n",
    "        for x in ngrams(seq,2):\n",
    "            all_pairs.append(x)\n",
    "            \n",
    "    cp_1, cp_2, cp_3 = 0,0,0\n",
    "    for p in all_pairs:\n",
    "        if p in pairs_1:\n",
    "            cp_1+=1\n",
    "        elif p in pairs_2:\n",
    "            cp_2+=1\n",
    "        else:\n",
    "            cp_3+=1\n",
    "\n",
    "    population_ratio.append(cp_1 / cp_2)\n",
    "    \n",
    "    population_f, population_b = PCR_cycle(population_f, population_b, np.array([1,1]))\n",
    "\n",
    "    if population_f.shape[0] > 15000:\n",
    "        break\n",
    "\n",
    "all_ratios_plots.append(population_ratio)\n",
    "\n",
    "for p_r in all_ratios_plots:\n",
    "    plt.plot(p_r)\n",
    "plt.show()"
   ]
  },
  {
   "cell_type": "code",
   "execution_count": 238,
   "metadata": {},
   "outputs": [],
   "source": [
    "gr = pairs_to_graph(all_pairs, 35)"
   ]
  },
  {
   "cell_type": "code",
   "execution_count": 239,
   "metadata": {},
   "outputs": [],
   "source": [
    "tr_gr_3 = np.load(\"../../data/graphs/ES3_22.npy\")[:35,:35].astype(int)\n",
    "tr_gr_4 = np.load(\"../../data/graphs/ES4_22.npy\")[:35,:35].astype(int)"
   ]
  },
  {
   "cell_type": "code",
   "execution_count": 240,
   "metadata": {
    "scrolled": false
   },
   "outputs": [
    {
     "data": {
      "image/png": "[encoded data removed]",
      "text/plain": [
       "<matplotlib.figure.Figure at 0x7fa52cda70b8>"
      ]
     },
     "metadata": {},
     "output_type": "display_data"
    }
   ],
   "source": [
    "plot_grs(gr, tr_gr_3, s = 14, log=1)"
   ]
  },
  {
   "cell_type": "code",
   "execution_count": 213,
   "metadata": {
    "collapsed": true
   },
   "outputs": [
    {
     "data": {
      "text/plain": [
       "[[1, 0, 3, 6, 8, 9, 10, 13, 14, 15, 17, 12, 16],\n",
       " [1, 0, 3, 6, 8, 9, 10, 13, 14, 15, 17, 12, 16],\n",
       " [1, 0, 3, 6, 8, 9, 10, 13, 14, 15, 17, 12, 16],\n",
       " [1, 0, 3, 6, 8, 9, 10, 13, 14, 15, 17, 12, 16],\n",
       " [1, 0, 3, 6, 8, 9, 10, 13, 14, 15, 17, 12, 16],\n",
       " [1, 0, 3, 6, 8, 9, 10, 13, 14, 15, 17, 12, 16],\n",
       " [1, 0, 3, 6, 8, 9, 10, 13, 14, 15, 17, 12, 16],\n",
       " [1, 0, 3, 6, 8, 9, 10, 13, 14, 15, 17, 12, 16],\n",
       " [1, 0, 3, 6, 8, 9, 10, 13, 14, 15, 17, 12, 16],\n",
       " [1, 0, 3, 6, 8, 9, 10, 13, 14, 15, 17, 12, 16],\n",
       " [1, 0, 3, 6, 8, 9, 10, 13, 14, 15, 17, 12, 16],\n",
       " [1, 0, 3, 6, 8, 9, 10, 13, 14, 15, 17, 12, 16],\n",
       " [1, 0, 3, 6, 8, 9, 10, 13, 14, 15, 17, 12, 16],\n",
       " [1, 0, 3, 6, 8, 9, 10, 13, 14, 15, 17, 12, 16],\n",
       " [1, 0, 3, 6, 8, 9, 10, 13, 14, 15, 17, 12, 16],\n",
       " [1, 0, 3, 6, 8, 9, 10, 13, 14, 15, 17, 12, 16],\n",
       " [1, 0, 3, 6, 8, 9, 10, 13, 14, 15, 17, 12, 16],\n",
       " [1, 0, 3, 6, 8, 9, 10, 13, 14, 15, 17, 12, 16],\n",
       " [1, 0, 3, 6, 8, 9, 10, 13, 14, 15, 17, 12, 16],\n",
       " [1, 0, 3, 6, 8, 9, 10, 13, 14, 15, 17, 12, 16],\n",
       " [1, 0, 3, 6, 8, 9, 10, 13, 14, 15, 17, 12, 16],\n",
       " [1, 0, 3, 6, 8, 9, 10, 13, 14, 15, 17, 12, 16],\n",
       " [1, 0, 3, 6, 8, 9, 10, 13, 14, 15, 17, 12, 16],\n",
       " [1, 0, 3, 6, 8, 9, 10, 13, 14, 15, 17, 12, 16],\n",
       " [1, 0, 3, 6, 8, 9, 10, 13, 14, 15, 17, 12, 16],\n",
       " [1, 0, 3, 6, 8, 9, 10, 13, 14, 15, 17, 12, 16],\n",
       " [1, 0, 3, 6, 8, 9, 10, 13, 14, 15, 17, 12, 16],\n",
       " [1, 0, 3, 6, 8, 9, 10, 13, 14, 15, 17, 12, 16],\n",
       " [1, 0, 3, 6, 8, 9, 10, 13, 14, 15, 17, 12, 16],\n",
       " [1, 0, 3, 6, 8, 9, 10, 13, 14, 15, 17, 12, 16],\n",
       " [4, 2, 5, 7, 11],\n",
       " [4, 2, 5, 7, 11],\n",
       " [4, 2, 5, 7, 11],\n",
       " [4, 2, 5, 7, 11],\n",
       " [4, 2, 5, 7, 11],\n",
       " [4, 2, 5, 7, 11],\n",
       " [4, 2, 5, 7, 11],\n",
       " [4, 2, 5, 7, 11],\n",
       " [4, 2, 5, 7, 11],\n",
       " [4, 2, 5, 7, 11],\n",
       " [4, 2, 5, 7, 11],\n",
       " [4, 2, 5, 7, 11],\n",
       " [4, 2, 5, 7, 11],\n",
       " [4, 2, 5, 7, 11],\n",
       " [4, 2, 5, 7, 11],\n",
       " [4, 2, 5, 7, 11],\n",
       " [4, 2, 5, 7, 11],\n",
       " [4, 2, 5, 7, 11],\n",
       " [4, 2, 5, 7, 11],\n",
       " [4, 2, 5, 7, 11],\n",
       " [4, 2, 5, 7, 11],\n",
       " [4, 2, 5, 7, 11],\n",
       " [4, 2, 5, 7, 11],\n",
       " [4, 2, 5, 7, 11],\n",
       " [4, 2, 5, 7, 11],\n",
       " [4, 2, 5, 7, 11],\n",
       " [4, 2, 5, 7, 11],\n",
       " [4, 2, 5, 7, 11],\n",
       " [4, 2, 5, 7, 11],\n",
       " [4, 2, 5, 7, 11],\n",
       " [4, 24, 19, 18, 25, 30, 27, 26, 28, 31, 32, 33, 34],\n",
       " [1, 20, 22, 23, 21, 29]]"
      ]
     },
     "execution_count": 213,
     "metadata": {},
     "output_type": "execute_result"
    }
   ],
   "source": [
    "population_as_list"
   ]
  },
  {
   "cell_type": "code",
   "execution_count": 227,
   "metadata": {},
   "outputs": [
    {
     "data": {
      "text/plain": [
       "<Container object of 35 artists>"
      ]
     },
     "execution_count": 227,
     "metadata": {},
     "output_type": "execute_result"
    },
    {
     "data": {
      "image/png": "[encoded data removed]",
      "text/plain": [
       "<matplotlib.figure.Figure at 0x7fa51bf59f60>"
      ]
     },
     "metadata": {},
     "output_type": "display_data"
    }
   ],
   "source": [
    "plt.bar(np.arange(35), np.log(tr_gr_3.sum(1) * gr.sum() / tr_gr_3.sum() + 1), alpha = 0.5)\n",
    "plt.bar(np.arange(35), np.log(gr.sum(1) + 1), alpha = 0.5, color = 'g')"
   ]
  },
  {
   "cell_type": "code",
   "execution_count": 187,
   "metadata": {},
   "outputs": [
    {
     "ename": "NameError",
     "evalue": "name 'gr_1' is not defined",
     "output_type": "error",
     "traceback": [
      "\u001b[0;31m---------------------------------------------------------------------------\u001b[0m",
      "\u001b[0;31mNameError\u001b[0m                                 Traceback (most recent call last)",
      "\u001b[0;32m<ipython-input-187-55d5e7ef9146>\u001b[0m in \u001b[0;36m<module>\u001b[0;34m()\u001b[0m\n\u001b[1;32m      1\u001b[0m \u001b[0mplt\u001b[0m\u001b[0;34m.\u001b[0m\u001b[0mplot\u001b[0m\u001b[0;34m(\u001b[0m\u001b[0;34m(\u001b[0m\u001b[0mtr_gr_3\u001b[0m\u001b[0;34m.\u001b[0m\u001b[0msum\u001b[0m\u001b[0;34m(\u001b[0m\u001b[0;36m1\u001b[0m\u001b[0;34m)\u001b[0m \u001b[0;34m+\u001b[0m \u001b[0;36m1\u001b[0m\u001b[0;34m)\u001b[0m\u001b[0;34m)\u001b[0m\u001b[0;34m\u001b[0m\u001b[0m\n\u001b[0;32m----> 2\u001b[0;31m \u001b[0mplt\u001b[0m\u001b[0;34m.\u001b[0m\u001b[0mplot\u001b[0m\u001b[0;34m(\u001b[0m\u001b[0;34m(\u001b[0m\u001b[0mgr_1\u001b[0m\u001b[0;34m.\u001b[0m\u001b[0msum\u001b[0m\u001b[0;34m(\u001b[0m\u001b[0;36m1\u001b[0m\u001b[0;34m)\u001b[0m \u001b[0;34m+\u001b[0m \u001b[0;36m1\u001b[0m\u001b[0;34m)\u001b[0m\u001b[0;34m)\u001b[0m\u001b[0;34m\u001b[0m\u001b[0m\n\u001b[0m",
      "\u001b[0;31mNameError\u001b[0m: name 'gr_1' is not defined"
     ]
    },
    {
     "data": {
      "image/png": "[encoded data removed]",
      "text/plain": [
       "<matplotlib.figure.Figure at 0x7fa52ca929b0>"
      ]
     },
     "metadata": {},
     "output_type": "display_data"
    }
   ],
   "source": [
    "plt.plot((tr_gr_3.sum(1) + 1))\n",
    "plt.plot((gr_1.sum(1) + 1))"
   ]
  },
  {
   "cell_type": "code",
   "execution_count": 77,
   "metadata": {},
   "outputs": [
    {
     "data": {
      "text/plain": [
       "array([1])"
      ]
     },
     "execution_count": 77,
     "metadata": {},
     "output_type": "execute_result"
    }
   ],
   "source": [
    "np.array([[0,1]]).sum(1)"
   ]
  },
  {
   "cell_type": "code",
   "execution_count": null,
   "metadata": {},
   "outputs": [],
   "source": []
  }
 ],
 "metadata": {
  "kernelspec": {
   "display_name": "Python 3",
   "language": "python",
   "name": "python3"
  },
  "language_info": {
   "codemirror_mode": {
    "name": "ipython",
    "version": 3
   },
   "file_extension": ".py",
   "mimetype": "text/x-python",
   "name": "python",
   "nbconvert_exporter": "python",
   "pygments_lexer": "ipython3",
   "version": "3.6.3"
  }
 },
 "nbformat": 4,
 "nbformat_minor": 2
}
