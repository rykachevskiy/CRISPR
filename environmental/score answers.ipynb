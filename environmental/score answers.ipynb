{
 "cells": [
  {
   "cell_type": "code",
   "execution_count": 1,
   "metadata": {},
   "outputs": [],
   "source": [
    "import numpy as np\n",
    "import crispr_assembler as ca\n",
    "import matplotlib.pyplot as plt\n",
    "import editdistance as ed\n",
    "import os\n",
    "\n",
    "\n",
    "%load_ext autoreload\n",
    "%autoreload 2"
   ]
  },
  {
   "cell_type": "code",
   "execution_count": 2,
   "metadata": {},
   "outputs": [],
   "source": [
    "def restore(path, minimum_occurences = 0):\n",
    "    read = ca.Read(path)\n",
    "    read.correct_errors(minimum_occurences = minimum_occurences)\n",
    "    #gr = read.graph_from_pairs()\n",
    "\n",
    "    return read#, gr"
   ]
  },
  {
   "cell_type": "code",
   "execution_count": 3,
   "metadata": {},
   "outputs": [],
   "source": [
    "import pickle"
   ]
  },
  {
   "cell_type": "code",
   "execution_count": 4,
   "metadata": {},
   "outputs": [],
   "source": [
    "path = '/home/anton/BigMac/skoltech/CRISPR_research/article/data/filtered/'\n",
    "files = sorted(os.listdir(path))"
   ]
  },
  {
   "cell_type": "code",
   "execution_count": 5,
   "metadata": {},
   "outputs": [
    {
     "data": {
      "text/plain": [
       "['ES1.merged.assembled.fastq',\n",
       " 'ES2.merged.assembled.fastq',\n",
       " 'ES3.merged.assembled.fastq',\n",
       " 'ES4.merged.assembled.fastq',\n",
       " 'ES5.merged.assembled.fastq',\n",
       " 'ES6.merged.assembled.fastq',\n",
       " 'd24.merged.assembled.fastq',\n",
       " 'd25.merged.assembled.fastq',\n",
       " 'd26.merged.assembled.fastq',\n",
       " 'd27.merged.assembled.fastq',\n",
       " 'planA.merged.assembled.fastq',\n",
       " 'sensivity.merged.assembled.fastq']"
      ]
     },
     "execution_count": 5,
     "metadata": {},
     "output_type": "execute_result"
    }
   ],
   "source": [
    "files"
   ]
  },
  {
   "cell_type": "code",
   "execution_count": 6,
   "metadata": {
    "scrolled": true
   },
   "outputs": [],
   "source": [
    "files = ['ES1.merged.assembled.fastq',\n",
    "         'ES2.merged.assembled.fastq',\n",
    "         'd24.merged.assembled.fastq',\n",
    "         'd25.merged.assembled.fastq',\n",
    "         'd26.merged.assembled.fastq',\n",
    "         'd27.merged.assembled.fastq',\n",
    "         'planA.merged.assembled.fastq',\n",
    "         'sensivity.merged.assembled.fastq']\n"
   ]
  },
  {
   "cell_type": "code",
   "execution_count": 7,
   "metadata": {},
   "outputs": [],
   "source": [
    "mask = np.array([1,1,0,0,0,0,1,1,1,1,1,1]).astype(bool)"
   ]
  },
  {
   "cell_type": "code",
   "execution_count": 8,
   "metadata": {},
   "outputs": [],
   "source": [
    "reads = np.array(pickle.load(open(\"../../reads_all\", 'rb')))[mask]"
   ]
  },
  {
   "cell_type": "code",
   "execution_count": 9,
   "metadata": {},
   "outputs": [
    {
     "data": {
      "text/plain": [
       "8"
      ]
     },
     "execution_count": 9,
     "metadata": {},
     "output_type": "execute_result"
    }
   ],
   "source": [
    "len(reads)"
   ]
  },
  {
   "cell_type": "markdown",
   "metadata": {},
   "source": [
    "# Prepare answ"
   ]
  },
  {
   "cell_type": "code",
   "execution_count": 39,
   "metadata": {},
   "outputs": [
    {
     "data": {
      "text/plain": [
       "'../../data/answers/ES_answers_50'"
      ]
     },
     "execution_count": 39,
     "metadata": {},
     "output_type": "execute_result"
    }
   ],
   "source": [
    "\"../../data/answers/ES_answers_50\""
   ]
  },
  {
   "cell_type": "code",
   "execution_count": null,
   "metadata": {},
   "outputs": [],
   "source": []
  },
  {
   "cell_type": "code",
   "execution_count": 19,
   "metadata": {},
   "outputs": [],
   "source": [
    "answer_sensivity = ca.read_arrays_with_tags(\"../../article/data/answers/sensivity\", 0)"
   ]
  },
  {
   "cell_type": "code",
   "execution_count": 20,
   "metadata": {
    "scrolled": true
   },
   "outputs": [
    {
     "data": {
      "text/plain": [
       "dict_keys(['first_2', 'first_3', 'first_5', 'first_7', 'first_8', 'first_11', 'first_14', 'first_15', 'first_21', 'first_22', 'second_2', 'second_3', 'second_5', 'second_7', 'second_8', 'second_11', 'second_14', 'second_15', 'second_21', 'second_22'])"
      ]
     },
     "execution_count": 20,
     "metadata": {},
     "output_type": "execute_result"
    }
   ],
   "source": [
    "answer_sensivity.keys()"
   ]
  },
  {
   "cell_type": "code",
   "execution_count": 21,
   "metadata": {},
   "outputs": [],
   "source": [
    "first_old = pickle.load(open(\"./first_old_answers\", 'rb'))\n",
    "second_old = pickle.load(open(\"./second_old_answers\", 'rb'))"
   ]
  },
  {
   "cell_type": "code",
   "execution_count": null,
   "metadata": {},
   "outputs": [],
   "source": []
  },
  {
   "cell_type": "code",
   "execution_count": 23,
   "metadata": {},
   "outputs": [
    {
     "data": {
      "text/plain": [
       "<crispr_assembler.error_correction.read_class.Read at 0x7fb788d14f28>"
      ]
     },
     "execution_count": 23,
     "metadata": {},
     "output_type": "execute_result"
    }
   ],
   "source": [
    "reads[3]"
   ]
  },
  {
   "cell_type": "code",
   "execution_count": 31,
   "metadata": {},
   "outputs": [
    {
     "name": "stderr",
     "output_type": "stream",
     "text": [
      "100%|██████████| 14/14 [00:00<00:00, 56.57it/s]\n"
     ]
    }
   ],
   "source": [
    "a, d = ca.multiple_arrays_to_ids(first_old, reads[0].spacer_to_cluster_index)"
   ]
  },
  {
   "cell_type": "code",
   "execution_count": 32,
   "metadata": {},
   "outputs": [
    {
     "data": {
      "text/plain": [
       "{'1,11,14,15.1,19': [15, 15, 16, 12, 10, 14, 13, 13],\n",
       " 31: [15, 15, 16, 12, 10, 14, 15, 14, 13, 12, 14, 15, 13, 15, 13, 14],\n",
       " '66, 3x,8,6n': [0, 0, 0, 16, 0, 0, 0, 0, 0, 0, 0, 0],\n",
       " '5n,60x': [0, 0, 0, 0, 13, 16, 0, 0, 0, 0, 0],\n",
       " '15n,16n': [0, 0, 0, 0, 13, 16, 0, 0, 0, 0],\n",
       " 3: [14, 14, 14, 14, 15, 12, 11],\n",
       " '2,3n,13,20,22,24,60,61,62,68': [13, 13, 14, 13],\n",
       " 12: [15, 14, 15, 14],\n",
       " 15: [15, 14, 14, 14, 14, 15, 13, 13, 14, 15, 14, 13, 14, 14, 13],\n",
       " 27: [15, 14, 14, 15, 13, 14, 14, 14, 13, 13, 13, 15, 15, 15],\n",
       " 67: [15, 14, 14, 14, 15, 14, 13],\n",
       " 7: [12, 13, 14, 15, 15, 14, 15, 16, 12],\n",
       " '9,21,23,65,70': [16, 14, 15, 14, 15, 14, 14, 15, 15, 14],\n",
       " 75: [14, 15, 13, 14, 13, 12, 12]}"
      ]
     },
     "execution_count": 32,
     "metadata": {},
     "output_type": "execute_result"
    }
   ],
   "source": [
    "d"
   ]
  },
  {
   "cell_type": "code",
   "execution_count": 33,
   "metadata": {},
   "outputs": [
    {
     "data": {
      "text/plain": [
       "{'1,11,14,15.1,19': [5, 3, 1, 0, 8, 21, 6, 14],\n",
       " 31: [5, 3, 1, 0, 8, 21, 17, 4, 6, 3, 4, 7, 14, 16, 3, 2],\n",
       " '66, 3x,8,6n': [15, 2, 7, 3, 12, 13, 17, 8, 16, 11, 9, 18],\n",
       " '5n,60x': [15, 2, 7, 14, 7, 3, 12, 13, 17, 8, 16],\n",
       " '15n,16n': [15, 2, 7, 14, 7, 3, 16, 11, 9, 18],\n",
       " 3: [12, 19, 12, 18, 5, 4, 20],\n",
       " '2,3n,13,20,22,24,60,61,62,68': [1, 11, 12, 20],\n",
       " 12: [16, 12, 11, 14],\n",
       " 15: [16, 7, 7, 14, 6, 14, 16, 5, 4, 10, 8, 0, 3, 8, 13],\n",
       " 27: [16, 7, 7, 14, 16, 3, 8, 13, 8, 10, 7, 2, 0, 15],\n",
       " 67: [16, 7, 7, 6, 14, 8, 0],\n",
       " 7: [0, 6, 19, 5, 6, 4, 17, 1, 16],\n",
       " '9,21,23,65,70': [17, 12, 4, 2, 6, 0, 3, 17, 5, 4],\n",
       " 75: [1, 0, 10, 15, 18, 6, 18]}"
      ]
     },
     "execution_count": 33,
     "metadata": {},
     "output_type": "execute_result"
    }
   ],
   "source": [
    "a"
   ]
  },
  {
   "cell_type": "code",
   "execution_count": null,
   "metadata": {},
   "outputs": [],
   "source": []
  },
  {
   "cell_type": "code",
   "execution_count": 37,
   "metadata": {},
   "outputs": [
    {
     "name": "stderr",
     "output_type": "stream",
     "text": [
      "100%|██████████| 13/13 [00:00<00:00, 61.80it/s]\n"
     ]
    }
   ],
   "source": [
    "a, d = ca.multiple_arrays_to_ids(second_old, reads[0].spacer_to_cluster_index)"
   ]
  },
  {
   "cell_type": "code",
   "execution_count": 38,
   "metadata": {},
   "outputs": [
    {
     "data": {
      "text/plain": [
       "{'1,11,14,15.1,19': [12, 14, 13, 14, 15, 15, 14, 13, 12, 14, 14, 13, 12, 12],\n",
       " 31: [15, 14, 15, 13, 14, 15, 14, 15, 13, 13, 14, 14, 13],\n",
       " '66, 3x,8,6n': [0, 0, 0, 0, 1, 0],\n",
       " '5n,60x': [0, 0, 0, 0, 2, 0],\n",
       " 3: [15, 15, 14, 13, 12, 14, 13, 14],\n",
       " '2,3n,13,20,22,24,60,61,62,68': [14, 12, 15, 15, 14, 15, 14, 14, 14],\n",
       " 12: [14, 14, 15, 14, 13],\n",
       " 15: [14, 14, 14, 14, 14, 14],\n",
       " 27: [14, 13, 14, 15, 15, 14, 13, 12, 14, 14, 13, 12, 12],\n",
       " 67: [14, 14, 15, 14, 13],\n",
       " 7: [15, 14, 15, 15, 14, 16, 14],\n",
       " '9,21,23,65,70': [15, 0, 14, 13, 14, 13, 15, 13, 13],\n",
       " 75: [16, 12, 13, 14, 15, 13, 14, 14, 14, 14, 16, 13]}"
      ]
     },
     "execution_count": 38,
     "metadata": {},
     "output_type": "execute_result"
    }
   ],
   "source": [
    "d"
   ]
  },
  {
   "cell_type": "code",
   "execution_count": null,
   "metadata": {},
   "outputs": [],
   "source": []
  },
  {
   "cell_type": "markdown",
   "metadata": {},
   "source": [
    "## sample exps"
   ]
  },
  {
   "cell_type": "code",
   "execution_count": 1,
   "metadata": {},
   "outputs": [],
   "source": [
    "import numpy as np\n",
    "import matplotlib.pyplot as plt"
   ]
  },
  {
   "cell_type": "code",
   "execution_count": 122,
   "metadata": {},
   "outputs": [],
   "source": [
    "from scipy.optimize import fsolve, least_squares\n",
    "\n",
    "import tqdm"
   ]
  },
  {
   "cell_type": "code",
   "execution_count": 29,
   "metadata": {},
   "outputs": [],
   "source": [
    "i, j = 5, 10"
   ]
  },
  {
   "cell_type": "code",
   "execution_count": 80,
   "metadata": {},
   "outputs": [],
   "source": [
    "def f(arg, set1, set2, set12):\n",
    "    mu1, mu2, sigma1, sigma2 = arg\n",
    "    \n",
    "    dsigma1 = sum([(-sigma1**2 * (sigma1 + sigma2)**3 + (xi-mu1)**2 * (sigma1 + sigma2)**3) for xi in set1]) + \\\n",
    "                   sum([-(sigma1 + sigma2)*sigma1**3 + (xi - mu1 - mu2)**2 * sigma1**3 for xi in set12])\n",
    "\n",
    "    dsigma2 = sum([(-sigma2**2 * (sigma1 + sigma2)**3 + (xi-mu2)**2 * (sigma1 + sigma2)**3) for xi in set2]) + \\\n",
    "                   sum([-(sigma1 + sigma2)*sigma2**3 + (xi - mu1 - mu2)**2 * sigma2**3 for xi in set12])\n",
    "        \n",
    "\n",
    "    dmu1 = sum([(sigma1 +sigma2)**2 * (xi - mu1) for xi in set1]) + \\\n",
    "                sum([sigma1**2 * (xi - mu1 - mu2) for xi in set12])\n",
    "        \n",
    "    dmu2 = sum([(sigma1 +sigma2)**2 * (xi - mu2) for xi in set2]) + \\\n",
    "                sum([sigma2**2 * (xi - mu1 - mu2) for xi in set12])\n",
    "        \n",
    "        \n",
    "    return dmu1, dmu2, dsigma1, dsigma2"
   ]
  },
  {
   "cell_type": "code",
   "execution_count": 75,
   "metadata": {},
   "outputs": [],
   "source": [
    "def f(arg, set1, set2, set12):\n",
    "    mu1, mu2, sigma1, sigma2 = arg\n",
    "    \n",
    "    dsigma1 = sum([-1 / sigma1 + (xi-mu1)**2 / sigma1**3 for xi in set1]) + \\\n",
    "                   sum([-1 / (sigma1 + sigma2) + (xi - mu1 - mu2)**2 / (sigma1 + sigma2)**3 for xi in set12])\n",
    "\n",
    "    dsigma2 = sum([- 1 / sigma2 + (xi-mu2)**2 / sigma2**3 for xi in set2]) + \\\n",
    "                   sum([-1 / (sigma1 + sigma2) + (xi - mu1 - mu2)**2 /  (sigma1 + sigma2)**3 for xi in set12])\n",
    "        \n",
    "\n",
    "    dmu1 = sum([ 1/ sigma1**2 * (xi - mu1) for xi in set1]) + \\\n",
    "                sum([1 / (sigma1 + sigma2) **2 * (xi - mu1 - mu2) for xi in set12])\n",
    "        \n",
    "    dmu2 = sum([1 / sigma2**2 * (xi - mu2) for xi in set2]) + \\\n",
    "                sum([1 / (sigma1 + sigma2)**2 * (xi - mu1 - mu2) for xi in set12])\n",
    "        \n",
    "        \n",
    "    return dmu1, dmu2, dsigma1, dsigma2"
   ]
  },
  {
   "cell_type": "code",
   "execution_count": 97,
   "metadata": {},
   "outputs": [],
   "source": [
    "def MLE(arg, set1, set2, set12):\n",
    "    mu1, mu2, sigma1, sigma2 = arg\n",
    "    \n",
    "    log_likelihood = -(sum([-np.log(sigma1) - (xi - mu1) **2 / (2*sigma1**2) for xi in set1]) +\\\n",
    "                        sum([-np.log(sigma1 + sigma2) - (xi - mu1 - mu2)**2 / (2*(sigma1 + sigma2)**2) for xi in set12]) +\\\n",
    "                        sum([-np.log(sigma2) - (xi - mu2) **2 / (2*sigma2**2) for xi in set2]))\n",
    "    \n",
    "    return log_likelihood"
   ]
  },
  {
   "cell_type": "code",
   "execution_count": 139,
   "metadata": {
    "scrolled": true
   },
   "outputs": [
    {
     "data": {
      "text/plain": [
       "<Container object of 15 artists>"
      ]
     },
     "execution_count": 139,
     "metadata": {},
     "output_type": "execute_result"
    },
    {
     "data": {
      "image/png": "[encoded data removed]",
      "text/plain": [
       "<matplotlib.figure.Figure at 0x7f4bda3241d0>"
      ]
     },
     "metadata": {},
     "output_type": "display_data"
    }
   ],
   "source": [
    "a = np.random.normal(100, 19, 10)\n",
    "b = np.random.normal(1000, 50, 10)\n",
    "x = np.zeros(15)\n",
    "x[:10] += a\n",
    "x[5:] += b\n",
    "plt.bar(np.arange(15), x)"
   ]
  },
  {
   "cell_type": "code",
   "execution_count": null,
   "metadata": {},
   "outputs": [],
   "source": []
  },
  {
   "cell_type": "code",
   "execution_count": 140,
   "metadata": {
    "scrolled": false
   },
   "outputs": [
    {
     "data": {
      "application/vnd.jupyter.widget-view+json": {
       "model_id": "b6ce12a1e19344f591a52628ef9dbdc8",
       "version_major": 2,
       "version_minor": 0
      },
      "text/plain": [
       "A Jupyter Widget"
      ]
     },
     "metadata": {},
     "output_type": "display_data"
    },
    {
     "name": "stdout",
     "output_type": "stream",
     "text": [
      "\n"
     ]
    }
   ],
   "source": [
    "idxs, jdxs, costs, stds = [],[],[],[]\n",
    "for i in tqdm.tqdm_notebook(range(0, 10)):\n",
    "    for j in range(i, 15):\n",
    "        #solution = fsolve(f, [100, 1000, 20, 50], (x[:i], x[j:], x[i:j]), maxfev =10000)\n",
    "#         print(solution)\n",
    "#         print(\"===========================================================\")\n",
    "        #if all(solution  > 0) and solution[-1] > 1 and solution[-2] > 1:\n",
    "       # print (i, j, solution, solution[-1] + solution[-2])\n",
    "        solution= least_squares(MLE,\n",
    "                                [100, 1000, 20, 50],\n",
    "                                bounds = ((10,10,1,1), (1200, 1200, 100,100)),\n",
    "                                args = (x[:i], x[j:], x[i:j]))\n",
    "        #print(i, j, solution.cost, solution.x)\n",
    "        idxs.append(i)\n",
    "        jdxs.append(j)\n",
    "        costs.append(solution.cost)\n",
    "        stds.append(sum(solution.x[-2:]))"
   ]
  },
  {
   "cell_type": "code",
   "execution_count": 141,
   "metadata": {},
   "outputs": [
    {
     "name": "stdout",
     "output_type": "stream",
     "text": [
      "71 5 11 1830.842583604953\n",
      "70 5 10 1878.5658411361262\n",
      "69 5 9 1986.6923514334605\n",
      "68 5 8 2011.3421023052058\n",
      "72 5 12 2012.624049429078\n"
     ]
    }
   ],
   "source": [
    "for idx in np.argsort(costs)[:5]:\n",
    "    print(idx, idxs[idx], jdxs[idx], costs[idx])"
   ]
  },
  {
   "cell_type": "code",
   "execution_count": 142,
   "metadata": {},
   "outputs": [
    {
     "name": "stdout",
     "output_type": "stream",
     "text": [
      "71 5 11 60.28714034557492\n",
      "70 5 10 66.29568767235914\n",
      "72 5 12 73.44635115324373\n",
      "69 5 9 78.5440887396662\n",
      "73 5 13 81.29894321679345\n"
     ]
    }
   ],
   "source": [
    "for idx in np.argsort(stds)[:5]:\n",
    "    print(idx, idxs[idx], jdxs[idx], stds[idx])"
   ]
  },
  {
   "cell_type": "code",
   "execution_count": 132,
   "metadata": {},
   "outputs": [
    {
     "data": {
      "text/plain": [
       "743.1070937237052"
      ]
     },
     "execution_count": 132,
     "metadata": {},
     "output_type": "execute_result"
    }
   ],
   "source": [
    "np.mean(x)"
   ]
  },
  {
   "cell_type": "code",
   "execution_count": 133,
   "metadata": {},
   "outputs": [
    {
     "data": {
      "text/plain": [
       "452.12894382336077"
      ]
     },
     "execution_count": 133,
     "metadata": {},
     "output_type": "execute_result"
    }
   ],
   "source": [
    "np.std(x)"
   ]
  },
  {
   "cell_type": "code",
   "execution_count": null,
   "metadata": {},
   "outputs": [],
   "source": []
  },
  {
   "cell_type": "code",
   "execution_count": null,
   "metadata": {},
   "outputs": [],
   "source": []
  },
  {
   "cell_type": "code",
   "execution_count": 86,
   "metadata": {},
   "outputs": [
    {
     "data": {
      "text/plain": [
       "(-1.1442594720081965e-115,\n",
       " -1.2892664710628451e-115,\n",
       " 1.2808516508806115e-171,\n",
       " 1.0252046757076434e-171)"
      ]
     },
     "execution_count": 86,
     "metadata": {},
     "output_type": "execute_result"
    }
   ],
   "source": [
    "f(solution, x[:i], x[j:], x[i:j])"
   ]
  },
  {
   "cell_type": "code",
   "execution_count": 79,
   "metadata": {},
   "outputs": [
    {
     "data": {
      "text/plain": [
       "array([ 2.35077021e+150, -1.33980631e+154,  1.87245911e+151,\n",
       "        1.72604698e+153])"
      ]
     },
     "execution_count": 79,
     "metadata": {},
     "output_type": "execute_result"
    }
   ],
   "source": [
    "solution"
   ]
  },
  {
   "cell_type": "code",
   "execution_count": null,
   "metadata": {},
   "outputs": [],
   "source": []
  },
  {
   "cell_type": "code",
   "execution_count": 45,
   "metadata": {},
   "outputs": [
    {
     "name": "stdout",
     "output_type": "stream",
     "text": [
      "[8.00799177e+01 9.40727599e+02 2.03481453e-07 3.12442104e-07]\n",
      "(1.3508925599936928e-13, -1.3812593648656806e-13, 7.340844645485776e-15, 2.8340805080499708e-14)\n"
     ]
    }
   ],
   "source": [
    "s = fsolve(f, [100, 1000, 100, 100])\n",
    "print(s)\n",
    "print(f(s))"
   ]
  },
  {
   "cell_type": "code",
   "execution_count": 64,
   "metadata": {},
   "outputs": [
    {
     "ename": "TypeError",
     "evalue": "f() missing 3 required positional arguments: 'set1', 'set2', and 'set12'",
     "output_type": "error",
     "traceback": [
      "\u001b[0;31m---------------------------------------------------------------------------\u001b[0m",
      "\u001b[0;31mTypeError\u001b[0m                                 Traceback (most recent call last)",
      "\u001b[0;32m<ipython-input-64-d8641da4ff3c>\u001b[0m in \u001b[0;36m<module>\u001b[0;34m()\u001b[0m\n\u001b[0;32m----> 1\u001b[0;31m \u001b[0mf\u001b[0m\u001b[0;34m(\u001b[0m\u001b[0;34m[\u001b[0m \u001b[0;36m3.57727208e+03\u001b[0m\u001b[0;34m,\u001b[0m  \u001b[0;36m2.19322629e+02\u001b[0m\u001b[0;34m,\u001b[0m \u001b[0;34m-\u001b[0m\u001b[0;36m9.95162340e+05\u001b[0m\u001b[0;34m,\u001b[0m \u001b[0;34m-\u001b[0m\u001b[0;36m5.18485798e+06\u001b[0m\u001b[0;34m]\u001b[0m\u001b[0;34m)\u001b[0m\u001b[0;34m\u001b[0m\u001b[0m\n\u001b[0m",
      "\u001b[0;31mTypeError\u001b[0m: f() missing 3 required positional arguments: 'set1', 'set2', and 'set12'"
     ]
    }
   ],
   "source": [
    "f([ 3.57727208e+03,  2.19322629e+02, -9.95162340e+05, -5.18485798e+06], )"
   ]
  },
  {
   "cell_type": "code",
   "execution_count": null,
   "metadata": {},
   "outputs": [],
   "source": []
  },
  {
   "cell_type": "code",
   "execution_count": null,
   "metadata": {},
   "outputs": [],
   "source": []
  },
  {
   "cell_type": "code",
   "execution_count": 65,
   "metadata": {},
   "outputs": [
    {
     "data": {
      "text/plain": [
       "(26851512.96384861, -630779.8052032122, 2173249432855.6702, 17512372403.387062)"
      ]
     },
     "execution_count": 65,
     "metadata": {},
     "output_type": "execute_result"
    }
   ],
   "source": [
    "f([ 106.44261258, 1001.81280334,   14.03005082,   69.96303392], x[:i], x[j:], x[i:j])"
   ]
  },
  {
   "cell_type": "code",
   "execution_count": null,
   "metadata": {},
   "outputs": [],
   "source": []
  },
  {
   "cell_type": "code",
   "execution_count": null,
   "metadata": {},
   "outputs": [],
   "source": []
  },
  {
   "cell_type": "code",
   "execution_count": 7,
   "metadata": {},
   "outputs": [],
   "source": [
    "i = 10\n",
    "j = 5"
   ]
  },
  {
   "cell_type": "code",
   "execution_count": 8,
   "metadata": {},
   "outputs": [],
   "source": [
    "A = [[i, j], [15 - i, 15 - j]]"
   ]
  },
  {
   "cell_type": "code",
   "execution_count": 9,
   "metadata": {},
   "outputs": [],
   "source": [
    "B = [sum(c[:i]), sum(c[j:])]"
   ]
  },
  {
   "cell_type": "code",
   "execution_count": 10,
   "metadata": {},
   "outputs": [
    {
     "data": {
      "text/plain": [
       "array([  81.42965628, 1007.30625129])"
      ]
     },
     "execution_count": 10,
     "metadata": {},
     "output_type": "execute_result"
    }
   ],
   "source": [
    "np.dot(np.linalg.inv(A), B)"
   ]
  },
  {
   "cell_type": "code",
   "execution_count": null,
   "metadata": {},
   "outputs": [],
   "source": []
  },
  {
   "cell_type": "code",
   "execution_count": null,
   "metadata": {},
   "outputs": [],
   "source": []
  },
  {
   "cell_type": "code",
   "execution_count": null,
   "metadata": {},
   "outputs": [],
   "source": []
  }
 ],
 "metadata": {
  "kernelspec": {
   "display_name": "Python 3",
   "language": "python",
   "name": "python3"
  },
  "language_info": {
   "codemirror_mode": {
    "name": "ipython",
    "version": 3
   },
   "file_extension": ".py",
   "mimetype": "text/x-python",
   "name": "python",
   "nbconvert_exporter": "python",
   "pygments_lexer": "ipython3",
   "version": "3.6.3"
  }
 },
 "nbformat": 4,
 "nbformat_minor": 2
}
