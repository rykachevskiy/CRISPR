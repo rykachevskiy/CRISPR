{
 "cells": [
  {
   "cell_type": "code",
   "execution_count": 1,
   "metadata": {
    "scrolled": false
   },
   "outputs": [],
   "source": [
    "import crispr_assembler as ca\n",
    "import pandas as pd\n",
    "import numpy as np\n",
    "import matplotlib.pyplot as plt\n",
    "import os\n",
    "import tqdm\n",
    "\n",
    "%load_ext autoreload\n",
    "%autoreload 2\n",
    "\n",
    "import pickle"
   ]
  },
  {
   "cell_type": "code",
   "execution_count": null,
   "metadata": {},
   "outputs": [],
   "source": []
  },
  {
   "cell_type": "code",
   "execution_count": 2,
   "metadata": {},
   "outputs": [],
   "source": [
    "def process_path(path, cut = -1, save = 1):\n",
    "    pairs_path = path + \"/out/pairs/\"\n",
    "    files = sorted(os.listdir(pairs_path))\n",
    "    \n",
    "    print(pairs_path + files[0])\n",
    "    \n",
    "    read = ca.Read(pairs_path + files[0])\n",
    "    read.correct_errors(minimum_occurences=5)\n",
    "    gr = read.graph_from_pairs()[0]\n",
    "    \n",
    "    print('calc embs')\n",
    "    ec = ca.EmbeddingsCalculator()\n",
    "    ec.make_argsorts(gr[:cut, :cut])\n",
    "    embs = ec.fit_predict(gr[:cut, :cut], njobs=32)\n",
    "    \n",
    "    if save:\n",
    "        pickle.dump(read, open(path + \"/read\", 'wb'))\n",
    "        np.save(path + \"/graph\", gr)\n",
    "        np.save(path + \"/embs\", embs)\n",
    "        \n",
    "    return read, gr, embs"
   ]
  },
  {
   "cell_type": "code",
   "execution_count": 3,
   "metadata": {},
   "outputs": [],
   "source": [
    "def load(path):\n",
    "    return pickle.load(open(path + \"/read\", 'rb')), np.load(path + \"/graph.npy\"), np.load(path + \"/embs.npy\")"
   ]
  },
  {
   "cell_type": "code",
   "execution_count": null,
   "metadata": {},
   "outputs": [],
   "source": []
  },
  {
   "cell_type": "code",
   "execution_count": 4,
   "metadata": {},
   "outputs": [],
   "source": [
    "def unwrap_idx_to_spacer(idx_to_spacer):\n",
    "    values_as_list = []\n",
    "    for i in range(len(idx_to_spacer)):\n",
    "        values_as_list.append(idx_to_spacer[i])\n",
    "    return values_as_list"
   ]
  },
  {
   "cell_type": "code",
   "execution_count": 5,
   "metadata": {},
   "outputs": [],
   "source": [
    "def continue_steps(reads, pointers):\n",
    "    return any([pointers[i] < len(reads[i]) for i in range(len(reads))])"
   ]
  },
  {
   "cell_type": "code",
   "execution_count": 6,
   "metadata": {},
   "outputs": [],
   "source": [
    "def merge_reads(reads, t=1, v = 1):\n",
    "    spacers_lists = [unwrap_idx_to_spacer(x) for x in reads]#[unwrap_idx_to_spacer(x.index_to_cluster) for x in reads]\n",
    "    pointers = [0 for i in range(len(reads))]\n",
    "    merged_sp_to_idxes = {}\n",
    "    old_idx_to_new_idx = [{} for i in range(len(reads))]\n",
    "    \n",
    "    curr = 0\n",
    "    while continue_steps(spacers_lists, pointers):\n",
    "        for i in range(len(reads)):\n",
    "            if pointers[i] < len(reads[i]):\n",
    "                spacer = spacers_lists[i][pointers[i]]\n",
    "                \n",
    "                dist, closest = ca.find_closest(merged_sp_to_idxes, spacer)\n",
    "                if dist > t:\n",
    "                    merged_sp_to_idxes[spacer] = curr\n",
    "                    #new_sp_to_ids[i][spacer] = curr\n",
    "                    old_idx_to_new_idx[i][pointers[i]] = curr\n",
    "                    curr += 1\n",
    "                else:\n",
    "                    old_idx_to_new_idx[i][pointers[i]] = merged_sp_to_idxes[closest]\n",
    "                \n",
    "                pointers[i] += 1\n",
    "                \n",
    "                if curr % 100 == 0:\n",
    "                    print(curr)\n",
    "                \n",
    "\n",
    "                if v:\n",
    "                    print(i, pointers[i], spacer, dist, merged_sp_to_idxes)#, new_sp_to_ids[1])\n",
    "                    \n",
    "    return merged_sp_to_idxes,  old_idx_to_new_idx"
   ]
  },
  {
   "cell_type": "code",
   "execution_count": null,
   "metadata": {},
   "outputs": [],
   "source": []
  },
  {
   "cell_type": "code",
   "execution_count": 7,
   "metadata": {},
   "outputs": [],
   "source": [
    "def rearange(gr, order):\n",
    "    new_gr = np.zeros((max(order.values()) + 1, max(order.values()) + 1))\n",
    "\n",
    "    for i in tqdm.tqdm(range(len(order.keys()))):\n",
    "        for j in range(len(order.keys())):\n",
    "            new_gr[order[i], order[j]] = gr[i, j]\n",
    "\n",
    "    return new_gr"
   ]
  },
  {
   "cell_type": "code",
   "execution_count": null,
   "metadata": {},
   "outputs": [],
   "source": []
  },
  {
   "cell_type": "code",
   "execution_count": null,
   "metadata": {},
   "outputs": [],
   "source": []
  },
  {
   "cell_type": "code",
   "execution_count": 10,
   "metadata": {},
   "outputs": [
    {
     "name": "stdout",
     "output_type": "stream",
     "text": [
      "../../data/environmental/slv2//out/pairs/SlV2_GTTTCG_L001_R1_001.fastq.gz_pairs.txt\n"
     ]
    },
    {
     "name": "stderr",
     "output_type": "stream",
     "text": [
      "100%|██████████| 307/307 [00:00<00:00, 2333.40it/s]\n"
     ]
    },
    {
     "name": "stdout",
     "output_type": "stream",
     "text": [
      "calc embs\n"
     ]
    }
   ],
   "source": [
    "read_slv, gr_slv, emb_slv = process_path(\"../../data/environmental/slv2/\")"
   ]
  },
  {
   "cell_type": "code",
   "execution_count": null,
   "metadata": {},
   "outputs": [],
   "source": []
  },
  {
   "cell_type": "code",
   "execution_count": 11,
   "metadata": {},
   "outputs": [],
   "source": [
    "#answer_sensivity = ca.read_arrays_with_tags(\"../../article/data/answers/sensivity\", 0)\n",
    "answer = ca.read_arrays_with_tags(\"../../article/data/answers/all\", 0)"
   ]
  },
  {
   "cell_type": "code",
   "execution_count": 12,
   "metadata": {},
   "outputs": [
    {
     "name": "stderr",
     "output_type": "stream",
     "text": [
      "100%|██████████| 54/54 [00:00<00:00, 124.30it/s]\n"
     ]
    }
   ],
   "source": [
    "a, d = ca.multiple_arrays_to_ids(answer, read_slv.spacer_to_cluster_index)\n",
    "\n",
    "#a_all, d_all = ca.multiple_arrays_to_ids(answer_all, res.spacer_to_cluster_index)\n",
    "\n",
    "answ_gr = ca.graph_from_arrays([x for x in a.values()], gr_slv.shape[0])[0]"
   ]
  },
  {
   "cell_type": "code",
   "execution_count": 13,
   "metadata": {},
   "outputs": [
    {
     "data": {
      "text/plain": [
       "{'first_1': [0, 14, 0, 14, 13, 14, 14],\n",
       " 'first_11': [0, 14, 0, 14, 13, 14, 14],\n",
       " 'first_2': [2, 2, 2, 2, 2],\n",
       " 'first_24': [2, 2, 2, 2, 2],\n",
       " 'first_61': [2, 2, 2, 2, 2],\n",
       " 'first_62': [2, 2, 2, 2, 2],\n",
       " 'first_68': [2, 2, 2, 2, 2],\n",
       " 'first_3': [1, 1, 1, 12, 14, 14, 1],\n",
       " 'first_5': [0, 0, 0, 0, 0, 0, 0, 0, 0, 0, 0],\n",
       " 'first_50': [0, 0, 0, 0, 0, 0, 0, 0, 0, 0, 0],\n",
       " 'first_7': [14, 1, 12, 12, 14, 13, 14, 13, 13],\n",
       " 'first_8': [0, 0, 0, 0, 0, 0, 0, 0, 0, 0, 0, 0],\n",
       " 'first_14': [0, 0, 0, 0, 0, 0, 14, 0, 0, 12, 14, 15],\n",
       " 'first_15': [0,\n",
       "  14,\n",
       "  0,\n",
       "  14,\n",
       "  14,\n",
       "  13,\n",
       "  14,\n",
       "  14,\n",
       "  14,\n",
       "  13,\n",
       "  14,\n",
       "  14,\n",
       "  14,\n",
       "  14,\n",
       "  15,\n",
       "  13,\n",
       "  14,\n",
       "  14,\n",
       "  14],\n",
       " 'first_19': [0, 0, 0, 0, 0, 0, 0, 0],\n",
       " 'first_20': [0, 0, 0, 0, 0, 0, 0, 0],\n",
       " 'first_22': [0, 0, 0, 0, 0, 0, 0, 0],\n",
       " 'first_31': [0, 0, 0, 0, 0, 0, 0, 0],\n",
       " 'first_21': [1, 14, 13, 13, 15, 14, 13, 14, 15, 14, 14],\n",
       " 'first_23': [1, 14, 13, 13, 15, 14, 13, 14, 15, 14, 14],\n",
       " 'first_27': [0, 14, 0, 13, 14, 14, 14, 15, 13, 14, 14, 14, 14, 14],\n",
       " 'first_65': [1, 14, 13, 13, 15, 14, 13, 14, 15, 14],\n",
       " 'first_70': [1, 14, 13, 13, 15, 14, 13, 14, 15, 14],\n",
       " 'first_9': [0, 0, 0, 0, 14],\n",
       " 'first_12': [0, 0, 12, 13],\n",
       " 'first_66': [0, 0, 0, 0, 0, 0, 0, 0, 0, 0, 0, 0],\n",
       " 'first_67': [0, 14, 0, 14, 13, 14, 14],\n",
       " 'second_1': [0, 0, 12, 13, 0],\n",
       " 'second_2': [0, 13, 0, 15, 14, 14, 13, 13, 12],\n",
       " 'second_61': [0, 13, 0, 15, 14, 14, 13, 13, 12],\n",
       " 'second_62': [0, 13, 0, 15, 14, 14, 13, 13, 12],\n",
       " 'second_68': [0, 13, 0, 15, 14, 14, 13, 13, 12],\n",
       " 'second_5': [1, 1, 13, 1, 2, 1],\n",
       " 'second_50': [1, 1, 13, 1, 2, 1],\n",
       " 'second_21': [13, 1, 15, 13, 13, 13, 14, 13, 14, 15],\n",
       " 'second_65': [13, 1, 15, 13, 13, 13, 14, 13, 14, 15],\n",
       " 'second_70': [13, 1, 15, 13, 13, 13, 14, 13, 14, 15],\n",
       " 'second_3': [0, 12, 12, 9, 14, 14, 0, 13],\n",
       " 'second_7': [14, 14, 14, 13, 13, 14, 14],\n",
       " 'second_8': [14, 14, 15, 14, 15, 15],\n",
       " 'second_11': [0, 0, 12, 13, 0],\n",
       " 'second_14': [0, 0, 0, 0, 0, 0, 0, 0, 13, 0, 12, 0, 1],\n",
       " 'second_15': [0, 14, 0, 12, 13, 13],\n",
       " 'second_19': [14, 14, 14, 13, 13, 13, 13, 0, 13, 13, 14],\n",
       " 'second_20': [14, 14, 14, 13, 13, 13, 13, 0, 13, 13, 14, 15, 13],\n",
       " 'second_22': [14,\n",
       "  13,\n",
       "  14,\n",
       "  13,\n",
       "  13,\n",
       "  13,\n",
       "  14,\n",
       "  2,\n",
       "  13,\n",
       "  14,\n",
       "  31,\n",
       "  0,\n",
       "  13,\n",
       "  13,\n",
       "  14,\n",
       "  15,\n",
       "  13],\n",
       " 'second_23': [14, 13, 11, 13, 15, 13, 13, 14],\n",
       " 'second_24': [0, 15, 14, 14, 13, 13, 12],\n",
       " 'second_27': [31, 0, 13, 0, 12, 0, 0, 0],\n",
       " 'second_31': [14, 14, 14, 13, 13, 13, 13, 0, 13, 13, 14, 15],\n",
       " 'second_9': [14,\n",
       "  14,\n",
       "  14,\n",
       "  13,\n",
       "  13,\n",
       "  14,\n",
       "  12,\n",
       "  14,\n",
       "  14,\n",
       "  14,\n",
       "  14,\n",
       "  31,\n",
       "  13,\n",
       "  13,\n",
       "  13,\n",
       "  10,\n",
       "  13,\n",
       "  12,\n",
       "  12],\n",
       " 'second_12': [0,\n",
       "  0,\n",
       "  12,\n",
       "  13,\n",
       "  0,\n",
       "  0,\n",
       "  0,\n",
       "  0,\n",
       "  0,\n",
       "  0,\n",
       "  0,\n",
       "  0,\n",
       "  53,\n",
       "  0,\n",
       "  0,\n",
       "  14,\n",
       "  13,\n",
       "  15,\n",
       "  13,\n",
       "  9],\n",
       " 'second_66': [3, 3, 15, 3, 3, 3],\n",
       " 'second_67': [0, 0, 12, 13, 0]}"
      ]
     },
     "execution_count": 13,
     "metadata": {},
     "output_type": "execute_result"
    }
   ],
   "source": [
    "d"
   ]
  },
  {
   "cell_type": "code",
   "execution_count": 26,
   "metadata": {},
   "outputs": [],
   "source": [
    "arrays_found_d = []\n",
    "for k,v in d.items():\n",
    "    if max(sorted(v)[::-1][:]) < 3:\n",
    "        arrays_found_d.append(k)"
   ]
  },
  {
   "cell_type": "code",
   "execution_count": 27,
   "metadata": {},
   "outputs": [],
   "source": [
    "arrays_found_v = []\n",
    "for k,v in a.items():\n",
    "    #print(k, sorted(v)[::-1])\n",
    "    if max(sorted(v)[::-1][1:]) < 300:\n",
    "        arrays_found_v.append(k)"
   ]
  },
  {
   "cell_type": "code",
   "execution_count": 28,
   "metadata": {},
   "outputs": [
    {
     "data": {
      "text/plain": [
       "['first_2',\n",
       " 'first_24',\n",
       " 'first_61',\n",
       " 'first_62',\n",
       " 'first_68',\n",
       " 'first_5',\n",
       " 'first_50',\n",
       " 'first_8',\n",
       " 'first_19',\n",
       " 'first_20',\n",
       " 'first_22',\n",
       " 'first_31',\n",
       " 'first_66']"
      ]
     },
     "execution_count": 28,
     "metadata": {},
     "output_type": "execute_result"
    }
   ],
   "source": [
    "arrays_found_d"
   ]
  },
  {
   "cell_type": "code",
   "execution_count": 29,
   "metadata": {},
   "outputs": [
    {
     "data": {
      "text/plain": [
       "{'first_19',\n",
       " 'first_2',\n",
       " 'first_20',\n",
       " 'first_22',\n",
       " 'first_24',\n",
       " 'first_31',\n",
       " 'first_5',\n",
       " 'first_50',\n",
       " 'first_61',\n",
       " 'first_62',\n",
       " 'first_66',\n",
       " 'first_68',\n",
       " 'first_8'}"
      ]
     },
     "execution_count": 29,
     "metadata": {},
     "output_type": "execute_result"
    }
   ],
   "source": [
    "set(arrays_found_v).intersection(set(arrays_found_d))"
   ]
  },
  {
   "cell_type": "code",
   "execution_count": 49,
   "metadata": {},
   "outputs": [
    {
     "data": {
      "text/plain": [
       "[<matplotlib.lines.Line2D at 0x7fbf900430b8>]"
      ]
     },
     "execution_count": 49,
     "metadata": {},
     "output_type": "execute_result"
    },
    {
     "data": {
      "image/png": "[encoded data removed]",
      "text/plain": [
       "<matplotlib.figure.Figure at 0x7fbfa706d278>"
      ]
     },
     "metadata": {},
     "output_type": "display_data"
    }
   ],
   "source": [
    "plt.plot((answ_gr > 0).sum(1)[:100])"
   ]
  },
  {
   "cell_type": "code",
   "execution_count": 31,
   "metadata": {
    "scrolled": false
   },
   "outputs": [
    {
     "data": {
      "image/png": "[encoded data removed]",
      "text/plain": [
       "<matplotlib.figure.Figure at 0x7fbaa8efdfd0>"
      ]
     },
     "metadata": {},
     "output_type": "display_data"
    }
   ],
   "source": [
    "cut1 = 0\n",
    "cut2 = 100\n",
    "ca.plot_grs(gr_slv[cut1:cut2, cut1:cut2],\n",
    "           (answ_gr[cut1:cut2, cut1:cut2] > 0).astype(int),\n",
    "#             grs_m[1][:cut, :cut],\n",
    "#             grs_m[2][:cut, :cut],\n",
    "            log = 1, \n",
    "            s = 20)\n",
    "plt.show()"
   ]
  },
  {
   "cell_type": "code",
   "execution_count": 32,
   "metadata": {},
   "outputs": [],
   "source": [
    "gb = pickle.load(open(\"../article/linear_svc_rep_to_rep\", 'rb'))\n",
    "\n",
    "#pred = gb.predict(embs[0]).reshape((grs[0].shape[0] - 1, grs[0].shape[1] - 1))"
   ]
  },
  {
   "cell_type": "code",
   "execution_count": 34,
   "metadata": {},
   "outputs": [],
   "source": [
    "pred = gb.predict(emb_slv).reshape((gr_slv.shape[0] - 1, gr_slv.shape[1] - 1))"
   ]
  },
  {
   "cell_type": "code",
   "execution_count": 38,
   "metadata": {},
   "outputs": [
    {
     "data": {
      "image/png": "[encoded data removed]",
      "text/plain": [
       "<matplotlib.figure.Figure at 0x7fba5aa87fd0>"
      ]
     },
     "metadata": {},
     "output_type": "display_data"
    }
   ],
   "source": [
    "cut = 100\n",
    "ca.plot_grs(gr_slv[:cut, :cut],\n",
    "            pred[:cut, :cut],\n",
    "            log = 1, \n",
    "            s = 20, subplots_form = (1,2))\n",
    "plt.show()"
   ]
  },
  {
   "cell_type": "code",
   "execution_count": 45,
   "metadata": {},
   "outputs": [],
   "source": [
    "arrs_slv = [x for x in ca.restore_arrays_all(pred, 1)[1] if len(x) > 2]"
   ]
  },
  {
   "cell_type": "code",
   "execution_count": null,
   "metadata": {},
   "outputs": [],
   "source": []
  },
  {
   "cell_type": "code",
   "execution_count": 46,
   "metadata": {},
   "outputs": [
    {
     "data": {
      "text/plain": [
       "[[106, 108, 86, 57, 75, 82, 97, 55, 23, 41, 78, 73, 56, 120, 117, 123, 170],\n",
       " [106, 108, 86, 57, 75, 82, 97, 55, 23, 41, 78, 73, 56, 81, 63, 89, 100],\n",
       " [24, 18, 22, 42, 32, 15, 49, 72, 68, 77, 54, 47, 45, 62, 84],\n",
       " [7, 9, 51, 29, 12, 14, 48, 20, 19, 21, 39, 59],\n",
       " [80, 53, 74, 98, 28, 30, 43, 46, 37, 60],\n",
       " [58, 26, 35, 71, 121, 79, 44, 64, 104],\n",
       " [218, 182, 228, 271, 239, 288],\n",
       " [137, 140, 160, 139, 168, 204],\n",
       " [36, 16, 6, 5, 13, 70],\n",
       " [221, 215, 164, 208, 145],\n",
       " [198, 127, 174, 183, 234],\n",
       " [191, 238, 130, 143, 187],\n",
       " [285, 268, 233, 192],\n",
       " [155, 167, 163, 185],\n",
       " [90, 99, 96, 103],\n",
       " [83, 88, 61, 31],\n",
       " [33, 38, 40, 118],\n",
       " [17, 0, 1, 11],\n",
       " [212, 217, 213],\n",
       " [199, 161, 202],\n",
       " [184, 186, 275],\n",
       " [173, 158, 225],\n",
       " [146, 135, 255],\n",
       " [141, 115, 150],\n",
       " [138, 136, 209],\n",
       " [126, 94, 113],\n",
       " [124, 91, 114],\n",
       " [110, 109, 128],\n",
       " [105, 66, 92],\n",
       " [85, 76, 111],\n",
       " [67, 27, 52],\n",
       " [34, 25, 69],\n",
       " [8, 2, 3]]"
      ]
     },
     "execution_count": 46,
     "metadata": {},
     "output_type": "execute_result"
    }
   ],
   "source": [
    "arrs_slv"
   ]
  },
  {
   "cell_type": "code",
   "execution_count": 63,
   "metadata": {},
   "outputs": [
    {
     "name": "stdout",
     "output_type": "stream",
     "text": [
      "first_2 [2, 2, 2, 2, 2]\n",
      " 83 , 276, 142, 152, 180,\n",
      "first_24 [2, 2, 2, 2, 2]\n",
      " 83 , 276, 142, 152, 180,\n",
      "first_61 [2, 2, 2, 2, 2]\n",
      " 83 , 276, 142, 152, 180,\n",
      "first_62 [2, 2, 2, 2, 2]\n",
      " 83 , 276, 142, 152, 180,\n",
      "first_68 [2, 2, 2, 2, 2]\n",
      " 83 , 276, 142, 152, 180,\n",
      "first_5 [0, 0, 0, 0, 0, 0, 0, 0, 0, 0, 0]\n",
      " 87 , 7  , 9  , 51 , 147, 176, 29 , 12 , 14 , 48 , 20 ,\n",
      " -  , 7  , 9  , 51 , 29 , 12 , 14 , 48 , 20 , 19 , 21 , 39 , 59 ,\n",
      "first_50 [0, 0, 0, 0, 0, 0, 0, 0, 0, 0, 0]\n",
      " 87 , 7  , 9  , 51 , 147, 176, 29 , 12 , 14 , 48 , 20 ,\n",
      " -  , 7  , 9  , 51 , 29 , 12 , 14 , 48 , 20 , 19 , 21 , 39 , 59 ,\n",
      "first_8 [0, 0, 0, 0, 0, 0, 0, 0, 0, 0, 0, 0]\n",
      " 87 , 7  , 9  , 176, 29 , 12 , 14 , 48 , 20 , 19 , 21 , 39 ,\n",
      " -  , 7  , 9  , 51 , 29 , 12 , 14 , 48 , 20 , 19 , 21 , 39 , 59 ,\n",
      "first_19 [0, 0, 0, 0, 0, 0, 0, 0]\n",
      " 17 , 0  , 1  , 243, 258, 287, 135, 255,\n",
      " 17 , 0  , 1  , 11 , -  , -  , -  , -  ,\n",
      " -  , -  , -  , -  , -  , 146, 135, 255,\n",
      "first_20 [0, 0, 0, 0, 0, 0, 0, 0]\n",
      " 17 , 0  , 1  , 243, 258, 287, 135, 255,\n",
      " 17 , 0  , 1  , 11 , -  , -  , -  , -  ,\n",
      " -  , -  , -  , -  , -  , 146, 135, 255,\n",
      "first_22 [0, 0, 0, 0, 0, 0, 0, 0]\n",
      " 17 , 0  , 1  , 243, 258, 287, 135, 255,\n",
      " 17 , 0  , 1  , 11 , -  , -  , -  , -  ,\n",
      " -  , -  , -  , -  , -  , 146, 135, 255,\n",
      "first_31 [0, 0, 0, 0, 0, 0, 0, 0]\n",
      " 17 , 0  , 1  , 243, 258, 287, 135, 255,\n",
      " 17 , 0  , 1  , 11 , -  , -  , -  , -  ,\n",
      " -  , -  , -  , -  , -  , 146, 135, 255,\n",
      "first_66 [0, 0, 0, 0, 0, 0, 0, 0, 0, 0, 0, 0]\n",
      " 87 , 7  , 9  , 176, 29 , 12 , 14 , 48 , 20 , 19 , 21 , 39 ,\n",
      " -  , 7  , 9  , 51 , 29 , 12 , 14 , 48 , 20 , 19 , 21 , 39 , 59 ,\n"
     ]
    }
   ],
   "source": [
    "for k,v in a.items():\n",
    "    if max(d[k]) < 5:\n",
    "        print(k, d[k])\n",
    "        for i in ca.print_alignments(ca.water_alignments(v, arrs_slv), v):\n",
    "            print(i)"
   ]
  },
  {
   "cell_type": "code",
   "execution_count": 56,
   "metadata": {},
   "outputs": [
    {
     "data": {
      "text/plain": [
       "[' 95 , 36 , 198, 104, 16 ,']"
      ]
     },
     "execution_count": 56,
     "metadata": {},
     "output_type": "execute_result"
    }
   ],
   "source": [
    "ca.print_alignments(ca.water_alignments(v, arrs_slv), v)"
   ]
  },
  {
   "cell_type": "code",
   "execution_count": 54,
   "metadata": {},
   "outputs": [
    {
     "data": {
      "text/plain": [
       "[95, 36, 198, 104, 16]"
      ]
     },
     "execution_count": 54,
     "metadata": {},
     "output_type": "execute_result"
    }
   ],
   "source": [
    "v"
   ]
  },
  {
   "cell_type": "code",
   "execution_count": null,
   "metadata": {},
   "outputs": [],
   "source": []
  }
 ],
 "metadata": {
  "kernelspec": {
   "display_name": "Python 3",
   "language": "python",
   "name": "python3"
  },
  "language_info": {
   "codemirror_mode": {
    "name": "ipython",
    "version": 3
   },
   "file_extension": ".py",
   "mimetype": "text/x-python",
   "name": "python",
   "nbconvert_exporter": "python",
   "pygments_lexer": "ipython3",
   "version": "3.6.3"
  }
 },
 "nbformat": 4,
 "nbformat_minor": 2
}
