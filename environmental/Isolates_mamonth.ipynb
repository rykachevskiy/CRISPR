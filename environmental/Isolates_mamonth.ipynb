{
 "cells": [
  {
   "cell_type": "code",
   "execution_count": 1,
   "metadata": {
    "scrolled": false
   },
   "outputs": [],
   "source": [
    "import crispr_assembler as ca\n",
    "import pandas as pd\n",
    "import numpy as np\n",
    "import matplotlib.pyplot as plt\n",
    "import os\n",
    "import tqdm\n",
    "\n",
    "%load_ext autoreload\n",
    "%autoreload 2\n",
    "\n",
    "import pickle"
   ]
  },
  {
   "cell_type": "code",
   "execution_count": null,
   "metadata": {},
   "outputs": [],
   "source": []
  },
  {
   "cell_type": "code",
   "execution_count": 2,
   "metadata": {},
   "outputs": [],
   "source": [
    "def process_path(path, cut = -1, save = 1):\n",
    "    pairs_path = path + \"/out/pairs/\"\n",
    "    files = sorted(os.listdir(pairs_path))\n",
    "    \n",
    "    print(pairs_path + files[0])\n",
    "    \n",
    "    read = ca.Read(pairs_path + files[0])\n",
    "    read.correct_errors(minimum_occurences=5)\n",
    "    gr = read.graph_from_pairs()[0]\n",
    "    \n",
    "    print('calc embs')\n",
    "    ec = ca.EmbeddingsCalculator()\n",
    "    ec.make_argsorts(gr[:cut, :cut])\n",
    "    embs = ec.fit_predict(gr[:cut, :cut], njobs=32)\n",
    "    \n",
    "    if save:\n",
    "        pickle.dump(read, open(path + \"/read\", 'wb'))\n",
    "        np.save(path + \"/graph\", gr)\n",
    "        np.save(path + \"/embs\", embs)\n",
    "        \n",
    "    return read, gr, embs"
   ]
  },
  {
   "cell_type": "code",
   "execution_count": 3,
   "metadata": {},
   "outputs": [],
   "source": [
    "def load(path):\n",
    "    return pickle.load(open(path + \"/read\", 'rb')), np.load(path + \"/graph.npy\"), np.load(path + \"/embs.npy\")"
   ]
  },
  {
   "cell_type": "code",
   "execution_count": null,
   "metadata": {},
   "outputs": [],
   "source": []
  },
  {
   "cell_type": "code",
   "execution_count": 4,
   "metadata": {},
   "outputs": [],
   "source": [
    "def unwrap_idx_to_spacer(idx_to_spacer):\n",
    "    values_as_list = []\n",
    "    for i in range(len(idx_to_spacer)):\n",
    "        values_as_list.append(idx_to_spacer[i])\n",
    "    return values_as_list"
   ]
  },
  {
   "cell_type": "code",
   "execution_count": 5,
   "metadata": {},
   "outputs": [],
   "source": [
    "def continue_steps(reads, pointers):\n",
    "    return any([pointers[i] < len(reads[i]) for i in range(len(reads))])"
   ]
  },
  {
   "cell_type": "code",
   "execution_count": 6,
   "metadata": {},
   "outputs": [],
   "source": [
    "def merge_reads(reads, t=1, v = 1):\n",
    "    spacers_lists = [unwrap_idx_to_spacer(x) for x in reads]#[unwrap_idx_to_spacer(x.index_to_cluster) for x in reads]\n",
    "    pointers = [0 for i in range(len(reads))]\n",
    "    merged_sp_to_idxes = {}\n",
    "    old_idx_to_new_idx = [{} for i in range(len(reads))]\n",
    "    \n",
    "    curr = 0\n",
    "    while continue_steps(spacers_lists, pointers):\n",
    "        for i in range(len(reads)):\n",
    "            if pointers[i] < len(reads[i]):\n",
    "                spacer = spacers_lists[i][pointers[i]]\n",
    "                \n",
    "                dist, closest = ca.find_closest(merged_sp_to_idxes, spacer)\n",
    "                if dist > t:\n",
    "                    merged_sp_to_idxes[spacer] = curr\n",
    "                    #new_sp_to_ids[i][spacer] = curr\n",
    "                    old_idx_to_new_idx[i][pointers[i]] = curr\n",
    "                    curr += 1\n",
    "                else:\n",
    "                    old_idx_to_new_idx[i][pointers[i]] = merged_sp_to_idxes[closest]\n",
    "                \n",
    "                pointers[i] += 1\n",
    "                \n",
    "                if curr % 100 == 0:\n",
    "                    print(curr)\n",
    "                \n",
    "\n",
    "                if v:\n",
    "                    print(i, pointers[i], spacer, dist, merged_sp_to_idxes)#, new_sp_to_ids[1])\n",
    "                    \n",
    "    return merged_sp_to_idxes,  old_idx_to_new_idx"
   ]
  },
  {
   "cell_type": "code",
   "execution_count": null,
   "metadata": {},
   "outputs": [],
   "source": []
  },
  {
   "cell_type": "code",
   "execution_count": 7,
   "metadata": {},
   "outputs": [],
   "source": [
    "def rearange(gr, order):\n",
    "    new_gr = np.zeros((max(order.values()) + 1, max(order.values()) + 1))\n",
    "\n",
    "    for i in tqdm.tqdm(range(len(order.keys()))):\n",
    "        for j in range(len(order.keys())):\n",
    "            new_gr[order[i], order[j]] = gr[i, j]\n",
    "\n",
    "    return new_gr"
   ]
  },
  {
   "cell_type": "code",
   "execution_count": null,
   "metadata": {},
   "outputs": [],
   "source": []
  },
  {
   "cell_type": "code",
   "execution_count": null,
   "metadata": {},
   "outputs": [],
   "source": []
  },
  {
   "cell_type": "code",
   "execution_count": 9,
   "metadata": {},
   "outputs": [
    {
     "name": "stderr",
     "output_type": "stream",
     "text": [
      "\r",
      "  0%|          | 0/365 [00:00<?, ?it/s]"
     ]
    },
    {
     "name": "stdout",
     "output_type": "stream",
     "text": [
      "../../data/environmental/m1//out/pairs/M1_AGTCAA_L001_R1_001.fastq.gz_pairs.txt\n"
     ]
    },
    {
     "name": "stderr",
     "output_type": "stream",
     "text": [
      "100%|██████████| 365/365 [00:00<00:00, 2363.45it/s]\n"
     ]
    },
    {
     "name": "stdout",
     "output_type": "stream",
     "text": [
      "calc embs\n"
     ]
    }
   ],
   "source": [
    "read_slv, gr_slv, emb_slv = process_path(\"../../data/environmental/m1/\")"
   ]
  },
  {
   "cell_type": "code",
   "execution_count": null,
   "metadata": {},
   "outputs": [],
   "source": []
  },
  {
   "cell_type": "code",
   "execution_count": 10,
   "metadata": {},
   "outputs": [],
   "source": [
    "#answer_sensivity = ca.read_arrays_with_tags(\"../../article/data/answers/sensivity\", 0)\n",
    "answer = ca.read_arrays_with_tags(\"../../article/data/answers/all\", 0)"
   ]
  },
  {
   "cell_type": "code",
   "execution_count": 11,
   "metadata": {},
   "outputs": [
    {
     "name": "stderr",
     "output_type": "stream",
     "text": [
      "100%|██████████| 54/54 [00:00<00:00, 110.56it/s]\n"
     ]
    }
   ],
   "source": [
    "a, d = ca.multiple_arrays_to_ids(answer, read_slv.spacer_to_cluster_index)\n",
    "\n",
    "#a_all, d_all = ca.multiple_arrays_to_ids(answer_all, res.spacer_to_cluster_index)\n",
    "\n",
    "answ_gr = ca.graph_from_arrays([x for x in a.values()], gr_slv.shape[0])[0]"
   ]
  },
  {
   "cell_type": "code",
   "execution_count": 12,
   "metadata": {
    "collapsed": true
   },
   "outputs": [
    {
     "data": {
      "text/plain": [
       "{'first_1': [0, 10, 13, 14, 13, 14, 14],\n",
       " 'first_11': [0, 10, 13, 14, 13, 14, 14],\n",
       " 'first_2': [2, 13, 2, 2, 14],\n",
       " 'first_24': [2, 13, 2, 2, 14],\n",
       " 'first_61': [2, 13, 2, 2, 14],\n",
       " 'first_62': [2, 13, 2, 2, 14],\n",
       " 'first_68': [2, 13, 2, 2, 14],\n",
       " 'first_3': [1, 14, 14, 14, 12, 14, 14],\n",
       " 'first_5': [0, 0, 0, 0, 0, 13, 0, 0, 0, 0, 0],\n",
       " 'first_50': [0, 0, 0, 0, 0, 13, 0, 0, 0, 0, 0],\n",
       " 'first_7': [13, 12, 13, 14, 14, 13, 14, 13, 13],\n",
       " 'first_8': [0, 0, 0, 13, 0, 0, 0, 0, 0, 0, 0, 0],\n",
       " 'first_14': [0, 0, 0, 13, 13, 0, 14, 0, 0, 12, 14, 15],\n",
       " 'first_15': [0,\n",
       "  10,\n",
       "  13,\n",
       "  14,\n",
       "  14,\n",
       "  13,\n",
       "  13,\n",
       "  13,\n",
       "  14,\n",
       "  13,\n",
       "  14,\n",
       "  14,\n",
       "  14,\n",
       "  15,\n",
       "  13,\n",
       "  14,\n",
       "  14,\n",
       "  14,\n",
       "  14],\n",
       " 'first_19': [0, 0, 0, 13, 13, 0, 0, 14],\n",
       " 'first_20': [0, 0, 0, 13, 13, 0, 0, 14],\n",
       " 'first_22': [0, 0, 0, 13, 13, 0, 0, 14],\n",
       " 'first_31': [0, 0, 0, 13, 13, 0, 0, 14],\n",
       " 'first_21': [0, 0, 0, 0, 0, 0, 0, 0, 14, 12, 13],\n",
       " 'first_23': [0, 0, 0, 0, 0, 0, 0, 0, 14, 12, 13],\n",
       " 'first_27': [0, 10, 13, 13, 13, 14, 15, 13, 14, 14, 14, 14, 13, 13],\n",
       " 'first_65': [0, 0, 0, 0, 0, 0, 0, 0, 14, 12],\n",
       " 'first_70': [0, 0, 0, 0, 0, 0, 0, 0, 14, 12],\n",
       " 'first_9': [0, 0, 0, 0, 14],\n",
       " 'first_12': [0, 0, 12, 13],\n",
       " 'first_66': [0, 0, 0, 13, 0, 0, 0, 0, 0, 0, 0, 0],\n",
       " 'first_67': [0, 10, 13, 14, 13, 14, 14],\n",
       " 'second_1': [0, 0, 0, 0, 0],\n",
       " 'second_2': [0, 13, 0, 13, 14, 14, 13, 12, 12],\n",
       " 'second_61': [0, 13, 0, 13, 14, 14, 13, 12, 12],\n",
       " 'second_62': [0, 13, 0, 13, 14, 14, 13, 12, 12],\n",
       " 'second_68': [0, 13, 0, 13, 14, 14, 13, 12, 12],\n",
       " 'second_5': [1, 1, 14, 1, 2, 1],\n",
       " 'second_50': [1, 1, 14, 1, 2, 1],\n",
       " 'second_21': [13, 1, 1, 14, 14, 13, 1, 13, 14, 14],\n",
       " 'second_65': [13, 1, 1, 14, 14, 13, 1, 13, 14, 14],\n",
       " 'second_70': [13, 1, 1, 14, 14, 13, 1, 13, 14, 14],\n",
       " 'second_3': [12, 12, 13, 14, 13, 14, 15, 14],\n",
       " 'second_7': [14, 0, 14, 13, 13, 12, 14],\n",
       " 'second_8': [14, 14, 15, 14, 16, 14],\n",
       " 'second_11': [0, 0, 0, 0, 0],\n",
       " 'second_14': [0, 0, 0, 0, 14, 14, 14, 13, 13, 14, 12, 11, 12],\n",
       " 'second_15': [0, 14, 0, 0, 0, 14],\n",
       " 'second_19': [14, 0, 14, 14, 13, 0, 0, 0, 0, 0, 14],\n",
       " 'second_20': [14, 0, 14, 14, 13, 0, 0, 0, 0, 0, 14, 14, 14],\n",
       " 'second_22': [14, 1, 14, 14, 13, 0, 1, 2, 1, 2, 27, 0, 0, 0, 14, 14, 14],\n",
       " 'second_23': [13, 13, 14, 14, 14, 14, 14, 14],\n",
       " 'second_24': [0, 13, 14, 14, 13, 12, 12],\n",
       " 'second_27': [27, 13, 13, 14, 12, 11, 13, 14],\n",
       " 'second_31': [14, 0, 14, 14, 13, 0, 0, 0, 0, 0, 14, 14],\n",
       " 'second_9': [14,\n",
       "  0,\n",
       "  14,\n",
       "  13,\n",
       "  13,\n",
       "  12,\n",
       "  12,\n",
       "  13,\n",
       "  13,\n",
       "  14,\n",
       "  14,\n",
       "  27,\n",
       "  13,\n",
       "  13,\n",
       "  13,\n",
       "  14,\n",
       "  13,\n",
       "  14,\n",
       "  14],\n",
       " 'second_12': [0,\n",
       "  0,\n",
       "  0,\n",
       "  0,\n",
       "  0,\n",
       "  0,\n",
       "  0,\n",
       "  0,\n",
       "  0,\n",
       "  14,\n",
       "  0,\n",
       "  14,\n",
       "  58,\n",
       "  13,\n",
       "  14,\n",
       "  14,\n",
       "  13,\n",
       "  13,\n",
       "  14,\n",
       "  9],\n",
       " 'second_66': [3, 3, 15, 3, 3, 3],\n",
       " 'second_67': [0, 0, 0, 0, 0]}"
      ]
     },
     "execution_count": 12,
     "metadata": {},
     "output_type": "execute_result"
    }
   ],
   "source": [
    "d"
   ]
  },
  {
   "cell_type": "code",
   "execution_count": 13,
   "metadata": {},
   "outputs": [],
   "source": [
    "arrays_found_d = []\n",
    "for k,v in d.items():\n",
    "    if max(sorted(v)[::-1][:]) < 3:\n",
    "        arrays_found_d.append(k)"
   ]
  },
  {
   "cell_type": "code",
   "execution_count": 14,
   "metadata": {},
   "outputs": [],
   "source": [
    "arrays_found_v = []\n",
    "for k,v in a.items():\n",
    "    #print(k, sorted(v)[::-1])\n",
    "    if max(sorted(v)[::-1][1:]) < 300:\n",
    "        arrays_found_v.append(k)"
   ]
  },
  {
   "cell_type": "code",
   "execution_count": 15,
   "metadata": {},
   "outputs": [
    {
     "data": {
      "text/plain": [
       "['second_1', 'second_11', 'second_67']"
      ]
     },
     "execution_count": 15,
     "metadata": {},
     "output_type": "execute_result"
    }
   ],
   "source": [
    "arrays_found_d"
   ]
  },
  {
   "cell_type": "code",
   "execution_count": 16,
   "metadata": {},
   "outputs": [
    {
     "data": {
      "text/plain": [
       "{'second_1', 'second_11', 'second_67'}"
      ]
     },
     "execution_count": 16,
     "metadata": {},
     "output_type": "execute_result"
    }
   ],
   "source": [
    "set(arrays_found_v).intersection(set(arrays_found_d))"
   ]
  },
  {
   "cell_type": "code",
   "execution_count": 17,
   "metadata": {},
   "outputs": [
    {
     "data": {
      "text/plain": [
       "[<matplotlib.lines.Line2D at 0x7f78b8f5ad68>]"
      ]
     },
     "execution_count": 17,
     "metadata": {},
     "output_type": "execute_result"
    },
    {
     "data": {
      "image/png": "[encoded data removed]",
      "text/plain": [
       "<matplotlib.figure.Figure at 0x7f789885a128>"
      ]
     },
     "metadata": {},
     "output_type": "display_data"
    }
   ],
   "source": [
    "plt.plot((answ_gr > 0).sum(1)[:100])"
   ]
  },
  {
   "cell_type": "code",
   "execution_count": 18,
   "metadata": {
    "scrolled": false
   },
   "outputs": [
    {
     "data": {
      "image/png": "[encoded data removed]",
      "text/plain": [
       "<matplotlib.figure.Figure at 0x7f78b8a702e8>"
      ]
     },
     "metadata": {},
     "output_type": "display_data"
    }
   ],
   "source": [
    "cut1 = 0\n",
    "cut2 = 100\n",
    "ca.plot_grs(gr_slv[cut1:cut2, cut1:cut2],\n",
    "           (answ_gr[cut1:cut2, cut1:cut2] > 0).astype(int),\n",
    "#             grs_m[1][:cut, :cut],\n",
    "#             grs_m[2][:cut, :cut],\n",
    "            log = 1, \n",
    "            s = 20)\n",
    "plt.show()"
   ]
  },
  {
   "cell_type": "code",
   "execution_count": 19,
   "metadata": {},
   "outputs": [],
   "source": [
    "gb = pickle.load(open(\"../article/linear_svc_rep_to_rep\", 'rb'))\n",
    "\n",
    "#pred = gb.predict(embs[0]).reshape((grs[0].shape[0] - 1, grs[0].shape[1] - 1))"
   ]
  },
  {
   "cell_type": "code",
   "execution_count": 20,
   "metadata": {},
   "outputs": [],
   "source": [
    "pred = gb.predict(emb_slv).reshape((gr_slv.shape[0] - 1, gr_slv.shape[1] - 1))"
   ]
  },
  {
   "cell_type": "code",
   "execution_count": 21,
   "metadata": {},
   "outputs": [
    {
     "data": {
      "image/png": "[encoded data removed]",
      "text/plain": [
       "<matplotlib.figure.Figure at 0x7f78755d8780>"
      ]
     },
     "metadata": {},
     "output_type": "display_data"
    }
   ],
   "source": [
    "cut = 100\n",
    "ca.plot_grs(gr_slv[:cut, :cut],\n",
    "            pred[:cut, :cut],\n",
    "            log = 1, \n",
    "            s = 20, subplots_form = (1,2))\n",
    "plt.show()"
   ]
  },
  {
   "cell_type": "code",
   "execution_count": 22,
   "metadata": {},
   "outputs": [],
   "source": [
    "arrs_slv = [x for x in ca.restore_arrays_greedy(gr_slv, 2)[0] if len(x) > 2]"
   ]
  },
  {
   "cell_type": "code",
   "execution_count": null,
   "metadata": {},
   "outputs": [],
   "source": []
  },
  {
   "cell_type": "code",
   "execution_count": 23,
   "metadata": {},
   "outputs": [
    {
     "data": {
      "text/plain": [
       "[[161, 26, 29, 1, 0, 4, 5, 8, 7, 17, 9, 6, 10, 32, 43],\n",
       " [15, 11, 12, 2, 3, 151],\n",
       " [82, 14, 16, 27, 31],\n",
       " [23, 20, 21, 25, 28, 22, 19, 13, 18, 24, 30, 48],\n",
       " [97, 102, 123, 86, 70, 45, 33, 39, 53, 98],\n",
       " [64, 46, 95, 83, 113, 195],\n",
       " [165, 56, 62, 68, 59, 61, 47, 67, 147, 155, 160, 162],\n",
       " [128, 114, 144, 108, 74, 58, 40, 49, 96, 91, 111],\n",
       " [65, 55, 35, 50],\n",
       " [73, 42, 37],\n",
       " [124, 51, 60, 131],\n",
       " [41, 34, 77, 93],\n",
       " [212, 103, 75, 119, 52, 185],\n",
       " [189, 84, 76, 105, 38, 115, 87, 54, 80, 78, 136, 188],\n",
       " [112, 36, 81],\n",
       " [142, 79, 72, 143],\n",
       " [117, 63, 66, 89, 94, 182, 109, 126, 125, 100, 92, 145],\n",
       " [101, 44, 104],\n",
       " [116, 99, 225],\n",
       " [239, 118, 121, 238],\n",
       " [169, 88, 90, 150],\n",
       " [127, 85, 107, 158, 120, 146],\n",
       " [152, 106, 133],\n",
       " [207, 110, 176],\n",
       " [168, 122, 148, 181],\n",
       " [205, 157, 170],\n",
       " [200, 130, 174],\n",
       " [180, 134, 173],\n",
       " [251, 184, 149],\n",
       " [138, 129, 159]]"
      ]
     },
     "execution_count": 23,
     "metadata": {},
     "output_type": "execute_result"
    }
   ],
   "source": [
    "arrs_slv"
   ]
  },
  {
   "cell_type": "code",
   "execution_count": 25,
   "metadata": {},
   "outputs": [
    {
     "name": "stdout",
     "output_type": "stream",
     "text": [
      "first_1 [0, 10, 13, 13, 14, 14, 14]\n",
      " 189, 174, 180, 131, 158, 153, 114,\n",
      "first_11 [0, 10, 13, 13, 14, 14, 14]\n",
      " 189, 174, 180, 131, 158, 153, 114,\n",
      "first_2 [2, 2, 2, 13, 14]\n",
      " 26 , 109, 197, 177, 210,\n",
      "first_24 [2, 2, 2, 13, 14]\n",
      " 26 , 109, 197, 177, 210,\n",
      "first_61 [2, 2, 2, 13, 14]\n",
      " 26 , 109, 197, 177, 210,\n",
      "first_62 [2, 2, 2, 13, 14]\n",
      " 26 , 109, 197, 177, 210,\n",
      "first_68 [2, 2, 2, 13, 14]\n",
      " 26 , 109, 197, 177, 210,\n",
      "first_3 [1, 12, 14, 14, 14, 14, 14]\n",
      " 177, 167, 131, 127, 223, 11 , 44 ,\n",
      "first_5 [0, 0, 0, 0, 0, 0, 0, 0, 0, 0, 13]\n",
      " -  , -  , 29 , 1  , 0  , 4  , 140, 20 , 5  , 8  , 7  , 17 , 9  ,\n",
      " 161, 26 , 29 , 1  , 0  , 4  , 5  , 8  , 7  , 17 , 9  , 6  , 10 , 32 , 43 ,\n",
      "first_50 [0, 0, 0, 0, 0, 0, 0, 0, 0, 0, 13]\n",
      " -  , -  , 29 , 1  , 0  , 4  , 140, 20 , 5  , 8  , 7  , 17 , 9  ,\n",
      " 161, 26 , 29 , 1  , 0  , 4  , 5  , 8  , 7  , 17 , 9  , 6  , 10 , 32 , 43 ,\n",
      "first_7 [12, 13, 13, 13, 13, 13, 14, 14, 14]\n",
      " 3  , 47 , 74 , 239, 236, 163, 237, 167, 172,\n",
      "first_8 [0, 0, 0, 0, 0, 0, 0, 0, 0, 0, 0, 13]\n",
      " -  , -  , 29 , 1  , 0  , 20 , 5  , 8  , 7  , 17 , 9  , 6  , 10 , 32 ,\n",
      " 161, 26 , 29 , 1  , 0  , 4  , 5  , 8  , 7  , 17 , 9  , 6  , 10 , 32 , 43 ,\n",
      "first_14 [0, 0, 0, 0, 0, 0, 12, 13, 13, 14, 14, 15]\n",
      " 82 , 14 , 16 , 3  , 10 , 235, 86 , 217, 199, 217, 194, 0  ,\n",
      " 82 , 14 , 16 , 27 , 31 , -  , -  , -  , -  , -  , -  , -  ,\n",
      "first_15 [0, 10, 13, 13, 13, 13, 13, 13, 14, 14, 14, 14, 14, 14, 14, 14, 14, 14, 15]\n",
      " 189, 174, 180, 172, 131, 158, 234, 193, 93 , 28 , 153, 114, 9  , 240, 167, 234, 155, 89 , 153,\n",
      "first_19 [0, 0, 0, 0, 0, 13, 13, 14]\n",
      " 82 , 14 , 16 , 3  , 10 , 235, 199, 22 ,\n",
      " 82 , 14 , 16 , 27 , 31 , -  , -  , -  ,\n",
      "first_20 [0, 0, 0, 0, 0, 13, 13, 14]\n",
      " 82 , 14 , 16 , 3  , 10 , 235, 199, 22 ,\n",
      " 82 , 14 , 16 , 27 , 31 , -  , -  , -  ,\n",
      "first_22 [0, 0, 0, 0, 0, 13, 13, 14]\n",
      " 82 , 14 , 16 , 3  , 10 , 235, 199, 22 ,\n",
      " 82 , 14 , 16 , 27 , 31 , -  , -  , -  ,\n",
      "first_31 [0, 0, 0, 0, 0, 13, 13, 14]\n",
      " 82 , 14 , 16 , 3  , 10 , 235, 199, 22 ,\n",
      " 82 , 14 , 16 , 27 , 31 , -  , -  , -  ,\n",
      "first_21 [0, 0, 0, 0, 0, 0, 0, 0, 12, 13, 14]\n",
      " 26 , 57 , 196, 135, 206, 138, 129, 159, 162, 113, 37 ,\n",
      " -  , -  , -  , -  , -  , 138, 129, 159, -  , -  , -  ,\n",
      "first_23 [0, 0, 0, 0, 0, 0, 0, 0, 12, 13, 14]\n",
      " 26 , 57 , 196, 135, 206, 138, 129, 159, 162, 113, 37 ,\n",
      " -  , -  , -  , -  , -  , 138, 129, 159, -  , -  , -  ,\n",
      "first_27 [0, 10, 13, 13, 13, 13, 13, 13, 14, 14, 14, 14, 14, 15]\n",
      " 189, 174, 180, 158, 234, 9  , 240, 167, 234, 155, 89 , 153, 70 , 191,\n",
      "first_65 [0, 0, 0, 0, 0, 0, 0, 0, 12, 14]\n",
      " 26 , 57 , 196, 135, 206, 138, 129, 159, 162, 113,\n",
      " -  , -  , -  , -  , -  , 138, 129, 159, -  , -  ,\n",
      "first_70 [0, 0, 0, 0, 0, 0, 0, 0, 12, 14]\n",
      " 26 , 57 , 196, 135, 206, 138, 129, 159, 162, 113,\n",
      " -  , -  , -  , -  , -  , 138, 129, 159, -  , -  ,\n",
      "first_9 [0, 0, 0, 0, 14]\n",
      " -  , -  , -  , -  , -  , 115, 87 , 54 , 80 , 26 ,\n",
      " 189, 84 , 76 , 105, 38 , 115, 87 , 54 , 80 , 78 , 136, 188,\n",
      "first_12 [0, 0, 12, 13]\n",
      " 197, 177, 108, 22 ,\n",
      "first_66 [0, 0, 0, 0, 0, 0, 0, 0, 0, 0, 0, 13]\n",
      " -  , -  , 29 , 1  , 0  , 20 , 5  , 8  , 7  , 17 , 9  , 6  , 10 , 32 ,\n",
      " 161, 26 , 29 , 1  , 0  , 4  , 5  , 8  , 7  , 17 , 9  , 6  , 10 , 32 , 43 ,\n",
      "first_67 [0, 10, 13, 13, 14, 14, 14]\n",
      " 189, 174, 180, 131, 158, 153, 114,\n",
      "second_1 [0, 0, 0, 0, 0]\n",
      " 153, 127, 110, 176, 85 ,\n",
      " -  , 207, 110, 176, -  ,\n",
      "second_2 [0, 0, 12, 12, 13, 13, 13, 14, 14]\n",
      " 153, 6  , 209, 67 , 161, 27 , 233, 174, 175,\n",
      "second_61 [0, 0, 12, 12, 13, 13, 13, 14, 14]\n",
      " 153, 6  , 209, 67 , 161, 27 , 233, 174, 175,\n",
      "second_62 [0, 0, 12, 12, 13, 13, 13, 14, 14]\n",
      " 153, 6  , 209, 67 , 161, 27 , 233, 174, 175,\n",
      "second_68 [0, 0, 12, 12, 13, 13, 13, 14, 14]\n",
      " 153, 6  , 209, 67 , 161, 27 , 233, 174, 175,\n",
      "second_5 [1, 1, 1, 1, 2, 14]\n",
      " 15 , 11 , 47 , 12 , 2  , 3  ,\n",
      " 15 , 11 , 12 , 2  , 3  , 151,\n",
      "second_50 [1, 1, 1, 1, 2, 14]\n",
      " 15 , 11 , 47 , 12 , 2  , 3  ,\n",
      " 15 , 11 , 12 , 2  , 3  , 151,\n",
      "second_21 [1, 1, 1, 13, 13, 13, 14, 14, 14, 14]\n",
      " 240, 15 , 203, 99 , 104, 103, 202, 88 , 146, 42 ,\n",
      "second_65 [1, 1, 1, 13, 13, 13, 14, 14, 14, 14]\n",
      " 240, 15 , 203, 99 , 104, 103, 202, 88 , 146, 42 ,\n",
      "second_70 [1, 1, 1, 13, 13, 13, 14, 14, 14, 14]\n",
      " 240, 15 , 203, 99 , 104, 103, 202, 88 , 146, 42 ,\n",
      "second_3 [12, 12, 13, 13, 14, 14, 14, 15]\n",
      " 133, 188, 215, 47 , 113, 8  , 9  , 125,\n",
      "second_7 [0, 12, 13, 13, 14, 14, 14]\n",
      " 240, 203, 74 , 250, 173, 113, 2  ,\n",
      "second_8 [14, 14, 14, 14, 15, 16]\n",
      " 130, 225, 4  , 26 , 41 , 232,\n",
      "second_11 [0, 0, 0, 0, 0]\n",
      " 153, 127, 110, 176, 85 ,\n",
      " -  , 207, 110, 176, -  ,\n",
      "second_14 [0, 0, 0, 0, 11, 12, 12, 13, 13, 14, 14, 14, 14]\n",
      " -  , -  , -  , 153, 120, 146, 163, 86 , 18 , 222, 205, 192, 200, 239, 230, 221,\n",
      " 127, 85 , 107, 158, 120, 146, -  , -  , -  , -  , -  , -  , -  , -  , -  , -  ,\n",
      "second_15 [0, 0, 0, 0, 14, 14]\n",
      " 153, 196, 127, 110, 176, 196,\n",
      " -  , -  , 207, 110, 176, -  ,\n",
      "second_19 [0, 0, 0, 0, 0, 0, 13, 14, 14, 14, 14]\n",
      " 240, 203, 74 , 17 , 215, 169, 88 , 90 , 150, 193, 59 ,\n",
      " -  , -  , -  , -  , -  , 169, 88 , 90 , 150, -  , -  ,\n",
      "second_20 [0, 0, 0, 0, 0, 0, 13, 14, 14, 14, 14, 14, 14]\n",
      " 240, 203, 74 , 17 , 215, 169, 88 , 90 , 150, 193, 59 , 1  , 153,\n",
      " -  , -  , -  , -  , -  , 169, 88 , 90 , 150, -  , -  , -  , -  ,\n",
      "second_22 [0, 0, 0, 0, 1, 1, 1, 2, 2, 13, 14, 14, 14, 14, 14, 14, 27]\n",
      " 240, 203, 74 , 31 , 215, 169, 88 , 90 , 150, 193, 232, 90 , 150, 193, 59 , 1  , 153,\n",
      " -  , -  , -  , -  , -  , 169, 88 , 90 , 150, -  , -  , -  , -  , -  , -  , -  , -  ,\n",
      "second_23 [13, 13, 14, 14, 14, 14, 14, 14]\n",
      " 1  , 190, 1  , 199, 135, 82 , 110, 168,\n",
      "second_24 [0, 12, 12, 13, 13, 14, 14]\n",
      " 209, 67 , 161, 27 , 233, 174, 175,\n",
      "second_27 [11, 12, 13, 13, 13, 14, 14, 27]\n",
      " 232, 205, 192, 200, 239, 230, 221, 58 ,\n",
      "second_31 [0, 0, 0, 0, 0, 0, 13, 14, 14, 14, 14, 14]\n",
      " 240, 203, 74 , 17 , 215, 169, 88 , 90 , 150, 193, 59 , 1  ,\n",
      " -  , -  , -  , -  , -  , 169, 88 , 90 , 150, -  , -  , -  ,\n",
      "second_9 [0, 12, 12, 13, 13, 13, 13, 13, 13, 13, 13, 14, 14, 14, 14, 14, 14, 14, 27]\n",
      " 240, 203, 74 , 250, 173, 113, 87 , 44 , 150, 2  , 133, 232, 137, 0  , 0  , 9  , 6  , 110, 137,\n",
      " -  , -  , -  , -  , -  , 161, 26 , 29 , 1  , 0  , 4  , 5  , 8  , 7  , 17 , 9  , 6  , 10 , 32 , 43 ,\n",
      "second_12 [0, 0, 0, 0, 0, 0, 0, 0, 0, 0, 9, 13, 13, 13, 14, 14, 14, 14, 14, 58]\n",
      " 153, 127, 110, 176, 85 , 107, 158, 120, 146, 153, 163, 86 , 1  , 205, 93 , 238, 6  , 67 , 180, 25 ,\n",
      " -  , -  , -  , 127, 85 , 107, 158, 120, 146, -  , -  , -  , -  , -  , -  , -  , -  , -  , -  , -  ,\n",
      " -  , 207, 110, 176, -  , -  , -  , -  , -  , -  , -  , -  , -  , -  , -  , -  , -  , -  , -  , -  ,\n",
      "second_66 [3, 3, 3, 3, 3, 15]\n",
      " 15 , 11 , 104, 12 , 2  , 3  ,\n",
      " 15 , 11 , 12 , 2  , 3  , 151,\n",
      "second_67 [0, 0, 0, 0, 0]\n",
      " 153, 127, 110, 176, 85 ,\n",
      " -  , 207, 110, 176, -  ,\n"
     ]
    }
   ],
   "source": [
    "for k,v in a.items():\n",
    "    #if max(d[k]) < 5:\n",
    "    print(k, sorted(d[k]))\n",
    "    for i in ca.print_alignments(ca.water_alignments(v, arrs_slv), v):\n",
    "        print(i)"
   ]
  },
  {
   "cell_type": "code",
   "execution_count": 56,
   "metadata": {},
   "outputs": [
    {
     "data": {
      "text/plain": [
       "[' 95 , 36 , 198, 104, 16 ,']"
      ]
     },
     "execution_count": 56,
     "metadata": {},
     "output_type": "execute_result"
    }
   ],
   "source": [
    "ca.print_alignments(ca.water_alignments(v, arrs_slv), v)"
   ]
  },
  {
   "cell_type": "code",
   "execution_count": 54,
   "metadata": {},
   "outputs": [
    {
     "data": {
      "text/plain": [
       "[95, 36, 198, 104, 16]"
      ]
     },
     "execution_count": 54,
     "metadata": {},
     "output_type": "execute_result"
    }
   ],
   "source": [
    "v"
   ]
  },
  {
   "cell_type": "code",
   "execution_count": null,
   "metadata": {},
   "outputs": [],
   "source": []
  }
 ],
 "metadata": {
  "kernelspec": {
   "display_name": "Python 3",
   "language": "python",
   "name": "python3"
  },
  "language_info": {
   "codemirror_mode": {
    "name": "ipython",
    "version": 3
   },
   "file_extension": ".py",
   "mimetype": "text/x-python",
   "name": "python",
   "nbconvert_exporter": "python",
   "pygments_lexer": "ipython3",
   "version": "3.6.3"
  }
 },
 "nbformat": 4,
 "nbformat_minor": 2
}
