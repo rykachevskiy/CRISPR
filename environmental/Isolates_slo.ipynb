{
 "cells": [
  {
   "cell_type": "code",
   "execution_count": 1,
   "metadata": {
    "scrolled": false
   },
   "outputs": [],
   "source": [
    "import crispr_assembler as ca\n",
    "import pandas as pd\n",
    "import numpy as np\n",
    "import matplotlib.pyplot as plt\n",
    "import os\n",
    "import tqdm\n",
    "\n",
    "%load_ext autoreload\n",
    "%autoreload 2\n",
    "\n",
    "import pickle"
   ]
  },
  {
   "cell_type": "code",
   "execution_count": null,
   "metadata": {},
   "outputs": [],
   "source": []
  },
  {
   "cell_type": "code",
   "execution_count": 2,
   "metadata": {},
   "outputs": [],
   "source": [
    "def process_path(path, cut = -1, save = 1):\n",
    "    pairs_path = path + \"/out/pairs/\"\n",
    "    files = sorted(os.listdir(pairs_path))\n",
    "    \n",
    "    print(pairs_path + files[0])\n",
    "    \n",
    "    read = ca.Read(pairs_path + files[0])\n",
    "    read.correct_errors(minimum_occurences=5)\n",
    "    gr = read.graph_from_pairs()[0]\n",
    "    \n",
    "    print('calc embs')\n",
    "    ec = ca.EmbeddingsCalculator()\n",
    "    ec.make_argsorts(gr[:cut, :cut])\n",
    "    embs = ec.fit_predict(gr[:cut, :cut], njobs=32)\n",
    "    \n",
    "    if save:\n",
    "        pickle.dump(read, open(path + \"/read\", 'wb'))\n",
    "        np.save(path + \"/graph\", gr)\n",
    "        np.save(path + \"/embs\", embs)\n",
    "        \n",
    "    return read, gr, embs"
   ]
  },
  {
   "cell_type": "code",
   "execution_count": 3,
   "metadata": {},
   "outputs": [],
   "source": [
    "def load(path):\n",
    "    return pickle.load(open(path + \"/read\", 'rb')), np.load(path + \"/graph.npy\"), np.load(path + \"/embs.npy\")"
   ]
  },
  {
   "cell_type": "code",
   "execution_count": null,
   "metadata": {},
   "outputs": [],
   "source": []
  },
  {
   "cell_type": "code",
   "execution_count": 4,
   "metadata": {},
   "outputs": [],
   "source": [
    "def unwrap_idx_to_spacer(idx_to_spacer):\n",
    "    values_as_list = []\n",
    "    for i in range(len(idx_to_spacer)):\n",
    "        values_as_list.append(idx_to_spacer[i])\n",
    "    return values_as_list"
   ]
  },
  {
   "cell_type": "code",
   "execution_count": 5,
   "metadata": {},
   "outputs": [],
   "source": [
    "def continue_steps(reads, pointers):\n",
    "    return any([pointers[i] < len(reads[i]) for i in range(len(reads))])"
   ]
  },
  {
   "cell_type": "code",
   "execution_count": 6,
   "metadata": {},
   "outputs": [],
   "source": [
    "def merge_reads(reads, t=1, v = 1):\n",
    "    spacers_lists = [unwrap_idx_to_spacer(x) for x in reads]#[unwrap_idx_to_spacer(x.index_to_cluster) for x in reads]\n",
    "    pointers = [0 for i in range(len(reads))]\n",
    "    merged_sp_to_idxes = {}\n",
    "    old_idx_to_new_idx = [{} for i in range(len(reads))]\n",
    "    \n",
    "    curr = 0\n",
    "    while continue_steps(spacers_lists, pointers):\n",
    "        for i in range(len(reads)):\n",
    "            if pointers[i] < len(reads[i]):\n",
    "                spacer = spacers_lists[i][pointers[i]]\n",
    "                \n",
    "                dist, closest = ca.find_closest(merged_sp_to_idxes, spacer)\n",
    "                if dist > t:\n",
    "                    merged_sp_to_idxes[spacer] = curr\n",
    "                    #new_sp_to_ids[i][spacer] = curr\n",
    "                    old_idx_to_new_idx[i][pointers[i]] = curr\n",
    "                    curr += 1\n",
    "                else:\n",
    "                    old_idx_to_new_idx[i][pointers[i]] = merged_sp_to_idxes[closest]\n",
    "                \n",
    "                pointers[i] += 1\n",
    "                \n",
    "                if curr % 100 == 0:\n",
    "                    print(curr)\n",
    "                \n",
    "\n",
    "                if v:\n",
    "                    print(i, pointers[i], spacer, dist, merged_sp_to_idxes)#, new_sp_to_ids[1])\n",
    "                    \n",
    "    return merged_sp_to_idxes,  old_idx_to_new_idx"
   ]
  },
  {
   "cell_type": "code",
   "execution_count": null,
   "metadata": {},
   "outputs": [],
   "source": []
  },
  {
   "cell_type": "code",
   "execution_count": 7,
   "metadata": {},
   "outputs": [],
   "source": [
    "def rearange(gr, order):\n",
    "    new_gr = np.zeros((max(order.values()) + 1, max(order.values()) + 1))\n",
    "\n",
    "    for i in tqdm.tqdm(range(len(order.keys()))):\n",
    "        for j in range(len(order.keys())):\n",
    "            new_gr[order[i], order[j]] = gr[i, j]\n",
    "\n",
    "    return new_gr"
   ]
  },
  {
   "cell_type": "code",
   "execution_count": null,
   "metadata": {},
   "outputs": [],
   "source": []
  },
  {
   "cell_type": "code",
   "execution_count": null,
   "metadata": {},
   "outputs": [],
   "source": []
  },
  {
   "cell_type": "code",
   "execution_count": 8,
   "metadata": {},
   "outputs": [
    {
     "name": "stdout",
     "output_type": "stream",
     "text": [
      "../../data/environmental/slo2//out/pairs/SlO2_ACTGAT_L001_R1_001.fastq.gz_pairs.txt\n"
     ]
    },
    {
     "name": "stderr",
     "output_type": "stream",
     "text": [
      "100%|██████████| 1065/1065 [00:01<00:00, 977.95it/s] \n"
     ]
    },
    {
     "name": "stdout",
     "output_type": "stream",
     "text": [
      "calc embs\n"
     ]
    }
   ],
   "source": [
    "read_slv, gr_slv, emb_slv = process_path(\"../../data/environmental/slo2/\")"
   ]
  },
  {
   "cell_type": "code",
   "execution_count": null,
   "metadata": {},
   "outputs": [],
   "source": []
  },
  {
   "cell_type": "code",
   "execution_count": 9,
   "metadata": {},
   "outputs": [],
   "source": [
    "#answer_sensivity = ca.read_arrays_with_tags(\"../../article/data/answers/sensivity\", 0)\n",
    "answer = ca.read_arrays_with_tags(\"../../article/data/answers/all\", 0)"
   ]
  },
  {
   "cell_type": "code",
   "execution_count": 10,
   "metadata": {},
   "outputs": [
    {
     "name": "stderr",
     "output_type": "stream",
     "text": [
      "100%|██████████| 54/54 [00:01<00:00, 38.99it/s]\n"
     ]
    }
   ],
   "source": [
    "a, d = ca.multiple_arrays_to_ids(answer, read_slv.spacer_to_cluster_index)\n",
    "\n",
    "#a_all, d_all = ca.multiple_arrays_to_ids(answer_all, res.spacer_to_cluster_index)\n",
    "\n",
    "answ_gr = ca.graph_from_arrays([x for x in a.values()], gr_slv.shape[0])[0]"
   ]
  },
  {
   "cell_type": "code",
   "execution_count": null,
   "metadata": {},
   "outputs": [],
   "source": []
  },
  {
   "cell_type": "code",
   "execution_count": 22,
   "metadata": {},
   "outputs": [
    {
     "data": {
      "text/plain": [
       "{'first_1': [134, 425, 187, 589, 42, 384, 0],\n",
       " 'first_11': [134, 425, 187, 589, 42, 384, 0],\n",
       " 'first_2': [32, 586, 80, 250, 320],\n",
       " 'first_24': [32, 586, 80, 250, 320],\n",
       " 'first_61': [32, 586, 80, 250, 320],\n",
       " 'first_62': [32, 586, 80, 250, 320],\n",
       " 'first_68': [32, 586, 80, 250, 320],\n",
       " 'first_3': [250, 320, 556, 181, 312, 4, 422],\n",
       " 'first_5': [68, 6, 5, 10, 334, 338, 12, 9, 15, 8, 13],\n",
       " 'first_50': [68, 6, 5, 10, 334, 338, 12, 9, 15, 8, 13],\n",
       " 'first_7': [0, 373, 206, 545, 193, 581, 431, 355, 132],\n",
       " 'first_8': [68, 6, 5, 338, 12, 9, 15, 8, 13, 11, 14, 38],\n",
       " 'first_14': [85, 22, 72, 219, 225, 139, 326, 118, 51, 485, 274, 579],\n",
       " 'first_15': [134,\n",
       "  425,\n",
       "  187,\n",
       "  430,\n",
       "  589,\n",
       "  42,\n",
       "  475,\n",
       "  465,\n",
       "  84,\n",
       "  259,\n",
       "  384,\n",
       "  0,\n",
       "  398,\n",
       "  360,\n",
       "  563,\n",
       "  126,\n",
       "  386,\n",
       "  433,\n",
       "  27],\n",
       " 'first_19': [85, 22, 72, 219, 225, 139, 51, 177],\n",
       " 'first_20': [85, 22, 72, 219, 225, 139, 51, 177],\n",
       " 'first_22': [85, 22, 72, 219, 225, 139, 51, 177],\n",
       " 'first_31': [85, 22, 72, 219, 225, 139, 51, 177],\n",
       " 'first_21': [32, 308, 599, 383, 521, 555, 0, 527, 517, 117, 221],\n",
       " 'first_23': [32, 308, 599, 383, 521, 555, 0, 527, 517, 117, 221],\n",
       " 'first_27': [134,\n",
       "  425,\n",
       "  187,\n",
       "  42,\n",
       "  475,\n",
       "  398,\n",
       "  360,\n",
       "  563,\n",
       "  126,\n",
       "  386,\n",
       "  433,\n",
       "  27,\n",
       "  361,\n",
       "  445],\n",
       " 'first_65': [32, 308, 599, 383, 521, 555, 0, 527, 517, 117],\n",
       " 'first_70': [32, 308, 599, 383, 521, 555, 0, 527, 517, 117],\n",
       " 'first_9': [111, 147, 286, 130, 515],\n",
       " 'first_12': [80, 250, 183, 33],\n",
       " 'first_66': [68, 6, 5, 338, 12, 9, 15, 8, 13, 11, 14, 38],\n",
       " 'first_67': [134, 425, 187, 589, 42, 384, 0],\n",
       " 'second_1': [27, 70, 69, 404, 81],\n",
       " 'second_2': [27, 388, 271, 479, 116, 385, 229, 437, 35],\n",
       " 'second_61': [27, 388, 271, 479, 116, 385, 229, 437, 35],\n",
       " 'second_62': [27, 388, 271, 479, 116, 385, 229, 437, 35],\n",
       " 'second_68': [27, 388, 271, 479, 116, 385, 229, 437, 35],\n",
       " 'second_5': [3, 4, 39, 1, 2, 0],\n",
       " 'second_50': [3, 4, 39, 1, 2, 0],\n",
       " 'second_21': [432, 3, 354, 474, 252, 507, 13, 419, 202, 333],\n",
       " 'second_65': [432, 3, 354, 474, 252, 507, 13, 419, 202, 333],\n",
       " 'second_70': [432, 3, 354, 474, 252, 507, 13, 419, 202, 333],\n",
       " 'second_3': [580, 468, 478, 450, 433, 401, 13, 448],\n",
       " 'second_7': [572, 354, 474, 463, 490, 117, 498],\n",
       " 'second_8': [455, 133, 180, 32, 296, 144],\n",
       " 'second_11': [27, 70, 69, 404, 81],\n",
       " 'second_14': [27, 43, 152, 122, 61, 102, 137, 23, 212, 97, 545, 331, 301],\n",
       " 'second_15': [27, 20, 70, 69, 404, 556],\n",
       " 'second_19': [572, 354, 474, 252, 193, 84, 62, 54, 91, 336, 533],\n",
       " 'second_20': [572, 354, 474, 252, 193, 84, 62, 54, 91, 336, 533, 168, 325],\n",
       " 'second_22': [572,\n",
       "  354,\n",
       "  474,\n",
       "  252,\n",
       "  193,\n",
       "  84,\n",
       "  62,\n",
       "  54,\n",
       "  91,\n",
       "  336,\n",
       "  300,\n",
       "  54,\n",
       "  91,\n",
       "  336,\n",
       "  533,\n",
       "  168,\n",
       "  325],\n",
       " 'second_23': [6, 214, 177, 409, 414, 85, 30, 148],\n",
       " 'second_24': [271, 479, 116, 385, 229, 437, 35],\n",
       " 'second_27': [300, 23, 212, 97, 545, 331, 301, 397],\n",
       " 'second_31': [572, 354, 474, 252, 193, 84, 62, 54, 91, 336, 533, 168],\n",
       " 'second_9': [572,\n",
       "  354,\n",
       "  474,\n",
       "  463,\n",
       "  490,\n",
       "  117,\n",
       "  147,\n",
       "  520,\n",
       "  416,\n",
       "  498,\n",
       "  574,\n",
       "  300,\n",
       "  81,\n",
       "  235,\n",
       "  235,\n",
       "  497,\n",
       "  544,\n",
       "  222,\n",
       "  464],\n",
       " 'second_12': [27,\n",
       "  70,\n",
       "  69,\n",
       "  404,\n",
       "  81,\n",
       "  57,\n",
       "  42,\n",
       "  43,\n",
       "  152,\n",
       "  267,\n",
       "  122,\n",
       "  61,\n",
       "  190,\n",
       "  23,\n",
       "  427,\n",
       "  278,\n",
       "  388,\n",
       "  479,\n",
       "  553,\n",
       "  16],\n",
       " 'second_66': [3, 4, 163, 1, 2, 0],\n",
       " 'second_67': [27, 70, 69, 404, 81]}"
      ]
     },
     "execution_count": 22,
     "metadata": {},
     "output_type": "execute_result"
    }
   ],
   "source": [
    "a"
   ]
  },
  {
   "cell_type": "code",
   "execution_count": 11,
   "metadata": {},
   "outputs": [
    {
     "data": {
      "text/plain": [
       "{'first_1': [0, 0, 0, 13, 13, 0, 13],\n",
       " 'first_11': [0, 0, 0, 13, 13, 0, 13],\n",
       " 'first_2': [2, 2, 2, 2, 2],\n",
       " 'first_24': [2, 2, 2, 2, 2],\n",
       " 'first_61': [2, 2, 2, 2, 2],\n",
       " 'first_62': [2, 2, 2, 2, 2],\n",
       " 'first_68': [2, 2, 2, 2, 2],\n",
       " 'first_3': [1, 1, 1, 12, 12, 13, 13],\n",
       " 'first_5': [0, 0, 0, 0, 0, 0, 0, 0, 0, 0, 0],\n",
       " 'first_50': [0, 0, 0, 0, 0, 0, 0, 0, 0, 0, 0],\n",
       " 'first_7': [12, 1, 12, 2, 12, 13, 13, 13, 13],\n",
       " 'first_8': [0, 0, 0, 0, 0, 0, 0, 0, 0, 0, 0, 0],\n",
       " 'first_14': [0, 0, 0, 0, 0, 0, 13, 0, 0, 0, 0, 0],\n",
       " 'first_15': [0, 0, 0, 0, 13, 13, 0, 12, 14, 0, 0, 13, 0, 0, 0, 0, 0, 0, 14],\n",
       " 'first_19': [0, 0, 0, 0, 0, 0, 0, 0],\n",
       " 'first_20': [0, 0, 0, 0, 0, 0, 0, 0],\n",
       " 'first_22': [0, 0, 0, 0, 0, 0, 0, 0],\n",
       " 'first_31': [0, 0, 0, 0, 0, 0, 0, 0],\n",
       " 'first_21': [0, 0, 12, 13, 13, 0, 14, 0, 0, 12, 13],\n",
       " 'first_23': [0, 0, 12, 13, 13, 0, 14, 0, 0, 12, 13],\n",
       " 'first_27': [0, 0, 0, 13, 0, 0, 0, 0, 0, 0, 0, 14, 13, 14],\n",
       " 'first_65': [0, 0, 12, 13, 13, 0, 14, 0, 0, 12],\n",
       " 'first_70': [0, 0, 12, 13, 13, 0, 14, 0, 0, 12],\n",
       " 'first_9': [0, 0, 0, 0, 0],\n",
       " 'first_12': [0, 0, 12, 13],\n",
       " 'first_66': [0, 0, 0, 0, 0, 0, 0, 0, 0, 0, 0, 0],\n",
       " 'first_67': [0, 0, 0, 13, 13, 0, 13],\n",
       " 'second_1': [0, 0, 0, 0, 0],\n",
       " 'second_2': [0, 0, 0, 0, 13, 0, 0, 0, 12],\n",
       " 'second_61': [0, 0, 0, 0, 13, 0, 0, 0, 12],\n",
       " 'second_62': [0, 0, 0, 0, 13, 0, 0, 0, 12],\n",
       " 'second_68': [0, 0, 0, 0, 13, 0, 0, 0, 12],\n",
       " 'second_5': [1, 1, 14, 1, 2, 1],\n",
       " 'second_50': [1, 1, 14, 1, 2, 1],\n",
       " 'second_21': [13, 1, 1, 1, 1, 1, 13, 1, 13, 14],\n",
       " 'second_65': [13, 1, 1, 1, 1, 1, 13, 1, 13, 14],\n",
       " 'second_70': [13, 1, 1, 1, 1, 1, 13, 1, 13, 14],\n",
       " 'second_3': [0, 0, 12, 9, 13, 0, 14, 14],\n",
       " 'second_7': [14, 0, 0, 0, 13, 12, 0],\n",
       " 'second_8': [14, 14, 14, 13, 15, 14],\n",
       " 'second_11': [0, 0, 0, 0, 0],\n",
       " 'second_14': [0, 0, 0, 0, 0, 0, 0, 0, 13, 0, 0, 0, 1],\n",
       " 'second_15': [0, 13, 0, 0, 0, 13],\n",
       " 'second_19': [14, 0, 0, 0, 0, 0, 0, 0, 0, 0, 13],\n",
       " 'second_20': [14, 0, 0, 0, 0, 0, 0, 0, 0, 0, 13, 0, 0],\n",
       " 'second_22': [14, 1, 2, 2, 2, 0, 1, 2, 1, 2, 25, 0, 0, 0, 13, 0, 0],\n",
       " 'second_23': [13, 13, 11, 12, 13, 13, 13, 14],\n",
       " 'second_24': [0, 0, 13, 0, 0, 0, 12],\n",
       " 'second_27': [25, 0, 13, 0, 0, 0, 0, 0],\n",
       " 'second_31': [14, 0, 0, 0, 0, 0, 0, 0, 0, 0, 13, 0],\n",
       " 'second_9': [14,\n",
       "  0,\n",
       "  0,\n",
       "  0,\n",
       "  13,\n",
       "  12,\n",
       "  12,\n",
       "  0,\n",
       "  0,\n",
       "  0,\n",
       "  13,\n",
       "  25,\n",
       "  13,\n",
       "  0,\n",
       "  0,\n",
       "  10,\n",
       "  0,\n",
       "  12,\n",
       "  12],\n",
       " 'second_12': [0, 0, 0, 0, 0, 0, 0, 0, 0, 0, 0, 0, 53, 0, 13, 14, 0, 0, 13, 9],\n",
       " 'second_66': [3, 3, 14, 3, 3, 3],\n",
       " 'second_67': [0, 0, 0, 0, 0]}"
      ]
     },
     "execution_count": 11,
     "metadata": {},
     "output_type": "execute_result"
    }
   ],
   "source": [
    "d"
   ]
  },
  {
   "cell_type": "code",
   "execution_count": 12,
   "metadata": {},
   "outputs": [],
   "source": [
    "arrays_found_d = []\n",
    "for k,v in d.items():\n",
    "    if max(sorted(v)[::-1][:]) < 3:\n",
    "        arrays_found_d.append(k)"
   ]
  },
  {
   "cell_type": "code",
   "execution_count": 13,
   "metadata": {},
   "outputs": [],
   "source": [
    "arrays_found_v = []\n",
    "for k,v in a.items():\n",
    "    #print(k, sorted(v)[::-1])\n",
    "    if max(sorted(v)[::-1][1:]) < 300:\n",
    "        arrays_found_v.append(k)"
   ]
  },
  {
   "cell_type": "code",
   "execution_count": 14,
   "metadata": {},
   "outputs": [
    {
     "data": {
      "text/plain": [
       "['first_2',\n",
       " 'first_24',\n",
       " 'first_61',\n",
       " 'first_62',\n",
       " 'first_68',\n",
       " 'first_5',\n",
       " 'first_50',\n",
       " 'first_8',\n",
       " 'first_19',\n",
       " 'first_20',\n",
       " 'first_22',\n",
       " 'first_31',\n",
       " 'first_9',\n",
       " 'first_66',\n",
       " 'second_1',\n",
       " 'second_11',\n",
       " 'second_67']"
      ]
     },
     "execution_count": 14,
     "metadata": {},
     "output_type": "execute_result"
    }
   ],
   "source": [
    "arrays_found_d"
   ]
  },
  {
   "cell_type": "code",
   "execution_count": 15,
   "metadata": {},
   "outputs": [
    {
     "data": {
      "text/plain": [
       "{'first_19',\n",
       " 'first_20',\n",
       " 'first_22',\n",
       " 'first_31',\n",
       " 'first_66',\n",
       " 'first_8',\n",
       " 'first_9',\n",
       " 'second_1',\n",
       " 'second_11',\n",
       " 'second_67'}"
      ]
     },
     "execution_count": 15,
     "metadata": {},
     "output_type": "execute_result"
    }
   ],
   "source": [
    "set(arrays_found_v).intersection(set(arrays_found_d))"
   ]
  },
  {
   "cell_type": "code",
   "execution_count": 16,
   "metadata": {},
   "outputs": [
    {
     "data": {
      "text/plain": [
       "[<matplotlib.lines.Line2D at 0x7f1df80d60f0>]"
      ]
     },
     "execution_count": 16,
     "metadata": {},
     "output_type": "execute_result"
    },
    {
     "data": {
      "image/png": "[encoded data removed]",
      "text/plain": [
       "<matplotlib.figure.Figure at 0x7f1e353367f0>"
      ]
     },
     "metadata": {},
     "output_type": "display_data"
    }
   ],
   "source": [
    "plt.plot((answ_gr > 0).sum(1)[:100])"
   ]
  },
  {
   "cell_type": "code",
   "execution_count": 21,
   "metadata": {
    "scrolled": false
   },
   "outputs": [
    {
     "data": {
      "image/png": "[encoded data removed]",
      "text/plain": [
       "<matplotlib.figure.Figure at 0x7f1df9464630>"
      ]
     },
     "metadata": {},
     "output_type": "display_data"
    }
   ],
   "source": [
    "cut1 = 300\n",
    "cut2 = 400\n",
    "ca.plot_grs(gr_slv[cut1:cut2, cut1:cut2],\n",
    "           (answ_gr[cut1:cut2, cut1:cut2] > 0).astype(int),\n",
    "#             grs_m[1][:cut, :cut],\n",
    "#             grs_m[2][:cut, :cut],\n",
    "            log = 1, \n",
    "            s = 20)\n",
    "plt.show()"
   ]
  },
  {
   "cell_type": "code",
   "execution_count": 18,
   "metadata": {},
   "outputs": [],
   "source": [
    "gb = pickle.load(open(\"../article/linear_svc_rep_to_rep\", 'rb'))\n",
    "\n",
    "#pred = gb.predict(embs[0]).reshape((grs[0].shape[0] - 1, grs[0].shape[1] - 1))"
   ]
  },
  {
   "cell_type": "code",
   "execution_count": 19,
   "metadata": {},
   "outputs": [],
   "source": [
    "pred = gb.predict(emb_slv).reshape((gr_slv.shape[0] - 1, gr_slv.shape[1] - 1))"
   ]
  },
  {
   "cell_type": "code",
   "execution_count": 20,
   "metadata": {},
   "outputs": [
    {
     "data": {
      "image/png": "[encoded data removed]",
      "text/plain": [
       "<matplotlib.figure.Figure at 0x7feab0901c88>"
      ]
     },
     "metadata": {},
     "output_type": "display_data"
    }
   ],
   "source": [
    "cut = 100\n",
    "ca.plot_grs(gr_slv[:cut, :cut],\n",
    "            pred[:cut, :cut],\n",
    "            log = 1, \n",
    "            s = 20, subplots_form = (1,2))\n",
    "plt.show()"
   ]
  },
  {
   "cell_type": "code",
   "execution_count": 18,
   "metadata": {},
   "outputs": [],
   "source": [
    "arrs_slv = [x for x in ca.restore_arrays_greedy(gr_slv, 2)[0] if len(x) > 2]"
   ]
  },
  {
   "cell_type": "code",
   "execution_count": null,
   "metadata": {},
   "outputs": [],
   "source": []
  },
  {
   "cell_type": "code",
   "execution_count": 19,
   "metadata": {},
   "outputs": [
    {
     "name": "stdout",
     "output_type": "stream",
     "text": [
      "first_2 [2, 2, 2, 2, 2]\n",
      " 32 , 586, 80 , 250, 320,\n",
      "first_24 [2, 2, 2, 2, 2]\n",
      " 32 , 586, 80 , 250, 320,\n",
      "first_61 [2, 2, 2, 2, 2]\n",
      " 32 , 586, 80 , 250, 320,\n",
      "first_62 [2, 2, 2, 2, 2]\n",
      " 32 , 586, 80 , 250, 320,\n",
      "first_68 [2, 2, 2, 2, 2]\n",
      " 32 , 586, 80 , 250, 320,\n",
      "first_5 [0, 0, 0, 0, 0, 0, 0, 0, 0, 0, 0]\n",
      " -  , 68 , 6  , 5  , 10 , 334, 338, 12 , 9  , 15 , 8  , 13 ,\n",
      " 32 , 68 , 6  , 5  , 10 , 12 , 9  , 15 , 8  , 13 , 11 , 14 , 38 , 99 ,\n",
      "first_50 [0, 0, 0, 0, 0, 0, 0, 0, 0, 0, 0]\n",
      " -  , 68 , 6  , 5  , 10 , 334, 338, 12 , 9  , 15 , 8  , 13 ,\n",
      " 32 , 68 , 6  , 5  , 10 , 12 , 9  , 15 , 8  , 13 , 11 , 14 , 38 , 99 ,\n",
      "first_8 [0, 0, 0, 0, 0, 0, 0, 0, 0, 0, 0, 0]\n",
      " -  , 68 , 6  , 5  , 338, 12 , 9  , 15 , 8  , 13 , 11 , 14 , 38 ,\n",
      " 32 , 68 , 6  , 5  , 10 , 12 , 9  , 15 , 8  , 13 , 11 , 14 , 38 , 99 ,\n",
      "first_19 [0, 0, 0, 0, 0, 0, 0, 0]\n",
      " 85 , 22 , 72 , 219, 225, 139, 51 , 177,\n",
      " 85 , 22 , 72 , 108, -  , -  , -  , -  ,\n",
      " -  , -  , -  , -  , 225, 139, 51 , 223,\n",
      "first_20 [0, 0, 0, 0, 0, 0, 0, 0]\n",
      " 85 , 22 , 72 , 219, 225, 139, 51 , 177,\n",
      " 85 , 22 , 72 , 108, -  , -  , -  , -  ,\n",
      " -  , -  , -  , -  , 225, 139, 51 , 223,\n",
      "first_22 [0, 0, 0, 0, 0, 0, 0, 0]\n",
      " 85 , 22 , 72 , 219, 225, 139, 51 , 177,\n",
      " 85 , 22 , 72 , 108, -  , -  , -  , -  ,\n",
      " -  , -  , -  , -  , 225, 139, 51 , 223,\n",
      "first_31 [0, 0, 0, 0, 0, 0, 0, 0]\n",
      " 85 , 22 , 72 , 219, 225, 139, 51 , 177,\n",
      " 85 , 22 , 72 , 108, -  , -  , -  , -  ,\n",
      " -  , -  , -  , -  , 225, 139, 51 , 223,\n",
      "first_9 [0, 0, 0, 0, 0]\n",
      " -  , -  , -  , -  , -  , -  , 111, 147, 286, 130, 515,\n",
      " 49 , 134, 63 , 109, 150, 37 , 111, 147, 286, -  , -  ,\n",
      "first_66 [0, 0, 0, 0, 0, 0, 0, 0, 0, 0, 0, 0]\n",
      " -  , 68 , 6  , 5  , 338, 12 , 9  , 15 , 8  , 13 , 11 , 14 , 38 ,\n",
      " 32 , 68 , 6  , 5  , 10 , 12 , 9  , 15 , 8  , 13 , 11 , 14 , 38 , 99 ,\n",
      "second_1 [0, 0, 0, 0, 0]\n",
      " 27 , 70 , 69 , 404, 81 ,\n",
      " 27 , 70 , 81 , 57 , 42 , 43 , 152,\n",
      "second_11 [0, 0, 0, 0, 0]\n",
      " 27 , 70 , 69 , 404, 81 ,\n",
      " 27 , 70 , 81 , 57 , 42 , 43 , 152,\n",
      "second_67 [0, 0, 0, 0, 0]\n",
      " 27 , 70 , 69 , 404, 81 ,\n",
      " 27 , 70 , 81 , 57 , 42 , 43 , 152,\n"
     ]
    }
   ],
   "source": [
    "for k,v in a.items():\n",
    "    if max(d[k]) < 5:\n",
    "        print(k, d[k])\n",
    "        for i in ca.print_alignments(ca.water_alignments(v, arrs_slv), v):\n",
    "            print(i)"
   ]
  },
  {
   "cell_type": "code",
   "execution_count": 56,
   "metadata": {},
   "outputs": [
    {
     "data": {
      "text/plain": [
       "[' 95 , 36 , 198, 104, 16 ,']"
      ]
     },
     "execution_count": 56,
     "metadata": {},
     "output_type": "execute_result"
    }
   ],
   "source": [
    "ca.print_alignments(ca.water_alignments(v, arrs_slv), v)"
   ]
  },
  {
   "cell_type": "code",
   "execution_count": 54,
   "metadata": {},
   "outputs": [
    {
     "data": {
      "text/plain": [
       "[95, 36, 198, 104, 16]"
      ]
     },
     "execution_count": 54,
     "metadata": {},
     "output_type": "execute_result"
    }
   ],
   "source": [
    "v"
   ]
  },
  {
   "cell_type": "code",
   "execution_count": null,
   "metadata": {},
   "outputs": [],
   "source": []
  }
 ],
 "metadata": {
  "kernelspec": {
   "display_name": "Python 3",
   "language": "python",
   "name": "python3"
  },
  "language_info": {
   "codemirror_mode": {
    "name": "ipython",
    "version": 3
   },
   "file_extension": ".py",
   "mimetype": "text/x-python",
   "name": "python",
   "nbconvert_exporter": "python",
   "pygments_lexer": "ipython3",
   "version": "3.6.3"
  }
 },
 "nbformat": 4,
 "nbformat_minor": 2
}
