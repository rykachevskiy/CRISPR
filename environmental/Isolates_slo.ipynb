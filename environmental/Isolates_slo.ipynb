{
 "cells": [
  {
   "cell_type": "code",
   "execution_count": 1,
   "metadata": {
    "scrolled": false
   },
   "outputs": [],
   "source": [
    "import crispr_assembler as ca\n",
    "import pandas as pd\n",
    "import numpy as np\n",
    "import matplotlib.pyplot as plt\n",
    "import os\n",
    "import tqdm\n",
    "\n",
    "%load_ext autoreload\n",
    "%autoreload 2\n",
    "\n",
    "import pickle"
   ]
  },
  {
   "cell_type": "code",
   "execution_count": null,
   "metadata": {},
   "outputs": [],
   "source": []
  },
  {
   "cell_type": "code",
   "execution_count": 2,
   "metadata": {},
   "outputs": [],
   "source": [
    "def process_path(path, cut = -1, save = 1):\n",
    "    pairs_path = path + \"/out/pairs/\"\n",
    "    files = sorted(os.listdir(pairs_path))\n",
    "    \n",
    "    print(pairs_path + files[0])\n",
    "    \n",
    "    read = ca.Read(pairs_path + files[0])\n",
    "    read.correct_errors(minimum_occurences=5)\n",
    "    gr = read.graph_from_pairs()[0]\n",
    "    \n",
    "    print('calc embs')\n",
    "    ec = ca.EmbeddingsCalculator()\n",
    "    ec.make_argsorts(gr[:cut, :cut])\n",
    "    embs = ec.fit_predict(gr[:cut, :cut], njobs=32)\n",
    "    \n",
    "    if save:\n",
    "        pickle.dump(read, open(path + \"/read\", 'wb'))\n",
    "        np.save(path + \"/graph\", gr)\n",
    "        np.save(path + \"/embs\", embs)\n",
    "        \n",
    "    return read, gr, embs"
   ]
  },
  {
   "cell_type": "code",
   "execution_count": 3,
   "metadata": {},
   "outputs": [],
   "source": [
    "def load(path):\n",
    "    return pickle.load(open(path + \"/read\", 'rb')), np.load(path + \"/graph.npy\"), np.load(path + \"/embs.npy\")"
   ]
  },
  {
   "cell_type": "code",
   "execution_count": null,
   "metadata": {},
   "outputs": [],
   "source": []
  },
  {
   "cell_type": "code",
   "execution_count": 4,
   "metadata": {},
   "outputs": [],
   "source": [
    "def unwrap_idx_to_spacer(idx_to_spacer):\n",
    "    values_as_list = []\n",
    "    for i in range(len(idx_to_spacer)):\n",
    "        values_as_list.append(idx_to_spacer[i])\n",
    "    return values_as_list"
   ]
  },
  {
   "cell_type": "code",
   "execution_count": 5,
   "metadata": {},
   "outputs": [],
   "source": [
    "def continue_steps(reads, pointers):\n",
    "    return any([pointers[i] < len(reads[i]) for i in range(len(reads))])"
   ]
  },
  {
   "cell_type": "code",
   "execution_count": 6,
   "metadata": {},
   "outputs": [],
   "source": [
    "def merge_reads(reads, t=1, v = 1):\n",
    "    spacers_lists = [unwrap_idx_to_spacer(x) for x in reads]#[unwrap_idx_to_spacer(x.index_to_cluster) for x in reads]\n",
    "    pointers = [0 for i in range(len(reads))]\n",
    "    merged_sp_to_idxes = {}\n",
    "    old_idx_to_new_idx = [{} for i in range(len(reads))]\n",
    "    \n",
    "    curr = 0\n",
    "    while continue_steps(spacers_lists, pointers):\n",
    "        for i in range(len(reads)):\n",
    "            if pointers[i] < len(reads[i]):\n",
    "                spacer = spacers_lists[i][pointers[i]]\n",
    "                \n",
    "                dist, closest = ca.find_closest(merged_sp_to_idxes, spacer)\n",
    "                if dist > t:\n",
    "                    merged_sp_to_idxes[spacer] = curr\n",
    "                    #new_sp_to_ids[i][spacer] = curr\n",
    "                    old_idx_to_new_idx[i][pointers[i]] = curr\n",
    "                    curr += 1\n",
    "                else:\n",
    "                    old_idx_to_new_idx[i][pointers[i]] = merged_sp_to_idxes[closest]\n",
    "                \n",
    "                pointers[i] += 1\n",
    "                \n",
    "                if curr % 100 == 0:\n",
    "                    print(curr)\n",
    "                \n",
    "\n",
    "                if v:\n",
    "                    print(i, pointers[i], spacer, dist, merged_sp_to_idxes)#, new_sp_to_ids[1])\n",
    "                    \n",
    "    return merged_sp_to_idxes,  old_idx_to_new_idx"
   ]
  },
  {
   "cell_type": "code",
   "execution_count": null,
   "metadata": {},
   "outputs": [],
   "source": []
  },
  {
   "cell_type": "code",
   "execution_count": 7,
   "metadata": {},
   "outputs": [],
   "source": [
    "def rearange(gr, order):\n",
    "    new_gr = np.zeros((max(order.values()) + 1, max(order.values()) + 1))\n",
    "\n",
    "    for i in tqdm.tqdm(range(len(order.keys()))):\n",
    "        for j in range(len(order.keys())):\n",
    "            new_gr[order[i], order[j]] = gr[i, j]\n",
    "\n",
    "    return new_gr"
   ]
  },
  {
   "cell_type": "code",
   "execution_count": null,
   "metadata": {},
   "outputs": [],
   "source": []
  },
  {
   "cell_type": "code",
   "execution_count": null,
   "metadata": {},
   "outputs": [],
   "source": []
  },
  {
   "cell_type": "code",
   "execution_count": 8,
   "metadata": {},
   "outputs": [
    {
     "name": "stdout",
     "output_type": "stream",
     "text": [
      "../../data/environmental/slo2//out/pairs/SlO2_ACTGAT_L001_R1_001.fastq.gz_pairs.txt\n"
     ]
    },
    {
     "name": "stderr",
     "output_type": "stream",
     "text": [
      "100%|██████████| 1065/1065 [00:01<00:00, 939.91it/s]\n"
     ]
    },
    {
     "name": "stdout",
     "output_type": "stream",
     "text": [
      "calc embs\n"
     ]
    }
   ],
   "source": [
    "read_slv, gr_slv, emb_slv = process_path(\"../../data/environmental/slo2/\")"
   ]
  },
  {
   "cell_type": "code",
   "execution_count": null,
   "metadata": {},
   "outputs": [],
   "source": []
  },
  {
   "cell_type": "code",
   "execution_count": 9,
   "metadata": {},
   "outputs": [],
   "source": [
    "#answer_sensivity = ca.read_arrays_with_tags(\"../../article/data/answers/sensivity\", 0)\n",
    "answer = ca.read_arrays_with_tags(\"../../article/data/answers/all\", 0)"
   ]
  },
  {
   "cell_type": "code",
   "execution_count": 10,
   "metadata": {},
   "outputs": [
    {
     "name": "stderr",
     "output_type": "stream",
     "text": [
      "100%|██████████| 54/54 [00:01<00:00, 37.79it/s]\n"
     ]
    }
   ],
   "source": [
    "a, d = ca.multiple_arrays_to_ids(answer, read_slv.spacer_to_cluster_index)\n",
    "\n",
    "#a_all, d_all = ca.multiple_arrays_to_ids(answer_all, res.spacer_to_cluster_index)\n",
    "\n",
    "answ_gr = ca.graph_from_arrays([x for x in a.values()], gr_slv.shape[0])[0]"
   ]
  },
  {
   "cell_type": "code",
   "execution_count": 11,
   "metadata": {},
   "outputs": [
    {
     "data": {
      "text/plain": [
       "{'first_1': [0, 0, 0, 13, 13, 0, 13],\n",
       " 'first_11': [0, 0, 0, 13, 13, 0, 13],\n",
       " 'first_2': [2, 2, 2, 2, 2],\n",
       " 'first_24': [2, 2, 2, 2, 2],\n",
       " 'first_61': [2, 2, 2, 2, 2],\n",
       " 'first_62': [2, 2, 2, 2, 2],\n",
       " 'first_68': [2, 2, 2, 2, 2],\n",
       " 'first_3': [1, 1, 1, 12, 12, 13, 13],\n",
       " 'first_5': [0, 0, 0, 0, 0, 0, 0, 0, 0, 0, 0],\n",
       " 'first_50': [0, 0, 0, 0, 0, 0, 0, 0, 0, 0, 0],\n",
       " 'first_7': [12, 1, 12, 2, 12, 13, 13, 13, 13],\n",
       " 'first_8': [0, 0, 0, 0, 0, 0, 0, 0, 0, 0, 0, 0],\n",
       " 'first_14': [0, 0, 0, 0, 0, 0, 13, 0, 0, 0, 0, 0],\n",
       " 'first_15': [0, 0, 0, 0, 13, 13, 0, 12, 14, 0, 0, 13, 0, 0, 0, 0, 0, 0, 14],\n",
       " 'first_19': [0, 0, 0, 0, 0, 0, 0, 0],\n",
       " 'first_20': [0, 0, 0, 0, 0, 0, 0, 0],\n",
       " 'first_22': [0, 0, 0, 0, 0, 0, 0, 0],\n",
       " 'first_31': [0, 0, 0, 0, 0, 0, 0, 0],\n",
       " 'first_21': [0, 0, 12, 13, 13, 0, 14, 0, 0, 12, 13],\n",
       " 'first_23': [0, 0, 12, 13, 13, 0, 14, 0, 0, 12, 13],\n",
       " 'first_27': [0, 0, 0, 13, 0, 0, 0, 0, 0, 0, 0, 14, 13, 14],\n",
       " 'first_65': [0, 0, 12, 13, 13, 0, 14, 0, 0, 12],\n",
       " 'first_70': [0, 0, 12, 13, 13, 0, 14, 0, 0, 12],\n",
       " 'first_9': [0, 0, 0, 0, 0],\n",
       " 'first_12': [0, 0, 12, 13],\n",
       " 'first_66': [0, 0, 0, 0, 0, 0, 0, 0, 0, 0, 0, 0],\n",
       " 'first_67': [0, 0, 0, 13, 13, 0, 13],\n",
       " 'second_1': [0, 0, 0, 0, 0],\n",
       " 'second_2': [0, 0, 0, 0, 13, 0, 0, 0, 12],\n",
       " 'second_61': [0, 0, 0, 0, 13, 0, 0, 0, 12],\n",
       " 'second_62': [0, 0, 0, 0, 13, 0, 0, 0, 12],\n",
       " 'second_68': [0, 0, 0, 0, 13, 0, 0, 0, 12],\n",
       " 'second_5': [1, 1, 14, 1, 2, 1],\n",
       " 'second_50': [1, 1, 14, 1, 2, 1],\n",
       " 'second_21': [13, 1, 1, 1, 1, 1, 13, 1, 13, 14],\n",
       " 'second_65': [13, 1, 1, 1, 1, 1, 13, 1, 13, 14],\n",
       " 'second_70': [13, 1, 1, 1, 1, 1, 13, 1, 13, 14],\n",
       " 'second_3': [0, 0, 12, 9, 13, 0, 14, 14],\n",
       " 'second_7': [14, 0, 0, 0, 13, 12, 0],\n",
       " 'second_8': [14, 14, 14, 13, 15, 14],\n",
       " 'second_11': [0, 0, 0, 0, 0],\n",
       " 'second_14': [0, 0, 0, 0, 0, 0, 0, 0, 13, 0, 0, 0, 1],\n",
       " 'second_15': [0, 13, 0, 0, 0, 13],\n",
       " 'second_19': [14, 0, 0, 0, 0, 0, 0, 0, 0, 0, 13],\n",
       " 'second_20': [14, 0, 0, 0, 0, 0, 0, 0, 0, 0, 13, 0, 0],\n",
       " 'second_22': [14, 1, 2, 2, 2, 0, 1, 2, 1, 2, 25, 0, 0, 0, 13, 0, 0],\n",
       " 'second_23': [13, 13, 11, 12, 13, 13, 13, 14],\n",
       " 'second_24': [0, 0, 13, 0, 0, 0, 12],\n",
       " 'second_27': [25, 0, 13, 0, 0, 0, 0, 0],\n",
       " 'second_31': [14, 0, 0, 0, 0, 0, 0, 0, 0, 0, 13, 0],\n",
       " 'second_9': [14,\n",
       "  0,\n",
       "  0,\n",
       "  0,\n",
       "  13,\n",
       "  12,\n",
       "  12,\n",
       "  0,\n",
       "  0,\n",
       "  0,\n",
       "  13,\n",
       "  25,\n",
       "  13,\n",
       "  0,\n",
       "  0,\n",
       "  10,\n",
       "  0,\n",
       "  12,\n",
       "  12],\n",
       " 'second_12': [0, 0, 0, 0, 0, 0, 0, 0, 0, 0, 0, 0, 53, 0, 13, 14, 0, 0, 13, 9],\n",
       " 'second_66': [3, 3, 14, 3, 3, 3],\n",
       " 'second_67': [0, 0, 0, 0, 0]}"
      ]
     },
     "execution_count": 11,
     "metadata": {},
     "output_type": "execute_result"
    }
   ],
   "source": [
    "d"
   ]
  },
  {
   "cell_type": "code",
   "execution_count": 12,
   "metadata": {},
   "outputs": [],
   "source": [
    "arrays_found_d = []\n",
    "for k,v in d.items():\n",
    "    if max(sorted(v)[::-1][:]) < 3:\n",
    "        arrays_found_d.append(k)"
   ]
  },
  {
   "cell_type": "code",
   "execution_count": 13,
   "metadata": {},
   "outputs": [],
   "source": [
    "arrays_found_v = []\n",
    "for k,v in a.items():\n",
    "    #print(k, sorted(v)[::-1])\n",
    "    if max(sorted(v)[::-1][1:]) < 300:\n",
    "        arrays_found_v.append(k)"
   ]
  },
  {
   "cell_type": "code",
   "execution_count": 14,
   "metadata": {},
   "outputs": [
    {
     "data": {
      "text/plain": [
       "['first_2',\n",
       " 'first_24',\n",
       " 'first_61',\n",
       " 'first_62',\n",
       " 'first_68',\n",
       " 'first_5',\n",
       " 'first_50',\n",
       " 'first_8',\n",
       " 'first_19',\n",
       " 'first_20',\n",
       " 'first_22',\n",
       " 'first_31',\n",
       " 'first_9',\n",
       " 'first_66',\n",
       " 'second_1',\n",
       " 'second_11',\n",
       " 'second_67']"
      ]
     },
     "execution_count": 14,
     "metadata": {},
     "output_type": "execute_result"
    }
   ],
   "source": [
    "arrays_found_d"
   ]
  },
  {
   "cell_type": "code",
   "execution_count": 15,
   "metadata": {},
   "outputs": [
    {
     "data": {
      "text/plain": [
       "{'first_19',\n",
       " 'first_20',\n",
       " 'first_22',\n",
       " 'first_31',\n",
       " 'first_66',\n",
       " 'first_8',\n",
       " 'first_9',\n",
       " 'second_1',\n",
       " 'second_11',\n",
       " 'second_67'}"
      ]
     },
     "execution_count": 15,
     "metadata": {},
     "output_type": "execute_result"
    }
   ],
   "source": [
    "set(arrays_found_v).intersection(set(arrays_found_d))"
   ]
  },
  {
   "cell_type": "code",
   "execution_count": 16,
   "metadata": {},
   "outputs": [
    {
     "data": {
      "text/plain": [
       "[<matplotlib.lines.Line2D at 0x7fea7f788e48>]"
      ]
     },
     "execution_count": 16,
     "metadata": {},
     "output_type": "execute_result"
    },
    {
     "data": {
      "image/png": "[encoded data removed]",
      "text/plain": [
       "<matplotlib.figure.Figure at 0x7fea7f5d2518>"
      ]
     },
     "metadata": {},
     "output_type": "display_data"
    }
   ],
   "source": [
    "plt.plot((answ_gr > 0).sum(1)[:100])"
   ]
  },
  {
   "cell_type": "code",
   "execution_count": 17,
   "metadata": {
    "scrolled": false
   },
   "outputs": [
    {
     "data": {
      "image/png": "[encoded data removed]",
      "text/plain": [
       "<matplotlib.figure.Figure at 0x7fea7f983630>"
      ]
     },
     "metadata": {},
     "output_type": "display_data"
    }
   ],
   "source": [
    "cut1 = 0\n",
    "cut2 = 100\n",
    "ca.plot_grs(gr_slv[cut1:cut2, cut1:cut2],\n",
    "           (answ_gr[cut1:cut2, cut1:cut2] > 0).astype(int),\n",
    "#             grs_m[1][:cut, :cut],\n",
    "#             grs_m[2][:cut, :cut],\n",
    "            log = 1, \n",
    "            s = 20)\n",
    "plt.show()"
   ]
  },
  {
   "cell_type": "code",
   "execution_count": 18,
   "metadata": {},
   "outputs": [],
   "source": [
    "gb = pickle.load(open(\"../article/linear_svc_rep_to_rep\", 'rb'))\n",
    "\n",
    "#pred = gb.predict(embs[0]).reshape((grs[0].shape[0] - 1, grs[0].shape[1] - 1))"
   ]
  },
  {
   "cell_type": "code",
   "execution_count": 19,
   "metadata": {},
   "outputs": [],
   "source": [
    "pred = gb.predict(emb_slv).reshape((gr_slv.shape[0] - 1, gr_slv.shape[1] - 1))"
   ]
  },
  {
   "cell_type": "code",
   "execution_count": 20,
   "metadata": {},
   "outputs": [
    {
     "data": {
      "image/png": "[encoded data removed]",
      "text/plain": [
       "<matplotlib.figure.Figure at 0x7feab0901c88>"
      ]
     },
     "metadata": {},
     "output_type": "display_data"
    }
   ],
   "source": [
    "cut = 100\n",
    "ca.plot_grs(gr_slv[:cut, :cut],\n",
    "            pred[:cut, :cut],\n",
    "            log = 1, \n",
    "            s = 20, subplots_form = (1,2))\n",
    "plt.show()"
   ]
  },
  {
   "cell_type": "code",
   "execution_count": 25,
   "metadata": {},
   "outputs": [],
   "source": [
    "arrs_slv = [x for x in ca.restore_arrays_greedy(gr_slv, 2)[0] if len(x) > 2]"
   ]
  },
  {
   "cell_type": "code",
   "execution_count": null,
   "metadata": {},
   "outputs": [],
   "source": []
  },
  {
   "cell_type": "code",
   "execution_count": 26,
   "metadata": {},
   "outputs": [
    {
     "data": {
      "text/plain": [
       "[[17, 3, 4, 7, 1, 2, 0, 129],\n",
       " [32, 68, 6, 5, 10, 12, 9, 15, 8, 13, 11, 14, 38, 99],\n",
       " [135,\n",
       "  226,\n",
       "  82,\n",
       "  93,\n",
       "  115,\n",
       "  56,\n",
       "  77,\n",
       "  46,\n",
       "  55,\n",
       "  100,\n",
       "  71,\n",
       "  162,\n",
       "  151,\n",
       "  141,\n",
       "  237,\n",
       "  87,\n",
       "  117,\n",
       "  304],\n",
       " [484, 18, 26, 19, 24, 16, 20, 33, 40, 66, 47, 74, 78, 50],\n",
       " [41, 30, 44, 31, 53, 73, 79, 52, 132],\n",
       " [76, 39, 101],\n",
       " [27, 70, 81, 57, 42, 43, 152],\n",
       " [85, 22, 72, 108],\n",
       " [348, 246, 163, 202, 86, 65, 170],\n",
       " [148, 138, 121, 145, 322],\n",
       " [122, 61, 102, 137],\n",
       " [310, 315, 206, 124, 60, 90, 133, 59],\n",
       " [359, 208, 107, 92, 96, 114],\n",
       " [89, 21, 25, 196, 120],\n",
       " [182, 119, 205, 183, 213, 88, 95, 291, 328],\n",
       " [49, 134, 63, 109, 150, 37, 111, 147, 286],\n",
       " [212, 169, 261, 176, 172, 153],\n",
       " [233, 125, 171, 278],\n",
       " [123, 98, 158],\n",
       " [186, 189, 248],\n",
       " [83, 110, 303],\n",
       " [149, 128, 166, 251, 156, 247],\n",
       " [140, 75, 142, 161],\n",
       " [192, 200, 146, 319],\n",
       " [191, 230, 383],\n",
       " [321, 287, 239],\n",
       " [307, 104, 216],\n",
       " [285, 164, 327],\n",
       " [297, 255, 266, 277],\n",
       " [105, 28, 143],\n",
       " [252, 193, 84, 62, 54, 91],\n",
       " [313, 214, 178, 270],\n",
       " [67, 45, 36, 112],\n",
       " [446, 241, 207, 284, 439],\n",
       " [209, 106, 29, 48, 194],\n",
       " [326, 228, 201],\n",
       " [276, 173, 273, 236],\n",
       " [130, 165, 242, 217],\n",
       " [225, 139, 51, 223],\n",
       " [127, 103, 184],\n",
       " [376, 337, 199, 218, 280],\n",
       " [240, 263, 499],\n",
       " [309, 160, 428],\n",
       " [220, 34, 116],\n",
       " [559, 333, 441],\n",
       " [566, 377, 466],\n",
       " [454, 356, 471],\n",
       " [403, 265, 329],\n",
       " [331, 301, 397]]"
      ]
     },
     "execution_count": 26,
     "metadata": {},
     "output_type": "execute_result"
    }
   ],
   "source": [
    "arrs_slv"
   ]
  },
  {
   "cell_type": "raw",
   "metadata": {},
   "source": [
    "for k,v in a.items():\n",
    "    if max(d[k]) < 5:\n",
    "        print(k, d[k])\n",
    "        for i in ca.print_alignments(ca.water_alignments(v, arrs_slv), v):\n",
    "            print(i)"
   ]
  },
  {
   "cell_type": "code",
   "execution_count": 56,
   "metadata": {},
   "outputs": [
    {
     "data": {
      "text/plain": [
       "[' 95 , 36 , 198, 104, 16 ,']"
      ]
     },
     "execution_count": 56,
     "metadata": {},
     "output_type": "execute_result"
    }
   ],
   "source": [
    "ca.print_alignments(ca.water_alignments(v, arrs_slv), v)"
   ]
  },
  {
   "cell_type": "code",
   "execution_count": 54,
   "metadata": {},
   "outputs": [
    {
     "data": {
      "text/plain": [
       "[95, 36, 198, 104, 16]"
      ]
     },
     "execution_count": 54,
     "metadata": {},
     "output_type": "execute_result"
    }
   ],
   "source": [
    "v"
   ]
  },
  {
   "cell_type": "code",
   "execution_count": null,
   "metadata": {},
   "outputs": [],
   "source": []
  }
 ],
 "metadata": {
  "kernelspec": {
   "display_name": "Python 3",
   "language": "python",
   "name": "python3"
  },
  "language_info": {
   "codemirror_mode": {
    "name": "ipython",
    "version": 3
   },
   "file_extension": ".py",
   "mimetype": "text/x-python",
   "name": "python",
   "nbconvert_exporter": "python",
   "pygments_lexer": "ipython3",
   "version": "3.6.3"
  }
 },
 "nbformat": 4,
 "nbformat_minor": 2
}
