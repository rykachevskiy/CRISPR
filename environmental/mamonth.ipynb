{
 "cells": [
  {
   "cell_type": "code",
   "execution_count": 1,
   "metadata": {
    "collapsed": true,
    "scrolled": false
   },
   "outputs": [],
   "source": [
    "import crispr_assembler as ca\n",
    "import pandas as pd\n",
    "import numpy as np\n",
    "import matplotlib.pyplot as plt\n",
    "import os\n",
    "import tqdm\n",
    "\n",
    "%load_ext autoreload\n",
    "%autoreload 2\n",
    "\n",
    "import pickle"
   ]
  },
  {
   "cell_type": "code",
   "execution_count": null,
   "metadata": {
    "collapsed": true
   },
   "outputs": [],
   "source": []
  },
  {
   "cell_type": "code",
   "execution_count": 2,
   "metadata": {
    "collapsed": true
   },
   "outputs": [],
   "source": [
    "def process_path(path, cut = -1, save = 1):\n",
    "    pairs_path = path + \"/out/pairs/\"\n",
    "    files = sorted(os.listdir(pairs_path))\n",
    "    \n",
    "    print(pairs_path + files[0])\n",
    "    \n",
    "    read = ca.Read(pairs_path + files[0])\n",
    "    read.correct_errors(minimum_occurences=5)\n",
    "    gr = read.graph_from_pairs()[0]\n",
    "    \n",
    "    print('calc embs')\n",
    "    ec = ca.EmbeddingsCalculator()\n",
    "    ec.make_argsorts(gr[:cut, :cut])\n",
    "    embs = ec.fit_predict(gr[:cut, :cut], njobs=32)\n",
    "    \n",
    "    if save:\n",
    "        pickle.dump(read, open(path + \"/read\", 'wb'))\n",
    "        np.save(path + \"/graph\", gr)\n",
    "        np.save(path + \"/embs\", embs)\n",
    "        \n",
    "    return read, gr, embs"
   ]
  },
  {
   "cell_type": "code",
   "execution_count": 3,
   "metadata": {
    "collapsed": true
   },
   "outputs": [],
   "source": [
    "def load(path):\n",
    "    return pickle.load(open(path + \"/read\", 'rb')), np.load(path + \"/graph.npy\"), np.load(path + \"/embs.npy\", embs)"
   ]
  },
  {
   "cell_type": "code",
   "execution_count": null,
   "metadata": {
    "collapsed": true
   },
   "outputs": [],
   "source": []
  },
  {
   "cell_type": "code",
   "execution_count": 4,
   "metadata": {
    "collapsed": true
   },
   "outputs": [],
   "source": [
    "def unwrap_idx_to_spacer(idx_to_spacer):\n",
    "    values_as_list = []\n",
    "    for i in range(len(idx_to_spacer)):\n",
    "        values_as_list.append(idx_to_spacer[i])\n",
    "    return values_as_list"
   ]
  },
  {
   "cell_type": "code",
   "execution_count": 5,
   "metadata": {
    "collapsed": true
   },
   "outputs": [],
   "source": [
    "def continue_steps(reads, pointers):\n",
    "    return any([pointers[i] < len(reads[i]) for i in range(len(reads))])"
   ]
  },
  {
   "cell_type": "code",
   "execution_count": 6,
   "metadata": {
    "collapsed": true
   },
   "outputs": [],
   "source": [
    "def merge_reads(reads, t=1, v = 1):\n",
    "    spacers_lists = [unwrap_idx_to_spacer(x) for x in reads]#[unwrap_idx_to_spacer(x.index_to_cluster) for x in reads]\n",
    "    pointers = [0 for i in range(len(reads))]\n",
    "    merged_sp_to_idxes = {}\n",
    "    old_idx_to_new_idx = [{} for i in range(len(reads))]\n",
    "    \n",
    "    curr = 0\n",
    "    while continue_steps(spacers_lists, pointers):\n",
    "        for i in range(len(reads)):\n",
    "            if pointers[i] < len(reads[i]):\n",
    "                spacer = spacers_lists[i][pointers[i]]\n",
    "                \n",
    "                dist, closest = ca.find_closest(merged_sp_to_idxes, spacer)\n",
    "                if dist > t:\n",
    "                    merged_sp_to_idxes[spacer] = curr\n",
    "                    #new_sp_to_ids[i][spacer] = curr\n",
    "                    old_idx_to_new_idx[i][pointers[i]] = curr\n",
    "                    curr += 1\n",
    "                else:\n",
    "                    old_idx_to_new_idx[i][pointers[i]] = merged_sp_to_idxes[closest]\n",
    "                \n",
    "                pointers[i] += 1\n",
    "                \n",
    "                if curr % 100 == 0:\n",
    "                    print(curr)\n",
    "                \n",
    "\n",
    "                if v:\n",
    "                    print(i, pointers[i], spacer, dist, merged_sp_to_idxes)#, new_sp_to_ids[1])\n",
    "                    \n",
    "    return merged_sp_to_idxes,  old_idx_to_new_idx"
   ]
  },
  {
   "cell_type": "code",
   "execution_count": null,
   "metadata": {
    "collapsed": true
   },
   "outputs": [],
   "source": []
  },
  {
   "cell_type": "code",
   "execution_count": 7,
   "metadata": {
    "collapsed": true
   },
   "outputs": [],
   "source": [
    "def rearange(gr, order):\n",
    "    new_gr = np.zeros((max(order.values()) + 1, max(order.values()) + 1))\n",
    "\n",
    "    for i in tqdm.tqdm(range(len(order.keys()))):\n",
    "        for j in range(len(order.keys())):\n",
    "            new_gr[order[i], order[j]] = gr[i, j]\n",
    "\n",
    "    return new_gr"
   ]
  },
  {
   "cell_type": "code",
   "execution_count": null,
   "metadata": {
    "collapsed": true
   },
   "outputs": [],
   "source": []
  },
  {
   "cell_type": "code",
   "execution_count": null,
   "metadata": {
    "collapsed": true
   },
   "outputs": [],
   "source": []
  },
  {
   "cell_type": "code",
   "execution_count": 8,
   "metadata": {
    "collapsed": true
   },
   "outputs": [],
   "source": [
    "paths = [\n",
    "    '/home/rykachevskiy/CRISPR_research/data/environmental/m1/',\n",
    "    '/home/rykachevskiy/CRISPR_research/data/environmental/m2/',\n",
    "    '/home/rykachevskiy/CRISPR_research/data/environmental/m3/'\n",
    "]\n",
    "\n"
   ]
  },
  {
   "cell_type": "code",
   "execution_count": null,
   "metadata": {
    "collapsed": true
   },
   "outputs": [],
   "source": []
  },
  {
   "cell_type": "code",
   "execution_count": 9,
   "metadata": {},
   "outputs": [
    {
     "name": "stderr",
     "output_type": "stream",
     "text": [
      "\r",
      "  0%|          | 0/365 [00:00<?, ?it/s]"
     ]
    },
    {
     "name": "stdout",
     "output_type": "stream",
     "text": [
      "/home/rykachevskiy/CRISPR_research/data/environmental/m1//out/pairs/M1_AGTCAA_L001_R1_001.fastq.gz_pairs.txt\n"
     ]
    },
    {
     "name": "stderr",
     "output_type": "stream",
     "text": [
      "100%|██████████| 365/365 [00:00<00:00, 3397.15it/s]\n"
     ]
    },
    {
     "name": "stdout",
     "output_type": "stream",
     "text": [
      "calc embs\n",
      "/home/rykachevskiy/CRISPR_research/data/environmental/m2//out/pairs/M2_GTCCGC_L001_R1_001.fastq.gz_pairs.txt\n"
     ]
    },
    {
     "name": "stderr",
     "output_type": "stream",
     "text": [
      "100%|██████████| 1724/1724 [00:01<00:00, 1557.31it/s]\n"
     ]
    },
    {
     "name": "stdout",
     "output_type": "stream",
     "text": [
      "calc embs\n",
      "/home/rykachevskiy/CRISPR_research/data/environmental/m3//out/pairs/M3_GTGAAA_L001_R1_001.fastq.gz_pairs.txt\n"
     ]
    },
    {
     "name": "stderr",
     "output_type": "stream",
     "text": [
      "100%|██████████| 2466/2466 [00:01<00:00, 1234.74it/s]\n"
     ]
    },
    {
     "name": "stdout",
     "output_type": "stream",
     "text": [
      "calc embs\n"
     ]
    }
   ],
   "source": [
    "res_all = [process_path(x) for x in paths]"
   ]
  },
  {
   "cell_type": "code",
   "execution_count": 10,
   "metadata": {
    "collapsed": true
   },
   "outputs": [],
   "source": [
    "reads = [x[0] for x in res_all]\n",
    "grs = [x[1] for x in res_all]\n",
    "embs = [x[2] for x in res_all]"
   ]
  },
  {
   "cell_type": "code",
   "execution_count": null,
   "metadata": {
    "collapsed": true
   },
   "outputs": [],
   "source": []
  },
  {
   "cell_type": "code",
   "execution_count": 11,
   "metadata": {},
   "outputs": [
    {
     "name": "stdout",
     "output_type": "stream",
     "text": [
      "100\n",
      "100\n",
      "100\n",
      "200\n",
      "200\n",
      "200\n",
      "300\n",
      "400\n",
      "400\n",
      "500\n",
      "500\n",
      "500\n",
      "600\n",
      "700\n",
      "700\n"
     ]
    }
   ],
   "source": [
    "merged, old_to_new = merge_reads([x.index_to_cluster for x in reads], t = 5, v = 0)"
   ]
  },
  {
   "cell_type": "code",
   "execution_count": 12,
   "metadata": {},
   "outputs": [
    {
     "name": "stderr",
     "output_type": "stream",
     "text": [
      "100%|██████████| 252/252 [00:00<00:00, 13122.17it/s]\n",
      "100%|██████████| 498/498 [00:00<00:00, 6158.89it/s]\n",
      "100%|██████████| 578/578 [00:00<00:00, 5800.57it/s]\n"
     ]
    }
   ],
   "source": [
    "grs_m = [rearange(grs[i], old_to_new[i]) for i in range(3)]"
   ]
  },
  {
   "cell_type": "code",
   "execution_count": null,
   "metadata": {
    "collapsed": true
   },
   "outputs": [],
   "source": []
  },
  {
   "cell_type": "code",
   "execution_count": 39,
   "metadata": {},
   "outputs": [
    {
     "data": {
      "image/png": "[encoded data removed]",
      "text/plain": [
       "<matplotlib.figure.Figure at 0x7fc2790ab320>"
      ]
     },
     "metadata": {},
     "output_type": "display_data"
    }
   ],
   "source": [
    "cut = 100\n",
    "ca.plot_grs(grs_m[0][:cut, :cut],\n",
    "            grs_m[1][:cut, :cut],\n",
    "            grs_m[2][:cut, :cut],\n",
    "            log = 1, \n",
    "            s = 20)\n",
    "plt.show()"
   ]
  },
  {
   "cell_type": "code",
   "execution_count": 62,
   "metadata": {},
   "outputs": [
    {
     "data": {
      "text/plain": [
       "array([ 5174, 12163,  2098,  2436,  1758,  1603,  1707,  1804,  1286,\n",
       "        2410,  1007,    15,  1049,   692,   853,   730,   492,   612,\n",
       "         643,   240,   858,   718,   541,   496,    20,   651,   486,\n",
       "         406,   652,   249,   330,   277,   430,   340,   253,   206,\n",
       "         169,   193,   129,   212,   223,   149,   216,   232,   131,\n",
       "           5,   156,   167,    90,    78,   128,   149,   137,   243,\n",
       "          38,   158,   108,    89,   133,   170,   106,     6,   112,\n",
       "         109,    51,    69,    44,    76,    77,    66,    88,    18,\n",
       "           3,    63,   129,    65,     4,    47,    19,   127,    63,\n",
       "          61,    90,    66,    29,    45,    47,    76,    20,    24,\n",
       "          56,    41,    31,    77,    29,    32,    58,    35,    30,\n",
       "          57,     8,    25,     2,    32,    23,     4,    32,    40,\n",
       "          42,    50,    52,    43,    10,    25,     4,    14,    47,\n",
       "          27,    16,    46,    29,    29,    24,    45,    35,    13,\n",
       "          22,    15,    25,    25,    14,    17,    23,    22,    21,\n",
       "          22,    11,    18,    40,    46,    13,    17,    23,    15,\n",
       "          28,    25,    20,     3,    27,    43,    19,    38,    27,\n",
       "          26,    12,     5,    21,     1,    13,     3,    35,     5,\n",
       "          26,    14,    16,     3,     3,    19,    11,     8,    26,\n",
       "          15,    13,     6,    25,    14,    11,    22,    22,     7,\n",
       "          21,    20,    35,     9,    10,    18,    12,    13,     8,\n",
       "          16,    18,    18,    23,     8,     5,     8,    14,    13,\n",
       "          10,    14,    14,     9,    14,     8,     3,    14,    17,\n",
       "          10,    13,     9,    15,     9,     1,     0,     9,     2,\n",
       "           4,    18,     6,    16,    13,     1,     5,     9,    10,\n",
       "          14,    15,    12,     6,    11,     6,     1,     2,    18,\n",
       "           9,     1,     9,    14,     5,     1,     8,     9,    18,\n",
       "           4,     8,     5,     6,     1,     9,     4,     3,     6,\n",
       "           5,     7,    19,    13,     7,    15,    14,     5,    12,\n",
       "          12,     5,     4,     3,     0,     2,     4,     2,     5,\n",
       "          11,     4,     7,     2,     5,     4,    15,     8,     1,\n",
       "          12,     2,     2,     5,     4,     9,     0,     5,     5,\n",
       "           6,     8,    14,    10,     6,     4,     5,     0,     2,\n",
       "          12,     1,     1,     5,     1,     5,     0,     6,     2,\n",
       "           8,     4,     1,     4,     8,     6,     0,     2,     8,\n",
       "           6,     5,     5,     1,     1,     3,     9,     0,     0,\n",
       "           0,     6,     1,     3,     1,     0,     4,     7,     8,\n",
       "           5,     3,     9,     6,     0,     6,     2,     2,    10,\n",
       "           1,    10,     0,     1,     0,     5,     6,     0,     8,\n",
       "           1,     1,     2,     5,     3,     2,     5,     4,     0,\n",
       "           8,     1,     6,     4,    10,     4,     0,     1,     0,\n",
       "           0,     8,     9,     0,     0,     1,     1,     1,     2,\n",
       "           8,     6,     0,     0,     1,     0,     0,     4,     4,\n",
       "           6,     4,     3,     0,     0,     7,     4,     6,     2,\n",
       "           5,     7,     3,     4,     1,     0,     0,     0,     0,\n",
       "           0,     1,     0,     1,     1,     1,     0,     5,     1,\n",
       "           4,     0,     1,     0,     0,     6,     1,     0,     2,\n",
       "           0,     0,     5,     0,     1,     3,     0,     1,     0,\n",
       "           0,     0,     1,     0,     5,     0,     5,     1,     1,\n",
       "           1,     0,     5,     0,     4,     3,     1,     3,     0,\n",
       "           0,     0,     0,     0,     3,     3,     0,     0,     1,\n",
       "           6,     6,     1,     1,     0,     3,     0,     1,     0,\n",
       "           0,     0,     1,     1,     1,     0,     2,     1,     0,\n",
       "           5,     1,     1,     4,     4,     1,     3,     1,     6,\n",
       "           0,     0,     2,     0,     3,     0,     1,     0,     4,\n",
       "           1,     0,     0,     0])"
      ]
     },
     "execution_count": 62,
     "metadata": {},
     "output_type": "execute_result"
    }
   ],
   "source": [
    "grs[1].max(1)"
   ]
  },
  {
   "cell_type": "code",
   "execution_count": 61,
   "metadata": {},
   "outputs": [
    {
     "data": {
      "image/png": "[encoded data removed]",
      "text/plain": [
       "<matplotlib.figure.Figure at 0x7fc2799c4cf8>"
      ]
     },
     "metadata": {},
     "output_type": "display_data"
    }
   ],
   "source": [
    "plt.plot(np.log(grs[1].max(1) + 1))\n",
    "plt.show()"
   ]
  },
  {
   "cell_type": "code",
   "execution_count": null,
   "metadata": {
    "collapsed": true
   },
   "outputs": [],
   "source": []
  },
  {
   "cell_type": "code",
   "execution_count": 14,
   "metadata": {},
   "outputs": [
    {
     "data": {
      "text/plain": [
       "array([   7,   41,   14, 5174,   23,   16,   18,   10,   24,   12])"
      ]
     },
     "execution_count": 14,
     "metadata": {},
     "output_type": "execute_result"
    }
   ],
   "source": [
    "grs_m[1][0].astype(int)[:10]"
   ]
  },
  {
   "cell_type": "code",
   "execution_count": 15,
   "metadata": {},
   "outputs": [
    {
     "data": {
      "text/plain": [
       "array([  0,   2,   0, 353,   2,   3,   5,   2,   2,   0,   1,   0,   0,\n",
       "         6,   0,   0,   1,   1,   0,   2,   0,   1,   0,   0,   0,   1,\n",
       "         1,   1,   1,   0,   2,   0,   0,   0,   1,   0,   0,   0,   0,\n",
       "         0,   2,   0,   0,   0,   0,   1,   0,   0,   0,   0,   0,   0,\n",
       "         0,   0,   0,   0,   0,   1,   0,   0,   0,   0,   0,   0,   0,\n",
       "         0,   0,   0,   0,   0,   0,   0,   0,   0,   0,   0,   1,   0,\n",
       "         0,   0,   0,   0,   0,   1,   0,   0,   0,   0,   0,   0,   0,\n",
       "         0,   0,   1,   0,   0,   0,   0,   0,   0,   0,   0,   0,   1,\n",
       "         0,   0,   0,   0,   0,   0,   0,   0,   0,   0,   0,   0,   0,\n",
       "         0,   0,   1,   0,   0,   0,   0,   0,   0,   0,   0,   1,   0,\n",
       "         0,   0,   0,   0,   0,   0,   0,   0,   0,   0,   0,   0,   0,\n",
       "         0,   0,   0,   0,   0,   0,   0,   0,   0,   0,   0,   0,   0,\n",
       "         0,   0,   0,   1,   0,   0,   0,   0,   0,   0,   0,   0,   0,\n",
       "         0,   0,   0,   0,   0,   0,   1,   0,   0,   0,   0,   0,   0,\n",
       "         0,   0,   0,   0,   0,   0,   0,   0,   0,   0,   0,   0,   0,\n",
       "         0,   0,   0,   0,   0,   0,   0,   0,   0,   0,   0,   0,   0,\n",
       "         0,   0,   0,   0,   0,   0,   0,   0,   0,   0,   0,   0,   0,\n",
       "         0,   0,   0,   0,   0,   0,   0,   0,   0,   0,   0,   0,   0,\n",
       "         0,   0,   1,   0,   0,   0,   0,   0,   0,   0,   0,   0,   0,\n",
       "         0,   0,   0,   0,   0,   0,   0,   0,   0,   0,   0,   0,   0,\n",
       "         0,   0,   0,   0,   0,   0,   0,   0,   0,   0,   0,   0,   0,\n",
       "         0,   0,   0,   0,   0,   0,   0,   0,   0,   0,   0,   0,   0,\n",
       "         0,   0,   0,   0,   0,   0,   0,   0,   0,   0,   0,   0,   0,\n",
       "         0,   0,   0,   0,   0,   0,   0,   0,   0,   0,   0,   0,   0,\n",
       "         0,   0,   0,   0,   0,   0,   0,   0,   0,   0,   0,   0,   0,\n",
       "         0,   0,   0,   0,   0,   0,   0,   0,   0,   0,   0,   0,   0,\n",
       "         0,   0,   0,   0,   0,   0,   0,   0,   0,   0,   0])"
      ]
     },
     "execution_count": 15,
     "metadata": {},
     "output_type": "execute_result"
    }
   ],
   "source": [
    "grs_m[1][0].astype(int)"
   ]
  },
  {
   "cell_type": "code",
   "execution_count": 16,
   "metadata": {
    "collapsed": true
   },
   "outputs": [],
   "source": [
    "gb = pickle.load(open(\"./gb_rep_to_rep\", 'rb'))"
   ]
  },
  {
   "cell_type": "code",
   "execution_count": 22,
   "metadata": {
    "collapsed": true
   },
   "outputs": [],
   "source": [
    "preds = gb.predict_proba(embs[1])[:,1].reshape((grs[1].shape[0] - 1, grs[1].shape[1] - 1))"
   ]
  },
  {
   "cell_type": "code",
   "execution_count": 44,
   "metadata": {},
   "outputs": [
    {
     "data": {
      "text/plain": [
       "(253, 253)"
      ]
     },
     "execution_count": 44,
     "metadata": {},
     "output_type": "execute_result"
    }
   ],
   "source": [
    "grs[0].shape"
   ]
  },
  {
   "cell_type": "code",
   "execution_count": 25,
   "metadata": {
    "scrolled": false
   },
   "outputs": [
    {
     "data": {
      "image/png": "[encoded data removed]",
      "text/plain": [
       "<matplotlib.figure.Figure at 0x7fc279018588>"
      ]
     },
     "metadata": {},
     "output_type": "display_data"
    }
   ],
   "source": [
    "cut = 100\n",
    "ca.plot_grs(grs[1][:cut,:cut], preds[:cut,:cut] > 0.5, log =1, s = 20)"
   ]
  },
  {
   "cell_type": "code",
   "execution_count": 40,
   "metadata": {},
   "outputs": [
    {
     "data": {
      "text/plain": [
       "156"
      ]
     },
     "execution_count": 40,
     "metadata": {},
     "output_type": "execute_result"
    }
   ],
   "source": [
    "len(arrays)"
   ]
  },
  {
   "cell_type": "code",
   "execution_count": 42,
   "metadata": {},
   "outputs": [
    {
     "data": {
      "text/plain": [
       "46"
      ]
     },
     "execution_count": 42,
     "metadata": {},
     "output_type": "execute_result"
    }
   ],
   "source": [
    "len([x for x in arrays if len(x) > 3])"
   ]
  },
  {
   "cell_type": "code",
   "execution_count": 46,
   "metadata": {
    "collapsed": true,
    "scrolled": false
   },
   "outputs": [],
   "source": [
    "weights = ca.get_weights(grs[1], [x for x in arrays if len(x) > 3])"
   ]
  },
  {
   "cell_type": "code",
   "execution_count": 54,
   "metadata": {},
   "outputs": [
    {
     "data": {
      "image/png": "[encoded data removed]",
      "text/plain": [
       "<matplotlib.figure.Figure at 0x7fc279d1ff28>"
      ]
     },
     "metadata": {},
     "output_type": "display_data"
    }
   ],
   "source": [
    "plt.hist(np.log([np.median(x) + 1 for x in weights]), bins = 100)\n",
    "plt.show()"
   ]
  },
  {
   "cell_type": "code",
   "execution_count": 55,
   "metadata": {},
   "outputs": [
    {
     "data": {
      "text/plain": [
       "[628.5,\n",
       " 414.0,\n",
       " 1604.0,\n",
       " 31.0,\n",
       " 22.0,\n",
       " 25.0,\n",
       " 157.0,\n",
       " 150.0,\n",
       " 44.0,\n",
       " 10.0,\n",
       " 77.0,\n",
       " 14.5,\n",
       " 16.0,\n",
       " 44.0,\n",
       " 13.0,\n",
       " 24.0,\n",
       " 14.0,\n",
       " 13.5,\n",
       " 11.0,\n",
       " 110.0,\n",
       " 12.0,\n",
       " 16.0,\n",
       " 19.0,\n",
       " 7.0,\n",
       " 9.0,\n",
       " 5.0,\n",
       " 11.0,\n",
       " 7.0,\n",
       " 12.0,\n",
       " 6.0,\n",
       " 26.0,\n",
       " 5.0,\n",
       " 6.0,\n",
       " 29.5,\n",
       " 7.0,\n",
       " 7.0,\n",
       " 10.0,\n",
       " 7.0,\n",
       " 7.0,\n",
       " 6.0,\n",
       " 8.0,\n",
       " 3.0,\n",
       " 8.0,\n",
       " 5.0,\n",
       " 5.0,\n",
       " 4.0]"
      ]
     },
     "execution_count": 55,
     "metadata": {},
     "output_type": "execute_result"
    }
   ],
   "source": [
    "[np.median(x) + 1 for x in weights]"
   ]
  },
  {
   "cell_type": "code",
   "execution_count": null,
   "metadata": {
    "collapsed": true
   },
   "outputs": [],
   "source": []
  },
  {
   "cell_type": "code",
   "execution_count": 28,
   "metadata": {
    "collapsed": true
   },
   "outputs": [],
   "source": [
    "arrays = ca.restore_arrays_all(preds > 0.5)"
   ]
  },
  {
   "cell_type": "code",
   "execution_count": 36,
   "metadata": {
    "collapsed": true
   },
   "outputs": [],
   "source": [
    "arrays_sp = [[reads[1].index_to_cluster[x] for x in y] for y in arrays]"
   ]
  },
  {
   "cell_type": "code",
   "execution_count": null,
   "metadata": {
    "collapsed": true
   },
   "outputs": [],
   "source": []
  },
  {
   "cell_type": "code",
   "execution_count": 38,
   "metadata": {
    "collapsed": true
   },
   "outputs": [],
   "source": [
    "ca.write_list_of_lists(\"./arrays_sp_mammonth\", arrays_sp)"
   ]
  },
  {
   "cell_type": "code",
   "execution_count": null,
   "metadata": {
    "collapsed": true
   },
   "outputs": [],
   "source": []
  }
 ],
 "metadata": {
  "kernelspec": {
   "display_name": "Python 3",
   "language": "python",
   "name": "python3"
  },
  "language_info": {
   "codemirror_mode": {
    "name": "ipython",
    "version": 3
   },
   "file_extension": ".py",
   "mimetype": "text/x-python",
   "name": "python",
   "nbconvert_exporter": "python",
   "pygments_lexer": "ipython3",
   "version": "3.6.3"
  }
 },
 "nbformat": 4,
 "nbformat_minor": 2
}
