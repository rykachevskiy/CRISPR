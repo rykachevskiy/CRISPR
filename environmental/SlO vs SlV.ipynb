{
 "cells": [
  {
   "cell_type": "code",
   "execution_count": 1,
   "metadata": {
    "collapsed": true
   },
   "outputs": [],
   "source": [
    "import crispr_assembler as ca\n",
    "import pandas as pd\n",
    "import numpy as np\n",
    "import matplotlib.pyplot as plt\n",
    "import os\n",
    "import tqdm\n",
    "\n",
    "%load_ext autoreload\n",
    "%autoreload 2\n",
    "\n",
    "import pickle"
   ]
  },
  {
   "cell_type": "code",
   "execution_count": 75,
   "metadata": {},
   "outputs": [
    {
     "data": {
      "text/html": [
       "<style>.container { width:100% !important; }</style>"
      ],
      "text/plain": [
       "<IPython.core.display.HTML object>"
      ]
     },
     "metadata": {},
     "output_type": "display_data"
    }
   ],
   "source": [
    "from IPython.core.display import display, HTML\n",
    "display(HTML(\"<style>.container { width:100% !important; }</style>\"))"
   ]
  },
  {
   "cell_type": "code",
   "execution_count": 2,
   "metadata": {
    "collapsed": true
   },
   "outputs": [],
   "source": [
    "def process_path(path, cut = -1, save = 1):\n",
    "    pairs_path = path + \"/out/pairs/\"\n",
    "    files = sorted(os.listdir(pairs_path))\n",
    "    \n",
    "    print(pairs_path + files[0])\n",
    "    \n",
    "    read = ca.Read(pairs_path + files[0])\n",
    "    read.correct_errors(minimum_occurences=5)\n",
    "    gr = read.graph_from_pairs()[0]\n",
    "    \n",
    "    print('calc embs')\n",
    "    ec = ca.EmbeddingsCalculator()\n",
    "    ec.make_argsorts(gr[:cut, :cut])\n",
    "    embs = ec.fit_predict(gr[:cut, :cut], njobs=32)\n",
    "    \n",
    "    if save:\n",
    "        pickle.dump(read, open(path + \"/read\", 'wb'))\n",
    "        np.save(path + \"/graph\", gr)\n",
    "        np.save(path + \"/embs\", embs)\n",
    "        \n",
    "    return read, gr, embs"
   ]
  },
  {
   "cell_type": "code",
   "execution_count": 12,
   "metadata": {
    "collapsed": true
   },
   "outputs": [],
   "source": [
    "def load(path):\n",
    "    return pickle.load(open(path + \"/read\", 'rb')), np.load(path + \"/graph.npy\"), np.load(path + \"/embs.npy\")"
   ]
  },
  {
   "cell_type": "code",
   "execution_count": null,
   "metadata": {
    "collapsed": true
   },
   "outputs": [],
   "source": []
  },
  {
   "cell_type": "code",
   "execution_count": 4,
   "metadata": {
    "collapsed": true
   },
   "outputs": [],
   "source": [
    "def unwrap_idx_to_spacer(idx_to_spacer):\n",
    "    values_as_list = []\n",
    "    for i in range(len(idx_to_spacer)):\n",
    "        values_as_list.append(idx_to_spacer[i])\n",
    "    return values_as_list"
   ]
  },
  {
   "cell_type": "code",
   "execution_count": 5,
   "metadata": {
    "collapsed": true
   },
   "outputs": [],
   "source": [
    "def continue_steps(reads, pointers):\n",
    "    return any([pointers[i] < len(reads[i]) for i in range(len(reads))])"
   ]
  },
  {
   "cell_type": "code",
   "execution_count": 6,
   "metadata": {
    "collapsed": true
   },
   "outputs": [],
   "source": [
    "def merge_reads(reads, t=1, v = 1):\n",
    "    spacers_lists = [unwrap_idx_to_spacer(x) for x in reads]#[unwrap_idx_to_spacer(x.index_to_cluster) for x in reads]\n",
    "    pointers = [0 for i in range(len(reads))]\n",
    "    merged_sp_to_idxes = {}\n",
    "    old_idx_to_new_idx = [{} for i in range(len(reads))]\n",
    "    \n",
    "    curr = 0\n",
    "    while continue_steps(spacers_lists, pointers):\n",
    "        for i in range(len(reads)):\n",
    "            if pointers[i] < len(reads[i]):\n",
    "                spacer = spacers_lists[i][pointers[i]]\n",
    "                \n",
    "                dist, closest = ca.find_closest(merged_sp_to_idxes, spacer)\n",
    "                if dist > t:\n",
    "                    merged_sp_to_idxes[spacer] = curr\n",
    "                    #new_sp_to_ids[i][spacer] = curr\n",
    "                    old_idx_to_new_idx[i][pointers[i]] = curr\n",
    "                    curr += 1\n",
    "                else:\n",
    "                    old_idx_to_new_idx[i][pointers[i]] = merged_sp_to_idxes[closest]\n",
    "                \n",
    "                pointers[i] += 1\n",
    "                \n",
    "                if curr % 100 == 0:\n",
    "                    print(curr)\n",
    "                \n",
    "\n",
    "                if v:\n",
    "                    print(i, pointers[i], spacer, dist, merged_sp_to_idxes)#, new_sp_to_ids[1])\n",
    "                    \n",
    "    return merged_sp_to_idxes,  old_idx_to_new_idx"
   ]
  },
  {
   "cell_type": "code",
   "execution_count": null,
   "metadata": {
    "collapsed": true
   },
   "outputs": [],
   "source": []
  },
  {
   "cell_type": "code",
   "execution_count": 7,
   "metadata": {
    "collapsed": true
   },
   "outputs": [],
   "source": [
    "def rearange(gr, order):\n",
    "    new_gr = np.zeros((max(order.values()) + 1, max(order.values()) + 1))\n",
    "\n",
    "    for i in tqdm.tqdm(range(len(order.keys()))):\n",
    "        for j in range(len(order.keys())):\n",
    "            new_gr[order[i], order[j]] = gr[i, j]\n",
    "\n",
    "    return new_gr"
   ]
  },
  {
   "cell_type": "code",
   "execution_count": null,
   "metadata": {
    "collapsed": true
   },
   "outputs": [],
   "source": []
  },
  {
   "cell_type": "code",
   "execution_count": null,
   "metadata": {
    "collapsed": true
   },
   "outputs": [],
   "source": []
  },
  {
   "cell_type": "code",
   "execution_count": 105,
   "metadata": {
    "collapsed": true
   },
   "outputs": [],
   "source": [
    "path_slv = '/home/rykachevskiy/CRISPR_research/data/environmental/slv2/'\n",
    "path_slo = '/home/rykachevskiy/CRISPR_research/data/environmental/os1/'"
   ]
  },
  {
   "cell_type": "code",
   "execution_count": 106,
   "metadata": {},
   "outputs": [],
   "source": [
    "read_o, gr_o, embs_o = load(path_slo)\n",
    "read_v, gr_v, embs_v = load(path_slv)"
   ]
  },
  {
   "cell_type": "code",
   "execution_count": 107,
   "metadata": {},
   "outputs": [],
   "source": [
    "gb = pickle.load(open(\"./gb_rep_to_rep\", 'rb'))"
   ]
  },
  {
   "cell_type": "code",
   "execution_count": 108,
   "metadata": {},
   "outputs": [
    {
     "data": {
      "image/png": "[encoded data removed]",
      "text/plain": [
       "<matplotlib.figure.Figure at 0x7f01ab77b780>"
      ]
     },
     "metadata": {},
     "output_type": "display_data"
    }
   ],
   "source": [
    "cut = 50\n",
    "ca.plot_grs(gr_o[:cut, :cut], gr_v[:cut, :cut], log =1, s = 20)"
   ]
  },
  {
   "cell_type": "code",
   "execution_count": 109,
   "metadata": {},
   "outputs": [],
   "source": [
    "#pred_o = gb.predict(embs_o).reshape(gr_o.shape[0] - 1, gr_o.shape[1] - 1)\n",
    "\n",
    "arrays_o = ca.restore_arrays_greedy(gr_o, 2)[0]\n",
    "pred_o = ca.graph_from_arrays(arrays_o)[0]\n",
    "\n",
    "pred_v = gb.predict(embs_v).reshape(gr_v.shape[0] - 1, gr_v.shape[1] - 1)\n",
    "arrays_v = ca.restore_arrays_all(pred_v)"
   ]
  },
  {
   "cell_type": "code",
   "execution_count": 110,
   "metadata": {},
   "outputs": [
    {
     "data": {
      "image/png": "[encoded data removed]",
      "text/plain": [
       "<matplotlib.figure.Figure at 0x7f01ab77bc50>"
      ]
     },
     "metadata": {},
     "output_type": "display_data"
    }
   ],
   "source": [
    "cut = 50\n",
    "ca.plot_grs(gr_o[:cut, :cut], pred_o[:cut, :cut], log =1, s = 20)"
   ]
  },
  {
   "cell_type": "code",
   "execution_count": 111,
   "metadata": {
    "scrolled": false
   },
   "outputs": [
    {
     "data": {
      "image/png": "[encoded data removed]",
      "text/plain": [
       "<matplotlib.figure.Figure at 0x7f01aa672748>"
      ]
     },
     "metadata": {},
     "output_type": "display_data"
    }
   ],
   "source": [
    "cut = 50\n",
    "ca.plot_grs(gr_v[:cut, :cut], pred_v[:cut, :cut], log =1, s = 20)"
   ]
  },
  {
   "cell_type": "code",
   "execution_count": 112,
   "metadata": {
    "collapsed": true
   },
   "outputs": [],
   "source": [
    "arrays_v_f = np.array([x for x in arrays_v if len(x) > 2])\n",
    "arrays_o_f = np.array([x for x in arrays_o if len(x) > 2])"
   ]
  },
  {
   "cell_type": "code",
   "execution_count": 113,
   "metadata": {
    "collapsed": true
   },
   "outputs": [],
   "source": [
    "mask_v = np.array([np.median(x) > 10 for x in ca.get_weights(gr_v, arrays_v_f)])\n",
    "mask_o = np.array([np.median(x) > 10 for x in ca.get_weights(gr_o, arrays_o_f)])"
   ]
  },
  {
   "cell_type": "code",
   "execution_count": 114,
   "metadata": {
    "collapsed": true
   },
   "outputs": [],
   "source": [
    "arrays_v_f = arrays_v_f[mask_v]\n",
    "arrays_o_f = arrays_o_f[mask_o]"
   ]
  },
  {
   "cell_type": "code",
   "execution_count": 115,
   "metadata": {},
   "outputs": [
    {
     "data": {
      "text/plain": [
       "17"
      ]
     },
     "execution_count": 115,
     "metadata": {},
     "output_type": "execute_result"
    }
   ],
   "source": [
    "len(arrays_v_f)"
   ]
  },
  {
   "cell_type": "code",
   "execution_count": 116,
   "metadata": {},
   "outputs": [
    {
     "data": {
      "text/plain": [
       "28"
      ]
     },
     "execution_count": 116,
     "metadata": {},
     "output_type": "execute_result"
    }
   ],
   "source": [
    "len(arrays_o_f)"
   ]
  },
  {
   "cell_type": "code",
   "execution_count": 117,
   "metadata": {
    "scrolled": true
   },
   "outputs": [
    {
     "name": "stderr",
     "output_type": "stream",
     "text": [
      "100%|██████████| 28/28 [00:00<00:00, 213.31it/s]\n"
     ]
    }
   ],
   "source": [
    "arrrays_ov_f = ca.multiple_arrays_to_ids(\n",
    "    dict(zip(np.arange(len(arrays_o_f)), [[read_o.index_to_cluster[x] for x in y] for y in arrays_o_f])),\n",
    "    read_v.cluster_to_index)[0]"
   ]
  },
  {
   "cell_type": "code",
   "execution_count": null,
   "metadata": {
    "collapsed": true
   },
   "outputs": [],
   "source": []
  },
  {
   "cell_type": "code",
   "execution_count": 118,
   "metadata": {},
   "outputs": [
    {
     "name": "stdout",
     "output_type": "stream",
     "text": [
      "O in V 0\n",
      " 153 162 141 10  4   141 8   2   3   235\n",
      " -   -   -   -   -   -   8   2   3   -  \n",
      "____________________________\n",
      "O in V 1\n",
      " -   88  61  31  112 24  18  22  42  32  15  49  72  68  77  54  47  45  62  84  83  87  7   9   51  29  12  14  48  20  19  21  39  59 \n",
      " -   -   -   -   -   -   -   -   -   -   -   -   -   -   -   -   -   -   -   -   -   -   7   9   51  29  12  14  48  20  19  21  39  59 \n",
      " -   -   -   -   -   24  18  22  42  32  15  49  72  68  77  54  47  45  62  84  -   -   -   -   -   -   -   -   -   -   -   -   -   -  \n",
      " 83  88  61  31  -   -   -   -   -   -   -   -   -   -   -   -   -   -   -   -   -   -   -   -   -   -   -   -   -   -   -   -   -   -  \n",
      " -   -   -   -   -   -   -   -   -   -   -   -   -   105 66  92  47  45  62  84  -   -   -   -   -   -   -   -   -   -   -   -   -   -  \n",
      "____________________________\n",
      "O in V 2\n",
      " 95  36  16  6   5   13  70 \n",
      " -   36  16  6   5   13  70  107\n",
      "____________________________\n",
      "O in V 3\n",
      " 34  25  69 \n",
      " 34  25  69 \n",
      "____________________________\n",
      "O in V 4\n",
      " 119 287 283 282 244 208 185 264 50  32  148 67  46  152 54  45  27  110\n",
      "____________________________\n",
      "O in V 5\n",
      " 17  0   1   11 \n",
      " 17  0   1   11 \n",
      "____________________________\n",
      "O in V 6\n",
      " 155 167 163 185 190 201 172 65 \n",
      "____________________________\n",
      "O in V 7\n",
      " 33  38  40  118\n",
      " 33  38  40  118\n",
      "____________________________\n",
      "O in V 8\n",
      " 88  163 199 133 288\n",
      "____________________________\n",
      "O in V 9\n",
      " 58  26  35  71  121\n",
      " 58  26  35  71  121 79  44  64  104\n",
      "____________________________\n",
      "O in V 10\n",
      " -   -   -   -   -   79  44  64  104\n",
      " 58  26  35  71  121 79  44  64  104\n",
      "____________________________\n",
      "O in V 11\n",
      " 197 126 94  158 150 170\n",
      " -   126 94  113 124 91  114\n",
      "____________________________\n",
      "O in V 12\n",
      " 85  80  53  74  98  28  30  43  46  37  60  102 106\n",
      " -   80  53  74  98  28  30  43  46  37  60  -   -  \n",
      " -   -   -   -   -   -   -   -   -   -   -   102 106 108 86  57 \n",
      "____________________________\n",
      "O in V 13\n",
      " 196 110 117 61  263 230 175 129 216 157\n",
      "____________________________\n",
      "O in V 14\n",
      " -   -   108 86  57  75  82  97  55  23  41  78  73  56  120 117 123\n",
      " -   -   -   -   -   75  82  97  55  23  41  78  73  56  81  63  89  100\n",
      " -   -   -   -   -   75  82  97  55  23  41  78  73  56  120 117 123 170 157 210\n",
      " 102 106 108 86  57  -   -   -   -   -   -   -   -   -   -   -   -  \n",
      "____________________________\n",
      "O in V 15\n",
      " 105 66  92 \n",
      " 105 66  92  47  45  62  84 \n",
      "____________________________\n",
      "O in V 16\n",
      " 153 260 103 32 \n",
      "____________________________\n",
      "O in V 17\n",
      " 32  49  45  272 10 \n",
      "____________________________\n",
      "O in V 18\n",
      " 79  180 98  140\n",
      "____________________________\n",
      "O in V 19\n",
      " 256 282 64  6   84  288 56  269 237\n",
      "____________________________\n",
      "O in V 20\n",
      " 67  27  52 \n",
      "____________________________\n",
      "O in V 21\n",
      " 117 18  6   106\n",
      "____________________________\n",
      "O in V 22\n",
      " 189 75  210\n",
      "____________________________\n",
      "O in V 23\n",
      " 67  222 220\n",
      "____________________________\n",
      "O in V 24\n",
      " 137 229 190 275 201 0  \n",
      "____________________________\n",
      "O in V 25\n",
      " 263 248 158 87 \n",
      "____________________________\n",
      "O in V 26\n",
      " -   -   -   124 91  114\n",
      " 126 94  113 124 91  114\n",
      "____________________________\n",
      "O in V 27\n",
      " -   -   -   -   -   -   -   -   -   81  63  89  100\n",
      " 75  82  97  55  23  41  78  73  56  81  63  89  100\n",
      "____________________________\n",
      "O in V 28\n",
      " 146 135 146\n",
      "____________________________\n",
      "O in V 29\n",
      " 35  40  70  258\n",
      "____________________________\n",
      "O in V 30\n",
      " 9   178 273\n",
      "____________________________\n",
      "O in V 31\n",
      " 19  189 168 252 166\n",
      "____________________________\n",
      "O in V 32\n",
      " 108 48  50 \n",
      "____________________________\n",
      "O in V 33\n",
      " 208 145 40  60 \n",
      "____________________________\n",
      "O in V 34\n",
      " 231 229 203\n",
      "____________________________\n",
      "O in V 35\n",
      " 225 61  199\n",
      "____________________________\n",
      "O in V 36\n",
      " 16  227 259\n",
      "____________________________\n",
      "O in V 37\n",
      " 237 143 259\n",
      "____________________________\n",
      "O in V 38\n",
      " 128 196 119\n",
      "____________________________\n",
      "O in V 39\n",
      " 141 115 150\n",
      " 141 115 150\n",
      "____________________________\n",
      "O in V 40\n",
      " 137 140 160\n",
      "____________________________\n",
      "O in V 41\n",
      " 159 122 133\n",
      "____________________________\n",
      "O in V 42\n",
      " 184 150 32 \n",
      "____________________________\n",
      "O in V 43\n",
      " 91  92  48 \n",
      "____________________________\n",
      "O in V 44\n",
      " 111 110 109\n",
      "____________________________\n",
      "O in V 45\n",
      " 235 84  12 \n",
      "____________________________\n",
      "O in V 46\n",
      " 8   225 254\n",
      "____________________________\n",
      "O in V 47\n",
      " 173 158 225\n",
      "____________________________\n",
      "O in V 48\n",
      " 171 148 179\n",
      "____________________________\n",
      "O in V 49\n",
      " 142 152 180\n",
      "____________________________\n",
      "O in V 50\n",
      " 222 139 244\n",
      "____________________________\n"
     ]
    }
   ],
   "source": [
    "for idx in range(len(arrays_ov_f)):\n",
    "    print(\"O in V\", idx)\n",
    "    for x in ca.print_alignments(ca.water_alignments(arrays_ov_f[idx], arrays_v_f),arrays_ov_f[idx]):\n",
    "        print(x)\n",
    "    print('____________________________')"
   ]
  },
  {
   "cell_type": "code",
   "execution_count": 119,
   "metadata": {},
   "outputs": [
    {
     "name": "stdout",
     "output_type": "stream",
     "text": [
      "V in O 0\n",
      " -   -   -   -   -   -   -   -   -   -   -   -   -   -   -   -   -   -   -   -   -   7   9   51  29  12  14  48  20  19  21  39  59 \n",
      " 88  61  31  112 24  18  22  42  32  15  49  72  68  77  54  47  45  62  84  83  87  7   9   51  29  12  14  48  20  19  21  39  59 \n",
      "____________________________\n",
      "V in O 1\n",
      " -   -   -   -   -   -   8   2   3  \n",
      " 153 162 141 10  4   141 8   2   3   235\n",
      "____________________________\n",
      "V in O 2\n",
      " 17  0   1   11 \n",
      " 17  0   1   11 \n",
      "____________________________\n",
      "V in O 3\n",
      " -   -   -   -   24  18  22  42  32  15  49  72  68  77  54  47  45  62  84 \n",
      " 88  61  31  112 24  18  22  42  32  15  49  72  68  77  54  47  45  62  84  83  87  7   9   51  29  12  14  48  20  19  21  39  59 \n",
      "____________________________\n",
      "V in O 4\n",
      " 33  38  40  118\n",
      " 33  38  40  118\n",
      "____________________________\n",
      "V in O 5\n",
      " 34  25  69 \n",
      " 34  25  69 \n",
      "____________________________\n",
      "V in O 6\n",
      " -   36  16  6   5   13  70  107\n",
      " 95  36  16  6   5   13  70  -  \n",
      "____________________________\n",
      "V in O 7\n",
      " 58  26  35  71  121 79  44  64  104\n",
      " 58  26  35  71  121 -   -   -   -  \n",
      " -   -   -   -   -   79  44  64  104\n",
      "____________________________\n",
      "V in O 8\n",
      " -   -   -   75  82  97  55  23  41  78  73  56  81  63  89  100\n",
      " 108 86  57  75  82  97  55  23  41  78  73  56  120 117 123 -  \n",
      " -   -   -   -   -   -   -   -   -   -   -   -   81  63  89  100\n",
      "____________________________\n",
      "V in O 9\n",
      " -   -   -   75  82  97  55  23  41  78  73  56  120 117 123 170 157 210\n",
      " 108 86  57  75  82  97  55  23  41  78  73  56  120 117 123 -   -   -  \n",
      "____________________________\n",
      "V in O 10\n",
      " -   80  53  74  98  28  30  43  46  37  60 \n",
      " 85  80  53  74  98  28  30  43  46  37  60  102 106\n",
      "____________________________\n",
      "V in O 11\n",
      " 83  88  61  31 \n",
      " -   88  61  31  112 24  18  22  42  32  15  49  72  68  77  54  47  45  62  84  83  87  7   9   51  29  12  14  48  20  19  21  39  59 \n",
      "____________________________\n",
      "V in O 12\n",
      " 90  99  96  103 125 101\n",
      "____________________________\n",
      "V in O 13\n",
      " -   -   -   -   -   -   -   -   -   -   -   102 106 108 86  57 \n",
      " 85  80  53  74  98  28  30  43  46  37  60  102 106 -   -   -  \n",
      " -   -   -   -   -   -   -   -   -   -   -   -   -   108 86  57  75  82  97  55  23  41  78  73  56  120 117 123\n",
      "____________________________\n",
      "V in O 14\n",
      " -   -   -   -   -   -   -   -   -   -   -   -   105 66  92  47  45  62  84 \n",
      " 88  61  31  112 24  18  22  42  32  15  49  72  68  77  54  47  45  62  84  83  87  7   9   51  29  12  14  48  20  19  21  39  59 \n",
      " -   -   -   -   -   -   -   -   -   -   -   -   105 66  92  -   -   -   -  \n",
      "____________________________\n",
      "V in O 15\n",
      " -   126 94  113 124 91  114\n",
      " 197 126 94  158 150 170 -  \n",
      " -   -   -   -   124 91  114\n",
      "____________________________\n",
      "V in O 16\n",
      " 141 115 150\n",
      " 141 115 150\n",
      "____________________________\n"
     ]
    }
   ],
   "source": [
    "for idx in range(len(arrays_v_f)):\n",
    "    print(\"V in O\", idx)\n",
    "    for x in ca.print_alignments(ca.water_alignments(arrays_v_f[idx], arrays_ov_f),arrays_v_f[idx]):\n",
    "        print(x)\n",
    "    print('____________________________')"
   ]
  },
  {
   "cell_type": "code",
   "execution_count": null,
   "metadata": {
    "collapsed": true
   },
   "outputs": [],
   "source": []
  }
 ],
 "metadata": {
  "kernelspec": {
   "display_name": "Python 3",
   "language": "python",
   "name": "python3"
  },
  "language_info": {
   "codemirror_mode": {
    "name": "ipython",
    "version": 3
   },
   "file_extension": ".py",
   "mimetype": "text/x-python",
   "name": "python",
   "nbconvert_exporter": "python",
   "pygments_lexer": "ipython3",
   "version": "3.6.3"
  }
 },
 "nbformat": 4,
 "nbformat_minor": 2
}
