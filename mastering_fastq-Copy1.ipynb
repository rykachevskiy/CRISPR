{
 "cells": [
  {
   "cell_type": "code",
   "execution_count": 46,
   "metadata": {},
   "outputs": [],
   "source": [
    "import numpy as np\n",
    "import matplotlib.pyplot as plt\n"
   ]
  },
  {
   "cell_type": "code",
   "execution_count": 47,
   "metadata": {},
   "outputs": [],
   "source": [
    "from tqdm import tqdm_notebook\n",
    "import regex as re\n",
    "\n",
    "import os"
   ]
  },
  {
   "cell_type": "code",
   "execution_count": 48,
   "metadata": {},
   "outputs": [],
   "source": [
    "IUPAC_WILDCARDS = {\n",
    "    \"W\" : \"AT\",\n",
    "    \"S\" : \"CG\",\n",
    "    \"M\" : \"AC\",\n",
    "    \"K\" : \"GT\",\n",
    "    \"R\" : \"AG\",\n",
    "    \"Y\" : \"CT\",\n",
    "    \"B\" : \"CGT\",\n",
    "    \"D\" : \"AGT\",\n",
    "    \"H\" : \"ACT\",\n",
    "    \"V\" : \"ACG\",\n",
    "    \"N\" : \"ACGT\",\n",
    "}"
   ]
  },
  {
   "cell_type": "code",
   "execution_count": 49,
   "metadata": {},
   "outputs": [],
   "source": [
    "reverse = {\n",
    "    \"W\" : \"W\",\n",
    "    \"S\" : \"S\",\n",
    "    \"M\" : \"K\",\n",
    "    \"K\" : \"M\",\n",
    "    \"R\" : \"Y\",\n",
    "    \"Y\" : \"R\",\n",
    "    \"B\" : \"V\",\n",
    "    \"D\" : \"H\",\n",
    "    \"H\" : \"D\",\n",
    "    \"V\" : \"B\",\n",
    "    \"N\" : \"N\",\n",
    "    \"A\" : \"T\",\n",
    "    \"C\" : \"G\", \n",
    "    \"T\" : \"A\",\n",
    "    \"G\" : \"C\",\n",
    "    \"(\" : \"(\",\n",
    "    \")\" : \")\"\n",
    "}"
   ]
  },
  {
   "cell_type": "code",
   "execution_count": 50,
   "metadata": {},
   "outputs": [],
   "source": [
    "def rc(x, reverse = reverse, r=0):\n",
    "    d = dict(zip(reverse.keys(), reverse.values()))\n",
    "    if r:\n",
    "        d[\"(\"] = \")\"\n",
    "        d[\")\"] = \"(\"\n",
    "        return ''.join([d[y] for y in x][::-1])\n",
    "    else:\n",
    "        return ''.join([d[y] for y in x])"
   ]
  },
  {
   "cell_type": "code",
   "execution_count": 51,
   "metadata": {},
   "outputs": [],
   "source": [
    "def read_fastq(path):\n",
    "    with open(path) as f:\n",
    "        lines = f.readlines()\n",
    "    \n",
    "    reads = [x[:-1] for x in lines[1::4]]\n",
    "    qualities = [x[:-1] for x in lines[3::4]]\n",
    "    \n",
    "    return reads, qualities"
   ]
  },
  {
   "cell_type": "code",
   "execution_count": 52,
   "metadata": {},
   "outputs": [],
   "source": [
    "def repeat_to_re_pattern(repeat, e=2, d = IUPAC_WILDCARDS):\n",
    "    re_pattern = \"(\"\n",
    "    for char in repeat:\n",
    "        if char not in d.keys() and char != '(' and char != ')':\n",
    "            re_pattern += char\n",
    "        elif char in d.keys():\n",
    "            re_pattern += \"[\" +  \"|\".join(d[char]) + \"]\"\n",
    "    \n",
    "    re_pattern += \"){e<=\" + str(e) + \"}\"\n",
    "    return re_pattern"
   ]
  },
  {
   "cell_type": "code",
   "execution_count": 53,
   "metadata": {},
   "outputs": [],
   "source": [
    "def find(repeat, read, e = 2):\n",
    "    p_str = repeat_to_re_pattern(repeat,e=e)\n",
    "    p = re.compile(p_str)\n",
    "   \n",
    "    return [x.span() for x in re.finditer(p, read)]"
   ]
  },
  {
   "cell_type": "code",
   "execution_count": 54,
   "metadata": {},
   "outputs": [],
   "source": [
    "def split_read(read, quality, repeat, repeat_s, repeat_e, e=2, v=0):\n",
    "    repeat_pos = find(repeat, read, e)\n",
    "    \n",
    "    if v: print(repeat_pos)\n",
    "    if len(repeat_pos) == 0:\n",
    "        return [-1, -1], [-1, -1]\n",
    "\n",
    "    else:\n",
    "        repeat_pos = repeat_pos[0]\n",
    "        read_left = read[:repeat_pos[0]]\n",
    "        q_left = quality[:repeat_pos[0]]\n",
    "        \n",
    "        read_right = read[repeat_pos[1]:]\n",
    "        q_right = quality[repeat_pos[1]:]\n",
    "        \n",
    "        \n",
    "        repeat_pos_l = find(repeat_e, read_left, e)\n",
    "        if v: print(repeat_pos_l)\n",
    "        if len(repeat_pos_l) == 0:\n",
    "            left_spacer = -1\n",
    "            left_sp_q = -1\n",
    "        else:\n",
    "            left_spacer = read_left[repeat_pos_l[0][1]:]\n",
    "            left_sp_q = q_left[repeat_pos_l[0][1]:]\n",
    "            \n",
    "        \n",
    "        repeat_pos_r = find(repeat_s, read_right, e)\n",
    "        if v: print(repeat_pos_r)\n",
    "        if len(repeat_pos_r) == 0:\n",
    "            right_spacer = -1\n",
    "            right_sp_q = -1\n",
    "        else:\n",
    "            right_spacer = read_right[:repeat_pos_r[0][0]]\n",
    "            right_sp_q = q_right[:repeat_pos_r[0][0]]\n",
    "            \n",
    "        if left_spacer != -1 and len(left_spacer) <= 10:\n",
    "            left_spacer = -1\n",
    "        if right_spacer != -1 and len(right_spacer) <= 10:\n",
    "            right_spacer = -1\n",
    "        \n",
    "        return [left_spacer, right_spacer], [left_sp_q, right_sp_q]"
   ]
  },
  {
   "cell_type": "code",
   "execution_count": 55,
   "metadata": {},
   "outputs": [],
   "source": [
    "quality_symbols1 = r'!\"#$%&' \n",
    "quality_symbols2 = \"'()*+,-./0123456789:;<=>?@ABCDEFGHIJKLMNOPQRSTUVWXYZ[\\]^_`abcdefghijklmnopqrstuvwxyz{|}~\""
   ]
  },
  {
   "cell_type": "code",
   "execution_count": null,
   "metadata": {},
   "outputs": [],
   "source": []
  },
  {
   "cell_type": "code",
   "execution_count": 56,
   "metadata": {},
   "outputs": [],
   "source": [
    "quality_dict = {}\n",
    "quality_dict_r = {}\n",
    "for i, char in enumerate(quality_symbols1 + quality_symbols2):\n",
    "    quality_dict[char] = i\n",
    "    quality_dict_r[i] = char"
   ]
  },
  {
   "cell_type": "code",
   "execution_count": 57,
   "metadata": {},
   "outputs": [],
   "source": [
    "get_quality = lambda x: quality_dict[x]"
   ]
  },
  {
   "cell_type": "code",
   "execution_count": 58,
   "metadata": {},
   "outputs": [],
   "source": [
    "def get_lowest_q(pair_q, gq = get_quality):\n",
    "    return quality_dict[min(pair_q[0] + pair_q[1], key=gq)]"
   ]
  },
  {
   "cell_type": "code",
   "execution_count": 59,
   "metadata": {},
   "outputs": [],
   "source": [
    "def save_pairs(path, name, pairs):\n",
    "    name = name.split(\".\")[0]\n",
    "    with open(path + name, 'w') as f:\n",
    "        for p in pairs:\n",
    "            f.write(\"\\t\".join(p))\n",
    "            f.write(\"\\n\")\n",
    "            "
   ]
  },
  {
   "cell_type": "code",
   "execution_count": null,
   "metadata": {},
   "outputs": [],
   "source": []
  },
  {
   "cell_type": "code",
   "execution_count": null,
   "metadata": {},
   "outputs": [],
   "source": []
  },
  {
   "cell_type": "code",
   "execution_count": 60,
   "metadata": {},
   "outputs": [],
   "source": [
    "repeat = \"GTTTTAKATTA(ACTAWRTGG)WATGTAAAK\"\n",
    "repeat_s = \"GTTTTAKATTAACTAWRTGG\"\n",
    "repeat_e = \"ACTAWRTGGWATGTAAAK\"\n",
    "\n",
    "repeat_clear = \"GTTTTAKATTAACTAWRTGGWATGTAAAK\""
   ]
  },
  {
   "cell_type": "code",
   "execution_count": 61,
   "metadata": {},
   "outputs": [],
   "source": [
    "path = \"../data/clostr_test/fastq/Polina-1_S11_L001_R1_001.fastq\""
   ]
  },
  {
   "cell_type": "code",
   "execution_count": 62,
   "metadata": {},
   "outputs": [],
   "source": [
    "def main(path, name, repeat,  t = 10, v = 1):\n",
    "    if v: print(\"reading :\", name)\n",
    "    reads, qualities = read_fastq(path + name)\n",
    "    \n",
    "    \n",
    "    if v: print(\"cutting :\", name)\n",
    "    pairs, pairs_q = [], []\n",
    "    for r,q in tqdm_notebook(zip(reads, qualities)):\n",
    "        p, pq = split_read(r, q, repeat.r, repeat.rs, repeat.re, e = 4)\n",
    "        pairs.append(p)\n",
    "        pairs_q.append(pq)\n",
    "    \n",
    "    \n",
    "    if v: print(\"masking :\", name)  \n",
    "    pairs = np.array(pairs)\n",
    "    pairs_q = np.array(pairs_q)\n",
    "    \n",
    "    \n",
    "    mask = np.array(['-1' not in pair for pair in tqdm_notebook(pairs)])\n",
    "\n",
    "    pairs = pairs[mask]\n",
    "    pairs_q = pairs_q[mask]\n",
    "      \n",
    "    \n",
    "    if mask.sum() ==0:\n",
    "        return [], [], []\n",
    "        \n",
    "    min_pq = np.array([get_lowest_q(pq) for pq in pairs_q])\n",
    "    \n",
    "    mask_2 = min_pq >= t\n",
    "    \n",
    "    print(name, mask.sum(), min(min_pq))\n",
    "    \n",
    "    return pairs, pairs_q, min_pq, mask_2"
   ]
  },
  {
   "cell_type": "code",
   "execution_count": null,
   "metadata": {},
   "outputs": [],
   "source": []
  },
  {
   "cell_type": "code",
   "execution_count": 63,
   "metadata": {},
   "outputs": [],
   "source": [
    "with open(\"../data/clostr_Polina/19.11/Polina_1.fasta\") as f:\n",
    "    #lines = [x[:-1] for x in f.readlines()[1::2]]\n",
    "    lines = f.readlines()"
   ]
  },
  {
   "cell_type": "code",
   "execution_count": 64,
   "metadata": {},
   "outputs": [],
   "source": [
    "lines_clean = [y for y in ''.join([x[:-1] for x in lines]).split(\">\") if len(y) > 0]"
   ]
  },
  {
   "cell_type": "code",
   "execution_count": 67,
   "metadata": {},
   "outputs": [
    {
     "data": {
      "application/vnd.jupyter.widget-view+json": {
       "model_id": "89095b0b73164d20b8c17911b1a61115",
       "version_major": 2,
       "version_minor": 0
      },
      "text/plain": [
       "A Jupyter Widget"
      ]
     },
     "metadata": {},
     "output_type": "display_data"
    },
    {
     "name": "stdout",
     "output_type": "stream",
     "text": [
      "\n"
     ]
    }
   ],
   "source": [
    "pairs, pairs_q = [], []\n",
    "for r in tqdm_notebook(lines_clean):\n",
    "    p, pq = split_read(r, r, redundant.r, redundant.rs, redundant.re, e = 4)\n",
    "    pairs.append(p)"
   ]
  },
  {
   "cell_type": "code",
   "execution_count": 68,
   "metadata": {},
   "outputs": [
    {
     "data": {
      "application/vnd.jupyter.widget-view+json": {
       "model_id": "6eaf762d21734741b333135541c9570d",
       "version_major": 2,
       "version_minor": 0
      },
      "text/plain": [
       "A Jupyter Widget"
      ]
     },
     "metadata": {},
     "output_type": "display_data"
    },
    {
     "name": "stdout",
     "output_type": "stream",
     "text": [
      "\n"
     ]
    }
   ],
   "source": [
    "pairs = np.array(pairs)\n",
    "\n",
    "\n",
    "\n",
    "mask = np.array(['-1' not in pair for pair in tqdm_notebook(pairs)])\n"
   ]
  },
  {
   "cell_type": "code",
   "execution_count": 69,
   "metadata": {},
   "outputs": [
    {
     "data": {
      "text/plain": [
       "30502"
      ]
     },
     "execution_count": 69,
     "metadata": {},
     "output_type": "execute_result"
    }
   ],
   "source": [
    "mask.sum()"
   ]
  },
  {
   "cell_type": "code",
   "execution_count": 132,
   "metadata": {},
   "outputs": [
    {
     "data": {
      "text/plain": [
       "array([['GAGGAGATTCAGACAGCGACTAAAAAGACTGATATA',\n",
       "        'AACTTTATATCTCCANTTGCATATCCATCTGATGA'],\n",
       "       ['GCGTACAAGGTTGAGAAGCTCCGCAATCTCAACGTC',\n",
       "        'CAGCCAAAAACTTCGAATTTGAACTAAAATGCGT'],\n",
       "       ['AGGAGATAACTTCTATTAAAGATAACTTTGATGTG',\n",
       "        'GCGTACAAGGTTGAGAAGCTCCGCAATCTCAACGTC'],\n",
       "       ...,\n",
       "       ['GAGGAGATTCAGACAGCTACTAAAAATACTGATAAAAA',\n",
       "        'AACTTAATATCTCCAATTCCAAATCCATCTGAAGA'],\n",
       "       ['AGTACATACAAAGAGTCTATAAAATTATCTATAAA',\n",
       "        'CCTGTATTCTGTTTAATGCTTCAATAGCTCTTTC'],\n",
       "       ['GAGGAGATACAGACAGCGACTAAAAAGACTGATATAAA',\n",
       "        'AACTTTATATCTCCATTTGCAAATCCATCTGATCAAC']], dtype='<U105')"
      ]
     },
     "execution_count": 132,
     "metadata": {},
     "output_type": "execute_result"
    }
   ],
   "source": [
    "pairs[mask]"
   ]
  },
  {
   "cell_type": "code",
   "execution_count": 134,
   "metadata": {},
   "outputs": [],
   "source": [
    "save_pairs(\"../data/clostr_Polina/19.11/\", 'pairs', pairs[mask])"
   ]
  },
  {
   "cell_type": "code",
   "execution_count": 2,
   "metadata": {},
   "outputs": [],
   "source": [
    "import sys\n",
    "sys.path.append(\"./utils/\")\n",
    "import hierarcical_utils as hu\n",
    "import plot_utils as pu "
   ]
  },
  {
   "cell_type": "code",
   "execution_count": 3,
   "metadata": {},
   "outputs": [
    {
     "name": "stdout",
     "output_type": "stream",
     "text": [
      "reading pairs, clustering...\n",
      "making sp_to_n...\n"
     ]
    },
    {
     "data": {
      "application/vnd.jupyter.widget-view+json": {
       "model_id": "a66c7aacedcb4692aced76d00e2ae4b5",
       "version_major": 2,
       "version_minor": 0
      },
      "text/plain": [
       "A Jupyter Widget"
      ]
     },
     "metadata": {},
     "output_type": "display_data"
    },
    {
     "name": "stdout",
     "output_type": "stream",
     "text": [
      "\n",
      "processing pairs...\n"
     ]
    },
    {
     "data": {
      "application/vnd.jupyter.widget-view+json": {
       "model_id": "38f8baad523e476f95f0dcc1e0fae9f3",
       "version_major": 2,
       "version_minor": 0
      },
      "text/plain": [
       "A Jupyter Widget"
      ]
     },
     "metadata": {},
     "output_type": "display_data"
    },
    {
     "name": "stdout",
     "output_type": "stream",
     "text": [
      "\n",
      "making graph...\n"
     ]
    }
   ],
   "source": [
    "gr = hu.graph_from_raw(\"../data/clostr_Polina/19.11/pairs\", split='\\t')"
   ]
  },
  {
   "cell_type": "code",
   "execution_count": 6,
   "metadata": {},
   "outputs": [
    {
     "data": {
      "text/plain": [
       "(602, 602)"
      ]
     },
     "execution_count": 6,
     "metadata": {},
     "output_type": "execute_result"
    }
   ],
   "source": [
    "gr[0].shape"
   ]
  },
  {
   "cell_type": "code",
   "execution_count": 9,
   "metadata": {},
   "outputs": [
    {
     "data": {
      "image/png": "[encoded data removed]",
      "text/plain": [
       "<matplotlib.figure.Figure at 0x7fbd5c96db00>"
      ]
     },
     "metadata": {},
     "output_type": "display_data"
    }
   ],
   "source": [
    "pu.plot_gr(gr[0][:200, :200], log =1)"
   ]
  },
  {
   "cell_type": "code",
   "execution_count": 31,
   "metadata": {},
   "outputs": [],
   "source": [
    "import numpy as np\n",
    "import matplotlib.pyplot as plt"
   ]
  },
  {
   "cell_type": "code",
   "execution_count": 10,
   "metadata": {},
   "outputs": [],
   "source": [
    "import hamiltonian_utils as hamu"
   ]
  },
  {
   "cell_type": "code",
   "execution_count": 25,
   "metadata": {},
   "outputs": [],
   "source": [
    "arrs, ws = hamu.restore_arrays(gr[0],threashold=2)"
   ]
  },
  {
   "cell_type": "code",
   "execution_count": 26,
   "metadata": {},
   "outputs": [],
   "source": [
    "arrs = np.array(arrs)\n",
    "ws = np.array(ws)"
   ]
  },
  {
   "cell_type": "code",
   "execution_count": 27,
   "metadata": {},
   "outputs": [
    {
     "data": {
      "text/plain": [
       "array([list([30, 3, 2, 0, 7, 13, 44, 25, 12, 26, 35]),\n",
       "       list([59, 4, 5, 11, 8, 16, 27, 84, 56, 64, 67]),\n",
       "       list([33, 22, 1, 6, 28, 37]), list([96, 55, 10, 9, 36, 78]),\n",
       "       list([113, 19, 17, 114]), list([42, 20, 18, 21, 14, 39]),\n",
       "       list([38, 24, 32, 58, 74]), list([40, 29, 61]), list([93, 15, 50]),\n",
       "       list([23, 52]), list([53, 46, 66, 41, 86]), list([47, 60]),\n",
       "       list([90, 43, 63]), list([51, 57, 95]), list([68, 31, 34, 87]),\n",
       "       list([48, 82]), list([45, 75]), list([65, 100]),\n",
       "       list([101, 103, 108]), list([62, 80]), list([71, 97]),\n",
       "       list([69, 98]), list([83, 105]), list([70, 99]), list([79, 107]),\n",
       "       list([106, 81]), list([73, 131, 54]), list([120, 85]),\n",
       "       list([118, 88, 112]), list([94, 123])], dtype=object)"
      ]
     },
     "execution_count": 27,
     "metadata": {},
     "output_type": "execute_result"
    }
   ],
   "source": [
    "arrs"
   ]
  },
  {
   "cell_type": "code",
   "execution_count": 36,
   "metadata": {},
   "outputs": [
    {
     "data": {
      "text/plain": [
       "<Container object of 30 artists>"
      ]
     },
     "execution_count": 36,
     "metadata": {},
     "output_type": "execute_result"
    },
    {
     "data": {
      "image/png": "[encoded data removed]",
      "text/plain": [
       "<matplotlib.figure.Figure at 0x7fbd5d063320>"
      ]
     },
     "metadata": {},
     "output_type": "display_data"
    }
   ],
   "source": [
    "plt.bar(np.arange(len(ws)), sorted([np.median(x) for x in ws])[::-1])"
   ]
  },
  {
   "cell_type": "code",
   "execution_count": 37,
   "metadata": {},
   "outputs": [
    {
     "data": {
      "text/plain": [
       "<Container object of 30 artists>"
      ]
     },
     "execution_count": 37,
     "metadata": {},
     "output_type": "execute_result"
    },
    {
     "data": {
      "image/png": "[encoded data removed]",
      "text/plain": [
       "<matplotlib.figure.Figure at 0x7fbd5d02b9e8>"
      ]
     },
     "metadata": {},
     "output_type": "display_data"
    }
   ],
   "source": [
    "plt.bar(np.arange(len(ws)), sorted([len(x) for x in ws])[::-1])"
   ]
  },
  {
   "cell_type": "code",
   "execution_count": 43,
   "metadata": {},
   "outputs": [],
   "source": [
    "gr_arrs = hamu.list_to_gr(arrs, gr[0].shape[0])"
   ]
  },
  {
   "cell_type": "code",
   "execution_count": 45,
   "metadata": {},
   "outputs": [
    {
     "data": {
      "text/plain": [
       "0.6454683929931455"
      ]
     },
     "execution_count": 45,
     "metadata": {},
     "output_type": "execute_result"
    }
   ],
   "source": [
    "gr[0][gr_arrs.astype(bool)].sum() / gr[0].sum()"
   ]
  },
  {
   "cell_type": "code",
   "execution_count": null,
   "metadata": {},
   "outputs": [],
   "source": []
  },
  {
   "cell_type": "code",
   "execution_count": null,
   "metadata": {},
   "outputs": [],
   "source": []
  },
  {
   "cell_type": "code",
   "execution_count": null,
   "metadata": {},
   "outputs": [],
   "source": []
  },
  {
   "cell_type": "code",
   "execution_count": null,
   "metadata": {},
   "outputs": [],
   "source": []
  },
  {
   "cell_type": "code",
   "execution_count": null,
   "metadata": {},
   "outputs": [],
   "source": []
  },
  {
   "cell_type": "code",
   "execution_count": 36,
   "metadata": {},
   "outputs": [],
   "source": [
    "path = \"../data/student_Dvyg/CD/\"\n",
    "path = \"../data/clostr_Polina/fastq/\""
   ]
  },
  {
   "cell_type": "code",
   "execution_count": 37,
   "metadata": {},
   "outputs": [],
   "source": [
    "names = sorted(os.listdir(path))"
   ]
  },
  {
   "cell_type": "code",
   "execution_count": 38,
   "metadata": {},
   "outputs": [],
   "source": [
    "repeats = [redundant, non_redundant_1, non_redundant_2, redundant, redundant, non_redundant_1, non_redundant_2]"
   ]
  },
  {
   "cell_type": "code",
   "execution_count": null,
   "metadata": {},
   "outputs": [],
   "source": []
  },
  {
   "cell_type": "code",
   "execution_count": 39,
   "metadata": {},
   "outputs": [],
   "source": [
    "from multiprocessing import Pool"
   ]
  },
  {
   "cell_type": "code",
   "execution_count": 40,
   "metadata": {
    "scrolled": true
   },
   "outputs": [
    {
     "name": "stdout",
     "output_type": "stream",
     "text": [
      "reading : Polina-5_S15_L001_R1_001.fastq\n",
      "reading : Polina-2_S12_L001_R1_001.fastq\n",
      "reading : Polina-4_S14_L001_R1_001.fastq\n",
      "reading : Polina-3_S13_L001_R1_001.fastq\n",
      "reading : Polina-7_S17_L001_R1_001.fastq\n",
      "reading : Polina-6_S16_L001_R1_001.fastq\n",
      "reading : Polina-1_S11_L001_R1_001.fastq\n",
      "cutting : Polina-5_S15_L001_R1_001.fastq\n"
     ]
    },
    {
     "data": {
      "application/vnd.jupyter.widget-view+json": {
       "model_id": "14816c4c4b5a4f5589805a1e09e8b37b",
       "version_major": 2,
       "version_minor": 0
      },
      "text/plain": [
       "A Jupyter Widget"
      ]
     },
     "metadata": {},
     "output_type": "display_data"
    },
    {
     "name": "stdout",
     "output_type": "stream",
     "text": [
      "cutting : Polina-1_S11_L001_R1_001.fastq\n"
     ]
    },
    {
     "data": {
      "application/vnd.jupyter.widget-view+json": {
       "model_id": "04d0f43e497f4179a4309b3a632c1de5",
       "version_major": 2,
       "version_minor": 0
      },
      "text/plain": [
       "A Jupyter Widget"
      ]
     },
     "metadata": {},
     "output_type": "display_data"
    },
    {
     "name": "stdout",
     "output_type": "stream",
     "text": [
      "cutting : Polina-6_S16_L001_R1_001.fastq\n"
     ]
    },
    {
     "data": {
      "application/vnd.jupyter.widget-view+json": {
       "model_id": "69157fcbd301416385ce660fc5371f7a",
       "version_major": 2,
       "version_minor": 0
      },
      "text/plain": [
       "A Jupyter Widget"
      ]
     },
     "metadata": {},
     "output_type": "display_data"
    },
    {
     "name": "stdout",
     "output_type": "stream",
     "text": [
      "cutting : Polina-7_S17_L001_R1_001.fastq\n"
     ]
    },
    {
     "data": {
      "application/vnd.jupyter.widget-view+json": {
       "model_id": "db34b929c89d47f98ad98b47dbb67620",
       "version_major": 2,
       "version_minor": 0
      },
      "text/plain": [
       "A Jupyter Widget"
      ]
     },
     "metadata": {},
     "output_type": "display_data"
    },
    {
     "name": "stdout",
     "output_type": "stream",
     "text": [
      "cutting : Polina-2_S12_L001_R1_001.fastq\n"
     ]
    },
    {
     "data": {
      "application/vnd.jupyter.widget-view+json": {
       "model_id": "8448bba5caae446e92736af307ccc82a",
       "version_major": 2,
       "version_minor": 0
      },
      "text/plain": [
       "A Jupyter Widget"
      ]
     },
     "metadata": {},
     "output_type": "display_data"
    },
    {
     "name": "stdout",
     "output_type": "stream",
     "text": [
      "cutting : Polina-4_S14_L001_R1_001.fastq\n",
      "cutting : Polina-3_S13_L001_R1_001.fastq\n"
     ]
    },
    {
     "data": {
      "application/vnd.jupyter.widget-view+json": {
       "model_id": "a0da362638e84e59976e51f915a636ff",
       "version_major": 2,
       "version_minor": 0
      },
      "text/plain": [
       "A Jupyter Widget"
      ]
     },
     "metadata": {},
     "output_type": "display_data"
    },
    {
     "data": {
      "application/vnd.jupyter.widget-view+json": {
       "model_id": "8fae4f957cbb40a2a6e1fcee4375aae2",
       "version_major": 2,
       "version_minor": 0
      },
      "text/plain": [
       "A Jupyter Widget"
      ]
     },
     "metadata": {},
     "output_type": "display_data"
    },
    {
     "name": "stdout",
     "output_type": "stream",
     "text": [
      "\n",
      "masking : Polina-5_S15_L001_R1_001.fastq\n"
     ]
    },
    {
     "data": {
      "application/vnd.jupyter.widget-view+json": {
       "model_id": "dc7acadf30584eb287ee6975ce035a69",
       "version_major": 2,
       "version_minor": 0
      },
      "text/plain": [
       "A Jupyter Widget"
      ]
     },
     "metadata": {},
     "output_type": "display_data"
    },
    {
     "name": "stdout",
     "output_type": "stream",
     "text": [
      "\n",
      "\n",
      "masking : Polina-6_S16_L001_R1_001.fastq\n",
      "Polina-5_S15_L001_R1_001.fastq 9676 2\n"
     ]
    },
    {
     "data": {
      "application/vnd.jupyter.widget-view+json": {
       "model_id": "ea12a1913be647c9a233aabeefcdb304",
       "version_major": 2,
       "version_minor": 0
      },
      "text/plain": [
       "A Jupyter Widget"
      ]
     },
     "metadata": {},
     "output_type": "display_data"
    },
    {
     "name": "stdout",
     "output_type": "stream",
     "text": [
      "\n",
      "masking : Polina-7_S17_L001_R1_001.fastq\n",
      "\n",
      "masking : Polina-1_S11_L001_R1_001.fastq\n"
     ]
    },
    {
     "data": {
      "application/vnd.jupyter.widget-view+json": {
       "model_id": "6a4fa3066aeb4557b90a533875da5c42",
       "version_major": 2,
       "version_minor": 0
      },
      "text/plain": [
       "A Jupyter Widget"
      ]
     },
     "metadata": {},
     "output_type": "display_data"
    },
    {
     "data": {
      "application/vnd.jupyter.widget-view+json": {
       "model_id": "2179405a0f70469eb1ed1b364f6009c6",
       "version_major": 2,
       "version_minor": 0
      },
      "text/plain": [
       "A Jupyter Widget"
      ]
     },
     "metadata": {},
     "output_type": "display_data"
    },
    {
     "name": "stdout",
     "output_type": "stream",
     "text": [
      "\n",
      "Polina-6_S16_L001_R1_001.fastq 3979 14\n",
      "\n",
      "\n",
      "\n",
      "masking : Polina-3_S13_L001_R1_001.fastq\n",
      "Polina-1_S11_L001_R1_001.fastq 21308 2\n",
      "Polina-7_S17_L001_R1_001.fastq 10642 2\n"
     ]
    },
    {
     "data": {
      "application/vnd.jupyter.widget-view+json": {
       "model_id": "55bb76d45e6b422b82056cc57b08bb0b",
       "version_major": 2,
       "version_minor": 0
      },
      "text/plain": [
       "A Jupyter Widget"
      ]
     },
     "metadata": {},
     "output_type": "display_data"
    },
    {
     "name": "stdout",
     "output_type": "stream",
     "text": [
      "\n",
      "masking : Polina-2_S12_L001_R1_001.fastq\n"
     ]
    },
    {
     "data": {
      "application/vnd.jupyter.widget-view+json": {
       "model_id": "9f7f8c18ca12430aac81b03b118861b4",
       "version_major": 2,
       "version_minor": 0
      },
      "text/plain": [
       "A Jupyter Widget"
      ]
     },
     "metadata": {},
     "output_type": "display_data"
    },
    {
     "name": "stdout",
     "output_type": "stream",
     "text": [
      "\n",
      "Polina-3_S13_L001_R1_001.fastq 10994 2\n",
      "\n",
      "Polina-2_S12_L001_R1_001.fastq 22475 2\n",
      "\n",
      "masking : Polina-4_S14_L001_R1_001.fastq\n"
     ]
    },
    {
     "data": {
      "application/vnd.jupyter.widget-view+json": {
       "model_id": "ae66c377d9d048a582c5ced0d427caf5",
       "version_major": 2,
       "version_minor": 0
      },
      "text/plain": [
       "A Jupyter Widget"
      ]
     },
     "metadata": {},
     "output_type": "display_data"
    },
    {
     "name": "stdout",
     "output_type": "stream",
     "text": [
      "\n",
      "Polina-4_S14_L001_R1_001.fastq 40638 2\n",
      "reading : Polina-1_S11_L001_R1_001.fastq\n",
      "reading : Polina-4_S14_L001_R1_001.fastq\n",
      "reading : Polina-2_S12_L001_R1_001.fastq\n",
      "reading : Polina-3_S13_L001_R1_001.fastq\n",
      "reading : Polina-5_S15_L001_R1_001.fastq\n",
      "reading : Polina-7_S17_L001_R1_001.fastq\n",
      "reading : Polina-6_S16_L001_R1_001.fastq\n",
      "cutting : Polina-3_S13_L001_R1_001.fastq\n"
     ]
    },
    {
     "data": {
      "application/vnd.jupyter.widget-view+json": {
       "model_id": "65936705f9904f078c3b6bdd3964ac7a",
       "version_major": 2,
       "version_minor": 0
      },
      "text/plain": [
       "A Jupyter Widget"
      ]
     },
     "metadata": {},
     "output_type": "display_data"
    },
    {
     "name": "stdout",
     "output_type": "stream",
     "text": [
      "cutting : Polina-4_S14_L001_R1_001.fastq\n"
     ]
    },
    {
     "data": {
      "application/vnd.jupyter.widget-view+json": {
       "model_id": "91fe8e14503745df92cb2c44f3388a86",
       "version_major": 2,
       "version_minor": 0
      },
      "text/plain": [
       "A Jupyter Widget"
      ]
     },
     "metadata": {},
     "output_type": "display_data"
    },
    {
     "name": "stdout",
     "output_type": "stream",
     "text": [
      "cutting : Polina-1_S11_L001_R1_001.fastq\n"
     ]
    },
    {
     "data": {
      "application/vnd.jupyter.widget-view+json": {
       "model_id": "84e8a259c3a14c7ab23b6e67d77196e9",
       "version_major": 2,
       "version_minor": 0
      },
      "text/plain": [
       "A Jupyter Widget"
      ]
     },
     "metadata": {},
     "output_type": "display_data"
    },
    {
     "name": "stdout",
     "output_type": "stream",
     "text": [
      "cutting : Polina-5_S15_L001_R1_001.fastq\n"
     ]
    },
    {
     "data": {
      "application/vnd.jupyter.widget-view+json": {
       "model_id": "a0b723cd3567469c9be3b828eac8b740",
       "version_major": 2,
       "version_minor": 0
      },
      "text/plain": [
       "A Jupyter Widget"
      ]
     },
     "metadata": {},
     "output_type": "display_data"
    },
    {
     "name": "stdout",
     "output_type": "stream",
     "text": [
      "cutting : Polina-7_S17_L001_R1_001.fastq\n"
     ]
    },
    {
     "data": {
      "application/vnd.jupyter.widget-view+json": {
       "model_id": "3a3eb3e009b24feabc314a22406ec4e9",
       "version_major": 2,
       "version_minor": 0
      },
      "text/plain": [
       "A Jupyter Widget"
      ]
     },
     "metadata": {},
     "output_type": "display_data"
    },
    {
     "name": "stdout",
     "output_type": "stream",
     "text": [
      "cutting : Polina-2_S12_L001_R1_001.fastq\n",
      "cutting : Polina-6_S16_L001_R1_001.fastq\n"
     ]
    },
    {
     "data": {
      "application/vnd.jupyter.widget-view+json": {
       "model_id": "231d96a030024d0296d9e89e67efcb33",
       "version_major": 2,
       "version_minor": 0
      },
      "text/plain": [
       "A Jupyter Widget"
      ]
     },
     "metadata": {},
     "output_type": "display_data"
    },
    {
     "data": {
      "application/vnd.jupyter.widget-view+json": {
       "model_id": "fdbe9758524247378b7aa3a748ff77a7",
       "version_major": 2,
       "version_minor": 0
      },
      "text/plain": [
       "A Jupyter Widget"
      ]
     },
     "metadata": {},
     "output_type": "display_data"
    },
    {
     "name": "stdout",
     "output_type": "stream",
     "text": [
      "\n",
      "masking : Polina-3_S13_L001_R1_001.fastq\n"
     ]
    },
    {
     "data": {
      "application/vnd.jupyter.widget-view+json": {
       "model_id": "62fdd38eaf5848cca56af57719d1382f",
       "version_major": 2,
       "version_minor": 0
      },
      "text/plain": [
       "A Jupyter Widget"
      ]
     },
     "metadata": {},
     "output_type": "display_data"
    },
    {
     "name": "stdout",
     "output_type": "stream",
     "text": [
      "\n",
      "Polina-3_S13_L001_R1_001.fastq 10994 2\n",
      "\n",
      "masking : Polina-5_S15_L001_R1_001.fastq\n"
     ]
    },
    {
     "data": {
      "application/vnd.jupyter.widget-view+json": {
       "model_id": "36e688de4c274bc88f63d45bb4add0f7",
       "version_major": 2,
       "version_minor": 0
      },
      "text/plain": [
       "A Jupyter Widget"
      ]
     },
     "metadata": {},
     "output_type": "display_data"
    },
    {
     "name": "stdout",
     "output_type": "stream",
     "text": [
      "\n",
      "masking : Polina-6_S16_L001_R1_001.fastq\n",
      "\n",
      "masking : Polina-7_S17_L001_R1_001.fastq\n",
      "\n",
      "Polina-5_S15_L001_R1_001.fastq 9676 2\n",
      "\n",
      "masking : Polina-1_S11_L001_R1_001.fastq\n"
     ]
    },
    {
     "data": {
      "application/vnd.jupyter.widget-view+json": {
       "model_id": "a8734e13af8f4dd2a07bd2db6d9f9b8e",
       "version_major": 2,
       "version_minor": 0
      },
      "text/plain": [
       "A Jupyter Widget"
      ]
     },
     "metadata": {},
     "output_type": "display_data"
    },
    {
     "data": {
      "application/vnd.jupyter.widget-view+json": {
       "model_id": "fa7a3817b6fb467bbe258aaf896df4a2",
       "version_major": 2,
       "version_minor": 0
      },
      "text/plain": [
       "A Jupyter Widget"
      ]
     },
     "metadata": {},
     "output_type": "display_data"
    },
    {
     "data": {
      "application/vnd.jupyter.widget-view+json": {
       "model_id": "7a35329b909f4a25af380c1273279483",
       "version_major": 2,
       "version_minor": 0
      },
      "text/plain": [
       "A Jupyter Widget"
      ]
     },
     "metadata": {},
     "output_type": "display_data"
    },
    {
     "name": "stdout",
     "output_type": "stream",
     "text": [
      "\n",
      "masking : Polina-4_S14_L001_R1_001.fastq\n"
     ]
    },
    {
     "data": {
      "application/vnd.jupyter.widget-view+json": {
       "model_id": "55a67a1374c84b138486feab8aeba722",
       "version_major": 2,
       "version_minor": 0
      },
      "text/plain": [
       "A Jupyter Widget"
      ]
     },
     "metadata": {},
     "output_type": "display_data"
    },
    {
     "name": "stdout",
     "output_type": "stream",
     "text": [
      "\n",
      "\n",
      "\n",
      "Polina-7_S17_L001_R1_001.fastq 10642 2\n",
      "Polina-6_S16_L001_R1_001.fastq 3979 14\n",
      "Polina-1_S11_L001_R1_001.fastq 21308 2\n",
      "\n",
      "masking : Polina-2_S12_L001_R1_001.fastq\n"
     ]
    },
    {
     "data": {
      "application/vnd.jupyter.widget-view+json": {
       "model_id": "30298a21ba2c4981833dde373c062e3d",
       "version_major": 2,
       "version_minor": 0
      },
      "text/plain": [
       "A Jupyter Widget"
      ]
     },
     "metadata": {},
     "output_type": "display_data"
    },
    {
     "name": "stdout",
     "output_type": "stream",
     "text": [
      "\n",
      "Polina-4_S14_L001_R1_001.fastq 40638 2\n",
      "\n",
      "Polina-2_S12_L001_R1_001.fastq 22475 2\n"
     ]
    },
    {
     "name": "stderr",
     "output_type": "stream",
     "text": [
      "Process ForkPoolWorker-20:\n",
      "Process ForkPoolWorker-17:\n",
      "Process ForkPoolWorker-16:\n",
      "Process ForkPoolWorker-15:\n",
      "Process ForkPoolWorker-18:\n",
      "Process ForkPoolWorker-21:\n",
      "Process ForkPoolWorker-19:\n",
      "Traceback (most recent call last):\n",
      "  File \"/home/anton/anaconda3/lib/python3.6/multiprocessing/process.py\", line 258, in _bootstrap\n",
      "    self.run()\n",
      "  File \"/home/anton/anaconda3/lib/python3.6/multiprocessing/process.py\", line 93, in run\n",
      "    self._target(*self._args, **self._kwargs)\n",
      "  File \"/home/anton/anaconda3/lib/python3.6/multiprocessing/pool.py\", line 108, in worker\n",
      "    task = get()\n",
      "  File \"/home/anton/anaconda3/lib/python3.6/multiprocessing/queues.py\", line 335, in get\n",
      "    res = self._reader.recv_bytes()\n",
      "  File \"/home/anton/anaconda3/lib/python3.6/multiprocessing/connection.py\", line 216, in recv_bytes\n",
      "    buf = self._recv_bytes(maxlength)\n",
      "Traceback (most recent call last):\n",
      "Traceback (most recent call last):\n",
      "Traceback (most recent call last):\n",
      "  File \"/home/anton/anaconda3/lib/python3.6/multiprocessing/process.py\", line 258, in _bootstrap\n",
      "    self.run()\n",
      "Traceback (most recent call last):\n",
      "Traceback (most recent call last):\n",
      "Traceback (most recent call last):\n",
      "  File \"/home/anton/anaconda3/lib/python3.6/multiprocessing/connection.py\", line 407, in _recv_bytes\n",
      "    buf = self._recv(4)\n",
      "  File \"/home/anton/anaconda3/lib/python3.6/multiprocessing/process.py\", line 258, in _bootstrap\n",
      "    self.run()\n",
      "  File \"/home/anton/anaconda3/lib/python3.6/multiprocessing/process.py\", line 258, in _bootstrap\n",
      "    self.run()\n",
      "  File \"/home/anton/anaconda3/lib/python3.6/multiprocessing/connection.py\", line 379, in _recv\n",
      "    chunk = read(handle, remaining)\n",
      "  File \"/home/anton/anaconda3/lib/python3.6/multiprocessing/process.py\", line 258, in _bootstrap\n",
      "    self.run()\n",
      "  File \"/home/anton/anaconda3/lib/python3.6/multiprocessing/process.py\", line 93, in run\n",
      "    self._target(*self._args, **self._kwargs)\n",
      "  File \"/home/anton/anaconda3/lib/python3.6/multiprocessing/process.py\", line 93, in run\n",
      "    self._target(*self._args, **self._kwargs)\n",
      "KeyboardInterrupt\n",
      "  File \"/home/anton/anaconda3/lib/python3.6/multiprocessing/process.py\", line 258, in _bootstrap\n",
      "    self.run()\n",
      "  File \"/home/anton/anaconda3/lib/python3.6/multiprocessing/process.py\", line 93, in run\n",
      "    self._target(*self._args, **self._kwargs)\n",
      "  File \"/home/anton/anaconda3/lib/python3.6/multiprocessing/process.py\", line 93, in run\n",
      "    self._target(*self._args, **self._kwargs)\n",
      "  File \"/home/anton/anaconda3/lib/python3.6/multiprocessing/pool.py\", line 108, in worker\n",
      "    task = get()\n",
      "  File \"/home/anton/anaconda3/lib/python3.6/multiprocessing/process.py\", line 93, in run\n",
      "    self._target(*self._args, **self._kwargs)\n",
      "  File \"/home/anton/anaconda3/lib/python3.6/multiprocessing/process.py\", line 258, in _bootstrap\n",
      "    self.run()\n",
      "  File \"/home/anton/anaconda3/lib/python3.6/multiprocessing/process.py\", line 93, in run\n",
      "    self._target(*self._args, **self._kwargs)\n",
      "  File \"/home/anton/anaconda3/lib/python3.6/multiprocessing/queues.py\", line 334, in get\n",
      "    with self._rlock:\n",
      "  File \"/home/anton/anaconda3/lib/python3.6/multiprocessing/pool.py\", line 108, in worker\n",
      "    task = get()\n",
      "  File \"/home/anton/anaconda3/lib/python3.6/multiprocessing/synchronize.py\", line 96, in __enter__\n",
      "    return self._semlock.__enter__()\n",
      "  File \"/home/anton/anaconda3/lib/python3.6/multiprocessing/pool.py\", line 108, in worker\n",
      "    task = get()\n",
      "  File \"/home/anton/anaconda3/lib/python3.6/multiprocessing/queues.py\", line 334, in get\n",
      "    with self._rlock:\n",
      "  File \"/home/anton/anaconda3/lib/python3.6/multiprocessing/pool.py\", line 108, in worker\n",
      "    task = get()\n",
      "  File \"/home/anton/anaconda3/lib/python3.6/multiprocessing/queues.py\", line 334, in get\n",
      "    with self._rlock:\n",
      "KeyboardInterrupt\n",
      "  File \"/home/anton/anaconda3/lib/python3.6/multiprocessing/synchronize.py\", line 96, in __enter__\n",
      "    return self._semlock.__enter__()\n",
      "  File \"/home/anton/anaconda3/lib/python3.6/multiprocessing/queues.py\", line 334, in get\n",
      "    with self._rlock:\n",
      "  File \"/home/anton/anaconda3/lib/python3.6/multiprocessing/pool.py\", line 108, in worker\n",
      "    task = get()\n",
      "  File \"/home/anton/anaconda3/lib/python3.6/multiprocessing/synchronize.py\", line 96, in __enter__\n",
      "    return self._semlock.__enter__()\n",
      "KeyboardInterrupt\n",
      "  File \"/home/anton/anaconda3/lib/python3.6/multiprocessing/queues.py\", line 334, in get\n",
      "    with self._rlock:\n",
      "KeyboardInterrupt\n",
      "  File \"/home/anton/anaconda3/lib/python3.6/multiprocessing/synchronize.py\", line 96, in __enter__\n",
      "    return self._semlock.__enter__()\n",
      "  File \"/home/anton/anaconda3/lib/python3.6/multiprocessing/pool.py\", line 108, in worker\n",
      "    task = get()\n",
      "  File \"/home/anton/anaconda3/lib/python3.6/multiprocessing/synchronize.py\", line 96, in __enter__\n",
      "    return self._semlock.__enter__()\n",
      "KeyboardInterrupt\n",
      "KeyboardInterrupt\n",
      "  File \"/home/anton/anaconda3/lib/python3.6/multiprocessing/queues.py\", line 334, in get\n",
      "    with self._rlock:\n",
      "  File \"/home/anton/anaconda3/lib/python3.6/multiprocessing/synchronize.py\", line 96, in __enter__\n",
      "    return self._semlock.__enter__()\n",
      "KeyboardInterrupt\n"
     ]
    }
   ],
   "source": [
    "p = Pool(7)\n",
    "\n",
    "\n",
    "def f(x):\n",
    "    return main(path, x[0], x[1])"
   ]
  },
  {
   "cell_type": "code",
   "execution_count": 35,
   "metadata": {},
   "outputs": [],
   "source": [
    "p.close()"
   ]
  },
  {
   "cell_type": "code",
   "execution_count": 41,
   "metadata": {},
   "outputs": [
    {
     "data": {
      "text/plain": [
       "['Polina-1_S11_L001_R1_001.fastq',\n",
       " 'Polina-2_S12_L001_R1_001.fastq',\n",
       " 'Polina-3_S13_L001_R1_001.fastq',\n",
       " 'Polina-4_S14_L001_R1_001.fastq',\n",
       " 'Polina-5_S15_L001_R1_001.fastq',\n",
       " 'Polina-6_S16_L001_R1_001.fastq',\n",
       " 'Polina-7_S17_L001_R1_001.fastq']"
      ]
     },
     "execution_count": 41,
     "metadata": {},
     "output_type": "execute_result"
    }
   ],
   "source": [
    "names[::2]"
   ]
  },
  {
   "cell_type": "code",
   "execution_count": 49,
   "metadata": {},
   "outputs": [],
   "source": [
    "res = p.map(f, zip(names[::2], repeats))"
   ]
  },
  {
   "cell_type": "code",
   "execution_count": 53,
   "metadata": {},
   "outputs": [
    {
     "data": {
      "text/plain": [
       "7"
      ]
     },
     "execution_count": 53,
     "metadata": {},
     "output_type": "execute_result"
    }
   ],
   "source": [
    "len(res)"
   ]
  },
  {
   "cell_type": "code",
   "execution_count": 54,
   "metadata": {},
   "outputs": [
    {
     "data": {
      "text/plain": [
       "22475"
      ]
     },
     "execution_count": 54,
     "metadata": {},
     "output_type": "execute_result"
    }
   ],
   "source": [
    "len(res[1][0])"
   ]
  },
  {
   "cell_type": "code",
   "execution_count": 51,
   "metadata": {},
   "outputs": [
    {
     "data": {
      "text/plain": [
       "21295"
      ]
     },
     "execution_count": 51,
     "metadata": {},
     "output_type": "execute_result"
    }
   ],
   "source": [
    "res[0][3].sum()"
   ]
  },
  {
   "cell_type": "code",
   "execution_count": null,
   "metadata": {},
   "outputs": [],
   "source": []
  },
  {
   "cell_type": "code",
   "execution_count": 65,
   "metadata": {},
   "outputs": [
    {
     "data": {
      "application/vnd.jupyter.widget-view+json": {
       "model_id": "eea11872a3a24d34b11738a08f631caf",
       "version_major": 2,
       "version_minor": 0
      },
      "text/plain": [
       "A Jupyter Widget"
      ]
     },
     "metadata": {},
     "output_type": "display_data"
    },
    {
     "name": "stdout",
     "output_type": "stream",
     "text": [
      "reading : DVyg17_S456_R1_001.fastq\n",
      "cutting : DVyg17_S456_R1_001.fastq\n"
     ]
    },
    {
     "data": {
      "application/vnd.jupyter.widget-view+json": {
       "model_id": "e3ff86180fa54382a134282399a615b8",
       "version_major": 2,
       "version_minor": 0
      },
      "text/plain": [
       "A Jupyter Widget"
      ]
     },
     "metadata": {},
     "output_type": "display_data"
    },
    {
     "name": "stdout",
     "output_type": "stream",
     "text": [
      "masking : DVyg17_S456_R1_001.fastq\n"
     ]
    },
    {
     "data": {
      "application/vnd.jupyter.widget-view+json": {
       "model_id": "9403398979bb458da6ae31d37174d52f",
       "version_major": 2,
       "version_minor": 0
      },
      "text/plain": [
       "A Jupyter Widget"
      ]
     },
     "metadata": {},
     "output_type": "display_data"
    },
    {
     "name": "stdout",
     "output_type": "stream",
     "text": [
      "DVyg17_S456_R1_001.fastq 4438 12\n",
      "reading : DVyg17_S456_R2_001.fastq\n",
      "cutting : DVyg17_S456_R2_001.fastq\n"
     ]
    },
    {
     "data": {
      "application/vnd.jupyter.widget-view+json": {
       "model_id": "b563b031440949e0bf75ddeac78acc26",
       "version_major": 2,
       "version_minor": 0
      },
      "text/plain": [
       "A Jupyter Widget"
      ]
     },
     "metadata": {},
     "output_type": "display_data"
    },
    {
     "name": "stdout",
     "output_type": "stream",
     "text": [
      "masking : DVyg17_S456_R2_001.fastq\n"
     ]
    },
    {
     "data": {
      "application/vnd.jupyter.widget-view+json": {
       "model_id": "81934de531994bef862b6d43f190c305",
       "version_major": 2,
       "version_minor": 0
      },
      "text/plain": [
       "A Jupyter Widget"
      ]
     },
     "metadata": {},
     "output_type": "display_data"
    },
    {
     "name": "stdout",
     "output_type": "stream",
     "text": [
      "DVyg17_S456_R2_001.fastq 3698 2\n",
      "reading : DVyg20_S459_R1_001.fastq\n",
      "cutting : DVyg20_S459_R1_001.fastq\n"
     ]
    },
    {
     "data": {
      "application/vnd.jupyter.widget-view+json": {
       "model_id": "9d157c563d584005942b48d525f7cf4c",
       "version_major": 2,
       "version_minor": 0
      },
      "text/plain": [
       "A Jupyter Widget"
      ]
     },
     "metadata": {},
     "output_type": "display_data"
    },
    {
     "name": "stdout",
     "output_type": "stream",
     "text": [
      "masking : DVyg20_S459_R1_001.fastq\n"
     ]
    },
    {
     "data": {
      "application/vnd.jupyter.widget-view+json": {
       "model_id": "0f130acf1c1f44a0b936713fe035d069",
       "version_major": 2,
       "version_minor": 0
      },
      "text/plain": [
       "A Jupyter Widget"
      ]
     },
     "metadata": {},
     "output_type": "display_data"
    },
    {
     "name": "stdout",
     "output_type": "stream",
     "text": [
      "reading : DVyg20_S459_R2_001.fastq\n",
      "cutting : DVyg20_S459_R2_001.fastq\n"
     ]
    },
    {
     "data": {
      "application/vnd.jupyter.widget-view+json": {
       "model_id": "45709b3cb8614290b4f03c7923d85e72",
       "version_major": 2,
       "version_minor": 0
      },
      "text/plain": [
       "A Jupyter Widget"
      ]
     },
     "metadata": {},
     "output_type": "display_data"
    },
    {
     "name": "stdout",
     "output_type": "stream",
     "text": [
      "masking : DVyg20_S459_R2_001.fastq\n"
     ]
    },
    {
     "data": {
      "application/vnd.jupyter.widget-view+json": {
       "model_id": "51232250b4c5461b8611a68ef171fea8",
       "version_major": 2,
       "version_minor": 0
      },
      "text/plain": [
       "A Jupyter Widget"
      ]
     },
     "metadata": {},
     "output_type": "display_data"
    },
    {
     "name": "stdout",
     "output_type": "stream",
     "text": [
      "DVyg20_S459_R2_001.fastq 1 41\n",
      "reading : DVyg23_S462_R1_001.fastq\n",
      "cutting : DVyg23_S462_R1_001.fastq\n"
     ]
    },
    {
     "data": {
      "application/vnd.jupyter.widget-view+json": {
       "model_id": "bbce97bc48d24852afb4d72f993c3633",
       "version_major": 2,
       "version_minor": 0
      },
      "text/plain": [
       "A Jupyter Widget"
      ]
     },
     "metadata": {},
     "output_type": "display_data"
    },
    {
     "name": "stdout",
     "output_type": "stream",
     "text": [
      "masking : DVyg23_S462_R1_001.fastq\n"
     ]
    },
    {
     "data": {
      "application/vnd.jupyter.widget-view+json": {
       "model_id": "3a137876d24844e58e8d2e5f201a9002",
       "version_major": 2,
       "version_minor": 0
      },
      "text/plain": [
       "A Jupyter Widget"
      ]
     },
     "metadata": {},
     "output_type": "display_data"
    },
    {
     "name": "stdout",
     "output_type": "stream",
     "text": [
      "DVyg23_S462_R1_001.fastq 101 12\n",
      "reading : DVyg23_S462_R2_001.fastq\n",
      "cutting : DVyg23_S462_R2_001.fastq\n"
     ]
    },
    {
     "data": {
      "application/vnd.jupyter.widget-view+json": {
       "model_id": "39ad3b907c744ace8aad2cf7812bdd7f",
       "version_major": 2,
       "version_minor": 0
      },
      "text/plain": [
       "A Jupyter Widget"
      ]
     },
     "metadata": {},
     "output_type": "display_data"
    },
    {
     "name": "stdout",
     "output_type": "stream",
     "text": [
      "masking : DVyg23_S462_R2_001.fastq\n"
     ]
    },
    {
     "data": {
      "application/vnd.jupyter.widget-view+json": {
       "model_id": "3ab03b0a27bd47adbc72c8aee376b5b2",
       "version_major": 2,
       "version_minor": 0
      },
      "text/plain": [
       "A Jupyter Widget"
      ]
     },
     "metadata": {},
     "output_type": "display_data"
    },
    {
     "name": "stdout",
     "output_type": "stream",
     "text": [
      "DVyg23_S462_R2_001.fastq 87 2\n",
      "reading : pairs_0\n"
     ]
    },
    {
     "ename": "IsADirectoryError",
     "evalue": "[Errno 21] Is a directory: '../data/student_Dvyg/CD/pairs_0'",
     "output_type": "error",
     "traceback": [
      "\u001b[0;31m---------------------------------------------------------------------------\u001b[0m",
      "\u001b[0;31mIsADirectoryError\u001b[0m                         Traceback (most recent call last)",
      "\u001b[0;32m<ipython-input-65-4d35287fe153>\u001b[0m in \u001b[0;36m<module>\u001b[0;34m()\u001b[0m\n\u001b[1;32m      5\u001b[0m \u001b[0;34m\u001b[0m\u001b[0m\n\u001b[1;32m      6\u001b[0m \u001b[0;34m\u001b[0m\u001b[0m\n\u001b[0;32m----> 7\u001b[0;31m     \u001b[0mpairs\u001b[0m\u001b[0;34m,\u001b[0m \u001b[0mpairs_q\u001b[0m\u001b[0;34m,\u001b[0m \u001b[0mmin_pq\u001b[0m \u001b[0;34m=\u001b[0m \u001b[0mmain\u001b[0m\u001b[0;34m(\u001b[0m\u001b[0mpath\u001b[0m\u001b[0;34m,\u001b[0m \u001b[0mname\u001b[0m\u001b[0;34m,\u001b[0m \u001b[0mredundant\u001b[0m\u001b[0;34m)\u001b[0m\u001b[0;34m\u001b[0m\u001b[0m\n\u001b[0m\u001b[1;32m      8\u001b[0m     \u001b[0msave_pairs\u001b[0m\u001b[0;34m(\u001b[0m\u001b[0;34m\"../data/student_Dvyg/CD/pairs_0/\"\u001b[0m\u001b[0;34m,\u001b[0m \u001b[0mname\u001b[0m\u001b[0;34m,\u001b[0m \u001b[0mpairs\u001b[0m\u001b[0;34m)\u001b[0m\u001b[0;34m\u001b[0m\u001b[0m\n",
      "\u001b[0;32m<ipython-input-57-7b33f9cf48c8>\u001b[0m in \u001b[0;36mmain\u001b[0;34m(path, name, repeat, t, v)\u001b[0m\n\u001b[1;32m      1\u001b[0m \u001b[0;32mdef\u001b[0m \u001b[0mmain\u001b[0m\u001b[0;34m(\u001b[0m\u001b[0mpath\u001b[0m\u001b[0;34m,\u001b[0m \u001b[0mname\u001b[0m\u001b[0;34m,\u001b[0m \u001b[0mrepeat\u001b[0m\u001b[0;34m,\u001b[0m  \u001b[0mt\u001b[0m \u001b[0;34m=\u001b[0m \u001b[0;36m10\u001b[0m\u001b[0;34m,\u001b[0m \u001b[0mv\u001b[0m \u001b[0;34m=\u001b[0m \u001b[0;36m1\u001b[0m\u001b[0;34m)\u001b[0m\u001b[0;34m:\u001b[0m\u001b[0;34m\u001b[0m\u001b[0m\n\u001b[1;32m      2\u001b[0m     \u001b[0;32mif\u001b[0m \u001b[0mv\u001b[0m\u001b[0;34m:\u001b[0m \u001b[0mprint\u001b[0m\u001b[0;34m(\u001b[0m\u001b[0;34m\"reading :\"\u001b[0m\u001b[0;34m,\u001b[0m \u001b[0mname\u001b[0m\u001b[0;34m)\u001b[0m\u001b[0;34m\u001b[0m\u001b[0m\n\u001b[0;32m----> 3\u001b[0;31m     \u001b[0mreads\u001b[0m\u001b[0;34m,\u001b[0m \u001b[0mqualities\u001b[0m \u001b[0;34m=\u001b[0m \u001b[0mread_fastq\u001b[0m\u001b[0;34m(\u001b[0m\u001b[0mpath\u001b[0m \u001b[0;34m+\u001b[0m \u001b[0mname\u001b[0m\u001b[0;34m)\u001b[0m\u001b[0;34m\u001b[0m\u001b[0m\n\u001b[0m\u001b[1;32m      4\u001b[0m \u001b[0;34m\u001b[0m\u001b[0m\n\u001b[1;32m      5\u001b[0m \u001b[0;34m\u001b[0m\u001b[0m\n",
      "\u001b[0;32m<ipython-input-6-1ec66fbc8005>\u001b[0m in \u001b[0;36mread_fastq\u001b[0;34m(path)\u001b[0m\n\u001b[1;32m      1\u001b[0m \u001b[0;32mdef\u001b[0m \u001b[0mread_fastq\u001b[0m\u001b[0;34m(\u001b[0m\u001b[0mpath\u001b[0m\u001b[0;34m)\u001b[0m\u001b[0;34m:\u001b[0m\u001b[0;34m\u001b[0m\u001b[0m\n\u001b[0;32m----> 2\u001b[0;31m     \u001b[0;32mwith\u001b[0m \u001b[0mopen\u001b[0m\u001b[0;34m(\u001b[0m\u001b[0mpath\u001b[0m\u001b[0;34m)\u001b[0m \u001b[0;32mas\u001b[0m \u001b[0mf\u001b[0m\u001b[0;34m:\u001b[0m\u001b[0;34m\u001b[0m\u001b[0m\n\u001b[0m\u001b[1;32m      3\u001b[0m         \u001b[0mlines\u001b[0m \u001b[0;34m=\u001b[0m \u001b[0mf\u001b[0m\u001b[0;34m.\u001b[0m\u001b[0mreadlines\u001b[0m\u001b[0;34m(\u001b[0m\u001b[0;34m)\u001b[0m\u001b[0;34m\u001b[0m\u001b[0m\n\u001b[1;32m      4\u001b[0m \u001b[0;34m\u001b[0m\u001b[0m\n\u001b[1;32m      5\u001b[0m     \u001b[0mreads\u001b[0m \u001b[0;34m=\u001b[0m \u001b[0;34m[\u001b[0m\u001b[0mx\u001b[0m\u001b[0;34m[\u001b[0m\u001b[0;34m:\u001b[0m\u001b[0;34m-\u001b[0m\u001b[0;36m1\u001b[0m\u001b[0;34m]\u001b[0m \u001b[0;32mfor\u001b[0m \u001b[0mx\u001b[0m \u001b[0;32min\u001b[0m \u001b[0mlines\u001b[0m\u001b[0;34m[\u001b[0m\u001b[0;36m1\u001b[0m\u001b[0;34m:\u001b[0m\u001b[0;34m:\u001b[0m\u001b[0;36m4\u001b[0m\u001b[0;34m]\u001b[0m\u001b[0;34m]\u001b[0m\u001b[0;34m\u001b[0m\u001b[0m\n",
      "\u001b[0;31mIsADirectoryError\u001b[0m: [Errno 21] Is a directory: '../data/student_Dvyg/CD/pairs_0'"
     ]
    }
   ],
   "source": [
    "for name in tqdm_notebook(names[:]):\n",
    "    \n",
    "#     print(name, int(name.split(\"-\")[1].split(\"_\")[0]) - 1)\n",
    "#     rep = repeats[int(name.split(\"-\")[1].split(\"_\")[0]) - 1]\n",
    "\n",
    "    \n",
    "    pairs, pairs_q, min_pq, mask_2 = main(path, name, redundant)\n",
    "    save_pairs(\"../data/student_Dvyg/CD/pairs_0/\", name, pairs)"
   ]
  },
  {
   "cell_type": "code",
   "execution_count": null,
   "metadata": {},
   "outputs": [],
   "source": []
  },
  {
   "cell_type": "raw",
   "metadata": {},
   "source": [
    "Sample\tTamplate\tPrimers\tPolymerase\n",
    "Polina_1\t3:1\tredundant\tTaq\n",
    "Polina_2\t3:1\tnon-redundant №1\tTaq\n",
    "Polina_3\t3:1\tnon-redundant №2\tTaq\n",
    "Polina_4\t3:1:0.3\tredundant\tTaq\n",
    "Polina_5\t3:1\tredundant\tQ5\n",
    "Polina_6\t3:1\tnon-redundant №1\tQ5\n",
    "Polina_7\t3:1\tnon-redundant №2\tQ5\n",
    "\t\t\t\n",
    "\t\t\t\n",
    "Preimer sequences\t\t\t\n",
    "redundant\t\t\t\n",
    "\tForward\tACTAWRTGGWATGTAAAT + ACTAWRTGGWATGTAAAG\t\n",
    "\tReverse\tCCAYWTAGTTAATATAAAAC + CCAYWTAGTTAATCTAAAAC\t\n",
    "non-redundant №1\t\t\t\n",
    "\tForward\tACT AAG TGG TAT GTA AAG\t\n",
    "\tReverse\tCCA CTT AGT TAA TAT AAA AC\t\n",
    "non-redundant №2\t\t\t\n",
    "\tF = ACT ATA TGG AAT GTA AAT\t\n",
    "    R = CCA TAT AGT TAA TAT AAA AC\t"
   ]
  },
  {
   "cell_type": "code",
   "execution_count": null,
   "metadata": {},
   "outputs": [],
   "source": [
    "\"ACTATATGGAATGTAAAT\""
   ]
  },
  {
   "cell_type": "code",
   "execution_count": 20,
   "metadata": {},
   "outputs": [
    {
     "data": {
      "text/plain": [
       "'GTTTTATATTAACTATATGG'"
      ]
     },
     "execution_count": 20,
     "metadata": {},
     "output_type": "execute_result"
    }
   ],
   "source": [
    "rc(\"CCATATAGTTAATATAAAAC\", r= 1)"
   ]
  },
  {
   "cell_type": "code",
   "execution_count": null,
   "metadata": {},
   "outputs": [],
   "source": [
    "nr2 'GTTTTATATTA(ACTATATGG)AATGTAAAT'"
   ]
  },
  {
   "cell_type": "code",
   "execution_count": null,
   "metadata": {},
   "outputs": [],
   "source": [
    "nr1 'GTTTTATATTA(ACTAAGTGG)TATGTAAAG'"
   ]
  },
  {
   "cell_type": "code",
   "execution_count": null,
   "metadata": {},
   "outputs": [],
   "source": [
    "redundant_1 = "
   ]
  },
  {
   "cell_type": "code",
   "execution_count": 109,
   "metadata": {},
   "outputs": [
    {
     "data": {
      "text/plain": [
       "'GGTRWATCAATTAGATTTTG'"
      ]
     },
     "execution_count": 109,
     "metadata": {},
     "output_type": "execute_result"
    }
   ],
   "source": [
    "rc(\"CCAYWTAGTTAATCTAAAAC\", r = 1)"
   ]
  },
  {
   "cell_type": "code",
   "execution_count": 110,
   "metadata": {},
   "outputs": [],
   "source": [
    "oob_r = [\"ACTAWRTGGWATGTAAAT\", \"ACTAWRTGGWATGTAAAG\", \"CCAYWTAGTTAATATAAAAC\", \"CCAYWTAGTTAATCTAAAAC\"] "
   ]
  },
  {
   "cell_type": "code",
   "execution_count": 112,
   "metadata": {},
   "outputs": [
    {
     "data": {
      "text/plain": [
       "['TGATWYACCWTACATTTA',\n",
       " 'TGATWYACCWTACATTTC',\n",
       " 'GGTRWATCAATTATATTTTG',\n",
       " 'GGTRWATCAATTAGATTTTG']"
      ]
     },
     "execution_count": 112,
     "metadata": {},
     "output_type": "execute_result"
    }
   ],
   "source": [
    "[rc(x) for x in oob_r]"
   ]
  },
  {
   "cell_type": "code",
   "execution_count": 113,
   "metadata": {},
   "outputs": [
    {
     "data": {
      "text/plain": [
       "['ATTTACATWCCAYWTAGT',\n",
       " 'CTTTACATWCCAYWTAGT',\n",
       " 'GTTTTATATTAACTAWRTGG',\n",
       " 'GTTTTAGATTAACTAWRTGG']"
      ]
     },
     "execution_count": 113,
     "metadata": {},
     "output_type": "execute_result"
    }
   ],
   "source": [
    "[rc(x, r =1) for x in oob_r]"
   ]
  },
  {
   "cell_type": "code",
   "execution_count": 25,
   "metadata": {},
   "outputs": [],
   "source": [
    "repeat = \"GTTTTAKATTA(ACTAWRTGG)WATGTAAAK\"\n",
    "repeat_s = \"GTTTTAKATTAACTAWRTGG\"\n",
    "repeat_e = \"ACTAWRTGGWATGTAAAK\"\n",
    "\n",
    "repeat_clear = \"GTTTTAKATTAACTAWRTGGWATGTAAAK\""
   ]
  },
  {
   "cell_type": "code",
   "execution_count": 103,
   "metadata": {
    "scrolled": true
   },
   "outputs": [
    {
     "data": {
      "text/plain": [
       "'CAAAATMTAAT(TGATWYACC)WTACATTTM'"
      ]
     },
     "execution_count": 103,
     "metadata": {},
     "output_type": "execute_result"
    }
   ],
   "source": [
    "rc(repeat)"
   ]
  },
  {
   "cell_type": "code",
   "execution_count": 65,
   "metadata": {},
   "outputs": [],
   "source": [
    "class Repeat:\n",
    "    def __init__(self, r, rs, re, rc):\n",
    "        self.r = r\n",
    "        self.rs = rs\n",
    "        self.re = re\n",
    "        self.rc = rc"
   ]
  },
  {
   "cell_type": "code",
   "execution_count": 66,
   "metadata": {},
   "outputs": [],
   "source": [
    "redundant = Repeat(\"GTTTTAKATTA(ACTAWRTGG)WATGTAAAK\", \n",
    "                   \"GTTTTAKATTAACTAWRTGG\",\n",
    "                   \"ACTAWRTGGWATGTAAAK\",\n",
    "                   \"GTTTTAKATTAACTAWRTGGWATGTAAAK\")\n",
    "\n",
    "non_redundant_1 = Repeat(\"GTTTTATATTA(ACTAAGTGG)TATGTAAAG\",\n",
    "                           \"GTTTTATATTAACTAAGTGG\",\n",
    "                           \"ACTAAGTGG)TATGTAAAG\",\n",
    "                           \"GTTTTATATTAACTAAGTGGTATGTAAAG\"\n",
    "                          )\n",
    "\n",
    "non_redundant_2 = Repeat(\"GTTTTATATTA(ACTATATGG)AATGTAAAT\",\n",
    "                           \"GTTTTATATTAACTATATGG\",\n",
    "                           \"ACTATATGGAATGTAAAT\",\n",
    "                           \"GTTTTATATTAACTATATGGAATGTAAAT\"\n",
    "                          )"
   ]
  },
  {
   "cell_type": "code",
   "execution_count": null,
   "metadata": {},
   "outputs": [],
   "source": []
  },
  {
   "cell_type": "code",
   "execution_count": null,
   "metadata": {},
   "outputs": [],
   "source": []
  },
  {
   "cell_type": "code",
   "execution_count": null,
   "metadata": {},
   "outputs": [],
   "source": []
  },
  {
   "cell_type": "code",
   "execution_count": 63,
   "metadata": {},
   "outputs": [],
   "source": [
    "save_pairs(\"../data/clostr_Polina/pairs/\", names[0], pairs)"
   ]
  },
  {
   "cell_type": "code",
   "execution_count": 23,
   "metadata": {},
   "outputs": [],
   "source": [
    "def save_pairs(path, name, pairs):\n",
    "    name = name.split(\".\")[0]\n",
    "    with open(path + name, 'w') as f:\n",
    "        for p in pairs:\n",
    "            f.write(\"\\t\".join(p))\n",
    "            f.write(\"\\n\")\n",
    "            "
   ]
  },
  {
   "cell_type": "code",
   "execution_count": null,
   "metadata": {},
   "outputs": [],
   "source": []
  },
  {
   "cell_type": "code",
   "execution_count": 18,
   "metadata": {},
   "outputs": [],
   "source": [
    "reads, qualities = read_fastq(path)"
   ]
  },
  {
   "cell_type": "code",
   "execution_count": 20,
   "metadata": {
    "scrolled": true
   },
   "outputs": [],
   "source": [
    "pairs, pairs_q = [], []\n",
    "for r,q in tqdm_notebook(zip(reads, qualities)):\n",
    "    p, pq = split_read(r, q, repeat, repeat_s, repeat_e)\n",
    "    pairs.append(p)\n",
    "    pairs_q.append(pq)"
   ]
  },
  {
   "cell_type": "code",
   "execution_count": 22,
   "metadata": {},
   "outputs": [],
   "source": [
    "pairs = np.array(pairs)\n",
    "pairs_q = np.array(pairs_q)"
   ]
  },
  {
   "cell_type": "code",
   "execution_count": 25,
   "metadata": {},
   "outputs": [
    {
     "data": {
      "application/vnd.jupyter.widget-view+json": {
       "model_id": "de97e1d406f44787b2dd2e4db1af9381",
       "version_major": 2,
       "version_minor": 0
      },
      "text/plain": [
       "A Jupyter Widget"
      ]
     },
     "metadata": {},
     "output_type": "display_data"
    },
    {
     "name": "stdout",
     "output_type": "stream",
     "text": [
      "\n",
      "28815\n"
     ]
    }
   ],
   "source": [
    "mask = np.array(['-1' not in pair for pair in tqdm_notebook(pairs)])\n",
    "\n",
    "print(mask.sum())\n",
    "\n",
    "pairs = pairs[mask]\n",
    "pairs_q = pairs_q[mask]"
   ]
  },
  {
   "cell_type": "code",
   "execution_count": 53,
   "metadata": {},
   "outputs": [],
   "source": [
    "min_pq = np.array([get_lowest_q(pq) for pq in pairs_q])"
   ]
  },
  {
   "cell_type": "code",
   "execution_count": null,
   "metadata": {},
   "outputs": [],
   "source": []
  },
  {
   "cell_type": "code",
   "execution_count": null,
   "metadata": {},
   "outputs": [],
   "source": []
  },
  {
   "cell_type": "code",
   "execution_count": null,
   "metadata": {},
   "outputs": [],
   "source": []
  },
  {
   "cell_type": "code",
   "execution_count": null,
   "metadata": {},
   "outputs": [],
   "source": []
  },
  {
   "cell_type": "code",
   "execution_count": 363,
   "metadata": {},
   "outputs": [],
   "source": [
    "pairs = np.array(pairs)"
   ]
  },
  {
   "cell_type": "code",
   "execution_count": 375,
   "metadata": {
    "scrolled": true
   },
   "outputs": [],
   "source": [
    "mask = np.array(['-1' not in pair for pair in pairs])"
   ]
  },
  {
   "cell_type": "code",
   "execution_count": 379,
   "metadata": {},
   "outputs": [
    {
     "data": {
      "text/plain": [
       "array([['GAGGAGATTCAGACAGCGACTAAAAAGACTGATATA',\n",
       "        'AACTTTATATCTCCANTTGCATATCCATCTGATGA'],\n",
       "       ['GCGTACAAGGTTGAGAAGCTCCGCAATCTCAACGTC',\n",
       "        'CAGCCAAAAACTTCGAATTTGAACTAAAATGCGT'],\n",
       "       ['AGGAGATAACTTCTATTAAAGATAACTTTGATGTG',\n",
       "        'GCGTACAAGGTTGAGAAGCTCCGCAATCTCAACGTC'],\n",
       "       ...,\n",
       "       ['AACTTTATATCTCCATTTGCATATCCATCTGATGA',\n",
       "        'GCGTACAAGGTTGAGAAGCTCCGCAATCTCAACGTC'],\n",
       "       ['AACTTTATATCTCCATTTGCATATCCATCTGATGC',\n",
       "        'GCGTACAAGGTTGAGAAGCTCCGCAATCTCAACGTC'],\n",
       "       ['GCTTACAAGGTTGAGAAGCTCCGCAATCTCAAAGTCGT',\n",
       "        'ATTTGAAATGAATAAATTTTAAATGAATGAAAGTATAG']], dtype='<U105')"
      ]
     },
     "execution_count": 379,
     "metadata": {},
     "output_type": "execute_result"
    }
   ],
   "source": [
    "pairs[mask]"
   ]
  },
  {
   "cell_type": "code",
   "execution_count": null,
   "metadata": {},
   "outputs": [],
   "source": []
  },
  {
   "cell_type": "code",
   "execution_count": null,
   "metadata": {},
   "outputs": [],
   "source": []
  },
  {
   "cell_type": "code",
   "execution_count": null,
   "metadata": {},
   "outputs": [],
   "source": []
  },
  {
   "cell_type": "code",
   "execution_count": null,
   "metadata": {},
   "outputs": [],
   "source": []
  },
  {
   "cell_type": "code",
   "execution_count": 299,
   "metadata": {},
   "outputs": [
    {
     "data": {
      "text/plain": [
       "(array([     0.,      0.,      0.,      0.,      0., 128171.,      0.,\n",
       "             0.,      0.,      0.]),\n",
       " array([150.5, 150.6, 150.7, 150.8, 150.9, 151. , 151.1, 151.2, 151.3,\n",
       "        151.4, 151.5]),\n",
       " <a list of 10 Patch objects>)"
      ]
     },
     "execution_count": 299,
     "metadata": {},
     "output_type": "execute_result"
    },
    {
     "data": {
      "image/png": "[encoded data removed]",
      "text/plain": [
       "<matplotlib.figure.Figure at 0x7f80514ca748>"
      ]
     },
     "metadata": {},
     "output_type": "display_data"
    }
   ],
   "source": [
    "plt.hist([len(x) for x in reads])"
   ]
  },
  {
   "cell_type": "code",
   "execution_count": 312,
   "metadata": {},
   "outputs": [
    {
     "data": {
      "text/plain": [
       "95"
      ]
     },
     "execution_count": 312,
     "metadata": {},
     "output_type": "execute_result"
    }
   ],
   "source": [
    "len(quality_symbols)"
   ]
  },
  {
   "cell_type": "code",
   "execution_count": 313,
   "metadata": {},
   "outputs": [
    {
     "data": {
      "text/plain": [
       "'!\"#$%&\\\\\\'()*+,-.'"
      ]
     },
     "execution_count": 313,
     "metadata": {},
     "output_type": "execute_result"
    }
   ],
   "source": [
    "quality_symbols[:15]"
   ]
  },
  {
   "cell_type": "code",
   "execution_count": 316,
   "metadata": {},
   "outputs": [
    {
     "data": {
      "text/plain": [
       "'AFFAFF=FFAFFFFFFFAFFFFFAFFFAFFFFFFFFFFFFFFFFFFFFFFFAFFFFFF/FFFFFFF6FAAFFFFFFFFF=FFFFFFFFFAFFFFFFFAFFF/FAFAF/FFFFF/FFF/FFFFFF=FFFFFFFFF/FFF/FFFFFFFFFFFF'"
      ]
     },
     "execution_count": 316,
     "metadata": {},
     "output_type": "execute_result"
    }
   ],
   "source": [
    "qualities[100]"
   ]
  },
  {
   "cell_type": "code",
   "execution_count": null,
   "metadata": {},
   "outputs": [],
   "source": []
  },
  {
   "cell_type": "code",
   "execution_count": null,
   "metadata": {},
   "outputs": [],
   "source": []
  },
  {
   "cell_type": "code",
   "execution_count": 318,
   "metadata": {},
   "outputs": [],
   "source": [
    "#  [sum([y in x for x in np.array(qualities)[mask]]) for y in quality_symbols]"
   ]
  },
  {
   "cell_type": "code",
   "execution_count": null,
   "metadata": {},
   "outputs": [],
   "source": []
  },
  {
   "cell_type": "code",
   "execution_count": 232,
   "metadata": {},
   "outputs": [],
   "source": [
    "p_str = repeat_to_re_pattern(\"(AAd)\") "
   ]
  },
  {
   "cell_type": "code",
   "execution_count": 233,
   "metadata": {},
   "outputs": [
    {
     "data": {
      "text/plain": [
       "'(AAd){e<=2}'"
      ]
     },
     "execution_count": 233,
     "metadata": {},
     "output_type": "execute_result"
    }
   ],
   "source": [
    "p_str"
   ]
  },
  {
   "cell_type": "code",
   "execution_count": 243,
   "metadata": {},
   "outputs": [],
   "source": [
    "#p = re.compile(\"(AAAC){e<=2}\")\n",
    "p = re.compile(p_str)"
   ]
  },
  {
   "cell_type": "code",
   "execution_count": 244,
   "metadata": {},
   "outputs": [
    {
     "data": {
      "text/plain": [
       "[]"
      ]
     },
     "execution_count": 244,
     "metadata": {},
     "output_type": "execute_result"
    }
   ],
   "source": [
    "[x.span() for x in re.finditer(p, \"AAAA\")]"
   ]
  },
  {
   "cell_type": "code",
   "execution_count": null,
   "metadata": {},
   "outputs": [],
   "source": []
  },
  {
   "cell_type": "code",
   "execution_count": 259,
   "metadata": {},
   "outputs": [
    {
     "name": "stdout",
     "output_type": "stream",
     "text": [
      "(GTTTTA[G|T]ATTAACTA[A|T][A|G]TGG[A|T]ATGTAAA[G|T]){e<=6}\n"
     ]
    }
   ],
   "source": [
    "p_str = repeat_to_re_pattern(repeat,e=6)\n",
    "p = re.compile(p_str)\n",
    "print(p_str)"
   ]
  },
  {
   "cell_type": "code",
   "execution_count": 260,
   "metadata": {},
   "outputs": [
    {
     "data": {
      "text/plain": [
       "[(52, 84)]"
      ]
     },
     "execution_count": 260,
     "metadata": {},
     "output_type": "execute_result"
    }
   ],
   "source": [
    "[x.span() for x in re.finditer(p, reads[1])]"
   ]
  },
  {
   "cell_type": "code",
   "execution_count": 261,
   "metadata": {},
   "outputs": [
    {
     "data": {
      "text/plain": [
       "'GGGTTTTAGATTAACTAAATGGAGATCGGAAG'"
      ]
     },
     "execution_count": 261,
     "metadata": {},
     "output_type": "execute_result"
    }
   ],
   "source": [
    "reads[1][52:84]"
   ]
  },
  {
   "cell_type": "code",
   "execution_count": 268,
   "metadata": {},
   "outputs": [
    {
     "data": {
      "text/plain": [
       "151"
      ]
     },
     "execution_count": 268,
     "metadata": {},
     "output_type": "execute_result"
    }
   ],
   "source": [
    "len(reads[1])"
   ]
  },
  {
   "cell_type": "code",
   "execution_count": 267,
   "metadata": {},
   "outputs": [
    {
     "name": "stdout",
     "output_type": "stream",
     "text": [
      "G G\n",
      "T T\n",
      "T T\n",
      "T T\n",
      "T T\n",
      "A A\n",
      "G K\n",
      "A A\n",
      "T T\n",
      "T T\n",
      "A A\n",
      "A A\n",
      "C C\n",
      "T T\n",
      "A A\n",
      "A W\n",
      "A R\n",
      "T T\n",
      "G G\n",
      "G G\n",
      "A W\n",
      "G A\n",
      "A T\n",
      "T G\n",
      "C T\n",
      "G A\n",
      "G A\n",
      "A A\n",
      "A K\n"
     ]
    }
   ],
   "source": [
    "print_together(reads[1][54:84], repeat_clear)"
   ]
  },
  {
   "cell_type": "code",
   "execution_count": 263,
   "metadata": {},
   "outputs": [],
   "source": [
    "def print_together(s1, s2):\n",
    "    for a,b in zip(s1, s2):\n",
    "        print(a,b)"
   ]
  },
  {
   "cell_type": "code",
   "execution_count": 254,
   "metadata": {},
   "outputs": [
    {
     "name": "stdout",
     "output_type": "stream",
     "text": [
      "A A\n",
      "C C\n",
      "T T\n",
      "A A\n",
      "T W\n",
      "G R\n",
      "T T\n",
      "G G\n",
      "G G\n",
      "A )\n",
      "A W\n",
      "T A\n",
      "G T\n",
      "T G\n",
      "A T\n",
      "A A\n",
      "A A\n",
      "T A\n",
      "G K\n"
     ]
    }
   ],
   "source": [
    "for  a,b in zip(reads[0], repeat[12:]):\n",
    "    print(a, b)"
   ]
  },
  {
   "cell_type": "code",
   "execution_count": null,
   "metadata": {},
   "outputs": [],
   "source": []
  },
  {
   "cell_type": "code",
   "execution_count": 17,
   "metadata": {},
   "outputs": [],
   "source": [
    "def repeat_matches(read, repeat, wildcards):\n",
    "    pass"
   ]
  },
  {
   "cell_type": "code",
   "execution_count": 102,
   "metadata": {},
   "outputs": [
    {
     "data": {
      "text/plain": [
       "'A|N|B'"
      ]
     },
     "execution_count": 102,
     "metadata": {},
     "output_type": "execute_result"
    }
   ],
   "source": [
    "\"|\".join(\"ANB\")"
   ]
  },
  {
   "cell_type": "code",
   "execution_count": null,
   "metadata": {},
   "outputs": [],
   "source": []
  },
  {
   "cell_type": "code",
   "execution_count": null,
   "metadata": {},
   "outputs": [],
   "source": []
  },
  {
   "cell_type": "markdown",
   "metadata": {},
   "source": [
    "## import bio"
   ]
  },
  {
   "cell_type": "code",
   "execution_count": 154,
   "metadata": {},
   "outputs": [],
   "source": [
    "from Bio.Seq import Seq\n",
    "from Bio.Alphabet import generic_nucleotide\n",
    "from Bio.Alphabet import IUPAC\n",
    "nuc_seq = Seq(\"GATCGATGC\", generic_nucleotide)\n",
    "dna_seq = Seq(\"ACGTW\", IUPAC.unambiguous_dna)"
   ]
  },
  {
   "cell_type": "code",
   "execution_count": 152,
   "metadata": {},
   "outputs": [
    {
     "data": {
      "text/plain": [
       "'GATCRYWSMKHBVDN'"
      ]
     },
     "execution_count": 152,
     "metadata": {},
     "output_type": "execute_result"
    }
   ],
   "source": [
    "IUPAC.ambiguous_dna"
   ]
  },
  {
   "cell_type": "code",
   "execution_count": 151,
   "metadata": {},
   "outputs": [
    {
     "data": {
      "text/plain": [
       "{'W': 'AT',\n",
       " 'S': 'CG',\n",
       " 'M': 'AC',\n",
       " 'K': 'GT',\n",
       " 'R': 'AG',\n",
       " 'Y': 'CT',\n",
       " 'B': 'CGT',\n",
       " 'D': 'AGT',\n",
       " 'H': 'ACT',\n",
       " 'V': 'ACG',\n",
       " 'N': 'ACGT'}"
      ]
     },
     "execution_count": 151,
     "metadata": {},
     "output_type": "execute_result"
    }
   ],
   "source": [
    "IUPAC_WILDCARDS"
   ]
  },
  {
   "cell_type": "markdown",
   "metadata": {},
   "source": [
    "## RE"
   ]
  },
  {
   "cell_type": "code",
   "execution_count": 206,
   "metadata": {},
   "outputs": [],
   "source": [
    "import regex as re"
   ]
  },
  {
   "cell_type": "code",
   "execution_count": 96,
   "metadata": {},
   "outputs": [],
   "source": [
    "p = re.compile('a[d|b]c')"
   ]
  },
  {
   "cell_type": "code",
   "execution_count": 98,
   "metadata": {},
   "outputs": [
    {
     "data": {
      "text/plain": [
       "[]"
      ]
     },
     "execution_count": 98,
     "metadata": {},
     "output_type": "execute_result"
    }
   ],
   "source": [
    "re.findall(p, 'aabddcx')"
   ]
  },
  {
   "cell_type": "code",
   "execution_count": null,
   "metadata": {},
   "outputs": [],
   "source": []
  },
  {
   "cell_type": "code",
   "execution_count": null,
   "metadata": {},
   "outputs": [],
   "source": []
  },
  {
   "cell_type": "markdown",
   "metadata": {},
   "source": [
    "## Mastering spades"
   ]
  },
  {
   "cell_type": "code",
   "execution_count": 55,
   "metadata": {},
   "outputs": [],
   "source": [
    "import sys\n",
    "sys.path.append(\"../spget/\")\n",
    "\n",
    "from importlib import reload"
   ]
  },
  {
   "cell_type": "code",
   "execution_count": 56,
   "metadata": {},
   "outputs": [],
   "source": [
    "import spget as sp\n",
    "sp = reload(sp)"
   ]
  },
  {
   "cell_type": "code",
   "execution_count": null,
   "metadata": {},
   "outputs": [],
   "source": []
  },
  {
   "cell_type": "code",
   "execution_count": null,
   "metadata": {},
   "outputs": [],
   "source": []
  },
  {
   "cell_type": "code",
   "execution_count": 92,
   "metadata": {
    "scrolled": true
   },
   "outputs": [
    {
     "name": "stdout",
     "output_type": "stream",
     "text": [
      "\n",
      "\n",
      "\n",
      "\n",
      "\n",
      "\n",
      "\n",
      "\n",
      "\n",
      "\n",
      "\n",
      "\n",
      "1\tGTTTTAKATTA(ACTAWRTGG)WATGTAAAK\t6\n"
     ]
    },
    {
     "name": "stderr",
     "output_type": "stream",
     "text": [
      "\n",
      "loading repeats from ../data/clostr_Polina/primers.txt\n"
     ]
    }
   ],
   "source": [
    "# path = \"../data/clostr_test/fastq/test_1.fastq\"\n",
    "# path = \"../data/scripts/raw_data_clostr.fastq\"\n",
    "r_path = \"../data/clostr_Polina/primers.txt\"\n",
    "rep = sp.load_repeats(r_path)"
   ]
  },
  {
   "cell_type": "code",
   "execution_count": 93,
   "metadata": {
    "scrolled": true
   },
   "outputs": [
    {
     "name": "stderr",
     "output_type": "stream",
     "text": [
      "\n",
      "using following repeats sequences:\n",
      "seq: GTTTTAKATTAACTAWRTGGWATGTAAAK id: 0 types: 1(|1) mismatches: 6\n",
      "seq: ACTAWRTGGWATGTAAAK id: 1 types: 1( mismatches: 6\n",
      "seq: GTTTTAKATTAACTAWRTGG id: 2 types: 1) mismatches: 6\n"
     ]
    }
   ],
   "source": [
    "all_mm = {}\n",
    "b = {}\n",
    "sp.fill_parts(rep, all_mm, b )"
   ]
  },
  {
   "cell_type": "code",
   "execution_count": 94,
   "metadata": {
    "scrolled": true
   },
   "outputs": [
    {
     "data": {
      "text/plain": [
       "regex.Regex('(?:GTTTTAKATTAACTAWRTGGWATGTAAAK){s<=6,i<=0,d<=0}', flags=regex.V0)"
      ]
     },
     "execution_count": 94,
     "metadata": {},
     "output_type": "execute_result"
    }
   ],
   "source": [
    "all_mm['GTTTTAKATTAACTAWRTGGWATGTAAAK']['RE_FUZZY']"
   ]
  },
  {
   "cell_type": "code",
   "execution_count": null,
   "metadata": {},
   "outputs": [],
   "source": []
  },
  {
   "cell_type": "code",
   "execution_count": 65,
   "metadata": {},
   "outputs": [],
   "source": [
    "lines, q= read_fastq(\"../data/clostr_Polina/fastq/Polina-1_S11_L001_R1_001.fastq\")"
   ]
  },
  {
   "cell_type": "code",
   "execution_count": 80,
   "metadata": {},
   "outputs": [],
   "source": [
    "for pat in a:\n",
    "    mm = all_mm[pat][\"MM\"]\n",
    "    ins = all_mm[pat][\"INS\"]\n",
    "    dl = all_mm[pat][\"DEL\"]\n",
    "    pat_sys = all_mm[pat][\"SYS\"]\n",
    "    pat_type = all_mm[pat][\"TYPE\"]\n",
    "    pat_re_fuzzy = all_mm[pat][\"RE_FUZZY\"]\n",
    "    pat_id = all_mm[pat][\"ID\"]\n",
    "    found = sp.fuzzy_find_seq(lines[0], pat, mm, ins, dl, pat_re_fuzzy, pat_type, pat_id)"
   ]
  },
  {
   "cell_type": "code",
   "execution_count": 82,
   "metadata": {},
   "outputs": [],
   "source": [
    "found"
   ]
  },
  {
   "cell_type": "code",
   "execution_count": 91,
   "metadata": {},
   "outputs": [
    {
     "data": {
      "text/plain": [
       "{'GTTTTAKATTAACTAWRTGGWATGTAAAK': {'MM': 2,\n",
       "  'INS': 0,\n",
       "  'DEL': 0,\n",
       "  'SYS': {'1'},\n",
       "  'TYPE': {'1(', '1)'},\n",
       "  'ID': '0',\n",
       "  'DA_SET': set(),\n",
       "  'RE_FUZZY': regex.Regex('(?:GTTTTAKATTAACTAWRTGGWATGTAAAK){s<=2,i<=0,d<=0}', flags=regex.V0)},\n",
       " 'ACTAWRTGGWATGTAAAK': {'MM': 2,\n",
       "  'INS': 0,\n",
       "  'DEL': 0,\n",
       "  'SYS': {'1'},\n",
       "  'TYPE': {'1('},\n",
       "  'ID': '1',\n",
       "  'DA_SET': set(),\n",
       "  'RE_FUZZY': regex.Regex('(?:ACTAWRTGGWATGTAAAK){s<=2,i<=0,d<=0}', flags=regex.V0)},\n",
       " 'GTTTTAKATTAACTAWRTGG': {'MM': 2,\n",
       "  'INS': 0,\n",
       "  'DEL': 0,\n",
       "  'SYS': {'1'},\n",
       "  'TYPE': {'1)'},\n",
       "  'ID': '2',\n",
       "  'DA_SET': set(),\n",
       "  'RE_FUZZY': regex.Regex('(?:GTTTTAKATTAACTAWRTGG){s<=2,i<=0,d<=0}', flags=regex.V0)}}"
      ]
     },
     "execution_count": 91,
     "metadata": {},
     "output_type": "execute_result"
    }
   ],
   "source": [
    "all_mm"
   ]
  },
  {
   "cell_type": "code",
   "execution_count": 105,
   "metadata": {},
   "outputs": [],
   "source": [
    "coords = sp.get_system_coords(lines[1], all_mm)"
   ]
  },
  {
   "cell_type": "code",
   "execution_count": 108,
   "metadata": {
    "scrolled": true
   },
   "outputs": [
    {
     "name": "stdout",
     "output_type": "stream",
     "text": [
      "[(54, 85), (120, 151)]\n",
      "[(0, 18)]\n",
      "[(35, 57)]\n"
     ]
    },
    {
     "data": {
      "text/plain": [
       "(['GAGGAGATTCAGACAGCGACTAAAAAGACTGATATA',\n",
       "  'AACTTTATATCTCCANTTGCATATCCATCTGATGA'],\n",
       " ['FFFFFFFFFFFFFFFF/FFAFFFFFFFFFFFFFFFF',\n",
       "  'FFFFFFFFFFFFFFFFFFFFFFFFFFFFF=F/=//'])"
      ]
     },
     "execution_count": 108,
     "metadata": {},
     "output_type": "execute_result"
    }
   ],
   "source": [
    "split_read(lines[0], q[1], redundant.rc, redundant.rs, redundant.re, v =1)"
   ]
  },
  {
   "cell_type": "code",
   "execution_count": null,
   "metadata": {},
   "outputs": [],
   "source": []
  },
  {
   "cell_type": "code",
   "execution_count": null,
   "metadata": {},
   "outputs": [],
   "source": []
  },
  {
   "cell_type": "code",
   "execution_count": null,
   "metadata": {},
   "outputs": [],
   "source": []
  },
  {
   "cell_type": "code",
   "execution_count": 72,
   "metadata": {},
   "outputs": [
    {
     "data": {
      "text/plain": [
       "{'MM': 2,\n",
       " 'INS': 0,\n",
       " 'DEL': 0,\n",
       " 'SYS': {'1'},\n",
       " 'TYPE': {'1(', '1)'},\n",
       " 'ID': '0',\n",
       " 'DA_SET': set(),\n",
       " 'RE_FUZZY': regex.Regex('(?:GTTTTAKATTAACTAWRTGGWATGTAAAK){s<=2,i<=0,d<=0}', flags=regex.V0)}"
      ]
     },
     "execution_count": 72,
     "metadata": {},
     "output_type": "execute_result"
    }
   ],
   "source": [
    "a['GTTTTAKATTAACTAWRTGGWATGTAAAK']"
   ]
  },
  {
   "cell_type": "code",
   "execution_count": null,
   "metadata": {},
   "outputs": [],
   "source": [
    "sp.fuzzy_find_seq()"
   ]
  },
  {
   "cell_type": "code",
   "execution_count": null,
   "metadata": {},
   "outputs": [],
   "source": []
  },
  {
   "cell_type": "code",
   "execution_count": 45,
   "metadata": {},
   "outputs": [
    {
     "data": {
      "text/plain": [
       "'ATTTACATTCCATATAGTTAATCTAAAACGTTCATCAGATGGATATGCAANTGGAGATATAAAGTTATTTACATTCCATATAGTTAATCTAAAACTTTATATCAGTCTTTTTAGTCGCTGTCTGAATCTCCTCATTTACATTCCACATAGT'"
      ]
     },
     "execution_count": 45,
     "metadata": {},
     "output_type": "execute_result"
    }
   ],
   "source": [
    "sp.rc(raw)"
   ]
  },
  {
   "cell_type": "code",
   "execution_count": 53,
   "metadata": {},
   "outputs": [
    {
     "name": "stdout",
     "output_type": "stream",
     "text": [
      "{}\n",
      "{}\n",
      "{}\n",
      "{}\n",
      "{}\n",
      "{}\n",
      "{}\n",
      "{}\n"
     ]
    }
   ],
   "source": [
    "for r in raw:\n",
    "    print(sp.get_system_coords(sp.rc(r), a))"
   ]
  },
  {
   "cell_type": "code",
   "execution_count": 54,
   "metadata": {
    "scrolled": true
   },
   "outputs": [
    {
     "name": "stdout",
     "output_type": "stream",
     "text": [
      "{}\n",
      "{}\n",
      "{}\n",
      "{}\n",
      "{}\n",
      "{}\n",
      "{}\n",
      "{}\n"
     ]
    }
   ],
   "source": [
    "for r in raw:\n",
    "    print(sp.get_system_coords(r, a))"
   ]
  },
  {
   "cell_type": "code",
   "execution_count": 56,
   "metadata": {},
   "outputs": [],
   "source": [
    "from spget import * "
   ]
  },
  {
   "cell_type": "code",
   "execution_count": 58,
   "metadata": {},
   "outputs": [],
   "source": [
    "path = \"../data/clostr_test/fastq/test_1.fastq\"\n",
    "path = \"../data/scripts/raw_data_clostr.fastq\"\n",
    "r_path = \"../data/scripts/primers.txt\"\n",
    "#rep = sp.load_repeats(r_path)"
   ]
  },
  {
   "cell_type": "code",
   "execution_count": null,
   "metadata": {},
   "outputs": [],
   "source": [
    "repeats = load_repeats(r_path)\n",
    "if not repeats:\n",
    "    warn(\"no repeats loaded, exiting\")\n",
    "    exit(1)\n",
    "\n",
    "all_mm = {}\n",
    "id2primers = {}\n",
    "fill_parts(repeats, all_mm, id2primers)\n",
    "\n",
    "\n",
    "warn(\"\\ntrimming...\")"
   ]
  },
  {
   "cell_type": "code",
   "execution_count": 66,
   "metadata": {
    "scrolled": true
   },
   "outputs": [
    {
     "name": "stdout",
     "output_type": "stream",
     "text": [
      "home\t@MN00409:27:000H2KHTM:1:11102:17147:1044 1:N:0:11\tACTATGTGGAATGTAAATGAGGAGATTCAGACAGCGACTAAAAAGACTGATATAAAGTTTTAGATTAACTATATGGAATGTAAATAACTTTATATCTCCANTTGCATATCCATCTGATGAACGTTTTAGATTAACTATATGGAATGTAAAT\tAFFAFFFFFF/FAFFFFFF6FFFFFFFFFFAFFFFFFFFFFFFFFFFF/FFFFFFFFFFFFFFFFFFFFFFFFFFFFFFFFF/FFFFFFFFFFFFF/FFF#FFFFFFFFFFFFFFFFFFFFF6FFFFFAFFFFFF//FAAAFA//FFAFFF\n",
      "\n",
      "['home', '@MN00409:27:000H2KHTM:1:11102:17147:1044 1:N:0:11', 'ACTATGTGGAATGTAAATGAGGAGATTCAGACAGCGACTAAAAAGACTGATATAAAGTTTTAGATTAACTATATGGAATGTAAATAACTTTATATCTCCANTTGCATATCCATCTGATGAACGTTTTAGATTAACTATATGGAATGTAAAT', 'AFFAFFFFFF/FAFFFFFF6FFFFFFFFFFAFFFFFFFFFFFFFFFFF/FFFFFFFFFFFFFFFFFFFFFFFFFFFFFFFFF/FFFFFFFFFFFFF/FFF#FFFFFFFFFFFFFFFFFFFFF6FFFFFAFFFFFF//FAAAFA//FFAFFF', '']\n",
      "home\t@MN00409:27:000H2KHTM:1:11102:23264:1052 1:N:0:11\tACTATGTGGAATGTAAATCAGCCAAAAACTTCGAATTTGAACTAAAATGCGTGGGTTTTAGATTAACTAAATGGAGATCGGAAGAGCACACGTCTGAACTCCAGTCACCCAGTATCATCTCGTATGCCGTCTTCGGCTTGAAAAAAATAAG\tAAAFFFFFFF/FFFFFFFFFFFFFFFFFFFFFFF/FFAFFFFFFFFFFFFFFFFFFFFFFFFFFFF/FAFFFFFFFFFFFFFFFFFFFFFFFFFFFFFFFFFFFFFFFFFFFFF=F/=//FF/FAF/FF///F//F//FF/FFFF=/////\n",
      "\n",
      "['home', '@MN00409:27:000H2KHTM:1:11102:23264:1052 1:N:0:11', 'ACTATGTGGAATGTAAATCAGCCAAAAACTTCGAATTTGAACTAAAATGCGTGGGTTTTAGATTAACTAAATGGAGATCGGAAGAGCACACGTCTGAACTCCAGTCACCCAGTATCATCTCGTATGCCGTCTTCGGCTTGAAAAAAATAAG', 'AAAFFFFFFF/FFFFFFFFFFFFFFFFFFFFFFF/FFAFFFFFFFFFFFFFFFFFFFFFFFFFFFF/FAFFFFFFFFFFFFFFFFFFFFFFFFFFFFFFFFFFFFFFFFFFFFF=F/=//FF/FAF/FF///F//F//FF/FFFF=/////', '']\n",
      "home\t@MN00409:27:000H2KHTM:1:11102:25662:1058 1:N:0:11\tCCATTTAGTTAATATAAAACGATAGACAAAGCTAGTGCAGACGCTAAAGTACAATCATTTACATTCCATATAGTAGATCGGAAGAGCACACGTCTGAACTCCAGTCACCCAGTATCAGCGCGTAAGCCGTCTTGTGCTTGAAAAAAAAGAA\tAAAFFF/FAFFFFFFFFF6AFFFAFFFFFFFAFFFA/FFFFFFFFF6FFFFFF/FFFF/FFFFFAFFF/FFFFFFFFFFFFFFA/FFFFFF/AFFF/FFFF/FFFF/FF/FFFFF/F///FFAF/FFF//F/F//FF/FF/AFFF//////\n",
      "\n",
      "['home', '@MN00409:27:000H2KHTM:1:11102:25662:1058 1:N:0:11', 'CCATTTAGTTAATATAAAACGATAGACAAAGCTAGTGCAGACGCTAAAGTACAATCATTTACATTCCATATAGTAGATCGGAAGAGCACACGTCTGAACTCCAGTCACCCAGTATCAGCGCGTAAGCCGTCTTGTGCTTGAAAAAAAAGAA', 'AAAFFF/FAFFFFFFFFF6AFFFAFFFFFFFAFFFA/FFFFFFFFF6FFFFFF/FFFF/FFFFFAFFF/FFFFFFFFFFFFFFA/FFFFFF/AFFF/FFFF/FFFF/FF/FFFFF/F///FFAF/FFF//F/F//FF/FF/AFFF//////', '']\n",
      "home\t@MN00409:27:000H2KHTM:1:11102:8181:1059 1:N:0:11\tACTATATGGAATGTAAATAGATCGGAAGAGCACACGTCTGAACTCCAGTCACCCAGTATCATCTCGTATGCCGGGGTGGGCTTGAAAAAAAAATGGGGGGGGGGGGGGGGGGGGGGGGGGGGGGGGGGGGGGGGGGGGGGGGGGGGGGGGG\tF=AFAFFFF6FFFFAFFFFFAFFFFFFFFFF6FFFFFFFF6FFFFFFFFFFFFFFFFFFF6////AA/FAA/F////A/////////F/F//////FAFFFFFFFFFFFAFFFFFFFFFFFFFFFFFFFAFFAFFFFFFAFFFAFFFAFFA\n",
      "\n",
      "['home', '@MN00409:27:000H2KHTM:1:11102:8181:1059 1:N:0:11', 'ACTATATGGAATGTAAATAGATCGGAAGAGCACACGTCTGAACTCCAGTCACCCAGTATCATCTCGTATGCCGGGGTGGGCTTGAAAAAAAAATGGGGGGGGGGGGGGGGGGGGGGGGGGGGGGGGGGGGGGGGGGGGGGGGGGGGGGGGG', 'F=AFAFFFF6FFFFAFFFFFAFFFFFFFFFF6FFFFFFFF6FFFFFFFFFFFFFFFFFFF6////AA/FAA/F////A/////////F/F//////FAFFFFFFFFFFFAFFFFFFFFFFFFFFFFFFFAFFAFFFFFFAFFFAFFFAFFA', '']\n",
      "home\t@MN00409:27:000H2KHTM:1:11102:4003:1043 1:N:0:12\tACTAAGTGGTATGTAAAGACAAACAAGTGTAGGANAAACTTTCCTTGCCCAGTATAGTTTTATATTAACTAAGTGGTATGTAAAGGCAGAAGATTTAGCGNCTGTTGTTGCTGAATGGGATGGTTTTATATTAACTAAGTGGAGATCGGAA\t/FFAAFFFFF6FFFFFFAFFFFFFFFFFFFFFFF#FF6FF/FFFFFFFFFFFAFFFFFFFFAFFFFFF/FFFFFFFFFFFFFFFFFF/FFFFFFFFFFFF#FF/FFFFFFFFFFFFAFFFAFFAFAFAF=FF==FFAFF6/FFFFFFFFFF\n",
      "\n",
      "['home', '@MN00409:27:000H2KHTM:1:11102:4003:1043 1:N:0:12', 'ACTAAGTGGTATGTAAAGACAAACAAGTGTAGGANAAACTTTCCTTGCCCAGTATAGTTTTATATTAACTAAGTGGTATGTAAAGGCAGAAGATTTAGCGNCTGTTGTTGCTGAATGGGATGGTTTTATATTAACTAAGTGGAGATCGGAA', '/FFAAFFFFF6FFFFFFAFFFFFFFFFFFFFFFF#FF6FF/FFFFFFFFFFFAFFFFFFFFAFFFFFF/FFFFFFFFFFFFFFFFFF/FFFFFFFFFFFF#FF/FFFFFFFFFFFFAFFFAFFAFAFAF=FF==FFAFF6/FFFFFFFFFF', '']\n",
      "home\t@MN00409:27:000H2KHTM:1:11102:24020:1061 1:N:0:12\tCGTGATCTGCCTGCCTCGGCCTCCCAAAGAGTTGGGATTATAGGGGTGAACCACTGGGCCTGGCCCATTATCGCTGTTTTAAAAGTCTTAGACCAGGTCTGGATAGGGAGAAATAAACGTAAGATCGGAAGAGCACACGTCTGCACTCCAG\t66AA6FAAF/FFFFF6FFAFFAFF/F/FFFFFFFFAFFFFFAF6FFFFF/FF/AFFAF/=/AA//AF/F/F////F/A/AFFF//F//A/FF///FFA/FFAF/FF/F/F///////FF/F/FF/FFF//6//F//=FFFF////6F//F/\n",
      "\n",
      "['home', '@MN00409:27:000H2KHTM:1:11102:24020:1061 1:N:0:12', 'CGTGATCTGCCTGCCTCGGCCTCCCAAAGAGTTGGGATTATAGGGGTGAACCACTGGGCCTGGCCCATTATCGCTGTTTTAAAAGTCTTAGACCAGGTCTGGATAGGGAGAAATAAACGTAAGATCGGAAGAGCACACGTCTGCACTCCAG', '66AA6FAAF/FFFFF6FFAFFAFF/F/FFFFFFFFAFFFFFAF6FFFFF/FF/AFFAF/=/AA//AF/F/F////F/A/AFFF//F//A/FF///FFA/FFAF/FF/F/F///////FF/F/FF/FFF//6//F//=FFFF////6F//F/', '']\n",
      "home\t@MN00409:27:000H2KHTM:1:11102:16527:1065 1:N:0:12\tTAAAACTTTATGGGGAAGGTGGTATGTAAAGCGAAAAATCTAGGAAAAACTATTGTAAAAGCGTTTAGTTTTATATTAACTAAGTGGTATGTAAAGTTTGATTACATGGGCAGTTTTTTATTATAGAGTGTTAGTTTTATATTAACTAAGT\tF/FFAFFFF6FFFFFFFF/FFFF6FFFAFFFFF/AFFFFFF/FF/FF/FFFFFFFFFFFFAF/F/FFFFAAFAFFFFA/FFFAFFFAFFF/FFF/FF/FF//FF///F/FFFA/FFFFFFF/AA/FFFFFFFFFFF=A=F/F//FFA/AF=\n",
      "\n",
      "['home', '@MN00409:27:000H2KHTM:1:11102:16527:1065 1:N:0:12', 'TAAAACTTTATGGGGAAGGTGGTATGTAAAGCGAAAAATCTAGGAAAAACTATTGTAAAAGCGTTTAGTTTTATATTAACTAAGTGGTATGTAAAGTTTGATTACATGGGCAGTTTTTTATTATAGAGTGTTAGTTTTATATTAACTAAGT', 'F/FFAFFFF6FFFFFFFF/FFFF6FFFAFFFFF/AFFFFFF/FF/FF/FFFFFFFFFFFFAF/F/FFFFAAFAFFFFA/FFFAFFFAFFF/FFF/FF/FF//FF///F/FFFA/FFFFFFF/AA/FFFFFFFFFFF=A=F/F//FFA/AF=', '']\n",
      "home\t@MN00409:27:000H2KHTM:1:11102:7086:1068 1:N:0:12\tCCACTTAGTTAATATAAAACCCTTTATAGATAATTTTATAGACTCTTTGTATGTACTATTTACATACCACATAGTTAATATAAAATGAAAAGAGTTTTATATTAACTAAGTGGAGATCGGAAGAGCACACGTCTGAACTCCTGTCACTCTA\tAAAFAFFFFF/FFFFFF6FAFFAAAF6FFF/FFFFFFFFAF/FFFAFFFFFFF/F6FFAFFFFFFFFFFFFFFFFFFFFFFFFFFFFFFF/AAFAFFFFFFFFF/FFFFFFAFFFFFFFAF/AA/F/A/FFFFAA//FF/F//FAFAAF/6\n",
      "\n",
      "['home', '@MN00409:27:000H2KHTM:1:11102:7086:1068 1:N:0:12', 'CCACTTAGTTAATATAAAACCCTTTATAGATAATTTTATAGACTCTTTGTATGTACTATTTACATACCACATAGTTAATATAAAATGAAAAGAGTTTTATATTAACTAAGTGGAGATCGGAAGAGCACACGTCTGAACTCCTGTCACTCTA', 'AAAFAFFFFF/FFFFFF6FAFFAAAF6FFF/FFFFFFFFAF/FFFAFFFFFFF/F6FFAFFFFFFFFFFFFFFFFFFFFFFFFFFFFFFF/AAFAFFFFFFFFF/FFFFFFAFFFFFFFAF/AA/F/A/FFFFAA//FF/F//FAFAAF/6', '']\n"
     ]
    }
   ],
   "source": [
    "start_time = time.time()\n",
    "for cnt, line in enumerate(lines, start = 1):\n",
    "#     if cnt % time_each == 0 or cnt == args.time_first:\n",
    "#         warn(\"\\nprocessed \" + str(cnt) + \" reads in \" + str_time(start_time) + \" ...\")\n",
    "#     if of_parts and cnt % of_parts != part:\n",
    "#         continue\n",
    "\n",
    "    print(line)\n",
    "    rec = list(map(lambda x: x.strip(), line.strip().split(\"\\t\")))\n",
    "    rec += [\"\"]\n",
    "    print(rec)\n",
    "    place, read_id, seq, qual = rec[0:4]\n",
    "\n",
    "    rc_seq = rc(seq)\n",
    "    rc_qual = qual[::-1]\n",
    "\n",
    "    res = get_system_coords(seq, all_mm)\n",
    "    res_rc = get_system_coords(rc_seq, all_mm)\n",
    "\n",
    "#     both_dirs = res and res_rc\n",
    "#     dump_read(place, read_id, res, seq, id2primers, both_dirs, \"+\", qual, args.dump_linked_ids)\n",
    "#     dump_read(place, read_id, res_rc, rc_seq, id2primers, both_dirs, \"-\", qual, args.dump_linked_ids)\n",
    "\n",
    "# warn(\"\\nprocessed \" + str(cnt) + \" reads in \" + str_time(start_time) + \" ...\")\n",
    "# warn(\"\\ndone...\")"
   ]
  },
  {
   "cell_type": "code",
   "execution_count": 74,
   "metadata": {},
   "outputs": [],
   "source": [
    "def get_system_coords(seq, all_mm):\n",
    "    out = defaultdict(list)\n",
    "    for pat in all_mm:\n",
    "        mm = all_mm[pat][\"MM\"]\n",
    "        ins = all_mm[pat][\"INS\"]\n",
    "        dl = all_mm[pat][\"DEL\"]\n",
    "        pat_sys = all_mm[pat][\"SYS\"]\n",
    "        pat_type = all_mm[pat][\"TYPE\"]\n",
    "        pat_re_fuzzy = all_mm[pat][\"RE_FUZZY\"]\n",
    "        pat_id = all_mm[pat][\"ID\"]\n",
    "        found = fuzzy_find_seq(seq, pat, mm, ins, dl, pat_re_fuzzy, pat_type, pat_id)\n",
    "        print(found)\n",
    "        if found:\n",
    "            for sys in pat_sys:\n",
    "                out[sys] += found\n",
    "    res = {}\n",
    "    for sys in out:\n",
    "        pruned = prune_matches(out[sys], sys)\n",
    "        if pruned:\n",
    "            res[sys] = pruned\n",
    "    return res\n"
   ]
  },
  {
   "cell_type": "code",
   "execution_count": 83,
   "metadata": {},
   "outputs": [],
   "source": [
    "def fuzzy_find_seq(where, what, mm, ins, dl, what_re_fuzzy, pat_type = None, pat_id = None):\n",
    "    '''returns [(mm, from, to, substr)]'''\n",
    "    if mm < 0:\n",
    "        mm = 0\n",
    "        \n",
    "        \n",
    "    print(what_re_fuzzy)\n",
    "        \n",
    "    print(where, \"\\n\", what)\n",
    "    out = []\n",
    "    \n",
    "    print(what_re_fuzzy.find(where, overlapped=True))\n",
    "    positions = [(i.span()[0], i.span()[1], i[0], i.fuzzy_counts[0], i.fuzzy_counts[1], i.fuzzy_counts[2]) for i in what_re_fuzzy.finditer(where, overlapped=True)]\n",
    "\n",
    "    positions = filter(lambda x: x[3] <= mm and x[4] <= ins and x[5] <= dl, positions)\n",
    "    \n",
    "    for frm, to, match, dist_mm, dist_ins, dist_del in positions:\n",
    "        out.append((dist_mm + dist_ins + dist_del, frm, to, match, pat_type, pat_id))\n",
    "    if not out:\n",
    "        return None\n",
    "    return out"
   ]
  },
  {
   "cell_type": "code",
   "execution_count": 89,
   "metadata": {},
   "outputs": [],
   "source": [
    "re = all_mm['GTTTTAKATTAACTAWRTGGWATGTAAAK']['RE_FUZZY']"
   ]
  },
  {
   "cell_type": "code",
   "execution_count": 91,
   "metadata": {},
   "outputs": [
    {
     "data": {
      "text/plain": [
       "regex.Regex('(?:GTTTTAKATTAACTAWRTGGWATGTAAAK){s<=2,i<=0,d<=0}', flags=regex.V0)"
      ]
     },
     "execution_count": 91,
     "metadata": {},
     "output_type": "execute_result"
    }
   ],
   "source": [
    "re"
   ]
  },
  {
   "cell_type": "code",
   "execution_count": 90,
   "metadata": {},
   "outputs": [
    {
     "data": {
      "text/plain": [
       "[]"
      ]
     },
     "execution_count": 90,
     "metadata": {},
     "output_type": "execute_result"
    }
   ],
   "source": [
    "re.findall(raw[0])"
   ]
  },
  {
   "cell_type": "code",
   "execution_count": 84,
   "metadata": {},
   "outputs": [
    {
     "name": "stdout",
     "output_type": "stream",
     "text": [
      "regex.Regex('(?:GTTTTAKATTAACTAWRTGGWATGTAAAK){s<=2,i<=0,d<=0}', flags=regex.V0)\n",
      "ACTATGTGGAATGTAAATGAGGAGATTCAGACAGCGACTAAAAAGACTGATATAAAGTTTTAGATTAACTATATGGAATGTAAATAACTTTATATCTCCANTTGCATATCCATCTGATGAACGTTTTAGATTAACTATATGGAATGTAAAT \n",
      " GTTTTAKATTAACTAWRTGGWATGTAAAK\n",
      "<_regex.Scanner object at 0x5594137969d0>\n",
      "None\n",
      "regex.Regex('(?:ACTAWRTGGWATGTAAAK){s<=2,i<=0,d<=0}', flags=regex.V0)\n",
      "ACTATGTGGAATGTAAATGAGGAGATTCAGACAGCGACTAAAAAGACTGATATAAAGTTTTAGATTAACTATATGGAATGTAAATAACTTTATATCTCCANTTGCATATCCATCTGATGAACGTTTTAGATTAACTATATGGAATGTAAAT \n",
      " ACTAWRTGGWATGTAAAK\n",
      "<_regex.Scanner object at 0x5594137969d0>\n",
      "None\n",
      "regex.Regex('(?:GTTTTAKATTAACTAWRTGG){s<=2,i<=0,d<=0}', flags=regex.V0)\n",
      "ACTATGTGGAATGTAAATGAGGAGATTCAGACAGCGACTAAAAAGACTGATATAAAGTTTTAGATTAACTATATGGAATGTAAATAACTTTATATCTCCANTTGCATATCCATCTGATGAACGTTTTAGATTAACTATATGGAATGTAAAT \n",
      " GTTTTAKATTAACTAWRTGG\n",
      "<_regex.Scanner object at 0x5594137969d0>\n",
      "None\n"
     ]
    },
    {
     "data": {
      "text/plain": [
       "{}"
      ]
     },
     "execution_count": 84,
     "metadata": {},
     "output_type": "execute_result"
    }
   ],
   "source": [
    "get_system_coords(raw[0], all_mm)"
   ]
  },
  {
   "cell_type": "code",
   "execution_count": null,
   "metadata": {},
   "outputs": [],
   "source": [
    "fuzzy_find_seq(raw[0], )"
   ]
  },
  {
   "cell_type": "code",
   "execution_count": 2,
   "metadata": {},
   "outputs": [
    {
     "data": {
      "text/plain": [
       "'F'"
      ]
     },
     "execution_count": 2,
     "metadata": {},
     "output_type": "execute_result"
    }
   ],
   "source": [
    "False and 'T' or 'F'"
   ]
  },
  {
   "cell_type": "code",
   "execution_count": null,
   "metadata": {},
   "outputs": [],
   "source": []
  }
 ],
 "metadata": {
  "kernelspec": {
   "display_name": "Python 3",
   "language": "python",
   "name": "python3"
  },
  "language_info": {
   "codemirror_mode": {
    "name": "ipython",
    "version": 3
   },
   "file_extension": ".py",
   "mimetype": "text/x-python",
   "name": "python",
   "nbconvert_exporter": "python",
   "pygments_lexer": "ipython3",
   "version": "3.6.3"
  }
 },
 "nbformat": 4,
 "nbformat_minor": 2
}
