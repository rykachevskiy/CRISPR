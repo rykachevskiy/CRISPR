{
 "cells": [
  {
   "cell_type": "code",
   "execution_count": 1,
   "metadata": {},
   "outputs": [],
   "source": [
    "import numpy as np\n",
    "import sys\n",
    "import matplotlib.pyplot as plt\n",
    "from tqdm import tqdm_notebook"
   ]
  },
  {
   "cell_type": "code",
   "execution_count": 2,
   "metadata": {},
   "outputs": [],
   "source": [
    "#import ipy_autoreload\n",
    "#%autoreload 2\n",
    "#%aimport your_mod"
   ]
  },
  {
   "cell_type": "code",
   "execution_count": 3,
   "metadata": {},
   "outputs": [],
   "source": [
    "sys.path.append(\"./utils/\")"
   ]
  },
  {
   "cell_type": "code",
   "execution_count": 4,
   "metadata": {},
   "outputs": [],
   "source": [
    "import hierarcical_utils as hu\n",
    "import plot_utils as pu "
   ]
  },
  {
   "cell_type": "code",
   "execution_count": 5,
   "metadata": {},
   "outputs": [],
   "source": [
    "import importlib\n",
    "hu = importlib.reload(hu)"
   ]
  },
  {
   "cell_type": "code",
   "execution_count": null,
   "metadata": {},
   "outputs": [],
   "source": []
  },
  {
   "cell_type": "code",
   "execution_count": 6,
   "metadata": {},
   "outputs": [],
   "source": [
    "import os "
   ]
  },
  {
   "cell_type": "code",
   "execution_count": 7,
   "metadata": {},
   "outputs": [
    {
     "ename": "NameError",
     "evalue": "name 'path_names' is not defined",
     "output_type": "error",
     "traceback": [
      "\u001b[0;31m---------------------------------------------------------------------------\u001b[0m",
      "\u001b[0;31mNameError\u001b[0m                                 Traceback (most recent call last)",
      "\u001b[0;32m<ipython-input-7-9eae1310ad97>\u001b[0m in \u001b[0;36m<module>\u001b[0;34m()\u001b[0m\n\u001b[1;32m      1\u001b[0m \u001b[0mplt\u001b[0m\u001b[0;34m.\u001b[0m\u001b[0mfigure\u001b[0m\u001b[0;34m(\u001b[0m\u001b[0mfigsize\u001b[0m  \u001b[0;34m=\u001b[0m\u001b[0;34m(\u001b[0m\u001b[0;36m12\u001b[0m\u001b[0;34m,\u001b[0m \u001b[0;36m8\u001b[0m\u001b[0;34m)\u001b[0m\u001b[0;34m)\u001b[0m\u001b[0;34m\u001b[0m\u001b[0m\n\u001b[0;32m----> 2\u001b[0;31m \u001b[0;32mfor\u001b[0m \u001b[0mpn\u001b[0m \u001b[0;32min\u001b[0m \u001b[0mpath_names\u001b[0m\u001b[0;34m:\u001b[0m\u001b[0;34m\u001b[0m\u001b[0m\n\u001b[0m\u001b[1;32m      3\u001b[0m     \u001b[0;32mwith\u001b[0m \u001b[0mopen\u001b[0m\u001b[0;34m(\u001b[0m\u001b[0mpn\u001b[0m\u001b[0;34m)\u001b[0m \u001b[0;32mas\u001b[0m \u001b[0mf\u001b[0m\u001b[0;34m:\u001b[0m\u001b[0;34m\u001b[0m\u001b[0m\n\u001b[1;32m      4\u001b[0m         \u001b[0mlines\u001b[0m \u001b[0;34m=\u001b[0m \u001b[0;34m[\u001b[0m\u001b[0mx\u001b[0m\u001b[0;34m[\u001b[0m\u001b[0;34m:\u001b[0m \u001b[0;34m-\u001b[0m\u001b[0;36m1\u001b[0m\u001b[0;34m]\u001b[0m\u001b[0;34m.\u001b[0m\u001b[0msplit\u001b[0m\u001b[0;34m(\u001b[0m\u001b[0;34m\"\\t\"\u001b[0m\u001b[0;34m)\u001b[0m \u001b[0;32mfor\u001b[0m \u001b[0mx\u001b[0m \u001b[0;32min\u001b[0m \u001b[0mf\u001b[0m\u001b[0;34m.\u001b[0m\u001b[0mreadlines\u001b[0m\u001b[0;34m(\u001b[0m\u001b[0;34m)\u001b[0m\u001b[0;34m]\u001b[0m\u001b[0;34m\u001b[0m\u001b[0m\n\u001b[1;32m      5\u001b[0m \u001b[0;34m\u001b[0m\u001b[0m\n",
      "\u001b[0;31mNameError\u001b[0m: name 'path_names' is not defined"
     ]
    },
    {
     "data": {
      "text/plain": [
       "<matplotlib.figure.Figure at 0x7fdaebb76898>"
      ]
     },
     "metadata": {},
     "output_type": "display_data"
    }
   ],
   "source": [
    "plt.figure(figsize  =(12, 8))\n",
    "for pn in path_names:\n",
    "    with open(pn) as f:\n",
    "        lines = [x[: -1].split(\"\\t\") for x in f.readlines()]\n",
    "\n",
    "    plt.hist([len(x) for y in lines for x in y], label = pn, log=1)\n",
    "    \n",
    "plt.legend()"
   ]
  },
  {
   "cell_type": "code",
   "execution_count": null,
   "metadata": {},
   "outputs": [],
   "source": []
  },
  {
   "cell_type": "code",
   "execution_count": 7,
   "metadata": {},
   "outputs": [],
   "source": [
    "path = \"../data/clostr_Polina/pairs_0_err/\"\n",
    "names = [x for x in os.listdir(path) ]"
   ]
  },
  {
   "cell_type": "code",
   "execution_count": 8,
   "metadata": {},
   "outputs": [],
   "source": [
    "path_names = sorted([path + x for x in names])"
   ]
  },
  {
   "cell_type": "code",
   "execution_count": null,
   "metadata": {},
   "outputs": [],
   "source": []
  },
  {
   "cell_type": "code",
   "execution_count": 9,
   "metadata": {},
   "outputs": [],
   "source": [
    "from multiprocessing import Pool"
   ]
  },
  {
   "cell_type": "code",
   "execution_count": 18,
   "metadata": {},
   "outputs": [
    {
     "name": "stdout",
     "output_type": "stream",
     "text": [
      "reading pairs, clustering...\n",
      "reading pairs, clustering...\n",
      "reading pairs, clustering...\n",
      "reading pairs, clustering...\n",
      "making sp_to_n...\n",
      "making sp_to_n...\n",
      "making sp_to_n...\n",
      "making sp_to_n...\n"
     ]
    },
    {
     "data": {
      "application/vnd.jupyter.widget-view+json": {
       "model_id": "6aea16de1b314b918fb409ac1f3bdf4e",
       "version_major": 2,
       "version_minor": 0
      },
      "text/plain": [
       "A Jupyter Widget"
      ]
     },
     "metadata": {},
     "output_type": "display_data"
    },
    {
     "data": {
      "application/vnd.jupyter.widget-view+json": {
       "model_id": "383f59cc677848abb064fa0ad1a7bf39",
       "version_major": 2,
       "version_minor": 0
      },
      "text/plain": [
       "A Jupyter Widget"
      ]
     },
     "metadata": {},
     "output_type": "display_data"
    },
    {
     "data": {
      "application/vnd.jupyter.widget-view+json": {
       "model_id": "0f414cb9994b4ccda5b18c6e89c18933",
       "version_major": 2,
       "version_minor": 0
      },
      "text/plain": [
       "A Jupyter Widget"
      ]
     },
     "metadata": {},
     "output_type": "display_data"
    },
    {
     "data": {
      "application/vnd.jupyter.widget-view+json": {
       "model_id": "3be07d6bcfbf4373ba1207ded4b88355",
       "version_major": 2,
       "version_minor": 0
      },
      "text/plain": [
       "A Jupyter Widget"
      ]
     },
     "metadata": {},
     "output_type": "display_data"
    },
    {
     "name": "stdout",
     "output_type": "stream",
     "text": [
      "\n",
      "processing pairs...\n",
      "\n",
      "processing pairs...\n"
     ]
    },
    {
     "data": {
      "application/vnd.jupyter.widget-view+json": {
       "model_id": "365189ffe8454c0790bc8591d1dfdffb",
       "version_major": 2,
       "version_minor": 0
      },
      "text/plain": [
       "A Jupyter Widget"
      ]
     },
     "metadata": {},
     "output_type": "display_data"
    },
    {
     "data": {
      "application/vnd.jupyter.widget-view+json": {
       "model_id": "9571ce989a4249a68d8c15d4a3fae0e8",
       "version_major": 2,
       "version_minor": 0
      },
      "text/plain": [
       "A Jupyter Widget"
      ]
     },
     "metadata": {},
     "output_type": "display_data"
    },
    {
     "name": "stdout",
     "output_type": "stream",
     "text": [
      "\n",
      "processing pairs...\n"
     ]
    },
    {
     "data": {
      "application/vnd.jupyter.widget-view+json": {
       "model_id": "2e28122a027a4aaab4deb3aa79d722a3",
       "version_major": 2,
       "version_minor": 0
      },
      "text/plain": [
       "A Jupyter Widget"
      ]
     },
     "metadata": {},
     "output_type": "display_data"
    },
    {
     "name": "stdout",
     "output_type": "stream",
     "text": [
      "\n",
      "processing pairs...\n"
     ]
    },
    {
     "data": {
      "application/vnd.jupyter.widget-view+json": {
       "model_id": "703e1a42dd29454b9236220ef637983b",
       "version_major": 2,
       "version_minor": 0
      },
      "text/plain": [
       "A Jupyter Widget"
      ]
     },
     "metadata": {},
     "output_type": "display_data"
    },
    {
     "name": "stdout",
     "output_type": "stream",
     "text": [
      "\n",
      "making graph...\n",
      "reading pairs, clustering...\n",
      "making sp_to_n...\n"
     ]
    },
    {
     "data": {
      "application/vnd.jupyter.widget-view+json": {
       "model_id": "055acb4bc2874229bdbd3e0b0dfa52de",
       "version_major": 2,
       "version_minor": 0
      },
      "text/plain": [
       "A Jupyter Widget"
      ]
     },
     "metadata": {},
     "output_type": "display_data"
    },
    {
     "name": "stdout",
     "output_type": "stream",
     "text": [
      "\n",
      "processing pairs...\n"
     ]
    },
    {
     "data": {
      "application/vnd.jupyter.widget-view+json": {
       "model_id": "a39f70189ce043d1a4cca4f74d9d8f8e",
       "version_major": 2,
       "version_minor": 0
      },
      "text/plain": [
       "A Jupyter Widget"
      ]
     },
     "metadata": {},
     "output_type": "display_data"
    },
    {
     "name": "stdout",
     "output_type": "stream",
     "text": [
      "\n",
      "making graph...\n",
      "reading pairs, clustering...\n",
      "making sp_to_n...\n"
     ]
    },
    {
     "data": {
      "application/vnd.jupyter.widget-view+json": {
       "model_id": "0b079a3b120b47adb5d333d391765899",
       "version_major": 2,
       "version_minor": 0
      },
      "text/plain": [
       "A Jupyter Widget"
      ]
     },
     "metadata": {},
     "output_type": "display_data"
    },
    {
     "name": "stdout",
     "output_type": "stream",
     "text": [
      "\n",
      "processing pairs...\n"
     ]
    },
    {
     "data": {
      "application/vnd.jupyter.widget-view+json": {
       "model_id": "8072abe62a4a4748a330ecaf46e7fba3",
       "version_major": 2,
       "version_minor": 0
      },
      "text/plain": [
       "A Jupyter Widget"
      ]
     },
     "metadata": {},
     "output_type": "display_data"
    },
    {
     "name": "stdout",
     "output_type": "stream",
     "text": [
      "\n",
      "making graph...\n",
      "reading pairs, clustering...\n",
      "making sp_to_n...\n"
     ]
    },
    {
     "data": {
      "application/vnd.jupyter.widget-view+json": {
       "model_id": "0317258fc31145e6bc832e31222aa86e",
       "version_major": 2,
       "version_minor": 0
      },
      "text/plain": [
       "A Jupyter Widget"
      ]
     },
     "metadata": {},
     "output_type": "display_data"
    },
    {
     "name": "stdout",
     "output_type": "stream",
     "text": [
      "\n",
      "making graph...\n",
      "reading pairs, clustering...\n",
      "making sp_to_n...\n"
     ]
    },
    {
     "data": {
      "application/vnd.jupyter.widget-view+json": {
       "model_id": "51b18fef1b254ab59d29d6943f9ee4bb",
       "version_major": 2,
       "version_minor": 0
      },
      "text/plain": [
       "A Jupyter Widget"
      ]
     },
     "metadata": {},
     "output_type": "display_data"
    },
    {
     "name": "stdout",
     "output_type": "stream",
     "text": [
      "\n",
      "processing pairs...\n"
     ]
    },
    {
     "data": {
      "application/vnd.jupyter.widget-view+json": {
       "model_id": "40d10973223844958a4fbe4292acdd53",
       "version_major": 2,
       "version_minor": 0
      },
      "text/plain": [
       "A Jupyter Widget"
      ]
     },
     "metadata": {},
     "output_type": "display_data"
    },
    {
     "name": "stdout",
     "output_type": "stream",
     "text": [
      "\n",
      "processing pairs...\n"
     ]
    },
    {
     "data": {
      "application/vnd.jupyter.widget-view+json": {
       "model_id": "efea15695ba045e5a21a400d0e91de8f",
       "version_major": 2,
       "version_minor": 0
      },
      "text/plain": [
       "A Jupyter Widget"
      ]
     },
     "metadata": {},
     "output_type": "display_data"
    },
    {
     "name": "stdout",
     "output_type": "stream",
     "text": [
      "\n",
      "making graph...\n",
      "\n",
      "making graph...\n",
      "reading pairs, clustering...\n",
      "making sp_to_n...\n",
      "reading pairs, clustering...\n",
      "making sp_to_n...\n"
     ]
    },
    {
     "data": {
      "application/vnd.jupyter.widget-view+json": {
       "model_id": "f3a8b47c0e8546308a4746a400822214",
       "version_major": 2,
       "version_minor": 0
      },
      "text/plain": [
       "A Jupyter Widget"
      ]
     },
     "metadata": {},
     "output_type": "display_data"
    },
    {
     "data": {
      "application/vnd.jupyter.widget-view+json": {
       "model_id": "1ca9a51a03c24d82bb04496f8cc33105",
       "version_major": 2,
       "version_minor": 0
      },
      "text/plain": [
       "A Jupyter Widget"
      ]
     },
     "metadata": {},
     "output_type": "display_data"
    },
    {
     "name": "stdout",
     "output_type": "stream",
     "text": [
      "\n",
      "processing pairs...\n"
     ]
    },
    {
     "data": {
      "application/vnd.jupyter.widget-view+json": {
       "model_id": "f3145c67a62e4f859d97c47672daa536",
       "version_major": 2,
       "version_minor": 0
      },
      "text/plain": [
       "A Jupyter Widget"
      ]
     },
     "metadata": {},
     "output_type": "display_data"
    },
    {
     "name": "stdout",
     "output_type": "stream",
     "text": [
      "\n",
      "processing pairs...\n"
     ]
    },
    {
     "data": {
      "application/vnd.jupyter.widget-view+json": {
       "model_id": "19ef46888a3547edae5a5f38d23245f4",
       "version_major": 2,
       "version_minor": 0
      },
      "text/plain": [
       "A Jupyter Widget"
      ]
     },
     "metadata": {},
     "output_type": "display_data"
    },
    {
     "name": "stdout",
     "output_type": "stream",
     "text": [
      "\n",
      "making graph...\n",
      "reading pairs, clustering...\n",
      "making sp_to_n...\n"
     ]
    },
    {
     "data": {
      "application/vnd.jupyter.widget-view+json": {
       "model_id": "62b871b9a8b44b66b9d4db2614648fb7",
       "version_major": 2,
       "version_minor": 0
      },
      "text/plain": [
       "A Jupyter Widget"
      ]
     },
     "metadata": {},
     "output_type": "display_data"
    },
    {
     "name": "stdout",
     "output_type": "stream",
     "text": [
      "\n",
      "processing pairs...\n"
     ]
    },
    {
     "data": {
      "application/vnd.jupyter.widget-view+json": {
       "model_id": "399bd2ac1e4e4695a6a16294ae62d716",
       "version_major": 2,
       "version_minor": 0
      },
      "text/plain": [
       "A Jupyter Widget"
      ]
     },
     "metadata": {},
     "output_type": "display_data"
    },
    {
     "name": "stdout",
     "output_type": "stream",
     "text": [
      "\n",
      "making graph...\n",
      "reading pairs, clustering...\n",
      "making sp_to_n...\n"
     ]
    },
    {
     "data": {
      "application/vnd.jupyter.widget-view+json": {
       "model_id": "3a19ec581371465e8e7913631152c755",
       "version_major": 2,
       "version_minor": 0
      },
      "text/plain": [
       "A Jupyter Widget"
      ]
     },
     "metadata": {},
     "output_type": "display_data"
    },
    {
     "name": "stdout",
     "output_type": "stream",
     "text": [
      "\n",
      "processing pairs...\n"
     ]
    },
    {
     "data": {
      "application/vnd.jupyter.widget-view+json": {
       "model_id": "845e691f7c6b4b41870274293b9b7849",
       "version_major": 2,
       "version_minor": 0
      },
      "text/plain": [
       "A Jupyter Widget"
      ]
     },
     "metadata": {},
     "output_type": "display_data"
    },
    {
     "name": "stdout",
     "output_type": "stream",
     "text": [
      "\n",
      "making graph...\n",
      "reading pairs, clustering...\n",
      "making sp_to_n...\n"
     ]
    },
    {
     "data": {
      "application/vnd.jupyter.widget-view+json": {
       "model_id": "4e3eceeb3ee34b35a57f6472464c7fa0",
       "version_major": 2,
       "version_minor": 0
      },
      "text/plain": [
       "A Jupyter Widget"
      ]
     },
     "metadata": {},
     "output_type": "display_data"
    },
    {
     "name": "stdout",
     "output_type": "stream",
     "text": [
      "\n",
      "processing pairs...\n"
     ]
    },
    {
     "data": {
      "application/vnd.jupyter.widget-view+json": {
       "model_id": "a61e9e5639434399b10153968e65cf12",
       "version_major": 2,
       "version_minor": 0
      },
      "text/plain": [
       "A Jupyter Widget"
      ]
     },
     "metadata": {},
     "output_type": "display_data"
    },
    {
     "name": "stdout",
     "output_type": "stream",
     "text": [
      "\n",
      "making graph...\n",
      "reading pairs, clustering...\n",
      "\n",
      "making graph...\n",
      "making sp_to_n...\n"
     ]
    },
    {
     "data": {
      "application/vnd.jupyter.widget-view+json": {
       "model_id": "612a38ae959742d5b564406475d7a035",
       "version_major": 2,
       "version_minor": 0
      },
      "text/plain": [
       "A Jupyter Widget"
      ]
     },
     "metadata": {},
     "output_type": "display_data"
    },
    {
     "name": "stdout",
     "output_type": "stream",
     "text": [
      "\n",
      "processing pairs...\n"
     ]
    },
    {
     "data": {
      "application/vnd.jupyter.widget-view+json": {
       "model_id": "5503f2fd0435470a9144540cd0ab7c2b",
       "version_major": 2,
       "version_minor": 0
      },
      "text/plain": [
       "A Jupyter Widget"
      ]
     },
     "metadata": {},
     "output_type": "display_data"
    },
    {
     "name": "stdout",
     "output_type": "stream",
     "text": [
      "\n",
      "making graph...\n",
      "\n",
      "making graph...\n",
      "\n",
      "making graph...\n"
     ]
    }
   ],
   "source": [
    "pool = Pool(4)"
   ]
  },
  {
   "cell_type": "code",
   "execution_count": 11,
   "metadata": {},
   "outputs": [],
   "source": [
    "pool.close()"
   ]
  },
  {
   "cell_type": "code",
   "execution_count": 13,
   "metadata": {},
   "outputs": [],
   "source": [
    "path_names = sorted([path + x for x in names])"
   ]
  },
  {
   "cell_type": "code",
   "execution_count": 14,
   "metadata": {},
   "outputs": [],
   "source": [
    "def f(x):\n",
    "    return hu.graph_from_raw(x, \"\\t\")"
   ]
  },
  {
   "cell_type": "code",
   "execution_count": 19,
   "metadata": {},
   "outputs": [],
   "source": [
    "res = pool.map(f, path_names)"
   ]
  },
  {
   "cell_type": "code",
   "execution_count": 20,
   "metadata": {},
   "outputs": [],
   "source": [
    "res = dict(zip(sorted(names), res))"
   ]
  },
  {
   "cell_type": "code",
   "execution_count": null,
   "metadata": {},
   "outputs": [],
   "source": [
    "print(322)"
   ]
  },
  {
   "cell_type": "code",
   "execution_count": 16,
   "metadata": {},
   "outputs": [
    {
     "ename": "NameError",
     "evalue": "name 'res' is not defined",
     "output_type": "error",
     "traceback": [
      "\u001b[0;31m---------------------------------------------------------------------------\u001b[0m",
      "\u001b[0;31mNameError\u001b[0m                                 Traceback (most recent call last)",
      "\u001b[0;32m<ipython-input-16-c08785e04264>\u001b[0m in \u001b[0;36m<module>\u001b[0;34m()\u001b[0m\n\u001b[0;32m----> 1\u001b[0;31m \u001b[0mres\u001b[0m\u001b[0;34m\u001b[0m\u001b[0m\n\u001b[0m",
      "\u001b[0;31mNameError\u001b[0m: name 'res' is not defined"
     ]
    }
   ],
   "source": [
    "res"
   ]
  },
  {
   "cell_type": "code",
   "execution_count": 202,
   "metadata": {
    "scrolled": true
   },
   "outputs": [
    {
     "data": {
      "text/plain": [
       "['Polina-7_S17_L001_R1_001',\n",
       " 'Polina-2_S12_L001_R2_001',\n",
       " 'Polina-7_S17_L001_R2_001',\n",
       " 'Polina-6_S16_L001_R2_001',\n",
       " 'Polina-1_S11_L001_R1_001',\n",
       " 'Polina-2_S12_L001_R1_001',\n",
       " 'Polina-6_S16_L001_R1_001',\n",
       " 'Polina-3_S13_L001_R1_001',\n",
       " 'Polina-4_S14_L001_R1_001',\n",
       " 'Polina-5_S15_L001_R2_001',\n",
       " 'Polina-4_S14_L001_R2_001',\n",
       " 'Polina-3_S13_L001_R2_001',\n",
       " 'Polina-5_S15_L001_R1_001',\n",
       " 'Polina-1_S11_L001_R2_001']"
      ]
     },
     "execution_count": 202,
     "metadata": {},
     "output_type": "execute_result"
    }
   ],
   "source": [
    "names"
   ]
  },
  {
   "cell_type": "code",
   "execution_count": 215,
   "metadata": {},
   "outputs": [
    {
     "data": {
      "application/vnd.jupyter.widget-view+json": {
       "model_id": "d31e49d0a74f40dfabb4387ccad8c5d8",
       "version_major": 2,
       "version_minor": 0
      },
      "text/plain": [
       "A Jupyter Widget"
      ]
     },
     "metadata": {},
     "output_type": "display_data"
    },
    {
     "name": "stdout",
     "output_type": "stream",
     "text": [
      "reading pairs, clustering...\n",
      "making sp_to_n...\n"
     ]
    },
    {
     "data": {
      "application/vnd.jupyter.widget-view+json": {
       "model_id": "e75c17eba52040ee921b5a87bf1f0ffc",
       "version_major": 2,
       "version_minor": 0
      },
      "text/plain": [
       "A Jupyter Widget"
      ]
     },
     "metadata": {},
     "output_type": "display_data"
    },
    {
     "name": "stdout",
     "output_type": "stream",
     "text": [
      "processing pairs...\n"
     ]
    },
    {
     "data": {
      "application/vnd.jupyter.widget-view+json": {
       "model_id": "410c050195254ea487ce0384ad7beb5f",
       "version_major": 2,
       "version_minor": 0
      },
      "text/plain": [
       "A Jupyter Widget"
      ]
     },
     "metadata": {},
     "output_type": "display_data"
    },
    {
     "name": "stdout",
     "output_type": "stream",
     "text": [
      "making graph...\n",
      "\n"
     ]
    }
   ],
   "source": [
    "res = {}\n",
    "\n",
    "for name in tqdm_notebook(names[:]): \n",
    "    res[name] = hu.graph_from_raw(path + name, split='\\t')"
   ]
  },
  {
   "cell_type": "code",
   "execution_count": null,
   "metadata": {},
   "outputs": [],
   "source": []
  },
  {
   "cell_type": "code",
   "execution_count": null,
   "metadata": {},
   "outputs": [],
   "source": []
  },
  {
   "cell_type": "code",
   "execution_count": null,
   "metadata": {},
   "outputs": [],
   "source": []
  },
  {
   "cell_type": "code",
   "execution_count": null,
   "metadata": {},
   "outputs": [],
   "source": []
  },
  {
   "cell_type": "code",
   "execution_count": 161,
   "metadata": {},
   "outputs": [
    {
     "data": {
      "text/plain": [
       "dict_keys(['Polina-7_S17_L001_R1_001_12_11pairsq10.txt', 'Polina-2_S12_L001_R1_001_12_11pairsq10.txt'])"
      ]
     },
     "execution_count": 161,
     "metadata": {},
     "output_type": "execute_result"
    }
   ],
   "source": [
    "res_sof.keys()"
   ]
  },
  {
   "cell_type": "code",
   "execution_count": 31,
   "metadata": {},
   "outputs": [
    {
     "data": {
      "text/plain": [
       "<matplotlib.legend.Legend at 0x7fc4fa6d06a0>"
      ]
     },
     "execution_count": 31,
     "metadata": {},
     "output_type": "execute_result"
    },
    {
     "data": {
      "image/png": "[encoded data removed]",
      "text/plain": [
       "<matplotlib.figure.Figure at 0x7fc4faa6ae48>"
      ]
     },
     "metadata": {},
     "output_type": "display_data"
    }
   ],
   "source": [
    "plt.figure(figsize = (14, 8))\n",
    "plt.ylim((0,20))\n",
    "for key in res.keys():\n",
    "    res[key][1]\n",
    "    plt.plot(([x for x in res[key][1].values()][0:400]), label = key)\n",
    "    \n",
    "plt.legend()"
   ]
  },
  {
   "cell_type": "code",
   "execution_count": 22,
   "metadata": {},
   "outputs": [],
   "source": [
    "import pickle"
   ]
  },
  {
   "cell_type": "code",
   "execution_count": 23,
   "metadata": {},
   "outputs": [],
   "source": [
    "pickle.dump(res, open(\"../data/clostr_Polina/res_0\", 'wb'))"
   ]
  },
  {
   "cell_type": "code",
   "execution_count": 24,
   "metadata": {},
   "outputs": [
    {
     "name": "stdout",
     "output_type": "stream",
     "text": [
      "Polina-1_S11_L001_R1_001 21279.0\n",
      "Polina-1_S11_L001_R2_001 21590.0\n",
      "Polina-2_S12_L001_R1_001 22445.0\n",
      "Polina-2_S12_L001_R2_001 31286.0\n",
      "Polina-3_S13_L001_R1_001 10976.0\n",
      "Polina-3_S13_L001_R2_001 17696.0\n",
      "Polina-4_S14_L001_R1_001 40577.0\n",
      "Polina-4_S14_L001_R2_001 38656.0\n",
      "Polina-5_S15_L001_R1_001 9640.0\n",
      "Polina-5_S15_L001_R2_001 15793.0\n",
      "Polina-6_S16_L001_R1_001 3977.0\n",
      "Polina-6_S16_L001_R2_001 6716.0\n",
      "Polina-7_S17_L001_R1_001 10637.0\n",
      "Polina-7_S17_L001_R2_001 13162.0\n"
     ]
    }
   ],
   "source": [
    "for key in sorted(res.keys()):\n",
    "    print(key, res[key][0].sum())"
   ]
  },
  {
   "cell_type": "code",
   "execution_count": 162,
   "metadata": {
    "scrolled": false
   },
   "outputs": [
    {
     "name": "stdout",
     "output_type": "stream",
     "text": [
      "Polina-2_S12_L001_R1_001_12_11pairsq10.txt\n"
     ]
    },
    {
     "data": {
      "image/png": "[encoded data removed]",
      "text/plain": [
       "<matplotlib.figure.Figure at 0x7fc4f9926d68>"
      ]
     },
     "metadata": {},
     "output_type": "display_data"
    },
    {
     "data": {
      "image/png": "[encoded data removed]",
      "text/plain": [
       "<matplotlib.figure.Figure at 0x7fc4f936c1d0>"
      ]
     },
     "metadata": {},
     "output_type": "display_data"
    },
    {
     "name": "stdout",
     "output_type": "stream",
     "text": [
      "Polina-7_S17_L001_R1_001_12_11pairsq10.txt\n"
     ]
    },
    {
     "data": {
      "image/png": "[encoded data removed]",
      "text/plain": [
       "<matplotlib.figure.Figure at 0x7fc4f8149f28>"
      ]
     },
     "metadata": {},
     "output_type": "display_data"
    }
   ],
   "source": [
    "plt.figure(figsize = (14, 8))\n",
    "plt.ylim((0,20))\n",
    "for key in sorted(res_sof.keys()):\n",
    "    print(key)\n",
    "    pu.plot_gr(res_sof[key][0][:100, :100], log = 1)\n",
    "    "
   ]
  },
  {
   "cell_type": "code",
   "execution_count": null,
   "metadata": {},
   "outputs": [],
   "source": []
  },
  {
   "cell_type": "code",
   "execution_count": 29,
   "metadata": {},
   "outputs": [],
   "source": [
    "import hamiltonian_utils as hamu"
   ]
  },
  {
   "cell_type": "code",
   "execution_count": 122,
   "metadata": {
    "scrolled": false
   },
   "outputs": [
    {
     "data": {
      "image/png": "[encoded data removed]",
      "text/plain": [
       "<matplotlib.figure.Figure at 0x7f7266a61a58>"
      ]
     },
     "metadata": {},
     "output_type": "display_data"
    }
   ],
   "source": [
    "f = plt.figure(figsize=(10, 40))\n",
    "axes = f.subplots(len(res.keys()), 1)\n",
    "\n",
    "for key, ax in zip(sorted(res.keys())[:], axes):\n",
    "    gr = res[key][0][:200, :200]\n",
    "    arrays, weights = hamu.restore_arrays(gr)\n",
    "    mask = hamu.list_to_gr(arrays, 200)\n",
    "    ax.bar(np.arange(len(weights)), sorted([np.median(x) for x in weights])[::-1], label = key)\n",
    "    ax.legend()\n",
    "    #print(\"Name: \", key, \"\\nN arrays restored :\", len(arrays), \"\\nNoise level :\", gr[mask.astype(bool)].sum() / gr.sum())"
   ]
  },
  {
   "cell_type": "code",
   "execution_count": 123,
   "metadata": {},
   "outputs": [],
   "source": [
    "f.savefig(\"../data/arrays_median_weights.png\")"
   ]
  },
  {
   "cell_type": "code",
   "execution_count": null,
   "metadata": {},
   "outputs": [],
   "source": []
  },
  {
   "cell_type": "code",
   "execution_count": null,
   "metadata": {},
   "outputs": [],
   "source": []
  },
  {
   "cell_type": "code",
   "execution_count": null,
   "metadata": {},
   "outputs": [],
   "source": []
  },
  {
   "cell_type": "code",
   "execution_count": 97,
   "metadata": {},
   "outputs": [
    {
     "data": {
      "text/plain": [
       "0.6618895031515194"
      ]
     },
     "execution_count": 97,
     "metadata": {},
     "output_type": "execute_result"
    }
   ],
   "source": [
    "gr[mask.astype(bool)].sum() / gr.sum()"
   ]
  },
  {
   "cell_type": "code",
   "execution_count": null,
   "metadata": {},
   "outputs": [],
   "source": []
  },
  {
   "cell_type": "code",
   "execution_count": 157,
   "metadata": {},
   "outputs": [
    {
     "name": "stdout",
     "output_type": "stream",
     "text": [
      "Polina-1_S11_L001_R1_001 21295.0\n",
      "Polina-1_S11_L001_R2_001 21600.0\n",
      "Polina-2_S12_L001_R1_001 22468.0\n",
      "Polina-2_S12_L001_R2_001 31299.0\n",
      "Polina-3_S13_L001_R1_001 10991.0\n",
      "Polina-3_S13_L001_R2_001 17707.0\n",
      "Polina-4_S14_L001_R1_001 40620.0\n",
      "Polina-4_S14_L001_R2_001 38675.0\n",
      "Polina-5_S15_L001_R1_001 9672.0\n",
      "Polina-5_S15_L001_R2_001 15812.0\n",
      "Polina-6_S16_L001_R1_001 3979.0\n",
      "Polina-6_S16_L001_R2_001 6719.0\n",
      "Polina-7_S17_L001_R1_001 10639.0\n",
      "Polina-7_S17_L001_R2_001 13167.0\n"
     ]
    }
   ],
   "source": [
    "for key in sorted([x for x in res.keys()]):\n",
    "    print(key, res[key][0].sum())"
   ]
  },
  {
   "cell_type": "markdown",
   "metadata": {},
   "source": [
    "## Load ans"
   ]
  },
  {
   "cell_type": "code",
   "execution_count": null,
   "metadata": {},
   "outputs": [],
   "source": []
  },
  {
   "cell_type": "code",
   "execution_count": 27,
   "metadata": {},
   "outputs": [],
   "source": [
    "with open(\"../data/answers/Clo_009089.txt\") as f:\n",
    "    ans_1 = [x[:-1].split(',')[1:] for x in f.readlines()]\n",
    "with open(\"../data/answers/Clo_013316.txt\") as f:\n",
    "    ans_2 = [x[:-1].split(',')[1:] for x in f.readlines()]"
   ]
  },
  {
   "cell_type": "code",
   "execution_count": null,
   "metadata": {},
   "outputs": [],
   "source": []
  },
  {
   "cell_type": "code",
   "execution_count": 30,
   "metadata": {},
   "outputs": [
    {
     "name": "stdout",
     "output_type": "stream",
     "text": [
      "Polina-1_S11_L001_R1_001 0.12434794868179895 0.6651158419098642\n",
      "Polina-2_S12_L001_R1_001 0.656671864557808 0.6533303631098241\n",
      "Polina-3_S13_L001_R1_001 0.40606778425655976 0.5849125364431487\n",
      "Polina-4_S14_L001_R1_001 0.17380408892417626 0.5626984914648671\n",
      "Polina-5_S15_L001_R1_001 0.17219917012448133 0.6522821576763486\n",
      "Polina-6_S16_L001_R1_001 0.08398290168468694 0.25873774201659544\n",
      "Polina-7_S17_L001_R1_001 0.058381122496944625 0.3982325843752938\n"
     ]
    }
   ],
   "source": [
    "keys = sorted([x for x in res.keys()])[::2]\n",
    "\n",
    "for key in keys:\n",
    "    sp_to_n = res[key][3]\n",
    "    ans_1_n = [[sp_to_n[hu.find_closest(sp_to_n, x)[1]] for x in y] for y in ans_1]\n",
    "    ans_2_n = [[sp_to_n[hu.find_closest(sp_to_n, x)[1]] for x in y] for y in ans_2]\n",
    "    \n",
    "    #max([x for x in sp_to_n.values()]) + 1#max([x for y in ans_1_n + ans_2_n for x in y])\n",
    "    \n",
    "    gr = res[key][0]\n",
    "    max_n = gr.shape[0]\n",
    "    gr_answ = hamu.list_to_gr(ans_1_n + ans_2_n, max_n )\n",
    "    gr_restored = hamu.list_to_gr(hamu.restore_arrays(gr)[0], max_n )\n",
    "    \n",
    "    #print(gr_answ.shape, gr_restored.shape, gr.)\n",
    "    \n",
    "    #print(gr[gr_answ.astype(bool)].sum()/gr.sum(), gr[gr_restored.astype(bool)].sum()/gr.sum())\n",
    "    \n",
    "    cut = 200\n",
    "    print(key, gr[:cut, :cut][gr_answ[:cut, :cut].astype(bool)].sum()/gr[:cut, :cut].sum(),\n",
    "          gr[:cut, :cut][gr_restored[:cut, :cut].astype(bool)].sum()/gr[:cut, :cut].sum())\n",
    "    \n",
    "    "
   ]
  },
  {
   "cell_type": "code",
   "execution_count": null,
   "metadata": {},
   "outputs": [],
   "source": []
  },
  {
   "cell_type": "code",
   "execution_count": null,
   "metadata": {},
   "outputs": [],
   "source": []
  },
  {
   "cell_type": "code",
   "execution_count": 45,
   "metadata": {},
   "outputs": [
    {
     "data": {
      "text/plain": [
       "{'GCGTACAAGGTTGAGAAGCTCCGCAATCTCAACGTCG': 0,\n",
       " 'ACTGTATGCCATCTAAATGCATCATACAAACTTATTT': 1,\n",
       " 'AACTTTATATCTCCATTTGCATATCCATCTGATGAAC': 2,\n",
       " 'GCGTACAAGGTTGAGAAGCTCCGCAATCTCAACGTCGT': 0,\n",
       " 'GAGGAGATTCAGACAGCGACTAAAAAGACTGATATAAA': 3,\n",
       " 'AACTTTATATCTCCATTTGCATATCCATCTGATGAA': 2,\n",
       " 'CAAAGTGCTAGGTCACTAAATGATGCAACAGTAGACG': 4,\n",
       " 'CCTGTATTCTGTTTAATGCTTCAATAGCTCTTTCT': 5,\n",
       " 'TATACTTCCTAATGCAATCAAATAAGTACCTAAAAT': 6,\n",
       " 'ATTTGAAAGGAATAAATTTTAAATGAATGAAAGGATA': 7,\n",
       " 'AGGATAAAGAAAAGACTCACACAAGACACAGTGTCAG': 8,\n",
       " 'AGGATAAAGAAAAGACTCACACAAGACACAGTGTCA': 8,\n",
       " 'TGGTATATCATACTCGTGCATTGCCTGCTCCACAT': 9,\n",
       " 'AAAAGCGTTCTTAAATCGTTACTTAACTCTTGCAAAT': 10,\n",
       " 'TATCTAAAACCCAATAGGATTGACACGTTACGACC': 11,\n",
       " 'GACAAAGCGACTATTACTATCTCAGGTGATAAAAAT': 12,\n",
       " 'TATCTAAAACCCAATAGGATTGACACGTTACGACCG': 11,\n",
       " 'ACTGTATGCCATCTAAATGCATCATACAAACTTATT': 1,\n",
       " 'CAGCCAAAAACTTCGAATTTGAACTAAAATGCGTG': 13,\n",
       " 'CAAAGTGCTAGGTCACTAAATGATGCAACAGTAGAC': 4,\n",
       " 'TCACACATGAGCAATATCGAAACAGGCAAATCTACA': 14,\n",
       " 'TTGCTCCGCTATGCCTTGCGCTCTCTAATATCGCTT': 15,\n",
       " 'ACAGCTCCCAAGACATACAACGAATCTGTAACATCAGT': 16,\n",
       " 'GATTGTACTTTAGCGTCTGCACTAGCTTTGTCTAT': 17,\n",
       " 'ACAAACAAGTGTAGGATAAACTTTCCTTGCCCAGTATA': 18,\n",
       " 'AGTACATATAATGAGTCTTTAACATCAGTTATGAAAG': 19,\n",
       " 'TAGATTGCTTTCAAATTACCTCTTGTATAGCGTCTT': 20,\n",
       " 'TCACACATGAGCAATATCGAAACAGGCAAATCTACAG': 14,\n",
       " 'TGAACTTTAATCGGTTTTATACAACAATATAACGC': 21,\n",
       " 'CAGCCAAAAACTTCGAATTTGAACTAAAATGCGTGG': 13,\n",
       " 'AGACTCGACATAGAATCGGTTACTAAATCCGAGGGTTTCAG': 22,\n",
       " 'AACTCTTCAATATCTCCTAATCGTTCAATATAATTCTC': 23,\n",
       " 'AAAAGTTGCACGCCTATTTGATTTTTCAATACATTAT': 24,\n",
       " 'GGTGATAGTGGAAGTTTTACTTATACTTGGCGTGCTG': 25,\n",
       " 'TAACAAAATTTGCGAGTACACTTATTTCTAATATAT': 26,\n",
       " 'GATGAACAATAAAACAATCATCTAAAGACGAAGAAA': 27,\n",
       " 'CCTGTATTCTGTTTAATGCTTCAATAGCTCTTTCTT': 5,\n",
       " 'ACAAACAAGTGTAGGATAAACTTTCCTTGCCCAGTAT': 18,\n",
       " 'AAAGTAAATCCTAGAGCATAACCAATTTTCGTAGG': 28,\n",
       " 'GATGAACAATAAAACAATCATCTAAAGACGAAGAA': 27,\n",
       " 'TTCAGAATACTTAGCTCCTGCGCCTATATCGTCTGAA': 29,\n",
       " 'TGGTATATCATACTCGTGCATTGCCTGCTCCACATT': 9,\n",
       " 'TTCGCAACTTATGATGGTGAAATGATTACATTAACA': 30,\n",
       " 'GGTGATAGTGGAAGTTTTACTTATACTTGGCGTGCT': 25,\n",
       " 'AACGTACAAAATGTAGCTATTATCATCTTTTAGATAGT': 31,\n",
       " 'AGGAGATAACTTCTATTAAAGATAACTTTGATGTGGT': 32,\n",
       " 'GACAAAGCGACTATTACTATCTCAGGTGATAAAAA': 12,\n",
       " 'AAAGTAAATCCTAGAGCATAACCAATTTTCGTAGGC': 28,\n",
       " 'TATACTTCCTAATGCAATCAAATAAGTACCTAAAATC': 6,\n",
       " 'GTAGAGTCTTTATATGGTAGAGGTGGAATATATAAGT': 33,\n",
       " 'ATTTGAAAGGAATAAATTTTAAATGAATGAAAGGATAG': 7,\n",
       " 'ATAATCCAGAAGATGATACACTTCTTGAACAATATATT': 34,\n",
       " 'TAGATTGCTTTCAAATTACCTCTTGTATAGCGTCT': 20,\n",
       " 'TTCGTAAAATAACAATTATCTGGAATATGAGAAGT': 35,\n",
       " 'GTTCCTGTTGTGTTTTTTACTAATCCCATTTTATA': 36,\n",
       " 'TGGAGCATTATGTTTTTAGGTTACGGAGCAACATTTA': 37,\n",
       " 'AATATAACAAAGTGGATGTTCTCTAAAAATAAAGAGG': 38,\n",
       " 'CCATCAGCCTTATCCTGTGCAAATAATAGTGCCAAG': 39,\n",
       " 'ATACAACCATATATTTACCAATTATGTACTTATGAA': 40,\n",
       " 'AAAATTAAATTTCATGCTCTTAGACATACATATGCAAC': 41,\n",
       " 'ATAATCCAGAAGATGATACACTTCTTGAACAATATATTG': 34,\n",
       " 'AGGAGATAACTTCTATTAAAGATAACTTTGATGTGG': 32,\n",
       " 'TCTCATGACTATTGAATAAATATAATAAACAAGCATA': 42,\n",
       " 'CCAACCCTTCGCACGAATCCGTGCGACGAAATATAAA': 43,\n",
       " 'GAGGAGATTCAGACAGCGACTAAAAAGACTGATATAA': 3,\n",
       " 'AACTCTTCAATATCTCCTAATCGTTCAATATAATTCT': 23,\n",
       " 'AGGTATACACCTTCTACTCTTGTAAGAGTACCATAAG': 44,\n",
       " 'AAGGAAGGTGGAAGTCAATATGCATGGGTCAAATGG': 45,\n",
       " 'CGAGTTGGCATCCAAGCATTTTTCACAGATTTTAAT': 46,\n",
       " 'TGAAACAAAATGCTGATGCAAGAAAAGAAAGTATCCGT': 47,\n",
       " 'AGGTATACACCTTCTACTCTTGTAAGAGTACCATAA': 44,\n",
       " 'TTGCTCCGCTATGCCTTGCGCTCTCTAATATCGCTTA': 15,\n",
       " 'GCAGAAGATTTAGCGACTGTTGTTGCTGAATGGGATG': 48,\n",
       " 'TGAACTTTAATCGGTTTTATACAACAATATAACG': 21,\n",
       " 'GCGATAAGAGATTCGAGTCTTTTTACTGGGCTTAATC': 49,\n",
       " 'AAGGTTTGACCTGCGTTTTTATATGCATCTGAATAAC': 50,\n",
       " 'ACTAAACCTTTTTGTTTACTTTTATTTCTCATTTTA': 51,\n",
       " 'AACAACGTCATATATATCATCTTTAGTTGTAAGAGCA': 52,\n",
       " 'AAAAGCGTTCTTAAATCGTTACTTAACTCTTGCAAA': 10,\n",
       " 'AGTACATACAAAGAGTCTATAAAATTATCTATAAAGG': 53,\n",
       " 'TAATCTGACACATACAAAGTTGAACCTAGTGGTACGG': 54,\n",
       " 'AGTTATGTCAAATTATTAGAAACTAAAAACCTAGTTG': 55,\n",
       " 'TGACTCGTGCTATTTTTTTTACACGCCTAAGAGGT': 56,\n",
       " 'CGAATTTCATGGCTTTGAATTTATTTATATGTAGT': 57,\n",
       " 'AGACTCGACATAGAATCGGTTACTAAATCCGAGGGTTTCA': 22,\n",
       " 'TGGTGAACAATAAAACAATCATCTAAAGACGAAGAAAA': 27,\n",
       " 'AAAGTTTTGCGCATTGTATGTGTGCCTAGATTATCT': 58,\n",
       " 'TATCAAAAAATCCCCTCACCTGCATACTTATATAAAT': 59,\n",
       " 'AACAACGTCATATATATCATCTTTAGTTGTAAGAGC': 52,\n",
       " 'CTCAAAGTTGGACTAGCTTCATCTTTTAATTTTACAAG': 60,\n",
       " 'ACAAAAAAACGTATAATAAAAATAATTTCTATCTCTG': 61,\n",
       " 'TGAAACAAAATGCTGATGCAAGAAAAGAAAGTATCCG': 47,\n",
       " 'TGTAAAAATATTGCTTAGCATATTGATATCACTAAC': 62,\n",
       " 'GATTGTACTTTAGCGTCTGCACTAGCTTTGTCTATC': 17,\n",
       " 'ACAGCTCCCAAGACATACAACGAATCTGTAACATCAG': 16,\n",
       " 'TTTGATTACATGGGCAGTTTTTTATTATAGAGTGTT': 63,\n",
       " 'GCAGAAGATTTAGCGACTGTTGTTGCTGAATGGGAT': 48,\n",
       " 'AGTTATGTCAAATTATTAGAAACTAAAAACCTAGTTGG': 55,\n",
       " 'AATATAACAAAGTGGATGTTCTCTAAAAATAAAGAG': 38,\n",
       " 'TAATCTGACACATACAAAGTTGAACCTAGTGGTACG': 54,\n",
       " 'TTCGCAACTTATGATGGTGAAATGATTACATTAACAG': 30,\n",
       " 'CGAAAAATCTAGGAAAAACTATTGTAAAAGCGTTTA': 64,\n",
       " 'CCATCAGCCTTATCCTGTGCAAATAATAGTGCCAA': 39,\n",
       " 'AAAAGTTGCACGCCTATTTGATTTTTCAATACATTA': 24,\n",
       " 'ACGATATTTTTATATTCTATTGTTGTTATCTTATTC': 65,\n",
       " 'CGAGTTGGCATCCAAGCATTTTTCACAGATTTTAATA': 46,\n",
       " 'AGGTCAAGCATAGATTTTGCAACTGGAAGATAAGAAGA': 66,\n",
       " 'AATTTAGAAAAGGACTATTAGGAAGCAAAGAAAAAAT': 67,\n",
       " 'CCAACCCTTCGCACGAATCCGTGCGACGAAATATAA': 43,\n",
       " 'GAGGAGATTCAGCCAGCGACTAAAAAGACTGATATAAA': 3,\n",
       " 'AAGCAACTATAGTAGAAGCAAAAGCGACAACAACTAAAG': 68,\n",
       " 'ATGTTCACATTGACAGCTCAAGATAAACATGGAATT': 69,\n",
       " 'AAAGGTGTCCATTGATTTCTTTCAGTTTCGGGAATA': 70,\n",
       " 'GGAGATTTAAAAGTTAACAACATAAAAATGATAGATA': 71,\n",
       " 'GCGATAAGAGATTCGAGTCTTTTTACTGGGCTTAAT': 49,\n",
       " 'ATACAACCATATATTTACCAATTATGTACTTATGAAG': 40,\n",
       " 'ATGTCCCCACATCAATTTTCCTCCGCATGAAAAAAT': 72,\n",
       " 'GTTTGAGAACGCTGTATAAAGCTTGTAGCTAGTTCT': 73,\n",
       " 'ACGAAATTAGAGTTTGAAATATATGACTACATAAT': 74,\n",
       " 'TCGAATGTGAATGGCACTTCTATTTCTCCAACTTTT': 75,\n",
       " 'TGGTGAACAATAAAACAATCATCTAAAGACGAAGAAA': 27,\n",
       " 'GTTTGAGAACGCTGTATAAAGCTTGTAGCTAGTTCTT': 73,\n",
       " 'TGCTGTGATTTCACTAATAAAACAATTAATAATTG': 76,\n",
       " 'CGAAAAATCTAGGAAAAACTATTGTAAAAGCGTTT': 64,\n",
       " 'TCTCATGACTATTGAATAAATATAATAAACAAGCATAC': 42,\n",
       " 'AACTTTATATCTCCATTTGCATATCAATCTGATGAA': 2,\n",
       " 'TGACTCGTGCTATTTTTTTTACACGCCTAAGAGGTA': 56,\n",
       " 'TAACAAAATTTGCGAGTACACTTATTTCTAATATATC': 26,\n",
       " 'GAGTACAAGGTTGAGAAGCTCCGCAATCTCAACGTCG': 0,\n",
       " 'AAAGTTTTGCGCATTGTATGTGTGCCTAGATTATC': 58,\n",
       " 'TTTTTTAACTTTTCAGTTCTCACAGGCGTTTCATC': 77,\n",
       " 'AACTTTATATCTCCATTTGCATATCCATCTGATGATC': 2,\n",
       " 'ATTAAATTGCTCAGTCTAGTACTTAAAGAATTATAA': 78,\n",
       " 'TGCTGTGCCACAATTTGATGCTTCTATAGCTAAATT': 79,\n",
       " 'AACGTACAAAATGTAGCTATTATCATCTTTTAGATAG': 31,\n",
       " 'CATATTCTTCATTTATCCCTATTCTATCTAATATT': 80,\n",
       " 'ACGATATTTTTATATTCTATTGTTGTTATCTTATTCT': 65,\n",
       " 'TGCTGTGATTTCACTAATAAAACAATTAATAATTGT': 76,\n",
       " 'TCAAAATTATTTAGTTATACTAAACATTATATTAT': 81,\n",
       " 'TAAGAATTAACTAATGTGAATTTTTTAGACATGTCAT': 82,\n",
       " 'AAAAGTGCTAGGTCACTAAATGATGCAACAGTAGACG': 4,\n",
       " 'TGCTGTGCCACAATTTGATGCTTCTATAGCTAAATTC': 79,\n",
       " 'GGAGATTTAAAAGTTAACAACATAAAAATGATAGAT': 71,\n",
       " 'AACTTTATATCTCCATTTGCATATCCATCTGATGAT': 2,\n",
       " 'AACAAAGAACCATTTGAATCACGAAAACTAAAAAACA': 83,\n",
       " 'ACTAATTGGGTTAAACAAATGGATATAACTAAATTA': 84,\n",
       " 'AAGGAAGGTGGAAGTCAATATGCATGGGTCAAATG': 45,\n",
       " 'ATAAGAGTGGTTTAAGAAAATAAGTTATTTTTCAAA': 85,\n",
       " 'TTGCAGGTTTTCCTTATAGTTTGCCATATGTTCCT': 86,\n",
       " 'CCGGATTTTTCTGCTTCGACTGTTGTTATTGAGACT': 87,\n",
       " 'ACAAAAAAACGTATAATAAAAATAATTTCTATCTCT': 61,\n",
       " 'ATAAGAGTGGTTTAAGAAAATAAGTTATTTTTCAA': 85,\n",
       " 'ACTGTATGCCATCTAAATGCATCATACAATCTTATTT': 1,\n",
       " 'TTCAGAATACTTAGCTCCTGCGCCTATATCGTCTGAAT': 29,\n",
       " 'AAGGTTTGACCTGCGTTTTTATATGCATCTGAATAA': 50,\n",
       " 'CTATCAATATATATTTTATAAGCATAAGTTTTACGCA': 88,\n",
       " 'GCTATAGAAGTAGCAGACTTAGGAACATCAGAAAAA': 89,\n",
       " 'ATTTGAAAGGAATAAATTTTTAATGAATGAAAGGATA': 7,\n",
       " 'AATATCTAAAAAAAACGACTTATATCCCATTTCTAC': 90,\n",
       " 'GCGTACAAGGTTGAGAAGCTCAGCAATCTCAACGTCG': 0,\n",
       " 'ACAAGAGGTTTTTCAGCAATATATGTACTTCTATAA': 91,\n",
       " 'GCGAACAAGGTTGAGAAGCTCCGCAATCTCAACGTCG': 0,\n",
       " 'TGTTTTCCATAAACATTTCTAATTGACTTTTATTGT': 92,\n",
       " 'AGATATACAAGGTGAAAGTGTTGAAATTTCAATCTT': 93,\n",
       " 'GTTCCTGTTGTGTTTTTTACTAATCCCATTTTATAT': 36,\n",
       " 'CAACATTAGTAGTTGTCTTTATACACATAGCATCAC': 94,\n",
       " 'GGACATTTTAACCATAGACTATTTTACAAACAAACTT': 95,\n",
       " 'ATGTCCCCACATCAATTTTCCTCCGCATGAAAAAATC': 72,\n",
       " 'TTGGTTAACTTAAGTGCTATGAAAGGAATTAATGA': 96,\n",
       " 'TAGGATTGGTGTGTTACGACCACACAACGCTGGACT': 97,\n",
       " 'AACTTTATATCTCCATTTGCTTATCCATCTGATGAA': 2,\n",
       " 'TATCAAAAAATCCCCTCACCTGCATACTTATATAAA': 59,\n",
       " 'ATTTGAAAGGATTAAATTTTAAATGAATGAAAGGATA': 7,\n",
       " 'AGTACATATAATGAGTCTTTAACATCAGTTATGAAA': 19,\n",
       " 'ATTTGAAAGGAATAAATTTTAAAAGAATGAAAGGATA': 7,\n",
       " 'TTAAATCGTTTGATTGGAAGTATAAATTATAATGAC': 98,\n",
       " 'GCGTACAAGGTTGAGAAGCTCCGCATTCTCAACGTCG': 0,\n",
       " 'GCGTACAAGGTTGAGAAGCTCCTCAATCTCAACGTCG': 0,\n",
       " 'GAGGAGATTCAGACAGAGACTAAAAAGACTGATATAAA': 3,\n",
       " 'AGTGAATTTGGCGAACTCGATATAGAGAAAAAAATAAAG': 99,\n",
       " 'AACTTTATATCTCAATTTGCATATCCATCTGATGAA': 2,\n",
       " 'CTAGAATTAGAACTCATTATTAAAACCATTCTTGCAAG': 100,\n",
       " 'TATACTTCCTAATGCAATCAAATAAGTACATAAAAT': 6,\n",
       " 'ATTTGAAAGGAATAAATTTTAAATTAATGAAAGGATA': 7,\n",
       " 'GCGTACAAGGTTGAGAAGCTCCGCAATCTCAACTTCG': 0,\n",
       " 'TATCTAAAACCCAATAGGATTGACACGTTACGCCCG': 11,\n",
       " 'AACTATATATCTCCATTTGCATATCCATCTGATGAA': 2,\n",
       " 'GCGTACAAGGTTGAGAAGCTCCGCAATCTCAACGACG': 0,\n",
       " 'GAAGTTTTTAATGTTGTCGCGACTCTTGCTGTTGCT': 101,\n",
       " 'ATCTTTATATCTCCATTTGCATATCCATCTGATGAA': 2,\n",
       " 'AACTTTATATCTCCATTTGCTTATCCATCTGATGAAC': 2,\n",
       " 'GCTGAAAGTTTAAAAGTTTTAACTATAAATTCAGTTG': 102,\n",
       " 'TGGAGCATTATGTTTTTAGGTTACGGAGCAACATTT': 37,\n",
       " 'TTAAAGGTGCAAGTCTTAATACTTGTTACATGAGT': 103,\n",
       " 'CATGTATTCTGTTTAATGCTTCAATAGCTCTTTCT': 5,\n",
       " 'AACTTTATATCTCCATTTGCATATACATCTGATGAA': 2,\n",
       " 'AACTTTATATCTCCATTTGCATATCAATCTGATGAAC': 2,\n",
       " 'AACTTTATATCTCCATTTGAATATCCATCTGATGAA': 2,\n",
       " 'GTTTTAGAACAGAAAAAATTGTATAAATTGTGGAAT': 104,\n",
       " 'GCGTACAAGCTTGAGAAGCTCCGCAATCTCAACGTCG': 0,\n",
       " 'AGATATACAAGGTGAAAGTGTTGAAATTTCAATCT': 93,\n",
       " 'ATTTTAAAGGAATAAATTTTAAATGAATGAAAGGATA': 7,\n",
       " 'GCGTACAAGGTTGAGAAGCACCGCAATCTCAACGTCG': 0,\n",
       " 'CTTTTAAGTGCATCAAAGGAGTTACAAGCTATATTT': 105,\n",
       " 'GGACATTTTAACCATAGACTATTTTACAAACAAACT': 95,\n",
       " 'CCTGTATTCTGTTTAATGCTTCAATAGATCTTTCT': 5,\n",
       " 'GTAGAGTCTTTATATGGTAGAGGTGGAATATATAAG': 33,\n",
       " 'GCGTACAAGGTTGAGAAGCTCAGCAATCTCAACGTCGT': 0,\n",
       " 'TATCTAAAACCCAATAGGATTGACACGTTACGCCC': 11,\n",
       " 'TATACTTCCTAATGCAATCAAATAAGTACCTAAATT': 6,\n",
       " 'GCGTACAAGGTTAAGAAGCTCCGCAATCTCAACGTCG': 0,\n",
       " 'TATACTTCCTAATGAAATCAAATAAGTACCTAAAAT': 6,\n",
       " 'CCTGTATTCTGTTTAATGCTTCTATAGCTCTTTCT': 5,\n",
       " 'ACTGTATGACATCTAAATGCATCATACAAACTTATTT': 1,\n",
       " 'ACTAATTGGGTTAAACAAATGGATATAACTAAATT': 84,\n",
       " 'ACATTATCAACATCATCTAATTTTTTTGTCACTGT': 106,\n",
       " 'ACTGTATTCTGTTTAATGCTTCAATAGCTCTTTCT': 5,\n",
       " 'ATTTGAAAGGAATAAATTTTAAATGATTGAAAGGATA': 7,\n",
       " 'ACTGTATGCCATCTAAATGCATCATACAAACTAATTT': 1,\n",
       " 'ATTTGAAAGGAATAAATTTTAAATGAAAGAAAGGATA': 7,\n",
       " 'CAAAGTGATAGGTCACTAAATGATGCAACAGTAGACG': 4,\n",
       " 'GCTTACAAGGTTGAGAAGCTCCGCAATCTCAACGTCG': 0,\n",
       " 'ACTGTATGCCATCTAAATGCATCATAAAAACTTATTT': 1,\n",
       " 'AGAGGCAACTAATTGCTTATGAGTCTGCTAGTCTTAA': 107,\n",
       " 'CACTCTTAAGTTGTGACCTATCTGATATATGATTAAA': 108,\n",
       " 'TATACTTACTAATGCAATCAAATAAGTACCTAAAAT': 6,\n",
       " 'GAGGAGATTCAGACAGCGACTAAAAAGACAGATATAAA': 3,\n",
       " 'AACTTTATATCTCCATTAGCATATCCATCTGATGAAC': 2,\n",
       " 'TTCAGTGAGAATAAGCTTTATTGTCGATGTAACACTC': 109,\n",
       " 'TTGTTTAGGTCAAGTCTAATTTGACGTATTAAAGTAT': 110,\n",
       " 'GCGTACAAGGTTGAGAAGCTCCGAAATCTCAACGTCG': 0,\n",
       " 'CACTCTTAAGTTGTGACCTATCTGATATATGATTAA': 108,\n",
       " 'GCGTACAAGGTTGAGAAGCTCCGCAATCTCGACGTCG': 0,\n",
       " 'AGGATAAAGAAAAGCCTCACACAAGACACAGTGTCAG': 8,\n",
       " 'TCGTACAAGGTTGAGAAGCTCCGCAATCTCAACGTCG': 0,\n",
       " 'AGGATAAAGAAAAGACTCACACAAGACACAGAGTCA': 8,\n",
       " 'GCGTACAAGGTTGAGAAGCTCCGCAATATCAACGTCG': 0,\n",
       " 'AACTTTATATCTCCATTTGAATATCCATCTGATGAAC': 2,\n",
       " 'GATGAACAATAAAACAATCATCTAAAGACGATGAA': 27,\n",
       " 'AGGAGATTCAGACAGCGACTAAAAAGACTGATATAAA': 3,\n",
       " 'AACTTTATATATCCATTTGCATATCCATCTGATGAA': 2,\n",
       " 'TATCCTTGTATTTGCCTAACGCGATATAGAGCAAAAA': 111,\n",
       " 'TATACTTCCTAATGCAATCAATTAAGTACCTAAAAT': 6,\n",
       " 'GCGTACAAGGTTGAGAAGCTCCGCAATCTCAAGGTCG': 0,\n",
       " 'GCGTACAAGGTTGAGAAGATCCGCAATCTCAACGTCG': 0,\n",
       " 'ACTGTATGCCATCTAAATGAATCATACAAACTTATTT': 1,\n",
       " 'TATCTAAACCCCAATAGGATTGACACGTTACGACCG': 11,\n",
       " 'CCTGTATTCTGTTTAATGATTCAATAGCTCTTTCT': 5,\n",
       " 'CAAAGTGCTAGGTCACTAAATGATGAAACAGTAGACG': 4,\n",
       " 'ACCTTTATATCTCCATTTGCATATCCATCTGATGAAC': 2,\n",
       " 'ACATTATCAACATCATCTAATTTTTTTGTCACTGTA': 106,\n",
       " 'TTATTAACCTTATCAGAAACCTGACCATCCCAATTAT': 112,\n",
       " 'AAAATTAAATTTCATGCTCTTAGACATACATATGCAA': 41,\n",
       " 'TATTTTACAGATGAACAATTACAGTTACTTCTTGAA': 113,\n",
       " 'CCAATTAAGTTACTAGATAAAAAAATAGAACAAATTA': 114,\n",
       " 'ACTGTATGCAATCTAAATGCATCATACAAACTTATTT': 1,\n",
       " 'AGGATAAAGAAAAGACTCACAAAAGACACAGTGTCA': 8,\n",
       " 'AACTCTTCAATATCTCCTAATCGTTCAATATAATTAT': 23,\n",
       " 'AACTTTATATCTCCATATGCATATCCATCTGATGAAC': 2,\n",
       " 'GCGTACAAGGTTGAGAAGCTCCGCAATCTCACCGTCG': 0,\n",
       " 'ACGTACAAGGTTGAGAAGCTCCGCAATCTCAACGTCGT': 0,\n",
       " 'CGTATTAACACCTGTTCGGCACTATCACAATAAACACAA': 115,\n",
       " 'ATTTGAAAGGAATAAATTTTAAATGAATGAAAGGTTA': 7,\n",
       " 'ATTTGAAAGGAATAAATTTTAAATGAATGAAAGGAAA': 7,\n",
       " 'AACTTTATATCTCCATTTGCATATCCATATGATGAAC': 2,\n",
       " 'AATATCTAAAAAAAACGACTTATATCCCATTTCTACA': 90,\n",
       " 'AACTTTATATCTCCATTTGCATATCCATATGATGAA': 2,\n",
       " 'AGTGAATTTGGCGAACTCGATATAGAGAAAAAAATAAA': 99,\n",
       " 'CAAAGTGCTAGGTCACTAAATGATGCTACAGTAGACG': 4,\n",
       " 'CCTGTATTCTGTTTAATGCTTCATTAGCTCTTTCT': 5,\n",
       " 'GCTATAGAAGTAGCAGACTTAGGAACATCAGAAAA': 89,\n",
       " 'AGGATAAAGAAAAGACTCACACAAGACGCAGTGTCA': 8,\n",
       " 'TCATCAATATTAATTTTGGGAATATCAACATTTTTTG': 116,\n",
       " 'CAAAGTGCTAGGACACTAAATGATGCAACAGTAGACG': 4,\n",
       " 'ACTGTATGCCATCTAAATGCATCATACAAACTTAATT': 1,\n",
       " 'TATACTTCCTAATGCATTCAAATAAGTACCTAAAAT': 6,\n",
       " 'AGGATAAAGAAAAGACTCCCACAAGACACAGTGTCAG': 8,\n",
       " 'CCTGTATTCTGTTTAATGCTTCAATAGCTCTATCT': 5,\n",
       " 'CAAAGTGATAGGTCACTAAATGATGCAACAGTAGAC': 4,\n",
       " 'AACTTTATATCACCATTTGCATATCCATCTGATGAA': 2,\n",
       " 'CCGGATTTTTCTGCTTCGACTGTTGTTATTGAGACTT': 87,\n",
       " 'TTCGTAAAATAACAATTATCTGGAATATGAGAAGTT': 35,\n",
       " 'ACTGTATGCCATCTAAATGCATCATACAACCTTATTT': 1,\n",
       " 'CAAAGTGCTAGGTCACTAAATGATGCAACAGTAGACT': 4,\n",
       " 'GCGTACAAGGTTGAGGAGCTCCGCAATCTCAACGTCG': 0,\n",
       " 'AACTTTATATATCCATTTGCATATCCATCTGATGAAC': 2,\n",
       " 'CCTGTATTCTGTTTAATGCTTCAATGGCTCTTTCT': 5,\n",
       " 'CCTGTATTCTCTTTAATGCTTCAATAGCTCTTTCT': 5,\n",
       " 'AACTTTATATCTCCATATGCATATCCATCTGATGAA': 2,\n",
       " 'CCTCTATTCTGTTTAATGCTTCAATAGCTCTTTCT': 5,\n",
       " 'AATTGAAAGGAATAAATTTTAAATGAATGAAAGGATA': 7,\n",
       " 'GCGTACAAGGTTGAGAAGCTCCGCAATCACAACGTCG': 0,\n",
       " 'GCGTACAAGGTTGAGAGGCTCCGCAATCTCAACGTCG': 0,\n",
       " 'GCGTACAAGGTTGAGAAGCTCCGCAATCTCAACGTCT': 0,\n",
       " 'ATTTGATAGGAATAAATTTTAAATGAATGAAAGGATA': 7,\n",
       " 'GCGTACAAGGTTGAGAAGCTCCGCAAACTCAACGTCG': 0,\n",
       " 'TATCTAAAACCCATTAGGATTGACACGTTACGACCG': 11,\n",
       " 'AACTTAATATCTCCATTTGCATATCCATCTGATGAA': 2,\n",
       " 'GCGTACAAGGTTGAGAAGCTCCGCTATCTCAACGTCG': 0,\n",
       " 'AACTTTATATCTCCATTAGCATATCCATCTGATGAA': 2,\n",
       " 'GCGTACAAGGTTGAGAAGCTCCGCAATCTCATCGTCG': 0,\n",
       " 'ATGTTCACATTGACAGCTCAAGATAAACATGGAAT': 69,\n",
       " 'AATTTAGAAAAGGACTATTAGGAAGCAAAGAAAAAA': 67,\n",
       " 'ATTTGAAAGGAATAAATTTTAAATGAATGATAGGATA': 7,\n",
       " 'ATTTGAAAGGAATAAAATTTAAATGAATGAAAGGATA': 7,\n",
       " 'TATACTTCATAATGCAATCAAATAAGTACCTAAAAT': 6,\n",
       " 'AACTTTATATCTCCATTTGCATATACATCTGATGAAC': 2,\n",
       " 'GCGTACAAGGTTGAGAAGCTCCGCAATCTAAACGTCG': 0,\n",
       " 'GCGTAAAAGGTTGAGAAGCTCCGCAATCTCAACGTCG': 0,\n",
       " 'AACTTTATATCTCCATTTGCATATCGATCTGATGAAC': 2,\n",
       " 'AGTACATACAAAGAGTCTATAAAATTATCTATAAAG': 53,\n",
       " 'GCGTACAAGGTTGAGAAGCTCCGCAATCTCACCGTCGT': 0,\n",
       " 'TTTTGAAAGGAATAAATTTTAAATGAATGAAAGGATA': 7,\n",
       " 'GAATTATATATTATGAAAAAATATGGAGTCACAGAGG': 117,\n",
       " 'GCGTACAAGGTTGAGAAGCTCCGCAACCTCAACGTCGT': 0,\n",
       " 'AGGATAAAGAAAAGACTCACACAAGACACAGTGTCTG': 8,\n",
       " 'TATACTTCCTAATGCAATCAAAAAAGTACCTAAAAT': 6,\n",
       " 'CCTGTATTCTGTTTAATGCTTCAATAGCTGTTTCT': 5,\n",
       " 'AAGCAACTATAGTAGAAGCAAAAGCGACAACAACTAAA': 68,\n",
       " 'CCTGTATTCTGTTAAATGCTTCAATAGCTCTTTCT': 5,\n",
       " 'AATAACTTGTCAATGTAGTTATATGCAACAACTTCTAT': 118,\n",
       " 'AACTTTATATCTCCATTTCCATATCCATCTGATGAA': 2,\n",
       " 'CCTGTATTATGTTTAATGCTTCAATAGCTCTTTCT': 5,\n",
       " 'TTGCTCCGCTATGCCTTGAGCTCTCTAATATCGCTT': 15,\n",
       " 'AACTGTATATCTCCATTTGCATATCCATCTGATGAAC': 2,\n",
       " 'GCGTACAAGGTTGGGAAGCTCCGCAATCTCAACGTCG': 0,\n",
       " 'TATCTAAAACCAAATAGGATTGACACGTTACGACC': 11,\n",
       " 'AAAAGCGTTCTTAATTCGTTACTTAACTCTTGCAAAT': 10,\n",
       " 'CCTGTATTCTGTTTAATGCTTCAATAGCTATTTCT': 5,\n",
       " 'AGGATAAAGAAAAGCCTCACACAAGACACAGTGTCA': 8,\n",
       " 'GCGTACAAGGTTGAGAAGCTCCGCAATCTCTACGTCG': 0,\n",
       " 'ATTTGAAAGGAATTAATTTTAAATGAATGAAAGGATA': 7,\n",
       " 'ACGTACAAGGTTGAGAAGCTCCGCAATCTCAACGTCG': 0,\n",
       " 'GCGTACAAGGTTGAGAAGCTCCGCAATCTCAGCGTCG': 0,\n",
       " 'TATCTAAAACCCAATAGGATTGACACGTTACGACAG': 11,\n",
       " 'TATACTTCCTAATGCAATCAAATAAGTACCTAATAT': 6,\n",
       " 'TATACTTCCTAATGCAATCAAATAAGTACGTAAAAT': 6,\n",
       " 'CCAATTAAGTTACTAGATAAAAAAATAGAACAAATT': 114,\n",
       " 'ACTGTATCCCATCTAAATGCATCATACAAACTTATTT': 1,\n",
       " 'AAAAGCGTTCTTAAATCGTTACTTAACTCTTGCATAT': 10,\n",
       " 'TAAGAATTAACTAATGTGAATTTTTTAGACATGTCA': 82,\n",
       " 'CCTGTATTCTGTTTAATGCTACAATAGCTCTTTCT': 5,\n",
       " 'AACTATATATCTCCATTTGCATATCCATCTGATGAAC': 2,\n",
       " 'GAGGAGATTCAGACAGCGGCTAAAAAGACTGATATAAA': 3,\n",
       " 'TTGCTATGATTTAATTATACGACGTTTTGTCTTTAAA': 119,\n",
       " 'GCGTACAACGTTGAGAAGCTCCGCAATCTCAACGTCG': 0,\n",
       " 'CCTGAATTCTGTTTAATGCTTCAATAGCTCTTTCT': 5,\n",
       " 'AGTAATTCCATGCAATCTTTTATATTGCTTTTTAACC': 120,\n",
       " 'ACTGTATGCCATCTAAATGCATCATACATACTTATTT': 1,\n",
       " 'AACTTTATATCTCCATTTGCAGATCCATCTGATGAA': 2,\n",
       " 'ACGAAATTAGAGTTTGAAATATATGACTACATAATA': 74,\n",
       " 'CAAAGTGCTAGGTCTCTAAATGATGCAACAGTAGACG': 4,\n",
       " 'ATTTGAAAGGAATAAATTTTAATTGAATGAAAGGATA': 7,\n",
       " 'ACTGTATGCCATCTAAATGCATCATACAAAGTTATTT': 1,\n",
       " 'GCGTACAAGGTTGAGAAGCTCCGCAATCTCATCGTCGT': 0,\n",
       " 'GCGTACAAGGTTGAGAAGCTCCGCAATCTCAACTTCGT': 0,\n",
       " 'GCGTACAAGGTTGAGAAGCTCGGCAATCTCAACGTCG': 0,\n",
       " 'CAAAGTGCTAGGTAACTAAATGATGCAACAGTAGACG': 4,\n",
       " 'ATTTGAAAGGAAAAAATTTTAAATGAATGAAAGGATA': 7,\n",
       " 'GAGGAGATTCTGACAGCGACTAAAAAGACTGATATAAA': 3,\n",
       " 'AACTTTATATCTCCAGTTGCATATCCATCTGATGAAC': 2,\n",
       " 'ACTGTATGCCATCTAAATGCATCATACAAACATATT': 1,\n",
       " 'GCGTACAAGGTTGAGAAGCTCCGCAATCTCAACGTCGA': 0,\n",
       " 'AACTTTATATCTCCATTTGCATATCCATCTGATAAA': 2,\n",
       " 'AACATTATATCTCCATTTGCATATCCATCTGATGAAC': 2,\n",
       " 'CAAAGAGCTAGGTCACTAAATGATGCAACAGTAGACG': 4,\n",
       " 'AAAAGCGTTCTTAAATCGTTACTTACCTCTTGCAAAT': 10,\n",
       " 'CCTGTATTCTGTATAATGCTTCAATAGCTCTTTCT': 5,\n",
       " 'GCGTACAAGGTTGAGAAGCTCCGCAATCTCAAAGTCG': 0,\n",
       " 'ATCTTTATATCTCCATTTGCATATCCATCTGATGAAC': 2,\n",
       " 'CGTGTATTCTGTTTAATGCTTCAATAGCTCTTTCT': 5,\n",
       " 'GCGTACAAGGTTGAGAAGCTCCGCAGTCTCAACGTCG': 0,\n",
       " 'GCGTACAAGGTAGAGAAGCTCCGCAATCTCAACGTCG': 0,\n",
       " 'TCACACATGAGCAATATCTAAACAGGCAAATCTACA': 14,\n",
       " 'ACTGTATGCCATCTAAAAGCATCATACAAACTTATTT': 1,\n",
       " 'AACTTTATATCACCATTTGCATATCCATCTGATGAAC': 2,\n",
       " 'AAGCTTTCATAGCATCCTCTTCTGAACATTCATCACT': 121,\n",
       " 'CCTGTATTCTGATTAATGCTTCAATAGCTCTTTCT': 5,\n",
       " 'ATTTGAAAGGAATAAATTTTAAATGAATTAAAGGATA': 7,\n",
       " 'AAGTTTATATCTCCATTTGCATATCCATCTGATGAA': 2,\n",
       " 'ACTGTATGCCATCTAAATGCATCATAAAAACTTATT': 1,\n",
       " 'GCGTACACGGTTGAGAAGCTCCGCAATCTCAACGTCG': 0,\n",
       " 'ACTGTATGCCATCAAAATGCATCATACAAACTTATTT': 1,\n",
       " 'AATAACTTGTCAATGTAGTTATATGCAACAACTTCTA': 118,\n",
       " 'AACTTTATATCTCCATTTGCATATCCATCTGATGAG': 2,\n",
       " 'TGTAAAAATATTGCTTAGCATATTGATATCACTAACT': 62,\n",
       " 'GCGAACAAGGTTGAGAAGCTCCGCAATCTCAACGTCGT': 0,\n",
       " 'TAGTAAGTTAACTCATACATACCACCTTCCCCATAA': 122,\n",
       " 'GCGTACAAGGTTGAGAAGATCCGCAATCTCAACGTCGT': 0,\n",
       " 'GAGGAGATACAGACAGCGACTAAAAAGACTGATATAAA': 3,\n",
       " 'CAGCCAAAAACTTCGAATATGAACTAAAATGCGTG': 13,\n",
       " 'TATACTTCCTAATGCAATCAAATAAGAACCTAAAAT': 6,\n",
       " 'GCGTACAAGGATGAGAAGCTCCGCAATCTCAACGTCG': 0,\n",
       " 'AGGATAATGAAAAGACTCACACAAGACACAGTGTCAG': 8,\n",
       " 'TTTGATTACATGGGCAGTTTTTTATTATAGAGTGTTA': 63,\n",
       " 'TAACAAATTTTGCGAGTACACTTATTTCTAATATAT': 26,\n",
       " 'ACTGTATGCCATCAAAATGCATCATACAAACTTATT': 1,\n",
       " 'GCGTACAAGGTAGAGAAGCTCCGCAATCTCAACGTCGT': 0,\n",
       " 'ATTCTTAGATGTTATAATTTGTGTTGCATTTAAAT': 123,\n",
       " 'TCCATTTGTCTAATGCTTCTAACTCTTTTTTTATA': 124,\n",
       " 'ACTGTATGCCATCTAAATGCAACATACAAACTTATT': 1,\n",
       " 'GCGTACAAGGTTGAGAAGCTCCGCAATCTCAACGGCG': 0,\n",
       " 'ACTGTATGCCATCTAAATGCATCATACAAACTTAGTT': 1,\n",
       " 'TCCAAAATGGGCTTGGAGTTAAGAGTTGTATAAGAAAC': 125,\n",
       " 'TACTTTATATCTCCATTTGCATATCCATCTGATGAA': 2,\n",
       " 'AACTTTATATCTCCATTTGCATATCCATCTCATGAA': 2,\n",
       " 'ATTTGAATGGAATAAATTTTAAATGAATGAAAGGATA': 7,\n",
       " 'AGCCTCGACATAGAATCGGTTACTAAATCCGAGGGTTTCAG': 22,\n",
       " 'TCAAAATTATTTAGTTATACTAAACATTATATTATA': 81,\n",
       " 'GCGTACAAGGTTGAGAAGCTCCGCAATCTAAACGTCGT': 0,\n",
       " 'TATCTAAACCCCAATAGGATTGACACGTTACGACC': 11,\n",
       " 'CCGCTTGGCAAATCATAAGAAGGATTATTTTCTCCAAC': 126,\n",
       " 'CCTGTATTCTGTTTAATGCTTAAATAGCTCTTTCT': 5,\n",
       " 'TGGTATATCATACTCTTGCATTGCCTGCTCCACAT': 9,\n",
       " 'CAAAGTGCTAGGTCACTAAATGATGCAACAGTAGCCG': 4,\n",
       " 'GCGTACAAGGTCGAGAAGCTCCGCAATCTCAACGTCG': 0,\n",
       " 'TATCTAAAACCCAATAGGATTGACACGATACGACC': 11,\n",
       " 'AGGATAAAGAAAAGACTCACACAAGACACAGAGTCAG': 8,\n",
       " 'GATTGTACTTTAGCGTCTGCAGTAGCTTTGTCTAT': 17,\n",
       " 'AACTTTATATCTCCATTTGCATATCCATCTGATCAA': 2,\n",
       " 'CATATTCTTCATTTATCCCTATTCTATCTAATATTT': 80,\n",
       " 'GCGTACAAGGTTGAGAAGCTCCTCAATCTCAACGTCGT': 0,\n",
       " 'AACTTTATATCTCGATTTGCATATCCATCTGATGAAC': 2,\n",
       " 'ACTGTATGCCATCTAAATGCATCATACAAACATATTT': 1,\n",
       " 'AACAAAAAAGATACATCTGTAACTAATTTTTATAC': 127,\n",
       " 'ACTGTATGCCATCTAAATGCATAATACAAACTTATTT': 1,\n",
       " 'AACTTTATATCTCGATTTGCATATCCATCTGATGAA': 2,\n",
       " 'ACTGTATGCCAACTAAATGCATCATACAAACTTATTT': 1,\n",
       " 'CCATCAGCCTTATCCTGTGCAAATAATAGTGCAAAG': 39,\n",
       " 'GACAAAGCGAGTATTACTATCTCAGGTGATAAAAA': 12,\n",
       " 'TATACTTCCTAATTCAATCAAATAAGTACCTAAAAT': 6,\n",
       " 'ACAATATTATTGTTCATTTCATTTAATAATTCTAGTA': 128,\n",
       " 'TTGCTCCGCTATGCATTGCGCTCTCTAATATCGCTT': 15,\n",
       " 'AGGTATACACATTCTACTCTTGTAAGAGTACCATAA': 44,\n",
       " 'TATACTTCCTAATCCAATCAAATAAGTACCTAAAAT': 6,\n",
       " 'GAGGAGATTCAGACAGCGACTATAAAGACTGATATAAA': 3,\n",
       " 'GATGAGATTCAGACAGCGACTAAAAAGACTGATATAAA': 3,\n",
       " 'CCTGTTTTCTGTTTAATGCTTCAATAGCTCTTTCT': 5,\n",
       " 'TGGTATATCATACTCGTGAATTGCCTGCTCCACAT': 9,\n",
       " 'AACTTTATATCTCCATTTGCATTTCCATCTGATGAAC': 2,\n",
       " 'TATCTAAAACCCAATAGGATTGACACGTTACGACCC': 11,\n",
       " 'TATACTTCCTATTGCAATCAAATAAGTACCTAAAAT': 6,\n",
       " 'ACTGTATGCCATCTAAATGCATCATTCAAACTTATTT': 1,\n",
       " 'GCGTACAAGGATGAGAAGCTCCGCAATCTCAACGTCGT': 0,\n",
       " 'AACTTTATATCTCCATTTGCATATCCACCTGATGAAC': 2,\n",
       " 'ATTTGAAAGGAATAAATTTTAAATGAATGAATGGATA': 7,\n",
       " 'TACGACATTGAATAAAATGGGTACAGAGACAATTTATAA': 129,\n",
       " 'CATTGTATACTAAGCTTGATATAGTGCAAAATGAAA': 130,\n",
       " 'AACTTTATTTCTCCATTTGCATATCCATCTGATGAAC': 2,\n",
       " 'GAGGAGATTCAGACAGCGAGTAAAAAGACTGATATAAA': 3,\n",
       " 'ACAGCTCCCAAGCCATACAACGAATCTGTAACATCAGT': 16,\n",
       " 'GAGGAGATTCAGACAGCGACTAAATAGACTGATATAAA': 3,\n",
       " 'CAGCCAAAAACTTCGAATTAGAACTAAAATGCGTG': 13,\n",
       " 'AGACTCGACATAGAATCGGTTACTAAATCAGAGGGTTTCAG': 22,\n",
       " 'AACTTTATATCTCCAATTGCATATCCATCTGATGAA': 2,\n",
       " 'CCTGTATTCTGTTTAATGCTTCAATAGCTCTTACT': 5,\n",
       " 'CTATCAATATATATTTTATAAGCATAAGTTTTACGCAT': 88,\n",
       " 'AACTTTATATCTCCATTTTCATATCCATCTGATGAAC': 2,\n",
       " 'AACTTTATATCTCCATTTGCATATCCATCAGATGAAC': 2,\n",
       " 'TAGATTGCTTTCAAATTACGTCTTGTATAGCGTCT': 20,\n",
       " 'CATTGTATACTAAGCTTGATATAGTGCAAAATGAAAC': 130,\n",
       " 'ACTGTAAGCCATCTAAATGCATCATACAAACTTATTT': 1,\n",
       " 'GCGTACAAGGTTGAGAATCTCCGCAATCTCAACGTCG': 0,\n",
       " 'CAGCCAAAAACTTCGAATTTGATCTAAAATGCGTG': 13,\n",
       " 'GCGTACAAGGTTCAGAAGCTCCGCAATCTCAACGTCG': 0,\n",
       " 'CAAAGTGCTAGGTCACTAAATGATTCAACAGTAGACG': 4,\n",
       " 'AGTATAAAGAAAAGACTCACACAAGACACAGTGTCA': 8,\n",
       " 'TATACTTCCTAATGCAATCAAATATGTACCTAAAAT': 6,\n",
       " 'ATTTGAAAGGAATAAATTTTAAATGAATGAAAGGATT': 7,\n",
       " 'TATACTTCCTAATGCAATCAAATAAGTAACTAAAAT': 6,\n",
       " 'GCGTACAAGGTTGATAAGCTCCGCAATCTCAACGTCG': 0,\n",
       " 'AGGATAAAGAAAAGACTCACACAAGACACAGTGTAA': 8,\n",
       " 'ACTGTATGCCATCTAAATGCATCATACAAACTTATAT': 1,\n",
       " 'TGGTATATCATACTCGTGCATTGCCTGCTCAACAT': 9,\n",
       " 'AACTTTATATCTCAATTTGCATATCCATCTGATGAAC': 2,\n",
       " 'CCTGTATTCTGTTTAATGCTTCAATAGTTCTTTCT': 5,\n",
       " 'AAAGTAAATCCTAGAGCATACCCAATTTTCGTAGG': 28,\n",
       " 'CCTGTATGCCATCTAAATGCATCATACAAACTTATTT': 1,\n",
       " 'CCTGTATTCTGTTTAATGCTTCAATAGCTCTTTGT': 5,\n",
       " 'TGGTATATCATACTCGTGCATTGACTGCTCCACAT': 9,\n",
       " 'CAATGTGCTAGGTCACTAAATGATGCAACAGTAGACG': 4,\n",
       " 'ATTTGAAAGGAATAAATTTTAAATAAATGAAAGGATA': 7,\n",
       " 'GTGTACAAGGTTGAGAAGCTCCGCAATCTCAACGTCG': 0,\n",
       " 'TATACTTCCTAATGCTATCAAATAAGTACCTAAAAT': 6,\n",
       " 'AAAGGAATAGATGATATGATTGCTAATGCTGAACAACAA': 131,\n",
       " 'ACTGTATGCCATCTAAATGCATAATACAAACTTATT': 1,\n",
       " 'TTGCTCCGCTATGACTTGCGCTCTCTAATATCGCTT': 15,\n",
       " 'AAAGGAATAGATGATATGATTGCTAATGCTGAACAACA': 131,\n",
       " 'TATCTAAAACCCATTAGGATTGACACGTTACGACC': 11,\n",
       " 'GCGTACAAGGTTGAGAAGCTGCGCAATCTCAACGTCG': 0,\n",
       " 'TTGCTATGATTTAATTATACGACGTTTTGTCTTTAAAG': 119,\n",
       " 'ACCGTATGCCATCTAAATGCATCATACAAACTTATTT': 1,\n",
       " 'AAAAGCGTTCTTAAATCGTTACTTAACTCTTGCAATT': 10,\n",
       " 'TAAAGAGGGGTACTTCGTACTTTTACCACTCAAACTA': 132,\n",
       " 'GCGTACAAGGTTGAGAAGCTCCGCAATCTCAACGTCA': 0,\n",
       " 'ACTGTATGCCATCTAAATGCTTCATACAAACTTATTT': 1,\n",
       " 'GAGGAGATTCAGACAGCGCCTAAAAAGACTGATATAAA': 3,\n",
       " 'CCTGTATTCTGTTTAATGCTTCAATAGCTCTGTCT': 5,\n",
       " 'ACTGTATGGCATCTAAATGCATCATACAAACTTATT': 1,\n",
       " 'AACTTTATATCTACATTTGCATATCCATCTGATGAAC': 2,\n",
       " 'GGTGATAGTGGAAGTTTTACTTATACTTGGAGTGCTG': 25,\n",
       " 'GAGGAGATTCAGACAGCGACTAAAAAGACTCATATAAA': 3,\n",
       " 'ATTTGAAAGGAATAAATTTTTAATGAATGAAAGGATAG': 7,\n",
       " 'ACTGTATGCCATCTAACTGCATCATACAAACTTATTT': 1,\n",
       " 'GAGGAGATTCGGACAGCGACTAAAAAGACTGATATAAA': 3,\n",
       " 'CGAATTTCATGGCTTTGAATTTATTTATATGTAGTT': 57,\n",
       " 'ACTAAACCTTTTTGTTTACTTTTATTTCTCATTTTAC': 51,\n",
       " 'ACTGTATGCCATCTAAATTCATCATACAAACTTATTT': 1,\n",
       " 'TTTACTTCCTAATGCAATCAAATAAGTACCTAAAAT': 6,\n",
       " 'GAGGAGATTCAGACAGCGACAAAAAAGACTGATATAAA': 3,\n",
       " 'CAAAGTGCTAGGTCACTAAATGATGCATCAGTAGACG': 4,\n",
       " 'TGGTATATCATACTCGTGCATTGCATGCTCCACAT': 9,\n",
       " 'CAGGAGATTCAGACAGCGACTAAAAAGACTGATATAAA': 3,\n",
       " 'GAGGAGATTCAGACACCGACTAAAAAGACTGATATAAA': 3,\n",
       " 'GAAGTTTTTAATGTTGTCGCGACTCTTGCTGTTGCTT': 101,\n",
       " 'AACTTTATATCTCCATTTGCATATCCATCTGATGAAA': 2,\n",
       " 'TTGCTCCGCTATGCCTTGCGCTCTCTAATATAGCTT': 15,\n",
       " 'CAAAGTGCTAGGTCACTAAATGAAGCAACAGTAGACG': 4,\n",
       " 'AACTTTATATCTCCATTTGCATATCCATCAGATGAA': 2,\n",
       " 'ACAAGAGGTTTTTCAGCAATATATGTACTTCTATAAT': 91,\n",
       " 'AACTTTATATCTCCATTTGCATATCGATCTGATGAA': 2,\n",
       " 'TACTTTAGCACTAGTAAAGGTAGAATTATTAAAG': 133,\n",
       " 'AGGTCAAGCATAGATTTTGCAACTGGAAGATAAGAAG': 66,\n",
       " 'AACATTATATCTCCATTTGCATATCCATCTGATGAA': 2,\n",
       " 'ACTGTATGCCATCTATATGCATCATACAAACTTATTT': 1,\n",
       " 'CAGCCAAAAACTTCGATTTTGAACTAAAATGCGTG': 13,\n",
       " 'AAAAGCGATCTTAAATCGTTACTTAACTCTTGCAAAT': 10,\n",
       " 'TATACTTCCTAATGCAATCAAATAATTACCTAAAAT': 6,\n",
       " 'GAGGAGATTCAGACAGCGACTAAAAAGACTGATATAAT': 3,\n",
       " 'ACTCTATGCCATCTAAATGCATCATACAAACTTATTT': 1,\n",
       " 'CAGCCAAAAACTTCGAATTTGAACTAAAATGCGTGT': 13,\n",
       " 'ACTGTATGCCATCTAAATGCATCATACAAAATTATTT': 1,\n",
       " 'CAAAGTGCTAGGTCACTAAATTATGCAACAGTAGACG': 4,\n",
       " 'AACTTAATATCTCCATTTGCATATCCATCTGATGAAC': 2,\n",
       " 'ATTTGAAAGGAATAAATTTTAAATGAATGAAATGATA': 7,\n",
       " 'ACAGCTCCCAAGACATACAACGAATCTGTAGCATCAGT': 16,\n",
       " 'GCGTACAAGGTTGAGAAGCTCCGCAATCTCAACGCCGT': 0,\n",
       " 'AACTCTTCAATATCTACTAATCGTTCAATATAATTCT': 23,\n",
       " 'TGATACAAAATGCTGATGCAAGAAAAGAAAGTATCCG': 47,\n",
       " 'GCGTACAAGGTTGAGAAGCTCTGCAATCTCAACGTCG': 0,\n",
       " 'CAAAGTGCTTGGTCACTAAATGATGCAACAGTAGACG': 4,\n",
       " 'GCAGAAGATTTAGCCACTGTTGTTGCTGAATGGGATG': 48,\n",
       " 'AAAAGCGTTCTTATATCGTTACTTAACTCTTGCAAAT': 10,\n",
       " 'TCACACATGAGCAATATCGAAACAGGCTAATCTACA': 14,\n",
       " 'AGGATAAAGAAAAGACTCACACAAGACACAGTCTCAG': 8,\n",
       " 'TTGCTCCTCTATGCCTTGCGCTCTCTAATATCGCTT': 15,\n",
       " 'TATCTAAAACACAATAGGATTGACACGTTACGACC': 11,\n",
       " 'GTTTTAGAACAGAAAAAATTGTATAAATTGTGGAATG': 104,\n",
       " 'TTGTTTAGGTCAAGTATAATTTGACGTATTAAAGTAT': 110,\n",
       " 'TCTGTATGCCATCTAAATGCATCATACAAACTTATTT': 1,\n",
       " 'ATACAACCATATATTTACCAATTATGTACTTATGAT': 40,\n",
       " 'GAGGAGATTCAGACAGCGACTAAAATGACTGATATAAA': 3,\n",
       " 'AGGATAAAGAAAAGACTCACACAAGACAGAGTGTCA': 8,\n",
       " 'GAGGAGATTAAGACAGCGACTAAAAAGACTGATATAAA': 3,\n",
       " 'CCTGTATTCTGTTTAATGCTTCAATAGCTCTTTAT': 5,\n",
       " 'CCAACACTTCGCACGAATCCGTGCGACGAAATATAA': 43,\n",
       " 'TTCGTAAAATAACAATTATATGGAATATGAGAAGT': 35,\n",
       " 'AGTACATATAATGAGTCTTTAACATCAGTTATGAAAT': 19,\n",
       " 'TATTATAAATCTTTAAATAGCCTTCTAAGCGTCTACT': 134,\n",
       " 'ATTTGAAAGGAATAAATTTTAAATGAATAAAAGGATA': 7,\n",
       " 'CAGACAAAAACTTCGAATTTGAACTAAAATGCGTG': 13,\n",
       " 'AACTTTATATCTCCATTTCCATATCCATCTGATGAAC': 2,\n",
       " 'GAGTAGATTCAGACAGCGACTAAAAAGACTGATATAAA': 3,\n",
       " 'TATCTAAAACCCAATAGGATTGACACGTTACGAAC': 11,\n",
       " 'ATTTGTAAGGAATAAATTTTAAATGAATGAAAGGATA': 7,\n",
       " 'CAGCCAAAAACATCGAATTTGAACTAAAATGCGTGG': 13,\n",
       " 'AACTTTATATCTCCATTTGCATAACCATCTGATGAAC': 2,\n",
       " 'TGGTATATCATACTCGTGCATTGCCTGCTCCTCAT': 9,\n",
       " 'GCGTTCAAGGTTGAGAAGCTCCGCAATCTCAACGTCG': 0,\n",
       " 'GCGTACAAGGTTGAGAAGCTTCGCAATCTCAACGTCGT': 0,\n",
       " 'ATTTGAAAGGAATAAATTTTAAATGAATGAAACGATA': 7,\n",
       " 'AGGATAAAGAAAAGACTCACACAAGCCACAGTGTCAG': 8,\n",
       " 'AGACTCGACATAGAATCGGTTACTAAATCCGAGTGTTTCAG': 22,\n",
       " 'CGTATTAACACCTGTTCGGCACTATCACAATAAACACA': 115,\n",
       " 'CAGCCTAAAACTTCGAATTTGAACTAAAATGCGTG': 13,\n",
       " 'AAGCTTTCATAGCATCCTCTTCTGAACATTCATCAC': 121,\n",
       " 'GCGTACAAGGTTGAGAAGCCCCGCAATCTCAACGTCG': 0,\n",
       " 'ACTGTATGCCATCTAAATGCATTATACAAACTTATTT': 1,\n",
       " 'TCACACATGAGCAATATCGAAACAGGCAAATATACA': 14,\n",
       " 'CAAAGTGCTAGGCCACTAAATGATGCAACAGTAGACG': 4,\n",
       " 'ACTGTATTCCATCTAAATGCATCATACAAACTTATTT': 1,\n",
       " 'AATACTTCCTAATGCAATCAAATAAGTACCTAAAAT': 6,\n",
       " 'AGGATAAAGATAAGACTCACACAAGACACAGTGTCA': 8,\n",
       " 'CAAAGTGCTAGGTCACTTAATGATGCAACAGTAGACG': 4,\n",
       " 'AGGATAAAGAAATGACTCACACAAGACACAGTGTCA': 8,\n",
       " 'ACTGTATGCCATCTAAATGGATCATACAAACTTATT': 1,\n",
       " 'GCGTACAAAGTTGAGAAGCTCCGCAATCTCAACGTCG': 0,\n",
       " 'AACTTTATATCTCCATTTGCATATCCATCTGATGAAG': 2,\n",
       " 'TTCAGAATACTTAGCTCCTGCGCCTATATAGTCTGAA': 29,\n",
       " 'TAGATTGCTTTCAAATTACATCTTGTATAGCGTCT': 20,\n",
       " 'AACTTTATATCTCCATTTGCATATCCATCTGATGACC': 2,\n",
       " 'GATGAACAATAAAACAATCATCTTTTAGATAG': 135,\n",
       " 'CCTGTATTCTGTTTAATGCGTCAATAGCTCTTTCT': 5,\n",
       " 'CCTGTATTCAGTTTAATGCTTCAATAGCTCTTTCT': 5,\n",
       " 'CCTGTATACTGTTTAATGCTTCAATAGCTCTTTCT': 5,\n",
       " 'AGGATAAAGAAAAGACTCACACAACACACAGTGTCA': 8,\n",
       " 'TATACTACCTAATGCAATCAAATAAGTACCTAAAAT': 6,\n",
       " 'CCTGTATTCTGTTTAATCCTTCAATAGCTCTTTCT': 5,\n",
       " 'CAAAGTGCTATGTCACTAAATGATGCAACAGTAGACG': 4,\n",
       " 'ATTTGAAAGGAATAAATATTAAATGAATGAAAGGATAG': 7,\n",
       " 'AACTTTATATCCCCATTTGCATATCCATCTGATGAA': 2,\n",
       " 'AACTTTATATCTACATATGCATATCCATCTGATGAA': 2,\n",
       " 'AACTTTATATCTCCATTTGCATATCTATCTGATGAA': 2,\n",
       " 'TATCTAAAACCCAATAGGATTGACACGTTACGAGC': 11,\n",
       " 'AGGAGATAACTTCTATTAAAGATAACTATGATGTGG': 32,\n",
       " 'TGGTATATCATACTCGTGCATTGCCTTCTCCACAT': 9,\n",
       " 'TTTATAAATCTTTTAATGACTGTCTCTGATGGTACA': 136,\n",
       " 'ACAATATTATTGTTCATTTCATTTAATAATTCTAGT': 128,\n",
       " 'TGAACTTTAATCGGTTTTATACAACAATATACCGC': 21,\n",
       " 'TGGTATATCATACTCGTGCATTGCCTCCTCCACATT': 9,\n",
       " 'ACTGTATGCCATCTAATTGCATCATACAAACTTATTT': 1,\n",
       " 'TGGTATATCATACTCGTGCATTGCCTGCTCCACAG': 9,\n",
       " 'TTGCTCCGCTATGCCTTGCGGTCTCTAATATCGCTT': 15,\n",
       " 'CAGCCAAAAACTTAGAATTTGAACTAAAATGCGTG': 13,\n",
       " 'ATTTGAAAGGAATAAATTTTAAATGAATGGAAGGATA': 7,\n",
       " 'TTCAGAATACTTAGCTCCTGCGCCTATATCGTGTGAA': 29,\n",
       " 'TCACACATGAGCAATATCGAAACAGGCAATTCTACA': 14,\n",
       " 'CAAAGTGCTAGGTCACTAAATGCTGCAACAGTAGACG': 4,\n",
       " 'GAGGAGATTCAGACAGCGACTAAAAAGCCTGATATAAA': 3,\n",
       " 'ATGTTCACATTGACAGCTCAAGATAAACATGGATTT': 69,\n",
       " 'GGTGATAGTGGAAGTTTTACTTATACTTGGCGTCCTG': 25,\n",
       " 'AACTTTATATCTCCATTTGCATATCCAGCTGATGAA': 2,\n",
       " 'GCGTACAACGTTGAGAAGCTCCGCAATCTCAACGTCGT': 0,\n",
       " 'CAGTACAAGGTTGAGAAGCTCCGCAATCTCAACGTCG': 0,\n",
       " 'ATTTGAAAGGAATAAATTTTAATTGAATGAAAGGATAG': 7,\n",
       " 'AGGATAAAGAATAGACTCACACAAGACACAGTGTCA': 8,\n",
       " 'GCGTACAAGGTTGAGAAGCTCCGCAATCTCAACGTCGC': 0,\n",
       " 'TACACTTCCTAATGCAATCAAATAAGTACCTAAAAT': 6,\n",
       " 'AAAGTAAATCCTGTATTCTGTTTAATGCTTCAATAGCTCTTTCT': 137,\n",
       " 'TATACTTCCTAATGCAATCATATAAGTACCTAAAATC': 6,\n",
       " 'CAAAGTGCTAGGTCACTAAATCATGCAACAGTAGACG': 4,\n",
       " 'CATAGTGCTAGGTCACTAAATGATGCAACAGTAGAC': 4,\n",
       " 'CCTGTATTCTGTTTAATGCTTCAATAGCTCTTTCA': 5,\n",
       " 'GAGGAGATTCAGACAGCGACTAAAAAGGCTGATATAAA': 3,\n",
       " 'TTCAAAATACTTAGCTCCTGCGCCTATATCGTCTGAA': 29,\n",
       " 'ATTTGAAACGAATAAATTTTAAATGAATGAAAGGATA': 7,\n",
       " 'TGGTATATTATACTCGTGCATTGCCTGCTCCACAT': 9,\n",
       " 'CCGCTTGGCAAATCATAAGAAGGATTATTTTCTCCAA': 126,\n",
       " 'AGGATAAAGAAAAGACTAACACAAGACACAGTGTCAG': 8,\n",
       " 'TGGTATATCATACTCGTGCATTGCCTGCTACACAT': 9,\n",
       " 'ACTGTATGCGATCTAAATGCATCATACAAACTTATTT': 1,\n",
       " 'CAAATTGCTAGGTCACTAAATGATGCAACAGTAGAC': 4,\n",
       " 'AATCTAAAACCCAATAGGATTGACACGTTACGACC': 11,\n",
       " 'CTGCTTTGGCTTTTGGTCGTATAATGCTCCTTATAAT': 138,\n",
       " 'TGAAACAAAATGCTGATGCAAGAAAAGAAAGTATCAGT': 47,\n",
       " 'ACTGTATGCCATCTAAATGCATCATTCAAACTTATT': 1,\n",
       " 'CAACATTAGTAGTTGTCTTTATACACATAGCATCA': 94,\n",
       " 'AGGTATACACCTTCTACTCTTGTAAGAGTACAATAA': 44,\n",
       " 'ACTGTATGCCATCTAAATGCATCATACAAACTTATTA': 1,\n",
       " 'CAAAGTGCTAGGTCACTAAATGATGCAACAGGAGACG': 4,\n",
       " 'AAAAGCGTACTTAAATCGTTACTTAACTCTTGCAAAT': 10,\n",
       " 'AACTTTATATCTCAATTTGAATATCCATCTGATGAA': 2,\n",
       " 'AGTACATATAATGAGTCTTTAACATCAGATATGAAAG': 19,\n",
       " 'ATAATCCAGAAGATGATACACTTCTTGAACATTATATT': 34,\n",
       " 'TTCAGAATACTTAGCTCATGCGCCTATATCGTCTGAA': 29,\n",
       " 'AGGATAAAGAAAAGACTCACACAAGACACACTGTCA': 8,\n",
       " 'CAAAGTGCTAGGTCACTAAATGACGCAACAGTAGACG': 4,\n",
       " 'ACTGTATGCCATCTAAATGCATCATACAAACTTAAT': 1,\n",
       " 'TAGGAGATTCAGACAGCGACTAAAAAGACTGATATAAA': 3,\n",
       " 'AACTTTATATCTCCATTTGCAAATCCATCTGATGAAC': 2,\n",
       " 'GCGTAAAAGGTTGAGAAGCTCCGCAATCTCAACGTCGT': 0,\n",
       " 'GCGTACAAGGTTGAGAAGCTCCGCAATCTCCACGTCGT': 0,\n",
       " 'GCGTACAGGGTTGAGAAGCTCCGCAATCTCAACGTCG': 0,\n",
       " 'CAAAGTGCTAGGTCGCTAAATGATGCAACAGTAGACG': 4,\n",
       " 'GAGGAGATTCAGACAGCGACTAATAAGACTGATATAAA': 3,\n",
       " 'AACTTTAAATCTCCATTTGCATATCCATCTGATGAAC': 2,\n",
       " 'ACAAACAAGTGAAGGATAAACTTTCCTTGCCCAGTAT': 18,\n",
       " 'CAAAGTGCTAGGTCACTATATGATGCAACAGTAGACG': 4,\n",
       " 'CATAGTGCTAGGTCACTAAATGATGCAACAGTAGACG': 4,\n",
       " 'AACTCTTCAATATATCCTAATCGTTCAATATAATTCT': 23,\n",
       " 'CCTGTATTCTGTTAAATGCTTCAATAGCTCTATCT': 5,\n",
       " 'TGGTATATCATACTCGTCCATTGCCTGCTCCACAT': 9,\n",
       " 'TAAACTTCCTAATGCAATCAAATAAGTACCTAAAAT': 6,\n",
       " 'GAGTACAAGGATGAGAAGCTCCGCAATCTCAACGTCG': 0,\n",
       " 'GCTTACAAGGTTGAGAAGCTCCGCAATCTCAACGTCGT': 0,\n",
       " 'AGGATAAAGAAAAGACTCACACAAGACACAGTGACA': 8,\n",
       " 'CAGCCAAAAACTTCGATTTTGAACTAAAATGCGTGG': 13,\n",
       " 'TCACACATGAGCAATATCGAAACAGGCAAAACTACA': 14,\n",
       " 'CAGCCAAAAACTTCGTATTTGAACTAAAATGCGTG': 13,\n",
       " 'TATACTTCCTAATGCAATCAAATAAGTGCCTAAAAT': 6,\n",
       " 'ACTGTATGCGATCTAAATGCATCATACAAACTTATT': 1,\n",
       " 'TATACATCCTAATGCAATCAAATAAGTACCTAAAAT': 6,\n",
       " 'TCATCAATATTAATTTTGGGAATATCAACATTTTTTGC': 116,\n",
       " 'ACAAACAAGTGTAGGATAAACTTTCCTTGCGCAGTAT': 18,\n",
       " 'AAAATTAAATTTCATGCTCTTAGACATACATATGCATC': 41,\n",
       " 'CGTGATAGTGGAAGTTTTACTTATACTTGGCGTGCTG': 25,\n",
       " 'TTCGCAACTTATGATGGTGAAATGATTACATTAAAA': 30,\n",
       " 'AAAAGCGTTCTTAAATCGTTACTTAACTCTTGAAAAT': 10,\n",
       " 'GACAAAGAGACTATTACTATCTCAGGTGATAAAAAT': 12,\n",
       " 'GCGTTCAAGGTTGAGAAGCTCCGCAATCTCAACGTCGT': 0,\n",
       " 'AAAAGCGTTCTTAAATCGTAACTTAACTCTTGCAAAT': 10,\n",
       " 'AACTTTATATCTCCATTTGTATATCCATCTGATGAAC': 2,\n",
       " 'CCTGTAATCTGTTTAATGCTTCAATAGCTCTTTCT': 5,\n",
       " 'CTCGGAGAATTTCCTAATGTGGATTTAATAGGAAGT': 139,\n",
       " 'ACAAACAAGTGTAGGATAAACTTTCCTTGCGCAGTATA': 18,\n",
       " 'AACTTTATATCTCCATTTGCATATGCATCTGATGAA': 2,\n",
       " 'TATACTTCGTAATGCAATCAAATAAGTACCTAAAAT': 6,\n",
       " 'ACAAACAAGTGTAGGATAAACTTTCCTTGACCAGTAT': 18,\n",
       " 'AACTTTATATCTCCATTTGCATATCCATCTGATGGAC': 2,\n",
       " 'TTGCTCCGCTATGCCTTGCGCTCTGTAATATCGCTT': 15,\n",
       " 'TGCTGTATTCTGTTTAATGCTTCAATAGCTCTTTCT': 5,\n",
       " 'ACTGTATGCCATCTAAATGCATCATACGAACTTATTT': 1,\n",
       " 'CAAAGTGCTAGGTCACTAAATGATGCAGCAGTAGAC': 4,\n",
       " 'AAAGTAAATCATAGAGCATAACCAATTTTCGTAGGC': 28,\n",
       " 'AACTTTATATCTCCATTTGCATATCCTTCTGATGAA': 2,\n",
       " 'AGGTATACACCTTCTACTCTTGTAAGAGTACGATAA': 44,\n",
       " 'GCGTACAAGGTTGAGAAGCTCCGCAATCTCAACGTAG': 0,\n",
       " 'ACATATAAAACTTTCATCTTCTGTTAATTCATTAAAAC': 140,\n",
       " 'GAGGAGATTCAGACAGCGACTTAAAAGACTGATATAAA': 3,\n",
       " 'AACTTTATATCTCCAATTGCATATCCATCTGATGAAC': 2,\n",
       " 'AACTTTATATCTCCATTTGCATATCCATCTGAGGAAC': 2,\n",
       " 'GAGGACATTCAGACAGCGACTAAAAAGACTGATATAAA': 3,\n",
       " 'TATTGTACTTTAGCGTCTGCACTAGCTTTGTCTAT': 17,\n",
       " 'GACAATGCGACTATTACTATCTCAGGTGATAAAAAT': 12,\n",
       " 'AACTTTATATCTCCTTTTGCATATCCATCTGATGAAC': 2,\n",
       " 'ATTTGAAAGGAATAATTTTTAAATGAATGAAAGGATA': 7,\n",
       " 'ACAGCTCCCAAGACATACAACGAATCTGTAACATCAGA': 16,\n",
       " 'AGGATAAAGAAAAGACTAACACAAGACACAGTGTCA': 8,\n",
       " 'TATCTAAAACCCAATAGGATTGCCACGTTACGACCG': 11,\n",
       " 'TATCTAAATCCCAATAGGATTGACACGTTACGACC': 11,\n",
       " 'ACTGTATGCCATCTAAATGCATCTTACAAACTTATTT': 1,\n",
       " 'TAAAACCACTCAATTCTTAAAAGATACTGCAATTAT': 141,\n",
       " 'ATAATCCAGAAGATGATACACTACTTGAACAATATATT': 34,\n",
       " 'AACTTTATATCTCCATTTGCATATCCATCTGATCAAC': 2,\n",
       " 'TATACTTCCTAATGCAATCAAATAAGTAGCTAAAAT': 6,\n",
       " 'CAAAGTGCTAGGTCACTAAATGATGCTACAGTAGAC': 4,\n",
       " 'ATTAGAAAGGAATAAATTTTAAATGAATGAAAGGATA': 7,\n",
       " 'GCGTACATGGTTGAGAAGCTCCGCAATCTCAACGTCG': 0,\n",
       " 'AACTTTATATCTCCATTTGCATATCCATCTGAGGAA': 2,\n",
       " 'GCGTACAAGTTTGAGAAGCTCCGCAATCTCAACGTCG': 0,\n",
       " 'AAAATAAAAGAGTTTGAATTACCCATTTTTTCAT': 142,\n",
       " 'AAGGAGATTCAGACAGCGACTAAAAAGACTGATATAAA': 3,\n",
       " 'GCGTGCAAGGTTGAGAAGCTCCGCAATCTCAACGTCG': 0,\n",
       " 'GGTGATAGTGGAAGTTTTACTTATACTTGGCGTTCTG': 25,\n",
       " 'CAGCCAAAAACTTCGAATTTGATCTAAAATGCGTGG': 13,\n",
       " 'TAATTACACACTCCCTTTTAACGAACATATTTTAGAT': 143,\n",
       " 'CAAAGTGCTAGGTCACTAAATGATGCAACAGAAGACG': 4,\n",
       " 'ACTGTATGCCTTCTAAATGCATCATACAAACTTATTT': 1,\n",
       " 'GAGGAGATTCAGACAGCGACTAAAAAGAATGATATAAA': 3,\n",
       " 'CAGCCAAAAACTTCGAATTTGAACTAAAATGAGTG': 13,\n",
       " 'GCGTACAAGGTTGAGAAGCTGCGCAATCTCAACGTCGT': 0,\n",
       " 'GCGTACAAGGTTGAGGAGCTCCGCAATCTCAACGTCGT': 0,\n",
       " 'GATGATCAATAAAACAATCATCTAAAGACGAAGAA': 27,\n",
       " 'TATACTTCCTAATGCAATCAAATAAGTACTTAAAAT': 6,\n",
       " 'ATTTGAAAGGAATAAATTTTAAATGAATGAAGGGATA': 7,\n",
       " 'GCGTACAAGGTTGAGAAGCTCCGCAATCTCAAGGTCGT': 0,\n",
       " 'GCTGAAAGTTTAAAAGTTTTAACTATAAATTCAGTT': 102,\n",
       " 'AAAGTAAAACCTAGAGCATAACCAATTTTCGTAGGC': 28,\n",
       " 'AGGATAAAGAAAGGACTCACACAAGACACAGTGTCA': 8,\n",
       " 'TATACTTCCTAATGCAATCAAGTAAGTACCTAAAAT': 6,\n",
       " 'TATACTTTCTAATGCAATCAAATAAGTACCTAAAAT': 6,\n",
       " 'TATCTAAATCCCAATAGGATTGACACGTTACGACCG': 11,\n",
       " 'CCTGTATTCTGTTTAATGCTTCATTAGGTGTTTCT': 5,\n",
       " 'AGGATAAAGAAAATACTCACACAAGACACAGTGTCA': 8,\n",
       " 'GTTCCTCTTGTGTTTTTTACTAATCCCATTTTATA': 36,\n",
       " 'AAGGAAGGTGGATGTCAATATGCATGGGTCAAATG': 45,\n",
       " 'GCGGAGATTCAGACAGCGACTAAAAAGACTGATATAAA': 3,\n",
       " 'AACTTTATATCCCCATTTGCATATCCATCTGATGAAC': 2,\n",
       " 'CCTGTATTCTGTTTAATGCTTCAATAGGTCTTTCT': 5,\n",
       " 'ATTTGAAAGGAATAAATTTTAAATGAATGAAAGGGTA': 7,\n",
       " 'AACTTTATATCTCCATTTGCATATCCATCTGATGGA': 2,\n",
       " 'CAAAGTGCTAGGTCACAAAATGATGCAACAGTAGACG': 4,\n",
       " 'GAGGAGATTCAGACAGCGACTAAAAAGACCGATATAAA': 3,\n",
       " 'ACTGTATGGCATCTTAATGCATCATACAAACTTATT': 1,\n",
       " 'TTCGCAACTTATGATGTTGAAATGATTACATTAACA': 30,\n",
       " 'CCGTACAAGGTTGAGAAGCTCCGCAATCTCAACGTCG': 0,\n",
       " 'CAGCCAAAAACTTCGAATTTGAACTAATATGCGTGG': 13,\n",
       " 'TGAACTTTAATCGGTTTTATACAACATTATAACGC': 21,\n",
       " 'TGGTATATCATACTCGTGCATTGCCTGATCCACAT': 9,\n",
       " 'TATCTAAAACCCAATAGGATTGCCACGTTACGACC': 11,\n",
       " 'CCTGTATTCTGTTTAATGCTTCGATAGCTCTTTCT': 5,\n",
       " 'AGACTCGACATAGAATCGGATACTAAATCCGAGGGTTTCAG': 22,\n",
       " 'TGGTATATCATAATCGTGCATTGCCTGCTCCACAT': 9,\n",
       " 'AGGTATATCATACTCGTGCATTGCCTGCTCCACATT': 9,\n",
       " 'TAACACATGAGCAATATCGAAACAGGCAAATCTACA': 14,\n",
       " 'AACTTTATATCTCCATTTGCATATCCATCTTATGAAC': 2,\n",
       " 'AACAAAGAACCATTTGAATCACGAAAACTAAAAAAC': 83,\n",
       " 'GCGTACAAGGTTGAGAAGTTCCGCAATCTCAACGTCGT': 0,\n",
       " 'ACCTTTATATCTCCATTTGCATATCCATCTGATGAA': 2,\n",
       " 'TTCGCAACTTATGATGGTGATATGATTACATTAACA': 30,\n",
       " 'CCTGTATTCTGTTTAATGCTTCAATATCTCTTTCT': 5,\n",
       " 'TCTCACATGAGCAATATCGAAACAGGCAAATCTACA': 14,\n",
       " 'GTTCCTGTTG': 144,\n",
       " 'TATACTTCCTAATGCGATCAAATAAGTACCTAAAAT': 6,\n",
       " 'CAGCAAAAAACTTCGAATTTGAACTAAAATGCGTG': 13,\n",
       " 'CAAAGTCCTAGGTCACTAAATGATGCAACAGTAGACG': 4,\n",
       " 'GCGTACAAGGTTGAGACGCTCCGCAATCTCAACGTCG': 0,\n",
       " 'GGGTACAAGGTTGAGAAGCTCCGCAATCTCAACGTCG': 0,\n",
       " 'CCTGTAGTCTGTTTAATGCTTCAATAGCTCTTTCT': 5,\n",
       " 'AAAGTAAATCCTAGAGCATAACAAATTTTCGTAGGC': 28,\n",
       " 'TTCAGATTACTTAGCTCCTGCGCCTATATCGTCTGAA': 29,\n",
       " 'GCGTACAAGGTTGAGAAGCTCCGAAATCTCAACGTCGT': 0,\n",
       " 'AGACTCGACATTGAATCGGTTACTAAATCAGAGGGTTTCAG': 22,\n",
       " 'ACAGCTCCCAAGACATAAAACGAATCTGTAGCATCAG': 16,\n",
       " 'TATCTAAACCCCAAGAGGATTGACACGGTACGACCG': 11,\n",
       " 'GCGTACAAGGTTGAGAAGCTCCGAAATCTCAACGACGA': 0,\n",
       " 'CAGCCAAAAACTTCGAATTTGAACTAAAATGCTTG': 13,\n",
       " 'TTCGCAACTTATGATGGTGAAATGATTACATTTAAA': 30,\n",
       " 'ATTTGAAAGGAATAAATTTTAAATTAATTAAAGGATA': 7,\n",
       " 'TATACTTCCTAATGCAAGCAAATAAGTACCTAAAAT': 6,\n",
       " 'ACAGCTCACAAGACATACAACGAATCTGTAACATCAGT': 16,\n",
       " 'GCGTACAATGTTGAGAAGCTCCGCAATCTGAACGTCG': 0,\n",
       " 'ACAAAAAAACGTATAATAAAAATATTTTCTATCTCTG': 61,\n",
       " 'GAGGAGATCCAGAAAGCGACTAAAAAGACTGATATAAA': 3,\n",
       " 'CAAAGTGCTAGGTCACTAAATGGTGCAACAGTAGACG': 4,\n",
       " 'AACGTTCAAAATGTAGCTATTATCATCTTTTAGATAGT': 31,\n",
       " 'TGAACTTTAATCTGTTTTATACAACAATATAACGC': 21,\n",
       " 'GACAAAGCTACTATTACTATCTCAGGTGATAAAAA': 12,\n",
       " 'CCTGTATTCTGTTTAATGCTTCAATAGGTCATTCT': 5,\n",
       " 'TATCTAAAACCCAAAAGGATTGACACTATACGACC': 11,\n",
       " 'GACAAAGCGACTATTACTATCTCAGCTGATAAAAA': 12,\n",
       " 'GGTGATAGTGGAAGTTTTACTTATAGTTGGCGTGCT': 25,\n",
       " 'ACTGTAAGCCATCTAAATGCAACATACAAACTTATTT': 1,\n",
       " 'AGTTATGTCAAATTATTAGAAACTAAAATCCTAGTTG': 55,\n",
       " 'AACTTTATATCTCCATTTGCAAATACATCTGATGAA': 2,\n",
       " 'AAAGTAAATCCTAGAGCAAAACCAATTTTCGTAGGC': 28,\n",
       " 'ACTGTATGCCACCTAAATGCATCATACAAACTTATTT': 1,\n",
       " 'ACAAACAAGTGTAGGATAAACTTTCCTTGCCCAGAAT': 18,\n",
       " 'AACTTTAAATCTCCATATGCATATGCATCAGATGAAC': 2,\n",
       " 'TCACACATGAGCAATATCGAATCAGGCAAATCTACA': 14,\n",
       " 'TATACTTGCTAATGCATTCAAATAAGTACCTAAAAT': 6,\n",
       " 'CAAAGTGCTAGATCACTAAATGATGCAACAGTAGACG': 4,\n",
       " 'AAAAGTTGCACGCGTATTTGATTTTTCAATACATTAT': 24,\n",
       " 'AAAAGTTGCACGCCTATTTGATTTTTCAATACATTTT': 24,\n",
       " 'ACAGCTCCCAAGACATACAACGAATCTGTAAGATCAGT': 16,\n",
       " 'TAACAAAATTTGCGAGTACACTTATATCTAATATAT': 26,\n",
       " 'CAAAGTGCTAGGTCAATAAATGATGCAACAGTAGAC': 4,\n",
       " 'AAGGTTTGACCTGCGATTTTATATGCATCTGAATAA': 50,\n",
       " 'ACTGTATGCCATCTAAATGCTTCATACAAAATTATTT': 1,\n",
       " 'AACAGCGTTCTTAAATCGTTACTTAACTCTTGCAAAT': 10,\n",
       " 'TCGTATATAATACTCGTGCATTGCCTGCTCCACAT': 9,\n",
       " 'GAGGAGCTTCAGACAGCGACTAAAAAGACTGATATAAA': 3,\n",
       " 'CAGGAGATTCAGACAGAGACTAAAAAGACTGATATAAA': 3,\n",
       " 'AGGATAAAGAAAAGACTCACACAAGGCACAGTGTCA': 8,\n",
       " 'ACTGTATGCCATCTAAATGCATCATAAAAACATATT': 1,\n",
       " 'AACTTTATATCTCCATTTGCAATCAAATAAGTACCTAAAAT': 145,\n",
       " 'TCACACATGAGCAATATCGAAACAGGCAATTCTAGA': 14,\n",
       " 'ATTTGAAAGGAATAAATTTTAAATCAAAGAAAGGATAG': 7,\n",
       " 'AAAGTAAATCCTAGAGCATATCAAATTTTCGTAGGC': 28,\n",
       " 'TTCGCAACTTATAATGGTGAAATGATTACATTAACA': 30,\n",
       " 'CCCTCAGCCTTATCCTGTGCAAATAATAGTGCCAAG': 39,\n",
       " 'TGACTCGTGCTATTTTTTTTAAACGCGTAAGATGA': 56,\n",
       " 'TACTTTAGCACTAGTAAAGGTAGAATTATTAAAGT': 133,\n",
       " 'TGGTATATCATACTCGTGCATTGCCTGCTGCAGAT': 9,\n",
       " 'AATATCTAAAAAAAACGACTTATATACCATTTCTAC': 90,\n",
       " 'TGAAACAAAATGCTGATGCAAGAAAAGAAAGAATCCGT': 47,\n",
       " 'TTCAGAATACTTAGCTCCTGAGCCAATAGCGTCTGTAT': 29,\n",
       " 'GCGTACAAGGTTGAGAAGCTCGGCAATCACAACGTCG': 0,\n",
       " 'GAGTACAAGGTTTAGAAGCACCGCAATCTCAACGTCG': 0,\n",
       " 'GCGTACAAGGTCGAGAAGCTCCGCAATCTCATCGTCG': 0,\n",
       " 'CTCAAAGTTGGACTAGCTTCATCTTTTAATTTTACAAGT': 60,\n",
       " 'AACAAAGCGACTATTACTATCTCAGGTGATAAAAA': 12,\n",
       " 'AAAATTAAATTTCATGCTCTTAGACATACAAATGCAAC': 41,\n",
       " 'ATTTGAAAGGTATAAATTTTAAATGAATGAATGGATA': 7,\n",
       " 'ACTGTATGCCATCTAAATGCATCATACAAACTGATTT': 1,\n",
       " 'TTTGATTACATGCGCAGTTTTTTATTATAGAGTGTT': 63,\n",
       " 'AAGAAATTAGAGTTTGAAATATATGACTACATAAT': 74,\n",
       " 'TTGCTCCGCTATGCCTTGCGCTCTCAAATATCGCTT': 15,\n",
       " 'TTGTTTAGGTCAAGTCTAATTTGACGTATTAAAGTATA': 110,\n",
       " 'AAAAGCGTTCTGTTTAATGCTTCAATAGCTCTTTCT': 146,\n",
       " 'TTCAGAATACTTAGCTCCTGAGCCTATATCGTCTGAA': 29,\n",
       " 'GCGATAAGAGATTCGACTCTTATTACTGGGCATAATC': 49,\n",
       " 'GAGGAGATTCAGACAGCGTCTAAAAAGACTGATATAAA': 3,\n",
       " 'TCACACATGAGCAATATCGAAACAGGCAAATCTAAAG': 14,\n",
       " 'ACTGTATGACATCTAAATGCATCATACAAACTTATT': 1,\n",
       " 'AAAAGTTGCACGACTAATTGATTTTTCAATACAATA': 24,\n",
       " 'ATATCAAAGGAATAAATTTTAAATGAATGAAAGGATA': 7,\n",
       " 'GAGGAGATTCAGACAGCGATTTAAAAGACTGATATAA': 3,\n",
       " 'AAAGTAAATCCTAGAGCATAACCAATTTTCTTAGGC': 28,\n",
       " 'AACTTTATATCTCCATTTGCATATCCATCTGAAGAA': 2,\n",
       " 'CAAAGTGCTAGGTCACTAACTGATGCAACAGTAGACG': 4,\n",
       " 'TCACACATGATCAATATCGAAACAGTCAAATATACA': 14,\n",
       " 'GAGGAGATACAGCCAGCGACTAAAAAGACTGATATAAA': 3,\n",
       " 'ACTGTATGCCATCTAAATGGATCATACAAACTTATTT': 1,\n",
       " 'CGGCCAAAAACTTCGAATTTGAACTAAAATGCGTGG': 13,\n",
       " 'AACTTTATATCTACATTTGCATATCCATCTGATGAA': 2,\n",
       " 'TCTCATGACTATTGAATAAATATAAAAAACAAGCATA': 42,\n",
       " 'ACTAAACCTTTTTGTTTACTTTTATTTCTCAATTTA': 51,\n",
       " 'AACTTTATATGTCCATTTGCATATCCATCTGATGAAC': 2,\n",
       " 'TATCAAAAACCCAATAGGATTGACACGTTACGACCG': 11,\n",
       " 'GTTCCTGTTGTCTTTTTTACTAATCCCATTTTATA': 36,\n",
       " 'CCTGTATTCTGTTTAATGATTCAATAGCACTTTCT': 5,\n",
       " 'AGTAATTCTATGCAATCTTTTATATTGCTTTTTAACCT': 120,\n",
       " 'TATCTTAAACCCAATAGGATTGACAAGTTACGACC': 11,\n",
       " 'CGAGTTGCCATCCAAGCATTTTTCACAGATTTTAATA': 46,\n",
       " 'GAGGAGATTCAAACAGCGACTAAAAAGACTGATATAA': 3,\n",
       " 'TTCGCAACTTATGATGGTGAAATGATTACATTAACAT': 30,\n",
       " 'AACTTTATATCTCCATTCGCATATCCATCTGATGAAC': 2,\n",
       " 'GATTGTACTTTAGCGTCTGAACTAGCTTTGTATAT': 17,\n",
       " 'TTCGCAACTTATGATGGTGAAATGATTAAATTAACA': 30,\n",
       " 'GACAAAGCGATTATTACTATCTCAGGTGATAAAAAT': 12,\n",
       " 'ACAAACAAGTGTAGGATAAACTTTCCTTTCCCAGTAT': 18,\n",
       " 'CGAATTTCATGTCTTTGAATTTATTTATATGTAGT': 57,\n",
       " 'AAATTTATATCTCCATTTGCATATCCATCTGATGAAC': 2,\n",
       " 'GCGTACAAGGTTGAGAAGCTCCGAAATCTCAAAGTCG': 0,\n",
       " 'CGTGTATTCAGTTTATTGCTTCAATAGCAGTTTCT': 5,\n",
       " 'CACTCTTCAATATCTCCTAATCGTTCAATATAATTCT': 23,\n",
       " 'CAAAGTGCTAGGTCACTAAATGATGCAACAATAGACG': 4,\n",
       " 'CCTGTATTCTGTTTAATGCTTCAAAAGCTCTTTCT': 5,\n",
       " 'GCAGAAGATTCAGACAGCGACTAAAAAGACTGATATAAA': 3,\n",
       " 'AGGTCAAGCATAGATATTGCAACTGGAACATAAGAAGA': 66,\n",
       " 'GAGGATATTCAGACAGCGACTAAAAAGACTGATATAAA': 3,\n",
       " 'CAAAGTGCTAGGACACTAAATGATGCAACAGTTGACG': 4,\n",
       " 'AGGTATACACATTCTACTCTCGTAAGAGTACCTTAAG': 44,\n",
       " 'AACAACGTCATATATATCATATTTAGTTGTAAGAGC': 52,\n",
       " 'GAGGAGATTCAGACAGCGACTAAAAGGACTGATATAAA': 3,\n",
       " 'CAAAGTGCTAGGTCACTAAATGATGCAACAGTAGAG': 4,\n",
       " 'GTTCCTGTTGTGTTTTTTACTAATGCCATTTTATA': 36,\n",
       " 'AGGAGATTACTTCTATTAAAGATAACTTTGATGTGG': 32,\n",
       " 'CCTGAATTCTGTTTAATGCTTCAATACCTCTTACT': 5,\n",
       " 'ACTGTATGCCATCTTAATGCATCATACAAACTTATT': 1,\n",
       " 'ATTTGAAAGGAATAAATTTTAAATGATTGCAAGTATAG': 7,\n",
       " 'GCGTACAAGGATGACAAGCTCCGCAATCTCAACGTCG': 0,\n",
       " 'CAGCCAAATACTTCGAATTTGAACTAAAATGCGTG': 13,\n",
       " 'GCGTACAAGGTTGAGAAGCTCCGCAATCTCAACGTGGT': 0,\n",
       " 'AGTGTATTTCTCCATTTGGATATGCATCTGATGAA': 147,\n",
       " 'AACTCTTCAATATCACCGAATAGTTCAATAAAATTCT': 23,\n",
       " 'CAAAGTGCTAGCTCACTTAATGATGCAACAGTAGACG': 4,\n",
       " 'GAGGGGATTCAGACAGCGACTAAAAAGACTGATATAAA': 3,\n",
       " 'CCTGTATTCTGTATAATGATTCAATAGCACTTTCT': 5,\n",
       " 'TCCCACATGAGCAATATCGAAACAGGCATATCTACAG': 14,\n",
       " 'GAGGACATTCAGCCAGCGACTAAAAAGACTGATATAAA': 3,\n",
       " 'AATATAACAAAGTGGATGTTCTCTAAAAATATAGAGG': 38,\n",
       " 'AGGAGATTACTTCTATTAAAGATAACTTTGATGTGGT': 32,\n",
       " 'GCGTACAAGGTTGAGAAGCTCCGCAATCCCAACGTCG': 0,\n",
       " 'TTCAGAATACTTAGCTCCTTCGCCTATATCGTCTGAA': 29,\n",
       " 'CAAAGCGCTAGGTCACTAAATGATGCAACAGTAGAC': 4,\n",
       " 'GCGTACAAGGTTGAGAAGCTCCGCAACCTCAACGTCG': 0,\n",
       " 'GCGTACAAGGTTGAGAAGCTCCGCAATCTGAACGTCG': 0,\n",
       " 'TTCAGAATACTTAGCTCCTGGGCCTATATCGTCTGAA': 29,\n",
       " 'ACAAACAAGTGTAGGATAAACTTTCCTTGCCCAGTAAA': 18,\n",
       " 'TATCAAAAAATCCCCTCACCTGCATACTTATATTAA': 59,\n",
       " 'AAAGGTGTCCATTGATTTGTTTCAGTTTCGGGAATA': 70,\n",
       " 'GGAGATTTAAAAGTTAACAACATAAAAAAGATAGATA': 71,\n",
       " 'ACTGTAGGACCTCTAAATGCATAATACAAACTTATTT': 1,\n",
       " 'TCTCATGCCTATTGAATAAATATAATAAACAAGCATA': 42,\n",
       " 'AAAAGAGTGGTTTAAGAAAATAAGTTATTTTTCAAA': 85,\n",
       " 'TATACTTCCTAATGAAATCAATTAAGTACCTAAAAT': 6,\n",
       " 'GACAAAGCGACTATTAATATCTCAGGTGATAAAAA': 12,\n",
       " 'TCGTACAAGGTTGAGAAGCTCCGCAATCTCAGCGTCG': 0,\n",
       " 'AAAGTAAATCCTAGAGCATAGCCAATTTTCGTAGGC': 28,\n",
       " 'AAAATTAATTTTCATGCTCTTAGACATACATATGCAAC': 41,\n",
       " 'GATGAACAATACAACAATCATCTAAAGACGAAGAA': 27,\n",
       " 'CCAACCCTTCGCACGAATCCGTGCGACGAAAGATAAA': 43,\n",
       " 'GATGAACAAGGTTGAGAAGCTCCGCAATCTCAACGTCG': 0,\n",
       " 'CCATCAGACATATCATGTCCAAATAATAGTGCCAAG': 39,\n",
       " 'TTTAAAAGGTCAACTTAAAGGTAGTAATTTTTTAAT': 148,\n",
       " 'TATCTAAAACCCTATAGGATTGACACGTTACGACCG': 11,\n",
       " 'CAAAGTGCTAGGTCACAAAATGATGCTACAGTAGACG': 4,\n",
       " 'GATTGTACTTTAGCGTCTGCACTAGCTTTGTCTATA': 17,\n",
       " 'GACAAAGCTACTATTACTATCTCAGGTGATAAAAAT': 12,\n",
       " 'TATCTAAACCCCAATAGGATTGACACGTTACTACCT': 11,\n",
       " 'CGAATTTGCGAGTACACTTATTTCTAATATAT': 26,\n",
       " 'ACTGTATGCCATCATAATGCATCATACAAACTTATT': 1,\n",
       " 'AGGATAAAGAAAAGCCTAACACAAGACACAGTGTCA': 8,\n",
       " 'TGCTGTGCCACAATTTGAAGCTTCTATAGCTAAATT': 79,\n",
       " 'TAACAAAATTAGCGAGTACACTTATTTCTAATATAT': 26,\n",
       " 'CCTGTATTCTGTTTAATGCTTAAATAGATCTTTCT': 5,\n",
       " 'AAAGTAAATCCTAGAGCATAACCAATTTTAGTAGG': 28,\n",
       " 'ATTTGTAAGGAATAAATATTAAATGAATGAAATGATA': 7,\n",
       " 'AGACTCGACATAGAATCGGTTACTAAATCCGAGGGTTACAG': 22,\n",
       " 'ACTGTATGCCATCTAAATGCATCATACAAACAAATT': 1,\n",
       " 'CAAAGTGCTAGGTCACTAAATGATGCAACAGTAGAGG': 4,\n",
       " 'AACTTTATATCTCCATTTGCATATCCATTTGATGAA': 2,\n",
       " 'AACTTTAAATCTCCATTAGCATATCCATCTCATGAA': 2,\n",
       " 'GCGCACAAGGTTGAGAAGCTCCGCAATCTCAACGTCG': 0,\n",
       " 'AGACTCGACATAGAATCGGTTACTAAATCCGAAGGTTTCA': 22,\n",
       " 'AACTCTTCAATATCTCCTAATCGTTGAATATAATTCT': 23,\n",
       " 'AACTTTATATCTCCATTTGCATATCAAACTGATGAA': 2,\n",
       " 'ACAAACAAGTGTAGGATAAACTTTCCTTGCCAAGTAT': 18,\n",
       " 'AACTTTATATCTCCATTTGAATATCAATCTGATGAAC': 2,\n",
       " 'AGGATAAGGAAAAGACTCACACAAGACACAGTGTCAG': 8,\n",
       " 'TTGTAAAATGTAAATAGCATATTAATTTTTCTTTCA': 149,\n",
       " 'GAGTACAAGGTTGAGAAGCTCATCAATCTCAACGTCG': 0,\n",
       " 'CCTGTATTCTGTTTAATGCTCCAATAGCTCTTTCT': 5,\n",
       " 'TAAAGCGTTCTAAAATCGTTACTTAACTATTGCAAAT': 10,\n",
       " 'TATACTTCCTAATGCATTCAATAAAGTACCTAAAAT': 6,\n",
       " 'TGGTATATCATACTCGTGCATTGACTCCTACACAT': 9,\n",
       " 'GATTGTACTTTATCGTCTGCACTAGATTTGTCTAT': 17,\n",
       " 'TATTTTACAGATGAACAATTACAGTTACTTCTTGAAT': 113,\n",
       " 'AACGTACAAAATGTAGCTATTATCATCTTTTAGATAGA': 31,\n",
       " 'AAAGTAAATCCTAGAGCATAACCAATTTTCGAAGG': 28,\n",
       " 'AACTCTGAAAAATCTCCTAATCGTTGATTATATTTCTC': 150,\n",
       " 'AGTATAAAGAAAAGACTCACACAAGACACAGTGTCAG': 8,\n",
       " 'TCACACATGAGCAATATCGAAACAGCCAAATCTACA': 14,\n",
       " 'ACCTTTATATCTCCAATTGAATATCCATCTGATGAA': 2,\n",
       " 'CCGGATTTTTCTGCTTCGACTGTTGTTATTGAGACTA': 87,\n",
       " 'ATTTGAAGTGAATAAATTTTAAATGAATGAAAGGATA': 7,\n",
       " 'GACAAAGAGACTATTACTATCTCAGTTGATAAAAAT': 12,\n",
       " 'AACTTTATATCTCCATTTGCATATCCATCTGAACAAC': 2,\n",
       " 'CCATAAGCCTTATACTGTGCAAATAATAGTGCCAA': 39,\n",
       " 'TTAAGAATACTTAGCTCCTGCGCCTATATCGTCTGAAT': 29,\n",
       " 'GCGATAATAGATTCGAGTCTTTTTACTGGACTTAATC': 49,\n",
       " 'GATTGTACTTTAGCGTCTGCACGAGCTAAGTCTATC': 17,\n",
       " 'ACTGTATGCCATAAAAATTTCTAATTGACTTTTATTGT': 92,\n",
       " 'GATAGTACTTTAGCGTCTGCACTAGCTTTGTCTAT': 17,\n",
       " 'TATACCTCCTAATGCAATCAAATAAGTACCTAAAAT': 6,\n",
       " 'AAAAGCGTACTTAAATCGTTACTTAACTCTTGCAAA': 10,\n",
       " 'GGTGATAGTGGAAGTTTTACTTATACTTCGCGTGCTG': 25,\n",
       " 'CAAAGTGCTAGGTCACAAAAAGAAGCAACAGTAGACG': 4,\n",
       " ...}"
      ]
     },
     "execution_count": 45,
     "metadata": {},
     "output_type": "execute_result"
    }
   ],
   "source": [
    "res['Polina-1_S11_L001_R1_001'][2]"
   ]
  },
  {
   "cell_type": "code",
   "execution_count": 126,
   "metadata": {},
   "outputs": [],
   "source": [
    "keys = sorted([x for x in res.keys()])[::2]"
   ]
  },
  {
   "cell_type": "code",
   "execution_count": null,
   "metadata": {},
   "outputs": [],
   "source": []
  },
  {
   "cell_type": "code",
   "execution_count": 164,
   "metadata": {},
   "outputs": [],
   "source": [
    "key = keys[1]\n",
    "sp_to_n = res[key][3]\n",
    "ans_1_n = [[sp_to_n[hu.find_closest(sp_to_n, x)[1]] for x in y] for y in ans_1]\n",
    "ans_2_n = [[sp_to_n[hu.find_closest(sp_to_n, x)[1]] for x in y] for y in ans_2]"
   ]
  },
  {
   "cell_type": "code",
   "execution_count": 165,
   "metadata": {},
   "outputs": [
    {
     "data": {
      "text/plain": [
       "{'ACAAACAAGTGTAGGATAAACTTTCCTTGCCCAGTATA': 0,\n",
       " 'TAACAAAATTTGCGAGTACACTTATTTCTAATATAT': 1,\n",
       " 'GCAGAAGATTTAGCGACTGTTGTTGCTGAATGGGATG': 2,\n",
       " 'ATTAAATTGCTCAGTCTAGTACTTAAAGAATTATAA': 3,\n",
       " 'TAAGAATTAACTAATGTGAATTTTTTAGACATGTCAT': 4,\n",
       " 'ACATTATCAACATCATCTAATTTTTTTGTCACTGT': 5,\n",
       " 'CGAAAAATCTAGGAAAAACTATTGTAAAAGCGTTTA': 6,\n",
       " 'AAGCTTTCATAGCATCCTCTTCTGAACATTCATCACT': 7,\n",
       " 'TGCTGTGCCACAATTTGATGCTTCTATAGCTAAATTC': 8,\n",
       " 'TAGTAAGTTAACTCATACATACCACCTTCCCCATAA': 9,\n",
       " 'GTTTGAGAACGCTGTATAAAGCTTGTAGCTAGTTCT': 10,\n",
       " 'TTTGATTACATGGGCAGTTTTTTATTATAGAGTGTT': 11,\n",
       " 'AGTTTTAAAGAGGGCAGACCTAAAAAATATACTAAAA': 12,\n",
       " 'TGACTCGTGCTATTTTTTTTACACGCCTAAGAGGTA': 13,\n",
       " 'TACGACATTGAATAAAATGGGTACAGAGACAATTTATAA': 14,\n",
       " 'CTTTTAAGTGCATCAAAGGAGTTACAAGCTATATTT': 15,\n",
       " 'ATAAGAGTGGTTTAAGAAAATAAGTTATTTTTCAAA': 16,\n",
       " 'TTTATAAATCTTTTAATGACTGTCTCTGATGGTACA': 17,\n",
       " 'TATTATAAATCTTTAAATAGCCTTCTAAGCGTCTACTA': 18,\n",
       " 'CCGCTTGGCAAATCATAAGAAGGATTATTTTCTCCAA': 19,\n",
       " 'AACAAAAAAGATACATCTGTAACTAATTTTTATACT': 20,\n",
       " 'AAAGGAATAGATGATATGATTGCTAATGCTGAACAACAA': 21,\n",
       " 'TTGCTATGATTTAATTATACGACGTTTTGTCTTTAAAG': 22,\n",
       " 'AAAATAAAAGAGTTTGAATTACCCATTTTTTCAT': 23,\n",
       " 'TCTCCATCTCCAATTAACATAAATAATTCATCCGCTG': 24,\n",
       " 'TTATAAACTCCCACGACAAAATTAACTATAACCTCGT': 25,\n",
       " 'AAAAATCTTATTAAAGATTATTCAAAGTCTTTTGATT': 26,\n",
       " 'AGAGGCAACTAATTGCTTATGAGTCTGCTAGTCTTAA': 27,\n",
       " 'CGAAAAATCTAGGAAAAACTTTCCTTGCCCAGTAT': 28,\n",
       " 'TAAGAATTAACTAATGTGAATTTTTTTGTCACTGT': 29,\n",
       " 'AGGTTTTTCAGAAGTATATGTACGTCTATATTGTAA': 30,\n",
       " 'TGCTGTGCCACAATTTGCGAGTACACTTATTTCTAATATAT': 31,\n",
       " 'TAAGAATTATAA': 32,\n",
       " 'AACAAAAAAGATACATCTGTAACTAATTTTTTTGTCACTGT': 33,\n",
       " 'ATTAAATTGCTCAGTCTAATTTTTTTGTCACTGT': 34,\n",
       " 'TGACTCGTGCTATTTTTTTGTCACTGT': 35,\n",
       " 'ACATTATCAACATCATCAC': 36,\n",
       " 'ACATTATCAACATCATCTAATTTTTATAC': 37,\n",
       " 'ATTAAATTGCTCAGTAT': 38,\n",
       " 'ATAAGAGTGGTTTAAGAAAATAA': 39,\n",
       " 'ACATTATCAACATCATCTAATTTTTTTATTATAGAGTGTT': 40,\n",
       " 'TAACAAAATTTGATGCTTCTATAGCTAAATT': 41,\n",
       " 'TGTCTAGTGCTATTTTTTTTCCACGCATAACTGGT': 42,\n",
       " 'TAACAAATTAAGCGAGTAAACTAATTTCTAATATATC': 43,\n",
       " 'AAAAACAAGTGTAGGATAAACTTACGGTGCGCAGTAT': 44,\n",
       " 'ATTAAATTGCTCAGTCTAGTACTTAAAGAGTTACAAGCTATATTT': 45,\n",
       " 'TTGCTGAATGGGAT': 46,\n",
       " 'TAAGAATTAACTAATGTGAATTTTTTATTATAGAGTGTT': 47,\n",
       " 'ACATTATCAACATCATCTTCTGAACATTCATCAC': 48,\n",
       " 'ACTTTAGTTGCAGCTGCAAATGCCCCACCAACTCCAGCAG': 49,\n",
       " 'CCGCTTGGCAAATCATAAGAAGGATTATTCAAAGTCTTTTGAT': 50,\n",
       " 'TTACTAAACATCTTATAACTTCTCTGAGAGCCTCTA': 51,\n",
       " 'TTTGATTAAATTGGAAGTTTTTAATTATAGAGAGAT': 52,\n",
       " 'TGCTGTGCCACAATTTGATGCTTCTAATTTTTTTGTCACTGT': 53,\n",
       " 'GCAGAAGAATTAGAGAAAGTAGTAGCTGAATGCGATG': 54,\n",
       " 'TAGGATTGGTGTGTTACGACCACACAACGCTGGACT': 55,\n",
       " 'TAACAAAATTTGCGAGTACACTTAAAGAATTATAA': 56,\n",
       " 'CGAAAAATCTAGTACTTAAAGAATTATAA': 57,\n",
       " 'GCAGAAGATATATAGAC': 58,\n",
       " 'GGGTCTGACTTTAATATATATATATATATATATAAAT': 59,\n",
       " 'ACAAACAAGTGATGGAAATAATTTCCTTGCCCAGTAT': 60,\n",
       " 'TAATCTGACACATACAAAGTTGAACCTAGTGGTACG': 61,\n",
       " 'AAACAAAATTAGAGAGAACACTTATTTGTAAAATAT': 62,\n",
       " 'AAGCTTTCATAGCATCTAATTTTTTTGTCACTGT': 63,\n",
       " 'AACAAAAAAGATACATCTAATTTTTTTGTCACTGT': 64,\n",
       " 'ATAAGAGTGGTTTAATTATACGACGTTTTGTCTTTAAA': 65,\n",
       " 'GTTGCATCCTCTTCTGAACATTCATCAC': 66,\n",
       " 'AAAATAAAAGAGTTTGAATTACCCATTTTTTAGACATGTCA': 67,\n",
       " 'AAAGGAATAGATGATATGATTTTTTTGTCACTGT': 68,\n",
       " 'CCAGAAGATTTCGCGACTGTTGTACCTGAATGTGAT': 69,\n",
       " 'CGAAAAATCTAGGAAAAACTATTGTGAATTTTTTAGACATGTCA': 70,\n",
       " 'TAACAAAATTTGCGAGTACACTTATTTCTAATATAGCTAAATT': 71,\n",
       " 'TAAGAATTAACTAATTTTTATAC': 72,\n",
       " 'CGAAAAATCTTTAAATAGCCTTCTAAGCGTCTACT': 73,\n",
       " 'CGAAAAATCTAATTTTTTTGTCACTGT': 74,\n",
       " 'AAAAATCTTATTAAAGATTATTCAAAGGAGTTACAAGCTATATTT': 75,\n",
       " 'ATAAGAGTGGTTTAAGAAGGATTATTTTCTCCAA': 76,\n",
       " 'AACAAAAAAGATACAAGCTATATTT': 77,\n",
       " 'TAACAAAATTAACTATAACCTCG': 78,\n",
       " 'TGACTCGTGCTATTTTTTATTATAGAGTGTT': 79,\n",
       " 'CGAAAAATCTAGGAAAAACTATTGTAAAAG': 80,\n",
       " 'TTTGATTACATGGGC': 81,\n",
       " 'TTGCTATGATTTAATTATAA': 82,\n",
       " 'TAACAAAATTTGCGAGTACATGGGCAGTTTTTTATTATAGAGTGTT': 83,\n",
       " 'CTATTATGAGCATCATAGTAGTAACAAGCTATATAT': 84,\n",
       " 'ACAAACAAGTGTAGGAT': 85,\n",
       " 'ACAAACATCACTAGGATAATCTTTCCTTCCGCAGTAGA': 86,\n",
       " 'GGAAAAGTGGTGTATTTTATAGACGAATAGCGGGT': 87,\n",
       " 'TACGACGTTTTGTCTTTAAA': 88,\n",
       " 'GCAGAAGATTTAGCGACTGTCTCTGATGGTACA': 89,\n",
       " 'CGAAAAATTAGAGAGTACAGTTATTTCTAATATAT': 90,\n",
       " 'ACATTATCAACATCATCTAATGTGAATTTTTTAGACATGTCA': 91,\n",
       " 'CTTTTAAGTGCATCAAAGGAGTTACACGCCTAAGAGGT': 92,\n",
       " 'TAAGAATTAACTATAGTAGAAGCAAAAGCGACAACAACTAAA': 93,\n",
       " 'ACAAACAAGTGTAGGATAAACTAATGTGAATTTTTTAGACATGTCA': 94,\n",
       " 'TACGACATTGAATAAAAAGGGAACAGATCAAATTATTAA': 95,\n",
       " 'ACATTATCAACATCATAAGAAGGATTATTTTCTCCAA': 96,\n",
       " 'TACGACATTGAATAAAATGGGCAGTTTTTTATTATAGAGTGTT': 97,\n",
       " 'ACAAACAAGTGTAGGATAAACTATTGTAAAAGCGTTT': 98,\n",
       " 'AGGTTTTTCAGAAGTATATGTACGTCTATATTGTAAAAGCGTTT': 99,\n",
       " 'TAGCAAATTTTGCGAGACCACATAAGTGGAAGATAA': 100,\n",
       " 'ATTAAATAGATGAGTGTACAACTTAATCAATTATAT': 101}"
      ]
     },
     "execution_count": 165,
     "metadata": {},
     "output_type": "execute_result"
    }
   ],
   "source": [
    "sp_to_n"
   ]
  },
  {
   "cell_type": "code",
   "execution_count": 142,
   "metadata": {},
   "outputs": [],
   "source": [
    "max_n = max([x for y in ans_1_n + ans_2_n for x in y])"
   ]
  },
  {
   "cell_type": "code",
   "execution_count": 143,
   "metadata": {},
   "outputs": [],
   "source": [
    "gr_answ = hamu.list_to_gr(ans_1_n + ans_2_n, max_n + 1)"
   ]
  },
  {
   "cell_type": "code",
   "execution_count": 144,
   "metadata": {},
   "outputs": [],
   "source": [
    "gr = res[key][0][:max_n+1,:max_n+1]"
   ]
  },
  {
   "cell_type": "code",
   "execution_count": 145,
   "metadata": {},
   "outputs": [
    {
     "data": {
      "text/plain": [
       "0.6559996439380452"
      ]
     },
     "execution_count": 145,
     "metadata": {},
     "output_type": "execute_result"
    }
   ],
   "source": [
    "gr[gr_answ.astype(bool)].sum()/gr.sum()"
   ]
  },
  {
   "cell_type": "code",
   "execution_count": 146,
   "metadata": {},
   "outputs": [
    {
     "data": {
      "image/png": "[encoded data removed]",
      "text/plain": [
       "<matplotlib.figure.Figure at 0x7fc4f8901b70>"
      ]
     },
     "metadata": {},
     "output_type": "display_data"
    }
   ],
   "source": [
    "cut = 40\n",
    "pu.plot_grs(gr[:cut,:cut],  gr_answ[:cut, :cut], log = 1)"
   ]
  },
  {
   "cell_type": "code",
   "execution_count": 76,
   "metadata": {},
   "outputs": [
    {
     "data": {
      "text/plain": [
       "[[31, 3, 2, 0, 7, 13, 42, 24, 12, 27, 36],\n",
       " [59, 4, 5, 11, 8, 18, 26, 85, 56, 64, 63],\n",
       " [33, 23, 1, 6, 30, 38, 103],\n",
       " [100, 54, 10, 9, 40, 77],\n",
       " [41, 20, 15, 21, 14, 35, 108, 134],\n",
       " [109, 19, 17, 113],\n",
       " [37, 25, 29, 58, 72],\n",
       " [102, 39, 32, 60],\n",
       " [94, 16, 71, 22, 51, 87],\n",
       " [50, 46, 65, 44, 81, 48, 78, 119, 79, 105],\n",
       " [130, 84, 43, 62, 91, 116, 49],\n",
       " [181, 47, 57],\n",
       " [52, 55, 90, 67, 28, 34, 88],\n",
       " [125, 45, 74],\n",
       " [132, 66, 104, 149],\n",
       " [114, 61, 80],\n",
       " [69, 98],\n",
       " [97, 99, 101, 138],\n",
       " [70, 92],\n",
       " [68, 96],\n",
       " [83, 112],\n",
       " [106, 82],\n",
       " [111, 89, 110],\n",
       " [117, 86],\n",
       " [121, 122],\n",
       " [126, 142],\n",
       " [53, 75],\n",
       " [161, 162],\n",
       " [93, 123],\n",
       " [95, 73, 202],\n",
       " [129, 136]]"
      ]
     },
     "execution_count": 76,
     "metadata": {},
     "output_type": "execute_result"
    }
   ],
   "source": [
    "hamu.restore_arrays(gr)[0]"
   ]
  },
  {
   "cell_type": "code",
   "execution_count": 89,
   "metadata": {},
   "outputs": [
    {
     "data": {
      "text/plain": [
       "[[23, 61, 16, 9, 22, 17, 3, 7, 18, 8, 57, 14, 11, 1, 1],\n",
       " [27, 43, 12, 20, 0, 20, 5, 8, 6, 3, 20, 14],\n",
       " [1, 3, 52, 52, 11, 2, 17, 1],\n",
       " [7, 9, 18, 5, 4, 0, 1, 16, 13, 6, 11, 26, 20],\n",
       " [10, 13, 20, 20, 1, 59, 6, 12, 0, 7, 12, 20, 57, 8],\n",
       " [12, 3, 12, 22, 5, 7],\n",
       " [12, 26, 10],\n",
       " [52, 4, 43, 15, 7, 59],\n",
       " [25, 5, 20, 25, 8, 6, 1, 12, 1, 20, 6, 11, 41, 3, 48, 5, 26, 7, 63]]"
      ]
     },
     "execution_count": 89,
     "metadata": {},
     "output_type": "execute_result"
    }
   ],
   "source": [
    "ans_1_n"
   ]
  },
  {
   "cell_type": "code",
   "execution_count": null,
   "metadata": {},
   "outputs": [],
   "source": []
  },
  {
   "cell_type": "code",
   "execution_count": null,
   "metadata": {},
   "outputs": [],
   "source": []
  },
  {
   "cell_type": "code",
   "execution_count": null,
   "metadata": {},
   "outputs": [],
   "source": []
  },
  {
   "cell_type": "code",
   "execution_count": 47,
   "metadata": {},
   "outputs": [
    {
     "data": {
      "text/plain": [
       "(0, 'TGAACTTTAATCGGTTTTATACAACAATATAACGC')"
      ]
     },
     "execution_count": 47,
     "metadata": {},
     "output_type": "execute_result"
    }
   ],
   "source": [
    "hu.find_closest(sp_to_n, 'TGAACTTTAATCGGTTTTATACAACAATATAACGC')"
   ]
  },
  {
   "cell_type": "code",
   "execution_count": null,
   "metadata": {},
   "outputs": [],
   "source": []
  },
  {
   "cell_type": "code",
   "execution_count": null,
   "metadata": {},
   "outputs": [],
   "source": []
  },
  {
   "cell_type": "code",
   "execution_count": 35,
   "metadata": {},
   "outputs": [],
   "source": [
    "gr = pairs[0]"
   ]
  },
  {
   "cell_type": "code",
   "execution_count": 46,
   "metadata": {},
   "outputs": [
    {
     "data": {
      "text/plain": [
       "[<matplotlib.lines.Line2D at 0x7f727e9bb208>]"
      ]
     },
     "execution_count": 46,
     "metadata": {},
     "output_type": "execute_result"
    },
    {
     "data": {
      "image/png": "[encoded data removed]",
      "text/plain": [
       "<matplotlib.figure.Figure at 0x7f727f284f60>"
      ]
     },
     "metadata": {},
     "output_type": "display_data"
    }
   ],
   "source": [
    "plt.plot(gr.sum(0)[30:])"
   ]
  },
  {
   "cell_type": "code",
   "execution_count": 61,
   "metadata": {},
   "outputs": [
    {
     "data": {
      "text/plain": [
       "[<matplotlib.lines.Line2D at 0x7f727e15b978>]"
      ]
     },
     "execution_count": 61,
     "metadata": {},
     "output_type": "execute_result"
    },
    {
     "data": {
      "image/png": "[encoded data removed]",
      "text/plain": [
       "<matplotlib.figure.Figure at 0x7f727d32c278>"
      ]
     },
     "metadata": {},
     "output_type": "display_data"
    }
   ],
   "source": [
    "plt.plot(np.log([x for x in pairs[1].values()][:400]))"
   ]
  },
  {
   "cell_type": "code",
   "execution_count": null,
   "metadata": {},
   "outputs": [],
   "source": []
  },
  {
   "cell_type": "code",
   "execution_count": null,
   "metadata": {},
   "outputs": [],
   "source": []
  }
 ],
 "metadata": {
  "kernelspec": {
   "display_name": "Python 3",
   "language": "python",
   "name": "python3"
  },
  "language_info": {
   "codemirror_mode": {
    "name": "ipython",
    "version": 3
   },
   "file_extension": ".py",
   "mimetype": "text/x-python",
   "name": "python",
   "nbconvert_exporter": "python",
   "pygments_lexer": "ipython3",
   "version": "3.6.3"
  }
 },
 "nbformat": 4,
 "nbformat_minor": 2
}
