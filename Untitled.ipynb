{
 "cells": [
  {
   "cell_type": "code",
   "execution_count": 1,
   "metadata": {},
   "outputs": [],
   "source": [
    "import crispr_assembler as ca\n",
    "import argparse\n",
    "import numpy as np\n",
    "import matplotlib.pyplot as plt\n",
    "from collections import OrderedDict\n",
    "\n",
    "def calc_cl_to_occurences(ec):\n",
    "    cl_ind_to_n = dict(zip(ec.index_to_cluster.keys(), np.zeros(len(ec.index_to_cluster))))\n",
    "    \n",
    "    for spacer in ec.spacer_to_cluster_index.keys():\n",
    "        cl_ind_to_n[ec.spacer_to_cluster_index[spacer]] += ec.spacers_to_occurrences[spacer]\n",
    "    \n",
    "    cl_to_n_sorted = OrderedDict()\n",
    "    \n",
    "    order = np.argsort([x for x in cl_ind_to_n.values()])[::-1]\n",
    "    #print(order)\n",
    "    \n",
    "    for ind in order:\n",
    "        cl_to_n_sorted[ec.index_to_cluster[ind]] = [x for x in cl_ind_to_n.values()][ind]\n",
    "    \n",
    "    return cl_to_n_sorted"
   ]
  },
  {
   "cell_type": "code",
   "execution_count": 3,
   "metadata": {},
   "outputs": [],
   "source": [
    "parser = argparse.ArgumentParser()\n",
    "\n",
    "parser.add_argument('--pcr-file', dest='pcr_file', required = True)\n",
    "parser.add_argument('--wgs-file', dest='wgs_file', required = True)\n",
    "parser.add_argument('--dest-file', dest='dest_file', required = True)\n",
    "parser.add_argument('--megre-threshold', dest='megre_threshold', type=int, default=5)\n",
    "\n",
    "args = parser.parse_args([\"--wgs-file\",\n",
    "                          \"/home/anton/Downloads/CDiP648_WGSspacers.fasta\",\n",
    "                          \"--pcr-file\",\n",
    "                          \"/home/anton//BigMac/skoltech/CRISPR_research/data/clostr_11_12/out/spacers/CDisolate648_S16_L001_R1_001.fastq.gz_spacers.txt\",\n",
    "                          \"--dest-file\",\n",
    "                          \"/home/anton/210.txt\"])\n",
    "\n",
    "with open(args.pcr_file) as f:\n",
    "    lines_pcr = [x[:-2] for x in f.readlines()[1::2]]\n",
    "\n",
    "with open(args.wgs_file) as f:\n",
    "    lines_wgs = [x[:-2] for x in f.readlines() if len(x[:-2]) > 1][1::2]"
   ]
  },
  {
   "cell_type": "code",
   "execution_count": null,
   "metadata": {},
   "outputs": [],
   "source": [
    "print(lines_wgs)\n",
    "\n",
    "\n",
    "ec = ca.ErrorCorrector(args.megre_threshold)\n",
    "\n",
    "ec.fit(lines_pcr)\n",
    "\n",
    "cl_to_n = calc_cl_to_occurences(ec)\n",
    "\n",
    "wgs_fraction = []\n",
    "pcr_fraction = []\n",
    "\n",
    "for cut in range(10, len(cl_to_n), 5):\n",
    "\n",
    "    res = []\n",
    "    for wgs_spacer in lines_wgs[:]:\n",
    "        res.append(ca.find_closest([x for x in cl_to_n.keys()][:cut], wgs_spacer))\n",
    "\n",
    "    wgs_fraction.append(sum([x[0] < 6 for x in res]) / len(lines_wgs))\n",
    "    pcr_fraction.append(len(set([x for x in cl_to_n.keys()][:cut]).intersection(set([x[1] for x in res]))) / cut)\n",
    "\n",
    "with open(args.dest_file, 'w') as f:\n",
    "\tfor k,v in cl_to_n.items():\n",
    "\t\tf.write(k + \"\\t\" + str(v) + \"\\n\")\n",
    "\n",
    "\n",
    "plt.plot(range(10, len(cl_to_n), 5), wgs_fraction, label = 'found_wgs_fraction')\n",
    "plt.plot(range(10, len(cl_to_n), 5), pcr_fraction, label = 'found_pcr_fraction')\n",
    "plt.legend()\n",
    "plt.show()"
   ]
  },
  {
   "cell_type": "code",
   "execution_count": 25,
   "metadata": {},
   "outputs": [
    {
     "data": {
      "text/plain": [
       "54.598150033144236"
      ]
     },
     "execution_count": 25,
     "metadata": {},
     "output_type": "execute_result"
    }
   ],
   "source": [
    "np.exp(4)"
   ]
  },
  {
   "cell_type": "code",
   "execution_count": 23,
   "metadata": {},
   "outputs": [
    {
     "data": {
      "text/plain": [
       "array([1.00000000e+00, 3.59381366e+00, 1.29154967e+01, 4.64158883e+01,\n",
       "       1.66810054e+02, 5.99484250e+02, 2.15443469e+03, 7.74263683e+03,\n",
       "       2.78255940e+04, 1.00000000e+05])"
      ]
     },
     "execution_count": 23,
     "metadata": {},
     "output_type": "execute_result"
    }
   ],
   "source": [
    "np.logspace(0,5,10)"
   ]
  },
  {
   "cell_type": "code",
   "execution_count": 20,
   "metadata": {},
   "outputs": [
    {
     "ename": "NameError",
     "evalue": "name 'cl_to_n' is not defined",
     "output_type": "error",
     "traceback": [
      "\u001b[0;31m---------------------------------------------------------------------------\u001b[0m",
      "\u001b[0;31mNameError\u001b[0m                                 Traceback (most recent call last)",
      "\u001b[0;32m<ipython-input-20-91659b241817>\u001b[0m in \u001b[0;36m<module>\u001b[0;34m()\u001b[0m\n\u001b[1;32m      1\u001b[0m \u001b[0mf\u001b[0m\u001b[0;34m,\u001b[0m \u001b[0ma\u001b[0m \u001b[0;34m=\u001b[0m \u001b[0mplt\u001b[0m\u001b[0;34m.\u001b[0m\u001b[0msubplots\u001b[0m\u001b[0;34m(\u001b[0m\u001b[0;36m1\u001b[0m\u001b[0;34m,\u001b[0m\u001b[0;36m2\u001b[0m\u001b[0;34m,\u001b[0m \u001b[0mfigsize\u001b[0m \u001b[0;34m=\u001b[0m \u001b[0;34m(\u001b[0m\u001b[0;36m8\u001b[0m\u001b[0;34m,\u001b[0m \u001b[0;36m16\u001b[0m\u001b[0;34m)\u001b[0m\u001b[0;34m)\u001b[0m\u001b[0;34m\u001b[0m\u001b[0m\n\u001b[0;32m----> 2\u001b[0;31m \u001b[0ma\u001b[0m\u001b[0;34m[\u001b[0m\u001b[0;36m0\u001b[0m\u001b[0;34m]\u001b[0m\u001b[0;34m.\u001b[0m\u001b[0mplot\u001b[0m\u001b[0;34m(\u001b[0m\u001b[0mrange\u001b[0m\u001b[0;34m(\u001b[0m\u001b[0;36m10\u001b[0m\u001b[0;34m,\u001b[0m \u001b[0mlen\u001b[0m\u001b[0;34m(\u001b[0m\u001b[0mcl_to_n\u001b[0m\u001b[0;34m)\u001b[0m\u001b[0;34m,\u001b[0m \u001b[0;36m5\u001b[0m\u001b[0;34m)\u001b[0m\u001b[0;34m,\u001b[0m \u001b[0mwgs_fraction\u001b[0m\u001b[0;34m,\u001b[0m \u001b[0mlabel\u001b[0m \u001b[0;34m=\u001b[0m \u001b[0;34m'found_wgs_fraction'\u001b[0m\u001b[0;34m)\u001b[0m\u001b[0;34m\u001b[0m\u001b[0m\n\u001b[0m\u001b[1;32m      3\u001b[0m \u001b[0ma\u001b[0m\u001b[0;34m[\u001b[0m\u001b[0;36m0\u001b[0m\u001b[0;34m]\u001b[0m\u001b[0;34m.\u001b[0m\u001b[0mplot\u001b[0m\u001b[0;34m(\u001b[0m\u001b[0mrange\u001b[0m\u001b[0;34m(\u001b[0m\u001b[0;36m10\u001b[0m\u001b[0;34m,\u001b[0m \u001b[0mlen\u001b[0m\u001b[0;34m(\u001b[0m\u001b[0mcl_to_n\u001b[0m\u001b[0;34m)\u001b[0m\u001b[0;34m,\u001b[0m \u001b[0;36m5\u001b[0m\u001b[0;34m)\u001b[0m\u001b[0;34m,\u001b[0m \u001b[0mpcr_fraction\u001b[0m\u001b[0;34m,\u001b[0m \u001b[0mlabel\u001b[0m \u001b[0;34m=\u001b[0m \u001b[0;34m'found_pcr_fraction'\u001b[0m\u001b[0;34m)\u001b[0m\u001b[0;34m\u001b[0m\u001b[0m\n\u001b[1;32m      4\u001b[0m \u001b[0ma\u001b[0m\u001b[0;34m[\u001b[0m\u001b[0;36m1\u001b[0m\u001b[0;34m]\u001b[0m\u001b[0;34m.\u001b[0m\u001b[0mplot\u001b[0m\u001b[0;34m(\u001b[0m\u001b[0;34m[\u001b[0m\u001b[0mnp\u001b[0m\u001b[0;34m.\u001b[0m\u001b[0mlog\u001b[0m\u001b[0;34m(\u001b[0m\u001b[0mx\u001b[0m \u001b[0;34m+\u001b[0m \u001b[0;36m1\u001b[0m\u001b[0;34m)\u001b[0m  \u001b[0;32mfor\u001b[0m \u001b[0mx\u001b[0m \u001b[0;32min\u001b[0m \u001b[0mcluster_occurences\u001b[0m\u001b[0;34m]\u001b[0m\u001b[0;34m)\u001b[0m\u001b[0;34m\u001b[0m\u001b[0m\n\u001b[1;32m      5\u001b[0m \u001b[0;34m\u001b[0m\u001b[0m\n",
      "\u001b[0;31mNameError\u001b[0m: name 'cl_to_n' is not defined"
     ]
    },
    {
     "data": {
      "image/png": "[encoded data removed]",
      "text/plain": [
       "<matplotlib.figure.Figure at 0x7f281af7a7f0>"
      ]
     },
     "metadata": {},
     "output_type": "display_data"
    }
   ],
   "source": [
    "f, a = plt.subplots(1,2, figsize = (8, 16))\n",
    "a[0].plot(range(10, len(cl_to_n), 5), wgs_fraction, label = 'found_wgs_fraction')\n",
    "a[0].plot(range(10, len(cl_to_n), 5), pcr_fraction, label = 'found_pcr_fraction')\n",
    "a[1].plot([np.log(x + 1)  for x in cluster_occurences])\n",
    "\n",
    "plt.xticks(range(10, 322,  10))\n",
    "plt.legend()"
   ]
  },
  {
   "cell_type": "code",
   "execution_count": 14,
   "metadata": {},
   "outputs": [
    {
     "name": "stdout",
     "output_type": "stream",
     "text": [
      "2\n",
      "2\n",
      "12\n",
      "2\n",
      "2\n",
      "2\n",
      "2\n",
      "2\n",
      "0\n",
      "0\n",
      "14\n",
      "0\n",
      "2\n",
      "2\n",
      "0\n",
      "0\n",
      "13\n",
      "1\n",
      "0\n",
      "2\n",
      "0\n",
      "2\n",
      "15\n",
      "15\n",
      "14\n",
      "1\n",
      "13\n",
      "0\n",
      "0\n",
      "2\n",
      "1\n",
      "2\n",
      "15\n",
      "13\n",
      "23\n",
      "0\n",
      "14\n",
      "13\n",
      "0\n",
      "2\n",
      "0\n",
      "13\n",
      "13\n",
      "2\n",
      "13\n",
      "2\n",
      "13\n",
      "17\n",
      "0\n",
      "0\n",
      "1\n",
      "0\n",
      "0\n",
      "2\n",
      "1\n",
      "2\n",
      "14\n",
      "0\n",
      "2\n",
      "0\n",
      "2\n",
      "13\n",
      "0\n",
      "2\n",
      "11\n",
      "0\n",
      "0\n",
      "0\n",
      "2\n",
      "15\n",
      "12\n",
      "1\n",
      "14\n",
      "12\n",
      "0\n",
      "2\n",
      "2\n",
      "2\n",
      "13\n",
      "13\n",
      "1\n",
      "0\n",
      "14\n",
      "10\n",
      "2\n",
      "2\n",
      "0\n",
      "0\n",
      "13\n",
      "0\n",
      "1\n",
      "1\n",
      "0\n",
      "0\n",
      "2\n",
      "1\n",
      "2\n",
      "2\n",
      "2\n",
      "0\n",
      "14\n",
      "16\n",
      "2\n",
      "0\n",
      "2\n",
      "1\n",
      "12\n",
      "1\n",
      "13\n",
      "15\n",
      "12\n",
      "1\n",
      "0\n",
      "0\n",
      "15\n",
      "1\n",
      "13\n",
      "0\n",
      "0\n",
      "0\n",
      "15\n",
      "0\n",
      "0\n",
      "15\n",
      "12\n",
      "0\n",
      "0\n",
      "13\n",
      "2\n",
      "2\n",
      "2\n",
      "1\n",
      "2\n",
      "1\n",
      "2\n",
      "2\n",
      "12\n",
      "13\n",
      "13\n",
      "0\n",
      "14\n",
      "13\n",
      "1\n",
      "2\n",
      "2\n",
      "0\n",
      "2\n",
      "2\n",
      "1\n",
      "2\n",
      "0\n",
      "2\n",
      "12\n",
      "0\n",
      "0\n",
      "25\n",
      "2\n",
      "2\n",
      "1\n",
      "11\n",
      "0\n",
      "0\n"
     ]
    }
   ],
   "source": [
    "pcr_set = set(lines_pcr)\n",
    "\n",
    "for x in set(lines_wgs):\n",
    "    print(min(ca.find_closest(pcr_set, x)[0], ca.find_closest(pcr_set, ca.rev_compl(x, r=1))[0]))"
   ]
  },
  {
   "cell_type": "code",
   "execution_count": 12,
   "metadata": {},
   "outputs": [
    {
     "data": {
      "text/plain": [
       "'GTTTTTCTATATATTCAGATATTTCACTTTTATCTT'"
      ]
     },
     "execution_count": 12,
     "metadata": {},
     "output_type": "execute_result"
    }
   ],
   "source": [
    "ca.rev_compl(x, r = 1)"
   ]
  },
  {
   "cell_type": "code",
   "execution_count": null,
   "metadata": {},
   "outputs": [],
   "source": []
  },
  {
   "cell_type": "code",
   "execution_count": null,
   "metadata": {},
   "outputs": [],
   "source": []
  },
  {
   "cell_type": "code",
   "execution_count": null,
   "metadata": {},
   "outputs": [],
   "source": []
  },
  {
   "cell_type": "code",
   "execution_count": null,
   "metadata": {},
   "outputs": [],
   "source": []
  },
  {
   "cell_type": "code",
   "execution_count": null,
   "metadata": {},
   "outputs": [],
   "source": []
  },
  {
   "cell_type": "code",
   "execution_count": null,
   "metadata": {},
   "outputs": [],
   "source": []
  },
  {
   "cell_type": "code",
   "execution_count": null,
   "metadata": {},
   "outputs": [],
   "source": []
  },
  {
   "cell_type": "code",
   "execution_count": null,
   "metadata": {},
   "outputs": [],
   "source": []
  },
  {
   "cell_type": "code",
   "execution_count": null,
   "metadata": {},
   "outputs": [],
   "source": []
  },
  {
   "cell_type": "code",
   "execution_count": null,
   "metadata": {},
   "outputs": [],
   "source": []
  },
  {
   "cell_type": "code",
   "execution_count": 8,
   "metadata": {},
   "outputs": [],
   "source": [
    "with open(\"/home/anton/Downloads/042_spacers.fasta\") as f:\n",
    "    lines = [x[:-2] for x in f.readlines()[1::2]]"
   ]
  },
  {
   "cell_type": "code",
   "execution_count": 9,
   "metadata": {},
   "outputs": [
    {
     "data": {
      "text/plain": [
       "['ATATAAATTCGTTACTTCATCATAGACGACAGNTC',\n",
       " 'ATCAGCACGTGGTGGTTACTGTTCGTAATATTAGTT',\n",
       " 'CGTACCAAACGAGAAAATGACTTCATACTCACCCC',\n",
       " 'GTGTTAAATTGGTATTTTCTCTTGCTTTTTGATAA',\n",
       " 'TTAATTTTTTTAATAAGTTGAAAATACTGAGTTAA',\n",
       " 'GTGTTAAATTGGTATTTTCTCTTGCTTTTTGATAA',\n",
       " 'GTACTATTTCCAACTTTTTTTTCGAGTTCTGAATACT',\n",
       " 'TGTAAAATGTGACAATTTCAGTCTCTTTACTCTGCA',\n",
       " 'GTACTATTTCCAACTTTTTTTTCGAGTTCTGAATACT',\n",
       " 'AACACTTTAAAAACTAATGTATTCAGTATAAGAGAT']"
      ]
     },
     "execution_count": 9,
     "metadata": {},
     "output_type": "execute_result"
    }
   ],
   "source": [
    "lines[:10]"
   ]
  },
  {
   "cell_type": "code",
   "execution_count": 10,
   "metadata": {},
   "outputs": [],
   "source": [
    "ec = ca.ErrorCorrector(5)"
   ]
  },
  {
   "cell_type": "code",
   "execution_count": 11,
   "metadata": {},
   "outputs": [
    {
     "name": "stderr",
     "output_type": "stream",
     "text": [
      "100%|██████████| 54/54 [00:00<00:00, 7813.86it/s]\n"
     ]
    }
   ],
   "source": [
    "ec.fit(lines[:100])"
   ]
  },
  {
   "cell_type": "code",
   "execution_count": 41,
   "metadata": {},
   "outputs": [],
   "source": [
    "from collections import OrderedDict"
   ]
  },
  {
   "cell_type": "code",
   "execution_count": null,
   "metadata": {},
   "outputs": [],
   "source": [
    "ec.spacer_to_cluster_index"
   ]
  },
  {
   "cell_type": "code",
   "execution_count": 81,
   "metadata": {},
   "outputs": [],
   "source": [
    "def calc_cl_to_occurences(ec, threshold):\n",
    "#     cl_to_n = dict(zip(cl_to_ind.keys(), np.zeros(len(cl_to_ind))))\n",
    "    \n",
    "#     for spacer in sp_to_n.keys():\n",
    "#         ca.find_closest(cl_to_n)\n",
    "\n",
    "    cl_ind_to_n = dict(zip(ec.index_to_cluster.keys(), np.zeros(len(ec.index_to_cluster))))\n",
    "    \n",
    "    for spacer in ec.spacer_to_cluster_index.keys():\n",
    "        cl_ind_to_n[ec.spacer_to_cluster_index[spacer]] += ec.spacers_to_occurrences[spacer]\n",
    "    \n",
    "    \n",
    "    cl_to_n_sorted = OrderedDict()\n",
    "    \n",
    "    order = np.argsort([x for x in cl_ind_to_n.values()])[::-1]\n",
    "    #print(order)\n",
    "    \n",
    "    for ind in order:\n",
    "        cl_to_n_sorted[ec.index_to_cluster[ind]] = [x for x in cl_ind_to_n.values()][ind]\n",
    "    \n",
    "    return cl_to_n_sorted"
   ]
  },
  {
   "cell_type": "code",
   "execution_count": 83,
   "metadata": {},
   "outputs": [],
   "source": [
    "cl_to_n = calc_cl_to_occurences(ec, 0)"
   ]
  },
  {
   "cell_type": "code",
   "execution_count": null,
   "metadata": {},
   "outputs": [],
   "source": []
  },
  {
   "cell_type": "code",
   "execution_count": 26,
   "metadata": {},
   "outputs": [
    {
     "name": "stdout",
     "output_type": "stream",
     "text": [
      "['AAAATATTATTTAGGAACTGATGGAGCAAGAGT', 'AAAATTATAGACAGAATGATAAATGTATTTGATGCT', 'AAACCAATCTTTTTTCCTTGAATCTTTTAAAAGTTC', 'AAAGATTGCAATAGATTTCCTGTTAAAATAGGTACA', 'AAATCAATGCCAACTATAGGAACGTCGGGATTAATT', 'AACTACAGTGCACTATCTTGTGTAAAAGAGCAAACTGAAGA', 'AACTTATTACTTTAACTCAGATGGAGTAATGCA', 'AACTTCTTGTTTTTTCTTTAAAACATGTACTTGGT', 'AAGAAAATAAGTTTAAAAAAAGGTTTCATTATTATAT', 'AATGACTTTGCATTGTATTATGTAAATGAACAGACAGAAAA', 'AATGGAAGCAAGATAATTTTTAAAGGTATGGATAAT', 'ACTTTCTGTAGCTCTATAGATAAATAAGGTGCTAA', 'ACTTTTTCACGACATTTTTTTATAAAAGGAGGTATT', 'ACTTTTTTCATCCTCCCAAACCTCTTGTTCGCTGT', 'AGAGAGAAGGGCTATTCTCTCTAGGCTTATCCTTACA', 'AGAGTAAAACAATAGTACAAGAACAAATAAATACA', 'AGGGTTTCTGATAAAATCTTCAAACATGTAAAATATG', 'AGTACATATAATGAGTCTTTAACATCAGTTATGAAA', 'AGTATAATGTTGAAAAGTTAGAGAGTACAATCAAGG', 'AGTATTTCAGCAATTTTACTTTTAATAACTTTATCAG', 'AGTTATATGGCTCTACAGTATGTAAATAAGCAAACAGAAGA', 'ATAAGTAATATAAATTTATGTAAAGCAACAAAAGATA', 'ATAGTCCTTTTCTAAATTTAGAATCAAGTTTTGGAG', 'ATTGCAACACTTCATCAGTTGATAAATATAGTATAT', 'ATTTTTGACGCTATGAAGAAATTTACTACAAAATT', 'CAAAGAAGCTCCACCCCATCTGTTTTTTATTATAG', 'CAGCAAGAGTCGCAACAACATTAACAACTTCGGGAG', 'CATGCTGATAAGAATCTCTATGAACTTCGGAGGGAACC', 'CCAATTATGTACAGTTTAGTTACTGTGTTAAGTCT', 'CGGCTACAACGGTATAAATTAAATTTAGCAGGGTA', 'CGTATTAACACCTGTTCGGCACTATCACAATAAACACA', 'CTAAAGCAACTAAAGCATATGATTTATCTAACAA', 'CTATCGGCTTCTTGAAAAGCCTCATCTGCTCTATTT', 'CTGATAGAAAAAGAAGATTATTTGAAAGTTGAGACT', 'CTTAGAGAAAGCGAAAACGTACCATTAAAATCAAA', 'CTTATACTTAGTTAGAACTATATATCGACACAAATA', 'CTTGTTAATGCAAATAAACAACATAGCACTATTAAT', 'GAAATAATAAATAGCATTGTCGAATGGTTTGCAAGC', 'GAAATACTATCTAGGATCTGATGGTTTAGCAGT', 'GAAGTTTACATTTTTATTTTAGAATATAAGTCGTTGT', 'GAATTACAATATTATCTCCAGCATCAAGACTAGGA', 'GAATTATATATTGCAAAAAAATATGGAGTCACAGA', 'GATGGAAAATCTTTAGCTTATGTAAAGGAACAAAGTAATAG', 'GATTGTACTTTAGCGTCTGCACTAGCTTTGTCTAT', 'GATTTTAGAACTTCATCCACAAACGAGCTTTCTAC', 'GCAGAAGAAACAGGTTTCAAAACGATAAAAAAATAA', 'GCATAACCAAAAACTTCAAAATCAAGACCTCGAATT', 'GGAGTATAAGGTAAATCGTAAGCAACTCCAGAAAGA', 'GTCTTACTATTTAGACAAAGATGGAAAGATGCT', 'GTTGTAAGAAGTATCATTCTATTTTTTAATCTTTC', 'GTTTTCAAAAAAAATGGAACAATCATACAAAATGAT', 'TAACCTTTTTATTGTTGTTGTTATTCTTATTGTTATT', 'TAACTTTATAAAACCCAGTAATTGCAACACTTTTAT', 'TAAGTATTACTTTGACAAAACAGGAATAATGCA', 'TATAGCTAATTATTAGATTCAATTTTAATTTCGTTA', 'TATCCAACCAATTCTATATTTATCATTCCAAGAAC', 'TATGAATATATTACATAATCATAAAGATTTACAAAT', 'TATTGCTTAAACTTTTAAGACAAGGTGGAGCTTAAA', 'TATTTTACAGATGAACAATTACAGTTACTTCTTGAA', 'TCAATTTACCGTTTTTTTCAAATCTCACAACATCAG', 'TCAGCATCTATGCCATTTACTTTATTAACTTCCTCA', 'TCCTTTTATAAATATCTTCTGACATGTGTATATGCT', 'TCTATAATTATGCGTGATTTGATTGGTAGAAAC', 'TGAAAATCTAGTTAAAAACTGCATCAAAGTATTGA', 'TGCAATTTTTATTCGTTGTCCAATCTCTTTGAAATT', 'TGCGCAATAACATGCTGAAAACTGCAATTTCGAAG', 'TGCTGTGATTTCAATAATAAAACAATTAATAATTG', 'TGGTTAAATCTCCAACAGAACATTTATCTAAATTACA', 'TGTTTTCCATGAACATTTCGAGCTGACTTTTATTG', 'TTATACATATTTGTAGCTCCTTGCTGAACTGTTGC', 'TTCATTAAATCCCCAACCGAATTATCTTTCAGCATT', 'TTGGGTATTTTGCTAAAAATAAAGCTATTAAATTAG', 'TTGTAGTTAATATTATAATTCCAACTCCTATAAGTAT', 'TTGTATTATTACTTTTTATCAGAATAATCAAAAGAT', 'TTTCCCTGCATTAACAAAATCTTCAACATTCAAAA', 'TTTCCTCTAAAGTCCAAACACCCTCTAGCTTTCCCG']\n"
     ]
    }
   ],
   "source": [
    "import crispr_assembler as ca\n",
    "import argparse\n",
    "import editdistance\n",
    "import tqdm\n",
    "\n",
    "\n",
    "parser = argparse.ArgumentParser()\n",
    "\n",
    "parser.add_argument('--wgs', dest='wgs_data', required = True)\n",
    "parser.add_argument('--pcr', dest='pcr_data', required = True)\n",
    "\n",
    "args = parser.parse_args([\"--wgs\",\n",
    "                          \"/home/anton/Downloads/Telegram Desktop/CDiP_77_WGS_forR.csv\",\n",
    "                          \"--pcr\",\n",
    "                          \"/home/anton/Downloads/Telegram Desktop/CDiP_77_Clustered_forR.csv\"])\n",
    "\n",
    "with open(args.wgs_data) as f:\n",
    "    lines_wgs = [x[:-2] for x in f.readlines() if len(x[:-2]) > 1]\n",
    "\n",
    "print(lines_wgs)\n",
    "\n",
    "with open(args.pcr_data) as f:\n",
    "    lines_pcr = [x[:-2] for x in f.readlines() if len(x[:-2]) > 1]"
   ]
  },
  {
   "cell_type": "code",
   "execution_count": 29,
   "metadata": {},
   "outputs": [
    {
     "name": "stderr",
     "output_type": "stream",
     "text": [
      "100%|██████████| 387/387 [00:00<00:00, 4227.83it/s]\n"
     ]
    }
   ],
   "source": [
    "ec = ca.ErrorCorrector(5)\n",
    "\n",
    "ec.fit(lines_pcr)"
   ]
  },
  {
   "cell_type": "code",
   "execution_count": 33,
   "metadata": {},
   "outputs": [
    {
     "data": {
      "text/plain": [
       "122"
      ]
     },
     "execution_count": 33,
     "metadata": {},
     "output_type": "execute_result"
    }
   ],
   "source": [
    "len(ec.cluster_to_index)"
   ]
  },
  {
   "cell_type": "code",
   "execution_count": 39,
   "metadata": {},
   "outputs": [],
   "source": [
    "hc = ec.hierarchical_clustering"
   ]
  },
  {
   "cell_type": "code",
   "execution_count": null,
   "metadata": {},
   "outputs": [],
   "source": [
    "hc."
   ]
  },
  {
   "cell_type": "code",
   "execution_count": null,
   "metadata": {},
   "outputs": [],
   "source": []
  },
  {
   "cell_type": "code",
   "execution_count": 32,
   "metadata": {},
   "outputs": [
    {
     "data": {
      "text/plain": [
       "387"
      ]
     },
     "execution_count": 32,
     "metadata": {},
     "output_type": "execute_result"
    }
   ],
   "source": [
    "len(ec.spacers_to_occurrences)"
   ]
  },
  {
   "cell_type": "code",
   "execution_count": null,
   "metadata": {},
   "outputs": [],
   "source": []
  },
  {
   "cell_type": "code",
   "execution_count": 88,
   "metadata": {},
   "outputs": [
    {
     "data": {
      "text/plain": [
       "['GGAGTATAAGGTAAATCGTAAGCAACTCCAGTAAG',\n",
       " 'GATTGTACTTTAGCGTCTGCACTAGCTTTGTCTA',\n",
       " 'TGCGCTATAACATGCTGAAAACTGCAATTTCGAA',\n",
       " 'TCATAACCAAAAACTTCAAAATCAAGACCTCGAAT',\n",
       " 'AAATCAATGCCAACTATAGGAACGTCGGGATTTAT',\n",
       " 'CAGCAAGAGTCGCAACAACATTAACAACTTCGGTA',\n",
       " 'TAATTACAATATTATCTCCAGCATCAAGACTAGG',\n",
       " 'CAAAGAAGCTCCACCACATCTGTTTTTTATTATA',\n",
       " 'ACGGGAAAGCTAGAGGGTGTTTTGACTTTAGAGGA',\n",
       " 'AGTACATATAATGAGTCCTTAACATCAGTTATGAA']"
      ]
     },
     "execution_count": 88,
     "metadata": {},
     "output_type": "execute_result"
    }
   ],
   "source": []
  },
  {
   "cell_type": "code",
   "execution_count": 97,
   "metadata": {},
   "outputs": [
    {
     "name": "stderr",
     "output_type": "stream",
     "text": [
      "100%|██████████| 76/76 [00:00<00:00, 19930.42it/s]\n",
      "100%|██████████| 76/76 [00:00<00:00, 14105.36it/s]\n",
      "100%|██████████| 76/76 [00:00<00:00, 12625.94it/s]\n",
      "100%|██████████| 76/76 [00:00<00:00, 8208.45it/s]\n",
      "100%|██████████| 76/76 [00:00<00:00, 6457.09it/s]\n",
      "100%|██████████| 76/76 [00:00<00:00, 7887.74it/s]\n",
      "100%|██████████| 76/76 [00:00<00:00, 7183.48it/s]\n",
      "100%|██████████| 76/76 [00:00<00:00, 6332.53it/s]\n",
      "100%|██████████| 76/76 [00:00<00:00, 6043.09it/s]\n",
      "100%|██████████| 76/76 [00:00<00:00, 5306.68it/s]\n",
      "100%|██████████| 76/76 [00:00<00:00, 3273.30it/s]\n",
      "100%|██████████| 76/76 [00:00<00:00, 3250.04it/s]\n",
      "100%|██████████| 76/76 [00:00<00:00, 3972.97it/s]\n",
      "100%|██████████| 76/76 [00:00<00:00, 4157.54it/s]\n",
      "100%|██████████| 76/76 [00:00<00:00, 3947.68it/s]\n",
      "100%|██████████| 76/76 [00:00<00:00, 2719.86it/s]\n",
      "100%|██████████| 76/76 [00:00<00:00, 2609.19it/s]\n",
      "100%|██████████| 76/76 [00:00<00:00, 3232.51it/s]\n",
      "100%|██████████| 76/76 [00:00<00:00, 2980.94it/s]\n",
      "100%|██████████| 76/76 [00:00<00:00, 2925.06it/s]\n",
      "100%|██████████| 76/76 [00:00<00:00, 2905.23it/s]\n",
      "100%|██████████| 76/76 [00:00<00:00, 2800.92it/s]\n",
      "100%|██████████| 76/76 [00:00<00:00, 2642.19it/s]\n"
     ]
    }
   ],
   "source": [
    "wgs_fraction = []\n",
    "pcr_fraction = []\n",
    "\n",
    "for cut in range(10, len(cl_to_n), 5):\n",
    "\n",
    "    res = []\n",
    "    for wgs_spacer in tqdm.tqdm(lines_wgs[:]):\n",
    "        res.append(ca.find_closest([x for x in cl_to_n.keys()][:cut], wgs_spacer))\n",
    "\n",
    "    wgs_fraction.append(sum([x[0] < 6 for x in res]) / len(lines_wgs))\n",
    "    pcr_fraction.append(len(set([x for x in cl_to_n.keys()][:cut]).intersection(set([x[1] for x in res]))) / cut)"
   ]
  },
  {
   "cell_type": "code",
   "execution_count": 108,
   "metadata": {},
   "outputs": [
    {
     "ename": "AttributeError",
     "evalue": "Unknown property name",
     "output_type": "error",
     "traceback": [
      "\u001b[0;31m---------------------------------------------------------------------------\u001b[0m",
      "\u001b[0;31mAttributeError\u001b[0m                            Traceback (most recent call last)",
      "\u001b[0;32m<ipython-input-108-634801694082>\u001b[0m in \u001b[0;36m<module>\u001b[0;34m()\u001b[0m\n\u001b[0;32m----> 1\u001b[0;31m \u001b[0mplt\u001b[0m\u001b[0;34m.\u001b[0m\u001b[0mplot\u001b[0m\u001b[0;34m(\u001b[0m\u001b[0mrange\u001b[0m\u001b[0;34m(\u001b[0m\u001b[0;36m10\u001b[0m\u001b[0;34m,\u001b[0m \u001b[0mlen\u001b[0m\u001b[0;34m(\u001b[0m\u001b[0mcl_to_n\u001b[0m\u001b[0;34m)\u001b[0m\u001b[0;34m,\u001b[0m \u001b[0;36m5\u001b[0m\u001b[0;34m)\u001b[0m\u001b[0;34m,\u001b[0m \u001b[0mwgs_fraction\u001b[0m\u001b[0;34m,\u001b[0m \u001b[0mname\u001b[0m\u001b[0;34m=\u001b[0m \u001b[0;34m'322'\u001b[0m\u001b[0;34m)\u001b[0m\u001b[0;34m\u001b[0m\u001b[0m\n\u001b[0m\u001b[1;32m      2\u001b[0m \u001b[0mplt\u001b[0m\u001b[0;34m.\u001b[0m\u001b[0mplot\u001b[0m\u001b[0;34m(\u001b[0m\u001b[0mrange\u001b[0m\u001b[0;34m(\u001b[0m\u001b[0;36m10\u001b[0m\u001b[0;34m,\u001b[0m \u001b[0mlen\u001b[0m\u001b[0;34m(\u001b[0m\u001b[0mcl_to_n\u001b[0m\u001b[0;34m)\u001b[0m\u001b[0;34m,\u001b[0m \u001b[0;36m5\u001b[0m\u001b[0;34m)\u001b[0m\u001b[0;34m,\u001b[0m \u001b[0mpcr_fraction\u001b[0m\u001b[0;34m)\u001b[0m\u001b[0;34m\u001b[0m\u001b[0m\n",
      "\u001b[0;32m~/anaconda3/lib/python3.6/site-packages/matplotlib/pyplot.py\u001b[0m in \u001b[0;36mplot\u001b[0;34m(*args, **kwargs)\u001b[0m\n\u001b[1;32m   3238\u001b[0m                       mplDeprecation)\n\u001b[1;32m   3239\u001b[0m     \u001b[0;32mtry\u001b[0m\u001b[0;34m:\u001b[0m\u001b[0;34m\u001b[0m\u001b[0m\n\u001b[0;32m-> 3240\u001b[0;31m         \u001b[0mret\u001b[0m \u001b[0;34m=\u001b[0m \u001b[0max\u001b[0m\u001b[0;34m.\u001b[0m\u001b[0mplot\u001b[0m\u001b[0;34m(\u001b[0m\u001b[0;34m*\u001b[0m\u001b[0margs\u001b[0m\u001b[0;34m,\u001b[0m \u001b[0;34m**\u001b[0m\u001b[0mkwargs\u001b[0m\u001b[0;34m)\u001b[0m\u001b[0;34m\u001b[0m\u001b[0m\n\u001b[0m\u001b[1;32m   3241\u001b[0m     \u001b[0;32mfinally\u001b[0m\u001b[0;34m:\u001b[0m\u001b[0;34m\u001b[0m\u001b[0m\n\u001b[1;32m   3242\u001b[0m         \u001b[0max\u001b[0m\u001b[0;34m.\u001b[0m\u001b[0m_hold\u001b[0m \u001b[0;34m=\u001b[0m \u001b[0mwashold\u001b[0m\u001b[0;34m\u001b[0m\u001b[0m\n",
      "\u001b[0;32m~/anaconda3/lib/python3.6/site-packages/matplotlib/__init__.py\u001b[0m in \u001b[0;36minner\u001b[0;34m(ax, *args, **kwargs)\u001b[0m\n\u001b[1;32m   1708\u001b[0m                     warnings.warn(msg % (label_namer, func.__name__),\n\u001b[1;32m   1709\u001b[0m                                   RuntimeWarning, stacklevel=2)\n\u001b[0;32m-> 1710\u001b[0;31m             \u001b[0;32mreturn\u001b[0m \u001b[0mfunc\u001b[0m\u001b[0;34m(\u001b[0m\u001b[0max\u001b[0m\u001b[0;34m,\u001b[0m \u001b[0;34m*\u001b[0m\u001b[0margs\u001b[0m\u001b[0;34m,\u001b[0m \u001b[0;34m**\u001b[0m\u001b[0mkwargs\u001b[0m\u001b[0;34m)\u001b[0m\u001b[0;34m\u001b[0m\u001b[0m\n\u001b[0m\u001b[1;32m   1711\u001b[0m         \u001b[0mpre_doc\u001b[0m \u001b[0;34m=\u001b[0m \u001b[0minner\u001b[0m\u001b[0;34m.\u001b[0m\u001b[0m__doc__\u001b[0m\u001b[0;34m\u001b[0m\u001b[0m\n\u001b[1;32m   1712\u001b[0m         \u001b[0;32mif\u001b[0m \u001b[0mpre_doc\u001b[0m \u001b[0;32mis\u001b[0m \u001b[0;32mNone\u001b[0m\u001b[0;34m:\u001b[0m\u001b[0;34m\u001b[0m\u001b[0m\n",
      "\u001b[0;32m~/anaconda3/lib/python3.6/site-packages/matplotlib/axes/_axes.py\u001b[0m in \u001b[0;36mplot\u001b[0;34m(self, *args, **kwargs)\u001b[0m\n\u001b[1;32m   1435\u001b[0m         \u001b[0mkwargs\u001b[0m \u001b[0;34m=\u001b[0m \u001b[0mcbook\u001b[0m\u001b[0;34m.\u001b[0m\u001b[0mnormalize_kwargs\u001b[0m\u001b[0;34m(\u001b[0m\u001b[0mkwargs\u001b[0m\u001b[0;34m,\u001b[0m \u001b[0m_alias_map\u001b[0m\u001b[0;34m)\u001b[0m\u001b[0;34m\u001b[0m\u001b[0m\n\u001b[1;32m   1436\u001b[0m \u001b[0;34m\u001b[0m\u001b[0m\n\u001b[0;32m-> 1437\u001b[0;31m         \u001b[0;32mfor\u001b[0m \u001b[0mline\u001b[0m \u001b[0;32min\u001b[0m \u001b[0mself\u001b[0m\u001b[0;34m.\u001b[0m\u001b[0m_get_lines\u001b[0m\u001b[0;34m(\u001b[0m\u001b[0;34m*\u001b[0m\u001b[0margs\u001b[0m\u001b[0;34m,\u001b[0m \u001b[0;34m**\u001b[0m\u001b[0mkwargs\u001b[0m\u001b[0;34m)\u001b[0m\u001b[0;34m:\u001b[0m\u001b[0;34m\u001b[0m\u001b[0m\n\u001b[0m\u001b[1;32m   1438\u001b[0m             \u001b[0mself\u001b[0m\u001b[0;34m.\u001b[0m\u001b[0madd_line\u001b[0m\u001b[0;34m(\u001b[0m\u001b[0mline\u001b[0m\u001b[0;34m)\u001b[0m\u001b[0;34m\u001b[0m\u001b[0m\n\u001b[1;32m   1439\u001b[0m             \u001b[0mlines\u001b[0m\u001b[0;34m.\u001b[0m\u001b[0mappend\u001b[0m\u001b[0;34m(\u001b[0m\u001b[0mline\u001b[0m\u001b[0;34m)\u001b[0m\u001b[0;34m\u001b[0m\u001b[0m\n",
      "\u001b[0;32m~/anaconda3/lib/python3.6/site-packages/matplotlib/axes/_base.py\u001b[0m in \u001b[0;36m_grab_next_args\u001b[0;34m(self, *args, **kwargs)\u001b[0m\n\u001b[1;32m    402\u001b[0m                 \u001b[0mthis\u001b[0m \u001b[0;34m+=\u001b[0m \u001b[0margs\u001b[0m\u001b[0;34m[\u001b[0m\u001b[0;36m0\u001b[0m\u001b[0;34m]\u001b[0m\u001b[0;34m,\u001b[0m\u001b[0;34m\u001b[0m\u001b[0m\n\u001b[1;32m    403\u001b[0m                 \u001b[0margs\u001b[0m \u001b[0;34m=\u001b[0m \u001b[0margs\u001b[0m\u001b[0;34m[\u001b[0m\u001b[0;36m1\u001b[0m\u001b[0;34m:\u001b[0m\u001b[0;34m]\u001b[0m\u001b[0;34m\u001b[0m\u001b[0m\n\u001b[0;32m--> 404\u001b[0;31m             \u001b[0;32mfor\u001b[0m \u001b[0mseg\u001b[0m \u001b[0;32min\u001b[0m \u001b[0mself\u001b[0m\u001b[0;34m.\u001b[0m\u001b[0m_plot_args\u001b[0m\u001b[0;34m(\u001b[0m\u001b[0mthis\u001b[0m\u001b[0;34m,\u001b[0m \u001b[0mkwargs\u001b[0m\u001b[0;34m)\u001b[0m\u001b[0;34m:\u001b[0m\u001b[0;34m\u001b[0m\u001b[0m\n\u001b[0m\u001b[1;32m    405\u001b[0m                 \u001b[0;32myield\u001b[0m \u001b[0mseg\u001b[0m\u001b[0;34m\u001b[0m\u001b[0m\n\u001b[1;32m    406\u001b[0m \u001b[0;34m\u001b[0m\u001b[0m\n",
      "\u001b[0;32m~/anaconda3/lib/python3.6/site-packages/matplotlib/axes/_base.py\u001b[0m in \u001b[0;36m_plot_args\u001b[0;34m(self, tup, kwargs)\u001b[0m\n\u001b[1;32m    392\u001b[0m         \u001b[0mncx\u001b[0m\u001b[0;34m,\u001b[0m \u001b[0mncy\u001b[0m \u001b[0;34m=\u001b[0m \u001b[0mx\u001b[0m\u001b[0;34m.\u001b[0m\u001b[0mshape\u001b[0m\u001b[0;34m[\u001b[0m\u001b[0;36m1\u001b[0m\u001b[0;34m]\u001b[0m\u001b[0;34m,\u001b[0m \u001b[0my\u001b[0m\u001b[0;34m.\u001b[0m\u001b[0mshape\u001b[0m\u001b[0;34m[\u001b[0m\u001b[0;36m1\u001b[0m\u001b[0;34m]\u001b[0m\u001b[0;34m\u001b[0m\u001b[0m\n\u001b[1;32m    393\u001b[0m         \u001b[0;32mfor\u001b[0m \u001b[0mj\u001b[0m \u001b[0;32min\u001b[0m \u001b[0mxrange\u001b[0m\u001b[0;34m(\u001b[0m\u001b[0mmax\u001b[0m\u001b[0;34m(\u001b[0m\u001b[0mncx\u001b[0m\u001b[0;34m,\u001b[0m \u001b[0mncy\u001b[0m\u001b[0;34m)\u001b[0m\u001b[0;34m)\u001b[0m\u001b[0;34m:\u001b[0m\u001b[0;34m\u001b[0m\u001b[0m\n\u001b[0;32m--> 394\u001b[0;31m             \u001b[0mseg\u001b[0m \u001b[0;34m=\u001b[0m \u001b[0mfunc\u001b[0m\u001b[0;34m(\u001b[0m\u001b[0mx\u001b[0m\u001b[0;34m[\u001b[0m\u001b[0;34m:\u001b[0m\u001b[0;34m,\u001b[0m \u001b[0mj\u001b[0m \u001b[0;34m%\u001b[0m \u001b[0mncx\u001b[0m\u001b[0;34m]\u001b[0m\u001b[0;34m,\u001b[0m \u001b[0my\u001b[0m\u001b[0;34m[\u001b[0m\u001b[0;34m:\u001b[0m\u001b[0;34m,\u001b[0m \u001b[0mj\u001b[0m \u001b[0;34m%\u001b[0m \u001b[0mncy\u001b[0m\u001b[0;34m]\u001b[0m\u001b[0;34m,\u001b[0m \u001b[0mkw\u001b[0m\u001b[0;34m,\u001b[0m \u001b[0mkwargs\u001b[0m\u001b[0;34m)\u001b[0m\u001b[0;34m\u001b[0m\u001b[0m\n\u001b[0m\u001b[1;32m    395\u001b[0m             \u001b[0mret\u001b[0m\u001b[0;34m.\u001b[0m\u001b[0mappend\u001b[0m\u001b[0;34m(\u001b[0m\u001b[0mseg\u001b[0m\u001b[0;34m)\u001b[0m\u001b[0;34m\u001b[0m\u001b[0m\n\u001b[1;32m    396\u001b[0m         \u001b[0;32mreturn\u001b[0m \u001b[0mret\u001b[0m\u001b[0;34m\u001b[0m\u001b[0m\n",
      "\u001b[0;32m~/anaconda3/lib/python3.6/site-packages/matplotlib/axes/_base.py\u001b[0m in \u001b[0;36m_makeline\u001b[0;34m(self, x, y, kw, kwargs)\u001b[0m\n\u001b[1;32m    299\u001b[0m         \u001b[0mdefault_dict\u001b[0m \u001b[0;34m=\u001b[0m \u001b[0mself\u001b[0m\u001b[0;34m.\u001b[0m\u001b[0m_getdefaults\u001b[0m\u001b[0;34m(\u001b[0m\u001b[0;32mNone\u001b[0m\u001b[0;34m,\u001b[0m \u001b[0mkw\u001b[0m\u001b[0;34m)\u001b[0m\u001b[0;34m\u001b[0m\u001b[0m\n\u001b[1;32m    300\u001b[0m         \u001b[0mself\u001b[0m\u001b[0;34m.\u001b[0m\u001b[0m_setdefaults\u001b[0m\u001b[0;34m(\u001b[0m\u001b[0mdefault_dict\u001b[0m\u001b[0;34m,\u001b[0m \u001b[0mkw\u001b[0m\u001b[0;34m)\u001b[0m\u001b[0;34m\u001b[0m\u001b[0m\n\u001b[0;32m--> 301\u001b[0;31m         \u001b[0mseg\u001b[0m \u001b[0;34m=\u001b[0m \u001b[0mmlines\u001b[0m\u001b[0;34m.\u001b[0m\u001b[0mLine2D\u001b[0m\u001b[0;34m(\u001b[0m\u001b[0mx\u001b[0m\u001b[0;34m,\u001b[0m \u001b[0my\u001b[0m\u001b[0;34m,\u001b[0m \u001b[0;34m**\u001b[0m\u001b[0mkw\u001b[0m\u001b[0;34m)\u001b[0m\u001b[0;34m\u001b[0m\u001b[0m\n\u001b[0m\u001b[1;32m    302\u001b[0m         \u001b[0;32mreturn\u001b[0m \u001b[0mseg\u001b[0m\u001b[0;34m\u001b[0m\u001b[0m\n\u001b[1;32m    303\u001b[0m \u001b[0;34m\u001b[0m\u001b[0m\n",
      "\u001b[0;32m~/anaconda3/lib/python3.6/site-packages/matplotlib/lines.py\u001b[0m in \u001b[0;36m__init__\u001b[0;34m(self, xdata, ydata, linewidth, linestyle, color, marker, markersize, markeredgewidth, markeredgecolor, markerfacecolor, markerfacecoloralt, fillstyle, antialiased, dash_capstyle, solid_capstyle, dash_joinstyle, solid_joinstyle, pickradius, drawstyle, markevery, **kwargs)\u001b[0m\n\u001b[1;32m    424\u001b[0m         \u001b[0;31m# update kwargs before updating data to give the caller a\u001b[0m\u001b[0;34m\u001b[0m\u001b[0;34m\u001b[0m\u001b[0m\n\u001b[1;32m    425\u001b[0m         \u001b[0;31m# chance to init axes (and hence unit support)\u001b[0m\u001b[0;34m\u001b[0m\u001b[0;34m\u001b[0m\u001b[0m\n\u001b[0;32m--> 426\u001b[0;31m         \u001b[0mself\u001b[0m\u001b[0;34m.\u001b[0m\u001b[0mupdate\u001b[0m\u001b[0;34m(\u001b[0m\u001b[0mkwargs\u001b[0m\u001b[0;34m)\u001b[0m\u001b[0;34m\u001b[0m\u001b[0m\n\u001b[0m\u001b[1;32m    427\u001b[0m         \u001b[0mself\u001b[0m\u001b[0;34m.\u001b[0m\u001b[0mpickradius\u001b[0m \u001b[0;34m=\u001b[0m \u001b[0mpickradius\u001b[0m\u001b[0;34m\u001b[0m\u001b[0m\n\u001b[1;32m    428\u001b[0m         \u001b[0mself\u001b[0m\u001b[0;34m.\u001b[0m\u001b[0mind_offset\u001b[0m \u001b[0;34m=\u001b[0m \u001b[0;36m0\u001b[0m\u001b[0;34m\u001b[0m\u001b[0m\n",
      "\u001b[0;32m~/anaconda3/lib/python3.6/site-packages/matplotlib/artist.py\u001b[0m in \u001b[0;36mupdate\u001b[0;34m(self, props)\u001b[0m\n\u001b[1;32m    845\u001b[0m         \u001b[0;32mtry\u001b[0m\u001b[0;34m:\u001b[0m\u001b[0;34m\u001b[0m\u001b[0m\n\u001b[1;32m    846\u001b[0m             ret = [_update_property(self, k, v)\n\u001b[0;32m--> 847\u001b[0;31m                    for k, v in props.items()]\n\u001b[0m\u001b[1;32m    848\u001b[0m         \u001b[0;32mfinally\u001b[0m\u001b[0;34m:\u001b[0m\u001b[0;34m\u001b[0m\u001b[0m\n\u001b[1;32m    849\u001b[0m             \u001b[0mself\u001b[0m\u001b[0;34m.\u001b[0m\u001b[0meventson\u001b[0m \u001b[0;34m=\u001b[0m \u001b[0mstore\u001b[0m\u001b[0;34m\u001b[0m\u001b[0m\n",
      "\u001b[0;32m~/anaconda3/lib/python3.6/site-packages/matplotlib/artist.py\u001b[0m in \u001b[0;36m<listcomp>\u001b[0;34m(.0)\u001b[0m\n\u001b[1;32m    845\u001b[0m         \u001b[0;32mtry\u001b[0m\u001b[0;34m:\u001b[0m\u001b[0;34m\u001b[0m\u001b[0m\n\u001b[1;32m    846\u001b[0m             ret = [_update_property(self, k, v)\n\u001b[0;32m--> 847\u001b[0;31m                    for k, v in props.items()]\n\u001b[0m\u001b[1;32m    848\u001b[0m         \u001b[0;32mfinally\u001b[0m\u001b[0;34m:\u001b[0m\u001b[0;34m\u001b[0m\u001b[0m\n\u001b[1;32m    849\u001b[0m             \u001b[0mself\u001b[0m\u001b[0;34m.\u001b[0m\u001b[0meventson\u001b[0m \u001b[0;34m=\u001b[0m \u001b[0mstore\u001b[0m\u001b[0;34m\u001b[0m\u001b[0m\n",
      "\u001b[0;32m~/anaconda3/lib/python3.6/site-packages/matplotlib/artist.py\u001b[0m in \u001b[0;36m_update_property\u001b[0;34m(self, k, v)\u001b[0m\n\u001b[1;32m    838\u001b[0m                 \u001b[0mfunc\u001b[0m \u001b[0;34m=\u001b[0m \u001b[0mgetattr\u001b[0m\u001b[0;34m(\u001b[0m\u001b[0mself\u001b[0m\u001b[0;34m,\u001b[0m \u001b[0;34m'set_'\u001b[0m \u001b[0;34m+\u001b[0m \u001b[0mk\u001b[0m\u001b[0;34m,\u001b[0m \u001b[0;32mNone\u001b[0m\u001b[0;34m)\u001b[0m\u001b[0;34m\u001b[0m\u001b[0m\n\u001b[1;32m    839\u001b[0m                 \u001b[0;32mif\u001b[0m \u001b[0;32mnot\u001b[0m \u001b[0mcallable\u001b[0m\u001b[0;34m(\u001b[0m\u001b[0mfunc\u001b[0m\u001b[0;34m)\u001b[0m\u001b[0;34m:\u001b[0m\u001b[0;34m\u001b[0m\u001b[0m\n\u001b[0;32m--> 840\u001b[0;31m                     \u001b[0;32mraise\u001b[0m \u001b[0mAttributeError\u001b[0m\u001b[0;34m(\u001b[0m\u001b[0;34m'Unknown property %s'\u001b[0m \u001b[0;34m%\u001b[0m \u001b[0mk\u001b[0m\u001b[0;34m)\u001b[0m\u001b[0;34m\u001b[0m\u001b[0m\n\u001b[0m\u001b[1;32m    841\u001b[0m                 \u001b[0;32mreturn\u001b[0m \u001b[0mfunc\u001b[0m\u001b[0;34m(\u001b[0m\u001b[0mv\u001b[0m\u001b[0;34m)\u001b[0m\u001b[0;34m\u001b[0m\u001b[0m\n\u001b[1;32m    842\u001b[0m \u001b[0;34m\u001b[0m\u001b[0m\n",
      "\u001b[0;31mAttributeError\u001b[0m: Unknown property name"
     ]
    },
    {
     "data": {
      "image/png": "[encoded data removed]",
      "text/plain": [
       "<matplotlib.figure.Figure at 0x7fc76635a400>"
      ]
     },
     "metadata": {},
     "output_type": "display_data"
    }
   ],
   "source": [
    "plt.plot(range(10, len(cl_to_n), 5), wgs_fraction, = '322')\n",
    "plt.plot(range(10, len(cl_to_n), 5), pcr_fraction)"
   ]
  },
  {
   "cell_type": "code",
   "execution_count": 102,
   "metadata": {},
   "outputs": [
    {
     "data": {
      "text/plain": [
       "[0.11842105263157894,\n",
       " 0.18421052631578946,\n",
       " 0.23684210526315788,\n",
       " 0.3026315789473684,\n",
       " 0.35526315789473684,\n",
       " 0.3815789473684211,\n",
       " 0.3815789473684211,\n",
       " 0.40789473684210525,\n",
       " 0.4342105263157895,\n",
       " 0.4473684210526316,\n",
       " 0.4473684210526316,\n",
       " 0.4605263157894737,\n",
       " 0.4605263157894737,\n",
       " 0.4868421052631579,\n",
       " 0.5263157894736842,\n",
       " 0.5394736842105263,\n",
       " 0.5394736842105263,\n",
       " 0.5526315789473685,\n",
       " 0.5657894736842105,\n",
       " 0.618421052631579,\n",
       " 0.6710526315789473,\n",
       " 0.6710526315789473,\n",
       " 0.6710526315789473]"
      ]
     },
     "execution_count": 102,
     "metadata": {},
     "output_type": "execute_result"
    }
   ],
   "source": [
    "wgs_fraction"
   ]
  },
  {
   "cell_type": "code",
   "execution_count": 38,
   "metadata": {},
   "outputs": [
    {
     "data": {
      "text/plain": [
       "57"
      ]
     },
     "execution_count": 38,
     "metadata": {},
     "output_type": "execute_result"
    }
   ],
   "source": [
    "len(set(ec.cluster_to_index.keys()).intersection(set([x[1] for x in res])))"
   ]
  },
  {
   "cell_type": "code",
   "execution_count": 91,
   "metadata": {},
   "outputs": [
    {
     "data": {
      "text/plain": [
       "{'AAATCAATGCCAACTATAGGAACGTCGGGATTTAT',\n",
       " 'ACGGGAAAGCTAGAGGGTGTTTTGACTTTAGAGGA',\n",
       " 'AGTACATATAATGAGTCCTTAACATCAGTTATGAA',\n",
       " 'CAAAGAAGCTCCACCACATCTGTTTTTTATTATA',\n",
       " 'CAGCAAGAGTCGCAACAACATTAACAACTTCGGTA',\n",
       " 'GATTGTACTTTAGCGTCTGCACTAGCTTTGTCTA',\n",
       " 'GGAGTATAAGGTAAATCGTAAGCAACTCCAGTAAG',\n",
       " 'TAATTACAATATTATCTCCAGCATCAAGACTAGG',\n",
       " 'TCATAACCAAAAACTTCAAAATCAAGACCTCGAAT',\n",
       " 'TGCGCTATAACATGCTGAAAACTGCAATTTCGAA'}"
      ]
     },
     "execution_count": 91,
     "metadata": {},
     "output_type": "execute_result"
    }
   ],
   "source": [
    "set([x for x in cl_to_n.keys()][:10])"
   ]
  },
  {
   "cell_type": "code",
   "execution_count": 24,
   "metadata": {},
   "outputs": [
    {
     "data": {
      "text/plain": [
       "{'AAAAGCGTTCTTAAATCGTTACTTAACTCTTGCAA',\n",
       " 'AAAATTATAGACAGAATGATAAATGTATTTGATGC',\n",
       " 'AAAATTATAGACAGAATGATAAATGTATTTGCTGC',\n",
       " 'AAACCAATCTTTTTTCCTTGAATCTTTTAAAAGTT',\n",
       " 'AAACCAATCTTTTTTCCTTGAATCTTTTAACAGTT',\n",
       " 'AAACCAATCTTTTTTCCTTGAATCTTTTATAAGTT',\n",
       " 'AAACCAATGCCAACTATAGGAACGTCGGGATTAAT',\n",
       " 'AAAGATTGCAATAGATTTCCTGTTAAAATACGTAC',\n",
       " 'AAAGATTGCAATAGATTTCCTGTTAAAATAGGTAC',\n",
       " 'AAAGATTGCAATAGATTTCCTGTTAAAATATGTAC',\n",
       " 'AAAGATTGCAATAGATTTCCTGTTTAAATAGGTAC',\n",
       " 'AAAGATTGCAATATATTTCCTGTTAAAATAGGTAC',\n",
       " 'AAAGATTGCTATAGATTTCCTGTTAAAATAGGTAC',\n",
       " 'AAAGGTGTCCATTGATTTCTTTCAGTTTCGGGAA',\n",
       " 'AAATCAATGCAAACTATAGGAACGTCGGGATTAAT',\n",
       " 'AAATCAATGCCAACTATAGGAACGTCGGAATTAAT',\n",
       " 'AAATCAATGCCAACTATAGGAACGTCGGGACTAAT',\n",
       " 'AAATCAATGCCAACTATAGGAACGTCGGGATCAAT',\n",
       " 'AAATCAATGCCAACTATAGGAACGTCGGGATTAAT',\n",
       " 'AAATCAATGCCAACTATAGGAACGTCGGGATTATT',\n",
       " 'AAATCAATGCCAACTATAGGAACGTCGGGATTTAT',\n",
       " 'AAATCAATGCCAACTATAGGAACGTCGGTATTAAT',\n",
       " 'AAATCAATGCCAACTATAGGAACGTCGTGATTAAT',\n",
       " 'AAATCAATGCCAACTATAGGAACGTCTGGATTAAT',\n",
       " 'AAATCAATGCCAACTATAGGAACTTCGGGATTAAT',\n",
       " 'AAATCAATGCCAACTATAGGATCGTCGGGATTAAT',\n",
       " 'AAATCAATGCCAACTATAGGTACGTCGGGATTAAT',\n",
       " 'AAATCAATGCCAACTATATGAACGTCGGGATTAAT',\n",
       " 'AAATCAATGCCTACTATAGGAACGTCGGGATTAAT',\n",
       " 'AAATCAATTCCAACTATAGGAACGTCGGGATTAAT',\n",
       " 'AACAACGTCATATATATCATCTTTAGTTGTAAGAG',\n",
       " 'AACGTACAAAATGTAGCTATTATCATCTTTTAGATA',\n",
       " 'AACTCTTCAATATCTCCTAATCGTTCAATATAATTC',\n",
       " 'AACTTCTTGTTTTTTCTTTAAAACATGTACTTGG',\n",
       " 'AACTTCTTGTTTTTTCTTTATAACATGTACTTGG',\n",
       " 'AACTTTATATCTCCATTTGCATATCCATCTGATGA',\n",
       " 'AAGCTTTCATAGCATCCTCTTCTGAACATTCATCA',\n",
       " 'AAGGTTTGACCTGCGTTTTTATATGCATCTGAATA',\n",
       " 'AATATAACAAAGTGGATGTTCTCTAAAAATAAAGA',\n",
       " 'AATGATTGCAATAGATTTCCTGTTAAAATAGGTAC',\n",
       " 'AATGGAAGCAAGATAATTTTTAAAGGTATGGATAA',\n",
       " 'AATGGAAGCAAGATAATTTTTAAAGGTATGGCTAA',\n",
       " 'AATGGAAGCAAGATAATTTTTAAAGGTATGTATAA',\n",
       " 'AATGGAAGCAAGATAATTTTTAAAGTTATGGATAA',\n",
       " 'AATGGAAGCAAGATAATTTTTAAATGTATGGATAA',\n",
       " 'AATGGAAGCAATATAATTTTTAAAGGTATGGATAA',\n",
       " 'AATTCAATGCCAACTATAGGAACGTCGGGATTAAT',\n",
       " 'ACAAACAAGTGTAGGATAAACTTTCCTTGCCCAGTA',\n",
       " 'ACAACAGGAACATCAACTGGTGGGTCTATTGGAG',\n",
       " 'ACATATGTCGCTTCATCAGCAGGAACAGATAACA',\n",
       " 'ACATTATCAACATCATCTAATTTTTTTGTCACTG',\n",
       " 'ACGATATTTTTATATTCTATTGTTGTTATCTTATT',\n",
       " 'ACGGGAAAGCCAGAGGGTGTTTGGACTTTAGAGGA',\n",
       " 'ACGGGAAAGCTAGAGGGTGTTTGGACTTTAGAGCA',\n",
       " 'ACGGGAAAGCTAGAGGGTGTTTGGACTTTAGAGGA',\n",
       " 'ACGGGAAAGCTAGAGGGTGTTTGGACTTTAGATGA',\n",
       " 'ACGGGAAAGCTAGAGGGTGTTTGGTCTTTAGAGGA',\n",
       " 'ACGGGAAAGCTAGAGGGTGTTTTGACTTTAGAGGA',\n",
       " 'ACGGGAAAGCTAGAGTGTGTTTGGACTTTAGAGGA',\n",
       " 'ACGGGAAAGCTAGATGGTGTTTGGACTTTAGAGGA',\n",
       " 'ACGGGAAATCTAGAGGGTGTTTGGACTTTAGAGGA',\n",
       " 'ACGGGATAGCTAGAGGGTGTTTGGACTTTAGAGGA',\n",
       " 'ACGTGAAAGCTAGAGGGTGTTTGGACTTTAGAGGA',\n",
       " 'ACTGGAAAGCTAGAGGGTGTTTGGACTTTAGAGGA',\n",
       " 'ACTGTATGCCATCTAAATGCATCATACAAACTTAT',\n",
       " 'ACTTTCTGTAGCTCTATAGATAAATAAGGTGCTA',\n",
       " 'ACTTTTTCACGACATTTTTTTATAAAAGGAGGTAT',\n",
       " 'AGACTCGACATAGAATCGGTTACTAAATCCGAGGGTTTC',\n",
       " 'AGAGAGAAGGGCTATTCTCTCTAGGATTATCCTTAC',\n",
       " 'AGAGAGAAGGGCTATTCTCTCTAGGCTTATCCCTAC',\n",
       " 'AGAGAGAAGGGCTATTCTCTCTAGGCTTATCCTTAC',\n",
       " 'AGAGAGAAGGGCTATTCTCTCTATGCTTATCCTTAC',\n",
       " 'AGAGAGAAGGGCTTTTCTCTCTAGGCTTATCCTTAC',\n",
       " 'AGAGAGAAGGTCTATTCTCTCTAGGCTTATCCTTAC',\n",
       " 'AGAGAGAAGTGCTATTCTCTCTAGGCTTATCCTTAC',\n",
       " 'AGAGAGAATGGCTATTCTCTCTAGGCTTATCCTTAC',\n",
       " 'AGAGGCAACTAATTGCTTATGAGTCTGCTAGTCTT',\n",
       " 'AGAGTAAAACAATAGTACAAGAACAAATAAATAC',\n",
       " 'AGAGTAAAACAATAGTACAAGAACAAATAACTAC',\n",
       " 'AGAGTAAAACAATAGTACAAGAACATATAAATAC',\n",
       " 'AGAGTAAAACAATAGTACAAGATCAAATAAATAC',\n",
       " 'AGAGTATAAGGTAAATCGTAAGCAACTCCAGAAAG',\n",
       " 'AGGAGATAACTTCTATTAAAGATAACTTTGATGTG',\n",
       " 'AGGATAAAGAAAAGACTCACACAAGACACAGTGTC',\n",
       " 'AGGATAAAGAAAAGACTCACACAAGGCACAGTGTC',\n",
       " 'AGGGTTTCTGATAAAATCTTCAAACATGTAAAATAT',\n",
       " 'AGGTATACACCTTCTACTCTTGTAAGAGTACCATA',\n",
       " 'AGTACATACAAAGAGTCTATAAAATTATCTATAAA',\n",
       " 'AGTACATATAATGAGTCCTTAACATCAGTTATGAA',\n",
       " 'AGTACATATAATGAGTCTTTAACATCAGTTACGAA',\n",
       " 'AGTACATATAATGAGTCTTTAACATCAGTTATGAA',\n",
       " 'AGTACATATAATGAGTCTTTAACATCAGTTCTGAA',\n",
       " 'AGTACATATAATGAGTCTTTAACATCTGTTATGAA',\n",
       " 'AGTACATATAATGAGTCTTTTACATCAGTTATGAA',\n",
       " 'AGTACATATAATGATTCTTTAACATCAGTTATGAA',\n",
       " 'AGTACATATAATTAGTCTTTAACATCAGTTATGAA',\n",
       " 'AGTACATTTAATGAGTCTTTAACATCAGTTATGAA',\n",
       " 'AGTATTTCAGCAATTTTACTTTTAATAACTTTATCA',\n",
       " 'AGTTCATATAATGAGTCTTTAACATCAGTTATGAA',\n",
       " 'ATAATCCAGAAGATGATACACTTCTTGAACAATATAT',\n",
       " 'ATACCAATCTTTTTTCCTTGAATCTTTTAAAAGTT',\n",
       " 'ATAGATTGCAATAGATTTCCTGTTAAAATAGGTAC',\n",
       " 'ATAGTCCTTTTCTAAATTTAGAATCAAGTTTTGGA',\n",
       " 'ATATCAATGCCAACTATAGGAACGTCGGGATTAAT',\n",
       " 'ATCTTCTTGTTTTTTCTTTAAAACATGTACTTGG',\n",
       " 'ATGGATGCAGTTTTAGGTGATGCTTATATGGTTCA',\n",
       " 'ATTGCAACACTTCATCAGTTGATAAATATAGTATA',\n",
       " 'ATTTGATTTTAATGGTACGTTTTCGCTTTCTCTA',\n",
       " 'CAAAGAAGCCCCACCCCATCTGTTTTTTATTATA',\n",
       " 'CAAAGAAGCTACACCCCATCTGTTTTTTATTATA',\n",
       " 'CAAAGAAGCTCCAACCCATCTGTTTTTTATTATA',\n",
       " 'CAAAGAAGCTCCACCACATCTGTTTTTTATTATA',\n",
       " 'CAAAGAAGCTCCACCCCATCTGTTTTTATTATA',\n",
       " 'CAAAGAAGCTCCACCCCATCTGTTTTTTATTATA',\n",
       " 'CAAAGAAGCTCCACCCCATCTGTTTTTTATTTTA',\n",
       " 'CAAAGAAGCTCCACCCCATCTTTTTTTTATTATA',\n",
       " 'CAAAGAAGCTCCACCCCTTCTGTTTTTTATTATA',\n",
       " 'CAAAGAAGCTCTACCCCATCTGTTTTTTATTATA',\n",
       " 'CAAAGAAGCTTCACCCCATCTGTTTTTTATTATA',\n",
       " 'CAAAGAAGTTCCACCCCATCTGTTTTTTATTATA',\n",
       " 'CAAAGAATCTCCACCCCATCTGTTTTTTATTATA',\n",
       " 'CAAAGTGCTAGGTCACTAAATGATGCAACAGTAGA',\n",
       " 'CAACAAGAGTCGCAACAACATTAACAACTTCGGGA',\n",
       " 'CAGCAAGAGTAGCAACAACATTAACAACTTCGGGA',\n",
       " 'CAGCAAGAGTCGCAACAACATTAACAACTTAGGGA',\n",
       " 'CAGCAAGAGTCGCAACAACATTAACAACTTCCGGA',\n",
       " 'CAGCAAGAGTCGCAACAACATTAACAACTTCGGGA',\n",
       " 'CAGCAAGAGTCGCAACAACATTAACAACTTCGGTA',\n",
       " 'CAGCAAGAGTCGCAACAACATTAACAACTTCGTGA',\n",
       " 'CAGCAAGAGTCGCAACAACATTAACAACTTCTGGA',\n",
       " 'CAGCAAGAGTCGCAACAACATTAACATCTTCGGGA',\n",
       " 'CAGCAAGAGTCGCAACAACATTAGCAACTTCGGGA',\n",
       " 'CAGCAAGAGTCGCAACAACATTATCAACTTCGGGA',\n",
       " 'CAGCAAGAGTCGCAACTACATTAACAACTTCGGGA',\n",
       " 'CAGCAAGAGTCGCATCAACATTAACAACTTCGGGA',\n",
       " 'CAGCAAGAGTCTCAACAACATTAACAACTTCGGGA',\n",
       " 'CAGCCAAAAACTTCGAATTTGAACTAAAATGCGT',\n",
       " 'CAGCTAGAGTCGCAACAACATTAACAACTTCGGGA',\n",
       " 'CATCAAGAGTCGCAACAACATTAACAACTTCGGGA',\n",
       " 'CATGCTGATAAGAATCTCTATGAACTTCGGAGGGAAC',\n",
       " 'CCAATTATGTACAGTTTAGTTACTGTGTTAAGTC',\n",
       " 'CCATCAGCCTTATCCTGTGCAAATAATAGTGCCA',\n",
       " 'CCTGTAGCACCTTTTATTATATTCTGCACTGAACC',\n",
       " 'CCTGTATTCTGTTTAATGCTTCAATAGCTCTTTC',\n",
       " 'CGAAAAATCTAGGAAAAACTATTGTAAAAGCGTT',\n",
       " 'CGAATTTCATGGCTTTGAATTTATTTATATGTAG',\n",
       " 'CGAGTTGGCATCCAAGCATTTTTCACAGATTTTAA',\n",
       " 'CGGCTACAACGGTATAAATTAAATTTAGCAGGGT',\n",
       " 'CGTATTAACACCTGTTCGGCACTATCACAATAAACAC',\n",
       " 'CGTATTAACACCTGTTCTGCACTATCACAATAAACAC',\n",
       " 'CGTTCTTGGAATGATAAATATAGAATTGGCTGGA',\n",
       " 'CGTTCTTGGAATGATAAATATAGAATTGGTTGGA',\n",
       " 'CGTTCTTGGAATGATAAATATAGAATTGGTTTGA',\n",
       " 'CGTTCTTGGAATGATAAATATAGAATTTGTTGGA',\n",
       " 'CGTTCTTTGAATGATAAATATAGAATTGGTTGGA',\n",
       " 'CTAAAGCAACTAAAGCATATGATTTATCTAACA',\n",
       " 'CTAAAGCAACTAAAGCATATTATTTATCTAACA',\n",
       " 'CTAAAGCAACTAAATCATATGATTTATCTAACA',\n",
       " 'CTAAGAAGCTCCACCCCATCTGTTTTTTATTATA',\n",
       " 'CTAGAATTAGAACTCATTATTAAAACCATTCTTGCA',\n",
       " 'CTATCGGCTTCTTGAAAAGCCTCATCTGCTCTATT',\n",
       " 'CTGATAGAAAAAGAAGATTATTTGAAAGTTGAGAC',\n",
       " 'CTGATAGAAAAAGAAGATTATTTGAAAGTTGCGAC',\n",
       " 'CTGATAGAAAAAGAATATTATTTGAAAGTTGAGA',\n",
       " 'CTGATAGAAAAGGAAGATTATTTGAAAGTTGAGAC',\n",
       " 'CTGATAGAAATAGAAGATTATTTGAAAGTTGAGAC',\n",
       " 'CTGCAAGAGTCGCAACAACATTAACAACTTCGGGA',\n",
       " 'CTTGTTAATGCAAATAAACAACATAGCACTATTAA',\n",
       " 'GAAATAATAAATAGCATTGTCGAATGGTTTGCAAG',\n",
       " 'GAAATAATAAATAGCATTGTCGAATGGTTTGCAAT',\n",
       " 'GAAATAATAAATAGCATTGTCGATTGGTTTGCAAG',\n",
       " 'GAAATAATAAATATCATTGTCGAATGGTTTGCAAG',\n",
       " 'GAAGTATAAGGTAAATCGTAAGCAACTCCAGAAAG',\n",
       " 'GAATAACCAAAAACTTCAAAATCAAGACCTCGAAT',\n",
       " 'GAATTACAATATTATCTACAGCATCAAGACTAGG',\n",
       " 'GAATTACAATATTATCTCAAGCATCAAGACTAGG',\n",
       " 'GAATTACAATATTATCTCCAGCATCAAGACCAGG',\n",
       " 'GAATTACAATATTATCTCCAGCATCAAGACTAGG',\n",
       " 'GAATTACAATATTATCTCCAGCATCAAGACTAGT',\n",
       " 'GAATTACAATATTATCTCCAGCATCAAGACTATG',\n",
       " 'GAATTACAATATTATCTCCAGCATCAAGACTTGG',\n",
       " 'GAATTACAATATTATCTCCAGCATCAAGGCTAGG',\n",
       " 'GAATTACAATATTATCTCCAGCATCAAGTCTAGG',\n",
       " 'GAATTACAATATTATCTCCAGCATCTAGACTAGG',\n",
       " 'GAATTACAATATTATCTCCATCATCAAGACTAGG',\n",
       " 'GAATTACTATATTATCTCCAGCATCAAGACTAGG',\n",
       " 'GAATTATATATTGCAAAAAAATATGGAGTCACAG',\n",
       " 'GAATTATATATTGCAAAAAAATATGGAGTCCCAG',\n",
       " 'GAATTATATATTGCAAAAAATATGGAGTCACAG',\n",
       " 'GAATTTCAATATTATCTCCAGCATCAAGACTAGG',\n",
       " 'GACAAAGCGACTATTACTATCTCAGGTGATAAAA',\n",
       " 'GACTGTACTTTAGCGTCTGCACTAGCTTTGTCTA',\n",
       " 'GATATAATAAATAGCATTGTCGAATGGTTTGCAAG',\n",
       " 'GATGAACAATAAAACAATCATCTAAAGACGAAGA',\n",
       " 'GATTATACTTTAGCGTCTGCACTAGCTTTGTCTA',\n",
       " 'GATTGCACTTTAGCGTCTGCACTAGCTTTGTCTA',\n",
       " 'GATTGTACCTTAGCGTCTGCACTAGCTTTGTCTA',\n",
       " 'GATTGTACTTTAACGTCTGCACTAGCTTTGTCTA',\n",
       " 'GATTGTACTTTAGAGTCTGCACTAGCTTTGTCTA',\n",
       " 'GATTGTACTTTAGCGCCTGCACTAGCTTTGTCTA',\n",
       " 'GATTGTACTTTAGCGTCCGCACTAGCTTTGTCTA',\n",
       " 'GATTGTACTTTAGCGTCTACACTAGCTTTGTCTA',\n",
       " 'GATTGTACTTTAGCGTCTGAACTAGCTTTGTCTA',\n",
       " 'GATTGTACTTTAGCGTCTGCACCAGCTTTGTCTA',\n",
       " 'GATTGTACTTTAGCGTCTGCACTAGATTTGTCTA',\n",
       " 'GATTGTACTTTAGCGTCTGCACTAGCCTTGTCTA',\n",
       " 'GATTGTACTTTAGCGTCTGCACTAGCTTCGTCTA',\n",
       " 'GATTGTACTTTAGCGTCTGCACTAGCTTTATCTA',\n",
       " 'GATTGTACTTTAGCGTCTGCACTAGCTTTCTCTA',\n",
       " 'GATTGTACTTTAGCGTCTGCACTAGCTTTGCCTA',\n",
       " 'GATTGTACTTTAGCGTCTGCACTAGCTTTGGCTA',\n",
       " 'GATTGTACTTTAGCGTCTGCACTAGCTTTGTATA',\n",
       " 'GATTGTACTTTAGCGTCTGCACTAGCTTTGTCTA',\n",
       " 'GATTGTACTTTAGCGTCTGCACTAGCTTTGTCTT',\n",
       " 'GATTGTACTTTAGCGTCTGCACTAGCTTTGTGTA',\n",
       " 'GATTGTACTTTAGCGTCTGCACTAGCTTTGTTTA',\n",
       " 'GATTGTACTTTAGCGTCTGCACTAGCTTTTTCTA',\n",
       " 'GATTGTACTTTAGCGTCTGCACTATCTTTGTCTA',\n",
       " 'GATTGTACTTTAGCGTCTGCACTTGCTTTGTCTA',\n",
       " 'GATTGTACTTTAGCGTCTGCATTAGCTTTGTCTA',\n",
       " 'GATTGTACTTTAGCGTCTGCTCTAGCTTTGTCTA',\n",
       " 'GATTGTACTTTAGCGTCTGTACTAGCTTTGTCTA',\n",
       " 'GATTGTACTTTAGCGTCTTCACTAGCTTTGTCTA',\n",
       " 'GATTGTACTTTAGCGTTTGCACTAGCTTTGTCTA',\n",
       " 'GATTGTACTTTAGCTTCTGCACTAGCTTTGTCTA',\n",
       " 'GATTGTACTTTAGTGTCTGCACTAGCTTTGTCTA',\n",
       " 'GATTGTACTTTATCGTCTGCACTAGCTTTGTCTA',\n",
       " 'GATTGTATTTTAGCGTCTGCACTAGCTTTGTCTA',\n",
       " 'GATTGTTCTTTAGCGTCTGCACTAGCTTTGTCTA',\n",
       " 'GATTTTACTTTAGCGTCTGCACTAGCTTTGTCTA',\n",
       " 'GATTTTAGAACTTCATCCACAAACGAGCTCTCTA',\n",
       " 'GATTTTAGAACTTCATCCACAAACGAGCTTCCTA',\n",
       " 'GATTTTAGAACTTCATCCACAAACGAGCTTTCTA',\n",
       " 'GATTTTAGAACTTCATCCACAAACGATCTTTCTA',\n",
       " 'GATTTTAGAACTTCATCCACAAACTAGCTTTCTA',\n",
       " 'GCAGAAGAAACAGGTTTCAAAACGATAAAAAAATA',\n",
       " 'GCAGAAGAAACAGGTTTCAAAACGATAAAAAATA',\n",
       " 'GCAGAAGATTTAGCGACTGTTGTTGCTGAATGGGA',\n",
       " 'GCATAAACAAAAACTTCAAAATCAAGACCTCGAAT',\n",
       " 'GCATAACCAAAAACTTAAAAATCAAGACCTCGAAT',\n",
       " 'GCATAACCAAAAACTTCAAAATCAAGACCTAGAAT',\n",
       " 'GCATAACCAAAAACTTCAAAATCAAGACCTCCAAT',\n",
       " 'GCATAACCAAAAACTTCAAAATCAAGACCTCGAAT',\n",
       " 'GCATAACCAAAAACTTCAAAATCAAGACCTCGACT',\n",
       " 'GCATAACCAAAAACTTCAAAATCAAGACCTCGATT',\n",
       " 'GCATAACCAAAAACTTCAAAATCAAGACCTCGTAT',\n",
       " 'GCATAACCAAAAACTTCAAAATCAAGACCTCTAAT',\n",
       " 'GCATAACCAAAAACTTCAAAATCAAGATCTCGAAT',\n",
       " 'GCATAACCAAAAACTTCAAAATCAAGGCCTCGAAT',\n",
       " 'GCATAACCAAAAACTTCAAAATCAATACCTCGAAT',\n",
       " 'GCATAACCAAAAACTTCAAAATCTAGACCTCGAAT',\n",
       " 'GCATAACCAAAAACTTCATAATCAAGACCTCGAAT',\n",
       " 'GCATAACCAAAATCTTCAAAATCAAGACCTCGAAT',\n",
       " 'GCATAACCAAATACTTCAAAATCAAGACCTCGAAT',\n",
       " 'GCATAACCAACAACTTCAAAATCAAGACCTCGAAT',\n",
       " 'GCATAACCAATAACTTCAAAATCAAGACCTCGAAT',\n",
       " 'GCATATCCAAAAACTTCAAAATCAAGACCTCGAAT',\n",
       " 'GCGTACAAGGTTGAGAAGCTCCGCAATCTCAACGTC',\n",
       " 'GCTGAAAGTTTAAAAGTTTTAACTATAAATTCAGT',\n",
       " 'GCTTAACCAAAAACTTCAAAATCAAGACCTCGAAT',\n",
       " 'GGACATTTTAACCATAGACTATTTTACAAACAAAC',\n",
       " 'GGAGATTTAAAAGTTAACAACATAAAAATGATAGA',\n",
       " 'GGAGTATAAAGTAAATCGTAAGCAACTCCAGAAAG',\n",
       " 'GGAGTATAACGTAAATCGTAAGCAACTCCAGAAAG',\n",
       " 'GGAGTATAAGCTAAATCGTAAGCAACTCCAGAAAG',\n",
       " 'GGAGTATAAGGCAAATCGTAAGCAACTCCAGAAAG',\n",
       " 'GGAGTATAAGGTAAATAGTAAGCAACTCCAGAAAG',\n",
       " 'GGAGTATAAGGTAAATCATAAGCAACTCCAGAAAG',\n",
       " 'GGAGTATAAGGTAAATCCTAAGCAACTCCAGAAAG',\n",
       " 'GGAGTATAAGGTAAATCGCAAGCAACTCCAGAAAG',\n",
       " 'GGAGTATAAGGTAAATCGTAAGCAACCCCAGAAAG',\n",
       " 'GGAGTATAAGGTAAATCGTAAGCAACTACAGAAAG',\n",
       " 'GGAGTATAAGGTAAATCGTAAGCAACTCCAAAAAG',\n",
       " 'GGAGTATAAGGTAAATCGTAAGCAACTCCACAAAG',\n",
       " 'GGAGTATAAGGTAAATCGTAAGCAACTCCAGAAAA',\n",
       " 'GGAGTATAAGGTAAATCGTAAGCAACTCCAGAAAG',\n",
       " 'GGAGTATAAGGTAAATCGTAAGCAACTCCAGAAAT',\n",
       " 'GGAGTATAAGGTAAATCGTAAGCAACTCCAGAACG',\n",
       " 'GGAGTATAAGGTAAATCGTAAGCAACTCCAGAAGG',\n",
       " 'GGAGTATAAGGTAAATCGTAAGCAACTCCAGAATG',\n",
       " 'GGAGTATAAGGTAAATCGTAAGCAACTCCAGATAG',\n",
       " 'GGAGTATAAGGTAAATCGTAAGCAACTCCAGCAAG',\n",
       " 'GGAGTATAAGGTAAATCGTAAGCAACTCCAGTAAG',\n",
       " 'GGAGTATAAGGTAAATCGTAAGCAACTCCATAAAG',\n",
       " 'GGAGTATAAGGTAAATCGTAAGCAACTCCTGAAAG',\n",
       " 'GGAGTATAAGGTAAATCGTAAGCATCTCCAGAAAG',\n",
       " 'GGAGTATAAGGTAAATCGTAAGCTACTCCAGAAAG',\n",
       " 'GGAGTATAAGGTAAATCGTAAGTAACTCCAGAAAG',\n",
       " 'GGAGTATAAGGTAAATCGTAATCAACTCCAGAAAG',\n",
       " 'GGAGTATAAGGTAAATCGTATGCAACTCCAGAAAG',\n",
       " 'GGAGTATAAGGTAAATCGTTAGCAACTCCAGAAAG',\n",
       " 'GGAGTATAAGGTAAATCTTAAGCAACTCCAGAAAG',\n",
       " 'GGAGTATAAGGTAAATTGTAAGCAACTCCAGAAAG',\n",
       " 'GGAGTATAAGGTAATTCGTAAGCAACTCCAGAAAG',\n",
       " 'GGAGTATAAGGTATATCGTAAGCAACTCCAGAAAG',\n",
       " 'GGAGTATAAGGTTAATCGTAAGCAACTCCAGAAAG',\n",
       " 'GGAGTATAATGTAAATCGTAAGCAACTCCAGAAAG',\n",
       " 'GGAGTATTAGGTAAATCGTAAGCAACTCCAGAAAG',\n",
       " 'GGAGTTTAAGGTAAATCGTAAGCAACTCCAGAAAG',\n",
       " 'GGATTATAATGTAAATCGTAAGCAACTCCAGAAAG',\n",
       " 'GGGAGCGCAAGCAGGGCTAAATCAAAATGACGAC',\n",
       " 'GGTGATAGTGGAAGTTTTACTTATACTTGGCGTGC',\n",
       " 'GGTGTATAAGGTAAATCGTAAGCAACTCCAGAAAG',\n",
       " 'GTAGAGTCTTTATATGGTAGAGGTGGAATATATAA',\n",
       " 'GTAGTATAAGGTAAATCGTAAGCAACTCCAGAAAG',\n",
       " 'GTATAACCAAAAACTTCAAAATCAAGACCTCGAAT',\n",
       " 'GTATTACAATATTATCTCCAGCATCAAGACTAGG',\n",
       " 'GTCTCGATATTGCTCATATGTTGAGTTATTATATT',\n",
       " 'GTTCCTGTTGTGTTTTTTACTAATCCCATTTTAT',\n",
       " 'GTTGTAAGAAGTATCATTCTATTTTTTAATCTTT',\n",
       " 'GTTTGAGAACGCTGTATAAAGCTTGTAGCTAGTTC',\n",
       " 'GTTTGTACTTTAGCGTCTGCACTAGCTTTGTCTA',\n",
       " 'GTTTTCAAAAAAAATGGAACAATCATACAAAATGA',\n",
       " 'GTTTTCAAAAAAATGGAACAATCATACAAAATGA',\n",
       " 'TAACAAAATTTGCGAGTACACTTATTTCTAATATA',\n",
       " 'TAACCTTTTTATTGTTGTTGTTATTCTTATTGTTAT',\n",
       " 'TAACTTTATAAAACCCAGTAATTGCAACACTTTTA',\n",
       " 'TAAGAATTAACTAATGTGAATTTTTTAGACATGTC',\n",
       " 'TAATAAGGGTTTTATAAGTTTAATTTTTTTATTT',\n",
       " 'TAATCTGACACATACAAAGTTGAACCTAGTGGTAC',\n",
       " 'TAATTACAATATTATCTCCAGCATCAAGACTAGG',\n",
       " 'TAATTGCATCAAGACCAGGATGGGAGATATGGCGA',\n",
       " 'TACAACGACTTATATTCTAAAATAAAAATGTAAACT',\n",
       " 'TAGATTGCTTTCAAATTACCTCTTGTATAGCGTC',\n",
       " 'TAGGATATAGAACGAAAGGTACGGACGGCAAATAT',\n",
       " 'TATACTTATAGGAGTTGGAATTATAATATTAACTAC',\n",
       " 'TATAGCTAATTATTAGATTCAATTTTAATTTCGTT',\n",
       " 'TATCTAAAACCCAATAGGATTGACACGTTACGAC',\n",
       " 'TATGAATATATTACATAATCATAAAGATTTACAAA',\n",
       " 'TATTGTACTTTAGCGTCTGCACTAGCTTTGTCTA',\n",
       " 'TATTTTACAGATGAACAATTACAGTTACTTCCTGA',\n",
       " 'TATTTTACAGATGAACAATTACAGTTACTTCTTGA',\n",
       " 'TATTTTAGAACTTCATCCACAAACGAGCTTTCTA',\n",
       " 'TCAATTTACCGTTTTTTTCAAATCTCACAACATCA',\n",
       " 'TCACACATGAGCAATATCGAAACAGGCAAATCTAC',\n",
       " 'TCAGCATCTATGCCATTTACTTTATTAACTTCCTC',\n",
       " 'TCATAACCAAAAACTTCAAAATCAAGACCTCGAAT',\n",
       " 'TCTATAATTATGCGTGATTTGATTGGTAGAAA',\n",
       " 'TGAAAATCTAGTTAAAAACTGCATCAAAGTATTG',\n",
       " 'TGAAAATCTAGTTAAAAACTGCATCAAAGTATTT',\n",
       " 'TGAAAATCTAGTTAAAAACTTCATCAAAGTATTG',\n",
       " 'TGAAACAAAATGCTGATGCAAGAAAAGAAAGTATCC',\n",
       " 'TGAACTTTAATCGGTTTTATACAACAATATAAC',\n",
       " 'TGACTCGTGCTATTTTTTTTACACGCCTAAGAGG',\n",
       " 'TGAGCAATAACATGCTGAAAACTGCAATTTCGAA',\n",
       " 'TGAGTATAAGGTAAATCGTAAGCAACTCCAGAAAG',\n",
       " 'TGCGCAACAACATGCTGAAAACTGCAATTTCGAA',\n",
       " 'TGCGCAATAACATGCTGAAAACTGCAATTCCGAA',\n",
       " 'TGCGCAATAACATGCTGAAAACTGCAATTTAGAA',\n",
       " 'TGCGCAATAACATGCTGAAAACTGCAATTTCCAA',\n",
       " 'TGCGCAATAACATGCTGAAAACTGCAATTTCGAA',\n",
       " 'TGCGCAATAACATGCTGAAAACTGCAATTTCGAT',\n",
       " 'TGCGCAATAACATGCTGAAAACTGCAATTTCGTA',\n",
       " 'TGCGCAATAACATGCTGAAAACTGCAATTTCTAA',\n",
       " 'TGCGCAATAACATGCTGAAAACTGCATTTTCGAA',\n",
       " 'TGCGCAATAACATGCTGAAAACTGCTATTTCGAA',\n",
       " 'TGCGCAATAACATGCTGAAAACTTCAATTTCGAA',\n",
       " 'TGCGCAATAACATGCTGAAAAGTGCAATTTCGAA',\n",
       " 'TGCGCAATAACATGCTGAAATCTGCAATTTCGAA',\n",
       " 'TGCGCAATAACATGCTGAATACTGCAATTTCGAA',\n",
       " 'TGCGCAATAACATGCTGATAACTGCAATTTCGAA',\n",
       " 'TGCGCAATAACATGCTGTAAACTGCAATTTCGAA',\n",
       " 'TGCGCAATAACATTCTGAAAACTGCAATTTCGAA',\n",
       " 'TGCGCAATATCATGCTGAAAACTGCAATTTCGAA',\n",
       " 'TGCGCTATAACATGCTGAAAACTGCAATTTCGAA',\n",
       " 'TGCGTAATAACATGCTGAAAACTGCAATTTCGAA',\n",
       " 'TGCTCAATAACATGCTGAAAACTGCAATTTCGAA',\n",
       " 'TGCTCAATAACATGCTGAAAACTGCAATTTCTAA',\n",
       " 'TGCTGTGATTTCAATAATAAAACAATTAATAATT',\n",
       " 'TGCTGTGATTTCAATAATAAAACAATTAATATTT',\n",
       " 'TGCTGTGCCACAATTTGATGCTTCTATAGCTAAAT',\n",
       " 'TGGTATATCATACTCGTGCATTGCCTGCTCCACA',\n",
       " 'TGGTTAAATCTCCAACAGAACATTTATCTAAATTAC',\n",
       " 'TGTGCAATAACATGCTGAAAACTGCAATTTCGAA',\n",
       " 'TGTGTTGCTGTCATACGAGGTAACATTTGTCTGTTT',\n",
       " 'TGTTTTCCATGAACATTTCGAGCTGACTTTTATT',\n",
       " 'TGTTTTCCATGAACATTTCGAGCTGACTTTTTTT',\n",
       " 'TTATACATATTTGTAGCTCCTTGCTGAACTGTTG',\n",
       " 'TTCATTAAATCCCCAACCGAATTATCTTTCAGCAT',\n",
       " 'TTCGCAACTTATGATGGTGAAATGATTACATTAAC',\n",
       " 'TTCGCAATAACATGCTGAAAACTGCAATTTCGAA',\n",
       " 'TTCGTAAAATAACAATTATCTGGAATATGAGAAG',\n",
       " 'TTGCTCCGCTATGCCTTGCGCTCTCTAATATCGCT',\n",
       " 'TTGTATTATTACTTTTTATCAGAATAATCAAAAGA',\n",
       " 'TTTCCCTGCATTAACAAAATCTTCAACATTCAAA',\n",
       " 'TTTGATTACATGGGCAGTTTTTTATTATAGAGTGT',\n",
       " 'TTTTAAGCTCCACCTTGTCTTAAAAGTTTAAGCAA'}"
      ]
     },
     "execution_count": 24,
     "metadata": {},
     "output_type": "execute_result"
    }
   ],
   "source": [
    "set(lines_pcr)"
   ]
  },
  {
   "cell_type": "code",
   "execution_count": 22,
   "metadata": {},
   "outputs": [
    {
     "data": {
      "text/plain": [
       "['GAATTATATATTGCAAAAAATATGGAGTCACAG',\n",
       " 'AAAATTATAGACAGAATGATAAATGTATTTGATGC',\n",
       " 'AAACCAATCTTTTTTCCTTGAATCTTTTAAAAGTT',\n",
       " 'AAAGATTGCAATAGATTTCCTGTTAAAATAGGTAC',\n",
       " 'AAATCAATGCCAACTATAGGAACGTCGGGATTAAT',\n",
       " 'CAAAGTGCTAGGTCACTAAATGATGCAACAGTAGA',\n",
       " 'GAATTATATATTGCAAAAAATATGGAGTCACAG',\n",
       " 'AACTTCTTGTTTTTTCTTTAAAACATGTACTTGG',\n",
       " 'TGAAAATCTAGTTAAAAACTGCATCAAAGTATTT',\n",
       " 'AAGGTTTGACCTGCGTTTTTATATGCATCTGAATA',\n",
       " 'AATGGAAGCAAGATAATTTTTAAAGGTATGGATAA',\n",
       " 'ACTTTCTGTAGCTCTATAGATAAATAAGGTGCTA',\n",
       " 'ACTTTTTCACGACATTTTTTTATAAAAGGAGGTAT',\n",
       " 'ACATTATCAACATCATCTAATTTTTTTGTCACTG',\n",
       " 'AGAGAGAAGGGCTATTCTCTCTAGGCTTATCCTTAC',\n",
       " 'AGAGTAAAACAATAGTACAAGAACAAATAAATAC',\n",
       " 'AGGGTTTCTGATAAAATCTTCAAACATGTAAAATAT',\n",
       " 'AGTACATATAATGAGTCTTTAACATCAGTTATGAA',\n",
       " 'GGAGTATAAGGTAAATCGTAAGCAACTCCAGAAGG',\n",
       " 'AGTATTTCAGCAATTTTACTTTTAATAACTTTATCA',\n",
       " 'AAGGTTTGACCTGCGTTTTTATATGCATCTGAATA',\n",
       " 'AGAGTAAAACAATAGTACAAGAACAAATAAATAC',\n",
       " 'ATAGTCCTTTTCTAAATTTAGAATCAAGTTTTGGA',\n",
       " 'ATTGCAACACTTCATCAGTTGATAAATATAGTATA',\n",
       " 'GTTTTCAAAAAAATGGAACAATCATACAAAATGA',\n",
       " 'CAAAGAAGCTCCACCCCATCTGTTTTTTATTATA',\n",
       " 'CAGCAAGAGTCGCAACAACATTAACAACTTCGGGA',\n",
       " 'CATGCTGATAAGAATCTCTATGAACTTCGGAGGGAAC',\n",
       " 'CCAATTATGTACAGTTTAGTTACTGTGTTAAGTC',\n",
       " 'CGGCTACAACGGTATAAATTAAATTTAGCAGGGT',\n",
       " 'CGTATTAACACCTGTTCGGCACTATCACAATAAACAC',\n",
       " 'CTAAAGCAACTAAAGCATATGATTTATCTAACA',\n",
       " 'CTATCGGCTTCTTGAAAAGCCTCATCTGCTCTATT',\n",
       " 'CTGATAGAAAAAGAAGATTATTTGAAAGTTGAGAC',\n",
       " 'CTAAAGCAACTAAAGCATATTATTTATCTAACA',\n",
       " 'TTGTATTATTACTTTTTATCAGAATAATCAAAAGA',\n",
       " 'CTTGTTAATGCAAATAAACAACATAGCACTATTAA',\n",
       " 'GAAATAATAAATAGCATTGTCGAATGGTTTGCAAG',\n",
       " 'GAAATAATAAATAGCATTGTCGAATGGTTTGCAAT',\n",
       " 'GAATTACAATATTATCTCCAGCATCAAGACTTGG',\n",
       " 'GAATTACAATATTATCTCCAGCATCAAGACTAGG',\n",
       " 'GAATTATATATTGCAAAAAAATATGGAGTCACAG',\n",
       " 'TGAAAATCTAGTTAAAAACTGCATCAAAGTATTG',\n",
       " 'GATTGTACTTTAGCGTCTGCACTAGCTTTGTCTA',\n",
       " 'GATTTTAGAACTTCATCCACAAACGAGCTTTCTA',\n",
       " 'GCAGAAGAAACAGGTTTCAAAACGATAAAAAAATA',\n",
       " 'GCATAACCAAAAACTTCAAAATCAAGACCTCGATT',\n",
       " 'GGAGTATAAGGTAAATCGTAAGCAACTCCAGAAAA',\n",
       " 'TAATTGCATCAAGACCAGGATGGGAGATATGGCGA',\n",
       " 'GTTGTAAGAAGTATCATTCTATTTTTTAATCTTT',\n",
       " 'GTTTTCAAAAAAAATGGAACAATCATACAAAATGA',\n",
       " 'TAACCTTTTTATTGTTGTTGTTATTCTTATTGTTAT',\n",
       " 'TAACTTTATAAAACCCAGTAATTGCAACACTTTTA',\n",
       " 'GAATTATATATTGCAAAAAATATGGAGTCACAG',\n",
       " 'TATAGCTAATTATTAGATTCAATTTTAATTTCGTT',\n",
       " 'CTAAAGCAACTAAATCATATGATTTATCTAACA',\n",
       " 'TATGAATATATTACATAATCATAAAGATTTACAAA',\n",
       " 'TATTTTAGAACTTCATCCACAAACGAGCTTTCTA',\n",
       " 'TATTTTACAGATGAACAATTACAGTTACTTCTTGA',\n",
       " 'TCAATTTACCGTTTTTTTCAAATCTCACAACATCA',\n",
       " 'TCAGCATCTATGCCATTTACTTTATTAACTTCCTC',\n",
       " 'AGGGTTTCTGATAAAATCTTCAAACATGTAAAATAT',\n",
       " 'TCTATAATTATGCGTGATTTGATTGGTAGAAA',\n",
       " 'TGAAAATCTAGTTAAAAACTGCATCAAAGTATTG',\n",
       " 'ATACCAATCTTTTTTCCTTGAATCTTTTAAAAGTT',\n",
       " 'TGCGCAATAACATGCTGAAAACTGCAATTTCGAA',\n",
       " 'TGCTGTGATTTCAATAATAAAACAATTAATAATT',\n",
       " 'TGGTTAAATCTCCAACAGAACATTTATCTAAATTAC',\n",
       " 'TGTTTTCCATGAACATTTCGAGCTGACTTTTATT',\n",
       " 'TTATACATATTTGTAGCTCCTTGCTGAACTGTTG',\n",
       " 'TTCATTAAATCCCCAACCGAATTATCTTTCAGCAT',\n",
       " 'TGCTGTGATTTCAATAATAAAACAATTAATATTT',\n",
       " 'TATAGCTAATTATTAGATTCAATTTTAATTTCGTT',\n",
       " 'TTGTATTATTACTTTTTATCAGAATAATCAAAAGA',\n",
       " 'TTTCCCTGCATTAACAAAATCTTCAACATTCAAA',\n",
       " 'TTTCCCTGCATTAACAAAATCTTCAACATTCAAA']"
      ]
     },
     "execution_count": 22,
     "metadata": {},
     "output_type": "execute_result"
    }
   ],
   "source": [
    "[x[1] for x in res]"
   ]
  },
  {
   "cell_type": "code",
   "execution_count": 25,
   "metadata": {},
   "outputs": [
    {
     "data": {
      "text/plain": [
       "388"
      ]
     },
     "execution_count": 25,
     "metadata": {},
     "output_type": "execute_result"
    }
   ],
   "source": [
    "len(lines_pcr)"
   ]
  },
  {
   "cell_type": "code",
   "execution_count": null,
   "metadata": {},
   "outputs": [],
   "source": []
  }
 ],
 "metadata": {
  "kernelspec": {
   "display_name": "Python 3",
   "language": "python",
   "name": "python3"
  },
  "language_info": {
   "codemirror_mode": {
    "name": "ipython",
    "version": 3
   },
   "file_extension": ".py",
   "mimetype": "text/x-python",
   "name": "python",
   "nbconvert_exporter": "python",
   "pygments_lexer": "ipython3",
   "version": "3.6.3"
  }
 },
 "nbformat": 4,
 "nbformat_minor": 2
}
