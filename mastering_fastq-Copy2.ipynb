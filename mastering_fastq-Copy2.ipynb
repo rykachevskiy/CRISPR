{
 "cells": [
  {
   "cell_type": "code",
   "execution_count": 1,
   "metadata": {},
   "outputs": [],
   "source": [
    "import numpy as np\n",
    "import matplotlib.pyplot as plt\n"
   ]
  },
  {
   "cell_type": "code",
   "execution_count": 2,
   "metadata": {},
   "outputs": [],
   "source": [
    "%load_ext autoreload\n",
    "%autoreload 2"
   ]
  },
  {
   "cell_type": "code",
   "execution_count": 3,
   "metadata": {},
   "outputs": [],
   "source": [
    "from tqdm import tqdm_notebook\n",
    "import regex as re\n",
    "\n",
    "import os"
   ]
  },
  {
   "cell_type": "code",
   "execution_count": 4,
   "metadata": {},
   "outputs": [],
   "source": [
    "IUPAC_WILDCARDS = {\n",
    "    \"W\" : \"AT\",\n",
    "    \"S\" : \"CG\",\n",
    "    \"M\" : \"AC\",\n",
    "    \"K\" : \"GT\",\n",
    "    \"R\" : \"AG\",\n",
    "    \"Y\" : \"CT\",\n",
    "    \"B\" : \"CGT\",\n",
    "    \"D\" : \"AGT\",\n",
    "    \"H\" : \"ACT\",\n",
    "    \"V\" : \"ACG\",\n",
    "    \"N\" : \"ACGT\",\n",
    "}"
   ]
  },
  {
   "cell_type": "code",
   "execution_count": 5,
   "metadata": {},
   "outputs": [],
   "source": [
    "reverse = {\n",
    "    \"W\" : \"W\",\n",
    "    \"S\" : \"S\",\n",
    "    \"M\" : \"K\",\n",
    "    \"K\" : \"M\",\n",
    "    \"R\" : \"Y\",\n",
    "    \"Y\" : \"R\",\n",
    "    \"B\" : \"V\",\n",
    "    \"D\" : \"H\",\n",
    "    \"H\" : \"D\",\n",
    "    \"V\" : \"B\",\n",
    "    \"N\" : \"N\",\n",
    "    \"A\" : \"T\",\n",
    "    \"C\" : \"G\", \n",
    "    \"T\" : \"A\",\n",
    "    \"G\" : \"C\",\n",
    "    \"(\" : \"(\",\n",
    "    \")\" : \")\"\n",
    "}"
   ]
  },
  {
   "cell_type": "code",
   "execution_count": 6,
   "metadata": {},
   "outputs": [],
   "source": [
    "def rc(x, reverse = reverse, r=0):\n",
    "    d = dict(zip(reverse.keys(), reverse.values()))\n",
    "    if r:\n",
    "        d[\"(\"] = \")\"\n",
    "        d[\")\"] = \"(\"\n",
    "        return ''.join([d[y] for y in x][::-1])\n",
    "    else:\n",
    "        return ''.join([d[y] for y in x])"
   ]
  },
  {
   "cell_type": "code",
   "execution_count": 7,
   "metadata": {},
   "outputs": [],
   "source": [
    "def read_fastq(path):\n",
    "    with open(path) as f:\n",
    "        lines = f.readlines()\n",
    "    \n",
    "    reads = [x[:-1] for x in lines[1::4]]\n",
    "    qualities = [x[:-1] for x in lines[3::4]]\n",
    "    \n",
    "    return reads, qualities"
   ]
  },
  {
   "cell_type": "code",
   "execution_count": 8,
   "metadata": {},
   "outputs": [],
   "source": [
    "def repeat_to_re_pattern(repeat, e=2, d = IUPAC_WILDCARDS):\n",
    "    re_pattern = \"(\"\n",
    "    for char in repeat:\n",
    "        if char not in d.keys() and char != '(' and char != ')':\n",
    "            re_pattern += char\n",
    "        elif char in d.keys():\n",
    "            re_pattern += \"[\" +  \"|\".join(d[char]) + \"]\"\n",
    "    \n",
    "    re_pattern += \"){e<=\" + str(e) + \"}\"\n",
    "    return re_pattern"
   ]
  },
  {
   "cell_type": "code",
   "execution_count": 9,
   "metadata": {},
   "outputs": [],
   "source": [
    "def find(repeat, read, e = 2):\n",
    "    p_str = repeat_to_re_pattern(repeat,e=e)\n",
    "    p = re.compile(p_str)\n",
    "   \n",
    "    return [x.span() for x in re.finditer(p, read)]"
   ]
  },
  {
   "cell_type": "code",
   "execution_count": 10,
   "metadata": {},
   "outputs": [],
   "source": [
    "def split_read(read, quality, repeat, e=2, v=0):\n",
    "    repeat, repeat_s, repeat_e = repeat.r, repeat.rs, repeat.re\n",
    "    repeat_pos = find(repeat, read, e)\n",
    "    \n",
    "    if v: print(repeat_pos)\n",
    "    if len(repeat_pos) == 0:\n",
    "        return [-1, -1], [-1, -1]\n",
    "\n",
    "    else:\n",
    "        repeat_pos = repeat_pos[0]\n",
    "        read_left = read[:repeat_pos[0]]\n",
    "        q_left = quality[:repeat_pos[0]]\n",
    "        \n",
    "        read_right = read[repeat_pos[1]:]\n",
    "        q_right = quality[repeat_pos[1]:]\n",
    "        \n",
    "        \n",
    "        repeat_pos_l = find(repeat_e, read_left, e)\n",
    "        if v: print(repeat_pos_l)\n",
    "        if len(repeat_pos_l) == 0:\n",
    "            left_spacer = -1\n",
    "            left_sp_q = -1\n",
    "        else:\n",
    "            left_spacer = read_left[repeat_pos_l[0][1]:]\n",
    "            left_sp_q = q_left[repeat_pos_l[0][1]:]\n",
    "            \n",
    "        \n",
    "        repeat_pos_r = find(repeat_s, read_right, e)\n",
    "        if v: print(repeat_pos_r)\n",
    "        if len(repeat_pos_r) == 0:\n",
    "            right_spacer = -1\n",
    "            right_sp_q = -1\n",
    "        else:\n",
    "            right_spacer = read_right[:repeat_pos_r[0][0]]\n",
    "            right_sp_q = q_right[:repeat_pos_r[0][0]]\n",
    "            \n",
    "        if left_spacer != -1 and len(left_spacer) <= 10:\n",
    "            left_spacer = -1\n",
    "        if right_spacer != -1 and len(right_spacer) <= 10:\n",
    "            right_spacer = -1\n",
    "        \n",
    "        return [left_spacer, right_spacer], [left_sp_q, right_sp_q]"
   ]
  },
  {
   "cell_type": "code",
   "execution_count": 11,
   "metadata": {},
   "outputs": [],
   "source": [
    "quality_symbols1 = r'!\"#$%&' \n",
    "quality_symbols2 = \"'()*+,-./0123456789:;<=>?@ABCDEFGHIJKLMNOPQRSTUVWXYZ[\\]^_`abcdefghijklmnopqrstuvwxyz{|}~\""
   ]
  },
  {
   "cell_type": "code",
   "execution_count": 12,
   "metadata": {},
   "outputs": [],
   "source": [
    "quality_dict = {}\n",
    "quality_dict_r = {}\n",
    "for i, char in enumerate(quality_symbols1 + quality_symbols2):\n",
    "    quality_dict[char] = i\n",
    "    quality_dict_r[i] = char"
   ]
  },
  {
   "cell_type": "code",
   "execution_count": 13,
   "metadata": {},
   "outputs": [],
   "source": [
    "get_quality = lambda x: quality_dict[x]"
   ]
  },
  {
   "cell_type": "code",
   "execution_count": 14,
   "metadata": {},
   "outputs": [],
   "source": [
    "def get_lowest_q(pair_q, gq = get_quality):\n",
    "    return quality_dict[min(pair_q[0] + pair_q[1], key=gq)]"
   ]
  },
  {
   "cell_type": "code",
   "execution_count": 15,
   "metadata": {},
   "outputs": [],
   "source": [
    "def save_pairs(path, name, pairs):\n",
    "    name = name.split(\".\")[0]\n",
    "    with open(path + name, 'w') as f:\n",
    "        for p in pairs:\n",
    "            f.write(\"\\t\".join(p))\n",
    "            f.write(\"\\n\")\n",
    "            "
   ]
  },
  {
   "cell_type": "code",
   "execution_count": null,
   "metadata": {},
   "outputs": [],
   "source": []
  },
  {
   "cell_type": "code",
   "execution_count": null,
   "metadata": {},
   "outputs": [],
   "source": []
  },
  {
   "cell_type": "code",
   "execution_count": 16,
   "metadata": {},
   "outputs": [],
   "source": [
    "def main(path, name, repeat,  t = 10, v = 1):\n",
    "    if v: print(\"reading :\", name)\n",
    "    reads, qualities = read_fastq(path + name)\n",
    "    \n",
    "    \n",
    "    if v: print(\"cutting :\", name)\n",
    "    pairs, pairs_q = [], []\n",
    "    for r,q in tqdm_notebook(zip(reads, qualities)):\n",
    "        p, pq = split_read(r, q, repeat, e = 4)\n",
    "        pairs.append(p)\n",
    "        pairs_q.append(pq)\n",
    "    \n",
    "    \n",
    "    if v: print(\"masking :\", name)  \n",
    "    pairs = np.array(pairs)\n",
    "    pairs_q = np.array(pairs_q)\n",
    "    \n",
    "    \n",
    "    mask = np.array(['-1' not in pair for pair in tqdm_notebook(pairs)])\n",
    "\n",
    "    pairs = pairs[mask]\n",
    "    pairs_q = pairs_q[mask]\n",
    "      \n",
    "    \n",
    "    if mask.sum() ==0:\n",
    "        return [], [], []\n",
    "        \n",
    "    min_pq = np.array([get_lowest_q(pq) for pq in pairs_q])\n",
    "    \n",
    "    mask_2 = min_pq >= t\n",
    "    \n",
    "    print(name, mask.sum(), min(min_pq))\n",
    "    \n",
    "    return pairs, pairs_q, min_pq, mask_2"
   ]
  },
  {
   "cell_type": "code",
   "execution_count": 17,
   "metadata": {},
   "outputs": [],
   "source": [
    "class Repeat:\n",
    "    def __init__(self, r, rs, re, rc):\n",
    "        self.r = r\n",
    "        self.rs = rs\n",
    "        self.re = re\n",
    "        self.rc = rc"
   ]
  },
  {
   "cell_type": "code",
   "execution_count": 18,
   "metadata": {},
   "outputs": [],
   "source": [
    "redundant = Repeat(\"GTTTTAKATTA(ACTAWRTGG)WATGTAAAK\", \n",
    "                   \"GTTTTAKATTAACTAWRTGG\",\n",
    "                   \"ACTAWRTGGWATGTAAAK\",\n",
    "                   \"GTTTTAKATTAACTAWRTGGWATGTAAAK\")\n",
    "\n",
    "non_redundant_1 = Repeat(\"GTTTTATATTA(ACTAAGTGG)TATGTAAAG\",\n",
    "                           \"GTTTTATATTAACTAAGTGG\",\n",
    "                           \"ACTAAGTGG)TATGTAAAG\",\n",
    "                           \"GTTTTATATTAACTAAGTGGTATGTAAAG\"\n",
    "                          )\n",
    "\n",
    "non_redundant_2 = Repeat(\"GTTTTATATTA(ACTATATGG)AATGTAAAT\",\n",
    "                           \"GTTTTATATTAACTATATGG\",\n",
    "                           \"ACTATATGGAATGTAAAT\",\n",
    "                           \"GTTTTATATTAACTATATGGAATGTAAAT\"\n",
    "                          )"
   ]
  },
  {
   "cell_type": "code",
   "execution_count": 19,
   "metadata": {},
   "outputs": [],
   "source": [
    "ecoli_r = Repeat(\"GWGTTCCCC(GCGCCAGCG)GGGATAAACCG\", \n",
    "                   \"GWGTTCCCCGCGCCAGCG\",\n",
    "                   \"GCGCCAGCGGGGATAAACCG\",\n",
    "                   \"GWGTTCCCCGCGCCAGCGGGGATAAACCG\")\n",
    "\n",
    "ecoli_r_1 = Repeat(\"GWGTTCCCC(GCGCCAGCG)GGGATAAACCG\", \n",
    "                   \"GCCAAATAGGGGCGACCGCG\",\n",
    "                   \"GCGACCGCGCCCCTTGWG\",\n",
    "                   \"GCCAAATAGGGGCGACCGCGCCCCTTGWG\")\n",
    "\n",
    "ecoli_r_2 = Repeat(\"CGGTTTATCCC(CGCTGGCGC)GGGGAACWC\", \n",
    "                   \"CGGTTTATCCCCGCTGGCGC\",\n",
    "                   \"CGCTGGCGCGGGGAACWC\",\n",
    "                   \"CGGTTTATCCCCGCTGGCGCGGGGAACWC\")\n"
   ]
  },
  {
   "cell_type": "code",
   "execution_count": 20,
   "metadata": {},
   "outputs": [],
   "source": [
    "def filter_by_q(pairs, pairs_q, t = 10):\n",
    "    min_pq = np.array([get_lowest_q(pq) for pq in pairs_q])\n",
    "    \n",
    "    mask_2 = min_pq >= t\n",
    "    \n",
    "    return pairs, pairs_q, min_pq, mask_2"
   ]
  },
  {
   "cell_type": "code",
   "execution_count": null,
   "metadata": {},
   "outputs": [],
   "source": []
  },
  {
   "cell_type": "code",
   "execution_count": 21,
   "metadata": {},
   "outputs": [],
   "source": [
    "with open(\"../data/student_Dvyg/EC/fastq/DVyg25_S464_R1_001.fastq\") as f:\n",
    "    #lines = [x[:-1] for x in f.readlines()[1::2]]\n",
    "    lines = [x[:-1] for x in f.readlines()[1::4]]"
   ]
  },
  {
   "cell_type": "code",
   "execution_count": 22,
   "metadata": {},
   "outputs": [
    {
     "data": {
      "text/plain": [
       "'GTTGTTGTAAT'"
      ]
     },
     "execution_count": 22,
     "metadata": {},
     "output_type": "execute_result"
    }
   ],
   "source": [
    "lines[0][140:]"
   ]
  },
  {
   "cell_type": "code",
   "execution_count": 67,
   "metadata": {},
   "outputs": [
    {
     "name": "stdout",
     "output_type": "stream",
     "text": [
      "[]\n"
     ]
    },
    {
     "data": {
      "text/plain": [
       "([-1, -1], [-1, -1])"
      ]
     },
     "execution_count": 67,
     "metadata": {},
     "output_type": "execute_result"
    }
   ],
   "source": [
    "split_read(lines[7], lines[0], ecoli_r_2, e = 0, v =1)"
   ]
  },
  {
   "cell_type": "code",
   "execution_count": 31,
   "metadata": {},
   "outputs": [
    {
     "data": {
      "text/plain": [
       "140"
      ]
     },
     "execution_count": 31,
     "metadata": {},
     "output_type": "execute_result"
    }
   ],
   "source": [
    "29*2 + 32 *2 + 18"
   ]
  },
  {
   "cell_type": "markdown",
   "metadata": {},
   "source": [
    "ПРОЧЕКАТЬ ПОМОГАЮТ ЛИ ТРОЙКИ"
   ]
  },
  {
   "cell_type": "code",
   "execution_count": null,
   "metadata": {},
   "outputs": [],
   "source": []
  },
  {
   "cell_type": "code",
   "execution_count": 34,
   "metadata": {},
   "outputs": [],
   "source": [
    "with open(\"../data/student_Dvyg/EC/DVyg25_S464_R1_001_spacers.txt\") as f:\n",
    "    spacers = [x[:-1] for x in f.readlines()]"
   ]
  },
  {
   "cell_type": "code",
   "execution_count": 58,
   "metadata": {},
   "outputs": [
    {
     "data": {
      "application/vnd.jupyter.widget-view+json": {
       "model_id": "047dbde21eb644e58b15f5188aaab507",
       "version_major": 2,
       "version_minor": 0
      },
      "text/plain": [
       "A Jupyter Widget"
      ]
     },
     "metadata": {},
     "output_type": "display_data"
    },
    {
     "name": "stdout",
     "output_type": "stream",
     "text": [
      "\n"
     ]
    }
   ],
   "source": [
    "_, _, cl_to_n, n_to_cl = hu.get_cl_n(hu.lines_to_ordered_dict(spacers), 8)"
   ]
  },
  {
   "cell_type": "code",
   "execution_count": 59,
   "metadata": {},
   "outputs": [
    {
     "data": {
      "text/plain": [
       "253"
      ]
     },
     "execution_count": 59,
     "metadata": {},
     "output_type": "execute_result"
    }
   ],
   "source": [
    "len(set([x[:11] for x in cl_to_n.keys()]))"
   ]
  },
  {
   "cell_type": "code",
   "execution_count": 60,
   "metadata": {},
   "outputs": [
    {
     "data": {
      "text/plain": [
       "271"
      ]
     },
     "execution_count": 60,
     "metadata": {},
     "output_type": "execute_result"
    }
   ],
   "source": [
    "len(cl_to_n)"
   ]
  },
  {
   "cell_type": "code",
   "execution_count": 37,
   "metadata": {},
   "outputs": [],
   "source": [
    "set_11 = set([x[:11] for x in spacers])\n",
    "set_32 = set([x[:] for x in spacers])"
   ]
  },
  {
   "cell_type": "code",
   "execution_count": 39,
   "metadata": {},
   "outputs": [
    {
     "data": {
      "text/plain": [
       "1840"
      ]
     },
     "execution_count": 39,
     "metadata": {},
     "output_type": "execute_result"
    }
   ],
   "source": [
    "len(set_32)"
   ]
  },
  {
   "cell_type": "code",
   "execution_count": null,
   "metadata": {},
   "outputs": [],
   "source": []
  },
  {
   "cell_type": "code",
   "execution_count": 25,
   "metadata": {},
   "outputs": [],
   "source": [
    "path = \"../data/student_Dvyg/EC/gz/\"\n",
    "#path = \"../data/clostr_Polina/fastq/\""
   ]
  },
  {
   "cell_type": "code",
   "execution_count": 26,
   "metadata": {},
   "outputs": [],
   "source": [
    "names = sorted(os.listdir(path))"
   ]
  },
  {
   "cell_type": "code",
   "execution_count": 27,
   "metadata": {},
   "outputs": [],
   "source": [
    "def f(x):\n",
    "    return main(path, x, ecoli_r_1)"
   ]
  },
  {
   "cell_type": "code",
   "execution_count": 23,
   "metadata": {},
   "outputs": [
    {
     "name": "stdout",
     "output_type": "stream",
     "text": [
      "reading : DVyg24_S463_R1_001.fastq\n",
      "cutting : DVyg24_S463_R1_001.fastq\n"
     ]
    },
    {
     "data": {
      "application/vnd.jupyter.widget-view+json": {
       "model_id": "f4ac7b80ca174aa1951be49faefb0310",
       "version_major": 2,
       "version_minor": 0
      },
      "text/plain": [
       "A Jupyter Widget"
      ]
     },
     "metadata": {},
     "output_type": "display_data"
    },
    {
     "name": "stdout",
     "output_type": "stream",
     "text": [
      "\n",
      "masking : DVyg24_S463_R1_001.fastq\n"
     ]
    },
    {
     "data": {
      "application/vnd.jupyter.widget-view+json": {
       "model_id": "2f9e3d2e1e1f425699c1c42190f739c0",
       "version_major": 2,
       "version_minor": 0
      },
      "text/plain": [
       "A Jupyter Widget"
      ]
     },
     "metadata": {},
     "output_type": "display_data"
    },
    {
     "name": "stdout",
     "output_type": "stream",
     "text": [
      "\n",
      "DVyg24_S463_R1_001.fastq 184413 2\n"
     ]
    }
   ],
   "source": [
    "res = f(names[0])"
   ]
  },
  {
   "cell_type": "code",
   "execution_count": 32,
   "metadata": {},
   "outputs": [
    {
     "data": {
      "text/plain": [
       "184410"
      ]
     },
     "execution_count": 32,
     "metadata": {},
     "output_type": "execute_result"
    }
   ],
   "source": [
    "res[3].sum()"
   ]
  },
  {
   "cell_type": "code",
   "execution_count": 33,
   "metadata": {},
   "outputs": [
    {
     "data": {
      "text/plain": [
       "184413"
      ]
     },
     "execution_count": 33,
     "metadata": {},
     "output_type": "execute_result"
    }
   ],
   "source": [
    "len(res[0])"
   ]
  },
  {
   "cell_type": "code",
   "execution_count": 40,
   "metadata": {},
   "outputs": [],
   "source": [
    "res_20 = filter_by_q(res[0], res[1], 20)"
   ]
  },
  {
   "cell_type": "code",
   "execution_count": 42,
   "metadata": {},
   "outputs": [
    {
     "data": {
      "text/plain": [
       "101381"
      ]
     },
     "execution_count": 42,
     "metadata": {},
     "output_type": "execute_result"
    }
   ],
   "source": [
    "res_20[-1].sum()"
   ]
  },
  {
   "cell_type": "code",
   "execution_count": 43,
   "metadata": {},
   "outputs": [],
   "source": [
    "pairs = np.array(res_20[0])[res_20[-1]]"
   ]
  },
  {
   "cell_type": "code",
   "execution_count": 45,
   "metadata": {},
   "outputs": [],
   "source": [
    "save_pairs(\"../data/student_Dvyg/EC/pairs_4/\", names[0], pairs)"
   ]
  },
  {
   "cell_type": "markdown",
   "metadata": {},
   "source": [
    "## hu"
   ]
  },
  {
   "cell_type": "code",
   "execution_count": 40,
   "metadata": {},
   "outputs": [],
   "source": [
    "import sys\n",
    "sys.path.append(\"./utils/\")\n",
    "import hierarcical_utils as hu\n",
    "import plot_utils as pu "
   ]
  },
  {
   "cell_type": "code",
   "execution_count": 41,
   "metadata": {},
   "outputs": [],
   "source": [
    "import hamiltonian_utils as hamu"
   ]
  },
  {
   "cell_type": "code",
   "execution_count": 48,
   "metadata": {},
   "outputs": [
    {
     "name": "stdout",
     "output_type": "stream",
     "text": [
      "reading pairs, clustering...\n",
      "making sp_to_n...\n"
     ]
    },
    {
     "data": {
      "application/vnd.jupyter.widget-view+json": {
       "model_id": "5923e41ade2f476eb6c4084a22dd33ef",
       "version_major": 2,
       "version_minor": 0
      },
      "text/plain": [
       "A Jupyter Widget"
      ]
     },
     "metadata": {},
     "output_type": "display_data"
    },
    {
     "name": "stdout",
     "output_type": "stream",
     "text": [
      "\n",
      "processing pairs...\n",
      "Using 8 jobs\n"
     ]
    },
    {
     "data": {
      "application/vnd.jupyter.widget-view+json": {
       "model_id": "a831370487044c0ba7c3662aac27fc47",
       "version_major": 2,
       "version_minor": 0
      },
      "text/plain": [
       "A Jupyter Widget"
      ]
     },
     "metadata": {},
     "output_type": "display_data"
    },
    {
     "name": "stdout",
     "output_type": "stream",
     "text": [
      "\n",
      "making graph...\n",
      "CPU times: user 413 ms, sys: 96.4 ms, total: 510 ms\n",
      "Wall time: 5.2 s\n"
     ]
    }
   ],
   "source": [
    "%time gr = hu.graph_from_raw(\"../data/student_Dvyg/EC/DVyg26_S465_R1_001_pairs.txt\", split=' ', n_jobs=8, mp = 1)"
   ]
  },
  {
   "cell_type": "code",
   "execution_count": 112,
   "metadata": {},
   "outputs": [],
   "source": [
    "path = \"../data/student_Dvyg/EC/pairs_spget_20//\"\n",
    "names = sorted(os.listdir(path))"
   ]
  },
  {
   "cell_type": "code",
   "execution_count": null,
   "metadata": {},
   "outputs": [],
   "source": []
  },
  {
   "cell_type": "code",
   "execution_count": 113,
   "metadata": {
    "scrolled": true
   },
   "outputs": [
    {
     "data": {
      "application/vnd.jupyter.widget-view+json": {
       "model_id": "79412f88b8b84b3a9d28f451311a91ec",
       "version_major": 2,
       "version_minor": 0
      },
      "text/plain": [
       "A Jupyter Widget"
      ]
     },
     "metadata": {},
     "output_type": "display_data"
    },
    {
     "name": "stdout",
     "output_type": "stream",
     "text": [
      "reading pairs, clustering...\n",
      "making sp_to_n...\n"
     ]
    },
    {
     "data": {
      "application/vnd.jupyter.widget-view+json": {
       "model_id": "601bfb22eeb744e88a700b9f0bc69c26",
       "version_major": 2,
       "version_minor": 0
      },
      "text/plain": [
       "A Jupyter Widget"
      ]
     },
     "metadata": {},
     "output_type": "display_data"
    },
    {
     "name": "stdout",
     "output_type": "stream",
     "text": [
      "processing pairs...\n",
      "Using 8 jobs\n"
     ]
    },
    {
     "data": {
      "application/vnd.jupyter.widget-view+json": {
       "model_id": "6266100b5a3b405aab5b2a28a22dccf9",
       "version_major": 2,
       "version_minor": 0
      },
      "text/plain": [
       "A Jupyter Widget"
      ]
     },
     "metadata": {},
     "output_type": "display_data"
    },
    {
     "name": "stdout",
     "output_type": "stream",
     "text": [
      "making graph...\n",
      "reading pairs, clustering...\n",
      "making sp_to_n...\n"
     ]
    },
    {
     "data": {
      "application/vnd.jupyter.widget-view+json": {
       "model_id": "c6a4ad1140f44699b958882f1fd0a7f8",
       "version_major": 2,
       "version_minor": 0
      },
      "text/plain": [
       "A Jupyter Widget"
      ]
     },
     "metadata": {},
     "output_type": "display_data"
    },
    {
     "name": "stdout",
     "output_type": "stream",
     "text": [
      "processing pairs...\n",
      "Using 8 jobs\n"
     ]
    },
    {
     "data": {
      "application/vnd.jupyter.widget-view+json": {
       "model_id": "32924a4ded7a4334a3a08ae2fc1d34d6",
       "version_major": 2,
       "version_minor": 0
      },
      "text/plain": [
       "A Jupyter Widget"
      ]
     },
     "metadata": {},
     "output_type": "display_data"
    },
    {
     "name": "stdout",
     "output_type": "stream",
     "text": [
      "making graph...\n",
      "reading pairs, clustering...\n",
      "making sp_to_n...\n"
     ]
    },
    {
     "data": {
      "application/vnd.jupyter.widget-view+json": {
       "model_id": "28dc0e520431493f979f1bccecf2425c",
       "version_major": 2,
       "version_minor": 0
      },
      "text/plain": [
       "A Jupyter Widget"
      ]
     },
     "metadata": {},
     "output_type": "display_data"
    },
    {
     "name": "stdout",
     "output_type": "stream",
     "text": [
      "processing pairs...\n",
      "Using 8 jobs\n"
     ]
    },
    {
     "data": {
      "application/vnd.jupyter.widget-view+json": {
       "model_id": "981977018f43419a9e5f819e0cd42a40",
       "version_major": 2,
       "version_minor": 0
      },
      "text/plain": [
       "A Jupyter Widget"
      ]
     },
     "metadata": {},
     "output_type": "display_data"
    },
    {
     "name": "stdout",
     "output_type": "stream",
     "text": [
      "making graph...\n",
      "reading pairs, clustering...\n",
      "making sp_to_n...\n"
     ]
    },
    {
     "data": {
      "application/vnd.jupyter.widget-view+json": {
       "model_id": "d556573ee8b8429fa57756288fb55efb",
       "version_major": 2,
       "version_minor": 0
      },
      "text/plain": [
       "A Jupyter Widget"
      ]
     },
     "metadata": {},
     "output_type": "display_data"
    },
    {
     "name": "stdout",
     "output_type": "stream",
     "text": [
      "processing pairs...\n",
      "Using 8 jobs\n"
     ]
    },
    {
     "data": {
      "application/vnd.jupyter.widget-view+json": {
       "model_id": "70675ad83b7943f290bd409301a6bd9f",
       "version_major": 2,
       "version_minor": 0
      },
      "text/plain": [
       "A Jupyter Widget"
      ]
     },
     "metadata": {},
     "output_type": "display_data"
    },
    {
     "name": "stdout",
     "output_type": "stream",
     "text": [
      "making graph...\n",
      "\n"
     ]
    }
   ],
   "source": [
    "grs_20 = [hu.graph_from_raw(path + name, split=' ', n_jobs=8, mp = 1) for name in tqdm_notebook(names[::2])]"
   ]
  },
  {
   "cell_type": "code",
   "execution_count": 114,
   "metadata": {
    "scrolled": true
   },
   "outputs": [
    {
     "data": {
      "text/plain": [
       "[87092.0, 21279.0, 84350.0, 41176.0]"
      ]
     },
     "execution_count": 114,
     "metadata": {},
     "output_type": "execute_result"
    }
   ],
   "source": [
    "[x[0].sum() for x in grs_20]"
   ]
  },
  {
   "cell_type": "code",
   "execution_count": 211,
   "metadata": {
    "scrolled": false
   },
   "outputs": [
    {
     "data": {
      "image/png": "[encoded data removed]",
      "text/plain": [
       "<matplotlib.figure.Figure at 0x7f515a3442e8>"
      ]
     },
     "metadata": {},
     "output_type": "display_data"
    },
    {
     "data": {
      "image/png": "[encoded data removed]",
      "text/plain": [
       "<matplotlib.figure.Figure at 0x7f5164d57eb8>"
      ]
     },
     "metadata": {},
     "output_type": "display_data"
    },
    {
     "data": {
      "image/png": "[encoded data removed]",
      "text/plain": [
       "<matplotlib.figure.Figure at 0x7f515d416c50>"
      ]
     },
     "metadata": {},
     "output_type": "display_data"
    },
    {
     "data": {
      "image/png": "[encoded data removed]",
      "text/plain": [
       "<matplotlib.figure.Figure at 0x7f513e6060b8>"
      ]
     },
     "metadata": {},
     "output_type": "display_data"
    }
   ],
   "source": [
    "for gr in grs_20:\n",
    "    pu.plot_gr(gr[0][:20, :20], log =1, all_ticks=1)"
   ]
  },
  {
   "cell_type": "code",
   "execution_count": 154,
   "metadata": {},
   "outputs": [
    {
     "data": {
      "image/png": "[encoded data removed]",
      "text/plain": [
       "<matplotlib.figure.Figure at 0x7f515ffc38d0>"
      ]
     },
     "metadata": {},
     "output_type": "display_data"
    },
    {
     "data": {
      "image/png": "[encoded data removed]",
      "text/plain": [
       "<matplotlib.figure.Figure at 0x7f5153417438>"
      ]
     },
     "metadata": {},
     "output_type": "display_data"
    },
    {
     "data": {
      "image/png": "[encoded data removed]",
      "text/plain": [
       "<matplotlib.figure.Figure at 0x7f515a37e240>"
      ]
     },
     "metadata": {},
     "output_type": "display_data"
    },
    {
     "data": {
      "image/png": "[encoded data removed]",
      "text/plain": [
       "<matplotlib.figure.Figure at 0x7f513e2079e8>"
      ]
     },
     "metadata": {},
     "output_type": "display_data"
    }
   ],
   "source": [
    "for gr in res_20_mask:\n",
    "    pu.plot_gr(hamu.list_to_gr(gr[0], 500)[:200,:200])"
   ]
  },
  {
   "cell_type": "code",
   "execution_count": null,
   "metadata": {},
   "outputs": [],
   "source": []
  },
  {
   "cell_type": "code",
   "execution_count": 120,
   "metadata": {},
   "outputs": [],
   "source": [
    "res_20 = [hamu.restore_arrays(gr[0],threashold=5) for gr in grs_20]"
   ]
  },
  {
   "cell_type": "code",
   "execution_count": 130,
   "metadata": {},
   "outputs": [],
   "source": [
    "def mask(arrs, ws, l = 2):\n",
    "    arrs = np.array(arrs)\n",
    "    ws = np.array(ws)\n",
    "    mask = np.array([len(x) for x in arrs]) > l\n",
    "    return arrs[mask], ws[mask]"
   ]
  },
  {
   "cell_type": "markdown",
   "metadata": {},
   "source": [
    "20::\n",
    "\n",
    "24 - \n",
    "\n",
    "\n",
    "\n",
    "25 - \n",
    "[22, 24, 23, 25, 32] - 12, кассета 2\n",
    "[34, 27, 26, 28, 30, 29, 31] - 67 кассета 1\n",
    "\n",
    "\n",
    "26 - \n",
    "[22, 24, 23, 25, 32] - 12, кассета 2\n",
    "[34, 27, 26, 28, 30, 29, 31] - 67 кассета 1\n",
    "\n"
   ]
  },
  {
   "cell_type": "code",
   "execution_count": 159,
   "metadata": {},
   "outputs": [],
   "source": [
    "res_20_mask = [mask(*x) for x in res_20]"
   ]
  },
  {
   "cell_type": "code",
   "execution_count": 257,
   "metadata": {},
   "outputs": [],
   "source": [
    "idx = -1"
   ]
  },
  {
   "cell_type": "code",
   "execution_count": 264,
   "metadata": {},
   "outputs": [
    {
     "data": {
      "text/plain": [
       "[[171, 130, 127, 105, 66, 73, 69, 113],\n",
       " [119, 42, 32, 61],\n",
       " [32, 61, 46, 48, 57, 118, 122],\n",
       " [182, 203, 78, 286, 218, 260, 11, 266, 55, 145],\n",
       " [42, 32, 68, 93],\n",
       " [102, 6, 9, 30, 18, 5, 0, 10, 14, 16, 13, 7, 1, 8, 4],\n",
       " [102, 6, 9, 5, 0, 1, 8, 4, 2, 3, 15, 12, 75, 107],\n",
       " [102, 6, 9, 18, 5, 13, 7],\n",
       " [23, 54, 33, 26, 24, 29, 22, 21, 34, 36, 67, 43, 44, 71],\n",
       " [23, 41, 85, 45, 100, 90, 86, 114, 133],\n",
       " [123, 116, 92, 96, 88, 84, 97, 126],\n",
       " [186, 137, 191, 111, 177, 268, 79, 119, 244],\n",
       " [23, 20, 19, 31, 47],\n",
       " [23, 33, 26, 24, 29, 22, 21, 34, 36, 67, 43, 44, 71],\n",
       " [186, 191, 192, 111, 98, 101, 79, 82, 94, 95, 76, 78, 108],\n",
       " [23, 20, 19, 31, 47]]"
      ]
     },
     "execution_count": 264,
     "metadata": {},
     "output_type": "execute_result"
    }
   ],
   "source": [
    "answ_n"
   ]
  },
  {
   "cell_type": "code",
   "execution_count": 259,
   "metadata": {},
   "outputs": [
    {
     "data": {
      "text/plain": [
       "array([list([102, 6, 9, 30, 18, 5, 0, 1, 8, 4, 2, 3, 15, 12, 75, 107]),\n",
       "       list([10, 14, 16, 13, 7]),\n",
       "       list([87, 56, 55, 59, 62, 49, 51, 39, 37, 40, 38, 25, 17, 11, 35, 70, 72, 80]),\n",
       "       list([23, 58, 20, 19, 31, 47, 63, 53, 54, 33, 50, 26, 24, 29, 22, 21, 34, 36, 67, 43, 44, 71]),\n",
       "       list([28, 27, 99, 65, 74, 83, 52, 60, 89, 91, 115]),\n",
       "       list([119, 42, 32, 61, 46, 48, 57, 118, 122]),\n",
       "       list([81, 106, 41, 45, 64, 77]),\n",
       "       list([171, 130, 127, 105, 66, 73, 69, 113, 181]),\n",
       "       list([111, 98, 101, 79, 82, 94, 95, 76, 78, 108]),\n",
       "       list([123, 116, 92, 96, 88, 84, 97, 126]),\n",
       "       list([100, 90, 86, 114, 133]), list([225, 112, 104, 109]),\n",
       "       list([120, 121, 124, 117, 110, 170, 158, 165, 175]),\n",
       "       list([147, 135, 136, 132, 131, 129, 128, 125, 160, 167, 163]),\n",
       "       list([162, 142, 138, 139, 154, 157, 150, 144, 159, 152, 168, 155, 149, 134, 145, 169, 172, 180]),\n",
       "       list([140, 143, 153, 151, 148, 156, 182])], dtype=object)"
      ]
     },
     "execution_count": 259,
     "metadata": {},
     "output_type": "execute_result"
    }
   ],
   "source": [
    "res_20_mask[idx][0]"
   ]
  },
  {
   "cell_type": "code",
   "execution_count": 265,
   "metadata": {},
   "outputs": [
    {
     "data": {
      "text/plain": [
       "array([list([89.0, 1110.0, 447.0, 462.0, 306.0, 1111.0, 1148.0, 1104.0, 1016.0, 1245.0, 1370.0, 685.0, 761.0, 175.0, 80.0]),\n",
       "       list([723.0, 631.0, 693.0, 678.0]),\n",
       "       list([126.0, 225.0, 198.0, 210.0, 170.0, 229.0, 147.0, 312.0, 232.0, 315.0, 215.0, 547.0, 675.0, 369.0, 177.0, 166.0, 152.0]),\n",
       "       list([203.0, 229.0, 624.0, 471.0, 255.0, 200.0, 201.0, 218.0, 157.0, 255.0, 169.0, 520.0, 499.0, 378.0, 589.0, 396.0, 322.0, 174.0, 170.0, 288.0, 162.0]),\n",
       "       list([580.0, 47.0, 101.0, 192.0, 132.0, 97.0, 221.0, 73.0, 124.0, 60.0]),\n",
       "       list([57.0, 295.0, 232.0, 193.0, 252.0, 230.0, 57.0, 41.0]),\n",
       "       list([36.0, 85.0, 187.0, 196.0, 185.0]),\n",
       "       list([9.0, 19.0, 32.0, 92.0, 178.0, 162.0, 64.0, 7.0]),\n",
       "       list([69.0, 88.0, 90.0, 132.0, 117.0, 59.0, 115.0, 164.0, 85.0]),\n",
       "       list([49.0, 65.0, 109.0, 64.0, 129.0, 116.0, 34.0]),\n",
       "       list([87.0, 116.0, 68.0, 20.0]), list([6.0, 55.0, 93.0]),\n",
       "       list([56.0, 37.0, 39.0, 64.0, 6.0, 9.0, 14.0, 9.0]),\n",
       "       list([20.0, 23.0, 22.0, 23.0, 7.0, 26.0, 27.0, 16.0, 6.0, 13.0]),\n",
       "       list([12.0, 20.0, 24.0, 6.0, 17.0, 16.0, 16.0, 16.0, 14.0, 8.0, 13.0, 18.0, 13.0, 17.0, 11.0, 8.0, 7.0]),\n",
       "       list([18.0, 18.0, 6.0, 14.0, 19.0, 6.0])], dtype=object)"
      ]
     },
     "execution_count": 265,
     "metadata": {},
     "output_type": "execute_result"
    }
   ],
   "source": [
    "res_20_mask[idx][1]"
   ]
  },
  {
   "cell_type": "code",
   "execution_count": 260,
   "metadata": {},
   "outputs": [
    {
     "data": {
      "text/plain": [
       "['TGTTCGGCGGGGCGGTAGTACCACTGTTTTTT',\n",
       " 'ATCAACATGCAGCGCGAACGGCTGCCCCTCGC',\n",
       " 'AATCGTGTGTAAATTCGCGGCGGCTCCACTG',\n",
       " 'TGGTCGAAATATAGACAGCATGTTCCGTACCA',\n",
       " 'ATTTTGCTGGGAGTCATTCCCAGCTCCGTAA',\n",
       " 'ACCCCGGATAAAGGTTTACCAGTGTTACGGTC',\n",
       " 'GCTACATGGAGACGCATCATGACGTACAAAA',\n",
       " 'TCCAACCTTCCATGAGATACGCGCATTAGCGG',\n",
       " 'CGTGACCGCCTGTACACGCTGTAATGGCTCA',\n",
       " 'ACACTATCCGGGCGGTATTACGCCCAAATATC',\n",
       " 'CTGCCGGGTGAAACCACTCGCGGCAGATCTT',\n",
       " 'GCGCCGATGTGATGGGATAGTTGCTCTGCCAG',\n",
       " 'GTTTCGAGTCGATGAAACAGCAGGTAATCAGT',\n",
       " 'GTCGACCATATGCCAAGACCAACTATCTGAT',\n",
       " 'GCCGGTTCGCGCCGGGTCGAACCCGCCCCAC',\n",
       " 'TCATCATTATCTGGATTATCTAATTCGTCAG',\n",
       " 'GCGATCGGCGTGCTGGATAAACTGGAGGAGC',\n",
       " 'CGCCAGCAGCACAGCAACAGCGAGGTAACCA']"
      ]
     },
     "execution_count": 260,
     "metadata": {},
     "output_type": "execute_result"
    }
   ],
   "source": [
    "[grs_20[idx][4][x] for x in res_20_mask[idx][0][2]]"
   ]
  },
  {
   "cell_type": "code",
   "execution_count": 261,
   "metadata": {},
   "outputs": [],
   "source": [
    "answ = [\"ACATGAATGTCGGTTCAGACCGTGTTTTTACC\tAGTGCTGGACCATTTCAAATTCACAATAGATT\tGGAATGATATTTCAATAAATAATTATAACAAT\tTTTTTGTTAATTGCGTTTGCCACGGTTTGCAA\tTGAGCGTCGGCGGCTCGCTGGATTTGCGCGG\tAATGCATCAGTTGAACACAAAAGTAGCTTTTC\tTAAACCACCAGCCAGACCACCAATTACCACAC\tGCGATGGATCAGGGTATTACACTCGACGGCGG\",\n",
    "       \"TTACTGCTTGGTATGCGGAATCACACCCTGAA\tTGAAGCATCAAACATTTGGTGGACCAAACGGA\tTGTACGCGGCGAGTTTTAGCGACAGGTCATCC\tGATCTGCCAGCGCCTCTGCGGGGCGGTAAAC\", \n",
    "        \"TGTACGCGGCGAGTTTTAGCGACAGGTCATCC\tGGATCTGCCAGCGCCTCTGCGGGGCGGTAAAC\tTACGCCAGCCACCTGCTTCGCCAGCCGTTCGG\tTCACGGTAGCGCCACTGCGCGTCGGTGACGGG\tAACGAACAGGGATTTGTCGGCAGTTTCTTTAC\tATAATTCGCAAATCAATATATATTTTGTCCGT\tGGGTGCGGATGCTCCCGGAATTGCGCGGGCAA\",\n",
    "       \"TTGGTTGTTCGGCGTTTTGAAGAGAACAAAAA\tTTCCCGCGCGATTGCGATCGCCATCGTCCGAT\tTATATAAACGAGGTGAATTTATGGAAACTGTA\tTTTTTATGCGTGGCAGTAAATCCCCACGTCGG\tCGGCGAAAGCGGATGCGTTCACCAATGGTCAT\tAAACAGATTGTTCGTTTTCCCCATATTCATGA\tGGTGAACCCCATCACCAAGAACATGAAGCCGT\tTGAGGTATTCCGCCAGGGCGGACAATTTATCA\tAAGCGCGCCCCATTTAACGCCGCTGCCGACGG\tCCTTTTGATATTCGTGAACCAGACTTTTT\",\n",
    "       \"AGAAGCATCGAAATTTGGGGGACCGGCGGA\tTGTACGCGGCGAGTTTTAGCGACAGGTCATCC\tATTCAAAATTACTCGTTGAGGAAATATATAGT\tCGCTGTTAGACGCCCTGTTTGATGATGACGCC\",\n",
    "        \"AAAACCAAACTTCTCCATAAATTCCATAGCCG\tGAGTCTATCAGCGACACTACCGGCAATAGCGA\tCTATAGCGCCACGTTCCGAGCGCTGCGAGCTG\tGGCCTATGCGTTTTTCTCTCTGTTAATGCGCCCC\tCTAATGAGTCAGTTTGAACAGATCCCCGACAA\tGGCTTTAAAATTGTGTTCCCGTCTGGCGCTGG\tGAGAGTGCTGACAGGTGTCTCGATTACCTGAT\tGGTAGTACGCGCCTCCGGACGTTTTTATGTCG\tTCTTCGCGGGTAATCAATGATGATTCAGTTTC\tGAACGCAATATCACGGCGTTCTGCGGCCTCGG\tGCATCCATGCCGACGCCTTTACGTGTGCGGGG\tGCGCGAATTTGTGCGCATGGGGCGCATTTTTGG\tACGGTCCATGGCACACAGGATCCAGACGTTAA\tACGATGGCGATGCGTGAGAAAGGGGGTCGATA\tAGTTCGCTGAGTAGCCTTTTTTCTGTGCCTAA\",\n",
    "        \"AAAACCAAACTTCTCCATAAATTCCATAGCCG\tGAGTCTATCAGCGACACTACCGGCAATAGCGA\tCTATAGCGCCACGTTCCGAGCGCTGCGAGCTG\tGGCTTTAAAATTGTGTTCCCGTCTGGCGCTGG\tGAGAGTGCTGACAGGTGTCTCGATTACCTGAT\tACGGTCCATGGCACACAGGATCCAGACGTTAA\tACGATGGCGATGCGTGAGAAAGGGGGTCGATA\tAGTTCGCTGAGTAGCCTTTTTTCTGTGCCTAAC\tGAGGTGGCAATACGCGTAGATCATTTGGTCGT\tCAAAATATTACGAGCTTCGTCAGGCCATGGAC\tGTAACGTCTGCCTTTTCCTCGTCCGCCTTAAT\tCCTGTCATTCTGGCGGTAAAATCGATCTGCCA\tATTAGCATCCCCGTGAATAATTTTCTATTTTTAG\tGCGCGCGTGACGCGTTTTTTTTTTCAGTCGTGAC\",\n",
    "        \"AAAACCAAACTTCTCCATAAATTCCATAGCCG\tGAGTCTATCAGCGACACTACCGGCAATAGCGA\tCTATAGCGCCACGTTCCGAGCGCTGCGAGCTG\tCTAATGAGTCAGTTTGAACAGATCCCCGACAA\tGGCTTTAAAATTGTGTTCCCGTCTGGCGCTGG\tGCATCCATGCCGACGCCTTTACGTGTGCGGGG\tGCGCGAATTTGTGCGCATGGGGCGCATTTTTGG\",\n",
    "        \n",
    "        \"CCCGCATTCAGACGTTTCAAATTGAGAGG\tCCGTCCACCCTGATAGCCGCCCTTGTGATC\tTACTGCTCCGCGGCGTTTCTCCCTCGCCCAG\tTCATTTCCCATGCAAAATGCTGCATTCCTGGC\tAGTGGCAGGCCGGTAATATGAAAACGACAGAG\tATCTTCTTGTTCAGGAACGTCAGTAGAGGTGT\tAGCATTAACCCCCACCAGCTCGACGTGTGTGG\tGCGGGCGTTAACGCGGTGATACTGTTTGACGG\tACCGAGCGCCGCTGGGAGGCGTATCTCACGTT\tTGAATGATCGGAAAGACGCTGCAAAGGCAATG\tTACCAAACCGGAATCGCTCCATATAACGGCGG\tCAACCCGGCGGCACGGTCAATCGTTGCGTCAG\tGACTCAAAACGGCGCAGGTCAAAATCGTTCAA\tGGTGAATACTGCGGCAGGCGCTGCGGGAATTG\",\n",
    "        \"GCCTGACATTGCAGACGTTACAAATTGAGAGG\tTACCGGTGTGAATTACAGCACCACCGCCACCC\tCAAACAGGTCGACATGTTTGGCTAACAGCTAA\tCGATAACACAGGGCCGTCAATGCGGCCCTTTT\tTTTTACCGTAACGCAGCACAAGACACGCTCCG\tCCCAGATGACAGCTTGCCTAAAACGAAAGCAG\tGGCGAACAACCGACCCCTGTTGGACCCGACGA\tGCGGAAAACAGCCAAAATAACGCAATTACCGC\tAGCAGCAACAATATTAACGCGCAGTGCTGCCAG\",\n",
    "        \"ATATACAGCAAACCTTCAGAATGCATTCCGGG\tGCCGTCTGCCTCCAGCCCAGCCCTGGATATTT\tTGGTTCACTCACGCAACGTCTGAGCGCGTTGA\tAGGGCCGCCGCTACCCCAGAAGTGCCACTCCC\tGCGTATCGTCTCGTTATTGCGCCGCCCCAACT\tAGTATGCGTTCAATCACTGTCAGGCCTACTTC\tAGTTGCCCGATGGACACTCCCAGACCATCAGC\tACTAAACTTAATGATGGCCGTTACAGCGTGGA\",\n",
    "        \"AACATCGGAAACGGCTTCGCGGCGGCGGCGTC\tGACAGAACGGCCTCAGTAGTCTCGTCAGGCTC\tTACGTGAAGAATATTTGCAACACCCGCAAGAA\tGCCCGCCTCGTCGGTGTATTCCGCGAGATCGC\tATGCTTTTATTCGTCGCGTCTGGCTCAGATTG\tAGCCATTGTTTAAAAATCTCGTCCCGTTCTAT\tACGTAACGAGGCACTGGACTGCCGAAACTACG\tATCCTCTTCGCTGCCGAATCCCTCTGTCGTTA\tCACCCATCTTCCCTTATCGCCGGGTCGCGGAA\",\n",
    "        \"GCCTGACATTGCAGACGTTACAAATTGAGAGGC\tATCACGATAACGCTGCTGTGATTCGTCCCCGTC\tAAGACGACGTGATCCGCAAAGTCGAAGGCACGC\tTGTTTTTCTGCCGGTTTAACACGGTGCGATAAC\tTGTTTCTGTCCCAACTGAACAGCGCCGATAGTC\",\n",
    "        \"GCCTGACATTGCAGACGTTACAAATTGAGAGG\tTACTGCTCCGCTGGCGTTTCTCCCTCGCCCAG\tTCATTTCCCATGCAAAATGCTGCATTCCTGGC\tAGTGGCAGGCCGGTAATATGAAAACGACAGAG\tATCTTCTTGTTCAGGAACGTCAGTAGAGGTGT\tAGCATTAACCCCCACCAGCTCGACGTGTGTGG\tGCGGGCGTTAACGCGGTGATACTGTTTGACGG\tACCGAGCGCCGCTGGGAGGCGTATCTCACGTT\tTGAATGATCGGAAAGACGCTGCAAAGGCAATG\tTACCAAACCGGAATCGCTCCATATAACGGCGG\tCAACCCGGCGGCACGGTCAATCGTTGCGTCAG\tGACTCAAAACGGCGCAGGTCAAAATCGTTCAA\tGGTGAATACTGCGGCAGGCGCTGCGGGAATTG\",\n",
    "        \"AACATCGGAAACGGCTTCGCGGCGGCGGCGTC\tACGTGAAGAATATTTGCAACACCCGCAAGAA\tGGCATAGCCAGGCTGATCCGGCGACGGCCTTA\tGCCCGCCTCGTCGGTGTATTCCGCGAGATCGC\tGTTATCACCGAGTGCAGTAGCCCGCGCGCGCT\tGTCGCCGGGTTGATTTTCCATGATGATTTTTA\tGTAACGTGGCGACGACCGGCGATTGATTTCAG\tTCGAACCTGTTTTTCTTAGTGCGCGCAACGTC\tCGTCCGGATCGGTTTCGAGAATCTCTACGCTC\tGTTGTTGTAATAAAGCCCCGGAGTTTTATATC\tGGGTTGACGCCAGCGAACATTGACTCAGATGC\tTACAGTTAAGCGTAAAGTAAGTGATACTGGTG\tGTTTTCATTTGCACGAGCTGCACCATAAGAAG\",\n",
    "        \"GCCTGACATTGCAGACGTTACAAATTGAGAGGC\tATCACGATAACGCTGCTGTGATTCGTCCCCGTC\tAAGACGACGTGATCCGCAAAGTCGAAGGCACGC\tTGTTTTTCTGCCGGTTTAACACGGTGCGATAAC\tTGTTTCTGTCCCAACTGAACAGCGCCGATAGTC\"\n",
    "       ]"
   ]
  },
  {
   "cell_type": "code",
   "execution_count": 239,
   "metadata": {},
   "outputs": [],
   "source": [
    "answ = [\n",
    "    \"ACATGAATGTCGGTTCAGACCGTGTTTTTACC\tAGTGCTGGACCATTTCAAATTCACAATAGATT\tGGAATGATATTTCAATAAATAATTATAACAAT\tTTTTTGTTAATTGCGTTTGCCACGGTTTGCAA\tTGAGCGTCGGCGGCTCGCTGGATTTGCGCGG\tAATGCATCAGTTGAACACAAAAGTAGCTTTTC\tTAAACCACCAGCCAGACCACCAATTACCACAC\tGCGATGGATCAGGGTATTACACTCGACGGCGG\",\n",
    "    \"ACATGAATGTCGGTTCAGACCGTGTTTTTACC\tAGTGCTGGACCATTTCAAATTCACAATAGATT\tGGAATGATATTTCAATAAATAATTATAACAAT\tTTTTTGTTAATTGCGTTTGCCACGGTTTGCAA\tTGAGCGTCGGCGGCTCGCTGGATTTGCGCGG\tAATGCATCAGTTGAACACAAAAGTAGCTTTTC\tTTTTGCTGACACCGGCAATACTGAACGGCTGG\tACGGATTGCGGTATATGCAGTGTCCAGATTCT\tTAAACCACCAGCCAGACCACCAATTACCACAC\tGGGGATAACGGTTATCCACTGGCCGCCGATCT\tTGTAATAGCCTGATCTCTGATCTCCCTCGCCT\tCTGTCCCAGGCCGAGGCTGTATTTCAATCCTG\tGCGATGGATCAGGGTATTACACTCGACGGCGG\tGCTGCGGGTCAATCAACTGGAGTGCAAATCCCC\tGTCGCGCGCCGACGGGAATAAACCGAATAAATTT\tTCGTCAGGCACATACTGAGTTCGCAACAAA\",\n",
    "    \"CCCGCATTCAGACGTTTCAAATTGAGAGG\tCCGTCCACCCTGATAGCCGCCCTTGTGATC\tTACTGCTCCGCGGCGTTTCTCCCTCGCCCAG\tTCATTTCCCATGCAAAATGCTGCATTCCTGGC\tAGTGGCAGGCCGGTAATATGAAAACGACAGAG\tATCTTCTTGTTCAGGAACGTCAGTAGAGGTGT\tAGCATTAACCCCCACCAGCTCGACGTGTGTGG\tGCGGGCGTTAACGCGGTGATACTGTTTGACGG\tACCGAGCGCCGCTGGGAGGCGTATCTCACGTT\tTGAATGATCGGAAAGACGCTGCAAAGGCAATG\tTACCAAACCGGAATCGCTCCATATAACGGCGG\tCAACCCGGCGGCACGGTCAATCGTTGCGTCAG\tGACTCAAAACGGCGCAGGTCAAAATCGTTCAA\tGGTGAATACTGCGGCAGGCGCTGCGGGAATTG\",\n",
    "    \"AACATCGGAAACGGCTTCGCGGCGGCGGCGTC\tACGTGAAGAATATTTGCAACACCCGCAAGAA\tGGCATAGCCAGGCTGATCCGGCGACGGCCTTA\tGCCCGCCTCGTCGGTGTATTCCGCGAGATCGC\tGTTATCACCGAGTGCAGTAGCCCGCGCGCGCT\tGTCGCCGGGTTGATTTTCCATGATGATTTTTA\tGTAACGTGGCGACGACCGGCGATTGATTTCAG\tTCGAACCTGTTTTTCTTAGTGCGCGCAACGTC\tCGTCCGGATCGGTTTCGAGAATCTCTACGCTC\tGTTGTTGTAATAAAGCCCCGGAGTTTTATATC\tGGGTTGACGCCAGCGAACATTGACTCAGATGC\tTACAGTTAAGCGTAAAGTAAGTGATACTGGTG\tGTTTTCATTTGCACGAGCTGCACCATAAGAAG\"\n",
    "]"
   ]
  },
  {
   "cell_type": "code",
   "execution_count": 262,
   "metadata": {},
   "outputs": [],
   "source": [
    "answ = [x.split(\"\\t\") for x in answ]"
   ]
  },
  {
   "cell_type": "code",
   "execution_count": 263,
   "metadata": {},
   "outputs": [],
   "source": [
    "vals = [[hu.find_closest(grs_20[idx][3], x) for x in y] for y in answ]\n",
    "answ_n = [[grs_20[idx][3][hu.find_closest(grs_20[idx][3], x)[1]] for x in y] for y in answ]\n",
    "gr_answ = hamu.list_to_gr([[grs_20[idx][3][hu.find_closest(grs_20[idx][3], x)[1]] for x in y] for y in answ], grs_20[idx][0].shape[0])"
   ]
  },
  {
   "cell_type": "code",
   "execution_count": null,
   "metadata": {},
   "outputs": [],
   "source": []
  },
  {
   "cell_type": "code",
   "execution_count": null,
   "metadata": {},
   "outputs": [],
   "source": []
  },
  {
   "cell_type": "markdown",
   "metadata": {},
   "source": [
    "## 40"
   ]
  },
  {
   "cell_type": "code",
   "execution_count": 211,
   "metadata": {
    "scrolled": false
   },
   "outputs": [
    {
     "data": {
      "image/png": "[encoded data removed]",
      "text/plain": [
       "<matplotlib.figure.Figure at 0x7f515a3442e8>"
      ]
     },
     "metadata": {},
     "output_type": "display_data"
    },
    {
     "data": {
      "image/png": "[encoded data removed]",
      "text/plain": [
       "<matplotlib.figure.Figure at 0x7f5164d57eb8>"
      ]
     },
     "metadata": {},
     "output_type": "display_data"
    },
    {
     "data": {
      "image/png": "[encoded data removed]",
      "text/plain": [
       "<matplotlib.figure.Figure at 0x7f515d416c50>"
      ]
     },
     "metadata": {},
     "output_type": "display_data"
    },
    {
     "data": {
      "image/png": "[encoded data removed]",
      "text/plain": [
       "<matplotlib.figure.Figure at 0x7f513e6060b8>"
      ]
     },
     "metadata": {},
     "output_type": "display_data"
    }
   ],
   "source": [
    "for gr2, gr4 in zip(grs_20, grs_40:\n",
    "    pu.plot_gr(gr[0][:20, :20], log =1, all_ticks=1)"
   ]
  },
  {
   "cell_type": "code",
   "execution_count": 213,
   "metadata": {},
   "outputs": [],
   "source": [
    "res_40 = [hamu.restore_arrays(gr[0],threashold=5) for gr in grs_40]"
   ]
  },
  {
   "cell_type": "code",
   "execution_count": 214,
   "metadata": {},
   "outputs": [],
   "source": [
    "def mask(arrs, ws, l = 2):\n",
    "    arrs = np.array(arrs)\n",
    "    ws = np.array(ws)\n",
    "    mask = np.array([len(x) for x in arrs]) > l\n",
    "    return arrs[mask], ws[mask]"
   ]
  },
  {
   "cell_type": "code",
   "execution_count": 215,
   "metadata": {},
   "outputs": [],
   "source": [
    "res_40_mask = [mask(*x) for x in res_40]"
   ]
  },
  {
   "cell_type": "code",
   "execution_count": 216,
   "metadata": {},
   "outputs": [],
   "source": [
    "idx = 2"
   ]
  },
  {
   "cell_type": "code",
   "execution_count": 217,
   "metadata": {},
   "outputs": [
    {
     "data": {
      "text/plain": [
       "array([list([24, 17, 2, 3, 7, 1, 0, 6, 16]),\n",
       "       list([20, 19, 18, 11, 9, 12, 5, 4, 10, 15, 14, 8, 13]),\n",
       "       list([21, 23, 22, 25, 31]), list([35, 28, 27, 30, 29, 26, 32])],\n",
       "      dtype=object)"
      ]
     },
     "execution_count": 217,
     "metadata": {},
     "output_type": "execute_result"
    }
   ],
   "source": [
    "res_40_mask[idx][0]"
   ]
  },
  {
   "cell_type": "code",
   "execution_count": 181,
   "metadata": {},
   "outputs": [
    {
     "data": {
      "text/plain": [
       "array([list([694.0, 2071.0, 4805.0, 5449.0, 1445.0, 6484.0, 4876.0, 1267.0]),\n",
       "       list([272.0, 534.0, 1386.0, 5043.0, 3091.0, 4755.0, 5666.0, 3821.0, 1899.0, 1714.0, 2391.0, 2531.0]),\n",
       "       list([222.0, 183.0, 181.0, 38.0]),\n",
       "       list([8.0, 78.0, 94.0, 40.0, 51.0, 37.0]), list([7.0, 11.0]),\n",
       "       list([6.0, 6.0])], dtype=object)"
      ]
     },
     "execution_count": 181,
     "metadata": {},
     "output_type": "execute_result"
    }
   ],
   "source": [
    "res_20_mask[idx][1]"
   ]
  },
  {
   "cell_type": "code",
   "execution_count": 182,
   "metadata": {},
   "outputs": [
    {
     "data": {
      "text/plain": [
       "['AACATCGGAAACGGCTTCGCGGCGGCGGCGTC',\n",
       " 'GCGATGGATCAGGGTATTACACTCGACGGCGG',\n",
       " 'GTAACGTGGCGACGACCGGCGATTGATTTCAG',\n",
       " 'GGAATGATATTTCAATAAATAATTATAACAAT',\n",
       " 'TTTTTGTTAATTGCGTTTGCCACGGTTTGCA',\n",
       " 'TGAGCGTCGGCGGCTCGCTGGATTTGCGCGG',\n",
       " 'AATGCATCAGTTGAACACAAAAGTAGCTTTT',\n",
       " 'TACAGTTAAGCGTAAAGTAAGTGATACTGGTG',\n",
       " 'GGCATAGCCAGGCTGATCCGGCGACGGCCTTA']"
      ]
     },
     "execution_count": 182,
     "metadata": {},
     "output_type": "execute_result"
    }
   ],
   "source": [
    "[grs[idx][4][x] for x in res_20_mask[idx][0][0]]"
   ]
  },
  {
   "cell_type": "code",
   "execution_count": 183,
   "metadata": {},
   "outputs": [],
   "source": [
    "answ = [\n",
    "    \"ACATGAATGTCGGTTCAGACCGTGTTTTTACC\tAGTGCTGGACCATTTCAAATTCACAATAGATT\tGGAATGATATTTCAATAAATAATTATAACAAT\tTTTTTGTTAATTGCGTTTGCCACGGTTTGCAA\tTGAGCGTCGGCGGCTCGCTGGATTTGCGCGG\tAATGCATCAGTTGAACACAAAAGTAGCTTTTC\tTAAACCACCAGCCAGACCACCAATTACCACAC\tGCGATGGATCAGGGTATTACACTCGACGGCGG\",\n",
    "    \"ACATGAATGTCGGTTCAGACCGTGTTTTTACC\tAGTGCTGGACCATTTCAAATTCACAATAGATT\tGGAATGATATTTCAATAAATAATTATAACAAT\tTTTTTGTTAATTGCGTTTGCCACGGTTTGCAA\tTGAGCGTCGGCGGCTCGCTGGATTTGCGCGG\tAATGCATCAGTTGAACACAAAAGTAGCTTTTC\tTTTTGCTGACACCGGCAATACTGAACGGCTGG\tACGGATTGCGGTATATGCAGTGTCCAGATTCT\tTAAACCACCAGCCAGACCACCAATTACCACAC\tGGGGATAACGGTTATCCACTGGCCGCCGATCT\tTGTAATAGCCTGATCTCTGATCTCCCTCGCCT\tCTGTCCCAGGCCGAGGCTGTATTTCAATCCTG\tGCGATGGATCAGGGTATTACACTCGACGGCGG\tGCTGCGGGTCAATCAACTGGAGTGCAAATCCCC\tGTCGCGCGCCGACGGGAATAAACCGAATAAATTT\tTCGTCAGGCACATACTGAGTTCGCAACAAA\",\n",
    "    \"CCCGCATTCAGACGTTTCAAATTGAGAGG\tCCGTCCACCCTGATAGCCGCCCTTGTGATC\tTACTGCTCCGCGGCGTTTCTCCCTCGCCCAG\tTCATTTCCCATGCAAAATGCTGCATTCCTGGC\tAGTGGCAGGCCGGTAATATGAAAACGACAGAG\tATCTTCTTGTTCAGGAACGTCAGTAGAGGTGT\tAGCATTAACCCCCACCAGCTCGACGTGTGTGG\tGCGGGCGTTAACGCGGTGATACTGTTTGACGG\tACCGAGCGCCGCTGGGAGGCGTATCTCACGTT\tTGAATGATCGGAAAGACGCTGCAAAGGCAATG\tTACCAAACCGGAATCGCTCCATATAACGGCGG\tCAACCCGGCGGCACGGTCAATCGTTGCGTCAG\tGACTCAAAACGGCGCAGGTCAAAATCGTTCAA\tGGTGAATACTGCGGCAGGCGCTGCGGGAATTG\",\n",
    "    \"AACATCGGAAACGGCTTCGCGGCGGCGGCGTC\tACGTGAAGAATATTTGCAACACCCGCAAGAA\tGGCATAGCCAGGCTGATCCGGCGACGGCCTTA\tGCCCGCCTCGTCGGTGTATTCCGCGAGATCGC\tGTTATCACCGAGTGCAGTAGCCCGCGCGCGCT\tGTCGCCGGGTTGATTTTCCATGATGATTTTTA\tGTAACGTGGCGACGACCGGCGATTGATTTCAG\tTCGAACCTGTTTTTCTTAGTGCGCGCAACGTC\tCGTCCGGATCGGTTTCGAGAATCTCTACGCTC\tGTTGTTGTAATAAAGCCCCGGAGTTTTATATC\tGGGTTGACGCCAGCGAACATTGACTCAGATGC\tTACAGTTAAGCGTAAAGTAAGTGATACTGGTG\tGTTTTCATTTGCACGAGCTGCACCATAAGAAG\"\n",
    "]"
   ]
  },
  {
   "cell_type": "code",
   "execution_count": 202,
   "metadata": {},
   "outputs": [],
   "source": [
    "answ = [x.split(\"\\t\") for x in answ]"
   ]
  },
  {
   "cell_type": "code",
   "execution_count": 205,
   "metadata": {},
   "outputs": [],
   "source": [
    "vals = [[hu.find_closest(grs[idx][3], x) for x in y] for y in answ]\n",
    "answ_n = [[grs[idx][3][hu.find_closest(grs[idx][3], x)[1]] for x in y] for y in answ]\n",
    "gr_answ = hamu.list_to_gr([[grs[idx][3][hu.find_closest(grs[idx][3], x)[1]] for x in y] for y in answ], grs[idx][0].shape[0])"
   ]
  },
  {
   "cell_type": "code",
   "execution_count": 206,
   "metadata": {},
   "outputs": [
    {
     "data": {
      "text/plain": [
       "[[17, 2, 3, 7, 1, 0, 6, 16],\n",
       " [17, 2, 3, 7, 1, 0, 82, 84, 6, 84, 86, 37, 16, 54, 52, 53],\n",
       " [21, 62, 114, 97, 69, 70, 109, 48, 87, 88, 37, 65, 66, 78],\n",
       " [20, 19, 18, 11, 9, 12, 5, 4, 10, 15, 14, 8, 13]]"
      ]
     },
     "execution_count": 206,
     "metadata": {},
     "output_type": "execute_result"
    }
   ],
   "source": [
    "answ_n"
   ]
  },
  {
   "cell_type": "code",
   "execution_count": 207,
   "metadata": {},
   "outputs": [
    {
     "data": {
      "text/plain": [
       "[[(0, 'ACATGAATGTCGGTTCAGACCGTGTTTTTACC'),\n",
       "  (0, 'AGTGCTGGACCATTTCAAATTCACAATAGATT'),\n",
       "  (0, 'GGAATGATATTTCAATAAATAATTATAACAAT'),\n",
       "  (1, 'TTTTTGTTAATTGCGTTTGCCACGGTTTGCA'),\n",
       "  (0, 'TGAGCGTCGGCGGCTCGCTGGATTTGCGCGG'),\n",
       "  (1, 'AATGCATCAGTTGAACACAAAAGTAGCTTTT'),\n",
       "  (1, 'TAAACCACCAGCCAGACCACCAATTACCACA'),\n",
       "  (0, 'GCGATGGATCAGGGTATTACACTCGACGGCGG')],\n",
       " [(0, 'ACATGAATGTCGGTTCAGACCGTGTTTTTACC'),\n",
       "  (0, 'AGTGCTGGACCATTTCAAATTCACAATAGATT'),\n",
       "  (0, 'GGAATGATATTTCAATAAATAATTATAACAAT'),\n",
       "  (1, 'TTTTTGTTAATTGCGTTTGCCACGGTTTGCA'),\n",
       "  (0, 'TGAGCGTCGGCGGCTCGCTGGATTTGCGCGG'),\n",
       "  (1, 'AATGCATCAGTTGAACACAAAAGTAGCTTTT'),\n",
       "  (13, 'TTGCTATTCATACCGGATTGCGGCACGGTGA'),\n",
       "  (12, 'GGGGATAACGGTTATCCACTGGCCGCCGATCT'),\n",
       "  (1, 'TAAACCACCAGCCAGACCACCAATTACCACA'),\n",
       "  (0, 'GGGGATAACGGTTATCCACTGGCCGCCGATCT'),\n",
       "  (1, 'TGTAATAGCCTGATCTCTGATCTCCCTCGCC'),\n",
       "  (15, 'GCCCACGCCTCAACGCGGCACATAAAATCGTG'),\n",
       "  (0, 'GCGATGGATCAGGGTATTACACTCGACGGCGG'),\n",
       "  (14, 'CCGCCAGGGTTATTCCACCCGGAGCAAACGC'),\n",
       "  (15, 'CCACCGCGCGACGGGTACAACAAATTAACCGG'),\n",
       "  (14, 'ACTCATACATCGATGACGGAGTAAGCAGTACG')],\n",
       " [(5, 'GCCTGACATTGCAGACGTTACAAATTGAGAGG'),\n",
       "  (2, 'TCCGTCCACCCTGATAGCCGCCCTTGTGATCC'),\n",
       "  (2, 'TACTGCTCCGCTGGCGTTTCTCCCTCGCCCA'),\n",
       "  (0, 'TCATTTCCCATGCAAAATGCTGCATTCCTGGC'),\n",
       "  (0, 'AGTGGCAGGCCGGTAATATGAAAACGACAGAG'),\n",
       "  (1, 'ATCTTCTTGTTCAGGAACGTCAGTAGAGGTG'),\n",
       "  (0, 'AGCATTAACCCCCACCAGCTCGACGTGTGTGG'),\n",
       "  (0, 'GCGGGCGTTAACGCGGTGATACTGTTTGACGG'),\n",
       "  (0, 'ACCGAGCGCCGCTGGGAGGCGTATCTCACGTT'),\n",
       "  (2, 'TGAATGATCGGAAAGACGCTGCAAAAGCAAT'),\n",
       "  (14, 'GCCCACGCCTCAACGCGGCACATAAAATCGTG'),\n",
       "  (0, 'CAACCCGGCGGCACGGTCAATCGTTGCGTCAG'),\n",
       "  (1, 'GACTCAAAACGGCGCAGGTCAAAATCGTTCA'),\n",
       "  (0, 'GGTGAATACTGCGGCAGGCGCTGCGGGAATTG')],\n",
       " [(0, 'AACATCGGAAACGGCTTCGCGGCGGCGGCGTC'),\n",
       "  (1, 'TACGTGAAGAATATTTGCAACACCCGCAAGAA'),\n",
       "  (0, 'GGCATAGCCAGGCTGATCCGGCGACGGCCTTA'),\n",
       "  (0, 'GCCCGCCTCGTCGGTGTATTCCGCGAGATCGC'),\n",
       "  (1, 'GTTATCACCGAGTGCAGTAGCCCGCGCGCGC'),\n",
       "  (0, 'GTCGCCGGGTTGATTTTCCATGATGATTTTTA'),\n",
       "  (0, 'GTAACGTGGCGACGACCGGCGATTGATTTCAG'),\n",
       "  (1, 'TCGAACCTGTTTTTCTTAGTGCGCGCAACGT'),\n",
       "  (1, 'CGTCCGGATCGGTTTCGAGAATCTCTACGCT'),\n",
       "  (1, 'GTTGTTGTAATAAAGCCCCGGAGTTTTATAT'),\n",
       "  (0, 'GGGTTGACGCCAGCGAACATTGACTCAGATGC'),\n",
       "  (0, 'TACAGTTAAGCGTAAAGTAAGTGATACTGGTG'),\n",
       "  (1, 'GTTTTCATTTGCACGAGCTGCACCATAAGAA')]]"
      ]
     },
     "execution_count": 207,
     "metadata": {},
     "output_type": "execute_result"
    }
   ],
   "source": [
    "vals"
   ]
  },
  {
   "cell_type": "code",
   "execution_count": null,
   "metadata": {},
   "outputs": [],
   "source": []
  },
  {
   "cell_type": "code",
   "execution_count": null,
   "metadata": {},
   "outputs": [],
   "source": []
  },
  {
   "cell_type": "code",
   "execution_count": 52,
   "metadata": {},
   "outputs": [],
   "source": [
    "arrs, ws = hamu.restore_arrays(gr[0],threashold=2)"
   ]
  },
  {
   "cell_type": "code",
   "execution_count": 53,
   "metadata": {},
   "outputs": [],
   "source": [
    "arrs = np.array(arrs)\n",
    "ws = np.array(ws)"
   ]
  },
  {
   "cell_type": "code",
   "execution_count": 54,
   "metadata": {},
   "outputs": [
    {
     "data": {
      "text/plain": [
       "array([list([110.0, 632.0, 2819.0, 2511.0, 868.0, 3457.0, 2256.0, 474.0]),\n",
       "       list([200.0, 290.0, 397.0, 1509.0, 1148.0, 1508.0, 2473.0, 1634.0, 590.0, 501.0, 1094.0, 1245.0]),\n",
       "       list([128.0, 99.0, 98.0, 29.0]),\n",
       "       list([7.0, 39.0, 34.0, 20.0, 26.0, 24.0]), list([3.0, 10.0]),\n",
       "       list([8.0, 3.0, 3.0]), list([5.0, 3.0, 4.0]), list([5.0]),\n",
       "       list([4.0, 4.0, 4.0]), list([3.0, 4.0]), list([4.0]), list([3.0]),\n",
       "       list([3.0])], dtype=object)"
      ]
     },
     "execution_count": 54,
     "metadata": {},
     "output_type": "execute_result"
    }
   ],
   "source": [
    "ws"
   ]
  },
  {
   "cell_type": "code",
   "execution_count": 103,
   "metadata": {},
   "outputs": [
    {
     "data": {
      "text/plain": [
       "0.6973755853207013"
      ]
     },
     "execution_count": 103,
     "metadata": {},
     "output_type": "execute_result"
    }
   ],
   "source": [
    "gr[0][gr_answ.astype(bool)].sum() / gr[0].sum()"
   ]
  },
  {
   "cell_type": "code",
   "execution_count": null,
   "metadata": {},
   "outputs": [],
   "source": []
  },
  {
   "cell_type": "code",
   "execution_count": 83,
   "metadata": {},
   "outputs": [
    {
     "data": {
      "text/plain": [
       "[[0, 0, 0, 1, 0, 1, 1, 0],\n",
       " [0, 0, 0, 1, 0, 1, 13, 12, 1, 0, 1, 15, 0, 14, 15, 14],\n",
       " [5, 2, 2, 0, 0, 1, 0, 0, 0, 2, 14, 0, 1, 0],\n",
       " [0, 1, 0, 0, 1, 0, 0, 1, 1, 1, 0, 0, 1]]"
      ]
     },
     "execution_count": 83,
     "metadata": {},
     "output_type": "execute_result"
    }
   ],
   "source": [
    "[[hu.find_closest(gr[3], x)[0] for x in y] for y in answ]"
   ]
  },
  {
   "cell_type": "code",
   "execution_count": 87,
   "metadata": {},
   "outputs": [
    {
     "data": {
      "text/plain": [
       "[[742, 3523, 3460, 2822, 3908, 4604, 2954, 843],\n",
       " [742, 3523, 3460, 2822, 3908, 4604, 2, 1, 2954, 1, 1, 11, 843, 5, 5, 5],\n",
       " [190, 3, 1, 1, 3, 2, 1, 5, 1, 1, 11, 3, 3, 2],\n",
       " [360, 393, 614, 1851, 2157, 1841, 3017, 3121, 2141, 853, 1379, 2158, 1458]]"
      ]
     },
     "execution_count": 87,
     "metadata": {},
     "output_type": "execute_result"
    }
   ],
   "source": [
    "[[gr[1][hu.find_closest(gr[3], x)[1]] for x in y] for y in answ]"
   ]
  },
  {
   "cell_type": "code",
   "execution_count": 96,
   "metadata": {},
   "outputs": [
    {
     "data": {
      "text/plain": [
       "['AAAACCAAACTTCTCCATAAATTCCATAGCCG',\n",
       " 'GAGTCTATCAGCGACACTACCGGCAATAGCGA',\n",
       " 'CTATAGCGCCACGTTCCGAGCGCTGCGAGCTG',\n",
       " 'CTAATGAGTCAGTTTGAACAGATCCCCGACA',\n",
       " 'GGCTTTAAAATTGTGTTCCCGTCTGGCGCTGG',\n",
       " 'GCATCCATGCCGACGCCTTTACGTGTGCGGGG',\n",
       " 'GCGCGAATTTGTGCGCATGGGGCGCATTTTTG']"
      ]
     },
     "execution_count": 96,
     "metadata": {},
     "output_type": "execute_result"
    }
   ],
   "source": [
    "[gr[4][x] for x in arrs[3]]"
   ]
  },
  {
   "cell_type": "code",
   "execution_count": 99,
   "metadata": {},
   "outputs": [
    {
     "data": {
      "text/plain": [
       "array([list([110.0, 632.0, 2819.0, 2511.0, 868.0, 3457.0, 2256.0, 474.0]),\n",
       "       list([200.0, 290.0, 397.0, 1509.0, 1148.0, 1508.0, 2473.0, 1634.0, 590.0, 501.0, 1094.0, 1245.0]),\n",
       "       list([128.0, 99.0, 98.0, 29.0]),\n",
       "       list([7.0, 39.0, 34.0, 20.0, 26.0, 24.0]), list([3.0, 10.0]),\n",
       "       list([8.0, 3.0, 3.0]), list([5.0, 3.0, 4.0]), list([5.0]),\n",
       "       list([4.0, 4.0, 4.0]), list([3.0, 4.0]), list([4.0]), list([3.0]),\n",
       "       list([3.0])], dtype=object)"
      ]
     },
     "execution_count": 99,
     "metadata": {},
     "output_type": "execute_result"
    }
   ],
   "source": [
    "ws"
   ]
  },
  {
   "cell_type": "code",
   "execution_count": 100,
   "metadata": {},
   "outputs": [
    {
     "data": {
      "text/plain": [
       "array([list([24, 17, 2, 3, 7, 1, 0, 6, 16]),\n",
       "       list([20, 19, 18, 11, 9, 12, 5, 4, 10, 15, 14, 8, 13]),\n",
       "       list([21, 23, 22, 25, 31]), list([35, 28, 27, 30, 29, 26, 32]),\n",
       "       list([56, 34, 39]), list([37, 38, 40, 53]), list([49, 43, 45, 57]),\n",
       "       list([55, 54]), list([47, 36, 42, 58]), list([46, 41, 50]),\n",
       "       list([51, 44]), list([52, 67]), list([65, 66])], dtype=object)"
      ]
     },
     "execution_count": 100,
     "metadata": {},
     "output_type": "execute_result"
    }
   ],
   "source": [
    "arrs"
   ]
  },
  {
   "cell_type": "code",
   "execution_count": 92,
   "metadata": {},
   "outputs": [
    {
     "data": {
      "text/plain": [
       "'CTGGGCGAGGGAGAAACGCCGCGGAGCAGTA'"
      ]
     },
     "execution_count": 92,
     "metadata": {},
     "output_type": "execute_result"
    }
   ],
   "source": [
    "rc('TACTGCTCCGCGGCGTTTCTCCCTCGCCCAG',r=1)"
   ]
  },
  {
   "cell_type": "code",
   "execution_count": 91,
   "metadata": {},
   "outputs": [
    {
     "data": {
      "text/plain": [
       "'GACCCGCTCCCTCTTTGCGGCGCCTCGTCAT'"
      ]
     },
     "execution_count": 91,
     "metadata": {},
     "output_type": "execute_result"
    }
   ],
   "source": [
    "'TACTGCTCCGCGGCGTTTCTCCCTCGCCCAG'[::-1]"
   ]
  },
  {
   "cell_type": "code",
   "execution_count": 71,
   "metadata": {},
   "outputs": [],
   "source": [
    "pairs,lines = hu.parse_pairs(\"../data/student_Dvyg/EC/DVyg26_S465_R1_001_pairs.txt\", split = ' ')\n",
    "\n"
   ]
  },
  {
   "cell_type": "code",
   "execution_count": 69,
   "metadata": {},
   "outputs": [],
   "source": [
    "import editdistance as ed"
   ]
  },
  {
   "cell_type": "code",
   "execution_count": 78,
   "metadata": {},
   "outputs": [
    {
     "data": {
      "text/plain": [
       "(array([5.3000e+03, 4.7000e+01, 1.0000e+00, 0.0000e+00, 0.0000e+00,\n",
       "        0.0000e+00, 0.0000e+00, 0.0000e+00, 3.0000e+00, 1.6300e+02,\n",
       "        3.4270e+03, 1.2100e+04, 1.2446e+04, 2.7194e+04, 2.2890e+03,\n",
       "        1.0491e+04, 1.0000e+00, 1.0000e+00, 0.0000e+00, 1.0000e+00]),\n",
       " array([ 0.  ,  1.45,  2.9 ,  4.35,  5.8 ,  7.25,  8.7 , 10.15, 11.6 ,\n",
       "        13.05, 14.5 , 15.95, 17.4 , 18.85, 20.3 , 21.75, 23.2 , 24.65,\n",
       "        26.1 , 27.55, 29.  ]),\n",
       " <a list of 20 Patch objects>)"
      ]
     },
     "execution_count": 78,
     "metadata": {},
     "output_type": "execute_result"
    },
    {
     "data": {
      "image/png": "[encoded data removed]",
      "text/plain": [
       "<matplotlib.figure.Figure at 0x7f515ad743c8>"
      ]
     },
     "metadata": {},
     "output_type": "display_data"
    }
   ],
   "source": [
    "plt.hist([ed.eval(lines[len(lines)//2 + 1], x) for x in lines], bins = 20)"
   ]
  },
  {
   "cell_type": "code",
   "execution_count": null,
   "metadata": {},
   "outputs": [],
   "source": []
  },
  {
   "cell_type": "code",
   "execution_count": null,
   "metadata": {},
   "outputs": [],
   "source": []
  },
  {
   "cell_type": "code",
   "execution_count": null,
   "metadata": {},
   "outputs": [],
   "source": []
  },
  {
   "cell_type": "code",
   "execution_count": null,
   "metadata": {},
   "outputs": [],
   "source": []
  },
  {
   "cell_type": "code",
   "execution_count": 71,
   "metadata": {},
   "outputs": [],
   "source": [
    "with open(\"../data/student_Dvyg/EC/gz/25_0_0_grep\") as f:\n",
    "    lines = [x[:-1] for x in f.readlines()]"
   ]
  },
  {
   "cell_type": "code",
   "execution_count": 83,
   "metadata": {},
   "outputs": [
    {
     "data": {
      "text/plain": [
       "'CGCTGGCGCGGGGAACACACATGAATGTCGGTTCAGACCGTGTTTTTACCCGGTTTATCCCCGCTGGCGCGGGGAACACAGTGCTGGACCATTTCAAATTCACAATAGATTCGGTTTATCCCCGCTGGCGCGGGGAACACGGAAAGATCGG'"
      ]
     },
     "execution_count": 83,
     "metadata": {},
     "output_type": "execute_result"
    }
   ],
   "source": [
    "lines[-2]"
   ]
  },
  {
   "cell_type": "code",
   "execution_count": 80,
   "metadata": {
    "scrolled": true
   },
   "outputs": [
    {
     "data": {
      "text/plain": [
       "([-1, -1], [-1, -1])"
      ]
     },
     "execution_count": 80,
     "metadata": {},
     "output_type": "execute_result"
    }
   ],
   "source": [
    "split_read(lines[0], lines[0], ecoli_r_1, e = 6)"
   ]
  },
  {
   "cell_type": "code",
   "execution_count": 82,
   "metadata": {},
   "outputs": [
    {
     "data": {
      "text/plain": [
       "'GCCAAATAGGGGCGACCGCGCCCCTTGWG'"
      ]
     },
     "execution_count": 82,
     "metadata": {},
     "output_type": "execute_result"
    }
   ],
   "source": [
    "ecoli_r_1.rc"
   ]
  },
  {
   "cell_type": "code",
   "execution_count": null,
   "metadata": {},
   "outputs": [],
   "source": []
  },
  {
   "cell_type": "code",
   "execution_count": 85,
   "metadata": {},
   "outputs": [
    {
     "data": {
      "text/plain": [
       "'CWCAAGGGGCGCGGTCGCCCCTATTTGGC'"
      ]
     },
     "execution_count": 85,
     "metadata": {},
     "output_type": "execute_result"
    }
   ],
   "source": [
    "rc(ecoli_r_1.rc)[::-1]"
   ]
  },
  {
   "cell_type": "code",
   "execution_count": 86,
   "metadata": {},
   "outputs": [],
   "source": [
    "%load_ext autoreload\n",
    "%autoreload 2"
   ]
  },
  {
   "cell_type": "code",
   "execution_count": 79,
   "metadata": {},
   "outputs": [],
   "source": [
    "ecoli_r = Repeat(\"GWGTTCCCC(GCGCCAGCG)GGGATAAACCG\", \n",
    "                   \"GWGTTCCCCGCGCCAGCG\",\n",
    "                   \"GCGCCAGCGGGGATAAACCG\",\n",
    "                   \"GWGTTCCCCGCGCCAGCGGGGATAAACCG\")\n",
    "\n",
    "ecoli_r_1 = Repeat(\"GWGTTCCCC(GCGCCAGCG)GGGATAAACCG\", \n",
    "                   \"GCCAAATAGGGGCGACCGCG\",\n",
    "                   \"GCGACCGCGCCCCTTGWG\",\n",
    "                   \"GCCAAATAGGGGCGACCGCGCCCCTTGWG\")\n"
   ]
  },
  {
   "cell_type": "code",
   "execution_count": null,
   "metadata": {},
   "outputs": [],
   "source": [
    "v"
   ]
  },
  {
   "cell_type": "code",
   "execution_count": null,
   "metadata": {},
   "outputs": [],
   "source": []
  },
  {
   "cell_type": "code",
   "execution_count": 97,
   "metadata": {},
   "outputs": [
    {
     "data": {
      "text/plain": [
       "[[32, 32, 32, 32, 31, 32, 32, 32],\n",
       " [32, 32, 32, 32, 31, 32, 32, 32, 32, 32, 32, 32, 32, 33, 34, 30],\n",
       " [29, 30, 31, 32, 32, 32, 32, 32, 32, 32, 32, 32, 32, 32],\n",
       " [32, 31, 32, 32, 32, 32, 32, 32, 32, 32, 32, 32, 32]]"
      ]
     },
     "execution_count": 97,
     "metadata": {},
     "output_type": "execute_result"
    }
   ],
   "source": [
    "[[len(x) for x in y] for y in answ]"
   ]
  },
  {
   "cell_type": "code",
   "execution_count": null,
   "metadata": {},
   "outputs": [],
   "source": []
  },
  {
   "cell_type": "code",
   "execution_count": 106,
   "metadata": {},
   "outputs": [
    {
     "data": {
      "text/plain": [
       "44213"
      ]
     },
     "execution_count": 106,
     "metadata": {},
     "output_type": "execute_result"
    }
   ],
   "source": [
    "(np.array([len(x) for y in res_20_1[0] for x in y]) == 28).sum()"
   ]
  },
  {
   "cell_type": "code",
   "execution_count": 101,
   "metadata": {},
   "outputs": [
    {
     "data": {
      "text/plain": [
       "(array([1.0000e+00, 1.0000e+00, 0.0000e+00, 1.0000e+00, 1.0000e+00,\n",
       "        0.0000e+00, 3.0000e+00, 2.3050e+03, 4.4213e+04, 1.9110e+03,\n",
       "        7.0600e+02, 2.0000e+00, 2.0000e+00, 0.0000e+00, 0.0000e+00,\n",
       "        0.0000e+00, 0.0000e+00, 0.0000e+00, 0.0000e+00, 2.0000e+00]),\n",
       " array([15.  , 16.55, 18.1 , 19.65, 21.2 , 22.75, 24.3 , 25.85, 27.4 ,\n",
       "        28.95, 30.5 , 32.05, 33.6 , 35.15, 36.7 , 38.25, 39.8 , 41.35,\n",
       "        42.9 , 44.45, 46.  ]),\n",
       " <a list of 20 Patch objects>)"
      ]
     },
     "execution_count": 101,
     "metadata": {},
     "output_type": "execute_result"
    },
    {
     "data": {
      "image/png": "[encoded data removed]",
      "text/plain": [
       "<matplotlib.figure.Figure at 0x7f6ffe0139b0>"
      ]
     },
     "metadata": {},
     "output_type": "display_data"
    }
   ],
   "source": [
    "plt.hist([len(x) for y in res_20_1[0] for x in y], bins =20)"
   ]
  },
  {
   "cell_type": "code",
   "execution_count": null,
   "metadata": {},
   "outputs": [],
   "source": []
  },
  {
   "cell_type": "code",
   "execution_count": null,
   "metadata": {},
   "outputs": [],
   "source": []
  },
  {
   "cell_type": "code",
   "execution_count": null,
   "metadata": {},
   "outputs": [],
   "source": []
  },
  {
   "cell_type": "code",
   "execution_count": null,
   "metadata": {},
   "outputs": [],
   "source": []
  },
  {
   "cell_type": "code",
   "execution_count": null,
   "metadata": {},
   "outputs": [],
   "source": []
  },
  {
   "cell_type": "code",
   "execution_count": null,
   "metadata": {},
   "outputs": [],
   "source": []
  },
  {
   "cell_type": "code",
   "execution_count": null,
   "metadata": {},
   "outputs": [],
   "source": []
  },
  {
   "cell_type": "code",
   "execution_count": 20,
   "metadata": {},
   "outputs": [
    {
     "data": {
      "text/plain": [
       "{'W': 'AT',\n",
       " 'S': 'CG',\n",
       " 'M': 'AC',\n",
       " 'K': 'GT',\n",
       " 'R': 'AG',\n",
       " 'Y': 'CT',\n",
       " 'B': 'CGT',\n",
       " 'D': 'AGT',\n",
       " 'H': 'ACT',\n",
       " 'V': 'ACG',\n",
       " 'N': 'ACGT'}"
      ]
     },
     "execution_count": 20,
     "metadata": {},
     "output_type": "execute_result"
    }
   ],
   "source": [
    "IUPAC_WILDCARDS"
   ]
  },
  {
   "cell_type": "code",
   "execution_count": null,
   "metadata": {},
   "outputs": [],
   "source": []
  },
  {
   "cell_type": "code",
   "execution_count": 63,
   "metadata": {},
   "outputs": [],
   "source": [
    "save_pairs(\"../data/clostr_Polina/pairs/\", names[0], pairs)"
   ]
  },
  {
   "cell_type": "code",
   "execution_count": null,
   "metadata": {},
   "outputs": [],
   "source": [
    "def save_pairs(path, name, pairs):\n",
    "    name = name.split(\".\")[0]\n",
    "    with open(path + name, 'w') as f:\n",
    "        for p in pairs:\n",
    "            f.write(\"\\t\".join(p))\n",
    "            f.write(\"\\n\")\n",
    "            "
   ]
  },
  {
   "cell_type": "code",
   "execution_count": null,
   "metadata": {},
   "outputs": [],
   "source": [
    "[save_pairs(path, names[0]+'pairs', )]"
   ]
  },
  {
   "cell_type": "code",
   "execution_count": null,
   "metadata": {},
   "outputs": [],
   "source": []
  },
  {
   "cell_type": "code",
   "execution_count": 18,
   "metadata": {},
   "outputs": [],
   "source": [
    "reads, qualities = read_fastq(path)"
   ]
  },
  {
   "cell_type": "code",
   "execution_count": 20,
   "metadata": {
    "scrolled": true
   },
   "outputs": [],
   "source": [
    "pairs, pairs_q = [], []\n",
    "for r,q in tqdm_notebook(zip(reads, qualities)):\n",
    "    p, pq = split_read(r, q, repeat, repeat_s, repeat_e)\n",
    "    pairs.append(p)\n",
    "    pairs_q.append(pq)"
   ]
  },
  {
   "cell_type": "code",
   "execution_count": 22,
   "metadata": {},
   "outputs": [],
   "source": [
    "pairs = np.array(pairs)\n",
    "pairs_q = np.array(pairs_q)"
   ]
  },
  {
   "cell_type": "code",
   "execution_count": 25,
   "metadata": {},
   "outputs": [
    {
     "data": {
      "application/vnd.jupyter.widget-view+json": {
       "model_id": "de97e1d406f44787b2dd2e4db1af9381",
       "version_major": 2,
       "version_minor": 0
      },
      "text/plain": [
       "A Jupyter Widget"
      ]
     },
     "metadata": {},
     "output_type": "display_data"
    },
    {
     "name": "stdout",
     "output_type": "stream",
     "text": [
      "\n",
      "28815\n"
     ]
    }
   ],
   "source": [
    "mask = np.array(['-1' not in pair for pair in tqdm_notebook(pairs)])\n",
    "\n",
    "print(mask.sum())\n",
    "\n",
    "pairs = pairs[mask]\n",
    "pairs_q = pairs_q[mask]"
   ]
  },
  {
   "cell_type": "code",
   "execution_count": 53,
   "metadata": {},
   "outputs": [],
   "source": [
    "min_pq = np.array([get_lowest_q(pq) for pq in pairs_q])"
   ]
  },
  {
   "cell_type": "code",
   "execution_count": null,
   "metadata": {},
   "outputs": [],
   "source": []
  },
  {
   "cell_type": "code",
   "execution_count": null,
   "metadata": {},
   "outputs": [],
   "source": []
  },
  {
   "cell_type": "code",
   "execution_count": null,
   "metadata": {},
   "outputs": [],
   "source": []
  },
  {
   "cell_type": "code",
   "execution_count": null,
   "metadata": {},
   "outputs": [],
   "source": []
  },
  {
   "cell_type": "code",
   "execution_count": 363,
   "metadata": {},
   "outputs": [],
   "source": [
    "pairs = np.array(pairs)"
   ]
  },
  {
   "cell_type": "code",
   "execution_count": 375,
   "metadata": {
    "scrolled": true
   },
   "outputs": [],
   "source": [
    "mask = np.array(['-1' not in pair for pair in pairs])"
   ]
  },
  {
   "cell_type": "code",
   "execution_count": 379,
   "metadata": {},
   "outputs": [
    {
     "data": {
      "text/plain": [
       "array([['GAGGAGATTCAGACAGCGACTAAAAAGACTGATATA',\n",
       "        'AACTTTATATCTCCANTTGCATATCCATCTGATGA'],\n",
       "       ['GCGTACAAGGTTGAGAAGCTCCGCAATCTCAACGTC',\n",
       "        'CAGCCAAAAACTTCGAATTTGAACTAAAATGCGT'],\n",
       "       ['AGGAGATAACTTCTATTAAAGATAACTTTGATGTG',\n",
       "        'GCGTACAAGGTTGAGAAGCTCCGCAATCTCAACGTC'],\n",
       "       ...,\n",
       "       ['AACTTTATATCTCCATTTGCATATCCATCTGATGA',\n",
       "        'GCGTACAAGGTTGAGAAGCTCCGCAATCTCAACGTC'],\n",
       "       ['AACTTTATATCTCCATTTGCATATCCATCTGATGC',\n",
       "        'GCGTACAAGGTTGAGAAGCTCCGCAATCTCAACGTC'],\n",
       "       ['GCTTACAAGGTTGAGAAGCTCCGCAATCTCAAAGTCGT',\n",
       "        'ATTTGAAATGAATAAATTTTAAATGAATGAAAGTATAG']], dtype='<U105')"
      ]
     },
     "execution_count": 379,
     "metadata": {},
     "output_type": "execute_result"
    }
   ],
   "source": [
    "pairs[mask]"
   ]
  },
  {
   "cell_type": "code",
   "execution_count": null,
   "metadata": {},
   "outputs": [],
   "source": []
  },
  {
   "cell_type": "code",
   "execution_count": null,
   "metadata": {},
   "outputs": [],
   "source": []
  },
  {
   "cell_type": "code",
   "execution_count": null,
   "metadata": {},
   "outputs": [],
   "source": []
  },
  {
   "cell_type": "code",
   "execution_count": null,
   "metadata": {},
   "outputs": [],
   "source": []
  },
  {
   "cell_type": "code",
   "execution_count": 299,
   "metadata": {},
   "outputs": [
    {
     "data": {
      "text/plain": [
       "(array([     0.,      0.,      0.,      0.,      0., 128171.,      0.,\n",
       "             0.,      0.,      0.]),\n",
       " array([150.5, 150.6, 150.7, 150.8, 150.9, 151. , 151.1, 151.2, 151.3,\n",
       "        151.4, 151.5]),\n",
       " <a list of 10 Patch objects>)"
      ]
     },
     "execution_count": 299,
     "metadata": {},
     "output_type": "execute_result"
    },
    {
     "data": {
      "image/png": "[encoded data removed]",
      "text/plain": [
       "<matplotlib.figure.Figure at 0x7f80514ca748>"
      ]
     },
     "metadata": {},
     "output_type": "display_data"
    }
   ],
   "source": [
    "plt.hist([len(x) for x in reads])"
   ]
  },
  {
   "cell_type": "code",
   "execution_count": 312,
   "metadata": {},
   "outputs": [
    {
     "data": {
      "text/plain": [
       "95"
      ]
     },
     "execution_count": 312,
     "metadata": {},
     "output_type": "execute_result"
    }
   ],
   "source": [
    "len(quality_symbols)"
   ]
  },
  {
   "cell_type": "code",
   "execution_count": 313,
   "metadata": {},
   "outputs": [
    {
     "data": {
      "text/plain": [
       "'!\"#$%&\\\\\\'()*+,-.'"
      ]
     },
     "execution_count": 313,
     "metadata": {},
     "output_type": "execute_result"
    }
   ],
   "source": [
    "quality_symbols[:15]"
   ]
  },
  {
   "cell_type": "code",
   "execution_count": 316,
   "metadata": {},
   "outputs": [
    {
     "data": {
      "text/plain": [
       "'AFFAFF=FFAFFFFFFFAFFFFFAFFFAFFFFFFFFFFFFFFFFFFFFFFFAFFFFFF/FFFFFFF6FAAFFFFFFFFF=FFFFFFFFFAFFFFFFFAFFF/FAFAF/FFFFF/FFF/FFFFFF=FFFFFFFFF/FFF/FFFFFFFFFFFF'"
      ]
     },
     "execution_count": 316,
     "metadata": {},
     "output_type": "execute_result"
    }
   ],
   "source": [
    "qualities[100]"
   ]
  },
  {
   "cell_type": "code",
   "execution_count": null,
   "metadata": {},
   "outputs": [],
   "source": []
  },
  {
   "cell_type": "code",
   "execution_count": null,
   "metadata": {},
   "outputs": [],
   "source": []
  },
  {
   "cell_type": "code",
   "execution_count": 318,
   "metadata": {},
   "outputs": [],
   "source": [
    "#  [sum([y in x for x in np.array(qualities)[mask]]) for y in quality_symbols]"
   ]
  },
  {
   "cell_type": "code",
   "execution_count": null,
   "metadata": {},
   "outputs": [],
   "source": []
  },
  {
   "cell_type": "code",
   "execution_count": 232,
   "metadata": {},
   "outputs": [],
   "source": [
    "p_str = repeat_to_re_pattern(\"(AAd)\") "
   ]
  },
  {
   "cell_type": "code",
   "execution_count": 233,
   "metadata": {},
   "outputs": [
    {
     "data": {
      "text/plain": [
       "'(AAd){e<=2}'"
      ]
     },
     "execution_count": 233,
     "metadata": {},
     "output_type": "execute_result"
    }
   ],
   "source": [
    "p_str"
   ]
  },
  {
   "cell_type": "code",
   "execution_count": 243,
   "metadata": {},
   "outputs": [],
   "source": [
    "#p = re.compile(\"(AAAC){e<=2}\")\n",
    "p = re.compile(p_str)"
   ]
  },
  {
   "cell_type": "code",
   "execution_count": 244,
   "metadata": {},
   "outputs": [
    {
     "data": {
      "text/plain": [
       "[]"
      ]
     },
     "execution_count": 244,
     "metadata": {},
     "output_type": "execute_result"
    }
   ],
   "source": [
    "[x.span() for x in re.finditer(p, \"AAAA\")]"
   ]
  },
  {
   "cell_type": "code",
   "execution_count": null,
   "metadata": {},
   "outputs": [],
   "source": []
  },
  {
   "cell_type": "code",
   "execution_count": 259,
   "metadata": {},
   "outputs": [
    {
     "name": "stdout",
     "output_type": "stream",
     "text": [
      "(GTTTTA[G|T]ATTAACTA[A|T][A|G]TGG[A|T]ATGTAAA[G|T]){e<=6}\n"
     ]
    }
   ],
   "source": [
    "p_str = repeat_to_re_pattern(repeat,e=6)\n",
    "p = re.compile(p_str)\n",
    "print(p_str)"
   ]
  },
  {
   "cell_type": "code",
   "execution_count": 260,
   "metadata": {},
   "outputs": [
    {
     "data": {
      "text/plain": [
       "[(52, 84)]"
      ]
     },
     "execution_count": 260,
     "metadata": {},
     "output_type": "execute_result"
    }
   ],
   "source": [
    "[x.span() for x in re.finditer(p, reads[1])]"
   ]
  },
  {
   "cell_type": "code",
   "execution_count": 261,
   "metadata": {},
   "outputs": [
    {
     "data": {
      "text/plain": [
       "'GGGTTTTAGATTAACTAAATGGAGATCGGAAG'"
      ]
     },
     "execution_count": 261,
     "metadata": {},
     "output_type": "execute_result"
    }
   ],
   "source": [
    "reads[1][52:84]"
   ]
  },
  {
   "cell_type": "code",
   "execution_count": 268,
   "metadata": {},
   "outputs": [
    {
     "data": {
      "text/plain": [
       "151"
      ]
     },
     "execution_count": 268,
     "metadata": {},
     "output_type": "execute_result"
    }
   ],
   "source": [
    "len(reads[1])"
   ]
  },
  {
   "cell_type": "code",
   "execution_count": 267,
   "metadata": {},
   "outputs": [
    {
     "name": "stdout",
     "output_type": "stream",
     "text": [
      "G G\n",
      "T T\n",
      "T T\n",
      "T T\n",
      "T T\n",
      "A A\n",
      "G K\n",
      "A A\n",
      "T T\n",
      "T T\n",
      "A A\n",
      "A A\n",
      "C C\n",
      "T T\n",
      "A A\n",
      "A W\n",
      "A R\n",
      "T T\n",
      "G G\n",
      "G G\n",
      "A W\n",
      "G A\n",
      "A T\n",
      "T G\n",
      "C T\n",
      "G A\n",
      "G A\n",
      "A A\n",
      "A K\n"
     ]
    }
   ],
   "source": [
    "print_together(reads[1][54:84], repeat_clear)"
   ]
  },
  {
   "cell_type": "code",
   "execution_count": 263,
   "metadata": {},
   "outputs": [],
   "source": [
    "def print_together(s1, s2):\n",
    "    for a,b in zip(s1, s2):\n",
    "        print(a,b)"
   ]
  },
  {
   "cell_type": "code",
   "execution_count": 254,
   "metadata": {},
   "outputs": [
    {
     "name": "stdout",
     "output_type": "stream",
     "text": [
      "A A\n",
      "C C\n",
      "T T\n",
      "A A\n",
      "T W\n",
      "G R\n",
      "T T\n",
      "G G\n",
      "G G\n",
      "A )\n",
      "A W\n",
      "T A\n",
      "G T\n",
      "T G\n",
      "A T\n",
      "A A\n",
      "A A\n",
      "T A\n",
      "G K\n"
     ]
    }
   ],
   "source": [
    "for  a,b in zip(reads[0], repeat[12:]):\n",
    "    print(a, b)"
   ]
  },
  {
   "cell_type": "code",
   "execution_count": null,
   "metadata": {},
   "outputs": [],
   "source": []
  },
  {
   "cell_type": "code",
   "execution_count": 17,
   "metadata": {},
   "outputs": [],
   "source": [
    "def repeat_matches(read, repeat, wildcards):\n",
    "    pass"
   ]
  },
  {
   "cell_type": "code",
   "execution_count": 102,
   "metadata": {},
   "outputs": [
    {
     "data": {
      "text/plain": [
       "'A|N|B'"
      ]
     },
     "execution_count": 102,
     "metadata": {},
     "output_type": "execute_result"
    }
   ],
   "source": [
    "\"|\".join(\"ANB\")"
   ]
  },
  {
   "cell_type": "code",
   "execution_count": null,
   "metadata": {},
   "outputs": [],
   "source": []
  },
  {
   "cell_type": "code",
   "execution_count": null,
   "metadata": {},
   "outputs": [],
   "source": []
  },
  {
   "cell_type": "markdown",
   "metadata": {},
   "source": [
    "## import bio"
   ]
  },
  {
   "cell_type": "code",
   "execution_count": 154,
   "metadata": {},
   "outputs": [],
   "source": [
    "from Bio.Seq import Seq\n",
    "from Bio.Alphabet import generic_nucleotide\n",
    "from Bio.Alphabet import IUPAC\n",
    "nuc_seq = Seq(\"GATCGATGC\", generic_nucleotide)\n",
    "dna_seq = Seq(\"ACGTW\", IUPAC.unambiguous_dna)"
   ]
  },
  {
   "cell_type": "code",
   "execution_count": 152,
   "metadata": {},
   "outputs": [
    {
     "data": {
      "text/plain": [
       "'GATCRYWSMKHBVDN'"
      ]
     },
     "execution_count": 152,
     "metadata": {},
     "output_type": "execute_result"
    }
   ],
   "source": [
    "IUPAC.ambiguous_dna"
   ]
  },
  {
   "cell_type": "code",
   "execution_count": 151,
   "metadata": {},
   "outputs": [
    {
     "data": {
      "text/plain": [
       "{'W': 'AT',\n",
       " 'S': 'CG',\n",
       " 'M': 'AC',\n",
       " 'K': 'GT',\n",
       " 'R': 'AG',\n",
       " 'Y': 'CT',\n",
       " 'B': 'CGT',\n",
       " 'D': 'AGT',\n",
       " 'H': 'ACT',\n",
       " 'V': 'ACG',\n",
       " 'N': 'ACGT'}"
      ]
     },
     "execution_count": 151,
     "metadata": {},
     "output_type": "execute_result"
    }
   ],
   "source": [
    "IUPAC_WILDCARDS"
   ]
  },
  {
   "cell_type": "markdown",
   "metadata": {},
   "source": [
    "## RE"
   ]
  },
  {
   "cell_type": "code",
   "execution_count": 206,
   "metadata": {},
   "outputs": [],
   "source": [
    "import regex as re"
   ]
  },
  {
   "cell_type": "code",
   "execution_count": 96,
   "metadata": {},
   "outputs": [],
   "source": [
    "p = re.compile('a[d|b]c')"
   ]
  },
  {
   "cell_type": "code",
   "execution_count": 98,
   "metadata": {},
   "outputs": [
    {
     "data": {
      "text/plain": [
       "[]"
      ]
     },
     "execution_count": 98,
     "metadata": {},
     "output_type": "execute_result"
    }
   ],
   "source": [
    "re.findall(p, 'aabddcx')"
   ]
  },
  {
   "cell_type": "code",
   "execution_count": null,
   "metadata": {},
   "outputs": [],
   "source": []
  },
  {
   "cell_type": "code",
   "execution_count": null,
   "metadata": {},
   "outputs": [],
   "source": []
  },
  {
   "cell_type": "markdown",
   "metadata": {},
   "source": [
    "## Mastering spades"
   ]
  },
  {
   "cell_type": "code",
   "execution_count": 55,
   "metadata": {},
   "outputs": [],
   "source": [
    "import sys\n",
    "sys.path.append(\"../spget/\")\n",
    "\n",
    "from importlib import reload"
   ]
  },
  {
   "cell_type": "code",
   "execution_count": 56,
   "metadata": {},
   "outputs": [],
   "source": [
    "import spget as sp\n",
    "sp = reload(sp)"
   ]
  },
  {
   "cell_type": "code",
   "execution_count": null,
   "metadata": {},
   "outputs": [],
   "source": []
  },
  {
   "cell_type": "code",
   "execution_count": null,
   "metadata": {},
   "outputs": [],
   "source": []
  },
  {
   "cell_type": "code",
   "execution_count": 92,
   "metadata": {
    "scrolled": true
   },
   "outputs": [
    {
     "name": "stdout",
     "output_type": "stream",
     "text": [
      "\n",
      "\n",
      "\n",
      "\n",
      "\n",
      "\n",
      "\n",
      "\n",
      "\n",
      "\n",
      "\n",
      "\n",
      "1\tGTTTTAKATTA(ACTAWRTGG)WATGTAAAK\t6\n"
     ]
    },
    {
     "name": "stderr",
     "output_type": "stream",
     "text": [
      "\n",
      "loading repeats from ../data/clostr_Polina/primers.txt\n"
     ]
    }
   ],
   "source": [
    "# path = \"../data/clostr_test/fastq/test_1.fastq\"\n",
    "# path = \"../data/scripts/raw_data_clostr.fastq\"\n",
    "r_path = \"../data/clostr_Polina/primers.txt\"\n",
    "rep = sp.load_repeats(r_path)"
   ]
  },
  {
   "cell_type": "code",
   "execution_count": 93,
   "metadata": {
    "scrolled": true
   },
   "outputs": [
    {
     "name": "stderr",
     "output_type": "stream",
     "text": [
      "\n",
      "using following repeats sequences:\n",
      "seq: GTTTTAKATTAACTAWRTGGWATGTAAAK id: 0 types: 1(|1) mismatches: 6\n",
      "seq: ACTAWRTGGWATGTAAAK id: 1 types: 1( mismatches: 6\n",
      "seq: GTTTTAKATTAACTAWRTGG id: 2 types: 1) mismatches: 6\n"
     ]
    }
   ],
   "source": [
    "all_mm = {}\n",
    "b = {}\n",
    "sp.fill_parts(rep, all_mm, b )"
   ]
  },
  {
   "cell_type": "code",
   "execution_count": 94,
   "metadata": {
    "scrolled": true
   },
   "outputs": [
    {
     "data": {
      "text/plain": [
       "regex.Regex('(?:GTTTTAKATTAACTAWRTGGWATGTAAAK){s<=6,i<=0,d<=0}', flags=regex.V0)"
      ]
     },
     "execution_count": 94,
     "metadata": {},
     "output_type": "execute_result"
    }
   ],
   "source": [
    "all_mm['GTTTTAKATTAACTAWRTGGWATGTAAAK']['RE_FUZZY']"
   ]
  },
  {
   "cell_type": "code",
   "execution_count": null,
   "metadata": {},
   "outputs": [],
   "source": []
  },
  {
   "cell_type": "code",
   "execution_count": 65,
   "metadata": {},
   "outputs": [],
   "source": [
    "lines, q= read_fastq(\"../data/clostr_Polina/fastq/Polina-1_S11_L001_R1_001.fastq\")"
   ]
  },
  {
   "cell_type": "code",
   "execution_count": 80,
   "metadata": {},
   "outputs": [],
   "source": [
    "for pat in a:\n",
    "    mm = all_mm[pat][\"MM\"]\n",
    "    ins = all_mm[pat][\"INS\"]\n",
    "    dl = all_mm[pat][\"DEL\"]\n",
    "    pat_sys = all_mm[pat][\"SYS\"]\n",
    "    pat_type = all_mm[pat][\"TYPE\"]\n",
    "    pat_re_fuzzy = all_mm[pat][\"RE_FUZZY\"]\n",
    "    pat_id = all_mm[pat][\"ID\"]\n",
    "    found = sp.fuzzy_find_seq(lines[0], pat, mm, ins, dl, pat_re_fuzzy, pat_type, pat_id)"
   ]
  },
  {
   "cell_type": "code",
   "execution_count": 82,
   "metadata": {},
   "outputs": [],
   "source": [
    "found"
   ]
  },
  {
   "cell_type": "code",
   "execution_count": 91,
   "metadata": {},
   "outputs": [
    {
     "data": {
      "text/plain": [
       "{'GTTTTAKATTAACTAWRTGGWATGTAAAK': {'MM': 2,\n",
       "  'INS': 0,\n",
       "  'DEL': 0,\n",
       "  'SYS': {'1'},\n",
       "  'TYPE': {'1(', '1)'},\n",
       "  'ID': '0',\n",
       "  'DA_SET': set(),\n",
       "  'RE_FUZZY': regex.Regex('(?:GTTTTAKATTAACTAWRTGGWATGTAAAK){s<=2,i<=0,d<=0}', flags=regex.V0)},\n",
       " 'ACTAWRTGGWATGTAAAK': {'MM': 2,\n",
       "  'INS': 0,\n",
       "  'DEL': 0,\n",
       "  'SYS': {'1'},\n",
       "  'TYPE': {'1('},\n",
       "  'ID': '1',\n",
       "  'DA_SET': set(),\n",
       "  'RE_FUZZY': regex.Regex('(?:ACTAWRTGGWATGTAAAK){s<=2,i<=0,d<=0}', flags=regex.V0)},\n",
       " 'GTTTTAKATTAACTAWRTGG': {'MM': 2,\n",
       "  'INS': 0,\n",
       "  'DEL': 0,\n",
       "  'SYS': {'1'},\n",
       "  'TYPE': {'1)'},\n",
       "  'ID': '2',\n",
       "  'DA_SET': set(),\n",
       "  'RE_FUZZY': regex.Regex('(?:GTTTTAKATTAACTAWRTGG){s<=2,i<=0,d<=0}', flags=regex.V0)}}"
      ]
     },
     "execution_count": 91,
     "metadata": {},
     "output_type": "execute_result"
    }
   ],
   "source": [
    "all_mm"
   ]
  },
  {
   "cell_type": "code",
   "execution_count": 105,
   "metadata": {},
   "outputs": [],
   "source": [
    "coords = sp.get_system_coords(lines[1], all_mm)"
   ]
  },
  {
   "cell_type": "code",
   "execution_count": 108,
   "metadata": {
    "scrolled": true
   },
   "outputs": [
    {
     "name": "stdout",
     "output_type": "stream",
     "text": [
      "[(54, 85), (120, 151)]\n",
      "[(0, 18)]\n",
      "[(35, 57)]\n"
     ]
    },
    {
     "data": {
      "text/plain": [
       "(['GAGGAGATTCAGACAGCGACTAAAAAGACTGATATA',\n",
       "  'AACTTTATATCTCCANTTGCATATCCATCTGATGA'],\n",
       " ['FFFFFFFFFFFFFFFF/FFAFFFFFFFFFFFFFFFF',\n",
       "  'FFFFFFFFFFFFFFFFFFFFFFFFFFFFF=F/=//'])"
      ]
     },
     "execution_count": 108,
     "metadata": {},
     "output_type": "execute_result"
    }
   ],
   "source": [
    "split_read(lines[0], q[1], redundant.rc, redundant.rs, redundant.re, v =1)"
   ]
  },
  {
   "cell_type": "code",
   "execution_count": null,
   "metadata": {},
   "outputs": [],
   "source": []
  },
  {
   "cell_type": "code",
   "execution_count": null,
   "metadata": {},
   "outputs": [],
   "source": []
  },
  {
   "cell_type": "code",
   "execution_count": null,
   "metadata": {},
   "outputs": [],
   "source": []
  },
  {
   "cell_type": "code",
   "execution_count": 72,
   "metadata": {},
   "outputs": [
    {
     "data": {
      "text/plain": [
       "{'MM': 2,\n",
       " 'INS': 0,\n",
       " 'DEL': 0,\n",
       " 'SYS': {'1'},\n",
       " 'TYPE': {'1(', '1)'},\n",
       " 'ID': '0',\n",
       " 'DA_SET': set(),\n",
       " 'RE_FUZZY': regex.Regex('(?:GTTTTAKATTAACTAWRTGGWATGTAAAK){s<=2,i<=0,d<=0}', flags=regex.V0)}"
      ]
     },
     "execution_count": 72,
     "metadata": {},
     "output_type": "execute_result"
    }
   ],
   "source": [
    "a['GTTTTAKATTAACTAWRTGGWATGTAAAK']"
   ]
  },
  {
   "cell_type": "code",
   "execution_count": null,
   "metadata": {},
   "outputs": [],
   "source": [
    "sp.fuzzy_find_seq()"
   ]
  },
  {
   "cell_type": "code",
   "execution_count": null,
   "metadata": {},
   "outputs": [],
   "source": []
  },
  {
   "cell_type": "code",
   "execution_count": 45,
   "metadata": {},
   "outputs": [
    {
     "data": {
      "text/plain": [
       "'ATTTACATTCCATATAGTTAATCTAAAACGTTCATCAGATGGATATGCAANTGGAGATATAAAGTTATTTACATTCCATATAGTTAATCTAAAACTTTATATCAGTCTTTTTAGTCGCTGTCTGAATCTCCTCATTTACATTCCACATAGT'"
      ]
     },
     "execution_count": 45,
     "metadata": {},
     "output_type": "execute_result"
    }
   ],
   "source": [
    "sp.rc(raw)"
   ]
  },
  {
   "cell_type": "code",
   "execution_count": 53,
   "metadata": {},
   "outputs": [
    {
     "name": "stdout",
     "output_type": "stream",
     "text": [
      "{}\n",
      "{}\n",
      "{}\n",
      "{}\n",
      "{}\n",
      "{}\n",
      "{}\n",
      "{}\n"
     ]
    }
   ],
   "source": [
    "for r in raw:\n",
    "    print(sp.get_system_coords(sp.rc(r), a))"
   ]
  },
  {
   "cell_type": "code",
   "execution_count": 54,
   "metadata": {
    "scrolled": true
   },
   "outputs": [
    {
     "name": "stdout",
     "output_type": "stream",
     "text": [
      "{}\n",
      "{}\n",
      "{}\n",
      "{}\n",
      "{}\n",
      "{}\n",
      "{}\n",
      "{}\n"
     ]
    }
   ],
   "source": [
    "for r in raw:\n",
    "    print(sp.get_system_coords(r, a))"
   ]
  },
  {
   "cell_type": "code",
   "execution_count": 56,
   "metadata": {},
   "outputs": [],
   "source": [
    "from spget import * "
   ]
  },
  {
   "cell_type": "code",
   "execution_count": 58,
   "metadata": {},
   "outputs": [],
   "source": [
    "path = \"../data/clostr_test/fastq/test_1.fastq\"\n",
    "path = \"../data/scripts/raw_data_clostr.fastq\"\n",
    "r_path = \"../data/scripts/primers.txt\"\n",
    "#rep = sp.load_repeats(r_path)"
   ]
  },
  {
   "cell_type": "code",
   "execution_count": null,
   "metadata": {},
   "outputs": [],
   "source": [
    "repeats = load_repeats(r_path)\n",
    "if not repeats:\n",
    "    warn(\"no repeats loaded, exiting\")\n",
    "    exit(1)\n",
    "\n",
    "all_mm = {}\n",
    "id2primers = {}\n",
    "fill_parts(repeats, all_mm, id2primers)\n",
    "\n",
    "\n",
    "warn(\"\\ntrimming...\")"
   ]
  },
  {
   "cell_type": "code",
   "execution_count": 66,
   "metadata": {
    "scrolled": true
   },
   "outputs": [
    {
     "name": "stdout",
     "output_type": "stream",
     "text": [
      "home\t@MN00409:27:000H2KHTM:1:11102:17147:1044 1:N:0:11\tACTATGTGGAATGTAAATGAGGAGATTCAGACAGCGACTAAAAAGACTGATATAAAGTTTTAGATTAACTATATGGAATGTAAATAACTTTATATCTCCANTTGCATATCCATCTGATGAACGTTTTAGATTAACTATATGGAATGTAAAT\tAFFAFFFFFF/FAFFFFFF6FFFFFFFFFFAFFFFFFFFFFFFFFFFF/FFFFFFFFFFFFFFFFFFFFFFFFFFFFFFFFF/FFFFFFFFFFFFF/FFF#FFFFFFFFFFFFFFFFFFFFF6FFFFFAFFFFFF//FAAAFA//FFAFFF\n",
      "\n",
      "['home', '@MN00409:27:000H2KHTM:1:11102:17147:1044 1:N:0:11', 'ACTATGTGGAATGTAAATGAGGAGATTCAGACAGCGACTAAAAAGACTGATATAAAGTTTTAGATTAACTATATGGAATGTAAATAACTTTATATCTCCANTTGCATATCCATCTGATGAACGTTTTAGATTAACTATATGGAATGTAAAT', 'AFFAFFFFFF/FAFFFFFF6FFFFFFFFFFAFFFFFFFFFFFFFFFFF/FFFFFFFFFFFFFFFFFFFFFFFFFFFFFFFFF/FFFFFFFFFFFFF/FFF#FFFFFFFFFFFFFFFFFFFFF6FFFFFAFFFFFF//FAAAFA//FFAFFF', '']\n",
      "home\t@MN00409:27:000H2KHTM:1:11102:23264:1052 1:N:0:11\tACTATGTGGAATGTAAATCAGCCAAAAACTTCGAATTTGAACTAAAATGCGTGGGTTTTAGATTAACTAAATGGAGATCGGAAGAGCACACGTCTGAACTCCAGTCACCCAGTATCATCTCGTATGCCGTCTTCGGCTTGAAAAAAATAAG\tAAAFFFFFFF/FFFFFFFFFFFFFFFFFFFFFFF/FFAFFFFFFFFFFFFFFFFFFFFFFFFFFFF/FAFFFFFFFFFFFFFFFFFFFFFFFFFFFFFFFFFFFFFFFFFFFFF=F/=//FF/FAF/FF///F//F//FF/FFFF=/////\n",
      "\n",
      "['home', '@MN00409:27:000H2KHTM:1:11102:23264:1052 1:N:0:11', 'ACTATGTGGAATGTAAATCAGCCAAAAACTTCGAATTTGAACTAAAATGCGTGGGTTTTAGATTAACTAAATGGAGATCGGAAGAGCACACGTCTGAACTCCAGTCACCCAGTATCATCTCGTATGCCGTCTTCGGCTTGAAAAAAATAAG', 'AAAFFFFFFF/FFFFFFFFFFFFFFFFFFFFFFF/FFAFFFFFFFFFFFFFFFFFFFFFFFFFFFF/FAFFFFFFFFFFFFFFFFFFFFFFFFFFFFFFFFFFFFFFFFFFFFF=F/=//FF/FAF/FF///F//F//FF/FFFF=/////', '']\n",
      "home\t@MN00409:27:000H2KHTM:1:11102:25662:1058 1:N:0:11\tCCATTTAGTTAATATAAAACGATAGACAAAGCTAGTGCAGACGCTAAAGTACAATCATTTACATTCCATATAGTAGATCGGAAGAGCACACGTCTGAACTCCAGTCACCCAGTATCAGCGCGTAAGCCGTCTTGTGCTTGAAAAAAAAGAA\tAAAFFF/FAFFFFFFFFF6AFFFAFFFFFFFAFFFA/FFFFFFFFF6FFFFFF/FFFF/FFFFFAFFF/FFFFFFFFFFFFFFA/FFFFFF/AFFF/FFFF/FFFF/FF/FFFFF/F///FFAF/FFF//F/F//FF/FF/AFFF//////\n",
      "\n",
      "['home', '@MN00409:27:000H2KHTM:1:11102:25662:1058 1:N:0:11', 'CCATTTAGTTAATATAAAACGATAGACAAAGCTAGTGCAGACGCTAAAGTACAATCATTTACATTCCATATAGTAGATCGGAAGAGCACACGTCTGAACTCCAGTCACCCAGTATCAGCGCGTAAGCCGTCTTGTGCTTGAAAAAAAAGAA', 'AAAFFF/FAFFFFFFFFF6AFFFAFFFFFFFAFFFA/FFFFFFFFF6FFFFFF/FFFF/FFFFFAFFF/FFFFFFFFFFFFFFA/FFFFFF/AFFF/FFFF/FFFF/FF/FFFFF/F///FFAF/FFF//F/F//FF/FF/AFFF//////', '']\n",
      "home\t@MN00409:27:000H2KHTM:1:11102:8181:1059 1:N:0:11\tACTATATGGAATGTAAATAGATCGGAAGAGCACACGTCTGAACTCCAGTCACCCAGTATCATCTCGTATGCCGGGGTGGGCTTGAAAAAAAAATGGGGGGGGGGGGGGGGGGGGGGGGGGGGGGGGGGGGGGGGGGGGGGGGGGGGGGGGG\tF=AFAFFFF6FFFFAFFFFFAFFFFFFFFFF6FFFFFFFF6FFFFFFFFFFFFFFFFFFF6////AA/FAA/F////A/////////F/F//////FAFFFFFFFFFFFAFFFFFFFFFFFFFFFFFFFAFFAFFFFFFAFFFAFFFAFFA\n",
      "\n",
      "['home', '@MN00409:27:000H2KHTM:1:11102:8181:1059 1:N:0:11', 'ACTATATGGAATGTAAATAGATCGGAAGAGCACACGTCTGAACTCCAGTCACCCAGTATCATCTCGTATGCCGGGGTGGGCTTGAAAAAAAAATGGGGGGGGGGGGGGGGGGGGGGGGGGGGGGGGGGGGGGGGGGGGGGGGGGGGGGGGG', 'F=AFAFFFF6FFFFAFFFFFAFFFFFFFFFF6FFFFFFFF6FFFFFFFFFFFFFFFFFFF6////AA/FAA/F////A/////////F/F//////FAFFFFFFFFFFFAFFFFFFFFFFFFFFFFFFFAFFAFFFFFFAFFFAFFFAFFA', '']\n",
      "home\t@MN00409:27:000H2KHTM:1:11102:4003:1043 1:N:0:12\tACTAAGTGGTATGTAAAGACAAACAAGTGTAGGANAAACTTTCCTTGCCCAGTATAGTTTTATATTAACTAAGTGGTATGTAAAGGCAGAAGATTTAGCGNCTGTTGTTGCTGAATGGGATGGTTTTATATTAACTAAGTGGAGATCGGAA\t/FFAAFFFFF6FFFFFFAFFFFFFFFFFFFFFFF#FF6FF/FFFFFFFFFFFAFFFFFFFFAFFFFFF/FFFFFFFFFFFFFFFFFF/FFFFFFFFFFFF#FF/FFFFFFFFFFFFAFFFAFFAFAFAF=FF==FFAFF6/FFFFFFFFFF\n",
      "\n",
      "['home', '@MN00409:27:000H2KHTM:1:11102:4003:1043 1:N:0:12', 'ACTAAGTGGTATGTAAAGACAAACAAGTGTAGGANAAACTTTCCTTGCCCAGTATAGTTTTATATTAACTAAGTGGTATGTAAAGGCAGAAGATTTAGCGNCTGTTGTTGCTGAATGGGATGGTTTTATATTAACTAAGTGGAGATCGGAA', '/FFAAFFFFF6FFFFFFAFFFFFFFFFFFFFFFF#FF6FF/FFFFFFFFFFFAFFFFFFFFAFFFFFF/FFFFFFFFFFFFFFFFFF/FFFFFFFFFFFF#FF/FFFFFFFFFFFFAFFFAFFAFAFAF=FF==FFAFF6/FFFFFFFFFF', '']\n",
      "home\t@MN00409:27:000H2KHTM:1:11102:24020:1061 1:N:0:12\tCGTGATCTGCCTGCCTCGGCCTCCCAAAGAGTTGGGATTATAGGGGTGAACCACTGGGCCTGGCCCATTATCGCTGTTTTAAAAGTCTTAGACCAGGTCTGGATAGGGAGAAATAAACGTAAGATCGGAAGAGCACACGTCTGCACTCCAG\t66AA6FAAF/FFFFF6FFAFFAFF/F/FFFFFFFFAFFFFFAF6FFFFF/FF/AFFAF/=/AA//AF/F/F////F/A/AFFF//F//A/FF///FFA/FFAF/FF/F/F///////FF/F/FF/FFF//6//F//=FFFF////6F//F/\n",
      "\n",
      "['home', '@MN00409:27:000H2KHTM:1:11102:24020:1061 1:N:0:12', 'CGTGATCTGCCTGCCTCGGCCTCCCAAAGAGTTGGGATTATAGGGGTGAACCACTGGGCCTGGCCCATTATCGCTGTTTTAAAAGTCTTAGACCAGGTCTGGATAGGGAGAAATAAACGTAAGATCGGAAGAGCACACGTCTGCACTCCAG', '66AA6FAAF/FFFFF6FFAFFAFF/F/FFFFFFFFAFFFFFAF6FFFFF/FF/AFFAF/=/AA//AF/F/F////F/A/AFFF//F//A/FF///FFA/FFAF/FF/F/F///////FF/F/FF/FFF//6//F//=FFFF////6F//F/', '']\n",
      "home\t@MN00409:27:000H2KHTM:1:11102:16527:1065 1:N:0:12\tTAAAACTTTATGGGGAAGGTGGTATGTAAAGCGAAAAATCTAGGAAAAACTATTGTAAAAGCGTTTAGTTTTATATTAACTAAGTGGTATGTAAAGTTTGATTACATGGGCAGTTTTTTATTATAGAGTGTTAGTTTTATATTAACTAAGT\tF/FFAFFFF6FFFFFFFF/FFFF6FFFAFFFFF/AFFFFFF/FF/FF/FFFFFFFFFFFFAF/F/FFFFAAFAFFFFA/FFFAFFFAFFF/FFF/FF/FF//FF///F/FFFA/FFFFFFF/AA/FFFFFFFFFFF=A=F/F//FFA/AF=\n",
      "\n",
      "['home', '@MN00409:27:000H2KHTM:1:11102:16527:1065 1:N:0:12', 'TAAAACTTTATGGGGAAGGTGGTATGTAAAGCGAAAAATCTAGGAAAAACTATTGTAAAAGCGTTTAGTTTTATATTAACTAAGTGGTATGTAAAGTTTGATTACATGGGCAGTTTTTTATTATAGAGTGTTAGTTTTATATTAACTAAGT', 'F/FFAFFFF6FFFFFFFF/FFFF6FFFAFFFFF/AFFFFFF/FF/FF/FFFFFFFFFFFFAF/F/FFFFAAFAFFFFA/FFFAFFFAFFF/FFF/FF/FF//FF///F/FFFA/FFFFFFF/AA/FFFFFFFFFFF=A=F/F//FFA/AF=', '']\n",
      "home\t@MN00409:27:000H2KHTM:1:11102:7086:1068 1:N:0:12\tCCACTTAGTTAATATAAAACCCTTTATAGATAATTTTATAGACTCTTTGTATGTACTATTTACATACCACATAGTTAATATAAAATGAAAAGAGTTTTATATTAACTAAGTGGAGATCGGAAGAGCACACGTCTGAACTCCTGTCACTCTA\tAAAFAFFFFF/FFFFFF6FAFFAAAF6FFF/FFFFFFFFAF/FFFAFFFFFFF/F6FFAFFFFFFFFFFFFFFFFFFFFFFFFFFFFFFF/AAFAFFFFFFFFF/FFFFFFAFFFFFFFAF/AA/F/A/FFFFAA//FF/F//FAFAAF/6\n",
      "\n",
      "['home', '@MN00409:27:000H2KHTM:1:11102:7086:1068 1:N:0:12', 'CCACTTAGTTAATATAAAACCCTTTATAGATAATTTTATAGACTCTTTGTATGTACTATTTACATACCACATAGTTAATATAAAATGAAAAGAGTTTTATATTAACTAAGTGGAGATCGGAAGAGCACACGTCTGAACTCCTGTCACTCTA', 'AAAFAFFFFF/FFFFFF6FAFFAAAF6FFF/FFFFFFFFAF/FFFAFFFFFFF/F6FFAFFFFFFFFFFFFFFFFFFFFFFFFFFFFFFF/AAFAFFFFFFFFF/FFFFFFAFFFFFFFAF/AA/F/A/FFFFAA//FF/F//FAFAAF/6', '']\n"
     ]
    }
   ],
   "source": [
    "start_time = time.time()\n",
    "for cnt, line in enumerate(lines, start = 1):\n",
    "#     if cnt % time_each == 0 or cnt == args.time_first:\n",
    "#         warn(\"\\nprocessed \" + str(cnt) + \" reads in \" + str_time(start_time) + \" ...\")\n",
    "#     if of_parts and cnt % of_parts != part:\n",
    "#         continue\n",
    "\n",
    "    print(line)\n",
    "    rec = list(map(lambda x: x.strip(), line.strip().split(\"\\t\")))\n",
    "    rec += [\"\"]\n",
    "    print(rec)\n",
    "    place, read_id, seq, qual = rec[0:4]\n",
    "\n",
    "    rc_seq = rc(seq)\n",
    "    rc_qual = qual[::-1]\n",
    "\n",
    "    res = get_system_coords(seq, all_mm)\n",
    "    res_rc = get_system_coords(rc_seq, all_mm)\n",
    "\n",
    "#     both_dirs = res and res_rc\n",
    "#     dump_read(place, read_id, res, seq, id2primers, both_dirs, \"+\", qual, args.dump_linked_ids)\n",
    "#     dump_read(place, read_id, res_rc, rc_seq, id2primers, both_dirs, \"-\", qual, args.dump_linked_ids)\n",
    "\n",
    "# warn(\"\\nprocessed \" + str(cnt) + \" reads in \" + str_time(start_time) + \" ...\")\n",
    "# warn(\"\\ndone...\")"
   ]
  },
  {
   "cell_type": "code",
   "execution_count": 74,
   "metadata": {},
   "outputs": [],
   "source": [
    "def get_system_coords(seq, all_mm):\n",
    "    out = defaultdict(list)\n",
    "    for pat in all_mm:\n",
    "        mm = all_mm[pat][\"MM\"]\n",
    "        ins = all_mm[pat][\"INS\"]\n",
    "        dl = all_mm[pat][\"DEL\"]\n",
    "        pat_sys = all_mm[pat][\"SYS\"]\n",
    "        pat_type = all_mm[pat][\"TYPE\"]\n",
    "        pat_re_fuzzy = all_mm[pat][\"RE_FUZZY\"]\n",
    "        pat_id = all_mm[pat][\"ID\"]\n",
    "        found = fuzzy_find_seq(seq, pat, mm, ins, dl, pat_re_fuzzy, pat_type, pat_id)\n",
    "        print(found)\n",
    "        if found:\n",
    "            for sys in pat_sys:\n",
    "                out[sys] += found\n",
    "    res = {}\n",
    "    for sys in out:\n",
    "        pruned = prune_matches(out[sys], sys)\n",
    "        if pruned:\n",
    "            res[sys] = pruned\n",
    "    return res\n"
   ]
  },
  {
   "cell_type": "code",
   "execution_count": 83,
   "metadata": {},
   "outputs": [],
   "source": [
    "def fuzzy_find_seq(where, what, mm, ins, dl, what_re_fuzzy, pat_type = None, pat_id = None):\n",
    "    '''returns [(mm, from, to, substr)]'''\n",
    "    if mm < 0:\n",
    "        mm = 0\n",
    "        \n",
    "        \n",
    "    print(what_re_fuzzy)\n",
    "        \n",
    "    print(where, \"\\n\", what)\n",
    "    out = []\n",
    "    \n",
    "    print(what_re_fuzzy.find(where, overlapped=True))\n",
    "    positions = [(i.span()[0], i.span()[1], i[0], i.fuzzy_counts[0], i.fuzzy_counts[1], i.fuzzy_counts[2]) for i in what_re_fuzzy.finditer(where, overlapped=True)]\n",
    "\n",
    "    positions = filter(lambda x: x[3] <= mm and x[4] <= ins and x[5] <= dl, positions)\n",
    "    \n",
    "    for frm, to, match, dist_mm, dist_ins, dist_del in positions:\n",
    "        out.append((dist_mm + dist_ins + dist_del, frm, to, match, pat_type, pat_id))\n",
    "    if not out:\n",
    "        return None\n",
    "    return out"
   ]
  },
  {
   "cell_type": "code",
   "execution_count": 89,
   "metadata": {},
   "outputs": [],
   "source": [
    "re = all_mm['GTTTTAKATTAACTAWRTGGWATGTAAAK']['RE_FUZZY']"
   ]
  },
  {
   "cell_type": "code",
   "execution_count": 91,
   "metadata": {},
   "outputs": [
    {
     "data": {
      "text/plain": [
       "regex.Regex('(?:GTTTTAKATTAACTAWRTGGWATGTAAAK){s<=2,i<=0,d<=0}', flags=regex.V0)"
      ]
     },
     "execution_count": 91,
     "metadata": {},
     "output_type": "execute_result"
    }
   ],
   "source": [
    "re"
   ]
  },
  {
   "cell_type": "code",
   "execution_count": 90,
   "metadata": {},
   "outputs": [
    {
     "data": {
      "text/plain": [
       "[]"
      ]
     },
     "execution_count": 90,
     "metadata": {},
     "output_type": "execute_result"
    }
   ],
   "source": [
    "re.findall(raw[0])"
   ]
  },
  {
   "cell_type": "code",
   "execution_count": 84,
   "metadata": {},
   "outputs": [
    {
     "name": "stdout",
     "output_type": "stream",
     "text": [
      "regex.Regex('(?:GTTTTAKATTAACTAWRTGGWATGTAAAK){s<=2,i<=0,d<=0}', flags=regex.V0)\n",
      "ACTATGTGGAATGTAAATGAGGAGATTCAGACAGCGACTAAAAAGACTGATATAAAGTTTTAGATTAACTATATGGAATGTAAATAACTTTATATCTCCANTTGCATATCCATCTGATGAACGTTTTAGATTAACTATATGGAATGTAAAT \n",
      " GTTTTAKATTAACTAWRTGGWATGTAAAK\n",
      "<_regex.Scanner object at 0x5594137969d0>\n",
      "None\n",
      "regex.Regex('(?:ACTAWRTGGWATGTAAAK){s<=2,i<=0,d<=0}', flags=regex.V0)\n",
      "ACTATGTGGAATGTAAATGAGGAGATTCAGACAGCGACTAAAAAGACTGATATAAAGTTTTAGATTAACTATATGGAATGTAAATAACTTTATATCTCCANTTGCATATCCATCTGATGAACGTTTTAGATTAACTATATGGAATGTAAAT \n",
      " ACTAWRTGGWATGTAAAK\n",
      "<_regex.Scanner object at 0x5594137969d0>\n",
      "None\n",
      "regex.Regex('(?:GTTTTAKATTAACTAWRTGG){s<=2,i<=0,d<=0}', flags=regex.V0)\n",
      "ACTATGTGGAATGTAAATGAGGAGATTCAGACAGCGACTAAAAAGACTGATATAAAGTTTTAGATTAACTATATGGAATGTAAATAACTTTATATCTCCANTTGCATATCCATCTGATGAACGTTTTAGATTAACTATATGGAATGTAAAT \n",
      " GTTTTAKATTAACTAWRTGG\n",
      "<_regex.Scanner object at 0x5594137969d0>\n",
      "None\n"
     ]
    },
    {
     "data": {
      "text/plain": [
       "{}"
      ]
     },
     "execution_count": 84,
     "metadata": {},
     "output_type": "execute_result"
    }
   ],
   "source": [
    "get_system_coords(raw[0], all_mm)"
   ]
  },
  {
   "cell_type": "code",
   "execution_count": null,
   "metadata": {},
   "outputs": [],
   "source": [
    "fuzzy_find_seq(raw[0], )"
   ]
  },
  {
   "cell_type": "code",
   "execution_count": 2,
   "metadata": {},
   "outputs": [
    {
     "data": {
      "text/plain": [
       "'F'"
      ]
     },
     "execution_count": 2,
     "metadata": {},
     "output_type": "execute_result"
    }
   ],
   "source": [
    "False and 'T' or 'F'"
   ]
  },
  {
   "cell_type": "code",
   "execution_count": null,
   "metadata": {},
   "outputs": [],
   "source": []
  }
 ],
 "metadata": {
  "kernelspec": {
   "display_name": "Python 3",
   "language": "python",
   "name": "python3"
  },
  "language_info": {
   "codemirror_mode": {
    "name": "ipython",
    "version": 3
   },
   "file_extension": ".py",
   "mimetype": "text/x-python",
   "name": "python",
   "nbconvert_exporter": "python",
   "pygments_lexer": "ipython3",
   "version": "3.6.3"
  }
 },
 "nbformat": 4,
 "nbformat_minor": 2
}
