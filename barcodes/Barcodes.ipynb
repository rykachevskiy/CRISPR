{
 "cells": [
  {
   "cell_type": "code",
   "execution_count": 3,
   "metadata": {},
   "outputs": [
    {
     "name": "stdout",
     "output_type": "stream",
     "text": [
      "The autoreload extension is already loaded. To reload it, use:\n  %reload_ext autoreload\n"
     ]
    }
   ],
   "source": [
    "import numpy as np\n",
    "import matplotlib.pyplot as plt\n",
    "\n",
    "from tqdm import tqdm_notebook\n",
    "\n",
    "import sys\n",
    "from importlib import reload\n",
    "\n",
    "import crispr_assembler as ca\n",
    "%load_ext autoreload\n",
    "%autoreload 2"
   ]
  },
  {
   "cell_type": "code",
   "execution_count": 5,
   "metadata": {},
   "outputs": [
    {
     "data": {
      "text/plain": [
       "array([ 0., 10.])"
      ]
     },
     "execution_count": 5,
     "metadata": {},
     "output_type": "execute_result"
    }
   ],
   "source": [
    "np.linspace(0,10,2)"
   ]
  },
  {
   "cell_type": "code",
   "execution_count": 3,
   "metadata": {},
   "outputs": [],
   "source": [
    "\n",
    "sys.path.append(\"../crispr_assembler/crispr_assembler/src/utils/\")"
   ]
  },
  {
   "cell_type": "code",
   "execution_count": 5,
   "metadata": {},
   "outputs": [],
   "source": [
    "reads, quals = ca.read_fastq(\"../data/cdif_11_12_bc/assembled/-merged.assembled.fastq\")"
   ]
  },
  {
   "cell_type": "code",
   "execution_count": 6,
   "metadata": {},
   "outputs": [],
   "source": [
    "import regex as re"
   ]
  },
  {
   "cell_type": "code",
   "execution_count": 7,
   "metadata": {},
   "outputs": [],
   "source": [
    "m1s = 'AAGCAGTGGTATCAACGCAGAGT'"
   ]
  },
  {
   "cell_type": "code",
   "execution_count": 8,
   "metadata": {},
   "outputs": [],
   "source": [
    "p = re.compile('(?:'  + m1s + '){e<=2}')\n",
    "p_cut = re.compile('(?:' + m1s[-11:] + '){e<=2}')\n",
    "p_rc = re.compile('(?:' + ca.rc(m1s, r = 1) + '){e<=2}')\n",
    "p_rc_cut = re.compile('(?:' + ca.rc(m1s[-11:], r = 1) + '){e<=2}')"
   ]
  },
  {
   "cell_type": "code",
   "execution_count": 10,
   "metadata": {},
   "outputs": [],
   "source": [
    "from tqdm import tqdm_notebook"
   ]
  },
  {
   "cell_type": "code",
   "execution_count": 9,
   "metadata": {},
   "outputs": [],
   "source": [
    "read = reads[2]"
   ]
  },
  {
   "cell_type": "code",
   "execution_count": 10,
   "metadata": {},
   "outputs": [],
   "source": [
    "def extract_read_bc(read, pattern, search_rc=0):\n",
    "    coords = [x.span() for x in re.finditer(pattern, read)]\n",
    "    rc = 0\n",
    "    if len(coords) == 0 and search_rc:\n",
    "        read = ca.rc(read, r=1)\n",
    "        coords = [x.span() for x in re.finditer(pattern, read)]\n",
    "        rc = 1\n",
    "    if len(coords) != 0:        \n",
    "        bc_start = [x.span() for x in re.finditer(pattern, read)][0][1]\n",
    "        bc_end = bc_start + 10\n",
    "\n",
    "        bc = read[bc_start: bc_end]\n",
    "        read_cut = read[bc_end:]\n",
    "\n",
    "        return bc, read_cut, read, rc\n",
    "    else:\n",
    "        return -1, -1, -1, -1"
   ]
  },
  {
   "cell_type": "code",
   "execution_count": 13,
   "metadata": {},
   "outputs": [],
   "source": [
    "reads_clusterized = {}"
   ]
  },
  {
   "cell_type": "code",
   "execution_count": 14,
   "metadata": {
    "scrolled": true
   },
   "outputs": [
    {
     "data": {
      "text/plain": [
       "3486683"
      ]
     },
     "execution_count": 14,
     "metadata": {},
     "output_type": "execute_result"
    }
   ],
   "source": [
    "len(reads)"
   ]
  },
  {
   "cell_type": "code",
   "execution_count": 15,
   "metadata": {},
   "outputs": [
    {
     "data": {
      "text/plain": [
       "regex.Regex('(?:CAACGCAGAGT){e<=2}', flags=regex.V0)"
      ]
     },
     "execution_count": 15,
     "metadata": {},
     "output_type": "execute_result"
    }
   ],
   "source": [
    "p_cut"
   ]
  },
  {
   "cell_type": "code",
   "execution_count": 16,
   "metadata": {},
   "outputs": [
    {
     "data": {
      "text/plain": [
       "('ATGTCGTGCC',\n",
       " 'CCACTTAGTTAATATAAAACTTTATATTTCGTCGCACGGATTCGTGCGAAGGGTTGGATTTACATACCACTTAGT',\n",
       " 'ACATCTCGAAGCAGTGGTATCAACGCAGAGTATGTCGTGCCCCACTTAGTTAATATAAAACTTTATATTTCGTCGCACGGATTCGTGCGAAGGGTTGGATTTACATACCACTTAGT',\n",
       " 1)"
      ]
     },
     "execution_count": 16,
     "metadata": {},
     "output_type": "execute_result"
    }
   ],
   "source": [
    "extract_read_bc(reads[1], p_cut, search_rc=1)"
   ]
  },
  {
   "cell_type": "code",
   "execution_count": null,
   "metadata": {},
   "outputs": [],
   "source": []
  },
  {
   "cell_type": "code",
   "execution_count": 48,
   "metadata": {},
   "outputs": [],
   "source": [
    "from multiprocessing import Pool"
   ]
  },
  {
   "cell_type": "code",
   "execution_count": 49,
   "metadata": {
    "scrolled": true
   },
   "outputs": [
    {
     "name": "stderr",
     "output_type": "stream",
     "text": [
      "Process ForkPoolWorker-29:\n",
      "Process ForkPoolWorker-28:\n",
      "Process ForkPoolWorker-26:\n",
      "Process ForkPoolWorker-25:\n",
      "Process ForkPoolWorker-24:\n",
      "Process ForkPoolWorker-27:\n",
      "Traceback (most recent call last):\n",
      "Traceback (most recent call last):\n",
      "Traceback (most recent call last):\n",
      "  File \"/home/anton/anaconda3/lib/python3.6/multiprocessing/process.py\", line 258, in _bootstrap\n",
      "    self.run()\n",
      "Traceback (most recent call last):\n",
      "  File \"/home/anton/anaconda3/lib/python3.6/multiprocessing/process.py\", line 258, in _bootstrap\n",
      "    self.run()\n",
      "  File \"/home/anton/anaconda3/lib/python3.6/multiprocessing/process.py\", line 258, in _bootstrap\n",
      "    self.run()\n",
      "  File \"/home/anton/anaconda3/lib/python3.6/multiprocessing/process.py\", line 93, in run\n",
      "    self._target(*self._args, **self._kwargs)\n",
      "  File \"/home/anton/anaconda3/lib/python3.6/multiprocessing/process.py\", line 258, in _bootstrap\n",
      "    self.run()\n",
      "  File \"/home/anton/anaconda3/lib/python3.6/multiprocessing/process.py\", line 93, in run\n",
      "    self._target(*self._args, **self._kwargs)\n",
      "  File \"/home/anton/anaconda3/lib/python3.6/multiprocessing/process.py\", line 93, in run\n",
      "    self._target(*self._args, **self._kwargs)\n",
      "  File \"/home/anton/anaconda3/lib/python3.6/multiprocessing/pool.py\", line 119, in worker\n",
      "    result = (True, func(*args, **kwds))\n",
      "Traceback (most recent call last):\n",
      "  File \"/home/anton/anaconda3/lib/python3.6/multiprocessing/pool.py\", line 119, in worker\n",
      "    result = (True, func(*args, **kwds))\n",
      "  File \"/home/anton/anaconda3/lib/python3.6/multiprocessing/process.py\", line 93, in run\n",
      "    self._target(*self._args, **self._kwargs)\n",
      "  File \"/home/anton/anaconda3/lib/python3.6/multiprocessing/pool.py\", line 44, in mapstar\n",
      "    return list(map(*args))\n",
      "  File \"/home/anton/anaconda3/lib/python3.6/multiprocessing/process.py\", line 258, in _bootstrap\n",
      "    self.run()\n",
      "  File \"/home/anton/anaconda3/lib/python3.6/multiprocessing/pool.py\", line 119, in worker\n",
      "    result = (True, func(*args, **kwds))\n",
      "  File \"<ipython-input-47-7651e505e358>\", line 4, in process_batch\n",
      "    bc, r_cut, r, inv = extract_read_bc(r, p_cut)\n",
      "  File \"/home/anton/anaconda3/lib/python3.6/multiprocessing/pool.py\", line 44, in mapstar\n",
      "    return list(map(*args))\n",
      "  File \"/home/anton/anaconda3/lib/python3.6/multiprocessing/pool.py\", line 119, in worker\n",
      "    result = (True, func(*args, **kwds))\n",
      "  File \"/home/anton/anaconda3/lib/python3.6/multiprocessing/pool.py\", line 44, in mapstar\n",
      "    return list(map(*args))\n",
      "  File \"/home/anton/anaconda3/lib/python3.6/multiprocessing/pool.py\", line 44, in mapstar\n",
      "    return list(map(*args))\n",
      "  File \"<ipython-input-47-7651e505e358>\", line 4, in process_batch\n",
      "    bc, r_cut, r, inv = extract_read_bc(r, p_cut)\n",
      "  File \"/home/anton/anaconda3/lib/python3.6/multiprocessing/process.py\", line 93, in run\n",
      "    self._target(*self._args, **self._kwargs)\n",
      "  File \"<ipython-input-43-7223accddd29>\", line 2, in extract_read_bc\n",
      "    coords = [x.span() for x in re.finditer(pattern, read)]\n",
      "Traceback (most recent call last):\n",
      "  File \"/home/anton/anaconda3/lib/python3.6/multiprocessing/pool.py\", line 119, in worker\n",
      "    result = (True, func(*args, **kwds))\n",
      "  File \"/home/anton/anaconda3/lib/python3.6/multiprocessing/process.py\", line 258, in _bootstrap\n",
      "    self.run()\n",
      "  File \"<ipython-input-47-7651e505e358>\", line 4, in process_batch\n",
      "    bc, r_cut, r, inv = extract_read_bc(r, p_cut)\n",
      "  File \"<ipython-input-43-7223accddd29>\", line 2, in extract_read_bc\n",
      "    coords = [x.span() for x in re.finditer(pattern, read)]\n",
      "  File \"<ipython-input-47-7651e505e358>\", line 4, in process_batch\n",
      "    bc, r_cut, r, inv = extract_read_bc(r, p_cut)\n",
      "  File \"<ipython-input-43-7223accddd29>\", line 2, in <listcomp>\n",
      "    coords = [x.span() for x in re.finditer(pattern, read)]\n",
      "  File \"/home/anton/anaconda3/lib/python3.6/multiprocessing/pool.py\", line 44, in mapstar\n",
      "    return list(map(*args))\n",
      "  File \"<ipython-input-47-7651e505e358>\", line 4, in process_batch\n",
      "    bc, r_cut, r, inv = extract_read_bc(r, p_cut)\n",
      "KeyboardInterrupt\n",
      "  File \"<ipython-input-43-7223accddd29>\", line 9, in extract_read_bc\n",
      "    bc_start = [x.span() for x in re.finditer(pattern, read)][0][1]\n",
      "  File \"<ipython-input-43-7223accddd29>\", line 9, in <listcomp>\n",
      "    bc_start = [x.span() for x in re.finditer(pattern, read)][0][1]\n",
      "  File \"/home/anton/anaconda3/lib/python3.6/multiprocessing/process.py\", line 93, in run\n",
      "    self._target(*self._args, **self._kwargs)\n",
      "KeyboardInterrupt\n",
      "  File \"<ipython-input-43-7223accddd29>\", line 9, in extract_read_bc\n",
      "    bc_start = [x.span() for x in re.finditer(pattern, read)][0][1]\n",
      "  File \"/home/anton/anaconda3/lib/python3.6/multiprocessing/pool.py\", line 108, in worker\n",
      "    task = get()\n",
      "  File \"<ipython-input-43-7223accddd29>\", line 2, in extract_read_bc\n",
      "    coords = [x.span() for x in re.finditer(pattern, read)]\n",
      "  File \"<ipython-input-43-7223accddd29>\", line 2, in <listcomp>\n",
      "    coords = [x.span() for x in re.finditer(pattern, read)]\n",
      "KeyboardInterrupt\n",
      "  File \"<ipython-input-43-7223accddd29>\", line 9, in <listcomp>\n",
      "    bc_start = [x.span() for x in re.finditer(pattern, read)][0][1]\n",
      "KeyboardInterrupt\n",
      "  File \"<ipython-input-43-7223accddd29>\", line 2, in <listcomp>\n",
      "    coords = [x.span() for x in re.finditer(pattern, read)]\n",
      "  File \"/home/anton/anaconda3/lib/python3.6/multiprocessing/queues.py\", line 335, in get\n",
      "    res = self._reader.recv_bytes()\n",
      "KeyboardInterrupt\n",
      "  File \"/home/anton/anaconda3/lib/python3.6/multiprocessing/connection.py\", line 216, in recv_bytes\n",
      "    buf = self._recv_bytes(maxlength)\n",
      "  File \"/home/anton/anaconda3/lib/python3.6/multiprocessing/connection.py\", line 407, in _recv_bytes\n",
      "    buf = self._recv(4)\n",
      "  File \"/home/anton/anaconda3/lib/python3.6/multiprocessing/connection.py\", line 379, in _recv\n",
      "    chunk = read(handle, remaining)\n",
      "KeyboardInterrupt\n"
     ]
    }
   ],
   "source": [
    "p = Pool(6)"
   ]
  },
  {
   "cell_type": "code",
   "execution_count": 11,
   "metadata": {},
   "outputs": [],
   "source": [
    "def process_batch(batch):\n",
    "    reads_clusterized = {}\n",
    "    for r in tqdm_notebook(batch):\n",
    "        bc, r_cut, r, inv = extract_read_bc(r, p_cut)\n",
    "        if bc != -1:\n",
    "            if bc in reads_clusterized:\n",
    "                reads_clusterized[bc].append(r_cut)\n",
    "                #print (f'mrgd {bc}')\n",
    "            else:\n",
    "                reads_clusterized[bc] = [r_cut]\n",
    "                \n",
    "    return reads_clusterized"
   ]
  },
  {
   "cell_type": "code",
   "execution_count": 27,
   "metadata": {},
   "outputs": [],
   "source": [
    "def get_splits(max_idx, n_splits):\n",
    "    splits = []\n",
    "    spl = np.linspace(0, max_idx, n_splits, dtype=int)\n",
    "    for i, j in zip(spl[:-1], spl[1:]):\n",
    "        splits.append((i, j))\n",
    "        \n",
    "    return splits"
   ]
  },
  {
   "cell_type": "code",
   "execution_count": 34,
   "metadata": {},
   "outputs": [],
   "source": [
    "reads_batches = [reads[idxs[0]: idxs[1]] for idxs in get_splits(len(reads), 6)]"
   ]
  },
  {
   "cell_type": "code",
   "execution_count": 39,
   "metadata": {},
   "outputs": [
    {
     "data": {
      "text/plain": [
       "[697336, 697337, 697336, 697337, 697337]"
      ]
     },
     "execution_count": 39,
     "metadata": {},
     "output_type": "execute_result"
    }
   ],
   "source": [
    "[len(x) for x in reads_batches]"
   ]
  },
  {
   "cell_type": "code",
   "execution_count": 14,
   "metadata": {},
   "outputs": [
    {
     "data": {
      "text/plain": [
       "A Jupyter Widget"
      ]
     },
     "metadata": {},
     "output_type": "display_data"
    },
    {
     "name": "stdout",
     "output_type": "stream",
     "text": [
      "\n"
     ]
    }
   ],
   "source": [
    "reads_clusterized = process_batch(reads)"
   ]
  },
  {
   "cell_type": "code",
   "execution_count": 54,
   "metadata": {
    "collapsed": true
   },
   "outputs": [
    {
     "ename": "KeyboardInterrupt",
     "evalue": "",
     "traceback": [
      "\u001b[0;31m---------------------------------------------------------------------------\u001b[0m",
      "\u001b[0;31mKeyboardInterrupt\u001b[0m                         Traceback (most recent call last)",
      "\u001b[0;32m<ipython-input-54-7c84f914c0bc>\u001b[0m in \u001b[0;36m<module>\u001b[0;34m()\u001b[0m\n\u001b[0;32m----> 1\u001b[0;31m \u001b[0mclusters_array\u001b[0m \u001b[0;34m=\u001b[0m \u001b[0mp\u001b[0m\u001b[0;34m.\u001b[0m\u001b[0mmap\u001b[0m\u001b[0;34m(\u001b[0m\u001b[0mprocess_batch\u001b[0m\u001b[0;34m,\u001b[0m \u001b[0mreads_batches\u001b[0m\u001b[0;34m)\u001b[0m\u001b[0;34m\u001b[0m\u001b[0m\n\u001b[0m",
      "\u001b[0;32m~/anaconda3/lib/python3.6/multiprocessing/pool.py\u001b[0m in \u001b[0;36mmap\u001b[0;34m(self, func, iterable, chunksize)\u001b[0m\n\u001b[1;32m    264\u001b[0m         \u001b[0;32min\u001b[0m \u001b[0ma\u001b[0m \u001b[0mlist\u001b[0m \u001b[0mthat\u001b[0m \u001b[0;32mis\u001b[0m \u001b[0mreturned\u001b[0m\u001b[0;34m.\u001b[0m\u001b[0;34m\u001b[0m\u001b[0m\n\u001b[1;32m    265\u001b[0m         '''\n\u001b[0;32m--> 266\u001b[0;31m         \u001b[0;32mreturn\u001b[0m \u001b[0mself\u001b[0m\u001b[0;34m.\u001b[0m\u001b[0m_map_async\u001b[0m\u001b[0;34m(\u001b[0m\u001b[0mfunc\u001b[0m\u001b[0;34m,\u001b[0m \u001b[0miterable\u001b[0m\u001b[0;34m,\u001b[0m \u001b[0mmapstar\u001b[0m\u001b[0;34m,\u001b[0m \u001b[0mchunksize\u001b[0m\u001b[0;34m)\u001b[0m\u001b[0;34m.\u001b[0m\u001b[0mget\u001b[0m\u001b[0;34m(\u001b[0m\u001b[0;34m)\u001b[0m\u001b[0;34m\u001b[0m\u001b[0m\n\u001b[0m\u001b[1;32m    267\u001b[0m \u001b[0;34m\u001b[0m\u001b[0m\n\u001b[1;32m    268\u001b[0m     \u001b[0;32mdef\u001b[0m \u001b[0mstarmap\u001b[0m\u001b[0;34m(\u001b[0m\u001b[0mself\u001b[0m\u001b[0;34m,\u001b[0m \u001b[0mfunc\u001b[0m\u001b[0;34m,\u001b[0m \u001b[0miterable\u001b[0m\u001b[0;34m,\u001b[0m \u001b[0mchunksize\u001b[0m\u001b[0;34m=\u001b[0m\u001b[0;32mNone\u001b[0m\u001b[0;34m)\u001b[0m\u001b[0;34m:\u001b[0m\u001b[0;34m\u001b[0m\u001b[0m\n",
      "\u001b[0;32m~/anaconda3/lib/python3.6/multiprocessing/pool.py\u001b[0m in \u001b[0;36mget\u001b[0;34m(self, timeout)\u001b[0m\n\u001b[1;32m    636\u001b[0m \u001b[0;34m\u001b[0m\u001b[0m\n\u001b[1;32m    637\u001b[0m     \u001b[0;32mdef\u001b[0m \u001b[0mget\u001b[0m\u001b[0;34m(\u001b[0m\u001b[0mself\u001b[0m\u001b[0;34m,\u001b[0m \u001b[0mtimeout\u001b[0m\u001b[0;34m=\u001b[0m\u001b[0;32mNone\u001b[0m\u001b[0;34m)\u001b[0m\u001b[0;34m:\u001b[0m\u001b[0;34m\u001b[0m\u001b[0m\n\u001b[0;32m--> 638\u001b[0;31m         \u001b[0mself\u001b[0m\u001b[0;34m.\u001b[0m\u001b[0mwait\u001b[0m\u001b[0;34m(\u001b[0m\u001b[0mtimeout\u001b[0m\u001b[0;34m)\u001b[0m\u001b[0;34m\u001b[0m\u001b[0m\n\u001b[0m\u001b[1;32m    639\u001b[0m         \u001b[0;32mif\u001b[0m \u001b[0;32mnot\u001b[0m \u001b[0mself\u001b[0m\u001b[0;34m.\u001b[0m\u001b[0mready\u001b[0m\u001b[0;34m(\u001b[0m\u001b[0;34m)\u001b[0m\u001b[0;34m:\u001b[0m\u001b[0;34m\u001b[0m\u001b[0m\n\u001b[1;32m    640\u001b[0m             \u001b[0;32mraise\u001b[0m \u001b[0mTimeoutError\u001b[0m\u001b[0;34m\u001b[0m\u001b[0m\n",
      "\u001b[0;32m~/anaconda3/lib/python3.6/multiprocessing/pool.py\u001b[0m in \u001b[0;36mwait\u001b[0;34m(self, timeout)\u001b[0m\n\u001b[1;32m    633\u001b[0m \u001b[0;34m\u001b[0m\u001b[0m\n\u001b[1;32m    634\u001b[0m     \u001b[0;32mdef\u001b[0m \u001b[0mwait\u001b[0m\u001b[0;34m(\u001b[0m\u001b[0mself\u001b[0m\u001b[0;34m,\u001b[0m \u001b[0mtimeout\u001b[0m\u001b[0;34m=\u001b[0m\u001b[0;32mNone\u001b[0m\u001b[0;34m)\u001b[0m\u001b[0;34m:\u001b[0m\u001b[0;34m\u001b[0m\u001b[0m\n\u001b[0;32m--> 635\u001b[0;31m         \u001b[0mself\u001b[0m\u001b[0;34m.\u001b[0m\u001b[0m_event\u001b[0m\u001b[0;34m.\u001b[0m\u001b[0mwait\u001b[0m\u001b[0;34m(\u001b[0m\u001b[0mtimeout\u001b[0m\u001b[0;34m)\u001b[0m\u001b[0;34m\u001b[0m\u001b[0m\n\u001b[0m\u001b[1;32m    636\u001b[0m \u001b[0;34m\u001b[0m\u001b[0m\n\u001b[1;32m    637\u001b[0m     \u001b[0;32mdef\u001b[0m \u001b[0mget\u001b[0m\u001b[0;34m(\u001b[0m\u001b[0mself\u001b[0m\u001b[0;34m,\u001b[0m \u001b[0mtimeout\u001b[0m\u001b[0;34m=\u001b[0m\u001b[0;32mNone\u001b[0m\u001b[0;34m)\u001b[0m\u001b[0;34m:\u001b[0m\u001b[0;34m\u001b[0m\u001b[0m\n",
      "\u001b[0;32m~/anaconda3/lib/python3.6/threading.py\u001b[0m in \u001b[0;36mwait\u001b[0;34m(self, timeout)\u001b[0m\n\u001b[1;32m    549\u001b[0m             \u001b[0msignaled\u001b[0m \u001b[0;34m=\u001b[0m \u001b[0mself\u001b[0m\u001b[0;34m.\u001b[0m\u001b[0m_flag\u001b[0m\u001b[0;34m\u001b[0m\u001b[0m\n\u001b[1;32m    550\u001b[0m             \u001b[0;32mif\u001b[0m \u001b[0;32mnot\u001b[0m \u001b[0msignaled\u001b[0m\u001b[0;34m:\u001b[0m\u001b[0;34m\u001b[0m\u001b[0m\n\u001b[0;32m--> 551\u001b[0;31m                 \u001b[0msignaled\u001b[0m \u001b[0;34m=\u001b[0m \u001b[0mself\u001b[0m\u001b[0;34m.\u001b[0m\u001b[0m_cond\u001b[0m\u001b[0;34m.\u001b[0m\u001b[0mwait\u001b[0m\u001b[0;34m(\u001b[0m\u001b[0mtimeout\u001b[0m\u001b[0;34m)\u001b[0m\u001b[0;34m\u001b[0m\u001b[0m\n\u001b[0m\u001b[1;32m    552\u001b[0m             \u001b[0;32mreturn\u001b[0m \u001b[0msignaled\u001b[0m\u001b[0;34m\u001b[0m\u001b[0m\n\u001b[1;32m    553\u001b[0m \u001b[0;34m\u001b[0m\u001b[0m\n",
      "\u001b[0;32m~/anaconda3/lib/python3.6/threading.py\u001b[0m in \u001b[0;36mwait\u001b[0;34m(self, timeout)\u001b[0m\n\u001b[1;32m    293\u001b[0m         \u001b[0;32mtry\u001b[0m\u001b[0;34m:\u001b[0m    \u001b[0;31m# restore state no matter what (e.g., KeyboardInterrupt)\u001b[0m\u001b[0;34m\u001b[0m\u001b[0m\n\u001b[1;32m    294\u001b[0m             \u001b[0;32mif\u001b[0m \u001b[0mtimeout\u001b[0m \u001b[0;32mis\u001b[0m \u001b[0;32mNone\u001b[0m\u001b[0;34m:\u001b[0m\u001b[0;34m\u001b[0m\u001b[0m\n\u001b[0;32m--> 295\u001b[0;31m                 \u001b[0mwaiter\u001b[0m\u001b[0;34m.\u001b[0m\u001b[0macquire\u001b[0m\u001b[0;34m(\u001b[0m\u001b[0;34m)\u001b[0m\u001b[0;34m\u001b[0m\u001b[0m\n\u001b[0m\u001b[1;32m    296\u001b[0m                 \u001b[0mgotit\u001b[0m \u001b[0;34m=\u001b[0m \u001b[0;32mTrue\u001b[0m\u001b[0;34m\u001b[0m\u001b[0m\n\u001b[1;32m    297\u001b[0m             \u001b[0;32melse\u001b[0m\u001b[0;34m:\u001b[0m\u001b[0;34m\u001b[0m\u001b[0m\n",
      "\u001b[0;31mKeyboardInterrupt\u001b[0m: "
     ],
     "output_type": "error"
    }
   ],
   "source": [
    "clusters_array = p.map(process_batch, reads_batches)"
   ]
  },
  {
   "cell_type": "code",
   "execution_count": 30,
   "metadata": {},
   "outputs": [],
   "source": [
    "p.close()"
   ]
  },
  {
   "cell_type": "code",
   "execution_count": 35,
   "metadata": {},
   "outputs": [],
   "source": [
    "del read"
   ]
  },
  {
   "cell_type": "code",
   "execution_count": 31,
   "metadata": {
    "scrolled": true
   },
   "outputs": [
    {
     "name": "stdout",
     "output_type": "stream",
     "text": [
      "Variable            Type        Data/Info\n",
      "-----------------------------------------\n",
      "Pool                method      <bound method BaseContext<...>bject at 0x7ff8727c93c8>>\n",
      "ca                  module      <module 'crispr_assembler<...>r_assembler/__init__.py'>\n",
      "extract_read_bc     function    <function extract_read_bc at 0x7ff83d059d08>\n",
      "m1s                 str         AAGCAGTGGTATCAACGCAGAGT\n",
      "np                  module      <module 'numpy' from '/ho<...>kages/numpy/__init__.py'>\n",
      "p                   Pool        <multiprocessing.pool.Poo<...>object at 0x7ff7622794a8>\n",
      "p_cut               Pattern     regex.Regex('(?:CAACGCAGA<...>){e<=2}', flags=regex.V0)\n",
      "p_rc                Pattern     regex.Regex('(?:ACTCTGCGT<...>){e<=2}', flags=regex.V0)\n",
      "p_rc_cut            Pattern     regex.Regex('(?:ACTCTGCGT<...>){e<=2}', flags=regex.V0)\n",
      "plt                 module      <module 'matplotlib.pyplo<...>es/matplotlib/pyplot.py'>\n",
      "process_batch       function    <function process_batch at 0x7ff7ca1fc6a8>\n",
      "quals               list        n=3486683\n",
      "re                  module      <module 'regex' from '/ho<...>/site-packages/regex.py'>\n",
      "read                str         AAGCAGTGGTATCAACGCAGAGTNC<...>TTTACATTCCATATAGTCGAGATNT\n",
      "reads               list        n=3486683\n",
      "reads_clusterized   dict        n=0\n",
      "reload              function    <function reload at 0x7ff87a9718c8>\n",
      "sys                 module      <module 'sys' (built-in)>\n",
      "tqdm_notebook       function    <function tqdm_notebook at 0x7ff83d059c80>\n"
     ]
    }
   ],
   "source": [
    "%whos"
   ]
  },
  {
   "cell_type": "code",
   "execution_count": 18,
   "metadata": {},
   "outputs": [
    {
     "data": {
      "text/plain": [
       "507007"
      ]
     },
     "execution_count": 18,
     "metadata": {},
     "output_type": "execute_result"
    }
   ],
   "source": [
    "len(reads_clusterized)"
   ]
  },
  {
   "cell_type": "code",
   "execution_count": 15,
   "metadata": {},
   "outputs": [],
   "source": [
    "import pickle"
   ]
  },
  {
   "cell_type": "code",
   "execution_count": 16,
   "metadata": {},
   "outputs": [],
   "source": [
    "pickle.dump(reads_clusterized, open(\"../data/cdif_11_12_bc/reads_clustred_bc_fwd\", 'wb'))"
   ]
  },
  {
   "cell_type": "code",
   "execution_count": 22,
   "metadata": {},
   "outputs": [],
   "source": [
    "lens = []\n",
    "for k,v in reads_clusterized.items():\n",
    "    lens = len(v)"
   ]
  },
  {
   "cell_type": "code",
   "execution_count": 23,
   "metadata": {},
   "outputs": [
    {
     "data": {
      "text/plain": [
       "(array([0., 0., 0., 0., 0., 1., 0., 0., 0., 0.]),\n",
       " array([0.5, 0.6, 0.7, 0.8, 0.9, 1. , 1.1, 1.2, 1.3, 1.4, 1.5]),\n",
       " <a list of 10 Patch objects>)"
      ]
     },
     "execution_count": 23,
     "metadata": {},
     "output_type": "execute_result"
    },
    {
     "data": {
      "image/png": "[encoded data removed]",
      "text/plain": [
       "<matplotlib.figure.Figure at 0x7f719c9656d8>"
      ]
     },
     "metadata": {},
     "output_type": "display_data"
    }
   ],
   "source": [
    "plt.hist(lens)"
   ]
  },
  {
   "cell_type": "code",
   "execution_count": 30,
   "metadata": {},
   "outputs": [
    {
     "data": {
      "text/plain": [
       "'GTTTTAGATTAACTATATGGAATGTAAAT'"
      ]
     },
     "execution_count": 30,
     "metadata": {},
     "output_type": "execute_result"
    }
   ],
   "source": [
    "ca.rc(\"ATTTACATTCCATATAGTTAATCTAAAAC\", r=1)"
   ]
  },
  {
   "cell_type": "code",
   "execution_count": 33,
   "metadata": {},
   "outputs": [
    {
     "data": {
      "text/plain": [
       "'MTTTACATWCCAYWTAGTTAATMTAAAAC'"
      ]
     },
     "execution_count": 33,
     "metadata": {},
     "output_type": "execute_result"
    }
   ],
   "source": [
    "ca.rc(ca.redundant.rc, r=1)"
   ]
  },
  {
   "cell_type": "code",
   "execution_count": 32,
   "metadata": {},
   "outputs": [
    {
     "data": {
      "text/plain": [
       "'(GTTTTAGATTAACTATATGGAATGTAAAT){e<=2}'"
      ]
     },
     "execution_count": 32,
     "metadata": {},
     "output_type": "execute_result"
    }
   ],
   "source": [
    "ca.repeat_to_re_pattern(ca.rc(\"ATTTACATTCCATATAGTTAATCTAAAAC\", r=1))"
   ]
  },
  {
   "cell_type": "code",
   "execution_count": 34,
   "metadata": {},
   "outputs": [
    {
     "data": {
      "text/plain": [
       "[(89, 120)]"
      ]
     },
     "execution_count": 34,
     "metadata": {},
     "output_type": "execute_result"
    }
   ],
   "source": [
    "ca.find(ca.rc(ca.redundant.rc, r=1), reads[2])"
   ]
  },
  {
   "cell_type": "code",
   "execution_count": 50,
   "metadata": {},
   "outputs": [
    {
     "data": {
      "text/plain": [
       "(['ACCACATCAAAGTTATCTTTAATAGAAGTTATCTC', 'NTTGGCACTATTATTTGCACAGGATAAGGCTGAT'],\n",
       " ['ACCACATCAAAGTTATCTTTAATAGAAGTTATCTC', 'NTTGGCACTATTATTTGCACAGGATAAGGCTGAT'])"
      ]
     },
     "execution_count": 50,
     "metadata": {},
     "output_type": "execute_result"
    }
   ],
   "source": [
    "ca.split_read(reads[0], reads[0], ca.redundant.reverse_complementary())"
   ]
  },
  {
   "cell_type": "code",
   "execution_count": 43,
   "metadata": {
    "scrolled": true
   },
   "outputs": [],
   "source": [
    "import importlib\n",
    "\n",
    "ca = importlib.reload(ca)"
   ]
  },
  {
   "cell_type": "code",
   "execution_count": 44,
   "metadata": {},
   "outputs": [
    {
     "data": {
      "text/plain": [
       "'GTTTTAKATTAACTAWRTGGWATGTAAAK'"
      ]
     },
     "execution_count": 44,
     "metadata": {},
     "output_type": "execute_result"
    }
   ],
   "source": [
    "ca.redundant.rc"
   ]
  },
  {
   "cell_type": "code",
   "execution_count": 49,
   "metadata": {},
   "outputs": [
    {
     "data": {
      "text/plain": [
       "'MTTTACATWCCAYWTAGTTAATMTAAAAC'"
      ]
     },
     "execution_count": 49,
     "metadata": {},
     "output_type": "execute_result"
    }
   ],
   "source": [
    "ca.redundant.reverse_complementary().rc"
   ]
  },
  {
   "cell_type": "code",
   "execution_count": 17,
   "metadata": {},
   "outputs": [
    {
     "data": {
      "text/plain": [
       "A Jupyter Widget"
      ]
     },
     "metadata": {},
     "output_type": "display_data"
    },
    {
     "name": "stdout",
     "output_type": "stream",
     "text": [
      "\n"
     ]
    }
   ],
   "source": [
    "reads_splits = {}\n",
    "\n",
    "for k, v in tqdm_notebook(reads_clusterized.items()):\n",
    "    reads_splits[k] = ca.split_read(v[0], 'Z' * len(v), ca.redundant.reverse_complementary())"
   ]
  },
  {
   "cell_type": "code",
   "execution_count": 28,
   "metadata": {},
   "outputs": [
    {
     "data": {
      "text/plain": [
       "['CCATTTAGTTAATATAAAACACCACATCAAAGTTATCTTTAATAGAAGTTATCTCCTATTTACATTCCATATAGTTAATATAAAACNTTGGCACTATTATTTGCACAGGATAAGGCTGATGGATTTACATTCCATATAGTCGAGATNT']"
      ]
     },
     "execution_count": 28,
     "metadata": {},
     "output_type": "execute_result"
    }
   ],
   "source": [
    "sample_from_dict(reads_clusterized)[0]"
   ]
  },
  {
   "cell_type": "code",
   "execution_count": 35,
   "metadata": {},
   "outputs": [
    {
     "data": {
      "text/plain": [
       "([-1, -1], [-1, -1])"
      ]
     },
     "execution_count": 35,
     "metadata": {},
     "output_type": "execute_result"
    }
   ],
   "source": [
    "ca.split_read(sample_from_dict(reads_clusterized)[2][0], 'Z' * len(v), ca.redundant.reverse_complementary())"
   ]
  },
  {
   "cell_type": "code",
   "execution_count": 20,
   "metadata": {},
   "outputs": [
    {
     "data": {
      "text/plain": [
       "507007"
      ]
     },
     "execution_count": 20,
     "metadata": {},
     "output_type": "execute_result"
    }
   ],
   "source": [
    "len(reads_splits)"
   ]
  },
  {
   "cell_type": "code",
   "execution_count": 21,
   "metadata": {},
   "outputs": [],
   "source": [
    "def sample_from_dict(d):\n",
    "    return [x for x in d.values()][:10]"
   ]
  },
  {
   "cell_type": "code",
   "execution_count": null,
   "metadata": {},
   "outputs": [],
   "source": []
  },
  {
   "cell_type": "code",
   "execution_count": 36,
   "metadata": {},
   "outputs": [],
   "source": [
    "pickle.dump(reads_splits, open(\"../data/cdif_11_12_bc/reads_splits_bc_fwd\", 'wb'))"
   ]
  },
  {
   "cell_type": "code",
   "execution_count": 24,
   "metadata": {},
   "outputs": [
    {
     "data": {
      "text/plain": [
       "A Jupyter Widget"
      ]
     },
     "metadata": {},
     "output_type": "display_data"
    },
    {
     "name": "stdout",
     "output_type": "stream",
     "text": [
      "\n"
     ]
    }
   ],
   "source": [
    "reads_splits_f = {}\n",
    "\n",
    "for k, v in tqdm_notebook(reads_splits.items()):\n",
    "    if not -1 in v[1] and not -1 in v[0] and len(v[0][0]) > 0:\n",
    "        reads_splits_f[k] = v[0]"
   ]
  },
  {
   "cell_type": "code",
   "execution_count": 12,
   "metadata": {},
   "outputs": [],
   "source": [
    "import pickle"
   ]
  },
  {
   "cell_type": "code",
   "execution_count": 17,
   "metadata": {},
   "outputs": [],
   "source": [
    "reads_splits = pickle.load(open(\"../data/cdif_11_12_bc/reads_splits_bc_fwd\", 'rb'))"
   ]
  },
  {
   "cell_type": "code",
   "execution_count": null,
   "metadata": {},
   "outputs": [],
   "source": []
  },
  {
   "cell_type": "code",
   "execution_count": null,
   "metadata": {},
   "outputs": [],
   "source": []
  },
  {
   "cell_type": "code",
   "execution_count": 37,
   "metadata": {},
   "outputs": [
    {
     "data": {
      "text/plain": [
       "262730"
      ]
     },
     "execution_count": 37,
     "metadata": {},
     "output_type": "execute_result"
    }
   ],
   "source": [
    "len(reads_splits_f)"
   ]
  },
  {
   "cell_type": "code",
   "execution_count": 21,
   "metadata": {},
   "outputs": [],
   "source": [
    "with open(\"../data/cdif_11_12/out/restored/Cdif-planeA_S6_L001_R1_001_arrays_num\") as f:\n",
    "    arrs = [[int(y) for y in x[:-1].split(', ')] for x in  f.readlines()]"
   ]
  },
  {
   "cell_type": "code",
   "execution_count": 22,
   "metadata": {},
   "outputs": [],
   "source": [
    "cl_to_ind = ca.dict_from_csv(\"../data/cdif_11_12/out/restored/Cdif-planeA_S6_L001_R1_001_cl_to_ind\")"
   ]
  },
  {
   "cell_type": "code",
   "execution_count": 38,
   "metadata": {},
   "outputs": [],
   "source": [
    "gr_ans = ca.list_to_gr(arrs, 500)"
   ]
  },
  {
   "cell_type": "code",
   "execution_count": 39,
   "metadata": {},
   "outputs": [],
   "source": [
    "gr_bc = np.zeros_like(gr_ans)"
   ]
  },
  {
   "cell_type": "code",
   "execution_count": 26,
   "metadata": {},
   "outputs": [
    {
     "data": {
      "text/plain": [
       "['ACCACATCAAAGTTATCTTTAATAGAAGTTATCTC', 'NTTGGCACTATTATTTGCACAGGATAAGGCTGAT']"
      ]
     },
     "execution_count": 26,
     "metadata": {},
     "output_type": "execute_result"
    }
   ],
   "source": [
    "reads_splits_f['CNAANGTTGT']"
   ]
  },
  {
   "cell_type": "code",
   "execution_count": 30,
   "metadata": {},
   "outputs": [
    {
     "data": {
      "text/plain": [
       "(2, 'AGGAGATAACTTCTATTAAAGATAACTTTGATGTGGT')"
      ]
     },
     "execution_count": 30,
     "metadata": {},
     "output_type": "execute_result"
    }
   ],
   "source": [
    "ca.find_closest(cl_to_ind, ca.rc('ACCACATCAAAGTTATCTTTAATAGAAGTTATCTC', r=1))"
   ]
  },
  {
   "cell_type": "code",
   "execution_count": 33,
   "metadata": {},
   "outputs": [],
   "source": [
    "def find_closest_rc(d, sp, t=5):\n",
    "    answ_1 = ca.find_closest(d, sp)\n",
    "    answ_2 = ca.find_closest(d, ca.rc(sp, r=1))\n",
    "    if answ_1[0] < answ_2[0] and answ_1[0] <= t:\n",
    "        return answ_1\n",
    "    elif answ_2[0] <= answ_1[0] and answ_2[0] <= t:\n",
    "        return answ_2\n",
    "    else:\n",
    "        return [-1,-1]"
   ]
  },
  {
   "cell_type": "code",
   "execution_count": 43,
   "metadata": {},
   "outputs": [
    {
     "data": {
      "text/plain": [
       "A Jupyter Widget"
      ]
     },
     "metadata": {},
     "output_type": "display_data"
    },
    {
     "name": "stdout",
     "output_type": "stream",
     "text": [
      "\n"
     ]
    }
   ],
   "source": [
    "for k, v in tqdm_notebook(reads_splits_f.items()):\n",
    "    ind_1 = find_closest_rc(cl_to_ind, v[0])\n",
    "    ind_2 = find_closest_rc(cl_to_ind, v[1])\n",
    "     \n",
    "    if ind_1[0] != -1 and ind_2[0] != -1:\n",
    "        #print('good')\n",
    "        gr_bc[int(cl_to_ind[ind_2[1]]),\n",
    "              int(cl_to_ind[ind_1[1]])] += 1"
   ]
  },
  {
   "cell_type": "code",
   "execution_count": 86,
   "metadata": {},
   "outputs": [
    {
     "data": {
      "text/plain": [
       "'214'"
      ]
     },
     "execution_count": 86,
     "metadata": {},
     "output_type": "execute_result"
    }
   ],
   "source": [
    "cl_to_ind[ca.find_closest(cl_to_ind, v[0])[1]]"
   ]
  },
  {
   "cell_type": "code",
   "execution_count": 45,
   "metadata": {},
   "outputs": [
    {
     "data": {
      "text/plain": [
       "<matplotlib.image.AxesImage at 0x7f93dbf31748>"
      ]
     },
     "execution_count": 45,
     "metadata": {},
     "output_type": "execute_result"
    },
    {
     "data": {
      "image/png": "[encoded data removed]",
      "text/plain": [
       "<matplotlib.figure.Figure at 0x7f93dbfba2e8>"
      ]
     },
     "metadata": {},
     "output_type": "display_data"
    }
   ],
   "source": [
    "plt.imshow(np.log(gr_bc[:100,:100] + 1))"
   ]
  },
  {
   "cell_type": "code",
   "execution_count": 44,
   "metadata": {},
   "outputs": [
    {
     "data": {
      "text/plain": [
       "<matplotlib.image.AxesImage at 0x7f93dbf60860>"
      ]
     },
     "execution_count": 44,
     "metadata": {},
     "output_type": "execute_result"
    },
    {
     "data": {
      "image/png": "[encoded data removed]",
      "text/plain": [
       "<matplotlib.figure.Figure at 0x7f93dbf8dbe0>"
      ]
     },
     "metadata": {},
     "output_type": "display_data"
    }
   ],
   "source": [
    "plt.imshow(np.log(gr_ans[:100,:100] + 1))"
   ]
  },
  {
   "cell_type": "code",
   "execution_count": 56,
   "metadata": {},
   "outputs": [],
   "source": [
    "bcws = []\n",
    "for arr in arrs:\n",
    "    bc_w = []\n",
    "    for a, b in zip(arr, arr[1:]):\n",
    "        bc_w.append(gr_bc[a,b])\n",
    "    bcws.append(bc_w)"
   ]
  },
  {
   "cell_type": "code",
   "execution_count": 57,
   "metadata": {},
   "outputs": [
    {
     "data": {
      "text/plain": [
       "[[701.0,\n",
       "  1022.0,\n",
       "  9786.0,\n",
       "  15583.0,\n",
       "  1987.0,\n",
       "  88.0,\n",
       "  62.0,\n",
       "  765.0,\n",
       "  4163.0,\n",
       "  3255.0,\n",
       "  3050.0,\n",
       "  2629.0,\n",
       "  676.0,\n",
       "  27.0],\n",
       " [104.0,\n",
       "  74.0,\n",
       "  242.0,\n",
       "  652.0,\n",
       "  3528.0,\n",
       "  12099.0,\n",
       "  1519.0,\n",
       "  3481.0,\n",
       "  2462.0,\n",
       "  7993.0,\n",
       "  1019.0,\n",
       "  10.0],\n",
       " [309.0,\n",
       "  402.0,\n",
       "  292.0,\n",
       "  3709.0,\n",
       "  982.0,\n",
       "  9.0,\n",
       "  37.0,\n",
       "  23.0,\n",
       "  740.0,\n",
       "  9309.0,\n",
       "  1370.0,\n",
       "  1539.0,\n",
       "  5653.0],\n",
       " [63.0,\n",
       "  1225.0,\n",
       "  2525.0,\n",
       "  1477.0,\n",
       "  1138.0,\n",
       "  148.0,\n",
       "  979.0,\n",
       "  428.0,\n",
       "  266.0,\n",
       "  938.0,\n",
       "  226.0,\n",
       "  48.0,\n",
       "  1101.0,\n",
       "  6128.0,\n",
       "  8702.0,\n",
       "  2.0,\n",
       "  1089.0,\n",
       "  9665.0,\n",
       "  0.0,\n",
       "  4818.0,\n",
       "  11200.0,\n",
       "  3286.0,\n",
       "  2816.0,\n",
       "  1850.0,\n",
       "  12.0,\n",
       "  1.0,\n",
       "  0.0],\n",
       " [18.0, 1020.0, 10367.0],\n",
       " [11.0, 296.0, 103.0, 249.0, 223.0, 1816.0, 6442.0],\n",
       " [409.0,\n",
       "  271.0,\n",
       "  114.0,\n",
       "  602.0,\n",
       "  375.0,\n",
       "  71.0,\n",
       "  245.0,\n",
       "  201.0,\n",
       "  5145.0,\n",
       "  2426.0,\n",
       "  732.0,\n",
       "  579.0,\n",
       "  1183.0,\n",
       "  196.0,\n",
       "  56.0,\n",
       "  32.0,\n",
       "  182.0,\n",
       "  3153.0,\n",
       "  6011.0,\n",
       "  895.0,\n",
       "  868.0,\n",
       "  1230.0,\n",
       "  121.0,\n",
       "  0.0],\n",
       " [11.0, 408.0, 2082.0],\n",
       " [136.0, 8276.0, 142.0],\n",
       " [3.0, 8.0, 90.0, 3406.0],\n",
       " [389.0, 1088.0, 2266.0, 558.0, 195.0, 53.0, 42.0],\n",
       " [45.0, 352.0, 578.0, 1608.0, 666.0, 626.0, 1295.0, 693.0, 116.0, 664.0],\n",
       " [1.0, 4.0, 27.0, 648.0, 608.0, 542.0, 426.0, 258.0, 40.0, 65.0],\n",
       " [45.0, 476.0, 738.0, 92.0, 45.0, 71.0, 246.0, 145.0, 368.0],\n",
       " [1142.0, 126.0, 86.0, 381.0, 206.0],\n",
       " [81.0, 0.0, 1563.0, 0.0],\n",
       " [52.0, 9.0],\n",
       " [18.0],\n",
       " [0.0],\n",
       " [0.0],\n",
       " [0.0, 0.0],\n",
       " [0.0],\n",
       " [0.0],\n",
       " [0.0],\n",
       " [0.0],\n",
       " [0.0],\n",
       " [0.0],\n",
       " [0.0, 0.0, 0.0]]"
      ]
     },
     "execution_count": 57,
     "metadata": {},
     "output_type": "execute_result"
    }
   ],
   "source": [
    "bcws"
   ]
  },
  {
   "cell_type": "code",
   "execution_count": null,
   "metadata": {},
   "outputs": [],
   "source": []
  },
  {
   "cell_type": "code",
   "execution_count": null,
   "metadata": {},
   "outputs": [],
   "source": []
  },
  {
   "cell_type": "code",
   "execution_count": 54,
   "metadata": {},
   "outputs": [],
   "source": [
    "lens = []\n",
    "for v  in reads_splits.values():\n",
    "    lens.append(len(v))"
   ]
  },
  {
   "cell_type": "code",
   "execution_count": 55,
   "metadata": {},
   "outputs": [
    {
     "data": {
      "text/plain": [
       "(array([     0.,      0.,      0.,      0.,      0., 507007.,      0.,\n",
       "             0.,      0.,      0.]),\n",
       " array([1.5, 1.6, 1.7, 1.8, 1.9, 2. , 2.1, 2.2, 2.3, 2.4, 2.5]),\n",
       " <a list of 10 Patch objects>)"
      ]
     },
     "execution_count": 55,
     "metadata": {},
     "output_type": "execute_result"
    },
    {
     "data": {
      "image/png": "[encoded data removed]",
      "text/plain": [
       "<matplotlib.figure.Figure at 0x7f93dbecfcc0>"
      ]
     },
     "metadata": {},
     "output_type": "display_data"
    }
   ],
   "source": [
    "plt.hist(lens)"
   ]
  },
  {
   "cell_type": "code",
   "execution_count": null,
   "metadata": {},
   "outputs": [],
   "source": []
  }
 ],
 "metadata": {
  "kernelspec": {
   "display_name": "Python 3",
   "language": "python",
   "name": "python3"
  },
  "language_info": {
   "codemirror_mode": {
    "name": "ipython",
    "version": 3
   },
   "file_extension": ".py",
   "mimetype": "text/x-python",
   "name": "python",
   "nbconvert_exporter": "python",
   "pygments_lexer": "ipython3",
   "version": "3.6.3"
  }
 },
 "nbformat": 4,
 "nbformat_minor": 2
}
