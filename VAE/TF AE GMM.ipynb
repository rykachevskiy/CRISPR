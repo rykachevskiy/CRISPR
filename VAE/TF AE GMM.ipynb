{
 "cells": [
  {
   "cell_type": "code",
   "execution_count": 1,
   "metadata": {
    "collapsed": true
   },
   "outputs": [],
   "source": [
    "import tensorflow as tf\n",
    "import numpy as np\n",
    "import matplotlib.pyplot as plt\n",
    "import time\n",
    "from IPython import display"
   ]
  },
  {
   "cell_type": "code",
   "execution_count": 2,
   "metadata": {
    "collapsed": true
   },
   "outputs": [],
   "source": [
    "def iterate_minibatches(inputs, batchsize, shuffle=True):\n",
    "    if shuffle:\n",
    "        indices = np.arange(len(inputs))\n",
    "        np.random.shuffle(indices)\n",
    "    for start_idx in range(0, len(inputs) - batchsize + 1, batchsize):\n",
    "        if shuffle:\n",
    "            excerpt = indices[start_idx:start_idx + batchsize]\n",
    "        else:\n",
    "            excerpt = slice(start_idx, start_idx + batchsize)\n",
    "        yield inputs[excerpt]"
   ]
  },
  {
   "cell_type": "code",
   "execution_count": 3,
   "metadata": {
    "collapsed": true
   },
   "outputs": [],
   "source": [
    "#data = np.load(\"../data/npy/ES1_R1.npy\")"
   ]
  },
  {
   "cell_type": "markdown",
   "metadata": {},
   "source": [
    "### Synth data"
   ]
  },
  {
   "cell_type": "code",
   "execution_count": 4,
   "metadata": {
    "collapsed": true
   },
   "outputs": [],
   "source": [
    "def create_clust(dim):\n",
    "    center = np.random.random(dim)*np.random.randint(1,50)\n",
    "    \n",
    "    #cov_1 = np.random.random((dim,dim))\n",
    "    #cov_1 += cov_1.T\n",
    "    #while not all(np.linalg.eigvals(cov_1) > 0):\n",
    "    #    cov_1 = np.random.random((dim,dim))\n",
    "    #    cov_1 += cov_1.T\n",
    "    \n",
    "    cov_1 = np.diag(np.ones(dim))\n",
    "    \n",
    "    return np.random.multivariate_normal(center, cov_1 * 2, 1000)"
   ]
  },
  {
   "cell_type": "code",
   "execution_count": 5,
   "metadata": {
    "collapsed": true
   },
   "outputs": [],
   "source": [
    "clust_1 = create_clust(2)\n",
    "clust_2 = create_clust(4)\n",
    "clust_3 = create_clust(4)"
   ]
  },
  {
   "cell_type": "code",
   "execution_count": 6,
   "metadata": {},
   "outputs": [
    {
     "data": {
      "image/png": "[encoded data removed]",
      "text/plain": [
       "<matplotlib.figure.Figure at 0x7f3949a2c630>"
      ]
     },
     "metadata": {},
     "output_type": "display_data"
    }
   ],
   "source": [
    "plt.scatter(clust_1[:,0],clust_1[:,1], c='y' )\n",
    "#plt.scatter(clust_2[:,0],clust_2[:,1], c='r' )\n",
    "#plt.scatter(clust_3[:,0],clust_3[:,1], c='b' )\n",
    "#plt.scatter(data_2[:,0],data_2[:,1], c='b' )\n",
    "plt.show()"
   ]
  },
  {
   "cell_type": "code",
   "execution_count": 7,
   "metadata": {},
   "outputs": [
    {
     "ename": "ValueError",
     "evalue": "all the input array dimensions except for the concatenation axis must match exactly",
     "output_type": "error",
     "traceback": [
      "\u001b[0;31m---------------------------------------------------------------------------\u001b[0m",
      "\u001b[0;31mValueError\u001b[0m                                Traceback (most recent call last)",
      "\u001b[0;32m<ipython-input-7-a0a9fa9a4b3c>\u001b[0m in \u001b[0;36m<module>\u001b[0;34m()\u001b[0m\n\u001b[0;32m----> 1\u001b[0;31m \u001b[0mdata\u001b[0m \u001b[0;34m=\u001b[0m \u001b[0mnp\u001b[0m\u001b[0;34m.\u001b[0m\u001b[0mconcatenate\u001b[0m\u001b[0;34m(\u001b[0m\u001b[0;34m(\u001b[0m\u001b[0mclust_1\u001b[0m\u001b[0;34m,\u001b[0m \u001b[0mclust_2\u001b[0m\u001b[0;34m,\u001b[0m \u001b[0mclust_3\u001b[0m\u001b[0;34m)\u001b[0m\u001b[0;34m)\u001b[0m\u001b[0;34m\u001b[0m\u001b[0m\n\u001b[0m",
      "\u001b[0;31mValueError\u001b[0m: all the input array dimensions except for the concatenation axis must match exactly"
     ]
    }
   ],
   "source": [
    "data = np.concatenate((clust_1, clust_2, clust_3))"
   ]
  },
  {
   "cell_type": "code",
   "execution_count": 8,
   "metadata": {
    "collapsed": true
   },
   "outputs": [],
   "source": [
    "data = clust_1"
   ]
  },
  {
   "cell_type": "code",
   "execution_count": 9,
   "metadata": {
    "collapsed": true
   },
   "outputs": [],
   "source": [
    "# Training Parameters\n",
    "learning_rate = 0.001\n",
    "#num_steps = 30000\n",
    "batch_size = 50\n",
    "clusters_num = 1\n",
    "\n",
    "#display_step = 1000\n",
    "#examples_to_show = 10\n",
    "\n",
    "# Network Parameters\n",
    "num_hidden_1 = 2 # 1st layer num features\n",
    "int_dim = 2 # 2nd layer num features (the latent dim)\n",
    "num_input = 2 # MNIST data input (img shape: 28*28)"
   ]
  },
  {
   "cell_type": "code",
   "execution_count": 36,
   "metadata": {},
   "outputs": [],
   "source": [
    "X = tf.placeholder(\"float\", [None, num_input])\n",
    "Y = tf.placeholder(\"float\", [None, num_input])\n",
    "learning_rate = tf.placeholder( dtype=tf.float32)\n",
    "\n",
    "weights = {\n",
    "    'encoder_h1': tf.Variable(tf.truncated_normal([num_input, num_hidden_1]) / 10),\n",
    "    'encoder_h2': tf.Variable(tf.truncated_normal([num_hidden_1, int_dim]) / 10),\n",
    "    'decoder_h1': tf.Variable(tf.truncated_normal([int_dim, num_hidden_1]) / 10),\n",
    "    'decoder_h2': tf.Variable(tf.truncated_normal([num_hidden_1, num_input]) / 10),\n",
    "    'predictor_h_1': tf.Variable(tf.truncated_normal([int_dim + 1, num_hidden_1]) / 10),\n",
    "    'predictor_h_2': tf.Variable(tf.truncated_normal([num_hidden_1, clusters_num]) / 10)\n",
    "}\n",
    "biases = {\n",
    "    'encoder_b1': tf.Variable(tf.truncated_normal([num_hidden_1]) / 10),\n",
    "    'encoder_b2': tf.Variable(tf.truncated_normal([int_dim]) / 10),\n",
    "    'decoder_b1': tf.Variable(tf.truncated_normal([num_hidden_1]) / 10),\n",
    "    'decoder_b2': tf.Variable(tf.truncated_normal([num_input]) / 10),\n",
    "    'predictor_b_1': tf.Variable(tf.truncated_normal([num_hidden_1]) / 10),\n",
    "    'predictor_b_2': tf.Variable(tf.truncated_normal([clusters_num]) / 10)\n",
    "}\n",
    "\n",
    "# Building the encoder\n",
    "\n",
    "    # Encoder Hidden layer with sigmoid activation #1\n",
    "enc_layer_1 = tf.add(tf.matmul(X, weights['encoder_h1']),\n",
    "                                   biases['encoder_b1'])\n",
    "    # Encoder Hidden layer with sigmoid activation #2\n",
    "z = tf.add(tf.matmul(enc_layer_1, weights['encoder_h2']),\n",
    "                                   biases['encoder_b2'])\n",
    "\n",
    "\n",
    "# Building the decoder\n",
    "\n",
    "    # Decoder Hidden layer with sigmoid activation #1\n",
    "dec_layer_1 = tf.add(tf.matmul(z, weights['decoder_h1']),\n",
    "                                   biases['decoder_b1'])\n",
    "    # Decoder Hidden layer with sigmoid activation #2\n",
    "decoder = tf.add(tf.matmul(dec_layer_1, weights['decoder_h2']),\n",
    "                                   biases['decoder_b2'])"
   ]
  },
  {
   "cell_type": "code",
   "execution_count": 37,
   "metadata": {
    "collapsed": true
   },
   "outputs": [],
   "source": [
    "mse = tf.reduce_mean(tf.squared_difference(decoder, Y))"
   ]
  },
  {
   "cell_type": "code",
   "execution_count": 32,
   "metadata": {
    "collapsed": true
   },
   "outputs": [],
   "source": [
    "predictor_inp = tf.concat([z, tf.reshape(mse, (-1,1))], axis = 1)"
   ]
  },
  {
   "cell_type": "code",
   "execution_count": 33,
   "metadata": {
    "collapsed": true
   },
   "outputs": [],
   "source": [
    "predictor_layer_1 = tf.nn.relu(tf.add(tf.matmul(predictor_inp, weights['predictor_h_1']),\n",
    "                                   biases['predictor_b_1']))\n",
    "gamma = tf.nn.softmax(tf.add(tf.matmul(predictor_layer_1, weights['predictor_h_2']),\n",
    "                                   biases['predictor_b_2']))"
   ]
  },
  {
   "cell_type": "code",
   "execution_count": 34,
   "metadata": {
    "collapsed": true
   },
   "outputs": [],
   "source": [
    "def est_gmm(gamma, z):\n",
    "    weights = tf.reduce_mean(gamma, reduction_indices=[0])\n",
    "    means = tf.transpose(tf.matmul(tf.transpose(z), gamma) / tf.transpose(tf.reduce_sum(gamma, reduction_indices=[0])))\n",
    "    \n",
    "    z_minus_means = tf.map_fn(lambda x: z - x, means)\n",
    "\n",
    "    def internal(x):\n",
    "        x = tf.reshape(x, (1,-1))\n",
    "        return tf.matmul(tf.transpose(x), x)\n",
    "\n",
    "    matrixes = tf.map_fn(lambda x: tf.map_fn(internal, x), z_minus_means)\n",
    "    \n",
    "    m_r = tf.reshape(matrixes, (clusters_num * batch_size, int_dim * int_dim))\n",
    "    m_r2 = tf.reshape(matrixes, (clusters_num * batch_size, int_dim * int_dim)) * tf.reshape(tf.transpose(gamma), (clusters_num * batch_size,1))\n",
    "    m_r3 = tf.reduce_sum(tf.reshape(m_r2, (clusters_num,batch_size,int_dim,int_dim)), [1]) \n",
    "    sigmas = tf.reshape(tf.transpose(tf.transpose(tf.reshape(m_r3, (clusters_num, int_dim * int_dim))) / tf.reduce_sum(gamma, 0)), (clusters_num,int_dim,int_dim))\n",
    "    \n",
    "    means_minus_z = tf.map_fn(lambda x: means - x, z)\n",
    "    \n",
    "    def internal_e_1(z):\n",
    "        #return (-0.5 * tf.map_fn(lambda x: tf.matmul(tf.matmul(tf.reshape(x, (1, -1)), z[1]), tf.reshape(x, (-1,1))), z[0]), 0.)\n",
    "        #return tf.map_fn(lambda x,y: (tf.matmul(tf.reshape(x, (1, -1)), y), 0.), (z, sigmas), dtype=(tf.float32, tf.float32))[0]\n",
    "        return tf.exp( -0.5 * \n",
    "            tf.map_fn(lambda x: tf.matmul(tf.matmul(tf.reshape(x, (1, -1)), tf.linalg.inv(z[1])),  tf.reshape(x, (-1, 1))),\n",
    "                      z[0])) / tf.sqrt(tf.abs(tf.linalg.det(z[1])))\n",
    "\n",
    "    #en_1 = tf.map_fn(lambda x: tf.transpose(x, (1,0,2)),means_minus_z)#, dtype=(tf.float32, tf.float32))\n",
    "    en_1 = tf.transpose(means_minus_z, (1,0,2))\n",
    "\n",
    "    en_2 = tf.map_fn(internal_e_1, (en_1, sigmas), dtype=(tf.float32))\n",
    "\n",
    "    en = tf.reduce_mean(-tf.log(tf.reduce_sum(tf.transpose(tf.reshape(en_2, (clusters_num, batch_size))) * weights, 1)))\n",
    "    \n",
    "    return weights, means, sigmas, en"
   ]
  },
  {
   "cell_type": "code",
   "execution_count": 35,
   "metadata": {
    "collapsed": true
   },
   "outputs": [],
   "source": [
    "w, m, s, e = est_gmm(gamma, z)"
   ]
  },
  {
   "cell_type": "code",
   "execution_count": 38,
   "metadata": {
    "collapsed": true
   },
   "outputs": [],
   "source": [
    "# Define loss and optimizer, minimize the squared error\n",
    "#loss = tf.reduce_mean(mse)#+ 0.01 * e + tf.reduce_sum(0.001 / s)\n",
    "optimizer = tf.train.RMSPropOptimizer(learning_rate).minimize(mse)\n",
    "\n",
    "# Initialize the variables (i.e. assign their default value)\n",
    "init = tf.global_variables_initializer()"
   ]
  },
  {
   "cell_type": "code",
   "execution_count": null,
   "metadata": {
    "collapsed": true
   },
   "outputs": [],
   "source": []
  },
  {
   "cell_type": "code",
   "execution_count": null,
   "metadata": {
    "collapsed": true
   },
   "outputs": [],
   "source": []
  },
  {
   "cell_type": "code",
   "execution_count": null,
   "metadata": {
    "collapsed": true
   },
   "outputs": [],
   "source": []
  },
  {
   "cell_type": "code",
   "execution_count": 42,
   "metadata": {
    "collapsed": true
   },
   "outputs": [],
   "source": [
    "sess.close()"
   ]
  },
  {
   "cell_type": "code",
   "execution_count": 43,
   "metadata": {
    "collapsed": true
   },
   "outputs": [],
   "source": [
    "sess = tf.Session()\n",
    "sess.run(init)\n",
    "\n",
    "# Training"
   ]
  },
  {
   "cell_type": "code",
   "execution_count": 44,
   "metadata": {
    "collapsed": true
   },
   "outputs": [],
   "source": [
    "epochs = 20\n",
    "losses = []"
   ]
  },
  {
   "cell_type": "code",
   "execution_count": 45,
   "metadata": {},
   "outputs": [
    {
     "data": {
      "text/plain": [
       "50"
      ]
     },
     "execution_count": 45,
     "metadata": {},
     "output_type": "execute_result"
    }
   ],
   "source": [
    "batch_size"
   ]
  },
  {
   "cell_type": "code",
   "execution_count": 49,
   "metadata": {},
   "outputs": [
    {
     "data": {
      "text/plain": [
       "[208.09128]"
      ]
     },
     "execution_count": 49,
     "metadata": {},
     "output_type": "execute_result"
    }
   ],
   "source": [
    "sess.run([mse], feed_dict={X: data[0:10], Y: data[0:10]})"
   ]
  },
  {
   "cell_type": "code",
   "execution_count": 50,
   "metadata": {
    "collapsed": true
   },
   "outputs": [],
   "source": [
    "lr = 0.01"
   ]
  },
  {
   "cell_type": "code",
   "execution_count": 54,
   "metadata": {
    "scrolled": false
   },
   "outputs": [
    {
     "data": {
      "image/png": "[encoded data removed]",
      "text/plain": [
       "<matplotlib.figure.Figure at 0x7f38e8e45518>"
      ]
     },
     "metadata": {},
     "output_type": "display_data"
    }
   ],
   "source": [
    "for i in range(epochs):\n",
    "    for batch in iterate_minibatches(data, batch_size, shuffle = True):\n",
    "        _, l = sess.run([optimizer, mse], feed_dict={X: batch, Y: batch, learning_rate : lr})\n",
    "        losses.append(l)\n",
    "    # Display logs per step\n",
    "    \n",
    "    if i % 1 == 0 or i == 1:\n",
    "        print('Step %i: Minibatch Loss: %f' % (i, l))\n",
    "        \n",
    "        display.clear_output(wait=True)\n",
    "        plt.plot(losses, label='train')\n",
    "    #    plt.plot(v_losses_valid, label='validation')\n",
    "        plt.legend()\n",
    "        plt.show()\n",
    "        \n",
    "    lr *= 0.95\n"
   ]
  },
  {
   "cell_type": "code",
   "execution_count": 55,
   "metadata": {},
   "outputs": [
    {
     "data": {
      "image/png": "[encoded data removed]",
      "text/plain": [
       "<matplotlib.figure.Figure at 0x7f38e8d2cef0>"
      ]
     },
     "metadata": {},
     "output_type": "display_data"
    }
   ],
   "source": [
    "plt.plot(losses[300:], label='train')\n",
    "#    plt.plot(v_losses_valid, label='validation')\n",
    "plt.legend()\n",
    "plt.show()"
   ]
  },
  {
   "cell_type": "code",
   "execution_count": 19,
   "metadata": {},
   "outputs": [
    {
     "data": {
      "text/plain": [
       "[array([], shape=(0, 2), dtype=float32)]"
      ]
     },
     "execution_count": 19,
     "metadata": {},
     "output_type": "execute_result"
    }
   ],
   "source": [
    "sess.run([z], {X: data[1990:2010]})"
   ]
  },
  {
   "cell_type": "code",
   "execution_count": 56,
   "metadata": {},
   "outputs": [
    {
     "data": {
      "text/plain": [
       "[array([[ 0.70823938, -0.35371888],\n",
       "        [ 0.38158739, -0.40725958]], dtype=float32)]"
      ]
     },
     "execution_count": 56,
     "metadata": {},
     "output_type": "execute_result"
    }
   ],
   "source": [
    "sess.run([weights['encoder_h1']], {X: data[1990:2010]})"
   ]
  },
  {
   "cell_type": "code",
   "execution_count": 57,
   "metadata": {},
   "outputs": [
    {
     "data": {
      "text/plain": [
       "[array([[ 0.70823938, -0.35371888],\n",
       "        [ 0.38158739, -0.40725958]], dtype=float32)]"
      ]
     },
     "execution_count": 57,
     "metadata": {},
     "output_type": "execute_result"
    }
   ],
   "source": [
    "sess.run([weights['encoder_h1']], {X: data[1990:2010]})"
   ]
  },
  {
   "cell_type": "code",
   "execution_count": 58,
   "metadata": {
    "collapsed": true
   },
   "outputs": [],
   "source": [
    "data_2 = sess.run([decoder], {X: data}) [0]"
   ]
  },
  {
   "cell_type": "code",
   "execution_count": 59,
   "metadata": {},
   "outputs": [
    {
     "data": {
      "text/plain": [
       "array([[ 18.34412193,  12.24461937],\n",
       "       [ 17.28120804,  11.52321815],\n",
       "       [ 17.46927452,  11.65085793],\n",
       "       [ 17.6934948 ,  11.80303383],\n",
       "       [ 15.68631268,  10.44076443],\n",
       "       [ 17.02872276,  11.35185814],\n",
       "       [ 17.16068077,  11.44142628],\n",
       "       [ 15.64773178,  10.41458321],\n",
       "       [ 15.70954514,  10.45653725],\n",
       "       [ 16.1009903 ,  10.72220802]], dtype=float32)"
      ]
     },
     "execution_count": 59,
     "metadata": {},
     "output_type": "execute_result"
    }
   ],
   "source": [
    "data_2[:10]"
   ]
  },
  {
   "cell_type": "code",
   "execution_count": 25,
   "metadata": {},
   "outputs": [
    {
     "data": {
      "text/plain": [
       "array([[ 18.69259472,  12.07179905],\n",
       "       [ 18.11268969,  10.47158375],\n",
       "       [ 18.4304442 ,  10.4422479 ],\n",
       "       [ 18.83804239,  10.36549793],\n",
       "       [ 16.76436399,   8.76496411],\n",
       "       [ 17.72892512,  10.44876262],\n",
       "       [ 16.407694  ,  12.6708731 ],\n",
       "       [ 15.91072265,   9.91609174],\n",
       "       [ 16.01220337,   9.91074819],\n",
       "       [ 16.7908348 ,   9.67939462]])"
      ]
     },
     "execution_count": 25,
     "metadata": {},
     "output_type": "execute_result"
    }
   ],
   "source": [
    "data[:10]"
   ]
  },
  {
   "cell_type": "code",
   "execution_count": 13,
   "metadata": {
    "collapsed": true
   },
   "outputs": [],
   "source": [
    "summ_writer = tf.summary.FileWriter(\"/home/anton/TF_logs/CRISPR/\", sess.graph, filename_suffix=\"AE_2\")"
   ]
  },
  {
   "cell_type": "code",
   "execution_count": null,
   "metadata": {
    "collapsed": true
   },
   "outputs": [],
   "source": []
  },
  {
   "cell_type": "code",
   "execution_count": 37,
   "metadata": {
    "collapsed": true
   },
   "outputs": [],
   "source": [
    "summ_writer.close()"
   ]
  },
  {
   "cell_type": "code",
   "execution_count": 24,
   "metadata": {
    "collapsed": true
   },
   "outputs": [],
   "source": [
    "#gamma = tf.placeholder(tf.float32)\n",
    "#z = tf.placeholder(tf.float32)    \n",
    "\n",
    "weights = tf.reduce_mean(gamma, reduction_indices=[0])\n",
    "means = tf.transpose(tf.matmul(tf.transpose(z), gamma) / tf.transpose(tf.reduce_sum(gamma, reduction_indices=[0])))\n",
    "\n",
    "z_minus_means = tf.reshape(tf.map_fn(lambda x: z - x, means), [-1, int_dim])\n",
    "\n",
    "z_minus_means_squared = tf.map_fn(lambda x: tf.reduce_sum(x * x), z_minus_means)\n",
    "\n",
    "sigma_flat = tf.reduce_sum(tf.transpose(tf.reshape(\n",
    "        z_minus_means_squared * tf.reshape(tf.transpose(gamma), (1, -1)), [clusters_num, batch_size])), 0) / tf.reduce_sum(gamma, 0)\n",
    "\n",
    "pre_energy = tf.reduce_sum(tf.exp(-0.5 * tf.transpose(\n",
    "    tf.reshape(z_minus_means_squared,  [clusters_num, batch_size])) / sigma_flat) * weights  / tf.sqrt(6.28  * sigma_flat),1 )\n",
    "                           \n",
    "energy = tf.reduce_mean(-tf.log(tf.reduce_sum(tf.exp(-0.5 * tf.transpose(\n",
    "    tf.reshape(z_minus_means_squared,  [clusters_num, batch_size])) / sigma_flat) * weights  / tf.sqrt(6.28  * sigma_flat), 1)))"
   ]
  },
  {
   "cell_type": "code",
   "execution_count": null,
   "metadata": {
    "collapsed": true
   },
   "outputs": [],
   "source": []
  }
 ],
 "metadata": {
  "kernelspec": {
   "display_name": "Python 3",
   "language": "python",
   "name": "python3"
  },
  "language_info": {
   "codemirror_mode": {
    "name": "ipython",
    "version": 3
   },
   "file_extension": ".py",
   "mimetype": "text/x-python",
   "name": "python",
   "nbconvert_exporter": "python",
   "pygments_lexer": "ipython3",
   "version": "3.6.3"
  }
 },
 "nbformat": 4,
 "nbformat_minor": 2
}
