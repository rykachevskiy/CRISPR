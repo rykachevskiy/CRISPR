{
 "cells": [
  {
   "cell_type": "code",
   "execution_count": 1,
   "metadata": {
    "collapsed": true
   },
   "outputs": [],
   "source": [
    "import numpy as np\n",
    "\n",
    "import theano\n",
    "import theano.tensor as T\n",
    "import lasagne\n",
    "\n",
    "from tqdm import tqdm\n",
    "\n",
    "import time\n",
    "from IPython import display\n",
    "\n",
    "import matplotlib.pyplot as plt"
   ]
  },
  {
   "cell_type": "markdown",
   "metadata": {},
   "source": [
    "# VAE"
   ]
  },
  {
   "cell_type": "code",
   "execution_count": 2,
   "metadata": {
    "collapsed": true
   },
   "outputs": [],
   "source": [
    "def iterate_minibatches(inputs, batchsize, shuffle=True):\n",
    "    if shuffle:\n",
    "        indices = np.arange(len(inputs))\n",
    "        np.random.shuffle(indices)\n",
    "    for start_idx in range(0, len(inputs) - batchsize + 1, batchsize):\n",
    "        if shuffle:\n",
    "            excerpt = indices[start_idx:start_idx + batchsize]\n",
    "        else:\n",
    "            excerpt = slice(start_idx, start_idx + batchsize)\n",
    "        yield inputs[excerpt]"
   ]
  },
  {
   "cell_type": "code",
   "execution_count": 3,
   "metadata": {
    "collapsed": true
   },
   "outputs": [],
   "source": [
    "from theano.sandbox.rng_mrg import MRG_RandomStreams as RandomStreams\n",
    "\n",
    "class GaussianSampleLayer(lasagne.layers.MergeLayer):\n",
    "    def __init__(self, mu, logsigma, **kwargs):\n",
    "        self.rng = RandomStreams(lasagne.random.get_rng().randint(1,2147462579))\n",
    "        super(GaussianSampleLayer, self).__init__([mu, logsigma], **kwargs)\n",
    "\n",
    "    def get_output_shape_for(self, input_shapes):\n",
    "        return input_shapes[0]\n",
    "\n",
    "    def get_output_for(self, inputs, deterministic=False, **kwargs):\n",
    "        mu, logsigma = inputs\n",
    "        shape=(self.input_shapes[0][0] or inputs[0].shape[0],\n",
    "                self.input_shapes[0][1] or inputs[0].shape[1])\n",
    "        if deterministic:\n",
    "            return mu\n",
    "        return mu + T.exp(logsigma) * self.rng.normal(shape)"
   ]
  },
  {
   "cell_type": "code",
   "execution_count": 5,
   "metadata": {
    "collapsed": true
   },
   "outputs": [],
   "source": [
    "def KL_divergence(mu, log_sigma):\n",
    "    KLD = 0.5 * T.sum(1 + 2*log_sigma - T.sqr(mu) - T.exp(2*log_sigma))\n",
    "    return KLD\n",
    "\n",
    "def log_likelihood(tgt, mu, ls):\n",
    "    return T.sum(-(np.float32(0.5 * np.log(2 * np.pi)) + ls)\n",
    "            - 0.5 * T.sqr(tgt - mu) / T.exp(2 * ls) )"
   ]
  },
  {
   "cell_type": "code",
   "execution_count": null,
   "metadata": {
    "collapsed": true
   },
   "outputs": [],
   "source": []
  },
  {
   "cell_type": "code",
   "execution_count": 6,
   "metadata": {
    "collapsed": true
   },
   "outputs": [],
   "source": [
    "X = np.load(\"./data/npy/db.npy\")"
   ]
  },
  {
   "cell_type": "code",
   "execution_count": 7,
   "metadata": {
    "collapsed": true
   },
   "outputs": [],
   "source": [
    "input_X = T.matrix(\"X\")\n",
    "input_shape = [None,32*4]"
   ]
  },
  {
   "cell_type": "code",
   "execution_count": 8,
   "metadata": {
    "collapsed": true
   },
   "outputs": [],
   "source": [
    "HU_encoder = 200\n",
    "HU_decoder = 200\n",
    "dimZ = 3"
   ]
  },
  {
   "cell_type": "code",
   "execution_count": 9,
   "metadata": {
    "collapsed": true
   },
   "outputs": [],
   "source": [
    "vl_input = lasagne.layers.InputLayer(input_shape)\n",
    "vl_enc_hid = lasagne.layers.DenseLayer(vl_input, num_units=HU_encoder, nonlinearity = lasagne.nonlinearities.elu)\n",
    "vl_enc_mu = lasagne.layers.DenseLayer(vl_enc_hid, dimZ, nonlinearity = None)\n",
    "vl_enc_logsigma = lasagne.layers.DenseLayer(vl_enc_hid, num_units=dimZ, nonlinearity = None)\n",
    "vl_z = GaussianSampleLayer(vl_enc_mu, vl_enc_logsigma)\n",
    "vl_dec_hid = lasagne.layers.DenseLayer(vl_z, num_units=HU_decoder, nonlinearity = lasagne.nonlinearities.elu)\n",
    "vl_dec_mu = lasagne.layers.DenseLayer(vl_dec_hid, num_units=input_shape[1],\n",
    "                                      nonlinearity = lasagne.nonlinearities.sigmoid)\n",
    "relu_shift = 2\n",
    "vl_dec_logsigma = lasagne.layers.DenseLayer(vl_dec_hid, num_units=input_shape[1],\n",
    "                    nonlinearity = lambda a: T.nnet.relu(a+relu_shift)-relu_shift)\n",
    "vl_output = GaussianSampleLayer(vl_dec_mu, vl_dec_logsigma)"
   ]
  },
  {
   "cell_type": "code",
   "execution_count": 10,
   "metadata": {
    "collapsed": true
   },
   "outputs": [],
   "source": [
    "# create prediction variable\n",
    "v_prediction = lasagne.layers.get_output(vl_output, inputs = input_X, deterministic=True)\n",
    "# create loss function\n",
    "mu_z = lasagne.layers.get_output(vl_enc_mu, inputs= input_X)\n",
    "logsigma_z = lasagne.layers.get_output(vl_enc_logsigma, inputs= input_X)\n",
    "mu_x = lasagne.layers.get_output(vl_dec_mu, inputs= input_X)\n",
    "logsigma_x = lasagne.layers.get_output(vl_dec_logsigma,inputs= input_X)\n",
    "v_loss = -1*(KL_divergence(mu_z,logsigma_z) + log_likelihood(input_X, mu_x, logsigma_x))\n",
    "\n",
    "\n",
    "# create parameter update expressions\n",
    "v_params = lasagne.layers.get_all_params(vl_output, trainable = True)\n",
    "v_updates = lasagne.updates.adam(v_loss, v_params, learning_rate=0.001)\n",
    "\n",
    "# compile training and testing functions\n",
    "v_train_fn = theano.function([input_X], v_loss, updates = v_updates)\n",
    "v_test_fn = theano.function([input_X], v_prediction)\n",
    "v_test_loss_fn = theano.function([input_X], v_loss)\n",
    "v_logloss_fn = theano.function([input_X], log_likelihood(input_X, mu_x, logsigma_x))\n"
   ]
  },
  {
   "cell_type": "code",
   "execution_count": 18,
   "metadata": {
    "collapsed": true
   },
   "outputs": [],
   "source": [
    "epochs = 10\n",
    "v_losses_train = []\n",
    "v_logloss = []\n",
    "#v_losses_valid = []\n",
    "#val_batches = 500\n",
    "batch_size = 100"
   ]
  },
  {
   "cell_type": "code",
   "execution_count": 19,
   "metadata": {
    "scrolled": false
   },
   "outputs": [
    {
     "data": {
      "image/png": "[encoded data removed]",
      "text/plain": [
       "<matplotlib.figure.Figure at 0x7f7cb12ceda0>"
      ]
     },
     "metadata": {},
     "output_type": "display_data"
    }
   ],
   "source": [
    "for epoch in range(epochs):\n",
    "    ls_tr = 0.\n",
    "    logloss_tr = 0.\n",
    "    for batch in iterate_minibatches(X, batch_size):\n",
    "        ls_tr += v_train_fn(batch)\n",
    "        logloss_tr += v_logloss_fn(batch)\n",
    "        \n",
    "    v_losses_train.append(ls_tr/ batch_size)\n",
    "    v_logloss.append(logloss_tr / batch_size)\n",
    "    #for batch in iterate_minibatches(X_val, val_batches):\n",
    "    #    ls_val += v_test_loss_fn(batch)\n",
    "    #v_losses_valid.append(ls_val/ val_batches)\n",
    "    \n",
    "    if epoch%2==1:\n",
    "        display.clear_output(wait=True)\n",
    "        plt.plot(v_losses_train, label='train')\n",
    "    #    plt.plot(v_losses_valid, label='validation')\n",
    "        plt.legend()\n",
    "        plt.show()"
   ]
  },
  {
   "cell_type": "code",
   "execution_count": 20,
   "metadata": {
    "collapsed": true
   },
   "outputs": [],
   "source": [
    "X_es_3 = np.load(\"./data/npy/ES3_R1.npy\")"
   ]
  },
  {
   "cell_type": "code",
   "execution_count": 21,
   "metadata": {
    "collapsed": true
   },
   "outputs": [],
   "source": [
    "X_es_3_ans = np.load(\"./data/npy/ES3_R1_ans.npy.npz\")"
   ]
  },
  {
   "cell_type": "code",
   "execution_count": 22,
   "metadata": {
    "collapsed": true,
    "scrolled": true
   },
   "outputs": [],
   "source": [
    "X_K_3 = np.concatenate(X_es_3_ans.items()[0][1][:2])\n",
    "X_BL_3 = np.concatenate(X_es_3_ans.items()[0][1][2:])\n",
    "X_es_3_ans = np.concatenate(X_es_3_ans.items()[0][1])"
   ]
  },
  {
   "cell_type": "code",
   "execution_count": null,
   "metadata": {
    "collapsed": true
   },
   "outputs": [],
   "source": []
  },
  {
   "cell_type": "code",
   "execution_count": 23,
   "metadata": {
    "collapsed": true
   },
   "outputs": [],
   "source": [
    "internal = theano.function([input_X], mu_z)"
   ]
  },
  {
   "cell_type": "code",
   "execution_count": 33,
   "metadata": {
    "collapsed": true
   },
   "outputs": [],
   "source": [
    "Z = internal(X_es_3)\n",
    "Z_ans = internal(X_es_3_ans)\n",
    "Z_ans_k = internal(X_K_3)\n",
    "Z_ans_bl = internal(X_BL_3)"
   ]
  },
  {
   "cell_type": "code",
   "execution_count": 25,
   "metadata": {},
   "outputs": [
    {
     "data": {
      "text/plain": [
       "(35, 3)"
      ]
     },
     "execution_count": 25,
     "metadata": {},
     "output_type": "execute_result"
    }
   ],
   "source": [
    "Z_es_3_ans.shape"
   ]
  },
  {
   "cell_type": "code",
   "execution_count": 26,
   "metadata": {},
   "outputs": [
    {
     "data": {
      "text/plain": [
       "(18, 3)"
      ]
     },
     "execution_count": 26,
     "metadata": {},
     "output_type": "execute_result"
    }
   ],
   "source": [
    "Z_ans_k.shape"
   ]
  },
  {
   "cell_type": "code",
   "execution_count": 27,
   "metadata": {},
   "outputs": [
    {
     "data": {
      "text/plain": [
       "(17, 3)"
      ]
     },
     "execution_count": 27,
     "metadata": {},
     "output_type": "execute_result"
    }
   ],
   "source": [
    "Z_ans_bl.shape"
   ]
  },
  {
   "cell_type": "code",
   "execution_count": 613,
   "metadata": {
    "collapsed": true
   },
   "outputs": [],
   "source": [
    "from sklearn.manifold import TSNE"
   ]
  },
  {
   "cell_type": "code",
   "execution_count": 614,
   "metadata": {
    "collapsed": true
   },
   "outputs": [],
   "source": [
    "tsne = TSNE(2, verbose=1)"
   ]
  },
  {
   "cell_type": "code",
   "execution_count": 615,
   "metadata": {
    "collapsed": true
   },
   "outputs": [],
   "source": [
    "def tsne_with_asn(tsne, data, ans):\n",
    "    print(np.concatenate((data, ans)).shape)\n",
    "    tsne_data = tsne.fit_transform(np.concatenate((data, ans)))\n",
    "    return tsne_data[:data.shape[0]], tsne_data[-ans.shape[0]:]"
   ]
  },
  {
   "cell_type": "code",
   "execution_count": 619,
   "metadata": {
    "scrolled": false
   },
   "outputs": [
    {
     "name": "stdout",
     "output_type": "stream",
     "text": [
      "(19861, 30)\n",
      "[t-SNE] Computing 91 nearest neighbors...\n",
      "[t-SNE] Indexed 19861 samples in 0.081s...\n",
      "[t-SNE] Computed neighbors for 19861 samples in 2.534s...\n",
      "[t-SNE] Computed conditional probabilities for sample 1000 / 19861\n",
      "[t-SNE] Computed conditional probabilities for sample 2000 / 19861\n",
      "[t-SNE] Computed conditional probabilities for sample 3000 / 19861\n",
      "[t-SNE] Computed conditional probabilities for sample 4000 / 19861\n",
      "[t-SNE] Computed conditional probabilities for sample 5000 / 19861\n",
      "[t-SNE] Computed conditional probabilities for sample 6000 / 19861\n",
      "[t-SNE] Computed conditional probabilities for sample 7000 / 19861\n",
      "[t-SNE] Computed conditional probabilities for sample 8000 / 19861\n",
      "[t-SNE] Computed conditional probabilities for sample 9000 / 19861\n",
      "[t-SNE] Computed conditional probabilities for sample 10000 / 19861\n",
      "[t-SNE] Computed conditional probabilities for sample 11000 / 19861\n",
      "[t-SNE] Computed conditional probabilities for sample 12000 / 19861\n",
      "[t-SNE] Computed conditional probabilities for sample 13000 / 19861\n",
      "[t-SNE] Computed conditional probabilities for sample 14000 / 19861\n",
      "[t-SNE] Computed conditional probabilities for sample 15000 / 19861\n",
      "[t-SNE] Computed conditional probabilities for sample 16000 / 19861\n",
      "[t-SNE] Computed conditional probabilities for sample 17000 / 19861\n",
      "[t-SNE] Computed conditional probabilities for sample 18000 / 19861\n",
      "[t-SNE] Computed conditional probabilities for sample 19000 / 19861\n",
      "[t-SNE] Computed conditional probabilities for sample 19861 / 19861\n",
      "[t-SNE] Mean sigma: 0.000000\n",
      "[t-SNE] KL divergence after 250 iterations with early exaggeration: 59.194115\n",
      "[t-SNE] Error after 1000 iterations: 1.160419\n"
     ]
    }
   ],
   "source": [
    "t, t_ans = tsne_with_asn(tsne, Z[::10], Z_es_3_ans)"
   ]
  },
  {
   "cell_type": "code",
   "execution_count": 620,
   "metadata": {},
   "outputs": [
    {
     "data": {
      "text/plain": [
       "(35, 2)"
      ]
     },
     "execution_count": 620,
     "metadata": {},
     "output_type": "execute_result"
    }
   ],
   "source": [
    "t_ans.shape"
   ]
  },
  {
   "cell_type": "code",
   "execution_count": 28,
   "metadata": {
    "collapsed": true
   },
   "outputs": [],
   "source": [
    "from mpl_toolkits.mplot3d import Axes3D\n",
    "#fig = plt.figure()\n",
    "#ax = fig.add_subplot(111, projection='3d')"
   ]
  },
  {
   "cell_type": "code",
   "execution_count": 36,
   "metadata": {
    "collapsed": true
   },
   "outputs": [],
   "source": [
    "%matplotlib notebook"
   ]
  },
  {
   "cell_type": "code",
   "execution_count": 38,
   "metadata": {},
   "outputs": [
    {
     "data": {
      "application/javascript": [
       "/* Put everything inside the global mpl namespace */\n",
       "window.mpl = {};\n",
       "\n",
       "\n",
       "mpl.get_websocket_type = function() {\n",
       "    if (typeof(WebSocket) !== 'undefined') {\n",
       "        return WebSocket;\n",
       "    } else if (typeof(MozWebSocket) !== 'undefined') {\n",
       "        return MozWebSocket;\n",
       "    } else {\n",
       "        alert('Your browser does not have WebSocket support.' +\n",
       "              'Please try Chrome, Safari or Firefox ≥ 6. ' +\n",
       "              'Firefox 4 and 5 are also supported but you ' +\n",
       "              'have to enable WebSockets in about:config.');\n",
       "    };\n",
       "}\n",
       "\n",
       "mpl.figure = function(figure_id, websocket, ondownload, parent_element) {\n",
       "    this.id = figure_id;\n",
       "\n",
       "    this.ws = websocket;\n",
       "\n",
       "    this.supports_binary = (this.ws.binaryType != undefined);\n",
       "\n",
       "    if (!this.supports_binary) {\n",
       "        var warnings = document.getElementById(\"mpl-warnings\");\n",
       "        if (warnings) {\n",
       "            warnings.style.display = 'block';\n",
       "            warnings.textContent = (\n",
       "                \"This browser does not support binary websocket messages. \" +\n",
       "                    \"Performance may be slow.\");\n",
       "        }\n",
       "    }\n",
       "\n",
       "    this.imageObj = new Image();\n",
       "\n",
       "    this.context = undefined;\n",
       "    this.message = undefined;\n",
       "    this.canvas = undefined;\n",
       "    this.rubberband_canvas = undefined;\n",
       "    this.rubberband_context = undefined;\n",
       "    this.format_dropdown = undefined;\n",
       "\n",
       "    this.image_mode = 'full';\n",
       "\n",
       "    this.root = $('<div/>');\n",
       "    this._root_extra_style(this.root)\n",
       "    this.root.attr('style', 'display: inline-block');\n",
       "\n",
       "    $(parent_element).append(this.root);\n",
       "\n",
       "    this._init_header(this);\n",
       "    this._init_canvas(this);\n",
       "    this._init_toolbar(this);\n",
       "\n",
       "    var fig = this;\n",
       "\n",
       "    this.waiting = false;\n",
       "\n",
       "    this.ws.onopen =  function () {\n",
       "            fig.send_message(\"supports_binary\", {value: fig.supports_binary});\n",
       "            fig.send_message(\"send_image_mode\", {});\n",
       "            if (mpl.ratio != 1) {\n",
       "                fig.send_message(\"set_dpi_ratio\", {'dpi_ratio': mpl.ratio});\n",
       "            }\n",
       "            fig.send_message(\"refresh\", {});\n",
       "        }\n",
       "\n",
       "    this.imageObj.onload = function() {\n",
       "            if (fig.image_mode == 'full') {\n",
       "                // Full images could contain transparency (where diff images\n",
       "                // almost always do), so we need to clear the canvas so that\n",
       "                // there is no ghosting.\n",
       "                fig.context.clearRect(0, 0, fig.canvas.width, fig.canvas.height);\n",
       "            }\n",
       "            fig.context.drawImage(fig.imageObj, 0, 0);\n",
       "        };\n",
       "\n",
       "    this.imageObj.onunload = function() {\n",
       "        fig.ws.close();\n",
       "    }\n",
       "\n",
       "    this.ws.onmessage = this._make_on_message_function(this);\n",
       "\n",
       "    this.ondownload = ondownload;\n",
       "}\n",
       "\n",
       "mpl.figure.prototype._init_header = function() {\n",
       "    var titlebar = $(\n",
       "        '<div class=\"ui-dialog-titlebar ui-widget-header ui-corner-all ' +\n",
       "        'ui-helper-clearfix\"/>');\n",
       "    var titletext = $(\n",
       "        '<div class=\"ui-dialog-title\" style=\"width: 100%; ' +\n",
       "        'text-align: center; padding: 3px;\"/>');\n",
       "    titlebar.append(titletext)\n",
       "    this.root.append(titlebar);\n",
       "    this.header = titletext[0];\n",
       "}\n",
       "\n",
       "\n",
       "\n",
       "mpl.figure.prototype._canvas_extra_style = function(canvas_div) {\n",
       "\n",
       "}\n",
       "\n",
       "\n",
       "mpl.figure.prototype._root_extra_style = function(canvas_div) {\n",
       "\n",
       "}\n",
       "\n",
       "mpl.figure.prototype._init_canvas = function() {\n",
       "    var fig = this;\n",
       "\n",
       "    var canvas_div = $('<div/>');\n",
       "\n",
       "    canvas_div.attr('style', 'position: relative; clear: both; outline: 0');\n",
       "\n",
       "    function canvas_keyboard_event(event) {\n",
       "        return fig.key_event(event, event['data']);\n",
       "    }\n",
       "\n",
       "    canvas_div.keydown('key_press', canvas_keyboard_event);\n",
       "    canvas_div.keyup('key_release', canvas_keyboard_event);\n",
       "    this.canvas_div = canvas_div\n",
       "    this._canvas_extra_style(canvas_div)\n",
       "    this.root.append(canvas_div);\n",
       "\n",
       "    var canvas = $('<canvas/>');\n",
       "    canvas.addClass('mpl-canvas');\n",
       "    canvas.attr('style', \"left: 0; top: 0; z-index: 0; outline: 0\")\n",
       "\n",
       "    this.canvas = canvas[0];\n",
       "    this.context = canvas[0].getContext(\"2d\");\n",
       "\n",
       "    var backingStore = this.context.backingStorePixelRatio ||\n",
       "\tthis.context.webkitBackingStorePixelRatio ||\n",
       "\tthis.context.mozBackingStorePixelRatio ||\n",
       "\tthis.context.msBackingStorePixelRatio ||\n",
       "\tthis.context.oBackingStorePixelRatio ||\n",
       "\tthis.context.backingStorePixelRatio || 1;\n",
       "\n",
       "    mpl.ratio = (window.devicePixelRatio || 1) / backingStore;\n",
       "\n",
       "    var rubberband = $('<canvas/>');\n",
       "    rubberband.attr('style', \"position: absolute; left: 0; top: 0; z-index: 1;\")\n",
       "\n",
       "    var pass_mouse_events = true;\n",
       "\n",
       "    canvas_div.resizable({\n",
       "        start: function(event, ui) {\n",
       "            pass_mouse_events = false;\n",
       "        },\n",
       "        resize: function(event, ui) {\n",
       "            fig.request_resize(ui.size.width, ui.size.height);\n",
       "        },\n",
       "        stop: function(event, ui) {\n",
       "            pass_mouse_events = true;\n",
       "            fig.request_resize(ui.size.width, ui.size.height);\n",
       "        },\n",
       "    });\n",
       "\n",
       "    function mouse_event_fn(event) {\n",
       "        if (pass_mouse_events)\n",
       "            return fig.mouse_event(event, event['data']);\n",
       "    }\n",
       "\n",
       "    rubberband.mousedown('button_press', mouse_event_fn);\n",
       "    rubberband.mouseup('button_release', mouse_event_fn);\n",
       "    // Throttle sequential mouse events to 1 every 20ms.\n",
       "    rubberband.mousemove('motion_notify', mouse_event_fn);\n",
       "\n",
       "    rubberband.mouseenter('figure_enter', mouse_event_fn);\n",
       "    rubberband.mouseleave('figure_leave', mouse_event_fn);\n",
       "\n",
       "    canvas_div.on(\"wheel\", function (event) {\n",
       "        event = event.originalEvent;\n",
       "        event['data'] = 'scroll'\n",
       "        if (event.deltaY < 0) {\n",
       "            event.step = 1;\n",
       "        } else {\n",
       "            event.step = -1;\n",
       "        }\n",
       "        mouse_event_fn(event);\n",
       "    });\n",
       "\n",
       "    canvas_div.append(canvas);\n",
       "    canvas_div.append(rubberband);\n",
       "\n",
       "    this.rubberband = rubberband;\n",
       "    this.rubberband_canvas = rubberband[0];\n",
       "    this.rubberband_context = rubberband[0].getContext(\"2d\");\n",
       "    this.rubberband_context.strokeStyle = \"#000000\";\n",
       "\n",
       "    this._resize_canvas = function(width, height) {\n",
       "        // Keep the size of the canvas, canvas container, and rubber band\n",
       "        // canvas in synch.\n",
       "        canvas_div.css('width', width)\n",
       "        canvas_div.css('height', height)\n",
       "\n",
       "        canvas.attr('width', width * mpl.ratio);\n",
       "        canvas.attr('height', height * mpl.ratio);\n",
       "        canvas.attr('style', 'width: ' + width + 'px; height: ' + height + 'px;');\n",
       "\n",
       "        rubberband.attr('width', width);\n",
       "        rubberband.attr('height', height);\n",
       "    }\n",
       "\n",
       "    // Set the figure to an initial 600x600px, this will subsequently be updated\n",
       "    // upon first draw.\n",
       "    this._resize_canvas(600, 600);\n",
       "\n",
       "    // Disable right mouse context menu.\n",
       "    $(this.rubberband_canvas).bind(\"contextmenu\",function(e){\n",
       "        return false;\n",
       "    });\n",
       "\n",
       "    function set_focus () {\n",
       "        canvas.focus();\n",
       "        canvas_div.focus();\n",
       "    }\n",
       "\n",
       "    window.setTimeout(set_focus, 100);\n",
       "}\n",
       "\n",
       "mpl.figure.prototype._init_toolbar = function() {\n",
       "    var fig = this;\n",
       "\n",
       "    var nav_element = $('<div/>')\n",
       "    nav_element.attr('style', 'width: 100%');\n",
       "    this.root.append(nav_element);\n",
       "\n",
       "    // Define a callback function for later on.\n",
       "    function toolbar_event(event) {\n",
       "        return fig.toolbar_button_onclick(event['data']);\n",
       "    }\n",
       "    function toolbar_mouse_event(event) {\n",
       "        return fig.toolbar_button_onmouseover(event['data']);\n",
       "    }\n",
       "\n",
       "    for(var toolbar_ind in mpl.toolbar_items) {\n",
       "        var name = mpl.toolbar_items[toolbar_ind][0];\n",
       "        var tooltip = mpl.toolbar_items[toolbar_ind][1];\n",
       "        var image = mpl.toolbar_items[toolbar_ind][2];\n",
       "        var method_name = mpl.toolbar_items[toolbar_ind][3];\n",
       "\n",
       "        if (!name) {\n",
       "            // put a spacer in here.\n",
       "            continue;\n",
       "        }\n",
       "        var button = $('<button/>');\n",
       "        button.addClass('ui-button ui-widget ui-state-default ui-corner-all ' +\n",
       "                        'ui-button-icon-only');\n",
       "        button.attr('role', 'button');\n",
       "        button.attr('aria-disabled', 'false');\n",
       "        button.click(method_name, toolbar_event);\n",
       "        button.mouseover(tooltip, toolbar_mouse_event);\n",
       "\n",
       "        var icon_img = $('<span/>');\n",
       "        icon_img.addClass('ui-button-icon-primary ui-icon');\n",
       "        icon_img.addClass(image);\n",
       "        icon_img.addClass('ui-corner-all');\n",
       "\n",
       "        var tooltip_span = $('<span/>');\n",
       "        tooltip_span.addClass('ui-button-text');\n",
       "        tooltip_span.html(tooltip);\n",
       "\n",
       "        button.append(icon_img);\n",
       "        button.append(tooltip_span);\n",
       "\n",
       "        nav_element.append(button);\n",
       "    }\n",
       "\n",
       "    var fmt_picker_span = $('<span/>');\n",
       "\n",
       "    var fmt_picker = $('<select/>');\n",
       "    fmt_picker.addClass('mpl-toolbar-option ui-widget ui-widget-content');\n",
       "    fmt_picker_span.append(fmt_picker);\n",
       "    nav_element.append(fmt_picker_span);\n",
       "    this.format_dropdown = fmt_picker[0];\n",
       "\n",
       "    for (var ind in mpl.extensions) {\n",
       "        var fmt = mpl.extensions[ind];\n",
       "        var option = $(\n",
       "            '<option/>', {selected: fmt === mpl.default_extension}).html(fmt);\n",
       "        fmt_picker.append(option)\n",
       "    }\n",
       "\n",
       "    // Add hover states to the ui-buttons\n",
       "    $( \".ui-button\" ).hover(\n",
       "        function() { $(this).addClass(\"ui-state-hover\");},\n",
       "        function() { $(this).removeClass(\"ui-state-hover\");}\n",
       "    );\n",
       "\n",
       "    var status_bar = $('<span class=\"mpl-message\"/>');\n",
       "    nav_element.append(status_bar);\n",
       "    this.message = status_bar[0];\n",
       "}\n",
       "\n",
       "mpl.figure.prototype.request_resize = function(x_pixels, y_pixels) {\n",
       "    // Request matplotlib to resize the figure. Matplotlib will then trigger a resize in the client,\n",
       "    // which will in turn request a refresh of the image.\n",
       "    this.send_message('resize', {'width': x_pixels, 'height': y_pixels});\n",
       "}\n",
       "\n",
       "mpl.figure.prototype.send_message = function(type, properties) {\n",
       "    properties['type'] = type;\n",
       "    properties['figure_id'] = this.id;\n",
       "    this.ws.send(JSON.stringify(properties));\n",
       "}\n",
       "\n",
       "mpl.figure.prototype.send_draw_message = function() {\n",
       "    if (!this.waiting) {\n",
       "        this.waiting = true;\n",
       "        this.ws.send(JSON.stringify({type: \"draw\", figure_id: this.id}));\n",
       "    }\n",
       "}\n",
       "\n",
       "\n",
       "mpl.figure.prototype.handle_save = function(fig, msg) {\n",
       "    var format_dropdown = fig.format_dropdown;\n",
       "    var format = format_dropdown.options[format_dropdown.selectedIndex].value;\n",
       "    fig.ondownload(fig, format);\n",
       "}\n",
       "\n",
       "\n",
       "mpl.figure.prototype.handle_resize = function(fig, msg) {\n",
       "    var size = msg['size'];\n",
       "    if (size[0] != fig.canvas.width || size[1] != fig.canvas.height) {\n",
       "        fig._resize_canvas(size[0], size[1]);\n",
       "        fig.send_message(\"refresh\", {});\n",
       "    };\n",
       "}\n",
       "\n",
       "mpl.figure.prototype.handle_rubberband = function(fig, msg) {\n",
       "    var x0 = msg['x0'] / mpl.ratio;\n",
       "    var y0 = (fig.canvas.height - msg['y0']) / mpl.ratio;\n",
       "    var x1 = msg['x1'] / mpl.ratio;\n",
       "    var y1 = (fig.canvas.height - msg['y1']) / mpl.ratio;\n",
       "    x0 = Math.floor(x0) + 0.5;\n",
       "    y0 = Math.floor(y0) + 0.5;\n",
       "    x1 = Math.floor(x1) + 0.5;\n",
       "    y1 = Math.floor(y1) + 0.5;\n",
       "    var min_x = Math.min(x0, x1);\n",
       "    var min_y = Math.min(y0, y1);\n",
       "    var width = Math.abs(x1 - x0);\n",
       "    var height = Math.abs(y1 - y0);\n",
       "\n",
       "    fig.rubberband_context.clearRect(\n",
       "        0, 0, fig.canvas.width, fig.canvas.height);\n",
       "\n",
       "    fig.rubberband_context.strokeRect(min_x, min_y, width, height);\n",
       "}\n",
       "\n",
       "mpl.figure.prototype.handle_figure_label = function(fig, msg) {\n",
       "    // Updates the figure title.\n",
       "    fig.header.textContent = msg['label'];\n",
       "}\n",
       "\n",
       "mpl.figure.prototype.handle_cursor = function(fig, msg) {\n",
       "    var cursor = msg['cursor'];\n",
       "    switch(cursor)\n",
       "    {\n",
       "    case 0:\n",
       "        cursor = 'pointer';\n",
       "        break;\n",
       "    case 1:\n",
       "        cursor = 'default';\n",
       "        break;\n",
       "    case 2:\n",
       "        cursor = 'crosshair';\n",
       "        break;\n",
       "    case 3:\n",
       "        cursor = 'move';\n",
       "        break;\n",
       "    }\n",
       "    fig.rubberband_canvas.style.cursor = cursor;\n",
       "}\n",
       "\n",
       "mpl.figure.prototype.handle_message = function(fig, msg) {\n",
       "    fig.message.textContent = msg['message'];\n",
       "}\n",
       "\n",
       "mpl.figure.prototype.handle_draw = function(fig, msg) {\n",
       "    // Request the server to send over a new figure.\n",
       "    fig.send_draw_message();\n",
       "}\n",
       "\n",
       "mpl.figure.prototype.handle_image_mode = function(fig, msg) {\n",
       "    fig.image_mode = msg['mode'];\n",
       "}\n",
       "\n",
       "mpl.figure.prototype.updated_canvas_event = function() {\n",
       "    // Called whenever the canvas gets updated.\n",
       "    this.send_message(\"ack\", {});\n",
       "}\n",
       "\n",
       "// A function to construct a web socket function for onmessage handling.\n",
       "// Called in the figure constructor.\n",
       "mpl.figure.prototype._make_on_message_function = function(fig) {\n",
       "    return function socket_on_message(evt) {\n",
       "        if (evt.data instanceof Blob) {\n",
       "            /* FIXME: We get \"Resource interpreted as Image but\n",
       "             * transferred with MIME type text/plain:\" errors on\n",
       "             * Chrome.  But how to set the MIME type?  It doesn't seem\n",
       "             * to be part of the websocket stream */\n",
       "            evt.data.type = \"image/png\";\n",
       "\n",
       "            /* Free the memory for the previous frames */\n",
       "            if (fig.imageObj.src) {\n",
       "                (window.URL || window.webkitURL).revokeObjectURL(\n",
       "                    fig.imageObj.src);\n",
       "            }\n",
       "\n",
       "            fig.imageObj.src = (window.URL || window.webkitURL).createObjectURL(\n",
       "                evt.data);\n",
       "            fig.updated_canvas_event();\n",
       "            fig.waiting = false;\n",
       "            return;\n",
       "        }\n",
       "        else if (typeof evt.data === 'string' && evt.data.slice(0, 21) == \"data:image/png;base64\") {\n",
       "            fig.imageObj.src = evt.data;\n",
       "            fig.updated_canvas_event();\n",
       "            fig.waiting = false;\n",
       "            return;\n",
       "        }\n",
       "\n",
       "        var msg = JSON.parse(evt.data);\n",
       "        var msg_type = msg['type'];\n",
       "\n",
       "        // Call the  \"handle_{type}\" callback, which takes\n",
       "        // the figure and JSON message as its only arguments.\n",
       "        try {\n",
       "            var callback = fig[\"handle_\" + msg_type];\n",
       "        } catch (e) {\n",
       "            console.log(\"No handler for the '\" + msg_type + \"' message type: \", msg);\n",
       "            return;\n",
       "        }\n",
       "\n",
       "        if (callback) {\n",
       "            try {\n",
       "                // console.log(\"Handling '\" + msg_type + \"' message: \", msg);\n",
       "                callback(fig, msg);\n",
       "            } catch (e) {\n",
       "                console.log(\"Exception inside the 'handler_\" + msg_type + \"' callback:\", e, e.stack, msg);\n",
       "            }\n",
       "        }\n",
       "    };\n",
       "}\n",
       "\n",
       "// from http://stackoverflow.com/questions/1114465/getting-mouse-location-in-canvas\n",
       "mpl.findpos = function(e) {\n",
       "    //this section is from http://www.quirksmode.org/js/events_properties.html\n",
       "    var targ;\n",
       "    if (!e)\n",
       "        e = window.event;\n",
       "    if (e.target)\n",
       "        targ = e.target;\n",
       "    else if (e.srcElement)\n",
       "        targ = e.srcElement;\n",
       "    if (targ.nodeType == 3) // defeat Safari bug\n",
       "        targ = targ.parentNode;\n",
       "\n",
       "    // jQuery normalizes the pageX and pageY\n",
       "    // pageX,Y are the mouse positions relative to the document\n",
       "    // offset() returns the position of the element relative to the document\n",
       "    var x = e.pageX - $(targ).offset().left;\n",
       "    var y = e.pageY - $(targ).offset().top;\n",
       "\n",
       "    return {\"x\": x, \"y\": y};\n",
       "};\n",
       "\n",
       "/*\n",
       " * return a copy of an object with only non-object keys\n",
       " * we need this to avoid circular references\n",
       " * http://stackoverflow.com/a/24161582/3208463\n",
       " */\n",
       "function simpleKeys (original) {\n",
       "  return Object.keys(original).reduce(function (obj, key) {\n",
       "    if (typeof original[key] !== 'object')\n",
       "        obj[key] = original[key]\n",
       "    return obj;\n",
       "  }, {});\n",
       "}\n",
       "\n",
       "mpl.figure.prototype.mouse_event = function(event, name) {\n",
       "    var canvas_pos = mpl.findpos(event)\n",
       "\n",
       "    if (name === 'button_press')\n",
       "    {\n",
       "        this.canvas.focus();\n",
       "        this.canvas_div.focus();\n",
       "    }\n",
       "\n",
       "    var x = canvas_pos.x * mpl.ratio;\n",
       "    var y = canvas_pos.y * mpl.ratio;\n",
       "\n",
       "    this.send_message(name, {x: x, y: y, button: event.button,\n",
       "                             step: event.step,\n",
       "                             guiEvent: simpleKeys(event)});\n",
       "\n",
       "    /* This prevents the web browser from automatically changing to\n",
       "     * the text insertion cursor when the button is pressed.  We want\n",
       "     * to control all of the cursor setting manually through the\n",
       "     * 'cursor' event from matplotlib */\n",
       "    event.preventDefault();\n",
       "    return false;\n",
       "}\n",
       "\n",
       "mpl.figure.prototype._key_event_extra = function(event, name) {\n",
       "    // Handle any extra behaviour associated with a key event\n",
       "}\n",
       "\n",
       "mpl.figure.prototype.key_event = function(event, name) {\n",
       "\n",
       "    // Prevent repeat events\n",
       "    if (name == 'key_press')\n",
       "    {\n",
       "        if (event.which === this._key)\n",
       "            return;\n",
       "        else\n",
       "            this._key = event.which;\n",
       "    }\n",
       "    if (name == 'key_release')\n",
       "        this._key = null;\n",
       "\n",
       "    var value = '';\n",
       "    if (event.ctrlKey && event.which != 17)\n",
       "        value += \"ctrl+\";\n",
       "    if (event.altKey && event.which != 18)\n",
       "        value += \"alt+\";\n",
       "    if (event.shiftKey && event.which != 16)\n",
       "        value += \"shift+\";\n",
       "\n",
       "    value += 'k';\n",
       "    value += event.which.toString();\n",
       "\n",
       "    this._key_event_extra(event, name);\n",
       "\n",
       "    this.send_message(name, {key: value,\n",
       "                             guiEvent: simpleKeys(event)});\n",
       "    return false;\n",
       "}\n",
       "\n",
       "mpl.figure.prototype.toolbar_button_onclick = function(name) {\n",
       "    if (name == 'download') {\n",
       "        this.handle_save(this, null);\n",
       "    } else {\n",
       "        this.send_message(\"toolbar_button\", {name: name});\n",
       "    }\n",
       "};\n",
       "\n",
       "mpl.figure.prototype.toolbar_button_onmouseover = function(tooltip) {\n",
       "    this.message.textContent = tooltip;\n",
       "};\n",
       "mpl.toolbar_items = [[\"Home\", \"Reset original view\", \"fa fa-home icon-home\", \"home\"], [\"Back\", \"Back to  previous view\", \"fa fa-arrow-left icon-arrow-left\", \"back\"], [\"Forward\", \"Forward to next view\", \"fa fa-arrow-right icon-arrow-right\", \"forward\"], [\"\", \"\", \"\", \"\"], [\"Pan\", \"Pan axes with left mouse, zoom with right\", \"fa fa-arrows icon-move\", \"pan\"], [\"Zoom\", \"Zoom to rectangle\", \"fa fa-square-o icon-check-empty\", \"zoom\"], [\"\", \"\", \"\", \"\"], [\"Download\", \"Download plot\", \"fa fa-floppy-o icon-save\", \"download\"]];\n",
       "\n",
       "mpl.extensions = [\"eps\", \"jpeg\", \"pdf\", \"png\", \"ps\", \"raw\", \"svg\", \"tif\"];\n",
       "\n",
       "mpl.default_extension = \"png\";var comm_websocket_adapter = function(comm) {\n",
       "    // Create a \"websocket\"-like object which calls the given IPython comm\n",
       "    // object with the appropriate methods. Currently this is a non binary\n",
       "    // socket, so there is still some room for performance tuning.\n",
       "    var ws = {};\n",
       "\n",
       "    ws.close = function() {\n",
       "        comm.close()\n",
       "    };\n",
       "    ws.send = function(m) {\n",
       "        //console.log('sending', m);\n",
       "        comm.send(m);\n",
       "    };\n",
       "    // Register the callback with on_msg.\n",
       "    comm.on_msg(function(msg) {\n",
       "        //console.log('receiving', msg['content']['data'], msg);\n",
       "        // Pass the mpl event to the overriden (by mpl) onmessage function.\n",
       "        ws.onmessage(msg['content']['data'])\n",
       "    });\n",
       "    return ws;\n",
       "}\n",
       "\n",
       "mpl.mpl_figure_comm = function(comm, msg) {\n",
       "    // This is the function which gets called when the mpl process\n",
       "    // starts-up an IPython Comm through the \"matplotlib\" channel.\n",
       "\n",
       "    var id = msg.content.data.id;\n",
       "    // Get hold of the div created by the display call when the Comm\n",
       "    // socket was opened in Python.\n",
       "    var element = $(\"#\" + id);\n",
       "    var ws_proxy = comm_websocket_adapter(comm)\n",
       "\n",
       "    function ondownload(figure, format) {\n",
       "        window.open(figure.imageObj.src);\n",
       "    }\n",
       "\n",
       "    var fig = new mpl.figure(id, ws_proxy,\n",
       "                           ondownload,\n",
       "                           element.get(0));\n",
       "\n",
       "    // Call onopen now - mpl needs it, as it is assuming we've passed it a real\n",
       "    // web socket which is closed, not our websocket->open comm proxy.\n",
       "    ws_proxy.onopen();\n",
       "\n",
       "    fig.parent_element = element.get(0);\n",
       "    fig.cell_info = mpl.find_output_cell(\"<div id='\" + id + \"'></div>\");\n",
       "    if (!fig.cell_info) {\n",
       "        console.error(\"Failed to find cell for figure\", id, fig);\n",
       "        return;\n",
       "    }\n",
       "\n",
       "    var output_index = fig.cell_info[2]\n",
       "    var cell = fig.cell_info[0];\n",
       "\n",
       "};\n",
       "\n",
       "mpl.figure.prototype.handle_close = function(fig, msg) {\n",
       "    var width = fig.canvas.width/mpl.ratio\n",
       "    fig.root.unbind('remove')\n",
       "\n",
       "    // Update the output cell to use the data from the current canvas.\n",
       "    fig.push_to_output();\n",
       "    var dataURL = fig.canvas.toDataURL();\n",
       "    // Re-enable the keyboard manager in IPython - without this line, in FF,\n",
       "    // the notebook keyboard shortcuts fail.\n",
       "    IPython.keyboard_manager.enable()\n",
       "    $(fig.parent_element).html('<img src=\"' + dataURL + '\" width=\"' + width + '\">');\n",
       "    fig.close_ws(fig, msg);\n",
       "}\n",
       "\n",
       "mpl.figure.prototype.close_ws = function(fig, msg){\n",
       "    fig.send_message('closing', msg);\n",
       "    // fig.ws.close()\n",
       "}\n",
       "\n",
       "mpl.figure.prototype.push_to_output = function(remove_interactive) {\n",
       "    // Turn the data on the canvas into data in the output cell.\n",
       "    var width = this.canvas.width/mpl.ratio\n",
       "    var dataURL = this.canvas.toDataURL();\n",
       "    this.cell_info[1]['text/html'] = '<img src=\"' + dataURL + '\" width=\"' + width + '\">';\n",
       "}\n",
       "\n",
       "mpl.figure.prototype.updated_canvas_event = function() {\n",
       "    // Tell IPython that the notebook contents must change.\n",
       "    IPython.notebook.set_dirty(true);\n",
       "    this.send_message(\"ack\", {});\n",
       "    var fig = this;\n",
       "    // Wait a second, then push the new image to the DOM so\n",
       "    // that it is saved nicely (might be nice to debounce this).\n",
       "    setTimeout(function () { fig.push_to_output() }, 1000);\n",
       "}\n",
       "\n",
       "mpl.figure.prototype._init_toolbar = function() {\n",
       "    var fig = this;\n",
       "\n",
       "    var nav_element = $('<div/>')\n",
       "    nav_element.attr('style', 'width: 100%');\n",
       "    this.root.append(nav_element);\n",
       "\n",
       "    // Define a callback function for later on.\n",
       "    function toolbar_event(event) {\n",
       "        return fig.toolbar_button_onclick(event['data']);\n",
       "    }\n",
       "    function toolbar_mouse_event(event) {\n",
       "        return fig.toolbar_button_onmouseover(event['data']);\n",
       "    }\n",
       "\n",
       "    for(var toolbar_ind in mpl.toolbar_items){\n",
       "        var name = mpl.toolbar_items[toolbar_ind][0];\n",
       "        var tooltip = mpl.toolbar_items[toolbar_ind][1];\n",
       "        var image = mpl.toolbar_items[toolbar_ind][2];\n",
       "        var method_name = mpl.toolbar_items[toolbar_ind][3];\n",
       "\n",
       "        if (!name) { continue; };\n",
       "\n",
       "        var button = $('<button class=\"btn btn-default\" href=\"#\" title=\"' + name + '\"><i class=\"fa ' + image + ' fa-lg\"></i></button>');\n",
       "        button.click(method_name, toolbar_event);\n",
       "        button.mouseover(tooltip, toolbar_mouse_event);\n",
       "        nav_element.append(button);\n",
       "    }\n",
       "\n",
       "    // Add the status bar.\n",
       "    var status_bar = $('<span class=\"mpl-message\" style=\"text-align:right; float: right;\"/>');\n",
       "    nav_element.append(status_bar);\n",
       "    this.message = status_bar[0];\n",
       "\n",
       "    // Add the close button to the window.\n",
       "    var buttongrp = $('<div class=\"btn-group inline pull-right\"></div>');\n",
       "    var button = $('<button class=\"btn btn-mini btn-primary\" href=\"#\" title=\"Stop Interaction\"><i class=\"fa fa-power-off icon-remove icon-large\"></i></button>');\n",
       "    button.click(function (evt) { fig.handle_close(fig, {}); } );\n",
       "    button.mouseover('Stop Interaction', toolbar_mouse_event);\n",
       "    buttongrp.append(button);\n",
       "    var titlebar = this.root.find($('.ui-dialog-titlebar'));\n",
       "    titlebar.prepend(buttongrp);\n",
       "}\n",
       "\n",
       "mpl.figure.prototype._root_extra_style = function(el){\n",
       "    var fig = this\n",
       "    el.on(\"remove\", function(){\n",
       "\tfig.close_ws(fig, {});\n",
       "    });\n",
       "}\n",
       "\n",
       "mpl.figure.prototype._canvas_extra_style = function(el){\n",
       "    // this is important to make the div 'focusable\n",
       "    el.attr('tabindex', 0)\n",
       "    // reach out to IPython and tell the keyboard manager to turn it's self\n",
       "    // off when our div gets focus\n",
       "\n",
       "    // location in version 3\n",
       "    if (IPython.notebook.keyboard_manager) {\n",
       "        IPython.notebook.keyboard_manager.register_events(el);\n",
       "    }\n",
       "    else {\n",
       "        // location in version 2\n",
       "        IPython.keyboard_manager.register_events(el);\n",
       "    }\n",
       "\n",
       "}\n",
       "\n",
       "mpl.figure.prototype._key_event_extra = function(event, name) {\n",
       "    var manager = IPython.notebook.keyboard_manager;\n",
       "    if (!manager)\n",
       "        manager = IPython.keyboard_manager;\n",
       "\n",
       "    // Check for shift+enter\n",
       "    if (event.shiftKey && event.which == 13) {\n",
       "        this.canvas_div.blur();\n",
       "        event.shiftKey = false;\n",
       "        // Send a \"J\" for go to next cell\n",
       "        event.which = 74;\n",
       "        event.keyCode = 74;\n",
       "        manager.command_mode();\n",
       "        manager.handle_keydown(event);\n",
       "    }\n",
       "}\n",
       "\n",
       "mpl.figure.prototype.handle_save = function(fig, msg) {\n",
       "    fig.ondownload(fig, null);\n",
       "}\n",
       "\n",
       "\n",
       "mpl.find_output_cell = function(html_output) {\n",
       "    // Return the cell and output element which can be found *uniquely* in the notebook.\n",
       "    // Note - this is a bit hacky, but it is done because the \"notebook_saving.Notebook\"\n",
       "    // IPython event is triggered only after the cells have been serialised, which for\n",
       "    // our purposes (turning an active figure into a static one), is too late.\n",
       "    var cells = IPython.notebook.get_cells();\n",
       "    var ncells = cells.length;\n",
       "    for (var i=0; i<ncells; i++) {\n",
       "        var cell = cells[i];\n",
       "        if (cell.cell_type === 'code'){\n",
       "            for (var j=0; j<cell.output_area.outputs.length; j++) {\n",
       "                var data = cell.output_area.outputs[j];\n",
       "                if (data.data) {\n",
       "                    // IPython >= 3 moved mimebundle to data attribute of output\n",
       "                    data = data.data;\n",
       "                }\n",
       "                if (data['text/html'] == html_output) {\n",
       "                    return [cell, data, j];\n",
       "                }\n",
       "            }\n",
       "        }\n",
       "    }\n",
       "}\n",
       "\n",
       "// Register the function which deals with the matplotlib target/channel.\n",
       "// The kernel may be null if the page has been refreshed.\n",
       "if (IPython.notebook.kernel != null) {\n",
       "    IPython.notebook.kernel.comm_manager.register_target('matplotlib', mpl.mpl_figure_comm);\n",
       "}\n"
      ],
      "text/plain": [
       "<IPython.core.display.Javascript object>"
      ]
     },
     "metadata": {},
     "output_type": "display_data"
    },
    {
     "data": {
      "text/html": [
       "<img src=\"data:image/png;base64,iVBORw0KGgoAAAANSUhEUgAAA+gAAAPoCAYAAABNo9TkAAAgAElEQVR4nOzXAQ0DQRDEsOdP+gojo64NIlK+DwAAAAAAAAAAAAAAAAAAAAAAAAAAAAAAAAAAAAAAAAAAAAAAAAAAAAAAAAAAAAAAAAAAAAAAAAAAAAAAAAAAAAAAAAAAAAAAAAAAAAAAAAAAAAAAAAAAAAAAAAAAAAAAAAAAAAAAAAAAAAAAAAAAAAAAAAAAAAAAAAAAAAAAAAAAAAAAAAAAAAAAAAAAAAAAAAAAAAAAAAAAAAAAAAAAAAAAAAAAAAAAAAAAAAAAAAAAAAAAAAAAAAAAAAAAAAAAAAAAAAAAAAAAAAAAAAAAAAAAAAAAAAAAAAAAAAAAAAAAAAAAAAAAAAAAAAAAAAAAAAAAAAAAAAAAAAAAAAAAAAAAAAAAAAAAAAAAAAAAAAAAAAAAAAAAAAAAAAAAAAAAAAAAAAAAAAAAAAAAAAAAAAAAAAAAAAAAAAAAAAAAAAAAAAAAAAAAAAAAAAAAAAAAAAAAAAAAAAAAAAAAAAAAAAAAAAAAAAAAAAAAAAAAAAAAAAAAAAAAAAAAAAAAAAAAAAAAAAAAAAAAAAAAAAAAAAAAAAAAAAAAAAAAAAAAAAAAAAAAAAAAAAAAAAAAAAAAAAAAAAAAAAAAAAAAAAAAAAAAAAAAAAAAAAAAAAAAAAAAAP7cAwAAeO/VbwLn1REAAAA21G8C59URAAAANtRvAufVEQAAADbUbwLn1REAAAA21G8C59URAAAANtRvAufVEQAAADbUbwLn1REAAAA21G8C59URAAAANtRvAufVEQAAADbUbwLn1REAAAA21G8C59URAAAANtRvAufVEQAAADbUbwLn1REAAAA21G8C59URAAAANtRvAufVEQAAADbUbwLn1REAAAA21G8C59URAAAANtRvAufVEQAAADbUbwLn1REAAAA21G8C59URAAAANtRvAufVEQAAADbUbwLn1REAAAA21G8C59URAAAANtRvAufVEQAAADbUbwLn1REAAAA21G8C59URAAAANtRvAufVEQAAADbUbwLn1REAAAA21G8C59URAAAANtRvAufVEQAAADbUbwLn1REAAAA21G8C59URAAAANtRvAufVEQAAADbUbwLn1REAAAA21G8C59URAAAANtRvAufVEQAAADbUbwLn1REAAAA21G8C59URAAAANtRvAufVEQAAADbUbwLn1REAAAA21G8C59URAAAANtRvAufVEQAAADbUbwLn1REAAAA21G8C59URAAAANtRvAufVEQAAADbUbwLn1REAAAA21G8C59URAAAANtRvAufVEQAAADbUbwLn1REAAAA21G8C59URAAAANtRvAufVEQAAADbUbwLn1REAAAA21G8C59URAAAANtRvAufVEQAAADbUbwLn1REAAAA21G8C59URAAAANtRvAufVEQAAADbUbwLn1REAAAA21G8C59URAAAANtRvAufVEQAAADbUbwLn1REAAAA21G8C59URAAAANtRvAufVEQAAADbUbwLn1REAAAA21G8C59URAAAANtRvAufVEQAAADbUbwLn1REAAAA21G8C59URAAAANtRvAufVEQAAADbUbwLn1REAAAA21G8C59URAAAANtRvAufVEQAAADbUbwLn1REAAAA21G8C59URAAAANtRvAufVEQAAADbUbwLn1REAAAA21G8C59URAAAANtRvAufVEQAAADbUbwLn1REAAAA21G8C59URAAAANtRvAufVEQAAADbUbwLn1REAAAA21G8C59URAAAANtRvAufVEQAAADbUbwLn1REAAAA21G8C59URAAAANtRvAufVEQAAADbUbwLn1REAAAA21G8C59URAAAANtRvAufVEQAAADbUbwLn1REAAAA21G8C59URAAAANtRvAufVEQAAADbUbwLn1REAAAA21G8C59URAAAANtRvAufVEQAAADbUbwLn1REAAAA21G8C59URAAAANtRvAufVEQAAADbUbwLn1REAAAA21G8C59URAAAANtRvAufVEQAAADbUbwLn1REAAAA21G8C59URAAAANtRvAufVEQAAADbUbwLn1REAAAA21G8C59URAAAANtRvAufVEQAAADbUbwLn1REAAAA21G8C59URAAAANtRvAufVEQAAADbUbwLn1REAAAA21G8C59URAAAANtRvAufVEQAAADbUbwLn1REAAAA21G8C59URAAAANtRvAufVEQAAADbUbwLn1REAAAA21G8C59URAAAANtRvAufVEQAAADbUbwLn1REAAAA21G8C59URAAAANtRvAufVEQAAADbUbwLn1REAAAA21G8C59URAAAANtRvAufVEQAAADbUbwLn1REAAAA21G8C59URAAAANtRvAufVEQAAADbUbwLn1REAAAA21G8C59URAAAANtRvAufVEQAAADbUbwLn1REAAAA21G8C59URAAAANtRvAufVEQAAADbUbwLn1REAAAA21G8C59URAAAANtRvAufVEQAAADbUbwLn1REAAAA21G8C59URAAAANtRvAufVEQAAADbUbwLn1REAAAA21G8C59URAAAANtRvAufVEQAAADbUbwLn1REAAAA21G8C59URAAAANtRvAufVEQAAADbUbwLn1REAAAA21G8C59URAAAANtRvAufVEQAAADbUbwLn1REAAAA21G8C59URAAAANtRvAufVEQAAADbUbwLn1REAAAA21G8C59URAAAANtRvAufVEQAAADbUbwLn1REAAAA21G8C59URAAAANtRvAufVEQAAADbUbwLn1REAAAA21G8C59URAAAANtRvAufVEQAAADbUbwLn1REAAAA21G8C59URAAAANtRvAufVEQAAADbUbwLn1REAAAA21G8C59URAAAANtRvAufVEQAAADbUbwLn1REAAAA21G8C59URAAAANtRvAufVEQAAADbUbwLn1REAAAA21G8C59URAAAANtRvAufVEQAAADbUbwLn1REAAAA21G8C59URAAAANtRvAufVEQAAADbUbwLn1REAAAA21G8C59URAAAANtRvAufVEQAAADbUbwLn1REAAAA21G8C59URAAAANtRvAufVEQAAADbUbwLn1REAAAA21G8C59URAAAANtRvAufVEQAAADbUbwLn1REAAAA21G8C59URAAAANtRvAufVEQAAADbUbwLn1REAAAA21G8C59URAAAANtRvAufVEQAAADbUbwLn1REAAAA21G8C59URAAAANtRvAufVEQAAADbUbwLn1REAAAA21G8C59URAAAANtRvAufVEQAAADbUbwLn1REAAAA21G8C59URAAAANtRvAufVEQAAADbUbwLn1REAAAA21G8C59URAAAANtRvAufVEQAAADbUbwLn1REAAAA21G8C59URAAAANtRvAufVEQAAADbUbwLn1REAAAA21G8C59URAAAANtRvAufVEQAAADbUbwLn1REAAAA21G8C59URAAAANtRvAufVEQAAADbUbwLn1REAAAA21G8C59URAAAANtRvAufVEQAAADbUbwLn1REAAAA21G8C59URAAAANtRvAufVEQAAADbUbwLn1REAAAA21G8C59URAAAANtRvAufVEQAAADbUbwLn1REAAAA21G8C59URAAAANtRvAufVEQAAADbUbwLn1REAAAA21G8C59URAAAANtRvAufVEQAAADbUbwLn1REAAAA21G8C59URAAAANtRvAufVEQAAADbUbwLn1REAAAA21G8C59URAAAANtRvAufVEQAAADbUbwLn1REAAAA21G8C59URAAAANtRvAufVEQAAADbUbwLn1REAAAA21G8C59URAAAANtRvAufVEQAAADbUbwLn1REAAAA21G8C59URAAAANtRvAufVEQAAADbUbwLn1REAAAA21G8C59URAAAANtRvAufVEQAAADbUbwLn1REAAAA21G8C59URAAAANtRvAufVEQAAADbUbwLn1REAAAA21G8C59URAAAANtRvAufVEQAAADbUbwLn1REAAAA21G8C59URAAAANtRvAufVEQAAADbUbwLn1REAAAA21G8C59URAAAANtRvAufVEQAAADbUbwLn1REAAAA21G8C59URAAAANtRvAufVEQAAADbUbwLn1REAAAA21G8C59URAAAANtRvAufVEQAAADbUbwLn1REAAAA21G8C59URAAAANtRvAufVEQAAADbUbwLn1REAAAA21G8C59URAAAANtRvAufVEQAAADbUbwLn1REAAAA21G8C59URAAAANtRvAufVEQAAADbUbwLn1REAAAA21G8C59URAAAANtRvAufVEQAAADbUbwLn1REAAAA21G8C59URAAAANtRvAufVEQAAADbUbwLn1REAAAA21G8C59URAAAANtRvAufVEQAAADbUbwLn1REAAAA21G8C59URAAAANtRvAufVEQAAADbUbwLn1REAAAA21G8C59URAAAANtRvAufVEQAAADbUbwLn1REAAAA21G8C59URAAAANtRvAufVEQAAADbUbwLn1REAAAA21G8C59URAAAANtRvAufVEQAAADbUbwLn1REAAAA21G8C59URAAAANtRvAufVEQAAADbUbwLn1REAAAA21G8C59URAAAANtRvAufVEQAAADbUbwLn1REAAAA21G8C59URAAAANtRvAufVEQAAADbUbwLn1REAAAA21G8C59URAAAANtRvAufVEQAAADbUbwLn1REAAAA21G8C59URAAAANtRvAufVEQAAADbUbwLn1REAAAA21G8C59URAAAANtRvAufVEQAAADbUbwLn1REAAAA21G8C59URAAAANtRvAufVEQAAADbUbwLn1REAAAA21G8C59URAAAANtRvAufVEQAAADbUbwLn1REAAAA21G8C59URAAAANtRvAufVEQAAADbUbwLn1REAAAA21G8C59URAAAANtRvAufVEQAAADbUbwLn1REAAAA21G8C59URAAAANtRvAufVEQAAADbUbwLn1REAAAA21G8C59URAAAANtRvAufVEQAAADbUbwLn1REAAAA21G8C59URAAAANtRvAufVEQAAADbUbwLn1REAAAA21G8C59URAAAANtRvAufVEQAAADbUbwLn1REAAAA21G8C59URAAAANtRvAufVEQAAADbUbwLn1REAAAA21G8C59URAAAANtRvAufVEQAAADbUbwLn1REAAAA21G8C59URAAAANtRvAufVEQAAADbUbwLn1REAAAA21G8C59URAAAANtRvAufVEQAAADbUbwLn1REAAAA21G8C59URAAAANtRvAufVEQAAADbUbwLn1REAAAA21G8C59URAAAANtRvAufVEQAAADbUbwLn1REAAAA21G8C59URAAAANtRvAufVEQAAADbUbwLn1REAAAA21G8C59URAAAANtRvAufVEQAAADbUbwLn1REAAAA21G8C59URAAAANtRvAufVEQAAADbUbwLn1REAAAA21G8C59URAAAANtRvAufVEQAAADbUbwLn1REAAAA21G8C59URAAAANtRvAufVEQAAADbUbwLn1REAAAA21G8C59URAAAANtRvAufVEQAAADbUbwLn1REAAAA21G8C59URAAAANtRvAufVEQAAADbUbwLn1REAAAA21G8C59URAAAANtRvAufVEQAAADbUbwLn1REAAAA21G8C59URAAAANtRvAufVEQAAADbUbwLn1REAAAA21G8C59URAAAANtRvAufVEQAAADbUbwLn1REAAAA21G8C59URAAAANtRvAufVEQAAADbUbwLn1REAAAA21G8C59URAAAANtRvAufVEQAAADbUbwLn1REAAAA21G8C59URAAAANtRvAufVEQAAADbUbwLn1REAAAA21G8C59URAAAANtRvAufVEQAAADbUbwLn1REAAAA21G8C59URAAAANtRvAufVEQAAADbUbwLn1REAAAA21G8C59URAAAANtRvAufVEQAAADbUbwLn1REAAAA21G8C59URAAAANtRvAufVEQAAADbUbwLn1REAAAA21G8C59URAAAANtRvAufVEQAAADbUbwLn1REAAAA21G8C59URAAAANtRvAufVEQAAADbUbwLn1REAAAA21G8C59URAAAANtRvAufVEQAAADbUbwLn1REAAAA21G8C59URAAAANtRvAufVEQAAADbUbwLn1REAAAA21G8C59URAAAANtRvAufVEQAAADbUbwLn1REAAAA21G8C59URAAAANtRvAufVEQAAADbUbwLn1REAAAA21G8C59URAAAANtRvAufVEQAAADbUbwLn1REAAAA21G8C59URAAAANtRvAufVEQAAADbUbwLn1REAAAA21G8C59URAAAANtRvAufVEQAAADbUbwLn1REAAAA21G8C59URAAAANtRvAufVEQAAADbUbwLn1REAAAA21G8C59URAAAANtRvAufVEQAAADbUbwLn1REAAAA21G8C59URAAAANtRvAufVEQAAADbUbwLn1REAAAA21G8C59URAAAANtRvAufVEQAAADbUbwLn1REAAAA21G8C59URAAAANtRvAufVEQAAADbUbwLn1REAAAA21G8C59URAAAANtRvAufVEQAAADbUbwLn1REAAAA21G8C59URAAAANtRvAufVEQAAADbUbwLn1REAAAA21G8C59URAAAANtRvAufVEQAAADbUbwLn1REAAAA21G8C59URAAAANtRvAufVEQAAADbUbwLn1REAAAA21G8C59URAAAANtRvAufVEQAAADbUbwLn1REAAAA21G8C59URAAAANtRvAufVEQAAADbUbwLn1REAAAA21G8C59URAAAANtRvAufVEQAAADbUbwLn1REAAAA21G8C59URAAAANtRvAufVEQAAADbUbwLn1REAAAA21G8C59URAAAANtRvAufVEQAAADbUbwLn1REAAAA21G8C59URAAAANtRvAufVEQAAADbUbwLn1REAAAA21G8C59URAAAANtRvAufVEQAAADbUbwLn1REAAAA21G8C59URAAAANtRvAufVEQAAADbUbwLn1REAAAA21G8C59URAAAANtRvAufVEQAAADbUbwLn1REAAAA21G8C59URAAAANtRvAufVEQAAADbUbwLn1REAAAA21G8C59URAAAANtRvAufVEQAAADbUbwLn1REAAAA21G8C59URAAAANtRvAufVEQAAADbUbwLn1REAAAA21G8C59URAAAANtRvAufVEQAAADbUbwLn1REAAAA21G8C59URAAAANtRvAufVEQAAADbUbwLn1REAAAA21G8C59URAAAANtRvAufVEQAAADbUbwLn1REAAAA21G8C59URAAAANtRvAufVEQAAADbUbwLn1REAAAA21G8C59URAAAANtRvAufVEQAAADbUbwLn1REAAAA21G8C59URAAAANtRvAufVEQAAADbUbwLn1REAAAA21G8C59URAAAANtRvAufVEQAAADbUbwLn1REAAAA21G8C59URAAAANtRvAufVEQAAADbUbwLn1REAAAA21G8C59URAAAANtRvAufVEQAAADbUbwLn1REAAAA21G8C59URAAAANtRvAufVEQAAADbUbwLn1REAAAA21G8C59URAAAANtRvAufVEQAAADbUbwLn1REAAAA21G8C59URAAAANtRvAufVEQAAADbUbwLn1REAAAA21G8C59URAAAANtRvAufVEQAAADbUbwLn1REAAAA21G8C59URAAAANtRvAufVEQAAADbUbwLn1REAAAA21G8C59URAAAANtRvAufVEQAAADbUbwLn1REAAAA21G8C59URAAAANtRvAufVEQAAADbUbwLn1REAAAA21G8C59URAAAANtRvAufVEQAAADbUbwLn1REAAAA21G8C59URAAAANtRvAufVEQAAADbUbwLn1REAAAA21G8C59URAAAANtRvAufVEQAAADbUbwLn1REAAAA21G8C59URAAAANtRvAufVEQAAADbUbwLn1REAAAA21G8C59URAAAANtRvAufVEQAAADbUbwLn1REAAAA21G8C59URAAAANtRvAufVEQAAADbUbwLn1REAAAA21G8C59URAAAANtRvAufVEQAAADbUbwLn1REAAAA21G8C59URAAAANtRvAufVEQAAADbUbwLn1REAAAA21G8C59URAAAANtRvAufVEQAAADbUbwLn1REAAAA21G8C59URAAAANtRvAufVEQAAADbUbwLn1REAAAA21G8C59URAAAANtRvAufVEQAAADbUbwLn1REAAAA21G8C59URAAAANtRvAufVEQAAADbUbwLn1REAAAA21G8C59URAAAANtRvAufVEQAAADbUbwLn1REAAAA21G8C59URAAAANtRvAufVEQAAADbUbwLn1REAAAA21G8C59URAAAANtRvAufVEQAAADbUbwLn1REAAAA21G8C59URAAAANtRvAufVEQAAADbUbwLn1REAAAA21G8C59URAAAANtRvAufVEQAAADbUbwLn1REAAAA21G8C59URAAAANtRvAufVEQAAADbUbwLn1REAAAA21G8C59URAAAANtRvAufVEQAAADbUbwLn1REAAAA21G8C59URAAAANtRvAufVEQAAADbUbwLn1REAAAA21G8C59URAAAANtRvAufVEQAAADbUbwLn1REAAAA21G8C59URAAAANtRvAufVEQAAADbUbwLn1REAAAA21G8C59URAAAANtRvAufVEQAAADbUbwLn1REAAAA21G8C59URAAAANtRvAufVEQAAADbUbwLn1REAAAA21G8C59URAAAANtRvAufVEQAAADbUbwLn1REAAAA21G8C59URAAAANtRvAufVEQAAADbUbwLn1REAAAA21G8C59URAAAANtRvAufVEQAAADbUbwLn1REAAAA21G8C59URAAAANtRvAufVEQAAADbUbwLn1REAAAA21G8C59URAAAANtRvAufVEQAAADbUbwLn1REAAAA21G8C59URAAAANtRvAufVEQAAADbUbwLn1REAAAA21G8C59URAAAANtRvAufVEQAAADbUbwLn1REAAAA21G8C59URAAAANtRvAufVEQAAADbUbwLn1REAAAA21G8C59URAAAANtRvAufVEQAAADbUbwLn1REAAAA21G8C59URAAAANtRvAufVEQAAADbUbwLn1REAAAA21G8C59URAAAANtRvAufVEQAAADbUbwLn1REAAAA21G8C59URAAAANtRvAufVEQAAADbUbwLn1REAAAA21G8C59URAAAANtRvAufVEQAAADbUbwLn1REAAAA21G8C59URAAAANtRvAufVEQAAADbUbwLn1REAAAA21G8C59URAAAANtRvAufVEQAAADbUbwLn1REAAAA21G8C59URAAAANtRvAufVEQAAADbUbwLn1REAAAA21G8C59URAAAANtRvAufVEQAAADbUbwLn1REAAAA21G8C59URAAAANtRvAufVEQAAADbUbwLn1REAAAA21G8C59URAAAANtRvAufVEQAAADbUbwLn1REAAAA21G8C59URAAAANtRvAufVEQAAADbUbwLn1REAAAA21G8C59URAAAANtRvAufVEQAAADbUbwLn1REAAAA21G8C59URAAAANtRvAufVEQAAADbUbwLn1REAAAA21G8C59URAAAANtRvAufVEQAAADbUbwLn1REAAAA21G8C59URAAAANtRvAufVEQAAADbUbwLn1REAAAA21G8C59URAAAANtRvAufVEQAAADbUbwLn1REAAAA21G8C59URAAAANtRvAufVEQAAADbUbwLn1REAAAA21G8C59URAAAANtRvAufVEQAAADbUbwLn1REAAAA21G8C59URAAAANtRvAufVEQAAADbUbwLn1REAAAA21G8C59URAAAANtRvAufVEQAAADbUbwLn1REAAAA21G8C59URAAAANtRvAufVEQAAADbUbwLn1REAAAA21G8C59URAAAANtRvAufVEQAAADbUbwLn1REAAAA21G8C59URAAAANtRvAufVEQAAADbUbwLn1REAAAA21G8C59URAAAANtRvAufVEQAAADbUbwLn1REAAAA21G8C59URAAAANtRvAufVEQAAADbUbwLn1REAAAA21G8C59URAAAANtRvAufVEQAAADbUbwLn1REAAAA21G8C59URAAAANtRvAufVEQAAADbUbwLn1REAAAA21G8C59URAAAANtRvAufVEQAAADbUbwLn1REAAAA21G8C59URAAAANtRvAufVEQAAADbUbwLn1REAAAA21G8C59URAAAANtRvAufVEQAAADbUbwLn1REAAAA21G8C59URAAAANtRvAufVEQAAADbUbwLn1REAAAA21G8C59URAAAANtRvAufVEQAAADbUbwLn1REAAAA21G8C59URAAAANtRvAufVEQAAADbUbwLn1REAAAA21G8C59URAAAANtRvAufVEQAAADbUbwLn1REAAAA21G8C59URAAAANtRvAufVEQAAADbUbwLn1REAAAA21G8C59URAAAANtRvAufVEQAAADbUbwLn1REAAAA21G8C59URAAAANtRvAufVEQAAADbUbwLn1REAAAA21G8C59URAAAANtRvAufVEQAAADbUbwLn1REAAAA21G8C59URAAAANtRvAufVEQAAADbUbwLn1REAAAA21G8C59URAAAANtRvAufVEQAAADbUbwLn1REAAAA21G8C59URAAAANtRvAufVEQAAADbUbwLn1REAAAA21G8C59URAAAANtRvAufVEQAAADbUbwLn1REAAAA21G8CAAAAAKB4/jQAAAG6SURBVAAAAAAAAAAAAAAAAAAAAAAAAAAAAAAAAAAAAAAAAAAAAAAAAAAAAAAAAAAAAAAAAAAAAAAAAAAAAAAAAAAAAAAAAAAAAAAAAAAAAAAAAAAAAAAAAAAAAAAAAAAAAAAAAAAAAAAAAAAAAAAAAAAAAAAAAAAAAAAAAAAAAAAAAAAAAAAAAAAAAAAAAAAAAAAAAAAAAAAAAAAAAAAAAAAAAAAAAAAAAAAAAAAAAAAAAAAAAAAAAAAAAAAAAAAAAAAAAAAAAAAAAAAAAAAAAAAAAAAAAAAAAAAAAAAAAAAAAAAAAAAAAAAAAAAAAAAAAAAAAAAAAAAAAAAAAAAAAAAAAAAAAAAAAAAAAAAAAAAAAAAAAAAAAAAAAAAAAAAAAAAAAAAAAAAAAAAAAAAAAAAAAAAAAAAAAAAAAAAAAAAAAAAAAAAAAAAAAAAAAAAAAAAAAAAAAAAAAAAAAAAAAAAAAADwaw8OCAAAAACE/H/dkAAAAAAAAAAAAAAAAAAAAAAAAAAAAAAAAAAAAAAAAAAAAAAAAAAAAAAAAAAAAAAAAAAAAAAAAAAAAAAAAAAAAAAAAAAAAAAfASks7BClhOz6AAAAAElFTkSuQmCC\" width=\"1000\">"
      ],
      "text/plain": [
       "<IPython.core.display.HTML object>"
      ]
     },
     "metadata": {},
     "output_type": "display_data"
    }
   ],
   "source": [
    "fig=  plt.figure()\n",
    "ax = fig.add_subplot(111, projection='3d')\n",
    "fig.set_size_inches(10, 10)\n",
    "\n",
    "ax.scatter(Z_ans[:, 0][:18]  , Z_ans[:,1][:18],Z_ans[:,2,][:18], marker = 'x', s= 500, c = 'b')\n",
    "ax.scatter(Z_ans[:, 0][18:]  , Z_ans[:,1][18:], Z_ans[:,2][18:],  marker = 'x', s= 500, c ='r')\n",
    "ax.scatter(Z[:, 0][::10], Z[:,1][::10], Z[:,2][::10], c = 'y', alpha = 0.05)\n",
    "plt.show()"
   ]
  },
  {
   "cell_type": "code",
   "execution_count": 193,
   "metadata": {
    "collapsed": true
   },
   "outputs": [
    {
     "name": "stdout",
     "output_type": "stream",
     "text": [
      "(2012, 30)\n",
      "[t-SNE] Computing 91 nearest neighbors...\n",
      "[t-SNE] Indexed 2012 samples in 0.002s...\n",
      "[t-SNE] Computed neighbors for 2012 samples in 0.322s...\n",
      "[t-SNE] Computed conditional probabilities for sample 1000 / 2012\n",
      "[t-SNE] Computed conditional probabilities for sample 2000 / 2012\n",
      "[t-SNE] Computed conditional probabilities for sample 2012 / 2012\n",
      "[t-SNE] Mean sigma: 0.769291\n",
      "[t-SNE] KL divergence after 250 iterations with early exaggeration: 55.252552\n",
      "[t-SNE] Error after 1000 iterations: 0.584939\n"
     ]
    }
   ],
   "source": [
    "t_u, t_ans_u = tsne_with_asn(tsne, np.unique(Z, axis = 0), Z_es_3_ans)"
   ]
  },
  {
   "cell_type": "code",
   "execution_count": 194,
   "metadata": {
    "collapsed": true
   },
   "outputs": [
    {
     "data": {
      "image/png": "[encoded data removed]",
      "text/plain": [
       "<matplotlib.figure.Figure at 0x7fe304173908>"
      ]
     },
     "metadata": {},
     "output_type": "display_data"
    }
   ],
   "source": [
    "fig, ax =  plt.subplots()\n",
    "fig.set_size_inches(10, 10)\n",
    "ax.scatter(t_u[:, 0], t_u[:,1], c = 'y')\n",
    "ax.scatter(t_ans_u[:, 0][:18]  , t_ans_u[:,1][:18], c = 'b')\n",
    "ax.scatter(t_ans_u[:, 0][18:]  , t_ans_u[:,1][18:], c ='r')\n",
    "plt.show()"
   ]
  },
  {
   "cell_type": "code",
   "execution_count": null,
   "metadata": {
    "collapsed": true
   },
   "outputs": [],
   "source": []
  },
  {
   "cell_type": "code",
   "execution_count": 39,
   "metadata": {
    "collapsed": true
   },
   "outputs": [],
   "source": [
    "from sklearn.mixture import GaussianMixture, GMM"
   ]
  },
  {
   "cell_type": "code",
   "execution_count": 40,
   "metadata": {
    "collapsed": true
   },
   "outputs": [],
   "source": [
    "clusters_num = 40"
   ]
  },
  {
   "cell_type": "code",
   "execution_count": 41,
   "metadata": {
    "collapsed": true
   },
   "outputs": [],
   "source": [
    "gmm = GaussianMixture(clusters_num, verbose = 1)"
   ]
  },
  {
   "cell_type": "code",
   "execution_count": 42,
   "metadata": {},
   "outputs": [
    {
     "name": "stdout",
     "output_type": "stream",
     "text": [
      "Initialization 0\n",
      "  Iteration 0\n",
      "  Iteration 10\n",
      "Initialization converged: True\n"
     ]
    },
    {
     "data": {
      "text/plain": [
       "GaussianMixture(covariance_type='full', init_params='kmeans', max_iter=100,\n",
       "        means_init=None, n_components=40, n_init=1, precisions_init=None,\n",
       "        random_state=None, reg_covar=1e-06, tol=0.001, verbose=1,\n",
       "        verbose_interval=10, warm_start=False, weights_init=None)"
      ]
     },
     "execution_count": 42,
     "metadata": {},
     "output_type": "execute_result"
    }
   ],
   "source": [
    "gmm.fit(Z)"
   ]
  },
  {
   "cell_type": "code",
   "execution_count": 43,
   "metadata": {
    "collapsed": true
   },
   "outputs": [],
   "source": [
    "clusters_all = gmm.predict(Z)"
   ]
  },
  {
   "cell_type": "code",
   "execution_count": 44,
   "metadata": {
    "collapsed": true
   },
   "outputs": [],
   "source": [
    "clusters_ans_1 = gmm.predict(Z_es_3_ans[:18])\n",
    "clusters_ans_2 = gmm.predict(Z_es_3_ans[18:])"
   ]
  },
  {
   "cell_type": "code",
   "execution_count": 45,
   "metadata": {
    "collapsed": true
   },
   "outputs": [],
   "source": [
    "def get_cmap(n, name='hsv'):\n",
    "    '''Returns a function that maps each index in 0, 1, ..., n-1 to a distinct \n",
    "    RGB color; the keyword argument name must be a standard mpl colormap name.'''\n",
    "    colors = plt.cm.nipy_spectral(np.linspace(0, 1, n))\n",
    "    #colors_res = np.zeros((n, 4))\n",
    "    #for i in range(n):\n",
    "    #    colors_res[i] = colors(i)\n",
    "    return colors"
   ]
  },
  {
   "cell_type": "code",
   "execution_count": 46,
   "metadata": {
    "collapsed": true
   },
   "outputs": [],
   "source": [
    "colors = get_cmap(clusters_num)"
   ]
  },
  {
   "cell_type": "code",
   "execution_count": 48,
   "metadata": {
    "collapsed": true
   },
   "outputs": [],
   "source": [
    "def clusters_to_colors(clusters, colors):\n",
    "    cluster_colors = np.zeros((clusters.shape[0], 4))\n",
    "\n",
    "    for i in range(clusters.shape[0]):\n",
    "        cluster_colors[i] = colors[clusters[i]]\n",
    "    \n",
    "    return cluster_colors"
   ]
  },
  {
   "cell_type": "code",
   "execution_count": 49,
   "metadata": {
    "collapsed": true
   },
   "outputs": [],
   "source": [
    "colors_ans_1 = clusters_to_colors(clusters_ans_1, colors)\n",
    "colors_all = clusters_to_colors(clusters_all, colors)\n",
    "colors_ans_2 = clusters_to_colors(clusters_ans_2, colors)"
   ]
  },
  {
   "cell_type": "code",
   "execution_count": 50,
   "metadata": {
    "scrolled": false
   },
   "outputs": [
    {
     "data": {
      "text/plain": [
       "array([18, 25, 17, 26, 24, 26, 22, 23, 34, 27, 24, 24,  3, 20, 20, 37, 26,\n",
       "       26])"
      ]
     },
     "execution_count": 50,
     "metadata": {},
     "output_type": "execute_result"
    }
   ],
   "source": [
    "clusters_ans_1"
   ]
  },
  {
   "cell_type": "code",
   "execution_count": 51,
   "metadata": {
    "scrolled": true
   },
   "outputs": [
    {
     "data": {
      "text/plain": [
       "array([ 3,  0,  4,  6, 15,  1, 11, 16, 21, 14,  7, 10, 13,  5,  8,  9, 12])"
      ]
     },
     "execution_count": 51,
     "metadata": {},
     "output_type": "execute_result"
    }
   ],
   "source": [
    "clusters_ans_2"
   ]
  },
  {
   "cell_type": "code",
   "execution_count": 54,
   "metadata": {},
   "outputs": [
    {
     "data": {
      "application/javascript": [
       "/* Put everything inside the global mpl namespace */\n",
       "window.mpl = {};\n",
       "\n",
       "\n",
       "mpl.get_websocket_type = function() {\n",
       "    if (typeof(WebSocket) !== 'undefined') {\n",
       "        return WebSocket;\n",
       "    } else if (typeof(MozWebSocket) !== 'undefined') {\n",
       "        return MozWebSocket;\n",
       "    } else {\n",
       "        alert('Your browser does not have WebSocket support.' +\n",
       "              'Please try Chrome, Safari or Firefox ≥ 6. ' +\n",
       "              'Firefox 4 and 5 are also supported but you ' +\n",
       "              'have to enable WebSockets in about:config.');\n",
       "    };\n",
       "}\n",
       "\n",
       "mpl.figure = function(figure_id, websocket, ondownload, parent_element) {\n",
       "    this.id = figure_id;\n",
       "\n",
       "    this.ws = websocket;\n",
       "\n",
       "    this.supports_binary = (this.ws.binaryType != undefined);\n",
       "\n",
       "    if (!this.supports_binary) {\n",
       "        var warnings = document.getElementById(\"mpl-warnings\");\n",
       "        if (warnings) {\n",
       "            warnings.style.display = 'block';\n",
       "            warnings.textContent = (\n",
       "                \"This browser does not support binary websocket messages. \" +\n",
       "                    \"Performance may be slow.\");\n",
       "        }\n",
       "    }\n",
       "\n",
       "    this.imageObj = new Image();\n",
       "\n",
       "    this.context = undefined;\n",
       "    this.message = undefined;\n",
       "    this.canvas = undefined;\n",
       "    this.rubberband_canvas = undefined;\n",
       "    this.rubberband_context = undefined;\n",
       "    this.format_dropdown = undefined;\n",
       "\n",
       "    this.image_mode = 'full';\n",
       "\n",
       "    this.root = $('<div/>');\n",
       "    this._root_extra_style(this.root)\n",
       "    this.root.attr('style', 'display: inline-block');\n",
       "\n",
       "    $(parent_element).append(this.root);\n",
       "\n",
       "    this._init_header(this);\n",
       "    this._init_canvas(this);\n",
       "    this._init_toolbar(this);\n",
       "\n",
       "    var fig = this;\n",
       "\n",
       "    this.waiting = false;\n",
       "\n",
       "    this.ws.onopen =  function () {\n",
       "            fig.send_message(\"supports_binary\", {value: fig.supports_binary});\n",
       "            fig.send_message(\"send_image_mode\", {});\n",
       "            if (mpl.ratio != 1) {\n",
       "                fig.send_message(\"set_dpi_ratio\", {'dpi_ratio': mpl.ratio});\n",
       "            }\n",
       "            fig.send_message(\"refresh\", {});\n",
       "        }\n",
       "\n",
       "    this.imageObj.onload = function() {\n",
       "            if (fig.image_mode == 'full') {\n",
       "                // Full images could contain transparency (where diff images\n",
       "                // almost always do), so we need to clear the canvas so that\n",
       "                // there is no ghosting.\n",
       "                fig.context.clearRect(0, 0, fig.canvas.width, fig.canvas.height);\n",
       "            }\n",
       "            fig.context.drawImage(fig.imageObj, 0, 0);\n",
       "        };\n",
       "\n",
       "    this.imageObj.onunload = function() {\n",
       "        fig.ws.close();\n",
       "    }\n",
       "\n",
       "    this.ws.onmessage = this._make_on_message_function(this);\n",
       "\n",
       "    this.ondownload = ondownload;\n",
       "}\n",
       "\n",
       "mpl.figure.prototype._init_header = function() {\n",
       "    var titlebar = $(\n",
       "        '<div class=\"ui-dialog-titlebar ui-widget-header ui-corner-all ' +\n",
       "        'ui-helper-clearfix\"/>');\n",
       "    var titletext = $(\n",
       "        '<div class=\"ui-dialog-title\" style=\"width: 100%; ' +\n",
       "        'text-align: center; padding: 3px;\"/>');\n",
       "    titlebar.append(titletext)\n",
       "    this.root.append(titlebar);\n",
       "    this.header = titletext[0];\n",
       "}\n",
       "\n",
       "\n",
       "\n",
       "mpl.figure.prototype._canvas_extra_style = function(canvas_div) {\n",
       "\n",
       "}\n",
       "\n",
       "\n",
       "mpl.figure.prototype._root_extra_style = function(canvas_div) {\n",
       "\n",
       "}\n",
       "\n",
       "mpl.figure.prototype._init_canvas = function() {\n",
       "    var fig = this;\n",
       "\n",
       "    var canvas_div = $('<div/>');\n",
       "\n",
       "    canvas_div.attr('style', 'position: relative; clear: both; outline: 0');\n",
       "\n",
       "    function canvas_keyboard_event(event) {\n",
       "        return fig.key_event(event, event['data']);\n",
       "    }\n",
       "\n",
       "    canvas_div.keydown('key_press', canvas_keyboard_event);\n",
       "    canvas_div.keyup('key_release', canvas_keyboard_event);\n",
       "    this.canvas_div = canvas_div\n",
       "    this._canvas_extra_style(canvas_div)\n",
       "    this.root.append(canvas_div);\n",
       "\n",
       "    var canvas = $('<canvas/>');\n",
       "    canvas.addClass('mpl-canvas');\n",
       "    canvas.attr('style', \"left: 0; top: 0; z-index: 0; outline: 0\")\n",
       "\n",
       "    this.canvas = canvas[0];\n",
       "    this.context = canvas[0].getContext(\"2d\");\n",
       "\n",
       "    var backingStore = this.context.backingStorePixelRatio ||\n",
       "\tthis.context.webkitBackingStorePixelRatio ||\n",
       "\tthis.context.mozBackingStorePixelRatio ||\n",
       "\tthis.context.msBackingStorePixelRatio ||\n",
       "\tthis.context.oBackingStorePixelRatio ||\n",
       "\tthis.context.backingStorePixelRatio || 1;\n",
       "\n",
       "    mpl.ratio = (window.devicePixelRatio || 1) / backingStore;\n",
       "\n",
       "    var rubberband = $('<canvas/>');\n",
       "    rubberband.attr('style', \"position: absolute; left: 0; top: 0; z-index: 1;\")\n",
       "\n",
       "    var pass_mouse_events = true;\n",
       "\n",
       "    canvas_div.resizable({\n",
       "        start: function(event, ui) {\n",
       "            pass_mouse_events = false;\n",
       "        },\n",
       "        resize: function(event, ui) {\n",
       "            fig.request_resize(ui.size.width, ui.size.height);\n",
       "        },\n",
       "        stop: function(event, ui) {\n",
       "            pass_mouse_events = true;\n",
       "            fig.request_resize(ui.size.width, ui.size.height);\n",
       "        },\n",
       "    });\n",
       "\n",
       "    function mouse_event_fn(event) {\n",
       "        if (pass_mouse_events)\n",
       "            return fig.mouse_event(event, event['data']);\n",
       "    }\n",
       "\n",
       "    rubberband.mousedown('button_press', mouse_event_fn);\n",
       "    rubberband.mouseup('button_release', mouse_event_fn);\n",
       "    // Throttle sequential mouse events to 1 every 20ms.\n",
       "    rubberband.mousemove('motion_notify', mouse_event_fn);\n",
       "\n",
       "    rubberband.mouseenter('figure_enter', mouse_event_fn);\n",
       "    rubberband.mouseleave('figure_leave', mouse_event_fn);\n",
       "\n",
       "    canvas_div.on(\"wheel\", function (event) {\n",
       "        event = event.originalEvent;\n",
       "        event['data'] = 'scroll'\n",
       "        if (event.deltaY < 0) {\n",
       "            event.step = 1;\n",
       "        } else {\n",
       "            event.step = -1;\n",
       "        }\n",
       "        mouse_event_fn(event);\n",
       "    });\n",
       "\n",
       "    canvas_div.append(canvas);\n",
       "    canvas_div.append(rubberband);\n",
       "\n",
       "    this.rubberband = rubberband;\n",
       "    this.rubberband_canvas = rubberband[0];\n",
       "    this.rubberband_context = rubberband[0].getContext(\"2d\");\n",
       "    this.rubberband_context.strokeStyle = \"#000000\";\n",
       "\n",
       "    this._resize_canvas = function(width, height) {\n",
       "        // Keep the size of the canvas, canvas container, and rubber band\n",
       "        // canvas in synch.\n",
       "        canvas_div.css('width', width)\n",
       "        canvas_div.css('height', height)\n",
       "\n",
       "        canvas.attr('width', width * mpl.ratio);\n",
       "        canvas.attr('height', height * mpl.ratio);\n",
       "        canvas.attr('style', 'width: ' + width + 'px; height: ' + height + 'px;');\n",
       "\n",
       "        rubberband.attr('width', width);\n",
       "        rubberband.attr('height', height);\n",
       "    }\n",
       "\n",
       "    // Set the figure to an initial 600x600px, this will subsequently be updated\n",
       "    // upon first draw.\n",
       "    this._resize_canvas(600, 600);\n",
       "\n",
       "    // Disable right mouse context menu.\n",
       "    $(this.rubberband_canvas).bind(\"contextmenu\",function(e){\n",
       "        return false;\n",
       "    });\n",
       "\n",
       "    function set_focus () {\n",
       "        canvas.focus();\n",
       "        canvas_div.focus();\n",
       "    }\n",
       "\n",
       "    window.setTimeout(set_focus, 100);\n",
       "}\n",
       "\n",
       "mpl.figure.prototype._init_toolbar = function() {\n",
       "    var fig = this;\n",
       "\n",
       "    var nav_element = $('<div/>')\n",
       "    nav_element.attr('style', 'width: 100%');\n",
       "    this.root.append(nav_element);\n",
       "\n",
       "    // Define a callback function for later on.\n",
       "    function toolbar_event(event) {\n",
       "        return fig.toolbar_button_onclick(event['data']);\n",
       "    }\n",
       "    function toolbar_mouse_event(event) {\n",
       "        return fig.toolbar_button_onmouseover(event['data']);\n",
       "    }\n",
       "\n",
       "    for(var toolbar_ind in mpl.toolbar_items) {\n",
       "        var name = mpl.toolbar_items[toolbar_ind][0];\n",
       "        var tooltip = mpl.toolbar_items[toolbar_ind][1];\n",
       "        var image = mpl.toolbar_items[toolbar_ind][2];\n",
       "        var method_name = mpl.toolbar_items[toolbar_ind][3];\n",
       "\n",
       "        if (!name) {\n",
       "            // put a spacer in here.\n",
       "            continue;\n",
       "        }\n",
       "        var button = $('<button/>');\n",
       "        button.addClass('ui-button ui-widget ui-state-default ui-corner-all ' +\n",
       "                        'ui-button-icon-only');\n",
       "        button.attr('role', 'button');\n",
       "        button.attr('aria-disabled', 'false');\n",
       "        button.click(method_name, toolbar_event);\n",
       "        button.mouseover(tooltip, toolbar_mouse_event);\n",
       "\n",
       "        var icon_img = $('<span/>');\n",
       "        icon_img.addClass('ui-button-icon-primary ui-icon');\n",
       "        icon_img.addClass(image);\n",
       "        icon_img.addClass('ui-corner-all');\n",
       "\n",
       "        var tooltip_span = $('<span/>');\n",
       "        tooltip_span.addClass('ui-button-text');\n",
       "        tooltip_span.html(tooltip);\n",
       "\n",
       "        button.append(icon_img);\n",
       "        button.append(tooltip_span);\n",
       "\n",
       "        nav_element.append(button);\n",
       "    }\n",
       "\n",
       "    var fmt_picker_span = $('<span/>');\n",
       "\n",
       "    var fmt_picker = $('<select/>');\n",
       "    fmt_picker.addClass('mpl-toolbar-option ui-widget ui-widget-content');\n",
       "    fmt_picker_span.append(fmt_picker);\n",
       "    nav_element.append(fmt_picker_span);\n",
       "    this.format_dropdown = fmt_picker[0];\n",
       "\n",
       "    for (var ind in mpl.extensions) {\n",
       "        var fmt = mpl.extensions[ind];\n",
       "        var option = $(\n",
       "            '<option/>', {selected: fmt === mpl.default_extension}).html(fmt);\n",
       "        fmt_picker.append(option)\n",
       "    }\n",
       "\n",
       "    // Add hover states to the ui-buttons\n",
       "    $( \".ui-button\" ).hover(\n",
       "        function() { $(this).addClass(\"ui-state-hover\");},\n",
       "        function() { $(this).removeClass(\"ui-state-hover\");}\n",
       "    );\n",
       "\n",
       "    var status_bar = $('<span class=\"mpl-message\"/>');\n",
       "    nav_element.append(status_bar);\n",
       "    this.message = status_bar[0];\n",
       "}\n",
       "\n",
       "mpl.figure.prototype.request_resize = function(x_pixels, y_pixels) {\n",
       "    // Request matplotlib to resize the figure. Matplotlib will then trigger a resize in the client,\n",
       "    // which will in turn request a refresh of the image.\n",
       "    this.send_message('resize', {'width': x_pixels, 'height': y_pixels});\n",
       "}\n",
       "\n",
       "mpl.figure.prototype.send_message = function(type, properties) {\n",
       "    properties['type'] = type;\n",
       "    properties['figure_id'] = this.id;\n",
       "    this.ws.send(JSON.stringify(properties));\n",
       "}\n",
       "\n",
       "mpl.figure.prototype.send_draw_message = function() {\n",
       "    if (!this.waiting) {\n",
       "        this.waiting = true;\n",
       "        this.ws.send(JSON.stringify({type: \"draw\", figure_id: this.id}));\n",
       "    }\n",
       "}\n",
       "\n",
       "\n",
       "mpl.figure.prototype.handle_save = function(fig, msg) {\n",
       "    var format_dropdown = fig.format_dropdown;\n",
       "    var format = format_dropdown.options[format_dropdown.selectedIndex].value;\n",
       "    fig.ondownload(fig, format);\n",
       "}\n",
       "\n",
       "\n",
       "mpl.figure.prototype.handle_resize = function(fig, msg) {\n",
       "    var size = msg['size'];\n",
       "    if (size[0] != fig.canvas.width || size[1] != fig.canvas.height) {\n",
       "        fig._resize_canvas(size[0], size[1]);\n",
       "        fig.send_message(\"refresh\", {});\n",
       "    };\n",
       "}\n",
       "\n",
       "mpl.figure.prototype.handle_rubberband = function(fig, msg) {\n",
       "    var x0 = msg['x0'] / mpl.ratio;\n",
       "    var y0 = (fig.canvas.height - msg['y0']) / mpl.ratio;\n",
       "    var x1 = msg['x1'] / mpl.ratio;\n",
       "    var y1 = (fig.canvas.height - msg['y1']) / mpl.ratio;\n",
       "    x0 = Math.floor(x0) + 0.5;\n",
       "    y0 = Math.floor(y0) + 0.5;\n",
       "    x1 = Math.floor(x1) + 0.5;\n",
       "    y1 = Math.floor(y1) + 0.5;\n",
       "    var min_x = Math.min(x0, x1);\n",
       "    var min_y = Math.min(y0, y1);\n",
       "    var width = Math.abs(x1 - x0);\n",
       "    var height = Math.abs(y1 - y0);\n",
       "\n",
       "    fig.rubberband_context.clearRect(\n",
       "        0, 0, fig.canvas.width, fig.canvas.height);\n",
       "\n",
       "    fig.rubberband_context.strokeRect(min_x, min_y, width, height);\n",
       "}\n",
       "\n",
       "mpl.figure.prototype.handle_figure_label = function(fig, msg) {\n",
       "    // Updates the figure title.\n",
       "    fig.header.textContent = msg['label'];\n",
       "}\n",
       "\n",
       "mpl.figure.prototype.handle_cursor = function(fig, msg) {\n",
       "    var cursor = msg['cursor'];\n",
       "    switch(cursor)\n",
       "    {\n",
       "    case 0:\n",
       "        cursor = 'pointer';\n",
       "        break;\n",
       "    case 1:\n",
       "        cursor = 'default';\n",
       "        break;\n",
       "    case 2:\n",
       "        cursor = 'crosshair';\n",
       "        break;\n",
       "    case 3:\n",
       "        cursor = 'move';\n",
       "        break;\n",
       "    }\n",
       "    fig.rubberband_canvas.style.cursor = cursor;\n",
       "}\n",
       "\n",
       "mpl.figure.prototype.handle_message = function(fig, msg) {\n",
       "    fig.message.textContent = msg['message'];\n",
       "}\n",
       "\n",
       "mpl.figure.prototype.handle_draw = function(fig, msg) {\n",
       "    // Request the server to send over a new figure.\n",
       "    fig.send_draw_message();\n",
       "}\n",
       "\n",
       "mpl.figure.prototype.handle_image_mode = function(fig, msg) {\n",
       "    fig.image_mode = msg['mode'];\n",
       "}\n",
       "\n",
       "mpl.figure.prototype.updated_canvas_event = function() {\n",
       "    // Called whenever the canvas gets updated.\n",
       "    this.send_message(\"ack\", {});\n",
       "}\n",
       "\n",
       "// A function to construct a web socket function for onmessage handling.\n",
       "// Called in the figure constructor.\n",
       "mpl.figure.prototype._make_on_message_function = function(fig) {\n",
       "    return function socket_on_message(evt) {\n",
       "        if (evt.data instanceof Blob) {\n",
       "            /* FIXME: We get \"Resource interpreted as Image but\n",
       "             * transferred with MIME type text/plain:\" errors on\n",
       "             * Chrome.  But how to set the MIME type?  It doesn't seem\n",
       "             * to be part of the websocket stream */\n",
       "            evt.data.type = \"image/png\";\n",
       "\n",
       "            /* Free the memory for the previous frames */\n",
       "            if (fig.imageObj.src) {\n",
       "                (window.URL || window.webkitURL).revokeObjectURL(\n",
       "                    fig.imageObj.src);\n",
       "            }\n",
       "\n",
       "            fig.imageObj.src = (window.URL || window.webkitURL).createObjectURL(\n",
       "                evt.data);\n",
       "            fig.updated_canvas_event();\n",
       "            fig.waiting = false;\n",
       "            return;\n",
       "        }\n",
       "        else if (typeof evt.data === 'string' && evt.data.slice(0, 21) == \"data:image/png;base64\") {\n",
       "            fig.imageObj.src = evt.data;\n",
       "            fig.updated_canvas_event();\n",
       "            fig.waiting = false;\n",
       "            return;\n",
       "        }\n",
       "\n",
       "        var msg = JSON.parse(evt.data);\n",
       "        var msg_type = msg['type'];\n",
       "\n",
       "        // Call the  \"handle_{type}\" callback, which takes\n",
       "        // the figure and JSON message as its only arguments.\n",
       "        try {\n",
       "            var callback = fig[\"handle_\" + msg_type];\n",
       "        } catch (e) {\n",
       "            console.log(\"No handler for the '\" + msg_type + \"' message type: \", msg);\n",
       "            return;\n",
       "        }\n",
       "\n",
       "        if (callback) {\n",
       "            try {\n",
       "                // console.log(\"Handling '\" + msg_type + \"' message: \", msg);\n",
       "                callback(fig, msg);\n",
       "            } catch (e) {\n",
       "                console.log(\"Exception inside the 'handler_\" + msg_type + \"' callback:\", e, e.stack, msg);\n",
       "            }\n",
       "        }\n",
       "    };\n",
       "}\n",
       "\n",
       "// from http://stackoverflow.com/questions/1114465/getting-mouse-location-in-canvas\n",
       "mpl.findpos = function(e) {\n",
       "    //this section is from http://www.quirksmode.org/js/events_properties.html\n",
       "    var targ;\n",
       "    if (!e)\n",
       "        e = window.event;\n",
       "    if (e.target)\n",
       "        targ = e.target;\n",
       "    else if (e.srcElement)\n",
       "        targ = e.srcElement;\n",
       "    if (targ.nodeType == 3) // defeat Safari bug\n",
       "        targ = targ.parentNode;\n",
       "\n",
       "    // jQuery normalizes the pageX and pageY\n",
       "    // pageX,Y are the mouse positions relative to the document\n",
       "    // offset() returns the position of the element relative to the document\n",
       "    var x = e.pageX - $(targ).offset().left;\n",
       "    var y = e.pageY - $(targ).offset().top;\n",
       "\n",
       "    return {\"x\": x, \"y\": y};\n",
       "};\n",
       "\n",
       "/*\n",
       " * return a copy of an object with only non-object keys\n",
       " * we need this to avoid circular references\n",
       " * http://stackoverflow.com/a/24161582/3208463\n",
       " */\n",
       "function simpleKeys (original) {\n",
       "  return Object.keys(original).reduce(function (obj, key) {\n",
       "    if (typeof original[key] !== 'object')\n",
       "        obj[key] = original[key]\n",
       "    return obj;\n",
       "  }, {});\n",
       "}\n",
       "\n",
       "mpl.figure.prototype.mouse_event = function(event, name) {\n",
       "    var canvas_pos = mpl.findpos(event)\n",
       "\n",
       "    if (name === 'button_press')\n",
       "    {\n",
       "        this.canvas.focus();\n",
       "        this.canvas_div.focus();\n",
       "    }\n",
       "\n",
       "    var x = canvas_pos.x * mpl.ratio;\n",
       "    var y = canvas_pos.y * mpl.ratio;\n",
       "\n",
       "    this.send_message(name, {x: x, y: y, button: event.button,\n",
       "                             step: event.step,\n",
       "                             guiEvent: simpleKeys(event)});\n",
       "\n",
       "    /* This prevents the web browser from automatically changing to\n",
       "     * the text insertion cursor when the button is pressed.  We want\n",
       "     * to control all of the cursor setting manually through the\n",
       "     * 'cursor' event from matplotlib */\n",
       "    event.preventDefault();\n",
       "    return false;\n",
       "}\n",
       "\n",
       "mpl.figure.prototype._key_event_extra = function(event, name) {\n",
       "    // Handle any extra behaviour associated with a key event\n",
       "}\n",
       "\n",
       "mpl.figure.prototype.key_event = function(event, name) {\n",
       "\n",
       "    // Prevent repeat events\n",
       "    if (name == 'key_press')\n",
       "    {\n",
       "        if (event.which === this._key)\n",
       "            return;\n",
       "        else\n",
       "            this._key = event.which;\n",
       "    }\n",
       "    if (name == 'key_release')\n",
       "        this._key = null;\n",
       "\n",
       "    var value = '';\n",
       "    if (event.ctrlKey && event.which != 17)\n",
       "        value += \"ctrl+\";\n",
       "    if (event.altKey && event.which != 18)\n",
       "        value += \"alt+\";\n",
       "    if (event.shiftKey && event.which != 16)\n",
       "        value += \"shift+\";\n",
       "\n",
       "    value += 'k';\n",
       "    value += event.which.toString();\n",
       "\n",
       "    this._key_event_extra(event, name);\n",
       "\n",
       "    this.send_message(name, {key: value,\n",
       "                             guiEvent: simpleKeys(event)});\n",
       "    return false;\n",
       "}\n",
       "\n",
       "mpl.figure.prototype.toolbar_button_onclick = function(name) {\n",
       "    if (name == 'download') {\n",
       "        this.handle_save(this, null);\n",
       "    } else {\n",
       "        this.send_message(\"toolbar_button\", {name: name});\n",
       "    }\n",
       "};\n",
       "\n",
       "mpl.figure.prototype.toolbar_button_onmouseover = function(tooltip) {\n",
       "    this.message.textContent = tooltip;\n",
       "};\n",
       "mpl.toolbar_items = [[\"Home\", \"Reset original view\", \"fa fa-home icon-home\", \"home\"], [\"Back\", \"Back to  previous view\", \"fa fa-arrow-left icon-arrow-left\", \"back\"], [\"Forward\", \"Forward to next view\", \"fa fa-arrow-right icon-arrow-right\", \"forward\"], [\"\", \"\", \"\", \"\"], [\"Pan\", \"Pan axes with left mouse, zoom with right\", \"fa fa-arrows icon-move\", \"pan\"], [\"Zoom\", \"Zoom to rectangle\", \"fa fa-square-o icon-check-empty\", \"zoom\"], [\"\", \"\", \"\", \"\"], [\"Download\", \"Download plot\", \"fa fa-floppy-o icon-save\", \"download\"]];\n",
       "\n",
       "mpl.extensions = [\"eps\", \"jpeg\", \"pdf\", \"png\", \"ps\", \"raw\", \"svg\", \"tif\"];\n",
       "\n",
       "mpl.default_extension = \"png\";var comm_websocket_adapter = function(comm) {\n",
       "    // Create a \"websocket\"-like object which calls the given IPython comm\n",
       "    // object with the appropriate methods. Currently this is a non binary\n",
       "    // socket, so there is still some room for performance tuning.\n",
       "    var ws = {};\n",
       "\n",
       "    ws.close = function() {\n",
       "        comm.close()\n",
       "    };\n",
       "    ws.send = function(m) {\n",
       "        //console.log('sending', m);\n",
       "        comm.send(m);\n",
       "    };\n",
       "    // Register the callback with on_msg.\n",
       "    comm.on_msg(function(msg) {\n",
       "        //console.log('receiving', msg['content']['data'], msg);\n",
       "        // Pass the mpl event to the overriden (by mpl) onmessage function.\n",
       "        ws.onmessage(msg['content']['data'])\n",
       "    });\n",
       "    return ws;\n",
       "}\n",
       "\n",
       "mpl.mpl_figure_comm = function(comm, msg) {\n",
       "    // This is the function which gets called when the mpl process\n",
       "    // starts-up an IPython Comm through the \"matplotlib\" channel.\n",
       "\n",
       "    var id = msg.content.data.id;\n",
       "    // Get hold of the div created by the display call when the Comm\n",
       "    // socket was opened in Python.\n",
       "    var element = $(\"#\" + id);\n",
       "    var ws_proxy = comm_websocket_adapter(comm)\n",
       "\n",
       "    function ondownload(figure, format) {\n",
       "        window.open(figure.imageObj.src);\n",
       "    }\n",
       "\n",
       "    var fig = new mpl.figure(id, ws_proxy,\n",
       "                           ondownload,\n",
       "                           element.get(0));\n",
       "\n",
       "    // Call onopen now - mpl needs it, as it is assuming we've passed it a real\n",
       "    // web socket which is closed, not our websocket->open comm proxy.\n",
       "    ws_proxy.onopen();\n",
       "\n",
       "    fig.parent_element = element.get(0);\n",
       "    fig.cell_info = mpl.find_output_cell(\"<div id='\" + id + \"'></div>\");\n",
       "    if (!fig.cell_info) {\n",
       "        console.error(\"Failed to find cell for figure\", id, fig);\n",
       "        return;\n",
       "    }\n",
       "\n",
       "    var output_index = fig.cell_info[2]\n",
       "    var cell = fig.cell_info[0];\n",
       "\n",
       "};\n",
       "\n",
       "mpl.figure.prototype.handle_close = function(fig, msg) {\n",
       "    var width = fig.canvas.width/mpl.ratio\n",
       "    fig.root.unbind('remove')\n",
       "\n",
       "    // Update the output cell to use the data from the current canvas.\n",
       "    fig.push_to_output();\n",
       "    var dataURL = fig.canvas.toDataURL();\n",
       "    // Re-enable the keyboard manager in IPython - without this line, in FF,\n",
       "    // the notebook keyboard shortcuts fail.\n",
       "    IPython.keyboard_manager.enable()\n",
       "    $(fig.parent_element).html('<img src=\"' + dataURL + '\" width=\"' + width + '\">');\n",
       "    fig.close_ws(fig, msg);\n",
       "}\n",
       "\n",
       "mpl.figure.prototype.close_ws = function(fig, msg){\n",
       "    fig.send_message('closing', msg);\n",
       "    // fig.ws.close()\n",
       "}\n",
       "\n",
       "mpl.figure.prototype.push_to_output = function(remove_interactive) {\n",
       "    // Turn the data on the canvas into data in the output cell.\n",
       "    var width = this.canvas.width/mpl.ratio\n",
       "    var dataURL = this.canvas.toDataURL();\n",
       "    this.cell_info[1]['text/html'] = '<img src=\"' + dataURL + '\" width=\"' + width + '\">';\n",
       "}\n",
       "\n",
       "mpl.figure.prototype.updated_canvas_event = function() {\n",
       "    // Tell IPython that the notebook contents must change.\n",
       "    IPython.notebook.set_dirty(true);\n",
       "    this.send_message(\"ack\", {});\n",
       "    var fig = this;\n",
       "    // Wait a second, then push the new image to the DOM so\n",
       "    // that it is saved nicely (might be nice to debounce this).\n",
       "    setTimeout(function () { fig.push_to_output() }, 1000);\n",
       "}\n",
       "\n",
       "mpl.figure.prototype._init_toolbar = function() {\n",
       "    var fig = this;\n",
       "\n",
       "    var nav_element = $('<div/>')\n",
       "    nav_element.attr('style', 'width: 100%');\n",
       "    this.root.append(nav_element);\n",
       "\n",
       "    // Define a callback function for later on.\n",
       "    function toolbar_event(event) {\n",
       "        return fig.toolbar_button_onclick(event['data']);\n",
       "    }\n",
       "    function toolbar_mouse_event(event) {\n",
       "        return fig.toolbar_button_onmouseover(event['data']);\n",
       "    }\n",
       "\n",
       "    for(var toolbar_ind in mpl.toolbar_items){\n",
       "        var name = mpl.toolbar_items[toolbar_ind][0];\n",
       "        var tooltip = mpl.toolbar_items[toolbar_ind][1];\n",
       "        var image = mpl.toolbar_items[toolbar_ind][2];\n",
       "        var method_name = mpl.toolbar_items[toolbar_ind][3];\n",
       "\n",
       "        if (!name) { continue; };\n",
       "\n",
       "        var button = $('<button class=\"btn btn-default\" href=\"#\" title=\"' + name + '\"><i class=\"fa ' + image + ' fa-lg\"></i></button>');\n",
       "        button.click(method_name, toolbar_event);\n",
       "        button.mouseover(tooltip, toolbar_mouse_event);\n",
       "        nav_element.append(button);\n",
       "    }\n",
       "\n",
       "    // Add the status bar.\n",
       "    var status_bar = $('<span class=\"mpl-message\" style=\"text-align:right; float: right;\"/>');\n",
       "    nav_element.append(status_bar);\n",
       "    this.message = status_bar[0];\n",
       "\n",
       "    // Add the close button to the window.\n",
       "    var buttongrp = $('<div class=\"btn-group inline pull-right\"></div>');\n",
       "    var button = $('<button class=\"btn btn-mini btn-primary\" href=\"#\" title=\"Stop Interaction\"><i class=\"fa fa-power-off icon-remove icon-large\"></i></button>');\n",
       "    button.click(function (evt) { fig.handle_close(fig, {}); } );\n",
       "    button.mouseover('Stop Interaction', toolbar_mouse_event);\n",
       "    buttongrp.append(button);\n",
       "    var titlebar = this.root.find($('.ui-dialog-titlebar'));\n",
       "    titlebar.prepend(buttongrp);\n",
       "}\n",
       "\n",
       "mpl.figure.prototype._root_extra_style = function(el){\n",
       "    var fig = this\n",
       "    el.on(\"remove\", function(){\n",
       "\tfig.close_ws(fig, {});\n",
       "    });\n",
       "}\n",
       "\n",
       "mpl.figure.prototype._canvas_extra_style = function(el){\n",
       "    // this is important to make the div 'focusable\n",
       "    el.attr('tabindex', 0)\n",
       "    // reach out to IPython and tell the keyboard manager to turn it's self\n",
       "    // off when our div gets focus\n",
       "\n",
       "    // location in version 3\n",
       "    if (IPython.notebook.keyboard_manager) {\n",
       "        IPython.notebook.keyboard_manager.register_events(el);\n",
       "    }\n",
       "    else {\n",
       "        // location in version 2\n",
       "        IPython.keyboard_manager.register_events(el);\n",
       "    }\n",
       "\n",
       "}\n",
       "\n",
       "mpl.figure.prototype._key_event_extra = function(event, name) {\n",
       "    var manager = IPython.notebook.keyboard_manager;\n",
       "    if (!manager)\n",
       "        manager = IPython.keyboard_manager;\n",
       "\n",
       "    // Check for shift+enter\n",
       "    if (event.shiftKey && event.which == 13) {\n",
       "        this.canvas_div.blur();\n",
       "        event.shiftKey = false;\n",
       "        // Send a \"J\" for go to next cell\n",
       "        event.which = 74;\n",
       "        event.keyCode = 74;\n",
       "        manager.command_mode();\n",
       "        manager.handle_keydown(event);\n",
       "    }\n",
       "}\n",
       "\n",
       "mpl.figure.prototype.handle_save = function(fig, msg) {\n",
       "    fig.ondownload(fig, null);\n",
       "}\n",
       "\n",
       "\n",
       "mpl.find_output_cell = function(html_output) {\n",
       "    // Return the cell and output element which can be found *uniquely* in the notebook.\n",
       "    // Note - this is a bit hacky, but it is done because the \"notebook_saving.Notebook\"\n",
       "    // IPython event is triggered only after the cells have been serialised, which for\n",
       "    // our purposes (turning an active figure into a static one), is too late.\n",
       "    var cells = IPython.notebook.get_cells();\n",
       "    var ncells = cells.length;\n",
       "    for (var i=0; i<ncells; i++) {\n",
       "        var cell = cells[i];\n",
       "        if (cell.cell_type === 'code'){\n",
       "            for (var j=0; j<cell.output_area.outputs.length; j++) {\n",
       "                var data = cell.output_area.outputs[j];\n",
       "                if (data.data) {\n",
       "                    // IPython >= 3 moved mimebundle to data attribute of output\n",
       "                    data = data.data;\n",
       "                }\n",
       "                if (data['text/html'] == html_output) {\n",
       "                    return [cell, data, j];\n",
       "                }\n",
       "            }\n",
       "        }\n",
       "    }\n",
       "}\n",
       "\n",
       "// Register the function which deals with the matplotlib target/channel.\n",
       "// The kernel may be null if the page has been refreshed.\n",
       "if (IPython.notebook.kernel != null) {\n",
       "    IPython.notebook.kernel.comm_manager.register_target('matplotlib', mpl.mpl_figure_comm);\n",
       "}\n"
      ],
      "text/plain": [
       "<IPython.core.display.Javascript object>"
      ]
     },
     "metadata": {},
     "output_type": "display_data"
    },
    {
     "data": {
      "text/html": [
       "<img src=\"data:image/png;base64,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\" width=\"1000\">"
      ],
      "text/plain": [
       "<IPython.core.display.HTML object>"
      ]
     },
     "metadata": {},
     "output_type": "display_data"
    }
   ],
   "source": [
    "fig=  plt.figure()\n",
    "ax = fig.add_subplot(111, projection='3d')\n",
    "fig.set_size_inches(10, 10)\n",
    "\n",
    "ax.scatter(Z_ans[:, 0][:18]  , Z_ans[:,1][:18],Z_ans[:,2,][:18], marker = 'x', s= 500, c = colors_ans_1)\n",
    "ax.scatter(Z_ans[:, 0][18:]  , Z_ans[:,1][18:], Z_ans[:,2][18:],  marker = 'x', s= 500, c =colors_ans_2)\n",
    "ax.scatter(Z[:, 0][::10], Z[:,1][::10], Z[:,2][::10], alpha = 0.2, c = colors_all[::10])\n",
    "plt.show()"
   ]
  },
  {
   "cell_type": "code",
   "execution_count": 662,
   "metadata": {
    "collapsed": true
   },
   "outputs": [],
   "source": [
    "mask = clusters_all == 4"
   ]
  },
  {
   "cell_type": "code",
   "execution_count": 665,
   "metadata": {},
   "outputs": [
    {
     "data": {
      "image/png": "[encoded data removed]",
      "text/plain": [
       "<matplotlib.figure.Figure at 0x7fe311b86c50>"
      ]
     },
     "metadata": {},
     "output_type": "display_data"
    }
   ],
   "source": [
    "fig, ax =  plt.subplots()\n",
    "fig.set_size_inches(15, 10)\n",
    "#ax.scatter(t[:, 0], t[:,1], c=colors_all[::10])\n",
    "ax.scatter(t[:, 0][mask[::10]], t[:,1][mask[::10]], c=colors[4])\n",
    "\n",
    "#ax.scatter(t_ans[:, 0][:18]  , t_ans[:,1][:18],marker = 'x', s=500, c = colors_ans_1)\n",
    "#ax.scatter(t_ans[:, 0][18:]  , t_ans[:,1][18:],marker = 'x', s=10000, c = colors_ans_2)\n",
    "plt.show()"
   ]
  },
  {
   "cell_type": "code",
   "execution_count": 576,
   "metadata": {
    "collapsed": true
   },
   "outputs": [],
   "source": [
    "mask_2 = [x in set(clusters_ans_2) for x in clusters_all]"
   ]
  },
  {
   "cell_type": "code",
   "execution_count": 535,
   "metadata": {
    "collapsed": true
   },
   "outputs": [
    {
     "data": {
      "image/png": "[encoded data removed]",
      "text/plain": [
       "<matplotlib.figure.Figure at 0x7fe315d1d630>"
      ]
     },
     "metadata": {},
     "output_type": "display_data"
    }
   ],
   "source": [
    "fig, ax =  plt.subplots()\n",
    "fig.set_size_inches(15, 10)\n",
    "ax.scatter(t[:, 0][mask_2], t[:,1][mask_2], c=colors_all[::20][mask_2])\n",
    "ax.scatter(t[:, 0][mask_35[::20]], t[:,1][mask_35[::20]], c = 'r')\n",
    "#ax.scatter(t_ans[:, 0][:18]  , t_ans[:,1][:18],marker = 'x', s=500, c = colors_ans_1)\n",
    "ax.scatter(t_ans[:, 0][18:]  , t_ans[:,1][18:],marker = 'x', s=10000, c = colors_ans_2)\n",
    "plt.show()"
   ]
  },
  {
   "cell_type": "code",
   "execution_count": 573,
   "metadata": {
    "collapsed": true
   },
   "outputs": [],
   "source": [
    "mask_1 = [x in set(clusters_ans_1) for x in clusters_all]"
   ]
  },
  {
   "cell_type": "code",
   "execution_count": 533,
   "metadata": {
    "collapsed": true
   },
   "outputs": [
    {
     "data": {
      "image/png": "[encoded data removed]",
      "text/plain": [
       "<matplotlib.figure.Figure at 0x7fe31934eb00>"
      ]
     },
     "metadata": {},
     "output_type": "display_data"
    }
   ],
   "source": [
    "fig, ax =  plt.subplots()\n",
    "fig.set_size_inches(15, 10)\n",
    "ax.scatter(t[:, 0][mask_1], t[:,1][mask_1], c=colors_all[::20][mask_1])\n",
    "#ax.scatter(t[:, 0][mask_35[::20]], t[:,1][mask_35[::20]])\n",
    "ax.scatter(t_ans[:, 0][:18]  , t_ans[:,1][:18],marker = 'x', s=1000, c = colors_ans_1)\n",
    "#ax.scatter(t_ans[:, 0][18:]  , t_ans[:,1][18:],marker = 'x', s=500, c = colors_ans_2)\n",
    "plt.show()"
   ]
  },
  {
   "cell_type": "code",
   "execution_count": null,
   "metadata": {
    "collapsed": true
   },
   "outputs": [],
   "source": []
  },
  {
   "cell_type": "code",
   "execution_count": 582,
   "metadata": {
    "collapsed": true
   },
   "outputs": [],
   "source": [
    "tsne_2 = TSNE(2, verbose=1)"
   ]
  },
  {
   "cell_type": "code",
   "execution_count": 586,
   "metadata": {
    "collapsed": true
   },
   "outputs": [
    {
     "name": "stdout",
     "output_type": "stream",
     "text": [
      "[t-SNE] Computing 91 nearest neighbors...\n",
      "[t-SNE] Indexed 38178 samples in 2.646s...\n",
      "[t-SNE] Computed neighbors for 38178 samples in 71.245s...\n",
      "[t-SNE] Computed conditional probabilities for sample 1000 / 38178\n",
      "[t-SNE] Computed conditional probabilities for sample 2000 / 38178\n",
      "[t-SNE] Computed conditional probabilities for sample 3000 / 38178\n",
      "[t-SNE] Computed conditional probabilities for sample 4000 / 38178\n",
      "[t-SNE] Computed conditional probabilities for sample 5000 / 38178\n",
      "[t-SNE] Computed conditional probabilities for sample 6000 / 38178\n",
      "[t-SNE] Computed conditional probabilities for sample 7000 / 38178\n",
      "[t-SNE] Computed conditional probabilities for sample 8000 / 38178\n",
      "[t-SNE] Computed conditional probabilities for sample 9000 / 38178\n",
      "[t-SNE] Computed conditional probabilities for sample 10000 / 38178\n",
      "[t-SNE] Computed conditional probabilities for sample 11000 / 38178\n",
      "[t-SNE] Computed conditional probabilities for sample 12000 / 38178\n",
      "[t-SNE] Computed conditional probabilities for sample 13000 / 38178\n",
      "[t-SNE] Computed conditional probabilities for sample 14000 / 38178\n",
      "[t-SNE] Computed conditional probabilities for sample 15000 / 38178\n",
      "[t-SNE] Computed conditional probabilities for sample 16000 / 38178\n",
      "[t-SNE] Computed conditional probabilities for sample 17000 / 38178\n",
      "[t-SNE] Computed conditional probabilities for sample 18000 / 38178\n",
      "[t-SNE] Computed conditional probabilities for sample 19000 / 38178\n",
      "[t-SNE] Computed conditional probabilities for sample 20000 / 38178\n",
      "[t-SNE] Computed conditional probabilities for sample 21000 / 38178\n",
      "[t-SNE] Computed conditional probabilities for sample 22000 / 38178\n",
      "[t-SNE] Computed conditional probabilities for sample 23000 / 38178\n",
      "[t-SNE] Computed conditional probabilities for sample 24000 / 38178\n",
      "[t-SNE] Computed conditional probabilities for sample 25000 / 38178\n",
      "[t-SNE] Computed conditional probabilities for sample 26000 / 38178\n",
      "[t-SNE] Computed conditional probabilities for sample 27000 / 38178\n",
      "[t-SNE] Computed conditional probabilities for sample 28000 / 38178\n",
      "[t-SNE] Computed conditional probabilities for sample 29000 / 38178\n",
      "[t-SNE] Computed conditional probabilities for sample 30000 / 38178\n",
      "[t-SNE] Computed conditional probabilities for sample 31000 / 38178\n",
      "[t-SNE] Computed conditional probabilities for sample 32000 / 38178\n",
      "[t-SNE] Computed conditional probabilities for sample 33000 / 38178\n",
      "[t-SNE] Computed conditional probabilities for sample 34000 / 38178\n",
      "[t-SNE] Computed conditional probabilities for sample 35000 / 38178\n",
      "[t-SNE] Computed conditional probabilities for sample 36000 / 38178\n",
      "[t-SNE] Computed conditional probabilities for sample 37000 / 38178\n",
      "[t-SNE] Computed conditional probabilities for sample 38000 / 38178\n",
      "[t-SNE] Computed conditional probabilities for sample 38178 / 38178\n",
      "[t-SNE] Mean sigma: 0.000000\n",
      "[t-SNE] KL divergence after 250 iterations with early exaggeration: 143.113892\n",
      "[t-SNE] Error after 1000 iterations: 4.899593\n"
     ]
    }
   ],
   "source": [
    "t_2 = tsne_2.fit_transform(Z[mask_1])"
   ]
  },
  {
   "cell_type": "code",
   "execution_count": null,
   "metadata": {
    "collapsed": true
   },
   "outputs": [],
   "source": []
  },
  {
   "cell_type": "code",
   "execution_count": 587,
   "metadata": {
    "collapsed": true
   },
   "outputs": [
    {
     "data": {
      "image/png": "[encoded data removed]",
      "text/plain": [
       "<matplotlib.figure.Figure at 0x7fe3037a1160>"
      ]
     },
     "metadata": {},
     "output_type": "display_data"
    }
   ],
   "source": [
    "fig, ax =  plt.subplots()\n",
    "fig.set_size_inches(15, 10)\n",
    "\n",
    "ax.scatter(t_2[:, 0]  , t_2[:,1], c = colors_all[mask_1])#,marker = 'x', s=1000)#, c = colors_ans_1)\n",
    "#ax.scatter(t_ans[:, 0][18:]  , t_ans[:,1][18:],marker = 'x', s=500, c = colors_ans_2)\n",
    "plt.show()"
   ]
  },
  {
   "cell_type": "code",
   "execution_count": null,
   "metadata": {
    "collapsed": true
   },
   "outputs": [],
   "source": []
  },
  {
   "cell_type": "markdown",
   "metadata": {},
   "source": [
    "# GRAPH"
   ]
  },
  {
   "cell_type": "code",
   "execution_count": 55,
   "metadata": {
    "collapsed": true
   },
   "outputs": [],
   "source": [
    "X_pairs = np.load(\"./data/npy/ES3_pairs.npy\")"
   ]
  },
  {
   "cell_type": "code",
   "execution_count": 56,
   "metadata": {
    "collapsed": true
   },
   "outputs": [],
   "source": [
    "Z_pairs_0 = internal(X_pairs[:,0,:])\n",
    "Z_pairs_1 = internal(X_pairs[:,1,:])"
   ]
  },
  {
   "cell_type": "code",
   "execution_count": 57,
   "metadata": {
    "collapsed": true
   },
   "outputs": [],
   "source": [
    "c_0 = gmm.predict(Z_pairs_0)\n",
    "c_1 = gmm.predict(Z_pairs_1)\n"
   ]
  },
  {
   "cell_type": "code",
   "execution_count": 58,
   "metadata": {
    "collapsed": true
   },
   "outputs": [],
   "source": [
    "c_p = np.concatenate((c_0.reshape(-1, 1), c_1.reshape(-1, 1)), 1)"
   ]
  },
  {
   "cell_type": "code",
   "execution_count": 59,
   "metadata": {},
   "outputs": [
    {
     "name": "stderr",
     "output_type": "stream",
     "text": [
      "100%|██████████| 74627/74627 [00:00<00:00, 388101.26it/s]\n"
     ]
    }
   ],
   "source": [
    "graph = np.zeros((clusters_num,clusters_num)).astype(int)\n",
    "\n",
    "\n",
    "for p in tqdm(c_p):\n",
    "    #print(i,j)\n",
    "    #graph[kmeans.predict(pair[0].reshape(1,-1)), kmeans.predict(pair[1].reshape(1,-1))] += 1\n",
    "    graph[p[0]][p[1]] += 1"
   ]
  },
  {
   "cell_type": "code",
   "execution_count": 60,
   "metadata": {},
   "outputs": [
    {
     "data": {
      "text/plain": [
       "array([0, 0, 0, 0, 0, 0, 0, 0, 0, 0, 0, 0, 0, 0, 0, 0, 0, 0, 0, 0, 0, 0, 0,\n",
       "       0, 0, 0, 0, 0, 0, 0, 0, 0, 0, 0, 0, 0, 0, 0, 0, 0])"
      ]
     },
     "execution_count": 60,
     "metadata": {},
     "output_type": "execute_result"
    }
   ],
   "source": [
    "graph[:,3]"
   ]
  },
  {
   "cell_type": "code",
   "execution_count": 61,
   "metadata": {
    "collapsed": true
   },
   "outputs": [],
   "source": [
    "graph = graph.astype(int)"
   ]
  },
  {
   "cell_type": "code",
   "execution_count": 62,
   "metadata": {
    "collapsed": true
   },
   "outputs": [],
   "source": [
    "def to_graph(gr):\n",
    "    edges = []\n",
    "    curr_weight = 1000\n",
    "    while curr_weight > 100:\n",
    "        lin_max = np.argmax(gr)\n",
    "        curr_weight = np.max(gr)\n",
    "        \n",
    "        print(curr_weight)\n",
    "        x, y = lin_max // gr.shape[0], lin_max % gr.shape[0]\n",
    "        gr[x][y] = 0\n",
    "        gr[y][x] = 0\n",
    "\n",
    "        edges.append([x, y])\n",
    "    \n",
    "    return edges"
   ]
  },
  {
   "cell_type": "code",
   "execution_count": 63,
   "metadata": {},
   "outputs": [
    {
     "name": "stdout",
     "output_type": "stream",
     "text": [
      "15956\n",
      "9007\n",
      "8746\n",
      "4800\n",
      "3693\n",
      "2974\n",
      "2898\n",
      "2809\n",
      "2197\n",
      "1838\n",
      "1709\n",
      "1354\n",
      "1182\n",
      "1082\n",
      "972\n",
      "853\n",
      "716\n",
      "634\n",
      "602\n",
      "592\n",
      "486\n",
      "459\n",
      "437\n",
      "394\n",
      "371\n",
      "330\n",
      "327\n",
      "295\n",
      "281\n",
      "264\n",
      "227\n",
      "220\n",
      "214\n",
      "176\n",
      "176\n",
      "170\n",
      "142\n",
      "138\n",
      "132\n",
      "128\n",
      "126\n",
      "120\n",
      "119\n",
      "111\n",
      "110\n",
      "109\n",
      "108\n",
      "107\n",
      "105\n",
      "96\n"
     ]
    },
    {
     "data": {
      "text/plain": [
       "[[3, 0],\n",
       " [0, 31],\n",
       " [2, 24],\n",
       " [5, 27],\n",
       " [4, 24],\n",
       " [9, 27],\n",
       " [6, 24],\n",
       " [8, 38],\n",
       " [15, 24],\n",
       " [1, 24],\n",
       " [10, 38],\n",
       " [21, 31],\n",
       " [11, 31],\n",
       " [16, 27],\n",
       " [7, 31],\n",
       " [3, 24],\n",
       " [2, 27],\n",
       " [14, 27],\n",
       " [38, 0],\n",
       " [3, 19],\n",
       " [3, 38],\n",
       " [2, 31],\n",
       " [3, 27],\n",
       " [3, 31],\n",
       " [0, 24],\n",
       " [19, 31],\n",
       " [28, 24],\n",
       " [24, 24],\n",
       " [25, 24],\n",
       " [0, 27],\n",
       " [38, 27],\n",
       " [34, 24],\n",
       " [2, 0],\n",
       " [2, 38],\n",
       " [27, 31],\n",
       " [5, 24],\n",
       " [9, 24],\n",
       " [38, 38],\n",
       " [4, 27],\n",
       " [5, 31],\n",
       " [8, 24],\n",
       " [15, 27],\n",
       " [10, 27],\n",
       " [11, 24],\n",
       " [1, 27],\n",
       " [16, 24],\n",
       " [29, 27],\n",
       " [17, 27],\n",
       " [26, 24],\n",
       " [6, 27]]"
      ]
     },
     "execution_count": 63,
     "metadata": {},
     "output_type": "execute_result"
    }
   ],
   "source": [
    "to_graph(graph)"
   ]
  },
  {
   "cell_type": "code",
   "execution_count": null,
   "metadata": {
    "collapsed": true
   },
   "outputs": [],
   "source": []
  },
  {
   "cell_type": "code",
   "execution_count": null,
   "metadata": {
    "collapsed": true
   },
   "outputs": [],
   "source": []
  },
  {
   "cell_type": "code",
   "execution_count": 112,
   "metadata": {
    "collapsed": true
   },
   "outputs": [],
   "source": [
    "K_1 = ['CAGCGTCAGGCGTGAAATCTCACCGTCGTTGC', 'TCGGTTCAGGCGTTGCAAACCTGGCTACCGGG', \n",
    "       'GTAGTCCATCATTCCACCTATGTCTGAACTCC', 'CCGGGGGATAATGTTTACGGTCATGCGCCCCC', \n",
    "       'TGGGCGGCTTGCCTTGCAGCCAGCTCCAGCAG', 'AAGCTGGCTGGCAATCTCTTTCGGGGTGAGTC',\n",
    "       'TAGTTTCCGTATCTCCGGATTTATAAAGCTGA', 'GCAGGCGGCGACGCGCAGGGTATGCGCGATTCG', \n",
    "       'GCGACCGCTCAGAAATTCCAGACCCGATCCAAA','TCAACATTATCAATTACAACCGACAGGGAGCC', \n",
    "       'AGCGTGTTCGGCATCACCTTTGGCTTCGGCTG', 'TGCGTGAGCGTATCGCCGCGCGTCTGCGAAAG']\n",
    "       \n",
    "K_2 = ['GACAGAACGGCCTCAGTAGTCTCGTCAGGCTC', 'CTGTTTTCGCAAATCTATGGACTATTGCTATT', \n",
    "       'GGGCGCACGGAATACAAAGCCGTGTATCTGCT', 'TGGCTCTGCAACAGCAGCACCCATGACCACGT', \n",
    "       'GAAATGCTGGTGAGCGTTAATGCCGCAAACAC', 'ATTACGCCTTTTTGCGATTGCCCGGTTTTTGC']"
   ]
  },
  {
   "cell_type": "code",
   "execution_count": 113,
   "metadata": {},
   "outputs": [
    {
     "name": "stderr",
     "output_type": "stream",
     "text": [
      "18it [00:00, 29433.71it/s]\n"
     ]
    }
   ],
   "source": [
    "X_ans = to_array([x[:32] for x in (K_1 + K_2)])"
   ]
  },
  {
   "cell_type": "markdown",
   "metadata": {},
   "source": [
    "### Process data"
   ]
  },
  {
   "cell_type": "code",
   "execution_count": 82,
   "metadata": {
    "collapsed": true
   },
   "outputs": [],
   "source": [
    "with open(\"./data/ES/ES1_R1_pairs.txt\") as f:\n",
    "    lines = f.readlines()\n",
    "    \n",
    "lines = [x[:-2] for x in lines]\n",
    "pairs = [x.split(\" \") for x in lines]"
   ]
  },
  {
   "cell_type": "code",
   "execution_count": 83,
   "metadata": {
    "collapsed": true
   },
   "outputs": [],
   "source": [
    "es_3 = []\n",
    "\n",
    "for a, b in pairs:\n",
    "    es_3.append(a)\n",
    "    es_3.append(b)"
   ]
  },
  {
   "cell_type": "code",
   "execution_count": 84,
   "metadata": {
    "collapsed": true
   },
   "outputs": [],
   "source": [
    "es_3 = [x[:32] for x in es_3]"
   ]
  },
  {
   "cell_type": "code",
   "execution_count": 90,
   "metadata": {
    "scrolled": true
   },
   "outputs": [
    {
     "name": "stderr",
     "output_type": "stream",
     "text": [
      "159654it [00:02, 60994.18it/s]\n"
     ]
    }
   ],
   "source": [
    "X_es_3 = to_array(es_3)"
   ]
  },
  {
   "cell_type": "code",
   "execution_count": 317,
   "metadata": {
    "collapsed": true
   },
   "outputs": [],
   "source": [
    "ans_es_3_1 = \"CAGCGTCAGGCGTGAAATCTCACCGTCGTTGC TCGGTTCAGGCGTTGCAAACCTGGCTACCGGG \\\n",
    "GTAGTCCATCATTCCACCTATGTCTGAACTCC CCGGGGGATAATGTTTACGGTCATGCGCCCCC TGGGCGGCTTGCCTTGCAGCCAGCTCCAGCAG \\\n",
    "AAGCTGGCTGGCAATCTCTTTCGGGGTGAGTC TAGTTTCCGTATCTCCGGATTTATAAAGCTGA GCAGGCGGCGACGCGCAGGGTATGCGCGATTCG \\\n",
    "GCGACCGCTCAGAAATTCCAGACCCGATCCAAA TCAACATTATCAATTACAACCGACAGGGAGCC AGCGTGTTCGGCATCACCTTTGGCTTCGGCTG \\\n",
    "TGCGTGAGCGTATCGCCGCGCGTCTGCGAAAG \"\n",
    "ans_es_3_2 = \"GACAGAACGGCCTCAGTAGTCTCGTCAGGCTC CTGTTTTCGCAAATCTATGGACTATTGCTATT \\\n",
    "GGGCGCACGGAATACAAAGCCGTGTATCTGCT TGGCTCTGCAACAGCAGCACCCATGACCACGT GAAATGCTGGTGAGCGTTAATGCCGCAAACAC \\\n",
    "ATTACGCCTTTTTGCGATTGCCCGGTTTTTGC \"\n",
    "ans_es_3_3 = \"GACAGAACGGCCTCAGTAGTCTCGTCAGGCTC ACACGCCCTTATCAAATAGCTGTGATTTACCTA \\\n",
    "ATAGACCCCGAACAACAATACGCGCAAACCGA TACCGTACAGACTGCCGGATATTATTTTTTTG CTGCTGCTCGAGCTGGTGGAGTGCTGCTATAG \\\n",
    "AACGTCAGGTTGTCGCCGCTCTGCGTGGTCGC TGCATGGCTTTGGCTTCCTCTTTGACGGACGC ATATATCAGAGCAAAAAACAAAGCCACAGCCA \\\n",
    "CATAAAGAAACTATTTTGCGTTTCGTTCAGGT TTTTACAGTGTCAACAATCGTTCCCTGATTGT CCGCCGTTGGCACCGTCAAACTCCGGTACTGT \\\n",
    "TATAGAGATCGTTTTTGGAATTTACAGCGAGG CCGTAAGTGGTTTGAGCGATGATATTTGTGCT \"\n",
    "ans_es_3_4 = \"AGTGCTGGACCATTTCAAATTCACAATAGATT GGAATGATATTTCAATAAATAATTATAACAAT \\\n",
    "CCCTCACACCGATTCGCCAAACGGTGGAGAAG AGCTGGGCGAAATTTTGATTCATCGTGATGAC \""
   ]
  },
  {
   "cell_type": "code",
   "execution_count": 323,
   "metadata": {
    "collapsed": true
   },
   "outputs": [],
   "source": [
    "ans_es_3 = [x[:32] for x in (ans_es_3_1 + \" \" + ans_es_3_2 + \" \" + ans_es_3_3 + \" \" + ans_es_3_4).split()]"
   ]
  },
  {
   "cell_type": "code",
   "execution_count": 324,
   "metadata": {},
   "outputs": [
    {
     "name": "stderr",
     "output_type": "stream",
     "text": [
      "35it [00:00, 27594.11it/s]\n"
     ]
    }
   ],
   "source": [
    "X_ans_es_3 = to_array(ans_es_3)"
   ]
  },
  {
   "cell_type": "code",
   "execution_count": null,
   "metadata": {
    "collapsed": true
   },
   "outputs": [],
   "source": []
  },
  {
   "cell_type": "code",
   "execution_count": null,
   "metadata": {
    "collapsed": true
   },
   "outputs": [],
   "source": []
  },
  {
   "cell_type": "code",
   "execution_count": 15,
   "metadata": {
    "collapsed": true
   },
   "outputs": [],
   "source": [
    "unique = set(K_1 + K_2)"
   ]
  },
  {
   "cell_type": "code",
   "execution_count": 9,
   "metadata": {
    "collapsed": true
   },
   "outputs": [],
   "source": [
    "kept_len = 32"
   ]
  },
  {
   "cell_type": "code",
   "execution_count": 10,
   "metadata": {
    "collapsed": true
   },
   "outputs": [],
   "source": [
    "K_1 = ['CAGCGTCAGGCGTGAAATCTCACCGTCGTTGC', 'TCGGTTCAGGCGTTGCAAACCTGGCTACCGGG', \n",
    "       'GTAGTCCATCATTCCACCTATGTCTGAACTCC', 'CCGGGGGATAATGTTTACGGTCATGCGCCCCC', \n",
    "       'TGGGCGGCTTGCCTTGCAGCCAGCTCCAGCAG', 'AAGCTGGCTGGCAATCTCTTTCGGGGTGAGTC',\n",
    "       'TAGTTTCCGTATCTCCGGATTTATAAAGCTGA', 'GCAGGCGGCGACGCGCAGGGTATGCGCGATTCG', \n",
    "       'GCGACCGCTCAGAAATTCCAGACCCGATCCAAA','TCAACATTATCAATTACAACCGACAGGGAGCC', \n",
    "       'AGCGTGTTCGGCATCACCTTTGGCTTCGGCTG', 'TGCGTGAGCGTATCGCCGCGCGTCTGCGAAAG']\n",
    "       \n",
    "K_2 = ['GACAGAACGGCCTCAGTAGTCTCGTCAGGCTC', 'CTGTTTTCGCAAATCTATGGACTATTGCTATT', \n",
    "       'GGGCGCACGGAATACAAAGCCGTGTATCTGCT', 'TGGCTCTGCAACAGCAGCACCCATGACCACGT', \n",
    "       'GAAATGCTGGTGAGCGTTAATGCCGCAAACAC', 'ATTACGCCTTTTTGCGATTGCCCGGTTTTTGC']"
   ]
  },
  {
   "cell_type": "code",
   "execution_count": 89,
   "metadata": {
    "collapsed": true
   },
   "outputs": [],
   "source": [
    "letter_to_num = {}\n",
    "letter_to_num['A'] = 0\n",
    "letter_to_num['C'] = 1\n",
    "letter_to_num['T'] = 2\n",
    "letter_to_num['G'] = 3"
   ]
  },
  {
   "cell_type": "code",
   "execution_count": 86,
   "metadata": {
    "collapsed": true
   },
   "outputs": [],
   "source": [
    "def process_spacer(spacer):\n",
    "    ans = np.zeros(32*4)\n",
    "    \n",
    "    for i, letter in enumerate(spacer):\n",
    "        if letter in letter_to_num.keys():\n",
    "            ans[i*4 + letter_to_num[letter]] = 1\n",
    "    return ans\n",
    "    "
   ]
  },
  {
   "cell_type": "code",
   "execution_count": 13,
   "metadata": {
    "collapsed": true
   },
   "outputs": [],
   "source": [
    "def add_noize(spacer, prob = 0.99):\n",
    "    noized = []\n",
    "    for letter in spacer: \n",
    "        if np.random.random() > prob:\n",
    "            noized.append(np.random.choice([\"A\",\"C\",\"G\",\"T\", \"\"]))\n",
    "        else:\n",
    "            noized.append(letter)\n",
    "    return ''.join(noized)"
   ]
  },
  {
   "cell_type": "code",
   "execution_count": 14,
   "metadata": {},
   "outputs": [
    {
     "name": "stderr",
     "output_type": "stream",
     "text": [
      "100%|██████████| 159654/159654 [00:08<00:00, 19507.01it/s]\n"
     ]
    }
   ],
   "source": [
    "noised_data = []\n",
    "K = K_1 + K_2\n",
    "for i in tqdm(range(len(pairs) * 2)):\n",
    "    noised_data.append(add_noize(np.random.choice(K), 0.97))\n",
    "    "
   ]
  },
  {
   "cell_type": "code",
   "execution_count": 17,
   "metadata": {},
   "outputs": [
    {
     "data": {
      "text/plain": [
       "73362"
      ]
     },
     "execution_count": 17,
     "metadata": {},
     "output_type": "execute_result"
    }
   ],
   "source": [
    "counter = 0\n",
    "for p in noised_data:\n",
    "    if p in unique:\n",
    "        counter += 1\n",
    "counter"
   ]
  },
  {
   "cell_type": "code",
   "execution_count": 18,
   "metadata": {
    "collapsed": true
   },
   "outputs": [],
   "source": [
    "noised_data = [x[:32] for x in noised_data]"
   ]
  },
  {
   "cell_type": "code",
   "execution_count": 87,
   "metadata": {
    "collapsed": true
   },
   "outputs": [],
   "source": [
    "def to_array(spacers):\n",
    "    X = np.zeros((len(spacers), 32 * 4))\n",
    "\n",
    "    for i, spacer in tqdm(enumerate(spacers)):\n",
    "        X[i,:] = process_spacer(spacer)\n",
    "    return X"
   ]
  },
  {
   "cell_type": "code",
   "execution_count": 19,
   "metadata": {},
   "outputs": [
    {
     "name": "stderr",
     "output_type": "stream",
     "text": [
      "159654it [00:02, 66800.41it/s]\n"
     ]
    }
   ],
   "source": [
    "X_noised = np.zeros((len(noised_data), 32 * 4))\n",
    "\n",
    "for i, noised_spacer in tqdm(enumerate(noised_data)):\n",
    "    X_noised[i,:] = process_spacer(noised_spacer)"
   ]
  },
  {
   "cell_type": "code",
   "execution_count": 20,
   "metadata": {},
   "outputs": [
    {
     "name": "stderr",
     "output_type": "stream",
     "text": [
      "18it [00:00, 24051.44it/s]\n"
     ]
    }
   ],
   "source": [
    "X = np.zeros((len(K), 32 * 4))\n",
    "\n",
    "for i, spacer in tqdm(enumerate([x[:32] for x in K])):\n",
    "    X[i,:] = process_spacer(spacer)"
   ]
  },
  {
   "cell_type": "markdown",
   "metadata": {},
   "source": [
    "# ALL DATA"
   ]
  },
  {
   "cell_type": "code",
   "execution_count": 220,
   "metadata": {
    "collapsed": true
   },
   "outputs": [],
   "source": [
    "with open(\"./data/CRISPR_db_2109.txt\") as f:\n",
    "    db_lines = f.readlines()"
   ]
  },
  {
   "cell_type": "code",
   "execution_count": 221,
   "metadata": {
    "collapsed": true
   },
   "outputs": [],
   "source": [
    "db = [[y for y in x.split(\"\\t\")[1:-1] if len(y) > 0] for x in db_lines]"
   ]
  },
  {
   "cell_type": "code",
   "execution_count": 250,
   "metadata": {},
   "outputs": [
    {
     "data": {
      "text/plain": [
       "array([  21,   27,   39,   49,   56,   61,   67,   81,   86,   92,   98,\n",
       "        118,  135,  161,  162,  170,  181,  237,  257,  312,  351,  365,\n",
       "        404,  414,  419,  420,  424,  438,  445,  454,  458,  483,  504,\n",
       "        506,  507,  509,  519,  559,  589,  604,  615,  633,  648,  661,\n",
       "        674,  681,  687,  710,  755,  766,  783,  788,  789,  790,  827,\n",
       "        862,  864,  897,  907,  965,  970,  976,  990, 1000, 1014, 1017,\n",
       "       1025, 1049, 1052, 1074, 1075, 1093, 1154, 1161, 1192, 1208, 1213,\n",
       "       1217, 1224, 1241, 1244, 1252, 1278, 1310, 1319, 1329, 1331, 1336,\n",
       "       1342, 1354, 1361, 1374, 1383, 1425, 1434, 1440, 1505, 1506, 1553,\n",
       "       1568, 1592, 1603, 1605, 1613, 1621, 1645, 1657, 1663, 1700, 1736,\n",
       "       1737, 1751, 1755, 1795, 2024, 2300, 2345, 2463, 2502, 2503, 2504,\n",
       "       2506, 2507, 2508, 2509, 2510, 2511, 2512, 2513, 2514, 2515, 2516,\n",
       "       2517, 2518, 2519, 2520, 2521, 2522, 2523, 2525, 2526, 2527, 2528,\n",
       "       2529, 2530, 2531, 2532, 2533, 2534, 2535, 2536, 2539, 2540, 2542,\n",
       "       2543, 2544, 2545, 2546, 2547, 2548, 2551, 2552, 2553, 2638, 2672,\n",
       "       2673, 2697, 2744, 2746, 2747, 2748, 2765, 2866, 2880, 2941, 3018,\n",
       "       3035, 3036, 3043])"
      ]
     },
     "execution_count": 250,
     "metadata": {},
     "output_type": "execute_result"
    }
   ],
   "source": [
    "np.where(np.array([len(x) for x in db]) == 1)[0]"
   ]
  },
  {
   "cell_type": "code",
   "execution_count": 252,
   "metadata": {},
   "outputs": [
    {
     "data": {
      "text/plain": [
       "array([ '@gi|675818951:288728-289015_E_coli_FHI102_scaffold-28_contig-1.2_582909_1011299\\tCTGAAACCAGTTGGCTCGTTGTTCTTCTTTGG\\t\\t\\t\\t\\t\\t\\t\\t\\t\\t\\t\\t\\t\\t\\t\\t\\t\\t\\t\\t\\t\\t\\t\\t\\t\\t\\t\\t\\t\\t\\t\\t\\t\\t\\t\\t\\t\\t\\n',\n",
       "       '@gb|CP008805.1|:3680245-3680533_E_coli_O157:H7_str._SS17\\tCTCGACTTTAATTTTTTCGCTGCCCGCTTTTG\\t\\t\\t\\t\\t\\t\\t\\t\\t\\t\\t\\t\\t\\t\\t\\t\\t\\t\\t\\t\\t\\t\\t\\t\\t\\t\\t\\t\\t\\t\\t\\t\\t\\t\\t\\t\\t\\t\\n',\n",
       "       '@gb|KC765388.1|:1-219_E_coli_strain_96-0611_CRISPR2a\\tAAGTTCGACAACTTAAAAAATGATAACAAGTC\\t\\t\\t\\t\\t\\t\\t\\t\\t\\t\\t\\t\\t\\t\\t\\t\\t\\t\\t\\t\\t\\t\\t\\t\\t\\t\\t\\t\\t\\t\\t\\t\\t\\t\\t\\t\\t\\t\\n',\n",
       "       '@gb|KF522834.1|:288-576_E_coli_strain_H56909_CRISPR2\\tCTCGACTTTAATTTTTTCGCTGCCCGCTTTTG\\t\\t\\t\\t\\t\\t\\t\\t\\t\\t\\t\\t\\t\\t\\t\\t\\t\\t\\t\\t\\t\\t\\t\\t\\t\\t\\t\\t\\t\\t\\t\\t\\t\\t\\t\\t\\t\\t\\n',\n",
       "       '@gb|KF522734.1|:1-189_E_coli_strain_TW14359_CRISPR2\\tCTCGACTTTAATTTTTTCGCTGCCCGCTTTTG\\t\\t\\t\\t\\t\\t\\t\\t\\t\\t\\t\\t\\t\\t\\t\\t\\t\\t\\t\\t\\t\\t\\t\\t\\t\\t\\t\\t\\t\\t\\t\\t\\t\\t\\t\\t\\t\\t\\n',\n",
       "       '@gb|KF522859.1|:266-494_E_coli_strain_95.3322_CRISPR2\\tATATCCGGTTTTTGCTGGTGGGCCGCGCCGTT\\t\\t\\t\\t\\t\\t\\t\\t\\t\\t\\t\\t\\t\\t\\t\\t\\t\\t\\t\\t\\t\\t\\t\\t\\t\\t\\t\\t\\t\\t\\t\\t\\t\\t\\t\\t\\t\\t\\n',\n",
       "       '@gi|675819430:465490-465716_E_coli_FHI58_scaffold-25_contig-3.0_1_571371\\tTAAGCGATATCCATCATCGCATCCAGTGCGCC\\t\\t\\t\\t\\t\\t\\t\\t\\t\\t\\t\\t\\t\\t\\t\\t\\t\\t\\t\\t\\t\\t\\t\\t\\t\\t\\t\\t\\t\\t\\t\\t\\t\\t\\t\\t\\t\\t\\n',\n",
       "       '@gb|FJ232368.1|:1-90_E_coli_strain_ECOR44_CRISPR\\tCCTGATTGATGGCTTCTTTGATGTCAAACCGA\\t\\t\\t\\t\\t\\t\\t\\t\\t\\t\\t\\t\\t\\t\\t\\t\\t\\t\\t\\t\\t\\t\\t\\t\\t\\t\\t\\t\\t\\t\\t\\t\\t\\t\\t\\t\\t\\t\\n',\n",
       "       '@gi|218350208:3094112-3094399_E_coli_55989\\tCTGAAACCAGTTGGCTCGTTGTTCTTCTTTGG\\t\\t\\t\\t\\t\\t\\t\\t\\t\\t\\t\\t\\t\\t\\t\\t\\t\\t\\t\\t\\t\\t\\t\\t\\t\\t\\t\\t\\t\\t\\t\\t\\t\\t\\t\\t\\t\\t\\n',\n",
       "       '@gi|777221678:183039-183267_E_coli_NCTC9001_plasmid_:_3\\tATATCCGGTTTTTGCTGGTGGGCCGCGCCGTT\\t\\t\\t\\t\\t\\t\\t\\t\\t\\t\\t\\t\\t\\t\\t\\t\\t\\t\\t\\t\\t\\t\\t\\t\\t\\t\\t\\t\\t\\t\\t\\t\\t\\t\\t\\t\\t\\t\\n',\n",
       "       '@gi|676254253:127785-128072_E_coli_FHI62_scaffold-23_contig-0.0_1_800564\\tTCACGCCACGACGACGATCTGCATACAAATTG\\t\\t\\t\\t\\t\\t\\t\\t\\t\\t\\t\\t\\t\\t\\t\\t\\t\\t\\t\\t\\t\\t\\t\\t\\t\\t\\t\\t\\t\\t\\t\\t\\t\\t\\t\\t\\t\\t\\n',\n",
       "       '@gb|KC765365.1|:1-251_E_coli_strain_0-3245_CRISPR2a\\tAACATCGGAAACGGCTTCGCGGCGGCGGCGTC\\t\\t\\t\\t\\t\\t\\t\\t\\t\\t\\t\\t\\t\\t\\t\\t\\t\\t\\t\\t\\t\\t\\t\\t\\t\\t\\t\\t\\t\\t\\t\\t\\t\\t\\t\\t\\t\\t\\n',\n",
       "       '@gb|CP010304.1|:3643658-3643946_E_coli_O157:H7_str._SS52\\tCTCGACTTTAATTTTTTCGCTGCCCGCTTTTG\\t\\t\\t\\t\\t\\t\\t\\t\\t\\t\\t\\t\\t\\t\\t\\t\\t\\t\\t\\t\\t\\t\\t\\t\\t\\t\\t\\t\\t\\t\\t\\t\\t\\t\\t\\t\\t\\t\\n',\n",
       "       '@gb|KF522761.1|:127-413_E_coli_strain_UMD135_CRISPR2\\tAACATCGGAAACGGCTTCGCGGCGGCGGCGTC\\t\\t\\t\\t\\t\\t\\t\\t\\t\\t\\t\\t\\t\\t\\t\\t\\t\\t\\t\\t\\t\\t\\t\\t\\t\\t\\t\\t\\t\\t\\t\\t\\t\\t\\t\\t\\t\\t\\n',\n",
       "       '@gb|KC765180.1|:92-367_E_coli_strain_TW08613_CRISPR2a\\tCTCGACTTTAATTTTTTCGCTGCCCGCTTTTG\\t\\t\\t\\t\\t\\t\\t\\t\\t\\t\\t\\t\\t\\t\\t\\t\\t\\t\\t\\t\\t\\t\\t\\t\\t\\t\\t\\t\\t\\t\\t\\t\\t\\t\\t\\t\\t\\t\\n',\n",
       "       '@gb|CP002167.1|:586055-586283_E_coli_UM146\\tATATCCGGTTTTTGCTGGTGGGCCGCGCCGTT\\t\\t\\t\\t\\t\\t\\t\\t\\t\\t\\t\\t\\t\\t\\t\\t\\t\\t\\t\\t\\t\\t\\t\\t\\t\\t\\t\\t\\t\\t\\t\\t\\t\\t\\t\\t\\t\\t\\n',\n",
       "       '@gb|KC765181.1|:108-371_E_coli_strain_TW08623_CRISPR2a\\tCTCGACTTTAATTTTTTCGCTGCCCGCTTTTG\\t\\t\\t\\t\\t\\t\\t\\t\\t\\t\\t\\t\\t\\t\\t\\t\\t\\t\\t\\t\\t\\t\\t\\t\\t\\t\\t\\t\\t\\t\\t\\t\\t\\t\\t\\t\\t\\t\\n',\n",
       "       '@gb|JF495882.1|:1-150_E_coli_strain_IAI21_CRISPR1\\tACATGAATGTCGGTTCAGACCGTGTTTTTACC\\t\\t\\t\\t\\t\\t\\t\\t\\t\\t\\t\\t\\t\\t\\t\\t\\t\\t\\t\\t\\t\\t\\t\\t\\t\\t\\t\\t\\t\\t\\t\\t\\t\\t\\t\\t\\t\\t\\n',\n",
       "       '@gb|CP003297.1|:1192244-1192531_E_coli_O104:H4_str._2009EL-2050\\tCTGAAACCAGTTGGCTCGTTGTTCTTCTTTGG\\t\\t\\t\\t\\t\\t\\t\\t\\t\\t\\t\\t\\t\\t\\t\\t\\t\\t\\t\\t\\t\\t\\t\\t\\t\\t\\t\\t\\t\\t\\t\\t\\t\\t\\t\\t\\t\\t\\n',\n",
       "       '@gb|CP007799.1|:3112468-3112696_E_coli_Nissle_1917\\tATATCCGGTTTTTGCTGGTGGGCCGCGCCGTT\\t\\t\\t\\t\\t\\t\\t\\t\\t\\t\\t\\t\\t\\t\\t\\t\\t\\t\\t\\t\\t\\t\\t\\t\\t\\t\\t\\t\\t\\t\\t\\t\\t\\t\\t\\t\\t\\t\\n',\n",
       "       '@gb|KC765266.1|:97-359_E_coli_strain_M10029536001A_CRISPR2a\\tGCCTGACATTGCAGACGTTACAAATTGAGAGG\\t\\t\\t\\t\\t\\t\\t\\t\\t\\t\\t\\t\\t\\t\\t\\t\\t\\t\\t\\t\\t\\t\\t\\t\\t\\t\\t\\t\\t\\t\\t\\t\\t\\t\\t\\t\\t\\t\\n',\n",
       "       '@gb|CP015020.1|:1912672-1912960_E_coli_strain_28RC1\\tCTCGACTTTAATTTTTTCGCTGCCCGCTTTTG\\t\\t\\t\\t\\t\\t\\t\\t\\t\\t\\t\\t\\t\\t\\t\\t\\t\\t\\t\\t\\t\\t\\t\\t\\t\\t\\t\\t\\t\\t\\t\\t\\t\\t\\t\\t\\t\\t\\n',\n",
       "       '@gb|KC765185.1|:57-320_E_coli_strain_TW11102_CRISPR2a\\tCTCGACTTTAATTTTTTCGCTGCCCGCTTTTG\\t\\t\\t\\t\\t\\t\\t\\t\\t\\t\\t\\t\\t\\t\\t\\t\\t\\t\\t\\t\\t\\t\\t\\t\\t\\t\\t\\t\\t\\t\\t\\t\\t\\t\\t\\t\\t\\t\\n',\n",
       "       '@gb|CP008957.1|:3711653-3711941_E_coli_O157:H7_str._EDL933\\tCTCGACTTTAATTTTTTCGCTGCCCGCTTTTG\\t\\t\\t\\t\\t\\t\\t\\t\\t\\t\\t\\t\\t\\t\\t\\t\\t\\t\\t\\t\\t\\t\\t\\t\\t\\t\\t\\t\\t\\t\\t\\t\\t\\t\\t\\t\\t\\t\\n',\n",
       "       '@gi|675819749:104964-105190_E_coli_FHI25_scaffold-22_contig-5.0_1_349348\\tTAAGCGATATCCATCATCGCATCCAGTGCGCC\\t\\t\\t\\t\\t\\t\\t\\t\\t\\t\\t\\t\\t\\t\\t\\t\\t\\t\\t\\t\\t\\t\\t\\t\\t\\t\\t\\t\\t\\t\\t\\t\\t\\t\\t\\t\\t\\t\\n',\n",
       "       '@gb|KC765183.1|:95-357_E_coli_strain_TW11022_CRISPR2a\\tCTCGACTTTAATTTTTTCGCTGCCCGCTTTTG\\t\\t\\t\\t\\t\\t\\t\\t\\t\\t\\t\\t\\t\\t\\t\\t\\t\\t\\t\\t\\t\\t\\t\\t\\t\\t\\t\\t\\t\\t\\t\\t\\t\\t\\t\\t\\t\\t\\n',\n",
       "       '@gb|CP001368.1|:3683150-3683438_E_coli_O157:H7_str._TW14359\\tCTCGACTTTAATTTTTTCGCTGCCCGCTTTTG\\t\\t\\t\\t\\t\\t\\t\\t\\t\\t\\t\\t\\t\\t\\t\\t\\t\\t\\t\\t\\t\\t\\t\\t\\t\\t\\t\\t\\t\\t\\t\\t\\t\\t\\t\\t\\t\\t\\n',\n",
       "       '@gb|CP007149.1|:3075245-3075473_E_coli_RS218\\tATATCCGGTTTTTGCTGGTGGGCCGCGCCGTT\\t\\t\\t\\t\\t\\t\\t\\t\\t\\t\\t\\t\\t\\t\\t\\t\\t\\t\\t\\t\\t\\t\\t\\t\\t\\t\\t\\t\\t\\t\\t\\t\\t\\t\\t\\t\\t\\t\\n',\n",
       "       '@gb|FJ232374.1|:1-90_E_coli_strain_ECOR35_CRISPR\\tCCCAGACCTGAAGTCAACTTATCCATTGTCGA\\t\\t\\t\\t\\t\\t\\t\\t\\t\\t\\t\\t\\t\\t\\t\\t\\t\\t\\t\\t\\t\\t\\t\\t\\t\\t\\t\\t\\t\\t\\t\\t\\t\\t\\t\\t\\t\\t\\n',\n",
       "       '@gi|675820319:471268-471496_E_coli_FHI72_scaffold-33_contig-0.1_44342_1130685\\tATATCCGGTTTTTGCTGGTGGGCCGCGCCGTT\\t\\t\\t\\t\\t\\t\\t\\t\\t\\t\\t\\t\\t\\t\\t\\t\\t\\t\\t\\t\\t\\t\\t\\t\\t\\t\\t\\t\\t\\t\\t\\t\\t\\t\\t\\t\\t\\t\\n',\n",
       "       '@gb|CP001855.1|:2854265-2854493_E_coli_O83:H1_str._NRG_857C\\tATATCCGGTTTTTGCTGGTGGGCCGCGCCGTT\\t\\t\\t\\t\\t\\t\\t\\t\\t\\t\\t\\t\\t\\t\\t\\t\\t\\t\\t\\t\\t\\t\\t\\t\\t\\t\\t\\t\\t\\t\\t\\t\\t\\t\\t\\t\\t\\t\\n',\n",
       "       '@gb|KC765399.1|:1-257_E_coli_strain_96-1536_CRISPR2a\\tAACATCGGAAACGGCTTCGCGGCGGCGGCGTC\\t\\t\\t\\t\\t\\t\\t\\t\\t\\t\\t\\t\\t\\t\\t\\t\\t\\t\\t\\t\\t\\t\\t\\t\\t\\t\\t\\t\\t\\t\\t\\t\\t\\t\\t\\t\\t\\t\\n',\n",
       "       '@gb|CP015023.1|:1676006-1676294_E_coli_strain_SRCC_1675\\tCTCGACTTTAATTTTTTCGCTGCCCGCTTTTG\\t\\t\\t\\t\\t\\t\\t\\t\\t\\t\\t\\t\\t\\t\\t\\t\\t\\t\\t\\t\\t\\t\\t\\t\\t\\t\\t\\t\\t\\t\\t\\t\\t\\t\\t\\t\\t\\t\\n',\n",
       "       '@gb|KC765377.1|:1-220_E_coli_strain_90-0008_CRISPR2a\\tATATCCGGTTTTTGCTGGTGGGCCGCGCCGTT\\t\\t\\t\\t\\t\\t\\t\\t\\t\\t\\t\\t\\t\\t\\t\\t\\t\\t\\t\\t\\t\\t\\t\\t\\t\\t\\t\\t\\t\\t\\t\\t\\t\\t\\t\\t\\t\\t\\n',\n",
       "       '@gb|KC765165.1|:108-377_E_coli_strain_PA3_CRISPR2a\\tCTCGACTTTAATTTTTTCGCTGCCCGCTTTTG\\t\\t\\t\\t\\t\\t\\t\\t\\t\\t\\t\\t\\t\\t\\t\\t\\t\\t\\t\\t\\t\\t\\t\\t\\t\\t\\t\\t\\t\\t\\t\\t\\t\\t\\t\\t\\t\\t\\n',\n",
       "       '@gb|FJ232365.1|:1-90_E_coli_strain_ECOR06_CRISPR\\tCGTCCGGATCGGTTTCGAGAATCTCTACGCTC\\t\\t\\t\\t\\t\\t\\t\\t\\t\\t\\t\\t\\t\\t\\t\\t\\t\\t\\t\\t\\t\\t\\t\\t\\t\\t\\t\\t\\t\\t\\t\\t\\t\\t\\t\\t\\t\\t\\n',\n",
       "       '@gb|KF522713.1|:226-512_E_coli_strain_XDN5789_CRISPR2\\tAACATCGGAAACGGCTTCGCGGCGGCGGCGTC\\t\\t\\t\\t\\t\\t\\t\\t\\t\\t\\t\\t\\t\\t\\t\\t\\t\\t\\t\\t\\t\\t\\t\\t\\t\\t\\t\\t\\t\\t\\t\\t\\t\\t\\t\\t\\t\\t\\n',\n",
       "       '@gb|GU260852.1|:1-89_E_coli_strain_ECOR23_CRISPR2.2-3\\tATATCCGGTTTTTGCTGGTGGGCCGCGCCGTT\\t\\t\\t\\t\\t\\t\\t\\t\\t\\t\\t\\t\\t\\t\\t\\t\\t\\t\\t\\t\\t\\t\\t\\t\\t\\t\\t\\t\\t\\t\\t\\t\\t\\t\\t\\t\\t\\t\\n',\n",
       "       '@gb|FJ232372.1|:1-90_E_coli_strain_ECOR42_CRISPR\\tTGTTGATGGTGAGTTTTTTATAGCTGGCGCAC\\t\\t\\t\\t\\t\\t\\t\\t\\t\\t\\t\\t\\t\\t\\t\\t\\t\\t\\t\\t\\t\\t\\t\\t\\t\\t\\t\\t\\t\\t\\t\\t\\t\\t\\t\\t\\t\\t\\n',\n",
       "       '@gi|218363708:2988034-2988262_E_coli_S88\\tATATCCGGTTTTTGCTGGTGGGCCGCGCCGTT\\t\\t\\t\\t\\t\\t\\t\\t\\t\\t\\t\\t\\t\\t\\t\\t\\t\\t\\t\\t\\t\\t\\t\\t\\t\\t\\t\\t\\t\\t\\t\\t\\t\\t\\t\\t\\t\\t\\n',\n",
       "       '@gb|KC765176.1|:97-371_E_coli_strain_TW01663_CRISPR2a\\tCTCGACTTTAATTTTTTCGCTGCCCGCTTTTG\\t\\t\\t\\t\\t\\t\\t\\t\\t\\t\\t\\t\\t\\t\\t\\t\\t\\t\\t\\t\\t\\t\\t\\t\\t\\t\\t\\t\\t\\t\\t\\t\\t\\t\\t\\t\\t\\t\\n',\n",
       "       '@gb|FJ232370.1|:1-90_E_coli_strain_ECOR46_CRISPR\\tTTGCCGCGAAGACCAGTGAACTGGAAATCTGG\\t\\t\\t\\t\\t\\t\\t\\t\\t\\t\\t\\t\\t\\t\\t\\t\\t\\t\\t\\t\\t\\t\\t\\t\\t\\t\\t\\t\\t\\t\\t\\t\\t\\t\\t\\t\\t\\t\\n',\n",
       "       '@gb|KF522741.1|:234-522_E_coli_strain_WT119-2_CRISPR2\\tATATACAGCAAACCTTCAGAATGCATTCCGGG\\t\\t\\t\\t\\t\\t\\t\\t\\t\\t\\t\\t\\t\\t\\t\\t\\t\\t\\t\\t\\t\\t\\t\\t\\t\\t\\t\\t\\t\\t\\t\\t\\t\\t\\t\\t\\t\\t\\n',\n",
       "       '@gb|KC765187.1|:97-367_E_coli_strain_TW11346_CRISPR2a\\tCTCGACTTTAATTTTTTCGCTGCCCGCTTTTG\\t\\t\\t\\t\\t\\t\\t\\t\\t\\t\\t\\t\\t\\t\\t\\t\\t\\t\\t\\t\\t\\t\\t\\t\\t\\t\\t\\t\\t\\t\\t\\t\\t\\t\\t\\t\\t\\t\\n',\n",
       "       '@gb|KC765369.1|:1-272_E_coli_strain_2-0665_CRISPR2a\\tAACATCGGAAACGGCTTCGCGGCGGCGGCGTC\\t\\t\\t\\t\\t\\t\\t\\t\\t\\t\\t\\t\\t\\t\\t\\t\\t\\t\\t\\t\\t\\t\\t\\t\\t\\t\\t\\t\\t\\t\\t\\t\\t\\t\\t\\t\\t\\t\\n',\n",
       "       '@gb|CP012631.1|:1050641-1050869_E_coli_strain_SF-173\\tATATCCGGTTTTTGCTGGTGGGCCGCGCCGTT\\t\\t\\t\\t\\t\\t\\t\\t\\t\\t\\t\\t\\t\\t\\t\\t\\t\\t\\t\\t\\t\\t\\t\\t\\t\\t\\t\\t\\t\\t\\t\\t\\t\\t\\t\\t\\t\\t\\n',\n",
       "       '@gb|GU260791.1|:1-150_E_coli_strain_ECOR4_CRISPR2.1\\tACGCATATTATCGACGACTTCTTTTGCTTTGG\\t\\t\\t\\t\\t\\t\\t\\t\\t\\t\\t\\t\\t\\t\\t\\t\\t\\t\\t\\t\\t\\t\\t\\t\\t\\t\\t\\t\\t\\t\\t\\t\\t\\t\\t\\t\\t\\t\\n',\n",
       "       '@gb|CP013962.1|:1347725-1348012_E_coli_strain_SEC470_genome\\tTTACTGCTTGGTATGCGGAATCACACCCTGAA\\t\\t\\t\\t\\t\\t\\t\\t\\t\\t\\t\\t\\t\\t\\t\\t\\t\\t\\t\\t\\t\\t\\t\\t\\t\\t\\t\\t\\t\\t\\t\\t\\t\\t\\t\\t\\t\\t\\n',\n",
       "       '@gb|KC765173.1|:108-376_E_coli_strain_PA40_CRISPR2a\\tCTCGACTTTAATTTTTTCGCTGCCCGCTTTTG\\t\\t\\t\\t\\t\\t\\t\\t\\t\\t\\t\\t\\t\\t\\t\\t\\t\\t\\t\\t\\t\\t\\t\\t\\t\\t\\t\\t\\t\\t\\t\\t\\t\\t\\t\\t\\t\\t\\n',\n",
       "       '@gb|KC765372.1|:1-219_E_coli_strain_9-1665_CRISPR2a\\tATATCCGGTTTTTGCTGGTGGGCCGCGCCGTT\\t\\t\\t\\t\\t\\t\\t\\t\\t\\t\\t\\t\\t\\t\\t\\t\\t\\t\\t\\t\\t\\t\\t\\t\\t\\t\\t\\t\\t\\t\\t\\t\\t\\t\\t\\t\\t\\t\\n',\n",
       "       '@gb|KC765167.1|:108-372_E_coli_strain_PA11_CRISPR2a\\tCTCGACTTTAATTTTTTCGCTGCCCGCTTTTG\\t\\t\\t\\t\\t\\t\\t\\t\\t\\t\\t\\t\\t\\t\\t\\t\\t\\t\\t\\t\\t\\t\\t\\t\\t\\t\\t\\t\\t\\t\\t\\t\\t\\t\\t\\t\\t\\t\\n',\n",
       "       '@gb|CP013029.1|:3780776-3781004_E_coli_strain_2012C-4227\\tAAGTTCGACAACTTAAAAAATGATAACAAGTC\\t\\t\\t\\t\\t\\t\\t\\t\\t\\t\\t\\t\\t\\t\\t\\t\\t\\t\\t\\t\\t\\t\\t\\t\\t\\t\\t\\t\\t\\t\\t\\t\\t\\t\\t\\t\\t\\t\\n',\n",
       "       '@gb|CP013029.1|:3755498-3755785_E_coli_strain_2012C-4227\\tAAGCAGTTAGCAAAAAAACAGCGAATTGAAAA\\t\\t\\t\\t\\t\\t\\t\\t\\t\\t\\t\\t\\t\\t\\t\\t\\t\\t\\t\\t\\t\\t\\t\\t\\t\\t\\t\\t\\t\\t\\t\\t\\t\\t\\t\\t\\t\\t\\n',\n",
       "       '@gb|KC765174.1|:109-384_E_coli_strain_PA41_CRISPR2a\\tCTCGACTTTAATTTTTTCGCTGCCCGCTTTTG\\t\\t\\t\\t\\t\\t\\t\\t\\t\\t\\t\\t\\t\\t\\t\\t\\t\\t\\t\\t\\t\\t\\t\\t\\t\\t\\t\\t\\t\\t\\t\\t\\t\\t\\t\\t\\t\\t\\n',\n",
       "       '@gb|KC765171.1|:108-384_E_coli_strain_PA34_CRISPR2a\\tCTCGACTTTAATTTTTTCGCTGCCCGCTTTTG\\t\\t\\t\\t\\t\\t\\t\\t\\t\\t\\t\\t\\t\\t\\t\\t\\t\\t\\t\\t\\t\\t\\t\\t\\t\\t\\t\\t\\t\\t\\t\\t\\t\\t\\t\\t\\t\\t\\n',\n",
       "       '@gb|CP001671.1|:3099228-3099456_E_coli_ABU_83972\\tATATCCGGTTTTTGCTGGTGGGCCGCGCCGTT\\t\\t\\t\\t\\t\\t\\t\\t\\t\\t\\t\\t\\t\\t\\t\\t\\t\\t\\t\\t\\t\\t\\t\\t\\t\\t\\t\\t\\t\\t\\t\\t\\t\\t\\t\\t\\t\\t\\n',\n",
       "       '@gb|KF522774.1|:229-515_E_coli_strain_UMD173_CRISPR2\\tAACATCGGAAACGGCTTCGCGGCGGCGGCGTC\\t\\t\\t\\t\\t\\t\\t\\t\\t\\t\\t\\t\\t\\t\\t\\t\\t\\t\\t\\t\\t\\t\\t\\t\\t\\t\\t\\t\\t\\t\\t\\t\\t\\t\\t\\t\\t\\t\\n',\n",
       "       '@gb|CP011331.1|:496327-496614_E_coli_O104:H4_str._C227-11\\tCTGAAACCAGTTGGCTCGTTGTTCTTCTTTGG\\t\\t\\t\\t\\t\\t\\t\\t\\t\\t\\t\\t\\t\\t\\t\\t\\t\\t\\t\\t\\t\\t\\t\\t\\t\\t\\t\\t\\t\\t\\t\\t\\t\\t\\t\\t\\t\\t\\n',\n",
       "       '@gb|CP006636.1|:2850915-2851141_E_coli_PCN061\\tTCCGACACTTAGTATCATTATGGTGTCCGACA\\t\\t\\t\\t\\t\\t\\t\\t\\t\\t\\t\\t\\t\\t\\t\\t\\t\\t\\t\\t\\t\\t\\t\\t\\t\\t\\t\\t\\t\\t\\t\\t\\t\\t\\t\\t\\t\\t\\n',\n",
       "       '@gb|KC765168.1|:96-359_E_coli_strain_PA13_CRISPR2a\\tCTCGACTTTAATTTTTTCGCTGCCCGCTTTTG\\t\\t\\t\\t\\t\\t\\t\\t\\t\\t\\t\\t\\t\\t\\t\\t\\t\\t\\t\\t\\t\\t\\t\\t\\t\\t\\t\\t\\t\\t\\t\\t\\t\\t\\t\\t\\t\\t\\n',\n",
       "       '@gb|KF522790.1|:1-189_E_coli_strain_EC4115_CRISPR2\\tCTCGACTTTAATTTTTTCGCTGCCCGCTTTTG\\t\\t\\t\\t\\t\\t\\t\\t\\t\\t\\t\\t\\t\\t\\t\\t\\t\\t\\t\\t\\t\\t\\t\\t\\t\\t\\t\\t\\t\\t\\t\\t\\t\\t\\t\\t\\t\\t\\n',\n",
       "       '@gb|CP003301.1|:1181985-1182272_E_coli_O104:H4_str._2009EL-2071\\tCTGAAACCAGTTGGCTCGTTGTTCTTCTTTGG\\t\\t\\t\\t\\t\\t\\t\\t\\t\\t\\t\\t\\t\\t\\t\\t\\t\\t\\t\\t\\t\\t\\t\\t\\t\\t\\t\\t\\t\\t\\t\\t\\t\\t\\t\\t\\t\\t\\n',\n",
       "       '@gb|JF496113.1|:433-622_E_coli_strain_IAI5_CRISPR2\\tCTGCGGTGATTTCCTGGAATGTTTTGCCGGAC\\t\\t\\t\\t\\t\\t\\t\\t\\t\\t\\t\\t\\t\\t\\t\\t\\t\\t\\t\\t\\t\\t\\t\\t\\t\\t\\t\\t\\t\\t\\t\\t\\t\\t\\t\\t\\t\\t\\n',\n",
       "       '@gb|KC765188.1|:108-363_E_coli_strain_TW11516_CRISPR2a\\tCTCGACTTTAATTTTTTCGCTGCCCGCTTTTG\\t\\t\\t\\t\\t\\t\\t\\t\\t\\t\\t\\t\\t\\t\\t\\t\\t\\t\\t\\t\\t\\t\\t\\t\\t\\t\\t\\t\\t\\t\\t\\t\\t\\t\\t\\t\\t\\t\\n',\n",
       "       '@gb|CP012802.1|:3496517-3496805_E_coli_O157:H7_strain_WS4202\\tCTCGACTTTAATTTTTTCGCTGCCCGCTTTTG\\t\\t\\t\\t\\t\\t\\t\\t\\t\\t\\t\\t\\t\\t\\t\\t\\t\\t\\t\\t\\t\\t\\t\\t\\t\\t\\t\\t\\t\\t\\t\\t\\t\\t\\t\\t\\t\\t\\n',\n",
       "       '@gb|KC765636.1|:217-493_E_coli_strain_96-0611_CRISPR1\\tAAGCAGTTAGCAAAAAAACAGCGAATTGAAAA\\t\\t\\t\\t\\t\\t\\t\\t\\t\\t\\t\\t\\t\\t\\t\\t\\t\\t\\t\\t\\t\\t\\t\\t\\t\\t\\t\\t\\t\\t\\t\\t\\t\\t\\t\\t\\t\\t\\n',\n",
       "       '@gb|CP001925.1|:3551697-3551985_E_coli_Xuzhou21\\tCTCGACTTTAATTTTTTCGCTGCCCGCTTTTG\\t\\t\\t\\t\\t\\t\\t\\t\\t\\t\\t\\t\\t\\t\\t\\t\\t\\t\\t\\t\\t\\t\\t\\t\\t\\t\\t\\t\\t\\t\\t\\t\\t\\t\\t\\t\\t\\t\\n',\n",
       "       '@gb|KF522832.1|:1-189_E_coli_strain_FDA413_CRISPR2\\tCTCGACTTTAATTTTTTCGCTGCCCGCTTTTG\\t\\t\\t\\t\\t\\t\\t\\t\\t\\t\\t\\t\\t\\t\\t\\t\\t\\t\\t\\t\\t\\t\\t\\t\\t\\t\\t\\t\\t\\t\\t\\t\\t\\t\\t\\t\\t\\t\\n',\n",
       "       '@gb|KC765172.1|:108-383_E_coli_strain_PA38_CRISPR2a\\tCTCGACTTTAATTTTTTCGCTGCCCGCTTTTG\\t\\t\\t\\t\\t\\t\\t\\t\\t\\t\\t\\t\\t\\t\\t\\t\\t\\t\\t\\t\\t\\t\\t\\t\\t\\t\\t\\t\\t\\t\\t\\t\\t\\t\\t\\t\\t\\t\\n',\n",
       "       '@gb|JF496155.1|:434-622_E_coli_strain_R192_CRISPR2\\tGAAAAATGCATACGATTCGAGCACCAGTTTGG\\t\\t\\t\\t\\t\\t\\t\\t\\t\\t\\t\\t\\t\\t\\t\\t\\t\\t\\t\\t\\t\\t\\t\\t\\t\\t\\t\\t\\t\\t\\t\\t\\t\\t\\t\\t\\t\\t\\n',\n",
       "       '@gb|GU260799.1|:1-150_E_coli_strain_ECOR13_CRISPR2.1\\tATATCCTCCAGAACACGCGCCTCATTTCGACT\\t\\t\\t\\t\\t\\t\\t\\t\\t\\t\\t\\t\\t\\t\\t\\t\\t\\t\\t\\t\\t\\t\\t\\t\\t\\t\\t\\t\\t\\t\\t\\t\\t\\t\\t\\t\\t\\t\\n',\n",
       "       '@gi|745369752:3262788-3263075_E_coli_HUSEC2011\\tCTGAAACCAGTTGGCTCGTTGTTCTTCTTTGG\\t\\t\\t\\t\\t\\t\\t\\t\\t\\t\\t\\t\\t\\t\\t\\t\\t\\t\\t\\t\\t\\t\\t\\t\\t\\t\\t\\t\\t\\t\\t\\t\\t\\t\\t\\t\\t\\t\\n',\n",
       "       '@gb|JF496136.1|:494-682_E_coli_strain_R42_CRISPR2\\tATATACAGCAAACCTTCAGAATGCATTCCGGG\\t\\t\\t\\t\\t\\t\\t\\t\\t\\t\\t\\t\\t\\t\\t\\t\\t\\t\\t\\t\\t\\t\\t\\t\\t\\t\\t\\t\\t\\t\\t\\t\\t\\t\\t\\t\\t\\t\\n',\n",
       "       '@gb|KC765213.1|:1-244_E_coli_strain_07E02096_CRISPR2a\\tGCCTGACATTGCAGACGTTACAAATTGAGAGG\\t\\t\\t\\t\\t\\t\\t\\t\\t\\t\\t\\t\\t\\t\\t\\t\\t\\t\\t\\t\\t\\t\\t\\t\\t\\t\\t\\t\\t\\t\\t\\t\\t\\t\\t\\t\\t\\t\\n',\n",
       "       '@gb|FJ232369.1|:1-90_E_coli_strain_ECOR69_CRISPR\\tGAAACGCCGGTTGAACGTCGTGCAAAAATCAT\\t\\t\\t\\t\\t\\t\\t\\t\\t\\t\\t\\t\\t\\t\\t\\t\\t\\t\\t\\t\\t\\t\\t\\t\\t\\t\\t\\t\\t\\t\\t\\t\\t\\t\\t\\t\\t\\t\\n',\n",
       "       '@gi|47118301:3624027-3624315_E_coli_O157:H7_str._Sakai\\tCTCGACTTTAATTTTTTCGCTGCCCGCTTTTG\\t\\t\\t\\t\\t\\t\\t\\t\\t\\t\\t\\t\\t\\t\\t\\t\\t\\t\\t\\t\\t\\t\\t\\t\\t\\t\\t\\t\\t\\t\\t\\t\\t\\t\\t\\t\\t\\t\\n',\n",
       "       '@gb|KC765163.1|:60-290_E_coli_strain_FRIK2000_CRISPR2a\\tCTCGACTTTAATTTTTTCGCTGCCCGCTTTTG\\t\\t\\t\\t\\t\\t\\t\\t\\t\\t\\t\\t\\t\\t\\t\\t\\t\\t\\t\\t\\t\\t\\t\\t\\t\\t\\t\\t\\t\\t\\t\\t\\t\\t\\t\\t\\t\\t\\n',\n",
       "       '@gb|KC765184.1|:97-362_E_coli_strain_TW11052_CRISPR2a\\tCTCGACTTTAATTTTTTCGCTGCCCGCTTTTG\\t\\t\\t\\t\\t\\t\\t\\t\\t\\t\\t\\t\\t\\t\\t\\t\\t\\t\\t\\t\\t\\t\\t\\t\\t\\t\\t\\t\\t\\t\\t\\t\\t\\t\\t\\t\\t\\t\\n',\n",
       "       '@gb|FJ232367.1|:1-90_E_coli_strain_ECOR43_CRISPR\\tCACATTCAACAGGTTAAGGTAACCGATTTGAC\\t\\t\\t\\t\\t\\t\\t\\t\\t\\t\\t\\t\\t\\t\\t\\t\\t\\t\\t\\t\\t\\t\\t\\t\\t\\t\\t\\t\\t\\t\\t\\t\\t\\t\\t\\t\\t\\t\\n',\n",
       "       '@gb|KC765366.1|:1-220_E_coli_strain_1-0510_CRISPR2a\\tATATCCGGTTTTTGCTGGTGGGCCGCGCCGTT\\t\\t\\t\\t\\t\\t\\t\\t\\t\\t\\t\\t\\t\\t\\t\\t\\t\\t\\t\\t\\t\\t\\t\\t\\t\\t\\t\\t\\t\\t\\t\\t\\t\\t\\t\\t\\t\\t\\n',\n",
       "       '@gb|CP009072.1|:2006253-2006481_E_coli_ATCC_25922\\tATATCCGGTTTTTGCTGGTGGGCCGCGCCGTT\\t\\t\\t\\t\\t\\t\\t\\t\\t\\t\\t\\t\\t\\t\\t\\t\\t\\t\\t\\t\\t\\t\\t\\t\\t\\t\\t\\t\\t\\t\\t\\t\\t\\t\\t\\t\\t\\t\\n',\n",
       "       '@gb|KC765361.1|:3-264_E_coli_strain_0-1077_CRISPR2a\\tAACATCGGAAACGGCTTCGCGGCGGCGGCGTC\\t\\t\\t\\t\\t\\t\\t\\t\\t\\t\\t\\t\\t\\t\\t\\t\\t\\t\\t\\t\\t\\t\\t\\t\\t\\t\\t\\t\\t\\t\\t\\t\\t\\t\\t\\t\\t\\t\\n',\n",
       "       '@gb|AE005174.2|:3691325-3691613_E_coli_O157:H7_EDL933\\tCTCGACTTTAATTTTTTCGCTGCCCGCTTTTG\\t\\t\\t\\t\\t\\t\\t\\t\\t\\t\\t\\t\\t\\t\\t\\t\\t\\t\\t\\t\\t\\t\\t\\t\\t\\t\\t\\t\\t\\t\\t\\t\\t\\t\\t\\t\\t\\t\\n',\n",
       "       '@gb|CP000243.1|:3056145-3056373_E_coli_UTI89\\tATATCCGGTTTTTGCTGGTGGGCCGCGCCGTT\\t\\t\\t\\t\\t\\t\\t\\t\\t\\t\\t\\t\\t\\t\\t\\t\\t\\t\\t\\t\\t\\t\\t\\t\\t\\t\\t\\t\\t\\t\\t\\t\\t\\t\\t\\t\\t\\t\\n',\n",
       "       '@gi|544340954:3098381-3098609_E_coli_PMV-1_main\\tATATCCGGTTTTTGCTGGTGGGCCGCGCCGTT\\t\\t\\t\\t\\t\\t\\t\\t\\t\\t\\t\\t\\t\\t\\t\\t\\t\\t\\t\\t\\t\\t\\t\\t\\t\\t\\t\\t\\t\\t\\t\\t\\t\\t\\t\\t\\t\\t\\n',\n",
       "       '@gi|675819895:114867-115093_E_coli_FHI63_scaffold-40_contig-3.0_1_403682\\tTAAGCGATATCCATCATCGCATCCAGTGCGCC\\t\\t\\t\\t\\t\\t\\t\\t\\t\\t\\t\\t\\t\\t\\t\\t\\t\\t\\t\\t\\t\\t\\t\\t\\t\\t\\t\\t\\t\\t\\t\\t\\t\\t\\t\\t\\t\\t\\n',\n",
       "       '@gb|CP003289.1|:1188783-1189070_E_coli_O104:H4_str._2011C-3493\\tCTGAAACCAGTTGGCTCGTTGTTCTTCTTTGG\\t\\t\\t\\t\\t\\t\\t\\t\\t\\t\\t\\t\\t\\t\\t\\t\\t\\t\\t\\t\\t\\t\\t\\t\\t\\t\\t\\t\\t\\t\\t\\t\\t\\t\\t\\t\\t\\t\\n',\n",
       "       '@gb|AE014075.1|:3177170-3177398_E_coli_CFT073\\tATATCCGGTTTTTGCTGGTGGGCCGCGCCGTT\\t\\t\\t\\t\\t\\t\\t\\t\\t\\t\\t\\t\\t\\t\\t\\t\\t\\t\\t\\t\\t\\t\\t\\t\\t\\t\\t\\t\\t\\t\\t\\t\\t\\t\\t\\t\\t\\t\\n',\n",
       "       '@gb|JF495834.1|:1-150_E_coli_strain_641_CRISPR1\\tACGCGCGTACCGGATCGCGGACAACAAATTGC\\t\\t\\t\\t\\t\\t\\t\\t\\t\\t\\t\\t\\t\\t\\t\\t\\t\\t\\t\\t\\t\\t\\t\\t\\t\\t\\t\\t\\t\\t\\t\\t\\t\\t\\t\\t\\t\\t\\n',\n",
       "       '@gb|CP000468.1|:3070651-3070879_E_coli_APEC_O1\\tATATCCGGTTTTTGCTGGTGGGCCGCGCCGTT\\t\\t\\t\\t\\t\\t\\t\\t\\t\\t\\t\\t\\t\\t\\t\\t\\t\\t\\t\\t\\t\\t\\t\\t\\t\\t\\t\\t\\t\\t\\t\\t\\t\\t\\t\\t\\t\\t\\n',\n",
       "       '@gb|FJ232371.1|:1-89_E_coli_strain_ECOR42_CRISPR\\tACCGCATTAATTCACGAGACGTATCGCGGAGA\\t\\t\\t\\t\\t\\t\\t\\t\\t\\t\\t\\t\\t\\t\\t\\t\\t\\t\\t\\t\\t\\t\\t\\t\\t\\t\\t\\t\\t\\t\\t\\t\\t\\t\\t\\t\\t\\t\\n',\n",
       "       \"@gb|CP002211.1|:3065722-3065950_E_coli_str._'clone_D_i2'\\tATATCCGGTTTTTGCTGGTGGGCCGCGCCGTT\\t\\t\\t\\t\\t\\t\\t\\t\\t\\t\\t\\t\\t\\t\\t\\t\\t\\t\\t\\t\\t\\t\\t\\t\\t\\t\\t\\t\\t\\t\\t\\t\\t\\t\\t\\t\\t\\t\\n\",\n",
       "       '@gb|CP012633.1|:1116476-1116704_E_coli_strain_SF-166\\tATATCCGGTTTTTGCTGGTGGGCCGCGCCGTT\\t\\t\\t\\t\\t\\t\\t\\t\\t\\t\\t\\t\\t\\t\\t\\t\\t\\t\\t\\t\\t\\t\\t\\t\\t\\t\\t\\t\\t\\t\\t\\t\\t\\t\\t\\t\\t\\t\\n',\n",
       "       \"@gb|CP002212.1|:3065722-3065950_E_coli_str._'clone_D_i14'\\tATATCCGGTTTTTGCTGGTGGGCCGCGCCGTT\\t\\t\\t\\t\\t\\t\\t\\t\\t\\t\\t\\t\\t\\t\\t\\t\\t\\t\\t\\t\\t\\t\\t\\t\\t\\t\\t\\t\\t\\t\\t\\t\\t\\t\\t\\t\\t\\t\\n\",\n",
       "       '@gb|CP012625.1|:1123215-1123443_E_coli_strain_SF-468\\tATATCCGGTTTTTGCTGGTGGGCCGCGCCGTT\\t\\t\\t\\t\\t\\t\\t\\t\\t\\t\\t\\t\\t\\t\\t\\t\\t\\t\\t\\t\\t\\t\\t\\t\\t\\t\\t\\t\\t\\t\\t\\t\\t\\t\\t\\t\\t\\t\\n',\n",
       "       '@gb|KC765170.1|:92-357_E_coli_strain_PA33_CRISPR2a\\tCTCGACTTTAATTTTTTCGCTGCCCGCTTTTG\\t\\t\\t\\t\\t\\t\\t\\t\\t\\t\\t\\t\\t\\t\\t\\t\\t\\t\\t\\t\\t\\t\\t\\t\\t\\t\\t\\t\\t\\t\\t\\t\\t\\t\\t\\t\\t\\t\\n',\n",
       "       '@gb|CP005930.1|:959680-959908_E_coli_APEC_IMT5155\\tATATCCGGTTTTTGCTGGTGGGCCGCGCCGTT\\t\\t\\t\\t\\t\\t\\t\\t\\t\\t\\t\\t\\t\\t\\t\\t\\t\\t\\t\\t\\t\\t\\t\\t\\t\\t\\t\\t\\t\\t\\t\\t\\t\\t\\t\\t\\t\\t\\n',\n",
       "       '@gb|KC765164.1|:97-372_E_coli_strain_PA2_CRISPR2a\\tCTCGACTTTAATTTTTTCGCTGCCCGCTTTTG\\t\\t\\t\\t\\t\\t\\t\\t\\t\\t\\t\\t\\t\\t\\t\\t\\t\\t\\t\\t\\t\\t\\t\\t\\t\\t\\t\\t\\t\\t\\t\\t\\t\\t\\t\\t\\t\\t\\n',\n",
       "       '@gb|KC765179.1|:93-356_E_coli_strain_TW08612_CRISPR2a\\tCTCGACTTTAATTTTTTCGCTGCCCGCTTTTG\\t\\t\\t\\t\\t\\t\\t\\t\\t\\t\\t\\t\\t\\t\\t\\t\\t\\t\\t\\t\\t\\t\\t\\t\\t\\t\\t\\t\\t\\t\\t\\t\\t\\t\\t\\t\\t\\t\\n',\n",
       "       '@gb|GU260853.1|:1-90_E_coli_strain_ECOR24_CRISPR2.3\\tTGCCCCAACCAGAAATAAATTTAGGGGATCTA\\t\\t\\t\\t\\t\\t\\t\\t\\t\\t\\t\\t\\t\\t\\t\\t\\t\\t\\t\\t\\t\\t\\t\\t\\t\\t\\t\\t\\t\\t\\t\\t\\t\\t\\t\\t\\t\\t\\n',\n",
       "       '@gb|FJ232375.1|:1-90_E_coli_strain_ECOR16_CRISPR\\tAAGACAACGCGTTCGGATGTTTTCTGGCTGGG\\t\\t\\t\\t\\t\\t\\t\\t\\t\\t\\t\\t\\t\\t\\t\\t\\t\\t\\t\\t\\t\\t\\t\\t\\t\\t\\t\\t\\t\\t\\t\\t\\t\\t\\t\\t\\t\\t\\n',\n",
       "       '@gb|KC765208.1|:1-279_E_coli_strain_07E01422_CRISPR2a\\tGCCTGACATTGCAGACGTTACAAATTGAGAGG\\t\\t\\t\\t\\t\\t\\t\\t\\t\\t\\t\\t\\t\\t\\t\\t\\t\\t\\t\\t\\t\\t\\t\\t\\t\\t\\t\\t\\t\\t\\t\\t\\t\\t\\t\\t\\t\\t\\n',\n",
       "       '@gb|KC765390.1|:97-323_E_coli_strain_96-0876_CRISPR2a\\tTACGTGAAGAATATTTGCAACACCCGCAAGAA\\t\\t\\t\\t\\t\\t\\t\\t\\t\\t\\t\\t\\t\\t\\t\\t\\t\\t\\t\\t\\t\\t\\t\\t\\t\\t\\t\\t\\t\\t\\t\\t\\t\\t\\t\\t\\t\\t\\n',\n",
       "       '@gi|675817924:258163-258389_E_coli_StOlav104_scaffold-35\\tTAAGCGATATCCATCATCGCATCCAGTGCGCC\\t\\t\\t\\t\\t\\t\\t\\t\\t\\t\\t\\t\\t\\t\\t\\t\\t\\t\\t\\t\\t\\t\\t\\t\\t\\t\\t\\t\\t\\t\\t\\t\\t\\t\\t\\t\\t\\t\\n',\n",
       "       '@gb|KF523230.1|:47-273_E_coli_strain_UMD137_CRISPR1\\tTAAGTGATATCCATCATCGCATCCAGTGCGCC\\t\\t\\t\\t\\t\\t\\t\\t\\t\\t\\t\\t\\t\\t\\t\\t\\t\\t\\t\\t\\t\\t\\t\\t\\t\\t\\t\\t\\t\\t\\t\\t\\t\\t\\t\\t\\t\\t\\n',\n",
       "       '@gi|222031834:2879932-2880160_E_coli_LF82\\tATATCCGGTTTTTGCTGGTGGGCCGCGCCGTT\\t\\t\\t\\t\\t\\t\\t\\t\\t\\t\\t\\t\\t\\t\\t\\t\\t\\t\\t\\t\\t\\t\\t\\t\\t\\t\\t\\t\\t\\t\\t\\t\\t\\t\\t\\t\\t\\t\\n',\n",
       "       '@gb|CP012635.1|:1105816-1106044_E_coli_strain_SF-088\\tATATCCGGTTTTTGCTGGTGGGCCGCGCCGTT\\t\\t\\t\\t\\t\\t\\t\\t\\t\\t\\t\\t\\t\\t\\t\\t\\t\\t\\t\\t\\t\\t\\t\\t\\t\\t\\t\\t\\t\\t\\t\\t\\t\\t\\t\\t\\t\\t\\n',\n",
       "       '@gb|CP014314.1|:286752-287040_E_coli_strain_JEONG-1266\\tCTCGACTTTAATTTTTTCGCTGCCCGCTTTTG\\t\\t\\t\\t\\t\\t\\t\\t\\t\\t\\t\\t\\t\\t\\t\\t\\t\\t\\t\\t\\t\\t\\t\\t\\t\\t\\t\\t\\t\\t\\t\\t\\t\\t\\t\\t\\t\\t\\n',\n",
       "       '@gb|FJ232366.1|:1-90_E_coli_strain_ECOR43_CRISPR\\tATCGTTCTTGATGCCATGGTGGCGTGTAAGCC\\t\\t\\t\\t\\t\\t\\t\\t\\t\\t\\t\\t\\t\\t\\t\\t\\t\\t\\t\\t\\t\\t\\t\\t\\t\\t\\t\\t\\t\\t\\t\\t\\t\\t\\t\\t\\t\\t\\n',\n",
       "       '@gb|KC765398.1|:1-262_E_coli_strain_96-1535_CRISPR2a\\tAACATCGGAAACGGCTTCGCGGCGGCGGCGTC\\t\\t\\t\\t\\t\\t\\t\\t\\t\\t\\t\\t\\t\\t\\t\\t\\t\\t\\t\\t\\t\\t\\t\\t\\t\\t\\t\\t\\t\\t\\t\\t\\t\\t\\t\\t\\t\\t\\n',\n",
       "       '@gb|KC765166.1|:95-358_E_coli_strain_PA7_CRISPR2a\\tCTCGACTTTAATTTTTTCGCTGCCCGCTTTTG\\t\\t\\t\\t\\t\\t\\t\\t\\t\\t\\t\\t\\t\\t\\t\\t\\t\\t\\t\\t\\t\\t\\t\\t\\t\\t\\t\\t\\t\\t\\t\\t\\t\\t\\t\\t\\t\\t\\n',\n",
       "       '@gb|CP001164.1|:3728424-3728712_E_coli_O157:H7_str._EC4115\\tCTCGACTTTAATTTTTTCGCTGCCCGCTTTTG\\t\\t\\t\\t\\t\\t\\t\\t\\t\\t\\t\\t\\t\\t\\t\\t\\t\\t\\t\\t\\t\\t\\t\\t\\t\\t\\t\\t\\t\\t\\t\\t\\t\\t\\t\\t\\t\\t\\n',\n",
       "       '@gb|CP001969.1|:3209203-3209431_E_coli_IHE3034\\tATATCCGGTTTTTGCTGGTGGGCCGCGCCGTT\\t\\t\\t\\t\\t\\t\\t\\t\\t\\t\\t\\t\\t\\t\\t\\t\\t\\t\\t\\t\\t\\t\\t\\t\\t\\t\\t\\t\\t\\t\\t\\t\\t\\t\\t\\t\\t\\t\\n',\n",
       "       '@gi|568397660|gb|KF523230.1|_E_coli_strain_UMD137_CRISPR1\\tTAAGTGATATCCATCATCGCATCCAGTGCGCC\\t\\t\\t\\t\\t\\t\\t\\t\\t\\t\\t\\t\\t\\t\\t\\t\\t\\t\\t\\t\\t\\t\\t\\t\\t\\t\\t\\t\\t\\t\\t\\t\\t\\t\\t\\t\\t\\t\\n',\n",
       "       '@gi|528889775|gb|KC765636.1|_E_coli_strain_96-0611_CRISPR1\\tAAGCAGTTAGCAAAAAAACAGCGAATTGAAAA\\t\\t\\t\\t\\t\\t\\t\\t\\t\\t\\t\\t\\t\\t\\t\\t\\t\\t\\t\\t\\t\\t\\t\\t\\t\\t\\t\\t\\t\\t\\t\\t\\t\\t\\t\\t\\t\\t\\n',\n",
       "       '@gi|329665267|gb|JF495882.1|_E_coli_strain_IAI21_CRISPR1\\tACATGAATGTCGGTTCAGACCGTGTTTTTACC\\t\\t\\t\\t\\t\\t\\t\\t\\t\\t\\t\\t\\t\\t\\t\\t\\t\\t\\t\\t\\t\\t\\t\\t\\t\\t\\t\\t\\t\\t\\t\\t\\t\\t\\t\\t\\t\\t\\n',\n",
       "       '@gi|329665219|gb|JF495834.1|_E_coli_strain_641_CRISPR1\\tACGCGCGTACCGGATCGCGGACAACAAATTGC\\t\\t\\t\\t\\t\\t\\t\\t\\t\\t\\t\\t\\t\\t\\t\\t\\t\\t\\t\\t\\t\\t\\t\\t\\t\\t\\t\\t\\t\\t\\t\\t\\t\\t\\t\\t\\t\\t\\n',\n",
       "       '@gi|568397289|gb|KF522859.1|_E_coli_strain_95.3322_CRISPR2\\tATATCCGGTTTTTGCTGGTGGGCCGCGCCGTT\\t\\t\\t\\t\\t\\t\\t\\t\\t\\t\\t\\t\\t\\t\\t\\t\\t\\t\\t\\t\\t\\t\\t\\t\\t\\t\\t\\t\\t\\t\\t\\t\\t\\t\\t\\t\\t\\t\\n',\n",
       "       '@gi|329665579|gb|JF496195.1|_E_coli_strain_R436_CRISPR2\\tATATCCGGTTTTTGCTGGTGGGCCGCGCCGTT\\t\\t\\t\\t\\t\\t\\t\\t\\t\\t\\t\\t\\t\\t\\t\\t\\t\\t\\t\\t\\t\\t\\t\\t\\t\\t\\t\\t\\t\\t\\t\\t\\t\\t\\t\\t\\t\\t\\n',\n",
       "       '@gi|329665571|gb|JF496187.1|_E_coli_strain_R402_CRISPR2\\tATATCCGGTTTTTGCTGGTGGGCCGCGCCGTT\\t\\t\\t\\t\\t\\t\\t\\t\\t\\t\\t\\t\\t\\t\\t\\t\\t\\t\\t\\t\\t\\t\\t\\t\\t\\t\\t\\t\\t\\t\\t\\t\\t\\t\\t\\t\\t\\t\\n',\n",
       "       '@gi|329665564|gb|JF496180.1|_E_coli_strain_R370_CRISPR2\\tATATCCGGTTTTTGCTGGTGGGCCGCGCCGTT\\t\\t\\t\\t\\t\\t\\t\\t\\t\\t\\t\\t\\t\\t\\t\\t\\t\\t\\t\\t\\t\\t\\t\\t\\t\\t\\t\\t\\t\\t\\t\\t\\t\\t\\t\\t\\t\\t\\n',\n",
       "       '@gi|329665560|gb|JF496176.1|_E_coli_strain_R355_CRISPR2\\tATATCCGGTTTTTGCTGGTGGGCCGCGCCGTT\\t\\t\\t\\t\\t\\t\\t\\t\\t\\t\\t\\t\\t\\t\\t\\t\\t\\t\\t\\t\\t\\t\\t\\t\\t\\t\\t\\t\\t\\t\\t\\t\\t\\t\\t\\t\\t\\t\\n',\n",
       "       '@gi|329665556|gb|JF496172.1|_E_coli_strain_R288_CRISPR2\\tATATCCGGTTTTTGCTGGTGGGCCGCGCCGTT\\t\\t\\t\\t\\t\\t\\t\\t\\t\\t\\t\\t\\t\\t\\t\\t\\t\\t\\t\\t\\t\\t\\t\\t\\t\\t\\t\\t\\t\\t\\t\\t\\t\\t\\t\\t\\t\\t\\n',\n",
       "       '@gi|329665541|gb|JF496157.1|_E_coli_strain_R199_CRISPR2\\tATATCCGGTTTTTGCTGGTGGGCCGCGCCGTT\\t\\t\\t\\t\\t\\t\\t\\t\\t\\t\\t\\t\\t\\t\\t\\t\\t\\t\\t\\t\\t\\t\\t\\t\\t\\t\\t\\t\\t\\t\\t\\t\\t\\t\\t\\t\\t\\t\\n',\n",
       "       '@gi|329665533|gb|JF496149.1|_E_coli_strain_R105_CRISPR2\\tATATCCGGTTTTTGCTGGTGGGCCGCGCCGTT\\t\\t\\t\\t\\t\\t\\t\\t\\t\\t\\t\\t\\t\\t\\t\\t\\t\\t\\t\\t\\t\\t\\t\\t\\t\\t\\t\\t\\t\\t\\t\\t\\t\\t\\t\\t\\t\\t\\n',\n",
       "       '@gi|329665528|gb|JF496144.1|_E_coli_strain_R75_CRISPR2\\tATATCCGGTTTTTGCTGGTGGGCCGCGCCGTT\\t\\t\\t\\t\\t\\t\\t\\t\\t\\t\\t\\t\\t\\t\\t\\t\\t\\t\\t\\t\\t\\t\\t\\t\\t\\t\\t\\t\\t\\t\\t\\t\\t\\t\\t\\t\\t\\t\\n',\n",
       "       '@gi|329665524|gb|JF496140.1|_E_coli_strain_R56_CRISPR2\\tATATCCGGTTTTTGCTGGTGGGCCGCGCCGTT\\t\\t\\t\\t\\t\\t\\t\\t\\t\\t\\t\\t\\t\\t\\t\\t\\t\\t\\t\\t\\t\\t\\t\\t\\t\\t\\t\\t\\t\\t\\t\\t\\t\\t\\t\\t\\t\\t\\n',\n",
       "       '@gi|329665518|gb|JF496134.1|_E_coli_strain_IAI76_CRISPR2\\tATATCCGGTTTTTGCTGGTGGGCCGCGCCGTT\\t\\t\\t\\t\\t\\t\\t\\t\\t\\t\\t\\t\\t\\t\\t\\t\\t\\t\\t\\t\\t\\t\\t\\t\\t\\t\\t\\t\\t\\t\\t\\t\\t\\t\\t\\t\\t\\t\\n',\n",
       "       '@gi|329665517|gb|JF496133.1|_E_coli_strain_IAI74_CRISPR2\\tATATCCGGTTTTTGCTGGTGGGCCGCGCCGTT\\t\\t\\t\\t\\t\\t\\t\\t\\t\\t\\t\\t\\t\\t\\t\\t\\t\\t\\t\\t\\t\\t\\t\\t\\t\\t\\t\\t\\t\\t\\t\\t\\t\\t\\t\\t\\t\\t\\n',\n",
       "       '@gi|329665516|gb|JF496132.1|_E_coli_strain_IAI72_CRISPR2\\tATATCCGGTTTTTGCTGGTGGGCCGCGCCGTT\\t\\t\\t\\t\\t\\t\\t\\t\\t\\t\\t\\t\\t\\t\\t\\t\\t\\t\\t\\t\\t\\t\\t\\t\\t\\t\\t\\t\\t\\t\\t\\t\\t\\t\\t\\t\\t\\t\\n',\n",
       "       '@gi|329665515|gb|JF496131.1|_E_coli_strain_IAI61_CRISPR2\\tATATCCGGTTTTTGCTGGTGGGCCGCGCCGTT\\t\\t\\t\\t\\t\\t\\t\\t\\t\\t\\t\\t\\t\\t\\t\\t\\t\\t\\t\\t\\t\\t\\t\\t\\t\\t\\t\\t\\t\\t\\t\\t\\t\\t\\t\\t\\t\\t\\n',\n",
       "       '@gi|329665514|gb|JF496130.1|_E_coli_strain_IAI60_CRISPR2\\tATATCCGGTTTTTGCTGGTGGGCCGCGCCGTT\\t\\t\\t\\t\\t\\t\\t\\t\\t\\t\\t\\t\\t\\t\\t\\t\\t\\t\\t\\t\\t\\t\\t\\t\\t\\t\\t\\t\\t\\t\\t\\t\\t\\t\\t\\t\\t\\t\\n',\n",
       "       '@gi|329665513|gb|JF496129.1|_E_coli_strain_IAI59_CRISPR2\\tATATCCGGTTTTTGCTGGTGGGCCGCGCCGTT\\t\\t\\t\\t\\t\\t\\t\\t\\t\\t\\t\\t\\t\\t\\t\\t\\t\\t\\t\\t\\t\\t\\t\\t\\t\\t\\t\\t\\t\\t\\t\\t\\t\\t\\t\\t\\t\\t\\n',\n",
       "       '@gi|329665511|gb|JF496127.1|_E_coli_strain_IAI56_CRISPR2\\tATATCCGGTTTTTGCTGGTGGGCCGCGCCGTT\\t\\t\\t\\t\\t\\t\\t\\t\\t\\t\\t\\t\\t\\t\\t\\t\\t\\t\\t\\t\\t\\t\\t\\t\\t\\t\\t\\t\\t\\t\\t\\t\\t\\t\\t\\t\\t\\t\\n',\n",
       "       '@gi|329665509|gb|JF496125.1|_E_coli_strain_IAI49_CRISPR2\\tATATCCGGTTTTTGCTGGTGGGCCGCGCCGTT\\t\\t\\t\\t\\t\\t\\t\\t\\t\\t\\t\\t\\t\\t\\t\\t\\t\\t\\t\\t\\t\\t\\t\\t\\t\\t\\t\\t\\t\\t\\t\\t\\t\\t\\t\\t\\t\\t\\n',\n",
       "       '@gi|329665508|gb|JF496124.1|_E_coli_strain_IAI47_CRISPR2\\tATATCCGGTTTTTGCTGGTGGGCCGCGCCGTT\\t\\t\\t\\t\\t\\t\\t\\t\\t\\t\\t\\t\\t\\t\\t\\t\\t\\t\\t\\t\\t\\t\\t\\t\\t\\t\\t\\t\\t\\t\\t\\t\\t\\t\\t\\t\\t\\t\\n',\n",
       "       '@gi|329665507|gb|JF496123.1|_E_coli_strain_IAI46_CRISPR2\\tATATCCGGTTTTTGCTGGTGGGCCGCGCCGTT\\t\\t\\t\\t\\t\\t\\t\\t\\t\\t\\t\\t\\t\\t\\t\\t\\t\\t\\t\\t\\t\\t\\t\\t\\t\\t\\t\\t\\t\\t\\t\\t\\t\\t\\t\\t\\t\\t\\n',\n",
       "       '@gi|329665506|gb|JF496122.1|_E_coli_strain_IAI38_CRISPR2\\tATATCCGGTTTTTGCTGGTGGGCCGCGCCGTT\\t\\t\\t\\t\\t\\t\\t\\t\\t\\t\\t\\t\\t\\t\\t\\t\\t\\t\\t\\t\\t\\t\\t\\t\\t\\t\\t\\t\\t\\t\\t\\t\\t\\t\\t\\t\\t\\t\\n',\n",
       "       '@gi|329665493|gb|JF496109.1|_E_coli_strain_B9J2_CRISPR2\\tATATCCGGTTTTTGCTGGTGGGCCGCGCCGTT\\t\\t\\t\\t\\t\\t\\t\\t\\t\\t\\t\\t\\t\\t\\t\\t\\t\\t\\t\\t\\t\\t\\t\\t\\t\\t\\t\\t\\t\\t\\t\\t\\t\\t\\t\\t\\t\\t\\n',\n",
       "       '@gi|329665487|gb|JF496103.1|_E_coli_strain_B5J14_CRISPR2\\tATATCCGGTTTTTGCTGGTGGGCCGCGCCGTT\\t\\t\\t\\t\\t\\t\\t\\t\\t\\t\\t\\t\\t\\t\\t\\t\\t\\t\\t\\t\\t\\t\\t\\t\\t\\t\\t\\t\\t\\t\\t\\t\\t\\t\\t\\t\\t\\t\\n',\n",
       "       '@gi|329665485|gb|JF496101.1|_E_coli_strain_B4J4_CRISPR2\\tATATCCGGTTTTTGCTGGTGGGCCGCGCCGTT\\t\\t\\t\\t\\t\\t\\t\\t\\t\\t\\t\\t\\t\\t\\t\\t\\t\\t\\t\\t\\t\\t\\t\\t\\t\\t\\t\\t\\t\\t\\t\\t\\t\\t\\t\\t\\t\\t\\n',\n",
       "       '@gi|329665484|gb|JF496100.1|_E_coli_strain_B4A1_CRISPR2\\tATATCCGGTTTTTGCTGGTGGGCCGCGCCGTT\\t\\t\\t\\t\\t\\t\\t\\t\\t\\t\\t\\t\\t\\t\\t\\t\\t\\t\\t\\t\\t\\t\\t\\t\\t\\t\\t\\t\\t\\t\\t\\t\\t\\t\\t\\t\\t\\t\\n',\n",
       "       '@gi|329665483|gb|JF496099.1|_E_coli_strain_B3J4_CRISPR2\\tATATCCGGTTTTTGCTGGTGGGCCGCGCCGTT\\t\\t\\t\\t\\t\\t\\t\\t\\t\\t\\t\\t\\t\\t\\t\\t\\t\\t\\t\\t\\t\\t\\t\\t\\t\\t\\t\\t\\t\\t\\t\\t\\t\\t\\t\\t\\t\\t\\n',\n",
       "       '@gi|329665482|gb|JF496098.1|_E_coli_strain_B3A1_CRISPR2\\tATATCCGGTTTTTGCTGGTGGGCCGCGCCGTT\\t\\t\\t\\t\\t\\t\\t\\t\\t\\t\\t\\t\\t\\t\\t\\t\\t\\t\\t\\t\\t\\t\\t\\t\\t\\t\\t\\t\\t\\t\\t\\t\\t\\t\\t\\t\\t\\t\\n',\n",
       "       '@gi|329665476|gb|JF496091.1|_E_coli_strain_B13J10_CRISPR2\\tATATCCGGTTTTTGCTGGTGGGCCGCGCCGTT\\t\\t\\t\\t\\t\\t\\t\\t\\t\\t\\t\\t\\t\\t\\t\\t\\t\\t\\t\\t\\t\\t\\t\\t\\t\\t\\t\\t\\t\\t\\t\\t\\t\\t\\t\\t\\t\\t\\n',\n",
       "       '@gi|329665474|gb|JF496089.1|_E_coli_strain_B12I31_CRISPR2\\tATATCCGGTTTTTGCTGGTGGGCCGCGCCGTT\\t\\t\\t\\t\\t\\t\\t\\t\\t\\t\\t\\t\\t\\t\\t\\t\\t\\t\\t\\t\\t\\t\\t\\t\\t\\t\\t\\t\\t\\t\\t\\t\\t\\t\\t\\t\\t\\t\\n',\n",
       "       '@gi|329665472|gb|JF496087.1|_E_coli_strain_B11J22_CRISPR2\\tATATCCGGTTTTTGCTGGTGGGCCGCGCCGTT\\t\\t\\t\\t\\t\\t\\t\\t\\t\\t\\t\\t\\t\\t\\t\\t\\t\\t\\t\\t\\t\\t\\t\\t\\t\\t\\t\\t\\t\\t\\t\\t\\t\\t\\t\\t\\t\\t\\n',\n",
       "       '@gi|329665471|gb|JF496086.1|_E_coli_strain_B11F16_CRISPR2\\tATATCCGGTTTTTGCTGGTGGGCCGCGCCGTT\\t\\t\\t\\t\\t\\t\\t\\t\\t\\t\\t\\t\\t\\t\\t\\t\\t\\t\\t\\t\\t\\t\\t\\t\\t\\t\\t\\t\\t\\t\\t\\t\\t\\t\\t\\t\\t\\t\\n',\n",
       "       '@gi|329665468|gb|JF496083.1|_E_coli_strain_727_CRISPR2\\tATATCCGGTTTTTGCTGGTGGGCCGCGCCGTT\\t\\t\\t\\t\\t\\t\\t\\t\\t\\t\\t\\t\\t\\t\\t\\t\\t\\t\\t\\t\\t\\t\\t\\t\\t\\t\\t\\t\\t\\t\\t\\t\\t\\t\\t\\t\\t\\t\\n',\n",
       "       '@gi|329665462|gb|JF496077.1|_E_coli_strain_712_CRISPR2\\tATATCCGGTTTTTGCTGGTGGGCCGCGCCGTT\\t\\t\\t\\t\\t\\t\\t\\t\\t\\t\\t\\t\\t\\t\\t\\t\\t\\t\\t\\t\\t\\t\\t\\t\\t\\t\\t\\t\\t\\t\\t\\t\\t\\t\\t\\t\\t\\t\\n',\n",
       "       '@gi|329665450|gb|JF496065.1|_E_coli_strain_661_CRISPR2\\tATATCCGGTTTTTGCTGGTGGGCCGCGCCGTT\\t\\t\\t\\t\\t\\t\\t\\t\\t\\t\\t\\t\\t\\t\\t\\t\\t\\t\\t\\t\\t\\t\\t\\t\\t\\t\\t\\t\\t\\t\\t\\t\\t\\t\\t\\t\\t\\t\\n',\n",
       "       '@gi|329665445|gb|JF496060.1|_E_coli_strain_653_CRISPR2\\tATATCCGGTTTTTGCTGGTGGGCCGCGCCGTT\\t\\t\\t\\t\\t\\t\\t\\t\\t\\t\\t\\t\\t\\t\\t\\t\\t\\t\\t\\t\\t\\t\\t\\t\\t\\t\\t\\t\\t\\t\\t\\t\\t\\t\\t\\t\\t\\t\\n',\n",
       "       '@gi|329665444|gb|JF496059.1|_E_coli_strain_652_CRISPR2\\tATATCCGGTTTTTGCTGGTGGGCCGCGCCGTT\\t\\t\\t\\t\\t\\t\\t\\t\\t\\t\\t\\t\\t\\t\\t\\t\\t\\t\\t\\t\\t\\t\\t\\t\\t\\t\\t\\t\\t\\t\\t\\t\\t\\t\\t\\t\\t\\t\\n',\n",
       "       '@gi|329665426|gb|JF496041.1|_E_coli_strain_556_CRISPR2\\tATATCCGGTTTTTGCTGGTGGGCCGCGCCGTT\\t\\t\\t\\t\\t\\t\\t\\t\\t\\t\\t\\t\\t\\t\\t\\t\\t\\t\\t\\t\\t\\t\\t\\t\\t\\t\\t\\t\\t\\t\\t\\t\\t\\t\\t\\t\\t\\t\\n',\n",
       "       '@gi|329665425|gb|JF496040.1|_E_coli_strain_552_CRISPR2\\tATATCCGGTTTTTGCTGGTGGGCCGCGCCGTT\\t\\t\\t\\t\\t\\t\\t\\t\\t\\t\\t\\t\\t\\t\\t\\t\\t\\t\\t\\t\\t\\t\\t\\t\\t\\t\\t\\t\\t\\t\\t\\t\\t\\t\\t\\t\\t\\t\\n',\n",
       "       '@gi|329665417|gb|JF496032.1|_E_coli_strain_543_CRISPR2\\tATATCCGGTTTTTGCTGGTGGGCCGCGCCGTT\\t\\t\\t\\t\\t\\t\\t\\t\\t\\t\\t\\t\\t\\t\\t\\t\\t\\t\\t\\t\\t\\t\\t\\t\\t\\t\\t\\t\\t\\t\\t\\t\\t\\t\\t\\t\\t\\t\\n',\n",
       "       '@gi|329665412|gb|JF496027.1|_E_coli_strain_538_CRISPR2\\tATATCCGGTTTTTGCTGGTGGGCCGCGCCGTT\\t\\t\\t\\t\\t\\t\\t\\t\\t\\t\\t\\t\\t\\t\\t\\t\\t\\t\\t\\t\\t\\t\\t\\t\\t\\t\\t\\t\\t\\t\\t\\t\\t\\t\\t\\t\\t\\t\\n',\n",
       "       '@gi|329665411|gb|JF496026.1|_E_coli_strain_537_CRISPR2\\tATATCCGGTTTTTGCTGGTGGGCCGCGCCGTT\\t\\t\\t\\t\\t\\t\\t\\t\\t\\t\\t\\t\\t\\t\\t\\t\\t\\t\\t\\t\\t\\t\\t\\t\\t\\t\\t\\t\\t\\t\\t\\t\\t\\t\\t\\t\\t\\t\\n',\n",
       "       '@gi|329665408|gb|JF496023.1|_E_coli_strain_532_CRISPR2\\tATATCCGGTTTTTGCTGGTGGGCCGCGCCGTT\\t\\t\\t\\t\\t\\t\\t\\t\\t\\t\\t\\t\\t\\t\\t\\t\\t\\t\\t\\t\\t\\t\\t\\t\\t\\t\\t\\t\\t\\t\\t\\t\\t\\t\\t\\t\\t\\t\\n',\n",
       "       '@gi|329665403|gb|JF496018.1|_E_coli_strain_525_CRISPR2\\tATATCCGGTTTTTGCTGGTGGGCCGCGCCGTT\\t\\t\\t\\t\\t\\t\\t\\t\\t\\t\\t\\t\\t\\t\\t\\t\\t\\t\\t\\t\\t\\t\\t\\t\\t\\t\\t\\t\\t\\t\\t\\t\\t\\t\\t\\t\\t\\t\\n',\n",
       "       '@gi|329665390|gb|JF496005.1|_E_coli_strain_499_CRISPR2\\tAAGTTCGACAACTTAAAAAATGATAACAAGTC\\t\\t\\t\\t\\t\\t\\t\\t\\t\\t\\t\\t\\t\\t\\t\\t\\t\\t\\t\\t\\t\\t\\t\\t\\t\\t\\t\\t\\t\\t\\t\\t\\t\\t\\t\\t\\t\\t\\n',\n",
       "       '@gi|329665389|gb|JF496004.1|_E_coli_strain_497_CRISPR2\\tATATCCGGTTTTTGCTGGTGGGCCGCGCCGTT\\t\\t\\t\\t\\t\\t\\t\\t\\t\\t\\t\\t\\t\\t\\t\\t\\t\\t\\t\\t\\t\\t\\t\\t\\t\\t\\t\\t\\t\\t\\t\\t\\t\\t\\t\\t\\t\\t\\n',\n",
       "       '@gi|329665383|gb|JF495998.1|_E_coli_strain_356_CRISPR2\\tAAGTTCGACAACTTAAAAAATGATAACAAGTC\\t\\t\\t\\t\\t\\t\\t\\t\\t\\t\\t\\t\\t\\t\\t\\t\\t\\t\\t\\t\\t\\t\\t\\t\\t\\t\\t\\t\\t\\t\\t\\t\\t\\t\\t\\t\\t\\t\\n',\n",
       "       'ECOR24-2_Escherichia_coli_isolate_ECOR24_CRISPR2\\tTGCCCCAACCAGAAATAAATTTAGGGGATCTA\\t\\t\\t\\t\\t\\t\\t\\t\\t\\t\\t\\t\\t\\t\\t\\t\\t\\t\\t\\t\\t\\t\\t\\t\\t\\t\\t\\t\\t\\t\\t\\t\\t\\t\\t\\t\\t\\t\\n',\n",
       "       'ECOR13_Escherichia_coli_isolate_ECOR13_CRISPR1\\tATATCCTCCAGAACACGCGCCTCATTTCGACT\\t\\t\\t\\t\\t\\t\\t\\t\\t\\t\\t\\t\\t\\t\\t\\t\\t\\t\\t\\t\\t\\t\\t\\t\\t\\t\\t\\t\\t\\t\\t\\t\\t\\t\\t\\t\\t\\t\\n',\n",
       "       'ECOR4_Escherichia_coli_isolate_ECOR4_CRISPR1\\tACGCATATTATCGACGACTTCTTTTGCTTTGG\\t\\t\\t\\t\\t\\t\\t\\t\\t\\t\\t\\t\\t\\t\\t\\t\\t\\t\\t\\t\\t\\t\\t\\t\\t\\t\\t\\t\\t\\t\\t\\t\\t\\t\\t\\t\\t\\t\\n',\n",
       "       'ECOR24_Escherichia_coli_isolate_ECOR24_CRISPR1\\tAATGACGCTCGAGAACGGGCACTCATCTGCGT\\t\\t\\t\\t\\t\\t\\t\\t\\t\\t\\t\\t\\t\\t\\t\\t\\t\\t\\t\\t\\t\\t\\t\\t\\t\\t\\t\\t\\t\\t\\t\\t\\t\\t\\t\\t\\t\\t\\n',\n",
       "       '@gi|568397264|gb|KF522834.1|_E_coli_strain_H56909_CRISPR2\\tCTCGACTTTAATTTTTTCGCTGCCCGCTTTTG\\t\\t\\t\\t\\t\\t\\t\\t\\t\\t\\t\\t\\t\\t\\t\\t\\t\\t\\t\\t\\t\\t\\t\\t\\t\\t\\t\\t\\t\\t\\t\\t\\t\\t\\t\\t\\t\\t\\n',\n",
       "       '@gi|568397287|gb|KF522857.1|_E_coli_O157:H7_str._EDL933_CRISPR2\\tCTCGACTTTAATTTTTTCGCTGCCCGCTTTTG\\t\\t\\t\\t\\t\\t\\t\\t\\t\\t\\t\\t\\t\\t\\t\\t\\t\\t\\t\\t\\t\\t\\t\\t\\t\\t\\t\\t\\t\\t\\t\\t\\t\\t\\t\\t\\t\\t\\n',\n",
       "       '@gi|568397220|gb|KF522790.1|_E_coli_strain_EC4115_CRISPR2\\tCTCGACTTTAATTTTTTCGCTGCCCGCTTTTG\\t\\t\\t\\t\\t\\t\\t\\t\\t\\t\\t\\t\\t\\t\\t\\t\\t\\t\\t\\t\\t\\t\\t\\t\\t\\t\\t\\t\\t\\t\\t\\t\\t\\t\\t\\t\\t\\t\\n',\n",
       "       '@gi|568397164|gb|KF522734.1|_E_coli_strain_TW14359_CRISPR2\\tCTCGACTTTAATTTTTTCGCTGCCCGCTTTTG\\t\\t\\t\\t\\t\\t\\t\\t\\t\\t\\t\\t\\t\\t\\t\\t\\t\\t\\t\\t\\t\\t\\t\\t\\t\\t\\t\\t\\t\\t\\t\\t\\t\\t\\t\\t\\t\\t\\n',\n",
       "       '@gi|568397143|gb|KF522713.1|_E_coli_strain_XDN5789_CRISPR2\\tAACATCGGAAACGGCTTCGCGGCGGCGGCGTC\\t\\t\\t\\t\\t\\t\\t\\t\\t\\t\\t\\t\\t\\t\\t\\t\\t\\t\\t\\t\\t\\t\\t\\t\\t\\t\\t\\t\\t\\t\\t\\t\\t\\t\\t\\t\\t\\t\\n',\n",
       "       '@gi|568397191|gb|KF522761.1|_E_coli_strain_UMD135_CRISPR2\\tAACATCGGAAACGGCTTCGCGGCGGCGGCGTC\\t\\t\\t\\t\\t\\t\\t\\t\\t\\t\\t\\t\\t\\t\\t\\t\\t\\t\\t\\t\\t\\t\\t\\t\\t\\t\\t\\t\\t\\t\\t\\t\\t\\t\\t\\t\\t\\t\\n',\n",
       "       '@gi|568397171|gb|KF522741.1|_E_coli_strain_WT119-2_CRISPR2\\tATATACAGCAAACCTTCAGAATGCATTCCGGG\\t\\t\\t\\t\\t\\t\\t\\t\\t\\t\\t\\t\\t\\t\\t\\t\\t\\t\\t\\t\\t\\t\\t\\t\\t\\t\\t\\t\\t\\t\\t\\t\\t\\t\\t\\t\\t\\t\\n',\n",
       "       '@gi|329665520|gb|JF496136.1|_E_coli_strain_R42_CRISPR2\\tATATACAGCAAACCTTCAGAATGCATTCCGGG\\t\\t\\t\\t\\t\\t\\t\\t\\t\\t\\t\\t\\t\\t\\t\\t\\t\\t\\t\\t\\t\\t\\t\\t\\t\\t\\t\\t\\t\\t\\t\\t\\t\\t\\t\\t\\t\\t\\n',\n",
       "       '@gi|568397204|gb|KF522774.1|_E_coli_strain_UMD173_CRISPR2\\tAACATCGGAAACGGCTTCGCGGCGGCGGCGTC\\t\\t\\t\\t\\t\\t\\t\\t\\t\\t\\t\\t\\t\\t\\t\\t\\t\\t\\t\\t\\t\\t\\t\\t\\t\\t\\t\\t\\t\\t\\t\\t\\t\\t\\t\\t\\t\\t\\n',\n",
       "       '@gi|329665539|gb|JF496155.1|_E_coli_strain_R192_CRISPR2\\tGAAAAATGCATACGATTCGAGCACCAGTTTGG\\t\\t\\t\\t\\t\\t\\t\\t\\t\\t\\t\\t\\t\\t\\t\\t\\t\\t\\t\\t\\t\\t\\t\\t\\t\\t\\t\\t\\t\\t\\t\\t\\t\\t\\t\\t\\t\\t\\n',\n",
       "       '@gi|329665497|gb|JF496113.1|_E_coli_strain_IAI5_CRISPR2\\tCTGCGGTGATTTCCTGGAATGTTTTGCCGGAC\\t\\t\\t\\t\\t\\t\\t\\t\\t\\t\\t\\t\\t\\t\\t\\t\\t\\t\\t\\t\\t\\t\\t\\t\\t\\t\\t\\t\\t\\t\\t\\t\\t\\t\\t\\t\\t\\t\\n',\n",
       "       '@gi|568397262|gb|KF522832.1|_E_coli_strain_FDA413_CRISPR2\\tCTCGACTTTAATTTTTTCGCTGCCCGCTTTTG\\t\\t\\t\\t\\t\\t\\t\\t\\t\\t\\t\\t\\t\\t\\t\\t\\t\\t\\t\\t\\t\\t\\t\\t\\t\\t\\t\\t\\t\\t\\t\\t\\t\\t\\t\\t\\t\\t\\n'],\n",
       "      dtype='<U8049')"
      ]
     },
     "execution_count": 252,
     "metadata": {},
     "output_type": "execute_result"
    }
   ],
   "source": [
    "np.array(db_lines)[np.where(np.array([len(x) for x in db]) == 1)[0]]"
   ]
  },
  {
   "cell_type": "code",
   "execution_count": 260,
   "metadata": {
    "scrolled": true
   },
   "outputs": [
    {
     "name": "stderr",
     "output_type": "stream",
     "text": [
      "100%|██████████| 3058/3058 [00:00<00:00, 461722.22it/s]\n"
     ]
    }
   ],
   "source": [
    "all_spacers = set()\n",
    "\n",
    "for chain in tqdm(db):\n",
    "    for spacer in chain:\n",
    "        all_spacers.add(spacer)"
   ]
  },
  {
   "cell_type": "code",
   "execution_count": 261,
   "metadata": {
    "collapsed": true
   },
   "outputs": [],
   "source": [
    "all_spacers_list = [x[:32] for x in list(all_spacers) if len(x) < 40]"
   ]
  },
  {
   "cell_type": "code",
   "execution_count": 265,
   "metadata": {},
   "outputs": [
    {
     "name": "stderr",
     "output_type": "stream",
     "text": [
      "1748it [00:00, 49390.29it/s]\n"
     ]
    }
   ],
   "source": [
    "X_db = np.zeros((len(all_spacers_list), 32 * 4))\n",
    "\n",
    "for i, spacer in tqdm(enumerate(all_spacers_list)):\n",
    "    X_db[i,:] = process_spacer(spacer)"
   ]
  },
  {
   "cell_type": "code",
   "execution_count": 35,
   "metadata": {
    "collapsed": true
   },
   "outputs": [],
   "source": [
    "from sklearn.metrics import log_loss"
   ]
  },
  {
   "cell_type": "code",
   "execution_count": 199,
   "metadata": {},
   "outputs": [
    {
     "data": {
      "text/plain": [
       "387.92068499768482"
      ]
     },
     "execution_count": 199,
     "metadata": {},
     "output_type": "execute_result"
    }
   ],
   "source": [
    "log_loss(X[:1], v_test_fn(X[:1])) "
   ]
  },
  {
   "cell_type": "code",
   "execution_count": 150,
   "metadata": {
    "collapsed": true
   },
   "outputs": [],
   "source": [
    "np.savez(\"./VAE_weights/97_noize_70_hid_10_ES1\", *lasagne.layers.get_all_param_values(vl_output))"
   ]
  },
  {
   "cell_type": "code",
   "execution_count": 282,
   "metadata": {},
   "outputs": [
    {
     "data": {
      "image/png": "[encoded data removed]",
      "text/plain": [
       "<matplotlib.figure.Figure at 0x7f4e74341ac8>"
      ]
     },
     "metadata": {},
     "output_type": "display_data"
    }
   ],
   "source": [
    "\n",
    "fig, ax = plt.subplots()\n",
    "fig.set_size_inches(20,10)\n",
    "ax.bar(np.arange(32 * 4), X_db[1:2][0][:], width = 1, alpha = 0.5)\n",
    "ax.bar(np.arange(32 * 4), v_test_fn(X_db[1:2])[0][:], width = 1, alpha = 0.5)\n",
    "plt.show()"
   ]
  },
  {
   "cell_type": "code",
   "execution_count": null,
   "metadata": {
    "collapsed": true
   },
   "outputs": [],
   "source": []
  },
  {
   "cell_type": "markdown",
   "metadata": {},
   "source": [
    "## Get inside "
   ]
  },
  {
   "cell_type": "code",
   "execution_count": 106,
   "metadata": {
    "collapsed": true
   },
   "outputs": [],
   "source": [
    "Z = internal(X_es_3)"
   ]
  },
  {
   "cell_type": "code",
   "execution_count": 325,
   "metadata": {
    "collapsed": true
   },
   "outputs": [],
   "source": [
    "Z_es_3 = internal(X_es_3)\n",
    "Z_ans_es_3 = internal(X_ans_es_3)"
   ]
  },
  {
   "cell_type": "code",
   "execution_count": 286,
   "metadata": {
    "collapsed": true
   },
   "outputs": [],
   "source": [
    "Z_noized = internal(X_noised)\n",
    "Z = internal(X)"
   ]
  },
  {
   "cell_type": "markdown",
   "metadata": {},
   "source": [
    "на уникальных"
   ]
  },
  {
   "cell_type": "code",
   "execution_count": 334,
   "metadata": {
    "scrolled": true
   },
   "outputs": [
    {
     "data": {
      "image/png": "[encoded data removed]",
      "text/plain": [
       "<matplotlib.figure.Figure at 0x7f4e945e4048>"
      ]
     },
     "metadata": {},
     "output_type": "display_data"
    }
   ],
   "source": [
    "plt.scatter(t_noized[:, 0], t_noized[:,1], c = 'y')\n",
    "plt.scatter(t_ans[:18, 0], t_ans[:18,1], c= 'b')\n",
    "plt.scatter(t_ans[18:, 0], t_ans[18:,1], c = 'r')\n",
    "plt.show()"
   ]
  },
  {
   "cell_type": "code",
   "execution_count": 346,
   "metadata": {
    "collapsed": true
   },
   "outputs": [],
   "source": [
    "mask = np.logical_and(t_noized[:, 0] > 0, t_noized[:, 1] < -20)"
   ]
  },
  {
   "cell_type": "code",
   "execution_count": 348,
   "metadata": {},
   "outputs": [
    {
     "data": {
      "image/png": "[encoded data removed]",
      "text/plain": [
       "<matplotlib.figure.Figure at 0x7f4e746087b8>"
      ]
     },
     "metadata": {},
     "output_type": "display_data"
    }
   ],
   "source": [
    "plt.scatter(t_noized[:, 0][mask], t_noized[:,1][mask], c = 'y')\n",
    "plt.scatter(t_ans[:18, 0], t_ans[:18,1], c= 'b')\n",
    "#plt.scatter(t_ans[18:, 0], t_ans[18:,1], c = 'r')\n",
    "plt.show()"
   ]
  },
  {
   "cell_type": "code",
   "execution_count": 354,
   "metadata": {},
   "outputs": [
    {
     "data": {
      "image/png": "[encoded data removed]",
      "text/plain": [
       "<matplotlib.figure.Figure at 0x7f4e740ebc88>"
      ]
     },
     "metadata": {},
     "output_type": "display_data"
    }
   ],
   "source": [
    "plt.scatter(t_noized_1[:, 0], t_noized_1[:,1], c = 'y')\n",
    "plt.scatter(t_ans_1[:18, 0], t_ans_1[:18,1], c= 'b')\n",
    "#plt.scatter(t_ans[18:, 0], t_ans[18:,1], c = 'r')\n",
    "plt.show()"
   ]
  },
  {
   "cell_type": "code",
   "execution_count": 295,
   "metadata": {},
   "outputs": [
    {
     "data": {
      "image/png": "[encoded data removed]",
      "text/plain": [
       "<matplotlib.figure.Figure at 0x7f4e9587cbe0>"
      ]
     },
     "metadata": {},
     "output_type": "display_data"
    }
   ],
   "source": [
    "plt.scatter(t_noized[:, 0], t_noized[:,1])\n",
    "plt.scatter(t_ans[:, 0]  , t_ans[:,1])\n",
    "plt.show()"
   ]
  },
  {
   "cell_type": "code",
   "execution_count": null,
   "metadata": {
    "collapsed": true
   },
   "outputs": [],
   "source": []
  },
  {
   "cell_type": "code",
   "execution_count": 292,
   "metadata": {},
   "outputs": [
    {
     "data": {
      "image/png": "[encoded data removed]",
      "text/plain": [
       "<matplotlib.figure.Figure at 0x7f4e750cbd30>"
      ]
     },
     "metadata": {},
     "output_type": "display_data"
    }
   ],
   "source": [
    "plt.scatter(t_db[:, 0], t_db[:,1])\n",
    "#plt.scatter(Z[:, 0]  , Z[:,1])\n",
    "plt.show()"
   ]
  },
  {
   "cell_type": "code",
   "execution_count": 205,
   "metadata": {},
   "outputs": [
    {
     "data": {
      "image/png": "[encoded data removed]",
      "text/plain": [
       "<matplotlib.figure.Figure at 0x7f4e747c8f28>"
      ]
     },
     "metadata": {},
     "output_type": "display_data"
    }
   ],
   "source": [
    "plt.scatter(Z_noized[:, 0], Z_noized[:,1])\n",
    "plt.scatter(Z[:, 0]  , Z[:,1])\n",
    "plt.show()"
   ]
  },
  {
   "cell_type": "markdown",
   "metadata": {},
   "source": [
    "each 200"
   ]
  },
  {
   "cell_type": "code",
   "execution_count": 147,
   "metadata": {},
   "outputs": [
    {
     "data": {
      "image/png": "[encoded data removed]",
      "text/plain": [
       "<matplotlib.figure.Figure at 0x7f4e7495bc88>"
      ]
     },
     "metadata": {},
     "output_type": "display_data"
    }
   ],
   "source": [
    "plt.scatter(t_noized[:, 0], t_noized[:,1])\n",
    "plt.scatter(t_ans[:, 0]  , t_ans[:,1])\n",
    "plt.show()"
   ]
  },
  {
   "cell_type": "markdown",
   "metadata": {},
   "source": [
    "each 50"
   ]
  },
  {
   "cell_type": "code",
   "execution_count": 145,
   "metadata": {
    "scrolled": true
   },
   "outputs": [
    {
     "data": {
      "image/png": "[encoded data removed]",
      "text/plain": [
       "<matplotlib.figure.Figure at 0x7f4e7495b048>"
      ]
     },
     "metadata": {},
     "output_type": "display_data"
    }
   ],
   "source": [
    "plt.scatter(t_noized[:, 0], t_noized[:,1])\n",
    "plt.scatter(t_ans[:, 0]  , t_ans[:,1], c = 'R')\n",
    "plt.show()"
   ]
  },
  {
   "cell_type": "markdown",
   "metadata": {},
   "source": [
    "each 20"
   ]
  },
  {
   "cell_type": "code",
   "execution_count": 149,
   "metadata": {},
   "outputs": [
    {
     "data": {
      "image/png": "[encoded data removed]",
      "text/plain": [
       "<matplotlib.figure.Figure at 0x7f4e74c2ee10>"
      ]
     },
     "metadata": {},
     "output_type": "display_data"
    }
   ],
   "source": [
    "plt.scatter(t_noized[:, 0], t_noized[:,1])\n",
    "plt.scatter(t_ans[:, 0]  , t_ans[:,1])\n",
    "plt.show()"
   ]
  },
  {
   "cell_type": "markdown",
   "metadata": {},
   "source": [
    "each 10"
   ]
  },
  {
   "cell_type": "code",
   "execution_count": 152,
   "metadata": {},
   "outputs": [
    {
     "data": {
      "image/png": "[encoded data removed]",
      "text/plain": [
       "<matplotlib.figure.Figure at 0x7f4e7412c5f8>"
      ]
     },
     "metadata": {},
     "output_type": "display_data"
    }
   ],
   "source": [
    "plt.scatter(t_noized[:, 0], t_noized[:,1])\n",
    "plt.scatter(t_ans[:, 0]  , t_ans[:,1])\n",
    "plt.show()"
   ]
  },
  {
   "cell_type": "code",
   "execution_count": 124,
   "metadata": {
    "collapsed": true
   },
   "outputs": [],
   "source": [
    "from sklearn.cluster import SpectralClustering"
   ]
  },
  {
   "cell_type": "code",
   "execution_count": 125,
   "metadata": {
    "collapsed": true
   },
   "outputs": [],
   "source": [
    "S_C = SpectralClustering(14)"
   ]
  },
  {
   "cell_type": "code",
   "execution_count": 129,
   "metadata": {
    "scrolled": true
   },
   "outputs": [
    {
     "ename": "MemoryError",
     "evalue": "",
     "output_type": "error",
     "traceback": [
      "\u001b[0;31m---------------------------------------------------------------------------\u001b[0m",
      "\u001b[0;31mMemoryError\u001b[0m                               Traceback (most recent call last)",
      "\u001b[0;32m<ipython-input-129-4d74b74cff4c>\u001b[0m in \u001b[0;36m<module>\u001b[0;34m()\u001b[0m\n\u001b[0;32m----> 1\u001b[0;31m \u001b[0mclusters\u001b[0m \u001b[0;34m=\u001b[0m \u001b[0mS_C\u001b[0m\u001b[0;34m.\u001b[0m\u001b[0mfit_predict\u001b[0m\u001b[0;34m(\u001b[0m\u001b[0mZ_noized\u001b[0m\u001b[0;34m[\u001b[0m\u001b[0;34m:\u001b[0m\u001b[0;34m:\u001b[0m\u001b[0;36m10\u001b[0m\u001b[0;34m]\u001b[0m\u001b[0;34m)\u001b[0m\u001b[0;34m\u001b[0m\u001b[0m\n\u001b[0m",
      "\u001b[0;32m~/anaconda3/lib/python3.6/site-packages/sklearn/base.py\u001b[0m in \u001b[0;36mfit_predict\u001b[0;34m(self, X, y)\u001b[0m\n\u001b[1;32m    408\u001b[0m         \u001b[0;31m# non-optimized default implementation; override when a better\u001b[0m\u001b[0;34m\u001b[0m\u001b[0;34m\u001b[0m\u001b[0m\n\u001b[1;32m    409\u001b[0m         \u001b[0;31m# method is possible for a given clustering algorithm\u001b[0m\u001b[0;34m\u001b[0m\u001b[0;34m\u001b[0m\u001b[0m\n\u001b[0;32m--> 410\u001b[0;31m         \u001b[0mself\u001b[0m\u001b[0;34m.\u001b[0m\u001b[0mfit\u001b[0m\u001b[0;34m(\u001b[0m\u001b[0mX\u001b[0m\u001b[0;34m)\u001b[0m\u001b[0;34m\u001b[0m\u001b[0m\n\u001b[0m\u001b[1;32m    411\u001b[0m         \u001b[0;32mreturn\u001b[0m \u001b[0mself\u001b[0m\u001b[0;34m.\u001b[0m\u001b[0mlabels_\u001b[0m\u001b[0;34m\u001b[0m\u001b[0m\n\u001b[1;32m    412\u001b[0m \u001b[0;34m\u001b[0m\u001b[0m\n",
      "\u001b[0;32m~/anaconda3/lib/python3.6/site-packages/sklearn/cluster/spectral.py\u001b[0m in \u001b[0;36mfit\u001b[0;34m(self, X, y)\u001b[0m\n\u001b[1;32m    470\u001b[0m                                            \u001b[0mn_init\u001b[0m\u001b[0;34m=\u001b[0m\u001b[0mself\u001b[0m\u001b[0;34m.\u001b[0m\u001b[0mn_init\u001b[0m\u001b[0;34m,\u001b[0m\u001b[0;34m\u001b[0m\u001b[0m\n\u001b[1;32m    471\u001b[0m                                            \u001b[0meigen_tol\u001b[0m\u001b[0;34m=\u001b[0m\u001b[0mself\u001b[0m\u001b[0;34m.\u001b[0m\u001b[0meigen_tol\u001b[0m\u001b[0;34m,\u001b[0m\u001b[0;34m\u001b[0m\u001b[0m\n\u001b[0;32m--> 472\u001b[0;31m                                            assign_labels=self.assign_labels)\n\u001b[0m\u001b[1;32m    473\u001b[0m         \u001b[0;32mreturn\u001b[0m \u001b[0mself\u001b[0m\u001b[0;34m\u001b[0m\u001b[0m\n\u001b[1;32m    474\u001b[0m \u001b[0;34m\u001b[0m\u001b[0m\n",
      "\u001b[0;32m~/anaconda3/lib/python3.6/site-packages/sklearn/cluster/spectral.py\u001b[0m in \u001b[0;36mspectral_clustering\u001b[0;34m(affinity, n_clusters, n_components, eigen_solver, random_state, n_init, eigen_tol, assign_labels)\u001b[0m\n\u001b[1;32m    260\u001b[0m                               \u001b[0meigen_solver\u001b[0m\u001b[0;34m=\u001b[0m\u001b[0meigen_solver\u001b[0m\u001b[0;34m,\u001b[0m\u001b[0;34m\u001b[0m\u001b[0m\n\u001b[1;32m    261\u001b[0m                               \u001b[0mrandom_state\u001b[0m\u001b[0;34m=\u001b[0m\u001b[0mrandom_state\u001b[0m\u001b[0;34m,\u001b[0m\u001b[0;34m\u001b[0m\u001b[0m\n\u001b[0;32m--> 262\u001b[0;31m                               eigen_tol=eigen_tol, drop_first=False)\n\u001b[0m\u001b[1;32m    263\u001b[0m \u001b[0;34m\u001b[0m\u001b[0m\n\u001b[1;32m    264\u001b[0m     \u001b[0;32mif\u001b[0m \u001b[0massign_labels\u001b[0m \u001b[0;34m==\u001b[0m \u001b[0;34m'kmeans'\u001b[0m\u001b[0;34m:\u001b[0m\u001b[0;34m\u001b[0m\u001b[0m\n",
      "\u001b[0;32m~/anaconda3/lib/python3.6/site-packages/sklearn/manifold/spectral_embedding_.py\u001b[0m in \u001b[0;36mspectral_embedding\u001b[0;34m(adjacency, n_components, eigen_solver, random_state, eigen_tol, norm_laplacian, drop_first)\u001b[0m\n\u001b[1;32m    208\u001b[0m       \u001b[0mhttp\u001b[0m\u001b[0;34m:\u001b[0m\u001b[0;34m//\u001b[0m\u001b[0mdx\u001b[0m\u001b[0;34m.\u001b[0m\u001b[0mdoi\u001b[0m\u001b[0;34m.\u001b[0m\u001b[0morg\u001b[0m\u001b[0;34m/\u001b[0m\u001b[0;36m10.1137\u001b[0m\u001b[0;34m%\u001b[0m\u001b[0;36m2\u001b[0m\u001b[0mFS1064827500366124\u001b[0m\u001b[0;34m\u001b[0m\u001b[0m\n\u001b[1;32m    209\u001b[0m     \"\"\"\n\u001b[0;32m--> 210\u001b[0;31m     \u001b[0madjacency\u001b[0m \u001b[0;34m=\u001b[0m \u001b[0mcheck_symmetric\u001b[0m\u001b[0;34m(\u001b[0m\u001b[0madjacency\u001b[0m\u001b[0;34m)\u001b[0m\u001b[0;34m\u001b[0m\u001b[0m\n\u001b[0m\u001b[1;32m    211\u001b[0m \u001b[0;34m\u001b[0m\u001b[0m\n\u001b[1;32m    212\u001b[0m     \u001b[0;32mtry\u001b[0m\u001b[0;34m:\u001b[0m\u001b[0;34m\u001b[0m\u001b[0m\n",
      "\u001b[0;32m~/anaconda3/lib/python3.6/site-packages/sklearn/utils/validation.py\u001b[0m in \u001b[0;36mcheck_symmetric\u001b[0;34m(array, tol, raise_warning, raise_exception)\u001b[0m\n\u001b[1;32m    701\u001b[0m         \u001b[0msymmetric\u001b[0m \u001b[0;34m=\u001b[0m \u001b[0mnp\u001b[0m\u001b[0;34m.\u001b[0m\u001b[0mall\u001b[0m\u001b[0;34m(\u001b[0m\u001b[0mabs\u001b[0m\u001b[0;34m(\u001b[0m\u001b[0mdiff\u001b[0m\u001b[0;34m.\u001b[0m\u001b[0mdata\u001b[0m\u001b[0;34m)\u001b[0m \u001b[0;34m<\u001b[0m \u001b[0mtol\u001b[0m\u001b[0;34m)\u001b[0m\u001b[0;34m\u001b[0m\u001b[0m\n\u001b[1;32m    702\u001b[0m     \u001b[0;32melse\u001b[0m\u001b[0;34m:\u001b[0m\u001b[0;34m\u001b[0m\u001b[0m\n\u001b[0;32m--> 703\u001b[0;31m         \u001b[0msymmetric\u001b[0m \u001b[0;34m=\u001b[0m \u001b[0mnp\u001b[0m\u001b[0;34m.\u001b[0m\u001b[0mallclose\u001b[0m\u001b[0;34m(\u001b[0m\u001b[0marray\u001b[0m\u001b[0;34m,\u001b[0m \u001b[0marray\u001b[0m\u001b[0;34m.\u001b[0m\u001b[0mT\u001b[0m\u001b[0;34m,\u001b[0m \u001b[0matol\u001b[0m\u001b[0;34m=\u001b[0m\u001b[0mtol\u001b[0m\u001b[0;34m)\u001b[0m\u001b[0;34m\u001b[0m\u001b[0m\n\u001b[0m\u001b[1;32m    704\u001b[0m \u001b[0;34m\u001b[0m\u001b[0m\n\u001b[1;32m    705\u001b[0m     \u001b[0;32mif\u001b[0m \u001b[0;32mnot\u001b[0m \u001b[0msymmetric\u001b[0m\u001b[0;34m:\u001b[0m\u001b[0;34m\u001b[0m\u001b[0m\n",
      "\u001b[0;32m~/anaconda3/lib/python3.6/site-packages/numpy/core/numeric.py\u001b[0m in \u001b[0;36mallclose\u001b[0;34m(a, b, rtol, atol, equal_nan)\u001b[0m\n\u001b[1;32m   2457\u001b[0m \u001b[0;34m\u001b[0m\u001b[0m\n\u001b[1;32m   2458\u001b[0m     \"\"\"\n\u001b[0;32m-> 2459\u001b[0;31m     \u001b[0mres\u001b[0m \u001b[0;34m=\u001b[0m \u001b[0mall\u001b[0m\u001b[0;34m(\u001b[0m\u001b[0misclose\u001b[0m\u001b[0;34m(\u001b[0m\u001b[0ma\u001b[0m\u001b[0;34m,\u001b[0m \u001b[0mb\u001b[0m\u001b[0;34m,\u001b[0m \u001b[0mrtol\u001b[0m\u001b[0;34m=\u001b[0m\u001b[0mrtol\u001b[0m\u001b[0;34m,\u001b[0m \u001b[0matol\u001b[0m\u001b[0;34m=\u001b[0m\u001b[0matol\u001b[0m\u001b[0;34m,\u001b[0m \u001b[0mequal_nan\u001b[0m\u001b[0;34m=\u001b[0m\u001b[0mequal_nan\u001b[0m\u001b[0;34m)\u001b[0m\u001b[0;34m)\u001b[0m\u001b[0;34m\u001b[0m\u001b[0m\n\u001b[0m\u001b[1;32m   2460\u001b[0m     \u001b[0;32mreturn\u001b[0m \u001b[0mbool\u001b[0m\u001b[0;34m(\u001b[0m\u001b[0mres\u001b[0m\u001b[0;34m)\u001b[0m\u001b[0;34m\u001b[0m\u001b[0m\n\u001b[1;32m   2461\u001b[0m \u001b[0;34m\u001b[0m\u001b[0m\n",
      "\u001b[0;32m~/anaconda3/lib/python3.6/site-packages/numpy/core/numeric.py\u001b[0m in \u001b[0;36misclose\u001b[0;34m(a, b, rtol, atol, equal_nan)\u001b[0m\n\u001b[1;32m   2539\u001b[0m     \u001b[0myfin\u001b[0m \u001b[0;34m=\u001b[0m \u001b[0misfinite\u001b[0m\u001b[0;34m(\u001b[0m\u001b[0my\u001b[0m\u001b[0;34m)\u001b[0m\u001b[0;34m\u001b[0m\u001b[0m\n\u001b[1;32m   2540\u001b[0m     \u001b[0;32mif\u001b[0m \u001b[0mall\u001b[0m\u001b[0;34m(\u001b[0m\u001b[0mxfin\u001b[0m\u001b[0;34m)\u001b[0m \u001b[0;32mand\u001b[0m \u001b[0mall\u001b[0m\u001b[0;34m(\u001b[0m\u001b[0myfin\u001b[0m\u001b[0;34m)\u001b[0m\u001b[0;34m:\u001b[0m\u001b[0;34m\u001b[0m\u001b[0m\n\u001b[0;32m-> 2541\u001b[0;31m         \u001b[0;32mreturn\u001b[0m \u001b[0mwithin_tol\u001b[0m\u001b[0;34m(\u001b[0m\u001b[0mx\u001b[0m\u001b[0;34m,\u001b[0m \u001b[0my\u001b[0m\u001b[0;34m,\u001b[0m \u001b[0matol\u001b[0m\u001b[0;34m,\u001b[0m \u001b[0mrtol\u001b[0m\u001b[0;34m)\u001b[0m\u001b[0;34m\u001b[0m\u001b[0m\n\u001b[0m\u001b[1;32m   2542\u001b[0m     \u001b[0;32melse\u001b[0m\u001b[0;34m:\u001b[0m\u001b[0;34m\u001b[0m\u001b[0m\n\u001b[1;32m   2543\u001b[0m         \u001b[0mfinite\u001b[0m \u001b[0;34m=\u001b[0m \u001b[0mxfin\u001b[0m \u001b[0;34m&\u001b[0m \u001b[0myfin\u001b[0m\u001b[0;34m\u001b[0m\u001b[0m\n",
      "\u001b[0;32m~/anaconda3/lib/python3.6/site-packages/numpy/core/numeric.py\u001b[0m in \u001b[0;36mwithin_tol\u001b[0;34m(x, y, atol, rtol)\u001b[0m\n\u001b[1;32m   2522\u001b[0m     \u001b[0;32mdef\u001b[0m \u001b[0mwithin_tol\u001b[0m\u001b[0;34m(\u001b[0m\u001b[0mx\u001b[0m\u001b[0;34m,\u001b[0m \u001b[0my\u001b[0m\u001b[0;34m,\u001b[0m \u001b[0matol\u001b[0m\u001b[0;34m,\u001b[0m \u001b[0mrtol\u001b[0m\u001b[0;34m)\u001b[0m\u001b[0;34m:\u001b[0m\u001b[0;34m\u001b[0m\u001b[0m\n\u001b[1;32m   2523\u001b[0m         \u001b[0;32mwith\u001b[0m \u001b[0merrstate\u001b[0m\u001b[0;34m(\u001b[0m\u001b[0minvalid\u001b[0m\u001b[0;34m=\u001b[0m\u001b[0;34m'ignore'\u001b[0m\u001b[0;34m)\u001b[0m\u001b[0;34m:\u001b[0m\u001b[0;34m\u001b[0m\u001b[0m\n\u001b[0;32m-> 2524\u001b[0;31m             \u001b[0mresult\u001b[0m \u001b[0;34m=\u001b[0m \u001b[0mless_equal\u001b[0m\u001b[0;34m(\u001b[0m\u001b[0mabs\u001b[0m\u001b[0;34m(\u001b[0m\u001b[0mx\u001b[0m\u001b[0;34m-\u001b[0m\u001b[0my\u001b[0m\u001b[0;34m)\u001b[0m\u001b[0;34m,\u001b[0m \u001b[0matol\u001b[0m \u001b[0;34m+\u001b[0m \u001b[0mrtol\u001b[0m \u001b[0;34m*\u001b[0m \u001b[0mabs\u001b[0m\u001b[0;34m(\u001b[0m\u001b[0my\u001b[0m\u001b[0;34m)\u001b[0m\u001b[0;34m)\u001b[0m\u001b[0;34m\u001b[0m\u001b[0m\n\u001b[0m\u001b[1;32m   2525\u001b[0m         \u001b[0;32mif\u001b[0m \u001b[0misscalar\u001b[0m\u001b[0;34m(\u001b[0m\u001b[0ma\u001b[0m\u001b[0;34m)\u001b[0m \u001b[0;32mand\u001b[0m \u001b[0misscalar\u001b[0m\u001b[0;34m(\u001b[0m\u001b[0mb\u001b[0m\u001b[0;34m)\u001b[0m\u001b[0;34m:\u001b[0m\u001b[0;34m\u001b[0m\u001b[0m\n\u001b[1;32m   2526\u001b[0m             \u001b[0mresult\u001b[0m \u001b[0;34m=\u001b[0m \u001b[0mbool\u001b[0m\u001b[0;34m(\u001b[0m\u001b[0mresult\u001b[0m\u001b[0;34m)\u001b[0m\u001b[0;34m\u001b[0m\u001b[0m\n",
      "\u001b[0;31mMemoryError\u001b[0m: "
     ]
    }
   ],
   "source": [
    "clusters = S_C.fit_predict(Z_noized[::10])"
   ]
  },
  {
   "cell_type": "code",
   "execution_count": 108,
   "metadata": {
    "collapsed": true
   },
   "outputs": [],
   "source": [
    "from sklearn.manifold import TSNE"
   ]
  },
  {
   "cell_type": "code",
   "execution_count": 307,
   "metadata": {
    "collapsed": true
   },
   "outputs": [],
   "source": [
    "tsne = TSNE(2, verbose=1)"
   ]
  },
  {
   "cell_type": "code",
   "execution_count": 114,
   "metadata": {
    "collapsed": true
   },
   "outputs": [],
   "source": [
    "Z_noized_unique = np.unique(Z_noized, axis = 0)"
   ]
  },
  {
   "cell_type": "code",
   "execution_count": 115,
   "metadata": {},
   "outputs": [
    {
     "data": {
      "text/plain": [
       "(159654, 10)"
      ]
     },
     "execution_count": 115,
     "metadata": {},
     "output_type": "execute_result"
    }
   ],
   "source": [
    "Z_noized.shape"
   ]
  },
  {
   "cell_type": "code",
   "execution_count": 116,
   "metadata": {},
   "outputs": [
    {
     "data": {
      "text/plain": [
       "(28362, 10)"
      ]
     },
     "execution_count": 116,
     "metadata": {},
     "output_type": "execute_result"
    }
   ],
   "source": [
    "Z_noized_unique.shape"
   ]
  },
  {
   "cell_type": "code",
   "execution_count": 140,
   "metadata": {},
   "outputs": [
    {
     "data": {
      "text/plain": [
       "(3194, 2)"
      ]
     },
     "execution_count": 140,
     "metadata": {},
     "output_type": "execute_result"
    }
   ],
   "source": [
    "t_noized.shape"
   ]
  },
  {
   "cell_type": "code",
   "execution_count": 141,
   "metadata": {},
   "outputs": [
    {
     "data": {
      "text/plain": [
       "(3194, 2)"
      ]
     },
     "execution_count": 141,
     "metadata": {},
     "output_type": "execute_result"
    }
   ],
   "source": [
    "t_ans.shape"
   ]
  },
  {
   "cell_type": "code",
   "execution_count": 314,
   "metadata": {
    "collapsed": true
   },
   "outputs": [],
   "source": [
    "Z_es_3_u = np.unique(Z_es_3,  axis = 0)"
   ]
  },
  {
   "cell_type": "code",
   "execution_count": 315,
   "metadata": {},
   "outputs": [
    {
     "name": "stdout",
     "output_type": "stream",
     "text": [
      "[t-SNE] Computing 91 nearest neighbors...\n",
      "[t-SNE] Indexed 2123 samples in 0.006s...\n",
      "[t-SNE] Computed neighbors for 2123 samples in 0.169s...\n",
      "[t-SNE] Computed conditional probabilities for sample 1000 / 2123\n",
      "[t-SNE] Computed conditional probabilities for sample 2000 / 2123\n",
      "[t-SNE] Computed conditional probabilities for sample 2123 / 2123\n",
      "[t-SNE] Mean sigma: 0.480638\n",
      "[t-SNE] KL divergence after 250 iterations with early exaggeration: 52.015522\n",
      "[t-SNE] Error after 1000 iterations: 0.430352\n"
     ]
    }
   ],
   "source": [
    "t_es_3 = tsne.fit_transform(Z_es_3_u)"
   ]
  },
  {
   "cell_type": "code",
   "execution_count": 142,
   "metadata": {
    "collapsed": true
   },
   "outputs": [],
   "source": [
    "def tsne_with_asn(tsne, data, ans):\n",
    "    print(np.concatenate((data, ans)).shape)\n",
    "    tsne_data = tsne.fit_transform(np.concatenate((data, ans)))\n",
    "    return tsne_data[:data.shape[0]], tsne_data[-ans.shape[0]:]"
   ]
  },
  {
   "cell_type": "code",
   "execution_count": 350,
   "metadata": {},
   "outputs": [
    {
     "name": "stdout",
     "output_type": "stream",
     "text": [
      "(265, 20)\n",
      "[t-SNE] Computing 91 nearest neighbors...\n",
      "[t-SNE] Indexed 265 samples in 0.000s...\n",
      "[t-SNE] Computed neighbors for 265 samples in 0.008s...\n",
      "[t-SNE] Computed conditional probabilities for sample 265 / 265\n",
      "[t-SNE] Mean sigma: 0.000000\n",
      "[t-SNE] KL divergence after 250 iterations with early exaggeration: 50.672237\n",
      "[t-SNE] Error after 1000 iterations: 0.359428\n"
     ]
    }
   ],
   "source": [
    "t_noized_1, t_ans_1 = tsne_with_asn(tsne, Z_es_3[::50][mask], Z_ans_es_3[:18])"
   ]
  },
  {
   "cell_type": "code",
   "execution_count": null,
   "metadata": {
    "collapsed": true
   },
   "outputs": [],
   "source": []
  },
  {
   "cell_type": "markdown",
   "metadata": {},
   "source": [
    "### Check how much unchanged"
   ]
  },
  {
   "cell_type": "code",
   "execution_count": 18,
   "metadata": {},
   "outputs": [
    {
     "data": {
      "text/plain": [
       "79827"
      ]
     },
     "execution_count": 18,
     "metadata": {},
     "output_type": "execute_result"
    }
   ],
   "source": [
    "len(pairs)"
   ]
  },
  {
   "cell_type": "code",
   "execution_count": 69,
   "metadata": {
    "collapsed": true
   },
   "outputs": [],
   "source": [
    "counter = 0\n",
    "for p in np.array(pairs).flatten():\n",
    "    if p in unique:\n",
    "        counter += 1"
   ]
  },
  {
   "cell_type": "code",
   "execution_count": 80,
   "metadata": {
    "collapsed": true
   },
   "outputs": [],
   "source": [
    "counter = 0\n",
    "for p in noised_data:\n",
    "    if p in unique:\n",
    "        counter += 1"
   ]
  },
  {
   "cell_type": "code",
   "execution_count": 81,
   "metadata": {},
   "outputs": [
    {
     "data": {
      "text/plain": [
       "73276"
      ]
     },
     "execution_count": 81,
     "metadata": {},
     "output_type": "execute_result"
    }
   ],
   "source": [
    "counter"
   ]
  },
  {
   "cell_type": "code",
   "execution_count": 35,
   "metadata": {},
   "outputs": [
    {
     "data": {
      "text/plain": [
       "array(['GGGCGCACGGAATACAAAGCCGTGTATCTGCT',\n",
       "       'TGGCTCTGCAACAGCAGCACCCATGACCACG',\n",
       "       'GACAGAACGGCCTCAGTAGTCTCGTCAGGCTC', ...,\n",
       "       'CTGTTTTCGCAAATCTATGGACTATTGCTAT',\n",
       "       'TAGTTTCCGTATCTCCGGATTTATAAAGCTGA',\n",
       "       'GCAGGCGGCGACGCGCAGGGTATGCGCGATTC'],\n",
       "      dtype='<U56')"
      ]
     },
     "execution_count": 35,
     "metadata": {},
     "output_type": "execute_result"
    }
   ],
   "source": [
    "np.array(pairs).flatten()"
   ]
  },
  {
   "cell_type": "code",
   "execution_count": 36,
   "metadata": {},
   "outputs": [
    {
     "data": {
      "text/plain": [
       "{'AAGCTGGCTGGCAATCTCTTTCGGGGTGAGTC',\n",
       " 'AGCGTGTTCGGCATCACCTTTGGCTTCGGCTG',\n",
       " 'ATTACGCCTTTTTGCGATTGCCCGGTTTTTGC',\n",
       " 'CAGCGTCAGGCGTGAAATCTCACCGTCGTTGC',\n",
       " 'CCGGGGGATAATGTTTACGGTCATGCGCCCCC',\n",
       " 'CTGTTTTCGCAAATCTATGGACTATTGCTATT',\n",
       " 'GAAATGCTGGTGAGCGTTAATGCCGCAAACAC',\n",
       " 'GACAGAACGGCCTCAGTAGTCTCGTCAGGCTC',\n",
       " 'GCAGGCGGCGACGCGCAGGGTATGCGCGATTCG',\n",
       " 'GCGACCGCTCAGAAATTCCAGACCCGATCCAAA',\n",
       " 'GGGCGCACGGAATACAAAGCCGTGTATCTGCT',\n",
       " 'GTAGTCCATCATTCCACCTATGTCTGAACTCC',\n",
       " 'TAGTTTCCGTATCTCCGGATTTATAAAGCTGA',\n",
       " 'TCAACATTATCAATTACAACCGACAGGGAGCC',\n",
       " 'TCGGTTCAGGCGTTGCAAACCTGGCTACCGGG',\n",
       " 'TGCGTGAGCGTATCGCCGCGCGTCTGCGAAAG',\n",
       " 'TGGCTCTGCAACAGCAGCACCCATGACCACGT',\n",
       " 'TGGGCGGCTTGCCTTGCAGCCAGCTCCAGCAG'}"
      ]
     },
     "execution_count": 36,
     "metadata": {},
     "output_type": "execute_result"
    }
   ],
   "source": [
    "unique"
   ]
  },
  {
   "cell_type": "code",
   "execution_count": 38,
   "metadata": {
    "collapsed": true
   },
   "outputs": [],
   "source": [
    "ans = \"CAGCGTCAGGCGTGAAATCTCACCGTCGTTGC\tTCGGTTCAGGCGTTGCAAACCTGGCTACCGGG\tGTAGTCCATCATTCCACCTATGTCTGAACTCC\tCCGGGGGATAATGTTTACGGTCATGCGCCCCC\tTGGGCGGCTTGCCTTGCAGCCAGCTCCAGCAG\tAAGCTGGCTGGCAATCTCTTTCGGGGTGAGTC\tTAGTTTCCGTATCTCCGGATTTATAAAGCTGA\tGCAGGCGGCGACGCGCAGGGTATGCGCGATTCG\tGCGACCGCTCAGAAATTCCAGACCCGATCCAAA\tTCAACATTATCAATTACAACCGACAGGGAGCC\tAGCGTGTTCGGCATCACCTTTGGCTTCGGCTG\tTGCGTGAGCGTATCGCCGCGCGTCTGCGAAAG\""
   ]
  },
  {
   "cell_type": "code",
   "execution_count": 40,
   "metadata": {},
   "outputs": [
    {
     "data": {
      "text/plain": [
       "True"
      ]
     },
     "execution_count": 40,
     "metadata": {},
     "output_type": "execute_result"
    }
   ],
   "source": [
    "ans.split(\"\\t\") == K_1"
   ]
  },
  {
   "cell_type": "code",
   "execution_count": null,
   "metadata": {
    "collapsed": true
   },
   "outputs": [],
   "source": []
  },
  {
   "cell_type": "code",
   "execution_count": null,
   "metadata": {
    "collapsed": true
   },
   "outputs": [],
   "source": []
  },
  {
   "cell_type": "markdown",
   "metadata": {},
   "source": [
    "# Convolutional VAE"
   ]
  },
  {
   "cell_type": "code",
   "execution_count": 186,
   "metadata": {
    "collapsed": true
   },
   "outputs": [],
   "source": [
    "input_X = T.matrix(\"X\")\n",
    "input_shape = [None, 32*4]"
   ]
  },
  {
   "cell_type": "code",
   "execution_count": 187,
   "metadata": {
    "collapsed": true
   },
   "outputs": [],
   "source": [
    "HU_encoder = 50\n",
    "dimZ = 2\n",
    "HU_decoder = 50"
   ]
  },
  {
   "cell_type": "code",
   "execution_count": 188,
   "metadata": {
    "collapsed": true
   },
   "outputs": [],
   "source": [
    "vl_input = lasagne.layers.InputLayer(input_shape)\n",
    "\n",
    "vl_reshape = lasagne.layers.ReshapeLayer(vl_input, (-1, 1, 32*4))\n",
    "\n",
    "vl_conv = lasagne.layers.Conv1DLayer(vl_reshape, 10, 8)"
   ]
  },
  {
   "cell_type": "code",
   "execution_count": 189,
   "metadata": {
    "collapsed": true
   },
   "outputs": [],
   "source": [
    "vl_flatten = lasagne.layers.flatten(vl_conv)"
   ]
  },
  {
   "cell_type": "code",
   "execution_count": 190,
   "metadata": {
    "collapsed": true
   },
   "outputs": [],
   "source": [
    "vl_enc_hid = lasagne.layers.DenseLayer(vl_flatten, num_units=HU_encoder, nonlinearity = lasagne.nonlinearities.elu)\n",
    "\n",
    "vl_enc_mu = lasagne.layers.DenseLayer(vl_enc_hid, dimZ, nonlinearity = None)\n",
    "vl_enc_logsigma = lasagne.layers.DenseLayer(vl_enc_hid, num_units=dimZ, nonlinearity = None)\n",
    "\n",
    "vl_z = GaussianSampleLayer(vl_enc_mu, vl_enc_logsigma)"
   ]
  },
  {
   "cell_type": "code",
   "execution_count": 191,
   "metadata": {
    "collapsed": true,
    "scrolled": true
   },
   "outputs": [],
   "source": [
    "vl_dec_hid = lasagne.layers.DenseLayer(vl_z, num_units=HU_decoder, nonlinearity = lasagne.nonlinearities.elu)\n",
    "vl_dec_mu = lasagne.layers.DenseLayer(vl_dec_hid, num_units=input_shape[1],\n",
    "                                      nonlinearity = lasagne.nonlinearities.sigmoid)\n",
    "relu_shift = 2\n",
    "vl_dec_logsigma = lasagne.layers.DenseLayer(vl_dec_hid, num_units=input_shape[1],\n",
    "                    nonlinearity = lambda a: T.nnet.relu(a+relu_shift)-relu_shift)\n",
    "vl_output = GaussianSampleLayer(vl_dec_mu, vl_dec_logsigma)"
   ]
  },
  {
   "cell_type": "code",
   "execution_count": null,
   "metadata": {
    "collapsed": true
   },
   "outputs": [],
   "source": []
  },
  {
   "cell_type": "code",
   "execution_count": null,
   "metadata": {
    "collapsed": true
   },
   "outputs": [],
   "source": []
  }
 ],
 "metadata": {
  "kernelspec": {
   "display_name": "Python 3",
   "language": "python",
   "name": "python3"
  },
  "language_info": {
   "codemirror_mode": {
    "name": "ipython",
    "version": 3
   },
   "file_extension": ".py",
   "mimetype": "text/x-python",
   "name": "python",
   "nbconvert_exporter": "python",
   "pygments_lexer": "ipython3",
   "version": "3.6.3"
  }
 },
 "nbformat": 4,
 "nbformat_minor": 2
}
