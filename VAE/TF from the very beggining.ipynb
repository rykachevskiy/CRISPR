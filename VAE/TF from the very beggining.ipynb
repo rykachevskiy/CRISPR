{
 "cells": [
  {
   "cell_type": "code",
   "execution_count": 1,
   "metadata": {
    "collapsed": true
   },
   "outputs": [],
   "source": [
    "import tensorflow as tf\n",
    "import numpy as np"
   ]
  },
  {
   "cell_type": "code",
   "execution_count": 2,
   "metadata": {},
   "outputs": [
    {
     "name": "stdout",
     "output_type": "stream",
     "text": [
      "Tensor(\"Const:0\", shape=(), dtype=float32) Tensor(\"Const_1:0\", shape=(), dtype=float32)\n"
     ]
    }
   ],
   "source": [
    "node1 = tf.constant(3.0)\n",
    "node2 = tf.constant(4.0)\n",
    "print(node1, node2)"
   ]
  },
  {
   "cell_type": "code",
   "execution_count": 3,
   "metadata": {},
   "outputs": [
    {
     "name": "stdout",
     "output_type": "stream",
     "text": [
      "[3.0, 4.0]\n"
     ]
    }
   ],
   "source": [
    "sess = tf.Session()\n",
    "print(sess.run([node1,node2]))"
   ]
  },
  {
   "cell_type": "code",
   "execution_count": 4,
   "metadata": {},
   "outputs": [
    {
     "name": "stdout",
     "output_type": "stream",
     "text": [
      "[7.0]\n"
     ]
    }
   ],
   "source": [
    "node3 = tf.add(node1, node2)\n",
    "print(sess.run([node3]))"
   ]
  },
  {
   "cell_type": "code",
   "execution_count": 5,
   "metadata": {
    "collapsed": true
   },
   "outputs": [],
   "source": [
    "a = tf.placeholder(dtype=tf.float32)\n",
    "b = tf.placeholder(dtype=tf.float32)\n",
    "adder_node = a + b"
   ]
  },
  {
   "cell_type": "code",
   "execution_count": 6,
   "metadata": {},
   "outputs": [
    {
     "name": "stdout",
     "output_type": "stream",
     "text": [
      "[ 4.  7.]\n"
     ]
    }
   ],
   "source": [
    "print(sess.run(adder_node, {\n",
    "    a : [1, 2],\n",
    "    b : [3, 5]\n",
    "}))"
   ]
  },
  {
   "cell_type": "code",
   "execution_count": 31,
   "metadata": {
    "collapsed": true
   },
   "outputs": [],
   "source": [
    "W = tf.Variable([.3])\n",
    "b = tf.Variable([-.3])\n",
    "x = tf.placeholder(tf.float32)\n",
    "linear_model = W*x + b"
   ]
  },
  {
   "cell_type": "code",
   "execution_count": 32,
   "metadata": {
    "collapsed": true
   },
   "outputs": [],
   "source": [
    "init = tf.global_variables_initializer()\n",
    "sess.run(init)"
   ]
  },
  {
   "cell_type": "code",
   "execution_count": 33,
   "metadata": {},
   "outputs": [
    {
     "data": {
      "text/plain": [
       "array([ 0.        ,  0.30000001,  0.60000002], dtype=float32)"
      ]
     },
     "execution_count": 33,
     "metadata": {},
     "output_type": "execute_result"
    }
   ],
   "source": [
    "sess.run(linear_model, {x : [1,2,3]})"
   ]
  },
  {
   "cell_type": "code",
   "execution_count": 34,
   "metadata": {},
   "outputs": [
    {
     "name": "stdout",
     "output_type": "stream",
     "text": [
      "23.66\n"
     ]
    }
   ],
   "source": [
    "y = tf.placeholder(tf.float32)\n",
    "loss = tf.reduce_sum((linear_model - y)**2)\n",
    "\n",
    "print(sess.run(loss, {x: [1, 2, 3, 4], y: [0, -1, -2, -3]}))"
   ]
  },
  {
   "cell_type": "code",
   "execution_count": 37,
   "metadata": {},
   "outputs": [
    {
     "name": "stdout",
     "output_type": "stream",
     "text": [
      "0.0\n"
     ]
    }
   ],
   "source": [
    "fixW = tf.assign(W, [-1.])\n",
    "fixb = tf.assign(b, [1.])\n",
    "sess.run([fixW, fixb])\n",
    "print(sess.run(loss, {x: [1, 2, 3, 4], y: [0, -1, -2, -3]}))\n"
   ]
  },
  {
   "cell_type": "code",
   "execution_count": 38,
   "metadata": {},
   "outputs": [
    {
     "data": {
      "text/plain": [
       "[array([ 0.30000001], dtype=float32), array([-0.30000001], dtype=float32)]"
      ]
     },
     "execution_count": 38,
     "metadata": {},
     "output_type": "execute_result"
    }
   ],
   "source": [
    "sess.run(init)\n",
    "sess.run([W, b])"
   ]
  },
  {
   "cell_type": "code",
   "execution_count": 47,
   "metadata": {
    "collapsed": true
   },
   "outputs": [],
   "source": [
    "optimizer = tf.train.GradientDescentOptimizer(0.01)\n",
    "train = optimizer.minimize(loss)"
   ]
  },
  {
   "cell_type": "code",
   "execution_count": 48,
   "metadata": {
    "collapsed": true
   },
   "outputs": [],
   "source": [
    "sess.run(init)\n",
    "for i in range(100):\n",
    "    sess.run(train, {x : [1, 2, 3], y : [-2, -3, -4]})"
   ]
  },
  {
   "cell_type": "code",
   "execution_count": 49,
   "metadata": {},
   "outputs": [
    {
     "data": {
      "text/plain": [
       "[array([-1.02289987], dtype=float32), array([-0.94794321], dtype=float32)]"
      ]
     },
     "execution_count": 49,
     "metadata": {},
     "output_type": "execute_result"
    }
   ],
   "source": [
    "sess.run([W, b])"
   ]
  },
  {
   "cell_type": "markdown",
   "metadata": {},
   "source": [
    "#### Estimator"
   ]
  },
  {
   "cell_type": "code",
   "execution_count": 67,
   "metadata": {},
   "outputs": [
    {
     "name": "stdout",
     "output_type": "stream",
     "text": [
      "INFO:tensorflow:Using default config.\n",
      "WARNING:tensorflow:Using temporary folder as model directory: /tmp/tmp8ls2nzsr\n",
      "INFO:tensorflow:Using config: {'_model_dir': '/tmp/tmp8ls2nzsr', '_tf_random_seed': None, '_save_summary_steps': 100, '_save_checkpoints_steps': None, '_save_checkpoints_secs': 600, '_session_config': None, '_keep_checkpoint_max': 5, '_keep_checkpoint_every_n_hours': 10000, '_log_step_count_steps': 100, '_service': None, '_cluster_spec': <tensorflow.python.training.server_lib.ClusterSpec object at 0x7fe99e5a6c18>, '_task_type': 'worker', '_task_id': 0, '_master': '', '_evaluation_master': '', '_is_chief': True, '_num_ps_replicas': 0, '_num_worker_replicas': 1}\n"
     ]
    }
   ],
   "source": [
    "cols = [tf.feature_column.numeric_column('x')]\n",
    "\n",
    "est = tf.estimator.LinearRegressor(cols)\n",
    "\n",
    "x_train = np.array([1,2,3])\n",
    "y_train = np.array([-2.1, -3, -4.1])\n",
    "\n",
    "x_test = np.array([3,4,6])\n",
    "y_test = np.array([-4.1, -5.2, -6.1])"
   ]
  },
  {
   "cell_type": "code",
   "execution_count": 68,
   "metadata": {
    "collapsed": true
   },
   "outputs": [],
   "source": [
    "train = tf.estimator.inputs.numpy_input_fn({'x' : x_train}, y_train, 2, 100, True)"
   ]
  },
  {
   "cell_type": "code",
   "execution_count": 69,
   "metadata": {},
   "outputs": [
    {
     "data": {
      "text/plain": [
       "({'x': <tf.Tensor 'random_shuffle_queue_DequeueUpTo:1' shape=(?,) dtype=int64>},\n",
       " <tf.Tensor 'random_shuffle_queue_DequeueUpTo:2' shape=(?,) dtype=float64>)"
      ]
     },
     "execution_count": 69,
     "metadata": {},
     "output_type": "execute_result"
    }
   ],
   "source": [
    "train()"
   ]
  },
  {
   "cell_type": "markdown",
   "metadata": {},
   "source": [
    "## MNIST"
   ]
  },
  {
   "cell_type": "markdown",
   "metadata": {},
   "source": [
    "#### no deep"
   ]
  },
  {
   "cell_type": "code",
   "execution_count": 2,
   "metadata": {},
   "outputs": [
    {
     "name": "stdout",
     "output_type": "stream",
     "text": [
      "Extracting MNIST_data/train-images-idx3-ubyte.gz\n",
      "Extracting MNIST_data/train-labels-idx1-ubyte.gz\n",
      "Extracting MNIST_data/t10k-images-idx3-ubyte.gz\n",
      "Extracting MNIST_data/t10k-labels-idx1-ubyte.gz\n"
     ]
    }
   ],
   "source": [
    "from tensorflow.examples.tutorials.mnist import input_data\n",
    "mnist = input_data.read_data_sets(\"MNIST_data/\", one_hot=True)"
   ]
  },
  {
   "cell_type": "code",
   "execution_count": 75,
   "metadata": {
    "collapsed": true
   },
   "outputs": [],
   "source": [
    "x = tf.placeholder(tf.float32, [None, 784])\n",
    "\n",
    "W = tf.Variable(tf.zeros([784, 10]))\n",
    "b = tf.Variable(tf.zeros([10]))\n",
    "\n",
    "y = tf.nn.softmax(tf.matmul(x, W) + b)"
   ]
  },
  {
   "cell_type": "code",
   "execution_count": 76,
   "metadata": {
    "collapsed": true
   },
   "outputs": [],
   "source": [
    "y_ = tf.placeholder(tf.float32, [None, 10])"
   ]
  },
  {
   "cell_type": "code",
   "execution_count": 77,
   "metadata": {
    "collapsed": true
   },
   "outputs": [],
   "source": [
    "cross_entropy = -tf.reduce_mean(tf.reduce_sum(y_ * tf.log(y), reduction_indices=[1]))"
   ]
  },
  {
   "cell_type": "code",
   "execution_count": 78,
   "metadata": {
    "collapsed": true
   },
   "outputs": [],
   "source": [
    "train_step = tf.train.GradientDescentOptimizer(0.5).minimize(cross_entropy)"
   ]
  },
  {
   "cell_type": "code",
   "execution_count": 79,
   "metadata": {
    "collapsed": true
   },
   "outputs": [],
   "source": [
    "sess = tf.InteractiveSession()"
   ]
  },
  {
   "cell_type": "code",
   "execution_count": 81,
   "metadata": {
    "collapsed": true
   },
   "outputs": [],
   "source": [
    "tf.global_variables_initializer().run()"
   ]
  },
  {
   "cell_type": "code",
   "execution_count": 82,
   "metadata": {
    "collapsed": true
   },
   "outputs": [],
   "source": [
    "for _ in range(1000):\n",
    "    batch_xs, batch_ys = mnist.train.next_batch(100)\n",
    "    sess.run(train_step, feed_dict={x: batch_xs, y_: batch_ys})\n"
   ]
  },
  {
   "cell_type": "code",
   "execution_count": 91,
   "metadata": {
    "collapsed": true
   },
   "outputs": [],
   "source": [
    "correct_prediction = tf.equal(tf.argmax(y,1), tf.argmax(y_,1))\n",
    "quality = tf.reduce_mean(tf.cast(correct_prediction, tf.float32))"
   ]
  },
  {
   "cell_type": "code",
   "execution_count": 93,
   "metadata": {
    "scrolled": true
   },
   "outputs": [
    {
     "data": {
      "text/plain": [
       "0.91189998"
      ]
     },
     "execution_count": 93,
     "metadata": {},
     "output_type": "execute_result"
    }
   ],
   "source": [
    "sess.run(quality, {x: mnist.test.images, y_ :mnist.test.labels})"
   ]
  },
  {
   "cell_type": "markdown",
   "metadata": {},
   "source": [
    "#### deep"
   ]
  },
  {
   "cell_type": "code",
   "execution_count": 63,
   "metadata": {
    "collapsed": true
   },
   "outputs": [],
   "source": [
    "x = tf.placeholder(tf.float32, shape=[None, 784])\n",
    "y_ = tf.placeholder(tf.float32, shape=[None, 10])"
   ]
  },
  {
   "cell_type": "code",
   "execution_count": 64,
   "metadata": {
    "collapsed": true
   },
   "outputs": [],
   "source": [
    "def init_var(shape):\n",
    "    init = tf.truncated_normal(shape, stddev=0.1)\n",
    "    return tf.Variable(init)\n",
    "#def bias_var(shape):\n",
    "    "
   ]
  },
  {
   "cell_type": "code",
   "execution_count": 65,
   "metadata": {
    "collapsed": true
   },
   "outputs": [],
   "source": [
    "def conv2d(x, W):\n",
    "    return tf.nn.conv2d(x, W, strides = [1,1,1,1], padding='SAME')\n",
    "\n",
    "def max_pool2d(x):\n",
    "    return tf.nn.max_pool(x, ksize = [1,2,2,1], strides = [1,2,2,1], padding='SAME')\n"
   ]
  },
  {
   "cell_type": "code",
   "execution_count": 68,
   "metadata": {
    "collapsed": true
   },
   "outputs": [],
   "source": [
    "l_resh = tf.reshape(x, [-1,28,28,1])\n",
    "\n",
    "w_1 = init_var([5,5,1,32])\n",
    "l_conv_1 = conv2d(l_resh, w_1)\n",
    "l_pool_1 = max_pool2d(l_conv_1)\n",
    "w_2 = init_var([5,5,32,64])\n",
    "l_conv_2 = conv2d(l_pool_1, w_2)\n",
    "l_pool_2 = max_pool2d(l_conv_2)\n",
    "\n",
    "l_resh_2 = tf.reshape(l_pool_2, [-1, 7 * 7 * 64])"
   ]
  },
  {
   "cell_type": "code",
   "execution_count": 69,
   "metadata": {},
   "outputs": [
    {
     "data": {
      "text/plain": [
       "[None, 3136]"
      ]
     },
     "execution_count": 69,
     "metadata": {},
     "output_type": "execute_result"
    }
   ],
   "source": [
    "l_resh_2.get_shape().as_list()"
   ]
  },
  {
   "cell_type": "code",
   "execution_count": 70,
   "metadata": {
    "collapsed": true
   },
   "outputs": [],
   "source": [
    "W_dense_1 = init_var([7*7*64, 1000])\n",
    "b_dense_1 = init_var([1000])\n",
    "l_dense_1 = tf.nn.relu(tf.matmul(l_resh_2, W_dense_1) + b_dense_1)\n",
    "\n",
    "prob = tf.placeholder(tf.float32)\n",
    "l_dropout = tf.nn.dropout(l_dense_1, prob)\n",
    "\n",
    "W_dense_2 = init_var([1000, 10])\n",
    "b_dense_2 = init_var([10])\n",
    "l_dense_2 = tf.matmul(l_dropout, W_dense_2) + b_dense_2"
   ]
  },
  {
   "cell_type": "code",
   "execution_count": 71,
   "metadata": {},
   "outputs": [
    {
     "data": {
      "text/plain": [
       "[None, 10]"
      ]
     },
     "execution_count": 71,
     "metadata": {},
     "output_type": "execute_result"
    }
   ],
   "source": [
    "l_dense_2.get_shape().as_list()"
   ]
  },
  {
   "cell_type": "code",
   "execution_count": 75,
   "metadata": {
    "collapsed": true
   },
   "outputs": [],
   "source": [
    "loss = tf.reduce_mean(tf.nn.softmax_cross_entropy_with_logits_v2(logits=l_dense_2, labels=y_))\n",
    "train = tf.train.AdamOptimizer().minimize(loss)\n",
    "\n",
    "correct = tf.equal(tf.argmax(l_dense_2, 1), tf.argmax(y_, 1))\n",
    "accuracy = tf.reduce_mean(tf.cast(correct, tf.float32))"
   ]
  },
  {
   "cell_type": "code",
   "execution_count": 76,
   "metadata": {
    "collapsed": true
   },
   "outputs": [],
   "source": [
    "acc_list = []"
   ]
  },
  {
   "cell_type": "code",
   "execution_count": 78,
   "metadata": {
    "scrolled": false
   },
   "outputs": [
    {
     "name": "stdout",
     "output_type": "stream",
     "text": [
      "0 0.08\n",
      "100 0.92\n",
      "test accuracy 0.9455\n"
     ]
    }
   ],
   "source": [
    "with tf.Session() as sess:\n",
    "    sess.run(tf.global_variables_initializer())\n",
    "    for i in range(200):\n",
    "        batch = mnist.train.next_batch(50)\n",
    "        \n",
    "        if i % 100 == 0:\n",
    "            acc = accuracy.eval({x : batch[0], y_ : batch[1], prob : 1})\n",
    "            print(i, acc)\n",
    "            acc_list.append(acc)\n",
    "        \n",
    "        train.run({x: batch[0], y_: batch[1], prob: 0.5})\n",
    "        \n",
    "    print('test accuracy %g' % accuracy.eval(feed_dict={\n",
    "          x: mnist.test.images[:2000], y_: mnist.test.labels[:2000], prob: 1}))\n",
    "    "
   ]
  },
  {
   "cell_type": "markdown",
   "metadata": {},
   "source": [
    "#### MSE check`"
   ]
  },
  {
   "cell_type": "code",
   "execution_count": 214,
   "metadata": {
    "collapsed": true
   },
   "outputs": [],
   "source": [
    "a = tf.placeholder(tf.float32)\n",
    "b = tf.placeholder(tf.float32)    "
   ]
  },
  {
   "cell_type": "code",
   "execution_count": 216,
   "metadata": {},
   "outputs": [],
   "source": [
    "mse = tf.reduce_mean(tf.squared_difference(a, b), 1)"
   ]
  },
  {
   "cell_type": "code",
   "execution_count": 223,
   "metadata": {
    "collapsed": true
   },
   "outputs": [],
   "source": [
    "tn = tf.truncated_normal((10,10)) / 10"
   ]
  },
  {
   "cell_type": "code",
   "execution_count": 224,
   "metadata": {},
   "outputs": [
    {
     "data": {
      "text/plain": [
       "[array([ 0.,  0.,  0.,  0.], dtype=float32),\n",
       " array([[-0.06959507, -0.09057277,  0.10963985,  0.08222605, -0.03869854,\n",
       "         -0.06150661, -0.10598619, -0.01464909, -0.18092424, -0.17417203],\n",
       "        [ 0.05788362, -0.14508286,  0.09065788,  0.1285512 , -0.05893765,\n",
       "          0.16565351, -0.05170033,  0.03498211, -0.0126902 ,  0.098424  ],\n",
       "        [ 0.04547034,  0.12770982, -0.00952954, -0.11951027, -0.02438813,\n",
       "          0.09063514, -0.04326795,  0.14002629, -0.02527756,  0.09974826],\n",
       "        [ 0.09416965, -0.0439852 , -0.02998312,  0.068509  , -0.00446869,\n",
       "          0.0603765 , -0.03120703,  0.03979282, -0.05558593, -0.1134274 ],\n",
       "        [ 0.14467172, -0.18102184,  0.05375842,  0.14329427,  0.11629945,\n",
       "          0.06735642, -0.06428711,  0.00029542, -0.05016619,  0.06902727],\n",
       "        [ 0.19268389,  0.19295511,  0.05005402,  0.01324972, -0.04859195,\n",
       "         -0.09160911,  0.08356685, -0.10766944, -0.04014878, -0.17556509],\n",
       "        [ 0.0850774 ,  0.08239626,  0.03554998, -0.07630973, -0.13380556,\n",
       "          0.14376424,  0.04209585, -0.17772968, -0.01441485, -0.06803229],\n",
       "        [ 0.01161196,  0.0434313 ,  0.04203311,  0.07843199,  0.07073251,\n",
       "          0.01698671, -0.11707067,  0.11821016, -0.14658932,  0.0336341 ],\n",
       "        [-0.03663728,  0.05401454,  0.02377115,  0.11232556, -0.05372804,\n",
       "          0.12189615,  0.16262613,  0.01800235,  0.18325596, -0.11895442],\n",
       "        [-0.09894767, -0.00769712,  0.05523242,  0.0851075 ,  0.01875899,\n",
       "         -0.03717878,  0.07449603,  0.06795973, -0.0384553 , -0.02350695]], dtype=float32)]"
      ]
     },
     "execution_count": 224,
     "metadata": {},
     "output_type": "execute_result"
    }
   ],
   "source": [
    "sess2 = tf.Session()\n",
    "sess2.run(tf.global_variables_initializer())\n",
    "\n",
    "sess2.run([mse, tn], {a : gamma_arr, b : gamma_arr})"
   ]
  },
  {
   "cell_type": "code",
   "execution_count": null,
   "metadata": {
    "collapsed": true
   },
   "outputs": [],
   "source": []
  },
  {
   "cell_type": "markdown",
   "metadata": {},
   "source": [
    "## Loops"
   ]
  },
  {
   "cell_type": "code",
   "execution_count": 1,
   "metadata": {
    "collapsed": true
   },
   "outputs": [],
   "source": [
    "import tensorflow as tf\n",
    "import numpy as np"
   ]
  },
  {
   "cell_type": "code",
   "execution_count": 5,
   "metadata": {
    "collapsed": true
   },
   "outputs": [],
   "source": [
    "i = tf.constant(0)\n",
    "c = lambda i: tf.less(i, 10)\n",
    "b = lambda i: tf.add(i, 1)\n",
    "r = tf.while_loop(c, b, [i])\n"
   ]
  },
  {
   "cell_type": "code",
   "execution_count": 3,
   "metadata": {
    "collapsed": true
   },
   "outputs": [],
   "source": [
    "#loops = tf.constant([10])\n",
    "i = tf.constant(0)\n",
    "c = lambda i: tf.less(i, 10)\n",
    "\n",
    "\n",
    "def b(i):\n",
    "    #print(\"sa\")\n",
    "    b \n",
    "    return tf.add(i, 2)"
   ]
  },
  {
   "cell_type": "code",
   "execution_count": 7,
   "metadata": {
    "collapsed": true
   },
   "outputs": [],
   "source": [
    "N = 4\n",
    "D = 2\n",
    "K = 3"
   ]
  },
  {
   "cell_type": "code",
   "execution_count": 8,
   "metadata": {
    "collapsed": true
   },
   "outputs": [],
   "source": [
    "gamma_arr = np.array([[0.5, 0.1, 0.4], [0.3, .4, .3],[0.3, .4, .3],[0.1, .1, .8] ])\n",
    "\n",
    "z_arr = np.array(([[1,2], [4,3] ,[4,3], [2, 1]]))"
   ]
  },
  {
   "cell_type": "code",
   "execution_count": 9,
   "metadata": {
    "collapsed": true
   },
   "outputs": [],
   "source": [
    "gamma = tf.placeholder(tf.float32)\n",
    "z = tf.placeholder(tf.float32)    "
   ]
  },
  {
   "cell_type": "code",
   "execution_count": 208,
   "metadata": {
    "collapsed": true
   },
   "outputs": [],
   "source": [
    "def est_gmm(gamma, z):\n",
    "    weights = tf.reduce_mean(gamma, reduction_indices=[0])\n",
    "    means = tf.transpose(tf.matmul(tf.transpose(z), gamma) / tf.transpose(tf.reduce_sum(gamma, reduction_indices=[0])))\n",
    "    \n",
    "    z_minus_means = tf.map_fn(lambda x: z - x, means)\n",
    "\n",
    "    def internal(x):\n",
    "        x = tf.reshape(x, (1,-1))\n",
    "        return tf.matmul(tf.transpose(x), x)\n",
    "\n",
    "    matrixes = tf.map_fn(lambda x: tf.map_fn(internal, x), z_minus_means)\n",
    "    \n",
    "    m_r = tf.reshape(matrixes, (12,4))\n",
    "    m_r2 = tf.reshape(matrixes, (12,4)) * tf.reshape(tf.transpose(gamma), (12,1))\n",
    "    m_r3 = tf.reduce_sum(tf.reshape(m_r2, (3,4,2,2)), [1]) \n",
    "    sigmas = tf.reshape(tf.transpose(tf.transpose(tf.reshape(m_r3, (3, 4))) / tf.reduce_sum(gamma, 0)), (3,2,2))\n",
    "    \n",
    "    means_minus_z = tf.map_fn(lambda x: means - x, z)\n",
    "    \n",
    "    def internal_e_1(z):\n",
    "        #return (-0.5 * tf.map_fn(lambda x: tf.matmul(tf.matmul(tf.reshape(x, (1, -1)), z[1]), tf.reshape(x, (-1,1))), z[0]), 0.)\n",
    "        #return tf.map_fn(lambda x,y: (tf.matmul(tf.reshape(x, (1, -1)), y), 0.), (z, sigmas), dtype=(tf.float32, tf.float32))[0]\n",
    "        return tf.exp( -0.5 * \n",
    "            tf.map_fn(lambda x: tf.matmul(tf.matmul(tf.reshape(x, (1, -1)), tf.linalg.inv(z[1])),  tf.reshape(x, (-1, 1))),\n",
    "                      z[0])) / tf.sqrt(tf.abs(tf.linalg.det(z[1])))\n",
    "\n",
    "    #en_1 = tf.map_fn(lambda x: tf.transpose(x, (1,0,2)),means_minus_z)#, dtype=(tf.float32, tf.float32))\n",
    "    en_1 = tf.transpose(means_minus_z, (1,0,2))\n",
    "\n",
    "    en_2 = tf.map_fn(internal_e_1, (en_1, sigmas), dtype=(tf.float32))\n",
    "\n",
    "    en = tf.reduce_mean(-tf.log(tf.reduce_sum(tf.transpose(tf.reshape(en_2, (3, 4))) * weights, 1)))\n",
    "    \n",
    "    return weights, means, sigmas, en"
   ]
  },
  {
   "cell_type": "code",
   "execution_count": 211,
   "metadata": {
    "collapsed": true
   },
   "outputs": [],
   "source": [
    "w, m, s, e = est_gmm(gamma, z)"
   ]
  },
  {
   "cell_type": "code",
   "execution_count": 10,
   "metadata": {},
   "outputs": [],
   "source": [
    "weights = tf.reduce_mean(gamma, reduction_indices=[0])\n",
    "means = tf.transpose(tf.matmul(tf.transpose(z), gamma) / tf.transpose(tf.reduce_sum(gamma, reduction_indices=[0])))"
   ]
  },
  {
   "cell_type": "code",
   "execution_count": 26,
   "metadata": {
    "collapsed": true
   },
   "outputs": [],
   "source": [
    "z_minus_means = tf.map_fn(lambda x: z - x, means)\n",
    "\n",
    "def internal(x):\n",
    "    x = tf.reshape(x, (1,-1))\n",
    "    return tf.matmul(tf.transpose(x), x)\n",
    "\n",
    "matrixes = tf.map_fn(lambda x: tf.map_fn(internal, x), z_minus_means)"
   ]
  },
  {
   "cell_type": "code",
   "execution_count": 84,
   "metadata": {},
   "outputs": [],
   "source": [
    "m_r = tf.reshape(matrixes, (12,4))\n",
    "m_r2 = tf.reshape(matrixes, (12,4)) * tf.reshape(tf.transpose(gamma), (12,1))\n",
    "m_r3 = tf.reduce_sum(tf.reshape(m_r2, (3,4,2,2)), [1]) \n",
    "sigmas = tf.reshape(tf.transpose(tf.transpose(tf.reshape(m_r3, (3, 4))) / tf.reduce_sum(gamma, 0)), (3,2,2))"
   ]
  },
  {
   "cell_type": "code",
   "execution_count": null,
   "metadata": {
    "collapsed": true
   },
   "outputs": [],
   "source": [
    "z_minus_means_squared = tf.map_fn(lambda x: tf.reduce_sum(x * x), z_minus_means)\n",
    "energy = tf.reduce_mean(-tf.log(tf.reduce_sum(tf.exp(-0.5 * tf.transpose(\n",
    "    tf.reshape(z_minus_means_squared, gamma_arr.T.shape)) / sigma_flat) * weights  / tf.sqrt(6.28  * sigma_flat), 1)))"
   ]
  },
  {
   "cell_type": "code",
   "execution_count": 124,
   "metadata": {
    "collapsed": true
   },
   "outputs": [],
   "source": [
    "means_minus_z = tf.map_fn(lambda x: means - x, z)"
   ]
  },
  {
   "cell_type": "code",
   "execution_count": 212,
   "metadata": {},
   "outputs": [],
   "source": [
    "def internal_e_1(z):\n",
    "    #return (-0.5 * tf.map_fn(lambda x: tf.matmul(tf.matmul(tf.reshape(x, (1, -1)), z[1]), tf.reshape(x, (-1,1))), z[0]), 0.)\n",
    "    #return tf.map_fn(lambda x,y: (tf.matmul(tf.reshape(x, (1, -1)), y), 0.), (z, sigmas), dtype=(tf.float32, tf.float32))[0]\n",
    "    return tf.exp( -0.5 * \n",
    "        tf.map_fn(lambda x: tf.matmul(tf.matmul(tf.reshape(x, (1, -1)), tf.linalg.inv(z[1])),  tf.reshape(x, (-1, 1))),\n",
    "                  z[0])) / tf.sqrt(tf.abs(tf.linalg.det(z[1])))\n",
    "\n",
    "#en_1 = tf.map_fn(lambda x: tf.transpose(x, (1,0,2)),means_minus_z)#, dtype=(tf.float32, tf.float32))\n",
    "en_1 = tf.transpose(means_minus_z, (1,0,2))\n",
    "\n",
    "en_2 = tf.map_fn(internal_e_1, (en_1, sigmas), dtype=(tf.float32))\n",
    "\n",
    "en = tf.reduce_mean(-tf.log(tf.reduce_sum(tf.transpose(tf.reshape(en_2, (3, 4))) * weights, 1)))"
   ]
  },
  {
   "cell_type": "code",
   "execution_count": 213,
   "metadata": {
    "scrolled": false
   },
   "outputs": [
    {
     "data": {
      "text/plain": [
       "[array([[[ 2.07638884,  0.75694436],\n",
       "         [ 0.75694436,  0.40972221]],\n",
       " \n",
       "        [[ 1.05000007,  0.55000001],\n",
       "         [ 0.55000001,  0.41      ]],\n",
       " \n",
       "        [[ 1.35802472,  0.71604943],\n",
       "         [ 0.71604943,  0.76543212]]], dtype=float32),\n",
       " array([[[ 2.07638884,  0.75694436],\n",
       "         [ 0.75694436,  0.40972221]],\n",
       " \n",
       "        [[ 1.05000007,  0.55000001],\n",
       "         [ 0.55000001,  0.41      ]],\n",
       " \n",
       "        [[ 1.35802472,  0.71604943],\n",
       "         [ 0.71604943,  0.76543212]]], dtype=float32),\n",
       " 0.41150391,\n",
       " 0.41150391]"
      ]
     },
     "execution_count": 213,
     "metadata": {},
     "output_type": "execute_result"
    }
   ],
   "source": [
    "sess2 = tf.Session()\n",
    "sess2.run(tf.global_variables_initializer())\n",
    "\n",
    "sess2.run([sigmas, s, en, e], {gamma : gamma_arr, z : z_arr})"
   ]
  },
  {
   "cell_type": "code",
   "execution_count": 173,
   "metadata": {},
   "outputs": [
    {
     "data": {
      "text/plain": [
       "array([[ 0.5,  0.1,  0.4],\n",
       "       [ 0.3,  0.4,  0.3],\n",
       "       [ 0.3,  0.4,  0.3],\n",
       "       [ 0.1,  0.1,  0.8]])"
      ]
     },
     "execution_count": 173,
     "metadata": {},
     "output_type": "execute_result"
    }
   ],
   "source": [
    "gamma_arr"
   ]
  },
  {
   "cell_type": "code",
   "execution_count": 133,
   "metadata": {
    "collapsed": true
   },
   "outputs": [],
   "source": [
    "z_minus_means = tf.reshape(tf.map_fn(lambda x: z - x, means), [-1, 2])\n",
    "\n",
    "z_minus_means_squared = tf.map_fn(lambda x: tf.reduce_sum(x * x), z_minus_means)\n",
    "\n",
    "sigma_flat = tf.reduce_sum(tf.transpose(tf.reshape(\n",
    "        z_minus_means_squared * tf.reshape(tf.transpose(gamma), (1, -1)), gamma_arr.T.shape)), 0) / tf.reduce_sum(gamma, 0)\n",
    "\n",
    "energy = tf.reduce_mean(-tf.log(tf.reduce_sum(tf.exp(-0.5 * tf.transpose(\n",
    "    tf.reshape(z_minus_means_squared, gamma_arr.T.shape)) / sigma_flat) * weights  / tf.sqrt(6.28  * sigma_flat), 1)))\n",
    "\n"
   ]
  },
  {
   "cell_type": "code",
   "execution_count": null,
   "metadata": {
    "collapsed": true
   },
   "outputs": [],
   "source": [
    "i = tf.constant(0)\n",
    "c = lambda i: tf.less(i, 10)\n",
    "def b(i):\n",
    "    \n",
    "    return tf.add(i, 1)\n",
    "r = tf.while_loop(c, b, [i])"
   ]
  },
  {
   "cell_type": "code",
   "execution_count": 23,
   "metadata": {
    "collapsed": true
   },
   "outputs": [],
   "source": [
    "def est_gmm(gamma, z):\n",
    "    weights = gamma.mean(0)\n",
    "    means = (T.dot( z.T, gamma) / gamma.sum(0)).T\n",
    "    \n",
    "    sigma_flat = T.vector()#(K)\n",
    "    for j in range(K):\n",
    "        sigma_j = 0\n",
    "        for i in range(N):\n",
    "            print \n",
    "            sigma_j += gamma[i][j] * T.dot(z[i] - means[j], (z[i]- means[j]).T)\n",
    "        sigma_j /= gamma.sum(0)[j]\n",
    "        #print(sigma_j.eval())\n",
    "        \n",
    "        sigma_flat[j] = sigma_j\n",
    "    \n",
    "    total_energy = 0\n",
    "    for i in range(N):\n",
    "        energy = 0\n",
    "        for j in range(K):\n",
    "            energy += weights[j] *np.exp(- 0.5 * np.dot((z[i] - means[j]), (z[i] - means[j]).T) / sigma_flat[j])\n",
    "        energy /= np.sqrt(6.28 * sigma_flat[j])\n",
    "        energy = - np.log(energy)\n",
    "        total_energy += energy\n",
    "    \n",
    "    return weights, means, sigma_flat, total_energy / z.shape[0], np.abs(sigma_flat).sum()"
   ]
  },
  {
   "cell_type": "code",
   "execution_count": 24,
   "metadata": {
    "scrolled": true
   },
   "outputs": [
    {
     "ename": "NameError",
     "evalue": "name 'T' is not defined",
     "output_type": "error",
     "traceback": [
      "\u001b[0;31m---------------------------------------------------------------------------\u001b[0m",
      "\u001b[0;31mNameError\u001b[0m                                 Traceback (most recent call last)",
      "\u001b[0;32m<ipython-input-24-a3f1f09195d8>\u001b[0m in \u001b[0;36m<module>\u001b[0;34m()\u001b[0m\n\u001b[0;32m----> 1\u001b[0;31m \u001b[0mest_gmm\u001b[0m\u001b[0;34m(\u001b[0m\u001b[0mgamma_arr\u001b[0m\u001b[0;34m,\u001b[0m \u001b[0mz_arr\u001b[0m\u001b[0;34m)\u001b[0m\u001b[0;34m\u001b[0m\u001b[0m\n\u001b[0m",
      "\u001b[0;32m<ipython-input-23-375924c581b7>\u001b[0m in \u001b[0;36mest_gmm\u001b[0;34m(gamma, z)\u001b[0m\n\u001b[1;32m      1\u001b[0m \u001b[0;32mdef\u001b[0m \u001b[0mest_gmm\u001b[0m\u001b[0;34m(\u001b[0m\u001b[0mgamma\u001b[0m\u001b[0;34m,\u001b[0m \u001b[0mz\u001b[0m\u001b[0;34m)\u001b[0m\u001b[0;34m:\u001b[0m\u001b[0;34m\u001b[0m\u001b[0m\n\u001b[1;32m      2\u001b[0m     \u001b[0mweights\u001b[0m \u001b[0;34m=\u001b[0m \u001b[0mgamma\u001b[0m\u001b[0;34m.\u001b[0m\u001b[0mmean\u001b[0m\u001b[0;34m(\u001b[0m\u001b[0;36m0\u001b[0m\u001b[0;34m)\u001b[0m\u001b[0;34m\u001b[0m\u001b[0m\n\u001b[0;32m----> 3\u001b[0;31m     \u001b[0mmeans\u001b[0m \u001b[0;34m=\u001b[0m \u001b[0;34m(\u001b[0m\u001b[0mT\u001b[0m\u001b[0;34m.\u001b[0m\u001b[0mdot\u001b[0m\u001b[0;34m(\u001b[0m \u001b[0mz\u001b[0m\u001b[0;34m.\u001b[0m\u001b[0mT\u001b[0m\u001b[0;34m,\u001b[0m \u001b[0mgamma\u001b[0m\u001b[0;34m)\u001b[0m \u001b[0;34m/\u001b[0m \u001b[0mgamma\u001b[0m\u001b[0;34m.\u001b[0m\u001b[0msum\u001b[0m\u001b[0;34m(\u001b[0m\u001b[0;36m0\u001b[0m\u001b[0;34m)\u001b[0m\u001b[0;34m)\u001b[0m\u001b[0;34m.\u001b[0m\u001b[0mT\u001b[0m\u001b[0;34m\u001b[0m\u001b[0m\n\u001b[0m\u001b[1;32m      4\u001b[0m \u001b[0;34m\u001b[0m\u001b[0m\n\u001b[1;32m      5\u001b[0m     \u001b[0msigma_flat\u001b[0m \u001b[0;34m=\u001b[0m \u001b[0mT\u001b[0m\u001b[0;34m.\u001b[0m\u001b[0mvector\u001b[0m\u001b[0;34m(\u001b[0m\u001b[0;34m)\u001b[0m\u001b[0;31m#(K)\u001b[0m\u001b[0;34m\u001b[0m\u001b[0m\n",
      "\u001b[0;31mNameError\u001b[0m: name 'T' is not defined"
     ]
    }
   ],
   "source": [
    "est_gmm(gamma_arr, z_arr)"
   ]
  },
  {
   "cell_type": "code",
   "execution_count": null,
   "metadata": {
    "collapsed": true
   },
   "outputs": [],
   "source": []
  },
  {
   "cell_type": "code",
   "execution_count": null,
   "metadata": {
    "collapsed": true
   },
   "outputs": [],
   "source": []
  },
  {
   "cell_type": "code",
   "execution_count": null,
   "metadata": {
    "collapsed": true
   },
   "outputs": [],
   "source": []
  },
  {
   "cell_type": "code",
   "execution_count": null,
   "metadata": {
    "collapsed": true
   },
   "outputs": [],
   "source": []
  }
 ],
 "metadata": {
  "kernelspec": {
   "display_name": "Python 3",
   "language": "python",
   "name": "python3"
  },
  "language_info": {
   "codemirror_mode": {
    "name": "ipython",
    "version": 3
   },
   "file_extension": ".py",
   "mimetype": "text/x-python",
   "name": "python",
   "nbconvert_exporter": "python",
   "pygments_lexer": "ipython3",
   "version": "3.6.3"
  }
 },
 "nbformat": 4,
 "nbformat_minor": 2
}
