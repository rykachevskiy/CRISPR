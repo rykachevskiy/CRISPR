{
 "cells": [
  {
   "cell_type": "code",
   "execution_count": 1,
   "metadata": {
    "collapsed": true
   },
   "outputs": [],
   "source": [
    "import tensorflow as tf\n",
    "import numpy as np\n",
    "import matplotlib.pyplot as plt\n",
    "import time\n",
    "from IPython import display"
   ]
  },
  {
   "cell_type": "code",
   "execution_count": 2,
   "metadata": {
    "collapsed": true
   },
   "outputs": [],
   "source": [
    "def iterate_minibatches(inputs, batchsize, shuffle=True):\n",
    "    if shuffle:\n",
    "        indices = np.arange(len(inputs))\n",
    "        np.random.shuffle(indices)\n",
    "    for start_idx in range(0, len(inputs) - batchsize + 1, batchsize):\n",
    "        if shuffle:\n",
    "            excerpt = indices[start_idx:start_idx + batchsize]\n",
    "        else:\n",
    "            excerpt = slice(start_idx, start_idx + batchsize)\n",
    "        yield inputs[excerpt]"
   ]
  },
  {
   "cell_type": "code",
   "execution_count": 3,
   "metadata": {
    "collapsed": true
   },
   "outputs": [],
   "source": [
    "#data = np.load(\"../data/npy/ES1_R1.npy\")"
   ]
  },
  {
   "cell_type": "markdown",
   "metadata": {},
   "source": [
    "### Synth data"
   ]
  },
  {
   "cell_type": "code",
   "execution_count": 77,
   "metadata": {
    "collapsed": true
   },
   "outputs": [],
   "source": [
    "def create_clust(dim):\n",
    "    center = np.random.random(dim)*np.random.randint(1,200)\n",
    "    \n",
    "    #cov_1 = np.random.random((dim,dim))\n",
    "    #cov_1 += cov_1.T\n",
    "    #while not all(np.linalg.eigvals(cov_1) > 0):\n",
    "    #    cov_1 = np.random.random((dim,dim))\n",
    "    #    cov_1 += cov_1.T\n",
    "    \n",
    "    cov_1 = np.diag(np.ones(dim))\n",
    "    \n",
    "    return np.random.multivariate_normal(center, cov_1 * 2, 1000)"
   ]
  },
  {
   "cell_type": "code",
   "execution_count": 105,
   "metadata": {
    "collapsed": true
   },
   "outputs": [],
   "source": [
    "clust_1 = create_clust(2)\n",
    "clust_2 = create_clust(2)\n",
    "#clust_3 = create_clust(4)"
   ]
  },
  {
   "cell_type": "code",
   "execution_count": 106,
   "metadata": {},
   "outputs": [
    {
     "data": {
      "image/png": "[encoded data removed]",
      "text/plain": [
       "<matplotlib.figure.Figure at 0x7f9ebf0cafd0>"
      ]
     },
     "metadata": {},
     "output_type": "display_data"
    }
   ],
   "source": [
    "plt.scatter(clust_1[:,0],clust_1[:,1], c='y' )\n",
    "plt.scatter(clust_2[:,0],clust_2[:,1], c='r' )\n",
    "#plt.scatter(clust_3[:,0],clust_3[:,1], c='b' )\n",
    "#plt.scatter(data_2[:,0],data_2[:,1], c='b' )\n",
    "plt.show()"
   ]
  },
  {
   "cell_type": "code",
   "execution_count": 107,
   "metadata": {},
   "outputs": [],
   "source": [
    "data = np.concatenate((clust_1, clust_2))"
   ]
  },
  {
   "cell_type": "code",
   "execution_count": 80,
   "metadata": {
    "collapsed": true
   },
   "outputs": [],
   "source": [
    "data = clust_1"
   ]
  },
  {
   "cell_type": "code",
   "execution_count": 108,
   "metadata": {
    "collapsed": true
   },
   "outputs": [],
   "source": [
    "# Training Parameters\n",
    "#learning_rate = 0.001\n",
    "#num_steps = 30000\n",
    "batch_size = 50\n",
    "clusters_num = 1\n",
    "\n",
    "#display_step = 1000\n",
    "#examples_to_show = 10\n",
    "\n",
    "# Network Parameters\n",
    "num_hidden_1 = 2 # 1st layer num features\n",
    "int_dim = 2 # 2nd layer num features (the latent dim)\n",
    "num_input = 2 # MNIST data input (img shape: 28*28)"
   ]
  },
  {
   "cell_type": "code",
   "execution_count": 120,
   "metadata": {
    "collapsed": true
   },
   "outputs": [],
   "source": [
    "X = tf.placeholder(\"float\", [None, num_input])\n",
    "Y = tf.placeholder(\"float\", [None, num_input])\n",
    "learning_rate = tf.placeholder( dtype=tf.float32)\n",
    "\n",
    "weights = {\n",
    "    'encoder_h1': tf.Variable(tf.truncated_normal([num_input, num_hidden_1]) / 10),\n",
    "    'encoder_h2': tf.Variable(tf.truncated_normal([num_hidden_1, int_dim]) / 10),\n",
    "    'decoder_h1': tf.Variable(tf.truncated_normal([int_dim, num_hidden_1]) / 10),\n",
    "    'decoder_h2': tf.Variable(tf.truncated_normal([num_hidden_1, num_input]) / 10),\n",
    "    'predictor_h_1': tf.Variable(tf.truncated_normal([int_dim + 1, num_hidden_1]) / 10),\n",
    "    'predictor_h_2': tf.Variable(tf.truncated_normal([num_hidden_1, clusters_num]) / 10)\n",
    "}\n",
    "biases = {\n",
    "    'encoder_b1': tf.Variable(tf.truncated_normal([num_hidden_1]) / 10),\n",
    "    'encoder_b2': tf.Variable(tf.truncated_normal([int_dim]) / 10),\n",
    "    'decoder_b1': tf.Variable(tf.truncated_normal([num_hidden_1]) / 10),\n",
    "    'decoder_b2': tf.Variable(tf.truncated_normal([num_input]) / 10),\n",
    "    'predictor_b_1': tf.Variable(tf.truncated_normal([num_hidden_1]) / 10),\n",
    "    'predictor_b_2': tf.Variable(tf.truncated_normal([clusters_num]) / 10)\n",
    "}\n",
    "\n",
    "# Building the encoder\n",
    "\n",
    "    # Encoder Hidden layer with sigmoid activation #1\n",
    "#enc_layer_1 = tf.add(tf.matmul(X, weights['encoder_h1']),\n",
    "#                                   biases['encoder_b1'])\n",
    "    # Encoder Hidden layer with sigmoid activation #2\n",
    "z = tf.nn.relu(tf.add(tf.matmul(X, weights['encoder_h2']),\n",
    "                                   biases['encoder_b2']))\n",
    "\n",
    "\n",
    "# Building the decoder\n",
    "\n",
    "    # Decoder Hidden layer with sigmoid activation #1\n",
    "#dec_layer_1 = tf.add(tf.matmul(z, weights['decoder_h1']),\n",
    "#                                   biases['decoder_b1'])\n",
    "    # Decoder Hidden layer with sigmoid activation #2\n",
    "decoder = tf.add(tf.matmul(z, weights['decoder_h2']),\n",
    "                                   biases['decoder_b2'])"
   ]
  },
  {
   "cell_type": "code",
   "execution_count": 121,
   "metadata": {
    "collapsed": true
   },
   "outputs": [],
   "source": [
    "mse = tf.reduce_mean(tf.squared_difference(decoder, Y))"
   ]
  },
  {
   "cell_type": "code",
   "execution_count": 32,
   "metadata": {
    "collapsed": true
   },
   "outputs": [],
   "source": [
    "predictor_inp = tf.concat([z, tf.reshape(mse, (-1,1))], axis = 1)"
   ]
  },
  {
   "cell_type": "code",
   "execution_count": 33,
   "metadata": {
    "collapsed": true
   },
   "outputs": [],
   "source": [
    "predictor_layer_1 = tf.nn.relu(tf.add(tf.matmul(predictor_inp, weights['predictor_h_1']),\n",
    "                                   biases['predictor_b_1']))\n",
    "gamma = tf.nn.softmax(tf.add(tf.matmul(predictor_layer_1, weights['predictor_h_2']),\n",
    "                                   biases['predictor_b_2']))"
   ]
  },
  {
   "cell_type": "code",
   "execution_count": 34,
   "metadata": {
    "collapsed": true
   },
   "outputs": [],
   "source": [
    "def est_gmm(gamma, z):\n",
    "    weights = tf.reduce_mean(gamma, reduction_indices=[0])\n",
    "    means = tf.transpose(tf.matmul(tf.transpose(z), gamma) / tf.transpose(tf.reduce_sum(gamma, reduction_indices=[0])))\n",
    "    \n",
    "    z_minus_means = tf.map_fn(lambda x: z - x, means)\n",
    "\n",
    "    def internal(x):\n",
    "        x = tf.reshape(x, (1,-1))\n",
    "        return tf.matmul(tf.transpose(x), x)\n",
    "\n",
    "    matrixes = tf.map_fn(lambda x: tf.map_fn(internal, x), z_minus_means)\n",
    "    \n",
    "    m_r = tf.reshape(matrixes, (clusters_num * batch_size, int_dim * int_dim))\n",
    "    m_r2 = tf.reshape(matrixes, (clusters_num * batch_size, int_dim * int_dim)) * tf.reshape(tf.transpose(gamma), (clusters_num * batch_size,1))\n",
    "    m_r3 = tf.reduce_sum(tf.reshape(m_r2, (clusters_num,batch_size,int_dim,int_dim)), [1]) \n",
    "    sigmas = tf.reshape(tf.transpose(tf.transpose(tf.reshape(m_r3, (clusters_num, int_dim * int_dim))) / tf.reduce_sum(gamma, 0)), (clusters_num,int_dim,int_dim))\n",
    "    \n",
    "    means_minus_z = tf.map_fn(lambda x: means - x, z)\n",
    "    \n",
    "    def internal_e_1(z):\n",
    "        #return (-0.5 * tf.map_fn(lambda x: tf.matmul(tf.matmul(tf.reshape(x, (1, -1)), z[1]), tf.reshape(x, (-1,1))), z[0]), 0.)\n",
    "        #return tf.map_fn(lambda x,y: (tf.matmul(tf.reshape(x, (1, -1)), y), 0.), (z, sigmas), dtype=(tf.float32, tf.float32))[0]\n",
    "        return tf.exp( -0.5 * \n",
    "            tf.map_fn(lambda x: tf.matmul(tf.matmul(tf.reshape(x, (1, -1)), tf.linalg.inv(z[1])),  tf.reshape(x, (-1, 1))),\n",
    "                      z[0])) / tf.sqrt(tf.abs(tf.linalg.det(z[1])))\n",
    "\n",
    "    #en_1 = tf.map_fn(lambda x: tf.transpose(x, (1,0,2)),means_minus_z)#, dtype=(tf.float32, tf.float32))\n",
    "    en_1 = tf.transpose(means_minus_z, (1,0,2))\n",
    "\n",
    "    en_2 = tf.map_fn(internal_e_1, (en_1, sigmas), dtype=(tf.float32))\n",
    "\n",
    "    en = tf.reduce_mean(-tf.log(tf.reduce_sum(tf.transpose(tf.reshape(en_2, (clusters_num, batch_size))) * weights, 1)))\n",
    "    \n",
    "    return weights, means, sigmas, en"
   ]
  },
  {
   "cell_type": "code",
   "execution_count": 35,
   "metadata": {
    "collapsed": true
   },
   "outputs": [],
   "source": [
    "w, m, s, e = est_gmm(gamma, z)"
   ]
  },
  {
   "cell_type": "code",
   "execution_count": 122,
   "metadata": {
    "collapsed": true
   },
   "outputs": [],
   "source": [
    "# Define loss and optimizer, minimize the squared error\n",
    "#loss = tf.reduce_mean(mse)#+ 0.01 * e + tf.reduce_sum(0.001 / s)\n",
    "optimizer = tf.train.RMSPropOptimizer(learning_rate).minimize(mse)\n",
    "\n",
    "# Initialize the variables (i.e. assign their default value)\n",
    "init = tf.global_variables_initializer()"
   ]
  },
  {
   "cell_type": "code",
   "execution_count": null,
   "metadata": {
    "collapsed": true
   },
   "outputs": [],
   "source": []
  },
  {
   "cell_type": "code",
   "execution_count": null,
   "metadata": {
    "collapsed": true
   },
   "outputs": [],
   "source": []
  },
  {
   "cell_type": "code",
   "execution_count": null,
   "metadata": {
    "collapsed": true
   },
   "outputs": [],
   "source": []
  },
  {
   "cell_type": "code",
   "execution_count": 123,
   "metadata": {
    "collapsed": true
   },
   "outputs": [],
   "source": [
    "sess.close()"
   ]
  },
  {
   "cell_type": "code",
   "execution_count": 124,
   "metadata": {
    "collapsed": true
   },
   "outputs": [],
   "source": [
    "sess = tf.Session()\n",
    "sess.run(init)\n",
    "\n",
    "# Training"
   ]
  },
  {
   "cell_type": "code",
   "execution_count": 139,
   "metadata": {
    "collapsed": true
   },
   "outputs": [],
   "source": [
    "epochs = 200\n",
    "losses = []"
   ]
  },
  {
   "cell_type": "code",
   "execution_count": 126,
   "metadata": {},
   "outputs": [
    {
     "data": {
      "text/plain": [
       "50"
      ]
     },
     "execution_count": 126,
     "metadata": {},
     "output_type": "execute_result"
    }
   ],
   "source": [
    "batch_size"
   ]
  },
  {
   "cell_type": "code",
   "execution_count": 127,
   "metadata": {},
   "outputs": [
    {
     "data": {
      "text/plain": [
       "[318.40973]"
      ]
     },
     "execution_count": 127,
     "metadata": {},
     "output_type": "execute_result"
    }
   ],
   "source": [
    "sess.run([mse], feed_dict={X: data[0:10], Y: data[0:10]})"
   ]
  },
  {
   "cell_type": "code",
   "execution_count": 137,
   "metadata": {
    "collapsed": true
   },
   "outputs": [],
   "source": [
    "lr = 0.01"
   ]
  },
  {
   "cell_type": "code",
   "execution_count": 140,
   "metadata": {
    "scrolled": false
   },
   "outputs": [
    {
     "data": {
      "image/png": "[encoded data removed]",
      "text/plain": [
       "<matplotlib.figure.Figure at 0x7f9ebe323048>"
      ]
     },
     "metadata": {},
     "output_type": "display_data"
    }
   ],
   "source": [
    "for i in range(epochs):\n",
    "    for batch in iterate_minibatches(data, batch_size, shuffle = True):\n",
    "        _, l = sess.run([optimizer, mse], feed_dict={X: batch, Y: batch, learning_rate : lr})\n",
    "        losses.append(l)\n",
    "    # Display logs per step\n",
    "    \n",
    "    if i % 1 == 0 or i == 1:\n",
    "        print('Step %i: Minibatch Loss: %f' % (i, l))\n",
    "        \n",
    "        display.clear_output(wait=True)\n",
    "        plt.plot(losses, label='train')\n",
    "    #    plt.plot(v_losses_valid, label='validation')\n",
    "        plt.legend()\n",
    "        plt.show()\n",
    "        \n",
    "    #lr *= 0.95\n"
   ]
  },
  {
   "cell_type": "code",
   "execution_count": 72,
   "metadata": {},
   "outputs": [
    {
     "data": {
      "image/png": "[encoded data removed]",
      "text/plain": [
       "<matplotlib.figure.Figure at 0x7f9ebf0b2fd0>"
      ]
     },
     "metadata": {},
     "output_type": "display_data"
    }
   ],
   "source": [
    "plt.plot(losses[300:], label='train')\n",
    "#    plt.plot(v_losses_valid, label='validation')\n",
    "plt.legend()\n",
    "plt.show()"
   ]
  },
  {
   "cell_type": "code",
   "execution_count": 91,
   "metadata": {},
   "outputs": [
    {
     "data": {
      "text/plain": [
       "[array([[ 12.87011051,  17.34328651],\n",
       "        [ 12.66462135,  18.80195427],\n",
       "        [ 14.95114326,  14.5014801 ],\n",
       "        [ 11.42245865,  15.55746651],\n",
       "        [ 11.64191723,  18.03108788],\n",
       "        [ 13.07362461,  16.70184135],\n",
       "        [ 13.24153614,  17.46023369],\n",
       "        [ 12.86480808,  18.29295921],\n",
       "        [ 12.65094566,  15.27075768],\n",
       "        [ 14.09473801,  12.84844017]], dtype=float32)]"
      ]
     },
     "execution_count": 91,
     "metadata": {},
     "output_type": "execute_result"
    }
   ],
   "source": [
    "sess.run([z], {X: data[:10]})"
   ]
  },
  {
   "cell_type": "code",
   "execution_count": 119,
   "metadata": {},
   "outputs": [
    {
     "data": {
      "text/plain": [
       "array([[ 0.88324738,  0.01095954],\n",
       "       [-0.01131704,  1.00339389]], dtype=float32)"
      ]
     },
     "execution_count": 119,
     "metadata": {},
     "output_type": "execute_result"
    }
   ],
   "source": [
    "np.dot(sess.run(weights['encoder_h2']), sess.run(weights['decoder_h2']))"
   ]
  },
  {
   "cell_type": "code",
   "execution_count": 73,
   "metadata": {},
   "outputs": [
    {
     "data": {
      "text/plain": [
       "array([[-0.43715525, -0.56410933],\n",
       "       [-0.4207879 , -0.56385201]], dtype=float32)"
      ]
     },
     "execution_count": 73,
     "metadata": {},
     "output_type": "execute_result"
    }
   ],
   "source": [
    "sess.run(weights['decoder_h2'])"
   ]
  },
  {
   "cell_type": "code",
   "execution_count": 42,
   "metadata": {
    "collapsed": true
   },
   "outputs": [],
   "source": [
    "data_2 = sess.run([decoder], {X: data}) [0]"
   ]
  },
  {
   "cell_type": "code",
   "execution_count": 103,
   "metadata": {},
   "outputs": [
    {
     "data": {
      "text/plain": [
       "array([[ 15.8507061 ,  21.12286186],\n",
       "       [ 17.508461  ,  23.1594677 ],\n",
       "       [ 14.8723259 ,  19.85094833],\n",
       "       [ 17.49960518,  23.23057938],\n",
       "       [ 18.78596497,  24.82101822],\n",
       "       [ 17.08238411,  22.77754593],\n",
       "       [ 17.94906616,  23.86109161],\n",
       "       [ 17.05692101,  22.53181458],\n",
       "       [ 17.21934128,  23.06864929],\n",
       "       [ 18.08721542,  24.29743576]], dtype=float32)"
      ]
     },
     "execution_count": 103,
     "metadata": {},
     "output_type": "execute_result"
    }
   ],
   "source": [
    "data_2[:10]"
   ]
  },
  {
   "cell_type": "code",
   "execution_count": 41,
   "metadata": {},
   "outputs": [
    {
     "data": {
      "text/plain": [
       "array([[ 15.50276192,  21.60550506],\n",
       "       [ 18.84553069,  21.98820822],\n",
       "       [ 14.22770353,  20.61880886],\n",
       "       [ 18.00966429,  22.87807179],\n",
       "       [ 20.50274117,  23.28494269],\n",
       "       [ 16.57437944,  23.42940047],\n",
       "       [ 18.13444304,  23.83397632],\n",
       "       [ 18.66253597,  21.09073066],\n",
       "       [ 15.62489013,  24.79739923],\n",
       "       [ 15.75296955,  26.76622801]])"
      ]
     },
     "execution_count": 41,
     "metadata": {},
     "output_type": "execute_result"
    }
   ],
   "source": [
    "data[:10]"
   ]
  },
  {
   "cell_type": "code",
   "execution_count": 13,
   "metadata": {
    "collapsed": true
   },
   "outputs": [],
   "source": [
    "summ_writer = tf.summary.FileWriter(\"/home/anton/TF_logs/CRISPR/\", sess.graph, filename_suffix=\"AE_2\")"
   ]
  },
  {
   "cell_type": "code",
   "execution_count": null,
   "metadata": {
    "collapsed": true
   },
   "outputs": [],
   "source": []
  },
  {
   "cell_type": "code",
   "execution_count": 37,
   "metadata": {
    "collapsed": true
   },
   "outputs": [],
   "source": [
    "summ_writer.close()"
   ]
  },
  {
   "cell_type": "code",
   "execution_count": 24,
   "metadata": {
    "collapsed": true
   },
   "outputs": [],
   "source": [
    "#gamma = tf.placeholder(tf.float32)\n",
    "#z = tf.placeholder(tf.float32)    \n",
    "\n",
    "weights = tf.reduce_mean(gamma, reduction_indices=[0])\n",
    "means = tf.transpose(tf.matmul(tf.transpose(z), gamma) / tf.transpose(tf.reduce_sum(gamma, reduction_indices=[0])))\n",
    "\n",
    "z_minus_means = tf.reshape(tf.map_fn(lambda x: z - x, means), [-1, int_dim])\n",
    "\n",
    "z_minus_means_squared = tf.map_fn(lambda x: tf.reduce_sum(x * x), z_minus_means)\n",
    "\n",
    "sigma_flat = tf.reduce_sum(tf.transpose(tf.reshape(\n",
    "        z_minus_means_squared * tf.reshape(tf.transpose(gamma), (1, -1)), [clusters_num, batch_size])), 0) / tf.reduce_sum(gamma, 0)\n",
    "\n",
    "pre_energy = tf.reduce_sum(tf.exp(-0.5 * tf.transpose(\n",
    "    tf.reshape(z_minus_means_squared,  [clusters_num, batch_size])) / sigma_flat) * weights  / tf.sqrt(6.28  * sigma_flat),1 )\n",
    "                           \n",
    "energy = tf.reduce_mean(-tf.log(tf.reduce_sum(tf.exp(-0.5 * tf.transpose(\n",
    "    tf.reshape(z_minus_means_squared,  [clusters_num, batch_size])) / sigma_flat) * weights  / tf.sqrt(6.28  * sigma_flat), 1)))"
   ]
  },
  {
   "cell_type": "code",
   "execution_count": null,
   "metadata": {
    "collapsed": true
   },
   "outputs": [],
   "source": []
  }
 ],
 "metadata": {
  "kernelspec": {
   "display_name": "Python 3",
   "language": "python",
   "name": "python3"
  },
  "language_info": {
   "codemirror_mode": {
    "name": "ipython",
    "version": 3
   },
   "file_extension": ".py",
   "mimetype": "text/x-python",
   "name": "python",
   "nbconvert_exporter": "python",
   "pygments_lexer": "ipython3",
   "version": "3.6.3"
  }
 },
 "nbformat": 4,
 "nbformat_minor": 2
}
