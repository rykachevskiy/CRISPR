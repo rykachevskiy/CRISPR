{
 "cells": [
  {
   "cell_type": "code",
   "execution_count": 1,
   "metadata": {},
   "outputs": [],
   "source": [
    "import numpy as np"
   ]
  },
  {
   "cell_type": "code",
   "execution_count": 3,
   "metadata": {},
   "outputs": [],
   "source": [
    "def score(c1, c2):\n",
    "    if c1 == c2: return  1\n",
    "    else: return -1\n",
    "\n",
    "def needleman_wunsch(seq1, seq2):\n",
    "    mat = np.zeros((len(seq1) + 1, len(seq2) + 1))\n",
    "    mat[:, 0] = -np.arange(len(seq1) + 1)\n",
    "    mat[0, :] = -np.arange(len(seq2) + 1)\n",
    "\n",
    "    mat_arrows = np.zeros_like(mat)\n",
    "\n",
    "    for i in range(1, len(seq1) + 1):\n",
    "        for j in range(1, len(seq2) + 1):\n",
    "            top = mat[i-1, j] - 1\n",
    "            left = mat[i, j-1] - 1\n",
    "            top_left = mat[i-1, j-1] +  score(seq1[i-1], seq2[j-1])\n",
    "\n",
    "            mat[i,j] = max([left, top_left, top])\n",
    "\n",
    "            mat_arrows[i,j] = np.argmax([left, top_left, top])\n",
    "\n",
    "\n",
    "    return mat, mat_arrows"
   ]
  },
  {
   "cell_type": "code",
   "execution_count": 55,
   "metadata": {},
   "outputs": [],
   "source": [
    "def process_arrows(mat_arrows, seq1, seq2):\n",
    "    i, j = mat_arrows.shape[0] - 1, mat_arrows.shape[1] - 1\n",
    "\n",
    "    res_seq1 = []\n",
    "    res_seq2 = []\n",
    "\n",
    "    while i != 0 and j != 0:\n",
    "        print(i, j, res_seq1, res_seq2)\n",
    "        if mat_arrows[i, j] == 1:\n",
    "            res_seq1.append(seq1[i-1])\n",
    "            res_seq2.append(seq2[j-1])\n",
    "            i -= 1\n",
    "            j -= 1\n",
    "        elif mat_arrows[i, j] == 0:\n",
    "            res_seq1.append('-')\n",
    "            res_seq2.append(seq2[j - 1])\n",
    "            j -= 1\n",
    "        elif mat_arrows[i, j] == 2:\n",
    "            res_seq1.append(seq1[i - 1])\n",
    "            res_seq2.append('-')\n",
    "            i -= 1\n",
    "    \n",
    "    if i != 0:\n",
    "        res_seq1.extend(seq1[:i])\n",
    "        res_seq2.extend(['-'] * len(seq2[:i]))\n",
    "\n",
    "    return res_seq1[::-1], res_seq2[::-1]#''.join(res_seq1[::-1]), ''.join(res_seq2[::-1])"
   ]
  },
  {
   "cell_type": "code",
   "execution_count": null,
   "metadata": {},
   "outputs": [],
   "source": []
  },
  {
   "cell_type": "code",
   "execution_count": 56,
   "metadata": {},
   "outputs": [],
   "source": [
    "s = 'AGTCATC'\n",
    "t = 'ACGTAGC'"
   ]
  },
  {
   "cell_type": "code",
   "execution_count": 108,
   "metadata": {},
   "outputs": [],
   "source": [
    "m, a= needleman_wunsch([0,1,2,3,4],[2,3,4])"
   ]
  },
  {
   "cell_type": "code",
   "execution_count": 109,
   "metadata": {},
   "outputs": [
    {
     "data": {
      "text/plain": [
       "array([[ 0., -1., -2., -3.],\n",
       "       [-1., -1., -2., -3.],\n",
       "       [-2., -2., -2., -3.],\n",
       "       [-3., -1., -2., -3.],\n",
       "       [-4., -2.,  0., -1.],\n",
       "       [-5., -3., -1.,  1.]])"
      ]
     },
     "execution_count": 109,
     "metadata": {},
     "output_type": "execute_result"
    }
   ],
   "source": [
    "m"
   ]
  },
  {
   "cell_type": "code",
   "execution_count": null,
   "metadata": {},
   "outputs": [],
   "source": []
  },
  {
   "cell_type": "code",
   "execution_count": null,
   "metadata": {},
   "outputs": [],
   "source": []
  },
  {
   "cell_type": "code",
   "execution_count": 99,
   "metadata": {},
   "outputs": [
    {
     "name": "stdout",
     "output_type": "stream",
     "text": [
      "5 3 [] []\n",
      "4 2 [4] [4]\n",
      "3 1 [4, 3] [4, 3]\n"
     ]
    }
   ],
   "source": [
    "s1,s2= process_arrows(a, [0,1,2,3,4],[2,3,4])"
   ]
  },
  {
   "cell_type": "code",
   "execution_count": 100,
   "metadata": {},
   "outputs": [
    {
     "data": {
      "text/plain": [
       "array([[ 0., -1., -2., -3.],\n",
       "       [-1., -1., -2., -3.],\n",
       "       [-2., -2., -2., -3.],\n",
       "       [-3., -1., -2., -3.],\n",
       "       [-4., -2.,  0., -1.],\n",
       "       [-5., -3., -1.,  1.]])"
      ]
     },
     "execution_count": 100,
     "metadata": {},
     "output_type": "execute_result"
    }
   ],
   "source": [
    "m"
   ]
  },
  {
   "cell_type": "code",
   "execution_count": 74,
   "metadata": {},
   "outputs": [
    {
     "name": "stdout",
     "output_type": "stream",
     "text": [
      "[1, 0, 2, 3, 4]\n",
      "['-', '-', 2, 3, 4]\n"
     ]
    }
   ],
   "source": [
    "print(s1)\n",
    "print(s2)"
   ]
  },
  {
   "cell_type": "code",
   "execution_count": 177,
   "metadata": {},
   "outputs": [],
   "source": [
    "def preprint_seq(seq, max_len = 2):\n",
    "    seq_str = [str(x) for x in seq]\n",
    "    \n",
    "    seq_str_allign = [' '*(max_len - len(x))+x for x in seq_str] \n",
    "    \n",
    "    return '[' + '  '.join(seq_str_allign)+\"]\""
   ]
  },
  {
   "cell_type": "code",
   "execution_count": 178,
   "metadata": {
    "scrolled": true
   },
   "outputs": [
    {
     "name": "stdout",
     "output_type": "stream",
     "text": [
      "[ 1   0   2   3   4   5]\n",
      "[ -   -   2   3   4][ 5]\n"
     ]
    }
   ],
   "source": [
    "print(preprint_seq([1, 0, 2, 3, 4, 5]))\n",
    "print(preprint_seq(s2) + preprint_seq([5]))"
   ]
  },
  {
   "cell_type": "code",
   "execution_count": 179,
   "metadata": {},
   "outputs": [],
   "source": [
    "match_award      = 10\n",
    "mismatch_penalty = -5\n",
    "gap_penalty      = -10 # both for opening and extanding\n",
    "\n",
    "def match_score(alpha, beta):\n",
    "    if alpha == beta:\n",
    "        return match_award\n",
    "    elif alpha == '-' or beta == '-':\n",
    "        return gap_penalty\n",
    "    else:\n",
    "        return mismatch_penalty\n"
   ]
  },
  {
   "cell_type": "code",
   "execution_count": 186,
   "metadata": {},
   "outputs": [],
   "source": [
    "def water(seq1, seq2):\n",
    "    m, n = len(seq1), len(seq2)  # length of two sequences\n",
    "    \n",
    "    # Generate DP table and traceback path pointer matrix\n",
    "    score = zeros((m+1, n+1))      # the DP table\n",
    "    pointer = zeros((m+1, n+1))    # to store the traceback path\n",
    "    \n",
    "    max_score = 0        # initial maximum score in DP table\n",
    "    # Calculate DP table and mark pointers\n",
    "    for i in range(1, m + 1):\n",
    "        for j in range(1, n + 1):\n",
    "            score_diagonal = score[i-1][j-1] + match_score(seq1[i-1], seq2[j-1])\n",
    "            score_up = score[i][j-1] + gap_penalty\n",
    "            score_left = score[i-1][j] + gap_penalty\n",
    "            score[i][j] = max(0,score_left, score_up, score_diagonal)\n",
    "            if score[i][j] == 0:\n",
    "                pointer[i][j] = 0 # 0 means end of the path\n",
    "            if score[i][j] == score_left:\n",
    "                pointer[i][j] = 1 # 1 means trace up\n",
    "            if score[i][j] == score_up:\n",
    "                pointer[i][j] = 2 # 2 means trace left\n",
    "            if score[i][j] == score_diagonal:\n",
    "                pointer[i][j] = 3 # 3 means trace diagonal\n",
    "            if score[i][j] >= max_score:\n",
    "                max_i = i\n",
    "                max_j = j\n",
    "                max_score = score[i][j];\n",
    "    \n",
    "    align1, align2 = [], []    # initial sequences\n",
    "    \n",
    "    i,j = max_i,max_j    # indices of path starting point\n",
    "    \n",
    "    #traceback, follow pointers\n",
    "    while pointer[i][j] != 0:\n",
    "        if pointer[i][j] == 3:\n",
    "            align1.append(seq1[i-1])\n",
    "            align2.append(seq2[j-1])\n",
    "            i -= 1\n",
    "            j -= 1\n",
    "        elif pointer[i][j] == 2:\n",
    "            align1.append('-')\n",
    "            align2.append(seq2[j-1])\n",
    "            j -= 1\n",
    "        elif pointer[i][j] == 1:\n",
    "            align1.append(seq1[i-1])\n",
    "            align2.append('-')\n",
    "            i -= 1\n",
    "\n",
    "    return seq1, seq2, align1[::-1], align2[::-1], i, max_i, j, max_j, (max_i - i) / len(seq1), (max_j - j) / len(seq2), max_score\n",
    "    #finalize(align1, align2)"
   ]
  },
  {
   "cell_type": "code",
   "execution_count": 156,
   "metadata": {},
   "outputs": [
    {
     "data": {
      "text/plain": [
       "(['C', 'C', 'C', 'G', '-', 'G'],\n",
       " ['C', 'C', 'C', 'G', 'A', 'G'],\n",
       " 4,\n",
       " 9,\n",
       " 0,\n",
       " 6,\n",
       " 0.4166666666666667,\n",
       " 0.8571428571428571,\n",
       " 40)"
      ]
     },
     "execution_count": 156,
     "metadata": {},
     "output_type": "execute_result"
    }
   ],
   "source": [
    "water('AAACCCCGGTTT', 'CCCGAGA')"
   ]
  },
  {
   "cell_type": "code",
   "execution_count": 157,
   "metadata": {},
   "outputs": [
    {
     "data": {
      "text/plain": [
       "'CCCGG'"
      ]
     },
     "execution_count": 157,
     "metadata": {},
     "output_type": "execute_result"
    }
   ],
   "source": [
    "'AAACCCCGGTTT'[4:9]"
   ]
  },
  {
   "cell_type": "code",
   "execution_count": 158,
   "metadata": {},
   "outputs": [
    {
     "data": {
      "text/plain": [
       "([1, 2, '-', 3], [1, 2, 4, 3], 0, 3, 0, 4, 1.0, 1.0, 20)"
      ]
     },
     "execution_count": 158,
     "metadata": {},
     "output_type": "execute_result"
    }
   ],
   "source": [
    "water([1,2,3], [1,2, 4, 3])"
   ]
  },
  {
   "cell_type": "code",
   "execution_count": null,
   "metadata": {},
   "outputs": [],
   "source": []
  },
  {
   "cell_type": "code",
   "execution_count": null,
   "metadata": {},
   "outputs": [],
   "source": []
  },
  {
   "cell_type": "code",
   "execution_count": null,
   "metadata": {},
   "outputs": [],
   "source": []
  },
  {
   "cell_type": "code",
   "execution_count": 159,
   "metadata": {},
   "outputs": [],
   "source": [
    "r = [[23, 24, 16, 18, 19, 20, 17, 13, 14, 15, 25, 22, 26, 27],\n",
    "                            [40, 39, 29, 30, 42],\n",
    "                            [23, 94, 96, 101, 110, 130],\n",
    "                            [23, 145, 149, 148, 153, 152, 177, 169, 200],\n",
    "                            [31, 35, 49, 56, 50, 48, 58, 73, 76],\n",
    "                            [80, 165, 174, 191],\n",
    "                            [33, 36, 32],\n",
    "                            [38, 34, 41, 45],\n",
    "                            [46, 37, 28, 21, 10, 5, 11, 0, 1, 4, 2, 6, 3, 8, 12, 7, 9],\n",
    "                            [70, 90, 69, 71, 68, 78, 89, 75, 83, 98],\n",
    "                            [70, 118, 157, 150, 146, 166],\n",
    "                            [85, 109, 112, 143, 144, 141, 139, 155, 170, 180],\n",
    "                            [105, 66, 57, 43, 44, 47, 72],\n",
    "                            [123, 99, 104, 106, 100, 108, 114, 124],\n",
    "                            [127, 79, 67, 77, 81, 64, 55, 62, 60, 54, 59, 51, 53, 61, 65, 63, 74, 87, 92],\n",
    "                            [197, 163, 95, 93, 82, 84, 91, 115, 117]]"
   ]
  },
  {
   "cell_type": "code",
   "execution_count": 160,
   "metadata": {},
   "outputs": [],
   "source": [
    "a  = {'first_2': [197, 163, 95, 93],\n",
    " 'first_3': [95, 93, 82, 84, 91, 115, 117],\n",
    " 'first_5': [86, 31, 35, 49, 56, 50, 48, 58, 73, 76, 80],\n",
    " 'first_7': [33, 36, 32, 25, 40, 39, 29, 30, 42],\n",
    " 'first_8': [86, 31, 35, 50, 48, 58, 73, 76, 80, 165, 174, 191],\n",
    " 'first_11': [127, 79, 67, 81, 64, 59, 51],\n",
    " 'first_14': [46, 37, 28, 21, 10, 5, 11, 0, 1, 4, 2, 6, 3, 8, 12, 7, 9],\n",
    " 'first_15': [127, 79, 67,  77, 81, 64, 55, 62, 60, 54, 59, 51, 51, 53, 61, 65, 63, 74, 87, 92],\n",
    " 'first_21': [85, 109, 112, 143, 144, 141, 139, 155, 170, 180, 21],\n",
    " 'first_22': [46, 37, 28, 21, 10, 5, 1, 3],\n",
    " 'second_2': [23, 145, 149, 148, 153, 152, 177, 169, 200],\n",
    " 'second_3': [123, 99, 104, 106, 100, 108, 114, 124],\n",
    " 'second_5': [66, 57, 43, 44, 47, 72],\n",
    " 'second_7': [105, 88, 97, 38, 34, 41, 45],\n",
    " 'second_8': [66, 57, 43, 44, 47, 72],\n",
    " 'second_11': [23, 96, 101, 110, 110],\n",
    " 'second_14': [23, 24, 16, 18, 19, 20, 17, 13, 14, 15, 25, 22, 26, 27],\n",
    " 'second_15': [23, 94, 96, 101, 110, 130],\n",
    " 'second_21': [105, 66, 88, 97, 70, 118, 157, 150, 146, 166],\n",
    " 'second_22': [90, 69, 71, 68, 78, 89, 75, 83, 98]}"
   ]
  },
  {
   "cell_type": "code",
   "execution_count": 161,
   "metadata": {},
   "outputs": [],
   "source": [
    "a = [x for x in a.values()]"
   ]
  },
  {
   "cell_type": "code",
   "execution_count": 197,
   "metadata": {},
   "outputs": [],
   "source": [
    "def best_alignments(array, arrays_set):\n",
    "    alignments = np.array([water(array, x) for x in arrays_set])\n",
    "    mask = np.array([x[-1] for x in alignments]) > 10\n",
    "    return alignments[mask]"
   ]
  },
  {
   "cell_type": "code",
   "execution_count": 200,
   "metadata": {
    "scrolled": true
   },
   "outputs": [
    {
     "data": {
      "text/plain": [
       "[95, 93, 82, 84, 91, 115, 117]"
      ]
     },
     "execution_count": 200,
     "metadata": {},
     "output_type": "execute_result"
    }
   ],
   "source": [
    "a[1]"
   ]
  },
  {
   "cell_type": "code",
   "execution_count": null,
   "metadata": {},
   "outputs": [],
   "source": []
  },
  {
   "cell_type": "code",
   "execution_count": 202,
   "metadata": {},
   "outputs": [],
   "source": [
    "def recalc_borders(alignment, seq, seq_i, seq_j, alg_i, alg_j):\n",
    "    return seq_i - alg_i, (len(alignment) - alg_j) + seq_j"
   ]
  },
  {
   "cell_type": "code",
   "execution_count": 264,
   "metadata": {},
   "outputs": [],
   "source": [
    "def preprint_seq(seq, min_border, max_border, start, end, cell_size = 4):\n",
    "    seq_str = ['-']* (start - min_border) + [str(x) for x in seq] + ['-'] * (max_border - end)\n",
    "    #print(seq_str)\n",
    "    return ''.join([' ' + el + ' ' * (cell_size - len(el) - 1) for el in seq_str])\n",
    "    #return '[' + '  '.join(seq_str_allign)+\"]\""
   ]
  },
  {
   "cell_type": "code",
   "execution_count": 265,
   "metadata": {},
   "outputs": [
    {
     "name": "stdout",
     "output_type": "stream",
     "text": [
      " -   1   2   3   4   -   -   -   -   -   -  \n",
      " -   -   2   -   4   -   -   -   -   -   -  \n"
     ]
    }
   ],
   "source": [
    "print(preprint_seq([1,2,3,4], -1, 10, 0, 4))\n",
    "print(preprint_seq([2,'-',4], -1, 10, 1, 4))"
   ]
  },
  {
   "cell_type": "code",
   "execution_count": 266,
   "metadata": {},
   "outputs": [
    {
     "data": {
      "text/plain": [
       "' -   1   2   3   4   -   -   -   -   -   -  '"
      ]
     },
     "execution_count": 266,
     "metadata": {},
     "output_type": "execute_result"
    }
   ],
   "source": [
    "preprint_seq([1,2,3,4], -1, 10, 0, 4)"
   ]
  },
  {
   "cell_type": "code",
   "execution_count": 267,
   "metadata": {},
   "outputs": [],
   "source": [
    "def print_alignments(alignments, seq, cell_size = 4):\n",
    "    #print([[align[1], seq, align[4], align[5], align[6], align[7]] for align in alignments])\n",
    "    alignments_idxes = [recalc_borders(align[1], seq, align[4], align[5], align[6], align[7]) for align in alignments]\n",
    "    \n",
    "    min_border = min([x[0] for x in alignments_idxes] + [0])\n",
    "    max_border = max([x[0] for x in alignments_idxes] + [len(seq)])\n",
    "\n",
    "    \n",
    "    printable = []\n",
    "    printable.append(preprint_seq(seq, min_border, max_border, 0, len(seq)))\n",
    "    for align, idx in zip(alignments, alignments_idxes):\n",
    "        printable.append(preprint_seq(align[1], min_border, max_border, idx[0], idx[1]))\n",
    "    \n",
    "    return printable"
   ]
  },
  {
   "cell_type": "code",
   "execution_count": 268,
   "metadata": {},
   "outputs": [
    {
     "data": {
      "text/plain": [
       "array([[list([33, 36, 32, 25, 40, 39, 29, 30, 42]),\n",
       "        list([40, 39, 29, 30, 42]), list([40, 39, 29, 30, 42]),\n",
       "        list([40, 39, 29, 30, 42]), 4, 9, 0, 5, 0.5555555555555556, 1.0,\n",
       "        50],\n",
       "       [list([33, 36, 32, 25, 40, 39, 29, 30, 42]), list([33, 36, 32]),\n",
       "        list([33, 36, 32]), list([33, 36, 32]), 0, 3, 0, 3,\n",
       "        0.3333333333333333, 1.0, 30]], dtype=object)"
      ]
     },
     "execution_count": 268,
     "metadata": {},
     "output_type": "execute_result"
    }
   ],
   "source": [
    "best_alignments(a[3], r)"
   ]
  },
  {
   "cell_type": "code",
   "execution_count": 269,
   "metadata": {
    "scrolled": true
   },
   "outputs": [
    {
     "data": {
      "text/plain": [
       "[' 33  36  32  25  40  39  29  30  42 ',\n",
       " ' -   -   -   -   40  39  29  30  42 ',\n",
       " ' 33  36  32  -   -   -   -   -   -  ']"
      ]
     },
     "execution_count": 269,
     "metadata": {},
     "output_type": "execute_result"
    }
   ],
   "source": [
    "print_alignments(best_alignments(a[3], r), a[3])"
   ]
  },
  {
   "cell_type": "code",
   "execution_count": 270,
   "metadata": {},
   "outputs": [],
   "source": [
    "seq = [1,2,3,4,5,6,7,8,9]\n",
    "\n",
    "res = [[0,1,2,102,4],\n",
    "       [5,6,7,8],\n",
    "       [7,10,8,9,11,12]]\n",
    "    "
   ]
  },
  {
   "cell_type": "code",
   "execution_count": 272,
   "metadata": {},
   "outputs": [
    {
     "data": {
      "text/plain": [
       "array([[list([1, 2, 3, 4, 5, 6, 7, 8, 9]), list([0, 1, 2, 102, 4]),\n",
       "        list([1, 2, 3, 4]), list([1, 2, 102, 4]), 0, 4, 1, 5,\n",
       "        0.4444444444444444, 0.8, 25],\n",
       "       [list([1, 2, 3, 4, 5, 6, 7, 8, 9]), list([5, 6, 7, 8]),\n",
       "        list([5, 6, 7, 8]), list([5, 6, 7, 8]), 4, 8, 0, 4,\n",
       "        0.4444444444444444, 1.0, 40],\n",
       "       [list([1, 2, 3, 4, 5, 6, 7, 8, 9]), list([7, 10, 8, 9, 11, 12]),\n",
       "        list([7, '-', 8, 9]), list([7, 10, 8, 9]), 6, 9, 0, 4,\n",
       "        0.3333333333333333, 0.6666666666666666, 20]], dtype=object)"
      ]
     },
     "execution_count": 272,
     "metadata": {},
     "output_type": "execute_result"
    }
   ],
   "source": [
    "best_alignments(seq, res)"
   ]
  },
  {
   "cell_type": "code",
   "execution_count": 271,
   "metadata": {},
   "outputs": [
    {
     "data": {
      "text/plain": [
       "[' -   1   2   3   4   5   6   7   8   9  ',\n",
       " ' 0   1   2   102 4   -   -   -   -   -  ',\n",
       " ' -   -   -   -   -   5   6   7   8   -  ',\n",
       " ' -   -   -   -   -   -   -   7   10  8   9   11  12 ']"
      ]
     },
     "execution_count": 271,
     "metadata": {},
     "output_type": "execute_result"
    }
   ],
   "source": [
    "print_alignments(best_alignments(seq, res), seq)"
   ]
  },
  {
   "cell_type": "code",
   "execution_count": null,
   "metadata": {},
   "outputs": [],
   "source": []
  },
  {
   "cell_type": "code",
   "execution_count": null,
   "metadata": {},
   "outputs": [],
   "source": []
  }
 ],
 "metadata": {
  "kernelspec": {
   "display_name": "Python 3",
   "language": "python",
   "name": "python3"
  },
  "language_info": {
   "codemirror_mode": {
    "name": "ipython",
    "version": 3
   },
   "file_extension": ".py",
   "mimetype": "text/x-python",
   "name": "python",
   "nbconvert_exporter": "python",
   "pygments_lexer": "ipython3",
   "version": "3.6.3"
  }
 },
 "nbformat": 4,
 "nbformat_minor": 2
}
