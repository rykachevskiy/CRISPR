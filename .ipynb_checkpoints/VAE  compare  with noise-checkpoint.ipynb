{
 "cells": [
  {
   "cell_type": "code",
   "execution_count": 1,
   "metadata": {
    "collapsed": true
   },
   "outputs": [],
   "source": [
    "import numpy as np\n",
    "\n",
    "import theano\n",
    "import theano.tensor as T\n",
    "import lasagne\n",
    "\n",
    "from tqdm import tqdm\n",
    "\n",
    "import time\n",
    "from IPython import display\n",
    "\n",
    "import matplotlib.pyplot as plt\n",
    "\n",
    "import networkx as nx"
   ]
  },
  {
   "cell_type": "code",
   "execution_count": 2,
   "metadata": {
    "collapsed": true
   },
   "outputs": [],
   "source": [
    "from sklearn.mixture import GaussianMixture, GMM"
   ]
  },
  {
   "cell_type": "markdown",
   "metadata": {},
   "source": [
    "# VAE"
   ]
  },
  {
   "cell_type": "code",
   "execution_count": 3,
   "metadata": {
    "collapsed": true
   },
   "outputs": [],
   "source": [
    "letter_to_num = {}\n",
    "letter_to_num['A'] = 0\n",
    "letter_to_num['C'] = 1\n",
    "letter_to_num['T'] = 2\n",
    "letter_to_num['G'] = 3"
   ]
  },
  {
   "cell_type": "code",
   "execution_count": 4,
   "metadata": {
    "collapsed": true
   },
   "outputs": [],
   "source": [
    "num_to_letter = {}\n",
    "num_to_letter[0] = 'A'\n",
    "num_to_letter[1] = 'C'\n",
    "num_to_letter[2] = 'T'\n",
    "num_to_letter[3] = 'G'"
   ]
  },
  {
   "cell_type": "code",
   "execution_count": 5,
   "metadata": {
    "collapsed": true
   },
   "outputs": [],
   "source": [
    "def arr_to_sp(arr):\n",
    "    sp = []\n",
    "    for x in arr.reshape((32, 4)):\n",
    "        sp.append(num_to_letter[np.where(x)[0][0]])\n",
    "    return ''.join(sp)"
   ]
  },
  {
   "cell_type": "code",
   "execution_count": 6,
   "metadata": {
    "collapsed": true
   },
   "outputs": [],
   "source": [
    "def get_most_often(X, clusters_all, cluster):\n",
    "    mask = clusters_all == cluster\n",
    "    \n",
    "    X_u, counts = np.unique(X[mask], return_counts=True, axis = 0)\n",
    "    \n",
    "    return X_u[np.argmax(counts)]"
   ]
  },
  {
   "cell_type": "code",
   "execution_count": 7,
   "metadata": {
    "collapsed": true
   },
   "outputs": [],
   "source": [
    "def get_cmap(n, name='hsv'):\n",
    "    '''Returns a function that maps each index in 0, 1, ..., n-1 to a distinct \n",
    "    RGB color; the keyword argument name must be a standard mpl colormap name.'''\n",
    "    colors = plt.cm.nipy_spectral(np.linspace(0, 1, n))\n",
    "    #colors_res = np.zeros((n, 4))\n",
    "    #for i in range(n):\n",
    "    #    colors_res[i] = colors(i)\n",
    "    return colors"
   ]
  },
  {
   "cell_type": "code",
   "execution_count": 8,
   "metadata": {
    "collapsed": true
   },
   "outputs": [],
   "source": [
    "def clusters_to_colors(clusters, colors):\n",
    "    cluster_colors = np.zeros((clusters.shape[0], 4))\n",
    "\n",
    "    for i in range(clusters.shape[0]):\n",
    "        cluster_colors[i] = colors[clusters[i]]\n",
    "    \n",
    "    return cluster_colors"
   ]
  },
  {
   "cell_type": "code",
   "execution_count": 9,
   "metadata": {
    "collapsed": true
   },
   "outputs": [],
   "source": [
    "def iterate_minibatches(inputs, batchsize, shuffle=True):\n",
    "    if shuffle:\n",
    "        indices = np.arange(len(inputs))\n",
    "        np.random.shuffle(indices)\n",
    "    for start_idx in range(0, len(inputs) - batchsize + 1, batchsize):\n",
    "        if shuffle:\n",
    "            excerpt = indices[start_idx:start_idx + batchsize]\n",
    "        else:\n",
    "            excerpt = slice(start_idx, start_idx + batchsize)\n",
    "        yield inputs[excerpt]"
   ]
  },
  {
   "cell_type": "code",
   "execution_count": 10,
   "metadata": {
    "collapsed": true
   },
   "outputs": [],
   "source": [
    "from theano.sandbox.rng_mrg import MRG_RandomStreams as RandomStreams\n",
    "\n",
    "class GaussianSampleLayer(lasagne.layers.MergeLayer):\n",
    "    def __init__(self, mu, logsigma, **kwargs):\n",
    "        self.rng = RandomStreams(lasagne.random.get_rng().randint(1,2147462579))\n",
    "        super(GaussianSampleLayer, self).__init__([mu, logsigma], **kwargs)\n",
    "\n",
    "    def get_output_shape_for(self, input_shapes):\n",
    "        return input_shapes[0]\n",
    "\n",
    "    def get_output_for(self, inputs, deterministic=False, **kwargs):\n",
    "        mu, logsigma = inputs\n",
    "        shape=(self.input_shapes[0][0] or inputs[0].shape[0],\n",
    "                self.input_shapes[0][1] or inputs[0].shape[1])\n",
    "        if deterministic:\n",
    "            return mu\n",
    "        return mu + T.exp(logsigma) * self.rng.normal(shape)"
   ]
  },
  {
   "cell_type": "code",
   "execution_count": 11,
   "metadata": {
    "collapsed": true
   },
   "outputs": [],
   "source": [
    "def KL_divergence(mu, log_sigma):\n",
    "    KLD = 0.5 * T.sum(1 + 2*log_sigma - T.sqr(mu) - T.exp(2*log_sigma))\n",
    "    return KLD\n",
    "\n",
    "def log_likelihood(tgt, mu, ls):\n",
    "    return T.sum(-(np.float32(0.5 * np.log(2 * np.pi)) + ls)\n",
    "            - 0.5 * T.sqr(tgt - mu) / T.exp(2 * ls) )"
   ]
  },
  {
   "cell_type": "code",
   "execution_count": null,
   "metadata": {
    "collapsed": true
   },
   "outputs": [],
   "source": []
  },
  {
   "cell_type": "code",
   "execution_count": 12,
   "metadata": {
    "collapsed": true
   },
   "outputs": [],
   "source": [
    "def get_VAE(input_X, lr, w= 10, HU_encoder = 50, HU_decoder = 50, dimZ = 2, input_shape = [None,32*4]):\n",
    "    vl_input = lasagne.layers.InputLayer(input_shape)\n",
    "    vl_enc_hid = lasagne.layers.DenseLayer(vl_input, num_units=HU_encoder, nonlinearity = lasagne.nonlinearities.elu)\n",
    "    vl_enc_mu = lasagne.layers.DenseLayer(vl_enc_hid, dimZ, nonlinearity = None)\n",
    "    vl_enc_logsigma = lasagne.layers.DenseLayer(vl_enc_hid, num_units=dimZ, nonlinearity = None)\n",
    "    vl_z = GaussianSampleLayer(vl_enc_mu, vl_enc_logsigma)\n",
    "    vl_dec_hid = lasagne.layers.DenseLayer(vl_z, num_units=HU_decoder, nonlinearity = lasagne.nonlinearities.elu)\n",
    "    vl_dec_mu = lasagne.layers.DenseLayer(vl_dec_hid, num_units=input_shape[1],\n",
    "                                          nonlinearity = lasagne.nonlinearities.sigmoid)\n",
    "    relu_shift = 2\n",
    "    vl_dec_logsigma = lasagne.layers.DenseLayer(vl_dec_hid, num_units=input_shape[1],\n",
    "                        nonlinearity = lambda a: T.nnet.relu(a+relu_shift)-relu_shift)\n",
    "    vl_output = GaussianSampleLayer(vl_dec_mu, vl_dec_logsigma)\n",
    "    \n",
    "    print(\"Theano started\")\n",
    "    # create prediction variable\n",
    "    v_prediction = lasagne.layers.get_output(vl_output, inputs = input_X, deterministic=True)\n",
    "    # create loss function\n",
    "    mu_z = lasagne.layers.get_output(vl_enc_mu, inputs= input_X)\n",
    "    logsigma_z = lasagne.layers.get_output(vl_enc_logsigma, inputs= input_X)\n",
    "    mu_x = lasagne.layers.get_output(vl_dec_mu, inputs= input_X)\n",
    "    logsigma_x = lasagne.layers.get_output(vl_dec_logsigma,inputs= input_X)\n",
    "    v_loss = -1*(w* KL_divergence(mu_z,logsigma_z) + log_likelihood(input_X, mu_x, logsigma_x))\n",
    "\n",
    "\n",
    "    # create parameter update expressions\n",
    "    v_params = lasagne.layers.get_all_params(vl_output, trainable = True)\n",
    "    v_updates = lasagne.updates.adam(v_loss, v_params, learning_rate=lr)\n",
    "\n",
    "    # compile training and testing functions\n",
    "    v_train_fn = theano.function([input_X], v_loss, updates = v_updates)\n",
    "    v_test_fn = theano.function([input_X], v_prediction)\n",
    "    v_test_loss_fn = theano.function([input_X], v_loss)\n",
    "    v_logloss_fn = theano.function([input_X], log_likelihood(input_X, mu_x, logsigma_x))\n",
    "\n",
    "    internal = theano.function([input_X], mu_z)\n",
    "    \n",
    "    return v_train_fn, v_test_fn, internal"
   ]
  },
  {
   "cell_type": "code",
   "execution_count": 51,
   "metadata": {},
   "outputs": [
    {
     "name": "stdout",
     "output_type": "stream",
     "text": [
      "Theano started\n"
     ]
    }
   ],
   "source": [
    "input_X = T.matrix(\"X\")\n",
    "input_shape = [None,32*4]\n",
    "\n",
    "lr = theano.shared(0.001)\n",
    "\n",
    "train_fn, test_fn, internal = get_VAE(input_X, lr)"
   ]
  },
  {
   "cell_type": "code",
   "execution_count": 52,
   "metadata": {
    "collapsed": true
   },
   "outputs": [],
   "source": [
    "X = np.load(\"./data/npy/ES3_R1.npy\")"
   ]
  },
  {
   "cell_type": "code",
   "execution_count": 57,
   "metadata": {
    "collapsed": true
   },
   "outputs": [],
   "source": [
    "epochs = 30\n",
    "v_losses_train = []\n",
    "v_logloss = []\n",
    "#v_losses_valid = []\n",
    "#val_batches = 500\n",
    "batch_size = 100"
   ]
  },
  {
   "cell_type": "code",
   "execution_count": 140,
   "metadata": {
    "scrolled": true
   },
   "outputs": [
    {
     "data": {
      "image/png": "[encoded data removed]",
      "text/plain": [
       "<matplotlib.figure.Figure at 0x7f5dd8ac2e80>"
      ]
     },
     "metadata": {},
     "output_type": "display_data"
    }
   ],
   "source": [
    "for epoch in range(epochs):\n",
    "    ls_tr = 0.\n",
    "    logloss_tr = 0.\n",
    "    for batch in iterate_minibatches(X, batch_size):\n",
    "        ls_tr += train_fn(batch)\n",
    "        \n",
    "    v_losses_train.append(ls_tr/ batch_size)\n",
    "    #for batch in iterate_minibatches(X_val, val_batches):\n",
    "    #    ls_val += v_test_loss_fn(batch)\n",
    "    #v_losses_valid.append(ls_val/ val_batches)\n",
    "    lr = lr * 0.95\n",
    "    \n",
    "    if epoch%2==1:\n",
    "        display.clear_output(wait=True)\n",
    "        plt.plot(v_losses_train, label='train')\n",
    "    #    plt.plot(v_losses_valid, label='validation')\n",
    "        plt.legend()\n",
    "        plt.show()"
   ]
  },
  {
   "cell_type": "code",
   "execution_count": 143,
   "metadata": {},
   "outputs": [
    {
     "data": {
      "text/plain": [
       "(1977, 2)"
      ]
     },
     "execution_count": 143,
     "metadata": {},
     "output_type": "execute_result"
    }
   ],
   "source": [
    "Z = internal(X)\n",
    "\n",
    "Z_u = np.unique(Z, axis = 0)"
   ]
  },
  {
   "cell_type": "code",
   "execution_count": 390,
   "metadata": {
    "collapsed": true
   },
   "outputs": [],
   "source": [
    "def do_network(X, epochs, w):\n",
    "    input_X = T.matrix(\"X\")\n",
    "    input_shape = [None,32*4]\n",
    "\n",
    "    lr = theano.shared(0.001)\n",
    "\n",
    "    train_fn, test_fn, internal = get_VAE(input_X, lr, w)\n",
    "    \n",
    "    v_losses_train = []\n",
    "    batch_size = 100\n",
    "    \n",
    "    for epoch in range(epochs):\n",
    "        ls_tr = 0.\n",
    "        logloss_tr = 0.\n",
    "        for batch in iterate_minibatches(X, batch_size):\n",
    "            ls_tr += train_fn(batch)\n",
    "\n",
    "        v_losses_train.append(ls_tr/ batch_size)\n",
    "        lr = lr * 0.95\n",
    "\n",
    "        if epoch%2==1:\n",
    "            display.clear_output(wait=True)\n",
    "            plt.plot(v_losses_train, label='train')\n",
    "            plt.legend()\n",
    "            plt.show()\n",
    "        \n",
    "    return internal"
   ]
  },
  {
   "cell_type": "markdown",
   "metadata": {},
   "source": [
    "# GMM"
   ]
  },
  {
   "cell_type": "code",
   "execution_count": 413,
   "metadata": {
    "collapsed": true
   },
   "outputs": [],
   "source": [
    "def do_gmm(Z, clusters_num = 20):\n",
    "    Z_u = np.unique(Z, axis = 0)\n",
    "    gmm = GaussianMixture(clusters_num, verbose = 0, n_init=10)\n",
    "    gmm.fit(Z_u)\n",
    "\n",
    "    clusters_all = gmm.predict(Z)\n",
    "    colors = get_cmap(clusters_num)\n",
    "    colors_all = clusters_to_colors(clusters_all, colors)\n",
    "    \n",
    "    fig, ax =  plt.subplots()\n",
    "    fig.set_size_inches(10, 10)\n",
    "    ax.scatter(Z[:, 0], Z[:,1], alpha = 1, c = colors_all)\n",
    "    plt.show()\n",
    "    \n",
    "    return gmm, clusters_all, colors_all"
   ]
  },
  {
   "cell_type": "code",
   "execution_count": 219,
   "metadata": {
    "scrolled": true
   },
   "outputs": [
    {
     "name": "stdout",
     "output_type": "stream",
     "text": [
      "Initialization 0\n",
      "  Iteration 0\n",
      "Initialization converged: True\n",
      "Initialization 1\n",
      "  Iteration 0\n",
      "Initialization converged: True\n",
      "Initialization 2\n",
      "  Iteration 0\n",
      "Initialization converged: True\n",
      "Initialization 3\n",
      "  Iteration 0\n",
      "Initialization converged: True\n",
      "Initialization 4\n",
      "  Iteration 0\n",
      "Initialization converged: True\n",
      "Initialization 5\n",
      "  Iteration 0\n",
      "Initialization converged: True\n",
      "Initialization 6\n",
      "  Iteration 0\n",
      "Initialization converged: True\n",
      "Initialization 7\n",
      "  Iteration 0\n",
      "Initialization converged: True\n",
      "Initialization 8\n",
      "  Iteration 0\n",
      "Initialization converged: True\n",
      "Initialization 9\n",
      "  Iteration 0\n",
      "Initialization converged: True\n"
     ]
    },
    {
     "data": {
      "image/png": "[encoded data removed]",
      "text/plain": [
       "<matplotlib.figure.Figure at 0x7f5dd024da90>"
      ]
     },
     "metadata": {},
     "output_type": "display_data"
    }
   ],
   "source": [
    "gmm = do_gmm(Z, 18)"
   ]
  },
  {
   "cell_type": "code",
   "execution_count": 286,
   "metadata": {
    "collapsed": true
   },
   "outputs": [],
   "source": [
    "clusters_all = gmm.predict(Z)\n",
    "colors = get_cmap(clusters_num)\n",
    "colors_all = clusters_to_colors(clusters_all, colors)"
   ]
  },
  {
   "cell_type": "code",
   "execution_count": 334,
   "metadata": {
    "collapsed": true
   },
   "outputs": [],
   "source": [
    "mask = clusters_all == 4"
   ]
  },
  {
   "cell_type": "code",
   "execution_count": null,
   "metadata": {
    "collapsed": true
   },
   "outputs": [],
   "source": []
  },
  {
   "cell_type": "code",
   "execution_count": 517,
   "metadata": {},
   "outputs": [
    {
     "data": {
      "image/png": "[encoded data removed]",
      "text/plain": [
       "<matplotlib.figure.Figure at 0x7f5dcec52a58>"
      ]
     },
     "metadata": {},
     "output_type": "display_data"
    }
   ],
   "source": [
    "fig, ax =  plt.subplots()\n",
    "fig.set_size_inches(10, 10)\n",
    "#ax.scatter(Z[:, 0][mask], Z[:,1][mask], alpha = 1, marker='x', s =1000, c = colors_all[mask])\n",
    "ax.scatter(Z[:, 0], Z[:,1], alpha = 1)#\n",
    "plt.show()"
   ]
  },
  {
   "cell_type": "markdown",
   "metadata": {},
   "source": [
    "# GRAPH"
   ]
  },
  {
   "cell_type": "code",
   "execution_count": 17,
   "metadata": {
    "collapsed": true
   },
   "outputs": [],
   "source": [
    "def get_chain(X_pairs, gmm, clusters_num, links, internal):\n",
    "    Z_pairs_0 = internal(X_pairs[:,0,:])\n",
    "    Z_pairs_1 = internal(X_pairs[:,1,:])\n",
    "    \n",
    "    c_0 = gmm.predict(Z_pairs_0)\n",
    "    c_1 = gmm.predict(Z_pairs_1)\n",
    "    c_p = np.concatenate((c_0.reshape(-1, 1), c_1.reshape(-1, 1)), 1)\n",
    "    \n",
    "    graph = np.zeros((clusters_num,clusters_num)).astype(int)\n",
    "\n",
    "\n",
    "    for p in tqdm(c_p):\n",
    "        graph[p[0]][p[1]] += 1\n",
    "        \n",
    "    pairs, G = to_graph(graph, clusters_num, links)\n",
    "    \n",
    "    fig, ax = plt.subplots(figsize=(20, 10))\n",
    "    nx.draw_networkx(G, edge_color='b', node_size=1)\n",
    "    plt.show()\n",
    "    \n",
    "    \n",
    "    #arr_to_sp(sp_9)\n",
    "    return G, c_p, pairs"
   ]
  },
  {
   "cell_type": "code",
   "execution_count": 340,
   "metadata": {},
   "outputs": [
    {
     "name": "stderr",
     "output_type": "stream",
     "text": [
      "100%|██████████| 74627/74627 [00:00<00:00, 434488.78it/s]\n"
     ]
    },
    {
     "data": {
      "image/png": "[encoded data removed]",
      "text/plain": [
       "<matplotlib.figure.Figure at 0x7f5dc59ea898>"
      ]
     },
     "metadata": {},
     "output_type": "display_data"
    }
   ],
   "source": [
    "get_chain(X_pairs, gmm, clusters_num, clusters_num - 3)"
   ]
  },
  {
   "cell_type": "code",
   "execution_count": 345,
   "metadata": {},
   "outputs": [
    {
     "data": {
      "text/plain": [
       "(74627, 2)"
      ]
     },
     "execution_count": 345,
     "metadata": {},
     "output_type": "execute_result"
    }
   ],
   "source": [
    "c_p.shape"
   ]
  },
  {
   "cell_type": "code",
   "execution_count": 343,
   "metadata": {
    "collapsed": true
   },
   "outputs": [],
   "source": [
    "clusters_to_continue = set([10, 18, 19])"
   ]
  },
  {
   "cell_type": "code",
   "execution_count": 14,
   "metadata": {
    "collapsed": true
   },
   "outputs": [],
   "source": [
    "def filter_pairs(X, X_pairs, clusters_all, clusters_pairs, clusters_to_continue):\n",
    "    x_mask = np.array([x in clusters_to_continue for x in clusters_all])\n",
    "    x_pairs_mask = np.array([x[0] in clusters_to_continue and x[1] in clusters_to_continue for x in clusters_pairs])\n",
    "    \n",
    "    print(x_mask.sum(), x_pairs_mask.sum())\n",
    "    return X[x_mask], X_pairs[x_pairs_mask]"
   ]
  },
  {
   "cell_type": "code",
   "execution_count": 354,
   "metadata": {
    "scrolled": true
   },
   "outputs": [
    {
     "name": "stdout",
     "output_type": "stream",
     "text": [
      "7175 4600\n"
     ]
    }
   ],
   "source": [
    "X_1, X_pairs_1 = filter_pairs(X, X_pairs, clusters_all, c_p, clusters_to_continue)"
   ]
  },
  {
   "cell_type": "code",
   "execution_count": null,
   "metadata": {
    "collapsed": true
   },
   "outputs": [],
   "source": []
  },
  {
   "cell_type": "code",
   "execution_count": null,
   "metadata": {
    "collapsed": true
   },
   "outputs": [],
   "source": []
  },
  {
   "cell_type": "code",
   "execution_count": null,
   "metadata": {
    "collapsed": true
   },
   "outputs": [],
   "source": []
  },
  {
   "cell_type": "markdown",
   "metadata": {},
   "source": [
    "# CYCLE"
   ]
  },
  {
   "cell_type": "code",
   "execution_count": 15,
   "metadata": {
    "collapsed": true
   },
   "outputs": [],
   "source": [
    "X = np.load(\"../data/npy/noised_ES3.npy\")"
   ]
  },
  {
   "cell_type": "code",
   "execution_count": 16,
   "metadata": {},
   "outputs": [
    {
     "ename": "NameError",
     "evalue": "name 'do_network' is not defined",
     "output_type": "error",
     "traceback": [
      "\u001b[0;31m---------------------------------------------------------------------------\u001b[0m",
      "\u001b[0;31mNameError\u001b[0m                                 Traceback (most recent call last)",
      "\u001b[0;32m<ipython-input-16-aa5f6c89254d>\u001b[0m in \u001b[0;36m<module>\u001b[0;34m()\u001b[0m\n\u001b[0;32m----> 1\u001b[0;31m \u001b[0minternal\u001b[0m \u001b[0;34m=\u001b[0m \u001b[0mdo_network\u001b[0m\u001b[0;34m(\u001b[0m\u001b[0mX\u001b[0m\u001b[0;34m,\u001b[0m \u001b[0;36m50\u001b[0m\u001b[0;34m,\u001b[0m \u001b[0;36m20\u001b[0m\u001b[0;34m)\u001b[0m\u001b[0;34m\u001b[0m\u001b[0m\n\u001b[0m",
      "\u001b[0;31mNameError\u001b[0m: name 'do_network' is not defined"
     ]
    }
   ],
   "source": [
    "internal = do_network(X, 50, 20)"
   ]
  },
  {
   "cell_type": "code",
   "execution_count": 439,
   "metadata": {},
   "outputs": [
    {
     "data": {
      "image/png": "[encoded data removed]",
      "text/plain": [
       "<matplotlib.figure.Figure at 0x7f5dcb320780>"
      ]
     },
     "metadata": {},
     "output_type": "display_data"
    }
   ],
   "source": [
    "Z = internal(X)\n",
    "clusters_num = 19\n",
    "gmm, clusters_all, colors_all = do_gmm(Z, clusters_num)"
   ]
  },
  {
   "cell_type": "code",
   "execution_count": 440,
   "metadata": {
    "scrolled": false
   },
   "outputs": [
    {
     "name": "stderr",
     "output_type": "stream",
     "text": [
      "100%|██████████| 74627/74627 [00:00<00:00, 483167.28it/s]\n"
     ]
    },
    {
     "data": {
      "image/png": "[encoded data removed]",
      "text/plain": [
       "<matplotlib.figure.Figure at 0x7f5db3812240>"
      ]
     },
     "metadata": {},
     "output_type": "display_data"
    }
   ],
   "source": [
    "G, c_p = get_chain(X_pairs, gmm, clusters_num, clusters_num - 2)"
   ]
  },
  {
   "cell_type": "code",
   "execution_count": 513,
   "metadata": {},
   "outputs": [
    {
     "data": {
      "text/plain": [
       "EdgeView([(0, 0), (1, 4), (1, 15), (2, 6), (2, 12), (3, 8), (3, 18), (5, 7), (6, 7), (9, 17), (9, 14), (10, 16), (10, 14), (11, 13), (12, 16), (13, 15), (17, 18)])"
      ]
     },
     "execution_count": 513,
     "metadata": {},
     "output_type": "execute_result"
    }
   ],
   "source": []
  },
  {
   "cell_type": "code",
   "execution_count": 530,
   "metadata": {},
   "outputs": [
    {
     "name": "stdout",
     "output_type": "stream",
     "text": [
      "0 GTAGTCCATCATTCCACCTATGTCTGAACTCC\n",
      "1 AGTGCTGGACCATTTCAAATTCACAATAGATT\n",
      "2 TACCGTACAGACTGCCGGATATTATTTTTTTG\n",
      "3 TATAGAGATCGTTTTTGGAATTTACAGCGAGG\n",
      "4 CAAGTGATATCCATCATCGCATCCAGTGCGCC\n",
      "5 GACAGAACGGCCTCAGTAGTCTCGTCAGGCTC\n",
      "6 ATAGACCCCGAACAACAATACGCGCAAACCGA\n",
      "7 ACACGCCCTTATCAAATAGCTGTGATTTACCT\n",
      "8 CCGTAAGTGGTTTGAGCGATGATATTTGTGCT\n",
      "9 CATAAAGAAACTATTTTGCGTTTCGTTCAGGT\n",
      "10 TGCATGGCTTTGGCTTCCTCTTTGACGGACGC\n",
      "11 AGCTGGGCGAAATTTTGATTCATCGTGATGAC\n",
      "12 CTGCTGCTCGAGCTGGTGGAGTGCTGCTATAG\n",
      "13 CCCTCACACCGATTCGCCAAACGGTGGAGAAG\n",
      "14 ATATATCAGAGCAAAAAACAAAGCCACAGCCA\n",
      "15 GGAATGATATTTCAATAAATAATTATAACAAT\n",
      "16 AACGTCAGGTTGTCGCCGCTCTGCGTGGTCGC\n",
      "17 TTTTACAGTGTCAACAATCGTTCCCTGATTGT\n",
      "18 CCGCCGTTGGCACCGTCAAACTCCGGTACTGT\n"
     ]
    }
   ],
   "source": [
    "for i in range(19):\n",
    "    print(i, arr_to_sp(get_most_often(X, clusters_all,i)))"
   ]
  },
  {
   "cell_type": "code",
   "execution_count": null,
   "metadata": {
    "collapsed": true
   },
   "outputs": [],
   "source": [
    "GACAGAACGGCCTCAGTAGTCTCGTCAGGCTC"
   ]
  },
  {
   "cell_type": "code",
   "execution_count": null,
   "metadata": {
    "collapsed": true
   },
   "outputs": [],
   "source": []
  },
  {
   "cell_type": "code",
   "execution_count": 441,
   "metadata": {
    "scrolled": true
   },
   "outputs": [
    {
     "name": "stdout",
     "output_type": "stream",
     "text": [
      "[0 0 0 0 0 0 0 0 0 0 0 0]\n",
      "[5 0 0 0 0 0]\n",
      "[ 5  7  6  2 12 16 10 14  9 17 18  3  8]\n",
      "[ 1 15 13 11]\n"
     ]
    }
   ],
   "source": [
    "for ans in X_ans.items()[0][1][:]:\n",
    "    z_ans = internal(ans)\n",
    "    \n",
    "    print(gmm.predict(z_ans))"
   ]
  },
  {
   "cell_type": "code",
   "execution_count": 442,
   "metadata": {},
   "outputs": [
    {
     "data": {
      "image/png": "[encoded data removed]",
      "text/plain": [
       "<matplotlib.figure.Figure at 0x7f5dcea3ceb8>"
      ]
     },
     "metadata": {},
     "output_type": "display_data"
    }
   ],
   "source": [
    "mask = np.logical_or(clusters_all == 0, clusters_all == 0)\n",
    "\n",
    "fig, ax =  plt.subplots()\n",
    "fig.set_size_inches(10, 10)\n",
    "ax.scatter(Z[:, 0][mask], Z[:,1][mask], alpha = 1, marker='x', s =1000, c = colors_all[mask])\n",
    "ax.scatter(Z[:, 0], Z[:,1], alpha = 1, c = colors_all)\n",
    "ax.legend()\n",
    "plt.show()"
   ]
  },
  {
   "cell_type": "code",
   "execution_count": 445,
   "metadata": {
    "collapsed": true
   },
   "outputs": [],
   "source": [
    "clusters_to_continue = set([0])"
   ]
  },
  {
   "cell_type": "code",
   "execution_count": 480,
   "metadata": {},
   "outputs": [
    {
     "name": "stdout",
     "output_type": "stream",
     "text": [
      "3920 994\n"
     ]
    }
   ],
   "source": [
    "X_second, X_pairs_secong = filter_pairs(X, X_pairs, clusters_all, c_p, clusters_to_continue)"
   ]
  },
  {
   "cell_type": "code",
   "execution_count": 481,
   "metadata": {
    "collapsed": true
   },
   "outputs": [],
   "source": [
    "X_pairs_second =X_pairs_secong"
   ]
  },
  {
   "cell_type": "markdown",
   "metadata": {},
   "source": [
    "#### 2"
   ]
  },
  {
   "cell_type": "code",
   "execution_count": 504,
   "metadata": {},
   "outputs": [
    {
     "data": {
      "image/png": "[encoded data removed]",
      "text/plain": [
       "<matplotlib.figure.Figure at 0x7f5dcee01438>"
      ]
     },
     "metadata": {},
     "output_type": "display_data"
    }
   ],
   "source": [
    "internal_second = do_network(X_second, 1000, 20)"
   ]
  },
  {
   "cell_type": "code",
   "execution_count": 522,
   "metadata": {
    "scrolled": false
   },
   "outputs": [
    {
     "data": {
      "image/png": "[encoded data removed]",
      "text/plain": [
       "<matplotlib.figure.Figure at 0x7f5dcedd5b38>"
      ]
     },
     "metadata": {},
     "output_type": "display_data"
    }
   ],
   "source": [
    "Z_second = internal_second(X_second)\n",
    "clusters_num_second = 19\n",
    "gmm_second, clusters_all_second, colors_all_second = do_gmm(Z_second, clusters_num_second)"
   ]
  },
  {
   "cell_type": "code",
   "execution_count": 520,
   "metadata": {
    "scrolled": true
   },
   "outputs": [
    {
     "data": {
      "image/png": "[encoded data removed]",
      "text/plain": [
       "<matplotlib.figure.Figure at 0x7f5dcad1d8d0>"
      ]
     },
     "metadata": {},
     "output_type": "display_data"
    }
   ],
   "source": [
    "mask = clusters_all_second == 12\n",
    "\n",
    "fig, ax =  plt.subplots()\n",
    "fig.set_size_inches(10, 10)\n",
    "ax.scatter(Z_second[:, 0][mask], Z_second[:,1][mask], alpha = 1, marker='x', s =1000, c = colors_all_second[mask])\n",
    "ax.scatter(Z_second[:, 0], Z_second[:,1], alpha = 1, c = colors_all_second)\n",
    "ax.legend()\n",
    "plt.show()"
   ]
  },
  {
   "cell_type": "code",
   "execution_count": 546,
   "metadata": {},
   "outputs": [
    {
     "name": "stderr",
     "output_type": "stream",
     "text": [
      "100%|██████████| 994/994 [00:00<00:00, 302264.78it/s]\n"
     ]
    },
    {
     "data": {
      "image/png": "[encoded data removed]",
      "text/plain": [
       "<matplotlib.figure.Figure at 0x7f5dd0d8e3c8>"
      ]
     },
     "metadata": {},
     "output_type": "display_data"
    }
   ],
   "source": [
    "G_second, c_p_second, pairs_second = get_chain(X_pairs_second, gmm_second, clusters_num_second, 15, internal_second)"
   ]
  },
  {
   "cell_type": "code",
   "execution_count": 531,
   "metadata": {},
   "outputs": [
    {
     "name": "stdout",
     "output_type": "stream",
     "text": [
      "0 AGCGTGTTCGGCATCACCTTTGGCTTCGGCTG\n",
      "1 TCGGTTCAGGCGTTGCAAACCTGGCTACCGGG\n",
      "2 GAAATGCTGGTGAGCGTTAATGCCGCAAACAC\n",
      "3 GTAGTCCATCATTCCACCTATGTCTGAACTCC\n",
      "4 GGGCGCACGGAATACAAAGCCGTGTATCTGCT\n",
      "5 CTGTTTTCGCAAATCTATGGACTATTGCTATT\n",
      "6 GGCAATAGCGAACAACAAGGTCGGTTGTTTGA\n",
      "7 TGGCTCTGCAACAGCAGCACCCATGACCACGT\n",
      "8 AAGCTGGCTGGCAATCTCTTTCGGGGTGAGTC\n",
      "9 TAGTTTCCGTATCTCCGGATTTATAAAGCTGA\n",
      "10 ATTACGCCTTTTTGCGATTGCCCGGTTTTTGC\n",
      "11 CCGGGGGATAATGTTTACGGTCATGCGCCCCC\n",
      "12 TGGGCGGCTTGCCTTGCAGCCAGCTCCAGCAG\n",
      "13 GCGACCGCTCAGAAATTCCAGACCCGATCCAA\n",
      "14 GCAGGCGGCGACGCGCAGGGTATGCGCGATTC\n",
      "15 AAGTTCGACAACTTAAAAAATGATAACAAGTC\n",
      "16 TCAACATTATCAATTACAACCGACAGGGAGCC\n",
      "17 CAGCGTCAGGCGTGAAATCTCACCGTCGTTGC\n",
      "18 TGCGTGAGCGTATCGCCGCGCGTCTGCGAAAG\n"
     ]
    }
   ],
   "source": [
    "for i in range(19):\n",
    "    print(i, arr_to_sp(get_most_often(X_second, clusters_all_second,i)))"
   ]
  },
  {
   "cell_type": "code",
   "execution_count": 547,
   "metadata": {
    "scrolled": true
   },
   "outputs": [
    {
     "data": {
      "text/plain": [
       "[[1, 3],\n",
       " [3, 11],\n",
       " [5, 4],\n",
       " [2, 10],\n",
       " [4, 7],\n",
       " [7, 2],\n",
       " [8, 9],\n",
       " [12, 8],\n",
       " [14, 13],\n",
       " [9, 14],\n",
       " [11, 12],\n",
       " [13, 16],\n",
       " [16, 0],\n",
       " [17, 1],\n",
       " [0, 18]]"
      ]
     },
     "execution_count": 547,
     "metadata": {},
     "output_type": "execute_result"
    }
   ],
   "source": [
    "pairs_second"
   ]
  },
  {
   "cell_type": "code",
   "execution_count": null,
   "metadata": {
    "collapsed": true
   },
   "outputs": [],
   "source": [
    "curr = 17 \n",
    "\n"
   ]
  },
  {
   "cell_type": "code",
   "execution_count": 524,
   "metadata": {
    "scrolled": true
   },
   "outputs": [
    {
     "name": "stdout",
     "output_type": "stream",
     "text": [
      "[17  1  3 11 12  8  9 14 13 16  0 18]\n",
      "[15  5  4  7  2 10]\n",
      "[15  6  6  6  6  6  0 15  6 15  6  6  6]\n",
      "[15 15 15  6]\n"
     ]
    }
   ],
   "source": [
    "for ans in X_ans.items()[0][1][:]:\n",
    "    z_ans = internal_second(ans)\n",
    "    \n",
    "    print(gmm_second.predict(z_ans))"
   ]
  },
  {
   "cell_type": "code",
   "execution_count": 544,
   "metadata": {},
   "outputs": [
    {
     "data": {
      "text/plain": [
       "(994, 2)"
      ]
     },
     "execution_count": 544,
     "metadata": {},
     "output_type": "execute_result"
    }
   ],
   "source": [
    "c_p_second"
   ]
  },
  {
   "cell_type": "code",
   "execution_count": 369,
   "metadata": {
    "collapsed": true
   },
   "outputs": [],
   "source": [
    "clusters_to_continue = set([4])"
   ]
  },
  {
   "cell_type": "code",
   "execution_count": null,
   "metadata": {
    "collapsed": true
   },
   "outputs": [],
   "source": []
  },
  {
   "cell_type": "code",
   "execution_count": null,
   "metadata": {
    "collapsed": true
   },
   "outputs": [],
   "source": []
  },
  {
   "cell_type": "code",
   "execution_count": null,
   "metadata": {
    "collapsed": true
   },
   "outputs": [],
   "source": [
    "X"
   ]
  },
  {
   "cell_type": "code",
   "execution_count": null,
   "metadata": {
    "collapsed": true
   },
   "outputs": [],
   "source": []
  },
  {
   "cell_type": "code",
   "execution_count": 367,
   "metadata": {
    "collapsed": true
   },
   "outputs": [],
   "source": [
    "X_ans = np.load(\"./data/npy/ES3_R1_ans.npy.npz\")"
   ]
  },
  {
   "cell_type": "code",
   "execution_count": null,
   "metadata": {
    "collapsed": true
   },
   "outputs": [],
   "source": []
  },
  {
   "cell_type": "code",
   "execution_count": null,
   "metadata": {
    "collapsed": true
   },
   "outputs": [],
   "source": []
  },
  {
   "cell_type": "code",
   "execution_count": null,
   "metadata": {
    "collapsed": true
   },
   "outputs": [],
   "source": []
  },
  {
   "cell_type": "code",
   "execution_count": null,
   "metadata": {
    "collapsed": true
   },
   "outputs": [],
   "source": []
  },
  {
   "cell_type": "code",
   "execution_count": null,
   "metadata": {
    "collapsed": true
   },
   "outputs": [],
   "source": []
  },
  {
   "cell_type": "code",
   "execution_count": 221,
   "metadata": {
    "collapsed": true
   },
   "outputs": [],
   "source": [
    "Z_pairs_0 = internal(X_pairs[:,0,:])\n",
    "Z_pairs_1 = internal(X_pairs[:,1,:])"
   ]
  },
  {
   "cell_type": "code",
   "execution_count": 222,
   "metadata": {
    "collapsed": true
   },
   "outputs": [],
   "source": [
    "c_0 = gmm.predict(Z_pairs_0)\n",
    "c_1 = gmm.predict(Z_pairs_1)"
   ]
  },
  {
   "cell_type": "code",
   "execution_count": 235,
   "metadata": {
    "collapsed": true
   },
   "outputs": [],
   "source": [
    "c_p = np.concatenate((c_0.reshape(-1, 1), c_1.reshape(-1, 1)), 1)"
   ]
  },
  {
   "cell_type": "code",
   "execution_count": 292,
   "metadata": {},
   "outputs": [
    {
     "name": "stderr",
     "output_type": "stream",
     "text": [
      "100%|██████████| 74627/74627 [00:00<00:00, 537718.90it/s]\n"
     ]
    }
   ],
   "source": [
    "graph = np.zeros((clusters_num,clusters_num)).astype(int)\n",
    "\n",
    "\n",
    "for p in tqdm(c_p):\n",
    "    graph[p[0]][p[1]] += 1"
   ]
  },
  {
   "cell_type": "code",
   "execution_count": 299,
   "metadata": {},
   "outputs": [
    {
     "name": "stderr",
     "output_type": "stream",
     "text": [
      "100%|██████████| 74627/74627 [00:00<00:00, 549835.80it/s]\n"
     ]
    }
   ],
   "source": [
    "graph = np.zeros((clusters_num,clusters_num)).astype(int)\n",
    "\n",
    "for p in tqdm(c_p):\n",
    "    graph[p[0]][p[1]] += 1\n",
    "    \n",
    "def to_graph(gr, clusters_num, edges_num):\n",
    "    G=nx.Graph()\n",
    "    G.add_nodes_from(np.arange(clusters_num))\n",
    "    \n",
    "    edges = []\n",
    "    curr_weight = 1000\n",
    "    #while curr_weight > 100:\n",
    "    for i in range(edges_num):\n",
    "        lin_max = np.argmax(gr)\n",
    "        curr_weight = np.max(gr)\n",
    "        \n",
    "        x, y = lin_max // gr.shape[0], lin_max % gr.shape[0]\n",
    "        gr[x][y] = 0\n",
    "        gr[y][x] = 0\n",
    "\n",
    "        G.add_edge(x, y)\n",
    "        edges.append([x, y])\n",
    "    \n",
    "    #arr_to_sp(sp_9)\n",
    "    return edges, G"
   ]
  },
  {
   "cell_type": "code",
   "execution_count": 300,
   "metadata": {
    "collapsed": true
   },
   "outputs": [],
   "source": [
    "pairs, G = to_graph(graph, clusters_num, clusters_num - 3)"
   ]
  },
  {
   "cell_type": "code",
   "execution_count": 301,
   "metadata": {
    "scrolled": false
   },
   "outputs": [
    {
     "data": {
      "image/png": "[encoded data removed]",
      "text/plain": [
       "<matplotlib.figure.Figure at 0x7f5dd7bf8cc0>"
      ]
     },
     "metadata": {},
     "output_type": "display_data"
    }
   ],
   "source": [
    "fig, ax = plt.subplots(figsize=(20, 10))\n",
    "nx.draw_networkx(G, edge_color='b', node_size=1)\n",
    "#nx.draw_networkx(G_ans, edge_color='r', node_size=1)\n",
    "#nx.draw_networkx_edges(G, )\n",
    "plt.show()"
   ]
  },
  {
   "cell_type": "code",
   "execution_count": null,
   "metadata": {
    "collapsed": true
   },
   "outputs": [],
   "source": []
  },
  {
   "cell_type": "code",
   "execution_count": null,
   "metadata": {
    "collapsed": true
   },
   "outputs": [],
   "source": []
  },
  {
   "cell_type": "code",
   "execution_count": null,
   "metadata": {
    "collapsed": true
   },
   "outputs": [],
   "source": []
  },
  {
   "cell_type": "code",
   "execution_count": null,
   "metadata": {
    "collapsed": true
   },
   "outputs": [],
   "source": []
  },
  {
   "cell_type": "code",
   "execution_count": 332,
   "metadata": {},
   "outputs": [
    {
     "name": "stdout",
     "output_type": "stream",
     "text": [
      "[ 0.53586948  0.89521305]\n",
      "[ 0.22133572 -1.74805519]\n",
      "[ 1.95108428 -0.72391282]\n",
      "[-0.26362163 -0.17267777]\n",
      "[ 1.044468   -0.52015537]\n",
      "[-0.22827305  1.62247082]\n",
      "[-1.34880272  0.62960182]\n",
      "[ 0.74738359  2.17262867]\n",
      "[ 2.06445872  0.29566447]\n",
      "[-0.95013428 -1.11908301]\n",
      "[ 0.51676725  0.05715029]\n",
      "[ 1.13286483 -1.65287157]\n",
      "[ 1.46405781  1.05730151]\n",
      "[ 1.16169403 -0.03542063]\n",
      "[-0.07802807  0.45373693]\n",
      "[ 0.63485398 -0.82409468]\n",
      "[ 0.94857281  0.38557083]\n",
      "[ 0.2779853  -0.42797587]\n",
      "[ nan  nan]\n",
      "[ nan  nan]\n"
     ]
    },
    {
     "name": "stderr",
     "output_type": "stream",
     "text": [
      "/home/anton/anaconda3/lib/python3.6/site-packages/ipykernel_launcher.py:2: RuntimeWarning: Mean of empty slice.\n",
      "  \n"
     ]
    }
   ],
   "source": [
    "for i in range(20):\n",
    "    print(Z[clusters_all == i].mean(0))"
   ]
  },
  {
   "cell_type": "code",
   "execution_count": 332,
   "metadata": {},
   "outputs": [
    {
     "name": "stdout",
     "output_type": "stream",
     "text": [
      "[ 0.53586948  0.89521305]\n",
      "[ 0.22133572 -1.74805519]\n",
      "[ 1.95108428 -0.72391282]\n",
      "[-0.26362163 -0.17267777]\n",
      "[ 1.044468   -0.52015537]\n",
      "[-0.22827305  1.62247082]\n",
      "[-1.34880272  0.62960182]\n",
      "[ 0.74738359  2.17262867]\n",
      "[ 2.06445872  0.29566447]\n",
      "[-0.95013428 -1.11908301]\n",
      "[ 0.51676725  0.05715029]\n",
      "[ 1.13286483 -1.65287157]\n",
      "[ 1.46405781  1.05730151]\n",
      "[ 1.16169403 -0.03542063]\n",
      "[-0.07802807  0.45373693]\n",
      "[ 0.63485398 -0.82409468]\n",
      "[ 0.94857281  0.38557083]\n",
      "[ 0.2779853  -0.42797587]\n",
      "[ nan  nan]\n",
      "[ nan  nan]\n"
     ]
    },
    {
     "name": "stderr",
     "output_type": "stream",
     "text": [
      "/home/anton/anaconda3/lib/python3.6/site-packages/ipykernel_launcher.py:2: RuntimeWarning: Mean of empty slice.\n",
      "  \n"
     ]
    }
   ],
   "source": [
    "for i in range(20):\n",
    "    print(Z[clusters_all == i].mean(0))"
   ]
  },
  {
   "cell_type": "code",
   "execution_count": 332,
   "metadata": {},
   "outputs": [
    {
     "name": "stdout",
     "output_type": "stream",
     "text": [
      "[ 0.53586948  0.89521305]\n",
      "[ 0.22133572 -1.74805519]\n",
      "[ 1.95108428 -0.72391282]\n",
      "[-0.26362163 -0.17267777]\n",
      "[ 1.044468   -0.52015537]\n",
      "[-0.22827305  1.62247082]\n",
      "[-1.34880272  0.62960182]\n",
      "[ 0.74738359  2.17262867]\n",
      "[ 2.06445872  0.29566447]\n",
      "[-0.95013428 -1.11908301]\n",
      "[ 0.51676725  0.05715029]\n",
      "[ 1.13286483 -1.65287157]\n",
      "[ 1.46405781  1.05730151]\n",
      "[ 1.16169403 -0.03542063]\n",
      "[-0.07802807  0.45373693]\n",
      "[ 0.63485398 -0.82409468]\n",
      "[ 0.94857281  0.38557083]\n",
      "[ 0.2779853  -0.42797587]\n",
      "[ nan  nan]\n",
      "[ nan  nan]\n"
     ]
    },
    {
     "name": "stderr",
     "output_type": "stream",
     "text": [
      "/home/anton/anaconda3/lib/python3.6/site-packages/ipykernel_launcher.py:2: RuntimeWarning: Mean of empty slice.\n",
      "  \n"
     ]
    }
   ],
   "source": [
    "for i in range(20):\n",
    "    print(Z[clusters_all == i].mean(0))"
   ]
  },
  {
   "cell_type": "code",
   "execution_count": null,
   "metadata": {
    "collapsed": true
   },
   "outputs": [],
   "source": [
    "def get_central_cluster_num(Z, clusters_all):\n",
    "    "
   ]
  },
  {
   "cell_type": "code",
   "execution_count": 333,
   "metadata": {
    "scrolled": true
   },
   "outputs": [
    {
     "data": {
      "text/plain": [
       "array([-0.01019364, -0.00608249])"
      ]
     },
     "execution_count": 333,
     "metadata": {},
     "output_type": "execute_result"
    }
   ],
   "source": [
    "Z.mean(0)"
   ]
  },
  {
   "cell_type": "code",
   "execution_count": 314,
   "metadata": {
    "collapsed": true
   },
   "outputs": [],
   "source": [
    "for get_most_often(X, clusters_all, 9)"
   ]
  },
  {
   "cell_type": "code",
   "execution_count": 316,
   "metadata": {},
   "outputs": [
    {
     "data": {
      "text/plain": [
       "'GACAGAACGGCCTCAGTAGTCTCGTCAGGCTC'"
      ]
     },
     "execution_count": 316,
     "metadata": {},
     "output_type": "execute_result"
    }
   ],
   "source": [
    "arr_to_sp(sp_9)"
   ]
  },
  {
   "cell_type": "code",
   "execution_count": 311,
   "metadata": {},
   "outputs": [
    {
     "data": {
      "text/plain": [
       "2"
      ]
     },
     "execution_count": 311,
     "metadata": {},
     "output_type": "execute_result"
    }
   ],
   "source": [
    "np.where(np.array([0,0,1,0]))[0][0]"
   ]
  },
  {
   "cell_type": "code",
   "execution_count": 230,
   "metadata": {
    "collapsed": true
   },
   "outputs": [
    {
     "name": "stdout",
     "output_type": "stream",
     "text": [
      "False [6, 5]\n",
      "True [3, 0]\n",
      "False [0, 14]\n",
      "False [5, 1]\n",
      "True [8, 15]\n",
      "False [1, 2]\n",
      "False [14, 8]\n",
      "False [2, 11]\n",
      "True [12, 13]\n",
      "False [11, 17]\n",
      "True [16, 10]\n",
      "False [17, 7]\n",
      "False [7, 16]\n",
      "False [10, 10]\n",
      "False [4, 12]\n",
      "False [10, 4]\n",
      "True [9, 10]\n",
      "True [3, 10]\n",
      "False [3, 9]\n",
      "True [3, 6]\n",
      "True [3, 15]\n",
      "True [3, 2]\n",
      "True [9, 2]\n",
      "True [3, 5]\n",
      "True [9, 11]\n",
      "False [9, 8]\n",
      "True [9, 15]\n",
      "False [3, 12]\n",
      "True [9, 13]\n"
     ]
    }
   ],
   "source": [
    "lists = []\n",
    "\n",
    "for pair in pairs[:30]:\n",
    "    if len(lists) == 0:\n",
    "        lists.append([pair[0], pair[1]])\n",
    "    else:\n",
    "        put = True\n",
    "        for l in lists:\n",
    "            if l[0] == pair[1]:\n",
    "                l = [pair[0]] + l\n",
    "                put = False\n",
    "            if l[-1] == pair[0]:\n",
    "                l.append(pair[1])\n",
    "                put = False\n",
    "        if put:\n",
    "            lists.append([pair[0], pair[1]])\n",
    "                \n",
    "\n",
    "\n"
   ]
  },
  {
   "cell_type": "code",
   "execution_count": 231,
   "metadata": {
    "scrolled": false
   },
   "outputs": [
    {
     "data": {
      "text/plain": [
       "[[9, 6, 5, 1, 2, 11, 17, 7, 16],\n",
       " [3, 0, 14, 8],\n",
       " [8, 15],\n",
       " [12, 13],\n",
       " [16, 10, 10, 4],\n",
       " [9, 10],\n",
       " [3, 10],\n",
       " [3, 6],\n",
       " [3, 15],\n",
       " [3, 2]]"
      ]
     },
     "execution_count": 231,
     "metadata": {},
     "output_type": "execute_result"
    }
   ],
   "source": [
    "lists[:10]"
   ]
  },
  {
   "cell_type": "code",
   "execution_count": 132,
   "metadata": {},
   "outputs": [
    {
     "data": {
      "text/plain": [
       "array([[-1.14949492, -1.1740142 ],\n",
       "       [-1.30101832,  0.49389038],\n",
       "       [-0.31274551,  1.69436592],\n",
       "       [ 0.15424339, -1.73956254],\n",
       "       [ 1.89439947, -0.74905676],\n",
       "       [ 1.10844758, -1.70679704],\n",
       "       [ 0.21716161, -0.43328585],\n",
       "       [ 0.81502299,  2.15595959],\n",
       "       [ 0.89742379,  0.34754733],\n",
       "       [ 0.40866929,  0.23310013],\n",
       "       [ 0.96499633, -0.49965226],\n",
       "       [ 1.38951821,  0.98150506],\n",
       "       [ 1.11682024, -0.08184951]])"
      ]
     },
     "execution_count": 132,
     "metadata": {},
     "output_type": "execute_result"
    }
   ],
   "source": [
    "z_ans"
   ]
  },
  {
   "cell_type": "code",
   "execution_count": null,
   "metadata": {
    "collapsed": true
   },
   "outputs": [],
   "source": []
  },
  {
   "cell_type": "code",
   "execution_count": 234,
   "metadata": {
    "collapsed": true
   },
   "outputs": [],
   "source": [
    "def do_all(X, X_pairs, clusters_num):\n",
    "    input_X = T.matrix(\"X\")\n",
    "    input_shape = [None,32*4]\n",
    "    lr = theano.shared(0.001)\n",
    "\n",
    "    train_fn, test_fn, internal = get_VAE(input_X, lr)\n",
    "    \n",
    "    epochs = 30\n",
    "    v_losses_train = []\n",
    "    batch_size = 100\n",
    "    \n",
    "    for epoch in range(epochs):\n",
    "        ls_tr = 0.\n",
    "        logloss_tr = 0.\n",
    "        for batch in iterate_minibatches(X, batch_size):\n",
    "            ls_tr += train_fn(batch)\n",
    "\n",
    "        v_losses_train.append(ls_tr/ batch_size)\n",
    "        lr = lr * 0.95\n",
    "\n",
    "        if epoch%2==1:\n",
    "            display.clear_output(wait=True)\n",
    "            plt.plot(v_losses_train, label='train')\n",
    "            plt.legend()\n",
    "            plt.show()\n",
    "            \n",
    "    Z = internal(X)\n",
    "    \n",
    "    gmm = do_gmm(Z, clusters_num)\n",
    "    \n",
    "    "
   ]
  },
  {
   "cell_type": "code",
   "execution_count": null,
   "metadata": {
    "collapsed": true
   },
   "outputs": [],
   "source": []
  },
  {
   "cell_type": "code",
   "execution_count": null,
   "metadata": {
    "collapsed": true
   },
   "outputs": [],
   "source": []
  },
  {
   "cell_type": "code",
   "execution_count": null,
   "metadata": {
    "collapsed": true
   },
   "outputs": [],
   "source": []
  },
  {
   "cell_type": "code",
   "execution_count": 82,
   "metadata": {
    "collapsed": true
   },
   "outputs": [],
   "source": [
    "with open(\"./data/ES/ES1_R1_pairs.txt\") as f:\n",
    "    lines = f.readlines()\n",
    "    \n",
    "lines = [x[:-2] for x in lines]\n",
    "pairs = [x.split(\" \") for x in lines]"
   ]
  },
  {
   "cell_type": "code",
   "execution_count": 83,
   "metadata": {
    "collapsed": true
   },
   "outputs": [],
   "source": [
    "es_3 = []\n",
    "\n",
    "for a, b in pairs:\n",
    "    es_3.append(a)\n",
    "    es_3.append(b)"
   ]
  },
  {
   "cell_type": "code",
   "execution_count": 84,
   "metadata": {
    "collapsed": true
   },
   "outputs": [],
   "source": [
    "es_3 = [x[:32] for x in es_3]"
   ]
  },
  {
   "cell_type": "code",
   "execution_count": 90,
   "metadata": {
    "scrolled": true
   },
   "outputs": [
    {
     "name": "stderr",
     "output_type": "stream",
     "text": [
      "159654it [00:02, 60994.18it/s]\n"
     ]
    }
   ],
   "source": [
    "X_es_3 = to_array(es_3)"
   ]
  },
  {
   "cell_type": "code",
   "execution_count": 468,
   "metadata": {
    "collapsed": true
   },
   "outputs": [],
   "source": [
    "ans_es_3_1 = \"CAGCGTCAGGCGTGAAATCTCACCGTCGTTGC TCGGTTCAGGCGTTGCAAACCTGGCTACCGGG \\\n",
    "GTAGTCCATCATTCCACCTATGTCTGAACTCC CCGGGGGATAATGTTTACGGTCATGCGCCCCC TGGGCGGCTTGCCTTGCAGCCAGCTCCAGCAG \\\n",
    "AAGCTGGCTGGCAATCTCTTTCGGGGTGAGTC TAGTTTCCGTATCTCCGGATTTATAAAGCTGA GCAGGCGGCGACGCGCAGGGTATGCGCGATTCG \\\n",
    "GCGACCGCTCAGAAATTCCAGACCCGATCCAAA TCAACATTATCAATTACAACCGACAGGGAGCC AGCGTGTTCGGCATCACCTTTGGCTTCGGCTG \\\n",
    "TGCGTGAGCGTATCGCCGCGCGTCTGCGAAAG \"\n",
    "ans_es_3_2 = \"GACAGAACGGCCTCAGTAGTCTCGTCAGGCTC CTGTTTTCGCAAATCTATGGACTATTGCTATT \\\n",
    "GGGCGCACGGAATACAAAGCCGTGTATCTGCT TGGCTCTGCAACAGCAGCACCCATGACCACGT GAAATGCTGGTGAGCGTTAATGCCGCAAACAC \\\n",
    "ATTACGCCTTTTTGCGATTGCCCGGTTTTTGC \"\n",
    "ans_es_3_3 = \"GACAGAACGGCCTCAGTAGTCTCGTCAGGCTC ACACGCCCTTATCAAATAGCTGTGATTTACCTA \\\n",
    "ATAGACCCCGAACAACAATACGCGCAAACCGA TACCGTACAGACTGCCGGATATTATTTTTTTG CTGCTGCTCGAGCTGGTGGAGTGCTGCTATAG \\\n",
    "AACGTCAGGTTGTCGCCGCTCTGCGTGGTCGC TGCATGGCTTTGGCTTCCTCTTTGACGGACGC ATATATCAGAGCAAAAAACAAAGCCACAGCCA \\\n",
    "CATAAAGAAACTATTTTGCGTTTCGTTCAGGT TTTTACAGTGTCAACAATCGTTCCCTGATTGT CCGCCGTTGGCACCGTCAAACTCCGGTACTGT \\\n",
    "TATAGAGATCGTTTTTGGAATTTACAGCGAGG CCGTAAGTGGTTTGAGCGATGATATTTGTGCT \"\n",
    "ans_es_3_4 = \"AGTGCTGGACCATTTCAAATTCACAATAGATT GGAATGATATTTCAATAAATAATTATAACAAT \\\n",
    "CCCTCACACCGATTCGCCAAACGGTGGAGAAG AGCTGGGCGAAATTTTGATTCATCGTGATGAC \""
   ]
  },
  {
   "cell_type": "code",
   "execution_count": 471,
   "metadata": {},
   "outputs": [
    {
     "name": "stdout",
     "output_type": "stream",
     "text": [
      "GACAGAACGGCCTCAGTAGTCTCGTCAGGCTC\n"
     ]
    }
   ],
   "source": [
    "for a in ans_es_3_1.split() + ans_es_3_2.split():\n",
    "    if a in ans_es_3_3.split() or a in  ans_es_3_4.split():\n",
    "        print(a)"
   ]
  },
  {
   "cell_type": "code",
   "execution_count": 323,
   "metadata": {
    "collapsed": true
   },
   "outputs": [],
   "source": [
    "ans_es_3 = [x[:32] for x in (ans_es_3_1 + \" \" + ans_es_3_2 + \" \" + ans_es_3_3 + \" \" + ans_es_3_4).split()]"
   ]
  },
  {
   "cell_type": "code",
   "execution_count": 324,
   "metadata": {
    "scrolled": true
   },
   "outputs": [
    {
     "name": "stderr",
     "output_type": "stream",
     "text": [
      "35it [00:00, 27594.11it/s]\n"
     ]
    }
   ],
   "source": [
    "X_ans_es_3 = to_array(ans_es_3)"
   ]
  },
  {
   "cell_type": "code",
   "execution_count": null,
   "metadata": {
    "collapsed": true
   },
   "outputs": [],
   "source": []
  },
  {
   "cell_type": "code",
   "execution_count": null,
   "metadata": {
    "collapsed": true
   },
   "outputs": [],
   "source": []
  },
  {
   "cell_type": "code",
   "execution_count": 15,
   "metadata": {
    "collapsed": true
   },
   "outputs": [],
   "source": [
    "unique = set(K_1 + K_2)"
   ]
  },
  {
   "cell_type": "code",
   "execution_count": 9,
   "metadata": {
    "collapsed": true
   },
   "outputs": [],
   "source": [
    "kept_len = 32"
   ]
  },
  {
   "cell_type": "code",
   "execution_count": 10,
   "metadata": {
    "collapsed": true
   },
   "outputs": [],
   "source": [
    "K_1 = ['CAGCGTCAGGCGTGAAATCTCACCGTCGTTGC', 'TCGGTTCAGGCGTTGCAAACCTGGCTACCGGG', \n",
    "       'GTAGTCCATCATTCCACCTATGTCTGAACTCC', 'CCGGGGGATAATGTTTACGGTCATGCGCCCCC', \n",
    "       'TGGGCGGCTTGCCTTGCAGCCAGCTCCAGCAG', 'AAGCTGGCTGGCAATCTCTTTCGGGGTGAGTC',\n",
    "       'TAGTTTCCGTATCTCCGGATTTATAAAGCTGA', 'GCAGGCGGCGACGCGCAGGGTATGCGCGATTCG', \n",
    "       'GCGACCGCTCAGAAATTCCAGACCCGATCCAAA','TCAACATTATCAATTACAACCGACAGGGAGCC', \n",
    "       'AGCGTGTTCGGCATCACCTTTGGCTTCGGCTG', 'TGCGTGAGCGTATCGCCGCGCGTCTGCGAAAG']\n",
    "       \n",
    "K_2 = ['GACAGAACGGCCTCAGTAGTCTCGTCAGGCTC', 'CTGTTTTCGCAAATCTATGGACTATTGCTATT', \n",
    "       'GGGCGCACGGAATACAAAGCCGTGTATCTGCT', 'TGGCTCTGCAACAGCAGCACCCATGACCACGT', \n",
    "       'GAAATGCTGGTGAGCGTTAATGCCGCAAACAC', 'ATTACGCCTTTTTGCGATTGCCCGGTTTTTGC']"
   ]
  },
  {
   "cell_type": "code",
   "execution_count": 89,
   "metadata": {
    "collapsed": true
   },
   "outputs": [],
   "source": [
    "letter_to_num = {}\n",
    "letter_to_num['A'] = 0\n",
    "letter_to_num['C'] = 1\n",
    "letter_to_num['T'] = 2\n",
    "letter_to_num['G'] = 3"
   ]
  },
  {
   "cell_type": "code",
   "execution_count": 86,
   "metadata": {
    "collapsed": true
   },
   "outputs": [],
   "source": [
    "def process_spacer(spacer):\n",
    "    ans = np.zeros(32*4)\n",
    "    \n",
    "    for i, letter in enumerate(spacer):\n",
    "        if letter in letter_to_num.keys():\n",
    "            ans[i*4 + letter_to_num[letter]] = 1\n",
    "    return ans\n",
    "    "
   ]
  },
  {
   "cell_type": "code",
   "execution_count": 13,
   "metadata": {
    "collapsed": true
   },
   "outputs": [],
   "source": [
    "def add_noize(spacer, prob = 0.99):\n",
    "    noized = []\n",
    "    for letter in spacer: \n",
    "        if np.random.random() > prob:\n",
    "            noized.append(np.random.choice([\"A\",\"C\",\"G\",\"T\", \"\"]))\n",
    "        else:\n",
    "            noized.append(letter)\n",
    "    return ''.join(noized)"
   ]
  },
  {
   "cell_type": "code",
   "execution_count": 14,
   "metadata": {},
   "outputs": [
    {
     "name": "stderr",
     "output_type": "stream",
     "text": [
      "100%|██████████| 159654/159654 [00:08<00:00, 19507.01it/s]\n"
     ]
    }
   ],
   "source": [
    "noised_data = []\n",
    "K = K_1 + K_2\n",
    "for i in tqdm(range(len(pairs) * 2)):\n",
    "    noised_data.append(add_noize(np.random.choice(K), 0.97))\n",
    "    "
   ]
  },
  {
   "cell_type": "code",
   "execution_count": 17,
   "metadata": {},
   "outputs": [
    {
     "data": {
      "text/plain": [
       "73362"
      ]
     },
     "execution_count": 17,
     "metadata": {},
     "output_type": "execute_result"
    }
   ],
   "source": [
    "counter = 0\n",
    "for p in noised_data:\n",
    "    if p in unique:\n",
    "        counter += 1\n",
    "counter"
   ]
  },
  {
   "cell_type": "code",
   "execution_count": 18,
   "metadata": {
    "collapsed": true
   },
   "outputs": [],
   "source": [
    "noised_data = [x[:32] for x in noised_data]"
   ]
  },
  {
   "cell_type": "code",
   "execution_count": 87,
   "metadata": {
    "collapsed": true
   },
   "outputs": [],
   "source": [
    "def to_array(spacers):\n",
    "    X = np.zeros((len(spacers), 32 * 4))\n",
    "\n",
    "    for i, spacer in tqdm(enumerate(spacers)):\n",
    "        X[i,:] = process_spacer(spacer)\n",
    "    return X"
   ]
  },
  {
   "cell_type": "code",
   "execution_count": 19,
   "metadata": {},
   "outputs": [
    {
     "name": "stderr",
     "output_type": "stream",
     "text": [
      "159654it [00:02, 66800.41it/s]\n"
     ]
    }
   ],
   "source": [
    "X_noised = np.zeros((len(noised_data), 32 * 4))\n",
    "\n",
    "for i, noised_spacer in tqdm(enumerate(noised_data)):\n",
    "    X_noised[i,:] = process_spacer(noised_spacer)"
   ]
  },
  {
   "cell_type": "code",
   "execution_count": 20,
   "metadata": {},
   "outputs": [
    {
     "name": "stderr",
     "output_type": "stream",
     "text": [
      "18it [00:00, 24051.44it/s]\n"
     ]
    }
   ],
   "source": [
    "X = np.zeros((len(K), 32 * 4))\n",
    "\n",
    "for i, spacer in tqdm(enumerate([x[:32] for x in K])):\n",
    "    X[i,:] = process_spacer(spacer)"
   ]
  },
  {
   "cell_type": "markdown",
   "metadata": {},
   "source": [
    "# ALL DATA"
   ]
  },
  {
   "cell_type": "code",
   "execution_count": 220,
   "metadata": {
    "collapsed": true
   },
   "outputs": [],
   "source": [
    "with open(\"./data/CRISPR_db_2109.txt\") as f:\n",
    "    db_lines = f.readlines()"
   ]
  },
  {
   "cell_type": "code",
   "execution_count": 221,
   "metadata": {
    "collapsed": true
   },
   "outputs": [],
   "source": [
    "db = [[y for y in x.split(\"\\t\")[1:-1] if len(y) > 0] for x in db_lines]"
   ]
  },
  {
   "cell_type": "code",
   "execution_count": 250,
   "metadata": {},
   "outputs": [
    {
     "data": {
      "text/plain": [
       "array([  21,   27,   39,   49,   56,   61,   67,   81,   86,   92,   98,\n",
       "        118,  135,  161,  162,  170,  181,  237,  257,  312,  351,  365,\n",
       "        404,  414,  419,  420,  424,  438,  445,  454,  458,  483,  504,\n",
       "        506,  507,  509,  519,  559,  589,  604,  615,  633,  648,  661,\n",
       "        674,  681,  687,  710,  755,  766,  783,  788,  789,  790,  827,\n",
       "        862,  864,  897,  907,  965,  970,  976,  990, 1000, 1014, 1017,\n",
       "       1025, 1049, 1052, 1074, 1075, 1093, 1154, 1161, 1192, 1208, 1213,\n",
       "       1217, 1224, 1241, 1244, 1252, 1278, 1310, 1319, 1329, 1331, 1336,\n",
       "       1342, 1354, 1361, 1374, 1383, 1425, 1434, 1440, 1505, 1506, 1553,\n",
       "       1568, 1592, 1603, 1605, 1613, 1621, 1645, 1657, 1663, 1700, 1736,\n",
       "       1737, 1751, 1755, 1795, 2024, 2300, 2345, 2463, 2502, 2503, 2504,\n",
       "       2506, 2507, 2508, 2509, 2510, 2511, 2512, 2513, 2514, 2515, 2516,\n",
       "       2517, 2518, 2519, 2520, 2521, 2522, 2523, 2525, 2526, 2527, 2528,\n",
       "       2529, 2530, 2531, 2532, 2533, 2534, 2535, 2536, 2539, 2540, 2542,\n",
       "       2543, 2544, 2545, 2546, 2547, 2548, 2551, 2552, 2553, 2638, 2672,\n",
       "       2673, 2697, 2744, 2746, 2747, 2748, 2765, 2866, 2880, 2941, 3018,\n",
       "       3035, 3036, 3043])"
      ]
     },
     "execution_count": 250,
     "metadata": {},
     "output_type": "execute_result"
    }
   ],
   "source": [
    "np.where(np.array([len(x) for x in db]) == 1)[0]"
   ]
  },
  {
   "cell_type": "code",
   "execution_count": 252,
   "metadata": {},
   "outputs": [
    {
     "data": {
      "text/plain": [
       "array([ '@gi|675818951:288728-289015_E_coli_FHI102_scaffold-28_contig-1.2_582909_1011299\\tCTGAAACCAGTTGGCTCGTTGTTCTTCTTTGG\\t\\t\\t\\t\\t\\t\\t\\t\\t\\t\\t\\t\\t\\t\\t\\t\\t\\t\\t\\t\\t\\t\\t\\t\\t\\t\\t\\t\\t\\t\\t\\t\\t\\t\\t\\t\\t\\t\\n',\n",
       "       '@gb|CP008805.1|:3680245-3680533_E_coli_O157:H7_str._SS17\\tCTCGACTTTAATTTTTTCGCTGCCCGCTTTTG\\t\\t\\t\\t\\t\\t\\t\\t\\t\\t\\t\\t\\t\\t\\t\\t\\t\\t\\t\\t\\t\\t\\t\\t\\t\\t\\t\\t\\t\\t\\t\\t\\t\\t\\t\\t\\t\\t\\n',\n",
       "       '@gb|KC765388.1|:1-219_E_coli_strain_96-0611_CRISPR2a\\tAAGTTCGACAACTTAAAAAATGATAACAAGTC\\t\\t\\t\\t\\t\\t\\t\\t\\t\\t\\t\\t\\t\\t\\t\\t\\t\\t\\t\\t\\t\\t\\t\\t\\t\\t\\t\\t\\t\\t\\t\\t\\t\\t\\t\\t\\t\\t\\n',\n",
       "       '@gb|KF522834.1|:288-576_E_coli_strain_H56909_CRISPR2\\tCTCGACTTTAATTTTTTCGCTGCCCGCTTTTG\\t\\t\\t\\t\\t\\t\\t\\t\\t\\t\\t\\t\\t\\t\\t\\t\\t\\t\\t\\t\\t\\t\\t\\t\\t\\t\\t\\t\\t\\t\\t\\t\\t\\t\\t\\t\\t\\t\\n',\n",
       "       '@gb|KF522734.1|:1-189_E_coli_strain_TW14359_CRISPR2\\tCTCGACTTTAATTTTTTCGCTGCCCGCTTTTG\\t\\t\\t\\t\\t\\t\\t\\t\\t\\t\\t\\t\\t\\t\\t\\t\\t\\t\\t\\t\\t\\t\\t\\t\\t\\t\\t\\t\\t\\t\\t\\t\\t\\t\\t\\t\\t\\t\\n',\n",
       "       '@gb|KF522859.1|:266-494_E_coli_strain_95.3322_CRISPR2\\tATATCCGGTTTTTGCTGGTGGGCCGCGCCGTT\\t\\t\\t\\t\\t\\t\\t\\t\\t\\t\\t\\t\\t\\t\\t\\t\\t\\t\\t\\t\\t\\t\\t\\t\\t\\t\\t\\t\\t\\t\\t\\t\\t\\t\\t\\t\\t\\t\\n',\n",
       "       '@gi|675819430:465490-465716_E_coli_FHI58_scaffold-25_contig-3.0_1_571371\\tTAAGCGATATCCATCATCGCATCCAGTGCGCC\\t\\t\\t\\t\\t\\t\\t\\t\\t\\t\\t\\t\\t\\t\\t\\t\\t\\t\\t\\t\\t\\t\\t\\t\\t\\t\\t\\t\\t\\t\\t\\t\\t\\t\\t\\t\\t\\t\\n',\n",
       "       '@gb|FJ232368.1|:1-90_E_coli_strain_ECOR44_CRISPR\\tCCTGATTGATGGCTTCTTTGATGTCAAACCGA\\t\\t\\t\\t\\t\\t\\t\\t\\t\\t\\t\\t\\t\\t\\t\\t\\t\\t\\t\\t\\t\\t\\t\\t\\t\\t\\t\\t\\t\\t\\t\\t\\t\\t\\t\\t\\t\\t\\n',\n",
       "       '@gi|218350208:3094112-3094399_E_coli_55989\\tCTGAAACCAGTTGGCTCGTTGTTCTTCTTTGG\\t\\t\\t\\t\\t\\t\\t\\t\\t\\t\\t\\t\\t\\t\\t\\t\\t\\t\\t\\t\\t\\t\\t\\t\\t\\t\\t\\t\\t\\t\\t\\t\\t\\t\\t\\t\\t\\t\\n',\n",
       "       '@gi|777221678:183039-183267_E_coli_NCTC9001_plasmid_:_3\\tATATCCGGTTTTTGCTGGTGGGCCGCGCCGTT\\t\\t\\t\\t\\t\\t\\t\\t\\t\\t\\t\\t\\t\\t\\t\\t\\t\\t\\t\\t\\t\\t\\t\\t\\t\\t\\t\\t\\t\\t\\t\\t\\t\\t\\t\\t\\t\\t\\n',\n",
       "       '@gi|676254253:127785-128072_E_coli_FHI62_scaffold-23_contig-0.0_1_800564\\tTCACGCCACGACGACGATCTGCATACAAATTG\\t\\t\\t\\t\\t\\t\\t\\t\\t\\t\\t\\t\\t\\t\\t\\t\\t\\t\\t\\t\\t\\t\\t\\t\\t\\t\\t\\t\\t\\t\\t\\t\\t\\t\\t\\t\\t\\t\\n',\n",
       "       '@gb|KC765365.1|:1-251_E_coli_strain_0-3245_CRISPR2a\\tAACATCGGAAACGGCTTCGCGGCGGCGGCGTC\\t\\t\\t\\t\\t\\t\\t\\t\\t\\t\\t\\t\\t\\t\\t\\t\\t\\t\\t\\t\\t\\t\\t\\t\\t\\t\\t\\t\\t\\t\\t\\t\\t\\t\\t\\t\\t\\t\\n',\n",
       "       '@gb|CP010304.1|:3643658-3643946_E_coli_O157:H7_str._SS52\\tCTCGACTTTAATTTTTTCGCTGCCCGCTTTTG\\t\\t\\t\\t\\t\\t\\t\\t\\t\\t\\t\\t\\t\\t\\t\\t\\t\\t\\t\\t\\t\\t\\t\\t\\t\\t\\t\\t\\t\\t\\t\\t\\t\\t\\t\\t\\t\\t\\n',\n",
       "       '@gb|KF522761.1|:127-413_E_coli_strain_UMD135_CRISPR2\\tAACATCGGAAACGGCTTCGCGGCGGCGGCGTC\\t\\t\\t\\t\\t\\t\\t\\t\\t\\t\\t\\t\\t\\t\\t\\t\\t\\t\\t\\t\\t\\t\\t\\t\\t\\t\\t\\t\\t\\t\\t\\t\\t\\t\\t\\t\\t\\t\\n',\n",
       "       '@gb|KC765180.1|:92-367_E_coli_strain_TW08613_CRISPR2a\\tCTCGACTTTAATTTTTTCGCTGCCCGCTTTTG\\t\\t\\t\\t\\t\\t\\t\\t\\t\\t\\t\\t\\t\\t\\t\\t\\t\\t\\t\\t\\t\\t\\t\\t\\t\\t\\t\\t\\t\\t\\t\\t\\t\\t\\t\\t\\t\\t\\n',\n",
       "       '@gb|CP002167.1|:586055-586283_E_coli_UM146\\tATATCCGGTTTTTGCTGGTGGGCCGCGCCGTT\\t\\t\\t\\t\\t\\t\\t\\t\\t\\t\\t\\t\\t\\t\\t\\t\\t\\t\\t\\t\\t\\t\\t\\t\\t\\t\\t\\t\\t\\t\\t\\t\\t\\t\\t\\t\\t\\t\\n',\n",
       "       '@gb|KC765181.1|:108-371_E_coli_strain_TW08623_CRISPR2a\\tCTCGACTTTAATTTTTTCGCTGCCCGCTTTTG\\t\\t\\t\\t\\t\\t\\t\\t\\t\\t\\t\\t\\t\\t\\t\\t\\t\\t\\t\\t\\t\\t\\t\\t\\t\\t\\t\\t\\t\\t\\t\\t\\t\\t\\t\\t\\t\\t\\n',\n",
       "       '@gb|JF495882.1|:1-150_E_coli_strain_IAI21_CRISPR1\\tACATGAATGTCGGTTCAGACCGTGTTTTTACC\\t\\t\\t\\t\\t\\t\\t\\t\\t\\t\\t\\t\\t\\t\\t\\t\\t\\t\\t\\t\\t\\t\\t\\t\\t\\t\\t\\t\\t\\t\\t\\t\\t\\t\\t\\t\\t\\t\\n',\n",
       "       '@gb|CP003297.1|:1192244-1192531_E_coli_O104:H4_str._2009EL-2050\\tCTGAAACCAGTTGGCTCGTTGTTCTTCTTTGG\\t\\t\\t\\t\\t\\t\\t\\t\\t\\t\\t\\t\\t\\t\\t\\t\\t\\t\\t\\t\\t\\t\\t\\t\\t\\t\\t\\t\\t\\t\\t\\t\\t\\t\\t\\t\\t\\t\\n',\n",
       "       '@gb|CP007799.1|:3112468-3112696_E_coli_Nissle_1917\\tATATCCGGTTTTTGCTGGTGGGCCGCGCCGTT\\t\\t\\t\\t\\t\\t\\t\\t\\t\\t\\t\\t\\t\\t\\t\\t\\t\\t\\t\\t\\t\\t\\t\\t\\t\\t\\t\\t\\t\\t\\t\\t\\t\\t\\t\\t\\t\\t\\n',\n",
       "       '@gb|KC765266.1|:97-359_E_coli_strain_M10029536001A_CRISPR2a\\tGCCTGACATTGCAGACGTTACAAATTGAGAGG\\t\\t\\t\\t\\t\\t\\t\\t\\t\\t\\t\\t\\t\\t\\t\\t\\t\\t\\t\\t\\t\\t\\t\\t\\t\\t\\t\\t\\t\\t\\t\\t\\t\\t\\t\\t\\t\\t\\n',\n",
       "       '@gb|CP015020.1|:1912672-1912960_E_coli_strain_28RC1\\tCTCGACTTTAATTTTTTCGCTGCCCGCTTTTG\\t\\t\\t\\t\\t\\t\\t\\t\\t\\t\\t\\t\\t\\t\\t\\t\\t\\t\\t\\t\\t\\t\\t\\t\\t\\t\\t\\t\\t\\t\\t\\t\\t\\t\\t\\t\\t\\t\\n',\n",
       "       '@gb|KC765185.1|:57-320_E_coli_strain_TW11102_CRISPR2a\\tCTCGACTTTAATTTTTTCGCTGCCCGCTTTTG\\t\\t\\t\\t\\t\\t\\t\\t\\t\\t\\t\\t\\t\\t\\t\\t\\t\\t\\t\\t\\t\\t\\t\\t\\t\\t\\t\\t\\t\\t\\t\\t\\t\\t\\t\\t\\t\\t\\n',\n",
       "       '@gb|CP008957.1|:3711653-3711941_E_coli_O157:H7_str._EDL933\\tCTCGACTTTAATTTTTTCGCTGCCCGCTTTTG\\t\\t\\t\\t\\t\\t\\t\\t\\t\\t\\t\\t\\t\\t\\t\\t\\t\\t\\t\\t\\t\\t\\t\\t\\t\\t\\t\\t\\t\\t\\t\\t\\t\\t\\t\\t\\t\\t\\n',\n",
       "       '@gi|675819749:104964-105190_E_coli_FHI25_scaffold-22_contig-5.0_1_349348\\tTAAGCGATATCCATCATCGCATCCAGTGCGCC\\t\\t\\t\\t\\t\\t\\t\\t\\t\\t\\t\\t\\t\\t\\t\\t\\t\\t\\t\\t\\t\\t\\t\\t\\t\\t\\t\\t\\t\\t\\t\\t\\t\\t\\t\\t\\t\\t\\n',\n",
       "       '@gb|KC765183.1|:95-357_E_coli_strain_TW11022_CRISPR2a\\tCTCGACTTTAATTTTTTCGCTGCCCGCTTTTG\\t\\t\\t\\t\\t\\t\\t\\t\\t\\t\\t\\t\\t\\t\\t\\t\\t\\t\\t\\t\\t\\t\\t\\t\\t\\t\\t\\t\\t\\t\\t\\t\\t\\t\\t\\t\\t\\t\\n',\n",
       "       '@gb|CP001368.1|:3683150-3683438_E_coli_O157:H7_str._TW14359\\tCTCGACTTTAATTTTTTCGCTGCCCGCTTTTG\\t\\t\\t\\t\\t\\t\\t\\t\\t\\t\\t\\t\\t\\t\\t\\t\\t\\t\\t\\t\\t\\t\\t\\t\\t\\t\\t\\t\\t\\t\\t\\t\\t\\t\\t\\t\\t\\t\\n',\n",
       "       '@gb|CP007149.1|:3075245-3075473_E_coli_RS218\\tATATCCGGTTTTTGCTGGTGGGCCGCGCCGTT\\t\\t\\t\\t\\t\\t\\t\\t\\t\\t\\t\\t\\t\\t\\t\\t\\t\\t\\t\\t\\t\\t\\t\\t\\t\\t\\t\\t\\t\\t\\t\\t\\t\\t\\t\\t\\t\\t\\n',\n",
       "       '@gb|FJ232374.1|:1-90_E_coli_strain_ECOR35_CRISPR\\tCCCAGACCTGAAGTCAACTTATCCATTGTCGA\\t\\t\\t\\t\\t\\t\\t\\t\\t\\t\\t\\t\\t\\t\\t\\t\\t\\t\\t\\t\\t\\t\\t\\t\\t\\t\\t\\t\\t\\t\\t\\t\\t\\t\\t\\t\\t\\t\\n',\n",
       "       '@gi|675820319:471268-471496_E_coli_FHI72_scaffold-33_contig-0.1_44342_1130685\\tATATCCGGTTTTTGCTGGTGGGCCGCGCCGTT\\t\\t\\t\\t\\t\\t\\t\\t\\t\\t\\t\\t\\t\\t\\t\\t\\t\\t\\t\\t\\t\\t\\t\\t\\t\\t\\t\\t\\t\\t\\t\\t\\t\\t\\t\\t\\t\\t\\n',\n",
       "       '@gb|CP001855.1|:2854265-2854493_E_coli_O83:H1_str._NRG_857C\\tATATCCGGTTTTTGCTGGTGGGCCGCGCCGTT\\t\\t\\t\\t\\t\\t\\t\\t\\t\\t\\t\\t\\t\\t\\t\\t\\t\\t\\t\\t\\t\\t\\t\\t\\t\\t\\t\\t\\t\\t\\t\\t\\t\\t\\t\\t\\t\\t\\n',\n",
       "       '@gb|KC765399.1|:1-257_E_coli_strain_96-1536_CRISPR2a\\tAACATCGGAAACGGCTTCGCGGCGGCGGCGTC\\t\\t\\t\\t\\t\\t\\t\\t\\t\\t\\t\\t\\t\\t\\t\\t\\t\\t\\t\\t\\t\\t\\t\\t\\t\\t\\t\\t\\t\\t\\t\\t\\t\\t\\t\\t\\t\\t\\n',\n",
       "       '@gb|CP015023.1|:1676006-1676294_E_coli_strain_SRCC_1675\\tCTCGACTTTAATTTTTTCGCTGCCCGCTTTTG\\t\\t\\t\\t\\t\\t\\t\\t\\t\\t\\t\\t\\t\\t\\t\\t\\t\\t\\t\\t\\t\\t\\t\\t\\t\\t\\t\\t\\t\\t\\t\\t\\t\\t\\t\\t\\t\\t\\n',\n",
       "       '@gb|KC765377.1|:1-220_E_coli_strain_90-0008_CRISPR2a\\tATATCCGGTTTTTGCTGGTGGGCCGCGCCGTT\\t\\t\\t\\t\\t\\t\\t\\t\\t\\t\\t\\t\\t\\t\\t\\t\\t\\t\\t\\t\\t\\t\\t\\t\\t\\t\\t\\t\\t\\t\\t\\t\\t\\t\\t\\t\\t\\t\\n',\n",
       "       '@gb|KC765165.1|:108-377_E_coli_strain_PA3_CRISPR2a\\tCTCGACTTTAATTTTTTCGCTGCCCGCTTTTG\\t\\t\\t\\t\\t\\t\\t\\t\\t\\t\\t\\t\\t\\t\\t\\t\\t\\t\\t\\t\\t\\t\\t\\t\\t\\t\\t\\t\\t\\t\\t\\t\\t\\t\\t\\t\\t\\t\\n',\n",
       "       '@gb|FJ232365.1|:1-90_E_coli_strain_ECOR06_CRISPR\\tCGTCCGGATCGGTTTCGAGAATCTCTACGCTC\\t\\t\\t\\t\\t\\t\\t\\t\\t\\t\\t\\t\\t\\t\\t\\t\\t\\t\\t\\t\\t\\t\\t\\t\\t\\t\\t\\t\\t\\t\\t\\t\\t\\t\\t\\t\\t\\t\\n',\n",
       "       '@gb|KF522713.1|:226-512_E_coli_strain_XDN5789_CRISPR2\\tAACATCGGAAACGGCTTCGCGGCGGCGGCGTC\\t\\t\\t\\t\\t\\t\\t\\t\\t\\t\\t\\t\\t\\t\\t\\t\\t\\t\\t\\t\\t\\t\\t\\t\\t\\t\\t\\t\\t\\t\\t\\t\\t\\t\\t\\t\\t\\t\\n',\n",
       "       '@gb|GU260852.1|:1-89_E_coli_strain_ECOR23_CRISPR2.2-3\\tATATCCGGTTTTTGCTGGTGGGCCGCGCCGTT\\t\\t\\t\\t\\t\\t\\t\\t\\t\\t\\t\\t\\t\\t\\t\\t\\t\\t\\t\\t\\t\\t\\t\\t\\t\\t\\t\\t\\t\\t\\t\\t\\t\\t\\t\\t\\t\\t\\n',\n",
       "       '@gb|FJ232372.1|:1-90_E_coli_strain_ECOR42_CRISPR\\tTGTTGATGGTGAGTTTTTTATAGCTGGCGCAC\\t\\t\\t\\t\\t\\t\\t\\t\\t\\t\\t\\t\\t\\t\\t\\t\\t\\t\\t\\t\\t\\t\\t\\t\\t\\t\\t\\t\\t\\t\\t\\t\\t\\t\\t\\t\\t\\t\\n',\n",
       "       '@gi|218363708:2988034-2988262_E_coli_S88\\tATATCCGGTTTTTGCTGGTGGGCCGCGCCGTT\\t\\t\\t\\t\\t\\t\\t\\t\\t\\t\\t\\t\\t\\t\\t\\t\\t\\t\\t\\t\\t\\t\\t\\t\\t\\t\\t\\t\\t\\t\\t\\t\\t\\t\\t\\t\\t\\t\\n',\n",
       "       '@gb|KC765176.1|:97-371_E_coli_strain_TW01663_CRISPR2a\\tCTCGACTTTAATTTTTTCGCTGCCCGCTTTTG\\t\\t\\t\\t\\t\\t\\t\\t\\t\\t\\t\\t\\t\\t\\t\\t\\t\\t\\t\\t\\t\\t\\t\\t\\t\\t\\t\\t\\t\\t\\t\\t\\t\\t\\t\\t\\t\\t\\n',\n",
       "       '@gb|FJ232370.1|:1-90_E_coli_strain_ECOR46_CRISPR\\tTTGCCGCGAAGACCAGTGAACTGGAAATCTGG\\t\\t\\t\\t\\t\\t\\t\\t\\t\\t\\t\\t\\t\\t\\t\\t\\t\\t\\t\\t\\t\\t\\t\\t\\t\\t\\t\\t\\t\\t\\t\\t\\t\\t\\t\\t\\t\\t\\n',\n",
       "       '@gb|KF522741.1|:234-522_E_coli_strain_WT119-2_CRISPR2\\tATATACAGCAAACCTTCAGAATGCATTCCGGG\\t\\t\\t\\t\\t\\t\\t\\t\\t\\t\\t\\t\\t\\t\\t\\t\\t\\t\\t\\t\\t\\t\\t\\t\\t\\t\\t\\t\\t\\t\\t\\t\\t\\t\\t\\t\\t\\t\\n',\n",
       "       '@gb|KC765187.1|:97-367_E_coli_strain_TW11346_CRISPR2a\\tCTCGACTTTAATTTTTTCGCTGCCCGCTTTTG\\t\\t\\t\\t\\t\\t\\t\\t\\t\\t\\t\\t\\t\\t\\t\\t\\t\\t\\t\\t\\t\\t\\t\\t\\t\\t\\t\\t\\t\\t\\t\\t\\t\\t\\t\\t\\t\\t\\n',\n",
       "       '@gb|KC765369.1|:1-272_E_coli_strain_2-0665_CRISPR2a\\tAACATCGGAAACGGCTTCGCGGCGGCGGCGTC\\t\\t\\t\\t\\t\\t\\t\\t\\t\\t\\t\\t\\t\\t\\t\\t\\t\\t\\t\\t\\t\\t\\t\\t\\t\\t\\t\\t\\t\\t\\t\\t\\t\\t\\t\\t\\t\\t\\n',\n",
       "       '@gb|CP012631.1|:1050641-1050869_E_coli_strain_SF-173\\tATATCCGGTTTTTGCTGGTGGGCCGCGCCGTT\\t\\t\\t\\t\\t\\t\\t\\t\\t\\t\\t\\t\\t\\t\\t\\t\\t\\t\\t\\t\\t\\t\\t\\t\\t\\t\\t\\t\\t\\t\\t\\t\\t\\t\\t\\t\\t\\t\\n',\n",
       "       '@gb|GU260791.1|:1-150_E_coli_strain_ECOR4_CRISPR2.1\\tACGCATATTATCGACGACTTCTTTTGCTTTGG\\t\\t\\t\\t\\t\\t\\t\\t\\t\\t\\t\\t\\t\\t\\t\\t\\t\\t\\t\\t\\t\\t\\t\\t\\t\\t\\t\\t\\t\\t\\t\\t\\t\\t\\t\\t\\t\\t\\n',\n",
       "       '@gb|CP013962.1|:1347725-1348012_E_coli_strain_SEC470_genome\\tTTACTGCTTGGTATGCGGAATCACACCCTGAA\\t\\t\\t\\t\\t\\t\\t\\t\\t\\t\\t\\t\\t\\t\\t\\t\\t\\t\\t\\t\\t\\t\\t\\t\\t\\t\\t\\t\\t\\t\\t\\t\\t\\t\\t\\t\\t\\t\\n',\n",
       "       '@gb|KC765173.1|:108-376_E_coli_strain_PA40_CRISPR2a\\tCTCGACTTTAATTTTTTCGCTGCCCGCTTTTG\\t\\t\\t\\t\\t\\t\\t\\t\\t\\t\\t\\t\\t\\t\\t\\t\\t\\t\\t\\t\\t\\t\\t\\t\\t\\t\\t\\t\\t\\t\\t\\t\\t\\t\\t\\t\\t\\t\\n',\n",
       "       '@gb|KC765372.1|:1-219_E_coli_strain_9-1665_CRISPR2a\\tATATCCGGTTTTTGCTGGTGGGCCGCGCCGTT\\t\\t\\t\\t\\t\\t\\t\\t\\t\\t\\t\\t\\t\\t\\t\\t\\t\\t\\t\\t\\t\\t\\t\\t\\t\\t\\t\\t\\t\\t\\t\\t\\t\\t\\t\\t\\t\\t\\n',\n",
       "       '@gb|KC765167.1|:108-372_E_coli_strain_PA11_CRISPR2a\\tCTCGACTTTAATTTTTTCGCTGCCCGCTTTTG\\t\\t\\t\\t\\t\\t\\t\\t\\t\\t\\t\\t\\t\\t\\t\\t\\t\\t\\t\\t\\t\\t\\t\\t\\t\\t\\t\\t\\t\\t\\t\\t\\t\\t\\t\\t\\t\\t\\n',\n",
       "       '@gb|CP013029.1|:3780776-3781004_E_coli_strain_2012C-4227\\tAAGTTCGACAACTTAAAAAATGATAACAAGTC\\t\\t\\t\\t\\t\\t\\t\\t\\t\\t\\t\\t\\t\\t\\t\\t\\t\\t\\t\\t\\t\\t\\t\\t\\t\\t\\t\\t\\t\\t\\t\\t\\t\\t\\t\\t\\t\\t\\n',\n",
       "       '@gb|CP013029.1|:3755498-3755785_E_coli_strain_2012C-4227\\tAAGCAGTTAGCAAAAAAACAGCGAATTGAAAA\\t\\t\\t\\t\\t\\t\\t\\t\\t\\t\\t\\t\\t\\t\\t\\t\\t\\t\\t\\t\\t\\t\\t\\t\\t\\t\\t\\t\\t\\t\\t\\t\\t\\t\\t\\t\\t\\t\\n',\n",
       "       '@gb|KC765174.1|:109-384_E_coli_strain_PA41_CRISPR2a\\tCTCGACTTTAATTTTTTCGCTGCCCGCTTTTG\\t\\t\\t\\t\\t\\t\\t\\t\\t\\t\\t\\t\\t\\t\\t\\t\\t\\t\\t\\t\\t\\t\\t\\t\\t\\t\\t\\t\\t\\t\\t\\t\\t\\t\\t\\t\\t\\t\\n',\n",
       "       '@gb|KC765171.1|:108-384_E_coli_strain_PA34_CRISPR2a\\tCTCGACTTTAATTTTTTCGCTGCCCGCTTTTG\\t\\t\\t\\t\\t\\t\\t\\t\\t\\t\\t\\t\\t\\t\\t\\t\\t\\t\\t\\t\\t\\t\\t\\t\\t\\t\\t\\t\\t\\t\\t\\t\\t\\t\\t\\t\\t\\t\\n',\n",
       "       '@gb|CP001671.1|:3099228-3099456_E_coli_ABU_83972\\tATATCCGGTTTTTGCTGGTGGGCCGCGCCGTT\\t\\t\\t\\t\\t\\t\\t\\t\\t\\t\\t\\t\\t\\t\\t\\t\\t\\t\\t\\t\\t\\t\\t\\t\\t\\t\\t\\t\\t\\t\\t\\t\\t\\t\\t\\t\\t\\t\\n',\n",
       "       '@gb|KF522774.1|:229-515_E_coli_strain_UMD173_CRISPR2\\tAACATCGGAAACGGCTTCGCGGCGGCGGCGTC\\t\\t\\t\\t\\t\\t\\t\\t\\t\\t\\t\\t\\t\\t\\t\\t\\t\\t\\t\\t\\t\\t\\t\\t\\t\\t\\t\\t\\t\\t\\t\\t\\t\\t\\t\\t\\t\\t\\n',\n",
       "       '@gb|CP011331.1|:496327-496614_E_coli_O104:H4_str._C227-11\\tCTGAAACCAGTTGGCTCGTTGTTCTTCTTTGG\\t\\t\\t\\t\\t\\t\\t\\t\\t\\t\\t\\t\\t\\t\\t\\t\\t\\t\\t\\t\\t\\t\\t\\t\\t\\t\\t\\t\\t\\t\\t\\t\\t\\t\\t\\t\\t\\t\\n',\n",
       "       '@gb|CP006636.1|:2850915-2851141_E_coli_PCN061\\tTCCGACACTTAGTATCATTATGGTGTCCGACA\\t\\t\\t\\t\\t\\t\\t\\t\\t\\t\\t\\t\\t\\t\\t\\t\\t\\t\\t\\t\\t\\t\\t\\t\\t\\t\\t\\t\\t\\t\\t\\t\\t\\t\\t\\t\\t\\t\\n',\n",
       "       '@gb|KC765168.1|:96-359_E_coli_strain_PA13_CRISPR2a\\tCTCGACTTTAATTTTTTCGCTGCCCGCTTTTG\\t\\t\\t\\t\\t\\t\\t\\t\\t\\t\\t\\t\\t\\t\\t\\t\\t\\t\\t\\t\\t\\t\\t\\t\\t\\t\\t\\t\\t\\t\\t\\t\\t\\t\\t\\t\\t\\t\\n',\n",
       "       '@gb|KF522790.1|:1-189_E_coli_strain_EC4115_CRISPR2\\tCTCGACTTTAATTTTTTCGCTGCCCGCTTTTG\\t\\t\\t\\t\\t\\t\\t\\t\\t\\t\\t\\t\\t\\t\\t\\t\\t\\t\\t\\t\\t\\t\\t\\t\\t\\t\\t\\t\\t\\t\\t\\t\\t\\t\\t\\t\\t\\t\\n',\n",
       "       '@gb|CP003301.1|:1181985-1182272_E_coli_O104:H4_str._2009EL-2071\\tCTGAAACCAGTTGGCTCGTTGTTCTTCTTTGG\\t\\t\\t\\t\\t\\t\\t\\t\\t\\t\\t\\t\\t\\t\\t\\t\\t\\t\\t\\t\\t\\t\\t\\t\\t\\t\\t\\t\\t\\t\\t\\t\\t\\t\\t\\t\\t\\t\\n',\n",
       "       '@gb|JF496113.1|:433-622_E_coli_strain_IAI5_CRISPR2\\tCTGCGGTGATTTCCTGGAATGTTTTGCCGGAC\\t\\t\\t\\t\\t\\t\\t\\t\\t\\t\\t\\t\\t\\t\\t\\t\\t\\t\\t\\t\\t\\t\\t\\t\\t\\t\\t\\t\\t\\t\\t\\t\\t\\t\\t\\t\\t\\t\\n',\n",
       "       '@gb|KC765188.1|:108-363_E_coli_strain_TW11516_CRISPR2a\\tCTCGACTTTAATTTTTTCGCTGCCCGCTTTTG\\t\\t\\t\\t\\t\\t\\t\\t\\t\\t\\t\\t\\t\\t\\t\\t\\t\\t\\t\\t\\t\\t\\t\\t\\t\\t\\t\\t\\t\\t\\t\\t\\t\\t\\t\\t\\t\\t\\n',\n",
       "       '@gb|CP012802.1|:3496517-3496805_E_coli_O157:H7_strain_WS4202\\tCTCGACTTTAATTTTTTCGCTGCCCGCTTTTG\\t\\t\\t\\t\\t\\t\\t\\t\\t\\t\\t\\t\\t\\t\\t\\t\\t\\t\\t\\t\\t\\t\\t\\t\\t\\t\\t\\t\\t\\t\\t\\t\\t\\t\\t\\t\\t\\t\\n',\n",
       "       '@gb|KC765636.1|:217-493_E_coli_strain_96-0611_CRISPR1\\tAAGCAGTTAGCAAAAAAACAGCGAATTGAAAA\\t\\t\\t\\t\\t\\t\\t\\t\\t\\t\\t\\t\\t\\t\\t\\t\\t\\t\\t\\t\\t\\t\\t\\t\\t\\t\\t\\t\\t\\t\\t\\t\\t\\t\\t\\t\\t\\t\\n',\n",
       "       '@gb|CP001925.1|:3551697-3551985_E_coli_Xuzhou21\\tCTCGACTTTAATTTTTTCGCTGCCCGCTTTTG\\t\\t\\t\\t\\t\\t\\t\\t\\t\\t\\t\\t\\t\\t\\t\\t\\t\\t\\t\\t\\t\\t\\t\\t\\t\\t\\t\\t\\t\\t\\t\\t\\t\\t\\t\\t\\t\\t\\n',\n",
       "       '@gb|KF522832.1|:1-189_E_coli_strain_FDA413_CRISPR2\\tCTCGACTTTAATTTTTTCGCTGCCCGCTTTTG\\t\\t\\t\\t\\t\\t\\t\\t\\t\\t\\t\\t\\t\\t\\t\\t\\t\\t\\t\\t\\t\\t\\t\\t\\t\\t\\t\\t\\t\\t\\t\\t\\t\\t\\t\\t\\t\\t\\n',\n",
       "       '@gb|KC765172.1|:108-383_E_coli_strain_PA38_CRISPR2a\\tCTCGACTTTAATTTTTTCGCTGCCCGCTTTTG\\t\\t\\t\\t\\t\\t\\t\\t\\t\\t\\t\\t\\t\\t\\t\\t\\t\\t\\t\\t\\t\\t\\t\\t\\t\\t\\t\\t\\t\\t\\t\\t\\t\\t\\t\\t\\t\\t\\n',\n",
       "       '@gb|JF496155.1|:434-622_E_coli_strain_R192_CRISPR2\\tGAAAAATGCATACGATTCGAGCACCAGTTTGG\\t\\t\\t\\t\\t\\t\\t\\t\\t\\t\\t\\t\\t\\t\\t\\t\\t\\t\\t\\t\\t\\t\\t\\t\\t\\t\\t\\t\\t\\t\\t\\t\\t\\t\\t\\t\\t\\t\\n',\n",
       "       '@gb|GU260799.1|:1-150_E_coli_strain_ECOR13_CRISPR2.1\\tATATCCTCCAGAACACGCGCCTCATTTCGACT\\t\\t\\t\\t\\t\\t\\t\\t\\t\\t\\t\\t\\t\\t\\t\\t\\t\\t\\t\\t\\t\\t\\t\\t\\t\\t\\t\\t\\t\\t\\t\\t\\t\\t\\t\\t\\t\\t\\n',\n",
       "       '@gi|745369752:3262788-3263075_E_coli_HUSEC2011\\tCTGAAACCAGTTGGCTCGTTGTTCTTCTTTGG\\t\\t\\t\\t\\t\\t\\t\\t\\t\\t\\t\\t\\t\\t\\t\\t\\t\\t\\t\\t\\t\\t\\t\\t\\t\\t\\t\\t\\t\\t\\t\\t\\t\\t\\t\\t\\t\\t\\n',\n",
       "       '@gb|JF496136.1|:494-682_E_coli_strain_R42_CRISPR2\\tATATACAGCAAACCTTCAGAATGCATTCCGGG\\t\\t\\t\\t\\t\\t\\t\\t\\t\\t\\t\\t\\t\\t\\t\\t\\t\\t\\t\\t\\t\\t\\t\\t\\t\\t\\t\\t\\t\\t\\t\\t\\t\\t\\t\\t\\t\\t\\n',\n",
       "       '@gb|KC765213.1|:1-244_E_coli_strain_07E02096_CRISPR2a\\tGCCTGACATTGCAGACGTTACAAATTGAGAGG\\t\\t\\t\\t\\t\\t\\t\\t\\t\\t\\t\\t\\t\\t\\t\\t\\t\\t\\t\\t\\t\\t\\t\\t\\t\\t\\t\\t\\t\\t\\t\\t\\t\\t\\t\\t\\t\\t\\n',\n",
       "       '@gb|FJ232369.1|:1-90_E_coli_strain_ECOR69_CRISPR\\tGAAACGCCGGTTGAACGTCGTGCAAAAATCAT\\t\\t\\t\\t\\t\\t\\t\\t\\t\\t\\t\\t\\t\\t\\t\\t\\t\\t\\t\\t\\t\\t\\t\\t\\t\\t\\t\\t\\t\\t\\t\\t\\t\\t\\t\\t\\t\\t\\n',\n",
       "       '@gi|47118301:3624027-3624315_E_coli_O157:H7_str._Sakai\\tCTCGACTTTAATTTTTTCGCTGCCCGCTTTTG\\t\\t\\t\\t\\t\\t\\t\\t\\t\\t\\t\\t\\t\\t\\t\\t\\t\\t\\t\\t\\t\\t\\t\\t\\t\\t\\t\\t\\t\\t\\t\\t\\t\\t\\t\\t\\t\\t\\n',\n",
       "       '@gb|KC765163.1|:60-290_E_coli_strain_FRIK2000_CRISPR2a\\tCTCGACTTTAATTTTTTCGCTGCCCGCTTTTG\\t\\t\\t\\t\\t\\t\\t\\t\\t\\t\\t\\t\\t\\t\\t\\t\\t\\t\\t\\t\\t\\t\\t\\t\\t\\t\\t\\t\\t\\t\\t\\t\\t\\t\\t\\t\\t\\t\\n',\n",
       "       '@gb|KC765184.1|:97-362_E_coli_strain_TW11052_CRISPR2a\\tCTCGACTTTAATTTTTTCGCTGCCCGCTTTTG\\t\\t\\t\\t\\t\\t\\t\\t\\t\\t\\t\\t\\t\\t\\t\\t\\t\\t\\t\\t\\t\\t\\t\\t\\t\\t\\t\\t\\t\\t\\t\\t\\t\\t\\t\\t\\t\\t\\n',\n",
       "       '@gb|FJ232367.1|:1-90_E_coli_strain_ECOR43_CRISPR\\tCACATTCAACAGGTTAAGGTAACCGATTTGAC\\t\\t\\t\\t\\t\\t\\t\\t\\t\\t\\t\\t\\t\\t\\t\\t\\t\\t\\t\\t\\t\\t\\t\\t\\t\\t\\t\\t\\t\\t\\t\\t\\t\\t\\t\\t\\t\\t\\n',\n",
       "       '@gb|KC765366.1|:1-220_E_coli_strain_1-0510_CRISPR2a\\tATATCCGGTTTTTGCTGGTGGGCCGCGCCGTT\\t\\t\\t\\t\\t\\t\\t\\t\\t\\t\\t\\t\\t\\t\\t\\t\\t\\t\\t\\t\\t\\t\\t\\t\\t\\t\\t\\t\\t\\t\\t\\t\\t\\t\\t\\t\\t\\t\\n',\n",
       "       '@gb|CP009072.1|:2006253-2006481_E_coli_ATCC_25922\\tATATCCGGTTTTTGCTGGTGGGCCGCGCCGTT\\t\\t\\t\\t\\t\\t\\t\\t\\t\\t\\t\\t\\t\\t\\t\\t\\t\\t\\t\\t\\t\\t\\t\\t\\t\\t\\t\\t\\t\\t\\t\\t\\t\\t\\t\\t\\t\\t\\n',\n",
       "       '@gb|KC765361.1|:3-264_E_coli_strain_0-1077_CRISPR2a\\tAACATCGGAAACGGCTTCGCGGCGGCGGCGTC\\t\\t\\t\\t\\t\\t\\t\\t\\t\\t\\t\\t\\t\\t\\t\\t\\t\\t\\t\\t\\t\\t\\t\\t\\t\\t\\t\\t\\t\\t\\t\\t\\t\\t\\t\\t\\t\\t\\n',\n",
       "       '@gb|AE005174.2|:3691325-3691613_E_coli_O157:H7_EDL933\\tCTCGACTTTAATTTTTTCGCTGCCCGCTTTTG\\t\\t\\t\\t\\t\\t\\t\\t\\t\\t\\t\\t\\t\\t\\t\\t\\t\\t\\t\\t\\t\\t\\t\\t\\t\\t\\t\\t\\t\\t\\t\\t\\t\\t\\t\\t\\t\\t\\n',\n",
       "       '@gb|CP000243.1|:3056145-3056373_E_coli_UTI89\\tATATCCGGTTTTTGCTGGTGGGCCGCGCCGTT\\t\\t\\t\\t\\t\\t\\t\\t\\t\\t\\t\\t\\t\\t\\t\\t\\t\\t\\t\\t\\t\\t\\t\\t\\t\\t\\t\\t\\t\\t\\t\\t\\t\\t\\t\\t\\t\\t\\n',\n",
       "       '@gi|544340954:3098381-3098609_E_coli_PMV-1_main\\tATATCCGGTTTTTGCTGGTGGGCCGCGCCGTT\\t\\t\\t\\t\\t\\t\\t\\t\\t\\t\\t\\t\\t\\t\\t\\t\\t\\t\\t\\t\\t\\t\\t\\t\\t\\t\\t\\t\\t\\t\\t\\t\\t\\t\\t\\t\\t\\t\\n',\n",
       "       '@gi|675819895:114867-115093_E_coli_FHI63_scaffold-40_contig-3.0_1_403682\\tTAAGCGATATCCATCATCGCATCCAGTGCGCC\\t\\t\\t\\t\\t\\t\\t\\t\\t\\t\\t\\t\\t\\t\\t\\t\\t\\t\\t\\t\\t\\t\\t\\t\\t\\t\\t\\t\\t\\t\\t\\t\\t\\t\\t\\t\\t\\t\\n',\n",
       "       '@gb|CP003289.1|:1188783-1189070_E_coli_O104:H4_str._2011C-3493\\tCTGAAACCAGTTGGCTCGTTGTTCTTCTTTGG\\t\\t\\t\\t\\t\\t\\t\\t\\t\\t\\t\\t\\t\\t\\t\\t\\t\\t\\t\\t\\t\\t\\t\\t\\t\\t\\t\\t\\t\\t\\t\\t\\t\\t\\t\\t\\t\\t\\n',\n",
       "       '@gb|AE014075.1|:3177170-3177398_E_coli_CFT073\\tATATCCGGTTTTTGCTGGTGGGCCGCGCCGTT\\t\\t\\t\\t\\t\\t\\t\\t\\t\\t\\t\\t\\t\\t\\t\\t\\t\\t\\t\\t\\t\\t\\t\\t\\t\\t\\t\\t\\t\\t\\t\\t\\t\\t\\t\\t\\t\\t\\n',\n",
       "       '@gb|JF495834.1|:1-150_E_coli_strain_641_CRISPR1\\tACGCGCGTACCGGATCGCGGACAACAAATTGC\\t\\t\\t\\t\\t\\t\\t\\t\\t\\t\\t\\t\\t\\t\\t\\t\\t\\t\\t\\t\\t\\t\\t\\t\\t\\t\\t\\t\\t\\t\\t\\t\\t\\t\\t\\t\\t\\t\\n',\n",
       "       '@gb|CP000468.1|:3070651-3070879_E_coli_APEC_O1\\tATATCCGGTTTTTGCTGGTGGGCCGCGCCGTT\\t\\t\\t\\t\\t\\t\\t\\t\\t\\t\\t\\t\\t\\t\\t\\t\\t\\t\\t\\t\\t\\t\\t\\t\\t\\t\\t\\t\\t\\t\\t\\t\\t\\t\\t\\t\\t\\t\\n',\n",
       "       '@gb|FJ232371.1|:1-89_E_coli_strain_ECOR42_CRISPR\\tACCGCATTAATTCACGAGACGTATCGCGGAGA\\t\\t\\t\\t\\t\\t\\t\\t\\t\\t\\t\\t\\t\\t\\t\\t\\t\\t\\t\\t\\t\\t\\t\\t\\t\\t\\t\\t\\t\\t\\t\\t\\t\\t\\t\\t\\t\\t\\n',\n",
       "       \"@gb|CP002211.1|:3065722-3065950_E_coli_str._'clone_D_i2'\\tATATCCGGTTTTTGCTGGTGGGCCGCGCCGTT\\t\\t\\t\\t\\t\\t\\t\\t\\t\\t\\t\\t\\t\\t\\t\\t\\t\\t\\t\\t\\t\\t\\t\\t\\t\\t\\t\\t\\t\\t\\t\\t\\t\\t\\t\\t\\t\\t\\n\",\n",
       "       '@gb|CP012633.1|:1116476-1116704_E_coli_strain_SF-166\\tATATCCGGTTTTTGCTGGTGGGCCGCGCCGTT\\t\\t\\t\\t\\t\\t\\t\\t\\t\\t\\t\\t\\t\\t\\t\\t\\t\\t\\t\\t\\t\\t\\t\\t\\t\\t\\t\\t\\t\\t\\t\\t\\t\\t\\t\\t\\t\\t\\n',\n",
       "       \"@gb|CP002212.1|:3065722-3065950_E_coli_str._'clone_D_i14'\\tATATCCGGTTTTTGCTGGTGGGCCGCGCCGTT\\t\\t\\t\\t\\t\\t\\t\\t\\t\\t\\t\\t\\t\\t\\t\\t\\t\\t\\t\\t\\t\\t\\t\\t\\t\\t\\t\\t\\t\\t\\t\\t\\t\\t\\t\\t\\t\\t\\n\",\n",
       "       '@gb|CP012625.1|:1123215-1123443_E_coli_strain_SF-468\\tATATCCGGTTTTTGCTGGTGGGCCGCGCCGTT\\t\\t\\t\\t\\t\\t\\t\\t\\t\\t\\t\\t\\t\\t\\t\\t\\t\\t\\t\\t\\t\\t\\t\\t\\t\\t\\t\\t\\t\\t\\t\\t\\t\\t\\t\\t\\t\\t\\n',\n",
       "       '@gb|KC765170.1|:92-357_E_coli_strain_PA33_CRISPR2a\\tCTCGACTTTAATTTTTTCGCTGCCCGCTTTTG\\t\\t\\t\\t\\t\\t\\t\\t\\t\\t\\t\\t\\t\\t\\t\\t\\t\\t\\t\\t\\t\\t\\t\\t\\t\\t\\t\\t\\t\\t\\t\\t\\t\\t\\t\\t\\t\\t\\n',\n",
       "       '@gb|CP005930.1|:959680-959908_E_coli_APEC_IMT5155\\tATATCCGGTTTTTGCTGGTGGGCCGCGCCGTT\\t\\t\\t\\t\\t\\t\\t\\t\\t\\t\\t\\t\\t\\t\\t\\t\\t\\t\\t\\t\\t\\t\\t\\t\\t\\t\\t\\t\\t\\t\\t\\t\\t\\t\\t\\t\\t\\t\\n',\n",
       "       '@gb|KC765164.1|:97-372_E_coli_strain_PA2_CRISPR2a\\tCTCGACTTTAATTTTTTCGCTGCCCGCTTTTG\\t\\t\\t\\t\\t\\t\\t\\t\\t\\t\\t\\t\\t\\t\\t\\t\\t\\t\\t\\t\\t\\t\\t\\t\\t\\t\\t\\t\\t\\t\\t\\t\\t\\t\\t\\t\\t\\t\\n',\n",
       "       '@gb|KC765179.1|:93-356_E_coli_strain_TW08612_CRISPR2a\\tCTCGACTTTAATTTTTTCGCTGCCCGCTTTTG\\t\\t\\t\\t\\t\\t\\t\\t\\t\\t\\t\\t\\t\\t\\t\\t\\t\\t\\t\\t\\t\\t\\t\\t\\t\\t\\t\\t\\t\\t\\t\\t\\t\\t\\t\\t\\t\\t\\n',\n",
       "       '@gb|GU260853.1|:1-90_E_coli_strain_ECOR24_CRISPR2.3\\tTGCCCCAACCAGAAATAAATTTAGGGGATCTA\\t\\t\\t\\t\\t\\t\\t\\t\\t\\t\\t\\t\\t\\t\\t\\t\\t\\t\\t\\t\\t\\t\\t\\t\\t\\t\\t\\t\\t\\t\\t\\t\\t\\t\\t\\t\\t\\t\\n',\n",
       "       '@gb|FJ232375.1|:1-90_E_coli_strain_ECOR16_CRISPR\\tAAGACAACGCGTTCGGATGTTTTCTGGCTGGG\\t\\t\\t\\t\\t\\t\\t\\t\\t\\t\\t\\t\\t\\t\\t\\t\\t\\t\\t\\t\\t\\t\\t\\t\\t\\t\\t\\t\\t\\t\\t\\t\\t\\t\\t\\t\\t\\t\\n',\n",
       "       '@gb|KC765208.1|:1-279_E_coli_strain_07E01422_CRISPR2a\\tGCCTGACATTGCAGACGTTACAAATTGAGAGG\\t\\t\\t\\t\\t\\t\\t\\t\\t\\t\\t\\t\\t\\t\\t\\t\\t\\t\\t\\t\\t\\t\\t\\t\\t\\t\\t\\t\\t\\t\\t\\t\\t\\t\\t\\t\\t\\t\\n',\n",
       "       '@gb|KC765390.1|:97-323_E_coli_strain_96-0876_CRISPR2a\\tTACGTGAAGAATATTTGCAACACCCGCAAGAA\\t\\t\\t\\t\\t\\t\\t\\t\\t\\t\\t\\t\\t\\t\\t\\t\\t\\t\\t\\t\\t\\t\\t\\t\\t\\t\\t\\t\\t\\t\\t\\t\\t\\t\\t\\t\\t\\t\\n',\n",
       "       '@gi|675817924:258163-258389_E_coli_StOlav104_scaffold-35\\tTAAGCGATATCCATCATCGCATCCAGTGCGCC\\t\\t\\t\\t\\t\\t\\t\\t\\t\\t\\t\\t\\t\\t\\t\\t\\t\\t\\t\\t\\t\\t\\t\\t\\t\\t\\t\\t\\t\\t\\t\\t\\t\\t\\t\\t\\t\\t\\n',\n",
       "       '@gb|KF523230.1|:47-273_E_coli_strain_UMD137_CRISPR1\\tTAAGTGATATCCATCATCGCATCCAGTGCGCC\\t\\t\\t\\t\\t\\t\\t\\t\\t\\t\\t\\t\\t\\t\\t\\t\\t\\t\\t\\t\\t\\t\\t\\t\\t\\t\\t\\t\\t\\t\\t\\t\\t\\t\\t\\t\\t\\t\\n',\n",
       "       '@gi|222031834:2879932-2880160_E_coli_LF82\\tATATCCGGTTTTTGCTGGTGGGCCGCGCCGTT\\t\\t\\t\\t\\t\\t\\t\\t\\t\\t\\t\\t\\t\\t\\t\\t\\t\\t\\t\\t\\t\\t\\t\\t\\t\\t\\t\\t\\t\\t\\t\\t\\t\\t\\t\\t\\t\\t\\n',\n",
       "       '@gb|CP012635.1|:1105816-1106044_E_coli_strain_SF-088\\tATATCCGGTTTTTGCTGGTGGGCCGCGCCGTT\\t\\t\\t\\t\\t\\t\\t\\t\\t\\t\\t\\t\\t\\t\\t\\t\\t\\t\\t\\t\\t\\t\\t\\t\\t\\t\\t\\t\\t\\t\\t\\t\\t\\t\\t\\t\\t\\t\\n',\n",
       "       '@gb|CP014314.1|:286752-287040_E_coli_strain_JEONG-1266\\tCTCGACTTTAATTTTTTCGCTGCCCGCTTTTG\\t\\t\\t\\t\\t\\t\\t\\t\\t\\t\\t\\t\\t\\t\\t\\t\\t\\t\\t\\t\\t\\t\\t\\t\\t\\t\\t\\t\\t\\t\\t\\t\\t\\t\\t\\t\\t\\t\\n',\n",
       "       '@gb|FJ232366.1|:1-90_E_coli_strain_ECOR43_CRISPR\\tATCGTTCTTGATGCCATGGTGGCGTGTAAGCC\\t\\t\\t\\t\\t\\t\\t\\t\\t\\t\\t\\t\\t\\t\\t\\t\\t\\t\\t\\t\\t\\t\\t\\t\\t\\t\\t\\t\\t\\t\\t\\t\\t\\t\\t\\t\\t\\t\\n',\n",
       "       '@gb|KC765398.1|:1-262_E_coli_strain_96-1535_CRISPR2a\\tAACATCGGAAACGGCTTCGCGGCGGCGGCGTC\\t\\t\\t\\t\\t\\t\\t\\t\\t\\t\\t\\t\\t\\t\\t\\t\\t\\t\\t\\t\\t\\t\\t\\t\\t\\t\\t\\t\\t\\t\\t\\t\\t\\t\\t\\t\\t\\t\\n',\n",
       "       '@gb|KC765166.1|:95-358_E_coli_strain_PA7_CRISPR2a\\tCTCGACTTTAATTTTTTCGCTGCCCGCTTTTG\\t\\t\\t\\t\\t\\t\\t\\t\\t\\t\\t\\t\\t\\t\\t\\t\\t\\t\\t\\t\\t\\t\\t\\t\\t\\t\\t\\t\\t\\t\\t\\t\\t\\t\\t\\t\\t\\t\\n',\n",
       "       '@gb|CP001164.1|:3728424-3728712_E_coli_O157:H7_str._EC4115\\tCTCGACTTTAATTTTTTCGCTGCCCGCTTTTG\\t\\t\\t\\t\\t\\t\\t\\t\\t\\t\\t\\t\\t\\t\\t\\t\\t\\t\\t\\t\\t\\t\\t\\t\\t\\t\\t\\t\\t\\t\\t\\t\\t\\t\\t\\t\\t\\t\\n',\n",
       "       '@gb|CP001969.1|:3209203-3209431_E_coli_IHE3034\\tATATCCGGTTTTTGCTGGTGGGCCGCGCCGTT\\t\\t\\t\\t\\t\\t\\t\\t\\t\\t\\t\\t\\t\\t\\t\\t\\t\\t\\t\\t\\t\\t\\t\\t\\t\\t\\t\\t\\t\\t\\t\\t\\t\\t\\t\\t\\t\\t\\n',\n",
       "       '@gi|568397660|gb|KF523230.1|_E_coli_strain_UMD137_CRISPR1\\tTAAGTGATATCCATCATCGCATCCAGTGCGCC\\t\\t\\t\\t\\t\\t\\t\\t\\t\\t\\t\\t\\t\\t\\t\\t\\t\\t\\t\\t\\t\\t\\t\\t\\t\\t\\t\\t\\t\\t\\t\\t\\t\\t\\t\\t\\t\\t\\n',\n",
       "       '@gi|528889775|gb|KC765636.1|_E_coli_strain_96-0611_CRISPR1\\tAAGCAGTTAGCAAAAAAACAGCGAATTGAAAA\\t\\t\\t\\t\\t\\t\\t\\t\\t\\t\\t\\t\\t\\t\\t\\t\\t\\t\\t\\t\\t\\t\\t\\t\\t\\t\\t\\t\\t\\t\\t\\t\\t\\t\\t\\t\\t\\t\\n',\n",
       "       '@gi|329665267|gb|JF495882.1|_E_coli_strain_IAI21_CRISPR1\\tACATGAATGTCGGTTCAGACCGTGTTTTTACC\\t\\t\\t\\t\\t\\t\\t\\t\\t\\t\\t\\t\\t\\t\\t\\t\\t\\t\\t\\t\\t\\t\\t\\t\\t\\t\\t\\t\\t\\t\\t\\t\\t\\t\\t\\t\\t\\t\\n',\n",
       "       '@gi|329665219|gb|JF495834.1|_E_coli_strain_641_CRISPR1\\tACGCGCGTACCGGATCGCGGACAACAAATTGC\\t\\t\\t\\t\\t\\t\\t\\t\\t\\t\\t\\t\\t\\t\\t\\t\\t\\t\\t\\t\\t\\t\\t\\t\\t\\t\\t\\t\\t\\t\\t\\t\\t\\t\\t\\t\\t\\t\\n',\n",
       "       '@gi|568397289|gb|KF522859.1|_E_coli_strain_95.3322_CRISPR2\\tATATCCGGTTTTTGCTGGTGGGCCGCGCCGTT\\t\\t\\t\\t\\t\\t\\t\\t\\t\\t\\t\\t\\t\\t\\t\\t\\t\\t\\t\\t\\t\\t\\t\\t\\t\\t\\t\\t\\t\\t\\t\\t\\t\\t\\t\\t\\t\\t\\n',\n",
       "       '@gi|329665579|gb|JF496195.1|_E_coli_strain_R436_CRISPR2\\tATATCCGGTTTTTGCTGGTGGGCCGCGCCGTT\\t\\t\\t\\t\\t\\t\\t\\t\\t\\t\\t\\t\\t\\t\\t\\t\\t\\t\\t\\t\\t\\t\\t\\t\\t\\t\\t\\t\\t\\t\\t\\t\\t\\t\\t\\t\\t\\t\\n',\n",
       "       '@gi|329665571|gb|JF496187.1|_E_coli_strain_R402_CRISPR2\\tATATCCGGTTTTTGCTGGTGGGCCGCGCCGTT\\t\\t\\t\\t\\t\\t\\t\\t\\t\\t\\t\\t\\t\\t\\t\\t\\t\\t\\t\\t\\t\\t\\t\\t\\t\\t\\t\\t\\t\\t\\t\\t\\t\\t\\t\\t\\t\\t\\n',\n",
       "       '@gi|329665564|gb|JF496180.1|_E_coli_strain_R370_CRISPR2\\tATATCCGGTTTTTGCTGGTGGGCCGCGCCGTT\\t\\t\\t\\t\\t\\t\\t\\t\\t\\t\\t\\t\\t\\t\\t\\t\\t\\t\\t\\t\\t\\t\\t\\t\\t\\t\\t\\t\\t\\t\\t\\t\\t\\t\\t\\t\\t\\t\\n',\n",
       "       '@gi|329665560|gb|JF496176.1|_E_coli_strain_R355_CRISPR2\\tATATCCGGTTTTTGCTGGTGGGCCGCGCCGTT\\t\\t\\t\\t\\t\\t\\t\\t\\t\\t\\t\\t\\t\\t\\t\\t\\t\\t\\t\\t\\t\\t\\t\\t\\t\\t\\t\\t\\t\\t\\t\\t\\t\\t\\t\\t\\t\\t\\n',\n",
       "       '@gi|329665556|gb|JF496172.1|_E_coli_strain_R288_CRISPR2\\tATATCCGGTTTTTGCTGGTGGGCCGCGCCGTT\\t\\t\\t\\t\\t\\t\\t\\t\\t\\t\\t\\t\\t\\t\\t\\t\\t\\t\\t\\t\\t\\t\\t\\t\\t\\t\\t\\t\\t\\t\\t\\t\\t\\t\\t\\t\\t\\t\\n',\n",
       "       '@gi|329665541|gb|JF496157.1|_E_coli_strain_R199_CRISPR2\\tATATCCGGTTTTTGCTGGTGGGCCGCGCCGTT\\t\\t\\t\\t\\t\\t\\t\\t\\t\\t\\t\\t\\t\\t\\t\\t\\t\\t\\t\\t\\t\\t\\t\\t\\t\\t\\t\\t\\t\\t\\t\\t\\t\\t\\t\\t\\t\\t\\n',\n",
       "       '@gi|329665533|gb|JF496149.1|_E_coli_strain_R105_CRISPR2\\tATATCCGGTTTTTGCTGGTGGGCCGCGCCGTT\\t\\t\\t\\t\\t\\t\\t\\t\\t\\t\\t\\t\\t\\t\\t\\t\\t\\t\\t\\t\\t\\t\\t\\t\\t\\t\\t\\t\\t\\t\\t\\t\\t\\t\\t\\t\\t\\t\\n',\n",
       "       '@gi|329665528|gb|JF496144.1|_E_coli_strain_R75_CRISPR2\\tATATCCGGTTTTTGCTGGTGGGCCGCGCCGTT\\t\\t\\t\\t\\t\\t\\t\\t\\t\\t\\t\\t\\t\\t\\t\\t\\t\\t\\t\\t\\t\\t\\t\\t\\t\\t\\t\\t\\t\\t\\t\\t\\t\\t\\t\\t\\t\\t\\n',\n",
       "       '@gi|329665524|gb|JF496140.1|_E_coli_strain_R56_CRISPR2\\tATATCCGGTTTTTGCTGGTGGGCCGCGCCGTT\\t\\t\\t\\t\\t\\t\\t\\t\\t\\t\\t\\t\\t\\t\\t\\t\\t\\t\\t\\t\\t\\t\\t\\t\\t\\t\\t\\t\\t\\t\\t\\t\\t\\t\\t\\t\\t\\t\\n',\n",
       "       '@gi|329665518|gb|JF496134.1|_E_coli_strain_IAI76_CRISPR2\\tATATCCGGTTTTTGCTGGTGGGCCGCGCCGTT\\t\\t\\t\\t\\t\\t\\t\\t\\t\\t\\t\\t\\t\\t\\t\\t\\t\\t\\t\\t\\t\\t\\t\\t\\t\\t\\t\\t\\t\\t\\t\\t\\t\\t\\t\\t\\t\\t\\n',\n",
       "       '@gi|329665517|gb|JF496133.1|_E_coli_strain_IAI74_CRISPR2\\tATATCCGGTTTTTGCTGGTGGGCCGCGCCGTT\\t\\t\\t\\t\\t\\t\\t\\t\\t\\t\\t\\t\\t\\t\\t\\t\\t\\t\\t\\t\\t\\t\\t\\t\\t\\t\\t\\t\\t\\t\\t\\t\\t\\t\\t\\t\\t\\t\\n',\n",
       "       '@gi|329665516|gb|JF496132.1|_E_coli_strain_IAI72_CRISPR2\\tATATCCGGTTTTTGCTGGTGGGCCGCGCCGTT\\t\\t\\t\\t\\t\\t\\t\\t\\t\\t\\t\\t\\t\\t\\t\\t\\t\\t\\t\\t\\t\\t\\t\\t\\t\\t\\t\\t\\t\\t\\t\\t\\t\\t\\t\\t\\t\\t\\n',\n",
       "       '@gi|329665515|gb|JF496131.1|_E_coli_strain_IAI61_CRISPR2\\tATATCCGGTTTTTGCTGGTGGGCCGCGCCGTT\\t\\t\\t\\t\\t\\t\\t\\t\\t\\t\\t\\t\\t\\t\\t\\t\\t\\t\\t\\t\\t\\t\\t\\t\\t\\t\\t\\t\\t\\t\\t\\t\\t\\t\\t\\t\\t\\t\\n',\n",
       "       '@gi|329665514|gb|JF496130.1|_E_coli_strain_IAI60_CRISPR2\\tATATCCGGTTTTTGCTGGTGGGCCGCGCCGTT\\t\\t\\t\\t\\t\\t\\t\\t\\t\\t\\t\\t\\t\\t\\t\\t\\t\\t\\t\\t\\t\\t\\t\\t\\t\\t\\t\\t\\t\\t\\t\\t\\t\\t\\t\\t\\t\\t\\n',\n",
       "       '@gi|329665513|gb|JF496129.1|_E_coli_strain_IAI59_CRISPR2\\tATATCCGGTTTTTGCTGGTGGGCCGCGCCGTT\\t\\t\\t\\t\\t\\t\\t\\t\\t\\t\\t\\t\\t\\t\\t\\t\\t\\t\\t\\t\\t\\t\\t\\t\\t\\t\\t\\t\\t\\t\\t\\t\\t\\t\\t\\t\\t\\t\\n',\n",
       "       '@gi|329665511|gb|JF496127.1|_E_coli_strain_IAI56_CRISPR2\\tATATCCGGTTTTTGCTGGTGGGCCGCGCCGTT\\t\\t\\t\\t\\t\\t\\t\\t\\t\\t\\t\\t\\t\\t\\t\\t\\t\\t\\t\\t\\t\\t\\t\\t\\t\\t\\t\\t\\t\\t\\t\\t\\t\\t\\t\\t\\t\\t\\n',\n",
       "       '@gi|329665509|gb|JF496125.1|_E_coli_strain_IAI49_CRISPR2\\tATATCCGGTTTTTGCTGGTGGGCCGCGCCGTT\\t\\t\\t\\t\\t\\t\\t\\t\\t\\t\\t\\t\\t\\t\\t\\t\\t\\t\\t\\t\\t\\t\\t\\t\\t\\t\\t\\t\\t\\t\\t\\t\\t\\t\\t\\t\\t\\t\\n',\n",
       "       '@gi|329665508|gb|JF496124.1|_E_coli_strain_IAI47_CRISPR2\\tATATCCGGTTTTTGCTGGTGGGCCGCGCCGTT\\t\\t\\t\\t\\t\\t\\t\\t\\t\\t\\t\\t\\t\\t\\t\\t\\t\\t\\t\\t\\t\\t\\t\\t\\t\\t\\t\\t\\t\\t\\t\\t\\t\\t\\t\\t\\t\\t\\n',\n",
       "       '@gi|329665507|gb|JF496123.1|_E_coli_strain_IAI46_CRISPR2\\tATATCCGGTTTTTGCTGGTGGGCCGCGCCGTT\\t\\t\\t\\t\\t\\t\\t\\t\\t\\t\\t\\t\\t\\t\\t\\t\\t\\t\\t\\t\\t\\t\\t\\t\\t\\t\\t\\t\\t\\t\\t\\t\\t\\t\\t\\t\\t\\t\\n',\n",
       "       '@gi|329665506|gb|JF496122.1|_E_coli_strain_IAI38_CRISPR2\\tATATCCGGTTTTTGCTGGTGGGCCGCGCCGTT\\t\\t\\t\\t\\t\\t\\t\\t\\t\\t\\t\\t\\t\\t\\t\\t\\t\\t\\t\\t\\t\\t\\t\\t\\t\\t\\t\\t\\t\\t\\t\\t\\t\\t\\t\\t\\t\\t\\n',\n",
       "       '@gi|329665493|gb|JF496109.1|_E_coli_strain_B9J2_CRISPR2\\tATATCCGGTTTTTGCTGGTGGGCCGCGCCGTT\\t\\t\\t\\t\\t\\t\\t\\t\\t\\t\\t\\t\\t\\t\\t\\t\\t\\t\\t\\t\\t\\t\\t\\t\\t\\t\\t\\t\\t\\t\\t\\t\\t\\t\\t\\t\\t\\t\\n',\n",
       "       '@gi|329665487|gb|JF496103.1|_E_coli_strain_B5J14_CRISPR2\\tATATCCGGTTTTTGCTGGTGGGCCGCGCCGTT\\t\\t\\t\\t\\t\\t\\t\\t\\t\\t\\t\\t\\t\\t\\t\\t\\t\\t\\t\\t\\t\\t\\t\\t\\t\\t\\t\\t\\t\\t\\t\\t\\t\\t\\t\\t\\t\\t\\n',\n",
       "       '@gi|329665485|gb|JF496101.1|_E_coli_strain_B4J4_CRISPR2\\tATATCCGGTTTTTGCTGGTGGGCCGCGCCGTT\\t\\t\\t\\t\\t\\t\\t\\t\\t\\t\\t\\t\\t\\t\\t\\t\\t\\t\\t\\t\\t\\t\\t\\t\\t\\t\\t\\t\\t\\t\\t\\t\\t\\t\\t\\t\\t\\t\\n',\n",
       "       '@gi|329665484|gb|JF496100.1|_E_coli_strain_B4A1_CRISPR2\\tATATCCGGTTTTTGCTGGTGGGCCGCGCCGTT\\t\\t\\t\\t\\t\\t\\t\\t\\t\\t\\t\\t\\t\\t\\t\\t\\t\\t\\t\\t\\t\\t\\t\\t\\t\\t\\t\\t\\t\\t\\t\\t\\t\\t\\t\\t\\t\\t\\n',\n",
       "       '@gi|329665483|gb|JF496099.1|_E_coli_strain_B3J4_CRISPR2\\tATATCCGGTTTTTGCTGGTGGGCCGCGCCGTT\\t\\t\\t\\t\\t\\t\\t\\t\\t\\t\\t\\t\\t\\t\\t\\t\\t\\t\\t\\t\\t\\t\\t\\t\\t\\t\\t\\t\\t\\t\\t\\t\\t\\t\\t\\t\\t\\t\\n',\n",
       "       '@gi|329665482|gb|JF496098.1|_E_coli_strain_B3A1_CRISPR2\\tATATCCGGTTTTTGCTGGTGGGCCGCGCCGTT\\t\\t\\t\\t\\t\\t\\t\\t\\t\\t\\t\\t\\t\\t\\t\\t\\t\\t\\t\\t\\t\\t\\t\\t\\t\\t\\t\\t\\t\\t\\t\\t\\t\\t\\t\\t\\t\\t\\n',\n",
       "       '@gi|329665476|gb|JF496091.1|_E_coli_strain_B13J10_CRISPR2\\tATATCCGGTTTTTGCTGGTGGGCCGCGCCGTT\\t\\t\\t\\t\\t\\t\\t\\t\\t\\t\\t\\t\\t\\t\\t\\t\\t\\t\\t\\t\\t\\t\\t\\t\\t\\t\\t\\t\\t\\t\\t\\t\\t\\t\\t\\t\\t\\t\\n',\n",
       "       '@gi|329665474|gb|JF496089.1|_E_coli_strain_B12I31_CRISPR2\\tATATCCGGTTTTTGCTGGTGGGCCGCGCCGTT\\t\\t\\t\\t\\t\\t\\t\\t\\t\\t\\t\\t\\t\\t\\t\\t\\t\\t\\t\\t\\t\\t\\t\\t\\t\\t\\t\\t\\t\\t\\t\\t\\t\\t\\t\\t\\t\\t\\n',\n",
       "       '@gi|329665472|gb|JF496087.1|_E_coli_strain_B11J22_CRISPR2\\tATATCCGGTTTTTGCTGGTGGGCCGCGCCGTT\\t\\t\\t\\t\\t\\t\\t\\t\\t\\t\\t\\t\\t\\t\\t\\t\\t\\t\\t\\t\\t\\t\\t\\t\\t\\t\\t\\t\\t\\t\\t\\t\\t\\t\\t\\t\\t\\t\\n',\n",
       "       '@gi|329665471|gb|JF496086.1|_E_coli_strain_B11F16_CRISPR2\\tATATCCGGTTTTTGCTGGTGGGCCGCGCCGTT\\t\\t\\t\\t\\t\\t\\t\\t\\t\\t\\t\\t\\t\\t\\t\\t\\t\\t\\t\\t\\t\\t\\t\\t\\t\\t\\t\\t\\t\\t\\t\\t\\t\\t\\t\\t\\t\\t\\n',\n",
       "       '@gi|329665468|gb|JF496083.1|_E_coli_strain_727_CRISPR2\\tATATCCGGTTTTTGCTGGTGGGCCGCGCCGTT\\t\\t\\t\\t\\t\\t\\t\\t\\t\\t\\t\\t\\t\\t\\t\\t\\t\\t\\t\\t\\t\\t\\t\\t\\t\\t\\t\\t\\t\\t\\t\\t\\t\\t\\t\\t\\t\\t\\n',\n",
       "       '@gi|329665462|gb|JF496077.1|_E_coli_strain_712_CRISPR2\\tATATCCGGTTTTTGCTGGTGGGCCGCGCCGTT\\t\\t\\t\\t\\t\\t\\t\\t\\t\\t\\t\\t\\t\\t\\t\\t\\t\\t\\t\\t\\t\\t\\t\\t\\t\\t\\t\\t\\t\\t\\t\\t\\t\\t\\t\\t\\t\\t\\n',\n",
       "       '@gi|329665450|gb|JF496065.1|_E_coli_strain_661_CRISPR2\\tATATCCGGTTTTTGCTGGTGGGCCGCGCCGTT\\t\\t\\t\\t\\t\\t\\t\\t\\t\\t\\t\\t\\t\\t\\t\\t\\t\\t\\t\\t\\t\\t\\t\\t\\t\\t\\t\\t\\t\\t\\t\\t\\t\\t\\t\\t\\t\\t\\n',\n",
       "       '@gi|329665445|gb|JF496060.1|_E_coli_strain_653_CRISPR2\\tATATCCGGTTTTTGCTGGTGGGCCGCGCCGTT\\t\\t\\t\\t\\t\\t\\t\\t\\t\\t\\t\\t\\t\\t\\t\\t\\t\\t\\t\\t\\t\\t\\t\\t\\t\\t\\t\\t\\t\\t\\t\\t\\t\\t\\t\\t\\t\\t\\n',\n",
       "       '@gi|329665444|gb|JF496059.1|_E_coli_strain_652_CRISPR2\\tATATCCGGTTTTTGCTGGTGGGCCGCGCCGTT\\t\\t\\t\\t\\t\\t\\t\\t\\t\\t\\t\\t\\t\\t\\t\\t\\t\\t\\t\\t\\t\\t\\t\\t\\t\\t\\t\\t\\t\\t\\t\\t\\t\\t\\t\\t\\t\\t\\n',\n",
       "       '@gi|329665426|gb|JF496041.1|_E_coli_strain_556_CRISPR2\\tATATCCGGTTTTTGCTGGTGGGCCGCGCCGTT\\t\\t\\t\\t\\t\\t\\t\\t\\t\\t\\t\\t\\t\\t\\t\\t\\t\\t\\t\\t\\t\\t\\t\\t\\t\\t\\t\\t\\t\\t\\t\\t\\t\\t\\t\\t\\t\\t\\n',\n",
       "       '@gi|329665425|gb|JF496040.1|_E_coli_strain_552_CRISPR2\\tATATCCGGTTTTTGCTGGTGGGCCGCGCCGTT\\t\\t\\t\\t\\t\\t\\t\\t\\t\\t\\t\\t\\t\\t\\t\\t\\t\\t\\t\\t\\t\\t\\t\\t\\t\\t\\t\\t\\t\\t\\t\\t\\t\\t\\t\\t\\t\\t\\n',\n",
       "       '@gi|329665417|gb|JF496032.1|_E_coli_strain_543_CRISPR2\\tATATCCGGTTTTTGCTGGTGGGCCGCGCCGTT\\t\\t\\t\\t\\t\\t\\t\\t\\t\\t\\t\\t\\t\\t\\t\\t\\t\\t\\t\\t\\t\\t\\t\\t\\t\\t\\t\\t\\t\\t\\t\\t\\t\\t\\t\\t\\t\\t\\n',\n",
       "       '@gi|329665412|gb|JF496027.1|_E_coli_strain_538_CRISPR2\\tATATCCGGTTTTTGCTGGTGGGCCGCGCCGTT\\t\\t\\t\\t\\t\\t\\t\\t\\t\\t\\t\\t\\t\\t\\t\\t\\t\\t\\t\\t\\t\\t\\t\\t\\t\\t\\t\\t\\t\\t\\t\\t\\t\\t\\t\\t\\t\\t\\n',\n",
       "       '@gi|329665411|gb|JF496026.1|_E_coli_strain_537_CRISPR2\\tATATCCGGTTTTTGCTGGTGGGCCGCGCCGTT\\t\\t\\t\\t\\t\\t\\t\\t\\t\\t\\t\\t\\t\\t\\t\\t\\t\\t\\t\\t\\t\\t\\t\\t\\t\\t\\t\\t\\t\\t\\t\\t\\t\\t\\t\\t\\t\\t\\n',\n",
       "       '@gi|329665408|gb|JF496023.1|_E_coli_strain_532_CRISPR2\\tATATCCGGTTTTTGCTGGTGGGCCGCGCCGTT\\t\\t\\t\\t\\t\\t\\t\\t\\t\\t\\t\\t\\t\\t\\t\\t\\t\\t\\t\\t\\t\\t\\t\\t\\t\\t\\t\\t\\t\\t\\t\\t\\t\\t\\t\\t\\t\\t\\n',\n",
       "       '@gi|329665403|gb|JF496018.1|_E_coli_strain_525_CRISPR2\\tATATCCGGTTTTTGCTGGTGGGCCGCGCCGTT\\t\\t\\t\\t\\t\\t\\t\\t\\t\\t\\t\\t\\t\\t\\t\\t\\t\\t\\t\\t\\t\\t\\t\\t\\t\\t\\t\\t\\t\\t\\t\\t\\t\\t\\t\\t\\t\\t\\n',\n",
       "       '@gi|329665390|gb|JF496005.1|_E_coli_strain_499_CRISPR2\\tAAGTTCGACAACTTAAAAAATGATAACAAGTC\\t\\t\\t\\t\\t\\t\\t\\t\\t\\t\\t\\t\\t\\t\\t\\t\\t\\t\\t\\t\\t\\t\\t\\t\\t\\t\\t\\t\\t\\t\\t\\t\\t\\t\\t\\t\\t\\t\\n',\n",
       "       '@gi|329665389|gb|JF496004.1|_E_coli_strain_497_CRISPR2\\tATATCCGGTTTTTGCTGGTGGGCCGCGCCGTT\\t\\t\\t\\t\\t\\t\\t\\t\\t\\t\\t\\t\\t\\t\\t\\t\\t\\t\\t\\t\\t\\t\\t\\t\\t\\t\\t\\t\\t\\t\\t\\t\\t\\t\\t\\t\\t\\t\\n',\n",
       "       '@gi|329665383|gb|JF495998.1|_E_coli_strain_356_CRISPR2\\tAAGTTCGACAACTTAAAAAATGATAACAAGTC\\t\\t\\t\\t\\t\\t\\t\\t\\t\\t\\t\\t\\t\\t\\t\\t\\t\\t\\t\\t\\t\\t\\t\\t\\t\\t\\t\\t\\t\\t\\t\\t\\t\\t\\t\\t\\t\\t\\n',\n",
       "       'ECOR24-2_Escherichia_coli_isolate_ECOR24_CRISPR2\\tTGCCCCAACCAGAAATAAATTTAGGGGATCTA\\t\\t\\t\\t\\t\\t\\t\\t\\t\\t\\t\\t\\t\\t\\t\\t\\t\\t\\t\\t\\t\\t\\t\\t\\t\\t\\t\\t\\t\\t\\t\\t\\t\\t\\t\\t\\t\\t\\n',\n",
       "       'ECOR13_Escherichia_coli_isolate_ECOR13_CRISPR1\\tATATCCTCCAGAACACGCGCCTCATTTCGACT\\t\\t\\t\\t\\t\\t\\t\\t\\t\\t\\t\\t\\t\\t\\t\\t\\t\\t\\t\\t\\t\\t\\t\\t\\t\\t\\t\\t\\t\\t\\t\\t\\t\\t\\t\\t\\t\\t\\n',\n",
       "       'ECOR4_Escherichia_coli_isolate_ECOR4_CRISPR1\\tACGCATATTATCGACGACTTCTTTTGCTTTGG\\t\\t\\t\\t\\t\\t\\t\\t\\t\\t\\t\\t\\t\\t\\t\\t\\t\\t\\t\\t\\t\\t\\t\\t\\t\\t\\t\\t\\t\\t\\t\\t\\t\\t\\t\\t\\t\\t\\n',\n",
       "       'ECOR24_Escherichia_coli_isolate_ECOR24_CRISPR1\\tAATGACGCTCGAGAACGGGCACTCATCTGCGT\\t\\t\\t\\t\\t\\t\\t\\t\\t\\t\\t\\t\\t\\t\\t\\t\\t\\t\\t\\t\\t\\t\\t\\t\\t\\t\\t\\t\\t\\t\\t\\t\\t\\t\\t\\t\\t\\t\\n',\n",
       "       '@gi|568397264|gb|KF522834.1|_E_coli_strain_H56909_CRISPR2\\tCTCGACTTTAATTTTTTCGCTGCCCGCTTTTG\\t\\t\\t\\t\\t\\t\\t\\t\\t\\t\\t\\t\\t\\t\\t\\t\\t\\t\\t\\t\\t\\t\\t\\t\\t\\t\\t\\t\\t\\t\\t\\t\\t\\t\\t\\t\\t\\t\\n',\n",
       "       '@gi|568397287|gb|KF522857.1|_E_coli_O157:H7_str._EDL933_CRISPR2\\tCTCGACTTTAATTTTTTCGCTGCCCGCTTTTG\\t\\t\\t\\t\\t\\t\\t\\t\\t\\t\\t\\t\\t\\t\\t\\t\\t\\t\\t\\t\\t\\t\\t\\t\\t\\t\\t\\t\\t\\t\\t\\t\\t\\t\\t\\t\\t\\t\\n',\n",
       "       '@gi|568397220|gb|KF522790.1|_E_coli_strain_EC4115_CRISPR2\\tCTCGACTTTAATTTTTTCGCTGCCCGCTTTTG\\t\\t\\t\\t\\t\\t\\t\\t\\t\\t\\t\\t\\t\\t\\t\\t\\t\\t\\t\\t\\t\\t\\t\\t\\t\\t\\t\\t\\t\\t\\t\\t\\t\\t\\t\\t\\t\\t\\n',\n",
       "       '@gi|568397164|gb|KF522734.1|_E_coli_strain_TW14359_CRISPR2\\tCTCGACTTTAATTTTTTCGCTGCCCGCTTTTG\\t\\t\\t\\t\\t\\t\\t\\t\\t\\t\\t\\t\\t\\t\\t\\t\\t\\t\\t\\t\\t\\t\\t\\t\\t\\t\\t\\t\\t\\t\\t\\t\\t\\t\\t\\t\\t\\t\\n',\n",
       "       '@gi|568397143|gb|KF522713.1|_E_coli_strain_XDN5789_CRISPR2\\tAACATCGGAAACGGCTTCGCGGCGGCGGCGTC\\t\\t\\t\\t\\t\\t\\t\\t\\t\\t\\t\\t\\t\\t\\t\\t\\t\\t\\t\\t\\t\\t\\t\\t\\t\\t\\t\\t\\t\\t\\t\\t\\t\\t\\t\\t\\t\\t\\n',\n",
       "       '@gi|568397191|gb|KF522761.1|_E_coli_strain_UMD135_CRISPR2\\tAACATCGGAAACGGCTTCGCGGCGGCGGCGTC\\t\\t\\t\\t\\t\\t\\t\\t\\t\\t\\t\\t\\t\\t\\t\\t\\t\\t\\t\\t\\t\\t\\t\\t\\t\\t\\t\\t\\t\\t\\t\\t\\t\\t\\t\\t\\t\\t\\n',\n",
       "       '@gi|568397171|gb|KF522741.1|_E_coli_strain_WT119-2_CRISPR2\\tATATACAGCAAACCTTCAGAATGCATTCCGGG\\t\\t\\t\\t\\t\\t\\t\\t\\t\\t\\t\\t\\t\\t\\t\\t\\t\\t\\t\\t\\t\\t\\t\\t\\t\\t\\t\\t\\t\\t\\t\\t\\t\\t\\t\\t\\t\\t\\n',\n",
       "       '@gi|329665520|gb|JF496136.1|_E_coli_strain_R42_CRISPR2\\tATATACAGCAAACCTTCAGAATGCATTCCGGG\\t\\t\\t\\t\\t\\t\\t\\t\\t\\t\\t\\t\\t\\t\\t\\t\\t\\t\\t\\t\\t\\t\\t\\t\\t\\t\\t\\t\\t\\t\\t\\t\\t\\t\\t\\t\\t\\t\\n',\n",
       "       '@gi|568397204|gb|KF522774.1|_E_coli_strain_UMD173_CRISPR2\\tAACATCGGAAACGGCTTCGCGGCGGCGGCGTC\\t\\t\\t\\t\\t\\t\\t\\t\\t\\t\\t\\t\\t\\t\\t\\t\\t\\t\\t\\t\\t\\t\\t\\t\\t\\t\\t\\t\\t\\t\\t\\t\\t\\t\\t\\t\\t\\t\\n',\n",
       "       '@gi|329665539|gb|JF496155.1|_E_coli_strain_R192_CRISPR2\\tGAAAAATGCATACGATTCGAGCACCAGTTTGG\\t\\t\\t\\t\\t\\t\\t\\t\\t\\t\\t\\t\\t\\t\\t\\t\\t\\t\\t\\t\\t\\t\\t\\t\\t\\t\\t\\t\\t\\t\\t\\t\\t\\t\\t\\t\\t\\t\\n',\n",
       "       '@gi|329665497|gb|JF496113.1|_E_coli_strain_IAI5_CRISPR2\\tCTGCGGTGATTTCCTGGAATGTTTTGCCGGAC\\t\\t\\t\\t\\t\\t\\t\\t\\t\\t\\t\\t\\t\\t\\t\\t\\t\\t\\t\\t\\t\\t\\t\\t\\t\\t\\t\\t\\t\\t\\t\\t\\t\\t\\t\\t\\t\\t\\n',\n",
       "       '@gi|568397262|gb|KF522832.1|_E_coli_strain_FDA413_CRISPR2\\tCTCGACTTTAATTTTTTCGCTGCCCGCTTTTG\\t\\t\\t\\t\\t\\t\\t\\t\\t\\t\\t\\t\\t\\t\\t\\t\\t\\t\\t\\t\\t\\t\\t\\t\\t\\t\\t\\t\\t\\t\\t\\t\\t\\t\\t\\t\\t\\t\\n'],\n",
       "      dtype='<U8049')"
      ]
     },
     "execution_count": 252,
     "metadata": {},
     "output_type": "execute_result"
    }
   ],
   "source": [
    "np.array(db_lines)[np.where(np.array([len(x) for x in db]) == 1)[0]]"
   ]
  },
  {
   "cell_type": "code",
   "execution_count": 260,
   "metadata": {
    "scrolled": true
   },
   "outputs": [
    {
     "name": "stderr",
     "output_type": "stream",
     "text": [
      "100%|██████████| 3058/3058 [00:00<00:00, 461722.22it/s]\n"
     ]
    }
   ],
   "source": [
    "all_spacers = set()\n",
    "\n",
    "for chain in tqdm(db):\n",
    "    for spacer in chain:\n",
    "        all_spacers.add(spacer)"
   ]
  },
  {
   "cell_type": "code",
   "execution_count": 261,
   "metadata": {
    "collapsed": true
   },
   "outputs": [],
   "source": [
    "all_spacers_list = [x[:32] for x in list(all_spacers) if len(x) < 40]"
   ]
  },
  {
   "cell_type": "code",
   "execution_count": 265,
   "metadata": {},
   "outputs": [
    {
     "name": "stderr",
     "output_type": "stream",
     "text": [
      "1748it [00:00, 49390.29it/s]\n"
     ]
    }
   ],
   "source": [
    "X_db = np.zeros((len(all_spacers_list), 32 * 4))\n",
    "\n",
    "for i, spacer in tqdm(enumerate(all_spacers_list)):\n",
    "    X_db[i,:] = process_spacer(spacer)"
   ]
  },
  {
   "cell_type": "code",
   "execution_count": 35,
   "metadata": {
    "collapsed": true
   },
   "outputs": [],
   "source": [
    "from sklearn.metrics import log_loss"
   ]
  },
  {
   "cell_type": "code",
   "execution_count": 199,
   "metadata": {},
   "outputs": [
    {
     "data": {
      "text/plain": [
       "387.92068499768482"
      ]
     },
     "execution_count": 199,
     "metadata": {},
     "output_type": "execute_result"
    }
   ],
   "source": [
    "log_loss(X[:1], v_test_fn(X[:1])) "
   ]
  },
  {
   "cell_type": "code",
   "execution_count": 150,
   "metadata": {
    "collapsed": true
   },
   "outputs": [],
   "source": [
    "np.savez(\"./VAE_weights/97_noize_70_hid_10_ES1\", *lasagne.layers.get_all_param_values(vl_output))"
   ]
  },
  {
   "cell_type": "code",
   "execution_count": 282,
   "metadata": {},
   "outputs": [
    {
     "data": {
      "image/png": "[encoded data removed]",
      "text/plain": [
       "<matplotlib.figure.Figure at 0x7f4e74341ac8>"
      ]
     },
     "metadata": {},
     "output_type": "display_data"
    }
   ],
   "source": [
    "\n",
    "fig, ax = plt.subplots()\n",
    "fig.set_size_inches(20,10)\n",
    "ax.bar(np.arange(32 * 4), X_db[1:2][0][:], width = 1, alpha = 0.5)\n",
    "ax.bar(np.arange(32 * 4), v_test_fn(X_db[1:2])[0][:], width = 1, alpha = 0.5)\n",
    "plt.show()"
   ]
  },
  {
   "cell_type": "code",
   "execution_count": null,
   "metadata": {
    "collapsed": true
   },
   "outputs": [],
   "source": []
  },
  {
   "cell_type": "markdown",
   "metadata": {},
   "source": [
    "## Get inside "
   ]
  },
  {
   "cell_type": "code",
   "execution_count": 106,
   "metadata": {
    "collapsed": true
   },
   "outputs": [],
   "source": [
    "Z = internal(X_es_3)"
   ]
  },
  {
   "cell_type": "code",
   "execution_count": 325,
   "metadata": {
    "collapsed": true
   },
   "outputs": [],
   "source": [
    "Z_es_3 = internal(X_es_3)\n",
    "Z_ans_es_3 = internal(X_ans_es_3)"
   ]
  },
  {
   "cell_type": "code",
   "execution_count": 286,
   "metadata": {
    "collapsed": true
   },
   "outputs": [],
   "source": [
    "Z_noized = internal(X_noised)\n",
    "Z = internal(X)"
   ]
  },
  {
   "cell_type": "markdown",
   "metadata": {},
   "source": [
    "на уникальных"
   ]
  },
  {
   "cell_type": "code",
   "execution_count": 334,
   "metadata": {
    "scrolled": true
   },
   "outputs": [
    {
     "data": {
      "image/png": "[encoded data removed]",
      "text/plain": [
       "<matplotlib.figure.Figure at 0x7f4e945e4048>"
      ]
     },
     "metadata": {},
     "output_type": "display_data"
    }
   ],
   "source": [
    "plt.scatter(t_noized[:, 0], t_noized[:,1], c = 'y')\n",
    "plt.scatter(t_ans[:18, 0], t_ans[:18,1], c= 'b')\n",
    "plt.scatter(t_ans[18:, 0], t_ans[18:,1], c = 'r')\n",
    "plt.show()"
   ]
  },
  {
   "cell_type": "code",
   "execution_count": 346,
   "metadata": {
    "collapsed": true
   },
   "outputs": [],
   "source": [
    "mask = np.logical_and(t_noized[:, 0] > 0, t_noized[:, 1] < -20)"
   ]
  },
  {
   "cell_type": "code",
   "execution_count": 348,
   "metadata": {},
   "outputs": [
    {
     "data": {
      "image/png": "[encoded data removed]",
      "text/plain": [
       "<matplotlib.figure.Figure at 0x7f4e746087b8>"
      ]
     },
     "metadata": {},
     "output_type": "display_data"
    }
   ],
   "source": [
    "plt.scatter(t_noized[:, 0][mask], t_noized[:,1][mask], c = 'y')\n",
    "plt.scatter(t_ans[:18, 0], t_ans[:18,1], c= 'b')\n",
    "#plt.scatter(t_ans[18:, 0], t_ans[18:,1], c = 'r')\n",
    "plt.show()"
   ]
  },
  {
   "cell_type": "code",
   "execution_count": 354,
   "metadata": {},
   "outputs": [
    {
     "data": {
      "image/png": "[encoded data removed]",
      "text/plain": [
       "<matplotlib.figure.Figure at 0x7f4e740ebc88>"
      ]
     },
     "metadata": {},
     "output_type": "display_data"
    }
   ],
   "source": [
    "plt.scatter(t_noized_1[:, 0], t_noized_1[:,1], c = 'y')\n",
    "plt.scatter(t_ans_1[:18, 0], t_ans_1[:18,1], c= 'b')\n",
    "#plt.scatter(t_ans[18:, 0], t_ans[18:,1], c = 'r')\n",
    "plt.show()"
   ]
  },
  {
   "cell_type": "code",
   "execution_count": 295,
   "metadata": {},
   "outputs": [
    {
     "data": {
      "image/png": "[encoded data removed]",
      "text/plain": [
       "<matplotlib.figure.Figure at 0x7f4e9587cbe0>"
      ]
     },
     "metadata": {},
     "output_type": "display_data"
    }
   ],
   "source": [
    "plt.scatter(t_noized[:, 0], t_noized[:,1])\n",
    "plt.scatter(t_ans[:, 0]  , t_ans[:,1])\n",
    "plt.show()"
   ]
  },
  {
   "cell_type": "code",
   "execution_count": null,
   "metadata": {
    "collapsed": true
   },
   "outputs": [],
   "source": []
  },
  {
   "cell_type": "code",
   "execution_count": 292,
   "metadata": {},
   "outputs": [
    {
     "data": {
      "image/png": "[encoded data removed]",
      "text/plain": [
       "<matplotlib.figure.Figure at 0x7f4e750cbd30>"
      ]
     },
     "metadata": {},
     "output_type": "display_data"
    }
   ],
   "source": [
    "plt.scatter(t_db[:, 0], t_db[:,1])\n",
    "#plt.scatter(Z[:, 0]  , Z[:,1])\n",
    "plt.show()"
   ]
  },
  {
   "cell_type": "code",
   "execution_count": 205,
   "metadata": {},
   "outputs": [
    {
     "data": {
      "image/png": "[encoded data removed]",
      "text/plain": [
       "<matplotlib.figure.Figure at 0x7f4e747c8f28>"
      ]
     },
     "metadata": {},
     "output_type": "display_data"
    }
   ],
   "source": [
    "plt.scatter(Z_noized[:, 0], Z_noized[:,1])\n",
    "plt.scatter(Z[:, 0]  , Z[:,1])\n",
    "plt.show()"
   ]
  },
  {
   "cell_type": "markdown",
   "metadata": {},
   "source": [
    "each 200"
   ]
  },
  {
   "cell_type": "code",
   "execution_count": 147,
   "metadata": {},
   "outputs": [
    {
     "data": {
      "image/png": "[encoded data removed]",
      "text/plain": [
       "<matplotlib.figure.Figure at 0x7f4e7495bc88>"
      ]
     },
     "metadata": {},
     "output_type": "display_data"
    }
   ],
   "source": [
    "plt.scatter(t_noized[:, 0], t_noized[:,1])\n",
    "plt.scatter(t_ans[:, 0]  , t_ans[:,1])\n",
    "plt.show()"
   ]
  },
  {
   "cell_type": "markdown",
   "metadata": {},
   "source": [
    "each 50"
   ]
  },
  {
   "cell_type": "code",
   "execution_count": 145,
   "metadata": {
    "scrolled": true
   },
   "outputs": [
    {
     "data": {
      "image/png": "[encoded data removed]",
      "text/plain": [
       "<matplotlib.figure.Figure at 0x7f4e7495b048>"
      ]
     },
     "metadata": {},
     "output_type": "display_data"
    }
   ],
   "source": [
    "plt.scatter(t_noized[:, 0], t_noized[:,1])\n",
    "plt.scatter(t_ans[:, 0]  , t_ans[:,1], c = 'R')\n",
    "plt.show()"
   ]
  },
  {
   "cell_type": "markdown",
   "metadata": {},
   "source": [
    "each 20"
   ]
  },
  {
   "cell_type": "code",
   "execution_count": 149,
   "metadata": {},
   "outputs": [
    {
     "data": {
      "image/png": "[encoded data removed]",
      "text/plain": [
       "<matplotlib.figure.Figure at 0x7f4e74c2ee10>"
      ]
     },
     "metadata": {},
     "output_type": "display_data"
    }
   ],
   "source": [
    "plt.scatter(t_noized[:, 0], t_noized[:,1])\n",
    "plt.scatter(t_ans[:, 0]  , t_ans[:,1])\n",
    "plt.show()"
   ]
  },
  {
   "cell_type": "markdown",
   "metadata": {},
   "source": [
    "each 10"
   ]
  },
  {
   "cell_type": "code",
   "execution_count": 152,
   "metadata": {},
   "outputs": [
    {
     "data": {
      "image/png": "[encoded data removed]",
      "text/plain": [
       "<matplotlib.figure.Figure at 0x7f4e7412c5f8>"
      ]
     },
     "metadata": {},
     "output_type": "display_data"
    }
   ],
   "source": [
    "plt.scatter(t_noized[:, 0], t_noized[:,1])\n",
    "plt.scatter(t_ans[:, 0]  , t_ans[:,1])\n",
    "plt.show()"
   ]
  },
  {
   "cell_type": "code",
   "execution_count": 124,
   "metadata": {
    "collapsed": true
   },
   "outputs": [],
   "source": [
    "from sklearn.cluster import SpectralClustering"
   ]
  },
  {
   "cell_type": "code",
   "execution_count": 125,
   "metadata": {
    "collapsed": true
   },
   "outputs": [],
   "source": [
    "S_C = SpectralClustering(14)"
   ]
  },
  {
   "cell_type": "code",
   "execution_count": 129,
   "metadata": {
    "scrolled": true
   },
   "outputs": [
    {
     "ename": "MemoryError",
     "evalue": "",
     "output_type": "error",
     "traceback": [
      "\u001b[0;31m---------------------------------------------------------------------------\u001b[0m",
      "\u001b[0;31mMemoryError\u001b[0m                               Traceback (most recent call last)",
      "\u001b[0;32m<ipython-input-129-4d74b74cff4c>\u001b[0m in \u001b[0;36m<module>\u001b[0;34m()\u001b[0m\n\u001b[0;32m----> 1\u001b[0;31m \u001b[0mclusters\u001b[0m \u001b[0;34m=\u001b[0m \u001b[0mS_C\u001b[0m\u001b[0;34m.\u001b[0m\u001b[0mfit_predict\u001b[0m\u001b[0;34m(\u001b[0m\u001b[0mZ_noized\u001b[0m\u001b[0;34m[\u001b[0m\u001b[0;34m:\u001b[0m\u001b[0;34m:\u001b[0m\u001b[0;36m10\u001b[0m\u001b[0;34m]\u001b[0m\u001b[0;34m)\u001b[0m\u001b[0;34m\u001b[0m\u001b[0m\n\u001b[0m",
      "\u001b[0;32m~/anaconda3/lib/python3.6/site-packages/sklearn/base.py\u001b[0m in \u001b[0;36mfit_predict\u001b[0;34m(self, X, y)\u001b[0m\n\u001b[1;32m    408\u001b[0m         \u001b[0;31m# non-optimized default implementation; override when a better\u001b[0m\u001b[0;34m\u001b[0m\u001b[0;34m\u001b[0m\u001b[0m\n\u001b[1;32m    409\u001b[0m         \u001b[0;31m# method is possible for a given clustering algorithm\u001b[0m\u001b[0;34m\u001b[0m\u001b[0;34m\u001b[0m\u001b[0m\n\u001b[0;32m--> 410\u001b[0;31m         \u001b[0mself\u001b[0m\u001b[0;34m.\u001b[0m\u001b[0mfit\u001b[0m\u001b[0;34m(\u001b[0m\u001b[0mX\u001b[0m\u001b[0;34m)\u001b[0m\u001b[0;34m\u001b[0m\u001b[0m\n\u001b[0m\u001b[1;32m    411\u001b[0m         \u001b[0;32mreturn\u001b[0m \u001b[0mself\u001b[0m\u001b[0;34m.\u001b[0m\u001b[0mlabels_\u001b[0m\u001b[0;34m\u001b[0m\u001b[0m\n\u001b[1;32m    412\u001b[0m \u001b[0;34m\u001b[0m\u001b[0m\n",
      "\u001b[0;32m~/anaconda3/lib/python3.6/site-packages/sklearn/cluster/spectral.py\u001b[0m in \u001b[0;36mfit\u001b[0;34m(self, X, y)\u001b[0m\n\u001b[1;32m    470\u001b[0m                                            \u001b[0mn_init\u001b[0m\u001b[0;34m=\u001b[0m\u001b[0mself\u001b[0m\u001b[0;34m.\u001b[0m\u001b[0mn_init\u001b[0m\u001b[0;34m,\u001b[0m\u001b[0;34m\u001b[0m\u001b[0m\n\u001b[1;32m    471\u001b[0m                                            \u001b[0meigen_tol\u001b[0m\u001b[0;34m=\u001b[0m\u001b[0mself\u001b[0m\u001b[0;34m.\u001b[0m\u001b[0meigen_tol\u001b[0m\u001b[0;34m,\u001b[0m\u001b[0;34m\u001b[0m\u001b[0m\n\u001b[0;32m--> 472\u001b[0;31m                                            assign_labels=self.assign_labels)\n\u001b[0m\u001b[1;32m    473\u001b[0m         \u001b[0;32mreturn\u001b[0m \u001b[0mself\u001b[0m\u001b[0;34m\u001b[0m\u001b[0m\n\u001b[1;32m    474\u001b[0m \u001b[0;34m\u001b[0m\u001b[0m\n",
      "\u001b[0;32m~/anaconda3/lib/python3.6/site-packages/sklearn/cluster/spectral.py\u001b[0m in \u001b[0;36mspectral_clustering\u001b[0;34m(affinity, n_clusters, n_components, eigen_solver, random_state, n_init, eigen_tol, assign_labels)\u001b[0m\n\u001b[1;32m    260\u001b[0m                               \u001b[0meigen_solver\u001b[0m\u001b[0;34m=\u001b[0m\u001b[0meigen_solver\u001b[0m\u001b[0;34m,\u001b[0m\u001b[0;34m\u001b[0m\u001b[0m\n\u001b[1;32m    261\u001b[0m                               \u001b[0mrandom_state\u001b[0m\u001b[0;34m=\u001b[0m\u001b[0mrandom_state\u001b[0m\u001b[0;34m,\u001b[0m\u001b[0;34m\u001b[0m\u001b[0m\n\u001b[0;32m--> 262\u001b[0;31m                               eigen_tol=eigen_tol, drop_first=False)\n\u001b[0m\u001b[1;32m    263\u001b[0m \u001b[0;34m\u001b[0m\u001b[0m\n\u001b[1;32m    264\u001b[0m     \u001b[0;32mif\u001b[0m \u001b[0massign_labels\u001b[0m \u001b[0;34m==\u001b[0m \u001b[0;34m'kmeans'\u001b[0m\u001b[0;34m:\u001b[0m\u001b[0;34m\u001b[0m\u001b[0m\n",
      "\u001b[0;32m~/anaconda3/lib/python3.6/site-packages/sklearn/manifold/spectral_embedding_.py\u001b[0m in \u001b[0;36mspectral_embedding\u001b[0;34m(adjacency, n_components, eigen_solver, random_state, eigen_tol, norm_laplacian, drop_first)\u001b[0m\n\u001b[1;32m    208\u001b[0m       \u001b[0mhttp\u001b[0m\u001b[0;34m:\u001b[0m\u001b[0;34m//\u001b[0m\u001b[0mdx\u001b[0m\u001b[0;34m.\u001b[0m\u001b[0mdoi\u001b[0m\u001b[0;34m.\u001b[0m\u001b[0morg\u001b[0m\u001b[0;34m/\u001b[0m\u001b[0;36m10.1137\u001b[0m\u001b[0;34m%\u001b[0m\u001b[0;36m2\u001b[0m\u001b[0mFS1064827500366124\u001b[0m\u001b[0;34m\u001b[0m\u001b[0m\n\u001b[1;32m    209\u001b[0m     \"\"\"\n\u001b[0;32m--> 210\u001b[0;31m     \u001b[0madjacency\u001b[0m \u001b[0;34m=\u001b[0m \u001b[0mcheck_symmetric\u001b[0m\u001b[0;34m(\u001b[0m\u001b[0madjacency\u001b[0m\u001b[0;34m)\u001b[0m\u001b[0;34m\u001b[0m\u001b[0m\n\u001b[0m\u001b[1;32m    211\u001b[0m \u001b[0;34m\u001b[0m\u001b[0m\n\u001b[1;32m    212\u001b[0m     \u001b[0;32mtry\u001b[0m\u001b[0;34m:\u001b[0m\u001b[0;34m\u001b[0m\u001b[0m\n",
      "\u001b[0;32m~/anaconda3/lib/python3.6/site-packages/sklearn/utils/validation.py\u001b[0m in \u001b[0;36mcheck_symmetric\u001b[0;34m(array, tol, raise_warning, raise_exception)\u001b[0m\n\u001b[1;32m    701\u001b[0m         \u001b[0msymmetric\u001b[0m \u001b[0;34m=\u001b[0m \u001b[0mnp\u001b[0m\u001b[0;34m.\u001b[0m\u001b[0mall\u001b[0m\u001b[0;34m(\u001b[0m\u001b[0mabs\u001b[0m\u001b[0;34m(\u001b[0m\u001b[0mdiff\u001b[0m\u001b[0;34m.\u001b[0m\u001b[0mdata\u001b[0m\u001b[0;34m)\u001b[0m \u001b[0;34m<\u001b[0m \u001b[0mtol\u001b[0m\u001b[0;34m)\u001b[0m\u001b[0;34m\u001b[0m\u001b[0m\n\u001b[1;32m    702\u001b[0m     \u001b[0;32melse\u001b[0m\u001b[0;34m:\u001b[0m\u001b[0;34m\u001b[0m\u001b[0m\n\u001b[0;32m--> 703\u001b[0;31m         \u001b[0msymmetric\u001b[0m \u001b[0;34m=\u001b[0m \u001b[0mnp\u001b[0m\u001b[0;34m.\u001b[0m\u001b[0mallclose\u001b[0m\u001b[0;34m(\u001b[0m\u001b[0marray\u001b[0m\u001b[0;34m,\u001b[0m \u001b[0marray\u001b[0m\u001b[0;34m.\u001b[0m\u001b[0mT\u001b[0m\u001b[0;34m,\u001b[0m \u001b[0matol\u001b[0m\u001b[0;34m=\u001b[0m\u001b[0mtol\u001b[0m\u001b[0;34m)\u001b[0m\u001b[0;34m\u001b[0m\u001b[0m\n\u001b[0m\u001b[1;32m    704\u001b[0m \u001b[0;34m\u001b[0m\u001b[0m\n\u001b[1;32m    705\u001b[0m     \u001b[0;32mif\u001b[0m \u001b[0;32mnot\u001b[0m \u001b[0msymmetric\u001b[0m\u001b[0;34m:\u001b[0m\u001b[0;34m\u001b[0m\u001b[0m\n",
      "\u001b[0;32m~/anaconda3/lib/python3.6/site-packages/numpy/core/numeric.py\u001b[0m in \u001b[0;36mallclose\u001b[0;34m(a, b, rtol, atol, equal_nan)\u001b[0m\n\u001b[1;32m   2457\u001b[0m \u001b[0;34m\u001b[0m\u001b[0m\n\u001b[1;32m   2458\u001b[0m     \"\"\"\n\u001b[0;32m-> 2459\u001b[0;31m     \u001b[0mres\u001b[0m \u001b[0;34m=\u001b[0m \u001b[0mall\u001b[0m\u001b[0;34m(\u001b[0m\u001b[0misclose\u001b[0m\u001b[0;34m(\u001b[0m\u001b[0ma\u001b[0m\u001b[0;34m,\u001b[0m \u001b[0mb\u001b[0m\u001b[0;34m,\u001b[0m \u001b[0mrtol\u001b[0m\u001b[0;34m=\u001b[0m\u001b[0mrtol\u001b[0m\u001b[0;34m,\u001b[0m \u001b[0matol\u001b[0m\u001b[0;34m=\u001b[0m\u001b[0matol\u001b[0m\u001b[0;34m,\u001b[0m \u001b[0mequal_nan\u001b[0m\u001b[0;34m=\u001b[0m\u001b[0mequal_nan\u001b[0m\u001b[0;34m)\u001b[0m\u001b[0;34m)\u001b[0m\u001b[0;34m\u001b[0m\u001b[0m\n\u001b[0m\u001b[1;32m   2460\u001b[0m     \u001b[0;32mreturn\u001b[0m \u001b[0mbool\u001b[0m\u001b[0;34m(\u001b[0m\u001b[0mres\u001b[0m\u001b[0;34m)\u001b[0m\u001b[0;34m\u001b[0m\u001b[0m\n\u001b[1;32m   2461\u001b[0m \u001b[0;34m\u001b[0m\u001b[0m\n",
      "\u001b[0;32m~/anaconda3/lib/python3.6/site-packages/numpy/core/numeric.py\u001b[0m in \u001b[0;36misclose\u001b[0;34m(a, b, rtol, atol, equal_nan)\u001b[0m\n\u001b[1;32m   2539\u001b[0m     \u001b[0myfin\u001b[0m \u001b[0;34m=\u001b[0m \u001b[0misfinite\u001b[0m\u001b[0;34m(\u001b[0m\u001b[0my\u001b[0m\u001b[0;34m)\u001b[0m\u001b[0;34m\u001b[0m\u001b[0m\n\u001b[1;32m   2540\u001b[0m     \u001b[0;32mif\u001b[0m \u001b[0mall\u001b[0m\u001b[0;34m(\u001b[0m\u001b[0mxfin\u001b[0m\u001b[0;34m)\u001b[0m \u001b[0;32mand\u001b[0m \u001b[0mall\u001b[0m\u001b[0;34m(\u001b[0m\u001b[0myfin\u001b[0m\u001b[0;34m)\u001b[0m\u001b[0;34m:\u001b[0m\u001b[0;34m\u001b[0m\u001b[0m\n\u001b[0;32m-> 2541\u001b[0;31m         \u001b[0;32mreturn\u001b[0m \u001b[0mwithin_tol\u001b[0m\u001b[0;34m(\u001b[0m\u001b[0mx\u001b[0m\u001b[0;34m,\u001b[0m \u001b[0my\u001b[0m\u001b[0;34m,\u001b[0m \u001b[0matol\u001b[0m\u001b[0;34m,\u001b[0m \u001b[0mrtol\u001b[0m\u001b[0;34m)\u001b[0m\u001b[0;34m\u001b[0m\u001b[0m\n\u001b[0m\u001b[1;32m   2542\u001b[0m     \u001b[0;32melse\u001b[0m\u001b[0;34m:\u001b[0m\u001b[0;34m\u001b[0m\u001b[0m\n\u001b[1;32m   2543\u001b[0m         \u001b[0mfinite\u001b[0m \u001b[0;34m=\u001b[0m \u001b[0mxfin\u001b[0m \u001b[0;34m&\u001b[0m \u001b[0myfin\u001b[0m\u001b[0;34m\u001b[0m\u001b[0m\n",
      "\u001b[0;32m~/anaconda3/lib/python3.6/site-packages/numpy/core/numeric.py\u001b[0m in \u001b[0;36mwithin_tol\u001b[0;34m(x, y, atol, rtol)\u001b[0m\n\u001b[1;32m   2522\u001b[0m     \u001b[0;32mdef\u001b[0m \u001b[0mwithin_tol\u001b[0m\u001b[0;34m(\u001b[0m\u001b[0mx\u001b[0m\u001b[0;34m,\u001b[0m \u001b[0my\u001b[0m\u001b[0;34m,\u001b[0m \u001b[0matol\u001b[0m\u001b[0;34m,\u001b[0m \u001b[0mrtol\u001b[0m\u001b[0;34m)\u001b[0m\u001b[0;34m:\u001b[0m\u001b[0;34m\u001b[0m\u001b[0m\n\u001b[1;32m   2523\u001b[0m         \u001b[0;32mwith\u001b[0m \u001b[0merrstate\u001b[0m\u001b[0;34m(\u001b[0m\u001b[0minvalid\u001b[0m\u001b[0;34m=\u001b[0m\u001b[0;34m'ignore'\u001b[0m\u001b[0;34m)\u001b[0m\u001b[0;34m:\u001b[0m\u001b[0;34m\u001b[0m\u001b[0m\n\u001b[0;32m-> 2524\u001b[0;31m             \u001b[0mresult\u001b[0m \u001b[0;34m=\u001b[0m \u001b[0mless_equal\u001b[0m\u001b[0;34m(\u001b[0m\u001b[0mabs\u001b[0m\u001b[0;34m(\u001b[0m\u001b[0mx\u001b[0m\u001b[0;34m-\u001b[0m\u001b[0my\u001b[0m\u001b[0;34m)\u001b[0m\u001b[0;34m,\u001b[0m \u001b[0matol\u001b[0m \u001b[0;34m+\u001b[0m \u001b[0mrtol\u001b[0m \u001b[0;34m*\u001b[0m \u001b[0mabs\u001b[0m\u001b[0;34m(\u001b[0m\u001b[0my\u001b[0m\u001b[0;34m)\u001b[0m\u001b[0;34m)\u001b[0m\u001b[0;34m\u001b[0m\u001b[0m\n\u001b[0m\u001b[1;32m   2525\u001b[0m         \u001b[0;32mif\u001b[0m \u001b[0misscalar\u001b[0m\u001b[0;34m(\u001b[0m\u001b[0ma\u001b[0m\u001b[0;34m)\u001b[0m \u001b[0;32mand\u001b[0m \u001b[0misscalar\u001b[0m\u001b[0;34m(\u001b[0m\u001b[0mb\u001b[0m\u001b[0;34m)\u001b[0m\u001b[0;34m:\u001b[0m\u001b[0;34m\u001b[0m\u001b[0m\n\u001b[1;32m   2526\u001b[0m             \u001b[0mresult\u001b[0m \u001b[0;34m=\u001b[0m \u001b[0mbool\u001b[0m\u001b[0;34m(\u001b[0m\u001b[0mresult\u001b[0m\u001b[0;34m)\u001b[0m\u001b[0;34m\u001b[0m\u001b[0m\n",
      "\u001b[0;31mMemoryError\u001b[0m: "
     ]
    }
   ],
   "source": [
    "clusters = S_C.fit_predict(Z_noized[::10])"
   ]
  },
  {
   "cell_type": "code",
   "execution_count": 108,
   "metadata": {
    "collapsed": true
   },
   "outputs": [],
   "source": [
    "from sklearn.manifold import TSNE"
   ]
  },
  {
   "cell_type": "code",
   "execution_count": 307,
   "metadata": {
    "collapsed": true
   },
   "outputs": [],
   "source": [
    "tsne = TSNE(2, verbose=1)"
   ]
  },
  {
   "cell_type": "code",
   "execution_count": 114,
   "metadata": {
    "collapsed": true
   },
   "outputs": [],
   "source": [
    "Z_noized_unique = np.unique(Z_noized, axis = 0)"
   ]
  },
  {
   "cell_type": "code",
   "execution_count": 115,
   "metadata": {},
   "outputs": [
    {
     "data": {
      "text/plain": [
       "(159654, 10)"
      ]
     },
     "execution_count": 115,
     "metadata": {},
     "output_type": "execute_result"
    }
   ],
   "source": [
    "Z_noized.shape"
   ]
  },
  {
   "cell_type": "code",
   "execution_count": 116,
   "metadata": {},
   "outputs": [
    {
     "data": {
      "text/plain": [
       "(28362, 10)"
      ]
     },
     "execution_count": 116,
     "metadata": {},
     "output_type": "execute_result"
    }
   ],
   "source": [
    "Z_noized_unique.shape"
   ]
  },
  {
   "cell_type": "code",
   "execution_count": 140,
   "metadata": {},
   "outputs": [
    {
     "data": {
      "text/plain": [
       "(3194, 2)"
      ]
     },
     "execution_count": 140,
     "metadata": {},
     "output_type": "execute_result"
    }
   ],
   "source": [
    "t_noized.shape"
   ]
  },
  {
   "cell_type": "code",
   "execution_count": 141,
   "metadata": {},
   "outputs": [
    {
     "data": {
      "text/plain": [
       "(3194, 2)"
      ]
     },
     "execution_count": 141,
     "metadata": {},
     "output_type": "execute_result"
    }
   ],
   "source": [
    "t_ans.shape"
   ]
  },
  {
   "cell_type": "code",
   "execution_count": 314,
   "metadata": {
    "collapsed": true
   },
   "outputs": [],
   "source": [
    "Z_es_3_u = np.unique(Z_es_3,  axis = 0)"
   ]
  },
  {
   "cell_type": "code",
   "execution_count": 315,
   "metadata": {},
   "outputs": [
    {
     "name": "stdout",
     "output_type": "stream",
     "text": [
      "[t-SNE] Computing 91 nearest neighbors...\n",
      "[t-SNE] Indexed 2123 samples in 0.006s...\n",
      "[t-SNE] Computed neighbors for 2123 samples in 0.169s...\n",
      "[t-SNE] Computed conditional probabilities for sample 1000 / 2123\n",
      "[t-SNE] Computed conditional probabilities for sample 2000 / 2123\n",
      "[t-SNE] Computed conditional probabilities for sample 2123 / 2123\n",
      "[t-SNE] Mean sigma: 0.480638\n",
      "[t-SNE] KL divergence after 250 iterations with early exaggeration: 52.015522\n",
      "[t-SNE] Error after 1000 iterations: 0.430352\n"
     ]
    }
   ],
   "source": [
    "t_es_3 = tsne.fit_transform(Z_es_3_u)"
   ]
  },
  {
   "cell_type": "code",
   "execution_count": 142,
   "metadata": {
    "collapsed": true
   },
   "outputs": [],
   "source": [
    "def tsne_with_asn(tsne, data, ans):\n",
    "    print(np.concatenate((data, ans)).shape)\n",
    "    tsne_data = tsne.fit_transform(np.concatenate((data, ans)))\n",
    "    return tsne_data[:data.shape[0]], tsne_data[-ans.shape[0]:]"
   ]
  },
  {
   "cell_type": "code",
   "execution_count": 350,
   "metadata": {},
   "outputs": [
    {
     "name": "stdout",
     "output_type": "stream",
     "text": [
      "(265, 20)\n",
      "[t-SNE] Computing 91 nearest neighbors...\n",
      "[t-SNE] Indexed 265 samples in 0.000s...\n",
      "[t-SNE] Computed neighbors for 265 samples in 0.008s...\n",
      "[t-SNE] Computed conditional probabilities for sample 265 / 265\n",
      "[t-SNE] Mean sigma: 0.000000\n",
      "[t-SNE] KL divergence after 250 iterations with early exaggeration: 50.672237\n",
      "[t-SNE] Error after 1000 iterations: 0.359428\n"
     ]
    }
   ],
   "source": [
    "t_noized_1, t_ans_1 = tsne_with_asn(tsne, Z_es_3[::50][mask], Z_ans_es_3[:18])"
   ]
  },
  {
   "cell_type": "code",
   "execution_count": null,
   "metadata": {
    "collapsed": true
   },
   "outputs": [],
   "source": []
  },
  {
   "cell_type": "markdown",
   "metadata": {},
   "source": [
    "### Check how much unchanged"
   ]
  },
  {
   "cell_type": "code",
   "execution_count": 18,
   "metadata": {},
   "outputs": [
    {
     "data": {
      "text/plain": [
       "79827"
      ]
     },
     "execution_count": 18,
     "metadata": {},
     "output_type": "execute_result"
    }
   ],
   "source": [
    "len(pairs)"
   ]
  },
  {
   "cell_type": "code",
   "execution_count": 69,
   "metadata": {
    "collapsed": true
   },
   "outputs": [],
   "source": [
    "counter = 0\n",
    "for p in np.array(pairs).flatten():\n",
    "    if p in unique:\n",
    "        counter += 1"
   ]
  },
  {
   "cell_type": "code",
   "execution_count": 80,
   "metadata": {
    "collapsed": true
   },
   "outputs": [],
   "source": [
    "counter = 0\n",
    "for p in noised_data:\n",
    "    if p in unique:\n",
    "        counter += 1"
   ]
  },
  {
   "cell_type": "code",
   "execution_count": 81,
   "metadata": {},
   "outputs": [
    {
     "data": {
      "text/plain": [
       "73276"
      ]
     },
     "execution_count": 81,
     "metadata": {},
     "output_type": "execute_result"
    }
   ],
   "source": [
    "counter"
   ]
  },
  {
   "cell_type": "code",
   "execution_count": 35,
   "metadata": {},
   "outputs": [
    {
     "data": {
      "text/plain": [
       "array(['GGGCGCACGGAATACAAAGCCGTGTATCTGCT',\n",
       "       'TGGCTCTGCAACAGCAGCACCCATGACCACG',\n",
       "       'GACAGAACGGCCTCAGTAGTCTCGTCAGGCTC', ...,\n",
       "       'CTGTTTTCGCAAATCTATGGACTATTGCTAT',\n",
       "       'TAGTTTCCGTATCTCCGGATTTATAAAGCTGA',\n",
       "       'GCAGGCGGCGACGCGCAGGGTATGCGCGATTC'],\n",
       "      dtype='<U56')"
      ]
     },
     "execution_count": 35,
     "metadata": {},
     "output_type": "execute_result"
    }
   ],
   "source": [
    "np.array(pairs).flatten()"
   ]
  },
  {
   "cell_type": "code",
   "execution_count": 36,
   "metadata": {},
   "outputs": [
    {
     "data": {
      "text/plain": [
       "{'AAGCTGGCTGGCAATCTCTTTCGGGGTGAGTC',\n",
       " 'AGCGTGTTCGGCATCACCTTTGGCTTCGGCTG',\n",
       " 'ATTACGCCTTTTTGCGATTGCCCGGTTTTTGC',\n",
       " 'CAGCGTCAGGCGTGAAATCTCACCGTCGTTGC',\n",
       " 'CCGGGGGATAATGTTTACGGTCATGCGCCCCC',\n",
       " 'CTGTTTTCGCAAATCTATGGACTATTGCTATT',\n",
       " 'GAAATGCTGGTGAGCGTTAATGCCGCAAACAC',\n",
       " 'GACAGAACGGCCTCAGTAGTCTCGTCAGGCTC',\n",
       " 'GCAGGCGGCGACGCGCAGGGTATGCGCGATTCG',\n",
       " 'GCGACCGCTCAGAAATTCCAGACCCGATCCAAA',\n",
       " 'GGGCGCACGGAATACAAAGCCGTGTATCTGCT',\n",
       " 'GTAGTCCATCATTCCACCTATGTCTGAACTCC',\n",
       " 'TAGTTTCCGTATCTCCGGATTTATAAAGCTGA',\n",
       " 'TCAACATTATCAATTACAACCGACAGGGAGCC',\n",
       " 'TCGGTTCAGGCGTTGCAAACCTGGCTACCGGG',\n",
       " 'TGCGTGAGCGTATCGCCGCGCGTCTGCGAAAG',\n",
       " 'TGGCTCTGCAACAGCAGCACCCATGACCACGT',\n",
       " 'TGGGCGGCTTGCCTTGCAGCCAGCTCCAGCAG'}"
      ]
     },
     "execution_count": 36,
     "metadata": {},
     "output_type": "execute_result"
    }
   ],
   "source": [
    "unique"
   ]
  },
  {
   "cell_type": "code",
   "execution_count": 38,
   "metadata": {
    "collapsed": true
   },
   "outputs": [],
   "source": [
    "ans = \"CAGCGTCAGGCGTGAAATCTCACCGTCGTTGC\tTCGGTTCAGGCGTTGCAAACCTGGCTACCGGG\tGTAGTCCATCATTCCACCTATGTCTGAACTCC\tCCGGGGGATAATGTTTACGGTCATGCGCCCCC\tTGGGCGGCTTGCCTTGCAGCCAGCTCCAGCAG\tAAGCTGGCTGGCAATCTCTTTCGGGGTGAGTC\tTAGTTTCCGTATCTCCGGATTTATAAAGCTGA\tGCAGGCGGCGACGCGCAGGGTATGCGCGATTCG\tGCGACCGCTCAGAAATTCCAGACCCGATCCAAA\tTCAACATTATCAATTACAACCGACAGGGAGCC\tAGCGTGTTCGGCATCACCTTTGGCTTCGGCTG\tTGCGTGAGCGTATCGCCGCGCGTCTGCGAAAG\""
   ]
  },
  {
   "cell_type": "code",
   "execution_count": 40,
   "metadata": {},
   "outputs": [
    {
     "data": {
      "text/plain": [
       "True"
      ]
     },
     "execution_count": 40,
     "metadata": {},
     "output_type": "execute_result"
    }
   ],
   "source": [
    "ans.split(\"\\t\") == K_1"
   ]
  },
  {
   "cell_type": "code",
   "execution_count": null,
   "metadata": {
    "collapsed": true
   },
   "outputs": [],
   "source": []
  },
  {
   "cell_type": "code",
   "execution_count": null,
   "metadata": {
    "collapsed": true
   },
   "outputs": [],
   "source": []
  },
  {
   "cell_type": "markdown",
   "metadata": {},
   "source": [
    "# Convolutional VAE"
   ]
  },
  {
   "cell_type": "code",
   "execution_count": 186,
   "metadata": {
    "collapsed": true
   },
   "outputs": [],
   "source": [
    "input_X = T.matrix(\"X\")\n",
    "input_shape = [None, 32*4]"
   ]
  },
  {
   "cell_type": "code",
   "execution_count": 187,
   "metadata": {
    "collapsed": true
   },
   "outputs": [],
   "source": [
    "HU_encoder = 50\n",
    "dimZ = 2\n",
    "HU_decoder = 50"
   ]
  },
  {
   "cell_type": "code",
   "execution_count": 188,
   "metadata": {
    "collapsed": true
   },
   "outputs": [],
   "source": [
    "vl_input = lasagne.layers.InputLayer(input_shape)\n",
    "\n",
    "vl_reshape = lasagne.layers.ReshapeLayer(vl_input, (-1, 1, 32*4))\n",
    "\n",
    "vl_conv = lasagne.layers.Conv1DLayer(vl_reshape, 10, 8)"
   ]
  },
  {
   "cell_type": "code",
   "execution_count": 189,
   "metadata": {
    "collapsed": true
   },
   "outputs": [],
   "source": [
    "vl_flatten = lasagne.layers.flatten(vl_conv)"
   ]
  },
  {
   "cell_type": "code",
   "execution_count": 190,
   "metadata": {
    "collapsed": true
   },
   "outputs": [],
   "source": [
    "vl_enc_hid = lasagne.layers.DenseLayer(vl_flatten, num_units=HU_encoder, nonlinearity = lasagne.nonlinearities.elu)\n",
    "\n",
    "vl_enc_mu = lasagne.layers.DenseLayer(vl_enc_hid, dimZ, nonlinearity = None)\n",
    "vl_enc_logsigma = lasagne.layers.DenseLayer(vl_enc_hid, num_units=dimZ, nonlinearity = None)\n",
    "\n",
    "vl_z = GaussianSampleLayer(vl_enc_mu, vl_enc_logsigma)"
   ]
  },
  {
   "cell_type": "code",
   "execution_count": 191,
   "metadata": {
    "collapsed": true,
    "scrolled": true
   },
   "outputs": [],
   "source": [
    "vl_dec_hid = lasagne.layers.DenseLayer(vl_z, num_units=HU_decoder, nonlinearity = lasagne.nonlinearities.elu)\n",
    "vl_dec_mu = lasagne.layers.DenseLayer(vl_dec_hid, num_units=input_shape[1],\n",
    "                                      nonlinearity = lasagne.nonlinearities.sigmoid)\n",
    "relu_shift = 2\n",
    "vl_dec_logsigma = lasagne.layers.DenseLayer(vl_dec_hid, num_units=input_shape[1],\n",
    "                    nonlinearity = lambda a: T.nnet.relu(a+relu_shift)-relu_shift)\n",
    "vl_output = GaussianSampleLayer(vl_dec_mu, vl_dec_logsigma)"
   ]
  },
  {
   "cell_type": "code",
   "execution_count": null,
   "metadata": {
    "collapsed": true
   },
   "outputs": [],
   "source": []
  },
  {
   "cell_type": "code",
   "execution_count": null,
   "metadata": {
    "collapsed": true
   },
   "outputs": [],
   "source": []
  },
  {
   "cell_type": "markdown",
   "metadata": {},
   "source": [
    "# странные дела"
   ]
  },
  {
   "cell_type": "code",
   "execution_count": 208,
   "metadata": {
    "collapsed": true
   },
   "outputs": [],
   "source": [
    "unique = dict()\n",
    "\n",
    "for line in lines:\n",
    "    if line in unique:\n",
    "        unique[line] += 1\n",
    "    else:\n",
    "        unique[line] = 1\n"
   ]
  },
  {
   "cell_type": "code",
   "execution_count": 227,
   "metadata": {
    "collapsed": true
   },
   "outputs": [],
   "source": [
    "keys = []\n",
    "values = []"
   ]
  },
  {
   "cell_type": "code",
   "execution_count": 225,
   "metadata": {},
   "outputs": [
    {
     "ename": "AttributeError",
     "evalue": "'dict' object has no attribute 'iteritems'",
     "output_type": "error",
     "traceback": [
      "\u001b[0;31m---------------------------------------------------------------------------\u001b[0m",
      "\u001b[0;31mAttributeError\u001b[0m                            Traceback (most recent call last)",
      "\u001b[0;32m<ipython-input-225-9dd259c66c10>\u001b[0m in \u001b[0;36m<module>\u001b[0;34m()\u001b[0m\n\u001b[0;32m----> 1\u001b[0;31m \u001b[0munique\u001b[0m\u001b[0;34m.\u001b[0m\u001b[0miteritems\u001b[0m\u001b[0;34m(\u001b[0m\u001b[0;34m)\u001b[0m\u001b[0;34m\u001b[0m\u001b[0m\n\u001b[0m",
      "\u001b[0;31mAttributeError\u001b[0m: 'dict' object has no attribute 'iteritems'"
     ]
    }
   ],
   "source": [
    "unique.iteritems()"
   ]
  },
  {
   "cell_type": "code",
   "execution_count": 228,
   "metadata": {
    "collapsed": true
   },
   "outputs": [],
   "source": [
    "for k, v in unique.items():\n",
    "    keys.append(k)\n",
    "    values.append(v)"
   ]
  },
  {
   "cell_type": "code",
   "execution_count": 232,
   "metadata": {
    "collapsed": true
   },
   "outputs": [],
   "source": [
    "order = np.argsort(values)[::-1]"
   ]
  },
  {
   "cell_type": "code",
   "execution_count": 248,
   "metadata": {
    "scrolled": true
   },
   "outputs": [
    {
     "data": {
      "text/plain": [
       "array(['GACAGAACGGCCTCAGTAGTCTCGTCAGGCT',\n",
       "       'ACACGCCCTTATCAAATAGCTGTGATTTACCT',\n",
       "       'CAAGTGATATCCATCATCGCATCCAGTGCGC',\n",
       "       'ATAGACCCCGAACAACAATACGCGCAAACCG',\n",
       "       'AGTGCTGGACCATTTCAAATTCACAATAGAT',\n",
       "       'TACCGTACAGACTGCCGGATATTATTTTTTT',\n",
       "       'GGAATGATATTTCAATAAATAATTATAACAA',\n",
       "       'CTGCTGCTCGAGCTGGTGGAGTGCTGCTATA',\n",
       "       'TATAGAGATCGTTTTTGGAATTTACAGCGAG',\n",
       "       'CCCTCACACCGATTCGCCAAACGGTGGAGAA',\n",
       "       'AACGTCAGGTTGTCGCCGCTCTGCGTGGTCG',\n",
       "       'AGCTGGGCGAAATTTTGATTCATCGTGATGA',\n",
       "       'CCGTAAGTGGTTTGAGCGATGATATTTGTGC',\n",
       "       'TGCATGGCTTTGGCTTCCTCTTTGACGGACG',\n",
       "       'ATATATCAGAGCAAAAAACAAAGCCACAGCC',\n",
       "       'CATAAAGAAACTATTTTGCGTTTCGTTCAGG',\n",
       "       'TTTTACAGTGTCAACAATCGTTCCCTGATTG',\n",
       "       'CCGCCGTTGGCACCGTCAAACTCCGGTACTG',\n",
       "       'GTAGTCCATCATTCCACCTATGTCTGAACTC',\n",
       "       'TCGGTTCAGGCGTTGCAAACCTGGCTACCGG',\n",
       "       'CTGTTTTCGCAAATCTATGGACTATTGCTAT',\n",
       "       'GGGCGCACGGAATACAAAGCCGTGTATCTGC',\n",
       "       'CAGCGTCAGGCGTGAAATCTCACCGTCGTTG',\n",
       "       'GAAATGCTGGTGAGCGTTAATGCCGCAAACA',\n",
       "       'TGGCTCTGCAACAGCAGCACCCATGACCACG',\n",
       "       'AAGCTGGCTGGCAATCTCTTTCGGGGTGAGT',\n",
       "       'CCGGGGGATAATGTTTACGGTCATGCGCCCC',\n",
       "       'TAGTTTCCGTATCTCCGGATTTATAAAGCTG',\n",
       "       'GCAGGCGGCGACGCGCAGGGTATGCGCGATTC',\n",
       "       'ATTACGCCTTTTTGCGATTGCCCGGTTTTTG'],\n",
       "      dtype='<U32')"
      ]
     },
     "execution_count": 248,
     "metadata": {},
     "output_type": "execute_result"
    }
   ],
   "source": [
    "np.array(keys)[order][:30]"
   ]
  },
  {
   "cell_type": "code",
   "execution_count": 253,
   "metadata": {},
   "outputs": [
    {
     "data": {
      "image/png": "[encoded data removed]",
      "text/plain": [
       "<matplotlib.figure.Figure at 0x7f8fb4ff95c0>"
      ]
     },
     "metadata": {},
     "output_type": "display_data"
    }
   ],
   "source": [
    "plt.plot(np.array(values)[order][20:50])\n",
    "plt.show()"
   ]
  },
  {
   "cell_type": "code",
   "execution_count": 236,
   "metadata": {
    "collapsed": true
   },
   "outputs": [],
   "source": [
    "clusters = dict()\n",
    "for i, sp in enumerate(np.array(keys)[order]):\n",
    "    clusters[sp] = i"
   ]
  },
  {
   "cell_type": "code",
   "execution_count": 240,
   "metadata": {
    "collapsed": true
   },
   "outputs": [],
   "source": [
    "with open(\"./data/ES/ES3_R1_pairs.txt\") as f:\n",
    "    lines = [[y[:32] for y in x[:-2].split(' ')] for x in f.readlines()]"
   ]
  },
  {
   "cell_type": "code",
   "execution_count": 245,
   "metadata": {},
   "outputs": [
    {
     "name": "stderr",
     "output_type": "stream",
     "text": [
      "100%|██████████| 74627/74627 [00:00<00:00, 847092.56it/s]\n"
     ]
    }
   ],
   "source": [
    "graph = np.zeros((30,30)).astype(int)\n",
    "\n",
    "\n",
    "for l in tqdm(lines):\n",
    "    #print(i,j)\n",
    "    #graph[kmeans.predict(pair[0].reshape(1,-1)), kmeans.predict(pair[1].reshape(1,-1))] += 1\n",
    "    if l[0] in clusters and  l[1] in clusters:\n",
    "        if clusters[l[0]] < 30 and clusters[l[1]] < 30:\n",
    "            graph[clusters[l[0]]][clusters[l[1]]] += 1"
   ]
  },
  {
   "cell_type": "code",
   "execution_count": null,
   "metadata": {
    "collapsed": true
   },
   "outputs": [],
   "source": []
  },
  {
   "cell_type": "code",
   "execution_count": null,
   "metadata": {
    "collapsed": true
   },
   "outputs": [],
   "source": []
  },
  {
   "cell_type": "code",
   "execution_count": 206,
   "metadata": {
    "collapsed": true
   },
   "outputs": [],
   "source": [
    "with open(\"./data/ES/ES3_R1_spacers.txt\") as f:\n",
    "    lines = [x[:-2][:32] for x in f.readlines()[1:]]"
   ]
  },
  {
   "cell_type": "code",
   "execution_count": null,
   "metadata": {
    "collapsed": true
   },
   "outputs": [],
   "source": []
  },
  {
   "cell_type": "code",
   "execution_count": 207,
   "metadata": {},
   "outputs": [
    {
     "data": {
      "text/plain": [
       "['GACAGAACGGCCTCAGTAGTCTCGTCAGGCT',\n",
       " 'ACACGCCCTTATCAAATAGCTGTGATTTACCT',\n",
       " 'AGTGCTGGACCATTTCAAATTCACAATAGAT',\n",
       " 'GACAGAACGGCCTCAGTAGTCTCGTCAGGCT',\n",
       " 'ACACGCCCTTATCAAATAGCTGTGATTTACCT',\n",
       " 'ACACGCCCTTATCAAATAGCTGTGATTTACCT',\n",
       " 'GACAGAACGGCCTCAGTAGTCTCGTCAGGCT',\n",
       " 'GACAGAACGGCCTCAGTAGTCTCGTCAGGCT',\n",
       " 'TGCCGTACAGACTGCCGGATATTATTTTTTT',\n",
       " 'CTGCTGCTCGAGCTGGTGGAGTGCTGCTATA',\n",
       " 'ACACGCCCTTATCAAATAGCTGTGATTTACCT',\n",
       " 'TATAGAGATCGTTTTTGGAATTTACAGCGAG',\n",
       " 'CCGTAAGTGGTTTGAGCGATGATATTTGTGC',\n",
       " 'TATAGAGATCGTTTTTGGAATTTACAGCGAG',\n",
       " 'TATAGAGATCGTTTTTGGAATTTACAGCGAG',\n",
       " 'GGAATGATATTTCAATAAATAATTATAACAA',\n",
       " 'CAAGTGATATCCATCATCGCATCCAGTGCGC',\n",
       " 'AGTGCTGGACCATTTCAAATTCACAATAGAT',\n",
       " 'ATATATCAGAGCAAAAAACAAAGCCACAGCC',\n",
       " 'ACACGCCCTTATCAAATAGCTGTGATTTACCT',\n",
       " 'CCCTCACACCGATTCGCCAAACGGTGGAGAA',\n",
       " 'AGCTGGGCGAAATTTTGATTCATCGTGATGA',\n",
       " 'GACAGAACGGCCTCAGTAGTCTCGTCAGGCT',\n",
       " 'ACACGCCCTTATCAAATAGCTGTGATTTACCT',\n",
       " 'ATAGACCCCGAACAACAATACGCGCAAACCG',\n",
       " 'GGAATGATATTTCAATAAATAATTATAACAA',\n",
       " 'CCCTCACACCGATTCGCCAAACGGTGGAGAA',\n",
       " 'TGCATGGCTTTGGCTTCCTCTTTGACGGACG',\n",
       " 'ATATATCAGAGCAAAAAACAAAGCCACAGCC',\n",
       " 'GACAGAACGGCCTCAGTAGTCTCGTCAGGCT',\n",
       " 'ACACGCCCTTATCAAATAGCTGTGATTTACCT',\n",
       " 'ATATATCAGAGCAAAAAACAAAGCCACAGCC',\n",
       " 'CATAAAGAAACTATTTTGCGTTTCGTTCAGG',\n",
       " 'CAAGTGATATCCATCATCGCATCCAGTGCGC',\n",
       " 'AGTGCTGGACCATTTCAAATTCACAATAGAT',\n",
       " 'GGAATGATATTTCAATAAATAATTATAACAA',\n",
       " 'CAAGTGATATCCATCATCGCATCCAGTGCGC',\n",
       " 'AACGTCAGGTTGTCGCCGCTCTGCGTGGTCG',\n",
       " 'GACAGAACGGCCTCAGTAGTCTCGTCAGGCT',\n",
       " 'ACACGCCCTTATCAAATAGCTGTGATTTACCT',\n",
       " 'TGCATGGCTTTGGCTTCCTCTTTGACGGACG',\n",
       " 'AACGTCAGGTTGTCGCCGCTCTGCGTGGTCG',\n",
       " 'CATAAAGAAACTATTTTGCGTTTCGTTCAGG',\n",
       " 'TTTTACAGTGTCAACAATCGTTCCCTGATTG',\n",
       " 'CCCTCACACCGATTCGCCAAACGGTGGAGAA',\n",
       " 'GACAGAACGGCCTCAGTAGTCTCGTCAGGCT',\n",
       " 'ACACGCCCTTATCAAATAGCTGTGATTTACCT',\n",
       " 'GACAGAACGGCCTCAGTAGTCTCGTCAGGCT',\n",
       " 'GCAATGCTGGTGAGCGTTAATGCCGCAAACA',\n",
       " 'CAAGTGATATCCATCATCGCATCCAGTGCGC',\n",
       " 'AGTGCTGGACCATTTCAAATTCACAATAGAT',\n",
       " 'ACACGCCCTTATCAAATAGCTGTGATTTACCT',\n",
       " 'CAAGTGATATCCATCATCGCATCCAGTGCGC',\n",
       " 'AGTGCTGGACCATTTCAAATTCACAATAGAT',\n",
       " 'GACAGAACGGCCTCAGTAGTCTCGTCAGGCT',\n",
       " 'ACACGCCCTTATCAAATAGCTGTGATTTACCT',\n",
       " 'ATAGACCCCGAACAACAATACGCACAAACCG',\n",
       " 'GACAGAACGGCCTCAGTAGTCTCGTCAGGCT',\n",
       " 'ACACGCCCTTATCAAATAGCTGTGATTTACCT',\n",
       " 'CAAGTGATATCCATCATCGCATCCAGTGCGC',\n",
       " 'GACAGAACGGCCTCAGTAGTCTCGTCAGGCT',\n",
       " 'ACACGCCCTTATCAAATAGCTGTGATTTACCT',\n",
       " 'ATAGACCCCGAACAACAATACGCGCAAACCG',\n",
       " 'GACAGAACGGCCTCAGTAGTCTCGTCAGGCT',\n",
       " 'GACAGAACGGCCTCAGTAGTCTCGTCAGGCT',\n",
       " 'ACACGCCCTTATCAAATAGCTGTGATTTACCT',\n",
       " 'GACAGAACGGCCTCAGTAGTCTCGTCAGGCT',\n",
       " 'ACACGCCCTTATCAAATAGCTGTGATTTACCT',\n",
       " 'GGAATGATATTTCAATAAATAATTATAACAA',\n",
       " 'CCCTCACACCGATTCGCCAAACGGTGGAGAA',\n",
       " 'AGCTGGGCGAAATTTTGATTCATCGTGATGA',\n",
       " 'GGAATGATATTTCAATAAATAATTATAACAA',\n",
       " 'CCCTCACACCGATTCGCCAAACGGTGGAGAA',\n",
       " 'AGCTGGGCGAAATTTTGATTCATCGTGATGA',\n",
       " 'ACACGCCCTTACCAAATAGCTGTGATTTACCT',\n",
       " 'ATAGACCCCGAACAACAATACGCGCAAACCG',\n",
       " 'GACAGAACGGCCTCAGTAGTCTCGTCAGGCT',\n",
       " 'AACGTCAGGTTGTCGCCGCTCTGCGTGGTCG',\n",
       " 'TGCATGGCTTTGGCTTCCTCTTTGACGGACG',\n",
       " 'TACCGTACAGACTGCCGGATATTATTTTTTT',\n",
       " 'CTGCTGCTCGAGCTGGTGGAGTGCTGCTATA',\n",
       " 'GACAGAACGGCCTCAGTAGTCTCGTCAGGCT',\n",
       " 'ACACGCCCTTATCAAATAGCTGTGATTTACCT',\n",
       " 'ACACGCCCTTATCAAATAGCTGTGATTTACCT',\n",
       " 'TATAGAGATCGTTTTTGGAATTTACAGCGAG',\n",
       " 'GGCAATAGCGAACAACAAGGTCGGTTGTTTG',\n",
       " 'AGCTGGGCGAAATTTTGATTCATCGTGATGA',\n",
       " 'CCGCCGTTGGCACCGTCAAACTCCGGTACTG',\n",
       " 'CCGCCGTTGGCACCGTCAAACTCCGGTACTG',\n",
       " 'CCGCCGTTGGCACCGTCAAACTCCGGTACTG',\n",
       " 'TACCGTACAGACTGCCGGATATTATTTTTTT',\n",
       " 'CTGCTGCTCGAGCTGGTGGAGTGCTGCTATA',\n",
       " 'CCGCCGTTGGCACCGTCAAACTCCGGTACTG',\n",
       " 'TATAGAGATCGTTTTTGGAATTTACAGCGAG',\n",
       " 'CATAAAGAAACTATTTTGCGTTTCGTTCAGG',\n",
       " 'TTTTACAGTGTCAACAATCGTTCCCTGATTG',\n",
       " 'GACAGAACGGCCTCAGTAGTCTCGTCAGGCT',\n",
       " 'ACACGCCCTTATCAAATAGCTGTGATTTACCT',\n",
       " 'TACCGTACAGACTGCCGGATATTATTTTTTT',\n",
       " 'ACACGCCCTTATCAAATAGCTGTGATTTACCT',\n",
       " 'CAAGTGATATCCATCATCGCATCCAGTGCGC',\n",
       " 'AGCTGGGCGAAATTTTGATTCATCGTGATGA',\n",
       " 'AACGTCAGGTTGTCGCCGCTCTGCGTGGTCG',\n",
       " 'TGCATGGCTTTGGCTTCCTCTTTGACGGACG',\n",
       " 'ATATATCAGAGCAAAAAACAAAGCCACAGCC',\n",
       " 'GACAGAACGGCCTCAGTAGTCTCGTCAGGCT',\n",
       " 'AGTGCTGGACCATTTCAAATTCACAATAGAT',\n",
       " 'CCCTCACACCGATTCGCCAAACGGTGGAGAA',\n",
       " 'AGCTGGGCGAAATTTTGATTCATCGTGATGA',\n",
       " 'ATAGACCCCGAACAACAATACGCGCAAACCG',\n",
       " 'ACACGCCCTTATCAAATAGCTGTGATTTACCT',\n",
       " 'GACAGAACGGCCTCAGTAGTCTCGTCAGGCT',\n",
       " 'ACACGCCCTTATCAAATAGCTGTGATTTACCT',\n",
       " 'GACAGAACGGCCTCAGTAGTCTCGTCAGGCT',\n",
       " 'CAAGTGATATCCATCATCGCATCCAGTGCGC',\n",
       " 'ATAGACCCCGAACAACAATACGCGCAAACCG',\n",
       " 'CTGCTGCTCGAGCTGGTGGAGTGCTGCTATA',\n",
       " 'CCGTAAGTGGTTTGAGCGATGATATTTGTGC',\n",
       " 'ACACGCCCTTATCAAATAGCTGTGATTTACCT',\n",
       " 'TTTTACAGTGTCAACAATCGTTCCCTGATTG',\n",
       " 'GACAGAACGGCCTCAGTAGTCTCGTCAGGCT',\n",
       " 'ACACGCCCTTATCAAATAGCTGTGATTTACCT',\n",
       " 'TATAGAGATCGTTTTTGGAATTTACAGCGAG',\n",
       " 'CCGTAAGTGGTTTGAGCGATGATATTTGTGC',\n",
       " 'CAAGTGATATCCATCATCGCATCCAGTGCGC',\n",
       " 'AGTGCTGGACCATTTCAAATTCACAATAGAT',\n",
       " 'TACCGTACAGACTGCCGGATATTATTTTTTT',\n",
       " 'CTGCTGCTCGAGCTGGTGGAGTGCTGCTATA',\n",
       " 'GACAGAACGGCCTCAGTAGTCTCGTCAGGCT',\n",
       " 'ACACGCCCTTATCAAATAGCTGTGATTTACCT',\n",
       " 'ACACGCCCTTATCAAATAGCTGTGATTTACCT',\n",
       " 'ACACGCCCTTATCAAATAGCTGTGATTTACCT',\n",
       " 'GACAGAACGGCCTCAGTAGTCTCGTCAGGCT',\n",
       " 'ACACGCCCTTATCAAATAGCTGTGATTTACCT',\n",
       " 'AGTGCTGGACCATTTCAAATTCACAATAGAT',\n",
       " 'GGAATGATATTCCAATAAATAATTATAACAA',\n",
       " 'CCCTCACACCGATTCGCCAAACGGTGGAGAA',\n",
       " 'AACGTCAGGTTGTCGCCGCTCTGCGTGGTCG',\n",
       " 'GACAGAACGGCCTCAGTAGTCTCGTCAGGCT',\n",
       " 'ACACGCCCTTATCAAATAGCTGTGATTTACCT',\n",
       " 'GGAATGATATTTCAATAAATAATTATAACAA',\n",
       " 'CCCTCACACCGATTCGCCAAACGGTGGAGAA',\n",
       " 'GACAGAACGGCCTCAGTAGTCTCGTCAGGCT',\n",
       " 'ACACGCCCTTATCAAATAGCTGTGATTTACCT',\n",
       " 'ATAGACCCCGAACAACAATACGCGCAAACCG',\n",
       " 'TATAGAGATCGTTTTTGGAATTTACAGCGAG',\n",
       " 'CCGTAAGTGGTTTGAGCGATGATATTTGTGC',\n",
       " 'GACAGAACGGCCTCAGTAGTCTCGTCAGGCT',\n",
       " 'CATAAAGAAACTATTTTGCGTTTCGTTCAGG',\n",
       " 'GACAGAACGGCCTCAGTAGTCTCGTCAGGCT',\n",
       " 'ACACGCCCTTATCAAATAGCTGTGATTTACCT',\n",
       " 'ATAGACCCCGAACAACAATACGCGCAAACCG',\n",
       " 'CCGTAAGTGGTTTGAGCGATGATATTTGTG',\n",
       " 'ATAGACCCCGAACAACAATACGCGCAAACCG',\n",
       " 'TACCGTACAGACTGCCGGATATTATTTTTTT',\n",
       " 'TATAGAGATCGTTTTTGGAATTTACAGCGAG',\n",
       " 'GACAGAACGGCCTCAGTAGTCTCGTCAGGCT',\n",
       " 'GACAGAACGGCCTCAGTAGTCTCGTCAGGCT',\n",
       " 'ACACGCCCTTATCAAATACCTATGATTTACCT',\n",
       " 'CAAGTGATATCCATCATCGCATCCAGTGCGC',\n",
       " 'AGTGCTGGACCATTTCAAATTCACAATAGAT',\n",
       " 'GGAATGATATTTCAATAAATAATTATAACAA',\n",
       " 'ACACGCCCTTATCAAATAGCTGTGATTTACCT',\n",
       " 'ATAGACCCCGAACAACAATACGCGCAAACCG',\n",
       " 'CCCTCACACCGATTCGCCAAACGGTGGAGAA',\n",
       " 'AGCTGGGCGAAATTTTGATTCATCGTGATGA',\n",
       " 'TACCGTACAGACTGCCGGATATTATTTTTTT',\n",
       " 'CTGCTGCTCGAGCTGGTGGAGTGCTGCTATA',\n",
       " 'GACAGAACGGCCTCAGTAGTCTCGTCAGGCT',\n",
       " 'GACAGAACGGCCTCAGTAGTCTCGTCAGGCT',\n",
       " 'ACACGCCCTTATCAAATAGCTGTGATTTACCT',\n",
       " 'GACAGAACGGCCTCAGTAGTCTCGTCAGGCT',\n",
       " 'ATAGACCCCGAACAACAATACGCGCAAACCG',\n",
       " 'TACCGTACAGACTGCCGGATATTATTTTTTT',\n",
       " 'CAAGTGATATCCATCATCGCATCCAGTGCGC',\n",
       " 'AGTGCTGGACCATTTCAAATTCACAATAGAT',\n",
       " 'ATAGACCCCGAACAACAATACGCGCAAACCG',\n",
       " 'CCGTAAGTGGTTTGAGCGATGATATTTGTGC',\n",
       " 'CCCTCACACCGATTCGCCAAACGGTGGAGAA',\n",
       " 'AGCTGGGCGAAATTTTGATTCATCGTGATGA',\n",
       " 'GGAATGATATTTCAATAAATAATTATAACAA',\n",
       " 'CCCTCACACCGATTCGCCAAACGGTGGAGAA',\n",
       " 'ACACGCCCTTATCAAATAGCTGTGATTTACCT',\n",
       " 'ACACGCCCTTATCAAATAGCTATGATTTACCT',\n",
       " 'CAAGTGATATCCATCATCGCATCCAGTGCGC',\n",
       " 'AGTGCTGGACCATTTCAAATTCACAATAGAT',\n",
       " 'TGCATGGCTTTGGCTTCCTCTTTGACGGACG',\n",
       " 'ATATATCAGAGCAAAAAACAAAGCCACAGCC',\n",
       " 'GACAGAACGGCCTCAGTAGTCTCGTCAGGCT',\n",
       " 'CAAGTGATATCCATCATCGCATCCAGTGCGC',\n",
       " 'AGTGCTGGACCATTTCAAATTCACAATAGAT',\n",
       " 'GGAATGATATTTCAATAAATAATTATAACAA',\n",
       " 'ATATATCAGAGCAAAAAACAAAGCCACAGCC',\n",
       " 'TACCGTACAGACTGCCGGATATTATTTTTTT',\n",
       " 'AGTGCTGGACCATTTCAAATTCACAATAGAT',\n",
       " 'GGAATGATATTTCAATAAATAATTATAACAA',\n",
       " 'AGCATGGCTTTGGCTTCCTCTTTGACGGACG',\n",
       " 'AGCTGGGCGAAATTTTGATTCATCGTGATGA',\n",
       " 'CAAGTGATATCCATCATCGCATCCAGTGCGC',\n",
       " 'AGTGCTGGATCATTTCAAATTCACAATAGAT',\n",
       " 'GGAATGATATTTCAATAAATAATTATAACAA',\n",
       " 'GACAGAACGGCCTCAGTAGTCTCGTCAGGCT',\n",
       " 'CCGCCGTTGGCACCGTCAAACTCCGGTACTG',\n",
       " 'TATAGAGATCGTTTTTGGAATTTACAGCGAG',\n",
       " 'CTGCTGCTCGAGCTGGTGGAGTGCTGCTATA',\n",
       " 'CAAGTGATATCCATCATCGCATCCAGTGCGC',\n",
       " 'AGTGCTGGACCATTTCAAATTCACAATAGAT',\n",
       " 'CAAGTGATATCCATCATCGCATCCAGTGCGC',\n",
       " 'ATATATCAGAGCAAAAAACAAAGCCACAGCC',\n",
       " 'CCGTAAGTGGTTTGAGCGATGATATTTGTGC',\n",
       " 'GACAGAACGGCCTCAGTAGTCTCGTCAGGCT',\n",
       " 'GACAGAACGGCCTCAGTAGTCTCGTCAGGCT',\n",
       " 'ATAGACCCCGAACAACAATACGCGCAAACCG',\n",
       " 'TACCGTACAGACTGCCGGATATTATTTTTTT',\n",
       " 'CAAGTGATATCCATCATCGCATCCAGTGCGC',\n",
       " 'GACAGAACGGCCTCAGTAGTCTCGTCAGGCT',\n",
       " 'CTGCTGCTCGAGCTGGTGGAGTGCTGCTATA',\n",
       " 'CAAGTGATATCCATCATCGCATCCAGTGCGC',\n",
       " 'TATAGAGATCGTTTTTGGAATTTACAGCGAG',\n",
       " 'ACACGCCCTTATCAAATAGCTGTGATTTACCT',\n",
       " 'TACCGTACAGACTGCCGGATATTATTTTTTT',\n",
       " 'GACAGAACGGCCTCAGTAGTCTCGTCAGGCT',\n",
       " 'ACACGCCCTTATCAAATAGCTGTGATTTACCT',\n",
       " 'ATAGACCCCGAACAACAATACGCGCAAACCG',\n",
       " 'CAAGTGATATCCATCATCGCATCCAGTGCGC',\n",
       " 'AGTGCTGGACCATCTCAAATTCACAATAGAT',\n",
       " 'TTTTACAGTGTCAACAATCGTTCCCTGATTG',\n",
       " 'CCGCCGTTGGCACCGTCAAACTCCGGTACTG',\n",
       " 'TATAGAGATCGTTTTTGGAATTTACAGCGAG',\n",
       " 'CTGCTGCTCGAGCTGGTGGAGTGCTGCTATA',\n",
       " 'CAAGTGATATCCATCATCGCATCCAGTGCGC',\n",
       " 'GACAGAACGGCCTCAGTAGTCTCGTCAGGCT',\n",
       " 'ACACGCCCTTATCAAATAGCTGTGATTTACCT',\n",
       " 'CAAGTGATATCCATCATCGCATCCAGTGCGC',\n",
       " 'AGTGCTGGACCATTTCAAATTCACAATAGAT',\n",
       " 'CCGCCGTTGGCACCGTCAAACTCCGGTACTG',\n",
       " 'GACAGAACGGCCTCAGTAGTCTCGTCAGGCT',\n",
       " 'ACACGCCCTTATCAAATAGCTGTGATTTACCT',\n",
       " 'GACAGAACGGCCTCAGTAGTCTCGTCAGGCT',\n",
       " 'ACACGCCCTTATCAAATAGCTGTGATTTACCT',\n",
       " 'GACAGAACGGCCTCAGTAGTCTCGTCAGGCT',\n",
       " 'GACAGAACGGCCTCAGTAGTCTCGTCAGGCT',\n",
       " 'ACACGCCCTTATCAAATAGCTGTGATTTACCT',\n",
       " 'TGCATGGCTTTGGCTTCCTCTTTGACGGACG',\n",
       " 'GACAGAACGGCCTCAGTAGTCTCGTCAGGCT',\n",
       " 'ACACGCCCTTATCAAATAGCTGTGATTTACCT',\n",
       " 'ATAGACCCCGAACAACAATACGCGCAAACCG',\n",
       " 'TACCGTACAGACTGCCGGATATTATTTTTTT',\n",
       " 'CTGCTGCTCGAGCTGGTGGAGTGCTGCTATA',\n",
       " 'CAAGTGATATCCATCATCGCATCCAGTGCGC',\n",
       " 'CAGCGTCAGGCGTGAAATCTCACCGTCGTTG',\n",
       " 'CAAGCGATGTCCATCATCGCATCCAGTGCGC',\n",
       " 'AGTGCTGGACCGTTTCAAATTCACAATAGAT',\n",
       " 'GGAATGATATTTCAATAAATAATTATAACAA',\n",
       " 'ATAGACCCCGAACAACAATACGCGCAAACCG',\n",
       " 'TACCGTACAGACTGCCGGATATTATTTTTTT',\n",
       " 'GACAGAACGGCCTCAGTAGTCTCGTCAGGCT',\n",
       " 'ACACGCCCTTATCAAATAGCTGTGATTTACCT',\n",
       " 'AGTGCTGGACCATTTCAAATTCACAATAGAT',\n",
       " 'AACGTCAGGTTGTCGCCGCTCTGCGTGGTCG',\n",
       " 'TGCATGGCTTTGGCTTCCTCTTTGACGGACG',\n",
       " 'CCCTCACACCGATTCGCCAAACGGTGGAGAA',\n",
       " 'AGCTGGGCGAAATTTTGATTCATCGTGATGA',\n",
       " 'CAAGTGATATCCATCATCGCATCCAGTGCGC',\n",
       " 'CAAGTGATATCCATCATCGCATCCAGTGCGC',\n",
       " 'AGTGCTGGACCATTTCAAATTCACAATAGAT',\n",
       " 'ATAGACCCCGAACAACAATACGCGCAAACCG',\n",
       " 'TACCGTACAGACTGCCGGATATTATTTTTTT',\n",
       " 'GACAGAACGGCCTCAGTAGTCTCGTCAGGCT',\n",
       " 'ACACGCCCTTATCAAATAGCTGTGATTTACCT',\n",
       " 'CAAGTGATATCCATCATCGCATCCAGTGCGC',\n",
       " 'AGTGCTGGACCATTTCAAATTCACAATAGAT',\n",
       " 'GACAGAACGGCCTCAGTAGTCTCGTCAGGCT',\n",
       " 'ACACGCCCTTATCAAATAGCTGTGATTTACCT',\n",
       " 'ATAGACCCCGAACAACAATACGCGCAAACCG',\n",
       " 'AGTGCTGGACCATTTCAAATTCACAATAGAT',\n",
       " 'GACAGAACGGCCTCAGTAGTCTCGTCAGGCT',\n",
       " 'ACGCCCTTATCAAATAGCTGTGATTTACCT',\n",
       " 'ATAGACCCCGAACAACAATACGCGCAAACCG',\n",
       " 'GACAGAACGGCCTCAGTAGTCTCGTCAGGCT',\n",
       " 'ACACGCCCTTATCAAATAGCTGTGATTTACCT',\n",
       " 'CAAGTGATATCCATCATCGCATCCAGTGCGC',\n",
       " 'CAAGTGATATCCATCATCGCATCCAGTGCGC',\n",
       " 'GACAGAACGGCCTCAGTAGTCTCGTCAGGCT',\n",
       " 'ACACGCCCTTATCAAATAGCTGTGATTTACCT',\n",
       " 'ATAGACCCCGAACAACAATACGCGCAAACCG',\n",
       " 'CAAGTGATATCCATCATCGCATCCAGTGCGC',\n",
       " 'AGTGCTGGACCATTTCAAATTCACAATAGAT',\n",
       " 'AGCTGGGCGAAATTTTGATTCATCGTGATGA',\n",
       " 'CAAGTGATATCCATCATCGCATCCAGTGCGC',\n",
       " 'AGTGCTGGACCATTTCAAATTCACAATAGAT',\n",
       " 'GACAGAACGGCCTCAGTAGTCTCGTCAGGCT',\n",
       " 'CAAGTGATATCCATCATCGCATCCAGTGCGC',\n",
       " 'CTGCTGCTCGAGCTGGTGGAGTGCTGCTATA',\n",
       " 'ACACGCCCTTATCAAATAGCTGTGATTTACCT',\n",
       " 'GACAGAACGGCCTCAGTAGTCTCGTCAGGCT',\n",
       " 'ACACGCCCTTATCAAATAGCTGTGATTTACCT',\n",
       " 'GACAGAACGGCCTCAGTAGTCTCGTCAGGCT',\n",
       " 'ACACGCCCTTATCAAATAGCTGTGATTTACCT',\n",
       " 'ATAGACCCCGAACAACAATACGCGCAAACCG',\n",
       " 'TGCATGGCTTTGGCTTCCTCTTTGACGGACG',\n",
       " 'ATAGACCCCGAACAACAATACGCGCAAACCG',\n",
       " 'ATAGACCCCGAACAACAATACGCGCAAACCG',\n",
       " 'GGAATGATATTTCAATAAATAATTATAACAA',\n",
       " 'CCCTCACACCGATTCGCCAAACGGTGGAGAA',\n",
       " 'TCGGTTCAGGCGTTGCAAACCTGGCTACCGG',\n",
       " 'GTAGTCCATCATTCCACCTATGTCTGAACTC',\n",
       " 'TGCATGGCTTTGGCTTCCTCTTTGACGGACG',\n",
       " 'AGTGCTGGACCATTTCAAATTCACAATAGAT',\n",
       " 'GACAGAACGGCCTCAGTAGTCTCGTCAGGCT',\n",
       " 'ACACGCCCTTATCAAATAGCTGTGATTTACCT',\n",
       " 'ATAGACCCCGAACAACAATACGCGCAAACCG',\n",
       " 'ATAGACCCCGAACAACAATACGCGCAAACCG',\n",
       " 'TACCGTACAGACTGCCGGATATTATTTTTTT',\n",
       " 'CTGCTGCTCGAGCTGGTGGAGTGCTGCTATA',\n",
       " 'CCGTAAGTGGTTTGAGCGATGATATTTGTGC',\n",
       " 'AGTGCTGGACCATTTCAAATTCACAATAGAT',\n",
       " 'GACAGAACGGCCTCAGTAGTCTCGTCAGGCT',\n",
       " 'CAAGTGATATCCATCATCGCATCCAGTGCGC',\n",
       " 'AGTGCTGGACCATTTCAAATTCACAATAGAT',\n",
       " 'GGAATGATATTTCAATAAATAATTATAACAA',\n",
       " 'ATATATCAGAGCAAAAAACAAAGCCACAGCC',\n",
       " 'CTGCTGCTCGAGCTGGTGGAGTGCTGCTATA',\n",
       " 'TGCATGGCTTTGGCTTCCTCTTTGACGGACG',\n",
       " 'CATAAAGAAACTATTTTGCGTTTCGTTCAGG',\n",
       " 'TTTTACAGTGTCAACAATCGTTCCCTGATTG',\n",
       " 'CCGCCGTTGGCACCGTCAAACTCCGGTACTG',\n",
       " 'CCGCCGTTGGCACCGTCAAACTCCGGTACTG',\n",
       " 'TATAGAGATCGTTTTTGGAATTTACAGCGAG',\n",
       " 'ACACGCCCTTATCAAATAGCTGTGATTTACCT',\n",
       " 'CCCTCACACCGATTCGCCAAACGGTGGAGAA',\n",
       " 'AGCTGGGCGAAATTTTGATTCATCGTGATGA',\n",
       " 'GACAGAACGGCCTCAGTAGTCTCGTCAGGCT',\n",
       " 'GACAGAACGGCCTCAGTAGTCTCGTCAGGCT',\n",
       " 'ACACGCCCTTATCAAATAGCTGTGATTTACCT',\n",
       " 'CCGTAAGTGGTTTGAGCGATGATATTTGTGC',\n",
       " 'GACAGAACGGCCTCAGTAGTCTCGTCAGGCT',\n",
       " 'TACCGTACAGACTGCCGGATATTATTTTTTT',\n",
       " 'GACAGAACGGCCTCAGTAGTCTCGTCAGGCT',\n",
       " 'ACACGCCCTTATCAAATAGCTGTGATTTACCT',\n",
       " 'GACAGAACGGCCTCAGTAGTCTCGTCAGGCT',\n",
       " 'GACAGAACGGCCTCAGTAGTCTCGTCAGGCT',\n",
       " 'ACACGCCCTTATCAAATAGCTGTGATTTACCT',\n",
       " 'GACAGAACGGCCTCAGTAGTCTCGTCAGGCT',\n",
       " 'ACACGCCCTTATCAAATAGCTGTGATTTACCT',\n",
       " 'CAAGTGATATCCATCATCGCATCCAGTGCGC',\n",
       " 'AGTGCTGGACCATTTCAAATTCACAATAGAT',\n",
       " 'CAAGTGATATCCATCATCGCATCCAGTGCGC',\n",
       " 'AGTGCTGGACCATTTCAAATTCACAATAGAT',\n",
       " 'GGAATGATATTTCAATAAATAATTATAACAA',\n",
       " 'GACAGAACGGCCTCAGTAGTCTCGTCAGGCT',\n",
       " 'ACACGCCCTTATCAAATAGCTGTGATTTACCT',\n",
       " 'ATAGACCCCGAACAACAATACGCGCAAACCG',\n",
       " 'GACAGAACGGCCTCAGTAGTCTCGTCAGGCT',\n",
       " 'ACACGCCCTTATCAAATAGCTGTGATTTACCT',\n",
       " 'AGCTGGGCGAAATTTTGATTCATCGTGATGA',\n",
       " 'GACAGAACGGCCTCAGTAGTCTCGTCAGGCT',\n",
       " 'ACACGCCCTTATCAAATAGCTGTGATTTACCT',\n",
       " 'GACAGAACGGCCTCAGTAGTCTCGTCAGGCT',\n",
       " 'AGTGCTGGACCATTTCAAATTCACAATAGAT',\n",
       " 'GGAATGATATTTCAATAAATAATTATAACAA',\n",
       " 'ATAGACCCCGAGCAACAATACGCGCAAACCG',\n",
       " 'TAGTTTCCGTATCTCCGGATTTATAAAGCTG',\n",
       " 'CCCTCACACCGATTCGCCAAACGGTGGAGAA',\n",
       " 'CCGGGGGATAATGTTTACGGTCATGCGCCCC',\n",
       " 'TGGGCGGCTTGCCTTGCAGCCAGCTCCAGCA',\n",
       " 'ACACGCCCTTATCAAATAGCTGTGATTTACCT',\n",
       " 'GACAGAACGGCCTCAGTAGTCTCGTCAGGCT',\n",
       " 'AACGTCAGGTTGTCGCCGCTCTGCGTGGTCG',\n",
       " 'TGCATGGCTTTGGCTTCCTCTTTGACGGACG',\n",
       " 'CCCTCACACCGATTCGCCAAACGGTGGAGAA',\n",
       " 'AGCTGGGCGAAATTTTGATTCATCGTGATGA',\n",
       " 'CTGCTGCTCGAGCTGGTGGAGTGCTGCTATA',\n",
       " 'AACGTCAGGTTGTCGCCGCTCTGCGTGGTCG',\n",
       " 'CAAGTGATATCCATCATCGCATCCAGTGCGC',\n",
       " 'GACAGAACGGCCTCAGTAGTCTCGTCAGGCT',\n",
       " 'ACACGCCCTTATCAAATAGCTGTGATTTACCT',\n",
       " 'ACACGCCCTTATCAAATAGCTGTGATTTACCT',\n",
       " 'ATAGACCCCGAACAACAATACGCGCAAACCG',\n",
       " 'AGTGCTGGACCATTTCAAATTCACAATAGAT',\n",
       " 'ATAGACCCCGAACAACAATACGCGCAAACCG',\n",
       " 'TACCGTACAGACTGCCGGATATTATTTTTTT',\n",
       " 'GACAGAACGGCCTCAGTAGTCTCGTCAGGCT',\n",
       " 'ACACGCCCTTATCAAATAGCTGTGATTTACCT',\n",
       " 'ATAGGCCCCGAACAACAATACGCGCAAACCG',\n",
       " 'GACAGAACGGCCTCAGTAGTCTCGTCAGGCT',\n",
       " 'ACACGCCCTTATCAAATAGCTGTGATTTACCT',\n",
       " 'GACAGAACGGCCTCAGTAGTCTCGTCAGGCT',\n",
       " 'ACACGCCCTTATCAAATAGCTGTGATTTACCT',\n",
       " 'CAAGTGATATCCATCATCGCATCCAGTGCGC',\n",
       " 'AGTGCTGGACCATTTCAAATTCACAATAGAT',\n",
       " 'GGAATGATATTTCAATAAATAATTATAACAA',\n",
       " 'GACAGAACGGCCTCAGTAGTCTCGTCAGGCT',\n",
       " 'CAAGTGATATCCATCATCGCATCCAGTGCGC',\n",
       " 'AGTGCTGGACCATTTCAAATTCACAATAGAT',\n",
       " 'GACAGAACGGCCTCAGTAGTCTCGTCAGGCT',\n",
       " 'CTGTTTTCGCAAATCTATGGACTATTGCTAT',\n",
       " 'CAAGTGATATCCATCATCGCATCCAGTGCGC',\n",
       " 'AGTGCTGGACCATTTCAAATTCACAATAGAT',\n",
       " 'GACAGAACGGCCTCAGTAGTCTCGTCAGGCT',\n",
       " 'CAAGTGATATCCACCATCGCATCCAGTGCGC',\n",
       " 'CCCTCACACCGATTCGCCAAACGGTGGAGAA',\n",
       " 'AGCTGGGCGAAATTTTGATTCATCGTGATGA',\n",
       " 'GACAGAACGGCCTCAGTAGTCTCGTCAGGCT',\n",
       " 'TGCATGGCTTTGGCTTCCTCTTTGACGGACG',\n",
       " 'AACGTCAGGTTGTCGCCGCTCTGCGTGGTCG',\n",
       " 'GACAGAACGGCCTCAGTAGTCTCGTCAGGCT',\n",
       " 'ACACGCCCTTATCAAATAGCTGTGATTTACCT',\n",
       " 'TATAGAGATCGTTTTTGGAATTTACAGCGAG',\n",
       " 'CCGTAAGTGGTTTGAGCGATGATATTCGTGC',\n",
       " 'AAGCTGGCTGGCAATCTCTTTCGGGGTGAGT',\n",
       " 'TAGTTTCCGTATCTCCGGATTTATAAAGCTG',\n",
       " 'CAAGTGATATCCATCATCGCATCCAGTGCGC',\n",
       " 'AGTGCTGGACCATTTCAAATTCACAATAGAT',\n",
       " 'GACAGAACGGCCTCAGTAGTCTCGTCAGGCT',\n",
       " 'TATAGAGATCGTTTTTGGAATTTACAGCGAG',\n",
       " 'CCGTAAGTGGTTTGAGCGATGATATTTGTGC',\n",
       " 'CAAGTGATATCCATCATCGCATCCGGTGCGC',\n",
       " 'AGTGCTGGACCATTTCAAATTCACAATAGAT',\n",
       " 'TGCATGGCTTTGGCTTCCTCTTTGACGGACG',\n",
       " 'AGTGCTGGACCATTTCAAATTCACAATAGAC',\n",
       " 'GGAATGATATTTCAATAAATAATTATAATAA',\n",
       " 'CCCTCACACCGATTCGCCAAACGGTGGAGAA',\n",
       " 'TATAGAGATCGTTTTTGGAATTTACAGCGAG',\n",
       " 'GACAGAACGGCCTCAGTAGTCTCGTCAGGCT',\n",
       " 'GACAGAACGGCCTCAGTAGTCTCGTCAGGCT',\n",
       " 'CAAGTGATATCCATCATCGCATCCAGTGCGC',\n",
       " 'AGTGCTGGACCATTTCAAATTCACAATAGAT',\n",
       " 'AGTGCTGGACCATTTCAAATTCACAATAGAT',\n",
       " 'GGAATGATATTTCAATAAATAATTATAACAA',\n",
       " 'TGCATGGCTTTGGCTTCCTCTTTGACGGACG',\n",
       " 'CATAAAGAAACTATTTTGCGTTTCGTTCAGG',\n",
       " 'CCGTAAGTGGTTTGAGCGATGATATTTGTGC',\n",
       " 'CTGCTGCTCGAGCTGGTGGAGTGCTGCTATA',\n",
       " 'GACAGAACGGCCTCAGTAGTCTCGTCAGGCT',\n",
       " 'ACACGCCCTTATCAAATAGCTGTGATTTACCT',\n",
       " 'ATAGACCCCGAACAACAATACGCGCAAACCG',\n",
       " 'TATAGAGATCGTTTTTGGAATTTACAGCGAG',\n",
       " 'ATATATCAGAGCAAAAAACAAAGCCACAGCC',\n",
       " 'CATAAAGAAACTATTTTGCGTTTCGTTCAGG',\n",
       " 'TTTTACAGTGTCAACAATCGTTCCCTGATTG',\n",
       " 'CAAGTGATATCCATCATCGCATCCAGTGCGC',\n",
       " 'AGTGCTGGACCATTTCAAATTCACAATAGAT',\n",
       " 'AGCTGGGCGAAATTTTGATTCATCGTGATGA',\n",
       " 'GACAGAACGGCCTCAGTAGTCTCGTCAGGCT',\n",
       " 'ACACGCCCTTATCAAATAGCTGTGATTTACCT',\n",
       " 'AACGTCAGGTTGTCGCCGCTCTGCGTGGTCG',\n",
       " 'ACACGCCCTTATCAAATAGCTGTGATTTACCT',\n",
       " 'ATAGACCCCGAACAACAATACGCGCAAACCG',\n",
       " 'TATAGAGATCGTTTTTGAAATTTACAGCGAG',\n",
       " 'CCGTAAGTGGTTTGAGCGATGATATTTGTGC',\n",
       " 'ATAGACCCCGAACAACAATACGCGCAAACCG',\n",
       " 'TACCGTACAGACTGCCGGATATTATTTTTTT',\n",
       " 'CTGCTGCTCGAGCTGGTGGAGTGCTGCTATA',\n",
       " 'ACACGCCCTTATCAAATAGCTGTGATTTACCT',\n",
       " 'ATAGACCCCGAACAACAATACGCGCAAACCG',\n",
       " 'GACAGAACGGCCTCAGTAGTCTCGTCAGGCT',\n",
       " 'ACACGCCCTTATCAAATAGCTGTGATTTACCT',\n",
       " 'ATAGACCCCGAACAACAATACGCGCAAACCG',\n",
       " 'ACACGCCCTTATCAAATAGCTGTGATTTACCT',\n",
       " 'GACAGAACGGCCTCAGTAGTCTCGTCAGGCT',\n",
       " 'GGAATGATATTTCAATAAATAATTATAACAA',\n",
       " 'CCCTCACACCGATTCGCCAAACGGTGGAGAA',\n",
       " 'AGCTGGGCGAAATTTTGATTCATCGTGATGA',\n",
       " 'ATAGACCCCGAACAACAATACGCGCAAACCG',\n",
       " 'CAAGTGATATCCATCATCGCATCCAGTGCGC',\n",
       " 'ATAGACCCCGAACAACAATACGCGCAAACCG',\n",
       " 'CAAGTGATATCCATCATCGCATCCAGTGCGC',\n",
       " 'CAAGTGATATCCATCATCGCATCCAGTGCGC',\n",
       " 'AGTGCTGGACCATTTCAAATTCACAATAGAT',\n",
       " 'GGAATAATATTTCAATAAATAATTATAACAA',\n",
       " 'GGAATGATATTTCAATAAATAATTATAACAA',\n",
       " 'CCCTCACACCGATTCGCCAAACGGTGGAGAA',\n",
       " 'AGCTGGGCGAAATTTTGATTCATCGTGATGA',\n",
       " 'CCCTCACACCGATTCGCCAAACGGTGGAGAA',\n",
       " 'AGCTGGGCGAAATTTTGATTCATCGTGATGA',\n",
       " 'GACAGAACGGCCTCAGTAGTCTCGTCAGGCT',\n",
       " 'GACAGAACGGCCTCAGTAGTCTCGTCAGGCT',\n",
       " 'AGTGCTGGACCATTTCAAATTCACAATAGAT',\n",
       " 'CAAGTGATATCCATCATCGCATCCAGTGCGC',\n",
       " 'CCGCCGTTGGCACCGTCAAACTCCGGTACTG',\n",
       " 'GACAGAACGGCCTCAGTAGTCTCGTCAGGCT',\n",
       " 'ACACGCCCTTATCAAATAGCTGTGATTTACCT',\n",
       " 'ATAGACCCCGAACAACAATACGCGCAAACCG',\n",
       " 'AACGTCAGGTTGTCGCCGCTCTGCGTGGTCG',\n",
       " 'GACAGAACGGCCTCAGTAGTCTCGTCAGGCT',\n",
       " 'ACACGCCCTTATCAAATAGCTGTGATTTACCT',\n",
       " 'GACAGAACGGCCTCAGTAGTCTCGTCAGGCT',\n",
       " 'ACACGCCCTTATCAAATAGCTGTGATTTACCT',\n",
       " 'TTTTACAGTGTCAACAATCGTTCCCTGATTG',\n",
       " 'CAAGTGATATCCATCATCGCATCCAGTGCGC',\n",
       " 'AGTGCTGGACCATTTCAAATTCACAATAGAT',\n",
       " 'GGAATGATATTTCAATAAATAATTATAACAA',\n",
       " 'AAGCTGGCTGGCAATCTCTTTCGTGGTGAGT',\n",
       " 'TAGTTTCCGTATCTCCGGATTTATAAAGCTG',\n",
       " 'ATATATCAGAGCAAAAAACAAAGCCACAGCC',\n",
       " 'ATAGACCCCGAACAACAATACGCGCAAACCG',\n",
       " 'CTGCTGCTCGAGCTGGTGGAGTGCTGCTATA',\n",
       " 'CAAGTGATATCCATCATCGCATCCAGTGCGC',\n",
       " 'AGTGCTGGACCATTTCAAATTCACAATAGAT',\n",
       " 'GGAATGATATTTCAATAAATAATTATAACAA',\n",
       " 'CATAAAGAAACTATTTTGCGTTTCGTTCAGG',\n",
       " 'TTTTACAGTGTCAACAATCGTTCCCTGATTG',\n",
       " 'ACACGCCCTTATCAAATAGCTGTGATTTACCT',\n",
       " 'ATAGACCCCGAACAACAATACGCGCAAACCG',\n",
       " 'GACAGAACGGCCTCAGTAGTCTCGTCAGGCT',\n",
       " 'GACAGAACGGCCTCAGTAGTCTCGTCAGGCT',\n",
       " 'GACAGAACGGCCTCAGTAGTCTCGTCAGGCT',\n",
       " 'CTGCTGCTCGAGCTGGTGGAGTGCTGCTATA',\n",
       " 'CCGTAAGTGGTTTGAGCGATGATATTTGTGC',\n",
       " 'GACAGAACGGCCTCAGTAGTCTCGTCAGGCT',\n",
       " 'AACGTCAGGTTGTCGCCGCTCTGCGTGGTCG',\n",
       " 'CAAGTGATATCCATCATCGCATCCAGTGCGC',\n",
       " 'AGTGCTGGACCATTTCAAATTCACAATAGAT',\n",
       " 'GGAATGATATTTCAATAAATAATTATAACAA',\n",
       " 'ACACGCCCTTATCAAATAGCTGTGATTTACCT',\n",
       " 'ATAGACCCCGAACAACAGTACGCGCAAACCG',\n",
       " 'TACCGTACAGACTGCCGGATATTATTTTTTT',\n",
       " 'ATAGACCCCGAACAACAATACGCGCAAACCG',\n",
       " 'ACACGCCCTTATCAAATAGCTGTGATTTACCT',\n",
       " 'CTGCTGCTCGAGCTGGTGGAGTGCTGCTATA',\n",
       " 'AACGTCAGGTTGTCGCCGCTCTGCGTGGTCG',\n",
       " 'GACAGAACGGCCTCAGTAGTCTCGTCAGGCT',\n",
       " 'ACACGCCCTTATCAAATAGCTGTGATTTACCT',\n",
       " 'CAAGTGATATCCATCATCGCATCCAGTGCGC',\n",
       " 'ACACGCCCTTATCAAATAGCTGTGATTTACCT',\n",
       " 'CAAGTGATATCCATCATCGCATCCAGTGCGC',\n",
       " 'AGTGCTGGACCATTTCAAATTCACAATAGAT',\n",
       " 'GACAGAACGGCCTCAGTAGTCTCGTCAGGCT',\n",
       " 'ACACGCCCTTATCAAATAGCTGTGATTTACCT',\n",
       " 'CATAAAGAAACTATTTTGCGTTTCGTTCAGG',\n",
       " 'GACAGAACGGCCTCAGTAGTCTCGTCAGGCT',\n",
       " 'ACACGCCCTTATCAAATAGCTGTGATTTACCT',\n",
       " 'ATAGACCCCGAACAACAATACGCGCAAACCG',\n",
       " 'ATATATCAGAGCAAAAAACAAAGCCACAGCC',\n",
       " 'GACAGAACGGCCTCAGTAGTCTCGTCAGGCT',\n",
       " 'CTGCTGCTCGAGCTGGTGGAGTGCTGCTATA',\n",
       " 'AACGTCAGGTTGTCGCCGCTCTGCGTGGTCG',\n",
       " 'CCCTCACACCGATTCGCCAAACGGTGGAGAA',\n",
       " 'GACAGAACGGCCTCAGTAGTCTCGTCAGGCT',\n",
       " 'ACACGCCCTTATCAAATAGCTGTGATTTACCT',\n",
       " 'ATAGACCCCGAACAACAATACGCGCAAACCG',\n",
       " 'CCGTAAGTGGTTTGAGCGATGATATTTGTGC',\n",
       " 'CAAGTGATATCCATCATCGCATCCAGTGCGC',\n",
       " 'AGTGCTGGACCATTTCAAATTCACAATAGAT',\n",
       " 'AGCTGGGCGAAATTTTGATTCATCGTGATGA',\n",
       " 'GACAGAACGGCCTCAGTAGTCTCGTCAGGCT',\n",
       " 'GACAGAACGGCCTCAGTAGTCTCGTCAGGCT',\n",
       " 'GACAGAACGGCCTCAGTAGTCTCGTCAGGCT',\n",
       " 'ACACGCCCTTATCAAATAGCTGTGATTTACCT',\n",
       " 'TATAGAGATCGTTTTTGGAATTTACAGCGAG',\n",
       " 'CCGTAATTGGTTTGAGCGATGATATTTGTGC',\n",
       " 'CAAGTGATATCCGTCATCGCATCCAGTGCGC',\n",
       " 'AATGCTGGACCATTTCAAATTCACAATAGAT',\n",
       " 'GACAGAACGGCCTCAGTAGTCTCGTCAGGCT',\n",
       " 'CATAAAGAAACTATTTTGCGTTTCGTTCAGG',\n",
       " 'TTTTACAGTGTCAACAATCGTTCCCTGATTG',\n",
       " 'GGAATGATATTTCAATAAATAATTATAACAA',\n",
       " 'CCCTCACACCGATTCGCCAAACGGTGGAGAA',\n",
       " 'TATAGAGATCGTTTTTGGAATTTACAGCGAG',\n",
       " 'CCGTAAGTGGTTTGAGCGATGATATTTGTGC',\n",
       " 'CCGTAAGTGGTTTGAGCGATGATATTTGTGC',\n",
       " 'ACACGCCCTTATCAAATAGCTGTGATTTACCT',\n",
       " 'AACGTCAGGTTGTCGCCGCTCTGCGTGGTCG',\n",
       " 'TGCATGGCTTTGGCTTCCTCTTTGACGGACG',\n",
       " 'ATATATCAGAGCAAAAAACAAAGCCACAGCC',\n",
       " 'ATATATCAGAGCAAAAAACAAAGCCACAGCC',\n",
       " 'AAGCTGGCTGGCAATCTCTTTCGGGGTGAGT',\n",
       " 'TGCATGGCTTTGGCTTCCTCTTTGACGGACG',\n",
       " 'ATAGACCCCGAACAACAATACGCGCAAACCG',\n",
       " 'GACAGAACGGCCTCAGTAGTCTCGTCAGGCT',\n",
       " 'CCGTAAGTGGTTTGAGCGATGATATTTGTGC',\n",
       " 'CAAGTGATATCCATCATCGCATCCAGTGCGC',\n",
       " 'AGTGCTGGACCATTTCAAATTCACAATAGAT',\n",
       " 'GGAATGATATTTCAATAAATAATTATAACAA',\n",
       " 'CCCTCACACCGATTCGCCAAACGGTGAAGAA',\n",
       " 'GACAGAACGGCCTCAGTAGTCTCGTCAGGCT',\n",
       " 'GACAGAACGGCCTCAGTAGTCTCGTCAGGCT',\n",
       " 'ACACGCCCTTATCAAATAGCTGTGATTTACCG',\n",
       " 'GGAATGATATTTCAATAAATAATTATAACAA',\n",
       " 'TGCATGGCTTTGGCTTCCTCTTTGACGGACG',\n",
       " 'GACAGAACGGCCTCAGTAGTCTCGTCAGGCT',\n",
       " 'GACAGAACGGCCTCAGTAGTCTCGTCAGGCT',\n",
       " 'TATAGAGATCGTTTTTGGAATTTACAGCGAG',\n",
       " 'GACAGAACGGCCTCAGTAGTCTCGTCAGGCT',\n",
       " 'ATATATCAGAGCAAAAAACAAAGCCACAGCC',\n",
       " 'GGAATGATATTTCAATAAATAATTATAACAA',\n",
       " 'GACAGAACGGCCTCAGTAGTCTCGTCAGGCT',\n",
       " 'GACAGAACGGCCTCAGTAGTCTCGTCAGGCT',\n",
       " 'TGCATGGCTTTGGCTTCCTCTTTGACGGACG',\n",
       " 'CATAAAGAAACTATTTTGCGTTTCGTTCAGG',\n",
       " 'TATAGAGATCGTTTTTGGAATTTACAGCGAG',\n",
       " 'CCGTAAGTGGTTTGAGCGATGATATTTGTGC',\n",
       " 'GACAGAACGGCCTCAGTAGTCTCGTCAGGCT',\n",
       " 'GACAGAACGGCCTCAGTAGTCTCGTCAGGCT',\n",
       " 'ACACGCCCTTATCAAATAGCTGTGATTTACCT',\n",
       " 'AACGTCAGGTTGTCGCCGCTCTGCGTGGTCG',\n",
       " 'GACAGAACGGCCTCAGTAGTCTCGTCAGGCT',\n",
       " 'ACACGCCCTTATCAAATAGCTGTGATTTACCT',\n",
       " 'ATAGACCCCGAACAACAATACGCGCAAACCG',\n",
       " 'TACCGTACAGACTGCCGGATATTATTTTTTT',\n",
       " 'CTGCTGCTCGAGCTGGTGGAGTGCTGCTATA',\n",
       " 'GACAGAACGGCCTCAGTAGTCTCGTCAGGCT',\n",
       " 'ATATATCAGAGCAAAAAACAAAGCCACAGCC',\n",
       " 'CATAAAGAAACTATTTTGCGTTTCGTTCAGG',\n",
       " 'AGTGCTGGACCATTTCAAATTCACAATAGAT',\n",
       " 'GGAATGATATTTCAATAAATAATTATAACAA',\n",
       " 'CCCTCACACCGATTCGCCAAGCGGTGGAGAA',\n",
       " 'ACACGCCCTTATCAAATAGCTGTGATTTACCT',\n",
       " 'ATAGACCCCGAACAACAATACGCGCAAACCG',\n",
       " 'TACCGTACAGACTGCCGGATATTATTTTTTT',\n",
       " 'GACAGAACGGCCTCAGTAGTCTCGTCAGGCT',\n",
       " 'ACACGCCCTTATCAAATAGCTGTGATTTACCT',\n",
       " 'CCGCCGTTGGCACCGTCAAACTCCGGTACTG',\n",
       " 'TATAGAGATCGTTTTTGGAATTTACAGCGAG',\n",
       " 'AGTGCTGGACCATTTCAAATTCACAATAGAT',\n",
       " 'GGAATGATATTTCAATAAATAATTATAACAA',\n",
       " 'CCCTCACACCGATTCGCCAAACGGTGGAGAA',\n",
       " 'ATAGACCCCGAACAACAATACGCGCAAACCG',\n",
       " 'GACAGAACGGCCTCAGTAGTCTCGTCAGGCT',\n",
       " 'CCCTCACACCGATTCGCCAAACGGTGGAGAA',\n",
       " 'AGCTGGGCGAAATTTTGATTCATCGTGATGA',\n",
       " 'ATAGACCCCGAACAACAATACGCGCAAACCG',\n",
       " 'GACAGAACGGCCTCAGTAGTCTCGTCAGGCT',\n",
       " 'ACACGCCCTTATCAAATAGCTGTGATTTACCT',\n",
       " 'TATAGAGATCGTTTTTGGAATTTACAGCGAG',\n",
       " 'CCGTAAGTGGTTTGAGCGATGATATTTGTGC',\n",
       " 'GACAGAACGGCCTCAGTAGTCTCGTCAGGCT',\n",
       " 'TGCATGGCTTTGGCTTCCTCTTTGACGGACG',\n",
       " 'ATAGACCCCGAACAACAATACGCGCAAACCG',\n",
       " 'GACAGAACGGCCTCAGTAGTCTCGTCAGGCT',\n",
       " 'ACACGCCCTTATCAAATAGCTGTGATTTACCT',\n",
       " 'GACAGAACGGCCTCAGTAGTCTCGTCAGGCT',\n",
       " 'ACACGCCCTTATCAAATAGCTGTGATTTACCT',\n",
       " 'AACGTCAGGTTGTCGCCGCTCTGCGTGGTCG',\n",
       " 'ACACGCCCTTATCAAATAGCTGTGATTTACCT',\n",
       " 'GACAGAACGGCCTCAGTAGTCTCGTCAGGCT',\n",
       " 'ACACGCCCTTATCAAATAGCTGTGATTTACCT',\n",
       " 'ATAGACCCCGAACAACAATACGCGCAAACCG',\n",
       " 'GACAGAACGGCCTCAGTAGTCTCGTCAGGCT',\n",
       " 'ATAGACCCCGAACAACAATGCGCGCAAACCG',\n",
       " 'ACACGCCCTTATCAAATAGCTGTGATTTACCT',\n",
       " 'AGTGCTGGACCATTTCAAATTCACAATAGAT',\n",
       " 'TATAGAGATCGTTTTTGGAATTTACAGCGAG',\n",
       " 'CCGTAAGTGGTTTGAGCGATGATATTTGTGC',\n",
       " 'TATAGAGATCGTTTTTGGAATTTACAGCGAG',\n",
       " 'CCGTAAGTGGTTTGAGCGATGATATTTGTGC',\n",
       " 'CAAGTGATATCCATCATCGCATCCAGTGCGC',\n",
       " 'GACAGAACGGCCTCAGTAGTCTCGTCAGGCT',\n",
       " 'GGAATGATATTTCAATAAATAATTATAACAA',\n",
       " 'CCCTCACACCGATTCGCCAAACGGTGGAGAA',\n",
       " 'TACCGTACAGACTGCCGGATATTATTTTTTT',\n",
       " 'TGCATGGCTTTGGCTTCCTCTTTGACGGACG',\n",
       " 'CCGCCGTTGGCACCGTCAAACTCCGGTACTG',\n",
       " 'AGTGCTGGACCATTTCAAATTCACAATAGAT',\n",
       " 'GGAATGATATTTCAATAAATAATTATAACAA',\n",
       " 'CAAGTGATATCCATCATCGCATCCAGTGCGC',\n",
       " 'AGTGCTGGACCATTTCAAATTCACAATAGAT',\n",
       " 'GGAATGATATTTCAATAAATAATTATAACAA',\n",
       " 'CTGCTGCTCGAGCTGGTGGAGTGCTGCTATA',\n",
       " 'GACAGAACGGCCTCAGTAGTCTCGTCAGGCT',\n",
       " 'ACACGCCCTTATCAAATAGCTGTGATTTACCT',\n",
       " 'ATAGACCCCGAACAACAATACGCGCAAACCG',\n",
       " 'CTGCTGCTCGAGCTGGTGGAGTGCTGCTATA',\n",
       " 'AACGTCAGGTTGTCGCCGCTCTGCGTGGTCG',\n",
       " 'GGAATGATATTTCAATAAATAATTATAACAA',\n",
       " 'CCCTCACACCGATTCGCCAAACGGTGGAGAA',\n",
       " 'AGCTGGGCGAAATTTTGATTCATCGTGATGA',\n",
       " 'TACCGTACAGACTGCCGGATATTATTTTTTT',\n",
       " 'CTGCTGCTCGAGCTGGTGGAGTGCTGCTATA',\n",
       " 'TACCGTACAGACTGCCGGATATTATTTTTT',\n",
       " 'CAAGTGATATCCATCATCGCATCCAGTGCGC',\n",
       " 'AGTGCTGGACCATTTCAAATTCACAATAGAT',\n",
       " 'ATAGACCCCGAACAACAATACGCGCAAACCG',\n",
       " 'CAAGTGATATCCATCATCGCATCCAGTGCGC',\n",
       " 'ACACGCCCTTATCAAATAGCTGTGATTTACCT',\n",
       " 'GACAGAACGGCCTCAGTAGTCTCGTCAGGCT',\n",
       " 'ACACGCCCTTATCAAATAGCTGTGATTTACCT',\n",
       " 'GACAGAACGGCCTCAGTAGTCTCGTCAGGCT',\n",
       " 'AACGTCAGGTTGTCGCCGCTCTGCGTGGTCG',\n",
       " 'GACAGAACGGCCTCAGTAGTCTCGTCAGGCT',\n",
       " 'ACACGCCCTTATCAAATAGCTGTGATTTACCT',\n",
       " 'ACACGCCCTTATCAAATAGCTGTGATTTACCT',\n",
       " 'ATAGACCCCGAACAACAATACGCGCAAACCG',\n",
       " 'ACACGCCCTTATCAAATAGCTGTGATTTACCT',\n",
       " 'ATAGACCCCGAACAACAATACGCGCAAACCG',\n",
       " 'GACAGAACGGCCTCAGTAGTCTCGTCAGGCT',\n",
       " 'TACCGTACAGACTGCCGGATATTATTTTTTT',\n",
       " 'ATAGACCCCGAACAACAATACGCGCAAACCG',\n",
       " 'TACCGTACAGACTGCCGGATATTATTTTTTT',\n",
       " 'GACAGAACGACCTCAGTAGTCTCGTCAGGCT',\n",
       " 'ACACGCCCTTATCAAATAGCTGTGATTTACCT',\n",
       " 'CAAGTGATATCCATCATCGCATCCAGTGCGC',\n",
       " 'GACAGAACGGCCTCAGTAGTCTCGTCAGGCT',\n",
       " 'ACACGCCCTTATCAAATAGCTGTGATTTACCT',\n",
       " 'ATAGACCCCGAACAACAATACGCGCAAACCG',\n",
       " 'ATATATCAGAGCAAAAAACAAAGCCACAGCC',\n",
       " 'TGCATGGCTTTGGCTTCCTCTTTGACGGACG',\n",
       " 'GACAGAACGGCCTCAGTAGTCTCGTCAGGCT',\n",
       " 'ACACGCCCTTATCAAATAGCTGTGATTTACCT',\n",
       " 'ATAGACCCCGAACAACAATACGCGCAAACCG',\n",
       " 'GACAGAACGGCCTCAGTAGTCTCGTCAGGCT',\n",
       " 'ACACGCCCTTATCAAATAGCTGTGATTTACCT',\n",
       " 'ATAGACCCCGAACAACAATACGCGCAAACCG',\n",
       " 'TATAGAGATCGTTTTTGGAATTTACAGCGAG',\n",
       " 'GACAGAACGGCCTCAGTAGTCTCGTCAGGCT',\n",
       " 'ACACGCCCTTATCAAATAGCTGTGATTTACCT',\n",
       " 'ATATATCAGAGCAAAAAACAAAGCCACAGCC',\n",
       " 'GACAGAACGGCCTCAGTAGTCTCGTCAGGCT',\n",
       " 'ACACGCCCTTATCAAATAGCTGTGATTTACCT',\n",
       " 'AACGTCAGGTTGTCGCCGCTCTGCGTGGTCG',\n",
       " 'AACGTCAGGTTGTCGCCGCTCTGCGTGGTCG',\n",
       " 'TTTTACAGTGTCAACAATCGTTCCCTGATTG',\n",
       " 'AACGTCAGGTTGTCGCCGCTCTGCGTGGTCG',\n",
       " 'CAAGTGATATCCATCATCGCATCCAGTGCGC',\n",
       " 'GACAGAACGGCCTCAGTAGTCTCGTCAGGCT',\n",
       " 'ACACGCCCTTATCAAATAGCTGTGATTTACCT',\n",
       " 'ATAGACCCCGAACAACAATACGCGCAAACCG',\n",
       " 'ACACGCCCTTGTCAAATAGCTGTGATTTACCT',\n",
       " 'AGCTGGGCGAAATTTTGATTCATCGTGATGA',\n",
       " 'GACAGAACGGCCTCAGTAGTCTCGTCAGGCT',\n",
       " 'ACACGCCCTTATCAAATAGCTGTGATTTACCT',\n",
       " 'ATAGACCCCGAACAACAATACGCGCAAACCG',\n",
       " 'CCGCCGTTGGCACCGTCAAACTCCGGTACTG',\n",
       " 'TATAGAGATCGTTTTTGGAATTTACAGCGAG',\n",
       " 'CCGTAAGTGGTTTGAGCGATGATATTTGTGC',\n",
       " 'CCGTAAGTGGTTTGAGCGATGATATTTGTGC',\n",
       " 'CCGCCGTTGGCACCGTCAAACTCCGGTACTG',\n",
       " 'TATAGAGATCGTTTTTGGAATTTACAGCGAG',\n",
       " 'GGAATGATATTTCAATAAATAATTATAACAA',\n",
       " 'CCCTCACACCGATTCGCCAAACGGTGGAGAA',\n",
       " 'TATAGAGATCGTTTTTGGAATTTACAGCGAG',\n",
       " 'GACAGAACGGCCTCAGTAGTCTCGTCAGGCT',\n",
       " 'CCCTCACACCGATTCGCCAAACGGTGGAGAA',\n",
       " 'AGCTGGGCGAAATTTTGATTCATCGTGATGA',\n",
       " 'ATAGACCCCGAACAACAATACGCGCAGACCG',\n",
       " 'GACAGAACGGCCTCAGTAGTCTCGTCAGGCT',\n",
       " 'ACACGCCCTTATCAAATAGCTGTGATTTACCT',\n",
       " 'GACAGAACGGCCTCAGTAGTCTCGTCAGGCT',\n",
       " 'ACACGCCCTTATCAAATAGCTGTGATTTACCT',\n",
       " 'AACGTCAGGTTGTCGCCGCTCTGCGTGGTCG',\n",
       " 'TGCATGGCTTTGGCTTCCTCTTTGACGGACG',\n",
       " 'GACAGAACGGCCTCAGTAGTCTCGTCAGGCT',\n",
       " 'GACAGAACGGCCTCAGTAGTCTCGTCAGGCT',\n",
       " 'ACACGCCCTTATCAAATAGCTGTGATTTACCT',\n",
       " 'CAAGTGATATCCATCATCGCATCCAGTGCGC',\n",
       " 'AGTGCTGGACCATTTCAAATTCACAATAGAT',\n",
       " 'TACCGTACAGACTGCCGGATATTATTTTTTT',\n",
       " 'TATAGAGATCGTTTTTGGAATTTACAGCGAG',\n",
       " 'GGAATGATATTTCAATAAATAATTATAACAA',\n",
       " 'CCCTCACACCGATTCGCCAAACGGTGGAGAA',\n",
       " 'CAAGTGATATCCATCATCGCATCCAGTGCGC',\n",
       " 'AGTGCTGGACCATTTCAAATTCACAATAGAT',\n",
       " 'TACCGTACAGACTGCCGGATATTATTTTTTT',\n",
       " 'CTGCTGCTCGAGCTGGTGGAGTGCTGCTATA',\n",
       " 'AACGTCAGGTTGTCGCCGCTCTGCGTGGTCG',\n",
       " 'GGAATGATATTTCAATAAATAATTATAACAA',\n",
       " 'CCCTCACACCGATTCGCCAAACGGTGGAGAA',\n",
       " 'AGCTGGGCGAAATTTTGATTCATCGTGATGA',\n",
       " 'TATAGAGATCGTTTTTGGAATTTACAGCGAG',\n",
       " 'CCGTAAGTGGTTTGAGCGATGATATTTGTGC',\n",
       " 'GACAGAACGGCCTCAGTAGTCTCGTCAGGTT',\n",
       " 'ACACGCCCTTATCAAATAGCTGTGATTTACCT',\n",
       " 'TACCGTACAGACTGCCGGATATTATTTTTTT',\n",
       " 'GACAGAACGGCCTCAGTAGTCTCGTCAGGCT',\n",
       " 'ACACGCCCTTATCAAATAGCTGTGATTTACCT',\n",
       " 'GACAGAACGGCCTCAGTAGTCTCGTCAGGCT',\n",
       " 'CCGCCGTTGGCACCGTCAAACTCCGGTACTG',\n",
       " 'GACAGAACGGCCTCAGTAGTCTCGTCAGGCT',\n",
       " 'ACACGCCCTTATCAAATAGCTGTGATTTACCT',\n",
       " 'ATAGACCCCGAACAACAATACGCGCAAACCG',\n",
       " 'ATAGACCCCGAACAACAATACGCGCAAACCG',\n",
       " 'TATAGAGATCGTTTTTGGAATTTACAGCGAG',\n",
       " 'GACAGAACGGCCTCAGTAGTCTCGTCAGGCT',\n",
       " 'ACACGCCCTTATCAAATAGCTGTGATTTACCT',\n",
       " 'ATAGACCCCGAACAACAATACGCGCAAACCG',\n",
       " 'GACAGAACGGCCTCAGTAGTCTCGTCAGGCT',\n",
       " 'ACACGCCCTTATCAAATAGCTGTGATTTACCT',\n",
       " 'GACAGAACGGCCTCAGTAGTCTCGTCAGGCT',\n",
       " 'ACACGCCCTTATCAAATAGCTGTGATTTACCT',\n",
       " 'TATAGAGATCGTTTTTGGAATTTACAGCGAG',\n",
       " 'TGCATGGCTTTGGCTTCCTCTTTGACGGACG',\n",
       " 'ATATATCAGAGCAAAAAACAAAGCCACAGCC',\n",
       " 'CATAAAGAAACTATTTTGCGTTTCGTTCAGG',\n",
       " 'CCGTAAGTGGTTTGAGCGATGATATTTGTGC',\n",
       " 'GACAGAACGGCCTCAGTAGTCTCGTCAGGCT',\n",
       " 'ACACGCCCTTATCAAATAGCTGTGATTTACCT',\n",
       " 'GACAGAACGGCCTCAGTAGTCTCGTCAGGCT',\n",
       " 'TATAGAGATCGTTTTTGGAATTTACAGCGAG',\n",
       " 'CCGTAAGTGGTTTGAGCGATGATATTTGTGC',\n",
       " 'AGTGCTGGACCATTTCAAATTCACAATAGAT',\n",
       " 'TATAGAGATCGTTTTTGGAATTTACAGCGAG',\n",
       " 'CTGCTGCTCGAGCTGGTGGAGTGCTGCTATA',\n",
       " 'GGAATGATATTTCAATAAATAATTATAACAA',\n",
       " 'CAAGTGATATCAATCATCGCATCCAGTGCGC',\n",
       " 'AGTGCTGGACCATTTCAAATTCACAATAGAT',\n",
       " 'GACAGAACGGCCTCAGTAGTCTCGTCAGGCT',\n",
       " 'CCGCCGTTGGCACCGTCAAACTCCGGTACTG',\n",
       " 'TATAGAGATCGTTTTTGGAATTTACAGCGAG',\n",
       " 'TACCGTACAGACTGCCGGATATTATTTTTTT',\n",
       " 'GACAGAACGGCCTCAGTAGTCTCGTCAGGCT',\n",
       " 'ACACGCCCTTATCAAATAGCTGTGATTTACCT',\n",
       " 'GACAGAACGGCCTCAGTAGTCTCGTCAGGCT',\n",
       " 'ACACGCCCTTATCAAATAGCTGTGATTTACCT',\n",
       " 'TATAGAGATCGTCTTTGGAATTTACAGCGAG',\n",
       " 'AGCTGGGCGAAATTTTGATTCATCGTGATGA',\n",
       " 'GACAGAACGGCCTCAGTAGTCTCGTCAGGCT',\n",
       " 'AACGTCAGGTTGTCGCCGCTCTGCGTGGTCG',\n",
       " 'GACAGAACGGCCTCAGTAGTCTCGTCAGGCT',\n",
       " 'CAAGTGATATCCATCATCGCATCCAGTGCGC',\n",
       " 'GACAGAACGGCCTCAGTAGTCTCGTCAGGCT',\n",
       " 'ACACGCCCTTATCAAATAGCTGTGATTTACCT',\n",
       " 'ATAGACCCCGAACAACAATACGCGCAAACCG',\n",
       " 'AACGTCAGGTTGTCGCCGCTCTGCGTGGTCG',\n",
       " 'GACAGAACGGCCTCAGTAGTCTCGTCAGGCT',\n",
       " 'CAAGTGATATCCATCATCGCATCCAGTGCGC',\n",
       " 'AGTGCTGGACCATTTCAAATTCACAATAGAT',\n",
       " 'TATAGAGATCGTTTTTGGAATTTACAGCGAG',\n",
       " 'GCGACCGCTCAGAAATTCCAGACCCGATCCAA',\n",
       " 'GACAGAACGGCCTCAGTAGTCTCGTCAGGCT',\n",
       " 'CATAAAGAAACTATTTTGCGTTTCGTTCAGG',\n",
       " 'TTTTACAGTGTCAACAATCGTTCCCTGATTG',\n",
       " 'TATAGAGATCGTTTTTGGAATTTACAGCGAG',\n",
       " 'AACGTCAGGTTGTCGCCGTTCTGCGTGGTCG',\n",
       " 'TGCATGGCTTTGGCTTCCTCTTTGACGGACG',\n",
       " 'GACAGAACGGCCTCAGTAGTCTCGTCAGGCT',\n",
       " 'ACACGCCCTTATCAAATAGCTGTGATTTACCT',\n",
       " 'ACACGCCCTTATCAAATAGCTGTGATTTACCT',\n",
       " 'GACAGAACGGCCTCAGTAGTCTCGTCAGGCT',\n",
       " 'ACACGCCCTTATCAAATAGCTGTGATTTACCT',\n",
       " 'CAAGTGATATCCATCATCGCATCCAGTGCGC',\n",
       " 'AGTGCTGGACCATTTCAAATTCACAATAGAT',\n",
       " 'CAAGTGATATCCATCATCGCATCCAGTGCGC',\n",
       " 'AGTGCTGGACCATTTCAAATTCACAATAGAT',\n",
       " 'CAAGTGATATCCATCATCGCATCCAGTGCGC',\n",
       " 'AGTGCTGGACCATTTCAAATTCACAATAGAT',\n",
       " 'ATAGACCCCGAACAACAATACGCGCAAACCG',\n",
       " 'TACCGTACAGACTGCCGGATATTATTTTTTT',\n",
       " 'GACAGAACGGCCTCAGTAGTCTCGTCAGGCT',\n",
       " 'CCGCCGTTGGCACCGTCAAACTCCGGTACTG',\n",
       " 'TACCGTACAGACTGCCGGATATTATTTTTTT',\n",
       " 'CTGCTGCTCGAGCTGGTGGAGTGCTGCTATA',\n",
       " 'ACACGCCCTTATCAAATAGCTGTGATTTACCT',\n",
       " 'GACAGAACGGCCTCAGTAGTCTCGTCAGGCT',\n",
       " 'ACACGCCCTTATCAAATAGCTGTGATTTACCT',\n",
       " 'AGCTGGGCGAAATTTTGATTCATCGTGATGA',\n",
       " 'GACAGAACGGCCTCAGTAGTCTCGTCAGGCT',\n",
       " 'ACACGCCCTTATCAAATAGCTGTGATTTACCT',\n",
       " 'AGTGCTGGACCATTTCAAATTCACAATAGAT',\n",
       " 'CATAAAGAAACTATTTTGCGTTTCGTTCAGG',\n",
       " 'TTTTACAGTGTCAACAATCGTTCCCTGATTG',\n",
       " 'CCCTCACACCGATTCGCCAAACGGTGGAGAA',\n",
       " 'AGCTGGGCGAAATTTTGATTCATCGTGATGA',\n",
       " 'GGAATGATATTTCAATAAATAATTATAACAA',\n",
       " 'CCCTCACACCGATTCGCCAAACGGTGGAGAA',\n",
       " 'AGCTGGGCGAAATTTTGATTCATCGTGATGA',\n",
       " 'GACAGAACGGCCTCAGTAGTCTCGTCAGGCT',\n",
       " 'CAAGTGATATCCATCATCGCATCCAGTGCGC',\n",
       " 'ATATATCAGAGCAAAAAACAAAGCCACAGCC',\n",
       " 'ACACGCCCTTATCAAATAGCTGTGATTTACCT',\n",
       " 'ATAGACCCCGAACAACAATACGCGCAAACCG',\n",
       " 'GACAGAACGGCCTCAGTAGTCTCGTCAGGCT',\n",
       " 'ACACGCCCTTATCAAATAGCTGTGATTTACCT',\n",
       " 'ACACGCCCTTATCAAATAGCTGTGATTCACCT',\n",
       " 'ACACGCCCTTATCAAATAGCTGTGATTTACCT',\n",
       " 'ATAGACCCCGAACAACAATACGCGCAAACCG',\n",
       " 'TACCGTACAGACTGCCGGATATTATTTTTTT',\n",
       " 'ACACGCCCTTATCAAATAGCTGTGATTCACCT',\n",
       " 'GACAGAACGGCCTCAGTAGTCTCGTCAGGCT',\n",
       " 'ACACGCCCTTATCAAATAGCTGTGATTTACCT',\n",
       " 'ATAGACCCCGAACAACAATACGCGCAAACCG',\n",
       " 'CTGCTGCTCGAGCTGGTGGAGTGCTGCTATA',\n",
       " 'GACAGAACGGCCTCAGTAGTCTCGTCAGGCT',\n",
       " 'ACACGCCCTTATCAAATAGCTGTGATTTACCT',\n",
       " 'ATAGACCCCGAACAACAATACGCGCAAACCG',\n",
       " 'GACAGAACGGCCTCAGTAGTCTCGTCAGGCT',\n",
       " 'ACACGCCCTTATCAAATAGCTGTGATTTACCT',\n",
       " 'CCGTAAGTGGTTTGAGCGATGATATTTGTGC',\n",
       " 'ATATATCAGAGCAAAAAACAAAGCCACAGCC',\n",
       " 'CATAAAGAAACTATTTTGCGTTTCGTTCAGG',\n",
       " 'TTTTACAGTGTTAACAATCGTTCCCTGATTG',\n",
       " 'ATAGACCCCGAACAACAATACGCGCAAACCG',\n",
       " 'CTGCTGCTCGAGCTGGTGGAGTGCTGCTATA',\n",
       " 'GACAGAACGGCCTCAGTAGTCTCGTCAGGCT',\n",
       " 'ACACGCCCTTATCAAATAGCTGTGATTTACCT',\n",
       " 'ATAGACCCCGAACAACAATACGCGCAAACCG',\n",
       " 'CAAGTGATATCCATCATCGCATCCAGTGCGC',\n",
       " 'TGCATGGCTTTGGCTTCCTCTTTGACGGACG',\n",
       " 'GACAGAACGGCCTCAGTAGTCTCGTCAGGCT',\n",
       " 'ACACGCCCTTATCAAATAGCTGTGATTTACCT',\n",
       " 'ATAGACCCCGAACAACAATACGCGCAAACCG',\n",
       " 'GACAGAACGGCCTCAGTAGTCTCGTCAGGCT',\n",
       " 'CTGCTGCTCGAGCTGGTGGAGTGCTGCTATA',\n",
       " 'AACGTCAGGTTGTCGCCGCTCTGCGTGGTCG',\n",
       " 'CAAGTGATATCCATCATCGCATCCAGTGCGC',\n",
       " 'GACAGAACGGCCTCAGTAGTCTCGTCAGGCT',\n",
       " 'ACACGCCCTTATCAAATAGCTGTGATTTACCT',\n",
       " 'AGCTGGGCGAAATTTTGATTCATCGCGATGA',\n",
       " 'GACAGAACGGCCTCAGTAGTCTCGTCAGGCT',\n",
       " 'ACACGCCCTTATCAAATAGCTGTGATTTACCT',\n",
       " 'TACCGTACAGACTGCCGGATATTATTTTTTT',\n",
       " 'GACAGAACGGCCTCAGTAGTCTCGTCAGGCT',\n",
       " 'ACACGCCCTTATCAAATAGCTGTGATTTACCT',\n",
       " 'GACAGAACGGCCTCAGTAGTCTCGTCAGGCT',\n",
       " 'ACACGCCCTTATCAAATAGCTGTGATTTACCT',\n",
       " 'GACAGAACGGCCTCAGTAGTCTCGTCAGGCT',\n",
       " 'GACAGAACGGCCTCAGTAGTCTCGTCAGGCT',\n",
       " 'ACACGCCCTTATCAAATAGCTGTGATTTACCT',\n",
       " 'GACAGAACGGCCTCAGTAGTCTCGTCAGGCT',\n",
       " 'ACACGCCCTTATCAAATAGCTGTGATTTACCT',\n",
       " 'ATAGACCCCGAACAACAATACGCGCAAACCG',\n",
       " 'ACACGCCCTTATCAAATAGCTGTGATTTACCT',\n",
       " 'ATAGACCCCGAACAACAATACGCGCAAACCG',\n",
       " 'AGCTGGGCGAAATTTTGATTCATCGTGATGA',\n",
       " 'GACAGGACGGCCTCAGTAGTCTCGTCAGGCT',\n",
       " 'ACACGCCCTTATCAAATAGCTGTGATTTACCT',\n",
       " 'ATAGACCCCGAACAACAATACGCGCAAACCG',\n",
       " 'CCGCCGTTGGCACCGTCAAACTCCGGTACTG',\n",
       " 'TATAGAGATCGTTTTTGGAATTTACAGCGAG',\n",
       " 'ATAGACCCCGAACAACAATACGCGCAAACCG',\n",
       " 'ATAGACCCCGAACAACAATACGCGCAAACCG',\n",
       " 'GACAGAACGGCCTCAGTAGTCTCGTCAGGCT',\n",
       " 'CCGTAAGTGGTTTGAGCGATGATATTTGTGC',\n",
       " 'TATAGAGATCGTTTTTGGAATTTACAGCGAG',\n",
       " 'CCGTAAGTGGTTTGAGCGATGATATTTGTGC',\n",
       " 'ACACGCCCTTATCAAATAGCTGTGATTTACCT',\n",
       " 'ATAGACCCCGAACAACAATACGCGCAAACCG',\n",
       " 'CCCTCACACCGATTCGCCAAACGGTGGAGAA',\n",
       " 'AGCTGGGCGAAATTTTGATTCATCGTGATGA',\n",
       " 'GACAGAACGGCCTCAGTAGTCTCGTCAGGCT',\n",
       " 'ACACGCCCTTATCAAATAGCTGTGATTTACCT',\n",
       " 'ATATATCAGAGCAAAAAACAAAGCCACAGCC',\n",
       " 'ACACGCCCTTATCAAATAGCTGTGATTTACCT',\n",
       " 'TACCGTACAGACTGCCGGATATTATTTTTTT',\n",
       " 'CTGCTGCTCGAGCTGGTGGAGTGCTGCTATA',\n",
       " 'GACAGAACGGCCTCAGTAGTCTCGTCAGGCT',\n",
       " 'ACACGCCCTTATCAAATAGCTGTGATTTACCT',\n",
       " 'ATATATCAGAGCAAAAAACAAAGCCACAGCC',\n",
       " 'CATAAAGAAACTATTTTGCGTTTCGTTCAGG',\n",
       " 'GACAGAACGGCCTCAGTAGTCTCGTCAGGCT',\n",
       " 'ACACGCCCTTATCAAATAGCTGTGATTTACCT',\n",
       " 'GCAGGCGGCGACGCGCAGGGTATGCGCGATTC',\n",
       " 'CTGCTGCTCGAGCTGGTGGAGTGCTGCTATA',\n",
       " 'ATAGACCCCGAACAACAATACGCGCAAACCG',\n",
       " 'TACCGTACAGACTGCCGGATATTATTTTTTT',\n",
       " 'CTGCTGCTCGAGCTGGTGGAGTGCTGCTATA',\n",
       " 'GACAGAACGGCCTCAGTAGTCTCGTCAGGCT',\n",
       " 'ACACGCCCTTATCAAATAGCTGTGATTTACCT',\n",
       " 'GACAGAACGGCCTCAGTAGTCTCGTCAGGCT',\n",
       " 'GACAGAACGGCCTCAGTAGTCTCGTCAGGCT',\n",
       " 'ACACGCCCTTATCAAATAGCTGTGATTTACCT',\n",
       " 'ATAGACCCCGAACAACAATACGCGCAAACCG',\n",
       " 'TATAGAGATCGTTTTTGGAATTTACAGCGAG',\n",
       " 'CTGCTGCTCGAGCTGGTGGAGTGCTGCTATA',\n",
       " 'AACGTCAGGTTGTCGCCGCTCTGCGTGGTCG',\n",
       " 'TGCATGGCTTTGGCTTCCTCTTTGACGGACG',\n",
       " 'CCGCTGTTGGCACCGTCAAACTCCGGTACTG',\n",
       " 'AGTGCTGGACCATTTCAAATTCACAATAGAT',\n",
       " 'GACAGAACGGCCTCAGTAGTCTCGTCAGGCT',\n",
       " 'ACACGCCCTTATCAAATAGCTGTGATTTACCT',\n",
       " 'GACAGAACGGCCTCAGTAGTCTCGTCAGGCT',\n",
       " 'ACACGCCCTTATCAAATAGCTGTGATTTACCT',\n",
       " 'TATAGAGATCGTTTTTGGAATTTACAGCGAG',\n",
       " 'CCGTAAGTGGTTTGAGCGATGATATTTGTGC',\n",
       " 'CAAGTGATATCCATCATCGCATCCAGTGCGC',\n",
       " 'AGTGCTGGACCATTTCAAATTCACAATAGAT',\n",
       " 'CAAGTGATATCCATCATCGCATCCAGTGCGC',\n",
       " 'TCGGTTCAGGCGTTGCAAACCTGGCTACCGG',\n",
       " 'TCGGTTCAGGCGTTGCAAACCTGGCTACCGG',\n",
       " 'CAAGTGATATCCATCATCGCATCCAGTGCGC',\n",
       " 'CTGCTGCTCGAGCTGGTGGAGTGCTGCTATA',\n",
       " 'AACGTCAGGTTGTCGCCGCTCTGCGTGGTCG',\n",
       " 'ACACGCCCTTATCAAATAGCTGTGATTTACCT',\n",
       " 'CAAGTGATATCCATCATCGCATCCAGTGCGC',\n",
       " 'ACACGCCCTTATCAAATAGCTGTGATTTACCT',\n",
       " 'GACAGAACGGCCTCAGTAGTCTCGTCAGGCT',\n",
       " 'GACAGAACGGCCTCAGTAGTCTCGTCAGGCT',\n",
       " 'ACACGCCCTTATCAAATAGCTGTGATTTACCT',\n",
       " 'AACGTCAGGTTGTCGCCGCTCTGCGTGGTCG',\n",
       " 'TGCATGGCTTTGGCTTCCTCTTTGACGGACG',\n",
       " 'ACACGCCCTTATCAAATAGCTGTGATTTACCT',\n",
       " 'CTGCTGCTCGAGCTGGTGGAGTGCTGCTATA',\n",
       " 'AACGTCAGGTTGTCGCCGCTCTGCGTGGTCG',\n",
       " 'TGCATGGCTTTGGCTTCCTCTTTGACGGACG',\n",
       " 'CTGCTGCTCAAGCTGGTGGAGTGCTGCTATA',\n",
       " 'AGTGCTGGACCATTTCAAATTCACAATAGAT',\n",
       " 'GACAGAACGGCCTCAGTAGTCTCGTCAGGCT',\n",
       " 'ACACGCCCTTATCAAATAGCTGTGATTTACCT',\n",
       " 'ATAGGCCCCGAACAACAATACGCGCAAACCG',\n",
       " 'TACCATACAGACTGCCGGATATTATTTTTTT',\n",
       " 'CTGCTGCTCGAGCTGGTGGAGTGCTGCTATA',\n",
       " 'AGTGCTGGACCATTTCAAATTCACAATAGAT',\n",
       " 'GGAATGATATTTCAATAAATAATTATAACAA',\n",
       " 'GACAGAACGGCCTCAGTAGTCTCGTCAGGCT',\n",
       " 'GACAGAACGGCCTCAGTAGTCTCGTCAGGCT',\n",
       " 'ACACGCCCTTATCAAATAGCTGTGATTTACCT',\n",
       " 'GACAGAACGGCCTCAGTAGTCTCGTCAGGCT',\n",
       " 'CATAAAGAAACTATTTTGCGTTTCGTTCAGG',\n",
       " 'TTTTACAGTGTCAACAATCGTTCCCTGATTG',\n",
       " 'CCGCCGTTGGCACCGTCAAACTCCGGTACTG',\n",
       " ...]"
      ]
     },
     "execution_count": 207,
     "metadata": {},
     "output_type": "execute_result"
    }
   ],
   "source": [
    "lines"
   ]
  },
  {
   "cell_type": "code",
   "execution_count": null,
   "metadata": {
    "collapsed": true
   },
   "outputs": [],
   "source": []
  },
  {
   "cell_type": "code",
   "execution_count": 112,
   "metadata": {
    "collapsed": true
   },
   "outputs": [],
   "source": [
    "K_1 = ['CAGCGTCAGGCGTGAAATCTCACCGTCGTTGC', 'TCGGTTCAGGCGTTGCAAACCTGGCTACCGGG', \n",
    "       'GTAGTCCATCATTCCACCTATGTCTGAACTCC', 'CCGGGGGATAATGTTTACGGTCATGCGCCCCC', \n",
    "       'TGGGCGGCTTGCCTTGCAGCCAGCTCCAGCAG', 'AAGCTGGCTGGCAATCTCTTTCGGGGTGAGTC',\n",
    "       'TAGTTTCCGTATCTCCGGATTTATAAAGCTGA', 'GCAGGCGGCGACGCGCAGGGTATGCGCGATTCG', \n",
    "       'GCGACCGCTCAGAAATTCCAGACCCGATCCAAA','TCAACATTATCAATTACAACCGACAGGGAGCC', \n",
    "       'AGCGTGTTCGGCATCACCTTTGGCTTCGGCTG', 'TGCGTGAGCGTATCGCCGCGCGTCTGCGAAAG']\n",
    "       \n",
    "K_2 = ['GACAGAACGGCCTCAGTAGTCTCGTCAGGCTC', 'CTGTTTTCGCAAATCTATGGACTATTGCTATT', \n",
    "       'GGGCGCACGGAATACAAAGCCGTGTATCTGCT', 'TGGCTCTGCAACAGCAGCACCCATGACCACGT', \n",
    "       'GAAATGCTGGTGAGCGTTAATGCCGCAAACAC', 'ATTACGCCTTTTTGCGATTGCCCGGTTTTTGC']"
   ]
  },
  {
   "cell_type": "code",
   "execution_count": null,
   "metadata": {
    "collapsed": true
   },
   "outputs": [],
   "source": []
  },
  {
   "cell_type": "code",
   "execution_count": null,
   "metadata": {
    "collapsed": true
   },
   "outputs": [],
   "source": []
  },
  {
   "cell_type": "code",
   "execution_count": 113,
   "metadata": {},
   "outputs": [
    {
     "name": "stderr",
     "output_type": "stream",
     "text": [
      "18it [00:00, 29433.71it/s]\n"
     ]
    }
   ],
   "source": [
    "X_ans = to_array([x[:32] for x in (K_1 + K_2)])"
   ]
  },
  {
   "cell_type": "markdown",
   "metadata": {},
   "source": [
    "### Process data"
   ]
  },
  {
   "cell_type": "code",
   "execution_count": null,
   "metadata": {
    "collapsed": true
   },
   "outputs": [],
   "source": []
  }
 ],
 "metadata": {
  "kernelspec": {
   "display_name": "Python 3",
   "language": "python",
   "name": "python3"
  },
  "language_info": {
   "codemirror_mode": {
    "name": "ipython",
    "version": 3
   },
   "file_extension": ".py",
   "mimetype": "text/x-python",
   "name": "python",
   "nbconvert_exporter": "python",
   "pygments_lexer": "ipython3",
   "version": "3.6.3"
  }
 },
 "nbformat": 4,
 "nbformat_minor": 2
}
