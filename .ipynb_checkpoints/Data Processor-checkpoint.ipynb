{
 "cells": [
  {
   "cell_type": "code",
   "execution_count": 2,
   "metadata": {
    "collapsed": true
   },
   "outputs": [],
   "source": [
    "import numpy as np\n",
    "\n",
    "from tqdm import tqdm"
   ]
  },
  {
   "cell_type": "code",
   "execution_count": 3,
   "metadata": {
    "collapsed": true
   },
   "outputs": [],
   "source": [
    "letter_to_num = {}\n",
    "letter_to_num['A'] = 0\n",
    "letter_to_num['C'] = 1\n",
    "letter_to_num['T'] = 2\n",
    "letter_to_num['G'] = 3"
   ]
  },
  {
   "cell_type": "code",
   "execution_count": 12,
   "metadata": {
    "collapsed": true
   },
   "outputs": [],
   "source": [
    "def process_spacer(spacer):\n",
    "    ans = np.zeros(32*4)\n",
    "    \n",
    "    for i, letter in enumerate(spacer):\n",
    "        if letter in letter_to_num.keys():\n",
    "            ans[i*4 + letter_to_num[letter]] = 1\n",
    "    return ans\n",
    "    "
   ]
  },
  {
   "cell_type": "code",
   "execution_count": 12,
   "metadata": {
    "collapsed": true
   },
   "outputs": [],
   "source": [
    "def add_noize(spacer, prob = 0.99):\n",
    "    noized = []\n",
    "    for letter in spacer: \n",
    "        if np.random.random() > prob:\n",
    "            noized.append(np.random.choice([\"A\",\"C\",\"G\",\"T\", \"\"]))\n",
    "        else:\n",
    "            noized.append(letter)\n",
    "    return ''.join(noized)"
   ]
  },
  {
   "cell_type": "code",
   "execution_count": 7,
   "metadata": {
    "collapsed": true
   },
   "outputs": [],
   "source": [
    "def to_array(spacers):\n",
    "    X = np.zeros((len(spacers), 32 * 4))\n",
    "\n",
    "    for i, spacer in tqdm(enumerate(spacers)):\n",
    "        X[i,:] = process_spacer(spacer)\n",
    "    return X"
   ]
  },
  {
   "cell_type": "code",
   "execution_count": 8,
   "metadata": {
    "collapsed": true
   },
   "outputs": [],
   "source": [
    "def to_array_pairs(pairs):\n",
    "    X = np.zeros((len(pairs), 2, 32 * 4))\n",
    "\n",
    "    for i, pair in tqdm(enumerate(pairs)):\n",
    "        X[i,0,:] = process_spacer(pair[0][:32])\n",
    "        X[i,1,:] = process_spacer(pair[1][:32])\n",
    "    return X"
   ]
  },
  {
   "cell_type": "code",
   "execution_count": 19,
   "metadata": {
    "collapsed": true
   },
   "outputs": [],
   "source": [
    "with open(\"./data/Sasha/Sasha1_S31_R1_001_spacers.txt\") as f:\n",
    "    lines = [x[:32] for x in f.readlines()[1:]]"
   ]
  },
  {
   "cell_type": "code",
   "execution_count": 20,
   "metadata": {},
   "outputs": [
    {
     "name": "stderr",
     "output_type": "stream",
     "text": [
      "13048it [00:00, 63497.41it/s]\n"
     ]
    }
   ],
   "source": [
    "X = to_array(lines)"
   ]
  },
  {
   "cell_type": "code",
   "execution_count": 21,
   "metadata": {},
   "outputs": [
    {
     "data": {
      "text/plain": [
       "(13048, 128)"
      ]
     },
     "execution_count": 21,
     "metadata": {},
     "output_type": "execute_result"
    }
   ],
   "source": [
    "X.shape"
   ]
  },
  {
   "cell_type": "code",
   "execution_count": 22,
   "metadata": {
    "collapsed": true
   },
   "outputs": [],
   "source": [
    "np.save(\"./data/npy/Sasha_R1\", X)"
   ]
  },
  {
   "cell_type": "markdown",
   "metadata": {},
   "source": [
    "#### ans 3"
   ]
  },
  {
   "cell_type": "code",
   "execution_count": 65,
   "metadata": {
    "collapsed": true
   },
   "outputs": [],
   "source": [
    "ans_3 = [\"CAGCGTCAGGCGTGAAATCTCACCGTCGTTGC\tTCGGTTCAGGCGTTGCAAACCTGGCTACCGGG\tGTAGTCCATCATTCCACCTATGTCTGAACTCC\tCCGGGGGATAATGTTTACGGTCATGCGCCCCC\tTGGGCGGCTTGCCTTGCAGCCAGCTCCAGCAG\tAAGCTGGCTGGCAATCTCTTTCGGGGTGAGTC\tTAGTTTCCGTATCTCCGGATTTATAAAGCTGA\tGCAGGCGGCGACGCGCAGGGTATGCGCGATTCG\tGCGACCGCTCAGAAATTCCAGACCCGATCCAAA\tTCAACATTATCAATTACAACCGACAGGGAGCC\tAGCGTGTTCGGCATCACCTTTGGCTTCGGCTG\tTGCGTGAGCGTATCGCCGCGCGTCTGCGAAAG\",\n",
    "\"GACAGAACGGCCTCAGTAGTCTCGTCAGGCTC\tCTGTTTTCGCAAATCTATGGACTATTGCTATT\tGGGCGCACGGAATACAAAGCCGTGTATCTGCT\tTGGCTCTGCAACAGCAGCACCCATGACCACGT\tGAAATGCTGGTGAGCGTTAATGCCGCAAACAC\tATTACGCCTTTTTGCGATTGCCCGGTTTTTGC\",\n",
    "\"GACAGAACGGCCTCAGTAGTCTCGTCAGGCTC\tACACGCCCTTATCAAATAGCTGTGATTTACCTA\tATAGACCCCGAACAACAATACGCGCAAACCGA\tTACCGTACAGACTGCCGGATATTATTTTTTTG\tCTGCTGCTCGAGCTGGTGGAGTGCTGCTATAG\tAACGTCAGGTTGTCGCCGCTCTGCGTGGTCGC\tTGCATGGCTTTGGCTTCCTCTTTGACGGACGC\tATATATCAGAGCAAAAAACAAAGCCACAGCCA\tCATAAAGAAACTATTTTGCGTTTCGTTCAGGT\tTTTTACAGTGTCAACAATCGTTCCCTGATTGT\tCCGCCGTTGGCACCGTCAAACTCCGGTACTGT\tTATAGAGATCGTTTTTGGAATTTACAGCGAGG\tCCGTAAGTGGTTTGAGCGATGATATTTGTGCT\",\n",
    "\"AGTGCTGGACCATTTCAAATTCACAATAGATT\tGGAATGATATTTCAATAAATAATTATAACAAT\tCCCTCACACCGATTCGCCAAACGGTGGAGAAG\tAGCTGGGCGAAATTTTGATTCATCGTGATGAC\"]"
   ]
  },
  {
   "cell_type": "code",
   "execution_count": 69,
   "metadata": {
    "scrolled": true
   },
   "outputs": [
    {
     "name": "stderr",
     "output_type": "stream",
     "text": [
      "12it [00:00, 21713.39it/s]\n",
      "6it [00:00, 22550.02it/s]\n",
      "13it [00:00, 22766.58it/s]\n",
      "4it [00:00, 17137.09it/s]\n"
     ]
    }
   ],
   "source": [
    "ans_3_array = [to_array([y[:32] for y in x.split(\"\\t\")]) for x in ans_3]"
   ]
  },
  {
   "cell_type": "code",
   "execution_count": 70,
   "metadata": {
    "collapsed": true
   },
   "outputs": [],
   "source": [
    "np.savez(\"./data/npy/ES3_R1_ans.npy\", ans_3_array)"
   ]
  },
  {
   "cell_type": "markdown",
   "metadata": {
    "collapsed": true
   },
   "source": [
    "#### pairs 3"
   ]
  },
  {
   "cell_type": "code",
   "execution_count": null,
   "metadata": {
    "collapsed": true
   },
   "outputs": [],
   "source": []
  },
  {
   "cell_type": "code",
   "execution_count": 29,
   "metadata": {
    "collapsed": true
   },
   "outputs": [],
   "source": [
    "with open(\"./data/SlO_10/SlO1_R1_pairs_10.txt\") as f:\n",
    "    lines = [x[:-2].split(' ') for x in f.readlines()]"
   ]
  },
  {
   "cell_type": "code",
   "execution_count": 30,
   "metadata": {},
   "outputs": [
    {
     "data": {
      "text/plain": [
       "['GCCTGACATTGCAGACGTTACAAATTGAGAGG', 'TGTGTCGGAGTATGCGGGCTGATTTTCGTCT']"
      ]
     },
     "execution_count": 30,
     "metadata": {},
     "output_type": "execute_result"
    }
   ],
   "source": [
    "lines[0]"
   ]
  },
  {
   "cell_type": "code",
   "execution_count": 31,
   "metadata": {},
   "outputs": [
    {
     "data": {
      "text/plain": [
       "54734"
      ]
     },
     "execution_count": 31,
     "metadata": {},
     "output_type": "execute_result"
    }
   ],
   "source": [
    "len(lines)"
   ]
  },
  {
   "cell_type": "code",
   "execution_count": 32,
   "metadata": {},
   "outputs": [
    {
     "name": "stderr",
     "output_type": "stream",
     "text": [
      "54734it [00:01, 34867.31it/s]\n"
     ]
    }
   ],
   "source": [
    "X = to_array_pairs(lines)"
   ]
  },
  {
   "cell_type": "code",
   "execution_count": 33,
   "metadata": {},
   "outputs": [
    {
     "data": {
      "text/plain": [
       "array([[ 0.,  0.,  0.,  1.,  0.,  1.,  0.,  0.,  0.,  1.,  0.,  0.,  0.,\n",
       "         0.,  1.,  0.,  0.,  0.,  0.,  1.,  1.,  0.,  0.,  0.,  0.,  1.,\n",
       "         0.,  0.,  1.,  0.,  0.,  0.,  0.,  0.,  1.,  0.,  0.,  0.,  1.,\n",
       "         0.,  0.,  0.,  0.,  1.,  0.,  1.,  0.,  0.,  1.,  0.,  0.,  0.,\n",
       "         0.,  0.,  0.,  1.,  1.,  0.,  0.,  0.,  0.,  1.,  0.,  0.,  0.,\n",
       "         0.,  0.,  1.,  0.,  0.,  1.,  0.,  0.,  0.,  1.,  0.,  1.,  0.,\n",
       "         0.,  0.,  0.,  1.,  0.,  0.,  1.,  0.,  0.,  0.,  1.,  0.,  0.,\n",
       "         0.,  1.,  0.,  0.,  0.,  0.,  0.,  1.,  0.,  0.,  0.,  1.,  0.,\n",
       "         0.,  0.,  0.,  1.,  1.,  0.,  0.,  0.,  0.,  0.,  0.,  1.,  1.,\n",
       "         0.,  0.,  0.,  0.,  0.,  0.,  1.,  0.,  0.,  0.,  1.],\n",
       "       [ 0.,  0.,  1.,  0.,  0.,  0.,  0.,  1.,  0.,  0.,  1.,  0.,  0.,\n",
       "         0.,  0.,  1.,  0.,  0.,  1.,  0.,  0.,  1.,  0.,  0.,  0.,  0.,\n",
       "         0.,  1.,  0.,  0.,  0.,  1.,  1.,  0.,  0.,  0.,  0.,  0.,  0.,\n",
       "         1.,  0.,  0.,  1.,  0.,  1.,  0.,  0.,  0.,  0.,  0.,  1.,  0.,\n",
       "         0.,  0.,  0.,  1.,  0.,  1.,  0.,  0.,  0.,  0.,  0.,  1.,  0.,\n",
       "         0.,  0.,  1.,  0.,  0.,  0.,  1.,  0.,  1.,  0.,  0.,  0.,  0.,\n",
       "         1.,  0.,  0.,  0.,  0.,  1.,  1.,  0.,  0.,  0.,  0.,  0.,  1.,\n",
       "         0.,  0.,  0.,  1.,  0.,  0.,  0.,  1.,  0.,  0.,  0.,  1.,  0.,\n",
       "         0.,  1.,  0.,  0.,  0.,  0.,  0.,  1.,  0.,  0.,  1.,  0.,  0.,\n",
       "         1.,  0.,  0.,  0.,  0.,  1.,  0.,  0.,  0.,  0.,  0.]])"
      ]
     },
     "execution_count": 33,
     "metadata": {},
     "output_type": "execute_result"
    }
   ],
   "source": [
    "X[0]"
   ]
  },
  {
   "cell_type": "code",
   "execution_count": 35,
   "metadata": {
    "collapsed": true
   },
   "outputs": [],
   "source": [
    "np.save(\"./data/npy/SlO_pairs\", X)"
   ]
  },
  {
   "cell_type": "code",
   "execution_count": null,
   "metadata": {
    "collapsed": true
   },
   "outputs": [],
   "source": []
  },
  {
   "cell_type": "markdown",
   "metadata": {},
   "source": [
    "#### ans 1"
   ]
  },
  {
   "cell_type": "code",
   "execution_count": 1,
   "metadata": {
    "collapsed": true
   },
   "outputs": [],
   "source": [
    "K_1 = ['CAGCGTCAGGCGTGAAATCTCACCGTCGTTGC', 'TCGGTTCAGGCGTTGCAAACCTGGCTACCGGG', \n",
    "       'GTAGTCCATCATTCCACCTATGTCTGAACTCC', 'CCGGGGGATAATGTTTACGGTCATGCGCCCCC', \n",
    "       'TGGGCGGCTTGCCTTGCAGCCAGCTCCAGCAG', 'AAGCTGGCTGGCAATCTCTTTCGGGGTGAGTC',\n",
    "       'TAGTTTCCGTATCTCCGGATTTATAAAGCTGA', 'GCAGGCGGCGACGCGCAGGGTATGCGCGATTCG', \n",
    "       'GCGACCGCTCAGAAATTCCAGACCCGATCCAAA','TCAACATTATCAATTACAACCGACAGGGAGCC', \n",
    "       'AGCGTGTTCGGCATCACCTTTGGCTTCGGCTG', 'TGCGTGAGCGTATCGCCGCGCGTCTGCGAAAG']\n",
    "       \n",
    "K_2 = ['GACAGAACGGCCTCAGTAGTCTCGTCAGGCTC', 'CTGTTTTCGCAAATCTATGGACTATTGCTATT', \n",
    "       'GGGCGCACGGAATACAAAGCCGTGTATCTGCT', 'TGGCTCTGCAACAGCAGCACCCATGACCACGT', \n",
    "       'GAAATGCTGGTGAGCGTTAATGCCGCAAACAC', 'ATTACGCCTTTTTGCGATTGCCCGGTTTTTGC']"
   ]
  },
  {
   "cell_type": "code",
   "execution_count": 23,
   "metadata": {},
   "outputs": [
    {
     "name": "stderr",
     "output_type": "stream",
     "text": [
      "18it [00:00, 26287.42it/s]\n"
     ]
    }
   ],
   "source": [
    "X_ans = to_array([x[:32] for x in K_1 + K_2])"
   ]
  },
  {
   "cell_type": "code",
   "execution_count": 24,
   "metadata": {
    "collapsed": true
   },
   "outputs": [],
   "source": [
    "np.save(\"./data/npy/ES1_R1_ans\", X_ans)"
   ]
  },
  {
   "cell_type": "markdown",
   "metadata": {},
   "source": [
    "#### db "
   ]
  },
  {
   "cell_type": "code",
   "execution_count": 41,
   "metadata": {
    "collapsed": true
   },
   "outputs": [],
   "source": [
    "with open(\"./data/CRISPR_db_2109.txt\") as f:\n",
    "    lines = f.readlines()"
   ]
  },
  {
   "cell_type": "code",
   "execution_count": 46,
   "metadata": {
    "collapsed": true
   },
   "outputs": [],
   "source": [
    "lines_split = [[y for y in x.split(\"\\t\")[1:-1] if len(y) > 0] for x in lines] "
   ]
  },
  {
   "cell_type": "code",
   "execution_count": 52,
   "metadata": {
    "collapsed": true
   },
   "outputs": [],
   "source": [
    "all_spacers = set()"
   ]
  },
  {
   "cell_type": "code",
   "execution_count": 53,
   "metadata": {},
   "outputs": [
    {
     "name": "stderr",
     "output_type": "stream",
     "text": [
      "100%|██████████| 3058/3058 [00:00<00:00, 464094.57it/s]\n"
     ]
    }
   ],
   "source": [
    "for line in tqdm(lines_split):\n",
    "    for sp in line:\n",
    "        all_spacers.add(sp)"
   ]
  },
  {
   "cell_type": "code",
   "execution_count": 58,
   "metadata": {
    "collapsed": true
   },
   "outputs": [],
   "source": [
    "db = [x[:32] for x in list(all_spacers)]"
   ]
  },
  {
   "cell_type": "code",
   "execution_count": 60,
   "metadata": {},
   "outputs": [
    {
     "name": "stderr",
     "output_type": "stream",
     "text": [
      "1759it [00:00, 59841.84it/s]\n"
     ]
    }
   ],
   "source": [
    "np.save(\"./data/npy/db\", to_array(db))"
   ]
  },
  {
   "cell_type": "markdown",
   "metadata": {
    "collapsed": true
   },
   "source": [
    "#### How about some noise?"
   ]
  },
  {
   "cell_type": "code",
   "execution_count": 1,
   "metadata": {},
   "outputs": [
    {
     "ename": "NameError",
     "evalue": "name 'np' is not defined",
     "output_type": "error",
     "traceback": [
      "\u001b[0;31m---------------------------------------------------------------------------\u001b[0m",
      "\u001b[0;31mNameError\u001b[0m                                 Traceback (most recent call last)",
      "\u001b[0;32m<ipython-input-1-a681902e6572>\u001b[0m in \u001b[0;36m<module>\u001b[0;34m()\u001b[0m\n\u001b[0;32m----> 1\u001b[0;31m \u001b[0mnp\u001b[0m\u001b[0;34m\u001b[0m\u001b[0m\n\u001b[0m",
      "\u001b[0;31mNameError\u001b[0m: name 'np' is not defined"
     ]
    }
   ],
   "source": [
    "np"
   ]
  },
  {
   "cell_type": "code",
   "execution_count": null,
   "metadata": {
    "collapsed": true
   },
   "outputs": [],
   "source": []
  }
 ],
 "metadata": {
  "kernelspec": {
   "display_name": "Python 3",
   "language": "python",
   "name": "python3"
  },
  "language_info": {
   "codemirror_mode": {
    "name": "ipython",
    "version": 3
   },
   "file_extension": ".py",
   "mimetype": "text/x-python",
   "name": "python",
   "nbconvert_exporter": "python",
   "pygments_lexer": "ipython3",
   "version": "3.6.3"
  }
 },
 "nbformat": 4,
 "nbformat_minor": 2
}
