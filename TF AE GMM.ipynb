{
 "cells": [
  {
   "cell_type": "code",
   "execution_count": 1,
   "metadata": {
    "collapsed": true
   },
   "outputs": [],
   "source": [
    "import tensorflow as tf\n",
    "import numpy as np\n",
    "import matplotlib.pyplot as plt\n",
    "import time\n",
    "from IPython import display"
   ]
  },
  {
   "cell_type": "code",
   "execution_count": 2,
   "metadata": {
    "collapsed": true
   },
   "outputs": [],
   "source": [
    "def iterate_minibatches(inputs, batchsize, shuffle=True):\n",
    "    if shuffle:\n",
    "        indices = np.arange(len(inputs))\n",
    "        np.random.shuffle(indices)\n",
    "    for start_idx in range(0, len(inputs) - batchsize + 1, batchsize):\n",
    "        if shuffle:\n",
    "            excerpt = indices[start_idx:start_idx + batchsize]\n",
    "        else:\n",
    "            excerpt = slice(start_idx, start_idx + batchsize)\n",
    "        yield inputs[excerpt]"
   ]
  },
  {
   "cell_type": "code",
   "execution_count": 16,
   "metadata": {
    "collapsed": true
   },
   "outputs": [],
   "source": [
    "#data = np.load(\"../data/npy/ES1_R1.npy\")"
   ]
  },
  {
   "cell_type": "markdown",
   "metadata": {},
   "source": [
    "### Synth data"
   ]
  },
  {
   "cell_type": "code",
   "execution_count": 5,
   "metadata": {
    "collapsed": true
   },
   "outputs": [],
   "source": [
    "def create_clust(dim):\n",
    "    center = np.random.random(dim)*np.random.randint(1,50)\n",
    "    \n",
    "    #cov_1 = np.random.random((dim,dim))\n",
    "    #cov_1 += cov_1.T\n",
    "    #while not all(np.linalg.eigvals(cov_1) > 0):\n",
    "    #    cov_1 = np.random.random((dim,dim))\n",
    "    #    cov_1 += cov_1.T\n",
    "    \n",
    "    cov_1 = np.diag(np.ones(dim))\n",
    "    \n",
    "    return np.random.multivariate_normal(center, cov_1 * 2, 100)"
   ]
  },
  {
   "cell_type": "code",
   "execution_count": 6,
   "metadata": {},
   "outputs": [],
   "source": [
    "clust_1 = create_clust(4)\n",
    "clust_2 = create_clust(4)"
   ]
  },
  {
   "cell_type": "code",
   "execution_count": 7,
   "metadata": {},
   "outputs": [
    {
     "data": {
      "image/png": "[encoded data removed]",
      "text/plain": [
       "<matplotlib.figure.Figure at 0x7f0285a8f2e8>"
      ]
     },
     "metadata": {},
     "output_type": "display_data"
    }
   ],
   "source": [
    "plt.scatter(clust_1[:,0],clust_1[:,1], c='y' )\n",
    "plt.scatter(clust_2[:,0],clust_2[:,1], c='r' )\n",
    "plt.show()"
   ]
  },
  {
   "cell_type": "code",
   "execution_count": 8,
   "metadata": {
    "collapsed": true
   },
   "outputs": [],
   "source": [
    "data = np.concatenate((clust_1, clust_2))"
   ]
  },
  {
   "cell_type": "code",
   "execution_count": 9,
   "metadata": {},
   "outputs": [
    {
     "data": {
      "text/plain": [
       "(200, 4)"
      ]
     },
     "execution_count": 9,
     "metadata": {},
     "output_type": "execute_result"
    }
   ],
   "source": [
    "data.shape"
   ]
  },
  {
   "cell_type": "code",
   "execution_count": 10,
   "metadata": {
    "collapsed": true
   },
   "outputs": [],
   "source": [
    "# Training Parameters\n",
    "learning_rate = 0.0001\n",
    "#num_steps = 30000\n",
    "batch_size = 20\n",
    "clusters_num = 2\n",
    "\n",
    "#display_step = 1000\n",
    "#examples_to_show = 10\n",
    "\n",
    "# Network Parameters\n",
    "num_hidden_1 = 10 # 1st layer num features\n",
    "int_dim = 2 # 2nd layer num features (the latent dim)\n",
    "num_input = 4 # MNIST data input (img shape: 28*28)"
   ]
  },
  {
   "cell_type": "code",
   "execution_count": 33,
   "metadata": {},
   "outputs": [],
   "source": [
    "X = tf.placeholder(\"float\", [None, num_input])\n",
    "\n",
    "weights = {\n",
    "    'encoder_h1': tf.Variable(tf.random_normal([num_input, num_hidden_1])),\n",
    "    'encoder_h2': tf.Variable(tf.random_normal([num_hidden_1, int_dim])),\n",
    "    'decoder_h1': tf.Variable(tf.random_normal([int_dim, num_hidden_1])),\n",
    "    'decoder_h2': tf.Variable(tf.random_normal([num_hidden_1, num_input])),\n",
    "    'predictor_h_1': tf.Variable(tf.random_normal([int_dim + 1, num_hidden_1])),\n",
    "    'predictor_h_2': tf.Variable(tf.random_normal([num_hidden_1, clusters_num]))\n",
    "}\n",
    "biases = {\n",
    "    'encoder_b1': tf.Variable(tf.random_normal([num_hidden_1])),\n",
    "    'encoder_b2': tf.Variable(tf.random_normal([int_dim])),\n",
    "    'decoder_b1': tf.Variable(tf.random_normal([num_hidden_1])),\n",
    "    'decoder_b2': tf.Variable(tf.random_normal([num_input])),\n",
    "    'predictor_b_1': tf.Variable(tf.random_normal([num_hidden_1])),\n",
    "    'predictor_b_2': tf.Variable(tf.random_normal([clusters_num]))\n",
    "}\n",
    "\n",
    "# Building the encoder\n",
    "\n",
    "    # Encoder Hidden layer with sigmoid activation #1\n",
    "enc_layer_1 = tf.nn.sigmoid(tf.add(tf.matmul(X, weights['encoder_h1']),\n",
    "                                   biases['encoder_b1']))\n",
    "    # Encoder Hidden layer with sigmoid activation #2\n",
    "z = tf.nn.sigmoid(tf.add(tf.matmul(enc_layer_1, weights['encoder_h2']),\n",
    "                                   biases['encoder_b2']))\n",
    "\n",
    "\n",
    "# Building the decoder\n",
    "\n",
    "    # Decoder Hidden layer with sigmoid activation #1\n",
    "dec_layer_1 = tf.nn.sigmoid(tf.add(tf.matmul(z, weights['decoder_h1']),\n",
    "                                   biases['decoder_b1']))\n",
    "    # Decoder Hidden layer with sigmoid activation #2\n",
    "decoder = (tf.add(tf.matmul(dec_layer_1, weights['decoder_h2']),\n",
    "                                   biases['decoder_b2']))"
   ]
  },
  {
   "cell_type": "code",
   "execution_count": 34,
   "metadata": {},
   "outputs": [],
   "source": [
    "mse = tf.reduce_mean((decoder - X)**2, 1)\n",
    "\n",
    "predictor_inp = tf.concat([z, tf.reshape(mse, (-1,1))], axis = 1)"
   ]
  },
  {
   "cell_type": "code",
   "execution_count": 35,
   "metadata": {},
   "outputs": [],
   "source": [
    "predictor_layer_1 = tf.nn.relu(tf.add(tf.matmul(predictor_inp, weights['predictor_h_1']),\n",
    "                                   biases['predictor_b_1']))\n",
    "gamma = tf.nn.softmax(tf.add(tf.matmul(predictor_layer_1, weights['predictor_h_2']),\n",
    "                                   biases['predictor_b_2']))"
   ]
  },
  {
   "cell_type": "code",
   "execution_count": 36,
   "metadata": {
    "collapsed": true
   },
   "outputs": [],
   "source": [
    "def est_gmm(gamma, z):\n",
    "    weights = tf.reduce_mean(gamma, reduction_indices=[0])\n",
    "    means = tf.transpose(tf.matmul(tf.transpose(z), gamma) / tf.transpose(tf.reduce_sum(gamma, reduction_indices=[0])))\n",
    "    \n",
    "    z_minus_means = tf.map_fn(lambda x: z - x, means)\n",
    "\n",
    "    def internal(x):\n",
    "        x = tf.reshape(x, (1,-1))\n",
    "        return tf.matmul(tf.transpose(x), x)\n",
    "\n",
    "    matrixes = tf.map_fn(lambda x: tf.map_fn(internal, x), z_minus_means)\n",
    "    \n",
    "    m_r = tf.reshape(matrixes, (clusters_num * batch_size, int_dim * int_dim))\n",
    "    m_r2 = tf.reshape(matrixes, (clusters_num * batch_size, int_dim * int_dim)) * tf.reshape(tf.transpose(gamma), (clusters_num * batch_size,1))\n",
    "    m_r3 = tf.reduce_sum(tf.reshape(m_r2, (clusters_num,batch_size,int_dim,int_dim)), [1]) \n",
    "    sigmas = tf.reshape(tf.transpose(tf.transpose(tf.reshape(m_r3, (clusters_num, int_dim * int_dim))) / tf.reduce_sum(gamma, 0)), (clusters_num,int_dim,int_dim))\n",
    "    \n",
    "    means_minus_z = tf.map_fn(lambda x: means - x, z)\n",
    "    \n",
    "    def internal_e_1(z):\n",
    "        #return (-0.5 * tf.map_fn(lambda x: tf.matmul(tf.matmul(tf.reshape(x, (1, -1)), z[1]), tf.reshape(x, (-1,1))), z[0]), 0.)\n",
    "        #return tf.map_fn(lambda x,y: (tf.matmul(tf.reshape(x, (1, -1)), y), 0.), (z, sigmas), dtype=(tf.float32, tf.float32))[0]\n",
    "        return tf.exp( -0.5 * \n",
    "            tf.map_fn(lambda x: tf.matmul(tf.matmul(tf.reshape(x, (1, -1)), tf.linalg.inv(z[1])),  tf.reshape(x, (-1, 1))),\n",
    "                      z[0])) / tf.sqrt(tf.abs(tf.linalg.det(z[1])))\n",
    "\n",
    "    #en_1 = tf.map_fn(lambda x: tf.transpose(x, (1,0,2)),means_minus_z)#, dtype=(tf.float32, tf.float32))\n",
    "    en_1 = tf.transpose(means_minus_z, (1,0,2))\n",
    "\n",
    "    en_2 = tf.map_fn(internal_e_1, (en_1, sigmas), dtype=(tf.float32))\n",
    "\n",
    "    en = tf.reduce_mean(-tf.log(tf.reduce_sum(tf.transpose(tf.reshape(en_2, (clusters_num, batch_size))) * weights, 1)))\n",
    "    \n",
    "    return weights, means, sigmas, en"
   ]
  },
  {
   "cell_type": "code",
   "execution_count": 37,
   "metadata": {},
   "outputs": [],
   "source": [
    "w, m, s, e = est_gmm(gamma, z)"
   ]
  },
  {
   "cell_type": "code",
   "execution_count": 39,
   "metadata": {
    "collapsed": true
   },
   "outputs": [],
   "source": [
    "# Define loss and optimizer, minimize the squared error\n",
    "loss = tf.reduce_mean(mse) + 1 * e# + 0.001 / tf.reduce_sum(sigma_flat)\n",
    "optimizer = tf.train.AdamOptimizer(learning_rate).minimize(loss)\n",
    "\n",
    "# Initialize the variables (i.e. assign their default value)\n",
    "init = tf.global_variables_initializer()"
   ]
  },
  {
   "cell_type": "code",
   "execution_count": null,
   "metadata": {
    "collapsed": true
   },
   "outputs": [],
   "source": []
  },
  {
   "cell_type": "code",
   "execution_count": null,
   "metadata": {
    "collapsed": true
   },
   "outputs": [],
   "source": []
  },
  {
   "cell_type": "code",
   "execution_count": null,
   "metadata": {
    "collapsed": true
   },
   "outputs": [],
   "source": []
  },
  {
   "cell_type": "code",
   "execution_count": 40,
   "metadata": {},
   "outputs": [],
   "source": [
    "sess.close()"
   ]
  },
  {
   "cell_type": "code",
   "execution_count": 41,
   "metadata": {
    "collapsed": true
   },
   "outputs": [],
   "source": [
    "sess = tf.Session()\n",
    "sess.run(init)\n",
    "\n",
    "# Training"
   ]
  },
  {
   "cell_type": "code",
   "execution_count": 42,
   "metadata": {
    "collapsed": true
   },
   "outputs": [],
   "source": [
    "epochs = 10\n",
    "losses = []"
   ]
  },
  {
   "cell_type": "code",
   "execution_count": 43,
   "metadata": {},
   "outputs": [
    {
     "data": {
      "text/plain": [
       "[array([ 144.29673767,  139.64575195,  135.72424316,  148.22106934,\n",
       "         139.37278748,  138.16400146,  140.21508789,  147.70288086,\n",
       "         169.83377075,  135.6854248 ,   13.11942863,   16.82543373,\n",
       "          35.44166565,   26.55672455,   19.24661636,   23.30073929,\n",
       "          26.49980927,   30.99579811,   35.77031708,   25.04833221], dtype=float32),\n",
       " -5.9684167,\n",
       " array([[[  5.35464613e-03,   1.25352363e-03],\n",
       "         [  1.25352363e-03,   4.58867376e-04]],\n",
       " \n",
       "        [[  3.19405081e-04,   2.80088643e-05],\n",
       "         [  2.80088643e-05,   2.82154497e-06]]], dtype=float32)]"
      ]
     },
     "execution_count": 43,
     "metadata": {},
     "output_type": "execute_result"
    }
   ],
   "source": [
    "sess.run([mse, e, s], feed_dict={X: data[90:110]})"
   ]
  },
  {
   "cell_type": "code",
   "execution_count": 44,
   "metadata": {},
   "outputs": [
    {
     "data": {
      "text/plain": [
       "<tf.Tensor 'Reshape_28:0' shape=(2, 2, 2) dtype=float32>"
      ]
     },
     "execution_count": 44,
     "metadata": {},
     "output_type": "execute_result"
    }
   ],
   "source": [
    "s"
   ]
  },
  {
   "cell_type": "code",
   "execution_count": 45,
   "metadata": {
    "scrolled": false
   },
   "outputs": [
    {
     "data": {
      "image/png": "[encoded data removed]",
      "text/plain": [
       "<matplotlib.figure.Figure at 0x7f020df57400>"
      ]
     },
     "metadata": {},
     "output_type": "display_data"
    }
   ],
   "source": [
    "for i in range(epochs):\n",
    "    for batch in iterate_minibatches(data, batch_size, shuffle = True):\n",
    "        _, l = sess.run([optimizer, loss], feed_dict={X: batch})\n",
    "        losses.append(l)\n",
    "    # Display logs per step\n",
    "    \n",
    "    if i % 1 == 0 or i == 1:\n",
    "        print('Step %i: Minibatch Loss: %f' % (i, l))\n",
    "        \n",
    "        display.clear_output(wait=True)\n",
    "        plt.plot(losses, label='train')\n",
    "    #    plt.plot(v_losses_valid, label='validation')\n",
    "        plt.legend()\n",
    "        plt.show()\n"
   ]
  },
  {
   "cell_type": "code",
   "execution_count": null,
   "metadata": {
    "collapsed": true
   },
   "outputs": [],
   "source": []
  },
  {
   "cell_type": "code",
   "execution_count": 46,
   "metadata": {},
   "outputs": [
    {
     "data": {
      "text/plain": [
       "[array([[  1.00000000e+00,   0.00000000e+00],\n",
       "        [  1.00000000e+00,   0.00000000e+00],\n",
       "        [  1.00000000e+00,   0.00000000e+00],\n",
       "        [  1.00000000e+00,   0.00000000e+00],\n",
       "        [  1.00000000e+00,   0.00000000e+00],\n",
       "        [  1.00000000e+00,   0.00000000e+00],\n",
       "        [  1.00000000e+00,   0.00000000e+00],\n",
       "        [  1.00000000e+00,   0.00000000e+00],\n",
       "        [  1.00000000e+00,   0.00000000e+00],\n",
       "        [  1.00000000e+00,   0.00000000e+00],\n",
       "        [  9.99997735e-01,   2.20566994e-06],\n",
       "        [  1.00000000e+00,   4.95495129e-08],\n",
       "        [  1.00000000e+00,   4.20500295e-16],\n",
       "        [  1.00000000e+00,   3.20998133e-12],\n",
       "        [  1.00000000e+00,   4.89824004e-09],\n",
       "        [  1.00000000e+00,   7.14715925e-11],\n",
       "        [  1.00000000e+00,   3.23290591e-12],\n",
       "        [  1.00000000e+00,   3.75343135e-14],\n",
       "        [  1.00000000e+00,   3.09243603e-16],\n",
       "        [  1.00000000e+00,   1.46156420e-11]], dtype=float32)]"
      ]
     },
     "execution_count": 46,
     "metadata": {},
     "output_type": "execute_result"
    }
   ],
   "source": [
    "sess.run([gamma], {X: data[90:110]})"
   ]
  },
  {
   "cell_type": "code",
   "execution_count": 31,
   "metadata": {},
   "outputs": [
    {
     "data": {
      "text/plain": [
       "array([ 0.70239951,  0.86487025])"
      ]
     },
     "execution_count": 31,
     "metadata": {},
     "output_type": "execute_result"
    }
   ],
   "source": [
    "data[0]"
   ]
  },
  {
   "cell_type": "code",
   "execution_count": 32,
   "metadata": {},
   "outputs": [
    {
     "data": {
      "text/plain": [
       "<tensorflow.python.framework.ops.Graph at 0x7f2e4e5aecf8>"
      ]
     },
     "execution_count": 32,
     "metadata": {},
     "output_type": "execute_result"
    }
   ],
   "source": [
    "sess.graph."
   ]
  },
  {
   "cell_type": "code",
   "execution_count": 10,
   "metadata": {},
   "outputs": [],
   "source": [
    "summ_writer = tf.summary.FileWriter(\"/home/anton/TF_logs/CRISPR/\", sess.graph, filename_suffix=\"AE\")"
   ]
  },
  {
   "cell_type": "code",
   "execution_count": null,
   "metadata": {
    "collapsed": true
   },
   "outputs": [],
   "source": []
  },
  {
   "cell_type": "code",
   "execution_count": 37,
   "metadata": {},
   "outputs": [],
   "source": [
    "summ_writer.close()"
   ]
  },
  {
   "cell_type": "code",
   "execution_count": 24,
   "metadata": {
    "collapsed": true
   },
   "outputs": [],
   "source": [
    "#gamma = tf.placeholder(tf.float32)\n",
    "#z = tf.placeholder(tf.float32)    \n",
    "\n",
    "weights = tf.reduce_mean(gamma, reduction_indices=[0])\n",
    "means = tf.transpose(tf.matmul(tf.transpose(z), gamma) / tf.transpose(tf.reduce_sum(gamma, reduction_indices=[0])))\n",
    "\n",
    "z_minus_means = tf.reshape(tf.map_fn(lambda x: z - x, means), [-1, int_dim])\n",
    "\n",
    "z_minus_means_squared = tf.map_fn(lambda x: tf.reduce_sum(x * x), z_minus_means)\n",
    "\n",
    "sigma_flat = tf.reduce_sum(tf.transpose(tf.reshape(\n",
    "        z_minus_means_squared * tf.reshape(tf.transpose(gamma), (1, -1)), [clusters_num, batch_size])), 0) / tf.reduce_sum(gamma, 0)\n",
    "\n",
    "pre_energy = tf.reduce_sum(tf.exp(-0.5 * tf.transpose(\n",
    "    tf.reshape(z_minus_means_squared,  [clusters_num, batch_size])) / sigma_flat) * weights  / tf.sqrt(6.28  * sigma_flat),1 )\n",
    "                           \n",
    "energy = tf.reduce_mean(-tf.log(tf.reduce_sum(tf.exp(-0.5 * tf.transpose(\n",
    "    tf.reshape(z_minus_means_squared,  [clusters_num, batch_size])) / sigma_flat) * weights  / tf.sqrt(6.28  * sigma_flat), 1)))"
   ]
  },
  {
   "cell_type": "code",
   "execution_count": null,
   "metadata": {
    "collapsed": true
   },
   "outputs": [],
   "source": []
  }
 ],
 "metadata": {
  "kernelspec": {
   "display_name": "Python 3",
   "language": "python",
   "name": "python3"
  },
  "language_info": {
   "codemirror_mode": {
    "name": "ipython",
    "version": 3
   },
   "file_extension": ".py",
   "mimetype": "text/x-python",
   "name": "python",
   "nbconvert_exporter": "python",
   "pygments_lexer": "ipython3",
   "version": "3.6.3"
  }
 },
 "nbformat": 4,
 "nbformat_minor": 2
}
