{
 "cells": [
  {
   "cell_type": "code",
   "execution_count": 1,
   "metadata": {
    "collapsed": true
   },
   "outputs": [],
   "source": [
    "import tensorflow as tf\n",
    "import numpy as np\n",
    "import matplotlib.pyplot as plt\n",
    "import time\n",
    "from IPython import display"
   ]
  },
  {
   "cell_type": "code",
   "execution_count": 2,
   "metadata": {
    "collapsed": true
   },
   "outputs": [],
   "source": [
    "def iterate_minibatches(inputs, batchsize, shuffle=True):\n",
    "    if shuffle:\n",
    "        indices = np.arange(len(inputs))\n",
    "        np.random.shuffle(indices)\n",
    "    for start_idx in range(0, len(inputs) - batchsize + 1, batchsize):\n",
    "        if shuffle:\n",
    "            excerpt = indices[start_idx:start_idx + batchsize]\n",
    "        else:\n",
    "            excerpt = slice(start_idx, start_idx + batchsize)\n",
    "        yield inputs[excerpt]"
   ]
  },
  {
   "cell_type": "code",
   "execution_count": 3,
   "metadata": {
    "collapsed": true
   },
   "outputs": [],
   "source": [
    "#data = np.load(\"../data/npy/ES1_R1.npy\")"
   ]
  },
  {
   "cell_type": "markdown",
   "metadata": {},
   "source": [
    "### Synth data"
   ]
  },
  {
   "cell_type": "code",
   "execution_count": 4,
   "metadata": {
    "collapsed": true
   },
   "outputs": [],
   "source": [
    "def create_clust(dim):\n",
    "    center = np.random.random(dim)*np.random.randint(1,50)\n",
    "    \n",
    "    #cov_1 = np.random.random((dim,dim))\n",
    "    #cov_1 += cov_1.T\n",
    "    #while not all(np.linalg.eigvals(cov_1) > 0):\n",
    "    #    cov_1 = np.random.random((dim,dim))\n",
    "    #    cov_1 += cov_1.T\n",
    "    \n",
    "    cov_1 = np.diag(np.ones(dim))\n",
    "    \n",
    "    return np.random.multivariate_normal(center, cov_1 * 2, 1000)"
   ]
  },
  {
   "cell_type": "code",
   "execution_count": 5,
   "metadata": {},
   "outputs": [],
   "source": [
    "clust_1 = create_clust(4)\n",
    "clust_2 = create_clust(4)\n",
    "clust_3 = create_clust(4)"
   ]
  },
  {
   "cell_type": "code",
   "execution_count": 6,
   "metadata": {},
   "outputs": [
    {
     "data": {
      "image/png": "[encoded data removed]",
      "text/plain": [
       "<matplotlib.figure.Figure at 0x7f9c0c6f91d0>"
      ]
     },
     "metadata": {},
     "output_type": "display_data"
    }
   ],
   "source": [
    "plt.scatter(clust_1[:,0],clust_1[:,1], c='y' )\n",
    "plt.scatter(clust_2[:,0],clust_2[:,1], c='r' )\n",
    "plt.scatter(clust_3[:,0],clust_3[:,1], c='b' )\n",
    "plt.show()"
   ]
  },
  {
   "cell_type": "code",
   "execution_count": 7,
   "metadata": {
    "collapsed": true
   },
   "outputs": [],
   "source": [
    "data = np.concatenate((clust_1, clust_2, clust_3))"
   ]
  },
  {
   "cell_type": "code",
   "execution_count": 8,
   "metadata": {},
   "outputs": [
    {
     "data": {
      "text/plain": [
       "array([[  4.63083582,   1.88596975,  -1.59269187,   1.70061791],\n",
       "       [ -0.6044543 ,   2.52569658,   0.96232162,  -0.22558999],\n",
       "       [  4.71226555,   2.94104598,   1.4976849 ,  -0.92322529],\n",
       "       ..., \n",
       "       [ 22.66782171,   5.18699783,  12.05795846,  13.84738617],\n",
       "       [ 21.55906111,   5.31061734,  13.89121167,  14.42260578],\n",
       "       [ 22.73053158,   3.29152718,  15.68422735,  14.74858679]])"
      ]
     },
     "execution_count": 8,
     "metadata": {},
     "output_type": "execute_result"
    }
   ],
   "source": [
    "data"
   ]
  },
  {
   "cell_type": "code",
   "execution_count": 15,
   "metadata": {
    "collapsed": true
   },
   "outputs": [],
   "source": [
    "# Training Parameters\n",
    "learning_rate = 0.001\n",
    "#num_steps = 30000\n",
    "batch_size = 50\n",
    "clusters_num = 3\n",
    "\n",
    "#display_step = 1000\n",
    "#examples_to_show = 10\n",
    "\n",
    "# Network Parameters\n",
    "num_hidden_1 = 100 # 1st layer num features\n",
    "int_dim = 2 # 2nd layer num features (the latent dim)\n",
    "num_input = 4 # MNIST data input (img shape: 28*28)"
   ]
  },
  {
   "cell_type": "code",
   "execution_count": 16,
   "metadata": {},
   "outputs": [],
   "source": [
    "X = tf.placeholder(\"float\", [None, num_input])\n",
    "\n",
    "weights = {\n",
    "    'encoder_h1': tf.Variable(tf.random_normal([num_input, num_hidden_1])),\n",
    "    'encoder_h2': tf.Variable(tf.random_normal([num_hidden_1, int_dim])),\n",
    "    'decoder_h1': tf.Variable(tf.random_normal([int_dim, num_hidden_1])),\n",
    "    'decoder_h2': tf.Variable(tf.random_normal([num_hidden_1, num_input])),\n",
    "    'predictor_h_1': tf.Variable(tf.random_normal([int_dim + 1, num_hidden_1])),\n",
    "    'predictor_h_2': tf.Variable(tf.random_normal([num_hidden_1, clusters_num]))\n",
    "}\n",
    "biases = {\n",
    "    'encoder_b1': tf.Variable(tf.random_normal([num_hidden_1])),\n",
    "    'encoder_b2': tf.Variable(tf.random_normal([int_dim])),\n",
    "    'decoder_b1': tf.Variable(tf.random_normal([num_hidden_1])),\n",
    "    'decoder_b2': tf.Variable(tf.random_normal([num_input])),\n",
    "    'predictor_b_1': tf.Variable(tf.random_normal([num_hidden_1])),\n",
    "    'predictor_b_2': tf.Variable(tf.random_normal([clusters_num]))\n",
    "}\n",
    "\n",
    "# Building the encoder\n",
    "\n",
    "    # Encoder Hidden layer with sigmoid activation #1\n",
    "enc_layer_1 = tf.nn.sigmoid(tf.add(tf.matmul(X, weights['encoder_h1']),\n",
    "                                   biases['encoder_b1']))\n",
    "    # Encoder Hidden layer with sigmoid activation #2\n",
    "z = tf.nn.sigmoid(tf.add(tf.matmul(enc_layer_1, weights['encoder_h2']),\n",
    "                                   biases['encoder_b2']))\n",
    "\n",
    "\n",
    "# Building the decoder\n",
    "\n",
    "    # Decoder Hidden layer with sigmoid activation #1\n",
    "dec_layer_1 = tf.nn.sigmoid(tf.add(tf.matmul(z, weights['decoder_h1']),\n",
    "                                   biases['decoder_b1']))\n",
    "    # Decoder Hidden layer with sigmoid activation #2\n",
    "decoder = tf.add(tf.matmul(dec_layer_1, weights['decoder_h2']),\n",
    "                                   biases['decoder_b2'])"
   ]
  },
  {
   "cell_type": "code",
   "execution_count": 17,
   "metadata": {},
   "outputs": [],
   "source": [
    "mse = tf.reduce_mean(tf.squared_difference(decoder, X), 1)\n",
    "\n",
    "predictor_inp = tf.concat([z, tf.reshape(mse, (-1,1))], axis = 1)"
   ]
  },
  {
   "cell_type": "code",
   "execution_count": 18,
   "metadata": {},
   "outputs": [],
   "source": [
    "predictor_layer_1 = tf.nn.sigmoid(tf.add(tf.matmul(predictor_inp, weights['predictor_h_1']),\n",
    "                                   biases['predictor_b_1']))\n",
    "gamma = tf.nn.softmax(tf.add(tf.matmul(predictor_layer_1, weights['predictor_h_2']),\n",
    "                                   biases['predictor_b_2']))"
   ]
  },
  {
   "cell_type": "code",
   "execution_count": 19,
   "metadata": {
    "collapsed": true
   },
   "outputs": [],
   "source": [
    "def est_gmm(gamma, z):\n",
    "    weights = tf.reduce_mean(gamma, reduction_indices=[0])\n",
    "    means = tf.transpose(tf.matmul(tf.transpose(z), gamma) / tf.transpose(tf.reduce_sum(gamma, reduction_indices=[0])))\n",
    "    \n",
    "    z_minus_means = tf.map_fn(lambda x: z - x, means)\n",
    "\n",
    "    def internal(x):\n",
    "        x = tf.reshape(x, (1,-1))\n",
    "        return tf.matmul(tf.transpose(x), x)\n",
    "\n",
    "    matrixes = tf.map_fn(lambda x: tf.map_fn(internal, x), z_minus_means)\n",
    "    \n",
    "    m_r = tf.reshape(matrixes, (clusters_num * batch_size, int_dim * int_dim))\n",
    "    m_r2 = tf.reshape(matrixes, (clusters_num * batch_size, int_dim * int_dim)) * tf.reshape(tf.transpose(gamma), (clusters_num * batch_size,1))\n",
    "    m_r3 = tf.reduce_sum(tf.reshape(m_r2, (clusters_num,batch_size,int_dim,int_dim)), [1]) \n",
    "    sigmas = tf.reshape(tf.transpose(tf.transpose(tf.reshape(m_r3, (clusters_num, int_dim * int_dim))) / tf.reduce_sum(gamma, 0)), (clusters_num,int_dim,int_dim))\n",
    "    \n",
    "    means_minus_z = tf.map_fn(lambda x: means - x, z)\n",
    "    \n",
    "    def internal_e_1(z):\n",
    "        #return (-0.5 * tf.map_fn(lambda x: tf.matmul(tf.matmul(tf.reshape(x, (1, -1)), z[1]), tf.reshape(x, (-1,1))), z[0]), 0.)\n",
    "        #return tf.map_fn(lambda x,y: (tf.matmul(tf.reshape(x, (1, -1)), y), 0.), (z, sigmas), dtype=(tf.float32, tf.float32))[0]\n",
    "        return tf.exp( -0.5 * \n",
    "            tf.map_fn(lambda x: tf.matmul(tf.matmul(tf.reshape(x, (1, -1)), tf.linalg.inv(z[1])),  tf.reshape(x, (-1, 1))),\n",
    "                      z[0])) / tf.sqrt(tf.abs(tf.linalg.det(z[1])))\n",
    "\n",
    "    #en_1 = tf.map_fn(lambda x: tf.transpose(x, (1,0,2)),means_minus_z)#, dtype=(tf.float32, tf.float32))\n",
    "    en_1 = tf.transpose(means_minus_z, (1,0,2))\n",
    "\n",
    "    en_2 = tf.map_fn(internal_e_1, (en_1, sigmas), dtype=(tf.float32))\n",
    "\n",
    "    en = tf.reduce_mean(-tf.log(tf.reduce_sum(tf.transpose(tf.reshape(en_2, (clusters_num, batch_size))) * weights, 1)))\n",
    "    \n",
    "    return weights, means, sigmas, en"
   ]
  },
  {
   "cell_type": "code",
   "execution_count": 20,
   "metadata": {},
   "outputs": [],
   "source": [
    "w, m, s, e = est_gmm(gamma, z)"
   ]
  },
  {
   "cell_type": "code",
   "execution_count": 21,
   "metadata": {},
   "outputs": [],
   "source": [
    "# Define loss and optimizer, minimize the squared error\n",
    "loss = tf.reduce_mean(mse)+ 0.01 * e + tf.reduce_sum(0.001 / s)\n",
    "optimizer = tf.train.AdamOptimizer(learning_rate).minimize(loss)\n",
    "\n",
    "# Initialize the variables (i.e. assign their default value)\n",
    "init = tf.global_variables_initializer()"
   ]
  },
  {
   "cell_type": "code",
   "execution_count": null,
   "metadata": {
    "collapsed": true
   },
   "outputs": [],
   "source": []
  },
  {
   "cell_type": "code",
   "execution_count": null,
   "metadata": {
    "collapsed": true
   },
   "outputs": [],
   "source": []
  },
  {
   "cell_type": "code",
   "execution_count": null,
   "metadata": {
    "collapsed": true
   },
   "outputs": [],
   "source": []
  },
  {
   "cell_type": "code",
   "execution_count": 34,
   "metadata": {},
   "outputs": [],
   "source": [
    "sess.close()"
   ]
  },
  {
   "cell_type": "code",
   "execution_count": 22,
   "metadata": {
    "collapsed": true
   },
   "outputs": [],
   "source": [
    "sess = tf.Session()\n",
    "sess.run(init)\n",
    "\n",
    "# Training"
   ]
  },
  {
   "cell_type": "code",
   "execution_count": 23,
   "metadata": {
    "collapsed": true
   },
   "outputs": [],
   "source": [
    "epochs = 30\n",
    "losses = []"
   ]
  },
  {
   "cell_type": "code",
   "execution_count": 24,
   "metadata": {},
   "outputs": [
    {
     "data": {
      "text/plain": [
       "50"
      ]
     },
     "execution_count": 24,
     "metadata": {},
     "output_type": "execute_result"
    }
   ],
   "source": [
    "batch_size"
   ]
  },
  {
   "cell_type": "code",
   "execution_count": 35,
   "metadata": {},
   "outputs": [
    {
     "data": {
      "text/plain": [
       "[array([ 1183.78393555,  1262.59716797,  1416.48303223,  1368.10888672,\n",
       "         1246.22045898,  1375.89465332,  1270.37670898,  1323.63049316,\n",
       "         1353.40197754,  1309.61914062,   270.83230591,   253.5715332 ,\n",
       "          266.6416626 ,   319.92532349,   299.41912842,   309.18899536,\n",
       "          301.73791504,   305.04962158,   271.15463257,   325.20141602,\n",
       "          277.45022583,   297.7142334 ,   268.99887085,   329.20132446,\n",
       "          269.27923584,   275.41015625,   232.63874817,   239.3964386 ,\n",
       "          294.01409912,   307.61743164,   326.44415283,   286.04260254,\n",
       "          279.0723877 ,   265.73730469,   280.5635376 ,   275.3460083 ,\n",
       "          284.77056885,   322.63656616,   304.51107788,   285.08877563,\n",
       "          326.52084351,   305.32580566,   262.28399658,   257.8465271 ,\n",
       "          303.18804932,   324.9548645 ,   256.67028809,   275.94665527,\n",
       "          307.82559204,   288.51852417], dtype=float32),\n",
       " array([[  2.71827608e-01,   1.74954291e-02],\n",
       "        [  5.95317543e-01,   5.96183836e-02],\n",
       "        [  6.49069071e-01,   7.18951598e-02],\n",
       "        [  6.31421208e-01,   6.81611001e-02],\n",
       "        [  2.39237294e-01,   1.26763489e-02],\n",
       "        [  5.57572365e-01,   4.99365851e-02],\n",
       "        [  3.59433532e-01,   2.08036192e-02],\n",
       "        [  6.06484532e-01,   6.24979883e-02],\n",
       "        [  6.42769277e-01,   6.84186071e-02],\n",
       "        [  5.12120843e-01,   4.52152528e-02],\n",
       "        [  1.14236704e-04,   3.47642999e-05],\n",
       "        [  1.00403893e-04,   3.28869100e-05],\n",
       "        [  1.43450277e-04,   3.03295874e-05],\n",
       "        [  1.21497513e-04,   2.71637673e-05],\n",
       "        [  1.26168510e-04,   3.21092448e-05],\n",
       "        [  1.08892542e-04,   2.97743627e-05],\n",
       "        [  2.03185045e-04,   2.69356806e-05],\n",
       "        [  8.93990218e-05,   2.41637372e-05],\n",
       "        [  1.34706032e-04,   2.97429215e-05],\n",
       "        [  1.12432164e-04,   3.06944094e-05],\n",
       "        [  1.21257232e-04,   2.53914222e-05],\n",
       "        [  1.23722581e-04,   3.35921795e-05],\n",
       "        [  1.38506512e-04,   3.02592962e-05],\n",
       "        [  1.52545777e-04,   3.26519112e-05],\n",
       "        [  1.21762881e-04,   2.95468635e-05],\n",
       "        [  1.02916463e-04,   3.24712455e-05],\n",
       "        [  1.53579080e-04,   3.63996551e-05],\n",
       "        [  1.17722135e-04,   2.21230111e-05],\n",
       "        [  1.13763621e-04,   2.60984179e-05],\n",
       "        [  1.54581081e-04,   2.84163525e-05],\n",
       "        [  1.19021992e-04,   2.15964101e-05],\n",
       "        [  2.18832574e-04,   3.14511526e-05],\n",
       "        [  1.16571347e-04,   3.22637316e-05],\n",
       "        [  1.86829930e-04,   2.73706482e-05],\n",
       "        [  1.01759688e-04,   2.63351285e-05],\n",
       "        [  1.18583812e-04,   2.51548172e-05],\n",
       "        [  1.14714829e-04,   4.26194165e-05],\n",
       "        [  1.86348145e-04,   4.64953227e-05],\n",
       "        [  1.28067637e-04,   2.93195353e-05],\n",
       "        [  1.35458773e-04,   2.61604619e-05],\n",
       "        [  8.29724231e-05,   2.78716907e-05],\n",
       "        [  9.40202881e-05,   2.14244264e-05],\n",
       "        [  1.17727752e-04,   2.89956515e-05],\n",
       "        [  1.40163815e-04,   3.69150657e-05],\n",
       "        [  1.06712083e-04,   2.85563947e-05],\n",
       "        [  8.45232935e-05,   2.56107305e-05],\n",
       "        [  1.57094662e-04,   2.86812010e-05],\n",
       "        [  1.06836516e-04,   3.89191555e-05],\n",
       "        [  1.01686150e-04,   3.05290014e-05],\n",
       "        [  1.18992495e-04,   2.56353615e-05]], dtype=float32),\n",
       " array([[ 0.01908163,  0.90841901,  0.07249945],\n",
       "        [ 0.01908163,  0.90841901,  0.07249945],\n",
       "        [ 0.01908163,  0.90841901,  0.07249945],\n",
       "        [ 0.01908163,  0.90841901,  0.07249945],\n",
       "        [ 0.01908163,  0.90841901,  0.07249945],\n",
       "        [ 0.01908163,  0.90841901,  0.07249945],\n",
       "        [ 0.01908163,  0.90841901,  0.07249945],\n",
       "        [ 0.01908163,  0.90841901,  0.07249945],\n",
       "        [ 0.01908163,  0.90841901,  0.07249945],\n",
       "        [ 0.01908163,  0.90841901,  0.07249945],\n",
       "        [ 0.01901873,  0.90857089,  0.07241044],\n",
       "        [ 0.01899331,  0.90863264,  0.07237404],\n",
       "        [ 0.01901333,  0.90858388,  0.07240275],\n",
       "        [ 0.01905773,  0.90847641,  0.07246574],\n",
       "        [ 0.0190458 ,  0.90850526,  0.07244886],\n",
       "        [ 0.0190521 ,  0.90849012,  0.07245778],\n",
       "        [ 0.01904741,  0.90850145,  0.07245118],\n",
       "        [ 0.01904957,  0.90849632,  0.07245419],\n",
       "        [ 0.01901913,  0.90856993,  0.07241096],\n",
       "        [ 0.01906009,  0.90847093,  0.07246906],\n",
       "        [ 0.01902642,  0.90855223,  0.07242138],\n",
       "        [ 0.01904458,  0.9085083 ,  0.07244714],\n",
       "        [ 0.01901642,  0.90857643,  0.07240712],\n",
       "        [ 0.01906172,  0.90846699,  0.07247135],\n",
       "        [ 0.01901678,  0.90857565,  0.07240765],\n",
       "        [ 0.01902415,  0.90855771,  0.07241812],\n",
       "        [ 0.01894841,  0.90874225,  0.07230929],\n",
       "        [ 0.01896495,  0.9087019 ,  0.07233319],\n",
       "        [ 0.01904181,  0.90851504,  0.07244322],\n",
       "        [ 0.01905116,  0.90849239,  0.07245644],\n",
       "        [ 0.01906061,  0.90846968,  0.07246983],\n",
       "        [ 0.019035  ,  0.90853143,  0.07243354],\n",
       "        [ 0.01902814,  0.908548  ,  0.07242381],\n",
       "        [ 0.01901209,  0.90858692,  0.07240091],\n",
       "        [ 0.0190297 ,  0.90854424,  0.072426  ],\n",
       "        [ 0.01902409,  0.90855789,  0.072418  ],\n",
       "        [ 0.01903382,  0.90853417,  0.07243189],\n",
       "        [ 0.01905896,  0.90847349,  0.07246748],\n",
       "        [ 0.01904924,  0.90849698,  0.07245377],\n",
       "        [ 0.01903412,  0.90853363,  0.0724323 ],\n",
       "        [ 0.01906064,  0.90846944,  0.07246988],\n",
       "        [ 0.01904975,  0.90849584,  0.07245443],\n",
       "        [ 0.01900721,  0.90859884,  0.07239399],\n",
       "        [ 0.01900043,  0.90861529,  0.07238429],\n",
       "        [ 0.01904838,  0.90849906,  0.07245252],\n",
       "        [ 0.01905998,  0.90847111,  0.07246891],\n",
       "        [ 0.01899851,  0.90862   ,  0.07238152],\n",
       "        [ 0.01902476,  0.90855622,  0.072419  ],\n",
       "        [ 0.01905132,  0.90849179,  0.07245688],\n",
       "        [ 0.01903726,  0.90852582,  0.07243685]], dtype=float32),\n",
       " array([[[ 0.04556759,  0.004505  ],\n",
       "         [ 0.004505  ,  0.00045729]],\n",
       " \n",
       "        [[ 0.04548957,  0.00449717],\n",
       "         [ 0.00449717,  0.00045648]],\n",
       " \n",
       "        [[ 0.04552098,  0.00450032],\n",
       "         [ 0.00450032,  0.00045681]]], dtype=float32)]"
      ]
     },
     "execution_count": 35,
     "metadata": {},
     "output_type": "execute_result"
    }
   ],
   "source": [
    "sess.run([mse, z, gamma, s], feed_dict={X: data[1990:1990 + batch_size]})"
   ]
  },
  {
   "cell_type": "code",
   "execution_count": 39,
   "metadata": {},
   "outputs": [
    {
     "data": {
      "text/plain": [
       "<tf.Tensor 'Reshape_6:0' shape=(3, 2, 2) dtype=float32>"
      ]
     },
     "execution_count": 39,
     "metadata": {},
     "output_type": "execute_result"
    }
   ],
   "source": [
    "s"
   ]
  },
  {
   "cell_type": "code",
   "execution_count": 26,
   "metadata": {
    "scrolled": false
   },
   "outputs": [
    {
     "data": {
      "image/png": "[encoded data removed]",
      "text/plain": [
       "<matplotlib.figure.Figure at 0x7f9ba2ec7ef0>"
      ]
     },
     "metadata": {},
     "output_type": "display_data"
    }
   ],
   "source": [
    "for i in range(epochs):\n",
    "    for batch in iterate_minibatches(data, batch_size, shuffle = True):\n",
    "        _, l = sess.run([optimizer, loss], feed_dict={X: batch})\n",
    "        losses.append(l)\n",
    "    # Display logs per step\n",
    "    \n",
    "    if i % 1 == 0 or i == 1:\n",
    "        print('Step %i: Minibatch Loss: %f' % (i, l))\n",
    "        \n",
    "        display.clear_output(wait=True)\n",
    "        plt.plot(losses, label='train')\n",
    "    #    plt.plot(v_losses_valid, label='validation')\n",
    "        plt.legend()\n",
    "        plt.show()\n"
   ]
  },
  {
   "cell_type": "code",
   "execution_count": 34,
   "metadata": {},
   "outputs": [
    {
     "data": {
      "image/png": "[encoded data removed]",
      "text/plain": [
       "<matplotlib.figure.Figure at 0x7f9bd00e9d30>"
      ]
     },
     "metadata": {},
     "output_type": "display_data"
    }
   ],
   "source": [
    "plt.plot(losses[300:], label='train')\n",
    "#    plt.plot(v_losses_valid, label='validation')\n",
    "plt.legend()\n",
    "plt.show()"
   ]
  },
  {
   "cell_type": "code",
   "execution_count": 27,
   "metadata": {},
   "outputs": [
    {
     "data": {
      "text/plain": [
       "[array([[  2.71827608e-01,   1.74954291e-02],\n",
       "        [  5.95317543e-01,   5.96183836e-02],\n",
       "        [  6.49069071e-01,   7.18951598e-02],\n",
       "        [  6.31421208e-01,   6.81611001e-02],\n",
       "        [  2.39237294e-01,   1.26763489e-02],\n",
       "        [  5.57572365e-01,   4.99365851e-02],\n",
       "        [  3.59433532e-01,   2.08036192e-02],\n",
       "        [  6.06484532e-01,   6.24979883e-02],\n",
       "        [  6.42769277e-01,   6.84186071e-02],\n",
       "        [  5.12120843e-01,   4.52152528e-02],\n",
       "        [  1.14236704e-04,   3.47642999e-05],\n",
       "        [  1.00403893e-04,   3.28869100e-05],\n",
       "        [  1.43450277e-04,   3.03295874e-05],\n",
       "        [  1.21497513e-04,   2.71637673e-05],\n",
       "        [  1.26168510e-04,   3.21092448e-05],\n",
       "        [  1.08892542e-04,   2.97743627e-05],\n",
       "        [  2.03185045e-04,   2.69356806e-05],\n",
       "        [  8.93990218e-05,   2.41637372e-05],\n",
       "        [  1.34706032e-04,   2.97429215e-05],\n",
       "        [  1.12432164e-04,   3.06944094e-05]], dtype=float32)]"
      ]
     },
     "execution_count": 27,
     "metadata": {},
     "output_type": "execute_result"
    }
   ],
   "source": [
    "sess.run([z], {X: data[1990:2010]})"
   ]
  },
  {
   "cell_type": "code",
   "execution_count": 28,
   "metadata": {},
   "outputs": [
    {
     "data": {
      "text/plain": [
       "[array([[-2.93809795,  2.16767669,  0.85736245, -3.89570618],\n",
       "        [-3.54628396,  1.12131691, -0.63377976, -4.42456675],\n",
       "        [-3.63428664,  0.96400797, -0.86993033, -4.52550507],\n",
       "        [-3.60453463,  1.01561511, -0.79179281, -4.49368525],\n",
       "        [-2.87793064,  2.27832794,  1.0021472 , -3.83721876],\n",
       "        [-3.48756814,  1.23260677, -0.46999007, -4.34865427],\n",
       "        [-3.12378001,  1.8653456 ,  0.44033203, -4.01592684],\n",
       "        [-3.56364512,  1.08871615, -0.68211782, -4.44692135],\n",
       "        [-3.6294322 ,  0.98013186, -0.84741563, -4.50610399],\n",
       "        [-3.39876699,  1.37597096, -0.25550175, -4.28177881],\n",
       "        [-2.37415361,  3.13269234,  2.06429815, -3.47714877],\n",
       "        [-2.37412667,  3.13274217,  2.06435323, -3.47712398],\n",
       "        [-2.37423086,  3.13258171,  2.0641613 , -3.47717333],\n",
       "        [-2.37418771,  3.13265848,  2.06425047, -3.4771328 ],\n",
       "        [-2.37418699,  3.13264775,  2.06423998, -3.47715616],\n",
       "        [-2.37415385,  3.13270783,  2.06431174, -3.47712421],\n",
       "        [-2.3743732 ,  3.13235927,  2.06389785, -3.47724319],\n",
       "        [-2.37412429,  3.13277316,  2.06438231, -3.47707939],\n",
       "        [-2.37421203,  3.13261342,  2.06419897, -3.47715926],\n",
       "        [-2.37415934,  3.13269591,  2.06429744, -3.47713232]], dtype=float32)]"
      ]
     },
     "execution_count": 28,
     "metadata": {},
     "output_type": "execute_result"
    }
   ],
   "source": [
    "sess.run([decoder], {X: data[1990:2010]}) "
   ]
  },
  {
   "cell_type": "code",
   "execution_count": 29,
   "metadata": {},
   "outputs": [
    {
     "data": {
      "text/plain": [
       "array([[ 40.63160119,  35.18768172,  41.69050189,   5.00097037],\n",
       "       [ 42.32156451,  35.23758193,  41.02075037,   2.46817333],\n",
       "       [ 42.93520667,  40.15466595,  43.01661294,   1.41404282],\n",
       "       [ 43.60517578,  37.72592487,  42.29120681,   1.82197111],\n",
       "       [ 44.03246801,  33.88542523,  42.54485442,   3.87586556],\n",
       "       [ 45.23387908,  38.937554  ,  40.23768523,   2.79428361],\n",
       "       [ 43.54996105,  36.24667679,  40.97884743,   4.79438018],\n",
       "       [ 43.36753573,  37.94028198,  40.46121331,   1.96983576],\n",
       "       [ 42.42861006,  38.13285136,  42.5575252 ,   0.78076408],\n",
       "       [ 44.35253009,  38.66629322,  38.79877097,   2.23634388],\n",
       "       [ 21.92621277,   3.59606784,  15.12397437,  14.46864711],\n",
       "       [ 22.11061306,   2.2129232 ,  13.51818674,  13.33796751],\n",
       "       [ 21.05518116,   5.22636356,  13.03503519,  16.34415934],\n",
       "       [ 23.92919066,   4.98274096,  15.37061401,  16.7058172 ],\n",
       "       [ 23.05809014,   4.72859808,  15.44903836,  15.73679385],\n",
       "       [ 24.33550192,   5.03706017,  16.1012472 ,  14.48639781],\n",
       "       [ 21.41330307,   7.131286  ,  14.22845488,  18.3660678 ],\n",
       "       [ 25.40124773,   3.78079547,  14.69089076,  13.51935087],\n",
       "       [ 21.86153607,   4.33453935,  12.96872521,  15.93659044],\n",
       "       [ 24.41367305,   5.33174846,  16.6503489 ,  15.64429638]])"
      ]
     },
     "execution_count": 29,
     "metadata": {},
     "output_type": "execute_result"
    }
   ],
   "source": [
    "data[1990:2010]"
   ]
  },
  {
   "cell_type": "code",
   "execution_count": 10,
   "metadata": {},
   "outputs": [],
   "source": [
    "summ_writer = tf.summary.FileWriter(\"/home/anton/TF_logs/CRISPR/\", sess.graph, filename_suffix=\"AE\")"
   ]
  },
  {
   "cell_type": "code",
   "execution_count": null,
   "metadata": {
    "collapsed": true
   },
   "outputs": [],
   "source": []
  },
  {
   "cell_type": "code",
   "execution_count": 37,
   "metadata": {},
   "outputs": [],
   "source": [
    "summ_writer.close()"
   ]
  },
  {
   "cell_type": "code",
   "execution_count": 24,
   "metadata": {
    "collapsed": true
   },
   "outputs": [],
   "source": [
    "#gamma = tf.placeholder(tf.float32)\n",
    "#z = tf.placeholder(tf.float32)    \n",
    "\n",
    "weights = tf.reduce_mean(gamma, reduction_indices=[0])\n",
    "means = tf.transpose(tf.matmul(tf.transpose(z), gamma) / tf.transpose(tf.reduce_sum(gamma, reduction_indices=[0])))\n",
    "\n",
    "z_minus_means = tf.reshape(tf.map_fn(lambda x: z - x, means), [-1, int_dim])\n",
    "\n",
    "z_minus_means_squared = tf.map_fn(lambda x: tf.reduce_sum(x * x), z_minus_means)\n",
    "\n",
    "sigma_flat = tf.reduce_sum(tf.transpose(tf.reshape(\n",
    "        z_minus_means_squared * tf.reshape(tf.transpose(gamma), (1, -1)), [clusters_num, batch_size])), 0) / tf.reduce_sum(gamma, 0)\n",
    "\n",
    "pre_energy = tf.reduce_sum(tf.exp(-0.5 * tf.transpose(\n",
    "    tf.reshape(z_minus_means_squared,  [clusters_num, batch_size])) / sigma_flat) * weights  / tf.sqrt(6.28  * sigma_flat),1 )\n",
    "                           \n",
    "energy = tf.reduce_mean(-tf.log(tf.reduce_sum(tf.exp(-0.5 * tf.transpose(\n",
    "    tf.reshape(z_minus_means_squared,  [clusters_num, batch_size])) / sigma_flat) * weights  / tf.sqrt(6.28  * sigma_flat), 1)))"
   ]
  },
  {
   "cell_type": "code",
   "execution_count": null,
   "metadata": {
    "collapsed": true
   },
   "outputs": [],
   "source": []
  }
 ],
 "metadata": {
  "kernelspec": {
   "display_name": "Python 3",
   "language": "python",
   "name": "python3"
  },
  "language_info": {
   "codemirror_mode": {
    "name": "ipython",
    "version": 3
   },
   "file_extension": ".py",
   "mimetype": "text/x-python",
   "name": "python",
   "nbconvert_exporter": "python",
   "pygments_lexer": "ipython3",
   "version": "3.6.3"
  }
 },
 "nbformat": 4,
 "nbformat_minor": 2
}
