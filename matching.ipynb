{
 "cells": [
  {
   "cell_type": "code",
   "execution_count": 2,
   "metadata": {},
   "outputs": [],
   "source": [
    "import numpy as np\n",
    "import matplotlib.pyplot as plt\n"
   ]
  },
  {
   "cell_type": "code",
   "execution_count": 3,
   "metadata": {},
   "outputs": [],
   "source": [
    "from tqdm import tqdm_notebook\n",
    "import regex as re\n",
    "\n",
    "import os"
   ]
  },
  {
   "cell_type": "code",
   "execution_count": 4,
   "metadata": {},
   "outputs": [],
   "source": [
    "reverse = {\n",
    "    \"W\" : \"W\",\n",
    "    \"S\" : \"S\",\n",
    "    \"M\" : \"K\",\n",
    "    \"K\" : \"M\",\n",
    "    \"R\" : \"Y\",\n",
    "    \"Y\" : \"R\",\n",
    "    \"B\" : \"V\",\n",
    "    \"D\" : \"H\",\n",
    "    \"H\" : \"D\",\n",
    "    \"V\" : \"B\",\n",
    "    \"N\" : \"N\",\n",
    "    \"A\" : \"T\",\n",
    "    \"C\" : \"G\", \n",
    "    \"T\" : \"A\",\n",
    "    \"G\" : \"C\",\n",
    "    \"(\" : \"(\",\n",
    "    \")\" : \")\"\n",
    "}"
   ]
  },
  {
   "cell_type": "code",
   "execution_count": 5,
   "metadata": {},
   "outputs": [],
   "source": [
    "import crispr_assembler as ca "
   ]
  },
  {
   "cell_type": "code",
   "execution_count": 6,
   "metadata": {},
   "outputs": [],
   "source": [
    "import sys\n",
    "sys.path.append(\"./utils/\")\n",
    "import hierarcical_utils as hu\n",
    "import hamiltonian_utils as hamu\n",
    "import plot_utils as pu "
   ]
  },
  {
   "cell_type": "code",
   "execution_count": 7,
   "metadata": {
    "scrolled": true
   },
   "outputs": [
    {
     "data": {
      "text/plain": [
       "(([1, 2, 3], [1, 3, 3]), (0, 3, 0, 3))"
      ]
     },
     "execution_count": 7,
     "metadata": {},
     "output_type": "execute_result"
    }
   ],
   "source": [
    "ca.best_alignment([1,2,3], [1,3,3,6,7], 1)"
   ]
  },
  {
   "cell_type": "code",
   "execution_count": 8,
   "metadata": {},
   "outputs": [],
   "source": [
    "def read_arrays(filename, func=None, separator=','):\n",
    "    if func is None:\n",
    "        func = lambda x:x\n",
    "        \n",
    "    with open(filename) as f:\n",
    "        lines = [x[:-1] for x in f.readlines()]\n",
    "    \n",
    "        \n",
    "    return [[func(y) for y in x.split(separator) if len(y) > 0] for x in lines[1::2]]"
   ]
  },
  {
   "cell_type": "code",
   "execution_count": 9,
   "metadata": {},
   "outputs": [],
   "source": [
    "def read_arrays_(filename, func=None, separator=','):\n",
    "    if func is None:\n",
    "        func = lambda x:x\n",
    "        \n",
    "    with open(filename) as f:\n",
    "        lines = [x[:-1] for x in f.readlines()]\n",
    "    \n",
    "        \n",
    "    return [[func(y) for y in x.split(separator) ] for x in lines]"
   ]
  },
  {
   "cell_type": "code",
   "execution_count": 10,
   "metadata": {},
   "outputs": [],
   "source": [
    "def load_dict(filename):\n",
    "    with open(filename) as f:\n",
    "        lines =  [x[:-1] for x in f.readlines()]\n",
    "        \n",
    "    answ = {}\n",
    "    for l in lines:\n",
    "        l_s = l.split(\",\")\n",
    "#         print(l, l_s)\n",
    "        answ[l_s[0]] = int(l_s[1])\n",
    "    return answ"
   ]
  },
  {
   "cell_type": "code",
   "execution_count": null,
   "metadata": {},
   "outputs": [],
   "source": []
  },
  {
   "cell_type": "code",
   "execution_count": 28,
   "metadata": {},
   "outputs": [],
   "source": [
    "def transform_list_of_lists(l, cl_to_n = cl_to_n):\n",
    "    return  [[cl_to_n[ca.find_closest(cl_to_n, x)[1]] for x in y] for y in l]"
   ]
  },
  {
   "cell_type": "code",
   "execution_count": 30,
   "metadata": {},
   "outputs": [],
   "source": [
    "def transform_list_of_lists_q(l, cl_to_n = cl_to_n):\n",
    "    return  [[ca.find_closest(cl_to_n, x)[0] for x in y] for y in l]"
   ]
  },
  {
   "cell_type": "code",
   "execution_count": 25,
   "metadata": {},
   "outputs": [],
   "source": [
    "cl_to_n = load_dict(\"/home/anton/BigMac/skoltech/CRISPR_research/data/ecoli_11_12/out/restored/Ecoli-planeA_S5_L001_R1_001_cl_to_ind\")"
   ]
  },
  {
   "cell_type": "code",
   "execution_count": 26,
   "metadata": {},
   "outputs": [],
   "source": [
    "cl_to_n_rc = {}\n",
    "\n",
    "for key in cl_to_n:\n",
    "    cl_to_n_rc[key] = cl_to_n[key]\n",
    "    \n",
    "for key in cl_to_n:\n",
    "    cl_to_n_rc[ca.rc(key, r=1)] = len(cl_to_n_rc)"
   ]
  },
  {
   "cell_type": "code",
   "execution_count": 17,
   "metadata": {},
   "outputs": [],
   "source": [
    "restored = read_arrays(\"/home/anton/BigMac/skoltech/CRISPR_research/data/ecoli_11_12/out/restored/Ecoli-planeA_S5_L001_R1_001_arrays_sp\")"
   ]
  },
  {
   "cell_type": "code",
   "execution_count": 18,
   "metadata": {},
   "outputs": [],
   "source": [
    "res = transform_list_of_lists(restored)"
   ]
  },
  {
   "cell_type": "code",
   "execution_count": 19,
   "metadata": {},
   "outputs": [],
   "source": [
    "answname = \"/home/anton/BigMac/skoltech/CRISPR_research/data/ecoli_11_12/out/restored/answ\""
   ]
  },
  {
   "cell_type": "code",
   "execution_count": 20,
   "metadata": {},
   "outputs": [],
   "source": [
    "answ_sp = read_arrays(answname, separator='\\t')"
   ]
  },
  {
   "cell_type": "code",
   "execution_count": 21,
   "metadata": {},
   "outputs": [],
   "source": [
    "ans =  transform_list_of_lists(answ_sp)"
   ]
  },
  {
   "cell_type": "code",
   "execution_count": 32,
   "metadata": {},
   "outputs": [
    {
     "data": {
      "text/plain": [
       "[[0, 0, 0, 0, 0, 0, 0],\n",
       " [2, 2, 2, 2, 2],\n",
       " [1, 1, 1, 1, 1, 1, 1],\n",
       " [0, 0, 0, 0, 0, 0, 0, 0, 0, 0, 0],\n",
       " [13, 1, 13, 2, 12, 12, 0, 0, 13],\n",
       " [0, 0, 0, 0, 0, 0, 0, 0, 0, 0, 0, 0],\n",
       " [0, 0, 0, 0, 0, 0, 5, 0, 0, 0, 0, 0],\n",
       " [0, 0, 0, 0, 0, 0, 0, 0, 0, 0, 0, 1],\n",
       " [0, 0, 0, 0, 0, 0, 0, 0],\n",
       " [2, 0, 0, 0, 0, 0, 0, 0, 0, 14, 12],\n",
       " [0, 0, 0, 0, 0, 0, 0, 0, 0, 0, 0, 0],\n",
       " [2, 0, 0, 0, 0, 0, 0, 0, 0, 14],\n",
       " [0, 0, 0, 0, 0, 0, 0, 0, 0],\n",
       " [1, 1, 2, 1, 2, 1],\n",
       " [1, 1, 1, 1, 1, 1, 1, 1, 1, 2],\n",
       " [0, 0, 0, 0, 0, 0, 0, 0],\n",
       " [0, 0, 0, 0, 0, 0, 0],\n",
       " [14, 14, 14, 14, 15, 15],\n",
       " [0, 0, 0, 0, 0],\n",
       " [0, 0, 0, 0, 0, 0, 0, 0, 1, 0, 0, 0, 1],\n",
       " [0, 0, 0, 0, 0, 0],\n",
       " [0, 0, 0, 0, 0, 0, 0, 0, 0, 0, 0],\n",
       " [0, 0, 0, 0, 0, 0, 0, 0, 0, 0, 0, 0, 0],\n",
       " [0, 1, 0, 0, 0, 0, 0, 0, 0],\n",
       " [13, 13, 11, 13, 13, 13, 12, 13],\n",
       " [0, 0, 0, 0, 0, 0, 0],\n",
       " [0, 0, 0, 0, 0, 0, 0, 0, 0, 0, 0, 0]]"
      ]
     },
     "execution_count": 32,
     "metadata": {},
     "output_type": "execute_result"
    }
   ],
   "source": [
    "transform_list_of_lists_q(answ_sp)"
   ]
  },
  {
   "cell_type": "code",
   "execution_count": 33,
   "metadata": {},
   "outputs": [
    {
     "data": {
      "text/plain": [
       "[[0, 0, 0, 0, 0, 0, 0],\n",
       " [2, 2, 2, 2, 2],\n",
       " [1, 1, 1, 1, 1, 1, 1],\n",
       " [0, 0, 0, 0, 0, 0, 0, 0, 0, 0, 0],\n",
       " [11, 1, 13, 2, 12, 12, 0, 0, 13],\n",
       " [0, 0, 0, 0, 0, 0, 0, 0, 0, 0, 0, 0],\n",
       " [0, 0, 0, 0, 0, 0, 5, 0, 0, 0, 0, 0],\n",
       " [0, 0, 0, 0, 0, 0, 0, 0, 0, 0, 0, 1],\n",
       " [0, 0, 0, 0, 0, 0, 0, 0],\n",
       " [2, 0, 0, 0, 0, 0, 0, 0, 0, 13, 12],\n",
       " [0, 0, 0, 0, 0, 0, 0, 0, 0, 0, 0, 0],\n",
       " [2, 0, 0, 0, 0, 0, 0, 0, 0, 13],\n",
       " [0, 0, 0, 0, 0, 0, 0, 0, 0],\n",
       " [1, 1, 2, 1, 2, 1],\n",
       " [1, 1, 1, 1, 1, 1, 1, 1, 1, 2],\n",
       " [0, 0, 0, 0, 0, 0, 0, 0],\n",
       " [0, 0, 0, 0, 0, 0, 0],\n",
       " [3, 3, 3, 4, 3, 3],\n",
       " [0, 0, 0, 0, 0],\n",
       " [0, 0, 0, 0, 0, 0, 0, 0, 1, 0, 0, 0, 1],\n",
       " [0, 0, 0, 0, 0, 0],\n",
       " [0, 0, 0, 0, 0, 0, 0, 0, 0, 0, 0],\n",
       " [0, 0, 0, 0, 0, 0, 0, 0, 0, 0, 0, 0, 0],\n",
       " [0, 1, 0, 0, 0, 0, 0, 0, 0],\n",
       " [1, 1, 1, 1, 1, 1, 1, 2],\n",
       " [0, 0, 0, 0, 0, 0, 0],\n",
       " [0, 0, 0, 0, 0, 0, 0, 0, 0, 0, 0, 0]]"
      ]
     },
     "execution_count": 33,
     "metadata": {},
     "output_type": "execute_result"
    }
   ],
   "source": [
    "transform_list_of_lists_q(answ_sp,cl_to_n_rc)"
   ]
  },
  {
   "cell_type": "code",
   "execution_count": 19,
   "metadata": {},
   "outputs": [
    {
     "data": {
      "text/plain": [
       "[[294, 120, 1, 0, 16, 91, 49, 42, 58, 78, 14, 31, 22, 12, 15, 83, 90],\n",
       " [164, 23, 6, 7, 19, 34, 4, 2, 9, 13, 8, 3, 5, 10, 53, 87]]"
      ]
     },
     "execution_count": 19,
     "metadata": {},
     "output_type": "execute_result"
    }
   ],
   "source": [
    "res[:2]"
   ]
  },
  {
   "cell_type": "code",
   "execution_count": 20,
   "metadata": {},
   "outputs": [
    {
     "data": {
      "text/plain": [
       "[[23, 6, 7, 19, 34, 12, 15], [148, 120, 1, 0, 16]]"
      ]
     },
     "execution_count": 20,
     "metadata": {},
     "output_type": "execute_result"
    }
   ],
   "source": [
    "ans[:2]"
   ]
  },
  {
   "cell_type": "code",
   "execution_count": 21,
   "metadata": {},
   "outputs": [
    {
     "data": {
      "text/plain": [
       "(([19, 34, 12, 15], [31, 22, 12, 15]), (3, 7, 11, 15))"
      ]
     },
     "execution_count": 21,
     "metadata": {},
     "output_type": "execute_result"
    }
   ],
   "source": [
    "ca.best_alignment(ans[0], res[0], 2)"
   ]
  },
  {
   "cell_type": "code",
   "execution_count": 24,
   "metadata": {},
   "outputs": [
    {
     "name": "stdout",
     "output_type": "stream",
     "text": [
      "(([148, 120, 1, 0, 16], [294, 120, 1, 0, 16, 91]), 0, (0, 5, 0, 6))\n",
      "[148, 120, 1, 0, 16] [294, 120, 1, 0, 16, 91, 49, 42, 58, 78, 14, 31, 22, 12, 15, 83, 90]\n"
     ]
    }
   ],
   "source": [
    "idx = 1\n",
    "alignment = hamu.search_best_alignment(ans[idx], res, 2)\n",
    "\n",
    "print(alignment)\n",
    "print(ans[idx], res[alignment[1]])"
   ]
  },
  {
   "cell_type": "code",
   "execution_count": null,
   "metadata": {},
   "outputs": [],
   "source": []
  },
  {
   "cell_type": "code",
   "execution_count": null,
   "metadata": {},
   "outputs": [],
   "source": []
  },
  {
   "cell_type": "code",
   "execution_count": null,
   "metadata": {},
   "outputs": [],
   "source": []
  },
  {
   "cell_type": "code",
   "execution_count": null,
   "metadata": {},
   "outputs": [],
   "source": []
  },
  {
   "cell_type": "code",
   "execution_count": null,
   "metadata": {},
   "outputs": [],
   "source": []
  },
  {
   "cell_type": "code",
   "execution_count": null,
   "metadata": {},
   "outputs": [],
   "source": []
  },
  {
   "cell_type": "code",
   "execution_count": 32,
   "metadata": {
    "scrolled": true
   },
   "outputs": [
    {
     "data": {
      "text/plain": [
       "(([12, 7, 22, 11, 2, 3, 19, 16, 18, 39, 30, 27, 42, 53, 54, 58, 79],\n",
       "  [12, 7, 22, 11, 2, 3, 19, 16, 18, 39, 30, 27, 42, 53, 54, 58, 79]),\n",
       " 0,\n",
       " (0, 17, 0, 17))"
      ]
     },
     "execution_count": 32,
     "metadata": {},
     "output_type": "execute_result"
    }
   ],
   "source": [
    "hamu.search_best_alignment(ans_rc[1], res, 2)"
   ]
  },
  {
   "cell_type": "code",
   "execution_count": 108,
   "metadata": {},
   "outputs": [
    {
     "data": {
      "text/plain": [
       "[[12, 7, 11, 22, 2, 3, 19, 16, 18, 39, 30, 27, 42, 53, 54, 58, 79],\n",
       " [79, 58, 54, 53, 42, 27, 30, 39, 18, 16, 19, 3, 2, 11, 22, 7, 12],\n",
       " [81, 44, 35, 41, 36, 29, 26, 15, 9, 8, 23, 31, 10, 13],\n",
       " [91, 59, 55, 57, 49, 17, 21],\n",
       " [34, 20, 1, 0, 14, 52],\n",
       " [21, 17, 49, 57, 55, 59, 91],\n",
       " [40, 32, 45, 37, 33, 50, 46, 48],\n",
       " [48, 46, 50, 33, 37, 45, 32, 40],\n",
       " [34, 20, 1, 0, 14, 52],\n",
       " [34, 20, 1, 0, 14, 52],\n",
       " [6, 56, 51, 47, 38, 28, 5, 4, 6]]"
      ]
     },
     "execution_count": 108,
     "metadata": {},
     "output_type": "execute_result"
    }
   ],
   "source": [
    "ans_true"
   ]
  },
  {
   "cell_type": "code",
   "execution_count": 119,
   "metadata": {},
   "outputs": [
    {
     "data": {
      "text/plain": [
       "(([6, 56, 51, 47, 38, 28, 5, 4, 6], [56, 51, 47, 38, 28, 5, 4, 6, 43]),\n",
       " 2,\n",
       " (0, 9, 0, 9))"
      ]
     },
     "execution_count": 119,
     "metadata": {},
     "output_type": "execute_result"
    }
   ],
   "source": [
    "ind = 10\n",
    "hamu.search_best_alignment(ans_true[ind], res, 2)"
   ]
  },
  {
   "cell_type": "code",
   "execution_count": null,
   "metadata": {},
   "outputs": [],
   "source": []
  },
  {
   "cell_type": "code",
   "execution_count": null,
   "metadata": {},
   "outputs": [],
   "source": []
  },
  {
   "cell_type": "code",
   "execution_count": 118,
   "metadata": {},
   "outputs": [
    {
     "data": {
      "text/plain": [
       "9"
      ]
     },
     "execution_count": 118,
     "metadata": {},
     "output_type": "execute_result"
    }
   ],
   "source": [
    "0 - 1\n",
    "1 - 1\n",
    "2 - 3\n",
    "3 - 4\n",
    "4 - 0\n",
    "5 - 4\n",
    "6 - 6\n",
    "7 - 6\n",
    "8 - 0\n",
    "9 - 0\n",
    "10 - 2"
   ]
  },
  {
   "cell_type": "code",
   "execution_count": null,
   "metadata": {},
   "outputs": [],
   "source": [
    "5, 7,8"
   ]
  },
  {
   "cell_type": "code",
   "execution_count": 120,
   "metadata": {},
   "outputs": [
    {
     "data": {
      "text/plain": [
       "[[34, 20, 1, 0, 14, 52],\n",
       " [12, 7, 22, 11, 2, 3, 19, 16, 18, 39, 30, 27, 42, 53, 54, 58, 79],\n",
       " [56, 51, 47, 38, 28, 5, 4, 6, 43],\n",
       " [13, 10, 31, 23, 8, 9, 15, 26, 29, 36, 41, 35, 44],\n",
       " [21, 17, 49, 57, 55, 59],\n",
       " [24, 25],\n",
       " [40, 32, 45, 37, 33, 50, 46, 48],\n",
       " [96, 60, 61],\n",
       " [108, 80, 66, 64, 65, 76, 73, 62, 63, 77],\n",
       " [67, 75],\n",
       " [78, 68],\n",
       " [81, 82],\n",
       " [87, 70, 101],\n",
       " [102, 69, 84],\n",
       " [95, 71, 103],\n",
       " [90, 91],\n",
       " [112, 85],\n",
       " [98, 100],\n",
       " [72, 83, 99],\n",
       " [106, 105],\n",
       " [117, 116],\n",
       " [94, 93],\n",
       " [109, 110],\n",
       " [114, 113],\n",
       " [111, 88],\n",
       " [97, 86],\n",
       " [89, 92],\n",
       " [104, 107],\n",
       " [115, 118]]"
      ]
     },
     "execution_count": 120,
     "metadata": {},
     "output_type": "execute_result"
    }
   ],
   "source": [
    "res"
   ]
  },
  {
   "cell_type": "code",
   "execution_count": 83,
   "metadata": {},
   "outputs": [
    {
     "data": {
      "text/plain": [
       "(([34, 20, 1, 0, 14, 52], [34, 20, 1, 0, 14, 52]), 0, (0, 6, 0, 6))"
      ]
     },
     "execution_count": 83,
     "metadata": {},
     "output_type": "execute_result"
    }
   ],
   "source": [
    "hamu.search_best_alignment(ans[ind], res, 2)"
   ]
  },
  {
   "cell_type": "code",
   "execution_count": 84,
   "metadata": {},
   "outputs": [
    {
     "data": {
      "text/plain": [
       "(([1, 0, 20, 40], [1, 0, 14, 52]), 0, (2, 6, 2, 6))"
      ]
     },
     "execution_count": 84,
     "metadata": {},
     "output_type": "execute_result"
    }
   ],
   "source": [
    "hamu.search_best_alignment(ans_rc[ind], res, 2)"
   ]
  },
  {
   "cell_type": "code",
   "execution_count": null,
   "metadata": {},
   "outputs": [],
   "source": [
    "1 -> 0,1\n",
    "3 -> 2\n",
    "4 -> 3, 5\n",
    "0 -> 4, 8\n",
    "6 -> 6, 7\n",
    "\n"
   ]
  },
  {
   "cell_type": "code",
   "execution_count": 52,
   "metadata": {},
   "outputs": [
    {
     "data": {
      "text/plain": [
       "[[34, 20, 1, 0, 14, 52],\n",
       " [12, 7, 22, 11, 2, 3, 19, 16, 18, 39, 30, 27, 42, 53, 54, 58, 79],\n",
       " [56, 51, 47, 38, 28, 5, 4, 6, 43],\n",
       " [13, 10, 31, 23, 8, 9, 15, 26, 29, 36, 41, 35, 44],\n",
       " [21, 17, 49, 57, 55, 59],\n",
       " [24, 25],\n",
       " [40, 32, 45, 37, 33, 50, 46, 48],\n",
       " [96, 60, 61],\n",
       " [108, 80, 66, 64, 65, 76, 73, 62, 63, 77],\n",
       " [67, 75],\n",
       " [78, 68],\n",
       " [81, 82],\n",
       " [87, 70, 101],\n",
       " [102, 69, 84],\n",
       " [95, 71, 103],\n",
       " [90, 91],\n",
       " [112, 85],\n",
       " [98, 100],\n",
       " [72, 83, 99],\n",
       " [106, 105],\n",
       " [117, 116],\n",
       " [94, 93],\n",
       " [109, 110],\n",
       " [114, 113],\n",
       " [111, 88],\n",
       " [97, 86],\n",
       " [89, 92],\n",
       " [104, 107],\n",
       " [115, 118]]"
      ]
     },
     "execution_count": 52,
     "metadata": {},
     "output_type": "execute_result"
    }
   ],
   "source": [
    "res"
   ]
  },
  {
   "cell_type": "code",
   "execution_count": 94,
   "metadata": {},
   "outputs": [
    {
     "data": {
      "text/plain": [
       "[[77, 107, 11, 23, 32, 30, 64, 25, 4, 39, 27, 30, 28, 28, 100, 35, 29],\n",
       " [79, 58, 54, 53, 42, 27, 30, 39, 18, 16, 19, 3, 2, 11, 22, 7, 12],\n",
       " [81, 44, 35, 41, 36, 29, 26, 15, 9, 8, 23, 31, 10, 13],\n",
       " [91, 59, 55, 57, 49, 17, 21],\n",
       " [29, 6, 1, 0, 20, 40],\n",
       " [33, 6, 15, 31, 6, 3, 31],\n",
       " [52, 58, 25, 74, 21, 17, 28, 51],\n",
       " [48, 46, 50, 33, 37, 45, 32, 40],\n",
       " [29, 6, 1, 0, 20, 40],\n",
       " [29, 6, 1, 0, 20, 40],\n",
       " [70, 14, 61, 25, 34, 46, 93, 105, 20]]"
      ]
     },
     "execution_count": 94,
     "metadata": {},
     "output_type": "execute_result"
    }
   ],
   "source": [
    "ans_rc[:11]"
   ]
  },
  {
   "cell_type": "code",
   "execution_count": 99,
   "metadata": {},
   "outputs": [
    {
     "data": {
      "text/plain": [
       "[[12, 7, 11, 22, 2, 3, 19, 16, 18, 39, 30, 27, 42, 53, 54, 58, 79],\n",
       " [29, 35, 100, 28, 28, 30, 27, 39, 4, 25, 64, 30, 32, 11, 23, 107, 77],\n",
       " [82, 93, 58, 52, 98, 70, 99, 49, 3, 116, 22, 31, 119, 30],\n",
       " [31, 3, 6, 31, 15, 6, 33],\n",
       " [34, 20, 1, 0, 14, 52],\n",
       " [21, 17, 49, 57, 55, 59, 91],\n",
       " [40, 32, 45, 37, 33, 50, 46, 48],\n",
       " [51, 28, 17, 21, 74, 25, 58, 52],\n",
       " [34, 20, 1, 0, 14, 52],\n",
       " [34, 20, 1, 0, 14, 52],\n",
       " [6, 56, 51, 47, 38, 28, 5, 4, 6]]"
      ]
     },
     "execution_count": 99,
     "metadata": {},
     "output_type": "execute_result"
    }
   ],
   "source": [
    "ans[:11]"
   ]
  },
  {
   "cell_type": "code",
   "execution_count": 100,
   "metadata": {},
   "outputs": [],
   "source": [
    "mask=[0,1,1,1,0,0,0,1,0,0,0]"
   ]
  },
  {
   "cell_type": "code",
   "execution_count": 101,
   "metadata": {},
   "outputs": [],
   "source": [
    "ans_true = []\n",
    "for a,b in zip([x for x in zip(ans, ans_rc)], mask):\n",
    "    ans_true.append(a[b])"
   ]
  },
  {
   "cell_type": "code",
   "execution_count": 102,
   "metadata": {},
   "outputs": [
    {
     "data": {
      "text/plain": [
       "[[12, 7, 11, 22, 2, 3, 19, 16, 18, 39, 30, 27, 42, 53, 54, 58, 79],\n",
       " [79, 58, 54, 53, 42, 27, 30, 39, 18, 16, 19, 3, 2, 11, 22, 7, 12],\n",
       " [81, 44, 35, 41, 36, 29, 26, 15, 9, 8, 23, 31, 10, 13],\n",
       " [91, 59, 55, 57, 49, 17, 21],\n",
       " [34, 20, 1, 0, 14, 52],\n",
       " [21, 17, 49, 57, 55, 59, 91],\n",
       " [40, 32, 45, 37, 33, 50, 46, 48],\n",
       " [48, 46, 50, 33, 37, 45, 32, 40],\n",
       " [34, 20, 1, 0, 14, 52],\n",
       " [34, 20, 1, 0, 14, 52],\n",
       " [6, 56, 51, 47, 38, 28, 5, 4, 6]]"
      ]
     },
     "execution_count": 102,
     "metadata": {},
     "output_type": "execute_result"
    }
   ],
   "source": [
    "ans_true"
   ]
  },
  {
   "cell_type": "code",
   "execution_count": 89,
   "metadata": {
    "scrolled": true
   },
   "outputs": [
    {
     "data": {
      "text/plain": [
       "[[18, 16, 15, 14, 17, 14, 16, 17, 16, 15, 13, 13, 16, 16, 15, 14, 14],\n",
       " [0, 0, 0, 0, 0, 0, 0, 0, 0, 0, 0, 0, 0, 0, 0, 0, 0],\n",
       " [16, 0, 0, 0, 0, 0, 0, 0, 0, 0, 0, 0, 0, 0],\n",
       " [14, 0, 0, 0, 0, 0, 0],\n",
       " [14, 14, 15, 16, 16, 16],\n",
       " [17, 15, 17, 14, 15, 15, 14],\n",
       " [16, 15, 16, 17, 17, 18, 15, 17],\n",
       " [0, 0, 0, 0, 0, 0, 0, 0],\n",
       " [14, 14, 15, 16, 16, 16],\n",
       " [14, 14, 15, 16, 16, 16],\n",
       " [13, 16, 14, 15, 15, 15, 16, 15, 14],\n",
       " [26],\n",
       " [26],\n",
       " [26],\n",
       " [26]]"
      ]
     },
     "execution_count": 89,
     "metadata": {},
     "output_type": "execute_result"
    }
   ],
   "source": [
    "ans_rc = transform_list_of_lists(read_arrays(answname, rc))\n",
    "transform_list_of_lists_q(read_arrays(answname, rc))"
   ]
  },
  {
   "cell_type": "code",
   "execution_count": 90,
   "metadata": {},
   "outputs": [
    {
     "data": {
      "text/plain": [
       "[[0, 0, 0, 0, 0, 0, 0, 0, 0, 0, 0, 0, 0, 0, 0, 0, 0],\n",
       " [14, 14, 15, 16, 16, 13, 13, 15, 16, 17, 16, 14, 17, 15, 14, 16, 18],\n",
       " [15, 16, 14, 16, 15, 13, 15, 17, 17, 18, 14, 14, 16, 15],\n",
       " [14, 15, 15, 14, 17, 15, 17],\n",
       " [0, 0, 0, 0, 0, 0],\n",
       " [0, 0, 0, 0, 0, 0, 14],\n",
       " [0, 0, 0, 0, 0, 0, 0, 0],\n",
       " [17, 15, 18, 17, 17, 16, 15, 16],\n",
       " [0, 0, 0, 0, 0, 0],\n",
       " [0, 0, 0, 0, 0, 0],\n",
       " [15, 0, 0, 0, 0, 0, 0, 0, 0],\n",
       " [26],\n",
       " [26],\n",
       " [26],\n",
       " [26]]"
      ]
     },
     "execution_count": 90,
     "metadata": {},
     "output_type": "execute_result"
    }
   ],
   "source": [
    "ans = transform_list_of_lists(read_arrays(answname))\n",
    "transform_list_of_lists_q(read_arrays(answname))"
   ]
  },
  {
   "cell_type": "code",
   "execution_count": 48,
   "metadata": {},
   "outputs": [],
   "source": [
    "res = transform_list_of_lists(read_arrays_(\"/home/anton/BigMac/skoltech/CRISPR_research/data/clostr_11_12/out/restored/CDisolate77_S11_L001_R1_001_arrays_sp\"))"
   ]
  },
  {
   "cell_type": "code",
   "execution_count": 33,
   "metadata": {},
   "outputs": [
    {
     "data": {
      "text/plain": [
       "[12, 7, 11, 22, 2, 3, 19, 16, 18, 39, 30, 27, 42, 53, 54, 58, 79]"
      ]
     },
     "execution_count": 33,
     "metadata": {},
     "output_type": "execute_result"
    }
   ],
   "source": [
    "ans[0]"
   ]
  },
  {
   "cell_type": "code",
   "execution_count": 31,
   "metadata": {},
   "outputs": [
    {
     "data": {
      "text/plain": [
       "[[77, 107, 11, 23, 32, 30, 64, 25, 4, 39, 27, 30, 28, 28, 100, 35, 29],\n",
       " [79, 58, 54, 53, 42, 27, 30, 39, 18, 16, 19, 3, 2, 11, 22, 7, 12],\n",
       " [81, 44, 35, 41, 36, 29, 26, 15, 9, 8, 23, 31, 10, 13],\n",
       " [91, 59, 55, 57, 49, 17, 21],\n",
       " [29, 6, 1, 0, 20, 40],\n",
       " [33, 6, 15, 31, 6, 3, 31],\n",
       " [52, 58, 25, 74, 21, 17, 28, 51],\n",
       " [48, 46, 50, 33, 37, 45, 32, 40],\n",
       " [29, 6, 1, 0, 20, 40],\n",
       " [29, 6, 1, 0, 20, 40],\n",
       " [70, 14, 61, 25, 34, 46, 93, 105, 20],\n",
       " [74],\n",
       " [74],\n",
       " [74],\n",
       " [74]]"
      ]
     },
     "execution_count": 31,
     "metadata": {},
     "output_type": "execute_result"
    }
   ],
   "source": [
    "ans_rc"
   ]
  },
  {
   "cell_type": "code",
   "execution_count": null,
   "metadata": {},
   "outputs": [],
   "source": []
  }
 ],
 "metadata": {
  "kernelspec": {
   "display_name": "Python 3",
   "language": "python",
   "name": "python3"
  },
  "language_info": {
   "codemirror_mode": {
    "name": "ipython",
    "version": 3
   },
   "file_extension": ".py",
   "mimetype": "text/x-python",
   "name": "python",
   "nbconvert_exporter": "python",
   "pygments_lexer": "ipython3",
   "version": "3.6.3"
  }
 },
 "nbformat": 4,
 "nbformat_minor": 2
}
