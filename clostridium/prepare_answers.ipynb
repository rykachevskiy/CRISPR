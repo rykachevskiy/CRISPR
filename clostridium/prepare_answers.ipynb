{
 "cells": [
  {
   "cell_type": "code",
   "execution_count": 1,
   "metadata": {},
   "outputs": [],
   "source": [
    "import crispr_assembler as ca\n",
    "import pandas as pd\n",
    "import numpy as np"
   ]
  },
  {
   "cell_type": "code",
   "execution_count": 102,
   "metadata": {},
   "outputs": [],
   "source": [
    "clostr = pd.read_excel(\"./CDiParrays (copy).xlsx\", sheet_name=None, index_col=None, header = None)#, header = None, index_col=None)"
   ]
  },
  {
   "cell_type": "code",
   "execution_count": 103,
   "metadata": {
    "scrolled": false
   },
   "outputs": [
    {
     "data": {
      "text/plain": [
       "odict_keys(['77', '79', '210', '211', '221', '648'])"
      ]
     },
     "execution_count": 103,
     "metadata": {},
     "output_type": "execute_result"
    }
   ],
   "source": [
    "clostr.keys()"
   ]
  },
  {
   "cell_type": "code",
   "execution_count": null,
   "metadata": {},
   "outputs": [],
   "source": []
  },
  {
   "cell_type": "code",
   "execution_count": 104,
   "metadata": {},
   "outputs": [],
   "source": [
    "s = clostr['77'].values[:,0]"
   ]
  },
  {
   "cell_type": "code",
   "execution_count": 105,
   "metadata": {},
   "outputs": [],
   "source": [
    "mask = pd.notna(clostr['77'][0]).values"
   ]
  },
  {
   "cell_type": "code",
   "execution_count": 106,
   "metadata": {},
   "outputs": [
    {
     "data": {
      "text/plain": [
       "['TAACCTTTTTATTGTTGTTGTTATTCTTATTGTTATTC',\n",
       " 'GTTGTAAGAAGTATCATTCTATTTTTTAATCTTTCT',\n",
       " 'AGTACATATAATGAGTCTTTAACATCAGTTATGAAAG',\n",
       " 'GATTGTACTTTAGCGTCTGCACTAGCTTTGTCTATC',\n",
       " 'TATTTTACAGATGAACAATTACAGTTACTTCTTGAAT',\n",
       " 'AATGGAAGCAAGATAATTTTTAAAGGTATGGATAATT']"
      ]
     },
     "execution_count": 106,
     "metadata": {},
     "output_type": "execute_result"
    }
   ],
   "source": [
    "[x for x in clostr['77'].values[mask][0][1:] if type(x) == str]"
   ]
  },
  {
   "cell_type": "code",
   "execution_count": 126,
   "metadata": {},
   "outputs": [],
   "source": [
    "def update(answer, source , prefix):\n",
    "    mask = pd.notna(source[0]).values\n",
    "    for i in range(mask.sum()):\n",
    "        \n",
    "        array = [x for x in source.values[mask][i][1:] if type(x) == str]\n",
    "        key = source.values[mask][i][0]\n",
    "\n",
    "        if len(array) > 0:\n",
    "            answer[prefix + str(key)] = array    "
   ]
  },
  {
   "cell_type": "code",
   "execution_count": 127,
   "metadata": {},
   "outputs": [],
   "source": [
    "clostr_dict = {}\n",
    "# update(new_ecoli_dict, new_ecoli['Ecoli кассета 1'], 'first_')\n",
    "# update(new_ecoli_dict, new_ecoli['Ecoli кассета 2'], 'second_')"
   ]
  },
  {
   "cell_type": "code",
   "execution_count": 152,
   "metadata": {},
   "outputs": [
    {
     "name": "stdout",
     "output_type": "stream",
     "text": [
      "77\n",
      "79\n",
      "210\n",
      "211\n",
      "221\n",
      "648\n"
     ]
    }
   ],
   "source": [
    "for key, value in clostr.items():\n",
    "    print(key)\n",
    "    d = {}\n",
    "    update(d, clostr[key], key+'_')\n",
    "    d_str = {}\n",
    "    for k,v in d.items():\n",
    "        d_str[k] = '\\t'.join(v)\n",
    "    save_dict(d_str, str(key) + '_answ')"
   ]
  },
  {
   "cell_type": "code",
   "execution_count": 150,
   "metadata": {},
   "outputs": [
    {
     "data": {
      "text/plain": [
       "{'77_4': ['TAACCTTTTTATTGTTGTTGTTATTCTTATTGTTATTC',\n",
       "  'GTTGTAAGAAGTATCATTCTATTTTTTAATCTTTCT',\n",
       "  'AGTACATATAATGAGTCTTTAACATCAGTTATGAAAG',\n",
       "  'GATTGTACTTTAGCGTCTGCACTAGCTTTGTCTATC',\n",
       "  'TATTTTACAGATGAACAATTACAGTTACTTCTTGAAT',\n",
       "  'AATGGAAGCAAGATAATTTTTAAAGGTATGGATAATT'],\n",
       " '77_9': ['CAAAGAAGCTCCACCCCATCTGTTTTTTATTATAGC',\n",
       "  'TGTTTTCCATGAACATTTCGAGCTGACTTTTATTGT',\n",
       "  'AACTTCTTGTTTTTTCTTTAAAACATGTACTTGGTC',\n",
       "  'AAATCAATGCCAACTATAGGAACGTCGGGATTAATTG',\n",
       "  'GGAGTATAAGGTAAATCGTAAGCAACTCCAGAAAGAG',\n",
       "  'GAATTACAATATTATCTCCAGCATCAAGACTAGGAT',\n",
       "  'CTGATAGAAAAAGAAGATTATTTGAAAGTTGAGACTA',\n",
       "  'AAAGATTGCAATAGATTTCCTGTTAAAATAGGTACAG',\n",
       "  'GAAATAATAAATAGCATTGTCGAATGGTTTGCAAGCC',\n",
       "  'TATAGCTAATTATTAGATTCAATTTTAATTTCGTTAA',\n",
       "  'ATTGCAACACTTCATCAGTTGATAAATATAGTATATT',\n",
       "  'TTATACATATTTGTAGCTCCTTGCTGAACTGTTGCA',\n",
       "  'TGGTTAAATCTCCAACAGAACATTTATCTAAATTACAA',\n",
       "  'CTTGTTAATGCAAATAAACAACATAGCACTATTAATA',\n",
       "  'AGGGTTTCTGATAAAATCTTCAAACATGTAAAATATGT',\n",
       "  'CTTATACTTAGTTAGAACTATATATCGACACAAATAT',\n",
       "  'TGCAATTTTTATTCGTTGTCCAATCTCTTTGAAATTT'],\n",
       " '77_2(9/8)': ['TTTCCCTGCATTAACAAAATCTTCAACATTCAAAAA',\n",
       "  'TATGAATATATTACATAATCATAAAGATTTACAAATG',\n",
       "  'GAATTATATATTGCAAAAAAATATGGAGTCACAGAG',\n",
       "  'GTTTTCAAAAAAAATGGAACAATCATACAAAATGATT',\n",
       "  'TCTATAATTATGCGTGATTTGATTGGTAGAAACC',\n",
       "  'GCATAACCAAAAACTTCAAAATCAAGACCTCGAATTT',\n",
       "  'TGCGCAATAACATGCTGAAAACTGCAATTTCGAAGT',\n",
       "  'CTAAAGCAACTAAAGCATATGATTTATCTAACAAC',\n",
       "  'AGGATAAAGAAAAGACTCACACAAGGCACAGTGTCAG'],\n",
       " '77_6 (13/14)': ['TGAAAATCTAGTTAAAAACTGCATCAAAGTATTGAT',\n",
       "  'CAGCAAGAGTCGCAACAACATTAACAACTTCGGGAGC',\n",
       "  'TTGTATTATTACTTTTTATCAGAATAATCAAAAGATA',\n",
       "  'GCAGAAGAAACAGGTTTCAAAACGATAAAAAAATAAT',\n",
       "  'AGAGAGAAGGGCTATTCTCTCTAGGCTTATCCTTACAA',\n",
       "  'AAACCAATCTTTTTTCCTTGAATCTTTTAAAAGTTCC',\n",
       "  'GATTTTAGAACTTCATCCACAAACGAGCTTTCTACA',\n",
       "  'ATAGTCCTTTTCTAAATTTAGAATCAAGTTTTGGAGT',\n",
       "  'AGAGTAAAACAATAGTACAAGAACAAATAAATACAT',\n",
       "  'ACTTTTTCACGACATTTTTTTATAAAAGGAGGTATTA',\n",
       "  'AAAATTATAGACAGAATGATAAATGTATTTGATGCTT',\n",
       "  'ACTTTCTGTAGCTCTATAGATAAATAAGGTGCTAAA',\n",
       "  'TAACTTTATAAAACCCAGTAATTGCAACACTTTTATA'],\n",
       " '77_5(6/7)': ['ACGGGAAAGCTAGAGGGTGTTTGGACTTTAGAGGAAA',\n",
       "  'CGTTCTTGGAATGATAAATATAGAATTGGTTGGATA',\n",
       "  'TTTTAAGCTCCACCTTGTCTTAAAAGTTTAAGCAATA',\n",
       "  'TATACTTATAGGAGTTGGAATTATAATATTAACTACAA',\n",
       "  'ATTTGATTTTAATGGTACGTTTTCGCTTTCTCTAAG',\n",
       "  'TACAACGACTTATATTCTAAAATAAAAATGTAAACTTC'],\n",
       " '77_1 (2/7)': ['CGGCTACAACGGTATAAATTAAATTTAGCAGGGTAC',\n",
       "  'TGCTGTGATTTCAATAATAAAACAATTAATAATTGT'],\n",
       " '77_3': ['TCAGCATCTATGCCATTTACTTTATTAACTTCCTCAT',\n",
       "  'AGTATTTCAGCAATTTTACTTTTAATAACTTTATCAGC',\n",
       "  'TCAATTTACCGTTTTTTTCAAATCTCACAACATCAGA',\n",
       "  'CTATCGGCTTCTTGAAAAGCCTCATCTGCTCTATTTA',\n",
       "  'TTCATTAAATCCCCAACCGAATTATCTTTCAGCATTT',\n",
       "  'CATGCTGATAAGAATCTCTATGAACTTCGGAGGGAACCG',\n",
       "  'TTGGGTATTTTGCTAAAAATAAAGCTATTAAATTAGA',\n",
       "  'CGTATTAACACCTGTTCGGCACTATCACAATAAACACAA'],\n",
       " '77_1 (3/5(7))': ['AAGAAAATAAGTTTAAAAAAAGGTTTCATTATTATATC',\n",
       "  'CCAATTATGTACAGTTTAGTTACTGTGTTAAGTCTT',\n",
       "  'TCCTTTTATAAATATCTTCTGACATGTGTATATGCTT'],\n",
       " '77_7': ['GATGGAAAATCTTTAGCTTATGTAAAGGAACAAAGTAATAGT',\n",
       "  'AACTACAGTGCACTATCTTGTGTAAAAGAGCAAACTGAAGAA',\n",
       "  'AATGACTTTGCATTGTATTATGTAAATGAACAGACAGAAAAA',\n",
       "  'AGTTATATGGCTCTACAGTATGTAAATAAGCAAACAGAAGAG'],\n",
       " '77_8': ['AAAATATTATTTAGGAACTGATGGAGCAAGAGTA',\n",
       "  'AACTTATTACTTTAACTCAGATGGAGTAATGCAA',\n",
       "  'GAAATACTATCTAGGATCTGATGGTTTAGCAGTA',\n",
       "  'TAAGTATTACTTTGACAAAACAGGAATAATGCAG',\n",
       "  'GTCTTACTATTTAGACAAAGATGGAAAGATGCTA']}"
      ]
     },
     "execution_count": 150,
     "metadata": {},
     "output_type": "execute_result"
    }
   ],
   "source": [
    "d"
   ]
  },
  {
   "cell_type": "code",
   "execution_count": 132,
   "metadata": {},
   "outputs": [],
   "source": [
    "d630 = ca.read_arrays_with_tags(\"../../data/answers/Clo_009089.txt\", 0)"
   ]
  },
  {
   "cell_type": "code",
   "execution_count": 133,
   "metadata": {},
   "outputs": [],
   "source": [
    "d20291 = ca.read_arrays_with_tags(\"../../data/answers/Clo_013316.txt\", 0)"
   ]
  },
  {
   "cell_type": "code",
   "execution_count": null,
   "metadata": {},
   "outputs": [],
   "source": []
  },
  {
   "cell_type": "code",
   "execution_count": 147,
   "metadata": {},
   "outputs": [],
   "source": [
    "clostr_answer = {}\n",
    "\n",
    "for d in [clostr_dict, d630, d20291]:\n",
    "    for k, v in d.items():\n",
    "        if len(v) > 0:\n",
    "            clostr_answer[k] = '\\t'.join(v)"
   ]
  },
  {
   "cell_type": "code",
   "execution_count": 142,
   "metadata": {},
   "outputs": [],
   "source": [
    "ca.dict_to_csv(clostr_answer, './clostr_answer')"
   ]
  },
  {
   "cell_type": "code",
   "execution_count": null,
   "metadata": {},
   "outputs": [],
   "source": []
  },
  {
   "cell_type": "code",
   "execution_count": null,
   "metadata": {},
   "outputs": [],
   "source": []
  },
  {
   "cell_type": "code",
   "execution_count": 143,
   "metadata": {},
   "outputs": [],
   "source": [
    "clostr_answer_short = {}\n",
    "\n",
    "for d in [d630, d20291]:\n",
    "    for k, v in d.items():\n",
    "        if len(v) > 0:\n",
    "            clostr_answer_short[k] = '\\t'.join(v)"
   ]
  },
  {
   "cell_type": "code",
   "execution_count": 144,
   "metadata": {},
   "outputs": [],
   "source": [
    "ca.dict_to_csv(clostr_answer_short, './clostr_answer_short')"
   ]
  },
  {
   "cell_type": "code",
   "execution_count": 148,
   "metadata": {},
   "outputs": [],
   "source": [
    "save_dict(clostr_answer, './clostr_answer')"
   ]
  },
  {
   "cell_type": "code",
   "execution_count": 145,
   "metadata": {},
   "outputs": [],
   "source": [
    "def save_dict(d, fname):\n",
    "    with open(fname, 'w') as f:\n",
    "\n",
    "        for k,v in d.items():\n",
    "            f.write(k)\n",
    "            f.write(\"\\n\")\n",
    "            f.write(v)\n",
    "            f.write(\"\\n\")\n",
    "\n",
    "    "
   ]
  },
  {
   "cell_type": "code",
   "execution_count": 74,
   "metadata": {},
   "outputs": [],
   "source": [
    "sensivity_set = [2,3,5,7,8,11,14,15,21,22]"
   ]
  },
  {
   "cell_type": "code",
   "execution_count": 80,
   "metadata": {},
   "outputs": [
    {
     "name": "stdout",
     "output_type": "stream",
     "text": [
      "(array([ 2, 23]),)\n",
      "(array([ 7, 32]),)\n",
      "(array([ 8, 27]),)\n",
      "(array([10, 33]),)\n",
      "(array([11, 34]),)\n",
      "(array([ 1, 35]),)\n",
      "(array([12, 36]),)\n",
      "(array([13, 37]),)\n",
      "(array([18, 29]),)\n",
      "(array([16, 40]),)\n"
     ]
    }
   ],
   "source": [
    "keys  = np.array([int(x.split('_')[1]) for x in new_ecoli_dict.keys()])\n",
    "\n",
    "for x in sensivity_set:\n",
    "    if x in keys:\n",
    "        print(np.where(keys == x))\n",
    "    else: \n",
    "        print(x)\n",
    "    "
   ]
  },
  {
   "cell_type": "code",
   "execution_count": 85,
   "metadata": {},
   "outputs": [
    {
     "data": {
      "text/plain": [
       "array([ 1, 11,  2, 24, 61, 62, 68,  3,  5, 50,  7,  8, 14, 15, 19, 20, 22,\n",
       "       31, 21, 23, 27, 65,  1,  2, 61, 62, 68,  5, 50, 21, 65, 70,  3,  7,\n",
       "        8, 11, 14, 15, 19, 20, 22, 23, 24, 27, 31])"
      ]
     },
     "execution_count": 85,
     "metadata": {},
     "output_type": "execute_result"
    }
   ],
   "source": [
    "keys"
   ]
  },
  {
   "cell_type": "code",
   "execution_count": 89,
   "metadata": {},
   "outputs": [],
   "source": [
    "def filter_dict(data_dict, list_tags):\n",
    "    filtered_dict = {}\n",
    "    \n",
    "    for k,v in data_dict.items():\n",
    "        if int(k.split(\"_\")[1]) in list_tags:\n",
    "            filtered_dict[k] = v\n",
    "        \n",
    "    return filtered_dict"
   ]
  },
  {
   "cell_type": "code",
   "execution_count": 97,
   "metadata": {},
   "outputs": [],
   "source": [
    "save_dict(filter_dict(new_ecoli_dict, sensivity_set), \"../../article/data/answers/sensivity\")"
   ]
  },
  {
   "cell_type": "code",
   "execution_count": null,
   "metadata": {},
   "outputs": [],
   "source": []
  }
 ],
 "metadata": {
  "kernelspec": {
   "display_name": "Python 3",
   "language": "python",
   "name": "python3"
  },
  "language_info": {
   "codemirror_mode": {
    "name": "ipython",
    "version": 3
   },
   "file_extension": ".py",
   "mimetype": "text/x-python",
   "name": "python",
   "nbconvert_exporter": "python",
   "pygments_lexer": "ipython3",
   "version": "3.6.3"
  }
 },
 "nbformat": 4,
 "nbformat_minor": 2
}
