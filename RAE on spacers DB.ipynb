{
 "cells": [
  {
   "cell_type": "code",
   "execution_count": 2,
   "metadata": {},
   "outputs": [
    {
     "name": "stderr",
     "output_type": "stream",
     "text": [
      "/home/anton/anaconda3/lib/python3.6/importlib/_bootstrap.py:219: RuntimeWarning: compiletime version 3.5 of module 'tensorflow.python.framework.fast_tensor_util' does not match runtime version 3.6\n",
      "  return f(*args, **kwds)\n",
      "Using TensorFlow backend.\n"
     ]
    }
   ],
   "source": [
    "import tensorflow as tf\n",
    "\n",
    "import keras\n",
    "\n",
    "import numpy as np\n",
    "import matplotlib.pyplot as plt\n",
    "%matplotlib inline"
   ]
  },
  {
   "cell_type": "code",
   "execution_count": 3,
   "metadata": {
    "collapsed": true
   },
   "outputs": [],
   "source": [
    "from keras.layers import Input, LSTM, RepeatVector, Dense, Embedding, Activation, Masking,SimpleRNN\n",
    "from keras.models import Model, Sequential\n",
    "from keras import backend as K"
   ]
  },
  {
   "cell_type": "code",
   "execution_count": 4,
   "metadata": {
    "collapsed": true
   },
   "outputs": [],
   "source": [
    "from functools import reduce\n",
    "from tqdm import tqdm"
   ]
  },
  {
   "cell_type": "markdown",
   "metadata": {},
   "source": [
    "### Spacers data"
   ]
  },
  {
   "cell_type": "code",
   "execution_count": 5,
   "metadata": {
    "collapsed": true
   },
   "outputs": [],
   "source": [
    "VOC_SIZE = 7\n",
    "mask_val = 6"
   ]
  },
  {
   "cell_type": "code",
   "execution_count": 6,
   "metadata": {
    "collapsed": true
   },
   "outputs": [],
   "source": [
    "with open(\"./data/CRISPR_db_2109.txt\") as f:\n",
    "    lines = f.readlines()"
   ]
  },
  {
   "cell_type": "code",
   "execution_count": 7,
   "metadata": {
    "collapsed": true
   },
   "outputs": [],
   "source": [
    "lines = [x.split(\"\\t\")[1:] for x in lines]\n",
    "\n",
    "lines = [[y for y in x if len(y) < 100 and len(y) > 5] for x in lines]\n",
    "\n",
    "lines = reduce(lambda a,b: a+b, lines)"
   ]
  },
  {
   "cell_type": "code",
   "execution_count": 8,
   "metadata": {
    "collapsed": true
   },
   "outputs": [],
   "source": [
    "max_len = max([len(x) for x in lines])"
   ]
  },
  {
   "cell_type": "code",
   "execution_count": 9,
   "metadata": {},
   "outputs": [
    {
     "data": {
      "text/plain": [
       "67"
      ]
     },
     "execution_count": 9,
     "metadata": {},
     "output_type": "execute_result"
    }
   ],
   "source": [
    "max_len"
   ]
  },
  {
   "cell_type": "code",
   "execution_count": 10,
   "metadata": {
    "collapsed": true
   },
   "outputs": [],
   "source": [
    "l_to_n = dict()\n",
    "l_to_n[\"A\"] = 1\n",
    "l_to_n[\"C\"] = 2\n",
    "l_to_n[\"T\"] = 3\n",
    "l_to_n[\"G\"] = 4\n",
    "\n",
    "letters = set([\"A\", \"C\", \"T\", \"G\"])"
   ]
  },
  {
   "cell_type": "code",
   "execution_count": 11,
   "metadata": {
    "collapsed": true
   },
   "outputs": [],
   "source": [
    "total_missed = 0\n",
    "\n",
    "def process_spacer(spacer):\n",
    "    spacer_as_array = np.ones(max_len + 2)*mask_val\n",
    "    spacer_as_array[0] = 0\n",
    "    for i, el in enumerate(spacer):\n",
    "        if el in letters:\n",
    "            spacer_as_array[i + 1] = l_to_n[el]\n",
    "        else:\n",
    "            spacer_as_array[i + 1] = mask_val\n",
    "        \n",
    "    spacer_as_array[len(spacer) + 1] = 5\n",
    "    return spacer_as_array"
   ]
  },
  {
   "cell_type": "code",
   "execution_count": 12,
   "metadata": {},
   "outputs": [
    {
     "data": {
      "text/plain": [
       "array([ 0.,  1.,  4.,  3.,  4.,  2.,  3.,  4.,  4.,  1.,  2.,  2.,  1.,\n",
       "        3.,  3.,  3.,  2.,  1.,  1.,  1.,  3.,  3.,  2.,  1.,  2.,  1.,\n",
       "        1.,  3.,  1.,  4.,  1.,  3.,  3.,  5.,  6.,  6.,  6.,  6.,  6.,\n",
       "        6.,  6.,  6.,  6.,  6.,  6.,  6.,  6.,  6.,  6.,  6.,  6.,  6.,\n",
       "        6.,  6.,  6.,  6.,  6.,  6.,  6.,  6.,  6.,  6.,  6.,  6.,  6.,\n",
       "        6.,  6.,  6.,  6.])"
      ]
     },
     "execution_count": 12,
     "metadata": {},
     "output_type": "execute_result"
    }
   ],
   "source": [
    "process_spacer(\"AGTGCTGGACCATTTCAAATTCACAATAGATT\")"
   ]
  },
  {
   "cell_type": "code",
   "execution_count": 13,
   "metadata": {
    "collapsed": true,
    "scrolled": true
   },
   "outputs": [],
   "source": [
    "X = np.empty((len(lines), max_len + 2))\n",
    "\n",
    "for i, l in enumerate(lines):\n",
    "    try:\n",
    "        X[i] = process_spacer(l)\n",
    "    except:\n",
    "        print(l)\n",
    "        \n",
    "X = X.astype(int)"
   ]
  },
  {
   "cell_type": "code",
   "execution_count": 14,
   "metadata": {
    "collapsed": true
   },
   "outputs": [],
   "source": [
    "Y = np.zeros((X.shape[0], X.shape[1], VOC_SIZE))\n",
    "mask_Y = np.zeros((X.shape[0], X.shape[1], VOC_SIZE))"
   ]
  },
  {
   "cell_type": "code",
   "execution_count": 15,
   "metadata": {
    "scrolled": false
   },
   "outputs": [
    {
     "name": "stderr",
     "output_type": "stream",
     "text": [
      "100%|██████████| 24809/24809 [00:03<00:00, 6622.93it/s]\n"
     ]
    }
   ],
   "source": [
    "for i in tqdm(range(X.shape[0])):\n",
    "    for j in range(X.shape[1]):\n",
    "        Y[i,j,X[i,j]] = 1\n",
    "        if X[i,j] != mask_val:\n",
    "            mask_Y[i,j,:] = 1"
   ]
  },
  {
   "cell_type": "code",
   "execution_count": 16,
   "metadata": {},
   "outputs": [
    {
     "data": {
      "text/plain": [
       "array([  24809.,  189195.,  205033.,  199220.,  201330.,   24809.,  867425.])"
      ]
     },
     "execution_count": 16,
     "metadata": {},
     "output_type": "execute_result"
    }
   ],
   "source": [
    "Y.sum(0).sum(0)"
   ]
  },
  {
   "cell_type": "code",
   "execution_count": 110,
   "metadata": {},
   "outputs": [
    {
     "data": {
      "text/plain": [
       "array([[ 1.,  1.,  1.,  1.,  1.,  1.,  1.],\n",
       "       [ 1.,  1.,  1.,  1.,  1.,  1.,  1.],\n",
       "       [ 1.,  1.,  1.,  1.,  1.,  1.,  1.],\n",
       "       [ 1.,  1.,  1.,  1.,  1.,  1.,  1.],\n",
       "       [ 1.,  1.,  1.,  1.,  1.,  1.,  1.],\n",
       "       [ 1.,  1.,  1.,  1.,  1.,  1.,  1.],\n",
       "       [ 1.,  1.,  1.,  1.,  1.,  1.,  1.],\n",
       "       [ 1.,  1.,  1.,  1.,  1.,  1.,  1.],\n",
       "       [ 1.,  1.,  1.,  1.,  1.,  1.,  1.],\n",
       "       [ 1.,  1.,  1.,  1.,  1.,  1.,  1.],\n",
       "       [ 1.,  1.,  1.,  1.,  1.,  1.,  1.],\n",
       "       [ 1.,  1.,  1.,  1.,  1.,  1.,  1.],\n",
       "       [ 1.,  1.,  1.,  1.,  1.,  1.,  1.],\n",
       "       [ 1.,  1.,  1.,  1.,  1.,  1.,  1.],\n",
       "       [ 1.,  1.,  1.,  1.,  1.,  1.,  1.],\n",
       "       [ 1.,  1.,  1.,  1.,  1.,  1.,  1.],\n",
       "       [ 1.,  1.,  1.,  1.,  1.,  1.,  1.],\n",
       "       [ 1.,  1.,  1.,  1.,  1.,  1.,  1.],\n",
       "       [ 1.,  1.,  1.,  1.,  1.,  1.,  1.],\n",
       "       [ 1.,  1.,  1.,  1.,  1.,  1.,  1.],\n",
       "       [ 1.,  1.,  1.,  1.,  1.,  1.,  1.],\n",
       "       [ 1.,  1.,  1.,  1.,  1.,  1.,  1.],\n",
       "       [ 1.,  1.,  1.,  1.,  1.,  1.,  1.],\n",
       "       [ 1.,  1.,  1.,  1.,  1.,  1.,  1.],\n",
       "       [ 1.,  1.,  1.,  1.,  1.,  1.,  1.],\n",
       "       [ 1.,  1.,  1.,  1.,  1.,  1.,  1.],\n",
       "       [ 1.,  1.,  1.,  1.,  1.,  1.,  1.],\n",
       "       [ 1.,  1.,  1.,  1.,  1.,  1.,  1.],\n",
       "       [ 1.,  1.,  1.,  1.,  1.,  1.,  1.],\n",
       "       [ 1.,  1.,  1.,  1.,  1.,  1.,  1.],\n",
       "       [ 1.,  1.,  1.,  1.,  1.,  1.,  1.],\n",
       "       [ 1.,  1.,  1.,  1.,  1.,  1.,  1.],\n",
       "       [ 0.,  0.,  0.,  0.,  0.,  0.,  0.],\n",
       "       [ 0.,  0.,  0.,  0.,  0.,  0.,  0.],\n",
       "       [ 0.,  0.,  0.,  0.,  0.,  0.,  0.],\n",
       "       [ 0.,  0.,  0.,  0.,  0.,  0.,  0.],\n",
       "       [ 0.,  0.,  0.,  0.,  0.,  0.,  0.],\n",
       "       [ 0.,  0.,  0.,  0.,  0.,  0.,  0.],\n",
       "       [ 0.,  0.,  0.,  0.,  0.,  0.,  0.],\n",
       "       [ 0.,  0.,  0.,  0.,  0.,  0.,  0.],\n",
       "       [ 0.,  0.,  0.,  0.,  0.,  0.,  0.],\n",
       "       [ 0.,  0.,  0.,  0.,  0.,  0.,  0.],\n",
       "       [ 0.,  0.,  0.,  0.,  0.,  0.,  0.],\n",
       "       [ 0.,  0.,  0.,  0.,  0.,  0.,  0.],\n",
       "       [ 0.,  0.,  0.,  0.,  0.,  0.,  0.],\n",
       "       [ 0.,  0.,  0.,  0.,  0.,  0.,  0.],\n",
       "       [ 0.,  0.,  0.,  0.,  0.,  0.,  0.],\n",
       "       [ 0.,  0.,  0.,  0.,  0.,  0.,  0.],\n",
       "       [ 0.,  0.,  0.,  0.,  0.,  0.,  0.],\n",
       "       [ 0.,  0.,  0.,  0.,  0.,  0.,  0.],\n",
       "       [ 0.,  0.,  0.,  0.,  0.,  0.,  0.],\n",
       "       [ 0.,  0.,  0.,  0.,  0.,  0.,  0.],\n",
       "       [ 0.,  0.,  0.,  0.,  0.,  0.,  0.],\n",
       "       [ 0.,  0.,  0.,  0.,  0.,  0.,  0.],\n",
       "       [ 0.,  0.,  0.,  0.,  0.,  0.,  0.],\n",
       "       [ 0.,  0.,  0.,  0.,  0.,  0.,  0.],\n",
       "       [ 0.,  0.,  0.,  0.,  0.,  0.,  0.],\n",
       "       [ 0.,  0.,  0.,  0.,  0.,  0.,  0.],\n",
       "       [ 0.,  0.,  0.,  0.,  0.,  0.,  0.],\n",
       "       [ 0.,  0.,  0.,  0.,  0.,  0.,  0.],\n",
       "       [ 0.,  0.,  0.,  0.,  0.,  0.,  0.],\n",
       "       [ 0.,  0.,  0.,  0.,  0.,  0.,  0.],\n",
       "       [ 0.,  0.,  0.,  0.,  0.,  0.,  0.],\n",
       "       [ 0.,  0.,  0.,  0.,  0.,  0.,  0.],\n",
       "       [ 0.,  0.,  0.,  0.,  0.,  0.,  0.],\n",
       "       [ 0.,  0.,  0.,  0.,  0.,  0.,  0.],\n",
       "       [ 0.,  0.,  0.,  0.,  0.,  0.,  0.],\n",
       "       [ 0.,  0.,  0.,  0.,  0.,  0.,  0.],\n",
       "       [ 0.,  0.,  0.,  0.,  0.,  0.,  0.]])"
      ]
     },
     "execution_count": 110,
     "metadata": {},
     "output_type": "execute_result"
    }
   ],
   "source": [
    "mask_Y[0]"
   ]
  },
  {
   "cell_type": "markdown",
   "metadata": {},
   "source": [
    "#### Net"
   ]
  },
  {
   "cell_type": "code",
   "execution_count": 18,
   "metadata": {
    "collapsed": true
   },
   "outputs": [],
   "source": [
    "internal_dim = 10\n",
    "out_dim = 20\n"
   ]
  },
  {
   "cell_type": "code",
   "execution_count": 19,
   "metadata": {
    "collapsed": true
   },
   "outputs": [],
   "source": [
    "encoder_input = Input(shape=(None,))\n",
    "\n",
    "#encoder_mask_layer = Masking(mask_value=6, input_shape=(None,), name = 'enc_mask')\n",
    "#encoder_mask = encoder_mask_layer(encoder_input)\n",
    "\n",
    "encoder_embedding_layer = Embedding(VOC_SIZE, out_dim, name = 'enc_emb')\n",
    "#encoder_embedding = encoder_embedding_layer(encoder_mask)\n",
    "encoder_embedding = encoder_embedding_layer(encoder_input)\n",
    "\n",
    "encoder_recurent_layer_1 = LSTM(internal_dim, return_sequences=True, return_state=True, name = 'enc_lstm')\n",
    "encoder_recurent_1, encoder_h, encoder_c = encoder_recurent_layer_1(encoder_embedding)\n",
    "\n",
    "encoder_out_layer = Dense(VOC_SIZE, activation='softmax', name = 'enc_out')\n",
    "encoder_out = encoder_out_layer (encoder_recurent_1)"
   ]
  },
  {
   "cell_type": "code",
   "execution_count": 20,
   "metadata": {
    "collapsed": true
   },
   "outputs": [],
   "source": [
    "encoder = Model(encoder_input, [encoder_h, encoder_c])"
   ]
  },
  {
   "cell_type": "code",
   "execution_count": 21,
   "metadata": {
    "collapsed": true
   },
   "outputs": [],
   "source": [
    "decoder_input = Input(shape=(None,))\n",
    "\n",
    "#decoder_mask_layer = Masking(mask_value=6, name = 'dec_mask')\n",
    "#decoder_mask = decoder_mask_layer(decoder_input)\n",
    "\n",
    "#decoder_embedding = encoder_embedding_layer(decoder_mask)\n",
    "decoder_embedding = encoder_embedding_layer(decoder_input)\n",
    "\n",
    "decoder_recurent_layer_1 = LSTM(internal_dim,return_sequences=True,return_state=True, name = 'dec_lstm')\n",
    "decoder_recurent_1, _, _  = decoder_recurent_layer_1(decoder_embedding, initial_state = [encoder_h, encoder_c])\n",
    "\n",
    "decoder_out_layer = Dense(VOC_SIZE, activation='softmax', name = 'dec_out')\n",
    "decoder_out = decoder_out_layer(decoder_recurent_1)"
   ]
  },
  {
   "cell_type": "code",
   "execution_count": 22,
   "metadata": {
    "collapsed": true
   },
   "outputs": [],
   "source": [
    "total_model = Model([encoder_input, decoder_input], decoder_out)"
   ]
  },
  {
   "cell_type": "markdown",
   "metadata": {},
   "source": [
    "##### Learning"
   ]
  },
  {
   "cell_type": "code",
   "execution_count": 23,
   "metadata": {
    "collapsed": true
   },
   "outputs": [],
   "source": [
    "total_model.compile(optimizer='adam', loss='categorical_crossentropy', sample_weight_mode='temporal')"
   ]
  },
  {
   "cell_type": "code",
   "execution_count": 24,
   "metadata": {
    "collapsed": true
   },
   "outputs": [],
   "source": [
    "X_ = X[:2]\n",
    "Y_ = Y[:2]\n",
    "Y_mask_ = mask_Y[:2]"
   ]
  },
  {
   "cell_type": "code",
   "execution_count": 25,
   "metadata": {
    "collapsed": true
   },
   "outputs": [],
   "source": [
    "X_ = np.tile(X_, (100, 1))\n",
    "Y_ = np.tile(Y_, (100, 1, 1))\n",
    "Y_mask_ = np.tile(Y_mask_, (100, 1, 1))"
   ]
  },
  {
   "cell_type": "code",
   "execution_count": 67,
   "metadata": {
    "scrolled": true
   },
   "outputs": [
    {
     "name": "stdout",
     "output_type": "stream",
     "text": [
      "Epoch 1/50\n",
      "200/200 [==============================] - 1s 5ms/step - loss: 0.1212\n",
      "Epoch 2/50\n",
      "200/200 [==============================] - 1s 5ms/step - loss: 0.1204A: 0s - loss: 0.12\n",
      "Epoch 3/50\n",
      "200/200 [==============================] - 1s 5ms/step - loss: 0.1196\n",
      "Epoch 4/50\n",
      "200/200 [==============================] - 1s 5ms/step - loss: 0.1188\n",
      "Epoch 5/50\n",
      "200/200 [==============================] - 1s 5ms/step - loss: 0.1179\n",
      "Epoch 6/50\n",
      "200/200 [==============================] - 1s 5ms/step - loss: 0.1171\n",
      "Epoch 7/50\n",
      "200/200 [==============================] - 1s 5ms/step - loss: 0.1164\n",
      "Epoch 8/50\n",
      "200/200 [==============================] - 1s 5ms/step - loss: 0.1156\n",
      "Epoch 9/50\n",
      "200/200 [==============================] - 1s 5ms/step - loss: 0.1148\n",
      "Epoch 10/50\n",
      "200/200 [==============================] - 1s 5ms/step - loss: 0.1141\n",
      "Epoch 11/50\n",
      "200/200 [==============================] - 1s 5ms/step - loss: 0.1133\n",
      "Epoch 12/50\n",
      "200/200 [==============================] - 1s 5ms/step - loss: 0.1126\n",
      "Epoch 13/50\n",
      "200/200 [==============================] - 1s 5ms/step - loss: 0.1119\n",
      "Epoch 14/50\n",
      "200/200 [==============================] - 1s 5ms/step - loss: 0.1111\n",
      "Epoch 15/50\n",
      "200/200 [==============================] - 1s 5ms/step - loss: 0.1104\n",
      "Epoch 16/50\n",
      "200/200 [==============================] - 1s 5ms/step - loss: 0.1097\n",
      "Epoch 17/50\n",
      "200/200 [==============================] - 1s 5ms/step - loss: 0.1090\n",
      "Epoch 18/50\n",
      "200/200 [==============================] - 1s 5ms/step - loss: 0.1083\n",
      "Epoch 19/50\n",
      "200/200 [==============================] - 1s 5ms/step - loss: 0.1076\n",
      "Epoch 20/50\n",
      "200/200 [==============================] - 1s 5ms/step - loss: 0.1069\n",
      "Epoch 21/50\n",
      "200/200 [==============================] - 1s 5ms/step - loss: 0.1063\n",
      "Epoch 22/50\n",
      "200/200 [==============================] - 1s 5ms/step - loss: 0.1056\n",
      "Epoch 23/50\n",
      "200/200 [==============================] - 1s 5ms/step - loss: 0.1049\n",
      "Epoch 24/50\n",
      "200/200 [==============================] - 1s 5ms/step - loss: 0.1044\n",
      "Epoch 25/50\n",
      "200/200 [==============================] - 1s 5ms/step - loss: 0.1046\n",
      "Epoch 26/50\n",
      "200/200 [==============================] - 1s 5ms/step - loss: 0.1183\n",
      "Epoch 27/50\n",
      "200/200 [==============================] - 1s 5ms/step - loss: 0.1917\n",
      "Epoch 28/50\n",
      "200/200 [==============================] - 1s 5ms/step - loss: 0.2227\n",
      "Epoch 29/50\n",
      "200/200 [==============================] - 1s 6ms/step - loss: 0.1489\n",
      "Epoch 30/50\n",
      "200/200 [==============================] - 1s 6ms/step - loss: 0.1297\n",
      "Epoch 31/50\n",
      "200/200 [==============================] - 1s 6ms/step - loss: 0.1129\n",
      "Epoch 32/50\n",
      "200/200 [==============================] - 1s 5ms/step - loss: 0.1075\n",
      "Epoch 33/50\n",
      "200/200 [==============================] - 1s 5ms/step - loss: 0.1046\n",
      "Epoch 34/50\n",
      "200/200 [==============================] - 1s 6ms/step - loss: 0.1026\n",
      "Epoch 35/50\n",
      "200/200 [==============================] - 1s 5ms/step - loss: 0.1014\n",
      "Epoch 36/50\n",
      "200/200 [==============================] - 1s 5ms/step - loss: 0.1004\n",
      "Epoch 37/50\n",
      "200/200 [==============================] - 1s 5ms/step - loss: 0.0995\n",
      "Epoch 38/50\n",
      "200/200 [==============================] - 1s 5ms/step - loss: 0.0987\n",
      "Epoch 39/50\n",
      "200/200 [==============================] - 1s 5ms/step - loss: 0.0979\n",
      "Epoch 40/50\n",
      "200/200 [==============================] - 1s 5ms/step - loss: 0.0972\n",
      "Epoch 41/50\n",
      "200/200 [==============================] - 1s 5ms/step - loss: 0.0965\n",
      "Epoch 42/50\n",
      "200/200 [==============================] - 1s 5ms/step - loss: 0.0959\n",
      "Epoch 43/50\n",
      "200/200 [==============================] - 1s 5ms/step - loss: 0.0953\n",
      "Epoch 44/50\n",
      "200/200 [==============================] - 1s 5ms/step - loss: 0.0947\n",
      "Epoch 45/50\n",
      "200/200 [==============================] - 1s 5ms/step - loss: 0.0941\n",
      "Epoch 46/50\n",
      "200/200 [==============================] - 1s 5ms/step - loss: 0.0935\n",
      "Epoch 47/50\n",
      "200/200 [==============================] - 1s 5ms/step - loss: 0.0929\n",
      "Epoch 48/50\n",
      "200/200 [==============================] - 1s 5ms/step - loss: 0.0924\n",
      "Epoch 49/50\n",
      "200/200 [==============================] - 1s 5ms/step - loss: 0.0918\n",
      "Epoch 50/50\n",
      "200/200 [==============================] - 1s 5ms/step - loss: 0.0913\n"
     ]
    }
   ],
   "source": [
    "learning_progress = total_model.fit([X_[:,:], X_[:,:-1]], Y_[:,1:,:],\n",
    "                                    batch_size=20,\n",
    "                                    epochs=50,\n",
    "                                    validation_split=0,\n",
    "                                   sample_weight = Y_mask_[:,:68,0])"
   ]
  },
  {
   "cell_type": "markdown",
   "metadata": {},
   "source": [
    "##### Decoder forward model"
   ]
  },
  {
   "cell_type": "code",
   "execution_count": 68,
   "metadata": {
    "collapsed": true
   },
   "outputs": [],
   "source": [
    "initial_decoder_h = Input(shape=(internal_dim,))\n",
    "initial_decoder_c = Input(shape=(internal_dim,))\n",
    "\n",
    "decoder_recurent_out, decoder_h, decoder_c = decoder_recurent_layer_1(decoder_embedding,\n",
    "                                                                      initial_state=[initial_decoder_h, initial_decoder_c])\n",
    "decoder_true_out  = decoder_out_layer(decoder_recurent_out)"
   ]
  },
  {
   "cell_type": "code",
   "execution_count": 69,
   "metadata": {
    "collapsed": true
   },
   "outputs": [],
   "source": [
    "total_decoder = Model([decoder_input, initial_decoder_h, initial_decoder_c], decoder_true_out)"
   ]
  },
  {
   "cell_type": "markdown",
   "metadata": {},
   "source": [
    "##### Generate"
   ]
  },
  {
   "cell_type": "code",
   "execution_count": 264,
   "metadata": {
    "collapsed": true
   },
   "outputs": [],
   "source": [
    "def generate(l, h, c, init):\n",
    "    for i in range(l):\n",
    "        pred = total_decoder.predict([init, h_, c_])\n",
    "        n = np.argmax(pred)\n",
    "        \n",
    "        init = np.vstack((init, np.array([[n]])))\n",
    "    \n",
    "    return init"
   ]
  },
  {
   "cell_type": "code",
   "execution_count": 542,
   "metadata": {},
   "outputs": [
    {
     "data": {
      "text/plain": [
       "array([[[ 0.13776796,  0.14730649,  0.1446784 ,  0.14291027,  0.14520672,\n",
       "          0.13949569,  0.14263448]],\n",
       "\n",
       "       [[ 0.07735577,  0.02050216,  0.37942412,  0.33782396,  0.0431568 ,\n",
       "          0.08849864,  0.05323854]],\n",
       "\n",
       "       [[ 0.01292603,  0.04417176,  0.00277204,  0.00814106,  0.91438687,\n",
       "          0.01046215,  0.00714002]]], dtype=float32)"
      ]
     },
     "execution_count": 542,
     "metadata": {},
     "output_type": "execute_result"
    }
   ],
   "source": [
    "total_decoder.predict([np.array([0, 1, 2]), h_, c_])"
   ]
  },
  {
   "cell_type": "code",
   "execution_count": 543,
   "metadata": {},
   "outputs": [
    {
     "data": {
      "text/plain": [
       "array([0, 1, 1, 2, 1, 3, 2, 4, 4, 1, 1, 1, 2, 4, 4, 2, 3, 3, 2, 4, 2, 4, 4,\n",
       "       2, 4, 4, 2, 4, 4, 1, 3, 5, 6, 6, 6, 6, 6, 6, 6, 6, 6, 6, 6, 6, 6, 6,\n",
       "       6, 6, 6, 6, 6, 6, 6, 6, 6, 6, 6, 6, 6, 6, 6, 6, 6, 6, 6, 6, 6, 6, 6])"
      ]
     },
     "execution_count": 543,
     "metadata": {},
     "output_type": "execute_result"
    }
   ],
   "source": [
    "X_[0]"
   ]
  },
  {
   "cell_type": "markdown",
   "metadata": {},
   "source": [
    "##### Give it a try"
   ]
  },
  {
   "cell_type": "code",
   "execution_count": 70,
   "metadata": {
    "collapsed": true
   },
   "outputs": [],
   "source": [
    "h_, c_ = encoder.predict(X_[0])"
   ]
  },
  {
   "cell_type": "code",
   "execution_count": 71,
   "metadata": {
    "collapsed": true
   },
   "outputs": [],
   "source": [
    "out = total_decoder.predict([X[0], h_, c_])"
   ]
  },
  {
   "cell_type": "code",
   "execution_count": 94,
   "metadata": {
    "collapsed": true
   },
   "outputs": [],
   "source": [
    "out = total_model.predict([X_[:1, :],X_[:1, :] ])"
   ]
  },
  {
   "cell_type": "code",
   "execution_count": 80,
   "metadata": {
    "collapsed": true
   },
   "outputs": [],
   "source": [
    "from sklearn.metrics import log_loss"
   ]
  },
  {
   "cell_type": "code",
   "execution_count": 95,
   "metadata": {},
   "outputs": [
    {
     "data": {
      "text/plain": [
       "(1, 69, 7)"
      ]
     },
     "execution_count": 95,
     "metadata": {},
     "output_type": "execute_result"
    }
   ],
   "source": [
    "out.shape"
   ]
  },
  {
   "cell_type": "code",
   "execution_count": 97,
   "metadata": {
    "scrolled": true
   },
   "outputs": [
    {
     "data": {
      "text/plain": [
       "0.044491666749611143"
      ]
     },
     "execution_count": 97,
     "metadata": {},
     "output_type": "execute_result"
    }
   ],
   "source": [
    "log_loss(Y[0], out[0])"
   ]
  },
  {
   "cell_type": "code",
   "execution_count": 59,
   "metadata": {},
   "outputs": [
    {
     "data": {
      "text/plain": [
       "(10, 1, 7)"
      ]
     },
     "execution_count": 59,
     "metadata": {},
     "output_type": "execute_result"
    }
   ],
   "source": [
    "out.shape"
   ]
  },
  {
   "cell_type": "code",
   "execution_count": 61,
   "metadata": {},
   "outputs": [
    {
     "data": {
      "text/plain": [
       "(10, 7)"
      ]
     },
     "execution_count": 61,
     "metadata": {},
     "output_type": "execute_result"
    }
   ],
   "source": [
    "Y[0, 1:11].shape"
   ]
  },
  {
   "cell_type": "code",
   "execution_count": 103,
   "metadata": {},
   "outputs": [
    {
     "name": "stdout",
     "output_type": "stream",
     "text": [
      "200/200 [==============================] - 0s 587us/step\n"
     ]
    },
    {
     "data": {
      "text/plain": [
       "0.091350545585155485"
      ]
     },
     "execution_count": 103,
     "metadata": {},
     "output_type": "execute_result"
    }
   ],
   "source": [
    "total_model.evaluate([X_[:, :-1],X_[:, :-1]], Y_[:, 1:],sample_weight = Y_mask_[:,:68,0])"
   ]
  },
  {
   "cell_type": "code",
   "execution_count": 107,
   "metadata": {},
   "outputs": [
    {
     "name": "stdout",
     "output_type": "stream",
     "text": [
      "\r",
      "1/1 [==============================] - 0s 8ms/step\n"
     ]
    },
    {
     "data": {
      "text/plain": [
       "4.8760509490966797"
      ]
     },
     "execution_count": 107,
     "metadata": {},
     "output_type": "execute_result"
    }
   ],
   "source": [
    "total_model.evaluate([X_[:1, :32],X_[:1, :32]], Y_[:1, 1:33])"
   ]
  },
  {
   "cell_type": "code",
   "execution_count": 106,
   "metadata": {},
   "outputs": [
    {
     "data": {
      "text/plain": [
       "32"
      ]
     },
     "execution_count": 106,
     "metadata": {},
     "output_type": "execute_result"
    }
   ],
   "source": [
    "(X_[0] < 6).sum()"
   ]
  },
  {
   "cell_type": "code",
   "execution_count": null,
   "metadata": {
    "collapsed": true
   },
   "outputs": [],
   "source": []
  },
  {
   "cell_type": "code",
   "execution_count": 196,
   "metadata": {
    "collapsed": true
   },
   "outputs": [],
   "source": [
    "from sklearn.manifold import TSNE"
   ]
  },
  {
   "cell_type": "code",
   "execution_count": 207,
   "metadata": {
    "collapsed": true
   },
   "outputs": [],
   "source": [
    "tsne = TSNE(verbose=100)"
   ]
  },
  {
   "cell_type": "code",
   "execution_count": 209,
   "metadata": {},
   "outputs": [
    {
     "name": "stdout",
     "output_type": "stream",
     "text": [
      "[t-SNE] Computing 91 nearest neighbors...\n",
      "[t-SNE] Indexed 1000 samples in 0.004s...\n",
      "[t-SNE] Computed neighbors for 1000 samples in 0.264s...\n",
      "[t-SNE] Computed conditional probabilities for sample 1000 / 1000\n",
      "[t-SNE] Mean sigma: 0.000000\n",
      "[t-SNE] Computed conditional probabilities in 0.222s\n",
      "[t-SNE] Iteration 50: error = 70.3297577, gradient norm = 0.2492784 (50 iterations in 6.609s)\n",
      "[t-SNE] Iteration 100: error = 69.1808701, gradient norm = 0.2313368 (50 iterations in 6.916s)\n",
      "[t-SNE] Iteration 150: error = 69.0861588, gradient norm = 0.2289604 (50 iterations in 7.494s)\n",
      "[t-SNE] Iteration 200: error = 68.9731064, gradient norm = 0.2402125 (50 iterations in 7.264s)\n",
      "[t-SNE] Iteration 250: error = 68.9547348, gradient norm = 0.2332281 (50 iterations in 6.645s)\n",
      "[t-SNE] KL divergence after 250 iterations with early exaggeration: 68.954735\n",
      "[t-SNE] Iteration 300: error = 0.9030064, gradient norm = 0.0010024 (50 iterations in 7.026s)\n",
      "[t-SNE] Iteration 350: error = 0.8167560, gradient norm = 0.0003662 (50 iterations in 7.510s)\n",
      "[t-SNE] Iteration 400: error = 0.7981066, gradient norm = 0.0002277 (50 iterations in 7.400s)\n",
      "[t-SNE] Iteration 450: error = 0.7873049, gradient norm = 0.0001798 (50 iterations in 7.262s)\n",
      "[t-SNE] Iteration 500: error = 0.7815391, gradient norm = 0.0001628 (50 iterations in 7.608s)\n",
      "[t-SNE] Iteration 550: error = 0.7752262, gradient norm = 0.0002507 (50 iterations in 7.078s)\n",
      "[t-SNE] Iteration 600: error = 0.7695869, gradient norm = 0.0001470 (50 iterations in 7.084s)\n",
      "[t-SNE] Iteration 650: error = 0.7653554, gradient norm = 0.0001047 (50 iterations in 7.176s)\n",
      "[t-SNE] Iteration 700: error = 0.7608637, gradient norm = 0.0001069 (50 iterations in 7.184s)\n",
      "[t-SNE] Iteration 750: error = 0.7592648, gradient norm = 0.0000837 (50 iterations in 7.024s)\n",
      "[t-SNE] Iteration 800: error = 0.7591230, gradient norm = 0.0000792 (50 iterations in 7.316s)\n",
      "[t-SNE] Iteration 850: error = 0.7574381, gradient norm = 0.0001045 (50 iterations in 7.233s)\n",
      "[t-SNE] Iteration 900: error = 0.7549860, gradient norm = 0.0000889 (50 iterations in 7.032s)\n",
      "[t-SNE] Iteration 950: error = 0.7550123, gradient norm = 0.0000891 (50 iterations in 6.975s)\n",
      "[t-SNE] Iteration 1000: error = 0.7550827, gradient norm = 0.0000778 (50 iterations in 7.022s)\n",
      "[t-SNE] Error after 1000 iterations: 0.755083\n"
     ]
    }
   ],
   "source": [
    "h_tsne = tsne.fit_transform(h_[:1000])"
   ]
  },
  {
   "cell_type": "code",
   "execution_count": 210,
   "metadata": {},
   "outputs": [
    {
     "data": {
      "text/plain": [
       "<matplotlib.collections.PathCollection at 0x7f03c01a0898>"
      ]
     },
     "execution_count": 210,
     "metadata": {},
     "output_type": "execute_result"
    },
    {
     "data": {
      "image/png": "[encoded data removed]",
      "text/plain": [
       "<matplotlib.figure.Figure at 0x7f03b32f4780>"
      ]
     },
     "metadata": {},
     "output_type": "display_data"
    }
   ],
   "source": [
    "plt.scatter(h_tsne[:,0], h_tsne[:, 1])"
   ]
  },
  {
   "cell_type": "code",
   "execution_count": null,
   "metadata": {
    "collapsed": true
   },
   "outputs": [],
   "source": []
  }
 ],
 "metadata": {
  "kernelspec": {
   "display_name": "Python 3",
   "language": "python",
   "name": "python3"
  },
  "language_info": {
   "codemirror_mode": {
    "name": "ipython",
    "version": 3
   },
   "file_extension": ".py",
   "mimetype": "text/x-python",
   "name": "python",
   "nbconvert_exporter": "python",
   "pygments_lexer": "ipython3",
   "version": "3.6.3"
  }
 },
 "nbformat": 4,
 "nbformat_minor": 2
}
