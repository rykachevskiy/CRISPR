{
 "cells": [
  {
   "cell_type": "code",
   "execution_count": 1,
   "metadata": {},
   "outputs": [],
   "source": [
    "import numpy as np\n",
    "import crispr_assembler as ca\n",
    "import matplotlib.pyplot as plt\n",
    "import editdistance as ed\n",
    "import os\n",
    "\n",
    "\n",
    "%load_ext autoreload\n",
    "%autoreload 2"
   ]
  },
  {
   "cell_type": "code",
   "execution_count": 2,
   "metadata": {},
   "outputs": [],
   "source": [
    "def restore(path, minimum_occurences = 0):\n",
    "    read = ca.Read(path)\n",
    "    read.correct_errors(minimum_occurences = minimum_occurences)\n",
    "    #gr = read.graph_from_pairs()\n",
    "\n",
    "    return read#, gr"
   ]
  },
  {
   "cell_type": "code",
   "execution_count": 3,
   "metadata": {},
   "outputs": [],
   "source": [
    "import pickle"
   ]
  },
  {
   "cell_type": "code",
   "execution_count": 4,
   "metadata": {},
   "outputs": [],
   "source": [
    "path = '/home/anton/BigMac/skoltech/CRISPR_research/article/data/filtered/'\n",
    "files = sorted(os.listdir(path))"
   ]
  },
  {
   "cell_type": "code",
   "execution_count": 5,
   "metadata": {},
   "outputs": [
    {
     "data": {
      "text/plain": [
       "['ES1.merged.assembled.fastq',\n",
       " 'ES2.merged.assembled.fastq',\n",
       " 'ES3.merged.assembled.fastq',\n",
       " 'ES4.merged.assembled.fastq',\n",
       " 'ES5.merged.assembled.fastq',\n",
       " 'ES6.merged.assembled.fastq',\n",
       " 'd24.merged.assembled.fastq',\n",
       " 'd25.merged.assembled.fastq',\n",
       " 'd26.merged.assembled.fastq',\n",
       " 'd27.merged.assembled.fastq',\n",
       " 'planA.merged.assembled.fastq',\n",
       " 'sensivity.merged.assembled.fastq']"
      ]
     },
     "execution_count": 5,
     "metadata": {},
     "output_type": "execute_result"
    }
   ],
   "source": [
    "files"
   ]
  },
  {
   "cell_type": "code",
   "execution_count": 6,
   "metadata": {
    "scrolled": true
   },
   "outputs": [],
   "source": [
    "files = ['ES1.merged.assembled.fastq',\n",
    "         'ES2.merged.assembled.fastq',\n",
    "         'd24.merged.assembled.fastq',\n",
    "         'd25.merged.assembled.fastq',\n",
    "         'd26.merged.assembled.fastq',\n",
    "         'd27.merged.assembled.fastq',\n",
    "         'planA.merged.assembled.fastq',\n",
    "         'sensivity.merged.assembled.fastq']\n"
   ]
  },
  {
   "cell_type": "code",
   "execution_count": 7,
   "metadata": {},
   "outputs": [],
   "source": [
    "mask = np.array([1,1,0,0,0,0,1,1,1,1,1,1]).astype(bool)"
   ]
  },
  {
   "cell_type": "code",
   "execution_count": 8,
   "metadata": {},
   "outputs": [],
   "source": [
    "reads = np.array(pickle.load(open(\"../../reads_all\", 'rb')))[mask]"
   ]
  },
  {
   "cell_type": "code",
   "execution_count": 9,
   "metadata": {},
   "outputs": [
    {
     "data": {
      "text/plain": [
       "8"
      ]
     },
     "execution_count": 9,
     "metadata": {},
     "output_type": "execute_result"
    }
   ],
   "source": [
    "len(reads)"
   ]
  },
  {
   "cell_type": "markdown",
   "metadata": {},
   "source": [
    "# Prepare answ"
   ]
  },
  {
   "cell_type": "code",
   "execution_count": 39,
   "metadata": {},
   "outputs": [
    {
     "data": {
      "text/plain": [
       "'../../data/answers/ES_answers_50'"
      ]
     },
     "execution_count": 39,
     "metadata": {},
     "output_type": "execute_result"
    }
   ],
   "source": [
    "\"../../data/answers/ES_answers_50\""
   ]
  },
  {
   "cell_type": "code",
   "execution_count": null,
   "metadata": {},
   "outputs": [],
   "source": []
  },
  {
   "cell_type": "code",
   "execution_count": 19,
   "metadata": {},
   "outputs": [],
   "source": [
    "answer_sensivity = ca.read_arrays_with_tags(\"../../article/data/answers/sensivity\", 0)"
   ]
  },
  {
   "cell_type": "code",
   "execution_count": 20,
   "metadata": {
    "scrolled": true
   },
   "outputs": [
    {
     "data": {
      "text/plain": [
       "dict_keys(['first_2', 'first_3', 'first_5', 'first_7', 'first_8', 'first_11', 'first_14', 'first_15', 'first_21', 'first_22', 'second_2', 'second_3', 'second_5', 'second_7', 'second_8', 'second_11', 'second_14', 'second_15', 'second_21', 'second_22'])"
      ]
     },
     "execution_count": 20,
     "metadata": {},
     "output_type": "execute_result"
    }
   ],
   "source": [
    "answer_sensivity.keys()"
   ]
  },
  {
   "cell_type": "code",
   "execution_count": 21,
   "metadata": {},
   "outputs": [],
   "source": [
    "first_old = pickle.load(open(\"./first_old_answers\", 'rb'))\n",
    "second_old = pickle.load(open(\"./second_old_answers\", 'rb'))"
   ]
  },
  {
   "cell_type": "code",
   "execution_count": null,
   "metadata": {},
   "outputs": [],
   "source": []
  },
  {
   "cell_type": "code",
   "execution_count": 23,
   "metadata": {},
   "outputs": [
    {
     "data": {
      "text/plain": [
       "<crispr_assembler.error_correction.read_class.Read at 0x7fb788d14f28>"
      ]
     },
     "execution_count": 23,
     "metadata": {},
     "output_type": "execute_result"
    }
   ],
   "source": [
    "reads[3]"
   ]
  },
  {
   "cell_type": "code",
   "execution_count": 31,
   "metadata": {},
   "outputs": [
    {
     "name": "stderr",
     "output_type": "stream",
     "text": [
      "100%|██████████| 14/14 [00:00<00:00, 56.57it/s]\n"
     ]
    }
   ],
   "source": [
    "a, d = ca.multiple_arrays_to_ids(first_old, reads[0].spacer_to_cluster_index)"
   ]
  },
  {
   "cell_type": "code",
   "execution_count": 32,
   "metadata": {},
   "outputs": [
    {
     "data": {
      "text/plain": [
       "{'1,11,14,15.1,19': [15, 15, 16, 12, 10, 14, 13, 13],\n",
       " 31: [15, 15, 16, 12, 10, 14, 15, 14, 13, 12, 14, 15, 13, 15, 13, 14],\n",
       " '66, 3x,8,6n': [0, 0, 0, 16, 0, 0, 0, 0, 0, 0, 0, 0],\n",
       " '5n,60x': [0, 0, 0, 0, 13, 16, 0, 0, 0, 0, 0],\n",
       " '15n,16n': [0, 0, 0, 0, 13, 16, 0, 0, 0, 0],\n",
       " 3: [14, 14, 14, 14, 15, 12, 11],\n",
       " '2,3n,13,20,22,24,60,61,62,68': [13, 13, 14, 13],\n",
       " 12: [15, 14, 15, 14],\n",
       " 15: [15, 14, 14, 14, 14, 15, 13, 13, 14, 15, 14, 13, 14, 14, 13],\n",
       " 27: [15, 14, 14, 15, 13, 14, 14, 14, 13, 13, 13, 15, 15, 15],\n",
       " 67: [15, 14, 14, 14, 15, 14, 13],\n",
       " 7: [12, 13, 14, 15, 15, 14, 15, 16, 12],\n",
       " '9,21,23,65,70': [16, 14, 15, 14, 15, 14, 14, 15, 15, 14],\n",
       " 75: [14, 15, 13, 14, 13, 12, 12]}"
      ]
     },
     "execution_count": 32,
     "metadata": {},
     "output_type": "execute_result"
    }
   ],
   "source": [
    "d"
   ]
  },
  {
   "cell_type": "code",
   "execution_count": 33,
   "metadata": {},
   "outputs": [
    {
     "data": {
      "text/plain": [
       "{'1,11,14,15.1,19': [5, 3, 1, 0, 8, 21, 6, 14],\n",
       " 31: [5, 3, 1, 0, 8, 21, 17, 4, 6, 3, 4, 7, 14, 16, 3, 2],\n",
       " '66, 3x,8,6n': [15, 2, 7, 3, 12, 13, 17, 8, 16, 11, 9, 18],\n",
       " '5n,60x': [15, 2, 7, 14, 7, 3, 12, 13, 17, 8, 16],\n",
       " '15n,16n': [15, 2, 7, 14, 7, 3, 16, 11, 9, 18],\n",
       " 3: [12, 19, 12, 18, 5, 4, 20],\n",
       " '2,3n,13,20,22,24,60,61,62,68': [1, 11, 12, 20],\n",
       " 12: [16, 12, 11, 14],\n",
       " 15: [16, 7, 7, 14, 6, 14, 16, 5, 4, 10, 8, 0, 3, 8, 13],\n",
       " 27: [16, 7, 7, 14, 16, 3, 8, 13, 8, 10, 7, 2, 0, 15],\n",
       " 67: [16, 7, 7, 6, 14, 8, 0],\n",
       " 7: [0, 6, 19, 5, 6, 4, 17, 1, 16],\n",
       " '9,21,23,65,70': [17, 12, 4, 2, 6, 0, 3, 17, 5, 4],\n",
       " 75: [1, 0, 10, 15, 18, 6, 18]}"
      ]
     },
     "execution_count": 33,
     "metadata": {},
     "output_type": "execute_result"
    }
   ],
   "source": [
    "a"
   ]
  },
  {
   "cell_type": "code",
   "execution_count": null,
   "metadata": {},
   "outputs": [],
   "source": []
  },
  {
   "cell_type": "code",
   "execution_count": 37,
   "metadata": {},
   "outputs": [
    {
     "name": "stderr",
     "output_type": "stream",
     "text": [
      "100%|██████████| 13/13 [00:00<00:00, 61.80it/s]\n"
     ]
    }
   ],
   "source": [
    "a, d = ca.multiple_arrays_to_ids(second_old, reads[0].spacer_to_cluster_index)"
   ]
  },
  {
   "cell_type": "code",
   "execution_count": 38,
   "metadata": {},
   "outputs": [
    {
     "data": {
      "text/plain": [
       "{'1,11,14,15.1,19': [12, 14, 13, 14, 15, 15, 14, 13, 12, 14, 14, 13, 12, 12],\n",
       " 31: [15, 14, 15, 13, 14, 15, 14, 15, 13, 13, 14, 14, 13],\n",
       " '66, 3x,8,6n': [0, 0, 0, 0, 1, 0],\n",
       " '5n,60x': [0, 0, 0, 0, 2, 0],\n",
       " 3: [15, 15, 14, 13, 12, 14, 13, 14],\n",
       " '2,3n,13,20,22,24,60,61,62,68': [14, 12, 15, 15, 14, 15, 14, 14, 14],\n",
       " 12: [14, 14, 15, 14, 13],\n",
       " 15: [14, 14, 14, 14, 14, 14],\n",
       " 27: [14, 13, 14, 15, 15, 14, 13, 12, 14, 14, 13, 12, 12],\n",
       " 67: [14, 14, 15, 14, 13],\n",
       " 7: [15, 14, 15, 15, 14, 16, 14],\n",
       " '9,21,23,65,70': [15, 0, 14, 13, 14, 13, 15, 13, 13],\n",
       " 75: [16, 12, 13, 14, 15, 13, 14, 14, 14, 14, 16, 13]}"
      ]
     },
     "execution_count": 38,
     "metadata": {},
     "output_type": "execute_result"
    }
   ],
   "source": [
    "d"
   ]
  },
  {
   "cell_type": "code",
   "execution_count": null,
   "metadata": {},
   "outputs": [],
   "source": []
  }
 ],
 "metadata": {
  "kernelspec": {
   "display_name": "Python 3",
   "language": "python",
   "name": "python3"
  },
  "language_info": {
   "codemirror_mode": {
    "name": "ipython",
    "version": 3
   },
   "file_extension": ".py",
   "mimetype": "text/x-python",
   "name": "python",
   "nbconvert_exporter": "python",
   "pygments_lexer": "ipython3",
   "version": "3.6.3"
  }
 },
 "nbformat": 4,
 "nbformat_minor": 2
}
