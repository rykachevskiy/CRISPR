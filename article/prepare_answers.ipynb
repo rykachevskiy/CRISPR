{
 "cells": [
  {
   "cell_type": "code",
   "execution_count": 39,
   "metadata": {},
   "outputs": [],
   "source": [
    "import crispr_assembler as ca\n",
    "import pandas as pd\n",
    "import numpy as np"
   ]
  },
  {
   "cell_type": "code",
   "execution_count": 61,
   "metadata": {},
   "outputs": [],
   "source": [
    "new_ecoli = pd.read_excel(\"../../article/data/answers/new_ecoli.xlsx\", sheet_name=None, header = None, index_col=None)"
   ]
  },
  {
   "cell_type": "code",
   "execution_count": 62,
   "metadata": {},
   "outputs": [
    {
     "data": {
      "text/plain": [
       "odict_keys(['Ecoli кассета 1', 'Ecoli кассета 2'])"
      ]
     },
     "execution_count": 62,
     "metadata": {},
     "output_type": "execute_result"
    }
   ],
   "source": [
    "new_ecoli.keys()"
   ]
  },
  {
   "cell_type": "code",
   "execution_count": 63,
   "metadata": {},
   "outputs": [],
   "source": [
    "new_ecoli_1 = new_ecoli['Ecoli кассета 1']"
   ]
  },
  {
   "cell_type": "code",
   "execution_count": 64,
   "metadata": {},
   "outputs": [],
   "source": []
  },
  {
   "cell_type": "code",
   "execution_count": 65,
   "metadata": {},
   "outputs": [],
   "source": [
    "def update(answer, source , prefix):\n",
    "    for i, row in source.iterrows():\n",
    "        names = row[0]\n",
    "        if type(names) == str:\n",
    "            names = [int(x) for x in names.split(',')]\n",
    "        else:\n",
    "            names = [names]\n",
    "\n",
    "        for name in names:         \n",
    "            mask = pd.notna(row[1:]).values\n",
    "            array = \"\\t\".join(row[1:].values[mask])\n",
    "        \n",
    "            answer[prefix + str(name)] = array"
   ]
  },
  {
   "cell_type": "code",
   "execution_count": 68,
   "metadata": {},
   "outputs": [],
   "source": [
    "new_ecoli_dict = {}\n",
    "update(new_ecoli_dict, new_ecoli['Ecoli кассета 1'], 'first_')\n",
    "update(new_ecoli_dict, new_ecoli['Ecoli кассета 2'], 'second_')"
   ]
  },
  {
   "cell_type": "code",
   "execution_count": null,
   "metadata": {},
   "outputs": [],
   "source": []
  },
  {
   "cell_type": "code",
   "execution_count": 96,
   "metadata": {},
   "outputs": [],
   "source": [
    "def save_dict(d, fname):\n",
    "    with open(fname, 'w') as f:\n",
    "\n",
    "        for k,v in d.items():\n",
    "            f.write(k)\n",
    "            f.write(\"\\n\")\n",
    "            f.write(v)\n",
    "            f.write(\"\\n\")\n",
    "\n",
    "    "
   ]
  },
  {
   "cell_type": "code",
   "execution_count": 74,
   "metadata": {},
   "outputs": [],
   "source": [
    "sensivity_set = [2,3,5,7,8,11,14,15,21,22]"
   ]
  },
  {
   "cell_type": "code",
   "execution_count": 80,
   "metadata": {},
   "outputs": [
    {
     "name": "stdout",
     "output_type": "stream",
     "text": [
      "(array([ 2, 23]),)\n",
      "(array([ 7, 32]),)\n",
      "(array([ 8, 27]),)\n",
      "(array([10, 33]),)\n",
      "(array([11, 34]),)\n",
      "(array([ 1, 35]),)\n",
      "(array([12, 36]),)\n",
      "(array([13, 37]),)\n",
      "(array([18, 29]),)\n",
      "(array([16, 40]),)\n"
     ]
    }
   ],
   "source": [
    "keys  = np.array([int(x.split('_')[1]) for x in new_ecoli_dict.keys()])\n",
    "\n",
    "for x in sensivity_set:\n",
    "    if x in keys:\n",
    "        print(np.where(keys == x))\n",
    "    else: \n",
    "        print(x)\n",
    "    "
   ]
  },
  {
   "cell_type": "code",
   "execution_count": 85,
   "metadata": {},
   "outputs": [
    {
     "data": {
      "text/plain": [
       "array([ 1, 11,  2, 24, 61, 62, 68,  3,  5, 50,  7,  8, 14, 15, 19, 20, 22,\n",
       "       31, 21, 23, 27, 65,  1,  2, 61, 62, 68,  5, 50, 21, 65, 70,  3,  7,\n",
       "        8, 11, 14, 15, 19, 20, 22, 23, 24, 27, 31])"
      ]
     },
     "execution_count": 85,
     "metadata": {},
     "output_type": "execute_result"
    }
   ],
   "source": [
    "keys"
   ]
  },
  {
   "cell_type": "code",
   "execution_count": 89,
   "metadata": {},
   "outputs": [],
   "source": [
    "def filter_dict(data_dict, list_tags):\n",
    "    filtered_dict = {}\n",
    "    \n",
    "    for k,v in data_dict.items():\n",
    "        if int(k.split(\"_\")[1]) in list_tags:\n",
    "            filtered_dict[k] = v\n",
    "        \n",
    "    return filtered_dict"
   ]
  },
  {
   "cell_type": "code",
   "execution_count": 97,
   "metadata": {},
   "outputs": [],
   "source": [
    "save_dict(filter_dict(new_ecoli_dict, sensivity_set), \"../../article/data/answers/sensivity\")"
   ]
  },
  {
   "cell_type": "code",
   "execution_count": null,
   "metadata": {},
   "outputs": [],
   "source": []
  }
 ],
 "metadata": {
  "kernelspec": {
   "display_name": "Python 3",
   "language": "python",
   "name": "python3"
  },
  "language_info": {
   "codemirror_mode": {
    "name": "ipython",
    "version": 3
   },
   "file_extension": ".py",
   "mimetype": "text/x-python",
   "name": "python",
   "nbconvert_exporter": "python",
   "pygments_lexer": "ipython3",
   "version": "3.6.3"
  }
 },
 "nbformat": 4,
 "nbformat_minor": 2
}
