{
 "cells": [
  {
   "cell_type": "code",
   "execution_count": 1,
   "metadata": {},
   "outputs": [],
   "source": [
    "import crispr_assembler as ca\n",
    "import pandas as pd\n",
    "import numpy as np"
   ]
  },
  {
   "cell_type": "code",
   "execution_count": 2,
   "metadata": {},
   "outputs": [],
   "source": [
    "new_ecoli = pd.read_excel(\"./Cheked spacers EColi.xlsx\", sheet_name=None, header = None, index_col=None)"
   ]
  },
  {
   "cell_type": "code",
   "execution_count": 3,
   "metadata": {},
   "outputs": [
    {
     "data": {
      "text/plain": [
       "odict_keys(['CRISPR1', 'CRISPR2'])"
      ]
     },
     "execution_count": 3,
     "metadata": {},
     "output_type": "execute_result"
    }
   ],
   "source": [
    "new_ecoli.keys()"
   ]
  },
  {
   "cell_type": "code",
   "execution_count": 63,
   "metadata": {},
   "outputs": [],
   "source": [
    "new_ecoli_1 = new_ecoli['Ecoli кассета 1']"
   ]
  },
  {
   "cell_type": "code",
   "execution_count": 64,
   "metadata": {},
   "outputs": [],
   "source": []
  },
  {
   "cell_type": "code",
   "execution_count": 4,
   "metadata": {},
   "outputs": [],
   "source": [
    "def update(answer, source , prefix):\n",
    "    for i, row in source.iterrows():\n",
    "        names = row[0]\n",
    "        if type(names) == str:\n",
    "            names = [int(x) for x in names.split(',')]\n",
    "        else:\n",
    "            names = [names]\n",
    "\n",
    "        for name in names:         \n",
    "            mask = pd.notna(row[1:]).values\n",
    "            array = \"\\t\".join(row[1:].values[mask])\n",
    "        \n",
    "            answer[prefix + str(name)] = array"
   ]
  },
  {
   "cell_type": "code",
   "execution_count": 5,
   "metadata": {},
   "outputs": [],
   "source": [
    "new_ecoli_dict = {}\n",
    "update(new_ecoli_dict, new_ecoli['CRISPR1'], 'first_')\n",
    "update(new_ecoli_dict, new_ecoli['CRISPR2'], 'second_')"
   ]
  },
  {
   "cell_type": "code",
   "execution_count": 6,
   "metadata": {},
   "outputs": [
    {
     "data": {
      "text/plain": [
       "{'first_2': 'TCTTACTGCTTGGTATGCGGAATCACACCCTGAA\\tACTGAAGCATCAAACATTTGGTGGACCAAACGGA\\tACTGTACGCGGCGAGTTTTAGCGACAGGTCATCC\\tACGGATCTGCCAGCGCCTCTGCGGGGCGGTAAAC',\n",
       " 'first_3': 'GTACGCGGCGAGTTTTAGCGACAGGTCATCC\\tGATCTGCCAGCGCCTCTGCGGGGCGGTAAAC\\tACGCCAGCCACCTGCTTCGCCAGCCGTTCGG\\tCACGGTAGCGCCACTGCGCGTCGGTGACGGG\\tACGAACAGGGATTTGTCGGCAGTTTCTTTAC\\tTAATTCGCAAATCAATATATATTTTGTCCGT\\tATTGCGGATGCTCCCGGAATTGCGCGGGCAA',\n",
       " 'first_5': 'CAGCGTCAGGCGTGAAATCTCACCGTCGTTGC\\tTCGGTTCAGGCGTTGCAAACCTGGCTACCGGG\\tGTAGTCCATCATTCCACCTATGTCTGAACTCC\\tCCGGGGGATAATGTTTACGGTCATGCGCCCCC\\tATCGTCCATATTAACAATCGTGGTGAGTTCAA\\tACTATGGCCCCGGCAAAAAACGCGCTGGTGGG\\tTGGGCGGCTTGCCTTGCAGCCAGCTCCAGCAG\\tAAGCTGGCTGGCAATCTCTTTCGGGGTGAGTC\\tTAGTTTCCGTATCTCCGGATTTATAAAGCTGA\\tGCAGGCGGCGACGCGCAGGGTATGCGCGATTCG\\tGCGACCGCTCAGAAATTCCAGACCCGATCCAAA',\n",
       " 'first_7': 'TCACGCGCTGTTACCCAGTCCCTTTTTTTCAG\\tCGCCGCGGACTCACGAGCAGACCATCACAGAC\\tGCAGACTATAACGAGGGTCGCACGCGGATCAT\\tTACCAAACCGGAATCTTTCCATATAACGGCGG\\tTTACTCGCCGGGGAATACGCCCCGCGCCACGC\\tCTTACTCATTCAGAACGCTGCATGAAATATGC\\tGAGCGCGTGCCGTGCCTGGGTTCATATGATGG\\tGTGGTTGTTTAGGCGGGATTTGTTGCGTAAGT\\tGCTGGCCGTCGTTTTTACTCAGTAACCGCCAA',\n",
       " 'first_8': 'CAGCGTCAGGCGTGAAATCTCACCGTCGTTGC\\tTCGGTTCAGGCGTTGCAAACCTGGCTACCGGG\\tGTAGTCCATCATTCCACCTATGTCTGAACTCC\\tACTATGGCCCCGGCAAAAAACGCGCTGGTGGG\\tTGGGCGGCTTGCCTTGCAGCCAGCTCCAGCAG\\tAAGCTGGCTGGCAATCTCTTTCGGGGTGAGTC\\tTAGTTTCCGTATCTCCGGATTTATAAAGCTGA\\tGCAGGCGGCGACGCGCAGGGTATGCGCGATTCG\\tGCGACCGCTCAGAAATTCCAGACCCGATCCAAA\\tTCAACATTATCAATTACAACCGACAGGGAGCC\\tAGCGTGTTCGGCATCACCTTTGGCTTCGGCTG\\tTGCGTGAGCGTATCGCCGCGCGTCTGCGAAAG',\n",
       " 'first_11': 'AAAACCAAACTTCTCCATAAATTCCATAGCCG\\tGAGTCTATCAGCGACACTACCGGCAATAGCGA\\tCTATAGCGCCACGTTCCGAGCGCTGCGAGCTG\\tCTAATGAGTCAGTTTGAACAGATCCCCGACAA\\tGGCTTTAAAATTGTGTTCCCGTCTGGCGCTGG\\tGCATCCACGCCGACGCCTTTACGTGTGCGGGG\\tGCGCGAATTTGTGCGCATGGGGCGCATTTTTGG',\n",
       " 'first_14': 'ACATGAATGTCGGTTCAGACCGTGTTTTTACC\\tAGTGCTGGACCATTTCAAATTCACAATAGATTC\\tGGAATGATATTTCAATAAATAATTATAACAATC\\tTTTTTGTTAATTGCGTTTGCCACGGTTTGCAAC\\tTGAGCGTCGGCGGCTCGCTGGATTTGCGCGGC\\tAATGCATCAGTTGAACACAAAAGTAGCTTTTCC\\tTTTTGCTGACACCGGCAATACTGAACGGCTGGC\\tACGGATTGCGGTATATGCAGTGTCCAGATTCTC\\tTAAACCACCAGCCAGACCACCAATTACCACACC\\tGGGGATAACGGTTATCCACTGGCCGCCGATCTC\\tTGTAATAGCCTGATCTCTGATCTCCCTCGCCT\\tCTGTCCCAGGCCGAGGCTGTATTTCAATCCTGC\\tGCGATGGATCAGGGTATTACACTCGACGGCGGC\\tGCTGCGGGTCAATCAACTGGAGTGCAAATCCCC\\tGTCGCGCGCCGACGGAATAAACCGAATAAATTC\\tTCGTCAGGGCACAATAACTGAGGTTCGCACAAC\\tAGCAACGCGTAAACCAGATCGCCGATCGTGGCC',\n",
       " 'first_15': 'AAAACCAAACTTCTCCATAAATTCCATAGCCG\\tGAGTCTATCAGCGACACTACCGGCAATAGCGA+B13:O14\\tCTATAGCGCCACGTTCCGAGCGCTGCGAGCTG\\tGGCCTATGCGTTTTTCTCTCTGTTAATGCGCCCC\\tCTAATGAGTCAGTTTGAACAGATCCCCGACAA\\tGGCTTTAAAATTGTGTTCCCGTCTGGCGCTGG\\tGAGAGTGCTGACAGGTGTCTCGATTACCTGAT\\tGGTAGTACGCGCCTCCGGACGTTTTTATGTCG\\tTCTTCGCGGGTAATCAATGATGATTCAGTTTC\\tGAACGCAATATCACGGCGTTCTGCGGCCTCGG\\tGCATCCATGCCGACGCCTTTACGTGTGCGGGG\\tGCGCGAATTTGTGCGCATGGGGCGCATTTTTTGG\\tGCGCGAATTTGTGCGCATGGGGCGCATTTTTGG\\tACGGTCCATGGCACACAGGATCCAGACGTTAA\\tACGATGGCGATGCGTGAGAAAGGGGGTCGATA\\tAGTTCGCTGAGTAGCCTTTTTTCTGTGCCTAA\\tGAGGTGGCAATACGCGTAGATCATTTGGTCGT\\tCAAAATATTACGAGCTTCGTCAGGCCATGGA\\tGTAACGTCTGCCTTTTCCTCGTCCGCCTTAAT\\tCCTGTCATTCTGGCGGTAAAATCGATCTGCCA',\n",
       " 'first_21': 'CAAGTGATATCCATCATCGCATCCAGTGCGTC\\tTTGGTTGTTCGGCGTTTTGAAGAGAACAAAAA\\tTTCCCGCGCGATTGCGATCGCCATCGTCCGAT\\tTATATAAACGAGGTGAATTTATGGAAACTGTA\\tTTTTTATGCGTGGCAGTAAATCCCCACGTCGG\\tCGGCGAAAGCGGATGCGTTCACCAATGGTCAT\\tAAACAGATTGTTCGTTTTCCCCATATTCATGA\\tGGTGAACCCCATCACCAAGAACATGAAGCCGT\\tTGAGGTATTCCGCCAGGGCGGACAATTTATCA\\tAAGCGCGCCCCATTTAACGCCGCTGCCGACGG\\tCCTTTTGATATTCGTGAACCAGACTTTT',\n",
       " 'first_22': 'ACATGAATGTCGGTTCAGACCGTGTTTTTACC\\tAGTGCTGGACCATTTCAAATTCACAATAGATT\\tGGAATGATATTTCAATAAATAATTATAACAAT\\tTTTTTGTTAATTGCGTTTGCCACGGTTTGCAA\\tTGAGCGTCGGCGGCTCGCTGGATTTGCGCGG\\tAATGCATCAGTTGAACACAAAAGTAGCTTTTC\\tTAAACCACCAGCCAGACCACCAATTACCACAC\\tGCGATGGATCAGGGTATTACACTCGACGGCGG',\n",
       " 'second_2': 'GCCTGACATTGCAGACGTTACAAATTGAGAGG\\tTACCGGTGTGAATTACAGCACCACCGCCACCC\\tCAAACAGGTCGACATGTTTGGCTAACAGCTAA\\tCGATAACACAGGGCCGTCAATGCGGCCCTTTT\\tTTTTACCGTAACGCAGCACAAGACACGCTCCG\\tCCCAGATGACAGCTTGCCTAAAACGAAAGCAG\\tGGCGAACAACCGACCCCTGTTGGACCCGACGA\\tGCGGAAAACAGCCAAAATAACGCAATTACCGC\\tAGCAGCAACAATATTTCCCGCAGTGCTGCCAG',\n",
       " 'second_3': 'ATATACAGCAAACCTTCAGAATGCATTCCGGG\\tGCCGTCTGCCTCCAGCCCAGCCCTGGATATTT\\tTGGTTCACTCACGCAACGTCTGAGCGCGTTGA\\tAGGGCCGCCGCTACCCCAGAAGTGCCACTCCC\\tGCGTATCGTCTCGTTATTGCGCCGCCCCAACT\\tAGTATGCGTTCAATCACTGTCAGGCCTACTTC\\tAGTTGCCCGATGGACACTCCCAGACCATCAGC\\tACTAAACTTAATGATGGCCGTTACAGCGTGGA',\n",
       " 'second_5': 'GACAGAACGGCCTCAGTAGTCTCGTCAGGCTCC\\tCTGTTTTCGCAAATCTATGGACTATTGCTATTC\\tGGGCGCACGGAATACAAAGCCGTGTATCTGCTC\\tTGGCTCTGCAACAGCAGCACCCATGACCACGTC\\tGAAATACTGGTGAGCGTTAATGCCGCAAACACA\\tATTACGCCTTTTTGCGATTGCCCGGTTTTTGCC',\n",
       " 'second_7': 'AACATCGGAAACGGCTTCGCGGCGGCGGCGTC\\tTACGTGAAGAATATTTGCAACACCCGCAAGAA\\tGGCATAGCCAGGCTGATCCGGCGACGGCCTTA\\tTGTTCGGCGGGGCGGTAGTACCACTGTTTTTT\\tATCAACATGCAGCGCGAACGGCTGCCCCTCGC\\tAATCGTGTGTAAATTCGCGGCGGCTCCACTGG\\tGCTACATGGAGACGCATCATGACGTACAAAAA',\n",
       " 'second_8': 'GACAGAACGGCCTCAGTAGTCTCGTCAGGCTC\\tCTGTTTTCGCAAATCTATGGACTATTGCTATT\\tGGGCGCACGGAATACAAAGCCGTGTATCTGCT\\tTGGCTCTGCAACAGCAGCACCCATGACCACGT\\tGAAATGCTGGTGAGCGTTAATGCCGCAAACA\\tATTACGCCTTTTTGCGATTGCCCGGTTTTTGC',\n",
       " 'second_11': 'GCCTGACATTGCAGACGTTACAAATTGAGAGG\\tATCACGATAACGCTGCTGTGATTCGTCCCCGT\\tAAGACGACGTGATCCGCAAAGTCGAAGGCACG\\tTGTTTTTCTGCCGGTTTAACACGGTGCGATAA\\tTGTTTCTGTCCCAACTGAACAGCGCCGATAGT',\n",
       " 'second_14': 'GCCTGACATTGCAGACGTTACAAATTGAGAGG\\tTCCGTCCACCCTGATAGCCGCCCTTGTGATCC\\tTACTGCTCCGCTGGCGTTTCTCCCTCGCCCAG\\tTCATTTCCCATGCAAAATGCTGCATTCCTGGC\\tAGTGGCAGGCCGGTAATATGAAAACGACAGAG\\tATCTTCTTGTTCAGGAACGTCAGTAGAGGTGT\\tAGCATTAACCCCCACCAGCTCGACGTGTGTGG\\tGCGGGCGTTAACGCGGTGATACTGTTTGACGG\\tACCGAGCGCCGCTGGGAGGCGTATCTCACGTT\\tTGAATGATCGGAAAGACGCTGCAAAGGCAATG\\tTACCAAACCGGAATCGCTCCATATAACGGCGG\\tCAACCCGGCGGCACGGTCAATCGTTGCGTCAG\\tGACTCAAAACGGCGCAGGTCAAAATCGTTCAA\\tGGTGAATACTGCGGCAGGCGCTGCGGGAATTG',\n",
       " 'second_15': 'GCCTGACATTGCAGACGTTACAAATTGAGAGG\\tTAATCACGTTTTAGCGCGCCCTCGTCCGGTTT\\tATCACGATAACGCTGCTGTGATTCGTCCCCGT\\tAAGACGACGTGATCCGCAAAGTCGAAGGCACG\\tTGTTTTTCTGCCGGTTTAACACGGTGCGATAA\\tGCCCGCCGCCGCTGTCGTTCGGTAGTGTCCGG',\n",
       " 'second_21': 'ACATCGGAAACGGCTTCGCGGCGGCGGCGTC\\tGACAGAACGGCCTCAGTAGTCTCGTCAGGCTC\\tTACGTGAAGAATATTTGCAACACCCGCAAGAA\\tGGCATAGCCAGGCTGATCCGGCGACGGCCTTA\\tGCCCGCCTCGTCGGTGTATTCCGCGAGATCGC\\tATGCTTTTATTCGTCGCGTCTGGCTCAGATTG\\tAGCCATTGTTTAAAAATCTCGTCCCGTTCTAT\\tACGTAACGAGGCACTGGACTGCCGAAACTACG\\tATCCTCTTCGCTGCCGAATCCCTCTGTCGTTA\\tCACCCATCTTCCCTTATCGCCGGGTCGCGGAA',\n",
       " 'second_22': 'GTTATCACCGAGTGCAGTAGCCCGCGCGCGCT\\tGTCGCCGGGTTGATTTTCCATGATGATTTTTTA\\tGTAACGTGGCGACGACCGGCGATTGATTTCAG\\tTCGAACCTGTTTTTCTTAGTGCGCGCAACGTC\\tCGTCCGGATCGGTTTCGAGAATCTCTACGCTC\\tGTTGTTGTAATAAAGCCCCGGAGTTTTATATC\\tGGGTTGACGCCAGCGAACATTGACTCAGATGC\\tTACAGTTAAGCGTAAAGTAAGTGATACTGGTG\\tGTTTTCATTTGCACGAGCTGCACCATAAGAAG'}"
      ]
     },
     "execution_count": 6,
     "metadata": {},
     "output_type": "execute_result"
    }
   ],
   "source": [
    "new_ecoli_dict"
   ]
  },
  {
   "cell_type": "code",
   "execution_count": 7,
   "metadata": {},
   "outputs": [],
   "source": [
    "def save_dict(d, fname):\n",
    "    with open(fname, 'w') as f:\n",
    "\n",
    "        for k,v in d.items():\n",
    "            f.write(k)\n",
    "            f.write(\"\\n\")\n",
    "            f.write(v)\n",
    "            f.write(\"\\n\")\n",
    "\n",
    "    "
   ]
  },
  {
   "cell_type": "code",
   "execution_count": 8,
   "metadata": {},
   "outputs": [],
   "source": [
    "sensivity_set = [2,3,5,7,8,11,14,15,21,22]"
   ]
  },
  {
   "cell_type": "code",
   "execution_count": null,
   "metadata": {},
   "outputs": [],
   "source": [
    "3,5,14,15,8,21,"
   ]
  },
  {
   "cell_type": "code",
   "execution_count": 9,
   "metadata": {},
   "outputs": [
    {
     "name": "stdout",
     "output_type": "stream",
     "text": [
      "(array([ 0, 10]),)\n",
      "(array([ 1, 11]),)\n",
      "(array([ 2, 12]),)\n",
      "(array([ 3, 13]),)\n",
      "(array([ 4, 14]),)\n",
      "(array([ 5, 15]),)\n",
      "(array([ 6, 16]),)\n",
      "(array([ 7, 17]),)\n",
      "(array([ 8, 18]),)\n",
      "(array([ 9, 19]),)\n"
     ]
    }
   ],
   "source": [
    "keys  = np.array([int(x.split('_')[1]) for x in new_ecoli_dict.keys()])\n",
    "\n",
    "for x in sensivity_set:\n",
    "    if x in keys:\n",
    "        print(np.where(keys == x))\n",
    "    else: \n",
    "        print(x)\n",
    "    "
   ]
  },
  {
   "cell_type": "code",
   "execution_count": 10,
   "metadata": {},
   "outputs": [
    {
     "data": {
      "text/plain": [
       "array([ 2,  3,  5,  7,  8, 11, 14, 15, 21, 22,  2,  3,  5,  7,  8, 11, 14,\n",
       "       15, 21, 22])"
      ]
     },
     "execution_count": 10,
     "metadata": {},
     "output_type": "execute_result"
    }
   ],
   "source": [
    "keys"
   ]
  },
  {
   "cell_type": "code",
   "execution_count": 11,
   "metadata": {},
   "outputs": [],
   "source": [
    "def filter_dict(data_dict, list_tags):\n",
    "    filtered_dict = {}\n",
    "    \n",
    "    for k,v in data_dict.items():\n",
    "        if int(k.split(\"_\")[1]) in list_tags:\n",
    "            filtered_dict[k] = v\n",
    "        \n",
    "    return filtered_dict"
   ]
  },
  {
   "cell_type": "code",
   "execution_count": 12,
   "metadata": {},
   "outputs": [],
   "source": [
    "save_dict(filter_dict(new_ecoli_dict, sensivity_set), \"../../article/data/answers/sensivity\")"
   ]
  },
  {
   "cell_type": "code",
   "execution_count": null,
   "metadata": {},
   "outputs": [],
   "source": []
  }
 ],
 "metadata": {
  "kernelspec": {
   "display_name": "Python 3",
   "language": "python",
   "name": "python3"
  },
  "language_info": {
   "codemirror_mode": {
    "name": "ipython",
    "version": 3
   },
   "file_extension": ".py",
   "mimetype": "text/x-python",
   "name": "python",
   "nbconvert_exporter": "python",
   "pygments_lexer": "ipython3",
   "version": "3.6.3"
  }
 },
 "nbformat": 4,
 "nbformat_minor": 2
}
