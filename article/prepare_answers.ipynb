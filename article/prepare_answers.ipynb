{
 "cells": [
  {
   "cell_type": "code",
   "execution_count": 9,
   "metadata": {},
   "outputs": [],
   "source": [
    "import crispr_assembler as ca\n",
    "import pandas as pd\n",
    "import numpy as np"
   ]
  },
  {
   "cell_type": "code",
   "execution_count": 10,
   "metadata": {},
   "outputs": [],
   "source": [
    "sensivity_set = [2,3,5,7,8,11,14,15,21,22]\n",
    "equal_set = [1,2,3,9,12,15,27,31,66,67]"
   ]
  },
  {
   "cell_type": "code",
   "execution_count": 3,
   "metadata": {},
   "outputs": [
    {
     "data": {
      "text/plain": [
       "(2, 3, 5, 7, 8, 11, 14, 15, 21, 22)"
      ]
     },
     "execution_count": 3,
     "metadata": {},
     "output_type": "execute_result"
    }
   ],
   "source": [
    "1,2,3,9,12,15,27,31,66,67\n",
    "\n",
    "31,1\n",
    "\n",
    "2,3,5,7,8,11,14,15,21,22"
   ]
  },
  {
   "cell_type": "code",
   "execution_count": 3,
   "metadata": {},
   "outputs": [
    {
     "ename": "SyntaxError",
     "evalue": "can't assign to literal (<ipython-input-3-730dbf96709a>, line 1)",
     "output_type": "error",
     "traceback": [
      "\u001b[0;36m  File \u001b[0;32m\"<ipython-input-3-730dbf96709a>\"\u001b[0;36m, line \u001b[0;32m1\u001b[0m\n\u001b[0;31m    9 = 21\u001b[0m\n\u001b[0m          ^\u001b[0m\n\u001b[0;31mSyntaxError\u001b[0m\u001b[0;31m:\u001b[0m can't assign to literal\n"
     ]
    }
   ],
   "source": [
    "9 = 21\n",
    "12 - нету\n",
    "27 - нету\n",
    "31 - нету\n",
    "66 = 3  (?)\n",
    "67 - нету\n",
    "31 - нету\n",
    "\n"
   ]
  },
  {
   "cell_type": "code",
   "execution_count": null,
   "metadata": {},
   "outputs": [],
   "source": []
  },
  {
   "cell_type": "code",
   "execution_count": 8,
   "metadata": {},
   "outputs": [
    {
     "ename": "NameError",
     "evalue": "name 'pd' is not defined",
     "output_type": "error",
     "traceback": [
      "\u001b[0;31m---------------------------------------------------------------------------\u001b[0m",
      "\u001b[0;31mNameError\u001b[0m                                 Traceback (most recent call last)",
      "\u001b[0;32m<ipython-input-8-0455b3d1f427>\u001b[0m in \u001b[0;36m<module>\u001b[0;34m()\u001b[0m\n\u001b[0;32m----> 1\u001b[0;31m \u001b[0mnew_ecoli\u001b[0m \u001b[0;34m=\u001b[0m \u001b[0mpd\u001b[0m\u001b[0;34m.\u001b[0m\u001b[0mread_excel\u001b[0m\u001b[0;34m(\u001b[0m\u001b[0;34m\"../../New EColi CRISPR arrays(2).xlsx\"\u001b[0m\u001b[0;34m,\u001b[0m \u001b[0msheet_name\u001b[0m\u001b[0;34m=\u001b[0m\u001b[0;32mNone\u001b[0m\u001b[0;34m,\u001b[0m \u001b[0mheader\u001b[0m \u001b[0;34m=\u001b[0m \u001b[0;32mNone\u001b[0m\u001b[0;34m,\u001b[0m \u001b[0mindex_col\u001b[0m\u001b[0;34m=\u001b[0m\u001b[0;32mNone\u001b[0m\u001b[0;34m)\u001b[0m\u001b[0;34m\u001b[0m\u001b[0m\n\u001b[0m",
      "\u001b[0;31mNameError\u001b[0m: name 'pd' is not defined"
     ]
    }
   ],
   "source": [
    "new_ecoli = pd.read_excel(\"../../New EColi CRISPR arrays(2).xlsx\", sheet_name=None, header = None, index_col=None)"
   ]
  },
  {
   "cell_type": "code",
   "execution_count": 26,
   "metadata": {},
   "outputs": [
    {
     "data": {
      "text/plain": [
       "odict_keys(['Ecoli кассета 1', 'Ecoli кассета 2'])"
      ]
     },
     "execution_count": 26,
     "metadata": {},
     "output_type": "execute_result"
    }
   ],
   "source": [
    "new_ecoli.keys()"
   ]
  },
  {
   "cell_type": "code",
   "execution_count": 27,
   "metadata": {},
   "outputs": [],
   "source": [
    "new_ecoli_1 = new_ecoli['Ecoli кассета 1']"
   ]
  },
  {
   "cell_type": "code",
   "execution_count": null,
   "metadata": {},
   "outputs": [],
   "source": []
  },
  {
   "cell_type": "code",
   "execution_count": 56,
   "metadata": {},
   "outputs": [],
   "source": [
    "def update(answer, source , prefix):\n",
    "    for i, row in source.iterrows():\n",
    "        names = row[0]\n",
    "        if type(names) == str:\n",
    "            #names = [int(x) for x in names.split(',')]\n",
    "            names = [names]\n",
    "        else:\n",
    "            names = [names]\n",
    "\n",
    "        for name in names:         \n",
    "            mask = pd.notna(row[1:]).values\n",
    "            array = \"\\t\".join(row[1:].values[mask])\n",
    "        \n",
    "            answer[prefix + str(name)] = array"
   ]
  },
  {
   "cell_type": "code",
   "execution_count": 57,
   "metadata": {},
   "outputs": [],
   "source": [
    "new_ecoli_dict = {}\n",
    "update(new_ecoli_dict, new_ecoli['Ecoli кассета 1'], 'first_')\n",
    "update(new_ecoli_dict, new_ecoli['Ecoli кассета 2'], 'second_')"
   ]
  },
  {
   "cell_type": "code",
   "execution_count": 7,
   "metadata": {},
   "outputs": [
    {
     "ename": "NameError",
     "evalue": "name 'new_ecoli_dict' is not defined",
     "output_type": "error",
     "traceback": [
      "\u001b[0;31m---------------------------------------------------------------------------\u001b[0m",
      "\u001b[0;31mNameError\u001b[0m                                 Traceback (most recent call last)",
      "\u001b[0;32m<ipython-input-7-11495367f2b1>\u001b[0m in \u001b[0;36m<module>\u001b[0;34m()\u001b[0m\n\u001b[0;32m----> 1\u001b[0;31m \u001b[0mnew_ecoli_dict\u001b[0m\u001b[0;34m\u001b[0m\u001b[0m\n\u001b[0m",
      "\u001b[0;31mNameError\u001b[0m: name 'new_ecoli_dict' is not defined"
     ]
    }
   ],
   "source": [
    "new_ecoli_dict"
   ]
  },
  {
   "cell_type": "code",
   "execution_count": 6,
   "metadata": {},
   "outputs": [],
   "source": [
    "def save_dict(d, fname):\n",
    "    with open(fname, 'w') as f:\n",
    "\n",
    "        for k,v in d.items():\n",
    "            f.write(k)\n",
    "            f.write(\"\\n\")\n",
    "            f.write(v)\n",
    "            f.write(\"\\n\")\n",
    "\n",
    "    "
   ]
  },
  {
   "cell_type": "code",
   "execution_count": 35,
   "metadata": {},
   "outputs": [],
   "source": [
    "sensivity_set = [2,3,5,7,8,11,14,15,21,22]"
   ]
  },
  {
   "cell_type": "code",
   "execution_count": 36,
   "metadata": {},
   "outputs": [
    {
     "data": {
      "text/plain": [
       "(3, 5, 14, 15, 8, 21)"
      ]
     },
     "execution_count": 36,
     "metadata": {},
     "output_type": "execute_result"
    }
   ],
   "source": [
    "3,5,14,15,8,21,"
   ]
  },
  {
   "cell_type": "code",
   "execution_count": null,
   "metadata": {},
   "outputs": [],
   "source": []
  },
  {
   "cell_type": "code",
   "execution_count": 37,
   "metadata": {},
   "outputs": [
    {
     "name": "stdout",
     "output_type": "stream",
     "text": [
      "(array([ 2, 28]),)\n",
      "(array([ 7, 37]),)\n",
      "(array([ 8, 32]),)\n",
      "(array([10, 38]),)\n",
      "(array([11, 39]),)\n",
      "(array([ 1, 40]),)\n",
      "(array([12, 41]),)\n",
      "(array([13, 42]),)\n",
      "(array([18, 34]),)\n",
      "(array([16, 45]),)\n"
     ]
    }
   ],
   "source": [
    "keys  = np.array([int(x.split('_')[1]) for x in new_ecoli_dict.keys()])\n",
    "\n",
    "for x in sensivity_set:\n",
    "    if x in keys:\n",
    "        print(np.where(keys == x))\n",
    "    else: \n",
    "        print(x)\n",
    "    "
   ]
  },
  {
   "cell_type": "code",
   "execution_count": 45,
   "metadata": {},
   "outputs": [],
   "source": [
    "with open(\"../../../CRISPR_research/new_ecoli.txt\", 'w') as f:\n",
    "    for key in new_ecoli_dict.keys():\n",
    "        f.write(new_ecoli_dict[key] +  \"\\n\")\n",
    "    "
   ]
  },
  {
   "cell_type": "code",
   "execution_count": null,
   "metadata": {},
   "outputs": [],
   "source": []
  },
  {
   "cell_type": "code",
   "execution_count": 48,
   "metadata": {},
   "outputs": [],
   "source": [
    "keys = [x.split(\"_\")[1] for x in new_ecoli_dict.keys()]"
   ]
  },
  {
   "cell_type": "code",
   "execution_count": 53,
   "metadata": {},
   "outputs": [
    {
     "data": {
      "text/plain": [
       "[1,\n",
       " 2,\n",
       " 3,\n",
       " 5,\n",
       " 7,\n",
       " 8,\n",
       " 9,\n",
       " 11,\n",
       " 12,\n",
       " 14,\n",
       " 15,\n",
       " 19,\n",
       " 20,\n",
       " 21,\n",
       " 22,\n",
       " 23,\n",
       " 24,\n",
       " 27,\n",
       " 31,\n",
       " 50,\n",
       " 61,\n",
       " 62,\n",
       " 65,\n",
       " 66,\n",
       " 67,\n",
       " 68,\n",
       " 70]"
      ]
     },
     "execution_count": 53,
     "metadata": {},
     "output_type": "execute_result"
    }
   ],
   "source": [
    "sorted([int(x) for x in list(set(keys))])"
   ]
  },
  {
   "cell_type": "code",
   "execution_count": 5,
   "metadata": {},
   "outputs": [],
   "source": [
    "def filter_dict(data_dict, list_tags):\n",
    "    filtered_dict = {}\n",
    "    \n",
    "    for k,v in data_dict.items():\n",
    "        if int(k.split(\"_\")[1]) in list_tags:\n",
    "            filtered_dict[k] = v\n",
    "        \n",
    "    return filtered_dict"
   ]
  },
  {
   "cell_type": "code",
   "execution_count": 4,
   "metadata": {},
   "outputs": [
    {
     "ename": "NameError",
     "evalue": "name 'save_dict' is not defined",
     "output_type": "error",
     "traceback": [
      "\u001b[0;31m---------------------------------------------------------------------------\u001b[0m",
      "\u001b[0;31mNameError\u001b[0m                                 Traceback (most recent call last)",
      "\u001b[0;32m<ipython-input-4-2cad936f4683>\u001b[0m in \u001b[0;36m<module>\u001b[0;34m()\u001b[0m\n\u001b[0;32m----> 1\u001b[0;31m \u001b[0msave_dict\u001b[0m\u001b[0;34m(\u001b[0m\u001b[0mfilter_dict\u001b[0m\u001b[0;34m(\u001b[0m\u001b[0mnew_ecoli_dict\u001b[0m\u001b[0;34m,\u001b[0m \u001b[0msensivity_set\u001b[0m\u001b[0;34m)\u001b[0m\u001b[0;34m,\u001b[0m \u001b[0;34m\"../../article/data/answers/sensivity\"\u001b[0m\u001b[0;34m)\u001b[0m\u001b[0;34m\u001b[0m\u001b[0m\n\u001b[0m",
      "\u001b[0;31mNameError\u001b[0m: name 'save_dict' is not defined"
     ]
    }
   ],
   "source": [
    "save_dict(filter_dict(new_ecoli_dict, sensivity_set), \"../../article/data/answers/sensivity\")"
   ]
  },
  {
   "cell_type": "code",
   "execution_count": 42,
   "metadata": {},
   "outputs": [],
   "source": [
    "save_dict(filter_dict(new_ecoli_dict, equal_set), \"../../article/data/answers/equal\")"
   ]
  },
  {
   "cell_type": "code",
   "execution_count": 55,
   "metadata": {},
   "outputs": [],
   "source": [
    "save_dict(filter_dict(new_ecoli_dict, sorted([int(x) for x in list(set(keys))])), \"../../article/data/answers/all\")"
   ]
  },
  {
   "cell_type": "markdown",
   "metadata": {},
   "source": []
  },
  {
   "cell_type": "markdown",
   "metadata": {},
   "source": [
    "## Check old answers"
   ]
  },
  {
   "cell_type": "code",
   "execution_count": 50,
   "metadata": {},
   "outputs": [],
   "source": [
    "second_old = {}"
   ]
  },
  {
   "cell_type": "code",
   "execution_count": 19,
   "metadata": {},
   "outputs": [],
   "source": [
    "old_ecoli = pd.read_excel(\"/home/anton/Downloads/crispr (1).xlsx\", sheet_name=None, index_col=None)"
   ]
  },
  {
   "cell_type": "code",
   "execution_count": 20,
   "metadata": {},
   "outputs": [
    {
     "data": {
      "text/plain": [
       "odict_keys(['презент', 'кассета 1 ECOR', 'схема1', 'ECOR', 'кассета1', 'Spasers', 'кассета 2 ', 'кас 2 moj', 'Lyuba', 'кассета 2 ECOR', 'cas2 time'])"
      ]
     },
     "execution_count": 20,
     "metadata": {},
     "output_type": "execute_result"
    }
   ],
   "source": [
    "old_ecoli.keys()"
   ]
  },
  {
   "cell_type": "code",
   "execution_count": 30,
   "metadata": {},
   "outputs": [],
   "source": [
    "name = 'кассета 2 '\n",
    "mask = pd.notna(old_ecoli[name][0]).values"
   ]
  },
  {
   "cell_type": "code",
   "execution_count": 49,
   "metadata": {},
   "outputs": [],
   "source": [
    "data = np.hstack((old_ecoli[name].values[mask, 1:2],old_ecoli[name].values[mask, 4:]))"
   ]
  },
  {
   "cell_type": "code",
   "execution_count": 53,
   "metadata": {},
   "outputs": [],
   "source": [
    "for row in data:\n",
    "    second_old[row[0]] = [x for x in row[1:][pd.notna(row[1:])] if len(x) > 1]"
   ]
  },
  {
   "cell_type": "code",
   "execution_count": null,
   "metadata": {},
   "outputs": [],
   "source": []
  },
  {
   "cell_type": "code",
   "execution_count": null,
   "metadata": {},
   "outputs": [],
   "source": []
  },
  {
   "cell_type": "code",
   "execution_count": 64,
   "metadata": {},
   "outputs": [],
   "source": [
    "first_old = {}"
   ]
  },
  {
   "cell_type": "code",
   "execution_count": 60,
   "metadata": {},
   "outputs": [],
   "source": [
    "name = 'кассета1'\n",
    "mask = pd.notna(old_ecoli[name][\"№ изолятов\"]).values"
   ]
  },
  {
   "cell_type": "code",
   "execution_count": 61,
   "metadata": {},
   "outputs": [],
   "source": [
    "data = np.hstack((old_ecoli[name].values[mask, 1:2],old_ecoli[name].values[mask, 4:]))"
   ]
  },
  {
   "cell_type": "code",
   "execution_count": 69,
   "metadata": {},
   "outputs": [],
   "source": [
    "for row in data:\n",
    "    first_old[row[0]] = [x for x in row[1:][pd.notna(row[1:])] if len(x) > 12]"
   ]
  },
  {
   "cell_type": "code",
   "execution_count": null,
   "metadata": {},
   "outputs": [],
   "source": []
  },
  {
   "cell_type": "code",
   "execution_count": 71,
   "metadata": {},
   "outputs": [],
   "source": [
    "import pickle"
   ]
  },
  {
   "cell_type": "code",
   "execution_count": 72,
   "metadata": {},
   "outputs": [],
   "source": [
    "pickle.dump(first_old, open(\"./first_old_answers\", 'wb'))\n",
    "pickle.dump(second_old, open(\"./second_old_answers\", 'wb'))"
   ]
  },
  {
   "cell_type": "code",
   "execution_count": null,
   "metadata": {},
   "outputs": [],
   "source": []
  }
 ],
 "metadata": {
  "kernelspec": {
   "display_name": "Python 3",
   "language": "python",
   "name": "python3"
  },
  "language_info": {
   "codemirror_mode": {
    "name": "ipython",
    "version": 3
   },
   "file_extension": ".py",
   "mimetype": "text/x-python",
   "name": "python",
   "nbconvert_exporter": "python",
   "pygments_lexer": "ipython3",
   "version": "3.6.3"
  }
 },
 "nbformat": 4,
 "nbformat_minor": 2
}
