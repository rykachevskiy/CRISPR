{
 "cells": [
  {
   "cell_type": "code",
   "execution_count": 1,
   "metadata": {},
   "outputs": [],
   "source": [
    "import numpy as np\n",
    "import matplotlib.pyplot as plt\n"
   ]
  },
  {
   "cell_type": "code",
   "execution_count": 2,
   "metadata": {},
   "outputs": [],
   "source": [
    "from tqdm import tqdm_notebook\n",
    "import regex as re\n",
    "\n",
    "import os"
   ]
  },
  {
   "cell_type": "code",
   "execution_count": 3,
   "metadata": {},
   "outputs": [],
   "source": [
    "IUPAC_WILDCARDS = {\n",
    "    \"W\" : \"AT\",\n",
    "    \"S\" : \"CG\",\n",
    "    \"M\" : \"AC\",\n",
    "    \"K\" : \"GT\",\n",
    "    \"R\" : \"AG\",\n",
    "    \"Y\" : \"CT\",\n",
    "    \"B\" : \"CGT\",\n",
    "    \"D\" : \"AGT\",\n",
    "    \"H\" : \"ACT\",\n",
    "    \"V\" : \"ACG\",\n",
    "    \"N\" : \"ACGT\",\n",
    "}"
   ]
  },
  {
   "cell_type": "code",
   "execution_count": 4,
   "metadata": {},
   "outputs": [],
   "source": [
    "reverse = {\n",
    "    \"W\" : \"W\",\n",
    "    \"S\" : \"S\",\n",
    "    \"M\" : \"K\",\n",
    "    \"K\" : \"M\",\n",
    "    \"R\" : \"Y\",\n",
    "    \"Y\" : \"R\",\n",
    "    \"B\" : \"V\",\n",
    "    \"D\" : \"H\",\n",
    "    \"H\" : \"D\",\n",
    "    \"V\" : \"B\",\n",
    "    \"N\" : \"N\",\n",
    "    \"A\" : \"T\",\n",
    "    \"C\" : \"G\", \n",
    "    \"T\" : \"A\",\n",
    "    \"G\" : \"C\",\n",
    "    \"(\" : \"(\",\n",
    "    \")\" : \")\"\n",
    "}"
   ]
  },
  {
   "cell_type": "code",
   "execution_count": 5,
   "metadata": {},
   "outputs": [],
   "source": [
    "def rc(x, reverse = reverse, r=0):\n",
    "    d = dict(zip(reverse.keys(), reverse.values()))\n",
    "    if r:\n",
    "        d[\"(\"] = \")\"\n",
    "        d[\")\"] = \"(\"\n",
    "        return ''.join([d[y] for y in x][::-1])\n",
    "    else:\n",
    "        return ''.join([d[y] for y in x])"
   ]
  },
  {
   "cell_type": "code",
   "execution_count": 6,
   "metadata": {},
   "outputs": [],
   "source": [
    "def read_fastq(path):\n",
    "    with open(path) as f:\n",
    "        lines = f.readlines()\n",
    "    \n",
    "    reads = [x[:-1] for x in lines[1::4]]\n",
    "    qualities = [x[:-1] for x in lines[3::4]]\n",
    "    \n",
    "    return reads, qualities"
   ]
  },
  {
   "cell_type": "code",
   "execution_count": 7,
   "metadata": {},
   "outputs": [],
   "source": [
    "def repeat_to_re_pattern(repeat, e=2, d = IUPAC_WILDCARDS):\n",
    "    re_pattern = \"(\"\n",
    "    for char in repeat:\n",
    "        if char not in d.keys() and char != '(' and char != ')':\n",
    "            re_pattern += char\n",
    "        elif char in d.keys():\n",
    "            re_pattern += \"[\" +  \"|\".join(d[char]) + \"]\"\n",
    "    \n",
    "    re_pattern += \"){e<=\" + str(e) + \"}\"\n",
    "    return re_pattern"
   ]
  },
  {
   "cell_type": "code",
   "execution_count": 8,
   "metadata": {},
   "outputs": [],
   "source": [
    "def find(repeat, read, e = 2):\n",
    "    p_str = repeat_to_re_pattern(repeat,e=e)\n",
    "    p = re.compile(p_str)\n",
    "   \n",
    "    return [x.span() for x in re.finditer(p, read)]"
   ]
  },
  {
   "cell_type": "code",
   "execution_count": 9,
   "metadata": {},
   "outputs": [],
   "source": [
    "def split_read(read, quality, repeat, e=2, v=0):\n",
    "    repeat, repeat_s, repeat_e = repeat.r, repeat.rs, repeat.re\n",
    "    repeat_pos = find(repeat, read, e)\n",
    "    \n",
    "    if v: print(repeat_pos)\n",
    "    if len(repeat_pos) == 0:\n",
    "        return [-1, -1], [-1, -1]\n",
    "\n",
    "    else:\n",
    "        repeat_pos = repeat_pos[0]\n",
    "        read_left = read[:repeat_pos[0]]\n",
    "        q_left = quality[:repeat_pos[0]]\n",
    "        \n",
    "        read_right = read[repeat_pos[1]:]\n",
    "        q_right = quality[repeat_pos[1]:]\n",
    "        \n",
    "        \n",
    "        repeat_pos_l = find(repeat_e, read_left, e)\n",
    "        if v: print(repeat_pos_l)\n",
    "        if len(repeat_pos_l) == 0:\n",
    "            left_spacer = -1\n",
    "            left_sp_q = -1\n",
    "        else:\n",
    "            left_spacer = read_left[repeat_pos_l[0][1]:]\n",
    "            left_sp_q = q_left[repeat_pos_l[0][1]:]\n",
    "            \n",
    "        \n",
    "        repeat_pos_r = find(repeat_s, read_right, e)\n",
    "        if v: print(repeat_pos_r)\n",
    "        if len(repeat_pos_r) == 0:\n",
    "            right_spacer = -1\n",
    "            right_sp_q = -1\n",
    "        else:\n",
    "            right_spacer = read_right[:repeat_pos_r[0][0]]\n",
    "            right_sp_q = q_right[:repeat_pos_r[0][0]]\n",
    "            \n",
    "        if left_spacer != -1 and len(left_spacer) <= 10:\n",
    "            left_spacer = -1\n",
    "        if right_spacer != -1 and len(right_spacer) <= 10:\n",
    "            right_spacer = -1\n",
    "        \n",
    "        return [left_spacer, right_spacer], [left_sp_q, right_sp_q]"
   ]
  },
  {
   "cell_type": "code",
   "execution_count": 10,
   "metadata": {},
   "outputs": [],
   "source": [
    "quality_symbols1 = r'!\"#$%&' \n",
    "quality_symbols2 = \"'()*+,-./0123456789:;<=>?@ABCDEFGHIJKLMNOPQRSTUVWXYZ[\\]^_`abcdefghijklmnopqrstuvwxyz{|}~\""
   ]
  },
  {
   "cell_type": "code",
   "execution_count": null,
   "metadata": {},
   "outputs": [],
   "source": []
  },
  {
   "cell_type": "code",
   "execution_count": 11,
   "metadata": {},
   "outputs": [],
   "source": [
    "quality_dict = {}\n",
    "quality_dict_r = {}\n",
    "for i, char in enumerate(quality_symbols1 + quality_symbols2):\n",
    "    quality_dict[char] = i\n",
    "    quality_dict_r[i] = char"
   ]
  },
  {
   "cell_type": "code",
   "execution_count": 12,
   "metadata": {},
   "outputs": [],
   "source": [
    "get_quality = lambda x: quality_dict[x]"
   ]
  },
  {
   "cell_type": "code",
   "execution_count": 13,
   "metadata": {},
   "outputs": [],
   "source": [
    "def get_lowest_q(pair_q, gq = get_quality):\n",
    "    return quality_dict[min(pair_q[0] + pair_q[1], key=gq)]"
   ]
  },
  {
   "cell_type": "code",
   "execution_count": 14,
   "metadata": {},
   "outputs": [],
   "source": [
    "def save_pairs(path, name, pairs):\n",
    "    name = name.split(\".\")[0]\n",
    "    with open(path + name, 'w') as f:\n",
    "        for p in pairs:\n",
    "            f.write(\"\\t\".join(p))\n",
    "            f.write(\"\\n\")\n",
    "            "
   ]
  },
  {
   "cell_type": "code",
   "execution_count": null,
   "metadata": {},
   "outputs": [],
   "source": []
  },
  {
   "cell_type": "code",
   "execution_count": null,
   "metadata": {},
   "outputs": [],
   "source": []
  },
  {
   "cell_type": "code",
   "execution_count": 40,
   "metadata": {},
   "outputs": [],
   "source": [
    "def main(path, name, repeat,  t = 10, v = 1):\n",
    "    if v: print(\"reading :\", name)\n",
    "    reads, qualities = read_fastq(path + name)\n",
    "    \n",
    "    \n",
    "    if v: print(\"cutting :\", name)\n",
    "    pairs, pairs_q = [], []\n",
    "    for r,q in tqdm_notebook(zip(reads, qualities)):\n",
    "        p, pq = split_read(r, q, repeat, e = 4)\n",
    "        pairs.append(p)\n",
    "        pairs_q.append(pq)\n",
    "    \n",
    "    \n",
    "    if v: print(\"masking :\", name)  \n",
    "    pairs = np.array(pairs)\n",
    "    pairs_q = np.array(pairs_q)\n",
    "    \n",
    "    \n",
    "    mask = np.array(['-1' not in pair for pair in tqdm_notebook(pairs)])\n",
    "\n",
    "    pairs = pairs[mask]\n",
    "    pairs_q = pairs_q[mask]\n",
    "      \n",
    "    \n",
    "    if mask.sum() ==0:\n",
    "        return [], [], []\n",
    "        \n",
    "    min_pq = np.array([get_lowest_q(pq) for pq in pairs_q])\n",
    "    \n",
    "    mask_2 = min_pq >= t\n",
    "    \n",
    "    print(name, mask.sum(), min(min_pq))\n",
    "    \n",
    "    return pairs, pairs_q, min_pq, mask_2"
   ]
  },
  {
   "cell_type": "code",
   "execution_count": 16,
   "metadata": {},
   "outputs": [],
   "source": [
    "class Repeat:\n",
    "    def __init__(self, r, rs, re, rc):\n",
    "        self.r = r\n",
    "        self.rs = rs\n",
    "        self.re = re\n",
    "        self.rc = rc"
   ]
  },
  {
   "cell_type": "code",
   "execution_count": 17,
   "metadata": {},
   "outputs": [],
   "source": [
    "redundant = Repeat(\"GTTTTAKATTA(ACTAWRTGG)WATGTAAAK\", \n",
    "                   \"GTTTTAKATTAACTAWRTGG\",\n",
    "                   \"ACTAWRTGGWATGTAAAK\",\n",
    "                   \"GTTTTAKATTAACTAWRTGGWATGTAAAK\")\n",
    "\n",
    "non_redundant_1 = Repeat(\"GTTTTATATTA(ACTAAGTGG)TATGTAAAG\",\n",
    "                           \"GTTTTATATTAACTAAGTGG\",\n",
    "                           \"ACTAAGTGG)TATGTAAAG\",\n",
    "                           \"GTTTTATATTAACTAAGTGGTATGTAAAG\"\n",
    "                          )\n",
    "\n",
    "non_redundant_2 = Repeat(\"GTTTTATATTA(ACTATATGG)AATGTAAAT\",\n",
    "                           \"GTTTTATATTAACTATATGG\",\n",
    "                           \"ACTATATGGAATGTAAAT\",\n",
    "                           \"GTTTTATATTAACTATATGGAATGTAAAT\"\n",
    "                          )"
   ]
  },
  {
   "cell_type": "code",
   "execution_count": null,
   "metadata": {},
   "outputs": [],
   "source": [
    "Forward: GCG CCA GCG GGG ATA AAC C\n",
    "\n",
    "Reverse: CGC TGG CGC GGG GAA CWC"
   ]
  },
  {
   "cell_type": "code",
   "execution_count": null,
   "metadata": {},
   "outputs": [],
   "source": [
    "GWGTTCCCCGCGCCAGCG\n",
    "         GCGCCAGCGGGGATAAACC\n",
    "\"GWGTTCCCC(GCGCCAGCG)GGGATAAACCG\""
   ]
  },
  {
   "cell_type": "code",
   "execution_count": 47,
   "metadata": {},
   "outputs": [
    {
     "data": {
      "text/plain": [
       "'GCCAAATAGGG)GCGACCGCG(CCCCTTGWG'"
      ]
     },
     "execution_count": 47,
     "metadata": {},
     "output_type": "execute_result"
    }
   ],
   "source": [
    "\"GWGTTCCCC(GCGCCAGCG)GGGATAAACCG\"[::-1]"
   ]
  },
  {
   "cell_type": "code",
   "execution_count": 79,
   "metadata": {},
   "outputs": [],
   "source": [
    "ecoli_r = Repeat(\"GWGTTCCCC(GCGCCAGCG)GGGATAAACCG\", \n",
    "                   \"GWGTTCCCCGCGCCAGCG\",\n",
    "                   \"GCGCCAGCGGGGATAAACCG\",\n",
    "                   \"GWGTTCCCCGCGCCAGCGGGGATAAACCG\")\n",
    "\n",
    "ecoli_r_1 = Repeat(\"GWGTTCCCC(GCGCCAGCG)GGGATAAACCG\", \n",
    "                   \"GCCAAATAGGGGCGACCGCG\",\n",
    "                   \"GCGACCGCGCCCCTTGWG\",\n",
    "                   \"GCCAAATAGGGGCGACCGCGCCCCTTGWG\")\n"
   ]
  },
  {
   "cell_type": "code",
   "execution_count": 19,
   "metadata": {},
   "outputs": [],
   "source": [
    "def filter_by_q(pairs, pairs_q, t = 10):\n",
    "    min_pq = np.array([get_lowest_q(pq) for pq in pairs_q])\n",
    "    \n",
    "    mask_2 = min_pq >= t\n",
    "    \n",
    "    return pairs, pairs_q, min_pq, mask_2"
   ]
  },
  {
   "cell_type": "code",
   "execution_count": null,
   "metadata": {},
   "outputs": [],
   "source": []
  },
  {
   "cell_type": "code",
   "execution_count": 32,
   "metadata": {},
   "outputs": [],
   "source": [
    "path = \"../data/student_Dvyg/EC/gz/\"\n",
    "#path = \"../data/clostr_Polina/fastq/\""
   ]
  },
  {
   "cell_type": "code",
   "execution_count": 33,
   "metadata": {},
   "outputs": [],
   "source": [
    "names = sorted(os.listdir(path))"
   ]
  },
  {
   "cell_type": "code",
   "execution_count": 52,
   "metadata": {},
   "outputs": [],
   "source": [
    "def f(x):\n",
    "    return main(path, x, ecoli_r_1)"
   ]
  },
  {
   "cell_type": "code",
   "execution_count": 23,
   "metadata": {},
   "outputs": [
    {
     "name": "stdout",
     "output_type": "stream",
     "text": [
      "reading : DVyg24_S463_R1_001.fastq\n",
      "cutting : DVyg24_S463_R1_001.fastq\n"
     ]
    },
    {
     "data": {
      "application/vnd.jupyter.widget-view+json": {
       "model_id": "f4ac7b80ca174aa1951be49faefb0310",
       "version_major": 2,
       "version_minor": 0
      },
      "text/plain": [
       "A Jupyter Widget"
      ]
     },
     "metadata": {},
     "output_type": "display_data"
    },
    {
     "name": "stdout",
     "output_type": "stream",
     "text": [
      "\n",
      "masking : DVyg24_S463_R1_001.fastq\n"
     ]
    },
    {
     "data": {
      "application/vnd.jupyter.widget-view+json": {
       "model_id": "2f9e3d2e1e1f425699c1c42190f739c0",
       "version_major": 2,
       "version_minor": 0
      },
      "text/plain": [
       "A Jupyter Widget"
      ]
     },
     "metadata": {},
     "output_type": "display_data"
    },
    {
     "name": "stdout",
     "output_type": "stream",
     "text": [
      "\n",
      "DVyg24_S463_R1_001.fastq 184413 2\n"
     ]
    }
   ],
   "source": [
    "res = f(names[0])"
   ]
  },
  {
   "cell_type": "code",
   "execution_count": 32,
   "metadata": {},
   "outputs": [
    {
     "data": {
      "text/plain": [
       "184410"
      ]
     },
     "execution_count": 32,
     "metadata": {},
     "output_type": "execute_result"
    }
   ],
   "source": [
    "res[3].sum()"
   ]
  },
  {
   "cell_type": "code",
   "execution_count": 33,
   "metadata": {},
   "outputs": [
    {
     "data": {
      "text/plain": [
       "184413"
      ]
     },
     "execution_count": 33,
     "metadata": {},
     "output_type": "execute_result"
    }
   ],
   "source": [
    "len(res[0])"
   ]
  },
  {
   "cell_type": "code",
   "execution_count": 40,
   "metadata": {},
   "outputs": [],
   "source": [
    "res_20 = filter_by_q(res[0], res[1], 20)"
   ]
  },
  {
   "cell_type": "code",
   "execution_count": 42,
   "metadata": {},
   "outputs": [
    {
     "data": {
      "text/plain": [
       "101381"
      ]
     },
     "execution_count": 42,
     "metadata": {},
     "output_type": "execute_result"
    }
   ],
   "source": [
    "res_20[-1].sum()"
   ]
  },
  {
   "cell_type": "code",
   "execution_count": 43,
   "metadata": {},
   "outputs": [],
   "source": [
    "pairs = np.array(res_20[0])[res_20[-1]]"
   ]
  },
  {
   "cell_type": "code",
   "execution_count": 45,
   "metadata": {},
   "outputs": [],
   "source": [
    "save_pairs(\"../data/student_Dvyg/EC/pairs_4/\", names[0], pairs)"
   ]
  },
  {
   "cell_type": "markdown",
   "metadata": {},
   "source": [
    "## hu"
   ]
  },
  {
   "cell_type": "code",
   "execution_count": 58,
   "metadata": {},
   "outputs": [],
   "source": [
    "import sys\n",
    "sys.path.append(\"./utils/\")\n",
    "import hierarcical_utils as hu\n",
    "import plot_utils as pu "
   ]
  },
  {
   "cell_type": "code",
   "execution_count": 47,
   "metadata": {},
   "outputs": [
    {
     "name": "stdout",
     "output_type": "stream",
     "text": [
      "reading pairs, clustering...\n",
      "making sp_to_n...\n"
     ]
    },
    {
     "data": {
      "application/vnd.jupyter.widget-view+json": {
       "model_id": "c950e52133de4c09bbdb5fb87e0e3d32",
       "version_major": 2,
       "version_minor": 0
      },
      "text/plain": [
       "A Jupyter Widget"
      ]
     },
     "metadata": {},
     "output_type": "display_data"
    },
    {
     "name": "stdout",
     "output_type": "stream",
     "text": [
      "\n",
      "processing pairs...\n"
     ]
    },
    {
     "data": {
      "application/vnd.jupyter.widget-view+json": {
       "model_id": "068f2a7c88024d36ac31dd2b9bbeec4b",
       "version_major": 2,
       "version_minor": 0
      },
      "text/plain": [
       "A Jupyter Widget"
      ]
     },
     "metadata": {},
     "output_type": "display_data"
    },
    {
     "name": "stdout",
     "output_type": "stream",
     "text": [
      "\n",
      "making graph...\n"
     ]
    }
   ],
   "source": [
    "gr = hu.graph_from_raw(\"../data/student_Dvyg/EC/pairs_4/DVyg24_S463_R1_001\", split='\\t')"
   ]
  },
  {
   "cell_type": "code",
   "execution_count": 48,
   "metadata": {},
   "outputs": [
    {
     "data": {
      "text/plain": [
       "(337, 337)"
      ]
     },
     "execution_count": 48,
     "metadata": {},
     "output_type": "execute_result"
    }
   ],
   "source": [
    "gr[0].shape"
   ]
  },
  {
   "cell_type": "code",
   "execution_count": 49,
   "metadata": {},
   "outputs": [
    {
     "data": {
      "image/png": "[encoded data removed]",
      "text/plain": [
       "<matplotlib.figure.Figure at 0x7f7008534320>"
      ]
     },
     "metadata": {},
     "output_type": "display_data"
    }
   ],
   "source": [
    "pu.plot_gr(gr[0][:200, :200], log =1)"
   ]
  },
  {
   "cell_type": "code",
   "execution_count": 50,
   "metadata": {},
   "outputs": [],
   "source": [
    "import numpy as np\n",
    "import matplotlib.pyplot as plt"
   ]
  },
  {
   "cell_type": "code",
   "execution_count": 51,
   "metadata": {},
   "outputs": [],
   "source": [
    "import hamiltonian_utils as hamu"
   ]
  },
  {
   "cell_type": "code",
   "execution_count": 52,
   "metadata": {},
   "outputs": [],
   "source": [
    "arrs, ws = hamu.restore_arrays(gr[0],threashold=2)"
   ]
  },
  {
   "cell_type": "code",
   "execution_count": 53,
   "metadata": {},
   "outputs": [],
   "source": [
    "arrs = np.array(arrs)\n",
    "ws = np.array(ws)"
   ]
  },
  {
   "cell_type": "code",
   "execution_count": 54,
   "metadata": {},
   "outputs": [
    {
     "data": {
      "text/plain": [
       "array([list([51, 53, 52, 117, 81, 54, 29, 30, 26, 39, 38, 55, 33, 40, 46, 45, 16, 0, 2, 3, 14, 11, 37, 25]),\n",
       "       list([43, 35, 22, 10, 15, 21, 19, 27, 6, 12, 13, 31, 17, 18, 5, 4, 9, 8, 1, 20, 113]),\n",
       "       list([41, 28, 66, 68, 107, 128]), list([24, 32]),\n",
       "       list([88, 104, 95, 93, 110, 47, 7, 42, 127]),\n",
       "       list([101, 49, 48, 70, 61, 50, 57, 124]),\n",
       "       list([76, 67, 77, 89, 78, 58, 56, 75, 109, 69, 73, 140, 132]),\n",
       "       list([91, 83, 90, 64, 34, 92, 108, 96, 85, 86, 105, 121, 82, 71, 63, 59, 65, 87, 134, 144, 193]),\n",
       "       list([205, 188, 190, 175, 106, 97, 111, 79, 36, 60, 44, 119, 112, 23]),\n",
       "       list([191, 179, 130, 62, 74, 116, 118, 123, 98, 131]),\n",
       "       list([136, 133, 165, 159, 72, 84, 114, 120, 129]),\n",
       "       list([103, 115, 126, 122, 99, 94, 102, 80, 100, 125]),\n",
       "       list([138, 141]),\n",
       "       list([184, 161, 173, 169, 155, 170, 154, 152, 233, 142, 139, 135, 180]),\n",
       "       list([145, 149, 137, 143, 162, 156, 146, 153, 151, 183, 176, 174, 185, 147, 157, 182, 178, 167, 172, 164, 148, 163]),\n",
       "       list([150, 168]), list([160, 158, 177]), list([195, 171, 198]),\n",
       "       list([208, 196]), list([187, 186]), list([207, 200, 216]),\n",
       "       list([192, 199]), list([204, 189, 215, 194]),\n",
       "       list([197, 214, 181]), list([211, 223])], dtype=object)"
      ]
     },
     "execution_count": 54,
     "metadata": {},
     "output_type": "execute_result"
    }
   ],
   "source": [
    "arrs"
   ]
  },
  {
   "cell_type": "code",
   "execution_count": 55,
   "metadata": {},
   "outputs": [
    {
     "data": {
      "text/plain": [
       "<Container object of 25 artists>"
      ]
     },
     "execution_count": 55,
     "metadata": {},
     "output_type": "execute_result"
    },
    {
     "data": {
      "image/png": "[encoded data removed]",
      "text/plain": [
       "<matplotlib.figure.Figure at 0x7f6ffdc32be0>"
      ]
     },
     "metadata": {},
     "output_type": "display_data"
    }
   ],
   "source": [
    "plt.bar(np.arange(len(ws)), sorted([np.median(x) for x in ws])[::-1])"
   ]
  },
  {
   "cell_type": "code",
   "execution_count": 56,
   "metadata": {},
   "outputs": [
    {
     "data": {
      "text/plain": [
       "<Container object of 25 artists>"
      ]
     },
     "execution_count": 56,
     "metadata": {},
     "output_type": "execute_result"
    },
    {
     "data": {
      "image/png": "[encoded data removed]",
      "text/plain": [
       "<matplotlib.figure.Figure at 0x7f6ffdde4940>"
      ]
     },
     "metadata": {},
     "output_type": "display_data"
    }
   ],
   "source": [
    "plt.bar(np.arange(len(ws)), sorted([len(x) for x in ws])[::-1])"
   ]
  },
  {
   "cell_type": "code",
   "execution_count": 57,
   "metadata": {},
   "outputs": [],
   "source": [
    "gr_arrs = hamu.list_to_gr(arrs, gr[0].shape[0])"
   ]
  },
  {
   "cell_type": "code",
   "execution_count": 58,
   "metadata": {},
   "outputs": [
    {
     "data": {
      "text/plain": [
       "0.6220124046932406"
      ]
     },
     "execution_count": 58,
     "metadata": {},
     "output_type": "execute_result"
    }
   ],
   "source": [
    "gr[0][gr_arrs.astype(bool)].sum() / gr[0].sum()"
   ]
  },
  {
   "cell_type": "code",
   "execution_count": null,
   "metadata": {},
   "outputs": [],
   "source": []
  },
  {
   "cell_type": "code",
   "execution_count": null,
   "metadata": {},
   "outputs": [],
   "source": []
  },
  {
   "cell_type": "code",
   "execution_count": null,
   "metadata": {},
   "outputs": [],
   "source": []
  },
  {
   "cell_type": "code",
   "execution_count": 29,
   "metadata": {},
   "outputs": [
    {
     "data": {
      "text/plain": [
       "'../data/student_Dvyg/EC/gz/'"
      ]
     },
     "execution_count": 29,
     "metadata": {},
     "output_type": "execute_result"
    }
   ],
   "source": [
    "path"
   ]
  },
  {
   "cell_type": "code",
   "execution_count": 49,
   "metadata": {},
   "outputs": [
    {
     "data": {
      "text/plain": [
       "['25_0_0_grep',\n",
       " 'DVyg24_S463_R1_001.fastq',\n",
       " 'DVyg24_S463_R2_001.fastq',\n",
       " 'DVyg25_S464_R1_001.fastq',\n",
       " 'DVyg25_S464_R2_001.fastq',\n",
       " 'DVyg26_S465_R1_001.fastq',\n",
       " 'DVyg26_S465_R2_001.fastq',\n",
       " 'DVyg27_S466_R1_001.fastq',\n",
       " 'DVyg27_S466_R2_001.fastq',\n",
       " 'wc']"
      ]
     },
     "execution_count": 49,
     "metadata": {},
     "output_type": "execute_result"
    }
   ],
   "source": [
    "names"
   ]
  },
  {
   "cell_type": "code",
   "execution_count": 36,
   "metadata": {},
   "outputs": [],
   "source": [
    "from multiprocessing import Pool"
   ]
  },
  {
   "cell_type": "code",
   "execution_count": 50,
   "metadata": {
    "scrolled": true
   },
   "outputs": [
    {
     "name": "stdout",
     "output_type": "stream",
     "text": [
      "reading : DVyg26_S465_R1_001.fastq\n",
      "reading : DVyg25_S464_R2_001.fastq\n",
      "reading : DVyg25_S464_R1_001.fastq\n",
      "reading : DVyg26_S465_R2_001.fastq\n",
      "cutting : DVyg25_S464_R2_001.fastq\n"
     ]
    },
    {
     "data": {
      "application/vnd.jupyter.widget-view+json": {
       "model_id": "9a0b1cdbaa4d4efd897f982d5ff22896",
       "version_major": 2,
       "version_minor": 0
      },
      "text/plain": [
       "A Jupyter Widget"
      ]
     },
     "metadata": {},
     "output_type": "display_data"
    },
    {
     "name": "stdout",
     "output_type": "stream",
     "text": [
      "cutting : DVyg25_S464_R1_001.fastq\n"
     ]
    },
    {
     "data": {
      "application/vnd.jupyter.widget-view+json": {
       "model_id": "02894da0865d440ea726330e534801bb",
       "version_major": 2,
       "version_minor": 0
      },
      "text/plain": [
       "A Jupyter Widget"
      ]
     },
     "metadata": {},
     "output_type": "display_data"
    },
    {
     "name": "stdout",
     "output_type": "stream",
     "text": [
      "cutting : DVyg26_S465_R2_001.fastq\n"
     ]
    },
    {
     "data": {
      "application/vnd.jupyter.widget-view+json": {
       "model_id": "7a920bce920849c881a5b8d3b0c22b14",
       "version_major": 2,
       "version_minor": 0
      },
      "text/plain": [
       "A Jupyter Widget"
      ]
     },
     "metadata": {},
     "output_type": "display_data"
    },
    {
     "name": "stdout",
     "output_type": "stream",
     "text": [
      "cutting : DVyg26_S465_R1_001.fastq\n"
     ]
    },
    {
     "data": {
      "application/vnd.jupyter.widget-view+json": {
       "model_id": "bca2e458d017467581976900bd4b7456",
       "version_major": 2,
       "version_minor": 0
      },
      "text/plain": [
       "A Jupyter Widget"
      ]
     },
     "metadata": {},
     "output_type": "display_data"
    },
    {
     "name": "stdout",
     "output_type": "stream",
     "text": [
      "\n",
      "masking : DVyg25_S464_R1_001.fastq\n"
     ]
    },
    {
     "data": {
      "application/vnd.jupyter.widget-view+json": {
       "model_id": "5b96c3c7b13d4ddb9d6ff1f236ae3105",
       "version_major": 2,
       "version_minor": 0
      },
      "text/plain": [
       "A Jupyter Widget"
      ]
     },
     "metadata": {},
     "output_type": "display_data"
    },
    {
     "name": "stdout",
     "output_type": "stream",
     "text": [
      "\n",
      "DVyg25_S464_R1_001.fastq 41865 12\n",
      "\n",
      "masking : DVyg25_S464_R2_001.fastq\n"
     ]
    },
    {
     "data": {
      "application/vnd.jupyter.widget-view+json": {
       "model_id": "4e159af90d744897aaffcd92f0c75583",
       "version_major": 2,
       "version_minor": 0
      },
      "text/plain": [
       "A Jupyter Widget"
      ]
     },
     "metadata": {},
     "output_type": "display_data"
    },
    {
     "name": "stdout",
     "output_type": "stream",
     "text": [
      "\n",
      "DVyg25_S464_R2_001.fastq 33832 2\n",
      "\n",
      "masking : DVyg26_S465_R2_001.fastq\n"
     ]
    },
    {
     "data": {
      "application/vnd.jupyter.widget-view+json": {
       "model_id": "73266dcb2beb4e30887d5739c858a138",
       "version_major": 2,
       "version_minor": 0
      },
      "text/plain": [
       "A Jupyter Widget"
      ]
     },
     "metadata": {},
     "output_type": "display_data"
    },
    {
     "name": "stdout",
     "output_type": "stream",
     "text": [
      "\n",
      "masking : DVyg26_S465_R1_001.fastq\n",
      "\n",
      "DVyg26_S465_R2_001.fastq 167470 2\n"
     ]
    },
    {
     "data": {
      "application/vnd.jupyter.widget-view+json": {
       "model_id": "bd46a21538ce4cccabcbca6e716e2a4c",
       "version_major": 2,
       "version_minor": 0
      },
      "text/plain": [
       "A Jupyter Widget"
      ]
     },
     "metadata": {},
     "output_type": "display_data"
    },
    {
     "name": "stdout",
     "output_type": "stream",
     "text": [
      "\n",
      "DVyg26_S465_R1_001.fastq 231044 2\n"
     ]
    }
   ],
   "source": [
    "p = Pool(4)\n",
    "\n",
    "\n"
   ]
  },
  {
   "cell_type": "code",
   "execution_count": null,
   "metadata": {},
   "outputs": [],
   "source": [
    "p.close()"
   ]
  },
  {
   "cell_type": "code",
   "execution_count": 51,
   "metadata": {},
   "outputs": [
    {
     "data": {
      "text/plain": [
       "['DVyg25_S464_R1_001.fastq',\n",
       " 'DVyg25_S464_R2_001.fastq',\n",
       " 'DVyg26_S465_R1_001.fastq',\n",
       " 'DVyg26_S465_R2_001.fastq']"
      ]
     },
     "execution_count": 51,
     "metadata": {},
     "output_type": "execute_result"
    }
   ],
   "source": [
    "names[3:7]"
   ]
  },
  {
   "cell_type": "code",
   "execution_count": 53,
   "metadata": {},
   "outputs": [],
   "source": [
    "res = p.map(f, names[3:7])"
   ]
  },
  {
   "cell_type": "code",
   "execution_count": 54,
   "metadata": {},
   "outputs": [],
   "source": [
    "res_20_1 = [filter_by_q(r[0], r[1], 20) for r in res]"
   ]
  },
  {
   "cell_type": "code",
   "execution_count": 55,
   "metadata": {},
   "outputs": [],
   "source": [
    "res_20_1 = [r[0][r[-1]] for r in res_20_1]"
   ]
  },
  {
   "cell_type": "code",
   "execution_count": 56,
   "metadata": {},
   "outputs": [],
   "source": [
    "for p, name in zip(res_20_1, names[2:6]):\n",
    "    save_pairs(\"../data/student_Dvyg/EC/pairs_4/\", name, p)"
   ]
  },
  {
   "cell_type": "code",
   "execution_count": 59,
   "metadata": {},
   "outputs": [
    {
     "name": "stdout",
     "output_type": "stream",
     "text": [
      "reading pairs, clustering...\n",
      "making sp_to_n...\n"
     ]
    },
    {
     "data": {
      "application/vnd.jupyter.widget-view+json": {
       "model_id": "50dd16ac42714dafb251e6a088b504b4",
       "version_major": 2,
       "version_minor": 0
      },
      "text/plain": [
       "A Jupyter Widget"
      ]
     },
     "metadata": {},
     "output_type": "display_data"
    },
    {
     "name": "stdout",
     "output_type": "stream",
     "text": [
      "\n",
      "processing pairs...\n"
     ]
    },
    {
     "data": {
      "application/vnd.jupyter.widget-view+json": {
       "model_id": "0b900dcf36f64360acd8e3d2c29efc40",
       "version_major": 2,
       "version_minor": 0
      },
      "text/plain": [
       "A Jupyter Widget"
      ]
     },
     "metadata": {},
     "output_type": "display_data"
    },
    {
     "name": "stdout",
     "output_type": "stream",
     "text": [
      "\n",
      "making graph...\n"
     ]
    }
   ],
   "source": [
    "grs = [hu.graph_from_raw(\"../data/student_Dvyg/EC/pairs_4/\" + n, split='\\t') for n in [x.split(\".\")[0] for x in names[3:4]]]"
   ]
  },
  {
   "cell_type": "code",
   "execution_count": 60,
   "metadata": {},
   "outputs": [
    {
     "data": {
      "image/png": "[encoded data removed]",
      "text/plain": [
       "<matplotlib.figure.Figure at 0x7f8954bdef98>"
      ]
     },
     "metadata": {},
     "output_type": "display_data"
    }
   ],
   "source": [
    "for gr_ in grs:\n",
    "    pu.plot_gr(gr_[0][:100, :100], log = 1)"
   ]
  },
  {
   "cell_type": "code",
   "execution_count": 75,
   "metadata": {},
   "outputs": [
    {
     "name": "stdout",
     "output_type": "stream",
     "text": [
      "24565.0\n",
      "12113.0\n",
      "102967.0\n",
      "24649.0\n"
     ]
    }
   ],
   "source": [
    "for gr_ in grs:\n",
    "    print(gr_[0].sum())"
   ]
  },
  {
   "cell_type": "code",
   "execution_count": null,
   "metadata": {},
   "outputs": [],
   "source": []
  },
  {
   "cell_type": "code",
   "execution_count": 116,
   "metadata": {},
   "outputs": [],
   "source": [
    "with open(\"../data/student_Dvyg/EC/gz/25_0_0_grep\") as f:\n",
    "    lines = [x[:-1] for x in f.readlines()]"
   ]
  },
  {
   "cell_type": "code",
   "execution_count": 119,
   "metadata": {},
   "outputs": [],
   "source": [
    "def split_read(read, quality, repeat, e=2, v=0):\n",
    "    repeat, repeat_s, repeat_e = repeat.r, repeat.rs, repeat.re\n",
    "    repeat_pos = find(repeat, read, e)\n",
    "    \n",
    "    if v: print(repeat_pos)\n",
    "    if len(repeat_pos) == 0:\n",
    "        return [-1, -1], [-1, -1]\n",
    "\n",
    "    else:\n",
    "        repeat_pos = repeat_pos[0]\n",
    "        read_left = read[:repeat_pos[0]]\n",
    "        q_left = quality[:repeat_pos[0]]\n",
    "        \n",
    "        read_right = read[repeat_pos[1]:]\n",
    "        q_right = quality[repeat_pos[1]:]\n",
    "        \n",
    "        \n",
    "        repeat_pos_l = find(repeat_e, read_left, e)\n",
    "        if v: print(repeat_pos_l)\n",
    "        if len(repeat_pos_l) == 0:\n",
    "            left_spacer = -1\n",
    "            left_sp_q = -1\n",
    "        else:\n",
    "            left_spacer = read_left[repeat_pos_l[0][1]:]\n",
    "            left_sp_q = q_left[repeat_pos_l[0][1]:]\n",
    "            \n",
    "        \n",
    "        repeat_pos_r = find(repeat_s, read_right, e)\n",
    "        if v: print(repeat_pos_r)\n",
    "        if len(repeat_pos_r) == 0:\n",
    "            right_spacer = -1\n",
    "            right_sp_q = -1\n",
    "        else:\n",
    "            right_spacer = read_right[:repeat_pos_r[0][0]]\n",
    "            right_sp_q = q_right[:repeat_pos_r[0][0]]\n",
    "            \n",
    "        if left_spacer != -1 and len(left_spacer) <= 10:\n",
    "            left_spacer = -1\n",
    "        if right_spacer != -1 and len(right_spacer) <= 10:\n",
    "            right_spacer = -1\n",
    "        \n",
    "        return [left_spacer, right_spacer], [left_sp_q, right_sp_q]"
   ]
  },
  {
   "cell_type": "code",
   "execution_count": 123,
   "metadata": {},
   "outputs": [
    {
     "name": "stdout",
     "output_type": "stream",
     "text": [
      "[]\n"
     ]
    },
    {
     "data": {
      "text/plain": [
       "([-1, -1], [-1, -1])"
      ]
     },
     "execution_count": 123,
     "metadata": {},
     "output_type": "execute_result"
    }
   ],
   "source": [
    "split_read(lines[0], lines[0], ecoli_r, e = 4, v = 1)"
   ]
  },
  {
   "cell_type": "code",
   "execution_count": 124,
   "metadata": {},
   "outputs": [
    {
     "data": {
      "text/plain": [
       "'CGCTAGCGCGGGGAACTCACATGAATGTCGGTTCAGACCGTGTTTTTACCCGGTTTATCCCCGCTGGCGCGGGGAACACAGTGCTGGACCATTTCAAATTCACAATAGATTCGGTTTATCCCCGCTGGCGCAGATCGGAAGAGCGTAGATC'"
      ]
     },
     "execution_count": 124,
     "metadata": {},
     "output_type": "execute_result"
    }
   ],
   "source": [
    "lines[0]"
   ]
  },
  {
   "cell_type": "code",
   "execution_count": 127,
   "metadata": {},
   "outputs": [
    {
     "data": {
      "text/plain": [
       "'GWGTTCCCCGCGCCAGCGGGGATAAACCG'"
      ]
     },
     "execution_count": 127,
     "metadata": {},
     "output_type": "execute_result"
    }
   ],
   "source": [
    "ecoli_r.rc"
   ]
  },
  {
   "cell_type": "code",
   "execution_count": null,
   "metadata": {},
   "outputs": [],
   "source": [
    "CGGTTTATCCCCGCTGGCGCGGGGAACACCGTCCGGATCGGTTTCG"
   ]
  },
  {
   "cell_type": "code",
   "execution_count": 61,
   "metadata": {},
   "outputs": [],
   "source": [
    "answ = [\n",
    "    \"ACATGAATGTCGGTTCAGACCGTGTTTTTACC\tAGTGCTGGACCATTTCAAATTCACAATAGATT\tGGAATGATATTTCAATAAATAATTATAACAAT\tTTTTTGTTAATTGCGTTTGCCACGGTTTGCAA\tTGAGCGTCGGCGGCTCGCTGGATTTGCGCGG\tAATGCATCAGTTGAACACAAAAGTAGCTTTTC\tTAAACCACCAGCCAGACCACCAATTACCACAC\tGCGATGGATCAGGGTATTACACTCGACGGCGG\",\n",
    "    \"ACATGAATGTCGGTTCAGACCGTGTTTTTACC\tAGTGCTGGACCATTTCAAATTCACAATAGATT\tGGAATGATATTTCAATAAATAATTATAACAAT\tTTTTTGTTAATTGCGTTTGCCACGGTTTGCAA\tTGAGCGTCGGCGGCTCGCTGGATTTGCGCGG\tAATGCATCAGTTGAACACAAAAGTAGCTTTTC\tTTTTGCTGACACCGGCAATACTGAACGGCTGG\tACGGATTGCGGTATATGCAGTGTCCAGATTCT\tTAAACCACCAGCCAGACCACCAATTACCACAC\tGGGGATAACGGTTATCCACTGGCCGCCGATCT\tTGTAATAGCCTGATCTCTGATCTCCCTCGCCT\tCTGTCCCAGGCCGAGGCTGTATTTCAATCCTG\tGCGATGGATCAGGGTATTACACTCGACGGCGG\tGCTGCGGGTCAATCAACTGGAGTGCAAATCCCC\tGTCGCGCGCCGACGGGAATAAACCGAATAAATTT\tTCGTCAGGCACATACTGAGTTCGCAACAAA\",\n",
    "    \"CCCGCATTCAGACGTTTCAAATTGAGAGG\tCCGTCCACCCTGATAGCCGCCCTTGTGATC\tTACTGCTCCGCGGCGTTTCTCCCTCGCCCAG\tTCATTTCCCATGCAAAATGCTGCATTCCTGGC\tAGTGGCAGGCCGGTAATATGAAAACGACAGAG\tATCTTCTTGTTCAGGAACGTCAGTAGAGGTGT\tAGCATTAACCCCCACCAGCTCGACGTGTGTGG\tGCGGGCGTTAACGCGGTGATACTGTTTGACGG\tACCGAGCGCCGCTGGGAGGCGTATCTCACGTT\tTGAATGATCGGAAAGACGCTGCAAAGGCAATG\tTACCAAACCGGAATCGCTCCATATAACGGCGG\tCAACCCGGCGGCACGGTCAATCGTTGCGTCAG\tGACTCAAAACGGCGCAGGTCAAAATCGTTCAA\tGGTGAATACTGCGGCAGGCGCTGCGGGAATTG\",\n",
    "    \"AACATCGGAAACGGCTTCGCGGCGGCGGCGTC\tACGTGAAGAATATTTGCAACACCCGCAAGAA\tGGCATAGCCAGGCTGATCCGGCGACGGCCTTA\tGCCCGCCTCGTCGGTGTATTCCGCGAGATCGC\tGTTATCACCGAGTGCAGTAGCCCGCGCGCGCT\tGTCGCCGGGTTGATTTTCCATGATGATTTTTA\tGTAACGTGGCGACGACCGGCGATTGATTTCAG\tTCGAACCTGTTTTTCTTAGTGCGCGCAACGTC\tCGTCCGGATCGGTTTCGAGAATCTCTACGCTC\tGTTGTTGTAATAAAGCCCCGGAGTTTTATATC\tGGGTTGACGCCAGCGAACATTGACTCAGATGC\tTACAGTTAAGCGTAAAGTAAGTGATACTGGTG\tGTTTTCATTTGCACGAGCTGCACCATAAGAAG\"\n",
    "]"
   ]
  },
  {
   "cell_type": "code",
   "execution_count": 62,
   "metadata": {},
   "outputs": [],
   "source": [
    "answ = [x.split(\"\\t\") for x in answ]"
   ]
  },
  {
   "cell_type": "code",
   "execution_count": null,
   "metadata": {},
   "outputs": [],
   "source": []
  },
  {
   "cell_type": "code",
   "execution_count": 63,
   "metadata": {},
   "outputs": [],
   "source": [
    "g = grs[0]"
   ]
  },
  {
   "cell_type": "code",
   "execution_count": 64,
   "metadata": {},
   "outputs": [
    {
     "data": {
      "text/plain": [
       "{'CACCAGTATCACTTACTTTACGCTTAAC': 0,\n",
       " 'GCATCTGAGTCAATGTTCGCTGGCGTC': 1,\n",
       " 'GTGTGGTAATTGGTGGTCTGGCTGGTGG': 2,\n",
       " 'GAAAAGCTACTTTTGTGTTCAACTGATG': 3,\n",
       " 'GCATCTGAGTCAATGTTCGCTGGCGTCA': 1,\n",
       " 'CCGCGCAAATCCAGCGAGCCGCCGAC': 4,\n",
       " 'GAAAAGCTACTTTTGTGTTCAACTGAT': 3,\n",
       " 'CTTCTTATGGTGCAGCTCGTGCAAATGA': 5,\n",
       " 'GACGTTGCGCGCACTAAGAAAAACAGGT': 6,\n",
       " 'GAGCGTAGAGATTCTCGAAACCGATCCG': 7,\n",
       " 'CACCAGTATCACTTACTTTACGCTTAA': 0,\n",
       " 'CTGAAATCAATCGCCGGTCGTCGCCAC': 8,\n",
       " 'GATATAAAACTCCGGGGCTTTATTACA': 9,\n",
       " 'GACGTTGCGCGCACTAAGAAAAACAGG': 6,\n",
       " 'CTGAAATCAATCGCCGGTCGTCGCCACG': 8,\n",
       " 'TAAAAATCATCATGGAAAATCAACCCGG': 10,\n",
       " 'AGCGCGCGCGGGCTACTGCACTCGGTG': 11,\n",
       " 'TAAAAATCATCATGGAAAATCAACCCG': 10,\n",
       " 'GATATAAAACTCCGGGGCTTTATTACAA': 9,\n",
       " 'TTGCAAACCGTGGCAAACGCAATTAACA': 12,\n",
       " 'AGCGCGCGCGGGCTACTGCACTCGGTGA': 11,\n",
       " 'CCGCCGTCGAGTGTAATACCCTGATCCA': 13,\n",
       " 'CCGCGCAAATCCAGCGAGCCGCCGACG': 4,\n",
       " 'GAGCGTAGAGATTCTCGAAACCGATCC': 7,\n",
       " 'GTGTGGTAATTGGTGGTCTGGCTGGTG': 2,\n",
       " 'ATTGTTATAATTATTTATTGAAATATC': 14,\n",
       " 'GCGATCTCGCGGAATACACCGACGAGG': 15,\n",
       " 'TTGCAAACCGTGGCAAACGCAATTAAC': 12,\n",
       " 'ATTGTTATAATTATTTATTGAAATATCA': 14,\n",
       " 'AATCTATTGTGAATTTGAAATGGTCCA': 16,\n",
       " 'AATCTATTGTGAATTTGAAATGGTCCAG': 16,\n",
       " 'GGTAAAAACACGGTCTGAACCGACATT': 17,\n",
       " 'GCATCTGAGTCAATGTTCGCTGGCGTCAA': 1,\n",
       " 'CACCAGTATCACTTACTTTACGCTTAACT': 0,\n",
       " 'GAAAAGCTACTTTTGTGTTCAACTGATGC': 3,\n",
       " 'GCGATCTCGCGGAATACACCGACGAGGC': 15,\n",
       " 'TTGTCGGGGATCTGTTCAAACTGACTCA': 18,\n",
       " 'CTGAAATCAATCGCCGGTCGTCGCCACGT': 8,\n",
       " 'GACGTTGCGCGCACTAAGAAAAACAGGTT': 6,\n",
       " 'GATATAAAACTCCGGGGCTTTATTACAAC': 9,\n",
       " 'GTGTGGTAATTGGTGGTCTGGCTGGTGGT': 2,\n",
       " 'GCATCTGAGTCAATGTTCGCTGGCGTCAAC': 1,\n",
       " 'GCATCTGAGTCAATGTTCGCTGGCGTCAACC': 1,\n",
       " 'CAGCTCGCAGCGCTCGGAACGTGGCGC': 19,\n",
       " 'TAAAAATCATCATGGAAAATCAACCCGGC': 10,\n",
       " 'CTTCTTATGGTGCAGCTCGTGCAAATGAA': 5,\n",
       " 'CCGCGCAAATCCAGCGAGCCGCCGACGC': 4,\n",
       " 'GAGCGTAGAGATTCTCGAAACCGATCCGG': 7,\n",
       " 'AGCGCGCGCGGGCTACTGCACTCGGTGAT': 11,\n",
       " 'CCAAAAATGCGCCCCATGCGCACAAATTC': 20,\n",
       " 'GATATAAAACTCCGGGGCTTTATTACAACAA': 9,\n",
       " 'GAAAAGCTACTTTTGTGTTCAACTGATGCAT': 3,\n",
       " 'CCCCGCACACGTAAAGGCGTCGGCATG': 21,\n",
       " 'CCGCGCAAATCCAGCGAGCCGCCGACGCTC': 4,\n",
       " 'ATTGTTATAATTATTTATTGAAATATCAT': 14,\n",
       " 'CCGCGCAAATCCAGCGAGCCGCCGACGCT': 4,\n",
       " 'CCGCCGTCGAGTGTAATACCCTGATCC': 13,\n",
       " 'CTGAAATCAATCGCCGGTCGTCGCCACGTTA': 8,\n",
       " 'CCGCCGTCGAGTGTAATACCCTGATCCAT': 13,\n",
       " 'TTGCAAACCGTGGCAAACGCAATTAACAA': 12,\n",
       " 'GAAAAGCTACTTTTGTGTTCAACTGATGCA': 3,\n",
       " 'CACCAGTATCACTTACTTTACGCTTAACTG': 0,\n",
       " 'TAAAAATCATCATGGAAAATCAACCCGGCG': 10,\n",
       " 'GATATAAAACTCCGGGGCTTTATTACAACA': 9,\n",
       " 'CACCAGTATCACTTACTTTACGCTTAACTGT': 0,\n",
       " 'CCAGCGCCAGACGGGAACACAATTTTAA': 22,\n",
       " 'TTCTTGCGGGTGTTGCAAATATTCTTCAC': 23,\n",
       " 'CCCCGCACACGTAAAGGCGTCGGCATGGA': 21,\n",
       " 'TAAAAATCATCATGGAAAATCAACCCGGCGA': 10,\n",
       " 'AATCTATTGTGAATTTGAAATGGTCCAGC': 16,\n",
       " 'GACGTTGCGCGCACTAAGAAAAACAGGTTC': 6,\n",
       " 'AGCGCGCGCGGGCTACTGCACTCGGTGATAA': 11,\n",
       " 'CCAGCGCCAGACGGGAACACAATTTTA': 22,\n",
       " 'TAAGGCCGTCGCCGGATCAGCCTGGCTAT': 24,\n",
       " 'CAGCTCGCAGCGCTCGGAACGTGGCGCT': 19,\n",
       " 'CTGAAATCAATCGCCGGTCGTCGCCACGTT': 8,\n",
       " 'GGTAAAAACACGGTCTGAACCGACATTC': 17,\n",
       " 'GCGATCTCGCGGAATACACCGACGAGGCG': 15,\n",
       " 'AGCGCGCGCGGGCTACTGCACTCGGTGATA': 11,\n",
       " 'TCGCTATTGCCGGTAGTGTCGCTGATA': 25,\n",
       " 'TTGTCGGGGATCTGTTCAAACTGACTC': 18,\n",
       " 'GACGCCGCCGCCGCGAAGCCGTTTCCG': 26,\n",
       " 'TTGCAAACCGTGGCAAACGCAATTAACAAAA': 12,\n",
       " 'GCGATCTCGCGGAATACACCGACGAGGCGG': 15,\n",
       " 'TTATCGCACCGTGTTAAACCGGCAGAAA': 27,\n",
       " 'GTGTGGTAATTGGTGGTCTGGCTGGTGGTT': 2,\n",
       " 'GACGTTGCGCGCACTAAGAAAAACAGGTTCG': 6,\n",
       " 'TTCTTGCGGGTGTTGCAAATATTCTTC': 23,\n",
       " 'TAAGGCCGTCGCCGGATCAGCCTGGCT': 24,\n",
       " 'TTGCAAACCGTGGCAAACGCAATTAACAAA': 12,\n",
       " 'GGCTTACACGCCACCATGGCATCAAGA': 28,\n",
       " 'GAGCGTAGAGATTCTCGAAACCGATCCGGAC': 7,\n",
       " 'ACGGGGACGAATCACAGCAGCGTTATCG': 29,\n",
       " 'CCGTTGCGCTGGCATCGGGTGTACCTGT': 30,\n",
       " 'ATTGTTATAATTATTTATTGAAATATCATT': 14,\n",
       " 'GTGTGGTAATTGGTGGTCTGGCTGGTGGTTT': 2,\n",
       " 'GAGCGTAGAGATTCTCGAAACCGATCCGGA': 7,\n",
       " 'AGCGTTTGCTCCGGGTGGAATAACCCTGGC': 31,\n",
       " 'TTTGCTGGAACCCAAAACTCAGCGCAC': 32,\n",
       " 'CGTGCCTTCGACTTTGCGGATCACGTC': 33,\n",
       " 'ACGGGGACGAATCACAGCAGCGTTATC': 29,\n",
       " 'ATTGTTATAATTATTTATTGAAATATCATTC': 14,\n",
       " 'CGTGCCTTCGACTTTGCGGATCACGTCG': 33,\n",
       " 'CCTCTCAATTTGTAACGTCTGCAATGT': 34,\n",
       " 'AATCTATTGTGAATTTGAAATGGTCCAGCAC': 16,\n",
       " 'GAGGCGGCTAAACCGTCGCGCACACGAG': 35,\n",
       " 'ATTACGACTTCCGCACGCACCCACCGTT': 36,\n",
       " 'TTGTCGGGGATCTGTTCAAACTGACTCAT': 18,\n",
       " 'CTTCTTATGGTGCAGCTCGTGCAAATGAAA': 5,\n",
       " 'CGTACTGCTTACTCCGTCATCGATGTA': 37,\n",
       " 'GAAAAGCTACTTTTGTGCTCAACTGAT': 3,\n",
       " 'GGTAAAAACACGGTCTGAACCGACATTCAT': 17,\n",
       " 'GACCAGTATCACTTACTTTACGCTTAAC': 0,\n",
       " 'GGTAAAAACACGGTCTGAACCGACATTCATG': 17,\n",
       " 'GCGATCTCGCGGAATACACCGACGAGGCGGG': 15,\n",
       " 'AATCTATTGTGAATTTGAAATGGTCCAGCA': 16,\n",
       " 'TAAAAATCATCATGGAAAATCAACCC': 10,\n",
       " 'CCGTTGCGCTGGCATCGGGTGTACCTG': 30,\n",
       " 'TTATCGCACCGTGTTAAACCGGCAGAA': 27,\n",
       " 'ACTATCGGCGCTGTTCAGTTGGGACAGA': 38,\n",
       " 'CTTCTTATGGTGCAGCTCGTGCAAATG': 5,\n",
       " 'GAAAAGCTACTTTTGTGTTTAACTGATG': 3,\n",
       " 'GAAAAGCTACTTTTGTGCTCAACTGATG': 3,\n",
       " 'CAGCTCGCAGCGCTCGGAACGTGGCGCTA': 19,\n",
       " 'CACCAGTATCACTTACTTTACGCTTAGC': 0,\n",
       " 'TTGCAAACCGCGGCAAACGCAATTAAC': 12,\n",
       " 'GGCTTACACGCCACCATGGCATCAAGAA': 28,\n",
       " 'TTGGGCTAGGAGGAAGAGCATCATTAAC': 39,\n",
       " 'GTGTGGTAATTGGTGGTCCGGCTGGTG': 2,\n",
       " 'GGCGTCCAGTGATGCTTTCTGGTGCTC': 40,\n",
       " 'GAGAAGCTACTTTTGTGTTCAACTGATG': 3,\n",
       " 'CACCAGTATCACTTACCTTACGCTTAAC': 0,\n",
       " 'GTGTGGTAATTGGTGGCCTGGCTGGTGG': 2,\n",
       " 'GGCGCACTGGATGCGATGATGGATATC': 41,\n",
       " 'TACGTGTCGCCGTTACAGATTTCAGTC': 42,\n",
       " 'CCGCGCAAATCCGGCGAGCCGCCGAC': 4,\n",
       " 'CACCAGTACCACTTACTTTACGCTTAAC': 0,\n",
       " 'CACCAGTATCACTGACTTTACGCTTAAC': 0,\n",
       " 'GAAAAGCTACTTTTGTGTTCAACTGGT': 3,\n",
       " 'GACATTGCGCGCACTAAGAAAAACAGGT': 6,\n",
       " 'GACGTTGCGCGCGGGCTACTGCACTCGGTG': 11,\n",
       " 'GTGTGGTAATTGGTGGTCTGGCTGATGG': 2,\n",
       " 'GGCGTTGCGCGCACTAAGAAAAACAGGT': 6,\n",
       " 'CGTACTGCTTACTCCGTCATCGATGTAT': 37,\n",
       " 'CGCCAGTATCACTTACTTTACGCTTAA': 0,\n",
       " 'CACTAGTATCACTTACTTTACGCTTAAC': 0,\n",
       " 'ACATCTGAGTCAATGTTCGCTGGCGTC': 1,\n",
       " 'CTTCTTATGGTGCAACTCGTGCAAATGA': 5,\n",
       " 'CACCAGTATCATTTACTTTACGCTTAA': 0,\n",
       " 'AATCTATTGTGAATTTGAAATGGTCC': 16,\n",
       " 'TAAGGCCGTCGCCGGATCAGCCTGGCTA': 24,\n",
       " 'GAAAGGCTACTTTTGTGTTCAACTGAT': 3,\n",
       " 'GATATAAAACTCCGGGACTTTATTACA': 9,\n",
       " 'AGCGCGCGCGGGCTACCGCACTCGGTG': 11,\n",
       " 'GACGTTGCGCGCACTAGGAAAAACAGG': 6,\n",
       " 'GAGCGTAGAAATTCTCGAAACCGATCCG': 7,\n",
       " 'GCACCTGAGTCAATGTTCGCTGGCGTC': 1,\n",
       " 'GCGTGGTAATTGGTGGTCTGGCTGGTGG': 2,\n",
       " 'GCGTTTCTGGCGGGGGTAGGGAACGCCCA': 43,\n",
       " 'GCGTTTCTGGCGGGGGTAGGGAACGCC': 43,\n",
       " 'ATTACGACTTCCGCACGCACCCACCGT': 36,\n",
       " 'GGTAAAAACACGGTCTGAACCGACATTCA': 17,\n",
       " 'GAGCCTGACGAGACTACTGAGGCCGTT': 44,\n",
       " 'CCCCGCACACGTAAAGGCGTCGGCATGGAT': 21,\n",
       " 'GCGTGGTAATTGGTGGTCTGGCTGGTG': 2,\n",
       " 'GGCGTCCAGTGATGCTTTCTGGTGCTCG': 40,\n",
       " 'CACGATTTTATGTGCCGCGTTGAGGCG': 45,\n",
       " 'GCATCTGAGCCAATGTTCGCTGGCGTC': 1,\n",
       " 'AACTCCAGGATATTGCAAACCGCATAGT': 46,\n",
       " 'GATATAAAACTCCGGGGCTTTATTACAG': 9,\n",
       " 'CTGCGCAAATCCAGCGAGCCGCCGAC': 4,\n",
       " 'GGCGTTGCGCGCACTAAGAAAAACAGG': 6,\n",
       " 'GATATAAAACTCTGGGGCTTTATTACA': 9,\n",
       " 'CCCCGCACACGTAAAGGCGTCGGCATGG': 21,\n",
       " 'TATGATTCACGAATTACAGGAAACCAGCCG': 47,\n",
       " 'ATTGTTATAATTATTTATTGCAATATC': 14,\n",
       " 'GAGCGTAGGGATTCTCGAAACCGATCCG': 7,\n",
       " 'CACCAGTATCGCTTACTTTACGCTTAA': 0,\n",
       " 'TTCTTGCGGGTGTTGCAAATATTCTTCA': 23,\n",
       " 'TAAAAATCATTATGGAAAATCAACCCGG': 10,\n",
       " 'GATATAAAACTCCGGGGCTTTATTATAA': 9,\n",
       " 'CTTCTTATGGTGCAGCTCGTGCAAATGAAAA': 5,\n",
       " 'CTATCGGGGTGATTCTGCCAATGCTCA': 48,\n",
       " 'ATTGTTATAATTATTTATTGAAATATT': 14,\n",
       " 'GATATAAAACTCCGAGGCTTTATTACA': 9,\n",
       " 'CTTCTTATGGTGCAGCTCGCGCAAATGA': 5,\n",
       " 'ACGGGGACGAATCACAGCAGCGTTATCGT': 29,\n",
       " 'CCGCCGTCGAGTGTAATACCCTGATCAA': 13,\n",
       " 'TAAAAATCATCATGAAAATCAACCCGG': 10,\n",
       " 'GAGCGTAGAGATTCTCGAAACTGATCCG': 7,\n",
       " 'GAGCGTAGAGATTCCCGAAACCGATCCG': 7,\n",
       " 'CATCTGAGTCAATGTTCGCTGGCGTCA': 1,\n",
       " 'GTGTGATAATTGGTGGTCTGGCTGGTG': 2,\n",
       " 'GATATAAAACTCCTGGGCTTTATTACA': 9,\n",
       " 'CTGAAATCAATCGCCAGTCGTCGCCAC': 8,\n",
       " 'AGCGTAGAGATTCTCGAAACCGATCCG': 7,\n",
       " 'GAAAAGCTACTTTTGTGTTCAACAGATG': 3,\n",
       " 'GCATCTGAGTCAATGTTCGCTAGCGTC': 1,\n",
       " 'CCGCGCAAATCCAGTGAGCCGCCGAC': 4,\n",
       " 'GAAAAAAGCTTCTTTTGTGTTCAACTGATG': 3,\n",
       " 'CACCAGTATCACTTACTTTACGCTTAG': 0,\n",
       " 'ATGACCATTGGTGAACGCATCCGCTTTC': 49,\n",
       " 'GAAAAGCTACCTTTGTGTTCAACTGATG': 3,\n",
       " 'CACCAGTATCACTTACTTTTGTGTTCAACTGATG': 50,\n",
       " 'TTGGGCTAGGAGGAAGAGCATCATTAA': 39,\n",
       " 'AGCGCGCGTGGGCTACTGCACTCGGTGA': 11,\n",
       " 'AGCGCGCGCGGGCTACTGCACTCGGTA': 11,\n",
       " 'GATGTTGCGCGCACTAAGAAAAACAGG': 6,\n",
       " 'TAAAAATCATCATGGAAAATCAATCGCCGGTCGTCGCCAC': 51,\n",
       " 'CTGAAATCAATCGCCGATCGTCGCCACG': 8,\n",
       " 'TTCTTGCGGGTGTTGCAAATATTCTTCACG': 23,\n",
       " 'GAAAAGCTACTTTTGTGTTCAACTGAC': 3,\n",
       " 'GACGCCGCCGCCGCGAAGCCGTTTCCGA': 26,\n",
       " 'GCATCTGAGTCAGTGTTCGCTGGCGTCA': 1,\n",
       " 'TAAAATCATCATGGAAAATCAACCCGG': 10,\n",
       " 'CACCAGTATCACTTATTTTACGCTTAAC': 0,\n",
       " 'AGCGCGCGCTGGCTACTGCACTCGGTG': 11,\n",
       " 'GAAAAGCTACTTTTGTGTTTAACTGAT': 3,\n",
       " 'GAGCGTAGAGATTCTAGAAACCGATCCG': 7,\n",
       " 'GACGTTGCGCGCACTAAGAAAAATAGGT': 6,\n",
       " 'AATCTTTTGTGAATTTGAAATGGTCCAG': 16,\n",
       " 'GAAAAGCTACTTTTGTGTCCAACTGATG': 3,\n",
       " 'CACCAGTATCACTTTCTTTACGCTTAAC': 0,\n",
       " 'GATATAAAACTCCGAGGCTTTATTACAA': 9,\n",
       " 'CGTGCCTTCGACTTTGCGGATCACGTCGTC': 33,\n",
       " 'TAAAAATTATCATGGAAAATCAACCCG': 10,\n",
       " 'GACGCCGCCGCCGCGAAGCCGTTTCCGAT': 26,\n",
       " 'AATCTACTGTGAATTTGAAATGGTCCA': 16,\n",
       " 'GAAAAGTTACTTTTGTGTTCAACTGAT': 3,\n",
       " 'TAAAAATTATCATGGAAAATCAACCCGG': 10,\n",
       " 'CATCAGTATCACTTACTTTACGCTTAAC': 0,\n",
       " 'TTGCAAACCGTGGCAAACACAATTAAC': 12,\n",
       " 'GTGTGGTAATTGGCGGTCTGGCTGGTGG': 2,\n",
       " 'CACCAGTATCACCTACTTTACGCTTAAC': 0,\n",
       " 'AGCGCGCGCGGGCTACTGCAATCGGTG': 11,\n",
       " 'GGGCGTAGAGATTCTCGAAACCGATCC': 7,\n",
       " 'AGCGTGCGCGGGCTACTGCACTCGGTG': 11,\n",
       " 'GATATAAAACTCCTGGGCTTTATTACAA': 9,\n",
       " 'GAGCGTAGAGATTCTCGAAACCGGTCCG': 7,\n",
       " 'CACCAGTATCACTTACTTTATGCTTAAC': 0,\n",
       " 'AATCTATTGCGAATTTGAAATGGTCCA': 16,\n",
       " 'CACCAATATCACTTACTTTACGCTTAA': 0,\n",
       " 'CCGCGCAAATCCAGCGAGCCGCCGAT': 4,\n",
       " 'GCATCTGAGTTAATGTTCGCTGGCGTCA': 1,\n",
       " 'CTTCTTATGGTGCAGCTCGTGCGAATGA': 5,\n",
       " 'GCATCTGAGTAAATGTTCGCTGGCGTCA': 1,\n",
       " 'ATTGTTATAATTATTTATTGAAATGGTCCAGCA': 52,\n",
       " 'CCAAAAATGCGCCCCATGCGCACAAATTCG': 20,\n",
       " 'CCGACGTGGGGATTTACTGCCACGCAT': 53,\n",
       " 'AGCGCGCGCGGGCCACTGCACTCGGTG': 11,\n",
       " 'GCATCTGAGTCAATGCTCGCTGGCGTC': 1,\n",
       " 'GCATCTGAGTCAATGTTCGCTGGCTTC': 1,\n",
       " 'GACGTTGCGCGCACTAAGAAAAACAG': 6,\n",
       " 'AGCGTGCGCGGGCTACTGCACTCGGTGA': 11,\n",
       " 'GAGCGTAGAGATTCTCGAAACCGATCAG': 7,\n",
       " 'GAAAAGCTGCTTTTGTGTTCAACTGAT': 3,\n",
       " 'GTGTGGTAATTGGTGGTCTGGCTAGTGG': 2,\n",
       " 'CTGAAATCAATCGCCGGTCGTCGCCAT': 8,\n",
       " 'TTGAAATCAATCGCCGGTCGTCGCCACG': 8,\n",
       " 'CACCAGTATCACTTACTTTACGTTTAAC': 0,\n",
       " 'GCATCTGACTCAATGTTCGCTGGCGTCA': 1,\n",
       " 'TAAAAATCATCATGCAAAATCAACCCGG': 10,\n",
       " 'TTACAAACCGTGGCAAACGCAATTAACA': 12,\n",
       " 'GACGTTGCGCACACTAAGAAAAACAGGT': 6,\n",
       " 'CCGCGCAGATCCAGCGAGCCGCCGAC': 4,\n",
       " 'CCATCTGAGTCAATGTTCGCTGGCGTCA': 1,\n",
       " 'TCGCGCAAATCCAGCGAGCCGCCGAC': 4,\n",
       " 'CTGAAATCAATCGCCGGCCGTCGCCAC': 8,\n",
       " 'CCCCGCACACGTAAAGGCGTCGGCATGGATG': 21,\n",
       " 'TAAAAATCATCATGGAAGATCAACCCG': 10,\n",
       " 'GCATCTGAGTCAATGTTCGCTAGCGTCA': 1,\n",
       " 'GCATCTGAGTCAATGTTCGGTGGCGTC': 1,\n",
       " 'GTGTGGTCATTAGTGGTCTGGCTGGTGG': 2,\n",
       " 'GAGCGTAGAGATTCTCGAAACCGATACG': 7,\n",
       " 'CACCAGTATCACTTACGTTACGCTTAA': 0,\n",
       " 'CACCAGTAGCCCTTACTTTACGCTTAAC': 0,\n",
       " 'TTGCAAACCGTGGCAAACGCAATCAACA': 12,\n",
       " 'GACGTTGCGCGCACTAAGAAAAAGAGG': 6,\n",
       " 'TTGCAAACCGTGGCAAACGCAATTCAC': 12,\n",
       " 'GACGTTGCGAGCACTAAGAAAAACAGGT': 6,\n",
       " 'CCGCGCAAATCCTGCGAGCCGCCGACG': 4,\n",
       " 'CCGCGCAAATCCAGTGAGCCGCCGACG': 4,\n",
       " 'GCATCTGAGGCAATGTTCGCTGGCGTC': 1,\n",
       " 'CACCAGTATCACTTACTTTACGCTCAA': 0,\n",
       " 'CCGCAGTCGAGTGTAATACCCTGATCCA': 13,\n",
       " 'CTGAAACCAATCGCCGGTCGTCGCCACG': 8,\n",
       " 'GACGTTGTGCGCACTAAGAAAAACAGGT': 6,\n",
       " 'GACGTTGCGCGCACTAAGAAAGACAGGT': 6,\n",
       " 'TTGCAAACCGTGGCAAACGCAATTAACG': 12,\n",
       " 'GCATCTGAGTCAATGTTCGCAGGCGTCA': 1,\n",
       " 'TTGGGCTAGGAGGAAGAGCATCATTAACA': 39,\n",
       " 'GCATCTGGGTCAATGTTCGCTGGCGTC': 1,\n",
       " 'ATTGTTATAATTATTTATTGAAATACCA': 14,\n",
       " 'CTTCTTATGGTGCAGCTCGTGCAACTGA': 5,\n",
       " 'GCATCTGAGTCAATGTTCGCTGGCGTCG': 1,\n",
       " 'GACGTTGCGCGCGGGCTACTGCACTCGGTGATAA': 54,\n",
       " 'GAGCGTAGAGATTCTCGAAACCGATTC': 7,\n",
       " 'TAAAAATCATCATGGAAAATCAATCCGG': 10,\n",
       " 'CTAAAATCAATCGCCGGTCGTCGCCAC': 8,\n",
       " 'CTGAAATCAATCGCCGGTCGTCGCCATG': 8,\n",
       " 'GAAAAGCTACTTTTGTGTTCAACTGCTG': 3,\n",
       " 'GAAAAGCTACTTTTGTGTTCAACTGATCCA': 3,\n",
       " 'AGCGCGCGCAGGCTACTGCACTCGGTG': 11,\n",
       " 'CTGAAATCAATCGCCGGTCTTCGCCAC': 8,\n",
       " 'GCACCTGAGTCAATGTTCGCTGGCGTCA': 1,\n",
       " 'TACGTGTCGCCGTTACAGATTTCAGTCT': 42,\n",
       " 'AGCGCGCGCGAGCTACTGCACTCGGTG': 11,\n",
       " 'GACGTTGCGCGCACTAAGAAGAACAGGT': 6,\n",
       " 'GAGCGTAGCGATTCTCGAAACCGATCCG': 7,\n",
       " 'GATGTTGCGCGCACTAAGAAAAACAGGT': 6,\n",
       " 'TCGCTATTGCCGGTAGTGTCGCTGATAGA': 25,\n",
       " 'CTGAAATCAATCGCCGGTCGTCGCTAC': 8,\n",
       " 'TTGCAAACCGTGGCAAACGCAATTAA': 12,\n",
       " 'GCATCTGAGTCAATGTTCGCTGGCGCCA': 1,\n",
       " 'AACGGCTACGGCACCGAGGTGACAAACC': 55,\n",
       " 'TAAAAATCATCACGGAAAATCAACCCGG': 10,\n",
       " 'AAGCTATTGTGAATTTGAAATGGTCCA': 16,\n",
       " 'CTGAAATCAGTCGCCGGTCGTCGCCAC': 8,\n",
       " 'AATCTATTGTGAACTTGAAATGGTCCAG': 16,\n",
       " 'AGCGCGCGCGGGCTACTGCACTTGGTGA': 11,\n",
       " 'TAAAAATCATCATGAAAAATCAACCCG': 10,\n",
       " 'CTTCTTGTGGTGCAGCTCGTGCAAATGA': 5,\n",
       " 'GAAAAGCTACTTTTGTGTTCAACTGACG': 3,\n",
       " 'AACGCGCGCGGGCTACTGCACTCGGTGA': 11,\n",
       " 'GAAAAGCTACTTTGTGTTCAACTGAT': 3,\n",
       " 'CACCGGTATCACTTACTTTACGCTTAAC': 0,\n",
       " 'GCATCTGAGTCAATGTTTGCTGGCGTC': 1,\n",
       " 'GTGTGGAATTGGTGGTCTGGCTGGTGG': 2,\n",
       " 'GCATTTGAGTCAATGTTCGCTGGCGTCA': 1,\n",
       " 'GCGATCTCGCGGAATACACCGACAAGG': 15,\n",
       " 'CACCAGTATCACTTAATTTACGCTTAAC': 0,\n",
       " 'GTGTGGTAATTGGTGGTCTGGCTGGCG': 2,\n",
       " 'GCGATCTCGCGGAATACACTGACGAGG': 15,\n",
       " 'TAAGGCCGTCGCCGGATCAGCCTGGCTATG': 24,\n",
       " 'CACCAGTATCACTTACTTTATGCTTAA': 0,\n",
       " 'TCAGCTTTATAAATCCGGAGATACGGAA': 56,\n",
       " 'GACGTTGCGCGCACTAGGAAAAACAGGT': 6,\n",
       " 'GACGTTGCGCGCACTAAGAAAAACTGAT': 6,\n",
       " 'GACGTTGCGCGCGCTAAGAAAAACAGGT': 6,\n",
       " 'AGCGCGCGCGGGCTACCGCACTCGGTGA': 11,\n",
       " 'CACCAGTATCACTTACTTTACGCTCAAC': 0,\n",
       " 'GACTCACCCCGAAAGAGATTGCCAGCC': 57,\n",
       " 'TTGCAAACCGTGGCAAACGCAATTAATAA': 12,\n",
       " 'GCATCTGAGTCAGTGTTCGCTGACGTCA': 1,\n",
       " 'GAGCGTAGGGATTCTCGAAACCGATCC': 7,\n",
       " 'GCATCTGAGTCAATGTTCGCTGGCGTT': 1,\n",
       " 'AACGCGCGCGGGCTACTGCACTCGGTG': 11,\n",
       " 'CACCAGTATCACTTACTTTACACTTAAC': 0,\n",
       " 'CTGAAATCAATCGACGGTCGTCGCCAC': 8,\n",
       " 'CCGCGCAAATCCAGCGAGCCGTCGACG': 4,\n",
       " 'CTTCTTATGGTACAGCTCGTGCAAATGA': 5,\n",
       " 'GACGTTGCGCGCACTAAGAAAAACATGTT': 6,\n",
       " 'GATATAAAACTCCGGGGCTTTACTACAA': 9,\n",
       " 'TTGCAAACCGTGACAAACGCAATTAAC': 12,\n",
       " 'CTGAAATTAATCGCCGGTCGTCGCCAC': 8,\n",
       " 'GCTACGGCTGGCGCGCTCGCAAAATGGG': 58,\n",
       " 'GACGTTGCGCGCACTAAGAAAACCAGGT': 6,\n",
       " 'ATTGTTATAGTTATTTATTGAAATATC': 14,\n",
       " 'CTTCTTATGGTGCAGCTCGTGCAGATGA': 5,\n",
       " 'TTGGGCTAGGAGGAAGAGCATCATTAACATG': 39,\n",
       " 'GCATCTGAGTCTATGTTCGCTGGCGTCA': 1,\n",
       " 'CCGCGCAAACCCAGCGAGCCGCCGAC': 4,\n",
       " 'GCCCGCGCATTTTCCCCGCCAGTCAGC': 59,\n",
       " 'GACGTTGCGTGCACTAAGAAAAACAGGT': 6,\n",
       " 'GACGTCGCGCGCACTAAGAAAAACAGGT': 6,\n",
       " 'TATGATTCACGAATTACAGGAAACCAG': 47,\n",
       " 'GAAAAGCTACTTCTGTGTTCAACTGATG': 3,\n",
       " 'TTCTTGCGGGTGTTGCAAATATTCGTC': 23,\n",
       " 'GACGTTGCGCGCACTTAGAAAAACAGGT': 6,\n",
       " 'GATATCAAACTCCGGGGCTTTATTACA': 9,\n",
       " 'GACGTTGCGCGCAAATCCAGCGAGCCGCCGACG': 60,\n",
       " 'GCATCTGAGTCAATGTTCGCTGACGTC': 1,\n",
       " 'CCTCTCAATTTGTAACGTCTGCAATGTCAGG': 34,\n",
       " 'TACGTGTCGCCGTTACAGATTTCAGTCTG': 42,\n",
       " 'CTTCTTATGGCGCAGCTCGTGCAAATGA': 5,\n",
       " 'GAGCCTGACGAGACTACTGAGGCCGTTC': 44,\n",
       " 'AGCGCGCGCGGACTACTGCACTCGGTGA': 11,\n",
       " 'GCATCTGAGTCAATGCTCGCTGGCGTCA': 1,\n",
       " 'CTTCTTATGTGCAGCTCGTGCAAATGA': 5,\n",
       " 'CCGCCGTCGAGCGTAATACCCTGATCCA': 13,\n",
       " 'GACGTTGCGCGCGCTAAGAAAAACAGG': 6,\n",
       " 'TTGCAGACCGTGGCAAACGCAATTAACA': 12,\n",
       " 'TAAAAATCATCATAGAAAATCAACCCG': 10,\n",
       " 'ATTGTTATAATTATTTATTGAAATGGTCCA': 52,\n",
       " 'AGCGCGCACGGGCTACTGCACTCGGTGA': 11,\n",
       " 'GCATCTGAGTCAATGTTCGCTGACGTCA': 1,\n",
       " 'GAAAAGCTACTTTTGCGTTCAACTGATG': 3,\n",
       " 'TTGCAAACCGTGGCAAACGCGATTAACA': 12,\n",
       " 'CTTCTTATGGTGCAGCTCGTGAAAATGA': 5,\n",
       " 'GAAAAGCTACCTTTGTGTTCAACTGATGC': 3,\n",
       " 'ACGGCTTCATGTTCTTGGTGATGGGGTT': 61,\n",
       " 'CACCAGTATCACTTACTTTACGCTGAAC': 0,\n",
       " 'CTGTAATCAATCGCCGGTCGTCGCCAC': 8,\n",
       " 'GACGTTGCGCGCACTAAGAAAACCAGG': 6,\n",
       " 'CTGAAATCAATCGCCGGTCGTCGCAAC': 8,\n",
       " 'TCGCAAACCGTGGCAAACGCAATTAACA': 12,\n",
       " 'TGATAAATTGTCCGCCCTGGCGGAATACC': 62,\n",
       " 'TTGCAAACCGTGGCAAACGCAAGTAACA': 12,\n",
       " 'TAAAAATCATCATGGAAAATCAACCCAGC': 10,\n",
       " 'TAAAAATCATCATGGAAAATCAAACCGG': 10,\n",
       " 'GCATCTTAGTCAATGTTCGCTGGCGTCA': 1,\n",
       " 'ATTGCTATAATTATTTATTGAAATATC': 14,\n",
       " 'CTTCTTATGGTGCAGCTTGTGCAAATGA': 5,\n",
       " 'GTGTGATAATTGGTGGTCTGGCTGGTGG': 2,\n",
       " 'GATATAAAACTTCGGGGCTTTATTACAA': 9,\n",
       " 'GAGCGTAGAGATTCTCGAAACCGATTCG': 7,\n",
       " 'TTGCAAACCGTGGCAAACGCAATTAATA': 12,\n",
       " 'GACAAGCTACTTTTGTGTTCAACTGATGC': 3,\n",
       " 'TACCAGTATCACTTACTTTACGCTTAG': 0,\n",
       " 'GCATCTGAGTCAATGTTCGCTGACGTCAA': 1,\n",
       " 'CTTCTTATGGTGCAGCCCGTCCAAATGA': 5,\n",
       " 'CACGTTGCGCGCACTAAGAAAAACAGGT': 6,\n",
       " 'AATATAAAACTCCGGGGCTTTATTACAA': 9,\n",
       " 'GACGTTACGCGCACTAAGAAAAACAGGT': 6,\n",
       " 'GACGTTACGCGCACTAAGAAAAACAGG': 6,\n",
       " 'GAAAAGCTACTTTTGTGTACAACTGATG': 3,\n",
       " 'GAGCGTAGAGATTTTCGAAACCGATCCG': 7,\n",
       " 'AGCGCGCGTGGGCTACTGCACTCGGTGAT': 11,\n",
       " 'CACCAGTATCACTTACTCTACGCTTAAC': 0,\n",
       " 'GATATAAAACTCCGGGGCTTTATTGCA': 9,\n",
       " 'GTGTGGTAATTGGTGGTCTGGTTGGTGG': 2,\n",
       " 'CCGTGCAAATCCAGCGAGCCGCCGAC': 4,\n",
       " 'ACAGCTCTTTCCCGTCGTTATCCAGTT': 63,\n",
       " 'CCGAAATCAATCGCCGGTCGTCGCCACG': 8,\n",
       " 'GTTAATGATGTCAGTGGCGGTTTTCGTAT': 64,\n",
       " 'GAGGCGGCTAAACCGTCGCGCACACGA': 35,\n",
       " 'CGTGCCTTCGACTTTGCGGATCACGTCGT': 33,\n",
       " 'ACTGTTATAATTATTTATTGAAATATCAT': 14,\n",
       " 'ATTGTCATAATTATTTATTGAAATATCA': 14,\n",
       " 'CTTATAACCGGCGGCAAAAATCGTCGCG': 65,\n",
       " 'CGAGCGCAACACGGCCATATTATTACCCC': 66,\n",
       " 'TAAAAATCATCATGGAAAATCGACCCG': 10,\n",
       " 'GTGTGGAAATTGGTGGTCTGGCTGGTGG': 2,\n",
       " 'AATCTATTCTGAATTTGAAATGGTCCAG': 16,\n",
       " 'GAAAAGCTACTTTTGTGTTCAACTGA': 3,\n",
       " 'CACCAGTATTACTTACTTTACGCTTAAC': 0,\n",
       " 'GAAAAGCTACTTTTGTGTTCAACTGGTGCA': 3,\n",
       " 'GAGCGTAGAGATTCTCGAAACCAATCCG': 7,\n",
       " 'CTGGCAGAGCAACTATCCCATCACATC': 67,\n",
       " 'ACTGATTACCTGCTGTTTCATCGACTCG': 68,\n",
       " 'TAAAAATCACCATGGAAAATCAACCCGG': 10,\n",
       " 'GCGTCTGAGTCAATGTTCGCTGGCGTC': 1,\n",
       " 'AGCGCGCGAGGGCTACTGCACTCGGTG': 11,\n",
       " 'TTGTCGGGGATCTGTTAAAACTGACTCA': 18,\n",
       " 'GCATCTGAGTCAATGTTCGCTGGCATCA': 1,\n",
       " 'GAGCGTAGAGATTCCCGAAACCGATCC': 7,\n",
       " 'CCGCCGTCGAGTGTAATACCCTGATCCATC': 13,\n",
       " 'GACGTTGCGCGCACTAAGAAAAGCAGGT': 6,\n",
       " 'GAAAGGCTACTTTTGTGTTCAACTGATGCAT': 3,\n",
       " 'GCATCTGAGTCGATGTTCGCTGGCGTC': 1,\n",
       " 'CACCAGTATCACTTACTTTACACTTAA': 0,\n",
       " 'CAATCTGAGCCAGACGCGACGAATAAAA': 69,\n",
       " 'GTATCTGAGTCAATGTTCGCTGGCGTCA': 1,\n",
       " 'GCATCTGAGTTAATGTTCGCTGGCGTC': 1,\n",
       " 'AGCACGCGCGGGCTACTGCACTCGGTGA': 11,\n",
       " 'CTTCTTATGGTGTAGCTCGTGCAAATGA': 5,\n",
       " 'GGTGTGGTAATTGGTGGTCTGGCTGGTGG': 2}"
      ]
     },
     "execution_count": 64,
     "metadata": {},
     "output_type": "execute_result"
    }
   ],
   "source": [
    "g[2]"
   ]
  },
  {
   "cell_type": "code",
   "execution_count": 65,
   "metadata": {},
   "outputs": [
    {
     "data": {
      "text/plain": [
       "'ACATGAATGTCGGTTCAGACCGTGTTTTTACC'"
      ]
     },
     "execution_count": 65,
     "metadata": {},
     "output_type": "execute_result"
    }
   ],
   "source": [
    "answ[0][0]"
   ]
  },
  {
   "cell_type": "code",
   "execution_count": 66,
   "metadata": {},
   "outputs": [
    {
     "data": {
      "text/plain": [
       "[[(15, 'GATATAAAACTCCGGGACTTTATTACA'),\n",
       "  (13, 'AACTCCAGGATATTGCAAACCGCATAGT'),\n",
       "  (14, 'ATTGTTATAATTATTTATTGAAATATT'),\n",
       "  (14, 'GTGTGGTAATTGGTGGTCCGGCTGGTG'),\n",
       "  (12, 'AGCGCGCGCGGGCTACTGCACTTGGTGA'),\n",
       "  (14, 'TTTGCTGGAACCCAAAACTCAGCGCAC'),\n",
       "  (14, 'TTACAAACCGTGGCAAACGCAATTAACA'),\n",
       "  (10, 'GCGATCTCGCGGAATACACCGACGAGG')],\n",
       " [(15, 'GATATAAAACTCCGGGACTTTATTACA'),\n",
       "  (13, 'AACTCCAGGATATTGCAAACCGCATAGT'),\n",
       "  (14, 'ATTGTTATAATTATTTATTGAAATATT'),\n",
       "  (14, 'GTGTGGTAATTGGTGGTCCGGCTGGTG'),\n",
       "  (12, 'AGCGCGCGCGGGCTACTGCACTTGGTGA'),\n",
       "  (14, 'TTTGCTGGAACCCAAAACTCAGCGCAC'),\n",
       "  (12, 'TTTGCTGGAACCCAAAACTCAGCGCAC'),\n",
       "  (13, 'TACGTGTCGCCGTTACAGATTTCAGTCT'),\n",
       "  (14, 'TTACAAACCGTGGCAAACGCAATTAACA'),\n",
       "  (14, 'GAGCCTGACGAGACTACTGAGGCCGTT'),\n",
       "  (13, 'TAAGGCCGTCGCCGGATCAGCCTGGCT'),\n",
       "  (14, 'AGCGCGCGCGGGCTACTGCAATCGGTG'),\n",
       "  (10, 'GCGATCTCGCGGAATACACCGACGAGG'),\n",
       "  (15, 'GCATCTGAGTCAATGTTCGCTGGCGTCAACC'),\n",
       "  (14, 'CCAGCGCCAGACGGGAACACAATTTTA'),\n",
       "  (13, 'ACTATCGGCGCTGTTCAGTTGGGACAGA')],\n",
       " [(13, 'CGTGCCTTCGACTTTGCGGATCACGTCG'),\n",
       "  (12, 'GGCGTCCAGTGATGCTTTCTGGTGCTC'),\n",
       "  (13, 'AACGCGCGCGGGCTACTGCACTCGGTGA'),\n",
       "  (14, 'TAAAAATCATCATGGAAAATCAACCCGGC'),\n",
       "  (13, 'GACGTTGCGCGCACTAAGAAAAACAGG'),\n",
       "  (14, 'CCTCTCAATTTGTAACGTCTGCAATGT'),\n",
       "  (15, 'CAGCTCGCAGCGCTCGGAACGTGGCGC'),\n",
       "  (12, 'GTGTGGTAATTGGTGGTCTGGCTGATGG'),\n",
       "  (12, 'GACGCCGCCGCCGCGAAGCCGTTTCCGAT'),\n",
       "  (15, 'TTGCAAACCGCGGCAAACGCAATTAAC'),\n",
       "  (14, 'TAAAAATCATCATGAAAATCAACCCGG'),\n",
       "  (13, 'CAGCTCGCAGCGCTCGGAACGTGGCGC'),\n",
       "  (13, 'GATATAAAACTCCGAGGCTTTATTACAA'),\n",
       "  (14, 'GTGTGGTAATTGGTGGCCTGGCTGGTGG')],\n",
       " [(14, 'CAGCTCGCAGCGCTCGGAACGTGGCGC'),\n",
       "  (11, 'AACTCCAGGATATTGCAAACCGCATAGT'),\n",
       "  (13, 'CCGCGCAAATCCAGCGAGCCGCCGACGCTC'),\n",
       "  (11, 'CCGCCGTCGAGTGTAATACCCTGATCC'),\n",
       "  (13, 'GCATCTGAGTCAGTGTTCGCTGGCGTCA'),\n",
       "  (14, 'TTCTTGCGGGTGTTGCAAATATTCTTC'),\n",
       "  (14, 'GACGCCGCCGCCGCGAAGCCGTTTCCG'),\n",
       "  (14, 'CGTGCCTTCGACTTTGCGGATCACGTC'),\n",
       "  (13, 'TTGTCGGGGATCTGTTCAAACTGACTC'),\n",
       "  (14, 'GATATAAAACTCCGGGGCTTTATTACA'),\n",
       "  (13, 'GGCTTACACGCCACCATGGCATCAAGA'),\n",
       "  (12, 'GACGTTGCGCACACTAAGAAAAACAGGT'),\n",
       "  (14, 'CTTCTTATGGTGCAGCTCGTGCAAATGAA')]]"
      ]
     },
     "execution_count": 66,
     "metadata": {},
     "output_type": "execute_result"
    }
   ],
   "source": [
    "[[hu.find_closest(g[2], x[::]) for x in y] for y in answ]"
   ]
  },
  {
   "cell_type": "code",
   "execution_count": null,
   "metadata": {},
   "outputs": [],
   "source": []
  },
  {
   "cell_type": "code",
   "execution_count": null,
   "metadata": {},
   "outputs": [],
   "source": []
  },
  {
   "cell_type": "code",
   "execution_count": null,
   "metadata": {},
   "outputs": [],
   "source": []
  },
  {
   "cell_type": "code",
   "execution_count": 71,
   "metadata": {},
   "outputs": [],
   "source": [
    "with open(\"../data/student_Dvyg/EC/gz/25_0_0_grep\") as f:\n",
    "    lines = [x[:-1] for x in f.readlines()]"
   ]
  },
  {
   "cell_type": "code",
   "execution_count": 83,
   "metadata": {},
   "outputs": [
    {
     "data": {
      "text/plain": [
       "'CGCTGGCGCGGGGAACACACATGAATGTCGGTTCAGACCGTGTTTTTACCCGGTTTATCCCCGCTGGCGCGGGGAACACAGTGCTGGACCATTTCAAATTCACAATAGATTCGGTTTATCCCCGCTGGCGCGGGGAACACGGAAAGATCGG'"
      ]
     },
     "execution_count": 83,
     "metadata": {},
     "output_type": "execute_result"
    }
   ],
   "source": [
    "lines[-2]"
   ]
  },
  {
   "cell_type": "code",
   "execution_count": 80,
   "metadata": {},
   "outputs": [
    {
     "data": {
      "text/plain": [
       "([-1, -1], [-1, -1])"
      ]
     },
     "execution_count": 80,
     "metadata": {},
     "output_type": "execute_result"
    }
   ],
   "source": [
    "split_read(lines[0], lines[0], ecoli_r_1, e = 6)"
   ]
  },
  {
   "cell_type": "code",
   "execution_count": 82,
   "metadata": {},
   "outputs": [
    {
     "data": {
      "text/plain": [
       "'GCCAAATAGGGGCGACCGCGCCCCTTGWG'"
      ]
     },
     "execution_count": 82,
     "metadata": {},
     "output_type": "execute_result"
    }
   ],
   "source": [
    "ecoli_r_1.rc"
   ]
  },
  {
   "cell_type": "code",
   "execution_count": null,
   "metadata": {},
   "outputs": [],
   "source": []
  },
  {
   "cell_type": "code",
   "execution_count": 85,
   "metadata": {},
   "outputs": [
    {
     "data": {
      "text/plain": [
       "'CWCAAGGGGCGCGGTCGCCCCTATTTGGC'"
      ]
     },
     "execution_count": 85,
     "metadata": {},
     "output_type": "execute_result"
    }
   ],
   "source": [
    "rc(ecoli_r_1.rc)[::-1]"
   ]
  },
  {
   "cell_type": "code",
   "execution_count": 86,
   "metadata": {},
   "outputs": [],
   "source": [
    "%load_ext autoreload\n",
    "%autoreload 2"
   ]
  },
  {
   "cell_type": "code",
   "execution_count": 79,
   "metadata": {},
   "outputs": [],
   "source": [
    "ecoli_r = Repeat(\"GWGTTCCCC(GCGCCAGCG)GGGATAAACCG\", \n",
    "                   \"GWGTTCCCCGCGCCAGCG\",\n",
    "                   \"GCGCCAGCGGGGATAAACCG\",\n",
    "                   \"GWGTTCCCCGCGCCAGCGGGGATAAACCG\")\n",
    "\n",
    "ecoli_r_1 = Repeat(\"GWGTTCCCC(GCGCCAGCG)GGGATAAACCG\", \n",
    "                   \"GCCAAATAGGGGCGACCGCG\",\n",
    "                   \"GCGACCGCGCCCCTTGWG\",\n",
    "                   \"GCCAAATAGGGGCGACCGCGCCCCTTGWG\")\n"
   ]
  },
  {
   "cell_type": "code",
   "execution_count": null,
   "metadata": {},
   "outputs": [],
   "source": [
    "v"
   ]
  },
  {
   "cell_type": "code",
   "execution_count": null,
   "metadata": {},
   "outputs": [],
   "source": []
  },
  {
   "cell_type": "code",
   "execution_count": 97,
   "metadata": {},
   "outputs": [
    {
     "data": {
      "text/plain": [
       "[[32, 32, 32, 32, 31, 32, 32, 32],\n",
       " [32, 32, 32, 32, 31, 32, 32, 32, 32, 32, 32, 32, 32, 33, 34, 30],\n",
       " [29, 30, 31, 32, 32, 32, 32, 32, 32, 32, 32, 32, 32, 32],\n",
       " [32, 31, 32, 32, 32, 32, 32, 32, 32, 32, 32, 32, 32]]"
      ]
     },
     "execution_count": 97,
     "metadata": {},
     "output_type": "execute_result"
    }
   ],
   "source": [
    "[[len(x) for x in y] for y in answ]"
   ]
  },
  {
   "cell_type": "code",
   "execution_count": null,
   "metadata": {},
   "outputs": [],
   "source": []
  },
  {
   "cell_type": "code",
   "execution_count": 106,
   "metadata": {},
   "outputs": [
    {
     "data": {
      "text/plain": [
       "44213"
      ]
     },
     "execution_count": 106,
     "metadata": {},
     "output_type": "execute_result"
    }
   ],
   "source": [
    "(np.array([len(x) for y in res_20_1[0] for x in y]) == 28).sum()"
   ]
  },
  {
   "cell_type": "code",
   "execution_count": 101,
   "metadata": {},
   "outputs": [
    {
     "data": {
      "text/plain": [
       "(array([1.0000e+00, 1.0000e+00, 0.0000e+00, 1.0000e+00, 1.0000e+00,\n",
       "        0.0000e+00, 3.0000e+00, 2.3050e+03, 4.4213e+04, 1.9110e+03,\n",
       "        7.0600e+02, 2.0000e+00, 2.0000e+00, 0.0000e+00, 0.0000e+00,\n",
       "        0.0000e+00, 0.0000e+00, 0.0000e+00, 0.0000e+00, 2.0000e+00]),\n",
       " array([15.  , 16.55, 18.1 , 19.65, 21.2 , 22.75, 24.3 , 25.85, 27.4 ,\n",
       "        28.95, 30.5 , 32.05, 33.6 , 35.15, 36.7 , 38.25, 39.8 , 41.35,\n",
       "        42.9 , 44.45, 46.  ]),\n",
       " <a list of 20 Patch objects>)"
      ]
     },
     "execution_count": 101,
     "metadata": {},
     "output_type": "execute_result"
    },
    {
     "data": {
      "image/png": "[encoded data removed]",
      "text/plain": [
       "<matplotlib.figure.Figure at 0x7f6ffe0139b0>"
      ]
     },
     "metadata": {},
     "output_type": "display_data"
    }
   ],
   "source": [
    "plt.hist([len(x) for y in res_20_1[0] for x in y], bins =20)"
   ]
  },
  {
   "cell_type": "code",
   "execution_count": null,
   "metadata": {},
   "outputs": [],
   "source": []
  },
  {
   "cell_type": "code",
   "execution_count": null,
   "metadata": {},
   "outputs": [],
   "source": []
  },
  {
   "cell_type": "code",
   "execution_count": null,
   "metadata": {},
   "outputs": [],
   "source": []
  },
  {
   "cell_type": "code",
   "execution_count": null,
   "metadata": {},
   "outputs": [],
   "source": []
  },
  {
   "cell_type": "code",
   "execution_count": null,
   "metadata": {},
   "outputs": [],
   "source": []
  },
  {
   "cell_type": "code",
   "execution_count": null,
   "metadata": {},
   "outputs": [],
   "source": []
  },
  {
   "cell_type": "code",
   "execution_count": null,
   "metadata": {},
   "outputs": [],
   "source": []
  },
  {
   "cell_type": "code",
   "execution_count": 20,
   "metadata": {},
   "outputs": [
    {
     "data": {
      "text/plain": [
       "{'W': 'AT',\n",
       " 'S': 'CG',\n",
       " 'M': 'AC',\n",
       " 'K': 'GT',\n",
       " 'R': 'AG',\n",
       " 'Y': 'CT',\n",
       " 'B': 'CGT',\n",
       " 'D': 'AGT',\n",
       " 'H': 'ACT',\n",
       " 'V': 'ACG',\n",
       " 'N': 'ACGT'}"
      ]
     },
     "execution_count": 20,
     "metadata": {},
     "output_type": "execute_result"
    }
   ],
   "source": [
    "IUPAC_WILDCARDS"
   ]
  },
  {
   "cell_type": "code",
   "execution_count": null,
   "metadata": {},
   "outputs": [],
   "source": []
  },
  {
   "cell_type": "code",
   "execution_count": 63,
   "metadata": {},
   "outputs": [],
   "source": [
    "save_pairs(\"../data/clostr_Polina/pairs/\", names[0], pairs)"
   ]
  },
  {
   "cell_type": "code",
   "execution_count": null,
   "metadata": {},
   "outputs": [],
   "source": [
    "def save_pairs(path, name, pairs):\n",
    "    name = name.split(\".\")[0]\n",
    "    with open(path + name, 'w') as f:\n",
    "        for p in pairs:\n",
    "            f.write(\"\\t\".join(p))\n",
    "            f.write(\"\\n\")\n",
    "            "
   ]
  },
  {
   "cell_type": "code",
   "execution_count": null,
   "metadata": {},
   "outputs": [],
   "source": [
    "[save_pairs(path, names[0]+'pairs', )]"
   ]
  },
  {
   "cell_type": "code",
   "execution_count": null,
   "metadata": {},
   "outputs": [],
   "source": []
  },
  {
   "cell_type": "code",
   "execution_count": 18,
   "metadata": {},
   "outputs": [],
   "source": [
    "reads, qualities = read_fastq(path)"
   ]
  },
  {
   "cell_type": "code",
   "execution_count": 20,
   "metadata": {
    "scrolled": true
   },
   "outputs": [],
   "source": [
    "pairs, pairs_q = [], []\n",
    "for r,q in tqdm_notebook(zip(reads, qualities)):\n",
    "    p, pq = split_read(r, q, repeat, repeat_s, repeat_e)\n",
    "    pairs.append(p)\n",
    "    pairs_q.append(pq)"
   ]
  },
  {
   "cell_type": "code",
   "execution_count": 22,
   "metadata": {},
   "outputs": [],
   "source": [
    "pairs = np.array(pairs)\n",
    "pairs_q = np.array(pairs_q)"
   ]
  },
  {
   "cell_type": "code",
   "execution_count": 25,
   "metadata": {},
   "outputs": [
    {
     "data": {
      "application/vnd.jupyter.widget-view+json": {
       "model_id": "de97e1d406f44787b2dd2e4db1af9381",
       "version_major": 2,
       "version_minor": 0
      },
      "text/plain": [
       "A Jupyter Widget"
      ]
     },
     "metadata": {},
     "output_type": "display_data"
    },
    {
     "name": "stdout",
     "output_type": "stream",
     "text": [
      "\n",
      "28815\n"
     ]
    }
   ],
   "source": [
    "mask = np.array(['-1' not in pair for pair in tqdm_notebook(pairs)])\n",
    "\n",
    "print(mask.sum())\n",
    "\n",
    "pairs = pairs[mask]\n",
    "pairs_q = pairs_q[mask]"
   ]
  },
  {
   "cell_type": "code",
   "execution_count": 53,
   "metadata": {},
   "outputs": [],
   "source": [
    "min_pq = np.array([get_lowest_q(pq) for pq in pairs_q])"
   ]
  },
  {
   "cell_type": "code",
   "execution_count": null,
   "metadata": {},
   "outputs": [],
   "source": []
  },
  {
   "cell_type": "code",
   "execution_count": null,
   "metadata": {},
   "outputs": [],
   "source": []
  },
  {
   "cell_type": "code",
   "execution_count": null,
   "metadata": {},
   "outputs": [],
   "source": []
  },
  {
   "cell_type": "code",
   "execution_count": null,
   "metadata": {},
   "outputs": [],
   "source": []
  },
  {
   "cell_type": "code",
   "execution_count": 363,
   "metadata": {},
   "outputs": [],
   "source": [
    "pairs = np.array(pairs)"
   ]
  },
  {
   "cell_type": "code",
   "execution_count": 375,
   "metadata": {
    "scrolled": true
   },
   "outputs": [],
   "source": [
    "mask = np.array(['-1' not in pair for pair in pairs])"
   ]
  },
  {
   "cell_type": "code",
   "execution_count": 379,
   "metadata": {},
   "outputs": [
    {
     "data": {
      "text/plain": [
       "array([['GAGGAGATTCAGACAGCGACTAAAAAGACTGATATA',\n",
       "        'AACTTTATATCTCCANTTGCATATCCATCTGATGA'],\n",
       "       ['GCGTACAAGGTTGAGAAGCTCCGCAATCTCAACGTC',\n",
       "        'CAGCCAAAAACTTCGAATTTGAACTAAAATGCGT'],\n",
       "       ['AGGAGATAACTTCTATTAAAGATAACTTTGATGTG',\n",
       "        'GCGTACAAGGTTGAGAAGCTCCGCAATCTCAACGTC'],\n",
       "       ...,\n",
       "       ['AACTTTATATCTCCATTTGCATATCCATCTGATGA',\n",
       "        'GCGTACAAGGTTGAGAAGCTCCGCAATCTCAACGTC'],\n",
       "       ['AACTTTATATCTCCATTTGCATATCCATCTGATGC',\n",
       "        'GCGTACAAGGTTGAGAAGCTCCGCAATCTCAACGTC'],\n",
       "       ['GCTTACAAGGTTGAGAAGCTCCGCAATCTCAAAGTCGT',\n",
       "        'ATTTGAAATGAATAAATTTTAAATGAATGAAAGTATAG']], dtype='<U105')"
      ]
     },
     "execution_count": 379,
     "metadata": {},
     "output_type": "execute_result"
    }
   ],
   "source": [
    "pairs[mask]"
   ]
  },
  {
   "cell_type": "code",
   "execution_count": null,
   "metadata": {},
   "outputs": [],
   "source": []
  },
  {
   "cell_type": "code",
   "execution_count": null,
   "metadata": {},
   "outputs": [],
   "source": []
  },
  {
   "cell_type": "code",
   "execution_count": null,
   "metadata": {},
   "outputs": [],
   "source": []
  },
  {
   "cell_type": "code",
   "execution_count": null,
   "metadata": {},
   "outputs": [],
   "source": []
  },
  {
   "cell_type": "code",
   "execution_count": 299,
   "metadata": {},
   "outputs": [
    {
     "data": {
      "text/plain": [
       "(array([     0.,      0.,      0.,      0.,      0., 128171.,      0.,\n",
       "             0.,      0.,      0.]),\n",
       " array([150.5, 150.6, 150.7, 150.8, 150.9, 151. , 151.1, 151.2, 151.3,\n",
       "        151.4, 151.5]),\n",
       " <a list of 10 Patch objects>)"
      ]
     },
     "execution_count": 299,
     "metadata": {},
     "output_type": "execute_result"
    },
    {
     "data": {
      "image/png": "[encoded data removed]",
      "text/plain": [
       "<matplotlib.figure.Figure at 0x7f80514ca748>"
      ]
     },
     "metadata": {},
     "output_type": "display_data"
    }
   ],
   "source": [
    "plt.hist([len(x) for x in reads])"
   ]
  },
  {
   "cell_type": "code",
   "execution_count": 312,
   "metadata": {},
   "outputs": [
    {
     "data": {
      "text/plain": [
       "95"
      ]
     },
     "execution_count": 312,
     "metadata": {},
     "output_type": "execute_result"
    }
   ],
   "source": [
    "len(quality_symbols)"
   ]
  },
  {
   "cell_type": "code",
   "execution_count": 313,
   "metadata": {},
   "outputs": [
    {
     "data": {
      "text/plain": [
       "'!\"#$%&\\\\\\'()*+,-.'"
      ]
     },
     "execution_count": 313,
     "metadata": {},
     "output_type": "execute_result"
    }
   ],
   "source": [
    "quality_symbols[:15]"
   ]
  },
  {
   "cell_type": "code",
   "execution_count": 316,
   "metadata": {},
   "outputs": [
    {
     "data": {
      "text/plain": [
       "'AFFAFF=FFAFFFFFFFAFFFFFAFFFAFFFFFFFFFFFFFFFFFFFFFFFAFFFFFF/FFFFFFF6FAAFFFFFFFFF=FFFFFFFFFAFFFFFFFAFFF/FAFAF/FFFFF/FFF/FFFFFF=FFFFFFFFF/FFF/FFFFFFFFFFFF'"
      ]
     },
     "execution_count": 316,
     "metadata": {},
     "output_type": "execute_result"
    }
   ],
   "source": [
    "qualities[100]"
   ]
  },
  {
   "cell_type": "code",
   "execution_count": null,
   "metadata": {},
   "outputs": [],
   "source": []
  },
  {
   "cell_type": "code",
   "execution_count": null,
   "metadata": {},
   "outputs": [],
   "source": []
  },
  {
   "cell_type": "code",
   "execution_count": 318,
   "metadata": {},
   "outputs": [],
   "source": [
    "#  [sum([y in x for x in np.array(qualities)[mask]]) for y in quality_symbols]"
   ]
  },
  {
   "cell_type": "code",
   "execution_count": null,
   "metadata": {},
   "outputs": [],
   "source": []
  },
  {
   "cell_type": "code",
   "execution_count": 232,
   "metadata": {},
   "outputs": [],
   "source": [
    "p_str = repeat_to_re_pattern(\"(AAd)\") "
   ]
  },
  {
   "cell_type": "code",
   "execution_count": 233,
   "metadata": {},
   "outputs": [
    {
     "data": {
      "text/plain": [
       "'(AAd){e<=2}'"
      ]
     },
     "execution_count": 233,
     "metadata": {},
     "output_type": "execute_result"
    }
   ],
   "source": [
    "p_str"
   ]
  },
  {
   "cell_type": "code",
   "execution_count": 243,
   "metadata": {},
   "outputs": [],
   "source": [
    "#p = re.compile(\"(AAAC){e<=2}\")\n",
    "p = re.compile(p_str)"
   ]
  },
  {
   "cell_type": "code",
   "execution_count": 244,
   "metadata": {},
   "outputs": [
    {
     "data": {
      "text/plain": [
       "[]"
      ]
     },
     "execution_count": 244,
     "metadata": {},
     "output_type": "execute_result"
    }
   ],
   "source": [
    "[x.span() for x in re.finditer(p, \"AAAA\")]"
   ]
  },
  {
   "cell_type": "code",
   "execution_count": null,
   "metadata": {},
   "outputs": [],
   "source": []
  },
  {
   "cell_type": "code",
   "execution_count": 259,
   "metadata": {},
   "outputs": [
    {
     "name": "stdout",
     "output_type": "stream",
     "text": [
      "(GTTTTA[G|T]ATTAACTA[A|T][A|G]TGG[A|T]ATGTAAA[G|T]){e<=6}\n"
     ]
    }
   ],
   "source": [
    "p_str = repeat_to_re_pattern(repeat,e=6)\n",
    "p = re.compile(p_str)\n",
    "print(p_str)"
   ]
  },
  {
   "cell_type": "code",
   "execution_count": 260,
   "metadata": {},
   "outputs": [
    {
     "data": {
      "text/plain": [
       "[(52, 84)]"
      ]
     },
     "execution_count": 260,
     "metadata": {},
     "output_type": "execute_result"
    }
   ],
   "source": [
    "[x.span() for x in re.finditer(p, reads[1])]"
   ]
  },
  {
   "cell_type": "code",
   "execution_count": 261,
   "metadata": {},
   "outputs": [
    {
     "data": {
      "text/plain": [
       "'GGGTTTTAGATTAACTAAATGGAGATCGGAAG'"
      ]
     },
     "execution_count": 261,
     "metadata": {},
     "output_type": "execute_result"
    }
   ],
   "source": [
    "reads[1][52:84]"
   ]
  },
  {
   "cell_type": "code",
   "execution_count": 268,
   "metadata": {},
   "outputs": [
    {
     "data": {
      "text/plain": [
       "151"
      ]
     },
     "execution_count": 268,
     "metadata": {},
     "output_type": "execute_result"
    }
   ],
   "source": [
    "len(reads[1])"
   ]
  },
  {
   "cell_type": "code",
   "execution_count": 267,
   "metadata": {},
   "outputs": [
    {
     "name": "stdout",
     "output_type": "stream",
     "text": [
      "G G\n",
      "T T\n",
      "T T\n",
      "T T\n",
      "T T\n",
      "A A\n",
      "G K\n",
      "A A\n",
      "T T\n",
      "T T\n",
      "A A\n",
      "A A\n",
      "C C\n",
      "T T\n",
      "A A\n",
      "A W\n",
      "A R\n",
      "T T\n",
      "G G\n",
      "G G\n",
      "A W\n",
      "G A\n",
      "A T\n",
      "T G\n",
      "C T\n",
      "G A\n",
      "G A\n",
      "A A\n",
      "A K\n"
     ]
    }
   ],
   "source": [
    "print_together(reads[1][54:84], repeat_clear)"
   ]
  },
  {
   "cell_type": "code",
   "execution_count": 263,
   "metadata": {},
   "outputs": [],
   "source": [
    "def print_together(s1, s2):\n",
    "    for a,b in zip(s1, s2):\n",
    "        print(a,b)"
   ]
  },
  {
   "cell_type": "code",
   "execution_count": 254,
   "metadata": {},
   "outputs": [
    {
     "name": "stdout",
     "output_type": "stream",
     "text": [
      "A A\n",
      "C C\n",
      "T T\n",
      "A A\n",
      "T W\n",
      "G R\n",
      "T T\n",
      "G G\n",
      "G G\n",
      "A )\n",
      "A W\n",
      "T A\n",
      "G T\n",
      "T G\n",
      "A T\n",
      "A A\n",
      "A A\n",
      "T A\n",
      "G K\n"
     ]
    }
   ],
   "source": [
    "for  a,b in zip(reads[0], repeat[12:]):\n",
    "    print(a, b)"
   ]
  },
  {
   "cell_type": "code",
   "execution_count": null,
   "metadata": {},
   "outputs": [],
   "source": []
  },
  {
   "cell_type": "code",
   "execution_count": 17,
   "metadata": {},
   "outputs": [],
   "source": [
    "def repeat_matches(read, repeat, wildcards):\n",
    "    pass"
   ]
  },
  {
   "cell_type": "code",
   "execution_count": 102,
   "metadata": {},
   "outputs": [
    {
     "data": {
      "text/plain": [
       "'A|N|B'"
      ]
     },
     "execution_count": 102,
     "metadata": {},
     "output_type": "execute_result"
    }
   ],
   "source": [
    "\"|\".join(\"ANB\")"
   ]
  },
  {
   "cell_type": "code",
   "execution_count": null,
   "metadata": {},
   "outputs": [],
   "source": []
  },
  {
   "cell_type": "code",
   "execution_count": null,
   "metadata": {},
   "outputs": [],
   "source": []
  },
  {
   "cell_type": "markdown",
   "metadata": {},
   "source": [
    "## import bio"
   ]
  },
  {
   "cell_type": "code",
   "execution_count": 154,
   "metadata": {},
   "outputs": [],
   "source": [
    "from Bio.Seq import Seq\n",
    "from Bio.Alphabet import generic_nucleotide\n",
    "from Bio.Alphabet import IUPAC\n",
    "nuc_seq = Seq(\"GATCGATGC\", generic_nucleotide)\n",
    "dna_seq = Seq(\"ACGTW\", IUPAC.unambiguous_dna)"
   ]
  },
  {
   "cell_type": "code",
   "execution_count": 152,
   "metadata": {},
   "outputs": [
    {
     "data": {
      "text/plain": [
       "'GATCRYWSMKHBVDN'"
      ]
     },
     "execution_count": 152,
     "metadata": {},
     "output_type": "execute_result"
    }
   ],
   "source": [
    "IUPAC.ambiguous_dna"
   ]
  },
  {
   "cell_type": "code",
   "execution_count": 151,
   "metadata": {},
   "outputs": [
    {
     "data": {
      "text/plain": [
       "{'W': 'AT',\n",
       " 'S': 'CG',\n",
       " 'M': 'AC',\n",
       " 'K': 'GT',\n",
       " 'R': 'AG',\n",
       " 'Y': 'CT',\n",
       " 'B': 'CGT',\n",
       " 'D': 'AGT',\n",
       " 'H': 'ACT',\n",
       " 'V': 'ACG',\n",
       " 'N': 'ACGT'}"
      ]
     },
     "execution_count": 151,
     "metadata": {},
     "output_type": "execute_result"
    }
   ],
   "source": [
    "IUPAC_WILDCARDS"
   ]
  },
  {
   "cell_type": "markdown",
   "metadata": {},
   "source": [
    "## RE"
   ]
  },
  {
   "cell_type": "code",
   "execution_count": 206,
   "metadata": {},
   "outputs": [],
   "source": [
    "import regex as re"
   ]
  },
  {
   "cell_type": "code",
   "execution_count": 96,
   "metadata": {},
   "outputs": [],
   "source": [
    "p = re.compile('a[d|b]c')"
   ]
  },
  {
   "cell_type": "code",
   "execution_count": 98,
   "metadata": {},
   "outputs": [
    {
     "data": {
      "text/plain": [
       "[]"
      ]
     },
     "execution_count": 98,
     "metadata": {},
     "output_type": "execute_result"
    }
   ],
   "source": [
    "re.findall(p, 'aabddcx')"
   ]
  },
  {
   "cell_type": "code",
   "execution_count": null,
   "metadata": {},
   "outputs": [],
   "source": []
  },
  {
   "cell_type": "code",
   "execution_count": null,
   "metadata": {},
   "outputs": [],
   "source": []
  },
  {
   "cell_type": "markdown",
   "metadata": {},
   "source": [
    "## Mastering spades"
   ]
  },
  {
   "cell_type": "code",
   "execution_count": 55,
   "metadata": {},
   "outputs": [],
   "source": [
    "import sys\n",
    "sys.path.append(\"../spget/\")\n",
    "\n",
    "from importlib import reload"
   ]
  },
  {
   "cell_type": "code",
   "execution_count": 56,
   "metadata": {},
   "outputs": [],
   "source": [
    "import spget as sp\n",
    "sp = reload(sp)"
   ]
  },
  {
   "cell_type": "code",
   "execution_count": null,
   "metadata": {},
   "outputs": [],
   "source": []
  },
  {
   "cell_type": "code",
   "execution_count": null,
   "metadata": {},
   "outputs": [],
   "source": []
  },
  {
   "cell_type": "code",
   "execution_count": 92,
   "metadata": {
    "scrolled": true
   },
   "outputs": [
    {
     "name": "stdout",
     "output_type": "stream",
     "text": [
      "\n",
      "\n",
      "\n",
      "\n",
      "\n",
      "\n",
      "\n",
      "\n",
      "\n",
      "\n",
      "\n",
      "\n",
      "1\tGTTTTAKATTA(ACTAWRTGG)WATGTAAAK\t6\n"
     ]
    },
    {
     "name": "stderr",
     "output_type": "stream",
     "text": [
      "\n",
      "loading repeats from ../data/clostr_Polina/primers.txt\n"
     ]
    }
   ],
   "source": [
    "# path = \"../data/clostr_test/fastq/test_1.fastq\"\n",
    "# path = \"../data/scripts/raw_data_clostr.fastq\"\n",
    "r_path = \"../data/clostr_Polina/primers.txt\"\n",
    "rep = sp.load_repeats(r_path)"
   ]
  },
  {
   "cell_type": "code",
   "execution_count": 93,
   "metadata": {
    "scrolled": true
   },
   "outputs": [
    {
     "name": "stderr",
     "output_type": "stream",
     "text": [
      "\n",
      "using following repeats sequences:\n",
      "seq: GTTTTAKATTAACTAWRTGGWATGTAAAK id: 0 types: 1(|1) mismatches: 6\n",
      "seq: ACTAWRTGGWATGTAAAK id: 1 types: 1( mismatches: 6\n",
      "seq: GTTTTAKATTAACTAWRTGG id: 2 types: 1) mismatches: 6\n"
     ]
    }
   ],
   "source": [
    "all_mm = {}\n",
    "b = {}\n",
    "sp.fill_parts(rep, all_mm, b )"
   ]
  },
  {
   "cell_type": "code",
   "execution_count": 94,
   "metadata": {
    "scrolled": true
   },
   "outputs": [
    {
     "data": {
      "text/plain": [
       "regex.Regex('(?:GTTTTAKATTAACTAWRTGGWATGTAAAK){s<=6,i<=0,d<=0}', flags=regex.V0)"
      ]
     },
     "execution_count": 94,
     "metadata": {},
     "output_type": "execute_result"
    }
   ],
   "source": [
    "all_mm['GTTTTAKATTAACTAWRTGGWATGTAAAK']['RE_FUZZY']"
   ]
  },
  {
   "cell_type": "code",
   "execution_count": null,
   "metadata": {},
   "outputs": [],
   "source": []
  },
  {
   "cell_type": "code",
   "execution_count": 65,
   "metadata": {},
   "outputs": [],
   "source": [
    "lines, q= read_fastq(\"../data/clostr_Polina/fastq/Polina-1_S11_L001_R1_001.fastq\")"
   ]
  },
  {
   "cell_type": "code",
   "execution_count": 80,
   "metadata": {},
   "outputs": [],
   "source": [
    "for pat in a:\n",
    "    mm = all_mm[pat][\"MM\"]\n",
    "    ins = all_mm[pat][\"INS\"]\n",
    "    dl = all_mm[pat][\"DEL\"]\n",
    "    pat_sys = all_mm[pat][\"SYS\"]\n",
    "    pat_type = all_mm[pat][\"TYPE\"]\n",
    "    pat_re_fuzzy = all_mm[pat][\"RE_FUZZY\"]\n",
    "    pat_id = all_mm[pat][\"ID\"]\n",
    "    found = sp.fuzzy_find_seq(lines[0], pat, mm, ins, dl, pat_re_fuzzy, pat_type, pat_id)"
   ]
  },
  {
   "cell_type": "code",
   "execution_count": 82,
   "metadata": {},
   "outputs": [],
   "source": [
    "found"
   ]
  },
  {
   "cell_type": "code",
   "execution_count": 91,
   "metadata": {},
   "outputs": [
    {
     "data": {
      "text/plain": [
       "{'GTTTTAKATTAACTAWRTGGWATGTAAAK': {'MM': 2,\n",
       "  'INS': 0,\n",
       "  'DEL': 0,\n",
       "  'SYS': {'1'},\n",
       "  'TYPE': {'1(', '1)'},\n",
       "  'ID': '0',\n",
       "  'DA_SET': set(),\n",
       "  'RE_FUZZY': regex.Regex('(?:GTTTTAKATTAACTAWRTGGWATGTAAAK){s<=2,i<=0,d<=0}', flags=regex.V0)},\n",
       " 'ACTAWRTGGWATGTAAAK': {'MM': 2,\n",
       "  'INS': 0,\n",
       "  'DEL': 0,\n",
       "  'SYS': {'1'},\n",
       "  'TYPE': {'1('},\n",
       "  'ID': '1',\n",
       "  'DA_SET': set(),\n",
       "  'RE_FUZZY': regex.Regex('(?:ACTAWRTGGWATGTAAAK){s<=2,i<=0,d<=0}', flags=regex.V0)},\n",
       " 'GTTTTAKATTAACTAWRTGG': {'MM': 2,\n",
       "  'INS': 0,\n",
       "  'DEL': 0,\n",
       "  'SYS': {'1'},\n",
       "  'TYPE': {'1)'},\n",
       "  'ID': '2',\n",
       "  'DA_SET': set(),\n",
       "  'RE_FUZZY': regex.Regex('(?:GTTTTAKATTAACTAWRTGG){s<=2,i<=0,d<=0}', flags=regex.V0)}}"
      ]
     },
     "execution_count": 91,
     "metadata": {},
     "output_type": "execute_result"
    }
   ],
   "source": [
    "all_mm"
   ]
  },
  {
   "cell_type": "code",
   "execution_count": 105,
   "metadata": {},
   "outputs": [],
   "source": [
    "coords = sp.get_system_coords(lines[1], all_mm)"
   ]
  },
  {
   "cell_type": "code",
   "execution_count": 108,
   "metadata": {
    "scrolled": true
   },
   "outputs": [
    {
     "name": "stdout",
     "output_type": "stream",
     "text": [
      "[(54, 85), (120, 151)]\n",
      "[(0, 18)]\n",
      "[(35, 57)]\n"
     ]
    },
    {
     "data": {
      "text/plain": [
       "(['GAGGAGATTCAGACAGCGACTAAAAAGACTGATATA',\n",
       "  'AACTTTATATCTCCANTTGCATATCCATCTGATGA'],\n",
       " ['FFFFFFFFFFFFFFFF/FFAFFFFFFFFFFFFFFFF',\n",
       "  'FFFFFFFFFFFFFFFFFFFFFFFFFFFFF=F/=//'])"
      ]
     },
     "execution_count": 108,
     "metadata": {},
     "output_type": "execute_result"
    }
   ],
   "source": [
    "split_read(lines[0], q[1], redundant.rc, redundant.rs, redundant.re, v =1)"
   ]
  },
  {
   "cell_type": "code",
   "execution_count": null,
   "metadata": {},
   "outputs": [],
   "source": []
  },
  {
   "cell_type": "code",
   "execution_count": null,
   "metadata": {},
   "outputs": [],
   "source": []
  },
  {
   "cell_type": "code",
   "execution_count": null,
   "metadata": {},
   "outputs": [],
   "source": []
  },
  {
   "cell_type": "code",
   "execution_count": 72,
   "metadata": {},
   "outputs": [
    {
     "data": {
      "text/plain": [
       "{'MM': 2,\n",
       " 'INS': 0,\n",
       " 'DEL': 0,\n",
       " 'SYS': {'1'},\n",
       " 'TYPE': {'1(', '1)'},\n",
       " 'ID': '0',\n",
       " 'DA_SET': set(),\n",
       " 'RE_FUZZY': regex.Regex('(?:GTTTTAKATTAACTAWRTGGWATGTAAAK){s<=2,i<=0,d<=0}', flags=regex.V0)}"
      ]
     },
     "execution_count": 72,
     "metadata": {},
     "output_type": "execute_result"
    }
   ],
   "source": [
    "a['GTTTTAKATTAACTAWRTGGWATGTAAAK']"
   ]
  },
  {
   "cell_type": "code",
   "execution_count": null,
   "metadata": {},
   "outputs": [],
   "source": [
    "sp.fuzzy_find_seq()"
   ]
  },
  {
   "cell_type": "code",
   "execution_count": null,
   "metadata": {},
   "outputs": [],
   "source": []
  },
  {
   "cell_type": "code",
   "execution_count": 45,
   "metadata": {},
   "outputs": [
    {
     "data": {
      "text/plain": [
       "'ATTTACATTCCATATAGTTAATCTAAAACGTTCATCAGATGGATATGCAANTGGAGATATAAAGTTATTTACATTCCATATAGTTAATCTAAAACTTTATATCAGTCTTTTTAGTCGCTGTCTGAATCTCCTCATTTACATTCCACATAGT'"
      ]
     },
     "execution_count": 45,
     "metadata": {},
     "output_type": "execute_result"
    }
   ],
   "source": [
    "sp.rc(raw)"
   ]
  },
  {
   "cell_type": "code",
   "execution_count": 53,
   "metadata": {},
   "outputs": [
    {
     "name": "stdout",
     "output_type": "stream",
     "text": [
      "{}\n",
      "{}\n",
      "{}\n",
      "{}\n",
      "{}\n",
      "{}\n",
      "{}\n",
      "{}\n"
     ]
    }
   ],
   "source": [
    "for r in raw:\n",
    "    print(sp.get_system_coords(sp.rc(r), a))"
   ]
  },
  {
   "cell_type": "code",
   "execution_count": 54,
   "metadata": {
    "scrolled": true
   },
   "outputs": [
    {
     "name": "stdout",
     "output_type": "stream",
     "text": [
      "{}\n",
      "{}\n",
      "{}\n",
      "{}\n",
      "{}\n",
      "{}\n",
      "{}\n",
      "{}\n"
     ]
    }
   ],
   "source": [
    "for r in raw:\n",
    "    print(sp.get_system_coords(r, a))"
   ]
  },
  {
   "cell_type": "code",
   "execution_count": 56,
   "metadata": {},
   "outputs": [],
   "source": [
    "from spget import * "
   ]
  },
  {
   "cell_type": "code",
   "execution_count": 58,
   "metadata": {},
   "outputs": [],
   "source": [
    "path = \"../data/clostr_test/fastq/test_1.fastq\"\n",
    "path = \"../data/scripts/raw_data_clostr.fastq\"\n",
    "r_path = \"../data/scripts/primers.txt\"\n",
    "#rep = sp.load_repeats(r_path)"
   ]
  },
  {
   "cell_type": "code",
   "execution_count": null,
   "metadata": {},
   "outputs": [],
   "source": [
    "repeats = load_repeats(r_path)\n",
    "if not repeats:\n",
    "    warn(\"no repeats loaded, exiting\")\n",
    "    exit(1)\n",
    "\n",
    "all_mm = {}\n",
    "id2primers = {}\n",
    "fill_parts(repeats, all_mm, id2primers)\n",
    "\n",
    "\n",
    "warn(\"\\ntrimming...\")"
   ]
  },
  {
   "cell_type": "code",
   "execution_count": 66,
   "metadata": {
    "scrolled": true
   },
   "outputs": [
    {
     "name": "stdout",
     "output_type": "stream",
     "text": [
      "home\t@MN00409:27:000H2KHTM:1:11102:17147:1044 1:N:0:11\tACTATGTGGAATGTAAATGAGGAGATTCAGACAGCGACTAAAAAGACTGATATAAAGTTTTAGATTAACTATATGGAATGTAAATAACTTTATATCTCCANTTGCATATCCATCTGATGAACGTTTTAGATTAACTATATGGAATGTAAAT\tAFFAFFFFFF/FAFFFFFF6FFFFFFFFFFAFFFFFFFFFFFFFFFFF/FFFFFFFFFFFFFFFFFFFFFFFFFFFFFFFFF/FFFFFFFFFFFFF/FFF#FFFFFFFFFFFFFFFFFFFFF6FFFFFAFFFFFF//FAAAFA//FFAFFF\n",
      "\n",
      "['home', '@MN00409:27:000H2KHTM:1:11102:17147:1044 1:N:0:11', 'ACTATGTGGAATGTAAATGAGGAGATTCAGACAGCGACTAAAAAGACTGATATAAAGTTTTAGATTAACTATATGGAATGTAAATAACTTTATATCTCCANTTGCATATCCATCTGATGAACGTTTTAGATTAACTATATGGAATGTAAAT', 'AFFAFFFFFF/FAFFFFFF6FFFFFFFFFFAFFFFFFFFFFFFFFFFF/FFFFFFFFFFFFFFFFFFFFFFFFFFFFFFFFF/FFFFFFFFFFFFF/FFF#FFFFFFFFFFFFFFFFFFFFF6FFFFFAFFFFFF//FAAAFA//FFAFFF', '']\n",
      "home\t@MN00409:27:000H2KHTM:1:11102:23264:1052 1:N:0:11\tACTATGTGGAATGTAAATCAGCCAAAAACTTCGAATTTGAACTAAAATGCGTGGGTTTTAGATTAACTAAATGGAGATCGGAAGAGCACACGTCTGAACTCCAGTCACCCAGTATCATCTCGTATGCCGTCTTCGGCTTGAAAAAAATAAG\tAAAFFFFFFF/FFFFFFFFFFFFFFFFFFFFFFF/FFAFFFFFFFFFFFFFFFFFFFFFFFFFFFF/FAFFFFFFFFFFFFFFFFFFFFFFFFFFFFFFFFFFFFFFFFFFFFF=F/=//FF/FAF/FF///F//F//FF/FFFF=/////\n",
      "\n",
      "['home', '@MN00409:27:000H2KHTM:1:11102:23264:1052 1:N:0:11', 'ACTATGTGGAATGTAAATCAGCCAAAAACTTCGAATTTGAACTAAAATGCGTGGGTTTTAGATTAACTAAATGGAGATCGGAAGAGCACACGTCTGAACTCCAGTCACCCAGTATCATCTCGTATGCCGTCTTCGGCTTGAAAAAAATAAG', 'AAAFFFFFFF/FFFFFFFFFFFFFFFFFFFFFFF/FFAFFFFFFFFFFFFFFFFFFFFFFFFFFFF/FAFFFFFFFFFFFFFFFFFFFFFFFFFFFFFFFFFFFFFFFFFFFFF=F/=//FF/FAF/FF///F//F//FF/FFFF=/////', '']\n",
      "home\t@MN00409:27:000H2KHTM:1:11102:25662:1058 1:N:0:11\tCCATTTAGTTAATATAAAACGATAGACAAAGCTAGTGCAGACGCTAAAGTACAATCATTTACATTCCATATAGTAGATCGGAAGAGCACACGTCTGAACTCCAGTCACCCAGTATCAGCGCGTAAGCCGTCTTGTGCTTGAAAAAAAAGAA\tAAAFFF/FAFFFFFFFFF6AFFFAFFFFFFFAFFFA/FFFFFFFFF6FFFFFF/FFFF/FFFFFAFFF/FFFFFFFFFFFFFFA/FFFFFF/AFFF/FFFF/FFFF/FF/FFFFF/F///FFAF/FFF//F/F//FF/FF/AFFF//////\n",
      "\n",
      "['home', '@MN00409:27:000H2KHTM:1:11102:25662:1058 1:N:0:11', 'CCATTTAGTTAATATAAAACGATAGACAAAGCTAGTGCAGACGCTAAAGTACAATCATTTACATTCCATATAGTAGATCGGAAGAGCACACGTCTGAACTCCAGTCACCCAGTATCAGCGCGTAAGCCGTCTTGTGCTTGAAAAAAAAGAA', 'AAAFFF/FAFFFFFFFFF6AFFFAFFFFFFFAFFFA/FFFFFFFFF6FFFFFF/FFFF/FFFFFAFFF/FFFFFFFFFFFFFFA/FFFFFF/AFFF/FFFF/FFFF/FF/FFFFF/F///FFAF/FFF//F/F//FF/FF/AFFF//////', '']\n",
      "home\t@MN00409:27:000H2KHTM:1:11102:8181:1059 1:N:0:11\tACTATATGGAATGTAAATAGATCGGAAGAGCACACGTCTGAACTCCAGTCACCCAGTATCATCTCGTATGCCGGGGTGGGCTTGAAAAAAAAATGGGGGGGGGGGGGGGGGGGGGGGGGGGGGGGGGGGGGGGGGGGGGGGGGGGGGGGGG\tF=AFAFFFF6FFFFAFFFFFAFFFFFFFFFF6FFFFFFFF6FFFFFFFFFFFFFFFFFFF6////AA/FAA/F////A/////////F/F//////FAFFFFFFFFFFFAFFFFFFFFFFFFFFFFFFFAFFAFFFFFFAFFFAFFFAFFA\n",
      "\n",
      "['home', '@MN00409:27:000H2KHTM:1:11102:8181:1059 1:N:0:11', 'ACTATATGGAATGTAAATAGATCGGAAGAGCACACGTCTGAACTCCAGTCACCCAGTATCATCTCGTATGCCGGGGTGGGCTTGAAAAAAAAATGGGGGGGGGGGGGGGGGGGGGGGGGGGGGGGGGGGGGGGGGGGGGGGGGGGGGGGGG', 'F=AFAFFFF6FFFFAFFFFFAFFFFFFFFFF6FFFFFFFF6FFFFFFFFFFFFFFFFFFF6////AA/FAA/F////A/////////F/F//////FAFFFFFFFFFFFAFFFFFFFFFFFFFFFFFFFAFFAFFFFFFAFFFAFFFAFFA', '']\n",
      "home\t@MN00409:27:000H2KHTM:1:11102:4003:1043 1:N:0:12\tACTAAGTGGTATGTAAAGACAAACAAGTGTAGGANAAACTTTCCTTGCCCAGTATAGTTTTATATTAACTAAGTGGTATGTAAAGGCAGAAGATTTAGCGNCTGTTGTTGCTGAATGGGATGGTTTTATATTAACTAAGTGGAGATCGGAA\t/FFAAFFFFF6FFFFFFAFFFFFFFFFFFFFFFF#FF6FF/FFFFFFFFFFFAFFFFFFFFAFFFFFF/FFFFFFFFFFFFFFFFFF/FFFFFFFFFFFF#FF/FFFFFFFFFFFFAFFFAFFAFAFAF=FF==FFAFF6/FFFFFFFFFF\n",
      "\n",
      "['home', '@MN00409:27:000H2KHTM:1:11102:4003:1043 1:N:0:12', 'ACTAAGTGGTATGTAAAGACAAACAAGTGTAGGANAAACTTTCCTTGCCCAGTATAGTTTTATATTAACTAAGTGGTATGTAAAGGCAGAAGATTTAGCGNCTGTTGTTGCTGAATGGGATGGTTTTATATTAACTAAGTGGAGATCGGAA', '/FFAAFFFFF6FFFFFFAFFFFFFFFFFFFFFFF#FF6FF/FFFFFFFFFFFAFFFFFFFFAFFFFFF/FFFFFFFFFFFFFFFFFF/FFFFFFFFFFFF#FF/FFFFFFFFFFFFAFFFAFFAFAFAF=FF==FFAFF6/FFFFFFFFFF', '']\n",
      "home\t@MN00409:27:000H2KHTM:1:11102:24020:1061 1:N:0:12\tCGTGATCTGCCTGCCTCGGCCTCCCAAAGAGTTGGGATTATAGGGGTGAACCACTGGGCCTGGCCCATTATCGCTGTTTTAAAAGTCTTAGACCAGGTCTGGATAGGGAGAAATAAACGTAAGATCGGAAGAGCACACGTCTGCACTCCAG\t66AA6FAAF/FFFFF6FFAFFAFF/F/FFFFFFFFAFFFFFAF6FFFFF/FF/AFFAF/=/AA//AF/F/F////F/A/AFFF//F//A/FF///FFA/FFAF/FF/F/F///////FF/F/FF/FFF//6//F//=FFFF////6F//F/\n",
      "\n",
      "['home', '@MN00409:27:000H2KHTM:1:11102:24020:1061 1:N:0:12', 'CGTGATCTGCCTGCCTCGGCCTCCCAAAGAGTTGGGATTATAGGGGTGAACCACTGGGCCTGGCCCATTATCGCTGTTTTAAAAGTCTTAGACCAGGTCTGGATAGGGAGAAATAAACGTAAGATCGGAAGAGCACACGTCTGCACTCCAG', '66AA6FAAF/FFFFF6FFAFFAFF/F/FFFFFFFFAFFFFFAF6FFFFF/FF/AFFAF/=/AA//AF/F/F////F/A/AFFF//F//A/FF///FFA/FFAF/FF/F/F///////FF/F/FF/FFF//6//F//=FFFF////6F//F/', '']\n",
      "home\t@MN00409:27:000H2KHTM:1:11102:16527:1065 1:N:0:12\tTAAAACTTTATGGGGAAGGTGGTATGTAAAGCGAAAAATCTAGGAAAAACTATTGTAAAAGCGTTTAGTTTTATATTAACTAAGTGGTATGTAAAGTTTGATTACATGGGCAGTTTTTTATTATAGAGTGTTAGTTTTATATTAACTAAGT\tF/FFAFFFF6FFFFFFFF/FFFF6FFFAFFFFF/AFFFFFF/FF/FF/FFFFFFFFFFFFAF/F/FFFFAAFAFFFFA/FFFAFFFAFFF/FFF/FF/FF//FF///F/FFFA/FFFFFFF/AA/FFFFFFFFFFF=A=F/F//FFA/AF=\n",
      "\n",
      "['home', '@MN00409:27:000H2KHTM:1:11102:16527:1065 1:N:0:12', 'TAAAACTTTATGGGGAAGGTGGTATGTAAAGCGAAAAATCTAGGAAAAACTATTGTAAAAGCGTTTAGTTTTATATTAACTAAGTGGTATGTAAAGTTTGATTACATGGGCAGTTTTTTATTATAGAGTGTTAGTTTTATATTAACTAAGT', 'F/FFAFFFF6FFFFFFFF/FFFF6FFFAFFFFF/AFFFFFF/FF/FF/FFFFFFFFFFFFAF/F/FFFFAAFAFFFFA/FFFAFFFAFFF/FFF/FF/FF//FF///F/FFFA/FFFFFFF/AA/FFFFFFFFFFF=A=F/F//FFA/AF=', '']\n",
      "home\t@MN00409:27:000H2KHTM:1:11102:7086:1068 1:N:0:12\tCCACTTAGTTAATATAAAACCCTTTATAGATAATTTTATAGACTCTTTGTATGTACTATTTACATACCACATAGTTAATATAAAATGAAAAGAGTTTTATATTAACTAAGTGGAGATCGGAAGAGCACACGTCTGAACTCCTGTCACTCTA\tAAAFAFFFFF/FFFFFF6FAFFAAAF6FFF/FFFFFFFFAF/FFFAFFFFFFF/F6FFAFFFFFFFFFFFFFFFFFFFFFFFFFFFFFFF/AAFAFFFFFFFFF/FFFFFFAFFFFFFFAF/AA/F/A/FFFFAA//FF/F//FAFAAF/6\n",
      "\n",
      "['home', '@MN00409:27:000H2KHTM:1:11102:7086:1068 1:N:0:12', 'CCACTTAGTTAATATAAAACCCTTTATAGATAATTTTATAGACTCTTTGTATGTACTATTTACATACCACATAGTTAATATAAAATGAAAAGAGTTTTATATTAACTAAGTGGAGATCGGAAGAGCACACGTCTGAACTCCTGTCACTCTA', 'AAAFAFFFFF/FFFFFF6FAFFAAAF6FFF/FFFFFFFFAF/FFFAFFFFFFF/F6FFAFFFFFFFFFFFFFFFFFFFFFFFFFFFFFFF/AAFAFFFFFFFFF/FFFFFFAFFFFFFFAF/AA/F/A/FFFFAA//FF/F//FAFAAF/6', '']\n"
     ]
    }
   ],
   "source": [
    "start_time = time.time()\n",
    "for cnt, line in enumerate(lines, start = 1):\n",
    "#     if cnt % time_each == 0 or cnt == args.time_first:\n",
    "#         warn(\"\\nprocessed \" + str(cnt) + \" reads in \" + str_time(start_time) + \" ...\")\n",
    "#     if of_parts and cnt % of_parts != part:\n",
    "#         continue\n",
    "\n",
    "    print(line)\n",
    "    rec = list(map(lambda x: x.strip(), line.strip().split(\"\\t\")))\n",
    "    rec += [\"\"]\n",
    "    print(rec)\n",
    "    place, read_id, seq, qual = rec[0:4]\n",
    "\n",
    "    rc_seq = rc(seq)\n",
    "    rc_qual = qual[::-1]\n",
    "\n",
    "    res = get_system_coords(seq, all_mm)\n",
    "    res_rc = get_system_coords(rc_seq, all_mm)\n",
    "\n",
    "#     both_dirs = res and res_rc\n",
    "#     dump_read(place, read_id, res, seq, id2primers, both_dirs, \"+\", qual, args.dump_linked_ids)\n",
    "#     dump_read(place, read_id, res_rc, rc_seq, id2primers, both_dirs, \"-\", qual, args.dump_linked_ids)\n",
    "\n",
    "# warn(\"\\nprocessed \" + str(cnt) + \" reads in \" + str_time(start_time) + \" ...\")\n",
    "# warn(\"\\ndone...\")"
   ]
  },
  {
   "cell_type": "code",
   "execution_count": 74,
   "metadata": {},
   "outputs": [],
   "source": [
    "def get_system_coords(seq, all_mm):\n",
    "    out = defaultdict(list)\n",
    "    for pat in all_mm:\n",
    "        mm = all_mm[pat][\"MM\"]\n",
    "        ins = all_mm[pat][\"INS\"]\n",
    "        dl = all_mm[pat][\"DEL\"]\n",
    "        pat_sys = all_mm[pat][\"SYS\"]\n",
    "        pat_type = all_mm[pat][\"TYPE\"]\n",
    "        pat_re_fuzzy = all_mm[pat][\"RE_FUZZY\"]\n",
    "        pat_id = all_mm[pat][\"ID\"]\n",
    "        found = fuzzy_find_seq(seq, pat, mm, ins, dl, pat_re_fuzzy, pat_type, pat_id)\n",
    "        print(found)\n",
    "        if found:\n",
    "            for sys in pat_sys:\n",
    "                out[sys] += found\n",
    "    res = {}\n",
    "    for sys in out:\n",
    "        pruned = prune_matches(out[sys], sys)\n",
    "        if pruned:\n",
    "            res[sys] = pruned\n",
    "    return res\n"
   ]
  },
  {
   "cell_type": "code",
   "execution_count": 83,
   "metadata": {},
   "outputs": [],
   "source": [
    "def fuzzy_find_seq(where, what, mm, ins, dl, what_re_fuzzy, pat_type = None, pat_id = None):\n",
    "    '''returns [(mm, from, to, substr)]'''\n",
    "    if mm < 0:\n",
    "        mm = 0\n",
    "        \n",
    "        \n",
    "    print(what_re_fuzzy)\n",
    "        \n",
    "    print(where, \"\\n\", what)\n",
    "    out = []\n",
    "    \n",
    "    print(what_re_fuzzy.find(where, overlapped=True))\n",
    "    positions = [(i.span()[0], i.span()[1], i[0], i.fuzzy_counts[0], i.fuzzy_counts[1], i.fuzzy_counts[2]) for i in what_re_fuzzy.finditer(where, overlapped=True)]\n",
    "\n",
    "    positions = filter(lambda x: x[3] <= mm and x[4] <= ins and x[5] <= dl, positions)\n",
    "    \n",
    "    for frm, to, match, dist_mm, dist_ins, dist_del in positions:\n",
    "        out.append((dist_mm + dist_ins + dist_del, frm, to, match, pat_type, pat_id))\n",
    "    if not out:\n",
    "        return None\n",
    "    return out"
   ]
  },
  {
   "cell_type": "code",
   "execution_count": 89,
   "metadata": {},
   "outputs": [],
   "source": [
    "re = all_mm['GTTTTAKATTAACTAWRTGGWATGTAAAK']['RE_FUZZY']"
   ]
  },
  {
   "cell_type": "code",
   "execution_count": 91,
   "metadata": {},
   "outputs": [
    {
     "data": {
      "text/plain": [
       "regex.Regex('(?:GTTTTAKATTAACTAWRTGGWATGTAAAK){s<=2,i<=0,d<=0}', flags=regex.V0)"
      ]
     },
     "execution_count": 91,
     "metadata": {},
     "output_type": "execute_result"
    }
   ],
   "source": [
    "re"
   ]
  },
  {
   "cell_type": "code",
   "execution_count": 90,
   "metadata": {},
   "outputs": [
    {
     "data": {
      "text/plain": [
       "[]"
      ]
     },
     "execution_count": 90,
     "metadata": {},
     "output_type": "execute_result"
    }
   ],
   "source": [
    "re.findall(raw[0])"
   ]
  },
  {
   "cell_type": "code",
   "execution_count": 84,
   "metadata": {},
   "outputs": [
    {
     "name": "stdout",
     "output_type": "stream",
     "text": [
      "regex.Regex('(?:GTTTTAKATTAACTAWRTGGWATGTAAAK){s<=2,i<=0,d<=0}', flags=regex.V0)\n",
      "ACTATGTGGAATGTAAATGAGGAGATTCAGACAGCGACTAAAAAGACTGATATAAAGTTTTAGATTAACTATATGGAATGTAAATAACTTTATATCTCCANTTGCATATCCATCTGATGAACGTTTTAGATTAACTATATGGAATGTAAAT \n",
      " GTTTTAKATTAACTAWRTGGWATGTAAAK\n",
      "<_regex.Scanner object at 0x5594137969d0>\n",
      "None\n",
      "regex.Regex('(?:ACTAWRTGGWATGTAAAK){s<=2,i<=0,d<=0}', flags=regex.V0)\n",
      "ACTATGTGGAATGTAAATGAGGAGATTCAGACAGCGACTAAAAAGACTGATATAAAGTTTTAGATTAACTATATGGAATGTAAATAACTTTATATCTCCANTTGCATATCCATCTGATGAACGTTTTAGATTAACTATATGGAATGTAAAT \n",
      " ACTAWRTGGWATGTAAAK\n",
      "<_regex.Scanner object at 0x5594137969d0>\n",
      "None\n",
      "regex.Regex('(?:GTTTTAKATTAACTAWRTGG){s<=2,i<=0,d<=0}', flags=regex.V0)\n",
      "ACTATGTGGAATGTAAATGAGGAGATTCAGACAGCGACTAAAAAGACTGATATAAAGTTTTAGATTAACTATATGGAATGTAAATAACTTTATATCTCCANTTGCATATCCATCTGATGAACGTTTTAGATTAACTATATGGAATGTAAAT \n",
      " GTTTTAKATTAACTAWRTGG\n",
      "<_regex.Scanner object at 0x5594137969d0>\n",
      "None\n"
     ]
    },
    {
     "data": {
      "text/plain": [
       "{}"
      ]
     },
     "execution_count": 84,
     "metadata": {},
     "output_type": "execute_result"
    }
   ],
   "source": [
    "get_system_coords(raw[0], all_mm)"
   ]
  },
  {
   "cell_type": "code",
   "execution_count": null,
   "metadata": {},
   "outputs": [],
   "source": [
    "fuzzy_find_seq(raw[0], )"
   ]
  },
  {
   "cell_type": "code",
   "execution_count": 2,
   "metadata": {},
   "outputs": [
    {
     "data": {
      "text/plain": [
       "'F'"
      ]
     },
     "execution_count": 2,
     "metadata": {},
     "output_type": "execute_result"
    }
   ],
   "source": [
    "False and 'T' or 'F'"
   ]
  },
  {
   "cell_type": "code",
   "execution_count": null,
   "metadata": {},
   "outputs": [],
   "source": []
  }
 ],
 "metadata": {
  "kernelspec": {
   "display_name": "Python 3",
   "language": "python",
   "name": "python3"
  },
  "language_info": {
   "codemirror_mode": {
    "name": "ipython",
    "version": 3
   },
   "file_extension": ".py",
   "mimetype": "text/x-python",
   "name": "python",
   "nbconvert_exporter": "python",
   "pygments_lexer": "ipython3",
   "version": "3.6.3"
  }
 },
 "nbformat": 4,
 "nbformat_minor": 2
}
