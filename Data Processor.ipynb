{
 "cells": [
  {
   "cell_type": "code",
   "execution_count": 1,
   "metadata": {
    "collapsed": true
   },
   "outputs": [],
   "source": [
    "import numpy as np\n",
    "\n",
    "from tqdm import tqdm"
   ]
  },
  {
   "cell_type": "code",
   "execution_count": 2,
   "metadata": {
    "collapsed": true
   },
   "outputs": [],
   "source": [
    "letter_to_num = {}\n",
    "letter_to_num['A'] = 0\n",
    "letter_to_num['C'] = 1\n",
    "letter_to_num['T'] = 2\n",
    "letter_to_num['G'] = 3"
   ]
  },
  {
   "cell_type": "code",
   "execution_count": 3,
   "metadata": {
    "collapsed": true
   },
   "outputs": [],
   "source": [
    "num_to_letter = {}\n",
    "num_to_letter[0] = 'A'\n",
    "num_to_letter[1] = 'C'\n",
    "num_to_letter[2] = 'T'\n",
    "num_to_letter[3] = 'G'"
   ]
  },
  {
   "cell_type": "code",
   "execution_count": 4,
   "metadata": {
    "collapsed": true
   },
   "outputs": [],
   "source": [
    "def process_spacer(spacer):\n",
    "    ans = np.zeros(32*4)\n",
    "    \n",
    "    for i, letter in enumerate(spacer):\n",
    "        if letter in letter_to_num.keys():\n",
    "            ans[i*4 + letter_to_num[letter]] = 1\n",
    "    return ans\n",
    "    "
   ]
  },
  {
   "cell_type": "code",
   "execution_count": 5,
   "metadata": {
    "collapsed": true
   },
   "outputs": [],
   "source": [
    "def to_array(spacers):\n",
    "    X = np.zeros((len(spacers), 32 * 4))\n",
    "\n",
    "    for i, spacer in tqdm(enumerate(spacers)):\n",
    "        X[i,:] = process_spacer(spacer)\n",
    "    return X"
   ]
  },
  {
   "cell_type": "code",
   "execution_count": 6,
   "metadata": {
    "collapsed": true
   },
   "outputs": [],
   "source": [
    "def to_array_pairs(pairs):\n",
    "    X = np.zeros((len(pairs), 2, 32 * 4))\n",
    "\n",
    "    for i, pair in tqdm(enumerate(pairs)):\n",
    "        X[i,0,:] = process_spacer(pair[0][:32])\n",
    "        X[i,1,:] = process_spacer(pair[1][:32])\n",
    "    return X"
   ]
  },
  {
   "cell_type": "code",
   "execution_count": 246,
   "metadata": {
    "collapsed": true
   },
   "outputs": [],
   "source": [
    "with open(\"../data/ES/ES3_R1_spacers.txt\") as f:\n",
    "    lines1 = [x[:31] for x in f.readlines()[1:]]"
   ]
  },
  {
   "cell_type": "code",
   "execution_count": 175,
   "metadata": {
    "collapsed": true
   },
   "outputs": [],
   "source": [
    "with open(\"../data/SlO_10/SlO1_R2_spacers_10.txt\") as f:\n",
    "    lines2 = [x[:32] for x in f.readlines()[1:]]"
   ]
  },
  {
   "cell_type": "code",
   "execution_count": 176,
   "metadata": {},
   "outputs": [
    {
     "name": "stderr",
     "output_type": "stream",
     "text": [
      "325413it [00:05, 58452.29it/s]\n"
     ]
    }
   ],
   "source": [
    "X = to_array(lines1 + lines2)"
   ]
  },
  {
   "cell_type": "code",
   "execution_count": 177,
   "metadata": {},
   "outputs": [
    {
     "data": {
      "text/plain": [
       "(325413, 128)"
      ]
     },
     "execution_count": 177,
     "metadata": {},
     "output_type": "execute_result"
    }
   ],
   "source": [
    "X.shape"
   ]
  },
  {
   "cell_type": "code",
   "execution_count": 178,
   "metadata": {
    "collapsed": true
   },
   "outputs": [],
   "source": [
    "np.save(\"../data/npy/SlO\", X)"
   ]
  },
  {
   "cell_type": "markdown",
   "metadata": {},
   "source": [
    "#### ans 3"
   ]
  },
  {
   "cell_type": "code",
   "execution_count": 104,
   "metadata": {
    "collapsed": true
   },
   "outputs": [],
   "source": [
    "ans_3 = [\"CAGCGTCAGGCGTGAAATCTCACCGTCGTTGC\tTCGGTTCAGGCGTTGCAAACCTGGCTACCGGG\tGTAGTCCATCATTCCACCTATGTCTGAACTCC\tCCGGGGGATAATGTTTACGGTCATGCGCCCCC\tTGGGCGGCTTGCCTTGCAGCCAGCTCCAGCAG\tAAGCTGGCTGGCAATCTCTTTCGGGGTGAGTC\tTAGTTTCCGTATCTCCGGATTTATAAAGCTGA\tGCAGGCGGCGACGCGCAGGGTATGCGCGATTCG\tGCGACCGCTCAGAAATTCCAGACCCGATCCAAA\tTCAACATTATCAATTACAACCGACAGGGAGCC\tAGCGTGTTCGGCATCACCTTTGGCTTCGGCTG\tTGCGTGAGCGTATCGCCGCGCGTCTGCGAAAG\",\n",
    "\"GACAGAACGGCCTCAGTAGTCTCGTCAGGCTC\tCTGTTTTCGCAAATCTATGGACTATTGCTATT\tGGGCGCACGGAATACAAAGCCGTGTATCTGCT\tTGGCTCTGCAACAGCAGCACCCATGACCACGT\tGAAATGCTGGTGAGCGTTAATGCCGCAAACAC\tATTACGCCTTTTTGCGATTGCCCGGTTTTTGC\",\n",
    "\"GACAGAACGGCCTCAGTAGTCTCGTCAGGCTC\tACACGCCCTTATCAAATAGCTGTGATTTACCTA\tATAGACCCCGAACAACAATACGCGCAAACCGA\tTACCGTACAGACTGCCGGATATTATTTTTTTG\tCTGCTGCTCGAGCTGGTGGAGTGCTGCTATAG\tAACGTCAGGTTGTCGCCGCTCTGCGTGGTCGC\tTGCATGGCTTTGGCTTCCTCTTTGACGGACGC\tATATATCAGAGCAAAAAACAAAGCCACAGCCA\tCATAAAGAAACTATTTTGCGTTTCGTTCAGGT\tTTTTACAGTGTCAACAATCGTTCCCTGATTGT\tCCGCCGTTGGCACCGTCAAACTCCGGTACTGT\tTATAGAGATCGTTTTTGGAATTTACAGCGAGG\tCCGTAAGTGGTTTGAGCGATGATATTTGTGCT\",\n",
    "\"AGTGCTGGACCATTTCAAATTCACAATAGATT\tGGAATGATATTTCAATAAATAATTATAACAAT\tCCCTCACACCGATTCGCCAAACGGTGGAGAAG\tAGCTGGGCGAAATTTTGATTCATCGTGATGAC\"]"
   ]
  },
  {
   "cell_type": "code",
   "execution_count": 105,
   "metadata": {
    "collapsed": true
   },
   "outputs": [],
   "source": [
    "ans_3_31 = []\n",
    "for seq in ans_3:\n",
    "    for sp in seq.split(\"\\t\"):\n",
    "        ans_3_31.append(sp[:31])"
   ]
  },
  {
   "cell_type": "code",
   "execution_count": 106,
   "metadata": {
    "scrolled": true
   },
   "outputs": [
    {
     "data": {
      "text/plain": [
       "['CAGCGTCAGGCGTGAAATCTCACCGTCGTTG',\n",
       " 'TCGGTTCAGGCGTTGCAAACCTGGCTACCGG',\n",
       " 'GTAGTCCATCATTCCACCTATGTCTGAACTC',\n",
       " 'CCGGGGGATAATGTTTACGGTCATGCGCCCC',\n",
       " 'TGGGCGGCTTGCCTTGCAGCCAGCTCCAGCA',\n",
       " 'AAGCTGGCTGGCAATCTCTTTCGGGGTGAGT',\n",
       " 'TAGTTTCCGTATCTCCGGATTTATAAAGCTG',\n",
       " 'GCAGGCGGCGACGCGCAGGGTATGCGCGATT',\n",
       " 'GCGACCGCTCAGAAATTCCAGACCCGATCCA',\n",
       " 'TCAACATTATCAATTACAACCGACAGGGAGC',\n",
       " 'AGCGTGTTCGGCATCACCTTTGGCTTCGGCT',\n",
       " 'TGCGTGAGCGTATCGCCGCGCGTCTGCGAAA',\n",
       " 'GACAGAACGGCCTCAGTAGTCTCGTCAGGCT',\n",
       " 'CTGTTTTCGCAAATCTATGGACTATTGCTAT',\n",
       " 'GGGCGCACGGAATACAAAGCCGTGTATCTGC',\n",
       " 'TGGCTCTGCAACAGCAGCACCCATGACCACG',\n",
       " 'GAAATGCTGGTGAGCGTTAATGCCGCAAACA',\n",
       " 'ATTACGCCTTTTTGCGATTGCCCGGTTTTTG',\n",
       " 'GACAGAACGGCCTCAGTAGTCTCGTCAGGCT',\n",
       " 'ACACGCCCTTATCAAATAGCTGTGATTTACC',\n",
       " 'ATAGACCCCGAACAACAATACGCGCAAACCG',\n",
       " 'TACCGTACAGACTGCCGGATATTATTTTTTT',\n",
       " 'CTGCTGCTCGAGCTGGTGGAGTGCTGCTATA',\n",
       " 'AACGTCAGGTTGTCGCCGCTCTGCGTGGTCG',\n",
       " 'TGCATGGCTTTGGCTTCCTCTTTGACGGACG',\n",
       " 'ATATATCAGAGCAAAAAACAAAGCCACAGCC',\n",
       " 'CATAAAGAAACTATTTTGCGTTTCGTTCAGG',\n",
       " 'TTTTACAGTGTCAACAATCGTTCCCTGATTG',\n",
       " 'CCGCCGTTGGCACCGTCAAACTCCGGTACTG',\n",
       " 'TATAGAGATCGTTTTTGGAATTTACAGCGAG',\n",
       " 'CCGTAAGTGGTTTGAGCGATGATATTTGTGC',\n",
       " 'AGTGCTGGACCATTTCAAATTCACAATAGAT',\n",
       " 'GGAATGATATTTCAATAAATAATTATAACAA',\n",
       " 'CCCTCACACCGATTCGCCAAACGGTGGAGAA',\n",
       " 'AGCTGGGCGAAATTTTGATTCATCGTGATGA']"
      ]
     },
     "execution_count": 106,
     "metadata": {},
     "output_type": "execute_result"
    }
   ],
   "source": [
    "ans_3_31"
   ]
  },
  {
   "cell_type": "code",
   "execution_count": 107,
   "metadata": {},
   "outputs": [
    {
     "name": "stderr",
     "output_type": "stream",
     "text": [
      "35it [00:00, 18016.77it/s]\n"
     ]
    }
   ],
   "source": [
    "np.save(\"../data/npy/ES3_R1_ans_ez\", to_array(ans_3_31))"
   ]
  },
  {
   "cell_type": "code",
   "execution_count": 232,
   "metadata": {
    "scrolled": true
   },
   "outputs": [
    {
     "name": "stderr",
     "output_type": "stream",
     "text": [
      "12it [00:00, 27746.22it/s]\n",
      "6it [00:00, 22094.67it/s]\n",
      "13it [00:00, 28295.77it/s]\n",
      "4it [00:00, 18040.02it/s]\n"
     ]
    }
   ],
   "source": [
    "ans_3_array = [to_array([y[:31] for y in x.split(\"\\t\")]) for x in ans_3]"
   ]
  },
  {
   "cell_type": "code",
   "execution_count": 70,
   "metadata": {
    "collapsed": true
   },
   "outputs": [],
   "source": [
    "np.savez(\"./data/npy/ES3_R1_ans.npy\", ans_3_array)"
   ]
  },
  {
   "cell_type": "markdown",
   "metadata": {
    "collapsed": true
   },
   "source": [
    "#### pairs 3"
   ]
  },
  {
   "cell_type": "code",
   "execution_count": null,
   "metadata": {
    "collapsed": true
   },
   "outputs": [],
   "source": []
  },
  {
   "cell_type": "code",
   "execution_count": 167,
   "metadata": {
    "collapsed": true
   },
   "outputs": [],
   "source": [
    "with open(\"../data/SlO_10/SlO1_R1_pairs_10.txt\") as f:\n",
    "    lines1 = [x[:-2].split(' ') for x in f.readlines()]"
   ]
  },
  {
   "cell_type": "code",
   "execution_count": 168,
   "metadata": {
    "collapsed": true
   },
   "outputs": [],
   "source": [
    "with open(\"../data/SlO_10/SlO1_R2_pairs_10.txt\") as f:\n",
    "    lines2 = [x[:-2].split(' ') for x in f.readlines()]"
   ]
  },
  {
   "cell_type": "code",
   "execution_count": 169,
   "metadata": {
    "collapsed": true
   },
   "outputs": [],
   "source": [
    "lines = lines1 + lines2"
   ]
  },
  {
   "cell_type": "code",
   "execution_count": 170,
   "metadata": {},
   "outputs": [
    {
     "data": {
      "text/plain": [
       "96357"
      ]
     },
     "execution_count": 170,
     "metadata": {},
     "output_type": "execute_result"
    }
   ],
   "source": [
    "len(lines)"
   ]
  },
  {
   "cell_type": "code",
   "execution_count": 171,
   "metadata": {},
   "outputs": [
    {
     "name": "stderr",
     "output_type": "stream",
     "text": [
      "96357it [00:03, 29787.87it/s]\n"
     ]
    }
   ],
   "source": [
    "X = to_array_pairs(lines)"
   ]
  },
  {
   "cell_type": "code",
   "execution_count": 172,
   "metadata": {},
   "outputs": [
    {
     "data": {
      "text/plain": [
       "array([[ 0.,  0.,  0.,  1.,  0.,  1.,  0.,  0.,  0.,  1.,  0.,  0.,  0.,\n",
       "         0.,  1.,  0.,  0.,  0.,  0.,  1.,  1.,  0.,  0.,  0.,  0.,  1.,\n",
       "         0.,  0.,  1.,  0.,  0.,  0.,  0.,  0.,  1.,  0.,  0.,  0.,  1.,\n",
       "         0.,  0.,  0.,  0.,  1.,  0.,  1.,  0.,  0.,  1.,  0.,  0.,  0.,\n",
       "         0.,  0.,  0.,  1.,  1.,  0.,  0.,  0.,  0.,  1.,  0.,  0.,  0.,\n",
       "         0.,  0.,  1.,  0.,  0.,  1.,  0.,  0.,  0.,  1.,  0.,  1.,  0.,\n",
       "         0.,  0.,  0.,  1.,  0.,  0.,  1.,  0.,  0.,  0.,  1.,  0.,  0.,\n",
       "         0.,  1.,  0.,  0.,  0.,  0.,  0.,  1.,  0.,  0.,  0.,  1.,  0.,\n",
       "         0.,  0.,  0.,  1.,  1.,  0.,  0.,  0.,  0.,  0.,  0.,  1.,  1.,\n",
       "         0.,  0.,  0.,  0.,  0.,  0.,  1.,  0.,  0.,  0.,  1.],\n",
       "       [ 0.,  0.,  1.,  0.,  0.,  0.,  0.,  1.,  0.,  0.,  1.,  0.,  0.,\n",
       "         0.,  0.,  1.,  0.,  0.,  1.,  0.,  0.,  1.,  0.,  0.,  0.,  0.,\n",
       "         0.,  1.,  0.,  0.,  0.,  1.,  1.,  0.,  0.,  0.,  0.,  0.,  0.,\n",
       "         1.,  0.,  0.,  1.,  0.,  1.,  0.,  0.,  0.,  0.,  0.,  1.,  0.,\n",
       "         0.,  0.,  0.,  1.,  0.,  1.,  0.,  0.,  0.,  0.,  0.,  1.,  0.,\n",
       "         0.,  0.,  1.,  0.,  0.,  0.,  1.,  0.,  1.,  0.,  0.,  0.,  0.,\n",
       "         1.,  0.,  0.,  0.,  0.,  1.,  1.,  0.,  0.,  0.,  0.,  0.,  1.,\n",
       "         0.,  0.,  0.,  1.,  0.,  0.,  0.,  1.,  0.,  0.,  0.,  1.,  0.,\n",
       "         0.,  1.,  0.,  0.,  0.,  0.,  0.,  1.,  0.,  0.,  1.,  0.,  0.,\n",
       "         1.,  0.,  0.,  0.,  0.,  1.,  0.,  0.,  0.,  0.,  0.]])"
      ]
     },
     "execution_count": 172,
     "metadata": {},
     "output_type": "execute_result"
    }
   ],
   "source": [
    "X[0]"
   ]
  },
  {
   "cell_type": "code",
   "execution_count": 173,
   "metadata": {
    "collapsed": true
   },
   "outputs": [],
   "source": [
    "np.save(\"../data/npy/SlO_pairs\", X)"
   ]
  },
  {
   "cell_type": "code",
   "execution_count": null,
   "metadata": {
    "collapsed": true
   },
   "outputs": [],
   "source": []
  },
  {
   "cell_type": "markdown",
   "metadata": {},
   "source": [
    "#### ans 1"
   ]
  },
  {
   "cell_type": "code",
   "execution_count": 11,
   "metadata": {
    "collapsed": true
   },
   "outputs": [],
   "source": [
    "K_1 = ['CAGCGTCAGGCGTGAAATCTCACCGTCGTTGC', 'TCGGTTCAGGCGTTGCAAACCTGGCTACCGGG', \n",
    "       'GTAGTCCATCATTCCACCTATGTCTGAACTCC', 'CCGGGGGATAATGTTTACGGTCATGCGCCCCC', \n",
    "       'TGGGCGGCTTGCCTTGCAGCCAGCTCCAGCAG', 'AAGCTGGCTGGCAATCTCTTTCGGGGTGAGTC',\n",
    "       'TAGTTTCCGTATCTCCGGATTTATAAAGCTGA', 'GCAGGCGGCGACGCGCAGGGTATGCGCGATTCG', \n",
    "       'GCGACCGCTCAGAAATTCCAGACCCGATCCAAA','TCAACATTATCAATTACAACCGACAGGGAGCC', \n",
    "       'AGCGTGTTCGGCATCACCTTTGGCTTCGGCTG', 'TGCGTGAGCGTATCGCCGCGCGTCTGCGAAAG']\n",
    "       \n",
    "K_2 = ['GACAGAACGGCCTCAGTAGTCTCGTCAGGCTC', 'CTGTTTTCGCAAATCTATGGACTATTGCTATT', \n",
    "       'GGGCGCACGGAATACAAAGCCGTGTATCTGCT', 'TGGCTCTGCAACAGCAGCACCCATGACCACGT', \n",
    "       'GAAATGCTGGTGAGCGTTAATGCCGCAAACAC', 'ATTACGCCTTTTTGCGATTGCCCGGTTTTTGC']"
   ]
  },
  {
   "cell_type": "code",
   "execution_count": 23,
   "metadata": {},
   "outputs": [
    {
     "name": "stderr",
     "output_type": "stream",
     "text": [
      "18it [00:00, 26287.42it/s]\n"
     ]
    }
   ],
   "source": [
    "X_ans = to_array([x[:32] for x in K_1 + K_2])"
   ]
  },
  {
   "cell_type": "code",
   "execution_count": 24,
   "metadata": {
    "collapsed": true
   },
   "outputs": [],
   "source": [
    "np.save(\"./data/npy/ES1_R1_ans\", X_ans)"
   ]
  },
  {
   "cell_type": "markdown",
   "metadata": {},
   "source": [
    "#### db "
   ]
  },
  {
   "cell_type": "code",
   "execution_count": 41,
   "metadata": {
    "collapsed": true
   },
   "outputs": [],
   "source": [
    "with open(\"./data/CRISPR_db_2109.txt\") as f:\n",
    "    lines = f.readlines()"
   ]
  },
  {
   "cell_type": "code",
   "execution_count": 46,
   "metadata": {
    "collapsed": true
   },
   "outputs": [],
   "source": [
    "lines_split = [[y for y in x.split(\"\\t\")[1:-1] if len(y) > 0] for x in lines] "
   ]
  },
  {
   "cell_type": "code",
   "execution_count": 52,
   "metadata": {
    "collapsed": true
   },
   "outputs": [],
   "source": [
    "all_spacers = set()"
   ]
  },
  {
   "cell_type": "code",
   "execution_count": 53,
   "metadata": {},
   "outputs": [
    {
     "name": "stderr",
     "output_type": "stream",
     "text": [
      "100%|██████████| 3058/3058 [00:00<00:00, 464094.57it/s]\n"
     ]
    }
   ],
   "source": [
    "for line in tqdm(lines_split):\n",
    "    for sp in line:\n",
    "        all_spacers.add(sp)"
   ]
  },
  {
   "cell_type": "code",
   "execution_count": 58,
   "metadata": {
    "collapsed": true
   },
   "outputs": [],
   "source": [
    "db = [x[:32] for x in list(all_spacers)]"
   ]
  },
  {
   "cell_type": "code",
   "execution_count": 60,
   "metadata": {
    "scrolled": true
   },
   "outputs": [
    {
     "name": "stderr",
     "output_type": "stream",
     "text": [
      "1759it [00:00, 59841.84it/s]\n"
     ]
    }
   ],
   "source": [
    "np.save(\"./data/npy/db\", to_array(db))"
   ]
  },
  {
   "cell_type": "markdown",
   "metadata": {},
   "source": [
    "# SAME"
   ]
  },
  {
   "cell_type": "code",
   "execution_count": 247,
   "metadata": {
    "collapsed": true
   },
   "outputs": [],
   "source": [
    "s = set(ans_3_31)"
   ]
  },
  {
   "cell_type": "code",
   "execution_count": 248,
   "metadata": {
    "collapsed": true
   },
   "outputs": [],
   "source": [
    "count = 0\n",
    "for l in [x[:31] for x in lines1]:\n",
    "    if l in s:\n",
    "        count += 1"
   ]
  },
  {
   "cell_type": "code",
   "execution_count": 249,
   "metadata": {},
   "outputs": [
    {
     "data": {
      "text/plain": [
       "171756"
      ]
     },
     "execution_count": 249,
     "metadata": {},
     "output_type": "execute_result"
    }
   ],
   "source": [
    "count"
   ]
  },
  {
   "cell_type": "code",
   "execution_count": 250,
   "metadata": {},
   "outputs": [
    {
     "data": {
      "text/plain": [
       "198255"
      ]
     },
     "execution_count": 250,
     "metadata": {},
     "output_type": "execute_result"
    }
   ],
   "source": [
    "len(lines1)"
   ]
  },
  {
   "cell_type": "markdown",
   "metadata": {
    "collapsed": true
   },
   "source": [
    "#### How about some noise?"
   ]
  },
  {
   "cell_type": "code",
   "execution_count": 23,
   "metadata": {
    "collapsed": true
   },
   "outputs": [],
   "source": [
    "db = np.load(\"../data/npy/db.npy\")"
   ]
  },
  {
   "cell_type": "code",
   "execution_count": 24,
   "metadata": {},
   "outputs": [
    {
     "data": {
      "text/plain": [
       "(1759, 128)"
      ]
     },
     "execution_count": 24,
     "metadata": {},
     "output_type": "execute_result"
    }
   ],
   "source": [
    "db.shape"
   ]
  },
  {
   "cell_type": "code",
   "execution_count": 7,
   "metadata": {
    "collapsed": true
   },
   "outputs": [],
   "source": [
    "noise_matrix_ES1 = np.load(\"../switch_probs_ES1.npy\")"
   ]
  },
  {
   "cell_type": "code",
   "execution_count": 28,
   "metadata": {},
   "outputs": [],
   "source": [
    "spacer_r = db[0].reshape(-1, 4)"
   ]
  },
  {
   "cell_type": "code",
   "execution_count": 31,
   "metadata": {},
   "outputs": [
    {
     "data": {
      "text/plain": [
       "3"
      ]
     },
     "execution_count": 31,
     "metadata": {},
     "output_type": "execute_result"
    }
   ],
   "source": [
    "np.where(spacer_r[0])[0][0]"
   ]
  },
  {
   "cell_type": "code",
   "execution_count": 97,
   "metadata": {},
   "outputs": [],
   "source": [
    "x, y = np.where(db.reshape(-1, 32, 4).sum(2) == 0)"
   ]
  },
  {
   "cell_type": "code",
   "execution_count": 99,
   "metadata": {},
   "outputs": [
    {
     "data": {
      "text/plain": [
       "(array([], dtype=int64), array([], dtype=int64))"
      ]
     },
     "execution_count": 99,
     "metadata": {},
     "output_type": "execute_result"
    }
   ],
   "source": [
    "np.where(db.reshape(-1, 32, 4).sum(2) == 0)"
   ]
  },
  {
   "cell_type": "code",
   "execution_count": 91,
   "metadata": {},
   "outputs": [
    {
     "data": {
      "text/plain": [
       "True"
      ]
     },
     "execution_count": 91,
     "metadata": {},
     "output_type": "execute_result"
    }
   ],
   "source": [
    "(db.reshape(-1, 32, 4).sum(2) == 0)[13][31]"
   ]
  },
  {
   "cell_type": "code",
   "execution_count": 98,
   "metadata": {
    "collapsed": true
   },
   "outputs": [],
   "source": [
    "for i, j in zip(x, y):\n",
    "    db[i][j * 4] = 1"
   ]
  },
  {
   "cell_type": "code",
   "execution_count": 45,
   "metadata": {},
   "outputs": [],
   "source": [
    "def add_noize_arr(spacer, mat):\n",
    "    spacer_r = spacer.reshape(-1, 4)\n",
    "    spacer_n = np.zeros_like(spacer_r)\n",
    "    for i, letter in enumerate(spacer_r):\n",
    "        #print(letter)\n",
    "        #print(np.where(letter)[0])\n",
    "        probs = mat[np.where(letter)[0][0]]\n",
    "        \n",
    "        letter_n = np.random.choice([0,1,2,3], p=probs)\n",
    "    \n",
    "        spacer_n[i][letter_n] = 1\n",
    "\n",
    "    #print(changes)\n",
    "    return spacer_n.flatten()"
   ]
  },
  {
   "cell_type": "code",
   "execution_count": 8,
   "metadata": {
    "collapsed": true
   },
   "outputs": [],
   "source": [
    "def add_noize(spacer, mat):\n",
    "    changes = 0\n",
    "    noized = []\n",
    "    for letter in spacer: \n",
    "        probs = mat[letter_to_num[letter]]\n",
    "        \n",
    "        letter_n = np.random.choice([\"A\",\"C\",\"T\",\"G\"], p=probs)\n",
    "        if letter != letter_n:\n",
    "            changes += 1\n",
    "            #print(letter, letter_n)\n",
    "        noized.append(letter_n)\n",
    "\n",
    "    #print(changes)\n",
    "    return ''.join(noized)"
   ]
  },
  {
   "cell_type": "code",
   "execution_count": 9,
   "metadata": {},
   "outputs": [
    {
     "data": {
      "text/plain": [
       "1.0"
      ]
     },
     "execution_count": 9,
     "metadata": {},
     "output_type": "execute_result"
    }
   ],
   "source": [
    "noise_matrix_ES1[0].sum()"
   ]
  },
  {
   "cell_type": "code",
   "execution_count": 76,
   "metadata": {
    "scrolled": true
   },
   "outputs": [
    {
     "name": "stdout",
     "output_type": "stream",
     "text": [
      "1.81 ms ± 47 µs per loop (mean ± std. dev. of 7 runs, 100 loops each)\n"
     ]
    }
   ],
   "source": [
    "%timeit add_noize_arr(db[0], noise_matrix_ES1)\n"
   ]
  },
  {
   "cell_type": "code",
   "execution_count": 207,
   "metadata": {},
   "outputs": [
    {
     "data": {
      "text/plain": [
       "array([[  9.97794183e-01,   1.94532712e-04,   2.43792069e-04,\n",
       "          1.76749250e-03],\n",
       "       [  1.07435481e-04,   9.99195923e-01,   6.22314958e-04,\n",
       "          7.43264336e-05],\n",
       "       [  2.57768403e-04,   1.78670327e-03,   9.97787611e-01,\n",
       "          1.67917703e-04],\n",
       "       [  5.78425309e-04,   8.16095114e-05,   1.05949190e-04,\n",
       "          9.99234016e-01]])"
      ]
     },
     "execution_count": 207,
     "metadata": {},
     "output_type": "execute_result"
    }
   ],
   "source": [
    "noise_matrix_ES1"
   ]
  },
  {
   "cell_type": "code",
   "execution_count": 112,
   "metadata": {
    "collapsed": true
   },
   "outputs": [],
   "source": [
    "num = 500000"
   ]
  },
  {
   "cell_type": "code",
   "execution_count": 113,
   "metadata": {
    "scrolled": true
   },
   "outputs": [
    {
     "name": "stderr",
     "output_type": "stream",
     "text": [
      "100%|██████████| 1759/1759 [00:03<00:00, 498.41it/s]\n",
      "  3%|▎         | 50/1759 [00:00<00:03, 499.04it/s]"
     ]
    },
    {
     "name": "stdout",
     "output_type": "stream",
     "text": [
      "1759\n"
     ]
    },
    {
     "name": "stderr",
     "output_type": "stream",
     "text": [
      "100%|██████████| 1759/1759 [00:03<00:00, 499.45it/s]\n",
      "  3%|▎         | 50/1759 [00:00<00:03, 492.93it/s]"
     ]
    },
    {
     "name": "stdout",
     "output_type": "stream",
     "text": [
      "3518\n"
     ]
    },
    {
     "name": "stderr",
     "output_type": "stream",
     "text": [
      "100%|██████████| 1759/1759 [00:03<00:00, 496.08it/s]\n",
      "  3%|▎         | 52/1759 [00:00<00:03, 516.32it/s]"
     ]
    },
    {
     "name": "stdout",
     "output_type": "stream",
     "text": [
      "5277\n"
     ]
    },
    {
     "name": "stderr",
     "output_type": "stream",
     "text": [
      "100%|██████████| 1759/1759 [00:03<00:00, 503.37it/s]\n",
      "  3%|▎         | 52/1759 [00:00<00:03, 512.82it/s]"
     ]
    },
    {
     "name": "stdout",
     "output_type": "stream",
     "text": [
      "7036\n"
     ]
    },
    {
     "name": "stderr",
     "output_type": "stream",
     "text": [
      "100%|██████████| 1759/1759 [00:03<00:00, 500.60it/s]\n",
      "  3%|▎         | 50/1759 [00:00<00:03, 496.35it/s]"
     ]
    },
    {
     "name": "stdout",
     "output_type": "stream",
     "text": [
      "8795\n"
     ]
    },
    {
     "name": "stderr",
     "output_type": "stream",
     "text": [
      "100%|██████████| 1759/1759 [00:03<00:00, 496.23it/s]\n",
      "  3%|▎         | 51/1759 [00:00<00:03, 504.66it/s]"
     ]
    },
    {
     "name": "stdout",
     "output_type": "stream",
     "text": [
      "10554\n"
     ]
    },
    {
     "name": "stderr",
     "output_type": "stream",
     "text": [
      "100%|██████████| 1759/1759 [00:03<00:00, 496.27it/s]\n",
      "  3%|▎         | 52/1759 [00:00<00:03, 511.72it/s]"
     ]
    },
    {
     "name": "stdout",
     "output_type": "stream",
     "text": [
      "12313\n"
     ]
    },
    {
     "name": "stderr",
     "output_type": "stream",
     "text": [
      "100%|██████████| 1759/1759 [00:03<00:00, 505.95it/s]\n",
      "  3%|▎         | 51/1759 [00:00<00:03, 503.20it/s]"
     ]
    },
    {
     "name": "stdout",
     "output_type": "stream",
     "text": [
      "14072\n"
     ]
    },
    {
     "name": "stderr",
     "output_type": "stream",
     "text": [
      "100%|██████████| 1759/1759 [00:03<00:00, 508.22it/s]\n",
      "  3%|▎         | 51/1759 [00:00<00:03, 505.11it/s]"
     ]
    },
    {
     "name": "stdout",
     "output_type": "stream",
     "text": [
      "15831\n"
     ]
    },
    {
     "name": "stderr",
     "output_type": "stream",
     "text": [
      "100%|██████████| 1759/1759 [00:03<00:00, 506.94it/s]\n",
      "  3%|▎         | 52/1759 [00:00<00:03, 515.67it/s]"
     ]
    },
    {
     "name": "stdout",
     "output_type": "stream",
     "text": [
      "17590\n"
     ]
    },
    {
     "name": "stderr",
     "output_type": "stream",
     "text": [
      "100%|██████████| 1759/1759 [00:03<00:00, 504.51it/s]\n",
      "  3%|▎         | 49/1759 [00:00<00:03, 489.86it/s]"
     ]
    },
    {
     "name": "stdout",
     "output_type": "stream",
     "text": [
      "19349\n"
     ]
    },
    {
     "name": "stderr",
     "output_type": "stream",
     "text": [
      "100%|██████████| 1759/1759 [00:03<00:00, 508.23it/s]\n",
      "  3%|▎         | 53/1759 [00:00<00:03, 528.09it/s]"
     ]
    },
    {
     "name": "stdout",
     "output_type": "stream",
     "text": [
      "21108\n"
     ]
    },
    {
     "name": "stderr",
     "output_type": "stream",
     "text": [
      "100%|██████████| 1759/1759 [00:03<00:00, 505.14it/s]\n",
      "  3%|▎         | 44/1759 [00:00<00:03, 436.79it/s]"
     ]
    },
    {
     "name": "stdout",
     "output_type": "stream",
     "text": [
      "22867\n"
     ]
    },
    {
     "name": "stderr",
     "output_type": "stream",
     "text": [
      "100%|██████████| 1759/1759 [00:03<00:00, 503.54it/s]\n",
      "  3%|▎         | 49/1759 [00:00<00:03, 485.65it/s]"
     ]
    },
    {
     "name": "stdout",
     "output_type": "stream",
     "text": [
      "24626\n"
     ]
    },
    {
     "name": "stderr",
     "output_type": "stream",
     "text": [
      "100%|██████████| 1759/1759 [00:03<00:00, 505.84it/s]\n",
      "  3%|▎         | 52/1759 [00:00<00:03, 518.00it/s]"
     ]
    },
    {
     "name": "stdout",
     "output_type": "stream",
     "text": [
      "26385\n"
     ]
    },
    {
     "name": "stderr",
     "output_type": "stream",
     "text": [
      "100%|██████████| 1759/1759 [00:03<00:00, 508.66it/s]\n",
      "  3%|▎         | 52/1759 [00:00<00:03, 519.33it/s]"
     ]
    },
    {
     "name": "stdout",
     "output_type": "stream",
     "text": [
      "28144\n"
     ]
    },
    {
     "name": "stderr",
     "output_type": "stream",
     "text": [
      "100%|██████████| 1759/1759 [00:03<00:00, 514.70it/s]\n",
      "  3%|▎         | 52/1759 [00:00<00:03, 515.44it/s]"
     ]
    },
    {
     "name": "stdout",
     "output_type": "stream",
     "text": [
      "29903\n"
     ]
    },
    {
     "name": "stderr",
     "output_type": "stream",
     "text": [
      "100%|██████████| 1759/1759 [00:03<00:00, 510.97it/s]\n",
      "  3%|▎         | 52/1759 [00:00<00:03, 517.61it/s]"
     ]
    },
    {
     "name": "stdout",
     "output_type": "stream",
     "text": [
      "31662\n"
     ]
    },
    {
     "name": "stderr",
     "output_type": "stream",
     "text": [
      "100%|██████████| 1759/1759 [00:03<00:00, 504.68it/s]\n",
      "  3%|▎         | 52/1759 [00:00<00:03, 518.53it/s]"
     ]
    },
    {
     "name": "stdout",
     "output_type": "stream",
     "text": [
      "33421\n"
     ]
    },
    {
     "name": "stderr",
     "output_type": "stream",
     "text": [
      "100%|██████████| 1759/1759 [00:03<00:00, 505.29it/s]\n",
      "  3%|▎         | 52/1759 [00:00<00:03, 518.12it/s]"
     ]
    },
    {
     "name": "stdout",
     "output_type": "stream",
     "text": [
      "35180\n"
     ]
    },
    {
     "name": "stderr",
     "output_type": "stream",
     "text": [
      "100%|██████████| 1759/1759 [00:03<00:00, 505.45it/s]\n",
      "  3%|▎         | 53/1759 [00:00<00:03, 524.86it/s]"
     ]
    },
    {
     "name": "stdout",
     "output_type": "stream",
     "text": [
      "36939\n"
     ]
    },
    {
     "name": "stderr",
     "output_type": "stream",
     "text": [
      "100%|██████████| 1759/1759 [00:03<00:00, 503.60it/s]\n",
      "  3%|▎         | 50/1759 [00:00<00:03, 493.82it/s]"
     ]
    },
    {
     "name": "stdout",
     "output_type": "stream",
     "text": [
      "38698\n"
     ]
    },
    {
     "name": "stderr",
     "output_type": "stream",
     "text": [
      "100%|██████████| 1759/1759 [00:03<00:00, 506.04it/s]\n",
      "  3%|▎         | 52/1759 [00:00<00:03, 518.20it/s]"
     ]
    },
    {
     "name": "stdout",
     "output_type": "stream",
     "text": [
      "40457\n"
     ]
    },
    {
     "name": "stderr",
     "output_type": "stream",
     "text": [
      "100%|██████████| 1759/1759 [00:03<00:00, 503.94it/s]\n",
      "  3%|▎         | 53/1759 [00:00<00:03, 521.13it/s]"
     ]
    },
    {
     "name": "stdout",
     "output_type": "stream",
     "text": [
      "42216\n"
     ]
    },
    {
     "name": "stderr",
     "output_type": "stream",
     "text": [
      "100%|██████████| 1759/1759 [00:03<00:00, 514.18it/s]\n",
      "  3%|▎         | 51/1759 [00:00<00:03, 508.44it/s]"
     ]
    },
    {
     "name": "stdout",
     "output_type": "stream",
     "text": [
      "43975\n"
     ]
    },
    {
     "name": "stderr",
     "output_type": "stream",
     "text": [
      "100%|██████████| 1759/1759 [00:03<00:00, 505.02it/s]\n",
      "  3%|▎         | 52/1759 [00:00<00:03, 518.54it/s]"
     ]
    },
    {
     "name": "stdout",
     "output_type": "stream",
     "text": [
      "45734\n"
     ]
    },
    {
     "name": "stderr",
     "output_type": "stream",
     "text": [
      "100%|██████████| 1759/1759 [00:03<00:00, 503.46it/s]\n",
      "  3%|▎         | 48/1759 [00:00<00:03, 474.79it/s]"
     ]
    },
    {
     "name": "stdout",
     "output_type": "stream",
     "text": [
      "47493\n"
     ]
    },
    {
     "name": "stderr",
     "output_type": "stream",
     "text": [
      "100%|██████████| 1759/1759 [00:03<00:00, 500.97it/s]\n",
      "  3%|▎         | 47/1759 [00:00<00:03, 468.57it/s]"
     ]
    },
    {
     "name": "stdout",
     "output_type": "stream",
     "text": [
      "49252\n"
     ]
    },
    {
     "name": "stderr",
     "output_type": "stream",
     "text": [
      "100%|██████████| 1759/1759 [00:03<00:00, 502.23it/s]\n",
      "  3%|▎         | 51/1759 [00:00<00:03, 507.70it/s]"
     ]
    },
    {
     "name": "stdout",
     "output_type": "stream",
     "text": [
      "51011\n"
     ]
    },
    {
     "name": "stderr",
     "output_type": "stream",
     "text": [
      "100%|██████████| 1759/1759 [00:03<00:00, 506.78it/s]\n",
      "  3%|▎         | 53/1759 [00:00<00:03, 520.62it/s]"
     ]
    },
    {
     "name": "stdout",
     "output_type": "stream",
     "text": [
      "52770\n"
     ]
    },
    {
     "name": "stderr",
     "output_type": "stream",
     "text": [
      "100%|██████████| 1759/1759 [00:03<00:00, 504.53it/s]\n",
      "  3%|▎         | 51/1759 [00:00<00:03, 508.36it/s]"
     ]
    },
    {
     "name": "stdout",
     "output_type": "stream",
     "text": [
      "54529\n"
     ]
    },
    {
     "name": "stderr",
     "output_type": "stream",
     "text": [
      "100%|██████████| 1759/1759 [00:03<00:00, 506.57it/s]\n",
      "  3%|▎         | 52/1759 [00:00<00:03, 513.40it/s]"
     ]
    },
    {
     "name": "stdout",
     "output_type": "stream",
     "text": [
      "56288\n"
     ]
    },
    {
     "name": "stderr",
     "output_type": "stream",
     "text": [
      "100%|██████████| 1759/1759 [00:03<00:00, 510.62it/s]\n",
      "  3%|▎         | 51/1759 [00:00<00:03, 508.54it/s]"
     ]
    },
    {
     "name": "stdout",
     "output_type": "stream",
     "text": [
      "58047\n"
     ]
    },
    {
     "name": "stderr",
     "output_type": "stream",
     "text": [
      "100%|██████████| 1759/1759 [00:03<00:00, 509.66it/s]\n",
      "  3%|▎         | 53/1759 [00:00<00:03, 525.15it/s]"
     ]
    },
    {
     "name": "stdout",
     "output_type": "stream",
     "text": [
      "59806\n"
     ]
    },
    {
     "name": "stderr",
     "output_type": "stream",
     "text": [
      "100%|██████████| 1759/1759 [00:03<00:00, 503.57it/s]\n",
      "  3%|▎         | 52/1759 [00:00<00:03, 511.33it/s]"
     ]
    },
    {
     "name": "stdout",
     "output_type": "stream",
     "text": [
      "61565\n"
     ]
    },
    {
     "name": "stderr",
     "output_type": "stream",
     "text": [
      "100%|██████████| 1759/1759 [00:03<00:00, 504.87it/s]\n",
      "  3%|▎         | 53/1759 [00:00<00:03, 521.63it/s]"
     ]
    },
    {
     "name": "stdout",
     "output_type": "stream",
     "text": [
      "63324\n"
     ]
    },
    {
     "name": "stderr",
     "output_type": "stream",
     "text": [
      "100%|██████████| 1759/1759 [00:03<00:00, 504.63it/s]\n",
      "  3%|▎         | 51/1759 [00:00<00:03, 504.00it/s]"
     ]
    },
    {
     "name": "stdout",
     "output_type": "stream",
     "text": [
      "65083\n"
     ]
    },
    {
     "name": "stderr",
     "output_type": "stream",
     "text": [
      "100%|██████████| 1759/1759 [00:03<00:00, 507.93it/s]\n",
      "  3%|▎         | 51/1759 [00:00<00:03, 501.68it/s]"
     ]
    },
    {
     "name": "stdout",
     "output_type": "stream",
     "text": [
      "66842\n"
     ]
    },
    {
     "name": "stderr",
     "output_type": "stream",
     "text": [
      "100%|██████████| 1759/1759 [00:03<00:00, 512.17it/s]\n",
      "  3%|▎         | 49/1759 [00:00<00:03, 485.71it/s]"
     ]
    },
    {
     "name": "stdout",
     "output_type": "stream",
     "text": [
      "68601\n"
     ]
    },
    {
     "name": "stderr",
     "output_type": "stream",
     "text": [
      "100%|██████████| 1759/1759 [00:03<00:00, 511.89it/s]\n",
      "  3%|▎         | 52/1759 [00:00<00:03, 514.58it/s]"
     ]
    },
    {
     "name": "stdout",
     "output_type": "stream",
     "text": [
      "70360\n"
     ]
    },
    {
     "name": "stderr",
     "output_type": "stream",
     "text": [
      "100%|██████████| 1759/1759 [00:03<00:00, 510.54it/s]\n",
      "  3%|▎         | 47/1759 [00:00<00:03, 466.59it/s]"
     ]
    },
    {
     "name": "stdout",
     "output_type": "stream",
     "text": [
      "72119\n"
     ]
    },
    {
     "name": "stderr",
     "output_type": "stream",
     "text": [
      "100%|██████████| 1759/1759 [00:03<00:00, 500.24it/s]\n",
      "  3%|▎         | 51/1759 [00:00<00:03, 502.32it/s]"
     ]
    },
    {
     "name": "stdout",
     "output_type": "stream",
     "text": [
      "73878\n"
     ]
    },
    {
     "name": "stderr",
     "output_type": "stream",
     "text": [
      "100%|██████████| 1759/1759 [00:03<00:00, 508.20it/s]\n",
      "  3%|▎         | 51/1759 [00:00<00:03, 502.11it/s]"
     ]
    },
    {
     "name": "stdout",
     "output_type": "stream",
     "text": [
      "75637\n"
     ]
    },
    {
     "name": "stderr",
     "output_type": "stream",
     "text": [
      "100%|██████████| 1759/1759 [00:03<00:00, 510.23it/s]\n",
      "  3%|▎         | 53/1759 [00:00<00:03, 523.77it/s]"
     ]
    },
    {
     "name": "stdout",
     "output_type": "stream",
     "text": [
      "77396\n"
     ]
    },
    {
     "name": "stderr",
     "output_type": "stream",
     "text": [
      "100%|██████████| 1759/1759 [00:03<00:00, 511.61it/s]\n",
      "  3%|▎         | 52/1759 [00:00<00:03, 518.85it/s]"
     ]
    },
    {
     "name": "stdout",
     "output_type": "stream",
     "text": [
      "79155\n"
     ]
    },
    {
     "name": "stderr",
     "output_type": "stream",
     "text": [
      "100%|██████████| 1759/1759 [00:03<00:00, 507.65it/s]\n",
      "  3%|▎         | 52/1759 [00:00<00:03, 512.93it/s]"
     ]
    },
    {
     "name": "stdout",
     "output_type": "stream",
     "text": [
      "80914\n"
     ]
    },
    {
     "name": "stderr",
     "output_type": "stream",
     "text": [
      "100%|██████████| 1759/1759 [00:03<00:00, 504.09it/s]\n",
      "  3%|▎         | 51/1759 [00:00<00:03, 502.75it/s]"
     ]
    },
    {
     "name": "stdout",
     "output_type": "stream",
     "text": [
      "82673\n"
     ]
    },
    {
     "name": "stderr",
     "output_type": "stream",
     "text": [
      "100%|██████████| 1759/1759 [00:03<00:00, 510.78it/s]\n",
      "  3%|▎         | 53/1759 [00:00<00:03, 526.16it/s]"
     ]
    },
    {
     "name": "stdout",
     "output_type": "stream",
     "text": [
      "84432\n"
     ]
    },
    {
     "name": "stderr",
     "output_type": "stream",
     "text": [
      "100%|██████████| 1759/1759 [00:03<00:00, 512.06it/s]\n",
      "  3%|▎         | 53/1759 [00:00<00:03, 527.22it/s]"
     ]
    },
    {
     "name": "stdout",
     "output_type": "stream",
     "text": [
      "86191\n"
     ]
    },
    {
     "name": "stderr",
     "output_type": "stream",
     "text": [
      "100%|██████████| 1759/1759 [00:03<00:00, 514.42it/s]\n",
      "  3%|▎         | 52/1759 [00:00<00:03, 514.89it/s]"
     ]
    },
    {
     "name": "stdout",
     "output_type": "stream",
     "text": [
      "87950\n"
     ]
    },
    {
     "name": "stderr",
     "output_type": "stream",
     "text": [
      "100%|██████████| 1759/1759 [00:03<00:00, 505.71it/s]\n",
      "  3%|▎         | 51/1759 [00:00<00:03, 505.04it/s]"
     ]
    },
    {
     "name": "stdout",
     "output_type": "stream",
     "text": [
      "89709\n"
     ]
    },
    {
     "name": "stderr",
     "output_type": "stream",
     "text": [
      "100%|██████████| 1759/1759 [00:03<00:00, 512.75it/s]\n",
      "  3%|▎         | 52/1759 [00:00<00:03, 516.41it/s]"
     ]
    },
    {
     "name": "stdout",
     "output_type": "stream",
     "text": [
      "91468\n"
     ]
    },
    {
     "name": "stderr",
     "output_type": "stream",
     "text": [
      "100%|██████████| 1759/1759 [00:03<00:00, 512.46it/s]\n",
      "  3%|▎         | 53/1759 [00:00<00:03, 524.61it/s]"
     ]
    },
    {
     "name": "stdout",
     "output_type": "stream",
     "text": [
      "93227\n"
     ]
    },
    {
     "name": "stderr",
     "output_type": "stream",
     "text": [
      "100%|██████████| 1759/1759 [00:03<00:00, 503.95it/s]\n",
      "  3%|▎         | 48/1759 [00:00<00:03, 477.78it/s]"
     ]
    },
    {
     "name": "stdout",
     "output_type": "stream",
     "text": [
      "94986\n"
     ]
    },
    {
     "name": "stderr",
     "output_type": "stream",
     "text": [
      "100%|██████████| 1759/1759 [00:03<00:00, 513.16it/s]\n",
      "  3%|▎         | 52/1759 [00:00<00:03, 519.73it/s]"
     ]
    },
    {
     "name": "stdout",
     "output_type": "stream",
     "text": [
      "96745\n"
     ]
    },
    {
     "name": "stderr",
     "output_type": "stream",
     "text": [
      "100%|██████████| 1759/1759 [00:03<00:00, 511.10it/s]\n",
      "  3%|▎         | 53/1759 [00:00<00:03, 525.98it/s]"
     ]
    },
    {
     "name": "stdout",
     "output_type": "stream",
     "text": [
      "98504\n"
     ]
    },
    {
     "name": "stderr",
     "output_type": "stream",
     "text": [
      "100%|██████████| 1759/1759 [00:03<00:00, 510.04it/s]\n",
      "  3%|▎         | 52/1759 [00:00<00:03, 518.04it/s]"
     ]
    },
    {
     "name": "stdout",
     "output_type": "stream",
     "text": [
      "100263\n"
     ]
    },
    {
     "name": "stderr",
     "output_type": "stream",
     "text": [
      "100%|██████████| 1759/1759 [00:03<00:00, 503.04it/s]\n",
      "  3%|▎         | 51/1759 [00:00<00:03, 508.19it/s]"
     ]
    },
    {
     "name": "stdout",
     "output_type": "stream",
     "text": [
      "102022\n"
     ]
    },
    {
     "name": "stderr",
     "output_type": "stream",
     "text": [
      "100%|██████████| 1759/1759 [00:03<00:00, 506.88it/s]\n",
      "  3%|▎         | 48/1759 [00:00<00:03, 477.19it/s]"
     ]
    },
    {
     "name": "stdout",
     "output_type": "stream",
     "text": [
      "103781\n"
     ]
    },
    {
     "name": "stderr",
     "output_type": "stream",
     "text": [
      "100%|██████████| 1759/1759 [00:03<00:00, 503.73it/s]\n",
      "  3%|▎         | 51/1759 [00:00<00:03, 509.71it/s]"
     ]
    },
    {
     "name": "stdout",
     "output_type": "stream",
     "text": [
      "105540\n"
     ]
    },
    {
     "name": "stderr",
     "output_type": "stream",
     "text": [
      "100%|██████████| 1759/1759 [00:03<00:00, 507.22it/s]\n",
      "  3%|▎         | 47/1759 [00:00<00:03, 465.86it/s]"
     ]
    },
    {
     "name": "stdout",
     "output_type": "stream",
     "text": [
      "107299\n"
     ]
    },
    {
     "name": "stderr",
     "output_type": "stream",
     "text": [
      "100%|██████████| 1759/1759 [00:03<00:00, 497.33it/s]\n",
      "  3%|▎         | 53/1759 [00:00<00:03, 522.70it/s]"
     ]
    },
    {
     "name": "stdout",
     "output_type": "stream",
     "text": [
      "109058\n"
     ]
    },
    {
     "name": "stderr",
     "output_type": "stream",
     "text": [
      "100%|██████████| 1759/1759 [00:03<00:00, 509.92it/s]\n",
      "  3%|▎         | 51/1759 [00:00<00:03, 509.52it/s]"
     ]
    },
    {
     "name": "stdout",
     "output_type": "stream",
     "text": [
      "110817\n"
     ]
    },
    {
     "name": "stderr",
     "output_type": "stream",
     "text": [
      "100%|██████████| 1759/1759 [00:03<00:00, 511.85it/s]\n",
      "  3%|▎         | 50/1759 [00:00<00:03, 492.98it/s]"
     ]
    },
    {
     "name": "stdout",
     "output_type": "stream",
     "text": [
      "112576\n"
     ]
    },
    {
     "name": "stderr",
     "output_type": "stream",
     "text": [
      "100%|██████████| 1759/1759 [00:03<00:00, 490.93it/s]\n",
      "  3%|▎         | 50/1759 [00:00<00:03, 499.30it/s]"
     ]
    },
    {
     "name": "stdout",
     "output_type": "stream",
     "text": [
      "114335\n"
     ]
    },
    {
     "name": "stderr",
     "output_type": "stream",
     "text": [
      "100%|██████████| 1759/1759 [00:03<00:00, 492.17it/s]\n",
      "  3%|▎         | 52/1759 [00:00<00:03, 511.11it/s]"
     ]
    },
    {
     "name": "stdout",
     "output_type": "stream",
     "text": [
      "116094\n"
     ]
    },
    {
     "name": "stderr",
     "output_type": "stream",
     "text": [
      "100%|██████████| 1759/1759 [00:03<00:00, 510.13it/s]\n",
      "  3%|▎         | 53/1759 [00:00<00:03, 520.41it/s]"
     ]
    },
    {
     "name": "stdout",
     "output_type": "stream",
     "text": [
      "117853\n"
     ]
    },
    {
     "name": "stderr",
     "output_type": "stream",
     "text": [
      "100%|██████████| 1759/1759 [00:03<00:00, 496.53it/s]\n",
      "  3%|▎         | 49/1759 [00:00<00:03, 478.97it/s]"
     ]
    },
    {
     "name": "stdout",
     "output_type": "stream",
     "text": [
      "119612\n"
     ]
    },
    {
     "name": "stderr",
     "output_type": "stream",
     "text": [
      "100%|██████████| 1759/1759 [00:03<00:00, 500.67it/s]\n",
      "  3%|▎         | 51/1759 [00:00<00:03, 504.34it/s]"
     ]
    },
    {
     "name": "stdout",
     "output_type": "stream",
     "text": [
      "121371\n"
     ]
    },
    {
     "name": "stderr",
     "output_type": "stream",
     "text": [
      "100%|██████████| 1759/1759 [00:03<00:00, 486.64it/s]\n",
      "  2%|▏         | 39/1759 [00:00<00:04, 385.26it/s]"
     ]
    },
    {
     "name": "stdout",
     "output_type": "stream",
     "text": [
      "123130\n"
     ]
    },
    {
     "name": "stderr",
     "output_type": "stream",
     "text": [
      "100%|██████████| 1759/1759 [00:03<00:00, 498.63it/s]\n",
      "  3%|▎         | 50/1759 [00:00<00:03, 493.12it/s]"
     ]
    },
    {
     "name": "stdout",
     "output_type": "stream",
     "text": [
      "124889\n"
     ]
    },
    {
     "name": "stderr",
     "output_type": "stream",
     "text": [
      "100%|██████████| 1759/1759 [00:03<00:00, 503.66it/s]\n",
      "  3%|▎         | 52/1759 [00:00<00:03, 516.10it/s]"
     ]
    },
    {
     "name": "stdout",
     "output_type": "stream",
     "text": [
      "126648\n"
     ]
    },
    {
     "name": "stderr",
     "output_type": "stream",
     "text": [
      "100%|██████████| 1759/1759 [00:03<00:00, 498.07it/s]\n",
      "  3%|▎         | 47/1759 [00:00<00:03, 467.82it/s]"
     ]
    },
    {
     "name": "stdout",
     "output_type": "stream",
     "text": [
      "128407\n"
     ]
    },
    {
     "name": "stderr",
     "output_type": "stream",
     "text": [
      "100%|██████████| 1759/1759 [00:03<00:00, 473.32it/s]\n",
      "  3%|▎         | 51/1759 [00:00<00:03, 500.84it/s]"
     ]
    },
    {
     "name": "stdout",
     "output_type": "stream",
     "text": [
      "130166\n"
     ]
    },
    {
     "name": "stderr",
     "output_type": "stream",
     "text": [
      "100%|██████████| 1759/1759 [00:03<00:00, 487.45it/s]\n",
      "  2%|▏         | 41/1759 [00:00<00:04, 408.87it/s]"
     ]
    },
    {
     "name": "stdout",
     "output_type": "stream",
     "text": [
      "131925\n"
     ]
    },
    {
     "name": "stderr",
     "output_type": "stream",
     "text": [
      "100%|██████████| 1759/1759 [00:03<00:00, 476.00it/s]\n",
      "  3%|▎         | 49/1759 [00:00<00:03, 482.92it/s]"
     ]
    },
    {
     "name": "stdout",
     "output_type": "stream",
     "text": [
      "133684\n"
     ]
    },
    {
     "name": "stderr",
     "output_type": "stream",
     "text": [
      "100%|██████████| 1759/1759 [00:03<00:00, 487.48it/s]\n",
      "  3%|▎         | 52/1759 [00:00<00:03, 514.32it/s]"
     ]
    },
    {
     "name": "stdout",
     "output_type": "stream",
     "text": [
      "135443\n"
     ]
    },
    {
     "name": "stderr",
     "output_type": "stream",
     "text": [
      "100%|██████████| 1759/1759 [00:03<00:00, 509.78it/s]\n",
      "  3%|▎         | 53/1759 [00:00<00:03, 527.76it/s]"
     ]
    },
    {
     "name": "stdout",
     "output_type": "stream",
     "text": [
      "137202\n"
     ]
    },
    {
     "name": "stderr",
     "output_type": "stream",
     "text": [
      "100%|██████████| 1759/1759 [00:03<00:00, 489.69it/s]\n",
      "  3%|▎         | 47/1759 [00:00<00:03, 462.70it/s]"
     ]
    },
    {
     "name": "stdout",
     "output_type": "stream",
     "text": [
      "138961\n"
     ]
    },
    {
     "name": "stderr",
     "output_type": "stream",
     "text": [
      "100%|██████████| 1759/1759 [00:03<00:00, 473.23it/s]\n",
      "  3%|▎         | 51/1759 [00:00<00:03, 505.27it/s]"
     ]
    },
    {
     "name": "stdout",
     "output_type": "stream",
     "text": [
      "140720\n"
     ]
    },
    {
     "name": "stderr",
     "output_type": "stream",
     "text": [
      "100%|██████████| 1759/1759 [00:03<00:00, 500.90it/s]\n",
      "  3%|▎         | 53/1759 [00:00<00:03, 523.22it/s]"
     ]
    },
    {
     "name": "stdout",
     "output_type": "stream",
     "text": [
      "142479\n"
     ]
    },
    {
     "name": "stderr",
     "output_type": "stream",
     "text": [
      "100%|██████████| 1759/1759 [00:03<00:00, 495.22it/s]\n",
      "  3%|▎         | 51/1759 [00:00<00:03, 503.47it/s]"
     ]
    },
    {
     "name": "stdout",
     "output_type": "stream",
     "text": [
      "144238\n"
     ]
    },
    {
     "name": "stderr",
     "output_type": "stream",
     "text": [
      "100%|██████████| 1759/1759 [00:03<00:00, 503.12it/s]\n",
      "  3%|▎         | 53/1759 [00:00<00:03, 520.62it/s]"
     ]
    },
    {
     "name": "stdout",
     "output_type": "stream",
     "text": [
      "145997\n"
     ]
    },
    {
     "name": "stderr",
     "output_type": "stream",
     "text": [
      "100%|██████████| 1759/1759 [00:03<00:00, 505.72it/s]\n",
      "  3%|▎         | 52/1759 [00:00<00:03, 515.59it/s]"
     ]
    },
    {
     "name": "stdout",
     "output_type": "stream",
     "text": [
      "147756\n"
     ]
    },
    {
     "name": "stderr",
     "output_type": "stream",
     "text": [
      "100%|██████████| 1759/1759 [00:03<00:00, 506.90it/s]\n",
      "  3%|▎         | 52/1759 [00:00<00:03, 513.99it/s]"
     ]
    },
    {
     "name": "stdout",
     "output_type": "stream",
     "text": [
      "149515\n"
     ]
    },
    {
     "name": "stderr",
     "output_type": "stream",
     "text": [
      "100%|██████████| 1759/1759 [00:03<00:00, 485.25it/s]\n",
      "  3%|▎         | 51/1759 [00:00<00:03, 503.92it/s]"
     ]
    },
    {
     "name": "stdout",
     "output_type": "stream",
     "text": [
      "151274\n"
     ]
    },
    {
     "name": "stderr",
     "output_type": "stream",
     "text": [
      "100%|██████████| 1759/1759 [00:03<00:00, 498.95it/s]\n",
      "  3%|▎         | 50/1759 [00:00<00:03, 498.85it/s]"
     ]
    },
    {
     "name": "stdout",
     "output_type": "stream",
     "text": [
      "153033\n"
     ]
    },
    {
     "name": "stderr",
     "output_type": "stream",
     "text": [
      "100%|██████████| 1759/1759 [00:03<00:00, 498.43it/s]\n",
      "  3%|▎         | 50/1759 [00:00<00:03, 493.71it/s]"
     ]
    },
    {
     "name": "stdout",
     "output_type": "stream",
     "text": [
      "154792\n"
     ]
    },
    {
     "name": "stderr",
     "output_type": "stream",
     "text": [
      "100%|██████████| 1759/1759 [00:03<00:00, 515.30it/s]\n",
      "  3%|▎         | 52/1759 [00:00<00:03, 513.05it/s]"
     ]
    },
    {
     "name": "stdout",
     "output_type": "stream",
     "text": [
      "156551\n"
     ]
    },
    {
     "name": "stderr",
     "output_type": "stream",
     "text": [
      "100%|██████████| 1759/1759 [00:03<00:00, 493.73it/s]\n",
      "  3%|▎         | 51/1759 [00:00<00:03, 502.44it/s]"
     ]
    },
    {
     "name": "stdout",
     "output_type": "stream",
     "text": [
      "158310\n"
     ]
    },
    {
     "name": "stderr",
     "output_type": "stream",
     "text": [
      "100%|██████████| 1759/1759 [00:03<00:00, 505.92it/s]\n",
      "  3%|▎         | 49/1759 [00:00<00:03, 488.99it/s]"
     ]
    },
    {
     "name": "stdout",
     "output_type": "stream",
     "text": [
      "160069\n"
     ]
    },
    {
     "name": "stderr",
     "output_type": "stream",
     "text": [
      "100%|██████████| 1759/1759 [00:03<00:00, 493.57it/s]\n",
      "  3%|▎         | 47/1759 [00:00<00:03, 463.35it/s]"
     ]
    },
    {
     "name": "stdout",
     "output_type": "stream",
     "text": [
      "161828\n"
     ]
    },
    {
     "name": "stderr",
     "output_type": "stream",
     "text": [
      "100%|██████████| 1759/1759 [00:03<00:00, 493.99it/s]\n",
      "  3%|▎         | 51/1759 [00:00<00:03, 505.66it/s]"
     ]
    },
    {
     "name": "stdout",
     "output_type": "stream",
     "text": [
      "163587\n"
     ]
    },
    {
     "name": "stderr",
     "output_type": "stream",
     "text": [
      "100%|██████████| 1759/1759 [00:03<00:00, 499.15it/s]\n",
      "  3%|▎         | 52/1759 [00:00<00:03, 517.52it/s]"
     ]
    },
    {
     "name": "stdout",
     "output_type": "stream",
     "text": [
      "165346\n"
     ]
    },
    {
     "name": "stderr",
     "output_type": "stream",
     "text": [
      "100%|██████████| 1759/1759 [00:03<00:00, 504.36it/s]\n",
      "  3%|▎         | 51/1759 [00:00<00:03, 506.98it/s]"
     ]
    },
    {
     "name": "stdout",
     "output_type": "stream",
     "text": [
      "167105\n"
     ]
    },
    {
     "name": "stderr",
     "output_type": "stream",
     "text": [
      "100%|██████████| 1759/1759 [00:03<00:00, 499.89it/s]\n",
      "  3%|▎         | 52/1759 [00:00<00:03, 516.84it/s]"
     ]
    },
    {
     "name": "stdout",
     "output_type": "stream",
     "text": [
      "168864\n"
     ]
    },
    {
     "name": "stderr",
     "output_type": "stream",
     "text": [
      "100%|██████████| 1759/1759 [00:03<00:00, 506.43it/s]\n",
      "  3%|▎         | 50/1759 [00:00<00:03, 499.59it/s]"
     ]
    },
    {
     "name": "stdout",
     "output_type": "stream",
     "text": [
      "170623\n"
     ]
    },
    {
     "name": "stderr",
     "output_type": "stream",
     "text": [
      "100%|██████████| 1759/1759 [00:03<00:00, 507.26it/s]\n",
      "  3%|▎         | 52/1759 [00:00<00:03, 512.02it/s]"
     ]
    },
    {
     "name": "stdout",
     "output_type": "stream",
     "text": [
      "172382\n"
     ]
    },
    {
     "name": "stderr",
     "output_type": "stream",
     "text": [
      "100%|██████████| 1759/1759 [00:03<00:00, 503.83it/s]\n",
      "  3%|▎         | 52/1759 [00:00<00:03, 518.11it/s]"
     ]
    },
    {
     "name": "stdout",
     "output_type": "stream",
     "text": [
      "174141\n"
     ]
    },
    {
     "name": "stderr",
     "output_type": "stream",
     "text": [
      "100%|██████████| 1759/1759 [00:03<00:00, 503.03it/s]\n",
      "  3%|▎         | 51/1759 [00:00<00:03, 508.84it/s]"
     ]
    },
    {
     "name": "stdout",
     "output_type": "stream",
     "text": [
      "175900\n"
     ]
    },
    {
     "name": "stderr",
     "output_type": "stream",
     "text": [
      "100%|██████████| 1759/1759 [00:03<00:00, 471.01it/s]\n",
      "  3%|▎         | 51/1759 [00:00<00:03, 509.42it/s]"
     ]
    },
    {
     "name": "stdout",
     "output_type": "stream",
     "text": [
      "177659\n"
     ]
    },
    {
     "name": "stderr",
     "output_type": "stream",
     "text": [
      "100%|██████████| 1759/1759 [00:03<00:00, 475.69it/s]\n",
      "  3%|▎         | 47/1759 [00:00<00:03, 469.60it/s]"
     ]
    },
    {
     "name": "stdout",
     "output_type": "stream",
     "text": [
      "179418\n"
     ]
    },
    {
     "name": "stderr",
     "output_type": "stream",
     "text": [
      "100%|██████████| 1759/1759 [00:03<00:00, 485.17it/s]\n",
      "  3%|▎         | 50/1759 [00:00<00:03, 493.05it/s]"
     ]
    },
    {
     "name": "stdout",
     "output_type": "stream",
     "text": [
      "181177\n"
     ]
    },
    {
     "name": "stderr",
     "output_type": "stream",
     "text": [
      "100%|██████████| 1759/1759 [00:03<00:00, 467.72it/s]\n",
      "  3%|▎         | 51/1759 [00:00<00:03, 509.15it/s]"
     ]
    },
    {
     "name": "stdout",
     "output_type": "stream",
     "text": [
      "182936\n"
     ]
    },
    {
     "name": "stderr",
     "output_type": "stream",
     "text": [
      "100%|██████████| 1759/1759 [00:03<00:00, 477.59it/s]\n",
      "  3%|▎         | 47/1759 [00:00<00:03, 469.40it/s]"
     ]
    },
    {
     "name": "stdout",
     "output_type": "stream",
     "text": [
      "184695\n"
     ]
    },
    {
     "name": "stderr",
     "output_type": "stream",
     "text": [
      "100%|██████████| 1759/1759 [00:03<00:00, 479.89it/s]\n",
      "  3%|▎         | 45/1759 [00:00<00:03, 440.29it/s]"
     ]
    },
    {
     "name": "stdout",
     "output_type": "stream",
     "text": [
      "186454\n"
     ]
    },
    {
     "name": "stderr",
     "output_type": "stream",
     "text": [
      "100%|██████████| 1759/1759 [00:03<00:00, 465.62it/s]\n",
      "  3%|▎         | 46/1759 [00:00<00:03, 452.33it/s]"
     ]
    },
    {
     "name": "stdout",
     "output_type": "stream",
     "text": [
      "188213\n"
     ]
    },
    {
     "name": "stderr",
     "output_type": "stream",
     "text": [
      "100%|██████████| 1759/1759 [00:03<00:00, 446.25it/s]\n",
      "  3%|▎         | 44/1759 [00:00<00:03, 433.92it/s]"
     ]
    },
    {
     "name": "stdout",
     "output_type": "stream",
     "text": [
      "189972\n"
     ]
    },
    {
     "name": "stderr",
     "output_type": "stream",
     "text": [
      "100%|██████████| 1759/1759 [00:03<00:00, 450.37it/s]\n",
      "  3%|▎         | 47/1759 [00:00<00:03, 464.75it/s]"
     ]
    },
    {
     "name": "stdout",
     "output_type": "stream",
     "text": [
      "191731\n"
     ]
    },
    {
     "name": "stderr",
     "output_type": "stream",
     "text": [
      "100%|██████████| 1759/1759 [00:03<00:00, 472.90it/s]\n",
      "  3%|▎         | 49/1759 [00:00<00:03, 479.07it/s]"
     ]
    },
    {
     "name": "stdout",
     "output_type": "stream",
     "text": [
      "193490\n"
     ]
    },
    {
     "name": "stderr",
     "output_type": "stream",
     "text": [
      "100%|██████████| 1759/1759 [00:03<00:00, 461.65it/s]\n",
      "  3%|▎         | 45/1759 [00:00<00:03, 441.26it/s]"
     ]
    },
    {
     "name": "stdout",
     "output_type": "stream",
     "text": [
      "195249\n"
     ]
    },
    {
     "name": "stderr",
     "output_type": "stream",
     "text": [
      "100%|██████████| 1759/1759 [00:03<00:00, 453.83it/s]\n",
      "  3%|▎         | 45/1759 [00:00<00:03, 447.34it/s]"
     ]
    },
    {
     "name": "stdout",
     "output_type": "stream",
     "text": [
      "197008\n"
     ]
    },
    {
     "name": "stderr",
     "output_type": "stream",
     "text": [
      "100%|██████████| 1759/1759 [00:03<00:00, 453.41it/s]\n",
      "  3%|▎         | 50/1759 [00:00<00:03, 494.84it/s]"
     ]
    },
    {
     "name": "stdout",
     "output_type": "stream",
     "text": [
      "198767\n"
     ]
    },
    {
     "name": "stderr",
     "output_type": "stream",
     "text": [
      "100%|██████████| 1759/1759 [00:03<00:00, 468.09it/s]\n",
      "  3%|▎         | 50/1759 [00:00<00:03, 491.68it/s]"
     ]
    },
    {
     "name": "stdout",
     "output_type": "stream",
     "text": [
      "200526\n"
     ]
    },
    {
     "name": "stderr",
     "output_type": "stream",
     "text": [
      "100%|██████████| 1759/1759 [00:03<00:00, 470.60it/s]\n",
      "  3%|▎         | 48/1759 [00:00<00:03, 474.13it/s]"
     ]
    },
    {
     "name": "stdout",
     "output_type": "stream",
     "text": [
      "202285\n"
     ]
    },
    {
     "name": "stderr",
     "output_type": "stream",
     "text": [
      "100%|██████████| 1759/1759 [00:03<00:00, 464.78it/s]\n",
      "  3%|▎         | 48/1759 [00:00<00:03, 479.13it/s]"
     ]
    },
    {
     "name": "stdout",
     "output_type": "stream",
     "text": [
      "204044\n"
     ]
    },
    {
     "name": "stderr",
     "output_type": "stream",
     "text": [
      "100%|██████████| 1759/1759 [00:03<00:00, 465.69it/s]\n",
      "  3%|▎         | 46/1759 [00:00<00:03, 459.37it/s]"
     ]
    },
    {
     "name": "stdout",
     "output_type": "stream",
     "text": [
      "205803\n"
     ]
    },
    {
     "name": "stderr",
     "output_type": "stream",
     "text": [
      "100%|██████████| 1759/1759 [00:03<00:00, 472.34it/s]\n",
      "  3%|▎         | 47/1759 [00:00<00:03, 463.72it/s]"
     ]
    },
    {
     "name": "stdout",
     "output_type": "stream",
     "text": [
      "207562\n"
     ]
    },
    {
     "name": "stderr",
     "output_type": "stream",
     "text": [
      "100%|██████████| 1759/1759 [00:03<00:00, 499.54it/s]\n",
      "  3%|▎         | 53/1759 [00:00<00:03, 524.43it/s]"
     ]
    },
    {
     "name": "stdout",
     "output_type": "stream",
     "text": [
      "209321\n"
     ]
    },
    {
     "name": "stderr",
     "output_type": "stream",
     "text": [
      "100%|██████████| 1759/1759 [00:03<00:00, 499.91it/s]\n",
      "  3%|▎         | 52/1759 [00:00<00:03, 513.55it/s]"
     ]
    },
    {
     "name": "stdout",
     "output_type": "stream",
     "text": [
      "211080\n"
     ]
    },
    {
     "name": "stderr",
     "output_type": "stream",
     "text": [
      "100%|██████████| 1759/1759 [00:03<00:00, 489.51it/s]\n",
      "  3%|▎         | 50/1759 [00:00<00:03, 492.10it/s]"
     ]
    },
    {
     "name": "stdout",
     "output_type": "stream",
     "text": [
      "212839\n"
     ]
    },
    {
     "name": "stderr",
     "output_type": "stream",
     "text": [
      "100%|██████████| 1759/1759 [00:03<00:00, 510.21it/s]\n",
      "  3%|▎         | 54/1759 [00:00<00:03, 532.90it/s]"
     ]
    },
    {
     "name": "stdout",
     "output_type": "stream",
     "text": [
      "214598\n"
     ]
    },
    {
     "name": "stderr",
     "output_type": "stream",
     "text": [
      "100%|██████████| 1759/1759 [00:03<00:00, 517.54it/s]\n",
      "  3%|▎         | 51/1759 [00:00<00:03, 504.11it/s]"
     ]
    },
    {
     "name": "stdout",
     "output_type": "stream",
     "text": [
      "216357\n"
     ]
    },
    {
     "name": "stderr",
     "output_type": "stream",
     "text": [
      "100%|██████████| 1759/1759 [00:03<00:00, 499.67it/s]\n",
      "  3%|▎         | 48/1759 [00:00<00:03, 474.66it/s]"
     ]
    },
    {
     "name": "stdout",
     "output_type": "stream",
     "text": [
      "218116\n"
     ]
    },
    {
     "name": "stderr",
     "output_type": "stream",
     "text": [
      "100%|██████████| 1759/1759 [00:03<00:00, 486.01it/s]\n",
      "  2%|▏         | 41/1759 [00:00<00:04, 406.67it/s]"
     ]
    },
    {
     "name": "stdout",
     "output_type": "stream",
     "text": [
      "219875\n"
     ]
    },
    {
     "name": "stderr",
     "output_type": "stream",
     "text": [
      "100%|██████████| 1759/1759 [00:03<00:00, 492.95it/s]\n",
      "  3%|▎         | 51/1759 [00:00<00:03, 508.65it/s]"
     ]
    },
    {
     "name": "stdout",
     "output_type": "stream",
     "text": [
      "221634\n"
     ]
    },
    {
     "name": "stderr",
     "output_type": "stream",
     "text": [
      "100%|██████████| 1759/1759 [00:03<00:00, 510.04it/s]\n",
      "  3%|▎         | 53/1759 [00:00<00:03, 525.77it/s]"
     ]
    },
    {
     "name": "stdout",
     "output_type": "stream",
     "text": [
      "223393\n"
     ]
    },
    {
     "name": "stderr",
     "output_type": "stream",
     "text": [
      "100%|██████████| 1759/1759 [00:03<00:00, 509.57it/s]\n",
      "  3%|▎         | 51/1759 [00:00<00:03, 508.22it/s]"
     ]
    },
    {
     "name": "stdout",
     "output_type": "stream",
     "text": [
      "225152\n"
     ]
    },
    {
     "name": "stderr",
     "output_type": "stream",
     "text": [
      "100%|██████████| 1759/1759 [00:03<00:00, 512.66it/s]\n",
      "  3%|▎         | 52/1759 [00:00<00:03, 518.13it/s]"
     ]
    },
    {
     "name": "stdout",
     "output_type": "stream",
     "text": [
      "226911\n"
     ]
    },
    {
     "name": "stderr",
     "output_type": "stream",
     "text": [
      "100%|██████████| 1759/1759 [00:03<00:00, 508.04it/s]\n",
      "  3%|▎         | 49/1759 [00:00<00:03, 481.01it/s]"
     ]
    },
    {
     "name": "stdout",
     "output_type": "stream",
     "text": [
      "228670\n"
     ]
    },
    {
     "name": "stderr",
     "output_type": "stream",
     "text": [
      "100%|██████████| 1759/1759 [00:03<00:00, 514.80it/s]\n",
      "  3%|▎         | 53/1759 [00:00<00:03, 524.89it/s]"
     ]
    },
    {
     "name": "stdout",
     "output_type": "stream",
     "text": [
      "230429\n"
     ]
    },
    {
     "name": "stderr",
     "output_type": "stream",
     "text": [
      "100%|██████████| 1759/1759 [00:03<00:00, 516.69it/s]\n",
      "  3%|▎         | 53/1759 [00:00<00:03, 523.11it/s]"
     ]
    },
    {
     "name": "stdout",
     "output_type": "stream",
     "text": [
      "232188\n"
     ]
    },
    {
     "name": "stderr",
     "output_type": "stream",
     "text": [
      "100%|██████████| 1759/1759 [00:03<00:00, 518.69it/s]\n",
      "  3%|▎         | 52/1759 [00:00<00:03, 516.69it/s]"
     ]
    },
    {
     "name": "stdout",
     "output_type": "stream",
     "text": [
      "233947\n"
     ]
    },
    {
     "name": "stderr",
     "output_type": "stream",
     "text": [
      "100%|██████████| 1759/1759 [00:03<00:00, 515.64it/s]\n",
      "  3%|▎         | 53/1759 [00:00<00:03, 526.71it/s]"
     ]
    },
    {
     "name": "stdout",
     "output_type": "stream",
     "text": [
      "235706\n"
     ]
    },
    {
     "name": "stderr",
     "output_type": "stream",
     "text": [
      "100%|██████████| 1759/1759 [00:03<00:00, 506.27it/s]\n",
      "  3%|▎         | 52/1759 [00:00<00:03, 513.57it/s]"
     ]
    },
    {
     "name": "stdout",
     "output_type": "stream",
     "text": [
      "237465\n"
     ]
    },
    {
     "name": "stderr",
     "output_type": "stream",
     "text": [
      "100%|██████████| 1759/1759 [00:03<00:00, 499.57it/s]\n",
      "  3%|▎         | 49/1759 [00:00<00:03, 482.05it/s]"
     ]
    },
    {
     "name": "stdout",
     "output_type": "stream",
     "text": [
      "239224\n"
     ]
    },
    {
     "name": "stderr",
     "output_type": "stream",
     "text": [
      "100%|██████████| 1759/1759 [00:03<00:00, 485.71it/s]\n",
      "  3%|▎         | 52/1759 [00:00<00:03, 510.76it/s]"
     ]
    },
    {
     "name": "stdout",
     "output_type": "stream",
     "text": [
      "240983\n"
     ]
    },
    {
     "name": "stderr",
     "output_type": "stream",
     "text": [
      "100%|██████████| 1759/1759 [00:03<00:00, 485.42it/s]\n",
      "  3%|▎         | 51/1759 [00:00<00:03, 505.18it/s]"
     ]
    },
    {
     "name": "stdout",
     "output_type": "stream",
     "text": [
      "242742\n"
     ]
    },
    {
     "name": "stderr",
     "output_type": "stream",
     "text": [
      "100%|██████████| 1759/1759 [00:03<00:00, 480.11it/s]\n",
      "  3%|▎         | 51/1759 [00:00<00:03, 507.16it/s]"
     ]
    },
    {
     "name": "stdout",
     "output_type": "stream",
     "text": [
      "244501\n"
     ]
    },
    {
     "name": "stderr",
     "output_type": "stream",
     "text": [
      "100%|██████████| 1759/1759 [00:03<00:00, 481.16it/s]\n",
      "  3%|▎         | 50/1759 [00:00<00:03, 496.58it/s]"
     ]
    },
    {
     "name": "stdout",
     "output_type": "stream",
     "text": [
      "246260\n"
     ]
    },
    {
     "name": "stderr",
     "output_type": "stream",
     "text": [
      "100%|██████████| 1759/1759 [00:03<00:00, 503.57it/s]\n",
      "  3%|▎         | 51/1759 [00:00<00:03, 505.90it/s]"
     ]
    },
    {
     "name": "stdout",
     "output_type": "stream",
     "text": [
      "248019\n"
     ]
    },
    {
     "name": "stderr",
     "output_type": "stream",
     "text": [
      "100%|██████████| 1759/1759 [00:03<00:00, 516.19it/s]\n",
      "  3%|▎         | 53/1759 [00:00<00:03, 528.57it/s]"
     ]
    },
    {
     "name": "stdout",
     "output_type": "stream",
     "text": [
      "249778\n"
     ]
    },
    {
     "name": "stderr",
     "output_type": "stream",
     "text": [
      "100%|██████████| 1759/1759 [00:03<00:00, 503.86it/s]\n",
      "  3%|▎         | 51/1759 [00:00<00:03, 504.23it/s]"
     ]
    },
    {
     "name": "stdout",
     "output_type": "stream",
     "text": [
      "251537\n"
     ]
    },
    {
     "name": "stderr",
     "output_type": "stream",
     "text": [
      "100%|██████████| 1759/1759 [00:03<00:00, 498.49it/s]\n",
      "  3%|▎         | 52/1759 [00:00<00:03, 515.47it/s]"
     ]
    },
    {
     "name": "stdout",
     "output_type": "stream",
     "text": [
      "253296\n"
     ]
    },
    {
     "name": "stderr",
     "output_type": "stream",
     "text": [
      "100%|██████████| 1759/1759 [00:03<00:00, 506.44it/s]\n",
      "  3%|▎         | 52/1759 [00:00<00:03, 510.84it/s]"
     ]
    },
    {
     "name": "stdout",
     "output_type": "stream",
     "text": [
      "255055\n"
     ]
    },
    {
     "name": "stderr",
     "output_type": "stream",
     "text": [
      "100%|██████████| 1759/1759 [00:03<00:00, 512.83it/s]\n",
      "  3%|▎         | 51/1759 [00:00<00:03, 505.63it/s]"
     ]
    },
    {
     "name": "stdout",
     "output_type": "stream",
     "text": [
      "256814\n"
     ]
    },
    {
     "name": "stderr",
     "output_type": "stream",
     "text": [
      "100%|██████████| 1759/1759 [00:03<00:00, 510.79it/s]\n",
      "  3%|▎         | 52/1759 [00:00<00:03, 514.58it/s]"
     ]
    },
    {
     "name": "stdout",
     "output_type": "stream",
     "text": [
      "258573\n"
     ]
    },
    {
     "name": "stderr",
     "output_type": "stream",
     "text": [
      "100%|██████████| 1759/1759 [00:03<00:00, 510.42it/s]\n",
      "  3%|▎         | 52/1759 [00:00<00:03, 513.34it/s]"
     ]
    },
    {
     "name": "stdout",
     "output_type": "stream",
     "text": [
      "260332\n"
     ]
    },
    {
     "name": "stderr",
     "output_type": "stream",
     "text": [
      "100%|██████████| 1759/1759 [00:03<00:00, 513.21it/s]\n",
      "  3%|▎         | 53/1759 [00:00<00:03, 526.21it/s]"
     ]
    },
    {
     "name": "stdout",
     "output_type": "stream",
     "text": [
      "262091\n"
     ]
    },
    {
     "name": "stderr",
     "output_type": "stream",
     "text": [
      "100%|██████████| 1759/1759 [00:03<00:00, 516.46it/s]\n",
      "  3%|▎         | 53/1759 [00:00<00:03, 524.16it/s]"
     ]
    },
    {
     "name": "stdout",
     "output_type": "stream",
     "text": [
      "263850\n"
     ]
    },
    {
     "name": "stderr",
     "output_type": "stream",
     "text": [
      "100%|██████████| 1759/1759 [00:03<00:00, 514.85it/s]\n",
      "  3%|▎         | 53/1759 [00:00<00:03, 523.19it/s]"
     ]
    },
    {
     "name": "stdout",
     "output_type": "stream",
     "text": [
      "265609\n"
     ]
    },
    {
     "name": "stderr",
     "output_type": "stream",
     "text": [
      "100%|██████████| 1759/1759 [00:03<00:00, 514.38it/s]\n",
      "  3%|▎         | 53/1759 [00:00<00:03, 524.41it/s]"
     ]
    },
    {
     "name": "stdout",
     "output_type": "stream",
     "text": [
      "267368\n"
     ]
    },
    {
     "name": "stderr",
     "output_type": "stream",
     "text": [
      "100%|██████████| 1759/1759 [00:03<00:00, 506.75it/s]\n",
      "  3%|▎         | 52/1759 [00:00<00:03, 517.71it/s]"
     ]
    },
    {
     "name": "stdout",
     "output_type": "stream",
     "text": [
      "269127\n"
     ]
    },
    {
     "name": "stderr",
     "output_type": "stream",
     "text": [
      "100%|██████████| 1759/1759 [00:03<00:00, 508.48it/s]\n",
      "  3%|▎         | 53/1759 [00:00<00:03, 520.23it/s]"
     ]
    },
    {
     "name": "stdout",
     "output_type": "stream",
     "text": [
      "270886\n"
     ]
    },
    {
     "name": "stderr",
     "output_type": "stream",
     "text": [
      "100%|██████████| 1759/1759 [00:03<00:00, 513.69it/s]\n",
      "  3%|▎         | 52/1759 [00:00<00:03, 518.31it/s]"
     ]
    },
    {
     "name": "stdout",
     "output_type": "stream",
     "text": [
      "272645\n"
     ]
    },
    {
     "name": "stderr",
     "output_type": "stream",
     "text": [
      "100%|██████████| 1759/1759 [00:03<00:00, 517.03it/s]\n",
      "  3%|▎         | 53/1759 [00:00<00:03, 528.29it/s]"
     ]
    },
    {
     "name": "stdout",
     "output_type": "stream",
     "text": [
      "274404\n"
     ]
    },
    {
     "name": "stderr",
     "output_type": "stream",
     "text": [
      "100%|██████████| 1759/1759 [00:03<00:00, 518.39it/s]\n",
      "  3%|▎         | 53/1759 [00:00<00:03, 524.07it/s]"
     ]
    },
    {
     "name": "stdout",
     "output_type": "stream",
     "text": [
      "276163\n"
     ]
    },
    {
     "name": "stderr",
     "output_type": "stream",
     "text": [
      "100%|██████████| 1759/1759 [00:03<00:00, 517.14it/s]\n",
      "  3%|▎         | 53/1759 [00:00<00:03, 527.33it/s]"
     ]
    },
    {
     "name": "stdout",
     "output_type": "stream",
     "text": [
      "277922\n"
     ]
    },
    {
     "name": "stderr",
     "output_type": "stream",
     "text": [
      "100%|██████████| 1759/1759 [00:03<00:00, 498.23it/s]\n",
      "  3%|▎         | 52/1759 [00:00<00:03, 517.31it/s]"
     ]
    },
    {
     "name": "stdout",
     "output_type": "stream",
     "text": [
      "279681\n"
     ]
    },
    {
     "name": "stderr",
     "output_type": "stream",
     "text": [
      "100%|██████████| 1759/1759 [00:03<00:00, 514.18it/s]\n",
      "  3%|▎         | 52/1759 [00:00<00:03, 518.35it/s]"
     ]
    },
    {
     "name": "stdout",
     "output_type": "stream",
     "text": [
      "281440\n"
     ]
    },
    {
     "name": "stderr",
     "output_type": "stream",
     "text": [
      "100%|██████████| 1759/1759 [00:03<00:00, 514.31it/s]\n",
      "  3%|▎         | 52/1759 [00:00<00:03, 511.57it/s]"
     ]
    },
    {
     "name": "stdout",
     "output_type": "stream",
     "text": [
      "283199\n"
     ]
    },
    {
     "name": "stderr",
     "output_type": "stream",
     "text": [
      "100%|██████████| 1759/1759 [00:03<00:00, 510.30it/s]\n",
      "  3%|▎         | 53/1759 [00:00<00:03, 520.48it/s]"
     ]
    },
    {
     "name": "stdout",
     "output_type": "stream",
     "text": [
      "284958\n"
     ]
    },
    {
     "name": "stderr",
     "output_type": "stream",
     "text": [
      "100%|██████████| 1759/1759 [00:03<00:00, 510.59it/s]\n",
      "  3%|▎         | 53/1759 [00:00<00:03, 527.09it/s]"
     ]
    },
    {
     "name": "stdout",
     "output_type": "stream",
     "text": [
      "286717\n"
     ]
    },
    {
     "name": "stderr",
     "output_type": "stream",
     "text": [
      "100%|██████████| 1759/1759 [00:03<00:00, 512.39it/s]\n",
      "  3%|▎         | 53/1759 [00:00<00:03, 527.29it/s]"
     ]
    },
    {
     "name": "stdout",
     "output_type": "stream",
     "text": [
      "288476\n"
     ]
    },
    {
     "name": "stderr",
     "output_type": "stream",
     "text": [
      "100%|██████████| 1759/1759 [00:03<00:00, 518.46it/s]\n",
      "  3%|▎         | 53/1759 [00:00<00:03, 526.10it/s]"
     ]
    },
    {
     "name": "stdout",
     "output_type": "stream",
     "text": [
      "290235\n"
     ]
    },
    {
     "name": "stderr",
     "output_type": "stream",
     "text": [
      "100%|██████████| 1759/1759 [00:03<00:00, 509.90it/s]\n",
      "  2%|▏         | 41/1759 [00:00<00:04, 406.33it/s]"
     ]
    },
    {
     "name": "stdout",
     "output_type": "stream",
     "text": [
      "291994\n"
     ]
    },
    {
     "name": "stderr",
     "output_type": "stream",
     "text": [
      "100%|██████████| 1759/1759 [00:03<00:00, 502.05it/s]\n",
      "  3%|▎         | 50/1759 [00:00<00:03, 496.14it/s]"
     ]
    },
    {
     "name": "stdout",
     "output_type": "stream",
     "text": [
      "293753\n"
     ]
    },
    {
     "name": "stderr",
     "output_type": "stream",
     "text": [
      "100%|██████████| 1759/1759 [00:03<00:00, 490.29it/s]\n",
      "  3%|▎         | 52/1759 [00:00<00:03, 510.91it/s]"
     ]
    },
    {
     "name": "stdout",
     "output_type": "stream",
     "text": [
      "295512\n"
     ]
    },
    {
     "name": "stderr",
     "output_type": "stream",
     "text": [
      "100%|██████████| 1759/1759 [00:03<00:00, 501.89it/s]\n",
      "  3%|▎         | 51/1759 [00:00<00:03, 504.27it/s]"
     ]
    },
    {
     "name": "stdout",
     "output_type": "stream",
     "text": [
      "297271\n"
     ]
    },
    {
     "name": "stderr",
     "output_type": "stream",
     "text": [
      "100%|██████████| 1759/1759 [00:03<00:00, 493.61it/s]\n",
      "  3%|▎         | 52/1759 [00:00<00:03, 517.51it/s]"
     ]
    },
    {
     "name": "stdout",
     "output_type": "stream",
     "text": [
      "299030\n"
     ]
    },
    {
     "name": "stderr",
     "output_type": "stream",
     "text": [
      "100%|██████████| 1759/1759 [00:03<00:00, 502.35it/s]\n",
      "  3%|▎         | 51/1759 [00:00<00:03, 503.35it/s]"
     ]
    },
    {
     "name": "stdout",
     "output_type": "stream",
     "text": [
      "300789\n"
     ]
    },
    {
     "name": "stderr",
     "output_type": "stream",
     "text": [
      "100%|██████████| 1759/1759 [00:03<00:00, 500.86it/s]\n",
      "  3%|▎         | 52/1759 [00:00<00:03, 513.09it/s]"
     ]
    },
    {
     "name": "stdout",
     "output_type": "stream",
     "text": [
      "302548\n"
     ]
    },
    {
     "name": "stderr",
     "output_type": "stream",
     "text": [
      "100%|██████████| 1759/1759 [00:03<00:00, 511.60it/s]\n",
      "  3%|▎         | 52/1759 [00:00<00:03, 514.29it/s]"
     ]
    },
    {
     "name": "stdout",
     "output_type": "stream",
     "text": [
      "304307\n"
     ]
    },
    {
     "name": "stderr",
     "output_type": "stream",
     "text": [
      "100%|██████████| 1759/1759 [00:03<00:00, 509.52it/s]\n",
      "  3%|▎         | 51/1759 [00:00<00:03, 504.84it/s]"
     ]
    },
    {
     "name": "stdout",
     "output_type": "stream",
     "text": [
      "306066\n"
     ]
    },
    {
     "name": "stderr",
     "output_type": "stream",
     "text": [
      "100%|██████████| 1759/1759 [00:03<00:00, 489.88it/s]\n",
      "  3%|▎         | 52/1759 [00:00<00:03, 511.73it/s]"
     ]
    },
    {
     "name": "stdout",
     "output_type": "stream",
     "text": [
      "307825\n"
     ]
    },
    {
     "name": "stderr",
     "output_type": "stream",
     "text": [
      "100%|██████████| 1759/1759 [00:03<00:00, 507.53it/s]\n",
      "  3%|▎         | 50/1759 [00:00<00:03, 491.11it/s]"
     ]
    },
    {
     "name": "stdout",
     "output_type": "stream",
     "text": [
      "309584\n"
     ]
    },
    {
     "name": "stderr",
     "output_type": "stream",
     "text": [
      "100%|██████████| 1759/1759 [00:03<00:00, 504.25it/s]\n",
      "  3%|▎         | 53/1759 [00:00<00:03, 521.21it/s]"
     ]
    },
    {
     "name": "stdout",
     "output_type": "stream",
     "text": [
      "311343\n"
     ]
    },
    {
     "name": "stderr",
     "output_type": "stream",
     "text": [
      "100%|██████████| 1759/1759 [00:03<00:00, 513.31it/s]\n",
      "  3%|▎         | 52/1759 [00:00<00:03, 518.21it/s]"
     ]
    },
    {
     "name": "stdout",
     "output_type": "stream",
     "text": [
      "313102\n"
     ]
    },
    {
     "name": "stderr",
     "output_type": "stream",
     "text": [
      "100%|██████████| 1759/1759 [00:03<00:00, 516.22it/s]\n",
      "  3%|▎         | 52/1759 [00:00<00:03, 511.61it/s]"
     ]
    },
    {
     "name": "stdout",
     "output_type": "stream",
     "text": [
      "314861\n"
     ]
    },
    {
     "name": "stderr",
     "output_type": "stream",
     "text": [
      "100%|██████████| 1759/1759 [00:03<00:00, 503.25it/s]\n",
      "  3%|▎         | 45/1759 [00:00<00:03, 447.93it/s]"
     ]
    },
    {
     "name": "stdout",
     "output_type": "stream",
     "text": [
      "316620\n"
     ]
    },
    {
     "name": "stderr",
     "output_type": "stream",
     "text": [
      "100%|██████████| 1759/1759 [00:03<00:00, 494.98it/s]\n",
      "  3%|▎         | 51/1759 [00:00<00:03, 508.48it/s]"
     ]
    },
    {
     "name": "stdout",
     "output_type": "stream",
     "text": [
      "318379\n"
     ]
    },
    {
     "name": "stderr",
     "output_type": "stream",
     "text": [
      "100%|██████████| 1759/1759 [00:03<00:00, 493.59it/s]\n",
      "  3%|▎         | 52/1759 [00:00<00:03, 511.79it/s]"
     ]
    },
    {
     "name": "stdout",
     "output_type": "stream",
     "text": [
      "320138\n"
     ]
    },
    {
     "name": "stderr",
     "output_type": "stream",
     "text": [
      "100%|██████████| 1759/1759 [00:03<00:00, 499.55it/s]\n",
      "  3%|▎         | 50/1759 [00:00<00:03, 487.58it/s]"
     ]
    },
    {
     "name": "stdout",
     "output_type": "stream",
     "text": [
      "321897\n"
     ]
    },
    {
     "name": "stderr",
     "output_type": "stream",
     "text": [
      "100%|██████████| 1759/1759 [00:03<00:00, 496.03it/s]\n",
      "  3%|▎         | 52/1759 [00:00<00:03, 518.63it/s]"
     ]
    },
    {
     "name": "stdout",
     "output_type": "stream",
     "text": [
      "323656\n"
     ]
    },
    {
     "name": "stderr",
     "output_type": "stream",
     "text": [
      "100%|██████████| 1759/1759 [00:03<00:00, 503.92it/s]\n",
      "  3%|▎         | 51/1759 [00:00<00:03, 501.68it/s]"
     ]
    },
    {
     "name": "stdout",
     "output_type": "stream",
     "text": [
      "325415\n"
     ]
    },
    {
     "name": "stderr",
     "output_type": "stream",
     "text": [
      "100%|██████████| 1759/1759 [00:03<00:00, 492.46it/s]\n",
      "  3%|▎         | 49/1759 [00:00<00:03, 482.66it/s]"
     ]
    },
    {
     "name": "stdout",
     "output_type": "stream",
     "text": [
      "327174\n"
     ]
    },
    {
     "name": "stderr",
     "output_type": "stream",
     "text": [
      "100%|██████████| 1759/1759 [00:03<00:00, 488.96it/s]\n",
      "  3%|▎         | 52/1759 [00:00<00:03, 510.92it/s]"
     ]
    },
    {
     "name": "stdout",
     "output_type": "stream",
     "text": [
      "328933\n"
     ]
    },
    {
     "name": "stderr",
     "output_type": "stream",
     "text": [
      "100%|██████████| 1759/1759 [00:03<00:00, 501.09it/s]\n",
      "  3%|▎         | 52/1759 [00:00<00:03, 516.98it/s]"
     ]
    },
    {
     "name": "stdout",
     "output_type": "stream",
     "text": [
      "330692\n"
     ]
    },
    {
     "name": "stderr",
     "output_type": "stream",
     "text": [
      "100%|██████████| 1759/1759 [00:03<00:00, 507.94it/s]\n",
      "  3%|▎         | 52/1759 [00:00<00:03, 517.26it/s]"
     ]
    },
    {
     "name": "stdout",
     "output_type": "stream",
     "text": [
      "332451\n"
     ]
    },
    {
     "name": "stderr",
     "output_type": "stream",
     "text": [
      "100%|██████████| 1759/1759 [00:03<00:00, 508.49it/s]\n",
      "  3%|▎         | 52/1759 [00:00<00:03, 517.44it/s]"
     ]
    },
    {
     "name": "stdout",
     "output_type": "stream",
     "text": [
      "334210\n"
     ]
    },
    {
     "name": "stderr",
     "output_type": "stream",
     "text": [
      "100%|██████████| 1759/1759 [00:03<00:00, 512.00it/s]\n",
      "  3%|▎         | 51/1759 [00:00<00:03, 508.35it/s]"
     ]
    },
    {
     "name": "stdout",
     "output_type": "stream",
     "text": [
      "335969\n"
     ]
    },
    {
     "name": "stderr",
     "output_type": "stream",
     "text": [
      "100%|██████████| 1759/1759 [00:03<00:00, 493.28it/s]\n",
      "  3%|▎         | 52/1759 [00:00<00:03, 517.32it/s]"
     ]
    },
    {
     "name": "stdout",
     "output_type": "stream",
     "text": [
      "337728\n"
     ]
    },
    {
     "name": "stderr",
     "output_type": "stream",
     "text": [
      "100%|██████████| 1759/1759 [00:03<00:00, 505.22it/s]\n",
      "  3%|▎         | 53/1759 [00:00<00:03, 520.92it/s]"
     ]
    },
    {
     "name": "stdout",
     "output_type": "stream",
     "text": [
      "339487\n"
     ]
    },
    {
     "name": "stderr",
     "output_type": "stream",
     "text": [
      "100%|██████████| 1759/1759 [00:03<00:00, 513.77it/s]\n",
      "  3%|▎         | 53/1759 [00:00<00:03, 522.56it/s]"
     ]
    },
    {
     "name": "stdout",
     "output_type": "stream",
     "text": [
      "341246\n"
     ]
    },
    {
     "name": "stderr",
     "output_type": "stream",
     "text": [
      "100%|██████████| 1759/1759 [00:03<00:00, 505.93it/s]\n",
      "  3%|▎         | 50/1759 [00:00<00:03, 496.49it/s]"
     ]
    },
    {
     "name": "stdout",
     "output_type": "stream",
     "text": [
      "343005\n"
     ]
    },
    {
     "name": "stderr",
     "output_type": "stream",
     "text": [
      "100%|██████████| 1759/1759 [00:03<00:00, 514.39it/s]\n",
      "  3%|▎         | 53/1759 [00:00<00:03, 525.57it/s]"
     ]
    },
    {
     "name": "stdout",
     "output_type": "stream",
     "text": [
      "344764\n"
     ]
    },
    {
     "name": "stderr",
     "output_type": "stream",
     "text": [
      "100%|██████████| 1759/1759 [00:03<00:00, 511.01it/s]\n",
      "  3%|▎         | 52/1759 [00:00<00:03, 511.02it/s]"
     ]
    },
    {
     "name": "stdout",
     "output_type": "stream",
     "text": [
      "346523\n"
     ]
    },
    {
     "name": "stderr",
     "output_type": "stream",
     "text": [
      "100%|██████████| 1759/1759 [00:03<00:00, 490.43it/s]\n",
      "  3%|▎         | 49/1759 [00:00<00:03, 483.01it/s]"
     ]
    },
    {
     "name": "stdout",
     "output_type": "stream",
     "text": [
      "348282\n"
     ]
    },
    {
     "name": "stderr",
     "output_type": "stream",
     "text": [
      "100%|██████████| 1759/1759 [00:03<00:00, 475.74it/s]\n",
      "  3%|▎         | 52/1759 [00:00<00:03, 512.64it/s]"
     ]
    },
    {
     "name": "stdout",
     "output_type": "stream",
     "text": [
      "350041\n"
     ]
    },
    {
     "name": "stderr",
     "output_type": "stream",
     "text": [
      "100%|██████████| 1759/1759 [00:03<00:00, 488.22it/s]\n",
      "  3%|▎         | 53/1759 [00:00<00:03, 522.01it/s]"
     ]
    },
    {
     "name": "stdout",
     "output_type": "stream",
     "text": [
      "351800\n"
     ]
    },
    {
     "name": "stderr",
     "output_type": "stream",
     "text": [
      "100%|██████████| 1759/1759 [00:03<00:00, 515.71it/s]\n",
      "  3%|▎         | 52/1759 [00:00<00:03, 519.50it/s]"
     ]
    },
    {
     "name": "stdout",
     "output_type": "stream",
     "text": [
      "353559\n"
     ]
    },
    {
     "name": "stderr",
     "output_type": "stream",
     "text": [
      "100%|██████████| 1759/1759 [00:03<00:00, 494.60it/s]\n",
      "  3%|▎         | 50/1759 [00:00<00:03, 496.47it/s]"
     ]
    },
    {
     "name": "stdout",
     "output_type": "stream",
     "text": [
      "355318\n"
     ]
    },
    {
     "name": "stderr",
     "output_type": "stream",
     "text": [
      "100%|██████████| 1759/1759 [00:03<00:00, 483.65it/s]\n",
      "  3%|▎         | 50/1759 [00:00<00:03, 494.87it/s]"
     ]
    },
    {
     "name": "stdout",
     "output_type": "stream",
     "text": [
      "357077\n"
     ]
    },
    {
     "name": "stderr",
     "output_type": "stream",
     "text": [
      "100%|██████████| 1759/1759 [00:03<00:00, 499.78it/s]\n",
      "  3%|▎         | 52/1759 [00:00<00:03, 511.42it/s]"
     ]
    },
    {
     "name": "stdout",
     "output_type": "stream",
     "text": [
      "358836\n"
     ]
    },
    {
     "name": "stderr",
     "output_type": "stream",
     "text": [
      "100%|██████████| 1759/1759 [00:03<00:00, 489.98it/s]\n",
      "  3%|▎         | 46/1759 [00:00<00:03, 459.66it/s]"
     ]
    },
    {
     "name": "stdout",
     "output_type": "stream",
     "text": [
      "360595\n"
     ]
    },
    {
     "name": "stderr",
     "output_type": "stream",
     "text": [
      "100%|██████████| 1759/1759 [00:03<00:00, 484.51it/s]\n",
      "  3%|▎         | 50/1759 [00:00<00:03, 499.83it/s]"
     ]
    },
    {
     "name": "stdout",
     "output_type": "stream",
     "text": [
      "362354\n"
     ]
    },
    {
     "name": "stderr",
     "output_type": "stream",
     "text": [
      "100%|██████████| 1759/1759 [00:03<00:00, 500.57it/s]\n",
      "  3%|▎         | 53/1759 [00:00<00:03, 522.61it/s]"
     ]
    },
    {
     "name": "stdout",
     "output_type": "stream",
     "text": [
      "364113\n"
     ]
    },
    {
     "name": "stderr",
     "output_type": "stream",
     "text": [
      "100%|██████████| 1759/1759 [00:03<00:00, 507.17it/s]\n",
      "  3%|▎         | 53/1759 [00:00<00:03, 528.11it/s]"
     ]
    },
    {
     "name": "stdout",
     "output_type": "stream",
     "text": [
      "365872\n"
     ]
    },
    {
     "name": "stderr",
     "output_type": "stream",
     "text": [
      "100%|██████████| 1759/1759 [00:03<00:00, 514.09it/s]\n",
      "  3%|▎         | 52/1759 [00:00<00:03, 515.01it/s]"
     ]
    },
    {
     "name": "stdout",
     "output_type": "stream",
     "text": [
      "367631\n"
     ]
    },
    {
     "name": "stderr",
     "output_type": "stream",
     "text": [
      "100%|██████████| 1759/1759 [00:03<00:00, 513.38it/s]\n",
      "  3%|▎         | 52/1759 [00:00<00:03, 512.96it/s]"
     ]
    },
    {
     "name": "stdout",
     "output_type": "stream",
     "text": [
      "369390\n"
     ]
    },
    {
     "name": "stderr",
     "output_type": "stream",
     "text": [
      "100%|██████████| 1759/1759 [00:03<00:00, 515.20it/s]\n",
      "  3%|▎         | 52/1759 [00:00<00:03, 513.90it/s]"
     ]
    },
    {
     "name": "stdout",
     "output_type": "stream",
     "text": [
      "371149\n"
     ]
    },
    {
     "name": "stderr",
     "output_type": "stream",
     "text": [
      "100%|██████████| 1759/1759 [00:03<00:00, 512.26it/s]\n",
      "  3%|▎         | 53/1759 [00:00<00:03, 525.91it/s]"
     ]
    },
    {
     "name": "stdout",
     "output_type": "stream",
     "text": [
      "372908\n"
     ]
    },
    {
     "name": "stderr",
     "output_type": "stream",
     "text": [
      "100%|██████████| 1759/1759 [00:03<00:00, 511.38it/s]\n",
      "  3%|▎         | 52/1759 [00:00<00:03, 515.75it/s]"
     ]
    },
    {
     "name": "stdout",
     "output_type": "stream",
     "text": [
      "374667\n"
     ]
    },
    {
     "name": "stderr",
     "output_type": "stream",
     "text": [
      "100%|██████████| 1759/1759 [00:03<00:00, 511.97it/s]\n",
      "  3%|▎         | 53/1759 [00:00<00:03, 528.79it/s]"
     ]
    },
    {
     "name": "stdout",
     "output_type": "stream",
     "text": [
      "376426\n"
     ]
    },
    {
     "name": "stderr",
     "output_type": "stream",
     "text": [
      "100%|██████████| 1759/1759 [00:03<00:00, 516.08it/s]\n",
      "  3%|▎         | 53/1759 [00:00<00:03, 528.96it/s]"
     ]
    },
    {
     "name": "stdout",
     "output_type": "stream",
     "text": [
      "378185\n"
     ]
    },
    {
     "name": "stderr",
     "output_type": "stream",
     "text": [
      "100%|██████████| 1759/1759 [00:03<00:00, 515.92it/s]\n",
      "  3%|▎         | 52/1759 [00:00<00:03, 519.21it/s]"
     ]
    },
    {
     "name": "stdout",
     "output_type": "stream",
     "text": [
      "379944\n"
     ]
    },
    {
     "name": "stderr",
     "output_type": "stream",
     "text": [
      "100%|██████████| 1759/1759 [00:03<00:00, 512.78it/s]\n",
      "  3%|▎         | 52/1759 [00:00<00:03, 517.78it/s]"
     ]
    },
    {
     "name": "stdout",
     "output_type": "stream",
     "text": [
      "381703\n"
     ]
    },
    {
     "name": "stderr",
     "output_type": "stream",
     "text": [
      "100%|██████████| 1759/1759 [00:03<00:00, 513.71it/s]\n",
      "  3%|▎         | 52/1759 [00:00<00:03, 518.70it/s]"
     ]
    },
    {
     "name": "stdout",
     "output_type": "stream",
     "text": [
      "383462\n"
     ]
    },
    {
     "name": "stderr",
     "output_type": "stream",
     "text": [
      "100%|██████████| 1759/1759 [00:03<00:00, 514.68it/s]\n",
      "  3%|▎         | 53/1759 [00:00<00:03, 521.70it/s]"
     ]
    },
    {
     "name": "stdout",
     "output_type": "stream",
     "text": [
      "385221\n"
     ]
    },
    {
     "name": "stderr",
     "output_type": "stream",
     "text": [
      "100%|██████████| 1759/1759 [00:03<00:00, 509.58it/s]\n",
      "  3%|▎         | 52/1759 [00:00<00:03, 516.56it/s]"
     ]
    },
    {
     "name": "stdout",
     "output_type": "stream",
     "text": [
      "386980\n"
     ]
    },
    {
     "name": "stderr",
     "output_type": "stream",
     "text": [
      "100%|██████████| 1759/1759 [00:03<00:00, 513.79it/s]\n",
      "  3%|▎         | 51/1759 [00:00<00:03, 500.23it/s]"
     ]
    },
    {
     "name": "stdout",
     "output_type": "stream",
     "text": [
      "388739\n"
     ]
    },
    {
     "name": "stderr",
     "output_type": "stream",
     "text": [
      "100%|██████████| 1759/1759 [00:03<00:00, 510.42it/s]\n",
      "  3%|▎         | 53/1759 [00:00<00:03, 515.39it/s]"
     ]
    },
    {
     "name": "stdout",
     "output_type": "stream",
     "text": [
      "390498\n"
     ]
    },
    {
     "name": "stderr",
     "output_type": "stream",
     "text": [
      "100%|██████████| 1759/1759 [00:03<00:00, 508.78it/s]\n",
      "  3%|▎         | 49/1759 [00:00<00:03, 485.25it/s]"
     ]
    },
    {
     "name": "stdout",
     "output_type": "stream",
     "text": [
      "392257\n"
     ]
    },
    {
     "name": "stderr",
     "output_type": "stream",
     "text": [
      "100%|██████████| 1759/1759 [00:03<00:00, 494.91it/s]\n",
      "  3%|▎         | 44/1759 [00:00<00:03, 433.66it/s]"
     ]
    },
    {
     "name": "stdout",
     "output_type": "stream",
     "text": [
      "394016\n"
     ]
    },
    {
     "name": "stderr",
     "output_type": "stream",
     "text": [
      "100%|██████████| 1759/1759 [00:03<00:00, 495.95it/s]\n",
      "  3%|▎         | 51/1759 [00:00<00:03, 503.16it/s]"
     ]
    },
    {
     "name": "stdout",
     "output_type": "stream",
     "text": [
      "395775\n"
     ]
    },
    {
     "name": "stderr",
     "output_type": "stream",
     "text": [
      "100%|██████████| 1759/1759 [00:03<00:00, 498.10it/s]\n",
      "  3%|▎         | 52/1759 [00:00<00:03, 514.10it/s]"
     ]
    },
    {
     "name": "stdout",
     "output_type": "stream",
     "text": [
      "397534\n"
     ]
    },
    {
     "name": "stderr",
     "output_type": "stream",
     "text": [
      "100%|██████████| 1759/1759 [00:03<00:00, 498.83it/s]\n",
      "  3%|▎         | 51/1759 [00:00<00:03, 506.53it/s]"
     ]
    },
    {
     "name": "stdout",
     "output_type": "stream",
     "text": [
      "399293\n"
     ]
    },
    {
     "name": "stderr",
     "output_type": "stream",
     "text": [
      "100%|██████████| 1759/1759 [00:03<00:00, 490.93it/s]\n",
      "  3%|▎         | 51/1759 [00:00<00:03, 502.48it/s]"
     ]
    },
    {
     "name": "stdout",
     "output_type": "stream",
     "text": [
      "401052\n"
     ]
    },
    {
     "name": "stderr",
     "output_type": "stream",
     "text": [
      "100%|██████████| 1759/1759 [00:03<00:00, 496.67it/s]\n",
      "  3%|▎         | 53/1759 [00:00<00:03, 521.82it/s]"
     ]
    },
    {
     "name": "stdout",
     "output_type": "stream",
     "text": [
      "402811\n"
     ]
    },
    {
     "name": "stderr",
     "output_type": "stream",
     "text": [
      "100%|██████████| 1759/1759 [00:03<00:00, 500.01it/s]\n",
      "  3%|▎         | 51/1759 [00:00<00:03, 503.66it/s]"
     ]
    },
    {
     "name": "stdout",
     "output_type": "stream",
     "text": [
      "404570\n"
     ]
    },
    {
     "name": "stderr",
     "output_type": "stream",
     "text": [
      "100%|██████████| 1759/1759 [00:03<00:00, 500.73it/s]\n",
      "  3%|▎         | 51/1759 [00:00<00:03, 508.31it/s]"
     ]
    },
    {
     "name": "stdout",
     "output_type": "stream",
     "text": [
      "406329\n"
     ]
    },
    {
     "name": "stderr",
     "output_type": "stream",
     "text": [
      "100%|██████████| 1759/1759 [00:03<00:00, 506.35it/s]\n",
      "  3%|▎         | 52/1759 [00:00<00:03, 511.30it/s]"
     ]
    },
    {
     "name": "stdout",
     "output_type": "stream",
     "text": [
      "408088\n"
     ]
    },
    {
     "name": "stderr",
     "output_type": "stream",
     "text": [
      "100%|██████████| 1759/1759 [00:03<00:00, 484.33it/s]\n",
      "  3%|▎         | 51/1759 [00:00<00:03, 509.42it/s]"
     ]
    },
    {
     "name": "stdout",
     "output_type": "stream",
     "text": [
      "409847\n"
     ]
    },
    {
     "name": "stderr",
     "output_type": "stream",
     "text": [
      "100%|██████████| 1759/1759 [00:03<00:00, 485.50it/s]\n",
      "  3%|▎         | 53/1759 [00:00<00:03, 522.64it/s]"
     ]
    },
    {
     "name": "stdout",
     "output_type": "stream",
     "text": [
      "411606\n"
     ]
    },
    {
     "name": "stderr",
     "output_type": "stream",
     "text": [
      "100%|██████████| 1759/1759 [00:03<00:00, 498.29it/s]\n",
      "  3%|▎         | 51/1759 [00:00<00:03, 509.71it/s]"
     ]
    },
    {
     "name": "stdout",
     "output_type": "stream",
     "text": [
      "413365\n"
     ]
    },
    {
     "name": "stderr",
     "output_type": "stream",
     "text": [
      "100%|██████████| 1759/1759 [00:03<00:00, 488.96it/s]\n",
      "  3%|▎         | 47/1759 [00:00<00:03, 465.39it/s]"
     ]
    },
    {
     "name": "stdout",
     "output_type": "stream",
     "text": [
      "415124\n"
     ]
    },
    {
     "name": "stderr",
     "output_type": "stream",
     "text": [
      "100%|██████████| 1759/1759 [00:03<00:00, 499.20it/s]\n",
      "  3%|▎         | 52/1759 [00:00<00:03, 519.18it/s]"
     ]
    },
    {
     "name": "stdout",
     "output_type": "stream",
     "text": [
      "416883\n"
     ]
    },
    {
     "name": "stderr",
     "output_type": "stream",
     "text": [
      "100%|██████████| 1759/1759 [00:03<00:00, 471.47it/s]\n",
      "  3%|▎         | 47/1759 [00:00<00:03, 464.92it/s]"
     ]
    },
    {
     "name": "stdout",
     "output_type": "stream",
     "text": [
      "418642\n"
     ]
    },
    {
     "name": "stderr",
     "output_type": "stream",
     "text": [
      "100%|██████████| 1759/1759 [00:03<00:00, 480.01it/s]\n",
      "  3%|▎         | 50/1759 [00:00<00:03, 499.57it/s]"
     ]
    },
    {
     "name": "stdout",
     "output_type": "stream",
     "text": [
      "420401\n"
     ]
    },
    {
     "name": "stderr",
     "output_type": "stream",
     "text": [
      "100%|██████████| 1759/1759 [00:03<00:00, 480.58it/s]\n",
      "  3%|▎         | 48/1759 [00:00<00:03, 473.92it/s]"
     ]
    },
    {
     "name": "stdout",
     "output_type": "stream",
     "text": [
      "422160\n"
     ]
    },
    {
     "name": "stderr",
     "output_type": "stream",
     "text": [
      "100%|██████████| 1759/1759 [00:03<00:00, 500.06it/s]\n",
      "  3%|▎         | 52/1759 [00:00<00:03, 512.15it/s]"
     ]
    },
    {
     "name": "stdout",
     "output_type": "stream",
     "text": [
      "423919\n"
     ]
    },
    {
     "name": "stderr",
     "output_type": "stream",
     "text": [
      "100%|██████████| 1759/1759 [00:03<00:00, 487.03it/s]\n",
      "  3%|▎         | 50/1759 [00:00<00:03, 496.31it/s]"
     ]
    },
    {
     "name": "stdout",
     "output_type": "stream",
     "text": [
      "425678\n"
     ]
    },
    {
     "name": "stderr",
     "output_type": "stream",
     "text": [
      "100%|██████████| 1759/1759 [00:03<00:00, 498.04it/s]\n",
      "  2%|▏         | 42/1759 [00:00<00:04, 410.40it/s]"
     ]
    },
    {
     "name": "stdout",
     "output_type": "stream",
     "text": [
      "427437\n"
     ]
    },
    {
     "name": "stderr",
     "output_type": "stream",
     "text": [
      "100%|██████████| 1759/1759 [00:03<00:00, 496.04it/s]\n",
      "  3%|▎         | 52/1759 [00:00<00:03, 515.59it/s]"
     ]
    },
    {
     "name": "stdout",
     "output_type": "stream",
     "text": [
      "429196\n"
     ]
    },
    {
     "name": "stderr",
     "output_type": "stream",
     "text": [
      "100%|██████████| 1759/1759 [00:03<00:00, 504.51it/s]\n",
      "  3%|▎         | 52/1759 [00:00<00:03, 515.14it/s]"
     ]
    },
    {
     "name": "stdout",
     "output_type": "stream",
     "text": [
      "430955\n"
     ]
    },
    {
     "name": "stderr",
     "output_type": "stream",
     "text": [
      "100%|██████████| 1759/1759 [00:03<00:00, 502.10it/s]\n",
      "  3%|▎         | 50/1759 [00:00<00:03, 498.98it/s]"
     ]
    },
    {
     "name": "stdout",
     "output_type": "stream",
     "text": [
      "432714\n"
     ]
    },
    {
     "name": "stderr",
     "output_type": "stream",
     "text": [
      "100%|██████████| 1759/1759 [00:03<00:00, 504.82it/s]\n",
      "  3%|▎         | 53/1759 [00:00<00:03, 523.20it/s]"
     ]
    },
    {
     "name": "stdout",
     "output_type": "stream",
     "text": [
      "434473\n"
     ]
    },
    {
     "name": "stderr",
     "output_type": "stream",
     "text": [
      "100%|██████████| 1759/1759 [00:03<00:00, 485.15it/s]\n",
      "  3%|▎         | 51/1759 [00:00<00:03, 502.85it/s]"
     ]
    },
    {
     "name": "stdout",
     "output_type": "stream",
     "text": [
      "436232\n"
     ]
    },
    {
     "name": "stderr",
     "output_type": "stream",
     "text": [
      "100%|██████████| 1759/1759 [00:03<00:00, 491.42it/s]\n",
      "  3%|▎         | 50/1759 [00:00<00:03, 499.40it/s]"
     ]
    },
    {
     "name": "stdout",
     "output_type": "stream",
     "text": [
      "437991\n"
     ]
    },
    {
     "name": "stderr",
     "output_type": "stream",
     "text": [
      "100%|██████████| 1759/1759 [00:03<00:00, 505.97it/s]\n",
      "  3%|▎         | 53/1759 [00:00<00:03, 522.94it/s]"
     ]
    },
    {
     "name": "stdout",
     "output_type": "stream",
     "text": [
      "439750\n"
     ]
    },
    {
     "name": "stderr",
     "output_type": "stream",
     "text": [
      "100%|██████████| 1759/1759 [00:03<00:00, 509.31it/s]\n",
      "  3%|▎         | 52/1759 [00:00<00:03, 510.65it/s]"
     ]
    },
    {
     "name": "stdout",
     "output_type": "stream",
     "text": [
      "441509\n"
     ]
    },
    {
     "name": "stderr",
     "output_type": "stream",
     "text": [
      "100%|██████████| 1759/1759 [00:03<00:00, 502.98it/s]\n",
      "  3%|▎         | 53/1759 [00:00<00:03, 524.97it/s]"
     ]
    },
    {
     "name": "stdout",
     "output_type": "stream",
     "text": [
      "443268\n"
     ]
    },
    {
     "name": "stderr",
     "output_type": "stream",
     "text": [
      "100%|██████████| 1759/1759 [00:03<00:00, 489.87it/s]\n",
      "  3%|▎         | 51/1759 [00:00<00:03, 508.36it/s]"
     ]
    },
    {
     "name": "stdout",
     "output_type": "stream",
     "text": [
      "445027\n"
     ]
    },
    {
     "name": "stderr",
     "output_type": "stream",
     "text": [
      "100%|██████████| 1759/1759 [00:03<00:00, 512.35it/s]\n",
      "  3%|▎         | 53/1759 [00:00<00:03, 529.67it/s]"
     ]
    },
    {
     "name": "stdout",
     "output_type": "stream",
     "text": [
      "446786\n"
     ]
    },
    {
     "name": "stderr",
     "output_type": "stream",
     "text": [
      "100%|██████████| 1759/1759 [00:03<00:00, 512.22it/s]\n",
      "  3%|▎         | 53/1759 [00:00<00:03, 525.96it/s]"
     ]
    },
    {
     "name": "stdout",
     "output_type": "stream",
     "text": [
      "448545\n"
     ]
    },
    {
     "name": "stderr",
     "output_type": "stream",
     "text": [
      "100%|██████████| 1759/1759 [00:03<00:00, 508.07it/s]\n",
      "  3%|▎         | 51/1759 [00:00<00:03, 505.78it/s]"
     ]
    },
    {
     "name": "stdout",
     "output_type": "stream",
     "text": [
      "450304\n"
     ]
    },
    {
     "name": "stderr",
     "output_type": "stream",
     "text": [
      "100%|██████████| 1759/1759 [00:03<00:00, 501.95it/s]\n",
      "  3%|▎         | 52/1759 [00:00<00:03, 518.41it/s]"
     ]
    },
    {
     "name": "stdout",
     "output_type": "stream",
     "text": [
      "452063\n"
     ]
    },
    {
     "name": "stderr",
     "output_type": "stream",
     "text": [
      "100%|██████████| 1759/1759 [00:03<00:00, 506.05it/s]\n",
      "  3%|▎         | 50/1759 [00:00<00:03, 495.62it/s]"
     ]
    },
    {
     "name": "stdout",
     "output_type": "stream",
     "text": [
      "453822\n"
     ]
    },
    {
     "name": "stderr",
     "output_type": "stream",
     "text": [
      "100%|██████████| 1759/1759 [00:03<00:00, 512.26it/s]\n",
      "  3%|▎         | 53/1759 [00:00<00:03, 521.10it/s]"
     ]
    },
    {
     "name": "stdout",
     "output_type": "stream",
     "text": [
      "455581\n"
     ]
    },
    {
     "name": "stderr",
     "output_type": "stream",
     "text": [
      "100%|██████████| 1759/1759 [00:03<00:00, 501.53it/s]\n",
      "  3%|▎         | 51/1759 [00:00<00:03, 505.97it/s]"
     ]
    },
    {
     "name": "stdout",
     "output_type": "stream",
     "text": [
      "457340\n"
     ]
    },
    {
     "name": "stderr",
     "output_type": "stream",
     "text": [
      "100%|██████████| 1759/1759 [00:03<00:00, 506.58it/s]\n",
      "  3%|▎         | 51/1759 [00:00<00:03, 508.11it/s]"
     ]
    },
    {
     "name": "stdout",
     "output_type": "stream",
     "text": [
      "459099\n"
     ]
    },
    {
     "name": "stderr",
     "output_type": "stream",
     "text": [
      "100%|██████████| 1759/1759 [00:03<00:00, 501.86it/s]\n",
      "  3%|▎         | 48/1759 [00:00<00:03, 475.56it/s]"
     ]
    },
    {
     "name": "stdout",
     "output_type": "stream",
     "text": [
      "460858\n"
     ]
    },
    {
     "name": "stderr",
     "output_type": "stream",
     "text": [
      "100%|██████████| 1759/1759 [00:03<00:00, 487.77it/s]\n",
      "  3%|▎         | 50/1759 [00:00<00:03, 493.01it/s]"
     ]
    },
    {
     "name": "stdout",
     "output_type": "stream",
     "text": [
      "462617\n"
     ]
    },
    {
     "name": "stderr",
     "output_type": "stream",
     "text": [
      "100%|██████████| 1759/1759 [00:03<00:00, 501.81it/s]\n",
      "  3%|▎         | 52/1759 [00:00<00:03, 516.27it/s]"
     ]
    },
    {
     "name": "stdout",
     "output_type": "stream",
     "text": [
      "464376\n"
     ]
    },
    {
     "name": "stderr",
     "output_type": "stream",
     "text": [
      "100%|██████████| 1759/1759 [00:03<00:00, 496.56it/s]\n",
      "  3%|▎         | 49/1759 [00:00<00:03, 488.23it/s]"
     ]
    },
    {
     "name": "stdout",
     "output_type": "stream",
     "text": [
      "466135\n"
     ]
    },
    {
     "name": "stderr",
     "output_type": "stream",
     "text": [
      "100%|██████████| 1759/1759 [00:03<00:00, 505.85it/s]\n",
      "  3%|▎         | 53/1759 [00:00<00:03, 528.51it/s]"
     ]
    },
    {
     "name": "stdout",
     "output_type": "stream",
     "text": [
      "467894\n"
     ]
    },
    {
     "name": "stderr",
     "output_type": "stream",
     "text": [
      "100%|██████████| 1759/1759 [00:03<00:00, 497.33it/s]\n",
      "  3%|▎         | 51/1759 [00:00<00:03, 509.22it/s]"
     ]
    },
    {
     "name": "stdout",
     "output_type": "stream",
     "text": [
      "469653\n"
     ]
    },
    {
     "name": "stderr",
     "output_type": "stream",
     "text": [
      "100%|██████████| 1759/1759 [00:03<00:00, 502.78it/s]\n",
      "  2%|▏         | 40/1759 [00:00<00:04, 399.62it/s]"
     ]
    },
    {
     "name": "stdout",
     "output_type": "stream",
     "text": [
      "471412\n"
     ]
    },
    {
     "name": "stderr",
     "output_type": "stream",
     "text": [
      "100%|██████████| 1759/1759 [00:03<00:00, 469.28it/s]\n",
      "  3%|▎         | 51/1759 [00:00<00:03, 506.61it/s]"
     ]
    },
    {
     "name": "stdout",
     "output_type": "stream",
     "text": [
      "473171\n"
     ]
    },
    {
     "name": "stderr",
     "output_type": "stream",
     "text": [
      "100%|██████████| 1759/1759 [00:03<00:00, 482.12it/s]\n",
      "  3%|▎         | 52/1759 [00:00<00:03, 513.53it/s]"
     ]
    },
    {
     "name": "stdout",
     "output_type": "stream",
     "text": [
      "474930\n"
     ]
    },
    {
     "name": "stderr",
     "output_type": "stream",
     "text": [
      "100%|██████████| 1759/1759 [00:03<00:00, 497.90it/s]\n",
      "  3%|▎         | 52/1759 [00:00<00:03, 514.74it/s]"
     ]
    },
    {
     "name": "stdout",
     "output_type": "stream",
     "text": [
      "476689\n"
     ]
    },
    {
     "name": "stderr",
     "output_type": "stream",
     "text": [
      "100%|██████████| 1759/1759 [00:03<00:00, 493.86it/s]\n",
      "  3%|▎         | 51/1759 [00:00<00:03, 509.00it/s]"
     ]
    },
    {
     "name": "stdout",
     "output_type": "stream",
     "text": [
      "478448\n"
     ]
    },
    {
     "name": "stderr",
     "output_type": "stream",
     "text": [
      "100%|██████████| 1759/1759 [00:03<00:00, 487.60it/s]\n",
      "  3%|▎         | 51/1759 [00:00<00:03, 505.00it/s]"
     ]
    },
    {
     "name": "stdout",
     "output_type": "stream",
     "text": [
      "480207\n"
     ]
    },
    {
     "name": "stderr",
     "output_type": "stream",
     "text": [
      "100%|██████████| 1759/1759 [00:03<00:00, 484.62it/s]\n",
      "  3%|▎         | 52/1759 [00:00<00:03, 518.59it/s]"
     ]
    },
    {
     "name": "stdout",
     "output_type": "stream",
     "text": [
      "481966\n"
     ]
    },
    {
     "name": "stderr",
     "output_type": "stream",
     "text": [
      "100%|██████████| 1759/1759 [00:03<00:00, 487.37it/s]\n",
      "  3%|▎         | 47/1759 [00:00<00:03, 462.19it/s]"
     ]
    },
    {
     "name": "stdout",
     "output_type": "stream",
     "text": [
      "483725\n"
     ]
    },
    {
     "name": "stderr",
     "output_type": "stream",
     "text": [
      "100%|██████████| 1759/1759 [00:03<00:00, 489.84it/s]\n",
      "  3%|▎         | 50/1759 [00:00<00:03, 496.94it/s]"
     ]
    },
    {
     "name": "stdout",
     "output_type": "stream",
     "text": [
      "485484\n"
     ]
    },
    {
     "name": "stderr",
     "output_type": "stream",
     "text": [
      "100%|██████████| 1759/1759 [00:03<00:00, 494.85it/s]\n",
      "  3%|▎         | 48/1759 [00:00<00:03, 476.94it/s]"
     ]
    },
    {
     "name": "stdout",
     "output_type": "stream",
     "text": [
      "487243\n"
     ]
    },
    {
     "name": "stderr",
     "output_type": "stream",
     "text": [
      "100%|██████████| 1759/1759 [00:03<00:00, 496.55it/s]\n",
      "  3%|▎         | 53/1759 [00:00<00:03, 520.49it/s]"
     ]
    },
    {
     "name": "stdout",
     "output_type": "stream",
     "text": [
      "489002\n"
     ]
    },
    {
     "name": "stderr",
     "output_type": "stream",
     "text": [
      "100%|██████████| 1759/1759 [00:03<00:00, 498.36it/s]\n",
      "  3%|▎         | 47/1759 [00:00<00:03, 462.45it/s]"
     ]
    },
    {
     "name": "stdout",
     "output_type": "stream",
     "text": [
      "490761\n"
     ]
    },
    {
     "name": "stderr",
     "output_type": "stream",
     "text": [
      "100%|██████████| 1759/1759 [00:03<00:00, 499.96it/s]\n",
      "  3%|▎         | 52/1759 [00:00<00:03, 514.41it/s]"
     ]
    },
    {
     "name": "stdout",
     "output_type": "stream",
     "text": [
      "492520\n"
     ]
    },
    {
     "name": "stderr",
     "output_type": "stream",
     "text": [
      "100%|██████████| 1759/1759 [00:03<00:00, 506.52it/s]\n",
      "  3%|▎         | 49/1759 [00:00<00:03, 482.63it/s]"
     ]
    },
    {
     "name": "stdout",
     "output_type": "stream",
     "text": [
      "494279\n"
     ]
    },
    {
     "name": "stderr",
     "output_type": "stream",
     "text": [
      "100%|██████████| 1759/1759 [00:03<00:00, 509.30it/s]\n",
      "  3%|▎         | 53/1759 [00:00<00:03, 523.95it/s]"
     ]
    },
    {
     "name": "stdout",
     "output_type": "stream",
     "text": [
      "496038\n"
     ]
    },
    {
     "name": "stderr",
     "output_type": "stream",
     "text": [
      "100%|██████████| 1759/1759 [00:03<00:00, 516.21it/s]\n",
      "  3%|▎         | 53/1759 [00:00<00:03, 522.30it/s]"
     ]
    },
    {
     "name": "stdout",
     "output_type": "stream",
     "text": [
      "497797\n"
     ]
    },
    {
     "name": "stderr",
     "output_type": "stream",
     "text": [
      "100%|██████████| 1759/1759 [00:03<00:00, 518.44it/s]\n",
      "  3%|▎         | 53/1759 [00:00<00:03, 528.24it/s]"
     ]
    },
    {
     "name": "stdout",
     "output_type": "stream",
     "text": [
      "499556\n"
     ]
    },
    {
     "name": "stderr",
     "output_type": "stream",
     "text": [
      " 24%|██▍       | 419/1759 [00:00<00:02, 519.87it/s]"
     ]
    },
    {
     "name": "stdout",
     "output_type": "stream",
     "text": [
      "500000\n"
     ]
    },
    {
     "name": "stderr",
     "output_type": "stream",
     "text": [
      "\n"
     ]
    }
   ],
   "source": [
    "noized_lines = np.zeros((num, 128))\n",
    "originals = np.zeros((num, 128))\n",
    "\n",
    "c = 0\n",
    "while c < num:\n",
    "    for sp in tqdm(db):\n",
    "        noised = add_noize_arr(sp, noise_matrix_ES1)\n",
    "        #if any(noised != sp):\n",
    "        noized_lines[c] = noised\n",
    "        originals[c] = sp\n",
    "        c += 1\n",
    "        if c >= num:\n",
    "            break\n",
    "    print(c)"
   ]
  },
  {
   "cell_type": "code",
   "execution_count": 114,
   "metadata": {},
   "outputs": [],
   "source": [
    "np.save(\"../data/npy/db_noised_AE_500k\", noized_lines)\n",
    "np.save(\"../data/npy/db_originals_AE_500k\", originals)"
   ]
  },
  {
   "cell_type": "code",
   "execution_count": 18,
   "metadata": {},
   "outputs": [
    {
     "data": {
      "text/plain": [
       "811"
      ]
     },
     "execution_count": 18,
     "metadata": {},
     "output_type": "execute_result"
    }
   ],
   "source": [
    "len(noized_lines)"
   ]
  },
  {
   "cell_type": "code",
   "execution_count": 255,
   "metadata": {},
   "outputs": [
    {
     "data": {
      "text/plain": [
       "['GACAGAACGGCCTCAGTAGTCTCGTCAGGCTC',\n",
       " 'ACACGCCCTTATCAAATAGCTGTGATTTACCTA',\n",
       " 'ATAGACCCCGAACAACAATACGCGCAAACCGA',\n",
       " 'TACCGTACAGACTGCCGGATATTATTTTTTTG',\n",
       " 'CTGCTGCTCGAGCTGGTGGAGTGCTGCTATAG',\n",
       " 'AACGTCAGGTTGTCGCCGCTCTGCGTGGTCGC',\n",
       " 'TGCATGGCTTTGGCTTCCTCTTTGACGGACGC',\n",
       " 'ATATATCAGAGCAAAAAACAAAGCCACAGCCA',\n",
       " 'CATAAAGAAACTATTTTGCGTTTCGTTCAGGT',\n",
       " 'TTTTACAGTGTCAACAATCGTTCCCTGATTGT',\n",
       " 'CCGCCGTTGGCACCGTCAAACTCCGGTACTGT',\n",
       " 'TATAGAGATCGTTTTTGGAATTTACAGCGAGG',\n",
       " 'CCGTAAGTGGTTTGAGCGATGATATTTGTGCT',\n",
       " 'AGTGCTGGACCATTTCAAATTCACAATAGATT',\n",
       " 'GGAATGATATTTCAATAAATAATTATAACAAT',\n",
       " 'CCCTCACACCGATTCGCCAAACGGTGGAGAAG',\n",
       " 'AGCTGGGCGAAATTTTGATTCATCGTGATGAC']"
      ]
     },
     "execution_count": 255,
     "metadata": {},
     "output_type": "execute_result"
    }
   ],
   "source": [
    "ans_3_split[2] + ans_3_split[3]"
   ]
  },
  {
   "cell_type": "code",
   "execution_count": 258,
   "metadata": {},
   "outputs": [
    {
     "data": {
      "text/plain": [
       "173600"
      ]
     },
     "execution_count": 258,
     "metadata": {},
     "output_type": "execute_result"
    }
   ],
   "source": [
    "len(noized_lines)"
   ]
  },
  {
   "cell_type": "code",
   "execution_count": 259,
   "metadata": {
    "collapsed": true
   },
   "outputs": [],
   "source": [
    "np.random.shuffle(noized_lines)"
   ]
  },
  {
   "cell_type": "code",
   "execution_count": 22,
   "metadata": {},
   "outputs": [
    {
     "data": {
      "text/plain": [
       "(811, 128)"
      ]
     },
     "execution_count": 22,
     "metadata": {},
     "output_type": "execute_result"
    }
   ],
   "source": [
    "X.shape"
   ]
  },
  {
   "cell_type": "code",
   "execution_count": 21,
   "metadata": {},
   "outputs": [
    {
     "name": "stderr",
     "output_type": "stream",
     "text": [
      "811it [00:00, 44100.20it/s]\n",
      "811it [00:00, 41345.04it/s]\n"
     ]
    }
   ],
   "source": [
    "X = to_array([x[:31] for x in noized_lines])\n",
    "np.save(\"../data/npy/noised_ES1_AE\", X)\n",
    "\n",
    "X = to_array([x[:31] for x in originals])\n",
    "np.save(\"../data/npy/noised_ES1_AE_originals\", X)"
   ]
  },
  {
   "cell_type": "code",
   "execution_count": 218,
   "metadata": {
    "collapsed": true
   },
   "outputs": [],
   "source": [
    "s = set([x[:31] for x in ans_3_split[0] + ans_3_split[1] + ans_3_split[2] + ans_3_split[3]])"
   ]
  },
  {
   "cell_type": "code",
   "execution_count": 78,
   "metadata": {
    "collapsed": true
   },
   "outputs": [],
   "source": [
    "s_1 = set([x[:32] for x in K_1 + K_2])"
   ]
  },
  {
   "cell_type": "code",
   "execution_count": 261,
   "metadata": {
    "collapsed": true
   },
   "outputs": [],
   "source": [
    "c = 0\n",
    "for l in noized_lines[:]:\n",
    "    #print(l)\n",
    "    if l[:31] in s:\n",
    "        c += 1"
   ]
  },
  {
   "cell_type": "code",
   "execution_count": 253,
   "metadata": {},
   "outputs": [
    {
     "data": {
      "text/plain": [
       "0.9565485278080698"
      ]
     },
     "execution_count": 253,
     "metadata": {},
     "output_type": "execute_result"
    }
   ],
   "source": [
    "c / len(noized_lines)"
   ]
  },
  {
   "cell_type": "code",
   "execution_count": 262,
   "metadata": {},
   "outputs": [
    {
     "data": {
      "text/plain": [
       "165475"
      ]
     },
     "execution_count": 262,
     "metadata": {},
     "output_type": "execute_result"
    }
   ],
   "source": [
    "c"
   ]
  },
  {
   "cell_type": "code",
   "execution_count": 81,
   "metadata": {},
   "outputs": [
    {
     "data": {
      "text/plain": [
       "{'AAGCTGGCTGGCAATCTCTTTCGGGGTGAGTC',\n",
       " 'AGCGTGTTCGGCATCACCTTTGGCTTCGGCTG',\n",
       " 'ATTACGCCTTTTTGCGATTGCCCGGTTTTTGC',\n",
       " 'CAGCGTCAGGCGTGAAATCTCACCGTCGTTGC',\n",
       " 'CCGGGGGATAATGTTTACGGTCATGCGCCCCC',\n",
       " 'CTGTTTTCGCAAATCTATGGACTATTGCTATT',\n",
       " 'GAAATGCTGGTGAGCGTTAATGCCGCAAACAC',\n",
       " 'GACAGAACGGCCTCAGTAGTCTCGTCAGGCTC',\n",
       " 'GCAGGCGGCGACGCGCAGGGTATGCGCGATTC',\n",
       " 'GCGACCGCTCAGAAATTCCAGACCCGATCCAA',\n",
       " 'GGGCGCACGGAATACAAAGCCGTGTATCTGCT',\n",
       " 'GTAGTCCATCATTCCACCTATGTCTGAACTCC',\n",
       " 'TAGTTTCCGTATCTCCGGATTTATAAAGCTGA',\n",
       " 'TCAACATTATCAATTACAACCGACAGGGAGCC',\n",
       " 'TCGGTTCAGGCGTTGCAAACCTGGCTACCGGG',\n",
       " 'TGCGTGAGCGTATCGCCGCGCGTCTGCGAAAG',\n",
       " 'TGGCTCTGCAACAGCAGCACCCATGACCACGT',\n",
       " 'TGGGCGGCTTGCCTTGCAGCCAGCTCCAGCAG'}"
      ]
     },
     "execution_count": 81,
     "metadata": {},
     "output_type": "execute_result"
    }
   ],
   "source": [
    "s_1"
   ]
  },
  {
   "cell_type": "code",
   "execution_count": null,
   "metadata": {
    "collapsed": true
   },
   "outputs": [],
   "source": []
  },
  {
   "cell_type": "markdown",
   "metadata": {},
   "source": [
    "#### How many?"
   ]
  },
  {
   "cell_type": "code",
   "execution_count": 111,
   "metadata": {
    "collapsed": true
   },
   "outputs": [],
   "source": [
    "import matplotlib.pyplot as plt"
   ]
  },
  {
   "cell_type": "code",
   "execution_count": 157,
   "metadata": {
    "collapsed": true
   },
   "outputs": [],
   "source": [
    "with open(\"../data/ES/ES3_R1_spacers.txt\") as f:\n",
    "    lines = [x[:-2][:31]  for x in f.readlines()[1:]]"
   ]
  },
  {
   "cell_type": "code",
   "execution_count": 158,
   "metadata": {
    "collapsed": true
   },
   "outputs": [],
   "source": [
    "with open(\"../data/ES/ES3_R2_spacers.txt\") as f:\n",
    "    lines_2 = [x[:-2][:31]  for x in f.readlines()[1:]]"
   ]
  },
  {
   "cell_type": "code",
   "execution_count": 159,
   "metadata": {},
   "outputs": [
    {
     "data": {
      "text/plain": [
       "333870"
      ]
     },
     "execution_count": 159,
     "metadata": {},
     "output_type": "execute_result"
    }
   ],
   "source": [
    "len(lines + lines_2)"
   ]
  },
  {
   "cell_type": "code",
   "execution_count": 143,
   "metadata": {},
   "outputs": [
    {
     "data": {
      "text/plain": [
       "333"
      ]
     },
     "execution_count": 143,
     "metadata": {},
     "output_type": "execute_result"
    }
   ],
   "source": [
    "198 + 135"
   ]
  },
  {
   "cell_type": "code",
   "execution_count": 126,
   "metadata": {
    "collapsed": true
   },
   "outputs": [],
   "source": [
    "from collections import Counter"
   ]
  },
  {
   "cell_type": "code",
   "execution_count": 127,
   "metadata": {},
   "outputs": [
    {
     "data": {
      "text/plain": [
       "Counter({'GGGCGCACGGAATACAAAGCCGTGTATCTGC': 14847,\n",
       "         'TGGCTCTGCAACAGCAGCACCCATGACCACG': 17491,\n",
       "         'GACAGAACGGCCTCAGTAGTCTCGTCAGGCT': 11252,\n",
       "         'CTGTTTTCGCAAATCTATGGACTATTGCTAT': 16543,\n",
       "         'GAAATGCTGGTGAGCGTTAATGCCGCAAACA': 15988,\n",
       "         'ATTACGCCTTTTTGCGATTGCCCGGTTTTTG': 12869,\n",
       "         'GTAGTCCATCATTCCACCTATGTCTGAACTC': 12293,\n",
       "         'CCGGGGGATAATGTTTACGGTCATGCGCCCC': 6061,\n",
       "         'TCGGTTCAGGCGTTGCAAACCAGGCTACCGG': 8,\n",
       "         'TCGGTCCAGGCGTTGCAAACCTGGCTACCGG': 21,\n",
       "         'TGGGCGGCTTGCCTTGCAGCCAGCTCCAGCA': 5362,\n",
       "         'AAGCTGGCTGGCAATCTCCTTCGGGGTGAGT': 13,\n",
       "         'GCAGGCGGCGACGCGCAGGGTATGCGCGATT': 5935,\n",
       "         'GCGACCGCTCAGAAATTCCAGACCCGATCCA': 6720,\n",
       "         'TCGGTTCAGGCGTTGCAAACCTGGCTACCGG': 13837,\n",
       "         'AAGCTGGCTGGCAATCTCTTTCGGGGTGAGT': 6090,\n",
       "         'TCAACATTATCAATTACAACCGACAGGGAGC': 6656,\n",
       "         'AGCGTGTTCGGCATCACCTTTGGCTTCGGCT': 4543,\n",
       "         'TGGCTCTGCAACAGCAGCACCCATGGCCACG': 39,\n",
       "         'TAGTTTCCGTATCTCCGGATTTATAAAGCTG': 6451,\n",
       "         'TAGCTTCCGTATCTCCGGATTTATAAAGCTG': 15,\n",
       "         'CAAGTGATATCCATCATCGCATCCAGTGCGC': 4863,\n",
       "         'CAGCGTCAGGCGTGAAATCTCACCGTCGTTG': 4499,\n",
       "         'TGGCTCTGCAACAGCAGCACTCATGACCACG': 8,\n",
       "         'CTGTTTTCGCAAATCTATGGACTATCGCTAT': 28,\n",
       "         'GTAGTCCATCATTCCACCTACGTCTGAACTC': 23,\n",
       "         'CAAGTGATATCCATCATCGCATCCAATGCGC': 5,\n",
       "         'GTAGTCCGTCATTCCACCTATGTCTGAACTC': 17,\n",
       "         'CTGTTTTCGCAATCTATGGACTATTGCTAT': 4,\n",
       "         'CAAGTGATATCCATCATCGCATTCAGTGCGC': 4,\n",
       "         'GGGCGCACGGAATACAATGCCGTGTATCTGC': 5,\n",
       "         'GGGCGCACGGAATACGAAGCCGTGTATCTGC': 39,\n",
       "         'GGGCGCACGGAATACAAAGCCGTGTATTTGC': 7,\n",
       "         'CAAGTGATATCCATCATCGCGTCCAGTGCGC': 8,\n",
       "         'AAGCTGGCTGGCAACCTCTTTCGGGGTGAGT': 14,\n",
       "         'TGGCGCTGCAACAGCAGCACCCATGACCACG': 5,\n",
       "         'GGGCGCGCGGAATACAAAGCCGTGTATCTGC': 35,\n",
       "         'TGGCTCTGCAGCAGCAGCACCCATGACCACG': 30,\n",
       "         'GCAGTCCATCATTCCACCTATGTCTGAACTC': 17,\n",
       "         'TGGCCCTGCAACAGCAGCACCCATGACCACG': 38,\n",
       "         'ATTACGCCTTTTTGCGATTGCCCGGTTTTCG': 23,\n",
       "         'CTGTTTTCGCAAATCTATGGACTATGCTAT': 5,\n",
       "         'TAGTTTCCGTATCCCCGGATTTATAAAGCTG': 11,\n",
       "         'TGGGCGGCTTGCCCTGCAGCCAGCTCCAGCA': 9,\n",
       "         'TGGCTCTGCATCAGCAGCACCCATGACCACG': 4,\n",
       "         'GGGCGCACGGAATACAAAGCCGCGTATCTGC': 39,\n",
       "         'TGGCTCTGCAACAGCAGCACCCATGATCACG': 7,\n",
       "         'GGAAACCGCCCCGGCGGTGGTTAGCTGTTTG': 2,\n",
       "         'ATGACTACACGTACCCGATGCGCGGCGCGGG': 2,\n",
       "         'GCAGGCGGCTTGCCTTGCAGCCAGCTCCAGC': 3,\n",
       "         'CAGCGTCAGGCGTGAAATCTCACAGTCGTTG': 1,\n",
       "         'CCGGGGGATAATGTTTACGGCCATGCGCCCC': 10,\n",
       "         'TAGTTTCCGTATCTCCGGATTTATAAAGCCG': 12,\n",
       "         'TGGGCGGCTTACCTTGCAGCCAGCTCCAGCA': 2,\n",
       "         'TGGGCGGCTTGCCATGCAGCCAGCTCCAGCA': 4,\n",
       "         'CGAGTGATATCCATCATCGCATCCAGTGCGC': 3,\n",
       "         'ATTACGCCCTTTTGCGATTGCCCGGTTTTTG': 24,\n",
       "         'GAAATGCTGGTGAGCGTTAACGCCGCAAACA': 30,\n",
       "         'GACAGAACGGCCTCAGTAGTCCCGTCAGGCT': 18,\n",
       "         'GAAACGCTGGTGAGCGTTAATGCCGCAAACA': 19,\n",
       "         'CTGTTTTCGCAAATCTATGGGCTATTGCTAT': 36,\n",
       "         'CTGTTTTCGCAAATCTATGGACTATTACTAT': 14,\n",
       "         'CAGCGCCAGGCGTGAAATCTCACCGTCGTTG': 6,\n",
       "         'TAGTTTCCGTATCTCCGGATTTATAGAGCTG': 15,\n",
       "         'TGGGCGGCTTGCCTCGCAGCCAGCTCCAGCA': 11,\n",
       "         'TGGCTCTGCAACAGCAGCACCATGACCACG': 9,\n",
       "         'CTGTTTTCGCAAAGCTATGGACTATTGCTAT': 5,\n",
       "         'ATTACGCCTTTTTGCGATTGCCCGGTTCTTG': 17,\n",
       "         'TGGGCGGCTTGCCTTGCAGCCGGCTCCAGCA': 8,\n",
       "         'GCGACCGCTCAGAAGTTCCAGACCCGATCCA': 8,\n",
       "         'TCGGTTCAGGCGTTGCGAACCTGGCTACCGG': 30,\n",
       "         'GAAATGCTGTGAGCGTTAATGCCGCAAACA': 12,\n",
       "         'TCAACATTACCAATTACAACCGACAGGGAGC': 9,\n",
       "         'GAAATGCTGGCGAGCGTTAATGCCGCAAACA': 20,\n",
       "         'TGGGCGGCTTGCCTGCAGCCAGCTCCAGCA': 1,\n",
       "         'GCGACCGCCCAGGAATTCCAGACCCGATCCA': 1,\n",
       "         'GGCAATAGCGAACAACAAGGTCGGTTGTTTG': 48,\n",
       "         'ATTACGCCTTTTTGCGATTGCCCGGTTTTTT': 4,\n",
       "         'GAAATGCCGGTGAGCGTTAATGCCGCAAACA': 32,\n",
       "         'ATTACGCCTTTTTGCGATTGCCCGGTCTTTG': 33,\n",
       "         'GCAGGCGGCGACGCGCAGGGTGTGCGCGATT': 6,\n",
       "         'ATTATGCCTTTTTGCGATTGCCCGGTTTTTG': 11,\n",
       "         'ATTACGCCTTCTTGCGATTGCCCGGTTTTTG': 29,\n",
       "         'AAGCTGGCTGGCAATCTCTTTCGGGGCGAGT': 14,\n",
       "         'TCGGTTTAGGCGTTGCAAACCTGGCTACCGG': 12,\n",
       "         'GAAATGCTGGTGAGCGCTAATGCCGCAAACA': 34,\n",
       "         'GAAATGCTGGTGAGCGTTAATGCCGCAAGCA': 43,\n",
       "         'ATTACGCCTCTTTGCGATTGCCCGGTTTTTG': 37,\n",
       "         'CCGTTTTCGCAAATCTATGGACTATTGCTAT': 24,\n",
       "         'GTAGTCCATCATTCCGCCTATGTCCGAACTC': 1,\n",
       "         'GCAGGCGGCGACGCGCAGGGTATGCACGATT': 4,\n",
       "         'CAAGCGATATCCATCATCGCATCCAGTGCGC': 11,\n",
       "         'GACAGAACGGTCTCAGTAGTCTCGTCAGGCT': 4,\n",
       "         'TGGCTATGCAACAGCAGCACCCATGACCACG': 2,\n",
       "         'GCAGGCGGCGACGCGCTGGGTATGCGCGATT': 3,\n",
       "         'GCAGGCGGCGACGCGCAGGGTAGGCGAGATT': 1,\n",
       "         'TCGGTTCAGGCGTTGCACACCTGGCTACCGG': 3,\n",
       "         'CCGGGGAATAATGTTTACGGTCATGCGCCCC': 3,\n",
       "         'GACAGGACGGCCTCAGTAGTCTCGTCAGGCT': 23,\n",
       "         'TGGCTCTGCAACAGCAGCCCCCATGACCACG': 9,\n",
       "         'ATTACGCCTTTTTGCGATTGCCCGGTTTTG': 19,\n",
       "         'GGGCCCACGGAATACAAAGCCGTGTATCTGC': 1,\n",
       "         'CTGTTTCGCAAATCTATGGACTATTGCTAT': 3,\n",
       "         'GTAGTCCATCATTCCACCTATGTCCGAACTC': 21,\n",
       "         'TGGGTTCAGGCGTTGCAAACCTGGCTACCGG': 6,\n",
       "         'CTGTTTTCGCAAATCTATGAACTATTGCTAT': 12,\n",
       "         'ATTACGCCTTTTTGCGATTGCCCGGCTTTTG': 24,\n",
       "         'TCGGTTCAGGCGTCGCAAACCTGGCTACCGG': 21,\n",
       "         'TCGGGGGATAATGTTTACGGTCATGCGCCCC': 39,\n",
       "         'GCGACCGCTCAGAAATTCCAGACCCGATCCG': 6,\n",
       "         'ATCACGCCTTTTTGCGATTGCCCGGTTTTTG': 19,\n",
       "         'GTTACGCCTTTTTGCGATTGCCCGGTTTTTG': 28,\n",
       "         'ATTACGCCTTATTGCGATTGCCCGGTTTTTG': 5,\n",
       "         'CTGTTTCCGCAAATCTATGGACTATTGCTAT': 28,\n",
       "         'TGCGTGAGCGTATCGCCGCGTGTCTGCGAAA': 1,\n",
       "         'CTGCTTTCGCAAATCTATGGACTATTGCTAT': 33,\n",
       "         'TGGCTCTGCAACAGTAGCACCCATGACCACG': 14,\n",
       "         'GTAGTCCATCATCCACCTATGTCTGAACTC': 2,\n",
       "         'GACAGAACGGCCCCAGTAGTCTCGTCAGGCT': 18,\n",
       "         'TGCGTGAGCGTATCGCCGCGCGTCTGCGAAA': 440,\n",
       "         'AGCGTGTTCGGCATCACCTTTGGCTTCGGC': 2,\n",
       "         'TGGGCGGCCTGCCTTGCAGCCAGCTCCAGCA': 12,\n",
       "         'GACAGAACGGCCTCAGCAGTCTCGTCAGGCT': 8,\n",
       "         'TCGGTTCAGGCGTTGCAAACCTAGCTACCGG': 8,\n",
       "         'GAAATGCTGGTGAGCGTTAATGCCGCAAACC': 1,\n",
       "         'AGGCTCTGCAACAGCAGCACCCATGACCACG': 14,\n",
       "         'GAAATGCTGGTGAGCGTTAATGCTGCAAACA': 17,\n",
       "         'TGGCTCTGCAACAGCAGCACCCATGTCCACG': 7,\n",
       "         'TGGGCGGCTTGCCTTGCAGCTAGCTCCAGCA': 2,\n",
       "         'CCGGGGGATAATGTTTACGGGCATGCGCCCC': 1,\n",
       "         'AAGCTGGCGGCAATCTCTTTCGGGGTGAGT': 1,\n",
       "         'GTAGTCCATCATTCCACCTATGTCTGAGCTC': 35,\n",
       "         'GGGCGCACGGAATACAAGGCCGTGTATCTGC': 34,\n",
       "         'GTAGCCCATCATTCCACCTATGTCTGAACTC': 19,\n",
       "         'CCGGGGGTTAATGTTTACGGTCATGCGCCCC': 4,\n",
       "         'AAGCTGCTGGCAATCTCTTTCGGGGTGAGT': 2,\n",
       "         'CAGCGTCAGGCGTGAAATCTCATCGTCGTTG': 4,\n",
       "         'GAAATGCTGATGAGCGTTAATGCCGCAAACA': 14,\n",
       "         'CCGGGGGATAATGTTTAAGGTCATGCGCCCC': 1,\n",
       "         'GGGCGCACGGAATACACAGCCGTGTATCTGC': 2,\n",
       "         'TGGCTCTACAACAGCAGCACCCATGACCACG': 9,\n",
       "         'TGGGCGGCTCGCCTTGCAGCCAGCTCCAGCA': 11,\n",
       "         'AGCGTGTTCGGCATCACTTTGGCTTCGGCT': 2,\n",
       "         'TCAACGTTATCAATTACAACCGACAGGGAGC': 6,\n",
       "         'TGGGCGGCTTGCCTTGCGGCCAGCTCCAGCA': 8,\n",
       "         'TCGACATTATCAATTACAACCGACAGGGAGC': 6,\n",
       "         'AGCGTGTTCGGCACCACCTTTGGCTTCGGCT': 9,\n",
       "         'GGGCGCACGGAATACAGAGCCGTGTATCTGC': 34,\n",
       "         'GGGCGCCAGCGGAATACAAAGCCGTGTATCT': 1,\n",
       "         'GGGCACACGGAATACAAAGCCGTGTATCTGC': 16,\n",
       "         'GGGCGCACGGAATACAAAGCCGTGTACCTGC': 34,\n",
       "         'GGGCGCACGGAACACAAAGCCGTGTATCTGC': 19,\n",
       "         'GACAGAACGGCCTCAGTAGCCTCGTCAGGCT': 30,\n",
       "         'CCGGGGGATAATGTTTGCGGTCATGCGCCCC': 11,\n",
       "         'GACAGAACAGCCTCAGTAGTCTCGTCAGGCT': 17,\n",
       "         'TAGTCTCCGTATCTCCGGATTTATAAAGCTG': 18,\n",
       "         'CAAGTGATATCCATCATCGCATCAGTGCGC': 2,\n",
       "         'GGCGATAGCGAACAACAAGGTCGGTTGTTTG': 1,\n",
       "         'GAAATGCTGGTGAGCATTAATGCCGCAAACA': 11,\n",
       "         'ATTACGCCTTTTGCGATTGCCCGGTTTTTG': 15,\n",
       "         'CTGTTTTCGCAAATCCATGGACTATTGCTAT': 17,\n",
       "         'GAAATGCTGGTGAGCGTTGATGCCGCAAACA': 16,\n",
       "         'GTAGTCCATCGTTCCACCTATGTCTGAACTC': 21,\n",
       "         'GAAATGCTGGTGAGCGTTAATGCCGCAAACG': 23,\n",
       "         'TGGCTCTGCAACAACAGCACCCATGACCACG': 8,\n",
       "         'TGGGTGGCTTGCCTTGCAGCCAGCTCCAGCA': 4,\n",
       "         'GTAGTCCATCACTCCACCTATGTCTGAACTC': 31,\n",
       "         'ATTACGCCTTTTTGCGATTGCTCGGTTTTTG': 11,\n",
       "         'TCGGTTCGGGCGTTGCAAACCTGGCTACCGG': 22,\n",
       "         'AAGCTGGCTAGCAATCTCTTTCGGGGTGAGT': 7,\n",
       "         'TAGTTTCCGTACCTCCGGATTTATAAAGCTG': 10,\n",
       "         'GAAATGCTGGTGAGCGTTAATGCCGCGAACA': 19,\n",
       "         'GTAGTCCATCATTCCACCTATGCCTGAACTC': 32,\n",
       "         'AGCGTGTTCGGCATCACCTTTGGCTTCAGCT': 5,\n",
       "         'AGCGTGCTCGGCATCACCTTTGGCTTCGGCT': 16,\n",
       "         'CCGGGGGATAATGTTTACGGTCATGCGCCTC': 9,\n",
       "         'TCGGTTCAGGCGTTGCAGACCTGGCTACCGG': 32,\n",
       "         'GTAGTCCACCATTCCACCTATGTCTGAACTC': 28,\n",
       "         'GTAGTCCAACATTCCACCTATGTCTGAACTC': 3,\n",
       "         'CTGGTTTCGCAAATCTATGGACTATTGCTAT': 11,\n",
       "         'GCAGGCGGCGACGCGCAGGGTATGCGCGGTT': 8,\n",
       "         'ATTACGCCTTTTTGCGACTGCCCGGTTTTTG': 23,\n",
       "         'TGGCTCTGCAACGGCAGCACCCATGACCACG': 34,\n",
       "         'CTGTTTTCGCAAGTCTATGGACTATTGCTAT': 23,\n",
       "         'GAAATGCTGGTGAACGTTAATGCCGCAAACA': 7,\n",
       "         'TCGGTTCAGGCGCTGCAAACCTGGCTACCGG': 35,\n",
       "         'ATTACGCCTTTTTGCGATTGCCTGGTTTTTG': 14,\n",
       "         'AATCTGGCTGGCAATCTCTTTCGGGGTGAGT': 2,\n",
       "         'GACAGAACGGCCTCAATAGTCTCGTCAGGCT': 5,\n",
       "         'TGGCGCACGGAATACAAAGCCGTGTATCTGC': 9,\n",
       "         'AGCGTGTTCGGCATCACCTTCGGCTTCGGCT': 4,\n",
       "         'TCAACATTATCAATTACAACCGACAAGGAGC': 4,\n",
       "         'CCAGGGGATAATGTTTACGGTCATGCGCCCC': 7,\n",
       "         'GCAGGCGGCGACGCACAGGGTATGCGCGATT': 5,\n",
       "         'GTAGGCCATCATTCCACCTATGTCTGAACTC': 2,\n",
       "         'TGGCTCTGCAACAGCAACACCCATGACCACG': 11,\n",
       "         'TAGTTTCCGTATCTCCGGGTTTATAAAGCTG': 10,\n",
       "         'CCGAGGGATAATGTTTACGGTCATGCGCCCC': 4,\n",
       "         'CAGCGTTAGGCGTGAAATCTCACCGTCGTTG': 3,\n",
       "         'TCGGTTCAGGCGTTGCAAACCTGGCTGCCGG': 16,\n",
       "         'AAGCTGGCCGGCAATCTCTTTCGGGGTGAGT': 10,\n",
       "         'CCGGGGGATAGTGTTTACGGTCATGCGCCCC': 4,\n",
       "         'CTGTTTTCGCAAATCTATGGAATATTGCTAT': 2,\n",
       "         'GACAGAACGGCCTCAGTAGTCTCGCCAGGCT': 12,\n",
       "         'CTGTTTTCGCAAATCTGTGGACTATTGCTAT': 21,\n",
       "         'AGCGTGTTCGGCGTCACCTTTGGCTTCGGCT': 7,\n",
       "         'CTGTTTTCGCAAATCTATGGACTATTGCTGT': 17,\n",
       "         'CAGCGTCAGGCGTGGAATCTCACCGTCGTTG': 12,\n",
       "         'GAAATGCTGGTGAGCGTCAATGCCGCAAACA': 19,\n",
       "         'TGCGTGGGCGTATCGCCGCGCGTCTGCGAAA': 1,\n",
       "         'ATTACACCTTTTTGCGATTGCCCGGTTTTTG': 8,\n",
       "         'GAAATGCTGGTGGGCGTTAATGCCGCAAACA': 28,\n",
       "         'GAAATGTTGGTGAGCGTTAATGCCGCAAACA': 10,\n",
       "         'TAGTTTCCGTATCTCCGGATTTATAAGGCTG': 16,\n",
       "         'TCGATTCAGGCGTTGCAAACCTGGCTACCGG': 6,\n",
       "         'GACAGAACGGCCTCAGTAGTCTCGTCCGGCT': 3,\n",
       "         'TCGGTGCAGGTGTTGCAAACCTGGCTACCGG': 1,\n",
       "         'GTAGTCCATCATTCCCCCTATGTCTGAACTC': 13,\n",
       "         'ACTACGCCTTTTTGCGATTGCCCGGTTTTTG': 20,\n",
       "         'CTGTTTTCGCAAACCTATGGACTATTGCTAT': 30,\n",
       "         'GACAGAACGGCCTCGGTAGTCTCGTCAGGCT': 22,\n",
       "         'GAAATGCTGGTAAGCGTTAATGCCGCAAACA': 10,\n",
       "         'GGGCGCACGGAATACAAAGCCGTGTATCAGC': 4,\n",
       "         'CCGGGGGATAATGTTTACGGTCTTGCGCCCC': 2,\n",
       "         'GAAATGCTGGTGAGCGTTAGTGCCGCAAACA': 23,\n",
       "         'TCGGTTCAGGGGTTGCAAACCTGGCTACCGG': 2,\n",
       "         'GACAGAACGGCCTCAGTAGACTCGTCAGGCT': 3,\n",
       "         'CTGTTTTCGCAAATCTACGGACTATTGCTAT': 20,\n",
       "         'CAGCGTCAGGCGTGAAATCTCACCGTCGCTG': 8,\n",
       "         'GGAATGCTGGTGAGCGTTAATGCCGCAAACA': 28,\n",
       "         'GACAGAACGGCCTCAGTAGTCTCGTCAGGTT': 6,\n",
       "         'GAAATGCTGGTGAGCGTTAATGCCGCAACCA': 8,\n",
       "         'GCAGACGGCGACGCGCAGGGTATGCGCGATT': 2,\n",
       "         'GAAATGCTGGTGTGCGTTAATGCCGCAAACA': 6,\n",
       "         'GTAGTCCATCATTCCACCTATGTCTGAACTT': 3,\n",
       "         'GAAATGCTGGTGAGTGTTAATGCCGCAAACA': 21,\n",
       "         'ATTGCGCCTTTTTGCGATTGCCCGGTTTTTG': 13,\n",
       "         'TCGGTTCAGGCGTTGCAAACCTGGCTACTGG': 15,\n",
       "         'GAAATGCTGTTGAGCGTTAATGCCGCAAACA': 7,\n",
       "         'TAGTTCCCGTATCTCCGGATTTATAAAGCTG': 21,\n",
       "         'CAGTTTTCGCAAATCTATGGACTATTGCTAT': 6,\n",
       "         'ATCACGCCTTTCTGCGATTGCCCGGTTTTTG': 1,\n",
       "         'GAAATGCTGGTGAGCGTTAATGCCGCAGACA': 27,\n",
       "         'CTGTTTCCGCAAATCTACGGACTATTGCTAT': 1,\n",
       "         'TGGCTCCGCAACAGCAGCACCCATGACCACG': 47,\n",
       "         'ATTACGCCTTTTTGCGATTGCCCGATTTTTG': 8,\n",
       "         'GATAGAACGGCCTCAGTAGTCTCGTCAGGCT': 7,\n",
       "         'CTGTTCTCGCAAATCTATGGACTATTGCTAT': 41,\n",
       "         'TGGCTCTGCAACAGCAGCGCCCATGACCACG': 35,\n",
       "         'TCGGCTCAGGCGTTGCAAACCTGGCTACCGG': 43,\n",
       "         'CAGCGTCAGGCGAGAGATCTCACCGTCGTTG': 1,\n",
       "         'GTAGTCCATCATTCCACCCATGTCTGAACTC': 13,\n",
       "         'GAAATGCTGGTGAGCGTTAATGCCGCAACA': 4,\n",
       "         'TCAACATTATCAATTACAGCCGACAGGGAGC': 15,\n",
       "         'ATTACGCCTTTCTGCGATTGCCCGGTTTTTG': 30,\n",
       "         'CAGCGTCAGGCGTGAGATCTCACCGTCGTTG': 12,\n",
       "         'GGGCGTACGGAATACAAAGCCGTGTATCTGC': 10,\n",
       "         'CAAGTGACATCCATCATCGCATCCAGTGCGC': 6,\n",
       "         'AAAATGCTGGTGAGCGTTAATGCCGCAAACA': 22,\n",
       "         'GGGCGCACGGAATACAAAGCTGTGTATCTGC': 16,\n",
       "         'TAGTTTCCGTATCTCCGGATTCATAAAGCTG': 12,\n",
       "         'GGGCGCACGGGATACAAAGCCGTGTATCTGC': 23,\n",
       "         'CTGTCTTCGCAAATCTATGGACTATTGCTAT': 44,\n",
       "         'TGGCTCTGCAACAGCAGCACCCATGACCATG': 14,\n",
       "         'GTAGTCCATCATTCCTCCTATGTCTGAACTC': 4,\n",
       "         'GACAGAACGGCCTCAGTAGTCTCGTCGGGCT': 27,\n",
       "         'GTAGTCCATCATTCCACCTATGTCTGGACTC': 24,\n",
       "         'CGTTTTTCGCAAATCTATGGACTATTGCTAT': 1,\n",
       "         'GGCAACATAACGAACAAAATCAACGTCAACC': 4,\n",
       "         'CGGCTCTGCAACAGCAGCACCCATGACCACG': 35,\n",
       "         'GACAGAACGGCTTCAGTAGTCTCGTCAGGCT': 5,\n",
       "         'TGACTCTGCAACAGCAGCACCCATGACCACG': 12,\n",
       "         'CTGTTTTCACAAATCTATGGACTATTGCTAT': 12,\n",
       "         'GTTACGCCTTTTTGCGGTTGCCCGGTTTTTG': 1,\n",
       "         'GGGCGCACGGAGTACAAAGCCGTGTATCTGC': 48,\n",
       "         'TGGCTCTGCAACAGCGGCACCCATGACCACG': 45,\n",
       "         'GGCAGAACGGCCTCAGTAGTCTCGTCAGGCT': 17,\n",
       "         'GTAGTCCATCATTCCGCCTATGTCTGAACTC': 31,\n",
       "         'ATAGTCCATCATTCCACCTATGTCTGAACTC': 12,\n",
       "         'AAGCTGGCTGGCAATCCCTTTCGGGGTGAGT': 10,\n",
       "         'CTGTTTTCGCAAATCTATGGACTATTGTTAT': 9,\n",
       "         'TAGTTTCCGTATCTCCGGATTTGTAAAGCTG': 6,\n",
       "         'CCGGGAGATAATGTTTACGGTCATGCGCCCC': 3,\n",
       "         'TCGGTTCAGGCGTTGCAAACCTGGCCACCGG': 10,\n",
       "         'GCGACCGCTCAGAAATTCCAGACTCGATCCA': 2,\n",
       "         'AGCGTGTTCGGCATCGCCTTTGGCTTCGGCT': 11,\n",
       "         'GTAATGCTGGTGAGCGTTAATGCCGCAAACA': 8,\n",
       "         'GAAATACTGGTGAGCGTTAATGCCGCAAACA': 11,\n",
       "         'TGGCTCTGCAACAGCAGCAACCATGACCACG': 2,\n",
       "         'CTGTTTTCGCATATCTATGGACTATTGCTAT': 1,\n",
       "         'GTAGTCCATCATTCCAACTATGTCTGAACTC': 1,\n",
       "         'ATTACGCCTTTTTGCGATTGCCCGGTTTTTA': 7,\n",
       "         'ATAACGCCTTTTTGCGATTGCCCGGTTTTTG': 4,\n",
       "         'AAGCTGGCTGGCACTCTCTTTCGGGGTGAGT': 2,\n",
       "         'CCGGGGGGTAATGTTTACGGTCATGCGCCCC': 17,\n",
       "         'TCAACATCATCGATTACAACCGACAGGGAGC': 1,\n",
       "         'TCGGTTCAGGCGTTGCAAACCTGGCTACCGA': 5,\n",
       "         'GGGCGCACGGTATACAAAGCCGTGTATCTGC': 7,\n",
       "         'CTGTTTTCGCAAATCTTTGGACTATTGCTAT': 2,\n",
       "         'GAAGTGCTGGTGAGCGTTAATGCCGCAAACA': 31,\n",
       "         'CTGTTTTCGCAAATCTATGGACAATTGCTGT': 1,\n",
       "         'TGGGCGGCTTGCCTTGCAGCAGCTCCAGCA': 1,\n",
       "         'TAGTTTCTGTATCTCCGGATTTATAAAGCTG': 8,\n",
       "         'CTGTTTTCGCAAATCTATGGACTATTGCTAC': 36,\n",
       "         'CTGTTTTCGCGAATCTATGGACTATTGCTAT': 16,\n",
       "         'AGCGTGTTCGGCATCACCCTTGGCTTCGGCT': 13,\n",
       "         'GTAGTCCATCATTCCACCTGTGTCTGAACTC': 14,\n",
       "         'CCGGTTCAGGCGTTGCAAACCTGGCTACCGG': 35,\n",
       "         'AGGCTGGCTGGCAATCTCTTTCGGGGTGAGT': 9,\n",
       "         'TGGCTCTGCAACAGCAGCACCCATGACCGCG': 29,\n",
       "         'GAAATGCTGGTGAGAGTTAATGCCGCAAACA': 1,\n",
       "         'TCAACATTATCAATTACAACCGACAGGGAGT': 12,\n",
       "         'GTAGTCCATCATCCCACCTATGTCTGAACTC': 23,\n",
       "         'ATTACGCCTTTTTGCGGTTGCCCGGTTTTTG': 24,\n",
       "         'GCAGGCGGCCTCAGTAGTCTCGTCAGGCT': 2,\n",
       "         'TCAACATTATCAATTACAACCGACAGGGCGC': 2,\n",
       "         'GACAGAACGGCCTCAGGAGTCTCGTCAGGCT': 2,\n",
       "         'GTGGTCCATCATTCCACCTATGTCTGAACTC': 16,\n",
       "         'AAGTTCGACAACTTAAAAAATGATAACAAGT': 4,\n",
       "         'ATTACGCCTTTTTGCGATTGTCCGGTTTTTG': 12,\n",
       "         'AGCGCGTTCGGCATCACCTTTGGCTTCGGCT': 5,\n",
       "         'GCGACCGCTCAGAAATCCCAGACCCGATCCA': 5,\n",
       "         'GGGCGCTCGGAATACAAAGCCGTGTATCTGC': 5,\n",
       "         'TCAACATTATCAATTACAACCGACAGGGAG': 1,\n",
       "         'AAGCCGGCTGGCAATCTCTTTCGGGGTGAGT': 8,\n",
       "         'AGCGAGTTCGGCATCACCTTTGGCTTCGGCT': 1,\n",
       "         'GGCGCACGGAATACAAAGCCGTGTATCTGC': 4,\n",
       "         'GCAGGCGGCGACGCGCAGGGTATGCGTGATT': 3,\n",
       "         'GTAGTCCATAATTCCACCTATGTCTGAACTC': 1,\n",
       "         'GTAGTCCATCATTCCACCTATGTCGGAACTC': 1,\n",
       "         'CCGGGGGACAATGTTTACGGTCATGCGCCCC': 6,\n",
       "         'GCGACCGCTCAGAGATTCCAGACCCGATCCA': 10,\n",
       "         'CAAGTGATATCCACCATCGCATCCAGTGCGC': 10,\n",
       "         'ATTACGCCTTTTCGCGATTGCCCGGTTTTTG': 29,\n",
       "         'GGGCGCCCGGAATACAAAGCCGTGTATCTGC': 3,\n",
       "         'GCAGGCGTTGCAAACCTGGCTACCGG': 1,\n",
       "         'CAGCGTCAGGCGTGAAACCTCACCGTCGTTG': 11,\n",
       "         'GCGACCGCACAGAAATTCCAGACCCGATCCA': 3,\n",
       "         'TGGGCGGCTTGCCTTGCAGCCAGCTCAGCA': 2,\n",
       "         'GACAGAACGGCCTCAGTAGTCTCGTCAGGCC': 14,\n",
       "         'GACAAAACGGCCTCAGTAGTCTCGTCAGGCT': 12,\n",
       "         'GTAGTCCATCATACCACCTATGTCTGAACTC': 2,\n",
       "         'CAGTTTTCGCAAATCTATGGACCATTGCTAT': 1,\n",
       "         'TAGTTTCCGTATCTCCGGATTTACAAAGCTG': 9,\n",
       "         'GCAGGCGGCGACGCGCAGGGTATTCGCGATT': 1,\n",
       "         'CAGGGGGATAATGTTTACGGTCATGCGCCCC': 3,\n",
       "         'TGGCTCTGCAACAGCAGCACCCATAACCACG': 9,\n",
       "         'TGGGCGGCTTGCCTTGCAGCCAGATCCAGCA': 1,\n",
       "         'GACAGAGCGGCCTCAGTAGTCTCGTCAGGCT': 25,\n",
       "         'TGGCTCTGCGACAGCAGCACCCATGACCACG': 34,\n",
       "         'AAGCTGGCTTGCAATCTCTTTCGGGGTGAGT': 1,\n",
       "         'CCGGGGGATAATGTTTACAGTCATGCGCCCC': 2,\n",
       "         'GGGCGCACGTAATACAAAGCCGTGTATCTGC': 5,\n",
       "         'CAAGTGATATCCATCATCGCACCCAGTGCGC': 9,\n",
       "         'GACAGAACGGCCTCAGTAGTCTCGTTAGGCT': 9,\n",
       "         'TGGCTCTGCAACAGCAGCACCCTTGACCACG': 6,\n",
       "         'GGGCGCACGGAATACAAAGCCGTGTGTCTGC': 20,\n",
       "         'TAGTTTCCGTGTCTCCGGATTTATAAAGCTG': 2,\n",
       "         'GCAGGCGGCGACGTGCAGGGTATGCGCGATT': 4,\n",
       "         'GTAGTCCATCATTCCACCTATGTCTGAACCC': 24,\n",
       "         'GAAATGCTGGTGAGCGTTAATGTCGCAAACA': 7,\n",
       "         'GGGCGCACGGAATACAAAGCAGTGTATCTGC': 1,\n",
       "         'GGGCGCACGGATACAAAGCCGTGTATCTGC': 2,\n",
       "         'TGGCTCTGCAACAGCAGCACCCATGACCAC': 2,\n",
       "         'AAGCTGGCTGGCAATCTCTTTCGGGGTGGGT': 14,\n",
       "         'CCGGGGGATAATGTTTACGGTCATGCGCTCC': 2,\n",
       "         'GCGACCGCTCAGAAATTCCAGGCCCGATCCA': 16,\n",
       "         'AGCGTGTTCGGCATCACCTTTGGCTTTGGCT': 5,\n",
       "         'ATTACGCCTTTTTGCGATCGCCCGGTTTTTG': 23,\n",
       "         'TCAACATTATCAATTACAACCGACAGGGGGC': 12,\n",
       "         'GCGACCGCTCAGAAATTCCAGATCCGATCCA': 7,\n",
       "         'CTGTTTTCGCAAATCTATGGACTAGTGCTAT': 1,\n",
       "         'TCGGTTGAGGCGTTGCAAACCTGGCTACCGG': 1,\n",
       "         'CAAGTGATATCCATCACCGCATCCAGTGCGC': 7,\n",
       "         'AACGTCAGGTTGTCGCCGCTCTGCGTGGTCG': 2,\n",
       "         'TAATTTCCGTATCTCCGGATTTATAAAGCTG': 3,\n",
       "         'TCGGTTCAGGTGTTGCAAACCTGGCTACCGG': 11,\n",
       "         'GCGACCGCTCAGAAACTCCAGACCCGATCCA': 22,\n",
       "         'CTGTTTTCGCAGATCTATGGACTATTGCTAT': 32,\n",
       "         'ATTACGCCTTTTTGCGATTGCCCAGTTTTTG': 8,\n",
       "         'GGGCGCACGGAATGCAAAGCCGTGTATCTGC': 20,\n",
       "         'TCAACATTGTCAATTACAACCGACAGGGAGC': 11,\n",
       "         'GGGCGCACGGAATCCAAAGCCGTGTATCTGC': 3,\n",
       "         'GCAACCGCTCAGAAATTCCAGACCCGATCCA': 9,\n",
       "         'CGGCTCCGCAACAGCAGCACCCATGACCACG': 1,\n",
       "         'ATTACCCCTTTTTGCGATTGCCCGGTTTTTG': 2,\n",
       "         'TCGGTTCAGGCGTTGCAAACCCGGCTACCGG': 16,\n",
       "         'TCGGTTCAGGCGTTGCAAACCTGGCTACAGG': 2,\n",
       "         'ATTACGCCTTTTTACGATTGCCCGGTTTTTG': 4,\n",
       "         'TAGTTTCCGTATCTCCGGACTTATAAAGCTG': 13,\n",
       "         'GAAATGCTGGTGAGCGTTAATGCCGCAAAC': 9,\n",
       "         'AAGCTGGCTGGCAATCTCTTCCGGGGTGAGT': 3,\n",
       "         'CAGCGTCAGGCGTGAAATCTCACCCTCGTTG': 1,\n",
       "         'TCAGTTCAGGCGTTGCAAACCTGGCTACCGG': 16,\n",
       "         'GGGCGCACGGAATACAAAGCCGTGTATCCGC': 25,\n",
       "         'TGGCTCTGCAACAGCAGCACCCATGACTACG': 14,\n",
       "         'AGCGTGTTCGGCATCACCTTTGGCTTCGGCC': 5,\n",
       "         'GGGCGCACGGAATACAAAGTCGTGTATCTGC': 8,\n",
       "         'TGGCTCTGCAACAGCAGCACCCATGACCACA': 12,\n",
       "         'AGCGTGTTCGGCATCACCTTAGGCTTCGGCT': 2,\n",
       "         'AGCGTGTTCGACATCACCTTTGGCTTCGGCT': 4,\n",
       "         'TCAACATTATCAATTACGACCGACAGGGAGC': 10,\n",
       "         'CTGTTTTCGCAAATCTATGGATTATTGCTAT': 8,\n",
       "         'TGGCTCTGCAACAGCAGGACCCATGACCACG': 2,\n",
       "         'GCGACCGCTCAGAAATTCCAGACCCGATCTA': 3,\n",
       "         'TCAACAGTATCAATTACAACCGACAGGGAGC': 3,\n",
       "         'GTAGTCCATCATTTCACCTATGTCTGAACTC': 13,\n",
       "         'TCAACATTATCAATCACAACCGACAGGGAGC': 8,\n",
       "         'GCGGTTCAGGCGTTGCAAACCTGGCTACCGG': 3,\n",
       "         'ACAACATTATCAATTACAACCGACAGGGAGC': 3,\n",
       "         'GACAGAACGGCCTAAGTAGTCTCGTCAGGCT': 1,\n",
       "         'ATTACGCCTTTTTGCGATTGCCCGGTTTCTG': 18,\n",
       "         'TGGGCGGCTTGCCTTGCAGCCAGCTCCAGCG': 10,\n",
       "         'TAGTTTCCGCATCTCCGGATTTATAAAGCTG': 9,\n",
       "         'AAGCTGGCTGGCAATCTCTTTCGGGGTGTGT': 3,\n",
       "         'GTAGTCCATCATTCCACCAATGTCTGAACTC': 4,\n",
       "         'TCAACATTATCAATTACAACCAACAGGGAGC': 6,\n",
       "         'AACAGAACGGCCTCAGTAGTCTCGTCAGGCT': 3,\n",
       "         'CAAGTGATACCCATCATCGCATCCAGTGCGC': 5,\n",
       "         'ATTACGCCTTTTTGCGTTTGCCCGGTTTTTG': 4,\n",
       "         'GAAATGCTGGGGAGCGTTAATGCCGCAAACA': 4,\n",
       "         'TGGCTCTGCAACAGCAGCACCCATGACCCCG': 7,\n",
       "         'TGGCTCTGCAACAGCAGCGCCCATGGCCACG': 2,\n",
       "         'TCGGTTCAGGCGTTGCAAACCTGACTACCGG': 7,\n",
       "         'GGGCGCACGGAATATAAAGCCGTGTATCTGC': 7,\n",
       "         'TGGCTCTGAAACAGCAGCACCCATGACCACG': 4,\n",
       "         'TCGGTTCAGGCGTTGCAATCCTGGCTACCGG': 4,\n",
       "         'GAGATGCTGGTGAGCGTTAATGCCGCAAACA': 33,\n",
       "         'TGGCTCTTCAACAGCAGCACCCATGACCACG': 1,\n",
       "         'TCGGTTCAGGCGTTGCAACCCTGGCTACCGG': 12,\n",
       "         'GAAATGCTGGTGAGCGTTAATGCCGCAAATA': 6,\n",
       "         'GCGACCGCTCAGGAATTCCAGACCCGATCCA': 7,\n",
       "         'GACAGAACGGCCTCAGTAGTCTTGTCAGGCT': 17,\n",
       "         'GGGCGCATGGAATACAAAGCCGTGTATCTGC': 14,\n",
       "         'TCGATTCAGGCGTTGCAAACCTGGCTGCCGG': 1,\n",
       "         'ATTACGACTTTTTGCGATTGCCCGGTTTTTG': 1,\n",
       "         'TACCGTACAGACTGCCGGATATTATTTTTTT': 1,\n",
       "         'AAGCTGGCTGGCAATCTCATTCGGGGTGAGT': 2,\n",
       "         'GTAGTCCATCATTCCACCTATATCTGAACTC': 6,\n",
       "         'TCGGTTCAGGCGTTGCAAGCCTGGCTACCGG': 22,\n",
       "         'CTGTTTTCGCAAATCTATGGACCATTGCTAT': 15,\n",
       "         'GAGCTGGCTGGCAATCTCTTTCGGGGTGAGT': 8,\n",
       "         'CAAGTGATTTCCATCAGCACATCCAGTGCGC': 1,\n",
       "         'CAGGTGATATCCATCATCGCATCCAGTGCGC': 3,\n",
       "         'CAAGTGATATCCATCATCGCATCCAGTGCAC': 5,\n",
       "         'CCGGGGGATGATGTTTACGGTCATGCGCCCC': 14,\n",
       "         'GGGCGCACGGAATACAAAGCCGTGCATCTGC': 10,\n",
       "         'AGCATGTTCGGCATCACCTTTGGCTTCGGCT': 3,\n",
       "         'GCGACTGCTCAGAAATTCCAGACCCGATCCA': 8,\n",
       "         'GTAGTTCATCATTCCACCTATGTCTGAACTC': 4,\n",
       "         'AGCGTGTTCGGCATCACCTTTGGCTTAGGCT': 1,\n",
       "         'GCGACCGCTCAGAAATTCCAGTCCCGATCCA': 1,\n",
       "         'ACGGTTCAGGCGTTGCAAACCTGGCTACCGG': 5,\n",
       "         'GGGCGCACGGAATACAAAGCCATGTATCTGC': 11,\n",
       "         'TCGGTTCAGGCGTTGCAAACCTGGTTACCGG': 6,\n",
       "         'CCAGGGGATAATGTTTACGGCCATGCGCCCC': 1,\n",
       "         'TCAACATTATCAATTACAACCGGCAGGGAGC': 11,\n",
       "         'AGCGTGTTCGGCATCACCTTTGACTTCGGCT': 1,\n",
       "         'CAGCGTCGGGCGTGAAATCTCACCGTCGTTG': 9,\n",
       "         'CTGTTATCGCAAATCTATGGACTATTGCTAT': 3,\n",
       "         'CCAACATTATCAATTACAACCGACAGGGAGC': 13,\n",
       "         'GCGACCGCTCAGAAATTCCAGACCCGATTCA': 5,\n",
       "         'AAGTTGGCTGGCAATCTCTTTCGGGGTGAGT': 1,\n",
       "         'TGGCGCTGGAAATGCAACGCCGTGTATCTGC': 1,\n",
       "         'GGGCGCACGGAATACAAAACCGTGTATCTGC': 7,\n",
       "         'TAGTTTCCGTATCTCCGGATTTATAAAACTG': 2,\n",
       "         'GGCAATAGCGAACAACAAGGTCGGTTGTTCG': 2,\n",
       "         'TGGCTCTGCAACAGCAGCACCCCTGACCACG': 4,\n",
       "         'TAGCTCTGCAACAGCAGCACCCATGACCACG': 10,\n",
       "         'ACGACCGCTCAGAAATTCCAGACCCGATCCA': 8,\n",
       "         'TACATAACGGCCTCAGTAGTCTCGTCAGGCT': 1,\n",
       "         'GCAGGCGGCGACGCGCAGGGCATGCGCGATT': 5,\n",
       "         'GAAATGCTGGTGAGCGATAATGCCGCAAACA': 5,\n",
       "         'GTAGTCCATCATTCCACCTATGTCTGAACAC': 4,\n",
       "         'GGGCGCACGGAATACAAAGCCGTGTATCGGC': 1,\n",
       "         'GAAATGCTGGTGAGCGTTAATGCCACAAACA': 21,\n",
       "         'GACAGACCGGCCTCAGTAGTCTCGTCAGGCT': 7,\n",
       "         'ACGACCGCTCAGAAATTCCAGGCCCGATCCA': 1,\n",
       "         'AGCGTGTCCGGCATCACCTTTGGCTTCGGCT': 7,\n",
       "         'TGGCTCTGCCACAGCAGCACCCATGACCACG': 2,\n",
       "         'GCGGCCGCTCAGAAATTCCAGACCCGATCCA': 13,\n",
       "         'TGGGCGGCTTGCTTTGCAGCCAGCTCCAGCA': 1,\n",
       "         'GCAGGCGGCGACGCGCAGGGTATACGCGATT': 4,\n",
       "         'TGGCTCTGCAACAGCAGCACCCATGCCCACG': 5,\n",
       "         'GTAGTCCATCATTCCACCTATTTCTGAACTC': 1,\n",
       "         'CTGTTTTCGCAAATCTATGGACTACTGCTAT': 25,\n",
       "         'CAGCGTCAGGCGTGAAGTCTCACCGTCGTTG': 17,\n",
       "         'GTAGTCCATCATTCCACCTATGTCCGAGCTC': 1,\n",
       "         'AGGCGCACGGAATACAAGGCCGTGTATCTGC': 1,\n",
       "         'GGGCTCTGCAACAGCAGCACCCATGACCACG': 5,\n",
       "         'AGGGCGGCTTGCCTTGCAGCCAGCTCCAGCA': 5,\n",
       "         'GACAGAACGGCCTCTGTAGTCTCGTCAGGCT': 2,\n",
       "         'CTGTTTTCGCAAATCTATGGACTATTGCTTT': 6,\n",
       "         'TGGCTCTGCAACAGCAGCACCCATTACCACG': 1,\n",
       "         'AATACGCCTTTTTGCGATTGCCCGGTTTTTG': 2,\n",
       "         'AGCGTGTTCGGCATCACCTTTGGCCTCGGCT': 8,\n",
       "         'CCGGGGGATAATGCTTACGGTCATGCGCCCC': 15,\n",
       "         'GCGACCGCTCAGAAATTCCAGACCCGGTCCA': 9,\n",
       "         'GACAGAACGGCCTCAGTAGTCTCGTCAAGCT': 7,\n",
       "         'GGGCGCACGGATTACAAAGCCGTGTATCTGC': 1,\n",
       "         'ATTACGCCTTTTAGCGATTGCCCGGTTTTTG': 4,\n",
       "         'GCAGGCGGCGGCGCGCAGGGTATGCGCGATT': 13,\n",
       "         'AAGCTGGCTGGCAATCTCTTTCGGGGTTAGT': 2,\n",
       "         'TCGGTTCAGGCGTTGCAAACCTTGCTACCGG': 2,\n",
       "         'TCGGTTCAGGCGTTACAAACCTGGCTACCGG': 11,\n",
       "         'ATTACGCCTTTTGGCGATTGCCCGGTTTTTG': 1,\n",
       "         'CCGGGGGATAATGTTTATGGTCATGCGCCCC': 5,\n",
       "         'GCAGGCGGCGACGCGCGGGGTATGCGCGATT': 13,\n",
       "         'CTGTTTTCGGGGCGCGGGGAACACCTGTTTT': 1,\n",
       "         'CTAGTCCATCATTCCACCTATGTCTGAACTC': 1,\n",
       "         'CTGTTTTCGCAAATCTATGGACTATAGCTAT': 5,\n",
       "         'GTAGTCCATCATTCCACCTATGTCTGTACTC': 5,\n",
       "         'GCGACCGCTCAGAAATTCCAGACCTGATCCA': 7,\n",
       "         'TCAACATTATCAATTACAACCGACAGGAAGC': 3,\n",
       "         'CAGCGTCAGGCGTGAAATCCCACCGTCGTTG': 10,\n",
       "         'GGGCGCAAGGAATACAAAGCCGTGTATCTGC': 1,\n",
       "         'GGGCGCCCGGAATTCAAAGCCGTTTATCTGC': 1,\n",
       "         'GCGACCGCTCAGAAATTCCAGACCCGACCCA': 5,\n",
       "         'GACAGAACGGCCTCAGTGGTCTCGTCAGGCT': 12,\n",
       "         'GTAGTCCATCATTCCGCCTACGTCTGAACTC': 1,\n",
       "         'TAGTTTCCGTATCTCCGGATCTATAAAGCTG': 7,\n",
       "         'TGGCTCTCCAACAGCAGCACCCATGACCACG': 1,\n",
       "         'GGGCGCACAGAATACAAAGCCGTGTATCTGC': 18,\n",
       "         'TCGGTTCAGGCGTTGCAAGCCTGGCCACCGG': 1,\n",
       "         'GTAGTCCATCATTCCACCTATGTCTAAACTC': 7,\n",
       "         'ATTACGCCTTTTTGCGATTGCCCGGTTTATG': 1,\n",
       "         'TCGGTTCAGGCATTGCAAACCTGGCTACCGG': 6,\n",
       "         'TAGTTTCCGTATCTCCGGATTTATAAAGCAG': 1,\n",
       "         'CCGACCGCTCAGAAATTCCAGACCCGATCCA': 1,\n",
       "         'CAGCGTCAGGCGTGAAATCTCACCGTCGTCG': 8,\n",
       "         'TCAACAATATCAATTACAACCGACAGGGAGC': 1,\n",
       "         'TCGGTTCAGGCGTTGCAAACCTGGCTCCCGG': 2,\n",
       "         'TGGGCGGCTTGCCTTGCAGCCAGCCCCAGCA': 10,\n",
       "         'GACGGAACGGCCTCAGTAGTCTCGTCAGGCT': 13,\n",
       "         'TGGCTCTGCAACAGCAGCACCCACGACCACG': 38,\n",
       "         'TCGGTTCAGGCGTTGCAAATCTGGCTACCGG': 5,\n",
       "         'CTGTTTTCGCAAATCTATAGACTATTGCTAT': 5,\n",
       "         'GCGACCGTTCAGAAATTCCAGACCCGATCCA': 3,\n",
       "         'TTGCTCTGCAACAGCAGCACCCATGACCACG': 2,\n",
       "         'TGGGCGGCTTGCCTTGCAGCCAGCGCCAGCA': 2,\n",
       "         'GCGACCGCTCAGAAATTCCAGACCAGATCCA': 1,\n",
       "         'GTAGTCCATCATTCACCTATGTCTGAACTC': 3,\n",
       "         'GGGCGCACGAAATACAAAGCCGTGTATCTGC': 7,\n",
       "         'GTAGTCCATCATTCCATCTATGTCTGAACTC': 11,\n",
       "         'TGGGCGGCTTGTCTTGCAGCCAGCTCCAGCA': 3,\n",
       "         'TAGTTTCCGTATCTCCGGATTTATATAGCTG': 2,\n",
       "         'TCAACATTATCAACTACAACCGACAGGGAGC': 16,\n",
       "         'TCAACATTATCTATTACAACCGACAGGGAGC': 3,\n",
       "         'CTGTTTTCGCAAATCTATGGACTGTTGCTAT': 15,\n",
       "         'AAGCTGGCTGGCAATCTCTTTCGGTGTGAGT': 2,\n",
       "         'TCGACCGCTCAGAAATTCCAGACCCGATCCA': 6,\n",
       "         'TAGCTTCCGTATCTCGGGATTTATAAAGATG': 1,\n",
       "         'TGGCTCCGCAGCAGCAGCACCCATGACCACG': 1,\n",
       "         'AAGCTGGCTGGCAGTCTCTTTCGGGGTGAGT': 14,\n",
       "         'GCGAGCGCTCAGAAATTCCAGACCCGATCCA': 1,\n",
       "         'CTGTTGTCGCAAATCTATGGACTATTGCTAT': 2,\n",
       "         'GCGGCCGCTCAGAAATTCCAGACTCGATCCA': 1,\n",
       "         'GAAATGCTGGTGAGCGGTAATGCCGCAAACA': 3,\n",
       "         'GCAGGCGGCGACGCGCAGGATATGCGCGATT': 4,\n",
       "         'GACAGAACGGCCTCAGTAGTCTCGACAGGCT': 2,\n",
       "         'GACAGAACGGCCTCAGTAATCTCGTCAGGCT': 6,\n",
       "         'TAGTTTCCGTATCTCCGGATTTATGAAGCTG': 4,\n",
       "         'CAGTTTTCGCAAATCTATAGACTATTGCTAT': 1,\n",
       "         'ATTACGCCTTCTTGCGATTGCCCGGTTTTTA': 1,\n",
       "         'CTGTTTTCGCAAATCTATGGACTATTGCCAT': 13,\n",
       "         'GCAGGCGGCGACGCGCAGGGTATGCGCGACT': 6,\n",
       "         'GCAGGCGGCGATGCGCAGGGTATGCGCGATT': 4,\n",
       "         'GCAGGCGACGACGCGCAGGGTATGCGCGATT': 2,\n",
       "         'GAAATGCAGGTGAGCGTTAATGCCGCAAACA': 12,\n",
       "         'CAAGTGATATCCATCATCTCATCCAGTGCGC': 1,\n",
       "         'GCAGGCGGCGACGCGCAGGGTATGCGCGATC': 11,\n",
       "         'AGCGTGTTCGGCGTCACCTTTGGCCTCGGCT': 1,\n",
       "         'CAAGTGGTATCCATCATCGCATCCAGTGCGC': 5,\n",
       "         'TAGTTACCGTATCTCCGGATTTATAAAGCTG': 2,\n",
       "         'GACAGATCGGCCTCAGTAGTCTCGTCAGGCT': 6,\n",
       "         'TGGCTCTGCAACAGCAGCACCTATGACCACG': 9,\n",
       "         'TGGCTCTGTAACAGCAGCACCCATGACCACG': 9,\n",
       "         'CAGCGTCAGGCGTGAAATCTCACCGTCGTAG': 1,\n",
       "         'ATTACGCCTTTGTGCGATTGCCCGGTTTTTG': 1,\n",
       "         'TCGGTTCAGACGTTGCAAACCTGGCTACCGG': 5,\n",
       "         'TGAGCGGCTTGCCTTGCAGCCAGCTCCAGCA': 5,\n",
       "         'CAGCGTCAGGCGTGAAATCTCACCGTCATTG': 2,\n",
       "         'GACAGAACGGCCTCAGTAGTTTCGTCAGGCT': 7,\n",
       "         'CTGTTTTCGCAAATCTATGGACAATTGCTAT': 1,\n",
       "         'TCGGTTCAGGCGTTGCAAACCTGGCGACCGG': 1,\n",
       "         'GTAGTCCATCATTCTACCTATGTCTGAACTC': 7,\n",
       "         'AGGCGCACGGAATACAAAGCCGTGTATCTGC': 7,\n",
       "         'GTAGTCCATCATTCCACCTATGTCTGACCTC': 3,\n",
       "         'GACAGAACGGCCTCAGAAGTCTCGTCAGGCT': 3,\n",
       "         'TCGGTTCAGCCGTTGCAAACCTGGCTACCGG': 1,\n",
       "         'CCGGGGGATAATGTTACGGTCATGCGCCCC': 5,\n",
       "         'TCGGTTCAGGCGGTGCAAACCTGGCTACCGG': 3,\n",
       "         'ATTACGCTTTTTTGCGATTGCCCGGTTTTTG': 7,\n",
       "         'TCAACATTATCAATTGCAACCGACAGGGAGC': 9,\n",
       "         'GGGGCGGCTTGCCTTGCAGCCAGCTCCAGCA': 2,\n",
       "         'GGGCGCACGGAATACAAAGCCGTATATCTGC': 5,\n",
       "         'CAAGTGATATCCATCGTCGCATCCAGTGCGC': 5,\n",
       "         'CTGTTTTCGCAAATCTATGGACTTTTGCTAT': 5,\n",
       "         'CAAGTGATATCCATCATTGCATCCAGTGCGC': 1,\n",
       "         'GCAGGCGGCGACGCGCATGGTATGCGCGATT': 3,\n",
       "         'CAGCGTCAGGCGTGAATCTCACCGTCGTTG': 4,\n",
       "         'CAGCGTCAGGCGTGAAATCTCGCCGTCGTTG': 5,\n",
       "         'TGCGTGAGCGTATCGCCGCGCGTCAGCGAAA': 1,\n",
       "         'AAGCTGGCTGGCAATCTCTTTCAGGGTGAGT': 2,\n",
       "         'GGGCGCACGGAATACAACGCCGTGTATCTGC': 3,\n",
       "         'CAAGTGATATCCATCATCGCATCCAGTGTGC': 4,\n",
       "         'AAGCTGGCTGGCTATCTCTTTCGGGGTGAGT': 1,\n",
       "         'TCGGTTCAGGCGTTGCAAACCTGGCTACCAG': 9,\n",
       "         'AAGCTAGCTGGCAATCTCTTTCGGGGTGAGT': 2,\n",
       "         'ATTACGCCTTTTTGCGATTGCCCGGTTTTTC': 1,\n",
       "         'TCGGTTCAGGCGTTGCTAACCTGGCTACCGG': 3,\n",
       "         'GCAACCGCTCAGGAATTCCAGACCCGATCCA': 1,\n",
       "         'GACAGAACGGCCTCAGTAGTCTGGTCAGGCT': 1,\n",
       "         'TAGTTTCCGTATCTCTGGATTTATAAAGCTG': 2,\n",
       "         'GCAGGCCGCGACGCGCAGGGTATGCGCGATT': 1,\n",
       "         'CAGCGTCAGGCGCGAAATCTCACCGTCGTTG': 4,\n",
       "         'TCAACATTATCAATTACAACCGACGGGGAGC': 17,\n",
       "         'AGTACGCCTTTTTGCGATTGCCCGGTTTTTG': 1,\n",
       "         'TGGTTTCCGTATCTCCGGATTTATAAAGCTG': 10,\n",
       "         'GTAGTCCATTATTCCACCTATGTCTGAACTC': 10,\n",
       "         'GCAGGCGGCGACGCGCAGGGTATGCGCGATG': 1,\n",
       "         'TGGGCGGCTTGCCTGGCAGCCAGCTCCAGCA': 2,\n",
       "         'GACAGAACGGCCTCAGTAGTCTCGTCAGGCA': 3,\n",
       "         'CCGTGGGATAATGTTTACGGTCATGCGCCCC': 1,\n",
       "         'GACAGAACGGCCTTAGTAGTCTCGTCAGGCT': 5,\n",
       "         'GCGACCGCTCAGAAATTCCGGACCCGATCCA': 10,\n",
       "         'TGGGCGACTTGCCTTGCAGCCAGCTCCAGCA': 1,\n",
       "         'ATTACGCCCTTTGCGATTGCCCGGTTTTTG': 1,\n",
       "         'AAGCTGGCTGGGAATCTCTTTCGGGGTGAGT': 1,\n",
       "         'TGGCGGCTTGCCTTGCAGCCAGCTCCAGCA': 2,\n",
       "         'AAGCTGGCTGGCGATCTCTTTCGGGGTGAGT': 6,\n",
       "         'GTGACCGCTCAGAAATTCCAGACCCGATCCA': 6,\n",
       "         'CCGGGGGATAATGTCTACGGTCATGCGCCCC': 17,\n",
       "         'ATACGCCTTTTTGCGATTGCCCGGTTTTTG': 4,\n",
       "         'AGCGTGTTCGGCATCACTTTTGGCTTCGGCT': 4,\n",
       "         'GACAGAACGGCCTCAGTAGTCTCGTCAGGCG': 4,\n",
       "         'GTAGTCCATCATTACACCTATGTCTGAACTC': 1,\n",
       "         'CCGGGGGATATGTTTACGGTCATGCGCCCC': 1,\n",
       "         'TGGCTCAGCAACAGCAGCACCCATGACCACG': 6,\n",
       "         'TAGGCCTATAGAGACGAGCGTTCGTTAAAGC': 3,\n",
       "         'TGGCTCTGCAACAGCAGTACCCATGACCACG': 11,\n",
       "         'GACAGAACGGCCTCAGTAGTCTCGTCTGGCT': 2,\n",
       "         'TGGCTCTGCAATAGCAGCACCCATGACCACG': 5,\n",
       "         'CAGCGTCAGGCGTGAAATCTCACCATCGTTG': 4,\n",
       "         'CCGGGGGATAACGTTTACGGTCATGCGCCCC': 8,\n",
       "         'GACAGAACGGCCACAGTAGTCTCGTCAGGCT': 7,\n",
       "         'CAAGTGCTATCCATCATCGCATCCAGTGCGC': 1,\n",
       "         'GTAGTCCATCATTCCACCTATGTGTGAACTC': 1,\n",
       "         'GTAGTCCATCATTCCACCTATGTCTTAACTC': 1,\n",
       "         'CTGTTTACGCAAATCTATGGACTATTGCTAT': 5,\n",
       "         'AAGCTGGCGGGCAATCTCTTCCGGGGTGAGT': 1,\n",
       "         'AAGCTGGCTGGCAATCTCTTTCGGGGTGAGA': 4,\n",
       "         'TGGTTCTGCAACAGCAGCACCCATGACCACG': 5,\n",
       "         'GACAGAACGGAATACAAAGCCGTGTATCTGC': 1,\n",
       "         'GAAATGCTGGTGAGCGTTAAAGCCGCAAACA': 5,\n",
       "         'AAGCTGGCTGGCAATCTCTTTCGGTTTTTG': 2,\n",
       "         'GTAGTCTATCATTCCACCTATGTCTGAACTC': 9,\n",
       "         'ATTACGCCTTTATGCGATTGCCCGGTTTTTG': 4,\n",
       "         'TCGGCGGCTTGCCTTGCAGCCAGCTCCAGCA': 2,\n",
       "         'TGGCTCTGCAACAGCAGCACACATGACCACG': 1,\n",
       "         'CAAGTGATATCCAACATCGCATCCAGTGCGC': 3,\n",
       "         'TAGTTTCCGTAGCTCCGGATTTATAAAGCTG': 2,\n",
       "         'CAAGTGATATCCATCATCGCATCCAGCGCGC': 6,\n",
       "         'AGCGTGTTCGGCAACACCTTTGGCTTCGGCT': 4,\n",
       "         'AGCGTGTTCGGCATCACCTCTGGCTTCGGCT': 7,\n",
       "         'GAAATGCTGGAGAGCGTTAATGCCGCAAACA': 4,\n",
       "         'TAGTTTCCGTATCTCCGGATTTATAAAGTTG': 2,\n",
       "         'AGCGTATTCGGCATCACCTTTGGCTTCGGCT': 2,\n",
       "         'AGCGTGTTCAGGCGTTGCAAACCTGGCTACC': 1,\n",
       "         'ATTACGCCTTTTTGCGATTGCCCGGGTTTTG': 2,\n",
       "         'GCGACCGCCCAGAAATTCCAGACCCGATCCA': 8,\n",
       "         'CTGTTTTCGCAAATCTAGGGACTATTGCTAT': 2,\n",
       "         'GGCAGAACGGCCTCAGTAGTCACGTCAGGCT': 1,\n",
       "         'TGGACGGCTTGCCTTGCAGCCAGCTCCAGCA': 2,\n",
       "         'CAAGTGATATCCATCATCGCATCTAGTGCGC': 3,\n",
       "         'CTGTTTTCGTAAATCTATGGACTATTGCTAT': 6,\n",
       "         'GGGCGCACGAAATACGAAGCCGTGTATCTGC': 1,\n",
       "         'CCGGGGGATAATGGTTACGGTCATGCGCCCC': 5,\n",
       "         'CTGTTTTCGCCAATCTATGGACTATTGCTAT': 1,\n",
       "         'GCAATGCTGGTGAGCGTTAATGCCGCAAACA': 2,\n",
       "         'GAAATGCTGGTGAGCGTTAATGACGCAAACA': 3,\n",
       "         'TGGGCGGCTTGCCTTGCAGCCAGCTTCAGCA': 3,\n",
       "         'GAAATTCTGGTGAGCGTTAATGCCGCAAACA': 2,\n",
       "         'GGGCGCACGGAATACAAAGCCGAGTATCTGC': 2,\n",
       "         'AAGCTGGCTGGCAATCTCTTTCGGGATGAGT': 2,\n",
       "         'GTAGTCCATCCTTCCACCTATGTCTGAACTC': 2,\n",
       "         'TCGGTTCAGGCGTAGCAAACCTGGCTACCGG': 1,\n",
       "         'GCGACCACTCAGAAATTCCAGACCCGATCCA': 5,\n",
       "         'CAAGTGTTATCCATCATCGCATCCAGTGCGC': 3,\n",
       "         'ATTACGCCTATTTGCGATTGCCCGGTTTTTG': 3,\n",
       "         'TTGGTTCAGGCGTTGCAAACCTGGCTACCGG': 3,\n",
       "         'GTAGTCCATCATTCCACCTATGTCTGAATTC': 3,\n",
       "         'TCGGTTCAGGCGTTGCAAAACTGGCTACCGG': 1,\n",
       "         'CTTTTTTCGCAAATCTATGGACTATTGCTAT': 2,\n",
       "         'CAGCGTCAGGCGTGAAATCTCACCGTCGTT': 2,\n",
       "         'TCACCATTATCAATTACAACCGACAGGGAGC': 2,\n",
       "         'GTAGTCCATCTTTCCACCTATGTCTGAACTC': 1,\n",
       "         'TGGCTCTGCAACAGCTGCACCCATGACCACG': 2,\n",
       "         'TGGCTCTGCAACTGCAGCACCCATGACCACG': 5,\n",
       "         'CAAGTGATATCCATCATCGCATCCAGTACGC': 3,\n",
       "         'GTAGTCCACCATTCCCCCTATGTCTGAACTC': 1,\n",
       "         'GACAGAACGGCCTCAGTGGTCTCGCCAGGCT': 1,\n",
       "         'TGGCTCTGCTACAGCAGCACCCATGACCACG': 1,\n",
       "         'GTAGTCCATCATTCCACATATGTCTGAACTC': 1,\n",
       "         'GCGACCGCTCAGAAATTCTAGACCCGATCCA': 2,\n",
       "         'GACAGAATGGCCTCAGTAGTCTCGTCAGGCT': 5,\n",
       "         'CCGGGGGATAATGTTTACGGTAATGCGCCCC': 1,\n",
       "         'GAAATGCTGGTGAGCGTTAATGCCGCAAAAA': 2,\n",
       "         'ATTACGCCTTTTTGCAATTGCCCGGTTTTTG': 8,\n",
       "         'GAAACGCCGGTGAGCGTTAATGCCGCAAACA': 1,\n",
       "         'GGGCTCACGGAATACAAAGCCGTGTATCTGC': 2,\n",
       "         'TCAGCATTATCAATTACAACCGACAGGGAGC': 9,\n",
       "         'GGGCGCACGGAATACAAAGCCGTGTATCTAC': 4,\n",
       "         'CTGTTTTCGCAAATCTATGGCCTATTGCTAT': 4,\n",
       "         'GTAGTCCATCATTCCACCTATGTCTGAACT': 4,\n",
       "         'AAGCTGGCTGCCAATCTCTTTCGGGGTGAGT': 2,\n",
       "         'ATTACGCCTTTTTGCGATTGCCCGGTTTTT': 2,\n",
       "         'ATTACGTCTTTTTGCGATTGCCCGGTTTTTG': 7,\n",
       "         'GCGGCCGCTCTGAAATTCCAGACCCGATCCA': 1,\n",
       "         'TGGCCCTGCAACAGCAGCACCCAAGACCACG': 1,\n",
       "         'AAGCTGGCAGGCAATCTCTTTCGGGGTGAGT': 7,\n",
       "         'AGCGTCAGGCGTGAAATCTCACCGTCGTTG': 3,\n",
       "         'TGGCTCTGCAACAGCAGCTCCCATGACCACG': 3,\n",
       "         'TCGGTTCAGGCGTTGCAAACCTGGCTACCCG': 1,\n",
       "         'CTGTTTTCGCAAATCTATGGTCTATTGCTAT': 6,\n",
       "         'CAAGTGATATCCGTCATCGCATCCAGTGCGC': 12,\n",
       "         'CAGCGTCAGGCGTGTAATCTCACCGTCGTTG': 2,\n",
       "         'GTCAGAACGGCCTCAGTAGTCTCGTCAGGCT': 2,\n",
       "         'CAGCGTCAGACGTGAAATCTCACCGTCGTTG': 2,\n",
       "         'CCGGGGGGTAATGTTTACGGTCGTGCGCCCC': 1,\n",
       "         'TCAACATTATCGATTACAACCGACAGGGAGC': 6,\n",
       "         'GAAATGCTGGTGAGCGTTAATGCCGCAAACT': 5,\n",
       "         'GCAGGCGGCGACGCGCAGGGTACGCGCGATT': 10,\n",
       "         'TCGGTTAGGCGTTGCAAACCTGGCTACCGG': 2,\n",
       "         'TGCTCTGCAACAGCAGCACCCATGACCACG': 4,\n",
       "         'TCGGTTCAAGCGTTGCAAACCTGGCTACCGG': 6,\n",
       "         'GGGGAACACGGAATACAAAGCCGTGTATCTG': 1,\n",
       "         'GACAGAACGGCCTCAGTAGTCACGTCAGGCT': 4,\n",
       "         'TGCGTGAGCGTATCGCCGCGCGTCTGTGAAA': 3,\n",
       "         'CAAGTGATGTCCATCATCGCATCCAGTGCGC': 7,\n",
       "         'GAAATGCTGGTGAGCGTTTATGCCGCAAACA': 3,\n",
       "         'TGGGCGGCTTGCCTTGCAGCCAGTTCCAGCA': 2,\n",
       "         'CAAGTGATATCCTTCATCGCATCCAGTGCGC': 1,\n",
       "         'GTAGTCCATCATTCCACCGATGTCTGAACTC': 1,\n",
       "         'CAAGTGATATTCATCATCGCATCCAGTGCGC': 2,\n",
       "         'TCGGTTCAGGCGTTGCAAACATGGCTACCGG': 1,\n",
       "         'AGCGTGTTCAGCATCACCTTTGGCTTCGGCT': 2,\n",
       "         'GAAATGCTGGTGACCGTTAATGCCGCAAACA': 1,\n",
       "         'CTCGGTCGCCGCATACACTATTCTCAGAATG': 1,\n",
       "         'GCGTAATAGCGAAGAGGCCCGCACCGATCGC': 1,\n",
       "         'TGGCTCTGCGACGGCAGCACCCATGACCACG': 1,\n",
       "         'ATTACGCCTTTTTGCTATTGCCCGGTTTTTG': 4,\n",
       "         'CCGGGGGATAATGTTGACGGTCATGCGCCCC': 2,\n",
       "         'CTGTTTTCGCAAACCTATGGACTATTGCTGT': 1,\n",
       "         'ATTACGCCTTTTTGTGATTGCCCGGTTTTTG': 13,\n",
       "         'CAAGTGATATCCATCAACGCATCCAGTGCGC': 2,\n",
       "         'TGGGCGGCTGGCCTTGCAGCCAGCTCCAGCA': 1,\n",
       "         'TCAACATTATCAATTACAACCGATAGGGAGC': 4,\n",
       "         'AAGCTGGCTGGCAATCTCTTCGGGGTGAGT': 1,\n",
       "         'GAAATGCTGGTGAGCGTTAATACCGCAAACA': 4,\n",
       "         'GCGACCGCTCGGAAATTCCAGACCCGATCCA': 8,\n",
       "         'TCGGTTCAGGCGTTGCAAACCTGGCTATCGG': 5,\n",
       "         'CCGGGGGATAATGTTTACGGTCACGCGCCCC': 11,\n",
       "         'TCAACATTATCAATTACACCCGACAGGGAGC': 1,\n",
       "         'TCGGTTCAGGCGTTGCAAACCGGGCTACCGG': 1,\n",
       "         'GTGGTCCATCATTCCACCTATGTCCGAACTC': 1,\n",
       "         'CAAGTGATATCCATCATCGCATCCGGTGCGC': 6,\n",
       "         'GCGACCGCTCAAAAATTCCAGACCCGATCCA': 3,\n",
       "         'GACATGCTGGTGAGCGTTAATGCCGCAAACA': 10,\n",
       "         'TCAACACTATCAATTACAACCGACAGGGAGC': 10,\n",
       "         'TGGCTCTGCAACAGCAGCACCCGTGACCACG': 18,\n",
       "         'GGGTGCACGGAATACAAAGCCGTGTATCTGC': 12,\n",
       "         'CAGTTTCCGTATCTCCGGATTTATAAAGCTG': 7,\n",
       "         'GTAGTCCATCATTCCACCTATGTCTGATCTC': 3,\n",
       "         'AAGCTGGCTGGCAATCCCTTGCGGGGTGAGT': 1,\n",
       "         'GCGGCCGCTCAGAAATTCCCGACCCGATCCA': 1,\n",
       "         'CTGGGGGATAATGTTTACGGTCATGCGCCCC': 5,\n",
       "         'GCAGGCGGCGACACGCAGGGTATGCGCGATT': 4,\n",
       "         'GTAATCCATCATTCCACCTATGTCTGAACTC': 2,\n",
       "         'AGCGTGTTCGGTATCACCTTTGGCTTCGGCT': 4,\n",
       "         'TGCGTGTTCGGCATCACCTTTGGCTTCGGCT': 2,\n",
       "         'CAGCGTCAGGCGTGGAATCTCACCGTCGCTG': 1,\n",
       "         'GTAGTCCATCATTCCACCTATGTCAGAACTC': 3,\n",
       "         'GAAATGCTGGTGAGCGTAAATGCCGCAAACT': 1,\n",
       "         'CAAGTGATATCCATCATCACATCCAGTGCGC': 5,\n",
       "         'TAGTTTCCATATCTCCGGATTTATAAAGCTG': 2,\n",
       "         'TTGGTTCAGGCGTCGCAAACCTGGCTACCGG': 1,\n",
       "         'GGGCGCACGGAGTACAAAGCCGAGTATCTGC': 1,\n",
       "         'AAGCTGGCTGGCAATCTTTTTCGGGGTGAGT': 1,\n",
       "         'GTAGTCCCTCATTCCACCTATGTCTGAACTC': 2,\n",
       "         'TAGTTTCCGTATCTCCGGATTATAAAGCTG': 6,\n",
       "         'AAGCTGTCTGGCAATCTCTTTCGGGGTGAGT': 1,\n",
       "         'GGGCGCACGGAATACAAAGCCGTGTATCTGT': 5,\n",
       "         'TCAACATCATCAATTACAACCGACAGGGAGC': 12,\n",
       "         'CCGGGGGATAATGTTTACGATCATGCGCCCC': 3,\n",
       "         'TGGCTCTGCAACAGCATCACCCATGACCACG': 2,\n",
       "         'TCAGGCGGCGACGCGCAGGGTATGCGCGATT': 2,\n",
       "         'TGGCTCGGCAACAGCAGCACCCATGACCACG': 3,\n",
       "         'GCAGGCGGCAACGCGCAGGGTATGCGCGATT': 6,\n",
       "         'GAAATGCTGGTGAGCGTTAATGCCGTAAACA': 12,\n",
       "         'GAAACGCTGGTGAGCGTTAAGGCCGCAAACA': 1,\n",
       "         'AGCGTGTTCGGCATCACCGTTGGCTTCGGCT': 1,\n",
       "         'TAGTTTCCGTATCTCGGGATTTATAAAGCTG': 1,\n",
       "         'GAAATGCTGGTGAGCGTTAATGCCGCATACA': 3,\n",
       "         'GACGGAACGGCCTCAGTAGTTTCGTCAGGCT': 1,\n",
       "         'ATTACGCCATTTTGCGATTGCCCGGTTTTTG': 4,\n",
       "         'CCGGGGGATAATGTTTACGGTCATGCACCCC': 6,\n",
       "         'GACAGAACGGCCTCAGTAGTCTCGTCTGAAC': 1,\n",
       "         'CTGTATTCGCAAATCTATGGACTATTGCTAT': 4,\n",
       "         'CAGCATCAGGCGTGAAATCTCACCGTCGTTG': 2,\n",
       "         'GAAATGATGGTGAGCGTTAATGCCGCAAACA': 1,\n",
       "         'ATGTTTTCGCAAATCTATGGACTATTGCTAT': 3,\n",
       "         'AAGCTGGCTGGCAATCTCTTTCGGGGTGAGC': 12,\n",
       "         'GACAGAACGGGCTCAGTAGTCTCGTCAGGCT': 1,\n",
       "         'TCGGTCCAGGCGTTGCAACCCTGGCTACCGG': 1,\n",
       "         'CTGTTTTCGCAAGTCTATGAACTATTGCTAT': 1,\n",
       "         'GGGCGCACGGAATACAAAGCCGTGTTTCTGC': 2,\n",
       "         'ATTGCGCCTTTTTGCGGTTGCCCGGTTTTTG': 1,\n",
       "         'CAAGTGATATCCATCATCGTATCCAGTGCGC': 4,\n",
       "         'GTAGTCCATCATTCCACCTTTGTCTGAACTC': 1,\n",
       "         'ATTACGCCTTTTTGCGATTGGCCGGTTTTTG': 1,\n",
       "         'TGGCTCTGCAACAGCAGCACCCATGCCCCCG': 2,\n",
       "         'GAGCGCACGGAATACAAAGCCGTGTATCTGC': 5,\n",
       "         'AAGCTGGCTGGCAATCTCTCTCGGGGTGAGT': 10,\n",
       "         'TAGTTTCCGTATCTCCGAATTTATAAAGCTG': 4,\n",
       "         'TGCGTGAGCGTATCGCCGCGCGTCTGCAAAA': 2,\n",
       "         'GCGACCGCTCAGAAATTCCAGCCCCGATCCA': 2,\n",
       "         'TCAACATCATCAATTACAACCGACAGGAAGC': 1,\n",
       "         'TAGTTTCAGGCGTTGCAAACCTGGCTACCGG': 1,\n",
       "         'CTGTTTTCGCAATTCTATGGACTATTGCTAT': 1,\n",
       "         'TGGCTCTGCAACAGCAGCACCCATGACCAGG': 3,\n",
       "         'GAGATGCTGGTGAGCGCTAATGCCGCAAACA': 1,\n",
       "         'GACAGAACGGCCTCAGTAGTCTCATCAGGCT': 3,\n",
       "         'TCGGTGCAGGCGTTGCAAACCTGGCTACCGG': 2,\n",
       "         'CCGGGGGATAATGTTTACGGTCATGTGCCCC': 4,\n",
       "         'GGGCGCACGGAATACTAAGCCGTGTATCTGC': 2,\n",
       "         'GATATGCTGGTGAGCGTTAATGCCGCAAACA': 2,\n",
       "         'AGCGTGTTCGGCATCACCTTTCGGGGTGAGT': 1,\n",
       "         'TTGTTTTCGCAAATCTATGGACTATTGCTAT': 5,\n",
       "         'TGGGCAGCTTGCCTTGCAGCCAGCTCCAGCA': 3,\n",
       "         'CAAGTGATATCAATCATCGCATCCAGTGCGC': 1,\n",
       "         'GTAGTCCATCATTCCACCTATGTTTGAACTC': 6,\n",
       "         'CGGTTTTCGCAAATCTATGGACTATTGCTAT': 2,\n",
       "         'CCGGGGGATAATGTTCACGGTCATGCGCCCC': 9,\n",
       "         'GACAGAACGGCATCAGTAGTCTCGTCAGGCT': 2,\n",
       "         'GCAGGCGGCGACGCGCAAGGTATGCGCGATT': 3,\n",
       "         'GGGCGCACGGAATACAAGGCCGTGCATCTGC': 2,\n",
       "         'CAGCGTCAGGCGTGAAATCTCACCGGCGTTG': 1,\n",
       "         'CTGTTTTCGCAAACCTATGGACCATTGCTAT': 1,\n",
       "         'ACATGGAATCCCTCCAGTGCATCAGTAATGG': 1,\n",
       "         'GGGGGCACGGAATACAAAGCCGTGTATCTGC': 1,\n",
       "         'AAAAGTGCCACTTGCGGAGACCCGGTCGTCA': 2,\n",
       "         'AAGCTGGCTGGCAATCTCTTTCGGGGAGAGT': 2,\n",
       "         'ATTACGCCTTTTTGCGATTGCCAGGTTTTTG': 2,\n",
       "         'ACGGGGGATAATGTTTACGGTCATGCGCCCC': 2,\n",
       "         'TGGCTCTGCAACAGCGGCACCCATGACCACT': 1,\n",
       "         'CAACGTCAGGCGTGAAATCTCACCGTCGTTG': 4,\n",
       "         'GGGCGCACCGAATACAAAGCCGTGTATCTGC': 1,\n",
       "         'ATTTCGCCTTTTTGCGATTGCCCGGTTTTTG': 2,\n",
       "         'GGGCGCACGGACTACAAAGCCGTGTATCTGC': 1,\n",
       "         'TGGCTCTGCAACAGCAGCACCCACGTCCACG': 1,\n",
       "         'TGGGCGGCTTGCCTTGCAGCCAGCTCCGGCA': 3,\n",
       "         'GAAATGCTGGTGAGCGTTAATGCCCCAAACA': 4,\n",
       "         'CTGTGTTCGCAAATCTATGGACTATTGCTAT': 2,\n",
       "         'TGGCTCTGCAACAGCAGCACCCATGACACG': 8,\n",
       "         'AAGCTGGCTGCAATCTCTTTCGGGGTGAGC': 1,\n",
       "         'GAGATGCTGGTGAGCGTTGATGCCGCAAACA': 1,\n",
       "         'GGGCGCACGGAATACAAAGCCTTGTATCTGC': 1,\n",
       "         'GAAATGCTTGTGAGCGTTAATGCCGCAAACA': 1,\n",
       "         'ATTACGCCTTTTTGCGATTGCCCGGTTGTTG': 1,\n",
       "         'GTAGTCCATCATCGCATCCAGTGCGC': 1,\n",
       "         'CTATTTTCGCAAATCTATGGACTATTGCTAT': 2,\n",
       "         'AAGCTGGCTGTCAATCTCTTTCGGGGTGAGT': 1,\n",
       "         'GCGACCGCTCAGAAATTCCATACCCGATCCA': 1,\n",
       "         'TCGGTTCAGGCGTTGCAACCCTGGCTCCCGG': 1,\n",
       "         'GAAATGCTGGTGAGCGTTAATGGCGCAAACA': 2,\n",
       "         'TCAACATTATCAATTACAACCGACAGAGAGC': 2,\n",
       "         'CTGGTTTCGCAAATCTATGGACTATTGCTAC': 1,\n",
       "         'GGCCGCATGGAATACAAAGCCGTGTATCTGC': 1,\n",
       "         'TAGTTTCCGTATCTCCGGACTTATAAGGCTG': 1,\n",
       "         'CAGCGTCAGGCGTGAAATCTCACCGCCGTTG': 1,\n",
       "         'AGCGTGTTCGGCATCACCTTTGGTTTCGGCT': 3,\n",
       "         'GCGACCGCTCAGAAACTCCAGACCCGAGCCA': 1,\n",
       "         'GGGCGCACGGAATACAAAGCCGTGTAACTGC': 1,\n",
       "         'TAGTATCCGTATCTCCGGATTTATAAAGCTG': 3,\n",
       "         'TCGGTTCAGGCGTTGCATTCCTGGCTACCGG': 1,\n",
       "         'CTGTTTTCGCAAATCTATGGACTATTGCTAA': 1,\n",
       "         'CTGTTTTCCCAAATCTATGGACTATTGCTAT': 1,\n",
       "         'GCGGGGGATAATGTTTACGGTCATGCACCCC': 1,\n",
       "         'GTAGTCCATCATTCCACCTATGTCTGAACTG': 3,\n",
       "         'AGCGTGTTCGGCAGCACCTTTGGCTTCGGCT': 1,\n",
       "         'GTAGGCGGCGACGCGCAGGGTATGCGCGATT': 7,\n",
       "         'AGCGTGTACGGCATCACCTTTGGCTTCGGCT': 2,\n",
       "         'TGTGCGGCTTGCCTTGCAGCCAGCTCCAGCA': 2,\n",
       "         'GCGACCGCTCAGTAGTCTCGTCAGGCT': 1,\n",
       "         'CTGCGTCAGGCGTGAAATCTCACCGTCGTTG': 1,\n",
       "         'TCAACATTATCAATTATAACCGACAGGGAGC': 3,\n",
       "         'ATTACGCCTTTTTGCGATTGCCCGGTGTTTG': 1,\n",
       "         'AAGTTTCCGTATCTCCGGATTTATAAAGCTG': 1,\n",
       "         'GTAGTCCATCATTCCACCTATGTCTGAAATC': 2,\n",
       "         'CCGGGGGATAATGTTTACGGTCATGCGCCC': 7,\n",
       "         'GAAATGCGGGTGAGCGTTAATGCCGCAAACA': 3,\n",
       "         'AAGCTGGCTTGCCTTGCAGCCAGCTCCAGCA': 1,\n",
       "         'AAGCTGGCTGGCAATCTCTTTCGGGGTGAAT': 2,\n",
       "         'TCGGTTCAGGCGTTGTAAACCTGGCTACCGG': 4,\n",
       "         'GCGACCGCTCAGAAATTCCAGACCCGTTCCA': 3,\n",
       "         'TCGGTTCAGTCGTTGCAAACCTGGCTACCGG': 2,\n",
       "         'ATTACGCCTTTCGCGATTGCCCGGTTTTTG': 1,\n",
       "         'GACAGAACGGCCTCAGTTGTCTCGTCAGGCT': 2,\n",
       "         'TGGGCGGCCTGCCTTGCGGCCAGCTCCAGCA': 1,\n",
       "         'GACAGAAAGGCCTCAGTAGTCTCGTCAGGCT': 1,\n",
       "         'TGGCTCTGCAACAGCAGAATCCATGACCACG': 1,\n",
       "         'AAGTGATATCCATCATCGCATCCAGTGCGC': 1,\n",
       "         'GGACGCACGGAATACAAAGCCGTGTATCTGC': 3,\n",
       "         'CCGGGGGATAATGTTTACGGTCGTGCGCCCC': 6,\n",
       "         'AGCGTGTTCGGCATCACCTTTGGCTACGGCT': 4,\n",
       "         'CTGTTTTTGCAAATCTATGGACTATTGCTAT': 8,\n",
       "         'AAGCTGGCTGGCAATCTCTTTTGGGGTGAGT': 2,\n",
       "         'TCGGTTCAGGCGTTGCAAACCTGGCTACCTG': 2,\n",
       "         'CTGTTTTCGCAAATCTATGACTATTGCTAT': 4,\n",
       "         'CTGTTTTCGCTAATCTATGGACTGTTGCTAT': 1,\n",
       "         'CTGTTTTAGCAAATCTATGGACTATTGCTAT': 1,\n",
       "         'ATTACGCCTTTTTGCGATCGCCCGGCTTTTG': 1,\n",
       "         'GTCGTCCATCCTTCCACCTATGTCTGAACTC': 1,\n",
       "         'GGGCGCACGGAATACAAAGCCGGGTATCTGC': 4,\n",
       "         'CCGGTTCAGGCGTTGCAAACCCGGCTACCGG': 1,\n",
       "         'TGGGCGGCTTGCCTTACAGCCAGCTCCAGCA': 1,\n",
       "         'CTGTTTGCGCAAATCTATGGACTATTGCTAT': 2,\n",
       "         'GCGGGCGGCGACGCGCAGGGTATGCGCGATT': 9,\n",
       "         'GGCGTGTTCGGCATCACCTTTGGCTTCGGCT': 8,\n",
       "         'GACAACACGGCCTCAGTAGTCTCGTCAGGCT': 1,\n",
       "         'TGGCACTGCAACAGCAGCACCCATGACCACG': 6,\n",
       "         'GTAGTCCGTCATTCCACCAATGTCTGAACTC': 1,\n",
       "         'TCAACATTATCAATTACAACCGACAGGGTGC': 2,\n",
       "         'GAAATGCTGGTGAGCGTTCATGCCGCAAACA': 2,\n",
       "         'ATTACGCCTTTTTGCGAATGCCCGGTTTTTG': 2,\n",
       "         'TGGCTCCGCAACAGCAGCACCCATGACCACA': 1,\n",
       "         'GCAACATTATCAATTACAACCGACAGGGAGC': 1,\n",
       "         'GAAATGCTGGTGAGCGTTATTGCCGCAAACA': 1,\n",
       "         'TCGGTTCAGGCGTTGCAAACCTGGCAACCGG': 2,\n",
       "         'TCGGTTCAGGCGTTGCATACCTGGCTACCGG': 3,\n",
       "         'GGGCGCACGGAATACAAAGCCGTGTATCTG': 2,\n",
       "         'AAGCTGACTGGCAATCTCTTTCGGGGTGAGT': 4,\n",
       "         'CTGTTTTCGTATCTCCGGATTTATAAAGCTG': 1,\n",
       "         'CTGTTTTCGCAAATCAATGGACTATTGCTAT': 4,\n",
       "         'TTGGCGGCTTGCCTTGCAGCCAGCTCCAGCA': 1,\n",
       "         'CAAGTGATATCCATCATCGCAACCAGTGCGC': 1,\n",
       "         'GGGCGCACGGAAAACAAAGCCGTGTATCTGC': 1,\n",
       "         'GCAGGCGGGGACGCGCAGGGTATGCGCGATT': 2,\n",
       "         'GACAGAACGGACTCAGTAGTCTCGTCAGGCT': 1,\n",
       "         'TGGCTCCGCAACAGCAGCACCCATGGCCGCG': 1,\n",
       "         'GGGCGCACGGAATACATAGCCGTGTATCTGC': 3,\n",
       "         'CGAAATGCTGGTGAGCGTTAATGCCGCAAAC': 1,\n",
       "         'AGCGTGTTCGGCATCGCTTTTGGCTTCGGCT': 1,\n",
       "         'TCAACATTATCAGTTACAACCGACAGGGAGC': 11,\n",
       "         'CTAGTGATATCCATCATCGCATCCAGTGCGC': 2,\n",
       "         'TCAACATTAACAATTACAACCGACAGGGAGC': 4,\n",
       "         'TAGTTAACTTATAGACAGAATATCCGTGTAC': 2,\n",
       "         'CCGGGGGATAATGTTTTCGGTCATGCGCCCC': 2,\n",
       "         'AAGCTGGCTGGCAATTTCTTTCGGGGTGAGT': 3,\n",
       "         'TGGGCGGCTTGCCTTGCAGCCAGCTCCATCA': 3,\n",
       "         'GCGACCGCTCAGAAATTCCAGACCCAATCCA': 6,\n",
       "         'GTAGTCCATCATTCCACCTATGGCTGAACTC': 4,\n",
       "         'TCAACATTATCAATACAACCGACAGGGAGC': 1,\n",
       "         'CCGGGGGAGAATGTTTACGGTCATGCGCCCC': 2,\n",
       "         'TAGTTTCCGTATCTCCGGATTTATAAAGCTA': 4,\n",
       "         'CAAGCGGTATCCATCATCGCATCCAGTGCGC': 1,\n",
       "         'CTGATTTCGCAAATCTATGGACTATTGCTAT': 2,\n",
       "         'GACAGAACGACCTCAGTAGTCTCGTCAGGCT': 5,\n",
       "         'CCCGGGGATAATGTTTACGGTCATGCGCCCC': 1,\n",
       "         'TGGCTCTGCAACAGCAGCACCCATGACCTCG': 4,\n",
       "         'TGGCTCTGCACAGCAGCACCCATGACCACG': 1,\n",
       "         'TTCTGTCACCTGACTATTTAACGCTATATTT': 1,\n",
       "         'ACACACCAGGACCGCGCCAACTTACCCCGCG': 2,\n",
       "         'TAGTTTCCGTAACTCCGGATTTATAAAGCTG': 2,\n",
       "         'GCGACCGCTCAGAAATTCCAGACCCCATCCA': 2,\n",
       "         'TCAACATTATCAATTACAACCGTCAGGGAGC': 4,\n",
       "         'CCGGGGGATAATGTCTGCGGTCATGCGCCCC': 1,\n",
       "         'TGGCTCTGCAACAGCAGCACCCAAGACCACG': 3,\n",
       "         'TGGATCTGCAACAGCAGCACCCATGACCACG': 1,\n",
       "         'GTAGTCCATCATTCCACCTATGACTGAACTC': 2,\n",
       "         'GCGACCGCTCAGAAATTTCAGACCCGATCCA': 1,\n",
       "         'GGGCGCACGGAATACGAAGCCGTGTATCAGC': 1,\n",
       "         'AGCGTGTTCGGCATCACCATTGGCTTCGGCT': 1,\n",
       "         'TCGGATCAGGCGTTGCAAACCTGGCTACCGG': 1,\n",
       "         'CCGGGGATAATGTTTACGGTCATGCGCCCC': 3,\n",
       "         'GACAGAACGGCCTCAGTAGTCTCGGCAGGCT': 2,\n",
       "         'ATTACGCATTTTTGCGATTGCCCGGTTTTTG': 1,\n",
       "         'CTGCTGCTCGAGCTGGTGGAGTGCTGCTATA': 1,\n",
       "         'CAAATGATATCCATCATCGCATCCAGTGCGC': 1,\n",
       "         'TGGGCGGCTTGCCTTGCAGCCAGCTACGGCA': 1,\n",
       "         'GACGGCGGCGACGCGCAGGGTATGCGCGATT': 1,\n",
       "         'ATTACGCCTTTTTGCGATAGCCCGGTTTTTG': 2,\n",
       "         'AGGCTCTGCATCAGCAGCACCCATGACCACG': 1,\n",
       "         'GAAATGCTGGTGAGCGTTAGTGTCGCAAACA': 1,\n",
       "         'GAAATGCTGGTGAGCGTTATGCCGCAAACA': 3,\n",
       "         'TGGCTCTGCAACGGCAGCGCCCATGACCACG': 1,\n",
       "         'ATTACGCCTTTTTGCGATTACCCGGTTTTTG': 3,\n",
       "         'GAACTGCTGGTGAGCGTTAATGCCGCAAACA': 1,\n",
       "         'CAAGTGATATCTATCATCGCATCCAGTGCGC': 1,\n",
       "         ...})"
      ]
     },
     "execution_count": 127,
     "metadata": {},
     "output_type": "execute_result"
    }
   ],
   "source": [
    "Counter(lines)"
   ]
  },
  {
   "cell_type": "code",
   "execution_count": 113,
   "metadata": {
    "scrolled": true
   },
   "outputs": [
    {
     "data": {
      "image/png": "[encoded data removed]",
      "text/plain": [
       "<matplotlib.figure.Figure at 0x7fbc0a8e55f8>"
      ]
     },
     "metadata": {},
     "output_type": "display_data"
    }
   ],
   "source": [
    "plt.hist([len(x) for x in lines])\n",
    "plt.show()"
   ]
  },
  {
   "cell_type": "code",
   "execution_count": 155,
   "metadata": {
    "collapsed": true
   },
   "outputs": [],
   "source": [
    "with open(\"../data/ES/ES3_R1_pairs.txt\") as f:\n",
    "    pairs = [x[:-2].split(' ') for x in f.readlines()]"
   ]
  },
  {
   "cell_type": "code",
   "execution_count": 156,
   "metadata": {},
   "outputs": [
    {
     "data": {
      "text/plain": [
       "74627"
      ]
     },
     "execution_count": 156,
     "metadata": {},
     "output_type": "execute_result"
    }
   ],
   "source": [
    "len(pairs)"
   ]
  },
  {
   "cell_type": "code",
   "execution_count": 136,
   "metadata": {
    "collapsed": true
   },
   "outputs": [],
   "source": [
    "set_31 = [x[:31] for x in  K_1 + K_2]"
   ]
  },
  {
   "cell_type": "code",
   "execution_count": 160,
   "metadata": {
    "collapsed": true
   },
   "outputs": [],
   "source": [
    "set_31 = set(ans_3_31)"
   ]
  },
  {
   "cell_type": "code",
   "execution_count": 161,
   "metadata": {
    "collapsed": true
   },
   "outputs": [],
   "source": [
    "counter = 0\n",
    "\n",
    "for l in lines + lines_2:\n",
    "    if l in set_31:\n",
    "    \n",
    "        counter += 1"
   ]
  },
  {
   "cell_type": "code",
   "execution_count": 162,
   "metadata": {},
   "outputs": [
    {
     "data": {
      "text/plain": [
       "283490"
      ]
     },
     "execution_count": 162,
     "metadata": {},
     "output_type": "execute_result"
    }
   ],
   "source": [
    "counter"
   ]
  },
  {
   "cell_type": "code",
   "execution_count": 163,
   "metadata": {},
   "outputs": [
    {
     "data": {
      "text/plain": [
       "35"
      ]
     },
     "execution_count": 163,
     "metadata": {},
     "output_type": "execute_result"
    }
   ],
   "source": [
    "len(ans_3_31)"
   ]
  },
  {
   "cell_type": "code",
   "execution_count": null,
   "metadata": {
    "collapsed": true
   },
   "outputs": [],
   "source": []
  }
 ],
 "metadata": {
  "kernelspec": {
   "display_name": "Python 3",
   "language": "python",
   "name": "python3"
  },
  "language_info": {
   "codemirror_mode": {
    "name": "ipython",
    "version": 3
   },
   "file_extension": ".py",
   "mimetype": "text/x-python",
   "name": "python",
   "nbconvert_exporter": "python",
   "pygments_lexer": "ipython3",
   "version": "3.6.3"
  }
 },
 "nbformat": 4,
 "nbformat_minor": 2
}
