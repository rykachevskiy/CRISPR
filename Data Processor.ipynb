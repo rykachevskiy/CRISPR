{
 "cells": [
  {
   "cell_type": "code",
   "execution_count": 1,
   "metadata": {
    "collapsed": true
   },
   "outputs": [],
   "source": [
    "import numpy as np\n",
    "\n",
    "from tqdm import tqdm"
   ]
  },
  {
   "cell_type": "code",
   "execution_count": 2,
   "metadata": {
    "collapsed": true
   },
   "outputs": [],
   "source": [
    "letter_to_num = {}\n",
    "letter_to_num['A'] = 0\n",
    "letter_to_num['C'] = 1\n",
    "letter_to_num['T'] = 2\n",
    "letter_to_num['G'] = 3"
   ]
  },
  {
   "cell_type": "code",
   "execution_count": 3,
   "metadata": {
    "collapsed": true
   },
   "outputs": [],
   "source": [
    "num_to_letter = {}\n",
    "num_to_letter[0] = 'A'\n",
    "num_to_letter[1] = 'C'\n",
    "num_to_letter[2] = 'T'\n",
    "num_to_letter[3] = 'G'"
   ]
  },
  {
   "cell_type": "code",
   "execution_count": 4,
   "metadata": {
    "collapsed": true
   },
   "outputs": [],
   "source": [
    "def process_spacer(spacer):\n",
    "    ans = np.zeros(32*4)\n",
    "    \n",
    "    for i, letter in enumerate(spacer):\n",
    "        if letter in letter_to_num.keys():\n",
    "            ans[i*4 + letter_to_num[letter]] = 1\n",
    "    return ans\n",
    "    "
   ]
  },
  {
   "cell_type": "code",
   "execution_count": 5,
   "metadata": {
    "collapsed": true
   },
   "outputs": [],
   "source": [
    "def to_array(spacers):\n",
    "    X = np.zeros((len(spacers), 32 * 4))\n",
    "\n",
    "    for i, spacer in tqdm(enumerate(spacers)):\n",
    "        X[i,:] = process_spacer(spacer)\n",
    "    return X"
   ]
  },
  {
   "cell_type": "code",
   "execution_count": 6,
   "metadata": {
    "collapsed": true
   },
   "outputs": [],
   "source": [
    "def to_array_pairs(pairs):\n",
    "    X = np.zeros((len(pairs), 2, 32 * 4))\n",
    "\n",
    "    for i, pair in tqdm(enumerate(pairs)):\n",
    "        X[i,0,:] = process_spacer(pair[0][:32])\n",
    "        X[i,1,:] = process_spacer(pair[1][:32])\n",
    "    return X"
   ]
  },
  {
   "cell_type": "code",
   "execution_count": 246,
   "metadata": {
    "collapsed": true
   },
   "outputs": [],
   "source": [
    "with open(\"../data/ES/ES3_R1_spacers.txt\") as f:\n",
    "    lines1 = [x[:31] for x in f.readlines()[1:]]"
   ]
  },
  {
   "cell_type": "code",
   "execution_count": 175,
   "metadata": {
    "collapsed": true
   },
   "outputs": [],
   "source": [
    "with open(\"../data/SlO_10/SlO1_R2_spacers_10.txt\") as f:\n",
    "    lines2 = [x[:32] for x in f.readlines()[1:]]"
   ]
  },
  {
   "cell_type": "code",
   "execution_count": 176,
   "metadata": {},
   "outputs": [
    {
     "name": "stderr",
     "output_type": "stream",
     "text": [
      "325413it [00:05, 58452.29it/s]\n"
     ]
    }
   ],
   "source": [
    "X = to_array(lines1 + lines2)"
   ]
  },
  {
   "cell_type": "code",
   "execution_count": 177,
   "metadata": {},
   "outputs": [
    {
     "data": {
      "text/plain": [
       "(325413, 128)"
      ]
     },
     "execution_count": 177,
     "metadata": {},
     "output_type": "execute_result"
    }
   ],
   "source": [
    "X.shape"
   ]
  },
  {
   "cell_type": "code",
   "execution_count": 178,
   "metadata": {
    "collapsed": true
   },
   "outputs": [],
   "source": [
    "np.save(\"../data/npy/SlO\", X)"
   ]
  },
  {
   "cell_type": "markdown",
   "metadata": {},
   "source": [
    "#### ans 3"
   ]
  },
  {
   "cell_type": "code",
   "execution_count": 104,
   "metadata": {
    "collapsed": true
   },
   "outputs": [],
   "source": [
    "ans_3 = [\"CAGCGTCAGGCGTGAAATCTCACCGTCGTTGC\tTCGGTTCAGGCGTTGCAAACCTGGCTACCGGG\tGTAGTCCATCATTCCACCTATGTCTGAACTCC\tCCGGGGGATAATGTTTACGGTCATGCGCCCCC\tTGGGCGGCTTGCCTTGCAGCCAGCTCCAGCAG\tAAGCTGGCTGGCAATCTCTTTCGGGGTGAGTC\tTAGTTTCCGTATCTCCGGATTTATAAAGCTGA\tGCAGGCGGCGACGCGCAGGGTATGCGCGATTCG\tGCGACCGCTCAGAAATTCCAGACCCGATCCAAA\tTCAACATTATCAATTACAACCGACAGGGAGCC\tAGCGTGTTCGGCATCACCTTTGGCTTCGGCTG\tTGCGTGAGCGTATCGCCGCGCGTCTGCGAAAG\",\n",
    "\"GACAGAACGGCCTCAGTAGTCTCGTCAGGCTC\tCTGTTTTCGCAAATCTATGGACTATTGCTATT\tGGGCGCACGGAATACAAAGCCGTGTATCTGCT\tTGGCTCTGCAACAGCAGCACCCATGACCACGT\tGAAATGCTGGTGAGCGTTAATGCCGCAAACAC\tATTACGCCTTTTTGCGATTGCCCGGTTTTTGC\",\n",
    "\"GACAGAACGGCCTCAGTAGTCTCGTCAGGCTC\tACACGCCCTTATCAAATAGCTGTGATTTACCTA\tATAGACCCCGAACAACAATACGCGCAAACCGA\tTACCGTACAGACTGCCGGATATTATTTTTTTG\tCTGCTGCTCGAGCTGGTGGAGTGCTGCTATAG\tAACGTCAGGTTGTCGCCGCTCTGCGTGGTCGC\tTGCATGGCTTTGGCTTCCTCTTTGACGGACGC\tATATATCAGAGCAAAAAACAAAGCCACAGCCA\tCATAAAGAAACTATTTTGCGTTTCGTTCAGGT\tTTTTACAGTGTCAACAATCGTTCCCTGATTGT\tCCGCCGTTGGCACCGTCAAACTCCGGTACTGT\tTATAGAGATCGTTTTTGGAATTTACAGCGAGG\tCCGTAAGTGGTTTGAGCGATGATATTTGTGCT\",\n",
    "\"AGTGCTGGACCATTTCAAATTCACAATAGATT\tGGAATGATATTTCAATAAATAATTATAACAAT\tCCCTCACACCGATTCGCCAAACGGTGGAGAAG\tAGCTGGGCGAAATTTTGATTCATCGTGATGAC\"]"
   ]
  },
  {
   "cell_type": "code",
   "execution_count": 105,
   "metadata": {
    "collapsed": true
   },
   "outputs": [],
   "source": [
    "ans_3_31 = []\n",
    "for seq in ans_3:\n",
    "    for sp in seq.split(\"\\t\"):\n",
    "        ans_3_31.append(sp[:31])"
   ]
  },
  {
   "cell_type": "code",
   "execution_count": 106,
   "metadata": {
    "scrolled": true
   },
   "outputs": [
    {
     "data": {
      "text/plain": [
       "['CAGCGTCAGGCGTGAAATCTCACCGTCGTTG',\n",
       " 'TCGGTTCAGGCGTTGCAAACCTGGCTACCGG',\n",
       " 'GTAGTCCATCATTCCACCTATGTCTGAACTC',\n",
       " 'CCGGGGGATAATGTTTACGGTCATGCGCCCC',\n",
       " 'TGGGCGGCTTGCCTTGCAGCCAGCTCCAGCA',\n",
       " 'AAGCTGGCTGGCAATCTCTTTCGGGGTGAGT',\n",
       " 'TAGTTTCCGTATCTCCGGATTTATAAAGCTG',\n",
       " 'GCAGGCGGCGACGCGCAGGGTATGCGCGATT',\n",
       " 'GCGACCGCTCAGAAATTCCAGACCCGATCCA',\n",
       " 'TCAACATTATCAATTACAACCGACAGGGAGC',\n",
       " 'AGCGTGTTCGGCATCACCTTTGGCTTCGGCT',\n",
       " 'TGCGTGAGCGTATCGCCGCGCGTCTGCGAAA',\n",
       " 'GACAGAACGGCCTCAGTAGTCTCGTCAGGCT',\n",
       " 'CTGTTTTCGCAAATCTATGGACTATTGCTAT',\n",
       " 'GGGCGCACGGAATACAAAGCCGTGTATCTGC',\n",
       " 'TGGCTCTGCAACAGCAGCACCCATGACCACG',\n",
       " 'GAAATGCTGGTGAGCGTTAATGCCGCAAACA',\n",
       " 'ATTACGCCTTTTTGCGATTGCCCGGTTTTTG',\n",
       " 'GACAGAACGGCCTCAGTAGTCTCGTCAGGCT',\n",
       " 'ACACGCCCTTATCAAATAGCTGTGATTTACC',\n",
       " 'ATAGACCCCGAACAACAATACGCGCAAACCG',\n",
       " 'TACCGTACAGACTGCCGGATATTATTTTTTT',\n",
       " 'CTGCTGCTCGAGCTGGTGGAGTGCTGCTATA',\n",
       " 'AACGTCAGGTTGTCGCCGCTCTGCGTGGTCG',\n",
       " 'TGCATGGCTTTGGCTTCCTCTTTGACGGACG',\n",
       " 'ATATATCAGAGCAAAAAACAAAGCCACAGCC',\n",
       " 'CATAAAGAAACTATTTTGCGTTTCGTTCAGG',\n",
       " 'TTTTACAGTGTCAACAATCGTTCCCTGATTG',\n",
       " 'CCGCCGTTGGCACCGTCAAACTCCGGTACTG',\n",
       " 'TATAGAGATCGTTTTTGGAATTTACAGCGAG',\n",
       " 'CCGTAAGTGGTTTGAGCGATGATATTTGTGC',\n",
       " 'AGTGCTGGACCATTTCAAATTCACAATAGAT',\n",
       " 'GGAATGATATTTCAATAAATAATTATAACAA',\n",
       " 'CCCTCACACCGATTCGCCAAACGGTGGAGAA',\n",
       " 'AGCTGGGCGAAATTTTGATTCATCGTGATGA']"
      ]
     },
     "execution_count": 106,
     "metadata": {},
     "output_type": "execute_result"
    }
   ],
   "source": [
    "ans_3_31"
   ]
  },
  {
   "cell_type": "code",
   "execution_count": 107,
   "metadata": {},
   "outputs": [
    {
     "name": "stderr",
     "output_type": "stream",
     "text": [
      "35it [00:00, 18016.77it/s]\n"
     ]
    }
   ],
   "source": [
    "np.save(\"../data/npy/ES3_R1_ans_ez\", to_array(ans_3_31))"
   ]
  },
  {
   "cell_type": "code",
   "execution_count": 232,
   "metadata": {
    "scrolled": true
   },
   "outputs": [
    {
     "name": "stderr",
     "output_type": "stream",
     "text": [
      "12it [00:00, 27746.22it/s]\n",
      "6it [00:00, 22094.67it/s]\n",
      "13it [00:00, 28295.77it/s]\n",
      "4it [00:00, 18040.02it/s]\n"
     ]
    }
   ],
   "source": [
    "ans_3_array = [to_array([y[:31] for y in x.split(\"\\t\")]) for x in ans_3]"
   ]
  },
  {
   "cell_type": "code",
   "execution_count": 70,
   "metadata": {
    "collapsed": true
   },
   "outputs": [],
   "source": [
    "np.savez(\"./data/npy/ES3_R1_ans.npy\", ans_3_array)"
   ]
  },
  {
   "cell_type": "markdown",
   "metadata": {
    "collapsed": true
   },
   "source": [
    "#### pairs 3"
   ]
  },
  {
   "cell_type": "code",
   "execution_count": null,
   "metadata": {
    "collapsed": true
   },
   "outputs": [],
   "source": []
  },
  {
   "cell_type": "code",
   "execution_count": 167,
   "metadata": {
    "collapsed": true
   },
   "outputs": [],
   "source": [
    "with open(\"../data/SlO_10/SlO1_R1_pairs_10.txt\") as f:\n",
    "    lines1 = [x[:-2].split(' ') for x in f.readlines()]"
   ]
  },
  {
   "cell_type": "code",
   "execution_count": 168,
   "metadata": {
    "collapsed": true
   },
   "outputs": [],
   "source": [
    "with open(\"../data/SlO_10/SlO1_R2_pairs_10.txt\") as f:\n",
    "    lines2 = [x[:-2].split(' ') for x in f.readlines()]"
   ]
  },
  {
   "cell_type": "code",
   "execution_count": 169,
   "metadata": {
    "collapsed": true
   },
   "outputs": [],
   "source": [
    "lines = lines1 + lines2"
   ]
  },
  {
   "cell_type": "code",
   "execution_count": 170,
   "metadata": {},
   "outputs": [
    {
     "data": {
      "text/plain": [
       "96357"
      ]
     },
     "execution_count": 170,
     "metadata": {},
     "output_type": "execute_result"
    }
   ],
   "source": [
    "len(lines)"
   ]
  },
  {
   "cell_type": "code",
   "execution_count": 171,
   "metadata": {},
   "outputs": [
    {
     "name": "stderr",
     "output_type": "stream",
     "text": [
      "96357it [00:03, 29787.87it/s]\n"
     ]
    }
   ],
   "source": [
    "X = to_array_pairs(lines)"
   ]
  },
  {
   "cell_type": "code",
   "execution_count": 172,
   "metadata": {},
   "outputs": [
    {
     "data": {
      "text/plain": [
       "array([[ 0.,  0.,  0.,  1.,  0.,  1.,  0.,  0.,  0.,  1.,  0.,  0.,  0.,\n",
       "         0.,  1.,  0.,  0.,  0.,  0.,  1.,  1.,  0.,  0.,  0.,  0.,  1.,\n",
       "         0.,  0.,  1.,  0.,  0.,  0.,  0.,  0.,  1.,  0.,  0.,  0.,  1.,\n",
       "         0.,  0.,  0.,  0.,  1.,  0.,  1.,  0.,  0.,  1.,  0.,  0.,  0.,\n",
       "         0.,  0.,  0.,  1.,  1.,  0.,  0.,  0.,  0.,  1.,  0.,  0.,  0.,\n",
       "         0.,  0.,  1.,  0.,  0.,  1.,  0.,  0.,  0.,  1.,  0.,  1.,  0.,\n",
       "         0.,  0.,  0.,  1.,  0.,  0.,  1.,  0.,  0.,  0.,  1.,  0.,  0.,\n",
       "         0.,  1.,  0.,  0.,  0.,  0.,  0.,  1.,  0.,  0.,  0.,  1.,  0.,\n",
       "         0.,  0.,  0.,  1.,  1.,  0.,  0.,  0.,  0.,  0.,  0.,  1.,  1.,\n",
       "         0.,  0.,  0.,  0.,  0.,  0.,  1.,  0.,  0.,  0.,  1.],\n",
       "       [ 0.,  0.,  1.,  0.,  0.,  0.,  0.,  1.,  0.,  0.,  1.,  0.,  0.,\n",
       "         0.,  0.,  1.,  0.,  0.,  1.,  0.,  0.,  1.,  0.,  0.,  0.,  0.,\n",
       "         0.,  1.,  0.,  0.,  0.,  1.,  1.,  0.,  0.,  0.,  0.,  0.,  0.,\n",
       "         1.,  0.,  0.,  1.,  0.,  1.,  0.,  0.,  0.,  0.,  0.,  1.,  0.,\n",
       "         0.,  0.,  0.,  1.,  0.,  1.,  0.,  0.,  0.,  0.,  0.,  1.,  0.,\n",
       "         0.,  0.,  1.,  0.,  0.,  0.,  1.,  0.,  1.,  0.,  0.,  0.,  0.,\n",
       "         1.,  0.,  0.,  0.,  0.,  1.,  1.,  0.,  0.,  0.,  0.,  0.,  1.,\n",
       "         0.,  0.,  0.,  1.,  0.,  0.,  0.,  1.,  0.,  0.,  0.,  1.,  0.,\n",
       "         0.,  1.,  0.,  0.,  0.,  0.,  0.,  1.,  0.,  0.,  1.,  0.,  0.,\n",
       "         1.,  0.,  0.,  0.,  0.,  1.,  0.,  0.,  0.,  0.,  0.]])"
      ]
     },
     "execution_count": 172,
     "metadata": {},
     "output_type": "execute_result"
    }
   ],
   "source": [
    "X[0]"
   ]
  },
  {
   "cell_type": "code",
   "execution_count": 173,
   "metadata": {
    "collapsed": true
   },
   "outputs": [],
   "source": [
    "np.save(\"../data/npy/SlO_pairs\", X)"
   ]
  },
  {
   "cell_type": "code",
   "execution_count": null,
   "metadata": {
    "collapsed": true
   },
   "outputs": [],
   "source": []
  },
  {
   "cell_type": "markdown",
   "metadata": {},
   "source": [
    "#### ans 1"
   ]
  },
  {
   "cell_type": "code",
   "execution_count": 11,
   "metadata": {
    "collapsed": true
   },
   "outputs": [],
   "source": [
    "K_1 = ['CAGCGTCAGGCGTGAAATCTCACCGTCGTTGC', 'TCGGTTCAGGCGTTGCAAACCTGGCTACCGGG', \n",
    "       'GTAGTCCATCATTCCACCTATGTCTGAACTCC', 'CCGGGGGATAATGTTTACGGTCATGCGCCCCC', \n",
    "       'TGGGCGGCTTGCCTTGCAGCCAGCTCCAGCAG', 'AAGCTGGCTGGCAATCTCTTTCGGGGTGAGTC',\n",
    "       'TAGTTTCCGTATCTCCGGATTTATAAAGCTGA', 'GCAGGCGGCGACGCGCAGGGTATGCGCGATTCG', \n",
    "       'GCGACCGCTCAGAAATTCCAGACCCGATCCAAA','TCAACATTATCAATTACAACCGACAGGGAGCC', \n",
    "       'AGCGTGTTCGGCATCACCTTTGGCTTCGGCTG', 'TGCGTGAGCGTATCGCCGCGCGTCTGCGAAAG']\n",
    "       \n",
    "K_2 = ['GACAGAACGGCCTCAGTAGTCTCGTCAGGCTC', 'CTGTTTTCGCAAATCTATGGACTATTGCTATT', \n",
    "       'GGGCGCACGGAATACAAAGCCGTGTATCTGCT', 'TGGCTCTGCAACAGCAGCACCCATGACCACGT', \n",
    "       'GAAATGCTGGTGAGCGTTAATGCCGCAAACAC', 'ATTACGCCTTTTTGCGATTGCCCGGTTTTTGC']"
   ]
  },
  {
   "cell_type": "code",
   "execution_count": 23,
   "metadata": {},
   "outputs": [
    {
     "name": "stderr",
     "output_type": "stream",
     "text": [
      "18it [00:00, 26287.42it/s]\n"
     ]
    }
   ],
   "source": [
    "X_ans = to_array([x[:32] for x in K_1 + K_2])"
   ]
  },
  {
   "cell_type": "code",
   "execution_count": 24,
   "metadata": {
    "collapsed": true
   },
   "outputs": [],
   "source": [
    "np.save(\"./data/npy/ES1_R1_ans\", X_ans)"
   ]
  },
  {
   "cell_type": "markdown",
   "metadata": {},
   "source": [
    "#### db "
   ]
  },
  {
   "cell_type": "code",
   "execution_count": 41,
   "metadata": {
    "collapsed": true
   },
   "outputs": [],
   "source": [
    "with open(\"./data/CRISPR_db_2109.txt\") as f:\n",
    "    lines = f.readlines()"
   ]
  },
  {
   "cell_type": "code",
   "execution_count": 46,
   "metadata": {
    "collapsed": true
   },
   "outputs": [],
   "source": [
    "lines_split = [[y for y in x.split(\"\\t\")[1:-1] if len(y) > 0] for x in lines] "
   ]
  },
  {
   "cell_type": "code",
   "execution_count": 52,
   "metadata": {
    "collapsed": true
   },
   "outputs": [],
   "source": [
    "all_spacers = set()"
   ]
  },
  {
   "cell_type": "code",
   "execution_count": 53,
   "metadata": {},
   "outputs": [
    {
     "name": "stderr",
     "output_type": "stream",
     "text": [
      "100%|██████████| 3058/3058 [00:00<00:00, 464094.57it/s]\n"
     ]
    }
   ],
   "source": [
    "for line in tqdm(lines_split):\n",
    "    for sp in line:\n",
    "        all_spacers.add(sp)"
   ]
  },
  {
   "cell_type": "code",
   "execution_count": 58,
   "metadata": {
    "collapsed": true
   },
   "outputs": [],
   "source": [
    "db = [x[:32] for x in list(all_spacers)]"
   ]
  },
  {
   "cell_type": "code",
   "execution_count": 60,
   "metadata": {
    "scrolled": true
   },
   "outputs": [
    {
     "name": "stderr",
     "output_type": "stream",
     "text": [
      "1759it [00:00, 59841.84it/s]\n"
     ]
    }
   ],
   "source": [
    "np.save(\"./data/npy/db\", to_array(db))"
   ]
  },
  {
   "cell_type": "markdown",
   "metadata": {},
   "source": [
    "# SAME"
   ]
  },
  {
   "cell_type": "code",
   "execution_count": 247,
   "metadata": {
    "collapsed": true
   },
   "outputs": [],
   "source": [
    "s = set(ans_3_31)"
   ]
  },
  {
   "cell_type": "code",
   "execution_count": 248,
   "metadata": {
    "collapsed": true
   },
   "outputs": [],
   "source": [
    "count = 0\n",
    "for l in [x[:31] for x in lines1]:\n",
    "    if l in s:\n",
    "        count += 1"
   ]
  },
  {
   "cell_type": "code",
   "execution_count": 249,
   "metadata": {},
   "outputs": [
    {
     "data": {
      "text/plain": [
       "171756"
      ]
     },
     "execution_count": 249,
     "metadata": {},
     "output_type": "execute_result"
    }
   ],
   "source": [
    "count"
   ]
  },
  {
   "cell_type": "code",
   "execution_count": 250,
   "metadata": {},
   "outputs": [
    {
     "data": {
      "text/plain": [
       "198255"
      ]
     },
     "execution_count": 250,
     "metadata": {},
     "output_type": "execute_result"
    }
   ],
   "source": [
    "len(lines1)"
   ]
  },
  {
   "cell_type": "markdown",
   "metadata": {
    "collapsed": true
   },
   "source": [
    "#### How about some noise?"
   ]
  },
  {
   "cell_type": "code",
   "execution_count": 23,
   "metadata": {
    "collapsed": true
   },
   "outputs": [],
   "source": [
    "db = np.load(\"../data/npy/db.npy\")"
   ]
  },
  {
   "cell_type": "code",
   "execution_count": 24,
   "metadata": {},
   "outputs": [
    {
     "data": {
      "text/plain": [
       "(1759, 128)"
      ]
     },
     "execution_count": 24,
     "metadata": {},
     "output_type": "execute_result"
    }
   ],
   "source": [
    "db.shape"
   ]
  },
  {
   "cell_type": "code",
   "execution_count": 7,
   "metadata": {
    "collapsed": true
   },
   "outputs": [],
   "source": [
    "noise_matrix_ES1 = np.load(\"../switch_probs_ES1.npy\")"
   ]
  },
  {
   "cell_type": "code",
   "execution_count": 28,
   "metadata": {},
   "outputs": [],
   "source": [
    "spacer_r = db[0].reshape(-1, 4)"
   ]
  },
  {
   "cell_type": "code",
   "execution_count": 31,
   "metadata": {},
   "outputs": [
    {
     "data": {
      "text/plain": [
       "3"
      ]
     },
     "execution_count": 31,
     "metadata": {},
     "output_type": "execute_result"
    }
   ],
   "source": [
    "np.where(spacer_r[0])[0][0]"
   ]
  },
  {
   "cell_type": "code",
   "execution_count": 97,
   "metadata": {},
   "outputs": [],
   "source": [
    "x, y = np.where(db.reshape(-1, 32, 4).sum(2) == 0)"
   ]
  },
  {
   "cell_type": "code",
   "execution_count": 99,
   "metadata": {},
   "outputs": [
    {
     "data": {
      "text/plain": [
       "(array([], dtype=int64), array([], dtype=int64))"
      ]
     },
     "execution_count": 99,
     "metadata": {},
     "output_type": "execute_result"
    }
   ],
   "source": [
    "np.where(db.reshape(-1, 32, 4).sum(2) == 0)"
   ]
  },
  {
   "cell_type": "code",
   "execution_count": 91,
   "metadata": {},
   "outputs": [
    {
     "data": {
      "text/plain": [
       "True"
      ]
     },
     "execution_count": 91,
     "metadata": {},
     "output_type": "execute_result"
    }
   ],
   "source": [
    "(db.reshape(-1, 32, 4).sum(2) == 0)[13][31]"
   ]
  },
  {
   "cell_type": "code",
   "execution_count": 98,
   "metadata": {
    "collapsed": true
   },
   "outputs": [],
   "source": [
    "for i, j in zip(x, y):\n",
    "    db[i][j * 4] = 1"
   ]
  },
  {
   "cell_type": "code",
   "execution_count": 45,
   "metadata": {},
   "outputs": [],
   "source": [
    "def add_noize_arr(spacer, mat):\n",
    "    spacer_r = spacer.reshape(-1, 4)\n",
    "    spacer_n = np.zeros_like(spacer_r)\n",
    "    for i, letter in enumerate(spacer_r):\n",
    "        #print(letter)\n",
    "        #print(np.where(letter)[0])\n",
    "        probs = mat[np.where(letter)[0][0]]\n",
    "        \n",
    "        letter_n = np.random.choice([0,1,2,3], p=probs)\n",
    "    \n",
    "        spacer_n[i][letter_n] = 1\n",
    "\n",
    "    #print(changes)\n",
    "    return spacer_n.flatten()"
   ]
  },
  {
   "cell_type": "code",
   "execution_count": 8,
   "metadata": {
    "collapsed": true
   },
   "outputs": [],
   "source": [
    "def add_noize(spacer, mat):\n",
    "    changes = 0\n",
    "    noized = []\n",
    "    for letter in spacer: \n",
    "        probs = mat[letter_to_num[letter]]\n",
    "        \n",
    "        letter_n = np.random.choice([\"A\",\"C\",\"T\",\"G\"], p=probs)\n",
    "        if letter != letter_n:\n",
    "            changes += 1\n",
    "            #print(letter, letter_n)\n",
    "        noized.append(letter_n)\n",
    "\n",
    "    #print(changes)\n",
    "    return ''.join(noized)"
   ]
  },
  {
   "cell_type": "code",
   "execution_count": 9,
   "metadata": {},
   "outputs": [
    {
     "data": {
      "text/plain": [
       "1.0"
      ]
     },
     "execution_count": 9,
     "metadata": {},
     "output_type": "execute_result"
    }
   ],
   "source": [
    "noise_matrix_ES1[0].sum()"
   ]
  },
  {
   "cell_type": "code",
   "execution_count": 76,
   "metadata": {
    "scrolled": true
   },
   "outputs": [
    {
     "name": "stdout",
     "output_type": "stream",
     "text": [
      "1.81 ms ± 47 µs per loop (mean ± std. dev. of 7 runs, 100 loops each)\n"
     ]
    }
   ],
   "source": [
    "%timeit add_noize_arr(db[0], noise_matrix_ES1)\n"
   ]
  },
  {
   "cell_type": "code",
   "execution_count": 207,
   "metadata": {},
   "outputs": [
    {
     "data": {
      "text/plain": [
       "array([[  9.97794183e-01,   1.94532712e-04,   2.43792069e-04,\n",
       "          1.76749250e-03],\n",
       "       [  1.07435481e-04,   9.99195923e-01,   6.22314958e-04,\n",
       "          7.43264336e-05],\n",
       "       [  2.57768403e-04,   1.78670327e-03,   9.97787611e-01,\n",
       "          1.67917703e-04],\n",
       "       [  5.78425309e-04,   8.16095114e-05,   1.05949190e-04,\n",
       "          9.99234016e-01]])"
      ]
     },
     "execution_count": 207,
     "metadata": {},
     "output_type": "execute_result"
    }
   ],
   "source": [
    "noise_matrix_ES1"
   ]
  },
  {
   "cell_type": "code",
   "execution_count": 108,
   "metadata": {
    "collapsed": true
   },
   "outputs": [],
   "source": [
    "num = 50000"
   ]
  },
  {
   "cell_type": "code",
   "execution_count": null,
   "metadata": {
    "scrolled": true
   },
   "outputs": [
    {
     "name": "stderr",
     "output_type": "stream",
     "text": [
      "100%|██████████| 1759/1759 [00:03<00:00, 477.51it/s]\n",
      "  3%|▎         | 49/1759 [00:00<00:03, 487.58it/s]"
     ]
    },
    {
     "name": "stdout",
     "output_type": "stream",
     "text": [
      "74\n"
     ]
    },
    {
     "name": "stderr",
     "output_type": "stream",
     "text": [
      "100%|██████████| 1759/1759 [00:03<00:00, 474.73it/s]\n",
      "  3%|▎         | 47/1759 [00:00<00:03, 462.68it/s]"
     ]
    },
    {
     "name": "stdout",
     "output_type": "stream",
     "text": [
      "142\n"
     ]
    },
    {
     "name": "stderr",
     "output_type": "stream",
     "text": [
      "100%|██████████| 1759/1759 [00:03<00:00, 474.83it/s]\n",
      "  2%|▏         | 41/1759 [00:00<00:04, 404.57it/s]"
     ]
    },
    {
     "name": "stdout",
     "output_type": "stream",
     "text": [
      "232\n"
     ]
    },
    {
     "name": "stderr",
     "output_type": "stream",
     "text": [
      "100%|██████████| 1759/1759 [00:03<00:00, 477.75it/s]\n",
      "  3%|▎         | 46/1759 [00:00<00:03, 451.63it/s]"
     ]
    },
    {
     "name": "stdout",
     "output_type": "stream",
     "text": [
      "308\n"
     ]
    },
    {
     "name": "stderr",
     "output_type": "stream",
     "text": [
      "100%|██████████| 1759/1759 [00:03<00:00, 475.26it/s]\n",
      "  3%|▎         | 49/1759 [00:00<00:03, 482.78it/s]"
     ]
    },
    {
     "name": "stdout",
     "output_type": "stream",
     "text": [
      "382\n"
     ]
    },
    {
     "name": "stderr",
     "output_type": "stream",
     "text": [
      "100%|██████████| 1759/1759 [00:03<00:00, 476.39it/s]\n",
      "  3%|▎         | 49/1759 [00:00<00:03, 489.56it/s]"
     ]
    },
    {
     "name": "stdout",
     "output_type": "stream",
     "text": [
      "473\n"
     ]
    },
    {
     "name": "stderr",
     "output_type": "stream",
     "text": [
      "100%|██████████| 1759/1759 [00:03<00:00, 472.45it/s]\n",
      "  3%|▎         | 51/1759 [00:00<00:03, 509.75it/s]"
     ]
    },
    {
     "name": "stdout",
     "output_type": "stream",
     "text": [
      "557\n"
     ]
    },
    {
     "name": "stderr",
     "output_type": "stream",
     "text": [
      "100%|██████████| 1759/1759 [00:03<00:00, 472.30it/s]\n",
      "  3%|▎         | 49/1759 [00:00<00:03, 482.94it/s]"
     ]
    },
    {
     "name": "stdout",
     "output_type": "stream",
     "text": [
      "648\n"
     ]
    },
    {
     "name": "stderr",
     "output_type": "stream",
     "text": [
      "100%|██████████| 1759/1759 [00:03<00:00, 475.15it/s]\n",
      "  3%|▎         | 44/1759 [00:00<00:03, 437.33it/s]"
     ]
    },
    {
     "name": "stdout",
     "output_type": "stream",
     "text": [
      "736\n"
     ]
    },
    {
     "name": "stderr",
     "output_type": "stream",
     "text": [
      "100%|██████████| 1759/1759 [00:03<00:00, 482.86it/s]\n",
      "  3%|▎         | 50/1759 [00:00<00:03, 496.73it/s]"
     ]
    },
    {
     "name": "stdout",
     "output_type": "stream",
     "text": [
      "821\n"
     ]
    },
    {
     "name": "stderr",
     "output_type": "stream",
     "text": [
      "100%|██████████| 1759/1759 [00:03<00:00, 484.43it/s]\n",
      "  3%|▎         | 44/1759 [00:00<00:03, 435.71it/s]"
     ]
    },
    {
     "name": "stdout",
     "output_type": "stream",
     "text": [
      "893\n"
     ]
    },
    {
     "name": "stderr",
     "output_type": "stream",
     "text": [
      "100%|██████████| 1759/1759 [00:03<00:00, 471.70it/s]\n",
      "  3%|▎         | 47/1759 [00:00<00:03, 469.10it/s]"
     ]
    },
    {
     "name": "stdout",
     "output_type": "stream",
     "text": [
      "981\n"
     ]
    },
    {
     "name": "stderr",
     "output_type": "stream",
     "text": [
      "100%|██████████| 1759/1759 [00:03<00:00, 464.60it/s]\n",
      "  3%|▎         | 47/1759 [00:00<00:03, 464.42it/s]"
     ]
    },
    {
     "name": "stdout",
     "output_type": "stream",
     "text": [
      "1060\n"
     ]
    },
    {
     "name": "stderr",
     "output_type": "stream",
     "text": [
      "100%|██████████| 1759/1759 [00:03<00:00, 478.00it/s]\n",
      "  3%|▎         | 45/1759 [00:00<00:03, 446.81it/s]"
     ]
    },
    {
     "name": "stdout",
     "output_type": "stream",
     "text": [
      "1140\n"
     ]
    },
    {
     "name": "stderr",
     "output_type": "stream",
     "text": [
      "100%|██████████| 1759/1759 [00:03<00:00, 451.19it/s]\n",
      "  3%|▎         | 47/1759 [00:00<00:03, 462.54it/s]"
     ]
    },
    {
     "name": "stdout",
     "output_type": "stream",
     "text": [
      "1222\n"
     ]
    },
    {
     "name": "stderr",
     "output_type": "stream",
     "text": [
      "100%|██████████| 1759/1759 [00:03<00:00, 455.85it/s]\n",
      "  3%|▎         | 51/1759 [00:00<00:03, 506.84it/s]"
     ]
    },
    {
     "name": "stdout",
     "output_type": "stream",
     "text": [
      "1297\n"
     ]
    },
    {
     "name": "stderr",
     "output_type": "stream",
     "text": [
      "100%|██████████| 1759/1759 [00:03<00:00, 476.62it/s]\n",
      "  3%|▎         | 50/1759 [00:00<00:03, 494.69it/s]"
     ]
    },
    {
     "name": "stdout",
     "output_type": "stream",
     "text": [
      "1388\n"
     ]
    },
    {
     "name": "stderr",
     "output_type": "stream",
     "text": [
      "100%|██████████| 1759/1759 [00:03<00:00, 480.37it/s]\n",
      "  3%|▎         | 47/1759 [00:00<00:03, 464.51it/s]"
     ]
    },
    {
     "name": "stdout",
     "output_type": "stream",
     "text": [
      "1474\n"
     ]
    },
    {
     "name": "stderr",
     "output_type": "stream",
     "text": [
      "100%|██████████| 1759/1759 [00:03<00:00, 470.85it/s]\n",
      "  3%|▎         | 51/1759 [00:00<00:03, 504.59it/s]"
     ]
    },
    {
     "name": "stdout",
     "output_type": "stream",
     "text": [
      "1549\n"
     ]
    },
    {
     "name": "stderr",
     "output_type": "stream",
     "text": [
      "100%|██████████| 1759/1759 [00:03<00:00, 483.90it/s]\n",
      "  3%|▎         | 51/1759 [00:00<00:03, 503.03it/s]"
     ]
    },
    {
     "name": "stdout",
     "output_type": "stream",
     "text": [
      "1620\n"
     ]
    },
    {
     "name": "stderr",
     "output_type": "stream",
     "text": [
      "100%|██████████| 1759/1759 [00:03<00:00, 473.22it/s]\n",
      "  3%|▎         | 46/1759 [00:00<00:03, 456.82it/s]"
     ]
    },
    {
     "name": "stdout",
     "output_type": "stream",
     "text": [
      "1691\n"
     ]
    },
    {
     "name": "stderr",
     "output_type": "stream",
     "text": [
      "100%|██████████| 1759/1759 [00:03<00:00, 473.11it/s]\n",
      "  3%|▎         | 46/1759 [00:00<00:03, 457.01it/s]"
     ]
    },
    {
     "name": "stdout",
     "output_type": "stream",
     "text": [
      "1758\n"
     ]
    },
    {
     "name": "stderr",
     "output_type": "stream",
     "text": [
      "100%|██████████| 1759/1759 [00:03<00:00, 472.90it/s]\n",
      "  3%|▎         | 46/1759 [00:00<00:03, 457.35it/s]"
     ]
    },
    {
     "name": "stdout",
     "output_type": "stream",
     "text": [
      "1833\n"
     ]
    },
    {
     "name": "stderr",
     "output_type": "stream",
     "text": [
      "100%|██████████| 1759/1759 [00:03<00:00, 479.52it/s]\n",
      "  3%|▎         | 47/1759 [00:00<00:03, 469.30it/s]"
     ]
    },
    {
     "name": "stdout",
     "output_type": "stream",
     "text": [
      "1908\n"
     ]
    },
    {
     "name": "stderr",
     "output_type": "stream",
     "text": [
      "100%|██████████| 1759/1759 [00:03<00:00, 470.78it/s]\n",
      "  3%|▎         | 47/1759 [00:00<00:03, 462.81it/s]"
     ]
    },
    {
     "name": "stdout",
     "output_type": "stream",
     "text": [
      "1992\n"
     ]
    },
    {
     "name": "stderr",
     "output_type": "stream",
     "text": [
      "100%|██████████| 1759/1759 [00:03<00:00, 476.14it/s]\n",
      "  3%|▎         | 49/1759 [00:00<00:03, 486.19it/s]"
     ]
    },
    {
     "name": "stdout",
     "output_type": "stream",
     "text": [
      "2059\n"
     ]
    },
    {
     "name": "stderr",
     "output_type": "stream",
     "text": [
      "100%|██████████| 1759/1759 [00:03<00:00, 464.57it/s]\n",
      "  3%|▎         | 49/1759 [00:00<00:03, 486.44it/s]"
     ]
    },
    {
     "name": "stdout",
     "output_type": "stream",
     "text": [
      "2140\n"
     ]
    },
    {
     "name": "stderr",
     "output_type": "stream",
     "text": [
      "100%|██████████| 1759/1759 [00:03<00:00, 460.36it/s]\n",
      "  3%|▎         | 47/1759 [00:00<00:03, 467.78it/s]"
     ]
    },
    {
     "name": "stdout",
     "output_type": "stream",
     "text": [
      "2225\n"
     ]
    },
    {
     "name": "stderr",
     "output_type": "stream",
     "text": [
      "100%|██████████| 1759/1759 [00:03<00:00, 473.59it/s]\n",
      "  3%|▎         | 50/1759 [00:00<00:03, 491.67it/s]"
     ]
    },
    {
     "name": "stdout",
     "output_type": "stream",
     "text": [
      "2301\n"
     ]
    },
    {
     "name": "stderr",
     "output_type": "stream",
     "text": [
      "100%|██████████| 1759/1759 [00:03<00:00, 473.69it/s]\n",
      "  3%|▎         | 49/1759 [00:00<00:03, 486.88it/s]"
     ]
    },
    {
     "name": "stdout",
     "output_type": "stream",
     "text": [
      "2385\n"
     ]
    },
    {
     "name": "stderr",
     "output_type": "stream",
     "text": [
      "100%|██████████| 1759/1759 [00:03<00:00, 472.97it/s]\n",
      "  3%|▎         | 47/1759 [00:00<00:03, 466.12it/s]"
     ]
    },
    {
     "name": "stdout",
     "output_type": "stream",
     "text": [
      "2468\n"
     ]
    },
    {
     "name": "stderr",
     "output_type": "stream",
     "text": [
      "100%|██████████| 1759/1759 [00:03<00:00, 455.43it/s]\n",
      "  3%|▎         | 47/1759 [00:00<00:03, 462.73it/s]"
     ]
    },
    {
     "name": "stdout",
     "output_type": "stream",
     "text": [
      "2553\n"
     ]
    },
    {
     "name": "stderr",
     "output_type": "stream",
     "text": [
      "100%|██████████| 1759/1759 [00:03<00:00, 471.45it/s]\n",
      "  3%|▎         | 45/1759 [00:00<00:03, 442.41it/s]"
     ]
    },
    {
     "name": "stdout",
     "output_type": "stream",
     "text": [
      "2638\n"
     ]
    },
    {
     "name": "stderr",
     "output_type": "stream",
     "text": [
      "100%|██████████| 1759/1759 [00:03<00:00, 470.89it/s]\n",
      "  3%|▎         | 47/1759 [00:00<00:03, 467.22it/s]"
     ]
    },
    {
     "name": "stdout",
     "output_type": "stream",
     "text": [
      "2717\n"
     ]
    },
    {
     "name": "stderr",
     "output_type": "stream",
     "text": [
      "100%|██████████| 1759/1759 [00:03<00:00, 478.92it/s]\n",
      "  3%|▎         | 50/1759 [00:00<00:03, 495.63it/s]"
     ]
    },
    {
     "name": "stdout",
     "output_type": "stream",
     "text": [
      "2801\n"
     ]
    },
    {
     "name": "stderr",
     "output_type": "stream",
     "text": [
      "100%|██████████| 1759/1759 [00:03<00:00, 485.72it/s]\n",
      "  3%|▎         | 50/1759 [00:00<00:03, 490.85it/s]"
     ]
    },
    {
     "name": "stdout",
     "output_type": "stream",
     "text": [
      "2880\n"
     ]
    },
    {
     "name": "stderr",
     "output_type": "stream",
     "text": [
      "100%|██████████| 1759/1759 [00:03<00:00, 480.83it/s]\n",
      "  3%|▎         | 48/1759 [00:00<00:03, 473.72it/s]"
     ]
    },
    {
     "name": "stdout",
     "output_type": "stream",
     "text": [
      "2955\n"
     ]
    },
    {
     "name": "stderr",
     "output_type": "stream",
     "text": [
      "100%|██████████| 1759/1759 [00:03<00:00, 484.73it/s]\n",
      "  3%|▎         | 51/1759 [00:00<00:03, 503.02it/s]"
     ]
    },
    {
     "name": "stdout",
     "output_type": "stream",
     "text": [
      "3026\n"
     ]
    },
    {
     "name": "stderr",
     "output_type": "stream",
     "text": [
      "100%|██████████| 1759/1759 [00:03<00:00, 486.21it/s]\n",
      "  3%|▎         | 46/1759 [00:00<00:03, 455.48it/s]"
     ]
    },
    {
     "name": "stdout",
     "output_type": "stream",
     "text": [
      "3093\n"
     ]
    },
    {
     "name": "stderr",
     "output_type": "stream",
     "text": [
      "100%|██████████| 1759/1759 [00:03<00:00, 465.02it/s]\n",
      "  3%|▎         | 48/1759 [00:00<00:03, 475.55it/s]"
     ]
    },
    {
     "name": "stdout",
     "output_type": "stream",
     "text": [
      "3177\n"
     ]
    },
    {
     "name": "stderr",
     "output_type": "stream",
     "text": [
      "100%|██████████| 1759/1759 [00:03<00:00, 471.60it/s]\n",
      "  3%|▎         | 48/1759 [00:00<00:03, 475.00it/s]"
     ]
    },
    {
     "name": "stdout",
     "output_type": "stream",
     "text": [
      "3267\n"
     ]
    },
    {
     "name": "stderr",
     "output_type": "stream",
     "text": [
      "100%|██████████| 1759/1759 [00:03<00:00, 477.40it/s]\n",
      "  3%|▎         | 48/1759 [00:00<00:03, 477.64it/s]"
     ]
    },
    {
     "name": "stdout",
     "output_type": "stream",
     "text": [
      "3353\n"
     ]
    },
    {
     "name": "stderr",
     "output_type": "stream",
     "text": [
      "100%|██████████| 1759/1759 [00:03<00:00, 472.50it/s]\n",
      "  3%|▎         | 51/1759 [00:00<00:03, 500.86it/s]"
     ]
    },
    {
     "name": "stdout",
     "output_type": "stream",
     "text": [
      "3416\n"
     ]
    },
    {
     "name": "stderr",
     "output_type": "stream",
     "text": [
      "100%|██████████| 1759/1759 [00:03<00:00, 476.13it/s]\n",
      "  3%|▎         | 49/1759 [00:00<00:03, 481.67it/s]"
     ]
    },
    {
     "name": "stdout",
     "output_type": "stream",
     "text": [
      "3495\n"
     ]
    },
    {
     "name": "stderr",
     "output_type": "stream",
     "text": [
      "100%|██████████| 1759/1759 [00:03<00:00, 480.64it/s]\n",
      "  3%|▎         | 50/1759 [00:00<00:03, 496.34it/s]"
     ]
    },
    {
     "name": "stdout",
     "output_type": "stream",
     "text": [
      "3576\n"
     ]
    },
    {
     "name": "stderr",
     "output_type": "stream",
     "text": [
      "100%|██████████| 1759/1759 [00:03<00:00, 481.11it/s]\n",
      "  3%|▎         | 45/1759 [00:00<00:03, 449.79it/s]"
     ]
    },
    {
     "name": "stdout",
     "output_type": "stream",
     "text": [
      "3675\n"
     ]
    },
    {
     "name": "stderr",
     "output_type": "stream",
     "text": [
      "100%|██████████| 1759/1759 [00:03<00:00, 482.20it/s]\n",
      "  3%|▎         | 50/1759 [00:00<00:03, 494.97it/s]"
     ]
    },
    {
     "name": "stdout",
     "output_type": "stream",
     "text": [
      "3743\n"
     ]
    },
    {
     "name": "stderr",
     "output_type": "stream",
     "text": [
      "100%|██████████| 1759/1759 [00:03<00:00, 485.51it/s]\n",
      "  3%|▎         | 50/1759 [00:00<00:03, 493.38it/s]"
     ]
    },
    {
     "name": "stdout",
     "output_type": "stream",
     "text": [
      "3827\n"
     ]
    },
    {
     "name": "stderr",
     "output_type": "stream",
     "text": [
      "100%|██████████| 1759/1759 [00:03<00:00, 477.82it/s]\n",
      "  3%|▎         | 50/1759 [00:00<00:03, 491.06it/s]"
     ]
    },
    {
     "name": "stdout",
     "output_type": "stream",
     "text": [
      "3913\n"
     ]
    },
    {
     "name": "stderr",
     "output_type": "stream",
     "text": [
      "100%|██████████| 1759/1759 [00:03<00:00, 472.17it/s]\n",
      "  3%|▎         | 47/1759 [00:00<00:03, 467.28it/s]"
     ]
    },
    {
     "name": "stdout",
     "output_type": "stream",
     "text": [
      "3989\n"
     ]
    },
    {
     "name": "stderr",
     "output_type": "stream",
     "text": [
      "100%|██████████| 1759/1759 [00:03<00:00, 454.38it/s]\n",
      "  3%|▎         | 46/1759 [00:00<00:03, 452.17it/s]"
     ]
    },
    {
     "name": "stdout",
     "output_type": "stream",
     "text": [
      "4091\n"
     ]
    },
    {
     "name": "stderr",
     "output_type": "stream",
     "text": [
      "100%|██████████| 1759/1759 [00:03<00:00, 466.79it/s]\n",
      "  3%|▎         | 51/1759 [00:00<00:03, 502.25it/s]"
     ]
    },
    {
     "name": "stdout",
     "output_type": "stream",
     "text": [
      "4164\n"
     ]
    },
    {
     "name": "stderr",
     "output_type": "stream",
     "text": [
      "100%|██████████| 1759/1759 [00:03<00:00, 481.03it/s]\n",
      "  3%|▎         | 47/1759 [00:00<00:03, 461.83it/s]"
     ]
    },
    {
     "name": "stdout",
     "output_type": "stream",
     "text": [
      "4242\n"
     ]
    },
    {
     "name": "stderr",
     "output_type": "stream",
     "text": [
      "100%|██████████| 1759/1759 [00:03<00:00, 474.52it/s]\n",
      "  3%|▎         | 47/1759 [00:00<00:03, 468.01it/s]"
     ]
    },
    {
     "name": "stdout",
     "output_type": "stream",
     "text": [
      "4317\n"
     ]
    },
    {
     "name": "stderr",
     "output_type": "stream",
     "text": [
      "100%|██████████| 1759/1759 [00:03<00:00, 480.33it/s]\n",
      "  3%|▎         | 51/1759 [00:00<00:03, 508.33it/s]"
     ]
    },
    {
     "name": "stdout",
     "output_type": "stream",
     "text": [
      "4406\n"
     ]
    },
    {
     "name": "stderr",
     "output_type": "stream",
     "text": [
      "100%|██████████| 1759/1759 [00:03<00:00, 482.60it/s]\n",
      "  3%|▎         | 44/1759 [00:00<00:03, 430.43it/s]"
     ]
    },
    {
     "name": "stdout",
     "output_type": "stream",
     "text": [
      "4501\n"
     ]
    },
    {
     "name": "stderr",
     "output_type": "stream",
     "text": [
      "100%|██████████| 1759/1759 [00:03<00:00, 482.75it/s]\n",
      "  3%|▎         | 51/1759 [00:00<00:03, 509.61it/s]"
     ]
    },
    {
     "name": "stdout",
     "output_type": "stream",
     "text": [
      "4574\n"
     ]
    },
    {
     "name": "stderr",
     "output_type": "stream",
     "text": [
      "100%|██████████| 1759/1759 [00:03<00:00, 475.67it/s]\n",
      "  3%|▎         | 50/1759 [00:00<00:03, 494.10it/s]"
     ]
    },
    {
     "name": "stdout",
     "output_type": "stream",
     "text": [
      "4654\n"
     ]
    },
    {
     "name": "stderr",
     "output_type": "stream",
     "text": [
      "100%|██████████| 1759/1759 [00:03<00:00, 472.19it/s]\n",
      "  3%|▎         | 49/1759 [00:00<00:03, 485.48it/s]"
     ]
    },
    {
     "name": "stdout",
     "output_type": "stream",
     "text": [
      "4723\n"
     ]
    },
    {
     "name": "stderr",
     "output_type": "stream",
     "text": [
      "100%|██████████| 1759/1759 [00:03<00:00, 475.37it/s]\n",
      "  3%|▎         | 50/1759 [00:00<00:03, 488.60it/s]"
     ]
    },
    {
     "name": "stdout",
     "output_type": "stream",
     "text": [
      "4805\n"
     ]
    },
    {
     "name": "stderr",
     "output_type": "stream",
     "text": [
      "100%|██████████| 1759/1759 [00:03<00:00, 479.91it/s]\n",
      "  3%|▎         | 47/1759 [00:00<00:03, 467.95it/s]"
     ]
    },
    {
     "name": "stdout",
     "output_type": "stream",
     "text": [
      "4885\n"
     ]
    },
    {
     "name": "stderr",
     "output_type": "stream",
     "text": [
      "100%|██████████| 1759/1759 [00:03<00:00, 480.46it/s]\n",
      "  3%|▎         | 51/1759 [00:00<00:03, 502.65it/s]"
     ]
    },
    {
     "name": "stdout",
     "output_type": "stream",
     "text": [
      "4976\n"
     ]
    },
    {
     "name": "stderr",
     "output_type": "stream",
     "text": [
      " 30%|███       | 530/1759 [00:01<00:02, 475.87it/s]\n",
      "  0%|          | 0/1759 [00:00<?, ?it/s]\n",
      "  0%|          | 0/1759 [00:00<?, ?it/s]\n",
      "  0%|          | 0/1759 [00:00<?, ?it/s]\n",
      "  3%|▎         | 50/1759 [00:00<00:03, 491.85it/s]"
     ]
    },
    {
     "name": "stdout",
     "output_type": "stream",
     "text": [
      "5000\n",
      "5000\n",
      "5000\n",
      "5000\n"
     ]
    },
    {
     "name": "stderr",
     "output_type": "stream",
     "text": [
      "100%|██████████| 1759/1759 [00:03<00:00, 480.68it/s]\n",
      "  3%|▎         | 51/1759 [00:00<00:03, 504.42it/s]"
     ]
    },
    {
     "name": "stdout",
     "output_type": "stream",
     "text": [
      "5079\n"
     ]
    },
    {
     "name": "stderr",
     "output_type": "stream",
     "text": [
      "100%|██████████| 1759/1759 [00:03<00:00, 488.67it/s]\n",
      "  3%|▎         | 49/1759 [00:00<00:03, 489.09it/s]"
     ]
    },
    {
     "name": "stdout",
     "output_type": "stream",
     "text": [
      "5168\n"
     ]
    },
    {
     "name": "stderr",
     "output_type": "stream",
     "text": [
      "100%|██████████| 1759/1759 [00:03<00:00, 485.97it/s]\n",
      "  3%|▎         | 51/1759 [00:00<00:03, 502.70it/s]"
     ]
    },
    {
     "name": "stdout",
     "output_type": "stream",
     "text": [
      "5254\n"
     ]
    },
    {
     "name": "stderr",
     "output_type": "stream",
     "text": [
      "100%|██████████| 1759/1759 [00:03<00:00, 474.19it/s]\n",
      "  3%|▎         | 51/1759 [00:00<00:03, 508.07it/s]"
     ]
    },
    {
     "name": "stdout",
     "output_type": "stream",
     "text": [
      "5338\n"
     ]
    },
    {
     "name": "stderr",
     "output_type": "stream",
     "text": [
      "100%|██████████| 1759/1759 [00:03<00:00, 478.95it/s]\n",
      "  3%|▎         | 48/1759 [00:00<00:03, 471.87it/s]"
     ]
    },
    {
     "name": "stdout",
     "output_type": "stream",
     "text": [
      "5430\n"
     ]
    },
    {
     "name": "stderr",
     "output_type": "stream",
     "text": [
      "100%|██████████| 1759/1759 [00:03<00:00, 480.13it/s]\n",
      "  3%|▎         | 48/1759 [00:00<00:03, 470.41it/s]"
     ]
    },
    {
     "name": "stdout",
     "output_type": "stream",
     "text": [
      "5505\n"
     ]
    },
    {
     "name": "stderr",
     "output_type": "stream",
     "text": [
      "100%|██████████| 1759/1759 [00:03<00:00, 483.34it/s]\n",
      "  3%|▎         | 51/1759 [00:00<00:03, 504.76it/s]"
     ]
    },
    {
     "name": "stdout",
     "output_type": "stream",
     "text": [
      "5573\n"
     ]
    },
    {
     "name": "stderr",
     "output_type": "stream",
     "text": [
      "100%|██████████| 1759/1759 [00:03<00:00, 477.45it/s]\n",
      "  3%|▎         | 50/1759 [00:00<00:03, 495.87it/s]"
     ]
    },
    {
     "name": "stdout",
     "output_type": "stream",
     "text": [
      "5654\n"
     ]
    },
    {
     "name": "stderr",
     "output_type": "stream",
     "text": [
      "100%|██████████| 1759/1759 [00:03<00:00, 479.22it/s]\n",
      "  3%|▎         | 51/1759 [00:00<00:03, 504.13it/s]"
     ]
    },
    {
     "name": "stdout",
     "output_type": "stream",
     "text": [
      "5731\n"
     ]
    },
    {
     "name": "stderr",
     "output_type": "stream",
     "text": [
      "100%|██████████| 1759/1759 [00:03<00:00, 481.32it/s]\n",
      "  3%|▎         | 51/1759 [00:00<00:03, 500.84it/s]"
     ]
    },
    {
     "name": "stdout",
     "output_type": "stream",
     "text": [
      "5802\n"
     ]
    },
    {
     "name": "stderr",
     "output_type": "stream",
     "text": [
      "100%|██████████| 1759/1759 [00:03<00:00, 485.24it/s]\n",
      "  3%|▎         | 50/1759 [00:00<00:03, 494.89it/s]"
     ]
    },
    {
     "name": "stdout",
     "output_type": "stream",
     "text": [
      "5858\n"
     ]
    },
    {
     "name": "stderr",
     "output_type": "stream",
     "text": [
      "100%|██████████| 1759/1759 [00:03<00:00, 480.85it/s]\n",
      "  3%|▎         | 48/1759 [00:00<00:03, 479.74it/s]"
     ]
    },
    {
     "name": "stdout",
     "output_type": "stream",
     "text": [
      "5933\n"
     ]
    },
    {
     "name": "stderr",
     "output_type": "stream",
     "text": [
      "100%|██████████| 1759/1759 [00:03<00:00, 480.53it/s]\n",
      "  3%|▎         | 47/1759 [00:00<00:03, 469.45it/s]"
     ]
    },
    {
     "name": "stdout",
     "output_type": "stream",
     "text": [
      "6006\n"
     ]
    },
    {
     "name": "stderr",
     "output_type": "stream",
     "text": [
      "100%|██████████| 1759/1759 [00:03<00:00, 466.04it/s]\n",
      "  3%|▎         | 47/1759 [00:00<00:03, 463.33it/s]"
     ]
    },
    {
     "name": "stdout",
     "output_type": "stream",
     "text": [
      "6089\n"
     ]
    },
    {
     "name": "stderr",
     "output_type": "stream",
     "text": [
      "100%|██████████| 1759/1759 [00:03<00:00, 467.31it/s]\n",
      "  3%|▎         | 49/1759 [00:00<00:03, 483.87it/s]"
     ]
    },
    {
     "name": "stdout",
     "output_type": "stream",
     "text": [
      "6169\n"
     ]
    },
    {
     "name": "stderr",
     "output_type": "stream",
     "text": [
      "100%|██████████| 1759/1759 [00:03<00:00, 470.56it/s]\n",
      "  3%|▎         | 48/1759 [00:00<00:03, 478.65it/s]"
     ]
    },
    {
     "name": "stdout",
     "output_type": "stream",
     "text": [
      "6241\n"
     ]
    },
    {
     "name": "stderr",
     "output_type": "stream",
     "text": [
      "100%|██████████| 1759/1759 [00:03<00:00, 467.26it/s]\n",
      "  2%|▏         | 43/1759 [00:00<00:04, 427.57it/s]"
     ]
    },
    {
     "name": "stdout",
     "output_type": "stream",
     "text": [
      "6319\n"
     ]
    },
    {
     "name": "stderr",
     "output_type": "stream",
     "text": [
      "100%|██████████| 1759/1759 [00:03<00:00, 447.54it/s]\n",
      "  3%|▎         | 44/1759 [00:00<00:03, 436.30it/s]"
     ]
    },
    {
     "name": "stdout",
     "output_type": "stream",
     "text": [
      "6397\n"
     ]
    },
    {
     "name": "stderr",
     "output_type": "stream",
     "text": [
      "100%|██████████| 1759/1759 [00:03<00:00, 456.47it/s]\n",
      "  3%|▎         | 50/1759 [00:00<00:03, 494.91it/s]"
     ]
    },
    {
     "name": "stdout",
     "output_type": "stream",
     "text": [
      "6470\n"
     ]
    },
    {
     "name": "stderr",
     "output_type": "stream",
     "text": [
      "100%|██████████| 1759/1759 [00:03<00:00, 465.75it/s]\n",
      "  3%|▎         | 46/1759 [00:00<00:03, 458.90it/s]"
     ]
    },
    {
     "name": "stdout",
     "output_type": "stream",
     "text": [
      "6549\n"
     ]
    },
    {
     "name": "stderr",
     "output_type": "stream",
     "text": [
      "100%|██████████| 1759/1759 [00:03<00:00, 470.43it/s]\n",
      "  3%|▎         | 47/1759 [00:00<00:03, 465.17it/s]"
     ]
    },
    {
     "name": "stdout",
     "output_type": "stream",
     "text": [
      "6629\n"
     ]
    },
    {
     "name": "stderr",
     "output_type": "stream",
     "text": [
      "100%|██████████| 1759/1759 [00:03<00:00, 469.74it/s]\n",
      "  3%|▎         | 48/1759 [00:00<00:03, 478.28it/s]"
     ]
    },
    {
     "name": "stdout",
     "output_type": "stream",
     "text": [
      "6716\n"
     ]
    },
    {
     "name": "stderr",
     "output_type": "stream",
     "text": [
      "100%|██████████| 1759/1759 [00:03<00:00, 480.63it/s]\n",
      "  3%|▎         | 48/1759 [00:00<00:03, 476.34it/s]"
     ]
    },
    {
     "name": "stdout",
     "output_type": "stream",
     "text": [
      "6799\n"
     ]
    },
    {
     "name": "stderr",
     "output_type": "stream",
     "text": [
      "100%|██████████| 1759/1759 [00:03<00:00, 471.76it/s]\n",
      "  3%|▎         | 48/1759 [00:00<00:03, 474.25it/s]"
     ]
    },
    {
     "name": "stdout",
     "output_type": "stream",
     "text": [
      "6874\n"
     ]
    },
    {
     "name": "stderr",
     "output_type": "stream",
     "text": [
      "100%|██████████| 1759/1759 [00:03<00:00, 474.68it/s]\n",
      "  3%|▎         | 52/1759 [00:00<00:03, 510.70it/s]"
     ]
    },
    {
     "name": "stdout",
     "output_type": "stream",
     "text": [
      "6956\n"
     ]
    },
    {
     "name": "stderr",
     "output_type": "stream",
     "text": [
      "100%|██████████| 1759/1759 [00:03<00:00, 478.12it/s]\n",
      "  3%|▎         | 46/1759 [00:00<00:03, 458.30it/s]"
     ]
    },
    {
     "name": "stdout",
     "output_type": "stream",
     "text": [
      "7022\n"
     ]
    },
    {
     "name": "stderr",
     "output_type": "stream",
     "text": [
      "100%|██████████| 1759/1759 [00:03<00:00, 469.29it/s]\n",
      "  3%|▎         | 51/1759 [00:00<00:03, 501.22it/s]"
     ]
    },
    {
     "name": "stdout",
     "output_type": "stream",
     "text": [
      "7096\n"
     ]
    },
    {
     "name": "stderr",
     "output_type": "stream",
     "text": [
      "100%|██████████| 1759/1759 [00:03<00:00, 459.82it/s]\n",
      "  3%|▎         | 45/1759 [00:00<00:03, 442.46it/s]"
     ]
    },
    {
     "name": "stdout",
     "output_type": "stream",
     "text": [
      "7169\n"
     ]
    },
    {
     "name": "stderr",
     "output_type": "stream",
     "text": [
      "100%|██████████| 1759/1759 [00:03<00:00, 478.78it/s]\n",
      "  3%|▎         | 45/1759 [00:00<00:03, 447.64it/s]"
     ]
    },
    {
     "name": "stdout",
     "output_type": "stream",
     "text": [
      "7252\n"
     ]
    },
    {
     "name": "stderr",
     "output_type": "stream",
     "text": [
      "100%|██████████| 1759/1759 [00:03<00:00, 464.07it/s]\n",
      "  3%|▎         | 47/1759 [00:00<00:03, 465.38it/s]"
     ]
    },
    {
     "name": "stdout",
     "output_type": "stream",
     "text": [
      "7329\n"
     ]
    },
    {
     "name": "stderr",
     "output_type": "stream",
     "text": [
      "100%|██████████| 1759/1759 [00:03<00:00, 484.24it/s]\n",
      "  3%|▎         | 46/1759 [00:00<00:03, 458.58it/s]"
     ]
    },
    {
     "name": "stdout",
     "output_type": "stream",
     "text": [
      "7413\n"
     ]
    },
    {
     "name": "stderr",
     "output_type": "stream",
     "text": [
      "100%|██████████| 1759/1759 [00:03<00:00, 454.78it/s]\n",
      "  3%|▎         | 50/1759 [00:00<00:03, 490.85it/s]"
     ]
    },
    {
     "name": "stdout",
     "output_type": "stream",
     "text": [
      "7493\n"
     ]
    },
    {
     "name": "stderr",
     "output_type": "stream",
     "text": [
      "100%|██████████| 1759/1759 [00:03<00:00, 467.66it/s]\n",
      "  3%|▎         | 45/1759 [00:00<00:03, 449.33it/s]"
     ]
    },
    {
     "name": "stdout",
     "output_type": "stream",
     "text": [
      "7578\n"
     ]
    },
    {
     "name": "stderr",
     "output_type": "stream",
     "text": [
      "100%|██████████| 1759/1759 [00:03<00:00, 460.61it/s]\n",
      "  3%|▎         | 45/1759 [00:00<00:03, 447.08it/s]"
     ]
    },
    {
     "name": "stdout",
     "output_type": "stream",
     "text": [
      "7650\n"
     ]
    },
    {
     "name": "stderr",
     "output_type": "stream",
     "text": [
      "100%|██████████| 1759/1759 [00:03<00:00, 450.62it/s]\n",
      "  3%|▎         | 45/1759 [00:00<00:03, 445.47it/s]"
     ]
    },
    {
     "name": "stdout",
     "output_type": "stream",
     "text": [
      "7722\n"
     ]
    },
    {
     "name": "stderr",
     "output_type": "stream",
     "text": [
      "100%|██████████| 1759/1759 [00:03<00:00, 449.40it/s]\n",
      "  3%|▎         | 44/1759 [00:00<00:03, 438.62it/s]"
     ]
    },
    {
     "name": "stdout",
     "output_type": "stream",
     "text": [
      "7820\n"
     ]
    },
    {
     "name": "stderr",
     "output_type": "stream",
     "text": [
      "100%|██████████| 1759/1759 [00:03<00:00, 452.34it/s]\n",
      "  3%|▎         | 44/1759 [00:00<00:03, 438.38it/s]"
     ]
    },
    {
     "name": "stdout",
     "output_type": "stream",
     "text": [
      "7907\n"
     ]
    },
    {
     "name": "stderr",
     "output_type": "stream",
     "text": [
      "100%|██████████| 1759/1759 [00:03<00:00, 462.09it/s]\n",
      "  3%|▎         | 51/1759 [00:00<00:03, 501.40it/s]"
     ]
    },
    {
     "name": "stdout",
     "output_type": "stream",
     "text": [
      "7962\n"
     ]
    },
    {
     "name": "stderr",
     "output_type": "stream",
     "text": [
      "100%|██████████| 1759/1759 [00:03<00:00, 472.44it/s]\n",
      "  3%|▎         | 52/1759 [00:00<00:03, 512.60it/s]"
     ]
    },
    {
     "name": "stdout",
     "output_type": "stream",
     "text": [
      "8041\n"
     ]
    },
    {
     "name": "stderr",
     "output_type": "stream",
     "text": [
      "100%|██████████| 1759/1759 [00:03<00:00, 482.99it/s]\n",
      "  3%|▎         | 48/1759 [00:00<00:03, 472.96it/s]"
     ]
    },
    {
     "name": "stdout",
     "output_type": "stream",
     "text": [
      "8135\n"
     ]
    },
    {
     "name": "stderr",
     "output_type": "stream",
     "text": [
      "100%|██████████| 1759/1759 [00:03<00:00, 471.73it/s]\n",
      "  3%|▎         | 51/1759 [00:00<00:03, 501.66it/s]"
     ]
    },
    {
     "name": "stdout",
     "output_type": "stream",
     "text": [
      "8227\n"
     ]
    },
    {
     "name": "stderr",
     "output_type": "stream",
     "text": [
      "100%|██████████| 1759/1759 [00:03<00:00, 461.48it/s]\n",
      "  3%|▎         | 45/1759 [00:00<00:03, 444.01it/s]"
     ]
    },
    {
     "name": "stdout",
     "output_type": "stream",
     "text": [
      "8310\n"
     ]
    },
    {
     "name": "stderr",
     "output_type": "stream",
     "text": [
      "100%|██████████| 1759/1759 [00:03<00:00, 470.55it/s]\n",
      "  3%|▎         | 49/1759 [00:00<00:03, 485.16it/s]"
     ]
    },
    {
     "name": "stdout",
     "output_type": "stream",
     "text": [
      "8392\n"
     ]
    },
    {
     "name": "stderr",
     "output_type": "stream",
     "text": [
      "100%|██████████| 1759/1759 [00:03<00:00, 479.28it/s]\n",
      "  3%|▎         | 49/1759 [00:00<00:03, 483.61it/s]"
     ]
    },
    {
     "name": "stdout",
     "output_type": "stream",
     "text": [
      "8474\n"
     ]
    },
    {
     "name": "stderr",
     "output_type": "stream",
     "text": [
      "100%|██████████| 1759/1759 [00:03<00:00, 481.43it/s]\n",
      "  2%|▏         | 42/1759 [00:00<00:04, 416.08it/s]"
     ]
    },
    {
     "name": "stdout",
     "output_type": "stream",
     "text": [
      "8557\n"
     ]
    },
    {
     "name": "stderr",
     "output_type": "stream",
     "text": [
      "100%|██████████| 1759/1759 [00:03<00:00, 484.14it/s]\n",
      "  3%|▎         | 46/1759 [00:00<00:03, 456.08it/s]"
     ]
    },
    {
     "name": "stdout",
     "output_type": "stream",
     "text": [
      "8653\n"
     ]
    },
    {
     "name": "stderr",
     "output_type": "stream",
     "text": [
      "100%|██████████| 1759/1759 [00:03<00:00, 486.71it/s]\n",
      "  3%|▎         | 48/1759 [00:00<00:03, 473.58it/s]"
     ]
    },
    {
     "name": "stdout",
     "output_type": "stream",
     "text": [
      "8734\n"
     ]
    },
    {
     "name": "stderr",
     "output_type": "stream",
     "text": [
      "100%|██████████| 1759/1759 [00:03<00:00, 468.31it/s]\n",
      "  3%|▎         | 47/1759 [00:00<00:03, 464.10it/s]"
     ]
    },
    {
     "name": "stdout",
     "output_type": "stream",
     "text": [
      "8817\n"
     ]
    },
    {
     "name": "stderr",
     "output_type": "stream",
     "text": [
      "100%|██████████| 1759/1759 [00:03<00:00, 456.63it/s]\n",
      "  2%|▏         | 42/1759 [00:00<00:04, 416.45it/s]"
     ]
    },
    {
     "name": "stdout",
     "output_type": "stream",
     "text": [
      "8901\n"
     ]
    },
    {
     "name": "stderr",
     "output_type": "stream",
     "text": [
      "100%|██████████| 1759/1759 [00:03<00:00, 449.48it/s]\n",
      "  3%|▎         | 46/1759 [00:00<00:03, 450.80it/s]"
     ]
    },
    {
     "name": "stdout",
     "output_type": "stream",
     "text": [
      "8996\n"
     ]
    },
    {
     "name": "stderr",
     "output_type": "stream",
     "text": [
      "100%|██████████| 1759/1759 [00:03<00:00, 471.77it/s]\n",
      "  2%|▏         | 41/1759 [00:00<00:04, 406.42it/s]"
     ]
    },
    {
     "name": "stdout",
     "output_type": "stream",
     "text": [
      "9090\n"
     ]
    },
    {
     "name": "stderr",
     "output_type": "stream",
     "text": [
      "100%|██████████| 1759/1759 [00:03<00:00, 468.76it/s]\n",
      "  3%|▎         | 47/1759 [00:00<00:03, 460.41it/s]"
     ]
    },
    {
     "name": "stdout",
     "output_type": "stream",
     "text": [
      "9162\n"
     ]
    },
    {
     "name": "stderr",
     "output_type": "stream",
     "text": [
      "100%|██████████| 1759/1759 [00:03<00:00, 468.93it/s]\n",
      "  3%|▎         | 47/1759 [00:00<00:03, 464.85it/s]"
     ]
    },
    {
     "name": "stdout",
     "output_type": "stream",
     "text": [
      "9248\n"
     ]
    },
    {
     "name": "stderr",
     "output_type": "stream",
     "text": [
      "100%|██████████| 1759/1759 [00:03<00:00, 477.58it/s]\n",
      "  3%|▎         | 50/1759 [00:00<00:03, 495.79it/s]"
     ]
    },
    {
     "name": "stdout",
     "output_type": "stream",
     "text": [
      "9334\n"
     ]
    },
    {
     "name": "stderr",
     "output_type": "stream",
     "text": [
      "100%|██████████| 1759/1759 [00:03<00:00, 477.73it/s]\n",
      "  3%|▎         | 50/1759 [00:00<00:03, 496.68it/s]"
     ]
    },
    {
     "name": "stdout",
     "output_type": "stream",
     "text": [
      "9416\n"
     ]
    },
    {
     "name": "stderr",
     "output_type": "stream",
     "text": [
      "100%|██████████| 1759/1759 [00:03<00:00, 468.80it/s]\n",
      "  3%|▎         | 48/1759 [00:00<00:03, 479.63it/s]"
     ]
    },
    {
     "name": "stdout",
     "output_type": "stream",
     "text": [
      "9506\n"
     ]
    },
    {
     "name": "stderr",
     "output_type": "stream",
     "text": [
      "100%|██████████| 1759/1759 [00:03<00:00, 473.17it/s]\n",
      "  3%|▎         | 49/1759 [00:00<00:03, 483.21it/s]"
     ]
    },
    {
     "name": "stdout",
     "output_type": "stream",
     "text": [
      "9607\n"
     ]
    },
    {
     "name": "stderr",
     "output_type": "stream",
     "text": [
      "100%|██████████| 1759/1759 [00:03<00:00, 485.02it/s]\n",
      "  3%|▎         | 52/1759 [00:00<00:03, 518.49it/s]"
     ]
    },
    {
     "name": "stdout",
     "output_type": "stream",
     "text": [
      "9681\n"
     ]
    },
    {
     "name": "stderr",
     "output_type": "stream",
     "text": [
      "100%|██████████| 1759/1759 [00:03<00:00, 487.38it/s]\n",
      "  2%|▏         | 42/1759 [00:00<00:04, 416.48it/s]"
     ]
    },
    {
     "name": "stdout",
     "output_type": "stream",
     "text": [
      "9767\n"
     ]
    },
    {
     "name": "stderr",
     "output_type": "stream",
     "text": [
      "100%|██████████| 1759/1759 [00:03<00:00, 478.36it/s]\n",
      "  3%|▎         | 46/1759 [00:00<00:03, 452.19it/s]"
     ]
    },
    {
     "name": "stdout",
     "output_type": "stream",
     "text": [
      "9834\n"
     ]
    },
    {
     "name": "stderr",
     "output_type": "stream",
     "text": [
      "100%|██████████| 1759/1759 [00:03<00:00, 463.91it/s]\n",
      "  3%|▎         | 51/1759 [00:00<00:03, 508.49it/s]"
     ]
    },
    {
     "name": "stdout",
     "output_type": "stream",
     "text": [
      "9928\n"
     ]
    },
    {
     "name": "stderr",
     "output_type": "stream",
     "text": [
      "100%|██████████| 1759/1759 [00:03<00:00, 486.24it/s]\n",
      "  3%|▎         | 48/1759 [00:00<00:03, 473.61it/s]"
     ]
    },
    {
     "name": "stdout",
     "output_type": "stream",
     "text": [
      "10031\n"
     ]
    },
    {
     "name": "stderr",
     "output_type": "stream",
     "text": [
      "100%|██████████| 1759/1759 [00:03<00:00, 486.09it/s]\n",
      "  3%|▎         | 50/1759 [00:00<00:03, 497.54it/s]"
     ]
    },
    {
     "name": "stdout",
     "output_type": "stream",
     "text": [
      "10109\n"
     ]
    },
    {
     "name": "stderr",
     "output_type": "stream",
     "text": [
      "100%|██████████| 1759/1759 [00:03<00:00, 482.42it/s]\n",
      "  3%|▎         | 48/1759 [00:00<00:03, 479.03it/s]"
     ]
    },
    {
     "name": "stdout",
     "output_type": "stream",
     "text": [
      "10217\n"
     ]
    },
    {
     "name": "stderr",
     "output_type": "stream",
     "text": [
      "100%|██████████| 1759/1759 [00:03<00:00, 479.13it/s]\n",
      "  3%|▎         | 50/1759 [00:00<00:03, 493.31it/s]"
     ]
    },
    {
     "name": "stdout",
     "output_type": "stream",
     "text": [
      "10286\n"
     ]
    },
    {
     "name": "stderr",
     "output_type": "stream",
     "text": [
      "100%|██████████| 1759/1759 [00:03<00:00, 481.04it/s]\n",
      "  3%|▎         | 48/1759 [00:00<00:03, 473.57it/s]"
     ]
    },
    {
     "name": "stdout",
     "output_type": "stream",
     "text": [
      "10383\n"
     ]
    },
    {
     "name": "stderr",
     "output_type": "stream",
     "text": [
      "100%|██████████| 1759/1759 [00:03<00:00, 485.62it/s]\n",
      "  3%|▎         | 48/1759 [00:00<00:03, 476.13it/s]"
     ]
    },
    {
     "name": "stdout",
     "output_type": "stream",
     "text": [
      "10476\n"
     ]
    },
    {
     "name": "stderr",
     "output_type": "stream",
     "text": [
      "100%|██████████| 1759/1759 [00:03<00:00, 476.55it/s]\n",
      "  3%|▎         | 50/1759 [00:00<00:03, 499.53it/s]"
     ]
    },
    {
     "name": "stdout",
     "output_type": "stream",
     "text": [
      "10565\n"
     ]
    },
    {
     "name": "stderr",
     "output_type": "stream",
     "text": [
      "100%|██████████| 1759/1759 [00:03<00:00, 470.01it/s]\n",
      "  3%|▎         | 50/1759 [00:00<00:03, 499.41it/s]"
     ]
    },
    {
     "name": "stdout",
     "output_type": "stream",
     "text": [
      "10651\n"
     ]
    },
    {
     "name": "stderr",
     "output_type": "stream",
     "text": [
      "100%|██████████| 1759/1759 [00:03<00:00, 476.58it/s]\n",
      "  3%|▎         | 49/1759 [00:00<00:03, 489.34it/s]"
     ]
    },
    {
     "name": "stdout",
     "output_type": "stream",
     "text": [
      "10728\n"
     ]
    },
    {
     "name": "stderr",
     "output_type": "stream",
     "text": [
      "100%|██████████| 1759/1759 [00:03<00:00, 482.52it/s]\n",
      "  3%|▎         | 52/1759 [00:00<00:03, 519.52it/s]"
     ]
    },
    {
     "name": "stdout",
     "output_type": "stream",
     "text": [
      "10810\n"
     ]
    },
    {
     "name": "stderr",
     "output_type": "stream",
     "text": [
      "100%|██████████| 1759/1759 [00:03<00:00, 482.01it/s]\n",
      "  3%|▎         | 48/1759 [00:00<00:03, 474.72it/s]"
     ]
    },
    {
     "name": "stdout",
     "output_type": "stream",
     "text": [
      "10894\n"
     ]
    },
    {
     "name": "stderr",
     "output_type": "stream",
     "text": [
      "100%|██████████| 1759/1759 [00:03<00:00, 482.33it/s]\n",
      "  3%|▎         | 48/1759 [00:00<00:03, 472.83it/s]"
     ]
    },
    {
     "name": "stdout",
     "output_type": "stream",
     "text": [
      "10965\n"
     ]
    },
    {
     "name": "stderr",
     "output_type": "stream",
     "text": [
      "100%|██████████| 1759/1759 [00:03<00:00, 482.90it/s]\n",
      "  3%|▎         | 50/1759 [00:00<00:03, 491.40it/s]"
     ]
    },
    {
     "name": "stdout",
     "output_type": "stream",
     "text": [
      "11049\n"
     ]
    },
    {
     "name": "stderr",
     "output_type": "stream",
     "text": [
      "100%|██████████| 1759/1759 [00:03<00:00, 477.19it/s]\n",
      "  3%|▎         | 49/1759 [00:00<00:03, 486.80it/s]"
     ]
    },
    {
     "name": "stdout",
     "output_type": "stream",
     "text": [
      "11140\n"
     ]
    },
    {
     "name": "stderr",
     "output_type": "stream",
     "text": [
      "100%|██████████| 1759/1759 [00:03<00:00, 481.47it/s]\n",
      "  3%|▎         | 50/1759 [00:00<00:03, 491.50it/s]"
     ]
    },
    {
     "name": "stdout",
     "output_type": "stream",
     "text": [
      "11227\n"
     ]
    },
    {
     "name": "stderr",
     "output_type": "stream",
     "text": [
      "100%|██████████| 1759/1759 [00:03<00:00, 491.21it/s]\n",
      "  3%|▎         | 52/1759 [00:00<00:03, 510.84it/s]"
     ]
    },
    {
     "name": "stdout",
     "output_type": "stream",
     "text": [
      "11299\n"
     ]
    },
    {
     "name": "stderr",
     "output_type": "stream",
     "text": [
      "100%|██████████| 1759/1759 [00:03<00:00, 482.25it/s]\n",
      "  3%|▎         | 51/1759 [00:00<00:03, 503.90it/s]"
     ]
    },
    {
     "name": "stdout",
     "output_type": "stream",
     "text": [
      "11374\n"
     ]
    },
    {
     "name": "stderr",
     "output_type": "stream",
     "text": [
      "100%|██████████| 1759/1759 [00:03<00:00, 474.91it/s]\n",
      "  3%|▎         | 48/1759 [00:00<00:03, 479.10it/s]"
     ]
    },
    {
     "name": "stdout",
     "output_type": "stream",
     "text": [
      "11449\n"
     ]
    },
    {
     "name": "stderr",
     "output_type": "stream",
     "text": [
      "100%|██████████| 1759/1759 [00:03<00:00, 476.86it/s]\n",
      "  3%|▎         | 49/1759 [00:00<00:03, 483.36it/s]"
     ]
    },
    {
     "name": "stdout",
     "output_type": "stream",
     "text": [
      "11531\n"
     ]
    },
    {
     "name": "stderr",
     "output_type": "stream",
     "text": [
      "100%|██████████| 1759/1759 [00:03<00:00, 487.09it/s]\n",
      "  3%|▎         | 48/1759 [00:00<00:03, 478.67it/s]"
     ]
    },
    {
     "name": "stdout",
     "output_type": "stream",
     "text": [
      "11615\n"
     ]
    },
    {
     "name": "stderr",
     "output_type": "stream",
     "text": [
      "100%|██████████| 1759/1759 [00:03<00:00, 488.66it/s]\n",
      "  3%|▎         | 51/1759 [00:00<00:03, 502.65it/s]"
     ]
    },
    {
     "name": "stdout",
     "output_type": "stream",
     "text": [
      "11699\n"
     ]
    },
    {
     "name": "stderr",
     "output_type": "stream",
     "text": [
      "100%|██████████| 1759/1759 [00:03<00:00, 483.02it/s]\n",
      "  3%|▎         | 48/1759 [00:00<00:03, 473.41it/s]"
     ]
    },
    {
     "name": "stdout",
     "output_type": "stream",
     "text": [
      "11784\n"
     ]
    },
    {
     "name": "stderr",
     "output_type": "stream",
     "text": [
      "100%|██████████| 1759/1759 [00:03<00:00, 478.98it/s]\n",
      "  3%|▎         | 50/1759 [00:00<00:03, 492.05it/s]"
     ]
    },
    {
     "name": "stdout",
     "output_type": "stream",
     "text": [
      "11878\n"
     ]
    },
    {
     "name": "stderr",
     "output_type": "stream",
     "text": [
      "100%|██████████| 1759/1759 [00:03<00:00, 481.88it/s]\n",
      "  3%|▎         | 49/1759 [00:00<00:03, 484.58it/s]"
     ]
    },
    {
     "name": "stdout",
     "output_type": "stream",
     "text": [
      "11956\n"
     ]
    },
    {
     "name": "stderr",
     "output_type": "stream",
     "text": [
      "100%|██████████| 1759/1759 [00:03<00:00, 474.92it/s]\n",
      "  3%|▎         | 52/1759 [00:00<00:03, 515.64it/s]"
     ]
    },
    {
     "name": "stdout",
     "output_type": "stream",
     "text": [
      "12039\n"
     ]
    },
    {
     "name": "stderr",
     "output_type": "stream",
     "text": [
      "100%|██████████| 1759/1759 [00:03<00:00, 484.77it/s]\n",
      "  3%|▎         | 51/1759 [00:00<00:03, 508.75it/s]"
     ]
    },
    {
     "name": "stdout",
     "output_type": "stream",
     "text": [
      "12119\n"
     ]
    },
    {
     "name": "stderr",
     "output_type": "stream",
     "text": [
      "100%|██████████| 1759/1759 [00:03<00:00, 483.69it/s]\n",
      "  3%|▎         | 49/1759 [00:00<00:03, 482.69it/s]"
     ]
    },
    {
     "name": "stdout",
     "output_type": "stream",
     "text": [
      "12193\n"
     ]
    },
    {
     "name": "stderr",
     "output_type": "stream",
     "text": [
      "100%|██████████| 1759/1759 [00:03<00:00, 480.90it/s]\n",
      "  3%|▎         | 49/1759 [00:00<00:03, 487.86it/s]"
     ]
    },
    {
     "name": "stdout",
     "output_type": "stream",
     "text": [
      "12277\n"
     ]
    },
    {
     "name": "stderr",
     "output_type": "stream",
     "text": [
      "100%|██████████| 1759/1759 [00:03<00:00, 479.50it/s]\n",
      "  3%|▎         | 53/1759 [00:00<00:03, 523.75it/s]"
     ]
    },
    {
     "name": "stdout",
     "output_type": "stream",
     "text": [
      "12350\n"
     ]
    },
    {
     "name": "stderr",
     "output_type": "stream",
     "text": [
      "100%|██████████| 1759/1759 [00:03<00:00, 477.87it/s]\n",
      "  3%|▎         | 53/1759 [00:00<00:03, 520.56it/s]"
     ]
    },
    {
     "name": "stdout",
     "output_type": "stream",
     "text": [
      "12425\n"
     ]
    },
    {
     "name": "stderr",
     "output_type": "stream",
     "text": [
      "100%|██████████| 1759/1759 [00:03<00:00, 484.43it/s]\n",
      "  3%|▎         | 46/1759 [00:00<00:03, 457.84it/s]"
     ]
    },
    {
     "name": "stdout",
     "output_type": "stream",
     "text": [
      "12492\n"
     ]
    },
    {
     "name": "stderr",
     "output_type": "stream",
     "text": [
      "100%|██████████| 1759/1759 [00:03<00:00, 482.42it/s]\n",
      "  3%|▎         | 51/1759 [00:00<00:03, 509.32it/s]"
     ]
    },
    {
     "name": "stdout",
     "output_type": "stream",
     "text": [
      "12583\n"
     ]
    },
    {
     "name": "stderr",
     "output_type": "stream",
     "text": [
      "100%|██████████| 1759/1759 [00:03<00:00, 489.14it/s]\n",
      "  3%|▎         | 47/1759 [00:00<00:03, 468.80it/s]"
     ]
    },
    {
     "name": "stdout",
     "output_type": "stream",
     "text": [
      "12678\n"
     ]
    },
    {
     "name": "stderr",
     "output_type": "stream",
     "text": [
      "100%|██████████| 1759/1759 [00:03<00:00, 479.82it/s]\n",
      "  3%|▎         | 51/1759 [00:00<00:03, 503.08it/s]"
     ]
    },
    {
     "name": "stdout",
     "output_type": "stream",
     "text": [
      "12747\n"
     ]
    },
    {
     "name": "stderr",
     "output_type": "stream",
     "text": [
      "100%|██████████| 1759/1759 [00:03<00:00, 478.71it/s]\n",
      "  3%|▎         | 51/1759 [00:00<00:03, 505.19it/s]"
     ]
    },
    {
     "name": "stdout",
     "output_type": "stream",
     "text": [
      "12822\n"
     ]
    },
    {
     "name": "stderr",
     "output_type": "stream",
     "text": [
      "100%|██████████| 1759/1759 [00:03<00:00, 493.02it/s]\n",
      "  3%|▎         | 49/1759 [00:00<00:03, 480.48it/s]"
     ]
    },
    {
     "name": "stdout",
     "output_type": "stream",
     "text": [
      "12921\n"
     ]
    },
    {
     "name": "stderr",
     "output_type": "stream",
     "text": [
      "100%|██████████| 1759/1759 [00:03<00:00, 491.31it/s]\n",
      "  3%|▎         | 49/1759 [00:00<00:03, 486.06it/s]"
     ]
    },
    {
     "name": "stdout",
     "output_type": "stream",
     "text": [
      "13006\n"
     ]
    },
    {
     "name": "stderr",
     "output_type": "stream",
     "text": [
      "100%|██████████| 1759/1759 [00:03<00:00, 473.92it/s]\n",
      "  3%|▎         | 51/1759 [00:00<00:03, 502.58it/s]"
     ]
    },
    {
     "name": "stdout",
     "output_type": "stream",
     "text": [
      "13078\n"
     ]
    },
    {
     "name": "stderr",
     "output_type": "stream",
     "text": [
      "100%|██████████| 1759/1759 [00:03<00:00, 489.97it/s]\n",
      "  3%|▎         | 52/1759 [00:00<00:03, 518.97it/s]"
     ]
    },
    {
     "name": "stdout",
     "output_type": "stream",
     "text": [
      "13149\n"
     ]
    },
    {
     "name": "stderr",
     "output_type": "stream",
     "text": [
      "100%|██████████| 1759/1759 [00:03<00:00, 490.67it/s]\n",
      "  3%|▎         | 50/1759 [00:00<00:03, 491.25it/s]"
     ]
    },
    {
     "name": "stdout",
     "output_type": "stream",
     "text": [
      "13223\n"
     ]
    },
    {
     "name": "stderr",
     "output_type": "stream",
     "text": [
      "100%|██████████| 1759/1759 [00:03<00:00, 489.75it/s]\n",
      "  3%|▎         | 50/1759 [00:00<00:03, 492.15it/s]"
     ]
    },
    {
     "name": "stdout",
     "output_type": "stream",
     "text": [
      "13298\n"
     ]
    },
    {
     "name": "stderr",
     "output_type": "stream",
     "text": [
      "100%|██████████| 1759/1759 [00:03<00:00, 490.27it/s]\n",
      "  3%|▎         | 48/1759 [00:00<00:03, 479.79it/s]"
     ]
    },
    {
     "name": "stdout",
     "output_type": "stream",
     "text": [
      "13385\n"
     ]
    },
    {
     "name": "stderr",
     "output_type": "stream",
     "text": [
      "100%|██████████| 1759/1759 [00:03<00:00, 482.73it/s]\n",
      "  3%|▎         | 53/1759 [00:00<00:03, 524.02it/s]"
     ]
    },
    {
     "name": "stdout",
     "output_type": "stream",
     "text": [
      "13470\n"
     ]
    },
    {
     "name": "stderr",
     "output_type": "stream",
     "text": [
      "100%|██████████| 1759/1759 [00:03<00:00, 480.51it/s]\n",
      "  3%|▎         | 45/1759 [00:00<00:03, 444.86it/s]"
     ]
    },
    {
     "name": "stdout",
     "output_type": "stream",
     "text": [
      "13549\n"
     ]
    },
    {
     "name": "stderr",
     "output_type": "stream",
     "text": [
      "100%|██████████| 1759/1759 [00:03<00:00, 479.22it/s]\n",
      "  3%|▎         | 48/1759 [00:00<00:03, 477.84it/s]"
     ]
    },
    {
     "name": "stdout",
     "output_type": "stream",
     "text": [
      "13630\n"
     ]
    },
    {
     "name": "stderr",
     "output_type": "stream",
     "text": [
      "100%|██████████| 1759/1759 [00:03<00:00, 481.36it/s]\n",
      "  2%|▏         | 43/1759 [00:00<00:04, 425.74it/s]"
     ]
    },
    {
     "name": "stdout",
     "output_type": "stream",
     "text": [
      "13715\n"
     ]
    },
    {
     "name": "stderr",
     "output_type": "stream",
     "text": [
      "100%|██████████| 1759/1759 [00:03<00:00, 481.91it/s]\n",
      "  3%|▎         | 51/1759 [00:00<00:03, 503.68it/s]"
     ]
    },
    {
     "name": "stdout",
     "output_type": "stream",
     "text": [
      "13794\n"
     ]
    },
    {
     "name": "stderr",
     "output_type": "stream",
     "text": [
      "100%|██████████| 1759/1759 [00:03<00:00, 479.89it/s]\n",
      "  3%|▎         | 52/1759 [00:00<00:03, 515.54it/s]"
     ]
    },
    {
     "name": "stdout",
     "output_type": "stream",
     "text": [
      "13877\n"
     ]
    },
    {
     "name": "stderr",
     "output_type": "stream",
     "text": [
      "100%|██████████| 1759/1759 [00:03<00:00, 490.23it/s]\n",
      "  3%|▎         | 48/1759 [00:00<00:03, 476.38it/s]"
     ]
    },
    {
     "name": "stdout",
     "output_type": "stream",
     "text": [
      "13968\n"
     ]
    },
    {
     "name": "stderr",
     "output_type": "stream",
     "text": [
      "100%|██████████| 1759/1759 [00:03<00:00, 490.84it/s]\n",
      "  3%|▎         | 46/1759 [00:00<00:03, 448.92it/s]"
     ]
    },
    {
     "name": "stdout",
     "output_type": "stream",
     "text": [
      "14051\n"
     ]
    },
    {
     "name": "stderr",
     "output_type": "stream",
     "text": [
      "100%|██████████| 1759/1759 [00:03<00:00, 474.76it/s]\n",
      "  3%|▎         | 51/1759 [00:00<00:03, 504.25it/s]"
     ]
    },
    {
     "name": "stdout",
     "output_type": "stream",
     "text": [
      "14135\n"
     ]
    },
    {
     "name": "stderr",
     "output_type": "stream",
     "text": [
      "100%|██████████| 1759/1759 [00:03<00:00, 484.82it/s]\n",
      "  3%|▎         | 45/1759 [00:00<00:03, 448.92it/s]"
     ]
    },
    {
     "name": "stdout",
     "output_type": "stream",
     "text": [
      "14213\n"
     ]
    },
    {
     "name": "stderr",
     "output_type": "stream",
     "text": [
      "100%|██████████| 1759/1759 [00:03<00:00, 476.29it/s]\n",
      "  3%|▎         | 48/1759 [00:00<00:03, 477.19it/s]"
     ]
    },
    {
     "name": "stdout",
     "output_type": "stream",
     "text": [
      "14284\n"
     ]
    },
    {
     "name": "stderr",
     "output_type": "stream",
     "text": [
      "100%|██████████| 1759/1759 [00:03<00:00, 479.64it/s]\n",
      "  3%|▎         | 48/1759 [00:00<00:03, 478.86it/s]"
     ]
    },
    {
     "name": "stdout",
     "output_type": "stream",
     "text": [
      "14370\n"
     ]
    },
    {
     "name": "stderr",
     "output_type": "stream",
     "text": [
      "100%|██████████| 1759/1759 [00:03<00:00, 485.47it/s]\n",
      "  3%|▎         | 47/1759 [00:00<00:03, 461.81it/s]"
     ]
    },
    {
     "name": "stdout",
     "output_type": "stream",
     "text": [
      "14446\n"
     ]
    },
    {
     "name": "stderr",
     "output_type": "stream",
     "text": [
      "100%|██████████| 1759/1759 [00:03<00:00, 468.86it/s]\n",
      "  3%|▎         | 51/1759 [00:00<00:03, 505.26it/s]"
     ]
    },
    {
     "name": "stdout",
     "output_type": "stream",
     "text": [
      "14530\n"
     ]
    },
    {
     "name": "stderr",
     "output_type": "stream",
     "text": [
      "100%|██████████| 1759/1759 [00:03<00:00, 489.83it/s]\n",
      "  3%|▎         | 48/1759 [00:00<00:03, 478.19it/s]"
     ]
    },
    {
     "name": "stdout",
     "output_type": "stream",
     "text": [
      "14618\n"
     ]
    },
    {
     "name": "stderr",
     "output_type": "stream",
     "text": [
      "100%|██████████| 1759/1759 [00:03<00:00, 476.36it/s]\n",
      "  3%|▎         | 52/1759 [00:00<00:03, 515.02it/s]"
     ]
    },
    {
     "name": "stdout",
     "output_type": "stream",
     "text": [
      "14687\n"
     ]
    },
    {
     "name": "stderr",
     "output_type": "stream",
     "text": [
      "100%|██████████| 1759/1759 [00:03<00:00, 486.42it/s]\n",
      "  3%|▎         | 50/1759 [00:00<00:03, 492.70it/s]"
     ]
    },
    {
     "name": "stdout",
     "output_type": "stream",
     "text": [
      "14780\n"
     ]
    },
    {
     "name": "stderr",
     "output_type": "stream",
     "text": [
      "100%|██████████| 1759/1759 [00:03<00:00, 472.53it/s]\n",
      "  3%|▎         | 47/1759 [00:00<00:03, 465.51it/s]"
     ]
    },
    {
     "name": "stdout",
     "output_type": "stream",
     "text": [
      "14867\n"
     ]
    },
    {
     "name": "stderr",
     "output_type": "stream",
     "text": [
      "100%|██████████| 1759/1759 [00:03<00:00, 469.49it/s]\n",
      "  3%|▎         | 48/1759 [00:00<00:03, 473.59it/s]"
     ]
    },
    {
     "name": "stdout",
     "output_type": "stream",
     "text": [
      "14938\n"
     ]
    },
    {
     "name": "stderr",
     "output_type": "stream",
     "text": [
      "100%|██████████| 1759/1759 [00:03<00:00, 475.71it/s]\n",
      "  3%|▎         | 47/1759 [00:00<00:03, 468.93it/s]"
     ]
    },
    {
     "name": "stdout",
     "output_type": "stream",
     "text": [
      "15016\n"
     ]
    },
    {
     "name": "stderr",
     "output_type": "stream",
     "text": [
      "100%|██████████| 1759/1759 [00:03<00:00, 476.29it/s]\n",
      "  3%|▎         | 50/1759 [00:00<00:03, 493.67it/s]"
     ]
    },
    {
     "name": "stdout",
     "output_type": "stream",
     "text": [
      "15095\n"
     ]
    },
    {
     "name": "stderr",
     "output_type": "stream",
     "text": [
      "100%|██████████| 1759/1759 [00:03<00:00, 481.31it/s]\n",
      "  3%|▎         | 52/1759 [00:00<00:03, 511.43it/s]"
     ]
    },
    {
     "name": "stdout",
     "output_type": "stream",
     "text": [
      "15178\n"
     ]
    },
    {
     "name": "stderr",
     "output_type": "stream",
     "text": [
      "100%|██████████| 1759/1759 [00:03<00:00, 465.51it/s]\n",
      "  3%|▎         | 48/1759 [00:00<00:03, 475.63it/s]"
     ]
    },
    {
     "name": "stdout",
     "output_type": "stream",
     "text": [
      "15259\n"
     ]
    },
    {
     "name": "stderr",
     "output_type": "stream",
     "text": [
      "100%|██████████| 1759/1759 [00:03<00:00, 476.75it/s]\n",
      "  3%|▎         | 48/1759 [00:00<00:03, 477.42it/s]"
     ]
    },
    {
     "name": "stdout",
     "output_type": "stream",
     "text": [
      "15333\n"
     ]
    },
    {
     "name": "stderr",
     "output_type": "stream",
     "text": [
      "100%|██████████| 1759/1759 [00:03<00:00, 459.85it/s]\n",
      "  3%|▎         | 48/1759 [00:00<00:03, 470.03it/s]"
     ]
    },
    {
     "name": "stdout",
     "output_type": "stream",
     "text": [
      "15423\n"
     ]
    },
    {
     "name": "stderr",
     "output_type": "stream",
     "text": [
      "100%|██████████| 1759/1759 [00:03<00:00, 477.78it/s]\n",
      "  3%|▎         | 44/1759 [00:00<00:03, 434.64it/s]"
     ]
    },
    {
     "name": "stdout",
     "output_type": "stream",
     "text": [
      "15504\n"
     ]
    },
    {
     "name": "stderr",
     "output_type": "stream",
     "text": [
      "100%|██████████| 1759/1759 [00:03<00:00, 478.49it/s]\n",
      "  3%|▎         | 48/1759 [00:00<00:03, 475.94it/s]"
     ]
    },
    {
     "name": "stdout",
     "output_type": "stream",
     "text": [
      "15592\n"
     ]
    },
    {
     "name": "stderr",
     "output_type": "stream",
     "text": [
      "100%|██████████| 1759/1759 [00:03<00:00, 468.45it/s]\n",
      "  3%|▎         | 49/1759 [00:00<00:03, 486.29it/s]"
     ]
    },
    {
     "name": "stdout",
     "output_type": "stream",
     "text": [
      "15667\n"
     ]
    },
    {
     "name": "stderr",
     "output_type": "stream",
     "text": [
      "100%|██████████| 1759/1759 [00:03<00:00, 474.34it/s]\n",
      "  3%|▎         | 46/1759 [00:00<00:03, 455.73it/s]"
     ]
    },
    {
     "name": "stdout",
     "output_type": "stream",
     "text": [
      "15744\n"
     ]
    },
    {
     "name": "stderr",
     "output_type": "stream",
     "text": [
      "100%|██████████| 1759/1759 [00:03<00:00, 474.63it/s]\n",
      "  3%|▎         | 51/1759 [00:00<00:03, 505.20it/s]"
     ]
    },
    {
     "name": "stdout",
     "output_type": "stream",
     "text": [
      "15840\n"
     ]
    },
    {
     "name": "stderr",
     "output_type": "stream",
     "text": [
      "100%|██████████| 1759/1759 [00:03<00:00, 470.41it/s]\n",
      "  2%|▏         | 41/1759 [00:00<00:04, 403.48it/s]"
     ]
    },
    {
     "name": "stdout",
     "output_type": "stream",
     "text": [
      "15923\n"
     ]
    },
    {
     "name": "stderr",
     "output_type": "stream",
     "text": [
      "100%|██████████| 1759/1759 [00:03<00:00, 466.92it/s]\n",
      "  3%|▎         | 52/1759 [00:00<00:03, 516.39it/s]"
     ]
    },
    {
     "name": "stdout",
     "output_type": "stream",
     "text": [
      "16017\n"
     ]
    },
    {
     "name": "stderr",
     "output_type": "stream",
     "text": [
      "100%|██████████| 1759/1759 [00:03<00:00, 473.58it/s]\n",
      "  3%|▎         | 44/1759 [00:00<00:03, 438.89it/s]"
     ]
    },
    {
     "name": "stdout",
     "output_type": "stream",
     "text": [
      "16093\n"
     ]
    },
    {
     "name": "stderr",
     "output_type": "stream",
     "text": [
      "100%|██████████| 1759/1759 [00:03<00:00, 472.65it/s]\n",
      "  3%|▎         | 51/1759 [00:00<00:03, 500.30it/s]"
     ]
    },
    {
     "name": "stdout",
     "output_type": "stream",
     "text": [
      "16204\n"
     ]
    },
    {
     "name": "stderr",
     "output_type": "stream",
     "text": [
      "100%|██████████| 1759/1759 [00:03<00:00, 472.92it/s]\n",
      "  3%|▎         | 52/1759 [00:00<00:03, 517.72it/s]"
     ]
    },
    {
     "name": "stdout",
     "output_type": "stream",
     "text": [
      "16288\n"
     ]
    },
    {
     "name": "stderr",
     "output_type": "stream",
     "text": [
      "100%|██████████| 1759/1759 [00:03<00:00, 484.58it/s]\n",
      "  3%|▎         | 49/1759 [00:00<00:03, 482.97it/s]"
     ]
    },
    {
     "name": "stdout",
     "output_type": "stream",
     "text": [
      "16377\n"
     ]
    },
    {
     "name": "stderr",
     "output_type": "stream",
     "text": [
      "100%|██████████| 1759/1759 [00:03<00:00, 482.07it/s]\n",
      "  3%|▎         | 49/1759 [00:00<00:03, 479.15it/s]"
     ]
    },
    {
     "name": "stdout",
     "output_type": "stream",
     "text": [
      "16470\n"
     ]
    },
    {
     "name": "stderr",
     "output_type": "stream",
     "text": [
      "100%|██████████| 1759/1759 [00:03<00:00, 479.49it/s]\n",
      "  3%|▎         | 49/1759 [00:00<00:03, 482.81it/s]"
     ]
    },
    {
     "name": "stdout",
     "output_type": "stream",
     "text": [
      "16555\n"
     ]
    },
    {
     "name": "stderr",
     "output_type": "stream",
     "text": [
      "100%|██████████| 1759/1759 [00:03<00:00, 484.19it/s]\n",
      "  3%|▎         | 48/1759 [00:00<00:03, 473.19it/s]"
     ]
    },
    {
     "name": "stdout",
     "output_type": "stream",
     "text": [
      "16641\n"
     ]
    },
    {
     "name": "stderr",
     "output_type": "stream",
     "text": [
      "100%|██████████| 1759/1759 [00:03<00:00, 487.33it/s]\n",
      "  3%|▎         | 52/1759 [00:00<00:03, 516.18it/s]"
     ]
    },
    {
     "name": "stdout",
     "output_type": "stream",
     "text": [
      "16724\n"
     ]
    },
    {
     "name": "stderr",
     "output_type": "stream",
     "text": [
      "100%|██████████| 1759/1759 [00:03<00:00, 484.43it/s]\n",
      "  3%|▎         | 52/1759 [00:00<00:03, 510.24it/s]"
     ]
    },
    {
     "name": "stdout",
     "output_type": "stream",
     "text": [
      "16820\n"
     ]
    },
    {
     "name": "stderr",
     "output_type": "stream",
     "text": [
      "100%|██████████| 1759/1759 [00:03<00:00, 486.84it/s]\n",
      "  2%|▏         | 40/1759 [00:00<00:04, 394.10it/s]"
     ]
    },
    {
     "name": "stdout",
     "output_type": "stream",
     "text": [
      "16901\n"
     ]
    },
    {
     "name": "stderr",
     "output_type": "stream",
     "text": [
      "100%|██████████| 1759/1759 [00:03<00:00, 471.38it/s]\n",
      "  3%|▎         | 51/1759 [00:00<00:03, 500.64it/s]"
     ]
    },
    {
     "name": "stdout",
     "output_type": "stream",
     "text": [
      "16987\n"
     ]
    },
    {
     "name": "stderr",
     "output_type": "stream",
     "text": [
      "100%|██████████| 1759/1759 [00:03<00:00, 475.21it/s]\n",
      "  3%|▎         | 47/1759 [00:00<00:03, 469.68it/s]"
     ]
    },
    {
     "name": "stdout",
     "output_type": "stream",
     "text": [
      "17055\n"
     ]
    },
    {
     "name": "stderr",
     "output_type": "stream",
     "text": [
      "100%|██████████| 1759/1759 [00:03<00:00, 471.90it/s]\n",
      "  3%|▎         | 51/1759 [00:00<00:03, 508.37it/s]"
     ]
    },
    {
     "name": "stdout",
     "output_type": "stream",
     "text": [
      "17143\n"
     ]
    },
    {
     "name": "stderr",
     "output_type": "stream",
     "text": [
      "100%|██████████| 1759/1759 [00:03<00:00, 486.48it/s]\n",
      "  3%|▎         | 52/1759 [00:00<00:03, 515.29it/s]"
     ]
    },
    {
     "name": "stdout",
     "output_type": "stream",
     "text": [
      "17218\n"
     ]
    },
    {
     "name": "stderr",
     "output_type": "stream",
     "text": [
      "100%|██████████| 1759/1759 [00:03<00:00, 476.25it/s]\n",
      "  3%|▎         | 52/1759 [00:00<00:03, 512.07it/s]"
     ]
    },
    {
     "name": "stdout",
     "output_type": "stream",
     "text": [
      "17303\n"
     ]
    },
    {
     "name": "stderr",
     "output_type": "stream",
     "text": [
      "100%|██████████| 1759/1759 [00:03<00:00, 489.35it/s]\n",
      "  3%|▎         | 51/1759 [00:00<00:03, 503.46it/s]"
     ]
    },
    {
     "name": "stdout",
     "output_type": "stream",
     "text": [
      "17378\n"
     ]
    },
    {
     "name": "stderr",
     "output_type": "stream",
     "text": [
      "100%|██████████| 1759/1759 [00:03<00:00, 480.54it/s]\n",
      "  3%|▎         | 49/1759 [00:00<00:03, 482.98it/s]"
     ]
    },
    {
     "name": "stdout",
     "output_type": "stream",
     "text": [
      "17458\n"
     ]
    },
    {
     "name": "stderr",
     "output_type": "stream",
     "text": [
      "100%|██████████| 1759/1759 [00:03<00:00, 478.72it/s]\n",
      "  3%|▎         | 51/1759 [00:00<00:03, 501.69it/s]"
     ]
    },
    {
     "name": "stdout",
     "output_type": "stream",
     "text": [
      "17547\n"
     ]
    },
    {
     "name": "stderr",
     "output_type": "stream",
     "text": [
      "100%|██████████| 1759/1759 [00:03<00:00, 484.83it/s]\n",
      "  3%|▎         | 51/1759 [00:00<00:03, 506.97it/s]"
     ]
    },
    {
     "name": "stdout",
     "output_type": "stream",
     "text": [
      "17638\n"
     ]
    },
    {
     "name": "stderr",
     "output_type": "stream",
     "text": [
      "100%|██████████| 1759/1759 [00:03<00:00, 486.50it/s]\n",
      "  3%|▎         | 49/1759 [00:00<00:03, 483.90it/s]"
     ]
    },
    {
     "name": "stdout",
     "output_type": "stream",
     "text": [
      "17725\n"
     ]
    },
    {
     "name": "stderr",
     "output_type": "stream",
     "text": [
      "100%|██████████| 1759/1759 [00:03<00:00, 479.66it/s]\n",
      "  3%|▎         | 49/1759 [00:00<00:03, 483.75it/s]"
     ]
    },
    {
     "name": "stdout",
     "output_type": "stream",
     "text": [
      "17805\n"
     ]
    },
    {
     "name": "stderr",
     "output_type": "stream",
     "text": [
      "100%|██████████| 1759/1759 [00:03<00:00, 461.20it/s]\n",
      "  3%|▎         | 50/1759 [00:00<00:03, 493.03it/s]"
     ]
    },
    {
     "name": "stdout",
     "output_type": "stream",
     "text": [
      "17884\n"
     ]
    },
    {
     "name": "stderr",
     "output_type": "stream",
     "text": [
      "100%|██████████| 1759/1759 [00:03<00:00, 483.03it/s]\n",
      "  3%|▎         | 45/1759 [00:00<00:03, 444.55it/s]"
     ]
    },
    {
     "name": "stdout",
     "output_type": "stream",
     "text": [
      "17972\n"
     ]
    },
    {
     "name": "stderr",
     "output_type": "stream",
     "text": [
      "100%|██████████| 1759/1759 [00:03<00:00, 468.57it/s]\n",
      "  3%|▎         | 48/1759 [00:00<00:03, 478.05it/s]"
     ]
    },
    {
     "name": "stdout",
     "output_type": "stream",
     "text": [
      "18056\n"
     ]
    },
    {
     "name": "stderr",
     "output_type": "stream",
     "text": [
      "100%|██████████| 1759/1759 [00:03<00:00, 489.03it/s]\n",
      "  3%|▎         | 50/1759 [00:00<00:03, 499.25it/s]"
     ]
    },
    {
     "name": "stdout",
     "output_type": "stream",
     "text": [
      "18133\n"
     ]
    },
    {
     "name": "stderr",
     "output_type": "stream",
     "text": [
      "100%|██████████| 1759/1759 [00:03<00:00, 485.87it/s]\n",
      "  3%|▎         | 48/1759 [00:00<00:03, 473.59it/s]"
     ]
    },
    {
     "name": "stdout",
     "output_type": "stream",
     "text": [
      "18205\n"
     ]
    },
    {
     "name": "stderr",
     "output_type": "stream",
     "text": [
      "100%|██████████| 1759/1759 [00:03<00:00, 485.94it/s]\n",
      "  3%|▎         | 48/1759 [00:00<00:03, 477.23it/s]"
     ]
    },
    {
     "name": "stdout",
     "output_type": "stream",
     "text": [
      "18289\n"
     ]
    },
    {
     "name": "stderr",
     "output_type": "stream",
     "text": [
      "100%|██████████| 1759/1759 [00:03<00:00, 488.39it/s]\n",
      "  3%|▎         | 48/1759 [00:00<00:03, 474.38it/s]"
     ]
    },
    {
     "name": "stdout",
     "output_type": "stream",
     "text": [
      "18374\n"
     ]
    },
    {
     "name": "stderr",
     "output_type": "stream",
     "text": [
      "100%|██████████| 1759/1759 [00:03<00:00, 485.43it/s]\n",
      "  3%|▎         | 52/1759 [00:00<00:03, 516.45it/s]"
     ]
    },
    {
     "name": "stdout",
     "output_type": "stream",
     "text": [
      "18456\n"
     ]
    },
    {
     "name": "stderr",
     "output_type": "stream",
     "text": [
      "100%|██████████| 1759/1759 [00:03<00:00, 487.89it/s]\n",
      "  3%|▎         | 49/1759 [00:00<00:03, 489.33it/s]"
     ]
    },
    {
     "name": "stdout",
     "output_type": "stream",
     "text": [
      "18539\n"
     ]
    },
    {
     "name": "stderr",
     "output_type": "stream",
     "text": [
      "100%|██████████| 1759/1759 [00:03<00:00, 489.89it/s]\n",
      "  3%|▎         | 49/1759 [00:00<00:03, 481.95it/s]"
     ]
    },
    {
     "name": "stdout",
     "output_type": "stream",
     "text": [
      "18620\n"
     ]
    },
    {
     "name": "stderr",
     "output_type": "stream",
     "text": [
      "100%|██████████| 1759/1759 [00:03<00:00, 481.98it/s]\n",
      "  3%|▎         | 49/1759 [00:00<00:03, 486.17it/s]"
     ]
    },
    {
     "name": "stdout",
     "output_type": "stream",
     "text": [
      "18695\n"
     ]
    },
    {
     "name": "stderr",
     "output_type": "stream",
     "text": [
      "100%|██████████| 1759/1759 [00:03<00:00, 479.34it/s]\n",
      "  3%|▎         | 51/1759 [00:00<00:03, 506.47it/s]"
     ]
    },
    {
     "name": "stdout",
     "output_type": "stream",
     "text": [
      "18793\n"
     ]
    },
    {
     "name": "stderr",
     "output_type": "stream",
     "text": [
      "100%|██████████| 1759/1759 [00:03<00:00, 486.16it/s]\n",
      "  3%|▎         | 48/1759 [00:00<00:03, 478.37it/s]"
     ]
    },
    {
     "name": "stdout",
     "output_type": "stream",
     "text": [
      "18875\n"
     ]
    },
    {
     "name": "stderr",
     "output_type": "stream",
     "text": [
      "100%|██████████| 1759/1759 [00:03<00:00, 471.23it/s]\n",
      "  3%|▎         | 46/1759 [00:00<00:03, 451.28it/s]"
     ]
    },
    {
     "name": "stdout",
     "output_type": "stream",
     "text": [
      "18952\n"
     ]
    },
    {
     "name": "stderr",
     "output_type": "stream",
     "text": [
      "100%|██████████| 1759/1759 [00:03<00:00, 480.65it/s]\n",
      "  3%|▎         | 50/1759 [00:00<00:03, 498.52it/s]"
     ]
    },
    {
     "name": "stdout",
     "output_type": "stream",
     "text": [
      "19032\n"
     ]
    },
    {
     "name": "stderr",
     "output_type": "stream",
     "text": [
      "100%|██████████| 1759/1759 [00:03<00:00, 483.12it/s]\n",
      "  3%|▎         | 52/1759 [00:00<00:03, 513.26it/s]"
     ]
    },
    {
     "name": "stdout",
     "output_type": "stream",
     "text": [
      "19125\n"
     ]
    },
    {
     "name": "stderr",
     "output_type": "stream",
     "text": [
      "100%|██████████| 1759/1759 [00:03<00:00, 485.42it/s]\n",
      "  3%|▎         | 50/1759 [00:00<00:03, 494.52it/s]"
     ]
    },
    {
     "name": "stdout",
     "output_type": "stream",
     "text": [
      "19208\n"
     ]
    },
    {
     "name": "stderr",
     "output_type": "stream",
     "text": [
      "100%|██████████| 1759/1759 [00:03<00:00, 472.64it/s]\n",
      "  3%|▎         | 47/1759 [00:00<00:03, 467.98it/s]"
     ]
    },
    {
     "name": "stdout",
     "output_type": "stream",
     "text": [
      "19289\n"
     ]
    },
    {
     "name": "stderr",
     "output_type": "stream",
     "text": [
      "100%|██████████| 1759/1759 [00:03<00:00, 482.92it/s]\n",
      "  3%|▎         | 50/1759 [00:00<00:03, 499.50it/s]"
     ]
    },
    {
     "name": "stdout",
     "output_type": "stream",
     "text": [
      "19362\n"
     ]
    },
    {
     "name": "stderr",
     "output_type": "stream",
     "text": [
      "100%|██████████| 1759/1759 [00:03<00:00, 487.01it/s]\n",
      "  3%|▎         | 46/1759 [00:00<00:03, 457.37it/s]"
     ]
    },
    {
     "name": "stdout",
     "output_type": "stream",
     "text": [
      "19449\n"
     ]
    },
    {
     "name": "stderr",
     "output_type": "stream",
     "text": [
      "100%|██████████| 1759/1759 [00:03<00:00, 484.74it/s]\n",
      "  3%|▎         | 52/1759 [00:00<00:03, 511.05it/s]"
     ]
    },
    {
     "name": "stdout",
     "output_type": "stream",
     "text": [
      "19541\n"
     ]
    },
    {
     "name": "stderr",
     "output_type": "stream",
     "text": [
      "100%|██████████| 1759/1759 [00:03<00:00, 478.41it/s]\n",
      "  2%|▏         | 41/1759 [00:00<00:04, 406.03it/s]"
     ]
    },
    {
     "name": "stdout",
     "output_type": "stream",
     "text": [
      "19622\n"
     ]
    },
    {
     "name": "stderr",
     "output_type": "stream",
     "text": [
      "100%|██████████| 1759/1759 [00:03<00:00, 472.51it/s]\n",
      "  3%|▎         | 48/1759 [00:00<00:03, 471.99it/s]"
     ]
    },
    {
     "name": "stdout",
     "output_type": "stream",
     "text": [
      "19698\n"
     ]
    },
    {
     "name": "stderr",
     "output_type": "stream",
     "text": [
      "100%|██████████| 1759/1759 [00:03<00:00, 470.55it/s]\n",
      "  3%|▎         | 50/1759 [00:00<00:03, 495.75it/s]"
     ]
    },
    {
     "name": "stdout",
     "output_type": "stream",
     "text": [
      "19782\n"
     ]
    },
    {
     "name": "stderr",
     "output_type": "stream",
     "text": [
      "100%|██████████| 1759/1759 [00:03<00:00, 474.03it/s]\n",
      "  2%|▏         | 42/1759 [00:00<00:04, 418.83it/s]"
     ]
    },
    {
     "name": "stdout",
     "output_type": "stream",
     "text": [
      "19859\n"
     ]
    },
    {
     "name": "stderr",
     "output_type": "stream",
     "text": [
      "100%|██████████| 1759/1759 [00:03<00:00, 473.05it/s]\n",
      "  2%|▏         | 40/1759 [00:00<00:04, 396.33it/s]"
     ]
    },
    {
     "name": "stdout",
     "output_type": "stream",
     "text": [
      "19927\n"
     ]
    },
    {
     "name": "stderr",
     "output_type": "stream",
     "text": [
      "100%|██████████| 1759/1759 [00:03<00:00, 469.34it/s]\n",
      "  3%|▎         | 51/1759 [00:00<00:03, 504.91it/s]"
     ]
    },
    {
     "name": "stdout",
     "output_type": "stream",
     "text": [
      "20005\n"
     ]
    },
    {
     "name": "stderr",
     "output_type": "stream",
     "text": [
      "100%|██████████| 1759/1759 [00:03<00:00, 469.72it/s]\n",
      "  3%|▎         | 52/1759 [00:00<00:03, 507.66it/s]"
     ]
    },
    {
     "name": "stdout",
     "output_type": "stream",
     "text": [
      "20088\n"
     ]
    },
    {
     "name": "stderr",
     "output_type": "stream",
     "text": [
      "100%|██████████| 1759/1759 [00:03<00:00, 468.27it/s]\n",
      "  3%|▎         | 49/1759 [00:00<00:03, 486.55it/s]"
     ]
    },
    {
     "name": "stdout",
     "output_type": "stream",
     "text": [
      "20182\n"
     ]
    },
    {
     "name": "stderr",
     "output_type": "stream",
     "text": [
      "100%|██████████| 1759/1759 [00:03<00:00, 464.63it/s]\n",
      "  3%|▎         | 46/1759 [00:00<00:03, 455.55it/s]"
     ]
    },
    {
     "name": "stdout",
     "output_type": "stream",
     "text": [
      "20277\n"
     ]
    },
    {
     "name": "stderr",
     "output_type": "stream",
     "text": [
      "100%|██████████| 1759/1759 [00:03<00:00, 477.82it/s]\n",
      "  3%|▎         | 46/1759 [00:00<00:03, 457.54it/s]"
     ]
    },
    {
     "name": "stdout",
     "output_type": "stream",
     "text": [
      "20356\n"
     ]
    },
    {
     "name": "stderr",
     "output_type": "stream",
     "text": [
      "100%|██████████| 1759/1759 [00:03<00:00, 469.57it/s]\n",
      "  3%|▎         | 48/1759 [00:00<00:03, 478.34it/s]"
     ]
    },
    {
     "name": "stdout",
     "output_type": "stream",
     "text": [
      "20427\n"
     ]
    },
    {
     "name": "stderr",
     "output_type": "stream",
     "text": [
      "100%|██████████| 1759/1759 [00:03<00:00, 485.53it/s]\n",
      "  3%|▎         | 49/1759 [00:00<00:03, 486.62it/s]"
     ]
    },
    {
     "name": "stdout",
     "output_type": "stream",
     "text": [
      "20536\n"
     ]
    },
    {
     "name": "stderr",
     "output_type": "stream",
     "text": [
      "100%|██████████| 1759/1759 [00:03<00:00, 477.63it/s]\n",
      "  3%|▎         | 51/1759 [00:00<00:03, 509.04it/s]"
     ]
    },
    {
     "name": "stdout",
     "output_type": "stream",
     "text": [
      "20612\n"
     ]
    },
    {
     "name": "stderr",
     "output_type": "stream",
     "text": [
      "100%|██████████| 1759/1759 [00:03<00:00, 481.79it/s]\n",
      "  3%|▎         | 47/1759 [00:00<00:03, 468.41it/s]"
     ]
    },
    {
     "name": "stdout",
     "output_type": "stream",
     "text": [
      "20696\n"
     ]
    },
    {
     "name": "stderr",
     "output_type": "stream",
     "text": [
      "100%|██████████| 1759/1759 [00:03<00:00, 479.73it/s]\n",
      "  3%|▎         | 48/1759 [00:00<00:03, 476.31it/s]"
     ]
    },
    {
     "name": "stdout",
     "output_type": "stream",
     "text": [
      "20759\n"
     ]
    },
    {
     "name": "stderr",
     "output_type": "stream",
     "text": [
      "100%|██████████| 1759/1759 [00:03<00:00, 478.88it/s]\n",
      "  3%|▎         | 48/1759 [00:00<00:03, 476.38it/s]"
     ]
    },
    {
     "name": "stdout",
     "output_type": "stream",
     "text": [
      "20850\n"
     ]
    },
    {
     "name": "stderr",
     "output_type": "stream",
     "text": [
      "100%|██████████| 1759/1759 [00:03<00:00, 484.09it/s]\n",
      "  2%|▏         | 38/1759 [00:00<00:04, 376.16it/s]"
     ]
    },
    {
     "name": "stdout",
     "output_type": "stream",
     "text": [
      "20933\n"
     ]
    },
    {
     "name": "stderr",
     "output_type": "stream",
     "text": [
      "100%|██████████| 1759/1759 [00:03<00:00, 482.45it/s]\n",
      "  3%|▎         | 49/1759 [00:00<00:03, 484.25it/s]"
     ]
    },
    {
     "name": "stdout",
     "output_type": "stream",
     "text": [
      "21017\n"
     ]
    },
    {
     "name": "stderr",
     "output_type": "stream",
     "text": [
      "100%|██████████| 1759/1759 [00:03<00:00, 485.06it/s]\n",
      "  3%|▎         | 49/1759 [00:00<00:03, 489.71it/s]"
     ]
    },
    {
     "name": "stdout",
     "output_type": "stream",
     "text": [
      "21106\n"
     ]
    },
    {
     "name": "stderr",
     "output_type": "stream",
     "text": [
      "100%|██████████| 1759/1759 [00:03<00:00, 480.07it/s]\n",
      "  3%|▎         | 49/1759 [00:00<00:03, 489.45it/s]"
     ]
    },
    {
     "name": "stdout",
     "output_type": "stream",
     "text": [
      "21207\n"
     ]
    },
    {
     "name": "stderr",
     "output_type": "stream",
     "text": [
      "100%|██████████| 1759/1759 [00:03<00:00, 486.44it/s]\n",
      "  3%|▎         | 49/1759 [00:00<00:03, 487.29it/s]"
     ]
    },
    {
     "name": "stdout",
     "output_type": "stream",
     "text": [
      "21280\n"
     ]
    },
    {
     "name": "stderr",
     "output_type": "stream",
     "text": [
      "100%|██████████| 1759/1759 [00:03<00:00, 481.50it/s]\n",
      "  3%|▎         | 49/1759 [00:00<00:03, 486.67it/s]"
     ]
    },
    {
     "name": "stdout",
     "output_type": "stream",
     "text": [
      "21368\n"
     ]
    },
    {
     "name": "stderr",
     "output_type": "stream",
     "text": [
      "100%|██████████| 1759/1759 [00:03<00:00, 485.03it/s]\n",
      "  3%|▎         | 47/1759 [00:00<00:03, 465.85it/s]"
     ]
    },
    {
     "name": "stdout",
     "output_type": "stream",
     "text": [
      "21437\n"
     ]
    },
    {
     "name": "stderr",
     "output_type": "stream",
     "text": [
      "100%|██████████| 1759/1759 [00:03<00:00, 480.72it/s]\n",
      "  3%|▎         | 53/1759 [00:00<00:03, 524.92it/s]"
     ]
    },
    {
     "name": "stdout",
     "output_type": "stream",
     "text": [
      "21501\n"
     ]
    },
    {
     "name": "stderr",
     "output_type": "stream",
     "text": [
      "100%|██████████| 1759/1759 [00:03<00:00, 491.44it/s]\n",
      "  3%|▎         | 48/1759 [00:00<00:03, 474.53it/s]"
     ]
    },
    {
     "name": "stdout",
     "output_type": "stream",
     "text": [
      "21600\n"
     ]
    },
    {
     "name": "stderr",
     "output_type": "stream",
     "text": [
      "100%|██████████| 1759/1759 [00:03<00:00, 486.48it/s]\n",
      "  3%|▎         | 48/1759 [00:00<00:03, 477.92it/s]"
     ]
    },
    {
     "name": "stdout",
     "output_type": "stream",
     "text": [
      "21686\n"
     ]
    },
    {
     "name": "stderr",
     "output_type": "stream",
     "text": [
      "100%|██████████| 1759/1759 [00:03<00:00, 483.22it/s]\n",
      "  3%|▎         | 49/1759 [00:00<00:03, 487.52it/s]"
     ]
    },
    {
     "name": "stdout",
     "output_type": "stream",
     "text": [
      "21780\n"
     ]
    },
    {
     "name": "stderr",
     "output_type": "stream",
     "text": [
      "100%|██████████| 1759/1759 [00:03<00:00, 479.21it/s]\n",
      "  3%|▎         | 52/1759 [00:00<00:03, 510.81it/s]"
     ]
    },
    {
     "name": "stdout",
     "output_type": "stream",
     "text": [
      "21865\n"
     ]
    },
    {
     "name": "stderr",
     "output_type": "stream",
     "text": [
      "100%|██████████| 1759/1759 [00:03<00:00, 475.47it/s]\n",
      "  3%|▎         | 48/1759 [00:00<00:03, 476.27it/s]"
     ]
    },
    {
     "name": "stdout",
     "output_type": "stream",
     "text": [
      "21946\n"
     ]
    },
    {
     "name": "stderr",
     "output_type": "stream",
     "text": [
      "100%|██████████| 1759/1759 [00:03<00:00, 488.98it/s]\n",
      "  3%|▎         | 51/1759 [00:00<00:03, 500.70it/s]"
     ]
    },
    {
     "name": "stdout",
     "output_type": "stream",
     "text": [
      "22040\n"
     ]
    },
    {
     "name": "stderr",
     "output_type": "stream",
     "text": [
      "100%|██████████| 1759/1759 [00:03<00:00, 479.95it/s]\n",
      "  3%|▎         | 49/1759 [00:00<00:03, 481.46it/s]"
     ]
    },
    {
     "name": "stdout",
     "output_type": "stream",
     "text": [
      "22108\n"
     ]
    },
    {
     "name": "stderr",
     "output_type": "stream",
     "text": [
      "100%|██████████| 1759/1759 [00:03<00:00, 482.15it/s]\n",
      "  3%|▎         | 50/1759 [00:00<00:03, 498.24it/s]"
     ]
    },
    {
     "name": "stdout",
     "output_type": "stream",
     "text": [
      "22193\n"
     ]
    },
    {
     "name": "stderr",
     "output_type": "stream",
     "text": [
      "100%|██████████| 1759/1759 [00:03<00:00, 478.65it/s]\n",
      "  3%|▎         | 51/1759 [00:00<00:03, 504.24it/s]"
     ]
    },
    {
     "name": "stdout",
     "output_type": "stream",
     "text": [
      "22275\n"
     ]
    },
    {
     "name": "stderr",
     "output_type": "stream",
     "text": [
      "100%|██████████| 1759/1759 [00:03<00:00, 479.65it/s]\n",
      "  3%|▎         | 47/1759 [00:00<00:03, 463.52it/s]"
     ]
    },
    {
     "name": "stdout",
     "output_type": "stream",
     "text": [
      "22343\n"
     ]
    },
    {
     "name": "stderr",
     "output_type": "stream",
     "text": [
      "100%|██████████| 1759/1759 [00:03<00:00, 476.81it/s]\n",
      "  2%|▏         | 42/1759 [00:00<00:04, 415.67it/s]"
     ]
    },
    {
     "name": "stdout",
     "output_type": "stream",
     "text": [
      "22420\n"
     ]
    },
    {
     "name": "stderr",
     "output_type": "stream",
     "text": [
      "100%|██████████| 1759/1759 [00:03<00:00, 462.87it/s]\n",
      "  3%|▎         | 52/1759 [00:00<00:03, 511.18it/s]"
     ]
    },
    {
     "name": "stdout",
     "output_type": "stream",
     "text": [
      "22498\n"
     ]
    },
    {
     "name": "stderr",
     "output_type": "stream",
     "text": [
      "100%|██████████| 1759/1759 [00:03<00:00, 483.92it/s]\n",
      "  3%|▎         | 50/1759 [00:00<00:03, 496.44it/s]"
     ]
    },
    {
     "name": "stdout",
     "output_type": "stream",
     "text": [
      "22601\n"
     ]
    },
    {
     "name": "stderr",
     "output_type": "stream",
     "text": [
      "100%|██████████| 1759/1759 [00:03<00:00, 484.49it/s]\n",
      "  3%|▎         | 50/1759 [00:00<00:03, 491.47it/s]"
     ]
    },
    {
     "name": "stdout",
     "output_type": "stream",
     "text": [
      "22684\n"
     ]
    },
    {
     "name": "stderr",
     "output_type": "stream",
     "text": [
      "100%|██████████| 1759/1759 [00:03<00:00, 475.98it/s]\n",
      "  3%|▎         | 45/1759 [00:00<00:03, 449.33it/s]"
     ]
    },
    {
     "name": "stdout",
     "output_type": "stream",
     "text": [
      "22783\n"
     ]
    },
    {
     "name": "stderr",
     "output_type": "stream",
     "text": [
      "100%|██████████| 1759/1759 [00:03<00:00, 482.27it/s]\n",
      "  3%|▎         | 49/1759 [00:00<00:03, 480.59it/s]"
     ]
    },
    {
     "name": "stdout",
     "output_type": "stream",
     "text": [
      "22865\n"
     ]
    },
    {
     "name": "stderr",
     "output_type": "stream",
     "text": [
      "100%|██████████| 1759/1759 [00:03<00:00, 484.80it/s]\n",
      "  3%|▎         | 45/1759 [00:00<00:03, 447.50it/s]"
     ]
    },
    {
     "name": "stdout",
     "output_type": "stream",
     "text": [
      "22934\n"
     ]
    },
    {
     "name": "stderr",
     "output_type": "stream",
     "text": [
      "100%|██████████| 1759/1759 [00:03<00:00, 485.44it/s]\n",
      "  3%|▎         | 49/1759 [00:00<00:03, 482.13it/s]"
     ]
    },
    {
     "name": "stdout",
     "output_type": "stream",
     "text": [
      "23017\n"
     ]
    },
    {
     "name": "stderr",
     "output_type": "stream",
     "text": [
      "100%|██████████| 1759/1759 [00:03<00:00, 484.77it/s]\n",
      "  3%|▎         | 50/1759 [00:00<00:03, 494.05it/s]"
     ]
    },
    {
     "name": "stdout",
     "output_type": "stream",
     "text": [
      "23103\n"
     ]
    },
    {
     "name": "stderr",
     "output_type": "stream",
     "text": [
      "100%|██████████| 1759/1759 [00:03<00:00, 484.39it/s]\n",
      "  3%|▎         | 49/1759 [00:00<00:03, 481.50it/s]"
     ]
    },
    {
     "name": "stdout",
     "output_type": "stream",
     "text": [
      "23184\n"
     ]
    },
    {
     "name": "stderr",
     "output_type": "stream",
     "text": [
      "100%|██████████| 1759/1759 [00:03<00:00, 489.99it/s]\n",
      "  3%|▎         | 53/1759 [00:00<00:03, 521.21it/s]"
     ]
    },
    {
     "name": "stdout",
     "output_type": "stream",
     "text": [
      "23267\n"
     ]
    },
    {
     "name": "stderr",
     "output_type": "stream",
     "text": [
      "100%|██████████| 1759/1759 [00:03<00:00, 488.26it/s]\n",
      "  2%|▏         | 41/1759 [00:00<00:04, 401.24it/s]"
     ]
    },
    {
     "name": "stdout",
     "output_type": "stream",
     "text": [
      "23353\n"
     ]
    },
    {
     "name": "stderr",
     "output_type": "stream",
     "text": [
      "100%|██████████| 1759/1759 [00:03<00:00, 473.75it/s]\n",
      "  2%|▏         | 43/1759 [00:00<00:04, 426.78it/s]"
     ]
    },
    {
     "name": "stdout",
     "output_type": "stream",
     "text": [
      "23441\n"
     ]
    },
    {
     "name": "stderr",
     "output_type": "stream",
     "text": [
      "100%|██████████| 1759/1759 [00:03<00:00, 472.45it/s]\n",
      "  3%|▎         | 45/1759 [00:00<00:03, 442.74it/s]"
     ]
    },
    {
     "name": "stdout",
     "output_type": "stream",
     "text": [
      "23529\n"
     ]
    },
    {
     "name": "stderr",
     "output_type": "stream",
     "text": [
      "100%|██████████| 1759/1759 [00:03<00:00, 474.36it/s]\n",
      "  3%|▎         | 51/1759 [00:00<00:03, 504.52it/s]"
     ]
    },
    {
     "name": "stdout",
     "output_type": "stream",
     "text": [
      "23623\n"
     ]
    },
    {
     "name": "stderr",
     "output_type": "stream",
     "text": [
      "100%|██████████| 1759/1759 [00:03<00:00, 477.60it/s]\n",
      "  3%|▎         | 49/1759 [00:00<00:03, 482.30it/s]"
     ]
    },
    {
     "name": "stdout",
     "output_type": "stream",
     "text": [
      "23700\n"
     ]
    },
    {
     "name": "stderr",
     "output_type": "stream",
     "text": [
      "100%|██████████| 1759/1759 [00:03<00:00, 481.22it/s]\n",
      "  3%|▎         | 51/1759 [00:00<00:03, 505.95it/s]"
     ]
    },
    {
     "name": "stdout",
     "output_type": "stream",
     "text": [
      "23781\n"
     ]
    },
    {
     "name": "stderr",
     "output_type": "stream",
     "text": [
      "100%|██████████| 1759/1759 [00:03<00:00, 483.07it/s]\n",
      "  3%|▎         | 48/1759 [00:00<00:03, 470.69it/s]"
     ]
    },
    {
     "name": "stdout",
     "output_type": "stream",
     "text": [
      "23864\n"
     ]
    },
    {
     "name": "stderr",
     "output_type": "stream",
     "text": [
      "100%|██████████| 1759/1759 [00:03<00:00, 477.28it/s]\n",
      "  2%|▏         | 43/1759 [00:00<00:04, 428.07it/s]"
     ]
    },
    {
     "name": "stdout",
     "output_type": "stream",
     "text": [
      "23939\n"
     ]
    },
    {
     "name": "stderr",
     "output_type": "stream",
     "text": [
      "100%|██████████| 1759/1759 [00:03<00:00, 478.84it/s]\n",
      "  3%|▎         | 51/1759 [00:00<00:03, 500.43it/s]"
     ]
    },
    {
     "name": "stdout",
     "output_type": "stream",
     "text": [
      "24014\n"
     ]
    },
    {
     "name": "stderr",
     "output_type": "stream",
     "text": [
      "100%|██████████| 1759/1759 [00:03<00:00, 479.84it/s]\n",
      "  3%|▎         | 44/1759 [00:00<00:03, 437.24it/s]"
     ]
    },
    {
     "name": "stdout",
     "output_type": "stream",
     "text": [
      "24092\n"
     ]
    },
    {
     "name": "stderr",
     "output_type": "stream",
     "text": [
      "100%|██████████| 1759/1759 [00:03<00:00, 482.82it/s]\n",
      "  3%|▎         | 49/1759 [00:00<00:03, 486.54it/s]"
     ]
    },
    {
     "name": "stdout",
     "output_type": "stream",
     "text": [
      "24175\n"
     ]
    },
    {
     "name": "stderr",
     "output_type": "stream",
     "text": [
      "100%|██████████| 1759/1759 [00:03<00:00, 479.98it/s]\n",
      "  3%|▎         | 45/1759 [00:00<00:03, 445.49it/s]"
     ]
    },
    {
     "name": "stdout",
     "output_type": "stream",
     "text": [
      "24255\n"
     ]
    },
    {
     "name": "stderr",
     "output_type": "stream",
     "text": [
      "100%|██████████| 1759/1759 [00:03<00:00, 471.46it/s]\n",
      "  3%|▎         | 49/1759 [00:00<00:03, 483.63it/s]"
     ]
    },
    {
     "name": "stdout",
     "output_type": "stream",
     "text": [
      "24347\n"
     ]
    },
    {
     "name": "stderr",
     "output_type": "stream",
     "text": [
      "100%|██████████| 1759/1759 [00:03<00:00, 476.69it/s]\n",
      "  3%|▎         | 51/1759 [00:00<00:03, 501.42it/s]"
     ]
    },
    {
     "name": "stdout",
     "output_type": "stream",
     "text": [
      "24421\n"
     ]
    },
    {
     "name": "stderr",
     "output_type": "stream",
     "text": [
      "100%|██████████| 1759/1759 [00:03<00:00, 482.19it/s]\n",
      "  3%|▎         | 47/1759 [00:00<00:03, 463.77it/s]"
     ]
    },
    {
     "name": "stdout",
     "output_type": "stream",
     "text": [
      "24503\n"
     ]
    },
    {
     "name": "stderr",
     "output_type": "stream",
     "text": [
      "100%|██████████| 1759/1759 [00:03<00:00, 481.74it/s]\n",
      "  3%|▎         | 52/1759 [00:00<00:03, 514.27it/s]"
     ]
    },
    {
     "name": "stdout",
     "output_type": "stream",
     "text": [
      "24587\n"
     ]
    },
    {
     "name": "stderr",
     "output_type": "stream",
     "text": [
      "100%|██████████| 1759/1759 [00:03<00:00, 479.43it/s]\n",
      "  3%|▎         | 49/1759 [00:00<00:03, 481.77it/s]"
     ]
    },
    {
     "name": "stdout",
     "output_type": "stream",
     "text": [
      "24675\n"
     ]
    },
    {
     "name": "stderr",
     "output_type": "stream",
     "text": [
      "100%|██████████| 1759/1759 [00:03<00:00, 473.39it/s]\n",
      "  3%|▎         | 51/1759 [00:00<00:03, 506.26it/s]"
     ]
    },
    {
     "name": "stdout",
     "output_type": "stream",
     "text": [
      "24753\n"
     ]
    },
    {
     "name": "stderr",
     "output_type": "stream",
     "text": [
      "100%|██████████| 1759/1759 [00:03<00:00, 479.38it/s]\n",
      "  3%|▎         | 52/1759 [00:00<00:03, 517.05it/s]"
     ]
    },
    {
     "name": "stdout",
     "output_type": "stream",
     "text": [
      "24835\n"
     ]
    },
    {
     "name": "stderr",
     "output_type": "stream",
     "text": [
      "100%|██████████| 1759/1759 [00:03<00:00, 482.11it/s]\n",
      "  3%|▎         | 49/1759 [00:00<00:03, 489.45it/s]"
     ]
    },
    {
     "name": "stdout",
     "output_type": "stream",
     "text": [
      "24922\n"
     ]
    },
    {
     "name": "stderr",
     "output_type": "stream",
     "text": [
      "100%|██████████| 1759/1759 [00:03<00:00, 480.88it/s]\n",
      "  3%|▎         | 51/1759 [00:00<00:03, 502.43it/s]"
     ]
    },
    {
     "name": "stdout",
     "output_type": "stream",
     "text": [
      "25016\n"
     ]
    },
    {
     "name": "stderr",
     "output_type": "stream",
     "text": [
      "100%|██████████| 1759/1759 [00:03<00:00, 482.80it/s]\n",
      "  3%|▎         | 50/1759 [00:00<00:03, 497.70it/s]"
     ]
    },
    {
     "name": "stdout",
     "output_type": "stream",
     "text": [
      "25105\n"
     ]
    },
    {
     "name": "stderr",
     "output_type": "stream",
     "text": [
      "100%|██████████| 1759/1759 [00:03<00:00, 494.72it/s]\n",
      "  3%|▎         | 49/1759 [00:00<00:03, 487.89it/s]"
     ]
    },
    {
     "name": "stdout",
     "output_type": "stream",
     "text": [
      "25174\n"
     ]
    },
    {
     "name": "stderr",
     "output_type": "stream",
     "text": [
      "100%|██████████| 1759/1759 [00:03<00:00, 478.06it/s]\n",
      "  3%|▎         | 48/1759 [00:00<00:03, 479.57it/s]"
     ]
    },
    {
     "name": "stdout",
     "output_type": "stream",
     "text": [
      "25266\n"
     ]
    },
    {
     "name": "stderr",
     "output_type": "stream",
     "text": [
      "100%|██████████| 1759/1759 [00:03<00:00, 479.82it/s]\n",
      "  3%|▎         | 52/1759 [00:00<00:03, 513.74it/s]"
     ]
    },
    {
     "name": "stdout",
     "output_type": "stream",
     "text": [
      "25347\n"
     ]
    },
    {
     "name": "stderr",
     "output_type": "stream",
     "text": [
      "100%|██████████| 1759/1759 [00:03<00:00, 488.50it/s]\n",
      "  3%|▎         | 46/1759 [00:00<00:03, 453.29it/s]"
     ]
    },
    {
     "name": "stdout",
     "output_type": "stream",
     "text": [
      "25450\n"
     ]
    },
    {
     "name": "stderr",
     "output_type": "stream",
     "text": [
      "100%|██████████| 1759/1759 [00:03<00:00, 484.73it/s]\n",
      "  3%|▎         | 49/1759 [00:00<00:03, 486.52it/s]"
     ]
    },
    {
     "name": "stdout",
     "output_type": "stream",
     "text": [
      "25521\n"
     ]
    },
    {
     "name": "stderr",
     "output_type": "stream",
     "text": [
      "100%|██████████| 1759/1759 [00:03<00:00, 485.47it/s]\n",
      "  3%|▎         | 48/1759 [00:00<00:03, 473.12it/s]"
     ]
    },
    {
     "name": "stdout",
     "output_type": "stream",
     "text": [
      "25594\n"
     ]
    },
    {
     "name": "stderr",
     "output_type": "stream",
     "text": [
      "100%|██████████| 1759/1759 [00:03<00:00, 482.65it/s]\n",
      "  3%|▎         | 51/1759 [00:00<00:03, 509.90it/s]"
     ]
    },
    {
     "name": "stdout",
     "output_type": "stream",
     "text": [
      "25703\n"
     ]
    },
    {
     "name": "stderr",
     "output_type": "stream",
     "text": [
      "100%|██████████| 1759/1759 [00:03<00:00, 485.65it/s]\n",
      "  3%|▎         | 49/1759 [00:00<00:03, 482.86it/s]"
     ]
    },
    {
     "name": "stdout",
     "output_type": "stream",
     "text": [
      "25783\n"
     ]
    },
    {
     "name": "stderr",
     "output_type": "stream",
     "text": [
      "100%|██████████| 1759/1759 [00:03<00:00, 484.46it/s]\n",
      "  3%|▎         | 51/1759 [00:00<00:03, 505.89it/s]"
     ]
    },
    {
     "name": "stdout",
     "output_type": "stream",
     "text": [
      "25863\n"
     ]
    },
    {
     "name": "stderr",
     "output_type": "stream",
     "text": [
      "100%|██████████| 1759/1759 [00:03<00:00, 474.58it/s]\n",
      "  3%|▎         | 50/1759 [00:00<00:03, 499.32it/s]"
     ]
    },
    {
     "name": "stdout",
     "output_type": "stream",
     "text": [
      "25962\n"
     ]
    },
    {
     "name": "stderr",
     "output_type": "stream",
     "text": [
      "100%|██████████| 1759/1759 [00:03<00:00, 482.93it/s]\n",
      "  3%|▎         | 48/1759 [00:00<00:03, 477.77it/s]"
     ]
    },
    {
     "name": "stdout",
     "output_type": "stream",
     "text": [
      "26041\n"
     ]
    },
    {
     "name": "stderr",
     "output_type": "stream",
     "text": [
      "100%|██████████| 1759/1759 [00:03<00:00, 483.93it/s]\n",
      "  3%|▎         | 47/1759 [00:00<00:03, 465.02it/s]"
     ]
    },
    {
     "name": "stdout",
     "output_type": "stream",
     "text": [
      "26136\n"
     ]
    },
    {
     "name": "stderr",
     "output_type": "stream",
     "text": [
      "100%|██████████| 1759/1759 [00:03<00:00, 484.44it/s]\n",
      "  3%|▎         | 51/1759 [00:00<00:03, 504.24it/s]"
     ]
    },
    {
     "name": "stdout",
     "output_type": "stream",
     "text": [
      "26227\n"
     ]
    },
    {
     "name": "stderr",
     "output_type": "stream",
     "text": [
      "100%|██████████| 1759/1759 [00:03<00:00, 485.89it/s]\n",
      "  3%|▎         | 50/1759 [00:00<00:03, 499.70it/s]"
     ]
    },
    {
     "name": "stdout",
     "output_type": "stream",
     "text": [
      "26315\n"
     ]
    },
    {
     "name": "stderr",
     "output_type": "stream",
     "text": [
      "100%|██████████| 1759/1759 [00:03<00:00, 481.82it/s]\n",
      "  3%|▎         | 49/1759 [00:00<00:03, 489.32it/s]"
     ]
    },
    {
     "name": "stdout",
     "output_type": "stream",
     "text": [
      "26391\n"
     ]
    },
    {
     "name": "stderr",
     "output_type": "stream",
     "text": [
      "100%|██████████| 1759/1759 [00:03<00:00, 476.81it/s]\n",
      "  3%|▎         | 47/1759 [00:00<00:03, 465.52it/s]"
     ]
    },
    {
     "name": "stdout",
     "output_type": "stream",
     "text": [
      "26484\n"
     ]
    },
    {
     "name": "stderr",
     "output_type": "stream",
     "text": [
      "100%|██████████| 1759/1759 [00:03<00:00, 487.64it/s]\n",
      "  3%|▎         | 50/1759 [00:00<00:03, 491.59it/s]"
     ]
    },
    {
     "name": "stdout",
     "output_type": "stream",
     "text": [
      "26564\n"
     ]
    },
    {
     "name": "stderr",
     "output_type": "stream",
     "text": [
      "100%|██████████| 1759/1759 [00:03<00:00, 480.75it/s]\n",
      "  3%|▎         | 53/1759 [00:00<00:03, 521.71it/s]"
     ]
    },
    {
     "name": "stdout",
     "output_type": "stream",
     "text": [
      "26639\n"
     ]
    },
    {
     "name": "stderr",
     "output_type": "stream",
     "text": [
      "100%|██████████| 1759/1759 [00:03<00:00, 486.85it/s]\n",
      "  3%|▎         | 49/1759 [00:00<00:03, 488.33it/s]"
     ]
    },
    {
     "name": "stdout",
     "output_type": "stream",
     "text": [
      "26721\n"
     ]
    },
    {
     "name": "stderr",
     "output_type": "stream",
     "text": [
      " 91%|█████████ | 1605/1759 [00:03<00:00, 489.83it/s]"
     ]
    }
   ],
   "source": [
    "noized_lines = np.zeros((num, 128))\n",
    "originals = np.zeros((num, 128))\n",
    "\n",
    "c = 0\n",
    "while c < num:\n",
    "    for sp in tqdm(db):\n",
    "        noised = add_noize_arr(sp, noise_matrix_ES1)\n",
    "        if any(noised != sp):\n",
    "            noized_lines[c] = noised\n",
    "            originals[c] = sp\n",
    "            c += 1\n",
    "        if c == 5000:\n",
    "            break\n",
    "    print(c)"
   ]
  },
  {
   "cell_type": "code",
   "execution_count": 103,
   "metadata": {},
   "outputs": [],
   "source": [
    "np.save(\"../data/npy/db_noised_AE\", noized_lines)\n",
    "np.save(\"../data/npy/db_originals_AE\", originals)"
   ]
  },
  {
   "cell_type": "code",
   "execution_count": 18,
   "metadata": {},
   "outputs": [
    {
     "data": {
      "text/plain": [
       "811"
      ]
     },
     "execution_count": 18,
     "metadata": {},
     "output_type": "execute_result"
    }
   ],
   "source": [
    "len(noized_lines)"
   ]
  },
  {
   "cell_type": "code",
   "execution_count": 255,
   "metadata": {},
   "outputs": [
    {
     "data": {
      "text/plain": [
       "['GACAGAACGGCCTCAGTAGTCTCGTCAGGCTC',\n",
       " 'ACACGCCCTTATCAAATAGCTGTGATTTACCTA',\n",
       " 'ATAGACCCCGAACAACAATACGCGCAAACCGA',\n",
       " 'TACCGTACAGACTGCCGGATATTATTTTTTTG',\n",
       " 'CTGCTGCTCGAGCTGGTGGAGTGCTGCTATAG',\n",
       " 'AACGTCAGGTTGTCGCCGCTCTGCGTGGTCGC',\n",
       " 'TGCATGGCTTTGGCTTCCTCTTTGACGGACGC',\n",
       " 'ATATATCAGAGCAAAAAACAAAGCCACAGCCA',\n",
       " 'CATAAAGAAACTATTTTGCGTTTCGTTCAGGT',\n",
       " 'TTTTACAGTGTCAACAATCGTTCCCTGATTGT',\n",
       " 'CCGCCGTTGGCACCGTCAAACTCCGGTACTGT',\n",
       " 'TATAGAGATCGTTTTTGGAATTTACAGCGAGG',\n",
       " 'CCGTAAGTGGTTTGAGCGATGATATTTGTGCT',\n",
       " 'AGTGCTGGACCATTTCAAATTCACAATAGATT',\n",
       " 'GGAATGATATTTCAATAAATAATTATAACAAT',\n",
       " 'CCCTCACACCGATTCGCCAAACGGTGGAGAAG',\n",
       " 'AGCTGGGCGAAATTTTGATTCATCGTGATGAC']"
      ]
     },
     "execution_count": 255,
     "metadata": {},
     "output_type": "execute_result"
    }
   ],
   "source": [
    "ans_3_split[2] + ans_3_split[3]"
   ]
  },
  {
   "cell_type": "code",
   "execution_count": 258,
   "metadata": {},
   "outputs": [
    {
     "data": {
      "text/plain": [
       "173600"
      ]
     },
     "execution_count": 258,
     "metadata": {},
     "output_type": "execute_result"
    }
   ],
   "source": [
    "len(noized_lines)"
   ]
  },
  {
   "cell_type": "code",
   "execution_count": 259,
   "metadata": {
    "collapsed": true
   },
   "outputs": [],
   "source": [
    "np.random.shuffle(noized_lines)"
   ]
  },
  {
   "cell_type": "code",
   "execution_count": 22,
   "metadata": {},
   "outputs": [
    {
     "data": {
      "text/plain": [
       "(811, 128)"
      ]
     },
     "execution_count": 22,
     "metadata": {},
     "output_type": "execute_result"
    }
   ],
   "source": [
    "X.shape"
   ]
  },
  {
   "cell_type": "code",
   "execution_count": 21,
   "metadata": {},
   "outputs": [
    {
     "name": "stderr",
     "output_type": "stream",
     "text": [
      "811it [00:00, 44100.20it/s]\n",
      "811it [00:00, 41345.04it/s]\n"
     ]
    }
   ],
   "source": [
    "X = to_array([x[:31] for x in noized_lines])\n",
    "np.save(\"../data/npy/noised_ES1_AE\", X)\n",
    "\n",
    "X = to_array([x[:31] for x in originals])\n",
    "np.save(\"../data/npy/noised_ES1_AE_originals\", X)"
   ]
  },
  {
   "cell_type": "code",
   "execution_count": 218,
   "metadata": {
    "collapsed": true
   },
   "outputs": [],
   "source": [
    "s = set([x[:31] for x in ans_3_split[0] + ans_3_split[1] + ans_3_split[2] + ans_3_split[3]])"
   ]
  },
  {
   "cell_type": "code",
   "execution_count": 78,
   "metadata": {
    "collapsed": true
   },
   "outputs": [],
   "source": [
    "s_1 = set([x[:32] for x in K_1 + K_2])"
   ]
  },
  {
   "cell_type": "code",
   "execution_count": 261,
   "metadata": {
    "collapsed": true
   },
   "outputs": [],
   "source": [
    "c = 0\n",
    "for l in noized_lines[:]:\n",
    "    #print(l)\n",
    "    if l[:31] in s:\n",
    "        c += 1"
   ]
  },
  {
   "cell_type": "code",
   "execution_count": 253,
   "metadata": {},
   "outputs": [
    {
     "data": {
      "text/plain": [
       "0.9565485278080698"
      ]
     },
     "execution_count": 253,
     "metadata": {},
     "output_type": "execute_result"
    }
   ],
   "source": [
    "c / len(noized_lines)"
   ]
  },
  {
   "cell_type": "code",
   "execution_count": 262,
   "metadata": {},
   "outputs": [
    {
     "data": {
      "text/plain": [
       "165475"
      ]
     },
     "execution_count": 262,
     "metadata": {},
     "output_type": "execute_result"
    }
   ],
   "source": [
    "c"
   ]
  },
  {
   "cell_type": "code",
   "execution_count": 81,
   "metadata": {},
   "outputs": [
    {
     "data": {
      "text/plain": [
       "{'AAGCTGGCTGGCAATCTCTTTCGGGGTGAGTC',\n",
       " 'AGCGTGTTCGGCATCACCTTTGGCTTCGGCTG',\n",
       " 'ATTACGCCTTTTTGCGATTGCCCGGTTTTTGC',\n",
       " 'CAGCGTCAGGCGTGAAATCTCACCGTCGTTGC',\n",
       " 'CCGGGGGATAATGTTTACGGTCATGCGCCCCC',\n",
       " 'CTGTTTTCGCAAATCTATGGACTATTGCTATT',\n",
       " 'GAAATGCTGGTGAGCGTTAATGCCGCAAACAC',\n",
       " 'GACAGAACGGCCTCAGTAGTCTCGTCAGGCTC',\n",
       " 'GCAGGCGGCGACGCGCAGGGTATGCGCGATTC',\n",
       " 'GCGACCGCTCAGAAATTCCAGACCCGATCCAA',\n",
       " 'GGGCGCACGGAATACAAAGCCGTGTATCTGCT',\n",
       " 'GTAGTCCATCATTCCACCTATGTCTGAACTCC',\n",
       " 'TAGTTTCCGTATCTCCGGATTTATAAAGCTGA',\n",
       " 'TCAACATTATCAATTACAACCGACAGGGAGCC',\n",
       " 'TCGGTTCAGGCGTTGCAAACCTGGCTACCGGG',\n",
       " 'TGCGTGAGCGTATCGCCGCGCGTCTGCGAAAG',\n",
       " 'TGGCTCTGCAACAGCAGCACCCATGACCACGT',\n",
       " 'TGGGCGGCTTGCCTTGCAGCCAGCTCCAGCAG'}"
      ]
     },
     "execution_count": 81,
     "metadata": {},
     "output_type": "execute_result"
    }
   ],
   "source": [
    "s_1"
   ]
  },
  {
   "cell_type": "code",
   "execution_count": null,
   "metadata": {
    "collapsed": true
   },
   "outputs": [],
   "source": []
  },
  {
   "cell_type": "markdown",
   "metadata": {},
   "source": [
    "#### How many?"
   ]
  },
  {
   "cell_type": "code",
   "execution_count": 111,
   "metadata": {
    "collapsed": true
   },
   "outputs": [],
   "source": [
    "import matplotlib.pyplot as plt"
   ]
  },
  {
   "cell_type": "code",
   "execution_count": 157,
   "metadata": {
    "collapsed": true
   },
   "outputs": [],
   "source": [
    "with open(\"../data/ES/ES3_R1_spacers.txt\") as f:\n",
    "    lines = [x[:-2][:31]  for x in f.readlines()[1:]]"
   ]
  },
  {
   "cell_type": "code",
   "execution_count": 158,
   "metadata": {
    "collapsed": true
   },
   "outputs": [],
   "source": [
    "with open(\"../data/ES/ES3_R2_spacers.txt\") as f:\n",
    "    lines_2 = [x[:-2][:31]  for x in f.readlines()[1:]]"
   ]
  },
  {
   "cell_type": "code",
   "execution_count": 159,
   "metadata": {},
   "outputs": [
    {
     "data": {
      "text/plain": [
       "333870"
      ]
     },
     "execution_count": 159,
     "metadata": {},
     "output_type": "execute_result"
    }
   ],
   "source": [
    "len(lines + lines_2)"
   ]
  },
  {
   "cell_type": "code",
   "execution_count": 143,
   "metadata": {},
   "outputs": [
    {
     "data": {
      "text/plain": [
       "333"
      ]
     },
     "execution_count": 143,
     "metadata": {},
     "output_type": "execute_result"
    }
   ],
   "source": [
    "198 + 135"
   ]
  },
  {
   "cell_type": "code",
   "execution_count": 126,
   "metadata": {
    "collapsed": true
   },
   "outputs": [],
   "source": [
    "from collections import Counter"
   ]
  },
  {
   "cell_type": "code",
   "execution_count": 127,
   "metadata": {},
   "outputs": [
    {
     "data": {
      "text/plain": [
       "Counter({'GGGCGCACGGAATACAAAGCCGTGTATCTGC': 14847,\n",
       "         'TGGCTCTGCAACAGCAGCACCCATGACCACG': 17491,\n",
       "         'GACAGAACGGCCTCAGTAGTCTCGTCAGGCT': 11252,\n",
       "         'CTGTTTTCGCAAATCTATGGACTATTGCTAT': 16543,\n",
       "         'GAAATGCTGGTGAGCGTTAATGCCGCAAACA': 15988,\n",
       "         'ATTACGCCTTTTTGCGATTGCCCGGTTTTTG': 12869,\n",
       "         'GTAGTCCATCATTCCACCTATGTCTGAACTC': 12293,\n",
       "         'CCGGGGGATAATGTTTACGGTCATGCGCCCC': 6061,\n",
       "         'TCGGTTCAGGCGTTGCAAACCAGGCTACCGG': 8,\n",
       "         'TCGGTCCAGGCGTTGCAAACCTGGCTACCGG': 21,\n",
       "         'TGGGCGGCTTGCCTTGCAGCCAGCTCCAGCA': 5362,\n",
       "         'AAGCTGGCTGGCAATCTCCTTCGGGGTGAGT': 13,\n",
       "         'GCAGGCGGCGACGCGCAGGGTATGCGCGATT': 5935,\n",
       "         'GCGACCGCTCAGAAATTCCAGACCCGATCCA': 6720,\n",
       "         'TCGGTTCAGGCGTTGCAAACCTGGCTACCGG': 13837,\n",
       "         'AAGCTGGCTGGCAATCTCTTTCGGGGTGAGT': 6090,\n",
       "         'TCAACATTATCAATTACAACCGACAGGGAGC': 6656,\n",
       "         'AGCGTGTTCGGCATCACCTTTGGCTTCGGCT': 4543,\n",
       "         'TGGCTCTGCAACAGCAGCACCCATGGCCACG': 39,\n",
       "         'TAGTTTCCGTATCTCCGGATTTATAAAGCTG': 6451,\n",
       "         'TAGCTTCCGTATCTCCGGATTTATAAAGCTG': 15,\n",
       "         'CAAGTGATATCCATCATCGCATCCAGTGCGC': 4863,\n",
       "         'CAGCGTCAGGCGTGAAATCTCACCGTCGTTG': 4499,\n",
       "         'TGGCTCTGCAACAGCAGCACTCATGACCACG': 8,\n",
       "         'CTGTTTTCGCAAATCTATGGACTATCGCTAT': 28,\n",
       "         'GTAGTCCATCATTCCACCTACGTCTGAACTC': 23,\n",
       "         'CAAGTGATATCCATCATCGCATCCAATGCGC': 5,\n",
       "         'GTAGTCCGTCATTCCACCTATGTCTGAACTC': 17,\n",
       "         'CTGTTTTCGCAATCTATGGACTATTGCTAT': 4,\n",
       "         'CAAGTGATATCCATCATCGCATTCAGTGCGC': 4,\n",
       "         'GGGCGCACGGAATACAATGCCGTGTATCTGC': 5,\n",
       "         'GGGCGCACGGAATACGAAGCCGTGTATCTGC': 39,\n",
       "         'GGGCGCACGGAATACAAAGCCGTGTATTTGC': 7,\n",
       "         'CAAGTGATATCCATCATCGCGTCCAGTGCGC': 8,\n",
       "         'AAGCTGGCTGGCAACCTCTTTCGGGGTGAGT': 14,\n",
       "         'TGGCGCTGCAACAGCAGCACCCATGACCACG': 5,\n",
       "         'GGGCGCGCGGAATACAAAGCCGTGTATCTGC': 35,\n",
       "         'TGGCTCTGCAGCAGCAGCACCCATGACCACG': 30,\n",
       "         'GCAGTCCATCATTCCACCTATGTCTGAACTC': 17,\n",
       "         'TGGCCCTGCAACAGCAGCACCCATGACCACG': 38,\n",
       "         'ATTACGCCTTTTTGCGATTGCCCGGTTTTCG': 23,\n",
       "         'CTGTTTTCGCAAATCTATGGACTATGCTAT': 5,\n",
       "         'TAGTTTCCGTATCCCCGGATTTATAAAGCTG': 11,\n",
       "         'TGGGCGGCTTGCCCTGCAGCCAGCTCCAGCA': 9,\n",
       "         'TGGCTCTGCATCAGCAGCACCCATGACCACG': 4,\n",
       "         'GGGCGCACGGAATACAAAGCCGCGTATCTGC': 39,\n",
       "         'TGGCTCTGCAACAGCAGCACCCATGATCACG': 7,\n",
       "         'GGAAACCGCCCCGGCGGTGGTTAGCTGTTTG': 2,\n",
       "         'ATGACTACACGTACCCGATGCGCGGCGCGGG': 2,\n",
       "         'GCAGGCGGCTTGCCTTGCAGCCAGCTCCAGC': 3,\n",
       "         'CAGCGTCAGGCGTGAAATCTCACAGTCGTTG': 1,\n",
       "         'CCGGGGGATAATGTTTACGGCCATGCGCCCC': 10,\n",
       "         'TAGTTTCCGTATCTCCGGATTTATAAAGCCG': 12,\n",
       "         'TGGGCGGCTTACCTTGCAGCCAGCTCCAGCA': 2,\n",
       "         'TGGGCGGCTTGCCATGCAGCCAGCTCCAGCA': 4,\n",
       "         'CGAGTGATATCCATCATCGCATCCAGTGCGC': 3,\n",
       "         'ATTACGCCCTTTTGCGATTGCCCGGTTTTTG': 24,\n",
       "         'GAAATGCTGGTGAGCGTTAACGCCGCAAACA': 30,\n",
       "         'GACAGAACGGCCTCAGTAGTCCCGTCAGGCT': 18,\n",
       "         'GAAACGCTGGTGAGCGTTAATGCCGCAAACA': 19,\n",
       "         'CTGTTTTCGCAAATCTATGGGCTATTGCTAT': 36,\n",
       "         'CTGTTTTCGCAAATCTATGGACTATTACTAT': 14,\n",
       "         'CAGCGCCAGGCGTGAAATCTCACCGTCGTTG': 6,\n",
       "         'TAGTTTCCGTATCTCCGGATTTATAGAGCTG': 15,\n",
       "         'TGGGCGGCTTGCCTCGCAGCCAGCTCCAGCA': 11,\n",
       "         'TGGCTCTGCAACAGCAGCACCATGACCACG': 9,\n",
       "         'CTGTTTTCGCAAAGCTATGGACTATTGCTAT': 5,\n",
       "         'ATTACGCCTTTTTGCGATTGCCCGGTTCTTG': 17,\n",
       "         'TGGGCGGCTTGCCTTGCAGCCGGCTCCAGCA': 8,\n",
       "         'GCGACCGCTCAGAAGTTCCAGACCCGATCCA': 8,\n",
       "         'TCGGTTCAGGCGTTGCGAACCTGGCTACCGG': 30,\n",
       "         'GAAATGCTGTGAGCGTTAATGCCGCAAACA': 12,\n",
       "         'TCAACATTACCAATTACAACCGACAGGGAGC': 9,\n",
       "         'GAAATGCTGGCGAGCGTTAATGCCGCAAACA': 20,\n",
       "         'TGGGCGGCTTGCCTGCAGCCAGCTCCAGCA': 1,\n",
       "         'GCGACCGCCCAGGAATTCCAGACCCGATCCA': 1,\n",
       "         'GGCAATAGCGAACAACAAGGTCGGTTGTTTG': 48,\n",
       "         'ATTACGCCTTTTTGCGATTGCCCGGTTTTTT': 4,\n",
       "         'GAAATGCCGGTGAGCGTTAATGCCGCAAACA': 32,\n",
       "         'ATTACGCCTTTTTGCGATTGCCCGGTCTTTG': 33,\n",
       "         'GCAGGCGGCGACGCGCAGGGTGTGCGCGATT': 6,\n",
       "         'ATTATGCCTTTTTGCGATTGCCCGGTTTTTG': 11,\n",
       "         'ATTACGCCTTCTTGCGATTGCCCGGTTTTTG': 29,\n",
       "         'AAGCTGGCTGGCAATCTCTTTCGGGGCGAGT': 14,\n",
       "         'TCGGTTTAGGCGTTGCAAACCTGGCTACCGG': 12,\n",
       "         'GAAATGCTGGTGAGCGCTAATGCCGCAAACA': 34,\n",
       "         'GAAATGCTGGTGAGCGTTAATGCCGCAAGCA': 43,\n",
       "         'ATTACGCCTCTTTGCGATTGCCCGGTTTTTG': 37,\n",
       "         'CCGTTTTCGCAAATCTATGGACTATTGCTAT': 24,\n",
       "         'GTAGTCCATCATTCCGCCTATGTCCGAACTC': 1,\n",
       "         'GCAGGCGGCGACGCGCAGGGTATGCACGATT': 4,\n",
       "         'CAAGCGATATCCATCATCGCATCCAGTGCGC': 11,\n",
       "         'GACAGAACGGTCTCAGTAGTCTCGTCAGGCT': 4,\n",
       "         'TGGCTATGCAACAGCAGCACCCATGACCACG': 2,\n",
       "         'GCAGGCGGCGACGCGCTGGGTATGCGCGATT': 3,\n",
       "         'GCAGGCGGCGACGCGCAGGGTAGGCGAGATT': 1,\n",
       "         'TCGGTTCAGGCGTTGCACACCTGGCTACCGG': 3,\n",
       "         'CCGGGGAATAATGTTTACGGTCATGCGCCCC': 3,\n",
       "         'GACAGGACGGCCTCAGTAGTCTCGTCAGGCT': 23,\n",
       "         'TGGCTCTGCAACAGCAGCCCCCATGACCACG': 9,\n",
       "         'ATTACGCCTTTTTGCGATTGCCCGGTTTTG': 19,\n",
       "         'GGGCCCACGGAATACAAAGCCGTGTATCTGC': 1,\n",
       "         'CTGTTTCGCAAATCTATGGACTATTGCTAT': 3,\n",
       "         'GTAGTCCATCATTCCACCTATGTCCGAACTC': 21,\n",
       "         'TGGGTTCAGGCGTTGCAAACCTGGCTACCGG': 6,\n",
       "         'CTGTTTTCGCAAATCTATGAACTATTGCTAT': 12,\n",
       "         'ATTACGCCTTTTTGCGATTGCCCGGCTTTTG': 24,\n",
       "         'TCGGTTCAGGCGTCGCAAACCTGGCTACCGG': 21,\n",
       "         'TCGGGGGATAATGTTTACGGTCATGCGCCCC': 39,\n",
       "         'GCGACCGCTCAGAAATTCCAGACCCGATCCG': 6,\n",
       "         'ATCACGCCTTTTTGCGATTGCCCGGTTTTTG': 19,\n",
       "         'GTTACGCCTTTTTGCGATTGCCCGGTTTTTG': 28,\n",
       "         'ATTACGCCTTATTGCGATTGCCCGGTTTTTG': 5,\n",
       "         'CTGTTTCCGCAAATCTATGGACTATTGCTAT': 28,\n",
       "         'TGCGTGAGCGTATCGCCGCGTGTCTGCGAAA': 1,\n",
       "         'CTGCTTTCGCAAATCTATGGACTATTGCTAT': 33,\n",
       "         'TGGCTCTGCAACAGTAGCACCCATGACCACG': 14,\n",
       "         'GTAGTCCATCATCCACCTATGTCTGAACTC': 2,\n",
       "         'GACAGAACGGCCCCAGTAGTCTCGTCAGGCT': 18,\n",
       "         'TGCGTGAGCGTATCGCCGCGCGTCTGCGAAA': 440,\n",
       "         'AGCGTGTTCGGCATCACCTTTGGCTTCGGC': 2,\n",
       "         'TGGGCGGCCTGCCTTGCAGCCAGCTCCAGCA': 12,\n",
       "         'GACAGAACGGCCTCAGCAGTCTCGTCAGGCT': 8,\n",
       "         'TCGGTTCAGGCGTTGCAAACCTAGCTACCGG': 8,\n",
       "         'GAAATGCTGGTGAGCGTTAATGCCGCAAACC': 1,\n",
       "         'AGGCTCTGCAACAGCAGCACCCATGACCACG': 14,\n",
       "         'GAAATGCTGGTGAGCGTTAATGCTGCAAACA': 17,\n",
       "         'TGGCTCTGCAACAGCAGCACCCATGTCCACG': 7,\n",
       "         'TGGGCGGCTTGCCTTGCAGCTAGCTCCAGCA': 2,\n",
       "         'CCGGGGGATAATGTTTACGGGCATGCGCCCC': 1,\n",
       "         'AAGCTGGCGGCAATCTCTTTCGGGGTGAGT': 1,\n",
       "         'GTAGTCCATCATTCCACCTATGTCTGAGCTC': 35,\n",
       "         'GGGCGCACGGAATACAAGGCCGTGTATCTGC': 34,\n",
       "         'GTAGCCCATCATTCCACCTATGTCTGAACTC': 19,\n",
       "         'CCGGGGGTTAATGTTTACGGTCATGCGCCCC': 4,\n",
       "         'AAGCTGCTGGCAATCTCTTTCGGGGTGAGT': 2,\n",
       "         'CAGCGTCAGGCGTGAAATCTCATCGTCGTTG': 4,\n",
       "         'GAAATGCTGATGAGCGTTAATGCCGCAAACA': 14,\n",
       "         'CCGGGGGATAATGTTTAAGGTCATGCGCCCC': 1,\n",
       "         'GGGCGCACGGAATACACAGCCGTGTATCTGC': 2,\n",
       "         'TGGCTCTACAACAGCAGCACCCATGACCACG': 9,\n",
       "         'TGGGCGGCTCGCCTTGCAGCCAGCTCCAGCA': 11,\n",
       "         'AGCGTGTTCGGCATCACTTTGGCTTCGGCT': 2,\n",
       "         'TCAACGTTATCAATTACAACCGACAGGGAGC': 6,\n",
       "         'TGGGCGGCTTGCCTTGCGGCCAGCTCCAGCA': 8,\n",
       "         'TCGACATTATCAATTACAACCGACAGGGAGC': 6,\n",
       "         'AGCGTGTTCGGCACCACCTTTGGCTTCGGCT': 9,\n",
       "         'GGGCGCACGGAATACAGAGCCGTGTATCTGC': 34,\n",
       "         'GGGCGCCAGCGGAATACAAAGCCGTGTATCT': 1,\n",
       "         'GGGCACACGGAATACAAAGCCGTGTATCTGC': 16,\n",
       "         'GGGCGCACGGAATACAAAGCCGTGTACCTGC': 34,\n",
       "         'GGGCGCACGGAACACAAAGCCGTGTATCTGC': 19,\n",
       "         'GACAGAACGGCCTCAGTAGCCTCGTCAGGCT': 30,\n",
       "         'CCGGGGGATAATGTTTGCGGTCATGCGCCCC': 11,\n",
       "         'GACAGAACAGCCTCAGTAGTCTCGTCAGGCT': 17,\n",
       "         'TAGTCTCCGTATCTCCGGATTTATAAAGCTG': 18,\n",
       "         'CAAGTGATATCCATCATCGCATCAGTGCGC': 2,\n",
       "         'GGCGATAGCGAACAACAAGGTCGGTTGTTTG': 1,\n",
       "         'GAAATGCTGGTGAGCATTAATGCCGCAAACA': 11,\n",
       "         'ATTACGCCTTTTGCGATTGCCCGGTTTTTG': 15,\n",
       "         'CTGTTTTCGCAAATCCATGGACTATTGCTAT': 17,\n",
       "         'GAAATGCTGGTGAGCGTTGATGCCGCAAACA': 16,\n",
       "         'GTAGTCCATCGTTCCACCTATGTCTGAACTC': 21,\n",
       "         'GAAATGCTGGTGAGCGTTAATGCCGCAAACG': 23,\n",
       "         'TGGCTCTGCAACAACAGCACCCATGACCACG': 8,\n",
       "         'TGGGTGGCTTGCCTTGCAGCCAGCTCCAGCA': 4,\n",
       "         'GTAGTCCATCACTCCACCTATGTCTGAACTC': 31,\n",
       "         'ATTACGCCTTTTTGCGATTGCTCGGTTTTTG': 11,\n",
       "         'TCGGTTCGGGCGTTGCAAACCTGGCTACCGG': 22,\n",
       "         'AAGCTGGCTAGCAATCTCTTTCGGGGTGAGT': 7,\n",
       "         'TAGTTTCCGTACCTCCGGATTTATAAAGCTG': 10,\n",
       "         'GAAATGCTGGTGAGCGTTAATGCCGCGAACA': 19,\n",
       "         'GTAGTCCATCATTCCACCTATGCCTGAACTC': 32,\n",
       "         'AGCGTGTTCGGCATCACCTTTGGCTTCAGCT': 5,\n",
       "         'AGCGTGCTCGGCATCACCTTTGGCTTCGGCT': 16,\n",
       "         'CCGGGGGATAATGTTTACGGTCATGCGCCTC': 9,\n",
       "         'TCGGTTCAGGCGTTGCAGACCTGGCTACCGG': 32,\n",
       "         'GTAGTCCACCATTCCACCTATGTCTGAACTC': 28,\n",
       "         'GTAGTCCAACATTCCACCTATGTCTGAACTC': 3,\n",
       "         'CTGGTTTCGCAAATCTATGGACTATTGCTAT': 11,\n",
       "         'GCAGGCGGCGACGCGCAGGGTATGCGCGGTT': 8,\n",
       "         'ATTACGCCTTTTTGCGACTGCCCGGTTTTTG': 23,\n",
       "         'TGGCTCTGCAACGGCAGCACCCATGACCACG': 34,\n",
       "         'CTGTTTTCGCAAGTCTATGGACTATTGCTAT': 23,\n",
       "         'GAAATGCTGGTGAACGTTAATGCCGCAAACA': 7,\n",
       "         'TCGGTTCAGGCGCTGCAAACCTGGCTACCGG': 35,\n",
       "         'ATTACGCCTTTTTGCGATTGCCTGGTTTTTG': 14,\n",
       "         'AATCTGGCTGGCAATCTCTTTCGGGGTGAGT': 2,\n",
       "         'GACAGAACGGCCTCAATAGTCTCGTCAGGCT': 5,\n",
       "         'TGGCGCACGGAATACAAAGCCGTGTATCTGC': 9,\n",
       "         'AGCGTGTTCGGCATCACCTTCGGCTTCGGCT': 4,\n",
       "         'TCAACATTATCAATTACAACCGACAAGGAGC': 4,\n",
       "         'CCAGGGGATAATGTTTACGGTCATGCGCCCC': 7,\n",
       "         'GCAGGCGGCGACGCACAGGGTATGCGCGATT': 5,\n",
       "         'GTAGGCCATCATTCCACCTATGTCTGAACTC': 2,\n",
       "         'TGGCTCTGCAACAGCAACACCCATGACCACG': 11,\n",
       "         'TAGTTTCCGTATCTCCGGGTTTATAAAGCTG': 10,\n",
       "         'CCGAGGGATAATGTTTACGGTCATGCGCCCC': 4,\n",
       "         'CAGCGTTAGGCGTGAAATCTCACCGTCGTTG': 3,\n",
       "         'TCGGTTCAGGCGTTGCAAACCTGGCTGCCGG': 16,\n",
       "         'AAGCTGGCCGGCAATCTCTTTCGGGGTGAGT': 10,\n",
       "         'CCGGGGGATAGTGTTTACGGTCATGCGCCCC': 4,\n",
       "         'CTGTTTTCGCAAATCTATGGAATATTGCTAT': 2,\n",
       "         'GACAGAACGGCCTCAGTAGTCTCGCCAGGCT': 12,\n",
       "         'CTGTTTTCGCAAATCTGTGGACTATTGCTAT': 21,\n",
       "         'AGCGTGTTCGGCGTCACCTTTGGCTTCGGCT': 7,\n",
       "         'CTGTTTTCGCAAATCTATGGACTATTGCTGT': 17,\n",
       "         'CAGCGTCAGGCGTGGAATCTCACCGTCGTTG': 12,\n",
       "         'GAAATGCTGGTGAGCGTCAATGCCGCAAACA': 19,\n",
       "         'TGCGTGGGCGTATCGCCGCGCGTCTGCGAAA': 1,\n",
       "         'ATTACACCTTTTTGCGATTGCCCGGTTTTTG': 8,\n",
       "         'GAAATGCTGGTGGGCGTTAATGCCGCAAACA': 28,\n",
       "         'GAAATGTTGGTGAGCGTTAATGCCGCAAACA': 10,\n",
       "         'TAGTTTCCGTATCTCCGGATTTATAAGGCTG': 16,\n",
       "         'TCGATTCAGGCGTTGCAAACCTGGCTACCGG': 6,\n",
       "         'GACAGAACGGCCTCAGTAGTCTCGTCCGGCT': 3,\n",
       "         'TCGGTGCAGGTGTTGCAAACCTGGCTACCGG': 1,\n",
       "         'GTAGTCCATCATTCCCCCTATGTCTGAACTC': 13,\n",
       "         'ACTACGCCTTTTTGCGATTGCCCGGTTTTTG': 20,\n",
       "         'CTGTTTTCGCAAACCTATGGACTATTGCTAT': 30,\n",
       "         'GACAGAACGGCCTCGGTAGTCTCGTCAGGCT': 22,\n",
       "         'GAAATGCTGGTAAGCGTTAATGCCGCAAACA': 10,\n",
       "         'GGGCGCACGGAATACAAAGCCGTGTATCAGC': 4,\n",
       "         'CCGGGGGATAATGTTTACGGTCTTGCGCCCC': 2,\n",
       "         'GAAATGCTGGTGAGCGTTAGTGCCGCAAACA': 23,\n",
       "         'TCGGTTCAGGGGTTGCAAACCTGGCTACCGG': 2,\n",
       "         'GACAGAACGGCCTCAGTAGACTCGTCAGGCT': 3,\n",
       "         'CTGTTTTCGCAAATCTACGGACTATTGCTAT': 20,\n",
       "         'CAGCGTCAGGCGTGAAATCTCACCGTCGCTG': 8,\n",
       "         'GGAATGCTGGTGAGCGTTAATGCCGCAAACA': 28,\n",
       "         'GACAGAACGGCCTCAGTAGTCTCGTCAGGTT': 6,\n",
       "         'GAAATGCTGGTGAGCGTTAATGCCGCAACCA': 8,\n",
       "         'GCAGACGGCGACGCGCAGGGTATGCGCGATT': 2,\n",
       "         'GAAATGCTGGTGTGCGTTAATGCCGCAAACA': 6,\n",
       "         'GTAGTCCATCATTCCACCTATGTCTGAACTT': 3,\n",
       "         'GAAATGCTGGTGAGTGTTAATGCCGCAAACA': 21,\n",
       "         'ATTGCGCCTTTTTGCGATTGCCCGGTTTTTG': 13,\n",
       "         'TCGGTTCAGGCGTTGCAAACCTGGCTACTGG': 15,\n",
       "         'GAAATGCTGTTGAGCGTTAATGCCGCAAACA': 7,\n",
       "         'TAGTTCCCGTATCTCCGGATTTATAAAGCTG': 21,\n",
       "         'CAGTTTTCGCAAATCTATGGACTATTGCTAT': 6,\n",
       "         'ATCACGCCTTTCTGCGATTGCCCGGTTTTTG': 1,\n",
       "         'GAAATGCTGGTGAGCGTTAATGCCGCAGACA': 27,\n",
       "         'CTGTTTCCGCAAATCTACGGACTATTGCTAT': 1,\n",
       "         'TGGCTCCGCAACAGCAGCACCCATGACCACG': 47,\n",
       "         'ATTACGCCTTTTTGCGATTGCCCGATTTTTG': 8,\n",
       "         'GATAGAACGGCCTCAGTAGTCTCGTCAGGCT': 7,\n",
       "         'CTGTTCTCGCAAATCTATGGACTATTGCTAT': 41,\n",
       "         'TGGCTCTGCAACAGCAGCGCCCATGACCACG': 35,\n",
       "         'TCGGCTCAGGCGTTGCAAACCTGGCTACCGG': 43,\n",
       "         'CAGCGTCAGGCGAGAGATCTCACCGTCGTTG': 1,\n",
       "         'GTAGTCCATCATTCCACCCATGTCTGAACTC': 13,\n",
       "         'GAAATGCTGGTGAGCGTTAATGCCGCAACA': 4,\n",
       "         'TCAACATTATCAATTACAGCCGACAGGGAGC': 15,\n",
       "         'ATTACGCCTTTCTGCGATTGCCCGGTTTTTG': 30,\n",
       "         'CAGCGTCAGGCGTGAGATCTCACCGTCGTTG': 12,\n",
       "         'GGGCGTACGGAATACAAAGCCGTGTATCTGC': 10,\n",
       "         'CAAGTGACATCCATCATCGCATCCAGTGCGC': 6,\n",
       "         'AAAATGCTGGTGAGCGTTAATGCCGCAAACA': 22,\n",
       "         'GGGCGCACGGAATACAAAGCTGTGTATCTGC': 16,\n",
       "         'TAGTTTCCGTATCTCCGGATTCATAAAGCTG': 12,\n",
       "         'GGGCGCACGGGATACAAAGCCGTGTATCTGC': 23,\n",
       "         'CTGTCTTCGCAAATCTATGGACTATTGCTAT': 44,\n",
       "         'TGGCTCTGCAACAGCAGCACCCATGACCATG': 14,\n",
       "         'GTAGTCCATCATTCCTCCTATGTCTGAACTC': 4,\n",
       "         'GACAGAACGGCCTCAGTAGTCTCGTCGGGCT': 27,\n",
       "         'GTAGTCCATCATTCCACCTATGTCTGGACTC': 24,\n",
       "         'CGTTTTTCGCAAATCTATGGACTATTGCTAT': 1,\n",
       "         'GGCAACATAACGAACAAAATCAACGTCAACC': 4,\n",
       "         'CGGCTCTGCAACAGCAGCACCCATGACCACG': 35,\n",
       "         'GACAGAACGGCTTCAGTAGTCTCGTCAGGCT': 5,\n",
       "         'TGACTCTGCAACAGCAGCACCCATGACCACG': 12,\n",
       "         'CTGTTTTCACAAATCTATGGACTATTGCTAT': 12,\n",
       "         'GTTACGCCTTTTTGCGGTTGCCCGGTTTTTG': 1,\n",
       "         'GGGCGCACGGAGTACAAAGCCGTGTATCTGC': 48,\n",
       "         'TGGCTCTGCAACAGCGGCACCCATGACCACG': 45,\n",
       "         'GGCAGAACGGCCTCAGTAGTCTCGTCAGGCT': 17,\n",
       "         'GTAGTCCATCATTCCGCCTATGTCTGAACTC': 31,\n",
       "         'ATAGTCCATCATTCCACCTATGTCTGAACTC': 12,\n",
       "         'AAGCTGGCTGGCAATCCCTTTCGGGGTGAGT': 10,\n",
       "         'CTGTTTTCGCAAATCTATGGACTATTGTTAT': 9,\n",
       "         'TAGTTTCCGTATCTCCGGATTTGTAAAGCTG': 6,\n",
       "         'CCGGGAGATAATGTTTACGGTCATGCGCCCC': 3,\n",
       "         'TCGGTTCAGGCGTTGCAAACCTGGCCACCGG': 10,\n",
       "         'GCGACCGCTCAGAAATTCCAGACTCGATCCA': 2,\n",
       "         'AGCGTGTTCGGCATCGCCTTTGGCTTCGGCT': 11,\n",
       "         'GTAATGCTGGTGAGCGTTAATGCCGCAAACA': 8,\n",
       "         'GAAATACTGGTGAGCGTTAATGCCGCAAACA': 11,\n",
       "         'TGGCTCTGCAACAGCAGCAACCATGACCACG': 2,\n",
       "         'CTGTTTTCGCATATCTATGGACTATTGCTAT': 1,\n",
       "         'GTAGTCCATCATTCCAACTATGTCTGAACTC': 1,\n",
       "         'ATTACGCCTTTTTGCGATTGCCCGGTTTTTA': 7,\n",
       "         'ATAACGCCTTTTTGCGATTGCCCGGTTTTTG': 4,\n",
       "         'AAGCTGGCTGGCACTCTCTTTCGGGGTGAGT': 2,\n",
       "         'CCGGGGGGTAATGTTTACGGTCATGCGCCCC': 17,\n",
       "         'TCAACATCATCGATTACAACCGACAGGGAGC': 1,\n",
       "         'TCGGTTCAGGCGTTGCAAACCTGGCTACCGA': 5,\n",
       "         'GGGCGCACGGTATACAAAGCCGTGTATCTGC': 7,\n",
       "         'CTGTTTTCGCAAATCTTTGGACTATTGCTAT': 2,\n",
       "         'GAAGTGCTGGTGAGCGTTAATGCCGCAAACA': 31,\n",
       "         'CTGTTTTCGCAAATCTATGGACAATTGCTGT': 1,\n",
       "         'TGGGCGGCTTGCCTTGCAGCAGCTCCAGCA': 1,\n",
       "         'TAGTTTCTGTATCTCCGGATTTATAAAGCTG': 8,\n",
       "         'CTGTTTTCGCAAATCTATGGACTATTGCTAC': 36,\n",
       "         'CTGTTTTCGCGAATCTATGGACTATTGCTAT': 16,\n",
       "         'AGCGTGTTCGGCATCACCCTTGGCTTCGGCT': 13,\n",
       "         'GTAGTCCATCATTCCACCTGTGTCTGAACTC': 14,\n",
       "         'CCGGTTCAGGCGTTGCAAACCTGGCTACCGG': 35,\n",
       "         'AGGCTGGCTGGCAATCTCTTTCGGGGTGAGT': 9,\n",
       "         'TGGCTCTGCAACAGCAGCACCCATGACCGCG': 29,\n",
       "         'GAAATGCTGGTGAGAGTTAATGCCGCAAACA': 1,\n",
       "         'TCAACATTATCAATTACAACCGACAGGGAGT': 12,\n",
       "         'GTAGTCCATCATCCCACCTATGTCTGAACTC': 23,\n",
       "         'ATTACGCCTTTTTGCGGTTGCCCGGTTTTTG': 24,\n",
       "         'GCAGGCGGCCTCAGTAGTCTCGTCAGGCT': 2,\n",
       "         'TCAACATTATCAATTACAACCGACAGGGCGC': 2,\n",
       "         'GACAGAACGGCCTCAGGAGTCTCGTCAGGCT': 2,\n",
       "         'GTGGTCCATCATTCCACCTATGTCTGAACTC': 16,\n",
       "         'AAGTTCGACAACTTAAAAAATGATAACAAGT': 4,\n",
       "         'ATTACGCCTTTTTGCGATTGTCCGGTTTTTG': 12,\n",
       "         'AGCGCGTTCGGCATCACCTTTGGCTTCGGCT': 5,\n",
       "         'GCGACCGCTCAGAAATCCCAGACCCGATCCA': 5,\n",
       "         'GGGCGCTCGGAATACAAAGCCGTGTATCTGC': 5,\n",
       "         'TCAACATTATCAATTACAACCGACAGGGAG': 1,\n",
       "         'AAGCCGGCTGGCAATCTCTTTCGGGGTGAGT': 8,\n",
       "         'AGCGAGTTCGGCATCACCTTTGGCTTCGGCT': 1,\n",
       "         'GGCGCACGGAATACAAAGCCGTGTATCTGC': 4,\n",
       "         'GCAGGCGGCGACGCGCAGGGTATGCGTGATT': 3,\n",
       "         'GTAGTCCATAATTCCACCTATGTCTGAACTC': 1,\n",
       "         'GTAGTCCATCATTCCACCTATGTCGGAACTC': 1,\n",
       "         'CCGGGGGACAATGTTTACGGTCATGCGCCCC': 6,\n",
       "         'GCGACCGCTCAGAGATTCCAGACCCGATCCA': 10,\n",
       "         'CAAGTGATATCCACCATCGCATCCAGTGCGC': 10,\n",
       "         'ATTACGCCTTTTCGCGATTGCCCGGTTTTTG': 29,\n",
       "         'GGGCGCCCGGAATACAAAGCCGTGTATCTGC': 3,\n",
       "         'GCAGGCGTTGCAAACCTGGCTACCGG': 1,\n",
       "         'CAGCGTCAGGCGTGAAACCTCACCGTCGTTG': 11,\n",
       "         'GCGACCGCACAGAAATTCCAGACCCGATCCA': 3,\n",
       "         'TGGGCGGCTTGCCTTGCAGCCAGCTCAGCA': 2,\n",
       "         'GACAGAACGGCCTCAGTAGTCTCGTCAGGCC': 14,\n",
       "         'GACAAAACGGCCTCAGTAGTCTCGTCAGGCT': 12,\n",
       "         'GTAGTCCATCATACCACCTATGTCTGAACTC': 2,\n",
       "         'CAGTTTTCGCAAATCTATGGACCATTGCTAT': 1,\n",
       "         'TAGTTTCCGTATCTCCGGATTTACAAAGCTG': 9,\n",
       "         'GCAGGCGGCGACGCGCAGGGTATTCGCGATT': 1,\n",
       "         'CAGGGGGATAATGTTTACGGTCATGCGCCCC': 3,\n",
       "         'TGGCTCTGCAACAGCAGCACCCATAACCACG': 9,\n",
       "         'TGGGCGGCTTGCCTTGCAGCCAGATCCAGCA': 1,\n",
       "         'GACAGAGCGGCCTCAGTAGTCTCGTCAGGCT': 25,\n",
       "         'TGGCTCTGCGACAGCAGCACCCATGACCACG': 34,\n",
       "         'AAGCTGGCTTGCAATCTCTTTCGGGGTGAGT': 1,\n",
       "         'CCGGGGGATAATGTTTACAGTCATGCGCCCC': 2,\n",
       "         'GGGCGCACGTAATACAAAGCCGTGTATCTGC': 5,\n",
       "         'CAAGTGATATCCATCATCGCACCCAGTGCGC': 9,\n",
       "         'GACAGAACGGCCTCAGTAGTCTCGTTAGGCT': 9,\n",
       "         'TGGCTCTGCAACAGCAGCACCCTTGACCACG': 6,\n",
       "         'GGGCGCACGGAATACAAAGCCGTGTGTCTGC': 20,\n",
       "         'TAGTTTCCGTGTCTCCGGATTTATAAAGCTG': 2,\n",
       "         'GCAGGCGGCGACGTGCAGGGTATGCGCGATT': 4,\n",
       "         'GTAGTCCATCATTCCACCTATGTCTGAACCC': 24,\n",
       "         'GAAATGCTGGTGAGCGTTAATGTCGCAAACA': 7,\n",
       "         'GGGCGCACGGAATACAAAGCAGTGTATCTGC': 1,\n",
       "         'GGGCGCACGGATACAAAGCCGTGTATCTGC': 2,\n",
       "         'TGGCTCTGCAACAGCAGCACCCATGACCAC': 2,\n",
       "         'AAGCTGGCTGGCAATCTCTTTCGGGGTGGGT': 14,\n",
       "         'CCGGGGGATAATGTTTACGGTCATGCGCTCC': 2,\n",
       "         'GCGACCGCTCAGAAATTCCAGGCCCGATCCA': 16,\n",
       "         'AGCGTGTTCGGCATCACCTTTGGCTTTGGCT': 5,\n",
       "         'ATTACGCCTTTTTGCGATCGCCCGGTTTTTG': 23,\n",
       "         'TCAACATTATCAATTACAACCGACAGGGGGC': 12,\n",
       "         'GCGACCGCTCAGAAATTCCAGATCCGATCCA': 7,\n",
       "         'CTGTTTTCGCAAATCTATGGACTAGTGCTAT': 1,\n",
       "         'TCGGTTGAGGCGTTGCAAACCTGGCTACCGG': 1,\n",
       "         'CAAGTGATATCCATCACCGCATCCAGTGCGC': 7,\n",
       "         'AACGTCAGGTTGTCGCCGCTCTGCGTGGTCG': 2,\n",
       "         'TAATTTCCGTATCTCCGGATTTATAAAGCTG': 3,\n",
       "         'TCGGTTCAGGTGTTGCAAACCTGGCTACCGG': 11,\n",
       "         'GCGACCGCTCAGAAACTCCAGACCCGATCCA': 22,\n",
       "         'CTGTTTTCGCAGATCTATGGACTATTGCTAT': 32,\n",
       "         'ATTACGCCTTTTTGCGATTGCCCAGTTTTTG': 8,\n",
       "         'GGGCGCACGGAATGCAAAGCCGTGTATCTGC': 20,\n",
       "         'TCAACATTGTCAATTACAACCGACAGGGAGC': 11,\n",
       "         'GGGCGCACGGAATCCAAAGCCGTGTATCTGC': 3,\n",
       "         'GCAACCGCTCAGAAATTCCAGACCCGATCCA': 9,\n",
       "         'CGGCTCCGCAACAGCAGCACCCATGACCACG': 1,\n",
       "         'ATTACCCCTTTTTGCGATTGCCCGGTTTTTG': 2,\n",
       "         'TCGGTTCAGGCGTTGCAAACCCGGCTACCGG': 16,\n",
       "         'TCGGTTCAGGCGTTGCAAACCTGGCTACAGG': 2,\n",
       "         'ATTACGCCTTTTTACGATTGCCCGGTTTTTG': 4,\n",
       "         'TAGTTTCCGTATCTCCGGACTTATAAAGCTG': 13,\n",
       "         'GAAATGCTGGTGAGCGTTAATGCCGCAAAC': 9,\n",
       "         'AAGCTGGCTGGCAATCTCTTCCGGGGTGAGT': 3,\n",
       "         'CAGCGTCAGGCGTGAAATCTCACCCTCGTTG': 1,\n",
       "         'TCAGTTCAGGCGTTGCAAACCTGGCTACCGG': 16,\n",
       "         'GGGCGCACGGAATACAAAGCCGTGTATCCGC': 25,\n",
       "         'TGGCTCTGCAACAGCAGCACCCATGACTACG': 14,\n",
       "         'AGCGTGTTCGGCATCACCTTTGGCTTCGGCC': 5,\n",
       "         'GGGCGCACGGAATACAAAGTCGTGTATCTGC': 8,\n",
       "         'TGGCTCTGCAACAGCAGCACCCATGACCACA': 12,\n",
       "         'AGCGTGTTCGGCATCACCTTAGGCTTCGGCT': 2,\n",
       "         'AGCGTGTTCGACATCACCTTTGGCTTCGGCT': 4,\n",
       "         'TCAACATTATCAATTACGACCGACAGGGAGC': 10,\n",
       "         'CTGTTTTCGCAAATCTATGGATTATTGCTAT': 8,\n",
       "         'TGGCTCTGCAACAGCAGGACCCATGACCACG': 2,\n",
       "         'GCGACCGCTCAGAAATTCCAGACCCGATCTA': 3,\n",
       "         'TCAACAGTATCAATTACAACCGACAGGGAGC': 3,\n",
       "         'GTAGTCCATCATTTCACCTATGTCTGAACTC': 13,\n",
       "         'TCAACATTATCAATCACAACCGACAGGGAGC': 8,\n",
       "         'GCGGTTCAGGCGTTGCAAACCTGGCTACCGG': 3,\n",
       "         'ACAACATTATCAATTACAACCGACAGGGAGC': 3,\n",
       "         'GACAGAACGGCCTAAGTAGTCTCGTCAGGCT': 1,\n",
       "         'ATTACGCCTTTTTGCGATTGCCCGGTTTCTG': 18,\n",
       "         'TGGGCGGCTTGCCTTGCAGCCAGCTCCAGCG': 10,\n",
       "         'TAGTTTCCGCATCTCCGGATTTATAAAGCTG': 9,\n",
       "         'AAGCTGGCTGGCAATCTCTTTCGGGGTGTGT': 3,\n",
       "         'GTAGTCCATCATTCCACCAATGTCTGAACTC': 4,\n",
       "         'TCAACATTATCAATTACAACCAACAGGGAGC': 6,\n",
       "         'AACAGAACGGCCTCAGTAGTCTCGTCAGGCT': 3,\n",
       "         'CAAGTGATACCCATCATCGCATCCAGTGCGC': 5,\n",
       "         'ATTACGCCTTTTTGCGTTTGCCCGGTTTTTG': 4,\n",
       "         'GAAATGCTGGGGAGCGTTAATGCCGCAAACA': 4,\n",
       "         'TGGCTCTGCAACAGCAGCACCCATGACCCCG': 7,\n",
       "         'TGGCTCTGCAACAGCAGCGCCCATGGCCACG': 2,\n",
       "         'TCGGTTCAGGCGTTGCAAACCTGACTACCGG': 7,\n",
       "         'GGGCGCACGGAATATAAAGCCGTGTATCTGC': 7,\n",
       "         'TGGCTCTGAAACAGCAGCACCCATGACCACG': 4,\n",
       "         'TCGGTTCAGGCGTTGCAATCCTGGCTACCGG': 4,\n",
       "         'GAGATGCTGGTGAGCGTTAATGCCGCAAACA': 33,\n",
       "         'TGGCTCTTCAACAGCAGCACCCATGACCACG': 1,\n",
       "         'TCGGTTCAGGCGTTGCAACCCTGGCTACCGG': 12,\n",
       "         'GAAATGCTGGTGAGCGTTAATGCCGCAAATA': 6,\n",
       "         'GCGACCGCTCAGGAATTCCAGACCCGATCCA': 7,\n",
       "         'GACAGAACGGCCTCAGTAGTCTTGTCAGGCT': 17,\n",
       "         'GGGCGCATGGAATACAAAGCCGTGTATCTGC': 14,\n",
       "         'TCGATTCAGGCGTTGCAAACCTGGCTGCCGG': 1,\n",
       "         'ATTACGACTTTTTGCGATTGCCCGGTTTTTG': 1,\n",
       "         'TACCGTACAGACTGCCGGATATTATTTTTTT': 1,\n",
       "         'AAGCTGGCTGGCAATCTCATTCGGGGTGAGT': 2,\n",
       "         'GTAGTCCATCATTCCACCTATATCTGAACTC': 6,\n",
       "         'TCGGTTCAGGCGTTGCAAGCCTGGCTACCGG': 22,\n",
       "         'CTGTTTTCGCAAATCTATGGACCATTGCTAT': 15,\n",
       "         'GAGCTGGCTGGCAATCTCTTTCGGGGTGAGT': 8,\n",
       "         'CAAGTGATTTCCATCAGCACATCCAGTGCGC': 1,\n",
       "         'CAGGTGATATCCATCATCGCATCCAGTGCGC': 3,\n",
       "         'CAAGTGATATCCATCATCGCATCCAGTGCAC': 5,\n",
       "         'CCGGGGGATGATGTTTACGGTCATGCGCCCC': 14,\n",
       "         'GGGCGCACGGAATACAAAGCCGTGCATCTGC': 10,\n",
       "         'AGCATGTTCGGCATCACCTTTGGCTTCGGCT': 3,\n",
       "         'GCGACTGCTCAGAAATTCCAGACCCGATCCA': 8,\n",
       "         'GTAGTTCATCATTCCACCTATGTCTGAACTC': 4,\n",
       "         'AGCGTGTTCGGCATCACCTTTGGCTTAGGCT': 1,\n",
       "         'GCGACCGCTCAGAAATTCCAGTCCCGATCCA': 1,\n",
       "         'ACGGTTCAGGCGTTGCAAACCTGGCTACCGG': 5,\n",
       "         'GGGCGCACGGAATACAAAGCCATGTATCTGC': 11,\n",
       "         'TCGGTTCAGGCGTTGCAAACCTGGTTACCGG': 6,\n",
       "         'CCAGGGGATAATGTTTACGGCCATGCGCCCC': 1,\n",
       "         'TCAACATTATCAATTACAACCGGCAGGGAGC': 11,\n",
       "         'AGCGTGTTCGGCATCACCTTTGACTTCGGCT': 1,\n",
       "         'CAGCGTCGGGCGTGAAATCTCACCGTCGTTG': 9,\n",
       "         'CTGTTATCGCAAATCTATGGACTATTGCTAT': 3,\n",
       "         'CCAACATTATCAATTACAACCGACAGGGAGC': 13,\n",
       "         'GCGACCGCTCAGAAATTCCAGACCCGATTCA': 5,\n",
       "         'AAGTTGGCTGGCAATCTCTTTCGGGGTGAGT': 1,\n",
       "         'TGGCGCTGGAAATGCAACGCCGTGTATCTGC': 1,\n",
       "         'GGGCGCACGGAATACAAAACCGTGTATCTGC': 7,\n",
       "         'TAGTTTCCGTATCTCCGGATTTATAAAACTG': 2,\n",
       "         'GGCAATAGCGAACAACAAGGTCGGTTGTTCG': 2,\n",
       "         'TGGCTCTGCAACAGCAGCACCCCTGACCACG': 4,\n",
       "         'TAGCTCTGCAACAGCAGCACCCATGACCACG': 10,\n",
       "         'ACGACCGCTCAGAAATTCCAGACCCGATCCA': 8,\n",
       "         'TACATAACGGCCTCAGTAGTCTCGTCAGGCT': 1,\n",
       "         'GCAGGCGGCGACGCGCAGGGCATGCGCGATT': 5,\n",
       "         'GAAATGCTGGTGAGCGATAATGCCGCAAACA': 5,\n",
       "         'GTAGTCCATCATTCCACCTATGTCTGAACAC': 4,\n",
       "         'GGGCGCACGGAATACAAAGCCGTGTATCGGC': 1,\n",
       "         'GAAATGCTGGTGAGCGTTAATGCCACAAACA': 21,\n",
       "         'GACAGACCGGCCTCAGTAGTCTCGTCAGGCT': 7,\n",
       "         'ACGACCGCTCAGAAATTCCAGGCCCGATCCA': 1,\n",
       "         'AGCGTGTCCGGCATCACCTTTGGCTTCGGCT': 7,\n",
       "         'TGGCTCTGCCACAGCAGCACCCATGACCACG': 2,\n",
       "         'GCGGCCGCTCAGAAATTCCAGACCCGATCCA': 13,\n",
       "         'TGGGCGGCTTGCTTTGCAGCCAGCTCCAGCA': 1,\n",
       "         'GCAGGCGGCGACGCGCAGGGTATACGCGATT': 4,\n",
       "         'TGGCTCTGCAACAGCAGCACCCATGCCCACG': 5,\n",
       "         'GTAGTCCATCATTCCACCTATTTCTGAACTC': 1,\n",
       "         'CTGTTTTCGCAAATCTATGGACTACTGCTAT': 25,\n",
       "         'CAGCGTCAGGCGTGAAGTCTCACCGTCGTTG': 17,\n",
       "         'GTAGTCCATCATTCCACCTATGTCCGAGCTC': 1,\n",
       "         'AGGCGCACGGAATACAAGGCCGTGTATCTGC': 1,\n",
       "         'GGGCTCTGCAACAGCAGCACCCATGACCACG': 5,\n",
       "         'AGGGCGGCTTGCCTTGCAGCCAGCTCCAGCA': 5,\n",
       "         'GACAGAACGGCCTCTGTAGTCTCGTCAGGCT': 2,\n",
       "         'CTGTTTTCGCAAATCTATGGACTATTGCTTT': 6,\n",
       "         'TGGCTCTGCAACAGCAGCACCCATTACCACG': 1,\n",
       "         'AATACGCCTTTTTGCGATTGCCCGGTTTTTG': 2,\n",
       "         'AGCGTGTTCGGCATCACCTTTGGCCTCGGCT': 8,\n",
       "         'CCGGGGGATAATGCTTACGGTCATGCGCCCC': 15,\n",
       "         'GCGACCGCTCAGAAATTCCAGACCCGGTCCA': 9,\n",
       "         'GACAGAACGGCCTCAGTAGTCTCGTCAAGCT': 7,\n",
       "         'GGGCGCACGGATTACAAAGCCGTGTATCTGC': 1,\n",
       "         'ATTACGCCTTTTAGCGATTGCCCGGTTTTTG': 4,\n",
       "         'GCAGGCGGCGGCGCGCAGGGTATGCGCGATT': 13,\n",
       "         'AAGCTGGCTGGCAATCTCTTTCGGGGTTAGT': 2,\n",
       "         'TCGGTTCAGGCGTTGCAAACCTTGCTACCGG': 2,\n",
       "         'TCGGTTCAGGCGTTACAAACCTGGCTACCGG': 11,\n",
       "         'ATTACGCCTTTTGGCGATTGCCCGGTTTTTG': 1,\n",
       "         'CCGGGGGATAATGTTTATGGTCATGCGCCCC': 5,\n",
       "         'GCAGGCGGCGACGCGCGGGGTATGCGCGATT': 13,\n",
       "         'CTGTTTTCGGGGCGCGGGGAACACCTGTTTT': 1,\n",
       "         'CTAGTCCATCATTCCACCTATGTCTGAACTC': 1,\n",
       "         'CTGTTTTCGCAAATCTATGGACTATAGCTAT': 5,\n",
       "         'GTAGTCCATCATTCCACCTATGTCTGTACTC': 5,\n",
       "         'GCGACCGCTCAGAAATTCCAGACCTGATCCA': 7,\n",
       "         'TCAACATTATCAATTACAACCGACAGGAAGC': 3,\n",
       "         'CAGCGTCAGGCGTGAAATCCCACCGTCGTTG': 10,\n",
       "         'GGGCGCAAGGAATACAAAGCCGTGTATCTGC': 1,\n",
       "         'GGGCGCCCGGAATTCAAAGCCGTTTATCTGC': 1,\n",
       "         'GCGACCGCTCAGAAATTCCAGACCCGACCCA': 5,\n",
       "         'GACAGAACGGCCTCAGTGGTCTCGTCAGGCT': 12,\n",
       "         'GTAGTCCATCATTCCGCCTACGTCTGAACTC': 1,\n",
       "         'TAGTTTCCGTATCTCCGGATCTATAAAGCTG': 7,\n",
       "         'TGGCTCTCCAACAGCAGCACCCATGACCACG': 1,\n",
       "         'GGGCGCACAGAATACAAAGCCGTGTATCTGC': 18,\n",
       "         'TCGGTTCAGGCGTTGCAAGCCTGGCCACCGG': 1,\n",
       "         'GTAGTCCATCATTCCACCTATGTCTAAACTC': 7,\n",
       "         'ATTACGCCTTTTTGCGATTGCCCGGTTTATG': 1,\n",
       "         'TCGGTTCAGGCATTGCAAACCTGGCTACCGG': 6,\n",
       "         'TAGTTTCCGTATCTCCGGATTTATAAAGCAG': 1,\n",
       "         'CCGACCGCTCAGAAATTCCAGACCCGATCCA': 1,\n",
       "         'CAGCGTCAGGCGTGAAATCTCACCGTCGTCG': 8,\n",
       "         'TCAACAATATCAATTACAACCGACAGGGAGC': 1,\n",
       "         'TCGGTTCAGGCGTTGCAAACCTGGCTCCCGG': 2,\n",
       "         'TGGGCGGCTTGCCTTGCAGCCAGCCCCAGCA': 10,\n",
       "         'GACGGAACGGCCTCAGTAGTCTCGTCAGGCT': 13,\n",
       "         'TGGCTCTGCAACAGCAGCACCCACGACCACG': 38,\n",
       "         'TCGGTTCAGGCGTTGCAAATCTGGCTACCGG': 5,\n",
       "         'CTGTTTTCGCAAATCTATAGACTATTGCTAT': 5,\n",
       "         'GCGACCGTTCAGAAATTCCAGACCCGATCCA': 3,\n",
       "         'TTGCTCTGCAACAGCAGCACCCATGACCACG': 2,\n",
       "         'TGGGCGGCTTGCCTTGCAGCCAGCGCCAGCA': 2,\n",
       "         'GCGACCGCTCAGAAATTCCAGACCAGATCCA': 1,\n",
       "         'GTAGTCCATCATTCACCTATGTCTGAACTC': 3,\n",
       "         'GGGCGCACGAAATACAAAGCCGTGTATCTGC': 7,\n",
       "         'GTAGTCCATCATTCCATCTATGTCTGAACTC': 11,\n",
       "         'TGGGCGGCTTGTCTTGCAGCCAGCTCCAGCA': 3,\n",
       "         'TAGTTTCCGTATCTCCGGATTTATATAGCTG': 2,\n",
       "         'TCAACATTATCAACTACAACCGACAGGGAGC': 16,\n",
       "         'TCAACATTATCTATTACAACCGACAGGGAGC': 3,\n",
       "         'CTGTTTTCGCAAATCTATGGACTGTTGCTAT': 15,\n",
       "         'AAGCTGGCTGGCAATCTCTTTCGGTGTGAGT': 2,\n",
       "         'TCGACCGCTCAGAAATTCCAGACCCGATCCA': 6,\n",
       "         'TAGCTTCCGTATCTCGGGATTTATAAAGATG': 1,\n",
       "         'TGGCTCCGCAGCAGCAGCACCCATGACCACG': 1,\n",
       "         'AAGCTGGCTGGCAGTCTCTTTCGGGGTGAGT': 14,\n",
       "         'GCGAGCGCTCAGAAATTCCAGACCCGATCCA': 1,\n",
       "         'CTGTTGTCGCAAATCTATGGACTATTGCTAT': 2,\n",
       "         'GCGGCCGCTCAGAAATTCCAGACTCGATCCA': 1,\n",
       "         'GAAATGCTGGTGAGCGGTAATGCCGCAAACA': 3,\n",
       "         'GCAGGCGGCGACGCGCAGGATATGCGCGATT': 4,\n",
       "         'GACAGAACGGCCTCAGTAGTCTCGACAGGCT': 2,\n",
       "         'GACAGAACGGCCTCAGTAATCTCGTCAGGCT': 6,\n",
       "         'TAGTTTCCGTATCTCCGGATTTATGAAGCTG': 4,\n",
       "         'CAGTTTTCGCAAATCTATAGACTATTGCTAT': 1,\n",
       "         'ATTACGCCTTCTTGCGATTGCCCGGTTTTTA': 1,\n",
       "         'CTGTTTTCGCAAATCTATGGACTATTGCCAT': 13,\n",
       "         'GCAGGCGGCGACGCGCAGGGTATGCGCGACT': 6,\n",
       "         'GCAGGCGGCGATGCGCAGGGTATGCGCGATT': 4,\n",
       "         'GCAGGCGACGACGCGCAGGGTATGCGCGATT': 2,\n",
       "         'GAAATGCAGGTGAGCGTTAATGCCGCAAACA': 12,\n",
       "         'CAAGTGATATCCATCATCTCATCCAGTGCGC': 1,\n",
       "         'GCAGGCGGCGACGCGCAGGGTATGCGCGATC': 11,\n",
       "         'AGCGTGTTCGGCGTCACCTTTGGCCTCGGCT': 1,\n",
       "         'CAAGTGGTATCCATCATCGCATCCAGTGCGC': 5,\n",
       "         'TAGTTACCGTATCTCCGGATTTATAAAGCTG': 2,\n",
       "         'GACAGATCGGCCTCAGTAGTCTCGTCAGGCT': 6,\n",
       "         'TGGCTCTGCAACAGCAGCACCTATGACCACG': 9,\n",
       "         'TGGCTCTGTAACAGCAGCACCCATGACCACG': 9,\n",
       "         'CAGCGTCAGGCGTGAAATCTCACCGTCGTAG': 1,\n",
       "         'ATTACGCCTTTGTGCGATTGCCCGGTTTTTG': 1,\n",
       "         'TCGGTTCAGACGTTGCAAACCTGGCTACCGG': 5,\n",
       "         'TGAGCGGCTTGCCTTGCAGCCAGCTCCAGCA': 5,\n",
       "         'CAGCGTCAGGCGTGAAATCTCACCGTCATTG': 2,\n",
       "         'GACAGAACGGCCTCAGTAGTTTCGTCAGGCT': 7,\n",
       "         'CTGTTTTCGCAAATCTATGGACAATTGCTAT': 1,\n",
       "         'TCGGTTCAGGCGTTGCAAACCTGGCGACCGG': 1,\n",
       "         'GTAGTCCATCATTCTACCTATGTCTGAACTC': 7,\n",
       "         'AGGCGCACGGAATACAAAGCCGTGTATCTGC': 7,\n",
       "         'GTAGTCCATCATTCCACCTATGTCTGACCTC': 3,\n",
       "         'GACAGAACGGCCTCAGAAGTCTCGTCAGGCT': 3,\n",
       "         'TCGGTTCAGCCGTTGCAAACCTGGCTACCGG': 1,\n",
       "         'CCGGGGGATAATGTTACGGTCATGCGCCCC': 5,\n",
       "         'TCGGTTCAGGCGGTGCAAACCTGGCTACCGG': 3,\n",
       "         'ATTACGCTTTTTTGCGATTGCCCGGTTTTTG': 7,\n",
       "         'TCAACATTATCAATTGCAACCGACAGGGAGC': 9,\n",
       "         'GGGGCGGCTTGCCTTGCAGCCAGCTCCAGCA': 2,\n",
       "         'GGGCGCACGGAATACAAAGCCGTATATCTGC': 5,\n",
       "         'CAAGTGATATCCATCGTCGCATCCAGTGCGC': 5,\n",
       "         'CTGTTTTCGCAAATCTATGGACTTTTGCTAT': 5,\n",
       "         'CAAGTGATATCCATCATTGCATCCAGTGCGC': 1,\n",
       "         'GCAGGCGGCGACGCGCATGGTATGCGCGATT': 3,\n",
       "         'CAGCGTCAGGCGTGAATCTCACCGTCGTTG': 4,\n",
       "         'CAGCGTCAGGCGTGAAATCTCGCCGTCGTTG': 5,\n",
       "         'TGCGTGAGCGTATCGCCGCGCGTCAGCGAAA': 1,\n",
       "         'AAGCTGGCTGGCAATCTCTTTCAGGGTGAGT': 2,\n",
       "         'GGGCGCACGGAATACAACGCCGTGTATCTGC': 3,\n",
       "         'CAAGTGATATCCATCATCGCATCCAGTGTGC': 4,\n",
       "         'AAGCTGGCTGGCTATCTCTTTCGGGGTGAGT': 1,\n",
       "         'TCGGTTCAGGCGTTGCAAACCTGGCTACCAG': 9,\n",
       "         'AAGCTAGCTGGCAATCTCTTTCGGGGTGAGT': 2,\n",
       "         'ATTACGCCTTTTTGCGATTGCCCGGTTTTTC': 1,\n",
       "         'TCGGTTCAGGCGTTGCTAACCTGGCTACCGG': 3,\n",
       "         'GCAACCGCTCAGGAATTCCAGACCCGATCCA': 1,\n",
       "         'GACAGAACGGCCTCAGTAGTCTGGTCAGGCT': 1,\n",
       "         'TAGTTTCCGTATCTCTGGATTTATAAAGCTG': 2,\n",
       "         'GCAGGCCGCGACGCGCAGGGTATGCGCGATT': 1,\n",
       "         'CAGCGTCAGGCGCGAAATCTCACCGTCGTTG': 4,\n",
       "         'TCAACATTATCAATTACAACCGACGGGGAGC': 17,\n",
       "         'AGTACGCCTTTTTGCGATTGCCCGGTTTTTG': 1,\n",
       "         'TGGTTTCCGTATCTCCGGATTTATAAAGCTG': 10,\n",
       "         'GTAGTCCATTATTCCACCTATGTCTGAACTC': 10,\n",
       "         'GCAGGCGGCGACGCGCAGGGTATGCGCGATG': 1,\n",
       "         'TGGGCGGCTTGCCTGGCAGCCAGCTCCAGCA': 2,\n",
       "         'GACAGAACGGCCTCAGTAGTCTCGTCAGGCA': 3,\n",
       "         'CCGTGGGATAATGTTTACGGTCATGCGCCCC': 1,\n",
       "         'GACAGAACGGCCTTAGTAGTCTCGTCAGGCT': 5,\n",
       "         'GCGACCGCTCAGAAATTCCGGACCCGATCCA': 10,\n",
       "         'TGGGCGACTTGCCTTGCAGCCAGCTCCAGCA': 1,\n",
       "         'ATTACGCCCTTTGCGATTGCCCGGTTTTTG': 1,\n",
       "         'AAGCTGGCTGGGAATCTCTTTCGGGGTGAGT': 1,\n",
       "         'TGGCGGCTTGCCTTGCAGCCAGCTCCAGCA': 2,\n",
       "         'AAGCTGGCTGGCGATCTCTTTCGGGGTGAGT': 6,\n",
       "         'GTGACCGCTCAGAAATTCCAGACCCGATCCA': 6,\n",
       "         'CCGGGGGATAATGTCTACGGTCATGCGCCCC': 17,\n",
       "         'ATACGCCTTTTTGCGATTGCCCGGTTTTTG': 4,\n",
       "         'AGCGTGTTCGGCATCACTTTTGGCTTCGGCT': 4,\n",
       "         'GACAGAACGGCCTCAGTAGTCTCGTCAGGCG': 4,\n",
       "         'GTAGTCCATCATTACACCTATGTCTGAACTC': 1,\n",
       "         'CCGGGGGATATGTTTACGGTCATGCGCCCC': 1,\n",
       "         'TGGCTCAGCAACAGCAGCACCCATGACCACG': 6,\n",
       "         'TAGGCCTATAGAGACGAGCGTTCGTTAAAGC': 3,\n",
       "         'TGGCTCTGCAACAGCAGTACCCATGACCACG': 11,\n",
       "         'GACAGAACGGCCTCAGTAGTCTCGTCTGGCT': 2,\n",
       "         'TGGCTCTGCAATAGCAGCACCCATGACCACG': 5,\n",
       "         'CAGCGTCAGGCGTGAAATCTCACCATCGTTG': 4,\n",
       "         'CCGGGGGATAACGTTTACGGTCATGCGCCCC': 8,\n",
       "         'GACAGAACGGCCACAGTAGTCTCGTCAGGCT': 7,\n",
       "         'CAAGTGCTATCCATCATCGCATCCAGTGCGC': 1,\n",
       "         'GTAGTCCATCATTCCACCTATGTGTGAACTC': 1,\n",
       "         'GTAGTCCATCATTCCACCTATGTCTTAACTC': 1,\n",
       "         'CTGTTTACGCAAATCTATGGACTATTGCTAT': 5,\n",
       "         'AAGCTGGCGGGCAATCTCTTCCGGGGTGAGT': 1,\n",
       "         'AAGCTGGCTGGCAATCTCTTTCGGGGTGAGA': 4,\n",
       "         'TGGTTCTGCAACAGCAGCACCCATGACCACG': 5,\n",
       "         'GACAGAACGGAATACAAAGCCGTGTATCTGC': 1,\n",
       "         'GAAATGCTGGTGAGCGTTAAAGCCGCAAACA': 5,\n",
       "         'AAGCTGGCTGGCAATCTCTTTCGGTTTTTG': 2,\n",
       "         'GTAGTCTATCATTCCACCTATGTCTGAACTC': 9,\n",
       "         'ATTACGCCTTTATGCGATTGCCCGGTTTTTG': 4,\n",
       "         'TCGGCGGCTTGCCTTGCAGCCAGCTCCAGCA': 2,\n",
       "         'TGGCTCTGCAACAGCAGCACACATGACCACG': 1,\n",
       "         'CAAGTGATATCCAACATCGCATCCAGTGCGC': 3,\n",
       "         'TAGTTTCCGTAGCTCCGGATTTATAAAGCTG': 2,\n",
       "         'CAAGTGATATCCATCATCGCATCCAGCGCGC': 6,\n",
       "         'AGCGTGTTCGGCAACACCTTTGGCTTCGGCT': 4,\n",
       "         'AGCGTGTTCGGCATCACCTCTGGCTTCGGCT': 7,\n",
       "         'GAAATGCTGGAGAGCGTTAATGCCGCAAACA': 4,\n",
       "         'TAGTTTCCGTATCTCCGGATTTATAAAGTTG': 2,\n",
       "         'AGCGTATTCGGCATCACCTTTGGCTTCGGCT': 2,\n",
       "         'AGCGTGTTCAGGCGTTGCAAACCTGGCTACC': 1,\n",
       "         'ATTACGCCTTTTTGCGATTGCCCGGGTTTTG': 2,\n",
       "         'GCGACCGCCCAGAAATTCCAGACCCGATCCA': 8,\n",
       "         'CTGTTTTCGCAAATCTAGGGACTATTGCTAT': 2,\n",
       "         'GGCAGAACGGCCTCAGTAGTCACGTCAGGCT': 1,\n",
       "         'TGGACGGCTTGCCTTGCAGCCAGCTCCAGCA': 2,\n",
       "         'CAAGTGATATCCATCATCGCATCTAGTGCGC': 3,\n",
       "         'CTGTTTTCGTAAATCTATGGACTATTGCTAT': 6,\n",
       "         'GGGCGCACGAAATACGAAGCCGTGTATCTGC': 1,\n",
       "         'CCGGGGGATAATGGTTACGGTCATGCGCCCC': 5,\n",
       "         'CTGTTTTCGCCAATCTATGGACTATTGCTAT': 1,\n",
       "         'GCAATGCTGGTGAGCGTTAATGCCGCAAACA': 2,\n",
       "         'GAAATGCTGGTGAGCGTTAATGACGCAAACA': 3,\n",
       "         'TGGGCGGCTTGCCTTGCAGCCAGCTTCAGCA': 3,\n",
       "         'GAAATTCTGGTGAGCGTTAATGCCGCAAACA': 2,\n",
       "         'GGGCGCACGGAATACAAAGCCGAGTATCTGC': 2,\n",
       "         'AAGCTGGCTGGCAATCTCTTTCGGGATGAGT': 2,\n",
       "         'GTAGTCCATCCTTCCACCTATGTCTGAACTC': 2,\n",
       "         'TCGGTTCAGGCGTAGCAAACCTGGCTACCGG': 1,\n",
       "         'GCGACCACTCAGAAATTCCAGACCCGATCCA': 5,\n",
       "         'CAAGTGTTATCCATCATCGCATCCAGTGCGC': 3,\n",
       "         'ATTACGCCTATTTGCGATTGCCCGGTTTTTG': 3,\n",
       "         'TTGGTTCAGGCGTTGCAAACCTGGCTACCGG': 3,\n",
       "         'GTAGTCCATCATTCCACCTATGTCTGAATTC': 3,\n",
       "         'TCGGTTCAGGCGTTGCAAAACTGGCTACCGG': 1,\n",
       "         'CTTTTTTCGCAAATCTATGGACTATTGCTAT': 2,\n",
       "         'CAGCGTCAGGCGTGAAATCTCACCGTCGTT': 2,\n",
       "         'TCACCATTATCAATTACAACCGACAGGGAGC': 2,\n",
       "         'GTAGTCCATCTTTCCACCTATGTCTGAACTC': 1,\n",
       "         'TGGCTCTGCAACAGCTGCACCCATGACCACG': 2,\n",
       "         'TGGCTCTGCAACTGCAGCACCCATGACCACG': 5,\n",
       "         'CAAGTGATATCCATCATCGCATCCAGTACGC': 3,\n",
       "         'GTAGTCCACCATTCCCCCTATGTCTGAACTC': 1,\n",
       "         'GACAGAACGGCCTCAGTGGTCTCGCCAGGCT': 1,\n",
       "         'TGGCTCTGCTACAGCAGCACCCATGACCACG': 1,\n",
       "         'GTAGTCCATCATTCCACATATGTCTGAACTC': 1,\n",
       "         'GCGACCGCTCAGAAATTCTAGACCCGATCCA': 2,\n",
       "         'GACAGAATGGCCTCAGTAGTCTCGTCAGGCT': 5,\n",
       "         'CCGGGGGATAATGTTTACGGTAATGCGCCCC': 1,\n",
       "         'GAAATGCTGGTGAGCGTTAATGCCGCAAAAA': 2,\n",
       "         'ATTACGCCTTTTTGCAATTGCCCGGTTTTTG': 8,\n",
       "         'GAAACGCCGGTGAGCGTTAATGCCGCAAACA': 1,\n",
       "         'GGGCTCACGGAATACAAAGCCGTGTATCTGC': 2,\n",
       "         'TCAGCATTATCAATTACAACCGACAGGGAGC': 9,\n",
       "         'GGGCGCACGGAATACAAAGCCGTGTATCTAC': 4,\n",
       "         'CTGTTTTCGCAAATCTATGGCCTATTGCTAT': 4,\n",
       "         'GTAGTCCATCATTCCACCTATGTCTGAACT': 4,\n",
       "         'AAGCTGGCTGCCAATCTCTTTCGGGGTGAGT': 2,\n",
       "         'ATTACGCCTTTTTGCGATTGCCCGGTTTTT': 2,\n",
       "         'ATTACGTCTTTTTGCGATTGCCCGGTTTTTG': 7,\n",
       "         'GCGGCCGCTCTGAAATTCCAGACCCGATCCA': 1,\n",
       "         'TGGCCCTGCAACAGCAGCACCCAAGACCACG': 1,\n",
       "         'AAGCTGGCAGGCAATCTCTTTCGGGGTGAGT': 7,\n",
       "         'AGCGTCAGGCGTGAAATCTCACCGTCGTTG': 3,\n",
       "         'TGGCTCTGCAACAGCAGCTCCCATGACCACG': 3,\n",
       "         'TCGGTTCAGGCGTTGCAAACCTGGCTACCCG': 1,\n",
       "         'CTGTTTTCGCAAATCTATGGTCTATTGCTAT': 6,\n",
       "         'CAAGTGATATCCGTCATCGCATCCAGTGCGC': 12,\n",
       "         'CAGCGTCAGGCGTGTAATCTCACCGTCGTTG': 2,\n",
       "         'GTCAGAACGGCCTCAGTAGTCTCGTCAGGCT': 2,\n",
       "         'CAGCGTCAGACGTGAAATCTCACCGTCGTTG': 2,\n",
       "         'CCGGGGGGTAATGTTTACGGTCGTGCGCCCC': 1,\n",
       "         'TCAACATTATCGATTACAACCGACAGGGAGC': 6,\n",
       "         'GAAATGCTGGTGAGCGTTAATGCCGCAAACT': 5,\n",
       "         'GCAGGCGGCGACGCGCAGGGTACGCGCGATT': 10,\n",
       "         'TCGGTTAGGCGTTGCAAACCTGGCTACCGG': 2,\n",
       "         'TGCTCTGCAACAGCAGCACCCATGACCACG': 4,\n",
       "         'TCGGTTCAAGCGTTGCAAACCTGGCTACCGG': 6,\n",
       "         'GGGGAACACGGAATACAAAGCCGTGTATCTG': 1,\n",
       "         'GACAGAACGGCCTCAGTAGTCACGTCAGGCT': 4,\n",
       "         'TGCGTGAGCGTATCGCCGCGCGTCTGTGAAA': 3,\n",
       "         'CAAGTGATGTCCATCATCGCATCCAGTGCGC': 7,\n",
       "         'GAAATGCTGGTGAGCGTTTATGCCGCAAACA': 3,\n",
       "         'TGGGCGGCTTGCCTTGCAGCCAGTTCCAGCA': 2,\n",
       "         'CAAGTGATATCCTTCATCGCATCCAGTGCGC': 1,\n",
       "         'GTAGTCCATCATTCCACCGATGTCTGAACTC': 1,\n",
       "         'CAAGTGATATTCATCATCGCATCCAGTGCGC': 2,\n",
       "         'TCGGTTCAGGCGTTGCAAACATGGCTACCGG': 1,\n",
       "         'AGCGTGTTCAGCATCACCTTTGGCTTCGGCT': 2,\n",
       "         'GAAATGCTGGTGACCGTTAATGCCGCAAACA': 1,\n",
       "         'CTCGGTCGCCGCATACACTATTCTCAGAATG': 1,\n",
       "         'GCGTAATAGCGAAGAGGCCCGCACCGATCGC': 1,\n",
       "         'TGGCTCTGCGACGGCAGCACCCATGACCACG': 1,\n",
       "         'ATTACGCCTTTTTGCTATTGCCCGGTTTTTG': 4,\n",
       "         'CCGGGGGATAATGTTGACGGTCATGCGCCCC': 2,\n",
       "         'CTGTTTTCGCAAACCTATGGACTATTGCTGT': 1,\n",
       "         'ATTACGCCTTTTTGTGATTGCCCGGTTTTTG': 13,\n",
       "         'CAAGTGATATCCATCAACGCATCCAGTGCGC': 2,\n",
       "         'TGGGCGGCTGGCCTTGCAGCCAGCTCCAGCA': 1,\n",
       "         'TCAACATTATCAATTACAACCGATAGGGAGC': 4,\n",
       "         'AAGCTGGCTGGCAATCTCTTCGGGGTGAGT': 1,\n",
       "         'GAAATGCTGGTGAGCGTTAATACCGCAAACA': 4,\n",
       "         'GCGACCGCTCGGAAATTCCAGACCCGATCCA': 8,\n",
       "         'TCGGTTCAGGCGTTGCAAACCTGGCTATCGG': 5,\n",
       "         'CCGGGGGATAATGTTTACGGTCACGCGCCCC': 11,\n",
       "         'TCAACATTATCAATTACACCCGACAGGGAGC': 1,\n",
       "         'TCGGTTCAGGCGTTGCAAACCGGGCTACCGG': 1,\n",
       "         'GTGGTCCATCATTCCACCTATGTCCGAACTC': 1,\n",
       "         'CAAGTGATATCCATCATCGCATCCGGTGCGC': 6,\n",
       "         'GCGACCGCTCAAAAATTCCAGACCCGATCCA': 3,\n",
       "         'GACATGCTGGTGAGCGTTAATGCCGCAAACA': 10,\n",
       "         'TCAACACTATCAATTACAACCGACAGGGAGC': 10,\n",
       "         'TGGCTCTGCAACAGCAGCACCCGTGACCACG': 18,\n",
       "         'GGGTGCACGGAATACAAAGCCGTGTATCTGC': 12,\n",
       "         'CAGTTTCCGTATCTCCGGATTTATAAAGCTG': 7,\n",
       "         'GTAGTCCATCATTCCACCTATGTCTGATCTC': 3,\n",
       "         'AAGCTGGCTGGCAATCCCTTGCGGGGTGAGT': 1,\n",
       "         'GCGGCCGCTCAGAAATTCCCGACCCGATCCA': 1,\n",
       "         'CTGGGGGATAATGTTTACGGTCATGCGCCCC': 5,\n",
       "         'GCAGGCGGCGACACGCAGGGTATGCGCGATT': 4,\n",
       "         'GTAATCCATCATTCCACCTATGTCTGAACTC': 2,\n",
       "         'AGCGTGTTCGGTATCACCTTTGGCTTCGGCT': 4,\n",
       "         'TGCGTGTTCGGCATCACCTTTGGCTTCGGCT': 2,\n",
       "         'CAGCGTCAGGCGTGGAATCTCACCGTCGCTG': 1,\n",
       "         'GTAGTCCATCATTCCACCTATGTCAGAACTC': 3,\n",
       "         'GAAATGCTGGTGAGCGTAAATGCCGCAAACT': 1,\n",
       "         'CAAGTGATATCCATCATCACATCCAGTGCGC': 5,\n",
       "         'TAGTTTCCATATCTCCGGATTTATAAAGCTG': 2,\n",
       "         'TTGGTTCAGGCGTCGCAAACCTGGCTACCGG': 1,\n",
       "         'GGGCGCACGGAGTACAAAGCCGAGTATCTGC': 1,\n",
       "         'AAGCTGGCTGGCAATCTTTTTCGGGGTGAGT': 1,\n",
       "         'GTAGTCCCTCATTCCACCTATGTCTGAACTC': 2,\n",
       "         'TAGTTTCCGTATCTCCGGATTATAAAGCTG': 6,\n",
       "         'AAGCTGTCTGGCAATCTCTTTCGGGGTGAGT': 1,\n",
       "         'GGGCGCACGGAATACAAAGCCGTGTATCTGT': 5,\n",
       "         'TCAACATCATCAATTACAACCGACAGGGAGC': 12,\n",
       "         'CCGGGGGATAATGTTTACGATCATGCGCCCC': 3,\n",
       "         'TGGCTCTGCAACAGCATCACCCATGACCACG': 2,\n",
       "         'TCAGGCGGCGACGCGCAGGGTATGCGCGATT': 2,\n",
       "         'TGGCTCGGCAACAGCAGCACCCATGACCACG': 3,\n",
       "         'GCAGGCGGCAACGCGCAGGGTATGCGCGATT': 6,\n",
       "         'GAAATGCTGGTGAGCGTTAATGCCGTAAACA': 12,\n",
       "         'GAAACGCTGGTGAGCGTTAAGGCCGCAAACA': 1,\n",
       "         'AGCGTGTTCGGCATCACCGTTGGCTTCGGCT': 1,\n",
       "         'TAGTTTCCGTATCTCGGGATTTATAAAGCTG': 1,\n",
       "         'GAAATGCTGGTGAGCGTTAATGCCGCATACA': 3,\n",
       "         'GACGGAACGGCCTCAGTAGTTTCGTCAGGCT': 1,\n",
       "         'ATTACGCCATTTTGCGATTGCCCGGTTTTTG': 4,\n",
       "         'CCGGGGGATAATGTTTACGGTCATGCACCCC': 6,\n",
       "         'GACAGAACGGCCTCAGTAGTCTCGTCTGAAC': 1,\n",
       "         'CTGTATTCGCAAATCTATGGACTATTGCTAT': 4,\n",
       "         'CAGCATCAGGCGTGAAATCTCACCGTCGTTG': 2,\n",
       "         'GAAATGATGGTGAGCGTTAATGCCGCAAACA': 1,\n",
       "         'ATGTTTTCGCAAATCTATGGACTATTGCTAT': 3,\n",
       "         'AAGCTGGCTGGCAATCTCTTTCGGGGTGAGC': 12,\n",
       "         'GACAGAACGGGCTCAGTAGTCTCGTCAGGCT': 1,\n",
       "         'TCGGTCCAGGCGTTGCAACCCTGGCTACCGG': 1,\n",
       "         'CTGTTTTCGCAAGTCTATGAACTATTGCTAT': 1,\n",
       "         'GGGCGCACGGAATACAAAGCCGTGTTTCTGC': 2,\n",
       "         'ATTGCGCCTTTTTGCGGTTGCCCGGTTTTTG': 1,\n",
       "         'CAAGTGATATCCATCATCGTATCCAGTGCGC': 4,\n",
       "         'GTAGTCCATCATTCCACCTTTGTCTGAACTC': 1,\n",
       "         'ATTACGCCTTTTTGCGATTGGCCGGTTTTTG': 1,\n",
       "         'TGGCTCTGCAACAGCAGCACCCATGCCCCCG': 2,\n",
       "         'GAGCGCACGGAATACAAAGCCGTGTATCTGC': 5,\n",
       "         'AAGCTGGCTGGCAATCTCTCTCGGGGTGAGT': 10,\n",
       "         'TAGTTTCCGTATCTCCGAATTTATAAAGCTG': 4,\n",
       "         'TGCGTGAGCGTATCGCCGCGCGTCTGCAAAA': 2,\n",
       "         'GCGACCGCTCAGAAATTCCAGCCCCGATCCA': 2,\n",
       "         'TCAACATCATCAATTACAACCGACAGGAAGC': 1,\n",
       "         'TAGTTTCAGGCGTTGCAAACCTGGCTACCGG': 1,\n",
       "         'CTGTTTTCGCAATTCTATGGACTATTGCTAT': 1,\n",
       "         'TGGCTCTGCAACAGCAGCACCCATGACCAGG': 3,\n",
       "         'GAGATGCTGGTGAGCGCTAATGCCGCAAACA': 1,\n",
       "         'GACAGAACGGCCTCAGTAGTCTCATCAGGCT': 3,\n",
       "         'TCGGTGCAGGCGTTGCAAACCTGGCTACCGG': 2,\n",
       "         'CCGGGGGATAATGTTTACGGTCATGTGCCCC': 4,\n",
       "         'GGGCGCACGGAATACTAAGCCGTGTATCTGC': 2,\n",
       "         'GATATGCTGGTGAGCGTTAATGCCGCAAACA': 2,\n",
       "         'AGCGTGTTCGGCATCACCTTTCGGGGTGAGT': 1,\n",
       "         'TTGTTTTCGCAAATCTATGGACTATTGCTAT': 5,\n",
       "         'TGGGCAGCTTGCCTTGCAGCCAGCTCCAGCA': 3,\n",
       "         'CAAGTGATATCAATCATCGCATCCAGTGCGC': 1,\n",
       "         'GTAGTCCATCATTCCACCTATGTTTGAACTC': 6,\n",
       "         'CGGTTTTCGCAAATCTATGGACTATTGCTAT': 2,\n",
       "         'CCGGGGGATAATGTTCACGGTCATGCGCCCC': 9,\n",
       "         'GACAGAACGGCATCAGTAGTCTCGTCAGGCT': 2,\n",
       "         'GCAGGCGGCGACGCGCAAGGTATGCGCGATT': 3,\n",
       "         'GGGCGCACGGAATACAAGGCCGTGCATCTGC': 2,\n",
       "         'CAGCGTCAGGCGTGAAATCTCACCGGCGTTG': 1,\n",
       "         'CTGTTTTCGCAAACCTATGGACCATTGCTAT': 1,\n",
       "         'ACATGGAATCCCTCCAGTGCATCAGTAATGG': 1,\n",
       "         'GGGGGCACGGAATACAAAGCCGTGTATCTGC': 1,\n",
       "         'AAAAGTGCCACTTGCGGAGACCCGGTCGTCA': 2,\n",
       "         'AAGCTGGCTGGCAATCTCTTTCGGGGAGAGT': 2,\n",
       "         'ATTACGCCTTTTTGCGATTGCCAGGTTTTTG': 2,\n",
       "         'ACGGGGGATAATGTTTACGGTCATGCGCCCC': 2,\n",
       "         'TGGCTCTGCAACAGCGGCACCCATGACCACT': 1,\n",
       "         'CAACGTCAGGCGTGAAATCTCACCGTCGTTG': 4,\n",
       "         'GGGCGCACCGAATACAAAGCCGTGTATCTGC': 1,\n",
       "         'ATTTCGCCTTTTTGCGATTGCCCGGTTTTTG': 2,\n",
       "         'GGGCGCACGGACTACAAAGCCGTGTATCTGC': 1,\n",
       "         'TGGCTCTGCAACAGCAGCACCCACGTCCACG': 1,\n",
       "         'TGGGCGGCTTGCCTTGCAGCCAGCTCCGGCA': 3,\n",
       "         'GAAATGCTGGTGAGCGTTAATGCCCCAAACA': 4,\n",
       "         'CTGTGTTCGCAAATCTATGGACTATTGCTAT': 2,\n",
       "         'TGGCTCTGCAACAGCAGCACCCATGACACG': 8,\n",
       "         'AAGCTGGCTGCAATCTCTTTCGGGGTGAGC': 1,\n",
       "         'GAGATGCTGGTGAGCGTTGATGCCGCAAACA': 1,\n",
       "         'GGGCGCACGGAATACAAAGCCTTGTATCTGC': 1,\n",
       "         'GAAATGCTTGTGAGCGTTAATGCCGCAAACA': 1,\n",
       "         'ATTACGCCTTTTTGCGATTGCCCGGTTGTTG': 1,\n",
       "         'GTAGTCCATCATCGCATCCAGTGCGC': 1,\n",
       "         'CTATTTTCGCAAATCTATGGACTATTGCTAT': 2,\n",
       "         'AAGCTGGCTGTCAATCTCTTTCGGGGTGAGT': 1,\n",
       "         'GCGACCGCTCAGAAATTCCATACCCGATCCA': 1,\n",
       "         'TCGGTTCAGGCGTTGCAACCCTGGCTCCCGG': 1,\n",
       "         'GAAATGCTGGTGAGCGTTAATGGCGCAAACA': 2,\n",
       "         'TCAACATTATCAATTACAACCGACAGAGAGC': 2,\n",
       "         'CTGGTTTCGCAAATCTATGGACTATTGCTAC': 1,\n",
       "         'GGCCGCATGGAATACAAAGCCGTGTATCTGC': 1,\n",
       "         'TAGTTTCCGTATCTCCGGACTTATAAGGCTG': 1,\n",
       "         'CAGCGTCAGGCGTGAAATCTCACCGCCGTTG': 1,\n",
       "         'AGCGTGTTCGGCATCACCTTTGGTTTCGGCT': 3,\n",
       "         'GCGACCGCTCAGAAACTCCAGACCCGAGCCA': 1,\n",
       "         'GGGCGCACGGAATACAAAGCCGTGTAACTGC': 1,\n",
       "         'TAGTATCCGTATCTCCGGATTTATAAAGCTG': 3,\n",
       "         'TCGGTTCAGGCGTTGCATTCCTGGCTACCGG': 1,\n",
       "         'CTGTTTTCGCAAATCTATGGACTATTGCTAA': 1,\n",
       "         'CTGTTTTCCCAAATCTATGGACTATTGCTAT': 1,\n",
       "         'GCGGGGGATAATGTTTACGGTCATGCACCCC': 1,\n",
       "         'GTAGTCCATCATTCCACCTATGTCTGAACTG': 3,\n",
       "         'AGCGTGTTCGGCAGCACCTTTGGCTTCGGCT': 1,\n",
       "         'GTAGGCGGCGACGCGCAGGGTATGCGCGATT': 7,\n",
       "         'AGCGTGTACGGCATCACCTTTGGCTTCGGCT': 2,\n",
       "         'TGTGCGGCTTGCCTTGCAGCCAGCTCCAGCA': 2,\n",
       "         'GCGACCGCTCAGTAGTCTCGTCAGGCT': 1,\n",
       "         'CTGCGTCAGGCGTGAAATCTCACCGTCGTTG': 1,\n",
       "         'TCAACATTATCAATTATAACCGACAGGGAGC': 3,\n",
       "         'ATTACGCCTTTTTGCGATTGCCCGGTGTTTG': 1,\n",
       "         'AAGTTTCCGTATCTCCGGATTTATAAAGCTG': 1,\n",
       "         'GTAGTCCATCATTCCACCTATGTCTGAAATC': 2,\n",
       "         'CCGGGGGATAATGTTTACGGTCATGCGCCC': 7,\n",
       "         'GAAATGCGGGTGAGCGTTAATGCCGCAAACA': 3,\n",
       "         'AAGCTGGCTTGCCTTGCAGCCAGCTCCAGCA': 1,\n",
       "         'AAGCTGGCTGGCAATCTCTTTCGGGGTGAAT': 2,\n",
       "         'TCGGTTCAGGCGTTGTAAACCTGGCTACCGG': 4,\n",
       "         'GCGACCGCTCAGAAATTCCAGACCCGTTCCA': 3,\n",
       "         'TCGGTTCAGTCGTTGCAAACCTGGCTACCGG': 2,\n",
       "         'ATTACGCCTTTCGCGATTGCCCGGTTTTTG': 1,\n",
       "         'GACAGAACGGCCTCAGTTGTCTCGTCAGGCT': 2,\n",
       "         'TGGGCGGCCTGCCTTGCGGCCAGCTCCAGCA': 1,\n",
       "         'GACAGAAAGGCCTCAGTAGTCTCGTCAGGCT': 1,\n",
       "         'TGGCTCTGCAACAGCAGAATCCATGACCACG': 1,\n",
       "         'AAGTGATATCCATCATCGCATCCAGTGCGC': 1,\n",
       "         'GGACGCACGGAATACAAAGCCGTGTATCTGC': 3,\n",
       "         'CCGGGGGATAATGTTTACGGTCGTGCGCCCC': 6,\n",
       "         'AGCGTGTTCGGCATCACCTTTGGCTACGGCT': 4,\n",
       "         'CTGTTTTTGCAAATCTATGGACTATTGCTAT': 8,\n",
       "         'AAGCTGGCTGGCAATCTCTTTTGGGGTGAGT': 2,\n",
       "         'TCGGTTCAGGCGTTGCAAACCTGGCTACCTG': 2,\n",
       "         'CTGTTTTCGCAAATCTATGACTATTGCTAT': 4,\n",
       "         'CTGTTTTCGCTAATCTATGGACTGTTGCTAT': 1,\n",
       "         'CTGTTTTAGCAAATCTATGGACTATTGCTAT': 1,\n",
       "         'ATTACGCCTTTTTGCGATCGCCCGGCTTTTG': 1,\n",
       "         'GTCGTCCATCCTTCCACCTATGTCTGAACTC': 1,\n",
       "         'GGGCGCACGGAATACAAAGCCGGGTATCTGC': 4,\n",
       "         'CCGGTTCAGGCGTTGCAAACCCGGCTACCGG': 1,\n",
       "         'TGGGCGGCTTGCCTTACAGCCAGCTCCAGCA': 1,\n",
       "         'CTGTTTGCGCAAATCTATGGACTATTGCTAT': 2,\n",
       "         'GCGGGCGGCGACGCGCAGGGTATGCGCGATT': 9,\n",
       "         'GGCGTGTTCGGCATCACCTTTGGCTTCGGCT': 8,\n",
       "         'GACAACACGGCCTCAGTAGTCTCGTCAGGCT': 1,\n",
       "         'TGGCACTGCAACAGCAGCACCCATGACCACG': 6,\n",
       "         'GTAGTCCGTCATTCCACCAATGTCTGAACTC': 1,\n",
       "         'TCAACATTATCAATTACAACCGACAGGGTGC': 2,\n",
       "         'GAAATGCTGGTGAGCGTTCATGCCGCAAACA': 2,\n",
       "         'ATTACGCCTTTTTGCGAATGCCCGGTTTTTG': 2,\n",
       "         'TGGCTCCGCAACAGCAGCACCCATGACCACA': 1,\n",
       "         'GCAACATTATCAATTACAACCGACAGGGAGC': 1,\n",
       "         'GAAATGCTGGTGAGCGTTATTGCCGCAAACA': 1,\n",
       "         'TCGGTTCAGGCGTTGCAAACCTGGCAACCGG': 2,\n",
       "         'TCGGTTCAGGCGTTGCATACCTGGCTACCGG': 3,\n",
       "         'GGGCGCACGGAATACAAAGCCGTGTATCTG': 2,\n",
       "         'AAGCTGACTGGCAATCTCTTTCGGGGTGAGT': 4,\n",
       "         'CTGTTTTCGTATCTCCGGATTTATAAAGCTG': 1,\n",
       "         'CTGTTTTCGCAAATCAATGGACTATTGCTAT': 4,\n",
       "         'TTGGCGGCTTGCCTTGCAGCCAGCTCCAGCA': 1,\n",
       "         'CAAGTGATATCCATCATCGCAACCAGTGCGC': 1,\n",
       "         'GGGCGCACGGAAAACAAAGCCGTGTATCTGC': 1,\n",
       "         'GCAGGCGGGGACGCGCAGGGTATGCGCGATT': 2,\n",
       "         'GACAGAACGGACTCAGTAGTCTCGTCAGGCT': 1,\n",
       "         'TGGCTCCGCAACAGCAGCACCCATGGCCGCG': 1,\n",
       "         'GGGCGCACGGAATACATAGCCGTGTATCTGC': 3,\n",
       "         'CGAAATGCTGGTGAGCGTTAATGCCGCAAAC': 1,\n",
       "         'AGCGTGTTCGGCATCGCTTTTGGCTTCGGCT': 1,\n",
       "         'TCAACATTATCAGTTACAACCGACAGGGAGC': 11,\n",
       "         'CTAGTGATATCCATCATCGCATCCAGTGCGC': 2,\n",
       "         'TCAACATTAACAATTACAACCGACAGGGAGC': 4,\n",
       "         'TAGTTAACTTATAGACAGAATATCCGTGTAC': 2,\n",
       "         'CCGGGGGATAATGTTTTCGGTCATGCGCCCC': 2,\n",
       "         'AAGCTGGCTGGCAATTTCTTTCGGGGTGAGT': 3,\n",
       "         'TGGGCGGCTTGCCTTGCAGCCAGCTCCATCA': 3,\n",
       "         'GCGACCGCTCAGAAATTCCAGACCCAATCCA': 6,\n",
       "         'GTAGTCCATCATTCCACCTATGGCTGAACTC': 4,\n",
       "         'TCAACATTATCAATACAACCGACAGGGAGC': 1,\n",
       "         'CCGGGGGAGAATGTTTACGGTCATGCGCCCC': 2,\n",
       "         'TAGTTTCCGTATCTCCGGATTTATAAAGCTA': 4,\n",
       "         'CAAGCGGTATCCATCATCGCATCCAGTGCGC': 1,\n",
       "         'CTGATTTCGCAAATCTATGGACTATTGCTAT': 2,\n",
       "         'GACAGAACGACCTCAGTAGTCTCGTCAGGCT': 5,\n",
       "         'CCCGGGGATAATGTTTACGGTCATGCGCCCC': 1,\n",
       "         'TGGCTCTGCAACAGCAGCACCCATGACCTCG': 4,\n",
       "         'TGGCTCTGCACAGCAGCACCCATGACCACG': 1,\n",
       "         'TTCTGTCACCTGACTATTTAACGCTATATTT': 1,\n",
       "         'ACACACCAGGACCGCGCCAACTTACCCCGCG': 2,\n",
       "         'TAGTTTCCGTAACTCCGGATTTATAAAGCTG': 2,\n",
       "         'GCGACCGCTCAGAAATTCCAGACCCCATCCA': 2,\n",
       "         'TCAACATTATCAATTACAACCGTCAGGGAGC': 4,\n",
       "         'CCGGGGGATAATGTCTGCGGTCATGCGCCCC': 1,\n",
       "         'TGGCTCTGCAACAGCAGCACCCAAGACCACG': 3,\n",
       "         'TGGATCTGCAACAGCAGCACCCATGACCACG': 1,\n",
       "         'GTAGTCCATCATTCCACCTATGACTGAACTC': 2,\n",
       "         'GCGACCGCTCAGAAATTTCAGACCCGATCCA': 1,\n",
       "         'GGGCGCACGGAATACGAAGCCGTGTATCAGC': 1,\n",
       "         'AGCGTGTTCGGCATCACCATTGGCTTCGGCT': 1,\n",
       "         'TCGGATCAGGCGTTGCAAACCTGGCTACCGG': 1,\n",
       "         'CCGGGGATAATGTTTACGGTCATGCGCCCC': 3,\n",
       "         'GACAGAACGGCCTCAGTAGTCTCGGCAGGCT': 2,\n",
       "         'ATTACGCATTTTTGCGATTGCCCGGTTTTTG': 1,\n",
       "         'CTGCTGCTCGAGCTGGTGGAGTGCTGCTATA': 1,\n",
       "         'CAAATGATATCCATCATCGCATCCAGTGCGC': 1,\n",
       "         'TGGGCGGCTTGCCTTGCAGCCAGCTACGGCA': 1,\n",
       "         'GACGGCGGCGACGCGCAGGGTATGCGCGATT': 1,\n",
       "         'ATTACGCCTTTTTGCGATAGCCCGGTTTTTG': 2,\n",
       "         'AGGCTCTGCATCAGCAGCACCCATGACCACG': 1,\n",
       "         'GAAATGCTGGTGAGCGTTAGTGTCGCAAACA': 1,\n",
       "         'GAAATGCTGGTGAGCGTTATGCCGCAAACA': 3,\n",
       "         'TGGCTCTGCAACGGCAGCGCCCATGACCACG': 1,\n",
       "         'ATTACGCCTTTTTGCGATTACCCGGTTTTTG': 3,\n",
       "         'GAACTGCTGGTGAGCGTTAATGCCGCAAACA': 1,\n",
       "         'CAAGTGATATCTATCATCGCATCCAGTGCGC': 1,\n",
       "         ...})"
      ]
     },
     "execution_count": 127,
     "metadata": {},
     "output_type": "execute_result"
    }
   ],
   "source": [
    "Counter(lines)"
   ]
  },
  {
   "cell_type": "code",
   "execution_count": 113,
   "metadata": {
    "scrolled": true
   },
   "outputs": [
    {
     "data": {
      "image/png": "[encoded data removed]",
      "text/plain": [
       "<matplotlib.figure.Figure at 0x7fbc0a8e55f8>"
      ]
     },
     "metadata": {},
     "output_type": "display_data"
    }
   ],
   "source": [
    "plt.hist([len(x) for x in lines])\n",
    "plt.show()"
   ]
  },
  {
   "cell_type": "code",
   "execution_count": 155,
   "metadata": {
    "collapsed": true
   },
   "outputs": [],
   "source": [
    "with open(\"../data/ES/ES3_R1_pairs.txt\") as f:\n",
    "    pairs = [x[:-2].split(' ') for x in f.readlines()]"
   ]
  },
  {
   "cell_type": "code",
   "execution_count": 156,
   "metadata": {},
   "outputs": [
    {
     "data": {
      "text/plain": [
       "74627"
      ]
     },
     "execution_count": 156,
     "metadata": {},
     "output_type": "execute_result"
    }
   ],
   "source": [
    "len(pairs)"
   ]
  },
  {
   "cell_type": "code",
   "execution_count": 136,
   "metadata": {
    "collapsed": true
   },
   "outputs": [],
   "source": [
    "set_31 = [x[:31] for x in  K_1 + K_2]"
   ]
  },
  {
   "cell_type": "code",
   "execution_count": 160,
   "metadata": {
    "collapsed": true
   },
   "outputs": [],
   "source": [
    "set_31 = set(ans_3_31)"
   ]
  },
  {
   "cell_type": "code",
   "execution_count": 161,
   "metadata": {
    "collapsed": true
   },
   "outputs": [],
   "source": [
    "counter = 0\n",
    "\n",
    "for l in lines + lines_2:\n",
    "    if l in set_31:\n",
    "    \n",
    "        counter += 1"
   ]
  },
  {
   "cell_type": "code",
   "execution_count": 162,
   "metadata": {},
   "outputs": [
    {
     "data": {
      "text/plain": [
       "283490"
      ]
     },
     "execution_count": 162,
     "metadata": {},
     "output_type": "execute_result"
    }
   ],
   "source": [
    "counter"
   ]
  },
  {
   "cell_type": "code",
   "execution_count": 163,
   "metadata": {},
   "outputs": [
    {
     "data": {
      "text/plain": [
       "35"
      ]
     },
     "execution_count": 163,
     "metadata": {},
     "output_type": "execute_result"
    }
   ],
   "source": [
    "len(ans_3_31)"
   ]
  },
  {
   "cell_type": "code",
   "execution_count": null,
   "metadata": {
    "collapsed": true
   },
   "outputs": [],
   "source": []
  }
 ],
 "metadata": {
  "kernelspec": {
   "display_name": "Python 3",
   "language": "python",
   "name": "python3"
  },
  "language_info": {
   "codemirror_mode": {
    "name": "ipython",
    "version": 3
   },
   "file_extension": ".py",
   "mimetype": "text/x-python",
   "name": "python",
   "nbconvert_exporter": "python",
   "pygments_lexer": "ipython3",
   "version": "3.6.3"
  }
 },
 "nbformat": 4,
 "nbformat_minor": 2
}
