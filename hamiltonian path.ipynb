{
 "cells": [
  {
   "cell_type": "code",
   "execution_count": 511,
   "metadata": {
    "collapsed": true
   },
   "outputs": [],
   "source": [
    "import numpy as np\n",
    "import matplotlib.pyplot as plt\n",
    "from tqdm import tqdm_notebook\n",
    "\n",
    "import pickle"
   ]
  },
  {
   "cell_type": "code",
   "execution_count": 265,
   "metadata": {
    "collapsed": true
   },
   "outputs": [],
   "source": [
    "class Component:\n",
    "    def __init__(self):\n",
    "        self.chain = []\n",
    "    \n",
    "    def add_edge(self, edge):\n",
    "        if len(self.chain) == 0:\n",
    "            self.chain.append(edge[0])\n",
    "            self.chain.append(edge[1])\n",
    "            return True\n",
    "        elif edge[0] == self.chain[-1]:\n",
    "            self.chain.append(edge[1])\n",
    "            return True\n",
    "        elif edge[1] == self.chain[0]:\n",
    "            self.chain.insert(0, edge[0])\n",
    "            return True\n",
    "        else:\n",
    "            return False\n",
    "        \n",
    "        \n",
    "    def allow_edge(self, edge):\n",
    "        if len(self.chain) == 0:\n",
    "            return True\n",
    "        elif not edge[0] in self.chain[:-1] and not edge[1] in self.chain[1:] \\\n",
    "            and not (edge[0] == self.chain[-1] and edge[1] == self.chain[0]):\n",
    "            return True\n",
    "        else:\n",
    "            return False\n",
    "    \n",
    "    def require_edge(self, edge):\n",
    "        if not self.allow_edge(edge):\n",
    "            return False\n",
    "        if edge[0] == self.chain[-1]:\n",
    "            return True\n",
    "        if edge[1] == self.chain[0]:\n",
    "            return True\n",
    "        \n",
    "    def merge(self, component):\n",
    "        if component.chain[0] == self.chain[-1]:\n",
    "            self.chain.extend(component.chain[1:])\n",
    "            return True\n",
    "        elif component.chain[-1] == self.chain[0]:\n",
    "            new_chain = component.chain\n",
    "            new_chain.extend(self.chain[1:])\n",
    "            self.chain = new_chain\n",
    "            return True\n",
    "        else:\n",
    "            return False\n",
    "        \n",
    "    def __str__(self):\n",
    "        return str(self.chain)\n",
    "    \n",
    "    def __repr__(self):\n",
    "        return str(self.chain)"
   ]
  },
  {
   "cell_type": "code",
   "execution_count": 279,
   "metadata": {
    "collapsed": true
   },
   "outputs": [],
   "source": [
    "c = Component()"
   ]
  },
  {
   "cell_type": "code",
   "execution_count": null,
   "metadata": {
    "collapsed": true
   },
   "outputs": [],
   "source": []
  },
  {
   "cell_type": "code",
   "execution_count": 464,
   "metadata": {
    "collapsed": true
   },
   "outputs": [],
   "source": [
    "def next_edge(graph, components, name):\n",
    "    #name = 0\n",
    "    #done = False\n",
    "    for argmax in tqdm_notebook(graph.flatten().argsort()[::-1]):\n",
    "        edge = (argmax // graph.shape[0], argmax % graph.shape[0])\n",
    "        \n",
    "        #print(edge, len(components))\n",
    "        if len(components) == 0:\n",
    "            c = Component()\n",
    "            c.add_edge(edge)\n",
    "            components[name] = c\n",
    "            name += 1\n",
    "            #break\n",
    "        else:\n",
    "            if all([comp.allow_edge(edge) for comp in components.values()]):\n",
    "                require_names = [name for name in components if components[name].require_edge(edge)]\n",
    "                #print(\"rn\", require_names)\n",
    "                if len(require_names) == 0:\n",
    "                    c = Component()\n",
    "                    c.add_edge(edge)\n",
    "                    components[name] = c\n",
    "                    name += 1\n",
    "                    #break\n",
    "                elif len(require_names) == 1:\n",
    "                    components[require_names[0]].add_edge(edge)\n",
    "                    #break\n",
    "                elif len(require_names) == 2:\n",
    "                    components[require_names[0]].add_edge(edge)\n",
    "                    components[require_names[0]].merge(components[require_names[1]])\n",
    "                    components.pop(require_names[1])\n",
    "                    #break\n",
    "    return name"
   ]
  },
  {
   "cell_type": "code",
   "execution_count": 48,
   "metadata": {
    "collapsed": true
   },
   "outputs": [],
   "source": [
    "def plot_gr(gr, start=0, end=-1, log = False, all_ticks = False,  s=10):\n",
    "    plt.figure(figsize=(s,s))\n",
    "    if end == -1:\n",
    "        end = gr.shape[0]\n",
    "    if log:\n",
    "        plt.imshow(np.log(gr[start:end,start:end] + 1))\n",
    "    else:\n",
    "        plt.imshow(gr[start:end,start:end])\n",
    "    plt.colorbar()\n",
    "    if all_ticks: \n",
    "        plt.xticks(np.arange(start,end))\n",
    "        plt.yticks(np.arange(start,end))\n",
    "    plt.show()"
   ]
  },
  {
   "cell_type": "code",
   "execution_count": 494,
   "metadata": {
    "collapsed": true
   },
   "outputs": [],
   "source": [
    "def a_in_b(a,b):\n",
    "    a = np.array(a)\n",
    "    b = np.array(b)\n",
    "    if len(a) > len(b):\n",
    "        return False\n",
    "    else:\n",
    "        for i in range(len(b) - len(a) + 1):\n",
    "            if all(b[i:i + len(a)] == a):\n",
    "                return True\n",
    "    return False"
   ]
  },
  {
   "cell_type": "code",
   "execution_count": 3,
   "metadata": {
    "collapsed": true
   },
   "outputs": [],
   "source": [
    "m =  np.zeros((3,3))\n",
    "m[0,1] = 1\n",
    "m[1,2] = 1\n",
    "m[2,0] = 1"
   ]
  },
  {
   "cell_type": "code",
   "execution_count": 8,
   "metadata": {
    "collapsed": true
   },
   "outputs": [],
   "source": [
    "mn = m + np.random.normal(0, 0.1, (3,3))"
   ]
  },
  {
   "cell_type": "code",
   "execution_count": 18,
   "metadata": {
    "collapsed": true
   },
   "outputs": [],
   "source": [
    "import some_tsm as stsm"
   ]
  },
  {
   "cell_type": "markdown",
   "metadata": {
    "collapsed": true
   },
   "source": [
    "## Simple greedy\n",
    "\n",
    "add headiest, non-cycle, no tree edge"
   ]
  },
  {
   "cell_type": "code",
   "execution_count": 17,
   "metadata": {},
   "outputs": [
    {
     "data": {
      "text/plain": [
       "array([0])"
      ]
     },
     "execution_count": 17,
     "metadata": {},
     "output_type": "execute_result"
    }
   ],
   "source": [
    "np.argsort(m.flatten)[::-1]"
   ]
  },
  {
   "cell_type": "code",
   "execution_count": 28,
   "metadata": {},
   "outputs": [
    {
     "data": {
      "text/plain": [
       "array([[0., 1., 0.],\n",
       "       [0., 0., 1.],\n",
       "       [1., 0., 0.]])"
      ]
     },
     "execution_count": 28,
     "metadata": {},
     "output_type": "execute_result"
    }
   ],
   "source": [
    "m"
   ]
  },
  {
   "cell_type": "code",
   "execution_count": 29,
   "metadata": {},
   "outputs": [],
   "source": [
    "start_v = set()\n",
    "end_v= set()\n",
    "edges = set()\n",
    "\n",
    "next_edge(m, start_v, end_v, edges)"
   ]
  },
  {
   "cell_type": "code",
   "execution_count": 30,
   "metadata": {},
   "outputs": [
    {
     "name": "stdout",
     "output_type": "stream",
     "text": [
      "{2} {0} {(2, 0)}\n"
     ]
    }
   ],
   "source": [
    "print(start_v, end_v, edges)"
   ]
  },
  {
   "cell_type": "code",
   "execution_count": 33,
   "metadata": {},
   "outputs": [
    {
     "name": "stdout",
     "output_type": "stream",
     "text": [
      "{0, 1, 2} {0, 1, 2} {(1, 2), (2, 0), (0, 1)}\n"
     ]
    }
   ],
   "source": [
    "next_edge(m, start_v, end_v, edges)\n",
    "print(start_v, end_v, edges)"
   ]
  },
  {
   "cell_type": "code",
   "execution_count": 99,
   "metadata": {
    "collapsed": true
   },
   "outputs": [],
   "source": [
    "gr_ES = np.load(\"../data/graphs/ES3_22.npy\")[:35,:35]"
   ]
  },
  {
   "cell_type": "code",
   "execution_count": 100,
   "metadata": {},
   "outputs": [
    {
     "data": {
      "image/png": "[encoded data removed]",
      "text/plain": [
       "<matplotlib.figure.Figure at 0x7faffb900438>"
      ]
     },
     "metadata": {},
     "output_type": "display_data"
    }
   ],
   "source": [
    "plot_gr(gr_ES)"
   ]
  },
  {
   "cell_type": "code",
   "execution_count": 209,
   "metadata": {
    "collapsed": true
   },
   "outputs": [],
   "source": [
    "l = [1,2,3]"
   ]
  },
  {
   "cell_type": "code",
   "execution_count": 211,
   "metadata": {},
   "outputs": [],
   "source": [
    "l.insert(0,0)"
   ]
  },
  {
   "cell_type": "code",
   "execution_count": 212,
   "metadata": {},
   "outputs": [
    {
     "data": {
      "text/plain": [
       "[0, 1, 2, 3]"
      ]
     },
     "execution_count": 212,
     "metadata": {},
     "output_type": "execute_result"
    }
   ],
   "source": [
    "l."
   ]
  },
  {
   "cell_type": "code",
   "execution_count": 503,
   "metadata": {
    "collapsed": true
   },
   "outputs": [],
   "source": [
    "components = {}\n",
    "name = 0"
   ]
  },
  {
   "cell_type": "code",
   "execution_count": 504,
   "metadata": {},
   "outputs": [
    {
     "data": {
      "application/vnd.jupyter.widget-view+json": {
       "model_id": "34dc328a43ce4aa3b096979e60012fc3",
       "version_major": 2,
       "version_minor": 0
      },
      "text/plain": [
       "A Jupyter Widget"
      ]
     },
     "metadata": {},
     "output_type": "display_data"
    },
    {
     "name": "stdout",
     "output_type": "stream",
     "text": [
      "\n",
      "{0: [4, 2, 5, 7, 11, 24, 19, 18, 25, 30, 27, 26, 28, 31, 32, 33, 34, 20, 22, 23, 21, 29, 1, 0, 3, 6, 8, 9, 10, 13, 14, 15, 17, 12, 16]} 10\n"
     ]
    }
   ],
   "source": [
    "name = next_edge(gr_ES, components, name)\n",
    "print(components, name)"
   ]
  },
  {
   "cell_type": "code",
   "execution_count": 505,
   "metadata": {},
   "outputs": [],
   "source": [
    "chain = components[0].chain"
   ]
  },
  {
   "cell_type": "code",
   "execution_count": 449,
   "metadata": {
    "collapsed": true
   },
   "outputs": [],
   "source": [
    "weights = []\n",
    "for i,j in zip(chain[:-1] , chain[1:]):\n",
    "    weights.append(gr_ES[i,j])"
   ]
  },
  {
   "cell_type": "code",
   "execution_count": 281,
   "metadata": {},
   "outputs": [
    {
     "data": {
      "text/plain": [
       "{0: [1, 0, 3, 6, 8, 9, 10, 13, 14, 15, 17, 12, 16],\n",
       " 2: [4, 2, 5, 7, 11],\n",
       " 4: [24, 19, 18, 25, 30, 27, 26, 28, 31, 32, 33, 34],\n",
       " 6: [20, 22, 23, 21, 29]}"
      ]
     },
     "execution_count": 281,
     "metadata": {},
     "output_type": "execute_result"
    }
   ],
   "source": [
    "all_cass"
   ]
  },
  {
   "cell_type": "code",
   "execution_count": 452,
   "metadata": {},
   "outputs": [
    {
     "data": {
      "text/plain": [
       "(array([ 4, 16, 21]),)"
      ]
     },
     "execution_count": 452,
     "metadata": {},
     "output_type": "execute_result"
    }
   ],
   "source": [
    "np.where(np.array(weights) == 0)"
   ]
  },
  {
   "cell_type": "code",
   "execution_count": 458,
   "metadata": {},
   "outputs": [
    {
     "data": {
      "image/png": "[encoded data removed]",
      "text/plain": [
       "<matplotlib.figure.Figure at 0x7faffdd2a630>"
      ]
     },
     "metadata": {},
     "output_type": "display_data"
    }
   ],
   "source": [
    "plt.plot(weights)\n",
    "plt.show()"
   ]
  },
  {
   "cell_type": "code",
   "execution_count": null,
   "metadata": {
    "collapsed": true
   },
   "outputs": [],
   "source": []
  },
  {
   "cell_type": "code",
   "execution_count": 487,
   "metadata": {
    "collapsed": true
   },
   "outputs": [],
   "source": [
    "gr_SlO = np.load(\"../data/graphs/SlO_22.npy\")"
   ]
  },
  {
   "cell_type": "code",
   "execution_count": 488,
   "metadata": {
    "collapsed": true
   },
   "outputs": [],
   "source": [
    "components_slo = {}\n",
    "name_slo = 0"
   ]
  },
  {
   "cell_type": "code",
   "execution_count": 489,
   "metadata": {},
   "outputs": [
    {
     "data": {
      "application/vnd.jupyter.widget-view+json": {
       "model_id": "5f44c8cdecaa415cb66f78095b9fa4c4",
       "version_major": 2,
       "version_minor": 0
      },
      "text/plain": [
       "A Jupyter Widget"
      ]
     },
     "metadata": {},
     "output_type": "display_data"
    },
    {
     "name": "stdout",
     "output_type": "stream",
     "text": [
      "\n",
      "{0: [1163, 1000, 1126, 1354, 628, 1774, 791, 814, 1744, 701, 468, 487, 1369, 1619, 949, 1121, 1124, 1182, 1201, 1181, 1217, 1248, 1081, 1025, 918, 1501, 1343, 945, 828, 1641, 905, 904, 1380, 804, 886, 990, 1652, 1665, 807, 1794, 1579, 221, 265, 397, 389, 1764, 1514, 503, 1024, 1009, 854, 727, 747, 1102, 1225, 1136, 958, 870, 226, 259, 386, 535, 380, 303, 433, 805, 710, 684, 564, 595, 391, 675, 888, 693, 1693, 644, 1037, 1086, 1518, 800, 1650, 1314, 936, 1561, 920, 1660, 1505, 570, 563, 1012, 1683, 1243, 1091, 1237, 1094, 1374, 621, 1704, 1415, 1087, 1311, 1381, 572, 525, 540, 395, 728, 1773, 458, 660, 1390, 1786, 946, 1575, 1038, 156, 691, 491, 405, 612, 1222, 1205, 1173, 1378, 1238, 1481, 1476, 555, 1394, 910, 1234, 993, 1062, 642, 1402, 755, 1293, 261, 725, 1734, 1776, 1546, 1765, 773, 788, 1484, 697, 1265, 1331, 880, 1348, 1444, 1618, 1755, 1376, 1675, 1401, 970, 1309, 1233, 350, 1630, 666, 428, 372, 183, 256, 976, 1584, 678, 1779, 607, 639, 1035, 1519, 578, 545, 597, 305, 587, 1766, 1347, 1479, 1392, 1349, 1752, 1769, 1488, 1532, 911, 1446, 1452, 940, 251, 295, 291, 263, 898, 1115, 1552, 1306, 1084, 1735, 988, 960, 1572, 518, 1681, 1678, 1543, 577, 851, 1030, 1027, 1674, 1617, 1383, 1731, 1590, 1723, 1722, 1447, 891, 1170, 1060, 838, 1670, 907, 829, 377, 476, 546, 1793, 1004, 1635, 739, 310, 813, 1345, 897, 1325, 1432, 1340, 1539, 1761, 740, 948, 1335, 1109, 704, 1272, 1273, 877, 649, 224, 947, 1551, 1523, 1291, 1204, 1177, 1112, 1419, 611, 270, 557, 147, 177, 1346, 1085, 1706, 1770, 1268, 1471, 465, 347, 1534, 1789, 681, 601, 1622, 1512, 527, 441, 560, 1796, 744, 1477, 641, 1682, 1463, 521, 627, 1439, 1128, 1083, 984, 1435, 1472, 1329, 933, 1426, 669, 1361, 619, 334, 326, 346, 325, 784, 637, 935, 914, 819, 606, 645, 847, 202, 374, 427, 260, 406, 227, 589, 1568, 983, 1628, 670, 355, 278, 431, 483, 499, 1696, 1576, 1611, 1695, 614, 401, 517, 844, 115, 59, 432, 592, 158, 80, 1297, 1469, 354, 638, 723, 746, 625, 1158, 1437, 1041, 735, 1188, 1224, 1165, 963, 913, 1007, 1191, 1221, 1229, 1215, 1138, 1249, 1250, 1034, 1210, 1246, 1515, 1456, 1646, 1398, 1621, 909, 1608, 1762, 1431, 768, 1404, 1702, 659, 1075, 1541, 1323, 1370, 1400, 1781, 848, 237, 349, 53, 415, 254, 559, 1302, 1178, 996, 834, 387, 1677, 968, 1548, 825, 762, 671, 1732, 1644, 742, 1673, 749, 511, 843, 915, 1360, 815, 436, 708, 1146, 1139, 1082, 835, 37, 29, 22, 30, 20, 24, 43, 50, 79, 60, 67, 72, 54, 106, 225, 330, 515, 534, 378, 379, 580, 1748, 1319, 1416, 872, 553, 874, 430, 344, 593, 375, 290, 709, 1453, 1242, 1657, 1104, 769, 1194, 1065, 1338, 944, 1016, 820, 393, 1212, 994, 831, 1728, 931, 166, 440, 777, 1332, 1489, 795, 743, 922, 1423, 928, 934, 1207, 1106, 770, 1480, 1174, 1366, 682, 858, 973, 1659, 1727, 1741, 473, 1292, 982, 1651, 799, 533, 1679, 929, 1503, 906, 1664, 1427, 1638, 1557, 643, 921, 840, 959, 927, 1147, 1149, 977, 1372, 1757, 939, 1654, 1236, 1047, 1278, 860, 508, 411, 1717, 750, 856, 733, 485, 1798, 1497, 1422, 1023, 19, 17, 5, 3, 0, 2, 4, 1, 6, 32, 69, 124, 61, 100, 111, 47, 109, 141, 236, 116, 118, 162, 180, 128, 222, 104, 76, 145, 134, 105, 93, 131, 120, 112, 121, 169, 125, 199, 338, 504, 323, 692, 1691, 1699, 1713, 1555, 1442, 1531, 1132, 1048, 772, 1264, 883, 695, 1782, 658, 1285, 953, 1633, 1066, 1711, 1470, 581, 460, 362, 1286, 1494, 1284, 1145, 1726, 1367, 868, 623, 250, 1344, 1540, 753, 690, 462, 1324, 1129, 1409, 812, 1179, 1077, 1692, 1658, 761, 1454, 617, 370, 1211, 1226, 1122, 1615, 1614, 853, 544, 869, 488, 1671, 1483, 1310, 1010, 1061, 1143, 995, 1022, 1098, 1301, 1002, 1088, 1095, 1166, 1321, 1567, 1721, 875, 566, 1337, 1487, 1230, 1049, 1640, 1123, 1397, 1787, 1522, 1510, 962, 1458, 1216, 1050, 1428, 1420, 1582, 1099, 798, 1281, 1598, 775, 138, 315, 528, 383, 1015, 1040, 957, 1549, 502, 356, 285, 207, 213, 117, 92, 165, 283, 253, 309, 376, 966, 992, 1275, 1516, 1758, 718, 414, 1172, 1003, 1745, 1768, 1032, 986, 998, 1550, 551, 399, 382, 336, 342, 345, 495, 192, 881, 434, 71, 89, 279, 167, 653, 438, 429, 542, 182, 312, 321, 281, 317, 1269, 1256, 1440, 782, 1305, 1322, 876, 425, 208, 359, 267, 223, 127, 96, 65, 99, 44, 82, 46, 41, 58, 333, 1688, 647, 420, 466, 821, 579, 332, 752, 514, 767, 1634, 841, 479, 421, 717, 657, 646, 1430, 985, 1218, 1266, 1116, 1336, 895, 759, 481, 1632, 1283, 1359, 636, 467, 368, 1468, 620, 416, 500, 497, 532, 1737, 652, 955, 1391, 1566, 1565, 536, 320, 194, 97, 388, 997, 1580, 1530, 1350, 1013, 1464, 1490, 1096, 1739, 609, 1631, 1500, 1560, 1144, 1353, 751, 1056, 1710, 1684, 1028, 1450, 1375, 703, 1198, 1171, 942, 1059, 1578, 779, 1772, 836, 1351, 1588, 1373, 745, 486, 404, 785, 610, 258, 292, 264, 319, 273, 252, 193, 203, 410, 720, 1513, 1620, 730, 1558, 567, 823, 1227, 1108, 1496, 846, 780, 591, 130, 1282, 1581, 335, 569, 443, 1498, 505, 83, 185, 842, 1525, 1648, 1647, 1180, 1436, 1255, 1079, 1461, 661, 667, 1507, 523, 674, 1623, 1662, 1073, 806, 1358, 1645, 1649, 737, 1509, 1026, 801, 364, 407, 989, 1142, 1219, 1070, 1636, 1031, 1600, 729, 1006, 1405, 594, 991, 1495, 1587, 1589, 1153, 1154, 981, 899, 863, 650, 1377, 1457, 114, 318, 209, 392, 172, 293, 1185, 1157, 1118, 902, 1607, 794, 510, 277, 244, 304, 274, 245, 186, 403, 576, 1462, 1655, 1017, 1396, 602, 178, 294, 1738, 1718, 1528, 598, 558, 358, 360, 590, 817, 1797, 1714, 809, 1333, 1542, 707, 173, 143, 78, 28, 45, 68, 48, 36, 39, 129, 276, 86, 52, 64, 126, 18, 23, 57, 599, 792, 561, 861, 672, 328, 361, 688, 1536, 1625, 1760, 1759, 1288, 1603, 1267, 1492, 1719, 170, 139, 38, 26, 31, 27, 40, 66, 55, 49, 103, 246, 220, 206, 137, 51, 70, 107, 42, 90, 385, 526, 585, 484, 418, 366, 930, 890, 1382, 763, 340, 201, 248, 313, 537, 1413, 1524, 1076, 917, 1653, 1451, 1156, 943, 1629, 1666, 1729, 1460, 1300, 1417, 654, 712, 635, 663, 257, 348, 459, 631, 152, 153, 146, 150, 230, 163, 102, 133, 204, 1316, 1271, 916, 837, 1244, 1162, 189, 339, 247, 329, 235, 275, 1279, 1052, 1736, 1562, 1499, 1777, 1328, 1593, 699, 1663, 857, 1184, 1176, 941, 1276, 1308, 1051, 1214, 1352, 604, 1008, 967, 1213, 1190, 1045, 1712, 1254, 1355, 1506, 1783, 1604, 1642, 786, 1749, 1101, 1443, 1317, 1071, 1616, 1602, 1486, 1448, 618, 1742, 1046, 384, 575, 490, 802, 1386, 1669, 1127, 952, 865, 926, 1368, 648, 1799, 1280, 859, 1504, 685, 198, 924, 161, 288, 157, 155, 550, 520, 75, 919, 1277, 1626, 1005, 1606, 971, 1092, 1610, 1327, 1263, 1573, 1475, 680, 1318, 1438, 1020, 1521, 554, 56, 136, 492, 1775, 676, 683, 1411, 1689, 1520, 1750, 1403, 633, 298, 74, 33, 77, 144, 238, 824, 181, 287, 496, 478, 357, 422, 1767, 736, 651, 498, 603, 586, 698, 719, 568, 573, 1527, 1733, 447, 766, 482, 894, 1792, 1763, 1209, 974, 864, 1720, 1685, 1601, 1705, 1197, 1133, 1410, 616, 582, 887, 1294, 1295, 1119, 1478, 1609, 1544, 1459, 999, 1334, 1326, 1485, 961, 764, 760, 1687, 1756, 1155, 1160, 1251, 900, 1054, 187, 613, 439, 600, 456, 262, 608, 889, 454, 715, 1100, 1661, 1287, 885, 1511, 1533, 694, 1231, 1223, 1080, 1247, 1296, 1425, 1011, 830, 1175, 1140, 1433, 724, 596, 1036, 1303, 1491, 754, 1526, 640, 402, 571, 308, 341, 306, 196, 363, 351, 477, 409, 530, 1393, 1724, 1780, 1466, 845, 1613, 1195, 1169, 980, 822, 396, 463, 605, 1473, 1113, 1063, 1751, 662, 969, 1517, 1021, 1313, 1141, 1033, 365, 584, 964, 1624, 1445, 882, 417, 470, 748, 1315, 1114, 1069, 867, 464, 461, 632, 1591, 713, 793, 1701, 879, 796, 1791, 1441, 1753, 722, 1057, 1493, 1502, 1715, 1388, 1387, 855, 494, 352, 1467, 1357, 1074, 965, 826, 543, 197, 148, 289, 574, 234, 757, 811, 871, 1667, 1563, 583, 413, 689, 810, 1690, 1299, 1043, 1365, 1698, 1697, 1356, 1289, 1583, 1668, 1341, 1385, 1290, 1418, 1746, 679, 1053, 771, 731, 562, 1161, 1042, 734, 630, 696, 1093, 1596, 1208, 1105, 1364, 1130, 1434, 1694, 950, 1637, 1754, 1594, 1643, 1260, 1574, 1258, 1274, 1545, 1245, 1547, 808, 426, 507, 331, 316, 271, 475, 850, 1529, 1569, 1556, 529, 412, 381, 373, 1708, 1064, 1554, 1553, 1680, 1627, 787, 686, 474, 849, 716, 1001, 901, 1239, 1449, 1039, 783, 1072, 1395, 687, 1379, 1788, 908, 1298, 1252, 1571, 726, 541, 219, 123, 119, 113, 132, 437, 217, 626, 297, 176, 394, 300, 455, 337, 200, 175, 154, 435, 741, 547, 450, 243, 211, 322, 445, 538, 1192, 1044, 1150, 1058, 1240, 1235, 1137, 472, 1055, 451, 327, 302, 232, 241, 489, 932, 1639, 1339, 839, 673, 1312, 1371, 1183, 1078, 1676, 1189, 1220, 975, 1605, 833, 480, 556, 493, 705, 1151, 453, 371, 424, 190, 160, 229, 216, 239, 168, 140, 444, 343, 457, 280, 513, 912, 1228, 1261, 1412, 655, 1716, 774, 531, 284, 296, 512, 624, 1097, 756, 711, 1790, 1656, 803, 519, 1019, 1747, 1538, 1537, 1406, 1465, 1270, 1577, 700, 509, 634, 369, 122, 215, 1257, 1090, 765, 1068, 781, 1535, 656, 501, 471, 1725, 1585, 923, 832, 732, 1421, 1363, 1342, 1167, 1320, 1206, 1134, 978, 1152, 1407, 1784, 1384, 1508, 1399, 1408, 1029, 1241, 1014, 1253, 1570, 548, 797, 972, 878, 1785, 1168, 1103, 1740, 1482, 738, 516, 629, 1018, 778, 789, 1795, 664, 1612, 893, 951, 668, 353, 218, 524, 1148, 1107, 1709, 721, 188, 214, 240, 268, 1307, 979, 937, 956, 1186, 1135, 1159, 1414, 1304, 1474, 1686, 987, 884, 151, 266, 110, 108, 149, 81, 95, 63, 84, 101, 85, 171, 210, 191, 269, 98, 135, 301, 449, 73, 21, 62, 88, 34, 91, 8, 7, 14, 15, 9, 16, 12, 11, 10, 13, 35, 87, 195, 159, 522, 398, 565, 552, 1262, 1196, 1131, 1232, 1203, 1187, 1111, 1110, 1067, 903, 1599, 677, 311, 212, 367, 324, 1259, 1595, 1429, 1202, 1200, 1164, 228, 622, 896, 419, 408, 1778, 1703, 588, 314, 164, 94, 174, 231, 142, 272, 938, 862, 539, 469, 925, 1586, 714, 1330, 1389, 816, 1089, 1672, 873, 1424, 706, 1592, 892, 1700, 702, 852, 1559, 1362, 1564, 665, 299, 307, 286, 233, 205, 390, 179, 776, 1125, 954, 442, 452, 446, 448, 255, 249, 242, 400, 506, 1743, 827, 423, 282, 1117, 1707, 758, 1120, 866, 1455, 1597, 1730, 615, 790, 1199], 20: [25, 25], 68: [184, 184], 279: [549, 549], 362: [818, 818], 491: [1771, 1771], 529: [1193, 1193]} 530\n"
     ]
    }
   ],
   "source": [
    "name_slo = next_edge(gr_SlO[:, :], components_slo, name_slo)\n",
    "print(components_slo, name_slo)"
   ]
  },
  {
   "cell_type": "code",
   "execution_count": 491,
   "metadata": {
    "scrolled": true
   },
   "outputs": [],
   "source": [
    "chain = np.array(components_slo[0].chain)\n",
    "np.save(\"../data/graphs/slo_main_chain_22\", chain)"
   ]
  },
  {
   "cell_type": "code",
   "execution_count": 492,
   "metadata": {
    "collapsed": true
   },
   "outputs": [],
   "source": [
    "weights = []\n",
    "for i,j in zip(chain[:-1] , chain[1:]):\n",
    "    weights.append(gr_SlO[i,j])\n",
    "weights = np.array(weights).astype(int)"
   ]
  },
  {
   "cell_type": "code",
   "execution_count": 497,
   "metadata": {},
   "outputs": [
    {
     "data": {
      "image/png": "[encoded data removed]",
      "text/plain": [
       "<matplotlib.figure.Figure at 0x7faffb7cbf60>"
      ]
     },
     "metadata": {},
     "output_type": "display_data"
    }
   ],
   "source": [
    "plt.plot(weights)\n",
    "plt.show()"
   ]
  },
  {
   "cell_type": "code",
   "execution_count": 493,
   "metadata": {
    "collapsed": true
   },
   "outputs": [
    {
     "data": {
      "text/plain": [
       "[(1163, 0),\n",
       " (1000, 0),\n",
       " (1126, 0),\n",
       " (1354, 0),\n",
       " (628, 0),\n",
       " (1774, 0),\n",
       " (791, 0),\n",
       " (814, 0),\n",
       " (1744, 0),\n",
       " (701, 1),\n",
       " (468, 2),\n",
       " (487, 0),\n",
       " (1369, 0),\n",
       " (1619, 0),\n",
       " (949, 0),\n",
       " (1121, 1),\n",
       " (1124, 0),\n",
       " (1182, 0),\n",
       " (1201, 0),\n",
       " (1181, 0),\n",
       " (1217, 0),\n",
       " (1248, 0),\n",
       " (1081, 0),\n",
       " (1025, 0),\n",
       " (918, 0),\n",
       " (1501, 0),\n",
       " (1343, 0),\n",
       " (945, 0),\n",
       " (828, 0),\n",
       " (1641, 0),\n",
       " (905, 3),\n",
       " (904, 0),\n",
       " (1380, 0),\n",
       " (804, 1),\n",
       " (886, 2),\n",
       " (990, 0),\n",
       " (1652, 0),\n",
       " (1665, 0),\n",
       " (807, 0),\n",
       " (1794, 0),\n",
       " (1579, 1),\n",
       " (221, 11),\n",
       " (265, 3),\n",
       " (397, 1),\n",
       " (389, 1),\n",
       " (1764, 0),\n",
       " (1514, 0),\n",
       " (503, 0),\n",
       " (1024, 1),\n",
       " (1009, 0),\n",
       " (854, 0),\n",
       " (727, 1),\n",
       " (747, 1),\n",
       " (1102, 0),\n",
       " (1225, 0),\n",
       " (1136, 0),\n",
       " (958, 0),\n",
       " (870, 1),\n",
       " (226, 1),\n",
       " (259, 1),\n",
       " (386, 0),\n",
       " (535, 0),\n",
       " (380, 4),\n",
       " (303, 3),\n",
       " (433, 1),\n",
       " (805, 0),\n",
       " (710, 0),\n",
       " (684, 1),\n",
       " (564, 0),\n",
       " (595, 0),\n",
       " (391, 1),\n",
       " (675, 0),\n",
       " (888, 0),\n",
       " (693, 1),\n",
       " (1693, 0),\n",
       " (644, 1),\n",
       " (1037, 0),\n",
       " (1086, 0),\n",
       " (1518, 0),\n",
       " (800, 0),\n",
       " (1650, 0),\n",
       " (1314, 0),\n",
       " (936, 0),\n",
       " (1561, 0),\n",
       " (920, 0),\n",
       " (1660, 0),\n",
       " (1505, 0),\n",
       " (570, 1),\n",
       " (563, 0),\n",
       " (1012, 0),\n",
       " (1683, 0),\n",
       " (1243, 1),\n",
       " (1091, 0),\n",
       " (1237, 0),\n",
       " (1094, 0),\n",
       " (1374, 0),\n",
       " (621, 0),\n",
       " (1704, 0),\n",
       " (1415, 0),\n",
       " (1087, 0),\n",
       " (1311, 0),\n",
       " (1381, 0),\n",
       " (572, 0),\n",
       " (525, 1),\n",
       " (540, 4),\n",
       " (395, 2),\n",
       " (728, 0),\n",
       " (1773, 1),\n",
       " (458, 1),\n",
       " (660, 0),\n",
       " (1390, 0),\n",
       " (1786, 0),\n",
       " (946, 0),\n",
       " (1575, 0),\n",
       " (1038, 1),\n",
       " (156, 1),\n",
       " (691, 0),\n",
       " (491, 3),\n",
       " (405, 1),\n",
       " (612, 1),\n",
       " (1222, 0),\n",
       " (1205, 0),\n",
       " (1173, 0),\n",
       " (1378, 0),\n",
       " (1238, 0),\n",
       " (1481, 0),\n",
       " (1476, 0),\n",
       " (555, 0),\n",
       " (1394, 0),\n",
       " (910, 1),\n",
       " (1234, 0),\n",
       " (993, 0),\n",
       " (1062, 1),\n",
       " (642, 1),\n",
       " (1402, 0),\n",
       " (755, 0),\n",
       " (1293, 1),\n",
       " (261, 1),\n",
       " (725, 0),\n",
       " (1734, 0),\n",
       " (1776, 0),\n",
       " (1546, 0),\n",
       " (1765, 0),\n",
       " (773, 0),\n",
       " (788, 0),\n",
       " (1484, 0),\n",
       " (697, 1),\n",
       " (1265, 0),\n",
       " (1331, 0),\n",
       " (880, 0),\n",
       " (1348, 0),\n",
       " (1444, 0),\n",
       " (1618, 0),\n",
       " (1755, 0),\n",
       " (1376, 0),\n",
       " (1675, 0),\n",
       " (1401, 0),\n",
       " (970, 0),\n",
       " (1309, 0),\n",
       " (1233, 1),\n",
       " (350, 0),\n",
       " (1630, 1),\n",
       " (666, 1),\n",
       " (428, 4),\n",
       " (372, 7),\n",
       " (183, 18),\n",
       " (256, 1),\n",
       " (976, 0),\n",
       " (1584, 0),\n",
       " (678, 0),\n",
       " (1779, 1),\n",
       " (607, 1),\n",
       " (639, 0),\n",
       " (1035, 0),\n",
       " (1519, 0),\n",
       " (578, 0),\n",
       " (545, 1),\n",
       " (597, 0),\n",
       " (305, 1),\n",
       " (587, 0),\n",
       " (1766, 0),\n",
       " (1347, 0),\n",
       " (1479, 0),\n",
       " (1392, 0),\n",
       " (1349, 0),\n",
       " (1752, 0),\n",
       " (1769, 0),\n",
       " (1488, 0),\n",
       " (1532, 0),\n",
       " (911, 0),\n",
       " (1446, 0),\n",
       " (1452, 0),\n",
       " (940, 1),\n",
       " (251, 22),\n",
       " (295, 1),\n",
       " (291, 4),\n",
       " (263, 1),\n",
       " (898, 0),\n",
       " (1115, 0),\n",
       " (1552, 0),\n",
       " (1306, 0),\n",
       " (1084, 0),\n",
       " (1735, 0),\n",
       " (988, 0),\n",
       " (960, 1),\n",
       " (1572, 0),\n",
       " (518, 0),\n",
       " (1681, 0),\n",
       " (1678, 0),\n",
       " (1543, 0),\n",
       " (577, 3),\n",
       " (851, 0),\n",
       " (1030, 0),\n",
       " (1027, 0),\n",
       " (1674, 0),\n",
       " (1617, 0),\n",
       " (1383, 0),\n",
       " (1731, 0),\n",
       " (1590, 0),\n",
       " (1723, 1),\n",
       " (1722, 0),\n",
       " (1447, 1),\n",
       " (891, 0),\n",
       " (1170, 0),\n",
       " (1060, 0),\n",
       " (838, 0),\n",
       " (1670, 0),\n",
       " (907, 0),\n",
       " (829, 0),\n",
       " (377, 1),\n",
       " (476, 1),\n",
       " (546, 0),\n",
       " (1793, 0),\n",
       " (1004, 0),\n",
       " (1635, 0),\n",
       " (739, 1),\n",
       " (310, 1),\n",
       " (813, 1),\n",
       " (1345, 0),\n",
       " (897, 0),\n",
       " (1325, 0),\n",
       " (1432, 0),\n",
       " (1340, 0),\n",
       " (1539, 0),\n",
       " (1761, 1),\n",
       " (740, 1),\n",
       " (948, 0),\n",
       " (1335, 0),\n",
       " (1109, 1),\n",
       " (704, 0),\n",
       " (1272, 1),\n",
       " (1273, 0),\n",
       " (877, 1),\n",
       " (649, 1),\n",
       " (224, 1),\n",
       " (947, 0),\n",
       " (1551, 0),\n",
       " (1523, 0),\n",
       " (1291, 0),\n",
       " (1204, 0),\n",
       " (1177, 0),\n",
       " (1112, 0),\n",
       " (1419, 0),\n",
       " (611, 1),\n",
       " (270, 1),\n",
       " (557, 1),\n",
       " (147, 2),\n",
       " (177, 0),\n",
       " (1346, 0),\n",
       " (1085, 0),\n",
       " (1706, 0),\n",
       " (1770, 0),\n",
       " (1268, 0),\n",
       " (1471, 1),\n",
       " (465, 1),\n",
       " (347, 0),\n",
       " (1534, 0),\n",
       " (1789, 0),\n",
       " (681, 1),\n",
       " (601, 0),\n",
       " (1622, 1),\n",
       " (1512, 0),\n",
       " (527, 4),\n",
       " (441, 0),\n",
       " (560, 0),\n",
       " (1796, 0),\n",
       " (744, 0),\n",
       " (1477, 0),\n",
       " (641, 0),\n",
       " (1682, 0),\n",
       " (1463, 0),\n",
       " (521, 0),\n",
       " (627, 0),\n",
       " (1439, 0),\n",
       " (1128, 0),\n",
       " (1083, 0),\n",
       " (984, 0),\n",
       " (1435, 0),\n",
       " (1472, 0),\n",
       " (1329, 0),\n",
       " (933, 0),\n",
       " (1426, 0),\n",
       " (669, 0),\n",
       " (1361, 0),\n",
       " (619, 0),\n",
       " (334, 7),\n",
       " (326, 5),\n",
       " (346, 5),\n",
       " (325, 0),\n",
       " (784, 1),\n",
       " (637, 0),\n",
       " (935, 2),\n",
       " (914, 0),\n",
       " (819, 0),\n",
       " (606, 1),\n",
       " (645, 0),\n",
       " (847, 1),\n",
       " (202, 1),\n",
       " (374, 2),\n",
       " (427, 3),\n",
       " (260, 3),\n",
       " (406, 3),\n",
       " (227, 2),\n",
       " (589, 0),\n",
       " (1568, 0),\n",
       " (983, 0),\n",
       " (1628, 0),\n",
       " (670, 0),\n",
       " (355, 7),\n",
       " (278, 6),\n",
       " (431, 1),\n",
       " (483, 3),\n",
       " (499, 0),\n",
       " (1696, 0),\n",
       " (1576, 0),\n",
       " (1611, 0),\n",
       " (1695, 0),\n",
       " (614, 5),\n",
       " (401, 8),\n",
       " (517, 1),\n",
       " (844, 1),\n",
       " (115, 12),\n",
       " (59, 4),\n",
       " (432, 1),\n",
       " (592, 1),\n",
       " (158, 19),\n",
       " (80, 1),\n",
       " (1297, 0),\n",
       " (1469, 1),\n",
       " (354, 2),\n",
       " (638, 0),\n",
       " (723, 1),\n",
       " (746, 0),\n",
       " (625, 1),\n",
       " (1158, 0),\n",
       " (1437, 0),\n",
       " (1041, 0),\n",
       " (735, 0),\n",
       " (1188, 0),\n",
       " (1224, 0),\n",
       " (1165, 0),\n",
       " (963, 1),\n",
       " (913, 0),\n",
       " (1007, 0),\n",
       " (1191, 0),\n",
       " (1221, 0),\n",
       " (1229, 0),\n",
       " (1215, 0),\n",
       " (1138, 0),\n",
       " (1249, 1),\n",
       " (1250, 0),\n",
       " (1034, 1),\n",
       " (1210, 0),\n",
       " (1246, 0),\n",
       " (1515, 0),\n",
       " (1456, 0),\n",
       " (1646, 0),\n",
       " (1398, 0),\n",
       " (1621, 0),\n",
       " (909, 0),\n",
       " (1608, 0),\n",
       " (1762, 0),\n",
       " (1431, 0),\n",
       " (768, 0),\n",
       " (1404, 0),\n",
       " (1702, 0),\n",
       " (659, 0),\n",
       " (1075, 0),\n",
       " (1541, 0),\n",
       " (1323, 0),\n",
       " (1370, 0),\n",
       " (1400, 0),\n",
       " (1781, 0),\n",
       " (848, 1),\n",
       " (237, 1),\n",
       " (349, 1),\n",
       " (53, 2),\n",
       " (415, 1),\n",
       " (254, 1),\n",
       " (559, 0),\n",
       " (1302, 0),\n",
       " (1178, 0),\n",
       " (996, 1),\n",
       " (834, 0),\n",
       " (387, 0),\n",
       " (1677, 0),\n",
       " (968, 0),\n",
       " (1548, 1),\n",
       " (825, 0),\n",
       " (762, 4),\n",
       " (671, 0),\n",
       " (1732, 0),\n",
       " (1644, 0),\n",
       " (742, 0),\n",
       " (1673, 0),\n",
       " (749, 1),\n",
       " (511, 0),\n",
       " (843, 1),\n",
       " (915, 0),\n",
       " (1360, 0),\n",
       " (815, 0),\n",
       " (436, 2),\n",
       " (708, 0),\n",
       " (1146, 0),\n",
       " (1139, 0),\n",
       " (1082, 0),\n",
       " (835, 1),\n",
       " (37, 5),\n",
       " (29, 84),\n",
       " (22, 57),\n",
       " (30, 89),\n",
       " (20, 100),\n",
       " (24, 58),\n",
       " (43, 30),\n",
       " (50, 12),\n",
       " (79, 67),\n",
       " (60, 25),\n",
       " (67, 28),\n",
       " (72, 23),\n",
       " (54, 2),\n",
       " (106, 8),\n",
       " (225, 3),\n",
       " (330, 2),\n",
       " (515, 1),\n",
       " (534, 1),\n",
       " (378, 2),\n",
       " (379, 1),\n",
       " (580, 0),\n",
       " (1748, 0),\n",
       " (1319, 0),\n",
       " (1416, 0),\n",
       " (872, 1),\n",
       " (553, 1),\n",
       " (874, 0),\n",
       " (430, 1),\n",
       " (344, 2),\n",
       " (593, 0),\n",
       " (375, 1),\n",
       " (290, 0),\n",
       " (709, 0),\n",
       " (1453, 0),\n",
       " (1242, 1),\n",
       " (1657, 0),\n",
       " (1104, 0),\n",
       " (769, 0),\n",
       " (1194, 0),\n",
       " (1065, 0),\n",
       " (1338, 0),\n",
       " (944, 0),\n",
       " (1016, 0),\n",
       " (820, 0),\n",
       " (393, 1),\n",
       " (1212, 0),\n",
       " (994, 0),\n",
       " (831, 0),\n",
       " (1728, 0),\n",
       " (931, 1),\n",
       " (166, 1),\n",
       " (440, 0),\n",
       " (777, 1),\n",
       " (1332, 0),\n",
       " (1489, 0),\n",
       " (795, 1),\n",
       " (743, 0),\n",
       " (922, 0),\n",
       " (1423, 0),\n",
       " (928, 0),\n",
       " (934, 0),\n",
       " (1207, 0),\n",
       " (1106, 0),\n",
       " (770, 0),\n",
       " (1480, 0),\n",
       " (1174, 0),\n",
       " (1366, 0),\n",
       " (682, 0),\n",
       " (858, 0),\n",
       " (973, 1),\n",
       " (1659, 0),\n",
       " (1727, 0),\n",
       " (1741, 1),\n",
       " (473, 0),\n",
       " (1292, 0),\n",
       " (982, 0),\n",
       " (1651, 0),\n",
       " (799, 0),\n",
       " (533, 1),\n",
       " (1679, 0),\n",
       " (929, 0),\n",
       " (1503, 0),\n",
       " (906, 0),\n",
       " (1664, 0),\n",
       " (1427, 0),\n",
       " (1638, 0),\n",
       " (1557, 1),\n",
       " (643, 1),\n",
       " (921, 0),\n",
       " (840, 0),\n",
       " (959, 0),\n",
       " (927, 0),\n",
       " (1147, 1),\n",
       " (1149, 0),\n",
       " (977, 0),\n",
       " (1372, 0),\n",
       " (1757, 0),\n",
       " (939, 0),\n",
       " (1654, 0),\n",
       " (1236, 0),\n",
       " (1047, 0),\n",
       " (1278, 0),\n",
       " (860, 0),\n",
       " (508, 0),\n",
       " (411, 0),\n",
       " (1717, 1),\n",
       " (750, 0),\n",
       " (856, 1),\n",
       " (733, 0),\n",
       " (485, 0),\n",
       " (1798, 0),\n",
       " (1497, 0),\n",
       " (1422, 1),\n",
       " (1023, 14),\n",
       " (19, 12),\n",
       " (17, 9),\n",
       " (5, 542),\n",
       " (3, 751),\n",
       " (0, 1359),\n",
       " (2, 430),\n",
       " (4, 843),\n",
       " (1, 40),\n",
       " (6, 16),\n",
       " (32, 4),\n",
       " (69, 11),\n",
       " (124, 24),\n",
       " (61, 23),\n",
       " (100, 18),\n",
       " (111, 16),\n",
       " (47, 32),\n",
       " (109, 9),\n",
       " (141, 5),\n",
       " (236, 4),\n",
       " (116, 17),\n",
       " (118, 21),\n",
       " (162, 8),\n",
       " (180, 3),\n",
       " (128, 6),\n",
       " (222, 6),\n",
       " (104, 24),\n",
       " (76, 21),\n",
       " (145, 8),\n",
       " (134, 12),\n",
       " (105, 22),\n",
       " (93, 20),\n",
       " (131, 14),\n",
       " (120, 10),\n",
       " (112, 13),\n",
       " (121, 5),\n",
       " (169, 20),\n",
       " (125, 22),\n",
       " (199, 3),\n",
       " (338, 1),\n",
       " (504, 4),\n",
       " (323, 0),\n",
       " (692, 0),\n",
       " (1691, 1),\n",
       " (1699, 0),\n",
       " (1713, 0),\n",
       " (1555, 0),\n",
       " (1442, 0),\n",
       " (1531, 0),\n",
       " (1132, 0),\n",
       " (1048, 0),\n",
       " (772, 0),\n",
       " (1264, 0),\n",
       " (883, 2),\n",
       " (695, 0),\n",
       " (1782, 0),\n",
       " (658, 0),\n",
       " (1285, 0),\n",
       " (953, 0),\n",
       " (1633, 0),\n",
       " (1066, 0),\n",
       " (1711, 0),\n",
       " (1470, 0),\n",
       " (581, 1),\n",
       " (460, 6),\n",
       " (362, 0),\n",
       " (1286, 0),\n",
       " (1494, 0),\n",
       " (1284, 0),\n",
       " (1145, 1),\n",
       " (1726, 0),\n",
       " (1367, 0),\n",
       " (868, 0),\n",
       " (623, 1),\n",
       " (250, 0),\n",
       " (1344, 0),\n",
       " (1540, 0),\n",
       " (753, 1),\n",
       " (690, 1),\n",
       " (462, 0),\n",
       " (1324, 0),\n",
       " (1129, 0),\n",
       " (1409, 0),\n",
       " (812, 0),\n",
       " (1179, 0),\n",
       " (1077, 0),\n",
       " (1692, 0),\n",
       " (1658, 0),\n",
       " (761, 0),\n",
       " (1454, 0),\n",
       " (617, 0),\n",
       " (370, 1),\n",
       " (1211, 0),\n",
       " (1226, 0),\n",
       " (1122, 0),\n",
       " (1615, 1),\n",
       " (1614, 0),\n",
       " (853, 0),\n",
       " (544, 2),\n",
       " (869, 0),\n",
       " (488, 0),\n",
       " (1671, 0),\n",
       " (1483, 0),\n",
       " (1310, 0),\n",
       " (1010, 0),\n",
       " (1061, 0),\n",
       " (1143, 0),\n",
       " (995, 0),\n",
       " (1022, 0),\n",
       " (1098, 0),\n",
       " (1301, 0),\n",
       " (1002, 0),\n",
       " (1088, 0),\n",
       " (1095, 0),\n",
       " (1166, 0),\n",
       " (1321, 0),\n",
       " (1567, 0),\n",
       " (1721, 0),\n",
       " (875, 0),\n",
       " (566, 0),\n",
       " (1337, 0),\n",
       " (1487, 0),\n",
       " (1230, 0),\n",
       " (1049, 0),\n",
       " (1640, 0),\n",
       " (1123, 0),\n",
       " (1397, 0),\n",
       " (1787, 0),\n",
       " (1522, 0),\n",
       " (1510, 0),\n",
       " (962, 0),\n",
       " (1458, 0),\n",
       " (1216, 0),\n",
       " (1050, 0),\n",
       " (1428, 0),\n",
       " (1420, 0),\n",
       " (1582, 0),\n",
       " (1099, 0),\n",
       " (798, 0),\n",
       " (1281, 0),\n",
       " (1598, 0),\n",
       " (775, 1),\n",
       " (138, 1),\n",
       " (315, 2),\n",
       " (528, 0),\n",
       " (383, 1),\n",
       " (1015, 0),\n",
       " (1040, 0),\n",
       " (957, 0),\n",
       " (1549, 0),\n",
       " (502, 2),\n",
       " (356, 5),\n",
       " (285, 6),\n",
       " (207, 16),\n",
       " (213, 13),\n",
       " (117, 46),\n",
       " (92, 28),\n",
       " (165, 11),\n",
       " (283, 7),\n",
       " (253, 28),\n",
       " (309, 1),\n",
       " (376, 1),\n",
       " (966, 0),\n",
       " (992, 0),\n",
       " (1275, 0),\n",
       " (1516, 0),\n",
       " (1758, 0),\n",
       " (718, 1),\n",
       " (414, 1),\n",
       " (1172, 0),\n",
       " (1003, 1),\n",
       " (1745, 0),\n",
       " (1768, 1),\n",
       " (1032, 0),\n",
       " (986, 0),\n",
       " (998, 0),\n",
       " (1550, 0),\n",
       " (551, 0),\n",
       " (399, 5),\n",
       " (382, 7),\n",
       " (336, 7),\n",
       " (342, 8),\n",
       " (345, 5),\n",
       " (495, 1),\n",
       " (192, 1),\n",
       " (881, 0),\n",
       " (434, 1),\n",
       " (71, 37),\n",
       " (89, 17),\n",
       " (279, 1),\n",
       " (167, 1),\n",
       " (653, 1),\n",
       " (438, 1),\n",
       " (429, 2),\n",
       " (542, 3),\n",
       " (182, 1),\n",
       " (312, 1),\n",
       " (321, 2),\n",
       " (281, 1),\n",
       " (317, 0),\n",
       " (1269, 0),\n",
       " (1256, 0),\n",
       " (1440, 0),\n",
       " (782, 0),\n",
       " (1305, 0),\n",
       " (1322, 0),\n",
       " (876, 0),\n",
       " (425, 1),\n",
       " (208, 2),\n",
       " (359, 1),\n",
       " (267, 3),\n",
       " (223, 5),\n",
       " (127, 10),\n",
       " (96, 12),\n",
       " (65, 14),\n",
       " (99, 2),\n",
       " (44, 2),\n",
       " (82, 2),\n",
       " (46, 3),\n",
       " (41, 3),\n",
       " (58, 2),\n",
       " (333, 1),\n",
       " (1688, 0),\n",
       " (647, 0),\n",
       " (420, 2),\n",
       " (466, 1),\n",
       " (821, 1),\n",
       " (579, 0),\n",
       " (332, 0),\n",
       " (752, 0),\n",
       " (514, 2),\n",
       " (767, 0),\n",
       " (1634, 0),\n",
       " (841, 2),\n",
       " (479, 1),\n",
       " (421, 2),\n",
       " (717, 0),\n",
       " (657, 3),\n",
       " (646, 0),\n",
       " (1430, 0),\n",
       " (985, 0),\n",
       " (1218, 0),\n",
       " (1266, 0),\n",
       " (1116, 0),\n",
       " (1336, 0),\n",
       " (895, 0),\n",
       " (759, 0),\n",
       " (481, 0),\n",
       " (1632, 0),\n",
       " (1283, 0),\n",
       " (1359, 0),\n",
       " (636, 1),\n",
       " (467, 1),\n",
       " (368, 0),\n",
       " (1468, 0),\n",
       " (620, 1),\n",
       " (416, 0),\n",
       " (500, 0),\n",
       " (497, 1),\n",
       " (532, 0),\n",
       " (1737, 0),\n",
       " (652, 0),\n",
       " (955, 0),\n",
       " (1391, 0),\n",
       " (1566, 1),\n",
       " (1565, 0),\n",
       " (536, 6),\n",
       " (320, 1),\n",
       " (194, 9),\n",
       " (97, 1),\n",
       " (388, 1),\n",
       " (997, 0),\n",
       " (1580, 0),\n",
       " (1530, 0),\n",
       " (1350, 0),\n",
       " (1013, 0),\n",
       " (1464, 0),\n",
       " (1490, 0),\n",
       " (1096, 0),\n",
       " (1739, 0),\n",
       " (609, 1),\n",
       " (1631, 0),\n",
       " (1500, 0),\n",
       " (1560, 0),\n",
       " (1144, 0),\n",
       " (1353, 0),\n",
       " (751, 1),\n",
       " (1056, 0),\n",
       " (1710, 0),\n",
       " (1684, 0),\n",
       " (1028, 0),\n",
       " (1450, 0),\n",
       " (1375, 0),\n",
       " (703, 1),\n",
       " (1198, 0),\n",
       " (1171, 0),\n",
       " (942, 0),\n",
       " (1059, 0),\n",
       " (1578, 0),\n",
       " (779, 0),\n",
       " (1772, 0),\n",
       " (836, 0),\n",
       " (1351, 0),\n",
       " (1588, 0),\n",
       " (1373, 0),\n",
       " (745, 0),\n",
       " (486, 0),\n",
       " (404, 1),\n",
       " (785, 0),\n",
       " (610, 0),\n",
       " (258, 1),\n",
       " (292, 3),\n",
       " (264, 5),\n",
       " (319, 2),\n",
       " (273, 9),\n",
       " (252, 9),\n",
       " (193, 5),\n",
       " (203, 2),\n",
       " (410, 2),\n",
       " (720, 0),\n",
       " (1513, 0),\n",
       " (1620, 0),\n",
       " (730, 0),\n",
       " (1558, 1),\n",
       " (567, 1),\n",
       " (823, 0),\n",
       " (1227, 0),\n",
       " (1108, 0),\n",
       " (1496, 0),\n",
       " (846, 1),\n",
       " (780, 0),\n",
       " (591, 1),\n",
       " (130, 1),\n",
       " (1282, 0),\n",
       " (1581, 1),\n",
       " (335, 1),\n",
       " (569, 3),\n",
       " (443, 1),\n",
       " (1498, 0),\n",
       " (505, 2),\n",
       " (83, 2),\n",
       " (185, 1),\n",
       " (842, 0),\n",
       " (1525, 0),\n",
       " (1648, 1),\n",
       " (1647, 0),\n",
       " (1180, 0),\n",
       " (1436, 0),\n",
       " (1255, 1),\n",
       " (1079, 0),\n",
       " (1461, 0),\n",
       " (661, 1),\n",
       " (667, 0),\n",
       " (1507, 0),\n",
       " (523, 3),\n",
       " (674, 0),\n",
       " (1623, 0),\n",
       " (1662, 0),\n",
       " (1073, 1),\n",
       " (806, 1),\n",
       " (1358, 0),\n",
       " (1645, 1),\n",
       " (1649, 0),\n",
       " (737, 0),\n",
       " (1509, 1),\n",
       " (1026, 0),\n",
       " (801, 1),\n",
       " (364, 1),\n",
       " (407, 1),\n",
       " (989, 0),\n",
       " (1142, 0),\n",
       " (1219, 0),\n",
       " (1070, 0),\n",
       " (1636, 1),\n",
       " (1031, 0),\n",
       " (1600, 0),\n",
       " (729, 0),\n",
       " (1006, 0),\n",
       " (1405, 0),\n",
       " (594, 1),\n",
       " (991, 0),\n",
       " (1495, 0),\n",
       " (1587, 0),\n",
       " (1589, 0),\n",
       " (1153, 1),\n",
       " (1154, 0),\n",
       " (981, 0),\n",
       " (899, 0),\n",
       " (863, 4),\n",
       " (650, 0),\n",
       " (1377, 0),\n",
       " (1457, 1),\n",
       " (114, 1),\n",
       " (318, 2),\n",
       " (209, 1),\n",
       " (392, 3),\n",
       " (172, 13),\n",
       " (293, 0),\n",
       " (1185, 0),\n",
       " (1157, 0),\n",
       " (1118, 0),\n",
       " (902, 0),\n",
       " (1607, 0),\n",
       " (794, 0),\n",
       " (510, 3),\n",
       " (277, 12),\n",
       " (244, 8),\n",
       " (304, 7),\n",
       " (274, 10),\n",
       " (245, 12),\n",
       " (186, 1),\n",
       " (403, 1),\n",
       " (576, 0),\n",
       " (1462, 0),\n",
       " (1655, 0),\n",
       " (1017, 0),\n",
       " (1396, 0),\n",
       " (602, 0),\n",
       " (178, 12),\n",
       " (294, 0),\n",
       " (1738, 0),\n",
       " (1718, 0),\n",
       " (1528, 0),\n",
       " (598, 3),\n",
       " (558, 0),\n",
       " (358, 3),\n",
       " (360, 2),\n",
       " (590, 1),\n",
       " (817, 0),\n",
       " (1797, 0),\n",
       " (1714, 0),\n",
       " (809, 0),\n",
       " (1333, 0),\n",
       " (1542, 0),\n",
       " (707, 1),\n",
       " (173, 22),\n",
       " (143, 1),\n",
       " (78, 2),\n",
       " (28, 116),\n",
       " (45, 57),\n",
       " (68, 25),\n",
       " (48, 68),\n",
       " (36, 102),\n",
       " (39, 51),\n",
       " (129, 3),\n",
       " (276, 13),\n",
       " (86, 31),\n",
       " (52, 78),\n",
       " (64, 17),\n",
       " (126, 12),\n",
       " (18, 133),\n",
       " (23, 108),\n",
       " (57, 3),\n",
       " (599, 1),\n",
       " (792, 0),\n",
       " (561, 0),\n",
       " (861, 0),\n",
       " (672, 0),\n",
       " (328, 2),\n",
       " (361, 1),\n",
       " ...]"
      ]
     },
     "execution_count": 493,
     "metadata": {},
     "output_type": "execute_result"
    }
   ],
   "source": [
    "[x for x in zip(chain, weights)]"
   ]
  },
  {
   "cell_type": "code",
   "execution_count": 501,
   "metadata": {},
   "outputs": [
    {
     "data": {
      "text/plain": [
       "(array([  41,  164,  165,  193,  305,  328,  329,  338,  341,  345,  428,\n",
       "         429,  430,  431,  432,  433,  434,  435,  436,  437,  438,  440,\n",
       "         540,  541,  542,  543,  544,  545,  546,  547,  548,  549,  551,\n",
       "         552,  553,  554,  555,  556,  557,  560,  561,  562,  564,  565,\n",
       "         566,  567,  568,  569,  570,  571,  572,  573,  574,  576,  577,\n",
       "         604,  692,  693,  694,  695,  696,  697,  698,  699,  719,  720,\n",
       "         721,  727,  728,  752,  753,  754,  806,  808,  854,  855,  936,\n",
       "         945,  946,  947,  948,  949,  958,  975,  978,  979,  980,  981,\n",
       "         982,  983,  985,  986,  987,  988,  989,  990,  991, 1010, 1011,\n",
       "        1012, 1013, 1014, 1015, 1016, 1017, 1018, 1019, 1020, 1021, 1022,\n",
       "        1023, 1024, 1025, 1026, 1027, 1028, 1034, 1042, 1063, 1067, 1068,\n",
       "        1069, 1070, 1072, 1073, 1074, 1082, 1084, 1190, 1191, 1198, 1258,\n",
       "        1294, 1295, 1366, 1428, 1430, 1437, 1438, 1468, 1469, 1470, 1471,\n",
       "        1476, 1482, 1483, 1484, 1489, 1503, 1504, 1505, 1506, 1507, 1532,\n",
       "        1533, 1535, 1537, 1538, 1552, 1574, 1575, 1656, 1657, 1658, 1659,\n",
       "        1660, 1661, 1662, 1663, 1664, 1665, 1666, 1667, 1668, 1669, 1670,\n",
       "        1671, 1672, 1675, 1676, 1677, 1679, 1680, 1681, 1682, 1683, 1684,\n",
       "        1685, 1686, 1687, 1688, 1689, 1690, 1691, 1711, 1730, 1731, 1733,\n",
       "        1734, 1738, 1760, 1761, 1762, 1763, 1764, 1774, 1775]),)"
      ]
     },
     "execution_count": 501,
     "metadata": {},
     "output_type": "execute_result"
    }
   ],
   "source": [
    "np.where(weights > 5)"
   ]
  },
  {
   "cell_type": "code",
   "execution_count": 499,
   "metadata": {},
   "outputs": [
    {
     "data": {
      "text/plain": [
       "array([ 905,  221,  265,  380,  303,  540,  491,  428,  372,  183,  251,\n",
       "        291,  577,  527,  334,  326,  346,  427,  260,  406,  355,  278,\n",
       "        483,  614,  401,  115,   59,  158,  762,   37,   29,   22,   30,\n",
       "         20,   24,   43,   50,   79,   60,   67,   72,  106,  225, 1023,\n",
       "         19,   17,    5,    3,    0,    2,    4,    1,    6,   32,   69,\n",
       "        124,   61,  100,  111,   47,  109,  141,  236,  116,  118,  162,\n",
       "        180,  128,  222,  104,   76,  145,  134,  105,   93,  131,  120,\n",
       "        112,  121,  169,  125,  199,  504,  460,  356,  285,  207,  213,\n",
       "        117,   92,  165,  283,  253,  399,  382,  336,  342,  345,   71,\n",
       "         89,  542,  267,  223,  127,   96,   65,   46,   41,  657,  536,\n",
       "        194,  292,  264,  273,  252,  193,  569,  523,  863,  392,  172,\n",
       "        510,  277,  244,  304,  274,  245,  178,  598,  358,  173,   28,\n",
       "         45,   68,   48,   36,   39,  129,  276,   86,   52,   64,  126,\n",
       "         18,   23,   57,  170,  139,   38,   26,   31,   27,   40,   66,\n",
       "         55,   49,  103,  246,  220,  206,  137,   51,   70,  107,   42,\n",
       "        385,  526,  585,  418,  366,  340,  201,  248,  313,  257,  152,\n",
       "        153,  146,  150,  230,  163,  102,  133,  189,  247,  235,  384,\n",
       "        924,  161,   74,   33,   77,  181,  496,  357,  736,  651,  603,\n",
       "        456,  306,  196,  463,  417,  197,  583,  507,  331,  316,  271,\n",
       "        529,  412,  381,  541,  219,  123,  119,  113,  297,  394,  455,\n",
       "        337,  200,  175,  154,  243,  451,  327,  302,  232,  241,  493,\n",
       "        453,  190,  160,  229,  216,  239,  168,  140,  284,  519,  700,\n",
       "        369,  122,  353,  218,  214,  151,  266,  110,  108,  149,   81,\n",
       "         95,   63,   84,  101,   85,  171,  210,  191,  269,   98,  135,\n",
       "         73,   21,   62,   34,   91,    8,    7,   14,   15,    9,   16,\n",
       "         12,   11,   10,   13,   35,  565,  677,  311,  212,  228,  588,\n",
       "        164,   94,  231,  142,  539,  702,  299,  307,  286,  233,  205,\n",
       "        452,  446,  448,  255,  249,  242,  423])"
      ]
     },
     "execution_count": 499,
     "metadata": {},
     "output_type": "execute_result"
    }
   ],
   "source": [
    "chain[:-1][weights > 2]"
   ]
  },
  {
   "cell_type": "code",
   "execution_count": null,
   "metadata": {
    "collapsed": true
   },
   "outputs": [],
   "source": []
  },
  {
   "cell_type": "code",
   "execution_count": null,
   "metadata": {
    "collapsed": true
   },
   "outputs": [],
   "source": []
  },
  {
   "cell_type": "code",
   "execution_count": null,
   "metadata": {
    "collapsed": true
   },
   "outputs": [],
   "source": []
  },
  {
   "cell_type": "code",
   "execution_count": 496,
   "metadata": {
    "scrolled": true
   },
   "outputs": [
    {
     "data": {
      "text/plain": [
       "False"
      ]
     },
     "execution_count": 496,
     "metadata": {},
     "output_type": "execute_result"
    }
   ],
   "source": [
    "a_in_b([3,0,5], chain)"
   ]
  },
  {
   "cell_type": "code",
   "execution_count": null,
   "metadata": {
    "collapsed": true
   },
   "outputs": [],
   "source": []
  },
  {
   "cell_type": "code",
   "execution_count": null,
   "metadata": {
    "collapsed": true
   },
   "outputs": [],
   "source": []
  },
  {
   "cell_type": "code",
   "execution_count": null,
   "metadata": {
    "collapsed": true
   },
   "outputs": [],
   "source": []
  },
  {
   "cell_type": "code",
   "execution_count": null,
   "metadata": {
    "collapsed": true
   },
   "outputs": [],
   "source": []
  },
  {
   "cell_type": "code",
   "execution_count": 526,
   "metadata": {},
   "outputs": [
    {
     "data": {
      "image/png": "[encoded data removed]",
      "text/plain": [
       "<matplotlib.figure.Figure at 0x7faffb826278>"
      ]
     },
     "metadata": {},
     "output_type": "display_data"
    }
   ],
   "source": [
    "plot_gr(gr_ES[:10, : 10], log=1)"
   ]
  },
  {
   "cell_type": "code",
   "execution_count": 513,
   "metadata": {},
   "outputs": [],
   "source": [
    "n_to_cl = pickle.load(open(\"../data/dicts/ES3_n_to_cl\", 'rb'))\n",
    "cl_to_n = pickle.load(open(\"../data/dicts/ES3_cl_to_n\", 'rb'))\n",
    "nd = pickle.load(open(\"../data/dicts/ES3_nd\", 'rb'))"
   ]
  },
  {
   "cell_type": "code",
   "execution_count": 516,
   "metadata": {},
   "outputs": [
    {
     "data": {
      "text/plain": [
       "'CAAGTGATATCCATCATCGCATCCAGTGCGC'"
      ]
     },
     "execution_count": 516,
     "metadata": {},
     "output_type": "execute_result"
    }
   ],
   "source": [
    "n_to_cl[4]"
   ]
  },
  {
   "cell_type": "code",
   "execution_count": 520,
   "metadata": {},
   "outputs": [
    {
     "name": "stdout",
     "output_type": "stream",
     "text": [
      "CAAGTGATATCCATCATCGCATCCAGTGCGC\n",
      "AGTGCTGGACCATTTCAAATTCACAATAGAT\n",
      "GGAATGATATTTCAATAAATAATTATAACAA\n",
      "CCCTCACACCGATTCGCCAAACGGTGGAGAA\n"
     ]
    }
   ],
   "source": [
    "for i in [4,2,5,7]:\n",
    "    print(n_to_cl[i])"
   ]
  },
  {
   "cell_type": "code",
   "execution_count": 521,
   "metadata": {},
   "outputs": [
    {
     "name": "stdout",
     "output_type": "stream",
     "text": [
      "GACAGAACGGCCTCAGTAGTCTCGTCAGGCT\n",
      "ACACGCCCTTATCAAATAGCTGTGATTTACC\n",
      "ATAGACCCCGAACAACAATACGCGCAAACCG\n",
      "TACCGTACAGACTGCCGGATATTATTTTTTT\n"
     ]
    }
   ],
   "source": [
    "for i in [1,0,3,6]:\n",
    "    print(n_to_cl[i])"
   ]
  },
  {
   "cell_type": "code",
   "execution_count": 523,
   "metadata": {},
   "outputs": [
    {
     "name": "stdout",
     "output_type": "stream",
     "text": [
      "28374\n",
      "20414\n",
      "14353\n",
      "13974\n",
      "11315\n",
      "8389\n"
     ]
    }
   ],
   "source": [
    "for i in range(6):\n",
    "    print(nd[n_to_cl[i]])"
   ]
  },
  {
   "cell_type": "code",
   "execution_count": 281,
   "metadata": {},
   "outputs": [
    {
     "data": {
      "text/plain": [
       "{0: [1, 0, 3, 6, 8, 9, 10, 13, 14, 15, 17, 12, 16],\n",
       " 2: [4, 2, 5, 7, 11],\n",
       " 4: [24, 19, 18, 25, 30, 27, 26, 28, 31, 32, 33, 34],\n",
       " 6: [20, 22, 23, 21, 29]}"
      ]
     },
     "execution_count": 281,
     "metadata": {},
     "output_type": "execute_result"
    }
   ],
   "source": [
    "all_cass"
   ]
  },
  {
   "cell_type": "code",
   "execution_count": 531,
   "metadata": {
    "collapsed": true
   },
   "outputs": [],
   "source": [
    "weights = []\n",
    "for i,j in zip(chain[:-1] , chain[1:]):\n",
    "    weights.append(gr_ES[i,j])\n",
    "    \n",
    "weights = np.array(weights).astype(int)"
   ]
  },
  {
   "cell_type": "code",
   "execution_count": 535,
   "metadata": {},
   "outputs": [
    {
     "data": {
      "text/plain": [
       "[(4, 8568),\n",
       " (2, 4956),\n",
       " (5, 2941),\n",
       " (7, 3059),\n",
       " (11, 0),\n",
       " (24, 18),\n",
       " (19, 289),\n",
       " (18, 102),\n",
       " (25, 30),\n",
       " (30, 42),\n",
       " (27, 52),\n",
       " (26, 38),\n",
       " (28, 42),\n",
       " (31, 24),\n",
       " (32, 24),\n",
       " (33, 14),\n",
       " (34, 0),\n",
       " (20, 86),\n",
       " (22, 69),\n",
       " (23, 69),\n",
       " (21, 77),\n",
       " (29, 0),\n",
       " (1, 17455),\n",
       " (0, 9224),\n",
       " (3, 3815),\n",
       " (6, 3022),\n",
       " (8, 2268),\n",
       " (9, 1809),\n",
       " (10, 1174),\n",
       " (13, 1067),\n",
       " (14, 1432),\n",
       " (15, 619),\n",
       " (17, 1019),\n",
       " (12, 1845)]"
      ]
     },
     "execution_count": 535,
     "metadata": {},
     "output_type": "execute_result"
    }
   ],
   "source": [
    "[x for x in zip(np.array(chain), weights)]"
   ]
  },
  {
   "cell_type": "code",
   "execution_count": 552,
   "metadata": {},
   "outputs": [
    {
     "name": "stdout",
     "output_type": "stream",
     "text": [
      "4 24 138.0 0.0\n",
      "4 19 2.0 1.0\n",
      "4 18 0.0 10.0\n",
      "4 25 2.0 2.0\n",
      "4 30 1.0 2.0\n",
      "2 24 0.0 0.0\n",
      "2 19 2.0 0.0\n",
      "2 18 0.0 2.0\n",
      "2 25 0.0 2.0\n",
      "2 30 0.0 0.0\n",
      "5 24 0.0 2.0\n",
      "5 19 0.0 0.0\n",
      "5 18 0.0 3.0\n",
      "5 25 0.0 0.0\n",
      "5 30 0.0 0.0\n",
      "7 24 0.0 1.0\n",
      "7 19 1.0 0.0\n",
      "7 18 1.0 2.0\n",
      "7 25 0.0 1.0\n",
      "7 30 1.0 0.0\n",
      "11 24 0.0 1.0\n",
      "11 19 0.0 0.0\n",
      "11 18 0.0 0.0\n",
      "11 25 0.0 0.0\n",
      "11 30 0.0 3.0\n"
     ]
    }
   ],
   "source": [
    "s_0 = [1, 0, 3, 6, 8, 9]\n",
    "s_1 = [4,2,5,7,11]\n",
    "s_2 = [24, 19, 18, 25, 30]\n",
    "s_3 = [20, 22, 23, 21, 29]\n",
    "for i in s_1:\n",
    "    for j in s_2:\n",
    "        print(i,j,gr_ES[i,j], gr_ES[j,i])"
   ]
  },
  {
   "cell_type": "code",
   "execution_count": 542,
   "metadata": {},
   "outputs": [
    {
     "data": {
      "text/plain": [
       "25.0"
      ]
     },
     "execution_count": 542,
     "metadata": {},
     "output_type": "execute_result"
    }
   ],
   "source": [
    "gr_ES[3,0]"
   ]
  },
  {
   "cell_type": "code",
   "execution_count": null,
   "metadata": {
    "collapsed": true
   },
   "outputs": [],
   "source": []
  }
 ],
 "metadata": {
  "kernelspec": {
   "display_name": "Python 3",
   "language": "python",
   "name": "python3"
  },
  "language_info": {
   "codemirror_mode": {
    "name": "ipython",
    "version": 3
   },
   "file_extension": ".py",
   "mimetype": "text/x-python",
   "name": "python",
   "nbconvert_exporter": "python",
   "pygments_lexer": "ipython3",
   "version": "3.6.3"
  }
 },
 "nbformat": 4,
 "nbformat_minor": 2
}
