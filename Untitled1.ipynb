{
 "cells": [
  {
   "cell_type": "code",
   "execution_count": 14,
   "metadata": {},
   "outputs": [],
   "source": [
    "import crispr_assembler as ca\n",
    "import matplotlib.pyplot as plt\n",
    "\n",
    "import numpy as np\n",
    "import os\n",
    "import editdistance as ed"
   ]
  },
  {
   "cell_type": "code",
   "execution_count": 10,
   "metadata": {},
   "outputs": [],
   "source": [
    "path = \"../data/heatmap/\"\n",
    "files = sorted(os.listdir(path))"
   ]
  },
  {
   "cell_type": "code",
   "execution_count": 11,
   "metadata": {},
   "outputs": [
    {
     "data": {
      "text/plain": [
       "['CDiP210_WGSspacers.fasta',\n",
       " 'CDiP211_WGSspacers.fasta',\n",
       " 'CDiP221_WGSspacers.fasta',\n",
       " 'CDiP648_WGSspacers.fasta',\n",
       " 'CDiP77_WGSspacers.fasta',\n",
       " 'CDiP79_WGSspacers.fasta',\n",
       " 'clust210.fasta',\n",
       " 'clust211.fasta',\n",
       " 'clust221.fasta',\n",
       " 'clust648.fasta',\n",
       " 'clust77.fasta',\n",
       " 'clust79.fasta']"
      ]
     },
     "execution_count": 11,
     "metadata": {},
     "output_type": "execute_result"
    }
   ],
   "source": [
    "files"
   ]
  },
  {
   "cell_type": "code",
   "execution_count": 12,
   "metadata": {},
   "outputs": [],
   "source": [
    "all_spacers = []\n",
    "for f in files:\n",
    "    spacers = []\n",
    "    with open(path + f) as file:\n",
    "        spacers = [x[:-2] for x in file.readlines()[1::2]]\n",
    "    all_spacers.append(spacers)"
   ]
  },
  {
   "cell_type": "code",
   "execution_count": 92,
   "metadata": {},
   "outputs": [
    {
     "data": {
      "text/plain": [
       "[168, 107, 105, 162, 80, 100, 145, 86, 101, 121, 84, 98]"
      ]
     },
     "execution_count": 92,
     "metadata": {},
     "output_type": "execute_result"
    }
   ],
   "source": [
    "[len(x) for x in all_spacers]"
   ]
  },
  {
   "cell_type": "code",
   "execution_count": null,
   "metadata": {},
   "outputs": [],
   "source": []
  },
  {
   "cell_type": "code",
   "execution_count": 93,
   "metadata": {},
   "outputs": [],
   "source": [
    "def calc_dist(sp1, sp2):\n",
    "    common = []\n",
    "    matrix = np.zeros((len(sp1), len(sp2)))\n",
    "    \n",
    "    common = 0\n",
    "    for i, s1 in enumerate(sp1):\n",
    "        for j, s2 in enumerate(sp2):\n",
    "            if ed.eval(s1,s2) < 6:\n",
    "                common += 1\n",
    "            \n",
    "    ec = ca.ErrorCorrector(6)\n",
    "    ec.fit(sp1 + sp2)\n",
    "    \n",
    "            \n",
    "    return common / len(ec.cluster_to_index) #(matrix < 2).sum()/ (len(sp1) + len(sp2) - (matrix < 2).sum()), matrix < 2"
   ]
  },
  {
   "cell_type": "code",
   "execution_count": 95,
   "metadata": {},
   "outputs": [
    {
     "name": "stderr",
     "output_type": "stream",
     "text": [
      "100%|██████████| 311/311 [00:00<00:00, 2183.37it/s]\n"
     ]
    },
    {
     "data": {
      "text/plain": [
       "0.13818181818181818"
      ]
     },
     "execution_count": 95,
     "metadata": {},
     "output_type": "execute_result"
    }
   ],
   "source": [
    "calc_dist(all_spacers[0], all_spacers[6])"
   ]
  },
  {
   "cell_type": "code",
   "execution_count": null,
   "metadata": {},
   "outputs": [],
   "source": []
  },
  {
   "cell_type": "code",
   "execution_count": 89,
   "metadata": {},
   "outputs": [
    {
     "data": {
      "text/plain": [
       "275"
      ]
     },
     "execution_count": 89,
     "metadata": {},
     "output_type": "execute_result"
    }
   ],
   "source": [
    "matrix"
   ]
  },
  {
   "cell_type": "code",
   "execution_count": 84,
   "metadata": {},
   "outputs": [
    {
     "data": {
      "text/plain": [
       "<matplotlib.image.AxesImage at 0x7ff1ea711668>"
      ]
     },
     "execution_count": 84,
     "metadata": {},
     "output_type": "execute_result"
    },
    {
     "data": {
      "image/png": "[encoded data removed]",
      "text/plain": [
       "<matplotlib.figure.Figure at 0x7ff1ea51fe10>"
      ]
     },
     "metadata": {},
     "output_type": "display_data"
    }
   ],
   "source": [
    "plt.figure(figsize = (10, 10))\n",
    "plt.imshow(matrix)"
   ]
  },
  {
   "cell_type": "code",
   "execution_count": 85,
   "metadata": {},
   "outputs": [
    {
     "data": {
      "text/plain": [
       "array([0, 0, 0, 0, 0, 0, 0, 0, 0, 0, 0, 0, 0, 0, 0, 0, 0, 0, 0, 0, 0, 0,\n",
       "       0, 0, 0, 0, 0, 0, 0, 0, 0, 0, 0, 0, 0, 0, 0, 0, 0, 0, 0, 0, 0, 0,\n",
       "       0, 0, 0, 0, 0, 0, 0, 0, 0, 0, 0, 0, 0, 0, 0, 0, 0, 0, 0, 0, 0, 0,\n",
       "       0, 0, 0, 0, 0, 0, 0, 0, 0, 0, 0, 0, 0, 0, 0, 0, 0, 0, 1, 1, 0, 0,\n",
       "       0, 0, 0, 0, 0, 1, 1, 1, 1, 1, 1, 1, 1, 1, 1, 1, 1, 1, 1, 1, 1, 1,\n",
       "       1, 1, 1, 1, 1, 1, 1, 1, 1, 1, 1, 1, 1, 1, 1, 1, 1, 1, 1, 0, 0, 0,\n",
       "       0, 0, 0, 0, 0, 0, 0, 0, 0, 0, 0, 0, 0, 0, 0, 0, 0, 0, 0, 0, 0, 0,\n",
       "       0, 0, 0, 0, 0, 0, 0, 0, 0, 0, 0, 0, 0, 0])"
      ]
     },
     "execution_count": 85,
     "metadata": {},
     "output_type": "execute_result"
    }
   ],
   "source": [
    "matrix.sum(1)"
   ]
  },
  {
   "cell_type": "code",
   "execution_count": null,
   "metadata": {},
   "outputs": [],
   "source": []
  },
  {
   "cell_type": "code",
   "execution_count": 90,
   "metadata": {
    "scrolled": true
   },
   "outputs": [
    {
     "data": {
      "text/plain": [
       "['CDiP210_WGSspacers.fasta',\n",
       " 'CDiP211_WGSspacers.fasta',\n",
       " 'CDiP221_WGSspacers.fasta',\n",
       " 'CDiP648_WGSspacers.fasta',\n",
       " 'CDiP77_WGSspacers.fasta',\n",
       " 'CDiP79_WGSspacers.fasta',\n",
       " 'clust210.fasta',\n",
       " 'clust211.fasta',\n",
       " 'clust221.fasta',\n",
       " 'clust648.fasta',\n",
       " 'clust77.fasta',\n",
       " 'clust79.fasta']"
      ]
     },
     "execution_count": 90,
     "metadata": {},
     "output_type": "execute_result"
    }
   ],
   "source": [
    "files"
   ]
  },
  {
   "cell_type": "code",
   "execution_count": 62,
   "metadata": {},
   "outputs": [
    {
     "data": {
      "text/plain": [
       "(0.13818181818181818, array([[21., 27., 24., ..., 24., 23., 21.],\n",
       "        [22., 24., 23., ..., 23., 20., 23.],\n",
       "        [20., 23., 24., ..., 24., 20., 20.],\n",
       "        ...,\n",
       "        [24., 21., 20., ..., 21., 21., 23.],\n",
       "        [25., 16., 22., ..., 21., 19., 17.],\n",
       "        [21., 19., 18., ..., 21., 20., 20.]]))"
      ]
     },
     "execution_count": 62,
     "metadata": {},
     "output_type": "execute_result"
    }
   ],
   "source": [
    "calc_dist(all_spacers[0], all_spacers[6])"
   ]
  },
  {
   "cell_type": "code",
   "execution_count": 70,
   "metadata": {},
   "outputs": [
    {
     "data": {
      "text/plain": [
       "[['CTCTTCTGTTTGCTTATTTACATACTGTAGAGCCATATAA',\n",
       "  'TTTTTCTGTCTGTTCATTTACATAATACAATGCAAAGTCA'],\n",
       " ['TCAATTAAATTATGACCTTGGTTTAGATAGTTCAT',\n",
       "  'CAGAAGGAATATCTGGAGTTATTGGAGGGTCTATTG'],\n",
       " ['CTCCTTTCATTTCTCCTTTAGCTTCATAGCTTATTT',\n",
       "  'CTTTTTCCGAAAAACCATTACTTACAAAATCTACA'],\n",
       " ['ACATATAAAGCTCTTAAGTATATAACAAATCAAAATGAGG',\n",
       "  'AACTACAGAGCTTTGTACTACATAAATAATAAGACAGAAA'],\n",
       " ['ATTTTTGACGCTATGAAGAAATTTACTACAAAATTT',\n",
       "  'ACTTTTTTCATCCTCCCAAACCTCTTGTTCGCTGTC'],\n",
       " ['ACAATTATTAATTGTTTTATTAGTGAAATCACAGC',\n",
       "  'ATATAAAATGGGATTAGTAAAAAACACAACAGGAA'],\n",
       " ['TCAGCATATTCTTCTAGTTCTCCAGCGTCCAGTTT', 'GGGAGCGCAAGCAGGGCTAAATCAAAATGACGAC'],\n",
       " ['GACTCTGCCATCCCTGTAACGAACAGCCTTACAGC',\n",
       "  'ACTTATCTGTAACCCTTATATGTTCAAATTCATAGC'],\n",
       " ['TCACACATGAGCAATATCGAAACAGGCAAATCTAC', 'TGGTATATCATACTCGTGCATTGCCTGCTCCACA'],\n",
       " ['GAAGTCAACAATTTGGCTATTGGTTAAGTACAACTA',\n",
       "  'GAGTATCAAGAGACCAGGGAAAGGCAGGTAAAGC'],\n",
       " ['GATTGTACTTTAGCGTCTGCACTAGCTTTGTCTA', 'AGTACATATAATGAGTCTTTAACATCAGTTATGAA'],\n",
       " ['CAAAGTGCTAGGTCACTAAATGATGCAACAGTAGA',\n",
       "  'TCACACATGAGCAATATCGAAACAGGCAAATCTAC']]"
      ]
     },
     "execution_count": 70,
     "metadata": {},
     "output_type": "execute_result"
    }
   ],
   "source": [
    "[x[:2] for x in all_spacers]"
   ]
  },
  {
   "cell_type": "code",
   "execution_count": 96,
   "metadata": {},
   "outputs": [
    {
     "name": "stderr",
     "output_type": "stream",
     "text": [
      "100%|██████████| 168/168 [00:00<00:00, 3863.45it/s]\n",
      "100%|██████████| 270/270 [00:00<00:00, 2372.61it/s]\n",
      "100%|██████████| 269/269 [00:00<00:00, 2391.19it/s]\n",
      "100%|██████████| 330/330 [00:00<00:00, 1805.93it/s]\n",
      "100%|██████████| 245/245 [00:00<00:00, 2526.22it/s]\n",
      "100%|██████████| 259/259 [00:00<00:00, 2509.16it/s]\n",
      "100%|██████████| 311/311 [00:00<00:00, 2101.85it/s]\n",
      "100%|██████████| 254/254 [00:00<00:00, 2547.46it/s]\n",
      "100%|██████████| 269/269 [00:00<00:00, 2175.51it/s]\n",
      "100%|██████████| 289/289 [00:00<00:00, 2171.46it/s]\n",
      "100%|██████████| 252/252 [00:00<00:00, 2323.75it/s]\n",
      "100%|██████████| 266/266 [00:00<00:00, 2232.75it/s]\n",
      "100%|██████████| 270/270 [00:00<00:00, 1992.52it/s]\n",
      "100%|██████████| 107/107 [00:00<00:00, 5021.88it/s]\n",
      "100%|██████████| 212/212 [00:00<00:00, 2492.64it/s]\n",
      "100%|██████████| 269/269 [00:00<00:00, 2093.44it/s]\n",
      "100%|██████████| 184/184 [00:00<00:00, 3558.95it/s]\n",
      "100%|██████████| 202/202 [00:00<00:00, 3079.19it/s]\n",
      "100%|██████████| 251/251 [00:00<00:00, 2415.57it/s]\n",
      "100%|██████████| 193/193 [00:00<00:00, 3769.89it/s]\n",
      "100%|██████████| 208/208 [00:00<00:00, 3150.59it/s]\n",
      "100%|██████████| 228/228 [00:00<00:00, 2542.77it/s]\n",
      "100%|██████████| 191/191 [00:00<00:00, 3215.61it/s]\n",
      "100%|██████████| 205/205 [00:00<00:00, 3137.54it/s]\n",
      "100%|██████████| 269/269 [00:00<00:00, 2225.93it/s]\n",
      "100%|██████████| 212/212 [00:00<00:00, 2979.31it/s]\n",
      "100%|██████████| 105/105 [00:00<00:00, 4845.07it/s]\n",
      "100%|██████████| 267/267 [00:00<00:00, 2453.60it/s]\n",
      "100%|██████████| 182/182 [00:00<00:00, 3577.47it/s]\n",
      "100%|██████████| 159/159 [00:00<00:00, 4031.13it/s]\n",
      "100%|██████████| 250/250 [00:00<00:00, 2561.31it/s]\n",
      "100%|██████████| 191/191 [00:00<00:00, 2864.11it/s]\n",
      "100%|██████████| 206/206 [00:00<00:00, 2833.45it/s]\n",
      "100%|██████████| 226/226 [00:00<00:00, 2931.49it/s]\n",
      "100%|██████████| 189/189 [00:00<00:00, 3581.51it/s]\n",
      "100%|██████████| 203/203 [00:00<00:00, 3472.12it/s]\n",
      "100%|██████████| 330/330 [00:00<00:00, 1949.81it/s]\n",
      "100%|██████████| 269/269 [00:00<00:00, 2408.12it/s]\n",
      "100%|██████████| 267/267 [00:00<00:00, 2475.98it/s]\n",
      "100%|██████████| 162/162 [00:00<00:00, 3995.23it/s]\n",
      "100%|██████████| 239/239 [00:00<00:00, 2327.42it/s]\n",
      "100%|██████████| 262/262 [00:00<00:00, 2484.15it/s]\n",
      "100%|██████████| 307/307 [00:00<00:00, 2050.18it/s]\n",
      "100%|██████████| 248/248 [00:00<00:00, 2377.97it/s]\n",
      "100%|██████████| 263/263 [00:00<00:00, 2301.28it/s]\n",
      "100%|██████████| 282/282 [00:00<00:00, 1973.69it/s]\n",
      "100%|██████████| 246/246 [00:00<00:00, 2405.65it/s]\n",
      "100%|██████████| 260/260 [00:00<00:00, 2319.30it/s]\n",
      "100%|██████████| 245/245 [00:00<00:00, 2362.82it/s]\n",
      "100%|██████████| 184/184 [00:00<00:00, 2919.66it/s]\n",
      "100%|██████████| 182/182 [00:00<00:00, 2976.47it/s]\n",
      "100%|██████████| 239/239 [00:00<00:00, 2219.20it/s]\n",
      "100%|██████████| 77/77 [00:00<00:00, 7078.92it/s]\n",
      "100%|██████████| 177/177 [00:00<00:00, 3153.67it/s]\n",
      "100%|██████████| 222/222 [00:00<00:00, 2511.53it/s]\n",
      "100%|██████████| 163/163 [00:00<00:00, 3799.97it/s]\n",
      "100%|██████████| 178/178 [00:00<00:00, 3435.77it/s]\n",
      "100%|██████████| 198/198 [00:00<00:00, 3123.12it/s]\n",
      "100%|██████████| 161/161 [00:00<00:00, 4217.72it/s]\n",
      "100%|██████████| 175/175 [00:00<00:00, 3407.95it/s]\n",
      "100%|██████████| 259/259 [00:00<00:00, 2384.85it/s]\n",
      "100%|██████████| 202/202 [00:00<00:00, 2847.22it/s]\n",
      "100%|██████████| 159/159 [00:00<00:00, 2872.96it/s]\n",
      "100%|██████████| 262/262 [00:00<00:00, 2345.59it/s]\n",
      "100%|██████████| 177/177 [00:00<00:00, 3441.83it/s]\n",
      "100%|██████████| 100/100 [00:00<00:00, 6204.96it/s]\n",
      "100%|██████████| 245/245 [00:00<00:00, 2467.37it/s]\n",
      "100%|██████████| 186/186 [00:00<00:00, 2304.43it/s]\n",
      "100%|██████████| 201/201 [00:00<00:00, 3338.41it/s]\n",
      "100%|██████████| 221/221 [00:00<00:00, 2959.09it/s]\n",
      "100%|██████████| 184/184 [00:00<00:00, 3362.46it/s]\n",
      "100%|██████████| 198/198 [00:00<00:00, 3417.54it/s]\n",
      "100%|██████████| 311/311 [00:00<00:00, 2149.32it/s]\n",
      "100%|██████████| 251/251 [00:00<00:00, 2558.66it/s]\n",
      "100%|██████████| 250/250 [00:00<00:00, 2525.98it/s]\n",
      "100%|██████████| 307/307 [00:00<00:00, 1709.51it/s]\n",
      "100%|██████████| 222/222 [00:00<00:00, 2906.24it/s]\n",
      "100%|██████████| 245/245 [00:00<00:00, 1762.95it/s]\n",
      "100%|██████████| 145/145 [00:00<00:00, 4377.27it/s]\n",
      "100%|██████████| 216/216 [00:00<00:00, 2858.08it/s]\n",
      "100%|██████████| 232/232 [00:00<00:00, 2619.22it/s]\n",
      "100%|██████████| 260/260 [00:00<00:00, 2344.69it/s]\n",
      "100%|██████████| 219/219 [00:00<00:00, 1728.68it/s]\n",
      "100%|██████████| 231/231 [00:00<00:00, 2839.42it/s]\n",
      "100%|██████████| 254/254 [00:00<00:00, 2298.65it/s]\n",
      "100%|██████████| 193/193 [00:00<00:00, 3504.36it/s]\n",
      "100%|██████████| 191/191 [00:00<00:00, 3640.56it/s]\n",
      "100%|██████████| 248/248 [00:00<00:00, 2311.86it/s]\n",
      "100%|██████████| 163/163 [00:00<00:00, 3990.08it/s]\n",
      "100%|██████████| 186/186 [00:00<00:00, 3171.68it/s]\n",
      "100%|██████████| 216/216 [00:00<00:00, 2788.71it/s]\n",
      "100%|██████████| 86/86 [00:00<00:00, 5502.82it/s]\n",
      "100%|██████████| 170/170 [00:00<00:00, 3538.46it/s]\n",
      "100%|██████████| 202/202 [00:00<00:00, 2916.73it/s]\n",
      "100%|██████████| 159/159 [00:00<00:00, 3925.77it/s]\n",
      "100%|██████████| 169/169 [00:00<00:00, 3681.32it/s]\n",
      "100%|██████████| 269/269 [00:00<00:00, 2326.74it/s]\n",
      "100%|██████████| 208/208 [00:00<00:00, 2942.25it/s]\n",
      "100%|██████████| 206/206 [00:00<00:00, 3461.34it/s]\n",
      "100%|██████████| 263/263 [00:00<00:00, 2277.72it/s]\n",
      "100%|██████████| 178/178 [00:00<00:00, 3556.12it/s]\n",
      "100%|██████████| 201/201 [00:00<00:00, 3293.31it/s]\n",
      "100%|██████████| 232/232 [00:00<00:00, 2766.97it/s]\n",
      "100%|██████████| 170/170 [00:00<00:00, 3281.76it/s]\n",
      "100%|██████████| 101/101 [00:00<00:00, 5396.91it/s]\n",
      "100%|██████████| 214/214 [00:00<00:00, 2812.91it/s]\n",
      "100%|██████████| 162/162 [00:00<00:00, 3692.87it/s]\n",
      "100%|██████████| 109/109 [00:00<00:00, 5783.12it/s]\n",
      "100%|██████████| 289/289 [00:00<00:00, 1815.98it/s]\n",
      "100%|██████████| 228/228 [00:00<00:00, 2825.48it/s]\n",
      "100%|██████████| 226/226 [00:00<00:00, 2916.68it/s]\n",
      "100%|██████████| 282/282 [00:00<00:00, 2330.96it/s]\n",
      "100%|██████████| 198/198 [00:00<00:00, 3230.48it/s]\n",
      "100%|██████████| 221/221 [00:00<00:00, 2858.71it/s]\n",
      "100%|██████████| 260/260 [00:00<00:00, 1993.32it/s]\n",
      "100%|██████████| 202/202 [00:00<00:00, 2948.38it/s]\n",
      "100%|██████████| 214/214 [00:00<00:00, 2851.17it/s]\n",
      "100%|██████████| 121/121 [00:00<00:00, 4729.26it/s]\n",
      "100%|██████████| 197/197 [00:00<00:00, 3201.61it/s]\n",
      "100%|██████████| 210/210 [00:00<00:00, 1991.99it/s]\n",
      "100%|██████████| 252/252 [00:00<00:00, 2394.14it/s]\n",
      "100%|██████████| 191/191 [00:00<00:00, 3169.56it/s]\n",
      "100%|██████████| 189/189 [00:00<00:00, 3416.04it/s]\n",
      "100%|██████████| 246/246 [00:00<00:00, 1932.00it/s]\n",
      "100%|██████████| 161/161 [00:00<00:00, 4604.66it/s]\n",
      "100%|██████████| 184/184 [00:00<00:00, 3514.74it/s]\n",
      "100%|██████████| 219/219 [00:00<00:00, 2924.45it/s]\n",
      "100%|██████████| 159/159 [00:00<00:00, 3255.72it/s]\n",
      "100%|██████████| 162/162 [00:00<00:00, 3996.97it/s]\n",
      "100%|██████████| 197/197 [00:00<00:00, 3254.27it/s]\n",
      "100%|██████████| 84/84 [00:00<00:00, 6581.76it/s]\n",
      "100%|██████████| 157/157 [00:00<00:00, 4042.22it/s]\n",
      "100%|██████████| 266/266 [00:00<00:00, 2321.36it/s]\n",
      "100%|██████████| 205/205 [00:00<00:00, 2881.79it/s]\n",
      "100%|██████████| 203/203 [00:00<00:00, 3401.15it/s]\n",
      "100%|██████████| 260/260 [00:00<00:00, 2330.06it/s]\n",
      "100%|██████████| 175/175 [00:00<00:00, 3552.02it/s]\n",
      "100%|██████████| 198/198 [00:00<00:00, 3402.19it/s]\n",
      "100%|██████████| 231/231 [00:00<00:00, 2752.32it/s]\n",
      "100%|██████████| 169/169 [00:00<00:00, 3805.88it/s]\n",
      "100%|██████████| 109/109 [00:00<00:00, 4833.42it/s]\n",
      "100%|██████████| 210/210 [00:00<00:00, 2750.54it/s]\n",
      "100%|██████████| 157/157 [00:00<00:00, 2955.33it/s]\n",
      "100%|██████████| 98/98 [00:00<00:00, 5707.72it/s]\n"
     ]
    }
   ],
   "source": [
    "res_mat = np.zeros((12,12))\n",
    "\n",
    "for i in range(12):\n",
    "    for j in range(12):\n",
    "        res_mat[i, j] = calc_dist(all_spacers[i], all_spacers[j]) "
   ]
  },
  {
   "cell_type": "code",
   "execution_count": 97,
   "metadata": {},
   "outputs": [
    {
     "data": {
      "text/plain": [
       "array([[1.        , 0.01858736, 0.03030303, 0.        , 0.02083333,\n",
       "        0.046875  , 0.13818182, 0.00395257, 0.00749064, 0.        ,\n",
       "        0.01204819, 0.00377358],\n",
       "       [0.01858736, 1.02830189, 0.00966184, 0.        , 0.07647059,\n",
       "        0.03      , 0.02857143, 0.29530201, 0.01470588, 0.        ,\n",
       "        0.01604278, 0.01492537],\n",
       "       [0.03030303, 0.00966184, 1.02884615, 0.01526718, 0.03428571,\n",
       "        0.39455782, 0.01219512, 0.06145251, 0.24096386, 0.01809955,\n",
       "        0.06214689, 0.20833333],\n",
       "       [0.        , 0.        , 0.01526718, 1.        , 0.01702128,\n",
       "        0.        , 0.        , 0.        , 0.        , 0.20425532,\n",
       "        0.        , 0.        ],\n",
       "       [0.02083333, 0.07647059, 0.03428571, 0.01702128, 1.19480519,\n",
       "        0.00568182, 0.02304147, 0.01242236, 0.01714286, 0.        ,\n",
       "        0.49074074, 0.02339181],\n",
       "       [0.046875  , 0.03      , 0.39455782, 0.        , 0.00568182,\n",
       "        1.        , 0.01659751, 0.04494382, 0.26415094, 0.01376147,\n",
       "        0.06358382, 0.2611465 ],\n",
       "       [0.13818182, 0.02857143, 0.01219512, 0.        , 0.02304147,\n",
       "        0.01659751, 1.        , 0.07943925, 0.06493506, 0.02307692,\n",
       "        0.05069124, 0.05652174],\n",
       "       [0.00395257, 0.29530201, 0.06145251, 0.        , 0.01242236,\n",
       "        0.04494382, 0.07943925, 1.        , 0.10714286, 0.02475248,\n",
       "        0.06918239, 0.09580838],\n",
       "       [0.00749064, 0.01470588, 0.24096386, 0.        , 0.01714286,\n",
       "        0.26415094, 0.06493506, 0.10714286, 1.        , 0.03738318,\n",
       "        0.16352201, 0.84259259],\n",
       "       [0.        , 0.        , 0.01809955, 0.20425532, 0.        ,\n",
       "        0.01376147, 0.02307692, 0.02475248, 0.03738318, 1.        ,\n",
       "        0.04060914, 0.04285714],\n",
       "       [0.01204819, 0.01604278, 0.06214689, 0.        , 0.49074074,\n",
       "        0.06358382, 0.05069124, 0.06918239, 0.16352201, 0.04060914,\n",
       "        1.        , 0.18181818],\n",
       "       [0.00377358, 0.01492537, 0.20833333, 0.        , 0.02339181,\n",
       "        0.2611465 , 0.05652174, 0.09580838, 0.84259259, 0.04285714,\n",
       "        0.18181818, 1.        ]])"
      ]
     },
     "execution_count": 97,
     "metadata": {},
     "output_type": "execute_result"
    }
   ],
   "source": [
    "res_mat"
   ]
  },
  {
   "cell_type": "code",
   "execution_count": 107,
   "metadata": {},
   "outputs": [],
   "source": [
    "from mpl_toolkits.axes_grid1 import make_axes_locatable"
   ]
  },
  {
   "cell_type": "code",
   "execution_count": 127,
   "metadata": {},
   "outputs": [
    {
     "data": {
      "text/plain": [
       "<matplotlib.colorbar.Colorbar at 0x7ff1e9f6c390>"
      ]
     },
     "execution_count": 127,
     "metadata": {},
     "output_type": "execute_result"
    },
    {
     "data": {
      "image/png": "[encoded data removed]",
      "text/plain": [
       "<matplotlib.figure.Figure at 0x7ff1e9f8ffd0>"
      ]
     },
     "metadata": {},
     "output_type": "display_data"
    }
   ],
   "source": [
    "f, ax = plt.subplots(figsize=(7,7))\n",
    "im = ax.imshow(res_mat - np.diag(np.diag(res_mat)))\n",
    "plt.xticks(np.arange(12), files, fontsize=14, rotation =90)#, prop={'family': 'monospace'})\n",
    "plt.yticks(np.arange(12), files, fontsize=14)\n",
    "\n",
    "divider = make_axes_locatable(ax)\n",
    "cax = divider.append_axes(\"right\", size=\"5%\", pad=0.2)\n",
    "cax.tick_params(labelsize=10)\n",
    "plt.colorbar(im, cax=cax)"
   ]
  },
  {
   "cell_type": "code",
   "execution_count": 125,
   "metadata": {},
   "outputs": [
    {
     "data": {
      "text/plain": [
       "<function ndarray.diagonal>"
      ]
     },
     "execution_count": 125,
     "metadata": {},
     "output_type": "execute_result"
    }
   ],
   "source": []
  },
  {
   "cell_type": "code",
   "execution_count": null,
   "metadata": {},
   "outputs": [],
   "source": []
  }
 ],
 "metadata": {
  "kernelspec": {
   "display_name": "Python 3",
   "language": "python",
   "name": "python3"
  },
  "language_info": {
   "codemirror_mode": {
    "name": "ipython",
    "version": 3
   },
   "file_extension": ".py",
   "mimetype": "text/x-python",
   "name": "python",
   "nbconvert_exporter": "python",
   "pygments_lexer": "ipython3",
   "version": "3.6.3"
  }
 },
 "nbformat": 4,
 "nbformat_minor": 2
}
