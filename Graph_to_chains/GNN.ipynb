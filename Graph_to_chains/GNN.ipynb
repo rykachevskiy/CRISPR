{
 "cells": [
  {
   "cell_type": "code",
   "execution_count": 1,
   "metadata": {},
   "outputs": [
    {
     "name": "stderr",
     "output_type": "stream",
     "text": [
      "/home/anton/anaconda3/lib/python3.6/site-packages/h5py/__init__.py:34: FutureWarning: Conversion of the second argument of issubdtype from `float` to `np.floating` is deprecated. In future, it will be treated as `np.float64 == np.dtype(float).type`.\n",
      "  from ._conv import register_converters as _register_converters\n"
     ]
    }
   ],
   "source": [
    "import tensorflow as tf\n",
    "import numpy as np\n",
    "\n",
    "import matplotlib.pyplot as plt\n",
    "\n",
    "import sys\n",
    "\n",
    "from IPython import display\n",
    "\n",
    "import matplotlib.pyplot as plt"
   ]
  },
  {
   "cell_type": "code",
   "execution_count": 2,
   "metadata": {},
   "outputs": [],
   "source": [
    "sys.path.append(\"../../gated-graph-neural-network-samples/\")\n",
    "from utils import *"
   ]
  },
  {
   "cell_type": "code",
   "execution_count": 3,
   "metadata": {},
   "outputs": [],
   "source": [
    "class GNN():\n",
    "    def __init__(self, h_dim = 5, edge_types = 1):\n",
    "        self.params = {}\n",
    "        self.placeholders = {}\n",
    "        self.weights = {}\n",
    "        \n",
    "        self.params[\"hidden_size\"] = h_dim\n",
    "        self.params[\"edge_types\"] = edge_types\n",
    "        self.params[\"use_edge_bias\"] = True\n",
    "        self.params['num_timesteps'] = 10\n",
    "    \n",
    "    \n",
    "    def prepare_specific_graph_model(self) -> None:\n",
    "        h_dim = self.params['hidden_size']\n",
    "        # inputs\n",
    "        self.placeholders['graph_state_keep_prob'] = tf.placeholder(tf.float32, None, name='graph_state_keep_prob')\n",
    "        self.placeholders['edge_weight_dropout_keep_prob'] = tf.placeholder(tf.float32, None, name='edge_weight_dropout_keep_prob')\n",
    "        self.placeholders['initial_node_representation'] = tf.placeholder(tf.float32,\n",
    "                                                                          [None, None, self.params['hidden_size']],\n",
    "                                                                          name='node_features')\n",
    "        #self.placeholders['node_mask'] = tf.placeholder(tf.float32, [None, None], name='node_mask')\n",
    "        self.placeholders['num_vertices'] = tf.placeholder(tf.int32, ())\n",
    "        self.placeholders['adjacency_matrix'] = tf.placeholder(tf.float32,\n",
    "                                                               [None, self.params[\"edge_types\"], None, None])     # [b, e, v, v]\n",
    "        self.__adjacency_matrix = tf.transpose(self.placeholders['adjacency_matrix'], [1, 0, 2, 3])         # [e, b, v, v]\n",
    "\n",
    "\n",
    "        # weights\n",
    "        self.weights['edge_weights'] = tf.Variable(glorot_init([self.params[\"edge_types\"], h_dim, h_dim]))\n",
    "        if self.params['use_edge_bias']:\n",
    "            self.weights['edge_biases'] = tf.Variable(np.zeros([self.params[\"edge_types\"], 1, h_dim]).astype(np.float32))\n",
    "        with tf.variable_scope(\"gru_scope\"):\n",
    "            cell = tf.contrib.rnn.GRUCell(h_dim)\n",
    "            cell = tf.nn.rnn_cell.DropoutWrapper(cell,\n",
    "                                                 state_keep_prob=self.placeholders['graph_state_keep_prob'])\n",
    "            self.weights['node_gru'] = cell\n",
    "        self.weights['last_dense'] = tf.Variable(glorot_init([h_dim, 2]))\n",
    "        self.weights['last_bias'] = tf.get_variable('bias', shape = [2], dtype = tf.float32)\n",
    "        \n",
    "    \n",
    "    def compute_final_node_representations(self) -> tf.Tensor:\n",
    "        v = self.placeholders['num_vertices']\n",
    "        h_dim = self.params['hidden_size']\n",
    "        h = self.placeholders['initial_node_representation']                                                # [b, v, h]\n",
    "        h = tf.reshape(h, [-1, h_dim])\n",
    "\n",
    "        with tf.variable_scope(\"gru_scope\") as scope:\n",
    "            for i in range(self.params['num_timesteps']):\n",
    "                if i > 0:\n",
    "                    tf.get_variable_scope().reuse_variables()\n",
    "                for edge_type in range(self.params[\"edge_types\"]):\n",
    "                    m = tf.matmul(h, tf.nn.dropout(self.weights['edge_weights'][edge_type],\n",
    "                                                   keep_prob=self.placeholders['edge_weight_dropout_keep_prob'])) # [b*v, h]\n",
    "                    m = tf.reshape(m, [-1, v, h_dim])                                                       # [b, v, h]\n",
    "                    if self.params['use_edge_bias']:\n",
    "                        m += self.weights['edge_biases'][edge_type]                                         # [b, v, h]\n",
    "                    if edge_type == 0:\n",
    "                        acts = tf.matmul(self.__adjacency_matrix[edge_type], m)\n",
    "                    else:\n",
    "                        acts += tf.matmul(self.__adjacency_matrix[edge_type], m)\n",
    "                acts = tf.reshape(acts, [-1, h_dim])                                                        # [b*v, h]\n",
    "\n",
    "                h = self.weights['node_gru'](acts, h)[1]                                                    # [b*v, h]\n",
    "            last_h = tf.reshape(h, [-1, v, h_dim])\n",
    "        return last_h\n",
    "            \n",
    "    def predict(self, last_h):\n",
    "        last_h = tf.reshape(last_h, [-1, self.params[\"hidden_size\"]])                                       # [b*v, h]\n",
    "        \n",
    "        logits = tf.matmul(last_h, self.weights['last_dense']) + self.weights['last_bias']\n",
    "        \n",
    "        output = tf.nn.softmax(logits)\n",
    "        return output, logits\n",
    "    \n",
    "    def loss(self, logits, target):\n",
    "        loss = tf.reduce_mean(tf.nn.softmax_cross_entropy_with_logits_v2(labels = target, logits=logits))\n",
    "        return loss\n",
    "    \n",
    "    \n"
   ]
  },
  {
   "cell_type": "code",
   "execution_count": 5,
   "metadata": {},
   "outputs": [],
   "source": [
    "keep_p = 1"
   ]
  },
  {
   "cell_type": "code",
   "execution_count": 6,
   "metadata": {},
   "outputs": [],
   "source": [
    "def process_graph(sess, gnn, adj, emb, keep_p=keep_p):\n",
    "    feed_dict = {\n",
    "        gnn.placeholders['graph_state_keep_prob'] : keep_p,\n",
    "        gnn.placeholders['edge_weight_dropout_keep_prob'] : keep_p,\n",
    "        gnn.placeholders['initial_node_representation'] : np.expand_dims(emb[:, :], 0) ,\n",
    "        #gnn.placeholders['node_mask'] : adj,\n",
    "        gnn.placeholders['num_vertices'] : adj.shape[0],\n",
    "        gnn.placeholders['adjacency_matrix'] : np.expand_dims(np.expand_dims(adj, 0), 0),\n",
    "    }\n",
    "    \n",
    "    return sess.run(out, feed_dict=feed_dict)\n",
    "     \n",
    "def process_batch(sess, gnn, embs, adjs):\n",
    "    answ = []\n",
    "    \n",
    "    for i, (batch_e, batch_a, batch_t) in enumerate(iterate_minibatches(\\\n",
    "            embs, adjs, test_adjs, 1, shuffle = False)):\n",
    "\n",
    "        batch_embs = batch_e[0][:,1:]\n",
    "        batch_adj = batch_a[0][0]\n",
    "\n",
    "        answ.append(process_graph(sess, gnn, batch_adj, batch_embs))\n",
    "    return answ"
   ]
  },
  {
   "cell_type": "code",
   "execution_count": 7,
   "metadata": {},
   "outputs": [],
   "source": [
    "tf.reset_default_graph()\n",
    "sess = tf.Session()\n",
    "\n",
    "\n",
    "gnn = GNN(4)\n",
    "gnn.prepare_specific_graph_model()\n",
    "last_h = gnn.compute_final_node_representations()\n",
    "out, logits = gnn.predict(last_h = last_h)\n",
    "\n",
    "target = tf.placeholder(tf.float32, [None, 2])\n",
    "\n",
    "\n",
    "loss = gnn.loss(logits, target)"
   ]
  },
  {
   "cell_type": "code",
   "execution_count": 8,
   "metadata": {},
   "outputs": [],
   "source": [
    "opt = tf.train.AdamOptimizer()\n",
    "train_step = opt.minimize(loss)"
   ]
  },
  {
   "cell_type": "code",
   "execution_count": 9,
   "metadata": {},
   "outputs": [],
   "source": [
    "sess.run(tf.global_variables_initializer())"
   ]
  },
  {
   "cell_type": "code",
   "execution_count": 7,
   "metadata": {},
   "outputs": [],
   "source": [
    "#sess.run([last_h, out, logits, loss], feed_dict=feed_dict)"
   ]
  },
  {
   "cell_type": "code",
   "execution_count": 106,
   "metadata": {
    "scrolled": true
   },
   "outputs": [],
   "source": [
    "for i in range(100):\n",
    "    l = sess.run([loss, train_step], feed_dict=feed_dict)"
   ]
  },
  {
   "cell_type": "code",
   "execution_count": null,
   "metadata": {},
   "outputs": [],
   "source": []
  },
  {
   "cell_type": "code",
   "execution_count": 10,
   "metadata": {},
   "outputs": [],
   "source": [
    "embs = np.load(\"../../data/gnn_prepared/embs.npy\")\n",
    "adjs = np.load(\"../../data/gnn_prepared/adjs.npy\")\n",
    "targets = np.load(\"../../data/gnn_prepared/target.npy\")"
   ]
  },
  {
   "cell_type": "code",
   "execution_count": 11,
   "metadata": {},
   "outputs": [],
   "source": [
    "train_embs, test_embs = embs[:800], embs[800:]\n",
    "train_adjs, test_adjs = adjs[:800], adjs[800:]\n",
    "train_targets, test_targets = targets[:800], targets[800:]"
   ]
  },
  {
   "cell_type": "code",
   "execution_count": 12,
   "metadata": {},
   "outputs": [],
   "source": [
    "def iterate_minibatches(e,a,t, batchsize, shuffle=True):\n",
    "    if shuffle:\n",
    "        indices = np.arange(e.shape[0])\n",
    "        np.random.shuffle(indices)\n",
    "    for start_idx in range(0, e.shape[0] - batchsize + 1, batchsize):\n",
    "        if shuffle:\n",
    "            excerpt = indices[start_idx:start_idx + batchsize]\n",
    "        else:\n",
    "            excerpt = slice(start_idx, start_idx + batchsize)\n",
    "        yield e[excerpt], a[excerpt], t[excerpt]"
   ]
  },
  {
   "cell_type": "code",
   "execution_count": 13,
   "metadata": {},
   "outputs": [],
   "source": [
    "train_losses = []\n",
    "test_losses = []"
   ]
  },
  {
   "cell_type": "code",
   "execution_count": 15,
   "metadata": {},
   "outputs": [
    {
     "data": {
      "image/png": "[encoded data removed]",
      "text/plain": [
       "<matplotlib.figure.Figure at 0x7ff4fb53bf60>"
      ]
     },
     "metadata": {},
     "output_type": "display_data"
    }
   ],
   "source": [
    "epochs = 5\n",
    "for epoch in range(epochs):\n",
    "    for i, (batch_e, batch_a, batch_t) in enumerate(iterate_minibatches(\\\n",
    "                train_embs, train_adjs, train_targets, 1)):\n",
    "\n",
    "        batch_embs = batch_e[0][:,1:]\n",
    "        batch_adj = batch_a[0][0]\n",
    "        batch_target = np.zeros((batch_t[0].shape[0], 2))\n",
    "        batch_target[np.arange(batch_target.shape[0]), batch_t[0]] = 1\n",
    "        \n",
    "        feed_dict = {\n",
    "            gnn.placeholders['graph_state_keep_prob'] : keep_p,\n",
    "            gnn.placeholders['edge_weight_dropout_keep_prob'] : keep_p,\n",
    "            gnn.placeholders['initial_node_representation'] : np.expand_dims(batch_embs, 0) ,\n",
    "            #gnn.placeholders['node_mask'] : adj,\n",
    "            gnn.placeholders['num_vertices'] : batch_adj.shape[0],\n",
    "            gnn.placeholders['adjacency_matrix'] : np.expand_dims(np.expand_dims(batch_adj, 0), 0),\n",
    "            target : batch_target\n",
    "        }\n",
    "        \n",
    "        batch_loss = sess.run([train_step,loss], feed_dict=feed_dict)\n",
    "        \n",
    "        train_losses.append(batch_loss[1])\n",
    "    \n",
    "    batch_loss = 0\n",
    "    for i, (batch_e, batch_a, batch_t) in enumerate(iterate_minibatches(\\\n",
    "                test_embs, test_adjs, test_targets, 1)):\n",
    "\n",
    "        batch_embs = batch_e[0][:,1:]\n",
    "        batch_adj = batch_a[0][0]\n",
    "        batch_target = np.zeros((batch_t[0].shape[0], 2))\n",
    "        batch_target[np.arange(batch_target.shape[0]), batch_t[0]] = 1\n",
    "        \n",
    "        feed_dict = {\n",
    "            gnn.placeholders['graph_state_keep_prob'] : keep_p,\n",
    "            gnn.placeholders['edge_weight_dropout_keep_prob'] : keep_p,\n",
    "            gnn.placeholders['initial_node_representation'] : np.expand_dims(batch_embs, 0) ,\n",
    "            #gnn.placeholders['node_mask'] : adj,\n",
    "            gnn.placeholders['num_vertices'] : batch_adj.shape[0],\n",
    "            gnn.placeholders['adjacency_matrix'] : np.expand_dims(np.expand_dims(batch_adj, 0), 0),\n",
    "            target : batch_target\n",
    "        }\n",
    "        \n",
    "        curr_loss = sess.run(loss, feed_dict=feed_dict) / test_adjs.shape[0]\n",
    "        batch_loss += curr_loss\n",
    "        \n",
    "    test_losses.append(batch_loss)\n",
    "        \n",
    "        \n",
    "    if epoch%1==0:\n",
    "        display.clear_output(wait=True)\n",
    "        plt.plot(train_losses, label='train')\n",
    "        plt.plot([i * train_adjs.shape[0] for i in range(1, len(test_losses) + 1)], test_losses, label='train')\n",
    "        plt.legend()\n",
    "        plt.show()\n",
    "#         curr_loss += batch_loss[1]\n",
    "\n",
    "#         if i % n == 0:\n",
    "#             if i != 0:\n",
    "#                 losses_each_n.append( curr_loss / n)\n",
    "            \n",
    "#             curr_loss = 0\n",
    "\n",
    "\n",
    "#             display.clear_output(wait=True)\n",
    "#             plt.plot(losses_each_n[1:], label='train')\n",
    "#             plt.plot(val_x, val_losses, label='test')\n",
    "#             plt.legend()\n",
    "#             plt.show()\n",
    "            \n",
    "#     val_loss = sess.run(loss,  feed_dict={inp : np.hstack((X, X_emb[:,:5]))[800:].reshape(-1, 150), target: y[800:].reshape(-1, 100)})\n",
    "#     val_losses.append(val_loss)\n",
    "#     val_x.append(len(losses_each_n))\n",
    "    \n",
    "#     curr_loss == 0\n",
    "\n",
    "        #print(batch_loss[1])"
   ]
  },
  {
   "cell_type": "code",
   "execution_count": 16,
   "metadata": {},
   "outputs": [
    {
     "data": {
      "text/plain": [
       "[0.300832364782691,\n",
       " 0.2514108943939211,\n",
       " 0.2098008280992508,\n",
       " 0.1727864736318588,\n",
       " 0.07125919718295337,\n",
       " 0.01559149063657968,\n",
       " 0.004979855885030698,\n",
       " 0.002712770908256061,\n",
       " 0.0018857095985731578,\n",
       " 0.0014454075915273283,\n",
       " 0.0011728899903391714]"
      ]
     },
     "execution_count": 16,
     "metadata": {},
     "output_type": "execute_result"
    }
   ],
   "source": [
    "test_losses"
   ]
  },
  {
   "cell_type": "code",
   "execution_count": null,
   "metadata": {},
   "outputs": [],
   "source": []
  },
  {
   "cell_type": "code",
   "execution_count": null,
   "metadata": {},
   "outputs": [],
   "source": []
  },
  {
   "cell_type": "code",
   "execution_count": null,
   "metadata": {},
   "outputs": [],
   "source": []
  },
  {
   "cell_type": "code",
   "execution_count": 61,
   "metadata": {},
   "outputs": [],
   "source": [
    "path = \"../../data/gnn_prepared/\"\n",
    "name = \"ES3_22\"\n",
    "emb_ES3 = np.load(path + name + \"_emb.npy\")\n",
    "adj_ES3 = np.load(path + name + \"_adj.npy\")\n",
    "#targets = np.load(\"../../data/gnn_prepared/target.npy\""
   ]
  },
  {
   "cell_type": "code",
   "execution_count": 62,
   "metadata": {},
   "outputs": [],
   "source": [
    "pred_ES3 = process_graph(sess, gnn, adj_ES3, emb_ES3[:,1:])"
   ]
  },
  {
   "cell_type": "code",
   "execution_count": 60,
   "metadata": {},
   "outputs": [],
   "source": [
    "np.save(\"../../data/gnn_prepared/answ_ES4\", pred_ES3)"
   ]
  },
  {
   "cell_type": "code",
   "execution_count": null,
   "metadata": {},
   "outputs": [],
   "source": []
  },
  {
   "cell_type": "code",
   "execution_count": null,
   "metadata": {},
   "outputs": [],
   "source": []
  },
  {
   "cell_type": "code",
   "execution_count": 63,
   "metadata": {},
   "outputs": [],
   "source": [
    "answ = process_batch(sess, gnn, test_embs, test_adjs)"
   ]
  },
  {
   "cell_type": "code",
   "execution_count": 54,
   "metadata": {},
   "outputs": [
    {
     "data": {
      "text/plain": [
       "(49197,)"
      ]
     },
     "execution_count": 54,
     "metadata": {},
     "output_type": "execute_result"
    }
   ],
   "source": [
    "np.hstack([x[:, 1] for x in answ]).shape"
   ]
  },
  {
   "cell_type": "code",
   "execution_count": 64,
   "metadata": {},
   "outputs": [
    {
     "data": {
      "text/plain": [
       "0.9999992932111769"
      ]
     },
     "execution_count": 64,
     "metadata": {},
     "output_type": "execute_result"
    }
   ],
   "source": [
    "roc_auc_score(np.hstack(test_targets), np.hstack([x[:, 1] for x in answ]))"
   ]
  },
  {
   "cell_type": "code",
   "execution_count": 56,
   "metadata": {},
   "outputs": [],
   "source": [
    "from sklearn.metrics import roc_auc_score, f1_score"
   ]
  },
  {
   "cell_type": "code",
   "execution_count": null,
   "metadata": {},
   "outputs": [],
   "source": []
  },
  {
   "cell_type": "code",
   "execution_count": null,
   "metadata": {},
   "outputs": [],
   "source": []
  },
  {
   "cell_type": "code",
   "execution_count": 102,
   "metadata": {},
   "outputs": [],
   "source": [
    "feed_dict = {\n",
    "    gnn.placeholders['graph_state_keep_prob'] : keep_p,\n",
    "    gnn.placeholders['edge_weight_dropout_keep_prob'] : keep_p,\n",
    "    gnn.placeholders['initial_node_representation'] : initial_nodes_representations,\n",
    "    #gnn.placeholders['node_mask'] : adj,\n",
    "    gnn.placeholders['num_vertices'] : n_v,\n",
    "    gnn.placeholders['adjacency_matrix'] : adj,\n",
    "    \n",
    "    target : np.array([[0, 1], [0, 1]])\n",
    "}"
   ]
  }
 ],
 "metadata": {
  "kernelspec": {
   "display_name": "Python 3",
   "language": "python",
   "name": "python3"
  },
  "language_info": {
   "codemirror_mode": {
    "name": "ipython",
    "version": 3
   },
   "file_extension": ".py",
   "mimetype": "text/x-python",
   "name": "python",
   "nbconvert_exporter": "python",
   "pygments_lexer": "ipython3",
   "version": "3.6.3"
  }
 },
 "nbformat": 4,
 "nbformat_minor": 2
}
