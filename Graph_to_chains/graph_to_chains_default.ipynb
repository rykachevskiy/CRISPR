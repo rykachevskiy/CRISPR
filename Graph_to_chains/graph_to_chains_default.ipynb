{
 "cells": [
  {
   "cell_type": "code",
   "execution_count": 1,
   "metadata": {},
   "outputs": [
    {
     "name": "stderr",
     "output_type": "stream",
     "text": [
      "/home/anton/anaconda3/lib/python3.6/site-packages/h5py/__init__.py:34: FutureWarning: Conversion of the second argument of issubdtype from `float` to `np.floating` is deprecated. In future, it will be treated as `np.float64 == np.dtype(float).type`.\n",
      "  from ._conv import register_converters as _register_converters\n",
      "Using TensorFlow backend.\n"
     ]
    }
   ],
   "source": [
    "import tensorflow as tf\n",
    "\n",
    "from keras.layers import Dense, Flatten\n",
    "from keras.losses import categorical_crossentropy\n",
    "\n",
    "\n",
    "import numpy as np\n",
    "import matplotlib.pyplot as plt\n",
    "import json\n",
    "\n",
    "\n",
    "from IPython import display\n",
    "%matplotlib inline"
   ]
  },
  {
   "cell_type": "code",
   "execution_count": 2,
   "metadata": {},
   "outputs": [],
   "source": [
    "import sys\n",
    "sys.path.append(\"../\")\n",
    "sys.path.append(\"../utils/\")"
   ]
  },
  {
   "cell_type": "code",
   "execution_count": 3,
   "metadata": {},
   "outputs": [],
   "source": [
    "def plot_gr(gr, start=0, end=-1, log = False, all_ticks = False,  s=10):\n",
    "    plt.figure(figsize=(s,s))\n",
    "    if end == -1:\n",
    "        end = gr.shape[0]\n",
    "    if log:\n",
    "        plt.imshow(np.log(gr[start:end,start:end] + 1))\n",
    "    else:\n",
    "        plt.imshow(gr[start:end,start:end])\n",
    "    plt.colorbar()\n",
    "    if all_ticks: \n",
    "        plt.xticks(np.arange(start,end))\n",
    "        plt.yticks(np.arange(start,end))\n",
    "    plt.show()"
   ]
  },
  {
   "cell_type": "code",
   "execution_count": 4,
   "metadata": {},
   "outputs": [],
   "source": [
    "def plot_pair(x,y):\n",
    "    plt.figure(figsize=(s,s))\n",
    "    f, (a1,a2) = plt.subplots(1, 2)\n",
    "    \n",
    "    a1.imshow(x)\n",
    "    a2.imshow(y)\n",
    "    plt.show()"
   ]
  },
  {
   "cell_type": "code",
   "execution_count": 5,
   "metadata": {},
   "outputs": [],
   "source": [
    "def plot_group(*args, s = 7):\n",
    "    n = len(args) // 2\n",
    "    \n",
    "    plt.figure(figsize=(s,s))\n",
    "    f, a = plt.subplots(1, n,figsize=(s,s))\n",
    "    #f.set_figsize((s,s))\n",
    "    for i in range(n):\n",
    "        im = args[2*i]\n",
    "        if args[2*i + 1]:\n",
    "            im = np.log(im + 1)\n",
    "        a[i].imshow(im)\n",
    "\n",
    "    plt.show()"
   ]
  },
  {
   "cell_type": "code",
   "execution_count": 20,
   "metadata": {},
   "outputs": [],
   "source": [
    "synthetic_populations = np.load(\"../../data/simulation/35sp_1k/populations.npy\")\n",
    "y = np.load(\"../../data/simulation/35sp_1k/populations_gr.npy\")\n",
    "X = np.load(\"../../data/simulation/35sp_1k/amp_gr.npy\")\n",
    "\n",
    "params = json.load(open(\"../../data/simulation/35sp_1k/params.json\", 'r'))"
   ]
  },
  {
   "cell_type": "code",
   "execution_count": 7,
   "metadata": {},
   "outputs": [
    {
     "data": {
      "text/plain": [
       "(1000, 35, 35)"
      ]
     },
     "execution_count": 7,
     "metadata": {},
     "output_type": "execute_result"
    }
   ],
   "source": [
    "X.shape"
   ]
  },
  {
   "cell_type": "code",
   "execution_count": 8,
   "metadata": {},
   "outputs": [],
   "source": [
    "def norm(x):\n",
    "    maxes = x.max(2)\n",
    "    maxes[maxes == 0] = 1\n",
    "    print(maxes.astype(int))\n",
    "    return x / maxes.reshape(x.shape[0], x.shape[1], 1)"
   ]
  },
  {
   "cell_type": "code",
   "execution_count": 9,
   "metadata": {},
   "outputs": [
    {
     "data": {
      "text/plain": [
       "array([  0., 486.,   0.,   0.,   0.,   0.,   0.,   0.,   0., 328., 169.,\n",
       "         0.,   0., 450.,   0.,  88.,   0.,   1.,   0.,   0., 492., 260.,\n",
       "         0.,   0.,   0.,   0.,   0.,   0., 412., 694.,   0.,   0.,   0.,\n",
       "         0., 378.])"
      ]
     },
     "execution_count": 9,
     "metadata": {},
     "output_type": "execute_result"
    }
   ],
   "source": [
    "X[0].max(1)"
   ]
  },
  {
   "cell_type": "code",
   "execution_count": 22,
   "metadata": {},
   "outputs": [
    {
     "name": "stdout",
     "output_type": "stream",
     "text": [
      "[[  1 486   1 ...   1   1 378]\n",
      " [434  90 495 ...   1   2   1]\n",
      " [112   1 291 ...   1   1   1]\n",
      " ...\n",
      " [  1   1   1 ... 113   1 337]\n",
      " [  1   1 539 ... 493 354   1]\n",
      " [175   1   1 ... 399 397 280]]\n"
     ]
    }
   ],
   "source": [
    "X = norm(X)"
   ]
  },
  {
   "cell_type": "code",
   "execution_count": 14,
   "metadata": {},
   "outputs": [
    {
     "data": {
      "text/plain": [
       "<matplotlib.figure.Figure at 0x7efc29b7bac8>"
      ]
     },
     "metadata": {},
     "output_type": "display_data"
    },
    {
     "data": {
      "image/png": "[encoded data removed]",
      "text/plain": [
       "<matplotlib.figure.Figure at 0x7efc29c37e80>"
      ]
     },
     "metadata": {},
     "output_type": "display_data"
    }
   ],
   "source": [
    "plot_group(X[3], 1, X[1], 1)"
   ]
  },
  {
   "cell_type": "code",
   "execution_count": 15,
   "metadata": {},
   "outputs": [
    {
     "data": {
      "text/plain": [
       "{'N_POPULATONS': 1000,\n",
       " 'N_SPACERS': 35,\n",
       " 'N_CHAINS': 6,\n",
       " 'MAX_LEN': 13,\n",
       " 'SWITCH_PROB': 0.05,\n",
       " 'AMPLIFY_PROB': 0.35,\n",
       " 'STOP_PROB': 0,\n",
       " 'MAX_POPULATION_SIZE': 10000}"
      ]
     },
     "execution_count": 15,
     "metadata": {},
     "output_type": "execute_result"
    }
   ],
   "source": [
    "params"
   ]
  },
  {
   "cell_type": "code",
   "execution_count": 21,
   "metadata": {},
   "outputs": [
    {
     "data": {
      "image/png": "[encoded data removed]",
      "text/plain": [
       "<matplotlib.figure.Figure at 0x7efc29928ba8>"
      ]
     },
     "metadata": {},
     "output_type": "display_data"
    }
   ],
   "source": [
    "plot_gr(X[5], log = 1)"
   ]
  },
  {
   "cell_type": "code",
   "execution_count": 17,
   "metadata": {},
   "outputs": [
    {
     "data": {
      "text/plain": [
       "<matplotlib.image.AxesImage at 0x7efc29a5dba8>"
      ]
     },
     "execution_count": 17,
     "metadata": {},
     "output_type": "execute_result"
    },
    {
     "data": {
      "image/png": "[encoded data removed]",
      "text/plain": [
       "<matplotlib.figure.Figure at 0x7efc29b09198>"
      ]
     },
     "metadata": {},
     "output_type": "display_data"
    }
   ],
   "source": [
    "plt.imshow(y[5])"
   ]
  },
  {
   "cell_type": "code",
   "execution_count": 70,
   "metadata": {},
   "outputs": [],
   "source": [
    "tf.reset_default_graph()\n",
    "sess = tf.InteractiveSession()"
   ]
  },
  {
   "cell_type": "code",
   "execution_count": 71,
   "metadata": {},
   "outputs": [],
   "source": [
    "inp = tf.placeholder(tf.float32, [None, params[\"N_SPACERS\"] * params[\"N_SPACERS\"]])\n",
    "\n",
    "#flatten = Flatten()(inp)\n",
    "dense_1 = Dense(200, activation=tf.nn.relu)(inp)\n",
    "dense_2 = Dense(200, activation=tf.nn.relu)(dense_1)\n",
    "\n",
    "out = Dense(params[\"N_SPACERS\"] * params[\"N_SPACERS\"], activation=tf.nn.sigmoid)(dense_2)"
   ]
  },
  {
   "cell_type": "code",
   "execution_count": 72,
   "metadata": {},
   "outputs": [],
   "source": [
    "target = tf.placeholder(tf.float32, [None, params[\"N_SPACERS\"]* params[\"N_SPACERS\"]])"
   ]
  },
  {
   "cell_type": "code",
   "execution_count": 73,
   "metadata": {},
   "outputs": [],
   "source": [
    "loss = tf.reduce_mean(tf.losses.log_loss(target, out, weights=target*35 + 1))\n",
    "#loss = tf.reduce_mean(tf.losses.mean_squared_error(target, out) * (target * 10 + 1))"
   ]
  },
  {
   "cell_type": "code",
   "execution_count": 74,
   "metadata": {},
   "outputs": [],
   "source": [
    "optimizer = tf.train.AdamOptimizer()\n",
    "train_step = optimizer.minimize(loss)"
   ]
  },
  {
   "cell_type": "code",
   "execution_count": null,
   "metadata": {},
   "outputs": [],
   "source": []
  },
  {
   "cell_type": "code",
   "execution_count": 75,
   "metadata": {},
   "outputs": [],
   "source": [
    "\n",
    "#sess = tf.InteractiveSession()\n",
    "sess.run(tf.global_variables_initializer())"
   ]
  },
  {
   "cell_type": "code",
   "execution_count": 76,
   "metadata": {},
   "outputs": [],
   "source": [
    "gr = tf.get_default_graph()\n",
    "\n",
    "writer = tf.summary.FileWriter(\"../tf_logs\", gr)"
   ]
  },
  {
   "cell_type": "code",
   "execution_count": 77,
   "metadata": {},
   "outputs": [
    {
     "data": {
      "text/plain": [
       "0.96118504"
      ]
     },
     "execution_count": 77,
     "metadata": {},
     "output_type": "execute_result"
    }
   ],
   "source": [
    "sess.run(loss, feed_dict = {inp : X[:50].reshape(-1, 35 * 35), target : y[:50].reshape(-1, 35 * 35)})"
   ]
  },
  {
   "cell_type": "code",
   "execution_count": null,
   "metadata": {},
   "outputs": [],
   "source": []
  },
  {
   "cell_type": "code",
   "execution_count": 78,
   "metadata": {},
   "outputs": [],
   "source": [
    "losses_each_n = []\n",
    "val_losses = []\n",
    "val_x = []\n",
    "n = 10\n",
    "curr_loss = 0\n"
   ]
  },
  {
   "cell_type": "code",
   "execution_count": 79,
   "metadata": {},
   "outputs": [],
   "source": [
    "epochs = 100"
   ]
  },
  {
   "cell_type": "code",
   "execution_count": 80,
   "metadata": {},
   "outputs": [],
   "source": [
    "def iterate_minibatches(x, y, batchsize, shuffle=True):\n",
    "    if shuffle:\n",
    "        indices = np.arange(y.shape[0])\n",
    "        np.random.shuffle(indices)\n",
    "    for start_idx in range(0, y.shape[0] - batchsize + 1, batchsize):\n",
    "        if shuffle:\n",
    "            excerpt = indices[start_idx:start_idx + batchsize]\n",
    "        else:\n",
    "            excerpt = slice(start_idx, start_idx + batchsize)\n",
    "        yield x[excerpt].reshape(-1,params[\"N_SPACERS\"] * params[\"N_SPACERS\"]) , y[excerpt].reshape(-1,params[\"N_SPACERS\"] * params[\"N_SPACERS\"])"
   ]
  },
  {
   "cell_type": "code",
   "execution_count": 81,
   "metadata": {
    "scrolled": false
   },
   "outputs": [
    {
     "data": {
      "image/png": "[encoded data removed]",
      "text/plain": [
       "<matplotlib.figure.Figure at 0x7efc200729b0>"
      ]
     },
     "metadata": {},
     "output_type": "display_data"
    },
    {
     "ename": "KeyboardInterrupt",
     "evalue": "",
     "output_type": "error",
     "traceback": [
      "\u001b[0;31m---------------------------------------------------------------------------\u001b[0m",
      "\u001b[0;31mKeyboardInterrupt\u001b[0m                         Traceback (most recent call last)",
      "\u001b[0;32m<ipython-input-81-c0373bd57f5e>\u001b[0m in \u001b[0;36m<module>\u001b[0;34m()\u001b[0m\n\u001b[1;32m      2\u001b[0m     \u001b[0;32mfor\u001b[0m \u001b[0mi\u001b[0m\u001b[0;34m,\u001b[0m \u001b[0;34m(\u001b[0m\u001b[0mbatch_X\u001b[0m\u001b[0;34m,\u001b[0m \u001b[0mbatch_y\u001b[0m\u001b[0;34m)\u001b[0m \u001b[0;32min\u001b[0m \u001b[0menumerate\u001b[0m\u001b[0;34m(\u001b[0m\u001b[0miterate_minibatches\u001b[0m\u001b[0;34m(\u001b[0m\u001b[0mX\u001b[0m\u001b[0;34m[\u001b[0m\u001b[0;34m:\u001b[0m\u001b[0;36m800\u001b[0m\u001b[0;34m]\u001b[0m\u001b[0;34m,\u001b[0m \u001b[0my\u001b[0m\u001b[0;34m[\u001b[0m\u001b[0;34m:\u001b[0m\u001b[0;36m800\u001b[0m\u001b[0;34m]\u001b[0m\u001b[0;34m,\u001b[0m \u001b[0;36m20\u001b[0m\u001b[0;34m)\u001b[0m\u001b[0;34m)\u001b[0m\u001b[0;34m:\u001b[0m\u001b[0;34m\u001b[0m\u001b[0m\n\u001b[1;32m      3\u001b[0m \u001b[0;34m\u001b[0m\u001b[0m\n\u001b[0;32m----> 4\u001b[0;31m         \u001b[0mbatch_loss\u001b[0m \u001b[0;34m=\u001b[0m \u001b[0msess\u001b[0m\u001b[0;34m.\u001b[0m\u001b[0mrun\u001b[0m\u001b[0;34m(\u001b[0m\u001b[0;34m[\u001b[0m\u001b[0mtrain_step\u001b[0m\u001b[0;34m,\u001b[0m\u001b[0mloss\u001b[0m\u001b[0;34m]\u001b[0m\u001b[0;34m,\u001b[0m \u001b[0mfeed_dict\u001b[0m\u001b[0;34m=\u001b[0m\u001b[0;34m{\u001b[0m\u001b[0minp\u001b[0m \u001b[0;34m:\u001b[0m \u001b[0mbatch_X\u001b[0m\u001b[0;34m,\u001b[0m \u001b[0mtarget\u001b[0m\u001b[0;34m:\u001b[0m \u001b[0mbatch_y\u001b[0m\u001b[0;34m}\u001b[0m\u001b[0;34m)\u001b[0m\u001b[0;34m\u001b[0m\u001b[0m\n\u001b[0m\u001b[1;32m      5\u001b[0m         \u001b[0mcurr_loss\u001b[0m \u001b[0;34m+=\u001b[0m \u001b[0mbatch_loss\u001b[0m\u001b[0;34m[\u001b[0m\u001b[0;36m1\u001b[0m\u001b[0;34m]\u001b[0m\u001b[0;34m\u001b[0m\u001b[0m\n\u001b[1;32m      6\u001b[0m \u001b[0;34m\u001b[0m\u001b[0m\n",
      "\u001b[0;32m~/anaconda3/lib/python3.6/site-packages/tensorflow/python/client/session.py\u001b[0m in \u001b[0;36mrun\u001b[0;34m(self, fetches, feed_dict, options, run_metadata)\u001b[0m\n\u001b[1;32m    893\u001b[0m     \u001b[0;32mtry\u001b[0m\u001b[0;34m:\u001b[0m\u001b[0;34m\u001b[0m\u001b[0m\n\u001b[1;32m    894\u001b[0m       result = self._run(None, fetches, feed_dict, options_ptr,\n\u001b[0;32m--> 895\u001b[0;31m                          run_metadata_ptr)\n\u001b[0m\u001b[1;32m    896\u001b[0m       \u001b[0;32mif\u001b[0m \u001b[0mrun_metadata\u001b[0m\u001b[0;34m:\u001b[0m\u001b[0;34m\u001b[0m\u001b[0m\n\u001b[1;32m    897\u001b[0m         \u001b[0mproto_data\u001b[0m \u001b[0;34m=\u001b[0m \u001b[0mtf_session\u001b[0m\u001b[0;34m.\u001b[0m\u001b[0mTF_GetBuffer\u001b[0m\u001b[0;34m(\u001b[0m\u001b[0mrun_metadata_ptr\u001b[0m\u001b[0;34m)\u001b[0m\u001b[0;34m\u001b[0m\u001b[0m\n",
      "\u001b[0;32m~/anaconda3/lib/python3.6/site-packages/tensorflow/python/client/session.py\u001b[0m in \u001b[0;36m_run\u001b[0;34m(self, handle, fetches, feed_dict, options, run_metadata)\u001b[0m\n\u001b[1;32m   1126\u001b[0m     \u001b[0;32mif\u001b[0m \u001b[0mfinal_fetches\u001b[0m \u001b[0;32mor\u001b[0m \u001b[0mfinal_targets\u001b[0m \u001b[0;32mor\u001b[0m \u001b[0;34m(\u001b[0m\u001b[0mhandle\u001b[0m \u001b[0;32mand\u001b[0m \u001b[0mfeed_dict_tensor\u001b[0m\u001b[0;34m)\u001b[0m\u001b[0;34m:\u001b[0m\u001b[0;34m\u001b[0m\u001b[0m\n\u001b[1;32m   1127\u001b[0m       results = self._do_run(handle, final_targets, final_fetches,\n\u001b[0;32m-> 1128\u001b[0;31m                              feed_dict_tensor, options, run_metadata)\n\u001b[0m\u001b[1;32m   1129\u001b[0m     \u001b[0;32melse\u001b[0m\u001b[0;34m:\u001b[0m\u001b[0;34m\u001b[0m\u001b[0m\n\u001b[1;32m   1130\u001b[0m       \u001b[0mresults\u001b[0m \u001b[0;34m=\u001b[0m \u001b[0;34m[\u001b[0m\u001b[0;34m]\u001b[0m\u001b[0;34m\u001b[0m\u001b[0m\n",
      "\u001b[0;32m~/anaconda3/lib/python3.6/site-packages/tensorflow/python/client/session.py\u001b[0m in \u001b[0;36m_do_run\u001b[0;34m(self, handle, target_list, fetch_list, feed_dict, options, run_metadata)\u001b[0m\n\u001b[1;32m   1342\u001b[0m     \u001b[0;32mif\u001b[0m \u001b[0mhandle\u001b[0m \u001b[0;32mis\u001b[0m \u001b[0;32mNone\u001b[0m\u001b[0;34m:\u001b[0m\u001b[0;34m\u001b[0m\u001b[0m\n\u001b[1;32m   1343\u001b[0m       return self._do_call(_run_fn, self._session, feeds, fetches, targets,\n\u001b[0;32m-> 1344\u001b[0;31m                            options, run_metadata)\n\u001b[0m\u001b[1;32m   1345\u001b[0m     \u001b[0;32melse\u001b[0m\u001b[0;34m:\u001b[0m\u001b[0;34m\u001b[0m\u001b[0m\n\u001b[1;32m   1346\u001b[0m       \u001b[0;32mreturn\u001b[0m \u001b[0mself\u001b[0m\u001b[0;34m.\u001b[0m\u001b[0m_do_call\u001b[0m\u001b[0;34m(\u001b[0m\u001b[0m_prun_fn\u001b[0m\u001b[0;34m,\u001b[0m \u001b[0mself\u001b[0m\u001b[0;34m.\u001b[0m\u001b[0m_session\u001b[0m\u001b[0;34m,\u001b[0m \u001b[0mhandle\u001b[0m\u001b[0;34m,\u001b[0m \u001b[0mfeeds\u001b[0m\u001b[0;34m,\u001b[0m \u001b[0mfetches\u001b[0m\u001b[0;34m)\u001b[0m\u001b[0;34m\u001b[0m\u001b[0m\n",
      "\u001b[0;32m~/anaconda3/lib/python3.6/site-packages/tensorflow/python/client/session.py\u001b[0m in \u001b[0;36m_do_call\u001b[0;34m(self, fn, *args)\u001b[0m\n\u001b[1;32m   1348\u001b[0m   \u001b[0;32mdef\u001b[0m \u001b[0m_do_call\u001b[0m\u001b[0;34m(\u001b[0m\u001b[0mself\u001b[0m\u001b[0;34m,\u001b[0m \u001b[0mfn\u001b[0m\u001b[0;34m,\u001b[0m \u001b[0;34m*\u001b[0m\u001b[0margs\u001b[0m\u001b[0;34m)\u001b[0m\u001b[0;34m:\u001b[0m\u001b[0;34m\u001b[0m\u001b[0m\n\u001b[1;32m   1349\u001b[0m     \u001b[0;32mtry\u001b[0m\u001b[0;34m:\u001b[0m\u001b[0;34m\u001b[0m\u001b[0m\n\u001b[0;32m-> 1350\u001b[0;31m       \u001b[0;32mreturn\u001b[0m \u001b[0mfn\u001b[0m\u001b[0;34m(\u001b[0m\u001b[0;34m*\u001b[0m\u001b[0margs\u001b[0m\u001b[0;34m)\u001b[0m\u001b[0;34m\u001b[0m\u001b[0m\n\u001b[0m\u001b[1;32m   1351\u001b[0m     \u001b[0;32mexcept\u001b[0m \u001b[0merrors\u001b[0m\u001b[0;34m.\u001b[0m\u001b[0mOpError\u001b[0m \u001b[0;32mas\u001b[0m \u001b[0me\u001b[0m\u001b[0;34m:\u001b[0m\u001b[0;34m\u001b[0m\u001b[0m\n\u001b[1;32m   1352\u001b[0m       \u001b[0mmessage\u001b[0m \u001b[0;34m=\u001b[0m \u001b[0mcompat\u001b[0m\u001b[0;34m.\u001b[0m\u001b[0mas_text\u001b[0m\u001b[0;34m(\u001b[0m\u001b[0me\u001b[0m\u001b[0;34m.\u001b[0m\u001b[0mmessage\u001b[0m\u001b[0;34m)\u001b[0m\u001b[0;34m\u001b[0m\u001b[0m\n",
      "\u001b[0;32m~/anaconda3/lib/python3.6/site-packages/tensorflow/python/client/session.py\u001b[0m in \u001b[0;36m_run_fn\u001b[0;34m(session, feed_dict, fetch_list, target_list, options, run_metadata)\u001b[0m\n\u001b[1;32m   1327\u001b[0m           return tf_session.TF_Run(session, options,\n\u001b[1;32m   1328\u001b[0m                                    \u001b[0mfeed_dict\u001b[0m\u001b[0;34m,\u001b[0m \u001b[0mfetch_list\u001b[0m\u001b[0;34m,\u001b[0m \u001b[0mtarget_list\u001b[0m\u001b[0;34m,\u001b[0m\u001b[0;34m\u001b[0m\u001b[0m\n\u001b[0;32m-> 1329\u001b[0;31m                                    status, run_metadata)\n\u001b[0m\u001b[1;32m   1330\u001b[0m \u001b[0;34m\u001b[0m\u001b[0m\n\u001b[1;32m   1331\u001b[0m     \u001b[0;32mdef\u001b[0m \u001b[0m_prun_fn\u001b[0m\u001b[0;34m(\u001b[0m\u001b[0msession\u001b[0m\u001b[0;34m,\u001b[0m \u001b[0mhandle\u001b[0m\u001b[0;34m,\u001b[0m \u001b[0mfeed_dict\u001b[0m\u001b[0;34m,\u001b[0m \u001b[0mfetch_list\u001b[0m\u001b[0;34m)\u001b[0m\u001b[0;34m:\u001b[0m\u001b[0;34m\u001b[0m\u001b[0m\n",
      "\u001b[0;31mKeyboardInterrupt\u001b[0m: "
     ]
    }
   ],
   "source": [
    "for epoch in range(epochs):\n",
    "    for i, (batch_X, batch_y) in enumerate(iterate_minibatches(X[:800], y[:800], 20)):\n",
    "\n",
    "        batch_loss = sess.run([train_step,loss], feed_dict={inp : batch_X, target: batch_y})\n",
    "        curr_loss += batch_loss[1]\n",
    "\n",
    "        if i % n == 0:\n",
    "            if i != 0:\n",
    "                losses_each_n.append( curr_loss / n)\n",
    "            \n",
    "            curr_loss = 0\n",
    "\n",
    "\n",
    "            display.clear_output(wait=True)\n",
    "            plt.plot(losses_each_n[1:], label='train')\n",
    "            plt.plot(val_x, val_losses, label='test')\n",
    "            plt.legend()\n",
    "            plt.show()\n",
    "            \n",
    "    val_loss = sess.run(loss,  feed_dict={inp : X[800:].reshape(-1, 35 * 35), target: y[800:].reshape(-1, 35 * 35)})\n",
    "    val_losses.append(val_loss)\n",
    "    val_x.append(len(losses_each_n))\n",
    "    \n",
    "    curr_loss == 0\n",
    "\n",
    "        #print(batch_loss[1])"
   ]
  },
  {
   "cell_type": "code",
   "execution_count": 94,
   "metadata": {},
   "outputs": [],
   "source": [
    "gr = np.load(\"../../data/graphs/ES3_22.npy\")[:35,:35]"
   ]
  },
  {
   "cell_type": "code",
   "execution_count": 56,
   "metadata": {},
   "outputs": [
    {
     "data": {
      "text/plain": [
       "array([ 9224, 17455,  4956,  3815,  8568,  2941,  3022,  3059,  2268,\n",
       "        1809,  1174,     2,  1845,  1067,  1432,   619,     2,  1019,\n",
       "         102,   289,    86,    77,    69,    69,    18,    30,    38,\n",
       "          52,    42,     1,    42,    24,    24,    14,     0])"
      ]
     },
     "execution_count": 56,
     "metadata": {},
     "output_type": "execute_result"
    }
   ],
   "source": [
    "gr.max(1).astype(int)"
   ]
  },
  {
   "cell_type": "code",
   "execution_count": 51,
   "metadata": {},
   "outputs": [
    {
     "data": {
      "image/png": "[encoded data removed]",
      "text/plain": [
       "<matplotlib.figure.Figure at 0x7efc19f877f0>"
      ]
     },
     "metadata": {},
     "output_type": "display_data"
    }
   ],
   "source": [
    "plot_gr(gr)"
   ]
  },
  {
   "cell_type": "code",
   "execution_count": 60,
   "metadata": {},
   "outputs": [
    {
     "data": {
      "image/png": "[encoded data removed]",
      "text/plain": [
       "<matplotlib.figure.Figure at 0x7efc2fe49e48>"
      ]
     },
     "metadata": {},
     "output_type": "display_data"
    }
   ],
   "source": [
    "plot_gr(gr_n, log = 1)"
   ]
  },
  {
   "cell_type": "code",
   "execution_count": 59,
   "metadata": {
    "scrolled": true
   },
   "outputs": [],
   "source": [
    "#gr_n = gr / gr.max(1).reshape(-1,1)\n",
    "gr_n[-1] = 0"
   ]
  },
  {
   "cell_type": "code",
   "execution_count": null,
   "metadata": {},
   "outputs": [],
   "source": []
  },
  {
   "cell_type": "code",
   "execution_count": 82,
   "metadata": {},
   "outputs": [],
   "source": [
    "gr_out = sess.run(out, feed_dict = {inp : gr_n.reshape(-1,35 * 35)}).reshape(35,35)"
   ]
  },
  {
   "cell_type": "code",
   "execution_count": 98,
   "metadata": {},
   "outputs": [
    {
     "data": {
      "image/png": "[encoded data removed]",
      "text/plain": [
       "<matplotlib.figure.Figure at 0x7efbdb2cce48>"
      ]
     },
     "metadata": {},
     "output_type": "display_data"
    }
   ],
   "source": [
    "plot_gr(gr.astype(int), log = 1)"
   ]
  },
  {
   "cell_type": "code",
   "execution_count": 338,
   "metadata": {},
   "outputs": [
    {
     "data": {
      "text/plain": [
       "<matplotlib.figure.Figure at 0x7f6d73b5b588>"
      ]
     },
     "metadata": {},
     "output_type": "display_data"
    },
    {
     "data": {
      "image/png": "[encoded data removed]",
      "text/plain": [
       "<matplotlib.figure.Figure at 0x7f6dac0e9c88>"
      ]
     },
     "metadata": {},
     "output_type": "display_data"
    }
   ],
   "source": [
    "ind = 800\n",
    "\n",
    "gr = sess.run(out, feed_dict = {inp : np.hstack((X, X_emb[:,:5]))[ind].reshape(-1,150)}).reshape(10,10)\n",
    "plot_group(gr , 0, y[ind], 0,  X[ind], 1, s = 10)"
   ]
  },
  {
   "cell_type": "code",
   "execution_count": 330,
   "metadata": {},
   "outputs": [],
   "source": [
    "gr = sess.run(out, feed_dict = {inp : np.hstack((X, X_emb[:,:5]))[800:].reshape(-1,150)}).reshape(200, 10,10)"
   ]
  },
  {
   "cell_type": "code",
   "execution_count": 331,
   "metadata": {
    "scrolled": true
   },
   "outputs": [
    {
     "data": {
      "text/plain": [
       "<matplotlib.figure.Figure at 0x7f6d73ba1080>"
      ]
     },
     "metadata": {},
     "output_type": "display_data"
    },
    {
     "data": {
      "image/png": "[encoded data removed]",
      "text/plain": [
       "<matplotlib.figure.Figure at 0x7f6d73ba1208>"
      ]
     },
     "metadata": {},
     "output_type": "display_data"
    }
   ],
   "source": [
    "plot_group(gr[0] > 0.5, 0, y[800], 0)"
   ]
  },
  {
   "cell_type": "code",
   "execution_count": 250,
   "metadata": {},
   "outputs": [],
   "source": [
    "from sklearn.metrics import log_loss, accuracy_score"
   ]
  },
  {
   "cell_type": "code",
   "execution_count": 334,
   "metadata": {},
   "outputs": [],
   "source": [
    "loss = 0\n",
    "for i in range(200):\n",
    "    loss += accuracy_score(y[i + 800], gr[i] > 0.5)"
   ]
  },
  {
   "cell_type": "code",
   "execution_count": 335,
   "metadata": {},
   "outputs": [
    {
     "data": {
      "text/plain": [
       "0.8290000000000015"
      ]
     },
     "execution_count": 335,
     "metadata": {},
     "output_type": "execute_result"
    }
   ],
   "source": [
    "loss / 200"
   ]
  },
  {
   "cell_type": "code",
   "execution_count": null,
   "metadata": {},
   "outputs": [],
   "source": []
  },
  {
   "cell_type": "markdown",
   "metadata": {},
   "source": [
    "## Node2vec"
   ]
  },
  {
   "cell_type": "code",
   "execution_count": 20,
   "metadata": {},
   "outputs": [],
   "source": [
    "sys.path.append(\"../\")"
   ]
  },
  {
   "cell_type": "code",
   "execution_count": 263,
   "metadata": {},
   "outputs": [],
   "source": [
    "import main as n2v\n",
    "import node2vec as n2v_src\n",
    "import networkx as nx"
   ]
  },
  {
   "cell_type": "code",
   "execution_count": 272,
   "metadata": {},
   "outputs": [],
   "source": [
    "from importlib import reload\n",
    "n2v = reload(n2v)\n",
    "n2v_src = reload(n2v_src)"
   ]
  },
  {
   "cell_type": "code",
   "execution_count": 29,
   "metadata": {},
   "outputs": [
    {
     "data": {
      "image/png": "[encoded data removed]",
      "text/plain": [
       "<matplotlib.figure.Figure at 0x7f6dd2987588>"
      ]
     },
     "metadata": {},
     "output_type": "display_data"
    }
   ],
   "source": [
    "plot_gr(X[11], s =3)"
   ]
  },
  {
   "cell_type": "code",
   "execution_count": 269,
   "metadata": {},
   "outputs": [],
   "source": [
    "def gr_to_nxGr(graph):\n",
    "    nxG = nx.DiGraph()\n",
    "    for i in range(graph.shape[0]):\n",
    "        for j in range(graph.shape[1]):\n",
    "            nxG.add_edge(i, j, weight = graph[i,j])\n",
    "    return nxG"
   ]
  },
  {
   "cell_type": "code",
   "execution_count": 99,
   "metadata": {},
   "outputs": [],
   "source": [
    "def gr_to_emb(graph):\n",
    "    spacers_num = graph.shape[0]\n",
    "    \n",
    "    nx_gr = gr_to_nxGr(graph)\n",
    "    G = n2v_src.Graph(nx_gr, 1, 0.5, 0.5)\n",
    "    G.preprocess_transition_probs()\n",
    "    walks = G.simulate_walks(200, spacers_num)\n",
    "    model = n2v.learn_embeddings(walks, spacers_num, 5, 4, 100)\n",
    "    \n",
    "    E = np.zeros((spacers_num, spacers_num))\n",
    "    for i in range(spacers_num):\n",
    "        E[i] = model.wv.word_vec(str(i))\n",
    "    pca = PCA(n_components=spacers_num)\n",
    "    \n",
    "    return pca.fit_transform(E), walks"
   ]
  },
  {
   "cell_type": "code",
   "execution_count": 287,
   "metadata": {},
   "outputs": [],
   "source": [
    "emb, walks = gr_to_emb(X[2])"
   ]
  },
  {
   "cell_type": "code",
   "execution_count": 290,
   "metadata": {},
   "outputs": [],
   "source": [
    "X_emb = np.zeros_like(X)"
   ]
  },
  {
   "cell_type": "code",
   "execution_count": 291,
   "metadata": {},
   "outputs": [],
   "source": [
    "from tqdm import tqdm_notebook"
   ]
  },
  {
   "cell_type": "code",
   "execution_count": 295,
   "metadata": {},
   "outputs": [
    {
     "data": {
      "application/vnd.jupyter.widget-view+json": {
       "model_id": "8d96b5c1dcee488fbd20ae0c226216f8",
       "version_major": 2,
       "version_minor": 0
      },
      "text/plain": [
       "A Jupyter Widget"
      ]
     },
     "metadata": {},
     "output_type": "display_data"
    },
    {
     "name": "stderr",
     "output_type": "stream",
     "text": [
      "../node2vec/src/node2vec.py:87: RuntimeWarning: invalid value encountered in double_scalars\n",
      "  normalized_probs =  [float(u_prob)/norm_const for u_prob in unnormalized_probs]\n",
      "../node2vec/src/node2vec.py:72: RuntimeWarning: invalid value encountered in double_scalars\n",
      "  normalized_probs =  [float(u_prob)/norm_const for u_prob in unnormalized_probs]\n"
     ]
    },
    {
     "name": "stdout",
     "output_type": "stream",
     "text": [
      "\n"
     ]
    }
   ],
   "source": [
    "for i, x in enumerate(tqdm_notebook(X)):\n",
    "    emb, walks = gr_to_emb(x)\n",
    "    X_emb[i] = emb"
   ]
  },
  {
   "cell_type": "code",
   "execution_count": 296,
   "metadata": {},
   "outputs": [],
   "source": [
    "np.save(\"../../data/simulation/simple1k/embs\", X_emb)"
   ]
  },
  {
   "cell_type": "code",
   "execution_count": 288,
   "metadata": {},
   "outputs": [
    {
     "data": {
      "text/plain": [
       "<matplotlib.figure.Figure at 0x7f6dac08c780>"
      ]
     },
     "metadata": {},
     "output_type": "display_data"
    },
    {
     "data": {
      "image/png": "[encoded data removed]",
      "text/plain": [
       "<matplotlib.figure.Figure at 0x7f6d84fdbfd0>"
      ]
     },
     "metadata": {},
     "output_type": "display_data"
    }
   ],
   "source": [
    "plot_group(emb, 0, X[2], 0)"
   ]
  },
  {
   "cell_type": "code",
   "execution_count": 289,
   "metadata": {},
   "outputs": [
    {
     "data": {
      "text/plain": [
       "<matplotlib.figure.Figure at 0x7f6dd2adc748>"
      ]
     },
     "metadata": {},
     "output_type": "display_data"
    },
    {
     "data": {
      "image/png": "[encoded data removed]",
      "text/plain": [
       "<matplotlib.figure.Figure at 0x7f6dd27c37b8>"
      ]
     },
     "metadata": {},
     "output_type": "display_data"
    }
   ],
   "source": [
    "plot_group(emb, 0, X[1], 0)"
   ]
  },
  {
   "cell_type": "code",
   "execution_count": 103,
   "metadata": {},
   "outputs": [],
   "source": [
    "from sklearn.decomposition import PCA"
   ]
  },
  {
   "cell_type": "code",
   "execution_count": 104,
   "metadata": {},
   "outputs": [],
   "source": [
    "pca = PCA(n_components=2)"
   ]
  },
  {
   "cell_type": "code",
   "execution_count": 105,
   "metadata": {},
   "outputs": [
    {
     "data": {
      "text/plain": [
       "array([[-1.04583212,  0.44248204],\n",
       "       [ 1.13473591,  0.04076436],\n",
       "       [ 1.27760196,  0.00648308],\n",
       "       [-0.85260869, -0.25610945],\n",
       "       [-0.77946134,  0.16066381],\n",
       "       [ 1.2406656 ,  0.09062604],\n",
       "       [-0.77474962, -0.2514189 ],\n",
       "       [-0.70512859, -0.28424838],\n",
       "       [ 1.20216892, -0.0827374 ],\n",
       "       [-0.69739203,  0.13349479]])"
      ]
     },
     "execution_count": 105,
     "metadata": {},
     "output_type": "execute_result"
    }
   ],
   "source": [
    "pca.fit_transform(E)"
   ]
  },
  {
   "cell_type": "code",
   "execution_count": 106,
   "metadata": {},
   "outputs": [
    {
     "data": {
      "text/plain": [
       "<matplotlib.collections.PathCollection at 0x7f6dd2af2710>"
      ]
     },
     "execution_count": 106,
     "metadata": {},
     "output_type": "execute_result"
    },
    {
     "data": {
      "image/png": "[encoded data removed]",
      "text/plain": [
       "<matplotlib.figure.Figure at 0x7f6dd2978a90>"
      ]
     },
     "metadata": {},
     "output_type": "display_data"
    }
   ],
   "source": [
    "plt.scatter(pca.fit_transform(E)[:,0], pca.fit_transform(E)[:, 1])"
   ]
  },
  {
   "cell_type": "code",
   "execution_count": null,
   "metadata": {},
   "outputs": [],
   "source": []
  },
  {
   "cell_type": "code",
   "execution_count": 84,
   "metadata": {},
   "outputs": [
    {
     "data": {
      "image/png": "[encoded data removed]",
      "text/plain": [
       "<matplotlib.figure.Figure at 0x7f6dd238f978>"
      ]
     },
     "metadata": {},
     "output_type": "display_data"
    }
   ],
   "source": [
    "plot_gr(gr, s=4,all_ticks=1)"
   ]
  },
  {
   "cell_type": "code",
   "execution_count": 81,
   "metadata": {},
   "outputs": [],
   "source": [
    "from gensim.models import Word2Vec"
   ]
  },
  {
   "cell_type": "code",
   "execution_count": 52,
   "metadata": {},
   "outputs": [
    {
     "data": {
      "text/plain": [
       "[[8, 0, 3, 4, 6, 7, 9, 4, 6, 7, 9, 7, 7, 7, 9, 7, 9, 4, 7, 9],\n",
       " [2, 0, 3, 4, 6, 7, 0, 3, 3, 4, 4, 6, 7, 9, 7, 9, 4, 9, 4, 6],\n",
       " [6, 7, 9, 4, 6, 7, 9, 4, 4, 4, 6, 7, 9, 7, 0, 7, 9, 4, 6, 7],\n",
       " [1, 0, 3, 4, 0, 3, 4, 6, 7, 7, 9, 7, 9, 4, 6, 7, 9, 3, 4, 4],\n",
       " [3, 4, 6, 7, 9, 4, 4, 6, 7, 7, 9, 4, 4, 6, 7, 0, 3, 4, 6, 7],\n",
       " [7, 0, 3, 3, 4, 6, 7, 9, 4, 6, 7, 0, 3, 4, 4, 4, 6, 7, 0, 6],\n",
       " [5, 0, 3, 4, 6, 7, 0, 3, 4, 6, 7, 9, 7, 9, 4, 6, 3, 4, 6, 7],\n",
       " [4, 6, 7, 9, 4, 6, 3, 4, 6, 7, 9, 4, 6, 7, 9, 4, 6, 7, 9, 7],\n",
       " [0, 3, 4, 3, 4, 6, 7, 7, 9, 7, 9, 4, 6, 7, 9, 4, 7, 7, 9, 7],\n",
       " [9, 7, 9, 4, 6, 4, 6, 6, 0, 3, 4, 6, 7, 9, 7, 9, 3, 4, 6, 7],\n",
       " [9, 4, 6, 7, 9, 4, 6, 7, 9, 7, 9, 7, 9, 3, 4, 6, 3, 4, 6, 7],\n",
       " [0, 4, 6, 3, 4, 6, 7, 9, 7, 0, 3, 3, 4, 6, 7, 9, 4, 6, 7, 0],\n",
       " [1, 0, 3, 4, 6, 7, 7, 7, 7, 0, 4, 6, 0, 3, 4, 4, 6, 7, 9, 7],\n",
       " [6, 7, 9, 4, 6, 7, 9, 4, 6, 7, 9, 4, 6, 7, 9, 3, 4, 6, 7, 3],\n",
       " [4, 6, 7, 9, 4, 6, 7, 0, 3, 4, 6, 7, 9, 4, 6, 7, 9, 4, 6, 7],\n",
       " [5, 0, 3, 3, 4, 6, 7, 9, 7, 9, 7, 9, 4, 7, 9, 7, 9, 4, 6, 7],\n",
       " [3, 3, 6, 9, 7, 9, 7, 9, 4, 6, 7, 7, 9, 4, 3, 4, 4, 6, 7, 0],\n",
       " [8, 0, 3, 3, 4, 4, 6, 7, 9, 3, 4, 6, 4, 6, 7, 4, 6, 7, 9, 4],\n",
       " [7, 9, 4, 9, 4, 6, 7, 0, 0, 4, 4, 7, 0, 3, 4, 3, 4, 6, 7, 9],\n",
       " [2, 0, 3, 0, 9, 3, 4, 6, 7, 9, 7, 9, 3, 4, 7, 9, 4, 6, 7, 7],\n",
       " [2, 0, 3, 4, 6, 7, 9, 4, 6, 6, 7, 9, 7, 9, 7, 9, 4, 7, 0, 3],\n",
       " [0, 3, 7, 0, 3, 4, 6, 7, 9, 7, 9, 4, 6, 7, 9, 4, 4, 4, 4, 4],\n",
       " [8, 0, 3, 4, 3, 4, 4, 6, 7, 9, 4, 6, 7, 4, 6, 7, 9, 7, 0, 4],\n",
       " [6, 7, 9, 4, 6, 9, 4, 6, 7, 7, 7, 9, 4, 3, 7, 9, 3, 4, 6, 7],\n",
       " [5, 0, 3, 4, 6, 4, 6, 7, 9, 4, 6, 7, 0, 4, 7, 9, 3, 4, 6, 7],\n",
       " [7, 9, 4, 6, 7, 7, 9, 7, 9, 7, 9, 4, 6, 7, 9, 7, 9, 4, 7, 9],\n",
       " [9, 4, 6, 7, 9, 4, 6, 7, 7, 9, 3, 4, 7, 4, 6, 7, 4, 6, 7, 9],\n",
       " [4, 6, 3, 4, 3, 4, 6, 7, 9, 7, 9, 7, 9, 3, 4, 6, 7, 9, 4, 6],\n",
       " [3, 4, 6, 7, 9, 7, 9, 4, 6, 7, 0, 3, 3, 4, 4, 4, 7, 9, 3, 4],\n",
       " [1, 0, 3, 4, 4, 6, 7, 9, 4, 6, 7, 0, 3, 0, 4, 4, 7, 9, 7, 9],\n",
       " [5, 0, 3, 4, 6, 7, 0, 3, 4, 7, 7, 0, 3, 4, 6, 7, 9, 4, 6, 4],\n",
       " [0, 3, 4, 6, 7, 9, 7, 9, 4, 6, 7, 0, 3, 4, 4, 6, 7, 9, 7, 9],\n",
       " [7, 9, 7, 9, 7, 9, 7, 9, 3, 4, 6, 9, 3, 4, 6, 4, 6, 7, 6, 7],\n",
       " [3, 4, 6, 4, 4, 6, 7, 0, 3, 3, 4, 6, 4, 6, 7, 9, 3, 4, 6, 7],\n",
       " [4, 3, 4, 6, 7, 9, 4, 6, 7, 4, 7, 0, 3, 4, 6, 7, 9, 4, 6, 6],\n",
       " [8, 0, 4, 6, 7, 4, 3, 4, 6, 7, 9, 4, 6, 7, 9, 4, 6, 3, 4, 6],\n",
       " [6, 7, 7, 9, 4, 6, 7, 9, 4, 3, 4, 6, 7, 9, 7, 9, 4, 6, 7, 4],\n",
       " [1, 0, 0, 3, 4, 4, 7, 9, 3, 4, 3, 4, 6, 7, 7, 7, 9, 4, 6, 7],\n",
       " [2, 0, 3, 4, 6, 7, 9, 3, 4, 4, 6, 3, 4, 6, 7, 9, 4, 6, 4, 6],\n",
       " [9, 4, 6, 7, 4, 6, 7, 9, 3, 4, 6, 7, 9, 4, 6, 7, 4, 6, 7, 9],\n",
       " [2, 0, 3, 4, 6, 7, 9, 4, 6, 7, 9, 4, 6, 7, 9, 7, 4, 6, 3, 3],\n",
       " [0, 3, 4, 7, 0, 4, 6, 9, 4, 6, 7, 4, 6, 4, 6, 7, 9, 3, 4, 6],\n",
       " [9, 4, 6, 7, 4, 6, 7, 9, 7, 9, 3, 4, 6, 7, 7, 9, 4, 6, 7, 0],\n",
       " [5, 0, 3, 4, 6, 7, 7, 9, 7, 9, 4, 6, 7, 9, 3, 4, 4, 6, 6, 7],\n",
       " [3, 4, 6, 7, 9, 7, 9, 4, 6, 7, 9, 4, 6, 3, 4, 6, 7, 7, 9, 4],\n",
       " [4, 6, 7, 9, 3, 4, 6, 4, 6, 7, 9, 7, 9, 4, 4, 6, 7, 4, 6, 7],\n",
       " [6, 7, 9, 4, 6, 4, 4, 4, 6, 7, 7, 9, 3, 4, 6, 7, 6, 7, 9, 4],\n",
       " [7, 9, 4, 9, 4, 6, 9, 4, 6, 7, 6, 7, 9, 4, 6, 7, 9, 3, 4, 6],\n",
       " [1, 0, 3, 4, 6, 7, 7, 7, 7, 9, 4, 6, 7, 9, 4, 6, 7, 9, 7, 9],\n",
       " [8, 0, 3, 4, 9, 7, 9, 4, 6, 7, 9, 4, 4, 7, 9, 4, 6, 7, 4, 6],\n",
       " [9, 3, 4, 6, 7, 9, 4, 6, 7, 9, 3, 4, 6, 7, 9, 7, 9, 7, 9, 4],\n",
       " [4, 6, 7, 9, 7, 3, 4, 6, 7, 9, 3, 3, 3, 4, 6, 3, 4, 7, 9, 4],\n",
       " [2, 0, 3, 4, 6, 7, 9, 3, 4, 4, 7, 9, 7, 4, 6, 3, 9, 3, 4, 6],\n",
       " [1, 0, 4, 6, 7, 9, 4, 6, 7, 9, 7, 0, 4, 4, 6, 7, 9, 3, 4, 6],\n",
       " [8, 0, 3, 4, 4, 6, 7, 3, 4, 6, 7, 0, 3, 4, 6, 7, 4, 6, 7, 9],\n",
       " [0, 3, 4, 6, 7, 9, 3, 4, 6, 7, 9, 4, 6, 7, 9, 4, 6, 7, 9, 7],\n",
       " [7, 4, 6, 0, 0, 3, 4, 6, 7, 9, 3, 6, 7, 9, 7, 9, 7, 9, 4, 6],\n",
       " [3, 4, 6, 4, 6, 7, 9, 4, 6, 7, 7, 9, 4, 6, 7, 4, 6, 7, 0, 3],\n",
       " [6, 7, 9, 3, 4, 6, 7, 7, 9, 3, 4, 6, 7, 9, 7, 9, 7, 9, 7, 9],\n",
       " [5, 0, 3, 4, 6, 3, 4, 6, 7, 9, 7, 0, 4, 6, 7, 9, 4, 7, 7, 9],\n",
       " [1, 0, 9, 7, 7, 9, 4, 6, 7, 9, 7, 9, 4, 6, 3, 4, 6, 7, 7, 9],\n",
       " [6, 7, 9, 3, 4, 6, 3, 3, 3, 6, 7, 7, 7, 9, 4, 6, 7, 9, 4, 7],\n",
       " [8, 0, 3, 4, 6, 7, 0, 3, 4, 6, 6, 7, 9, 4, 6, 7, 4, 9, 4, 6],\n",
       " [2, 0, 4, 6, 4, 6, 7, 0, 3, 4, 6, 7, 9, 7, 9, 4, 6, 3, 4, 6],\n",
       " [9, 4, 6, 4, 6, 7, 9, 4, 6, 3, 4, 6, 7, 0, 3, 4, 6, 4, 6, 7],\n",
       " [0, 3, 3, 4, 6, 4, 6, 7, 9, 4, 6, 7, 9, 3, 4, 4, 6, 4, 6, 7],\n",
       " [4, 6, 3, 4, 6, 7, 9, 7, 0, 3, 4, 6, 3, 4, 6, 7, 9, 4, 6, 7],\n",
       " [3, 6, 7, 0, 3, 6, 7, 9, 7, 9, 4, 6, 7, 9, 7, 9, 4, 6, 7, 9],\n",
       " [5, 0, 3, 4, 6, 7, 3, 3, 4, 6, 7, 7, 9, 3, 6, 7, 7, 0, 3, 3],\n",
       " [7, 0, 3, 4, 3, 4, 6, 7, 0, 3, 4, 6, 7, 6, 7, 9, 7, 9, 3, 4],\n",
       " [5, 0, 3, 4, 7, 9, 3, 4, 6, 4, 6, 7, 4, 6, 4, 4, 6, 7, 9, 7],\n",
       " [1, 0, 9, 4, 6, 7, 0, 3, 4, 6, 7, 9, 4, 6, 7, 9, 4, 7, 7, 4],\n",
       " [2, 0, 3, 4, 6, 7, 9, 7, 9, 7, 0, 3, 4, 3, 4, 6, 7, 3, 4, 4],\n",
       " [4, 6, 7, 9, 4, 6, 7, 9, 7, 9, 4, 7, 7, 7, 9, 4, 6, 7, 9, 3],\n",
       " [6, 7, 9, 4, 6, 7, 7, 9, 3, 4, 6, 7, 9, 4, 6, 7, 9, 4, 7, 9],\n",
       " [0, 3, 4, 4, 6, 7, 9, 3, 9, 3, 4, 6, 7, 9, 7, 9, 7, 9, 3, 4],\n",
       " [7, 0, 3, 3, 4, 6, 7, 9, 4, 6, 7, 9, 7, 9, 7, 9, 3, 4, 6, 7],\n",
       " [8, 0, 3, 4, 7, 9, 7, 9, 4, 6, 7, 9, 4, 6, 7, 4, 6, 7, 7, 9],\n",
       " [9, 7, 7, 9, 7, 4, 6, 7, 9, 4, 6, 7, 7, 9, 7, 9, 7, 9, 7, 9],\n",
       " [3, 4, 6, 7, 9, 3, 4, 6, 7, 9, 3, 4, 6, 4, 6, 7, 3, 4, 6, 7],\n",
       " [2, 0, 3, 4, 6, 7, 9, 4, 6, 4, 6, 7, 9, 3, 4, 6, 7, 7, 9, 4],\n",
       " [9, 4, 6, 3, 4, 6, 7, 9, 3, 4, 4, 3, 4, 7, 9, 7, 9, 7, 9, 7],\n",
       " [8, 0, 3, 4, 6, 7, 9, 4, 6, 7, 9, 7, 9, 4, 4, 6, 9, 4, 6, 7],\n",
       " [4, 6, 7, 9, 7, 4, 6, 7, 9, 7, 7, 0, 4, 6, 7, 9, 4, 6, 7, 9],\n",
       " [3, 4, 6, 4, 4, 6, 4, 6, 7, 7, 9, 3, 4, 6, 9, 4, 6, 7, 9, 7],\n",
       " [7, 9, 4, 6, 7, 9, 4, 6, 7, 7, 9, 3, 4, 6, 7, 9, 4, 6, 7, 7],\n",
       " [5, 0, 3, 4, 6, 7, 9, 7, 9, 3, 4, 4, 6, 7, 4, 6, 7, 9, 4, 6],\n",
       " [1, 0, 3, 4, 6, 7, 9, 4, 6, 7, 4, 4, 6, 7, 4, 7, 9, 7, 9, 4],\n",
       " [0, 3, 4, 6, 7, 7, 7, 7, 9, 4, 7, 9, 7, 9, 7, 9, 3, 4, 6, 7],\n",
       " [6, 7, 0, 3, 4, 6, 7, 9, 4, 6, 3, 4, 6, 7, 7, 7, 9, 7, 9, 7],\n",
       " [8, 0, 3, 4, 6, 7, 0, 3, 4, 6, 7, 9, 4, 6, 7, 4, 4, 3, 4, 6],\n",
       " [1, 0, 6, 7, 9, 4, 6, 7, 0, 3, 4, 6, 7, 9, 3, 4, 9, 7, 9, 3],\n",
       " [9, 4, 6, 7, 9, 4, 6, 4, 6, 7, 9, 3, 3, 4, 6, 7, 9, 3, 4, 6],\n",
       " [2, 0, 3, 4, 6, 7, 9, 7, 9, 7, 9, 7, 9, 4, 6, 7, 4, 6, 7, 7],\n",
       " [7, 3, 4, 6, 7, 0, 4, 6, 7, 9, 7, 4, 6, 7, 9, 4, 6, 7, 9, 4],\n",
       " [6, 7, 9, 4, 4, 6, 7, 9, 4, 4, 6, 4, 6, 7, 4, 4, 6, 4, 6, 7],\n",
       " [3, 4, 6, 3, 6, 7, 4, 6, 7, 9, 7, 9, 7, 0, 3, 4, 6, 7, 9, 7],\n",
       " [5, 0, 3, 7, 4, 4, 6, 7, 7, 9, 4, 4, 6, 7, 6, 7, 7, 7, 9, 7],\n",
       " [4, 6, 7, 9, 4, 6, 7, 9, 3, 4, 4, 6, 7, 9, 7, 9, 7, 9, 4, 6],\n",
       " [0, 3, 4, 6, 7, 9, 3, 3, 4, 4, 6, 7, 0, 3, 4, 6, 7, 9, 3, 4],\n",
       " [7, 9, 7, 9, 7, 9, 4, 6, 7, 9, 7, 7, 9, 3, 4, 6, 7, 9, 4, 6],\n",
       " [0, 3, 4, 4, 6, 6, 7, 9, 4, 6, 7, 9, 7, 9, 4, 6, 7, 3, 4, 6],\n",
       " [4, 6, 7, 9, 3, 4, 6, 7, 9, 4, 6, 7, 7, 7, 0, 3, 4, 6, 7, 0],\n",
       " [1, 0, 3, 4, 6, 7, 0, 4, 6, 7, 9, 4, 6, 4, 4, 6, 7, 0, 4, 6],\n",
       " [8, 0, 3, 4, 6, 7, 9, 3, 4, 4, 6, 7, 9, 7, 9, 4, 6, 7, 9, 3],\n",
       " [3, 4, 6, 7, 9, 7, 9, 3, 4, 6, 7, 7, 9, 7, 9, 7, 9, 4, 6, 7],\n",
       " [9, 3, 4, 6, 7, 7, 6, 7, 4, 4, 6, 4, 6, 7, 9, 7, 9, 7, 4, 6],\n",
       " [2, 0, 3, 4, 6, 7, 7, 9, 3, 4, 6, 3, 4, 3, 4, 7, 3, 4, 6, 7],\n",
       " [5, 0, 3, 4, 6, 7, 9, 3, 4, 6, 7, 9, 3, 4, 6, 7, 0, 4, 6, 7],\n",
       " [6, 4, 6, 7, 9, 7, 9, 4, 6, 4, 6, 7, 9, 7, 9, 4, 6, 7, 9, 4],\n",
       " [1, 0, 3, 4, 6, 7, 9, 3, 4, 7, 0, 3, 4, 6, 7, 9, 4, 6, 7, 9],\n",
       " [0, 3, 3, 4, 6, 7, 9, 4, 6, 7, 9, 4, 6, 7, 4, 6, 7, 6, 9, 3],\n",
       " [6, 7, 9, 7, 9, 4, 4, 6, 7, 7, 9, 3, 4, 6, 7, 7, 7, 9, 3, 4],\n",
       " [5, 0, 3, 4, 6, 7, 0, 4, 7, 9, 3, 4, 4, 6, 7, 3, 7, 9, 4, 6],\n",
       " [3, 4, 6, 7, 9, 7, 9, 7, 9, 3, 4, 6, 0, 3, 7, 9, 7, 9, 4, 6],\n",
       " [4, 4, 6, 7, 0, 3, 4, 6, 7, 9, 4, 6, 7, 9, 7, 9, 3, 4, 6, 7],\n",
       " [9, 4, 6, 7, 9, 7, 6, 7, 0, 3, 4, 6, 7, 0, 3, 4, 4, 4, 6, 7],\n",
       " [2, 0, 3, 4, 6, 7, 7, 3, 4, 4, 6, 3, 6, 7, 0, 9, 4, 6, 7, 7],\n",
       " [7, 9, 7, 9, 7, 7, 9, 4, 6, 7, 9, 4, 6, 7, 9, 3, 4, 4, 4, 6],\n",
       " [8, 0, 3, 4, 6, 7, 9, 3, 4, 6, 7, 9, 4, 6, 7, 7, 9, 7, 9, 4],\n",
       " [4, 6, 7, 9, 3, 4, 6, 7, 4, 6, 7, 9, 4, 6, 7, 9, 7, 9, 7, 9],\n",
       " [3, 4, 6, 7, 7, 9, 4, 6, 7, 7, 0, 3, 4, 6, 3, 4, 6, 7, 7, 3],\n",
       " [9, 4, 4, 6, 4, 6, 7, 9, 4, 6, 7, 9, 7, 9, 7, 9, 4, 6, 7, 9],\n",
       " [6, 7, 9, 7, 9, 7, 9, 7, 7, 7, 7, 6, 3, 4, 6, 7, 0, 4, 6, 3],\n",
       " [5, 0, 3, 4, 6, 7, 7, 9, 7, 9, 4, 4, 6, 7, 9, 3, 4, 6, 4, 6],\n",
       " [1, 0, 3, 4, 6, 7, 7, 9, 7, 4, 6, 7, 0, 3, 4, 4, 6, 9, 7, 9],\n",
       " [7, 9, 3, 4, 4, 6, 7, 9, 7, 9, 4, 4, 6, 4, 6, 7, 9, 4, 7, 9],\n",
       " [2, 0, 3, 4, 6, 0, 3, 4, 4, 6, 7, 9, 3, 4, 6, 7, 7, 9, 7, 0],\n",
       " [8, 0, 3, 4, 7, 4, 3, 4, 4, 4, 6, 3, 4, 6, 3, 4, 6, 4, 6, 4],\n",
       " [0, 3, 3, 4, 6, 4, 6, 7, 9, 7, 4, 6, 9, 3, 4, 6, 7, 9, 3, 4],\n",
       " [9, 3, 4, 6, 7, 9, 7, 0, 3, 4, 7, 9, 4, 6, 7, 9, 4, 6, 7, 7],\n",
       " [6, 7, 9, 4, 6, 7, 9, 7, 4, 6, 7, 9, 3, 4, 6, 3, 9, 3, 4, 6],\n",
       " [7, 9, 7, 9, 4, 6, 7, 3, 4, 6, 4, 6, 7, 9, 7, 9, 4, 6, 7, 9],\n",
       " [3, 4, 6, 4, 6, 6, 7, 9, 3, 4, 6, 7, 9, 4, 6, 7, 9, 7, 0, 3],\n",
       " [0, 3, 4, 6, 7, 9, 4, 3, 4, 3, 4, 6, 7, 9, 7, 9, 3, 4, 6, 7],\n",
       " [1, 0, 3, 4, 6, 7, 9, 4, 6, 3, 4, 6, 4, 6, 7, 7, 7, 9, 3, 4],\n",
       " [2, 0, 3, 4, 4, 4, 6, 3, 4, 4, 6, 4, 6, 7, 9, 4, 6, 3, 4, 6],\n",
       " [4, 6, 7, 9, 3, 4, 6, 7, 9, 4, 6, 7, 9, 3, 4, 6, 7, 9, 3, 4],\n",
       " [8, 0, 3, 4, 6, 7, 9, 4, 4, 6, 7, 9, 4, 6, 7, 4, 4, 7, 9, 3],\n",
       " [5, 0, 3, 4, 6, 7, 9, 4, 6, 7, 9, 4, 6, 7, 9, 4, 6, 7, 9, 7],\n",
       " [9, 4, 6, 7, 9, 4, 6, 7, 7, 9, 7, 4, 6, 7, 9, 3, 4, 6, 7, 7],\n",
       " [5, 0, 4, 7, 9, 4, 7, 9, 4, 6, 7, 9, 4, 6, 3, 4, 6, 4, 6, 7],\n",
       " [0, 7, 0, 9, 7, 9, 3, 4, 6, 4, 6, 7, 0, 0, 3, 4, 6, 7, 9, 4],\n",
       " [6, 7, 9, 7, 9, 4, 4, 4, 6, 4, 6, 7, 9, 4, 4, 6, 7, 9, 4, 6],\n",
       " [4, 6, 7, 9, 7, 9, 7, 9, 3, 4, 6, 7, 9, 4, 6, 0, 3, 4, 6, 4],\n",
       " [3, 3, 4, 6, 7, 9, 7, 7, 0, 3, 4, 4, 6, 7, 9, 7, 9, 7, 9, 3],\n",
       " [8, 0, 3, 4, 6, 4, 6, 7, 9, 3, 4, 4, 6, 7, 0, 3, 4, 4, 6, 7],\n",
       " [1, 0, 3, 7, 9, 4, 6, 7, 9, 4, 6, 7, 7, 9, 3, 7, 3, 3, 4, 3],\n",
       " [7, 9, 7, 9, 4, 6, 4, 6, 7, 9, 7, 9, 7, 9, 4, 6, 7, 0, 4, 6],\n",
       " [2, 0, 9, 4, 6, 4, 6, 7, 9, 4, 6, 4, 6, 7, 9, 7, 9, 7, 9, 4],\n",
       " [2, 0, 4, 6, 7, 9, 4, 7, 4, 6, 7, 9, 7, 0, 4, 6, 7, 7, 9, 3],\n",
       " [5, 0, 3, 4, 6, 7, 0, 3, 4, 6, 7, 9, 7, 7, 9, 4, 6, 7, 9, 4],\n",
       " [8, 0, 4, 6, 3, 4, 7, 9, 3, 4, 7, 7, 0, 4, 3, 4, 4, 7, 7, 9],\n",
       " [4, 6, 7, 7, 9, 3, 4, 6, 3, 4, 6, 7, 6, 7, 9, 4, 4, 6, 7, 7],\n",
       " [1, 0, 3, 4, 6, 7, 7, 0, 3, 4, 6, 7, 9, 4, 4, 6, 7, 9, 4, 6],\n",
       " [0, 4, 6, 7, 9, 4, 6, 7, 9, 7, 9, 3, 4, 6, 7, 0, 3, 7, 9, 4],\n",
       " [7, 9, 7, 9, 3, 4, 6, 7, 9, 4, 6, 7, 9, 7, 9, 4, 7, 4, 6, 4],\n",
       " [6, 7, 9, 4, 6, 7, 9, 4, 3, 4, 6, 7, 7, 7, 9, 7, 0, 3, 4, 6],\n",
       " [9, 3, 4, 6, 7, 9, 4, 6, 7, 9, 3, 4, 7, 9, 7, 9, 7, 9, 4, 6],\n",
       " [3, 4, 6, 7, 9, 7, 9, 4, 9, 4, 6, 7, 9, 3, 4, 6, 7, 9, 4, 6],\n",
       " [4, 6, 4, 4, 6, 7, 9, 4, 6, 7, 9, 4, 6, 7, 0, 4, 4, 6, 7, 9],\n",
       " [2, 0, 3, 7, 7, 9, 4, 6, 7, 9, 4, 9, 3, 4, 6, 7, 9, 3, 4, 6],\n",
       " [3, 4, 6, 7, 7, 4, 7, 9, 4, 6, 7, 0, 4, 6, 6, 7, 9, 7, 0, 3],\n",
       " [7, 9, 4, 4, 6, 9, 4, 6, 7, 9, 4, 6, 4, 4, 6, 7, 9, 4, 7, 0],\n",
       " [8, 0, 3, 4, 6, 7, 9, 3, 4, 6, 4, 6, 7, 4, 6, 7, 9, 4, 6, 7],\n",
       " [0, 4, 6, 7, 7, 9, 7, 9, 7, 9, 3, 4, 6, 7, 9, 3, 4, 6, 7, 9],\n",
       " [5, 0, 3, 4, 6, 7, 9, 4, 6, 7, 9, 3, 4, 6, 7, 4, 6, 4, 6, 4],\n",
       " [6, 6, 7, 9, 4, 6, 7, 9, 3, 4, 6, 7, 9, 3, 9, 4, 3, 4, 6, 7],\n",
       " [9, 4, 7, 3, 7, 0, 3, 4, 6, 7, 0, 3, 3, 4, 6, 4, 6, 7, 9, 4],\n",
       " [1, 0, 4, 6, 7, 9, 3, 6, 7, 0, 0, 9, 7, 9, 7, 9, 7, 9, 3, 4],\n",
       " [0, 3, 4, 6, 3, 4, 6, 7, 9, 4, 6, 7, 7, 7, 9, 4, 4, 7, 9, 7],\n",
       " [2, 0, 3, 4, 6, 7, 9, 4, 6, 7, 9, 4, 3, 4, 6, 7, 9, 4, 6, 7],\n",
       " [3, 6, 7, 9, 4, 6, 7, 9, 4, 4, 6, 7, 9, 3, 7, 9, 3, 4, 6, 7],\n",
       " [6, 7, 0, 3, 3, 4, 4, 7, 0, 6, 7, 9, 7, 9, 7, 9, 3, 4, 6, 7],\n",
       " [8, 0, 4, 6, 7, 9, 7, 9, 7, 9, 4, 6, 7, 9, 7, 9, 4, 6, 7, 9],\n",
       " [9, 3, 4, 6, 7, 0, 3, 4, 3, 4, 6, 7, 9, 3, 4, 6, 7, 9, 3, 4],\n",
       " [4, 4, 6, 4, 6, 7, 9, 7, 9, 7, 9, 4, 6, 7, 9, 7, 9, 7, 9, 4],\n",
       " [7, 4, 6, 7, 9, 4, 6, 7, 9, 4, 9, 4, 6, 3, 4, 7, 4, 6, 6, 7],\n",
       " [5, 0, 3, 4, 6, 7, 0, 3, 4, 3, 3, 4, 6, 4, 6, 7, 9, 4, 6, 7],\n",
       " [1, 0, 3, 4, 6, 7, 9, 7, 9, 4, 6, 7, 9, 3, 4, 6, 7, 9, 7, 9],\n",
       " [0, 3, 4, 6, 7, 0, 3, 4, 6, 7, 9, 3, 4, 6, 7, 9, 4, 6, 7, 9],\n",
       " [8, 0, 4, 4, 4, 6, 7, 9, 3, 4, 6, 7, 0, 3, 4, 4, 6, 7, 9, 4],\n",
       " [7, 9, 4, 6, 7, 3, 9, 4, 6, 7, 0, 7, 0, 3, 4, 6, 7, 9, 3, 4],\n",
       " [1, 0, 3, 4, 4, 6, 4, 6, 7, 6, 7, 9, 3, 3, 4, 6, 7, 9, 4, 6],\n",
       " [4, 6, 7, 7, 7, 9, 4, 6, 7, 9, 4, 6, 3, 4, 6, 7, 4, 6, 7, 9],\n",
       " [2, 0, 3, 4, 6, 7, 9, 7, 0, 3, 7, 9, 4, 9, 4, 6, 7, 0, 3, 4],\n",
       " [6, 7, 9, 4, 6, 7, 9, 7, 4, 7, 9, 3, 4, 6, 7, 9, 7, 9, 3, 7],\n",
       " [5, 0, 3, 4, 4, 6, 7, 0, 3, 4, 6, 7, 9, 7, 9, 4, 6, 7, 9, 4],\n",
       " [9, 7, 9, 3, 3, 4, 6, 3, 4, 6, 7, 9, 4, 6, 7, 9, 3, 4, 6, 7],\n",
       " [3, 4, 6, 7, 0, 4, 6, 7, 3, 4, 6, 7, 0, 3, 4, 4, 6, 4, 6, 7],\n",
       " [8, 0, 6, 7, 0, 3, 4, 4, 6, 7, 0, 3, 4, 6, 7, 0, 9, 4, 4, 7],\n",
       " [1, 0, 3, 4, 6, 7, 9, 7, 9, 7, 9, 4, 6, 7, 9, 3, 4, 6, 4, 6],\n",
       " [3, 4, 7, 9, 4, 6, 0, 3, 4, 6, 7, 0, 9, 7, 0, 3, 4, 6, 7, 7],\n",
       " [5, 0, 6, 7, 0, 3, 4, 6, 7, 9, 4, 6, 3, 4, 6, 7, 9, 7, 9, 7],\n",
       " [2, 0, 3, 4, 4, 4, 6, 7, 9, 4, 6, 7, 7, 7, 9, 7, 9, 4, 6, 7],\n",
       " [9, 4, 6, 7, 9, 3, 6, 7, 7, 9, 4, 6, 3, 4, 6, 7, 9, 7, 9, 7],\n",
       " [7, 9, 7, 9, 4, 6, 7, 0, 3, 9, 3, 4, 6, 7, 9, 3, 4, 6, 7, 4],\n",
       " [4, 6, 7, 9, 7, 9, 7, 9, 4, 6, 7, 7, 9, 4, 6, 7, 7, 9, 4, 7],\n",
       " [0, 3, 4, 6, 7, 9, 3, 4, 6, 7, 9, 7, 9, 3, 4, 4, 4, 6, 7, 9],\n",
       " [6, 7, 4, 6, 7, 9, 4, 6, 7, 9, 3, 4, 6, 7, 9, 4, 6, 7, 9, 4],\n",
       " [8, 0, 4, 6, 7, 9, 4, 3, 3, 4, 6, 7, 9, 4, 6, 9, 4, 6, 7, 9],\n",
       " [7, 9, 7, 9, 7, 9, 4, 6, 7, 0, 3, 4, 6, 7, 0, 3, 4, 3, 4, 6],\n",
       " [9, 4, 6, 7, 9, 4, 4, 6, 7, 9, 7, 7, 9, 7, 9, 4, 4, 6, 7, 9],\n",
       " [6, 7, 7, 9, 7, 9, 7, 9, 4, 4, 6, 7, 9, 4, 6, 7, 9, 4, 4, 6],\n",
       " [3, 4, 6, 7, 9, 3, 4, 6, 7, 9, 4, 6, 7, 9, 3, 3, 4, 6, 7, 0],\n",
       " [5, 0, 3, 7, 9, 4, 6, 7, 9, 3, 4, 6, 7, 9, 4, 6, 7, 9, 4, 6],\n",
       " [1, 0, 4, 6, 9, 7, 0, 3, 4, 6, 7, 7, 9, 3, 4, 3, 4, 9, 3, 4],\n",
       " [4, 6, 7, 4, 6, 7, 7, 9, 4, 6, 7, 9, 3, 4, 6, 7, 6, 7, 0, 7],\n",
       " [2, 0, 3, 4, 6, 7, 9, 7, 9, 7, 9, 7, 9, 4, 6, 7, 9, 4, 6, 7],\n",
       " [0, 4, 6, 7, 0, 3, 3, 4, 6, 7, 0, 3, 3, 4, 6, 7, 0, 4, 6, 7],\n",
       " [0, 3, 3, 4, 6, 7, 0, 3, 4, 6, 7, 9, 7, 9, 7, 9, 7, 9, 3, 4],\n",
       " [5, 0, 6, 7, 9, 7, 9, 4, 6, 7, 9, 4, 7, 9, 7, 9, 4, 6, 7, 7],\n",
       " [3, 4, 6, 7, 9, 7, 9, 4, 6, 7, 9, 4, 4, 6, 7, 6, 7, 4, 6, 7],\n",
       " [4, 6, 7, 7, 9, 4, 6, 7, 9, 3, 4, 0, 3, 4, 6, 7, 9, 3, 4, 6],\n",
       " [1, 0, 3, 4, 6, 7, 9, 4, 4, 6, 7, 7, 9, 7, 9, 4, 6, 7, 9, 4],\n",
       " [7, 0, 4, 6, 7, 9, 3, 4, 6, 7, 9, 3, 4, 6, 3, 4, 4, 6, 7, 9],\n",
       " [6, 7, 9, 3, 4, 6, 7, 9, 4, 6, 7, 6, 3, 4, 3, 4, 4, 7, 9, 4],\n",
       " [2, 0, 3, 4, 6, 7, 9, 4, 6, 3, 7, 9, 7, 9, 3, 7, 9, 7, 9, 7],\n",
       " [9, 4, 6, 7, 9, 4, 6, 7, 9, 7, 9, 7, 9, 7, 9, 7, 9, 7, 9, 4],\n",
       " [8, 0, 3, 3, 4, 6, 7, 9, 7, 9, 4, 6, 7, 9, 4, 6, 7, 9, 4, 4],\n",
       " [4, 4, 6, 7, 9, 7, 9, 7, 9, 4, 6, 7, 7, 9, 7, 7, 4, 6, 7, 9],\n",
       " [5, 0, 3, 4, 6, 7, 9, 7, 9, 4, 4, 6, 6, 7, 0, 3, 4, 6, 7, 4],\n",
       " [0, 3, 4, 6, 7, 0, 4, 6, 7, 9, 3, 4, 6, 7, 4, 6, 7, 9, 4, 9],\n",
       " [2, 0, 3, 4, 7, 9, 4, 6, 7, 7, 0, 7, 9, 4, 6, 7, 9, 3, 4, 7],\n",
       " [1, 0, 7, 9, 4, 6, 7, 0, 3, 4, 6, 3, 4, 4, 6, 7, 9, 7, 0, 3],\n",
       " [9, 4, 6, 4, 6, 7, 9, 4, 6, 7, 9, 7, 9, 4, 6, 7, 9, 4, 4, 7],\n",
       " [6, 7, 7, 9, 7, 9, 4, 6, 6, 7, 9, 3, 4, 6, 6, 7, 9, 7, 7, 7],\n",
       " [8, 0, 3, 4, 6, 7, 9, 4, 6, 7, 7, 9, 7, 9, 4, 6, 7, 9, 4, 4],\n",
       " [7, 0, 3, 4, 6, 7, 0, 3, 3, 3, 4, 4, 6, 7, 6, 9, 7, 9, 4, 6],\n",
       " [3, 4, 6, 7, 4, 6, 7, 9, 4, 6, 7, 9, 7, 9, 4, 6, 7, 0, 3, 4],\n",
       " [2, 0, 0, 4, 6, 7, 9, 3, 4, 6, 7, 7, 7, 9, 4, 6, 3, 4, 6, 7],\n",
       " [1, 0, 4, 6, 7, 9, 4, 6, 7, 9, 4, 6, 3, 4, 4, 4, 6, 7, 7, 7],\n",
       " [4, 6, 7, 4, 4, 6, 7, 9, 3, 4, 6, 7, 9, 4, 6, 7, 9, 3, 4, 6],\n",
       " [8, 0, 3, 4, 6, 7, 9, 7, 9, 7, 7, 0, 6, 7, 9, 4, 6, 7, 9, 4],\n",
       " [0, 3, 4, 6, 7, 7, 9, 3, 4, 6, 7, 9, 3, 3, 4, 3, 4, 6, 7, 9],\n",
       " [7, 9, 4, 6, 6, 7, 9, 3, 4, 4, 6, 7, 9, 4, 4, 6, 7, 9, 3, 3],\n",
       " [6, 7, 9, 7, 9, 4, 7, 4, 6, 7, 0, 3, 4, 6, 7, 0, 4, 6, 3, 6],\n",
       " [5, 0, 3, 4, 4, 6, 7, 9, 7, 9, 3, 9, 4, 6, 7, 9, 7, 9, 4, 6],\n",
       " [3, 4, 6, 7, 9, 4, 6, 4, 6, 7, 9, 4, 6, 7, 9, 7, 9, 3, 4, 6],\n",
       " [9, 4, 6, 7, 0, 4, 6, 7, 0, 3, 4, 6, 4, 6, 7, 9, 4, 6, 7, 7],\n",
       " [9, 4, 6, 7, 9, 4, 6, 7, 9, 7, 7, 9, 7, 9, 4, 6, 7, 9, 4, 6],\n",
       " [5, 0, 3, 3, 4, 6, 4, 6, 7, 9, 4, 6, 7, 9, 3, 4, 6, 7, 9, 4],\n",
       " [2, 0, 4, 6, 7, 6, 7, 9, 7, 9, 3, 4, 6, 7, 7, 0, 7, 9, 7, 9],\n",
       " [1, 0, 3, 4, 6, 7, 9, 4, 4, 4, 4, 6, 7, 9, 7, 9, 3, 4, 6, 7],\n",
       " [4, 3, 4, 6, 7, 3, 4, 6, 7, 0, 7, 9, 7, 9, 4, 4, 6, 7, 7, 9],\n",
       " [3, 4, 6, 7, 9, 4, 6, 7, 9, 3, 4, 6, 7, 0, 4, 6, 7, 9, 4, 6],\n",
       " [6, 7, 9, 7, 9, 7, 9, 4, 6, 7, 9, 4, 3, 4, 6, 3, 4, 6, 7, 9],\n",
       " [8, 0, 3, 4, 7, 9, 3, 4, 6, 7, 9, 7, 9, 4, 3, 4, 6, 7, 9, 4],\n",
       " [7, 9, 7, 9, 4, 6, 3, 4, 6, 7, 9, 4, 6, 7, 7, 9, 7, 9, 7, 9],\n",
       " [0, 3, 6, 7, 9, 3, 3, 4, 6, 7, 0, 6, 7, 9, 4, 6, 7, 9, 4, 6],\n",
       " [9, 4, 6, 7, 9, 4, 6, 4, 6, 7, 9, 7, 9, 4, 6, 7, 9, 4, 6, 7],\n",
       " [0, 6, 7, 0, 3, 3, 4, 6, 7, 9, 7, 9, 7, 9, 4, 6, 7, 9, 4, 6],\n",
       " [2, 0, 4, 4, 4, 6, 7, 9, 7, 9, 7, 9, 4, 6, 7, 7, 9, 3, 4, 6],\n",
       " [6, 7, 7, 9, 4, 6, 7, 9, 7, 9, 7, 9, 7, 9, 7, 9, 7, 9, 7, 4],\n",
       " [5, 0, 3, 4, 6, 7, 9, 4, 6, 7, 9, 4, 6, 7, 9, 7, 9, 3, 4, 3],\n",
       " [4, 6, 7, 9, 4, 6, 7, 9, 3, 4, 4, 9, 4, 6, 7, 9, 3, 4, 6, 3],\n",
       " [8, 0, 3, 3, 4, 6, 7, 9, 3, 4, 6, 7, 9, 3, 4, 6, 7, 9, 4, 6],\n",
       " [7, 7, 9, 4, 4, 4, 4, 6, 7, 4, 6, 7, 4, 4, 6, 7, 9, 7, 4, 6],\n",
       " [1, 0, 3, 3, 6, 7, 9, 3, 3, 4, 6, 7, 9, 7, 9, 4, 4, 6, 7, 9],\n",
       " [3, 4, 6, 7, 9, 7, 9, 7, 9, 4, 6, 7, 9, 4, 6, 9, 7, 9, 3, 4],\n",
       " [5, 0, 0, 3, 4, 4, 4, 4, 4, 6, 7, 9, 4, 4, 6, 7, 4, 6, 7, 9],\n",
       " [1, 0, 0, 3, 4, 6, 7, 9, 4, 6, 7, 7, 9, 4, 6, 7, 9, 4, 6, 7],\n",
       " [7, 9, 4, 6, 4, 6, 7, 9, 4, 6, 7, 7, 0, 7, 0, 0, 3, 4, 6, 7],\n",
       " [6, 7, 9, 3, 4, 6, 9, 4, 6, 7, 4, 6, 7, 6, 7, 9, 4, 6, 7, 9],\n",
       " [3, 4, 4, 6, 7, 4, 6, 7, 9, 4, 6, 7, 9, 3, 4, 6, 7, 9, 4, 6],\n",
       " [4, 4, 4, 4, 4, 6, 7, 9, 4, 4, 4, 6, 7, 9, 4, 6, 0, 3, 3, 4],\n",
       " [2, 0, 3, 4, 6, 7, 9, 4, 4, 7, 9, 4, 6, 7, 9, 4, 4, 6, 7, 9],\n",
       " [9, 4, 6, 7, 9, 4, 4, 6, 0, 3, 4, 6, 7, 7, 9, 3, 9, 4, 6, 4],\n",
       " [0, 3, 7, 9, 4, 6, 3, 4, 6, 7, 9, 7, 7, 4, 6, 3, 4, 6, 7, 9],\n",
       " [8, 0, 3, 4, 6, 7, 7, 9, 4, 6, 3, 4, 6, 7, 9, 4, 6, 7, 9, 7],\n",
       " [5, 0, 3, 4, 6, 7, 9, 7, 9, 3, 4, 6, 7, 9, 7, 9, 4, 6, 7, 9],\n",
       " [9, 3, 3, 3, 4, 6, 7, 9, 7, 9, 7, 9, 4, 6, 7, 9, 4, 6, 7, 9],\n",
       " [0, 3, 4, 6, 7, 9, 7, 4, 6, 7, 9, 4, 6, 7, 9, 4, 6, 0, 3, 0],\n",
       " [3, 4, 6, 7, 9, 4, 6, 7, 9, 3, 4, 4, 6, 7, 9, 7, 9, 4, 6, 7],\n",
       " [1, 0, 3, 4, 6, 7, 9, 7, 9, 7, 9, 3, 4, 6, 7, 9, 7, 9, 3, 4],\n",
       " [6, 7, 4, 6, 7, 7, 9, 4, 6, 7, 9, 4, 6, 9, 7, 9, 3, 4, 6, 7],\n",
       " [8, 0, 3, 4, 6, 7, 9, 7, 9, 7, 9, 3, 4, 6, 7, 9, 7, 9, 7, 9],\n",
       " [2, 0, 3, 4, 6, 4, 6, 7, 7, 9, 3, 4, 4, 6, 7, 9, 4, 6, 7, 0],\n",
       " [7, 4, 6, 9, 4, 6, 7, 7, 9, 3, 3, 6, 7, 0, 7, 9, 3, 4, 6, 7],\n",
       " [4, 6, 7, 0, 3, 4, 6, 7, 9, 4, 4, 6, 6, 7, 9, 4, 6, 7, 3, 3],\n",
       " [2, 0, 4, 3, 4, 7, 0, 3, 4, 6, 9, 4, 6, 7, 9, 4, 6, 7, 0, 4],\n",
       " [4, 6, 7, 9, 3, 4, 7, 9, 7, 3, 4, 6, 7, 7, 7, 0, 4, 6, 7, 9],\n",
       " [6, 7, 0, 4, 6, 7, 9, 7, 9, 7, 9, 3, 4, 6, 7, 9, 3, 4, 6, 7],\n",
       " [5, 0, 3, 4, 6, 3, 4, 6, 7, 9, 4, 6, 7, 9, 4, 6, 4, 6, 7, 9],\n",
       " [9, 4, 6, 7, 9, 4, 6, 7, 9, 4, 6, 7, 7, 9, 4, 4, 4, 6, 7, 9],\n",
       " [7, 9, 4, 6, 7, 9, 7, 7, 0, 3, 4, 4, 6, 7, 9, 3, 4, 6, 7, 9],\n",
       " [1, 0, 3, 4, 6, 7, 0, 3, 4, 4, 6, 7, 9, 7, 9, 4, 7, 9, 3, 4],\n",
       " [0, 3, 4, 6, 7, 0, 3, 4, 6, 7, 9, 4, 6, 7, 4, 9, 4, 6, 4, 6],\n",
       " [3, 4, 6, 7, 7, 9, 7, 7, 0, 7, 0, 3, 4, 3, 4, 7, 7, 9, 4, 6],\n",
       " [8, 0, 4, 6, 7, 0, 4, 6, 9, 4, 6, 7, 9, 4, 6, 7, 9, 4, 6, 7],\n",
       " [6, 7, 9, 4, 6, 7, 9, 7, 9, 4, 6, 4, 6, 4, 6, 7, 7, 9, 3, 4],\n",
       " [4, 6, 7, 0, 3, 4, 6, 7, 4, 7, 7, 7, 9, 4, 6, 7, 9, 3, 6, 6],\n",
       " [1, 0, 3, 4, 3, 4, 6, 7, 0, 3, 4, 6, 7, 0, 9, 7, 0, 4, 4, 6],\n",
       " [7, 9, 7, 9, 4, 6, 7, 9, 3, 4, 4, 4, 6, 7, 9, 4, 6, 7, 7, 7],\n",
       " [3, 4, 6, 7, 9, 7, 9, 4, 6, 7, 9, 4, 6, 7, 9, 4, 6, 7, 9, 4],\n",
       " [8, 0, 3, 4, 4, 6, 7, 9, 4, 6, 7, 9, 3, 4, 3, 4, 6, 7, 7, 9],\n",
       " [2, 0, 4, 4, 4, 6, 3, 3, 4, 4, 6, 7, 4, 7, 9, 7, 9, 4, 6, 7],\n",
       " [0, 3, 4, 6, 7, 9, 4, 6, 7, 9, 4, 6, 7, 9, 3, 9, 3, 4, 6, 7],\n",
       " [5, 0, 3, 4, 6, 7, 7, 9, 3, 4, 6, 7, 9, 4, 6, 7, 9, 7, 7, 4],\n",
       " [9, 4, 4, 6, 7, 9, 7, 7, 9, 4, 7, 9, 7, 9, 4, 6, 7, 9, 3, 3],\n",
       " [2, 0, 4, 6, 4, 4, 6, 7, 0, 3, 4, 4, 4, 6, 7, 9, 7, 9, 7, 9],\n",
       " [9, 4, 6, 7, 9, 7, 7, 7, 7, 9, 7, 9, 7, 9, 3, 6, 7, 9, 4, 6],\n",
       " [5, 0, 3, 4, 6, 7, 9, 3, 4, 6, 7, 9, 4, 6, 9, 4, 6, 3, 4, 6],\n",
       " [6, 7, 9, 4, 4, 6, 7, 9, 4, 4, 6, 7, 9, 7, 9, 4, 6, 7, 7, 7],\n",
       " [3, 4, 6, 7, 9, 4, 3, 4, 6, 7, 9, 4, 6, 7, 9, 7, 9, 7, 9, 7],\n",
       " [8, 0, 7, 9, 7, 0, 4, 0, 3, 4, 6, 7, 0, 3, 4, 6, 7, 9, 3, 4],\n",
       " [4, 6, 7, 9, 3, 4, 4, 6, 6, 7, 9, 7, 9, 7, 9, 7, 9, 7, 9, 7],\n",
       " [7, 9, 3, 4, 7, 9, 4, 4, 6, 6, 7, 9, 7, 9, 4, 6, 7, 9, 7, 9],\n",
       " [0, 3, 4, 6, 7, 3, 4, 6, 7, 9, 4, 6, 7, 9, 7, 9, 4, 6, 7, 0],\n",
       " [1, 0, 3, 4, 6, 7, 0, 3, 4, 7, 9, 4, 6, 4, 6, 7, 9, 3, 7, 9],\n",
       " [7, 7, 9, 4, 6, 7, 4, 6, 7, 0, 3, 4, 4, 6, 7, 9, 3, 4, 7, 9],\n",
       " [8, 0, 4, 6, 7, 9, 7, 9, 4, 6, 0, 3, 4, 9, 3, 4, 6, 7, 9, 4],\n",
       " [2, 0, 3, 4, 6, 7, 4, 4, 6, 7, 9, 3, 3, 4, 4, 6, 7, 9, 4, 6],\n",
       " [6, 7, 7, 7, 9, 7, 9, 4, 6, 7, 9, 4, 6, 7, 7, 9, 3, 4, 6, 7],\n",
       " [1, 0, 3, 4, 6, 7, 9, 3, 4, 6, 7, 0, 3, 7, 0, 3, 4, 3, 4, 6],\n",
       " [5, 0, 3, 4, 6, 7, 9, 7, 9, 7, 7, 7, 9, 4, 6, 7, 9, 4, 0, 3],\n",
       " [9, 4, 6, 4, 6, 7, 9, 3, 4, 4, 6, 7, 9, 7, 9, 7, 7, 0, 3, 4],\n",
       " [4, 6, 7, 9, 4, 6, 7, 9, 4, 6, 7, 9, 3, 4, 7, 0, 3, 4, 6, 7],\n",
       " [3, 4, 6, 7, 9, 3, 4, 6, 7, 9, 4, 6, 7, 9, 4, 6, 7, 6, 7, 9],\n",
       " [0, 3, 4, 4, 6, 7, 4, 6, 4, 6, 3, 4, 6, 7, 0, 3, 4, 6, 7, 9],\n",
       " [9, 4, 6, 7, 9, 7, 9, 7, 9, 7, 9, 7, 9, 4, 6, 7, 9, 4, 7, 9],\n",
       " [7, 9, 3, 4, 6, 7, 9, 7, 9, 7, 0, 3, 4, 6, 7, 9, 4, 6, 7, 9],\n",
       " [3, 4, 6, 3, 3, 4, 6, 7, 0, 3, 4, 6, 7, 0, 3, 4, 6, 7, 9, 4],\n",
       " [6, 7, 6, 7, 9, 4, 6, 7, 0, 3, 4, 6, 4, 6, 7, 3, 4, 6, 6, 7],\n",
       " [4, 6, 7, 9, 3, 4, 6, 7, 9, 7, 9, 4, 6, 7, 9, 7, 9, 4, 6, 6],\n",
       " [0, 4, 7, 9, 4, 6, 7, 9, 7, 9, 7, 9, 7, 0, 3, 6, 3, 4, 4, 4],\n",
       " [2, 0, 3, 4, 4, 6, 7, 7, 0, 3, 4, 6, 7, 9, 7, 9, 4, 6, 7, 9],\n",
       " [8, 0, 4, 6, 7, 9, 7, 9, 7, 7, 9, 7, 9, 4, 4, 6, 4, 6, 7, 9],\n",
       " [5, 0, 3, 7, 7, 7, 9, 3, 4, 6, 7, 9, 3, 4, 6, 7, 9, 3, 4, 6],\n",
       " [1, 0, 3, 4, 6, 7, 9, 7, 9, 4, 6, 7, 9, 4, 6, 3, 4, 6, 7, 9],\n",
       " [1, 0, 3, 4, 6, 7, 9, 4, 7, 9, 3, 4, 6, 7, 9, 7, 9, 4, 6, 4],\n",
       " [9, 4, 6, 7, 0, 3, 4, 6, 7, 9, 4, 6, 7, 4, 7, 9, 7, 9, 7, 9],\n",
       " [5, 0, 0, 4, 6, 7, 9, 4, 6, 7, 7, 9, 4, 6, 7, 9, 7, 9, 7, 9],\n",
       " [0, 4, 6, 7, 7, 9, 3, 4, 6, 7, 0, 3, 4, 6, 7, 0, 3, 4, 6, 7],\n",
       " [8, 0, 3, 4, 4, 7, 0, 0, 3, 4, 6, 7, 9, 4, 6, 7, 9, 7, 9, 3],\n",
       " [6, 3, 4, 6, 7, 3, 6, 7, 9, 3, 4, 6, 7, 6, 7, 9, 4, 4, 6, 4],\n",
       " [3, 3, 4, 6, 7, 9, 7, 9, 7, 9, 4, 6, 7, 9, 3, 4, 6, 7, 9, 7],\n",
       " [4, 6, 7, 0, 3, 4, 4, 4, 6, 7, 4, 6, 7, 7, 7, 9, 4, 7, 9, 4],\n",
       " [7, 9, 7, 0, 3, 4, 6, 7, 9, 4, 6, 7, 9, 4, 6, 7, 0, 3, 4, 7],\n",
       " [2, 0, 3, 4, 6, 7, 9, 4, 4, 4, 6, 7, 9, 7, 7, 9, 7, 9, 7, 7],\n",
       " [0, 3, 4, 6, 4, 6, 7, 9, 4, 6, 7, 9, 7, 9, 4, 6, 7, 9, 7, 9],\n",
       " [2, 0, 3, 4, 6, 7, 9, 7, 9, 4, 3, 4, 6, 7, 9, 4, 6, 7, 9, 4],\n",
       " [8, 0, 3, 4, 3, 4, 6, 7, 9, 7, 9, 4, 6, 7, 0, 3, 4, 6, 9, 4],\n",
       " [6, 3, 4, 6, 7, 9, 4, 6, 7, 9, 7, 9, 3, 3, 4, 6, 7, 9, 4, 6],\n",
       " [3, 4, 7, 7, 9, 4, 6, 7, 9, 7, 9, 4, 4, 6, 7, 7, 9, 4, 6, 7],\n",
       " [1, 0, 3, 4, 6, 7, 9, 3, 4, 6, 7, 9, 4, 6, 7, 9, 4, 6, 4, 4],\n",
       " [4, 6, 7, 7, 7, 9, 4, 6, 4, 6, 7, 0, 3, 4, 6, 7, 9, 4, 4, 7],\n",
       " [9, 7, 9, 4, 6, 7, 9, 3, 4, 6, 4, 6, 7, 0, 3, 4, 6, 7, 9, 4],\n",
       " [5, 0, 3, 4, 3, 7, 7, 9, 4, 6, 7, 0, 4, 6, 7, 7, 9, 4, 4, 6],\n",
       " [7, 9, 3, 4, 6, 7, 9, 7, 9, 4, 6, 7, 9, 7, 9, 7, 9, 4, 6, 7],\n",
       " [3, 4, 6, 7, 9, 4, 6, 0, 3, 4, 6, 4, 6, 7, 9, 3, 4, 6, 7, 9],\n",
       " [7, 9, 3, 4, 7, 9, 4, 4, 6, 7, 9, 7, 9, 7, 9, 4, 6, 7, 9, 3],\n",
       " [2, 0, 4, 6, 4, 6, 7, 9, 3, 9, 7, 9, 3, 9, 3, 4, 4, 6, 3, 4],\n",
       " [8, 0, 4, 7, 0, 0, 4, 6, 7, 9, 3, 4, 6, 7, 9, 7, 9, 3, 4, 6],\n",
       " [5, 0, 3, 4, 3, 4, 6, 6, 7, 9, 4, 6, 6, 7, 3, 4, 6, 7, 9, 4],\n",
       " [4, 6, 7, 9, 7, 9, 7, 9, 4, 6, 7, 9, 7, 9, 7, 0, 4, 6, 7, 4],\n",
       " [6, 7, 7, 9, 3, 4, 6, 7, 0, 3, 4, 6, 7, 9, 4, 6, 7, 9, 4, 6],\n",
       " [9, 4, 4, 4, 7, 9, 3, 4, 6, 7, 9, 7, 4, 6, 4, 6, 7, 7, 9, 3],\n",
       " [0, 3, 4, 7, 7, 9, 4, 6, 4, 6, 7, 9, 3, 4, 6, 7, 9, 4, 3, 4],\n",
       " [1, 0, 3, 4, 6, 7, 0, 4, 6, 7, 9, 4, 6, 7, 9, 3, 4, 6, 9, 3],\n",
       " [9, 3, 4, 6, 7, 9, 3, 7, 4, 6, 7, 9, 4, 6, 7, 9, 7, 9, 4, 6],\n",
       " [5, 0, 3, 4, 6, 7, 4, 6, 3, 4, 6, 7, 9, 4, 6, 7, 0, 3, 7, 9],\n",
       " [1, 0, 3, 4, 6, 3, 4, 6, 7, 7, 9, 4, 6, 7, 0, 3, 4, 4, 6, 7],\n",
       " [3, 4, 7, 0, 3, 4, 6, 7, 9, 4, 9, 7, 9, 4, 7, 9, 4, 4, 6, 7],\n",
       " [0, 3, 4, 6, 7, 3, 4, 7, 9, 3, 4, 6, 7, 3, 7, 0, 3, 4, 4, 6],\n",
       " [2, 0, 3, 4, 6, 7, 4, 4, 6, 7, 7, 9, 3, 4, 4, 6, 7, 9, 3, 4],\n",
       " [8, 0, 3, 0, 3, 4, 6, 4, 6, 7, 7, 9, 7, 9, 4, 6, 4, 6, 7, 0],\n",
       " [7, 0, 3, 4, 6, 7, 9, 3, 4, 6, 7, 9, 4, 6, 3, 4, 6, 7, 9, 7],\n",
       " [6, 7, 0, 3, 4, 6, 7, 9, 3, 4, 6, 7, 9, 4, 4, 6, 7, 0, 3, 3],\n",
       " [4, 6, 6, 7, 7, 3, 4, 6, 7, 9, 3, 4, 6, 4, 6, 7, 6, 3, 4, 6],\n",
       " [3, 4, 9, 3, 4, 6, 7, 9, 3, 4, 6, 7, 9, 3, 4, 4, 6, 7, 9, 4],\n",
       " [0, 3, 4, 6, 7, 3, 4, 4, 6, 7, 9, 7, 0, 0, 3, 4, 6, 7, 4, 6],\n",
       " [8, 0, 3, 4, 6, 7, 9, 4, 6, 7, 9, 4, 6, 7, 9, 4, 6, 7, 9, 4],\n",
       " [2, 0, 3, 4, 6, 7, 9, 7, 9, 4, 6, 7, 9, 7, 9, 7, 9, 4, 6, 7],\n",
       " [1, 0, 0, 3, 4, 6, 7, 9, 4, 6, 7, 0, 3, 3, 4, 7, 9, 4, 4, 4],\n",
       " [6, 4, 6, 7, 0, 3, 4, 6, 7, 9, 4, 4, 6, 7, 3, 4, 6, 6, 3, 4],\n",
       " [9, 3, 4, 6, 6, 7, 9, 7, 9, 3, 7, 4, 6, 7, 9, 7, 0, 4, 6, 7],\n",
       " [5, 0, 3, 4, 6, 6, 7, 9, 7, 9, 7, 9, 4, 6, 4, 6, 7, 9, 4, 6],\n",
       " [4, 6, 3, 4, 3, 4, 6, 3, 4, 6, 7, 9, 7, 9, 4, 6, 7, 0, 3, 4],\n",
       " [7, 4, 4, 6, 7, 7, 9, 4, 3, 4, 4, 6, 7, 9, 4, 6, 7, 9, 4, 6],\n",
       " [9, 4, 6, 7, 9, 4, 4, 4, 6, 7, 9, 7, 9, 7, 9, 4, 6, 7, 9, 3],\n",
       " [5, 0, 3, 4, 6, 7, 9, 3, 4, 4, 6, 7, 9, 3, 4, 6, 7, 9, 3, 4],\n",
       " [4, 6, 6, 7, 0, 3, 4, 6, 4, 6, 7, 9, 7, 9, 4, 6, 7, 9, 4, 6],\n",
       " [3, 4, 4, 6, 7, 7, 7, 0, 3, 4, 6, 3, 4, 6, 7, 9, 3, 4, 6, 7],\n",
       " [1, 0, 3, 4, 7, 9, 3, 4, 6, 7, 9, 4, 6, 7, 0, 3, 4, 4, 7, 4],\n",
       " [6, 7, 9, 3, 4, 6, 7, 9, 4, 6, 4, 6, 3, 4, 6, 7, 4, 6, 7, 9],\n",
       " [7, 9, 4, 6, 7, 0, 3, 4, 6, 7, 9, 7, 0, 3, 4, 4, 4, 6, 7, 9],\n",
       " [2, 0, 3, 4, 4, 6, 3, 4, 4, 6, 3, 3, 4, 6, 7, 9, 4, 6, 7, 9],\n",
       " [0, 3, 4, 6, 3, 4, 4, 6, 9, 3, 4, 6, 7, 9, 4, 6, 7, 4, 6, 7],\n",
       " [8, 0, 0, 3, 4, 6, 9, 7, 9, 3, 4, 6, 7, 9, 7, 0, 3, 4, 4, 4],\n",
       " [9, 7, 9, 3, 4, 7, 9, 7, 9, 3, 4, 3, 4, 6, 7, 9, 3, 9, 4, 4],\n",
       " [2, 0, 3, 4, 6, 7, 7, 9, 3, 4, 6, 3, 3, 4, 6, 7, 9, 4, 6, 4],\n",
       " [7, 9, 4, 6, 7, 7, 9, 7, 9, 3, 4, 6, 7, 0, 3, 4, 6, 7, 9, 4],\n",
       " [3, 4, 6, 7, 9, 7, 4, 7, 4, 6, 7, 3, 4, 7, 9, 4, 6, 0, 3, 4],\n",
       " [4, 7, 9, 7, 9, 3, 4, 6, 7, 9, 4, 6, 4, 6, 7, 9, 7, 9, 4, 6],\n",
       " [1, 0, 3, 4, 6, 7, 9, 7, 9, 4, 6, 7, 9, 7, 9, 7, 9, 4, 6, 7],\n",
       " [0, 6, 7, 9, 7, 9, 4, 6, 7, 0, 3, 4, 6, 7, 4, 6, 7, 4, 4, 6],\n",
       " [8, 0, 4, 6, 7, 9, 7, 7, 9, 4, 6, 7, 0, 3, 4, 6, 7, 9, 7, 9],\n",
       " [6, 7, 0, 7, 9, 4, 6, 7, 7, 9, 7, 9, 3, 4, 6, 7, 9, 7, 9, 7],\n",
       " [5, 0, 3, 4, 3, 3, 4, 6, 7, 9, 7, 4, 6, 7, 9, 4, 6, 7, 9, 3],\n",
       " [6, 7, 7, 4, 6, 3, 4, 6, 7, 9, 7, 7, 7, 9, 7, 3, 3, 4, 3, 4],\n",
       " [8, 0, 3, 4, 6, 7, 9, 4, 6, 6, 7, 9, 3, 3, 4, 6, 7, 9, 4, 7],\n",
       " [9, 3, 4, 6, 7, 9, 7, 9, 7, 9, 7, 9, 3, 6, 7, 9, 3, 4, 6, 7],\n",
       " [0, 3, 4, 6, 7, 9, 4, 6, 7, 9, 4, 7, 9, 4, 6, 9, 7, 9, 7, 7],\n",
       " [7, 9, 4, 6, 9, 7, 9, 7, 9, 4, 6, 7, 9, 3, 4, 6, 7, 0, 0, 4],\n",
       " [1, 0, 3, 4, 6, 4, 6, 7, 9, 7, 9, 4, 6, 7, 9, 4, 6, 7, 7, 4],\n",
       " [4, 6, 7, 0, 4, 6, 7, 9, 3, 4, 7, 9, 7, 9, 4, 6, 7, 9, 4, 9],\n",
       " [5, 0, 9, 4, 6, 7, 9, 3, 4, 6, 7, 9, 4, 6, 0, 3, 3, 4, 6, 7],\n",
       " [2, 0, 3, 4, 7, 0, 4, 6, 7, 9, 3, 4, 9, 4, 6, 7, 7, 9, 4, 4],\n",
       " [3, 4, 6, 7, 9, 7, 9, 4, 6, 7, 9, 7, 9, 7, 9, 4, 6, 7, 9, 3],\n",
       " [3, 4, 6, 7, 9, 3, 4, 7, 9, 3, 4, 6, 0, 3, 4, 6, 7, 9, 4, 6],\n",
       " [6, 3, 4, 7, 9, 4, 6, 4, 6, 7, 7, 9, 7, 9, 3, 4, 7, 9, 4, 6],\n",
       " [9, 7, 0, 3, 4, 6, 7, 9, 4, 6, 7, 4, 6, 7, 9, 7, 9, 4, 6, 7],\n",
       " [2, 0, 3, 4, 6, 4, 7, 0, 3, 4, 6, 7, 0, 3, 4, 7, 9, 4, 7, 9],\n",
       " [1, 0, 3, 0, 3, 4, 6, 3, 4, 6, 7, 9, 4, 6, 7, 9, 4, 6, 7, 9],\n",
       " [8, 0, 0, 3, 4, 6, 7, 7, 9, 4, 6, 4, 6, 7, 7, 9, 3, 4, 7, 4],\n",
       " [7, 9, 4, 6, 7, 9, 7, 9, 3, 4, 6, 7, 0, 3, 4, 6, 7, 6, 7, 9],\n",
       " [0, 3, 4, 6, 7, 9, 7, 9, 7, 9, 4, 3, 4, 6, 4, 6, 7, 9, 4, 6],\n",
       " [5, 0, 3, 4, 6, 7, 9, 4, 6, 3, 4, 6, 7, 0, 3, 4, 4, 6, 7, 9],\n",
       " [4, 6, 3, 4, 6, 3, 4, 6, 7, 9, 4, 7, 0, 3, 4, 4, 6, 7, 9, 7],\n",
       " [3, 4, 6, 7, 7, 9, 7, 4, 6, 7, 9, 4, 6, 7, 9, 7, 9, 4, 6, 7],\n",
       " [6, 3, 7, 9, 4, 6, 7, 9, 7, 9, 4, 6, 4, 6, 7, 9, 7, 9, 3, 7],\n",
       " [4, 6, 4, 6, 7, 9, 7, 9, 3, 4, 6, 7, 9, 7, 4, 3, 4, 6, 7, 9],\n",
       " [2, 0, 3, 4, 6, 7, 9, 3, 4, 6, 7, 9, 7, 9, 4, 4, 6, 7, 7, 9],\n",
       " [7, 4, 6, 7, 0, 0, 3, 4, 7, 0, 3, 4, 6, 7, 0, 3, 4, 6, 7, 9],\n",
       " [1, 0, 4, 4, 7, 9, 7, 9, 7, 9, 7, 9, 7, 9, 7, 9, 4, 4, 6, 7],\n",
       " [0, 6, 7, 9, 4, 6, 7, 7, 7, 6, 7, 3, 4, 6, 7, 9, 3, 4, 6, 7],\n",
       " [8, 0, 4, 6, 7, 9, 7, 9, 4, 6, 7, 9, 7, 9, 3, 4, 6, 7, 9, 7],\n",
       " [9, 7, 9, 4, 6, 7, 9, 4, 6, 7, 9, 3, 4, 6, 7, 9, 4, 6, 7, 0],\n",
       " [5, 0, 3, 4, 6, 7, 9, 4, 6, 7, 9, 7, 9, 7, 9, 7, 9, 4, 6, 6],\n",
       " [3, 4, 6, 9, 3, 4, 6, 7, 9, 7, 9, 4, 6, 7, 9, 4, 7, 0, 9, 4],\n",
       " [2, 0, 3, 4, 6, 7, 0, 3, 4, 6, 7, 7, 7, 9, 4, 6, 7, 9, 4, 6],\n",
       " [5, 0, 3, 4, 6, 7, 0, 3, 3, 4, 6, 7, 4, 7, 9, 4, 6, 7, 9, 7],\n",
       " [1, 0, 4, 6, 7, 9, 4, 9, 4, 6, 3, 4, 4, 4, 6, 7, 0, 3, 4, 6],\n",
       " [6, 9, 4, 6, 7, 9, 7, 9, 4, 6, 9, 4, 6, 7, 9, 7, 9, 4, 6, 7],\n",
       " [9, 4, 6, 7, 9, 3, 4, 4, 6, 9, 4, 6, 7, 3, 7, 9, 7, 9, 3, 4],\n",
       " [4, 6, 7, 9, 3, 4, 6, 3, 4, 6, 7, 3, 4, 6, 7, 9, 7, 0, 7, 0],\n",
       " [8, 0, 3, 4, 6, 4, 6, 7, 9, 3, 4, 6, 7, 9, 3, 3, 4, 6, 7, 9],\n",
       " [0, 4, 6, 7, 9, 7, 9, 7, 9, 7, 9, 3, 4, 6, 7, 4, 6, 7, 9, 7],\n",
       " [7, 9, 4, 6, 7, 9, 3, 4, 6, 7, 0, 3, 4, 3, 4, 6, 7, 9, 4, 4],\n",
       " [1, 0, 3, 7, 7, 9, 4, 6, 7, 9, 7, 0, 4, 6, 9, 3, 4, 6, 7, 7],\n",
       " [8, 0, 3, 4, 6, 7, 0, 4, 4, 6, 7, 0, 3, 4, 6, 4, 6, 3, 4, 6],\n",
       " [7, 4, 6, 7, 9, 4, 6, 7, 9, 7, 9, 7, 9, 7, 0, 3, 4, 6, 7, 0],\n",
       " [6, 7, 3, 4, 4, 6, 7, 0, 3, 4, 6, 3, 4, 3, 4, 6, 7, 9, 4, 4],\n",
       " [3, 4, 6, 7, 9, 4, 6, 7, 9, 3, 4, 7, 4, 6, 4, 6, 7, 9, 7, 0],\n",
       " [4, 6, 6, 9, 7, 9, 7, 0, 3, 4, 6, 7, 9, 7, 7, 9, 7, 0, 3, 4],\n",
       " [5, 0, 3, 4, 4, 6, 7, 7, 9, 7, 9, 3, 4, 6, 7, 9, 4, 6, 7, 9],\n",
       " [2, 0, 3, 4, 6, 7, 9, 3, 4, 7, 9, 4, 6, 7, 9, 3, 4, 6, 7, 9],\n",
       " [0, 0, 0, 7, 0, 3, 4, 6, 7, 7, 9, 4, 6, 7, 9, 4, 6, 3, 4, 6],\n",
       " [9, 3, 4, 6, 7, 9, 4, 7, 7, 9, 7, 9, 3, 4, 6, 7, 9, 4, 6, 7],\n",
       " [5, 0, 4, 4, 6, 7, 7, 9, 4, 6, 7, 9, 4, 6, 7, 9, 4, 6, 4, 6],\n",
       " [6, 7, 9, 3, 4, 4, 4, 4, 6, 7, 9, 3, 4, 6, 3, 4, 7, 9, 4, 4],\n",
       " [4, 6, 7, 4, 6, 4, 6, 7, 9, 4, 6, 7, 7, 9, 7, 9, 7, 9, 3, 4],\n",
       " [1, 0, 3, 4, 6, 4, 6, 7, 0, 4, 6, 7, 9, 4, 6, 7, 9, 4, 6, 7],\n",
       " [3, 4, 6, 7, 0, 0, 3, 3, 4, 6, 7, 9, 7, 9, 4, 6, 7, 9, 4, 4],\n",
       " [7, 9, 4, 6, 7, 9, 7, 9, 7, 9, 4, 6, 7, 0, 4, 6, 7, 9, 4, 6],\n",
       " [8, 0, 3, 4, 6, 7, 0, 3, 4, 6, 7, 0, 7, 9, 3, 4, 6, 7, 3, 4],\n",
       " [0, 3, 4, 6, 7, 4, 6, 7, 7, 4, 6, 7, 9, 7, 9, 4, 6, 7, 7, 9],\n",
       " [9, 3, 4, 6, 7, 9, 3, 3, 4, 6, 3, 3, 3, 4, 6, 7, 0, 4, 6, 9],\n",
       " [2, 0, 3, 4, 6, 7, 9, 4, 6, 7, 7, 7, 4, 6, 7, 9, 4, 6, 7, 9],\n",
       " [3, 4, 6, 7, 9, 7, 9, 4, 6, 7, 9, 4, 6, 7, 9, 7, 9, 7, 9, 4],\n",
       " [1, 0, 9, 7, 3, 4, 6, 7, 9, 3, 4, 6, 7, 9, 7, 9, 3, 4, 6, 3],\n",
       " [8, 0, 3, 4, 6, 7, 9, 4, 6, 7, 9, 7, 9, 4, 4, 6, 7, 9, 3, 4],\n",
       " [7, 9, 4, 6, 7, 9, 3, 4, 6, 7, 9, 7, 9, 4, 6, 7, 0, 3, 4, 6],\n",
       " [6, 7, 9, 3, 4, 4, 4, 6, 4, 6, 4, 6, 7, 0, 3, 4, 6, 7, 9, 7],\n",
       " [2, 0, 3, 4, 6, 7, 9, 4, 6, 3, 4, 6, 7, 7, 9, 4, 6, 7, 9, 7],\n",
       " [5, 0, 6, 7, 9, 4, 6, 7, 0, 3, 3, 4, 3, 4, 6, 7, 7, 9, 3, 4],\n",
       " [9, 3, 4, 6, 7, 7, 9, 7, 9, 3, 4, 4, 6, 7, 4, 6, 7, 7, 9, 7],\n",
       " [0, 3, 4, 6, 7, 9, 7, 7, 9, 7, 9, 7, 9, 3, 4, 7, 9, 7, 9, 7],\n",
       " [4, 6, 7, 4, 4, 6, 7, 9, 4, 6, 3, 4, 6, 3, 4, 6, 7, 7, 9, 7],\n",
       " [2, 0, 4, 4, 6, 7, 0, 3, 4, 6, 7, 9, 7, 9, 7, 9, 7, 9, 4, 6],\n",
       " [1, 0, 3, 4, 6, 7, 9, 3, 3, 4, 6, 7, 9, 7, 3, 4, 6, 7, 0, 4],\n",
       " [9, 4, 7, 0, 4, 6, 7, 4, 6, 7, 9, 7, 9, 4, 6, 7, 9, 3, 4, 6],\n",
       " [8, 0, 3, 7, 7, 9, 7, 9, 3, 4, 6, 7, 7, 3, 4, 6, 7, 9, 7, 9],\n",
       " [6, 7, 3, 4, 3, 4, 6, 7, 7, 9, 4, 4, 4, 6, 3, 4, 6, 7, 9, 3],\n",
       " [0, 3, 4, 7, 0, 3, 4, 6, 9, 4, 6, 7, 7, 9, 4, 6, 7, 7, 4, 4],\n",
       " [5, 0, 3, 4, 6, 4, 6, 7, 0, 0, 3, 4, 6, 7, 0, 9, 3, 4, 6, 7],\n",
       " [4, 4, 6, 7, 9, 4, 6, 4, 6, 7, 7, 9, 3, 4, 7, 9, 7, 9, 4, 6],\n",
       " [3, 4, 6, 7, 6, 7, 0, 3, 4, 6, 7, 9, 3, 4, 6, 9, 4, 6, 3, 0],\n",
       " [7, 9, 7, 9, 7, 9, 4, 7, 9, 3, 4, 6, 3, 3, 3, 4, 6, 7, 9, 4],\n",
       " [7, 4, 6, 7, 7, 7, 9, 4, 6, 4, 6, 7, 9, 4, 7, 4, 6, 7, 4, 7],\n",
       " [1, 0, 4, 6, 7, 9, 3, 4, 4, 6, 3, 4, 6, 7, 0, 3, 4, 3, 4, 6],\n",
       " [9, 7, 9, 7, 9, 3, 3, 3, 4, 6, 7, 9, 4, 6, 4, 6, 7, 7, 4, 6],\n",
       " [6, 7, 9, 3, 6, 7, 9, 7, 7, 0, 3, 4, 6, 4, 6, 7, 7, 4, 6, 7],\n",
       " [0, 4, 6, 7, 7, 0, 3, 4, 6, 7, 9, 7, 9, 4, 6, 7, 0, 4, 6, 7],\n",
       " [2, 0, 3, 4, 7, 9, 4, 6, 7, 9, 3, 4, 3, 4, 7, 7, 7, 9, 7, 9],\n",
       " [3, 7, 9, 3, 4, 4, 6, 7, 9, 4, 6, 7, 9, 3, 4, 6, 7, 0, 4, 4],\n",
       " [5, 0, 3, 4, 6, 7, 9, 7, 9, 4, 6, 6, 7, 7, 7, 0, 3, 4, 3, 4],\n",
       " [4, 6, 7, 9, 7, 9, 7, 9, 4, 6, 7, 4, 4, 6, 3, 4, 6, 7, 9, 7],\n",
       " [8, 0, 3, 4, 6, 7, 4, 6, 7, 0, 3, 4, 6, 7, 7, 9, 4, 6, 7, 0],\n",
       " [2, 0, 3, 4, 4, 6, 7, 0, 4, 6, 7, 0, 3, 7, 9, 4, 6, 7, 4, 6],\n",
       " [6, 7, 9, 7, 9, 3, 4, 6, 7, 9, 4, 4, 6, 7, 0, 3, 4, 6, 7, 0],\n",
       " [7, 9, 7, 9, 4, 6, 7, 9, 3, 4, 6, 7, 9, 4, 6, 7, 7, 0, 3, 4],\n",
       " [3, 4, 4, 6, 7, 9, 3, 4, 6, 7, 9, 7, 9, 3, 3, 4, 6, 7, 7, 9],\n",
       " [4, 6, 7, 9, 7, 9, 7, 9, 4, 6, 7, 7, 9, 4, 6, 3, 4, 6, 7, 0],\n",
       " [9, 4, 6, 7, 9, 4, 6, 4, 6, 7, 9, 7, 9, 4, 6, 7, 9, 4, 6, 7],\n",
       " [8, 0, 3, 4, 4, 6, 7, 9, 4, 6, 7, 9, 4, 6, 7, 9, 4, 6, 4, 7],\n",
       " [0, 4, 6, 7, 3, 3, 4, 4, 4, 6, 7, 9, 7, 9, 7, 9, 4, 6, 3, 4],\n",
       " [5, 0, 6, 7, 0, 3, 4, 7, 0, 3, 4, 7, 9, 4, 6, 7, 9, 4, 6, 4],\n",
       " [1, 0, 3, 4, 6, 3, 4, 6, 7, 9, 3, 4, 6, 7, 9, 7, 9, 3, 4, 6],\n",
       " [2, 0, 0, 3, 3, 4, 6, 7, 7, 7, 9, 4, 7, 0, 4, 6, 7, 0, 3, 4],\n",
       " [3, 4, 6, 7, 9, 4, 7, 0, 3, 4, 6, 3, 3, 4, 6, 6, 9, 4, 6, 3],\n",
       " [8, 0, 3, 4, 6, 7, 0, 4, 4, 6, 7, 9, 4, 6, 7, 9, 7, 9, 4, 6],\n",
       " [7, 7, 7, 4, 6, 7, 9, 4, 6, 7, 9, 4, 7, 9, 3, 4, 6, 7, 7, 9],\n",
       " [4, 6, 7, 4, 6, 7, 9, 4, 6, 7, 9, 3, 4, 7, 9, 7, 9, 4, 6, 7],\n",
       " [1, 0, 3, 4, 6, 7, 0, 3, 4, 6, 7, 9, 3, 4, 6, 7, 9, 3, 4, 6],\n",
       " [9, 3, 3, 4, 4, 6, 7, 9, 3, 4, 6, 7, 9, 7, 9, 4, 6, 7, 9, 4],\n",
       " [6, 7, 0, 3, 4, 3, 4, 6, 7, 9, 7, 9, 7, 0, 3, 4, 6, 7, 0, 4],\n",
       " [0, 3, 4, 6, 7, 9, 3, 4, 6, 7, 9, 4, 6, 7, 9, 3, 4, 4, 4, 6],\n",
       " [5, 0, 3, 4, 6, 7, 9, 3, 4, 6, 7, 9, 3, 4, 6, 7, 0, 4, 6, 3],\n",
       " [8, 0, 3, 4, 6, 7, 9, 4, 6, 7, 4, 6, 7, 4, 6, 4, 6, 7, 9, 4],\n",
       " [4, 6, 7, 9, 7, 9, 3, 4, 6, 7, 9, 7, 9, 4, 6, 7, 9, 4, 4, 7],\n",
       " [5, 0, 7, 9, 7, 9, 4, 6, 7, 6, 7, 4, 6, 7, 9, 4, 6, 7, 9, 4],\n",
       " [2, 0, 4, 4, 6, 7, 4, 6, 7, 9, 7, 7, 0, 3, 4, 7, 9, 7, 9, 3],\n",
       " [3, 4, 6, 7, 4, 6, 7, 7, 9, 7, 7, 9, 7, 9, 7, 9, 4, 6, 7, 9],\n",
       " [0, 3, 4, 6, 4, 6, 7, 9, 7, 9, 4, 6, 7, 9, 7, 4, 6, 7, 7, 9],\n",
       " [6, 7, 7, 4, 6, 7, 9, 3, 4, 6, 7, 0, 3, 4, 6, 7, 9, 4, 4, 4],\n",
       " [1, 0, 3, 4, 3, 4, 6, 7, 9, 3, 9, 4, 6, 7, 9, 7, 9, 3, 4, 6],\n",
       " [9, 3, 4, 6, 7, 9, 4, 6, 7, 9, 4, 6, 7, 7, 9, 3, 4, 6, 7, 9],\n",
       " [7, 9, 4, 6, 7, 9, 3, 4, 6, 7, 9, 4, 6, 7, 9, 3, 4, 6, 7, 0],\n",
       " [3, 7, 9, 4, 6, 4, 7, 9, 3, 7, 9, 4, 6, 7, 9, 3, 4, 6, 7, 9],\n",
       " [9, 3, 6, 7, 4, 6, 3, 4, 6, 4, 6, 7, 9, 7, 0, 3, 4, 6, 7, 9],\n",
       " [1, 0, 3, 7, 0, 3, 4, 6, 7, 9, 3, 4, 6, 7, 9, 7, 9, 4, 6, 7],\n",
       " [0, 3, 4, 6, 7, 9, 4, 6, 7, 0, 3, 3, 4, 6, 7, 9, 3, 4, 7, 9],\n",
       " [5, 0, 3, 4, 6, 7, 9, 3, 6, 7, 9, 7, 9, 7, 0, 3, 4, 6, 7, 9],\n",
       " [8, 0, 3, 4, 4, 6, 7, 9, 4, 6, 7, 9, 3, 4, 6, 7, 9, 4, 6, 7],\n",
       " [2, 0, 4, 6, 7, 9, 7, 9, 4, 6, 7, 4, 6, 7, 0, 4, 6, 7, 9, 4],\n",
       " [7, 9, 3, 4, 6, 4, 6, 4, 6, 7, 9, 4, 6, 4, 6, 7, 9, 4, 6, 7],\n",
       " [6, 7, 9, 4, 4, 6, 7, 7, 0, 3, 4, 6, 7, 9, 7, 9, 7, 9, 7, 9],\n",
       " [4, 6, 7, 9, 3, 4, 6, 4, 6, 7, 0, 4, 7, 0, 3, 4, 6, 7, 4, 6],\n",
       " [4, 6, 7, 9, 4, 6, 7, 6, 7, 9, 3, 4, 6, 7, 9, 7, 9, 7, 0, 3],\n",
       " [0, 4, 6, 7, 9, 7, 4, 4, 6, 7, 0, 3, 4, 6, 7, 9, 4, 6, 7, 9],\n",
       " [3, 4, 6, 7, 9, 4, 6, 7, 0, 3, 3, 4, 7, 9, 4, 6, 7, 0, 7, 9],\n",
       " [2, 0, 3, 4, 6, 7, 9, 7, 9, 7, 7, 9, 4, 6, 7, 4, 4, 6, 7, 0],\n",
       " [6, 7, 7, 9, 3, 4, 9, 4, 6, 7, 0, 0, 3, 4, 6, 7, 0, 3, 4, 6],\n",
       " [8, 0, 3, 4, 4, 7, 0, 4, 4, 6, 7, 0, 3, 4, 6, 4, 4, 6, 7, 9],\n",
       " [5, 0, 3, 4, 6, 7, 9, 7, 9, 3, 4, 6, 7, 0, 3, 3, 4, 6, 7, 9],\n",
       " [7, 9, 7, 9, 4, 6, 7, 9, 3, 6, 7, 9, 7, 9, 4, 6, 7, 0, 3, 0],\n",
       " [9, 4, 4, 3, 4, 6, 7, 9, 3, 4, 6, 4, 6, 7, 9, 4, 4, 6, 7, 9],\n",
       " [1, 0, 3, 4, 6, 7, 9, 3, 4, 4, 4, 4, 6, 4, 6, 7, 7, 7, 9, 4],\n",
       " [2, 0, 3, 4, 6, 7, 9, 4, 6, 7, 7, 9, 7, 0, 3, 4, 6, 3, 6, 3],\n",
       " [6, 7, 9, 7, 9, 3, 4, 6, 7, 7, 7, 3, 4, 6, 7, 9, 4, 6, 7, 9],\n",
       " [1, 0, 3, 4, 6, 7, 0, 3, 4, 6, 4, 6, 7, 0, 3, 9, 4, 6, 7, 7],\n",
       " [4, 6, 7, 9, 7, 9, 7, 9, 3, 4, 7, 9, 4, 6, 7, 9, 3, 4, 6, 7],\n",
       " [8, 0, 3, 4, 6, 7, 9, 7, 9, 4, 6, 7, 9, 4, 6, 7, 9, 3, 4, 6],\n",
       " [0, 3, 4, 6, 7, 7, 9, 4, 6, 7, 9, 7, 3, 4, 6, 7, 4, 6, 7, 6],\n",
       " [9, 4, 6, 6, 7, 9, 7, 9, 4, 3, 4, 6, 7, 9, 4, 6, 7, 9, 7, 9],\n",
       " [5, 0, 3, 4, 6, 7, 9, 7, 7, 9, 3, 4, 6, 7, 9, 4, 6, 3, 4, 6],\n",
       " [7, 9, 7, 4, 7, 0, 4, 6, 7, 9, 7, 9, 4, 6, 7, 9, 4, 6, 7, 0],\n",
       " [3, 6, 7, 9, 7, 9, 4, 6, 7, 9, 4, 7, 9, 7, 4, 6, 7, 7, 9, 7],\n",
       " [8, 0, 3, 4, 4, 6, 7, 4, 6, 7, 7, 9, 4, 6, 7, 9, 3, 4, 6, 7],\n",
       " [3, 4, 6, 7, 0, 3, 6, 7, 9, 7, 0, 3, 4, 7, 9, 4, 4, 4, 4, 4],\n",
       " [0, 3, 4, 6, 4, 6, 7, 7, 9, 3, 4, 6, 9, 4, 6, 7, 9, 7, 6, 7],\n",
       " [7, 9, 4, 4, 4, 4, 4, 4, 4, 6, 7, 9, 4, 6, 7, 3, 4, 6, 7, 9],\n",
       " [2, 0, 4, 6, 7, 9, 4, 6, 7, 0, 0, 3, 4, 6, 7, 7, 4, 6, 4, 6],\n",
       " [5, 0, 3, 4, 6, 6, 7, 9, 7, 9, 4, 6, 7, 9, 7, 9, 4, 6, 4, 6],\n",
       " [6, 7, 9, 4, 6, 7, 9, 3, 4, 6, 4, 6, 7, 9, 7, 9, 7, 9, 4, 6],\n",
       " [9, 4, 6, 4, 6, 7, 9, 4, 6, 7, 4, 6, 3, 4, 6, 7, 9, 3, 4, 6],\n",
       " [4, 6, 7, 9, 3, 4, 6, 7, 9, 7, 9, 7, 9, 4, 6, 7, 4, 6, 7, 6],\n",
       " [1, 0, 3, 4, 7, 7, 9, 7, 9, 4, 6, 4, 6, 3, 6, 7, 9, 4, 7, 9],\n",
       " [0, 3, 4, 4, 6, 4, 6, 7, 9, 4, 6, 3, 4, 7, 9, 3, 3, 0, 3, 4],\n",
       " [9, 7, 9, 3, 4, 6, 7, 9, 3, 4, 6, 7, 7, 9, 4, 6, 7, 9, 4, 4],\n",
       " [3, 0, 3, 4, 6, 7, 9, 7, 9, 7, 9, 7, 9, 4, 6, 7, 9, 4, 6, 7],\n",
       " [6, 7, 0, 3, 4, 6, 7, 9, 4, 6, 7, 9, 7, 9, 4, 6, 7, 9, 7, 9],\n",
       " [8, 0, 3, 4, 6, 7, 6, 7, 9, 7, 9, 4, 6, 7, 9, 4, 9, 7, 9, 3],\n",
       " [2, 0, 3, 4, 9, 4, 4, 4, 4, 6, 6, 7, 9, 7, 9, 4, 6, 4, 4, 6],\n",
       " [4, 6, 4, 6, 7, 4, 6, 7, 0, 3, 7, 9, 7, 9, 4, 6, 7, 7, 4, 6],\n",
       " [1, 0, 3, 4, 6, 7, 9, 4, 6, 7, 9, 4, 6, 7, 0, 4, 6, 7, 4, 4],\n",
       " [5, 0, 3, 4, 6, 7, 9, 4, 6, 7, 7, 7, 9, 7, 9, 7, 9, 4, 6, 4],\n",
       " [7, 9, 7, 0, 3, 3, 4, 6, 4, 6, 3, 4, 6, 7, 4, 6, 7, 9, 7, 4],\n",
       " [9, 4, 6, 7, 0, 3, 4, 6, 7, 9, 4, 3, 4, 3, 4, 6, 3, 4, 6, 7],\n",
       " [2, 0, 3, 4, 6, 7, 0, 3, 4, 6, 7, 9, 4, 4, 6, 4, 6, 7, 9, 4],\n",
       " [1, 0, 3, 4, 6, 3, 4, 6, 7, 9, 7, 9, 4, 6, 7, 9, 4, 6, 7, 3],\n",
       " [8, 0, 3, 4, 6, 7, 9, 4, 6, 7, 9, 7, 9, 4, 6, 7, 9, 4, 6, 7],\n",
       " [0, 3, 4, 6, 7, 9, 7, 7, 9, 4, 6, 7, 0, 3, 4, 6, 7, 9, 4, 6],\n",
       " [6, 7, 9, 7, 9, 4, 7, 0, 3, 4, 6, 7, 9, 7, 9, 7, 9, 3, 4, 6],\n",
       " [5, 0, 3, 7, 9, 4, 6, 7, 9, 7, 0, 3, 4, 6, 7, 9, 7, 9, 7, 9],\n",
       " [4, 6, 7, 9, 4, 6, 7, 9, 4, 6, 7, 9, 7, 9, 7, 9, 3, 9, 3, 7],\n",
       " [7, 9, 3, 4, 3, 4, 6, 7, 7, 0, 4, 6, 7, 4, 4, 6, 7, 9, 4, 6],\n",
       " [3, 4, 7, 9, 4, 4, 7, 9, 3, 4, 6, 9, 3, 4, 4, 4, 6, 7, 9, 7],\n",
       " [7, 9, 4, 6, 7, 4, 6, 7, 9, 4, 4, 6, 7, 9, 3, 4, 6, 7, 9, 4],\n",
       " [1, 0, 3, 4, 6, 7, 9, 7, 9, 3, 4, 4, 4, 6, 7, 9, 3, 4, 6, 7],\n",
       " [8, 0, 3, 4, 6, 9, 4, 6, 0, 4, 6, 7, 9, 7, 9, 4, 6, 7, 4, 6],\n",
       " [4, 6, 7, 4, 7, 9, 3, 4, 6, 7, 0, 3, 4, 6, 7, 9, 4, 6, 7, 9],\n",
       " [9, 4, 6, 7, 9, 4, 6, 7, 7, 9, 7, 9, 4, 6, 7, 9, 4, 6, 7, 9],\n",
       " [6, 7, 9, 4, 6, 7, 9, 4, 6, 7, 9, 7, 9, 4, 6, 7, 9, 4, 6, 4],\n",
       " [0, 4, 6, 4, 6, 7, 4, 6, 4, 6, 7, 9, 7, 9, 4, 6, 7, 9, 4, 6],\n",
       " [5, 0, 3, 4, 6, 7, 7, 9, 7, 9, 4, 6, 7, 0, 3, 4, 6, 7, 0, 3],\n",
       " [3, 4, 6, 7, 9, 7, 7, 7, 9, 4, 6, 7, 7, 9, 3, 4, 6, 7, 7, 4],\n",
       " [2, 0, 3, 6, 7, 9, 7, 9, 3, 4, 6, 7, 4, 3, 4, 4, 6, 7, 9, 4],\n",
       " [9, 4, 6, 7, 9, 7, 9, 4, 6, 7, 9, 3, 4, 6, 7, 0, 3, 4, 6, 7],\n",
       " [1, 0, 4, 6, 7, 9, 4, 6, 7, 9, 4, 7, 7, 9, 3, 4, 4, 6, 7, 9],\n",
       " [5, 0, 3, 4, 6, 9, 4, 6, 7, 9, 4, 4, 6, 3, 7, 7, 9, 3, 4, 4],\n",
       " [6, 7, 9, 4, 6, 4, 6, 7, 9, 4, 6, 7, 9, 7, 9, 7, 9, 7, 9, 7],\n",
       " [2, 0, 3, 4, 3, 4, 6, 7, 9, 7, 9, 7, 9, 4, 6, 7, 9, 7, 9, 7],\n",
       " [4, 4, 4, 6, 4, 6, 7, 0, 3, 4, 6, 7, 9, 7, 9, 4, 6, 7, 9, 7],\n",
       " [3, 4, 6, 7, 9, 7, 9, 4, 6, 7, 4, 6, 3, 4, 6, 4, 6, 7, 9, 7],\n",
       " [0, 4, 6, 7, 9, 7, 9, 7, 9, 4, 4, 6, 7, 4, 7, 9, 4, 6, 7, 9],\n",
       " [8, 0, 4, 4, 4, 4, 4, 6, 7, 0, 3, 4, 6, 7, 9, 7, 9, 4, 6, 7],\n",
       " [7, 9, 4, 6, 3, 4, 6, 7, 7, 9, 7, 9, 7, 9, 7, 9, 4, 6, 4, 6],\n",
       " [7, 0, 3, 7, 9, 7, 7, 9, 7, 7, 9, 3, 4, 4, 4, 4, 6, 7, 9, 7],\n",
       " [2, 0, 3, 4, 6, 7, 9, 7, 9, 4, 6, 7, 9, 3, 4, 4, 6, 7, 9, 4],\n",
       " [8, 0, 4, 6, 7, 0, 6, 7, 9, 4, 6, 7, 9, 4, 6, 7, 4, 6, 7, 9],\n",
       " [1, 0, 3, 4, 6, 7, 9, 3, 4, 6, 7, 7, 9, 4, 6, 7, 9, 4, 6, 7],\n",
       " [4, 6, 7, 4, 6, 7, 9, 4, 6, 7, 7, 9, 4, 6, 7, 0, 3, 4, 6, 7],\n",
       " [0, 3, 4, 6, 7, 9, 4, 6, 7, 4, 6, 7, 7, 9, 4, 6, 7, 9, 4, 6],\n",
       " [3, 4, 6, 7, 9, 7, 9, 4, 7, 7, 9, 4, 6, 7, 4, 4, 6, 4, 6, 7],\n",
       " [6, 7, 9, 4, 6, 7, 9, 7, 9, 4, 6, 7, 9, 4, 6, 7, 7, 7, 9, 3],\n",
       " [5, 0, 3, 4, 4, 6, 7, 9, 7, 4, 6, 6, 7, 7, 7, 9, 7, 9, 7, 7],\n",
       " [9, 3, 4, 4, 4, 6, 7, 4, 6, 7, 9, 4, 7, 7, 9, 4, 6, 7, 9, 4],\n",
       " [6, 4, 6, 7, 9, 7, 9, 7, 9, 7, 9, 3, 3, 4, 6, 7, 9, 3, 4, 6],\n",
       " [0, 3, 4, 7, 9, 7, 9, 7, 9, 4, 6, 7, 7, 7, 0, 3, 4, 6, 3, 4],\n",
       " [3, 4, 6, 3, 4, 6, 7, 9, 3, 4, 6, 7, 7, 9, 4, 6, 7, 9, 4, 6],\n",
       " [5, 0, 3, 4, 6, 7, 9, 7, 9, 3, 7, 0, 4, 7, 0, 3, 4, 6, 7, 9],\n",
       " [1, 0, 3, 4, 6, 3, 6, 7, 9, 4, 6, 4, 7, 9, 7, 9, 7, 9, 7, 9],\n",
       " [2, 0, 3, 4, 4, 7, 9, 3, 4, 6, 7, 9, 7, 9, 7, 0, 3, 4, 6, 9],\n",
       " [7, 9, 4, 6, 7, 9, 4, 6, 7, 9, 7, 7, 9, 4, 6, 7, 9, 7, 4, 4],\n",
       " [9, 4, 6, 7, 0, 3, 4, 6, 7, 9, 7, 0, 4, 3, 4, 6, 7, 9, 7, 9],\n",
       " [4, 6, 4, 6, 3, 4, 6, 4, 6, 7, 0, 3, 4, 3, 4, 6, 7, 9, 3, 4],\n",
       " [8, 0, 3, 4, 6, 7, 0, 3, 4, 6, 7, 7, 0, 3, 4, 7, 4, 7, 9, 4],\n",
       " [3, 4, 6, 7, 9, 4, 6, 3, 4, 6, 7, 0, 3, 4, 6, 7, 9, 3, 9, 4],\n",
       " [0, 3, 4, 6, 4, 6, 7, 7, 9, 4, 6, 7, 0, 3, 7, 9, 4, 4, 6, 7],\n",
       " [4, 6, 7, 9, 3, 4, 6, 7, 9, 7, 9, 3, 4, 6, 7, 9, 3, 4, 4, 6],\n",
       " [9, 3, 3, 4, 6, 4, 7, 4, 4, 6, 3, 4, 6, 7, 9, 7, 9, 7, 9, 4],\n",
       " [5, 0, 4, 6, 7, 9, 3, 4, 6, 4, 6, 7, 9, 7, 9, 4, 6, 7, 9, 3],\n",
       " [8, 0, 3, 9, 7, 9, 4, 4, 4, 4, 6, 4, 4, 6, 7, 9, 4, 3, 4, 6],\n",
       " [2, 0, 3, 4, 6, 7, 3, 4, 6, 0, 3, 4, 4, 4, 6, 7, 9, 4, 6, 7],\n",
       " [1, 0, 3, 4, 6, 7, 9, 7, 9, 4, 6, 7, 7, 9, 3, 4, 6, 7, 9, 3],\n",
       " [7, 9, 3, 4, 6, 7, 7, 9, 7, 9, 7, 9, 4, 6, 7, 9, 4, 4, 6, 7],\n",
       " [6, 3, 3, 4, 6, 7, 9, 3, 4, 6, 4, 6, 7, 0, 3, 4, 6, 4, 6, 7],\n",
       " [8, 0, 3, 4, 6, 7, 9, 7, 9, 4, 6, 7, 9, 7, 9, 4, 6, 7, 9, 7],\n",
       " [3, 4, 4, 4, 4, 6, 7, 9, 7, 9, 4, 6, 7, 9, 3, 4, 6, 7, 9, 4],\n",
       " [4, 6, 7, 9, 7, 9, 7, 9, 4, 6, 4, 6, 7, 3, 4, 6, 7, 9, 4, 4],\n",
       " [0, 3, 4, 6, 7, 9, 4, 6, 4, 6, 3, 7, 3, 3, 7, 7, 9, 7, 9, 3],\n",
       " [9, 4, 6, 7, 0, 4, 6, 7, 9, 4, 6, 7, 9, 3, 4, 6, 7, 9, 4, 6],\n",
       " [7, 9, 4, 6, 4, 6, 4, 6, 7, 9, 7, 0, 3, 4, 6, 4, 4, 4, 6, 7],\n",
       " [6, 7, 9, 3, 4, 6, 4, 6, 7, 7, 4, 6, 3, 3, 4, 6, 7, 9, 3, 4],\n",
       " [2, 0, 3, 4, 6, 9, 4, 6, 7, 9, 4, 6, 7, 9, 7, 9, 4, 7, 0, 3],\n",
       " [1, 0, 3, 4, 6, 7, 9, 3, 4, 6, 7, 9, 4, 7, 9, 3, 4, 6, 7, 9],\n",
       " [5, 0, 3, 4, 6, 7, 6, 7, 9, 4, 6, 7, 9, 7, 9, 4, 6, 7, 9, 3],\n",
       " [1, 0, 3, 4, 7, 9, 7, 9, 7, 9, 3, 3, 3, 9, 4, 6, 3, 3, 4, 6],\n",
       " [3, 4, 6, 7, 9, 4, 6, 7, 7, 0, 3, 4, 6, 7, 0, 3, 4, 6, 7, 3],\n",
       " [2, 0, 3, 3, 4, 6, 7, 9, 7, 9, 4, 4, 6, 7, 9, 4, 6, 7, 7, 9],\n",
       " [5, 0, 4, 6, 7, 0, 3, 3, 3, 4, 7, 0, 4, 6, 7, 9, 3, 4, 6, 4],\n",
       " [8, 0, 3, 4, 7, 0, 3, 4, 6, 7, 9, 7, 9, 4, 7, 9, 7, 9, 7, 7],\n",
       " [9, 4, 6, 7, 9, 3, 4, 6, 7, 9, 4, 6, 7, 9, 7, 4, 7, 0, 3, 4],\n",
       " [7, 9, 7, 0, 3, 4, 7, 9, 7, 7, 9, 4, 6, 7, 9, 4, 6, 7, 9, 4],\n",
       " [0, 3, 4, 6, 7, 9, 4, 4, 6, 4, 7, 9, 3, 4, 6, 3, 4, 4, 4, 6],\n",
       " [4, 6, 7, 9, 7, 9, 3, 4, 6, 7, 7, 7, 9, 4, 6, 7, 9, 4, 6, 7],\n",
       " [6, 9, 7, 9, 4, 4, 4, 4, 6, 7, 9, 3, 4, 6, 7, 9, 4, 7, 4, 6],\n",
       " [8, 0, 3, 4, 6, 0, 4, 6, 7, 9, 7, 9, 7, 9, 4, 6, 7, 9, 7, 9],\n",
       " [7, 7, 9, 4, 6, 7, 4, 6, 7, 9, 7, 9, 4, 6, 7, 3, 4, 6, 7, 9],\n",
       " [1, 0, 3, 4, 6, 7, 9, 7, 9, 7, 3, 4, 4, 6, 7, 0, 3, 4, 6, 7],\n",
       " [3, 4, 3, 4, 6, 7, 9, 7, 0, 4, 6, 7, 4, 6, 7, 4, 6, 7, 9, 4],\n",
       " [6, 7, 9, 7, 9, 4, 6, 6, 7, 0, 3, 4, 6, 9, 4, 6, 4, 6, 7, 7],\n",
       " [0, 3, 4, 6, 4, 6, 7, 0, 7, 9, 7, 7, 9, 4, 6, 7, 9, 4, 6, 7],\n",
       " [4, 6, 7, 9, 7, 9, 7, 9, 7, 9, 4, 4, 6, 7, 9, 7, 9, 7, 0, 7],\n",
       " [9, 7, 9, 4, 6, 7, 9, 4, 6, 7, 9, 7, 9, 4, 4, 6, 7, 9, 4, 4],\n",
       " [5, 0, 3, 4, 6, 7, 9, 4, 4, 6, 7, 9, 4, 6, 7, 9, 4, 6, 7, 7],\n",
       " [2, 0, 3, 4, 6, 7, 9, 4, 6, 7, 9, 4, 6, 7, 7, 9, 7, 9, 7, 9],\n",
       " [1, 0, 4, 6, 7, 4, 6, 4, 6, 7, 7, 9, 4, 6, 7, 9, 3, 4, 6, 7],\n",
       " [6, 7, 9, 7, 9, 7, 9, 4, 6, 7, 4, 4, 4, 4, 4, 6, 7, 3, 4, 6],\n",
       " [0, 3, 4, 6, 7, 9, 4, 6, 4, 6, 7, 9, 7, 9, 3, 4, 6, 7, 9, 4],\n",
       " [5, 0, 3, 4, 6, 7, 7, 9, 4, 6, 7, 7, 9, 7, 9, 4, 6, 7, 9, 7],\n",
       " [4, 6, 7, 7, 0, 3, 6, 7, 9, 4, 6, 7, 9, 3, 4, 6, 7, 9, 4, 6],\n",
       " [2, 0, 3, 4, 6, 7, 9, 4, 6, 3, 4, 6, 7, 9, 4, 6, 3, 4, 6, 7],\n",
       " [9, 4, 6, 9, 7, 9, 4, 7, 0, 3, 4, 6, 7, 9, 7, 9, 7, 9, 3, 9],\n",
       " [8, 0, 3, 4, 6, 7, 9, 4, 7, 0, 3, 4, 6, 4, 7, 9, 7, 7, 9, 3],\n",
       " [3, 4, 6, 7, 9, 4, 4, 6, 7, 0, 3, 4, 6, 7, 7, 9, 4, 6, 7, 9],\n",
       " [7, 9, 7, 7, 9, 4, 6, 7, 9, 4, 6, 7, 9, 4, 6, 7, 4, 6, 7, 0],\n",
       " [2, 0, 3, 4, 6, 7, 9, 3, 3, 4, 7, 9, 7, 9, 3, 4, 6, 9, 3, 4],\n",
       " [7, 7, 9, 4, 6, 7, 0, 3, 4, 6, 7, 9, 7, 9, 7, 9, 3, 4, 6, 7],\n",
       " [9, 4, 6, 7, 9, 3, 4, 6, 7, 9, 3, 4, 6, 3, 4, 6, 7, 9, 7, 9],\n",
       " [8, 0, 3, 4, 6, 7, 9, 4, 6, 7, 7, 9, 3, 4, 6, 7, 9, 4, 4, 6],\n",
       " [3, 4, 6, 7, 9, 3, 4, 6, 7, 9, 4, 6, 7, 0, 3, 9, 4, 6, 7, 9],\n",
       " [1, 0, 3, 4, 6, 3, 4, 4, 6, 7, 9, 7, 9, 3, 4, 6, 7, 9, 7, 9],\n",
       " [5, 0, 3, 4, 6, 7, 9, 3, 4, 6, 7, 9, 3, 4, 6, 7, 9, 4, 4, 6],\n",
       " [0, 3, 9, 3, 4, 4, 6, 7, 7, 9, 7, 9, 3, 4, 6, 7, 9, 4, 6, 7],\n",
       " [6, 7, 9, 7, 9, 7, 9, 4, 6, 7, 0, 3, 4, 6, 7, 9, 7, 0, 3, 4],\n",
       " [4, 6, 7, 7, 9, 4, 6, 7, 4, 6, 3, 4, 6, 7, 9, 7, 9, 4, 6, 7],\n",
       " [3, 4, 6, 3, 4, 6, 7, 9, 4, 6, 7, 0, 4, 6, 7, 9, 4, 4, 6, 7],\n",
       " [4, 6, 7, 9, 7, 9, 7, 9, 3, 3, 4, 6, 7, 9, 7, 9, 4, 4, 4, 6],\n",
       " [1, 0, 3, 4, 6, 7, 9, 7, 9, 7, 9, 4, 6, 3, 4, 6, 7, 0, 4, 6],\n",
       " [8, 0, 4, 6, 7, 7, 3, 4, 6, 4, 6, 3, 4, 4, 6, 7, 9, 7, 9, 3],\n",
       " [6, 7, 7, 7, 9, 7, 9, 7, 9, 4, 6, 7, 0, 3, 4, 7, 7, 9, 4, 6],\n",
       " [0, 3, 4, 3, 4, 6, 7, 9, 4, 6, 7, 9, 4, 6, 3, 4, 7, 4, 4, 4],\n",
       " [5, 0, 3, 4, 6, 4, 6, 7, 0, 7, 9, 4, 6, 6, 7, 9, 4, 6, 7, 9],\n",
       " [9, 4, 6, 7, 9, 7, 9, 7, 9, 4, 4, 6, 7, 7, 7, 7, 0, 4, 7, 9],\n",
       " [2, 0, 3, 4, 6, 7, 9, 3, 4, 6, 3, 4, 6, 7, 9, 3, 7, 9, 7, 9],\n",
       " [7, 0, 3, 4, 4, 6, 7, 9, 4, 6, 7, 0, 3, 4, 6, 7, 9, 7, 9, 3],\n",
       " [1, 0, 3, 4, 6, 7, 9, 7, 9, 7, 9, 7, 9, 7, 9, 3, 4, 6, 9, 4],\n",
       " [3, 4, 6, 7, 0, 3, 4, 6, 7, 4, 7, 9, 3, 4, 6, 7, 9, 7, 9, 4],\n",
       " [2, 0, 3, 9, 4, 6, 7, 7, 0, 3, 4, 6, 7, 9, 4, 4, 4, 6, 7, 9],\n",
       " [6, 7, 9, 7, 7, 7, 0, 4, 6, 7, 9, 3, 4, 6, 7, 9, 4, 7, 7, 0],\n",
       " [8, 0, 4, 6, 7, 0, 3, 4, 4, 6, 7, 9, 4, 6, 4, 6, 7, 9, 3, 4],\n",
       " [0, 3, 4, 6, 7, 9, 4, 6, 7, 9, 7, 9, 4, 6, 7, 9, 7, 9, 7, 7],\n",
       " [9, 4, 6, 7, 9, 7, 6, 7, 7, 9, 4, 4, 6, 7, 9, 4, 6, 7, 7, 0],\n",
       " [4, 7, 4, 6, 3, 4, 4, 6, 7, 9, 7, 9, 4, 7, 9, 4, 6, 7, 9, 7],\n",
       " [5, 0, 3, 4, 6, 7, 7, 9, 4, 6, 4, 6, 7, 9, 4, 6, 7, 4, 4, 6],\n",
       " [7, 0, 4, 6, 7, 7, 9, 3, 4, 6, 7, 7, 9, 7, 7, 6, 7, 9, 3, 4],\n",
       " [9, 3, 4, 6, 7, 0, 3, 4, 6, 7, 9, 7, 3, 3, 4, 4, 6, 7, 9, 7],\n",
       " [3, 4, 7, 9, 7, 9, 4, 6, 7, 9, 7, 0, 3, 4, 6, 7, 9, 4, 6, 7],\n",
       " [6, 7, 7, 7, 9, 7, 9, 3, 4, 4, 4, 6, 7, 0, 3, 4, 6, 9, 3, 4],\n",
       " [1, 0, 4, 4, 6, 4, 6, 7, 9, 7, 0, 3, 4, 6, 4, 7, 7, 9, 7, 4],\n",
       " [0, 3, 4, 7, 9, 7, 9, 4, 7, 7, 4, 6, 7, 9, 7, 9, 4, 6, 4, 6],\n",
       " [4, 6, 7, 9, 7, 9, 7, 0, 3, 4, 4, 4, 6, 7, 9, 4, 6, 7, 7, 7],\n",
       " [5, 0, 3, 4, 6, 4, 6, 7, 9, 4, 6, 7, 7, 9, 7, 9, 4, 6, 6, 0],\n",
       " [8, 0, 3, 4, 6, 7, 0, 3, 4, 3, 4, 4, 4, 4, 6, 9, 4, 6, 4, 6],\n",
       " [2, 0, 3, 4, 6, 7, 9, 7, 9, 4, 4, 6, 3, 4, 4, 9, 4, 6, 7, 9],\n",
       " [7, 9, 3, 4, 3, 4, 6, 7, 7, 7, 9, 7, 9, 7, 7, 9, 3, 4, 6, 7],\n",
       " [8, 0, 3, 4, 6, 7, 9, 4, 6, 9, 4, 6, 7, 3, 4, 6, 7, 0, 4, 6],\n",
       " [0, 3, 3, 4, 4, 6, 7, 7, 7, 0, 4, 6, 7, 9, 4, 6, 7, 9, 3, 4],\n",
       " [1, 0, 3, 4, 6, 7, 9, 7, 9, 4, 6, 3, 4, 6, 7, 0, 3, 4, 6, 7],\n",
       " [3, 6, 7, 9, 3, 4, 6, 7, 7, 9, 3, 4, 6, 7, 9, 3, 4, 6, 7, 9],\n",
       " [6, 7, 0, 3, 4, 6, 7, 9, 3, 4, 6, 7, 9, 7, 0, 4, 6, 7, 9, 4],\n",
       " [5, 0, 3, 4, 6, 7, 9, 7, 9, 4, 6, 7, 9, 4, 4, 4, 6, 7, 9, 3],\n",
       " [2, 0, 3, 4, 6, 7, 9, 3, 3, 4, 4, 6, 7, 9, 3, 4, 6, 7, 9, 4],\n",
       " [4, 6, 7, 7, 9, 3, 4, 6, 7, 9, 7, 9, 7, 9, 3, 4, 6, 7, 0, 3],\n",
       " [9, 4, 6, 7, 9, 4, 4, 6, 7, 9, 4, 6, 7, 9, 4, 6, 7, 9, 7, 9],\n",
       " [7, 9, 7, 9, 4, 6, 7, 7, 9, 4, 6, 4, 6, 7, 9, 3, 4, 6, 7, 9],\n",
       " [1, 0, 3, 4, 6, 7, 9, 7, 9, 7, 7, 9, 4, 6, 7, 4, 7, 7, 7, 9],\n",
       " [9, 4, 6, 7, 0, 3, 7, 9, 7, 9, 4, 6, 4, 6, 7, 9, 4, 4, 6, 7],\n",
       " [3, 4, 6, 4, 6, 7, 9, 4, 7, 9, 4, 6, 7, 4, 6, 7, 9, 7, 9, 4],\n",
       " [0, 3, 4, 7, 7, 9, 4, 6, 7, 9, 7, 9, 4, 4, 6, 7, 9, 7, 9, 3],\n",
       " [4, 6, 7, 7, 9, 7, 9, 4, 6, 4, 6, 7, 9, 4, 6, 7, 9, 4, 6, 4],\n",
       " [5, 0, 3, 4, 6, 7, 9, 3, 4, 4, 6, 7, 9, 4, 7, 9, 4, 6, 7, 9],\n",
       " [8, 0, 3, 4, 6, 4, 3, 4, 4, 7, 0, 4, 7, 9, 7, 4, 7, 0, 3, 4],\n",
       " [6, 7, 7, 9, 4, 6, 6, 7, 0, 4, 6, 3, 4, 6, 7, 0, 3, 3, 4, 6],\n",
       " [7, 3, 4, 3, 4, 6, 4, 6, 7, 6, 7, 0, 3, 4, 4, 4, 6, 7, 0, 3],\n",
       " [2, 0, 3, 4, 4, 6, 7, 9, 4, 4, 6, 9, 4, 6, 6, 7, 9, 4, 6, 7],\n",
       " [1, 0, 4, 6, 7, 4, 6, 7, 9, 7, 9, 4, 6, 7, 6, 7, 9, 4, 6, 0],\n",
       " [9, 3, 4, 4, 6, 7, 9, 4, 7, 9, 7, 9, 4, 6, 7, 9, 7, 9, 7, 9],\n",
       " [7, 9, 4, 6, 7, 9, 4, 6, 7, 9, 3, 3, 4, 6, 7, 9, 7, 9, 7, 0],\n",
       " [5, 0, 4, 4, 6, 7, 9, 3, 4, 6, 3, 4, 6, 7, 9, 7, 9, 4, 4, 6],\n",
       " [2, 0, 3, 4, 6, 7, 9, 3, 9, 4, 6, 0, 3, 4, 6, 7, 9, 4, 4, 6],\n",
       " [0, 3, 4, 6, 4, 6, 4, 6, 7, 9, 4, 6, 7, 6, 7, 0, 3, 7, 9, 4],\n",
       " [8, 0, 4, 6, 7, 9, 4, 7, 9, 4, 6, 7, 9, 7, 9, 4, 6, 7, 9, 4],\n",
       " [3, 3, 4, 6, 3, 4, 6, 4, 6, 7, 9, 4, 3, 4, 6, 7, 4, 6, 7, 9],\n",
       " [4, 6, 7, 9, 4, 6, 6, 7, 9, 7, 9, 7, 9, 7, 9, 7, 9, 7, 9, 4],\n",
       " [6, 4, 6, 7, 9, 4, 6, 7, 9, 4, 6, 7, 0, 4, 6, 7, 9, 4, 4, 6],\n",
       " [6, 7, 9, 3, 4, 4, 6, 7, 6, 7, 0, 3, 4, 4, 4, 4, 6, 3, 4, 6],\n",
       " [5, 0, 3, 4, 6, 7, 9, 3, 4, 6, 7, 9, 7, 0, 3, 4, 6, 6, 7, 7],\n",
       " [4, 6, 7, 9, 3, 4, 6, 4, 6, 6, 7, 9, 3, 4, 6, 7, 9, 4, 6, 7],\n",
       " [0, 4, 6, 7, 9, 4, 6, 7, 9, 4, 6, 7, 0, 7, 0, 3, 4, 6, 7, 9],\n",
       " [7, 9, 3, 4, 6, 7, 9, 4, 6, 4, 7, 9, 7, 9, 4, 6, 7, 0, 7, 9],\n",
       " [9, 4, 6, 3, 3, 4, 6, 4, 6, 3, 4, 6, 9, 4, 4, 6, 7, 9, 4, 6],\n",
       " [8, 0, 3, 4, 4, 6, 7, 9, 4, 6, 7, 7, 7, 7, 4, 6, 7, 9, 7, 9],\n",
       " [2, 0, 4, 6, 7, 9, 7, 9, 4, 6, 7, 9, 4, 6, 7, 9, 7, 9, 4, 4],\n",
       " [3, 4, 6, 7, 7, 9, 7, 9, 3, 4, 6, 7, 9, 4, 6, 7, 7, 7, 9, 4],\n",
       " [1, 0, 3, 4, 6, 7, 4, 6, 7, 9, 4, 4, 4, 6, 7, 9, 7, 9, 7, 9],\n",
       " [9, 4, 6, 7, 9, 7, 9, 3, 4, 6, 7, 9, 4, 6, 7, 0, 3, 4, 4, 6],\n",
       " [5, 0, 4, 6, 7, 7, 7, 4, 6, 7, 7, 9, 7, 9, 7, 9, 4, 6, 4, 6],\n",
       " [8, 0, 3, 7, 9, 4, 6, 7, 9, 4, 3, 4, 6, 7, 9, 3, 4, 6, 7, 9],\n",
       " [1, 0, 4, 6, 7, 9, 3, 4, 6, 7, 9, 7, 0, 3, 4, 6, 7, 9, 3, 4],\n",
       " [3, 4, 4, 6, 7, 9, 7, 9, 4, 4, 6, 7, 9, 4, 6, 7, 9, 4, 6, 7],\n",
       " [4, 6, 4, 6, 7, 4, 6, 7, 9, 7, 7, 9, 4, 3, 4, 6, 7, 9, 7, 9],\n",
       " [2, 0, 4, 6, 7, 9, 4, 6, 7, 0, 3, 4, 6, 7, 9, 4, 4, 6, 7, 9],\n",
       " [7, 9, 7, 0, 3, 4, 3, 4, 6, 4, 6, 7, 9, 7, 9, 4, 6, 7, 9, 3],\n",
       " [0, 3, 4, 6, 7, 7, 0, 3, 3, 7, 9, 7, 0, 3, 4, 3, 4, 6, 7, 9],\n",
       " [6, 6, 7, 7, 9, 4, 6, 7, 7, 9, 3, 4, 6, 7, 9, 7, 9, 7, 9, 7],\n",
       " [5, 0, 3, 4, 4, 4, 6, 4, 6, 7, 6, 7, 9, 4, 6, 7, 9, 7, 6, 7],\n",
       " [8, 0, 3, 4, 4, 6, 7, 9, 4, 6, 7, 9, 4, 6, 7, 9, 4, 4, 6, 7],\n",
       " [0, 3, 4, 6, 7, 9, 3, 4, 7, 7, 9, 4, 6, 7, 9, 4, 6, 7, 9, 7],\n",
       " [7, 9, 7, 4, 4, 6, 7, 9, 4, 6, 7, 9, 4, 6, 7, 9, 7, 9, 7, 9],\n",
       " [6, 7, 9, 7, 9, 4, 6, 7, 9, 7, 9, 7, 9, 7, 9, 4, 6, 7, 9, 3],\n",
       " [2, 0, 3, 3, 4, 4, 6, 3, 4, 6, 7, 9, 7, 9, 7, 0, 3, 4, 6, 7],\n",
       " [4, 6, 7, 9, 7, 0, 7, 9, 3, 4, 6, 7, 9, 7, 9, 3, 4, 6, 7, 9],\n",
       " [1, 0, 3, 6, 7, 0, 3, 4, 6, 7, 9, 3, 4, 6, 7, 9, 7, 9, 3, 4],\n",
       " [3, 4, 6, 7, 9, 4, 6, 7, 9, 4, 4, 6, 7, 9, 3, 4, 6, 7, 0, 3],\n",
       " [9, 3, 4, 6, 7, 9, 4, 4, 6, 4, 7, 0, 4, 6, 3, 4, 6, 7, 4, 3],\n",
       " [6, 7, 9, 7, 9, 7, 9, 3, 4, 6, 3, 4, 6, 7, 9, 7, 9, 3, 4, 6],\n",
       " [8, 0, 3, 4, 6, 7, 7, 9, 7, 9, 7, 9, 7, 9, 4, 7, 0, 3, 4, 6],\n",
       " [1, 0, 3, 4, 6, 7, 9, 4, 6, 7, 9, 3, 4, 6, 7, 6, 7, 9, 3, 4],\n",
       " [0, 3, 4, 6, 7, 7, 9, 3, 4, 4, 4, 6, 7, 0, 0, 3, 4, 6, 7, 4],\n",
       " [9, 4, 6, 9, 4, 6, 7, 9, 4, 3, 4, 6, 4, 6, 7, 9, 3, 4, 3, 4],\n",
       " [4, 6, 7, 0, 4, 6, 7, 9, 4, 6, 7, 9, 4, 6, 7, 9, 7, 9, 4, 6],\n",
       " [2, 0, 6, 7, 9, 4, 6, 7, 9, 7, 6, 7, 9, 3, 4, 6, 7, 7, 9, 4],\n",
       " [3, 4, 6, 7, 9, 7, 0, 3, 4, 6, 7, 9, 7, 9, 3, 4, 6, 7, 9, 3],\n",
       " [5, 0, 3, 4, 6, 7, 3, 4, 6, 7, 9, 7, 9, 7, 9, 4, 6, 4, 6, 7],\n",
       " [7, 6, 7, 0, 4, 6, 7, 9, 7, 7, 9, 4, 6, 7, 0, 4, 6, 7, 9, 4],\n",
       " [5, 0, 3, 4, 6, 4, 6, 7, 9, 4, 6, 7, 9, 7, 9, 7, 9, 3, 4, 4],\n",
       " [2, 0, 3, 3, 4, 6, 7, 9, 3, 6, 7, 7, 9, 4, 6, 7, 9, 3, 4, 4],\n",
       " [3, 4, 6, 7, 4, 6, 7, 9, 4, 4, 6, 7, 9, 3, 4, 6, 7, 9, 4, 6],\n",
       " [7, 7, 7, 7, 7, 9, 7, 9, 4, 6, 7, 9, 7, 9, 3, 4, 6, 7, 9, 7],\n",
       " [4, 6, 7, 9, 4, 7, 9, 3, 4, 6, 7, 9, 3, 4, 6, 4, 6, 7, 9, 4],\n",
       " [1, 0, 3, 4, 4, 6, 7, 0, 3, 4, 7, 9, 4, 4, 6, 7, 9, 4, 6, 7],\n",
       " [9, 4, 6, 0, 3, 4, 6, 7, 9, 7, 9, 7, 0, 3, 4, 6, 7, 9, 4, 6],\n",
       " [8, 0, 3, 4, 6, 7, 0, 3, 4, 6, 7, 9, 7, 9, 4, 6, 6, 4, 6, 7],\n",
       " [0, 3, 4, 6, 7, 9, 4, 6, 4, 6, 7, 9, 3, 7, 9, 7, 9, 3, 4, 4],\n",
       " [6, 7, 9, 7, 9, 7, 9, 7, 9, 4, 6, 7, 9, 4, 6, 7, 9, 7, 9, 4],\n",
       " [7, 9, 4, 4, 6, 7, 0, 3, 7, 9, 4, 6, 7, 9, 3, 3, 4, 7, 9, 7],\n",
       " [1, 0, 4, 6, 7, 4, 6, 7, 9, 7, 9, 3, 4, 6, 7, 9, 7, 9, 7, 0],\n",
       " [6, 7, 9, 3, 4, 6, 7, 9, 4, 4, 6, 6, 6, 7, 9, 3, 3, 4, 3, 4],\n",
       " [2, 0, 3, 3, 4, 6, 7, 9, 4, 6, 4, 6, 7, 9, 3, 4, 6, 7, 9, 4],\n",
       " [3, 4, 4, 6, 7, 9, 4, 6, 7, 0, 3, 4, 6, 7, 0, 3, 4, 6, 7, 9],\n",
       " [9, 4, 6, 7, 9, 7, 9, 3, 4, 4, 6, 7, 9, 3, 4, 6, 9, 4, 6, 4],\n",
       " [8, 0, 3, 3, 7, 9, 3, 4, 6, 7, 9, 4, 6, 7, 9, 7, 9, 4, 6, 7],\n",
       " [4, 6, 7, 9, 4, 6, 7, 9, 7, 9, 3, 3, 4, 6, 7, 9, 7, 9, 7, 9],\n",
       " [5, 0, 3, 4, 6, 4, 6, 7, 7, 9, 3, 4, 6, 7, 9, 3, 4, 6, 7, 9],\n",
       " [0, 3, 9, 3, 4, 6, 4, 6, 3, 4, 6, 7, 9, 3, 4, 6, 7, 9, 4, 6],\n",
       " [9, 3, 4, 6, 7, 9, 4, 4, 4, 7, 9, 4, 6, 7, 9, 7, 9, 4, 6, 7],\n",
       " [5, 0, 4, 6, 7, 9, 4, 4, 6, 7, 9, 4, 6, 7, 9, 4, 6, 7, 4, 7],\n",
       " [4, 6, 7, 9, 4, 6, 4, 6, 7, 7, 9, 3, 3, 4, 6, 7, 9, 4, 6, 7],\n",
       " [6, 7, 0, 4, 6, 7, 9, 4, 6, 7, 9, 7, 9, 4, 6, 7, 0, 3, 4, 6],\n",
       " [8, 0, 3, 4, 6, 7, 9, 7, 9, 4, 6, 4, 6, 7, 9, 3, 4, 6, 3, 4],\n",
       " [0, 3, 4, 6, 7, 9, 4, 6, 7, 9, 7, 9, 3, 4, 6, 7, 9, 4, 6, 7],\n",
       " [2, 0, 3, 4, 7, 9, 4, 6, 7, 9, 7, 9, 3, 4, 6, 7, 9, 4, 6, 7],\n",
       " [3, 4, 6, 7, 9, 7, 9, 7, 9, 4, 6, 7, 3, 4, 4, 6, 7, 9, 4, 6],\n",
       " [7, 0, 3, 4, 6, 7, 7, 7, 9, 7, 9, 3, 3, 4, 7, 9, 7, 7, 7, 9],\n",
       " [1, 0, 3, 4, 6, 7, 9, 7, 0, 3, 4, 7, 7, 9, 7, 9, 4, 6, 7, 9],\n",
       " [5, 0, 3, 4, 6, 7, 9, 4, 4, 6, 7, 7, 9, 4, 6, 7, 9, 4, 3, 4],\n",
       " [8, 0, 3, 4, 6, 7, 0, 7, 9, 7, 0, 3, 4, 6, 3, 4, 6, 7, 7, 7],\n",
       " [1, 0, 4, 6, 7, 0, 4, 6, 7, 4, 4, 4, 6, 7, 4, 6, 7, 9, 3, 4],\n",
       " [0, 3, 4, 6, 7, 4, 6, 7, 9, 4, 4, 6, 3, 4, 6, 6, 7, 0, 3, 4],\n",
       " [3, 4, 6, 7, 4, 6, 7, 9, 4, 7, 0, 3, 3, 4, 6, 4, 6, 7, 3, 3],\n",
       " [2, 0, 3, 4, 6, 7, 9, 4, 6, 4, 4, 6, 7, 9, 4, 4, 6, 7, 7, 9],\n",
       " [4, 6, 7, 7, 9, 7, 9, 4, 6, 4, 6, 7, 9, 7, 9, 3, 6, 3, 4, 6],\n",
       " [7, 7, 9, 7, 7, 9, 4, 6, 7, 9, 7, 9, 4, 6, 4, 6, 7, 7, 7, 9],\n",
       " [9, 7, 9, 7, 9, 3, 4, 6, 7, 9, 7, 7, 9, 4, 6, 7, 9, 3, 4, 6],\n",
       " [6, 7, 9, 7, 9, 4, 6, 7, 9, 7, 9, 4, 6, 7, 9, 4, 6, 7, 0, 3],\n",
       " [1, 0, 3, 7, 9, 4, 4, 6, 7, 9, 4, 6, 7, 9, 3, 4, 6, 7, 7, 9],\n",
       " [4, 6, 9, 4, 6, 7, 9, 4, 6, 7, 9, 4, 6, 7, 7, 9, 4, 4, 6, 7],\n",
       " [5, 0, 3, 4, 3, 4, 6, 7, 9, 7, 9, 3, 4, 7, 9, 7, 9, 7, 9, 4],\n",
       " [8, 0, 4, 6, 7, 9, 7, 7, 7, 9, 4, 7, 4, 6, 7, 4, 6, 7, 3, 4],\n",
       " [0, 3, 4, 4, 6, 7, 9, 4, 7, 9, 4, 6, 7, 7, 9, 3, 4, 6, 7, 9],\n",
       " [7, 9, 4, 6, 7, 0, 4, 6, 7, 9, 7, 9, 7, 9, 3, 4, 6, 7, 7, 7],\n",
       " [6, 7, 7, 9, 7, 9, 4, 6, 3, 6, 7, 9, 7, 9, 7, 9, 3, 4, 6, 7],\n",
       " [3, 4, 6, 7, 7, 9, 7, 9, 4, 6, 7, 9, 7, 9, 7, 9, 7, 9, 3, 3],\n",
       " [9, 4, 6, 7, 9, 7, 9, 7, 9, 4, 7, 7, 9, 4, 6, 7, 9, 4, 7, 9],\n",
       " [2, 0, 3, 4, 6, 3, 4, 3, 4, 4, 4, 3, 4, 6, 7, 9, 4, 6, 7, 9],\n",
       " [1, 0, 0, 0, 3, 4, 6, 3, 4, 6, 7, 9, 4, 6, 7, 9, 7, 9, 3, 4],\n",
       " [9, 4, 7, 9, 4, 7, 9, 4, 6, 7, 9, 4, 7, 9, 7, 9, 3, 4, 6, 7],\n",
       " [8, 0, 3, 4, 6, 7, 9, 4, 6, 3, 4, 6, 7, 9, 7, 9, 3, 4, 4, 6],\n",
       " [3, 4, 6, 4, 6, 7, 4, 4, 6, 7, 0, 3, 4, 6, 7, 4, 6, 7, 9, 4],\n",
       " [7, 7, 0, 3, 4, 6, 7, 0, 3, 4, 6, 7, 9, 3, 4, 3, 4, 6, 7, 9],\n",
       " [5, 0, 3, 4, 6, 7, 4, 6, 7, 9, 4, 4, 6, 7, 0, 0, 3, 4, 6, 7],\n",
       " [0, 3, 4, 6, 7, 9, 3, 4, 6, 7, 0, 3, 4, 6, 7, 4, 7, 9, 4, 6],\n",
       " [6, 7, 0, 3, 4, 6, 3, 4, 7, 9, 4, 6, 7, 4, 6, 7, 9, 7, 6, 7],\n",
       " [2, 0, 3, 3, 4, 6, 7, 7, 9, 3, 4, 6, 7, 9, 4, 6, 7, 9, 7, 9],\n",
       " [4, 4, 6, 7, 9, 4, 6, 7, 7, 9, 7, 7, 7, 0, 3, 3, 4, 6, 7, 9],\n",
       " [4, 6, 7, 9, 3, 4, 6, 7, 9, 4, 6, 7, 9, 3, 4, 6, 7, 7, 9, 4],\n",
       " [3, 4, 6, 7, 9, 7, 9, 4, 6, 7, 0, 4, 3, 4, 4, 6, 7, 9, 7, 9],\n",
       " [0, 4, 9, 4, 6, 7, 9, 7, 9, 7, 9, 3, 4, 6, 7, 9, 4, 4, 6, 7],\n",
       " [2, 0, 3, 4, 7, 9, 3, 4, 6, 7, 0, 3, 4, 6, 7, 9, 4, 6, 7, 9],\n",
       " [9, 3, 4, 6, 4, 6, 4, 6, 3, 7, 9, 4, 6, 0, 4, 6, 7, 7, 9, 7],\n",
       " [5, 0, 3, 4, 6, 7, 3, 4, 6, 7, 9, 3, 4, 6, 7, 9, 4, 3, 4, 6],\n",
       " [1, 0, 3, 4, 6, 7, 9, 7, 9, 7, 9, 7, 9, 4, 6, 3, 4, 6, 7, 9],\n",
       " [8, 0, 3, 3, 4, 6, 7, 0, 3, 4, 6, 7, 9, 7, 9, 7, 9, 7, 9, 4],\n",
       " [6, 7, 9, 4, 6, 7, 9, 3, 4, 4, 6, 3, 4, 6, 7, 4, 6, 0, 4, 6],\n",
       " [7, 9, 4, 6, 7, 9, 4, 6, 7, 9, 7, 9, 7, 9, 7, 9, 7, 9, 4, 6],\n",
       " [0, 3, 4, 6, 7, 9, 7, 9, 4, 6, 3, 4, 6, 7, 9, 3, 3, 4, 6, 7],\n",
       " [8, 0, 0, 9, 3, 4, 6, 7, 7, 9, 7, 9, 7, 9, 4, 6, 7, 9, 7, 9],\n",
       " [3, 4, 6, 7, 7, 7, 9, 4, 6, 7, 0, 3, 4, 6, 7, 7, 0, 3, 4, 6],\n",
       " [5, 0, 3, 4, 6, 7, 9, 4, 6, 7, 9, 7, 0, 3, 4, 6, 7, 9, 4, 6],\n",
       " [6, 6, 6, 7, 9, 7, 0, 3, 4, 6, 7, 9, 7, 9, 7, 4, 6, 7, 7, 9],\n",
       " [1, 0, 3, 4, 4, 4, 6, 7, 9, 7, 9, 4, 6, 7, 7, 7, 9, 4, 6, 7],\n",
       " [4, 6, 7, 9, 4, 3, 4, 6, 7, 9, 7, 9, 7, 9, 7, 0, 4, 6, 7, 9],\n",
       " [7, 9, 3, 4, 6, 7, 7, 6, 7, 9, 4, 6, 7, 0, 3, 4, 6, 7, 0, 3],\n",
       " [2, 0, 3, 3, 4, 3, 4, 6, 7, 9, 7, 9, 3, 4, 6, 7, 9, 4, 6, 7],\n",
       " [9, 3, 4, 6, 7, 0, 3, 7, 9, 7, 9, 4, 6, 7, 9, 3, 4, 6, 7, 7],\n",
       " [9, 4, 6, 7, 7, 9, 7, 9, 4, 6, 7, 9, 4, 3, 6, 7, 9, 7, 9, 7],\n",
       " [8, 0, 0, 4, 6, 7, 7, 7, 7, 9, 4, 6, 7, 9, 4, 6, 7, 9, 4, 7],\n",
       " [6, 3, 4, 7, 7, 7, 9, 7, 9, 3, 4, 6, 7, 9, 4, 6, 7, 0, 4, 6],\n",
       " [5, 0, 3, 4, 4, 6, 7, 6, 7, 0, 7, 0, 3, 4, 6, 4, 6, 7, 9, 7],\n",
       " [2, 0, 7, 9, 7, 9, 4, 4, 6, 7, 9, 7, 0, 3, 4, 6, 0, 3, 4, 6],\n",
       " [1, 0, 4, 6, 7, 7, 4, 7, 9, 3, 4, 6, 7, 9, 7, 9, 7, 9, 4, 6],\n",
       " [4, 6, 7, 4, 6, 7, 9, 3, 4, 6, 7, 9, 4, 6, 7, 7, 4, 6, 7, 7],\n",
       " [7, 0, 3, 3, 4, 6, 7, 9, 7, 9, 7, 9, 4, 6, 7, 9, 4, 3, 4, 6],\n",
       " [3, 4, 6, 7, 9, 4, 7, 9, 7, 9, 7, 7, 0, 4, 3, 4, 6, 7, 6, 7],\n",
       " [0, 4, 6, 0, 3, 4, 6, 7, 9, 7, 9, 4, 4, 4, 6, 7, 9, 3, 4, 4],\n",
       " [0, 3, 4, 4, 6, 7, 9, 4, 6, 7, 0, 4, 4, 6, 3, 4, 6, 7, 9, 7],\n",
       " [5, 0, 3, 4, 4, 6, 7, 7, 7, 7, 7, 7, 7, 7, 4, 6, 7, 9, 4, 6],\n",
       " [7, 7, 9, 4, 6, 7, 9, 4, 6, 7, 9, 4, 6, 7, 9, 4, 3, 4, 6, 7],\n",
       " [8, 0, 3, 4, 6, 7, 9, 7, 0, 3, 4, 6, 7, 9, 3, 4, 7, 7, 9, 4],\n",
       " [4, 6, 7, 4, 6, 7, 9, 3, 4, 6, 3, 4, 7, 9, 7, 9, 4, 6, 7, 9],\n",
       " [1, 0, 3, 4, 6, 4, 6, 7, 9, 4, 6, 7, 9, 7, 9, 4, 4, 6, 3, 4],\n",
       " [6, 9, 3, 4, 6, 7, 4, 6, 7, 9, 3, 4, 6, 4, 6, 7, 4, 6, 7, 9],\n",
       " [3, 4, 6, 7, 9, 3, 4, 4, 6, 7, 9, 3, 4, 6, 7, 7, 9, 4, 6, 7],\n",
       " [2, 0, 3, 4, 6, 7, 9, 4, 4, 6, 7, 9, 4, 7, 9, 3, 4, 4, 6, 7],\n",
       " [9, 4, 4, 6, 7, 9, 3, 4, 4, 6, 7, 0, 3, 4, 7, 7, 9, 4, 6, 7],\n",
       " [9, 7, 9, 7, 9, 4, 6, 7, 9, 4, 6, 7, 9, 7, 9, 3, 4, 6, 7, 9],\n",
       " [4, 6, 7, 9, 3, 4, 6, 7, 6, 7, 9, 7, 9, 4, 6, 7, 7, 9, 4, 4],\n",
       " [0, 3, 4, 6, 7, 9, 7, 4, 6, 7, 0, 3, 4, 7, 9, 3, 4, 7, 7, 9],\n",
       " [2, 0, 3, 4, 6, 4, 6, 7, 7, 9, 4, 6, 7, 0, 3, 4, 6, 7, 0, 3],\n",
       " [3, 4, 4, 6, 7, 9, 3, 4, 6, 7, 9, 4, 6, 3, 4, 6, 7, 9, 4, 6],\n",
       " [7, 9, 4, 6, 4, 6, 7, 9, 7, 9, 7, 9, 7, 7, 9, 4, 6, 7, 9, 4],\n",
       " [5, 0, 3, 4, 6, 7, 9, 4, 6, 4, 6, 7, 9, 7, 9, 4, 6, 3, 4, 6],\n",
       " [6, 4, 6, 7, 6, 7, 0, 3, 4, 6, 7, 9, 3, 4, 6, 7, 9, 4, 6, 7],\n",
       " [1, 0, 3, 4, 6, 7, 9, 4, 6, 7, 7, 9, 3, 4, 6, 7, 9, 7, 4, 6],\n",
       " [8, 0, 4, 6, 7, 9, 7, 9, 4, 6, 3, 4, 3, 4, 6, 7, 3, 4, 6, 7],\n",
       " [8, 0, 6, 7, 9, 4, 6, 4, 6, 7, 0, 3, 4, 3, 4, 6, 7, 9, 7, 9],\n",
       " [5, 0, 3, 4, 6, 7, 9, 4, 4, 7, 4, 4, 6, 4, 7, 9, 4, 6, 4, 6],\n",
       " [2, 0, 3, 3, 4, 7, 9, 7, 9, 4, 6, 7, 9, 7, 3, 4, 6, 7, 4, 6],\n",
       " [7, 4, 6, 7, 7, 7, 7, 4, 6, 7, 9, 7, 9, 3, 4, 6, 7, 9, 7, 9],\n",
       " [1, 0, 3, 4, 6, 7, 9, 7, 9, 3, 4, 7, 9, 3, 4, 7, 0, 0, 3, 4],\n",
       " [6, 7, 9, 3, 4, 6, 3, 4, 4, 6, 7, 9, 7, 9, 7, 9, 4, 6, 7, 6],\n",
       " [9, 3, 4, 6, 7, 9, 7, 9, 3, 4, 6, 7, 9, 4, 6, 7, 9, 4, 6, 7],\n",
       " [0, 0, 4, 6, 7, 9, 7, 7, 9, 7, 9, 7, 9, 7, 9, 4, 6, 7, 7, 9],\n",
       " [4, 6, 7, 4, 6, 7, 4, 7, 9, 7, 0, 0, 4, 6, 4, 6, 7, 7, 9, 4],\n",
       " [3, 4, 6, 7, 9, 4, 6, 4, 6, 7, 9, 7, 9, 4, 6, 7, 9, 3, 4, 6],\n",
       " [2, 0, 3, 4, 6, 7, 9, 7, 9, 4, 6, 4, 6, 7, 0, 3, 4, 6, 7, 9],\n",
       " [1, 0, 3, 4, 6, 3, 4, 7, 9, 4, 6, 7, 9, 4, 4, 6, 7, 0, 9, 3],\n",
       " [6, 4, 6, 7, 9, 4, 6, 7, 9, 7, 9, 4, 6, 7, 9, 3, 4, 6, 7, 9],\n",
       " [8, 0, 3, 4, 6, 7, 9, 4, 6, 7, 9, 7, 9, 4, 4, 6, 4, 6, 7, 7],\n",
       " [4, 6, 7, 9, 4, 6, 7, 4, 7, 9, 4, 4, 6, 7, 9, 4, 6, 7, 4, 6],\n",
       " [5, 0, 3, 4, 6, 7, 9, 3, 4, 6, 7, 7, 9, 4, 3, 4, 4, 6, 4, 6],\n",
       " [7, 7, 7, 9, 4, 6, 7, 0, 0, 3, 4, 6, 6, 7, 9, 4, 6, 7, 9, 4],\n",
       " [0, 3, 4, 6, 7, 9, 7, 9, 7, 0, 3, 7, 0, 3, 3, 4, 3, 4, 6, 7],\n",
       " [3, 4, 6, 7, 9, 7, 9, 4, 6, 7, 9, 3, 4, 6, 7, 0, 3, 4, 6, 7],\n",
       " [9, 3, 4, 4, 6, 7, 9, 4, 6, 7, 9, 7, 7, 7, 9, 7, 9, 3, 4, 6],\n",
       " [2, 0, 3, 4, 6, 7, 9, 7, 9, 3, 4, 6, 7, 9, 4, 6, 3, 4, 6, 7],\n",
       " [0, 3, 4, 3, 4, 7, 9, 3, 4, 6, 7, 9, 7, 9, 4, 6, 7, 9, 7, 0],\n",
       " [8, 0, 3, 4, 3, 4, 6, 7, 4, 7, 9, 4, 6, 4, 6, 7, 9, 4, 4, 6],\n",
       " [4, 6, 7, 9, 3, 4, 6, 7, 0, 3, 6, 7, 9, 7, 9, 7, 9, 4, 4, 6],\n",
       " [9, 4, 4, 6, 7, 6, 7, 9, 7, 7, 9, 7, 0, 3, 4, 7, 9, 4, 6, 7],\n",
       " [1, 0, 3, 4, 6, 7, 9, 4, 6, 7, 9, 4, 6, 7, 6, 7, 9, 3, 4, 6],\n",
       " [5, 0, 3, 4, 4, 6, 3, 4, 6, 7, 9, 4, 6, 7, 9, 3, 4, 6, 3, 4],\n",
       " [3, 4, 4, 6, 7, 9, 4, 4, 6, 7, 9, 4, 7, 9, 7, 9, 7, 9, 4, 6],\n",
       " [7, 7, 7, 7, 9, 3, 4, 6, 7, 9, 3, 4, 6, 7, 9, 4, 6, 7, 9, 3],\n",
       " [6, 3, 4, 3, 3, 4, 6, 7, 7, 9, 7, 9, 3, 4, 6, 7, 7, 9, 4, 6],\n",
       " [6, 7, 9, 7, 9, 3, 4, 6, 7, 4, 6, 7, 9, 7, 9, 4, 7, 9, 4, 6],\n",
       " [3, 4, 6, 7, 9, 3, 4, 7, 9, 7, 9, 7, 9, 4, 6, 7, 7, 0, 3, 4],\n",
       " [9, 4, 4, 4, 4, 6, 7, 9, 7, 9, 4, 7, 9, 4, 7, 4, 6, 7, 9, 3],\n",
       " [4, 6, 7, 9, 7, 9, 4, 6, 3, 4, 4, 6, 4, 6, 7, 4, 6, 7, 9, 4],\n",
       " [1, 0, 3, 4, 6, 7, 0, 4, 7, 9, 7, 9, 7, 9, 4, 6, 7, 9, 4, 6],\n",
       " [2, 0, 0, 3, 4, 6, 3, 4, 6, 7, 3, 4, 3, 4, 6, 7, 9, 4, 6, 7],\n",
       " [0, 7, 9, 4, 4, 6, 7, 7, 0, 4, 6, 7, 4, 6, 4, 6, 7, 7, 9, 3],\n",
       " [8, 0, 3, 4, 6, 7, 4, 6, 7, 9, 4, 4, 6, 7, 4, 6, 7, 9, 4, 6],\n",
       " [7, 9, 7, 9, 3, 4, 6, 7, 9, 4, 6, 7, 9, 3, 4, 6, 7, 7, 0, 3],\n",
       " [5, 0, 3, 4, 6, 7, 9, 7, 9, 4, 6, 7, 6, 7, 9, 3, 4, 4, 6, 7],\n",
       " [8, 0, 3, 4, 6, 7, 4, 6, 7, 9, 4, 6, 7, 7, 9, 7, 9, 3, 4, 6],\n",
       " [9, 3, 0, 4, 7, 9, 4, 6, 7, 9, 4, 6, 7, 0, 3, 4, 7, 9, 7, 6],\n",
       " [3, 4, 4, 6, 7, 9, 4, 4, 4, 6, 6, 7, 4, 6, 7, 9, 4, 6, 3, 4],\n",
       " [2, 0, 3, 4, 6, 7, 9, 4, 6, 9, 4, 4, 4, 6, 7, 9, 7, 9, 4, 6],\n",
       " [1, 0, 3, 4, 7, 3, 4, 6, 7, 4, 4, 6, 4, 6, 7, 9, 4, 9, 3, 4],\n",
       " [6, 7, 9, 3, 4, 6, 7, 4, 6, 7, 7, 0, 4, 6, 4, 6, 7, 4, 6, 7],\n",
       " [5, 0, 3, 4, 6, 7, 9, 4, 6, 7, 9, 7, 9, 4, 7, 9, 7, 9, 3, 4],\n",
       " [0, 3, 4, 6, 7, 7, 9, 7, 9, 7, 9, 7, 9, 4, 6, 7, 9, 4, 6, 7],\n",
       " [4, 6, 4, 6, 7, 0, 3, 4, 6, 7, 9, 7, 9, 7, 9, 4, 6, 7, 9, 4],\n",
       " [7, 0, 4, 6, 7, 9, 4, 6, 7, 0, 4, 6, 7, 9, 4, 6, 3, 4, 6, 7],\n",
       " [7, 9, 7, 0, 3, 3, 4, 6, 7, 9, 3, 4, 7, 9, 4, 6, 7, 7, 9, 4],\n",
       " [0, 3, 4, 6, 7, 9, 7, 9, 3, 4, 6, 7, 3, 4, 6, 4, 6, 7, 9, 4],\n",
       " [6, 7, 9, 7, 9, 7, 9, 7, 9, 4, 6, 7, 9, 7, 9, 4, 7, 9, 4, 9],\n",
       " [9, 4, 6, 7, 9, 3, 3, 4, 6, 7, 7, 4, 6, 7, 9, 3, 4, 6, 7, 9],\n",
       " [5, 0, 3, 4, 9, 4, 6, 7, 9, 3, 4, 6, 7, 9, 7, 9, 4, 6, 0, 3],\n",
       " [2, 0, 3, 3, 4, 6, 7, 9, 4, 6, 7, 9, 7, 9, 4, 6, 4, 6, 4, 6],\n",
       " [1, 0, 3, 4, 6, 3, 4, 6, 7, 9, 3, 4, 6, 7, 7, 7, 9, 4, 6, 7],\n",
       " [8, 0, 4, 9, 4, 7, 9, 4, 6, 7, 9, 4, 6, 3, 6, 7, 7, 9, 4, 6],\n",
       " [4, 6, 7, 9, 4, 6, 7, 9, 7, 9, 4, 6, 6, 7, 4, 6, 7, 7, 9, 4],\n",
       " [3, 4, 6, 7, 9, 7, 4, 6, 7, 9, 4, 6, 7, 9, 4, 6, 7, 9, 3, 4],\n",
       " [7, 9, 4, 6, 4, 6, 6, 7, 9, 4, 6, 7, 9, 7, 9, 4, 6, 4, 4, 6],\n",
       " [5, 0, 3, 4, 6, 7, 9, 7, 7, 7, 9, 4, 6, 4, 6, 7, 9, 4, 6, 7],\n",
       " [1, 0, 3, 4, 6, 4, 6, 7, 9, 4, 6, 7, 9, 4, 4, 6, 7, 9, 7, 9],\n",
       " [8, 0, 3, 4, 6, 7, 9, 7, 7, 9, 3, 4, 6, 7, 7, 9, 4, 6, 4, 7],\n",
       " [2, 0, 3, 0, 3, 4, 6, 7, 9, 7, 9, 7, 9, 4, 6, 7, 9, 7, 9, 3],\n",
       " [6, 7, 9, 4, 6, 7, 0, 4, 6, 7, 9, 7, 9, 4, 6, 7, 7, 9, 7, 9],\n",
       " [0, 3, 6, 7, 9, 3, 4, 6, 6, 7, 9, 3, 4, 7, 9, 4, 6, 7, 9, 4],\n",
       " [4, 6, 7, 9, 7, 9, 4, 6, 7, 9, 7, 0, 3, 4, 7, 9, 7, 9, 4, 3],\n",
       " [3, 4, 4, 4, 6, 7, 0, 3, 4, 6, 7, 9, 7, 9, 7, 9, 7, 9, 4, 6],\n",
       " [9, 4, 6, 7, 7, 9, 7, 9, 3, 4, 6, 7, 9, 4, 6, 7, 9, 7, 9, 7],\n",
       " [3, 4, 6, 7, 0, 3, 4, 6, 7, 9, 3, 4, 6, 7, 9, 7, 9, 7, 9, 4],\n",
       " [6, 7, 9, 7, 9, 4, 6, 7, 7, 9, 4, 6, 7, 9, 3, 4, 6, 7, 4, 6],\n",
       " [0, 3, 4, 6, 7, 9, 7, 7, 0, 3, 4, 6, 3, 6, 7, 7, 7, 9, 7, 0],\n",
       " [9, 4, 6, 6, 7, 9, 7, 7, 7, 7, 9, 7, 4, 6, 4, 6, 7, 9, 4, 6],\n",
       " [5, 0, 3, 4, 6, 7, 9, 4, 6, 3, 4, 3, 9, 7, 9, 4, 4, 6, 3, 3],\n",
       " [8, 0, 7, 9, 7, 9, 4, 6, 7, 9, 7, 9, 4, 6, 7, 0, 3, 4, 4, 6],\n",
       " [2, 0, 3, 4, 4, 4, 6, 7, 0, 3, 4, 6, 7, 7, 9, 3, 4, 6, 7, 7],\n",
       " [4, 6, 7, 9, 7, 9, 7, 0, 3, 7, 9, 4, 9, 4, 6, 7, 9, 7, 9, 7],\n",
       " [7, 3, 4, 6, 7, 9, 3, 4, 6, 3, 4, 6, 7, 6, 7, 3, 4, 6, 7, 0],\n",
       " [1, 0, 3, 4, 7, 4, 6, 7, 0, 3, 6, 7, 9, 4, 6, 7, 9, 4, 6, 7],\n",
       " [7, 9, 7, 9, 4, 6, 4, 6, 4, 6, 7, 9, 4, 6, 7, 3, 4, 3, 4, 6],\n",
       " [5, 0, 6, 7, 0, 0, 3, 4, 6, 3, 4, 3, 4, 6, 7, 9, 7, 9, 7, 7],\n",
       " [0, 3, 4, 6, 3, 4, 6, 7, 9, 3, 4, 6, 7, 9, 4, 6, 7, 9, 7, 9],\n",
       " [8, 0, 7, 9, 4, 6, 7, 9, 4, 6, 7, 9, 7, 9, 7, 9, 4, 6, 6, 7],\n",
       " [1, 0, 3, 4, 7, 9, 3, 4, 6, 7, 9, 7, 9, 3, 4, 6, 7, 9, 4, 4],\n",
       " [6, 7, 7, 9, 3, 4, 6, 7, 0, 3, 4, 6, 7, 9, 4, 6, 3, 4, 6, 7],\n",
       " [9, 4, 7, 9, 3, 4, 6, 7, 0, 3, 4, 6, 7, 9, 7, 9, 4, 6, 7, 9],\n",
       " [3, 4, 6, 7, 9, 4, 6, 7, 4, 6, 7, 7, 4, 6, 7, 9, 7, 9, 7, 9],\n",
       " [4, 6, 7, 9, 3, 4, 6, 7, 0, 4, 6, 7, 9, 3, 6, 7, 0, 3, 4, 6],\n",
       " [2, 0, 3, 7, 0, 4, 6, 7, 9, 4, 6, 7, 9, 7, 9, 4, 7, 4, 7, 9],\n",
       " [4, 6, 7, 9, 4, 6, 6, 7, 4, 6, 7, 4, 6, 7, 0, 3, 3, 3, 3, 4],\n",
       " [2, 0, 3, 3, 4, 3, 4, 6, 7, 9, 7, 9, 3, 4, 6, 7, 9, 7, 9, 4],\n",
       " [5, 0, 3, 4, 6, 7, 9, 7, 9, 4, 4, 4, 6, 7, 9, 4, 6, 7, 9, 4],\n",
       " [1, 0, 3, 4, 6, 7, 9, 3, 4, 6, 7, 9, 7, 9, 3, 9, 3, 7, 9, 4],\n",
       " [7, 9, 3, 4, 6, 7, 6, 6, 4, 6, 7, 0, 4, 6, 7, 9, 4, 6, 7, 9],\n",
       " [3, 4, 6, 7, 0, 3, 4, 4, 6, 7, 0, 3, 4, 6, 7, 9, 7, 9, 4, 6],\n",
       " [0, 3, 4, 6, 7, 9, 4, 6, 7, 7, 0, 4, 6, 7, 9, 3, 7, 0, 3, 4],\n",
       " [6, 7, 7, 9, 4, 6, 7, 9, 4, 4, 6, 9, 7, 9, 7, 9, 3, 4, 6, 7],\n",
       " [8, 0, 4, 4, 6, 7, 9, 4, 6, 7, 4, 6, 7, 9, 7, 9, 7, 9, 7, 9],\n",
       " [9, 3, 4, 6, 7, 7, 7, 3, 4, 6, 7, 4, 6, 7, 9, 7, 9, 4, 6, 7],\n",
       " [8, 0, 3, 4, 7, 4, 7, 9, 4, 6, 3, 4, 4, 6, 7, 0, 3, 3, 4, 6],\n",
       " [9, 4, 4, 6, 7, 9, 3, 4, 6, 7, 9, 7, 9, 4, 6, 7, 7, 7, 9, 4],\n",
       " [4, 6, 4, 6, 7, 9, 4, 6, 7, 9, 3, 4, 6, 3, 7, 3, 4, 6, 7, 9],\n",
       " [7, 9, 7, 4, 7, 9, 7, 9, 3, 9, 3, 4, 6, 7, 9, 3, 3, 3, 4, 6],\n",
       " [6, 7, 9, 4, 6, 7, 0, 3, 4, 6, 7, 4, 6, 7, 9, 7, 9, 4, 6, 7],\n",
       " [5, 0, 3, 4, 6, 7, 9, 7, 9, 4, 6, 7, 4, 6, 0, 0, 3, 4, 6, 7],\n",
       " [3, 4, 4, 6, 7, 0, 3, 4, 7, 9, 3, 4, 6, 7, 9, 4, 6, 7, 9, 4],\n",
       " [1, 0, 3, 4, 6, 7, 4, 6, 7, 9, 4, 7, 0, 3, 4, 4, 7, 9, 3, 4],\n",
       " [0, 4, 4, 6, 7, 0, 3, 4, 6, 4, 6, 7, 0, 4, 6, 7, 9, 4, 6, 7],\n",
       " [2, 0, 3, 4, 6, 3, 4, 6, 7, 9, 4, 6, 7, 9, 7, 9, 7, 7, 9, 4]]"
      ]
     },
     "execution_count": 52,
     "metadata": {},
     "output_type": "execute_result"
    }
   ],
   "source": [
    "Word2Vec()"
   ]
  },
  {
   "cell_type": "code",
   "execution_count": null,
   "metadata": {},
   "outputs": [],
   "source": []
  }
 ],
 "metadata": {
  "kernelspec": {
   "display_name": "Python 3",
   "language": "python",
   "name": "python3"
  },
  "language_info": {
   "codemirror_mode": {
    "name": "ipython",
    "version": 3
   },
   "file_extension": ".py",
   "mimetype": "text/x-python",
   "name": "python",
   "nbconvert_exporter": "python",
   "pygments_lexer": "ipython3",
   "version": "3.6.3"
  }
 },
 "nbformat": 4,
 "nbformat_minor": 2
}
