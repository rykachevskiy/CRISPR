{
 "cells": [
  {
   "cell_type": "code",
   "execution_count": 83,
   "metadata": {},
   "outputs": [],
   "source": [
    "import numpy as np\n",
    "import sys\n",
    "\n",
    "import itertools\n",
    "\n",
    "import matplotlib.pyplot as plt"
   ]
  },
  {
   "cell_type": "code",
   "execution_count": 2,
   "metadata": {},
   "outputs": [],
   "source": [
    "sys.path.append(\"../utils/\")"
   ]
  },
  {
   "cell_type": "code",
   "execution_count": 3,
   "metadata": {},
   "outputs": [],
   "source": [
    "import plot_utils as pu"
   ]
  },
  {
   "cell_type": "code",
   "execution_count": 4,
   "metadata": {},
   "outputs": [],
   "source": [
    "X = np.load(\"../../data/simulation/1000_35_like_true/amp_gr.npy\")\n",
    "Y = np.load(\"../../data/simulation/1000_35_like_true/populations_gr.npy\")"
   ]
  },
  {
   "cell_type": "code",
   "execution_count": 5,
   "metadata": {},
   "outputs": [
    {
     "data": {
      "image/png": "[encoded data removed]",
      "text/plain": [
       "<matplotlib.figure.Figure at 0x7f2973047e80>"
      ]
     },
     "metadata": {},
     "output_type": "display_data"
    }
   ],
   "source": [
    "pu.plot_grs(X[0], Y[0], s = 12)"
   ]
  },
  {
   "cell_type": "code",
   "execution_count": 6,
   "metadata": {},
   "outputs": [],
   "source": [
    "gr, gr_y = X[0], Y[0]"
   ]
  },
  {
   "cell_type": "code",
   "execution_count": 7,
   "metadata": {},
   "outputs": [],
   "source": [
    "def gr_to_pairs(gr):\n",
    "    N = gr.shape[0]\n",
    "    pairs = [x for x in itertools.product(range(N), range(N))]\n",
    "    pairs_counts = {}\n",
    "    \n",
    "    for p in pairs:\n",
    "        if gr[p[0], p[1]] > 0: pairs_counts[p] = gr[p[0], p[1]].astype(int)\n",
    "    \n",
    "    \n",
    "    p_to_n = dict(zip(pairs_counts.keys(), np.arange(len(pairs)).astype(int)))\n",
    "    n_to_p = dict(zip(np.arange(len(pairs)).astype(int), pairs_counts.keys()))\n",
    "    \n",
    "    return pairs_counts, p_to_n, n_to_p, N"
   ]
  },
  {
   "cell_type": "code",
   "execution_count": 8,
   "metadata": {},
   "outputs": [],
   "source": [
    "def pairs_to_sparse_gr(p_to_n):\n",
    "    N = len(p_to_n)\n",
    "    first = dict(zip(range(N), [[] for i in range(N)] ))\n",
    "    second = dict(zip(range(N), [[] for i in range(N)]))\n",
    "    \n",
    "    for p in p_to_n.keys():\n",
    "        first[p[0]].append(p)\n",
    "        second[p[1]].append(p)\n",
    "    \n",
    "    gr = np.zeros((N, N))\n",
    "    \n",
    "    for p in p_to_n.keys():\n",
    "        for p2 in first[p[1]]:\n",
    "            gr[p_to_n[p]][p_to_n[p2]] = 1\n",
    "    \n",
    "    return gr, first, second"
   ]
  },
  {
   "cell_type": "code",
   "execution_count": 9,
   "metadata": {},
   "outputs": [],
   "source": [
    "pairs, p_to_n, n_to_p, N = gr_to_pairs(gr)"
   ]
  },
  {
   "cell_type": "code",
   "execution_count": 10,
   "metadata": {},
   "outputs": [],
   "source": [
    "d = {(0,1) : 0, (1,0) : 1, (1,2) : 2}"
   ]
  },
  {
   "cell_type": "code",
   "execution_count": 11,
   "metadata": {},
   "outputs": [],
   "source": [
    "gr_n = pairs_to_sparse_gr(p_to_n)"
   ]
  },
  {
   "cell_type": "code",
   "execution_count": 12,
   "metadata": {},
   "outputs": [
    {
     "data": {
      "image/png": "[encoded data removed]",
      "text/plain": [
       "<matplotlib.figure.Figure at 0x7f296fa9f4a8>"
      ]
     },
     "metadata": {},
     "output_type": "display_data"
    }
   ],
   "source": [
    "pu.plot_gr(gr_n[0], s  =4)"
   ]
  },
  {
   "cell_type": "code",
   "execution_count": null,
   "metadata": {},
   "outputs": [],
   "source": []
  },
  {
   "cell_type": "code",
   "execution_count": 13,
   "metadata": {},
   "outputs": [],
   "source": [
    "def make_vertexes_embs(gr, p_to_n):\n",
    "    embs = np.zeros((len(p_to_n), 5))\n",
    "    \n",
    "    for i, p in enumerate(p_to_n.keys()):\n",
    "        embs[i, 0] = gr[p[0], p[1]]\n",
    "        embs[i, 1] = embs[i, 0] / gr[p[0]].sum()\n",
    "        embs[i, 2] = embs[i, 0] / gr[:, p[1]].sum()\n",
    "        \n",
    "        embs[i, 3] = embs[i, 0] / max(1, gr[:, p[0]].sum())\n",
    "        embs[i, 4] = embs[i, 0] / max(1, gr[p[1]].sum())\n",
    "    return embs\n",
    "        "
   ]
  },
  {
   "cell_type": "code",
   "execution_count": 14,
   "metadata": {},
   "outputs": [],
   "source": [
    "def make_y(gr_y, p_to_n):\n",
    "    y = np.zeros(len(p_to_n)).astype(int)\n",
    "    \n",
    "    for i, p in enumerate(p_to_n.keys()):\n",
    "        y[i] = (gr_y[p[0], p[1]] > 0).astype(int)\n",
    "        \n",
    "    return y"
   ]
  },
  {
   "cell_type": "code",
   "execution_count": 15,
   "metadata": {},
   "outputs": [],
   "source": [
    "from tqdm import tqdm_notebook"
   ]
  },
  {
   "cell_type": "code",
   "execution_count": 17,
   "metadata": {},
   "outputs": [
    {
     "data": {
      "text/plain": [
       "(1000, 35, 35)"
      ]
     },
     "execution_count": 17,
     "metadata": {},
     "output_type": "execute_result"
    }
   ],
   "source": [
    "X.shape"
   ]
  },
  {
   "cell_type": "code",
   "execution_count": 19,
   "metadata": {},
   "outputs": [
    {
     "data": {
      "application/vnd.jupyter.widget-view+json": {
       "model_id": "5ddd1e6527ab479d843033c453c0d803",
       "version_major": 2,
       "version_minor": 0
      },
      "text/plain": [
       "A Jupyter Widget"
      ]
     },
     "metadata": {},
     "output_type": "display_data"
    },
    {
     "name": "stdout",
     "output_type": "stream",
     "text": [
      "\n"
     ]
    }
   ],
   "source": [
    "NEW_X = []\n",
    "NEW_Y = []\n",
    "adj = []\n",
    "\n",
    "\n",
    "for x, y in tqdm_notebook(zip(X, Y)):\n",
    "    pairs, p_to_n, n_to_p, N = gr_to_pairs(x)\n",
    "    gr = pairs_to_sparse_gr(p_to_n)\n",
    "    \n",
    "    \n",
    "    new_x = make_vertexes_embs(x, p_to_n)\n",
    "    new_y = make_y(y, p_to_n) \n",
    "    \n",
    "    adj.append(gr)\n",
    "    NEW_X.append(new_x)\n",
    "    NEW_Y.append(new_y)"
   ]
  },
  {
   "cell_type": "code",
   "execution_count": null,
   "metadata": {},
   "outputs": [],
   "source": []
  },
  {
   "cell_type": "code",
   "execution_count": 31,
   "metadata": {},
   "outputs": [],
   "source": [
    "embs = np.array(NEW_X)\n",
    "adjs = np.array(adj)\n",
    "target = np.array(NEW_Y)"
   ]
  },
  {
   "cell_type": "code",
   "execution_count": 34,
   "metadata": {},
   "outputs": [],
   "source": [
    "np.save(\"../../data/gnn_prepared/embs\", embs)\n",
    "np.save(\"../../data/gnn_prepared/adjs\", adjs)\n",
    "np.save(\"../../data/gnn_prepared/target\", target)"
   ]
  },
  {
   "cell_type": "code",
   "execution_count": null,
   "metadata": {},
   "outputs": [],
   "source": []
  },
  {
   "cell_type": "code",
   "execution_count": null,
   "metadata": {},
   "outputs": [],
   "source": []
  },
  {
   "cell_type": "code",
   "execution_count": 168,
   "metadata": {},
   "outputs": [],
   "source": [
    "train_x = np.vstack(NEW_X[:800])[:, 1:]\n",
    "train_y = np.hstack(NEW_Y[:800])\n",
    "\n",
    "val_x = np.vstack(NEW_X[800:])[:, 1:]\n",
    "val_y = np.hstack(NEW_Y[800:])"
   ]
  },
  {
   "cell_type": "code",
   "execution_count": 169,
   "metadata": {},
   "outputs": [],
   "source": [
    "from sklearn.linear_model import LogisticRegression\n",
    "from sklearn.svm import SVC"
   ]
  },
  {
   "cell_type": "code",
   "execution_count": 170,
   "metadata": {},
   "outputs": [],
   "source": [
    "#lr = LogisticRegression()\n",
    "lr = SVC()"
   ]
  },
  {
   "cell_type": "code",
   "execution_count": 171,
   "metadata": {},
   "outputs": [
    {
     "data": {
      "text/plain": [
       "SVC(C=1.0, cache_size=200, class_weight=None, coef0=0.0,\n",
       "  decision_function_shape='ovr', degree=3, gamma='auto', kernel='rbf',\n",
       "  max_iter=-1, probability=False, random_state=None, shrinking=True,\n",
       "  tol=0.001, verbose=False)"
      ]
     },
     "execution_count": 171,
     "metadata": {},
     "output_type": "execute_result"
    }
   ],
   "source": [
    "lr.fit(train_x, train_y)"
   ]
  },
  {
   "cell_type": "code",
   "execution_count": 172,
   "metadata": {},
   "outputs": [
    {
     "data": {
      "text/plain": [
       "0.9989836778665365"
      ]
     },
     "execution_count": 172,
     "metadata": {},
     "output_type": "execute_result"
    }
   ],
   "source": [
    "(lr.predict(val_x) == val_y).sum() / len(val_y)"
   ]
  },
  {
   "cell_type": "code",
   "execution_count": 73,
   "metadata": {},
   "outputs": [],
   "source": [
    "def process_graph(name, path=\"../../data/graphs/\", log = 0, cut = 35):\n",
    "    graph = np.load(path + name + \".npy\")\n",
    "    if log:\n",
    "        graph = np.log(1 + graph[:cut, :cut])\n",
    "    else:\n",
    "        graph = graph[:cut, :cut]\n",
    "        \n",
    "    pairs, p_to_n, n_to_p, N = gr_to_pairs(graph)\n",
    "    gr_x = make_vertexes_embs(graph, p_to_n)\n",
    "    \n",
    "    np.save(\"../../data/gnn_prepared/\" + name + \"_emb\" , gr_x)\n",
    "    np.save(\"../../data/gnn_prepared/\" + name + \"_adj\", pairs_to_sparse_gr(p_to_n)[0])\n",
    "    \n",
    "    return graph, p_to_n, gr_x"
   ]
  },
  {
   "cell_type": "code",
   "execution_count": 93,
   "metadata": {},
   "outputs": [],
   "source": [
    "gr, p_to_n, _  = process_graph(\"ES3_22\", log = 0)"
   ]
  },
  {
   "cell_type": "code",
   "execution_count": 94,
   "metadata": {},
   "outputs": [],
   "source": [
    "answ = np.load(\"../../data/gnn_prepared/answ_ES3.npy\")[:,1]"
   ]
  },
  {
   "cell_type": "code",
   "execution_count": 87,
   "metadata": {},
   "outputs": [
    {
     "data": {
      "text/plain": [
       "95"
      ]
     },
     "execution_count": 87,
     "metadata": {},
     "output_type": "execute_result"
    }
   ],
   "source": [
    "p_to_n[(3,7)]"
   ]
  },
  {
   "cell_type": "code",
   "execution_count": 88,
   "metadata": {},
   "outputs": [
    {
     "data": {
      "text/plain": [
       "0.6395562"
      ]
     },
     "execution_count": 88,
     "metadata": {},
     "output_type": "execute_result"
    }
   ],
   "source": [
    "answ[95]"
   ]
  },
  {
   "cell_type": "code",
   "execution_count": 86,
   "metadata": {},
   "outputs": [
    {
     "data": {
      "text/plain": [
       "<Container object of 35 artists>"
      ]
     },
     "execution_count": 86,
     "metadata": {},
     "output_type": "execute_result"
    },
    {
     "data": {
      "image/png": "[encoded data removed]",
      "text/plain": [
       "<matplotlib.figure.Figure at 0x7f296f77f080>"
      ]
     },
     "metadata": {},
     "output_type": "display_data"
    }
   ],
   "source": [
    "plt.bar(np.arange(35), gr[:,7])\n",
    "plt.bar(np.arange(35), gr[:,10])"
   ]
  },
  {
   "cell_type": "code",
   "execution_count": 85,
   "metadata": {},
   "outputs": [
    {
     "data": {
      "text/plain": [
       "<Container object of 35 artists>"
      ]
     },
     "execution_count": 85,
     "metadata": {},
     "output_type": "execute_result"
    },
    {
     "data": {
      "image/png": "[encoded data removed]",
      "text/plain": [
       "<matplotlib.figure.Figure at 0x7f296f0a32b0>"
      ]
     },
     "metadata": {},
     "output_type": "display_data"
    }
   ],
   "source": [
    "plt.bar(np.arange(35), gr[7])"
   ]
  },
  {
   "cell_type": "code",
   "execution_count": 98,
   "metadata": {
    "scrolled": true
   },
   "outputs": [
    {
     "data": {
      "image/png": "[encoded data removed]",
      "text/plain": [
       "<matplotlib.figure.Figure at 0x7f296ef25da0>"
      ]
     },
     "metadata": {},
     "output_type": "display_data"
    }
   ],
   "source": [
    "pu.plot_grs(gr, pairs_to_gr(np.array([x for x in p_to_n.keys()])[answ > 0.0001]), log = 1, all_ticks=1)"
   ]
  },
  {
   "cell_type": "code",
   "execution_count": 77,
   "metadata": {},
   "outputs": [
    {
     "data": {
      "image/png": "[encoded data removed]",
      "text/plain": [
       "<matplotlib.figure.Figure at 0x7f296f34af60>"
      ]
     },
     "metadata": {},
     "output_type": "display_data"
    }
   ],
   "source": [
    "pu.plot_gr(pairs_to_gr(np.array([x for x in p_to_n.keys()])[answ > 0.5]), log = 1, all_ticks=1, s = 10)"
   ]
  },
  {
   "cell_type": "code",
   "execution_count": 78,
   "metadata": {},
   "outputs": [
    {
     "data": {
      "image/png": "[encoded data removed]",
      "text/plain": [
       "<matplotlib.figure.Figure at 0x7f296f3cd3c8>"
      ]
     },
     "metadata": {},
     "output_type": "display_data"
    }
   ],
   "source": [
    "pu.plot_gr(gr, log = 1, all_ticks=1, s = 10)"
   ]
  },
  {
   "cell_type": "code",
   "execution_count": null,
   "metadata": {},
   "outputs": [],
   "source": []
  },
  {
   "cell_type": "code",
   "execution_count": null,
   "metadata": {},
   "outputs": [],
   "source": []
  },
  {
   "cell_type": "code",
   "execution_count": null,
   "metadata": {},
   "outputs": [],
   "source": []
  },
  {
   "cell_type": "code",
   "execution_count": 25,
   "metadata": {},
   "outputs": [],
   "source": [
    "def pairs_to_gr(pairs, N = None):\n",
    "    if N == None:\n",
    "        N = 0\n",
    "        for p in pairs:\n",
    "            N = max(N, max(p))\n",
    "        N+=1\n",
    "    \n",
    "    gr = np.zeros((N, N))\n",
    "    for p in pairs:\n",
    "        gr[p[0],p[1]] = 1\n",
    "    return gr"
   ]
  },
  {
   "cell_type": "code",
   "execution_count": 120,
   "metadata": {},
   "outputs": [],
   "source": [
    "np.save(\"../../data/graphs/clostridium_1_3_answ.npy\",pairs_to_gr(np.array([x for x in p_to_n.keys()])[lr.predict(gr_x[:,1:]) == 1]) )"
   ]
  },
  {
   "cell_type": "code",
   "execution_count": null,
   "metadata": {},
   "outputs": [],
   "source": []
  },
  {
   "cell_type": "code",
   "execution_count": null,
   "metadata": {},
   "outputs": [],
   "source": []
  },
  {
   "cell_type": "code",
   "execution_count": null,
   "metadata": {},
   "outputs": [],
   "source": []
  },
  {
   "cell_type": "code",
   "execution_count": 29,
   "metadata": {},
   "outputs": [],
   "source": [
    "import hamiltonian_utils as hamu"
   ]
  },
  {
   "cell_type": "code",
   "execution_count": 32,
   "metadata": {},
   "outputs": [
    {
     "data": {
      "text/plain": [
       "[[1, 0, 3, 6, 8, 9, 10, 13, 14, 15, 17, 12, 16],\n",
       " [49, 4, 2, 5, 7, 11],\n",
       " [24, 19, 18, 25, 30, 27, 26, 28, 31, 32, 33, 34],\n",
       " [20, 22, 23, 21, 29],\n",
       " [50, 51],\n",
       " [46, 40, 47]]"
      ]
     },
     "execution_count": 32,
     "metadata": {},
     "output_type": "execute_result"
    }
   ],
   "source": [
    "hamu.restore_arrays(graph)[0]"
   ]
  },
  {
   "cell_type": "code",
   "execution_count": null,
   "metadata": {},
   "outputs": [],
   "source": []
  },
  {
   "cell_type": "code",
   "execution_count": 162,
   "metadata": {},
   "outputs": [],
   "source": [
    "import matplotlib.pyplot as plt"
   ]
  },
  {
   "cell_type": "code",
   "execution_count": 176,
   "metadata": {},
   "outputs": [
    {
     "data": {
      "text/plain": [
       "<matplotlib.collections.PathCollection at 0x7f903a1a6160>"
      ]
     },
     "execution_count": 176,
     "metadata": {},
     "output_type": "execute_result"
    },
    {
     "data": {
      "image/png": "[encoded data removed]",
      "text/plain": [
       "<matplotlib.figure.Figure at 0x7f90347529e8>"
      ]
     },
     "metadata": {},
     "output_type": "display_data"
    }
   ],
   "source": [
    "plt.scatter(gr_x[lr.predict(gr_x[:,1:3]) == 1,1], gr_x[lr.predict(gr_x[:,1:3]) == 1, 2])\n",
    "plt.scatter(gr_x[lr.predict(gr_x[:,1:3]) == 0,1], gr_x[lr.predict(gr_x[:,1:3]) == 0, 2])"
   ]
  },
  {
   "cell_type": "code",
   "execution_count": 164,
   "metadata": {},
   "outputs": [
    {
     "data": {
      "text/plain": [
       "44"
      ]
     },
     "execution_count": 164,
     "metadata": {},
     "output_type": "execute_result"
    }
   ],
   "source": [
    "p_to_n[(1,19)]"
   ]
  },
  {
   "cell_type": "code",
   "execution_count": 166,
   "metadata": {},
   "outputs": [
    {
     "data": {
      "text/plain": [
       "array([1.02000000e+02, 9.77573318e-03, 8.57142857e-01, 1.72588832e-01,\n",
       "       1.20000000e+00])"
      ]
     },
     "execution_count": 166,
     "metadata": {},
     "output_type": "execute_result"
    }
   ],
   "source": [
    "gr_x[44]"
   ]
  },
  {
   "cell_type": "code",
   "execution_count": 94,
   "metadata": {},
   "outputs": [],
   "source": [
    "import viz_utils as vu"
   ]
  },
  {
   "cell_type": "code",
   "execution_count": null,
   "metadata": {},
   "outputs": [],
   "source": [
    "f = vu.plot_graphs(answ_1_gr, pos, answ_2_gr, pos, arrays_gr, shift_pos, node_size=300, figsize=(15, 20))"
   ]
  }
 ],
 "metadata": {
  "kernelspec": {
   "display_name": "Python 3",
   "language": "python",
   "name": "python3"
  },
  "language_info": {
   "codemirror_mode": {
    "name": "ipython",
    "version": 3
   },
   "file_extension": ".py",
   "mimetype": "text/x-python",
   "name": "python",
   "nbconvert_exporter": "python",
   "pygments_lexer": "ipython3",
   "version": "3.6.3"
  }
 },
 "nbformat": 4,
 "nbformat_minor": 2
}
