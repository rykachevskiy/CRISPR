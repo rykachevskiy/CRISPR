{
 "cells": [
  {
   "cell_type": "code",
   "execution_count": 1,
   "metadata": {},
   "outputs": [],
   "source": [
    "import numpy as np\n",
    "import sys\n",
    "\n",
    "import itertools\n",
    "\n",
    "import matplotlib.pyplot as plt"
   ]
  },
  {
   "cell_type": "code",
   "execution_count": 2,
   "metadata": {},
   "outputs": [],
   "source": [
    "sys.path.append(\"../utils/\")"
   ]
  },
  {
   "cell_type": "code",
   "execution_count": 3,
   "metadata": {},
   "outputs": [],
   "source": [
    "import plot_utils as pu\n",
    "import graph_transformation as gt"
   ]
  },
  {
   "cell_type": "code",
   "execution_count": 5,
   "metadata": {},
   "outputs": [],
   "source": [
    "X = np.load(\"../../data/simulation/1000_35_like_true/amp_gr.npy\")\n",
    "Y = np.load(\"../../data/simulation/1000_35_like_true/populations_gr.npy\")"
   ]
  },
  {
   "cell_type": "code",
   "execution_count": 19,
   "metadata": {},
   "outputs": [
    {
     "data": {
      "image/png": "[encoded data removed]",
      "text/plain": [
       "<matplotlib.figure.Figure at 0x7f0fb8d28358>"
      ]
     },
     "metadata": {},
     "output_type": "display_data"
    }
   ],
   "source": [
    "pu.plot_grs(X[0], Y[0], s = 12)"
   ]
  },
  {
   "cell_type": "code",
   "execution_count": 20,
   "metadata": {},
   "outputs": [],
   "source": [
    "gr, gr_y = X[0], Y[0]"
   ]
  },
  {
   "cell_type": "code",
   "execution_count": 21,
   "metadata": {},
   "outputs": [],
   "source": [
    "def gr_to_pairs(gr):\n",
    "    N = gr.shape[0]\n",
    "    pairs = [x for x in itertools.product(range(N), range(N))]\n",
    "    pairs_counts = {}\n",
    "    \n",
    "    for p in pairs:\n",
    "        if gr[p[0], p[1]] > 0: pairs_counts[p] = gr[p[0], p[1]].astype(int)\n",
    "    \n",
    "    \n",
    "    p_to_n = dict(zip(pairs_counts.keys(), np.arange(len(pairs)).astype(int)))\n",
    "    n_to_p = dict(zip(np.arange(len(pairs)).astype(int), pairs_counts.keys()))\n",
    "    \n",
    "    return pairs_counts, p_to_n, n_to_p, N"
   ]
  },
  {
   "cell_type": "code",
   "execution_count": 22,
   "metadata": {},
   "outputs": [],
   "source": [
    "def pairs_to_sparse_gr(p_to_n):\n",
    "    N = len(p_to_n)\n",
    "    first = dict(zip(range(N), [[] for i in range(N)] ))\n",
    "    second = dict(zip(range(N), [[] for i in range(N)]))\n",
    "    \n",
    "    for p in p_to_n.keys():\n",
    "        first[p[0]].append(p)\n",
    "        second[p[1]].append(p)\n",
    "    \n",
    "    gr = np.zeros((N, N))\n",
    "    \n",
    "    for p in p_to_n.keys():\n",
    "        for p2 in first[p[1]]:\n",
    "            gr[p_to_n[p]][p_to_n[p2]] = 1\n",
    "    \n",
    "    return gr, first, second"
   ]
  },
  {
   "cell_type": "code",
   "execution_count": 23,
   "metadata": {},
   "outputs": [],
   "source": [
    "pairs, p_to_n, n_to_p, N = gr_to_pairs(gr)"
   ]
  },
  {
   "cell_type": "code",
   "execution_count": 10,
   "metadata": {
    "collapsed": true
   },
   "outputs": [],
   "source": [
    "d = {(0,1) : 0, (1,0) : 1, (1,2) : 2}"
   ]
  },
  {
   "cell_type": "code",
   "execution_count": 24,
   "metadata": {},
   "outputs": [],
   "source": [
    "gr_n = pairs_to_sparse_gr(p_to_n)"
   ]
  },
  {
   "cell_type": "code",
   "execution_count": 25,
   "metadata": {},
   "outputs": [
    {
     "data": {
      "image/png": "[encoded data removed]",
      "text/plain": [
       "<matplotlib.figure.Figure at 0x7f0fbc02b748>"
      ]
     },
     "metadata": {},
     "output_type": "display_data"
    }
   ],
   "source": [
    "pu.plot_gr(gr_n[0], s  =4)"
   ]
  },
  {
   "cell_type": "code",
   "execution_count": null,
   "metadata": {},
   "outputs": [],
   "source": []
  },
  {
   "cell_type": "code",
   "execution_count": 26,
   "metadata": {},
   "outputs": [],
   "source": [
    "def make_vertexes_embs(gr, p_to_n):\n",
    "    embs = np.zeros((len(p_to_n), 5))\n",
    "    \n",
    "    for i, p in enumerate(p_to_n.keys()):\n",
    "        embs[i, 0] = gr[p[0], p[1]]\n",
    "        embs[i, 1] = embs[i, 0] / gr[p[0]].sum()\n",
    "        embs[i, 2] = embs[i, 0] / gr[:, p[1]].sum()\n",
    "        \n",
    "        embs[i, 3] = embs[i, 0] / max(1, gr[:, p[0]].sum())\n",
    "        embs[i, 4] = embs[i, 0] / max(1, gr[p[1]].sum())\n",
    "    return embs\n",
    "        "
   ]
  },
  {
   "cell_type": "code",
   "execution_count": 27,
   "metadata": {},
   "outputs": [],
   "source": [
    "def make_y(gr_y, p_to_n):\n",
    "    y = np.zeros(len(p_to_n)).astype(int)\n",
    "    \n",
    "    for i, p in enumerate(p_to_n.keys()):\n",
    "        y[i] = (gr_y[p[0], p[1]] > 0).astype(int)\n",
    "        \n",
    "    return y"
   ]
  },
  {
   "cell_type": "code",
   "execution_count": 36,
   "metadata": {},
   "outputs": [],
   "source": [
    "def process_graph(grx, gry):\n",
    "    pairs, p_to_n, n_to_p, N = gr_to_pairs(grx)\n",
    "    \n",
    "    adj = pairs_to_sparse_gr(p_to_n)[0]\n",
    "    \n",
    "    vertex_embs = make_vertexes_embs(grx, p_to_n)\n",
    "    answ = make_y(gry, p_to_n) \n",
    "    \n",
    "    return adj, vertex_embs, answ"
   ]
  },
  {
   "cell_type": "code",
   "execution_count": 45,
   "metadata": {},
   "outputs": [
    {
     "data": {
      "text/plain": [
       "(array([[0., 0., 0., ..., 0., 0., 0.],\n",
       "        [0., 0., 0., ..., 0., 0., 0.],\n",
       "        [0., 0., 0., ..., 0., 0., 0.],\n",
       "        ...,\n",
       "        [0., 0., 0., ..., 0., 0., 0.],\n",
       "        [0., 0., 0., ..., 0., 0., 0.],\n",
       "        [0., 0., 0., ..., 0., 0., 0.]]),\n",
       " array([[5.00000000e+00, 2.22222222e-02, 2.28310502e-02, 2.95857988e-02,\n",
       "         2.32558140e-02],\n",
       "        [4.00000000e+00, 1.77777778e-02, 1.85185185e-02, 2.36686391e-02,\n",
       "         1.84331797e-02],\n",
       "        [1.95000000e+02, 8.66666667e-01, 8.98617512e-01, 1.15384615e+00,\n",
       "         9.37500000e-01],\n",
       "        ...,\n",
       "        [1.00000000e+00, 1.66666667e-01, 4.56621005e-03, 6.66666667e-02,\n",
       "         4.65116279e-03],\n",
       "        [5.00000000e+00, 8.33333333e-01, 8.33333333e-01, 3.33333333e-01,\n",
       "         5.00000000e+00],\n",
       "        [1.10000000e+01, 1.00000000e+00, 7.85714286e-01, 1.10000000e+01,\n",
       "         3.05555556e-01]]),\n",
       " array([0, 0, 1, 0, 0, 0, 0, 0, 0, 0, 0, 0, 0, 0, 0, 0, 0, 0, 0, 0, 1, 0,\n",
       "        0, 0, 0, 0, 0, 0, 0, 0, 0, 0, 0, 0, 0, 0, 0, 0, 1, 0, 0, 0, 0, 0,\n",
       "        0, 0, 0, 0, 0, 0, 0, 1, 0, 0, 0, 0, 0, 0, 0, 0, 0, 0, 0, 0, 0, 0,\n",
       "        0, 0, 0, 0, 0, 0, 0, 0, 0, 0, 0, 1, 0, 0, 1, 0, 0, 0, 0, 0, 0, 0,\n",
       "        0, 0, 0, 0, 0, 0, 0, 0, 0, 0, 0, 0, 0, 0, 1, 0, 0, 0, 0, 0, 0, 0,\n",
       "        0, 1, 0, 0, 0, 1, 0, 0, 0, 0, 0, 0, 0, 0, 1, 0, 0, 0, 0, 0, 0, 0,\n",
       "        0, 0, 0, 0, 0, 0, 0, 0, 0, 0, 0, 0, 0, 0, 0, 0, 0, 0, 0, 0, 1, 0,\n",
       "        0, 0, 0, 0, 0, 0, 0, 0, 0, 0, 0, 0, 1, 0, 0, 0, 0, 0, 0, 0, 0, 0,\n",
       "        0, 0, 0, 0, 0, 0, 0, 1, 0, 0, 0, 0, 0, 0, 0, 0, 1, 0, 0, 0, 0, 0,\n",
       "        0, 0, 0, 0, 0, 0, 1, 0, 0, 0, 0, 0, 0, 0, 0, 0, 0, 0, 0, 0, 0, 0,\n",
       "        0, 0, 0, 0, 1, 0, 0, 0, 1, 0, 0, 0, 0, 0, 0, 0, 0, 0, 0, 0, 0, 0,\n",
       "        0, 0, 0, 0, 0, 1, 0, 0, 0, 0, 0, 0, 0, 0, 0, 0, 1, 0, 0, 0, 0, 0,\n",
       "        0, 0, 1, 0, 0, 0, 0, 0, 0, 0, 0, 0, 0, 1, 0, 0, 0, 1, 0, 0, 0, 1,\n",
       "        1, 0, 0, 0, 1, 0, 0, 0, 0, 0, 1, 0, 1, 0, 1, 0, 0, 1, 0, 1, 1]))"
      ]
     },
     "execution_count": 45,
     "metadata": {},
     "output_type": "execute_result"
    }
   ],
   "source": [
    "process_graph(X[0], Y[0])"
   ]
  },
  {
   "cell_type": "code",
   "execution_count": null,
   "metadata": {},
   "outputs": [],
   "source": []
  },
  {
   "cell_type": "code",
   "execution_count": 15,
   "metadata": {
    "collapsed": true
   },
   "outputs": [],
   "source": [
    "from tqdm import tqdm_notebook"
   ]
  },
  {
   "cell_type": "code",
   "execution_count": 16,
   "metadata": {},
   "outputs": [
    {
     "data": {
      "text/plain": [
       "(1000, 35, 35)"
      ]
     },
     "execution_count": 16,
     "metadata": {},
     "output_type": "execute_result"
    }
   ],
   "source": [
    "X.shape"
   ]
  },
  {
   "cell_type": "code",
   "execution_count": 27,
   "metadata": {},
   "outputs": [
    {
     "data": {
      "application/vnd.jupyter.widget-view+json": {
       "model_id": "e8ec0cb72e3f489386e108895b226639",
       "version_major": 2,
       "version_minor": 0
      },
      "text/plain": [
       "A Jupyter Widget"
      ]
     },
     "metadata": {},
     "output_type": "display_data"
    },
    {
     "name": "stdout",
     "output_type": "stream",
     "text": [
      "\n"
     ]
    }
   ],
   "source": [
    "NEW_X = []\n",
    "NEW_Y = []\n",
    "adj = []\n",
    "\n",
    "\n",
    "for x, y in tqdm_notebook(zip(X, Y)):\n",
    "    pairs, p_to_n, n_to_p, N = gr_to_pairs(x)\n",
    "    gr = pairs_to_sparse_gr(p_to_n)\n",
    "    \n",
    "    \n",
    "    new_x = make_vertexes_embs(x, p_to_n)\n",
    "    new_y = make_y(y, p_to_n) \n",
    "    \n",
    "    adj.append(gr)\n",
    "    NEW_X.append(new_x)\n",
    "    NEW_Y.append(new_y)"
   ]
  },
  {
   "cell_type": "code",
   "execution_count": null,
   "metadata": {
    "collapsed": true
   },
   "outputs": [],
   "source": []
  },
  {
   "cell_type": "code",
   "execution_count": 28,
   "metadata": {
    "collapsed": true
   },
   "outputs": [],
   "source": [
    "embs = np.array(NEW_X)\n",
    "adjs = np.array(adj)\n",
    "target = np.array(NEW_Y)"
   ]
  },
  {
   "cell_type": "code",
   "execution_count": 34,
   "metadata": {
    "collapsed": true
   },
   "outputs": [],
   "source": [
    "np.save(\"../../data/gnn_prepared/embs\", embs)\n",
    "np.save(\"../../data/gnn_prepared/adjs\", adjs)\n",
    "np.save(\"../../data/gnn_prepared/target\", target)"
   ]
  },
  {
   "cell_type": "code",
   "execution_count": 31,
   "metadata": {
    "collapsed": true
   },
   "outputs": [],
   "source": [
    "train_x = np.vstack(NEW_X[:800])[:, 1:]\n",
    "train_y = np.hstack(NEW_Y[:800])\n",
    "\n",
    "val_x = np.vstack(NEW_X[800:])[:, 1:]\n",
    "val_y = np.hstack(NEW_Y[800:])"
   ]
  }
 ],
 "metadata": {
  "kernelspec": {
   "display_name": "Python 3",
   "language": "python",
   "name": "python3"
  },
  "language_info": {
   "codemirror_mode": {
    "name": "ipython",
    "version": 3
   },
   "file_extension": ".py",
   "mimetype": "text/x-python",
   "name": "python",
   "nbconvert_exporter": "python",
   "pygments_lexer": "ipython3",
   "version": "3.6.3"
  }
 },
 "nbformat": 4,
 "nbformat_minor": 2
}
