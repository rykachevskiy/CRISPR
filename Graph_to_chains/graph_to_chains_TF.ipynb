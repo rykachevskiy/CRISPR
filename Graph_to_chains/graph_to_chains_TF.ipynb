{
 "cells": [
  {
   "cell_type": "code",
   "execution_count": 107,
   "metadata": {},
   "outputs": [],
   "source": [
    "import tensorflow as tf\n",
    "\n",
    "from keras.layers import Dense, Flatten\n",
    "from keras.losses import categorical_crossentropy\n",
    "\n",
    "\n",
    "import numpy as np\n",
    "import matplotlib.pyplot as plt\n",
    "import json\n",
    "\n",
    "\n",
    "from IPython import display\n",
    "%matplotlib inline"
   ]
  },
  {
   "cell_type": "code",
   "execution_count": 108,
   "metadata": {},
   "outputs": [],
   "source": [
    "import sys\n",
    "sys.path.append(\"../\")\n",
    "sys.path.append(\"../utils/\")"
   ]
  },
  {
   "cell_type": "code",
   "execution_count": 109,
   "metadata": {},
   "outputs": [],
   "source": [
    "def plot_gr(gr, start=0, end=-1, log = False, all_ticks = False,  s=10):\n",
    "    plt.figure(figsize=(s,s))\n",
    "    if end == -1:\n",
    "        end = gr.shape[0]\n",
    "    if log:\n",
    "        plt.imshow(np.log(gr[start:end,start:end] + 1))\n",
    "    else:\n",
    "        plt.imshow(gr[start:end,start:end])\n",
    "    plt.colorbar()\n",
    "    if all_ticks: \n",
    "        plt.xticks(np.arange(start,end))\n",
    "        plt.yticks(np.arange(start,end))\n",
    "    plt.show()"
   ]
  },
  {
   "cell_type": "code",
   "execution_count": 110,
   "metadata": {},
   "outputs": [],
   "source": [
    "def plot_pair(x,y):\n",
    "    plt.figure(figsize=(s,s))\n",
    "    f, (a1,a2) = plt.subplots(1, 2)\n",
    "    \n",
    "    a1.imshow(x)\n",
    "    a2.imshow(y)\n",
    "    plt.show()"
   ]
  },
  {
   "cell_type": "code",
   "execution_count": 111,
   "metadata": {},
   "outputs": [],
   "source": [
    "def plot_group(*args, s = 7):\n",
    "    n = len(args) // 2\n",
    "    \n",
    "    plt.figure(figsize=(s,s))\n",
    "    f, a = plt.subplots(1, n,figsize=(s,s))\n",
    "    #f.set_figsize((s,s))\n",
    "    for i in range(n):\n",
    "        im = args[2*i]\n",
    "        if args[2*i + 1]:\n",
    "            im = np.log(im + 1)\n",
    "        a[i].imshow(im)\n",
    "\n",
    "    plt.show()"
   ]
  },
  {
   "cell_type": "code",
   "execution_count": 113,
   "metadata": {},
   "outputs": [],
   "source": [
    "synthetic_populations = np.load(\"../../data/simulation/simple1k/populations.npy\")\n",
    "y = np.load(\"../../data/simulation/simple1k//populations_gr.npy\")\n",
    "X = np.load(\"../../data/simulation/simple1k//amp_gr.npy\")\n",
    "\n",
    "params = json.load(open(\"../../data/simulation/simple1k//params.json\", 'r'))"
   ]
  },
  {
   "cell_type": "code",
   "execution_count": 162,
   "metadata": {},
   "outputs": [
    {
     "data": {
      "text/plain": [
       "(1000, 10, 10)"
      ]
     },
     "execution_count": 162,
     "metadata": {},
     "output_type": "execute_result"
    }
   ],
   "source": [
    "X.shape"
   ]
  },
  {
   "cell_type": "code",
   "execution_count": 223,
   "metadata": {},
   "outputs": [],
   "source": [
    "def norm(x):\n",
    "    maxes = x.max(2)\n",
    "    maxes[maxes == 0] = 1\n",
    "    print(maxes.astype(int))\n",
    "    return x / maxes.reshape(x.shape[0], x.shape[1], 1)"
   ]
  },
  {
   "cell_type": "code",
   "execution_count": 224,
   "metadata": {},
   "outputs": [
    {
     "data": {
      "text/plain": [
       "array([   0.,   14.,  275.,    0., 1253.,  380.,  690., 1630.,    0.,\n",
       "          0.])"
      ]
     },
     "execution_count": 224,
     "metadata": {},
     "output_type": "execute_result"
    }
   ],
   "source": [
    "X[0].max(1)"
   ]
  },
  {
   "cell_type": "code",
   "execution_count": 229,
   "metadata": {},
   "outputs": [
    {
     "name": "stdout",
     "output_type": "stream",
     "text": [
      "[[   1   14  275 ... 1630    1    1]\n",
      " [ 316  548  321 ...   63  699    9]\n",
      " [ 182  102  485 ...  159  965  938]\n",
      " ...\n",
      " [ 573  455  385 ...  246  175  264]\n",
      " [   1  554  636 ...  448  438  641]\n",
      " [   2  502  515 ...  558  188  557]]\n"
     ]
    }
   ],
   "source": [
    "X = norm(X)"
   ]
  },
  {
   "cell_type": "code",
   "execution_count": 230,
   "metadata": {},
   "outputs": [
    {
     "data": {
      "text/plain": [
       "<matplotlib.figure.Figure at 0x7f6db40e66a0>"
      ]
     },
     "metadata": {},
     "output_type": "display_data"
    },
    {
     "data": {
      "image/png": "[encoded data removed]",
      "text/plain": [
       "<matplotlib.figure.Figure at 0x7f6dd2502128>"
      ]
     },
     "metadata": {},
     "output_type": "display_data"
    }
   ],
   "source": [
    "plot_group(X_n[1], 1, X[1], 1)"
   ]
  },
  {
   "cell_type": "code",
   "execution_count": 114,
   "metadata": {},
   "outputs": [
    {
     "data": {
      "text/plain": [
       "{'N_POPULATONS': 1000,\n",
       " 'N_SPACERS': 10,\n",
       " 'N_CHAINS': 6,\n",
       " 'MAX_LEN': 10,\n",
       " 'SWITCH_PROB': 0.05,\n",
       " 'AMPLIFY_PROB': 0.35,\n",
       " 'STOP_PROB': 0,\n",
       " 'MAX_POPULATION_SIZE': 10000}"
      ]
     },
     "execution_count": 114,
     "metadata": {},
     "output_type": "execute_result"
    }
   ],
   "source": [
    "params"
   ]
  },
  {
   "cell_type": "code",
   "execution_count": 115,
   "metadata": {},
   "outputs": [
    {
     "data": {
      "text/plain": [
       "<matplotlib.image.AxesImage at 0x7f6dd2a3bef0>"
      ]
     },
     "execution_count": 115,
     "metadata": {},
     "output_type": "execute_result"
    },
    {
     "data": {
      "image/png": "[encoded data removed]",
      "text/plain": [
       "<matplotlib.figure.Figure at 0x7f6dd2b01f60>"
      ]
     },
     "metadata": {},
     "output_type": "display_data"
    }
   ],
   "source": [
    "plt.imshow(X[5])"
   ]
  },
  {
   "cell_type": "code",
   "execution_count": 116,
   "metadata": {},
   "outputs": [
    {
     "data": {
      "text/plain": [
       "<matplotlib.image.AxesImage at 0x7f6dd2751780>"
      ]
     },
     "execution_count": 116,
     "metadata": {},
     "output_type": "execute_result"
    },
    {
     "data": {
      "image/png": "[encoded data removed]",
      "text/plain": [
       "<matplotlib.figure.Figure at 0x7f6dd24e7908>"
      ]
     },
     "metadata": {},
     "output_type": "display_data"
    }
   ],
   "source": [
    "plt.imshow(y[5])"
   ]
  },
  {
   "cell_type": "code",
   "execution_count": 231,
   "metadata": {},
   "outputs": [],
   "source": [
    "tf.reset_default_graph()\n",
    "sess = tf.InteractiveSession()"
   ]
  },
  {
   "cell_type": "code",
   "execution_count": 232,
   "metadata": {},
   "outputs": [],
   "source": [
    "inp = tf.placeholder(tf.float32, [None, params[\"N_SPACERS\"] * params[\"N_SPACERS\"]])\n",
    "\n",
    "#flatten = Flatten()(inp)\n",
    "dense_1 = Dense(200, activation=tf.nn.relu)(inp)\n",
    "dense_2 = Dense(200, activation=tf.nn.relu)(dense_1)\n",
    "\n",
    "out = Dense(params[\"N_SPACERS\"] * params[\"N_SPACERS\"], activation=tf.nn.sigmoid)(dense_2)"
   ]
  },
  {
   "cell_type": "code",
   "execution_count": 233,
   "metadata": {},
   "outputs": [],
   "source": [
    "target = tf.placeholder(tf.float32, [None, params[\"N_SPACERS\"]* params[\"N_SPACERS\"]])"
   ]
  },
  {
   "cell_type": "code",
   "execution_count": 234,
   "metadata": {},
   "outputs": [],
   "source": [
    "loss = tf.reduce_mean(tf.losses.log_loss(target, out, weights=target*10 + 1))\n",
    "#loss = tf.reduce_mean(tf.losses.mean_squared_error(target, out) * (target * 10 + 1))"
   ]
  },
  {
   "cell_type": "code",
   "execution_count": 235,
   "metadata": {},
   "outputs": [],
   "source": [
    "optimizer = tf.train.AdamOptimizer()\n",
    "train_step = optimizer.minimize(loss)"
   ]
  },
  {
   "cell_type": "code",
   "execution_count": null,
   "metadata": {},
   "outputs": [],
   "source": []
  },
  {
   "cell_type": "code",
   "execution_count": 236,
   "metadata": {},
   "outputs": [],
   "source": [
    "\n",
    "#sess = tf.InteractiveSession()\n",
    "sess.run(tf.global_variables_initializer())"
   ]
  },
  {
   "cell_type": "code",
   "execution_count": 237,
   "metadata": {},
   "outputs": [],
   "source": [
    "gr = tf.get_default_graph()\n",
    "\n",
    "writer = tf.summary.FileWriter(\"../tf_logs\", gr)"
   ]
  },
  {
   "cell_type": "code",
   "execution_count": 238,
   "metadata": {},
   "outputs": [
    {
     "data": {
      "text/plain": [
       "1.2381127"
      ]
     },
     "execution_count": 238,
     "metadata": {},
     "output_type": "execute_result"
    }
   ],
   "source": [
    "sess.run(loss, feed_dict = {inp : X[:50].reshape(-1,100), target : y[:50].reshape(-1,100)})"
   ]
  },
  {
   "cell_type": "code",
   "execution_count": null,
   "metadata": {},
   "outputs": [],
   "source": []
  },
  {
   "cell_type": "code",
   "execution_count": 239,
   "metadata": {},
   "outputs": [],
   "source": [
    "losses_each_n = []\n",
    "val_losses = []\n",
    "val_x = []\n",
    "n = 10\n",
    "curr_loss = 0\n"
   ]
  },
  {
   "cell_type": "code",
   "execution_count": 240,
   "metadata": {},
   "outputs": [],
   "source": [
    "epochs = 100"
   ]
  },
  {
   "cell_type": "code",
   "execution_count": 241,
   "metadata": {},
   "outputs": [],
   "source": [
    "def iterate_minibatches(x, y, batchsize, shuffle=True):\n",
    "    if shuffle:\n",
    "        indices = np.arange(y.shape[0])\n",
    "        np.random.shuffle(indices)\n",
    "    for start_idx in range(0, y.shape[0] - batchsize + 1, batchsize):\n",
    "        if shuffle:\n",
    "            excerpt = indices[start_idx:start_idx + batchsize]\n",
    "        else:\n",
    "            excerpt = slice(start_idx, start_idx + batchsize)\n",
    "        yield x[excerpt].reshape(-1,params[\"N_SPACERS\"] * params[\"N_SPACERS\"]), y[excerpt].reshape(-1,params[\"N_SPACERS\"] * params[\"N_SPACERS\"])"
   ]
  },
  {
   "cell_type": "code",
   "execution_count": null,
   "metadata": {},
   "outputs": [],
   "source": []
  },
  {
   "cell_type": "code",
   "execution_count": 242,
   "metadata": {},
   "outputs": [
    {
     "ename": "KeyboardInterrupt",
     "evalue": "",
     "output_type": "error",
     "traceback": [
      "\u001b[0;31m---------------------------------------------------------------------------\u001b[0m",
      "\u001b[0;31mKeyboardInterrupt\u001b[0m                         Traceback (most recent call last)",
      "\u001b[0;32m<ipython-input-242-748d17a9bf33>\u001b[0m in \u001b[0;36m<module>\u001b[0;34m()\u001b[0m\n\u001b[1;32m     13\u001b[0m \u001b[0;34m\u001b[0m\u001b[0m\n\u001b[1;32m     14\u001b[0m             \u001b[0mdisplay\u001b[0m\u001b[0;34m.\u001b[0m\u001b[0mclear_output\u001b[0m\u001b[0;34m(\u001b[0m\u001b[0mwait\u001b[0m\u001b[0;34m=\u001b[0m\u001b[0;32mTrue\u001b[0m\u001b[0;34m)\u001b[0m\u001b[0;34m\u001b[0m\u001b[0m\n\u001b[0;32m---> 15\u001b[0;31m             \u001b[0mplt\u001b[0m\u001b[0;34m.\u001b[0m\u001b[0mplot\u001b[0m\u001b[0;34m(\u001b[0m\u001b[0mlosses_each_n\u001b[0m\u001b[0;34m[\u001b[0m\u001b[0;36m1\u001b[0m\u001b[0;34m:\u001b[0m\u001b[0;34m]\u001b[0m\u001b[0;34m,\u001b[0m \u001b[0mlabel\u001b[0m\u001b[0;34m=\u001b[0m\u001b[0;34m'train'\u001b[0m\u001b[0;34m)\u001b[0m\u001b[0;34m\u001b[0m\u001b[0m\n\u001b[0m\u001b[1;32m     16\u001b[0m             \u001b[0mplt\u001b[0m\u001b[0;34m.\u001b[0m\u001b[0mplot\u001b[0m\u001b[0;34m(\u001b[0m\u001b[0mval_x\u001b[0m\u001b[0;34m,\u001b[0m \u001b[0mval_losses\u001b[0m\u001b[0;34m,\u001b[0m \u001b[0mlabel\u001b[0m\u001b[0;34m=\u001b[0m\u001b[0;34m'test'\u001b[0m\u001b[0;34m)\u001b[0m\u001b[0;34m\u001b[0m\u001b[0m\n\u001b[1;32m     17\u001b[0m             \u001b[0mplt\u001b[0m\u001b[0;34m.\u001b[0m\u001b[0mlegend\u001b[0m\u001b[0;34m(\u001b[0m\u001b[0;34m)\u001b[0m\u001b[0;34m\u001b[0m\u001b[0m\n",
      "\u001b[0;32m~/anaconda3/lib/python3.6/site-packages/matplotlib/pyplot.py\u001b[0m in \u001b[0;36mplot\u001b[0;34m(*args, **kwargs)\u001b[0m\n\u001b[1;32m   3227\u001b[0m \u001b[0;34m@\u001b[0m\u001b[0m_autogen_docstring\u001b[0m\u001b[0;34m(\u001b[0m\u001b[0mAxes\u001b[0m\u001b[0;34m.\u001b[0m\u001b[0mplot\u001b[0m\u001b[0;34m)\u001b[0m\u001b[0;34m\u001b[0m\u001b[0m\n\u001b[1;32m   3228\u001b[0m \u001b[0;32mdef\u001b[0m \u001b[0mplot\u001b[0m\u001b[0;34m(\u001b[0m\u001b[0;34m*\u001b[0m\u001b[0margs\u001b[0m\u001b[0;34m,\u001b[0m \u001b[0;34m**\u001b[0m\u001b[0mkwargs\u001b[0m\u001b[0;34m)\u001b[0m\u001b[0;34m:\u001b[0m\u001b[0;34m\u001b[0m\u001b[0m\n\u001b[0;32m-> 3229\u001b[0;31m     \u001b[0max\u001b[0m \u001b[0;34m=\u001b[0m \u001b[0mgca\u001b[0m\u001b[0;34m(\u001b[0m\u001b[0;34m)\u001b[0m\u001b[0;34m\u001b[0m\u001b[0m\n\u001b[0m\u001b[1;32m   3230\u001b[0m     \u001b[0;31m# Deprecated: allow callers to override the hold state\u001b[0m\u001b[0;34m\u001b[0m\u001b[0;34m\u001b[0m\u001b[0m\n\u001b[1;32m   3231\u001b[0m     \u001b[0;31m# by passing hold=True|False\u001b[0m\u001b[0;34m\u001b[0m\u001b[0;34m\u001b[0m\u001b[0m\n",
      "\u001b[0;32m~/anaconda3/lib/python3.6/site-packages/matplotlib/pyplot.py\u001b[0m in \u001b[0;36mgca\u001b[0;34m(**kwargs)\u001b[0m\n\u001b[1;32m    957\u001b[0m     \u001b[0mmatplotlib\u001b[0m\u001b[0;34m.\u001b[0m\u001b[0mfigure\u001b[0m\u001b[0;34m.\u001b[0m\u001b[0mFigure\u001b[0m\u001b[0;34m.\u001b[0m\u001b[0mgca\u001b[0m \u001b[0;34m:\u001b[0m \u001b[0mThe\u001b[0m \u001b[0mfigure\u001b[0m\u001b[0;31m'\u001b[0m\u001b[0ms\u001b[0m \u001b[0mgca\u001b[0m \u001b[0mmethod\u001b[0m\u001b[0;34m.\u001b[0m\u001b[0;34m\u001b[0m\u001b[0m\n\u001b[1;32m    958\u001b[0m     \"\"\"\n\u001b[0;32m--> 959\u001b[0;31m     \u001b[0;32mreturn\u001b[0m \u001b[0mgcf\u001b[0m\u001b[0;34m(\u001b[0m\u001b[0;34m)\u001b[0m\u001b[0;34m.\u001b[0m\u001b[0mgca\u001b[0m\u001b[0;34m(\u001b[0m\u001b[0;34m**\u001b[0m\u001b[0mkwargs\u001b[0m\u001b[0;34m)\u001b[0m\u001b[0;34m\u001b[0m\u001b[0m\n\u001b[0m\u001b[1;32m    960\u001b[0m \u001b[0;34m\u001b[0m\u001b[0m\n\u001b[1;32m    961\u001b[0m \u001b[0;31m# More ways of creating axes:\u001b[0m\u001b[0;34m\u001b[0m\u001b[0;34m\u001b[0m\u001b[0m\n",
      "\u001b[0;32m~/anaconda3/lib/python3.6/site-packages/matplotlib/figure.py\u001b[0m in \u001b[0;36mgca\u001b[0;34m(self, **kwargs)\u001b[0m\n\u001b[1;32m   1609\u001b[0m \u001b[0;34m\u001b[0m\u001b[0m\n\u001b[1;32m   1610\u001b[0m         \u001b[0;31m# no axes found, so create one which spans the figure\u001b[0m\u001b[0;34m\u001b[0m\u001b[0;34m\u001b[0m\u001b[0m\n\u001b[0;32m-> 1611\u001b[0;31m         \u001b[0;32mreturn\u001b[0m \u001b[0mself\u001b[0m\u001b[0;34m.\u001b[0m\u001b[0madd_subplot\u001b[0m\u001b[0;34m(\u001b[0m\u001b[0;36m1\u001b[0m\u001b[0;34m,\u001b[0m \u001b[0;36m1\u001b[0m\u001b[0;34m,\u001b[0m \u001b[0;36m1\u001b[0m\u001b[0;34m,\u001b[0m \u001b[0;34m**\u001b[0m\u001b[0mkwargs\u001b[0m\u001b[0;34m)\u001b[0m\u001b[0;34m\u001b[0m\u001b[0m\n\u001b[0m\u001b[1;32m   1612\u001b[0m \u001b[0;34m\u001b[0m\u001b[0m\n\u001b[1;32m   1613\u001b[0m     \u001b[0;32mdef\u001b[0m \u001b[0msca\u001b[0m\u001b[0;34m(\u001b[0m\u001b[0mself\u001b[0m\u001b[0;34m,\u001b[0m \u001b[0ma\u001b[0m\u001b[0;34m)\u001b[0m\u001b[0;34m:\u001b[0m\u001b[0;34m\u001b[0m\u001b[0m\n",
      "\u001b[0;32m~/anaconda3/lib/python3.6/site-packages/matplotlib/figure.py\u001b[0m in \u001b[0;36madd_subplot\u001b[0;34m(self, *args, **kwargs)\u001b[0m\n\u001b[1;32m   1068\u001b[0m                     \u001b[0mself\u001b[0m\u001b[0;34m.\u001b[0m\u001b[0m_axstack\u001b[0m\u001b[0;34m.\u001b[0m\u001b[0mremove\u001b[0m\u001b[0;34m(\u001b[0m\u001b[0max\u001b[0m\u001b[0;34m)\u001b[0m\u001b[0;34m\u001b[0m\u001b[0m\n\u001b[1;32m   1069\u001b[0m \u001b[0;34m\u001b[0m\u001b[0m\n\u001b[0;32m-> 1070\u001b[0;31m             \u001b[0ma\u001b[0m \u001b[0;34m=\u001b[0m \u001b[0msubplot_class_factory\u001b[0m\u001b[0;34m(\u001b[0m\u001b[0mprojection_class\u001b[0m\u001b[0;34m)\u001b[0m\u001b[0;34m(\u001b[0m\u001b[0mself\u001b[0m\u001b[0;34m,\u001b[0m \u001b[0;34m*\u001b[0m\u001b[0margs\u001b[0m\u001b[0;34m,\u001b[0m \u001b[0;34m**\u001b[0m\u001b[0mkwargs\u001b[0m\u001b[0;34m)\u001b[0m\u001b[0;34m\u001b[0m\u001b[0m\n\u001b[0m\u001b[1;32m   1071\u001b[0m \u001b[0;34m\u001b[0m\u001b[0m\n\u001b[1;32m   1072\u001b[0m         \u001b[0mself\u001b[0m\u001b[0;34m.\u001b[0m\u001b[0m_axstack\u001b[0m\u001b[0;34m.\u001b[0m\u001b[0madd\u001b[0m\u001b[0;34m(\u001b[0m\u001b[0mkey\u001b[0m\u001b[0;34m,\u001b[0m \u001b[0ma\u001b[0m\u001b[0;34m)\u001b[0m\u001b[0;34m\u001b[0m\u001b[0m\n",
      "\u001b[0;32m~/anaconda3/lib/python3.6/site-packages/matplotlib/axes/_subplots.py\u001b[0m in \u001b[0;36m__init__\u001b[0;34m(self, fig, *args, **kwargs)\u001b[0m\n\u001b[1;32m     71\u001b[0m \u001b[0;34m\u001b[0m\u001b[0m\n\u001b[1;32m     72\u001b[0m         \u001b[0;31m# _axes_class is set in the subplot_class_factory\u001b[0m\u001b[0;34m\u001b[0m\u001b[0;34m\u001b[0m\u001b[0m\n\u001b[0;32m---> 73\u001b[0;31m         \u001b[0mself\u001b[0m\u001b[0;34m.\u001b[0m\u001b[0m_axes_class\u001b[0m\u001b[0;34m.\u001b[0m\u001b[0m__init__\u001b[0m\u001b[0;34m(\u001b[0m\u001b[0mself\u001b[0m\u001b[0;34m,\u001b[0m \u001b[0mfig\u001b[0m\u001b[0;34m,\u001b[0m \u001b[0mself\u001b[0m\u001b[0;34m.\u001b[0m\u001b[0mfigbox\u001b[0m\u001b[0;34m,\u001b[0m \u001b[0;34m**\u001b[0m\u001b[0mkwargs\u001b[0m\u001b[0;34m)\u001b[0m\u001b[0;34m\u001b[0m\u001b[0m\n\u001b[0m\u001b[1;32m     74\u001b[0m \u001b[0;34m\u001b[0m\u001b[0m\n\u001b[1;32m     75\u001b[0m     \u001b[0;32mdef\u001b[0m \u001b[0m__reduce__\u001b[0m\u001b[0;34m(\u001b[0m\u001b[0mself\u001b[0m\u001b[0;34m)\u001b[0m\u001b[0;34m:\u001b[0m\u001b[0;34m\u001b[0m\u001b[0m\n",
      "\u001b[0;32m~/anaconda3/lib/python3.6/site-packages/matplotlib/axes/_base.py\u001b[0m in \u001b[0;36m__init__\u001b[0;34m(self, fig, rect, facecolor, frameon, sharex, sharey, label, xscale, yscale, axisbg, **kwargs)\u001b[0m\n\u001b[1;32m    539\u001b[0m \u001b[0;34m\u001b[0m\u001b[0m\n\u001b[1;32m    540\u001b[0m         \u001b[0mself\u001b[0m\u001b[0;34m.\u001b[0m\u001b[0m_connected\u001b[0m \u001b[0;34m=\u001b[0m \u001b[0;34m{\u001b[0m\u001b[0;34m}\u001b[0m  \u001b[0;31m# a dict from events to (id, func)\u001b[0m\u001b[0;34m\u001b[0m\u001b[0m\n\u001b[0;32m--> 541\u001b[0;31m         \u001b[0mself\u001b[0m\u001b[0;34m.\u001b[0m\u001b[0mcla\u001b[0m\u001b[0;34m(\u001b[0m\u001b[0;34m)\u001b[0m\u001b[0;34m\u001b[0m\u001b[0m\n\u001b[0m\u001b[1;32m    542\u001b[0m         \u001b[0;31m# funcs used to format x and y - fall back on major formatters\u001b[0m\u001b[0;34m\u001b[0m\u001b[0;34m\u001b[0m\u001b[0m\n\u001b[1;32m    543\u001b[0m         \u001b[0mself\u001b[0m\u001b[0;34m.\u001b[0m\u001b[0mfmt_xdata\u001b[0m \u001b[0;34m=\u001b[0m \u001b[0;32mNone\u001b[0m\u001b[0;34m\u001b[0m\u001b[0m\n",
      "\u001b[0;32m~/anaconda3/lib/python3.6/site-packages/matplotlib/axes/_base.py\u001b[0m in \u001b[0;36mcla\u001b[0;34m(self)\u001b[0m\n\u001b[1;32m    967\u001b[0m         \u001b[0myaxis_visible\u001b[0m \u001b[0;34m=\u001b[0m \u001b[0mself\u001b[0m\u001b[0;34m.\u001b[0m\u001b[0myaxis\u001b[0m\u001b[0;34m.\u001b[0m\u001b[0mget_visible\u001b[0m\u001b[0;34m(\u001b[0m\u001b[0;34m)\u001b[0m\u001b[0;34m\u001b[0m\u001b[0m\n\u001b[1;32m    968\u001b[0m \u001b[0;34m\u001b[0m\u001b[0m\n\u001b[0;32m--> 969\u001b[0;31m         \u001b[0mself\u001b[0m\u001b[0;34m.\u001b[0m\u001b[0mxaxis\u001b[0m\u001b[0;34m.\u001b[0m\u001b[0mcla\u001b[0m\u001b[0;34m(\u001b[0m\u001b[0;34m)\u001b[0m\u001b[0;34m\u001b[0m\u001b[0m\n\u001b[0m\u001b[1;32m    970\u001b[0m         \u001b[0mself\u001b[0m\u001b[0;34m.\u001b[0m\u001b[0myaxis\u001b[0m\u001b[0;34m.\u001b[0m\u001b[0mcla\u001b[0m\u001b[0;34m(\u001b[0m\u001b[0;34m)\u001b[0m\u001b[0;34m\u001b[0m\u001b[0m\n\u001b[1;32m    971\u001b[0m         \u001b[0;32mfor\u001b[0m \u001b[0mname\u001b[0m\u001b[0;34m,\u001b[0m \u001b[0mspine\u001b[0m \u001b[0;32min\u001b[0m \u001b[0msix\u001b[0m\u001b[0;34m.\u001b[0m\u001b[0miteritems\u001b[0m\u001b[0;34m(\u001b[0m\u001b[0mself\u001b[0m\u001b[0;34m.\u001b[0m\u001b[0mspines\u001b[0m\u001b[0;34m)\u001b[0m\u001b[0;34m:\u001b[0m\u001b[0;34m\u001b[0m\u001b[0m\n",
      "\u001b[0;32m~/anaconda3/lib/python3.6/site-packages/matplotlib/axis.py\u001b[0m in \u001b[0;36mcla\u001b[0;34m(self)\u001b[0m\n\u001b[1;32m    771\u001b[0m         \u001b[0mself\u001b[0m\u001b[0;34m.\u001b[0m\u001b[0m_set_artist_props\u001b[0m\u001b[0;34m(\u001b[0m\u001b[0mself\u001b[0m\u001b[0;34m.\u001b[0m\u001b[0mlabel\u001b[0m\u001b[0;34m)\u001b[0m\u001b[0;34m\u001b[0m\u001b[0m\n\u001b[1;32m    772\u001b[0m \u001b[0;34m\u001b[0m\u001b[0m\n\u001b[0;32m--> 773\u001b[0;31m         \u001b[0mself\u001b[0m\u001b[0;34m.\u001b[0m\u001b[0mreset_ticks\u001b[0m\u001b[0;34m(\u001b[0m\u001b[0;34m)\u001b[0m\u001b[0;34m\u001b[0m\u001b[0m\n\u001b[0m\u001b[1;32m    774\u001b[0m \u001b[0;34m\u001b[0m\u001b[0m\n\u001b[1;32m    775\u001b[0m         \u001b[0mself\u001b[0m\u001b[0;34m.\u001b[0m\u001b[0mconverter\u001b[0m \u001b[0;34m=\u001b[0m \u001b[0;32mNone\u001b[0m\u001b[0;34m\u001b[0m\u001b[0m\n",
      "\u001b[0;32m~/anaconda3/lib/python3.6/site-packages/matplotlib/axis.py\u001b[0m in \u001b[0;36mreset_ticks\u001b[0;34m(self)\u001b[0m\n\u001b[1;32m    785\u001b[0m         \u001b[0;32mdel\u001b[0m \u001b[0mself\u001b[0m\u001b[0;34m.\u001b[0m\u001b[0mminorTicks\u001b[0m\u001b[0;34m[\u001b[0m\u001b[0;34m:\u001b[0m\u001b[0;34m]\u001b[0m\u001b[0;34m\u001b[0m\u001b[0m\n\u001b[1;32m    786\u001b[0m \u001b[0;34m\u001b[0m\u001b[0m\n\u001b[0;32m--> 787\u001b[0;31m         \u001b[0mself\u001b[0m\u001b[0;34m.\u001b[0m\u001b[0mmajorTicks\u001b[0m\u001b[0;34m.\u001b[0m\u001b[0mextend\u001b[0m\u001b[0;34m(\u001b[0m\u001b[0;34m[\u001b[0m\u001b[0mself\u001b[0m\u001b[0;34m.\u001b[0m\u001b[0m_get_tick\u001b[0m\u001b[0;34m(\u001b[0m\u001b[0mmajor\u001b[0m\u001b[0;34m=\u001b[0m\u001b[0;32mTrue\u001b[0m\u001b[0;34m)\u001b[0m\u001b[0;34m]\u001b[0m\u001b[0;34m)\u001b[0m\u001b[0;34m\u001b[0m\u001b[0m\n\u001b[0m\u001b[1;32m    788\u001b[0m         \u001b[0mself\u001b[0m\u001b[0;34m.\u001b[0m\u001b[0mminorTicks\u001b[0m\u001b[0;34m.\u001b[0m\u001b[0mextend\u001b[0m\u001b[0;34m(\u001b[0m\u001b[0;34m[\u001b[0m\u001b[0mself\u001b[0m\u001b[0;34m.\u001b[0m\u001b[0m_get_tick\u001b[0m\u001b[0;34m(\u001b[0m\u001b[0mmajor\u001b[0m\u001b[0;34m=\u001b[0m\u001b[0;32mFalse\u001b[0m\u001b[0;34m)\u001b[0m\u001b[0;34m]\u001b[0m\u001b[0;34m)\u001b[0m\u001b[0;34m\u001b[0m\u001b[0m\n\u001b[1;32m    789\u001b[0m         \u001b[0mself\u001b[0m\u001b[0;34m.\u001b[0m\u001b[0m_lastNumMajorTicks\u001b[0m \u001b[0;34m=\u001b[0m \u001b[0;36m1\u001b[0m\u001b[0;34m\u001b[0m\u001b[0m\n",
      "\u001b[0;32m~/anaconda3/lib/python3.6/site-packages/matplotlib/axis.py\u001b[0m in \u001b[0;36m_get_tick\u001b[0;34m(self, major)\u001b[0m\n\u001b[1;32m   1746\u001b[0m         \u001b[0;32melse\u001b[0m\u001b[0;34m:\u001b[0m\u001b[0;34m\u001b[0m\u001b[0m\n\u001b[1;32m   1747\u001b[0m             \u001b[0mtick_kw\u001b[0m \u001b[0;34m=\u001b[0m \u001b[0mself\u001b[0m\u001b[0;34m.\u001b[0m\u001b[0m_minor_tick_kw\u001b[0m\u001b[0;34m\u001b[0m\u001b[0m\n\u001b[0;32m-> 1748\u001b[0;31m         \u001b[0;32mreturn\u001b[0m \u001b[0mXTick\u001b[0m\u001b[0;34m(\u001b[0m\u001b[0mself\u001b[0m\u001b[0;34m.\u001b[0m\u001b[0maxes\u001b[0m\u001b[0;34m,\u001b[0m \u001b[0;36m0\u001b[0m\u001b[0;34m,\u001b[0m \u001b[0;34m''\u001b[0m\u001b[0;34m,\u001b[0m \u001b[0mmajor\u001b[0m\u001b[0;34m=\u001b[0m\u001b[0mmajor\u001b[0m\u001b[0;34m,\u001b[0m \u001b[0;34m**\u001b[0m\u001b[0mtick_kw\u001b[0m\u001b[0;34m)\u001b[0m\u001b[0;34m\u001b[0m\u001b[0m\n\u001b[0m\u001b[1;32m   1749\u001b[0m \u001b[0;34m\u001b[0m\u001b[0m\n\u001b[1;32m   1750\u001b[0m     \u001b[0;32mdef\u001b[0m \u001b[0m_get_label\u001b[0m\u001b[0;34m(\u001b[0m\u001b[0mself\u001b[0m\u001b[0;34m)\u001b[0m\u001b[0;34m:\u001b[0m\u001b[0;34m\u001b[0m\u001b[0m\n",
      "\u001b[0;32m~/anaconda3/lib/python3.6/site-packages/matplotlib/axis.py\u001b[0m in \u001b[0;36m__init__\u001b[0;34m(self, axes, loc, label, size, width, color, tickdir, pad, labelsize, labelcolor, zorder, gridOn, tick1On, tick2On, label1On, label2On, major, labelrotation)\u001b[0m\n\u001b[1;32m    158\u001b[0m         \u001b[0mself\u001b[0m\u001b[0;34m.\u001b[0m\u001b[0mlabel1\u001b[0m \u001b[0;34m=\u001b[0m \u001b[0mself\u001b[0m\u001b[0;34m.\u001b[0m\u001b[0m_get_text1\u001b[0m\u001b[0;34m(\u001b[0m\u001b[0;34m)\u001b[0m\u001b[0;34m\u001b[0m\u001b[0m\n\u001b[1;32m    159\u001b[0m         \u001b[0mself\u001b[0m\u001b[0;34m.\u001b[0m\u001b[0mlabel\u001b[0m \u001b[0;34m=\u001b[0m \u001b[0mself\u001b[0m\u001b[0;34m.\u001b[0m\u001b[0mlabel1\u001b[0m  \u001b[0;31m# legacy name\u001b[0m\u001b[0;34m\u001b[0m\u001b[0m\n\u001b[0;32m--> 160\u001b[0;31m         \u001b[0mself\u001b[0m\u001b[0;34m.\u001b[0m\u001b[0mlabel2\u001b[0m \u001b[0;34m=\u001b[0m \u001b[0mself\u001b[0m\u001b[0;34m.\u001b[0m\u001b[0m_get_text2\u001b[0m\u001b[0;34m(\u001b[0m\u001b[0;34m)\u001b[0m\u001b[0;34m\u001b[0m\u001b[0m\n\u001b[0m\u001b[1;32m    161\u001b[0m \u001b[0;34m\u001b[0m\u001b[0m\n\u001b[1;32m    162\u001b[0m         \u001b[0mself\u001b[0m\u001b[0;34m.\u001b[0m\u001b[0mgridOn\u001b[0m \u001b[0;34m=\u001b[0m \u001b[0mgridOn\u001b[0m\u001b[0;34m\u001b[0m\u001b[0m\n",
      "\u001b[0;32m~/anaconda3/lib/python3.6/site-packages/matplotlib/axis.py\u001b[0m in \u001b[0;36m_get_text2\u001b[0;34m(self)\u001b[0m\n\u001b[1;32m    430\u001b[0m             \u001b[0mcolor\u001b[0m\u001b[0;34m=\u001b[0m\u001b[0mself\u001b[0m\u001b[0;34m.\u001b[0m\u001b[0m_labelcolor\u001b[0m\u001b[0;34m,\u001b[0m\u001b[0;34m\u001b[0m\u001b[0m\n\u001b[1;32m    431\u001b[0m             \u001b[0mverticalalignment\u001b[0m\u001b[0;34m=\u001b[0m\u001b[0mvert\u001b[0m\u001b[0;34m,\u001b[0m\u001b[0;34m\u001b[0m\u001b[0m\n\u001b[0;32m--> 432\u001b[0;31m             \u001b[0mhorizontalalignment\u001b[0m\u001b[0;34m=\u001b[0m\u001b[0mhoriz\u001b[0m\u001b[0;34m,\u001b[0m\u001b[0;34m\u001b[0m\u001b[0m\n\u001b[0m\u001b[1;32m    433\u001b[0m             )\n\u001b[1;32m    434\u001b[0m         \u001b[0mt\u001b[0m\u001b[0;34m.\u001b[0m\u001b[0mset_transform\u001b[0m\u001b[0;34m(\u001b[0m\u001b[0mtrans\u001b[0m\u001b[0;34m)\u001b[0m\u001b[0;34m\u001b[0m\u001b[0m\n",
      "\u001b[0;32m~/anaconda3/lib/python3.6/site-packages/matplotlib/text.py\u001b[0m in \u001b[0;36m__init__\u001b[0;34m(self, x, y, text, color, verticalalignment, horizontalalignment, multialignment, fontproperties, rotation, linespacing, rotation_mode, usetex, wrap, **kwargs)\u001b[0m\n\u001b[1;32m    186\u001b[0m         \u001b[0;32mreturn\u001b[0m \u001b[0;34m\"Text(%g,%g,%s)\"\u001b[0m \u001b[0;34m%\u001b[0m \u001b[0;34m(\u001b[0m\u001b[0mself\u001b[0m\u001b[0;34m.\u001b[0m\u001b[0m_x\u001b[0m\u001b[0;34m,\u001b[0m \u001b[0mself\u001b[0m\u001b[0;34m.\u001b[0m\u001b[0m_y\u001b[0m\u001b[0;34m,\u001b[0m \u001b[0mrepr\u001b[0m\u001b[0;34m(\u001b[0m\u001b[0mself\u001b[0m\u001b[0;34m.\u001b[0m\u001b[0m_text\u001b[0m\u001b[0;34m)\u001b[0m\u001b[0;34m)\u001b[0m\u001b[0;34m\u001b[0m\u001b[0m\n\u001b[1;32m    187\u001b[0m \u001b[0;34m\u001b[0m\u001b[0m\n\u001b[0;32m--> 188\u001b[0;31m     def __init__(self,\n\u001b[0m\u001b[1;32m    189\u001b[0m                  \u001b[0mx\u001b[0m\u001b[0;34m=\u001b[0m\u001b[0;36m0\u001b[0m\u001b[0;34m,\u001b[0m \u001b[0my\u001b[0m\u001b[0;34m=\u001b[0m\u001b[0;36m0\u001b[0m\u001b[0;34m,\u001b[0m \u001b[0mtext\u001b[0m\u001b[0;34m=\u001b[0m\u001b[0;34m''\u001b[0m\u001b[0;34m,\u001b[0m\u001b[0;34m\u001b[0m\u001b[0m\n\u001b[1;32m    190\u001b[0m                  \u001b[0mcolor\u001b[0m\u001b[0;34m=\u001b[0m\u001b[0;32mNone\u001b[0m\u001b[0;34m,\u001b[0m           \u001b[0;31m# defaults to rc params\u001b[0m\u001b[0;34m\u001b[0m\u001b[0m\n",
      "\u001b[0;31mKeyboardInterrupt\u001b[0m: "
     ]
    },
    {
     "data": {
      "text/plain": [
       "<matplotlib.figure.Figure at 0x7f6d8503ada0>"
      ]
     },
     "metadata": {},
     "output_type": "display_data"
    }
   ],
   "source": [
    "for epoch in range(epochs):\n",
    "    for i, (batch_X, batch_y) in enumerate(iterate_minibatches(X[:800], y[:800], 20)):\n",
    "\n",
    "        batch_loss = sess.run([train_step,loss], feed_dict={inp : batch_X, target: batch_y})\n",
    "        curr_loss += batch_loss[1]\n",
    "\n",
    "        if i % n == 0:\n",
    "            if i != 0:\n",
    "                losses_each_n.append( curr_loss / n)\n",
    "            \n",
    "            curr_loss = 0\n",
    "\n",
    "\n",
    "            display.clear_output(wait=True)\n",
    "            plt.plot(losses_each_n[1:], label='train')\n",
    "            plt.plot(val_x, val_losses, label='test')\n",
    "            plt.legend()\n",
    "            plt.show()\n",
    "            \n",
    "    val_loss = sess.run(loss,  feed_dict={inp : X[800:].reshape(-1, 100), target: y[800:].reshape(-1, 100)})\n",
    "    val_losses.append(val_loss)\n",
    "    val_x.append(len(losses_each_n))\n",
    "    \n",
    "    curr_loss == 0\n",
    "\n",
    "        #print(batch_loss[1])"
   ]
  },
  {
   "cell_type": "code",
   "execution_count": 144,
   "metadata": {},
   "outputs": [
    {
     "data": {
      "text/plain": [
       "[]"
      ]
     },
     "execution_count": 144,
     "metadata": {},
     "output_type": "execute_result"
    }
   ],
   "source": [
    "losses_each_n"
   ]
  },
  {
   "cell_type": "code",
   "execution_count": 244,
   "metadata": {},
   "outputs": [
    {
     "data": {
      "text/plain": [
       "<matplotlib.figure.Figure at 0x7f6d8503aa20>"
      ]
     },
     "metadata": {},
     "output_type": "display_data"
    },
    {
     "data": {
      "image/png": "[encoded data removed]",
      "text/plain": [
       "<matplotlib.figure.Figure at 0x7f6d84f74c50>"
      ]
     },
     "metadata": {},
     "output_type": "display_data"
    }
   ],
   "source": [
    "ind = -12\n",
    "\n",
    "gr = sess.run(out, feed_dict = {inp : X[ind].reshape(-1,100)}).reshape(10,10)\n",
    "plot_group(gr > 0.5, 0, y[ind], 0,  X[ind], 1, s = 10)"
   ]
  },
  {
   "cell_type": "code",
   "execution_count": 246,
   "metadata": {},
   "outputs": [],
   "source": [
    "gr = sess.run(out, feed_dict = {inp : X[800:].reshape(-1,100)}).reshape(200, 10,10)"
   ]
  },
  {
   "cell_type": "code",
   "execution_count": 249,
   "metadata": {
    "scrolled": true
   },
   "outputs": [
    {
     "data": {
      "text/plain": [
       "<matplotlib.figure.Figure at 0x7f6dd23e8828>"
      ]
     },
     "metadata": {},
     "output_type": "display_data"
    },
    {
     "data": {
      "image/png": "[encoded data removed]",
      "text/plain": [
       "<matplotlib.figure.Figure at 0x7f6d86045940>"
      ]
     },
     "metadata": {},
     "output_type": "display_data"
    }
   ],
   "source": [
    "plot_group(gr[0] > 0.5, 0, y[800], 0)"
   ]
  },
  {
   "cell_type": "code",
   "execution_count": 250,
   "metadata": {},
   "outputs": [],
   "source": [
    "from sklearn.metrics import log_loss, accuracy_score"
   ]
  },
  {
   "cell_type": "code",
   "execution_count": 257,
   "metadata": {},
   "outputs": [],
   "source": [
    "loss = 0\n",
    "for i in range(200):\n",
    "    loss += accuracy_score(y[i + 800], gr[i] > 0.4)"
   ]
  },
  {
   "cell_type": "code",
   "execution_count": 258,
   "metadata": {},
   "outputs": [
    {
     "data": {
      "text/plain": [
       "0.8565000000000016"
      ]
     },
     "execution_count": 258,
     "metadata": {},
     "output_type": "execute_result"
    }
   ],
   "source": [
    "loss / 200"
   ]
  },
  {
   "cell_type": "code",
   "execution_count": null,
   "metadata": {},
   "outputs": [],
   "source": []
  },
  {
   "cell_type": "markdown",
   "metadata": {},
   "source": [
    "## Node2vec"
   ]
  },
  {
   "cell_type": "code",
   "execution_count": 20,
   "metadata": {},
   "outputs": [],
   "source": [
    "sys.path.append(\"../\")"
   ]
  },
  {
   "cell_type": "code",
   "execution_count": 49,
   "metadata": {},
   "outputs": [],
   "source": [
    "import main as n2v\n",
    "import node2vec as n2v_src\n",
    "import networkx as nx"
   ]
  },
  {
   "cell_type": "code",
   "execution_count": 60,
   "metadata": {},
   "outputs": [],
   "source": [
    "from importlib import reload\n",
    "n2v = reload(n2v)"
   ]
  },
  {
   "cell_type": "code",
   "execution_count": 29,
   "metadata": {},
   "outputs": [
    {
     "data": {
      "image/png": "[encoded data removed]",
      "text/plain": [
       "<matplotlib.figure.Figure at 0x7f6dd2987588>"
      ]
     },
     "metadata": {},
     "output_type": "display_data"
    }
   ],
   "source": [
    "plot_gr(X[11], s =3)"
   ]
  },
  {
   "cell_type": "code",
   "execution_count": 30,
   "metadata": {},
   "outputs": [],
   "source": [
    "gr = X[11]"
   ]
  },
  {
   "cell_type": "code",
   "execution_count": 34,
   "metadata": {},
   "outputs": [],
   "source": [
    "nxG = nx.DiGraph()\n",
    "nxG.add_edge()"
   ]
  },
  {
   "cell_type": "code",
   "execution_count": 37,
   "metadata": {},
   "outputs": [],
   "source": [
    "def gr_to_nxG(graph):\n",
    "    nxG = nx.DiGraph()\n",
    "    for i in range(graph.shape[0]):\n",
    "        for j in range(graph.shape[1]):\n",
    "            nxG.add_edge(i, j, weight = graph[i,j])\n",
    "    return nxG"
   ]
  },
  {
   "cell_type": "code",
   "execution_count": 39,
   "metadata": {},
   "outputs": [],
   "source": [
    "nxG = gr_to_nxG(gr)"
   ]
  },
  {
   "cell_type": "code",
   "execution_count": 43,
   "metadata": {},
   "outputs": [],
   "source": [
    "\n",
    "G = n2v_src.Graph(nxG, 1, 0.5, 0.5)\n",
    "# G.preprocess_transition_probs()\n",
    "# walks = G.simulate_walks(args.num_walks, args.walk_length)\n",
    "# learn_embeddings(walks)"
   ]
  },
  {
   "cell_type": "code",
   "execution_count": 64,
   "metadata": {},
   "outputs": [
    {
     "name": "stderr",
     "output_type": "stream",
     "text": [
      "../node2vec/src/node2vec.py:87: RuntimeWarning: invalid value encountered in double_scalars\n",
      "  normalized_probs =  [float(u_prob)/norm_const for u_prob in unnormalized_probs]\n",
      "../node2vec/src/node2vec.py:72: RuntimeWarning: invalid value encountered in double_scalars\n",
      "  normalized_probs =  [float(u_prob)/norm_const for u_prob in unnormalized_probs]\n"
     ]
    },
    {
     "name": "stdout",
     "output_type": "stream",
     "text": [
      "Walk iteration:\n",
      "1 / 100\n",
      "2 / 100\n",
      "3 / 100\n",
      "4 / 100\n",
      "5 / 100\n",
      "6 / 100\n",
      "7 / 100\n",
      "8 / 100\n",
      "9 / 100\n",
      "10 / 100\n",
      "11 / 100\n",
      "12 / 100\n",
      "13 / 100\n",
      "14 / 100\n",
      "15 / 100\n",
      "16 / 100\n",
      "17 / 100\n",
      "18 / 100\n",
      "19 / 100\n",
      "20 / 100\n",
      "21 / 100\n",
      "22 / 100\n",
      "23 / 100\n",
      "24 / 100\n",
      "25 / 100\n",
      "26 / 100\n",
      "27 / 100\n",
      "28 / 100\n",
      "29 / 100\n",
      "30 / 100\n",
      "31 / 100\n",
      "32 / 100\n",
      "33 / 100\n",
      "34 / 100\n",
      "35 / 100\n",
      "36 / 100\n",
      "37 / 100\n",
      "38 / 100\n",
      "39 / 100\n",
      "40 / 100\n",
      "41 / 100\n",
      "42 / 100\n",
      "43 / 100\n",
      "44 / 100\n",
      "45 / 100\n",
      "46 / 100\n",
      "47 / 100\n",
      "48 / 100\n",
      "49 / 100\n",
      "50 / 100\n",
      "51 / 100\n",
      "52 / 100\n",
      "53 / 100\n",
      "54 / 100\n",
      "55 / 100\n",
      "56 / 100\n",
      "57 / 100\n",
      "58 / 100\n",
      "59 / 100\n",
      "60 / 100\n",
      "61 / 100\n",
      "62 / 100\n",
      "63 / 100\n",
      "64 / 100\n",
      "65 / 100\n",
      "66 / 100\n",
      "67 / 100\n",
      "68 / 100\n",
      "69 / 100\n",
      "70 / 100\n",
      "71 / 100\n",
      "72 / 100\n",
      "73 / 100\n",
      "74 / 100\n",
      "75 / 100\n",
      "76 / 100\n",
      "77 / 100\n",
      "78 / 100\n",
      "79 / 100\n",
      "80 / 100\n",
      "81 / 100\n",
      "82 / 100\n",
      "83 / 100\n",
      "84 / 100\n",
      "85 / 100\n",
      "86 / 100\n",
      "87 / 100\n",
      "88 / 100\n",
      "89 / 100\n",
      "90 / 100\n",
      "91 / 100\n",
      "92 / 100\n",
      "93 / 100\n",
      "94 / 100\n",
      "95 / 100\n",
      "96 / 100\n",
      "97 / 100\n",
      "98 / 100\n",
      "99 / 100\n",
      "100 / 100\n"
     ]
    }
   ],
   "source": [
    "G.preprocess_transition_probs()\n",
    "walks = G.simulate_walks(100, 20)\n",
    "model = n2v.learn_embeddings(walks, 5, 5, 4, 200)"
   ]
  },
  {
   "cell_type": "code",
   "execution_count": 85,
   "metadata": {},
   "outputs": [
    {
     "data": {
      "text/plain": [
       "[('4', 0.7593192458152771),\n",
       " ('3', 0.7224942445755005),\n",
       " ('6', 0.6689642667770386),\n",
       " ('9', 0.6598272919654846),\n",
       " ('7', 0.5082045793533325),\n",
       " ('5', -0.1019466370344162),\n",
       " ('2', -0.13940005004405975),\n",
       " ('1', -0.14790862798690796),\n",
       " ('8', -0.18426699936389923)]"
      ]
     },
     "execution_count": 85,
     "metadata": {},
     "output_type": "execute_result"
    }
   ],
   "source": [
    "model.wv.most_similar(positive='0')"
   ]
  },
  {
   "cell_type": "code",
   "execution_count": 100,
   "metadata": {},
   "outputs": [],
   "source": [
    "E = np.zeros((10, 5))\n",
    "for i in range(10):\n",
    "    E[i] = model.wv.word_vec(str(i))"
   ]
  },
  {
   "cell_type": "code",
   "execution_count": 103,
   "metadata": {},
   "outputs": [],
   "source": [
    "from sklearn.decomposition import PCA"
   ]
  },
  {
   "cell_type": "code",
   "execution_count": 104,
   "metadata": {},
   "outputs": [],
   "source": [
    "pca = PCA(n_components=2)"
   ]
  },
  {
   "cell_type": "code",
   "execution_count": 105,
   "metadata": {},
   "outputs": [
    {
     "data": {
      "text/plain": [
       "array([[-1.04583212,  0.44248204],\n",
       "       [ 1.13473591,  0.04076436],\n",
       "       [ 1.27760196,  0.00648308],\n",
       "       [-0.85260869, -0.25610945],\n",
       "       [-0.77946134,  0.16066381],\n",
       "       [ 1.2406656 ,  0.09062604],\n",
       "       [-0.77474962, -0.2514189 ],\n",
       "       [-0.70512859, -0.28424838],\n",
       "       [ 1.20216892, -0.0827374 ],\n",
       "       [-0.69739203,  0.13349479]])"
      ]
     },
     "execution_count": 105,
     "metadata": {},
     "output_type": "execute_result"
    }
   ],
   "source": [
    "pca.fit_transform(E)"
   ]
  },
  {
   "cell_type": "code",
   "execution_count": 106,
   "metadata": {},
   "outputs": [
    {
     "data": {
      "text/plain": [
       "<matplotlib.collections.PathCollection at 0x7f6dd2af2710>"
      ]
     },
     "execution_count": 106,
     "metadata": {},
     "output_type": "execute_result"
    },
    {
     "data": {
      "image/png": "[encoded data removed]",
      "text/plain": [
       "<matplotlib.figure.Figure at 0x7f6dd2978a90>"
      ]
     },
     "metadata": {},
     "output_type": "display_data"
    }
   ],
   "source": [
    "plt.scatter(pca.fit_transform(E)[:,0], pca.fit_transform(E)[:, 1])"
   ]
  },
  {
   "cell_type": "code",
   "execution_count": null,
   "metadata": {},
   "outputs": [],
   "source": []
  },
  {
   "cell_type": "code",
   "execution_count": 84,
   "metadata": {},
   "outputs": [
    {
     "data": {
      "image/png": "[encoded data removed]",
      "text/plain": [
       "<matplotlib.figure.Figure at 0x7f6dd238f978>"
      ]
     },
     "metadata": {},
     "output_type": "display_data"
    }
   ],
   "source": [
    "plot_gr(gr, s=4,all_ticks=1)"
   ]
  },
  {
   "cell_type": "code",
   "execution_count": 81,
   "metadata": {},
   "outputs": [],
   "source": [
    "from gensim.models import Word2Vec"
   ]
  },
  {
   "cell_type": "code",
   "execution_count": 52,
   "metadata": {},
   "outputs": [
    {
     "data": {
      "text/plain": [
       "[[8, 0, 3, 4, 6, 7, 9, 4, 6, 7, 9, 7, 7, 7, 9, 7, 9, 4, 7, 9],\n",
       " [2, 0, 3, 4, 6, 7, 0, 3, 3, 4, 4, 6, 7, 9, 7, 9, 4, 9, 4, 6],\n",
       " [6, 7, 9, 4, 6, 7, 9, 4, 4, 4, 6, 7, 9, 7, 0, 7, 9, 4, 6, 7],\n",
       " [1, 0, 3, 4, 0, 3, 4, 6, 7, 7, 9, 7, 9, 4, 6, 7, 9, 3, 4, 4],\n",
       " [3, 4, 6, 7, 9, 4, 4, 6, 7, 7, 9, 4, 4, 6, 7, 0, 3, 4, 6, 7],\n",
       " [7, 0, 3, 3, 4, 6, 7, 9, 4, 6, 7, 0, 3, 4, 4, 4, 6, 7, 0, 6],\n",
       " [5, 0, 3, 4, 6, 7, 0, 3, 4, 6, 7, 9, 7, 9, 4, 6, 3, 4, 6, 7],\n",
       " [4, 6, 7, 9, 4, 6, 3, 4, 6, 7, 9, 4, 6, 7, 9, 4, 6, 7, 9, 7],\n",
       " [0, 3, 4, 3, 4, 6, 7, 7, 9, 7, 9, 4, 6, 7, 9, 4, 7, 7, 9, 7],\n",
       " [9, 7, 9, 4, 6, 4, 6, 6, 0, 3, 4, 6, 7, 9, 7, 9, 3, 4, 6, 7],\n",
       " [9, 4, 6, 7, 9, 4, 6, 7, 9, 7, 9, 7, 9, 3, 4, 6, 3, 4, 6, 7],\n",
       " [0, 4, 6, 3, 4, 6, 7, 9, 7, 0, 3, 3, 4, 6, 7, 9, 4, 6, 7, 0],\n",
       " [1, 0, 3, 4, 6, 7, 7, 7, 7, 0, 4, 6, 0, 3, 4, 4, 6, 7, 9, 7],\n",
       " [6, 7, 9, 4, 6, 7, 9, 4, 6, 7, 9, 4, 6, 7, 9, 3, 4, 6, 7, 3],\n",
       " [4, 6, 7, 9, 4, 6, 7, 0, 3, 4, 6, 7, 9, 4, 6, 7, 9, 4, 6, 7],\n",
       " [5, 0, 3, 3, 4, 6, 7, 9, 7, 9, 7, 9, 4, 7, 9, 7, 9, 4, 6, 7],\n",
       " [3, 3, 6, 9, 7, 9, 7, 9, 4, 6, 7, 7, 9, 4, 3, 4, 4, 6, 7, 0],\n",
       " [8, 0, 3, 3, 4, 4, 6, 7, 9, 3, 4, 6, 4, 6, 7, 4, 6, 7, 9, 4],\n",
       " [7, 9, 4, 9, 4, 6, 7, 0, 0, 4, 4, 7, 0, 3, 4, 3, 4, 6, 7, 9],\n",
       " [2, 0, 3, 0, 9, 3, 4, 6, 7, 9, 7, 9, 3, 4, 7, 9, 4, 6, 7, 7],\n",
       " [2, 0, 3, 4, 6, 7, 9, 4, 6, 6, 7, 9, 7, 9, 7, 9, 4, 7, 0, 3],\n",
       " [0, 3, 7, 0, 3, 4, 6, 7, 9, 7, 9, 4, 6, 7, 9, 4, 4, 4, 4, 4],\n",
       " [8, 0, 3, 4, 3, 4, 4, 6, 7, 9, 4, 6, 7, 4, 6, 7, 9, 7, 0, 4],\n",
       " [6, 7, 9, 4, 6, 9, 4, 6, 7, 7, 7, 9, 4, 3, 7, 9, 3, 4, 6, 7],\n",
       " [5, 0, 3, 4, 6, 4, 6, 7, 9, 4, 6, 7, 0, 4, 7, 9, 3, 4, 6, 7],\n",
       " [7, 9, 4, 6, 7, 7, 9, 7, 9, 7, 9, 4, 6, 7, 9, 7, 9, 4, 7, 9],\n",
       " [9, 4, 6, 7, 9, 4, 6, 7, 7, 9, 3, 4, 7, 4, 6, 7, 4, 6, 7, 9],\n",
       " [4, 6, 3, 4, 3, 4, 6, 7, 9, 7, 9, 7, 9, 3, 4, 6, 7, 9, 4, 6],\n",
       " [3, 4, 6, 7, 9, 7, 9, 4, 6, 7, 0, 3, 3, 4, 4, 4, 7, 9, 3, 4],\n",
       " [1, 0, 3, 4, 4, 6, 7, 9, 4, 6, 7, 0, 3, 0, 4, 4, 7, 9, 7, 9],\n",
       " [5, 0, 3, 4, 6, 7, 0, 3, 4, 7, 7, 0, 3, 4, 6, 7, 9, 4, 6, 4],\n",
       " [0, 3, 4, 6, 7, 9, 7, 9, 4, 6, 7, 0, 3, 4, 4, 6, 7, 9, 7, 9],\n",
       " [7, 9, 7, 9, 7, 9, 7, 9, 3, 4, 6, 9, 3, 4, 6, 4, 6, 7, 6, 7],\n",
       " [3, 4, 6, 4, 4, 6, 7, 0, 3, 3, 4, 6, 4, 6, 7, 9, 3, 4, 6, 7],\n",
       " [4, 3, 4, 6, 7, 9, 4, 6, 7, 4, 7, 0, 3, 4, 6, 7, 9, 4, 6, 6],\n",
       " [8, 0, 4, 6, 7, 4, 3, 4, 6, 7, 9, 4, 6, 7, 9, 4, 6, 3, 4, 6],\n",
       " [6, 7, 7, 9, 4, 6, 7, 9, 4, 3, 4, 6, 7, 9, 7, 9, 4, 6, 7, 4],\n",
       " [1, 0, 0, 3, 4, 4, 7, 9, 3, 4, 3, 4, 6, 7, 7, 7, 9, 4, 6, 7],\n",
       " [2, 0, 3, 4, 6, 7, 9, 3, 4, 4, 6, 3, 4, 6, 7, 9, 4, 6, 4, 6],\n",
       " [9, 4, 6, 7, 4, 6, 7, 9, 3, 4, 6, 7, 9, 4, 6, 7, 4, 6, 7, 9],\n",
       " [2, 0, 3, 4, 6, 7, 9, 4, 6, 7, 9, 4, 6, 7, 9, 7, 4, 6, 3, 3],\n",
       " [0, 3, 4, 7, 0, 4, 6, 9, 4, 6, 7, 4, 6, 4, 6, 7, 9, 3, 4, 6],\n",
       " [9, 4, 6, 7, 4, 6, 7, 9, 7, 9, 3, 4, 6, 7, 7, 9, 4, 6, 7, 0],\n",
       " [5, 0, 3, 4, 6, 7, 7, 9, 7, 9, 4, 6, 7, 9, 3, 4, 4, 6, 6, 7],\n",
       " [3, 4, 6, 7, 9, 7, 9, 4, 6, 7, 9, 4, 6, 3, 4, 6, 7, 7, 9, 4],\n",
       " [4, 6, 7, 9, 3, 4, 6, 4, 6, 7, 9, 7, 9, 4, 4, 6, 7, 4, 6, 7],\n",
       " [6, 7, 9, 4, 6, 4, 4, 4, 6, 7, 7, 9, 3, 4, 6, 7, 6, 7, 9, 4],\n",
       " [7, 9, 4, 9, 4, 6, 9, 4, 6, 7, 6, 7, 9, 4, 6, 7, 9, 3, 4, 6],\n",
       " [1, 0, 3, 4, 6, 7, 7, 7, 7, 9, 4, 6, 7, 9, 4, 6, 7, 9, 7, 9],\n",
       " [8, 0, 3, 4, 9, 7, 9, 4, 6, 7, 9, 4, 4, 7, 9, 4, 6, 7, 4, 6],\n",
       " [9, 3, 4, 6, 7, 9, 4, 6, 7, 9, 3, 4, 6, 7, 9, 7, 9, 7, 9, 4],\n",
       " [4, 6, 7, 9, 7, 3, 4, 6, 7, 9, 3, 3, 3, 4, 6, 3, 4, 7, 9, 4],\n",
       " [2, 0, 3, 4, 6, 7, 9, 3, 4, 4, 7, 9, 7, 4, 6, 3, 9, 3, 4, 6],\n",
       " [1, 0, 4, 6, 7, 9, 4, 6, 7, 9, 7, 0, 4, 4, 6, 7, 9, 3, 4, 6],\n",
       " [8, 0, 3, 4, 4, 6, 7, 3, 4, 6, 7, 0, 3, 4, 6, 7, 4, 6, 7, 9],\n",
       " [0, 3, 4, 6, 7, 9, 3, 4, 6, 7, 9, 4, 6, 7, 9, 4, 6, 7, 9, 7],\n",
       " [7, 4, 6, 0, 0, 3, 4, 6, 7, 9, 3, 6, 7, 9, 7, 9, 7, 9, 4, 6],\n",
       " [3, 4, 6, 4, 6, 7, 9, 4, 6, 7, 7, 9, 4, 6, 7, 4, 6, 7, 0, 3],\n",
       " [6, 7, 9, 3, 4, 6, 7, 7, 9, 3, 4, 6, 7, 9, 7, 9, 7, 9, 7, 9],\n",
       " [5, 0, 3, 4, 6, 3, 4, 6, 7, 9, 7, 0, 4, 6, 7, 9, 4, 7, 7, 9],\n",
       " [1, 0, 9, 7, 7, 9, 4, 6, 7, 9, 7, 9, 4, 6, 3, 4, 6, 7, 7, 9],\n",
       " [6, 7, 9, 3, 4, 6, 3, 3, 3, 6, 7, 7, 7, 9, 4, 6, 7, 9, 4, 7],\n",
       " [8, 0, 3, 4, 6, 7, 0, 3, 4, 6, 6, 7, 9, 4, 6, 7, 4, 9, 4, 6],\n",
       " [2, 0, 4, 6, 4, 6, 7, 0, 3, 4, 6, 7, 9, 7, 9, 4, 6, 3, 4, 6],\n",
       " [9, 4, 6, 4, 6, 7, 9, 4, 6, 3, 4, 6, 7, 0, 3, 4, 6, 4, 6, 7],\n",
       " [0, 3, 3, 4, 6, 4, 6, 7, 9, 4, 6, 7, 9, 3, 4, 4, 6, 4, 6, 7],\n",
       " [4, 6, 3, 4, 6, 7, 9, 7, 0, 3, 4, 6, 3, 4, 6, 7, 9, 4, 6, 7],\n",
       " [3, 6, 7, 0, 3, 6, 7, 9, 7, 9, 4, 6, 7, 9, 7, 9, 4, 6, 7, 9],\n",
       " [5, 0, 3, 4, 6, 7, 3, 3, 4, 6, 7, 7, 9, 3, 6, 7, 7, 0, 3, 3],\n",
       " [7, 0, 3, 4, 3, 4, 6, 7, 0, 3, 4, 6, 7, 6, 7, 9, 7, 9, 3, 4],\n",
       " [5, 0, 3, 4, 7, 9, 3, 4, 6, 4, 6, 7, 4, 6, 4, 4, 6, 7, 9, 7],\n",
       " [1, 0, 9, 4, 6, 7, 0, 3, 4, 6, 7, 9, 4, 6, 7, 9, 4, 7, 7, 4],\n",
       " [2, 0, 3, 4, 6, 7, 9, 7, 9, 7, 0, 3, 4, 3, 4, 6, 7, 3, 4, 4],\n",
       " [4, 6, 7, 9, 4, 6, 7, 9, 7, 9, 4, 7, 7, 7, 9, 4, 6, 7, 9, 3],\n",
       " [6, 7, 9, 4, 6, 7, 7, 9, 3, 4, 6, 7, 9, 4, 6, 7, 9, 4, 7, 9],\n",
       " [0, 3, 4, 4, 6, 7, 9, 3, 9, 3, 4, 6, 7, 9, 7, 9, 7, 9, 3, 4],\n",
       " [7, 0, 3, 3, 4, 6, 7, 9, 4, 6, 7, 9, 7, 9, 7, 9, 3, 4, 6, 7],\n",
       " [8, 0, 3, 4, 7, 9, 7, 9, 4, 6, 7, 9, 4, 6, 7, 4, 6, 7, 7, 9],\n",
       " [9, 7, 7, 9, 7, 4, 6, 7, 9, 4, 6, 7, 7, 9, 7, 9, 7, 9, 7, 9],\n",
       " [3, 4, 6, 7, 9, 3, 4, 6, 7, 9, 3, 4, 6, 4, 6, 7, 3, 4, 6, 7],\n",
       " [2, 0, 3, 4, 6, 7, 9, 4, 6, 4, 6, 7, 9, 3, 4, 6, 7, 7, 9, 4],\n",
       " [9, 4, 6, 3, 4, 6, 7, 9, 3, 4, 4, 3, 4, 7, 9, 7, 9, 7, 9, 7],\n",
       " [8, 0, 3, 4, 6, 7, 9, 4, 6, 7, 9, 7, 9, 4, 4, 6, 9, 4, 6, 7],\n",
       " [4, 6, 7, 9, 7, 4, 6, 7, 9, 7, 7, 0, 4, 6, 7, 9, 4, 6, 7, 9],\n",
       " [3, 4, 6, 4, 4, 6, 4, 6, 7, 7, 9, 3, 4, 6, 9, 4, 6, 7, 9, 7],\n",
       " [7, 9, 4, 6, 7, 9, 4, 6, 7, 7, 9, 3, 4, 6, 7, 9, 4, 6, 7, 7],\n",
       " [5, 0, 3, 4, 6, 7, 9, 7, 9, 3, 4, 4, 6, 7, 4, 6, 7, 9, 4, 6],\n",
       " [1, 0, 3, 4, 6, 7, 9, 4, 6, 7, 4, 4, 6, 7, 4, 7, 9, 7, 9, 4],\n",
       " [0, 3, 4, 6, 7, 7, 7, 7, 9, 4, 7, 9, 7, 9, 7, 9, 3, 4, 6, 7],\n",
       " [6, 7, 0, 3, 4, 6, 7, 9, 4, 6, 3, 4, 6, 7, 7, 7, 9, 7, 9, 7],\n",
       " [8, 0, 3, 4, 6, 7, 0, 3, 4, 6, 7, 9, 4, 6, 7, 4, 4, 3, 4, 6],\n",
       " [1, 0, 6, 7, 9, 4, 6, 7, 0, 3, 4, 6, 7, 9, 3, 4, 9, 7, 9, 3],\n",
       " [9, 4, 6, 7, 9, 4, 6, 4, 6, 7, 9, 3, 3, 4, 6, 7, 9, 3, 4, 6],\n",
       " [2, 0, 3, 4, 6, 7, 9, 7, 9, 7, 9, 7, 9, 4, 6, 7, 4, 6, 7, 7],\n",
       " [7, 3, 4, 6, 7, 0, 4, 6, 7, 9, 7, 4, 6, 7, 9, 4, 6, 7, 9, 4],\n",
       " [6, 7, 9, 4, 4, 6, 7, 9, 4, 4, 6, 4, 6, 7, 4, 4, 6, 4, 6, 7],\n",
       " [3, 4, 6, 3, 6, 7, 4, 6, 7, 9, 7, 9, 7, 0, 3, 4, 6, 7, 9, 7],\n",
       " [5, 0, 3, 7, 4, 4, 6, 7, 7, 9, 4, 4, 6, 7, 6, 7, 7, 7, 9, 7],\n",
       " [4, 6, 7, 9, 4, 6, 7, 9, 3, 4, 4, 6, 7, 9, 7, 9, 7, 9, 4, 6],\n",
       " [0, 3, 4, 6, 7, 9, 3, 3, 4, 4, 6, 7, 0, 3, 4, 6, 7, 9, 3, 4],\n",
       " [7, 9, 7, 9, 7, 9, 4, 6, 7, 9, 7, 7, 9, 3, 4, 6, 7, 9, 4, 6],\n",
       " [0, 3, 4, 4, 6, 6, 7, 9, 4, 6, 7, 9, 7, 9, 4, 6, 7, 3, 4, 6],\n",
       " [4, 6, 7, 9, 3, 4, 6, 7, 9, 4, 6, 7, 7, 7, 0, 3, 4, 6, 7, 0],\n",
       " [1, 0, 3, 4, 6, 7, 0, 4, 6, 7, 9, 4, 6, 4, 4, 6, 7, 0, 4, 6],\n",
       " [8, 0, 3, 4, 6, 7, 9, 3, 4, 4, 6, 7, 9, 7, 9, 4, 6, 7, 9, 3],\n",
       " [3, 4, 6, 7, 9, 7, 9, 3, 4, 6, 7, 7, 9, 7, 9, 7, 9, 4, 6, 7],\n",
       " [9, 3, 4, 6, 7, 7, 6, 7, 4, 4, 6, 4, 6, 7, 9, 7, 9, 7, 4, 6],\n",
       " [2, 0, 3, 4, 6, 7, 7, 9, 3, 4, 6, 3, 4, 3, 4, 7, 3, 4, 6, 7],\n",
       " [5, 0, 3, 4, 6, 7, 9, 3, 4, 6, 7, 9, 3, 4, 6, 7, 0, 4, 6, 7],\n",
       " [6, 4, 6, 7, 9, 7, 9, 4, 6, 4, 6, 7, 9, 7, 9, 4, 6, 7, 9, 4],\n",
       " [1, 0, 3, 4, 6, 7, 9, 3, 4, 7, 0, 3, 4, 6, 7, 9, 4, 6, 7, 9],\n",
       " [0, 3, 3, 4, 6, 7, 9, 4, 6, 7, 9, 4, 6, 7, 4, 6, 7, 6, 9, 3],\n",
       " [6, 7, 9, 7, 9, 4, 4, 6, 7, 7, 9, 3, 4, 6, 7, 7, 7, 9, 3, 4],\n",
       " [5, 0, 3, 4, 6, 7, 0, 4, 7, 9, 3, 4, 4, 6, 7, 3, 7, 9, 4, 6],\n",
       " [3, 4, 6, 7, 9, 7, 9, 7, 9, 3, 4, 6, 0, 3, 7, 9, 7, 9, 4, 6],\n",
       " [4, 4, 6, 7, 0, 3, 4, 6, 7, 9, 4, 6, 7, 9, 7, 9, 3, 4, 6, 7],\n",
       " [9, 4, 6, 7, 9, 7, 6, 7, 0, 3, 4, 6, 7, 0, 3, 4, 4, 4, 6, 7],\n",
       " [2, 0, 3, 4, 6, 7, 7, 3, 4, 4, 6, 3, 6, 7, 0, 9, 4, 6, 7, 7],\n",
       " [7, 9, 7, 9, 7, 7, 9, 4, 6, 7, 9, 4, 6, 7, 9, 3, 4, 4, 4, 6],\n",
       " [8, 0, 3, 4, 6, 7, 9, 3, 4, 6, 7, 9, 4, 6, 7, 7, 9, 7, 9, 4],\n",
       " [4, 6, 7, 9, 3, 4, 6, 7, 4, 6, 7, 9, 4, 6, 7, 9, 7, 9, 7, 9],\n",
       " [3, 4, 6, 7, 7, 9, 4, 6, 7, 7, 0, 3, 4, 6, 3, 4, 6, 7, 7, 3],\n",
       " [9, 4, 4, 6, 4, 6, 7, 9, 4, 6, 7, 9, 7, 9, 7, 9, 4, 6, 7, 9],\n",
       " [6, 7, 9, 7, 9, 7, 9, 7, 7, 7, 7, 6, 3, 4, 6, 7, 0, 4, 6, 3],\n",
       " [5, 0, 3, 4, 6, 7, 7, 9, 7, 9, 4, 4, 6, 7, 9, 3, 4, 6, 4, 6],\n",
       " [1, 0, 3, 4, 6, 7, 7, 9, 7, 4, 6, 7, 0, 3, 4, 4, 6, 9, 7, 9],\n",
       " [7, 9, 3, 4, 4, 6, 7, 9, 7, 9, 4, 4, 6, 4, 6, 7, 9, 4, 7, 9],\n",
       " [2, 0, 3, 4, 6, 0, 3, 4, 4, 6, 7, 9, 3, 4, 6, 7, 7, 9, 7, 0],\n",
       " [8, 0, 3, 4, 7, 4, 3, 4, 4, 4, 6, 3, 4, 6, 3, 4, 6, 4, 6, 4],\n",
       " [0, 3, 3, 4, 6, 4, 6, 7, 9, 7, 4, 6, 9, 3, 4, 6, 7, 9, 3, 4],\n",
       " [9, 3, 4, 6, 7, 9, 7, 0, 3, 4, 7, 9, 4, 6, 7, 9, 4, 6, 7, 7],\n",
       " [6, 7, 9, 4, 6, 7, 9, 7, 4, 6, 7, 9, 3, 4, 6, 3, 9, 3, 4, 6],\n",
       " [7, 9, 7, 9, 4, 6, 7, 3, 4, 6, 4, 6, 7, 9, 7, 9, 4, 6, 7, 9],\n",
       " [3, 4, 6, 4, 6, 6, 7, 9, 3, 4, 6, 7, 9, 4, 6, 7, 9, 7, 0, 3],\n",
       " [0, 3, 4, 6, 7, 9, 4, 3, 4, 3, 4, 6, 7, 9, 7, 9, 3, 4, 6, 7],\n",
       " [1, 0, 3, 4, 6, 7, 9, 4, 6, 3, 4, 6, 4, 6, 7, 7, 7, 9, 3, 4],\n",
       " [2, 0, 3, 4, 4, 4, 6, 3, 4, 4, 6, 4, 6, 7, 9, 4, 6, 3, 4, 6],\n",
       " [4, 6, 7, 9, 3, 4, 6, 7, 9, 4, 6, 7, 9, 3, 4, 6, 7, 9, 3, 4],\n",
       " [8, 0, 3, 4, 6, 7, 9, 4, 4, 6, 7, 9, 4, 6, 7, 4, 4, 7, 9, 3],\n",
       " [5, 0, 3, 4, 6, 7, 9, 4, 6, 7, 9, 4, 6, 7, 9, 4, 6, 7, 9, 7],\n",
       " [9, 4, 6, 7, 9, 4, 6, 7, 7, 9, 7, 4, 6, 7, 9, 3, 4, 6, 7, 7],\n",
       " [5, 0, 4, 7, 9, 4, 7, 9, 4, 6, 7, 9, 4, 6, 3, 4, 6, 4, 6, 7],\n",
       " [0, 7, 0, 9, 7, 9, 3, 4, 6, 4, 6, 7, 0, 0, 3, 4, 6, 7, 9, 4],\n",
       " [6, 7, 9, 7, 9, 4, 4, 4, 6, 4, 6, 7, 9, 4, 4, 6, 7, 9, 4, 6],\n",
       " [4, 6, 7, 9, 7, 9, 7, 9, 3, 4, 6, 7, 9, 4, 6, 0, 3, 4, 6, 4],\n",
       " [3, 3, 4, 6, 7, 9, 7, 7, 0, 3, 4, 4, 6, 7, 9, 7, 9, 7, 9, 3],\n",
       " [8, 0, 3, 4, 6, 4, 6, 7, 9, 3, 4, 4, 6, 7, 0, 3, 4, 4, 6, 7],\n",
       " [1, 0, 3, 7, 9, 4, 6, 7, 9, 4, 6, 7, 7, 9, 3, 7, 3, 3, 4, 3],\n",
       " [7, 9, 7, 9, 4, 6, 4, 6, 7, 9, 7, 9, 7, 9, 4, 6, 7, 0, 4, 6],\n",
       " [2, 0, 9, 4, 6, 4, 6, 7, 9, 4, 6, 4, 6, 7, 9, 7, 9, 7, 9, 4],\n",
       " [2, 0, 4, 6, 7, 9, 4, 7, 4, 6, 7, 9, 7, 0, 4, 6, 7, 7, 9, 3],\n",
       " [5, 0, 3, 4, 6, 7, 0, 3, 4, 6, 7, 9, 7, 7, 9, 4, 6, 7, 9, 4],\n",
       " [8, 0, 4, 6, 3, 4, 7, 9, 3, 4, 7, 7, 0, 4, 3, 4, 4, 7, 7, 9],\n",
       " [4, 6, 7, 7, 9, 3, 4, 6, 3, 4, 6, 7, 6, 7, 9, 4, 4, 6, 7, 7],\n",
       " [1, 0, 3, 4, 6, 7, 7, 0, 3, 4, 6, 7, 9, 4, 4, 6, 7, 9, 4, 6],\n",
       " [0, 4, 6, 7, 9, 4, 6, 7, 9, 7, 9, 3, 4, 6, 7, 0, 3, 7, 9, 4],\n",
       " [7, 9, 7, 9, 3, 4, 6, 7, 9, 4, 6, 7, 9, 7, 9, 4, 7, 4, 6, 4],\n",
       " [6, 7, 9, 4, 6, 7, 9, 4, 3, 4, 6, 7, 7, 7, 9, 7, 0, 3, 4, 6],\n",
       " [9, 3, 4, 6, 7, 9, 4, 6, 7, 9, 3, 4, 7, 9, 7, 9, 7, 9, 4, 6],\n",
       " [3, 4, 6, 7, 9, 7, 9, 4, 9, 4, 6, 7, 9, 3, 4, 6, 7, 9, 4, 6],\n",
       " [4, 6, 4, 4, 6, 7, 9, 4, 6, 7, 9, 4, 6, 7, 0, 4, 4, 6, 7, 9],\n",
       " [2, 0, 3, 7, 7, 9, 4, 6, 7, 9, 4, 9, 3, 4, 6, 7, 9, 3, 4, 6],\n",
       " [3, 4, 6, 7, 7, 4, 7, 9, 4, 6, 7, 0, 4, 6, 6, 7, 9, 7, 0, 3],\n",
       " [7, 9, 4, 4, 6, 9, 4, 6, 7, 9, 4, 6, 4, 4, 6, 7, 9, 4, 7, 0],\n",
       " [8, 0, 3, 4, 6, 7, 9, 3, 4, 6, 4, 6, 7, 4, 6, 7, 9, 4, 6, 7],\n",
       " [0, 4, 6, 7, 7, 9, 7, 9, 7, 9, 3, 4, 6, 7, 9, 3, 4, 6, 7, 9],\n",
       " [5, 0, 3, 4, 6, 7, 9, 4, 6, 7, 9, 3, 4, 6, 7, 4, 6, 4, 6, 4],\n",
       " [6, 6, 7, 9, 4, 6, 7, 9, 3, 4, 6, 7, 9, 3, 9, 4, 3, 4, 6, 7],\n",
       " [9, 4, 7, 3, 7, 0, 3, 4, 6, 7, 0, 3, 3, 4, 6, 4, 6, 7, 9, 4],\n",
       " [1, 0, 4, 6, 7, 9, 3, 6, 7, 0, 0, 9, 7, 9, 7, 9, 7, 9, 3, 4],\n",
       " [0, 3, 4, 6, 3, 4, 6, 7, 9, 4, 6, 7, 7, 7, 9, 4, 4, 7, 9, 7],\n",
       " [2, 0, 3, 4, 6, 7, 9, 4, 6, 7, 9, 4, 3, 4, 6, 7, 9, 4, 6, 7],\n",
       " [3, 6, 7, 9, 4, 6, 7, 9, 4, 4, 6, 7, 9, 3, 7, 9, 3, 4, 6, 7],\n",
       " [6, 7, 0, 3, 3, 4, 4, 7, 0, 6, 7, 9, 7, 9, 7, 9, 3, 4, 6, 7],\n",
       " [8, 0, 4, 6, 7, 9, 7, 9, 7, 9, 4, 6, 7, 9, 7, 9, 4, 6, 7, 9],\n",
       " [9, 3, 4, 6, 7, 0, 3, 4, 3, 4, 6, 7, 9, 3, 4, 6, 7, 9, 3, 4],\n",
       " [4, 4, 6, 4, 6, 7, 9, 7, 9, 7, 9, 4, 6, 7, 9, 7, 9, 7, 9, 4],\n",
       " [7, 4, 6, 7, 9, 4, 6, 7, 9, 4, 9, 4, 6, 3, 4, 7, 4, 6, 6, 7],\n",
       " [5, 0, 3, 4, 6, 7, 0, 3, 4, 3, 3, 4, 6, 4, 6, 7, 9, 4, 6, 7],\n",
       " [1, 0, 3, 4, 6, 7, 9, 7, 9, 4, 6, 7, 9, 3, 4, 6, 7, 9, 7, 9],\n",
       " [0, 3, 4, 6, 7, 0, 3, 4, 6, 7, 9, 3, 4, 6, 7, 9, 4, 6, 7, 9],\n",
       " [8, 0, 4, 4, 4, 6, 7, 9, 3, 4, 6, 7, 0, 3, 4, 4, 6, 7, 9, 4],\n",
       " [7, 9, 4, 6, 7, 3, 9, 4, 6, 7, 0, 7, 0, 3, 4, 6, 7, 9, 3, 4],\n",
       " [1, 0, 3, 4, 4, 6, 4, 6, 7, 6, 7, 9, 3, 3, 4, 6, 7, 9, 4, 6],\n",
       " [4, 6, 7, 7, 7, 9, 4, 6, 7, 9, 4, 6, 3, 4, 6, 7, 4, 6, 7, 9],\n",
       " [2, 0, 3, 4, 6, 7, 9, 7, 0, 3, 7, 9, 4, 9, 4, 6, 7, 0, 3, 4],\n",
       " [6, 7, 9, 4, 6, 7, 9, 7, 4, 7, 9, 3, 4, 6, 7, 9, 7, 9, 3, 7],\n",
       " [5, 0, 3, 4, 4, 6, 7, 0, 3, 4, 6, 7, 9, 7, 9, 4, 6, 7, 9, 4],\n",
       " [9, 7, 9, 3, 3, 4, 6, 3, 4, 6, 7, 9, 4, 6, 7, 9, 3, 4, 6, 7],\n",
       " [3, 4, 6, 7, 0, 4, 6, 7, 3, 4, 6, 7, 0, 3, 4, 4, 6, 4, 6, 7],\n",
       " [8, 0, 6, 7, 0, 3, 4, 4, 6, 7, 0, 3, 4, 6, 7, 0, 9, 4, 4, 7],\n",
       " [1, 0, 3, 4, 6, 7, 9, 7, 9, 7, 9, 4, 6, 7, 9, 3, 4, 6, 4, 6],\n",
       " [3, 4, 7, 9, 4, 6, 0, 3, 4, 6, 7, 0, 9, 7, 0, 3, 4, 6, 7, 7],\n",
       " [5, 0, 6, 7, 0, 3, 4, 6, 7, 9, 4, 6, 3, 4, 6, 7, 9, 7, 9, 7],\n",
       " [2, 0, 3, 4, 4, 4, 6, 7, 9, 4, 6, 7, 7, 7, 9, 7, 9, 4, 6, 7],\n",
       " [9, 4, 6, 7, 9, 3, 6, 7, 7, 9, 4, 6, 3, 4, 6, 7, 9, 7, 9, 7],\n",
       " [7, 9, 7, 9, 4, 6, 7, 0, 3, 9, 3, 4, 6, 7, 9, 3, 4, 6, 7, 4],\n",
       " [4, 6, 7, 9, 7, 9, 7, 9, 4, 6, 7, 7, 9, 4, 6, 7, 7, 9, 4, 7],\n",
       " [0, 3, 4, 6, 7, 9, 3, 4, 6, 7, 9, 7, 9, 3, 4, 4, 4, 6, 7, 9],\n",
       " [6, 7, 4, 6, 7, 9, 4, 6, 7, 9, 3, 4, 6, 7, 9, 4, 6, 7, 9, 4],\n",
       " [8, 0, 4, 6, 7, 9, 4, 3, 3, 4, 6, 7, 9, 4, 6, 9, 4, 6, 7, 9],\n",
       " [7, 9, 7, 9, 7, 9, 4, 6, 7, 0, 3, 4, 6, 7, 0, 3, 4, 3, 4, 6],\n",
       " [9, 4, 6, 7, 9, 4, 4, 6, 7, 9, 7, 7, 9, 7, 9, 4, 4, 6, 7, 9],\n",
       " [6, 7, 7, 9, 7, 9, 7, 9, 4, 4, 6, 7, 9, 4, 6, 7, 9, 4, 4, 6],\n",
       " [3, 4, 6, 7, 9, 3, 4, 6, 7, 9, 4, 6, 7, 9, 3, 3, 4, 6, 7, 0],\n",
       " [5, 0, 3, 7, 9, 4, 6, 7, 9, 3, 4, 6, 7, 9, 4, 6, 7, 9, 4, 6],\n",
       " [1, 0, 4, 6, 9, 7, 0, 3, 4, 6, 7, 7, 9, 3, 4, 3, 4, 9, 3, 4],\n",
       " [4, 6, 7, 4, 6, 7, 7, 9, 4, 6, 7, 9, 3, 4, 6, 7, 6, 7, 0, 7],\n",
       " [2, 0, 3, 4, 6, 7, 9, 7, 9, 7, 9, 7, 9, 4, 6, 7, 9, 4, 6, 7],\n",
       " [0, 4, 6, 7, 0, 3, 3, 4, 6, 7, 0, 3, 3, 4, 6, 7, 0, 4, 6, 7],\n",
       " [0, 3, 3, 4, 6, 7, 0, 3, 4, 6, 7, 9, 7, 9, 7, 9, 7, 9, 3, 4],\n",
       " [5, 0, 6, 7, 9, 7, 9, 4, 6, 7, 9, 4, 7, 9, 7, 9, 4, 6, 7, 7],\n",
       " [3, 4, 6, 7, 9, 7, 9, 4, 6, 7, 9, 4, 4, 6, 7, 6, 7, 4, 6, 7],\n",
       " [4, 6, 7, 7, 9, 4, 6, 7, 9, 3, 4, 0, 3, 4, 6, 7, 9, 3, 4, 6],\n",
       " [1, 0, 3, 4, 6, 7, 9, 4, 4, 6, 7, 7, 9, 7, 9, 4, 6, 7, 9, 4],\n",
       " [7, 0, 4, 6, 7, 9, 3, 4, 6, 7, 9, 3, 4, 6, 3, 4, 4, 6, 7, 9],\n",
       " [6, 7, 9, 3, 4, 6, 7, 9, 4, 6, 7, 6, 3, 4, 3, 4, 4, 7, 9, 4],\n",
       " [2, 0, 3, 4, 6, 7, 9, 4, 6, 3, 7, 9, 7, 9, 3, 7, 9, 7, 9, 7],\n",
       " [9, 4, 6, 7, 9, 4, 6, 7, 9, 7, 9, 7, 9, 7, 9, 7, 9, 7, 9, 4],\n",
       " [8, 0, 3, 3, 4, 6, 7, 9, 7, 9, 4, 6, 7, 9, 4, 6, 7, 9, 4, 4],\n",
       " [4, 4, 6, 7, 9, 7, 9, 7, 9, 4, 6, 7, 7, 9, 7, 7, 4, 6, 7, 9],\n",
       " [5, 0, 3, 4, 6, 7, 9, 7, 9, 4, 4, 6, 6, 7, 0, 3, 4, 6, 7, 4],\n",
       " [0, 3, 4, 6, 7, 0, 4, 6, 7, 9, 3, 4, 6, 7, 4, 6, 7, 9, 4, 9],\n",
       " [2, 0, 3, 4, 7, 9, 4, 6, 7, 7, 0, 7, 9, 4, 6, 7, 9, 3, 4, 7],\n",
       " [1, 0, 7, 9, 4, 6, 7, 0, 3, 4, 6, 3, 4, 4, 6, 7, 9, 7, 0, 3],\n",
       " [9, 4, 6, 4, 6, 7, 9, 4, 6, 7, 9, 7, 9, 4, 6, 7, 9, 4, 4, 7],\n",
       " [6, 7, 7, 9, 7, 9, 4, 6, 6, 7, 9, 3, 4, 6, 6, 7, 9, 7, 7, 7],\n",
       " [8, 0, 3, 4, 6, 7, 9, 4, 6, 7, 7, 9, 7, 9, 4, 6, 7, 9, 4, 4],\n",
       " [7, 0, 3, 4, 6, 7, 0, 3, 3, 3, 4, 4, 6, 7, 6, 9, 7, 9, 4, 6],\n",
       " [3, 4, 6, 7, 4, 6, 7, 9, 4, 6, 7, 9, 7, 9, 4, 6, 7, 0, 3, 4],\n",
       " [2, 0, 0, 4, 6, 7, 9, 3, 4, 6, 7, 7, 7, 9, 4, 6, 3, 4, 6, 7],\n",
       " [1, 0, 4, 6, 7, 9, 4, 6, 7, 9, 4, 6, 3, 4, 4, 4, 6, 7, 7, 7],\n",
       " [4, 6, 7, 4, 4, 6, 7, 9, 3, 4, 6, 7, 9, 4, 6, 7, 9, 3, 4, 6],\n",
       " [8, 0, 3, 4, 6, 7, 9, 7, 9, 7, 7, 0, 6, 7, 9, 4, 6, 7, 9, 4],\n",
       " [0, 3, 4, 6, 7, 7, 9, 3, 4, 6, 7, 9, 3, 3, 4, 3, 4, 6, 7, 9],\n",
       " [7, 9, 4, 6, 6, 7, 9, 3, 4, 4, 6, 7, 9, 4, 4, 6, 7, 9, 3, 3],\n",
       " [6, 7, 9, 7, 9, 4, 7, 4, 6, 7, 0, 3, 4, 6, 7, 0, 4, 6, 3, 6],\n",
       " [5, 0, 3, 4, 4, 6, 7, 9, 7, 9, 3, 9, 4, 6, 7, 9, 7, 9, 4, 6],\n",
       " [3, 4, 6, 7, 9, 4, 6, 4, 6, 7, 9, 4, 6, 7, 9, 7, 9, 3, 4, 6],\n",
       " [9, 4, 6, 7, 0, 4, 6, 7, 0, 3, 4, 6, 4, 6, 7, 9, 4, 6, 7, 7],\n",
       " [9, 4, 6, 7, 9, 4, 6, 7, 9, 7, 7, 9, 7, 9, 4, 6, 7, 9, 4, 6],\n",
       " [5, 0, 3, 3, 4, 6, 4, 6, 7, 9, 4, 6, 7, 9, 3, 4, 6, 7, 9, 4],\n",
       " [2, 0, 4, 6, 7, 6, 7, 9, 7, 9, 3, 4, 6, 7, 7, 0, 7, 9, 7, 9],\n",
       " [1, 0, 3, 4, 6, 7, 9, 4, 4, 4, 4, 6, 7, 9, 7, 9, 3, 4, 6, 7],\n",
       " [4, 3, 4, 6, 7, 3, 4, 6, 7, 0, 7, 9, 7, 9, 4, 4, 6, 7, 7, 9],\n",
       " [3, 4, 6, 7, 9, 4, 6, 7, 9, 3, 4, 6, 7, 0, 4, 6, 7, 9, 4, 6],\n",
       " [6, 7, 9, 7, 9, 7, 9, 4, 6, 7, 9, 4, 3, 4, 6, 3, 4, 6, 7, 9],\n",
       " [8, 0, 3, 4, 7, 9, 3, 4, 6, 7, 9, 7, 9, 4, 3, 4, 6, 7, 9, 4],\n",
       " [7, 9, 7, 9, 4, 6, 3, 4, 6, 7, 9, 4, 6, 7, 7, 9, 7, 9, 7, 9],\n",
       " [0, 3, 6, 7, 9, 3, 3, 4, 6, 7, 0, 6, 7, 9, 4, 6, 7, 9, 4, 6],\n",
       " [9, 4, 6, 7, 9, 4, 6, 4, 6, 7, 9, 7, 9, 4, 6, 7, 9, 4, 6, 7],\n",
       " [0, 6, 7, 0, 3, 3, 4, 6, 7, 9, 7, 9, 7, 9, 4, 6, 7, 9, 4, 6],\n",
       " [2, 0, 4, 4, 4, 6, 7, 9, 7, 9, 7, 9, 4, 6, 7, 7, 9, 3, 4, 6],\n",
       " [6, 7, 7, 9, 4, 6, 7, 9, 7, 9, 7, 9, 7, 9, 7, 9, 7, 9, 7, 4],\n",
       " [5, 0, 3, 4, 6, 7, 9, 4, 6, 7, 9, 4, 6, 7, 9, 7, 9, 3, 4, 3],\n",
       " [4, 6, 7, 9, 4, 6, 7, 9, 3, 4, 4, 9, 4, 6, 7, 9, 3, 4, 6, 3],\n",
       " [8, 0, 3, 3, 4, 6, 7, 9, 3, 4, 6, 7, 9, 3, 4, 6, 7, 9, 4, 6],\n",
       " [7, 7, 9, 4, 4, 4, 4, 6, 7, 4, 6, 7, 4, 4, 6, 7, 9, 7, 4, 6],\n",
       " [1, 0, 3, 3, 6, 7, 9, 3, 3, 4, 6, 7, 9, 7, 9, 4, 4, 6, 7, 9],\n",
       " [3, 4, 6, 7, 9, 7, 9, 7, 9, 4, 6, 7, 9, 4, 6, 9, 7, 9, 3, 4],\n",
       " [5, 0, 0, 3, 4, 4, 4, 4, 4, 6, 7, 9, 4, 4, 6, 7, 4, 6, 7, 9],\n",
       " [1, 0, 0, 3, 4, 6, 7, 9, 4, 6, 7, 7, 9, 4, 6, 7, 9, 4, 6, 7],\n",
       " [7, 9, 4, 6, 4, 6, 7, 9, 4, 6, 7, 7, 0, 7, 0, 0, 3, 4, 6, 7],\n",
       " [6, 7, 9, 3, 4, 6, 9, 4, 6, 7, 4, 6, 7, 6, 7, 9, 4, 6, 7, 9],\n",
       " [3, 4, 4, 6, 7, 4, 6, 7, 9, 4, 6, 7, 9, 3, 4, 6, 7, 9, 4, 6],\n",
       " [4, 4, 4, 4, 4, 6, 7, 9, 4, 4, 4, 6, 7, 9, 4, 6, 0, 3, 3, 4],\n",
       " [2, 0, 3, 4, 6, 7, 9, 4, 4, 7, 9, 4, 6, 7, 9, 4, 4, 6, 7, 9],\n",
       " [9, 4, 6, 7, 9, 4, 4, 6, 0, 3, 4, 6, 7, 7, 9, 3, 9, 4, 6, 4],\n",
       " [0, 3, 7, 9, 4, 6, 3, 4, 6, 7, 9, 7, 7, 4, 6, 3, 4, 6, 7, 9],\n",
       " [8, 0, 3, 4, 6, 7, 7, 9, 4, 6, 3, 4, 6, 7, 9, 4, 6, 7, 9, 7],\n",
       " [5, 0, 3, 4, 6, 7, 9, 7, 9, 3, 4, 6, 7, 9, 7, 9, 4, 6, 7, 9],\n",
       " [9, 3, 3, 3, 4, 6, 7, 9, 7, 9, 7, 9, 4, 6, 7, 9, 4, 6, 7, 9],\n",
       " [0, 3, 4, 6, 7, 9, 7, 4, 6, 7, 9, 4, 6, 7, 9, 4, 6, 0, 3, 0],\n",
       " [3, 4, 6, 7, 9, 4, 6, 7, 9, 3, 4, 4, 6, 7, 9, 7, 9, 4, 6, 7],\n",
       " [1, 0, 3, 4, 6, 7, 9, 7, 9, 7, 9, 3, 4, 6, 7, 9, 7, 9, 3, 4],\n",
       " [6, 7, 4, 6, 7, 7, 9, 4, 6, 7, 9, 4, 6, 9, 7, 9, 3, 4, 6, 7],\n",
       " [8, 0, 3, 4, 6, 7, 9, 7, 9, 7, 9, 3, 4, 6, 7, 9, 7, 9, 7, 9],\n",
       " [2, 0, 3, 4, 6, 4, 6, 7, 7, 9, 3, 4, 4, 6, 7, 9, 4, 6, 7, 0],\n",
       " [7, 4, 6, 9, 4, 6, 7, 7, 9, 3, 3, 6, 7, 0, 7, 9, 3, 4, 6, 7],\n",
       " [4, 6, 7, 0, 3, 4, 6, 7, 9, 4, 4, 6, 6, 7, 9, 4, 6, 7, 3, 3],\n",
       " [2, 0, 4, 3, 4, 7, 0, 3, 4, 6, 9, 4, 6, 7, 9, 4, 6, 7, 0, 4],\n",
       " [4, 6, 7, 9, 3, 4, 7, 9, 7, 3, 4, 6, 7, 7, 7, 0, 4, 6, 7, 9],\n",
       " [6, 7, 0, 4, 6, 7, 9, 7, 9, 7, 9, 3, 4, 6, 7, 9, 3, 4, 6, 7],\n",
       " [5, 0, 3, 4, 6, 3, 4, 6, 7, 9, 4, 6, 7, 9, 4, 6, 4, 6, 7, 9],\n",
       " [9, 4, 6, 7, 9, 4, 6, 7, 9, 4, 6, 7, 7, 9, 4, 4, 4, 6, 7, 9],\n",
       " [7, 9, 4, 6, 7, 9, 7, 7, 0, 3, 4, 4, 6, 7, 9, 3, 4, 6, 7, 9],\n",
       " [1, 0, 3, 4, 6, 7, 0, 3, 4, 4, 6, 7, 9, 7, 9, 4, 7, 9, 3, 4],\n",
       " [0, 3, 4, 6, 7, 0, 3, 4, 6, 7, 9, 4, 6, 7, 4, 9, 4, 6, 4, 6],\n",
       " [3, 4, 6, 7, 7, 9, 7, 7, 0, 7, 0, 3, 4, 3, 4, 7, 7, 9, 4, 6],\n",
       " [8, 0, 4, 6, 7, 0, 4, 6, 9, 4, 6, 7, 9, 4, 6, 7, 9, 4, 6, 7],\n",
       " [6, 7, 9, 4, 6, 7, 9, 7, 9, 4, 6, 4, 6, 4, 6, 7, 7, 9, 3, 4],\n",
       " [4, 6, 7, 0, 3, 4, 6, 7, 4, 7, 7, 7, 9, 4, 6, 7, 9, 3, 6, 6],\n",
       " [1, 0, 3, 4, 3, 4, 6, 7, 0, 3, 4, 6, 7, 0, 9, 7, 0, 4, 4, 6],\n",
       " [7, 9, 7, 9, 4, 6, 7, 9, 3, 4, 4, 4, 6, 7, 9, 4, 6, 7, 7, 7],\n",
       " [3, 4, 6, 7, 9, 7, 9, 4, 6, 7, 9, 4, 6, 7, 9, 4, 6, 7, 9, 4],\n",
       " [8, 0, 3, 4, 4, 6, 7, 9, 4, 6, 7, 9, 3, 4, 3, 4, 6, 7, 7, 9],\n",
       " [2, 0, 4, 4, 4, 6, 3, 3, 4, 4, 6, 7, 4, 7, 9, 7, 9, 4, 6, 7],\n",
       " [0, 3, 4, 6, 7, 9, 4, 6, 7, 9, 4, 6, 7, 9, 3, 9, 3, 4, 6, 7],\n",
       " [5, 0, 3, 4, 6, 7, 7, 9, 3, 4, 6, 7, 9, 4, 6, 7, 9, 7, 7, 4],\n",
       " [9, 4, 4, 6, 7, 9, 7, 7, 9, 4, 7, 9, 7, 9, 4, 6, 7, 9, 3, 3],\n",
       " [2, 0, 4, 6, 4, 4, 6, 7, 0, 3, 4, 4, 4, 6, 7, 9, 7, 9, 7, 9],\n",
       " [9, 4, 6, 7, 9, 7, 7, 7, 7, 9, 7, 9, 7, 9, 3, 6, 7, 9, 4, 6],\n",
       " [5, 0, 3, 4, 6, 7, 9, 3, 4, 6, 7, 9, 4, 6, 9, 4, 6, 3, 4, 6],\n",
       " [6, 7, 9, 4, 4, 6, 7, 9, 4, 4, 6, 7, 9, 7, 9, 4, 6, 7, 7, 7],\n",
       " [3, 4, 6, 7, 9, 4, 3, 4, 6, 7, 9, 4, 6, 7, 9, 7, 9, 7, 9, 7],\n",
       " [8, 0, 7, 9, 7, 0, 4, 0, 3, 4, 6, 7, 0, 3, 4, 6, 7, 9, 3, 4],\n",
       " [4, 6, 7, 9, 3, 4, 4, 6, 6, 7, 9, 7, 9, 7, 9, 7, 9, 7, 9, 7],\n",
       " [7, 9, 3, 4, 7, 9, 4, 4, 6, 6, 7, 9, 7, 9, 4, 6, 7, 9, 7, 9],\n",
       " [0, 3, 4, 6, 7, 3, 4, 6, 7, 9, 4, 6, 7, 9, 7, 9, 4, 6, 7, 0],\n",
       " [1, 0, 3, 4, 6, 7, 0, 3, 4, 7, 9, 4, 6, 4, 6, 7, 9, 3, 7, 9],\n",
       " [7, 7, 9, 4, 6, 7, 4, 6, 7, 0, 3, 4, 4, 6, 7, 9, 3, 4, 7, 9],\n",
       " [8, 0, 4, 6, 7, 9, 7, 9, 4, 6, 0, 3, 4, 9, 3, 4, 6, 7, 9, 4],\n",
       " [2, 0, 3, 4, 6, 7, 4, 4, 6, 7, 9, 3, 3, 4, 4, 6, 7, 9, 4, 6],\n",
       " [6, 7, 7, 7, 9, 7, 9, 4, 6, 7, 9, 4, 6, 7, 7, 9, 3, 4, 6, 7],\n",
       " [1, 0, 3, 4, 6, 7, 9, 3, 4, 6, 7, 0, 3, 7, 0, 3, 4, 3, 4, 6],\n",
       " [5, 0, 3, 4, 6, 7, 9, 7, 9, 7, 7, 7, 9, 4, 6, 7, 9, 4, 0, 3],\n",
       " [9, 4, 6, 4, 6, 7, 9, 3, 4, 4, 6, 7, 9, 7, 9, 7, 7, 0, 3, 4],\n",
       " [4, 6, 7, 9, 4, 6, 7, 9, 4, 6, 7, 9, 3, 4, 7, 0, 3, 4, 6, 7],\n",
       " [3, 4, 6, 7, 9, 3, 4, 6, 7, 9, 4, 6, 7, 9, 4, 6, 7, 6, 7, 9],\n",
       " [0, 3, 4, 4, 6, 7, 4, 6, 4, 6, 3, 4, 6, 7, 0, 3, 4, 6, 7, 9],\n",
       " [9, 4, 6, 7, 9, 7, 9, 7, 9, 7, 9, 7, 9, 4, 6, 7, 9, 4, 7, 9],\n",
       " [7, 9, 3, 4, 6, 7, 9, 7, 9, 7, 0, 3, 4, 6, 7, 9, 4, 6, 7, 9],\n",
       " [3, 4, 6, 3, 3, 4, 6, 7, 0, 3, 4, 6, 7, 0, 3, 4, 6, 7, 9, 4],\n",
       " [6, 7, 6, 7, 9, 4, 6, 7, 0, 3, 4, 6, 4, 6, 7, 3, 4, 6, 6, 7],\n",
       " [4, 6, 7, 9, 3, 4, 6, 7, 9, 7, 9, 4, 6, 7, 9, 7, 9, 4, 6, 6],\n",
       " [0, 4, 7, 9, 4, 6, 7, 9, 7, 9, 7, 9, 7, 0, 3, 6, 3, 4, 4, 4],\n",
       " [2, 0, 3, 4, 4, 6, 7, 7, 0, 3, 4, 6, 7, 9, 7, 9, 4, 6, 7, 9],\n",
       " [8, 0, 4, 6, 7, 9, 7, 9, 7, 7, 9, 7, 9, 4, 4, 6, 4, 6, 7, 9],\n",
       " [5, 0, 3, 7, 7, 7, 9, 3, 4, 6, 7, 9, 3, 4, 6, 7, 9, 3, 4, 6],\n",
       " [1, 0, 3, 4, 6, 7, 9, 7, 9, 4, 6, 7, 9, 4, 6, 3, 4, 6, 7, 9],\n",
       " [1, 0, 3, 4, 6, 7, 9, 4, 7, 9, 3, 4, 6, 7, 9, 7, 9, 4, 6, 4],\n",
       " [9, 4, 6, 7, 0, 3, 4, 6, 7, 9, 4, 6, 7, 4, 7, 9, 7, 9, 7, 9],\n",
       " [5, 0, 0, 4, 6, 7, 9, 4, 6, 7, 7, 9, 4, 6, 7, 9, 7, 9, 7, 9],\n",
       " [0, 4, 6, 7, 7, 9, 3, 4, 6, 7, 0, 3, 4, 6, 7, 0, 3, 4, 6, 7],\n",
       " [8, 0, 3, 4, 4, 7, 0, 0, 3, 4, 6, 7, 9, 4, 6, 7, 9, 7, 9, 3],\n",
       " [6, 3, 4, 6, 7, 3, 6, 7, 9, 3, 4, 6, 7, 6, 7, 9, 4, 4, 6, 4],\n",
       " [3, 3, 4, 6, 7, 9, 7, 9, 7, 9, 4, 6, 7, 9, 3, 4, 6, 7, 9, 7],\n",
       " [4, 6, 7, 0, 3, 4, 4, 4, 6, 7, 4, 6, 7, 7, 7, 9, 4, 7, 9, 4],\n",
       " [7, 9, 7, 0, 3, 4, 6, 7, 9, 4, 6, 7, 9, 4, 6, 7, 0, 3, 4, 7],\n",
       " [2, 0, 3, 4, 6, 7, 9, 4, 4, 4, 6, 7, 9, 7, 7, 9, 7, 9, 7, 7],\n",
       " [0, 3, 4, 6, 4, 6, 7, 9, 4, 6, 7, 9, 7, 9, 4, 6, 7, 9, 7, 9],\n",
       " [2, 0, 3, 4, 6, 7, 9, 7, 9, 4, 3, 4, 6, 7, 9, 4, 6, 7, 9, 4],\n",
       " [8, 0, 3, 4, 3, 4, 6, 7, 9, 7, 9, 4, 6, 7, 0, 3, 4, 6, 9, 4],\n",
       " [6, 3, 4, 6, 7, 9, 4, 6, 7, 9, 7, 9, 3, 3, 4, 6, 7, 9, 4, 6],\n",
       " [3, 4, 7, 7, 9, 4, 6, 7, 9, 7, 9, 4, 4, 6, 7, 7, 9, 4, 6, 7],\n",
       " [1, 0, 3, 4, 6, 7, 9, 3, 4, 6, 7, 9, 4, 6, 7, 9, 4, 6, 4, 4],\n",
       " [4, 6, 7, 7, 7, 9, 4, 6, 4, 6, 7, 0, 3, 4, 6, 7, 9, 4, 4, 7],\n",
       " [9, 7, 9, 4, 6, 7, 9, 3, 4, 6, 4, 6, 7, 0, 3, 4, 6, 7, 9, 4],\n",
       " [5, 0, 3, 4, 3, 7, 7, 9, 4, 6, 7, 0, 4, 6, 7, 7, 9, 4, 4, 6],\n",
       " [7, 9, 3, 4, 6, 7, 9, 7, 9, 4, 6, 7, 9, 7, 9, 7, 9, 4, 6, 7],\n",
       " [3, 4, 6, 7, 9, 4, 6, 0, 3, 4, 6, 4, 6, 7, 9, 3, 4, 6, 7, 9],\n",
       " [7, 9, 3, 4, 7, 9, 4, 4, 6, 7, 9, 7, 9, 7, 9, 4, 6, 7, 9, 3],\n",
       " [2, 0, 4, 6, 4, 6, 7, 9, 3, 9, 7, 9, 3, 9, 3, 4, 4, 6, 3, 4],\n",
       " [8, 0, 4, 7, 0, 0, 4, 6, 7, 9, 3, 4, 6, 7, 9, 7, 9, 3, 4, 6],\n",
       " [5, 0, 3, 4, 3, 4, 6, 6, 7, 9, 4, 6, 6, 7, 3, 4, 6, 7, 9, 4],\n",
       " [4, 6, 7, 9, 7, 9, 7, 9, 4, 6, 7, 9, 7, 9, 7, 0, 4, 6, 7, 4],\n",
       " [6, 7, 7, 9, 3, 4, 6, 7, 0, 3, 4, 6, 7, 9, 4, 6, 7, 9, 4, 6],\n",
       " [9, 4, 4, 4, 7, 9, 3, 4, 6, 7, 9, 7, 4, 6, 4, 6, 7, 7, 9, 3],\n",
       " [0, 3, 4, 7, 7, 9, 4, 6, 4, 6, 7, 9, 3, 4, 6, 7, 9, 4, 3, 4],\n",
       " [1, 0, 3, 4, 6, 7, 0, 4, 6, 7, 9, 4, 6, 7, 9, 3, 4, 6, 9, 3],\n",
       " [9, 3, 4, 6, 7, 9, 3, 7, 4, 6, 7, 9, 4, 6, 7, 9, 7, 9, 4, 6],\n",
       " [5, 0, 3, 4, 6, 7, 4, 6, 3, 4, 6, 7, 9, 4, 6, 7, 0, 3, 7, 9],\n",
       " [1, 0, 3, 4, 6, 3, 4, 6, 7, 7, 9, 4, 6, 7, 0, 3, 4, 4, 6, 7],\n",
       " [3, 4, 7, 0, 3, 4, 6, 7, 9, 4, 9, 7, 9, 4, 7, 9, 4, 4, 6, 7],\n",
       " [0, 3, 4, 6, 7, 3, 4, 7, 9, 3, 4, 6, 7, 3, 7, 0, 3, 4, 4, 6],\n",
       " [2, 0, 3, 4, 6, 7, 4, 4, 6, 7, 7, 9, 3, 4, 4, 6, 7, 9, 3, 4],\n",
       " [8, 0, 3, 0, 3, 4, 6, 4, 6, 7, 7, 9, 7, 9, 4, 6, 4, 6, 7, 0],\n",
       " [7, 0, 3, 4, 6, 7, 9, 3, 4, 6, 7, 9, 4, 6, 3, 4, 6, 7, 9, 7],\n",
       " [6, 7, 0, 3, 4, 6, 7, 9, 3, 4, 6, 7, 9, 4, 4, 6, 7, 0, 3, 3],\n",
       " [4, 6, 6, 7, 7, 3, 4, 6, 7, 9, 3, 4, 6, 4, 6, 7, 6, 3, 4, 6],\n",
       " [3, 4, 9, 3, 4, 6, 7, 9, 3, 4, 6, 7, 9, 3, 4, 4, 6, 7, 9, 4],\n",
       " [0, 3, 4, 6, 7, 3, 4, 4, 6, 7, 9, 7, 0, 0, 3, 4, 6, 7, 4, 6],\n",
       " [8, 0, 3, 4, 6, 7, 9, 4, 6, 7, 9, 4, 6, 7, 9, 4, 6, 7, 9, 4],\n",
       " [2, 0, 3, 4, 6, 7, 9, 7, 9, 4, 6, 7, 9, 7, 9, 7, 9, 4, 6, 7],\n",
       " [1, 0, 0, 3, 4, 6, 7, 9, 4, 6, 7, 0, 3, 3, 4, 7, 9, 4, 4, 4],\n",
       " [6, 4, 6, 7, 0, 3, 4, 6, 7, 9, 4, 4, 6, 7, 3, 4, 6, 6, 3, 4],\n",
       " [9, 3, 4, 6, 6, 7, 9, 7, 9, 3, 7, 4, 6, 7, 9, 7, 0, 4, 6, 7],\n",
       " [5, 0, 3, 4, 6, 6, 7, 9, 7, 9, 7, 9, 4, 6, 4, 6, 7, 9, 4, 6],\n",
       " [4, 6, 3, 4, 3, 4, 6, 3, 4, 6, 7, 9, 7, 9, 4, 6, 7, 0, 3, 4],\n",
       " [7, 4, 4, 6, 7, 7, 9, 4, 3, 4, 4, 6, 7, 9, 4, 6, 7, 9, 4, 6],\n",
       " [9, 4, 6, 7, 9, 4, 4, 4, 6, 7, 9, 7, 9, 7, 9, 4, 6, 7, 9, 3],\n",
       " [5, 0, 3, 4, 6, 7, 9, 3, 4, 4, 6, 7, 9, 3, 4, 6, 7, 9, 3, 4],\n",
       " [4, 6, 6, 7, 0, 3, 4, 6, 4, 6, 7, 9, 7, 9, 4, 6, 7, 9, 4, 6],\n",
       " [3, 4, 4, 6, 7, 7, 7, 0, 3, 4, 6, 3, 4, 6, 7, 9, 3, 4, 6, 7],\n",
       " [1, 0, 3, 4, 7, 9, 3, 4, 6, 7, 9, 4, 6, 7, 0, 3, 4, 4, 7, 4],\n",
       " [6, 7, 9, 3, 4, 6, 7, 9, 4, 6, 4, 6, 3, 4, 6, 7, 4, 6, 7, 9],\n",
       " [7, 9, 4, 6, 7, 0, 3, 4, 6, 7, 9, 7, 0, 3, 4, 4, 4, 6, 7, 9],\n",
       " [2, 0, 3, 4, 4, 6, 3, 4, 4, 6, 3, 3, 4, 6, 7, 9, 4, 6, 7, 9],\n",
       " [0, 3, 4, 6, 3, 4, 4, 6, 9, 3, 4, 6, 7, 9, 4, 6, 7, 4, 6, 7],\n",
       " [8, 0, 0, 3, 4, 6, 9, 7, 9, 3, 4, 6, 7, 9, 7, 0, 3, 4, 4, 4],\n",
       " [9, 7, 9, 3, 4, 7, 9, 7, 9, 3, 4, 3, 4, 6, 7, 9, 3, 9, 4, 4],\n",
       " [2, 0, 3, 4, 6, 7, 7, 9, 3, 4, 6, 3, 3, 4, 6, 7, 9, 4, 6, 4],\n",
       " [7, 9, 4, 6, 7, 7, 9, 7, 9, 3, 4, 6, 7, 0, 3, 4, 6, 7, 9, 4],\n",
       " [3, 4, 6, 7, 9, 7, 4, 7, 4, 6, 7, 3, 4, 7, 9, 4, 6, 0, 3, 4],\n",
       " [4, 7, 9, 7, 9, 3, 4, 6, 7, 9, 4, 6, 4, 6, 7, 9, 7, 9, 4, 6],\n",
       " [1, 0, 3, 4, 6, 7, 9, 7, 9, 4, 6, 7, 9, 7, 9, 7, 9, 4, 6, 7],\n",
       " [0, 6, 7, 9, 7, 9, 4, 6, 7, 0, 3, 4, 6, 7, 4, 6, 7, 4, 4, 6],\n",
       " [8, 0, 4, 6, 7, 9, 7, 7, 9, 4, 6, 7, 0, 3, 4, 6, 7, 9, 7, 9],\n",
       " [6, 7, 0, 7, 9, 4, 6, 7, 7, 9, 7, 9, 3, 4, 6, 7, 9, 7, 9, 7],\n",
       " [5, 0, 3, 4, 3, 3, 4, 6, 7, 9, 7, 4, 6, 7, 9, 4, 6, 7, 9, 3],\n",
       " [6, 7, 7, 4, 6, 3, 4, 6, 7, 9, 7, 7, 7, 9, 7, 3, 3, 4, 3, 4],\n",
       " [8, 0, 3, 4, 6, 7, 9, 4, 6, 6, 7, 9, 3, 3, 4, 6, 7, 9, 4, 7],\n",
       " [9, 3, 4, 6, 7, 9, 7, 9, 7, 9, 7, 9, 3, 6, 7, 9, 3, 4, 6, 7],\n",
       " [0, 3, 4, 6, 7, 9, 4, 6, 7, 9, 4, 7, 9, 4, 6, 9, 7, 9, 7, 7],\n",
       " [7, 9, 4, 6, 9, 7, 9, 7, 9, 4, 6, 7, 9, 3, 4, 6, 7, 0, 0, 4],\n",
       " [1, 0, 3, 4, 6, 4, 6, 7, 9, 7, 9, 4, 6, 7, 9, 4, 6, 7, 7, 4],\n",
       " [4, 6, 7, 0, 4, 6, 7, 9, 3, 4, 7, 9, 7, 9, 4, 6, 7, 9, 4, 9],\n",
       " [5, 0, 9, 4, 6, 7, 9, 3, 4, 6, 7, 9, 4, 6, 0, 3, 3, 4, 6, 7],\n",
       " [2, 0, 3, 4, 7, 0, 4, 6, 7, 9, 3, 4, 9, 4, 6, 7, 7, 9, 4, 4],\n",
       " [3, 4, 6, 7, 9, 7, 9, 4, 6, 7, 9, 7, 9, 7, 9, 4, 6, 7, 9, 3],\n",
       " [3, 4, 6, 7, 9, 3, 4, 7, 9, 3, 4, 6, 0, 3, 4, 6, 7, 9, 4, 6],\n",
       " [6, 3, 4, 7, 9, 4, 6, 4, 6, 7, 7, 9, 7, 9, 3, 4, 7, 9, 4, 6],\n",
       " [9, 7, 0, 3, 4, 6, 7, 9, 4, 6, 7, 4, 6, 7, 9, 7, 9, 4, 6, 7],\n",
       " [2, 0, 3, 4, 6, 4, 7, 0, 3, 4, 6, 7, 0, 3, 4, 7, 9, 4, 7, 9],\n",
       " [1, 0, 3, 0, 3, 4, 6, 3, 4, 6, 7, 9, 4, 6, 7, 9, 4, 6, 7, 9],\n",
       " [8, 0, 0, 3, 4, 6, 7, 7, 9, 4, 6, 4, 6, 7, 7, 9, 3, 4, 7, 4],\n",
       " [7, 9, 4, 6, 7, 9, 7, 9, 3, 4, 6, 7, 0, 3, 4, 6, 7, 6, 7, 9],\n",
       " [0, 3, 4, 6, 7, 9, 7, 9, 7, 9, 4, 3, 4, 6, 4, 6, 7, 9, 4, 6],\n",
       " [5, 0, 3, 4, 6, 7, 9, 4, 6, 3, 4, 6, 7, 0, 3, 4, 4, 6, 7, 9],\n",
       " [4, 6, 3, 4, 6, 3, 4, 6, 7, 9, 4, 7, 0, 3, 4, 4, 6, 7, 9, 7],\n",
       " [3, 4, 6, 7, 7, 9, 7, 4, 6, 7, 9, 4, 6, 7, 9, 7, 9, 4, 6, 7],\n",
       " [6, 3, 7, 9, 4, 6, 7, 9, 7, 9, 4, 6, 4, 6, 7, 9, 7, 9, 3, 7],\n",
       " [4, 6, 4, 6, 7, 9, 7, 9, 3, 4, 6, 7, 9, 7, 4, 3, 4, 6, 7, 9],\n",
       " [2, 0, 3, 4, 6, 7, 9, 3, 4, 6, 7, 9, 7, 9, 4, 4, 6, 7, 7, 9],\n",
       " [7, 4, 6, 7, 0, 0, 3, 4, 7, 0, 3, 4, 6, 7, 0, 3, 4, 6, 7, 9],\n",
       " [1, 0, 4, 4, 7, 9, 7, 9, 7, 9, 7, 9, 7, 9, 7, 9, 4, 4, 6, 7],\n",
       " [0, 6, 7, 9, 4, 6, 7, 7, 7, 6, 7, 3, 4, 6, 7, 9, 3, 4, 6, 7],\n",
       " [8, 0, 4, 6, 7, 9, 7, 9, 4, 6, 7, 9, 7, 9, 3, 4, 6, 7, 9, 7],\n",
       " [9, 7, 9, 4, 6, 7, 9, 4, 6, 7, 9, 3, 4, 6, 7, 9, 4, 6, 7, 0],\n",
       " [5, 0, 3, 4, 6, 7, 9, 4, 6, 7, 9, 7, 9, 7, 9, 7, 9, 4, 6, 6],\n",
       " [3, 4, 6, 9, 3, 4, 6, 7, 9, 7, 9, 4, 6, 7, 9, 4, 7, 0, 9, 4],\n",
       " [2, 0, 3, 4, 6, 7, 0, 3, 4, 6, 7, 7, 7, 9, 4, 6, 7, 9, 4, 6],\n",
       " [5, 0, 3, 4, 6, 7, 0, 3, 3, 4, 6, 7, 4, 7, 9, 4, 6, 7, 9, 7],\n",
       " [1, 0, 4, 6, 7, 9, 4, 9, 4, 6, 3, 4, 4, 4, 6, 7, 0, 3, 4, 6],\n",
       " [6, 9, 4, 6, 7, 9, 7, 9, 4, 6, 9, 4, 6, 7, 9, 7, 9, 4, 6, 7],\n",
       " [9, 4, 6, 7, 9, 3, 4, 4, 6, 9, 4, 6, 7, 3, 7, 9, 7, 9, 3, 4],\n",
       " [4, 6, 7, 9, 3, 4, 6, 3, 4, 6, 7, 3, 4, 6, 7, 9, 7, 0, 7, 0],\n",
       " [8, 0, 3, 4, 6, 4, 6, 7, 9, 3, 4, 6, 7, 9, 3, 3, 4, 6, 7, 9],\n",
       " [0, 4, 6, 7, 9, 7, 9, 7, 9, 7, 9, 3, 4, 6, 7, 4, 6, 7, 9, 7],\n",
       " [7, 9, 4, 6, 7, 9, 3, 4, 6, 7, 0, 3, 4, 3, 4, 6, 7, 9, 4, 4],\n",
       " [1, 0, 3, 7, 7, 9, 4, 6, 7, 9, 7, 0, 4, 6, 9, 3, 4, 6, 7, 7],\n",
       " [8, 0, 3, 4, 6, 7, 0, 4, 4, 6, 7, 0, 3, 4, 6, 4, 6, 3, 4, 6],\n",
       " [7, 4, 6, 7, 9, 4, 6, 7, 9, 7, 9, 7, 9, 7, 0, 3, 4, 6, 7, 0],\n",
       " [6, 7, 3, 4, 4, 6, 7, 0, 3, 4, 6, 3, 4, 3, 4, 6, 7, 9, 4, 4],\n",
       " [3, 4, 6, 7, 9, 4, 6, 7, 9, 3, 4, 7, 4, 6, 4, 6, 7, 9, 7, 0],\n",
       " [4, 6, 6, 9, 7, 9, 7, 0, 3, 4, 6, 7, 9, 7, 7, 9, 7, 0, 3, 4],\n",
       " [5, 0, 3, 4, 4, 6, 7, 7, 9, 7, 9, 3, 4, 6, 7, 9, 4, 6, 7, 9],\n",
       " [2, 0, 3, 4, 6, 7, 9, 3, 4, 7, 9, 4, 6, 7, 9, 3, 4, 6, 7, 9],\n",
       " [0, 0, 0, 7, 0, 3, 4, 6, 7, 7, 9, 4, 6, 7, 9, 4, 6, 3, 4, 6],\n",
       " [9, 3, 4, 6, 7, 9, 4, 7, 7, 9, 7, 9, 3, 4, 6, 7, 9, 4, 6, 7],\n",
       " [5, 0, 4, 4, 6, 7, 7, 9, 4, 6, 7, 9, 4, 6, 7, 9, 4, 6, 4, 6],\n",
       " [6, 7, 9, 3, 4, 4, 4, 4, 6, 7, 9, 3, 4, 6, 3, 4, 7, 9, 4, 4],\n",
       " [4, 6, 7, 4, 6, 4, 6, 7, 9, 4, 6, 7, 7, 9, 7, 9, 7, 9, 3, 4],\n",
       " [1, 0, 3, 4, 6, 4, 6, 7, 0, 4, 6, 7, 9, 4, 6, 7, 9, 4, 6, 7],\n",
       " [3, 4, 6, 7, 0, 0, 3, 3, 4, 6, 7, 9, 7, 9, 4, 6, 7, 9, 4, 4],\n",
       " [7, 9, 4, 6, 7, 9, 7, 9, 7, 9, 4, 6, 7, 0, 4, 6, 7, 9, 4, 6],\n",
       " [8, 0, 3, 4, 6, 7, 0, 3, 4, 6, 7, 0, 7, 9, 3, 4, 6, 7, 3, 4],\n",
       " [0, 3, 4, 6, 7, 4, 6, 7, 7, 4, 6, 7, 9, 7, 9, 4, 6, 7, 7, 9],\n",
       " [9, 3, 4, 6, 7, 9, 3, 3, 4, 6, 3, 3, 3, 4, 6, 7, 0, 4, 6, 9],\n",
       " [2, 0, 3, 4, 6, 7, 9, 4, 6, 7, 7, 7, 4, 6, 7, 9, 4, 6, 7, 9],\n",
       " [3, 4, 6, 7, 9, 7, 9, 4, 6, 7, 9, 4, 6, 7, 9, 7, 9, 7, 9, 4],\n",
       " [1, 0, 9, 7, 3, 4, 6, 7, 9, 3, 4, 6, 7, 9, 7, 9, 3, 4, 6, 3],\n",
       " [8, 0, 3, 4, 6, 7, 9, 4, 6, 7, 9, 7, 9, 4, 4, 6, 7, 9, 3, 4],\n",
       " [7, 9, 4, 6, 7, 9, 3, 4, 6, 7, 9, 7, 9, 4, 6, 7, 0, 3, 4, 6],\n",
       " [6, 7, 9, 3, 4, 4, 4, 6, 4, 6, 4, 6, 7, 0, 3, 4, 6, 7, 9, 7],\n",
       " [2, 0, 3, 4, 6, 7, 9, 4, 6, 3, 4, 6, 7, 7, 9, 4, 6, 7, 9, 7],\n",
       " [5, 0, 6, 7, 9, 4, 6, 7, 0, 3, 3, 4, 3, 4, 6, 7, 7, 9, 3, 4],\n",
       " [9, 3, 4, 6, 7, 7, 9, 7, 9, 3, 4, 4, 6, 7, 4, 6, 7, 7, 9, 7],\n",
       " [0, 3, 4, 6, 7, 9, 7, 7, 9, 7, 9, 7, 9, 3, 4, 7, 9, 7, 9, 7],\n",
       " [4, 6, 7, 4, 4, 6, 7, 9, 4, 6, 3, 4, 6, 3, 4, 6, 7, 7, 9, 7],\n",
       " [2, 0, 4, 4, 6, 7, 0, 3, 4, 6, 7, 9, 7, 9, 7, 9, 7, 9, 4, 6],\n",
       " [1, 0, 3, 4, 6, 7, 9, 3, 3, 4, 6, 7, 9, 7, 3, 4, 6, 7, 0, 4],\n",
       " [9, 4, 7, 0, 4, 6, 7, 4, 6, 7, 9, 7, 9, 4, 6, 7, 9, 3, 4, 6],\n",
       " [8, 0, 3, 7, 7, 9, 7, 9, 3, 4, 6, 7, 7, 3, 4, 6, 7, 9, 7, 9],\n",
       " [6, 7, 3, 4, 3, 4, 6, 7, 7, 9, 4, 4, 4, 6, 3, 4, 6, 7, 9, 3],\n",
       " [0, 3, 4, 7, 0, 3, 4, 6, 9, 4, 6, 7, 7, 9, 4, 6, 7, 7, 4, 4],\n",
       " [5, 0, 3, 4, 6, 4, 6, 7, 0, 0, 3, 4, 6, 7, 0, 9, 3, 4, 6, 7],\n",
       " [4, 4, 6, 7, 9, 4, 6, 4, 6, 7, 7, 9, 3, 4, 7, 9, 7, 9, 4, 6],\n",
       " [3, 4, 6, 7, 6, 7, 0, 3, 4, 6, 7, 9, 3, 4, 6, 9, 4, 6, 3, 0],\n",
       " [7, 9, 7, 9, 7, 9, 4, 7, 9, 3, 4, 6, 3, 3, 3, 4, 6, 7, 9, 4],\n",
       " [7, 4, 6, 7, 7, 7, 9, 4, 6, 4, 6, 7, 9, 4, 7, 4, 6, 7, 4, 7],\n",
       " [1, 0, 4, 6, 7, 9, 3, 4, 4, 6, 3, 4, 6, 7, 0, 3, 4, 3, 4, 6],\n",
       " [9, 7, 9, 7, 9, 3, 3, 3, 4, 6, 7, 9, 4, 6, 4, 6, 7, 7, 4, 6],\n",
       " [6, 7, 9, 3, 6, 7, 9, 7, 7, 0, 3, 4, 6, 4, 6, 7, 7, 4, 6, 7],\n",
       " [0, 4, 6, 7, 7, 0, 3, 4, 6, 7, 9, 7, 9, 4, 6, 7, 0, 4, 6, 7],\n",
       " [2, 0, 3, 4, 7, 9, 4, 6, 7, 9, 3, 4, 3, 4, 7, 7, 7, 9, 7, 9],\n",
       " [3, 7, 9, 3, 4, 4, 6, 7, 9, 4, 6, 7, 9, 3, 4, 6, 7, 0, 4, 4],\n",
       " [5, 0, 3, 4, 6, 7, 9, 7, 9, 4, 6, 6, 7, 7, 7, 0, 3, 4, 3, 4],\n",
       " [4, 6, 7, 9, 7, 9, 7, 9, 4, 6, 7, 4, 4, 6, 3, 4, 6, 7, 9, 7],\n",
       " [8, 0, 3, 4, 6, 7, 4, 6, 7, 0, 3, 4, 6, 7, 7, 9, 4, 6, 7, 0],\n",
       " [2, 0, 3, 4, 4, 6, 7, 0, 4, 6, 7, 0, 3, 7, 9, 4, 6, 7, 4, 6],\n",
       " [6, 7, 9, 7, 9, 3, 4, 6, 7, 9, 4, 4, 6, 7, 0, 3, 4, 6, 7, 0],\n",
       " [7, 9, 7, 9, 4, 6, 7, 9, 3, 4, 6, 7, 9, 4, 6, 7, 7, 0, 3, 4],\n",
       " [3, 4, 4, 6, 7, 9, 3, 4, 6, 7, 9, 7, 9, 3, 3, 4, 6, 7, 7, 9],\n",
       " [4, 6, 7, 9, 7, 9, 7, 9, 4, 6, 7, 7, 9, 4, 6, 3, 4, 6, 7, 0],\n",
       " [9, 4, 6, 7, 9, 4, 6, 4, 6, 7, 9, 7, 9, 4, 6, 7, 9, 4, 6, 7],\n",
       " [8, 0, 3, 4, 4, 6, 7, 9, 4, 6, 7, 9, 4, 6, 7, 9, 4, 6, 4, 7],\n",
       " [0, 4, 6, 7, 3, 3, 4, 4, 4, 6, 7, 9, 7, 9, 7, 9, 4, 6, 3, 4],\n",
       " [5, 0, 6, 7, 0, 3, 4, 7, 0, 3, 4, 7, 9, 4, 6, 7, 9, 4, 6, 4],\n",
       " [1, 0, 3, 4, 6, 3, 4, 6, 7, 9, 3, 4, 6, 7, 9, 7, 9, 3, 4, 6],\n",
       " [2, 0, 0, 3, 3, 4, 6, 7, 7, 7, 9, 4, 7, 0, 4, 6, 7, 0, 3, 4],\n",
       " [3, 4, 6, 7, 9, 4, 7, 0, 3, 4, 6, 3, 3, 4, 6, 6, 9, 4, 6, 3],\n",
       " [8, 0, 3, 4, 6, 7, 0, 4, 4, 6, 7, 9, 4, 6, 7, 9, 7, 9, 4, 6],\n",
       " [7, 7, 7, 4, 6, 7, 9, 4, 6, 7, 9, 4, 7, 9, 3, 4, 6, 7, 7, 9],\n",
       " [4, 6, 7, 4, 6, 7, 9, 4, 6, 7, 9, 3, 4, 7, 9, 7, 9, 4, 6, 7],\n",
       " [1, 0, 3, 4, 6, 7, 0, 3, 4, 6, 7, 9, 3, 4, 6, 7, 9, 3, 4, 6],\n",
       " [9, 3, 3, 4, 4, 6, 7, 9, 3, 4, 6, 7, 9, 7, 9, 4, 6, 7, 9, 4],\n",
       " [6, 7, 0, 3, 4, 3, 4, 6, 7, 9, 7, 9, 7, 0, 3, 4, 6, 7, 0, 4],\n",
       " [0, 3, 4, 6, 7, 9, 3, 4, 6, 7, 9, 4, 6, 7, 9, 3, 4, 4, 4, 6],\n",
       " [5, 0, 3, 4, 6, 7, 9, 3, 4, 6, 7, 9, 3, 4, 6, 7, 0, 4, 6, 3],\n",
       " [8, 0, 3, 4, 6, 7, 9, 4, 6, 7, 4, 6, 7, 4, 6, 4, 6, 7, 9, 4],\n",
       " [4, 6, 7, 9, 7, 9, 3, 4, 6, 7, 9, 7, 9, 4, 6, 7, 9, 4, 4, 7],\n",
       " [5, 0, 7, 9, 7, 9, 4, 6, 7, 6, 7, 4, 6, 7, 9, 4, 6, 7, 9, 4],\n",
       " [2, 0, 4, 4, 6, 7, 4, 6, 7, 9, 7, 7, 0, 3, 4, 7, 9, 7, 9, 3],\n",
       " [3, 4, 6, 7, 4, 6, 7, 7, 9, 7, 7, 9, 7, 9, 7, 9, 4, 6, 7, 9],\n",
       " [0, 3, 4, 6, 4, 6, 7, 9, 7, 9, 4, 6, 7, 9, 7, 4, 6, 7, 7, 9],\n",
       " [6, 7, 7, 4, 6, 7, 9, 3, 4, 6, 7, 0, 3, 4, 6, 7, 9, 4, 4, 4],\n",
       " [1, 0, 3, 4, 3, 4, 6, 7, 9, 3, 9, 4, 6, 7, 9, 7, 9, 3, 4, 6],\n",
       " [9, 3, 4, 6, 7, 9, 4, 6, 7, 9, 4, 6, 7, 7, 9, 3, 4, 6, 7, 9],\n",
       " [7, 9, 4, 6, 7, 9, 3, 4, 6, 7, 9, 4, 6, 7, 9, 3, 4, 6, 7, 0],\n",
       " [3, 7, 9, 4, 6, 4, 7, 9, 3, 7, 9, 4, 6, 7, 9, 3, 4, 6, 7, 9],\n",
       " [9, 3, 6, 7, 4, 6, 3, 4, 6, 4, 6, 7, 9, 7, 0, 3, 4, 6, 7, 9],\n",
       " [1, 0, 3, 7, 0, 3, 4, 6, 7, 9, 3, 4, 6, 7, 9, 7, 9, 4, 6, 7],\n",
       " [0, 3, 4, 6, 7, 9, 4, 6, 7, 0, 3, 3, 4, 6, 7, 9, 3, 4, 7, 9],\n",
       " [5, 0, 3, 4, 6, 7, 9, 3, 6, 7, 9, 7, 9, 7, 0, 3, 4, 6, 7, 9],\n",
       " [8, 0, 3, 4, 4, 6, 7, 9, 4, 6, 7, 9, 3, 4, 6, 7, 9, 4, 6, 7],\n",
       " [2, 0, 4, 6, 7, 9, 7, 9, 4, 6, 7, 4, 6, 7, 0, 4, 6, 7, 9, 4],\n",
       " [7, 9, 3, 4, 6, 4, 6, 4, 6, 7, 9, 4, 6, 4, 6, 7, 9, 4, 6, 7],\n",
       " [6, 7, 9, 4, 4, 6, 7, 7, 0, 3, 4, 6, 7, 9, 7, 9, 7, 9, 7, 9],\n",
       " [4, 6, 7, 9, 3, 4, 6, 4, 6, 7, 0, 4, 7, 0, 3, 4, 6, 7, 4, 6],\n",
       " [4, 6, 7, 9, 4, 6, 7, 6, 7, 9, 3, 4, 6, 7, 9, 7, 9, 7, 0, 3],\n",
       " [0, 4, 6, 7, 9, 7, 4, 4, 6, 7, 0, 3, 4, 6, 7, 9, 4, 6, 7, 9],\n",
       " [3, 4, 6, 7, 9, 4, 6, 7, 0, 3, 3, 4, 7, 9, 4, 6, 7, 0, 7, 9],\n",
       " [2, 0, 3, 4, 6, 7, 9, 7, 9, 7, 7, 9, 4, 6, 7, 4, 4, 6, 7, 0],\n",
       " [6, 7, 7, 9, 3, 4, 9, 4, 6, 7, 0, 0, 3, 4, 6, 7, 0, 3, 4, 6],\n",
       " [8, 0, 3, 4, 4, 7, 0, 4, 4, 6, 7, 0, 3, 4, 6, 4, 4, 6, 7, 9],\n",
       " [5, 0, 3, 4, 6, 7, 9, 7, 9, 3, 4, 6, 7, 0, 3, 3, 4, 6, 7, 9],\n",
       " [7, 9, 7, 9, 4, 6, 7, 9, 3, 6, 7, 9, 7, 9, 4, 6, 7, 0, 3, 0],\n",
       " [9, 4, 4, 3, 4, 6, 7, 9, 3, 4, 6, 4, 6, 7, 9, 4, 4, 6, 7, 9],\n",
       " [1, 0, 3, 4, 6, 7, 9, 3, 4, 4, 4, 4, 6, 4, 6, 7, 7, 7, 9, 4],\n",
       " [2, 0, 3, 4, 6, 7, 9, 4, 6, 7, 7, 9, 7, 0, 3, 4, 6, 3, 6, 3],\n",
       " [6, 7, 9, 7, 9, 3, 4, 6, 7, 7, 7, 3, 4, 6, 7, 9, 4, 6, 7, 9],\n",
       " [1, 0, 3, 4, 6, 7, 0, 3, 4, 6, 4, 6, 7, 0, 3, 9, 4, 6, 7, 7],\n",
       " [4, 6, 7, 9, 7, 9, 7, 9, 3, 4, 7, 9, 4, 6, 7, 9, 3, 4, 6, 7],\n",
       " [8, 0, 3, 4, 6, 7, 9, 7, 9, 4, 6, 7, 9, 4, 6, 7, 9, 3, 4, 6],\n",
       " [0, 3, 4, 6, 7, 7, 9, 4, 6, 7, 9, 7, 3, 4, 6, 7, 4, 6, 7, 6],\n",
       " [9, 4, 6, 6, 7, 9, 7, 9, 4, 3, 4, 6, 7, 9, 4, 6, 7, 9, 7, 9],\n",
       " [5, 0, 3, 4, 6, 7, 9, 7, 7, 9, 3, 4, 6, 7, 9, 4, 6, 3, 4, 6],\n",
       " [7, 9, 7, 4, 7, 0, 4, 6, 7, 9, 7, 9, 4, 6, 7, 9, 4, 6, 7, 0],\n",
       " [3, 6, 7, 9, 7, 9, 4, 6, 7, 9, 4, 7, 9, 7, 4, 6, 7, 7, 9, 7],\n",
       " [8, 0, 3, 4, 4, 6, 7, 4, 6, 7, 7, 9, 4, 6, 7, 9, 3, 4, 6, 7],\n",
       " [3, 4, 6, 7, 0, 3, 6, 7, 9, 7, 0, 3, 4, 7, 9, 4, 4, 4, 4, 4],\n",
       " [0, 3, 4, 6, 4, 6, 7, 7, 9, 3, 4, 6, 9, 4, 6, 7, 9, 7, 6, 7],\n",
       " [7, 9, 4, 4, 4, 4, 4, 4, 4, 6, 7, 9, 4, 6, 7, 3, 4, 6, 7, 9],\n",
       " [2, 0, 4, 6, 7, 9, 4, 6, 7, 0, 0, 3, 4, 6, 7, 7, 4, 6, 4, 6],\n",
       " [5, 0, 3, 4, 6, 6, 7, 9, 7, 9, 4, 6, 7, 9, 7, 9, 4, 6, 4, 6],\n",
       " [6, 7, 9, 4, 6, 7, 9, 3, 4, 6, 4, 6, 7, 9, 7, 9, 7, 9, 4, 6],\n",
       " [9, 4, 6, 4, 6, 7, 9, 4, 6, 7, 4, 6, 3, 4, 6, 7, 9, 3, 4, 6],\n",
       " [4, 6, 7, 9, 3, 4, 6, 7, 9, 7, 9, 7, 9, 4, 6, 7, 4, 6, 7, 6],\n",
       " [1, 0, 3, 4, 7, 7, 9, 7, 9, 4, 6, 4, 6, 3, 6, 7, 9, 4, 7, 9],\n",
       " [0, 3, 4, 4, 6, 4, 6, 7, 9, 4, 6, 3, 4, 7, 9, 3, 3, 0, 3, 4],\n",
       " [9, 7, 9, 3, 4, 6, 7, 9, 3, 4, 6, 7, 7, 9, 4, 6, 7, 9, 4, 4],\n",
       " [3, 0, 3, 4, 6, 7, 9, 7, 9, 7, 9, 7, 9, 4, 6, 7, 9, 4, 6, 7],\n",
       " [6, 7, 0, 3, 4, 6, 7, 9, 4, 6, 7, 9, 7, 9, 4, 6, 7, 9, 7, 9],\n",
       " [8, 0, 3, 4, 6, 7, 6, 7, 9, 7, 9, 4, 6, 7, 9, 4, 9, 7, 9, 3],\n",
       " [2, 0, 3, 4, 9, 4, 4, 4, 4, 6, 6, 7, 9, 7, 9, 4, 6, 4, 4, 6],\n",
       " [4, 6, 4, 6, 7, 4, 6, 7, 0, 3, 7, 9, 7, 9, 4, 6, 7, 7, 4, 6],\n",
       " [1, 0, 3, 4, 6, 7, 9, 4, 6, 7, 9, 4, 6, 7, 0, 4, 6, 7, 4, 4],\n",
       " [5, 0, 3, 4, 6, 7, 9, 4, 6, 7, 7, 7, 9, 7, 9, 7, 9, 4, 6, 4],\n",
       " [7, 9, 7, 0, 3, 3, 4, 6, 4, 6, 3, 4, 6, 7, 4, 6, 7, 9, 7, 4],\n",
       " [9, 4, 6, 7, 0, 3, 4, 6, 7, 9, 4, 3, 4, 3, 4, 6, 3, 4, 6, 7],\n",
       " [2, 0, 3, 4, 6, 7, 0, 3, 4, 6, 7, 9, 4, 4, 6, 4, 6, 7, 9, 4],\n",
       " [1, 0, 3, 4, 6, 3, 4, 6, 7, 9, 7, 9, 4, 6, 7, 9, 4, 6, 7, 3],\n",
       " [8, 0, 3, 4, 6, 7, 9, 4, 6, 7, 9, 7, 9, 4, 6, 7, 9, 4, 6, 7],\n",
       " [0, 3, 4, 6, 7, 9, 7, 7, 9, 4, 6, 7, 0, 3, 4, 6, 7, 9, 4, 6],\n",
       " [6, 7, 9, 7, 9, 4, 7, 0, 3, 4, 6, 7, 9, 7, 9, 7, 9, 3, 4, 6],\n",
       " [5, 0, 3, 7, 9, 4, 6, 7, 9, 7, 0, 3, 4, 6, 7, 9, 7, 9, 7, 9],\n",
       " [4, 6, 7, 9, 4, 6, 7, 9, 4, 6, 7, 9, 7, 9, 7, 9, 3, 9, 3, 7],\n",
       " [7, 9, 3, 4, 3, 4, 6, 7, 7, 0, 4, 6, 7, 4, 4, 6, 7, 9, 4, 6],\n",
       " [3, 4, 7, 9, 4, 4, 7, 9, 3, 4, 6, 9, 3, 4, 4, 4, 6, 7, 9, 7],\n",
       " [7, 9, 4, 6, 7, 4, 6, 7, 9, 4, 4, 6, 7, 9, 3, 4, 6, 7, 9, 4],\n",
       " [1, 0, 3, 4, 6, 7, 9, 7, 9, 3, 4, 4, 4, 6, 7, 9, 3, 4, 6, 7],\n",
       " [8, 0, 3, 4, 6, 9, 4, 6, 0, 4, 6, 7, 9, 7, 9, 4, 6, 7, 4, 6],\n",
       " [4, 6, 7, 4, 7, 9, 3, 4, 6, 7, 0, 3, 4, 6, 7, 9, 4, 6, 7, 9],\n",
       " [9, 4, 6, 7, 9, 4, 6, 7, 7, 9, 7, 9, 4, 6, 7, 9, 4, 6, 7, 9],\n",
       " [6, 7, 9, 4, 6, 7, 9, 4, 6, 7, 9, 7, 9, 4, 6, 7, 9, 4, 6, 4],\n",
       " [0, 4, 6, 4, 6, 7, 4, 6, 4, 6, 7, 9, 7, 9, 4, 6, 7, 9, 4, 6],\n",
       " [5, 0, 3, 4, 6, 7, 7, 9, 7, 9, 4, 6, 7, 0, 3, 4, 6, 7, 0, 3],\n",
       " [3, 4, 6, 7, 9, 7, 7, 7, 9, 4, 6, 7, 7, 9, 3, 4, 6, 7, 7, 4],\n",
       " [2, 0, 3, 6, 7, 9, 7, 9, 3, 4, 6, 7, 4, 3, 4, 4, 6, 7, 9, 4],\n",
       " [9, 4, 6, 7, 9, 7, 9, 4, 6, 7, 9, 3, 4, 6, 7, 0, 3, 4, 6, 7],\n",
       " [1, 0, 4, 6, 7, 9, 4, 6, 7, 9, 4, 7, 7, 9, 3, 4, 4, 6, 7, 9],\n",
       " [5, 0, 3, 4, 6, 9, 4, 6, 7, 9, 4, 4, 6, 3, 7, 7, 9, 3, 4, 4],\n",
       " [6, 7, 9, 4, 6, 4, 6, 7, 9, 4, 6, 7, 9, 7, 9, 7, 9, 7, 9, 7],\n",
       " [2, 0, 3, 4, 3, 4, 6, 7, 9, 7, 9, 7, 9, 4, 6, 7, 9, 7, 9, 7],\n",
       " [4, 4, 4, 6, 4, 6, 7, 0, 3, 4, 6, 7, 9, 7, 9, 4, 6, 7, 9, 7],\n",
       " [3, 4, 6, 7, 9, 7, 9, 4, 6, 7, 4, 6, 3, 4, 6, 4, 6, 7, 9, 7],\n",
       " [0, 4, 6, 7, 9, 7, 9, 7, 9, 4, 4, 6, 7, 4, 7, 9, 4, 6, 7, 9],\n",
       " [8, 0, 4, 4, 4, 4, 4, 6, 7, 0, 3, 4, 6, 7, 9, 7, 9, 4, 6, 7],\n",
       " [7, 9, 4, 6, 3, 4, 6, 7, 7, 9, 7, 9, 7, 9, 7, 9, 4, 6, 4, 6],\n",
       " [7, 0, 3, 7, 9, 7, 7, 9, 7, 7, 9, 3, 4, 4, 4, 4, 6, 7, 9, 7],\n",
       " [2, 0, 3, 4, 6, 7, 9, 7, 9, 4, 6, 7, 9, 3, 4, 4, 6, 7, 9, 4],\n",
       " [8, 0, 4, 6, 7, 0, 6, 7, 9, 4, 6, 7, 9, 4, 6, 7, 4, 6, 7, 9],\n",
       " [1, 0, 3, 4, 6, 7, 9, 3, 4, 6, 7, 7, 9, 4, 6, 7, 9, 4, 6, 7],\n",
       " [4, 6, 7, 4, 6, 7, 9, 4, 6, 7, 7, 9, 4, 6, 7, 0, 3, 4, 6, 7],\n",
       " [0, 3, 4, 6, 7, 9, 4, 6, 7, 4, 6, 7, 7, 9, 4, 6, 7, 9, 4, 6],\n",
       " [3, 4, 6, 7, 9, 7, 9, 4, 7, 7, 9, 4, 6, 7, 4, 4, 6, 4, 6, 7],\n",
       " [6, 7, 9, 4, 6, 7, 9, 7, 9, 4, 6, 7, 9, 4, 6, 7, 7, 7, 9, 3],\n",
       " [5, 0, 3, 4, 4, 6, 7, 9, 7, 4, 6, 6, 7, 7, 7, 9, 7, 9, 7, 7],\n",
       " [9, 3, 4, 4, 4, 6, 7, 4, 6, 7, 9, 4, 7, 7, 9, 4, 6, 7, 9, 4],\n",
       " [6, 4, 6, 7, 9, 7, 9, 7, 9, 7, 9, 3, 3, 4, 6, 7, 9, 3, 4, 6],\n",
       " [0, 3, 4, 7, 9, 7, 9, 7, 9, 4, 6, 7, 7, 7, 0, 3, 4, 6, 3, 4],\n",
       " [3, 4, 6, 3, 4, 6, 7, 9, 3, 4, 6, 7, 7, 9, 4, 6, 7, 9, 4, 6],\n",
       " [5, 0, 3, 4, 6, 7, 9, 7, 9, 3, 7, 0, 4, 7, 0, 3, 4, 6, 7, 9],\n",
       " [1, 0, 3, 4, 6, 3, 6, 7, 9, 4, 6, 4, 7, 9, 7, 9, 7, 9, 7, 9],\n",
       " [2, 0, 3, 4, 4, 7, 9, 3, 4, 6, 7, 9, 7, 9, 7, 0, 3, 4, 6, 9],\n",
       " [7, 9, 4, 6, 7, 9, 4, 6, 7, 9, 7, 7, 9, 4, 6, 7, 9, 7, 4, 4],\n",
       " [9, 4, 6, 7, 0, 3, 4, 6, 7, 9, 7, 0, 4, 3, 4, 6, 7, 9, 7, 9],\n",
       " [4, 6, 4, 6, 3, 4, 6, 4, 6, 7, 0, 3, 4, 3, 4, 6, 7, 9, 3, 4],\n",
       " [8, 0, 3, 4, 6, 7, 0, 3, 4, 6, 7, 7, 0, 3, 4, 7, 4, 7, 9, 4],\n",
       " [3, 4, 6, 7, 9, 4, 6, 3, 4, 6, 7, 0, 3, 4, 6, 7, 9, 3, 9, 4],\n",
       " [0, 3, 4, 6, 4, 6, 7, 7, 9, 4, 6, 7, 0, 3, 7, 9, 4, 4, 6, 7],\n",
       " [4, 6, 7, 9, 3, 4, 6, 7, 9, 7, 9, 3, 4, 6, 7, 9, 3, 4, 4, 6],\n",
       " [9, 3, 3, 4, 6, 4, 7, 4, 4, 6, 3, 4, 6, 7, 9, 7, 9, 7, 9, 4],\n",
       " [5, 0, 4, 6, 7, 9, 3, 4, 6, 4, 6, 7, 9, 7, 9, 4, 6, 7, 9, 3],\n",
       " [8, 0, 3, 9, 7, 9, 4, 4, 4, 4, 6, 4, 4, 6, 7, 9, 4, 3, 4, 6],\n",
       " [2, 0, 3, 4, 6, 7, 3, 4, 6, 0, 3, 4, 4, 4, 6, 7, 9, 4, 6, 7],\n",
       " [1, 0, 3, 4, 6, 7, 9, 7, 9, 4, 6, 7, 7, 9, 3, 4, 6, 7, 9, 3],\n",
       " [7, 9, 3, 4, 6, 7, 7, 9, 7, 9, 7, 9, 4, 6, 7, 9, 4, 4, 6, 7],\n",
       " [6, 3, 3, 4, 6, 7, 9, 3, 4, 6, 4, 6, 7, 0, 3, 4, 6, 4, 6, 7],\n",
       " [8, 0, 3, 4, 6, 7, 9, 7, 9, 4, 6, 7, 9, 7, 9, 4, 6, 7, 9, 7],\n",
       " [3, 4, 4, 4, 4, 6, 7, 9, 7, 9, 4, 6, 7, 9, 3, 4, 6, 7, 9, 4],\n",
       " [4, 6, 7, 9, 7, 9, 7, 9, 4, 6, 4, 6, 7, 3, 4, 6, 7, 9, 4, 4],\n",
       " [0, 3, 4, 6, 7, 9, 4, 6, 4, 6, 3, 7, 3, 3, 7, 7, 9, 7, 9, 3],\n",
       " [9, 4, 6, 7, 0, 4, 6, 7, 9, 4, 6, 7, 9, 3, 4, 6, 7, 9, 4, 6],\n",
       " [7, 9, 4, 6, 4, 6, 4, 6, 7, 9, 7, 0, 3, 4, 6, 4, 4, 4, 6, 7],\n",
       " [6, 7, 9, 3, 4, 6, 4, 6, 7, 7, 4, 6, 3, 3, 4, 6, 7, 9, 3, 4],\n",
       " [2, 0, 3, 4, 6, 9, 4, 6, 7, 9, 4, 6, 7, 9, 7, 9, 4, 7, 0, 3],\n",
       " [1, 0, 3, 4, 6, 7, 9, 3, 4, 6, 7, 9, 4, 7, 9, 3, 4, 6, 7, 9],\n",
       " [5, 0, 3, 4, 6, 7, 6, 7, 9, 4, 6, 7, 9, 7, 9, 4, 6, 7, 9, 3],\n",
       " [1, 0, 3, 4, 7, 9, 7, 9, 7, 9, 3, 3, 3, 9, 4, 6, 3, 3, 4, 6],\n",
       " [3, 4, 6, 7, 9, 4, 6, 7, 7, 0, 3, 4, 6, 7, 0, 3, 4, 6, 7, 3],\n",
       " [2, 0, 3, 3, 4, 6, 7, 9, 7, 9, 4, 4, 6, 7, 9, 4, 6, 7, 7, 9],\n",
       " [5, 0, 4, 6, 7, 0, 3, 3, 3, 4, 7, 0, 4, 6, 7, 9, 3, 4, 6, 4],\n",
       " [8, 0, 3, 4, 7, 0, 3, 4, 6, 7, 9, 7, 9, 4, 7, 9, 7, 9, 7, 7],\n",
       " [9, 4, 6, 7, 9, 3, 4, 6, 7, 9, 4, 6, 7, 9, 7, 4, 7, 0, 3, 4],\n",
       " [7, 9, 7, 0, 3, 4, 7, 9, 7, 7, 9, 4, 6, 7, 9, 4, 6, 7, 9, 4],\n",
       " [0, 3, 4, 6, 7, 9, 4, 4, 6, 4, 7, 9, 3, 4, 6, 3, 4, 4, 4, 6],\n",
       " [4, 6, 7, 9, 7, 9, 3, 4, 6, 7, 7, 7, 9, 4, 6, 7, 9, 4, 6, 7],\n",
       " [6, 9, 7, 9, 4, 4, 4, 4, 6, 7, 9, 3, 4, 6, 7, 9, 4, 7, 4, 6],\n",
       " [8, 0, 3, 4, 6, 0, 4, 6, 7, 9, 7, 9, 7, 9, 4, 6, 7, 9, 7, 9],\n",
       " [7, 7, 9, 4, 6, 7, 4, 6, 7, 9, 7, 9, 4, 6, 7, 3, 4, 6, 7, 9],\n",
       " [1, 0, 3, 4, 6, 7, 9, 7, 9, 7, 3, 4, 4, 6, 7, 0, 3, 4, 6, 7],\n",
       " [3, 4, 3, 4, 6, 7, 9, 7, 0, 4, 6, 7, 4, 6, 7, 4, 6, 7, 9, 4],\n",
       " [6, 7, 9, 7, 9, 4, 6, 6, 7, 0, 3, 4, 6, 9, 4, 6, 4, 6, 7, 7],\n",
       " [0, 3, 4, 6, 4, 6, 7, 0, 7, 9, 7, 7, 9, 4, 6, 7, 9, 4, 6, 7],\n",
       " [4, 6, 7, 9, 7, 9, 7, 9, 7, 9, 4, 4, 6, 7, 9, 7, 9, 7, 0, 7],\n",
       " [9, 7, 9, 4, 6, 7, 9, 4, 6, 7, 9, 7, 9, 4, 4, 6, 7, 9, 4, 4],\n",
       " [5, 0, 3, 4, 6, 7, 9, 4, 4, 6, 7, 9, 4, 6, 7, 9, 4, 6, 7, 7],\n",
       " [2, 0, 3, 4, 6, 7, 9, 4, 6, 7, 9, 4, 6, 7, 7, 9, 7, 9, 7, 9],\n",
       " [1, 0, 4, 6, 7, 4, 6, 4, 6, 7, 7, 9, 4, 6, 7, 9, 3, 4, 6, 7],\n",
       " [6, 7, 9, 7, 9, 7, 9, 4, 6, 7, 4, 4, 4, 4, 4, 6, 7, 3, 4, 6],\n",
       " [0, 3, 4, 6, 7, 9, 4, 6, 4, 6, 7, 9, 7, 9, 3, 4, 6, 7, 9, 4],\n",
       " [5, 0, 3, 4, 6, 7, 7, 9, 4, 6, 7, 7, 9, 7, 9, 4, 6, 7, 9, 7],\n",
       " [4, 6, 7, 7, 0, 3, 6, 7, 9, 4, 6, 7, 9, 3, 4, 6, 7, 9, 4, 6],\n",
       " [2, 0, 3, 4, 6, 7, 9, 4, 6, 3, 4, 6, 7, 9, 4, 6, 3, 4, 6, 7],\n",
       " [9, 4, 6, 9, 7, 9, 4, 7, 0, 3, 4, 6, 7, 9, 7, 9, 7, 9, 3, 9],\n",
       " [8, 0, 3, 4, 6, 7, 9, 4, 7, 0, 3, 4, 6, 4, 7, 9, 7, 7, 9, 3],\n",
       " [3, 4, 6, 7, 9, 4, 4, 6, 7, 0, 3, 4, 6, 7, 7, 9, 4, 6, 7, 9],\n",
       " [7, 9, 7, 7, 9, 4, 6, 7, 9, 4, 6, 7, 9, 4, 6, 7, 4, 6, 7, 0],\n",
       " [2, 0, 3, 4, 6, 7, 9, 3, 3, 4, 7, 9, 7, 9, 3, 4, 6, 9, 3, 4],\n",
       " [7, 7, 9, 4, 6, 7, 0, 3, 4, 6, 7, 9, 7, 9, 7, 9, 3, 4, 6, 7],\n",
       " [9, 4, 6, 7, 9, 3, 4, 6, 7, 9, 3, 4, 6, 3, 4, 6, 7, 9, 7, 9],\n",
       " [8, 0, 3, 4, 6, 7, 9, 4, 6, 7, 7, 9, 3, 4, 6, 7, 9, 4, 4, 6],\n",
       " [3, 4, 6, 7, 9, 3, 4, 6, 7, 9, 4, 6, 7, 0, 3, 9, 4, 6, 7, 9],\n",
       " [1, 0, 3, 4, 6, 3, 4, 4, 6, 7, 9, 7, 9, 3, 4, 6, 7, 9, 7, 9],\n",
       " [5, 0, 3, 4, 6, 7, 9, 3, 4, 6, 7, 9, 3, 4, 6, 7, 9, 4, 4, 6],\n",
       " [0, 3, 9, 3, 4, 4, 6, 7, 7, 9, 7, 9, 3, 4, 6, 7, 9, 4, 6, 7],\n",
       " [6, 7, 9, 7, 9, 7, 9, 4, 6, 7, 0, 3, 4, 6, 7, 9, 7, 0, 3, 4],\n",
       " [4, 6, 7, 7, 9, 4, 6, 7, 4, 6, 3, 4, 6, 7, 9, 7, 9, 4, 6, 7],\n",
       " [3, 4, 6, 3, 4, 6, 7, 9, 4, 6, 7, 0, 4, 6, 7, 9, 4, 4, 6, 7],\n",
       " [4, 6, 7, 9, 7, 9, 7, 9, 3, 3, 4, 6, 7, 9, 7, 9, 4, 4, 4, 6],\n",
       " [1, 0, 3, 4, 6, 7, 9, 7, 9, 7, 9, 4, 6, 3, 4, 6, 7, 0, 4, 6],\n",
       " [8, 0, 4, 6, 7, 7, 3, 4, 6, 4, 6, 3, 4, 4, 6, 7, 9, 7, 9, 3],\n",
       " [6, 7, 7, 7, 9, 7, 9, 7, 9, 4, 6, 7, 0, 3, 4, 7, 7, 9, 4, 6],\n",
       " [0, 3, 4, 3, 4, 6, 7, 9, 4, 6, 7, 9, 4, 6, 3, 4, 7, 4, 4, 4],\n",
       " [5, 0, 3, 4, 6, 4, 6, 7, 0, 7, 9, 4, 6, 6, 7, 9, 4, 6, 7, 9],\n",
       " [9, 4, 6, 7, 9, 7, 9, 7, 9, 4, 4, 6, 7, 7, 7, 7, 0, 4, 7, 9],\n",
       " [2, 0, 3, 4, 6, 7, 9, 3, 4, 6, 3, 4, 6, 7, 9, 3, 7, 9, 7, 9],\n",
       " [7, 0, 3, 4, 4, 6, 7, 9, 4, 6, 7, 0, 3, 4, 6, 7, 9, 7, 9, 3],\n",
       " [1, 0, 3, 4, 6, 7, 9, 7, 9, 7, 9, 7, 9, 7, 9, 3, 4, 6, 9, 4],\n",
       " [3, 4, 6, 7, 0, 3, 4, 6, 7, 4, 7, 9, 3, 4, 6, 7, 9, 7, 9, 4],\n",
       " [2, 0, 3, 9, 4, 6, 7, 7, 0, 3, 4, 6, 7, 9, 4, 4, 4, 6, 7, 9],\n",
       " [6, 7, 9, 7, 7, 7, 0, 4, 6, 7, 9, 3, 4, 6, 7, 9, 4, 7, 7, 0],\n",
       " [8, 0, 4, 6, 7, 0, 3, 4, 4, 6, 7, 9, 4, 6, 4, 6, 7, 9, 3, 4],\n",
       " [0, 3, 4, 6, 7, 9, 4, 6, 7, 9, 7, 9, 4, 6, 7, 9, 7, 9, 7, 7],\n",
       " [9, 4, 6, 7, 9, 7, 6, 7, 7, 9, 4, 4, 6, 7, 9, 4, 6, 7, 7, 0],\n",
       " [4, 7, 4, 6, 3, 4, 4, 6, 7, 9, 7, 9, 4, 7, 9, 4, 6, 7, 9, 7],\n",
       " [5, 0, 3, 4, 6, 7, 7, 9, 4, 6, 4, 6, 7, 9, 4, 6, 7, 4, 4, 6],\n",
       " [7, 0, 4, 6, 7, 7, 9, 3, 4, 6, 7, 7, 9, 7, 7, 6, 7, 9, 3, 4],\n",
       " [9, 3, 4, 6, 7, 0, 3, 4, 6, 7, 9, 7, 3, 3, 4, 4, 6, 7, 9, 7],\n",
       " [3, 4, 7, 9, 7, 9, 4, 6, 7, 9, 7, 0, 3, 4, 6, 7, 9, 4, 6, 7],\n",
       " [6, 7, 7, 7, 9, 7, 9, 3, 4, 4, 4, 6, 7, 0, 3, 4, 6, 9, 3, 4],\n",
       " [1, 0, 4, 4, 6, 4, 6, 7, 9, 7, 0, 3, 4, 6, 4, 7, 7, 9, 7, 4],\n",
       " [0, 3, 4, 7, 9, 7, 9, 4, 7, 7, 4, 6, 7, 9, 7, 9, 4, 6, 4, 6],\n",
       " [4, 6, 7, 9, 7, 9, 7, 0, 3, 4, 4, 4, 6, 7, 9, 4, 6, 7, 7, 7],\n",
       " [5, 0, 3, 4, 6, 4, 6, 7, 9, 4, 6, 7, 7, 9, 7, 9, 4, 6, 6, 0],\n",
       " [8, 0, 3, 4, 6, 7, 0, 3, 4, 3, 4, 4, 4, 4, 6, 9, 4, 6, 4, 6],\n",
       " [2, 0, 3, 4, 6, 7, 9, 7, 9, 4, 4, 6, 3, 4, 4, 9, 4, 6, 7, 9],\n",
       " [7, 9, 3, 4, 3, 4, 6, 7, 7, 7, 9, 7, 9, 7, 7, 9, 3, 4, 6, 7],\n",
       " [8, 0, 3, 4, 6, 7, 9, 4, 6, 9, 4, 6, 7, 3, 4, 6, 7, 0, 4, 6],\n",
       " [0, 3, 3, 4, 4, 6, 7, 7, 7, 0, 4, 6, 7, 9, 4, 6, 7, 9, 3, 4],\n",
       " [1, 0, 3, 4, 6, 7, 9, 7, 9, 4, 6, 3, 4, 6, 7, 0, 3, 4, 6, 7],\n",
       " [3, 6, 7, 9, 3, 4, 6, 7, 7, 9, 3, 4, 6, 7, 9, 3, 4, 6, 7, 9],\n",
       " [6, 7, 0, 3, 4, 6, 7, 9, 3, 4, 6, 7, 9, 7, 0, 4, 6, 7, 9, 4],\n",
       " [5, 0, 3, 4, 6, 7, 9, 7, 9, 4, 6, 7, 9, 4, 4, 4, 6, 7, 9, 3],\n",
       " [2, 0, 3, 4, 6, 7, 9, 3, 3, 4, 4, 6, 7, 9, 3, 4, 6, 7, 9, 4],\n",
       " [4, 6, 7, 7, 9, 3, 4, 6, 7, 9, 7, 9, 7, 9, 3, 4, 6, 7, 0, 3],\n",
       " [9, 4, 6, 7, 9, 4, 4, 6, 7, 9, 4, 6, 7, 9, 4, 6, 7, 9, 7, 9],\n",
       " [7, 9, 7, 9, 4, 6, 7, 7, 9, 4, 6, 4, 6, 7, 9, 3, 4, 6, 7, 9],\n",
       " [1, 0, 3, 4, 6, 7, 9, 7, 9, 7, 7, 9, 4, 6, 7, 4, 7, 7, 7, 9],\n",
       " [9, 4, 6, 7, 0, 3, 7, 9, 7, 9, 4, 6, 4, 6, 7, 9, 4, 4, 6, 7],\n",
       " [3, 4, 6, 4, 6, 7, 9, 4, 7, 9, 4, 6, 7, 4, 6, 7, 9, 7, 9, 4],\n",
       " [0, 3, 4, 7, 7, 9, 4, 6, 7, 9, 7, 9, 4, 4, 6, 7, 9, 7, 9, 3],\n",
       " [4, 6, 7, 7, 9, 7, 9, 4, 6, 4, 6, 7, 9, 4, 6, 7, 9, 4, 6, 4],\n",
       " [5, 0, 3, 4, 6, 7, 9, 3, 4, 4, 6, 7, 9, 4, 7, 9, 4, 6, 7, 9],\n",
       " [8, 0, 3, 4, 6, 4, 3, 4, 4, 7, 0, 4, 7, 9, 7, 4, 7, 0, 3, 4],\n",
       " [6, 7, 7, 9, 4, 6, 6, 7, 0, 4, 6, 3, 4, 6, 7, 0, 3, 3, 4, 6],\n",
       " [7, 3, 4, 3, 4, 6, 4, 6, 7, 6, 7, 0, 3, 4, 4, 4, 6, 7, 0, 3],\n",
       " [2, 0, 3, 4, 4, 6, 7, 9, 4, 4, 6, 9, 4, 6, 6, 7, 9, 4, 6, 7],\n",
       " [1, 0, 4, 6, 7, 4, 6, 7, 9, 7, 9, 4, 6, 7, 6, 7, 9, 4, 6, 0],\n",
       " [9, 3, 4, 4, 6, 7, 9, 4, 7, 9, 7, 9, 4, 6, 7, 9, 7, 9, 7, 9],\n",
       " [7, 9, 4, 6, 7, 9, 4, 6, 7, 9, 3, 3, 4, 6, 7, 9, 7, 9, 7, 0],\n",
       " [5, 0, 4, 4, 6, 7, 9, 3, 4, 6, 3, 4, 6, 7, 9, 7, 9, 4, 4, 6],\n",
       " [2, 0, 3, 4, 6, 7, 9, 3, 9, 4, 6, 0, 3, 4, 6, 7, 9, 4, 4, 6],\n",
       " [0, 3, 4, 6, 4, 6, 4, 6, 7, 9, 4, 6, 7, 6, 7, 0, 3, 7, 9, 4],\n",
       " [8, 0, 4, 6, 7, 9, 4, 7, 9, 4, 6, 7, 9, 7, 9, 4, 6, 7, 9, 4],\n",
       " [3, 3, 4, 6, 3, 4, 6, 4, 6, 7, 9, 4, 3, 4, 6, 7, 4, 6, 7, 9],\n",
       " [4, 6, 7, 9, 4, 6, 6, 7, 9, 7, 9, 7, 9, 7, 9, 7, 9, 7, 9, 4],\n",
       " [6, 4, 6, 7, 9, 4, 6, 7, 9, 4, 6, 7, 0, 4, 6, 7, 9, 4, 4, 6],\n",
       " [6, 7, 9, 3, 4, 4, 6, 7, 6, 7, 0, 3, 4, 4, 4, 4, 6, 3, 4, 6],\n",
       " [5, 0, 3, 4, 6, 7, 9, 3, 4, 6, 7, 9, 7, 0, 3, 4, 6, 6, 7, 7],\n",
       " [4, 6, 7, 9, 3, 4, 6, 4, 6, 6, 7, 9, 3, 4, 6, 7, 9, 4, 6, 7],\n",
       " [0, 4, 6, 7, 9, 4, 6, 7, 9, 4, 6, 7, 0, 7, 0, 3, 4, 6, 7, 9],\n",
       " [7, 9, 3, 4, 6, 7, 9, 4, 6, 4, 7, 9, 7, 9, 4, 6, 7, 0, 7, 9],\n",
       " [9, 4, 6, 3, 3, 4, 6, 4, 6, 3, 4, 6, 9, 4, 4, 6, 7, 9, 4, 6],\n",
       " [8, 0, 3, 4, 4, 6, 7, 9, 4, 6, 7, 7, 7, 7, 4, 6, 7, 9, 7, 9],\n",
       " [2, 0, 4, 6, 7, 9, 7, 9, 4, 6, 7, 9, 4, 6, 7, 9, 7, 9, 4, 4],\n",
       " [3, 4, 6, 7, 7, 9, 7, 9, 3, 4, 6, 7, 9, 4, 6, 7, 7, 7, 9, 4],\n",
       " [1, 0, 3, 4, 6, 7, 4, 6, 7, 9, 4, 4, 4, 6, 7, 9, 7, 9, 7, 9],\n",
       " [9, 4, 6, 7, 9, 7, 9, 3, 4, 6, 7, 9, 4, 6, 7, 0, 3, 4, 4, 6],\n",
       " [5, 0, 4, 6, 7, 7, 7, 4, 6, 7, 7, 9, 7, 9, 7, 9, 4, 6, 4, 6],\n",
       " [8, 0, 3, 7, 9, 4, 6, 7, 9, 4, 3, 4, 6, 7, 9, 3, 4, 6, 7, 9],\n",
       " [1, 0, 4, 6, 7, 9, 3, 4, 6, 7, 9, 7, 0, 3, 4, 6, 7, 9, 3, 4],\n",
       " [3, 4, 4, 6, 7, 9, 7, 9, 4, 4, 6, 7, 9, 4, 6, 7, 9, 4, 6, 7],\n",
       " [4, 6, 4, 6, 7, 4, 6, 7, 9, 7, 7, 9, 4, 3, 4, 6, 7, 9, 7, 9],\n",
       " [2, 0, 4, 6, 7, 9, 4, 6, 7, 0, 3, 4, 6, 7, 9, 4, 4, 6, 7, 9],\n",
       " [7, 9, 7, 0, 3, 4, 3, 4, 6, 4, 6, 7, 9, 7, 9, 4, 6, 7, 9, 3],\n",
       " [0, 3, 4, 6, 7, 7, 0, 3, 3, 7, 9, 7, 0, 3, 4, 3, 4, 6, 7, 9],\n",
       " [6, 6, 7, 7, 9, 4, 6, 7, 7, 9, 3, 4, 6, 7, 9, 7, 9, 7, 9, 7],\n",
       " [5, 0, 3, 4, 4, 4, 6, 4, 6, 7, 6, 7, 9, 4, 6, 7, 9, 7, 6, 7],\n",
       " [8, 0, 3, 4, 4, 6, 7, 9, 4, 6, 7, 9, 4, 6, 7, 9, 4, 4, 6, 7],\n",
       " [0, 3, 4, 6, 7, 9, 3, 4, 7, 7, 9, 4, 6, 7, 9, 4, 6, 7, 9, 7],\n",
       " [7, 9, 7, 4, 4, 6, 7, 9, 4, 6, 7, 9, 4, 6, 7, 9, 7, 9, 7, 9],\n",
       " [6, 7, 9, 7, 9, 4, 6, 7, 9, 7, 9, 7, 9, 7, 9, 4, 6, 7, 9, 3],\n",
       " [2, 0, 3, 3, 4, 4, 6, 3, 4, 6, 7, 9, 7, 9, 7, 0, 3, 4, 6, 7],\n",
       " [4, 6, 7, 9, 7, 0, 7, 9, 3, 4, 6, 7, 9, 7, 9, 3, 4, 6, 7, 9],\n",
       " [1, 0, 3, 6, 7, 0, 3, 4, 6, 7, 9, 3, 4, 6, 7, 9, 7, 9, 3, 4],\n",
       " [3, 4, 6, 7, 9, 4, 6, 7, 9, 4, 4, 6, 7, 9, 3, 4, 6, 7, 0, 3],\n",
       " [9, 3, 4, 6, 7, 9, 4, 4, 6, 4, 7, 0, 4, 6, 3, 4, 6, 7, 4, 3],\n",
       " [6, 7, 9, 7, 9, 7, 9, 3, 4, 6, 3, 4, 6, 7, 9, 7, 9, 3, 4, 6],\n",
       " [8, 0, 3, 4, 6, 7, 7, 9, 7, 9, 7, 9, 7, 9, 4, 7, 0, 3, 4, 6],\n",
       " [1, 0, 3, 4, 6, 7, 9, 4, 6, 7, 9, 3, 4, 6, 7, 6, 7, 9, 3, 4],\n",
       " [0, 3, 4, 6, 7, 7, 9, 3, 4, 4, 4, 6, 7, 0, 0, 3, 4, 6, 7, 4],\n",
       " [9, 4, 6, 9, 4, 6, 7, 9, 4, 3, 4, 6, 4, 6, 7, 9, 3, 4, 3, 4],\n",
       " [4, 6, 7, 0, 4, 6, 7, 9, 4, 6, 7, 9, 4, 6, 7, 9, 7, 9, 4, 6],\n",
       " [2, 0, 6, 7, 9, 4, 6, 7, 9, 7, 6, 7, 9, 3, 4, 6, 7, 7, 9, 4],\n",
       " [3, 4, 6, 7, 9, 7, 0, 3, 4, 6, 7, 9, 7, 9, 3, 4, 6, 7, 9, 3],\n",
       " [5, 0, 3, 4, 6, 7, 3, 4, 6, 7, 9, 7, 9, 7, 9, 4, 6, 4, 6, 7],\n",
       " [7, 6, 7, 0, 4, 6, 7, 9, 7, 7, 9, 4, 6, 7, 0, 4, 6, 7, 9, 4],\n",
       " [5, 0, 3, 4, 6, 4, 6, 7, 9, 4, 6, 7, 9, 7, 9, 7, 9, 3, 4, 4],\n",
       " [2, 0, 3, 3, 4, 6, 7, 9, 3, 6, 7, 7, 9, 4, 6, 7, 9, 3, 4, 4],\n",
       " [3, 4, 6, 7, 4, 6, 7, 9, 4, 4, 6, 7, 9, 3, 4, 6, 7, 9, 4, 6],\n",
       " [7, 7, 7, 7, 7, 9, 7, 9, 4, 6, 7, 9, 7, 9, 3, 4, 6, 7, 9, 7],\n",
       " [4, 6, 7, 9, 4, 7, 9, 3, 4, 6, 7, 9, 3, 4, 6, 4, 6, 7, 9, 4],\n",
       " [1, 0, 3, 4, 4, 6, 7, 0, 3, 4, 7, 9, 4, 4, 6, 7, 9, 4, 6, 7],\n",
       " [9, 4, 6, 0, 3, 4, 6, 7, 9, 7, 9, 7, 0, 3, 4, 6, 7, 9, 4, 6],\n",
       " [8, 0, 3, 4, 6, 7, 0, 3, 4, 6, 7, 9, 7, 9, 4, 6, 6, 4, 6, 7],\n",
       " [0, 3, 4, 6, 7, 9, 4, 6, 4, 6, 7, 9, 3, 7, 9, 7, 9, 3, 4, 4],\n",
       " [6, 7, 9, 7, 9, 7, 9, 7, 9, 4, 6, 7, 9, 4, 6, 7, 9, 7, 9, 4],\n",
       " [7, 9, 4, 4, 6, 7, 0, 3, 7, 9, 4, 6, 7, 9, 3, 3, 4, 7, 9, 7],\n",
       " [1, 0, 4, 6, 7, 4, 6, 7, 9, 7, 9, 3, 4, 6, 7, 9, 7, 9, 7, 0],\n",
       " [6, 7, 9, 3, 4, 6, 7, 9, 4, 4, 6, 6, 6, 7, 9, 3, 3, 4, 3, 4],\n",
       " [2, 0, 3, 3, 4, 6, 7, 9, 4, 6, 4, 6, 7, 9, 3, 4, 6, 7, 9, 4],\n",
       " [3, 4, 4, 6, 7, 9, 4, 6, 7, 0, 3, 4, 6, 7, 0, 3, 4, 6, 7, 9],\n",
       " [9, 4, 6, 7, 9, 7, 9, 3, 4, 4, 6, 7, 9, 3, 4, 6, 9, 4, 6, 4],\n",
       " [8, 0, 3, 3, 7, 9, 3, 4, 6, 7, 9, 4, 6, 7, 9, 7, 9, 4, 6, 7],\n",
       " [4, 6, 7, 9, 4, 6, 7, 9, 7, 9, 3, 3, 4, 6, 7, 9, 7, 9, 7, 9],\n",
       " [5, 0, 3, 4, 6, 4, 6, 7, 7, 9, 3, 4, 6, 7, 9, 3, 4, 6, 7, 9],\n",
       " [0, 3, 9, 3, 4, 6, 4, 6, 3, 4, 6, 7, 9, 3, 4, 6, 7, 9, 4, 6],\n",
       " [9, 3, 4, 6, 7, 9, 4, 4, 4, 7, 9, 4, 6, 7, 9, 7, 9, 4, 6, 7],\n",
       " [5, 0, 4, 6, 7, 9, 4, 4, 6, 7, 9, 4, 6, 7, 9, 4, 6, 7, 4, 7],\n",
       " [4, 6, 7, 9, 4, 6, 4, 6, 7, 7, 9, 3, 3, 4, 6, 7, 9, 4, 6, 7],\n",
       " [6, 7, 0, 4, 6, 7, 9, 4, 6, 7, 9, 7, 9, 4, 6, 7, 0, 3, 4, 6],\n",
       " [8, 0, 3, 4, 6, 7, 9, 7, 9, 4, 6, 4, 6, 7, 9, 3, 4, 6, 3, 4],\n",
       " [0, 3, 4, 6, 7, 9, 4, 6, 7, 9, 7, 9, 3, 4, 6, 7, 9, 4, 6, 7],\n",
       " [2, 0, 3, 4, 7, 9, 4, 6, 7, 9, 7, 9, 3, 4, 6, 7, 9, 4, 6, 7],\n",
       " [3, 4, 6, 7, 9, 7, 9, 7, 9, 4, 6, 7, 3, 4, 4, 6, 7, 9, 4, 6],\n",
       " [7, 0, 3, 4, 6, 7, 7, 7, 9, 7, 9, 3, 3, 4, 7, 9, 7, 7, 7, 9],\n",
       " [1, 0, 3, 4, 6, 7, 9, 7, 0, 3, 4, 7, 7, 9, 7, 9, 4, 6, 7, 9],\n",
       " [5, 0, 3, 4, 6, 7, 9, 4, 4, 6, 7, 7, 9, 4, 6, 7, 9, 4, 3, 4],\n",
       " [8, 0, 3, 4, 6, 7, 0, 7, 9, 7, 0, 3, 4, 6, 3, 4, 6, 7, 7, 7],\n",
       " [1, 0, 4, 6, 7, 0, 4, 6, 7, 4, 4, 4, 6, 7, 4, 6, 7, 9, 3, 4],\n",
       " [0, 3, 4, 6, 7, 4, 6, 7, 9, 4, 4, 6, 3, 4, 6, 6, 7, 0, 3, 4],\n",
       " [3, 4, 6, 7, 4, 6, 7, 9, 4, 7, 0, 3, 3, 4, 6, 4, 6, 7, 3, 3],\n",
       " [2, 0, 3, 4, 6, 7, 9, 4, 6, 4, 4, 6, 7, 9, 4, 4, 6, 7, 7, 9],\n",
       " [4, 6, 7, 7, 9, 7, 9, 4, 6, 4, 6, 7, 9, 7, 9, 3, 6, 3, 4, 6],\n",
       " [7, 7, 9, 7, 7, 9, 4, 6, 7, 9, 7, 9, 4, 6, 4, 6, 7, 7, 7, 9],\n",
       " [9, 7, 9, 7, 9, 3, 4, 6, 7, 9, 7, 7, 9, 4, 6, 7, 9, 3, 4, 6],\n",
       " [6, 7, 9, 7, 9, 4, 6, 7, 9, 7, 9, 4, 6, 7, 9, 4, 6, 7, 0, 3],\n",
       " [1, 0, 3, 7, 9, 4, 4, 6, 7, 9, 4, 6, 7, 9, 3, 4, 6, 7, 7, 9],\n",
       " [4, 6, 9, 4, 6, 7, 9, 4, 6, 7, 9, 4, 6, 7, 7, 9, 4, 4, 6, 7],\n",
       " [5, 0, 3, 4, 3, 4, 6, 7, 9, 7, 9, 3, 4, 7, 9, 7, 9, 7, 9, 4],\n",
       " [8, 0, 4, 6, 7, 9, 7, 7, 7, 9, 4, 7, 4, 6, 7, 4, 6, 7, 3, 4],\n",
       " [0, 3, 4, 4, 6, 7, 9, 4, 7, 9, 4, 6, 7, 7, 9, 3, 4, 6, 7, 9],\n",
       " [7, 9, 4, 6, 7, 0, 4, 6, 7, 9, 7, 9, 7, 9, 3, 4, 6, 7, 7, 7],\n",
       " [6, 7, 7, 9, 7, 9, 4, 6, 3, 6, 7, 9, 7, 9, 7, 9, 3, 4, 6, 7],\n",
       " [3, 4, 6, 7, 7, 9, 7, 9, 4, 6, 7, 9, 7, 9, 7, 9, 7, 9, 3, 3],\n",
       " [9, 4, 6, 7, 9, 7, 9, 7, 9, 4, 7, 7, 9, 4, 6, 7, 9, 4, 7, 9],\n",
       " [2, 0, 3, 4, 6, 3, 4, 3, 4, 4, 4, 3, 4, 6, 7, 9, 4, 6, 7, 9],\n",
       " [1, 0, 0, 0, 3, 4, 6, 3, 4, 6, 7, 9, 4, 6, 7, 9, 7, 9, 3, 4],\n",
       " [9, 4, 7, 9, 4, 7, 9, 4, 6, 7, 9, 4, 7, 9, 7, 9, 3, 4, 6, 7],\n",
       " [8, 0, 3, 4, 6, 7, 9, 4, 6, 3, 4, 6, 7, 9, 7, 9, 3, 4, 4, 6],\n",
       " [3, 4, 6, 4, 6, 7, 4, 4, 6, 7, 0, 3, 4, 6, 7, 4, 6, 7, 9, 4],\n",
       " [7, 7, 0, 3, 4, 6, 7, 0, 3, 4, 6, 7, 9, 3, 4, 3, 4, 6, 7, 9],\n",
       " [5, 0, 3, 4, 6, 7, 4, 6, 7, 9, 4, 4, 6, 7, 0, 0, 3, 4, 6, 7],\n",
       " [0, 3, 4, 6, 7, 9, 3, 4, 6, 7, 0, 3, 4, 6, 7, 4, 7, 9, 4, 6],\n",
       " [6, 7, 0, 3, 4, 6, 3, 4, 7, 9, 4, 6, 7, 4, 6, 7, 9, 7, 6, 7],\n",
       " [2, 0, 3, 3, 4, 6, 7, 7, 9, 3, 4, 6, 7, 9, 4, 6, 7, 9, 7, 9],\n",
       " [4, 4, 6, 7, 9, 4, 6, 7, 7, 9, 7, 7, 7, 0, 3, 3, 4, 6, 7, 9],\n",
       " [4, 6, 7, 9, 3, 4, 6, 7, 9, 4, 6, 7, 9, 3, 4, 6, 7, 7, 9, 4],\n",
       " [3, 4, 6, 7, 9, 7, 9, 4, 6, 7, 0, 4, 3, 4, 4, 6, 7, 9, 7, 9],\n",
       " [0, 4, 9, 4, 6, 7, 9, 7, 9, 7, 9, 3, 4, 6, 7, 9, 4, 4, 6, 7],\n",
       " [2, 0, 3, 4, 7, 9, 3, 4, 6, 7, 0, 3, 4, 6, 7, 9, 4, 6, 7, 9],\n",
       " [9, 3, 4, 6, 4, 6, 4, 6, 3, 7, 9, 4, 6, 0, 4, 6, 7, 7, 9, 7],\n",
       " [5, 0, 3, 4, 6, 7, 3, 4, 6, 7, 9, 3, 4, 6, 7, 9, 4, 3, 4, 6],\n",
       " [1, 0, 3, 4, 6, 7, 9, 7, 9, 7, 9, 7, 9, 4, 6, 3, 4, 6, 7, 9],\n",
       " [8, 0, 3, 3, 4, 6, 7, 0, 3, 4, 6, 7, 9, 7, 9, 7, 9, 7, 9, 4],\n",
       " [6, 7, 9, 4, 6, 7, 9, 3, 4, 4, 6, 3, 4, 6, 7, 4, 6, 0, 4, 6],\n",
       " [7, 9, 4, 6, 7, 9, 4, 6, 7, 9, 7, 9, 7, 9, 7, 9, 7, 9, 4, 6],\n",
       " [0, 3, 4, 6, 7, 9, 7, 9, 4, 6, 3, 4, 6, 7, 9, 3, 3, 4, 6, 7],\n",
       " [8, 0, 0, 9, 3, 4, 6, 7, 7, 9, 7, 9, 7, 9, 4, 6, 7, 9, 7, 9],\n",
       " [3, 4, 6, 7, 7, 7, 9, 4, 6, 7, 0, 3, 4, 6, 7, 7, 0, 3, 4, 6],\n",
       " [5, 0, 3, 4, 6, 7, 9, 4, 6, 7, 9, 7, 0, 3, 4, 6, 7, 9, 4, 6],\n",
       " [6, 6, 6, 7, 9, 7, 0, 3, 4, 6, 7, 9, 7, 9, 7, 4, 6, 7, 7, 9],\n",
       " [1, 0, 3, 4, 4, 4, 6, 7, 9, 7, 9, 4, 6, 7, 7, 7, 9, 4, 6, 7],\n",
       " [4, 6, 7, 9, 4, 3, 4, 6, 7, 9, 7, 9, 7, 9, 7, 0, 4, 6, 7, 9],\n",
       " [7, 9, 3, 4, 6, 7, 7, 6, 7, 9, 4, 6, 7, 0, 3, 4, 6, 7, 0, 3],\n",
       " [2, 0, 3, 3, 4, 3, 4, 6, 7, 9, 7, 9, 3, 4, 6, 7, 9, 4, 6, 7],\n",
       " [9, 3, 4, 6, 7, 0, 3, 7, 9, 7, 9, 4, 6, 7, 9, 3, 4, 6, 7, 7],\n",
       " [9, 4, 6, 7, 7, 9, 7, 9, 4, 6, 7, 9, 4, 3, 6, 7, 9, 7, 9, 7],\n",
       " [8, 0, 0, 4, 6, 7, 7, 7, 7, 9, 4, 6, 7, 9, 4, 6, 7, 9, 4, 7],\n",
       " [6, 3, 4, 7, 7, 7, 9, 7, 9, 3, 4, 6, 7, 9, 4, 6, 7, 0, 4, 6],\n",
       " [5, 0, 3, 4, 4, 6, 7, 6, 7, 0, 7, 0, 3, 4, 6, 4, 6, 7, 9, 7],\n",
       " [2, 0, 7, 9, 7, 9, 4, 4, 6, 7, 9, 7, 0, 3, 4, 6, 0, 3, 4, 6],\n",
       " [1, 0, 4, 6, 7, 7, 4, 7, 9, 3, 4, 6, 7, 9, 7, 9, 7, 9, 4, 6],\n",
       " [4, 6, 7, 4, 6, 7, 9, 3, 4, 6, 7, 9, 4, 6, 7, 7, 4, 6, 7, 7],\n",
       " [7, 0, 3, 3, 4, 6, 7, 9, 7, 9, 7, 9, 4, 6, 7, 9, 4, 3, 4, 6],\n",
       " [3, 4, 6, 7, 9, 4, 7, 9, 7, 9, 7, 7, 0, 4, 3, 4, 6, 7, 6, 7],\n",
       " [0, 4, 6, 0, 3, 4, 6, 7, 9, 7, 9, 4, 4, 4, 6, 7, 9, 3, 4, 4],\n",
       " [0, 3, 4, 4, 6, 7, 9, 4, 6, 7, 0, 4, 4, 6, 3, 4, 6, 7, 9, 7],\n",
       " [5, 0, 3, 4, 4, 6, 7, 7, 7, 7, 7, 7, 7, 7, 4, 6, 7, 9, 4, 6],\n",
       " [7, 7, 9, 4, 6, 7, 9, 4, 6, 7, 9, 4, 6, 7, 9, 4, 3, 4, 6, 7],\n",
       " [8, 0, 3, 4, 6, 7, 9, 7, 0, 3, 4, 6, 7, 9, 3, 4, 7, 7, 9, 4],\n",
       " [4, 6, 7, 4, 6, 7, 9, 3, 4, 6, 3, 4, 7, 9, 7, 9, 4, 6, 7, 9],\n",
       " [1, 0, 3, 4, 6, 4, 6, 7, 9, 4, 6, 7, 9, 7, 9, 4, 4, 6, 3, 4],\n",
       " [6, 9, 3, 4, 6, 7, 4, 6, 7, 9, 3, 4, 6, 4, 6, 7, 4, 6, 7, 9],\n",
       " [3, 4, 6, 7, 9, 3, 4, 4, 6, 7, 9, 3, 4, 6, 7, 7, 9, 4, 6, 7],\n",
       " [2, 0, 3, 4, 6, 7, 9, 4, 4, 6, 7, 9, 4, 7, 9, 3, 4, 4, 6, 7],\n",
       " [9, 4, 4, 6, 7, 9, 3, 4, 4, 6, 7, 0, 3, 4, 7, 7, 9, 4, 6, 7],\n",
       " [9, 7, 9, 7, 9, 4, 6, 7, 9, 4, 6, 7, 9, 7, 9, 3, 4, 6, 7, 9],\n",
       " [4, 6, 7, 9, 3, 4, 6, 7, 6, 7, 9, 7, 9, 4, 6, 7, 7, 9, 4, 4],\n",
       " [0, 3, 4, 6, 7, 9, 7, 4, 6, 7, 0, 3, 4, 7, 9, 3, 4, 7, 7, 9],\n",
       " [2, 0, 3, 4, 6, 4, 6, 7, 7, 9, 4, 6, 7, 0, 3, 4, 6, 7, 0, 3],\n",
       " [3, 4, 4, 6, 7, 9, 3, 4, 6, 7, 9, 4, 6, 3, 4, 6, 7, 9, 4, 6],\n",
       " [7, 9, 4, 6, 4, 6, 7, 9, 7, 9, 7, 9, 7, 7, 9, 4, 6, 7, 9, 4],\n",
       " [5, 0, 3, 4, 6, 7, 9, 4, 6, 4, 6, 7, 9, 7, 9, 4, 6, 3, 4, 6],\n",
       " [6, 4, 6, 7, 6, 7, 0, 3, 4, 6, 7, 9, 3, 4, 6, 7, 9, 4, 6, 7],\n",
       " [1, 0, 3, 4, 6, 7, 9, 4, 6, 7, 7, 9, 3, 4, 6, 7, 9, 7, 4, 6],\n",
       " [8, 0, 4, 6, 7, 9, 7, 9, 4, 6, 3, 4, 3, 4, 6, 7, 3, 4, 6, 7],\n",
       " [8, 0, 6, 7, 9, 4, 6, 4, 6, 7, 0, 3, 4, 3, 4, 6, 7, 9, 7, 9],\n",
       " [5, 0, 3, 4, 6, 7, 9, 4, 4, 7, 4, 4, 6, 4, 7, 9, 4, 6, 4, 6],\n",
       " [2, 0, 3, 3, 4, 7, 9, 7, 9, 4, 6, 7, 9, 7, 3, 4, 6, 7, 4, 6],\n",
       " [7, 4, 6, 7, 7, 7, 7, 4, 6, 7, 9, 7, 9, 3, 4, 6, 7, 9, 7, 9],\n",
       " [1, 0, 3, 4, 6, 7, 9, 7, 9, 3, 4, 7, 9, 3, 4, 7, 0, 0, 3, 4],\n",
       " [6, 7, 9, 3, 4, 6, 3, 4, 4, 6, 7, 9, 7, 9, 7, 9, 4, 6, 7, 6],\n",
       " [9, 3, 4, 6, 7, 9, 7, 9, 3, 4, 6, 7, 9, 4, 6, 7, 9, 4, 6, 7],\n",
       " [0, 0, 4, 6, 7, 9, 7, 7, 9, 7, 9, 7, 9, 7, 9, 4, 6, 7, 7, 9],\n",
       " [4, 6, 7, 4, 6, 7, 4, 7, 9, 7, 0, 0, 4, 6, 4, 6, 7, 7, 9, 4],\n",
       " [3, 4, 6, 7, 9, 4, 6, 4, 6, 7, 9, 7, 9, 4, 6, 7, 9, 3, 4, 6],\n",
       " [2, 0, 3, 4, 6, 7, 9, 7, 9, 4, 6, 4, 6, 7, 0, 3, 4, 6, 7, 9],\n",
       " [1, 0, 3, 4, 6, 3, 4, 7, 9, 4, 6, 7, 9, 4, 4, 6, 7, 0, 9, 3],\n",
       " [6, 4, 6, 7, 9, 4, 6, 7, 9, 7, 9, 4, 6, 7, 9, 3, 4, 6, 7, 9],\n",
       " [8, 0, 3, 4, 6, 7, 9, 4, 6, 7, 9, 7, 9, 4, 4, 6, 4, 6, 7, 7],\n",
       " [4, 6, 7, 9, 4, 6, 7, 4, 7, 9, 4, 4, 6, 7, 9, 4, 6, 7, 4, 6],\n",
       " [5, 0, 3, 4, 6, 7, 9, 3, 4, 6, 7, 7, 9, 4, 3, 4, 4, 6, 4, 6],\n",
       " [7, 7, 7, 9, 4, 6, 7, 0, 0, 3, 4, 6, 6, 7, 9, 4, 6, 7, 9, 4],\n",
       " [0, 3, 4, 6, 7, 9, 7, 9, 7, 0, 3, 7, 0, 3, 3, 4, 3, 4, 6, 7],\n",
       " [3, 4, 6, 7, 9, 7, 9, 4, 6, 7, 9, 3, 4, 6, 7, 0, 3, 4, 6, 7],\n",
       " [9, 3, 4, 4, 6, 7, 9, 4, 6, 7, 9, 7, 7, 7, 9, 7, 9, 3, 4, 6],\n",
       " [2, 0, 3, 4, 6, 7, 9, 7, 9, 3, 4, 6, 7, 9, 4, 6, 3, 4, 6, 7],\n",
       " [0, 3, 4, 3, 4, 7, 9, 3, 4, 6, 7, 9, 7, 9, 4, 6, 7, 9, 7, 0],\n",
       " [8, 0, 3, 4, 3, 4, 6, 7, 4, 7, 9, 4, 6, 4, 6, 7, 9, 4, 4, 6],\n",
       " [4, 6, 7, 9, 3, 4, 6, 7, 0, 3, 6, 7, 9, 7, 9, 7, 9, 4, 4, 6],\n",
       " [9, 4, 4, 6, 7, 6, 7, 9, 7, 7, 9, 7, 0, 3, 4, 7, 9, 4, 6, 7],\n",
       " [1, 0, 3, 4, 6, 7, 9, 4, 6, 7, 9, 4, 6, 7, 6, 7, 9, 3, 4, 6],\n",
       " [5, 0, 3, 4, 4, 6, 3, 4, 6, 7, 9, 4, 6, 7, 9, 3, 4, 6, 3, 4],\n",
       " [3, 4, 4, 6, 7, 9, 4, 4, 6, 7, 9, 4, 7, 9, 7, 9, 7, 9, 4, 6],\n",
       " [7, 7, 7, 7, 9, 3, 4, 6, 7, 9, 3, 4, 6, 7, 9, 4, 6, 7, 9, 3],\n",
       " [6, 3, 4, 3, 3, 4, 6, 7, 7, 9, 7, 9, 3, 4, 6, 7, 7, 9, 4, 6],\n",
       " [6, 7, 9, 7, 9, 3, 4, 6, 7, 4, 6, 7, 9, 7, 9, 4, 7, 9, 4, 6],\n",
       " [3, 4, 6, 7, 9, 3, 4, 7, 9, 7, 9, 7, 9, 4, 6, 7, 7, 0, 3, 4],\n",
       " [9, 4, 4, 4, 4, 6, 7, 9, 7, 9, 4, 7, 9, 4, 7, 4, 6, 7, 9, 3],\n",
       " [4, 6, 7, 9, 7, 9, 4, 6, 3, 4, 4, 6, 4, 6, 7, 4, 6, 7, 9, 4],\n",
       " [1, 0, 3, 4, 6, 7, 0, 4, 7, 9, 7, 9, 7, 9, 4, 6, 7, 9, 4, 6],\n",
       " [2, 0, 0, 3, 4, 6, 3, 4, 6, 7, 3, 4, 3, 4, 6, 7, 9, 4, 6, 7],\n",
       " [0, 7, 9, 4, 4, 6, 7, 7, 0, 4, 6, 7, 4, 6, 4, 6, 7, 7, 9, 3],\n",
       " [8, 0, 3, 4, 6, 7, 4, 6, 7, 9, 4, 4, 6, 7, 4, 6, 7, 9, 4, 6],\n",
       " [7, 9, 7, 9, 3, 4, 6, 7, 9, 4, 6, 7, 9, 3, 4, 6, 7, 7, 0, 3],\n",
       " [5, 0, 3, 4, 6, 7, 9, 7, 9, 4, 6, 7, 6, 7, 9, 3, 4, 4, 6, 7],\n",
       " [8, 0, 3, 4, 6, 7, 4, 6, 7, 9, 4, 6, 7, 7, 9, 7, 9, 3, 4, 6],\n",
       " [9, 3, 0, 4, 7, 9, 4, 6, 7, 9, 4, 6, 7, 0, 3, 4, 7, 9, 7, 6],\n",
       " [3, 4, 4, 6, 7, 9, 4, 4, 4, 6, 6, 7, 4, 6, 7, 9, 4, 6, 3, 4],\n",
       " [2, 0, 3, 4, 6, 7, 9, 4, 6, 9, 4, 4, 4, 6, 7, 9, 7, 9, 4, 6],\n",
       " [1, 0, 3, 4, 7, 3, 4, 6, 7, 4, 4, 6, 4, 6, 7, 9, 4, 9, 3, 4],\n",
       " [6, 7, 9, 3, 4, 6, 7, 4, 6, 7, 7, 0, 4, 6, 4, 6, 7, 4, 6, 7],\n",
       " [5, 0, 3, 4, 6, 7, 9, 4, 6, 7, 9, 7, 9, 4, 7, 9, 7, 9, 3, 4],\n",
       " [0, 3, 4, 6, 7, 7, 9, 7, 9, 7, 9, 7, 9, 4, 6, 7, 9, 4, 6, 7],\n",
       " [4, 6, 4, 6, 7, 0, 3, 4, 6, 7, 9, 7, 9, 7, 9, 4, 6, 7, 9, 4],\n",
       " [7, 0, 4, 6, 7, 9, 4, 6, 7, 0, 4, 6, 7, 9, 4, 6, 3, 4, 6, 7],\n",
       " [7, 9, 7, 0, 3, 3, 4, 6, 7, 9, 3, 4, 7, 9, 4, 6, 7, 7, 9, 4],\n",
       " [0, 3, 4, 6, 7, 9, 7, 9, 3, 4, 6, 7, 3, 4, 6, 4, 6, 7, 9, 4],\n",
       " [6, 7, 9, 7, 9, 7, 9, 7, 9, 4, 6, 7, 9, 7, 9, 4, 7, 9, 4, 9],\n",
       " [9, 4, 6, 7, 9, 3, 3, 4, 6, 7, 7, 4, 6, 7, 9, 3, 4, 6, 7, 9],\n",
       " [5, 0, 3, 4, 9, 4, 6, 7, 9, 3, 4, 6, 7, 9, 7, 9, 4, 6, 0, 3],\n",
       " [2, 0, 3, 3, 4, 6, 7, 9, 4, 6, 7, 9, 7, 9, 4, 6, 4, 6, 4, 6],\n",
       " [1, 0, 3, 4, 6, 3, 4, 6, 7, 9, 3, 4, 6, 7, 7, 7, 9, 4, 6, 7],\n",
       " [8, 0, 4, 9, 4, 7, 9, 4, 6, 7, 9, 4, 6, 3, 6, 7, 7, 9, 4, 6],\n",
       " [4, 6, 7, 9, 4, 6, 7, 9, 7, 9, 4, 6, 6, 7, 4, 6, 7, 7, 9, 4],\n",
       " [3, 4, 6, 7, 9, 7, 4, 6, 7, 9, 4, 6, 7, 9, 4, 6, 7, 9, 3, 4],\n",
       " [7, 9, 4, 6, 4, 6, 6, 7, 9, 4, 6, 7, 9, 7, 9, 4, 6, 4, 4, 6],\n",
       " [5, 0, 3, 4, 6, 7, 9, 7, 7, 7, 9, 4, 6, 4, 6, 7, 9, 4, 6, 7],\n",
       " [1, 0, 3, 4, 6, 4, 6, 7, 9, 4, 6, 7, 9, 4, 4, 6, 7, 9, 7, 9],\n",
       " [8, 0, 3, 4, 6, 7, 9, 7, 7, 9, 3, 4, 6, 7, 7, 9, 4, 6, 4, 7],\n",
       " [2, 0, 3, 0, 3, 4, 6, 7, 9, 7, 9, 7, 9, 4, 6, 7, 9, 7, 9, 3],\n",
       " [6, 7, 9, 4, 6, 7, 0, 4, 6, 7, 9, 7, 9, 4, 6, 7, 7, 9, 7, 9],\n",
       " [0, 3, 6, 7, 9, 3, 4, 6, 6, 7, 9, 3, 4, 7, 9, 4, 6, 7, 9, 4],\n",
       " [4, 6, 7, 9, 7, 9, 4, 6, 7, 9, 7, 0, 3, 4, 7, 9, 7, 9, 4, 3],\n",
       " [3, 4, 4, 4, 6, 7, 0, 3, 4, 6, 7, 9, 7, 9, 7, 9, 7, 9, 4, 6],\n",
       " [9, 4, 6, 7, 7, 9, 7, 9, 3, 4, 6, 7, 9, 4, 6, 7, 9, 7, 9, 7],\n",
       " [3, 4, 6, 7, 0, 3, 4, 6, 7, 9, 3, 4, 6, 7, 9, 7, 9, 7, 9, 4],\n",
       " [6, 7, 9, 7, 9, 4, 6, 7, 7, 9, 4, 6, 7, 9, 3, 4, 6, 7, 4, 6],\n",
       " [0, 3, 4, 6, 7, 9, 7, 7, 0, 3, 4, 6, 3, 6, 7, 7, 7, 9, 7, 0],\n",
       " [9, 4, 6, 6, 7, 9, 7, 7, 7, 7, 9, 7, 4, 6, 4, 6, 7, 9, 4, 6],\n",
       " [5, 0, 3, 4, 6, 7, 9, 4, 6, 3, 4, 3, 9, 7, 9, 4, 4, 6, 3, 3],\n",
       " [8, 0, 7, 9, 7, 9, 4, 6, 7, 9, 7, 9, 4, 6, 7, 0, 3, 4, 4, 6],\n",
       " [2, 0, 3, 4, 4, 4, 6, 7, 0, 3, 4, 6, 7, 7, 9, 3, 4, 6, 7, 7],\n",
       " [4, 6, 7, 9, 7, 9, 7, 0, 3, 7, 9, 4, 9, 4, 6, 7, 9, 7, 9, 7],\n",
       " [7, 3, 4, 6, 7, 9, 3, 4, 6, 3, 4, 6, 7, 6, 7, 3, 4, 6, 7, 0],\n",
       " [1, 0, 3, 4, 7, 4, 6, 7, 0, 3, 6, 7, 9, 4, 6, 7, 9, 4, 6, 7],\n",
       " [7, 9, 7, 9, 4, 6, 4, 6, 4, 6, 7, 9, 4, 6, 7, 3, 4, 3, 4, 6],\n",
       " [5, 0, 6, 7, 0, 0, 3, 4, 6, 3, 4, 3, 4, 6, 7, 9, 7, 9, 7, 7],\n",
       " [0, 3, 4, 6, 3, 4, 6, 7, 9, 3, 4, 6, 7, 9, 4, 6, 7, 9, 7, 9],\n",
       " [8, 0, 7, 9, 4, 6, 7, 9, 4, 6, 7, 9, 7, 9, 7, 9, 4, 6, 6, 7],\n",
       " [1, 0, 3, 4, 7, 9, 3, 4, 6, 7, 9, 7, 9, 3, 4, 6, 7, 9, 4, 4],\n",
       " [6, 7, 7, 9, 3, 4, 6, 7, 0, 3, 4, 6, 7, 9, 4, 6, 3, 4, 6, 7],\n",
       " [9, 4, 7, 9, 3, 4, 6, 7, 0, 3, 4, 6, 7, 9, 7, 9, 4, 6, 7, 9],\n",
       " [3, 4, 6, 7, 9, 4, 6, 7, 4, 6, 7, 7, 4, 6, 7, 9, 7, 9, 7, 9],\n",
       " [4, 6, 7, 9, 3, 4, 6, 7, 0, 4, 6, 7, 9, 3, 6, 7, 0, 3, 4, 6],\n",
       " [2, 0, 3, 7, 0, 4, 6, 7, 9, 4, 6, 7, 9, 7, 9, 4, 7, 4, 7, 9],\n",
       " [4, 6, 7, 9, 4, 6, 6, 7, 4, 6, 7, 4, 6, 7, 0, 3, 3, 3, 3, 4],\n",
       " [2, 0, 3, 3, 4, 3, 4, 6, 7, 9, 7, 9, 3, 4, 6, 7, 9, 7, 9, 4],\n",
       " [5, 0, 3, 4, 6, 7, 9, 7, 9, 4, 4, 4, 6, 7, 9, 4, 6, 7, 9, 4],\n",
       " [1, 0, 3, 4, 6, 7, 9, 3, 4, 6, 7, 9, 7, 9, 3, 9, 3, 7, 9, 4],\n",
       " [7, 9, 3, 4, 6, 7, 6, 6, 4, 6, 7, 0, 4, 6, 7, 9, 4, 6, 7, 9],\n",
       " [3, 4, 6, 7, 0, 3, 4, 4, 6, 7, 0, 3, 4, 6, 7, 9, 7, 9, 4, 6],\n",
       " [0, 3, 4, 6, 7, 9, 4, 6, 7, 7, 0, 4, 6, 7, 9, 3, 7, 0, 3, 4],\n",
       " [6, 7, 7, 9, 4, 6, 7, 9, 4, 4, 6, 9, 7, 9, 7, 9, 3, 4, 6, 7],\n",
       " [8, 0, 4, 4, 6, 7, 9, 4, 6, 7, 4, 6, 7, 9, 7, 9, 7, 9, 7, 9],\n",
       " [9, 3, 4, 6, 7, 7, 7, 3, 4, 6, 7, 4, 6, 7, 9, 7, 9, 4, 6, 7],\n",
       " [8, 0, 3, 4, 7, 4, 7, 9, 4, 6, 3, 4, 4, 6, 7, 0, 3, 3, 4, 6],\n",
       " [9, 4, 4, 6, 7, 9, 3, 4, 6, 7, 9, 7, 9, 4, 6, 7, 7, 7, 9, 4],\n",
       " [4, 6, 4, 6, 7, 9, 4, 6, 7, 9, 3, 4, 6, 3, 7, 3, 4, 6, 7, 9],\n",
       " [7, 9, 7, 4, 7, 9, 7, 9, 3, 9, 3, 4, 6, 7, 9, 3, 3, 3, 4, 6],\n",
       " [6, 7, 9, 4, 6, 7, 0, 3, 4, 6, 7, 4, 6, 7, 9, 7, 9, 4, 6, 7],\n",
       " [5, 0, 3, 4, 6, 7, 9, 7, 9, 4, 6, 7, 4, 6, 0, 0, 3, 4, 6, 7],\n",
       " [3, 4, 4, 6, 7, 0, 3, 4, 7, 9, 3, 4, 6, 7, 9, 4, 6, 7, 9, 4],\n",
       " [1, 0, 3, 4, 6, 7, 4, 6, 7, 9, 4, 7, 0, 3, 4, 4, 7, 9, 3, 4],\n",
       " [0, 4, 4, 6, 7, 0, 3, 4, 6, 4, 6, 7, 0, 4, 6, 7, 9, 4, 6, 7],\n",
       " [2, 0, 3, 4, 6, 3, 4, 6, 7, 9, 4, 6, 7, 9, 7, 9, 7, 7, 9, 4]]"
      ]
     },
     "execution_count": 52,
     "metadata": {},
     "output_type": "execute_result"
    }
   ],
   "source": [
    "Word2Vec()"
   ]
  },
  {
   "cell_type": "code",
   "execution_count": null,
   "metadata": {},
   "outputs": [],
   "source": []
  }
 ],
 "metadata": {
  "kernelspec": {
   "display_name": "Python 3",
   "language": "python",
   "name": "python3"
  },
  "language_info": {
   "codemirror_mode": {
    "name": "ipython",
    "version": 3
   },
   "file_extension": ".py",
   "mimetype": "text/x-python",
   "name": "python",
   "nbconvert_exporter": "python",
   "pygments_lexer": "ipython3",
   "version": "3.6.3"
  }
 },
 "nbformat": 4,
 "nbformat_minor": 2
}
