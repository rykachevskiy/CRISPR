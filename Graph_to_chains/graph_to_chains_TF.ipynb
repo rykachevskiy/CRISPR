{
 "cells": [
  {
   "cell_type": "code",
   "execution_count": 1,
   "metadata": {},
   "outputs": [
    {
     "name": "stderr",
     "output_type": "stream",
     "text": [
      "/home/anton/anaconda3/lib/python3.6/site-packages/h5py/__init__.py:34: FutureWarning: Conversion of the second argument of issubdtype from `float` to `np.floating` is deprecated. In future, it will be treated as `np.float64 == np.dtype(float).type`.\n",
      "  from ._conv import register_converters as _register_converters\n",
      "Using TensorFlow backend.\n"
     ]
    }
   ],
   "source": [
    "import tensorflow as tf\n",
    "\n",
    "from keras.layers import Dense, Flatten\n",
    "from keras.losses import categorical_crossentropy\n",
    "\n",
    "\n",
    "import numpy as np\n",
    "import matplotlib.pyplot as plt\n",
    "import json\n",
    "\n",
    "\n",
    "from IPython import display\n",
    "%matplotlib inline"
   ]
  },
  {
   "cell_type": "code",
   "execution_count": 2,
   "metadata": {},
   "outputs": [],
   "source": [
    "import sys\n",
    "sys.path.append(\"../\")\n",
    "sys.path.append(\"../utils/\")"
   ]
  },
  {
   "cell_type": "code",
   "execution_count": 3,
   "metadata": {},
   "outputs": [],
   "source": [
    "def plot_gr(gr, start=0, end=-1, log = False, all_ticks = False,  s=10):\n",
    "    plt.figure(figsize=(s,s))\n",
    "    if end == -1:\n",
    "        end = gr.shape[0]\n",
    "    if log:\n",
    "        plt.imshow(np.log(gr[start:end,start:end] + 1))\n",
    "    else:\n",
    "        plt.imshow(gr[start:end,start:end])\n",
    "    plt.colorbar()\n",
    "    if all_ticks: \n",
    "        plt.xticks(np.arange(start,end))\n",
    "        plt.yticks(np.arange(start,end))\n",
    "    plt.show()"
   ]
  },
  {
   "cell_type": "code",
   "execution_count": 4,
   "metadata": {},
   "outputs": [],
   "source": [
    "def plot_pair(x,y):\n",
    "    plt.figure(figsize=(s,s))\n",
    "    f, (a1,a2) = plt.subplots(1, 2)\n",
    "    \n",
    "    a1.imshow(x)\n",
    "    a2.imshow(y)\n",
    "    plt.show()"
   ]
  },
  {
   "cell_type": "code",
   "execution_count": 5,
   "metadata": {},
   "outputs": [],
   "source": [
    "def plot_group(*args, s = 7):\n",
    "    n = len(args) // 2\n",
    "    \n",
    "    plt.figure(figsize=(s,s))\n",
    "    f, a = plt.subplots(1, n,figsize=(s,s))\n",
    "    #f.set_figsize((s,s))\n",
    "    for i in range(n):\n",
    "        im = args[2*i]\n",
    "        if args[2*i + 1]:\n",
    "            im = np.log(im + 1)\n",
    "        a[i].imshow(im)\n",
    "\n",
    "    plt.show()"
   ]
  },
  {
   "cell_type": "code",
   "execution_count": 6,
   "metadata": {},
   "outputs": [],
   "source": [
    "synthetic_populations = np.load(\"../../data/simulation/simple1k/populations.npy\")\n",
    "y = np.load(\"../../data/simulation/simple1k//populations_gr.npy\")\n",
    "X = np.load(\"../../data/simulation/simple1k//amp_gr.npy\")\n",
    "\n",
    "params = json.load(open(\"../../data/simulation/simple1k//params.json\", 'r'))"
   ]
  },
  {
   "cell_type": "code",
   "execution_count": 7,
   "metadata": {},
   "outputs": [
    {
     "data": {
      "text/plain": [
       "(1000, 10, 10)"
      ]
     },
     "execution_count": 7,
     "metadata": {},
     "output_type": "execute_result"
    }
   ],
   "source": [
    "X.shape"
   ]
  },
  {
   "cell_type": "code",
   "execution_count": 8,
   "metadata": {},
   "outputs": [],
   "source": [
    "def norm(x):\n",
    "    maxes = x.max(2)\n",
    "    maxes[maxes == 0] = 1\n",
    "    print(maxes.astype(int))\n",
    "    return x / maxes.reshape(x.shape[0], x.shape[1], 1)"
   ]
  },
  {
   "cell_type": "code",
   "execution_count": 9,
   "metadata": {},
   "outputs": [
    {
     "data": {
      "text/plain": [
       "array([   0.,   14.,  275.,    0., 1253.,  380.,  690., 1630.,    0.,\n",
       "          0.])"
      ]
     },
     "execution_count": 9,
     "metadata": {},
     "output_type": "execute_result"
    }
   ],
   "source": [
    "X[0].max(1)"
   ]
  },
  {
   "cell_type": "code",
   "execution_count": 10,
   "metadata": {},
   "outputs": [
    {
     "name": "stdout",
     "output_type": "stream",
     "text": [
      "[[   1   14  275 ... 1630    1    1]\n",
      " [ 316  548  321 ...   63  699    9]\n",
      " [ 182  102  485 ...  159  965  938]\n",
      " ...\n",
      " [ 573  455  385 ...  246  175  264]\n",
      " [   1  554  636 ...  448  438  641]\n",
      " [   2  502  515 ...  558  188  557]]\n"
     ]
    }
   ],
   "source": [
    "X = norm(X)"
   ]
  },
  {
   "cell_type": "code",
   "execution_count": 12,
   "metadata": {},
   "outputs": [
    {
     "data": {
      "text/plain": [
       "<matplotlib.figure.Figure at 0x7f6694b032e8>"
      ]
     },
     "metadata": {},
     "output_type": "display_data"
    },
    {
     "data": {
      "image/png": "[encoded data removed]",
      "text/plain": [
       "<matplotlib.figure.Figure at 0x7f6694b03a58>"
      ]
     },
     "metadata": {},
     "output_type": "display_data"
    }
   ],
   "source": [
    "plot_group(X[1], 1, X[1], 1)"
   ]
  },
  {
   "cell_type": "code",
   "execution_count": 114,
   "metadata": {},
   "outputs": [
    {
     "data": {
      "text/plain": [
       "{'N_POPULATONS': 1000,\n",
       " 'N_SPACERS': 10,\n",
       " 'N_CHAINS': 6,\n",
       " 'MAX_LEN': 10,\n",
       " 'SWITCH_PROB': 0.05,\n",
       " 'AMPLIFY_PROB': 0.35,\n",
       " 'STOP_PROB': 0,\n",
       " 'MAX_POPULATION_SIZE': 10000}"
      ]
     },
     "execution_count": 114,
     "metadata": {},
     "output_type": "execute_result"
    }
   ],
   "source": [
    "params"
   ]
  },
  {
   "cell_type": "code",
   "execution_count": 115,
   "metadata": {},
   "outputs": [
    {
     "data": {
      "text/plain": [
       "<matplotlib.image.AxesImage at 0x7f6dd2a3bef0>"
      ]
     },
     "execution_count": 115,
     "metadata": {},
     "output_type": "execute_result"
    },
    {
     "data": {
      "image/png": "[encoded data removed]",
      "text/plain": [
       "<matplotlib.figure.Figure at 0x7f6dd2b01f60>"
      ]
     },
     "metadata": {},
     "output_type": "display_data"
    }
   ],
   "source": [
    "plt.imshow(X[5])"
   ]
  },
  {
   "cell_type": "code",
   "execution_count": 116,
   "metadata": {},
   "outputs": [
    {
     "data": {
      "text/plain": [
       "<matplotlib.image.AxesImage at 0x7f6dd2751780>"
      ]
     },
     "execution_count": 116,
     "metadata": {},
     "output_type": "execute_result"
    },
    {
     "data": {
      "image/png": "[encoded data removed]",
      "text/plain": [
       "<matplotlib.figure.Figure at 0x7f6dd24e7908>"
      ]
     },
     "metadata": {},
     "output_type": "display_data"
    }
   ],
   "source": [
    "plt.imshow(y[5])"
   ]
  },
  {
   "cell_type": "code",
   "execution_count": 302,
   "metadata": {},
   "outputs": [],
   "source": [
    "tf.reset_default_graph()\n",
    "sess = tf.InteractiveSession()"
   ]
  },
  {
   "cell_type": "code",
   "execution_count": 303,
   "metadata": {},
   "outputs": [],
   "source": [
    "inp = tf.placeholder(tf.float32, [None, params[\"N_SPACERS\"] * (params[\"N_SPACERS\"] + 5)])\n",
    "\n",
    "#flatten = Flatten()(inp)\n",
    "dense_1 = Dense(200, activation=tf.nn.relu)(inp)\n",
    "dense_2 = Dense(200, activation=tf.nn.relu)(dense_1)\n",
    "\n",
    "out = Dense(params[\"N_SPACERS\"] * params[\"N_SPACERS\"], activation=tf.nn.sigmoid)(dense_2)"
   ]
  },
  {
   "cell_type": "code",
   "execution_count": 304,
   "metadata": {},
   "outputs": [],
   "source": [
    "target = tf.placeholder(tf.float32, [None, params[\"N_SPACERS\"]* params[\"N_SPACERS\"]])"
   ]
  },
  {
   "cell_type": "code",
   "execution_count": 305,
   "metadata": {},
   "outputs": [],
   "source": [
    "loss = tf.reduce_mean(tf.losses.log_loss(target, out, weights=target*10 + 1))\n",
    "#loss = tf.reduce_mean(tf.losses.mean_squared_error(target, out) * (target * 10 + 1))"
   ]
  },
  {
   "cell_type": "code",
   "execution_count": 306,
   "metadata": {},
   "outputs": [],
   "source": [
    "optimizer = tf.train.AdamOptimizer()\n",
    "train_step = optimizer.minimize(loss)"
   ]
  },
  {
   "cell_type": "code",
   "execution_count": null,
   "metadata": {},
   "outputs": [],
   "source": []
  },
  {
   "cell_type": "code",
   "execution_count": 307,
   "metadata": {},
   "outputs": [],
   "source": [
    "\n",
    "#sess = tf.InteractiveSession()\n",
    "sess.run(tf.global_variables_initializer())"
   ]
  },
  {
   "cell_type": "code",
   "execution_count": 308,
   "metadata": {},
   "outputs": [],
   "source": [
    "gr = tf.get_default_graph()\n",
    "\n",
    "writer = tf.summary.FileWriter(\"../tf_logs\", gr)"
   ]
  },
  {
   "cell_type": "code",
   "execution_count": 312,
   "metadata": {},
   "outputs": [
    {
     "data": {
      "text/plain": [
       "1.243778"
      ]
     },
     "execution_count": 312,
     "metadata": {},
     "output_type": "execute_result"
    }
   ],
   "source": [
    "sess.run(loss, feed_dict = {inp : np.hstack((X[:50], X_emb[:50, :5])).reshape(-1,150), target : y[:50].reshape(-1,100)})"
   ]
  },
  {
   "cell_type": "code",
   "execution_count": null,
   "metadata": {},
   "outputs": [],
   "source": []
  },
  {
   "cell_type": "code",
   "execution_count": 313,
   "metadata": {},
   "outputs": [],
   "source": [
    "losses_each_n = []\n",
    "val_losses = []\n",
    "val_x = []\n",
    "n = 10\n",
    "curr_loss = 0\n"
   ]
  },
  {
   "cell_type": "code",
   "execution_count": 314,
   "metadata": {},
   "outputs": [],
   "source": [
    "epochs = 100"
   ]
  },
  {
   "cell_type": "code",
   "execution_count": 319,
   "metadata": {},
   "outputs": [],
   "source": [
    "def iterate_minibatches(x, y, batchsize, shuffle=True):\n",
    "    if shuffle:\n",
    "        indices = np.arange(y.shape[0])\n",
    "        np.random.shuffle(indices)\n",
    "    for start_idx in range(0, y.shape[0] - batchsize + 1, batchsize):\n",
    "        if shuffle:\n",
    "            excerpt = indices[start_idx:start_idx + batchsize]\n",
    "        else:\n",
    "            excerpt = slice(start_idx, start_idx + batchsize)\n",
    "        yield x[excerpt].reshape(-1,params[\"N_SPACERS\"] * (params[\"N_SPACERS\"] + 5)) , y[excerpt].reshape(-1,params[\"N_SPACERS\"] * params[\"N_SPACERS\"])"
   ]
  },
  {
   "cell_type": "code",
   "execution_count": 322,
   "metadata": {},
   "outputs": [
    {
     "data": {
      "text/plain": [
       "(800, 20, 10)"
      ]
     },
     "execution_count": 322,
     "metadata": {},
     "output_type": "execute_result"
    }
   ],
   "source": [
    "np.hstack((X, X_emb))[:800].shape"
   ]
  },
  {
   "cell_type": "code",
   "execution_count": 325,
   "metadata": {},
   "outputs": [
    {
     "ename": "KeyboardInterrupt",
     "evalue": "",
     "output_type": "error",
     "traceback": [
      "\u001b[0;31m---------------------------------------------------------------------------\u001b[0m",
      "\u001b[0;31mTypeError\u001b[0m                                 Traceback (most recent call last)",
      "\u001b[0;32m~/anaconda3/lib/python3.6/site-packages/matplotlib/text.py\u001b[0m in \u001b[0;36mget_rotation\u001b[0;34m(rotation)\u001b[0m\n\u001b[1;32m     71\u001b[0m     \u001b[0;32mtry\u001b[0m\u001b[0;34m:\u001b[0m\u001b[0;34m\u001b[0m\u001b[0m\n\u001b[0;32m---> 72\u001b[0;31m         \u001b[0mangle\u001b[0m \u001b[0;34m=\u001b[0m \u001b[0mfloat\u001b[0m\u001b[0;34m(\u001b[0m\u001b[0mrotation\u001b[0m\u001b[0;34m)\u001b[0m\u001b[0;34m\u001b[0m\u001b[0m\n\u001b[0m\u001b[1;32m     73\u001b[0m     \u001b[0;32mexcept\u001b[0m \u001b[0;34m(\u001b[0m\u001b[0mValueError\u001b[0m\u001b[0;34m,\u001b[0m \u001b[0mTypeError\u001b[0m\u001b[0;34m)\u001b[0m\u001b[0;34m:\u001b[0m\u001b[0;34m\u001b[0m\u001b[0m\n",
      "\u001b[0;31mTypeError\u001b[0m: float() argument must be a string or a number, not 'NoneType'",
      "\nDuring handling of the above exception, another exception occurred:\n",
      "\u001b[0;31mKeyboardInterrupt\u001b[0m                         Traceback (most recent call last)",
      "\u001b[0;32m<ipython-input-325-2afb13a84fbf>\u001b[0m in \u001b[0;36m<module>\u001b[0;34m()\u001b[0m\n\u001b[1;32m     16\u001b[0m             \u001b[0mplt\u001b[0m\u001b[0;34m.\u001b[0m\u001b[0mplot\u001b[0m\u001b[0;34m(\u001b[0m\u001b[0mval_x\u001b[0m\u001b[0;34m,\u001b[0m \u001b[0mval_losses\u001b[0m\u001b[0;34m,\u001b[0m \u001b[0mlabel\u001b[0m\u001b[0;34m=\u001b[0m\u001b[0;34m'test'\u001b[0m\u001b[0;34m)\u001b[0m\u001b[0;34m\u001b[0m\u001b[0m\n\u001b[1;32m     17\u001b[0m             \u001b[0mplt\u001b[0m\u001b[0;34m.\u001b[0m\u001b[0mlegend\u001b[0m\u001b[0;34m(\u001b[0m\u001b[0;34m)\u001b[0m\u001b[0;34m\u001b[0m\u001b[0m\n\u001b[0;32m---> 18\u001b[0;31m             \u001b[0mplt\u001b[0m\u001b[0;34m.\u001b[0m\u001b[0mshow\u001b[0m\u001b[0;34m(\u001b[0m\u001b[0;34m)\u001b[0m\u001b[0;34m\u001b[0m\u001b[0m\n\u001b[0m\u001b[1;32m     19\u001b[0m \u001b[0;34m\u001b[0m\u001b[0m\n\u001b[1;32m     20\u001b[0m     \u001b[0mval_loss\u001b[0m \u001b[0;34m=\u001b[0m \u001b[0msess\u001b[0m\u001b[0;34m.\u001b[0m\u001b[0mrun\u001b[0m\u001b[0;34m(\u001b[0m\u001b[0mloss\u001b[0m\u001b[0;34m,\u001b[0m  \u001b[0mfeed_dict\u001b[0m\u001b[0;34m=\u001b[0m\u001b[0;34m{\u001b[0m\u001b[0minp\u001b[0m \u001b[0;34m:\u001b[0m \u001b[0mnp\u001b[0m\u001b[0;34m.\u001b[0m\u001b[0mhstack\u001b[0m\u001b[0;34m(\u001b[0m\u001b[0;34m(\u001b[0m\u001b[0mX\u001b[0m\u001b[0;34m,\u001b[0m \u001b[0mX_emb\u001b[0m\u001b[0;34m[\u001b[0m\u001b[0;34m:\u001b[0m\u001b[0;34m,\u001b[0m\u001b[0;34m:\u001b[0m\u001b[0;36m5\u001b[0m\u001b[0;34m]\u001b[0m\u001b[0;34m)\u001b[0m\u001b[0;34m)\u001b[0m\u001b[0;34m[\u001b[0m\u001b[0;36m800\u001b[0m\u001b[0;34m:\u001b[0m\u001b[0;34m]\u001b[0m\u001b[0;34m.\u001b[0m\u001b[0mreshape\u001b[0m\u001b[0;34m(\u001b[0m\u001b[0;34m-\u001b[0m\u001b[0;36m1\u001b[0m\u001b[0;34m,\u001b[0m \u001b[0;36m150\u001b[0m\u001b[0;34m)\u001b[0m\u001b[0;34m,\u001b[0m \u001b[0mtarget\u001b[0m\u001b[0;34m:\u001b[0m \u001b[0my\u001b[0m\u001b[0;34m[\u001b[0m\u001b[0;36m800\u001b[0m\u001b[0;34m:\u001b[0m\u001b[0;34m]\u001b[0m\u001b[0;34m.\u001b[0m\u001b[0mreshape\u001b[0m\u001b[0;34m(\u001b[0m\u001b[0;34m-\u001b[0m\u001b[0;36m1\u001b[0m\u001b[0;34m,\u001b[0m \u001b[0;36m100\u001b[0m\u001b[0;34m)\u001b[0m\u001b[0;34m}\u001b[0m\u001b[0;34m)\u001b[0m\u001b[0;34m\u001b[0m\u001b[0m\n",
      "\u001b[0;32m~/anaconda3/lib/python3.6/site-packages/matplotlib/pyplot.py\u001b[0m in \u001b[0;36mshow\u001b[0;34m(*args, **kw)\u001b[0m\n\u001b[1;32m    249\u001b[0m     \"\"\"\n\u001b[1;32m    250\u001b[0m     \u001b[0;32mglobal\u001b[0m \u001b[0m_show\u001b[0m\u001b[0;34m\u001b[0m\u001b[0m\n\u001b[0;32m--> 251\u001b[0;31m     \u001b[0;32mreturn\u001b[0m \u001b[0m_show\u001b[0m\u001b[0;34m(\u001b[0m\u001b[0;34m*\u001b[0m\u001b[0margs\u001b[0m\u001b[0;34m,\u001b[0m \u001b[0;34m**\u001b[0m\u001b[0mkw\u001b[0m\u001b[0;34m)\u001b[0m\u001b[0;34m\u001b[0m\u001b[0m\n\u001b[0m\u001b[1;32m    252\u001b[0m \u001b[0;34m\u001b[0m\u001b[0m\n\u001b[1;32m    253\u001b[0m \u001b[0;34m\u001b[0m\u001b[0m\n",
      "\u001b[0;32m~/anaconda3/lib/python3.6/site-packages/ipykernel/pylab/backend_inline.py\u001b[0m in \u001b[0;36mshow\u001b[0;34m(close, block)\u001b[0m\n\u001b[1;32m     34\u001b[0m     \u001b[0;32mtry\u001b[0m\u001b[0;34m:\u001b[0m\u001b[0;34m\u001b[0m\u001b[0m\n\u001b[1;32m     35\u001b[0m         \u001b[0;32mfor\u001b[0m \u001b[0mfigure_manager\u001b[0m \u001b[0;32min\u001b[0m \u001b[0mGcf\u001b[0m\u001b[0;34m.\u001b[0m\u001b[0mget_all_fig_managers\u001b[0m\u001b[0;34m(\u001b[0m\u001b[0;34m)\u001b[0m\u001b[0;34m:\u001b[0m\u001b[0;34m\u001b[0m\u001b[0m\n\u001b[0;32m---> 36\u001b[0;31m             \u001b[0mdisplay\u001b[0m\u001b[0;34m(\u001b[0m\u001b[0mfigure_manager\u001b[0m\u001b[0;34m.\u001b[0m\u001b[0mcanvas\u001b[0m\u001b[0;34m.\u001b[0m\u001b[0mfigure\u001b[0m\u001b[0;34m)\u001b[0m\u001b[0;34m\u001b[0m\u001b[0m\n\u001b[0m\u001b[1;32m     37\u001b[0m     \u001b[0;32mfinally\u001b[0m\u001b[0;34m:\u001b[0m\u001b[0;34m\u001b[0m\u001b[0m\n\u001b[1;32m     38\u001b[0m         \u001b[0mshow\u001b[0m\u001b[0;34m.\u001b[0m\u001b[0m_to_draw\u001b[0m \u001b[0;34m=\u001b[0m \u001b[0;34m[\u001b[0m\u001b[0;34m]\u001b[0m\u001b[0;34m\u001b[0m\u001b[0m\n",
      "\u001b[0;32m~/anaconda3/lib/python3.6/site-packages/IPython/core/display.py\u001b[0m in \u001b[0;36mdisplay\u001b[0;34m(include, exclude, metadata, transient, display_id, *objs, **kwargs)\u001b[0m\n\u001b[1;32m    296\u001b[0m             \u001b[0mpublish_display_data\u001b[0m\u001b[0;34m(\u001b[0m\u001b[0mdata\u001b[0m\u001b[0;34m=\u001b[0m\u001b[0mobj\u001b[0m\u001b[0;34m,\u001b[0m \u001b[0mmetadata\u001b[0m\u001b[0;34m=\u001b[0m\u001b[0mmetadata\u001b[0m\u001b[0;34m,\u001b[0m \u001b[0;34m**\u001b[0m\u001b[0mkwargs\u001b[0m\u001b[0;34m)\u001b[0m\u001b[0;34m\u001b[0m\u001b[0m\n\u001b[1;32m    297\u001b[0m         \u001b[0;32melse\u001b[0m\u001b[0;34m:\u001b[0m\u001b[0;34m\u001b[0m\u001b[0m\n\u001b[0;32m--> 298\u001b[0;31m             \u001b[0mformat_dict\u001b[0m\u001b[0;34m,\u001b[0m \u001b[0mmd_dict\u001b[0m \u001b[0;34m=\u001b[0m \u001b[0mformat\u001b[0m\u001b[0;34m(\u001b[0m\u001b[0mobj\u001b[0m\u001b[0;34m,\u001b[0m \u001b[0minclude\u001b[0m\u001b[0;34m=\u001b[0m\u001b[0minclude\u001b[0m\u001b[0;34m,\u001b[0m \u001b[0mexclude\u001b[0m\u001b[0;34m=\u001b[0m\u001b[0mexclude\u001b[0m\u001b[0;34m)\u001b[0m\u001b[0;34m\u001b[0m\u001b[0m\n\u001b[0m\u001b[1;32m    299\u001b[0m             \u001b[0;32mif\u001b[0m \u001b[0;32mnot\u001b[0m \u001b[0mformat_dict\u001b[0m\u001b[0;34m:\u001b[0m\u001b[0;34m\u001b[0m\u001b[0m\n\u001b[1;32m    300\u001b[0m                 \u001b[0;31m# nothing to display (e.g. _ipython_display_ took over)\u001b[0m\u001b[0;34m\u001b[0m\u001b[0;34m\u001b[0m\u001b[0m\n",
      "\u001b[0;32m~/anaconda3/lib/python3.6/site-packages/IPython/core/formatters.py\u001b[0m in \u001b[0;36mformat\u001b[0;34m(self, obj, include, exclude)\u001b[0m\n\u001b[1;32m    178\u001b[0m             \u001b[0mmd\u001b[0m \u001b[0;34m=\u001b[0m \u001b[0;32mNone\u001b[0m\u001b[0;34m\u001b[0m\u001b[0m\n\u001b[1;32m    179\u001b[0m             \u001b[0;32mtry\u001b[0m\u001b[0;34m:\u001b[0m\u001b[0;34m\u001b[0m\u001b[0m\n\u001b[0;32m--> 180\u001b[0;31m                 \u001b[0mdata\u001b[0m \u001b[0;34m=\u001b[0m \u001b[0mformatter\u001b[0m\u001b[0;34m(\u001b[0m\u001b[0mobj\u001b[0m\u001b[0;34m)\u001b[0m\u001b[0;34m\u001b[0m\u001b[0m\n\u001b[0m\u001b[1;32m    181\u001b[0m             \u001b[0;32mexcept\u001b[0m\u001b[0;34m:\u001b[0m\u001b[0;34m\u001b[0m\u001b[0m\n\u001b[1;32m    182\u001b[0m                 \u001b[0;31m# FIXME: log the exception\u001b[0m\u001b[0;34m\u001b[0m\u001b[0;34m\u001b[0m\u001b[0m\n",
      "\u001b[0;32m<decorator-gen-9>\u001b[0m in \u001b[0;36m__call__\u001b[0;34m(self, obj)\u001b[0m\n",
      "\u001b[0;32m~/anaconda3/lib/python3.6/site-packages/IPython/core/formatters.py\u001b[0m in \u001b[0;36mcatch_format_error\u001b[0;34m(method, self, *args, **kwargs)\u001b[0m\n\u001b[1;32m    222\u001b[0m     \u001b[0;34m\"\"\"show traceback on failed format call\"\"\"\u001b[0m\u001b[0;34m\u001b[0m\u001b[0m\n\u001b[1;32m    223\u001b[0m     \u001b[0;32mtry\u001b[0m\u001b[0;34m:\u001b[0m\u001b[0;34m\u001b[0m\u001b[0m\n\u001b[0;32m--> 224\u001b[0;31m         \u001b[0mr\u001b[0m \u001b[0;34m=\u001b[0m \u001b[0mmethod\u001b[0m\u001b[0;34m(\u001b[0m\u001b[0mself\u001b[0m\u001b[0;34m,\u001b[0m \u001b[0;34m*\u001b[0m\u001b[0margs\u001b[0m\u001b[0;34m,\u001b[0m \u001b[0;34m**\u001b[0m\u001b[0mkwargs\u001b[0m\u001b[0;34m)\u001b[0m\u001b[0;34m\u001b[0m\u001b[0m\n\u001b[0m\u001b[1;32m    225\u001b[0m     \u001b[0;32mexcept\u001b[0m \u001b[0mNotImplementedError\u001b[0m\u001b[0;34m:\u001b[0m\u001b[0;34m\u001b[0m\u001b[0m\n\u001b[1;32m    226\u001b[0m         \u001b[0;31m# don't warn on NotImplementedErrors\u001b[0m\u001b[0;34m\u001b[0m\u001b[0;34m\u001b[0m\u001b[0m\n",
      "\u001b[0;32m~/anaconda3/lib/python3.6/site-packages/IPython/core/formatters.py\u001b[0m in \u001b[0;36m__call__\u001b[0;34m(self, obj)\u001b[0m\n\u001b[1;32m    339\u001b[0m                 \u001b[0;32mpass\u001b[0m\u001b[0;34m\u001b[0m\u001b[0m\n\u001b[1;32m    340\u001b[0m             \u001b[0;32melse\u001b[0m\u001b[0;34m:\u001b[0m\u001b[0;34m\u001b[0m\u001b[0m\n\u001b[0;32m--> 341\u001b[0;31m                 \u001b[0;32mreturn\u001b[0m \u001b[0mprinter\u001b[0m\u001b[0;34m(\u001b[0m\u001b[0mobj\u001b[0m\u001b[0;34m)\u001b[0m\u001b[0;34m\u001b[0m\u001b[0m\n\u001b[0m\u001b[1;32m    342\u001b[0m             \u001b[0;31m# Finally look for special method names\u001b[0m\u001b[0;34m\u001b[0m\u001b[0;34m\u001b[0m\u001b[0m\n\u001b[1;32m    343\u001b[0m             \u001b[0mmethod\u001b[0m \u001b[0;34m=\u001b[0m \u001b[0mget_real_method\u001b[0m\u001b[0;34m(\u001b[0m\u001b[0mobj\u001b[0m\u001b[0;34m,\u001b[0m \u001b[0mself\u001b[0m\u001b[0;34m.\u001b[0m\u001b[0mprint_method\u001b[0m\u001b[0;34m)\u001b[0m\u001b[0;34m\u001b[0m\u001b[0m\n",
      "\u001b[0;32m~/anaconda3/lib/python3.6/site-packages/IPython/core/pylabtools.py\u001b[0m in \u001b[0;36m<lambda>\u001b[0;34m(fig)\u001b[0m\n\u001b[1;32m    239\u001b[0m \u001b[0;34m\u001b[0m\u001b[0m\n\u001b[1;32m    240\u001b[0m     \u001b[0;32mif\u001b[0m \u001b[0;34m'png'\u001b[0m \u001b[0;32min\u001b[0m \u001b[0mformats\u001b[0m\u001b[0;34m:\u001b[0m\u001b[0;34m\u001b[0m\u001b[0m\n\u001b[0;32m--> 241\u001b[0;31m         \u001b[0mpng_formatter\u001b[0m\u001b[0;34m.\u001b[0m\u001b[0mfor_type\u001b[0m\u001b[0;34m(\u001b[0m\u001b[0mFigure\u001b[0m\u001b[0;34m,\u001b[0m \u001b[0;32mlambda\u001b[0m \u001b[0mfig\u001b[0m\u001b[0;34m:\u001b[0m \u001b[0mprint_figure\u001b[0m\u001b[0;34m(\u001b[0m\u001b[0mfig\u001b[0m\u001b[0;34m,\u001b[0m \u001b[0;34m'png'\u001b[0m\u001b[0;34m,\u001b[0m \u001b[0;34m**\u001b[0m\u001b[0mkwargs\u001b[0m\u001b[0;34m)\u001b[0m\u001b[0;34m)\u001b[0m\u001b[0;34m\u001b[0m\u001b[0m\n\u001b[0m\u001b[1;32m    242\u001b[0m     \u001b[0;32mif\u001b[0m \u001b[0;34m'retina'\u001b[0m \u001b[0;32min\u001b[0m \u001b[0mformats\u001b[0m \u001b[0;32mor\u001b[0m \u001b[0;34m'png2x'\u001b[0m \u001b[0;32min\u001b[0m \u001b[0mformats\u001b[0m\u001b[0;34m:\u001b[0m\u001b[0;34m\u001b[0m\u001b[0m\n\u001b[1;32m    243\u001b[0m         \u001b[0mpng_formatter\u001b[0m\u001b[0;34m.\u001b[0m\u001b[0mfor_type\u001b[0m\u001b[0;34m(\u001b[0m\u001b[0mFigure\u001b[0m\u001b[0;34m,\u001b[0m \u001b[0;32mlambda\u001b[0m \u001b[0mfig\u001b[0m\u001b[0;34m:\u001b[0m \u001b[0mretina_figure\u001b[0m\u001b[0;34m(\u001b[0m\u001b[0mfig\u001b[0m\u001b[0;34m,\u001b[0m \u001b[0;34m**\u001b[0m\u001b[0mkwargs\u001b[0m\u001b[0;34m)\u001b[0m\u001b[0;34m)\u001b[0m\u001b[0;34m\u001b[0m\u001b[0m\n",
      "\u001b[0;32m~/anaconda3/lib/python3.6/site-packages/IPython/core/pylabtools.py\u001b[0m in \u001b[0;36mprint_figure\u001b[0;34m(fig, fmt, bbox_inches, **kwargs)\u001b[0m\n\u001b[1;32m    123\u001b[0m \u001b[0;34m\u001b[0m\u001b[0m\n\u001b[1;32m    124\u001b[0m     \u001b[0mbytes_io\u001b[0m \u001b[0;34m=\u001b[0m \u001b[0mBytesIO\u001b[0m\u001b[0;34m(\u001b[0m\u001b[0;34m)\u001b[0m\u001b[0;34m\u001b[0m\u001b[0m\n\u001b[0;32m--> 125\u001b[0;31m     \u001b[0mfig\u001b[0m\u001b[0;34m.\u001b[0m\u001b[0mcanvas\u001b[0m\u001b[0;34m.\u001b[0m\u001b[0mprint_figure\u001b[0m\u001b[0;34m(\u001b[0m\u001b[0mbytes_io\u001b[0m\u001b[0;34m,\u001b[0m \u001b[0;34m**\u001b[0m\u001b[0mkw\u001b[0m\u001b[0;34m)\u001b[0m\u001b[0;34m\u001b[0m\u001b[0m\n\u001b[0m\u001b[1;32m    126\u001b[0m     \u001b[0mdata\u001b[0m \u001b[0;34m=\u001b[0m \u001b[0mbytes_io\u001b[0m\u001b[0;34m.\u001b[0m\u001b[0mgetvalue\u001b[0m\u001b[0;34m(\u001b[0m\u001b[0;34m)\u001b[0m\u001b[0;34m\u001b[0m\u001b[0m\n\u001b[1;32m    127\u001b[0m     \u001b[0;32mif\u001b[0m \u001b[0mfmt\u001b[0m \u001b[0;34m==\u001b[0m \u001b[0;34m'svg'\u001b[0m\u001b[0;34m:\u001b[0m\u001b[0;34m\u001b[0m\u001b[0m\n",
      "\u001b[0;32m~/anaconda3/lib/python3.6/site-packages/matplotlib/backend_bases.py\u001b[0m in \u001b[0;36mprint_figure\u001b[0;34m(self, filename, dpi, facecolor, edgecolor, orientation, format, **kwargs)\u001b[0m\n\u001b[1;32m   2206\u001b[0m                     \u001b[0morientation\u001b[0m\u001b[0;34m=\u001b[0m\u001b[0morientation\u001b[0m\u001b[0;34m,\u001b[0m\u001b[0;34m\u001b[0m\u001b[0m\n\u001b[1;32m   2207\u001b[0m                     \u001b[0mdryrun\u001b[0m\u001b[0;34m=\u001b[0m\u001b[0;32mTrue\u001b[0m\u001b[0;34m,\u001b[0m\u001b[0;34m\u001b[0m\u001b[0m\n\u001b[0;32m-> 2208\u001b[0;31m                     **kwargs)\n\u001b[0m\u001b[1;32m   2209\u001b[0m                 \u001b[0mrenderer\u001b[0m \u001b[0;34m=\u001b[0m \u001b[0mself\u001b[0m\u001b[0;34m.\u001b[0m\u001b[0mfigure\u001b[0m\u001b[0;34m.\u001b[0m\u001b[0m_cachedRenderer\u001b[0m\u001b[0;34m\u001b[0m\u001b[0m\n\u001b[1;32m   2210\u001b[0m                 \u001b[0mbbox_inches\u001b[0m \u001b[0;34m=\u001b[0m \u001b[0mself\u001b[0m\u001b[0;34m.\u001b[0m\u001b[0mfigure\u001b[0m\u001b[0;34m.\u001b[0m\u001b[0mget_tightbbox\u001b[0m\u001b[0;34m(\u001b[0m\u001b[0mrenderer\u001b[0m\u001b[0;34m)\u001b[0m\u001b[0;34m\u001b[0m\u001b[0m\n",
      "\u001b[0;32m~/anaconda3/lib/python3.6/site-packages/matplotlib/backends/backend_agg.py\u001b[0m in \u001b[0;36mprint_png\u001b[0;34m(self, filename_or_obj, *args, **kwargs)\u001b[0m\n\u001b[1;32m    505\u001b[0m \u001b[0;34m\u001b[0m\u001b[0m\n\u001b[1;32m    506\u001b[0m     \u001b[0;32mdef\u001b[0m \u001b[0mprint_png\u001b[0m\u001b[0;34m(\u001b[0m\u001b[0mself\u001b[0m\u001b[0;34m,\u001b[0m \u001b[0mfilename_or_obj\u001b[0m\u001b[0;34m,\u001b[0m \u001b[0;34m*\u001b[0m\u001b[0margs\u001b[0m\u001b[0;34m,\u001b[0m \u001b[0;34m**\u001b[0m\u001b[0mkwargs\u001b[0m\u001b[0;34m)\u001b[0m\u001b[0;34m:\u001b[0m\u001b[0;34m\u001b[0m\u001b[0m\n\u001b[0;32m--> 507\u001b[0;31m         \u001b[0mFigureCanvasAgg\u001b[0m\u001b[0;34m.\u001b[0m\u001b[0mdraw\u001b[0m\u001b[0;34m(\u001b[0m\u001b[0mself\u001b[0m\u001b[0;34m)\u001b[0m\u001b[0;34m\u001b[0m\u001b[0m\n\u001b[0m\u001b[1;32m    508\u001b[0m         \u001b[0mrenderer\u001b[0m \u001b[0;34m=\u001b[0m \u001b[0mself\u001b[0m\u001b[0;34m.\u001b[0m\u001b[0mget_renderer\u001b[0m\u001b[0;34m(\u001b[0m\u001b[0;34m)\u001b[0m\u001b[0;34m\u001b[0m\u001b[0m\n\u001b[1;32m    509\u001b[0m         \u001b[0moriginal_dpi\u001b[0m \u001b[0;34m=\u001b[0m \u001b[0mrenderer\u001b[0m\u001b[0;34m.\u001b[0m\u001b[0mdpi\u001b[0m\u001b[0;34m\u001b[0m\u001b[0m\n",
      "\u001b[0;32m~/anaconda3/lib/python3.6/site-packages/matplotlib/backends/backend_agg.py\u001b[0m in \u001b[0;36mdraw\u001b[0;34m(self)\u001b[0m\n\u001b[1;32m    428\u001b[0m             \u001b[0;32mif\u001b[0m \u001b[0mtoolbar\u001b[0m\u001b[0;34m:\u001b[0m\u001b[0;34m\u001b[0m\u001b[0m\n\u001b[1;32m    429\u001b[0m                 \u001b[0mtoolbar\u001b[0m\u001b[0;34m.\u001b[0m\u001b[0mset_cursor\u001b[0m\u001b[0;34m(\u001b[0m\u001b[0mcursors\u001b[0m\u001b[0;34m.\u001b[0m\u001b[0mWAIT\u001b[0m\u001b[0;34m)\u001b[0m\u001b[0;34m\u001b[0m\u001b[0m\n\u001b[0;32m--> 430\u001b[0;31m             \u001b[0mself\u001b[0m\u001b[0;34m.\u001b[0m\u001b[0mfigure\u001b[0m\u001b[0;34m.\u001b[0m\u001b[0mdraw\u001b[0m\u001b[0;34m(\u001b[0m\u001b[0mself\u001b[0m\u001b[0;34m.\u001b[0m\u001b[0mrenderer\u001b[0m\u001b[0;34m)\u001b[0m\u001b[0;34m\u001b[0m\u001b[0m\n\u001b[0m\u001b[1;32m    431\u001b[0m         \u001b[0;32mfinally\u001b[0m\u001b[0;34m:\u001b[0m\u001b[0;34m\u001b[0m\u001b[0m\n\u001b[1;32m    432\u001b[0m             \u001b[0;32mif\u001b[0m \u001b[0mtoolbar\u001b[0m\u001b[0;34m:\u001b[0m\u001b[0;34m\u001b[0m\u001b[0m\n",
      "\u001b[0;32m~/anaconda3/lib/python3.6/site-packages/matplotlib/artist.py\u001b[0m in \u001b[0;36mdraw_wrapper\u001b[0;34m(artist, renderer, *args, **kwargs)\u001b[0m\n\u001b[1;32m     53\u001b[0m                 \u001b[0mrenderer\u001b[0m\u001b[0;34m.\u001b[0m\u001b[0mstart_filter\u001b[0m\u001b[0;34m(\u001b[0m\u001b[0;34m)\u001b[0m\u001b[0;34m\u001b[0m\u001b[0m\n\u001b[1;32m     54\u001b[0m \u001b[0;34m\u001b[0m\u001b[0m\n\u001b[0;32m---> 55\u001b[0;31m             \u001b[0;32mreturn\u001b[0m \u001b[0mdraw\u001b[0m\u001b[0;34m(\u001b[0m\u001b[0martist\u001b[0m\u001b[0;34m,\u001b[0m \u001b[0mrenderer\u001b[0m\u001b[0;34m,\u001b[0m \u001b[0;34m*\u001b[0m\u001b[0margs\u001b[0m\u001b[0;34m,\u001b[0m \u001b[0;34m**\u001b[0m\u001b[0mkwargs\u001b[0m\u001b[0;34m)\u001b[0m\u001b[0;34m\u001b[0m\u001b[0m\n\u001b[0m\u001b[1;32m     56\u001b[0m         \u001b[0;32mfinally\u001b[0m\u001b[0;34m:\u001b[0m\u001b[0;34m\u001b[0m\u001b[0m\n\u001b[1;32m     57\u001b[0m             \u001b[0;32mif\u001b[0m \u001b[0martist\u001b[0m\u001b[0;34m.\u001b[0m\u001b[0mget_agg_filter\u001b[0m\u001b[0;34m(\u001b[0m\u001b[0;34m)\u001b[0m \u001b[0;32mis\u001b[0m \u001b[0;32mnot\u001b[0m \u001b[0;32mNone\u001b[0m\u001b[0;34m:\u001b[0m\u001b[0;34m\u001b[0m\u001b[0m\n",
      "\u001b[0;32m~/anaconda3/lib/python3.6/site-packages/matplotlib/figure.py\u001b[0m in \u001b[0;36mdraw\u001b[0;34m(self, renderer)\u001b[0m\n\u001b[1;32m   1293\u001b[0m \u001b[0;34m\u001b[0m\u001b[0m\n\u001b[1;32m   1294\u001b[0m             mimage._draw_list_compositing_images(\n\u001b[0;32m-> 1295\u001b[0;31m                 renderer, self, artists, self.suppressComposite)\n\u001b[0m\u001b[1;32m   1296\u001b[0m \u001b[0;34m\u001b[0m\u001b[0m\n\u001b[1;32m   1297\u001b[0m             \u001b[0mrenderer\u001b[0m\u001b[0;34m.\u001b[0m\u001b[0mclose_group\u001b[0m\u001b[0;34m(\u001b[0m\u001b[0;34m'figure'\u001b[0m\u001b[0;34m)\u001b[0m\u001b[0;34m\u001b[0m\u001b[0m\n",
      "\u001b[0;32m~/anaconda3/lib/python3.6/site-packages/matplotlib/image.py\u001b[0m in \u001b[0;36m_draw_list_compositing_images\u001b[0;34m(renderer, parent, artists, suppress_composite)\u001b[0m\n\u001b[1;32m    136\u001b[0m     \u001b[0;32mif\u001b[0m \u001b[0mnot_composite\u001b[0m \u001b[0;32mor\u001b[0m \u001b[0;32mnot\u001b[0m \u001b[0mhas_images\u001b[0m\u001b[0;34m:\u001b[0m\u001b[0;34m\u001b[0m\u001b[0m\n\u001b[1;32m    137\u001b[0m         \u001b[0;32mfor\u001b[0m \u001b[0ma\u001b[0m \u001b[0;32min\u001b[0m \u001b[0martists\u001b[0m\u001b[0;34m:\u001b[0m\u001b[0;34m\u001b[0m\u001b[0m\n\u001b[0;32m--> 138\u001b[0;31m             \u001b[0ma\u001b[0m\u001b[0;34m.\u001b[0m\u001b[0mdraw\u001b[0m\u001b[0;34m(\u001b[0m\u001b[0mrenderer\u001b[0m\u001b[0;34m)\u001b[0m\u001b[0;34m\u001b[0m\u001b[0m\n\u001b[0m\u001b[1;32m    139\u001b[0m     \u001b[0;32melse\u001b[0m\u001b[0;34m:\u001b[0m\u001b[0;34m\u001b[0m\u001b[0m\n\u001b[1;32m    140\u001b[0m         \u001b[0;31m# Composite any adjacent images together\u001b[0m\u001b[0;34m\u001b[0m\u001b[0;34m\u001b[0m\u001b[0m\n",
      "\u001b[0;32m~/anaconda3/lib/python3.6/site-packages/matplotlib/artist.py\u001b[0m in \u001b[0;36mdraw_wrapper\u001b[0;34m(artist, renderer, *args, **kwargs)\u001b[0m\n\u001b[1;32m     53\u001b[0m                 \u001b[0mrenderer\u001b[0m\u001b[0;34m.\u001b[0m\u001b[0mstart_filter\u001b[0m\u001b[0;34m(\u001b[0m\u001b[0;34m)\u001b[0m\u001b[0;34m\u001b[0m\u001b[0m\n\u001b[1;32m     54\u001b[0m \u001b[0;34m\u001b[0m\u001b[0m\n\u001b[0;32m---> 55\u001b[0;31m             \u001b[0;32mreturn\u001b[0m \u001b[0mdraw\u001b[0m\u001b[0;34m(\u001b[0m\u001b[0martist\u001b[0m\u001b[0;34m,\u001b[0m \u001b[0mrenderer\u001b[0m\u001b[0;34m,\u001b[0m \u001b[0;34m*\u001b[0m\u001b[0margs\u001b[0m\u001b[0;34m,\u001b[0m \u001b[0;34m**\u001b[0m\u001b[0mkwargs\u001b[0m\u001b[0;34m)\u001b[0m\u001b[0;34m\u001b[0m\u001b[0m\n\u001b[0m\u001b[1;32m     56\u001b[0m         \u001b[0;32mfinally\u001b[0m\u001b[0;34m:\u001b[0m\u001b[0;34m\u001b[0m\u001b[0m\n\u001b[1;32m     57\u001b[0m             \u001b[0;32mif\u001b[0m \u001b[0martist\u001b[0m\u001b[0;34m.\u001b[0m\u001b[0mget_agg_filter\u001b[0m\u001b[0;34m(\u001b[0m\u001b[0;34m)\u001b[0m \u001b[0;32mis\u001b[0m \u001b[0;32mnot\u001b[0m \u001b[0;32mNone\u001b[0m\u001b[0;34m:\u001b[0m\u001b[0;34m\u001b[0m\u001b[0m\n",
      "\u001b[0;32m~/anaconda3/lib/python3.6/site-packages/matplotlib/axes/_base.py\u001b[0m in \u001b[0;36mdraw\u001b[0;34m(self, renderer, inframe)\u001b[0m\n\u001b[1;32m   2397\u001b[0m             \u001b[0mrenderer\u001b[0m\u001b[0;34m.\u001b[0m\u001b[0mstop_rasterizing\u001b[0m\u001b[0;34m(\u001b[0m\u001b[0;34m)\u001b[0m\u001b[0;34m\u001b[0m\u001b[0m\n\u001b[1;32m   2398\u001b[0m \u001b[0;34m\u001b[0m\u001b[0m\n\u001b[0;32m-> 2399\u001b[0;31m         \u001b[0mmimage\u001b[0m\u001b[0;34m.\u001b[0m\u001b[0m_draw_list_compositing_images\u001b[0m\u001b[0;34m(\u001b[0m\u001b[0mrenderer\u001b[0m\u001b[0;34m,\u001b[0m \u001b[0mself\u001b[0m\u001b[0;34m,\u001b[0m \u001b[0martists\u001b[0m\u001b[0;34m)\u001b[0m\u001b[0;34m\u001b[0m\u001b[0m\n\u001b[0m\u001b[1;32m   2400\u001b[0m \u001b[0;34m\u001b[0m\u001b[0m\n\u001b[1;32m   2401\u001b[0m         \u001b[0mrenderer\u001b[0m\u001b[0;34m.\u001b[0m\u001b[0mclose_group\u001b[0m\u001b[0;34m(\u001b[0m\u001b[0;34m'axes'\u001b[0m\u001b[0;34m)\u001b[0m\u001b[0;34m\u001b[0m\u001b[0m\n",
      "\u001b[0;32m~/anaconda3/lib/python3.6/site-packages/matplotlib/image.py\u001b[0m in \u001b[0;36m_draw_list_compositing_images\u001b[0;34m(renderer, parent, artists, suppress_composite)\u001b[0m\n\u001b[1;32m    136\u001b[0m     \u001b[0;32mif\u001b[0m \u001b[0mnot_composite\u001b[0m \u001b[0;32mor\u001b[0m \u001b[0;32mnot\u001b[0m \u001b[0mhas_images\u001b[0m\u001b[0;34m:\u001b[0m\u001b[0;34m\u001b[0m\u001b[0m\n\u001b[1;32m    137\u001b[0m         \u001b[0;32mfor\u001b[0m \u001b[0ma\u001b[0m \u001b[0;32min\u001b[0m \u001b[0martists\u001b[0m\u001b[0;34m:\u001b[0m\u001b[0;34m\u001b[0m\u001b[0m\n\u001b[0;32m--> 138\u001b[0;31m             \u001b[0ma\u001b[0m\u001b[0;34m.\u001b[0m\u001b[0mdraw\u001b[0m\u001b[0;34m(\u001b[0m\u001b[0mrenderer\u001b[0m\u001b[0;34m)\u001b[0m\u001b[0;34m\u001b[0m\u001b[0m\n\u001b[0m\u001b[1;32m    139\u001b[0m     \u001b[0;32melse\u001b[0m\u001b[0;34m:\u001b[0m\u001b[0;34m\u001b[0m\u001b[0m\n\u001b[1;32m    140\u001b[0m         \u001b[0;31m# Composite any adjacent images together\u001b[0m\u001b[0;34m\u001b[0m\u001b[0;34m\u001b[0m\u001b[0m\n",
      "\u001b[0;32m~/anaconda3/lib/python3.6/site-packages/matplotlib/artist.py\u001b[0m in \u001b[0;36mdraw_wrapper\u001b[0;34m(artist, renderer, *args, **kwargs)\u001b[0m\n\u001b[1;32m     53\u001b[0m                 \u001b[0mrenderer\u001b[0m\u001b[0;34m.\u001b[0m\u001b[0mstart_filter\u001b[0m\u001b[0;34m(\u001b[0m\u001b[0;34m)\u001b[0m\u001b[0;34m\u001b[0m\u001b[0m\n\u001b[1;32m     54\u001b[0m \u001b[0;34m\u001b[0m\u001b[0m\n\u001b[0;32m---> 55\u001b[0;31m             \u001b[0;32mreturn\u001b[0m \u001b[0mdraw\u001b[0m\u001b[0;34m(\u001b[0m\u001b[0martist\u001b[0m\u001b[0;34m,\u001b[0m \u001b[0mrenderer\u001b[0m\u001b[0;34m,\u001b[0m \u001b[0;34m*\u001b[0m\u001b[0margs\u001b[0m\u001b[0;34m,\u001b[0m \u001b[0;34m**\u001b[0m\u001b[0mkwargs\u001b[0m\u001b[0;34m)\u001b[0m\u001b[0;34m\u001b[0m\u001b[0m\n\u001b[0m\u001b[1;32m     56\u001b[0m         \u001b[0;32mfinally\u001b[0m\u001b[0;34m:\u001b[0m\u001b[0;34m\u001b[0m\u001b[0m\n\u001b[1;32m     57\u001b[0m             \u001b[0;32mif\u001b[0m \u001b[0martist\u001b[0m\u001b[0;34m.\u001b[0m\u001b[0mget_agg_filter\u001b[0m\u001b[0;34m(\u001b[0m\u001b[0;34m)\u001b[0m \u001b[0;32mis\u001b[0m \u001b[0;32mnot\u001b[0m \u001b[0;32mNone\u001b[0m\u001b[0;34m:\u001b[0m\u001b[0;34m\u001b[0m\u001b[0m\n",
      "\u001b[0;32m~/anaconda3/lib/python3.6/site-packages/matplotlib/axis.py\u001b[0m in \u001b[0;36mdraw\u001b[0;34m(self, renderer, *args, **kwargs)\u001b[0m\n\u001b[1;32m   1136\u001b[0m \u001b[0;34m\u001b[0m\u001b[0m\n\u001b[1;32m   1137\u001b[0m         \u001b[0;32mfor\u001b[0m \u001b[0mtick\u001b[0m \u001b[0;32min\u001b[0m \u001b[0mticks_to_draw\u001b[0m\u001b[0;34m:\u001b[0m\u001b[0;34m\u001b[0m\u001b[0m\n\u001b[0;32m-> 1138\u001b[0;31m             \u001b[0mtick\u001b[0m\u001b[0;34m.\u001b[0m\u001b[0mdraw\u001b[0m\u001b[0;34m(\u001b[0m\u001b[0mrenderer\u001b[0m\u001b[0;34m)\u001b[0m\u001b[0;34m\u001b[0m\u001b[0m\n\u001b[0m\u001b[1;32m   1139\u001b[0m \u001b[0;34m\u001b[0m\u001b[0m\n\u001b[1;32m   1140\u001b[0m         \u001b[0;31m# scale up the axis label box to also find the neighbors, not\u001b[0m\u001b[0;34m\u001b[0m\u001b[0;34m\u001b[0m\u001b[0m\n",
      "\u001b[0;32m~/anaconda3/lib/python3.6/site-packages/matplotlib/artist.py\u001b[0m in \u001b[0;36mdraw_wrapper\u001b[0;34m(artist, renderer, *args, **kwargs)\u001b[0m\n\u001b[1;32m     53\u001b[0m                 \u001b[0mrenderer\u001b[0m\u001b[0;34m.\u001b[0m\u001b[0mstart_filter\u001b[0m\u001b[0;34m(\u001b[0m\u001b[0;34m)\u001b[0m\u001b[0;34m\u001b[0m\u001b[0m\n\u001b[1;32m     54\u001b[0m \u001b[0;34m\u001b[0m\u001b[0m\n\u001b[0;32m---> 55\u001b[0;31m             \u001b[0;32mreturn\u001b[0m \u001b[0mdraw\u001b[0m\u001b[0;34m(\u001b[0m\u001b[0martist\u001b[0m\u001b[0;34m,\u001b[0m \u001b[0mrenderer\u001b[0m\u001b[0;34m,\u001b[0m \u001b[0;34m*\u001b[0m\u001b[0margs\u001b[0m\u001b[0;34m,\u001b[0m \u001b[0;34m**\u001b[0m\u001b[0mkwargs\u001b[0m\u001b[0;34m)\u001b[0m\u001b[0;34m\u001b[0m\u001b[0m\n\u001b[0m\u001b[1;32m     56\u001b[0m         \u001b[0;32mfinally\u001b[0m\u001b[0;34m:\u001b[0m\u001b[0;34m\u001b[0m\u001b[0m\n\u001b[1;32m     57\u001b[0m             \u001b[0;32mif\u001b[0m \u001b[0martist\u001b[0m\u001b[0;34m.\u001b[0m\u001b[0mget_agg_filter\u001b[0m\u001b[0;34m(\u001b[0m\u001b[0;34m)\u001b[0m \u001b[0;32mis\u001b[0m \u001b[0;32mnot\u001b[0m \u001b[0;32mNone\u001b[0m\u001b[0;34m:\u001b[0m\u001b[0;34m\u001b[0m\u001b[0m\n",
      "\u001b[0;32m~/anaconda3/lib/python3.6/site-packages/matplotlib/axis.py\u001b[0m in \u001b[0;36mdraw\u001b[0;34m(self, renderer)\u001b[0m\n\u001b[1;32m    280\u001b[0m \u001b[0;34m\u001b[0m\u001b[0m\n\u001b[1;32m    281\u001b[0m         \u001b[0;32mif\u001b[0m \u001b[0mself\u001b[0m\u001b[0;34m.\u001b[0m\u001b[0mlabel1On\u001b[0m\u001b[0;34m:\u001b[0m\u001b[0;34m\u001b[0m\u001b[0m\n\u001b[0;32m--> 282\u001b[0;31m             \u001b[0mself\u001b[0m\u001b[0;34m.\u001b[0m\u001b[0mlabel1\u001b[0m\u001b[0;34m.\u001b[0m\u001b[0mdraw\u001b[0m\u001b[0;34m(\u001b[0m\u001b[0mrenderer\u001b[0m\u001b[0;34m)\u001b[0m\u001b[0;34m\u001b[0m\u001b[0m\n\u001b[0m\u001b[1;32m    283\u001b[0m         \u001b[0;32mif\u001b[0m \u001b[0mself\u001b[0m\u001b[0;34m.\u001b[0m\u001b[0mlabel2On\u001b[0m\u001b[0;34m:\u001b[0m\u001b[0;34m\u001b[0m\u001b[0m\n\u001b[1;32m    284\u001b[0m             \u001b[0mself\u001b[0m\u001b[0;34m.\u001b[0m\u001b[0mlabel2\u001b[0m\u001b[0;34m.\u001b[0m\u001b[0mdraw\u001b[0m\u001b[0;34m(\u001b[0m\u001b[0mrenderer\u001b[0m\u001b[0;34m)\u001b[0m\u001b[0;34m\u001b[0m\u001b[0m\n",
      "\u001b[0;32m~/anaconda3/lib/python3.6/site-packages/matplotlib/artist.py\u001b[0m in \u001b[0;36mdraw_wrapper\u001b[0;34m(artist, renderer, *args, **kwargs)\u001b[0m\n\u001b[1;32m     53\u001b[0m                 \u001b[0mrenderer\u001b[0m\u001b[0;34m.\u001b[0m\u001b[0mstart_filter\u001b[0m\u001b[0;34m(\u001b[0m\u001b[0;34m)\u001b[0m\u001b[0;34m\u001b[0m\u001b[0m\n\u001b[1;32m     54\u001b[0m \u001b[0;34m\u001b[0m\u001b[0m\n\u001b[0;32m---> 55\u001b[0;31m             \u001b[0;32mreturn\u001b[0m \u001b[0mdraw\u001b[0m\u001b[0;34m(\u001b[0m\u001b[0martist\u001b[0m\u001b[0;34m,\u001b[0m \u001b[0mrenderer\u001b[0m\u001b[0;34m,\u001b[0m \u001b[0;34m*\u001b[0m\u001b[0margs\u001b[0m\u001b[0;34m,\u001b[0m \u001b[0;34m**\u001b[0m\u001b[0mkwargs\u001b[0m\u001b[0;34m)\u001b[0m\u001b[0;34m\u001b[0m\u001b[0m\n\u001b[0m\u001b[1;32m     56\u001b[0m         \u001b[0;32mfinally\u001b[0m\u001b[0;34m:\u001b[0m\u001b[0;34m\u001b[0m\u001b[0m\n\u001b[1;32m     57\u001b[0m             \u001b[0;32mif\u001b[0m \u001b[0martist\u001b[0m\u001b[0;34m.\u001b[0m\u001b[0mget_agg_filter\u001b[0m\u001b[0;34m(\u001b[0m\u001b[0;34m)\u001b[0m \u001b[0;32mis\u001b[0m \u001b[0;32mnot\u001b[0m \u001b[0;32mNone\u001b[0m\u001b[0;34m:\u001b[0m\u001b[0;34m\u001b[0m\u001b[0m\n",
      "\u001b[0;32m~/anaconda3/lib/python3.6/site-packages/matplotlib/text.py\u001b[0m in \u001b[0;36mdraw\u001b[0;34m(self, renderer)\u001b[0m\n\u001b[1;32m    775\u001b[0m             \u001b[0mtextobj\u001b[0m\u001b[0;34m.\u001b[0m\u001b[0m_set_gc_clip\u001b[0m\u001b[0;34m(\u001b[0m\u001b[0mgc\u001b[0m\u001b[0;34m)\u001b[0m\u001b[0;34m\u001b[0m\u001b[0m\n\u001b[1;32m    776\u001b[0m \u001b[0;34m\u001b[0m\u001b[0m\n\u001b[0;32m--> 777\u001b[0;31m             \u001b[0mangle\u001b[0m \u001b[0;34m=\u001b[0m \u001b[0mtextobj\u001b[0m\u001b[0;34m.\u001b[0m\u001b[0mget_rotation\u001b[0m\u001b[0;34m(\u001b[0m\u001b[0;34m)\u001b[0m\u001b[0;34m\u001b[0m\u001b[0m\n\u001b[0m\u001b[1;32m    778\u001b[0m \u001b[0;34m\u001b[0m\u001b[0m\n\u001b[1;32m    779\u001b[0m             \u001b[0;32mfor\u001b[0m \u001b[0mline\u001b[0m\u001b[0;34m,\u001b[0m \u001b[0mwh\u001b[0m\u001b[0;34m,\u001b[0m \u001b[0mx\u001b[0m\u001b[0;34m,\u001b[0m \u001b[0my\u001b[0m \u001b[0;32min\u001b[0m \u001b[0minfo\u001b[0m\u001b[0;34m:\u001b[0m\u001b[0;34m\u001b[0m\u001b[0m\n",
      "\u001b[0;32m~/anaconda3/lib/python3.6/site-packages/matplotlib/text.py\u001b[0m in \u001b[0;36mget_rotation\u001b[0;34m(self)\u001b[0m\n\u001b[1;32m    295\u001b[0m     \u001b[0;32mdef\u001b[0m \u001b[0mget_rotation\u001b[0m\u001b[0;34m(\u001b[0m\u001b[0mself\u001b[0m\u001b[0;34m)\u001b[0m\u001b[0;34m:\u001b[0m\u001b[0;34m\u001b[0m\u001b[0m\n\u001b[1;32m    296\u001b[0m         \u001b[0;34m'return the text angle as float in degrees'\u001b[0m\u001b[0;34m\u001b[0m\u001b[0m\n\u001b[0;32m--> 297\u001b[0;31m         \u001b[0;32mreturn\u001b[0m \u001b[0mget_rotation\u001b[0m\u001b[0;34m(\u001b[0m\u001b[0mself\u001b[0m\u001b[0;34m.\u001b[0m\u001b[0m_rotation\u001b[0m\u001b[0;34m)\u001b[0m  \u001b[0;31m# string_or_number -> number\u001b[0m\u001b[0;34m\u001b[0m\u001b[0m\n\u001b[0m\u001b[1;32m    298\u001b[0m \u001b[0;34m\u001b[0m\u001b[0m\n\u001b[1;32m    299\u001b[0m     \u001b[0;32mdef\u001b[0m \u001b[0mset_rotation_mode\u001b[0m\u001b[0;34m(\u001b[0m\u001b[0mself\u001b[0m\u001b[0;34m,\u001b[0m \u001b[0mm\u001b[0m\u001b[0;34m)\u001b[0m\u001b[0;34m:\u001b[0m\u001b[0;34m\u001b[0m\u001b[0m\n",
      "\u001b[0;32m~/anaconda3/lib/python3.6/site-packages/matplotlib/text.py\u001b[0m in \u001b[0;36mget_rotation\u001b[0;34m(rotation)\u001b[0m\n\u001b[1;32m     70\u001b[0m     \"\"\"\n\u001b[1;32m     71\u001b[0m     \u001b[0;32mtry\u001b[0m\u001b[0;34m:\u001b[0m\u001b[0;34m\u001b[0m\u001b[0m\n\u001b[0;32m---> 72\u001b[0;31m         \u001b[0mangle\u001b[0m \u001b[0;34m=\u001b[0m \u001b[0mfloat\u001b[0m\u001b[0;34m(\u001b[0m\u001b[0mrotation\u001b[0m\u001b[0;34m)\u001b[0m\u001b[0;34m\u001b[0m\u001b[0m\n\u001b[0m\u001b[1;32m     73\u001b[0m     \u001b[0;32mexcept\u001b[0m \u001b[0;34m(\u001b[0m\u001b[0mValueError\u001b[0m\u001b[0;34m,\u001b[0m \u001b[0mTypeError\u001b[0m\u001b[0;34m)\u001b[0m\u001b[0;34m:\u001b[0m\u001b[0;34m\u001b[0m\u001b[0m\n\u001b[1;32m     74\u001b[0m         \u001b[0misString\u001b[0m \u001b[0;34m=\u001b[0m \u001b[0misinstance\u001b[0m\u001b[0;34m(\u001b[0m\u001b[0mrotation\u001b[0m\u001b[0;34m,\u001b[0m \u001b[0msix\u001b[0m\u001b[0;34m.\u001b[0m\u001b[0mstring_types\u001b[0m\u001b[0;34m)\u001b[0m\u001b[0;34m\u001b[0m\u001b[0m\n",
      "\u001b[0;31mKeyboardInterrupt\u001b[0m: "
     ]
    }
   ],
   "source": [
    "for epoch in range(epochs):\n",
    "    for i, (batch_X, batch_y) in enumerate(iterate_minibatches(np.hstack((X, X_emb[:,:5]))[:800], y[:800], 20)):\n",
    "\n",
    "        batch_loss = sess.run([train_step,loss], feed_dict={inp : batch_X, target: batch_y})\n",
    "        curr_loss += batch_loss[1]\n",
    "\n",
    "        if i % n == 0:\n",
    "            if i != 0:\n",
    "                losses_each_n.append( curr_loss / n)\n",
    "            \n",
    "            curr_loss = 0\n",
    "\n",
    "\n",
    "            display.clear_output(wait=True)\n",
    "            plt.plot(losses_each_n[1:], label='train')\n",
    "            plt.plot(val_x, val_losses, label='test')\n",
    "            plt.legend()\n",
    "            plt.show()\n",
    "            \n",
    "    val_loss = sess.run(loss,  feed_dict={inp : np.hstack((X, X_emb[:,:5]))[800:].reshape(-1, 150), target: y[800:].reshape(-1, 100)})\n",
    "    val_losses.append(val_loss)\n",
    "    val_x.append(len(losses_each_n))\n",
    "    \n",
    "    curr_loss == 0\n",
    "\n",
    "        #print(batch_loss[1])"
   ]
  },
  {
   "cell_type": "code",
   "execution_count": 144,
   "metadata": {},
   "outputs": [
    {
     "data": {
      "text/plain": [
       "[]"
      ]
     },
     "execution_count": 144,
     "metadata": {},
     "output_type": "execute_result"
    }
   ],
   "source": [
    "losses_each_n"
   ]
  },
  {
   "cell_type": "code",
   "execution_count": 338,
   "metadata": {},
   "outputs": [
    {
     "data": {
      "text/plain": [
       "<matplotlib.figure.Figure at 0x7f6d73b5b588>"
      ]
     },
     "metadata": {},
     "output_type": "display_data"
    },
    {
     "data": {
      "image/png": "[encoded data removed]",
      "text/plain": [
       "<matplotlib.figure.Figure at 0x7f6dac0e9c88>"
      ]
     },
     "metadata": {},
     "output_type": "display_data"
    }
   ],
   "source": [
    "ind = 800\n",
    "\n",
    "gr = sess.run(out, feed_dict = {inp : np.hstack((X, X_emb[:,:5]))[ind].reshape(-1,150)}).reshape(10,10)\n",
    "plot_group(gr , 0, y[ind], 0,  X[ind], 1, s = 10)"
   ]
  },
  {
   "cell_type": "code",
   "execution_count": 330,
   "metadata": {},
   "outputs": [],
   "source": [
    "gr = sess.run(out, feed_dict = {inp : np.hstack((X, X_emb[:,:5]))[800:].reshape(-1,150)}).reshape(200, 10,10)"
   ]
  },
  {
   "cell_type": "code",
   "execution_count": 331,
   "metadata": {
    "scrolled": true
   },
   "outputs": [
    {
     "data": {
      "text/plain": [
       "<matplotlib.figure.Figure at 0x7f6d73ba1080>"
      ]
     },
     "metadata": {},
     "output_type": "display_data"
    },
    {
     "data": {
      "image/png": "[encoded data removed]",
      "text/plain": [
       "<matplotlib.figure.Figure at 0x7f6d73ba1208>"
      ]
     },
     "metadata": {},
     "output_type": "display_data"
    }
   ],
   "source": [
    "plot_group(gr[0] > 0.5, 0, y[800], 0)"
   ]
  },
  {
   "cell_type": "code",
   "execution_count": 250,
   "metadata": {},
   "outputs": [],
   "source": [
    "from sklearn.metrics import log_loss, accuracy_score"
   ]
  },
  {
   "cell_type": "code",
   "execution_count": 334,
   "metadata": {},
   "outputs": [],
   "source": [
    "loss = 0\n",
    "for i in range(200):\n",
    "    loss += accuracy_score(y[i + 800], gr[i] > 0.5)"
   ]
  },
  {
   "cell_type": "code",
   "execution_count": 335,
   "metadata": {},
   "outputs": [
    {
     "data": {
      "text/plain": [
       "0.8290000000000015"
      ]
     },
     "execution_count": 335,
     "metadata": {},
     "output_type": "execute_result"
    }
   ],
   "source": [
    "loss / 200"
   ]
  },
  {
   "cell_type": "code",
   "execution_count": null,
   "metadata": {},
   "outputs": [],
   "source": []
  },
  {
   "cell_type": "markdown",
   "metadata": {},
   "source": [
    "## Node2vec"
   ]
  },
  {
   "cell_type": "code",
   "execution_count": 20,
   "metadata": {},
   "outputs": [],
   "source": [
    "sys.path.append(\"../\")"
   ]
  },
  {
   "cell_type": "code",
   "execution_count": 263,
   "metadata": {},
   "outputs": [],
   "source": [
    "import main as n2v\n",
    "import node2vec as n2v_src\n",
    "import networkx as nx"
   ]
  },
  {
   "cell_type": "code",
   "execution_count": 272,
   "metadata": {},
   "outputs": [],
   "source": [
    "from importlib import reload\n",
    "n2v = reload(n2v)\n",
    "n2v_src = reload(n2v_src)"
   ]
  },
  {
   "cell_type": "code",
   "execution_count": 29,
   "metadata": {},
   "outputs": [
    {
     "data": {
      "image/png": "[encoded data removed]",
      "text/plain": [
       "<matplotlib.figure.Figure at 0x7f6dd2987588>"
      ]
     },
     "metadata": {},
     "output_type": "display_data"
    }
   ],
   "source": [
    "plot_gr(X[11], s =3)"
   ]
  },
  {
   "cell_type": "code",
   "execution_count": 269,
   "metadata": {},
   "outputs": [],
   "source": [
    "def gr_to_nxGr(graph):\n",
    "    nxG = nx.DiGraph()\n",
    "    for i in range(graph.shape[0]):\n",
    "        for j in range(graph.shape[1]):\n",
    "            nxG.add_edge(i, j, weight = graph[i,j])\n",
    "    return nxG"
   ]
  },
  {
   "cell_type": "code",
   "execution_count": 294,
   "metadata": {},
   "outputs": [],
   "source": [
    "def gr_to_emb(graph):\n",
    "    spacers_num = graph.shape[0]\n",
    "    \n",
    "    nx_gr = gr_to_nxGr(graph)\n",
    "    G = n2v_src.Graph(nx_gr, 1, 0.5, 0.5)\n",
    "    G.preprocess_transition_probs()\n",
    "    walks = G.simulate_walks(200, spacers_num)\n",
    "    model = n2v.learn_embeddings(walks, spacers_num, 5, 4, 100)\n",
    "    \n",
    "    E = np.zeros((spacers_num, spacers_num))\n",
    "    for i in range(spacers_num):\n",
    "        E[i] = model.wv.word_vec(str(i))\n",
    "    pca = PCA(n_components=spacers_num)\n",
    "    \n",
    "    return pca.fit_transform(E), walks"
   ]
  },
  {
   "cell_type": "code",
   "execution_count": 287,
   "metadata": {},
   "outputs": [],
   "source": [
    "emb, walks = gr_to_emb(X[2])"
   ]
  },
  {
   "cell_type": "code",
   "execution_count": 290,
   "metadata": {},
   "outputs": [],
   "source": [
    "X_emb = np.zeros_like(X)"
   ]
  },
  {
   "cell_type": "code",
   "execution_count": 291,
   "metadata": {},
   "outputs": [],
   "source": [
    "from tqdm import tqdm_notebook"
   ]
  },
  {
   "cell_type": "code",
   "execution_count": 295,
   "metadata": {},
   "outputs": [
    {
     "data": {
      "application/vnd.jupyter.widget-view+json": {
       "model_id": "8d96b5c1dcee488fbd20ae0c226216f8",
       "version_major": 2,
       "version_minor": 0
      },
      "text/plain": [
       "A Jupyter Widget"
      ]
     },
     "metadata": {},
     "output_type": "display_data"
    },
    {
     "name": "stderr",
     "output_type": "stream",
     "text": [
      "../node2vec/src/node2vec.py:87: RuntimeWarning: invalid value encountered in double_scalars\n",
      "  normalized_probs =  [float(u_prob)/norm_const for u_prob in unnormalized_probs]\n",
      "../node2vec/src/node2vec.py:72: RuntimeWarning: invalid value encountered in double_scalars\n",
      "  normalized_probs =  [float(u_prob)/norm_const for u_prob in unnormalized_probs]\n"
     ]
    },
    {
     "name": "stdout",
     "output_type": "stream",
     "text": [
      "\n"
     ]
    }
   ],
   "source": [
    "for i, x in enumerate(tqdm_notebook(X)):\n",
    "    emb, walks = gr_to_emb(x)\n",
    "    X_emb[i] = emb"
   ]
  },
  {
   "cell_type": "code",
   "execution_count": 296,
   "metadata": {},
   "outputs": [],
   "source": [
    "np.save(\"../../data/simulation/simple1k/embs\", X_emb)"
   ]
  },
  {
   "cell_type": "code",
   "execution_count": 288,
   "metadata": {},
   "outputs": [
    {
     "data": {
      "text/plain": [
       "<matplotlib.figure.Figure at 0x7f6dac08c780>"
      ]
     },
     "metadata": {},
     "output_type": "display_data"
    },
    {
     "data": {
      "image/png": "[encoded data removed]",
      "text/plain": [
       "<matplotlib.figure.Figure at 0x7f6d84fdbfd0>"
      ]
     },
     "metadata": {},
     "output_type": "display_data"
    }
   ],
   "source": [
    "plot_group(emb, 0, X[2], 0)"
   ]
  },
  {
   "cell_type": "code",
   "execution_count": 289,
   "metadata": {},
   "outputs": [
    {
     "data": {
      "text/plain": [
       "<matplotlib.figure.Figure at 0x7f6dd2adc748>"
      ]
     },
     "metadata": {},
     "output_type": "display_data"
    },
    {
     "data": {
      "image/png": "[encoded data removed]",
      "text/plain": [
       "<matplotlib.figure.Figure at 0x7f6dd27c37b8>"
      ]
     },
     "metadata": {},
     "output_type": "display_data"
    }
   ],
   "source": [
    "plot_group(emb, 0, X[1], 0)"
   ]
  },
  {
   "cell_type": "code",
   "execution_count": 103,
   "metadata": {},
   "outputs": [],
   "source": [
    "from sklearn.decomposition import PCA"
   ]
  },
  {
   "cell_type": "code",
   "execution_count": 104,
   "metadata": {},
   "outputs": [],
   "source": [
    "pca = PCA(n_components=2)"
   ]
  },
  {
   "cell_type": "code",
   "execution_count": 105,
   "metadata": {},
   "outputs": [
    {
     "data": {
      "text/plain": [
       "array([[-1.04583212,  0.44248204],\n",
       "       [ 1.13473591,  0.04076436],\n",
       "       [ 1.27760196,  0.00648308],\n",
       "       [-0.85260869, -0.25610945],\n",
       "       [-0.77946134,  0.16066381],\n",
       "       [ 1.2406656 ,  0.09062604],\n",
       "       [-0.77474962, -0.2514189 ],\n",
       "       [-0.70512859, -0.28424838],\n",
       "       [ 1.20216892, -0.0827374 ],\n",
       "       [-0.69739203,  0.13349479]])"
      ]
     },
     "execution_count": 105,
     "metadata": {},
     "output_type": "execute_result"
    }
   ],
   "source": [
    "pca.fit_transform(E)"
   ]
  },
  {
   "cell_type": "code",
   "execution_count": 106,
   "metadata": {},
   "outputs": [
    {
     "data": {
      "text/plain": [
       "<matplotlib.collections.PathCollection at 0x7f6dd2af2710>"
      ]
     },
     "execution_count": 106,
     "metadata": {},
     "output_type": "execute_result"
    },
    {
     "data": {
      "image/png": "[encoded data removed]",
      "text/plain": [
       "<matplotlib.figure.Figure at 0x7f6dd2978a90>"
      ]
     },
     "metadata": {},
     "output_type": "display_data"
    }
   ],
   "source": [
    "plt.scatter(pca.fit_transform(E)[:,0], pca.fit_transform(E)[:, 1])"
   ]
  },
  {
   "cell_type": "code",
   "execution_count": null,
   "metadata": {},
   "outputs": [],
   "source": []
  },
  {
   "cell_type": "code",
   "execution_count": 84,
   "metadata": {},
   "outputs": [
    {
     "data": {
      "image/png": "[encoded data removed]",
      "text/plain": [
       "<matplotlib.figure.Figure at 0x7f6dd238f978>"
      ]
     },
     "metadata": {},
     "output_type": "display_data"
    }
   ],
   "source": [
    "plot_gr(gr, s=4,all_ticks=1)"
   ]
  },
  {
   "cell_type": "code",
   "execution_count": 81,
   "metadata": {},
   "outputs": [],
   "source": [
    "from gensim.models import Word2Vec"
   ]
  },
  {
   "cell_type": "code",
   "execution_count": 52,
   "metadata": {},
   "outputs": [
    {
     "data": {
      "text/plain": [
       "[[8, 0, 3, 4, 6, 7, 9, 4, 6, 7, 9, 7, 7, 7, 9, 7, 9, 4, 7, 9],\n",
       " [2, 0, 3, 4, 6, 7, 0, 3, 3, 4, 4, 6, 7, 9, 7, 9, 4, 9, 4, 6],\n",
       " [6, 7, 9, 4, 6, 7, 9, 4, 4, 4, 6, 7, 9, 7, 0, 7, 9, 4, 6, 7],\n",
       " [1, 0, 3, 4, 0, 3, 4, 6, 7, 7, 9, 7, 9, 4, 6, 7, 9, 3, 4, 4],\n",
       " [3, 4, 6, 7, 9, 4, 4, 6, 7, 7, 9, 4, 4, 6, 7, 0, 3, 4, 6, 7],\n",
       " [7, 0, 3, 3, 4, 6, 7, 9, 4, 6, 7, 0, 3, 4, 4, 4, 6, 7, 0, 6],\n",
       " [5, 0, 3, 4, 6, 7, 0, 3, 4, 6, 7, 9, 7, 9, 4, 6, 3, 4, 6, 7],\n",
       " [4, 6, 7, 9, 4, 6, 3, 4, 6, 7, 9, 4, 6, 7, 9, 4, 6, 7, 9, 7],\n",
       " [0, 3, 4, 3, 4, 6, 7, 7, 9, 7, 9, 4, 6, 7, 9, 4, 7, 7, 9, 7],\n",
       " [9, 7, 9, 4, 6, 4, 6, 6, 0, 3, 4, 6, 7, 9, 7, 9, 3, 4, 6, 7],\n",
       " [9, 4, 6, 7, 9, 4, 6, 7, 9, 7, 9, 7, 9, 3, 4, 6, 3, 4, 6, 7],\n",
       " [0, 4, 6, 3, 4, 6, 7, 9, 7, 0, 3, 3, 4, 6, 7, 9, 4, 6, 7, 0],\n",
       " [1, 0, 3, 4, 6, 7, 7, 7, 7, 0, 4, 6, 0, 3, 4, 4, 6, 7, 9, 7],\n",
       " [6, 7, 9, 4, 6, 7, 9, 4, 6, 7, 9, 4, 6, 7, 9, 3, 4, 6, 7, 3],\n",
       " [4, 6, 7, 9, 4, 6, 7, 0, 3, 4, 6, 7, 9, 4, 6, 7, 9, 4, 6, 7],\n",
       " [5, 0, 3, 3, 4, 6, 7, 9, 7, 9, 7, 9, 4, 7, 9, 7, 9, 4, 6, 7],\n",
       " [3, 3, 6, 9, 7, 9, 7, 9, 4, 6, 7, 7, 9, 4, 3, 4, 4, 6, 7, 0],\n",
       " [8, 0, 3, 3, 4, 4, 6, 7, 9, 3, 4, 6, 4, 6, 7, 4, 6, 7, 9, 4],\n",
       " [7, 9, 4, 9, 4, 6, 7, 0, 0, 4, 4, 7, 0, 3, 4, 3, 4, 6, 7, 9],\n",
       " [2, 0, 3, 0, 9, 3, 4, 6, 7, 9, 7, 9, 3, 4, 7, 9, 4, 6, 7, 7],\n",
       " [2, 0, 3, 4, 6, 7, 9, 4, 6, 6, 7, 9, 7, 9, 7, 9, 4, 7, 0, 3],\n",
       " [0, 3, 7, 0, 3, 4, 6, 7, 9, 7, 9, 4, 6, 7, 9, 4, 4, 4, 4, 4],\n",
       " [8, 0, 3, 4, 3, 4, 4, 6, 7, 9, 4, 6, 7, 4, 6, 7, 9, 7, 0, 4],\n",
       " [6, 7, 9, 4, 6, 9, 4, 6, 7, 7, 7, 9, 4, 3, 7, 9, 3, 4, 6, 7],\n",
       " [5, 0, 3, 4, 6, 4, 6, 7, 9, 4, 6, 7, 0, 4, 7, 9, 3, 4, 6, 7],\n",
       " [7, 9, 4, 6, 7, 7, 9, 7, 9, 7, 9, 4, 6, 7, 9, 7, 9, 4, 7, 9],\n",
       " [9, 4, 6, 7, 9, 4, 6, 7, 7, 9, 3, 4, 7, 4, 6, 7, 4, 6, 7, 9],\n",
       " [4, 6, 3, 4, 3, 4, 6, 7, 9, 7, 9, 7, 9, 3, 4, 6, 7, 9, 4, 6],\n",
       " [3, 4, 6, 7, 9, 7, 9, 4, 6, 7, 0, 3, 3, 4, 4, 4, 7, 9, 3, 4],\n",
       " [1, 0, 3, 4, 4, 6, 7, 9, 4, 6, 7, 0, 3, 0, 4, 4, 7, 9, 7, 9],\n",
       " [5, 0, 3, 4, 6, 7, 0, 3, 4, 7, 7, 0, 3, 4, 6, 7, 9, 4, 6, 4],\n",
       " [0, 3, 4, 6, 7, 9, 7, 9, 4, 6, 7, 0, 3, 4, 4, 6, 7, 9, 7, 9],\n",
       " [7, 9, 7, 9, 7, 9, 7, 9, 3, 4, 6, 9, 3, 4, 6, 4, 6, 7, 6, 7],\n",
       " [3, 4, 6, 4, 4, 6, 7, 0, 3, 3, 4, 6, 4, 6, 7, 9, 3, 4, 6, 7],\n",
       " [4, 3, 4, 6, 7, 9, 4, 6, 7, 4, 7, 0, 3, 4, 6, 7, 9, 4, 6, 6],\n",
       " [8, 0, 4, 6, 7, 4, 3, 4, 6, 7, 9, 4, 6, 7, 9, 4, 6, 3, 4, 6],\n",
       " [6, 7, 7, 9, 4, 6, 7, 9, 4, 3, 4, 6, 7, 9, 7, 9, 4, 6, 7, 4],\n",
       " [1, 0, 0, 3, 4, 4, 7, 9, 3, 4, 3, 4, 6, 7, 7, 7, 9, 4, 6, 7],\n",
       " [2, 0, 3, 4, 6, 7, 9, 3, 4, 4, 6, 3, 4, 6, 7, 9, 4, 6, 4, 6],\n",
       " [9, 4, 6, 7, 4, 6, 7, 9, 3, 4, 6, 7, 9, 4, 6, 7, 4, 6, 7, 9],\n",
       " [2, 0, 3, 4, 6, 7, 9, 4, 6, 7, 9, 4, 6, 7, 9, 7, 4, 6, 3, 3],\n",
       " [0, 3, 4, 7, 0, 4, 6, 9, 4, 6, 7, 4, 6, 4, 6, 7, 9, 3, 4, 6],\n",
       " [9, 4, 6, 7, 4, 6, 7, 9, 7, 9, 3, 4, 6, 7, 7, 9, 4, 6, 7, 0],\n",
       " [5, 0, 3, 4, 6, 7, 7, 9, 7, 9, 4, 6, 7, 9, 3, 4, 4, 6, 6, 7],\n",
       " [3, 4, 6, 7, 9, 7, 9, 4, 6, 7, 9, 4, 6, 3, 4, 6, 7, 7, 9, 4],\n",
       " [4, 6, 7, 9, 3, 4, 6, 4, 6, 7, 9, 7, 9, 4, 4, 6, 7, 4, 6, 7],\n",
       " [6, 7, 9, 4, 6, 4, 4, 4, 6, 7, 7, 9, 3, 4, 6, 7, 6, 7, 9, 4],\n",
       " [7, 9, 4, 9, 4, 6, 9, 4, 6, 7, 6, 7, 9, 4, 6, 7, 9, 3, 4, 6],\n",
       " [1, 0, 3, 4, 6, 7, 7, 7, 7, 9, 4, 6, 7, 9, 4, 6, 7, 9, 7, 9],\n",
       " [8, 0, 3, 4, 9, 7, 9, 4, 6, 7, 9, 4, 4, 7, 9, 4, 6, 7, 4, 6],\n",
       " [9, 3, 4, 6, 7, 9, 4, 6, 7, 9, 3, 4, 6, 7, 9, 7, 9, 7, 9, 4],\n",
       " [4, 6, 7, 9, 7, 3, 4, 6, 7, 9, 3, 3, 3, 4, 6, 3, 4, 7, 9, 4],\n",
       " [2, 0, 3, 4, 6, 7, 9, 3, 4, 4, 7, 9, 7, 4, 6, 3, 9, 3, 4, 6],\n",
       " [1, 0, 4, 6, 7, 9, 4, 6, 7, 9, 7, 0, 4, 4, 6, 7, 9, 3, 4, 6],\n",
       " [8, 0, 3, 4, 4, 6, 7, 3, 4, 6, 7, 0, 3, 4, 6, 7, 4, 6, 7, 9],\n",
       " [0, 3, 4, 6, 7, 9, 3, 4, 6, 7, 9, 4, 6, 7, 9, 4, 6, 7, 9, 7],\n",
       " [7, 4, 6, 0, 0, 3, 4, 6, 7, 9, 3, 6, 7, 9, 7, 9, 7, 9, 4, 6],\n",
       " [3, 4, 6, 4, 6, 7, 9, 4, 6, 7, 7, 9, 4, 6, 7, 4, 6, 7, 0, 3],\n",
       " [6, 7, 9, 3, 4, 6, 7, 7, 9, 3, 4, 6, 7, 9, 7, 9, 7, 9, 7, 9],\n",
       " [5, 0, 3, 4, 6, 3, 4, 6, 7, 9, 7, 0, 4, 6, 7, 9, 4, 7, 7, 9],\n",
       " [1, 0, 9, 7, 7, 9, 4, 6, 7, 9, 7, 9, 4, 6, 3, 4, 6, 7, 7, 9],\n",
       " [6, 7, 9, 3, 4, 6, 3, 3, 3, 6, 7, 7, 7, 9, 4, 6, 7, 9, 4, 7],\n",
       " [8, 0, 3, 4, 6, 7, 0, 3, 4, 6, 6, 7, 9, 4, 6, 7, 4, 9, 4, 6],\n",
       " [2, 0, 4, 6, 4, 6, 7, 0, 3, 4, 6, 7, 9, 7, 9, 4, 6, 3, 4, 6],\n",
       " [9, 4, 6, 4, 6, 7, 9, 4, 6, 3, 4, 6, 7, 0, 3, 4, 6, 4, 6, 7],\n",
       " [0, 3, 3, 4, 6, 4, 6, 7, 9, 4, 6, 7, 9, 3, 4, 4, 6, 4, 6, 7],\n",
       " [4, 6, 3, 4, 6, 7, 9, 7, 0, 3, 4, 6, 3, 4, 6, 7, 9, 4, 6, 7],\n",
       " [3, 6, 7, 0, 3, 6, 7, 9, 7, 9, 4, 6, 7, 9, 7, 9, 4, 6, 7, 9],\n",
       " [5, 0, 3, 4, 6, 7, 3, 3, 4, 6, 7, 7, 9, 3, 6, 7, 7, 0, 3, 3],\n",
       " [7, 0, 3, 4, 3, 4, 6, 7, 0, 3, 4, 6, 7, 6, 7, 9, 7, 9, 3, 4],\n",
       " [5, 0, 3, 4, 7, 9, 3, 4, 6, 4, 6, 7, 4, 6, 4, 4, 6, 7, 9, 7],\n",
       " [1, 0, 9, 4, 6, 7, 0, 3, 4, 6, 7, 9, 4, 6, 7, 9, 4, 7, 7, 4],\n",
       " [2, 0, 3, 4, 6, 7, 9, 7, 9, 7, 0, 3, 4, 3, 4, 6, 7, 3, 4, 4],\n",
       " [4, 6, 7, 9, 4, 6, 7, 9, 7, 9, 4, 7, 7, 7, 9, 4, 6, 7, 9, 3],\n",
       " [6, 7, 9, 4, 6, 7, 7, 9, 3, 4, 6, 7, 9, 4, 6, 7, 9, 4, 7, 9],\n",
       " [0, 3, 4, 4, 6, 7, 9, 3, 9, 3, 4, 6, 7, 9, 7, 9, 7, 9, 3, 4],\n",
       " [7, 0, 3, 3, 4, 6, 7, 9, 4, 6, 7, 9, 7, 9, 7, 9, 3, 4, 6, 7],\n",
       " [8, 0, 3, 4, 7, 9, 7, 9, 4, 6, 7, 9, 4, 6, 7, 4, 6, 7, 7, 9],\n",
       " [9, 7, 7, 9, 7, 4, 6, 7, 9, 4, 6, 7, 7, 9, 7, 9, 7, 9, 7, 9],\n",
       " [3, 4, 6, 7, 9, 3, 4, 6, 7, 9, 3, 4, 6, 4, 6, 7, 3, 4, 6, 7],\n",
       " [2, 0, 3, 4, 6, 7, 9, 4, 6, 4, 6, 7, 9, 3, 4, 6, 7, 7, 9, 4],\n",
       " [9, 4, 6, 3, 4, 6, 7, 9, 3, 4, 4, 3, 4, 7, 9, 7, 9, 7, 9, 7],\n",
       " [8, 0, 3, 4, 6, 7, 9, 4, 6, 7, 9, 7, 9, 4, 4, 6, 9, 4, 6, 7],\n",
       " [4, 6, 7, 9, 7, 4, 6, 7, 9, 7, 7, 0, 4, 6, 7, 9, 4, 6, 7, 9],\n",
       " [3, 4, 6, 4, 4, 6, 4, 6, 7, 7, 9, 3, 4, 6, 9, 4, 6, 7, 9, 7],\n",
       " [7, 9, 4, 6, 7, 9, 4, 6, 7, 7, 9, 3, 4, 6, 7, 9, 4, 6, 7, 7],\n",
       " [5, 0, 3, 4, 6, 7, 9, 7, 9, 3, 4, 4, 6, 7, 4, 6, 7, 9, 4, 6],\n",
       " [1, 0, 3, 4, 6, 7, 9, 4, 6, 7, 4, 4, 6, 7, 4, 7, 9, 7, 9, 4],\n",
       " [0, 3, 4, 6, 7, 7, 7, 7, 9, 4, 7, 9, 7, 9, 7, 9, 3, 4, 6, 7],\n",
       " [6, 7, 0, 3, 4, 6, 7, 9, 4, 6, 3, 4, 6, 7, 7, 7, 9, 7, 9, 7],\n",
       " [8, 0, 3, 4, 6, 7, 0, 3, 4, 6, 7, 9, 4, 6, 7, 4, 4, 3, 4, 6],\n",
       " [1, 0, 6, 7, 9, 4, 6, 7, 0, 3, 4, 6, 7, 9, 3, 4, 9, 7, 9, 3],\n",
       " [9, 4, 6, 7, 9, 4, 6, 4, 6, 7, 9, 3, 3, 4, 6, 7, 9, 3, 4, 6],\n",
       " [2, 0, 3, 4, 6, 7, 9, 7, 9, 7, 9, 7, 9, 4, 6, 7, 4, 6, 7, 7],\n",
       " [7, 3, 4, 6, 7, 0, 4, 6, 7, 9, 7, 4, 6, 7, 9, 4, 6, 7, 9, 4],\n",
       " [6, 7, 9, 4, 4, 6, 7, 9, 4, 4, 6, 4, 6, 7, 4, 4, 6, 4, 6, 7],\n",
       " [3, 4, 6, 3, 6, 7, 4, 6, 7, 9, 7, 9, 7, 0, 3, 4, 6, 7, 9, 7],\n",
       " [5, 0, 3, 7, 4, 4, 6, 7, 7, 9, 4, 4, 6, 7, 6, 7, 7, 7, 9, 7],\n",
       " [4, 6, 7, 9, 4, 6, 7, 9, 3, 4, 4, 6, 7, 9, 7, 9, 7, 9, 4, 6],\n",
       " [0, 3, 4, 6, 7, 9, 3, 3, 4, 4, 6, 7, 0, 3, 4, 6, 7, 9, 3, 4],\n",
       " [7, 9, 7, 9, 7, 9, 4, 6, 7, 9, 7, 7, 9, 3, 4, 6, 7, 9, 4, 6],\n",
       " [0, 3, 4, 4, 6, 6, 7, 9, 4, 6, 7, 9, 7, 9, 4, 6, 7, 3, 4, 6],\n",
       " [4, 6, 7, 9, 3, 4, 6, 7, 9, 4, 6, 7, 7, 7, 0, 3, 4, 6, 7, 0],\n",
       " [1, 0, 3, 4, 6, 7, 0, 4, 6, 7, 9, 4, 6, 4, 4, 6, 7, 0, 4, 6],\n",
       " [8, 0, 3, 4, 6, 7, 9, 3, 4, 4, 6, 7, 9, 7, 9, 4, 6, 7, 9, 3],\n",
       " [3, 4, 6, 7, 9, 7, 9, 3, 4, 6, 7, 7, 9, 7, 9, 7, 9, 4, 6, 7],\n",
       " [9, 3, 4, 6, 7, 7, 6, 7, 4, 4, 6, 4, 6, 7, 9, 7, 9, 7, 4, 6],\n",
       " [2, 0, 3, 4, 6, 7, 7, 9, 3, 4, 6, 3, 4, 3, 4, 7, 3, 4, 6, 7],\n",
       " [5, 0, 3, 4, 6, 7, 9, 3, 4, 6, 7, 9, 3, 4, 6, 7, 0, 4, 6, 7],\n",
       " [6, 4, 6, 7, 9, 7, 9, 4, 6, 4, 6, 7, 9, 7, 9, 4, 6, 7, 9, 4],\n",
       " [1, 0, 3, 4, 6, 7, 9, 3, 4, 7, 0, 3, 4, 6, 7, 9, 4, 6, 7, 9],\n",
       " [0, 3, 3, 4, 6, 7, 9, 4, 6, 7, 9, 4, 6, 7, 4, 6, 7, 6, 9, 3],\n",
       " [6, 7, 9, 7, 9, 4, 4, 6, 7, 7, 9, 3, 4, 6, 7, 7, 7, 9, 3, 4],\n",
       " [5, 0, 3, 4, 6, 7, 0, 4, 7, 9, 3, 4, 4, 6, 7, 3, 7, 9, 4, 6],\n",
       " [3, 4, 6, 7, 9, 7, 9, 7, 9, 3, 4, 6, 0, 3, 7, 9, 7, 9, 4, 6],\n",
       " [4, 4, 6, 7, 0, 3, 4, 6, 7, 9, 4, 6, 7, 9, 7, 9, 3, 4, 6, 7],\n",
       " [9, 4, 6, 7, 9, 7, 6, 7, 0, 3, 4, 6, 7, 0, 3, 4, 4, 4, 6, 7],\n",
       " [2, 0, 3, 4, 6, 7, 7, 3, 4, 4, 6, 3, 6, 7, 0, 9, 4, 6, 7, 7],\n",
       " [7, 9, 7, 9, 7, 7, 9, 4, 6, 7, 9, 4, 6, 7, 9, 3, 4, 4, 4, 6],\n",
       " [8, 0, 3, 4, 6, 7, 9, 3, 4, 6, 7, 9, 4, 6, 7, 7, 9, 7, 9, 4],\n",
       " [4, 6, 7, 9, 3, 4, 6, 7, 4, 6, 7, 9, 4, 6, 7, 9, 7, 9, 7, 9],\n",
       " [3, 4, 6, 7, 7, 9, 4, 6, 7, 7, 0, 3, 4, 6, 3, 4, 6, 7, 7, 3],\n",
       " [9, 4, 4, 6, 4, 6, 7, 9, 4, 6, 7, 9, 7, 9, 7, 9, 4, 6, 7, 9],\n",
       " [6, 7, 9, 7, 9, 7, 9, 7, 7, 7, 7, 6, 3, 4, 6, 7, 0, 4, 6, 3],\n",
       " [5, 0, 3, 4, 6, 7, 7, 9, 7, 9, 4, 4, 6, 7, 9, 3, 4, 6, 4, 6],\n",
       " [1, 0, 3, 4, 6, 7, 7, 9, 7, 4, 6, 7, 0, 3, 4, 4, 6, 9, 7, 9],\n",
       " [7, 9, 3, 4, 4, 6, 7, 9, 7, 9, 4, 4, 6, 4, 6, 7, 9, 4, 7, 9],\n",
       " [2, 0, 3, 4, 6, 0, 3, 4, 4, 6, 7, 9, 3, 4, 6, 7, 7, 9, 7, 0],\n",
       " [8, 0, 3, 4, 7, 4, 3, 4, 4, 4, 6, 3, 4, 6, 3, 4, 6, 4, 6, 4],\n",
       " [0, 3, 3, 4, 6, 4, 6, 7, 9, 7, 4, 6, 9, 3, 4, 6, 7, 9, 3, 4],\n",
       " [9, 3, 4, 6, 7, 9, 7, 0, 3, 4, 7, 9, 4, 6, 7, 9, 4, 6, 7, 7],\n",
       " [6, 7, 9, 4, 6, 7, 9, 7, 4, 6, 7, 9, 3, 4, 6, 3, 9, 3, 4, 6],\n",
       " [7, 9, 7, 9, 4, 6, 7, 3, 4, 6, 4, 6, 7, 9, 7, 9, 4, 6, 7, 9],\n",
       " [3, 4, 6, 4, 6, 6, 7, 9, 3, 4, 6, 7, 9, 4, 6, 7, 9, 7, 0, 3],\n",
       " [0, 3, 4, 6, 7, 9, 4, 3, 4, 3, 4, 6, 7, 9, 7, 9, 3, 4, 6, 7],\n",
       " [1, 0, 3, 4, 6, 7, 9, 4, 6, 3, 4, 6, 4, 6, 7, 7, 7, 9, 3, 4],\n",
       " [2, 0, 3, 4, 4, 4, 6, 3, 4, 4, 6, 4, 6, 7, 9, 4, 6, 3, 4, 6],\n",
       " [4, 6, 7, 9, 3, 4, 6, 7, 9, 4, 6, 7, 9, 3, 4, 6, 7, 9, 3, 4],\n",
       " [8, 0, 3, 4, 6, 7, 9, 4, 4, 6, 7, 9, 4, 6, 7, 4, 4, 7, 9, 3],\n",
       " [5, 0, 3, 4, 6, 7, 9, 4, 6, 7, 9, 4, 6, 7, 9, 4, 6, 7, 9, 7],\n",
       " [9, 4, 6, 7, 9, 4, 6, 7, 7, 9, 7, 4, 6, 7, 9, 3, 4, 6, 7, 7],\n",
       " [5, 0, 4, 7, 9, 4, 7, 9, 4, 6, 7, 9, 4, 6, 3, 4, 6, 4, 6, 7],\n",
       " [0, 7, 0, 9, 7, 9, 3, 4, 6, 4, 6, 7, 0, 0, 3, 4, 6, 7, 9, 4],\n",
       " [6, 7, 9, 7, 9, 4, 4, 4, 6, 4, 6, 7, 9, 4, 4, 6, 7, 9, 4, 6],\n",
       " [4, 6, 7, 9, 7, 9, 7, 9, 3, 4, 6, 7, 9, 4, 6, 0, 3, 4, 6, 4],\n",
       " [3, 3, 4, 6, 7, 9, 7, 7, 0, 3, 4, 4, 6, 7, 9, 7, 9, 7, 9, 3],\n",
       " [8, 0, 3, 4, 6, 4, 6, 7, 9, 3, 4, 4, 6, 7, 0, 3, 4, 4, 6, 7],\n",
       " [1, 0, 3, 7, 9, 4, 6, 7, 9, 4, 6, 7, 7, 9, 3, 7, 3, 3, 4, 3],\n",
       " [7, 9, 7, 9, 4, 6, 4, 6, 7, 9, 7, 9, 7, 9, 4, 6, 7, 0, 4, 6],\n",
       " [2, 0, 9, 4, 6, 4, 6, 7, 9, 4, 6, 4, 6, 7, 9, 7, 9, 7, 9, 4],\n",
       " [2, 0, 4, 6, 7, 9, 4, 7, 4, 6, 7, 9, 7, 0, 4, 6, 7, 7, 9, 3],\n",
       " [5, 0, 3, 4, 6, 7, 0, 3, 4, 6, 7, 9, 7, 7, 9, 4, 6, 7, 9, 4],\n",
       " [8, 0, 4, 6, 3, 4, 7, 9, 3, 4, 7, 7, 0, 4, 3, 4, 4, 7, 7, 9],\n",
       " [4, 6, 7, 7, 9, 3, 4, 6, 3, 4, 6, 7, 6, 7, 9, 4, 4, 6, 7, 7],\n",
       " [1, 0, 3, 4, 6, 7, 7, 0, 3, 4, 6, 7, 9, 4, 4, 6, 7, 9, 4, 6],\n",
       " [0, 4, 6, 7, 9, 4, 6, 7, 9, 7, 9, 3, 4, 6, 7, 0, 3, 7, 9, 4],\n",
       " [7, 9, 7, 9, 3, 4, 6, 7, 9, 4, 6, 7, 9, 7, 9, 4, 7, 4, 6, 4],\n",
       " [6, 7, 9, 4, 6, 7, 9, 4, 3, 4, 6, 7, 7, 7, 9, 7, 0, 3, 4, 6],\n",
       " [9, 3, 4, 6, 7, 9, 4, 6, 7, 9, 3, 4, 7, 9, 7, 9, 7, 9, 4, 6],\n",
       " [3, 4, 6, 7, 9, 7, 9, 4, 9, 4, 6, 7, 9, 3, 4, 6, 7, 9, 4, 6],\n",
       " [4, 6, 4, 4, 6, 7, 9, 4, 6, 7, 9, 4, 6, 7, 0, 4, 4, 6, 7, 9],\n",
       " [2, 0, 3, 7, 7, 9, 4, 6, 7, 9, 4, 9, 3, 4, 6, 7, 9, 3, 4, 6],\n",
       " [3, 4, 6, 7, 7, 4, 7, 9, 4, 6, 7, 0, 4, 6, 6, 7, 9, 7, 0, 3],\n",
       " [7, 9, 4, 4, 6, 9, 4, 6, 7, 9, 4, 6, 4, 4, 6, 7, 9, 4, 7, 0],\n",
       " [8, 0, 3, 4, 6, 7, 9, 3, 4, 6, 4, 6, 7, 4, 6, 7, 9, 4, 6, 7],\n",
       " [0, 4, 6, 7, 7, 9, 7, 9, 7, 9, 3, 4, 6, 7, 9, 3, 4, 6, 7, 9],\n",
       " [5, 0, 3, 4, 6, 7, 9, 4, 6, 7, 9, 3, 4, 6, 7, 4, 6, 4, 6, 4],\n",
       " [6, 6, 7, 9, 4, 6, 7, 9, 3, 4, 6, 7, 9, 3, 9, 4, 3, 4, 6, 7],\n",
       " [9, 4, 7, 3, 7, 0, 3, 4, 6, 7, 0, 3, 3, 4, 6, 4, 6, 7, 9, 4],\n",
       " [1, 0, 4, 6, 7, 9, 3, 6, 7, 0, 0, 9, 7, 9, 7, 9, 7, 9, 3, 4],\n",
       " [0, 3, 4, 6, 3, 4, 6, 7, 9, 4, 6, 7, 7, 7, 9, 4, 4, 7, 9, 7],\n",
       " [2, 0, 3, 4, 6, 7, 9, 4, 6, 7, 9, 4, 3, 4, 6, 7, 9, 4, 6, 7],\n",
       " [3, 6, 7, 9, 4, 6, 7, 9, 4, 4, 6, 7, 9, 3, 7, 9, 3, 4, 6, 7],\n",
       " [6, 7, 0, 3, 3, 4, 4, 7, 0, 6, 7, 9, 7, 9, 7, 9, 3, 4, 6, 7],\n",
       " [8, 0, 4, 6, 7, 9, 7, 9, 7, 9, 4, 6, 7, 9, 7, 9, 4, 6, 7, 9],\n",
       " [9, 3, 4, 6, 7, 0, 3, 4, 3, 4, 6, 7, 9, 3, 4, 6, 7, 9, 3, 4],\n",
       " [4, 4, 6, 4, 6, 7, 9, 7, 9, 7, 9, 4, 6, 7, 9, 7, 9, 7, 9, 4],\n",
       " [7, 4, 6, 7, 9, 4, 6, 7, 9, 4, 9, 4, 6, 3, 4, 7, 4, 6, 6, 7],\n",
       " [5, 0, 3, 4, 6, 7, 0, 3, 4, 3, 3, 4, 6, 4, 6, 7, 9, 4, 6, 7],\n",
       " [1, 0, 3, 4, 6, 7, 9, 7, 9, 4, 6, 7, 9, 3, 4, 6, 7, 9, 7, 9],\n",
       " [0, 3, 4, 6, 7, 0, 3, 4, 6, 7, 9, 3, 4, 6, 7, 9, 4, 6, 7, 9],\n",
       " [8, 0, 4, 4, 4, 6, 7, 9, 3, 4, 6, 7, 0, 3, 4, 4, 6, 7, 9, 4],\n",
       " [7, 9, 4, 6, 7, 3, 9, 4, 6, 7, 0, 7, 0, 3, 4, 6, 7, 9, 3, 4],\n",
       " [1, 0, 3, 4, 4, 6, 4, 6, 7, 6, 7, 9, 3, 3, 4, 6, 7, 9, 4, 6],\n",
       " [4, 6, 7, 7, 7, 9, 4, 6, 7, 9, 4, 6, 3, 4, 6, 7, 4, 6, 7, 9],\n",
       " [2, 0, 3, 4, 6, 7, 9, 7, 0, 3, 7, 9, 4, 9, 4, 6, 7, 0, 3, 4],\n",
       " [6, 7, 9, 4, 6, 7, 9, 7, 4, 7, 9, 3, 4, 6, 7, 9, 7, 9, 3, 7],\n",
       " [5, 0, 3, 4, 4, 6, 7, 0, 3, 4, 6, 7, 9, 7, 9, 4, 6, 7, 9, 4],\n",
       " [9, 7, 9, 3, 3, 4, 6, 3, 4, 6, 7, 9, 4, 6, 7, 9, 3, 4, 6, 7],\n",
       " [3, 4, 6, 7, 0, 4, 6, 7, 3, 4, 6, 7, 0, 3, 4, 4, 6, 4, 6, 7],\n",
       " [8, 0, 6, 7, 0, 3, 4, 4, 6, 7, 0, 3, 4, 6, 7, 0, 9, 4, 4, 7],\n",
       " [1, 0, 3, 4, 6, 7, 9, 7, 9, 7, 9, 4, 6, 7, 9, 3, 4, 6, 4, 6],\n",
       " [3, 4, 7, 9, 4, 6, 0, 3, 4, 6, 7, 0, 9, 7, 0, 3, 4, 6, 7, 7],\n",
       " [5, 0, 6, 7, 0, 3, 4, 6, 7, 9, 4, 6, 3, 4, 6, 7, 9, 7, 9, 7],\n",
       " [2, 0, 3, 4, 4, 4, 6, 7, 9, 4, 6, 7, 7, 7, 9, 7, 9, 4, 6, 7],\n",
       " [9, 4, 6, 7, 9, 3, 6, 7, 7, 9, 4, 6, 3, 4, 6, 7, 9, 7, 9, 7],\n",
       " [7, 9, 7, 9, 4, 6, 7, 0, 3, 9, 3, 4, 6, 7, 9, 3, 4, 6, 7, 4],\n",
       " [4, 6, 7, 9, 7, 9, 7, 9, 4, 6, 7, 7, 9, 4, 6, 7, 7, 9, 4, 7],\n",
       " [0, 3, 4, 6, 7, 9, 3, 4, 6, 7, 9, 7, 9, 3, 4, 4, 4, 6, 7, 9],\n",
       " [6, 7, 4, 6, 7, 9, 4, 6, 7, 9, 3, 4, 6, 7, 9, 4, 6, 7, 9, 4],\n",
       " [8, 0, 4, 6, 7, 9, 4, 3, 3, 4, 6, 7, 9, 4, 6, 9, 4, 6, 7, 9],\n",
       " [7, 9, 7, 9, 7, 9, 4, 6, 7, 0, 3, 4, 6, 7, 0, 3, 4, 3, 4, 6],\n",
       " [9, 4, 6, 7, 9, 4, 4, 6, 7, 9, 7, 7, 9, 7, 9, 4, 4, 6, 7, 9],\n",
       " [6, 7, 7, 9, 7, 9, 7, 9, 4, 4, 6, 7, 9, 4, 6, 7, 9, 4, 4, 6],\n",
       " [3, 4, 6, 7, 9, 3, 4, 6, 7, 9, 4, 6, 7, 9, 3, 3, 4, 6, 7, 0],\n",
       " [5, 0, 3, 7, 9, 4, 6, 7, 9, 3, 4, 6, 7, 9, 4, 6, 7, 9, 4, 6],\n",
       " [1, 0, 4, 6, 9, 7, 0, 3, 4, 6, 7, 7, 9, 3, 4, 3, 4, 9, 3, 4],\n",
       " [4, 6, 7, 4, 6, 7, 7, 9, 4, 6, 7, 9, 3, 4, 6, 7, 6, 7, 0, 7],\n",
       " [2, 0, 3, 4, 6, 7, 9, 7, 9, 7, 9, 7, 9, 4, 6, 7, 9, 4, 6, 7],\n",
       " [0, 4, 6, 7, 0, 3, 3, 4, 6, 7, 0, 3, 3, 4, 6, 7, 0, 4, 6, 7],\n",
       " [0, 3, 3, 4, 6, 7, 0, 3, 4, 6, 7, 9, 7, 9, 7, 9, 7, 9, 3, 4],\n",
       " [5, 0, 6, 7, 9, 7, 9, 4, 6, 7, 9, 4, 7, 9, 7, 9, 4, 6, 7, 7],\n",
       " [3, 4, 6, 7, 9, 7, 9, 4, 6, 7, 9, 4, 4, 6, 7, 6, 7, 4, 6, 7],\n",
       " [4, 6, 7, 7, 9, 4, 6, 7, 9, 3, 4, 0, 3, 4, 6, 7, 9, 3, 4, 6],\n",
       " [1, 0, 3, 4, 6, 7, 9, 4, 4, 6, 7, 7, 9, 7, 9, 4, 6, 7, 9, 4],\n",
       " [7, 0, 4, 6, 7, 9, 3, 4, 6, 7, 9, 3, 4, 6, 3, 4, 4, 6, 7, 9],\n",
       " [6, 7, 9, 3, 4, 6, 7, 9, 4, 6, 7, 6, 3, 4, 3, 4, 4, 7, 9, 4],\n",
       " [2, 0, 3, 4, 6, 7, 9, 4, 6, 3, 7, 9, 7, 9, 3, 7, 9, 7, 9, 7],\n",
       " [9, 4, 6, 7, 9, 4, 6, 7, 9, 7, 9, 7, 9, 7, 9, 7, 9, 7, 9, 4],\n",
       " [8, 0, 3, 3, 4, 6, 7, 9, 7, 9, 4, 6, 7, 9, 4, 6, 7, 9, 4, 4],\n",
       " [4, 4, 6, 7, 9, 7, 9, 7, 9, 4, 6, 7, 7, 9, 7, 7, 4, 6, 7, 9],\n",
       " [5, 0, 3, 4, 6, 7, 9, 7, 9, 4, 4, 6, 6, 7, 0, 3, 4, 6, 7, 4],\n",
       " [0, 3, 4, 6, 7, 0, 4, 6, 7, 9, 3, 4, 6, 7, 4, 6, 7, 9, 4, 9],\n",
       " [2, 0, 3, 4, 7, 9, 4, 6, 7, 7, 0, 7, 9, 4, 6, 7, 9, 3, 4, 7],\n",
       " [1, 0, 7, 9, 4, 6, 7, 0, 3, 4, 6, 3, 4, 4, 6, 7, 9, 7, 0, 3],\n",
       " [9, 4, 6, 4, 6, 7, 9, 4, 6, 7, 9, 7, 9, 4, 6, 7, 9, 4, 4, 7],\n",
       " [6, 7, 7, 9, 7, 9, 4, 6, 6, 7, 9, 3, 4, 6, 6, 7, 9, 7, 7, 7],\n",
       " [8, 0, 3, 4, 6, 7, 9, 4, 6, 7, 7, 9, 7, 9, 4, 6, 7, 9, 4, 4],\n",
       " [7, 0, 3, 4, 6, 7, 0, 3, 3, 3, 4, 4, 6, 7, 6, 9, 7, 9, 4, 6],\n",
       " [3, 4, 6, 7, 4, 6, 7, 9, 4, 6, 7, 9, 7, 9, 4, 6, 7, 0, 3, 4],\n",
       " [2, 0, 0, 4, 6, 7, 9, 3, 4, 6, 7, 7, 7, 9, 4, 6, 3, 4, 6, 7],\n",
       " [1, 0, 4, 6, 7, 9, 4, 6, 7, 9, 4, 6, 3, 4, 4, 4, 6, 7, 7, 7],\n",
       " [4, 6, 7, 4, 4, 6, 7, 9, 3, 4, 6, 7, 9, 4, 6, 7, 9, 3, 4, 6],\n",
       " [8, 0, 3, 4, 6, 7, 9, 7, 9, 7, 7, 0, 6, 7, 9, 4, 6, 7, 9, 4],\n",
       " [0, 3, 4, 6, 7, 7, 9, 3, 4, 6, 7, 9, 3, 3, 4, 3, 4, 6, 7, 9],\n",
       " [7, 9, 4, 6, 6, 7, 9, 3, 4, 4, 6, 7, 9, 4, 4, 6, 7, 9, 3, 3],\n",
       " [6, 7, 9, 7, 9, 4, 7, 4, 6, 7, 0, 3, 4, 6, 7, 0, 4, 6, 3, 6],\n",
       " [5, 0, 3, 4, 4, 6, 7, 9, 7, 9, 3, 9, 4, 6, 7, 9, 7, 9, 4, 6],\n",
       " [3, 4, 6, 7, 9, 4, 6, 4, 6, 7, 9, 4, 6, 7, 9, 7, 9, 3, 4, 6],\n",
       " [9, 4, 6, 7, 0, 4, 6, 7, 0, 3, 4, 6, 4, 6, 7, 9, 4, 6, 7, 7],\n",
       " [9, 4, 6, 7, 9, 4, 6, 7, 9, 7, 7, 9, 7, 9, 4, 6, 7, 9, 4, 6],\n",
       " [5, 0, 3, 3, 4, 6, 4, 6, 7, 9, 4, 6, 7, 9, 3, 4, 6, 7, 9, 4],\n",
       " [2, 0, 4, 6, 7, 6, 7, 9, 7, 9, 3, 4, 6, 7, 7, 0, 7, 9, 7, 9],\n",
       " [1, 0, 3, 4, 6, 7, 9, 4, 4, 4, 4, 6, 7, 9, 7, 9, 3, 4, 6, 7],\n",
       " [4, 3, 4, 6, 7, 3, 4, 6, 7, 0, 7, 9, 7, 9, 4, 4, 6, 7, 7, 9],\n",
       " [3, 4, 6, 7, 9, 4, 6, 7, 9, 3, 4, 6, 7, 0, 4, 6, 7, 9, 4, 6],\n",
       " [6, 7, 9, 7, 9, 7, 9, 4, 6, 7, 9, 4, 3, 4, 6, 3, 4, 6, 7, 9],\n",
       " [8, 0, 3, 4, 7, 9, 3, 4, 6, 7, 9, 7, 9, 4, 3, 4, 6, 7, 9, 4],\n",
       " [7, 9, 7, 9, 4, 6, 3, 4, 6, 7, 9, 4, 6, 7, 7, 9, 7, 9, 7, 9],\n",
       " [0, 3, 6, 7, 9, 3, 3, 4, 6, 7, 0, 6, 7, 9, 4, 6, 7, 9, 4, 6],\n",
       " [9, 4, 6, 7, 9, 4, 6, 4, 6, 7, 9, 7, 9, 4, 6, 7, 9, 4, 6, 7],\n",
       " [0, 6, 7, 0, 3, 3, 4, 6, 7, 9, 7, 9, 7, 9, 4, 6, 7, 9, 4, 6],\n",
       " [2, 0, 4, 4, 4, 6, 7, 9, 7, 9, 7, 9, 4, 6, 7, 7, 9, 3, 4, 6],\n",
       " [6, 7, 7, 9, 4, 6, 7, 9, 7, 9, 7, 9, 7, 9, 7, 9, 7, 9, 7, 4],\n",
       " [5, 0, 3, 4, 6, 7, 9, 4, 6, 7, 9, 4, 6, 7, 9, 7, 9, 3, 4, 3],\n",
       " [4, 6, 7, 9, 4, 6, 7, 9, 3, 4, 4, 9, 4, 6, 7, 9, 3, 4, 6, 3],\n",
       " [8, 0, 3, 3, 4, 6, 7, 9, 3, 4, 6, 7, 9, 3, 4, 6, 7, 9, 4, 6],\n",
       " [7, 7, 9, 4, 4, 4, 4, 6, 7, 4, 6, 7, 4, 4, 6, 7, 9, 7, 4, 6],\n",
       " [1, 0, 3, 3, 6, 7, 9, 3, 3, 4, 6, 7, 9, 7, 9, 4, 4, 6, 7, 9],\n",
       " [3, 4, 6, 7, 9, 7, 9, 7, 9, 4, 6, 7, 9, 4, 6, 9, 7, 9, 3, 4],\n",
       " [5, 0, 0, 3, 4, 4, 4, 4, 4, 6, 7, 9, 4, 4, 6, 7, 4, 6, 7, 9],\n",
       " [1, 0, 0, 3, 4, 6, 7, 9, 4, 6, 7, 7, 9, 4, 6, 7, 9, 4, 6, 7],\n",
       " [7, 9, 4, 6, 4, 6, 7, 9, 4, 6, 7, 7, 0, 7, 0, 0, 3, 4, 6, 7],\n",
       " [6, 7, 9, 3, 4, 6, 9, 4, 6, 7, 4, 6, 7, 6, 7, 9, 4, 6, 7, 9],\n",
       " [3, 4, 4, 6, 7, 4, 6, 7, 9, 4, 6, 7, 9, 3, 4, 6, 7, 9, 4, 6],\n",
       " [4, 4, 4, 4, 4, 6, 7, 9, 4, 4, 4, 6, 7, 9, 4, 6, 0, 3, 3, 4],\n",
       " [2, 0, 3, 4, 6, 7, 9, 4, 4, 7, 9, 4, 6, 7, 9, 4, 4, 6, 7, 9],\n",
       " [9, 4, 6, 7, 9, 4, 4, 6, 0, 3, 4, 6, 7, 7, 9, 3, 9, 4, 6, 4],\n",
       " [0, 3, 7, 9, 4, 6, 3, 4, 6, 7, 9, 7, 7, 4, 6, 3, 4, 6, 7, 9],\n",
       " [8, 0, 3, 4, 6, 7, 7, 9, 4, 6, 3, 4, 6, 7, 9, 4, 6, 7, 9, 7],\n",
       " [5, 0, 3, 4, 6, 7, 9, 7, 9, 3, 4, 6, 7, 9, 7, 9, 4, 6, 7, 9],\n",
       " [9, 3, 3, 3, 4, 6, 7, 9, 7, 9, 7, 9, 4, 6, 7, 9, 4, 6, 7, 9],\n",
       " [0, 3, 4, 6, 7, 9, 7, 4, 6, 7, 9, 4, 6, 7, 9, 4, 6, 0, 3, 0],\n",
       " [3, 4, 6, 7, 9, 4, 6, 7, 9, 3, 4, 4, 6, 7, 9, 7, 9, 4, 6, 7],\n",
       " [1, 0, 3, 4, 6, 7, 9, 7, 9, 7, 9, 3, 4, 6, 7, 9, 7, 9, 3, 4],\n",
       " [6, 7, 4, 6, 7, 7, 9, 4, 6, 7, 9, 4, 6, 9, 7, 9, 3, 4, 6, 7],\n",
       " [8, 0, 3, 4, 6, 7, 9, 7, 9, 7, 9, 3, 4, 6, 7, 9, 7, 9, 7, 9],\n",
       " [2, 0, 3, 4, 6, 4, 6, 7, 7, 9, 3, 4, 4, 6, 7, 9, 4, 6, 7, 0],\n",
       " [7, 4, 6, 9, 4, 6, 7, 7, 9, 3, 3, 6, 7, 0, 7, 9, 3, 4, 6, 7],\n",
       " [4, 6, 7, 0, 3, 4, 6, 7, 9, 4, 4, 6, 6, 7, 9, 4, 6, 7, 3, 3],\n",
       " [2, 0, 4, 3, 4, 7, 0, 3, 4, 6, 9, 4, 6, 7, 9, 4, 6, 7, 0, 4],\n",
       " [4, 6, 7, 9, 3, 4, 7, 9, 7, 3, 4, 6, 7, 7, 7, 0, 4, 6, 7, 9],\n",
       " [6, 7, 0, 4, 6, 7, 9, 7, 9, 7, 9, 3, 4, 6, 7, 9, 3, 4, 6, 7],\n",
       " [5, 0, 3, 4, 6, 3, 4, 6, 7, 9, 4, 6, 7, 9, 4, 6, 4, 6, 7, 9],\n",
       " [9, 4, 6, 7, 9, 4, 6, 7, 9, 4, 6, 7, 7, 9, 4, 4, 4, 6, 7, 9],\n",
       " [7, 9, 4, 6, 7, 9, 7, 7, 0, 3, 4, 4, 6, 7, 9, 3, 4, 6, 7, 9],\n",
       " [1, 0, 3, 4, 6, 7, 0, 3, 4, 4, 6, 7, 9, 7, 9, 4, 7, 9, 3, 4],\n",
       " [0, 3, 4, 6, 7, 0, 3, 4, 6, 7, 9, 4, 6, 7, 4, 9, 4, 6, 4, 6],\n",
       " [3, 4, 6, 7, 7, 9, 7, 7, 0, 7, 0, 3, 4, 3, 4, 7, 7, 9, 4, 6],\n",
       " [8, 0, 4, 6, 7, 0, 4, 6, 9, 4, 6, 7, 9, 4, 6, 7, 9, 4, 6, 7],\n",
       " [6, 7, 9, 4, 6, 7, 9, 7, 9, 4, 6, 4, 6, 4, 6, 7, 7, 9, 3, 4],\n",
       " [4, 6, 7, 0, 3, 4, 6, 7, 4, 7, 7, 7, 9, 4, 6, 7, 9, 3, 6, 6],\n",
       " [1, 0, 3, 4, 3, 4, 6, 7, 0, 3, 4, 6, 7, 0, 9, 7, 0, 4, 4, 6],\n",
       " [7, 9, 7, 9, 4, 6, 7, 9, 3, 4, 4, 4, 6, 7, 9, 4, 6, 7, 7, 7],\n",
       " [3, 4, 6, 7, 9, 7, 9, 4, 6, 7, 9, 4, 6, 7, 9, 4, 6, 7, 9, 4],\n",
       " [8, 0, 3, 4, 4, 6, 7, 9, 4, 6, 7, 9, 3, 4, 3, 4, 6, 7, 7, 9],\n",
       " [2, 0, 4, 4, 4, 6, 3, 3, 4, 4, 6, 7, 4, 7, 9, 7, 9, 4, 6, 7],\n",
       " [0, 3, 4, 6, 7, 9, 4, 6, 7, 9, 4, 6, 7, 9, 3, 9, 3, 4, 6, 7],\n",
       " [5, 0, 3, 4, 6, 7, 7, 9, 3, 4, 6, 7, 9, 4, 6, 7, 9, 7, 7, 4],\n",
       " [9, 4, 4, 6, 7, 9, 7, 7, 9, 4, 7, 9, 7, 9, 4, 6, 7, 9, 3, 3],\n",
       " [2, 0, 4, 6, 4, 4, 6, 7, 0, 3, 4, 4, 4, 6, 7, 9, 7, 9, 7, 9],\n",
       " [9, 4, 6, 7, 9, 7, 7, 7, 7, 9, 7, 9, 7, 9, 3, 6, 7, 9, 4, 6],\n",
       " [5, 0, 3, 4, 6, 7, 9, 3, 4, 6, 7, 9, 4, 6, 9, 4, 6, 3, 4, 6],\n",
       " [6, 7, 9, 4, 4, 6, 7, 9, 4, 4, 6, 7, 9, 7, 9, 4, 6, 7, 7, 7],\n",
       " [3, 4, 6, 7, 9, 4, 3, 4, 6, 7, 9, 4, 6, 7, 9, 7, 9, 7, 9, 7],\n",
       " [8, 0, 7, 9, 7, 0, 4, 0, 3, 4, 6, 7, 0, 3, 4, 6, 7, 9, 3, 4],\n",
       " [4, 6, 7, 9, 3, 4, 4, 6, 6, 7, 9, 7, 9, 7, 9, 7, 9, 7, 9, 7],\n",
       " [7, 9, 3, 4, 7, 9, 4, 4, 6, 6, 7, 9, 7, 9, 4, 6, 7, 9, 7, 9],\n",
       " [0, 3, 4, 6, 7, 3, 4, 6, 7, 9, 4, 6, 7, 9, 7, 9, 4, 6, 7, 0],\n",
       " [1, 0, 3, 4, 6, 7, 0, 3, 4, 7, 9, 4, 6, 4, 6, 7, 9, 3, 7, 9],\n",
       " [7, 7, 9, 4, 6, 7, 4, 6, 7, 0, 3, 4, 4, 6, 7, 9, 3, 4, 7, 9],\n",
       " [8, 0, 4, 6, 7, 9, 7, 9, 4, 6, 0, 3, 4, 9, 3, 4, 6, 7, 9, 4],\n",
       " [2, 0, 3, 4, 6, 7, 4, 4, 6, 7, 9, 3, 3, 4, 4, 6, 7, 9, 4, 6],\n",
       " [6, 7, 7, 7, 9, 7, 9, 4, 6, 7, 9, 4, 6, 7, 7, 9, 3, 4, 6, 7],\n",
       " [1, 0, 3, 4, 6, 7, 9, 3, 4, 6, 7, 0, 3, 7, 0, 3, 4, 3, 4, 6],\n",
       " [5, 0, 3, 4, 6, 7, 9, 7, 9, 7, 7, 7, 9, 4, 6, 7, 9, 4, 0, 3],\n",
       " [9, 4, 6, 4, 6, 7, 9, 3, 4, 4, 6, 7, 9, 7, 9, 7, 7, 0, 3, 4],\n",
       " [4, 6, 7, 9, 4, 6, 7, 9, 4, 6, 7, 9, 3, 4, 7, 0, 3, 4, 6, 7],\n",
       " [3, 4, 6, 7, 9, 3, 4, 6, 7, 9, 4, 6, 7, 9, 4, 6, 7, 6, 7, 9],\n",
       " [0, 3, 4, 4, 6, 7, 4, 6, 4, 6, 3, 4, 6, 7, 0, 3, 4, 6, 7, 9],\n",
       " [9, 4, 6, 7, 9, 7, 9, 7, 9, 7, 9, 7, 9, 4, 6, 7, 9, 4, 7, 9],\n",
       " [7, 9, 3, 4, 6, 7, 9, 7, 9, 7, 0, 3, 4, 6, 7, 9, 4, 6, 7, 9],\n",
       " [3, 4, 6, 3, 3, 4, 6, 7, 0, 3, 4, 6, 7, 0, 3, 4, 6, 7, 9, 4],\n",
       " [6, 7, 6, 7, 9, 4, 6, 7, 0, 3, 4, 6, 4, 6, 7, 3, 4, 6, 6, 7],\n",
       " [4, 6, 7, 9, 3, 4, 6, 7, 9, 7, 9, 4, 6, 7, 9, 7, 9, 4, 6, 6],\n",
       " [0, 4, 7, 9, 4, 6, 7, 9, 7, 9, 7, 9, 7, 0, 3, 6, 3, 4, 4, 4],\n",
       " [2, 0, 3, 4, 4, 6, 7, 7, 0, 3, 4, 6, 7, 9, 7, 9, 4, 6, 7, 9],\n",
       " [8, 0, 4, 6, 7, 9, 7, 9, 7, 7, 9, 7, 9, 4, 4, 6, 4, 6, 7, 9],\n",
       " [5, 0, 3, 7, 7, 7, 9, 3, 4, 6, 7, 9, 3, 4, 6, 7, 9, 3, 4, 6],\n",
       " [1, 0, 3, 4, 6, 7, 9, 7, 9, 4, 6, 7, 9, 4, 6, 3, 4, 6, 7, 9],\n",
       " [1, 0, 3, 4, 6, 7, 9, 4, 7, 9, 3, 4, 6, 7, 9, 7, 9, 4, 6, 4],\n",
       " [9, 4, 6, 7, 0, 3, 4, 6, 7, 9, 4, 6, 7, 4, 7, 9, 7, 9, 7, 9],\n",
       " [5, 0, 0, 4, 6, 7, 9, 4, 6, 7, 7, 9, 4, 6, 7, 9, 7, 9, 7, 9],\n",
       " [0, 4, 6, 7, 7, 9, 3, 4, 6, 7, 0, 3, 4, 6, 7, 0, 3, 4, 6, 7],\n",
       " [8, 0, 3, 4, 4, 7, 0, 0, 3, 4, 6, 7, 9, 4, 6, 7, 9, 7, 9, 3],\n",
       " [6, 3, 4, 6, 7, 3, 6, 7, 9, 3, 4, 6, 7, 6, 7, 9, 4, 4, 6, 4],\n",
       " [3, 3, 4, 6, 7, 9, 7, 9, 7, 9, 4, 6, 7, 9, 3, 4, 6, 7, 9, 7],\n",
       " [4, 6, 7, 0, 3, 4, 4, 4, 6, 7, 4, 6, 7, 7, 7, 9, 4, 7, 9, 4],\n",
       " [7, 9, 7, 0, 3, 4, 6, 7, 9, 4, 6, 7, 9, 4, 6, 7, 0, 3, 4, 7],\n",
       " [2, 0, 3, 4, 6, 7, 9, 4, 4, 4, 6, 7, 9, 7, 7, 9, 7, 9, 7, 7],\n",
       " [0, 3, 4, 6, 4, 6, 7, 9, 4, 6, 7, 9, 7, 9, 4, 6, 7, 9, 7, 9],\n",
       " [2, 0, 3, 4, 6, 7, 9, 7, 9, 4, 3, 4, 6, 7, 9, 4, 6, 7, 9, 4],\n",
       " [8, 0, 3, 4, 3, 4, 6, 7, 9, 7, 9, 4, 6, 7, 0, 3, 4, 6, 9, 4],\n",
       " [6, 3, 4, 6, 7, 9, 4, 6, 7, 9, 7, 9, 3, 3, 4, 6, 7, 9, 4, 6],\n",
       " [3, 4, 7, 7, 9, 4, 6, 7, 9, 7, 9, 4, 4, 6, 7, 7, 9, 4, 6, 7],\n",
       " [1, 0, 3, 4, 6, 7, 9, 3, 4, 6, 7, 9, 4, 6, 7, 9, 4, 6, 4, 4],\n",
       " [4, 6, 7, 7, 7, 9, 4, 6, 4, 6, 7, 0, 3, 4, 6, 7, 9, 4, 4, 7],\n",
       " [9, 7, 9, 4, 6, 7, 9, 3, 4, 6, 4, 6, 7, 0, 3, 4, 6, 7, 9, 4],\n",
       " [5, 0, 3, 4, 3, 7, 7, 9, 4, 6, 7, 0, 4, 6, 7, 7, 9, 4, 4, 6],\n",
       " [7, 9, 3, 4, 6, 7, 9, 7, 9, 4, 6, 7, 9, 7, 9, 7, 9, 4, 6, 7],\n",
       " [3, 4, 6, 7, 9, 4, 6, 0, 3, 4, 6, 4, 6, 7, 9, 3, 4, 6, 7, 9],\n",
       " [7, 9, 3, 4, 7, 9, 4, 4, 6, 7, 9, 7, 9, 7, 9, 4, 6, 7, 9, 3],\n",
       " [2, 0, 4, 6, 4, 6, 7, 9, 3, 9, 7, 9, 3, 9, 3, 4, 4, 6, 3, 4],\n",
       " [8, 0, 4, 7, 0, 0, 4, 6, 7, 9, 3, 4, 6, 7, 9, 7, 9, 3, 4, 6],\n",
       " [5, 0, 3, 4, 3, 4, 6, 6, 7, 9, 4, 6, 6, 7, 3, 4, 6, 7, 9, 4],\n",
       " [4, 6, 7, 9, 7, 9, 7, 9, 4, 6, 7, 9, 7, 9, 7, 0, 4, 6, 7, 4],\n",
       " [6, 7, 7, 9, 3, 4, 6, 7, 0, 3, 4, 6, 7, 9, 4, 6, 7, 9, 4, 6],\n",
       " [9, 4, 4, 4, 7, 9, 3, 4, 6, 7, 9, 7, 4, 6, 4, 6, 7, 7, 9, 3],\n",
       " [0, 3, 4, 7, 7, 9, 4, 6, 4, 6, 7, 9, 3, 4, 6, 7, 9, 4, 3, 4],\n",
       " [1, 0, 3, 4, 6, 7, 0, 4, 6, 7, 9, 4, 6, 7, 9, 3, 4, 6, 9, 3],\n",
       " [9, 3, 4, 6, 7, 9, 3, 7, 4, 6, 7, 9, 4, 6, 7, 9, 7, 9, 4, 6],\n",
       " [5, 0, 3, 4, 6, 7, 4, 6, 3, 4, 6, 7, 9, 4, 6, 7, 0, 3, 7, 9],\n",
       " [1, 0, 3, 4, 6, 3, 4, 6, 7, 7, 9, 4, 6, 7, 0, 3, 4, 4, 6, 7],\n",
       " [3, 4, 7, 0, 3, 4, 6, 7, 9, 4, 9, 7, 9, 4, 7, 9, 4, 4, 6, 7],\n",
       " [0, 3, 4, 6, 7, 3, 4, 7, 9, 3, 4, 6, 7, 3, 7, 0, 3, 4, 4, 6],\n",
       " [2, 0, 3, 4, 6, 7, 4, 4, 6, 7, 7, 9, 3, 4, 4, 6, 7, 9, 3, 4],\n",
       " [8, 0, 3, 0, 3, 4, 6, 4, 6, 7, 7, 9, 7, 9, 4, 6, 4, 6, 7, 0],\n",
       " [7, 0, 3, 4, 6, 7, 9, 3, 4, 6, 7, 9, 4, 6, 3, 4, 6, 7, 9, 7],\n",
       " [6, 7, 0, 3, 4, 6, 7, 9, 3, 4, 6, 7, 9, 4, 4, 6, 7, 0, 3, 3],\n",
       " [4, 6, 6, 7, 7, 3, 4, 6, 7, 9, 3, 4, 6, 4, 6, 7, 6, 3, 4, 6],\n",
       " [3, 4, 9, 3, 4, 6, 7, 9, 3, 4, 6, 7, 9, 3, 4, 4, 6, 7, 9, 4],\n",
       " [0, 3, 4, 6, 7, 3, 4, 4, 6, 7, 9, 7, 0, 0, 3, 4, 6, 7, 4, 6],\n",
       " [8, 0, 3, 4, 6, 7, 9, 4, 6, 7, 9, 4, 6, 7, 9, 4, 6, 7, 9, 4],\n",
       " [2, 0, 3, 4, 6, 7, 9, 7, 9, 4, 6, 7, 9, 7, 9, 7, 9, 4, 6, 7],\n",
       " [1, 0, 0, 3, 4, 6, 7, 9, 4, 6, 7, 0, 3, 3, 4, 7, 9, 4, 4, 4],\n",
       " [6, 4, 6, 7, 0, 3, 4, 6, 7, 9, 4, 4, 6, 7, 3, 4, 6, 6, 3, 4],\n",
       " [9, 3, 4, 6, 6, 7, 9, 7, 9, 3, 7, 4, 6, 7, 9, 7, 0, 4, 6, 7],\n",
       " [5, 0, 3, 4, 6, 6, 7, 9, 7, 9, 7, 9, 4, 6, 4, 6, 7, 9, 4, 6],\n",
       " [4, 6, 3, 4, 3, 4, 6, 3, 4, 6, 7, 9, 7, 9, 4, 6, 7, 0, 3, 4],\n",
       " [7, 4, 4, 6, 7, 7, 9, 4, 3, 4, 4, 6, 7, 9, 4, 6, 7, 9, 4, 6],\n",
       " [9, 4, 6, 7, 9, 4, 4, 4, 6, 7, 9, 7, 9, 7, 9, 4, 6, 7, 9, 3],\n",
       " [5, 0, 3, 4, 6, 7, 9, 3, 4, 4, 6, 7, 9, 3, 4, 6, 7, 9, 3, 4],\n",
       " [4, 6, 6, 7, 0, 3, 4, 6, 4, 6, 7, 9, 7, 9, 4, 6, 7, 9, 4, 6],\n",
       " [3, 4, 4, 6, 7, 7, 7, 0, 3, 4, 6, 3, 4, 6, 7, 9, 3, 4, 6, 7],\n",
       " [1, 0, 3, 4, 7, 9, 3, 4, 6, 7, 9, 4, 6, 7, 0, 3, 4, 4, 7, 4],\n",
       " [6, 7, 9, 3, 4, 6, 7, 9, 4, 6, 4, 6, 3, 4, 6, 7, 4, 6, 7, 9],\n",
       " [7, 9, 4, 6, 7, 0, 3, 4, 6, 7, 9, 7, 0, 3, 4, 4, 4, 6, 7, 9],\n",
       " [2, 0, 3, 4, 4, 6, 3, 4, 4, 6, 3, 3, 4, 6, 7, 9, 4, 6, 7, 9],\n",
       " [0, 3, 4, 6, 3, 4, 4, 6, 9, 3, 4, 6, 7, 9, 4, 6, 7, 4, 6, 7],\n",
       " [8, 0, 0, 3, 4, 6, 9, 7, 9, 3, 4, 6, 7, 9, 7, 0, 3, 4, 4, 4],\n",
       " [9, 7, 9, 3, 4, 7, 9, 7, 9, 3, 4, 3, 4, 6, 7, 9, 3, 9, 4, 4],\n",
       " [2, 0, 3, 4, 6, 7, 7, 9, 3, 4, 6, 3, 3, 4, 6, 7, 9, 4, 6, 4],\n",
       " [7, 9, 4, 6, 7, 7, 9, 7, 9, 3, 4, 6, 7, 0, 3, 4, 6, 7, 9, 4],\n",
       " [3, 4, 6, 7, 9, 7, 4, 7, 4, 6, 7, 3, 4, 7, 9, 4, 6, 0, 3, 4],\n",
       " [4, 7, 9, 7, 9, 3, 4, 6, 7, 9, 4, 6, 4, 6, 7, 9, 7, 9, 4, 6],\n",
       " [1, 0, 3, 4, 6, 7, 9, 7, 9, 4, 6, 7, 9, 7, 9, 7, 9, 4, 6, 7],\n",
       " [0, 6, 7, 9, 7, 9, 4, 6, 7, 0, 3, 4, 6, 7, 4, 6, 7, 4, 4, 6],\n",
       " [8, 0, 4, 6, 7, 9, 7, 7, 9, 4, 6, 7, 0, 3, 4, 6, 7, 9, 7, 9],\n",
       " [6, 7, 0, 7, 9, 4, 6, 7, 7, 9, 7, 9, 3, 4, 6, 7, 9, 7, 9, 7],\n",
       " [5, 0, 3, 4, 3, 3, 4, 6, 7, 9, 7, 4, 6, 7, 9, 4, 6, 7, 9, 3],\n",
       " [6, 7, 7, 4, 6, 3, 4, 6, 7, 9, 7, 7, 7, 9, 7, 3, 3, 4, 3, 4],\n",
       " [8, 0, 3, 4, 6, 7, 9, 4, 6, 6, 7, 9, 3, 3, 4, 6, 7, 9, 4, 7],\n",
       " [9, 3, 4, 6, 7, 9, 7, 9, 7, 9, 7, 9, 3, 6, 7, 9, 3, 4, 6, 7],\n",
       " [0, 3, 4, 6, 7, 9, 4, 6, 7, 9, 4, 7, 9, 4, 6, 9, 7, 9, 7, 7],\n",
       " [7, 9, 4, 6, 9, 7, 9, 7, 9, 4, 6, 7, 9, 3, 4, 6, 7, 0, 0, 4],\n",
       " [1, 0, 3, 4, 6, 4, 6, 7, 9, 7, 9, 4, 6, 7, 9, 4, 6, 7, 7, 4],\n",
       " [4, 6, 7, 0, 4, 6, 7, 9, 3, 4, 7, 9, 7, 9, 4, 6, 7, 9, 4, 9],\n",
       " [5, 0, 9, 4, 6, 7, 9, 3, 4, 6, 7, 9, 4, 6, 0, 3, 3, 4, 6, 7],\n",
       " [2, 0, 3, 4, 7, 0, 4, 6, 7, 9, 3, 4, 9, 4, 6, 7, 7, 9, 4, 4],\n",
       " [3, 4, 6, 7, 9, 7, 9, 4, 6, 7, 9, 7, 9, 7, 9, 4, 6, 7, 9, 3],\n",
       " [3, 4, 6, 7, 9, 3, 4, 7, 9, 3, 4, 6, 0, 3, 4, 6, 7, 9, 4, 6],\n",
       " [6, 3, 4, 7, 9, 4, 6, 4, 6, 7, 7, 9, 7, 9, 3, 4, 7, 9, 4, 6],\n",
       " [9, 7, 0, 3, 4, 6, 7, 9, 4, 6, 7, 4, 6, 7, 9, 7, 9, 4, 6, 7],\n",
       " [2, 0, 3, 4, 6, 4, 7, 0, 3, 4, 6, 7, 0, 3, 4, 7, 9, 4, 7, 9],\n",
       " [1, 0, 3, 0, 3, 4, 6, 3, 4, 6, 7, 9, 4, 6, 7, 9, 4, 6, 7, 9],\n",
       " [8, 0, 0, 3, 4, 6, 7, 7, 9, 4, 6, 4, 6, 7, 7, 9, 3, 4, 7, 4],\n",
       " [7, 9, 4, 6, 7, 9, 7, 9, 3, 4, 6, 7, 0, 3, 4, 6, 7, 6, 7, 9],\n",
       " [0, 3, 4, 6, 7, 9, 7, 9, 7, 9, 4, 3, 4, 6, 4, 6, 7, 9, 4, 6],\n",
       " [5, 0, 3, 4, 6, 7, 9, 4, 6, 3, 4, 6, 7, 0, 3, 4, 4, 6, 7, 9],\n",
       " [4, 6, 3, 4, 6, 3, 4, 6, 7, 9, 4, 7, 0, 3, 4, 4, 6, 7, 9, 7],\n",
       " [3, 4, 6, 7, 7, 9, 7, 4, 6, 7, 9, 4, 6, 7, 9, 7, 9, 4, 6, 7],\n",
       " [6, 3, 7, 9, 4, 6, 7, 9, 7, 9, 4, 6, 4, 6, 7, 9, 7, 9, 3, 7],\n",
       " [4, 6, 4, 6, 7, 9, 7, 9, 3, 4, 6, 7, 9, 7, 4, 3, 4, 6, 7, 9],\n",
       " [2, 0, 3, 4, 6, 7, 9, 3, 4, 6, 7, 9, 7, 9, 4, 4, 6, 7, 7, 9],\n",
       " [7, 4, 6, 7, 0, 0, 3, 4, 7, 0, 3, 4, 6, 7, 0, 3, 4, 6, 7, 9],\n",
       " [1, 0, 4, 4, 7, 9, 7, 9, 7, 9, 7, 9, 7, 9, 7, 9, 4, 4, 6, 7],\n",
       " [0, 6, 7, 9, 4, 6, 7, 7, 7, 6, 7, 3, 4, 6, 7, 9, 3, 4, 6, 7],\n",
       " [8, 0, 4, 6, 7, 9, 7, 9, 4, 6, 7, 9, 7, 9, 3, 4, 6, 7, 9, 7],\n",
       " [9, 7, 9, 4, 6, 7, 9, 4, 6, 7, 9, 3, 4, 6, 7, 9, 4, 6, 7, 0],\n",
       " [5, 0, 3, 4, 6, 7, 9, 4, 6, 7, 9, 7, 9, 7, 9, 7, 9, 4, 6, 6],\n",
       " [3, 4, 6, 9, 3, 4, 6, 7, 9, 7, 9, 4, 6, 7, 9, 4, 7, 0, 9, 4],\n",
       " [2, 0, 3, 4, 6, 7, 0, 3, 4, 6, 7, 7, 7, 9, 4, 6, 7, 9, 4, 6],\n",
       " [5, 0, 3, 4, 6, 7, 0, 3, 3, 4, 6, 7, 4, 7, 9, 4, 6, 7, 9, 7],\n",
       " [1, 0, 4, 6, 7, 9, 4, 9, 4, 6, 3, 4, 4, 4, 6, 7, 0, 3, 4, 6],\n",
       " [6, 9, 4, 6, 7, 9, 7, 9, 4, 6, 9, 4, 6, 7, 9, 7, 9, 4, 6, 7],\n",
       " [9, 4, 6, 7, 9, 3, 4, 4, 6, 9, 4, 6, 7, 3, 7, 9, 7, 9, 3, 4],\n",
       " [4, 6, 7, 9, 3, 4, 6, 3, 4, 6, 7, 3, 4, 6, 7, 9, 7, 0, 7, 0],\n",
       " [8, 0, 3, 4, 6, 4, 6, 7, 9, 3, 4, 6, 7, 9, 3, 3, 4, 6, 7, 9],\n",
       " [0, 4, 6, 7, 9, 7, 9, 7, 9, 7, 9, 3, 4, 6, 7, 4, 6, 7, 9, 7],\n",
       " [7, 9, 4, 6, 7, 9, 3, 4, 6, 7, 0, 3, 4, 3, 4, 6, 7, 9, 4, 4],\n",
       " [1, 0, 3, 7, 7, 9, 4, 6, 7, 9, 7, 0, 4, 6, 9, 3, 4, 6, 7, 7],\n",
       " [8, 0, 3, 4, 6, 7, 0, 4, 4, 6, 7, 0, 3, 4, 6, 4, 6, 3, 4, 6],\n",
       " [7, 4, 6, 7, 9, 4, 6, 7, 9, 7, 9, 7, 9, 7, 0, 3, 4, 6, 7, 0],\n",
       " [6, 7, 3, 4, 4, 6, 7, 0, 3, 4, 6, 3, 4, 3, 4, 6, 7, 9, 4, 4],\n",
       " [3, 4, 6, 7, 9, 4, 6, 7, 9, 3, 4, 7, 4, 6, 4, 6, 7, 9, 7, 0],\n",
       " [4, 6, 6, 9, 7, 9, 7, 0, 3, 4, 6, 7, 9, 7, 7, 9, 7, 0, 3, 4],\n",
       " [5, 0, 3, 4, 4, 6, 7, 7, 9, 7, 9, 3, 4, 6, 7, 9, 4, 6, 7, 9],\n",
       " [2, 0, 3, 4, 6, 7, 9, 3, 4, 7, 9, 4, 6, 7, 9, 3, 4, 6, 7, 9],\n",
       " [0, 0, 0, 7, 0, 3, 4, 6, 7, 7, 9, 4, 6, 7, 9, 4, 6, 3, 4, 6],\n",
       " [9, 3, 4, 6, 7, 9, 4, 7, 7, 9, 7, 9, 3, 4, 6, 7, 9, 4, 6, 7],\n",
       " [5, 0, 4, 4, 6, 7, 7, 9, 4, 6, 7, 9, 4, 6, 7, 9, 4, 6, 4, 6],\n",
       " [6, 7, 9, 3, 4, 4, 4, 4, 6, 7, 9, 3, 4, 6, 3, 4, 7, 9, 4, 4],\n",
       " [4, 6, 7, 4, 6, 4, 6, 7, 9, 4, 6, 7, 7, 9, 7, 9, 7, 9, 3, 4],\n",
       " [1, 0, 3, 4, 6, 4, 6, 7, 0, 4, 6, 7, 9, 4, 6, 7, 9, 4, 6, 7],\n",
       " [3, 4, 6, 7, 0, 0, 3, 3, 4, 6, 7, 9, 7, 9, 4, 6, 7, 9, 4, 4],\n",
       " [7, 9, 4, 6, 7, 9, 7, 9, 7, 9, 4, 6, 7, 0, 4, 6, 7, 9, 4, 6],\n",
       " [8, 0, 3, 4, 6, 7, 0, 3, 4, 6, 7, 0, 7, 9, 3, 4, 6, 7, 3, 4],\n",
       " [0, 3, 4, 6, 7, 4, 6, 7, 7, 4, 6, 7, 9, 7, 9, 4, 6, 7, 7, 9],\n",
       " [9, 3, 4, 6, 7, 9, 3, 3, 4, 6, 3, 3, 3, 4, 6, 7, 0, 4, 6, 9],\n",
       " [2, 0, 3, 4, 6, 7, 9, 4, 6, 7, 7, 7, 4, 6, 7, 9, 4, 6, 7, 9],\n",
       " [3, 4, 6, 7, 9, 7, 9, 4, 6, 7, 9, 4, 6, 7, 9, 7, 9, 7, 9, 4],\n",
       " [1, 0, 9, 7, 3, 4, 6, 7, 9, 3, 4, 6, 7, 9, 7, 9, 3, 4, 6, 3],\n",
       " [8, 0, 3, 4, 6, 7, 9, 4, 6, 7, 9, 7, 9, 4, 4, 6, 7, 9, 3, 4],\n",
       " [7, 9, 4, 6, 7, 9, 3, 4, 6, 7, 9, 7, 9, 4, 6, 7, 0, 3, 4, 6],\n",
       " [6, 7, 9, 3, 4, 4, 4, 6, 4, 6, 4, 6, 7, 0, 3, 4, 6, 7, 9, 7],\n",
       " [2, 0, 3, 4, 6, 7, 9, 4, 6, 3, 4, 6, 7, 7, 9, 4, 6, 7, 9, 7],\n",
       " [5, 0, 6, 7, 9, 4, 6, 7, 0, 3, 3, 4, 3, 4, 6, 7, 7, 9, 3, 4],\n",
       " [9, 3, 4, 6, 7, 7, 9, 7, 9, 3, 4, 4, 6, 7, 4, 6, 7, 7, 9, 7],\n",
       " [0, 3, 4, 6, 7, 9, 7, 7, 9, 7, 9, 7, 9, 3, 4, 7, 9, 7, 9, 7],\n",
       " [4, 6, 7, 4, 4, 6, 7, 9, 4, 6, 3, 4, 6, 3, 4, 6, 7, 7, 9, 7],\n",
       " [2, 0, 4, 4, 6, 7, 0, 3, 4, 6, 7, 9, 7, 9, 7, 9, 7, 9, 4, 6],\n",
       " [1, 0, 3, 4, 6, 7, 9, 3, 3, 4, 6, 7, 9, 7, 3, 4, 6, 7, 0, 4],\n",
       " [9, 4, 7, 0, 4, 6, 7, 4, 6, 7, 9, 7, 9, 4, 6, 7, 9, 3, 4, 6],\n",
       " [8, 0, 3, 7, 7, 9, 7, 9, 3, 4, 6, 7, 7, 3, 4, 6, 7, 9, 7, 9],\n",
       " [6, 7, 3, 4, 3, 4, 6, 7, 7, 9, 4, 4, 4, 6, 3, 4, 6, 7, 9, 3],\n",
       " [0, 3, 4, 7, 0, 3, 4, 6, 9, 4, 6, 7, 7, 9, 4, 6, 7, 7, 4, 4],\n",
       " [5, 0, 3, 4, 6, 4, 6, 7, 0, 0, 3, 4, 6, 7, 0, 9, 3, 4, 6, 7],\n",
       " [4, 4, 6, 7, 9, 4, 6, 4, 6, 7, 7, 9, 3, 4, 7, 9, 7, 9, 4, 6],\n",
       " [3, 4, 6, 7, 6, 7, 0, 3, 4, 6, 7, 9, 3, 4, 6, 9, 4, 6, 3, 0],\n",
       " [7, 9, 7, 9, 7, 9, 4, 7, 9, 3, 4, 6, 3, 3, 3, 4, 6, 7, 9, 4],\n",
       " [7, 4, 6, 7, 7, 7, 9, 4, 6, 4, 6, 7, 9, 4, 7, 4, 6, 7, 4, 7],\n",
       " [1, 0, 4, 6, 7, 9, 3, 4, 4, 6, 3, 4, 6, 7, 0, 3, 4, 3, 4, 6],\n",
       " [9, 7, 9, 7, 9, 3, 3, 3, 4, 6, 7, 9, 4, 6, 4, 6, 7, 7, 4, 6],\n",
       " [6, 7, 9, 3, 6, 7, 9, 7, 7, 0, 3, 4, 6, 4, 6, 7, 7, 4, 6, 7],\n",
       " [0, 4, 6, 7, 7, 0, 3, 4, 6, 7, 9, 7, 9, 4, 6, 7, 0, 4, 6, 7],\n",
       " [2, 0, 3, 4, 7, 9, 4, 6, 7, 9, 3, 4, 3, 4, 7, 7, 7, 9, 7, 9],\n",
       " [3, 7, 9, 3, 4, 4, 6, 7, 9, 4, 6, 7, 9, 3, 4, 6, 7, 0, 4, 4],\n",
       " [5, 0, 3, 4, 6, 7, 9, 7, 9, 4, 6, 6, 7, 7, 7, 0, 3, 4, 3, 4],\n",
       " [4, 6, 7, 9, 7, 9, 7, 9, 4, 6, 7, 4, 4, 6, 3, 4, 6, 7, 9, 7],\n",
       " [8, 0, 3, 4, 6, 7, 4, 6, 7, 0, 3, 4, 6, 7, 7, 9, 4, 6, 7, 0],\n",
       " [2, 0, 3, 4, 4, 6, 7, 0, 4, 6, 7, 0, 3, 7, 9, 4, 6, 7, 4, 6],\n",
       " [6, 7, 9, 7, 9, 3, 4, 6, 7, 9, 4, 4, 6, 7, 0, 3, 4, 6, 7, 0],\n",
       " [7, 9, 7, 9, 4, 6, 7, 9, 3, 4, 6, 7, 9, 4, 6, 7, 7, 0, 3, 4],\n",
       " [3, 4, 4, 6, 7, 9, 3, 4, 6, 7, 9, 7, 9, 3, 3, 4, 6, 7, 7, 9],\n",
       " [4, 6, 7, 9, 7, 9, 7, 9, 4, 6, 7, 7, 9, 4, 6, 3, 4, 6, 7, 0],\n",
       " [9, 4, 6, 7, 9, 4, 6, 4, 6, 7, 9, 7, 9, 4, 6, 7, 9, 4, 6, 7],\n",
       " [8, 0, 3, 4, 4, 6, 7, 9, 4, 6, 7, 9, 4, 6, 7, 9, 4, 6, 4, 7],\n",
       " [0, 4, 6, 7, 3, 3, 4, 4, 4, 6, 7, 9, 7, 9, 7, 9, 4, 6, 3, 4],\n",
       " [5, 0, 6, 7, 0, 3, 4, 7, 0, 3, 4, 7, 9, 4, 6, 7, 9, 4, 6, 4],\n",
       " [1, 0, 3, 4, 6, 3, 4, 6, 7, 9, 3, 4, 6, 7, 9, 7, 9, 3, 4, 6],\n",
       " [2, 0, 0, 3, 3, 4, 6, 7, 7, 7, 9, 4, 7, 0, 4, 6, 7, 0, 3, 4],\n",
       " [3, 4, 6, 7, 9, 4, 7, 0, 3, 4, 6, 3, 3, 4, 6, 6, 9, 4, 6, 3],\n",
       " [8, 0, 3, 4, 6, 7, 0, 4, 4, 6, 7, 9, 4, 6, 7, 9, 7, 9, 4, 6],\n",
       " [7, 7, 7, 4, 6, 7, 9, 4, 6, 7, 9, 4, 7, 9, 3, 4, 6, 7, 7, 9],\n",
       " [4, 6, 7, 4, 6, 7, 9, 4, 6, 7, 9, 3, 4, 7, 9, 7, 9, 4, 6, 7],\n",
       " [1, 0, 3, 4, 6, 7, 0, 3, 4, 6, 7, 9, 3, 4, 6, 7, 9, 3, 4, 6],\n",
       " [9, 3, 3, 4, 4, 6, 7, 9, 3, 4, 6, 7, 9, 7, 9, 4, 6, 7, 9, 4],\n",
       " [6, 7, 0, 3, 4, 3, 4, 6, 7, 9, 7, 9, 7, 0, 3, 4, 6, 7, 0, 4],\n",
       " [0, 3, 4, 6, 7, 9, 3, 4, 6, 7, 9, 4, 6, 7, 9, 3, 4, 4, 4, 6],\n",
       " [5, 0, 3, 4, 6, 7, 9, 3, 4, 6, 7, 9, 3, 4, 6, 7, 0, 4, 6, 3],\n",
       " [8, 0, 3, 4, 6, 7, 9, 4, 6, 7, 4, 6, 7, 4, 6, 4, 6, 7, 9, 4],\n",
       " [4, 6, 7, 9, 7, 9, 3, 4, 6, 7, 9, 7, 9, 4, 6, 7, 9, 4, 4, 7],\n",
       " [5, 0, 7, 9, 7, 9, 4, 6, 7, 6, 7, 4, 6, 7, 9, 4, 6, 7, 9, 4],\n",
       " [2, 0, 4, 4, 6, 7, 4, 6, 7, 9, 7, 7, 0, 3, 4, 7, 9, 7, 9, 3],\n",
       " [3, 4, 6, 7, 4, 6, 7, 7, 9, 7, 7, 9, 7, 9, 7, 9, 4, 6, 7, 9],\n",
       " [0, 3, 4, 6, 4, 6, 7, 9, 7, 9, 4, 6, 7, 9, 7, 4, 6, 7, 7, 9],\n",
       " [6, 7, 7, 4, 6, 7, 9, 3, 4, 6, 7, 0, 3, 4, 6, 7, 9, 4, 4, 4],\n",
       " [1, 0, 3, 4, 3, 4, 6, 7, 9, 3, 9, 4, 6, 7, 9, 7, 9, 3, 4, 6],\n",
       " [9, 3, 4, 6, 7, 9, 4, 6, 7, 9, 4, 6, 7, 7, 9, 3, 4, 6, 7, 9],\n",
       " [7, 9, 4, 6, 7, 9, 3, 4, 6, 7, 9, 4, 6, 7, 9, 3, 4, 6, 7, 0],\n",
       " [3, 7, 9, 4, 6, 4, 7, 9, 3, 7, 9, 4, 6, 7, 9, 3, 4, 6, 7, 9],\n",
       " [9, 3, 6, 7, 4, 6, 3, 4, 6, 4, 6, 7, 9, 7, 0, 3, 4, 6, 7, 9],\n",
       " [1, 0, 3, 7, 0, 3, 4, 6, 7, 9, 3, 4, 6, 7, 9, 7, 9, 4, 6, 7],\n",
       " [0, 3, 4, 6, 7, 9, 4, 6, 7, 0, 3, 3, 4, 6, 7, 9, 3, 4, 7, 9],\n",
       " [5, 0, 3, 4, 6, 7, 9, 3, 6, 7, 9, 7, 9, 7, 0, 3, 4, 6, 7, 9],\n",
       " [8, 0, 3, 4, 4, 6, 7, 9, 4, 6, 7, 9, 3, 4, 6, 7, 9, 4, 6, 7],\n",
       " [2, 0, 4, 6, 7, 9, 7, 9, 4, 6, 7, 4, 6, 7, 0, 4, 6, 7, 9, 4],\n",
       " [7, 9, 3, 4, 6, 4, 6, 4, 6, 7, 9, 4, 6, 4, 6, 7, 9, 4, 6, 7],\n",
       " [6, 7, 9, 4, 4, 6, 7, 7, 0, 3, 4, 6, 7, 9, 7, 9, 7, 9, 7, 9],\n",
       " [4, 6, 7, 9, 3, 4, 6, 4, 6, 7, 0, 4, 7, 0, 3, 4, 6, 7, 4, 6],\n",
       " [4, 6, 7, 9, 4, 6, 7, 6, 7, 9, 3, 4, 6, 7, 9, 7, 9, 7, 0, 3],\n",
       " [0, 4, 6, 7, 9, 7, 4, 4, 6, 7, 0, 3, 4, 6, 7, 9, 4, 6, 7, 9],\n",
       " [3, 4, 6, 7, 9, 4, 6, 7, 0, 3, 3, 4, 7, 9, 4, 6, 7, 0, 7, 9],\n",
       " [2, 0, 3, 4, 6, 7, 9, 7, 9, 7, 7, 9, 4, 6, 7, 4, 4, 6, 7, 0],\n",
       " [6, 7, 7, 9, 3, 4, 9, 4, 6, 7, 0, 0, 3, 4, 6, 7, 0, 3, 4, 6],\n",
       " [8, 0, 3, 4, 4, 7, 0, 4, 4, 6, 7, 0, 3, 4, 6, 4, 4, 6, 7, 9],\n",
       " [5, 0, 3, 4, 6, 7, 9, 7, 9, 3, 4, 6, 7, 0, 3, 3, 4, 6, 7, 9],\n",
       " [7, 9, 7, 9, 4, 6, 7, 9, 3, 6, 7, 9, 7, 9, 4, 6, 7, 0, 3, 0],\n",
       " [9, 4, 4, 3, 4, 6, 7, 9, 3, 4, 6, 4, 6, 7, 9, 4, 4, 6, 7, 9],\n",
       " [1, 0, 3, 4, 6, 7, 9, 3, 4, 4, 4, 4, 6, 4, 6, 7, 7, 7, 9, 4],\n",
       " [2, 0, 3, 4, 6, 7, 9, 4, 6, 7, 7, 9, 7, 0, 3, 4, 6, 3, 6, 3],\n",
       " [6, 7, 9, 7, 9, 3, 4, 6, 7, 7, 7, 3, 4, 6, 7, 9, 4, 6, 7, 9],\n",
       " [1, 0, 3, 4, 6, 7, 0, 3, 4, 6, 4, 6, 7, 0, 3, 9, 4, 6, 7, 7],\n",
       " [4, 6, 7, 9, 7, 9, 7, 9, 3, 4, 7, 9, 4, 6, 7, 9, 3, 4, 6, 7],\n",
       " [8, 0, 3, 4, 6, 7, 9, 7, 9, 4, 6, 7, 9, 4, 6, 7, 9, 3, 4, 6],\n",
       " [0, 3, 4, 6, 7, 7, 9, 4, 6, 7, 9, 7, 3, 4, 6, 7, 4, 6, 7, 6],\n",
       " [9, 4, 6, 6, 7, 9, 7, 9, 4, 3, 4, 6, 7, 9, 4, 6, 7, 9, 7, 9],\n",
       " [5, 0, 3, 4, 6, 7, 9, 7, 7, 9, 3, 4, 6, 7, 9, 4, 6, 3, 4, 6],\n",
       " [7, 9, 7, 4, 7, 0, 4, 6, 7, 9, 7, 9, 4, 6, 7, 9, 4, 6, 7, 0],\n",
       " [3, 6, 7, 9, 7, 9, 4, 6, 7, 9, 4, 7, 9, 7, 4, 6, 7, 7, 9, 7],\n",
       " [8, 0, 3, 4, 4, 6, 7, 4, 6, 7, 7, 9, 4, 6, 7, 9, 3, 4, 6, 7],\n",
       " [3, 4, 6, 7, 0, 3, 6, 7, 9, 7, 0, 3, 4, 7, 9, 4, 4, 4, 4, 4],\n",
       " [0, 3, 4, 6, 4, 6, 7, 7, 9, 3, 4, 6, 9, 4, 6, 7, 9, 7, 6, 7],\n",
       " [7, 9, 4, 4, 4, 4, 4, 4, 4, 6, 7, 9, 4, 6, 7, 3, 4, 6, 7, 9],\n",
       " [2, 0, 4, 6, 7, 9, 4, 6, 7, 0, 0, 3, 4, 6, 7, 7, 4, 6, 4, 6],\n",
       " [5, 0, 3, 4, 6, 6, 7, 9, 7, 9, 4, 6, 7, 9, 7, 9, 4, 6, 4, 6],\n",
       " [6, 7, 9, 4, 6, 7, 9, 3, 4, 6, 4, 6, 7, 9, 7, 9, 7, 9, 4, 6],\n",
       " [9, 4, 6, 4, 6, 7, 9, 4, 6, 7, 4, 6, 3, 4, 6, 7, 9, 3, 4, 6],\n",
       " [4, 6, 7, 9, 3, 4, 6, 7, 9, 7, 9, 7, 9, 4, 6, 7, 4, 6, 7, 6],\n",
       " [1, 0, 3, 4, 7, 7, 9, 7, 9, 4, 6, 4, 6, 3, 6, 7, 9, 4, 7, 9],\n",
       " [0, 3, 4, 4, 6, 4, 6, 7, 9, 4, 6, 3, 4, 7, 9, 3, 3, 0, 3, 4],\n",
       " [9, 7, 9, 3, 4, 6, 7, 9, 3, 4, 6, 7, 7, 9, 4, 6, 7, 9, 4, 4],\n",
       " [3, 0, 3, 4, 6, 7, 9, 7, 9, 7, 9, 7, 9, 4, 6, 7, 9, 4, 6, 7],\n",
       " [6, 7, 0, 3, 4, 6, 7, 9, 4, 6, 7, 9, 7, 9, 4, 6, 7, 9, 7, 9],\n",
       " [8, 0, 3, 4, 6, 7, 6, 7, 9, 7, 9, 4, 6, 7, 9, 4, 9, 7, 9, 3],\n",
       " [2, 0, 3, 4, 9, 4, 4, 4, 4, 6, 6, 7, 9, 7, 9, 4, 6, 4, 4, 6],\n",
       " [4, 6, 4, 6, 7, 4, 6, 7, 0, 3, 7, 9, 7, 9, 4, 6, 7, 7, 4, 6],\n",
       " [1, 0, 3, 4, 6, 7, 9, 4, 6, 7, 9, 4, 6, 7, 0, 4, 6, 7, 4, 4],\n",
       " [5, 0, 3, 4, 6, 7, 9, 4, 6, 7, 7, 7, 9, 7, 9, 7, 9, 4, 6, 4],\n",
       " [7, 9, 7, 0, 3, 3, 4, 6, 4, 6, 3, 4, 6, 7, 4, 6, 7, 9, 7, 4],\n",
       " [9, 4, 6, 7, 0, 3, 4, 6, 7, 9, 4, 3, 4, 3, 4, 6, 3, 4, 6, 7],\n",
       " [2, 0, 3, 4, 6, 7, 0, 3, 4, 6, 7, 9, 4, 4, 6, 4, 6, 7, 9, 4],\n",
       " [1, 0, 3, 4, 6, 3, 4, 6, 7, 9, 7, 9, 4, 6, 7, 9, 4, 6, 7, 3],\n",
       " [8, 0, 3, 4, 6, 7, 9, 4, 6, 7, 9, 7, 9, 4, 6, 7, 9, 4, 6, 7],\n",
       " [0, 3, 4, 6, 7, 9, 7, 7, 9, 4, 6, 7, 0, 3, 4, 6, 7, 9, 4, 6],\n",
       " [6, 7, 9, 7, 9, 4, 7, 0, 3, 4, 6, 7, 9, 7, 9, 7, 9, 3, 4, 6],\n",
       " [5, 0, 3, 7, 9, 4, 6, 7, 9, 7, 0, 3, 4, 6, 7, 9, 7, 9, 7, 9],\n",
       " [4, 6, 7, 9, 4, 6, 7, 9, 4, 6, 7, 9, 7, 9, 7, 9, 3, 9, 3, 7],\n",
       " [7, 9, 3, 4, 3, 4, 6, 7, 7, 0, 4, 6, 7, 4, 4, 6, 7, 9, 4, 6],\n",
       " [3, 4, 7, 9, 4, 4, 7, 9, 3, 4, 6, 9, 3, 4, 4, 4, 6, 7, 9, 7],\n",
       " [7, 9, 4, 6, 7, 4, 6, 7, 9, 4, 4, 6, 7, 9, 3, 4, 6, 7, 9, 4],\n",
       " [1, 0, 3, 4, 6, 7, 9, 7, 9, 3, 4, 4, 4, 6, 7, 9, 3, 4, 6, 7],\n",
       " [8, 0, 3, 4, 6, 9, 4, 6, 0, 4, 6, 7, 9, 7, 9, 4, 6, 7, 4, 6],\n",
       " [4, 6, 7, 4, 7, 9, 3, 4, 6, 7, 0, 3, 4, 6, 7, 9, 4, 6, 7, 9],\n",
       " [9, 4, 6, 7, 9, 4, 6, 7, 7, 9, 7, 9, 4, 6, 7, 9, 4, 6, 7, 9],\n",
       " [6, 7, 9, 4, 6, 7, 9, 4, 6, 7, 9, 7, 9, 4, 6, 7, 9, 4, 6, 4],\n",
       " [0, 4, 6, 4, 6, 7, 4, 6, 4, 6, 7, 9, 7, 9, 4, 6, 7, 9, 4, 6],\n",
       " [5, 0, 3, 4, 6, 7, 7, 9, 7, 9, 4, 6, 7, 0, 3, 4, 6, 7, 0, 3],\n",
       " [3, 4, 6, 7, 9, 7, 7, 7, 9, 4, 6, 7, 7, 9, 3, 4, 6, 7, 7, 4],\n",
       " [2, 0, 3, 6, 7, 9, 7, 9, 3, 4, 6, 7, 4, 3, 4, 4, 6, 7, 9, 4],\n",
       " [9, 4, 6, 7, 9, 7, 9, 4, 6, 7, 9, 3, 4, 6, 7, 0, 3, 4, 6, 7],\n",
       " [1, 0, 4, 6, 7, 9, 4, 6, 7, 9, 4, 7, 7, 9, 3, 4, 4, 6, 7, 9],\n",
       " [5, 0, 3, 4, 6, 9, 4, 6, 7, 9, 4, 4, 6, 3, 7, 7, 9, 3, 4, 4],\n",
       " [6, 7, 9, 4, 6, 4, 6, 7, 9, 4, 6, 7, 9, 7, 9, 7, 9, 7, 9, 7],\n",
       " [2, 0, 3, 4, 3, 4, 6, 7, 9, 7, 9, 7, 9, 4, 6, 7, 9, 7, 9, 7],\n",
       " [4, 4, 4, 6, 4, 6, 7, 0, 3, 4, 6, 7, 9, 7, 9, 4, 6, 7, 9, 7],\n",
       " [3, 4, 6, 7, 9, 7, 9, 4, 6, 7, 4, 6, 3, 4, 6, 4, 6, 7, 9, 7],\n",
       " [0, 4, 6, 7, 9, 7, 9, 7, 9, 4, 4, 6, 7, 4, 7, 9, 4, 6, 7, 9],\n",
       " [8, 0, 4, 4, 4, 4, 4, 6, 7, 0, 3, 4, 6, 7, 9, 7, 9, 4, 6, 7],\n",
       " [7, 9, 4, 6, 3, 4, 6, 7, 7, 9, 7, 9, 7, 9, 7, 9, 4, 6, 4, 6],\n",
       " [7, 0, 3, 7, 9, 7, 7, 9, 7, 7, 9, 3, 4, 4, 4, 4, 6, 7, 9, 7],\n",
       " [2, 0, 3, 4, 6, 7, 9, 7, 9, 4, 6, 7, 9, 3, 4, 4, 6, 7, 9, 4],\n",
       " [8, 0, 4, 6, 7, 0, 6, 7, 9, 4, 6, 7, 9, 4, 6, 7, 4, 6, 7, 9],\n",
       " [1, 0, 3, 4, 6, 7, 9, 3, 4, 6, 7, 7, 9, 4, 6, 7, 9, 4, 6, 7],\n",
       " [4, 6, 7, 4, 6, 7, 9, 4, 6, 7, 7, 9, 4, 6, 7, 0, 3, 4, 6, 7],\n",
       " [0, 3, 4, 6, 7, 9, 4, 6, 7, 4, 6, 7, 7, 9, 4, 6, 7, 9, 4, 6],\n",
       " [3, 4, 6, 7, 9, 7, 9, 4, 7, 7, 9, 4, 6, 7, 4, 4, 6, 4, 6, 7],\n",
       " [6, 7, 9, 4, 6, 7, 9, 7, 9, 4, 6, 7, 9, 4, 6, 7, 7, 7, 9, 3],\n",
       " [5, 0, 3, 4, 4, 6, 7, 9, 7, 4, 6, 6, 7, 7, 7, 9, 7, 9, 7, 7],\n",
       " [9, 3, 4, 4, 4, 6, 7, 4, 6, 7, 9, 4, 7, 7, 9, 4, 6, 7, 9, 4],\n",
       " [6, 4, 6, 7, 9, 7, 9, 7, 9, 7, 9, 3, 3, 4, 6, 7, 9, 3, 4, 6],\n",
       " [0, 3, 4, 7, 9, 7, 9, 7, 9, 4, 6, 7, 7, 7, 0, 3, 4, 6, 3, 4],\n",
       " [3, 4, 6, 3, 4, 6, 7, 9, 3, 4, 6, 7, 7, 9, 4, 6, 7, 9, 4, 6],\n",
       " [5, 0, 3, 4, 6, 7, 9, 7, 9, 3, 7, 0, 4, 7, 0, 3, 4, 6, 7, 9],\n",
       " [1, 0, 3, 4, 6, 3, 6, 7, 9, 4, 6, 4, 7, 9, 7, 9, 7, 9, 7, 9],\n",
       " [2, 0, 3, 4, 4, 7, 9, 3, 4, 6, 7, 9, 7, 9, 7, 0, 3, 4, 6, 9],\n",
       " [7, 9, 4, 6, 7, 9, 4, 6, 7, 9, 7, 7, 9, 4, 6, 7, 9, 7, 4, 4],\n",
       " [9, 4, 6, 7, 0, 3, 4, 6, 7, 9, 7, 0, 4, 3, 4, 6, 7, 9, 7, 9],\n",
       " [4, 6, 4, 6, 3, 4, 6, 4, 6, 7, 0, 3, 4, 3, 4, 6, 7, 9, 3, 4],\n",
       " [8, 0, 3, 4, 6, 7, 0, 3, 4, 6, 7, 7, 0, 3, 4, 7, 4, 7, 9, 4],\n",
       " [3, 4, 6, 7, 9, 4, 6, 3, 4, 6, 7, 0, 3, 4, 6, 7, 9, 3, 9, 4],\n",
       " [0, 3, 4, 6, 4, 6, 7, 7, 9, 4, 6, 7, 0, 3, 7, 9, 4, 4, 6, 7],\n",
       " [4, 6, 7, 9, 3, 4, 6, 7, 9, 7, 9, 3, 4, 6, 7, 9, 3, 4, 4, 6],\n",
       " [9, 3, 3, 4, 6, 4, 7, 4, 4, 6, 3, 4, 6, 7, 9, 7, 9, 7, 9, 4],\n",
       " [5, 0, 4, 6, 7, 9, 3, 4, 6, 4, 6, 7, 9, 7, 9, 4, 6, 7, 9, 3],\n",
       " [8, 0, 3, 9, 7, 9, 4, 4, 4, 4, 6, 4, 4, 6, 7, 9, 4, 3, 4, 6],\n",
       " [2, 0, 3, 4, 6, 7, 3, 4, 6, 0, 3, 4, 4, 4, 6, 7, 9, 4, 6, 7],\n",
       " [1, 0, 3, 4, 6, 7, 9, 7, 9, 4, 6, 7, 7, 9, 3, 4, 6, 7, 9, 3],\n",
       " [7, 9, 3, 4, 6, 7, 7, 9, 7, 9, 7, 9, 4, 6, 7, 9, 4, 4, 6, 7],\n",
       " [6, 3, 3, 4, 6, 7, 9, 3, 4, 6, 4, 6, 7, 0, 3, 4, 6, 4, 6, 7],\n",
       " [8, 0, 3, 4, 6, 7, 9, 7, 9, 4, 6, 7, 9, 7, 9, 4, 6, 7, 9, 7],\n",
       " [3, 4, 4, 4, 4, 6, 7, 9, 7, 9, 4, 6, 7, 9, 3, 4, 6, 7, 9, 4],\n",
       " [4, 6, 7, 9, 7, 9, 7, 9, 4, 6, 4, 6, 7, 3, 4, 6, 7, 9, 4, 4],\n",
       " [0, 3, 4, 6, 7, 9, 4, 6, 4, 6, 3, 7, 3, 3, 7, 7, 9, 7, 9, 3],\n",
       " [9, 4, 6, 7, 0, 4, 6, 7, 9, 4, 6, 7, 9, 3, 4, 6, 7, 9, 4, 6],\n",
       " [7, 9, 4, 6, 4, 6, 4, 6, 7, 9, 7, 0, 3, 4, 6, 4, 4, 4, 6, 7],\n",
       " [6, 7, 9, 3, 4, 6, 4, 6, 7, 7, 4, 6, 3, 3, 4, 6, 7, 9, 3, 4],\n",
       " [2, 0, 3, 4, 6, 9, 4, 6, 7, 9, 4, 6, 7, 9, 7, 9, 4, 7, 0, 3],\n",
       " [1, 0, 3, 4, 6, 7, 9, 3, 4, 6, 7, 9, 4, 7, 9, 3, 4, 6, 7, 9],\n",
       " [5, 0, 3, 4, 6, 7, 6, 7, 9, 4, 6, 7, 9, 7, 9, 4, 6, 7, 9, 3],\n",
       " [1, 0, 3, 4, 7, 9, 7, 9, 7, 9, 3, 3, 3, 9, 4, 6, 3, 3, 4, 6],\n",
       " [3, 4, 6, 7, 9, 4, 6, 7, 7, 0, 3, 4, 6, 7, 0, 3, 4, 6, 7, 3],\n",
       " [2, 0, 3, 3, 4, 6, 7, 9, 7, 9, 4, 4, 6, 7, 9, 4, 6, 7, 7, 9],\n",
       " [5, 0, 4, 6, 7, 0, 3, 3, 3, 4, 7, 0, 4, 6, 7, 9, 3, 4, 6, 4],\n",
       " [8, 0, 3, 4, 7, 0, 3, 4, 6, 7, 9, 7, 9, 4, 7, 9, 7, 9, 7, 7],\n",
       " [9, 4, 6, 7, 9, 3, 4, 6, 7, 9, 4, 6, 7, 9, 7, 4, 7, 0, 3, 4],\n",
       " [7, 9, 7, 0, 3, 4, 7, 9, 7, 7, 9, 4, 6, 7, 9, 4, 6, 7, 9, 4],\n",
       " [0, 3, 4, 6, 7, 9, 4, 4, 6, 4, 7, 9, 3, 4, 6, 3, 4, 4, 4, 6],\n",
       " [4, 6, 7, 9, 7, 9, 3, 4, 6, 7, 7, 7, 9, 4, 6, 7, 9, 4, 6, 7],\n",
       " [6, 9, 7, 9, 4, 4, 4, 4, 6, 7, 9, 3, 4, 6, 7, 9, 4, 7, 4, 6],\n",
       " [8, 0, 3, 4, 6, 0, 4, 6, 7, 9, 7, 9, 7, 9, 4, 6, 7, 9, 7, 9],\n",
       " [7, 7, 9, 4, 6, 7, 4, 6, 7, 9, 7, 9, 4, 6, 7, 3, 4, 6, 7, 9],\n",
       " [1, 0, 3, 4, 6, 7, 9, 7, 9, 7, 3, 4, 4, 6, 7, 0, 3, 4, 6, 7],\n",
       " [3, 4, 3, 4, 6, 7, 9, 7, 0, 4, 6, 7, 4, 6, 7, 4, 6, 7, 9, 4],\n",
       " [6, 7, 9, 7, 9, 4, 6, 6, 7, 0, 3, 4, 6, 9, 4, 6, 4, 6, 7, 7],\n",
       " [0, 3, 4, 6, 4, 6, 7, 0, 7, 9, 7, 7, 9, 4, 6, 7, 9, 4, 6, 7],\n",
       " [4, 6, 7, 9, 7, 9, 7, 9, 7, 9, 4, 4, 6, 7, 9, 7, 9, 7, 0, 7],\n",
       " [9, 7, 9, 4, 6, 7, 9, 4, 6, 7, 9, 7, 9, 4, 4, 6, 7, 9, 4, 4],\n",
       " [5, 0, 3, 4, 6, 7, 9, 4, 4, 6, 7, 9, 4, 6, 7, 9, 4, 6, 7, 7],\n",
       " [2, 0, 3, 4, 6, 7, 9, 4, 6, 7, 9, 4, 6, 7, 7, 9, 7, 9, 7, 9],\n",
       " [1, 0, 4, 6, 7, 4, 6, 4, 6, 7, 7, 9, 4, 6, 7, 9, 3, 4, 6, 7],\n",
       " [6, 7, 9, 7, 9, 7, 9, 4, 6, 7, 4, 4, 4, 4, 4, 6, 7, 3, 4, 6],\n",
       " [0, 3, 4, 6, 7, 9, 4, 6, 4, 6, 7, 9, 7, 9, 3, 4, 6, 7, 9, 4],\n",
       " [5, 0, 3, 4, 6, 7, 7, 9, 4, 6, 7, 7, 9, 7, 9, 4, 6, 7, 9, 7],\n",
       " [4, 6, 7, 7, 0, 3, 6, 7, 9, 4, 6, 7, 9, 3, 4, 6, 7, 9, 4, 6],\n",
       " [2, 0, 3, 4, 6, 7, 9, 4, 6, 3, 4, 6, 7, 9, 4, 6, 3, 4, 6, 7],\n",
       " [9, 4, 6, 9, 7, 9, 4, 7, 0, 3, 4, 6, 7, 9, 7, 9, 7, 9, 3, 9],\n",
       " [8, 0, 3, 4, 6, 7, 9, 4, 7, 0, 3, 4, 6, 4, 7, 9, 7, 7, 9, 3],\n",
       " [3, 4, 6, 7, 9, 4, 4, 6, 7, 0, 3, 4, 6, 7, 7, 9, 4, 6, 7, 9],\n",
       " [7, 9, 7, 7, 9, 4, 6, 7, 9, 4, 6, 7, 9, 4, 6, 7, 4, 6, 7, 0],\n",
       " [2, 0, 3, 4, 6, 7, 9, 3, 3, 4, 7, 9, 7, 9, 3, 4, 6, 9, 3, 4],\n",
       " [7, 7, 9, 4, 6, 7, 0, 3, 4, 6, 7, 9, 7, 9, 7, 9, 3, 4, 6, 7],\n",
       " [9, 4, 6, 7, 9, 3, 4, 6, 7, 9, 3, 4, 6, 3, 4, 6, 7, 9, 7, 9],\n",
       " [8, 0, 3, 4, 6, 7, 9, 4, 6, 7, 7, 9, 3, 4, 6, 7, 9, 4, 4, 6],\n",
       " [3, 4, 6, 7, 9, 3, 4, 6, 7, 9, 4, 6, 7, 0, 3, 9, 4, 6, 7, 9],\n",
       " [1, 0, 3, 4, 6, 3, 4, 4, 6, 7, 9, 7, 9, 3, 4, 6, 7, 9, 7, 9],\n",
       " [5, 0, 3, 4, 6, 7, 9, 3, 4, 6, 7, 9, 3, 4, 6, 7, 9, 4, 4, 6],\n",
       " [0, 3, 9, 3, 4, 4, 6, 7, 7, 9, 7, 9, 3, 4, 6, 7, 9, 4, 6, 7],\n",
       " [6, 7, 9, 7, 9, 7, 9, 4, 6, 7, 0, 3, 4, 6, 7, 9, 7, 0, 3, 4],\n",
       " [4, 6, 7, 7, 9, 4, 6, 7, 4, 6, 3, 4, 6, 7, 9, 7, 9, 4, 6, 7],\n",
       " [3, 4, 6, 3, 4, 6, 7, 9, 4, 6, 7, 0, 4, 6, 7, 9, 4, 4, 6, 7],\n",
       " [4, 6, 7, 9, 7, 9, 7, 9, 3, 3, 4, 6, 7, 9, 7, 9, 4, 4, 4, 6],\n",
       " [1, 0, 3, 4, 6, 7, 9, 7, 9, 7, 9, 4, 6, 3, 4, 6, 7, 0, 4, 6],\n",
       " [8, 0, 4, 6, 7, 7, 3, 4, 6, 4, 6, 3, 4, 4, 6, 7, 9, 7, 9, 3],\n",
       " [6, 7, 7, 7, 9, 7, 9, 7, 9, 4, 6, 7, 0, 3, 4, 7, 7, 9, 4, 6],\n",
       " [0, 3, 4, 3, 4, 6, 7, 9, 4, 6, 7, 9, 4, 6, 3, 4, 7, 4, 4, 4],\n",
       " [5, 0, 3, 4, 6, 4, 6, 7, 0, 7, 9, 4, 6, 6, 7, 9, 4, 6, 7, 9],\n",
       " [9, 4, 6, 7, 9, 7, 9, 7, 9, 4, 4, 6, 7, 7, 7, 7, 0, 4, 7, 9],\n",
       " [2, 0, 3, 4, 6, 7, 9, 3, 4, 6, 3, 4, 6, 7, 9, 3, 7, 9, 7, 9],\n",
       " [7, 0, 3, 4, 4, 6, 7, 9, 4, 6, 7, 0, 3, 4, 6, 7, 9, 7, 9, 3],\n",
       " [1, 0, 3, 4, 6, 7, 9, 7, 9, 7, 9, 7, 9, 7, 9, 3, 4, 6, 9, 4],\n",
       " [3, 4, 6, 7, 0, 3, 4, 6, 7, 4, 7, 9, 3, 4, 6, 7, 9, 7, 9, 4],\n",
       " [2, 0, 3, 9, 4, 6, 7, 7, 0, 3, 4, 6, 7, 9, 4, 4, 4, 6, 7, 9],\n",
       " [6, 7, 9, 7, 7, 7, 0, 4, 6, 7, 9, 3, 4, 6, 7, 9, 4, 7, 7, 0],\n",
       " [8, 0, 4, 6, 7, 0, 3, 4, 4, 6, 7, 9, 4, 6, 4, 6, 7, 9, 3, 4],\n",
       " [0, 3, 4, 6, 7, 9, 4, 6, 7, 9, 7, 9, 4, 6, 7, 9, 7, 9, 7, 7],\n",
       " [9, 4, 6, 7, 9, 7, 6, 7, 7, 9, 4, 4, 6, 7, 9, 4, 6, 7, 7, 0],\n",
       " [4, 7, 4, 6, 3, 4, 4, 6, 7, 9, 7, 9, 4, 7, 9, 4, 6, 7, 9, 7],\n",
       " [5, 0, 3, 4, 6, 7, 7, 9, 4, 6, 4, 6, 7, 9, 4, 6, 7, 4, 4, 6],\n",
       " [7, 0, 4, 6, 7, 7, 9, 3, 4, 6, 7, 7, 9, 7, 7, 6, 7, 9, 3, 4],\n",
       " [9, 3, 4, 6, 7, 0, 3, 4, 6, 7, 9, 7, 3, 3, 4, 4, 6, 7, 9, 7],\n",
       " [3, 4, 7, 9, 7, 9, 4, 6, 7, 9, 7, 0, 3, 4, 6, 7, 9, 4, 6, 7],\n",
       " [6, 7, 7, 7, 9, 7, 9, 3, 4, 4, 4, 6, 7, 0, 3, 4, 6, 9, 3, 4],\n",
       " [1, 0, 4, 4, 6, 4, 6, 7, 9, 7, 0, 3, 4, 6, 4, 7, 7, 9, 7, 4],\n",
       " [0, 3, 4, 7, 9, 7, 9, 4, 7, 7, 4, 6, 7, 9, 7, 9, 4, 6, 4, 6],\n",
       " [4, 6, 7, 9, 7, 9, 7, 0, 3, 4, 4, 4, 6, 7, 9, 4, 6, 7, 7, 7],\n",
       " [5, 0, 3, 4, 6, 4, 6, 7, 9, 4, 6, 7, 7, 9, 7, 9, 4, 6, 6, 0],\n",
       " [8, 0, 3, 4, 6, 7, 0, 3, 4, 3, 4, 4, 4, 4, 6, 9, 4, 6, 4, 6],\n",
       " [2, 0, 3, 4, 6, 7, 9, 7, 9, 4, 4, 6, 3, 4, 4, 9, 4, 6, 7, 9],\n",
       " [7, 9, 3, 4, 3, 4, 6, 7, 7, 7, 9, 7, 9, 7, 7, 9, 3, 4, 6, 7],\n",
       " [8, 0, 3, 4, 6, 7, 9, 4, 6, 9, 4, 6, 7, 3, 4, 6, 7, 0, 4, 6],\n",
       " [0, 3, 3, 4, 4, 6, 7, 7, 7, 0, 4, 6, 7, 9, 4, 6, 7, 9, 3, 4],\n",
       " [1, 0, 3, 4, 6, 7, 9, 7, 9, 4, 6, 3, 4, 6, 7, 0, 3, 4, 6, 7],\n",
       " [3, 6, 7, 9, 3, 4, 6, 7, 7, 9, 3, 4, 6, 7, 9, 3, 4, 6, 7, 9],\n",
       " [6, 7, 0, 3, 4, 6, 7, 9, 3, 4, 6, 7, 9, 7, 0, 4, 6, 7, 9, 4],\n",
       " [5, 0, 3, 4, 6, 7, 9, 7, 9, 4, 6, 7, 9, 4, 4, 4, 6, 7, 9, 3],\n",
       " [2, 0, 3, 4, 6, 7, 9, 3, 3, 4, 4, 6, 7, 9, 3, 4, 6, 7, 9, 4],\n",
       " [4, 6, 7, 7, 9, 3, 4, 6, 7, 9, 7, 9, 7, 9, 3, 4, 6, 7, 0, 3],\n",
       " [9, 4, 6, 7, 9, 4, 4, 6, 7, 9, 4, 6, 7, 9, 4, 6, 7, 9, 7, 9],\n",
       " [7, 9, 7, 9, 4, 6, 7, 7, 9, 4, 6, 4, 6, 7, 9, 3, 4, 6, 7, 9],\n",
       " [1, 0, 3, 4, 6, 7, 9, 7, 9, 7, 7, 9, 4, 6, 7, 4, 7, 7, 7, 9],\n",
       " [9, 4, 6, 7, 0, 3, 7, 9, 7, 9, 4, 6, 4, 6, 7, 9, 4, 4, 6, 7],\n",
       " [3, 4, 6, 4, 6, 7, 9, 4, 7, 9, 4, 6, 7, 4, 6, 7, 9, 7, 9, 4],\n",
       " [0, 3, 4, 7, 7, 9, 4, 6, 7, 9, 7, 9, 4, 4, 6, 7, 9, 7, 9, 3],\n",
       " [4, 6, 7, 7, 9, 7, 9, 4, 6, 4, 6, 7, 9, 4, 6, 7, 9, 4, 6, 4],\n",
       " [5, 0, 3, 4, 6, 7, 9, 3, 4, 4, 6, 7, 9, 4, 7, 9, 4, 6, 7, 9],\n",
       " [8, 0, 3, 4, 6, 4, 3, 4, 4, 7, 0, 4, 7, 9, 7, 4, 7, 0, 3, 4],\n",
       " [6, 7, 7, 9, 4, 6, 6, 7, 0, 4, 6, 3, 4, 6, 7, 0, 3, 3, 4, 6],\n",
       " [7, 3, 4, 3, 4, 6, 4, 6, 7, 6, 7, 0, 3, 4, 4, 4, 6, 7, 0, 3],\n",
       " [2, 0, 3, 4, 4, 6, 7, 9, 4, 4, 6, 9, 4, 6, 6, 7, 9, 4, 6, 7],\n",
       " [1, 0, 4, 6, 7, 4, 6, 7, 9, 7, 9, 4, 6, 7, 6, 7, 9, 4, 6, 0],\n",
       " [9, 3, 4, 4, 6, 7, 9, 4, 7, 9, 7, 9, 4, 6, 7, 9, 7, 9, 7, 9],\n",
       " [7, 9, 4, 6, 7, 9, 4, 6, 7, 9, 3, 3, 4, 6, 7, 9, 7, 9, 7, 0],\n",
       " [5, 0, 4, 4, 6, 7, 9, 3, 4, 6, 3, 4, 6, 7, 9, 7, 9, 4, 4, 6],\n",
       " [2, 0, 3, 4, 6, 7, 9, 3, 9, 4, 6, 0, 3, 4, 6, 7, 9, 4, 4, 6],\n",
       " [0, 3, 4, 6, 4, 6, 4, 6, 7, 9, 4, 6, 7, 6, 7, 0, 3, 7, 9, 4],\n",
       " [8, 0, 4, 6, 7, 9, 4, 7, 9, 4, 6, 7, 9, 7, 9, 4, 6, 7, 9, 4],\n",
       " [3, 3, 4, 6, 3, 4, 6, 4, 6, 7, 9, 4, 3, 4, 6, 7, 4, 6, 7, 9],\n",
       " [4, 6, 7, 9, 4, 6, 6, 7, 9, 7, 9, 7, 9, 7, 9, 7, 9, 7, 9, 4],\n",
       " [6, 4, 6, 7, 9, 4, 6, 7, 9, 4, 6, 7, 0, 4, 6, 7, 9, 4, 4, 6],\n",
       " [6, 7, 9, 3, 4, 4, 6, 7, 6, 7, 0, 3, 4, 4, 4, 4, 6, 3, 4, 6],\n",
       " [5, 0, 3, 4, 6, 7, 9, 3, 4, 6, 7, 9, 7, 0, 3, 4, 6, 6, 7, 7],\n",
       " [4, 6, 7, 9, 3, 4, 6, 4, 6, 6, 7, 9, 3, 4, 6, 7, 9, 4, 6, 7],\n",
       " [0, 4, 6, 7, 9, 4, 6, 7, 9, 4, 6, 7, 0, 7, 0, 3, 4, 6, 7, 9],\n",
       " [7, 9, 3, 4, 6, 7, 9, 4, 6, 4, 7, 9, 7, 9, 4, 6, 7, 0, 7, 9],\n",
       " [9, 4, 6, 3, 3, 4, 6, 4, 6, 3, 4, 6, 9, 4, 4, 6, 7, 9, 4, 6],\n",
       " [8, 0, 3, 4, 4, 6, 7, 9, 4, 6, 7, 7, 7, 7, 4, 6, 7, 9, 7, 9],\n",
       " [2, 0, 4, 6, 7, 9, 7, 9, 4, 6, 7, 9, 4, 6, 7, 9, 7, 9, 4, 4],\n",
       " [3, 4, 6, 7, 7, 9, 7, 9, 3, 4, 6, 7, 9, 4, 6, 7, 7, 7, 9, 4],\n",
       " [1, 0, 3, 4, 6, 7, 4, 6, 7, 9, 4, 4, 4, 6, 7, 9, 7, 9, 7, 9],\n",
       " [9, 4, 6, 7, 9, 7, 9, 3, 4, 6, 7, 9, 4, 6, 7, 0, 3, 4, 4, 6],\n",
       " [5, 0, 4, 6, 7, 7, 7, 4, 6, 7, 7, 9, 7, 9, 7, 9, 4, 6, 4, 6],\n",
       " [8, 0, 3, 7, 9, 4, 6, 7, 9, 4, 3, 4, 6, 7, 9, 3, 4, 6, 7, 9],\n",
       " [1, 0, 4, 6, 7, 9, 3, 4, 6, 7, 9, 7, 0, 3, 4, 6, 7, 9, 3, 4],\n",
       " [3, 4, 4, 6, 7, 9, 7, 9, 4, 4, 6, 7, 9, 4, 6, 7, 9, 4, 6, 7],\n",
       " [4, 6, 4, 6, 7, 4, 6, 7, 9, 7, 7, 9, 4, 3, 4, 6, 7, 9, 7, 9],\n",
       " [2, 0, 4, 6, 7, 9, 4, 6, 7, 0, 3, 4, 6, 7, 9, 4, 4, 6, 7, 9],\n",
       " [7, 9, 7, 0, 3, 4, 3, 4, 6, 4, 6, 7, 9, 7, 9, 4, 6, 7, 9, 3],\n",
       " [0, 3, 4, 6, 7, 7, 0, 3, 3, 7, 9, 7, 0, 3, 4, 3, 4, 6, 7, 9],\n",
       " [6, 6, 7, 7, 9, 4, 6, 7, 7, 9, 3, 4, 6, 7, 9, 7, 9, 7, 9, 7],\n",
       " [5, 0, 3, 4, 4, 4, 6, 4, 6, 7, 6, 7, 9, 4, 6, 7, 9, 7, 6, 7],\n",
       " [8, 0, 3, 4, 4, 6, 7, 9, 4, 6, 7, 9, 4, 6, 7, 9, 4, 4, 6, 7],\n",
       " [0, 3, 4, 6, 7, 9, 3, 4, 7, 7, 9, 4, 6, 7, 9, 4, 6, 7, 9, 7],\n",
       " [7, 9, 7, 4, 4, 6, 7, 9, 4, 6, 7, 9, 4, 6, 7, 9, 7, 9, 7, 9],\n",
       " [6, 7, 9, 7, 9, 4, 6, 7, 9, 7, 9, 7, 9, 7, 9, 4, 6, 7, 9, 3],\n",
       " [2, 0, 3, 3, 4, 4, 6, 3, 4, 6, 7, 9, 7, 9, 7, 0, 3, 4, 6, 7],\n",
       " [4, 6, 7, 9, 7, 0, 7, 9, 3, 4, 6, 7, 9, 7, 9, 3, 4, 6, 7, 9],\n",
       " [1, 0, 3, 6, 7, 0, 3, 4, 6, 7, 9, 3, 4, 6, 7, 9, 7, 9, 3, 4],\n",
       " [3, 4, 6, 7, 9, 4, 6, 7, 9, 4, 4, 6, 7, 9, 3, 4, 6, 7, 0, 3],\n",
       " [9, 3, 4, 6, 7, 9, 4, 4, 6, 4, 7, 0, 4, 6, 3, 4, 6, 7, 4, 3],\n",
       " [6, 7, 9, 7, 9, 7, 9, 3, 4, 6, 3, 4, 6, 7, 9, 7, 9, 3, 4, 6],\n",
       " [8, 0, 3, 4, 6, 7, 7, 9, 7, 9, 7, 9, 7, 9, 4, 7, 0, 3, 4, 6],\n",
       " [1, 0, 3, 4, 6, 7, 9, 4, 6, 7, 9, 3, 4, 6, 7, 6, 7, 9, 3, 4],\n",
       " [0, 3, 4, 6, 7, 7, 9, 3, 4, 4, 4, 6, 7, 0, 0, 3, 4, 6, 7, 4],\n",
       " [9, 4, 6, 9, 4, 6, 7, 9, 4, 3, 4, 6, 4, 6, 7, 9, 3, 4, 3, 4],\n",
       " [4, 6, 7, 0, 4, 6, 7, 9, 4, 6, 7, 9, 4, 6, 7, 9, 7, 9, 4, 6],\n",
       " [2, 0, 6, 7, 9, 4, 6, 7, 9, 7, 6, 7, 9, 3, 4, 6, 7, 7, 9, 4],\n",
       " [3, 4, 6, 7, 9, 7, 0, 3, 4, 6, 7, 9, 7, 9, 3, 4, 6, 7, 9, 3],\n",
       " [5, 0, 3, 4, 6, 7, 3, 4, 6, 7, 9, 7, 9, 7, 9, 4, 6, 4, 6, 7],\n",
       " [7, 6, 7, 0, 4, 6, 7, 9, 7, 7, 9, 4, 6, 7, 0, 4, 6, 7, 9, 4],\n",
       " [5, 0, 3, 4, 6, 4, 6, 7, 9, 4, 6, 7, 9, 7, 9, 7, 9, 3, 4, 4],\n",
       " [2, 0, 3, 3, 4, 6, 7, 9, 3, 6, 7, 7, 9, 4, 6, 7, 9, 3, 4, 4],\n",
       " [3, 4, 6, 7, 4, 6, 7, 9, 4, 4, 6, 7, 9, 3, 4, 6, 7, 9, 4, 6],\n",
       " [7, 7, 7, 7, 7, 9, 7, 9, 4, 6, 7, 9, 7, 9, 3, 4, 6, 7, 9, 7],\n",
       " [4, 6, 7, 9, 4, 7, 9, 3, 4, 6, 7, 9, 3, 4, 6, 4, 6, 7, 9, 4],\n",
       " [1, 0, 3, 4, 4, 6, 7, 0, 3, 4, 7, 9, 4, 4, 6, 7, 9, 4, 6, 7],\n",
       " [9, 4, 6, 0, 3, 4, 6, 7, 9, 7, 9, 7, 0, 3, 4, 6, 7, 9, 4, 6],\n",
       " [8, 0, 3, 4, 6, 7, 0, 3, 4, 6, 7, 9, 7, 9, 4, 6, 6, 4, 6, 7],\n",
       " [0, 3, 4, 6, 7, 9, 4, 6, 4, 6, 7, 9, 3, 7, 9, 7, 9, 3, 4, 4],\n",
       " [6, 7, 9, 7, 9, 7, 9, 7, 9, 4, 6, 7, 9, 4, 6, 7, 9, 7, 9, 4],\n",
       " [7, 9, 4, 4, 6, 7, 0, 3, 7, 9, 4, 6, 7, 9, 3, 3, 4, 7, 9, 7],\n",
       " [1, 0, 4, 6, 7, 4, 6, 7, 9, 7, 9, 3, 4, 6, 7, 9, 7, 9, 7, 0],\n",
       " [6, 7, 9, 3, 4, 6, 7, 9, 4, 4, 6, 6, 6, 7, 9, 3, 3, 4, 3, 4],\n",
       " [2, 0, 3, 3, 4, 6, 7, 9, 4, 6, 4, 6, 7, 9, 3, 4, 6, 7, 9, 4],\n",
       " [3, 4, 4, 6, 7, 9, 4, 6, 7, 0, 3, 4, 6, 7, 0, 3, 4, 6, 7, 9],\n",
       " [9, 4, 6, 7, 9, 7, 9, 3, 4, 4, 6, 7, 9, 3, 4, 6, 9, 4, 6, 4],\n",
       " [8, 0, 3, 3, 7, 9, 3, 4, 6, 7, 9, 4, 6, 7, 9, 7, 9, 4, 6, 7],\n",
       " [4, 6, 7, 9, 4, 6, 7, 9, 7, 9, 3, 3, 4, 6, 7, 9, 7, 9, 7, 9],\n",
       " [5, 0, 3, 4, 6, 4, 6, 7, 7, 9, 3, 4, 6, 7, 9, 3, 4, 6, 7, 9],\n",
       " [0, 3, 9, 3, 4, 6, 4, 6, 3, 4, 6, 7, 9, 3, 4, 6, 7, 9, 4, 6],\n",
       " [9, 3, 4, 6, 7, 9, 4, 4, 4, 7, 9, 4, 6, 7, 9, 7, 9, 4, 6, 7],\n",
       " [5, 0, 4, 6, 7, 9, 4, 4, 6, 7, 9, 4, 6, 7, 9, 4, 6, 7, 4, 7],\n",
       " [4, 6, 7, 9, 4, 6, 4, 6, 7, 7, 9, 3, 3, 4, 6, 7, 9, 4, 6, 7],\n",
       " [6, 7, 0, 4, 6, 7, 9, 4, 6, 7, 9, 7, 9, 4, 6, 7, 0, 3, 4, 6],\n",
       " [8, 0, 3, 4, 6, 7, 9, 7, 9, 4, 6, 4, 6, 7, 9, 3, 4, 6, 3, 4],\n",
       " [0, 3, 4, 6, 7, 9, 4, 6, 7, 9, 7, 9, 3, 4, 6, 7, 9, 4, 6, 7],\n",
       " [2, 0, 3, 4, 7, 9, 4, 6, 7, 9, 7, 9, 3, 4, 6, 7, 9, 4, 6, 7],\n",
       " [3, 4, 6, 7, 9, 7, 9, 7, 9, 4, 6, 7, 3, 4, 4, 6, 7, 9, 4, 6],\n",
       " [7, 0, 3, 4, 6, 7, 7, 7, 9, 7, 9, 3, 3, 4, 7, 9, 7, 7, 7, 9],\n",
       " [1, 0, 3, 4, 6, 7, 9, 7, 0, 3, 4, 7, 7, 9, 7, 9, 4, 6, 7, 9],\n",
       " [5, 0, 3, 4, 6, 7, 9, 4, 4, 6, 7, 7, 9, 4, 6, 7, 9, 4, 3, 4],\n",
       " [8, 0, 3, 4, 6, 7, 0, 7, 9, 7, 0, 3, 4, 6, 3, 4, 6, 7, 7, 7],\n",
       " [1, 0, 4, 6, 7, 0, 4, 6, 7, 4, 4, 4, 6, 7, 4, 6, 7, 9, 3, 4],\n",
       " [0, 3, 4, 6, 7, 4, 6, 7, 9, 4, 4, 6, 3, 4, 6, 6, 7, 0, 3, 4],\n",
       " [3, 4, 6, 7, 4, 6, 7, 9, 4, 7, 0, 3, 3, 4, 6, 4, 6, 7, 3, 3],\n",
       " [2, 0, 3, 4, 6, 7, 9, 4, 6, 4, 4, 6, 7, 9, 4, 4, 6, 7, 7, 9],\n",
       " [4, 6, 7, 7, 9, 7, 9, 4, 6, 4, 6, 7, 9, 7, 9, 3, 6, 3, 4, 6],\n",
       " [7, 7, 9, 7, 7, 9, 4, 6, 7, 9, 7, 9, 4, 6, 4, 6, 7, 7, 7, 9],\n",
       " [9, 7, 9, 7, 9, 3, 4, 6, 7, 9, 7, 7, 9, 4, 6, 7, 9, 3, 4, 6],\n",
       " [6, 7, 9, 7, 9, 4, 6, 7, 9, 7, 9, 4, 6, 7, 9, 4, 6, 7, 0, 3],\n",
       " [1, 0, 3, 7, 9, 4, 4, 6, 7, 9, 4, 6, 7, 9, 3, 4, 6, 7, 7, 9],\n",
       " [4, 6, 9, 4, 6, 7, 9, 4, 6, 7, 9, 4, 6, 7, 7, 9, 4, 4, 6, 7],\n",
       " [5, 0, 3, 4, 3, 4, 6, 7, 9, 7, 9, 3, 4, 7, 9, 7, 9, 7, 9, 4],\n",
       " [8, 0, 4, 6, 7, 9, 7, 7, 7, 9, 4, 7, 4, 6, 7, 4, 6, 7, 3, 4],\n",
       " [0, 3, 4, 4, 6, 7, 9, 4, 7, 9, 4, 6, 7, 7, 9, 3, 4, 6, 7, 9],\n",
       " [7, 9, 4, 6, 7, 0, 4, 6, 7, 9, 7, 9, 7, 9, 3, 4, 6, 7, 7, 7],\n",
       " [6, 7, 7, 9, 7, 9, 4, 6, 3, 6, 7, 9, 7, 9, 7, 9, 3, 4, 6, 7],\n",
       " [3, 4, 6, 7, 7, 9, 7, 9, 4, 6, 7, 9, 7, 9, 7, 9, 7, 9, 3, 3],\n",
       " [9, 4, 6, 7, 9, 7, 9, 7, 9, 4, 7, 7, 9, 4, 6, 7, 9, 4, 7, 9],\n",
       " [2, 0, 3, 4, 6, 3, 4, 3, 4, 4, 4, 3, 4, 6, 7, 9, 4, 6, 7, 9],\n",
       " [1, 0, 0, 0, 3, 4, 6, 3, 4, 6, 7, 9, 4, 6, 7, 9, 7, 9, 3, 4],\n",
       " [9, 4, 7, 9, 4, 7, 9, 4, 6, 7, 9, 4, 7, 9, 7, 9, 3, 4, 6, 7],\n",
       " [8, 0, 3, 4, 6, 7, 9, 4, 6, 3, 4, 6, 7, 9, 7, 9, 3, 4, 4, 6],\n",
       " [3, 4, 6, 4, 6, 7, 4, 4, 6, 7, 0, 3, 4, 6, 7, 4, 6, 7, 9, 4],\n",
       " [7, 7, 0, 3, 4, 6, 7, 0, 3, 4, 6, 7, 9, 3, 4, 3, 4, 6, 7, 9],\n",
       " [5, 0, 3, 4, 6, 7, 4, 6, 7, 9, 4, 4, 6, 7, 0, 0, 3, 4, 6, 7],\n",
       " [0, 3, 4, 6, 7, 9, 3, 4, 6, 7, 0, 3, 4, 6, 7, 4, 7, 9, 4, 6],\n",
       " [6, 7, 0, 3, 4, 6, 3, 4, 7, 9, 4, 6, 7, 4, 6, 7, 9, 7, 6, 7],\n",
       " [2, 0, 3, 3, 4, 6, 7, 7, 9, 3, 4, 6, 7, 9, 4, 6, 7, 9, 7, 9],\n",
       " [4, 4, 6, 7, 9, 4, 6, 7, 7, 9, 7, 7, 7, 0, 3, 3, 4, 6, 7, 9],\n",
       " [4, 6, 7, 9, 3, 4, 6, 7, 9, 4, 6, 7, 9, 3, 4, 6, 7, 7, 9, 4],\n",
       " [3, 4, 6, 7, 9, 7, 9, 4, 6, 7, 0, 4, 3, 4, 4, 6, 7, 9, 7, 9],\n",
       " [0, 4, 9, 4, 6, 7, 9, 7, 9, 7, 9, 3, 4, 6, 7, 9, 4, 4, 6, 7],\n",
       " [2, 0, 3, 4, 7, 9, 3, 4, 6, 7, 0, 3, 4, 6, 7, 9, 4, 6, 7, 9],\n",
       " [9, 3, 4, 6, 4, 6, 4, 6, 3, 7, 9, 4, 6, 0, 4, 6, 7, 7, 9, 7],\n",
       " [5, 0, 3, 4, 6, 7, 3, 4, 6, 7, 9, 3, 4, 6, 7, 9, 4, 3, 4, 6],\n",
       " [1, 0, 3, 4, 6, 7, 9, 7, 9, 7, 9, 7, 9, 4, 6, 3, 4, 6, 7, 9],\n",
       " [8, 0, 3, 3, 4, 6, 7, 0, 3, 4, 6, 7, 9, 7, 9, 7, 9, 7, 9, 4],\n",
       " [6, 7, 9, 4, 6, 7, 9, 3, 4, 4, 6, 3, 4, 6, 7, 4, 6, 0, 4, 6],\n",
       " [7, 9, 4, 6, 7, 9, 4, 6, 7, 9, 7, 9, 7, 9, 7, 9, 7, 9, 4, 6],\n",
       " [0, 3, 4, 6, 7, 9, 7, 9, 4, 6, 3, 4, 6, 7, 9, 3, 3, 4, 6, 7],\n",
       " [8, 0, 0, 9, 3, 4, 6, 7, 7, 9, 7, 9, 7, 9, 4, 6, 7, 9, 7, 9],\n",
       " [3, 4, 6, 7, 7, 7, 9, 4, 6, 7, 0, 3, 4, 6, 7, 7, 0, 3, 4, 6],\n",
       " [5, 0, 3, 4, 6, 7, 9, 4, 6, 7, 9, 7, 0, 3, 4, 6, 7, 9, 4, 6],\n",
       " [6, 6, 6, 7, 9, 7, 0, 3, 4, 6, 7, 9, 7, 9, 7, 4, 6, 7, 7, 9],\n",
       " [1, 0, 3, 4, 4, 4, 6, 7, 9, 7, 9, 4, 6, 7, 7, 7, 9, 4, 6, 7],\n",
       " [4, 6, 7, 9, 4, 3, 4, 6, 7, 9, 7, 9, 7, 9, 7, 0, 4, 6, 7, 9],\n",
       " [7, 9, 3, 4, 6, 7, 7, 6, 7, 9, 4, 6, 7, 0, 3, 4, 6, 7, 0, 3],\n",
       " [2, 0, 3, 3, 4, 3, 4, 6, 7, 9, 7, 9, 3, 4, 6, 7, 9, 4, 6, 7],\n",
       " [9, 3, 4, 6, 7, 0, 3, 7, 9, 7, 9, 4, 6, 7, 9, 3, 4, 6, 7, 7],\n",
       " [9, 4, 6, 7, 7, 9, 7, 9, 4, 6, 7, 9, 4, 3, 6, 7, 9, 7, 9, 7],\n",
       " [8, 0, 0, 4, 6, 7, 7, 7, 7, 9, 4, 6, 7, 9, 4, 6, 7, 9, 4, 7],\n",
       " [6, 3, 4, 7, 7, 7, 9, 7, 9, 3, 4, 6, 7, 9, 4, 6, 7, 0, 4, 6],\n",
       " [5, 0, 3, 4, 4, 6, 7, 6, 7, 0, 7, 0, 3, 4, 6, 4, 6, 7, 9, 7],\n",
       " [2, 0, 7, 9, 7, 9, 4, 4, 6, 7, 9, 7, 0, 3, 4, 6, 0, 3, 4, 6],\n",
       " [1, 0, 4, 6, 7, 7, 4, 7, 9, 3, 4, 6, 7, 9, 7, 9, 7, 9, 4, 6],\n",
       " [4, 6, 7, 4, 6, 7, 9, 3, 4, 6, 7, 9, 4, 6, 7, 7, 4, 6, 7, 7],\n",
       " [7, 0, 3, 3, 4, 6, 7, 9, 7, 9, 7, 9, 4, 6, 7, 9, 4, 3, 4, 6],\n",
       " [3, 4, 6, 7, 9, 4, 7, 9, 7, 9, 7, 7, 0, 4, 3, 4, 6, 7, 6, 7],\n",
       " [0, 4, 6, 0, 3, 4, 6, 7, 9, 7, 9, 4, 4, 4, 6, 7, 9, 3, 4, 4],\n",
       " [0, 3, 4, 4, 6, 7, 9, 4, 6, 7, 0, 4, 4, 6, 3, 4, 6, 7, 9, 7],\n",
       " [5, 0, 3, 4, 4, 6, 7, 7, 7, 7, 7, 7, 7, 7, 4, 6, 7, 9, 4, 6],\n",
       " [7, 7, 9, 4, 6, 7, 9, 4, 6, 7, 9, 4, 6, 7, 9, 4, 3, 4, 6, 7],\n",
       " [8, 0, 3, 4, 6, 7, 9, 7, 0, 3, 4, 6, 7, 9, 3, 4, 7, 7, 9, 4],\n",
       " [4, 6, 7, 4, 6, 7, 9, 3, 4, 6, 3, 4, 7, 9, 7, 9, 4, 6, 7, 9],\n",
       " [1, 0, 3, 4, 6, 4, 6, 7, 9, 4, 6, 7, 9, 7, 9, 4, 4, 6, 3, 4],\n",
       " [6, 9, 3, 4, 6, 7, 4, 6, 7, 9, 3, 4, 6, 4, 6, 7, 4, 6, 7, 9],\n",
       " [3, 4, 6, 7, 9, 3, 4, 4, 6, 7, 9, 3, 4, 6, 7, 7, 9, 4, 6, 7],\n",
       " [2, 0, 3, 4, 6, 7, 9, 4, 4, 6, 7, 9, 4, 7, 9, 3, 4, 4, 6, 7],\n",
       " [9, 4, 4, 6, 7, 9, 3, 4, 4, 6, 7, 0, 3, 4, 7, 7, 9, 4, 6, 7],\n",
       " [9, 7, 9, 7, 9, 4, 6, 7, 9, 4, 6, 7, 9, 7, 9, 3, 4, 6, 7, 9],\n",
       " [4, 6, 7, 9, 3, 4, 6, 7, 6, 7, 9, 7, 9, 4, 6, 7, 7, 9, 4, 4],\n",
       " [0, 3, 4, 6, 7, 9, 7, 4, 6, 7, 0, 3, 4, 7, 9, 3, 4, 7, 7, 9],\n",
       " [2, 0, 3, 4, 6, 4, 6, 7, 7, 9, 4, 6, 7, 0, 3, 4, 6, 7, 0, 3],\n",
       " [3, 4, 4, 6, 7, 9, 3, 4, 6, 7, 9, 4, 6, 3, 4, 6, 7, 9, 4, 6],\n",
       " [7, 9, 4, 6, 4, 6, 7, 9, 7, 9, 7, 9, 7, 7, 9, 4, 6, 7, 9, 4],\n",
       " [5, 0, 3, 4, 6, 7, 9, 4, 6, 4, 6, 7, 9, 7, 9, 4, 6, 3, 4, 6],\n",
       " [6, 4, 6, 7, 6, 7, 0, 3, 4, 6, 7, 9, 3, 4, 6, 7, 9, 4, 6, 7],\n",
       " [1, 0, 3, 4, 6, 7, 9, 4, 6, 7, 7, 9, 3, 4, 6, 7, 9, 7, 4, 6],\n",
       " [8, 0, 4, 6, 7, 9, 7, 9, 4, 6, 3, 4, 3, 4, 6, 7, 3, 4, 6, 7],\n",
       " [8, 0, 6, 7, 9, 4, 6, 4, 6, 7, 0, 3, 4, 3, 4, 6, 7, 9, 7, 9],\n",
       " [5, 0, 3, 4, 6, 7, 9, 4, 4, 7, 4, 4, 6, 4, 7, 9, 4, 6, 4, 6],\n",
       " [2, 0, 3, 3, 4, 7, 9, 7, 9, 4, 6, 7, 9, 7, 3, 4, 6, 7, 4, 6],\n",
       " [7, 4, 6, 7, 7, 7, 7, 4, 6, 7, 9, 7, 9, 3, 4, 6, 7, 9, 7, 9],\n",
       " [1, 0, 3, 4, 6, 7, 9, 7, 9, 3, 4, 7, 9, 3, 4, 7, 0, 0, 3, 4],\n",
       " [6, 7, 9, 3, 4, 6, 3, 4, 4, 6, 7, 9, 7, 9, 7, 9, 4, 6, 7, 6],\n",
       " [9, 3, 4, 6, 7, 9, 7, 9, 3, 4, 6, 7, 9, 4, 6, 7, 9, 4, 6, 7],\n",
       " [0, 0, 4, 6, 7, 9, 7, 7, 9, 7, 9, 7, 9, 7, 9, 4, 6, 7, 7, 9],\n",
       " [4, 6, 7, 4, 6, 7, 4, 7, 9, 7, 0, 0, 4, 6, 4, 6, 7, 7, 9, 4],\n",
       " [3, 4, 6, 7, 9, 4, 6, 4, 6, 7, 9, 7, 9, 4, 6, 7, 9, 3, 4, 6],\n",
       " [2, 0, 3, 4, 6, 7, 9, 7, 9, 4, 6, 4, 6, 7, 0, 3, 4, 6, 7, 9],\n",
       " [1, 0, 3, 4, 6, 3, 4, 7, 9, 4, 6, 7, 9, 4, 4, 6, 7, 0, 9, 3],\n",
       " [6, 4, 6, 7, 9, 4, 6, 7, 9, 7, 9, 4, 6, 7, 9, 3, 4, 6, 7, 9],\n",
       " [8, 0, 3, 4, 6, 7, 9, 4, 6, 7, 9, 7, 9, 4, 4, 6, 4, 6, 7, 7],\n",
       " [4, 6, 7, 9, 4, 6, 7, 4, 7, 9, 4, 4, 6, 7, 9, 4, 6, 7, 4, 6],\n",
       " [5, 0, 3, 4, 6, 7, 9, 3, 4, 6, 7, 7, 9, 4, 3, 4, 4, 6, 4, 6],\n",
       " [7, 7, 7, 9, 4, 6, 7, 0, 0, 3, 4, 6, 6, 7, 9, 4, 6, 7, 9, 4],\n",
       " [0, 3, 4, 6, 7, 9, 7, 9, 7, 0, 3, 7, 0, 3, 3, 4, 3, 4, 6, 7],\n",
       " [3, 4, 6, 7, 9, 7, 9, 4, 6, 7, 9, 3, 4, 6, 7, 0, 3, 4, 6, 7],\n",
       " [9, 3, 4, 4, 6, 7, 9, 4, 6, 7, 9, 7, 7, 7, 9, 7, 9, 3, 4, 6],\n",
       " [2, 0, 3, 4, 6, 7, 9, 7, 9, 3, 4, 6, 7, 9, 4, 6, 3, 4, 6, 7],\n",
       " [0, 3, 4, 3, 4, 7, 9, 3, 4, 6, 7, 9, 7, 9, 4, 6, 7, 9, 7, 0],\n",
       " [8, 0, 3, 4, 3, 4, 6, 7, 4, 7, 9, 4, 6, 4, 6, 7, 9, 4, 4, 6],\n",
       " [4, 6, 7, 9, 3, 4, 6, 7, 0, 3, 6, 7, 9, 7, 9, 7, 9, 4, 4, 6],\n",
       " [9, 4, 4, 6, 7, 6, 7, 9, 7, 7, 9, 7, 0, 3, 4, 7, 9, 4, 6, 7],\n",
       " [1, 0, 3, 4, 6, 7, 9, 4, 6, 7, 9, 4, 6, 7, 6, 7, 9, 3, 4, 6],\n",
       " [5, 0, 3, 4, 4, 6, 3, 4, 6, 7, 9, 4, 6, 7, 9, 3, 4, 6, 3, 4],\n",
       " [3, 4, 4, 6, 7, 9, 4, 4, 6, 7, 9, 4, 7, 9, 7, 9, 7, 9, 4, 6],\n",
       " [7, 7, 7, 7, 9, 3, 4, 6, 7, 9, 3, 4, 6, 7, 9, 4, 6, 7, 9, 3],\n",
       " [6, 3, 4, 3, 3, 4, 6, 7, 7, 9, 7, 9, 3, 4, 6, 7, 7, 9, 4, 6],\n",
       " [6, 7, 9, 7, 9, 3, 4, 6, 7, 4, 6, 7, 9, 7, 9, 4, 7, 9, 4, 6],\n",
       " [3, 4, 6, 7, 9, 3, 4, 7, 9, 7, 9, 7, 9, 4, 6, 7, 7, 0, 3, 4],\n",
       " [9, 4, 4, 4, 4, 6, 7, 9, 7, 9, 4, 7, 9, 4, 7, 4, 6, 7, 9, 3],\n",
       " [4, 6, 7, 9, 7, 9, 4, 6, 3, 4, 4, 6, 4, 6, 7, 4, 6, 7, 9, 4],\n",
       " [1, 0, 3, 4, 6, 7, 0, 4, 7, 9, 7, 9, 7, 9, 4, 6, 7, 9, 4, 6],\n",
       " [2, 0, 0, 3, 4, 6, 3, 4, 6, 7, 3, 4, 3, 4, 6, 7, 9, 4, 6, 7],\n",
       " [0, 7, 9, 4, 4, 6, 7, 7, 0, 4, 6, 7, 4, 6, 4, 6, 7, 7, 9, 3],\n",
       " [8, 0, 3, 4, 6, 7, 4, 6, 7, 9, 4, 4, 6, 7, 4, 6, 7, 9, 4, 6],\n",
       " [7, 9, 7, 9, 3, 4, 6, 7, 9, 4, 6, 7, 9, 3, 4, 6, 7, 7, 0, 3],\n",
       " [5, 0, 3, 4, 6, 7, 9, 7, 9, 4, 6, 7, 6, 7, 9, 3, 4, 4, 6, 7],\n",
       " [8, 0, 3, 4, 6, 7, 4, 6, 7, 9, 4, 6, 7, 7, 9, 7, 9, 3, 4, 6],\n",
       " [9, 3, 0, 4, 7, 9, 4, 6, 7, 9, 4, 6, 7, 0, 3, 4, 7, 9, 7, 6],\n",
       " [3, 4, 4, 6, 7, 9, 4, 4, 4, 6, 6, 7, 4, 6, 7, 9, 4, 6, 3, 4],\n",
       " [2, 0, 3, 4, 6, 7, 9, 4, 6, 9, 4, 4, 4, 6, 7, 9, 7, 9, 4, 6],\n",
       " [1, 0, 3, 4, 7, 3, 4, 6, 7, 4, 4, 6, 4, 6, 7, 9, 4, 9, 3, 4],\n",
       " [6, 7, 9, 3, 4, 6, 7, 4, 6, 7, 7, 0, 4, 6, 4, 6, 7, 4, 6, 7],\n",
       " [5, 0, 3, 4, 6, 7, 9, 4, 6, 7, 9, 7, 9, 4, 7, 9, 7, 9, 3, 4],\n",
       " [0, 3, 4, 6, 7, 7, 9, 7, 9, 7, 9, 7, 9, 4, 6, 7, 9, 4, 6, 7],\n",
       " [4, 6, 4, 6, 7, 0, 3, 4, 6, 7, 9, 7, 9, 7, 9, 4, 6, 7, 9, 4],\n",
       " [7, 0, 4, 6, 7, 9, 4, 6, 7, 0, 4, 6, 7, 9, 4, 6, 3, 4, 6, 7],\n",
       " [7, 9, 7, 0, 3, 3, 4, 6, 7, 9, 3, 4, 7, 9, 4, 6, 7, 7, 9, 4],\n",
       " [0, 3, 4, 6, 7, 9, 7, 9, 3, 4, 6, 7, 3, 4, 6, 4, 6, 7, 9, 4],\n",
       " [6, 7, 9, 7, 9, 7, 9, 7, 9, 4, 6, 7, 9, 7, 9, 4, 7, 9, 4, 9],\n",
       " [9, 4, 6, 7, 9, 3, 3, 4, 6, 7, 7, 4, 6, 7, 9, 3, 4, 6, 7, 9],\n",
       " [5, 0, 3, 4, 9, 4, 6, 7, 9, 3, 4, 6, 7, 9, 7, 9, 4, 6, 0, 3],\n",
       " [2, 0, 3, 3, 4, 6, 7, 9, 4, 6, 7, 9, 7, 9, 4, 6, 4, 6, 4, 6],\n",
       " [1, 0, 3, 4, 6, 3, 4, 6, 7, 9, 3, 4, 6, 7, 7, 7, 9, 4, 6, 7],\n",
       " [8, 0, 4, 9, 4, 7, 9, 4, 6, 7, 9, 4, 6, 3, 6, 7, 7, 9, 4, 6],\n",
       " [4, 6, 7, 9, 4, 6, 7, 9, 7, 9, 4, 6, 6, 7, 4, 6, 7, 7, 9, 4],\n",
       " [3, 4, 6, 7, 9, 7, 4, 6, 7, 9, 4, 6, 7, 9, 4, 6, 7, 9, 3, 4],\n",
       " [7, 9, 4, 6, 4, 6, 6, 7, 9, 4, 6, 7, 9, 7, 9, 4, 6, 4, 4, 6],\n",
       " [5, 0, 3, 4, 6, 7, 9, 7, 7, 7, 9, 4, 6, 4, 6, 7, 9, 4, 6, 7],\n",
       " [1, 0, 3, 4, 6, 4, 6, 7, 9, 4, 6, 7, 9, 4, 4, 6, 7, 9, 7, 9],\n",
       " [8, 0, 3, 4, 6, 7, 9, 7, 7, 9, 3, 4, 6, 7, 7, 9, 4, 6, 4, 7],\n",
       " [2, 0, 3, 0, 3, 4, 6, 7, 9, 7, 9, 7, 9, 4, 6, 7, 9, 7, 9, 3],\n",
       " [6, 7, 9, 4, 6, 7, 0, 4, 6, 7, 9, 7, 9, 4, 6, 7, 7, 9, 7, 9],\n",
       " [0, 3, 6, 7, 9, 3, 4, 6, 6, 7, 9, 3, 4, 7, 9, 4, 6, 7, 9, 4],\n",
       " [4, 6, 7, 9, 7, 9, 4, 6, 7, 9, 7, 0, 3, 4, 7, 9, 7, 9, 4, 3],\n",
       " [3, 4, 4, 4, 6, 7, 0, 3, 4, 6, 7, 9, 7, 9, 7, 9, 7, 9, 4, 6],\n",
       " [9, 4, 6, 7, 7, 9, 7, 9, 3, 4, 6, 7, 9, 4, 6, 7, 9, 7, 9, 7],\n",
       " [3, 4, 6, 7, 0, 3, 4, 6, 7, 9, 3, 4, 6, 7, 9, 7, 9, 7, 9, 4],\n",
       " [6, 7, 9, 7, 9, 4, 6, 7, 7, 9, 4, 6, 7, 9, 3, 4, 6, 7, 4, 6],\n",
       " [0, 3, 4, 6, 7, 9, 7, 7, 0, 3, 4, 6, 3, 6, 7, 7, 7, 9, 7, 0],\n",
       " [9, 4, 6, 6, 7, 9, 7, 7, 7, 7, 9, 7, 4, 6, 4, 6, 7, 9, 4, 6],\n",
       " [5, 0, 3, 4, 6, 7, 9, 4, 6, 3, 4, 3, 9, 7, 9, 4, 4, 6, 3, 3],\n",
       " [8, 0, 7, 9, 7, 9, 4, 6, 7, 9, 7, 9, 4, 6, 7, 0, 3, 4, 4, 6],\n",
       " [2, 0, 3, 4, 4, 4, 6, 7, 0, 3, 4, 6, 7, 7, 9, 3, 4, 6, 7, 7],\n",
       " [4, 6, 7, 9, 7, 9, 7, 0, 3, 7, 9, 4, 9, 4, 6, 7, 9, 7, 9, 7],\n",
       " [7, 3, 4, 6, 7, 9, 3, 4, 6, 3, 4, 6, 7, 6, 7, 3, 4, 6, 7, 0],\n",
       " [1, 0, 3, 4, 7, 4, 6, 7, 0, 3, 6, 7, 9, 4, 6, 7, 9, 4, 6, 7],\n",
       " [7, 9, 7, 9, 4, 6, 4, 6, 4, 6, 7, 9, 4, 6, 7, 3, 4, 3, 4, 6],\n",
       " [5, 0, 6, 7, 0, 0, 3, 4, 6, 3, 4, 3, 4, 6, 7, 9, 7, 9, 7, 7],\n",
       " [0, 3, 4, 6, 3, 4, 6, 7, 9, 3, 4, 6, 7, 9, 4, 6, 7, 9, 7, 9],\n",
       " [8, 0, 7, 9, 4, 6, 7, 9, 4, 6, 7, 9, 7, 9, 7, 9, 4, 6, 6, 7],\n",
       " [1, 0, 3, 4, 7, 9, 3, 4, 6, 7, 9, 7, 9, 3, 4, 6, 7, 9, 4, 4],\n",
       " [6, 7, 7, 9, 3, 4, 6, 7, 0, 3, 4, 6, 7, 9, 4, 6, 3, 4, 6, 7],\n",
       " [9, 4, 7, 9, 3, 4, 6, 7, 0, 3, 4, 6, 7, 9, 7, 9, 4, 6, 7, 9],\n",
       " [3, 4, 6, 7, 9, 4, 6, 7, 4, 6, 7, 7, 4, 6, 7, 9, 7, 9, 7, 9],\n",
       " [4, 6, 7, 9, 3, 4, 6, 7, 0, 4, 6, 7, 9, 3, 6, 7, 0, 3, 4, 6],\n",
       " [2, 0, 3, 7, 0, 4, 6, 7, 9, 4, 6, 7, 9, 7, 9, 4, 7, 4, 7, 9],\n",
       " [4, 6, 7, 9, 4, 6, 6, 7, 4, 6, 7, 4, 6, 7, 0, 3, 3, 3, 3, 4],\n",
       " [2, 0, 3, 3, 4, 3, 4, 6, 7, 9, 7, 9, 3, 4, 6, 7, 9, 7, 9, 4],\n",
       " [5, 0, 3, 4, 6, 7, 9, 7, 9, 4, 4, 4, 6, 7, 9, 4, 6, 7, 9, 4],\n",
       " [1, 0, 3, 4, 6, 7, 9, 3, 4, 6, 7, 9, 7, 9, 3, 9, 3, 7, 9, 4],\n",
       " [7, 9, 3, 4, 6, 7, 6, 6, 4, 6, 7, 0, 4, 6, 7, 9, 4, 6, 7, 9],\n",
       " [3, 4, 6, 7, 0, 3, 4, 4, 6, 7, 0, 3, 4, 6, 7, 9, 7, 9, 4, 6],\n",
       " [0, 3, 4, 6, 7, 9, 4, 6, 7, 7, 0, 4, 6, 7, 9, 3, 7, 0, 3, 4],\n",
       " [6, 7, 7, 9, 4, 6, 7, 9, 4, 4, 6, 9, 7, 9, 7, 9, 3, 4, 6, 7],\n",
       " [8, 0, 4, 4, 6, 7, 9, 4, 6, 7, 4, 6, 7, 9, 7, 9, 7, 9, 7, 9],\n",
       " [9, 3, 4, 6, 7, 7, 7, 3, 4, 6, 7, 4, 6, 7, 9, 7, 9, 4, 6, 7],\n",
       " [8, 0, 3, 4, 7, 4, 7, 9, 4, 6, 3, 4, 4, 6, 7, 0, 3, 3, 4, 6],\n",
       " [9, 4, 4, 6, 7, 9, 3, 4, 6, 7, 9, 7, 9, 4, 6, 7, 7, 7, 9, 4],\n",
       " [4, 6, 4, 6, 7, 9, 4, 6, 7, 9, 3, 4, 6, 3, 7, 3, 4, 6, 7, 9],\n",
       " [7, 9, 7, 4, 7, 9, 7, 9, 3, 9, 3, 4, 6, 7, 9, 3, 3, 3, 4, 6],\n",
       " [6, 7, 9, 4, 6, 7, 0, 3, 4, 6, 7, 4, 6, 7, 9, 7, 9, 4, 6, 7],\n",
       " [5, 0, 3, 4, 6, 7, 9, 7, 9, 4, 6, 7, 4, 6, 0, 0, 3, 4, 6, 7],\n",
       " [3, 4, 4, 6, 7, 0, 3, 4, 7, 9, 3, 4, 6, 7, 9, 4, 6, 7, 9, 4],\n",
       " [1, 0, 3, 4, 6, 7, 4, 6, 7, 9, 4, 7, 0, 3, 4, 4, 7, 9, 3, 4],\n",
       " [0, 4, 4, 6, 7, 0, 3, 4, 6, 4, 6, 7, 0, 4, 6, 7, 9, 4, 6, 7],\n",
       " [2, 0, 3, 4, 6, 3, 4, 6, 7, 9, 4, 6, 7, 9, 7, 9, 7, 7, 9, 4]]"
      ]
     },
     "execution_count": 52,
     "metadata": {},
     "output_type": "execute_result"
    }
   ],
   "source": [
    "Word2Vec()"
   ]
  },
  {
   "cell_type": "code",
   "execution_count": null,
   "metadata": {},
   "outputs": [],
   "source": []
  }
 ],
 "metadata": {
  "kernelspec": {
   "display_name": "Python 3",
   "language": "python",
   "name": "python3"
  },
  "language_info": {
   "codemirror_mode": {
    "name": "ipython",
    "version": 3
   },
   "file_extension": ".py",
   "mimetype": "text/x-python",
   "name": "python",
   "nbconvert_exporter": "python",
   "pygments_lexer": "ipython3",
   "version": "3.6.3"
  }
 },
 "nbformat": 4,
 "nbformat_minor": 2
}
