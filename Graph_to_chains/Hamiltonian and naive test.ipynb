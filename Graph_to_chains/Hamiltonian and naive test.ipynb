{
 "cells": [
  {
   "cell_type": "code",
   "execution_count": 2,
   "metadata": {},
   "outputs": [],
   "source": [
    "import numpy as np\n",
    "import matplotlib.pyplot as plt\n",
    "import sys"
   ]
  },
  {
   "cell_type": "code",
   "execution_count": 3,
   "metadata": {},
   "outputs": [],
   "source": [
    "sys.path.append(\"../utils\")"
   ]
  },
  {
   "cell_type": "code",
   "execution_count": 11,
   "metadata": {},
   "outputs": [],
   "source": [
    "import hamiltonian_utils as hu\n",
    "import plot_utils as pu\n",
    "import graph_transformation as gu"
   ]
  },
  {
   "cell_type": "code",
   "execution_count": 5,
   "metadata": {},
   "outputs": [],
   "source": [
    "X = np.load(\"../../data/simulation/1000_35_like_true/amp_gr.npy\")\n",
    "Y = np.load(\"../../data/simulation/1000_35_like_true/populations_gr.npy\")\n",
    "\n"
   ]
  },
  {
   "cell_type": "code",
   "execution_count": 7,
   "metadata": {},
   "outputs": [],
   "source": [
    "from sklearn.model_selection import train_test_split "
   ]
  },
  {
   "cell_type": "code",
   "execution_count": 8,
   "metadata": {},
   "outputs": [],
   "source": [
    "x_tr, x_te, y_tr, y_te = train_test_split(X, Y)"
   ]
  },
  {
   "cell_type": "code",
   "execution_count": 22,
   "metadata": {
    "scrolled": true
   },
   "outputs": [
    {
     "data": {
      "text/plain": [
       "[[8, 2, 1, 0, 9], [11, 7, 4, 5, 3, 6, 10]]"
      ]
     },
     "execution_count": 22,
     "metadata": {},
     "output_type": "execute_result"
    }
   ],
   "source": [
    "hu.restore_arrays(x_tr[0])[0]"
   ]
  },
  {
   "cell_type": "code",
   "execution_count": 20,
   "metadata": {},
   "outputs": [],
   "source": [
    "def get_xy(x, y):\n",
    "    pairs = gu.gr_to_pairs(x)[0]\n",
    "    target = gu.make_y(y, pairs)\n",
    "\n",
    "    return pairs, target"
   ]
  },
  {
   "cell_type": "code",
   "execution_count": 41,
   "metadata": {},
   "outputs": [],
   "source": [
    "def arrays_to_pairs(pairs, arrays):\n",
    "    new_pairs = dict(zip(pairs.keys(), np.zeros(len(pairs)).astype(int)))\n",
    "    \n",
    "    for arr in arrays:\n",
    "        for a, b in zip(arr, arr[1:]):\n",
    "            new_pairs[(a,b)]= 1\n",
    "    \n",
    "    return [x for x in new_pairs.values()]"
   ]
  },
  {
   "cell_type": "code",
   "execution_count": 42,
   "metadata": {},
   "outputs": [],
   "source": [
    "from sklearn.metrics import roc_auc_score"
   ]
  },
  {
   "cell_type": "code",
   "execution_count": 46,
   "metadata": {},
   "outputs": [],
   "source": [
    "all_t = []\n",
    "all_p = []\n",
    "\n",
    "for x, y in zip(x_te, y_te):\n",
    "    pairs, target = get_xy(x, y)\n",
    "    arrays  = hu.restore_arrays(x)[0]\n",
    "    pred = arrays_to_pairs(pairs, arrays)\n",
    "    all_t.extend(target)\n",
    "    all_p.extend(pred)\n",
    "    \n",
    "    \n",
    "    #print(roc_auc_score(target, pred))"
   ]
  },
  {
   "cell_type": "code",
   "execution_count": 47,
   "metadata": {},
   "outputs": [
    {
     "name": "stdout",
     "output_type": "stream",
     "text": [
      "0.9737476806319586\n"
     ]
    }
   ],
   "source": [
    "print(roc_auc_score(all_t, all_p))"
   ]
  },
  {
   "cell_type": "code",
   "execution_count": null,
   "metadata": {},
   "outputs": [],
   "source": []
  },
  {
   "cell_type": "code",
   "execution_count": 48,
   "metadata": {},
   "outputs": [],
   "source": [
    "import os\n",
    "import pickle"
   ]
  },
  {
   "cell_type": "code",
   "execution_count": 50,
   "metadata": {},
   "outputs": [],
   "source": [
    "es_answ_list = pickle.load(open(\"../../data/answers/ES_answers_50\", 'rb'))"
   ]
  },
  {
   "cell_type": "code",
   "execution_count": null,
   "metadata": {},
   "outputs": [],
   "source": []
  },
  {
   "cell_type": "code",
   "execution_count": 51,
   "metadata": {},
   "outputs": [],
   "source": [
    "def lists_to_gr(lists, n):\n",
    "    gr = np.zeros((n,n))\n",
    "    for arr in lists:\n",
    "        for a,b in zip(arr, arr[1:]):\n",
    "            gr[a, b] = 1\n",
    "            \n",
    "    return gr"
   ]
  },
  {
   "cell_type": "code",
   "execution_count": null,
   "metadata": {
    "collapsed": true
   },
   "outputs": [],
   "source": []
  },
  {
   "cell_type": "code",
   "execution_count": 53,
   "metadata": {},
   "outputs": [],
   "source": [
    "path = \"../../data/graphs/ES/\"\n",
    "files = sorted(os.listdir(path))"
   ]
  },
  {
   "cell_type": "code",
   "execution_count": 54,
   "metadata": {},
   "outputs": [],
   "source": [
    "ES_x = []\n",
    "for f in files:\n",
    "    ES_x.append(np.load(path + f)[:36, :36])\n"
   ]
  },
  {
   "cell_type": "code",
   "execution_count": null,
   "metadata": {},
   "outputs": [],
   "source": []
  },
  {
   "cell_type": "code",
   "execution_count": 60,
   "metadata": {},
   "outputs": [],
   "source": [
    "all_t = []\n",
    "all_p = []\n",
    "\n",
    "for x, y in zip(ES_x, es_answ_list):\n",
    "    pairs = gu.gr_to_pairs(x)[0]\n",
    "    arrays  = hu.restore_arrays(x)[0]\n",
    "    \n",
    "    #arrays_answ = hu.restore_arrays(y)[0]\n",
    "    \n",
    "    target = arrays_to_pairs(pairs, y)\n",
    "    pred = arrays_to_pairs(pairs, arrays)\n",
    "    all_t.extend(target)\n",
    "    all_p.extend(pred)\n",
    "    \n",
    "    \n",
    "    #print(roc_auc_score(target, pred))"
   ]
  },
  {
   "cell_type": "code",
   "execution_count": 61,
   "metadata": {},
   "outputs": [
    {
     "name": "stdout",
     "output_type": "stream",
     "text": [
      "0.9686848239479819\n"
     ]
    }
   ],
   "source": [
    "print(roc_auc_score(target, pred))"
   ]
  },
  {
   "cell_type": "code",
   "execution_count": null,
   "metadata": {},
   "outputs": [],
   "source": []
  },
  {
   "cell_type": "code",
   "execution_count": 110,
   "metadata": {},
   "outputs": [
    {
     "data": {
      "text/plain": [
       "<Container object of 11 artists>"
      ]
     },
     "execution_count": 110,
     "metadata": {},
     "output_type": "execute_result"
    },
    {
     "data": {
      "image/png": "[encoded data removed]",
      "text/plain": [
       "<matplotlib.figure.Figure at 0x7f7e2fdb0b00>"
      ]
     },
     "metadata": {},
     "output_type": "display_data"
    }
   ],
   "source": [
    "hist = hu.restore_arrays(ES_x[2])[1][2]\n",
    "plt.bar(np.arange(len(hist)), hist)"
   ]
  },
  {
   "cell_type": "markdown",
   "metadata": {},
   "source": [
    "## Naive"
   ]
  },
  {
   "cell_type": "code",
   "execution_count": 76,
   "metadata": {},
   "outputs": [],
   "source": [
    "def treashold_graph(gr,t):\n",
    "    pairs = []\n",
    "    for a,b in zip(*np.where(gr > t)): \n",
    "        pairs.append((a,b))\n",
    "    return pairs\n"
   ]
  },
  {
   "cell_type": "code",
   "execution_count": 99,
   "metadata": {},
   "outputs": [],
   "source": [
    "def pairs_to_pairs(pairs, pairs_ones):\n",
    "    new_pairs = dict(zip(pairs.keys(), np.zeros(len(pairs)).astype(int)))\n",
    "    \n",
    "    for p in pairs_ones:\n",
    "#         if p in pairs:\n",
    "        new_pairs[p]= 1\n",
    "    \n",
    "    return [x for x in new_pairs.values()]"
   ]
  },
  {
   "cell_type": "code",
   "execution_count": null,
   "metadata": {},
   "outputs": [],
   "source": []
  },
  {
   "cell_type": "code",
   "execution_count": 85,
   "metadata": {
    "scrolled": true
   },
   "outputs": [
    {
     "name": "stdout",
     "output_type": "stream",
     "text": [
      "0 0.5\n",
      "10 0.8062763652947212\n",
      "20 0.8737259149469844\n",
      "30 0.9013624444191084\n",
      "40 0.8897446129289704\n",
      "50 0.8742902747691255\n",
      "60 0.8648500741078554\n",
      "70 0.8554098734465854\n",
      "80 0.8547771063732755\n",
      "90 0.8513510432105804\n",
      "100 0.8482043096568237\n",
      "110 0.8396762056778018\n",
      "120 0.8410728537224945\n",
      "130 0.8427488313761259\n",
      "140 0.8384847793866149\n",
      "150 0.8387641089955536\n",
      "160 0.8393227682134307\n",
      "170 0.8345000570060427\n",
      "180 0.8350587162239197\n",
      "190 0.8305153346254703\n"
     ]
    }
   ],
   "source": [
    "for i in range(0, 200, 10): \n",
    "    all_t = []\n",
    "    all_p = []\n",
    "\n",
    "    for x, y in zip(ES_x, es_answ_list):\n",
    "        pairs = gu.gr_to_pairs(x)[0]\n",
    "        pairs_pred = treashold_graph(x, i)\n",
    "        #arrays_answ = hu.restore_arrays(y)[0]\n",
    "\n",
    "        target = arrays_to_pairs(pairs, y)\n",
    "        pred = pairs_to_pairs(pairs, pairs_pred)\n",
    "\n",
    "        all_t.extend(target)\n",
    "        all_p.extend(pred)\n",
    "\n",
    "\n",
    "    print(i, roc_auc_score(all_t, all_p))"
   ]
  },
  {
   "cell_type": "code",
   "execution_count": 101,
   "metadata": {},
   "outputs": [
    {
     "name": "stdout",
     "output_type": "stream",
     "text": [
      "0.8374255411884353\n"
     ]
    }
   ],
   "source": [
    "all_t = []\n",
    "all_p = []\n",
    "\n",
    "for x, y in zip(x_te, y_te):\n",
    "    pairs, target = get_xy(x, y)\n",
    "    pairs_pred = treashold_graph(x, 30)\n",
    "    #arrays_answ = hu.restore_arrays(y)[0]\n",
    "\n",
    "    #print(len(pairs), len(target))\n",
    "    pred = pairs_to_pairs(pairs, pairs_pred)\n",
    "    all_t.extend(target)\n",
    "    all_p.extend(pred)\n",
    "    \n",
    "    #print(roc_auc_score(target, pred))\n",
    "    \n",
    "print(roc_auc_score(all_t, all_p))"
   ]
  },
  {
   "cell_type": "code",
   "execution_count": null,
   "metadata": {},
   "outputs": [],
   "source": []
  },
  {
   "cell_type": "code",
   "execution_count": null,
   "metadata": {},
   "outputs": [],
   "source": []
  }
 ],
 "metadata": {
  "kernelspec": {
   "display_name": "Python 3",
   "language": "python",
   "name": "python3"
  },
  "language_info": {
   "codemirror_mode": {
    "name": "ipython",
    "version": 3
   },
   "file_extension": ".py",
   "mimetype": "text/x-python",
   "name": "python",
   "nbconvert_exporter": "python",
   "pygments_lexer": "ipython3",
   "version": "3.6.3"
  }
 },
 "nbformat": 4,
 "nbformat_minor": 2
}
