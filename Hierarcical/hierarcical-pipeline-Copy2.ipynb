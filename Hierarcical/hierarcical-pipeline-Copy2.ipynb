{
 "cells": [
  {
   "cell_type": "code",
   "execution_count": 14,
   "metadata": {},
   "outputs": [],
   "source": [
    "import sys, os\n",
    "import numpy as np"
   ]
  },
  {
   "cell_type": "code",
   "execution_count": 2,
   "metadata": {},
   "outputs": [],
   "source": [
    "sys.path.append(\"/home/anton/BigMac/skoltech/CRISPR_research/notebooks/\")"
   ]
  },
  {
   "cell_type": "code",
   "execution_count": 3,
   "metadata": {
    "scrolled": true
   },
   "outputs": [],
   "source": [
    "import utils.plot_utils as pu\n",
    "import utils.hierarcical_utils as hu\n",
    "import utils.hamiltonian_utils as hamu"
   ]
  },
  {
   "cell_type": "code",
   "execution_count": 96,
   "metadata": {},
   "outputs": [],
   "source": [
    "from importlib import reload\n",
    "hu = reload(hu)\n",
    "hamu = reload(hamu)\n",
    "pu = reload(pu)"
   ]
  },
  {
   "cell_type": "code",
   "execution_count": 164,
   "metadata": {},
   "outputs": [
    {
     "name": "stdout",
     "output_type": "stream",
     "text": [
      "2516852\n"
     ]
    }
   ],
   "source": [
    "# pairs_path = \"../../data/ES/ES3_R1_pairs.txt\"\n",
    "# lines_path = \"../../data/ES/ES3_R1_spacers.txt\"\n",
    "\n",
    "# pairs_path = \"../../data/ES_reload/ES/ES2_R1_pairs.txt\"\n",
    "# lines_path = \"../../data/ES_reload/ES/ES2_R1_spacers.txt\"\n",
    "\n",
    "# pairs_path = \"../data/ES/ES5_R1_pairs.txt\"\n",
    "# lines_path = \"../data/ES/ES5_R1_spacers.txt\"\n",
    "\n",
    "# pairs_path = \"../../data/SlO_10/SlO1_R1_pairs_10.txt\"\n",
    "# lines_path = \"../../data/SlO_10/SlO1_R1_spacers_10.txt\"\n",
    "\n",
    "pairs_path = \"../../data/clostr_06_07/good_1-10_R1_06_07pairsq10.txt\"\n",
    "pairs2_path = \"../../data/clostr_06_07/good_1-10_R2_06_07pairsq10.txt\"\n",
    "\n",
    "#pairs_path = \"../data/Thermus/III/Vesuvius (1)_III_pairs.txt\"\n",
    "#lines_path = \"../data/Thermus/III/Vesuvius (1).III.txt\"\n",
    "\n",
    "# with open(lines_path) as f:\n",
    "#     lines = [x[:] for x in f.readlines()][1::] #CAREFULLLL\n",
    "\n",
    "with open(pairs_path) as f:\n",
    "    pairs = [[y[:] for y in x[:-2].split(' ') ] for x in f.readlines()]\n",
    "with open(pairs2_path) as f:\n",
    "    pairs2 = [[y[:] for y in x[:-2].split(' ') ] for x in f.readlines()]\n",
    "    \n",
    "lines = []\n",
    "for p in pairs:\n",
    "    lines.append(p[0])\n",
    "    lines.append(p[1])\n",
    "    \n",
    "print(len(lines))"
   ]
  },
  {
   "cell_type": "code",
   "execution_count": 7,
   "metadata": {},
   "outputs": [
    {
     "data": {
      "text/plain": [
       "['AAAGGTGACCATTGATTTCTTTCAGTTTCGGGAATA',\n",
       " 'TGTTTTCCATAAACATTTCTAATTGACTTTTATTGT',\n",
       " 'TGGTATATCATACTCGTGCATTGCCTGCTCCACATT',\n",
       " 'ATACAACCATATATTTACCAATTATGTACTTATGAA',\n",
       " 'CCAATTAAGTTACTAGATAAAAAAATAGAACAAATTA']"
      ]
     },
     "execution_count": 7,
     "metadata": {},
     "output_type": "execute_result"
    }
   ],
   "source": [
    "lines[:5]"
   ]
  },
  {
   "cell_type": "code",
   "execution_count": 8,
   "metadata": {},
   "outputs": [
    {
     "data": {
      "text/plain": [
       "[['AAAGGTGACCATTGATTTCTTTCAGTTTCGGGAATA',\n",
       "  'TGTTTTCCATAAACATTTCTAATTGACTTTTATTGT'],\n",
       " ['TGGTATATCATACTCGTGCATTGCCTGCTCCACATT',\n",
       "  'ATACAACCATATATTTACCAATTATGTACTTATGAA']]"
      ]
     },
     "execution_count": 8,
     "metadata": {},
     "output_type": "execute_result"
    }
   ],
   "source": [
    "pairs[:2]"
   ]
  },
  {
   "cell_type": "code",
   "execution_count": 9,
   "metadata": {},
   "outputs": [],
   "source": [
    "od = hu.get_ordered_spacers(lines)"
   ]
  },
  {
   "cell_type": "code",
   "execution_count": 10,
   "metadata": {
    "scrolled": true
   },
   "outputs": [
    {
     "data": {
      "application/vnd.jupyter.widget-view+json": {
       "model_id": "248376830794474c8ab5f591a40843d3",
       "version_major": 2,
       "version_minor": 0
      },
      "text/plain": [
       "A Jupyter Widget"
      ]
     },
     "metadata": {},
     "output_type": "display_data"
    },
    {
     "name": "stdout",
     "output_type": "stream",
     "text": [
      "\n"
     ]
    }
   ],
   "source": [
    "answ, sp_to_n, cl_to_n, n_to_cl = hu.squash(od, 6)"
   ]
  },
  {
   "cell_type": "code",
   "execution_count": 19,
   "metadata": {},
   "outputs": [],
   "source": [
    "counter = 0\n",
    "true_keys = set()\n",
    "for item in answ.items():\n",
    "    if item[1] > 3:\n",
    "        counter += 1\n",
    "        true_keys.add(item[0])"
   ]
  },
  {
   "cell_type": "code",
   "execution_count": 20,
   "metadata": {},
   "outputs": [],
   "source": [
    "cl_to_n = dict(zip(list(true_keys), np.arange(len(true_keys))))"
   ]
  },
  {
   "cell_type": "code",
   "execution_count": 21,
   "metadata": {},
   "outputs": [
    {
     "data": {
      "text/plain": [
       "227"
      ]
     },
     "execution_count": 21,
     "metadata": {},
     "output_type": "execute_result"
    }
   ],
   "source": [
    "len(cl_to_n)"
   ]
  },
  {
   "cell_type": "code",
   "execution_count": 22,
   "metadata": {
    "scrolled": false
   },
   "outputs": [
    {
     "data": {
      "application/vnd.jupyter.widget-view+json": {
       "model_id": "4bd26c8c884e4ee0887382790da43cb3",
       "version_major": 2,
       "version_minor": 0
      },
      "text/plain": [
       "A Jupyter Widget"
      ]
     },
     "metadata": {},
     "output_type": "display_data"
    }
   ],
   "source": [
    "pairs_cl = hu.process_pairs(pairs, cl_to_n, 6)"
   ]
  },
  {
   "cell_type": "code",
   "execution_count": 23,
   "metadata": {
    "scrolled": false
   },
   "outputs": [],
   "source": [
    "gr = hamu.pairs_to_gr(pairs_cl, len(cl_to_n))"
   ]
  },
  {
   "cell_type": "code",
   "execution_count": 24,
   "metadata": {},
   "outputs": [],
   "source": [
    "np.save(\"./110\", gr)"
   ]
  },
  {
   "cell_type": "code",
   "execution_count": 25,
   "metadata": {},
   "outputs": [],
   "source": [
    "import pickle"
   ]
  },
  {
   "cell_type": "code",
   "execution_count": 26,
   "metadata": {},
   "outputs": [],
   "source": [
    "pickle.dump(cl_to_n, open(\"./110_cl_to_n\", 'wb'))\n",
    "pickle.dump(answ, open(\"./110_nd\", 'wb'))"
   ]
  },
  {
   "cell_type": "code",
   "execution_count": 11,
   "metadata": {},
   "outputs": [
    {
     "data": {
      "image/png": "[encoded data removed]",
      "text/plain": [
       "<matplotlib.figure.Figure at 0x7f8f1c473eb8>"
      ]
     },
     "metadata": {},
     "output_type": "display_data"
    }
   ],
   "source": [
    "pu.plot_gr(gr, log =1)"
   ]
  },
  {
   "cell_type": "code",
   "execution_count": 276,
   "metadata": {},
   "outputs": [],
   "source": [
    "arrays, weights = hamu.restore_arrays(gr)"
   ]
  },
  {
   "cell_type": "code",
   "execution_count": 190,
   "metadata": {},
   "outputs": [],
   "source": [
    "mean_weights = [np.mean(x) for x in weights]"
   ]
  },
  {
   "cell_type": "code",
   "execution_count": 191,
   "metadata": {},
   "outputs": [],
   "source": [
    "lens = [len(x) for x in arrays]"
   ]
  },
  {
   "cell_type": "code",
   "execution_count": 192,
   "metadata": {},
   "outputs": [],
   "source": [
    "import matplotlib.pyplot as plt"
   ]
  },
  {
   "cell_type": "code",
   "execution_count": 193,
   "metadata": {
    "scrolled": true
   },
   "outputs": [
    {
     "data": {
      "text/plain": [
       "<Container object of 18 artists>"
      ]
     },
     "execution_count": 193,
     "metadata": {},
     "output_type": "execute_result"
    },
    {
     "data": {
      "image/png": "[encoded data removed]",
      "text/plain": [
       "<matplotlib.figure.Figure at 0x7fee805aaf60>"
      ]
     },
     "metadata": {},
     "output_type": "display_data"
    }
   ],
   "source": [
    "plt.bar(np.arange(18), mean_weights[:18])"
   ]
  },
  {
   "cell_type": "code",
   "execution_count": null,
   "metadata": {},
   "outputs": [],
   "source": []
  },
  {
   "cell_type": "code",
   "execution_count": null,
   "metadata": {},
   "outputs": [],
   "source": []
  },
  {
   "cell_type": "code",
   "execution_count": 64,
   "metadata": {},
   "outputs": [],
   "source": [
    "mean_weights = [np.mean(x) for x in weights]"
   ]
  },
  {
   "cell_type": "code",
   "execution_count": 66,
   "metadata": {},
   "outputs": [],
   "source": [
    "lens = [len(x) for x in arrays]"
   ]
  },
  {
   "cell_type": "code",
   "execution_count": 70,
   "metadata": {},
   "outputs": [],
   "source": [
    "import matplotlib.pyplot as plt"
   ]
  },
  {
   "cell_type": "code",
   "execution_count": 71,
   "metadata": {},
   "outputs": [
    {
     "data": {
      "text/plain": [
       "<Container object of 18 artists>"
      ]
     },
     "execution_count": 71,
     "metadata": {},
     "output_type": "execute_result"
    },
    {
     "data": {
      "image/png": "[encoded data removed]",
      "text/plain": [
       "<matplotlib.figure.Figure at 0x7f8f18dca588>"
      ]
     },
     "metadata": {},
     "output_type": "display_data"
    }
   ],
   "source": [
    "plt.bar(np.arange(18), mean_weights[:18])"
   ]
  },
  {
   "cell_type": "code",
   "execution_count": null,
   "metadata": {},
   "outputs": [],
   "source": []
  },
  {
   "cell_type": "code",
   "execution_count": null,
   "metadata": {},
   "outputs": [],
   "source": []
  },
  {
   "cell_type": "code",
   "execution_count": 196,
   "metadata": {},
   "outputs": [],
   "source": [
    "with open(\"../../data/answers/Clo_013316.txt\") as f:\n",
    "    strain1 = [x[:-2].split(\",\") for x in f.readlines()]"
   ]
  },
  {
   "cell_type": "code",
   "execution_count": 260,
   "metadata": {},
   "outputs": [],
   "source": [
    "with open(\"../../data/answers/Clo_009089.txt\") as f:\n",
    "    strain2 = [x[:-2].split(\",\") for x in f.readlines()]"
   ]
  },
  {
   "cell_type": "code",
   "execution_count": null,
   "metadata": {},
   "outputs": [],
   "source": []
  },
  {
   "cell_type": "markdown",
   "metadata": {},
   "source": [
    "# investigation"
   ]
  },
  {
   "cell_type": "code",
   "execution_count": 187,
   "metadata": {},
   "outputs": [],
   "source": [
    "import editdistance as ed\n",
    "from tqdm import tqdm_notebook"
   ]
  },
  {
   "cell_type": "code",
   "execution_count": 106,
   "metadata": {
    "scrolled": false
   },
   "outputs": [
    {
     "data": {
      "text/plain": [
       "[72, 186, 159, 12, 215, 201, 61, 205, 154, 57, 109, 43, 46, 220, 8]"
      ]
     },
     "execution_count": 106,
     "metadata": {},
     "output_type": "execute_result"
    }
   ],
   "source": [
    "arrays[1]"
   ]
  },
  {
   "cell_type": "code",
   "execution_count": 198,
   "metadata": {},
   "outputs": [],
   "source": [
    "mask = []\n",
    "for i in range(25):\n",
    "    if a_close_to_any_b(arrays[i], cl_1):\n",
    "        mask.append(1)\n",
    "    elif a_close_to_any_b(arrays[i], cl_2):\n",
    "        mask.append(2)\n",
    "    else:\n",
    "        mask.append(0)\n"
   ]
  },
  {
   "cell_type": "code",
   "execution_count": 199,
   "metadata": {
    "scrolled": true
   },
   "outputs": [
    {
     "data": {
      "text/plain": [
       "[0, 1, 1, 1, 1, 0, 2, 0, 1, 1, 0, 2, 2, 2, 0, 0, 1, 2, 0, 1, 1, 1, 0, 1, 1]"
      ]
     },
     "execution_count": 199,
     "metadata": {},
     "output_type": "execute_result"
    }
   ],
   "source": [
    "mask"
   ]
  },
  {
   "cell_type": "code",
   "execution_count": 123,
   "metadata": {},
   "outputs": [
    {
     "data": {
      "text/plain": [
       "2"
      ]
     },
     "execution_count": 123,
     "metadata": {},
     "output_type": "execute_result"
    }
   ],
   "source": [
    "ed.eval([72, 186, 159, 12, 215, 201, 61, 205, 154, 57, 109, 43, 46, 220, 8], [ 159, 12, 215, 201, 61, 205, 154, 57, 109, 43, 46, 220, 8])"
   ]
  },
  {
   "cell_type": "code",
   "execution_count": 321,
   "metadata": {},
   "outputs": [],
   "source": [
    "def a_close_to_b(a, b, t = 2):\n",
    "    return ed.eval(a, b) <= 2\n",
    "\n",
    "def a_close_to_any_b(a, b, t = 2):\n",
    "    res = [a_close_to_b(a, x, t) for x in b]\n",
    "    return any(res), np.where(res)\n",
    "        "
   ]
  },
  {
   "cell_type": "code",
   "execution_count": 239,
   "metadata": {},
   "outputs": [],
   "source": [
    "cl1 = [[cl_to_n[hu.find_closest(cl_to_n, x)[1]] for x in y] for y in strain1]"
   ]
  },
  {
   "cell_type": "code",
   "execution_count": 261,
   "metadata": {},
   "outputs": [],
   "source": [
    "cl2 = [[cl_to_n[hu.find_closest(cl_to_n, x)[1]] for x in y] for y in strain2]"
   ]
  },
  {
   "cell_type": "code",
   "execution_count": 241,
   "metadata": {
    "collapsed": true
   },
   "outputs": [
    {
     "data": {
      "text/plain": [
       "[[(2, 'CTAGAATTAGAACTCATTATTAAAACCATTCTTGCAAG'),\n",
       "  (0, 'TAATCTGACACATACAAAGTTGAACCTAGTGGTACG'),\n",
       "  (0, 'AAAAGCGTTCTTAAATCGTTACTTAACTCTTGCAAA'),\n",
       "  (0, 'TGGTATATCATACTCGTGCATTGCCTGCTCCACATT'),\n",
       "  (0, 'ATACAACCATATATTTACCAATTATGTACTTATGAA'),\n",
       "  (0, 'TTTTTTAACTTTTCAGTTCTCACAGGCGTTTCATC'),\n",
       "  (0, 'TTCATATTCCAAGCGTTTTGCTTACACTTAATAGAA'),\n",
       "  (1, 'AAAATTAAATTTCATGCTCTTAGACATACATATGCAA'),\n",
       "  (1, 'TAGATTGCTTTCAAATTACCTCTTGTATAGCGTCTT'),\n",
       "  (1, 'TTGCTCCGCTATGCCTTGCGCTCTCTAATATCGCTTA'),\n",
       "  (1, 'TGAACTTTAATCGGTTTTATACAACAATATAACGC'),\n",
       "  (0, 'TCACACATGAGCAATATCGAAACAGGCAAATCTACA'),\n",
       "  (0, 'TTCGTAAAATAACAATTATCTGGAATATGAGAAGTT'),\n",
       "  (0, 'CACTCTTAAGTTGTGACCTATCTGATATATGATTAA'),\n",
       "  (2, 'TCAATATCTATATTAAGTTTATTTTTAAAAACATCT')],\n",
       " [(1, 'GTAGAGTCTTTATATGGTAGAGGTGGAATATATAAGT'),\n",
       "  (1, 'AACTCTTCAATATCTCCTAATCGTTCAATATAATTCT'),\n",
       "  (1, 'ACTGTATGCCATCTAAATGCATCATACAAACTTATTT'),\n",
       "  (0, 'TATACTTCCTAATGCAATCAAATAAGTACCTAAAAT'),\n",
       "  (1, 'TTCGCAACTTATGATGGTGAAATGATTACATTAACAG'),\n",
       "  (2, 'AATATAACAAAGTGGATGTTCTCTAAAAATAAAGAG')],\n",
       " [(1, 'TAAAACCACTCAATTCTTAAAAGATACTGCAATTATT'),\n",
       "  (1, 'GGACATTTTAACCATAGACTATTTTACAAACAAACTT'),\n",
       "  (1, 'GGAGATTTAAAAGTTAACAACATAAAAATGATAGATA'),\n",
       "  (2, 'TGGTGAACAATAAAACAATCATCTAAAGACGAAGAAAA'),\n",
       "  (2, 'ATAATCCAGAAGATGATACACTTCTTGAACAATATATT'),\n",
       "  (2, 'CTATCAATATATATTTTATAAGCATAAGTTTTACGCAT'),\n",
       "  (1, 'AACAACGTCATATATATCATCTTTAGTTGTAAGAGCA'),\n",
       "  (1, 'AGTTATGTCAAATTATTAGAAACTAAAAACCTAGTTG'),\n",
       "  (0, 'AATATCTAAAAAAAACGACTTATATCCCATTTCTAC'),\n",
       "  (1, 'AATTTAGAAAAGGACTATTAGGAAGCAAAGAAAAAAT'),\n",
       "  (0, 'AAAGTAAATCCTAGAGCATAACCAATTTTCGTAGG'),\n",
       "  (13, 'AGATATACAAGGTGAAAGTGTTGAAATTTCAATCTT')],\n",
       " [(1, 'GTTTGAGAACGCTGTATAAAGCTTGTAGCTAGTTCTT'),\n",
       "  (1, 'GTTGCATCATTAAATATTTTCCCTACAAACTCTTTTC'),\n",
       "  (2, 'AGTACATACAAAGAGTCTATAAAATTATCTATAAAG')],\n",
       " [(1, 'TATCTATTATTGGTATATTAAATGATTCTAATAATTC'),\n",
       "  (0, 'ATGTTCACATTGACAGCTCAAGATAAACATGGAATT'),\n",
       "  (1, 'TTAAATCGTTTGATTGGAAGTATAAATTATAATGACC'),\n",
       "  (0, 'GCTGAAAGTTTAAAAGTTTTAACTATAAATTCAGTT'),\n",
       "  (1, 'TCTTTTTCTAATGCTTTTTTTACATATGGAGCTAA'),\n",
       "  (1, 'CCATCAGCCTTATCCTGTGCAAATAATAGTGCCAA'),\n",
       "  (1, 'AGGAGATAACTTCTATTAAAGATAACTTTGATGTGGT'),\n",
       "  (4, 'CTCAAAGTTGGACTAGCTTCATCTTTTAATTTTACAAG')],\n",
       " [(1, 'AAGCTTTCATAGCATCCTCTTCTGAACATTCATCACT'),\n",
       "  (0, 'TAGTAAGTTAACTCATACATACCACCTTCCCCATAA'),\n",
       "  (1, 'TATTATAAATCTTTAAATAGCCTTCTAAGCGTCTACT'),\n",
       "  (0, 'ACATTATCAACATCATCTAATTTTTTTGTCACTGTA'),\n",
       "  (0, 'TAAGAATTAACTAATGTGAATTTTTTAGACATGTCA'),\n",
       "  (2, 'ACAAACAAGTGTAGGATAAACTTTCCTTGCCCAGTATA'),\n",
       "  (0, 'TAACAAAATTTGCGAGTACACTTATTTCTAATATAT'),\n",
       "  (1, 'ATAAGAGTGGTTTAAGAAAATAAGTTATTTTTCAA'),\n",
       "  (0, 'TGACTCGTGCTATTTTTTTTACACGCCTAAGAGGTA'),\n",
       "  (0, 'CGAAAAATCTAGGAAAAACTATTGTAAAAGCGTTTA'),\n",
       "  (0, 'TTTGATTACATGGGCAGTTTTTTATTATAGAGTGTT'),\n",
       "  (0, 'AAAAATCTTATTAAAGATTATTCAAAGTCTTTTGAT'),\n",
       "  (2, 'AACAAAAAAGATACATCTGTAACTAATTTTTATAC')],\n",
       " [(1, 'TGCTGTGATTTCACTAATAAAACAATTAATAATTG'),\n",
       "  (0, 'GTTCCTGTTGTGTTTTTTACTAATCCCATTTTATAT'),\n",
       "  (3, 'TGGTGAACAATAAAACAATCATCTAAAGACGAAGAAAA'),\n",
       "  (0, 'GACAAAGCGACTATTACTATCTCAGGTGATAAAAAT'),\n",
       "  (1, 'AAAAGTTGCACGCCTATTTGATTTTTCAATACATTA'),\n",
       "  (1, 'TCTCATGACTATTGAATAAATATAATAAACAAGCATA'),\n",
       "  (0, 'CAGCCAAAAACTTCGAATTTGAACTAAAATGCGTGG'),\n",
       "  (1, 'ATTTGAAAGGAATAAATTTTAAATGAATGAAAGGATA'),\n",
       "  (0, 'GCGTACAAGGTTGAGAAGCTCCGCAATCTCAACGTCGT'),\n",
       "  (1, 'AACTTTATATCTCCATTTGCATATCCATCTGATGAA'),\n",
       "  (0, 'GAGGAGATTCAGACAGCGACTAAAAAGACTGATATAAA'),\n",
       "  (1, 'AACGTACAAAATGTAGCTATTATCATCTTTTAGATAG'),\n",
       "  (1, 'CTTTTTCCGAAAAACCATTACTTACAAAATCTACA'),\n",
       "  (2, 'CTCCTTTCATTTCTCCTTTAGCTTCATAGCTTATTTT')],\n",
       " [(1, 'CGTATTAACACCTGTTCGGCACTATCACAATAAACACA'),\n",
       "  (1, 'TTGTTTAGGTCAAGTCTAATTTGACGTATTAAAGTAT'),\n",
       "  (0, 'GCTATAGAAGTAGCAGACTTAGGAACATCAGAAAAA'),\n",
       "  (0, 'TATCCTTGTATTTGCCTAACGCGATATAGAGCAAAAA'),\n",
       "  (1, 'TGTTTTCCATAAACATTTCTAATTGACTTTTATTGT'),\n",
       "  (2, 'AAAGGTGTCCATTGATTTCTTTCAGTTTCGGGAATA')],\n",
       " [(1, 'AGTACATACAAAGAGTCTATAAAATTATCTATAAAG'),\n",
       "  (0, 'GTTGCATCATTAAATATTTTCCCTACAAACTCTTTTC'),\n",
       "  (2, 'GTTTGAGAACGCTGTATAAAGCTTGTAGCTAGTTCTT')],\n",
       " [(1, 'AATATAACAAAGTGGATGTTCTCTAAAAATAAAGAG'),\n",
       "  (0, 'TTCGCAACTTATGATGGTGAAATGATTACATTAACAG'),\n",
       "  (1, 'TATACTTCCTAATGCAATCAAATAAGTACCTAAAAT'),\n",
       "  (0, 'ACTGTATGCCATCTAAATGCATCATACAAACTTATTT'),\n",
       "  (1, 'AACTCTTCAATATCTCCTAATCGTTCAATATAATTCT'),\n",
       "  (2, 'GTAGAGTCTTTATATGGTAGAGGTGGAATATATAAGT')],\n",
       " [(12, 'TTTAGAAACAACAGAATAAACATAATATATAAGCATA'),\n",
       "  (12, 'CATATTATTAAAATATCACTATTCTATATAAAATT'),\n",
       "  (1, 'AGGATAAAGAAAAGACTCACACAAGACACAGTGTCA'),\n",
       "  (1, 'TATCTAAAACCCAATAGGATTGACACGTTACGACC'),\n",
       "  (1, 'CCTGTATTCTGTTTAATGCTTCAATAGCTCTTTCT'),\n",
       "  (0, 'CAAAGTGCTAGGTCACTAAATGATGCAACAGTAGACG'),\n",
       "  (1, 'TATCAAAAAATCCCCTCACCTGCATACTTATATAAA'),\n",
       "  (1, 'TTTAAAAGGTCAACTTAAAGGTAGTAATTTTTTAAT'),\n",
       "  (1, 'CATATTCTTCATTTATCCCTATTCTATCTAATATT'),\n",
       "  (1, 'ACAAAAAAACGTATAATAAAAATAATTTCTATCTCT'),\n",
       "  (0, 'CCAATTAAGTTACTAGATAAAAAAATAGAACAAATTA'),\n",
       "  (0, 'CGAATTTCATGGCTTTGAATTTATTTATATGTAGTT'),\n",
       "  (0, 'TGAAACAAAATGCTGATGCAAGAAAAGAAAGTATCCGT'),\n",
       "  (1, 'TCAAAATTATTTAGTTATACTAAACATTATATTAT'),\n",
       "  (1, 'AGGTATACACCTTCTACTCTTGTAAGAGTACCATAA'),\n",
       "  (1, 'ACGATATTTTTATATTCTATTGTTGTTATCTTATTC'),\n",
       "  (0, 'CGAGTTGGCATCCAAGCATTTTTCACAGATTTTAATA'),\n",
       "  (1, 'AAGGTTTGACCTGCGTTTTTATATGCATCTGAATAA'),\n",
       "  (2, 'TTAGCTTCATAGCTTATTTTCTTTATTACTTCAATTT')]]"
      ]
     },
     "execution_count": 241,
     "metadata": {},
     "output_type": "execute_result"
    }
   ],
   "source": [
    "[[hu.find_closest(cl_to_n, x) for x in y] for y in strain2]"
   ]
  },
  {
   "cell_type": "code",
   "execution_count": null,
   "metadata": {},
   "outputs": [],
   "source": []
  },
  {
   "cell_type": "code",
   "execution_count": 217,
   "metadata": {},
   "outputs": [],
   "source": [
    "import networkx as nx\n",
    "import matplotlib.pyplot as plt"
   ]
  },
  {
   "cell_type": "code",
   "execution_count": 245,
   "metadata": {},
   "outputs": [],
   "source": [
    "def prepare_pos(arrs, start_x = 0, start_y = 0):\n",
    "    pos = {}\n",
    "    x, y = 0, 0\n",
    "    for arr in arrs:\n",
    "        print(arr)\n",
    "        for el in arr:\n",
    "            pos[el] = (x,y)\n",
    "            x += 1\n",
    "        y += 1\n",
    "        x = 0\n",
    "    return pos, x, y"
   ]
  },
  {
   "cell_type": "code",
   "execution_count": 277,
   "metadata": {},
   "outputs": [],
   "source": [
    "def create_shift_pos(pos, x_shift = 0, y_shift = -0.2):\n",
    "    s_pos = {}\n",
    "    for item in pos.items():\n",
    "        s_pos[item[0]] = (item[1][0] + x_shift, item[1][1] + y_shift)\n",
    "    return s_pos"
   ]
  },
  {
   "cell_type": "code",
   "execution_count": 295,
   "metadata": {},
   "outputs": [],
   "source": [
    "def add_pos(arr, pos ):\n",
    "    vertexes = []\n",
    "    for x in [x for y in arr for x in y]:\n",
    "        if not x in shift_pos.keys():\n",
    "            vertexes.append(x)\n",
    "\n",
    "    for i, v in enumerate(vertexes):\n",
    "        pos[v] = (i, -1)\n",
    "    \n",
    "    return pos"
   ]
  },
  {
   "cell_type": "code",
   "execution_count": 270,
   "metadata": {
    "scrolled": true
   },
   "outputs": [
    {
     "name": "stdout",
     "output_type": "stream",
     "text": [
      "[72, 186, 159, 12, 215, 201, 61, 205, 154, 57, 109, 43, 46, 220, 8]\n",
      "[42, 175, 120, 20, 195, 1, 13, 36, 111, 179, 116, 23]\n",
      "[188, 206, 62, 178, 169, 89, 197, 47]\n",
      "[63, 157, 221, 7, 165, 194, 177, 133, 0, 45, 199, 190, 5]\n",
      "[214, 170, 20, 225, 70, 191, 105, 32, 113, 183, 18, 79, 9, 189]\n",
      "[218, 77, 99, 119, 135, 217]\n",
      "[222, 102, 176]\n",
      "[94, 144, 4, 51, 90, 173]\n",
      "[16, 3, 93, 147, 174, 56, 112, 126, 211, 39, 115, 146, 37, 31, 96, 6, 98, 182, 138]\n",
      "[210, 53, 21, 50, 91, 118, 200, 171, 41, 122, 65, 145, 152, 172]\n",
      "[95, 216, 14, 67, 156, 85, 86, 71, 121, 30, 23]\n",
      "[151, 164, 223, 203]\n",
      "[15, 26, 142, 166, 219]\n",
      "[161, 54, 150, 168]\n",
      "[149, 25, 52, 87, 24, 104, 136, 207, 196, 167, 16, 10, 81, 73]\n",
      "[143, 76, 226, 11, 198, 148, 202, 84, 68]\n",
      "[16, 3, 93, 60, 97, 35, 75, 130, 209, 2, 134, 114, 162, 23, 17, 137, 44, 180, 66, 140, 123, 117, 124, 80, 110, 48]\n"
     ]
    }
   ],
   "source": [
    "G1 = nx.DiGraph()\n",
    "for arr in cl1:\n",
    "    G1.add_path(arr)\n",
    "    \n",
    "G2 = nx.DiGraph()\n",
    "for arr in cl2:\n",
    "    G2.add_path(arr)\n",
    "pos = prepare_pos(cl2 + cl1)[0]"
   ]
  },
  {
   "cell_type": "code",
   "execution_count": 298,
   "metadata": {},
   "outputs": [],
   "source": [
    "Gansw = nx.DiGraph()\n",
    "for arr in arrays:\n",
    "    Gansw.add_path(arr)\n",
    "\n",
    "shift_pos = create_shift_pos(pos)\n",
    "shift_pos = add_pos(arrays, shift_pos)"
   ]
  },
  {
   "cell_type": "code",
   "execution_count": 463,
   "metadata": {},
   "outputs": [
    {
     "data": {
      "image/png": "[encoded data removed]",
      "text/plain": [
       "<matplotlib.figure.Figure at 0x7fee7241f400>"
      ]
     },
     "metadata": {},
     "output_type": "display_data"
    }
   ],
   "source": [
    "#nx.draw_networkx(G,  alpha = 0.5, pos=pos)\n",
    "f = plt.figure(1, figsize=(20, 20))\n",
    "ax = f.add_subplot(111)\n",
    "nx.draw_networkx(G1, node_color='g', edge_color= 'g', style='dashed', linewidths=5, alpha = 0.7, pos=pos, ax=ax)\n",
    "nx.draw_networkx(G2, node_color='r', edge_color= 'r', style='dashed', alpha = 0.7, pos=pos, ax=ax)\n",
    "\n",
    "nx.draw_networkx(Gansw, node_color='y', edge_color='y', alpha = 0.7, pos=shift_pos,ax=ax)"
   ]
  },
  {
   "cell_type": "code",
   "execution_count": 505,
   "metadata": {},
   "outputs": [
    {
     "data": {
      "text/plain": [
       "1106.0"
      ]
     },
     "execution_count": 505,
     "metadata": {},
     "output_type": "execute_result"
    }
   ],
   "source": [
    "gr[88,128]"
   ]
  },
  {
   "cell_type": "code",
   "execution_count": 516,
   "metadata": {},
   "outputs": [
    {
     "data": {
      "text/plain": [
       "152.0"
      ]
     },
     "execution_count": 516,
     "metadata": {},
     "output_type": "execute_result"
    }
   ],
   "source": [
    "gr[141, 170]"
   ]
  },
  {
   "cell_type": "code",
   "execution_count": null,
   "metadata": {},
   "outputs": [],
   "source": []
  },
  {
   "cell_type": "code",
   "execution_count": null,
   "metadata": {},
   "outputs": [],
   "source": [
    "f.savefig(\".\")"
   ]
  },
  {
   "cell_type": "code",
   "execution_count": 464,
   "metadata": {},
   "outputs": [],
   "source": [
    "f.savefig(\"./Clostridium_1:10.png\")"
   ]
  },
  {
   "cell_type": "markdown",
   "metadata": {},
   "source": [
    "### Coverage"
   ]
  },
  {
   "cell_type": "code",
   "execution_count": 309,
   "metadata": {},
   "outputs": [
    {
     "data": {
      "text/plain": [
       "[[210, 53, 21, 50, 91, 118, 200, 171, 41, 122, 65, 145, 152, 172],\n",
       " [95, 216, 14, 67, 156, 85, 86, 71, 121, 30, 23],\n",
       " [151, 164, 223, 203],\n",
       " [15, 26, 142, 166, 219],\n",
       " [161, 54, 150, 168],\n",
       " [149, 25, 52, 87, 24, 104, 136, 207, 196, 167, 16, 10, 81, 73],\n",
       " [143, 76, 226, 11, 198, 148, 202, 84, 68]]"
      ]
     },
     "execution_count": 309,
     "metadata": {},
     "output_type": "execute_result"
    }
   ],
   "source": [
    "cl1[:-1]"
   ]
  },
  {
   "cell_type": "code",
   "execution_count": 347,
   "metadata": {
    "scrolled": true
   },
   "outputs": [
    {
     "name": "stdout",
     "output_type": "stream",
     "text": [
      "(True, (array([1]),))\n",
      "(True, (array([4]),))\n",
      "(True, (array([9]),))\n",
      "(True, (array([8]),))\n",
      "(False, (array([], dtype=int64),))\n",
      "(False, (array([], dtype=int64),))\n",
      "(True, (array([3]),))\n",
      "(False, (array([], dtype=int64),))\n",
      "(False, (array([], dtype=int64),))\n"
     ]
    }
   ],
   "source": [
    "for arr in cl2:\n",
    "    print(a_close_to_any_b(arr, arrays))"
   ]
  },
  {
   "cell_type": "code",
   "execution_count": 351,
   "metadata": {},
   "outputs": [
    {
     "data": {
      "text/plain": [
       "[94, 144, 4, 51, 90, 173]"
      ]
     },
     "execution_count": 351,
     "metadata": {},
     "output_type": "execute_result"
    }
   ],
   "source": [
    "cl2[-2]"
   ]
  },
  {
   "cell_type": "code",
   "execution_count": 335,
   "metadata": {},
   "outputs": [
    {
     "data": {
      "text/plain": [
       "[[138, 182, 98, 6, 96, 31, 37, 146, 115, 39, 211, 126, 112, 56, 174, 147, 93],\n",
       " [72, 186, 159, 12, 215, 201, 61, 205, 154, 57, 109, 43, 46, 220, 8],\n",
       " [173, 90, 51, 4, 144, 94],\n",
       " [176, 102, 222],\n",
       " [42, 175, 120, 20, 195, 1, 13, 36, 111, 179, 116],\n",
       " [189, 9, 79, 18, 183, 113, 32, 105, 191, 70, 225, 141, 170, 214],\n",
       " [149, 25, 52, 87, 24, 104, 136, 207, 196, 167, 16, 10, 81],\n",
       " [217, 135, 119, 99, 77, 218],\n",
       " [63, 157, 221, 7, 165, 194, 177, 133, 0, 45, 199, 190, 5],\n",
       " [188, 206, 62, 178, 169, 89, 197, 47],\n",
       " [48,\n",
       "  110,\n",
       "  80,\n",
       "  124,\n",
       "  117,\n",
       "  123,\n",
       "  140,\n",
       "  66,\n",
       "  180,\n",
       "  44,\n",
       "  137,\n",
       "  17,\n",
       "  23,\n",
       "  162,\n",
       "  114,\n",
       "  134,\n",
       "  2,\n",
       "  209,\n",
       "  130,\n",
       "  75,\n",
       "  35,\n",
       "  97,\n",
       "  60],\n",
       " [15, 26, 142, 166, 219],\n",
       " [95, 216, 14, 67, 156, 85, 86, 71, 121, 30],\n",
       " [161, 54, 150, 168],\n",
       " [171, 41, 122, 65, 145, 152, 172],\n",
       " [210, 53, 21, 50, 91, 118],\n",
       " [88, 128],\n",
       " [151, 164, 223, 203],\n",
       " [68, 84, 202, 148, 198, 11, 226, 76, 143],\n",
       " [184, 29],\n",
       " [82, 58],\n",
       " [158, 101],\n",
       " [131, 132, 200, 28, 181],\n",
       " [73, 19],\n",
       " [38, 3],\n",
       " [40, 187],\n",
       " [74, 160],\n",
       " [204, 49]]"
      ]
     },
     "execution_count": 335,
     "metadata": {},
     "output_type": "execute_result"
    }
   ],
   "source": [
    "arrays"
   ]
  },
  {
   "cell_type": "code",
   "execution_count": null,
   "metadata": {},
   "outputs": [],
   "source": []
  },
  {
   "cell_type": "code",
   "execution_count": 289,
   "metadata": {},
   "outputs": [
    {
     "data": {
      "text/plain": [
       "[[138, 182, 98, 6, 96, 31, 37, 146, 115, 39, 211, 126, 112, 56, 174, 147, 93],\n",
       " [72, 186, 159, 12, 215, 201, 61, 205, 154, 57, 109, 43, 46, 220, 8],\n",
       " [173, 90, 51, 4, 144, 94],\n",
       " [176, 102, 222],\n",
       " [42, 175, 120, 20, 195, 1, 13, 36, 111, 179, 116],\n",
       " [189, 9, 79, 18, 183, 113, 32, 105, 191, 70, 225, 141, 170, 214],\n",
       " [149, 25, 52, 87, 24, 104, 136, 207, 196, 167, 16, 10, 81],\n",
       " [217, 135, 119, 99, 77, 218],\n",
       " [63, 157, 221, 7, 165, 194, 177, 133, 0, 45, 199, 190, 5],\n",
       " [188, 206, 62, 178, 169, 89, 197, 47],\n",
       " [48,\n",
       "  110,\n",
       "  80,\n",
       "  124,\n",
       "  117,\n",
       "  123,\n",
       "  140,\n",
       "  66,\n",
       "  180,\n",
       "  44,\n",
       "  137,\n",
       "  17,\n",
       "  23,\n",
       "  162,\n",
       "  114,\n",
       "  134,\n",
       "  2,\n",
       "  209,\n",
       "  130,\n",
       "  75,\n",
       "  35,\n",
       "  97,\n",
       "  60],\n",
       " [15, 26, 142, 166, 219],\n",
       " [95, 216, 14, 67, 156, 85, 86, 71, 121, 30],\n",
       " [161, 54, 150, 168],\n",
       " [171, 41, 122, 65, 145, 152, 172],\n",
       " [210, 53, 21, 50, 91, 118],\n",
       " [88, 128],\n",
       " [151, 164, 223, 203],\n",
       " [68, 84, 202, 148, 198, 11, 226, 76, 143],\n",
       " [184, 29],\n",
       " [82, 58],\n",
       " [158, 101],\n",
       " [131, 132, 200, 28, 181],\n",
       " [73, 19],\n",
       " [38, 3],\n",
       " [40, 187],\n",
       " [74, 160],\n",
       " [204, 49]]"
      ]
     },
     "execution_count": 289,
     "metadata": {},
     "output_type": "execute_result"
    }
   ],
   "source": [
    "arrays"
   ]
  },
  {
   "cell_type": "code",
   "execution_count": 267,
   "metadata": {},
   "outputs": [
    {
     "data": {
      "text/plain": [
       "3"
      ]
     },
     "execution_count": 267,
     "metadata": {},
     "output_type": "execute_result"
    }
   ],
   "source": [
    "ed.eval(strain2[1][3], strain2[4][2])"
   ]
  },
  {
   "cell_type": "code",
   "execution_count": 268,
   "metadata": {},
   "outputs": [
    {
     "data": {
      "text/plain": [
       "(2, 'TGGTGAACAATAAAACAATCATCTAAAGACGAAGAAAA')"
      ]
     },
     "execution_count": 268,
     "metadata": {},
     "output_type": "execute_result"
    }
   ],
   "source": [
    "hu.find_closest(answ, strain2[1][3])"
   ]
  },
  {
   "cell_type": "code",
   "execution_count": 269,
   "metadata": {},
   "outputs": [
    {
     "data": {
      "text/plain": [
       "(3, 'TGGTGAACAATAAAACAATCATCTAAAGACGAAGAAAA')"
      ]
     },
     "execution_count": 269,
     "metadata": {},
     "output_type": "execute_result"
    }
   ],
   "source": [
    "hu.find_closest(answ, strain2[4][2])"
   ]
  },
  {
   "cell_type": "code",
   "execution_count": 264,
   "metadata": {
    "scrolled": true
   },
   "outputs": [
    {
     "data": {
      "text/plain": [
       "[[72, 186, 159, 12, 215, 201, 61, 205, 154, 57, 109, 43, 46, 220, 8],\n",
       " [42, 175, 120, 20, 195, 1, 13, 36, 111, 179, 116, 23],\n",
       " [188, 206, 62, 178, 169, 89, 197, 47],\n",
       " [63, 157, 221, 7, 165, 194, 177, 133, 0, 45, 199, 190, 5],\n",
       " [214, 170, 20, 225, 70, 191, 105, 32, 113, 183, 18, 79, 9, 189],\n",
       " [218, 77, 99, 119, 135, 217],\n",
       " [222, 102, 176],\n",
       " [94, 144, 4, 51, 90, 173],\n",
       " [16,\n",
       "  3,\n",
       "  93,\n",
       "  147,\n",
       "  174,\n",
       "  56,\n",
       "  112,\n",
       "  126,\n",
       "  211,\n",
       "  39,\n",
       "  115,\n",
       "  146,\n",
       "  37,\n",
       "  31,\n",
       "  96,\n",
       "  6,\n",
       "  98,\n",
       "  182,\n",
       "  138]]"
      ]
     },
     "execution_count": 264,
     "metadata": {},
     "output_type": "execute_result"
    }
   ],
   "source": [
    "cl2"
   ]
  },
  {
   "cell_type": "code",
   "execution_count": null,
   "metadata": {},
   "outputs": [],
   "source": []
  },
  {
   "cell_type": "code",
   "execution_count": 426,
   "metadata": {},
   "outputs": [],
   "source": [
    "def search_best_alignment(a, b, t = 2):\n",
    "    answ = ('', '')\n",
    "    indexes = (-1,-1,-1,-1)\n",
    "    b_index = -1\n",
    "    \n",
    "    for i, x in enumerate(b):\n",
    "        curr_answ, curr_indexes = best_alignment(a, x, t)\n",
    "        if len(curr_answ[0]) >= len(answ[0]) and len(curr_answ[1]) >= len(answ[1]):\n",
    "            answ = curr_answ\n",
    "            indexes = curr_indexes\n",
    "            b_index = i\n",
    "        curr_answ, curr_indexes = best_alignment(a[::-1], x, t)\n",
    "        if len(curr_answ[0]) >= len(answ[0]) and len(curr_answ[1]) >= len(answ[1]):\n",
    "            answ = curr_answ\n",
    "            indexes = curr_indexes\n",
    "            b_index = i\n",
    "        \n",
    "    return answ, b_index, indexes"
   ]
  },
  {
   "cell_type": "code",
   "execution_count": 368,
   "metadata": {},
   "outputs": [
    {
     "data": {
      "text/plain": [
       "('b_in_a', array([1, 2]))"
      ]
     },
     "execution_count": 368,
     "metadata": {},
     "output_type": "execute_result"
    }
   ],
   "source": [
    "search_any_occurences_a_in_b('asasaas', ['aqqwwwe', 'asa', 'a'])"
   ]
  },
  {
   "cell_type": "code",
   "execution_count": 416,
   "metadata": {},
   "outputs": [],
   "source": [
    "def best_alignment(a, b, t):\n",
    "    '''worst implementation of best alignment ever'''\n",
    "    answ = ('','')\n",
    "    i1a, i2a, j1a, j2a = -1,-1,-1,-1\n",
    "    for i1 in range(0, len(a)):\n",
    "        for i2 in range(i1 + 1, len(a) + 1):\n",
    "            check_a = a[i1:i2]\n",
    "            for j1 in range(0, len(b)):\n",
    "                for j2 in range(j1 + 1,  len(b) + 1):\n",
    "                    check_b = b[j1:j2]\n",
    "                    if ed.eval(check_a, check_b) <= t and len(check_a) >= len(answ[0]) and len(check_b) >= len(answ[1]):\n",
    "                        answ = (check_a, check_b)\n",
    "                        i1a, i2a, j1a, j2a = i1,i2,j1,j2\n",
    "    \n",
    "    return answ, (i1a,i2a,j1a,j2a)\n"
   ]
  },
  {
   "cell_type": "code",
   "execution_count": 475,
   "metadata": {},
   "outputs": [
    {
     "name": "stdout",
     "output_type": "stream",
     "text": [
      "[210, 53, 21, 50, 91, 118, 200, 171, 41, 122, 65, 145, 152, 172]\n",
      "(([118, 200, 171, 41, 122, 65, 145, 152, 172], [171, 41, 122, 65, 145, 152, 172]), 14, (5, 14, 0, 7))\n",
      "....\n",
      "[95, 216, 14, 67, 156, 85, 86, 71, 121, 30, 23]\n",
      "(([95, 216, 14, 67, 156, 85, 86, 71, 121, 30, 23], [95, 216, 14, 67, 156, 85, 86, 71, 121, 30]), 12, (0, 11, 0, 10))\n",
      "....\n",
      "[151, 164, 223, 203]\n",
      "(([151, 164, 223, 203], [151, 164, 223, 203]), 17, (0, 4, 0, 4))\n",
      "....\n",
      "[15, 26, 142, 166, 219]\n",
      "(([15, 26, 142, 166, 219], [15, 26, 142, 166, 219]), 11, (0, 5, 0, 5))\n",
      "....\n",
      "[161, 54, 150, 168]\n",
      "(([161, 54, 150, 168], [161, 54, 150, 168]), 13, (0, 4, 0, 4))\n",
      "....\n",
      "[149, 25, 52, 87, 24, 104, 136, 207, 196, 167, 16, 10, 81, 73]\n",
      "(([149, 25, 52, 87, 24, 104, 136, 207, 196, 167, 16, 10, 81, 73], [149, 25, 52, 87, 24, 104, 136, 207, 196, 167, 16, 10, 81]), 6, (0, 14, 0, 13))\n",
      "....\n",
      "[143, 76, 226, 11, 198, 148, 202, 84, 68]\n",
      "(([68, 84, 202, 148, 198, 11, 226, 76, 143], [68, 84, 202, 148, 198, 11, 226, 76, 143]), 18, (0, 9, 0, 9))\n",
      "....\n",
      "[16, 3, 93, 60, 97, 35, 75, 130, 209, 2, 134, 114, 162, 23, 17, 137, 44, 180, 66, 140, 123, 117, 124, 80, 110, 48]\n",
      "(([48, 110, 80, 124, 117, 123, 140, 66, 180, 44, 137, 17, 23, 162, 114, 134, 2, 209, 130, 75, 35, 97, 60, 93, 3], [48, 110, 80, 124, 117, 123, 140, 66, 180, 44, 137, 17, 23, 162, 114, 134, 2, 209, 130, 75, 35, 97, 60]), 10, (0, 25, 0, 23))\n",
      "....\n"
     ]
    }
   ],
   "source": [
    "mask1 = []\n",
    "for c in cl1:\n",
    "    print(c)\n",
    "    a = search_best_alignment(c, arrays, 2)\n",
    "    print(a)\n",
    "    mask1.append(a[1])\n",
    "    print(\"....\")"
   ]
  },
  {
   "cell_type": "code",
   "execution_count": 476,
   "metadata": {},
   "outputs": [],
   "source": [
    "mask1.append(15)\n",
    "mask1.append(16)"
   ]
  },
  {
   "cell_type": "code",
   "execution_count": 477,
   "metadata": {},
   "outputs": [
    {
     "data": {
      "text/plain": [
       "[6, 10, 11, 12, 13, 14, 15, 16, 17, 18]"
      ]
     },
     "execution_count": 477,
     "metadata": {},
     "output_type": "execute_result"
    }
   ],
   "source": [
    "sorted(mask1)"
   ]
  },
  {
   "cell_type": "code",
   "execution_count": 467,
   "metadata": {},
   "outputs": [
    {
     "name": "stdout",
     "output_type": "stream",
     "text": [
      "[72, 186, 159, 12, 215, 201, 61, 205, 154, 57, 109, 43, 46, 220, 8]\n",
      "(([72, 186, 159, 12, 215, 201, 61, 205, 154, 57, 109, 43, 46, 220, 8], [72, 186, 159, 12, 215, 201, 61, 205, 154, 57, 109, 43, 46, 220, 8]), 1, (0, 15, 0, 15))\n",
      "....\n",
      "[42, 175, 120, 20, 195, 1, 13, 36, 111, 179, 116, 23]\n",
      "(([42, 175, 120, 20, 195, 1, 13, 36, 111, 179, 116, 23], [42, 175, 120, 20, 195, 1, 13, 36, 111, 179, 116]), 4, (0, 12, 0, 11))\n",
      "....\n",
      "[188, 206, 62, 178, 169, 89, 197, 47]\n",
      "(([188, 206, 62, 178, 169, 89, 197, 47], [188, 206, 62, 178, 169, 89, 197, 47]), 9, (0, 8, 0, 8))\n",
      "....\n",
      "[63, 157, 221, 7, 165, 194, 177, 133, 0, 45, 199, 190, 5]\n",
      "(([63, 157, 221, 7, 165, 194, 177, 133, 0, 45, 199, 190, 5], [63, 157, 221, 7, 165, 194, 177, 133, 0, 45, 199, 190, 5]), 8, (0, 13, 0, 13))\n",
      "....\n",
      "[214, 170, 20, 225, 70, 191, 105, 32, 113, 183, 18, 79, 9, 189]\n",
      "(([189, 9, 79, 18, 183, 113, 32, 105, 191, 70, 225, 20, 170, 214], [189, 9, 79, 18, 183, 113, 32, 105, 191, 70, 225, 141, 170, 214]), 5, (0, 14, 0, 14))\n",
      "....\n",
      "[218, 77, 99, 119, 135, 217]\n",
      "(([217, 135, 119, 99, 77, 218], [217, 135, 119, 99, 77, 218]), 7, (0, 6, 0, 6))\n",
      "....\n",
      "[222, 102, 176]\n",
      "(([176, 102, 222], [176, 102, 222]), 3, (0, 3, 0, 3))\n",
      "....\n",
      "[94, 144, 4, 51, 90, 173]\n",
      "(([173, 90, 51, 4, 144, 94], [173, 90, 51, 4, 144, 94]), 2, (0, 6, 0, 6))\n",
      "....\n",
      "[16, 3, 93, 147, 174, 56, 112, 126, 211, 39, 115, 146, 37, 31, 96, 6, 98, 182, 138]\n",
      "(([138, 182, 98, 6, 96, 31, 37, 146, 115, 39, 211, 126, 112, 56, 174, 147, 93, 3, 16], [138, 182, 98, 6, 96, 31, 37, 146, 115, 39, 211, 126, 112, 56, 174, 147, 93]), 0, (0, 19, 0, 17))\n",
      "....\n"
     ]
    }
   ],
   "source": [
    "mask2 = []\n",
    "for c in cl2:\n",
    "    print(c)\n",
    "    a = search_best_alignment(c, arrays, 2)\n",
    "    print(a)\n",
    "    mask2.append(a[1])\n",
    "    print(\"....\")"
   ]
  },
  {
   "cell_type": "code",
   "execution_count": 469,
   "metadata": {},
   "outputs": [
    {
     "data": {
      "text/plain": [
       "[0, 1, 2, 3, 4, 5, 7, 8, 9]"
      ]
     },
     "execution_count": 469,
     "metadata": {},
     "output_type": "execute_result"
    }
   ],
   "source": [
    "sorted(mask2)"
   ]
  },
  {
   "cell_type": "code",
   "execution_count": 429,
   "metadata": {},
   "outputs": [
    {
     "name": "stdout",
     "output_type": "stream",
     "text": [
      "22887.928571428572\n",
      "14183.2\n",
      "5471.714285714285\n",
      "3420.75\n",
      "6381.923076923077\n",
      "5051.2\n",
      "14462.5\n",
      "16938.8\n",
      "21024.0625\n"
     ]
    }
   ],
   "source": [
    "for i in [1,4,9,8,5,7,3,2,0]:\n",
    "    print(mean_weights[i])"
   ]
  },
  {
   "cell_type": "code",
   "execution_count": 430,
   "metadata": {},
   "outputs": [
    {
     "name": "stdout",
     "output_type": "stream",
     "text": [
      "2447.7272727272725\n",
      "2036.75\n",
      "1491.2222222222222\n",
      "1580.6666666666667\n",
      "724.0\n",
      "581.4\n",
      "1106.0\n",
      "340.3333333333333\n",
      "135.625\n",
      "6.0\n"
     ]
    }
   ],
   "source": [
    "for i in range(10,20):\n",
    "    print(mean_weights[i])"
   ]
  },
  {
   "cell_type": "code",
   "execution_count": 487,
   "metadata": {
    "scrolled": true
   },
   "outputs": [
    {
     "data": {
      "text/plain": [
       "<Container object of 20 artists>"
      ]
     },
     "execution_count": 487,
     "metadata": {},
     "output_type": "execute_result"
    },
    {
     "data": {
      "image/png": "[encoded data removed]",
      "text/plain": [
       "<matplotlib.figure.Figure at 0x7fee6f1885c0>"
      ]
     },
     "metadata": {},
     "output_type": "display_data"
    }
   ],
   "source": [
    "plt.bar(np.arange(20), mean_weights[:20] * m1)\n",
    "plt.bar(np.arange(20), mean_weights[:20] * m2)"
   ]
  },
  {
   "cell_type": "code",
   "execution_count": 478,
   "metadata": {},
   "outputs": [
    {
     "data": {
      "text/plain": [
       "[14, 12, 17, 11, 13, 6, 18, 10, 15, 16]"
      ]
     },
     "execution_count": 478,
     "metadata": {},
     "output_type": "execute_result"
    }
   ],
   "source": [
    "mask1"
   ]
  },
  {
   "cell_type": "code",
   "execution_count": 486,
   "metadata": {},
   "outputs": [],
   "source": [
    "m1 = np.zeros(20)\n",
    "m1[np.array(mask1)] = 1\n",
    "m2 = np.zeros(20)\n",
    "m2[np.array(mask2)] = 1"
   ]
  },
  {
   "cell_type": "code",
   "execution_count": null,
   "metadata": {},
   "outputs": [],
   "source": []
  },
  {
   "cell_type": "code",
   "execution_count": 481,
   "metadata": {},
   "outputs": [
    {
     "name": "stdout",
     "output_type": "stream",
     "text": [
      "(([30, 23], [147, 93]), (9, 11, 15, 17))\n",
      "(([30, 23], [220, 8]), (9, 11, 13, 15))\n",
      "(([30, 23], [144, 94]), (9, 11, 4, 6))\n",
      "(([30, 23], [102, 222]), (9, 11, 1, 3))\n",
      "(([30, 23], [179, 116]), (9, 11, 9, 11))\n",
      "(([30, 23], [170, 214]), (9, 11, 12, 14))\n",
      "(([30, 23], [10, 81]), (9, 11, 11, 13))\n",
      "(([30, 23], [77, 218]), (9, 11, 4, 6))\n",
      "(([30, 23], [190, 5]), (9, 11, 11, 13))\n",
      "(([30, 23], [197, 47]), (9, 11, 6, 8))\n",
      "(([121, 30, 23], [137, 17, 23]), (8, 11, 10, 13))\n",
      "(([30, 23], [166, 219]), (9, 11, 3, 5))\n",
      "(([95, 216, 14, 67, 156, 85, 86, 71, 121, 30, 23], [95, 216, 14, 67, 156, 85, 86, 71, 121, 30]), (0, 11, 0, 10))\n",
      "(([30, 23], [150, 168]), (9, 11, 2, 4))\n",
      "(([30, 23], [152, 172]), (9, 11, 5, 7))\n",
      "(([30, 23], [91, 118]), (9, 11, 4, 6))\n",
      "(([30, 23], [88, 128]), (9, 11, 0, 2))\n",
      "(([30, 23], [223, 203]), (9, 11, 2, 4))\n",
      "(([30, 23], [76, 143]), (9, 11, 7, 9))\n",
      "(([30, 23], [184, 29]), (9, 11, 0, 2))\n",
      "(([30, 23], [82, 58]), (9, 11, 0, 2))\n",
      "(([30, 23], [158, 101]), (9, 11, 0, 2))\n",
      "(([30, 23], [28, 181]), (9, 11, 3, 5))\n",
      "(([30, 23], [73, 19]), (9, 11, 0, 2))\n",
      "(([30, 23], [38, 3]), (9, 11, 0, 2))\n",
      "(([30, 23], [40, 187]), (9, 11, 0, 2))\n",
      "(([30, 23], [74, 160]), (9, 11, 0, 2))\n",
      "(([30, 23], [204, 49]), (9, 11, 0, 2))\n"
     ]
    }
   ],
   "source": [
    "for x in arrays:\n",
    "    print(best_alignment(cl1[1], x, 2))"
   ]
  },
  {
   "cell_type": "code",
   "execution_count": 434,
   "metadata": {
    "scrolled": true
   },
   "outputs": [
    {
     "data": {
      "text/plain": [
       "'TAAGAATTAACTAATGTGAATTTTTTAGACATGTCA'"
      ]
     },
     "execution_count": 434,
     "metadata": {},
     "output_type": "execute_result"
    }
   ],
   "source": [
    "n_to_cl[93]"
   ]
  },
  {
   "cell_type": "code",
   "execution_count": 435,
   "metadata": {},
   "outputs": [
    {
     "data": {
      "text/plain": [
       "[[72, 186, 159, 12, 215, 201, 61, 205, 154, 57, 109, 43, 46, 220, 8],\n",
       " [42, 175, 120, 20, 195, 1, 13, 36, 111, 179, 116, 23],\n",
       " [188, 206, 62, 178, 169, 89, 197, 47],\n",
       " [63, 157, 221, 7, 165, 194, 177, 133, 0, 45, 199, 190, 5],\n",
       " [214, 170, 20, 225, 70, 191, 105, 32, 113, 183, 18, 79, 9, 189],\n",
       " [218, 77, 99, 119, 135, 217],\n",
       " [222, 102, 176],\n",
       " [94, 144, 4, 51, 90, 173],\n",
       " [16,\n",
       "  3,\n",
       "  93,\n",
       "  147,\n",
       "  174,\n",
       "  56,\n",
       "  112,\n",
       "  126,\n",
       "  211,\n",
       "  39,\n",
       "  115,\n",
       "  146,\n",
       "  37,\n",
       "  31,\n",
       "  96,\n",
       "  6,\n",
       "  98,\n",
       "  182,\n",
       "  138]]"
      ]
     },
     "execution_count": 435,
     "metadata": {},
     "output_type": "execute_result"
    }
   ],
   "source": [
    "cl2"
   ]
  },
  {
   "cell_type": "code",
   "execution_count": 432,
   "metadata": {},
   "outputs": [
    {
     "data": {
      "text/plain": [
       "[[210, 53, 21, 50, 91, 118, 200, 171, 41, 122, 65, 145, 152, 172],\n",
       " [95, 216, 14, 67, 156, 85, 86, 71, 121, 30, 23],\n",
       " [151, 164, 223, 203],\n",
       " [15, 26, 142, 166, 219],\n",
       " [161, 54, 150, 168],\n",
       " [149, 25, 52, 87, 24, 104, 136, 207, 196, 167, 16, 10, 81, 73],\n",
       " [143, 76, 226, 11, 198, 148, 202, 84, 68],\n",
       " [16,\n",
       "  3,\n",
       "  93,\n",
       "  60,\n",
       "  97,\n",
       "  35,\n",
       "  75,\n",
       "  130,\n",
       "  209,\n",
       "  2,\n",
       "  134,\n",
       "  114,\n",
       "  162,\n",
       "  23,\n",
       "  17,\n",
       "  137,\n",
       "  44,\n",
       "  180,\n",
       "  66,\n",
       "  140,\n",
       "  123,\n",
       "  117,\n",
       "  124,\n",
       "  80,\n",
       "  110,\n",
       "  48]]"
      ]
     },
     "execution_count": 432,
     "metadata": {},
     "output_type": "execute_result"
    }
   ],
   "source": [
    "cl1"
   ]
  },
  {
   "cell_type": "code",
   "execution_count": 438,
   "metadata": {},
   "outputs": [
    {
     "data": {
      "text/plain": [
       "194"
      ]
     },
     "execution_count": 438,
     "metadata": {},
     "output_type": "execute_result"
    }
   ],
   "source": [
    "cl_to_n[hu.find_closest(cl_to_n, 'CAAACAAGTGTAGGATAAACTTTCCTTGCCCAGTAT')[1]]"
   ]
  },
  {
   "cell_type": "code",
   "execution_count": 439,
   "metadata": {},
   "outputs": [
    {
     "data": {
      "text/plain": [
       "'CTTATACTTAGTTAGAACTATATATCGACACAAATA'"
      ]
     },
     "execution_count": 439,
     "metadata": {},
     "output_type": "execute_result"
    }
   ],
   "source": [
    "n_to_cl[165] "
   ]
  },
  {
   "cell_type": "code",
   "execution_count": 440,
   "metadata": {},
   "outputs": [
    {
     "data": {
      "text/plain": [
       "(2, 'ACAAACAAGTGTAGGATAAACTTTCCTTGCCCAGTATA')"
      ]
     },
     "execution_count": 440,
     "metadata": {},
     "output_type": "execute_result"
    }
   ],
   "source": [
    "hu.find_closest(cl_to_n, 'CAAACAAGTGTAGGATAAACTTTCCTTGCCCAGTAT')"
   ]
  },
  {
   "cell_type": "code",
   "execution_count": 441,
   "metadata": {},
   "outputs": [
    {
     "data": {
      "text/plain": [
       "['TTGTAGAATCAACAATAGCATATACTAAAACATCC',\n",
       " 'AGAATATTAGCAATATCAACGAGTATTTAGAAACTT',\n",
       " 'AGGATAAAGAAAAGACTCACACAAGACACAGTGTCAG']"
      ]
     },
     "execution_count": 441,
     "metadata": {},
     "output_type": "execute_result"
    }
   ],
   "source": [
    "strain2[-1][:3]"
   ]
  },
  {
   "cell_type": "code",
   "execution_count": 442,
   "metadata": {},
   "outputs": [
    {
     "data": {
      "text/plain": [
       "['TTGTAGAATAAACAATAGCATATACTAAAACATCC',\n",
       " 'AGAATATTAGCAATATCAACGAGTATTTAGAAACTT',\n",
       " 'AGGATAAAGAAAAGACTCACACAAGACACAGTGTCAG']"
      ]
     },
     "execution_count": 442,
     "metadata": {},
     "output_type": "execute_result"
    }
   ],
   "source": [
    "strain1[-1][:3]"
   ]
  },
  {
   "cell_type": "code",
   "execution_count": null,
   "metadata": {},
   "outputs": [],
   "source": [
    "AACATCTT"
   ]
  },
  {
   "cell_type": "code",
   "execution_count": null,
   "metadata": {},
   "outputs": [],
   "source": []
  },
  {
   "cell_type": "code",
   "execution_count": 504,
   "metadata": {},
   "outputs": [
    {
     "data": {
      "text/plain": [
       "0.019971048463834084"
      ]
     },
     "execution_count": 504,
     "metadata": {},
     "output_type": "execute_result"
    }
   ],
   "source": [
    "gw = 0\n",
    "\n",
    "for a in arrays:\n",
    "    for x,y in zip(a, a[1:]):\n",
    "\n",
    "        gw += gr[x,y]\n",
    "        \n",
    "(gr.sum() - gw) / gw"
   ]
  },
  {
   "cell_type": "code",
   "execution_count": 490,
   "metadata": {},
   "outputs": [
    {
     "data": {
      "text/plain": [
       "1.031190329771076"
      ]
     },
     "execution_count": 490,
     "metadata": {},
     "output_type": "execute_result"
    }
   ],
   "source": [
    "(gr.sum() - gw) / gw"
   ]
  },
  {
   "cell_type": "code",
   "execution_count": 502,
   "metadata": {
    "scrolled": true
   },
   "outputs": [
    {
     "data": {
      "text/plain": [
       "969811.0"
      ]
     },
     "execution_count": 502,
     "metadata": {},
     "output_type": "execute_result"
    }
   ],
   "source": [
    "gr[:200,:200].sum()"
   ]
  },
  {
   "cell_type": "code",
   "execution_count": 498,
   "metadata": {},
   "outputs": [
    {
     "data": {
      "text/plain": [
       "619551.0"
      ]
     },
     "execution_count": 498,
     "metadata": {},
     "output_type": "execute_result"
    }
   ],
   "source": [
    "gw"
   ]
  },
  {
   "cell_type": "code",
   "execution_count": 501,
   "metadata": {},
   "outputs": [
    {
     "data": {
      "image/png": "[encoded data removed]",
      "text/plain": [
       "<matplotlib.figure.Figure at 0x7fee6e998b70>"
      ]
     },
     "metadata": {},
     "output_type": "display_data"
    }
   ],
   "source": [
    "pu.plot_gr(gr[:200,:200], log = 1)"
   ]
  },
  {
   "cell_type": "code",
   "execution_count": 517,
   "metadata": {},
   "outputs": [
    {
     "data": {
      "text/plain": [
       "[[138, 182, 98, 6, 96, 31, 37, 146, 115, 39, 211, 126, 112, 56, 174, 147, 93],\n",
       " [72, 186, 159, 12, 215, 201, 61, 205, 154, 57, 109, 43, 46, 220, 8],\n",
       " [173, 90, 51, 4, 144, 94],\n",
       " [176, 102, 222],\n",
       " [42, 175, 120, 20, 195, 1, 13, 36, 111, 179, 116],\n",
       " [189, 9, 79, 18, 183, 113, 32, 105, 191, 70, 225, 141, 170, 214],\n",
       " [149, 25, 52, 87, 24, 104, 136, 207, 196, 167, 16, 10, 81],\n",
       " [217, 135, 119, 99, 77, 218],\n",
       " [63, 157, 221, 7, 165, 194, 177, 133, 0, 45, 199, 190, 5],\n",
       " [188, 206, 62, 178, 169, 89, 197, 47],\n",
       " [48,\n",
       "  110,\n",
       "  80,\n",
       "  124,\n",
       "  117,\n",
       "  123,\n",
       "  140,\n",
       "  66,\n",
       "  180,\n",
       "  44,\n",
       "  137,\n",
       "  17,\n",
       "  23,\n",
       "  162,\n",
       "  114,\n",
       "  134,\n",
       "  2,\n",
       "  209,\n",
       "  130,\n",
       "  75,\n",
       "  35,\n",
       "  97,\n",
       "  60],\n",
       " [15, 26, 142, 166, 219],\n",
       " [95, 216, 14, 67, 156, 85, 86, 71, 121, 30],\n",
       " [161, 54, 150, 168],\n",
       " [171, 41, 122, 65, 145, 152, 172],\n",
       " [210, 53, 21, 50, 91, 118],\n",
       " [88, 128],\n",
       " [151, 164, 223, 203],\n",
       " [68, 84, 202, 148, 198, 11, 226, 76, 143],\n",
       " [184, 29],\n",
       " [82, 58],\n",
       " [158, 101],\n",
       " [131, 132, 200, 28, 181],\n",
       " [73, 19],\n",
       " [38, 3],\n",
       " [40, 187],\n",
       " [74, 160],\n",
       " [204, 49]]"
      ]
     },
     "execution_count": 517,
     "metadata": {},
     "output_type": "execute_result"
    }
   ],
   "source": [
    "arrays"
   ]
  },
  {
   "cell_type": "code",
   "execution_count": 518,
   "metadata": {},
   "outputs": [],
   "source": [
    "pickle.dump(arrays, open(\"../../data/clostr_res/arrays_110\", 'wb'))"
   ]
  },
  {
   "cell_type": "code",
   "execution_count": 519,
   "metadata": {},
   "outputs": [],
   "source": [
    "pickle.dump(n_to_cl, open(\"../../data/clostr_res/n_to_cl_110\", 'wb'))"
   ]
  },
  {
   "cell_type": "code",
   "execution_count": 530,
   "metadata": {},
   "outputs": [],
   "source": [
    "def barplot(*args):\n",
    "    for arg in args:\n",
    "        plt.bar(np.arange(len(arg)), arg)"
   ]
  },
  {
   "cell_type": "code",
   "execution_count": 545,
   "metadata": {},
   "outputs": [
    {
     "data": {
      "image/png": "[encoded data removed]",
      "text/plain": [
       "<matplotlib.figure.Figure at 0x7fee6e4b9c18>"
      ]
     },
     "metadata": {},
     "output_type": "display_data"
    }
   ],
   "source": [
    "barplot(weights[1])"
   ]
  },
  {
   "cell_type": "code",
   "execution_count": null,
   "metadata": {},
   "outputs": [],
   "source": []
  },
  {
   "cell_type": "code",
   "execution_count": 547,
   "metadata": {},
   "outputs": [
    {
     "name": "stdout",
     "output_type": "stream",
     "text": [
      "0 11\n",
      "1 6\n",
      "2 15\n",
      "3 11\n",
      "4 11\n",
      "5 10\n"
     ]
    }
   ],
   "source": [
    "i = 2\n",
    "for a,b in zip(range(len(arrays_as_spacers[i])), [count_as_in_b('CG', x) for x in arrays_as_spacers[i]]):\n",
    "    print(a,b)"
   ]
  },
  {
   "cell_type": "code",
   "execution_count": 534,
   "metadata": {},
   "outputs": [],
   "source": [
    "def count_as_in_b(a, b):\n",
    "    counter = 0\n",
    "    for c in b:\n",
    "        if c in a: counter += 1\n",
    "    return counter"
   ]
  },
  {
   "cell_type": "code",
   "execution_count": null,
   "metadata": {},
   "outputs": [],
   "source": []
  },
  {
   "cell_type": "code",
   "execution_count": null,
   "metadata": {},
   "outputs": [],
   "source": []
  },
  {
   "cell_type": "code",
   "execution_count": 532,
   "metadata": {},
   "outputs": [],
   "source": [
    "arrays_as_spacers = [[n_to_cl[x] for x in arr] for arr in arrays]"
   ]
  },
  {
   "cell_type": "code",
   "execution_count": null,
   "metadata": {},
   "outputs": [],
   "source": []
  },
  {
   "cell_type": "code",
   "execution_count": 521,
   "metadata": {},
   "outputs": [
    {
     "data": {
      "text/plain": [
       "[21099.0,\n",
       " 15831.0,\n",
       " 31333.0,\n",
       " 19249.0,\n",
       " 8640.0,\n",
       " 4203.0,\n",
       " 13395.0,\n",
       " 13405.0,\n",
       " 85082.0,\n",
       " 28828.0,\n",
       " 12317.0,\n",
       " 9351.0,\n",
       " 9156.0,\n",
       " 39214.0,\n",
       " 17693.0,\n",
       " 7589.0]"
      ]
     },
     "execution_count": 521,
     "metadata": {},
     "output_type": "execute_result"
    }
   ],
   "source": [
    "weights[0]"
   ]
  },
  {
   "cell_type": "code",
   "execution_count": null,
   "metadata": {},
   "outputs": [],
   "source": []
  }
 ],
 "metadata": {
  "kernelspec": {
   "display_name": "Python 3",
   "language": "python",
   "name": "python3"
  },
  "language_info": {
   "codemirror_mode": {
    "name": "ipython",
    "version": 3
   },
   "file_extension": ".py",
   "mimetype": "text/x-python",
   "name": "python",
   "nbconvert_exporter": "python",
   "pygments_lexer": "ipython3",
   "version": "3.6.3"
  }
 },
 "nbformat": 4,
 "nbformat_minor": 2
}
