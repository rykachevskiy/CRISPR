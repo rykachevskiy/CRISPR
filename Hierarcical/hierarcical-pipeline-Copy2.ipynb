{
 "cells": [
  {
   "cell_type": "code",
   "execution_count": 14,
   "metadata": {},
   "outputs": [],
   "source": [
    "import sys, os\n",
    "import numpy as np"
   ]
  },
  {
   "cell_type": "code",
   "execution_count": 2,
   "metadata": {},
   "outputs": [],
   "source": [
    "sys.path.append(\"/home/anton/BigMac/skoltech/CRISPR_research/notebooks/\")"
   ]
  },
  {
   "cell_type": "code",
   "execution_count": 3,
   "metadata": {
    "scrolled": true
   },
   "outputs": [],
   "source": [
    "import utils.plot_utils as pu\n",
    "import utils.hierarcical_utils as hu\n",
    "import utils.hamiltonian_utils as hamu"
   ]
  },
  {
   "cell_type": "code",
   "execution_count": 96,
   "metadata": {},
   "outputs": [],
   "source": [
    "from importlib import reload\n",
    "hu = reload(hu)\n",
    "hamu = reload(hamu)\n",
    "pu = reload(pu)"
   ]
  },
  {
   "cell_type": "code",
   "execution_count": 6,
   "metadata": {},
   "outputs": [
    {
     "name": "stdout",
     "output_type": "stream",
     "text": [
      "2516852\n"
     ]
    }
   ],
   "source": [
    "# pairs_path = \"../../data/ES/ES3_R1_pairs.txt\"\n",
    "# lines_path = \"../../data/ES/ES3_R1_spacers.txt\"\n",
    "\n",
    "# pairs_path = \"../../data/ES_reload/ES/ES2_R1_pairs.txt\"\n",
    "# lines_path = \"../../data/ES_reload/ES/ES2_R1_spacers.txt\"\n",
    "\n",
    "# pairs_path = \"../data/ES/ES5_R1_pairs.txt\"\n",
    "# lines_path = \"../data/ES/ES5_R1_spacers.txt\"\n",
    "\n",
    "# pairs_path = \"../../data/SlO_10/SlO1_R1_pairs_10.txt\"\n",
    "# lines_path = \"../../data/SlO_10/SlO1_R1_spacers_10.txt\"\n",
    "\n",
    "pairs_path = \"../../data/clostr_06_07/good_1-10_R1_06_07pairsq10.txt\"\n",
    "#lines_path = \"../../data/Sasha/Sasha1.fasta\"\n",
    "\n",
    "#pairs_path = \"../data/Thermus/III/Vesuvius (1)_III_pairs.txt\"\n",
    "#lines_path = \"../data/Thermus/III/Vesuvius (1).III.txt\"\n",
    "\n",
    "# with open(lines_path) as f:\n",
    "#     lines = [x[:] for x in f.readlines()][1::] #CAREFULLLL\n",
    "\n",
    "with open(pairs_path) as f:\n",
    "    pairs = [[y[:] for y in x[:-2].split(' ') ] for x in f.readlines()]\n",
    "\n",
    "lines = []\n",
    "for p in pairs:\n",
    "    lines.append(p[0])\n",
    "    lines.append(p[1])\n",
    "    \n",
    "print(len(lines))"
   ]
  },
  {
   "cell_type": "code",
   "execution_count": 7,
   "metadata": {},
   "outputs": [
    {
     "data": {
      "text/plain": [
       "['AAAGGTGACCATTGATTTCTTTCAGTTTCGGGAATA',\n",
       " 'TGTTTTCCATAAACATTTCTAATTGACTTTTATTGT',\n",
       " 'TGGTATATCATACTCGTGCATTGCCTGCTCCACATT',\n",
       " 'ATACAACCATATATTTACCAATTATGTACTTATGAA',\n",
       " 'CCAATTAAGTTACTAGATAAAAAAATAGAACAAATTA']"
      ]
     },
     "execution_count": 7,
     "metadata": {},
     "output_type": "execute_result"
    }
   ],
   "source": [
    "lines[:5]"
   ]
  },
  {
   "cell_type": "code",
   "execution_count": 8,
   "metadata": {},
   "outputs": [
    {
     "data": {
      "text/plain": [
       "[['AAAGGTGACCATTGATTTCTTTCAGTTTCGGGAATA',\n",
       "  'TGTTTTCCATAAACATTTCTAATTGACTTTTATTGT'],\n",
       " ['TGGTATATCATACTCGTGCATTGCCTGCTCCACATT',\n",
       "  'ATACAACCATATATTTACCAATTATGTACTTATGAA']]"
      ]
     },
     "execution_count": 8,
     "metadata": {},
     "output_type": "execute_result"
    }
   ],
   "source": [
    "pairs[:2]"
   ]
  },
  {
   "cell_type": "code",
   "execution_count": 9,
   "metadata": {},
   "outputs": [],
   "source": [
    "od = hu.get_ordered_spacers(lines)"
   ]
  },
  {
   "cell_type": "code",
   "execution_count": 10,
   "metadata": {
    "scrolled": true
   },
   "outputs": [
    {
     "data": {
      "application/vnd.jupyter.widget-view+json": {
       "model_id": "248376830794474c8ab5f591a40843d3",
       "version_major": 2,
       "version_minor": 0
      },
      "text/plain": [
       "A Jupyter Widget"
      ]
     },
     "metadata": {},
     "output_type": "display_data"
    },
    {
     "name": "stdout",
     "output_type": "stream",
     "text": [
      "\n"
     ]
    }
   ],
   "source": [
    "answ, sp_to_n, cl_to_n, n_to_cl = hu.squash(od, 6)"
   ]
  },
  {
   "cell_type": "code",
   "execution_count": 19,
   "metadata": {},
   "outputs": [],
   "source": [
    "counter = 0\n",
    "true_keys = set()\n",
    "for item in answ.items():\n",
    "    if item[1] > 3:\n",
    "        counter += 1\n",
    "        true_keys.add(item[0])"
   ]
  },
  {
   "cell_type": "code",
   "execution_count": 20,
   "metadata": {},
   "outputs": [],
   "source": [
    "cl_to_n = dict(zip(list(true_keys), np.arange(len(true_keys))))"
   ]
  },
  {
   "cell_type": "code",
   "execution_count": 21,
   "metadata": {},
   "outputs": [
    {
     "data": {
      "text/plain": [
       "227"
      ]
     },
     "execution_count": 21,
     "metadata": {},
     "output_type": "execute_result"
    }
   ],
   "source": [
    "len(cl_to_n)"
   ]
  },
  {
   "cell_type": "code",
   "execution_count": 22,
   "metadata": {
    "scrolled": false
   },
   "outputs": [
    {
     "data": {
      "application/vnd.jupyter.widget-view+json": {
       "model_id": "4bd26c8c884e4ee0887382790da43cb3",
       "version_major": 2,
       "version_minor": 0
      },
      "text/plain": [
       "A Jupyter Widget"
      ]
     },
     "metadata": {},
     "output_type": "display_data"
    }
   ],
   "source": [
    "pairs_cl = hu.process_pairs(pairs, cl_to_n, 6)"
   ]
  },
  {
   "cell_type": "code",
   "execution_count": 23,
   "metadata": {
    "scrolled": false
   },
   "outputs": [],
   "source": [
    "gr = hamu.pairs_to_gr(pairs_cl, len(cl_to_n))"
   ]
  },
  {
   "cell_type": "code",
   "execution_count": 24,
   "metadata": {},
   "outputs": [],
   "source": [
    "np.save(\"./110\", gr)"
   ]
  },
  {
   "cell_type": "code",
   "execution_count": 25,
   "metadata": {},
   "outputs": [],
   "source": [
    "import pickle"
   ]
  },
  {
   "cell_type": "code",
   "execution_count": 26,
   "metadata": {},
   "outputs": [],
   "source": [
    "pickle.dump(cl_to_n, open(\"./110_cl_to_n\", 'wb'))\n",
    "pickle.dump(answ, open(\"./110_nd\", 'wb'))"
   ]
  },
  {
   "cell_type": "code",
   "execution_count": 11,
   "metadata": {},
   "outputs": [
    {
     "data": {
      "image/png": "[encoded data removed]",
      "text/plain": [
       "<matplotlib.figure.Figure at 0x7f8f1c473eb8>"
      ]
     },
     "metadata": {},
     "output_type": "display_data"
    }
   ],
   "source": [
    "pu.plot_gr(gr, log =1)"
   ]
  },
  {
   "cell_type": "code",
   "execution_count": 27,
   "metadata": {},
   "outputs": [],
   "source": [
    "arrays, weights = hamu.restore_arrays(gr)"
   ]
  },
  {
   "cell_type": "code",
   "execution_count": 29,
   "metadata": {},
   "outputs": [],
   "source": [
    "mean_weights = [np.mean(x) for x in weights]"
   ]
  },
  {
   "cell_type": "code",
   "execution_count": 30,
   "metadata": {},
   "outputs": [],
   "source": [
    "lens = [len(x) for x in arrays]"
   ]
  },
  {
   "cell_type": "code",
   "execution_count": 31,
   "metadata": {},
   "outputs": [],
   "source": [
    "import matplotlib.pyplot as plt"
   ]
  },
  {
   "cell_type": "code",
   "execution_count": 32,
   "metadata": {
    "scrolled": true
   },
   "outputs": [
    {
     "data": {
      "text/plain": [
       "<Container object of 18 artists>"
      ]
     },
     "execution_count": 32,
     "metadata": {},
     "output_type": "execute_result"
    },
    {
     "data": {
      "image/png": "[encoded data removed]",
      "text/plain": [
       "<matplotlib.figure.Figure at 0x7fee9917d2b0>"
      ]
     },
     "metadata": {},
     "output_type": "display_data"
    }
   ],
   "source": [
    "plt.bar(np.arange(18), mean_weights[:18])"
   ]
  },
  {
   "cell_type": "code",
   "execution_count": null,
   "metadata": {},
   "outputs": [],
   "source": []
  },
  {
   "cell_type": "code",
   "execution_count": null,
   "metadata": {},
   "outputs": [],
   "source": []
  },
  {
   "cell_type": "code",
   "execution_count": 64,
   "metadata": {},
   "outputs": [],
   "source": [
    "mean_weights = [np.mean(x) for x in weights]"
   ]
  },
  {
   "cell_type": "code",
   "execution_count": 66,
   "metadata": {},
   "outputs": [],
   "source": [
    "lens = [len(x) for x in arrays]"
   ]
  },
  {
   "cell_type": "code",
   "execution_count": 70,
   "metadata": {},
   "outputs": [],
   "source": [
    "import matplotlib.pyplot as plt"
   ]
  },
  {
   "cell_type": "code",
   "execution_count": 71,
   "metadata": {},
   "outputs": [
    {
     "data": {
      "text/plain": [
       "<Container object of 18 artists>"
      ]
     },
     "execution_count": 71,
     "metadata": {},
     "output_type": "execute_result"
    },
    {
     "data": {
      "image/png": "[encoded data removed]",
      "text/plain": [
       "<matplotlib.figure.Figure at 0x7f8f18dca588>"
      ]
     },
     "metadata": {},
     "output_type": "display_data"
    }
   ],
   "source": [
    "plt.bar(np.arange(18), mean_weights[:18])"
   ]
  },
  {
   "cell_type": "code",
   "execution_count": null,
   "metadata": {},
   "outputs": [],
   "source": []
  },
  {
   "cell_type": "code",
   "execution_count": null,
   "metadata": {},
   "outputs": [],
   "source": []
  },
  {
   "cell_type": "code",
   "execution_count": 59,
   "metadata": {},
   "outputs": [],
   "source": [
    "with open(\"../../data/answers/Clostridium_1_3_q_10\") as f:\n",
    "    s1 = [x[:-2] for x in f.readlines()]"
   ]
  },
  {
   "cell_type": "code",
   "execution_count": 63,
   "metadata": {},
   "outputs": [],
   "source": [
    "strain1 = [[y[1:] for y in x.split(',')[1:]] for x in s1]"
   ]
  },
  {
   "cell_type": "code",
   "execution_count": 72,
   "metadata": {},
   "outputs": [],
   "source": [
    "with open(\"../../data/clostr_answer.txt\") as f:\n",
    "    s2 = [x[:-2] for x in f.readlines()]"
   ]
  },
  {
   "cell_type": "code",
   "execution_count": 75,
   "metadata": {},
   "outputs": [],
   "source": [
    "strain2 = [[y for y in x.split(\"\\t\")[1:] if len(y) > 0] for x in s2]"
   ]
  },
  {
   "cell_type": "code",
   "execution_count": null,
   "metadata": {},
   "outputs": [],
   "source": []
  },
  {
   "cell_type": "code",
   "execution_count": 106,
   "metadata": {
    "scrolled": false
   },
   "outputs": [
    {
     "data": {
      "text/plain": [
       "[72, 186, 159, 12, 215, 201, 61, 205, 154, 57, 109, 43, 46, 220, 8]"
      ]
     },
     "execution_count": 106,
     "metadata": {},
     "output_type": "execute_result"
    }
   ],
   "source": [
    "arrays[1]"
   ]
  },
  {
   "cell_type": "code",
   "execution_count": 132,
   "metadata": {},
   "outputs": [],
   "source": [
    "mask = []\n",
    "for i in range(25):\n",
    "    if a_close_to_any_b(arrays[i], cl_1):\n",
    "        mask.append(1)\n",
    "    elif a_close_to_any_b(arrays[i], cl_2):\n",
    "        mask.append(2)\n",
    "    else:\n",
    "        mask.append(0)\n"
   ]
  },
  {
   "cell_type": "code",
   "execution_count": 133,
   "metadata": {
    "scrolled": true
   },
   "outputs": [
    {
     "data": {
      "text/plain": [
       "[0, 1, 1, 1, 1, 0, 2, 0, 1, 1, 0, 2, 2, 2, 0, 0, 1, 2, 0, 1, 1, 1, 0, 1, 1]"
      ]
     },
     "execution_count": 133,
     "metadata": {},
     "output_type": "execute_result"
    }
   ],
   "source": [
    "mask"
   ]
  },
  {
   "cell_type": "code",
   "execution_count": 122,
   "metadata": {},
   "outputs": [],
   "source": [
    "import editdistance as ed"
   ]
  },
  {
   "cell_type": "code",
   "execution_count": 123,
   "metadata": {},
   "outputs": [
    {
     "data": {
      "text/plain": [
       "2"
      ]
     },
     "execution_count": 123,
     "metadata": {},
     "output_type": "execute_result"
    }
   ],
   "source": [
    "ed.eval([72, 186, 159, 12, 215, 201, 61, 205, 154, 57, 109, 43, 46, 220, 8], [ 159, 12, 215, 201, 61, 205, 154, 57, 109, 43, 46, 220, 8])"
   ]
  },
  {
   "cell_type": "code",
   "execution_count": 125,
   "metadata": {},
   "outputs": [],
   "source": [
    "def a_close_to_b(a, b, t = 2):\n",
    "    return ed.eval(a, b) <= 2\n",
    "\n",
    "def a_close_to_any_b(a, b, t = 2):\n",
    "    return any([a_close_to_b(a, x, t) for x in b])\n",
    "        "
   ]
  },
  {
   "cell_type": "code",
   "execution_count": 140,
   "metadata": {},
   "outputs": [
    {
     "name": "stdout",
     "output_type": "stream",
     "text": [
      "False\n",
      "True\n",
      "True\n",
      "True\n",
      "True\n",
      "True\n",
      "False\n",
      "False\n"
     ]
    }
   ],
   "source": [
    "for i in cl_2:\n",
    "    print(a_close_to_any_b(i, arrays, 4))\n"
   ]
  },
  {
   "cell_type": "code",
   "execution_count": 103,
   "metadata": {},
   "outputs": [
    {
     "data": {
      "text/plain": [
       "[[72, 186, 159, 12, 215, 201, 61, 205, 154, 57, 109, 43, 46, 220, 8],\n",
       " [173, 90, 51, 4, 144, 94],\n",
       " [42, 175, 120, 20, 195, 1, 13, 36, 111, 179, 116, 226],\n",
       " [176, 102, 222],\n",
       " [188, 206, 62, 178, 169, 89, 197, 47],\n",
       " [63, 157, 221, 7, 165, 194, 177, 133, 0, 45, 199, 190, 5],\n",
       " [198, 98],\n",
       " [127, 59, 91, 201, 149, 168, 174, 185, 187, 52, 91, 1, 145, 38],\n",
       " [110, 4, 123, 208, 28, 49],\n",
       " [91, 133, 64],\n",
       " [200, 1, 77, 114, 137, 65],\n",
       " [6,\n",
       "  213,\n",
       "  106,\n",
       "  220,\n",
       "  124,\n",
       "  74,\n",
       "  126,\n",
       "  112,\n",
       "  28,\n",
       "  21,\n",
       "  22,\n",
       "  131,\n",
       "  166,\n",
       "  29,\n",
       "  121,\n",
       "  59,\n",
       "  88,\n",
       "  43,\n",
       "  16],\n",
       " [210, 53, 21, 50, 91, 118, 200, 171, 41, 122, 65, 145, 152, 172],\n",
       " [95, 216, 14, 67, 156, 85, 86, 71, 121, 30, 226],\n",
       " [151, 164, 223, 203],\n",
       " [15, 26, 142, 166, 219],\n",
       " [161, 54, 150, 168],\n",
       " [149, 25, 52, 87, 24, 104, 136, 207, 196, 167, 16, 10, 81, 73],\n",
       " [143, 76, 226, 11, 198, 148, 202, 84, 68],\n",
       " [16,\n",
       "  3,\n",
       "  93,\n",
       "  60,\n",
       "  97,\n",
       "  35,\n",
       "  75,\n",
       "  130,\n",
       "  209,\n",
       "  2,\n",
       "  134,\n",
       "  114,\n",
       "  162,\n",
       "  23,\n",
       "  17,\n",
       "  137,\n",
       "  44,\n",
       "  180,\n",
       "  66,\n",
       "  140,\n",
       "  123,\n",
       "  117,\n",
       "  124,\n",
       "  80,\n",
       "  110,\n",
       "  48]]"
      ]
     },
     "execution_count": 103,
     "metadata": {},
     "output_type": "execute_result"
    }
   ],
   "source": [
    " cl_1 + cl_2"
   ]
  },
  {
   "cell_type": "code",
   "execution_count": 92,
   "metadata": {},
   "outputs": [
    {
     "data": {
      "text/plain": [
       "[[72, 186, 159, 12, 215, 201, 61, 205, 154, 57, 109, 43, 46, 220, 8],\n",
       " [173, 90, 51, 4, 144, 94],\n",
       " [42, 175, 120, 20, 195, 1, 13, 36, 111, 179, 116, 226],\n",
       " [176, 102, 222],\n",
       " [188, 206, 62, 178, 169, 89, 197, 47],\n",
       " [63, 157, 221, 7, 165, 194, 177, 133, 0, 45, 199, 190, 5],\n",
       " [198, 98],\n",
       " [127, 59, 91, 201, 149, 168, 174, 185, 187, 52, 91, 1, 145, 38],\n",
       " [110, 4, 123, 208, 28, 49],\n",
       " [91, 133, 64],\n",
       " [200, 1, 77, 114, 137, 65],\n",
       " [6,\n",
       "  213,\n",
       "  106,\n",
       "  220,\n",
       "  124,\n",
       "  74,\n",
       "  126,\n",
       "  112,\n",
       "  28,\n",
       "  21,\n",
       "  22,\n",
       "  131,\n",
       "  166,\n",
       "  29,\n",
       "  121,\n",
       "  59,\n",
       "  88,\n",
       "  43,\n",
       "  16]]"
      ]
     },
     "execution_count": 92,
     "metadata": {},
     "output_type": "execute_result"
    }
   ],
   "source": [
    "cl_1"
   ]
  },
  {
   "cell_type": "code",
   "execution_count": 81,
   "metadata": {},
   "outputs": [],
   "source": [
    "cl_1 = [[cl_to_n[hu.find_closest(cl_to_n, x)[1]] for x in y] for y in strain1]"
   ]
  },
  {
   "cell_type": "code",
   "execution_count": 82,
   "metadata": {},
   "outputs": [],
   "source": [
    "cl_2 = [[cl_to_n[hu.find_closest(cl_to_n, x)[1]] for x in y] for y in strain2]"
   ]
  },
  {
   "cell_type": "code",
   "execution_count": null,
   "metadata": {},
   "outputs": [],
   "source": []
  }
 ],
 "metadata": {
  "kernelspec": {
   "display_name": "Python 3",
   "language": "python",
   "name": "python3"
  },
  "language_info": {
   "codemirror_mode": {
    "name": "ipython",
    "version": 3
   },
   "file_extension": ".py",
   "mimetype": "text/x-python",
   "name": "python",
   "nbconvert_exporter": "python",
   "pygments_lexer": "ipython3",
   "version": "3.6.3"
  }
 },
 "nbformat": 4,
 "nbformat_minor": 2
}
