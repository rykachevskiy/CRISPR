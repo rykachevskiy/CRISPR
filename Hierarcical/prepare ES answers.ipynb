{
 "cells": [
  {
   "cell_type": "code",
   "execution_count": 1,
   "metadata": {},
   "outputs": [],
   "source": [
    "import numpy as np\n",
    "import sys\n",
    "\n",
    "sys.path.append(\"../utils/\")"
   ]
  },
  {
   "cell_type": "code",
   "execution_count": 70,
   "metadata": {},
   "outputs": [],
   "source": [
    "import hierarcical_utils as hu\n",
    "import plot_utils as pu"
   ]
  },
  {
   "cell_type": "code",
   "execution_count": 109,
   "metadata": {},
   "outputs": [],
   "source": [
    "from importlib import reload\n",
    "hu = reload(hu)"
   ]
  },
  {
   "cell_type": "code",
   "execution_count": 10,
   "metadata": {},
   "outputs": [],
   "source": [
    "with open(\"../../data/Answers.txt\") as f:\n",
    "    answ_raw = [x[:-2] for x in f.readlines()]"
   ]
  },
  {
   "cell_type": "code",
   "execution_count": 46,
   "metadata": {},
   "outputs": [
    {
     "name": "stdout",
     "output_type": "stream",
     "text": [
      "app 0\n",
      "app 2\n",
      "app 2\n",
      "app 4\n"
     ]
    }
   ],
   "source": [
    "answ_split = []\n",
    "curr = []\n",
    "\n",
    "for x in answ_raw:\n",
    "    if 'ES' in x:\n",
    "        answ_split.append(curr)\n",
    "        print('app', len(curr))\n",
    "        curr = []\n",
    "        \n",
    "    else:\n",
    "        #print(len(curr), x.split('\\t'))\n",
    "        curr.append([y for y in x.split('\\t')[1:] if len(y) > 0])\n",
    "    \n",
    "answ_split.append(curr)\n",
    "answ_split = answ_split[1:]"
   ]
  },
  {
   "cell_type": "code",
   "execution_count": 5,
   "metadata": {},
   "outputs": [],
   "source": [
    "path_1 = \"../../data/ES/ES1_R1_pairs.txt\"\n",
    "path_2 = \"../../data/ES/ES2_R1_pairs.txt\"\n",
    "path_3 = \"../../data/ES/ES3_R1_pairs.txt\"\n",
    "path_4 = \"../../data/ES/ES4_R1_pairs.txt\"\n",
    "paths = [path_1, path_2, path_3, path_4]"
   ]
  },
  {
   "cell_type": "code",
   "execution_count": 79,
   "metadata": {},
   "outputs": [
    {
     "name": "stdout",
     "output_type": "stream",
     "text": [
      "reading pairs, clustering...\n",
      "making sp_to_n...\n"
     ]
    },
    {
     "data": {
      "application/vnd.jupyter.widget-view+json": {
       "model_id": "b52a3d2cbfa24afc93a78f63de3f31dd",
       "version_major": 2,
       "version_minor": 0
      },
      "text/plain": [
       "A Jupyter Widget"
      ]
     },
     "metadata": {},
     "output_type": "display_data"
    },
    {
     "name": "stdout",
     "output_type": "stream",
     "text": [
      "\n",
      "processing pairs...\n"
     ]
    },
    {
     "data": {
      "application/vnd.jupyter.widget-view+json": {
       "model_id": "71a4965815594d74b23cab4b8a7fd714",
       "version_major": 2,
       "version_minor": 0
      },
      "text/plain": [
       "A Jupyter Widget"
      ]
     },
     "metadata": {},
     "output_type": "display_data"
    },
    {
     "name": "stdout",
     "output_type": "stream",
     "text": [
      "\n",
      "making graph...\n",
      "reading pairs, clustering...\n",
      "making sp_to_n...\n"
     ]
    },
    {
     "data": {
      "application/vnd.jupyter.widget-view+json": {
       "model_id": "7ee73cee89934996a8d6f32fac954270",
       "version_major": 2,
       "version_minor": 0
      },
      "text/plain": [
       "A Jupyter Widget"
      ]
     },
     "metadata": {},
     "output_type": "display_data"
    },
    {
     "name": "stdout",
     "output_type": "stream",
     "text": [
      "\n",
      "processing pairs...\n"
     ]
    },
    {
     "data": {
      "application/vnd.jupyter.widget-view+json": {
       "model_id": "e9c18384649047b18f0e91b00de71d86",
       "version_major": 2,
       "version_minor": 0
      },
      "text/plain": [
       "A Jupyter Widget"
      ]
     },
     "metadata": {},
     "output_type": "display_data"
    },
    {
     "name": "stdout",
     "output_type": "stream",
     "text": [
      "\n",
      "making graph...\n",
      "reading pairs, clustering...\n",
      "making sp_to_n...\n"
     ]
    },
    {
     "data": {
      "application/vnd.jupyter.widget-view+json": {
       "model_id": "e46aff36861a458881f2e80f1b45dc40",
       "version_major": 2,
       "version_minor": 0
      },
      "text/plain": [
       "A Jupyter Widget"
      ]
     },
     "metadata": {},
     "output_type": "display_data"
    },
    {
     "name": "stdout",
     "output_type": "stream",
     "text": [
      "\n",
      "processing pairs...\n"
     ]
    },
    {
     "data": {
      "application/vnd.jupyter.widget-view+json": {
       "model_id": "2dd3090ec2944810a4307adcf7509d8c",
       "version_major": 2,
       "version_minor": 0
      },
      "text/plain": [
       "A Jupyter Widget"
      ]
     },
     "metadata": {},
     "output_type": "display_data"
    },
    {
     "name": "stdout",
     "output_type": "stream",
     "text": [
      "\n",
      "making graph...\n",
      "reading pairs, clustering...\n",
      "making sp_to_n...\n"
     ]
    },
    {
     "data": {
      "application/vnd.jupyter.widget-view+json": {
       "model_id": "ccea9badf5c4432d871093c102ceb12d",
       "version_major": 2,
       "version_minor": 0
      },
      "text/plain": [
       "A Jupyter Widget"
      ]
     },
     "metadata": {},
     "output_type": "display_data"
    },
    {
     "name": "stdout",
     "output_type": "stream",
     "text": [
      "\n",
      "processing pairs...\n"
     ]
    },
    {
     "data": {
      "application/vnd.jupyter.widget-view+json": {
       "model_id": "66d16a829bde4768b1dea9328b18dbd7",
       "version_major": 2,
       "version_minor": 0
      },
      "text/plain": [
       "A Jupyter Widget"
      ]
     },
     "metadata": {},
     "output_type": "display_data"
    },
    {
     "name": "stdout",
     "output_type": "stream",
     "text": [
      "\n",
      "making graph...\n"
     ]
    }
   ],
   "source": [
    "answ = []\n",
    "grs = []\n",
    "for path, answ_part in zip(paths, answ_split):\n",
    "    graph, ord_dict, sp_to_n, cl_to_n, n_to_cl, err, pairs_n = hu.graph_from_raw(path)\n",
    "    \n",
    "    answ_n = []\n",
    "    for arr in answ_part:\n",
    "        arr_n = []\n",
    "        for cl in arr:\n",
    "            arr_n.append(cl_to_n[hu.find_closest(cl_to_n, cl)[1]])\n",
    "        answ_n.append(arr_n)\n",
    "    \n",
    "    answ.append(answ_n)\n",
    "    grs.append(graph)"
   ]
  },
  {
   "cell_type": "code",
   "execution_count": 133,
   "metadata": {
    "scrolled": true
   },
   "outputs": [
    {
     "data": {
      "text/plain": [
       "[[[8, 2, 3, 12, 17, 16, 15, 13, 14, 11, 10, 18], [7, 5, 6, 4, 0, 1]],\n",
       " [[9, 6, 5, 13, 17, 11, 10, 12, 14, 15, 16, 18], [0, 1, 4, 7, 2, 3]],\n",
       " [[2, 21, 18, 19, 22, 30, 27, 29, 28, 31, 33, 32, 34],\n",
       "  [0, 20, 24, 26, 23, 25],\n",
       "  [0, 1, 3, 6, 7, 10, 12, 15, 16, 14, 17, 13, 11],\n",
       "  [2, 4, 5, 9, 8]],\n",
       " [[2, 21, 18, 19, 28, 30, 31, 26, 27, 29, 32, 33, 35],\n",
       "  [0, 20, 24, 25, 23, 22],\n",
       "  [0, 1, 4, 7, 8, 10, 11, 15, 16, 14, 17, 13, 12],\n",
       "  [2, 3, 5, 9, 6]]]"
      ]
     },
     "execution_count": 133,
     "metadata": {},
     "output_type": "execute_result"
    }
   ],
   "source": [
    "answ"
   ]
  },
  {
   "cell_type": "code",
   "execution_count": 135,
   "metadata": {},
   "outputs": [],
   "source": [
    "import pickle"
   ]
  },
  {
   "cell_type": "code",
   "execution_count": 137,
   "metadata": {},
   "outputs": [],
   "source": [
    "pickle.dump(answ, open(\"../../data/answers/ES_answers_50\", 'wb'))"
   ]
  }
 ],
 "metadata": {
  "kernelspec": {
   "display_name": "Python 3",
   "language": "python",
   "name": "python3"
  },
  "language_info": {
   "codemirror_mode": {
    "name": "ipython",
    "version": 3
   },
   "file_extension": ".py",
   "mimetype": "text/x-python",
   "name": "python",
   "nbconvert_exporter": "python",
   "pygments_lexer": "ipython3",
   "version": "3.6.3"
  }
 },
 "nbformat": 4,
 "nbformat_minor": 2
}
