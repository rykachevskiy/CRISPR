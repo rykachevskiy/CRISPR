{
 "cells": [
  {
   "cell_type": "code",
   "execution_count": 1,
   "metadata": {},
   "outputs": [],
   "source": [
    "import sys, os"
   ]
  },
  {
   "cell_type": "code",
   "execution_count": 2,
   "metadata": {},
   "outputs": [],
   "source": [
    "import numpy as np"
   ]
  },
  {
   "cell_type": "code",
   "execution_count": 3,
   "metadata": {},
   "outputs": [],
   "source": [
    "sys.path.append(\"/home/anton/BigMac/skoltech/CRISPR_research/notebooks/\")"
   ]
  },
  {
   "cell_type": "code",
   "execution_count": 4,
   "metadata": {
    "scrolled": true
   },
   "outputs": [],
   "source": [
    "import utils.plot_utils as pu\n",
    "import utils.hierarcical_utils as hu\n",
    "import utils.hamiltonian_utils as hamu"
   ]
  },
  {
   "cell_type": "code",
   "execution_count": 5,
   "metadata": {},
   "outputs": [],
   "source": [
    "from importlib import reload\n",
    "hu = reload(hu)\n",
    "hamu = reload(hamu)\n",
    "pu = reload(pu)"
   ]
  },
  {
   "cell_type": "code",
   "execution_count": 6,
   "metadata": {},
   "outputs": [
    {
     "name": "stdout",
     "output_type": "stream",
     "text": [
      "149254\n"
     ]
    }
   ],
   "source": [
    "# pairs_path = \"../../data/ES/ES3_R1_pairs.txt\"\n",
    "# lines_path = \"../../data/ES/ES3_R1_spacers.txt\"\n",
    "\n",
    "# pairs_path = \"../../data/ES_reload/ES/ES2_R1_pairs.txt\"\n",
    "# lines_path = \"../../data/ES_reload/ES/ES2_R1_spacers.txt\"\n",
    "\n",
    "pairs_path = \"../../data/ES_reload/ES/ES3_R1_pairs.txt\"\n",
    "lines_path = \"../../data/ES_reload/ES/ES3_R1_spacers.txt\"\n",
    "\n",
    "# pairs_path = \"../../data/SlO_10/SlO1_R1_pairs_10.txt\"\n",
    "# lines_path = \"../../data/SlO_10/SlO1_R1_spacers_10.txt\"\n",
    "\n",
    "#pairs_path = \"../../data/clostr_06_07/good_1-3_R1_06_07pairsq10.txt\"\n",
    "#lines_path = \"../../data/Sasha/Sasha1.fasta\"\n",
    "\n",
    "#pairs_path = \"../data/Thermus/III/Vesuvius (1)_III_pairs.txt\"\n",
    "#lines_path = \"../data/Thermus/III/Vesuvius (1).III.txt\"\n",
    "\n",
    "# with open(lines_path) as f:\n",
    "#     lines = [x[:] for x in f.readlines()][1::] #CAREFULLLL\n",
    "\n",
    "with open(pairs_path) as f:\n",
    "    pairs = [[y[:] for y in x[:-2].split(' ') ] for x in f.readlines()]\n",
    "\n",
    "lines = []\n",
    "for p in pairs:\n",
    "    lines.append(p[0])\n",
    "    lines.append(p[1])\n",
    "    \n",
    "print(len(lines))"
   ]
  },
  {
   "cell_type": "code",
   "execution_count": 7,
   "metadata": {},
   "outputs": [
    {
     "data": {
      "text/plain": [
       "['GACAGAACGGCCTCAGTAGTCTCGTCAGGCTC',\n",
       " 'ACACGCCCTTATCAAATAGCTGTGATTTACCT',\n",
       " 'GACAGAACGGCCTCAGTAGTCTCGTCAGGCTC',\n",
       " 'ACACGCCCTTATCAAATAGCTGTGATTTACCT',\n",
       " 'ACACGCCCTTATCAAATAGCTGTGATTTACCTA']"
      ]
     },
     "execution_count": 7,
     "metadata": {},
     "output_type": "execute_result"
    }
   ],
   "source": [
    "lines[:5]"
   ]
  },
  {
   "cell_type": "code",
   "execution_count": 8,
   "metadata": {
    "scrolled": true
   },
   "outputs": [
    {
     "data": {
      "text/plain": [
       "[['GACAGAACGGCCTCAGTAGTCTCGTCAGGCTC', 'ACACGCCCTTATCAAATAGCTGTGATTTACCT'],\n",
       " ['GACAGAACGGCCTCAGTAGTCTCGTCAGGCTC', 'ACACGCCCTTATCAAATAGCTGTGATTTACCT']]"
      ]
     },
     "execution_count": 8,
     "metadata": {},
     "output_type": "execute_result"
    }
   ],
   "source": [
    "pairs[:2]"
   ]
  },
  {
   "cell_type": "code",
   "execution_count": 9,
   "metadata": {
    "scrolled": true
   },
   "outputs": [
    {
     "data": {
      "text/plain": [
       "2213"
      ]
     },
     "execution_count": 9,
     "metadata": {},
     "output_type": "execute_result"
    }
   ],
   "source": [
    "s = list(set(lines))\n",
    "len(s)"
   ]
  },
  {
   "cell_type": "code",
   "execution_count": 10,
   "metadata": {},
   "outputs": [
    {
     "data": {
      "text/plain": [
       "2000.0"
      ]
     },
     "execution_count": 10,
     "metadata": {},
     "output_type": "execute_result"
    }
   ],
   "source": [
    "40000 / 20"
   ]
  },
  {
   "cell_type": "code",
   "execution_count": 11,
   "metadata": {},
   "outputs": [
    {
     "ename": "NameError",
     "evalue": "name 'filtred' is not defined",
     "output_type": "error",
     "traceback": [
      "\u001b[0;31m---------------------------------------------------------------------------\u001b[0m",
      "\u001b[0;31mNameError\u001b[0m                                 Traceback (most recent call last)",
      "\u001b[0;32m<ipython-input-11-b3150706f7b2>\u001b[0m in \u001b[0;36m<module>\u001b[0;34m()\u001b[0m\n\u001b[0;32m----> 1\u001b[0;31m \u001b[0ms\u001b[0m \u001b[0;34m=\u001b[0m \u001b[0mfiltred\u001b[0m\u001b[0;34m\u001b[0m\u001b[0m\n\u001b[0m",
      "\u001b[0;31mNameError\u001b[0m: name 'filtred' is not defined"
     ]
    }
   ],
   "source": [
    "s = filtred"
   ]
  },
  {
   "cell_type": "code",
   "execution_count": 19,
   "metadata": {},
   "outputs": [],
   "source": [
    "import tqdm\n",
    "import editdistance as ed\n",
    "import matplotlib.pyplot as plt"
   ]
  },
  {
   "cell_type": "code",
   "execution_count": 40,
   "metadata": {},
   "outputs": [],
   "source": [
    "dist_matx = np.zeros((len(s[::10]) , len(s[::10]) ))\n",
    "\n",
    "for i,a in enumerate(s[::10]):\n",
    "    for j,b in enumerate(s[::10]):\n",
    "        dist_matx[i][j] = ed.eval(a, b)"
   ]
  },
  {
   "cell_type": "code",
   "execution_count": 42,
   "metadata": {
    "scrolled": false
   },
   "outputs": [
    {
     "data": {
      "text/plain": [
       "Text(0,0.5,'Log number of spacers')"
      ]
     },
     "execution_count": 42,
     "metadata": {},
     "output_type": "execute_result"
    },
    {
     "data": {
      "image/png": "[encoded data removed]",
      "text/plain": [
       "<matplotlib.figure.Figure at 0x7f6837e49518>"
      ]
     },
     "metadata": {},
     "output_type": "display_data"
    }
   ],
   "source": [
    "plt.hist(dist_matx.flatten(), bins =20, log= 1)\n",
    "plt.xlabel(\"Pairwise distance between spacers\")\n",
    "plt.ylabel(\"Log number of spacers\")"
   ]
  },
  {
   "cell_type": "code",
   "execution_count": null,
   "metadata": {},
   "outputs": [],
   "source": []
  },
  {
   "cell_type": "code",
   "execution_count": 12,
   "metadata": {},
   "outputs": [],
   "source": [
    "from collections import Counter"
   ]
  },
  {
   "cell_type": "code",
   "execution_count": 13,
   "metadata": {},
   "outputs": [],
   "source": [
    "c = Counter(lines)"
   ]
  },
  {
   "cell_type": "code",
   "execution_count": null,
   "metadata": {},
   "outputs": [],
   "source": []
  },
  {
   "cell_type": "code",
   "execution_count": 14,
   "metadata": {},
   "outputs": [],
   "source": [
    "filtred = []\n",
    "for key in c.keys():\n",
    "    if c[key] > 5:\n",
    "        filtred.append(key)\n",
    "filtred = list(set(filtred))"
   ]
  },
  {
   "cell_type": "code",
   "execution_count": null,
   "metadata": {},
   "outputs": [],
   "source": []
  },
  {
   "cell_type": "code",
   "execution_count": 30,
   "metadata": {},
   "outputs": [
    {
     "ename": "AttributeError",
     "evalue": "module 'utils.hierarcical_utils' has no attribute 'get_ordered_spacers'",
     "output_type": "error",
     "traceback": [
      "\u001b[0;31m---------------------------------------------------------------------------\u001b[0m",
      "\u001b[0;31mAttributeError\u001b[0m                            Traceback (most recent call last)",
      "\u001b[0;32m<ipython-input-30-1ad2fe55f150>\u001b[0m in \u001b[0;36m<module>\u001b[0;34m()\u001b[0m\n\u001b[0;32m----> 1\u001b[0;31m \u001b[0mod\u001b[0m \u001b[0;34m=\u001b[0m \u001b[0mhu\u001b[0m\u001b[0;34m.\u001b[0m\u001b[0mget_ordered_spacers\u001b[0m\u001b[0;34m(\u001b[0m\u001b[0mlines\u001b[0m\u001b[0;34m)\u001b[0m\u001b[0;34m\u001b[0m\u001b[0m\n\u001b[0m",
      "\u001b[0;31mAttributeError\u001b[0m: module 'utils.hierarcical_utils' has no attribute 'get_ordered_spacers'"
     ]
    }
   ],
   "source": [
    "od = hu.get_ordered_spacers(lines)"
   ]
  },
  {
   "cell_type": "code",
   "execution_count": 32,
   "metadata": {},
   "outputs": [
    {
     "data": {
      "application/vnd.jupyter.widget-view+json": {
       "model_id": "01a8b803a7d64eaeb90c1bd6dcd673e9",
       "version_major": 2,
       "version_minor": 0
      },
      "text/plain": [
       "A Jupyter Widget"
      ]
     },
     "metadata": {},
     "output_type": "display_data"
    },
    {
     "name": "stdout",
     "output_type": "stream",
     "text": [
      "\n"
     ]
    }
   ],
   "source": [
    "answ, sp_to_n, cl_to_n, n_to_cl = hu.squash(od, 6)"
   ]
  },
  {
   "cell_type": "code",
   "execution_count": 41,
   "metadata": {},
   "outputs": [],
   "source": [
    "counter = 0\n",
    "true_keys = set()\n",
    "for item in answ.items():\n",
    "    if item[1] > 1:\n",
    "        counter += 1\n",
    "        true_keys.add(item[0])"
   ]
  },
  {
   "cell_type": "code",
   "execution_count": 46,
   "metadata": {},
   "outputs": [],
   "source": [
    "cl_to_n = dict(zip(list(true_keys), np.arange(len(true_keys))))"
   ]
  },
  {
   "cell_type": "code",
   "execution_count": 49,
   "metadata": {
    "scrolled": false
   },
   "outputs": [
    {
     "data": {
      "application/vnd.jupyter.widget-view+json": {
       "model_id": "c80a2abd722847b8971284e2d6f8f234",
       "version_major": 2,
       "version_minor": 0
      },
      "text/plain": [
       "A Jupyter Widget"
      ]
     },
     "metadata": {},
     "output_type": "display_data"
    },
    {
     "name": "stdout",
     "output_type": "stream",
     "text": [
      "\n"
     ]
    },
    {
     "name": "stderr",
     "output_type": "stream",
     "text": [
      "Exception in thread Thread-7:\n",
      "Traceback (most recent call last):\n",
      "  File \"/home/anton/anaconda3/lib/python3.6/threading.py\", line 916, in _bootstrap_inner\n",
      "    self.run()\n",
      "  File \"/home/anton/anaconda3/lib/python3.6/site-packages/tqdm/_tqdm.py\", line 144, in run\n",
      "    for instance in self.tqdm_cls._instances:\n",
      "  File \"/home/anton/anaconda3/lib/python3.6/_weakrefset.py\", line 60, in __iter__\n",
      "    for itemref in self.data:\n",
      "RuntimeError: Set changed size during iteration\n",
      "\n"
     ]
    }
   ],
   "source": [
    "pairs_cl = hu.process_pairs(pairs, cl_to_n, 6)"
   ]
  },
  {
   "cell_type": "code",
   "execution_count": null,
   "metadata": {},
   "outputs": [],
   "source": []
  },
  {
   "cell_type": "code",
   "execution_count": 50,
   "metadata": {
    "scrolled": false
   },
   "outputs": [],
   "source": [
    "gr = hamu.pairs_to_gr(pairs_cl, len(cl_to_n))"
   ]
  },
  {
   "cell_type": "code",
   "execution_count": 51,
   "metadata": {},
   "outputs": [],
   "source": [
    "np.save(\"./13\", gr)"
   ]
  },
  {
   "cell_type": "code",
   "execution_count": 53,
   "metadata": {},
   "outputs": [],
   "source": [
    "import pickle"
   ]
  },
  {
   "cell_type": "code",
   "execution_count": 54,
   "metadata": {},
   "outputs": [],
   "source": [
    "pickle.dump(cl_to_n, open(\"./13_cl_to_n\", 'wb'))\n",
    "pickle.dump(answ, open(\"./13_nd\", 'wb'))"
   ]
  },
  {
   "cell_type": "code",
   "execution_count": 58,
   "metadata": {},
   "outputs": [
    {
     "data": {
      "image/png": "[encoded data removed]",
      "text/plain": [
       "<matplotlib.figure.Figure at 0x7f8f18dd0e10>"
      ]
     },
     "metadata": {},
     "output_type": "display_data"
    }
   ],
   "source": [
    "pu.plot_gr(gr[:40, :40], log =1)"
   ]
  },
  {
   "cell_type": "code",
   "execution_count": 59,
   "metadata": {},
   "outputs": [],
   "source": [
    "arrays, weights = hamu.restore_arrays(gr)"
   ]
  },
  {
   "cell_type": "code",
   "execution_count": 60,
   "metadata": {},
   "outputs": [
    {
     "data": {
      "text/plain": [
       "[[9525.0,\n",
       "  6473.0,\n",
       "  14240.0,\n",
       "  6664.0,\n",
       "  3075.0,\n",
       "  1631.0,\n",
       "  6450.0,\n",
       "  5908.0,\n",
       "  28595.0,\n",
       "  11228.0,\n",
       "  4811.0,\n",
       "  3908.0,\n",
       "  4357.0,\n",
       "  15676.0,\n",
       "  8721.0,\n",
       "  3697.0],\n",
       " [16996.0,\n",
       "  8923.0,\n",
       "  6437.0,\n",
       "  17285.0,\n",
       "  6334.0,\n",
       "  5767.0,\n",
       "  9980.0,\n",
       "  7881.0,\n",
       "  9485.0,\n",
       "  13099.0,\n",
       "  14567.0,\n",
       "  8048.0,\n",
       "  9510.0,\n",
       "  2444.0],\n",
       " [12051.0, 5593.0, 7841.0, 4714.0, 7276.0],\n",
       " [2654.0,\n",
       "  5111.0,\n",
       "  6158.0,\n",
       "  5990.0,\n",
       "  3789.0,\n",
       "  10408.0,\n",
       "  6557.0,\n",
       "  6916.0,\n",
       "  4572.0,\n",
       "  1153.0,\n",
       "  2245.0,\n",
       "  214.0],\n",
       " [2066.0, 10142.0],\n",
       " [2493.0,\n",
       "  4519.0,\n",
       "  7590.0,\n",
       "  8408.0,\n",
       "  6564.0,\n",
       "  6134.0,\n",
       "  9700.0,\n",
       "  6091.0,\n",
       "  2579.0,\n",
       "  3387.0],\n",
       " [2340.0,\n",
       "  1290.0,\n",
       "  1547.0,\n",
       "  3121.0,\n",
       "  1618.0,\n",
       "  3509.0,\n",
       "  2656.0,\n",
       "  3272.0,\n",
       "  2448.0,\n",
       "  1423.0,\n",
       "  3603.0,\n",
       "  89.0,\n",
       "  8901.0],\n",
       " [3791.0,\n",
       "  4105.0,\n",
       "  2758.0,\n",
       "  3033.0,\n",
       "  1942.0,\n",
       "  1779.0,\n",
       "  4004.0,\n",
       "  915.0,\n",
       "  6247.0,\n",
       "  2449.0,\n",
       "  4791.0,\n",
       "  3150.0,\n",
       "  4174.0,\n",
       "  5200.0,\n",
       "  779.0,\n",
       "  634.0,\n",
       "  1697.0,\n",
       "  2432.0,\n",
       "  4768.0,\n",
       "  3752.0,\n",
       "  4579.0,\n",
       "  2835.0],\n",
       " [3796.0, 1322.0, 1711.0, 1782.0, 2360.0],\n",
       " [1767.0,\n",
       "  1011.0,\n",
       "  362.0,\n",
       "  1991.0,\n",
       "  1661.0,\n",
       "  2687.0,\n",
       "  1144.0,\n",
       "  1310.0,\n",
       "  2614.0,\n",
       "  3264.0,\n",
       "  1240.0,\n",
       "  539.0],\n",
       " [1879.0, 3184.0, 2951.0, 2909.0, 2054.0, 2397.0, 2820.0],\n",
       " [2964.0, 1625.0, 2265.0, 3139.0],\n",
       " [405.0, 2685.0, 2720.0, 1084.0, 1255.0, 2709.0, 1559.0, 3018.0, 2936.0],\n",
       " [1919.0, 1561.0, 2223.0],\n",
       " [962.0,\n",
       "  739.0,\n",
       "  237.0,\n",
       "  1423.0,\n",
       "  157.0,\n",
       "  2.0,\n",
       "  4.0,\n",
       "  270.0,\n",
       "  742.0,\n",
       "  1752.0,\n",
       "  530.0,\n",
       "  485.0,\n",
       "  1292.0],\n",
       " [1076.0, 632.0, 13.0],\n",
       " [500.0, 339.0, 336.0, 260.0, 112.0, 101.0, 42.0, 21.0],\n",
       " [319.0],\n",
       " [4.0],\n",
       " [2.0],\n",
       " [2.0],\n",
       " [2.0],\n",
       " [1.0],\n",
       " [1.0],\n",
       " [1.0],\n",
       " [1.0],\n",
       " [1.0],\n",
       " [1.0],\n",
       " [1.0],\n",
       " [1.0, 1.0],\n",
       " [1.0],\n",
       " [1.0],\n",
       " [1.0],\n",
       " [1.0],\n",
       " [1.0]]"
      ]
     },
     "execution_count": 60,
     "metadata": {},
     "output_type": "execute_result"
    }
   ],
   "source": [
    "weights"
   ]
  },
  {
   "cell_type": "code",
   "execution_count": null,
   "metadata": {},
   "outputs": [],
   "source": []
  },
  {
   "cell_type": "code",
   "execution_count": 83,
   "metadata": {},
   "outputs": [],
   "source": [
    "mean_weights = [np.mean(x) for x in weights]"
   ]
  },
  {
   "cell_type": "code",
   "execution_count": 84,
   "metadata": {},
   "outputs": [],
   "source": [
    "lens = [len(x) for x in arrays]"
   ]
  },
  {
   "cell_type": "code",
   "execution_count": 85,
   "metadata": {},
   "outputs": [],
   "source": [
    "import matplotlib.pyplot as plt"
   ]
  },
  {
   "cell_type": "code",
   "execution_count": 86,
   "metadata": {},
   "outputs": [
    {
     "data": {
      "text/plain": [
       "<Container object of 18 artists>"
      ]
     },
     "execution_count": 86,
     "metadata": {},
     "output_type": "execute_result"
    },
    {
     "data": {
      "image/png": "[encoded data removed]",
      "text/plain": [
       "<matplotlib.figure.Figure at 0x7f8f18b97b70>"
      ]
     },
     "metadata": {},
     "output_type": "display_data"
    }
   ],
   "source": [
    "plt.bar(np.arange(18), mean_weights[:18])"
   ]
  },
  {
   "cell_type": "code",
   "execution_count": null,
   "metadata": {},
   "outputs": [],
   "source": []
  },
  {
   "cell_type": "code",
   "execution_count": null,
   "metadata": {},
   "outputs": [],
   "source": []
  },
  {
   "cell_type": "code",
   "execution_count": 87,
   "metadata": {},
   "outputs": [],
   "source": [
    "with open(\"../../data/answers/Clo_013316.txt\") as f:\n",
    "    strain1 = [x[:-2].split(\",\") for x in f.readlines()]"
   ]
  },
  {
   "cell_type": "code",
   "execution_count": 88,
   "metadata": {},
   "outputs": [],
   "source": [
    "with open(\"../../data/answers/Clo_009089.txt\") as f:\n",
    "    strain2 = [x[:-2].split(\",\") for x in f.readlines()]"
   ]
  },
  {
   "cell_type": "code",
   "execution_count": null,
   "metadata": {},
   "outputs": [],
   "source": []
  },
  {
   "cell_type": "markdown",
   "metadata": {},
   "source": [
    "# investigation"
   ]
  },
  {
   "cell_type": "code",
   "execution_count": 89,
   "metadata": {},
   "outputs": [],
   "source": [
    "import editdistance as ed\n",
    "from tqdm import tqdm_notebook"
   ]
  },
  {
   "cell_type": "code",
   "execution_count": 92,
   "metadata": {},
   "outputs": [],
   "source": [
    "def a_close_to_b(a, b, t = 2):\n",
    "    return ed.eval(a, b) <= 2\n",
    "\n",
    "def a_close_to_any_b(a, b, t = 2):\n",
    "    res = [a_close_to_b(a, x, t) for x in b]\n",
    "    return any(res), np.where(res)\n",
    "        "
   ]
  },
  {
   "cell_type": "code",
   "execution_count": 94,
   "metadata": {},
   "outputs": [],
   "source": [
    "cl1 = [[cl_to_n[hu.find_closest(cl_to_n, x)[1]] for x in y] for y in strain1]"
   ]
  },
  {
   "cell_type": "code",
   "execution_count": 95,
   "metadata": {},
   "outputs": [],
   "source": [
    "cl2 = [[cl_to_n[hu.find_closest(cl_to_n, x)[1]] for x in y] for y in strain2]"
   ]
  },
  {
   "cell_type": "code",
   "execution_count": 96,
   "metadata": {
    "scrolled": false
   },
   "outputs": [
    {
     "data": {
      "text/plain": [
       "[233, 91, 218, 62, 7, 11, 214, 82, 228, 1, 185, 208, 141, 27, 237]"
      ]
     },
     "execution_count": 96,
     "metadata": {},
     "output_type": "execute_result"
    }
   ],
   "source": [
    "arrays[1]"
   ]
  },
  {
   "cell_type": "code",
   "execution_count": 98,
   "metadata": {},
   "outputs": [],
   "source": [
    "mask = []\n",
    "for i in range(25):\n",
    "    if a_close_to_any_b(arrays[i], cl1):\n",
    "        mask.append(1)\n",
    "    elif a_close_to_any_b(arrays[i], cl2):\n",
    "        mask.append(2)\n",
    "    else:\n",
    "        mask.append(0)\n"
   ]
  },
  {
   "cell_type": "code",
   "execution_count": 199,
   "metadata": {
    "scrolled": true
   },
   "outputs": [
    {
     "data": {
      "text/plain": [
       "[0, 1, 1, 1, 1, 0, 2, 0, 1, 1, 0, 2, 2, 2, 0, 0, 1, 2, 0, 1, 1, 1, 0, 1, 1]"
      ]
     },
     "execution_count": 199,
     "metadata": {},
     "output_type": "execute_result"
    }
   ],
   "source": [
    "mask"
   ]
  },
  {
   "cell_type": "code",
   "execution_count": 241,
   "metadata": {
    "collapsed": true
   },
   "outputs": [
    {
     "data": {
      "text/plain": [
       "[[(2, 'CTAGAATTAGAACTCATTATTAAAACCATTCTTGCAAG'),\n",
       "  (0, 'TAATCTGACACATACAAAGTTGAACCTAGTGGTACG'),\n",
       "  (0, 'AAAAGCGTTCTTAAATCGTTACTTAACTCTTGCAAA'),\n",
       "  (0, 'TGGTATATCATACTCGTGCATTGCCTGCTCCACATT'),\n",
       "  (0, 'ATACAACCATATATTTACCAATTATGTACTTATGAA'),\n",
       "  (0, 'TTTTTTAACTTTTCAGTTCTCACAGGCGTTTCATC'),\n",
       "  (0, 'TTCATATTCCAAGCGTTTTGCTTACACTTAATAGAA'),\n",
       "  (1, 'AAAATTAAATTTCATGCTCTTAGACATACATATGCAA'),\n",
       "  (1, 'TAGATTGCTTTCAAATTACCTCTTGTATAGCGTCTT'),\n",
       "  (1, 'TTGCTCCGCTATGCCTTGCGCTCTCTAATATCGCTTA'),\n",
       "  (1, 'TGAACTTTAATCGGTTTTATACAACAATATAACGC'),\n",
       "  (0, 'TCACACATGAGCAATATCGAAACAGGCAAATCTACA'),\n",
       "  (0, 'TTCGTAAAATAACAATTATCTGGAATATGAGAAGTT'),\n",
       "  (0, 'CACTCTTAAGTTGTGACCTATCTGATATATGATTAA'),\n",
       "  (2, 'TCAATATCTATATTAAGTTTATTTTTAAAAACATCT')],\n",
       " [(1, 'GTAGAGTCTTTATATGGTAGAGGTGGAATATATAAGT'),\n",
       "  (1, 'AACTCTTCAATATCTCCTAATCGTTCAATATAATTCT'),\n",
       "  (1, 'ACTGTATGCCATCTAAATGCATCATACAAACTTATTT'),\n",
       "  (0, 'TATACTTCCTAATGCAATCAAATAAGTACCTAAAAT'),\n",
       "  (1, 'TTCGCAACTTATGATGGTGAAATGATTACATTAACAG'),\n",
       "  (2, 'AATATAACAAAGTGGATGTTCTCTAAAAATAAAGAG')],\n",
       " [(1, 'TAAAACCACTCAATTCTTAAAAGATACTGCAATTATT'),\n",
       "  (1, 'GGACATTTTAACCATAGACTATTTTACAAACAAACTT'),\n",
       "  (1, 'GGAGATTTAAAAGTTAACAACATAAAAATGATAGATA'),\n",
       "  (2, 'TGGTGAACAATAAAACAATCATCTAAAGACGAAGAAAA'),\n",
       "  (2, 'ATAATCCAGAAGATGATACACTTCTTGAACAATATATT'),\n",
       "  (2, 'CTATCAATATATATTTTATAAGCATAAGTTTTACGCAT'),\n",
       "  (1, 'AACAACGTCATATATATCATCTTTAGTTGTAAGAGCA'),\n",
       "  (1, 'AGTTATGTCAAATTATTAGAAACTAAAAACCTAGTTG'),\n",
       "  (0, 'AATATCTAAAAAAAACGACTTATATCCCATTTCTAC'),\n",
       "  (1, 'AATTTAGAAAAGGACTATTAGGAAGCAAAGAAAAAAT'),\n",
       "  (0, 'AAAGTAAATCCTAGAGCATAACCAATTTTCGTAGG'),\n",
       "  (13, 'AGATATACAAGGTGAAAGTGTTGAAATTTCAATCTT')],\n",
       " [(1, 'GTTTGAGAACGCTGTATAAAGCTTGTAGCTAGTTCTT'),\n",
       "  (1, 'GTTGCATCATTAAATATTTTCCCTACAAACTCTTTTC'),\n",
       "  (2, 'AGTACATACAAAGAGTCTATAAAATTATCTATAAAG')],\n",
       " [(1, 'TATCTATTATTGGTATATTAAATGATTCTAATAATTC'),\n",
       "  (0, 'ATGTTCACATTGACAGCTCAAGATAAACATGGAATT'),\n",
       "  (1, 'TTAAATCGTTTGATTGGAAGTATAAATTATAATGACC'),\n",
       "  (0, 'GCTGAAAGTTTAAAAGTTTTAACTATAAATTCAGTT'),\n",
       "  (1, 'TCTTTTTCTAATGCTTTTTTTACATATGGAGCTAA'),\n",
       "  (1, 'CCATCAGCCTTATCCTGTGCAAATAATAGTGCCAA'),\n",
       "  (1, 'AGGAGATAACTTCTATTAAAGATAACTTTGATGTGGT'),\n",
       "  (4, 'CTCAAAGTTGGACTAGCTTCATCTTTTAATTTTACAAG')],\n",
       " [(1, 'AAGCTTTCATAGCATCCTCTTCTGAACATTCATCACT'),\n",
       "  (0, 'TAGTAAGTTAACTCATACATACCACCTTCCCCATAA'),\n",
       "  (1, 'TATTATAAATCTTTAAATAGCCTTCTAAGCGTCTACT'),\n",
       "  (0, 'ACATTATCAACATCATCTAATTTTTTTGTCACTGTA'),\n",
       "  (0, 'TAAGAATTAACTAATGTGAATTTTTTAGACATGTCA'),\n",
       "  (2, 'ACAAACAAGTGTAGGATAAACTTTCCTTGCCCAGTATA'),\n",
       "  (0, 'TAACAAAATTTGCGAGTACACTTATTTCTAATATAT'),\n",
       "  (1, 'ATAAGAGTGGTTTAAGAAAATAAGTTATTTTTCAA'),\n",
       "  (0, 'TGACTCGTGCTATTTTTTTTACACGCCTAAGAGGTA'),\n",
       "  (0, 'CGAAAAATCTAGGAAAAACTATTGTAAAAGCGTTTA'),\n",
       "  (0, 'TTTGATTACATGGGCAGTTTTTTATTATAGAGTGTT'),\n",
       "  (0, 'AAAAATCTTATTAAAGATTATTCAAAGTCTTTTGAT'),\n",
       "  (2, 'AACAAAAAAGATACATCTGTAACTAATTTTTATAC')],\n",
       " [(1, 'TGCTGTGATTTCACTAATAAAACAATTAATAATTG'),\n",
       "  (0, 'GTTCCTGTTGTGTTTTTTACTAATCCCATTTTATAT'),\n",
       "  (3, 'TGGTGAACAATAAAACAATCATCTAAAGACGAAGAAAA'),\n",
       "  (0, 'GACAAAGCGACTATTACTATCTCAGGTGATAAAAAT'),\n",
       "  (1, 'AAAAGTTGCACGCCTATTTGATTTTTCAATACATTA'),\n",
       "  (1, 'TCTCATGACTATTGAATAAATATAATAAACAAGCATA'),\n",
       "  (0, 'CAGCCAAAAACTTCGAATTTGAACTAAAATGCGTGG'),\n",
       "  (1, 'ATTTGAAAGGAATAAATTTTAAATGAATGAAAGGATA'),\n",
       "  (0, 'GCGTACAAGGTTGAGAAGCTCCGCAATCTCAACGTCGT'),\n",
       "  (1, 'AACTTTATATCTCCATTTGCATATCCATCTGATGAA'),\n",
       "  (0, 'GAGGAGATTCAGACAGCGACTAAAAAGACTGATATAAA'),\n",
       "  (1, 'AACGTACAAAATGTAGCTATTATCATCTTTTAGATAG'),\n",
       "  (1, 'CTTTTTCCGAAAAACCATTACTTACAAAATCTACA'),\n",
       "  (2, 'CTCCTTTCATTTCTCCTTTAGCTTCATAGCTTATTTT')],\n",
       " [(1, 'CGTATTAACACCTGTTCGGCACTATCACAATAAACACA'),\n",
       "  (1, 'TTGTTTAGGTCAAGTCTAATTTGACGTATTAAAGTAT'),\n",
       "  (0, 'GCTATAGAAGTAGCAGACTTAGGAACATCAGAAAAA'),\n",
       "  (0, 'TATCCTTGTATTTGCCTAACGCGATATAGAGCAAAAA'),\n",
       "  (1, 'TGTTTTCCATAAACATTTCTAATTGACTTTTATTGT'),\n",
       "  (2, 'AAAGGTGTCCATTGATTTCTTTCAGTTTCGGGAATA')],\n",
       " [(1, 'AGTACATACAAAGAGTCTATAAAATTATCTATAAAG'),\n",
       "  (0, 'GTTGCATCATTAAATATTTTCCCTACAAACTCTTTTC'),\n",
       "  (2, 'GTTTGAGAACGCTGTATAAAGCTTGTAGCTAGTTCTT')],\n",
       " [(1, 'AATATAACAAAGTGGATGTTCTCTAAAAATAAAGAG'),\n",
       "  (0, 'TTCGCAACTTATGATGGTGAAATGATTACATTAACAG'),\n",
       "  (1, 'TATACTTCCTAATGCAATCAAATAAGTACCTAAAAT'),\n",
       "  (0, 'ACTGTATGCCATCTAAATGCATCATACAAACTTATTT'),\n",
       "  (1, 'AACTCTTCAATATCTCCTAATCGTTCAATATAATTCT'),\n",
       "  (2, 'GTAGAGTCTTTATATGGTAGAGGTGGAATATATAAGT')],\n",
       " [(12, 'TTTAGAAACAACAGAATAAACATAATATATAAGCATA'),\n",
       "  (12, 'CATATTATTAAAATATCACTATTCTATATAAAATT'),\n",
       "  (1, 'AGGATAAAGAAAAGACTCACACAAGACACAGTGTCA'),\n",
       "  (1, 'TATCTAAAACCCAATAGGATTGACACGTTACGACC'),\n",
       "  (1, 'CCTGTATTCTGTTTAATGCTTCAATAGCTCTTTCT'),\n",
       "  (0, 'CAAAGTGCTAGGTCACTAAATGATGCAACAGTAGACG'),\n",
       "  (1, 'TATCAAAAAATCCCCTCACCTGCATACTTATATAAA'),\n",
       "  (1, 'TTTAAAAGGTCAACTTAAAGGTAGTAATTTTTTAAT'),\n",
       "  (1, 'CATATTCTTCATTTATCCCTATTCTATCTAATATT'),\n",
       "  (1, 'ACAAAAAAACGTATAATAAAAATAATTTCTATCTCT'),\n",
       "  (0, 'CCAATTAAGTTACTAGATAAAAAAATAGAACAAATTA'),\n",
       "  (0, 'CGAATTTCATGGCTTTGAATTTATTTATATGTAGTT'),\n",
       "  (0, 'TGAAACAAAATGCTGATGCAAGAAAAGAAAGTATCCGT'),\n",
       "  (1, 'TCAAAATTATTTAGTTATACTAAACATTATATTAT'),\n",
       "  (1, 'AGGTATACACCTTCTACTCTTGTAAGAGTACCATAA'),\n",
       "  (1, 'ACGATATTTTTATATTCTATTGTTGTTATCTTATTC'),\n",
       "  (0, 'CGAGTTGGCATCCAAGCATTTTTCACAGATTTTAATA'),\n",
       "  (1, 'AAGGTTTGACCTGCGTTTTTATATGCATCTGAATAA'),\n",
       "  (2, 'TTAGCTTCATAGCTTATTTTCTTTATTACTTCAATTT')]]"
      ]
     },
     "execution_count": 241,
     "metadata": {},
     "output_type": "execute_result"
    }
   ],
   "source": [
    "[[hu.find_closest(cl_to_n, x) for x in y] for y in strain2]"
   ]
  },
  {
   "cell_type": "code",
   "execution_count": null,
   "metadata": {},
   "outputs": [],
   "source": []
  },
  {
   "cell_type": "code",
   "execution_count": 99,
   "metadata": {},
   "outputs": [],
   "source": [
    "import networkx as nx\n",
    "import matplotlib.pyplot as plt"
   ]
  },
  {
   "cell_type": "code",
   "execution_count": 100,
   "metadata": {},
   "outputs": [],
   "source": [
    "def prepare_pos(arrs, start_x = 0, start_y = 0):\n",
    "    pos = {}\n",
    "    x, y = 0, 0\n",
    "    for arr in arrs:\n",
    "        print(arr)\n",
    "        for el in arr:\n",
    "            pos[el] = (x,y)\n",
    "            x += 1\n",
    "        y += 1\n",
    "        x = 0\n",
    "    return pos, x, y"
   ]
  },
  {
   "cell_type": "code",
   "execution_count": 101,
   "metadata": {},
   "outputs": [],
   "source": [
    "def create_shift_pos(pos, x_shift = 0, y_shift = -0.2):\n",
    "    s_pos = {}\n",
    "    for item in pos.items():\n",
    "        s_pos[item[0]] = (item[1][0] + x_shift, item[1][1] + y_shift)\n",
    "    return s_pos"
   ]
  },
  {
   "cell_type": "code",
   "execution_count": 109,
   "metadata": {},
   "outputs": [],
   "source": [
    "def add_pos(arr, pos ):\n",
    "    vertexes = []\n",
    "    for x in [x for y in arr for x in y]:\n",
    "        if not x in shift_pos.keys():\n",
    "            vertexes.append(x)\n",
    "\n",
    "    for i, v in enumerate(vertexes):\n",
    "        pos[v] = (i % 10, -1 * (i // 10))\n",
    "    \n",
    "    return pos"
   ]
  },
  {
   "cell_type": "code",
   "execution_count": 110,
   "metadata": {
    "scrolled": true
   },
   "outputs": [
    {
     "name": "stdout",
     "output_type": "stream",
     "text": [
      "[233, 91, 218, 62, 7, 11, 214, 82, 228, 1, 185, 208, 141, 27, 237]\n",
      "[230, 225, 44, 19, 188, 263, 268, 281, 173, 73, 288, 45]\n",
      "[280, 200, 203, 164, 116, 276, 253, 201]\n",
      "[155, 191, 80, 154, 175, 122, 72, 149, 39, 152, 286, 127, 242]\n",
      "[229, 151, 19, 150, 22, 261, 113, 210, 196, 51, 66, 239, 269, 83]\n",
      "[178, 177, 147, 167, 244, 102]\n",
      "[4, 131, 94]\n",
      "[30, 144, 132, 278, 159, 70]\n",
      "[204, 262, 180, 219, 75, 101, 265, 252, 240, 86, 79, 213, 119, 55, 220, 134, 264, 146, 193]\n",
      "[31, 64, 81, 88, 174, 37, 247, 47, 114, 184, 241, 97, 216, 117]\n",
      "[105, 99, 166, 109, 171, 222, 176, 10, 36, 257, 42]\n",
      "[120, 223, 217, 29]\n",
      "[65, 8, 135, 21, 115]\n",
      "[77, 110, 161, 90]\n",
      "[35, 16, 153, 259, 87, 143, 25, 282, 59, 63, 204, 221, 48, 60]\n",
      "[130, 271, 15, 26, 34, 209, 68, 32, 5]\n",
      "[87, 262, 180, 12, 129, 172, 71, 140, 61, 118, 148, 58, 277, 45, 157, 46, 275, 40, 92, 186, 270, 279, 78, 199, 205, 24]\n"
     ]
    }
   ],
   "source": [
    "G1 = nx.DiGraph()\n",
    "for arr in cl1:\n",
    "    G1.add_path(arr)\n",
    "    \n",
    "G2 = nx.DiGraph()\n",
    "for arr in cl2:\n",
    "    G2.add_path(arr)\n",
    "pos = prepare_pos(cl2 + cl1)[0]"
   ]
  },
  {
   "cell_type": "code",
   "execution_count": 111,
   "metadata": {},
   "outputs": [],
   "source": [
    "Gansw = nx.DiGraph()\n",
    "for arr in arrays:\n",
    "    Gansw.add_path(arr)\n",
    "\n",
    "shift_pos = create_shift_pos(pos)\n",
    "shift_pos = add_pos(arrays, shift_pos)"
   ]
  },
  {
   "cell_type": "code",
   "execution_count": 112,
   "metadata": {},
   "outputs": [
    {
     "data": {
      "image/png": "[encoded data removed]",
      "text/plain": [
       "<matplotlib.figure.Figure at 0x7f8ef3e90198>"
      ]
     },
     "metadata": {},
     "output_type": "display_data"
    }
   ],
   "source": [
    "#nx.draw_networkx(G,  alpha = 0.5, pos=pos)\n",
    "plt.figure(figsize=(15, 10))\n",
    "nx.draw_networkx(G1, node_color='g', alpha = 0.7, pos=pos)\n",
    "nx.draw_networkx(G2, node_color='r', alpha = 0.7, pos=pos)\n",
    "\n",
    "nx.draw_networkx(Gansw, node_color='y', edge_color='b', alpha = 1, pos=shift_pos)"
   ]
  },
  {
   "cell_type": "code",
   "execution_count": null,
   "metadata": {},
   "outputs": [],
   "source": []
  },
  {
   "cell_type": "code",
   "execution_count": 113,
   "metadata": {},
   "outputs": [],
   "source": [
    "def search_best_alignment(a, b, t = 2):\n",
    "    answ = ('', '')\n",
    "    indexes = (-1,-1,-1,-1)\n",
    "    b_index = -1\n",
    "    \n",
    "    for i, x in enumerate(b):\n",
    "        curr_answ, curr_indexes = best_alignment(a, x, t)\n",
    "        if len(curr_answ[0]) >= len(answ[0]) and len(curr_answ[1]) >= len(answ[1]):\n",
    "            answ = curr_answ\n",
    "            indexes = curr_indexes\n",
    "            b_index = i\n",
    "        curr_answ, curr_indexes = best_alignment(a[::-1], x, t)\n",
    "        if len(curr_answ[0]) >= len(answ[0]) and len(curr_answ[1]) >= len(answ[1]):\n",
    "            answ = curr_answ\n",
    "            indexes = curr_indexes\n",
    "            b_index = i\n",
    "        \n",
    "    return answ, b_index, indexes"
   ]
  },
  {
   "cell_type": "code",
   "execution_count": 116,
   "metadata": {},
   "outputs": [],
   "source": [
    "def best_alignment(a, b, t):\n",
    "    '''worst implementation of best alignment ever'''\n",
    "    answ = ('','')\n",
    "    i1a, i2a, j1a, j2a = -1,-1,-1,-1\n",
    "    for i1 in range(0, len(a)):\n",
    "        for i2 in range(i1 + 1, len(a) + 1):\n",
    "            check_a = a[i1:i2]\n",
    "            for j1 in range(0, len(b)):\n",
    "                for j2 in range(j1 + 1,  len(b) + 1):\n",
    "                    check_b = b[j1:j2]\n",
    "                    if ed.eval(check_a, check_b) <= t and len(check_a) >= len(answ[0]) and len(check_b) >= len(answ[1]):\n",
    "                        answ = (check_a, check_b)\n",
    "                        i1a, i2a, j1a, j2a = i1,i2,j1,j2\n",
    "    \n",
    "    return answ, (i1a,i2a,j1a,j2a)\n"
   ]
  },
  {
   "cell_type": "code",
   "execution_count": 117,
   "metadata": {},
   "outputs": [
    {
     "name": "stdout",
     "output_type": "stream",
     "text": [
      "[31, 64, 81, 88, 174, 37, 247, 47, 114, 184, 241, 97, 216, 117]\n",
      "(([31, 64, 81, 88, 174, 37, 247, 47, 114, 184, 241, 97, 216, 117], [31, 64, 81, 88, 174, 37, 247, 47, 114, 184, 241, 97, 216, 117]), 14, (0, 14, 0, 14))\n",
      "....\n",
      "[105, 99, 166, 109, 171, 222, 176, 10, 36, 257, 42]\n",
      "(([105, 99, 166, 109, 171, 222, 176, 10, 36, 257, 42], [105, 99, 166, 109, 171, 222, 176, 10, 36, 257]), 12, (0, 11, 0, 10))\n",
      "....\n",
      "[120, 223, 217, 29]\n",
      "(([120, 223, 217, 29], [120, 223, 217, 29]), 15, (0, 4, 0, 4))\n",
      "....\n",
      "[65, 8, 135, 21, 115]\n",
      "(([65, 8, 135, 21, 115], [65, 8, 135, 21, 115]), 11, (0, 5, 0, 5))\n",
      "....\n",
      "[77, 110, 161, 90]\n",
      "(([77, 110, 161, 90], [77, 110, 161, 90]), 13, (0, 4, 0, 4))\n",
      "....\n",
      "[35, 16, 153, 259, 87, 143, 25, 282, 59, 63, 204, 221, 48, 60]\n",
      "(([35, 16, 153, 259, 87, 143, 25, 282, 59, 63, 204, 221, 48, 60], [35, 16, 153, 259, 87, 143, 25, 282, 59, 63, 204, 221, 48]), 3, (0, 14, 0, 13))\n",
      "....\n",
      "[130, 271, 15, 26, 34, 209, 68, 32, 5]\n",
      "(([5, 32, 68, 209, 34, 26, 15, 271, 130], [5, 32, 68, 209, 34, 26, 15, 271, 130]), 16, (0, 9, 0, 9))\n",
      "....\n",
      "[87, 262, 180, 12, 129, 172, 71, 140, 61, 118, 148, 58, 277, 45, 157, 46, 275, 40, 92, 186, 270, 279, 78, 199, 205, 24]\n",
      "(([24, 205, 199, 78, 279, 270, 186, 92, 40, 275, 46, 157, 45, 277, 58, 148, 118, 61, 140, 71, 172, 129, 12, 180, 262], [24, 205, 199, 78, 279, 270, 186, 92, 40, 275, 46, 157, 45, 277, 58, 148, 118, 61, 140, 71, 172, 129, 12]), 7, (0, 25, 0, 23))\n",
      "....\n"
     ]
    }
   ],
   "source": [
    "mask1 = []\n",
    "for c in cl1:\n",
    "    print(c)\n",
    "    a = search_best_alignment(c, arrays, 2)\n",
    "    print(a)\n",
    "    mask1.append(a[1])\n",
    "    print(\"....\")"
   ]
  },
  {
   "cell_type": "code",
   "execution_count": 118,
   "metadata": {},
   "outputs": [
    {
     "data": {
      "text/plain": [
       "[3, 7, 11, 12, 13, 14, 15, 16]"
      ]
     },
     "execution_count": 118,
     "metadata": {},
     "output_type": "execute_result"
    }
   ],
   "source": [
    "sorted(mask1)"
   ]
  },
  {
   "cell_type": "code",
   "execution_count": 119,
   "metadata": {},
   "outputs": [
    {
     "name": "stdout",
     "output_type": "stream",
     "text": [
      "[233, 91, 218, 62, 7, 11, 214, 82, 228, 1, 185, 208, 141, 27, 237]\n",
      "(([233, 91, 218, 62, 7, 11, 214, 82, 228, 1, 185, 208, 141, 27, 237], [233, 91, 218, 62, 7, 11, 214, 82, 228, 1, 185, 208, 141, 27, 237]), 1, (0, 15, 0, 15))\n",
      "....\n",
      "[230, 225, 44, 19, 188, 263, 268, 281, 173, 73, 288, 45]\n",
      "(([230, 225, 44, 19, 188, 263, 268, 281, 173, 73, 288, 45], [230, 225, 44, 19, 188, 263, 268, 281, 173, 73, 288]), 5, (0, 12, 0, 11))\n",
      "....\n",
      "[280, 200, 203, 164, 116, 276, 253, 201]\n",
      "(([280, 200, 203, 164, 116, 276, 253, 201], [280, 200, 203, 164, 116, 276, 253, 201]), 10, (0, 8, 0, 8))\n",
      "....\n",
      "[155, 191, 80, 154, 175, 122, 72, 149, 39, 152, 286, 127, 242]\n",
      "(([155, 191, 80, 154, 175, 122, 72, 149, 39, 152, 286, 127, 242], [155, 191, 80, 154, 175, 122, 72, 149, 39, 152, 286, 127, 242]), 9, (0, 13, 0, 13))\n",
      "....\n",
      "[229, 151, 19, 150, 22, 261, 113, 210, 196, 51, 66, 239, 269, 83]\n",
      "(([83, 269, 239, 66, 51, 196, 210, 113, 261, 22, 150, 19, 151, 229], [83, 269, 239, 66, 51, 196, 210, 113, 261, 22, 150, 202, 151, 229]), 6, (0, 14, 0, 14))\n",
      "....\n",
      "[178, 177, 147, 167, 244, 102]\n",
      "(([102, 244, 167, 147, 177, 178], [102, 244, 167, 147, 177, 178]), 8, (0, 6, 0, 6))\n",
      "....\n",
      "[4, 131, 94]\n",
      "(([94, 131, 4], [94, 131, 4]), 4, (0, 3, 0, 3))\n",
      "....\n",
      "[30, 144, 132, 278, 159, 70]\n",
      "(([70, 159, 278, 132, 144, 30], [70, 159, 278, 132, 144, 30]), 2, (0, 6, 0, 6))\n",
      "....\n",
      "[204, 262, 180, 219, 75, 101, 265, 252, 240, 86, 79, 213, 119, 55, 220, 134, 264, 146, 193]\n",
      "(([193, 146, 264, 134, 220, 55, 119, 213, 79, 86, 240, 252, 265, 101, 75, 219, 180, 262, 204], [193, 146, 264, 134, 220, 55, 119, 213, 79, 86, 240, 252, 265, 101, 75, 219, 180]), 0, (0, 19, 0, 17))\n",
      "....\n"
     ]
    }
   ],
   "source": [
    "mask2 = []\n",
    "for c in cl2:\n",
    "    print(c)\n",
    "    a = search_best_alignment(c, arrays, 2)\n",
    "    print(a)\n",
    "    mask2.append(a[1])\n",
    "    print(\"....\")"
   ]
  },
  {
   "cell_type": "code",
   "execution_count": null,
   "metadata": {},
   "outputs": [],
   "source": []
  },
  {
   "cell_type": "code",
   "execution_count": 120,
   "metadata": {},
   "outputs": [],
   "source": [
    "m1 = np.zeros(20)\n",
    "m1[np.array(mask1)] = 1\n",
    "m2 = np.zeros(20)\n",
    "m2[np.array(mask2)] = 1"
   ]
  },
  {
   "cell_type": "code",
   "execution_count": 121,
   "metadata": {
    "scrolled": true
   },
   "outputs": [
    {
     "data": {
      "text/plain": [
       "<Container object of 20 artists>"
      ]
     },
     "execution_count": 121,
     "metadata": {},
     "output_type": "execute_result"
    },
    {
     "data": {
      "image/png": "[encoded data removed]",
      "text/plain": [
       "<matplotlib.figure.Figure at 0x7f8ef33a9588>"
      ]
     },
     "metadata": {},
     "output_type": "display_data"
    }
   ],
   "source": [
    "plt.bar(np.arange(20), mean_weights[:20] * m1)\n",
    "plt.bar(np.arange(20), mean_weights[:20] * m2)"
   ]
  },
  {
   "cell_type": "code",
   "execution_count": 478,
   "metadata": {},
   "outputs": [
    {
     "data": {
      "text/plain": [
       "[14, 12, 17, 11, 13, 6, 18, 10, 15, 16]"
      ]
     },
     "execution_count": 478,
     "metadata": {},
     "output_type": "execute_result"
    }
   ],
   "source": [
    "mask1"
   ]
  },
  {
   "cell_type": "code",
   "execution_count": 122,
   "metadata": {},
   "outputs": [
    {
     "data": {
      "text/plain": [
       "0.954449394906376"
      ]
     },
     "execution_count": 122,
     "metadata": {},
     "output_type": "execute_result"
    }
   ],
   "source": [
    "gw = 0\n",
    "\n",
    "for a in cl1 + cl2:\n",
    "    for x,y in zip(a, a[1:]):\n",
    "\n",
    "        gw += gr[x,y]\n",
    "        \n",
    "(gr.sum() - gw) / gw"
   ]
  },
  {
   "cell_type": "code",
   "execution_count": 123,
   "metadata": {},
   "outputs": [
    {
     "name": "stderr",
     "output_type": "stream",
     "text": [
      "\n",
      "KeyboardInterrupt\n",
      "\n"
     ]
    }
   ],
   "source": [
    "len(nd)"
   ]
  },
  {
   "cell_type": "code",
   "execution_count": 124,
   "metadata": {},
   "outputs": [
    {
     "name": "stdout",
     "output_type": "stream",
     "text": [
      "asas\n"
     ]
    }
   ],
   "source": [
    "print('asas')"
   ]
  },
  {
   "cell_type": "code",
   "execution_count": 125,
   "metadata": {},
   "outputs": [
    {
     "data": {
      "text/plain": [
       "1428"
      ]
     },
     "execution_count": 125,
     "metadata": {},
     "output_type": "execute_result"
    }
   ],
   "source": [
    "len(answ)"
   ]
  },
  {
   "cell_type": "code",
   "execution_count": 126,
   "metadata": {},
   "outputs": [],
   "source": [
    "pickle.dump(arrays, open(\"../../data/clostr_res/arrays_13\", 'wb'))"
   ]
  },
  {
   "cell_type": "code",
   "execution_count": 127,
   "metadata": {},
   "outputs": [],
   "source": [
    "pickle.dump(n_to_cl, open(\"../../data/clostr_res/n_to_cl_13\", 'wb'))"
   ]
  },
  {
   "cell_type": "code",
   "execution_count": null,
   "metadata": {},
   "outputs": [],
   "source": []
  },
  {
   "cell_type": "code",
   "execution_count": null,
   "metadata": {},
   "outputs": [],
   "source": []
  },
  {
   "cell_type": "markdown",
   "metadata": {},
   "source": [
    "## Check good pairs"
   ]
  },
  {
   "cell_type": "code",
   "execution_count": 38,
   "metadata": {},
   "outputs": [
    {
     "name": "stdout",
     "output_type": "stream",
     "text": [
      "The autoreload extension is already loaded. To reload it, use:\n",
      "  %reload_ext autoreload\n"
     ]
    }
   ],
   "source": [
    "import crispr_assembler as ca\n",
    "import tqdm\n",
    "%load_ext autoreload\n",
    "%autoreload 2"
   ]
  },
  {
   "cell_type": "code",
   "execution_count": 29,
   "metadata": {},
   "outputs": [],
   "source": [
    "sp_to_n = {}\n",
    "sp_to_occ = {}\n",
    "i = 0\n",
    "\n",
    "for k, v in c.most_common():\n",
    "    if ca.find_closest(sp_to_n, k)[0] > 7 and v > 20:\n",
    "        sp_to_occ[k] = v\n",
    "        sp_to_n[k] = i\n",
    "        i += 1\n"
   ]
  },
  {
   "cell_type": "code",
   "execution_count": 44,
   "metadata": {},
   "outputs": [
    {
     "name": "stderr",
     "output_type": "stream",
     "text": [
      "100%|██████████| 74627/74627 [00:10<00:00, 7105.82it/s]\n"
     ]
    }
   ],
   "source": [
    "pairs_f = []\n",
    "for p in tqdm.tqdm(pairs):\n",
    "    match0 = ca.find_closest(sp_to_n, p[0])\n",
    "    match1 = ca.find_closest(sp_to_n, p[1])\n",
    "    \n",
    "#     if p[0] in sp_to_n and p[1] in sp_to_n:\n",
    "#         pairs_f.append([sp_to_n[p[0]], sp_to_n[p[1]]])\n",
    "    if match0[0] < 1 and match1[0] < 1:\n",
    "        pairs_f.append([sp_to_n[match0[1]], sp_to_n[match1[1]]])"
   ]
  },
  {
   "cell_type": "code",
   "execution_count": 45,
   "metadata": {},
   "outputs": [],
   "source": [
    "gr = ca.graph_from_arrays(pairs_f)[0]"
   ]
  },
  {
   "cell_type": "code",
   "execution_count": 46,
   "metadata": {
    "scrolled": false
   },
   "outputs": [
    {
     "data": {
      "text/plain": [
       "30440"
      ]
     },
     "execution_count": 46,
     "metadata": {},
     "output_type": "execute_result"
    }
   ],
   "source": [
    "len(pairs_f)"
   ]
  },
  {
   "cell_type": "code",
   "execution_count": 47,
   "metadata": {
    "scrolled": true
   },
   "outputs": [
    {
     "data": {
      "text/plain": [
       "74627"
      ]
     },
     "execution_count": 47,
     "metadata": {},
     "output_type": "execute_result"
    }
   ],
   "source": [
    "len(pairs)"
   ]
  },
  {
   "cell_type": "code",
   "execution_count": 48,
   "metadata": {},
   "outputs": [
    {
     "data": {
      "image/png": "[encoded data removed]",
      "text/plain": [
       "<matplotlib.figure.Figure at 0x7fbf438eb208>"
      ]
     },
     "metadata": {},
     "output_type": "display_data"
    }
   ],
   "source": [
    "ca.plot_gr(gr, log = 1)"
   ]
  },
  {
   "cell_type": "code",
   "execution_count": null,
   "metadata": {},
   "outputs": [],
   "source": []
  }
 ],
 "metadata": {
  "kernelspec": {
   "display_name": "Python 3",
   "language": "python",
   "name": "python3"
  },
  "language_info": {
   "codemirror_mode": {
    "name": "ipython",
    "version": 3
   },
   "file_extension": ".py",
   "mimetype": "text/x-python",
   "name": "python",
   "nbconvert_exporter": "python",
   "pygments_lexer": "ipython3",
   "version": "3.6.3"
  }
 },
 "nbformat": 4,
 "nbformat_minor": 2
}
