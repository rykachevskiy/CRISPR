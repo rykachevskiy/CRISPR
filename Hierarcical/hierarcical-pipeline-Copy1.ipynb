{
 "cells": [
  {
   "cell_type": "code",
   "execution_count": 1,
   "metadata": {},
   "outputs": [],
   "source": [
    "import sys, os"
   ]
  },
  {
   "cell_type": "code",
   "execution_count": 43,
   "metadata": {},
   "outputs": [],
   "source": [
    "import numpy as np"
   ]
  },
  {
   "cell_type": "code",
   "execution_count": 2,
   "metadata": {},
   "outputs": [],
   "source": [
    "sys.path.append(\"/home/anton/BigMac/skoltech/CRISPR_research/notebooks/\")"
   ]
  },
  {
   "cell_type": "code",
   "execution_count": 3,
   "metadata": {
    "scrolled": true
   },
   "outputs": [],
   "source": [
    "import utils.plot_utils as pu\n",
    "import utils.hierarcical_utils as hu\n",
    "import utils.hamiltonian_utils as hamu"
   ]
  },
  {
   "cell_type": "code",
   "execution_count": 4,
   "metadata": {},
   "outputs": [],
   "source": [
    "from importlib import reload\n",
    "hu = reload(hu)\n",
    "hamu = reload(hamu)\n",
    "pu = reload(pu)"
   ]
  },
  {
   "cell_type": "code",
   "execution_count": 24,
   "metadata": {},
   "outputs": [
    {
     "name": "stdout",
     "output_type": "stream",
     "text": [
      "1298458\n"
     ]
    }
   ],
   "source": [
    "# pairs_path = \"../../data/ES/ES3_R1_pairs.txt\"\n",
    "# lines_path = \"../../data/ES/ES3_R1_spacers.txt\"\n",
    "\n",
    "# pairs_path = \"../../data/ES_reload/ES/ES2_R1_pairs.txt\"\n",
    "# lines_path = \"../../data/ES_reload/ES/ES2_R1_spacers.txt\"\n",
    "\n",
    "# pairs_path = \"../data/ES/ES5_R1_pairs.txt\"\n",
    "# lines_path = \"../data/ES/ES5_R1_spacers.txt\"\n",
    "\n",
    "# pairs_path = \"../../data/SlO_10/SlO1_R1_pairs_10.txt\"\n",
    "# lines_path = \"../../data/SlO_10/SlO1_R1_spacers_10.txt\"\n",
    "\n",
    "pairs_path = \"../../data/clostr_06_07/good_1-3_R1_06_07pairsq10.txt\"\n",
    "#lines_path = \"../../data/Sasha/Sasha1.fasta\"\n",
    "\n",
    "#pairs_path = \"../data/Thermus/III/Vesuvius (1)_III_pairs.txt\"\n",
    "#lines_path = \"../data/Thermus/III/Vesuvius (1).III.txt\"\n",
    "\n",
    "# with open(lines_path) as f:\n",
    "#     lines = [x[:] for x in f.readlines()][1::] #CAREFULLLL\n",
    "\n",
    "with open(pairs_path) as f:\n",
    "    pairs = [[y[:] for y in x[:-2].split(' ') ] for x in f.readlines()]\n",
    "\n",
    "lines = []\n",
    "for p in pairs:\n",
    "    lines.append(p[0])\n",
    "    lines.append(p[1])\n",
    "    \n",
    "print(len(lines))"
   ]
  },
  {
   "cell_type": "code",
   "execution_count": 29,
   "metadata": {},
   "outputs": [
    {
     "data": {
      "text/plain": [
       "['TAATCTGACACATACAAAGTTGAACCTAGTGGTACGG',\n",
       " 'AAAAGCGTTCTTAAATCGTTACTTAACTCTTGCAAA',\n",
       " 'TTAAAGGTGCAAGTCTTAGTACTTGTTACATGAGTT',\n",
       " 'AACAAAGAACCATTTGAATCACGAAAACTAAAAAAC',\n",
       " 'AATTTAGAAAAGGACTATTAGGAAGCAAAGAAAAAAT']"
      ]
     },
     "execution_count": 29,
     "metadata": {},
     "output_type": "execute_result"
    }
   ],
   "source": [
    "lines[:5]"
   ]
  },
  {
   "cell_type": "code",
   "execution_count": 30,
   "metadata": {},
   "outputs": [
    {
     "data": {
      "text/plain": [
       "[['TAATCTGACACATACAAAGTTGAACCTAGTGGTACGG',\n",
       "  'AAAAGCGTTCTTAAATCGTTACTTAACTCTTGCAAA'],\n",
       " ['TTAAAGGTGCAAGTCTTAGTACTTGTTACATGAGTT',\n",
       "  'AACAAAGAACCATTTGAATCACGAAAACTAAAAAAC']]"
      ]
     },
     "execution_count": 30,
     "metadata": {},
     "output_type": "execute_result"
    }
   ],
   "source": [
    "pairs[:2]"
   ]
  },
  {
   "cell_type": "code",
   "execution_count": 31,
   "metadata": {},
   "outputs": [],
   "source": [
    "od = hu.get_ordered_spacers(lines)"
   ]
  },
  {
   "cell_type": "code",
   "execution_count": 32,
   "metadata": {},
   "outputs": [
    {
     "data": {
      "application/vnd.jupyter.widget-view+json": {
       "model_id": "01a8b803a7d64eaeb90c1bd6dcd673e9",
       "version_major": 2,
       "version_minor": 0
      },
      "text/plain": [
       "A Jupyter Widget"
      ]
     },
     "metadata": {},
     "output_type": "display_data"
    },
    {
     "name": "stdout",
     "output_type": "stream",
     "text": [
      "\n"
     ]
    }
   ],
   "source": [
    "answ, sp_to_n, cl_to_n, n_to_cl = hu.squash(od, 6)"
   ]
  },
  {
   "cell_type": "code",
   "execution_count": 41,
   "metadata": {},
   "outputs": [],
   "source": [
    "counter = 0\n",
    "true_keys = set()\n",
    "for item in answ.items():\n",
    "    if item[1] > 1:\n",
    "        counter += 1\n",
    "        true_keys.add(item[0])"
   ]
  },
  {
   "cell_type": "code",
   "execution_count": 46,
   "metadata": {},
   "outputs": [],
   "source": [
    "cl_to_n = dict(zip(list(true_keys), np.arange(len(true_keys))))"
   ]
  },
  {
   "cell_type": "code",
   "execution_count": 49,
   "metadata": {
    "scrolled": false
   },
   "outputs": [
    {
     "data": {
      "application/vnd.jupyter.widget-view+json": {
       "model_id": "c80a2abd722847b8971284e2d6f8f234",
       "version_major": 2,
       "version_minor": 0
      },
      "text/plain": [
       "A Jupyter Widget"
      ]
     },
     "metadata": {},
     "output_type": "display_data"
    },
    {
     "name": "stdout",
     "output_type": "stream",
     "text": [
      "\n"
     ]
    },
    {
     "name": "stderr",
     "output_type": "stream",
     "text": [
      "Exception in thread Thread-7:\n",
      "Traceback (most recent call last):\n",
      "  File \"/home/anton/anaconda3/lib/python3.6/threading.py\", line 916, in _bootstrap_inner\n",
      "    self.run()\n",
      "  File \"/home/anton/anaconda3/lib/python3.6/site-packages/tqdm/_tqdm.py\", line 144, in run\n",
      "    for instance in self.tqdm_cls._instances:\n",
      "  File \"/home/anton/anaconda3/lib/python3.6/_weakrefset.py\", line 60, in __iter__\n",
      "    for itemref in self.data:\n",
      "RuntimeError: Set changed size during iteration\n",
      "\n"
     ]
    }
   ],
   "source": [
    "pairs_cl = hu.process_pairs(pairs, cl_to_n, 6)"
   ]
  },
  {
   "cell_type": "code",
   "execution_count": null,
   "metadata": {},
   "outputs": [],
   "source": []
  },
  {
   "cell_type": "code",
   "execution_count": 50,
   "metadata": {
    "scrolled": false
   },
   "outputs": [],
   "source": [
    "gr = hamu.pairs_to_gr(pairs_cl, len(cl_to_n))"
   ]
  },
  {
   "cell_type": "code",
   "execution_count": 51,
   "metadata": {},
   "outputs": [],
   "source": [
    "np.save(\"./13\", gr)"
   ]
  },
  {
   "cell_type": "code",
   "execution_count": 53,
   "metadata": {},
   "outputs": [],
   "source": [
    "import pickle"
   ]
  },
  {
   "cell_type": "code",
   "execution_count": 54,
   "metadata": {},
   "outputs": [],
   "source": [
    "pickle.dump(cl_to_n, open(\"./13_cl_to_n\", 'wb'))\n",
    "pickle.dump(answ, open(\"./13_nd\", 'wb'))"
   ]
  },
  {
   "cell_type": "code",
   "execution_count": 58,
   "metadata": {},
   "outputs": [
    {
     "data": {
      "image/png": "[encoded data removed]",
      "text/plain": [
       "<matplotlib.figure.Figure at 0x7f8f18dd0e10>"
      ]
     },
     "metadata": {},
     "output_type": "display_data"
    }
   ],
   "source": [
    "pu.plot_gr(gr[:40, :40], log =1)"
   ]
  },
  {
   "cell_type": "code",
   "execution_count": 59,
   "metadata": {},
   "outputs": [],
   "source": [
    "arrays, weights = hamu.restore_arrays(gr)"
   ]
  },
  {
   "cell_type": "code",
   "execution_count": 60,
   "metadata": {},
   "outputs": [
    {
     "data": {
      "text/plain": [
       "[[9525.0,\n",
       "  6473.0,\n",
       "  14240.0,\n",
       "  6664.0,\n",
       "  3075.0,\n",
       "  1631.0,\n",
       "  6450.0,\n",
       "  5908.0,\n",
       "  28595.0,\n",
       "  11228.0,\n",
       "  4811.0,\n",
       "  3908.0,\n",
       "  4357.0,\n",
       "  15676.0,\n",
       "  8721.0,\n",
       "  3697.0],\n",
       " [16996.0,\n",
       "  8923.0,\n",
       "  6437.0,\n",
       "  17285.0,\n",
       "  6334.0,\n",
       "  5767.0,\n",
       "  9980.0,\n",
       "  7881.0,\n",
       "  9485.0,\n",
       "  13099.0,\n",
       "  14567.0,\n",
       "  8048.0,\n",
       "  9510.0,\n",
       "  2444.0],\n",
       " [12051.0, 5593.0, 7841.0, 4714.0, 7276.0],\n",
       " [2654.0,\n",
       "  5111.0,\n",
       "  6158.0,\n",
       "  5990.0,\n",
       "  3789.0,\n",
       "  10408.0,\n",
       "  6557.0,\n",
       "  6916.0,\n",
       "  4572.0,\n",
       "  1153.0,\n",
       "  2245.0,\n",
       "  214.0],\n",
       " [2066.0, 10142.0],\n",
       " [2493.0,\n",
       "  4519.0,\n",
       "  7590.0,\n",
       "  8408.0,\n",
       "  6564.0,\n",
       "  6134.0,\n",
       "  9700.0,\n",
       "  6091.0,\n",
       "  2579.0,\n",
       "  3387.0],\n",
       " [2340.0,\n",
       "  1290.0,\n",
       "  1547.0,\n",
       "  3121.0,\n",
       "  1618.0,\n",
       "  3509.0,\n",
       "  2656.0,\n",
       "  3272.0,\n",
       "  2448.0,\n",
       "  1423.0,\n",
       "  3603.0,\n",
       "  89.0,\n",
       "  8901.0],\n",
       " [3791.0,\n",
       "  4105.0,\n",
       "  2758.0,\n",
       "  3033.0,\n",
       "  1942.0,\n",
       "  1779.0,\n",
       "  4004.0,\n",
       "  915.0,\n",
       "  6247.0,\n",
       "  2449.0,\n",
       "  4791.0,\n",
       "  3150.0,\n",
       "  4174.0,\n",
       "  5200.0,\n",
       "  779.0,\n",
       "  634.0,\n",
       "  1697.0,\n",
       "  2432.0,\n",
       "  4768.0,\n",
       "  3752.0,\n",
       "  4579.0,\n",
       "  2835.0],\n",
       " [3796.0, 1322.0, 1711.0, 1782.0, 2360.0],\n",
       " [1767.0,\n",
       "  1011.0,\n",
       "  362.0,\n",
       "  1991.0,\n",
       "  1661.0,\n",
       "  2687.0,\n",
       "  1144.0,\n",
       "  1310.0,\n",
       "  2614.0,\n",
       "  3264.0,\n",
       "  1240.0,\n",
       "  539.0],\n",
       " [1879.0, 3184.0, 2951.0, 2909.0, 2054.0, 2397.0, 2820.0],\n",
       " [2964.0, 1625.0, 2265.0, 3139.0],\n",
       " [405.0, 2685.0, 2720.0, 1084.0, 1255.0, 2709.0, 1559.0, 3018.0, 2936.0],\n",
       " [1919.0, 1561.0, 2223.0],\n",
       " [962.0,\n",
       "  739.0,\n",
       "  237.0,\n",
       "  1423.0,\n",
       "  157.0,\n",
       "  2.0,\n",
       "  4.0,\n",
       "  270.0,\n",
       "  742.0,\n",
       "  1752.0,\n",
       "  530.0,\n",
       "  485.0,\n",
       "  1292.0],\n",
       " [1076.0, 632.0, 13.0],\n",
       " [500.0, 339.0, 336.0, 260.0, 112.0, 101.0, 42.0, 21.0],\n",
       " [319.0],\n",
       " [4.0],\n",
       " [2.0],\n",
       " [2.0],\n",
       " [2.0],\n",
       " [1.0],\n",
       " [1.0],\n",
       " [1.0],\n",
       " [1.0],\n",
       " [1.0],\n",
       " [1.0],\n",
       " [1.0],\n",
       " [1.0, 1.0],\n",
       " [1.0],\n",
       " [1.0],\n",
       " [1.0],\n",
       " [1.0],\n",
       " [1.0]]"
      ]
     },
     "execution_count": 60,
     "metadata": {},
     "output_type": "execute_result"
    }
   ],
   "source": [
    "weights"
   ]
  },
  {
   "cell_type": "code",
   "execution_count": null,
   "metadata": {},
   "outputs": [],
   "source": []
  },
  {
   "cell_type": "code",
   "execution_count": 64,
   "metadata": {},
   "outputs": [],
   "source": [
    "mean_weights = [np.mean(x) for x in weights]"
   ]
  },
  {
   "cell_type": "code",
   "execution_count": 66,
   "metadata": {},
   "outputs": [],
   "source": [
    "lens = [len(x) for x in arrays]"
   ]
  },
  {
   "cell_type": "code",
   "execution_count": 70,
   "metadata": {},
   "outputs": [],
   "source": [
    "import matplotlib.pyplot as plt"
   ]
  },
  {
   "cell_type": "code",
   "execution_count": 71,
   "metadata": {},
   "outputs": [
    {
     "data": {
      "text/plain": [
       "<Container object of 18 artists>"
      ]
     },
     "execution_count": 71,
     "metadata": {},
     "output_type": "execute_result"
    },
    {
     "data": {
      "image/png": "[encoded data removed]",
      "text/plain": [
       "<matplotlib.figure.Figure at 0x7f8f18dca588>"
      ]
     },
     "metadata": {},
     "output_type": "display_data"
    }
   ],
   "source": [
    "plt.bar(np.arange(18), mean_weights[:18])"
   ]
  },
  {
   "cell_type": "code",
   "execution_count": 67,
   "metadata": {},
   "outputs": [
    {
     "data": {
      "text/plain": [
       "[17,\n",
       " 15,\n",
       " 6,\n",
       " 13,\n",
       " 3,\n",
       " 11,\n",
       " 14,\n",
       " 23,\n",
       " 6,\n",
       " 13,\n",
       " 8,\n",
       " 5,\n",
       " 10,\n",
       " 4,\n",
       " 14,\n",
       " 4,\n",
       " 9,\n",
       " 2,\n",
       " 2,\n",
       " 2,\n",
       " 2,\n",
       " 2,\n",
       " 2,\n",
       " 2,\n",
       " 2,\n",
       " 2,\n",
       " 2,\n",
       " 2,\n",
       " 2,\n",
       " 3,\n",
       " 2,\n",
       " 2,\n",
       " 2,\n",
       " 2,\n",
       " 2]"
      ]
     },
     "execution_count": 67,
     "metadata": {},
     "output_type": "execute_result"
    }
   ],
   "source": [
    "lens"
   ]
  },
  {
   "cell_type": "code",
   "execution_count": null,
   "metadata": {},
   "outputs": [],
   "source": []
  },
  {
   "cell_type": "code",
   "execution_count": 19,
   "metadata": {},
   "outputs": [
    {
     "name": "stdout",
     "output_type": "stream",
     "text": [
      "GACAGAACGGCCTCAGTAGTCTCGTCAGGCTC\n",
      "CTGTTTTCGCAAATCTATGGACTATTGCTAT\n",
      "GGGCGCACGGAATACAAAGCCGTGTATCTGC\n",
      "TGGCTCTGCAACAGCAGCACCCATGACCACG\n",
      "GAAATGCTGGTGAGCGTTAATGCCGCAAACAC\n"
     ]
    }
   ],
   "source": [
    "for i in arrays[0][:5]:\n",
    "    print(n_to_cl[i])"
   ]
  },
  {
   "cell_type": "code",
   "execution_count": 20,
   "metadata": {},
   "outputs": [
    {
     "name": "stdout",
     "output_type": "stream",
     "text": [
      "ACACGCCCTTATCAAATAGCTGTGATTTACCT\n",
      "ATAGACCCCGAACAACAATACGCGCAAACCG\n",
      "TACCGTACAGACTGCCGGATATTATTTTTTT\n",
      "CTGCTGCTCGAGCTGGTGGAGTGCTGCTATA\n",
      "AACGTCAGGTTGTCGCCGCTCTGCGTGGTCGC\n"
     ]
    }
   ],
   "source": [
    "for i in arrays[1][:5]:\n",
    "    print(n_to_cl[i])"
   ]
  },
  {
   "cell_type": "code",
   "execution_count": null,
   "metadata": {},
   "outputs": [],
   "source": [
    "for a,b in zip(arrays[1], arrays[1][1:]):\n",
    "    "
   ]
  },
  {
   "cell_type": "code",
   "execution_count": 13,
   "metadata": {},
   "outputs": [
    {
     "data": {
      "text/plain": [
       "'GACAGAACGGCCTCAGTAGTCTCGTCAGGCTC'"
      ]
     },
     "execution_count": 13,
     "metadata": {},
     "output_type": "execute_result"
    }
   ],
   "source": [
    "n_to_cl[0]"
   ]
  },
  {
   "cell_type": "code",
   "execution_count": 15,
   "metadata": {},
   "outputs": [
    {
     "data": {
      "text/plain": [
       "'ATAGACCCCGAACAACAATACGCGCAAACCG'"
      ]
     },
     "execution_count": 15,
     "metadata": {},
     "output_type": "execute_result"
    }
   ],
   "source": [
    "n_to_cl[20]"
   ]
  },
  {
   "cell_type": "code",
   "execution_count": null,
   "metadata": {},
   "outputs": [],
   "source": []
  }
 ],
 "metadata": {
  "kernelspec": {
   "display_name": "Python 3",
   "language": "python",
   "name": "python3"
  },
  "language_info": {
   "codemirror_mode": {
    "name": "ipython",
    "version": 3
   },
   "file_extension": ".py",
   "mimetype": "text/x-python",
   "name": "python",
   "nbconvert_exporter": "python",
   "pygments_lexer": "ipython3",
   "version": "3.6.3"
  }
 },
 "nbformat": 4,
 "nbformat_minor": 2
}
