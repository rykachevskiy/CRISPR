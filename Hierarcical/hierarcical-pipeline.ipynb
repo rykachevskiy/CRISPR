{
 "cells": [
  {
   "cell_type": "code",
   "execution_count": 1,
   "metadata": {},
   "outputs": [],
   "source": [
    "import editdistance as ed\n",
    "import numpy as np\n",
    "import networkx as nx\n",
    "\n",
    "import matplotlib.pyplot as plt\n",
    "\n",
    "from tqdm import tqdm_notebook\n",
    "\n",
    "from collections import Counter, OrderedDict\n",
    "\n",
    "import pickle"
   ]
  },
  {
   "cell_type": "code",
   "execution_count": 2,
   "metadata": {},
   "outputs": [],
   "source": [
    "def find_closest(d, init_item, t):\n",
    "    min_ed = t\n",
    "    answ_item = [-1, -1]\n",
    "    for comp_item in d.items():\n",
    "        dist = ed.eval(init_item, comp_item[0])\n",
    "        if dist < min_ed:\n",
    "            min_ed = dist\n",
    "            answ_item = comp_item\n",
    "\n",
    "    return min_ed, answ_item"
   ]
  },
  {
   "cell_type": "code",
   "execution_count": 3,
   "metadata": {},
   "outputs": [],
   "source": [
    "def squash(od, t, verbose =False):\n",
    "    answ = OrderedDict()\n",
    "    sp_to_n = {}\n",
    "    index = 0\n",
    "    \n",
    "    for init_item in tqdm_notebook(od.items()):\n",
    "        #ord_dict.pop(init_item[0])\n",
    "\n",
    "        if len(answ) == 0 :\n",
    "            print(\"new spacer:\", init_item[0], init_item[1])\n",
    "            answ[init_item[0]] = init_item[1]\n",
    "            sp_to_n[init_item[0]] = index\n",
    "            index += 1\n",
    "        else:\n",
    "            min_ed, answ_item = find_closest(answ, init_item[0], t)\n",
    "            if min_ed < t:\n",
    "                answ[answ_item[0]] += init_item[1]\n",
    "                sp_to_n[init_item[0]] = sp_to_n[answ_item[0]]\n",
    "                if verbose: print(\"add:\", init_item[0], \"to\", answ_item[0], answ[answ_item[0]])\n",
    "            else:\n",
    "                sp_to_n[init_item[0]] = index\n",
    "                index += 1\n",
    "                answ[init_item[0]] = init_item[1]\n",
    "                if verbose: print(\"new spacer:\", init_item[0], init_item[1])\n",
    "    return answ, sp_to_n\n",
    "\n",
    "            "
   ]
  },
  {
   "cell_type": "code",
   "execution_count": 4,
   "metadata": {},
   "outputs": [],
   "source": [
    "def process_pair(pair, cl_to_num, t = 6):\n",
    "    try:\n",
    "        return [cl_to_n[find_closest(cl_to_num, pair[0], t)[1][0]], cl_to_n[find_closest(cl_to_num, pair[1], t)[1][0]]]\n",
    "    except:\n",
    "        return [-1, -1]"
   ]
  },
  {
   "cell_type": "code",
   "execution_count": 7,
   "metadata": {},
   "outputs": [],
   "source": [
    "LEN = 22"
   ]
  },
  {
   "cell_type": "code",
   "execution_count": null,
   "metadata": {},
   "outputs": [],
   "source": []
  },
  {
   "cell_type": "code",
   "execution_count": 22,
   "metadata": {},
   "outputs": [
    {
     "name": "stdout",
     "output_type": "stream",
     "text": [
      "127124\n"
     ]
    }
   ],
   "source": [
    "# pairs_path = \"../../data/ES/ES3_R1_pairs.txt\"\n",
    "# lines_path = \"../../data/ES/ES3_R1_spacers.txt\"\n",
    "\n",
    "# pairs_path = \"../data/ES/ES4_R1_pairs.txt\"\n",
    "# lines_path = \"../data/ES/ES4_R1_spacers.txt\"\n",
    "\n",
    "# pairs_path = \"../data/ES/ES5_R1_pairs.txt\"\n",
    "# lines_path = \"../data/ES/ES5_R1_spacers.txt\"\n",
    "\n",
    "#pairs_path = \"../data/SlO_15/SlO1_R1_pairs_15.txt\"\n",
    "#lines_path = \"../data/SlO_15/SlO1_R1_spacers_15.txt\"\n",
    "\n",
    "pairs_path = \"../../data/Sasha/Sasha1_pairs.txt\"\n",
    "lines_path = \"../../data/Sasha/Sasha1.fasta\"\n",
    "\n",
    "#pairs_path = \"../data/Thermus/III/Vesuvius (1)_III_pairs.txt\"\n",
    "#lines_path = \"../data/Thermus/III/Vesuvius (1).III.txt\"\n",
    "\n",
    "with open(lines_path) as f:\n",
    "    lines = [x[:LEN] for x in f.readlines()][1::] #CAREFULLLL\n",
    "\n",
    "with open(pairs_path) as f:\n",
    "    pairs = [[y[:LEN] for y in x[:-2].split(' ') ] for x in f.readlines()]\n",
    "\n",
    "lines = []\n",
    "for p in pairs:\n",
    "    lines.append(p[0])\n",
    "    lines.append(p[1])\n",
    "    \n",
    "print(len(lines))"
   ]
  },
  {
   "cell_type": "code",
   "execution_count": 23,
   "metadata": {},
   "outputs": [
    {
     "name": "stdout",
     "output_type": "stream",
     "text": [
      "127124\n"
     ]
    }
   ],
   "source": [
    "print(len(pairs) * 2)"
   ]
  },
  {
   "cell_type": "code",
   "execution_count": 24,
   "metadata": {},
   "outputs": [],
   "source": [
    "counter = Counter(lines)\n",
    "ord_dict = OrderedDict()\n",
    "\n",
    "u_lines = []\n",
    "counts = []\n",
    "for item in counter.items():\n",
    "    u_lines.append(item[0])\n",
    "    counts.append(item[1])\n",
    "    \n",
    "u_lines = np.array(u_lines)\n",
    "counts = np.array(counts)\n",
    "\n",
    "args_s = np.argsort(counts)[::-1]\n",
    "\n",
    "for l, c in zip(u_lines[args_s], counts[args_s]):\n",
    "    ord_dict[l] = c\n"
   ]
  },
  {
   "cell_type": "code",
   "execution_count": 25,
   "metadata": {},
   "outputs": [
    {
     "data": {
      "application/vnd.jupyter.widget-view+json": {
       "model_id": "7babb9ae2da14a6688ffffebb99cbe3f",
       "version_major": 2,
       "version_minor": 0
      },
      "text/plain": [
       "A Jupyter Widget"
      ]
     },
     "metadata": {},
     "output_type": "display_data"
    },
    {
     "name": "stdout",
     "output_type": "stream",
     "text": [
      "new spacer: GGTGATAGTGGAAGTTTTACTT 10096\n",
      "\n"
     ]
    }
   ],
   "source": [
    "sp_to_n = {}\n",
    "\n",
    "nd, sp_to_n = squash(ord_dict, 6)\n",
    "\n",
    "cl_to_n = {}\n",
    "n_to_clust = {}\n",
    "for i, it in enumerate(nd.items()):\n",
    "    cl_to_n[it[0]] = i\n",
    "    n_to_clust[i] = it[0]"
   ]
  },
  {
   "cell_type": "code",
   "execution_count": 26,
   "metadata": {
    "scrolled": true
   },
   "outputs": [
    {
     "data": {
      "text/plain": [
       "80"
      ]
     },
     "execution_count": 26,
     "metadata": {},
     "output_type": "execute_result"
    }
   ],
   "source": [
    "len(cl_to_n)"
   ]
  },
  {
   "cell_type": "code",
   "execution_count": 27,
   "metadata": {},
   "outputs": [
    {
     "data": {
      "text/plain": [
       "63562"
      ]
     },
     "execution_count": 27,
     "metadata": {},
     "output_type": "execute_result"
    }
   ],
   "source": [
    "len(pairs)\n"
   ]
  },
  {
   "cell_type": "code",
   "execution_count": 28,
   "metadata": {},
   "outputs": [
    {
     "data": {
      "application/vnd.jupyter.widget-view+json": {
       "model_id": "b855db63ed8f4d59b663bef619769379",
       "version_major": 2,
       "version_minor": 0
      },
      "text/plain": [
       "A Jupyter Widget"
      ]
     },
     "metadata": {},
     "output_type": "display_data"
    },
    {
     "name": "stdout",
     "output_type": "stream",
     "text": [
      "\n"
     ]
    }
   ],
   "source": [
    "pairs_n = [process_pair(p, cl_to_n) for p in tqdm_notebook(pairs)]"
   ]
  },
  {
   "cell_type": "code",
   "execution_count": 29,
   "metadata": {
    "scrolled": false
   },
   "outputs": [
    {
     "data": {
      "text/plain": [
       "0"
      ]
     },
     "execution_count": 29,
     "metadata": {},
     "output_type": "execute_result"
    }
   ],
   "source": [
    "graph = np.zeros((len(cl_to_n),len(cl_to_n)))\n",
    "\n",
    "err = 0\n",
    "for p in pairs_n:\n",
    "    if len(p) == 2 and sum(p) != -2:\n",
    "        graph[p[0]][p[1]] += 1  \n",
    "        #graph[p[1]][p[0]] +=1\n",
    "    else:\n",
    "        err += 1\n",
    "err"
   ]
  },
  {
   "cell_type": "code",
   "execution_count": 31,
   "metadata": {
    "scrolled": false
   },
   "outputs": [
    {
     "data": {
      "image/png": "[encoded data removed]",
      "text/plain": [
       "<matplotlib.figure.Figure at 0x7f8841b47080>"
      ]
     },
     "metadata": {},
     "output_type": "display_data"
    }
   ],
   "source": [
    "plt.figure(figsize=(10,10))\n",
    "plt.imshow(np.log(graph+1))\n",
    "plt.show()"
   ]
  },
  {
   "cell_type": "code",
   "execution_count": 21,
   "metadata": {},
   "outputs": [
    {
     "data": {
      "text/plain": [
       "array([10284, 19559,  5495,  4218, 10761,  3242,  3342,  3380,  2544,\n",
       "        2156,  1486,    10,  2049,  1384,  1461,   876,     7,  1098,\n",
       "         142,   297,   124,    88,   105,    82,    23,    46,    61,\n",
       "          71,    65,     1,    54,    41,    34,    21,     0,     0,\n",
       "           0,     1,     9,     0,     0,     1,     0,     0,     0,\n",
       "           1,     1,     0,     1,     1,     0,     1,     0,     0,\n",
       "           0,     0,     2,     1,     1])"
      ]
     },
     "execution_count": 21,
     "metadata": {},
     "output_type": "execute_result"
    }
   ],
   "source": [
    "graph.sum(1).astype(int)"
   ]
  },
  {
   "cell_type": "code",
   "execution_count": 15,
   "metadata": {
    "collapsed": true
   },
   "outputs": [],
   "source": [
    "# pickle.dump(nd, open(\"../data/dicts/Vesuvious_III_counts_22\", 'wb'))\n",
    "# pickle.dump(sp_to_n, open(\"../data/dicts/Vesuvious_III_sp_to_n_22\", 'wb'))\n",
    "# pickle.dump(n_to_clust, open(\"../data/dicts/Vesuvious_III_n_to_cl_22\", 'wb'))"
   ]
  },
  {
   "cell_type": "code",
   "execution_count": 96,
   "metadata": {},
   "outputs": [
    {
     "data": {
      "text/plain": [
       "71.32494969818913"
      ]
     },
     "execution_count": 96,
     "metadata": {},
     "output_type": "execute_result"
    }
   ],
   "source": [
    "graph[:17, : 17].sum() / graph[17:35,17:35].sum() "
   ]
  },
  {
   "cell_type": "code",
   "execution_count": 97,
   "metadata": {
    "collapsed": true
   },
   "outputs": [],
   "source": [
    "big_w = graph[np.arange(graph.shape[0]),graph.argmax(1)].astype(int)"
   ]
  },
  {
   "cell_type": "code",
   "execution_count": 98,
   "metadata": {},
   "outputs": [
    {
     "data": {
      "text/plain": [
       "28.799635701275047"
      ]
     },
     "execution_count": 98,
     "metadata": {},
     "output_type": "execute_result"
    }
   ],
   "source": [
    "big_w[:17].sum() / (big_w[17:35].sum() + 200)"
   ]
  },
  {
   "cell_type": "code",
   "execution_count": 100,
   "metadata": {},
   "outputs": [
    {
     "data": {
      "text/plain": [
       "array([ 3,  0,  5,  6,  2,  7,  8, 11,  9, 10, 13,  0, 16, 14, 15, 17, 10])"
      ]
     },
     "execution_count": 100,
     "metadata": {},
     "output_type": "execute_result"
    }
   ],
   "source": [
    "graph.argmax(1)[:17]"
   ]
  },
  {
   "cell_type": "code",
   "execution_count": null,
   "metadata": {
    "collapsed": true
   },
   "outputs": [],
   "source": []
  }
 ],
 "metadata": {
  "kernelspec": {
   "display_name": "Python 3",
   "language": "python",
   "name": "python3"
  },
  "language_info": {
   "codemirror_mode": {
    "name": "ipython",
    "version": 3
   },
   "file_extension": ".py",
   "mimetype": "text/x-python",
   "name": "python",
   "nbconvert_exporter": "python",
   "pygments_lexer": "ipython3",
   "version": "3.6.3"
  }
 },
 "nbformat": 4,
 "nbformat_minor": 2
}
