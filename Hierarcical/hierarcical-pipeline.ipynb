{
 "cells": [
  {
   "cell_type": "code",
   "execution_count": 1,
   "metadata": {},
   "outputs": [],
   "source": [
    "import editdistance as ed\n",
    "import numpy as np\n",
    "import networkx as nx\n",
    "\n",
    "import matplotlib.pyplot as plt\n",
    "\n",
    "from tqdm import tqdm_notebook\n",
    "\n",
    "from collections import Counter, OrderedDict\n",
    "\n",
    "import pickle"
   ]
  },
  {
   "cell_type": "code",
   "execution_count": 2,
   "metadata": {},
   "outputs": [],
   "source": [
    "def find_closest(d, init_item, t):\n",
    "    min_ed = t\n",
    "    answ_item = [-1, -1]\n",
    "    for comp_item in d.items():\n",
    "        dist = ed.eval(init_item, comp_item[0])\n",
    "        if dist < min_ed:\n",
    "            min_ed = dist\n",
    "            answ_item = comp_item\n",
    "\n",
    "    return min_ed, answ_item"
   ]
  },
  {
   "cell_type": "code",
   "execution_count": 3,
   "metadata": {},
   "outputs": [],
   "source": [
    "def squash(od, t, verbose =False):\n",
    "    answ = OrderedDict()\n",
    "    sp_to_n = {}\n",
    "    index = 0\n",
    "    \n",
    "    for init_item in tqdm_notebook(od.items()):\n",
    "        #ord_dict.pop(init_item[0])\n",
    "\n",
    "        if len(answ) == 0 :\n",
    "            print(\"new spacer:\", init_item[0], init_item[1])\n",
    "            answ[init_item[0]] = init_item[1]\n",
    "            sp_to_n[init_item[0]] = index\n",
    "            index += 1\n",
    "        else:\n",
    "            min_ed, answ_item = find_closest(answ, init_item[0], t)\n",
    "            if min_ed < t:\n",
    "                answ[answ_item[0]] += init_item[1]\n",
    "                sp_to_n[init_item[0]] = sp_to_n[answ_item[0]]\n",
    "                if verbose: print(\"add:\", init_item[0], \"to\", answ_item[0], answ[answ_item[0]])\n",
    "            else:\n",
    "                sp_to_n[init_item[0]] = index\n",
    "                index += 1\n",
    "                answ[init_item[0]] = init_item[1]\n",
    "                if verbose: print(\"new spacer:\", init_item[0], init_item[1])\n",
    "    return answ, sp_to_n\n",
    "\n",
    "            "
   ]
  },
  {
   "cell_type": "code",
   "execution_count": 4,
   "metadata": {},
   "outputs": [],
   "source": [
    "def process_pair(pair, cl_to_num, t = 6):\n",
    "    try:\n",
    "        return [cl_to_n[find_closest(cl_to_num, pair[0], t)[1][0]], cl_to_n[find_closest(cl_to_num, pair[1], t)[1][0]]]\n",
    "    except:\n",
    "        return [-1, -1]"
   ]
  },
  {
   "cell_type": "code",
   "execution_count": 5,
   "metadata": {},
   "outputs": [],
   "source": [
    "LEN = 1000"
   ]
  },
  {
   "cell_type": "code",
   "execution_count": null,
   "metadata": {},
   "outputs": [],
   "source": []
  },
  {
   "cell_type": "code",
   "execution_count": 21,
   "metadata": {},
   "outputs": [
    {
     "name": "stdout",
     "output_type": "stream",
     "text": [
      "149254\n"
     ]
    }
   ],
   "source": [
    "pairs_path = \"../../data/ES/ES3_R1_pairs.txt\"\n",
    "lines_path = \"../../data/ES/ES3_R1_spacers.txt\"\n",
    "\n",
    "# pairs_path = \"../../data/ES/ES2_R1_pairs.txt\"\n",
    "# lines_path = \"../../data/ES/ES2_R1_spacers.txt\"\n",
    "\n",
    "# pairs_path = \"../data/ES/ES5_R1_pairs.txt\"\n",
    "# lines_path = \"../data/ES/ES5_R1_spacers.txt\"\n",
    "\n",
    "# pairs_path = \"../../data/SlO_10/SlO1_R1_pairs_10.txt\"\n",
    "# lines_path = \"../../data/SlO_10/SlO1_R1_spacers_10.txt\"\n",
    "\n",
    "# pairs_path = \"../../data/Sasha/Sasha1_pairs.txt\"\n",
    "# lines_path = \"../../data/Sasha/Sasha1.fasta\"\n",
    "\n",
    "#pairs_path = \"../data/Thermus/III/Vesuvius (1)_III_pairs.txt\"\n",
    "#lines_path = \"../data/Thermus/III/Vesuvius (1).III.txt\"\n",
    "\n",
    "with open(lines_path) as f:\n",
    "    lines = [x[:LEN] for x in f.readlines()][1::] #CAREFULLLL\n",
    "\n",
    "with open(pairs_path) as f:\n",
    "    pairs = [[y[:LEN] for y in x[:-2].split(' ') ] for x in f.readlines()]\n",
    "\n",
    "lines = []\n",
    "for p in pairs:\n",
    "    lines.append(p[0])\n",
    "    lines.append(p[1])\n",
    "    \n",
    "print(len(lines))"
   ]
  },
  {
   "cell_type": "code",
   "execution_count": 22,
   "metadata": {},
   "outputs": [
    {
     "data": {
      "text/plain": [
       "74627"
      ]
     },
     "execution_count": 22,
     "metadata": {},
     "output_type": "execute_result"
    }
   ],
   "source": [
    "len(pairs)"
   ]
  },
  {
   "cell_type": "code",
   "execution_count": null,
   "metadata": {},
   "outputs": [],
   "source": []
  },
  {
   "cell_type": "code",
   "execution_count": 23,
   "metadata": {},
   "outputs": [
    {
     "data": {
      "text/plain": [
       "(array([1.1000e+01, 5.6592e+04, 9.2622e+04, 6.0000e+00, 4.0000e+00,\n",
       "        9.0000e+00, 4.0000e+00, 4.0000e+00, 0.0000e+00, 2.0000e+00]),\n",
       " array([25. , 28.2, 31.4, 34.6, 37.8, 41. , 44.2, 47.4, 50.6, 53.8, 57. ]),\n",
       " <a list of 10 Patch objects>)"
      ]
     },
     "execution_count": 23,
     "metadata": {},
     "output_type": "execute_result"
    },
    {
     "data": {
      "image/png": "[encoded data removed]",
      "text/plain": [
       "<matplotlib.figure.Figure at 0x7f1b96cfcb38>"
      ]
     },
     "metadata": {},
     "output_type": "display_data"
    }
   ],
   "source": [
    "plt.hist([len(x) for x  in lines], bins=10, log=1)"
   ]
  },
  {
   "cell_type": "code",
   "execution_count": null,
   "metadata": {},
   "outputs": [],
   "source": []
  },
  {
   "cell_type": "code",
   "execution_count": 24,
   "metadata": {},
   "outputs": [],
   "source": [
    "counter = Counter(lines)\n",
    "ord_dict = OrderedDict()\n",
    "\n",
    "u_lines = []\n",
    "counts = []\n",
    "for item in counter.items():\n",
    "    u_lines.append(item[0])\n",
    "    counts.append(item[1])\n",
    "    \n",
    "u_lines = np.array(u_lines)\n",
    "counts = np.array(counts)\n",
    "\n",
    "args_s = np.argsort(counts)[::-1]\n",
    "\n",
    "for l, c in zip(u_lines[args_s], counts[args_s]):\n",
    "    ord_dict[l] = c\n"
   ]
  },
  {
   "cell_type": "code",
   "execution_count": 25,
   "metadata": {
    "scrolled": false
   },
   "outputs": [
    {
     "data": {
      "application/vnd.jupyter.widget-view+json": {
       "model_id": "5ab78fbf32b44a94a429c516b3f88122",
       "version_major": 2,
       "version_minor": 0
      },
      "text/plain": [
       "A Jupyter Widget"
      ]
     },
     "metadata": {},
     "output_type": "display_data"
    },
    {
     "name": "stdout",
     "output_type": "stream",
     "text": [
      "new spacer: GACAGAACGGCCTCAGTAGTCTCGTCAGGCTC 18749\n",
      "\n"
     ]
    }
   ],
   "source": [
    "sp_to_n = {}\n",
    "\n",
    "nd, sp_to_n = squash(ord_dict, 6)\n",
    "\n",
    "cl_to_n = {}\n",
    "n_to_clust = {}\n",
    "for i, it in enumerate(nd.items()):\n",
    "    cl_to_n[it[0]] = i\n",
    "    n_to_clust[i] = it[0]"
   ]
  },
  {
   "cell_type": "code",
   "execution_count": 73,
   "metadata": {},
   "outputs": [
    {
     "data": {
      "text/plain": [
       "array(['GACAGAACGGCCTCAGTAGTCTCGTCAGGCTC',\n",
       "       'ACACGCCCTTATCAAATAGCTGTGATTTACCT',\n",
       "       'CAAGTGATATCCATCATCGCATCCAGTGCGCC', ...,\n",
       "       'ATATATCAGAGCAAAAAACATAGCCACAGCCA',\n",
       "       'CATAAAGAAACTATTTTTGCGTTTCGTTCAGG',\n",
       "       'ATAGACCCCGAACAACAATTCGCGCAAACCGA'], dtype='<U57')"
      ]
     },
     "execution_count": 73,
     "metadata": {},
     "output_type": "execute_result"
    }
   ],
   "source": [
    "u_lines[np.argsort(counts)[::-1]]"
   ]
  },
  {
   "cell_type": "code",
   "execution_count": 12,
   "metadata": {},
   "outputs": [
    {
     "data": {
      "text/plain": [
       "<module 'matplotlib.pyplot' from '/home/anton/anaconda3/lib/python3.6/site-packages/matplotlib/pyplot.py'>"
      ]
     },
     "execution_count": 12,
     "metadata": {},
     "output_type": "execute_result"
    },
    {
     "data": {
      "image/png": "[encoded data removed]",
      "text/plain": [
       "<matplotlib.figure.Figure at 0x7f4b441b9438>"
      ]
     },
     "metadata": {},
     "output_type": "display_data"
    }
   ],
   "source": [
    "for i in range(50):\n",
    "    _ = plt.hist([ed.eval(x, u_lines[i]) for x in u_lines], bins = 20, alpha = 0.5)\n",
    "    \n",
    "plt"
   ]
  },
  {
   "cell_type": "code",
   "execution_count": null,
   "metadata": {},
   "outputs": [],
   "source": []
  },
  {
   "cell_type": "code",
   "execution_count": null,
   "metadata": {},
   "outputs": [],
   "source": []
  },
  {
   "cell_type": "code",
   "execution_count": null,
   "metadata": {},
   "outputs": [],
   "source": []
  },
  {
   "cell_type": "code",
   "execution_count": 49,
   "metadata": {},
   "outputs": [],
   "source": [
    "counts_ES1 = counts\n"
   ]
  },
  {
   "cell_type": "code",
   "execution_count": 106,
   "metadata": {},
   "outputs": [
    {
     "data": {
      "application/vnd.jupyter.widget-view+json": {
       "model_id": "3c639dd98194450797ba27b775d46c2c",
       "version_major": 2,
       "version_minor": 0
      },
      "text/plain": [
       "A Jupyter Widget"
      ]
     },
     "metadata": {},
     "output_type": "display_data"
    },
    {
     "name": "stdout",
     "output_type": "stream",
     "text": [
      "\n"
     ]
    },
    {
     "data": {
      "text/plain": [
       "Text(0.5,0,'Editdistance')"
      ]
     },
     "execution_count": 106,
     "metadata": {},
     "output_type": "execute_result"
    },
    {
     "data": {
      "image/png": "[encoded data removed]",
      "text/plain": [
       "<matplotlib.figure.Figure at 0x7fd05c37d5c0>"
      ]
     },
     "metadata": {},
     "output_type": "display_data"
    }
   ],
   "source": [
    "#plt.figure(figsize = (10, 5))\n",
    "f, (ax1, ax2, ax3) = plt.subplots(1,3,figsize = (18,4))#, sharey = True)\n",
    "\n",
    "\n",
    "ax1.plot(sorted(np.log(counts_ES1 + 1))[::-1], label = 'E.coli.1.1')\n",
    "ax1.plot(sorted(np.log(counts + 1))[::-1], label = 'E.coli.2.1')\n",
    "\n",
    "\n",
    "ax2.plot(sorted(np.log(counts_ES1 + 1)[:100])[::-1], label = 'E.coli.1.1')\n",
    "ax2.plot(sorted(np.log(counts + 1)[:100])[::-1], label = 'E.coli.2.1')\n",
    "#ax2.tick_params()\n",
    "\n",
    "plt.sca(ax2)\n",
    "_ = plt.xticks(np.arange(0, 100, 10))\n",
    "plt.xlabel(\"Spacer Number\")\n",
    "plt.ylabel(\"Log ocurences\")\n",
    "plt.legend()\n",
    "plt.title(\"B\")\n",
    "plt.tick_params(labelsize = 14)\n",
    "\n",
    "plt.sca(ax1)\n",
    "#_ = plt.xticks(np.arange(0, 100, 5))\n",
    "plt.xlabel(\"Spacer Number\")\n",
    "plt.ylabel(\"Log ocurences\")\n",
    "plt.legend()\n",
    "plt.title(\"A\")\n",
    "plt.tick_params(labelsize = 14)\n",
    "\n",
    "plt.sca(ax3)\n",
    "for i in tqdm_notebook(range(87, 90)):\n",
    "    _ = plt.hist([ed.eval(x, u_lines[i]) for x in u_lines], bins = 20, alpha = 0.5, normed=1)\n",
    "plt.tick_params(labelsize = 14)\n",
    "plt.title(\"C\")\n",
    "plt.xlabel(\"Editdistance\")"
   ]
  },
  {
   "cell_type": "code",
   "execution_count": 110,
   "metadata": {},
   "outputs": [
    {
     "data": {
      "text/plain": [
       "'AGTGCTGGACCATTTCAAATAGCTGTGATTTACCT'"
      ]
     },
     "execution_count": 110,
     "metadata": {},
     "output_type": "execute_result"
    }
   ],
   "source": [
    "u_lines[87]"
   ]
  },
  {
   "cell_type": "code",
   "execution_count": 109,
   "metadata": {},
   "outputs": [
    {
     "data": {
      "text/plain": [
       "'AGTGCTGGACCATTTCAAATAGCTGTGATTTACCTA'"
      ]
     },
     "execution_count": 109,
     "metadata": {},
     "output_type": "execute_result"
    }
   ],
   "source": [
    "u_lines[88]"
   ]
  },
  {
   "cell_type": "code",
   "execution_count": 112,
   "metadata": {},
   "outputs": [],
   "source": [
    "from sklearn.cluster import KMeans"
   ]
  },
  {
   "cell_type": "code",
   "execution_count": 118,
   "metadata": {},
   "outputs": [],
   "source": [
    "lens_0 = [ed.eval(x, u_lines[0]) for x in u_lines] + [ed.eval(x, u_lines[1]) for x in u_lines] + [ed.eval(x, u_lines[3]) for x in u_lines]"
   ]
  },
  {
   "cell_type": "code",
   "execution_count": 119,
   "metadata": {},
   "outputs": [
    {
     "data": {
      "text/plain": [
       "KMeans(algorithm='auto', copy_x=True, init='k-means++', max_iter=300,\n",
       "    n_clusters=2, n_init=10, n_jobs=1, precompute_distances='auto',\n",
       "    random_state=None, tol=0.0001, verbose=0)"
      ]
     },
     "execution_count": 119,
     "metadata": {},
     "output_type": "execute_result"
    }
   ],
   "source": [
    "km = KMeans(2)\n",
    "km.fit(np.array(lens_0).reshape(-1,1))"
   ]
  },
  {
   "cell_type": "code",
   "execution_count": 120,
   "metadata": {},
   "outputs": [
    {
     "data": {
      "text/plain": [
       "array([[19.28784441],\n",
       "       [ 1.98081023]])"
      ]
     },
     "execution_count": 120,
     "metadata": {},
     "output_type": "execute_result"
    }
   ],
   "source": [
    "km.cluster_centers_"
   ]
  },
  {
   "cell_type": "code",
   "execution_count": 121,
   "metadata": {},
   "outputs": [
    {
     "data": {
      "text/plain": [
       "10.64"
      ]
     },
     "execution_count": 121,
     "metadata": {},
     "output_type": "execute_result"
    }
   ],
   "source": [
    "(1.98 + 19.3 )/ 2"
   ]
  },
  {
   "cell_type": "code",
   "execution_count": null,
   "metadata": {},
   "outputs": [],
   "source": []
  },
  {
   "cell_type": "code",
   "execution_count": 26,
   "metadata": {},
   "outputs": [
    {
     "data": {
      "text/plain": [
       "OrderedDict([('GACAGAACGGCCTCAGTAGTCTCGTCAGGCTC', 20411),\n",
       "             ('ACACGCCCTTATCAAATAGCTGTGATTTACCT', 28376),\n",
       "             ('CAAGTGATATCCATCATCGCATCCAGTGCGCC', 11314),\n",
       "             ('ATAGACCCCGAACAACAATACGCGCAAACCG', 13972),\n",
       "             ('AGTGCTGGACCATTTCAAATTCACAATAGAT', 14351),\n",
       "             ('GGAATGATATTTCAATAAATAATTATAACAA', 8387),\n",
       "             ('TACCGTACAGACTGCCGGATATTATTTTTTT', 7671),\n",
       "             ('CTGCTGCTCGAGCTGGTGGAGTGCTGCTATA', 6274),\n",
       "             ('AGCTGGGCGAAATTTTGATTCATCGTGATGA', 3740),\n",
       "             ('CCCTCACACCGATTCGCCAAACGGTGGAGAA', 6862),\n",
       "             ('AACGTCAGGTTGTCGCCGCTCTGCGTGGTCG', 4979),\n",
       "             ('CCGTAAGTGGTTTGAGCGATGATATTTGTGC', 2390),\n",
       "             ('TGCATGGCTTTGGCTTCCTCTTTGACGGACG', 3798),\n",
       "             ('TATAGAGATCGTTTTTGGAATTTACAGCGAGG', 3706),\n",
       "             ('TTTTACAGTGTCAACAATCGTTCCCTGATTG', 2611),\n",
       "             ('ATATATCAGAGCAAAAAACAAAGCCACAGCC', 2920),\n",
       "             ('CATAAAGAAACTATTTTGCGTTTCGTTCAGGT', 2763),\n",
       "             ('CCGCCGTTGGCACCGTCAAACTCCGGTACTGT', 1913),\n",
       "             ('TCGGTTCAGGCGTTGCAAACCTGGCTACCGGG', 331),\n",
       "             ('GTAGTCCATCATTCCACCTATGTCTGAACTC', 436),\n",
       "             ('CTGTTTTCGCAAATCTATGGACTATTGCTAT', 328),\n",
       "             ('CAGCGTCAGGCGTGAAATCTCACCGTCGTTG', 162),\n",
       "             ('CCGGGGGATAATGTTTACGGTCATGCGCCCC', 157),\n",
       "             ('GAAATGCTGGTGAGCGTTAATGCCGCAAACAC', 195),\n",
       "             ('GGGCGCACGGAATACAAAGCCGTGTATCTGC', 192),\n",
       "             ('ATTACGCCTTTTTGCGATTGCCCGGTTTTTG', 92),\n",
       "             ('TGGCTCTGCAACAGCAGCACCCATGACCACG', 173),\n",
       "             ('AAGCTGGCTGGCAATCTCTTTCGGGGTGAGTC', 123),\n",
       "             ('GCAGGCGGCGACGCGCAGGGTATGCGCGATTCG', 109),\n",
       "             ('TAGTTTCCGTATCTCCGGATTTATAAAGCTG', 129),\n",
       "             ('TGGGCGGCTTGCCTTGCAGCCAGCTCCAGCAG', 89),\n",
       "             ('GCGACCGCTCAGAAATTCCAGACCCGATCCAA', 87),\n",
       "             ('AGCGTGTTCGGCATCACCTTTGGCTTCGGCT', 56),\n",
       "             ('TCAACATTATCAATTACAACCGACAGGGAGC', 68),\n",
       "             ('TGCGTGAGCGTATCGCCGCGCGTCTGCGAAA', 17),\n",
       "             ('AAGTTCGACAACTTAAAAAATGATAACAAGT', 5),\n",
       "             ('CCCTCACACCGATTCGCCAAACGGTGGAGTGCTGCTATA', 2),\n",
       "             ('AGTGCTGGACCATTTCAAATAGCTGTGATTTACCT', 3),\n",
       "             ('GACAGAACGGCCTCAGTAGTCTCGTCAGGCTCCGGTACTGT', 3),\n",
       "             ('TGGATGTATTGAGCCAATTACTGAATCTCGGT', 2),\n",
       "             ('GCGGGATCGTCACCCTCAGCAGCGAAAGACA', 2),\n",
       "             ('TTCACGCCAACGCAGAGGCGGGCCGCGTTAA', 2),\n",
       "             ('TTCTGTCACCTGACTATTTAACGCTATATTT', 1),\n",
       "             ('CATAAAGAAACTATTTTGCGTTTCGTTCAGGTGTTCCCTGATTG', 1),\n",
       "             ('ATAATGCTCATGAGCAGGCATAGGATTGACG', 1),\n",
       "             ('TATAGAGATCGTTTTTGGAATTCACAATAGAT', 2),\n",
       "             ('GCCTGACATTGCAGACGTTACAAATTGAGAGG', 1),\n",
       "             ('ACACGCCCTTATCAAATAGCTGTGAT', 3),\n",
       "             ('AGCTGGGCGAACAACAATACGCGCAAACCGA', 1),\n",
       "             ('TACCGTACAGACTGCCGGATATTATTTTTTTGCGTTTCGTTCAGGT', 1),\n",
       "             ('GGAATGATATTTCAATAAATAATTATAACAATCGTTCCCTGATTGT', 1),\n",
       "             ('GGAATGATATTTCACCGGGGAACTCCAAGTGATATCCATCATCGCATCCAGTGCGCC', 1),\n",
       "             ('ACACGCCCTTATCACCATAAAGAAACTATTTTGCGTTTCGTTCAGGT', 1),\n",
       "             ('AGTGCTGGACCATTTCACAATAGAT', 1),\n",
       "             ('AGTGCTGGACCATTTCAAAGCCACAGCCA', 2),\n",
       "             ('TACCGTACAACAATACGCGCAAACCG', 2),\n",
       "             ('TACCGTACAGACTGCCGGAGTGCTGCTATA', 1),\n",
       "             ('ATAGACCCCGAACAACAATACGCGCAAACCGTGGAGAA', 1),\n",
       "             ('AGTGCTGGACCATTTCAAATTCACAATACCAACAATACGCGCAAACCG', 2),\n",
       "             ('TATAGAGATCGTTTTTGCGTTTCGTTCAGG', 2),\n",
       "             ('ATAGCCCCCAAACAACAATCCGCGCACCCGGC', 1),\n",
       "             ('AATTGGTGTGAGATGCATCTCTTCCTCACC', 1),\n",
       "             ('GCTTACCACTATCGTCAATCAAATCATTGCCGATGAACAGTTGCAAACGC', 1),\n",
       "             ('GACAGAACGGCCTCAGTAGTCTCGTCAGACTGCCGGATATTATTTTTTTG', 1),\n",
       "             ('AACTGGATTCTGCTCTAATTATTACATCATCG', 1),\n",
       "             ('GGAAACCGCCCCGGCGGTGGTTAGCTGTTTG', 2),\n",
       "             ('TTTGCTACCCGCTCAAAACCGCCGATTCGCG', 1),\n",
       "             ('ACACGCCCTTATCAAATACACAATAGATT', 3),\n",
       "             ('CAAGTGATATCCATCATCGCTCTGCGTGGTCGC', 1),\n",
       "             ('ATATATCAGAGCTGGTGGAGTGCTGCTATAG', 1),\n",
       "             ('GGAAGGAACACAGCTGGGCGAAATTTTGATTCATCGTGATGA', 1),\n",
       "             ('GACAGAACACCCAGTGATATCCATCATCGCATCCAGTGCGCC', 1),\n",
       "             ('GGAATGATATTTCAATAAATAATTATAACAATCGGTTTATCCCGCTCTGCGTGGTCG', 1),\n",
       "             ('TCAACATTATCAAATAGCTGTGATTTACCTA', 1),\n",
       "             ('GGCAATAGCGAACAACAAGGTCGGTTGTTTG', 1),\n",
       "             ('ATAGACCCCGAACAACAAAGCCACAGCC', 1),\n",
       "             ('CCGGGGGATAATGTTTACGGTCATGCCCGTCAAACTCCGGTACTG', 1),\n",
       "             ('CTGCTGCTCGAGCTGGTGCCTTCCTCTTTGACGGACGC', 1),\n",
       "             ('CAAGTGATATCCATCATTCCACCTATGTCTGAACTCC', 1),\n",
       "             ('AGCTGGGCGAAATTTTGGAATTTACAGCGAG', 1),\n",
       "             ('CAAGTGATATCCATCATCGCATCCAGTGCTGCTATAG', 1),\n",
       "             ('TCCCGTACGGCCTGCGGATTATATTTTTTTG', 1),\n",
       "             ('ATAGACCCCGAACAACAATACGCGCAAACCGACGGTTTATCCCC', 1),\n",
       "             ('CAGCGTCAGGCGTGAAATCTCACCGTCAAACTCCGGTACTG', 1),\n",
       "             ('CTGTTTTCGCAAATCTATGGACCATTTCAAATTCACAATAGAT', 1)])"
      ]
     },
     "execution_count": 26,
     "metadata": {},
     "output_type": "execute_result"
    }
   ],
   "source": []
  },
  {
   "cell_type": "code",
   "execution_count": 9,
   "metadata": {},
   "outputs": [
    {
     "data": {
      "application/vnd.jupyter.widget-view+json": {
       "model_id": "1a7512cde49b4361abd52cd7c064f305",
       "version_major": 2,
       "version_minor": 0
      },
      "text/plain": [
       "A Jupyter Widget"
      ]
     },
     "metadata": {},
     "output_type": "display_data"
    },
    {
     "name": "stdout",
     "output_type": "stream",
     "text": [
      "\n"
     ]
    }
   ],
   "source": [
    "pairs_n = [process_pair(p, cl_to_n) for p in tqdm_notebook(pairs)]"
   ]
  },
  {
   "cell_type": "code",
   "execution_count": 10,
   "metadata": {
    "scrolled": false
   },
   "outputs": [
    {
     "data": {
      "text/plain": [
       "0"
      ]
     },
     "execution_count": 10,
     "metadata": {},
     "output_type": "execute_result"
    }
   ],
   "source": [
    "graph = np.zeros((len(cl_to_n),len(cl_to_n)))\n",
    "\n",
    "err = 0\n",
    "for p in pairs_n:\n",
    "    if len(p) == 2 and sum(p) != -2:\n",
    "        graph[p[0]][p[1]] += 1  \n",
    "        #graph[p[1]][p[0]] +=1\n",
    "    else:\n",
    "        err += 1\n",
    "err"
   ]
  },
  {
   "cell_type": "code",
   "execution_count": 11,
   "metadata": {
    "scrolled": false
   },
   "outputs": [
    {
     "data": {
      "image/png": "[encoded data removed]",
      "text/plain": [
       "<matplotlib.figure.Figure at 0x7f4b4509ce80>"
      ]
     },
     "metadata": {},
     "output_type": "display_data"
    }
   ],
   "source": [
    "plt.figure(figsize=(8,8))\n",
    "plt.imshow(np.log(graph+1)[:18, : 18])\n",
    "plt.show()"
   ]
  },
  {
   "cell_type": "code",
   "execution_count": 13,
   "metadata": {},
   "outputs": [],
   "source": [
    "np.save(\"../../data/graphs/ES1\", graph)"
   ]
  },
  {
   "cell_type": "code",
   "execution_count": 21,
   "metadata": {},
   "outputs": [
    {
     "data": {
      "text/plain": [
       "array([10284, 19559,  5495,  4218, 10761,  3242,  3342,  3380,  2544,\n",
       "        2156,  1486,    10,  2049,  1384,  1461,   876,     7,  1098,\n",
       "         142,   297,   124,    88,   105,    82,    23,    46,    61,\n",
       "          71,    65,     1,    54,    41,    34,    21,     0,     0,\n",
       "           0,     1,     9,     0,     0,     1,     0,     0,     0,\n",
       "           1,     1,     0,     1,     1,     0,     1,     0,     0,\n",
       "           0,     0,     2,     1,     1])"
      ]
     },
     "execution_count": 21,
     "metadata": {},
     "output_type": "execute_result"
    }
   ],
   "source": [
    "graph.sum(1).astype(int)"
   ]
  },
  {
   "cell_type": "code",
   "execution_count": 15,
   "metadata": {
    "collapsed": true
   },
   "outputs": [],
   "source": [
    "# pickle.dump(nd, open(\"../data/dicts/Vesuvious_III_counts_22\", 'wb'))\n",
    "# pickle.dump(sp_to_n, open(\"../data/dicts/Vesuvious_III_sp_to_n_22\", 'wb'))\n",
    "# pickle.dump(n_to_clust, open(\"../data/dicts/Vesuvious_III_n_to_cl_22\", 'wb'))"
   ]
  },
  {
   "cell_type": "code",
   "execution_count": 96,
   "metadata": {},
   "outputs": [
    {
     "data": {
      "text/plain": [
       "71.32494969818913"
      ]
     },
     "execution_count": 96,
     "metadata": {},
     "output_type": "execute_result"
    }
   ],
   "source": [
    "graph[:17, : 17].sum() / graph[17:35,17:35].sum() "
   ]
  },
  {
   "cell_type": "code",
   "execution_count": 97,
   "metadata": {
    "collapsed": true
   },
   "outputs": [],
   "source": [
    "big_w = graph[np.arange(graph.shape[0]),graph.argmax(1)].astype(int)"
   ]
  },
  {
   "cell_type": "code",
   "execution_count": 98,
   "metadata": {},
   "outputs": [
    {
     "data": {
      "text/plain": [
       "28.799635701275047"
      ]
     },
     "execution_count": 98,
     "metadata": {},
     "output_type": "execute_result"
    }
   ],
   "source": [
    "big_w[:17].sum() / (big_w[17:35].sum() + 200)"
   ]
  },
  {
   "cell_type": "code",
   "execution_count": 100,
   "metadata": {},
   "outputs": [
    {
     "data": {
      "text/plain": [
       "array([ 3,  0,  5,  6,  2,  7,  8, 11,  9, 10, 13,  0, 16, 14, 15, 17, 10])"
      ]
     },
     "execution_count": 100,
     "metadata": {},
     "output_type": "execute_result"
    }
   ],
   "source": [
    "graph.argmax(1)[:17]"
   ]
  },
  {
   "cell_type": "code",
   "execution_count": 27,
   "metadata": {},
   "outputs": [
    {
     "data": {
      "text/plain": [
       "85"
      ]
     },
     "execution_count": 27,
     "metadata": {},
     "output_type": "execute_result"
    }
   ],
   "source": [
    "len(nd)"
   ]
  },
  {
   "cell_type": "code",
   "execution_count": null,
   "metadata": {},
   "outputs": [],
   "source": []
  }
 ],
 "metadata": {
  "kernelspec": {
   "display_name": "Python 3",
   "language": "python",
   "name": "python3"
  },
  "language_info": {
   "codemirror_mode": {
    "name": "ipython",
    "version": 3
   },
   "file_extension": ".py",
   "mimetype": "text/x-python",
   "name": "python",
   "nbconvert_exporter": "python",
   "pygments_lexer": "ipython3",
   "version": "3.6.3"
  }
 },
 "nbformat": 4,
 "nbformat_minor": 2
}
