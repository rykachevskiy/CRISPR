{
 "cells": [
  {
   "cell_type": "code",
   "execution_count": 1,
   "metadata": {
    "scrolled": true
   },
   "outputs": [
    {
     "name": "stderr",
     "output_type": "stream",
     "text": [
      "Using TensorFlow backend.\n"
     ]
    }
   ],
   "source": [
    "import tensorflow as tf\n",
    "\n",
    "import keras\n",
    "\n",
    "import numpy as np"
   ]
  },
  {
   "cell_type": "code",
   "execution_count": 2,
   "metadata": {
    "collapsed": true
   },
   "outputs": [],
   "source": [
    "from keras.layers import Input, LSTM, RepeatVector, Dense, Embedding, Activation, Masking, SimpleRNN\n",
    "from keras.layers.wrappers import TimeDistributed\n",
    "from keras.models import Model, Sequential\n",
    "from keras import backend as K\n",
    "from keras.callbacks import ModelCheckpoint"
   ]
  },
  {
   "cell_type": "code",
   "execution_count": 3,
   "metadata": {
    "collapsed": true
   },
   "outputs": [],
   "source": [
    "from functools import reduce"
   ]
  },
  {
   "cell_type": "code",
   "execution_count": 4,
   "metadata": {
    "collapsed": true
   },
   "outputs": [],
   "source": [
    "import matplotlib.pyplot as plt\n",
    "\n",
    "from tqdm import tqdm_notebook\n",
    "import tqdm "
   ]
  },
  {
   "cell_type": "code",
   "execution_count": 5,
   "metadata": {
    "collapsed": true
   },
   "outputs": [],
   "source": [
    "from IPython import display"
   ]
  },
  {
   "cell_type": "markdown",
   "metadata": {},
   "source": [
    "## Data"
   ]
  },
  {
   "cell_type": "code",
   "execution_count": 6,
   "metadata": {},
   "outputs": [
    {
     "name": "stdout",
     "output_type": "stream",
     "text": [
      "(34, 34)\n"
     ]
    }
   ],
   "source": [
    "X = np.load(\"../data/ES/es3_graph.npy\")[:34,:34]\n",
    "print(X.shape)"
   ]
  },
  {
   "cell_type": "code",
   "execution_count": 7,
   "metadata": {
    "collapsed": true
   },
   "outputs": [],
   "source": [
    "VOC_SIZE = 34\n",
    "mask_val = 0\n",
    "emb_size = 20\n",
    "LSTM_INTERNAL_DIM = 30"
   ]
  },
  {
   "cell_type": "code",
   "execution_count": 8,
   "metadata": {
    "collapsed": true
   },
   "outputs": [],
   "source": [
    "CHAIN_LEN = 20"
   ]
  },
  {
   "cell_type": "code",
   "execution_count": 9,
   "metadata": {
    "collapsed": true
   },
   "outputs": [],
   "source": [
    "def generate_batch(graph, batch_size, chain_len = CHAIN_LEN):\n",
    "    batch = np.zeros((batch_size, chain_len))\n",
    "    \n",
    "    for i in range(batch_size):\n",
    "        curr = np.random.randint(0,graph.shape[0])\n",
    "        for j in range(chain_len):\n",
    "            batch[i][j] = curr\n",
    "            curr = np.random.choice(np.arange(VOC_SIZE), p = graph[curr])\n",
    "    \n",
    "    return batch\n",
    "    \n",
    "    "
   ]
  },
  {
   "cell_type": "markdown",
   "metadata": {},
   "source": [
    "## NET"
   ]
  },
  {
   "cell_type": "code",
   "execution_count": 10,
   "metadata": {
    "collapsed": true
   },
   "outputs": [],
   "source": [
    "sess = tf.Session()\n",
    "K.set_session(sess)"
   ]
  },
  {
   "cell_type": "code",
   "execution_count": 11,
   "metadata": {},
   "outputs": [],
   "source": [
    "encoder_input = tf.placeholder(tf.float32, shape = (None,CHAIN_LEN))"
   ]
  },
  {
   "cell_type": "code",
   "execution_count": 12,
   "metadata": {},
   "outputs": [
    {
     "name": "stdout",
     "output_type": "stream",
     "text": [
      "WARNING:tensorflow:From /home/anton/anaconda3/lib/python3.6/site-packages/keras/backend/tensorflow_backend.py:1242: calling reduce_sum (from tensorflow.python.ops.math_ops) with keep_dims is deprecated and will be removed in a future version.\n",
      "Instructions for updating:\n",
      "keep_dims is deprecated, use keepdims instead\n"
     ]
    }
   ],
   "source": [
    "#ENCODER \n",
    "#encoder_input = Input(shape=(None,))\n",
    "\n",
    "encoder_embedding_layer = Embedding(VOC_SIZE, emb_size, mask_zero=True)\n",
    "encoder_embedding = encoder_embedding_layer(encoder_input)\n",
    "\n",
    "encoder_recurent_layer_1 = LSTM(LSTM_INTERNAL_DIM, return_state=True, return_sequences=True )\n",
    "encoder_recurent_1, encoder_h, encoder_c = encoder_recurent_layer_1(encoder_embedding)\n",
    "\n",
    "encoder_head_1 = TimeDistributed(Dense(VOC_SIZE, activation='softmax'))\n",
    "encoder_out_1 = encoder_head_1(encoder_recurent_1)\n",
    "\n",
    "encoder_head_2 = TimeDistributed(Dense(VOC_SIZE, activation='softmax'))\n",
    "encoder_out_2 = encoder_head_2(encoder_recurent_1)\n",
    "\n",
    "encoder_head_3 = TimeDistributed(Dense(VOC_SIZE, activation='softmax'))\n",
    "encoder_out_3 = encoder_head_3(encoder_recurent_1)"
   ]
  },
  {
   "cell_type": "code",
   "execution_count": 13,
   "metadata": {},
   "outputs": [],
   "source": [
    "loss = tf.reduce_mean(tf.nn.sparse_softmax_cross_entropy_with_logits(\n",
    "    labels=tf.cast(encoder_input[:,1:], tf.int32), logits=encoder_out_1[:,:-1]))# + \\\n",
    "    #tf.reduce_mean(tf.nn.sparse_softmax_cross_entropy_with_logits(\n",
    "    #labels=tf.cast(encoder_input[:,2:], tf.int32), logits=encoder_out_2[:,:-2]))\n",
    "    #tf.reduce_mean(tf.nn.softmax_cross_entropy_with_logits_v2(labels=encoder_input[:,:-2], logits=encoder_out_2[:,2:])) + \\\n",
    "    #tf.reduce_mean(tf.nn.softmax_cross_entropy_with_logits_v2(labels=encoder_input[:,:-3], logits=encoder_out_3[:,3:]))"
   ]
  },
  {
   "cell_type": "code",
   "execution_count": 14,
   "metadata": {},
   "outputs": [],
   "source": [
    "training_step = tf.train.AdamOptimizer(learning_rate=0.001,beta2=0.98).minimize(loss)"
   ]
  },
  {
   "cell_type": "code",
   "execution_count": null,
   "metadata": {
    "collapsed": true
   },
   "outputs": [],
   "source": []
  },
  {
   "cell_type": "code",
   "execution_count": 15,
   "metadata": {},
   "outputs": [
    {
     "name": "stderr",
     "output_type": "stream",
     "text": [
      "/home/anton/anaconda3/lib/python3.6/site-packages/ipykernel_launcher.py:1: RuntimeWarning: divide by zero encountered in log\n",
      "  \"\"\"Entry point for launching an IPython kernel.\n"
     ]
    }
   ],
   "source": [
    "log_graph = tf.nn.softmax(np.log(X)).eval(session=sess)\n",
    "graph = tf.nn.softmax(X).eval(session=sess)"
   ]
  },
  {
   "cell_type": "code",
   "execution_count": 16,
   "metadata": {},
   "outputs": [
    {
     "name": "stdout",
     "output_type": "stream",
     "text": [
      "CPU times: user 62.5 ms, sys: 8.47 ms, total: 71 ms\n",
      "Wall time: 60.1 ms\n"
     ]
    }
   ],
   "source": [
    "%time b=generate_batch(log_graph, 20, 40)"
   ]
  },
  {
   "cell_type": "code",
   "execution_count": 17,
   "metadata": {},
   "outputs": [
    {
     "data": {
      "text/plain": [
       "array([[ 15.,  17.,  12.,  16.,  10.,  13.,   7.,   3.,   6.,   8.,   9.,\n",
       "         10.,   1.,   0.,   3.,   6.,   8.,   9.,  10.,   7.,  11.,  10.,\n",
       "         13.,  14.,  15.,  17.,  12.,  16.,  10.,   9.,  10.,  12.,  16.,\n",
       "          3.,   6.,   8.,   9.,  10.,   1.,   0.],\n",
       "       [ 10.,  13.,  14.,  15.,  17.,  12.,  16.,   3.,   6.,   8.,   9.,\n",
       "         10.,  13.,  14.,  15.,  17.,  12.,  16.,   0.,   3.,   6.,   8.,\n",
       "          9.,  10.,  12.,  16.,   8.,  14.,  15.,   7.,  11.,   0.,   3.,\n",
       "          6.,   8.,   9.,  10.,  13.,  14.,  15.],\n",
       "       [ 28.,  31.,  32.,  33.,   0.,   3.,   6.,   8.,   9.,  10.,  13.,\n",
       "          8.,   9.,  10.,  13.,  14.,  15.,  17.,  12.,  16.,   6.,   8.,\n",
       "          9.,  10.,  13.,  14.,  15.,  17.,   6.,   8.,   9.,  12.,  16.,\n",
       "          6.,   8.,   9.,  10.,  13.,  14.,  15.]])"
      ]
     },
     "execution_count": 17,
     "metadata": {},
     "output_type": "execute_result"
    }
   ],
   "source": [
    "b[:3]"
   ]
  },
  {
   "cell_type": "code",
   "execution_count": 18,
   "metadata": {
    "collapsed": true
   },
   "outputs": [],
   "source": [
    "init_op = tf.global_variables_initializer()\n",
    "sess.run(init_op)"
   ]
  },
  {
   "cell_type": "code",
   "execution_count": 19,
   "metadata": {},
   "outputs": [],
   "source": [
    "with sess.as_default():\n",
    "    test_out = encoder_out_1.eval(feed_dict = {encoder_input : np.ones(20).reshape(1,-1)*3})\n",
    "    #training_step.run(feed_dict = {encoder_input : b})\n",
    "    #print(loss.eval(feed_dict = {encoder_input : b}))"
   ]
  },
  {
   "cell_type": "code",
   "execution_count": 20,
   "metadata": {},
   "outputs": [
    {
     "data": {
      "text/plain": [
       "array([ 0.02953567,  0.0294895 ,  0.02934196,  0.02940484,  0.02948809,\n",
       "        0.0294649 ,  0.02940503,  0.02953326,  0.02939072,  0.02922962,\n",
       "        0.02959017,  0.02949664,  0.02939348,  0.02951135,  0.02933096,\n",
       "        0.0294427 ,  0.02944323,  0.02950843,  0.02916051,  0.02932388,\n",
       "        0.02935588,  0.02943205,  0.02949624,  0.02936796,  0.02938212,\n",
       "        0.02932257,  0.02930746,  0.02943493,  0.02939623,  0.02952717,\n",
       "        0.02945632,  0.0293763 ,  0.02933353,  0.0293264 ], dtype=float32)"
      ]
     },
     "execution_count": 20,
     "metadata": {},
     "output_type": "execute_result"
    }
   ],
   "source": [
    "test_out[0][0]"
   ]
  },
  {
   "cell_type": "code",
   "execution_count": 21,
   "metadata": {
    "collapsed": true
   },
   "outputs": [],
   "source": [
    "losses = []"
   ]
  },
  {
   "cell_type": "code",
   "execution_count": 22,
   "metadata": {},
   "outputs": [
    {
     "data": {
      "image/png": "[encoded data removed]",
      "text/plain": [
       "<matplotlib.figure.Figure at 0x7f198eed8e48>"
      ]
     },
     "metadata": {},
     "output_type": "display_data"
    },
    {
     "name": "stdout",
     "output_type": "stream",
     "text": [
      "\n"
     ]
    }
   ],
   "source": [
    "with sess.as_default():\n",
    "    for i in tqdm_notebook(range(1000)):\n",
    "        batch = generate_batch(graph, 20)\n",
    "        \n",
    "        training_step.run(feed_dict = {encoder_input : batch})\n",
    "        if i %20 == 0:\n",
    "            curr_loss = loss.eval(feed_dict = {encoder_input : batch})\n",
    "            tqdm.tqdm.write(str(curr_loss))\n",
    "            losses.append(curr_loss)\n",
    "\n",
    "            display.clear_output(wait=True)\n",
    "            plt.plot(losses, label='train')\n",
    "        #    plt.plot(v_losses_valid, label='validation')\n",
    "            plt.legend()\n",
    "            plt.show()"
   ]
  },
  {
   "cell_type": "code",
   "execution_count": 48,
   "metadata": {},
   "outputs": [
    {
     "data": {
      "image/png": "[encoded data removed]",
      "text/plain": [
       "<matplotlib.figure.Figure at 0x7f7f92febef0>"
      ]
     },
     "metadata": {},
     "output_type": "display_data"
    }
   ],
   "source": [
    "plt.plot(losses)\n",
    "plt.show()"
   ]
  },
  {
   "cell_type": "code",
   "execution_count": 25,
   "metadata": {},
   "outputs": [],
   "source": [
    "embeddings = encoder_embedding_layer.weights[0].eval(sess)"
   ]
  },
  {
   "cell_type": "code",
   "execution_count": 26,
   "metadata": {
    "collapsed": true
   },
   "outputs": [],
   "source": [
    "from sklearn.cluster import KMeans\n",
    "from sklearn.manifold import TSNE"
   ]
  },
  {
   "cell_type": "code",
   "execution_count": 27,
   "metadata": {
    "collapsed": true
   },
   "outputs": [],
   "source": [
    "tsne = TSNE()"
   ]
  },
  {
   "cell_type": "code",
   "execution_count": 28,
   "metadata": {},
   "outputs": [
    {
     "data": {
      "text/plain": [
       "(34, 20)"
      ]
     },
     "execution_count": 28,
     "metadata": {},
     "output_type": "execute_result"
    }
   ],
   "source": [
    "embeddings.shape"
   ]
  },
  {
   "cell_type": "code",
   "execution_count": 43,
   "metadata": {
    "collapsed": true
   },
   "outputs": [],
   "source": [
    "emb_2 = tsne.fit_transform(embeddings[1:])"
   ]
  },
  {
   "cell_type": "code",
   "execution_count": 44,
   "metadata": {},
   "outputs": [
    {
     "data": {
      "image/png": "[encoded data removed]",
      "text/plain": [
       "<matplotlib.figure.Figure at 0x7fc168bdecc0>"
      ]
     },
     "metadata": {},
     "output_type": "display_data"
    }
   ],
   "source": [
    "plt.scatter(emb_2[:,0], emb_2[:,1])\n",
    "plt.show()"
   ]
  },
  {
   "cell_type": "code",
   "execution_count": 31,
   "metadata": {
    "collapsed": true
   },
   "outputs": [],
   "source": [
    "kmeans = KMeans(2)"
   ]
  },
  {
   "cell_type": "code",
   "execution_count": 42,
   "metadata": {},
   "outputs": [
    {
     "data": {
      "text/plain": [
       "array([1, 1, 1, 1, 1, 0, 1, 0, 0, 1, 1, 1, 1, 1, 1, 0, 1, 1, 1, 1, 1, 1, 1,\n",
       "       1, 1, 1, 1, 1, 0, 1, 1, 1, 0], dtype=int32)"
      ]
     },
     "execution_count": 42,
     "metadata": {},
     "output_type": "execute_result"
    }
   ],
   "source": [
    "kmeans.fit_predict(embeddings[1:])"
   ]
  },
  {
   "cell_type": "code",
   "execution_count": 41,
   "metadata": {},
   "outputs": [
    {
     "data": {
      "image/png": "[encoded data removed]",
      "text/plain": [
       "<matplotlib.figure.Figure at 0x7fc168d38c88>"
      ]
     },
     "metadata": {},
     "output_type": "display_data"
    }
   ],
   "source": [
    "plt.plot(embeddings[1])\n",
    "plt.plot(embeddings[2])\n",
    "plt.plot(embeddings[3])\n",
    "plt.plot(embeddings[4])\n",
    "plt.plot(embeddings[5])\n",
    "plt.plot(embeddings[6])\n",
    "plt.show()"
   ]
  },
  {
   "cell_type": "code",
   "execution_count": 33,
   "metadata": {},
   "outputs": [
    {
     "data": {
      "text/plain": [
       "array([[  4.35739420e-02,   2.87721269e-02,  -3.80296111e-02,\n",
       "         -1.49513856e-02,   3.38901021e-02,   1.04888529e-03,\n",
       "         -1.47827156e-02,   4.96635586e-03,   5.76703623e-03,\n",
       "          7.58221000e-03,   1.74734257e-02,  -4.84716892e-03,\n",
       "          4.07825746e-02,   4.14962806e-02,   4.92767952e-02,\n",
       "         -2.51779705e-03,  -4.14041877e-02,  -4.96708527e-02,\n",
       "          4.86723073e-02,  -1.27514377e-02],\n",
       "       [  2.06128091e-01,  -7.62348697e-02,  -5.28735816e-01,\n",
       "         -3.44946563e-01,   3.93964052e-01,  -1.22282362e+00,\n",
       "          5.42111278e-01,  -1.59186587e-01,  -1.08684444e+00,\n",
       "         -1.28034368e-01,   4.55373675e-01,  -5.03188977e-03,\n",
       "         -5.19854650e-02,   5.94709754e-01,   8.13194215e-01,\n",
       "          3.74286026e-01,   5.16288102e-01,  -6.47426188e-01,\n",
       "         -8.40066254e-01,  -3.85955758e-02],\n",
       "       [  7.84503758e-01,  -6.29568875e-01,  -5.14154673e-01,\n",
       "          6.03017271e-01,   8.10066044e-01,   5.09189069e-01,\n",
       "          6.77750051e-01,  -5.62126517e-01,   4.22617376e-01,\n",
       "         -6.89669132e-01,  -3.21548581e-01,   1.85793251e-01,\n",
       "          1.03883660e+00,   7.24890709e-01,  -1.71271905e-01,\n",
       "          9.21235204e-01,   2.14856654e-01,  -4.38436627e-01,\n",
       "          5.81146717e-01,  -2.88250834e-01],\n",
       "       [  9.34787512e-01,  -9.54074264e-01,   6.50275528e-01,\n",
       "          4.07511204e-01,   1.62715745e+00,  -9.39415038e-01,\n",
       "          3.73709530e-01,  -1.28021049e+00,  -1.31065443e-01,\n",
       "          7.57777035e-01,   3.69412303e-01,   1.45368731e+00,\n",
       "          1.02009618e+00,   5.50772905e-01,   1.00957263e+00,\n",
       "          1.04701735e-01,   9.86755252e-01,   8.58819664e-01,\n",
       "          2.84723669e-01,   1.18321693e+00],\n",
       "       [ -3.65464956e-01,  -6.09978884e-02,   4.28147614e-01,\n",
       "          3.54540050e-01,   5.36761582e-01,  -1.32384330e-01,\n",
       "         -4.02982295e-01,  -7.91339457e-01,   2.93834239e-01,\n",
       "         -1.15895599e-01,  -6.78612411e-01,   6.73110843e-01,\n",
       "         -3.86223227e-01,   3.08506459e-01,  -3.94473262e-02,\n",
       "         -1.98837351e-02,   8.02952647e-01,  -3.66167337e-01,\n",
       "          3.25681776e-01,   3.50859314e-01],\n",
       "       [  6.95785522e-01,   5.33683896e-01,   4.92093086e-01,\n",
       "          8.49011421e-01,  -7.25007415e-01,  -4.16766912e-01,\n",
       "         -5.71579039e-01,   4.61831570e-01,  -3.60015444e-02,\n",
       "          7.07032084e-01,   1.85148224e-01,  -3.92060727e-01,\n",
       "         -6.25159025e-01,   4.22375590e-01,   2.86594003e-01,\n",
       "          1.01370263e+00,   5.50438941e-01,  -3.21885735e-01,\n",
       "         -5.56146383e-01,   1.60870254e-01],\n",
       "       [ -1.41204607e+00,  -3.42869580e-01,  -1.27608025e+00,\n",
       "         -1.39385569e+00,   7.61365056e-01,  -9.08205330e-01,\n",
       "          2.83066392e-01,  -1.03556728e+00,  -1.27896798e+00,\n",
       "         -1.00097609e+00,  -1.49030328e+00,  -3.09476435e-01,\n",
       "          4.72022593e-01,   9.43611503e-01,   1.50339544e+00,\n",
       "         -1.06287026e+00,  -2.76930213e-01,  -6.81546986e-01,\n",
       "          5.55884898e-01,  -7.62532473e-01],\n",
       "       [ -4.06832770e-02,   1.63138852e-01,  -7.84699321e-01,\n",
       "          8.14564228e-01,  -5.03256619e-01,  -4.69080061e-01,\n",
       "         -1.78841025e-01,   1.77042589e-01,  -2.24509686e-01,\n",
       "         -3.47876549e-01,  -5.01240134e-01,  -4.73726571e-01,\n",
       "          3.17025483e-01,   7.19499409e-01,  -3.15641224e-01,\n",
       "          4.73677367e-03,   8.26108828e-02,  -1.16062808e+00,\n",
       "         -1.87234536e-01,  -3.87146294e-01],\n",
       "       [ -4.17285919e-01,   1.93475449e+00,  -7.01809943e-01,\n",
       "         -4.23769742e-01,  -1.54566154e-01,   1.50735176e+00,\n",
       "         -1.27359235e+00,  -1.13945079e+00,   1.04689455e+00,\n",
       "         -1.46617389e+00,  -2.91960597e-01,   4.70196694e-01,\n",
       "         -5.96992314e-01,  -7.72616863e-02,   9.95621085e-01,\n",
       "          1.54563989e-02,   1.12347209e+00,   1.30647913e-01,\n",
       "          1.39923429e+00,  -1.61488795e+00],\n",
       "       [ -7.60586143e-01,   7.22712040e-01,  -1.21084535e+00,\n",
       "         -5.83964407e-01,  -8.48433554e-01,  -6.29711986e-01,\n",
       "         -5.84332287e-01,   5.78945220e-01,  -1.30811512e+00,\n",
       "         -1.58744311e+00,  -1.07033110e+00,   1.11681759e+00,\n",
       "         -1.31317616e+00,  -8.14417124e-01,   1.40029681e+00,\n",
       "          1.00432420e+00,   1.59848601e-01,   2.10276976e-01,\n",
       "         -1.02837873e-03,  -4.93141741e-01],\n",
       "       [  8.69100630e-01,  -3.54436249e-01,   9.73693609e-01,\n",
       "          4.24957931e-01,   8.74612093e-01,  -1.26212525e+00,\n",
       "         -8.60915124e-01,  -4.24537897e-01,  -6.44746840e-01,\n",
       "          1.12397528e+00,   7.66048729e-01,  -6.65126503e-01,\n",
       "         -4.98953253e-01,   1.30019903e+00,  -5.94491720e-01,\n",
       "         -4.35442775e-01,   8.39666009e-01,  -1.20435417e+00,\n",
       "          1.77945346e-01,  -7.36442387e-01],\n",
       "       [  1.12157501e-02,  -8.14129075e-04,  -1.16143465e-01,\n",
       "         -2.20484033e-01,   3.42665911e-01,  -4.95428801e-01,\n",
       "          3.79769951e-02,  -2.32320502e-01,  -3.62416655e-01,\n",
       "         -1.19655155e-01,   5.37398597e-03,   4.93047923e-01,\n",
       "         -1.44926265e-01,   2.02530935e-01,   2.99277931e-01,\n",
       "         -1.55642824e-02,   5.09420216e-01,  -2.28057668e-01,\n",
       "         -1.03236660e-01,   1.08148828e-01],\n",
       "       [  6.42117411e-02,   5.39211690e-01,   2.49157026e-01,\n",
       "          2.42475674e-01,   1.83725599e-02,   7.72760110e-03,\n",
       "         -9.84203339e-01,  -9.54607725e-01,  -4.88384403e-02,\n",
       "         -1.16404444e-01,   2.43682176e-01,  -6.13762975e-01,\n",
       "         -3.06320071e-01,   1.13017178e+00,  -2.07732782e-01,\n",
       "         -1.03922355e+00,   1.17241907e+00,  -1.08588850e+00,\n",
       "          1.43971205e+00,  -9.15122807e-01],\n",
       "       [ -2.83277899e-01,  -1.25722623e+00,  -1.08112678e-01,\n",
       "         -3.97041410e-01,   9.94125724e-01,   6.55190587e-01,\n",
       "         -3.42739195e-01,  -5.71613789e-01,  -1.83680970e-02,\n",
       "          3.51279341e-02,  -4.25585151e-01,   5.73966205e-02,\n",
       "          8.16898167e-01,   5.01879334e-01,  -7.56265581e-01,\n",
       "         -9.01585162e-01,  -1.03061564e-01,  -1.07578123e+00,\n",
       "          4.21544552e-01,   4.53289419e-01],\n",
       "       [  3.28951299e-01,  -6.89749360e-01,   9.76043761e-01,\n",
       "          1.07329786e+00,  -6.60533905e-02,   7.53037214e-01,\n",
       "         -9.37721491e-01,  -1.97638556e-01,   6.42788053e-01,\n",
       "          6.13604605e-01,  -3.50304455e-01,   2.01266810e-01,\n",
       "         -5.19264162e-01,   2.31590346e-01,  -6.70590341e-01,\n",
       "         -2.87898630e-01,   6.88272357e-01,  -2.56540567e-01,\n",
       "          8.12225699e-01,   2.80569315e-01],\n",
       "       [ -4.54962313e-01,  -7.79027581e-01,   3.81016344e-01,\n",
       "          2.85592645e-01,  -3.32376063e-02,  -6.70905352e-01,\n",
       "         -1.56422302e-01,   3.63592267e-01,  -1.46428972e-01,\n",
       "          5.64943492e-01,  -1.03491032e+00,   2.72348732e-01,\n",
       "         -1.95900485e-01,   1.33934915e-01,  -1.84122715e-02,\n",
       "          1.62740007e-01,  -5.10419011e-01,  -3.95503014e-01,\n",
       "          3.09415132e-01,   6.39047325e-01],\n",
       "       [ -6.33685291e-01,   8.06946695e-01,  -9.98980105e-01,\n",
       "         -6.56597972e-01,  -4.69656736e-01,  -3.27851743e-01,\n",
       "         -4.40588623e-01,   4.69807357e-01,  -8.35186362e-01,\n",
       "         -1.06814134e+00,  -8.70604753e-01,   7.32522666e-01,\n",
       "         -9.72334623e-01,  -5.99130273e-01,   8.56952548e-01,\n",
       "          4.46671605e-01,  -1.96783438e-01,   2.45086461e-01,\n",
       "         -1.03590198e-01,  -4.94629383e-01],\n",
       "       [ -2.75162965e-01,   3.68710876e-01,  -7.35578358e-01,\n",
       "          1.23965991e+00,  -8.21346462e-01,  -2.56125093e-01,\n",
       "         -4.35910910e-01,  -9.42569226e-02,   8.05744708e-01,\n",
       "         -7.18584239e-01,  -1.33438468e+00,   5.46801329e-01,\n",
       "          4.88174886e-01,  -7.13564515e-01,   4.66596723e-01,\n",
       "          1.24046659e+00,   7.55402386e-01,  -4.04983997e-01,\n",
       "         -8.15289795e-01,   5.49715936e-01],\n",
       "       [ -3.64347726e-01,   3.85865927e-01,   5.77441938e-02,\n",
       "          3.36862892e-01,  -9.80183929e-02,  -1.79300383e-01,\n",
       "          2.23904714e-01,   6.48858920e-02,   5.25576770e-02,\n",
       "         -1.20783664e-01,  -1.62382841e-01,   1.93764985e-01,\n",
       "          1.43064201e-01,   5.07386386e-01,  -3.59392501e-02,\n",
       "          2.08706990e-01,  -1.11216873e-01,  -2.13876762e-03,\n",
       "         -1.29313439e-01,   3.80973816e-01],\n",
       "       [  6.03618205e-01,  -7.77542770e-01,   3.71005803e-01,\n",
       "          7.06332147e-01,  -2.10096538e-01,   1.08725637e-01,\n",
       "          5.68442225e-01,   1.17220797e-01,   3.53962451e-01,\n",
       "          5.52259028e-01,   5.82117960e-02,  -1.44100711e-01,\n",
       "          6.37632549e-01,   1.12511311e-02,  -3.77109349e-01,\n",
       "          6.66159093e-01,  -1.07397579e-01,  -2.52884001e-01,\n",
       "         -3.33536059e-01,   8.43898058e-01],\n",
       "       [ -8.77403468e-02,   1.59714207e-01,  -2.73743421e-01,\n",
       "         -9.51658711e-02,   1.02744006e-01,  -1.72998250e-01,\n",
       "          8.59542117e-02,  -5.65768629e-02,  -1.31376818e-01,\n",
       "         -2.22071633e-01,  -6.96178526e-02,   1.23373687e-01,\n",
       "          1.39534175e-01,   9.55907255e-02,   1.78295076e-01,\n",
       "         -1.42636094e-02,   1.56055287e-01,  -5.10960184e-02,\n",
       "         -8.76588747e-03,  -5.31620868e-02],\n",
       "       [  5.68865776e-01,  -5.51641941e-01,   5.00344932e-01,\n",
       "          3.95021528e-01,   1.14059067e+00,  -6.10947549e-01,\n",
       "          6.13577552e-02,  -8.93519282e-01,  -1.65280417e-01,\n",
       "          4.38574553e-01,   2.35602051e-01,   1.15213418e+00,\n",
       "          6.43369973e-01,   3.54305446e-01,   4.50146168e-01,\n",
       "          1.58044308e-01,   8.49803567e-01,   5.97036958e-01,\n",
       "          8.25916976e-02,   8.03818226e-01],\n",
       "       [ -1.50198326e-01,  -7.19476491e-02,  -3.17348212e-01,\n",
       "         -3.75634655e-02,  -1.97867692e-01,   1.41672671e-01,\n",
       "          2.57251889e-01,  -2.08515897e-01,   2.34016642e-01,\n",
       "         -2.88982004e-01,  -2.66577721e-01,   2.02639535e-01,\n",
       "          3.04638237e-01,  -3.13170463e-01,   7.08234161e-02,\n",
       "          1.76268462e-02,   3.35333735e-01,  -1.33145496e-01,\n",
       "          1.92116424e-01,   2.86372870e-01],\n",
       "       [ -2.64173448e-02,   4.45259586e-02,   4.33999658e-01,\n",
       "         -1.74644098e-01,  -6.84646843e-03,  -2.17975780e-01,\n",
       "          4.09308344e-01,  -1.21830709e-01,   2.26304531e-01,\n",
       "          1.50058597e-01,   3.50182980e-01,   3.44565123e-01,\n",
       "         -2.93535173e-01,  -2.69662797e-01,  -5.83244041e-02,\n",
       "          1.71888113e-01,   1.57886803e-01,  -4.37401384e-02,\n",
       "          5.13111591e-01,   5.28486788e-01],\n",
       "       [  3.75688791e-01,  -2.18069866e-01,   3.58246177e-01,\n",
       "          3.48127961e-01,  -1.43098310e-01,  -1.66787222e-01,\n",
       "          1.68060064e-01,  -5.52949272e-02,  -9.91190448e-02,\n",
       "          2.30301291e-01,   2.36747742e-01,  -1.10345706e-01,\n",
       "         -1.44956084e-02,   3.85491788e-01,  -3.75285000e-01,\n",
       "         -6.81102201e-02,   2.74129242e-01,  -2.19954789e-01,\n",
       "          2.32915636e-02,   1.29338011e-01],\n",
       "       [ -2.74372637e-01,   4.43997771e-01,   9.33391005e-02,\n",
       "         -4.30121571e-01,  -2.00557932e-01,  -9.22975615e-02,\n",
       "          3.54649156e-01,  -2.91533083e-01,  -2.18781173e-01,\n",
       "         -1.76406711e-01,   1.33983523e-01,   5.06021559e-01,\n",
       "         -2.06444129e-01,   1.50893763e-01,   6.25023663e-01,\n",
       "          1.54376969e-01,   1.91792503e-01,   4.64936852e-01,\n",
       "          3.47443283e-01,   2.26582319e-01],\n",
       "       [  1.53107703e-01,   1.69581994e-01,  -1.45651661e-02,\n",
       "         -9.17601213e-02,   1.48664340e-01,  -1.96087763e-01,\n",
       "          1.96284261e-02,  -1.15455627e-01,  -2.18665257e-01,\n",
       "          1.66010596e-02,   1.88645318e-01,   1.33733183e-01,\n",
       "          5.34515046e-02,   1.40889049e-01,   2.10830197e-01,\n",
       "          6.38796240e-02,   2.00599164e-01,  -1.34361042e-02,\n",
       "         -6.09873384e-02,  -1.37366280e-01],\n",
       "       [  1.38765946e-01,   1.01950727e-01,  -2.84497499e-01,\n",
       "         -5.05612604e-02,   1.58738077e-01,  -1.46530017e-01,\n",
       "          1.57078803e-02,  -8.89389366e-02,  -1.80891916e-01,\n",
       "         -2.59653442e-02,   1.61047488e-01,   7.91121498e-02,\n",
       "          8.05689469e-02,   2.75646448e-01,   1.75197110e-01,\n",
       "          9.27291811e-02,   1.88992441e-01,  -1.34159192e-01,\n",
       "         -7.51438364e-02,  -7.98430890e-02],\n",
       "       [ -1.88780412e-01,   1.38103262e-01,  -1.45356119e-01,\n",
       "         -3.59820783e-01,  -3.33893150e-02,  -2.51586825e-01,\n",
       "         -1.04366928e-01,  -4.68564145e-02,  -4.55200911e-01,\n",
       "          1.32196583e-02,  -6.53135180e-02,  -1.48531437e-01,\n",
       "         -2.13919222e-01,   2.43472531e-01,   2.22204894e-01,\n",
       "         -3.18057775e-01,  -2.46918071e-02,  -1.19518943e-01,\n",
       "          1.67594746e-01,  -2.96574324e-01],\n",
       "       [ -1.27219522e+00,  -4.59129632e-01,  -1.27456653e+00,\n",
       "         -1.24784243e+00,   6.70341194e-01,  -9.63059545e-01,\n",
       "         -8.37607309e-03,  -1.04759979e+00,  -1.39889467e+00,\n",
       "         -9.29882109e-01,  -1.25848043e+00,  -1.93617105e-01,\n",
       "          4.29458350e-01,   8.11880648e-01,   1.28102827e+00,\n",
       "         -8.67231250e-01,   2.09822133e-01,  -9.46844697e-01,\n",
       "          5.26815057e-01,  -6.36515558e-01],\n",
       "       [ -1.21594474e-01,   5.62146604e-01,   9.56635475e-02,\n",
       "         -1.29183501e-01,  -5.70197225e-01,   2.63500839e-01,\n",
       "          1.98299624e-02,   2.27203846e-01,  -7.38310516e-02,\n",
       "          3.22497822e-03,   1.22365341e-01,  -2.11010084e-01,\n",
       "         -4.91488099e-01,   1.78570494e-01,  -1.92586854e-01,\n",
       "         -3.25942189e-01,   1.75545335e-01,  -4.76757348e-01,\n",
       "          2.88281828e-01,  -1.36212513e-01],\n",
       "       [  1.07153565e-01,   8.48772079e-02,  -2.32329607e-01,\n",
       "         -1.11007735e-01,   2.49441326e-01,  -2.05097869e-01,\n",
       "          1.02199852e-01,  -8.74695405e-02,  -2.52582967e-01,\n",
       "         -5.75182363e-02,   1.23026669e-01,   6.83547482e-02,\n",
       "          1.20451741e-01,   1.95699200e-01,   2.69613594e-01,\n",
       "          4.79576141e-02,   1.45201206e-01,  -4.92426939e-02,\n",
       "         -7.69237205e-02,  -2.00227648e-02],\n",
       "       [  4.17970300e-01,  -7.87485763e-02,   4.79109704e-01,\n",
       "          2.38336086e-01,   4.82566595e-01,  -4.53607827e-01,\n",
       "          3.08464598e-02,  -4.62737262e-01,  -3.76474224e-02,\n",
       "          3.10241073e-01,   3.11046660e-01,   7.15010762e-01,\n",
       "          1.13530733e-01,   3.15375358e-01,   1.73836887e-01,\n",
       "          2.84484506e-01,   4.63805497e-01,   4.44901526e-01,\n",
       "         -1.41800284e-01,   4.55975413e-01],\n",
       "       [ -5.39280891e-01,  -1.09446056e-01,  -6.15130544e-01,\n",
       "         -6.99453413e-01,   6.37892723e-01,  -5.66477418e-01,\n",
       "         -1.68457687e-01,  -4.91929084e-01,  -7.45964706e-01,\n",
       "         -4.94853765e-01,  -5.96995413e-01,   4.01480906e-02,\n",
       "          8.97582620e-02,   4.13896710e-01,   6.90264821e-01,\n",
       "         -4.17927921e-01,   3.82090472e-02,  -4.22237635e-01,\n",
       "          2.93367803e-01,  -3.95755976e-01]], dtype=float32)"
      ]
     },
     "execution_count": 33,
     "metadata": {},
     "output_type": "execute_result"
    }
   ],
   "source": [
    "embeddings"
   ]
  },
  {
   "cell_type": "code",
   "execution_count": null,
   "metadata": {
    "collapsed": true
   },
   "outputs": [],
   "source": []
  },
  {
   "cell_type": "code",
   "execution_count": null,
   "metadata": {
    "collapsed": true
   },
   "outputs": [],
   "source": []
  },
  {
   "cell_type": "code",
   "execution_count": null,
   "metadata": {
    "collapsed": true
   },
   "outputs": [],
   "source": []
  },
  {
   "cell_type": "code",
   "execution_count": 35,
   "metadata": {},
   "outputs": [
    {
     "data": {
      "text/plain": [
       "array([[[ 0.073212  , -0.08893599,  0.42488515,  0.4325026 , -0.34184006,\n",
       "          0.02520423, -0.49879622, -0.02479433, -0.49715319,  0.05073972,\n",
       "         -0.19701755,  0.31196734, -0.26460022, -0.08007777, -0.33122519,\n",
       "          0.17284574,  0.0723097 ,  0.07751129, -0.21280366, -0.26892194],\n",
       "        [ 0.073212  , -0.08893599,  0.42488515,  0.4325026 , -0.34184006,\n",
       "          0.02520423, -0.49879622, -0.02479433, -0.49715319,  0.05073972,\n",
       "         -0.19701755,  0.31196734, -0.26460022, -0.08007777, -0.33122519,\n",
       "          0.17284574,  0.0723097 ,  0.07751129, -0.21280366, -0.26892194],\n",
       "        [ 0.073212  , -0.08893599,  0.42488515,  0.4325026 , -0.34184006,\n",
       "          0.02520423, -0.49879622, -0.02479433, -0.49715319,  0.05073972,\n",
       "         -0.19701755,  0.31196734, -0.26460022, -0.08007777, -0.33122519,\n",
       "          0.17284574,  0.0723097 ,  0.07751129, -0.21280366, -0.26892194],\n",
       "        [ 0.073212  , -0.08893599,  0.42488515,  0.4325026 , -0.34184006,\n",
       "          0.02520423, -0.49879622, -0.02479433, -0.49715319,  0.05073972,\n",
       "         -0.19701755,  0.31196734, -0.26460022, -0.08007777, -0.33122519,\n",
       "          0.17284574,  0.0723097 ,  0.07751129, -0.21280366, -0.26892194],\n",
       "        [ 0.073212  , -0.08893599,  0.42488515,  0.4325026 , -0.34184006,\n",
       "          0.02520423, -0.49879622, -0.02479433, -0.49715319,  0.05073972,\n",
       "         -0.19701755,  0.31196734, -0.26460022, -0.08007777, -0.33122519,\n",
       "          0.17284574,  0.0723097 ,  0.07751129, -0.21280366, -0.26892194],\n",
       "        [ 0.073212  , -0.08893599,  0.42488515,  0.4325026 , -0.34184006,\n",
       "          0.02520423, -0.49879622, -0.02479433, -0.49715319,  0.05073972,\n",
       "         -0.19701755,  0.31196734, -0.26460022, -0.08007777, -0.33122519,\n",
       "          0.17284574,  0.0723097 ,  0.07751129, -0.21280366, -0.26892194],\n",
       "        [ 0.073212  , -0.08893599,  0.42488515,  0.4325026 , -0.34184006,\n",
       "          0.02520423, -0.49879622, -0.02479433, -0.49715319,  0.05073972,\n",
       "         -0.19701755,  0.31196734, -0.26460022, -0.08007777, -0.33122519,\n",
       "          0.17284574,  0.0723097 ,  0.07751129, -0.21280366, -0.26892194],\n",
       "        [ 0.073212  , -0.08893599,  0.42488515,  0.4325026 , -0.34184006,\n",
       "          0.02520423, -0.49879622, -0.02479433, -0.49715319,  0.05073972,\n",
       "         -0.19701755,  0.31196734, -0.26460022, -0.08007777, -0.33122519,\n",
       "          0.17284574,  0.0723097 ,  0.07751129, -0.21280366, -0.26892194],\n",
       "        [ 0.073212  , -0.08893599,  0.42488515,  0.4325026 , -0.34184006,\n",
       "          0.02520423, -0.49879622, -0.02479433, -0.49715319,  0.05073972,\n",
       "         -0.19701755,  0.31196734, -0.26460022, -0.08007777, -0.33122519,\n",
       "          0.17284574,  0.0723097 ,  0.07751129, -0.21280366, -0.26892194],\n",
       "        [ 0.073212  , -0.08893599,  0.42488515,  0.4325026 , -0.34184006,\n",
       "          0.02520423, -0.49879622, -0.02479433, -0.49715319,  0.05073972,\n",
       "         -0.19701755,  0.31196734, -0.26460022, -0.08007777, -0.33122519,\n",
       "          0.17284574,  0.0723097 ,  0.07751129, -0.21280366, -0.26892194],\n",
       "        [ 0.073212  , -0.08893599,  0.42488515,  0.4325026 , -0.34184006,\n",
       "          0.02520423, -0.49879622, -0.02479433, -0.49715319,  0.05073972,\n",
       "         -0.19701755,  0.31196734, -0.26460022, -0.08007777, -0.33122519,\n",
       "          0.17284574,  0.0723097 ,  0.07751129, -0.21280366, -0.26892194],\n",
       "        [ 0.073212  , -0.08893599,  0.42488515,  0.4325026 , -0.34184006,\n",
       "          0.02520423, -0.49879622, -0.02479433, -0.49715319,  0.05073972,\n",
       "         -0.19701755,  0.31196734, -0.26460022, -0.08007777, -0.33122519,\n",
       "          0.17284574,  0.0723097 ,  0.07751129, -0.21280366, -0.26892194],\n",
       "        [ 0.073212  , -0.08893599,  0.42488515,  0.4325026 , -0.34184006,\n",
       "          0.02520423, -0.49879622, -0.02479433, -0.49715319,  0.05073972,\n",
       "         -0.19701755,  0.31196734, -0.26460022, -0.08007777, -0.33122519,\n",
       "          0.17284574,  0.0723097 ,  0.07751129, -0.21280366, -0.26892194],\n",
       "        [ 0.073212  , -0.08893599,  0.42488515,  0.4325026 , -0.34184006,\n",
       "          0.02520423, -0.49879622, -0.02479433, -0.49715319,  0.05073972,\n",
       "         -0.19701755,  0.31196734, -0.26460022, -0.08007777, -0.33122519,\n",
       "          0.17284574,  0.0723097 ,  0.07751129, -0.21280366, -0.26892194],\n",
       "        [ 0.073212  , -0.08893599,  0.42488515,  0.4325026 , -0.34184006,\n",
       "          0.02520423, -0.49879622, -0.02479433, -0.49715319,  0.05073972,\n",
       "         -0.19701755,  0.31196734, -0.26460022, -0.08007777, -0.33122519,\n",
       "          0.17284574,  0.0723097 ,  0.07751129, -0.21280366, -0.26892194],\n",
       "        [ 0.073212  , -0.08893599,  0.42488515,  0.4325026 , -0.34184006,\n",
       "          0.02520423, -0.49879622, -0.02479433, -0.49715319,  0.05073972,\n",
       "         -0.19701755,  0.31196734, -0.26460022, -0.08007777, -0.33122519,\n",
       "          0.17284574,  0.0723097 ,  0.07751129, -0.21280366, -0.26892194],\n",
       "        [ 0.073212  , -0.08893599,  0.42488515,  0.4325026 , -0.34184006,\n",
       "          0.02520423, -0.49879622, -0.02479433, -0.49715319,  0.05073972,\n",
       "         -0.19701755,  0.31196734, -0.26460022, -0.08007777, -0.33122519,\n",
       "          0.17284574,  0.0723097 ,  0.07751129, -0.21280366, -0.26892194],\n",
       "        [ 0.073212  , -0.08893599,  0.42488515,  0.4325026 , -0.34184006,\n",
       "          0.02520423, -0.49879622, -0.02479433, -0.49715319,  0.05073972,\n",
       "         -0.19701755,  0.31196734, -0.26460022, -0.08007777, -0.33122519,\n",
       "          0.17284574,  0.0723097 ,  0.07751129, -0.21280366, -0.26892194],\n",
       "        [ 0.073212  , -0.08893599,  0.42488515,  0.4325026 , -0.34184006,\n",
       "          0.02520423, -0.49879622, -0.02479433, -0.49715319,  0.05073972,\n",
       "         -0.19701755,  0.31196734, -0.26460022, -0.08007777, -0.33122519,\n",
       "          0.17284574,  0.0723097 ,  0.07751129, -0.21280366, -0.26892194],\n",
       "        [ 0.073212  , -0.08893599,  0.42488515,  0.4325026 , -0.34184006,\n",
       "          0.02520423, -0.49879622, -0.02479433, -0.49715319,  0.05073972,\n",
       "         -0.19701755,  0.31196734, -0.26460022, -0.08007777, -0.33122519,\n",
       "          0.17284574,  0.0723097 ,  0.07751129, -0.21280366, -0.26892194]]], dtype=float32)"
      ]
     },
     "execution_count": 35,
     "metadata": {},
     "output_type": "execute_result"
    }
   ],
   "source": [
    "encoder_embedding.eval(session=sess, feed_dict={encoder_input : np.ones(20).reshape(1,-1)})"
   ]
  },
  {
   "cell_type": "code",
   "execution_count": null,
   "metadata": {
    "collapsed": true
   },
   "outputs": [],
   "source": []
  },
  {
   "cell_type": "code",
   "execution_count": null,
   "metadata": {
    "collapsed": true
   },
   "outputs": [],
   "source": []
  },
  {
   "cell_type": "code",
   "execution_count": null,
   "metadata": {
    "collapsed": true
   },
   "outputs": [],
   "source": []
  },
  {
   "cell_type": "code",
   "execution_count": 36,
   "metadata": {
    "collapsed": true
   },
   "outputs": [],
   "source": [
    "filepath_weights=\"weights-improvement.hdf5\"\n",
    "filepath_loss=\"loss-all-{epoch:02d}.hdf5\""
   ]
  },
  {
   "cell_type": "code",
   "execution_count": 37,
   "metadata": {
    "collapsed": true
   },
   "outputs": [],
   "source": [
    "weights_monitor = ModelCheckpoint(filepath_weights, monitor = 'loss', save_best_only=True, save_weights_only=True)\n",
    "#loss_monitor = ModelCheckpoint(filepath_loss, monitor = 'loss', save_best_only=True, save_weights_only=True)"
   ]
  },
  {
   "cell_type": "code",
   "execution_count": 38,
   "metadata": {
    "collapsed": true
   },
   "outputs": [],
   "source": [
    "callbacks_list = [weights_monitor, loss_monitor]"
   ]
  },
  {
   "cell_type": "code",
   "execution_count": 18,
   "metadata": {},
   "outputs": [
    {
     "data": {
      "text/plain": [
       "<tf.Tensor 'time_distributed_8/Reshape_1:0' shape=(?, ?, 34) dtype=float32>"
      ]
     },
     "execution_count": 18,
     "metadata": {},
     "output_type": "execute_result"
    }
   ],
   "source": [
    "encoder_out_1"
   ]
  },
  {
   "cell_type": "code",
   "execution_count": 39,
   "metadata": {
    "collapsed": true
   },
   "outputs": [],
   "source": [
    "total_model.compile(optimizer='adam', loss='categorical_crossentropy')"
   ]
  },
  {
   "cell_type": "code",
   "execution_count": 40,
   "metadata": {},
   "outputs": [
    {
     "name": "stdout",
     "output_type": "stream",
     "text": [
      "Epoch 1/100\n",
      "1752/1752 [==============================] - 10s 6ms/step - loss: 1.4428\n",
      "Epoch 2/100\n",
      "1752/1752 [==============================] - 8s 5ms/step - loss: 1.3295\n",
      "Epoch 3/100\n",
      "1752/1752 [==============================] - 8s 4ms/step - loss: 1.3185\n",
      "Epoch 4/100\n",
      "1700/1752 [============================>.] - ETA: 0s - loss: 1.3132"
     ]
    },
    {
     "ename": "KeyboardInterrupt",
     "evalue": "",
     "output_type": "error",
     "traceback": [
      "\u001b[0;31m---------------------------------------------------------------------------\u001b[0m",
      "\u001b[0;31mKeyboardInterrupt\u001b[0m                         Traceback (most recent call last)",
      "\u001b[0;32m<ipython-input-40-d78d05824089>\u001b[0m in \u001b[0;36m<module>\u001b[0;34m()\u001b[0m\n\u001b[1;32m      2\u001b[0m                                     \u001b[0mbatch_size\u001b[0m\u001b[0;34m=\u001b[0m\u001b[0;36m20\u001b[0m\u001b[0;34m,\u001b[0m\u001b[0;34m\u001b[0m\u001b[0m\n\u001b[1;32m      3\u001b[0m                                     \u001b[0mepochs\u001b[0m\u001b[0;34m=\u001b[0m\u001b[0;36m100\u001b[0m\u001b[0;34m,\u001b[0m\u001b[0;34m\u001b[0m\u001b[0m\n\u001b[0;32m----> 4\u001b[0;31m                                     validation_split=0,callbacks = callbacks_list)\n\u001b[0m",
      "\u001b[0;32m~/anaconda3/lib/python3.6/site-packages/keras/engine/training.py\u001b[0m in \u001b[0;36mfit\u001b[0;34m(self, x, y, batch_size, epochs, verbose, callbacks, validation_split, validation_data, shuffle, class_weight, sample_weight, initial_epoch, steps_per_epoch, validation_steps, **kwargs)\u001b[0m\n\u001b[1;32m   1648\u001b[0m                               \u001b[0minitial_epoch\u001b[0m\u001b[0;34m=\u001b[0m\u001b[0minitial_epoch\u001b[0m\u001b[0;34m,\u001b[0m\u001b[0;34m\u001b[0m\u001b[0m\n\u001b[1;32m   1649\u001b[0m                               \u001b[0msteps_per_epoch\u001b[0m\u001b[0;34m=\u001b[0m\u001b[0msteps_per_epoch\u001b[0m\u001b[0;34m,\u001b[0m\u001b[0;34m\u001b[0m\u001b[0m\n\u001b[0;32m-> 1650\u001b[0;31m                               validation_steps=validation_steps)\n\u001b[0m\u001b[1;32m   1651\u001b[0m \u001b[0;34m\u001b[0m\u001b[0m\n\u001b[1;32m   1652\u001b[0m     def evaluate(self, x=None, y=None,\n",
      "\u001b[0;32m~/anaconda3/lib/python3.6/site-packages/keras/engine/training.py\u001b[0m in \u001b[0;36m_fit_loop\u001b[0;34m(self, f, ins, out_labels, batch_size, epochs, verbose, callbacks, val_f, val_ins, shuffle, callback_metrics, initial_epoch, steps_per_epoch, validation_steps)\u001b[0m\n\u001b[1;32m   1211\u001b[0m                     \u001b[0mbatch_logs\u001b[0m\u001b[0;34m[\u001b[0m\u001b[0;34m'size'\u001b[0m\u001b[0;34m]\u001b[0m \u001b[0;34m=\u001b[0m \u001b[0mlen\u001b[0m\u001b[0;34m(\u001b[0m\u001b[0mbatch_ids\u001b[0m\u001b[0;34m)\u001b[0m\u001b[0;34m\u001b[0m\u001b[0m\n\u001b[1;32m   1212\u001b[0m                     \u001b[0mcallbacks\u001b[0m\u001b[0;34m.\u001b[0m\u001b[0mon_batch_begin\u001b[0m\u001b[0;34m(\u001b[0m\u001b[0mbatch_index\u001b[0m\u001b[0;34m,\u001b[0m \u001b[0mbatch_logs\u001b[0m\u001b[0;34m)\u001b[0m\u001b[0;34m\u001b[0m\u001b[0m\n\u001b[0;32m-> 1213\u001b[0;31m                     \u001b[0mouts\u001b[0m \u001b[0;34m=\u001b[0m \u001b[0mf\u001b[0m\u001b[0;34m(\u001b[0m\u001b[0mins_batch\u001b[0m\u001b[0;34m)\u001b[0m\u001b[0;34m\u001b[0m\u001b[0m\n\u001b[0m\u001b[1;32m   1214\u001b[0m                     \u001b[0;32mif\u001b[0m \u001b[0;32mnot\u001b[0m \u001b[0misinstance\u001b[0m\u001b[0;34m(\u001b[0m\u001b[0mouts\u001b[0m\u001b[0;34m,\u001b[0m \u001b[0mlist\u001b[0m\u001b[0;34m)\u001b[0m\u001b[0;34m:\u001b[0m\u001b[0;34m\u001b[0m\u001b[0m\n\u001b[1;32m   1215\u001b[0m                         \u001b[0mouts\u001b[0m \u001b[0;34m=\u001b[0m \u001b[0;34m[\u001b[0m\u001b[0mouts\u001b[0m\u001b[0;34m]\u001b[0m\u001b[0;34m\u001b[0m\u001b[0m\n",
      "\u001b[0;32m~/anaconda3/lib/python3.6/site-packages/keras/backend/tensorflow_backend.py\u001b[0m in \u001b[0;36m__call__\u001b[0;34m(self, inputs)\u001b[0m\n\u001b[1;32m   2350\u001b[0m         \u001b[0msession\u001b[0m \u001b[0;34m=\u001b[0m \u001b[0mget_session\u001b[0m\u001b[0;34m(\u001b[0m\u001b[0;34m)\u001b[0m\u001b[0;34m\u001b[0m\u001b[0m\n\u001b[1;32m   2351\u001b[0m         updated = session.run(fetches=fetches, feed_dict=feed_dict,\n\u001b[0;32m-> 2352\u001b[0;31m                               **self.session_kwargs)\n\u001b[0m\u001b[1;32m   2353\u001b[0m         \u001b[0;32mreturn\u001b[0m \u001b[0mupdated\u001b[0m\u001b[0;34m[\u001b[0m\u001b[0;34m:\u001b[0m\u001b[0mlen\u001b[0m\u001b[0;34m(\u001b[0m\u001b[0mself\u001b[0m\u001b[0;34m.\u001b[0m\u001b[0moutputs\u001b[0m\u001b[0;34m)\u001b[0m\u001b[0;34m]\u001b[0m\u001b[0;34m\u001b[0m\u001b[0m\n\u001b[1;32m   2354\u001b[0m \u001b[0;34m\u001b[0m\u001b[0m\n",
      "\u001b[0;32m~/anaconda3/lib/python3.6/site-packages/tensorflow/python/client/session.py\u001b[0m in \u001b[0;36mrun\u001b[0;34m(self, fetches, feed_dict, options, run_metadata)\u001b[0m\n\u001b[1;32m    887\u001b[0m     \u001b[0;32mtry\u001b[0m\u001b[0;34m:\u001b[0m\u001b[0;34m\u001b[0m\u001b[0m\n\u001b[1;32m    888\u001b[0m       result = self._run(None, fetches, feed_dict, options_ptr,\n\u001b[0;32m--> 889\u001b[0;31m                          run_metadata_ptr)\n\u001b[0m\u001b[1;32m    890\u001b[0m       \u001b[0;32mif\u001b[0m \u001b[0mrun_metadata\u001b[0m\u001b[0;34m:\u001b[0m\u001b[0;34m\u001b[0m\u001b[0m\n\u001b[1;32m    891\u001b[0m         \u001b[0mproto_data\u001b[0m \u001b[0;34m=\u001b[0m \u001b[0mtf_session\u001b[0m\u001b[0;34m.\u001b[0m\u001b[0mTF_GetBuffer\u001b[0m\u001b[0;34m(\u001b[0m\u001b[0mrun_metadata_ptr\u001b[0m\u001b[0;34m)\u001b[0m\u001b[0;34m\u001b[0m\u001b[0m\n",
      "\u001b[0;32m~/anaconda3/lib/python3.6/site-packages/tensorflow/python/client/session.py\u001b[0m in \u001b[0;36m_run\u001b[0;34m(self, handle, fetches, feed_dict, options, run_metadata)\u001b[0m\n\u001b[1;32m   1118\u001b[0m     \u001b[0;32mif\u001b[0m \u001b[0mfinal_fetches\u001b[0m \u001b[0;32mor\u001b[0m \u001b[0mfinal_targets\u001b[0m \u001b[0;32mor\u001b[0m \u001b[0;34m(\u001b[0m\u001b[0mhandle\u001b[0m \u001b[0;32mand\u001b[0m \u001b[0mfeed_dict_tensor\u001b[0m\u001b[0;34m)\u001b[0m\u001b[0;34m:\u001b[0m\u001b[0;34m\u001b[0m\u001b[0m\n\u001b[1;32m   1119\u001b[0m       results = self._do_run(handle, final_targets, final_fetches,\n\u001b[0;32m-> 1120\u001b[0;31m                              feed_dict_tensor, options, run_metadata)\n\u001b[0m\u001b[1;32m   1121\u001b[0m     \u001b[0;32melse\u001b[0m\u001b[0;34m:\u001b[0m\u001b[0;34m\u001b[0m\u001b[0m\n\u001b[1;32m   1122\u001b[0m       \u001b[0mresults\u001b[0m \u001b[0;34m=\u001b[0m \u001b[0;34m[\u001b[0m\u001b[0;34m]\u001b[0m\u001b[0;34m\u001b[0m\u001b[0m\n",
      "\u001b[0;32m~/anaconda3/lib/python3.6/site-packages/tensorflow/python/client/session.py\u001b[0m in \u001b[0;36m_do_run\u001b[0;34m(self, handle, target_list, fetch_list, feed_dict, options, run_metadata)\u001b[0m\n\u001b[1;32m   1315\u001b[0m     \u001b[0;32mif\u001b[0m \u001b[0mhandle\u001b[0m \u001b[0;32mis\u001b[0m \u001b[0;32mNone\u001b[0m\u001b[0;34m:\u001b[0m\u001b[0;34m\u001b[0m\u001b[0m\n\u001b[1;32m   1316\u001b[0m       return self._do_call(_run_fn, self._session, feeds, fetches, targets,\n\u001b[0;32m-> 1317\u001b[0;31m                            options, run_metadata)\n\u001b[0m\u001b[1;32m   1318\u001b[0m     \u001b[0;32melse\u001b[0m\u001b[0;34m:\u001b[0m\u001b[0;34m\u001b[0m\u001b[0m\n\u001b[1;32m   1319\u001b[0m       \u001b[0;32mreturn\u001b[0m \u001b[0mself\u001b[0m\u001b[0;34m.\u001b[0m\u001b[0m_do_call\u001b[0m\u001b[0;34m(\u001b[0m\u001b[0m_prun_fn\u001b[0m\u001b[0;34m,\u001b[0m \u001b[0mself\u001b[0m\u001b[0;34m.\u001b[0m\u001b[0m_session\u001b[0m\u001b[0;34m,\u001b[0m \u001b[0mhandle\u001b[0m\u001b[0;34m,\u001b[0m \u001b[0mfeeds\u001b[0m\u001b[0;34m,\u001b[0m \u001b[0mfetches\u001b[0m\u001b[0;34m)\u001b[0m\u001b[0;34m\u001b[0m\u001b[0m\n",
      "\u001b[0;32m~/anaconda3/lib/python3.6/site-packages/tensorflow/python/client/session.py\u001b[0m in \u001b[0;36m_do_call\u001b[0;34m(self, fn, *args)\u001b[0m\n\u001b[1;32m   1321\u001b[0m   \u001b[0;32mdef\u001b[0m \u001b[0m_do_call\u001b[0m\u001b[0;34m(\u001b[0m\u001b[0mself\u001b[0m\u001b[0;34m,\u001b[0m \u001b[0mfn\u001b[0m\u001b[0;34m,\u001b[0m \u001b[0;34m*\u001b[0m\u001b[0margs\u001b[0m\u001b[0;34m)\u001b[0m\u001b[0;34m:\u001b[0m\u001b[0;34m\u001b[0m\u001b[0m\n\u001b[1;32m   1322\u001b[0m     \u001b[0;32mtry\u001b[0m\u001b[0;34m:\u001b[0m\u001b[0;34m\u001b[0m\u001b[0m\n\u001b[0;32m-> 1323\u001b[0;31m       \u001b[0;32mreturn\u001b[0m \u001b[0mfn\u001b[0m\u001b[0;34m(\u001b[0m\u001b[0;34m*\u001b[0m\u001b[0margs\u001b[0m\u001b[0;34m)\u001b[0m\u001b[0;34m\u001b[0m\u001b[0m\n\u001b[0m\u001b[1;32m   1324\u001b[0m     \u001b[0;32mexcept\u001b[0m \u001b[0merrors\u001b[0m\u001b[0;34m.\u001b[0m\u001b[0mOpError\u001b[0m \u001b[0;32mas\u001b[0m \u001b[0me\u001b[0m\u001b[0;34m:\u001b[0m\u001b[0;34m\u001b[0m\u001b[0m\n\u001b[1;32m   1325\u001b[0m       \u001b[0mmessage\u001b[0m \u001b[0;34m=\u001b[0m \u001b[0mcompat\u001b[0m\u001b[0;34m.\u001b[0m\u001b[0mas_text\u001b[0m\u001b[0;34m(\u001b[0m\u001b[0me\u001b[0m\u001b[0;34m.\u001b[0m\u001b[0mmessage\u001b[0m\u001b[0;34m)\u001b[0m\u001b[0;34m\u001b[0m\u001b[0m\n",
      "\u001b[0;32m~/anaconda3/lib/python3.6/site-packages/tensorflow/python/client/session.py\u001b[0m in \u001b[0;36m_run_fn\u001b[0;34m(session, feed_dict, fetch_list, target_list, options, run_metadata)\u001b[0m\n\u001b[1;32m   1300\u001b[0m           return tf_session.TF_Run(session, options,\n\u001b[1;32m   1301\u001b[0m                                    \u001b[0mfeed_dict\u001b[0m\u001b[0;34m,\u001b[0m \u001b[0mfetch_list\u001b[0m\u001b[0;34m,\u001b[0m \u001b[0mtarget_list\u001b[0m\u001b[0;34m,\u001b[0m\u001b[0;34m\u001b[0m\u001b[0m\n\u001b[0;32m-> 1302\u001b[0;31m                                    status, run_metadata)\n\u001b[0m\u001b[1;32m   1303\u001b[0m \u001b[0;34m\u001b[0m\u001b[0m\n\u001b[1;32m   1304\u001b[0m     \u001b[0;32mdef\u001b[0m \u001b[0m_prun_fn\u001b[0m\u001b[0;34m(\u001b[0m\u001b[0msession\u001b[0m\u001b[0;34m,\u001b[0m \u001b[0mhandle\u001b[0m\u001b[0;34m,\u001b[0m \u001b[0mfeed_dict\u001b[0m\u001b[0;34m,\u001b[0m \u001b[0mfetch_list\u001b[0m\u001b[0;34m)\u001b[0m\u001b[0;34m:\u001b[0m\u001b[0;34m\u001b[0m\u001b[0m\n",
      "\u001b[0;31mKeyboardInterrupt\u001b[0m: "
     ]
    }
   ],
   "source": [
    "learning_progress = total_model.fit([X[:,:], X[:,:-1]], Y[:,1:,1:],\n",
    "                                    batch_size=20,\n",
    "                                    epochs=100,\n",
    "                                    validation_split=0,callbacks = callbacks_list)"
   ]
  },
  {
   "cell_type": "code",
   "execution_count": null,
   "metadata": {
    "collapsed": true
   },
   "outputs": [],
   "source": []
  }
 ],
 "metadata": {
  "kernelspec": {
   "display_name": "Python 3",
   "language": "python",
   "name": "python3"
  },
  "language_info": {
   "codemirror_mode": {
    "name": "ipython",
    "version": 3
   },
   "file_extension": ".py",
   "mimetype": "text/x-python",
   "name": "python",
   "nbconvert_exporter": "python",
   "pygments_lexer": "ipython3",
   "version": "3.6.3"
  }
 },
 "nbformat": 4,
 "nbformat_minor": 2
}
