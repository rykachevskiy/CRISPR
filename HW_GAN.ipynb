{
 "cells": [
  {
   "cell_type": "markdown",
   "metadata": {},
   "source": [
    "This requires you to write a 2D GAN game. I let you to get into the topic yourself, whitout any explonations from my side. You can watch lecture, seminar, read papers and tutorials (fun, fun, fun)."
   ]
  },
  {
   "cell_type": "markdown",
   "metadata": {},
   "source": [
    "### Homework"
   ]
  },
  {
   "cell_type": "markdown",
   "metadata": {
    "collapsed": true
   },
   "source": [
    "I want you to implement a simple 2D GAN game. The kind of animation, I want to see is like in [this video](https://www.youtube.com/watch?v=KeJINHjyzOU) at 15:30 or in [here](https://habrahabr.ru/post/275429/) but in 2D. You can google, search code at github, whatever, but the network should be based on Theano. \n",
    "\n",
    "Basically you will need to come up with true distribution $P$, say mixture of gaussians (surprise me), sample some data from it. Visualize it as a heatmap. To visualize $G$ density you can fix $N$ noise vectors $\\{z_i\\} \\quad i=1,\\dots, N$ and draw a circle for each $G(z_i)$. It is also funny to visualize discriminator as a vector field (can be done with `plt.arrow`, `plt.quiver`). Look how it should be in the middle of [this page](http://www.inference.vc/an-alternative-update-rule-for-generative-adversarial-networks/).\n",
    "\n",
    "Please, render your animation to video (`.mp4`) or to `.webm` format. `.gif` typically is very heavy in size.\n",
    "\n",
    "And make sure your code works if 'Run All' is pressed and it draws the animation you've rendered.\n",
    "\n",
    "Good luck!"
   ]
  },
  {
   "cell_type": "code",
   "execution_count": 62,
   "metadata": {
    "collapsed": false
   },
   "outputs": [],
   "source": [
    "import matplotlib\n",
    "matplotlib.use('Agg')\n",
    "import numpy as np\n",
    "import matplotlib.cm as cm\n",
    "import matplotlib.mlab as mlab\n",
    "import matplotlib.pyplot as plt\n",
    "\n",
    "import theano\n",
    "import theano.tensor as T\n",
    "from lasagne.nonlinearities import rectify, sigmoid, linear, tanh, elu\n",
    "\n",
    "from lasagne.layers import DenseLayer, InputLayer, get_output\n",
    "import lasagne\n",
    "\n",
    "from scipy.stats import multivariate_normal\n",
    "\n",
    "#%matplotlib inline"
   ]
  },
  {
   "cell_type": "code",
   "execution_count": 63,
   "metadata": {
    "collapsed": false
   },
   "outputs": [],
   "source": [
    "#define true P(no surprizes) and plot it \n",
    "np.random.seed = 239\n",
    "mu1, cov1, mu2, cov2 = (2,3), [[3, -0.2], [-0.2, 3]], (6,5), [[2, 0.7], [0.7, 2]]\n",
    "true_pdf = lambda x : multivariate_normal.pdf(x, mu1, cov1)# + multivariate_normal.pdf(x, mu2, cov2)\n",
    "true_rvs = lambda size : multivariate_normal.rvs(mu1, cov1, size)# + multivariate_normal.rvs(mu2, cov2, size)\n",
    "\n",
    "delta = 0.1\n",
    "x = np.arange(0., 10.0, delta)\n",
    "y = np.arange(0., 10.0, delta)\n",
    "X, Y = np.meshgrid(x, y)\n",
    "Z = true_pdf(np.vstack((X.reshape(-1), Y.reshape(-1))).T).reshape(X.shape)\n",
    "\n",
    "CS = plt.contour(X, Y, Z, 50)\n",
    "plt.show()"
   ]
  },
  {
   "cell_type": "code",
   "execution_count": 127,
   "metadata": {
    "collapsed": false
   },
   "outputs": [],
   "source": [
    "G_input = T.matrix('Gx')\n",
    "G_l1 = InputLayer((None, 2), G_input)\n",
    "G_l2 = DenseLayer(G_l1, 30, nonlinearity=rectify)\n",
    "G_l3 = DenseLayer(G_l2, 30, nonlinearity=rectify)\n",
    "G_l4 = DenseLayer(G_l3, 30, nonlinearity=tanh)\n",
    "G_l5 = DenseLayer(G_l4, 10, nonlinearity=tanh)\n",
    "G_l6 = DenseLayer(G_l5, 2, nonlinearity=linear)\n",
    "G = G_l6\n",
    "\n",
    "G_out = get_output(G)\n",
    "\n",
    "# discriminators\n",
    "D1_input = T.matrix('D1x')\n",
    "D1_l1 = InputLayer((None, 2), D1_input)\n",
    "D1_l2 = DenseLayer(D1_l1, 10, nonlinearity=tanh)\n",
    "D1_l3 = DenseLayer(D1_l2, 10, nonlinearity=tanh)\n",
    "#D1_l4 = DenseLayer(D1_l3, 10, nonlinearity=tanh)\n",
    "D1_l5 = DenseLayer(D1_l3, 1, nonlinearity=sigmoid)\n",
    "D1 = D1_l5\n",
    "\n",
    "D2_l1 = InputLayer((None, 2), G_out)\n",
    "D2_l2 = DenseLayer(D2_l1, 10, nonlinearity=tanh, W=D1_l2.W, b=D1_l2.b)\n",
    "D2_l3 = DenseLayer(D2_l2, 10, nonlinearity=tanh, W=D1_l3.W, b=D1_l3.b)\n",
    "#D2_l4 = DenseLayer(D2_l3, 10, nonlinearity=sigmoid, W=D1_l4.W, b=D1_l4.b)\n",
    "D2_l5 = DenseLayer(D2_l3, 1, nonlinearity=sigmoid, W=D1_l5.W, b=D1_l5.b)\n",
    "D2 = D2_l5\n",
    "\n",
    "D1_out = get_output(D1)\n",
    "D2_out = get_output(D2)"
   ]
  },
  {
   "cell_type": "code",
   "execution_count": 128,
   "metadata": {
    "collapsed": false
   },
   "outputs": [],
   "source": [
    "# objectives\n",
    "G_obj = (T.log(D2_out)).mean()\n",
    "D_obj = (T.log(D1_out) + T.log(1 - D2_out)).mean()\n",
    "\n",
    "# parameters update and training\n",
    "G_params = lasagne.layers.get_all_params(G, trainable=True)\n",
    "G_lr = theano.shared(np.array(0.01, dtype=theano.config.floatX))\n",
    "G_updates = lasagne.updates.nesterov_momentum(1 - G_obj, G_params, learning_rate=G_lr, momentum=0.6)\n",
    "#G_updates = lasagne.updates.adam(1-G_obj, G_params, learning_rate=G_lr)\n",
    "G_train = theano.function([G_input], G_obj, updates=G_updates)\n",
    "\n",
    "D_params = lasagne.layers.get_all_params(D1, trainable=True)\n",
    "D_lr = theano.shared(np.array(0.1, dtype=theano.config.floatX))\n",
    "D_updates = lasagne.updates.nesterov_momentum(1 - D_obj, D_params, learning_rate=D_lr, momentum=0.6)\n",
    "#D_updates = lasagne.updates.adam(1-D_obj, D_params, learning_rate=D_lr)\n",
    "D_train = theano.function([G_input, D1_input], D_obj, updates=D_updates)\n"
   ]
  },
  {
   "cell_type": "code",
   "execution_count": 129,
   "metadata": {
    "collapsed": false
   },
   "outputs": [],
   "source": [
    "G_function = theano.function([G_input], G_out)"
   ]
  },
  {
   "cell_type": "code",
   "execution_count": 130,
   "metadata": {
    "collapsed": true
   },
   "outputs": [],
   "source": [
    "D_function = theano.function([D1_input],D1_out)"
   ]
  },
  {
   "cell_type": "code",
   "execution_count": 131,
   "metadata": {
    "collapsed": true
   },
   "outputs": [],
   "source": [
    "sample_noise = lambda size : np.vstack(((np.random.random(size) * 10), np.random.random(size)*10))"
   ]
  },
  {
   "cell_type": "code",
   "execution_count": 136,
   "metadata": {
    "collapsed": false
   },
   "outputs": [],
   "source": [
    "random_sample = sample_noise(100)"
   ]
  },
  {
   "cell_type": "code",
   "execution_count": 137,
   "metadata": {
    "collapsed": false
   },
   "outputs": [],
   "source": [
    "delta = 0.1\n",
    "x = np.arange(0., 10.0, delta)\n",
    "y = np.arange(0., 10.0, delta)\n",
    "X, Y = np.meshgrid(x, y)\n",
    "\n",
    "delta = 0.1\n",
    "x_d = np.linspace(-10., 20.0, 100)\n",
    "y_d = np.linspace(-10., 10.0, 100)\n",
    "X_d, Y_d = np.meshgrid(x_d, y_d)\n",
    "\n",
    "\n",
    "def plot_all(generator, descriminator):\n",
    "    f = plt.figure()\n",
    "    canvas = matplotlib.backends.backend_agg.FigureCanvas(f)\n",
    "    subplot = f.add_subplot(111)\n",
    "    Z = true_pdf(np.vstack((X.reshape(-1), Y.reshape(-1))).T).reshape(X.shape)\n",
    "    subplot.contour(X,Y,Z,20)\n",
    "\n",
    "    Z = descriminator(np.vstack((X_d.reshape(-1), Y_d.reshape(-1))).T).reshape(X.shape)\n",
    "    CS = plt.contour(X_d,Y_d,Z,np.linspace(0, 1,15), colors ='r', )\n",
    "    subplot.clabel(CS , inline=1, fontsize=5)\n",
    "\n",
    "    rs = generator(random_sample.reshape(100,2))\n",
    "    subplot.scatter(rs[:,0], rs[:,1])\n",
    "\n",
    "    canvas.draw()\n",
    "    shape = canvas.get_width_height()\n",
    "    frame = np.fromstring(canvas.tostring_argb(), dtype='uint8').reshape(shape[1], shape[0], 4)\n",
    "\n",
    "    del f\n",
    "    return frame"
   ]
  },
  {
   "cell_type": "code",
   "execution_count": 138,
   "metadata": {
    "collapsed": false
   },
   "outputs": [],
   "source": [
    "test_image = plot_all(G_function, D_function)"
   ]
  },
  {
   "cell_type": "code",
   "execution_count": 139,
   "metadata": {
    "collapsed": true
   },
   "outputs": [],
   "source": [
    "default_shape = test_image.shape\n",
    "video_shape = np.zeros(4)\n",
    "video_shape[:3] = default_shape"
   ]
  },
  {
   "cell_type": "markdown",
   "metadata": {},
   "source": [
    "Actually i was not able to achive smth good tuning learning rate, rate of training for descr and gen etc. This current version is strange, because discriminator fails (g_obj = -0.695, d(g(x)) = 0.5), although the generator is not that good. \n",
    "Adding one layer to descr makes it much better than generator and it quickly wins."
   ]
  },
  {
   "cell_type": "code",
   "execution_count": 176,
   "metadata": {
    "collapsed": false,
    "scrolled": true
   },
   "outputs": [
    {
     "name": "stdout",
     "output_type": "stream",
     "text": [
      "0 -0.699076470406 -1.379983087\n",
      "20 -0.694169404908 -1.38485758538\n",
      "40 -0.697058407014 -1.38460753879\n",
      "60 -0.699582963819 -1.37809389318\n",
      "80 -0.702073632756 -1.37414080276\n"
     ]
    }
   ],
   "source": [
    "epochs = 2000\n",
    "video_shape[3] = epochs\n",
    "frames = np.zeros(video_shape.astype(int))\n",
    "\n",
    "batch_size = 20\n",
    "M = 200  # mini-batch size\n",
    "\n",
    "f = matplotlib.figure.Figure()\n",
    "graph = f.add_subplot(111)\n",
    "    \n",
    "for i in range(epochs):\n",
    "    for j in range(10):\n",
    "        x = true_rvs(200)  # sampled orginal batch\n",
    "        z = sample_noise(200)\n",
    "        d = D_train(z.reshape(200,2), x.reshape(200,2))\n",
    "    z = sample_noise(200)\n",
    "    g =  G_train(z.reshape(200, 2))\n",
    "    if i % 10 == 0:  # lr decay\n",
    "        G_lr *= 0.99\n",
    "        D_lr *= 0.99\n",
    "        \n",
    "    frames[:,:,:,i] = plot_all(G_function,D_function)\n",
    "        \n",
    "    if i % 20 == 0 :\n",
    "        print i, g, d\n",
    "        #plot_all(G_function,D_function)\n",
    "        #curr_p = D_function(np.concatenate((X.reshape(100,100,1),Y.reshape(100,100,1)), axis=2).reshape(10000,2)).reshape(100,100)\n",
    "#        CS = plt.contour(X, Y, curr_p, 20)\n",
    "#        curr_points = G_function(random_sample.reshape(1000,2))\n",
    "#        plt.scatter(curr_points[:,0], curr_points[:, 1])\n",
    "#        plt.show()"
   ]
  },
  {
   "cell_type": "code",
   "execution_count": 163,
   "metadata": {
    "collapsed": false
   },
   "outputs": [],
   "source": [
    "import pylab\n",
    "import imageio"
   ]
  },
  {
   "cell_type": "code",
   "execution_count": 177,
   "metadata": {
    "collapsed": false
   },
   "outputs": [],
   "source": [
    "vid = imageio.get_writer(\"./asasa_no_one_wins.mp4\", 'ffmpeg')"
   ]
  },
  {
   "cell_type": "code",
   "execution_count": 178,
   "metadata": {
    "collapsed": false,
    "scrolled": true
   },
   "outputs": [],
   "source": [
    "for i in range(0,epochs,10):\n",
    "\n",
    "    vid.append_data(frames[:,:,:,i])"
   ]
  },
  {
   "cell_type": "code",
   "execution_count": 179,
   "metadata": {
    "collapsed": true
   },
   "outputs": [],
   "source": [
    "vid.close()"
   ]
  },
  {
   "cell_type": "code",
   "execution_count": 180,
   "metadata": {
    "collapsed": false
   },
   "outputs": [
    {
     "data": {
      "text/plain": [
       "array(0.0023794816241159552)"
      ]
     },
     "execution_count": 180,
     "metadata": {},
     "output_type": "execute_result"
    }
   ],
   "source": [
    "G_lr.eval()"
   ]
  },
  {
   "cell_type": "code",
   "execution_count": 181,
   "metadata": {
    "collapsed": false
   },
   "outputs": [
    {
     "data": {
      "text/plain": [
       "array(0.023794816241159554)"
      ]
     },
     "execution_count": 181,
     "metadata": {},
     "output_type": "execute_result"
    }
   ],
   "source": [
    "D_lr.eval()"
   ]
  },
  {
   "cell_type": "code",
   "execution_count": null,
   "metadata": {
    "collapsed": true
   },
   "outputs": [],
   "source": []
  }
 ],
 "metadata": {
  "kernelspec": {
   "display_name": "Python 2",
   "language": "python",
   "name": "python2"
  },
  "language_info": {
   "codemirror_mode": {
    "name": "ipython",
    "version": 2
   },
   "file_extension": ".py",
   "mimetype": "text/x-python",
   "name": "python",
   "nbconvert_exporter": "python",
   "pygments_lexer": "ipython2",
   "version": "2.7.13"
  }
 },
 "nbformat": 4,
 "nbformat_minor": 1
}
