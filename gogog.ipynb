{
 "cells": [
  {
   "cell_type": "markdown",
   "metadata": {},
   "source": [
    "-- исходные данные\n",
    "-- содержательный ли контекст? \n",
    "-- контекст сдвигая на одну\n",
    "\n",
    "-- что за пары? \n",
    "\n",
    "-- что значит разная длина? \n",
    "\n",
    "-- kmenas\n",
    "\n",
    "-- какая метрика качества? кластеров? \n",
    "\n",
    "\n",
    "-- посчитать н-граммы\n",
    "\n",
    "\n",
    "\n",
    "РАЗГОВОР С СОФЬЕЙ\n",
    "- blast для сравнения \n",
    "- есть своя кластеризация и uclust, работают по разному. \n",
    "- Четкого размера нет\n",
    "- Для каких-то спейсеров известно, что они в одном кластере, из-за ошибок сиквенирования, с известными центрами \n",
    "- важен порядок спейсеров\n",
    "- читаем пары спейсеров иногда тройки (простая вероятностна модель)\n",
    "- должна быть вероятность 0.001, но выходит гораздо больше (почему???)\n",
    "- считаем что похожих нет, бывает два подряд похожих\n",
    "- что-то еще есть может быть по тем данным которые есть. База данных кассет\n",
    "- "
   ]
  },
  {
   "cell_type": "code",
   "execution_count": 1,
   "metadata": {
    "collapsed": true
   },
   "outputs": [],
   "source": [
    "f = open('./SlO_spacers_pairs/SlO1_R1_spacers.txt')\n",
    "lines = f.readlines()\n",
    "f.close()"
   ]
  },
  {
   "cell_type": "code",
   "execution_count": 3,
   "metadata": {
    "collapsed": false
   },
   "outputs": [],
   "source": [
    "lines = lines [1:]"
   ]
  },
  {
   "cell_type": "code",
   "execution_count": 5,
   "metadata": {
    "collapsed": false
   },
   "outputs": [
    {
     "data": {
      "text/plain": [
       "['CTGTTTTCGCAAATCTATGGACTATTGCTATT\\n',\n",
       " 'CTGCCGACTGACCGCCGACGCTTTCGCGTTAA\\n',\n",
       " 'CCACCTGCCGCGACGGGTGCCAGCAGATCACG\\n',\n",
       " 'TCGGTTCAGGCGTTGCAAACCTGGCTACCGGG\\n',\n",
       " 'CACACCGTCGCCGGTGCGCGATAACACGTAAA\\n',\n",
       " 'TGCATGTCAGATGGGCACTGCTGATTGGAGAA\\n',\n",
       " 'GGAATGATATTTCAATAAATAATTATAACAAT\\n',\n",
       " 'GACAGAACGGCCTCAGTAGTCTCGTCAGGCTC\\n',\n",
       " 'TCCCCCTTAATTGCTCTCAAAAGATTTGATCC\\n',\n",
       " 'CAGTAATTGCACCCTCAGCATCATTAACCATG\\n']"
      ]
     },
     "execution_count": 5,
     "metadata": {},
     "output_type": "execute_result"
    }
   ],
   "source": [
    "lines[:10]"
   ]
  },
  {
   "cell_type": "code",
   "execution_count": 6,
   "metadata": {
    "collapsed": false
   },
   "outputs": [],
   "source": [
    "lenghts = map(lambda x: len(x), lines)"
   ]
  },
  {
   "cell_type": "code",
   "execution_count": 19,
   "metadata": {
    "collapsed": true
   },
   "outputs": [],
   "source": [
    "import numpy as np"
   ]
  },
  {
   "cell_type": "code",
   "execution_count": 20,
   "metadata": {
    "collapsed": false
   },
   "outputs": [],
   "source": [
    "f = open(\"./SlO_spacers_pairs/SlO1_R1_pairs.txt\")\n",
    "pairs = f.readlines()\n",
    "f.close()"
   ]
  },
  {
   "cell_type": "code",
   "execution_count": 21,
   "metadata": {
    "collapsed": false
   },
   "outputs": [],
   "source": [
    "pairs_array = np.array(map(lambda x: x.split(\" \"), pairs))"
   ]
  },
  {
   "cell_type": "code",
   "execution_count": 22,
   "metadata": {
    "collapsed": false
   },
   "outputs": [],
   "source": [
    "pairs_array[:,1] = map(lambda x: x[:-2], pairs_array[:,1])"
   ]
  },
  {
   "cell_type": "markdown",
   "metadata": {},
   "source": [
    "_____________________________\n",
    "## One hot pairs"
   ]
  },
  {
   "cell_type": "code",
   "execution_count": 40,
   "metadata": {
    "collapsed": true
   },
   "outputs": [],
   "source": [
    "def one_hot_spacer(spacer):\n",
    "    a = np.zeros(len(spacer)*4)\n",
    "    for i, sym in enumerate(spacer):\n",
    "        if sym == 'C':\n",
    "            a[i*4 + 0] = 1\n",
    "        if sym == 'G':\n",
    "            a[i*4 + 1] = 1 \n",
    "        if sym == 'T':\n",
    "            a[i*4 + 2] = 1\n",
    "        if sym == 'A':\n",
    "            a[i*4 + 3] = 1\n",
    "    \n",
    "    return a"
   ]
  },
  {
   "cell_type": "code",
   "execution_count": 79,
   "metadata": {
    "collapsed": true
   },
   "outputs": [],
   "source": [
    "def full_pair_one_hot(pair, l = 24):\n",
    "    pairs = []\n",
    "    for i in range(len(pair[0]) - l + 1):\n",
    "        for j in range(len(pair[1]) - l + 1):\n",
    "            pairs.append([one_hot_spacer(pair[0][i: i + l]), one_hot_spacer(pair[1][j : j + l])])\n",
    "            \n",
    "    return np.array(pairs)"
   ]
  },
  {
   "cell_type": "code",
   "execution_count": 26,
   "metadata": {
    "collapsed": true
   },
   "outputs": [],
   "source": [
    "import tqdm"
   ]
  },
  {
   "cell_type": "code",
   "execution_count": 84,
   "metadata": {
    "collapsed": false
   },
   "outputs": [
    {
     "name": "stderr",
     "output_type": "stream",
     "text": [
      "100%|██████████| 6364/6364 [28:11<00:00,  1.98it/s]\n"
     ]
    }
   ],
   "source": [
    "a = np.zeros((1,2,96))\n",
    "for pair in tqdm.tqdm(pairs_array):\n",
    "    try:\n",
    "        a = np.concatenate((a, full_pair_one_hot(pair)), 0)\n",
    "    except:\n",
    "        print full_pair_one_hot(pair).shape"
   ]
  },
  {
   "cell_type": "code",
   "execution_count": 86,
   "metadata": {
    "collapsed": false,
    "scrolled": true
   },
   "outputs": [],
   "source": [
    "np.save('./wide_one_hot_pairs_SlO1_R1', a)"
   ]
  },
  {
   "cell_type": "code",
   "execution_count": 2,
   "metadata": {
    "collapsed": true
   },
   "outputs": [],
   "source": [
    "a = np.load(\"./wide_one_hot_pairs_SlO1_R1.npy\")"
   ]
  },
  {
   "cell_type": "code",
   "execution_count": 3,
   "metadata": {
    "collapsed": false
   },
   "outputs": [],
   "source": [
    "b = np.concatenate((a[:, 0, :], a[:, 1, :]))"
   ]
  },
  {
   "cell_type": "code",
   "execution_count": 5,
   "metadata": {
    "collapsed": true
   },
   "outputs": [],
   "source": [
    "from sklearn.cluster import DBSCAN, KMeans"
   ]
  },
  {
   "cell_type": "code",
   "execution_count": 6,
   "metadata": {
    "collapsed": true
   },
   "outputs": [],
   "source": [
    "km = KMeans(n_clusters=20, n_jobs=3)"
   ]
  },
  {
   "cell_type": "code",
   "execution_count": 7,
   "metadata": {
    "collapsed": false
   },
   "outputs": [
    {
     "data": {
      "text/plain": [
       "KMeans(algorithm='auto', copy_x=True, init='k-means++', max_iter=300,\n",
       "    n_clusters=20, n_init=10, n_jobs=3, precompute_distances='auto',\n",
       "    random_state=None, tol=0.0001, verbose=0)"
      ]
     },
     "execution_count": 7,
     "metadata": {},
     "output_type": "execute_result"
    }
   ],
   "source": [
    "km.fit(b)"
   ]
  },
  {
   "cell_type": "code",
   "execution_count": 9,
   "metadata": {
    "collapsed": false
   },
   "outputs": [
    {
     "data": {
      "text/plain": [
       "array([ 0,  7,  7,  7,  7,  7,  7,  7,  7,  4,  4,  4,  4,  4,  4,  4,  4,\n",
       "       15, 15, 15, 15, 15, 15, 15, 15,  1,  1,  1,  1,  1,  1,  1,  1,  0,\n",
       "        0,  0,  0,  0,  0,  0,  0,  4,  4,  4,  4,  4,  4,  4,  4,  2,  2,\n",
       "        2,  2,  2,  2,  2,  2,  0,  0,  0,  0,  0,  0,  0,  0, 18, 18, 18,\n",
       "       18, 18, 18, 18, 18, 16, 16, 16, 16, 16, 16, 16, 16,  1,  1,  1,  1,\n",
       "        1,  1,  1,  1,  0,  0,  0,  0,  0,  0,  0,  0,  0,  0,  0], dtype=int32)"
      ]
     },
     "execution_count": 9,
     "metadata": {},
     "output_type": "execute_result"
    }
   ],
   "source": [
    "km.labels_[:100]"
   ]
  },
  {
   "cell_type": "code",
   "execution_count": 167,
   "metadata": {
    "collapsed": false
   },
   "outputs": [],
   "source": [
    "db = DBSCAN(eps=0.7, min_samples=3).fit(pairwise_dist / 1000)"
   ]
  },
  {
   "cell_type": "markdown",
   "metadata": {},
   "source": [
    "-----------"
   ]
  },
  {
   "cell_type": "code",
   "execution_count": 168,
   "metadata": {
    "collapsed": false
   },
   "outputs": [],
   "source": [
    "\n",
    "#db = DBSCAN(eps=0.3, min_samples=10, metric=pairwise_dist).fit()\n",
    "core_samples_mask = np.zeros_like(db.labels_, dtype=bool)\n",
    "core_samples_mask[db.core_sample_indices_] = True\n",
    "labels = db.labels_\n",
    "\n",
    "# Number of clusters in labels, ignoring noise if present.\n",
    "n_clusters_ = len(set(labels)) - (1 if -1 in labels else 0)"
   ]
  },
  {
   "cell_type": "code",
   "execution_count": 169,
   "metadata": {
    "collapsed": false
   },
   "outputs": [
    {
     "name": "stdout",
     "output_type": "stream",
     "text": [
      "Estimated number of clusters: 209\n"
     ]
    }
   ],
   "source": [
    "print('Estimated number of clusters: %d' % n_clusters_)"
   ]
  },
  {
   "cell_type": "code",
   "execution_count": 170,
   "metadata": {
    "collapsed": false
   },
   "outputs": [
    {
     "data": {
      "text/plain": [
       "array([-1, -1,  0, -1, -1, -1, -1,  1, -1,  2, -1,  3,  4, -1, -1, -1, -1,\n",
       "       -1,  5, -1, -1, -1, -1, -1, -1,  6, -1, -1,  7, -1,  8, -1, -1,  9,\n",
       "       10, -1, -1, -1, -1, -1, -1, -1,  5, -1, -1, -1, -1, -1, -1, -1, -1,\n",
       "       -1, -1, -1, -1,  8, -1,  2, 11, -1, -1, -1, -1, 12, -1, -1, 13, -1,\n",
       "       -1, 14, 15, -1, -1, -1, 16, -1, -1, -1, -1, -1, 17, -1, -1, -1,  4,\n",
       "       -1, -1, -1, -1, 18, -1, 19, -1, -1, -1, 20, -1, -1, -1, -1])"
      ]
     },
     "execution_count": 170,
     "metadata": {},
     "output_type": "execute_result"
    }
   ],
   "source": [
    "labels[:100]"
   ]
  },
  {
   "cell_type": "code",
   "execution_count": 164,
   "metadata": {
    "collapsed": false
   },
   "outputs": [],
   "source": [
    "mask = np.where(labels == 10)[0]"
   ]
  },
  {
   "cell_type": "code",
   "execution_count": 165,
   "metadata": {
    "collapsed": false
   },
   "outputs": [
    {
     "data": {
      "text/plain": [
       "array([['AGCGTGTTCGGCATCACCTTTGGCTTCGGCTG',\n",
       "        'CAATCTGGGCGACCGGTCATCATCGCTTCGAT'],\n",
       "       ['AGCGTGTTCGGCATCACCTTTGGCTTCGGCTG',\n",
       "        'CAATCTGGGCGACCGGTCATCATCGCTTCGAT'],\n",
       "       ['AGCGTGTTCGGCATCACCTTTGGCTTCGGCTG',\n",
       "        'CAATCTGGGCGACCGGTCATCATCGCTTCGAT']], \n",
       "      dtype='|S59')"
      ]
     },
     "execution_count": 165,
     "metadata": {},
     "output_type": "execute_result"
    }
   ],
   "source": [
    "pairs_array[mask]"
   ]
  },
  {
   "cell_type": "code",
   "execution_count": 183,
   "metadata": {
    "collapsed": true
   },
   "outputs": [],
   "source": [
    "np.save('pairwise_dist_squares_sum', pairwise_dist)"
   ]
  },
  {
   "cell_type": "code",
   "execution_count": null,
   "metadata": {
    "collapsed": true
   },
   "outputs": [],
   "source": []
  },
  {
   "cell_type": "code",
   "execution_count": 188,
   "metadata": {
    "collapsed": false,
    "scrolled": true
   },
   "outputs": [
    {
     "data": {
      "image/png": "[encoded data removed]",
      "text/plain": [
       "<matplotlib.figure.Figure at 0x161b31b90>"
      ]
     },
     "metadata": {},
     "output_type": "display_data"
    }
   ],
   "source": [
    "plt.plot(pairwise_dist2[1][:1000])\n",
    "plt.show()"
   ]
  },
  {
   "cell_type": "code",
   "execution_count": 138,
   "metadata": {
    "collapsed": false
   },
   "outputs": [],
   "source": [
    "pairwise_dist -= np.diag(np.ones(6364)*1000000)"
   ]
  },
  {
   "cell_type": "code",
   "execution_count": 137,
   "metadata": {
    "collapsed": false
   },
   "outputs": [
    {
     "data": {
      "text/plain": [
       "257.0"
      ]
     },
     "execution_count": 137,
     "metadata": {},
     "output_type": "execute_result"
    }
   ],
   "source": [
    "np.min(pairwise_dist[6])"
   ]
  },
  {
   "cell_type": "code",
   "execution_count": 139,
   "metadata": {
    "collapsed": false
   },
   "outputs": [
    {
     "data": {
      "text/plain": [
       "array([[    0.,  1205.,  1105., ...,   929.,  1076.,   677.],\n",
       "       [ 1205.,     0.,  1060., ...,   968.,   677.,   577.],\n",
       "       [ 1105.,  1060.,     0., ...,   986.,  1058.,  1105.],\n",
       "       ..., \n",
       "       [  929.,   968.,   986., ...,     0.,   929.,   929.],\n",
       "       [ 1076.,   677.,  1058., ...,   929.,     0.,   400.],\n",
       "       [  677.,   577.,  1105., ...,   929.,   400.,     0.]])"
      ]
     },
     "execution_count": 139,
     "metadata": {},
     "output_type": "execute_result"
    }
   ],
   "source": [
    "pairwise_dist"
   ]
  },
  {
   "cell_type": "code",
   "execution_count": null,
   "metadata": {
    "collapsed": true
   },
   "outputs": [],
   "source": []
  },
  {
   "cell_type": "code",
   "execution_count": null,
   "metadata": {
    "collapsed": true
   },
   "outputs": [],
   "source": []
  },
  {
   "cell_type": "code",
   "execution_count": 10,
   "metadata": {
    "collapsed": true
   },
   "outputs": [],
   "source": [
    "def spacers_dist(sp1, sp2):\n",
    "    if len(sp1) < len(sp2):\n",
    "        sp_short = sp1\n",
    "        sp_long = sp2\n",
    "    else:\n",
    "        sp_short = sp2\n",
    "        sp_long = sp1\n",
    "    \n",
    "    min_diff = 100\n",
    "    for i in range(len(sp_long) - len(sp_short) +1):\n",
    "        curr_diff = compare_spacer_parts(sp_short, sp_long[i:i+len(sp_short)])\n",
    "        if curr_diff < min_diff:\n",
    "            min_diff = curr_diff\n",
    "            \n",
    "    return min_diff\n",
    "    "
   ]
  },
  {
   "cell_type": "code",
   "execution_count": 13,
   "metadata": {
    "collapsed": false
   },
   "outputs": [
    {
     "data": {
      "text/plain": [
       "2"
      ]
     },
     "execution_count": 13,
     "metadata": {},
     "output_type": "execute_result"
    }
   ],
   "source": [
    "spacers_dist(\"ACT\", \"ATC\")"
   ]
  },
  {
   "cell_type": "code",
   "execution_count": 12,
   "metadata": {
    "collapsed": true
   },
   "outputs": [],
   "source": [
    "def compare_spacer_parts(sp1, sp2):\n",
    "    diff = 0\n",
    "    for (s1, s2) in zip(sp1, sp2):\n",
    "        if s1 != s2:\n",
    "            diff += 1\n",
    "            \n",
    "    return diff"
   ]
  },
  {
   "cell_type": "code",
   "execution_count": 179,
   "metadata": {
    "collapsed": false
   },
   "outputs": [],
   "source": [
    "def pairs_dist(pair1, pair2, comparator):\n",
    "    return (comparator(pair1[0], pair2[0])+1) + (comparator(pair1[1], pair2[1]) + 1)"
   ]
  },
  {
   "cell_type": "code",
   "execution_count": 180,
   "metadata": {
    "collapsed": false
   },
   "outputs": [
    {
     "data": {
      "text/plain": [
       "6"
      ]
     },
     "execution_count": 180,
     "metadata": {},
     "output_type": "execute_result"
    }
   ],
   "source": [
    "pairs_dist(['asd','asd'], ['xasw', 'brt'], spacers_dist)"
   ]
  },
  {
   "cell_type": "code",
   "execution_count": 181,
   "metadata": {
    "collapsed": false
   },
   "outputs": [
    {
     "name": "stderr",
     "output_type": "stream",
     "text": [
      "100%|██████████| 6364/6364 [11:49<00:00, 10.14it/s]\n"
     ]
    }
   ],
   "source": [
    "l = len(pairs_array)\n",
    "\n",
    "pairwise_dist2 = np.zeros((l,l))\n",
    "for i in tqdm.tqdm(range(l)):\n",
    "    for j in range(l):\n",
    "        d = pairs_dist(pairs_array[i], pairs_array[j], spacers_dist)\n",
    "        pairwise_dist2[i][j] = d\n",
    "        pairwise_dist2[j][i] = d"
   ]
  },
  {
   "cell_type": "code",
   "execution_count": 29,
   "metadata": {
    "collapsed": true
   },
   "outputs": [],
   "source": [
    "import matplotlib.pyplot as plt"
   ]
  },
  {
   "cell_type": "code",
   "execution_count": 142,
   "metadata": {
    "collapsed": false,
    "scrolled": true
   },
   "outputs": [
    {
     "data": {
      "image/png": "[encoded data removed]",
      "text/plain": [
       "<matplotlib.figure.Figure at 0x172e3a190>"
      ]
     },
     "metadata": {},
     "output_type": "display_data"
    }
   ],
   "source": [
    "plt.hist(pairwise_dist.flatten(), bins=200)\n",
    "plt.show()"
   ]
  },
  {
   "cell_type": "code",
   "execution_count": null,
   "metadata": {
    "collapsed": true
   },
   "outputs": [],
   "source": []
  },
  {
   "cell_type": "markdown",
   "metadata": {},
   "source": [
    "# ГШПСДЙЛРЮ"
   ]
  },
  {
   "cell_type": "code",
   "execution_count": 217,
   "metadata": {
    "collapsed": false,
    "scrolled": true
   },
   "outputs": [
    {
     "ename": "ImportError",
     "evalue": "cannot import name _division_",
     "output_type": "error",
     "traceback": [
      "\u001b[0;31m---------------------------------------------------------------------------\u001b[0m",
      "\u001b[0;31mImportError\u001b[0m                               Traceback (most recent call last)",
      "\u001b[0;32m<ipython-input-217-f6f26f9a87a1>\u001b[0m in \u001b[0;36m<module>\u001b[0;34m()\u001b[0m\n\u001b[0;32m----> 1\u001b[0;31m \u001b[0;32mfrom\u001b[0m \u001b[0mfuture\u001b[0m \u001b[0;32mimport\u001b[0m \u001b[0m_division_\u001b[0m\u001b[0;34m\u001b[0m\u001b[0m\n\u001b[0m",
      "\u001b[0;31mImportError\u001b[0m: cannot import name _division_"
     ]
    }
   ],
   "source": [
    "from future import _division_"
   ]
  },
  {
   "cell_type": "code",
   "execution_count": 207,
   "metadata": {
    "collapsed": false
   },
   "outputs": [
    {
     "data": {
      "image/png": "[encoded data removed]",
      "text/plain": [
       "<matplotlib.figure.Figure at 0x173593490>"
      ]
     },
     "metadata": {},
     "output_type": "display_data"
    },
    {
     "data": {
      "image/png": "[encoded data removed]",
      "text/plain": [
       "<matplotlib.figure.Figure at 0x1618b6110>"
      ]
     },
     "metadata": {},
     "output_type": "display_data"
    },
    {
     "data": {
      "image/png": "[encoded data removed]",
      "text/plain": [
       "<matplotlib.figure.Figure at 0x172c77e90>"
      ]
     },
     "metadata": {},
     "output_type": "display_data"
    },
    {
     "data": {
      "image/png": "[encoded data removed]",
      "text/plain": [
       "<matplotlib.figure.Figure at 0x172bc4c10>"
      ]
     },
     "metadata": {},
     "output_type": "display_data"
    },
    {
     "data": {
      "image/png": "[encoded data removed]",
      "text/plain": [
       "<matplotlib.figure.Figure at 0x1614fee50>"
      ]
     },
     "metadata": {},
     "output_type": "display_data"
    },
    {
     "data": {
      "image/png": "[encoded data removed]",
      "text/plain": [
       "<matplotlib.figure.Figure at 0x172dce350>"
      ]
     },
     "metadata": {},
     "output_type": "display_data"
    },
    {
     "data": {
      "image/png": "[encoded data removed]",
      "text/plain": [
       "<matplotlib.figure.Figure at 0x1614946d0>"
      ]
     },
     "metadata": {},
     "output_type": "display_data"
    },
    {
     "data": {
      "image/png": "[encoded data removed]",
      "text/plain": [
       "<matplotlib.figure.Figure at 0x172dce810>"
      ]
     },
     "metadata": {},
     "output_type": "display_data"
    },
    {
     "data": {
      "image/png": "[encoded data removed]",
      "text/plain": [
       "<matplotlib.figure.Figure at 0x173593710>"
      ]
     },
     "metadata": {},
     "output_type": "display_data"
    },
    {
     "data": {
      "image/png": "[encoded data removed]",
      "text/plain": [
       "<matplotlib.figure.Figure at 0x161638f10>"
      ]
     },
     "metadata": {},
     "output_type": "display_data"
    }
   ],
   "source": [
    "for i in range(10):\n",
    "    plt.plot(pairwise_dist2[4001+i][:1000])\n",
    "    plt.show()"
   ]
  },
  {
   "cell_type": "code",
   "execution_count": 211,
   "metadata": {
    "collapsed": false
   },
   "outputs": [
    {
     "name": "stdout",
     "output_type": "stream",
     "text": [
      "304\n",
      "6053\n"
     ]
    }
   ],
   "source": [
    "(pairwise_dist2[0] < 30).sum()\n",
    "print (pairwise_dist2[0] > 30).sum()"
   ]
  },
  {
   "cell_type": "code",
   "execution_count": 212,
   "metadata": {
    "collapsed": false
   },
   "outputs": [
    {
     "name": "stdout",
     "output_type": "stream",
     "text": [
      "82\n",
      "6278\n"
     ]
    }
   ],
   "source": [
    "k = 124\n",
    "print (pairwise_dist2[k] < 30).sum()\n",
    "print (pairwise_dist2[k] > 30).sum()"
   ]
  },
  {
   "cell_type": "code",
   "execution_count": 220,
   "metadata": {
    "collapsed": false
   },
   "outputs": [
    {
     "data": {
      "text/plain": [
       "0.05022302990252767"
      ]
     },
     "execution_count": 220,
     "metadata": {},
     "output_type": "execute_result"
    }
   ],
   "source": [
    "304 / 6053."
   ]
  },
  {
   "cell_type": "code",
   "execution_count": 221,
   "metadata": {
    "collapsed": false
   },
   "outputs": [],
   "source": [
    "m0 = np.zeros(6463)\n",
    "\n",
    "for i, p in enumerate(pairwise_dist2):\n",
    "    if (p < 40).sum() / float((p >= 40).sum()) > 0.01:\n",
    "        m0[i] = 1"
   ]
  },
  {
   "cell_type": "code",
   "execution_count": 223,
   "metadata": {
    "collapsed": false
   },
   "outputs": [
    {
     "data": {
      "text/plain": [
       "array([ 1.,  1.,  1.,  1.,  1.,  1.,  1.,  1.,  1.,  1.,  1.,  1.,  1.,\n",
       "        1.,  1.,  1.,  1.,  1.,  1.,  1.,  1.,  1.,  0.,  1.,  0.,  1.,\n",
       "        1.,  1.,  1.,  1.,  1.,  0.,  1.,  1.,  1.,  1.,  1.,  1.,  0.,\n",
       "        1.,  1.,  1.,  1.,  1.,  1.,  1.,  1.,  1.,  1.,  1.,  1.,  1.,\n",
       "        1.,  1.,  0.,  1.,  1.,  1.,  1.,  0.,  1.,  1.,  1.,  1.,  0.,\n",
       "        1.,  1.,  0.,  1.,  1.,  0.,  0.,  1.,  1.,  1.,  0.,  1.,  1.,\n",
       "        1.,  0.,  1.,  1.,  1.,  1.,  1.,  1.,  1.,  1.,  1.,  1.,  1.,\n",
       "        1.,  1.,  1.,  1.,  1.,  1.,  1.,  1.,  0.])"
      ]
     },
     "execution_count": 223,
     "metadata": {},
     "output_type": "execute_result"
    }
   ],
   "source": [
    "m0[:100]"
   ]
  },
  {
   "cell_type": "code",
   "execution_count": 225,
   "metadata": {
    "collapsed": false
   },
   "outputs": [
    {
     "name": "stderr",
     "output_type": "stream",
     "text": [
      "/Users/rykachevskiy/anaconda/lib/python2.7/site-packages/ipykernel/__main__.py:1: VisibleDeprecationWarning: boolean index did not match indexed array along dimension 0; dimension is 6364 but corresponding boolean dimension is 6463\n",
      "  if __name__ == '__main__':\n"
     ]
    }
   ],
   "source": [
    "p_f = pairwise_dist2[m0.astype(bool)]"
   ]
  },
  {
   "cell_type": "code",
   "execution_count": 230,
   "metadata": {
    "collapsed": false
   },
   "outputs": [
    {
     "name": "stderr",
     "output_type": "stream",
     "text": [
      "/Users/rykachevskiy/anaconda/lib/python2.7/site-packages/ipykernel/__main__.py:1: VisibleDeprecationWarning: boolean index did not match indexed array along dimension 1; dimension is 6364 but corresponding boolean dimension is 6463\n",
      "  if __name__ == '__main__':\n"
     ]
    }
   ],
   "source": [
    "pf = p_f[:, m0.astype(bool)]"
   ]
  },
  {
   "cell_type": "code",
   "execution_count": 232,
   "metadata": {
    "collapsed": false
   },
   "outputs": [
    {
     "data": {
      "text/plain": [
       "(5678, 5678)"
      ]
     },
     "execution_count": 232,
     "metadata": {},
     "output_type": "execute_result"
    }
   ],
   "source": []
  },
  {
   "cell_type": "code",
   "execution_count": 233,
   "metadata": {
    "collapsed": true
   },
   "outputs": [],
   "source": [
    "cluster_mask = np.zeros(5678)\n",
    "curr_dist = np.ones(5678) * 100"
   ]
  },
  {
   "cell_type": "code",
   "execution_count": 249,
   "metadata": {
    "collapsed": false
   },
   "outputs": [],
   "source": [
    "cn = 1\n",
    "i = 0\n",
    "while i < 5678:\n",
    "    if cluster_mask[i] == 0:\n",
    "        p = pf[i]\n",
    "        \n",
    "        for j in range(5678):\n",
    "            if p[j] < 50 and curr_dist > p[j]:\n",
    "                cluster_mask[j] = cn\n",
    "                curr_dist = p[j]\n",
    "        \n",
    "        cn += 1\n",
    "    \n",
    "    i += 1"
   ]
  },
  {
   "cell_type": "code",
   "execution_count": 250,
   "metadata": {
    "collapsed": false
   },
   "outputs": [
    {
     "data": {
      "text/plain": [
       "array([   1.,    2.,    3.,    4.,    5.,    6.,    7.,    8.,    9.,\n",
       "         10.,   11.,  123.,   12.,  146.,   13.,   14.,    2.,   97.,\n",
       "        100.,   58.,  110.,   15.,   16.,   14.,   17.,    3.,   18.,\n",
       "         99.,  134.,   19.,   26.,   20.,  127.,  136.,   71.,   98.,\n",
       "          9.,   21.,  100.,   22.,  146.,  139.,   23.,   24.,   25.,\n",
       "         67.,   67.,   26.,   23.,   27.,  134.,   28.,   10.,  133.,\n",
       "         29.,   73.,  129.,  114.,   12.,  110.,   27.,  109.,   30.,\n",
       "        115.,   31.,  126.,    2.,   46.,   34.,   32.,   22.,  140.,\n",
       "         12.,   45.,   96.,  113.,   33.,   21.,   34.,   35.,   36.,\n",
       "        109.,   30.,   52.,   42.,   65.,   37.,   38.,   39.,    3.,\n",
       "        110.,  134.,   40.,   22.,   78.,   41.,   25.,   50.,  138.,  145.])"
      ]
     },
     "execution_count": 250,
     "metadata": {},
     "output_type": "execute_result"
    }
   ],
   "source": [
    "cluster_mask[:100]"
   ]
  },
  {
   "cell_type": "code",
   "execution_count": 251,
   "metadata": {
    "collapsed": false
   },
   "outputs": [
    {
     "data": {
      "text/plain": [
       "{1.0,\n",
       " 2.0,\n",
       " 3.0,\n",
       " 4.0,\n",
       " 5.0,\n",
       " 6.0,\n",
       " 7.0,\n",
       " 8.0,\n",
       " 9.0,\n",
       " 10.0,\n",
       " 11.0,\n",
       " 12.0,\n",
       " 13.0,\n",
       " 14.0,\n",
       " 15.0,\n",
       " 16.0,\n",
       " 17.0,\n",
       " 18.0,\n",
       " 19.0,\n",
       " 20.0,\n",
       " 21.0,\n",
       " 22.0,\n",
       " 23.0,\n",
       " 24.0,\n",
       " 25.0,\n",
       " 26.0,\n",
       " 27.0,\n",
       " 28.0,\n",
       " 29.0,\n",
       " 30.0,\n",
       " 31.0,\n",
       " 32.0,\n",
       " 33.0,\n",
       " 34.0,\n",
       " 35.0,\n",
       " 36.0,\n",
       " 37.0,\n",
       " 38.0,\n",
       " 39.0,\n",
       " 40.0,\n",
       " 41.0,\n",
       " 42.0,\n",
       " 43.0,\n",
       " 44.0,\n",
       " 45.0,\n",
       " 46.0,\n",
       " 47.0,\n",
       " 48.0,\n",
       " 49.0,\n",
       " 50.0,\n",
       " 51.0,\n",
       " 52.0,\n",
       " 53.0,\n",
       " 54.0,\n",
       " 55.0,\n",
       " 56.0,\n",
       " 57.0,\n",
       " 58.0,\n",
       " 59.0,\n",
       " 60.0,\n",
       " 61.0,\n",
       " 62.0,\n",
       " 63.0,\n",
       " 64.0,\n",
       " 65.0,\n",
       " 66.0,\n",
       " 67.0,\n",
       " 68.0,\n",
       " 69.0,\n",
       " 70.0,\n",
       " 71.0,\n",
       " 72.0,\n",
       " 73.0,\n",
       " 74.0,\n",
       " 75.0,\n",
       " 76.0,\n",
       " 77.0,\n",
       " 78.0,\n",
       " 79.0,\n",
       " 80.0,\n",
       " 81.0,\n",
       " 82.0,\n",
       " 83.0,\n",
       " 84.0,\n",
       " 85.0,\n",
       " 86.0,\n",
       " 87.0,\n",
       " 88.0,\n",
       " 89.0,\n",
       " 90.0,\n",
       " 91.0,\n",
       " 92.0,\n",
       " 93.0,\n",
       " 94.0,\n",
       " 95.0,\n",
       " 96.0,\n",
       " 97.0,\n",
       " 98.0,\n",
       " 99.0,\n",
       " 100.0,\n",
       " 101.0,\n",
       " 102.0,\n",
       " 103.0,\n",
       " 104.0,\n",
       " 105.0,\n",
       " 106.0,\n",
       " 107.0,\n",
       " 108.0,\n",
       " 109.0,\n",
       " 110.0,\n",
       " 111.0,\n",
       " 112.0,\n",
       " 113.0,\n",
       " 114.0,\n",
       " 115.0,\n",
       " 116.0,\n",
       " 117.0,\n",
       " 118.0,\n",
       " 119.0,\n",
       " 120.0,\n",
       " 121.0,\n",
       " 122.0,\n",
       " 123.0,\n",
       " 124.0,\n",
       " 125.0,\n",
       " 126.0,\n",
       " 127.0,\n",
       " 128.0,\n",
       " 129.0,\n",
       " 130.0,\n",
       " 131.0,\n",
       " 132.0,\n",
       " 133.0,\n",
       " 134.0,\n",
       " 135.0,\n",
       " 136.0,\n",
       " 137.0,\n",
       " 138.0,\n",
       " 139.0,\n",
       " 140.0,\n",
       " 141.0,\n",
       " 142.0,\n",
       " 143.0,\n",
       " 144.0,\n",
       " 145.0,\n",
       " 146.0}"
      ]
     },
     "execution_count": 251,
     "metadata": {},
     "output_type": "execute_result"
    }
   ],
   "source": [
    "set(cluster_mask)"
   ]
  },
  {
   "cell_type": "code",
   "execution_count": 252,
   "metadata": {
    "collapsed": false
   },
   "outputs": [
    {
     "data": {
      "text/plain": [
       "38.0"
      ]
     },
     "execution_count": 252,
     "metadata": {},
     "output_type": "execute_result"
    }
   ],
   "source": [
    "cluster_mask[87]"
   ]
  },
  {
   "cell_type": "code",
   "execution_count": 254,
   "metadata": {
    "collapsed": false,
    "scrolled": true
   },
   "outputs": [
    {
     "name": "stderr",
     "output_type": "stream",
     "text": [
      "/Users/rykachevskiy/anaconda/lib/python2.7/site-packages/ipykernel/__main__.py:1: VisibleDeprecationWarning: boolean index did not match indexed array along dimension 0; dimension is 6364 but corresponding boolean dimension is 6463\n",
      "  if __name__ == '__main__':\n"
     ]
    },
    {
     "data": {
      "text/plain": [
       "array([['GACAGAACGGCCTCAGTAGTCTCGTCAGGCTC',\n",
       "        'TCCCCCTTAATTGCTCTCAAAAGATTTGATC'],\n",
       "       ['GACAGAACGGCCTCAGTAGTCTCGTCAGGCTC',\n",
       "        'ACTCTGGCGGCGGCGCAGGCGGATATCGCGA'],\n",
       "       ['GACAGAACGGCCTCAGTAGTCTCGTCAGGCTC',\n",
       "        'AGTTCGACCCTACTCAGGCCGGACTATGGCC'],\n",
       "       ['GACAGAACGGCCTCAGTAGTCTCGTCAGGCTC',\n",
       "        'TACGCGCAGAAAAAAAGGATCTCAAGAAGAT'],\n",
       "       ['GACAGAACGGCCTCAGTAGTCTCGTCAGGCTC',\n",
       "        'TGTGCCCGACTGCGTGCCGCGTCAAGCGCCT'],\n",
       "       ['GACAGAACGGCCTCAGTAGTCTCGTCAGGCTC',\n",
       "        'GCTGACCTGTCGAATCCGTATAGCCGCCGTT'],\n",
       "       ['GACAGAACGGCCTCAGTAGTCTCGTCAGGCTC',\n",
       "        'ACTCACATTAATTGCGTTGCGCTCACTGCCC'],\n",
       "       ['GACAGAACGGCCTCAGTAGTCTCGTCAGGCTC',\n",
       "        'AAACTCTGGGCGCTCGAATGGCTGTCCTGTT'],\n",
       "       ['GACAGAACGGCCTCAGTAGTCTCGTCAGGCTC',\n",
       "        'TACGCCAGCCACCTGCTTCGCCAGCCGTTCG'],\n",
       "       ['GACAGAACGGCCTCAGTAGTCTCGTCAGGCTC',\n",
       "        'ATCAGTGATATCCAACATTGCGGAGCTAAAC'],\n",
       "       ['GACAGAACGGCCTCAGTAGTCTCGTCAGGCTC',\n",
       "        'ATTTGTCGCCGTATGAGTTTTACGCGCCGTC'],\n",
       "       ['GACAGAACGGCCTCAGTAGTCTCGTCAGGCTC',\n",
       "        'GTAGTCGGTGGCCATGGGCTGCAGCTCCTGG'],\n",
       "       ['GACAGAACGGCCTCAGTAGTCTCGTCAGGCTC',\n",
       "        'TCGCCCTTATTCCCTTTTTTGCGGCATTTTG'],\n",
       "       ['GACAGAACGGCCTCAGTAGTCTCGTCAGGCTC',\n",
       "        'GTATATCACGCCGCAAACGGGATCAGCAGCA'],\n",
       "       ['GACAGAACGGCCTCAGTAGTCTCGTCAGGCTC',\n",
       "        'GGACCAAATACCCGTCCCTCAATCCACGCCG'],\n",
       "       ['GACAGAACGGCCTCGGTAGTCTCGTCAGGCTC',\n",
       "        'GTCGCCTGCCGCCTCAATCTCACCACTCGGA'],\n",
       "       ['GACAGAACGGCCTCAGTAGTCTCGTCAGGCTC',\n",
       "        'CCTCCCTCATTTTTTCATCGTCCATGTTCAT'],\n",
       "       ['GACAGAACGGCCTCAGTAGTCTCGTCAGGCTC',\n",
       "        'GGTTTGCTCCCATGTTTTGCCGGTAATCCGC'],\n",
       "       ['GACAGAACGGCCTCAGTAGTCTCGTCAGGCTC',\n",
       "        'AAAAAATGATGCTGTATTTCACTATTGGGTT'],\n",
       "       ['GACAGAACGGCCTCAGTAGTCTCGTCAGGCTC',\n",
       "        'GCCTGACATTGCAGACGTTACAAATTGAGAG'],\n",
       "       ['GACAGAACGGCCTCAGTAGTCTCGTCAGGCTC',\n",
       "        'AACTGGATTCTGCTCTAATTATTACATCATC'],\n",
       "       ['GACAGAACGGCCTCAGTAGTCTCGTCAGGCTC',\n",
       "        'GTATATCACGCCGCAAACGGGATCAGCAGCA'],\n",
       "       ['GACAGAACGGCCTCAGTAGTCTCGTCAGGCTC',\n",
       "        'ATAGCTGCGGCGGTAGGCGTCGAACCGTGGA'],\n",
       "       ['GACAGAACGGCCTCAGTAGTCTCGTCAGGCTC',\n",
       "        'GTATATCACGCCGCAAACGGGATCAGCAGCA'],\n",
       "       ['GACAGAACGGCCTCAGTAGTCTCGTCAGGCTC',\n",
       "        'ACACCCAAACACACGCCCAAATCGCGACCGA'],\n",
       "       ['GACAGAACGGCCTCAGTAGCCTCGTCAGGCTC',\n",
       "        'CTCTACACCACCAACAGTCTGGGTTGCCACT'],\n",
       "       ['GACAGAACGGCCTCAGTAGTCTCGGCAGGCTC',\n",
       "        'GGAGCGGGAAGGTCATACCGTCAACAACGCA'],\n",
       "       ['GACAGAACGGCCTCAGTAGTCTCGTCAGGCTC',\n",
       "        'CACAGTTTTTGATATATCACCACGCTTTTTC']], \n",
       "      dtype='|S59')"
      ]
     },
     "execution_count": 254,
     "metadata": {},
     "output_type": "execute_result"
    }
   ],
   "source": [
    "pairs_array[m0.astype(bool)][cluster_mask == 1]"
   ]
  },
  {
   "cell_type": "markdown",
   "metadata": {
    "collapsed": true
   },
   "source": [
    "# From muchnik\n"
   ]
  },
  {
   "cell_type": "code",
   "execution_count": 430,
   "metadata": {
    "collapsed": true
   },
   "outputs": [],
   "source": [
    "def find_closest(matrix):\n",
    "    flatten_pos = np.argmin(matrix + np.diag(np.ones(matrix.shape[0])*100000))\n",
    "    return flatten_pos / matrix.shape[0], flatten_pos % matrix.shape[0]"
   ]
  },
  {
   "cell_type": "code",
   "execution_count": 424,
   "metadata": {
    "collapsed": true
   },
   "outputs": [],
   "source": [
    "def merge_sets(set1, set2):\n",
    "    for el in set2:\n",
    "        set1.add(el)"
   ]
  },
  {
   "cell_type": "code",
   "execution_count": 425,
   "metadata": {
    "collapsed": false
   },
   "outputs": [],
   "source": [
    "def merge(clusters, matrix, i, j):\n",
    "    for k in range(matrix.shape[0]):\n",
    "        if k != i and k != j:\n",
    "            matrix[i][k] = (matrix[i][k]*len(clusters[i]) + matrix[j][k]*len(clusters[j])) / (len(clusters[i]) +len(clusters[j]))\n",
    "        \n",
    "    merge_sets(clusters[i], clusters[j])\n",
    "    del clusters[j]\n",
    "    \n",
    "    matrix[:, i] = matrix[i] \n",
    "    \n",
    "    return np.vstack((np.hstack((matrix[0:j, 0:j], matrix[0:j, j+1:])), np.hstack((matrix[j+1:, 0:j], matrix[j+1:, j+1:])) ))"
   ]
  },
  {
   "cell_type": "code",
   "execution_count": 426,
   "metadata": {
    "collapsed": false
   },
   "outputs": [],
   "source": [
    "n = 4\n",
    "matrix = np.ones((n, n ))\n",
    "matrix[1][0] += 1\n",
    "matrix[2][0] += 3\n",
    "matrix[0][1] += 1\n",
    "matrix[0][2] += 3\n",
    "matrix -= np.diag(np.ones(n))\n",
    "#np.random.random((n, n))\n",
    "\n",
    "clusters = ([set([x]) for x in range(n)])"
   ]
  },
  {
   "cell_type": "code",
   "execution_count": 420,
   "metadata": {
    "collapsed": false
   },
   "outputs": [],
   "source": [
    "matrix = merge(clusters, matrix, 0, 1)"
   ]
  },
  {
   "cell_type": "code",
   "execution_count": 438,
   "metadata": {
    "collapsed": false
   },
   "outputs": [
    {
     "data": {
      "text/plain": [
       "array([[ 0.,  2.],\n",
       "       [ 2.,  0.]])"
      ]
     },
     "execution_count": 438,
     "metadata": {},
     "output_type": "execute_result"
    }
   ],
   "source": [
    "matrix"
   ]
  },
  {
   "cell_type": "code",
   "execution_count": 439,
   "metadata": {
    "collapsed": false
   },
   "outputs": [
    {
     "data": {
      "text/plain": [
       "[{0, 3}, {1, 2}]"
      ]
     },
     "execution_count": 439,
     "metadata": {},
     "output_type": "execute_result"
    }
   ],
   "source": [
    "clusters"
   ]
  },
  {
   "cell_type": "code",
   "execution_count": 436,
   "metadata": {
    "collapsed": false
   },
   "outputs": [
    {
     "name": "stdout",
     "output_type": "stream",
     "text": [
      "1 2\n"
     ]
    }
   ],
   "source": [
    "print i, j"
   ]
  },
  {
   "cell_type": "code",
   "execution_count": 435,
   "metadata": {
    "collapsed": false
   },
   "outputs": [],
   "source": [
    "i, j = find_closest(matrix)"
   ]
  },
  {
   "cell_type": "code",
   "execution_count": 437,
   "metadata": {
    "collapsed": true
   },
   "outputs": [],
   "source": [
    "matrix = merge(clusters, matrix, i, j)"
   ]
  },
  {
   "cell_type": "markdown",
   "metadata": {},
   "source": [
    "________"
   ]
  },
  {
   "cell_type": "code",
   "execution_count": 444,
   "metadata": {
    "collapsed": false
   },
   "outputs": [],
   "source": [
    "pairwise_dist = pairwise_dist / 1000"
   ]
  },
  {
   "cell_type": "code",
   "execution_count": 447,
   "metadata": {
    "collapsed": true
   },
   "outputs": [],
   "source": [
    "n = pairwise_dist.shape[0]"
   ]
  },
  {
   "cell_type": "code",
   "execution_count": 448,
   "metadata": {
    "collapsed": false
   },
   "outputs": [],
   "source": [
    "clusters = ([set([x]) for x in range(n)])"
   ]
  },
  {
   "cell_type": "code",
   "execution_count": 453,
   "metadata": {
    "collapsed": true
   },
   "outputs": [],
   "source": [
    "pairwise_dist_copy = pairwise_dist.copy()"
   ]
  },
  {
   "cell_type": "code",
   "execution_count": 456,
   "metadata": {
    "collapsed": false
   },
   "outputs": [
    {
     "name": "stderr",
     "output_type": "stream",
     "text": [
      "100%|██████████| 6264/6264 [31:51<00:00,  3.28it/s] \n"
     ]
    }
   ],
   "source": [
    "for i in tqdm.tqdm(range(n-100)):\n",
    "    i, j = find_closest(pairwise_dist_copy)\n",
    "    pairwise_dist_copy = merge(clusters, pairwise_dist_copy, i, j)"
   ]
  },
  {
   "cell_type": "code",
   "execution_count": 467,
   "metadata": {
    "collapsed": true
   },
   "outputs": [
    {
     "name": "stdout",
     "output_type": "stream",
     "text": [
      "GACAGAACGGCCTCAGTAGTCTCGTCAGGCTC TCCCCCTTAATTGCTCTCAAAAGATTTGATCC\n",
      "\n",
      "GACAGAACGGCCTCAGTAGTCTCGTCAGGCTC CTGTTTTCGCAAATCTATGGACTATTGCTATT\n",
      "\n",
      "TCGAACCTGTTTTTCTTAGTACGCGCAACGTC TATGAGCTTCAGTAAGCCAGCGTGGTTCGCT\n",
      "\n",
      "GACAGAACGGCCTCAGTAGTCTCGTCAGGCTC TGGCTCTGCAACAGCAGCACCCATGACCACGT\n",
      "\n",
      "GTCACCAACATTTTCGCCGTTCAGGCCCGCAG CAATCTGGGCGACCGGTCATCATTGCTTCGATG\n",
      "\n",
      "GACAGAACGGCCTCAGTAGTCTCGTCAGGCTC CTGTTTTCGCAAATCTATGGACTATTGCTATT\n",
      "\n",
      "GACAGAACGGCCTCAGTAGTCTCGGCAGGCTC GGAGCGGGAAGGTCATACCGTCAACAACGCAC\n",
      "\n",
      "GACAGAACGGCCTCAGTAGTCTCGTCAGGCTC AGCGTGTTCGGCATCACCTTTGGCTTCGGCTG\n",
      "\n",
      "GACAGAACGGCCTCAGTAGTCTCGTCAGGCTC CTGTTTTCGCAAATCTATGGACTATTGCTATT\n",
      "\n",
      "GACAGAACGGCCTCAGTAGTCTCGTCAGGCTC CTGTTTTCGCAAATCTATGGACTATTGCTATT\n",
      "\n",
      "GACAGAACGGCCTCAGTAGTCTCGTCAGGCTC GAAAATCAGGTTCAGGCGGTCGAGGTAA\n",
      "\n",
      "GACAGAACGGCCTCAGTAGTCTCGTCAGGCTC CTGTTTTCGCAAATCTATGGACTATTGCTATT\n",
      "\n",
      "GACAGAACGGCCTCAGTAGTCTCGTCAGGCTC ATTACGCCTTTTTGCGATTGCCCGGTTTTTGC\n",
      "\n",
      "GACAGAACGGCCTCAGTAGTCTCGTCAGGCTC ATTACGCCTTTTTGCGATTGCCCGGTTTTTGC\n",
      "\n",
      "GACAGAACGGCCTCAGTAGTCTCGTCAGGCTC CTGTTTTCGCAAATCTATGGACTATTGCTATT\n",
      "\n",
      "GACAGAACGGCCTCAGTAGTCTCGTCAGGCTC GGGCGCACGGAATACAAAGCCGTGTATCTGCT\n",
      "\n",
      "TCGAACCTGTTTTTCTTAGTGCGCGCAACGTC ATTACGCCTTTTTGCGATTGCCCGGTTTTTGC\n",
      "\n",
      "GTCACCAACATTTTCGCCGTTCAGGCCCGCAG ACTCACATTAATTGCGTTGCGCTCACTGCCCG\n",
      "\n",
      "GACAGAACGGCCTCAATAGTCTCGTCAGGCTC CAATCTGGGCGACCGGTCATCATCGCTTCGATG\n",
      "\n",
      "GACAGAACGGCCTCAGTAGTCTCGTCAGGCTC CTGTTTTCGCAAATCTATGGACTATTGCTATT\n",
      "\n",
      "GACAGAACGGCCTCAGTAGTCTCGTCAGGCTC GGGCGCACGGAATACAAAGCCGTGTATCTGCT\n",
      "\n",
      "GACAGAACGGCCTCAGTAGTCTCGTCAGGCTC TGCATGGCTTTGGCTTCCTCTTCGACGGACGC\n",
      "\n",
      "GACAGAACGGCCTCAGTAGTCTCGTCAGGCTC ACACGCCCTTATCAAATAGCTGTGATTTACCTA\n",
      "\n",
      "GTCACCAACATTTTCGCCGTTCAGGCCCGCAG CCGACAATCTCCGCCTCCAGTCGGTCGACCTG\n",
      "\n",
      "GTCACCAACATTTTCGCCGTTCAGGCCCGCAG TCAGCCAGACGTGGCATTGCGGCTGCATCCGG\n",
      "\n",
      "GTCACCAACATTTTCGCCGTTCAGGCCCGCAG AACTGGATTCTGCTCTAATTATTACATCATCG\n",
      "\n",
      "GACAGAACGGCCTCAGTAGTCTCGTCAGGCTC AAACTCTGGGCGCTCGAATGGCTGTCCTGTTG\n",
      "\n",
      "GACAGAACGGCCTCAGTAGTCTCGTCAGGCTC CCCATTCCAATTGATACTCATACGTTGTT\n",
      "\n",
      "GACAGAACGGCCTCAGTAGTCTCGTCAGGCTC CTGTTTTCGCAAATCTATGGACTATTGCTATT\n",
      "\n",
      "GACAGAACGGCCTCAGTAGTCTCGTCAGGCTC ATTACGCCTTTTTGCGATTGCCCGGTTTTTGC\n",
      "\n",
      "ACGAACGCGGCACACCAGGGCGTCTCATCGTC TTAATCAGGTCGTCGTACTCAGCGCCGCTGGC\n",
      "\n",
      "GACAGAACGGCCTCAGTAGTCTCGTCAGGCTC ATAACCTGTTTAACCAGGCGACGGGTTTCCAT\n",
      "\n",
      "GACAGAACGGCCTCAGTAGTCTCGTCAGGCTC GGTTTGCTCCCATGTTTTGCCGGTAATCCGCA\n",
      "\n",
      "GACAGAACGGCCTCAGTAGTCTCGTCAGGCTC CTGTTTTCGCAAATCTATGGACTATTGCTATT\n",
      "\n",
      "GACAGAACGGCCTCAGTAGTCTCGTCAGGCTC TCGAACCTGTTTTTCTTAGTGCGCGCAACGTC\n",
      "\n",
      "GTCACCAACATTTTCGCCGTTCAGGCCCGCAG CGTCCGGATCGGTTTCGGGAATCTCTACGCTC\n",
      "\n",
      "GACAGAACGGCCTCAGTAGTCTCGTCAGGCTC CTGTTTTCGCAAATCTATGGACTATTGCTATT\n",
      "\n",
      "GTCACCAACATTTTCGCCGTTCAGGCCCGCAG ACGCCTCGGTTGTTTAGCCATGCTCAGCCCCA\n",
      "\n",
      "TCGAACCTGTTTTTCTTAGTGCGCGCAACGTC TCCGTCCACCCTGATAGCCGCCCTTGTGATCC\n",
      "\n",
      "GACAGAACGGCCTCAGTAGTCTCGTCAGGCTC CTGTTTTCGCAAATCTATGGACTATTGCTATT\n",
      "\n",
      "GACAGAACGGCCTCAGTAGTCTCGTCAGGCTC CACACCGTCGCCGGTGCGCGATAACACGTAAA\n",
      "\n",
      "GACAGAACGGCCTCAGCAGTCTCGTCAGGCTC TGTAATAGCCTGATCTCTGATCTCCCTCGCCT\n",
      "\n",
      "GACAGAACGGCCTCAGTAGTCTCGTCAGGCTC ACATGAATGTCGGTTCAGACCGTGTTTTTACC\n",
      "\n",
      "GACAGAACGGCCTCAGTAGTCTCGTCAGGCTC CTGTTTTCGCAAATCTATGGACTATTGCTATT\n",
      "\n",
      "GTCACCAACATTTTCGCCGTTCAGGCCCGCAG GCGCAGCGAGCAAAATCTACTGGCCGGGCTAA\n",
      "\n",
      "CACATACAAACCCATCATCACCTGCACGTAACGCGGTG AACTGGATTCTGCTCTAATTATTACATCATCG\n",
      "\n",
      "GACAGAACGGCCTCAGTAGTCTCGTCAGGCTC CTGTTTTCGCAAATCTATGGACTATTGCTATT\n",
      "\n",
      "GACAGAACGGCCTCAGTAGTCTCGTCAGGCTC CTGTTTTCGCAAATCTATGGACTATTGCTATT\n",
      "\n",
      "GACAGAACGGCCTCAGTAGTCTCGTCAGGCTC CTATAATTTGTTTTTGCACCACTGTACCTCGT\n",
      "\n",
      "GACAGAACGGCCTCAGTGGTCTCGTCAGGCTC CTGTTTTCGCAAATCTATGGACTATTGCTATT\n",
      "\n",
      "GACAGAACGGCCTCAGTAGTCTCGTCAGGCTC CATAGGGTCGCCGGTTCGGATCAATTTA\n",
      "\n",
      "GACAAAACGGCCTCAGTAGTCTCGTCAGGCTC CTGTTTTCGCAAATCTATGGACTATTGCTATT\n",
      "\n",
      "GTCACCAACATTTTCGCCGTTCAGGCCCGCAG AAAACCAAACTTCTCCATAAATTCCATAGCCG\n",
      "\n",
      "GACAGAACGGCCTCAGTAGTCCCGTCAGGCTC TTTTAACCAATAGGCCGAGATCGGCAAAATCC\n",
      "\n",
      "GACAGAATGGCCTCAGTAGTCTCGTCAGGCTC ATTACGCCCTTTTGCGATTGCCCGGTTTTTGC\n",
      "\n",
      "GACAGAACGGCCTCAGTCGTCTCGTCAGGCTC CCGATCAGCACACCCGAACCGACACCGACGAC\n",
      "\n",
      "GACAGAACGGCCTCAGTAGTCTCGTCAGGCTC TCGGTTCAGGCGTTGCAAACCTGGCTACCGGG\n",
      "\n",
      "GACAGAACGGCCTCAGTAGTCTCGTCAGGCTC ATTACGCCTTTTTGCGATTGCCCGGTTTTTGC\n",
      "\n",
      "GACAGAACGGCCTCAGTAGTCTCGTCAGGCTC CTGTTTTCGCAAATCTATGGACTATTGCTATT\n",
      "\n",
      "GACAGAACGGCCTCAGTAGTCTCGTCAGGCTC CTGTTTTCGCAAATCTATGGACTATTGCTATT\n",
      "\n",
      "GACAGAACAGCCTCAGTAGTCTCGTCAGGCTC CTGTTTTCGCAAATCTATGGACTATTGCTATT\n",
      "\n",
      "GACAGAACGGCCTCAGTAGTCTCGTCAGGCTC TCAACATTATCAATTACAATTGACAGGGAGCC\n",
      "\n",
      "GACAGAACGGCCTCAGTAGTCTCGTCAGGCTC CTGTTTTCGCAAATCTATGGACTATTGCTATT\n",
      "\n",
      "GTCACCAACATTTTCGCCGTTCAGGCCCGCAG AGCCAGGCCCACGGCTGTCTTATTGAAATTGC\n",
      "\n",
      "GACAGAACGGCCTCAGTAGTCTCGTCAGGCTC CTGTTTTCGCAAATCTATGGACTATTGCTATT\n",
      "\n",
      "GACAGAACGGCCTCAGTAGTCTCGTCAGGCTC CTGTTTTCGCAAATCTATGGACTATTGCTATT\n",
      "\n",
      "TCAGCCAGACGTGGCATTGCGGCTGCATCGTC TTAATCAGGTCGTCGTACTCAGCGCCGCTGGC\n",
      "\n",
      "GACAGAACGGCCTCAGTAGTCTCGTCAGGCTC ATTACGCCTTTTTGCGATTGCCCGGTTTTTGC\n",
      "\n",
      "GACAGAACGGCCTCAGTAGTCTCGTCAGGCTC ATTACGCCTTTTTGCGATTGCCCGGTTTTTGC\n",
      "\n",
      "GACAGAACGGCCTCAGTAGTCTCGTCAGGCTC CACAGTTTTTGATATATCACCACGCTTTTTCT\n",
      "\n",
      "ACGAACGCGGCACACCAGGGCGTCTCATCGTC GGTAACTGCCAGACCAAGTTTACTCATATATAC\n",
      "\n",
      "GACAGAACGGCCTCAGTAGTCTCGTCAGGCTC AGTTCGACCCTACTCAGGCCGGACTATGGCCA\n",
      "\n",
      "TCCCATTCACCAACAACAATATCGCCCTGCAA CAATCTGGGCGACCGGTCATCATCGCTTCGATG\n",
      "\n",
      "GACAGAACGGCCTCAGTAGTCTCGTCAGGCTC CTGTTTTCGCAAACCTATGGACTATTGCTATT\n",
      "\n",
      "GTCACCAACATTTTCGCCGTTCAGGCCCGCAG GTCACCAACATTTTCGCCGTTCAGGCCCGCAG\n",
      "\n",
      "GACAGAACGGCCTCAGTAGTCTCGTCAGGCTC GGGCGCACGGAATACAAAGCCGTGTATCTGCT\n",
      "\n",
      "GACAGAACGGCCTCAGTAGTCTCGTCAGGCTC CAATCTGGGCGACCGTTCATCATCGCTTCGATG\n",
      "\n",
      "GACAGAACGGCCTCAGTAGTCTCGTCAGGCTC ATTACGCCTTTTTGCGATTGCCCGGTTTTTGC\n",
      "\n",
      "GTCACCAACATTTTCGCCGTCCAGGCCCGCAG CAATCTGGGCGACCGGTCATCATCGCTTCGATG\n",
      "\n",
      "GACAGAACGGCCTCAGTAGTCTCGTCAGGCTC CAATCTGGGCGACCGGTCATCATCGCTTCGATG\n",
      "\n",
      "GTCACCAGCATTTTCGCCGTTCAAGCCCGCAG TGCGTGAGCGTATCGCCGCGCGTCTGCGAAAG\n",
      "\n",
      "GACAGAACGGCCTCAGTAGTCTCGTCAGGCTC TTTTGCTGACACCGGCAATACTGAACGGCTGG\n",
      "\n",
      "GACAGAACGGCCTCAGTAGTCTCGTCAGGCTC CTGTTTTCGCAAATCTATGGACTATTGCTATT\n",
      "\n",
      "GACAGAACGGCCTCAGTAGTCTCGTCAGGCTC CTGCTTTCGCAAATCTATGGACTATTGCTATT\n",
      "\n",
      "GACAGAACGGCCTCAGTAGTCTCGTCAGGCTC CAGTAATTGCACCCTCAGCATCATTAACCATG\n",
      "\n",
      "GACAGAACGGCCTCAGTAGTCTCGTCAGGCTC GGGGTTATCGTTGTTTTGCCAGCGTCCTTCAT\n",
      "\n",
      "GTCACCAACATTTTCGCCGTTCAGGCCCGCAG ATCACGATAACGCTGCTGTGATTCGTCCCCGT\n",
      "\n",
      "GACAGAACGGCCTCAGTAGTCTCGTCAGGCTC CAATCTGGGCGACCGTTCATCATCGCTTCGATG\n",
      "\n",
      "GACAGAACGGCCTCAGTAGTCTCGTCAGGCTC CTGTTTTCGCAAATCTATGGACTATTGCTATT\n",
      "\n",
      "GACAGAACGGCCTCAGTAGTCTCGTCAGGCTC CTGTTTTCGCAAATCTATGGACTATTGCTATT\n",
      "\n",
      "GACAGAACGGCCTCAGTAGTCTCGTCAGGCTC CTGTTTTCGCAAATCTATGGACTATTGCTATT\n",
      "\n",
      "GACAGAACGGCCTCAGTAGTCTCGTCAGGCTC CTGTTTTCGCAAATCTATGGACTATTGCTATT\n",
      "\n",
      "GTCACCAACATTTTCGCCGTTCAGGCCCGCAG GCGACCGCTCAGAAATTCCAGACCCGATCCAAG\n",
      "\n",
      "GACAGAACGGCCTCAGTAGTCTCGTCAGGCTC CAGTAATTGCACCCTCAGCATCATTAACCATG\n",
      "\n",
      "GACAGAACGGCCTCAGTAGTCTCGTCAGGCTC CTGTTTTCGCAAATCTATGGACTATTGCTATT\n",
      "\n",
      "AAGACGACGTGATCCGCAAAGTCGAAGGCACG CTGTTTTCGCAAATCTATGGACTATTGCTGTT\n",
      "\n",
      "TCGAACCTGTTTTTCTTAGTGCGCGCAACGTC CGTCCGGATCGGTTTCGAGAATCTCTACGCTC\n",
      "\n",
      "ACGAACGCGGCACACCAGGGCGTCTCATCGTC TTAATCAGGTCGTCGTACTCAGCGCCGCTGGC\n",
      "\n",
      "GACAGAACGGCCTCAGTAGTCTCGTCAGGCTC GGGCGCACGGAATACAAAGCCGTGTATCTGCT\n",
      "\n",
      "GACAGAACGGCCTCAGTAGTCTCGTCAGGCTC ACACGCCCTTATCAAATAGCTGTGATTTACCTA\n",
      "\n",
      "GTCACCAACATTTTCGCCGTTCGGGCCCGCAG GGTCAACTGCTCACGTTTCTCAATCTCACTAC\n",
      "\n",
      "GACAGAACGGCCTCAGTAGTCTCGTCAGGCTC CTGTTTTCGCAAATCTATGGACTATTGCTATT\n",
      "\n",
      "ACGAACGCGGCACACCAGGGCGTCTCATCGTC TTAATCAGGTCGTCGTACTCAGCGCCGCTGGC\n",
      "\n",
      "GACAGAACGGCCTCAGTAGTCTCGTCAGGCTC ATTACGCCTTTTTGCGATTGCCCGGTTTTTGC\n",
      "\n",
      "ACGAACGCGGCACACCAGGGCGTCTCATCGTC TTAATCAGGTCGTCGTACTCAGCGCCGCTGGC\n",
      "\n",
      "GACAGAACGGCCTCAGTAGTCTCGTCAGGCTC CTGTTTTCGCAAATCTATGGACTATTGCTATT\n",
      "\n",
      "GACAGAACGGCCTCAGTAGTCTCGTCAGGCTC ATTACGCCTTTTTGCGATTGCCCGGTTTTTGC\n",
      "\n",
      "GACAGAACGGCCTCAGTAGTCTCGTCAGGCTC ATTACGCCTTTTTGCGATTGCCCGGTTTTTGC\n",
      "\n",
      "ACGAACGCGGCACACCAGGGCATCTCATCGTC TTAATCAGGTCGTCGTACTCAGCGCCGCTGGC\n",
      "\n",
      "TCGAACCTGTTTTTCTTAGTGCGCGCAACGTC CTGCTGCTCGAGCTGGTGGAGTGCTGCTATAG\n",
      "\n",
      "GACAGAACGGCCTCAGTAGTCTCGTCAGGCTC CGTTGGCTGGAGATATGGGAGTACCTTTGGAA\n",
      "\n",
      "TCGAACCTGTTTTTCTTAGTGCGCGCAACGTC GAAATGCTGGTGAGCGTTAATGCCGCAAACAC\n",
      "\n",
      "GACAGAACGGCCTCAGTAGTCTCGTCAGGCTC CTGTTTTCGCAAATCTATGGACTATTGCTATT\n",
      "\n",
      "TCGAACCTGTTTTTCTTAGTGCGCGCAACGTC CAATCTGGGCGACCGGTCATCATCGCTTCGATG\n",
      "\n",
      "GACAGAACGGCCTCAGTAGTCTCGTCAGGCTC ATTACGCCTTTTTGCGATTGCCCGGTTTTTGC\n",
      "\n",
      "ACCATTACTTCGGTAAAAGCGTGATCAAGAAT CCCTCACACCGATTCGCCAAACGGTGGAGAAG\n",
      "\n",
      "GACAGAACGGCCTCAGTAGTCTCGTCAGGCTC AGTGCTGGACCATTTCAAATTCACAATAGATT\n",
      "\n",
      "GACAGAACGGCCTCAGTAGTCTCGTCAGGCTC TGGCTCTTCAACAGCAGCACCCATGACCACGT\n",
      "\n",
      "ACGAACGCGGCACACCAGGGCGTCTCATCGTC TCATTTCCCATGCAAAATGCTGCATTCCTGGC\n",
      "\n",
      "GACAGAACGGCCTCAGTAGTCTCGTCAGGCTC CTGTTTTCGCAAATCTATGGACTATTGCTATT\n",
      "\n",
      "GACAGAACGGCCTCAGTAGTCTCGTCAGGCTC GGGCGCACGGAATACAAAGCCGTGTATCTGCT\n",
      "\n",
      "GACGGAACGGCCTCAGTAGTCTCGTCAGGCTC AAGACGACGTGATCCGCAAAGTCGAAGGCACG\n",
      "\n",
      "GACAGAACGGCCTCAGTAGTCTCGTCAGGCTC AAAAAATGATGCTGTATTTCACTATTGGGTTC\n",
      "\n",
      "GACAGAACGGCCTCAGTAGTCTCGTCAGGCTC CTGTTTTCGCAAATCTATGGACTATTGCTATT\n",
      "\n",
      "GACAGAACGGCCTCAGTAGTCTCGTCAGGCTC CTGTTTTCGCAAATCTATGGACTATTGCTATT\n",
      "\n",
      "GACAGAACGGCCTCAGTAGTCTCGTCAGGCTC GGGCGCACGGAATACAAAGCCGTGTATCTGCT\n",
      "\n",
      "GACAGAACGGCCTCAGTAGTCTCGTCAGGCTC ATTACGCCTTTTTGCGATTGCCCGGTTTTTGC\n",
      "\n",
      "GTCACCAACATTTTCGCCGTTCAGGCCCGCAG TCCGTCCACCCTGATAGCCGCCCTTGTGATCC\n",
      "\n",
      "GACAGAACGGCCTCAGTAGTCTCGTCAGGCTC CTGTTTTCGCAAATCTATGGACTATTGCTATT\n",
      "\n",
      "GACAGAACGGCCTCAGTAGTCTCGTCAGGCTC CTGTTTTCGCAAATCTATGGACTATTGCTATT\n",
      "\n",
      "GACAGAACGGCCTCAGTAGTCTCGTCAGGCTC AGCGTGTTCGGCATCACCTTTGGCTTCGGCTG\n",
      "\n",
      "GACAGAACGGCCTCAGTAGTCTCGTCAGGCTC CTGTTTTCGCAAATCTATGGACTATTGCTATT\n",
      "\n",
      "GACAGAACGGCCTCAGTAGTCTCGTCAGGCTC CAATCTGGGCGACCGTTCATCATCGCTTCGATG\n",
      "\n",
      "GACAGAACGGCCTCAGTAGTCTCGTCAGGCTC TAGGCCTATAGAGACGAGCGTTCGTTAAAGCA\n",
      "\n",
      "GACAGAACGGCCTCAGTAGTCTCGTCAGGCTC TGGGCGGCTTGCCTTGCAGCCAGCTCCAGCAG\n",
      "\n",
      "GACAGAACGGCCTCAGTAGTCTCGTCAGGCTC CAGGACGAAAGGCTGCAGAGCCTGCTGAATGA\n",
      "\n",
      "GACAGAACGGCCTCAGTAGTCTCGTCAGGCTC CTGTTTTCGCAAATCTATGGACTATTGCTATT\n",
      "\n",
      "GACAGAACGGCCTCAGTAGTCTCGTCAGGCTC CAATCTGGGCGACCGTTCATCATCGCTTCAATG\n",
      "\n",
      "GACAGAACGGCCTCAGTAGTCTCGTCAGGCTC CTGTTTTCGCAAATCTATGGACTATTGCTATT\n",
      "\n",
      "GACAGAACGGCCTCAGTAGTCTCGTCAGGCTC CTGTTTTCGCAAATCTATGGACTATTGCTATT\n",
      "\n",
      "GACAGAACGGCCTCAGTAGTCTCGTCAGGCTC CTGTTTTCGCAAATCTATGGACTATTGCTATT\n",
      "\n",
      "ACGAACGCGGCACACCAGGGCGTCTCATCGTC TGCATATCAGATGGGCACTGCTGATTGGAGAG\n",
      "\n",
      "GACAGAACGGCCTCAGTAGTCTCGTCAGGCTC TGGGCGGCTTGCCTTGCAGCCAGCTCCAGCAG\n",
      "\n",
      "GACAGAACGGCCTCAGTAGTCTCGTCAGGCTC ATAGACCCCGAACAACAATACGCGCAAACCGA\n",
      "\n",
      "GACAGAACGGCCTCAGTAGTCTCGTCAGGCTC CACACCGTCGCCGGTGCGCGATAACACGTAAA\n",
      "\n",
      "GACAGAACGGCCTCAGTAGTCTCGTCAGGCTC CAATCTGGGCGACCGGTCATCATCGCTTCGATG\n",
      "\n",
      "GACAGAACGGCCTCAGTAGTCTCGTCGGGCTC CACAAACCGCCCATCTTCCCGATTACTGCAGC\n",
      "\n",
      "TCGAACCTGTTTTTCTTAGTGCGCGCAACGTC CGTCCGGATCGGTTTCGAGAATCTCTACGCTC\n",
      "\n",
      "GACAGAACGGCCTCAGTAATCTCGTCAGGCTC CTGTTTTCGCAAATCTATGGACTATTGCTATT\n",
      "\n",
      "GTCACCAACATTTTCGCCGTTCAGGCCCGCAG GAAGAGTTTTCCGGCTTTGTCCTGCTGGATGA\n",
      "\n",
      "GACAGAACGGCCTCAGTAGTCTAGTCAGGCTC TAGTTTCCGTATCCCCGGATTTATAAAGCTGA\n",
      "\n",
      "GACAGAACGGCCTCAGTAGTCTCGTCAGGCTC CTGTTTTCGCAAATCTATGGACTATTGCTATT\n",
      "\n",
      "GACAGAACGGCCTCAGTAGTCTCGTCAGGCTC AAGACGACGTGATCCGCAAAGTCGAAGGCACG\n",
      "\n",
      "GTCACCAACATTTTCGCCGTTCAGGCCCGCAG TACGCCATCCCTGGCCCATCACATCAAGCCGC\n",
      "\n",
      "TCGAACCTGTTTTTCTTAGTGCGCGCAACGTC CGTCCGGATCGGTTTCGAGAATCTCTACGCTC\n",
      "\n",
      "GACAGAACGGCCTCAGTAGTCTCGTCAGGCTC ACATGAATGTCGGTTCAGACCGTGTTTTTACC\n",
      "\n",
      "GACAGAACGGCCTCAGTAGTCTCGTCAGGCTC GCCTGACATTGCAGACGTTACAAATTGAGAGG\n",
      "\n",
      "GACAGAACGGCCTCAGTAGTCTCGTCAGGCTC TTGTTTTCGCAAATCTATGGACTATTGCTATT\n",
      "\n",
      "GACAGAACGGCCTCAGTAGTCTCGTCAGGCTC AGCGTGTTCGGCATCACCTTTGGCTTCGGCTG\n",
      "\n",
      "GACAGAACGGCCTCAGTAGTCTCGTCAGGCCC CTGTTTTCGCAAATCTATGGACTATTGCTATT\n",
      "\n",
      "GTCACCAACATTTTCGCCGTTCAGGCCCGCAG ACCGAGCGCCGCTGGGAGGCGTATCTCACGTT\n",
      "\n",
      "GTCACCAACATTTTCGCCGTTCAGGCCCGCAG GCGGGCGTTAACGCGGTGATACTGCTTGACGG\n",
      "\n",
      "GGCTGGAACTCCGATCAGAGGTCGATCAT AACTGGATTCTGCTCTAATTATTACATCATCG\n",
      "\n",
      "GACAGAACGGCCTCAGTAGTCTCGTCAGGCTC CGATTCCTCGTAGCTGCCACTCGACTGAAAGC\n",
      "\n",
      "GACAGAACGGCCTCAGTAGTCTCGTCAGGCTC TGCCAGTGACTACAGAAGCGTCTCTATCGGGG\n",
      "\n",
      "GACAGAACGGCCTCAGTAGTCTCGTCAGGCTC CAAGTGATATCTATCATCGCATCCAGTGCGCC\n",
      "\n",
      "GACAGAACGGCCTCAGTAGTCTCGTCAGGCTC CTGTTTTCGCAAATCTATGGACTATTGCTATT\n",
      "\n",
      "GACAGAACGGCCTCAGTAGTCTCGTCAGGCTC CTGTTTTCGCAAATCTATGGACTATTGCTATG\n",
      "\n",
      "GACAGAACGGCCTCAGTAGTCTCGTCAGGCTC CTGTTTTCGCAAATCTATGGACTATTGCTATT\n",
      "\n",
      "GACAGAACGGCCTCAGTAGTCTCGTCAGGCTC CTGTTTTCGCAAATCTATGGACTATTGCTATT\n",
      "\n",
      "GACAGAACGGCCTCAGTAGTCTCGTCAGGCTC CTGTTTTCGCAAATCTATGGGCTATTGCTATT\n",
      "\n",
      "ACGAACGCGGCACACCAGGGCGTCTCATCGTC GCTCATGTCAAACGCCATCAGCGTTCCGGCAT\n",
      "\n",
      "GACAGAACGGCCTCAGTAGTCTCGTCAGGCTC CAATCTGGGCGACCGGTCATCATCGCTTCGATG\n",
      "\n",
      "TCGAACCTGTTTTTCTTAGTGCGCGCAACGTC TTATAGAGTTGACTCAAATTCATTTTTATTCC\n",
      "\n",
      "GACAGAACGGCCTCAGTAGTCTCGTCAGGCTC GATCAGATAAATGGCGAGACGATCCTGTTGCAC\n",
      "\n",
      "GACAGAACGGCCTCAGTAGTCTCGTCAGGCTC AAGACGACGTGATCCGCAAAGTCGAAGGCACG\n",
      "\n",
      "GACAGAACGGCCTCAGTAGTCTCGTCAGGCTC GGGCGCACGGAATACAAAGCCGTGTATCTGCT\n",
      "\n",
      "GACAGAACGGCCTCAGTAGTCTCGTCAGGCTC ATAGACCCCGAACAACAATACGCGCAAACCGA\n",
      "\n",
      "GACAGAACGGCCTCAGTAGTCTCGTCAGGCTC CACACCGTCGCCGGTGCGCGATAACACGTAAA\n",
      "\n",
      "GACAGAACGGCCTCAGTAGTCTCGTCAGGCTC TACGCGCAGAAAAAAAGGATCTCAAGAAGATC\n",
      "\n",
      "GACAGAACGGCCTCAGTAGTCTCGTCAGGCTC CACACCGTCGCCGGTGCGCGATAACACGTAAA\n",
      "\n",
      "GACAGAACGGCCTCAGTAGTCTCGTCAGGCTC AACTGGATTCTGCTCTAATTATTACATCATCG\n",
      "\n",
      "GACAGAACGGCCTCAGTAGTCTCGTCAGGCTC TACGTGACGAATATTTGCAACACCCGCAAGAA\n",
      "\n",
      "GACAGAACGGCCTCAGTAGTCTCGTCAGGCTC CCAGAGCATAGCGTTATTGGTTCTTCCTAGTA\n",
      "\n",
      "TCGAACCTGTTTTTCTTTGTGCGCGCAACGTC CGTCCGGATCGGTTTCGAGAATCTCTACGCTC\n",
      "\n",
      "GACAGAACGGCCTCAGTAGTCTCGTCAGGCTC TACGCCAGCCACCTGCTTCGCCAGCCGTTCGG\n",
      "\n",
      "ACGAACGCGGCACACCAGGGCGTCTCATCGTC TGTGTCGGAATATGCGGGCTGATTTTCGTCTG\n",
      "\n",
      "GTCACCAACATTTTCGCCGTTCAGGCCCGCAG CACCCATCTTCCCTTATCGCCGGGTCGCGGAA\n",
      "\n",
      "GACAGAACGGCCTCAGTAGTCTCGTCAGGCTC AAGACGACGTGATCCGCAAAGTCGAAGGCACG\n",
      "\n",
      "GTCACCAACATTTTCGCCGTTCAGGCCCGCAG GCGACCGCTCAGAAATTCCAGACCCGATCCAAA\n",
      "\n",
      "GTCACCAACATTTTCGCCGTTCAGGCCCGCAG TGGCTCTGCAACAGCAGCACCCATGACCACGT\n",
      "\n",
      "GACAGAACGGCCTCAGTAGTCTCGTCAGGCTC AGTGCTGGACCATTTCAAATTCACAATAGATT\n",
      "\n",
      "GACAGAACGGCCTCAGTAGTCTCGTCAGGCTC CAATCTGGGCGACCGGTCATCATCGCTTCGATG\n",
      "\n",
      "GACAGAACGGCCTCAGTAGTCTCGTCAGGCTC CTGTTTTCGCAAATCTATGGACTATTGCTATT\n",
      "\n",
      "TCGAACCTGTTTTCCTTAGTGCGCGCAACGTC GGGCGCACGGAATACAAAGCCGTGTATCTGCT\n",
      "\n",
      "GACAGAACGGCCCCAGTAGTCTCGTCAGGCTT GGGCGCACGGAATACAAAGCCGTGTATCTGCT\n",
      "\n",
      "GTCACCAACATTTTCGCCGTTCAGGCCCGCAG AAGCTGGGTGGCAATCTCTTTCGGGGTGAGTC\n",
      "\n",
      "GTCACCAACATTTTCGCCGTTCAGGCCCGCAG GCAGCTTAGCGACGAAATTAAAACCGAACTCAC\n",
      "\n",
      "GACAGAACGGCCTCAGTAGTCTCGTCAGGCTC CAATCTGGGCGACCGATCATCATCGCTTCGATG\n",
      "\n",
      "GACAGAACGGCCTCAGTAGTCTCGTCAGGCTC CTGTTTTCGCAAATCTATGGACTATTGCTATT\n",
      "\n",
      "GACAGAACGGCCTCAGTAGTCTCGTCAGGCTC CTGTTTTCGCAAATCTATGGACTATTGCTATT\n",
      "\n",
      "TCGAACCTGTTTTTCTTAGTGCGCGCAACGTT CAATCTGGGCGACCGGTCATCATCGCTTCGATA\n",
      "\n",
      "ACGAACGCGGCACACCAGGGCGTCTCATCGTC TTAATCAGGTCGTCGTACTCAGCGCCGCTGGC\n",
      "\n",
      "GTCCCCAACATTTTCGCCGTTCAGGCCCGCAG CGAGCAGTATACAGAACTCAAGAACGCGCCGT\n",
      "\n",
      "GACAGAACGGCCTCAGTAGTCTCGTCAGGCTC AGTGCTGGACCATTTCAAATTCACAATAGATT\n",
      "\n",
      "ACGAACGCGGCACACCAGGGCGTCTCATCGTC GCGATGGATCAGGGTATTACACTCGACGGCGG\n",
      "\n",
      "GACAGAACGGCCTCAGTAGTCTCGTCAGGCTC CTGATTGTCAAAATCAAAAAACAGGCCGAGTC\n",
      "\n",
      "GACAGAACGGCCTCAGTAGTCTCGTCAGGCTC CTGTTTTCGCAAATCTATGGACTATTGCTATT\n",
      "\n",
      "GACAGAACGGCCTCAGTAGTCTCGTCAGGCTC CAATCTGGGCGACCGGTCATCATCGCTTCGATG\n",
      "\n",
      "GACAGAACGGCCTCAGTAGTCTCGTCAGGCTC ATAGACCCCGAACAACAATACGCGCAAACCGA\n",
      "\n",
      "GACAGAACGGCCTCAGTAGTCTCGTCAGGCCC ATTACGCCTTTTTGCGATTGCCCGGTTTTTGC\n",
      "\n",
      "TCGAACCTGTTTTTCTTAGTGCGCGCAACGTC CGTCCGGATCGGTTTCGAGAATCTCTACGCTC\n",
      "\n",
      "GACAGAACGGCCTCAGTAGTCTCGTCAGGCTC CCGGAGCTGGGATTGATAGCGCCTGAT\n",
      "\n",
      "GACAGAACGGCCTCAGTAGTCTCGTCAGGCTC GTATATCACGCCGCAAACGGGATCAGCAGCAG\n",
      "\n",
      "GACAGAACGGCCTCAGTAGTCTCGTCAGGCTC CTGTTTTCGCAAATCTATGGACTATTGCTATT\n",
      "\n",
      "GTCACCAACATTTTCGCCGTTCAGGCCCGCAG TCGGTTCAGGCGTTGCAAACCTGGCTACCGGG\n",
      "\n",
      "GACAGAACGGCCTCAGTAGTCTCGTCAGGCTC CTGTTTTCGCAAATCTATGGACTATTGCTATT\n",
      "\n",
      "GTCACCAACATTTTCGCCGTTCAGGCCCGCAG TAGGCCTATAGAGACGAGCGTTCGTTAAAGCA\n",
      "\n",
      "GTCACCAACATTTTCGCCGTTCAGGCCCGCAG GGGCGCACGGAATACAAAGCCGTGTATCTGCT\n",
      "\n",
      "GACAGAACGGCCTCAGTAGTCTCGTCAGGCTC TTATGAGCTTCAGTAAGCCAGCGTGGTTCGCT\n",
      "\n",
      "GACAGAACGGCCTCAGTAGTCTCGTCAGGCTC GAACTCAACAAGAAAACATTAGTCTAATATTA\n",
      "\n",
      "GTCACCAACATTTTCGCCGTTCAGGCCCGCAG GTCACCAACATTTTCGCCGTTCAGGCCCGCAG\n",
      "\n",
      "GACAGAACGGCCTCAGTAGTCTCGTCAGGCTC CTGTTTTCGCAAATCTATGGACTATTGCTATT\n",
      "\n",
      "GACAGAACGGCCTCAGTAGTCTCGTCAGGCTC CTGTTTTCGCAAATCTATGGACTATTGCTATT\n",
      "\n",
      "GACAGAACGGCCTCAGTAGTCTCGTCAGGATC CCGTAAGTGGTTTGAGCGATGATATTTGTGCT\n",
      "\n",
      "ACGAACGCGGCACACCAGGGCGTCTCATCGTC GGCGATACAAGCACCCGATTACCGGCAAATTT\n",
      "\n",
      "GACAGAACGGCCTCAGTAGTCTCGTCAGGCTC ATAGCTGCGGCGGTAGGCGTCGAACCGTGGAC\n",
      "\n",
      "GACAGAACGGCCTCAGTAGTCTCGTCAGGCTC CTGTTTTCGCAAATCTATGGACTATTGCTATT\n",
      "\n",
      "GTCACCAACATTTTCGCCGTTCAGGCCCGCAG ATGAAGTCCTTATAGTACATTTCAAATACTCC\n",
      "\n",
      "GACAGAACGGCCTCAGTAGTCTCGTCAGGCTC CTGTTTTCGCAAATCTATGGACTATTGCTATT\n",
      "\n",
      "GACAGAACGGCCTCAGTAGTCTCGTCAGGCTC CTGTTTTCGCAAATCTATGGACTATTGCTATT\n",
      "\n",
      "GACAGAACGGCCTCAGTAGTCTCGTCAGGCTC GTAGTCCATCATTCCACCTATGTCTGAACTCC\n",
      "\n",
      "GACAGAACGGCCTCAGTAGTCTCGTCAGGCTC TGTGCCCGACTGCGTGCCGCGTCAAGCGCCTG\n",
      "\n",
      "GACAGAACGGCCTCAGTAGTCTCGTAAGGCTC ACCGAGCGCCGCTGGGAGGCGTATCTCACGTT\n",
      "\n",
      "GACAGAACGGCCTCAGTAGTCTCGTCAGGCTC ATCAGTGATATCCAACATTGCGGAGCTAAACG\n",
      "\n",
      "GACAGAACGGCCTCAGTAGTCTCGTCAGGCTC GTATATCACGCCGCAAACGGGATCAGCAGCAG\n",
      "\n",
      "GACAGAACGGCCTCAGTAGTCTCGTCAGGCTC CTGTTTTCGCAAATCTATGGACTATTGCTATT\n",
      "\n",
      "GACAGAACGGCCTCAGTAGTCTCGTCAGGCTC GTAGTCCATCATTCCACCTATGTCTGAACTCC\n",
      "\n",
      "GACGGAACGGCCCCAGTAGGCCCGTCAGGGTC TTTACGTCGAAGCGCCTTTTTCGCCTCCAGGT\n",
      "\n",
      "GACAGAACGGCCTCAGTAGTCTCGTCAGGCTC CTGTTTTCGCAAATCTATGGACTATTGCTATT\n",
      "\n",
      "GACAGAACGGCCTCAGTAGTCTCGTCAGGCTC CTGTTTTCGCAAATCTATGGACTATTGCTATT\n",
      "\n",
      "GACAGAACGGCCTCAGTAGTCTCGTCAGGCTC CTGTTTTCGCAAATCTATGGACTATTGCTATT\n",
      "\n",
      "GACAGAACGGCCTCAGTAGTCTTGTCAGGCTC CTGTTTTCGCAAATCTATGGACTATTGCTATT\n",
      "\n",
      "GACAGAACGGCCTCAGTAGTCTCGTCAGGCTC CTGTTTTCGCAAATCTATGGACTATTGCTATT\n",
      "\n",
      "GACAGAACGGCCTCAGTAGTCTCGTCAGGCTC TGTGTCGGAATATGCGGGCTGATTTTCGTCTG\n",
      "\n",
      "TCGAACCTGTTTTTCTTAGTGCGCGCAACGTC CATCCGCACGCGAGCAGTACCGGCATTCCTGG\n",
      "\n",
      "GACAGAACGGCCTCAGTAGTCTCGTCAGGCTC CTGTTTTCGCAAATCTATGGACTATTGCTATT\n",
      "\n",
      "GACAGAACGGCCTCAGTAGTCTCGTCAGGCTC ATTACGCCTTTTTGCGATTGCCCGGTTTTTGC\n",
      "\n",
      "GACAGAACGGCCTCAGTAGTCTCGTCAGGCTC CTGTTTTCGCAAATCTATGGACTATTGCTATT\n",
      "\n",
      "GGCGATACAGGCACCCGATTACCGGCAAATTT AAGTAATCATGCCTTAATAGACCCCATCGTCA\n",
      "\n",
      "GACAGAACGGCCTCAGTAGTCTCGTCAGGCTC ATTACGCCTTTTTGCGATTGCCCGGTTTTTGC\n",
      "\n",
      "GACAGAACGGCCTCAGTAGTCTCATCAGGCTC GGGCGCACGGAATACAAAGCCGTGTATCTGCT\n",
      "\n",
      "GACAGAACGGCCTCAGTAGTCTCGTCAGGCTC CTGTTTTCGCAAATCTATGGACTATTGCTATT\n",
      "\n",
      "GTCACCAACATTTTCGCCGTTCAGGCCCGCAG TGGGCCATCGCCCTGATAGACGGTTTTTCGCC\n",
      "\n",
      "GACAGAACGGCCTCAGTAGTCTCGTCAGGCTC AACGTCAGGTTGTCGCCGCTCTGCGTGGTCGC\n",
      "\n",
      "GTCACCAACATTTTCGCCGTTCAGGCCCGCAG CAATCTGGGCGACCGTTCATCATCGCTTCGATG\n",
      "\n",
      "GACAGAACGGCCTCAGTAGTCTCGTCAGGCTC CTGTTTTCGCAAATCTATGGACTATTGCTATT\n",
      "\n",
      "GACAGAACGGCCTCAGTAGTCTCGTCAGGCTC CAGTAATTGCACCCTCAGCATCATTAACCATG\n",
      "\n",
      "GACAGAACGGCCTCAGTAGTCTCGTCAGGCTC ATCAAGTTGCGATGCTTCTTTTCTGTAACCCT\n",
      "\n",
      "GACAGAACGGCCTCAGTAGTCTCGTCAGGCTC ATTACGCCTTTTTGCGATTGCCCGGTTTTTGC\n",
      "\n",
      "GACAGAACGGCCTCAGTAGTCTCGTCAGGCTC ATTACACCTTTTTGCGATTGCCCGGTTTTTGC\n",
      "\n",
      "GACAGAACGGCCTCAGTAGTCTTGTCAGGCTC TCGGTTCAGGCGTTGCAAACCTGGCTACCGGG\n",
      "\n",
      "GACAGAACGGCCTCAGTAGTCTCGTCAGGCTC ATTACGCCTTTTTGCGATTGCCCGGTTTTTGC\n",
      "\n",
      "GACAGAACGGCCTCAGTAGTCTCGTCAGGCTC ATTACGCCTTTTTGCGATTGCCCGGTTTTTGC\n",
      "\n",
      "GACAGAACGGCCTCAGTAGTCTCGTCAGGCTC AAGACGACGTGATCCGCAAAGTCGAAGGCACG\n",
      "\n",
      "GACAGAACGGCCTCAGTAGTCTCGTCAGGCTC CTGTTTTCGCAAATCTATGGACAATTGCTATT\n",
      "\n",
      "GACAGAGCGGCCTTAGTAGTCTCGTCAGGCTC GGGCGCACGGAATACAAAGCCGTGTATCTGCT\n",
      "\n",
      "GACAGAACGGCCTCAGTAGTCTCGTCAGGCTC CAATCTGGGCGACCGGTCATCATCGCTTCGATG\n",
      "\n",
      "GACAGAACGGCCTCAGTAGTCTCGTCAGGCTC CTGTTTTCGCAAATCTATGGGCTATTGCTATT\n",
      "\n",
      "GACAGAACGGCCTCAGTAGTCTCGTCAGGCTC GTCGCCGGGTTGATTTTCCATGATGATTTTTA\n",
      "\n",
      "GTCACCAACATTTTCGCCGTTCAGGCCCGCAG CACACCGTCGCCGGTGCGCGATAACACGTAAA\n",
      "\n",
      "GACAGAACGGCCTCAGTAGTCTCGTCAGGCTC ATTTGTCGCCGTATGAGTTTTACGCGCCGTCT\n",
      "\n",
      "GACAGAACGGCCTCAGTAGTCTCGTCAGGCTC ACCCTCACTCAAAGCTGCTGCTGCGGCCTCTG\n",
      "\n",
      "ACGAACGCGGCACACCAGGGCGTCTCATCGTC TTAATCAGGTCGTCGTACTCAGCGCCGCTGGC\n",
      "\n",
      "GACAGAACGGCCTCAGTAGTCTCGTCAGGCTC CTGTTTTCGCAAATCTATGGACTATTGCTATT\n",
      "\n",
      "GACAGAACGGCCTCAGTAGTCTCGTCAGGCTC TGGCTCTGCAACAGCAGCACCCATGACCACGT\n",
      "\n",
      "GACAGAACGGCCTCAGTAGTCTCGTCAGGCTC CTGTTTTCGCAAATCTATGGACTATTGCTATT\n",
      "\n",
      "GACAGAACGGCCTCAGTAGTCTCGTCAGGCTC ATCACGATAACGCTGCTGTGATTCGTCCCCGT\n",
      "\n",
      "GACAGAACGGCCTCAGTAGTCTCGTCAGGCTC ACACCCAAACACACGCCCAAATCGCGACCGAA\n",
      "\n",
      "GACAGAACGGCCTCAGTAGTCTCGTCAGGCTC CTGTTTTCGCAAATCTATGGACTATTGCTATT\n",
      "\n",
      "GACAGAACGGCCTCAGTAGTCTCGTCAGGCTC AAGCTGGCTGGCAATCTCTTTCGGGGTGAGTC\n",
      "\n",
      "GACAGAACGGCCTCAGTAGTCTCGTCAGGCTC CTGTTTTCGCAAATCTATGGACTATTGCTATT\n",
      "\n",
      "GACAGAACGGCCTCAGTAGTCTTGTCAGGCTC ATTACGCCTTTATGCGATTGCCCGGTTTTTGC\n",
      "\n",
      "GACAGAACGGCCTCAGTAGTCTCGTCAGGCTC CTGTTTTCGCAAATCTATGGACTATTGCTATT\n",
      "\n",
      "GACAGAACGGCCTCAGTAGTCTCGTCAGGCTC TGGGCGGCTTGCCTTGCAGCCAGCTCCAGCAG\n",
      "\n",
      "GACAGAACGGCCTCAGTAGTCTCGTCAGGCTC ACTCTGGCGGCGGCGCAGGCGGATATCGCGAA\n",
      "\n",
      "GACAGAACGGCCTCAGTAGTCTCGTCAGGCTC TGACTACTACCGCTGAAAGGCTGTCGCTACTGG\n",
      "\n",
      "GACAGAACGGCCTCAGTAGTCTCGTCAGGCTC AAGACGACGTGATCCGCAAAGTCGAAGGCACG\n",
      "\n",
      "GACAGAACGGCCTCAGTAGTCTCGTCAGGCTC CTGATCAGCACACCCGAACCGACACCGACGAC\n",
      "\n",
      "TCGAACCTGTTTTTCTTAGTGCGCGCAACGTC ATTACGCCTTTTTGCGATTGCCCGGTTTTTGC\n",
      "\n",
      "GACAGAACGGCCTCAGTAGTCTCGTCAGGCTC TGATTTGCTGAGGCGCGTTTCGTCTCCGAAAA\n",
      "\n",
      "ACGAACGCGGCACACCAGGGCGTCTCATCGTC TTAATCAGGTCGTCGTACTCAGCGCCGCTGGC\n",
      "\n",
      "GACAGAACGGCCTCAGTAGTCTCGTCAGGCTC CTGTTTTCGCAAATCTATGGACTATTGCTATT\n",
      "\n",
      "GACAGAACGGCCTCAGTAGTCTCGTCAGGCTC TCAACATTATCAATTACAACCGACAGGGAGCC\n",
      "\n",
      "GACAGAACGGCCTCAGTAGTCTCGTCAGGCTC GGGCGCACGGAATACAAAGCCGTGTATCTGCT\n",
      "\n",
      "GACAGAACGGCCTCAGTAGTCTCGTCAGGCTC CCGAACGGCTCGGCGCTCTCATACCCCCAAAT\n",
      "\n",
      "GACAGAACGGCCTCAGTAGTCTCGTCAGGCTC CAATCTGGGCGACCGGTCATCATCGCTTCGATG\n",
      "\n",
      "GACAGAACGGCCTCAGTAGTCTCGTCAGGCTC GTAGTCCATCATTCCACCTATGTCTGAACTCC\n",
      "\n",
      "GACAGAACGGCCTCAGTAGTCTCGTCAGGCTC CAATCTGGGCGACCGGTCATCATCGCTTCGATG\n",
      "\n",
      "TCGAACCTGTTTTTCTTAGTGCGCGCAACGTC CCCATTCCAATTGATACTCATACGTTGTT\n",
      "\n",
      "GACAGAACGGCCTCAGTAGTCTCGTCAGGCTC CTGTTTTCGCAAATCTATGGACTATTGCTATT\n",
      "\n",
      "GACAGAACGGCCTCAGTAGTCTCGTCAGGCTC CTGTTTTCGCAAATCTATGGACTATTGCTATT\n",
      "\n",
      "GACAGAACGGCCTCAGTAGTCTCGTCAGGCTC AAGCTGGCTGGCAATCTCTTTCGGGGTGAGTC\n",
      "\n",
      "GACAGAACGGCCTCAGTAGTCTCGTCAGGCTC TTTTACAGTGTCAACAATCGTTCCCTGATTGT\n",
      "\n",
      "GACAGAACGGCCTCAGTAGTCTCGTCAGGCTC CAGGCGGCGACGCGCAGGGTATGCGCGATTCG\n",
      "\n",
      "GACAGAACGGCCTCAGTAGTCTCGTCAGGCTC TGGCTCTGCAACAGCAGCACCCATGACCACGT\n",
      "\n",
      "TCGAACCTGTTTTTCTTAGTGCGCGCAACGTT ATGACTACACGTACCCGATGCGCGGCGCGGGG\n",
      "\n",
      "GACAGAACGGCCTCAGTAGTCTCGTCAGGCTC TTCTGTCACCTGACTATTTAACGCTATATTTC\n",
      "\n",
      "GACAGAACGGCCTCAGTAGTCTCGTCAGGCTC CTGAAACCAGTTGGCTCGTTGTTCTTCTTTGG\n",
      "\n",
      "TCGAACCTGTTTTTCTTAGTGCGCGCAACGTC AAACTCTGGGCGCTCGAATGGCTGTCCTATTG\n",
      "\n",
      "GACAGAACGGCCTCAGTAGTCCCGTCAGGCTC CTGTTTTCGCAAATCTATGGACTATTGCTATT\n",
      "\n",
      "GTCACCAACATTTTCGCCGTTCAGGCCCGCAG GCGCCGTGTAACTTGTGCGCAGCAGATTCCGC\n",
      "\n",
      "GACAGAACGGCCTCGGTAGTCTCGTCAGGCTC CAGAACATACTTCAAAGCCCGAGGCGTACACG\n",
      "\n",
      "GACAGAACGGCCTCAGTAGTCTCGTCAGGCTC CAACAGCATCGTCAGTGCGATTCGTCTGCACACGG\n",
      "\n",
      "TACAGAACGGCCTCAGTAGTCTCGTCAGGCTC ATAGACCCCGAACAACAATACGCGCAAACCGA\n",
      "\n",
      "GACAGAACGGCCTCAGTAGTCTCGTCAGGCTC ATTACGCCTTTTTGCGATTGCCCGGTTTTTGC\n",
      "\n",
      "GACAGAACGGCCTCAGTAGTCTCGTCAGGCTC GCTGACCTGTCGAATCCGTATAGCCGCCGTTC\n",
      "\n",
      "CCCTCACACCGATTCGCCAAACGGTGGAGAAG AAAACCAAACTTCTCCATAAATTCCATAGCCG\n",
      "\n",
      "TCGAACCTGTTTTTCTTAGTGCGCGCAACGTC ATTACGCCTTTTTGCGATTGCCCGGTTTTTGC\n",
      "\n",
      "GACAGAACGGCCTCAGTAGTCTCGTCAGGCTC TTGCTGAAAAAGAAGGCTCCGGCGTTATCAGT\n",
      "\n",
      "ACGAACGCGGCACACCAGGGCGTCTCATCGTC CTCTCCACCCAGGCACTGATACTCCACATAAA\n",
      "\n",
      "GACAGAACGGCCTCAGTAGTCTCGTCAGGCTC ACTCACATTAATTGCGTTGCGCTCACTGCCCG\n",
      "\n",
      "TCGAACCTGTTTTTCTTAGTGCGCGCAACGTC GGGCGCACGGAATACAAAGCCGTGTATCTGCT\n",
      "\n",
      "GACAGAACGGCCTCAGTAGTCTCGTCAGGCTC AAGTAATCATGCCTTAATAGACCCCATCGTCA\n",
      "\n",
      "GACAGAACGGCCTCAGTAGTCTCGTCAGGCTC GTAGTCGGTGGCCATGGGCTGCAGCTCCTGGG\n",
      "\n",
      "GACAGAACGGCCTCAGTAGTCTCGTCAGGCTC ATAGACCCCGAACAACAATACGCGCAAACCGA\n",
      "\n",
      "GACAGAACGGCCTCAGTAGTCTCGTCAGGCTC CTGTTTTCGCAAATCTATGGACTATTGCTATT\n",
      "\n",
      "GACAGAACGGCCTCAGTAGTCTCGTCAGGCTC CTGTTTTCGCAAATCTATGGACTATTGCTATT\n",
      "\n",
      "GTCACCAACATTTTCGCCGTTCAGGCCCGCAG CAATCTGGGCGACCGGTCATCATCGCTTCGATG\n",
      "\n",
      "TCGAACCTGTTTTTCTTAGTGCGCGCAACGTC ATTACGCCTTTTTGCGATTGCCCGGTTTTTGC\n",
      "\n",
      "GTCACCAACATTTTCGCCGTTCAGGCCCGCAG AAACTCTGGGCGCTCGAATGGCCCACAAAGAAAAACCCCGG\n",
      "\n",
      "GACAGAACGGCCTCAGTAGTCTCGTCAGGCTC TATACCGCCGTACATATTTCTCTGCCCAGTTA\n",
      "\n",
      "GACAGAACGGCCTCAGTAGTCTCGTCAGGCTC CTGTTTTCGCAAATCTATGGACTATTGCTATT\n",
      "\n",
      "GACAGAACGGCCTCAGTAGTCTCGTCAGGCTC TCGCCCTTATTCCCTTTTTTGCGGCATTTTGC\n",
      "\n",
      "TCGAACCTGTTTTTCTTAGCGCGCGCAACGTC GAAATGCTGGTGAGCGTTAATGCCGCAAACAC\n",
      "\n",
      "GACAGAACGGCCTCAGTAGCCTCGTCAGGCTC ATTACGCCTTTTTGCGATTGCCCGGTTTTTGC\n",
      "\n",
      "GACAGAACGGCCTCAGTAGTCTCGTCAGGCTC CTGTTTTCGCAAATCTATGGACTATTGCTATT\n",
      "\n",
      "GACAGAACGGCCTCAGTAGTCTCGTCAGGCTC CTGTTTTCGCAAATCTATGGACTATTGCTATT\n",
      "\n",
      "GACAGAACGGCCTCAGTAGTCTCGTCAGGCTC CAGGCGGCGACGCGCAGGGTATGCGCGATTCG\n",
      "\n",
      "GACAGAACGGCCTCAGTAGTCTCGCCAGGCTC TGGCTCTGCAACAGCAGCACCCATGACCACGT\n",
      "\n",
      "GACGGAACGGCCTCAGTAGTCTCGTCAGGCTC CTGTTTTCGCAAATCTATGGACTATTGCTATT\n",
      "\n",
      "GACAGAACGGCCTCAGTAGTTTCGTCAGGCTC GGGCGCACGGAATACAAAGCCGTGTATCTGCT\n",
      "\n",
      "GACAGAACGGCCTCAGTAGTCTCGTCAGGCTC GGGCGCACGGAATACAAAGCCGTGTATCTGCT\n",
      "\n",
      "GACAGAACGGCCTCAGTAGTCTCGTCAGGCTC GCGACCGCTCAGAAACTTTAGACCCGATCCAAA\n",
      "\n",
      "GACAGAACGGCCTCAGTAGTCTCGTCAGGCTC TTCGGGCAGCGGCCCGGCGCTGGCTGGCAGGC\n",
      "\n",
      "GACAGAACGGCCTCAGTAGTCTCGTCAGGCTC CGATTCCTCGTAGCTGCCACTCGACTGAAAGC\n",
      "\n",
      "GACAGAACGGCCTCAGTAGTCTCGTCAGGCTC CTGTTTTCGCAAATCTATGGACTATTGCTATT\n",
      "\n",
      "GACAGAACGGCCTCAGTAGTCTCGTCAGGCTC ACACGCCCTTATCAAATAGCTGTGATTTACCTA\n",
      "\n",
      "GACAGAACGGCCTCAGTAGTCCCGTCAGGCTC ATTACGCCTTTTTGCGATTGCCCGGTTTTTGC\n",
      "\n",
      "GACAGAACGGCCTCAGTAGTCTCGTCAGGCTC CTGTTTTCGCAAATCTATGGACTATTGCTATT\n",
      "\n",
      "GACAGAACGGCCTCAGTAGTCTCGTCAGGCTC GAGTCTATCAGCGACACTACCGGCAATAGCGA\n",
      "\n",
      "GACAGAACGGCCTCAGTAGTCTCGTCAGGCTC GTATATCACGCCGCAAACGGGATCAGCAGCAG\n",
      "\n",
      "GACAGAACGGCCTCAGTAGTCTCGTCAGGCTC TAAACCACCAGCCAGACCACCAATTACCACAC\n",
      "\n",
      "GACAGAACGGCCTCAGTAGTCTCGTCAGGCTC CTGTTTTCGCAAATCTATGGACTATTGCTATT\n",
      "\n",
      "ACGAACGCGGCACACCAGGGCGTCTCATCGTC GGTCAACTGCTCACGTTTCTTAATCTCACTAC\n",
      "\n",
      "GACAGAACGGCCTCAGTAGTCTCGTCAGGCTC GGACCAAATACCCGTCCCTCAATCCACGCCGT\n",
      "\n",
      "GACAGAACGGCCTCAGTAGTCTCGTCAGGCTC AGCGTGTTCGGCATCACCTTTGGCTTCGGCTG\n",
      "\n",
      "GACAGAACGGCCTCAGTAGTCTCGTCAGGCTC CTGTTTTCGCAAATCTATGGACTATTGCTATT\n",
      "\n",
      "GACAGAACGGCCTCAGTAGTCTCGTCAGGCTC CTGTTTTCGCAAATCTATGGACTATTGCTATT\n",
      "\n",
      "GACAGAACGGCCTCAGTAGTCTCGTCAGGCTC ATTACGCCTTTTTGCGATTGCCCGGTTTTTGC\n",
      "\n",
      "GACAGAACGGCCTCAGTAGTCTCGTCAGGCTC CTGTTTTCGCAAATCTATGGACTATTGCTATT\n",
      "\n",
      "GACAGAACGGCCTCAGTAGTCTCGTCAGGCTC TCGGTCCAGGCGTTGCAAACCTGGCTACCGGG\n",
      "\n",
      "ACGAACGCGGCACACCAGGGCGTCTCATCGTC GTTACGCTGCCTGAATATCGCAATTCCCCTGA\n",
      "\n",
      "TCGAACCTGTTTTTCTTAGTGCGCGCAACGTC AGCTCCTGTCTCAATATCTGGAAGAGGATCAC\n",
      "\n",
      "GACAGAACGGCCTCAGTAGTCTCGTCAGGCTC CTGTTTTCGCAAATCTATGGACTATTGCTATT\n",
      "\n",
      "GACAGAACGGCCTCAGTAGTCTCGTCAGGCTC CTGTTTTCGCAAATCTATGGACTATTGCTATT\n",
      "\n",
      "GACAGAACGGCCTCAGTAGTCTCGTCAGGCTC CTGTTTTCGCAAATCTATGGACTATTGCTATT\n",
      "\n",
      "GACAGTACGGCCTCAGTAGTCTCGTCAGGCTC ATTACGCCTTTTTGCGATTGCCCGGTTTTTGC\n",
      "\n",
      "GTCACCAACATTTTCGCCGTTCAGGCCCGCAG TGCATATCAGATGGGCACTGCTGATTGGAGAA\n",
      "\n",
      "GACAGAACGGCCTCAGTAGTCTCGTCAGGCTC GTAGTCCATCGTTCCACCTATGTCTGAACTCC\n",
      "\n",
      "GACAGAACGGCATCAGTAGTCTCGTCAGGCTC CAATCTGGGCGACCGGTCATCATCGCTTCGATG\n",
      "\n",
      "GACAGAACGGCCTCAGTAGTCTCGTCAGGCTC GGGCGCACGGAATACAAAGCCGTGTATCTGCT\n",
      "\n",
      "GACAGAACGGCCTCAGTAGTCTCGTCAGGCTC TAAACCACCAGCCAGACCACCAATTACCACAC\n",
      "\n",
      "GACAGAACGGCCTCAGTAGTCTCGTCAGGCTC ATTACGCCTTTTTGCGATTGCCCGGTTTTTGC\n",
      "\n",
      "GACAGAACGGCCTCAGTAGTCTCGTCAGGCTC GGGCGCACGGAATACAAAGCCGTGTATCTGCT\n",
      "\n",
      "GACAGAACGGCCTCAGTAGTCTCGTCAGGCTC AAGTAATCATGCCTTAATAGACCCCATCGTCG\n",
      "\n",
      "GACAGAACGGCCTCAGTAGTCTCGTCAGGCTC ATTACGCCTTTTTGCGATTGCCCGGTTTTTGC\n",
      "\n",
      "GACAGAACGGCCTCAGTAGTCTCGTCAGGCTC CTGTTTTCGCAAATCTATGGACTATTGCTATT\n",
      "\n",
      "GACAGAACGGCCTCAGTAGTCTCGTCAGGCTC CAATCTGGGCGACCGGTCATCATCGCTTCGATG\n",
      "\n",
      "CATAGGGTCGCCGGTTGCGGATCAATTTA AAGTAATCATGCCTTAATAGACCCCATCGTCA\n",
      "\n",
      "GACAAAACGGCCTCAGTAGTCTCGTCAGGCTC GGGCGCACGGAATACAAAGCCGTGTATCTGCT\n",
      "\n",
      "GACAGAACGGCCTCAGTAGCCTCGTCAGGCTC CTCTACACCACCAACAGTCTGGGTTGCCACTT\n",
      "\n",
      "GACAGAACGGCCTCAGTAGTCTCGTCAGGCTC GGGCGCACGGAATACAAAGCCGTGTATCTGCT\n",
      "\n",
      "ACCATTACTTCGGTAAAAGCGTGATCAAGAAT CGAGCAGTATACAGAACTCAAGAACGCGCCGT\n",
      "\n",
      "ACGAACGCGGCACACCAGGGCGTCTCATCGTC GGAATATCGTTGCGCTAAAAGAGATTCTGGGC\n",
      "\n",
      "GACAGAACGGCCTCAGTAGTCTCGTCAGGCTC ACACGCCCTTATCAAATAGCTGTGATTTACCTA\n",
      "\n",
      "GACAGAACGGCCTCAGTAGTCTCGTCAGGCTC CAAACAGGTCGACATGTTTGGCTAACAGCTAA\n",
      "\n",
      "GACAGAACGGCCTCAGTAGTCTCGTCAGGCTC GGGCGCACGGAATACAAAGCCGTGTATCTGCT\n",
      "\n",
      "GACAGAACGGCCTCAGTAGACTCGTCAGGCTC AGTGCTGGACCATTTCAAATTCACAATAGATT\n",
      "\n",
      "GACAGAACGGCCTCGGTAGTCTCGTCAGGCTC GTCGCCTGCCGCCTCAATCTCACCACTCGGAG\n",
      "\n",
      "GACAGAACGGCCTCAGTAGTCTCGTCAGGCTC TAGTTTCCGTATCTCCGGATTTATAAAGCTGA\n",
      "\n",
      "GACAGAACGGCCTCAGTAGTCTCGTCAGGCTC CTGCTTTCGCAAATCTATGGACTATTGCTATT\n",
      "\n",
      "GACAGAACGGCCTCAGTAGTCTCGTCAGGCTC CCTCCCTCATTTTTTCATCGTCCATGTTCATG\n",
      "\n",
      "GACAGAACGGCCTCAGTAGTCTCGTCAGGCTC GGGCGCACGGAATACAAAGCCGTGTATCTGCT\n",
      "\n",
      "GACAGAACGGCCTCAGTAGTCTCGTCAGGCTC CTGTTTTCGCAAATCTATGGACTATTGCTATT\n",
      "\n"
     ]
    }
   ],
   "source": [
    "for num in clusters[0]:\n",
    "    print pairs[num]"
   ]
  },
  {
   "cell_type": "code",
   "execution_count": 491,
   "metadata": {
    "collapsed": false
   },
   "outputs": [],
   "source": [
    "lengths = []\n",
    "for i in clusters:\n",
    "    lengths.append(len(i))\n",
    "    \n",
    "lengths = np.array(lengths)"
   ]
  },
  {
   "cell_type": "code",
   "execution_count": 492,
   "metadata": {
    "collapsed": false
   },
   "outputs": [
    {
     "data": {
      "text/plain": [
       "array([395, 261, 114, 173,  49, 135,  16,  60, 179, 274,  52, 725, 593,\n",
       "         4,  22, 156,  28,  46,  21,  45,  52, 223,  40,  12,  18,  68,\n",
       "       129,  15,  33,  90,  21,  29,  30,  48,   8,  13,  16,  20,   6,\n",
       "        30,  25,  10,  48,  34,  46,  46,  59,  12, 163,  22,  16,  52,\n",
       "       270,  85,  26, 160,  58,   4,  10,  11,  28,  22,  39,   6,   3,\n",
       "        25,  87,   8,  66,  19, 111,  40,  65,  19,  21,  37,  11,  46,\n",
       "        36,  23,   4,  10,   6,   9,   3,  30,  36,  20,  21,  21,  23,\n",
       "         6,  16,   7,   2,   5,  14,   8,   3,   2])"
      ]
     },
     "execution_count": 492,
     "metadata": {},
     "output_type": "execute_result"
    }
   ],
   "source": [
    "lengths"
   ]
  },
  {
   "cell_type": "code",
   "execution_count": 518,
   "metadata": {
    "collapsed": false
   },
   "outputs": [],
   "source": [
    "sorted_lens = np.argsort(lengths)[::-1]"
   ]
  },
  {
   "cell_type": "code",
   "execution_count": 525,
   "metadata": {
    "collapsed": false
   },
   "outputs": [
    {
     "data": {
      "text/plain": [
       "array([11, 12,  0,  9, 52,  1, 21,  8,  3, 48, 55, 15,  5, 26,  2, 70, 29,\n",
       "       66, 53])"
      ]
     },
     "execution_count": 525,
     "metadata": {},
     "output_type": "execute_result"
    }
   ],
   "source": [
    "sorted_lens[:19]"
   ]
  },
  {
   "cell_type": "code",
   "execution_count": 526,
   "metadata": {
    "collapsed": false
   },
   "outputs": [
    {
     "data": {
      "text/plain": [
       "array([725, 593, 395, 274, 270, 261, 223, 179, 173, 163, 160, 156, 135,\n",
       "       129, 114, 111,  90,  87,  85])"
      ]
     },
     "execution_count": 526,
     "metadata": {},
     "output_type": "execute_result"
    }
   ],
   "source": [
    "np.sort(lengths)[::-1][:19]"
   ]
  },
  {
   "cell_type": "code",
   "execution_count": 529,
   "metadata": {
    "collapsed": false
   },
   "outputs": [],
   "source": [
    "clusters_cut = np.array(clusters)[sorted_lens[:19]]"
   ]
  },
  {
   "cell_type": "markdown",
   "metadata": {},
   "source": [
    "### avrg spacers dist"
   ]
  },
  {
   "cell_type": "code",
   "execution_count": 489,
   "metadata": {
    "collapsed": false,
    "scrolled": false
   },
   "outputs": [
    {
     "data": {
      "text/plain": [
       "20"
      ]
     },
     "execution_count": 489,
     "metadata": {},
     "output_type": "execute_result"
    }
   ],
   "source": [
    "spacers_dist(pairs_array[0][0], pairs_array[5000][0])"
   ]
  },
  {
   "cell_type": "code",
   "execution_count": 534,
   "metadata": {
    "collapsed": true
   },
   "outputs": [],
   "source": [
    "def clusters_dist(cluster1, cluster2):\n",
    "    dist = 0\n",
    "    for pn1 in cluster1:\n",
    "        for pn2 in cluster2:\n",
    "            pairs_array[pn1]\n",
    "            dist += float(spacers_dist(pairs_array[pn1][1], pairs_array[pn2][0])) / (len(clusters[i])) / (len(clusters[j])) \n",
    "            \n",
    "    return dist\n",
    "            "
   ]
  },
  {
   "cell_type": "code",
   "execution_count": 536,
   "metadata": {
    "collapsed": false
   },
   "outputs": [
    {
     "name": "stderr",
     "output_type": "stream",
     "text": [
      "19it [04:06,  5.44s/it]\n"
     ]
    }
   ],
   "source": [
    "cluster_pairwise_distances = np.zeros((19,19))\n",
    "\n",
    "for i, cl1 in tqdm.tqdm(enumerate(clusters_cut)):\n",
    "    for j, cl2 in enumerate(clusters_cut):\n",
    "        cluster_pairwise_distances[i][j] = clusters_dist(cl1, cl2)\n",
    "        "
   ]
  },
  {
   "cell_type": "code",
   "execution_count": 538,
   "metadata": {
    "collapsed": false
   },
   "outputs": [
    {
     "data": {
      "text/plain": [
       "0.90315752747571021"
      ]
     },
     "execution_count": 538,
     "metadata": {},
     "output_type": "execute_result"
    }
   ],
   "source": [
    "np.min(cluster_pairwise_distances)"
   ]
  },
  {
   "cell_type": "code",
   "execution_count": 552,
   "metadata": {
    "collapsed": true
   },
   "outputs": [],
   "source": [
    "cluster_pairwise_distances_copy = cluster_pairwise_distances.copy()\n",
    "cluster_pairwise_distances_copy += np.diag(np.ones(19) * 10000)"
   ]
  },
  {
   "cell_type": "code",
   "execution_count": 554,
   "metadata": {
    "collapsed": false
   },
   "outputs": [
    {
     "name": "stdout",
     "output_type": "stream",
     "text": [
      "0.903157527476\n",
      "1.0568657324\n",
      "2.62789327964\n",
      "2.71001258495\n",
      "2.76038576581\n",
      "2.96131879224\n",
      "3.32558797524\n",
      "3.50755610326\n",
      "3.65679045093\n",
      "3.86976261513\n",
      "3.88799845887\n",
      "4.628125602\n",
      "4.76914090836\n",
      "4.81003181733\n",
      "4.84213402169\n",
      "6.99775164441\n",
      "7.42278652582\n",
      "7.72385928316\n",
      "7.77513183675\n"
     ]
    }
   ],
   "source": [
    "x_arr = []\n",
    "y_arr = []\n",
    "for i in range(19):\n",
    "    print np.min(cluster_pairwise_distances_copy)\n",
    "    min_pos = np.argmin(cluster_pairwise_distances_copy)\n",
    "    x = min_pos / 19\n",
    "    y = min_pos % 19\n",
    "    x_arr.append(x)\n",
    "    y_arr.append(y)\n",
    "    cluster_pairwise_distances_copy[x][y] += 10000"
   ]
  },
  {
   "cell_type": "code",
   "execution_count": 555,
   "metadata": {
    "collapsed": false
   },
   "outputs": [
    {
     "data": {
      "text/plain": [
       "[11, 12, 11, 9, 12, 9, 11, 12, 15, 15, 8, 11, 12, 15, 8, 11, 3, 3, 12]"
      ]
     },
     "execution_count": 555,
     "metadata": {},
     "output_type": "execute_result"
    }
   ],
   "source": [
    "x_arr"
   ]
  },
  {
   "cell_type": "code",
   "execution_count": 556,
   "metadata": {
    "collapsed": false
   },
   "outputs": [
    {
     "data": {
      "text/plain": [
       "[12, 11, 9, 11, 9, 12, 15, 15, 11, 12, 11, 8, 8, 9, 12, 3, 11, 12, 3]"
      ]
     },
     "execution_count": 556,
     "metadata": {},
     "output_type": "execute_result"
    }
   ],
   "source": [
    "y_arr"
   ]
  },
  {
   "cell_type": "code",
   "execution_count": 546,
   "metadata": {
    "collapsed": false
   },
   "outputs": [
    {
     "data": {
      "text/plain": [
       "array([[  6.71969620e+01,   8.87773801e+01,   1.43553276e+02,\n",
       "          5.88963781e+01,   2.26043968e+02,   7.55292077e+01,\n",
       "          5.59118829e+02,   1.18019325e+02,   3.92501662e+01,\n",
       "          2.33636145e+01,   1.19078140e+02,   8.33768311e+00,\n",
       "          8.71700216e+00,   1.19468228e+03,   1.97699425e+02,\n",
       "          2.78189873e+01,   1.27704702e+02,   5.41826637e+01,\n",
       "          1.60069560e+02],\n",
       "       [  9.28508075e+01,   1.13920744e+02,   1.81003663e+02,\n",
       "          8.34667464e+01,   4.79333021e+01,   9.81034483e+01,\n",
       "          6.96385536e+02,   1.61696743e+02,   5.39769901e+01,\n",
       "          2.82823503e+01,   1.57390805e+02,   1.06156533e+01,\n",
       "          1.11228767e+01,   1.64077203e+03,   2.68229537e+02,\n",
       "          3.57993663e+01,   1.64590449e+02,   1.02618607e+02,\n",
       "          1.88341908e+02],\n",
       "       [  1.25252054e+02,   1.70120589e+02,   2.70440674e+02,\n",
       "          1.17278014e+02,   3.89515933e+02,   1.46103184e+02,\n",
       "          1.05502029e+03,   2.26964035e+02,   7.30424385e+01,\n",
       "          4.22441734e+01,   2.34577092e+02,   1.60529462e+01,\n",
       "          1.70840212e+01,   2.41150439e+03,   3.86446172e+02,\n",
       "          5.31720648e+01,   2.49067356e+02,   1.44377574e+02,\n",
       "          2.94461571e+02],\n",
       "       [  6.15706446e+01,   7.65211614e+01,   1.17193946e+02,\n",
       "          5.29551271e+01,   1.84607880e+02,   6.61114108e+01,\n",
       "          4.83396676e+02,   1.03107033e+02,   3.32768754e+01,\n",
       "          2.08384667e+01,   6.61450645e+01,   7.42278653e+00,\n",
       "          7.72385928e+00,   1.11092919e+03,   1.79013400e+02,\n",
       "          2.43980658e+01,   1.12625929e+02,   6.80889671e+01,\n",
       "          1.26846408e+02],\n",
       "       [  2.13671351e+02,   2.68900149e+02,   4.14259757e+02,\n",
       "          1.85582753e+02,   6.61414827e+02,   2.29442933e+02,\n",
       "          1.65789286e+03,   3.57479592e+02,   1.15693193e+02,\n",
       "          6.92333532e+01,   3.66083595e+02,   2.54984940e+01,\n",
       "          2.71795781e+01,   3.79863265e+03,   6.09075139e+02,\n",
       "          8.44587912e+01,   3.90841108e+02,   2.14570541e+02,\n",
       "          4.80636540e+02],\n",
       "       [  5.27033662e+01,   9.34034341e+01,   1.52128785e+02,\n",
       "          6.07038322e+01,   2.20034921e+02,   8.13412346e+01,\n",
       "          6.03885648e+02,   1.20838642e+02,   4.01549348e+01,\n",
       "          2.52345499e+01,   1.30663533e+02,   8.80383142e+00,\n",
       "          9.44440697e+00,   1.30026667e+03,   2.11286195e+02,\n",
       "          2.88396961e+01,   1.40820635e+02,   7.96867955e+01,\n",
       "          1.61068430e+02],\n",
       "       [  5.92131171e+02,   6.96118774e+02,   1.09970066e+03,\n",
       "          5.10468569e+02,   1.79679209e+03,   5.94838426e+02,\n",
       "          4.31211328e+03,   9.20045833e+02,   3.08148045e+02,\n",
       "          1.73466697e+02,   9.42677885e+02,   6.28689655e+01,\n",
       "          7.42821459e+01,   1.00478906e+04,   1.29166761e+03,\n",
       "          2.21494792e+02,   9.53723214e+02,   5.71858696e+02,\n",
       "          1.35545536e+03],\n",
       "       [  1.18059958e+02,   1.47882567e+02,   2.28171345e+02,\n",
       "          1.00769846e+02,   3.71006803e+02,   1.24109136e+02,\n",
       "          8.41048958e+02,   1.91371667e+02,   6.35900372e+01,\n",
       "          3.62421533e+01,   2.05436859e+02,   1.36420460e+01,\n",
       "          1.50490444e+01,   2.06062083e+03,   3.32138636e+02,\n",
       "          4.56651709e+01,   2.11842262e+02,   1.13451449e+02,\n",
       "          2.58069048e+02],\n",
       "       [  3.85703698e+01,   4.70976262e+01,   7.35344016e+01,\n",
       "          3.21618820e+01,   1.22768555e+02,   4.01437203e+01,\n",
       "          2.84310754e+02,   6.29229981e+01,   1.98490996e+01,\n",
       "          1.14002161e+01,   6.51585733e+01,   3.88799846e+00,\n",
       "          4.84213402e+00,   6.69509777e+02,   1.08275267e+02,\n",
       "          1.47588096e+01,   6.86807662e+01,   3.88268156e+01,\n",
       "          7.74328279e+01],\n",
       "       [  2.36769103e+01,   2.91076293e+01,   4.36268728e+01,\n",
       "          2.02993966e+01,   7.05603307e+01,   2.48067586e+01,\n",
       "          1.78487911e+02,   3.91592457e+01,   1.24701709e+01,\n",
       "          7.45874847e+00,   3.97098540e+01,   2.71001258e+00,\n",
       "          2.96131879e+00,   4.15544708e+02,   6.69430989e+01,\n",
       "          9.13866274e+00,   4.13910323e+01,   2.46267058e+01,\n",
       "          5.28444560e+01],\n",
       "       [  1.24891675e+02,   1.53116269e+02,   2.27473009e+02,\n",
       "          1.07884949e+02,   3.88262166e+02,   1.29712963e+02,\n",
       "          9.17526442e+02,   1.46883974e+02,   6.33456167e+01,\n",
       "          3.81770775e+01,   2.07972633e+02,   1.46003448e+01,\n",
       "          1.53848100e+01,   2.17367788e+03,   3.40580420e+02,\n",
       "          4.81286982e+01,   2.28021291e+02,   1.26540552e+02,\n",
       "          2.79302198e+02],\n",
       "       [  8.57484766e+00,   1.06292667e+01,   1.60908651e+01,\n",
       "          6.99775164e+00,   2.74455454e+01,   9.01945338e+00,\n",
       "          6.32967241e+01,   1.40931954e+01,   4.62812560e+00,\n",
       "          2.62789328e+00,   1.39558886e+01,   9.92214982e-01,\n",
       "          9.03157527e-01,   1.50432069e+02,   2.43339812e+01,\n",
       "          3.32558798e+00,   1.53179310e+01,   8.67871064e+00,\n",
       "          1.88162890e+01],\n",
       "       [  8.86825197e+00,   1.11639433e+01,   1.73489690e+01,\n",
       "          7.77513184e+00,   2.81514953e+01,   9.52621323e+00,\n",
       "          6.67815135e+01,   1.47970770e+01,   4.76914091e+00,\n",
       "          2.76038577e+00,   1.51039045e+01,   1.05686573e+00,\n",
       "          1.13610731e+00,   1.58212057e+02,   2.50957382e+01,\n",
       "          3.50755610e+00,   1.60978680e+01,   9.06103820e+00,\n",
       "          2.02743114e+01],\n",
       "       [  1.37897025e+03,   1.37823659e+03,   2.43390570e+03,\n",
       "          1.17218497e+03,   3.73930102e+03,   1.34333333e+03,\n",
       "          9.37401562e+03,   2.20920000e+03,   6.86797486e+02,\n",
       "          4.08964416e+02,   2.11676442e+03,   1.44350690e+02,\n",
       "          1.67527825e+02,   2.26184375e+04,   3.43269318e+03,\n",
       "          4.84796474e+02,   2.24440179e+03,   1.38411413e+03,\n",
       "          2.95115476e+03],\n",
       "       [  2.08895512e+02,   2.53486764e+02,   3.93811404e+02,\n",
       "          1.74639517e+02,   6.42736549e+02,   2.11034680e+02,\n",
       "          1.59770170e+03,   3.37712121e+02,   7.95977654e+01,\n",
       "          6.81766755e+01,   3.53484266e+02,   2.41344201e+01,\n",
       "          2.64963207e+01,   3.62761364e+03,   5.66659091e+02,\n",
       "          7.95032051e+01,   3.47803571e+02,   2.04262846e+02,\n",
       "          4.40380952e+02],\n",
       "       [  3.05148328e+01,   3.67263238e+01,   5.71744827e+01,\n",
       "          2.71780421e+01,   9.59311879e+01,   3.12521368e+01,\n",
       "          2.15639022e+02,   5.08433761e+01,   1.63781693e+01,\n",
       "          4.81003182e+00,   5.29156805e+01,   3.65679045e+00,\n",
       "          3.86976262e+00,   5.34280449e+02,   8.03927739e+01,\n",
       "          1.15397354e+01,   5.28246337e+01,   3.14864827e+01,\n",
       "          6.12890720e+01],\n",
       "       [  1.27822966e+02,   1.56756568e+02,   2.40744361e+02,\n",
       "          1.11452106e+02,   3.71569242e+02,   1.33223545e+02,\n",
       "          9.68102679e+02,   2.06333929e+02,   6.60552674e+01,\n",
       "          4.01677529e+01,   2.10901099e+02,   1.47821182e+01,\n",
       "          1.59800048e+01,   2.22825893e+03,   3.54912338e+02,\n",
       "          4.91733059e+01,   2.23693878e+02,   1.28961180e+02,\n",
       "          2.91185374e+02],\n",
       "       [  7.48465603e+01,   9.29330335e+01,   1.42228070e+02,\n",
       "          6.38830108e+01,   2.35574978e+02,   7.85900161e+01,\n",
       "          5.60093750e+02,   1.19450000e+02,   3.96852077e+01,\n",
       "          2.41754998e+01,   1.25147993e+02,   8.48689655e+00,\n",
       "          9.25713029e+00,   1.30587500e+03,   2.08923913e+02,\n",
       "          2.91000557e+01,   1.33704969e+02,   7.49910208e+01,\n",
       "          1.66961698e+02],\n",
       "       [  1.59005666e+02,   1.99009670e+02,   3.07173768e+02,\n",
       "          1.40454445e+02,   5.05882410e+02,   1.70747443e+02,\n",
       "          1.23324107e+03,   2.67026984e+02,   8.71487098e+01,\n",
       "          4.89965242e+01,   2.69902015e+02,   1.95890312e+01,\n",
       "          2.04292138e+01,   2.84375000e+03,   4.44125541e+02,\n",
       "          6.27390110e+01,   2.73568027e+02,   1.64349896e+02,\n",
       "          3.55428571e+02]])"
      ]
     },
     "execution_count": 546,
     "metadata": {},
     "output_type": "execute_result"
    }
   ],
   "source": [
    "cluster_pairwise_distances"
   ]
  },
  {
   "cell_type": "code",
   "execution_count": null,
   "metadata": {
    "collapsed": true
   },
   "outputs": [],
   "source": []
  },
  {
   "cell_type": "code",
   "execution_count": 513,
   "metadata": {
    "collapsed": false,
    "scrolled": true
   },
   "outputs": [
    {
     "name": "stdout",
     "output_type": "stream",
     "text": [
      "0 22.526178497\n",
      "1 21.8102526795\n",
      "2 21.5235842772\n",
      "3 21.8117216653\n",
      "4 21.906122449\n",
      "5 21.6580215659\n",
      "6 22.3042721519\n",
      "7 21.8582700422\n",
      "8 21.9564952974\n",
      "9 21.3707567218\n",
      "10 21.5120253164\n",
      "11 19.6948057617\n",
      "12 21.6097850449\n",
      "13 21.7816455696\n",
      "14 21.5823935558\n",
      "15 21.5315806556\n",
      "16 21.6582278481\n",
      "17 21.8829939461\n",
      "18 22.3406871609\n",
      "19 21.5974120956\n",
      "20 22.0275559883\n",
      "21 21.8465913606\n",
      "22 22.1691772152\n",
      "23 22.0156118143\n",
      "24 21.8396624473\n",
      "25 22.2834326136\n",
      "26 21.5807280934\n",
      "27 22.0742616034\n",
      "28 21.7398542386\n",
      "29 22.3635161744\n",
      "30 22.2169981917\n",
      "31 21.7992143169\n",
      "32 21.7134177215\n",
      "33 22.3502637131\n",
      "34 22.4810126582\n",
      "35 20.7162609542\n",
      "36 22.2155063291\n",
      "37 21.9086075949\n",
      "38 22.235443038\n",
      "39 22.1610126582\n",
      "40 21.8687594937\n",
      "41 21.4397468354\n",
      "42 21.4483122363\n",
      "43 22.1894266567\n",
      "44 21.9989543203\n",
      "45 21.833736929\n",
      "46 22.2722591719\n",
      "47 22.19092827\n",
      "48 20.4945095907\n",
      "49 21.9289988493\n",
      "50 22.2348101266\n",
      "51 21.688315482\n",
      "52 20.4016502578\n",
      "53 20.9960089352\n",
      "54 21.494157741\n",
      "55 22.0027373418\n",
      "56 23.1538629419\n",
      "57 22.0183544304\n",
      "58 21.813164557\n",
      "59 21.512543153\n",
      "60 21.5595840868\n",
      "61 22.7255466053\n",
      "62 21.6239532619\n",
      "63 21.7839662447\n",
      "64 21.6607594937\n",
      "65 21.9390379747\n",
      "66 22.0316019206\n",
      "67 22.1496835443\n",
      "68 22.1925968546\n",
      "69 21.6628914057\n",
      "70 21.5671570304\n",
      "71 21.8113291139\n",
      "72 22.0340798442\n",
      "73 21.671152565\n",
      "74 21.7908378541\n",
      "75 21.9324666439\n",
      "76 21.9788262371\n",
      "77 21.8089157953\n",
      "78 21.6314345992\n",
      "79 21.7457347276\n",
      "80 22.403164557\n",
      "81 21.2334177215\n",
      "82 22.1021097046\n",
      "83 22.2632911392\n",
      "84 21.7780590717\n",
      "85 21.5491983122\n",
      "86 21.8490154712\n",
      "87 22.3134177215\n",
      "88 21.7317661242\n",
      "89 20.9376732972\n",
      "90 22.350247661\n",
      "91 21.9375527426\n",
      "92 21.7837025316\n",
      "93 21.530198915\n",
      "94 22.7936708861\n",
      "95 21.5817721519\n",
      "96 20.9432188065\n",
      "97 21.9224683544\n",
      "98 21.7957805907\n",
      "99 20.6443037975\n"
     ]
    }
   ],
   "source": [
    "for t in range(100):\n",
    "    print t, clusters_dist(0, t)"
   ]
  },
  {
   "cell_type": "code",
   "execution_count": 542,
   "metadata": {
    "collapsed": false
   },
   "outputs": [
    {
     "name": "stdout",
     "output_type": "stream",
     "text": [
      "['GGGCGCACGGAATACAAAGCCGTGTATCTGCT' 'TGGCTCTGCAACAGCAGCACCCATGACCACG']\n",
      "['ACGTGCGCCTGTCGCGTTGGCGGCACTTCATT' 'TGGCTCTGCAACAGCAGCACCCATGACCACG']\n",
      "['GGGCGCACGGAATACAAAGCCGTGTATCTGCT' 'TGGCTCTGCAACAGCAGCACCCATGACCACG']\n",
      "['TTTTGCACAACATGGGGGATCATGTAACTCGC' 'TGGCTCTGCAACAGCAGCACCCATGACCACG']\n",
      "['GGTGTTCCGTTAATATCGATGGCGACGTAACT' 'TGGCTCTGCAACAGCAGCACCCATGACCACG']\n",
      "['CTGTTTTCGCAAATCTATGGACTATTGCTATT' 'GGGCGCACGGAATACAAAGCCGTGTATCTGC']\n",
      "['GGGCGCACGGAATACAAAGCCGTGTATCTGCT' 'TACCGGTACCAGCTCAACCGCAACCCCATCA']\n",
      "['TCCGTCCACCCTGATAGCCGCCCTTGTGATCC' 'TGGCTCTGCAACAGCAGCACCCATGACCACG']\n",
      "['GGGCGCACGGAATACAAAGCCGTGTATCTGCT' 'TTGCTCTGCAACAGCAGCACCCATGACCACG']\n",
      "['TGTAAAAATTGATTTTCATATTGCTCTAATTG' 'TGGCTCTGCAACAGTAGCACCCATGACCACG']\n",
      "['GAATGATCCCAAATTTGGGTTACAGAACCAGT' 'CGTCCCCGGAGTTCTGTCCAGCAACGACAAC']\n",
      "['CTGTTTTCGCAAATCTATGGACTATTGCTATT' 'GGGCGCACGGAATACAAAGCCGTGTATCTGC']\n",
      "['GGGCGCACGGAATACAAAGCCGTGTATCTGCT' 'TTTTACAGTGTCAACAATCGTCCCCTGATTG']\n",
      "['GAATGATCCCAAATTTGGGTTACAGAACCAGT' 'GAGTAATCATGCCTTAATAGACCCCATCGTC']\n",
      "['AGCCGGGCTAAATTTTGATTCATCGTGATGAC' 'CCTGCGTAGTTGATCACGATTTCCGGGATAA']\n",
      "['GAATGATCCCAAATTTGGGTTACAGAACCAGT' 'CGATGAATAAAGCCAAGAGTAAAGCGCATGA']\n",
      "['GGGCGCACGGAATACAAAGCCGTGTATCTGCG' 'TGGCTCTGCAACAGCAGCACCCATGACCACG']\n",
      "['GGGCGCACGGAATACAAAGCCGTGTACCTGCT' 'CTGTTTTCGCAAATCTATGGACTATTGCTAT']\n",
      "['CTGTTTTCGCAAATCTATGGACTATTGCTATT' 'TCGAACCTGTTTTTCTTAGTGCGCGCAACGT']\n",
      "['TAGGCCTATAGAGACGAGCGTTCGTTAAAGCA' 'TGGCTCTGCAACGGCAGCACCCATGACCACG']\n",
      "['GGGCGCACGGAATACAAAGCCGTGTATCTGCT' 'TGGCTCTGCAACAGCAGCACCCATGACCACG']\n",
      "['GGGCGCACGGAATACAAAGCCGTGTATCTGCT' 'GGCAGCGAGCGAAGCTAAAGACCACGCTATT']\n",
      "['GGGCGCACGGAGTACAAAGCCGTGTATCTGCT' 'TCGAACCTGTTTTTCTTAGTGCGCGCAACGT']\n",
      "['CTGTTTTCGCAAATCTATGGACTATTGCTATT' 'GGGCGCACGGAATACAAAGCCGTGTATCTGC']\n",
      "['GGGCGCACGGAATACAAAGCCGTGTATCTGCT' 'TGGCTCTGCAACAGCAGCACCCATGACCACG']\n",
      "['CCGTTTTCGCAAATCTATGGACTATTGCTATT' 'GGGCGCACGGAATACAAAGCCGTGTATCTGC']\n",
      "['CTGTTTTCGCAAATCTATGGACTATTGCTATT' 'AGTGCTGGACCATTTCAAATTCACAATAGAT']\n",
      "['AACGTCAGGTTGTCGCCGCTCTGCGTGGTCGC' 'TGGCTCTGCAACAGCAGCACCCATGACCACG']\n",
      "['GGGCGCACGGAATACAAAGCCGTGTATCTGCT' 'ACACGCCCTTATCAAATAGCTGTGATTTACCT']\n",
      "['GGGCGCACGGAATACAAAGCCGTGTATCTGCT' 'TGGCTCTGCAACAGCAGCACCCATGACCACG']\n",
      "['CACAGTCTTTGATATATCACCACGCTTTTTCT' 'TGGCTCTGCAACAGCAGCACCCATGACCACG']\n",
      "['GGGCGCACGGAATACAAAGCCGTGTATCTGCT' 'TGGCTCTGCAACAGCAGCACCCATGACCACG']\n",
      "['CTGTTTTCGCAAATCTATGGACTATTGCTATT' 'AGCGTGTTCGGCATCACCTTTGGCTTCGGCT']\n",
      "['GGGCGCACGGAATACAAAGCCGTGTATCTGCT' 'TGGCTCTGCAACAGCAGCACCCATGACCACG']\n",
      "['CTGTTTTCGCAAATCTATGGACTATTGCTATT' 'GGGCGCACGGAATACAAAGCCGTGTATCTGC']\n",
      "['GGGCGCACGGAATACAAAGCCGTGTATCTGCT' 'TGGCTCTGCAACAGCAGCACCCATGACCACG']\n",
      "['GAATGATCCCAAATTTGGGTTACAGAACCAGT' 'CAAACTGGATATCACTGAATGCAGCCGCGTG']\n",
      "['GGGCGAGACGGGAGGGACAAGGTGTGATTGAG' 'ATCACCGTCACAGGCCAGAACCGTCACCACC']\n",
      "['GTCAACCACAACCAGATTGATGTGCTTGGTCT' 'TGAAGCATCAAACATTTGGTGGACCAAACGG']\n",
      "['GTCGACCATATGCCAAGACCAACTATCTGATT' 'TGGCTCTGCAACAGCAGCACCCATGACCACG']\n",
      "['CTGTTTTCGCAAATCTATGGACTATTGCTATT' 'GTAGTCCATCATTCCACCTATGTCTGAACTC']\n",
      "['CTGTTTTCGCAAATCTATGGACTATTGCTATT' 'ACACGCCCTTATCAAATAGCTGTGATTTACCT']\n",
      "['CTGTTTTCGCAAATCTATGGACTATTGCTATT' 'CTAGGAGGCGTAATGAATACTACGTATCAGA']\n",
      "['GGGCGCACGGAATACAAAGCCGTGTATCTGCT' 'TGGCTCTGCAACAGCAGCACCCATGACCACG']\n",
      "['ACTCACATTAATTGCGTTGCGCTCACTGCCCG' 'GGACTTAAAGATCGCATCACAGTACTGGAGG']\n",
      "['GGGCGCACGGAATACAAAGCCGTGTATCTGCT' 'TGGCTCTGCAACAGCAGCACCCATGACCACG']\n",
      "['GGGCGCACGGAATACAAAGCCGTGTATCTGCT' 'CCACCTGCCGCGACGGGTGCCAGCAGATCAC']\n",
      "['GAATGATCCCAAATTTGGGTTACAGAACCAGT' 'GGACTTAAAGATCGCATCACAGTACTGGAGG']\n",
      "['CTGTTTTCGCAAATCTATGGACTATTGCTATT' 'GGGCGCACGGAATACAAAGCCGTGTATCTGC']\n",
      "['GGGCGCACGGAATACAAAGCCGTGTATCTGCT' 'AGCGTGTTCGGCATCACCTTTGGCTTCGGCT']\n",
      "['GGGCGCACGGAATACAAAGCCGTGTATCTGCT' 'TTTTGCACAACATGGGGGATCATGTAACTCG']\n",
      "['GGGCAGGCAGACGATATCGCTATAAACACGGT' 'TGGCTCTGCAACAGCAGCACCCATGACCACG']\n",
      "['GGGCGCACGGAATACAAAGCCGTGTATCTGCT' 'TGGCTCTGCAACAGCAGCACCCATGACCACG']\n",
      "['GTTGTCGCGGTAGTATTTAGTCGAAAGCATGA' 'TGGCTCTGCAACAGCAGCACCCATGACCACG']\n",
      "['GGGCGCACGGAATACAAAGCCGTGTATCTGCT' 'CTGTTTTCGCAAATCTATGGACTATTGCTAT']\n",
      "['GGGCGCACGGAATACAAAGCCGTGTATCTGCT' 'TGGCTCTGCAACAGCAGCACCCATGACCACG']\n",
      "['GGGCGCACGGAATACAAAGCCGTGTATCTGCT' 'TGGCTCTGCAACAGCAGCACCCATGACCACG']\n",
      "['CTGTTTTCGCAAATCTATGGACTATTGCTATT' 'GGGCGCACGGAATACAAAGCCGTGTATCTGC']\n",
      "['GGGCGCACGGAATACAAAGCCGTGTATCTGCT' 'TGGCTCTGCAACAGCAGCACCCATGACCACG']\n",
      "['CTGTTTTCGCAAATCTATGGACTATTGCTATT' 'GGGCGCACGGAATACAAAGCCGTGTATCTGC']\n",
      "['GGGCGCACGGAATACAAAGCCGTGTATCTGCT' 'GTGCCAGTCCTCTGGTTGACGATCGGGAATG']\n",
      "['CTGTTTTCGCAAATCTATGGACTATTGCTATT' 'TCGGTTCAAGCGTTGCAAACCTGGCTACCGG']\n",
      "['GGGCGCACGGAATACAAAGCCGTGTATCTGCT' 'TACTGCTCCGCTGGCGTTTCTCCCTCGCCCA']\n",
      "['GAATGATCCCAAATTTGGGTTACAGAACCAGT' 'CGATTCCTCGTAGCTGCCACTCGACTGAAAG']\n",
      "['CTGTTTTCGCAAATCTATGGACTATTGCTATT' 'GGGCGCACGGAATACAAAGCCGTGTATCTGC']\n",
      "['GTAGTCCATCATTCCACCTATGTCTGAACTCC' 'TGGCTCTGCAACAGCAGCACCCATGACCACG']\n",
      "['GGGCGCACGGAATACAAAGCCGTGTATCTGCT' 'TATAATATGAATTAATTTTTGCGCATAACCT']\n",
      "['TAACGAACTGAATAAAATGTCAGAAAGTGACG' 'GCAGCTTAGCGACGAAATTAAAACCGAACTCA']\n",
      "['GTATGGGAGCAATACCCCAACCTGATGATGTG' 'TGAAGCATCAAACATTTGGTGGACCAAACGG']\n",
      "['CTGTTTTCGCAAATCTATGGACTATTGCTATT' 'TGGCTCTGCAACAGCAGCACCCATGACCACG']\n",
      "['GGGCGCACGGAATACAAAGCCGTGTATCTGCT' 'TGACCTGAAGAAATAACATTGACTCCAAACT']\n",
      "['GGGCGCACGGAATACAAAGCCGTGTATCTGCT' 'GCCGTTTTCATAGCCCTCGACTTTTAGAATT']\n",
      "['GGGCGCACGGAATACAAAGCCGTGTATCTGCT' 'TTCATCGGCGAGACTCGCGGCCTGTTTTTCG']\n",
      "['GAATGATCCCAAATTTGGGTTACAGAACCAGT' 'GTTACGCTGCCTGAGTATCGCAATTCCCCTG']\n",
      "['CAGAACATACTCCCGAGGCGTACACG' 'TGAATGATCGGAAAGACGCTGCAAAGGCAAT']\n",
      "['CTGTTTTCGCAAATCTATGGACTATTGCTATT' 'GGGCGCACGGAATACAAAGCCGTGTATCTGC']\n",
      "['GGGCGCACGGAATACAAAGCCGTGTATCTGCT' 'TGGCTCTGCAACAGCAGCACCCATGACCACG']\n",
      "['GGGCGCACGGAATACAAAGCCGTGTATCTGCT' 'TGGCTCTGCAACAGCAGCACCCATGACCACG']\n",
      "['GGGCGCACGGAATACAAAGCCGTGTATCTGCT' 'TGGCTCTGCAACAGCAGCACCCATGACCACG']\n",
      "['GGGCGCACGGAATACAAAGCCGTGTATCTGCT' 'TGGCTCTGCAACAGCAGCACCCATGACCACG']\n",
      "['GGGCGCACGGAATACAAAGCCGTGTATCTGCT' 'TGGCTCTGCAACAGCAGCACCCATGACCACG']\n",
      "['GGGCGCACGGAATACAAAGCCGTGTATCTGCT' 'TGGCTCTGCAACAGCAGCACCCATGACCACG']\n",
      "['CTGTTTTCGCAAATCTATGGACTATTGCTATT' 'GGGCGCACGGAATACAAAGCCGTGTATCTGC']\n",
      "['GGGCGCACGGAATACAAAGCCGTGTATCTGCT' 'TGGCTCTGCAACAGCAGCACCCATGACCACG']\n",
      "['CTGTTTTCGCAAATCTATGGACTATTGCTATT' 'GGGCGCACGGAATACAAAGCCGTGTATCTGC']\n",
      "['TATACCGCCGTACATATTTCTCTGCCCAGTTA' 'TGGCTCTGCAACAGCAGCACCCATGACCACG']\n",
      "['TATAGAGATCGTTTTTGGAATTTACAGCGAGG' 'TAGGCCTATAGAGACGACGTTCGTTAAAGC']\n",
      "['CTGTTTTCGCAAATCTATGGACTATTGCTATT' 'GGGCGCACGGAATACAAAGCCGTGTATCTGC']\n",
      "['CTGTTTTCGCAAATCTATGGACTATTGCTATT' 'GTATGGGAGCAATACCCCAACCTGATGATGACA']\n",
      "['CATAGGGTCGCCGGTTGCGGATCAATTTA' 'TAAACCACCAGCCAGACCACCAATTACCACA']\n",
      "['CTGTTTTCGCAAATCTATGGACTATTGCTATT' 'AACGTCAGGTTGTCGCCGCTCTGCGTGGTCG']\n",
      "['TAGATTGATACTAGTATGCCAGTCATTATGTA' 'TGGCTCTGCAACAGCAGCACCCATGACCACG']\n",
      "['GGGCGCACGGAATACAAAGCCGTGTATCTGCT' 'TGGCTCTGCAACAGCAGCACCCATGACCACG']\n",
      "['GGGCGCACGGAATACAAAGCCGTGTATCTGCT' 'CCCGAAAGAGATTGCCAGCCAGCTTAATTTG']\n",
      "['GGGCGCACGGAATACAAAGCCGTGTATCTGCT' 'ATCTTCTTGTTCAGGAACGTCAGTAGAGGTG']\n",
      "['CTGTTTTCGCAAATCTATGGACTATTGCTATT' 'GGGCGCACGGAATACAAAGCCGTGTATCTGC']\n",
      "['CCTGGTGTTGTCTGTTTCGTGACGCTCGGTAA' 'TGGCTCTGCAACAGCAGCACCCATGACCACG']\n",
      "['GTAGTCCATCATTCCACCTATGTCTGAACTCC' 'TGGCTCTGCAACAGCAGCACCCATGACCACG']\n",
      "['TATAGAGATCGTTTTTGGAATTTACAGCGAGG' 'CAGAACATACTTCAAAGCCCGAGGCGTACAC']\n",
      "['CTGTTTTCGCAAATCTATGGACTATTGCTATT' 'GAATGATCCCAAATTTGGGTTACAGAACCAG']\n",
      "['GGGCGCACGGAATACAAAGCCGTGTATCTGCT' 'TGGCTCTGCAACAGCAGCACCCATGACCACG']\n",
      "['GTCAACCACAACCAGATTGATGTGCTTGGTCT' 'TCAATGCCATAATCAAAAGCGGCCAGAATTG']\n",
      "['TCCGTCCACCCTGATAGCCGCCCTTGTGATCC' 'TGGCTCTGCAACAGCAGCACCCATGACCACG']\n",
      "['CTGTTTTCGCAAATCTATGGACTATTGCTATT' 'GGGCGCACGGAATACAAAGCCGTGTATCTGC']\n",
      "['TTTTACAGTGTCAACAATCGTTCCCTGATTGT' 'TGGCTCTGCAACAGCAGCACCCATGACCACG']\n",
      "['CTGTTTTCGCAAATCTATGGACTATTGCTATT' 'GGGCGCACGGAATACAAAGCCGTGTATCTGC']\n",
      "['TATACCGCCGTACATATTTCTCTGCCCAGTTA' 'TGGCTCTGCAACAGCAGCACCCATGACCACG']\n",
      "['GGGCGCACGGAATACAAAGCCGTGTATCTGCT' 'GAAGAGTTTTCCGGCTTCGTCCTGCTGGATG']\n",
      "['ACACGCCCTTATCAAATAGCTGTGATTTACCTA' 'AGCTGGGCGAAATTTTGATTCATCGTGATGA']\n",
      "['CTGTTTTCGCAAATCTATGGACTATTGCTATT' 'GGGATGGATCAGGGTAATACACTCGACGGCG']\n",
      "['CTGTTTTCGCAAATCTATGGACTATTGCTATT' 'TCGCACCGCGTTAATCCGGCAGAAAAACAAC']\n",
      "['CTGTTTTCGCAAATCTATGGACTATTGCTATT' 'TGACCGATTTTATTGATCGCCCGATAGACCT']\n",
      "['GTATGGGAGCAATACCCCAACCTGATGATGTG' 'ATATATCAGAGCAAAAAACAAAGCCACAGCC']\n",
      "['GTATGGGAGCAATACCCCAACCTGATGATGTG' 'GTAACGTGGCGACGACCGGCGATTGATTTCA']\n",
      "['CTGTTTTCGCAAATCTATGGACTATTGCTATT' 'GGGCGCACGGAATACAAAGCCGTGTATCTGC']\n",
      "['GGGCGCACGGAATACAAAGCCGTGTATCTGCT' 'GGCAGCGAGCGAAGCTAAAGACCACGCTATT']\n",
      "['GGACGCACGGAATACAAAGCCGTGTATCTGCT' 'GCGTCGCCATTCTATTAGCTTTTCCTCATCA']\n",
      "['CTGTTTTCGCAAATCTATGGACTATTGCTATT' 'TGGCTCTGCAACAGCAGCACCCATGACCACG']\n",
      "['GATTGATACCTCGACGGGCTGGCCGTTCTTCA' 'CCGGAGCTGGGATTGATAGCGCCTGA']\n",
      "['CTGTTTTCGCAAATCTATGGACTATTGCTATT' 'GGGCGCACGGAATACAAAGCCGTGTATCTGC']\n",
      "['CTGTTTTCGCAAATCTATGGACTATTGCTATT' 'GGGCGCACGGAATACAAAGCCGTGTATCTGC']\n",
      "['AGCTCCTGGCTCAATATCTGGAAGAGGATCAC' 'TGGCTCTGCAACAGCAGCACCCATGACCACG']\n",
      "['CTGTTTTCGCAAATCTATGGACTATTGCTATT' 'TGCATGGCTTTGGCTTCCTCTTTGACGGACG']\n",
      "['GGGCTTTCCGCCTACCTGCGACATCATGCGCT' 'TAAACCACCAGCCAGACCACCAATTACCACG']\n",
      "['GGGCGCACGGAATACAAAGCCGTGTATCTGCT' 'CTGTTTTCGCAAATCTATGGACTATTGCTAT']\n",
      "['GAATGATCCCAAATTTGGGTTACAGAACCAGT' 'GGACTTAAAGATCGCATCACAGTACTGGAGG']\n",
      "['GAATGATCCCAAATTTGGGTTACAGAACCAGT' 'GGACTTAAAGATCGCATCACAGTACTGGAGG']\n",
      "['CCCATTCCAATTGATACTCATACGTTGTT' 'TGGCTCTGCAACAGCAGCACCCATGACCACG']\n",
      "['GATTGATACCTCGACGGGCTGGCCGTTCTTCA' 'TCATTTCCCATGCAAAATGCTGCATTCCTGG']\n",
      "['CCGGAGCTGGGATTGATAGCGCCTGAT' 'CGGGGTACTCGAATGAAATCTATCGCAGAAA']\n",
      "['CTGTTTTCGCAAATCTATGGACTATTGCTATA' 'GCATCTGGCGCATCTTCAGAATTCTCGAATA']\n",
      "['GGGCGCACGGAATACAAAGCCGTGTATCTGCT' 'AGCGTGTTCGGCATCACCTTTGGCTTCGGCT']\n",
      "['ATCAGTGATATCCAACATTGCGGAGCTAAACG' 'TGGCTCTGCAACAGCAGCACCCATGACCACG']\n",
      "['GGGCGCACGGGATACAAAGCCGTGTATCTGCT' 'TACCGTACAGACTGCCGGATATTATTTTTTT']\n",
      "['GGGCGCACGGAATACAAAGCCGTGTATCTGCT' 'TGATCAGTCGCACCAGGGCAGTTAACGCATT']\n",
      "['CTGTTTTCGCAAATCTATGGACTATTGCTATC' 'CAATCTGGGCGACCGGTCATCATCGCTTCGAT']\n",
      "['GTAACGTGGCGACGACCGGCGATTGATTTCAG' 'TGGCTCTGCAACAGCAGCACCCATGACCACG']\n",
      "['TATTTCGCCTTCGGCACTGACGTCACCGTCAA' 'TGGCTCTGCAACAGCAGCACCCATGACCACG']\n",
      "['GGGCGCACGGAATACAAAGCCGTGTATCTGCT' 'TGGCTCTGCAACAGCAGCACCCATGACCACG']\n",
      "['GGGCGCACGGAATACAAAGCCGTGTATCTGCT' 'TCCCATTCACCAACAACAATATCGCCCTGCA']\n",
      "['CTGTTTTCGCAAACCTATGGACTATTGCTATT' 'ACACGCCCTTATCAAATAGCTGTGATTTACCT']\n",
      "['GGGCGCACGGAATACAAAGCCGTGTATCTGCT' 'TGGCTCTGCAACAGCAGCACCCATGACCACG']\n",
      "['TTCCTGATCCATGATGGTGAACAATATTTAAC' 'TGGCTCTGCAACAGCAGCACCCATGACCACG']\n",
      "['GTAGTCCATCATTCCACCTATGTCTGAACTCC' 'TGGCTCTGCAACAGCAGCACCCATGACACG']\n",
      "['TATGCCTATAGAGACGAGCGTTCGTAAAGCG' 'TGGCTCTGCAACAGCAGCACCCATGACCACG']\n",
      "['GGGCGCACGGAATACAAAGCCGTGTATCTGCT' 'TGGCTCTGCAACAGCAGCACCCATGACCACG']\n",
      "['GGGCGCACGGAATACAAAGCCGTGTATCTGCT' 'TGGCTCTGCAACAGCAGCACCCATGACCACG']\n",
      "['GGGCGCACGGAATACAAAGCCGTGTATCTGCT' 'TGGCTCTGCAACAGCAGCACCCATGACCACG']\n",
      "['GGGCGCACGGAATACAAAGCCGTGTATCTGCT' 'TCAAACCTGTTTTTCTTAGTGCGCGCAACGT']\n",
      "['GGGCGCACGGAATACAAAGCCGTGTATCTGCT' 'CTGTTTTCGCAAATCCATGGACTATTGCTAT']\n",
      "['GGTCAACTGCTCACGTTTCTCAATCTCACTAC' 'TGGCTCTGCAACAGCAGCACCCATGACCACG']\n",
      "['GGTAACTGTCAGACCAAGTTTACTCATATATA' 'TGGCTCTGCAACAGCAGCACCCATGACCACG']\n",
      "['GGGCGCACGGAATACAAAGCCGTGTATCTGCT' 'TGGCTCTGCAACAGCAGCACCCATGACCACG']\n",
      "['TCGGAAATCGTGTCCTTCGTCGGCCAGA' 'TGGCCCTGCAACAGCAGCACCCATGACCACG']\n",
      "['CTGTTTTCGCAAATCTATGGACTATTGCTATT' 'GGGCGCACGGAATACAAAGCCGTGTATCTGC']\n",
      "['AGCTGGGCGAAATTTTGATTCATCGTGGTGAC' 'GCGTCGCCATTCTATTAGCTTTTCCTCATCA']\n",
      "['CTGTTTTCGCAAATCTATGGACTATTGCTATT' 'AATACGGGATAATACCGCGCCACATAGCAGA']\n",
      "['GGGCGCACGGAATACAAAGCCGTGTATCTGCT' 'GATCAGATAAATGGCGAGACGATCCTGTTGCA']\n",
      "['GGGCGCACGGAATACAAAGCCGTGTATCTGCT' 'TGAATGATCGGAAAGACGCTGCAAAGGCAAT']\n",
      "['GGGCGCACGGAATACAAAGCCGTGTATCTGCT' 'TCGGGTAACCCGAGAAATGCGGCGCTGGCTC']\n",
      "['GGGCGCACGGAATACAAAGCCGTGTATCTGCT' 'TTAATCAGGTCGTCGTACTCAGCGCCGTTGG']\n",
      "['GGGCGCACGGAATACAAAGCCGTGTATCTGCT' 'TCGGTTCAGGCGTTGCAAACCTGGCTACCGG']\n",
      "['CTGTTTTCGCAAATCTATGGACTATTGCTATT' 'GTCGCCTGCCGCCTCAATCTCACCACTCGGA']\n",
      "['TCCGTCCACCCTGATAGCCGCCCTTGTGATCC' 'TGGCTCTGCAACAGCAGCACCCATGACCACG']\n",
      "['GGGCGCACGGAATACAAAGCCGTGTATCTGCT' 'TGGCTCTGCAACAGCAGCACCCATGACCACG']\n",
      "['GTCAACCACAACCAGATTGATGTGCTTGGTCT' 'GACAGAACGGCCTCAGTAGTCTCGTCAGGCT']\n",
      "['GGGCGCACGGAATACAAAGCCGTGTATCTGCT'\n",
      " 'GCTGGCGGCCGCGAGAATCACCAGGTTGGCGCCGAGCCAGTCAT']\n",
      "['GGGCGCACGGAATACAAAGCCGTGTATCTGCT' 'CTGAAAAGTGGATTTTACACGCTGCCAAAAT']\n",
      "['GGGCGCACGGAATACAAAGCCGTGTATCTGCT' 'TGGCTCTGCAACAGCAGCACCCATGACCACG']\n",
      "['GAATGATCCCAAATTTGGGTTACAGAACCAGT' 'GGGCGCACGGAATACAAAGCCGTGTATCTGC']\n",
      "['CTGTTTTCGCAAATCTATGGACTATTGCTATT' 'AATTAAAGCCGAGGGTGGCACCGCGCCTTAT']\n",
      "['GTTGTCGCGGTAGTATTTAGTCGAAAGCATGA' 'ACGGCCTGATTTAGAGTTAAACATGGTCACG']\n",
      "['CTGTTTTCGCAAATCTATGGACTATTGCTATT' 'AAGTAATCATGCCTTAATAGACCCCATCGTC']\n",
      "['GGGCGCACGGAATACAAAGCCGTGTATCTGCT' 'TGGCTCTGAAACAGCAGCACCCATGACCACG']\n",
      "['GGGCGCACGGAATACAAAGCCGTGTATCTGCT' 'GCGTCGCCATTCTATTAGCTTTTCCTCATCA']\n",
      "['TGACGCCAGAGGCTGTTAATCCCGTCATTTTT' 'TGGCTCTGCAACAGCAGCACCCATGACCACA']\n",
      "['GGGCGCACGGAATACAAAGCCGTGTATCTGCT' 'GGTCAACTGCTCACGTTTCTCAATCTCACTA']\n",
      "['CTGTTTTCGCAAATCTATGGACTATTGCTATT' 'GGGCGCACGGAATACAAAGCCGTGTATCTGC']\n",
      "['CACGACGGGCAGGCGATCACCGGCATGACCCA' 'TGGCTCTGCAACAGCAGCACCCATGACCACG']\n",
      "['GGGCGCACGGAATACAAAGCCGTGTATCTGCT' 'TGGCTCTGCAACAGCAGCACCCATGACCACG']\n",
      "['GTATGGGAGCAATACCCCAACCTGATGATGTG' 'GCCGTTTTCATAGCCCTCGACTTTTAGAATT']\n",
      "['GGGCGCACGGAATACAAAGCCGTGTATCTGCT' 'ACATGAATGTCGGTTCAGACCGTGTTTTTAC']\n",
      "['CTGTTTTCGCAAATCTATGGACTATTGCTATT' 'GGGCGCACGGAATACAAAGCCGTGTATCTGC']\n",
      "['GTCAACTACAACCAGATTGATGTGCTTGGTCT' 'GGGCGCACGGAATACAAAGCCGTGTATCTGC']\n",
      "['CTGTTTTCGCAAATCTATGGACTATTGCTATT' 'GACAGAACGGCCTCAGTAGTCTCGTCAGGCT']\n",
      "['GGGCGCACGGAATACAAAGCCGTGTATCTGCT' 'TGGCTCTGCAACAGCAGCACCCATGACCACG']\n",
      "['GGGCGCACGGAATACAAAGCCGTGTATCTGCT' 'CAGAACATACTTCAAAGCCCGAGGCGTACAC']\n",
      "['CTGTTTTCGCAAATCTATGGACTATTGCTATT' 'TATAGAGATCGTTTTTGGAATTTACAGCGAG']\n",
      "['GGGCGCACGGAATACAAAGCCGTGTATCTGCT' 'TGGCTCTGCAACAGCAGCACCCATGACCACG']\n",
      "['GGGCGCACGGAATACAAAGCCGTGTATCTGCT' 'CGGCAGTTCGCGCCGCGGACTCACGAGCAGG']\n",
      "['GGGCGCACGGAATACAAAGCCGTGTATCTGCT' 'CCCTCACACCGATTCGCCAAACGGTGGAGAA']\n",
      "['GGGCGCACGGAATACAAAGCCGTGTATCTGCT' 'TGGCTCTGCAACAGCAGCACCCATGACCACG']\n",
      "['GGGCGCACGGAATACAAAGCCGTGTATCTGCT' 'CGAACTGGACGAACGGAACGGCGAA']\n",
      "['GGGCGCACGGAATACAAAGCCGTGTATCTGCT' 'TACCGTACAGACTGCCGGATATTATTTTTTT']\n",
      "['GGGCGCACGGAATACAAAGCCGTGTATCTGCT' 'TGGCTCTGCAACAGCAGCACCCATGACCACG']\n",
      "['GGGCGCACGGAATACAAAGCCGTGTATCTGCT' 'AACGTCAGGTTGTCGCCGCTCTGCGTGGTCG']\n",
      "['GGGCGCACGGAATACAAAGCCGTGTATCTGCT' 'TGCATGGCTTTGGCTTCCTCTTTGACGGACG']\n",
      "['CAATCTGGGCGACCGGTCATCATCGCTTCGATG' 'CTCTACACCACCAACAGCCTGGGTTGCCACT']\n",
      "['CTGTTTTCGCAAATCTATGGACTATTGCTATT' 'GGGCGCACGGAATACAAAGCCGTGTATCTGC']\n",
      "['CTGTTTTCGCAAATCTATGGACTATTGCTATT' 'GCGCCTCGGTTGTTTAGCCATGCTCAGCCCC']\n",
      "['GGGCGCACGGAATACAAAGCCGTGTATCTGCT' 'CGATAACACAGGGCCGTCAATGCGGCCCTTT']\n",
      "['GGGCGCACGGAATTCAAAGCCGTGTATCTGCT' 'TGGCTCTGCAACAGCAGCACCCATGACCACG']\n",
      "['AATCGAGGTCGGGCAGAACATCGCGTAGACCTGCACCTCGGGCAGCAGCTCCTGAACG'\n",
      " 'CAAGTGATATCCATCATCGCATCCAGTGCGT']\n",
      "['ACACGCCCTTATCAAATAGCTGTGATTTACCTA' 'TTTTTGTTAATTGCGTTTGCCACGGTTTGCA']\n",
      "['GGGCGCACGGAATACAAAGCCGTGTATCTGCT' 'TGGCTTTGCAACAGCAGCACCCATGACCACG']\n",
      "['ACACGCCCTTATCAAATAGCTGTGATTTACCTA' 'CCGTAAGTGGTTTGAGCGATGATATTTGTGC']\n",
      "['CTGTTTTCGCAAATCTATGGACTATTGCTATT' 'GACAGAACGGCCTCAGTAGTCTCGTCAGGCT']\n",
      "['GGGCGCACGGAATACAAAGCCGTGTATCTGCT' 'CTGTTTTCGCAAATCTATGGACTATTGCTAT']\n",
      "['CTGTTTTCGCAAATCTATGGACTATTGCTATT' 'GGGCGCACGGAATACAAAGCCGTGTATCTGC']\n",
      "['GATTGATACCTCGACGGGCTGGCCGTTCTTCA' 'TGGAACAACACTCAACCCTATCTCGGTCTAT']\n",
      "['GGGCGCACGGAATACAAAGCCGTGTATCTGCT' 'TGTAAAAGTTGATTTTCATATTGCTCTAATT']\n",
      "['GGGCGCACGGAATACAAAGCCGTGTATCTGCT' 'TGGCTCTGCAACAGCAGCACCCATGACCACG']\n",
      "['GGGCGCACGGAATACAAAGCCGTGTATCTGCT' 'CTGTTTTCGCAAATCCATGGACTATTGCTAT']\n",
      "['CTGTTTTCGCAAATCTATGGACTATTGCTATT' 'AACTGGATTCTGCTCTAATTATTACATCATC']\n",
      "['CTGTTTTCGCAAATCTATGGACTATTGCTATT' 'TGGCTCTGCAACAGCAGCACCCATGACCACG']\n",
      "['CTGTTTTCGCAAATCTATGGACTATTGCTATT' 'CTGTTTTCGCAAATCTATGGACTACTGCTAT']\n",
      "['GGGCGCACGGAATACAAAGCCGTGTATCTGCT' 'ACCGGACAAATCTTTTTTTTCCTGTTCCTGT']\n",
      "['GGGCGCACGGAATACAAAGCCGTGTATCTGCT' 'CCAACAGTAATTGCAAAATCCTGTTGTTTAA']\n",
      "['CGGCATATCAGGAGTTGGAGCAACCAGCGAGA' 'TGGCTCTGCAACAGCAGCACCCATGACCACG']\n",
      "['GAATGATCCCAAATTTGGGTTACAGAACCAGT' 'TGAATGATCGGAAAGACGCTGCAAAGGCAAT']\n",
      "['GGGCGCACGGAATACAAAGCCGTGTATCTGCT' 'CAGAACATACTTCAAAGCCCGAGGCGTACAC']\n",
      "['TGGCCTGACTTTATCAAGCAGTGCATACTGAC' 'TAAACCACCAGCCAGACCACCAATTACCACA']\n",
      "['GGGCGCACGGAATACAAAGCCGTGTATCTGCT' 'CGGGGTACTCGAATGAAATCTATCGCAGAAA']\n",
      "['GGGCGCACGGAATACAAAGCCGTGTATCTGCT' 'TGGCTCTGCAACAGCAGCACCCATGACCACG']\n",
      "['GTCAACCACAACCAGATTGATGTGCTTGGTCT' 'TACTGCTCCGCTGGCGTTTCTCCCTCGCCCA']\n",
      "['GGTCAACTGCTCACGTTTCTCAATCTCACTAC' 'TGGCTCTGCAACAGCAGCACCCATGACCACG']\n",
      "['GGGCGCACGGAATACAAAGCCGTGTATCTGCT' 'TGGCTCTGCAACAGCAGCACCCATGACCACG']\n",
      "['GGGCGCACGGAATACAAAGCCGTGTATCTGCT' 'TGGCTCTGCAACAGCAGCACCCATGACCACG']\n",
      "['GGCAGCGAGCGAAGCTAAAGACCACGCTATTA' 'TGGCTCTGCAACAGCAGCACCCATGACCACG']\n",
      "['CTGTTTTCGCAAATCTATGGACTATTGCTATT' 'GGGCGCACGGAATACAAAGCCGTGTATCTGC']\n",
      "['GGGCGCACGGAATACAAAGCCGTGTATCTGCT' 'TGGCTCTGCAACAGCAGCACCCATGACCACG']\n",
      "['GGGCGCACGGAATACAAAGCCGTGTATCTGCT' 'ACTATGGCCCCGGCAAAAAACGCGCTGGTGG']\n",
      "['GTATGGGAGCAATACCCCAACCTGATGATGTG' 'CTGTTTCGCAAATCTATGGACTATTGCTAT']\n",
      "['GGGCGCACGGAATACAAAGCCGTGTATCTGCT' 'TGGCTCTGCAACAGCAGCACCCATGACCACG']\n",
      "['GGGCGCACGGAATACAAAGCCGTGTATCTGCT' 'CTGTTTTCGCAAATCTATGGACTATTGCTAT']\n",
      "['GGGCGCACGGAATACAAAGCCGTGTATCTGCT' 'TTTTACAGTGTCAACAATCGTTCCCTGATTG']\n",
      "['CTGTTTTCGCAAATCTATGGACTATTGCTATT' 'GGGCGCACGGAATACAAAGCCGTGTATCTGC']\n",
      "['GAGACTTTTCACACTGATAATGTTGTTATTTT' 'TAAACCACCAGCCAGACCACCAATTACCACA']\n",
      "['GTATGGGAGCAATACCCCAACCTGATGATGTG' 'CAATCTGGGCGACCGGTCATCATCGCTTCGAT']\n",
      "['GGGCGCACGGAATACAAAGCCGTGTATCTGCT' 'CCGCCGTTGGCACCGTCAAACTCCGGTACTG']\n",
      "['CGGCAGTTCGCGCCGCGGACTCACGAGCAGGC' 'TGGCTCTGCAACAGCAGCACCCATGACCACG']\n",
      "['GTTTTCTCATCACAGCATGGTAAGTAGAAACT' 'TGGCTCTGCAACAGCAGCACCCATGACCACG']\n",
      "['GAATGATCCCAAATTTGGGTTACAGAACCAGT' 'GGACTTAAAGATCGCATCACAGTACTGGAGG']\n",
      "['GGGCGCACGGAATACAAAGCCGTGTATCTGCT' 'AGCGTGTTCGGCATCACCTTTGGCTTCGGCT']\n",
      "['GTCAACCACAACCAGATTGATGTGCTTGGTCT' 'CGATTCCTCATAGCTGCCACTCGACTGAAAG']\n",
      "['GGGCGCACGGAATACAAAGCCGTGTATCTGCT' 'CCGTAAGTGGTTTTAGCGATGATATTTGTGC']\n",
      "['GAATGATCCCAAATTTGGGTTACAGAACCAGT' 'GGACTTAAAGATCGCATCACAGTACTGGAGG']\n",
      "['GGGCGCACGGAATACAAAGCCGTGTATCTGCT' 'TGGCTCTGCAACAGCAGCACCCATGACCACG']\n",
      "['CCGTTTTCGCAAACCTATGGACTAATGCTATT' 'AACGTCAGGTTGTCGCCGCTCTGCGTGGTCG']\n",
      "['CTGTTTTCGCAAATCTATGGACTATTGCTATT' 'GGGCGCACGGAATACAAAGCCGTGTATCTGC']\n",
      "['GGGCGCACGGAATACAAAGCCGTGTATCTGCT' 'TGGCTCTGCAACAGCAGCACCCATGACCACG']\n",
      "['GGGCGCACGGAATACAAAGCCGTGTATCTGCT' 'TGGCTCTGCAACAGCAGCACCCATGACCACG']\n",
      "['GGGCGCACGGAATACGAAGCCGTGTATCTGCT' 'ACACGCCCTTATCAAATAGCTGTGATTTACCT']\n",
      "['GAATGATCCCAAATTTGGGTTACAGAACCAGT' 'AAGCTGGCTGGCAATCTCTTTCGGGGTGAGT']\n",
      "['GGGCGCACGGAATACAAAGCCGTGTATCTGCT' 'TGGCTCTGCAACAGCAGCACCCATGACCACG']\n",
      "['GGGCGCACGGAATACAAAGCCGTGTATCTGCT' 'TGACCTGAAGAAATAACATTGACTCCAAACT']\n",
      "['GGGCGCACGGAATACAAAGCCGTGTATCTGCT' 'TGTGTCGGAATATGCGGGCTGATTTTCGTCT']\n",
      "['GGGCGCACGGAATACAAAGCCGTGTATCTGCT' 'GTCGCCTGTTCAACTTTAAACGGCTCAAACC']\n",
      "['GGGCGCACGGAATACAAAGCCGTGTATCTGCT' 'CAAACTATTAACTGGCGAACTACTTACTCTA']\n",
      "['TCAACATTATCAATTACAACCGACAGGGAGCC' 'TGGCTCTGCAACAGCAGCACCCATGACCACG']\n",
      "['GGGCGCACGGAATACAAAGCCGTGTATCTGCT' 'CTGTTTTCGCAAATCTATGGACTATTGCTAT']\n",
      "['GTCAACCACAACCAGATTGATGTGCTTGGTCT' 'GGTCAACTGCCCACGTTTCTCAATCTCACTA']\n",
      "['CTGTTCTCGCAAATCTATGGACTATTGCTATT' 'GCGTCGCCATTCTATTAGCTTTTCCTCATCA']\n",
      "['GAATGATCCCAAATTTGGGTTACAGAACCAGT' 'GATCAGATAAATGGCGAGACGATCCTGTTGCA']\n",
      "['GGGGTTGTCGTTGTTTTGCCAGCGTCCTTCAT' 'TGGCTCTGCAACAGCAGCACCCATGACCACG']\n",
      "['GGGCGCACGGAATACAAAACCGTGTATCTGCT' 'TGACGCCAGAGGCTGTTAATCCCGTCATTTT']\n",
      "['GGGCGCACGGAATACAAAGCCGTGTATCTGCT' 'AGGCTGGCTGGCAATCTCTTTCGGGGTGAGT']\n",
      "['CTGATTGTCAAAATCAAAAAACAGGCCGAGTC' 'GGGCGCACGGAATACAAAGCCGTGTATCTGC']\n",
      "['GAATGATCCCAAATTTGGGTTACAGAACCAGT' 'ATTACGCCTTTTTGCGATTGCCCGGTTTTTG']\n",
      "['CTGTTTTCGCAAATCTATGGACTATTGCTATT' 'TGGCTCTGCAACAGCAGCACCCATGACCACG']\n",
      "['TCCCCCATGTTGTGCAAAAAAGCGGTTAGCTC' 'TGGCTCTGCAACAGCAGCACCCATGACCACG']\n",
      "['GGGCGCACGGAATACAAAGCCGTGTATCTGCT' 'TGGCTCTGCAACAGCAGCACCCATGACCACG']\n",
      "['CTGTTTTCGCAAATCTATGGACTATTGCTATT' 'TGGCTCTGCAACAGCAGCACCCATGACCACG']\n",
      "['GGGCGCACGGAATACGAAGCCGTGTATCTGCT' 'TGGCTCTGCAACAGCAGCAACCATGACCACG']\n",
      "['AGCTGGGCGAAATTTTGATTCATCGTGATGAC' 'AGCGTGTTCGGCATCACCTTTGGCTTCGGCT']\n",
      "['CTGTTTTCGCAAATCTATGGACTATTGCTATT' 'CATAAAGAAACTATTTTGCGTTTCGTTCAGG']\n",
      "['CTGTTTTCGCAAATCTATGGACTATTGCTATT' 'GGGCGCACGGAATACAAAGCCGTGTATCTGC']\n",
      "['GGGCGCACGGAATACAAAGCCGTGTATCTGCT' 'TGCATGGCTTTGGCTTCCTCTTTGACGGACG']\n",
      "['GAATGATCCCAAATTTGGGTTACAGAACCAGT' 'ATTACGCCTTTTTGCGATTGCCCGGTTTTTG']\n",
      "['TTCGGGCAGCGGCCCGGCGCTGGCTGGCAGGC' 'TGGCTCTGCAACAGCAGCACCCATGACCACG']\n",
      "['CAATCTGGGCGACCGGTCATCATCGCTTCGATG' 'TGGCTCTGCAACAGCAGCACCCATGACCACG']\n",
      "['GGGCGCACGGAATACAAAGCCGTGTATCTGCT' 'TGGCTCTGCAACAGCAGCACCCATGACCACG']\n",
      "['GGGCGCACGGAATACAAAGCCGTGTATCTGCT' 'CATAAAGAAACTATTTTGCGTTTCGTTCAGG']\n",
      "['CCGTAAGTGGTTTGAGCGATGATATTTGTGCT' 'TGGCTCTGCAACAGCAGCACCCATGACCACG']\n",
      "['CTGTTTTCGCAAATCTATGGACTATTGCTATT' 'GGGCGCACGGAATACAAAGCCGTGTATCTGC']\n",
      "['GGGCGCACGGAATACAAAGCCGTGTATCTGCT' 'TGGCTCTGCAACAGCAGCACCCATGACCACG']\n",
      "['CTGTTTTCGCAAATCTATGGACTATTGCTATT' 'CAAGTGATATCCATCATCGCACCCAGTGCGC']\n",
      "['GAATGATCCCAAATTTGGGTTACAGAACCAGT' 'GGACTTAAAGATCGCATCACAGTACTGGAGG']\n",
      "['GTTGTCGCGGTAGTATTTAGTCGAAAGCATGA' 'ACGGCCTGATTTAGAGTTAAACATGGTCACG']\n",
      "['GGGCGCACGGAATACAAAGCCGTGTATCTGCT' 'TGGCTCTGCAACAGCAGCACCCATGACCACG']\n",
      "['GGGCGCACGGAATACAAAGCCGTGTATCTGCT' 'TGGCCTGACTTTATCAAGCAGTGCATACTGA']\n",
      "['TGGGCGGCTTGCCTTGCAGCCAGCTCCAGCAG' 'TGGCTCTGCAACAGCAGCACCCATAACCACG']\n",
      "['CTGTTTTCGCAAATCTATGGACTATTGCTATT' 'TGGCTCTGCAACAGCAGCACCCATGACCACG']\n",
      "['GGGCGCACGGAATACAAAGCCGTGTATCTGCT' 'GTCGGCAGAGAATCGTTCGATTGCCCCTACA']\n",
      "['CAATCTGGGCGACCGGTCATCATCGCTTCGATG' 'TGGCTCTGCAACAGCAGCACCCATGACCACG']\n",
      "['AGCTGGGCGAAATTTTGATTCATCGTGATGAC' 'AGCGTTGCCGCCACGCCAGTTGTGCCGCTAC']\n",
      "['GATAAATCGCTCACGAAGAATAATTCTACCCC' 'TGGCTCTGCAACAGCAGCACCCATGACCACG']\n",
      "['CTGCATTCTGACATCACTTCCTACCCATCTGTGTTTAACTC'\n",
      " 'ATCCGCTCATGAGACAATAACCCTGATAAAT']\n",
      "['GTATGGGAGCAATACCCCAACCTGATGATGTG' 'TGGCTCTGCAACAGCAGCACCCATGACCACG']\n",
      "['GGGCGCACGGAATACAAAGCCGTGTATCTGCT' 'TGGCTCTGCAACAGCAGCACCCATGACCACG']\n",
      "['GGGCGCACGGAATACAAAGCCGTGTATCTGCT' 'ACCGATTCAATATACAGAAAGTGAATTAGCG']\n",
      "['GTATGGGAGCAATACCCCAACCTGATGATGTG' 'TGCATATCAGATGGGCACTGCTGATTGGAGA']\n",
      "['GGGCGCACGGAATACAAAGCCGTGTATCTGCT' 'GAGGTGGCAATACGCGTAGATCATTTGGTCG']\n",
      "['ACTCACATTAATTGCGTTGCGCTCACTGCCCG' 'CAAGTGATGTCCATCATCGCATCCAGTGCGT']\n",
      "['TAGGCCTATAGAGACGAGCGTTCGTTAAAGCA' 'TGGCTCTGCAACAGCAGCACCCATGACCACG']\n",
      "['ATAATGCTCATGAGCAGGCATAGGATTGACGA' 'ACGGCCTGATTTAGAGTTAAACATGGTCACG']\n",
      "['GGGCGCACGGAATACAAAGCCGTGTATCTGCT' 'TGGCTCTGCAACAGCAGCACCCATGACCACG']\n",
      "['GGGCGCACGGAATACAAAGCCGTGTATCTGCT' 'TGGCTCTGCAACAGCAGCACCCATGACCACG']\n",
      "['CAATCTGGGCGACCGGTCATCATCGCTTCGATG' 'TGGCTCTGCAACAGCAGCACCCATGACCACG']\n",
      "['CTGTTTTCGCAAATCTATGGACTATTGCTATT' 'GGGCGCACGGAATACAAAGCCGTGTATCTGC']\n",
      "['GGGCGCACGGAATACAAAGCCGTGTATCTGCT' 'TGGCTCTGCAACAGCAGCACCCATGACCACG']\n",
      "['GGGCGCACGGAATACAAAGCCGTGTATCTGCT' 'GACAGAACGGCCTCAGTAGTCTCGTCAGGCT']\n",
      "['CTGTTTTCGCAAATCTATGGACTATTGCTATT' 'GGCAACATAACGAACAAAATCAACGTCAACC']\n",
      "['GGGCGCACGGAATACAAAGCCGTGTATCTGCT' 'TGGCTCTGCAACAGCAGCACCCATGACCACG']\n",
      "['CTGTTTTCGCAAATCTATGGACTATTGCTATT' 'TGCTGGATGAGTTTATCGAACACAGAGCGGA']\n",
      "['GTATGGGAGCAATACCCCAACCTGATGATGTG' 'TGGCAAAACAAACATCGGGGTACGCGTGGTG']\n",
      "['GGGCGCACGGAATACAAAGCCGTGTATCTGCT' 'GGCCCCGGAACATCTGCCGCAGTGCGATACC']\n",
      "['GAATGATCCCAAATTTGGGTTACAGAACCAGT' 'GGACTTAAAAATCGCATCACAGTACTGGAGG']\n",
      "['GGGCGCACGGAATACAAAGCCGTGTATCTGCT' 'TGGCTCTGCAACAGCAGCACCCATGACCACG']\n",
      "['GGGCGCACGGAATACAAAGCCGTGTATCTGCT' 'TGGCTCTGCAACAGCAGCACCCATGACCACG']\n",
      "['GGGCGCACGGAATACAAAGCCGTGTATCTGCT' 'GACAGAACGGCCTCAGTAGTCTCGTCAGGCT']\n",
      "['GGGCGCACGGAATACAAAGCCGTGTATCTGCT' 'TGGCCTGACTTTATCAAGCAGTGCATACTGA']\n",
      "['GGGCGCACGGAATACAAAGCCGTGTATCTGCT' 'TGGCTCTGCAACAGCAGCACCCATGACCACG']\n",
      "['TCATTTCCCATGCAAAATGCTGCATTCCTGGC' 'TGGCTCTGCAACAGCAGCACCCATGACCACG']\n",
      "['GGGCGCACGGAATACAAAGCCGTGTATCTGCT' 'TGGCTCTGCAACAGCAGCACCCATGACCACG']\n",
      "['GGGCGCACGGAATACAAAGCCGTGTATCTGCT' 'GGTCAACTGCTCACGTTTCTCAATCTCACTA']\n",
      "['CTGTTTTCGCAAATCTATGGACTATTGCTATT' 'TCGGTTCAGGCGTTGCAAACCTGGCTACCGG']\n",
      "['CTGTTTTCGCAAATCTATGGACTATTGCTATT' 'GTAGTCCATCATTCCACCTATGTCTGAACTA']\n",
      "['CTGTTTTCGCAAATCTATGGACTATTGCTATT' 'TGGAACAACACTCAACCCTATCTCGGTCTAT']\n",
      "['GGGCGCACGGAATACAAAGCCGTGTATCTGCT' 'CAGTAATTGCACCCTCAGCATCATTAACCAT']\n",
      "['CTGTTCTCGCAAATCTATGGACTATTGCTATT' 'TGAGCGTCGGCGGCTCGCTGGATTTGCGCG']\n",
      "['GGGCGCACGGAATACAAAGCCGTGCATCTGCT' 'TGGCTCTGCAACAGCAGCACCCATGACCACG']\n",
      "['GAATGATCCCAAATTTGGGTTACAGAACCAGT' 'TGCATATCGGATGGGCACTGCTGATTGGAGA']\n",
      "['CTGTTTTCGCAAATCTATGGACTATTGCTATT' 'GTAGTCCATCATTCCACCTATGTCTGAACTC']\n",
      "['CTGTTTTCGCAAATCTATGGACTATTGCTATT' 'CAGAACGTACTTCAAAGCCCGAGGCGTACAC']\n",
      "['GGGCGCACGGAATACAAAGCCGTGTATCTGCT' 'CAAGTGATATCCATCATCGCATCCAGTGCGC']\n",
      "['GGGCGCACGGAATACAAAGCCGTGTATCTGCT' 'TCGATAATGTATTTGCGGGCAGAAAGGGCGC']\n",
      "['GTATGGGAGCAATACCCCAACCTGATGATGTG' 'ACGGATTGCGGTATATGCAGTGTCCAGATTC']\n",
      "['GGGCGCACGGAATACAAAGCCGTGTATCTGCT' 'TGGCTCTGCAACGGCAGCATCCATGACCACG']\n",
      "['GGGCGCACGGAATACAAAGCCGTGTATCTGCT' 'TAGTAACGCGGGTTCGCCCGTAAACCGCGAG']\n",
      "['GGGCGCACGGAATACAAAGCCGTGTATCTGCT' 'TGGCTCTGCAACAGCAGCACCCATGACCACG']\n",
      "['GGGCGCACGGAATACAAAGCCGTGTATCTGCT' 'TGGCTCTGCAACAGCAGCACCCATGACCACG']\n",
      "['ACACGCCCTTATCAAATAGCTGTGATTTACCTA' 'CCGTAGGAGCGTAGCTGAGTCGAGTTTTTGG']\n",
      "['GGGCGCACGGAATACAAAGCCGTGTATCTGCT' 'TGGCTCTGCAACAGCAGCACCCATGACCACG']\n",
      "['CTGTTTTCGCAAATCTATGGACTATTGCTATT' 'TAGATTGATACTAGTATGCCAGTCATTATGT']\n",
      "['GGGCGCACGGAATACAAAGCCGTGTATCTGCT' 'TACCGTACAGACTGCCGGATATTATTTTTTT']\n",
      "['GTCAACCACAACCAGATTGATGTGCTTGGTCT' 'ACACGCCCTTATCAAATAGCTGTGATTTACCT']\n",
      "['GGGCGCACGGAATACAAAGCCGTGTATCTGCT' 'CAGTAATTGCACCCTCAGCATCATTAACCAT']\n",
      "['GGGCGCACGGAATACAAAGCCGTGTATCTGCT' 'TGGCTCTGCAACAGCAGCACCCATGACCACG']\n",
      "['CTGTTTTCGCAAATCTATGGACTATTGCTATT' 'TAGATTGATACTAGTATGCCAGTCATTATGT']\n",
      "['GGGCGCACGGAATACAAAGCCGTGTATCTGCT' 'TGGCTCTGCAACAGCAGCACCCATGACCACG']\n",
      "['GGGCGCACGGAATACAAAGCCGTGTATCTGCT' 'AATGTTTCCCGCACCCAAATGCGATCGCCAG']\n",
      "['GAATGATCCCAAATTTGGGTTACAAAACCAGT' 'AGCGTGTTCGGCATCACCTTTGGCTTCGGCT']\n",
      "['CTGTTTTCGCAAATCTATGGACTATTGCTATT' 'TGTAAAAGTTGATTTTCATATTGCTCTAATT']\n",
      "['GGGCGCACGGAATACAAAGCCGTGTATCTGCT' 'TGGCTCTGCAACAGCAGCACCCATGACCACG']\n",
      "['CTGTTTTCGCAAATCTATGGACTATTGCTATT' 'TGGCAAAACAAACATCGGGGTACGCGTGGTG']\n",
      "['GGGCGCACGGAATACAAAGCCGTGTATCTGCT' 'TGGCTCTGCAACAGCAGCACCCATGACCACG']\n",
      "['GGGCGCACGGAATACAAAGCCGTGTATCTGCT' 'GGATCTGCCAGCGCCTCTGCGGGGCGGTAAA']\n",
      "['CTGTTTTCGCAAATCTATGGACTATTGCTATT' 'GGGCGCACGGAATACAAAGCCGTGTATCTGC']\n",
      "['CTGTTTTCGCAAATCTATGGACTATTGCTATT' 'GTCGCCGGGTTGATTTTCCATGATGATTTTT']\n",
      "['GGGCGCACGGAATACAAAGCCGTGTATCTGCT' 'TGGCTCTGCAACAGCAGCACCCATGGCCACG']\n",
      "['GGGCGCACGGAATACAAAGCCGTGTATCTGCT' 'TTAGAGATGACGCGACAAGTCCACAAGCTGC']\n",
      "['GGGCGCACGGAATACAAAGCCGTGTATCTGCT' 'AAGACGACGTGATCCGCAAAGTCGAAGGCAC']\n",
      "['GGGCGTACGGAATACAAAGCCGTGTATCTGCT' 'TGGCTCTGCAACAGCAGCACCCATGACCACG']\n",
      "['GGGCGCACGGAATACAAAGCCGTGTATCTGCT' 'CTGTTTTCGCAAATCTATGGACTATTGCTAT']\n",
      "['GGGCGCACGGAATACAAAGCCGTGTATCTGCT' 'TGGCTCTGCAACAGCAGCACCCATGACCACG']\n",
      "['CTGTTTTCGCAGACCTATGGACTATTGCTATT' 'TCAACATTATCAATTACAACCGACAGGGAGC']\n",
      "['GGGCGCACGGAATACAAAGCCGTGTATCTGCT' 'GCGCCTCGGTTGTTTAGCCATGCTCAGCCCC']\n",
      "['GTACATGATGTACAAGGGCGATCTGAGGGTGG' 'TGGCTCTGCAACAGCAGCACCCATGACCACG']\n",
      "['GGGCGCACGGAATACAAAGCCGTGTATCTGCT' 'TAGATTGATACTAGTATGCCAGTCATTATGT']\n",
      "['ACACGCCCTTATCAAATAGCTGTGATTTACCTA' 'CAAGTGATATCCATCATCGCATCCAGTGCGC']\n",
      "['GGGCGCACGGAATACAAAGCCGTGTATTTGCT' 'GTCGACCATATGCCAAGACCAACTATCTGAT']\n",
      "['GGCGTCACGCTGTCGGTGCAGGGATTCAAAAA' 'TGGCTCTGCAACAGCAGCACCCATGACCACG']\n",
      "['TCTTTTGATTTTGCTGCGATGTTATAACCAGA' 'TATCCACATATACCCGCAATCATATTCAAGA']\n",
      "['CTGTTTTCGCAAATCTATGGACTATTGCTATT' 'CCACCGTTGGCACCGTCAAACTCCGGTACTG']\n",
      "['CTGTTTTCGCAAATCTATGGACTATTGCTATT' 'GTCGCCGGGTTGATTTTCCATGATGATTTTT']\n",
      "['CTGTCTTCGCAAATCTATGGACTATTGCTATT' 'CAATCGGGGCGACCGGTCATCATTGCTTCGAT']\n",
      "['GAATGATCCCAAATTTGGGTTACAGAACCAGT' 'TAGTTTCCGTATCTCCAGATTTATAAAGCTG']\n",
      "['CTGTTTTCGCAAATCTATGGACTATTGCTATT' 'GTCACCAACATTTTCGCCGTTCAGGCCCGCA']\n",
      "['GGGCGCACGGAATACAAAGCCGTGTATCTGCT' 'TGGCTCTGCAACAGCAGCACCCATGACCACG']\n",
      "['GGGCGCACGGAATACAAAGCTGTGTATCTGCT' 'TAGTCTCCGTATCTCCGGATTTATAAAGCTG']\n",
      "['CTGTTTTCGCAAATCTATGGACTATTGCTATT' 'GTATGGGAGCAATACCCCAACCTGATGATGT']\n",
      "['GGGCGCACGGAATACAAAGCCGTGTATATGCT' 'TGGCTCTGCAACAGCAGCACCCATGACCACG']\n",
      "['CTGTTTTCGCAAATCTATGGACTATTGCTATT' 'ATCGTCCATATTAACAATCGTGGTGAGTTCA']\n",
      "['CCGTAAGTGGTTTGAGCGATGATATTTGTGCT' 'TGGCTCTGCAACAGCAGCACCCATGACCACG']\n",
      "['GGGCGCACGGAATACAAAGCCGTGTATCTGCT'\n",
      " 'CATGGCCTGCTCCGCCGGCACCGCCAGGGTGGCCACCTTC']\n",
      "['GGGCGCACGGAATACAAAGCCGTGTATCTGCT' 'TGGCTCTGCAACAGCAGCACCCATGACCACG']\n",
      "['GTATGGGAGCAATACCCCAACCTGATGATGTG' 'GGACTTAAAGATCGCATCACAGTACTGGAGG']\n",
      "['GGGCGCACGGAATACAAAGCCGTGTATCTGCT' 'TACCGTACAGACTGCCGGATATTATTTTTTT']\n",
      "['CTGTTTTCGCAAATCTATGGACTATTGCTATT' 'GGGCGCACGGAATACAAAGCCGTGTATCTGC']\n",
      "['TATAGAGATCGTTTTTGGAATTTACAGCGAGG' 'TGGCTCTGCAACAGCAGCACCCATGACCACG']\n",
      "['GGGCGCACGGAATACAAAGCCGTGTATCTGCT' 'TGGCTCTGCAACAGCAGCACCCATGACCACG']\n",
      "['GTAGTCCATCATTCCACCTATGTCTGAACTCC' 'TGGCTCTGCAACAGCAGCACCCATGACCACG']\n",
      "['GGGCGCACGGAATATAAAGCCGTGTATCTGCT' 'CTGCTGCTCGGGCTGGTGGAGTGCTGCTATA']\n",
      "['GATTGATACCTCGACGGGCTGGCCGTTCTTCA' 'TGAGACGCTCCCGGATGAGGTTATACTGTAC']\n",
      "['GGGTGCACGGAATACAAAGCCGTGTATCTGCT' 'CTGTTTTCGCAAATCTATGGACTATTGCTAT']\n",
      "['GGGCGCACGGAATACAAAGCCGTGTATCTGCT' 'TAAACCACCAGCCAGACCACCAATTACCACA']\n",
      "['GGGCGCACGGAATACAAAGCCGTGTATCTGCT' 'TGGCTCTGCAACAGCAGCACCCATGACCACG']\n",
      "['GTATGGGAGCAATACCCCAACCTGATGATGTG' 'TGGCTCTGCAACAGCAGCACCCATGACCACG']\n",
      "['CTGTTTTCGCAAATCTATGGACTATTGCTATT' 'CTGCCGACTGACCGCCGACGCTTTCGCGTTA']\n",
      "['GGGCGCACGGAATACAAAGCCGTGTATCTGCT' 'TCGGTTCAGGCGTTGCAAACCTGGCTACCGG']\n",
      "['GAATGATCCCAAATTTGGGTTACAGAACCAGT' 'TGTTTCTGTCCCAACTGAACAGCGCCGATAG']\n",
      "['GGGCGCACGGAATACAAAGCCGTGTATCTGCT' 'GCCCGCCTCGTCGGTGTATTCCGCGAGATCG']\n",
      "['GGGCGCACGGAATACAAAGCCGTGTATCTGCT' 'CTGTTTTCGCAAATCTATGGGCTATTGCTAT']\n",
      "['TAAGCCGTGACGCGGGTCGCCGCTGGCGTCAA' 'TGGCTCTGCAACAGCAGCACCCATGACCACG']\n",
      "['GGGCGCACGGAATACAAGGCCGTGTATCTGCT' 'TTCATATCCTCTTTCCAGATTGCGTCGAATA']\n",
      "['CTGTTTTCGCAAATCTATGGACTATTGCTATT' 'CCGGAGCCGGGATTGATAGCGCCTGA']\n",
      "['GGGCGCACGGAATACAAAGCCGTGTATCTGCT' 'TGGCTCTGCAACAGCAGCACCCATGACCACG']\n",
      "['GGGCGCACGGAATACAAAGCCGTGTATCTGCT' 'TCGGTTCAGGCGTTGCAAACCTGGCTACCGG']\n",
      "['AGCACCACTGAAAATCTGTACGAAAGCAATAG' 'TGGCTCTGCAACAGCAGCACCCATGACCACG']\n",
      "['GGGCGCACGGAATACAAAGCCGTGTATCTGCT' 'TGGCTCTGCAACAGCAGCACCCATGACTACG']\n",
      "['CTGTTTTCGCAAATCTATGGACTATTGCTATT' 'GGGCGCACGGAATACAAAGCCGTGTATCTGC']\n",
      "['CTGTTTTCGCAAATCTGTGGACTATTGCTATT' 'GGGCGCACGGAATACAAAGCCGTGTATCTGC']\n",
      "['CTGTTTTCGCAAATCTATGGACTATTGCTATT' 'GGGCGCACGGAATACAAAGCCGTGTATCTGC']\n",
      "['CTGTTTTCGCAAATCTATGGACTATTGCTATT' 'GTATGGGAGCAATACCCCAACCTGATGATGT']\n",
      "['GGGCGCACGGAATACAAAGCCGTGTATCTGTT' 'TGAATGATCGGAAAGACGCTGCAAAGGCAAT']\n",
      "['GAATGATCCCAAATTTGGGTTACAGAACCAGT' 'TCTTTATCAGCTAACCATCTCCAGAACTCGT']\n",
      "['ACACGCCCTTATCAAATAGCTGTGATTTACCTA' 'GAAGAGTTTTCCGGCTTTGTCCTGCTGGATG']\n",
      "['CTGTTTTCGCAAATCTATGGACTATTGCTATT' 'GGGCGCACGGAATACAAAGCCGTGTATCTGC']\n",
      "['CTGTTTTCGCAAATCTATGGACTATTGCTATT' 'GCGGGCGTTAACGCGGTGATACTGTTTGACG']\n",
      "['GTATGGGAGCAATACCCCAACCTGATGATGTG' 'GAAATGCTGTGAGCGTTAATGCCGCAAACA']\n",
      "['GGGCGCACGGAATACAAAGCCGTGTATCTGCT' 'TGGCTCTGCAACAGCAGCACCCATGACCACG']\n",
      "['GGGCGCACGGAATACAAAGCCGTGTATCTGCT' 'TGGCTCTGCAACAGCAGCACCCATGACCACG']\n",
      "['GTCAACCACAACCAGATTGATGTGCTTGGTCT' 'ACCCTCACTCAAAGCTGCTGCTGCGGCCTCT']\n",
      "['CTGTTTTCGCAAATCTATGGACTATTGCTATT' 'GGGCGCACGGAATACAAAGCCGTGTATCTGC']\n",
      "['GGGCGCACGGAATACAAAGCCGTGTATCTGCT' 'TGGCTCTGCAACAGCAGCACCCATGACCACG']\n",
      "['GGGCGCACGGAATACAAAGCCGTGTATCTGCT' 'TGGCTCTGCAACAGCAGCACCCATGACCACG']\n",
      "['GGGCGCACGGAATACAAAGCCGTGTATCTGCT' 'TGGCTCTGCAACAGCAGCACCCATGACCACG']\n",
      "['GGGCGCACGGAATACAAAGCCGTGTATCTGCT' 'TGGCTCTGCAACAGCAGCACCCATGACCACG']\n",
      "['GGGCGCACGGAATACAAAGCCGTGTATCTGCT' 'TGGCTCTGCAACAGCAGCACCCATGACCACG']\n",
      "['TGGCCTGACTTTATCAAGCAGTGCATACTGAC' 'TGGCTCTGCAACAGCAGCACCCATGACCACG']\n",
      "['GGGCGCACGGAATACAAAGCCGTGTATCTGCT' 'CAGAACATACTTCAAAGCCCGAGGCGTACAA']\n",
      "['GTATGGGAGCAATACCCCAACCTGATGATGTG' 'TAAACCACCAGCCAGACCACCAATTACCACA']\n",
      "['TATACCGCCGTACATATTTCTCTGCCCAGTTA' 'TGGCTCTGCAACAGCAGCACCCATGACCACG']\n",
      "['GTCAACCACAACCAGATTGATGTGCTTGGTCT' 'ATTCATCAGTGTGATCCACTGCATGCTGGTG']\n",
      "['CCGTTTTCGCAGACCTATGGACTAATGCTATT' 'GGCAACATAACGAACAAAATCAACGTCAACC']\n",
      "['GGGCGCACGGAATACAAAGCCGTGTATCTGCT' 'AACGTCAGGCTGTCGCCGCTCTGCGTGGTCG']\n",
      "['GGGCGCACGGAATACAAAGCCGTGTATCTGCT' 'TGGCTCTGCAACAGCAGCACCCATGACCACG']\n",
      "['GGGCGCACGGAATACAAGGCCGTGTATCTGCT' 'ATTTGAACGCAAGTGCATCAGATCTCCAGTA']\n",
      "['GGGCGCACGGAATACAAAGCCGTGTATCTGCT' 'CGATGAATAAAGCCAAGAGTAAAGCGCATGA']\n",
      "['GAATGATCCCAAATTTGGGTTACAGAACCAGT' 'CTGCTGCTCGAGCTGGTGGAGTGCTGCTATA']\n",
      "['GGGCGCACGGAATACAAAGCCGTGTATCTGCT' 'GACAGAACGGCCTCAGTAGTCTCGTCAGGCT']\n",
      "['CCGTAAGTGGTTTGAGCGATGATATTTGTGCT' 'GGCTTTAACCACACGAGCAAGTCCTTCGCCG']\n",
      "['GGGCGCACGGAATACAAAGCCGTGTATCTGCT' 'CGATGACTCGAGTATGGATCCTCCGGAGATCCCGGG']\n",
      "['GGGCGCACGGAATACAAAGCCGTGTATCTGCT' 'CGACGAATAAAGCCAAGAGTAAAGCGCATGA']\n",
      "['CTGTTTTCGCAAATCTATGGACTATTGCTATT' 'GGGCGCACGGAATACAAAGCCGTGTATCTGC']\n",
      "['CCGTAAGTGGTTTGAGCGATGATATTTGTGCT' 'TGGCTCTGCAACAGCAGCACCCATGACCACG']\n",
      "['AGGCGCACGGAATACAAAGCCGTGTATCTGCT' 'TGGCTCTGCAACAGCAGCACCCATGACCACG']\n",
      "['CTGTTTTCGCAAATCTATGGACTATTGCTATT' 'TTAGAGATGACGCGACAAGTCCACAAGCTGC']\n",
      "['CTGTTTTCGCAAATCTATGGACTATTGCTATT' 'GAGGCTGGCCATATAGCAGCAGGCTACGGCA']\n",
      "['TGGCCATGCGTCTGCATACCCCTGTGTTTGCT' 'TGCAAAAGCTGCACATACAAGCTGCCATCGT']\n",
      "['ACACGCCCTTATCAAATAGCTGTGATTTACCTA' 'TTTGCCGCTGTCAGCATTGCTGGCGCGTAAT']\n",
      "['GAGGTAGCAATACGCGTAGATCATTTGGTCGT' 'TGGCTCTGCAACAGCAGCACCCATGACCACG']\n",
      "['CTGTTTTCGCAAATCTATGGACTATTGCTATT' 'GGGCGCACGGAATACAAAGCCGTGTATCTGC']\n",
      "['GTAGTCCATCATTCCACCTATGTCTGAACTCC' 'CGGCAGTTCGCGCCGCGGACTCACGAGCAGG']\n",
      "['CTGTTTTCGCAAATCTATGGACTATTGCTATT' 'TATAGAGATCGTTTTTGGAATTTACAGCGAG']\n",
      "['GATTGATACCTCGACGGGCTGGCCGTTCTTCA' 'TGGCTCTGCAACAGCAGCACCCATGACCACG']\n",
      "['TCCGTCCACCCTGATAGCCGCCCTTGTGATCC' 'TGGCTCTGCAACAGCAGCACCCATGACCACG']\n",
      "['GGGCGCACGGAATACAAAGCCGTGTATCTGCT' 'TGGCTCTGCAACAGCAGCACCCATGACCACG']\n",
      "['GAATGATCCCAAATTTGGGTTACAGAACCAGT' 'CCGTTCATATTCGTTTCCTCGTGGCGCGATC']\n",
      "['GTATGGGAGCAATACCCCAACCTGATGATGTG' 'AAAAAATGATGCTGTATTTCACTATTGGGTT']\n",
      "['GAATGATCCCAAATTTGGGTTACAGAACCAGT' 'TGGCTCTGCAACAGCAGCACCCATGACCACG']\n",
      "['GAATGATCCCAAATTTGGGTTACAGAACCAGT' 'GGACTTAAAGATCGCATCACAGTACTGGAGG']\n",
      "['GAATGATCCCAAATTTGGGTTACAGAACCAGT' 'GGACTTAAAGATCGCATCACAGTACTGGAGG']\n",
      "['GAATGATCCCAAATTTGGGTTACAGAACCAGT' 'CGTCAAAACTGTACGAGCCGTCCATGCCCGT']\n",
      "['GGGCGCACGGAATACAAAGCCGTGTATCTGCT' 'TGGCTCTGCAACAGCAGCACCCATGACCACG']\n",
      "['GGGCGCACGGAATACAAAGCCGTGTATCTGCT' 'TGCATGGCTTTGGCTTCCTCTTTGACGGACG']\n",
      "['GGGCGCACGGAATACAAAGCCGTGTATCTGCT' 'TGGCTCTGCAACAGCAGCACCCATGACCACG']\n",
      "['GTCAACATAACGAACAAAATCAACGTCAACCT' 'CAAGTGATGTCCATCATCGCATCCAGTGCGT']\n",
      "['GGGCGCACGGAATACAAAGCCGTGTATCTGCT' 'TGGCTCTGCAACAGCAGCACCCATGACCACG']\n",
      "['GGGCGCACGGAATACAAAGCCGTGTATCTGCT' 'CTGTTTTCGCAAATCTATGGACTATTGCTAT']\n",
      "['GGGCGCACGGAATACAAAGCCGTGTATCTGCT' 'GACAGAACGGCCTCAGTAGTCTCGTCAGGCT']\n",
      "['GATTGATACCTCGACGGGCTGGCCGTTCTTCA' 'TGGGAAAACATTTGGAACGGGATTGCTTCAT']\n",
      "['CTGTTTTCGCAAATCTATGGGCTATTGCTATT' 'GTATATCACGCCGCAAACGGGATCAGCAGCA']\n",
      "['GGTCGCACGGAATACAAAGCCGTGTATCTGCT' 'TGAATGATCGGAAAGACGCTGCAAAGGCAAT']\n",
      "['AGCTGGGCGAAATTTTGATTCATCGTGATGAC' 'TGTAAAAGTTGATTTTCATATTGCTCTAATT']\n",
      "['GATCAGATAAATGGCGAGACGATCCTGTTGCAC' 'TGGCTCTGCAACAGCAGCACCCATGACCACG']\n",
      "['CTGTTTTCGCAAATCTATGGACTATTGCTATT' 'AGTGCTGGACCATTTCAAATTCACAATAGAT']\n",
      "['CTGTTTTCGCAAATCTATGGACTATTGCTATT' 'CGATGAATAAAGCCAAGAGTAAAGCGCATGA']\n",
      "['CTGTTTTCGCAAATCTATGAACTATTGCTATT' 'CAAGTGATGTCCATTATCGCATCCAGTGCGT']\n",
      "['GTATGGGAGCAATACCCTAACCTGATGATGTG' 'TGGCAAAACAAACATCGGGGTACGCGTGGTG']\n",
      "['GGGCGCACGGAATACAAAGCCGTGTATCTGCT' 'TGGCTCTGCAACAGCAGCACCCATGACCACG']\n",
      "['GAATGATCCCAAATTTGGGTTACAGAACCAGT' 'GGACTTAAAGATCGCATCACAGTACTGGAGG']\n",
      "['CTGTTTTCGCAAATCTATGGACTATTGCTATG' 'GGGCGCACGGAATACAAAGCCGTGTATCTGC']\n",
      "['CTGTTTTCGCAAATCTATGGACTATTGCTATT' 'CAATCTGGGCGACCGTTCATCATCGCTTCGAT']\n",
      "['CTGTTTTCGCAAATCTATGGACTATTGCTATT' 'TTGAACGTTATAACTCCCCTACGATGTTGTC']\n",
      "['GGGCGCACGGAATACAAAGCCGTGTATCTGCT' 'CTCAGCCTCAGCCAGCGTAAACATTCCTGTT']\n",
      "['GGGCGCACGGAATACAAAGCCGTGTATCTGCT' 'AGCGTGTTCGGCATCACCTTTGGCTTCGGCT']\n",
      "['GGGCGCACGGAATACAAAGCCGTGTATCTGCT' 'TGGCTCTGCAACAGCAGCACCCATGACCACG']\n",
      "['CTGTTTTCGCAAATCTATGGACTATTGCTATT' 'TTTTAACCAATAGGCCGAAATCGGCAAAATC']\n",
      "['GGGCGCACGGAATACAAAGCCGTGTATCTGCT' 'CAAGTCCGAGGTGTCGGGGATTTGTG']\n",
      "['GGGCGCACGGAATACAAAGCCGTGTATCTGCT' 'CCGTAAGTGGTTTGAGCGATGATATTTGTGC']\n",
      "['GGGCGCACGGAATACAAAGCCGTGTATCTGCT' 'TGCTCGGCGTAGAACATCCAGTATTCGGCTG']\n",
      "['GGGCGCACGGAATACAAAGCCGTGTATCTGCT' 'TGGCTCTGCAACAGCAGCACCCATGACCACG']\n",
      "['GAATAATCCCAAATTTGGGTTACAGAACCAGT' 'TGGCTCTGCAACAGCAGCACCCATGACCACG']\n",
      "['GGGCGCACGGAATACAAAGCCGTGTATCTGCT' 'TCCCCCATGTTGTGCAAAAAAGCGGTTAGCT']\n",
      "['GTCAACCACAACCAGATTGATGTGCTTGGTCT' 'TGGCTCTGCAACAGCAGCACCCATGACCACG']\n",
      "['GGGCGCACGGAATACAAAGCCGTGTATCTGCT' 'TGGCTCTGCAACAGCAGCACCCATGACCACG']\n",
      "['GTCGTGACTGGGAAAACCCTGGCGTTACCCAA' 'TCCCCTGATTCTGTGGATAACCGTATTACCG']\n",
      "['CTGTTTTCGCAAATCTATGGACTATTGCTATT' 'CTGCGCCTTAATTCTGAGCAGGCTATCGGAG']\n",
      "['GCGCAGCCCGATGCGGTTAGAGATATAGGCCTC' 'TGGCTCTGCAACAGCAGCACCCATGACCACG']\n",
      "['GGGCGCACGGAATACAAAACCGTGTATCTGCT' 'ACACACCAGGACCGCGCCAACTTACCCCGCG']\n",
      "['GAATGATCCCAAATTTGGGTTACAGAACCAGT' 'GGGCGCACGGAACACAAAGCCGTGTATCTGC']\n",
      "['GGGCGCACGGAATACAAAGCCGTGTATCTGCT' 'TGGTTTCACATTCACCACCCTGAATTGACTC']\n",
      "['TAGATTGATACTAGTATGCCAGTCATTATGTA' 'TGGCTCTGCAACAGCAGCACCCATGACCACG']\n",
      "['GGGCGCACGGAATACAAAGCCGTGCATCTGCT' 'AGCGTGTTCGGCATCACCTTTGGCTTCGGCT']\n",
      "['GGGCGCACGGAATACAAAGCCGTGTATCTGCT' 'TGGCTCTGCAACAGCAGCACCCATGACCACG']\n",
      "['GGGCGCACGGAATACAAAGCCGTGTATCTGCT' 'AGCGTGTTCGGCATCACCTTTGGCTTCGGCT']\n",
      "['CAACTTCACCTTCTTGCGGCCAAGCAGCACCA' 'TGGCTCTGCAACAGCAGCACCCATGACCACG']\n",
      "['GGGCGCACGGAATACAAAGCCGTGTATCTGCT' 'TGGCTCTGCAACAGCAGCACCCATGACCACG']\n",
      "['GGGCGCACGGAATACAAAGCCGTGTATCTGCT' 'GGCAACATAACGAACAAAATCAACGTCAACC']\n",
      "['CTGTCTTCGCAAATCTATGGACTATTGCTATT' 'GCGATGGATCAGGGTATTACACTCGACGGCG']\n",
      "['GGGCGCACGGAATACAAAGTCGTGTATCTGCT' 'TGGCTCTGCAACAGCAGCACCCATGACCACG']\n",
      "['GGGCGCACGGAATACAAAGCCGTGTATCTGCT' 'TGGCTCTGCAACAGCAGCACCCATGACCACG']\n",
      "['GAATGATCCCAAATTTGGGTTACAGAACCAGT' 'TAGATTGATACTAGTATGCCAGTCATTATGT']\n",
      "['GGGCGCACGGAATACAAAGCCGTGCATCTGCT' 'TGGCCTGACTTTATCAAGCAGTGCATACTGA']\n",
      "['ACACGCCCTTATCAAATAGCTGTGGTTTACCTA' 'AGCGTTGCCGCCACGCCAGTTGTGCCGCTAC']\n",
      "['GAATGATCCCAAATTTGGGTTACAGAACCAGT' 'AGCGTGTTCGGCGAATTCTTTGGCTTCGGCT']\n",
      "['GGGCGCACGGAATACAAAGCCGTGTATCTGCT' 'GCGTCGCCATTCTATTAGCTTTTCCTCATCA']\n",
      "['GGGCGCACGGAATACAAAGCCGTGTATCTGCT' 'TGGCTCTGCAACAGCAGCACCCATGACCACG']\n",
      "['GGGCGCACGGAATACAAAGCCGTGTATCTGCT' 'TGGCTCTGCAACAGCAGCACCCATGAACACG']\n",
      "['AGCTGGGCGAAATTTTGATTCATCGTGATGAC' 'GATCCGGCTCACGATTTTGACGATGAGATCC']\n",
      "['GAATGATCCCAAATTTGGGTTACAGAACCAGT' 'GGACTTAAAGATCGCATCACAGTACTGGAGG']\n",
      "['GGGCGCGCGGAATACAAAGCCGTGTATCTGCT' 'TGGCTCTGCAACAGCAGCACCCATGACCACG']\n",
      "['GGGCGCACGGAATACAAAGCCGTGTATCTGCT' 'TGGCTCTGCAACAGCAGCACCCATGACCACG']\n",
      "['CTGTTTTCGCAAATCTATGGACTATTGCTATT' 'GACAGAACGGCCTCAGTAGTCTCGTCAGGCT']\n",
      "['GGGCGCACGGAATACAAAGCCGTGTATCTGCT' 'TCATTAGAAGCCAATAATCCGCGCGTCGAGA']\n",
      "['TAGTAACGCGGGTTCGCCCGTAAACCGCGAGA' 'TGGCTCTGCAACAGCAGCACCCATGACCACG']\n",
      "['GAATGATCCCAAATTTGGGTTACAGAACCAGT' 'ATTAGTGATATCCAACATTGCGGAGCTAAAC']\n",
      "['GGGCGCACGGAATACAAAGCCGTGTATCTGCT' 'TGGCTCTGCAACAGCAGCACCCATGACCACG']\n",
      "['GTTGTCGCGGTAGTATTTAGTCGAAAGCATGA' 'TGGCTCTGCAACAGCAGCACCCATGACCACG']\n",
      "['CTGTTTTCGCAAATCTATGGACTATTGCTATT' 'GTTATCACCGAGTGCAGTAGCCCGCGCGCGC']\n",
      "['TACTGCTCCGCTGGCGTTTCTCCCTCGCCCAG' 'TGGCTCTGCAACAGCAGCACCCATGACCACG']\n",
      "['GGGCGCACGGAATACAAAGCCGTGTATCTGCT' 'TGGCTCTGCAACAGCAGCACCCATGACCACG']\n",
      "['GGGCGCACGGAATACAAAGCCGTGTATCTGCT' 'CCGGAGCTGGGATTGATAGCGCCTGA']\n",
      "['TGGCGCACGGAATACAAAGCCGTGTATCTGCT' 'TGGCTCTGCAACAGCAGCACCCATGACCACG']\n",
      "['GGGCGCACGGAATACAAAGCCGTGTATCTGCT' 'TGGCTCTGCAACAGCAGCACCCATGACCACG']\n",
      "['GGGCGCACGGAATACAAAGCCGTGTATCTGCT' 'TGGCTCTGCAACAGCAGCACCCATGACCACG']\n",
      "['GGGCGCACGGAATACAAAGCCGTGTATCTGCT' 'TGGCTCTGCAACAGCAGCACCCATGACCACG']\n",
      "['GTCAACCACAACCAGATTGATGTGCTTGGTCT' 'TGGCTCTGCAACAGCAGCACCCATGACCACG']\n",
      "['GGGCGCACGGAATACAAAGCCGTGTATCTGCT' 'TGGCTCTGCAACAGCAGCACCCATGACCACG']\n",
      "['GGGCGCACGGAATACAAAGCCGTGTATCTGCT' 'TGGCTCTGCAACAGCAGTACCCATGACCACG']\n",
      "['GGGCTTTCCGCCTACCCGGGAAATCATGCGCT' 'GGGCGAGACGGGAGGGACAAGGTGTGATTGA']\n",
      "['GTATGGGAGCAATACCCCAACCTGATGATGTG' 'TGGCTCTGCAACAGCAGCACCCATGACCACG']\n",
      "['CTGTTTTCGCAAATCTATGGACTATTGCTATT' 'GGGCGCACGGAATACAAAGCCGTGTATCTGC']\n",
      "['GGGCGCACGGAATACAAAGCCGTGTATCTGCT' 'ACACGCCCTTATCAAATAGCCGTGATTTACCT']\n",
      "['GGGCGCACGGAATGCAAAGCCGCGTATCTGCT' 'CACAAACCGCCCATCTTCCCGATTACTGCAG']\n",
      "['GGGCGCACGGAATACAAAGCCGTGTATCTGCT' 'TGAAAATTCGCCCGTTAGCGCTCCCTTAGCG']\n",
      "['TATACCGCCGTACATATTTCTCTGCCCAGTTA' 'TGGCTCTGCAACAGCAGCACCCATGACCACG']\n",
      "['GGGCGCACGGAATACAAAGCCGTGTATCTGCT' 'GCGACCGCTCAGAAATTCCAGACCCGATCCAA']\n",
      "['GGGCGCACGGAGTACAAAGCCGTGTATCTGCT' 'GGAATGATATTTCAATAAATAATTATAACAA']\n",
      "['GGGCGCACGGAATACAAAGCCGTGTATTTGCT' 'TGGCTCTGCAACAGCAGCACCCATGACCACG']\n",
      "['ATTACGCCCTTATCAAATAGCTGTGATTTACCTA' 'TGAATGATCGGAAAGACGCTGCAAAGGCAAT']\n",
      "['GGGCGCACGGAATACAAAGCCGTGTATCTGCT' 'TAACGAACTGAATAAAATGTCAGAAAGTGAC']\n",
      "['GGGCGCACGGAGTACAAAGCCGTGTATCTGCT' 'TGGCTCTGCAACAGCAGCACCCATGACCACG']\n",
      "['GGGCGCACGGAATACAAAGCCGTGTATCTGCT' 'CTAATGATGCCACCCAGCGACAAAAACGCCG']\n",
      "['TATAGAGATCGTTTTTGGAATTTACAGCGAGG' 'GTAGTCCATCATTCCACCTATGTCTGAACTC']\n",
      "['TGAAGGTGCTGAAGAATATCGGATTCAGAACG' 'TGGCTCTGCAACAGCAGCACCCATGACCACG']\n",
      "['TTACCAACTGGATAACGACGGGAAAGAGCTGT' 'TGAATGATCGGAAAGACGCTGCAAAGGCAAT']\n",
      "['GAATGATCCCAAATTTGGGTTACAGAACCAGT' 'GGGCGCACGGAATACAAAGCCGTGTATCTGC']\n",
      "['CTGTTTTCGCAAATCTATGGACTATTGCTATT' 'AGCGTGTTCGGCATCACCTTTGGCTTCGGCT']\n",
      "['GGGCGCACGGAATACAAAGCCGTGTATCTGCT' 'AGCTGGGCGAAATTTTGATTCATCGTGATGA']\n",
      "['CATAAAGAAACTATTTTGCGTTTCGTTCAGGT' 'TGGCTCTGCAACAGCAGCACACATGACCACG']\n",
      "['GTCAACCACAACCAGATTGATGTGCTTGGTCT' 'TCAACATTATCAATTACAACCGACAGGGAGC']\n",
      "['GATCAGATAAATGGCAAGACGATCCTGTTGCAC' 'CAAGTGATAGCCATCATCGCATCCAGTGCGC']\n",
      "['CTGTTTTCGCAAATCTATGGACTATTGCTATT' 'CTGCTGCTCGAGCTGGTGGAGTGCTGCTATA']\n",
      "['CCGCAATGACGAGGTCGGCGAGCTGGTGCG' 'TGGCTCTGCAACAGCAGCACCCATGACCACG']\n",
      "['CTGTTTTCGCAAATCTATGGACTATTGCTATT' 'TACCGTACAGACTGCCGGATATTATTTTTTT']\n",
      "['TCGCACCGCGTTAATCCGGCAGAAAAACAACA' 'TGGCTCTGCAACAGCAGCACCCATGACCACG']\n",
      "['ACACGCCCTTATCAAATAGCTGTGATTTACCTA' 'CCTGGTGTTGTCTGTTTCGTGACGCTCGGTA']\n",
      "['ACTCACATTAATTGCGTTGCGCTCACTGCCCG' 'TGGCTCTGCAACAGCAGCACCCATGACCACG']\n",
      "['CTGGTTTCGCAAATCTATGGACTATTGCTATT' 'TGTAAAAGTTGATTTTCATATTGCTCTAATT']\n",
      "['ACACGCCCTTATCAAATAGCTGTGATTTACCTA' 'GGAAACCGCCCCGGCGGTGGTTAGCTGTTTG']\n",
      "['GGGCGCACGGAATACAAAGCCGTGTATCTGCT' 'TGGCTCTGCAACAGCAGCACCCATGACCACG']\n",
      "['GGGCGCACGGAATACAAAGCCGTGTATCTGCT' 'GCGGGCGTTAACGCGGTGATACTGTTTGACG']\n",
      "['ACTCACATTAATTGCGTTGCGCTCACTGCCCG' 'AGAGTATGAGTATTCAACATTTCCGTGTCGC']\n",
      "['CTGTTTTCGCAAATCTATGGACTATTGCTATT' 'GCGGGCGTTAACGCGGTGATACTGTTTGACG']\n",
      "['GGGCGCACGGAATACAAAGCCGTGTATCTGCT' 'TGGCTCTGCAACAGCAGCACCCATGACCACG']\n",
      "['ATCAGTGATATCCAACATTGCGGAGCTAAACG' 'TGGCTCTGCAACAGCAGCACCCATGACCACG']\n",
      "['GGGCGCACGGAATACAAAGCCGTGTATCTGCT' 'GGTCAACTGCTCACGTTTCTCAATCTCACTA']\n",
      "['GGGCGCACGGAATACAAAGCCGTGTATCTGCT' 'TGGCTCTGCAACAGCAGCACCCATGACCACG']\n",
      "['CTGTTTTCGCAAATCTATGGACTATTGCTATT' 'GGGCGCACGGAATACAAAGCCGTGTATCTGC']\n",
      "['GGGCGCACGGAATACAAAGCCGTGTATCTGCT' 'TGGCTCCGCAACAGCAGCACCCATGACCACG']\n",
      "['GGGCGCACGGAATACAAAGCCGTGTATCTGCT' 'TACCGTACAGACTGCCGGATATTATTTTTTT']\n",
      "['GGGCGCACGGAATACAAAGCCGTGTATCTGCT' 'TGGCTCTGCAACAGCAGCACCCATGACCACG']\n",
      "['ACATGAATGTCGGTTCAGACCGTGTTTTTACC' 'TGGCTCTGCAACAGCAGCACCCATGACCACG']\n",
      "['CTGTTTTCGCAAATCTATGGACTATTGCTATT' 'GGGCGCACGGAATACAAAGCCGTGTATCTGC']\n",
      "['CTGTTTTCGCAAATCTATGGACTATTGCTATT' 'GGGCGCACGGAATACAAAGCCGTGTATCTGC']\n",
      "['GGGCGCACGGAATACAAAGCCGTGTATCTGCT' 'AACTGGATTCTGCTCTAATTATTACATCATC']\n",
      "['CTGTTTTCGCAAATCTATGGACTATTGCTATT' 'GCGGGCGTTAACGCGGTGATACTGTTTGACG']\n",
      "['CTGTTTTCGCAAATCTATGGACTATTGCTATT' 'GACGGAACGGCCTCAGTAGTCTCGTCAGGCT']\n",
      "['CTGTTTTCGCAAATCTATGGACTATTGCTATT' 'GGGCGCACGGAATACAAAGCCGTGTATCTGC']\n",
      "['GGGCGCACGGAATACAAAGCCGTGTATCTGCT' 'TGGCTCTGCAACAGCAGCACCCATGACCACG']\n",
      "['GTGCGCACGGAATACAAAGCCGTGTATCTGCT' 'TGGCTCTGCAACAGCAGCACCCATGACCACG']\n",
      "['GGACGCACGGAATACAAAGCCGTGTATCTGCT' 'TGGCTCTGCAACAGCAGCACCCATGACCACG']\n",
      "['GTCAACCACAACCAGATTGATGTGCTTGGTCT' 'AGTGCGGGCGGTTCAGAGGAATTGTTCGTAG']\n",
      "['GGGCGCACGGAATACAAAGCCGTGTATCTGCT' 'TGGCTCTGCAACAGCGGCACCCATGACCACG']\n",
      "['GTAACGTGGCGACGACCGGCGATTGATTTCAG' 'TGGCTCTGCAACAGCAGCACCCATGACCACG']\n",
      "['TATAGAGATCGTTTTTGGAATTTACAGCGAGG' 'CCGTAAGTGGTTTGAGCGATGATATTTGTGC']\n",
      "['CTGTTTTCGCAAATCTATGGACTATTGCTATT' 'GGGCGCACGGAATACAAAGCCGTGTATCTGC']\n",
      "['CTGTTTTCGCAAATCTATGGACTATTGCTATT' 'GGGCGCACGGAATACAAAGCCGTGTATCTGC']\n",
      "['CTGTTTTCGCAAATCTATGGACTATTGCTATT' 'TGGCTCTGCAACAGCAGCACCCATGACCACG']\n",
      "['GGGCGCACGGAATACAAAGCCGTGTATCTGCT' 'TGGCTCTGCAACAGCAGCACCCATGACCACG']\n",
      "['CCGTAAGTGGTTTGAGCGATGATATTTGTGCT' 'TGGCTCTGCAACAGCAGCACCCATGACCACG']\n",
      "['CTGTTTTCGCAAATCTATGGACTATTGCTATT' 'AACGTCAGGTTGTCGCCGCTCTGCGCGGTCG']\n",
      "['CTGTTTTCGCAAATCTATGGACTATTGCTATT' 'GGGCGCACGGAATACAAAGCCGTGTATCTGC']\n",
      "['GTATGGGAGCAATACCCCAACCTGATGATGTG' 'TGGCTCTGCAACAGCAGCACCCATGACCACG']\n",
      "['CTGTTTTCGCAAATCTATGGACTATTGCTATT' 'TCGTGCACCCAACTGATCTTCAGCATCTTTT']\n",
      "['GAATGATCCCAAATTTGGGTCACAGAACCAGT' 'GGACTTAAAGATCGCATCACAGTACTGGAGG']\n",
      "['GTATGGGAGCAATACCCCAACCTGATGATGTG' 'TGGCTCTGCAACAGCAGCACCCATGACCACG']\n",
      "['GGGCGCACGGAATACAAAGCCGTGTATCTGCT' 'AACTGGATTCTGCTCTAATTATTACATCATC']\n",
      "['GGGCGCACGGAATACAAAGCCGTGTATCTGCT' 'CAGTAATTGCACCCTCAGCATCATTAACCAT']\n",
      "['ACACGCCCTTATCAAATAGCTGTGATTTACCTA' 'GTGCCAGTTCTCTGGTTGACGGTCGGGAATG']\n",
      "['CTGTTTTCGCAAATCTATGGACTATTGCTATT' 'ATATATCAGAGCAAAAAACAAAGCCACAGCC']\n",
      "['CTGTTTTCGCAAATCTATGGACTATTGCTATT' 'GGGCGCACGGAATACAAAGCCGTGTATCTGC']\n",
      "['CTGTTTTCGCAAATCTATGGGCTATTGCTATT' 'GAGGGTCTGGAAGCACTACCAGAAGCGGAGC']\n",
      "['GTCAACCACAACCAGATTGATGTGCTTGGTCT' 'CTCTACACCACAACAGTCTGGGTCGCCACT']\n",
      "['GTCAACCACAACCAGATTGATGTGCTTGGTCT' 'ACATGAATGTCGGTTCAGACCGTGTTTTTAC']\n",
      "['CTGTTTTCGCAAATCTATGGACTATTGCTATT' 'GGGCGCACGGAATACAAAGCCGTGTATCTGC']\n",
      "['ATATATCAGAGCAAAAAACAAAGCCACAGCCA' 'TGGCTCTGCAACAGCAGCACCCATGACCACG']\n",
      "['CTGTTTTCGCAAATCTATGGACTATTGCTATT' 'GTATGGGAGCAATACCCCAACCTGATGATGT']\n",
      "['GGGCGCACGGAATACAAAGCCGTGTATCTGCT' 'TGAGCGTCGGCGGCTCGCTGGATTTGCGCG']\n",
      "['CTGTTTTCGCAAATCTATGGACTATTGCTATT' 'CGTCCGGATCGGTTTCGAGAATCTCTACGCT']\n",
      "['ACGAACGCGGCACACCAGGGCGTCTCATCGTC' 'TGGCTCTGCAACAGCAGCACCCATGACCACG']\n",
      "['CTGTTTTCGCAAATCTATGGACTATTGCTATT' 'GCGACCGCTCAGAAATTCCAGACCCGATCCAA']\n",
      "['GGGCGCACGGAATACAAAGCCGTGTATCTGCT' 'TGGCTCTGCAACAGCAGCACCCATGACCACG']\n",
      "['GGGCGCACGGAATACAAAGCCGTGTATCTGCT' 'AGCGTGTTCGGCATCACCTTTGGCTTCGGCT']\n",
      "['GGGCGCACGGAATACAAAGCCGTGTATCTGCT' 'CTGTTTTCGCAAATCTATGGACTATTGCTAT']\n",
      "['GGGCGCACGGAATACAAAGCCGTGTATCTGCT' 'CGGCTCTGCAACAGCAGCACCCATGACCACG']\n",
      "['GTATGGGAGCAATACCCCAACCTGATGATGTG' 'ATCTTCTTGTTCAGGAACGTCAGTAGAGGTG']\n",
      "['GGGCGCACGGAATACAAAGCCGTGTATCTGCT' 'TGGCTCTGCAACAGCAGCACCCATGACCACG']\n",
      "['CTCTACACCACCAACAGTCTGGGTTGCCACTT' 'TGGCTCTGCAACAGCAGCACCCATGACCACG']\n",
      "['CTGTTTTCGCAAATCTATGGACTATTGCTATT' 'GTTATCACCGAGTGCAGTAGCCCGCGCGCGC']\n",
      "['GGCAGCGAGCGAAGCTAAAGACCACGCTATTA' 'TGGCTCTGCAACAGCAGCACCCATGACCACG']\n",
      "['GGGCGCACGGAATACAAAGCCGTGTATCTGCT' 'TGGCTCTGCAACAGCAGCACCCATGACCACG']\n",
      "['GTATGGGAGCAATACCCCAACCTGATGATGTG' 'GACAACGATCGGAGGACCGAAGGAGCTAACC']\n",
      "['GGGCGCACGGAATACAAAGCCGTGTATCTGCT' 'ACATGAATGTCGGTTCAGACCGTGTTTTTAC']\n",
      "['GGGCGCACGGAATACAAAGCCGTGTATCTGCT' 'TGGCTCTGCAACAGCAGCACCCATGACCACG']\n",
      "['GAATGATCCCAAATTTGGGTTACAGAACCAGT' 'ATTACGCCTTTTTGCGATTGCCCGGTTTTTG']\n",
      "['CTGTTTTCGCAAATCTATGGACTACTGCTATT' 'TGGCGCACGGAATACAAAGCCGTGTATCTGC']\n",
      "['GGGCGCACGGAATACAAAGCCGTGTATCTGCT' 'TTAATCAGGTCGTCGTACTCAGCGCCGCTGG']\n",
      "['GGGCGCACGGAATACAAAGCCGTGTATCTGCT' 'GTTTTCTCTACATTTAGCTATAGACGTTAGT']\n",
      "['AGCTGGGCGAAATTTTGATTCATCGTGATGAC' 'TGGTGTGATTCCAATTGCCGCACGGAACGCC']\n",
      "['GGGCGCACGGAATACAAAGCCGTGTATCTGCT' 'GCGACCGCCCAGAAATTCCAGACCCGATCCAA']\n",
      "['GGCAAAAAGGCGGCGCGTTTAAGAGAGGCATA' 'TGGCTCTGCAACAGCAGCACCCATGACCACG']\n",
      "['TAGGCCTATAGAGACAGCGTTCGTTAAGGCA' 'TGGCTCTGCAACAGCAGCACCCATGACCACG']\n",
      "['GGGCCTTCCGCCTACCTGCGACATCATGCGCT' 'GGGCGAGACGGGAGGGACAAGGTGTGATTGA']\n",
      "['CTGTTTTCGCAAATCTATGGACTATTGCTATT' 'GGGCGCACGGAATACAAAGCCGTGCATCTGC']\n",
      "['CTGTTTTCGCAAATCTACGGACTATTGCTATT' 'GGGCGCACGGAATACAAAGCCGTGTATCTGC']\n",
      "['TACGTAAAGCCAGGGCAGGCTGTGACGGTTGC' 'TGGCTCTGCAACAGCAGCACCCATGACCACG']\n",
      "['GGGCGCACGGAATACAAAGCCGTGTATCTGCT' 'TGGCTCTGCAACAGCAGCACCCATGACCACG']\n",
      "['CTGTTTTCGCAAATCTATGGACTATTGCTATT' 'TGCATATCAGATGGGCACTGCTGATTGGAGA']\n",
      "['CTGTTTTCGCAAATCTATGGACTATTGCTATT' 'GGGCGCACGGAATACAAAGCCGTGTATCTGC']\n",
      "['CTGTTTTCGCAAACCTATGGACTATTGCTATT' 'AAGCTGGCTGGCAATCTCTTTCGGGGTGAGT']\n",
      "['GGGCGCACGGAATACAAAGCCGTGTATCTGCT' 'TTGCTGGCCTGTACGCAATAGCAGATTCACT']\n",
      "['GGGCGCACGGAATACAAAGCCGTGTATCTGTT' 'TGGCTCTGCAACAGCAGCACCCATGGCCACG']\n",
      "['GGGCGCACGGAATACAAAGCCGTGTATCTGCT' 'AGCGTGTTCGGCATCACCTTTGGCTTCGGCT']\n",
      "['CTGTTTTCGCAAATCTATGGACTATTGCTATT' 'AGCGTGTTCGGCATCACCTTTGGCTTCGGCT']\n",
      "['GAATGATCCCAAATTTGGGTTACAGAACCAGT' 'GAGGCGCTCACCTATCTCCTGAATATCTGAG']\n",
      "['CCGTAAGTGGTTTGAGCGATGATATTTGTGCT' 'TGGCTCTGCAACAGCAGCACCCATGACCACG']\n",
      "['GTGTTTTCGCAAATCTATAGACTATTGCTATT' 'GGGTTGTGCGCCCTGGTGGGCGAAAACGGTG']\n",
      "['GGGCGCACGGAATACAAAGCCGTGTATCTGCT' 'TGGCTCTGCAACAGCAGCACCCATGACCACG']\n",
      "['GGGCGCACGGAATACAAAGCCGTGTATCTGCT' 'GCGTCGCCATTCTATTAGCTTTTCCTCATCA']\n",
      "['GGGCGCACGGAATACAAAGCCGTGTATCTGCT' 'TGGCTCTGCAACAGCAGCACCCATGACCACG']\n",
      "['CTGTTTTCGCAAATCTATGGACTATTGCTATT' 'TGACCTGAAGAAATAACACTGACTCCAAACT']\n",
      "['GGGCGCACGGAATACAAAGCCGTGTATCTGCT' 'TGGCTCTGCAACAGCAGCACCCATGACCACG']\n",
      "['GGGCGCACGGAATACAAAGCCGTGTATCTGCT' 'TCATTTCCCATGCAAAATGCTGCATTCCTGG']\n",
      "['GGGCGCACGGAATACAAGGCCGTGTATCTGCT' 'TGGCTCTGCAACAGCAGCACCCATGACCACG']\n",
      "['CCGTTTTCGCAAATCTATGGACTATTGCTATT' 'GGGCGCACGGAATACAAAGCCGTGTATCTGC']\n",
      "['CTGTTTTCGCAAATCTATGGACTATTGCTATT' 'GTCGACCATATGCCAAGACCAACTATCTGAT']\n",
      "['GGGCGCACGGAATACAAAGCCGTGTATCTGCT' 'TGGCTCTGCAACAGCAGCACCCATGACCACG']\n",
      "['GGGCGCACGGAATACAAAGCCGTGTATCTGCT' 'GACAGAACGGCCTCAGTAGTCTCGTCAAGCT']\n",
      "['GGGCGAGACGGGAGGGACAGGGTGTGATTGAG' 'ATCACCGTCACAGGCCAGAACCGTCACCACC']\n",
      "['CTATTTTCGCAAATCTATGGACTATTGCTATT' 'GAATGATCCCAAATTCGGGTTACAGAACCAG']\n",
      "['CTGTTTTCGCAAATCTATGGACTATTGCTATT' 'TGGCTCTGCAACAGCAGCACCCATGACCACG']\n",
      "['GGGCGCACGGAATACAAAGCCGTGTATCTGCT' 'TGGCTCTGCAACAGCAGCACCCATGACCACG']\n",
      "['GGGCGCACGGAATACAAAGCCGTGTATCTGCT' 'GACAGAACGGCCTCAGTAGTCTCGTCAGGCT']\n",
      "['GAATGATCCCAAATTTGGGTTACAGAACCAGT' 'TAAACCACCAGCCAGACCACCAATTACCACA']\n",
      "['GGGCGCACGGAATACAAAGCCGTGTATCTGCT' 'TGGCTCTGCAACAGCAGCACCCATGACCACG']\n",
      "['GGGCGCACGGAATACAAAGCCGTGTATCTGCT' 'TGGCTCTGCAACAGCAGCACCCATGACCACG']\n",
      "['GGGCGCACGGAATACAAAGCCGTGTATCTGCT' 'GAGGTGGCAATACGCGTAGATCATTTGGTCG']\n",
      "['ACATGAATGTCGGTTCAGACCGTGTTTTTACC' 'TGGCTCTGCAACAGCAGCACCCATGACCACG']\n",
      "['ATAGACCCCGAACAACAATACGCGCAAACCGA' 'TGGCTCTGCAACAGCAGCACCCATGACCACG']\n",
      "['GGGCGCACGGAATACAAAGCCGTGTATCTGCT' 'AGCGTGTTCGGCATCACCTTTGGCTTCGGCT']\n",
      "['GGGCGCACGGAATACAAAGCCGTGTATCTGCT' 'TGGCTCTGCAACAGCAGCACCCATGACCACG']\n",
      "['GGGCGCACGGAATACAAAGCCGTGTATCTGCT' 'TGGCTCTGCAACAGCAGCACCCATGACTACG']\n",
      "['AGCTGGGCGAAATTTTGATTCATCGTGATGAC' 'TGCATGGCTTTGGCTTCCTCTTTGACGGACG']\n",
      "['GGGCGCACGGAATACAAAGCCGTGTATCTGCT' 'CTAGGAGGCGTAACGAATACTACGTATCAAA']\n",
      "['GGGCGCACGGAATACAAAGCCGTGTATCTGCT' 'TGGCTCTGCAACAGCGGCACCCATGACCACG']\n",
      "['GGGCGCACGGAATACAAAGCCGTGTATCTGCT' 'TGGCTCTGCAACAGCAGCACCCATGACCACG']\n",
      "['CTGTTTTCGCAAATCTATGGACTATTGCTATT' 'TTGTAGGTAAGGCCCGCCGCGGCGGCGAGTT']\n",
      "['CTGTTTTCGCAAATCTATGGACTATTGCTATT' 'GGGCGCACGGAATACAAAGCCGTGTATCTGC']\n",
      "['GGGCGCACGGAATACAAAGCCGTGTATCTGCT' 'TGGTTTGTTTGCCGAATCAAGAGCTACCAAC']\n",
      "['GGGCGCACGGAATACAAAGTCGTGTATCTGCT' 'CTGTTTTCGCAAATCTATGGACTATTGCTAT']\n",
      "['GGGCGCACGGAATACAAAGCCGTGTATCTGCT' 'TAGATTGATACTAGTATGCCAGTCATTATGT']\n",
      "['CATGTCGCGCAGGTTGCCCTGTGCATCCGCTG' 'TGGCTCTGCAACAGCAGCACCCATGACCACG']\n",
      "['CTGTTTTCGCAAATCTATGGACTATTGCTATT' 'GGGGTTGTCGTTGTTTTGCCAGCGTCCTTCA']\n",
      "['GGGCGCACGGAATACAAAGCCGTGTATCTGCT' 'AAGCTGGCTGGCAATCTCTTTCGGGGTGAGT']\n",
      "['GGGCGCACGGAATACAAAGCCGTGTATCTGCT' 'TTTGCTACCCGCTCAAAACCGCCGATTCGCG']\n",
      "['GGGCGCACGGAATACAAAGCCGTGTATCTGCT' 'CTGCTGCTCGAGCTGGTGGAGTGCTGCTATA']\n",
      "['CTGTTTTCGCAAATCTATGGACTATTGCTATT' 'GGGCGCACGGAATACAAAGCCGTGTACCTGC']\n",
      "['TGGTTTGTTTGCCGGATCAAGAGCTACCAACT' 'TGGCTCTGCAACAGCAGCACCCATGACCACG']\n",
      "['ACACGCCCTTATCAAATAGCTGTGATTTACCTA' 'AAGCTGGCTGGCAATCTCTTTCGGGGTGAGT']\n",
      "['GGGCGAGACGGGAGGGACAAGGTGTGATTGAG' 'ATCACCGTCACAGGCCAGAACCGTCACCACC']\n",
      "['GAATTTTAAATTTATGTGTATGAATTGTGGCA' 'TGGCTCTGCAACAGCAGCACCCATGACCACG']\n",
      "['CTGTTTTCGCAAATCTATGGACTATTGCTATT' 'AAGTAATCATGCCTTAATAGACCCCATCGTC']\n",
      "['GAATGATCCCAAATTTGGGTTACAGAACCAGT' 'GGAATGATATTTCAATAAATAATTATAACAA']\n",
      "['GGGCGCACGGAATACAAAGCCGTGTATCTGCT' 'CTGTTTTCGCAAATCTATGGACTATTGCTAT']\n",
      "['CTGTTTTCGCAAATCTACGGACTATTGCTATT' 'TCCCCTGATTCTGTGGATAACCGTATTACCG']\n",
      "['GGGCGCACGGAATACAAAGCCGTGTATCTGCT' 'GGGCGCACGGAATACAAAGCCGTGTATCTGC']\n",
      "['GGGTGCACGGAATACAAAGCCGTGTATCTGCT' 'TGGCTCTGCAACAGCAGCACCCATGACCACG']\n",
      "['GGCAACATAACGAACAAAATCAACGTCAACCT' 'TGGCTCTGCAACAGCAGCACCCATGACCACG']\n",
      "['TGGGCGGCTTGCCTTGCAGCCAGCTCCAGCAG' 'TGGCTCTGCAACAGCAGCACCCATGACCACG']\n",
      "['GGGCGCACGGAATACAAAGCCGTGTATCTGCT' 'GTCACCAACATTTTCGCCGTTCAGGCCCGCA']\n",
      "['CTGCCCAAAGACCTGTATTCCTCTGATGGTTC' 'TGGCTCTGCAACAGCAGCACCCATGACCACG']\n",
      "['TAACGAACTGAATAAAATGTCAGAAAGTGACG' 'CTGTTTTCGCAAATCTATGGACTATTGCTAT']\n",
      "['CCCATTCCAATTGATACTCATACGTTGTT' 'TGGCTCTGCAACAGCAGCACCCATGACCACG']\n",
      "['CTGTTTTCGCAAATCTATGGACTATTGCTATT' 'GTCGCCGGGTTGATTTTCCATGATGATTTTT']\n",
      "['GGGCGCACGGAATACAAAGCCGTGTATCTGCT' 'TCGAACCTGTTTTTCTTAGTGCGCGCAACGT']\n",
      "['GGGCGCACGGAATACAAAGCCGTGTATCTGCT' 'TACCGTACAGACTGCCGGATATTATTTTTTT']\n",
      "['GGGCGCACGGAATACAAAGCCGTGTATCTGCT' 'TGGCTCTGCAACAGCAGCACCCATGACCACG']\n",
      "['CTGTTTTCGCAAATCTATGGACTATTGCTATT' 'GACAGAACGGCCTCAGTAGTCTCGTCAGGCT']\n",
      "['GGGCGCACGGAATACAAAGCCGTGTATCTGCT' 'TGACCTGAAGAAGTAACATTGACTCCAAACT']\n",
      "['GAATGATCCCAAATTTGGGTTACAGAACCAGT' 'GTCCTCTTTTTTCGACGTCAGGAAAATATCG']\n",
      "['GGGCGCACGGAATACAAAGCCGTGCATCTGCT' 'TGGCTCTGCAACAGCAGCACCCATGACCACG']\n"
     ]
    }
   ],
   "source": [
    "for x in clusters[11]:\n",
    "    print pairs_array[x]"
   ]
  },
  {
   "cell_type": "code",
   "execution_count": 541,
   "metadata": {
    "collapsed": false
   },
   "outputs": [
    {
     "name": "stdout",
     "output_type": "stream",
     "text": [
      "['CCCATTCCAATTGATACTCATACGTTGTT' 'ATTACGCCTTTTTGCGATTGCCCGGTTTTTG']\n",
      "['ACGATGGCGATGCGTGAGAAAGGGGGTCGATA' 'ATTACGCCTTTTTGCGATTGCCCGGTTTTTG']\n",
      "['ATAGACCCCGAACAACAATACGCGCAAACCGA' 'ATAACCTGTTTAACCAGGCGACGGGTTTCCA']\n",
      "['CAAGTGATATCCATCATCGCATCTAGTGCGCC' 'ATTACGCCTTTTTGCGATTGCCCGGTTTTTG']\n",
      "['GAAATGCTGGTGAGCGTTAATGCCGCAAACAC' 'ATTACGCCTTTTTGCGATTGCCCGATTTTTG']\n",
      "['CCGGGGGATAATGTTACGGTCATGCGCCCCC' 'ATTACGCCTTTTTGCGATTGCCCGGTTTTTG']\n",
      "['TGGCTCTGCAACAGCAGCGCCCATGACCACGT' 'ATTACGCCTTTTTGCGATTGCCCGGTTTTTG']\n",
      "['AAGTAATCATGCCTTTATAGACCCCATCGTCA' 'ATTACGCCTTTTTGCGATTGCCCGGTTTTTG']\n",
      "['TGGCTCTGCAACAGCAGCACCCATGACCACGT' 'ATTACGCCTTTTTGCGATTGCCCGGTTTTTG']\n",
      "['GTAGTCCATCATTCCACCTATGTCTGAACTCC' 'ATTACGCCTTTTTGCGATTGCCCGGTTTTTG']\n",
      "['GAAATGCTGGTGAGCGTTAATGCCGCAAACAC' 'ATTACGCCTTTTTGCGATTGCCCGGTTTTTG']\n",
      "['AGTGGCAGGCCGGTAATATGAAAACGACAGAG' 'ATTACGCCTTTTTGCGATTGCCCGGTTTTTG']\n",
      "['TAAGCCGTGACGCGGGTCGCCGCTGGCGTCAA' 'ATTACGCCTTTTTGCGATTGCCCGGTTTTTG']\n",
      "['CGGGGGGATAATGTTTACGGTCATGCGCCCCC' 'TCCTCGTCGTACCCTGTTCCCCTGGTTACTG']\n",
      "['GCGACCGCTCAGAAATTCCAGACCCAATCCAAA' 'ATTACGCCTTTTTGCGACTGCCCGGTTTTTG']\n",
      "['GAAATGCTGGTGAGCGTTAATGCCGCAAACAC' 'ATTACGCCTTTTTGCGATTGCCCGGTTTTTG']\n",
      "['TTGAGAGCGAGGGGCGATTCCGCCAGGGCGTA' 'ATTACGCCTTTTTGCGATTGCCCGGTTTTTG']\n",
      "['GTCACCAACATTTTCGCCGTTCAGGCCCGCAG' 'ATTACGCCTTTTTGCGATTGCCCGGTTTTTG']\n",
      "['GGGCGCACGGAATACAAAGCCGTGTATCTGCT' 'ATTACGCCTTTTTGCGATTGCCCGGTTTTTG']\n",
      "['AGTGCTGGACCATTTCAAATTCACAATAGATT' 'ATTACGCCTTTTTGCGATTGCCCGGTTTTTG']\n",
      "['TCCGTCCACCCTGATAGCCGCCCTTGTGATCC' 'ATTACGCCTTTTGCGATTGCCCGGTTTTTG']\n",
      "['AAAACCAAACTTCTCCATAAATTCCATAGCCG' 'ATTACGCCTTTTTGCGATTGCCCGGTTTTTG']\n",
      "['GGGCGCACGGAATACAGAGCCGTGTATCTGCT' 'ATTACGCCTTTTTGCGATTGCCCGGTTTTTG']\n",
      "['CGATTCCTCGTAGCTGCCACTCGACTGAAAGC' 'CGTTTTTGCCGGGTTTATTTTAAAACCGGAG']\n",
      "['AGGGCGCTGGCAAGTGTAGCGGTCACGCTGCG' 'ATTACGCCTTTTGCGATTGCCCGGTTTTTG']\n",
      "['ACGCGCGTACCGGATCGCGGACAACAAATTGC' 'CTGAAACCAGTTGGCTCGTTGTTCTTCTTTG']\n",
      "['TCAACATTATCAATTACAACCGACAGGGAGCC' 'ATTACGCCTTTTTGCGATTGCCCGGTTTTTG']\n",
      "['GAAATGCTGCTGAGCGTTAATGCCGCAAACAC' 'ATTACGCCTTTTTGCGATTGCCCGGTTTTTG']\n",
      "['TCAACATTATCAATTACAACCGACAGGGAGCC' 'ATTACGCCTTTTTGCGATTGCCCGGTTTTTG']\n",
      "['TCCGTCCACCCTGATAGCCGCCCTTGTGATCC' 'ATTACGCCTTTTTGCGATTGCCCGGTTTTTG']\n",
      "['CAACGAAATTGAGAGCAAAGGTCGCTACGCAG' 'ATTACGCCTTTTTGCGATTGCCCGGTTTTTG']\n",
      "['GCGTCCACTTCGGGATTTGTGGCAGGGAGTTC' 'GCGACCGCTCAGAAATTCCAGACCCGATCCAA']\n",
      "['AAAATGCTGGTGAGGGTTAATGCCGCAAACAC' 'ATTACGCCTTTTTGCGATTGCCCGGTTTTTG']\n",
      "['GCGTCCACTTCGGGATTTGTGGCAGGGAGTTC' 'ATAACCTGTTTAACCAGGCGACGGGTTTCCA']\n",
      "['ATGACTACACGTACCCGATGCGCGGCGCGGGG' 'ATTACGCCTTTTTGCGATTGCCCGGTTTTTG']\n",
      "['ACACCAAGCCCTCAGTATTGTGTTAACCAAGA' 'ATTACGCCTTTTTGCGATTGCCCGGTTTTTG']\n",
      "['GAAATGCTGGTGAGCGTTAATGCCGCAAACAC' 'ATTACGCCTTTTTGCGATTGCCCGGTTTTTG']\n",
      "['CACCCTGAGCGTAAAAAAAATGCTGAGGCGAT' 'ATTACGCCTTTTTGCGATTGCCCGGTTTTTG']\n",
      "['GAAATGCTGGTGAGCGTTAATGCCGCAAACAC' 'ATTACGCCTTTTTGCGATTGCCCGGTTTTTG']\n",
      "['ATCACGATAACGCTGCTGTGATTCGTCCCCGT' 'ATTACGCCTTTTTGCGATTGCCCGGTTTTTG']\n",
      "['ATAGACCCCGAACAACAATACGCGCAAACCGA' 'ATTACGCCTTTTTGCGATTGCCCGGTTTTTG']\n",
      "['TCAACATTATCAATTACAACCGACAGGGAGCC' 'ATTACGCCTTTTTGCGATTGCCCGGTTTTTG']\n",
      "['GGGCGCACGGAACACAAAGCCGTGTATCTGCT' 'ATTACGCCTTTTTGCGATTGCCCGGTTTTTG']\n",
      "['TCAACATTATCAATTACAACCGACAGGGAGCC' 'ATTACGCCTTTTTGCGATTGCCCGGTTTTTG']\n",
      "['TGCATATCAGATGGGCACTGCTGATTGGAGAA' 'ATTACGCCTTTTTGCGGTTGCCCGGTTTTTG']\n",
      "['GACCCACTGCCGTTCCCTTACCCGCCATGTCG' 'ATTACGCCTTTTTGCGATTGCCCGGTTTTTG']\n",
      "['TCCGTCCACCCTGATAGCCGCCCTTGTGATCC' 'ATTACGCCTTTTTGCTATTGCCCGGTTTTTG']\n",
      "['AGCGTGTTCGGCATCACCTTTGGCTTCGGCTG' 'ATTACGCCTTTTTGCGATTGCCCGGTTTTTG']\n",
      "['TGGCAAAACAAACATCGGGGTACGCGCGGTGC' 'ATTACGCCTTTTTGCGATTGCCCGGTTATTG']\n",
      "['GGCACGACATTCAGCAGTGCAGATAAATCGGC' 'TTGATCGGCGAGACTCGCGGCCTGTTTTTCG']\n",
      "['GCGTCCACTTCGGGATTTGTGGCAGGGAGTTC' 'ATAACCTGTTTAACCAGGCGACGGGTTTCCA']\n",
      "['GAAATGCTGGTGAGCGTTAATGCCGCAAACAC' 'ATTACGCCTTTTTGCGATTGCCCGGTTTTTG']\n",
      "['GGGCGCACGGAATACAAAGCCGTGTATCTGCT' 'ATTACGCCTTTTTGCGATTGCCCGGTTTTTG']\n",
      "['GAAATGCTGGTGAGCGTTAATGCCGCAAACAC' 'ATTACGCCTTTTTGCGATTGCCCGGTTTTTG']\n",
      "['ACGAACGCGGCACACCAGGGCGTCTCATCGTC' 'ATTACGCCTTTTTGCGATTGCCCGGTTTTTG']\n",
      "['GAAATGCTGGTGAGCGTTAATGCCGCAAACAC' 'ATTACGCCTTTTTGCGATTGCCCGGTTTTTG']\n",
      "['GCGTCCACTTCGGGATTTGTGGCAGGGAGTTC' 'ATAACCTGTTTAACCAGGCGACGGGTTTCCA']\n",
      "['CCGTAAGTGGTTTGAGCGGTGATATTTGTGCT' 'ATTACGCCTTTTTGCGATTGCCCGGTTTTTG']\n",
      "['ATAGACCCCGAACAACAATACGCGCAAACCGA' 'ATTACGCCTTTTTGCGATTGCCCGGTTTTTG']\n",
      "['GCGACCGCTCAGAAATTCCAGACCCGATCCAAA' 'ATTACGCCTTTTTGCGATTGCCCGGTTTTTG']\n",
      "['GGCACGACATTCAGCAGTGCAGATAAATCGGC' 'TTGATCGGCGAGACTCGCGGCCTGTTTTTCG']\n",
      "['GTATATCACGCCGCAAACGGGATCAGCAGCAG' 'ATTACGCCTTTTTGCGATTGCCCGGTTTTTG']\n",
      "['TGAGATCCTTTTTTTCTGCGCGTAATCTGCTG' 'ATTACGCCTTTTTGCGATTGCCCGGTTTTTG']\n",
      "['CTGTTTTCGCAAATCTATGGACTATTGCTATT' 'ATTACGCCTTTTTGCGATTGCCCGGTTTTTG']\n",
      "['AAGCTGGCTGGCAATCTCTTTCGGGGTGAGTC' 'ATTACGCCTTTTTGCGATTGCCCGGTTTTTG']\n",
      "['GAAATGCTGGTGAGCGTTAATGCCGCAAACAC' 'ATTACGCCTTTTTGCGATTGCCCGGTTTTTG']\n",
      "['ACCGAGCGCCGCTGGGAGGCGTATCTCACGTT' 'ATTACGCCTTTTTGCGATTGCCCGGTTTTTG']\n",
      "['TGTGCCCGACTGCGTGCCGCGTCGAGCGCCTG' 'ATTACGCCTTTTTGCGATTGCCCGGTTTTTG']\n",
      "['AAAATGCTGGTGAGCGTTAATGCCGCAAACAC' 'ATTACGCCTTTTTGCGATTGCCCGGTTTTTG']\n",
      "['CAATCTGGGCGACCGGTCATCATCGCTTCGATA' 'ATTACGCCTTTTTGCGATTGCCCGGTTTTTG']\n",
      "['TATTTCGCCTTCGGCACTGACGTCACCGTCAA' 'ATTACGCCTTTTTGCGATTGCCCGGTTTTTG']\n",
      "['AGCGTGTTCGGCATCACCTTTGGCTTCGGCTG' 'ATTACGCCTTTTTGCGATTGCCCGGTTTTTG']\n",
      "['TCAACATTATCAATTACAACCGACAGGGAGCC' 'ATTACGCCTTTTTGCGATTGCCCGGTTTTTG']\n",
      "['GATCAGATAAATGGCGAGACGATCCTGTTGCAC' 'ATAACCTGTTTAACCAGGCGACGGGTTTCCA']\n",
      "['CGATTCCTCGTAGCTGCCACTCGACTGAAAGC' 'CCAACAGTAATTGCAAAATCCTGTTGTTTAA']\n",
      "['GAAATGCTGGTGAGCGTTAATGCCGCAAACAC' 'ATTACGCCTTTTTGCGATTGCCCGGTTTTTG']\n",
      "['AATCGCCAGCCTCGGAAATATTCCATCCTCCG' 'ATTACGCCTTTTTGCGATTGCCCGGTTTTTG']\n",
      "['GAAATGCTGGTGAGCGTTAATGCCGCAAACAC' 'ATTACGCCTTTTTGCGATTGCCCGGTTTTTG']\n",
      "['ATGTGGTAGCTCGAACAACGGCAACA' 'ATTACGCCTTTTTGCGATTGCCCGGTTTTTG']\n",
      "['CGAGCAGTATACAGAACTCAAGAACGCGCCGT' 'ATTACGCCTTTTTGCGATTGCCCGGTTTTTG']\n",
      "['TGGCTCTGCAACAGCAGCACCCATGACCACGT' 'ATTACGCCTTTTTGCGATTGCCCGGTTTTTG']\n",
      "['GAAATGCTGGTGAGCGTTAATGCCGCAAACAC' 'ATTACGCCTTTTTGTGATTGCCCGGTTTTTG']\n",
      "['TCGGTTCAGGCGTTGCAAACCTGGCTACCGGG' 'ATTACGCCTTTTTGCGATTGCCCGGTTTTTG']\n",
      "['TCGGTTCAGGCGTTGCAAACCTGGCTACCGGA' 'ATTACGCCTTTTGCGATCGCCCGGTTTTTG']\n",
      "['CTCTACACCACCAACAGTCTGGGTTGCCACTT' 'ATTACGCCTTTTTGCGATTGCCCGGTTCTTG']\n",
      "['TCGTTACCGCCGCGGGTGGTGACAAC' 'ATTACGCCTTTTTGCGATTGCCCGGTTTTTG']\n",
      "['GCGACCGCTCAGAAATTCCAGACCCGATCCAAA' 'ATTACGCCTTTTTGCGATTGCCCGGTTTTTG']\n",
      "['GGACTTAAAGATCGCATCACAGTACTGGAGGG' 'ATTACGCCTTTTTGCGATTGCCCGGTTTTTG']\n",
      "['GAAATGCTGGTGAGCGTTAATGCCGCAAACAC' 'ATTACGCCTTTTTGCGATTGCCCGGTTTTTG']\n",
      "['CAATCTGGGCGACCGGTCATCATCGCTTCGATG' 'ATTACGCCTTTTTGCGATTGCCCGGTTTTTG']\n",
      "['TATACCGCCGTACATATTTCTCTGCCCAGTTA' 'ATTACGCCTTTTTGCGATTGCCCGGTTTTTG']\n",
      "['GGCGATACAAGCACCCGATTACCGGCAAATTT' 'ATTACGCCTTTTTGCGATTGCCCGGTTTTTG']\n",
      "['TGGCTCTGCAACAGCAGCACCCATGACCACGT' 'ATTACGCCTTTTTGCGATTGCCCGGTTTTTG']\n",
      "['GAAATGCTGGTGAGCGTTAATGCCGCAAACAC' 'ATTACGCCTTTTTGCGATTGCCCGGTTTTTG']\n",
      "['CCGTAAGTGGTTTGAGCGATGATATTTGTGCT' 'ATTACGCCTTTTTGCGATTGCCCGGTTTTTG']\n",
      "['CCGGGGGATAATGTTTACGGTCATGCGCCCCC' 'ATTACGCCTTTTTGCGATTGCCCGGTTTCTG']\n",
      "['CGGCATATCAGGAGTTGGAGCAACCAGCGAGA' 'ATTACGCCTTTTTGCGATTGCCCGGTTTTTG']\n",
      "['CACCCTGAGCGTAAAAAAAATGCTGAGGCGAT' 'ATTACGCCTTTTTGCGATTGCCCGGTTTTTG']\n",
      "['CGCCGCGGACTCACGAGCAGACCATCACAGAC' 'ATTACGCCTTTTTGCGATTGCCCGGTTTTTG']\n",
      "['ATAATGCTCATGAGCAGGCATAGGATTGACGA' 'ATTACGCCTTTTTGCGATTGCCCGGTTTTTG']\n",
      "['TTAATCAGGTCGTCGTACTCAGCGCCGCTGGC' 'ATTACGCCTTTTTGCGATTGCCCGGTTTTTG']\n",
      "['GCAGGCGGCGACGCGCAGGGTATGCGCGATTCG' 'ATTACGCCTTTTTGCGATTGCCCGGTTTTTG']\n",
      "['CACACCGTCGCCGGTGCGCGATAACACGTAAA' 'ATTACGCCTTTTTGCGATTGCCCGGTTTTTG']\n",
      "['GAAATGCTGGTGAGCGTTAATGCCGCAAACAC' 'ATTACGCCTTTTTGCGATTGCCCGGTTTTTG']\n",
      "['TCTTCGGGCGCGCGTTTTCGCAGACCAGCGAT' 'ATTACGCCTTTTTGCGATTGCCCGGTTTTTG']\n",
      "['GCGTCCACTTCGGGATTTGTGGCAGGGAGTTC' 'ATAACCTGTTTAACCAGGCGACGGGTTTCCA']\n",
      "['TGCATATCAGATGGGCACTGCTGATTGGAGAA' 'ATTACGCCTTTTTGCGATTGCCCGGTTTTTG']\n",
      "['GAAATGCTGGTGGGCGTTAATGCCGCAAACAC' 'ATTACGCCTTTTTGCGATTGCCCGGTTTTTG']\n",
      "['TCAACATTATCAATTACAACCGACAGGGAGCC' 'ATTACGCCTTTTTGCGATTGCCCGGTTTTTG']\n",
      "['CTGTTTTCGCAAATCTATGGACTATTGCTATT' 'ATTACGCCTTTTTGCGATTGCCCGGTTTTTG']\n",
      "['CAAGTGATATCCATCATCGCATCCAGTGCGCC' 'ATTACGCCTTTTTGCGATTGCCCGGTTTTTG']\n",
      "['TCAACATTATCAATTACAACCGACAGGGAGCC' 'ATTACGCCTTTTTGCGATTGCCCGGTTTTTG']\n",
      "['GCAGGCGGCGACGCGCAGGGTATGCGCGATTCG' 'ATTACGCCTTTTTGCGATTGCTTGGTTTTTG']\n",
      "['GGCGATACAAGCACCCGATTACCGGCAAATTT' 'ATTACGCCTTTTTGCGATTGCCCGGTTTTTG']\n",
      "['GGGCGCACGGAATACAAAGCCGTGTATCTGCT' 'ATTACGCCTTTTTGCGATTGCCCGGTTTTTG']\n",
      "['AAGCTGGCTGGCAATCCCTTTCGGGGTGAGTC' 'TTTTACAGTGTCAACAATCGTTCCCTGATTG']\n",
      "['AGCGTGTTCGGCATCACCTTTGGCTTCGGCTG' 'ATTACGCCTTTTTGCGATTGCCCGGTTTTTG']\n",
      "['TCGGTTCAGGCGTTGCAAACCTGGCTACCGGG' 'ATTACGCCTTTTTGCGATTGCCCGGTCTTTG']\n",
      "['GGGCGCACGGAATACAAAGCCGTGTATCTGCT' 'ATTACGCCTTTTTGCGATTGCCCGGTTTTTG']\n",
      "['AATCGAGGTCGGGCAGAACATCGCGTAGACCTGCACCTCGGGCAGCAGCTCCTGAACG'\n",
      " 'GCGGATCCACAGCTTGCCCTTGCGCTTCATTTC']\n",
      "['TAGTTTCCGTATCTCCGGATTTATAAAGCTGA' 'ATTACGCCTTTTTGCGATTGCCCGGTTTTTG']\n",
      "['AGCTGGGCGAAATTTTGATTCATCGTGATGAC' 'ATTACGCCTTTTTGCGATTGCCCGGTTTTTG']\n",
      "['GGGCGCACGGAATACAAAGCCGTGTATCTGCT' 'ATTACGCCTTTTTGCGATTGCCCGGTTTTTG']\n",
      "['AAAATGCTGGTGAGCGTTAATGCCGCAAACAC' 'ATTACGCCTTTTTGCGATTGCCCGGTTTTTG']\n",
      "['TCTTGCCGTGATGTGAAAGCTGAATTATCCCG' 'ATTACGCCTTTTTGCGATTGCCCGGTTTTTG']\n",
      "['GAAACGCTGGTGAGCGTTAATGCCGCAAACAC' 'ATTACGCCTTTTTGCGATTGCCCGGTTTTTG']\n",
      "['TCCCCGGTATCAGAAATAATTCCCTGCGCAAT' 'ATTACGCCTTTTTGCGATTGCCCGGTTTTTG']\n",
      "['TGGCTCTGCAACAGCAGCACCCATGACCACGT' 'ATTACGCCTTTTTGCGATTGCCCGGTTTTTG']\n",
      "['GAAATGCTGGTGAGCGTTAATGCCGCAAACAC' 'ATTACGCCTTTTTGCGATTGCCCGGTTTTTG']\n",
      "['GAAATGCTGGTGAGCGTTAATGCCGCAAACAC' 'ATTACGCCCCTATCAAATAGCTGTGATTTACCT']\n",
      "['GAAATGCTGGTGAGCGTTAATGCCGCAAACAC' 'ATTACGCCTTTTTGCGATTGCCCGGTTTTTG']\n",
      "['GTAGTCCATCATTCCACCTATGTCTGAACTCC' 'ATTACGCCTTTTTGCGATTGCCCGGTTTTTG']\n",
      "['ACCGAGCGCCGCTGGGAGGCGTATCTCACGTT' 'ATTACGCCTTTTTGCGATTGCCCGGTTTTTG']\n",
      "['TGAAGGTGCTGAAGAATATCGGATTCAGAACG' 'ATTACGCCTTTTTGCGATTGCCCGGTCTTTG']\n",
      "['AAGCTGGCTGGCAATCTCTTTCGGGGTGAGTC' 'ATTACGCCTTTTTGCGATTGCCCGGTTTTTG']\n",
      "['CGATTCCTCGTAGCTGCCACTCGACTGAAAGC' 'GCGGATCCACAGCTTGCCCTTGCGCTTCATTTC']\n",
      "['TGGCTCTGCAACAGCAGCACCCATGACCACGT' 'ATTACGCCTTTTTGCGATTGCCCGGTTTTTG']\n",
      "['GTCACCAACATTTTCGCCGTTCAGGCCCGCAG' 'ATTACGCCTTTTTGCGATTGCCCGGTTTTTG']\n",
      "['GATCAGATAAATGGCGAGACGATCCTGTTGCAC' 'ATTACGCCTTTTTGCGATTGCCCGGTTTTTG']\n",
      "['GAAATGCTGGTGAGCGTTAATGCCGCAAACAT' 'ATTACGCCTTTTTGCGATTGCCCGGTTTTTG']\n",
      "['GGCGATACAAGCACCCGATTACCGGCAAATTT' 'ATTACGCCTTTTTGCGATTGCCCGGTTTTTG']\n",
      "['GCGTCCACTTCGGGATTCGTGGCAGGGAGTTC' 'ATAACCTGTTTAACCAGGCGACGGGTTTCCA']\n",
      "['GGGCGCACGGAATACAAAGCCGTGTATCTGCT' 'ATTACGCCTTTTTGCGATTGCCCGGTTTTTG']\n",
      "['GAGAGTGCTGACAGGTGTCTCGATTACCTGAT' 'ATTACGCCTTTTTGCGATTGCCCGGTTTTTG']\n",
      "['ACCGAGCGCCGCTGGGAGGCGTATCTCACGTT' 'ATTACGCCTTTTTGCGATTGCCCGGTTTTTG']\n",
      "['GAAATGCTGGTGAGCGTTAATGCCGCAAACAC' 'ATTACGCCTTTTTGCGATTGCCCGGTTTTTG']\n",
      "['GAAATGCTGGTGAGCGTTAATGCCGCAAACAC' 'ATTACGCCTTTTGCGATTGCCCGGTTTTTG']\n",
      "['GTCACCAACATTTTCGCCGTTCAGGCCCGCAG' 'ATTACGCCTTTTTGCGATTGCCCGGTTTTTG']\n",
      "['TAGTTTCCGTATCTCCGGATTTATAAAGCTGA' 'ATTACGCCTTTTTGCGATTGCCCGGTTTTTG']\n",
      "['GTCACCAACATTTTCGCCGTTCAGGCCCGCAG' 'ATTACGCCTTTTTGCGATTGCCCGGTTTTTG']\n",
      "['CTGTTTTCGCAAATCTATGGACTATTGCTATT' 'ATTACGCCTTTTTGCGATTGCCCGGTTTTTG']\n",
      "['CAGGTTCGTAAAGGTGAACACGGCACGACGGC' 'ATTACGCCTTTTTGCGATTGCCCGGTTTTTG']\n",
      "['TAGTTTCCGTATCTCCGGATTTATAAAGCTGA' 'ATTACGCCTTTTTGCGATTGCCCGGTTTTTG']\n",
      "['GAAATGCTGGTGAGCGTTAATGCCGCAAACAC' 'ATTACGCCTTTTTGCGATTGCCCGGTTTTTG']\n",
      "['GAAATGCTGGTGAGCGTTAAAGCCGCAAACAC' 'ATTACGCCTTTTGCGATTGCCCGGTTTTTG']\n",
      "['GAAATGCTGGTGAGCGTTAATGCCGCAAACAC' 'ATTACGCCTTTTTGCGATTGCCCGGTTTTTG']\n",
      "['CTGTTTTCGCAAATCTATGGACTATTGCTATT' 'ATTACGCCTTTTTGCGATTGCCCGGTTTTTG']\n",
      "['TGGCTCTGCAACAGCAGCACCCATGACCACGT' 'ATTACGCCTTTTTGCGATTGCCCGGTTTTTG']\n",
      "['GGACTTAAAGATCGCATCACAGTACTGGAGGG' 'ATTACGCCTTTTTGCGATTGCCCGGTTTTTG']\n",
      "['GGGCGCACGGAATGCAAAGCCGTGTATCTGCT' 'ATTACGCCTTTTTGCGATTGCCCGGTTTTTG']\n",
      "['CAGAACATACTTCAAAGCCCGAGGCGTACACG' 'ATTACGCCTTTTTGCGATTGCCCGGTTTTTG']\n",
      "['CGAGCAGTGTACAGAACTCAAGAACGCGCCGT' 'ATTACGCCTTTTTGCGATTGCCCGGTTTTTG']\n",
      "['GATATGCTGGTGAGCGTTAATGCCGCAAACAC' 'ATTACGCCTTTTTGCGATTGCCCGGTTTTTG']\n",
      "['CATAAAGAAACTATTTTGCGTTTCGTTCAGGT' 'ATTACGCCTCTTTGCGATTGCCCGGTTTTTG']\n",
      "['TTGTAGGTAAGGCCCGCCGCGGCGGCGAGTTC' 'ATTACGCCTTTTTGCGATTGCCCGGTTTTTG']\n",
      "['TCGGTTCAGGCGTTGCAAACCTGGCTACCGGG' 'ATTACGCCTTTTTGCGATTGCCCGGTTTTTG']\n",
      "['CCGACAATCTCCGCCTCCAGTCGGTCGACCTG' 'ATTACGCCTTTTTGCGATTGCCCGGTTTTTG']\n",
      "['CAAGTGATGTCCATCATCGCATCCAGTGCGTC' 'ATTACGCCTTTTTGCGATTGCCCGGTTTTTG']\n",
      "['GAAATGCTGGTGAGCGTTAATGCCGCAAACAC' 'ATTACGCCTTTTTGCGATTGCCCGGTTTTTG']\n",
      "['CCAACATTATCAATTACAACCGACAGGGAGCT' 'ATTACGCCTTTTTGCGATTGCCCGGTTTTTG']\n",
      "['CCGTAAGTGGTTTGAGCGATGATATTTGTGCT' 'ATTACGCCTTTTTGCGATTGCCCGGTTTTTG']\n",
      "['TTTGGTATCTGCGCTCTGCTGAAGCCAGTTAC' 'ATTACGCCTTTTTGCGATTGCCCGGTTTTTG']\n",
      "['TCGGTTCAGGCGTTGCAAACCTGGCTACCGGG' 'ATTACGCCTTTTTGCGATTGCCCGGTTTTTG']\n",
      "['GGCAGCGAGCGAAGCTAAAGACCACGCTATTA' 'ATTACGCCTTTTTGCGATTGCCCGGTTTTTG']\n",
      "['ATCGACCATTTTCACGTCGAATTGGTACTTGCGGTCGT' 'ATTACGCCTTTTTGCGATTGCCCGGTTTTTG']\n",
      "['GGCAGCGAGCGAAGCTAAAGACCACGCTATTA' 'ATTACGCCTTTTTGCGATTGCCCGGTTTTTG']\n",
      "['TCAACATTATCAATTACAACCGACAGGGAGCC' 'ATTACGCCTTTTTGCGATTGCCCGGTTTTTG']\n",
      "['GAAATGCTGGTGAGCGTTAATGCCGCAAACAC' 'ATTACGCCTTTTTGCGATTGCCCGGTTTTTG']\n",
      "['GAAATGCTGGTGAGCGTTAATGCCGCAAACAC' 'ATTACGCCTTTTTGCGATTGCCCGGTTTTTG']\n",
      "['CAGGCGGCGACGCGCAGGGTATGCGCGATTCG' 'ATTACGCCTTTTTGCGATTGCCCGGTTTTTG']\n",
      "['CAAGTGATATCCATCATCGCATCCAGTGCGCC' 'ATAACCTGTTTAACCAGGCGACGGGTTTCCA']\n",
      "['AACTGGATTCTGCTCTAATTATTACATCATCG' 'ATTACGCCTTTTTGCGATTGCCCGGTTTTTG']\n",
      "['GAAATGCTGGTGAGCGTTAATGCCGCAAACAC' 'ATTACGCCTTTTTGCGATTGCCCGGTTTTTG']\n",
      "['GAAATGCTGGTGAGCGTTAATGCCGCAAACAC' 'TTTTACAGTGTCAACAATCGTTCCCTGATTG']\n",
      "['AAGCTGGCTGGCAATCTCTTTCGGGGTGAGTC' 'ATTACGCCTTTTTGCGATTGCCCGGTTTTTG']\n",
      "['GTAGTCCATCATTCCACCTATGTCTGAACTCC' 'ATTACGCCTTTTTGCGATTGCCCGGTTTTTG']\n",
      "['ACCCTCACTCAAAGCTGCTGCTGCGGCCTCTG' 'ATTACGCCTTTTTGCGATTGCCCGGTTTTTG']\n",
      "['TAGTTTCCGTATCTCCGGATTTATAAAGCTGA' 'ATTACGCCTTTTTGCGATTGCCCGGTTTTTG']\n",
      "['GAAATGCTGGTGAGCGTTAATGCCGCAAACAC' 'ATTACGCCTTTTTGCGATTGCCCGGTTTTTG']\n",
      "['GAAATGCTGGTGAGCGTTAATGCCGCAAACAC' 'ATTACGCCTTTTTGCGATTGCCCGGTTTTTG']\n",
      "['TGCGTGAGCGTATCGCCGCGCGTCTGCGAAAG' 'ATTACGCCTTTTTGCGATTGCCCGGTTTTTG']\n",
      "['GGACCAAATACCCGTCCCTCAATCCACGCCGA' 'ATTACGCCTTTTTGCGATTGCCCGGTTTTTG']\n",
      "['GAAATGCTGGTGAGCGTTAATGCCGCAAACAC' 'ATTACGCCTTTTTGCGATTGCCCGGTTTTTG']\n",
      "['GAAATGCTGGTGAGCGTTAATGCCGCAAACAC' 'ATTACGCCTTTTTGCGATTGCCCGGTTTTTG']\n",
      "['CCGGGGGATAATGTTTACGGTCATGCGCCCCC' 'ATTACGCCTTTTTGCGATTGCCCGGTTTTTG']\n",
      "['GAAATGCTGGTGAGCGTTAATGCCGCAAACAC' 'ATTACGCCTTTTTGCGATTGCCCGGTTTTTG']\n",
      "['GGCGCATCTAAAAGCGCAACGGCTGGCCTAGA' 'ATTACGCCTTTTTGCGATTGCCCGGTTTTTG']\n",
      "['GAAATGCTGGTGAGCGTTAATGCCGCAAACAC' 'ATTACGCCTTTTCGCGATTGCCCGGTTTTTG']\n",
      "['GAAATGCTGGTGAGCGTTAATGCCGCAAACAC' 'ATTACGCCTTTTTGCGATTGCCCGGTTTTTG']\n",
      "['GGGCGCACGGAATACAAAGCCGTGTATCTGCT' 'ATTACGCCTTTTTGCGATTGCCCGGTTTTTG']\n",
      "['GAAATGCTGGTGAGCGTTAATGCCGCAAACAC' 'ATTACGCCTTTTTGCGATTGCCCGGTTTTTG']\n",
      "['CAGGTTCGTAAAGGTGAACACGGCACGACGGC' 'CTGAAACCAGTTGGCTCGTTGTTCTTCTTTG']\n",
      "['GAAATGCTGGTGAGCGTTAATGCCGCAAACAC' 'GTTACGCTGCCTGAATATCGCAATTCCCCTG']\n",
      "['GCAAGCTTTCCCTATAGTGAGTCGTATTAGAG' 'TTGATCGGCGAGACTCGCGGCCTGTTCTTCG']\n",
      "['CAGTAATTGCACCCTCAGCATCATTAACCATG' 'ATTACGCCTTTTTGCGATTGCCCGGTTTTCG']\n",
      "['TGAGACGCTCCCGGATGAGGTTATACTGTACG' 'ATTACGCCTTTTTGCGATTGCCCGGTTTTTG']\n",
      "['GGGCGCACGGAATACAAAGCCGTGTATCTGCT' 'ATTACGCCTTTTTGCAATTGCCCGGTTTTTG']\n",
      "['GGTGAACCCCATCACCAAGAACATGAAGCCGT' 'ATTACGCCTTTTTCCGATTGCCCGGTTTTTG']\n",
      "['AGTGCTGGACCATTTCAAATTCACAATAGATT' 'ATTACGCCTTTTTGCGATTGCCCGGTTTTTG']\n",
      "['CCAGTACACCCGACGTTGTACGCGGCGTCGGT' 'ATTACGCCTTTTTGCGATTGCCCGGTTTTTG']\n",
      "['CCGTAAGTGGTTTGAGCGATGATATTTGTGCT' 'ATTACGCCTTTTTGCGATTGCCCGGTTTTTG']\n",
      "['GAAATGCTGGTGAGCGTTAACGCCGCAAACAC' 'ATTACGCCTTTTTGCGATTGCCCGGTTTTTG']\n",
      "['GAAATGCTGGTGAGCGTTAATGCCGCAAACAC' 'ACTACGCCTTTTTGCGATTGCCCGGTTTTTG']\n",
      "['CTGTTTTCGCAAATCTATGGACTATTGCTATT' 'ATTACGCCTTTTTGCGATTGCCCGGTTTTTG']\n",
      "['GAAATGCTGGTGAGCGTTAATGCCGCAAACAC' 'ATTACGCCTTTTTGCGATTGCCCGGTTTTTG']\n",
      "['AAGACGACGTGATCCGCAAAGTCGAAGGCACG' 'ATTACGCCTTTTTGCGATTGCCCGGTTTTTG']\n",
      "['TCAACATTATCAATTACAACCGACAGGGAGCC' 'ATTACGCCTTTTTGCGATTGCCCGGTTTTTG']\n",
      "['AAGCTGGCTGGCAATCTCTTTCGGGGTGAGTC' 'ATTACGCCTTTTTGCGATTGCCCGGTTTTTG']\n",
      "['GGGCGCACGGAATACAAAGCCGTGTATCTGCT' 'ATTACGCCTTTTTGCGATTGCCCGGTTTTTG']\n",
      "['GATTGATACCTCGACGGGCTGGCCGTTCTTCA' 'ATTACGCCTTTTTGCGATTGCCCGGTTTTTG']\n",
      "['GGGCGCACGGAATACAAAGCCGTGTATCTGCT' 'ATTACGCCTTTTTGCGATTGCCCGGTTTTTG']\n",
      "['TCAACATTATCAATTACAACCGACAGGGAGCC' 'ATTACGCCTTTTTGCGATTGCCCGGTTTTTG']\n",
      "['CAGAACATACTTCAAGGCCCGAGGCGTACACG' 'ATTACGCCTTTTTGCGATTGCCCGGTTTTTG']\n",
      "['GAAATGCTGGTGAGCGTTAATGCCGCAAACAC' 'ATTACGCCTTTTCGCGATTGCCCGGTTTTTG']\n",
      "['TCCGTCCACCCTGATAGCCGCCCTTGTGATCC' 'ATAACCTGTTTAACCAGGCGACGGGTTTCCA']\n",
      "['GTTACGCTGCCTGAATATCGCAATTCCCCTGA' 'ATTACGCCTTTTTGCGATTGCCCGGTTTTTG']\n",
      "['GCGTCCACTTCGGGATTTGTGGCAGGGAGTTC' 'CGTATTCGTCACACAGCCCCGTCCAGAAATG']\n",
      "['TGGCTCTGCAACAGCAGCACCCATGACCACGT' 'ATTACGCCTTTTTGCGATTGCCCGGTTTTTG']\n",
      "['GTAGTCCATCATTCCACCTATGTCTGAACTCC' 'ATTACGCCTTTTTGCGATTGCCCGGTTTTTG']\n",
      "['GAAATGCTGGTGAGCATTAATGCCGCAAACAC' 'ATTACGCCTTTTTGCGATTGCCCGGTTTTTG']\n",
      "['GAAATGCTGGTGAGCGTTAATGCCGCAAACAC' 'ATTACGCCTTTTTGCGATTGCCCGGTTTTTG']\n",
      "['TGGCCTGACTTTTAGACAGAATATCCGTGTACC' 'ATTACGCCTTTTTGCGATTGCCCGGTTTTTG']\n",
      "['GTCGGCAGAGAATCGTTCGATTGCCCCTACAT' 'ATTACGCCTTTTTGCGATTGCCCGGTTTTTG']\n",
      "['CATGGCCTGCTCCGCCGGCACCGCCAGGGTGGCCACCTTCT'\n",
      " 'ATTACGCCTTTTTGCGATTGCCCGGTTTTTG']\n",
      "['GAAATGCTGGTGAGCGTTAATGCCGCAAACAC' 'ACTGCGAGCGGTGGCGATTACTACTATCAGG']\n",
      "['GAAATGCTGGTGAGCGTTAATGCCGCAAACAC' 'ATTACGCCTTTTTGCGATTGCCCGGTTTTTG']\n",
      "['GAAATGCTGGTGAGCGTTAATGCCGCAAACAC' 'ATTACGCCTTTTTGCGATTGCCCGGTTTTTG']\n",
      "['ACACGCCCTTATCAAATAGCTGTGATTTACCTA' 'ATTACGCCTTTTTGCGATTGCCCGGTTTTTG']\n",
      "['CAATCTGGGCGACCGGTCATCATCGCTTCGATG' 'ATTACGCCTTTTTGCGATTGCCCGGTTTTTG']\n",
      "['GAAATGCTGGTGAGCGTTAATGCCGCAAACAC' 'ATTACGCCTTTTTGCGATTGCCCGGTTTTTG']\n",
      "['AAGTGGCAACCCAGACTGTTGGTGGTGTAGAG' 'ATTACGCCTTTTTGCAATTGCCCGGTTTTTG']\n",
      "['TGTGCCCGACTGCGTGCCGCGTCGAGCGCCTG' 'ATTACGCCTTTTTGCGATTGCCCGGTTTTTG']\n",
      "['AACGTCAGGTTGTCGCCGCTCTGCGTGGTCGC' 'ATTACGCCTTTTTGCGATTGCCCGGTTTTTG']\n",
      "['GAAATGCTGGTGAGCGTTAATGCCGCAAACAC' 'ATTACGCCTTTTTGCGATTGCCCGGTTTTTG']\n",
      "['GAGGGTCTGGAAGCACTACCAGAAGCGGAGCA' 'ATTACGCCTTTTTGCGATTGCCCGGTTTTTG']\n",
      "['ATTACGCCTTCGGTACTGACGTCACCGTCAA' 'ATTACGCCTTTTTGCGATTGCCCGGTTTTTG']\n",
      "['GAAATGCTGGTGAGCGTTAATGCCGCAAACAC' 'ATTACGCCTTTTTGCGATTGCCCGGTTTTTG']\n",
      "['TAAGCCGTGACGCGGGTCGCCGCTGGCGTCAA' 'ATTACGCCTTTTTGCGATTGCCCGGCTTTTG']\n",
      "['CGAGCAGTATACAGAACTCAAGAACGCGCCGT' 'ATTACGCCTTTTTGCGATTGCCCGGTTTTTG']\n",
      "['GAAACTCTCTGAGAATCCGTCAGCAAAAATAC' 'ATTACGCCTTTTTGCGATTGCCCGGTTTTTG']\n",
      "['TTAATCAGGTCGTCGTACTCAGCGCCGCTGGC' 'ATTACGCCTTTTTGCGATTGCCCGGTTTTTG']\n",
      "['TCGGTTCAGGCGTTGCAAACCTGGCTACCGGG' 'GTTATCACCGAGTGCAGTAGCCCGCGCGCGC']\n",
      "['GAAATGCTGGTGAGCGTTAATGCTGCAAACAC' 'ATTACGCCTTTTTGCGATTGCCCGGTTTTTG']\n",
      "['CAGGGTTGCGCGATGCCGTGAAGGCAACAGAG' 'ATTACGCCTTTTTGCGATTGCCCGGTTTTTG']\n",
      "['GCGTCGCCATTCTATTAGCTTTTCCTCATCAC' 'ATTACGCCTTTTTGCGATTGCCCGGTTTTTG']\n",
      "['CGAGCAGTATACAGAACTCAAGAACGCGCCGT' 'ATTACGCCTTTTTGCAATTGCCCGGTTTTTG']\n",
      "['CCCCCATAGTCCGGCGTAGCCTCTGTGTCTTT' 'ATTACGCCTTTTTGCGATTGCCCGGTTTTTG']\n",
      "['GTCACCAACATTTTCGCCGTTCAGGCCCGCAG' 'ATTACGCCTTTTTGCGATTGCCCGGTTTTTG']\n",
      "['GAAATGCTGGTGAGCGTTAATGCCGCAAACAC' 'ATTACGCCTTTTTGCGATTGCCCGGTTTTTG']\n",
      "['ACCGAGCGCCGCTGGGAGGCGTATCTCACGTT' 'ATTACGCCTTTTCGCGATTGCCCGGTTTTTG']\n",
      "['GACGCGAAGCTGATCTATCAGGGGGATATTGT' 'ATTACGCCTTTTTGCGATTGCCCGGTTTTTG']\n",
      "['AAAATGCTGGTGGGCGTTAATGCCGCAAACAC' 'ATTACGCCTTTTTGCGATTGCCCGGTTTTTG']\n",
      "['GAAATGCTGGTGAGCGTTAATGCCGCAAACAC' 'ATTACGCCTTTTTTCGATTGCCCGGTTTTTG']\n",
      "['TTCAAACTGCTTGCGGTAAGAAACTGTTGCAC' 'ATTACGCCTTTTTGCGATTGCCCGGTTTTTG']\n",
      "['GAAATGCTGGTGAGCGTTAATGCCGCAAACAC' 'ATTACGCCTTTTTGCGATTGCCCGGTTTTTG']\n",
      "['GCGACCGCTCAGAAATTCCAGACCCGATCCAAA' 'ATTACGCCTTTTTGCGATTGCCCGGTTTTTG']\n",
      "['GAAATGCTGGTGAGCGTTAATGCCGCAAACAC' 'ATTACGCCTTTTTGCGATTGCCCGGTTTTTG']\n",
      "['GAAATGCTGGTGAGCGTTAATGCCGCAAACAC' 'ATTACGCCTTTTTGCGATTGCCCGGTTTTTG']\n",
      "['GAAATGCTGGTGAGCGTTAATGCCGCAAACAC' 'ATTACGCCTTCTTGCGATTGCCCGGTTTTTG']\n",
      "['GAAATGCTGGTGAGCGTTAATGCCGCAAACAC' 'ATTACGCCTTTTTGCGATTGCCCGGTTTTTG']\n",
      "['AAGCTGGCTGGCAATCTCTTTCGGGGTGAGTC' 'ATTACGCCTTTTTGCGATTGCCCGGTTTTTG']\n",
      "['ATATATCAGAGCAAAAAACAAAGCCACAGCCA' 'ATTACGCCTTTTTGCGATTGCCCGGTTTTTG']\n",
      "['ACGGATTGCGGTATATGCAGTGTCCAGATTCT' 'ATTACGCCTTTCTGCGATTGCCAGGTTTTTG']\n",
      "['TTCGATGTAACCCACTCGTGCACCCAACTGAT' 'ATTACGCCTTTTTGCGATTGCCCGGTTTTTG']\n",
      "['ACCGAGCGCCGCTGGGAGGCGTATCTCACGTT' 'ATTACGCCTTTTTGCGATTGCCCGGTTTTTG']\n",
      "['CTCTACACCACCAACAGCCTGGGTTGCCACTT' 'ATTACGCCTTTTTGCAATTGCCCGGTTTTTG']\n",
      "['ATGAAAACGCCCGGCGTAAATTTTCGCCTCGA' 'CTAACCTGTTTAACCAGGCGACGGGTTTCCA']\n",
      "['GTAGTCCATCATTCCACCTATGTCTGAACTCC' 'ATTACGCCTTTTTGCGATTGCCCGGTTTTTG']\n",
      "['TCGGTTCAGGCGTTGCAAACCTGGCTACCGGG' 'ATTACGCCTTTTTGCGATTGCCCGGTTTTTG']\n",
      "['TCCGTCCACCCTGATAGCCGCCCTTGTGATCC' 'ATTACGCCTTTTTGCGATTGCCCGGTTTTTG']\n",
      "['TCGGTTCAGGCGTTGCAAACCTGGCCACCGGG' 'ATTACGCCTTTTTGCGATTGCCCGGTTTTTG']\n",
      "['GAAATGCTGGTGAGCGTTAATGCCGCAAACAC' 'ATTACGCCTTTTTGCGATTGCCCGGTTTTTG']\n",
      "['GAAATGCTGGTGAGCGTTAATGCCGCAAACAC' 'ATTACGCCTTTTTGCGATTGCCCGGTTTTTG']\n",
      "['GGGCGCACGGAATACAAAGCCGTGTATCTGCT' 'ATTACGCCTTTTTGCGATTGCCCGGTTTTTG']\n",
      "['GGAATATCGTTGCGCTAAAAGAGATTCTGGGC' 'ATTACGCCTTTTTGCGATTGCCCGGTTTTTG']\n",
      "['CCGGGGGATAATGTTTACGGTCATGCGCCCCC' 'ACTACGCCTTTTTGCGATTGCCCGGTTTTTG']\n",
      "['GCATAAATTAGTCAAACAGACACTGCCGGGGT' 'ATTACGCCTTTTTGCGATTGCCCGGTTTTCG']\n",
      "['GGTCAACTGCTCACGTTTCTCAATCTCACTAC' 'ATTACGCCTTTTTGCGATTGCCCGGTTTTTG']\n",
      "['GGTGCTGGACCATTTCAAATTCACAATAGATT' 'ATTACGCCTTTTTGCGATTGCCCGGTTTTTG']\n",
      "['AAGCTGGCTGGCAATCTCTTTCGGGGTGAGTC' 'ATTACGCCTTTTTGCGATTGCCCGGTTTTTG']\n",
      "['GTCACCAACATTTTCGCCGTTCAGGCCCGCAG' 'ATTACGCCTTTTTGCGATTGCCCGGTTTTTG']\n",
      "['TGTGCCCGACTGCGTGCCGCGTCGAGCGCCTG' 'ATTACGTCTTTTTGCGATTGCCCGGTTTTTG']\n",
      "['GGGCGCACGGAATACAAAGCCGTGTATCTGCT' 'ATTACGCCTTTTTGCGATTGCCCGGTTTTTG']\n",
      "['CGGCAGTTCGCGCCGCGGACTCACGAGCAGGC' 'ATTACGCCTTTTTGCGATTGCCCGGTTTTTG']\n",
      "['GTCACCAACATTTTCGCCGTTCAGGCCCGCAG' 'ATTACGCCTTTTTGCGATTGCCCGGTTTTTG']\n",
      "['GAAATGCTGGTGAGCGTTAATGCCGCAAACAC' 'ATTACGCCTTCTTGCGATTGCCCGGTTTTTG']\n",
      "['CTGTTTTCGCAAATCTATGGACTATTGCTATT' 'ATTACGCCTTTTTGCGATTGCCCGGTTTTTG']\n",
      "['GAAATGCTGGTGAGCGTTAATGCCGCAAACAC' 'ATTACGCCTTTTTGCGATTGCCCGGTTTTTG']\n",
      "['CAATCTGGGCGACCGGTCATCATCGCTTCGATG' 'ATTACGCCTTTTTGCGATTGCCCGGTTTTTG']\n",
      "['CACACCGTCGCCGGTGCGCGATAACACGTAAA' 'GCGGATCCACAGCTTGCCCTTGCGCTTCATTTC']\n",
      "['TTGCTGAAAAAGAAGGCTCCGGCGTTATCAGT' 'ATTACGCCTTTTTGCGATTGCCCGGTTTTTG']\n",
      "['TCAATGCCATAATCAGAAGCGGCCAGAATTGC' 'ATTACGCCTTTTTGCGATTGCCCGGTTTTTG']\n",
      "['CTGTTTTCGCAAATCTATGGACTATTGCTATT' 'ATTACGCCTTTTTGCGATTGCCCGGTTTTTG']\n",
      "['CAAGTGATATCCATCATCGCATCCAGTGCGCC' 'ATTACGCCTTTTTGCGATTGCCCGGTTTTTG']\n",
      "['AAGCTGGCTGGCAATCTCTTTCGGGGTGAGTC' 'ATTACGCCTTTTTGCGATTGCCCGGTTTTTG']\n",
      "['TGTTTCTGTCCCAACTGAACAGCGCCGATAGT' 'ATTACGCCTTTTTGCGATTGCCCGGTTTTTG']\n",
      "['CAGAACATACTTCAAAGCCCGAGGCGTACACG' 'ATTACGCCTTTTTGCGATTGCCCGGTTTTTG']\n",
      "['GGAATATCGTTGCGCTAAAAGAGATTCTGGGC' 'TTGATCGGCGAGACTCGCGGCCTGTTTTTCG']\n",
      "['CCGTAAGTGGTTTGAGCGATGATATTTGTGCT' 'ATTACGCCTTTTTGCGATTGCCCGGTTTTTG']\n",
      "['CACACCGTCGCCGGTGCGCGATAACACGTAAA' 'ATTACGCCTTTTTGCGATTGCCCGGTTTTTG']\n",
      "['CGATGAATAAAGCCAAGAGTAAAGCGCATGAA' 'ATTACGCCTTTTTGCGATTGCCCGGTTTTTG']\n",
      "['CTTTCGCGGATAATCTGGCCGGGTGCCAGAAT' 'ATTACGCCTTTTTGCGATTGCCCGGTTTTTG']\n",
      "['GCTGGTTTTGAATCGTCCCGCGCTCGAGACGC' 'ATTACGCCTTTTTGCGATTGCCCGGTTTTTG']\n",
      "['ACGCGCGTACCGGATCGCGGACAACAAATTGC' 'ATTACGCCTTTTTGCGATTGCCCGGTTTTTG']\n",
      "['GAAATGCTGGTGAGCGTTAATGCCGCAAACAC' 'ATTACGCCTTTTTGCGATTGCCCGGTTTTTG']\n",
      "['TAGATTGATACTAGTATGCCAGTCATTATGTA' 'ATTACGCCTTTTTGCGATTGCCCGGTTTTTG']\n",
      "['CAGGTTCGTAAAGGTGAACACGGCACGACGGC' 'ATTACGCCTTTTTGCGATTGTCCGGTTTTTG']\n",
      "['CAGAACATACTTCAAAGCCCGAGGCGTACACG' 'ATTACGCCTTTTTGCGATTGCCCGGTTTTTG']\n",
      "['CGGGGGGATAATGTTTACGGTCATGCGCCCCC' 'ATTACGCCTTTTTGCGATTGCCCGGTTTTTG']\n",
      "['GGGCGCACGGAATACAAAGCCGTGTATCTGCT' 'ATTACGCCTTTTTGCGATTGCCCGGTTTTTG']\n",
      "['GCAGGCGGCGACGCGCAGGGTATGCGCGATTCG' 'ATTACGCCTTTTTGCGATTGCCCGGTTTTTG']\n",
      "['CTGTTTTCGCAAATCTGTGGACTATTGCTATT' 'ATTACGCCTTTTTGCGATTGCCCGGTTTTTG']\n",
      "['TAGTTTCCGTATCTCCGGATTTATAAAGCTGA' 'ATTACGCCTTTTTGCAATTGCCCGGTTTTTG']\n",
      "['AAAACCAAACTTCTCCATAAATTCCATAGCCG' 'ATTACGCCTTTTTGCGATTGCCCGGTTTTTG']\n",
      "['CTCGGTCGCCGCATACACTATTCTCAGAATGA' 'ATTACGCCTTTTTGCGATTGCCCGGTTTTTG']\n",
      "['AGTGGCAGGCCGGTAATATGAAAACGACAGAG' 'ATTACGCCTTTTTGCGATTGCCCGGTTTTTG']\n",
      "['GTCACCAACATTTTCGCCGTTCAGGCCCGCAG' 'ATTACGCCTTTTTGCGATTGCCCGGTTTTTG']\n",
      "['GAAATGCTGGTGAGCGTTAATGCCGCAAACAC' 'ATTACGCCTTTTTGCGATTGCCCGGTTTTTG']\n",
      "['GAAATGCTGGTGAGCGTTAATGCCGCAAACAC' 'ATTACGCCTTTTTGCGATTGCCCGGTTTTTG']\n",
      "['AAGCTGGCTGGCAATCTCTTTCGGGGTGAGTC' 'ATTACGCCTTTTTGCGATTGCCCGGTTTTTG']\n",
      "['GAACCTTCAATCTCCAAATGGGCAGACGGGTT' 'ATTACGCCTTTTTGCGATTGCCCGGTTTTTG']\n",
      "['CGTTTTTGCCGGGTTTATTTTAAAACCGGAGC' 'ATTACGCCTTTTTGCGATTGCCCGGTTTTTG']\n",
      "['GAAATGCTGGTGAGCGTTAATGCCGCAAACAC' 'ATTACGCCTTTTTGCGATTGCCCGGTTTTTG']\n",
      "['CCAGAGCATAGCGTTATTGGTTCTTCCAAGTA' 'ATTACGCCTTTTTGCGATTGCCCGGTTTTTG']\n",
      "['GAAATGCTGGTGAGCGTTAATGCCGCAAACAC' 'ACTACGCCTTCTTGCGATTGCCCGGTTTTTG']\n",
      "['GAAATGCTGGTGAGCGTTAATGCCGCAAATAC' 'ATTACGCCTTTTTGCGATTGCCCGGTTTTTG']\n",
      "['GGACTTAAAGATCGCATCACAGTACTGGAGGA' 'GGAAACCGCCCCGGCGGTGGTTAGCTGTTTG']\n",
      "['ATTGCTGGACCATTTCAAATTCACAATAGATT' 'ATTACGCCTTTTTGCGATTGCCCGGTTTTTG']\n",
      "['GGGCGCACGGAATACAAAGCCGTGTATCTGCT' 'ATTACGCCTTTTTGCGATTGCCCGGTTTTTG']\n",
      "['TGGAACAACACTCAACCCTATCTCGGTCTATT' 'ATTACGCCTTTTTGCGATTGCCCGGTTTTTG']\n",
      "['CTGTTTTCGCAAATCTATGGACTATTGCTATT' 'ATTACGCCTTTTTGCGATTGCCCGGTTTTTG']\n",
      "['CAATCTGGGCGACCGTTCATCATCGCTTCGATG' 'ATTACGCCTTTTTGCGATTGCCCGGTTTTTG']\n",
      "['CAGAACATACTTCAAAGCCCGAGGCGTACACG' 'GTTACGCTGCCTGAATATCGCAATTCCCCTG']\n",
      "['TGGCTCTGCAACAGCAGCACCCATGACCACGT' 'ATTACGCCTTTTTGCGATTGCCCGGTTTTTG']\n",
      "['GAAGTGCTGGTGAGCGTTAATGCCGCAAACAC' 'ATTACGCCTTTTTGCGATTGCCCGGTTTTTG']\n",
      "['TCAACATTATCAATTACAACCGACAGGGAGCC' 'ATAACCTGTTTAACCAGGCGACGGGTTTCCA']\n",
      "['ACACCCAAACACAAGCCCAAATCGCGACCGAA' 'ATTACGCCTTTTTGCGATTGCCCGGTTTTTG']\n",
      "['GAAATGCTGGTGAGCGTTAATGCCGCAAACAC' 'ATTACGCCTTTTTGCGATTGCCCGGTTTTTG']\n",
      "['AGTTCGACCCTACTCAGGCCGGACTATGGCCA' 'ATTACGCCTTTTTGCGATTGCCCGGTTTTTG']\n",
      "['CCGTAAGCGGTTTGAGCGATGATATTTGTGCT' 'ATTACGCCTTTTTGCGATTGCCCGGTTTTG']\n",
      "['TGAATGATCGGAAAGACGCTGCAAAGGCAATG' 'CTGAAACCAGTTGGCTCGTTGTTCTTCTTTG']\n",
      "['GAAATGCTGGTGAGCGTTAATGCCGCAAACAC' 'ATTACGCCTTTTTGCGATTGCCCGGTTTTTG']\n",
      "['CTGCTTTTGCAAATCTATGGACTATTGCTATT' 'ATTACGCCTTTTTGCGATTGCCCGGTTTTTG']\n",
      "['ACACGCCCTTATCAAATAGCTGTGATTTACCTA' 'ATTACGCCTTTTTGCGATTGCCCGGTTTTTG']\n",
      "['GGCAACATAACGAACAAAATCAACGTCAACCT' 'ATTACGCCTTTTTGCGATTGCCCGGTTTTTG']\n",
      "['ACACCCAAACACAAGCCCAAATCGCGACCGAA' 'ATTACGCCTTTTTGCGATTGCCCGGTTTTTG']\n",
      "['GAAATGCTGGTGAGCGTTAATGCCGCAAACAC' 'GTTACGCCTTTTTGCGATTGCCCGGTTTTTG']\n",
      "['AATGATAAATTATCCGTTACCGCAATAACAAT' 'ATTACGCCTTTTTGCGATTGCCCGGTTTTTG']\n",
      "['GTCGCGTTCGTTGCCGGTATAGACCAGCGTCA' 'ATTACGCCTTTTTGCGATTGCCCGGTTTTTG']\n",
      "['CCGTAAGTGGTTTGAGCGATGATATTTGTGCT' 'ATTACGCCTTTATGCGATTGCCCGGTTTTTG']\n",
      "['GATCAGATAAATGGCGAGACGATCCTGTTGCAC' 'ATTACGCCTTTTTGCGATTGCCCGGTTTTTG']\n",
      "['TCGGTTCAGGCGTTGCAAACCTGGCTACCGGG' 'ATTACGCCTTTTTGCGATTGCCCGGTTTTTG']\n",
      "['CACACCGTCGCCGATGCGCGATAACACGTAAA' 'ATTACGCCTTTTTGCGATTGCCCGGTTTTTG']\n",
      "['TAAACCACCAGCCAGACCACCAATTACCACAC' 'ATTACGCCTTTTTGCGATTGCCCGGTTTTTG']\n",
      "['CACACCGTCGCCGGTGCGCGATAACACGTAAA' 'ATTACGCCTTTTTGCGATTGCCCGGTTTTTG']\n",
      "['GGGCGCACGGAATACAAAGCCGTGTATCTGCT' 'ATTACGCCTTTTTGCGATTGCCCGGTTTTTG']\n",
      "['TCGGTTCAGGCGTTGCAAACCTGGCCACCGGG' 'ATTTCGCCTTTTTGCGATTGCCCGGTTTTTG']\n",
      "['ATATCCAGCCTGCGATAGAGATAGTTTTCCGG' 'ATTACGCCTTTTTGCGATTGCCCGGTTTTTG']\n",
      "['TAGTTAACTCTTAGACAGAATATCCGTGTACC' 'ATTACGCCTTTTTGCGATTGCCCGGTTTTTG']\n",
      "['GAAATGCTGGTGAGCGTTAATGCCGCAAACAC' 'ATTACGCCTTCTTGCGATTGCCCGGTTTTTG']\n",
      "['GAAATGCTGGTGAGCGTTAATGCCGCAAACAC' 'ATTACGCCTTTTTGCGATTGCCCGGTTTTTG']\n",
      "['GAAATGCTGGTGAGCGTTAATGCCGCAAACAC' 'ATTACGCCTTTTTGCGATTGCCCGGTTTTTG']\n",
      "['GAAATGCTGGTGAGCGTTAATGCCGCAAACAC' 'ATTACGCCTTTTTGCGATTGCCCGGTTTTTG']\n",
      "['GGGCGCACGGAATACAAAGCCGTGTATCTGCT' 'ATTACGCCTTTTTGCGATTGCCCGGTTTTTG']\n",
      "['CGAGCAGTATACAGAACTCAAGAACGCGCCGT' 'ATTACGCCTTTTTGCGATTGCCCGGTTTTTG']\n",
      "['GCGACCGCTCAGAAATTCCAGACCCGATCCAAA' 'ATTACGCCTTTTTGCGATTGCCCGGTTTTTG']\n",
      "['TAGTCTCCGTATATGCATATTTATAAAGCTGA' 'ATTACGCCTTTTTGCGATTGCCCGGTTTTTG']\n",
      "['CCGGGGGATAATGTTTACGGTCATGCGCCCCC' 'ATTACGCCTTTTTGCGATTGCCCGGTTTTTG']\n",
      "['ATGCAATGGGGAATAAGTAGCGGGTAAATCAA' 'ATTACGCCTTTTTGCAATTGCCCGGTTTTTG']\n",
      "['CAATCTGGGCGACCGTTCATCATCGCTTCGATG' 'ATTACGCCTTTTTGCGATTGCCCGGTTTTTG']\n",
      "['GAAATGCTGGTGAGCGTTAATGCCGCAAACAC' 'ATTACGCCTTTTTGCGATTGCCCGGTTTTTG']\n",
      "['GAAATGCTGGTGAGCGTTAATGCCGCAAACAC' 'ATTACGCCTTTTTGCGATTGCCCGGTTTTTG']\n",
      "['CCGTAAGTGGTTTGAGCGATGATATCTGTGCT' 'ATTACGCCTTTTTGCGATTGCCCGGTTTTTG']\n",
      "['CTATAGCGCCACGTTCCGAGCGCTGCGAGCTG' 'ATTACGCCTTTTTGCGATTGCCCGGTTTTTG']\n",
      "['CTGTTTTCGCAAATCTATGGACTATTGCTATT' 'AGTACGCCTTTTTGCGATTGCCCGGTTTTTG']\n",
      "['ATAACCTGTTTAACCAGGCGACGGGTTTCCAT' 'ATTACGCCTTTTTGCGATTGCCCGGTTTTTG']\n",
      "['TCGGTTCAGGCGTTGCAAACCTGGCTACCGGG' 'ATTACGCCTTTTTGCGATTGCCCGGTTTTTG']\n",
      "['TGGCTCTGCAACAGCAGCACCCATGACCACGT' 'ATTACGCCTTTTTGCGATTGCCCGGTTTTTG']\n",
      "['CCGGGGGATAATGTTTACGGTCATGCGCCCCC' 'ATTACGCCTTTTTGCGATTGCCCGGTTTTTG']\n",
      "['TCAACATTATCAATTACAACCGACAGGGAGCC' 'ATTACGCCTTTTTGCGATTGCCCGGTTTTTG']\n",
      "['GGGCGCACGGAATACAAAGCCGTGTATCTGCT' 'ATTACGCCTTTTTGCGATTGCCCGGTTTTTG']\n",
      "['TGACCTGAAGAAATAACATTGACTCCAAACTG' 'ATTACGCCTTTTTGCGATTGCCCGGTTTTTG']\n",
      "['CAGAACATACTTCAAAGCCCGAGGCGTACACG' 'ATTACGCCTTTTTGCGATTGCCCGGTTTTTG']\n",
      "['GAAATGCTGGTGAGCGTTAATGCCGCAAACAC' 'ATTACGCCTTTTTGCCATTGCCCGGTTTTTG']\n",
      "['AGTTAACAACCCGCGCCGAACAAGCCCGACAA' 'ATTACGCCTTTTTGCGATTGCCCGGTTTTTG']\n",
      "['CTGCTGCTCGAGCTGGTGGAGTGCTGCTATAG' 'ATTACGCCTTTTTGCGATTGCCCGGTTTTTG']\n",
      "['GAAATGCTGGTGAGCGTTAATGCCGCAAACAC' 'ATTACGCCTTTTTGCGATTGCCCGGTTTTTG']\n",
      "['CAATCTGGGCGACCGGTCATCATCGCTTCGATG' 'ATTACGCCTTTTTGCGATTGCCCGGTTTTTG']\n",
      "['GAAATGCTGGTGAGCGTTAATGCCGCAAACAC' 'TTTGCCGCTGTCAGCATTGCTGGCGCGTAAT']\n",
      "['CCGTAAGTGGTTTGAGCGATGATATTTGTGCT' 'ATTACGCCTTTTTGCGATTGCCCGGTTTTTG']\n",
      "['GAAATGCTGGTGAGCGTTAATGCCGCAAACAC' 'ATTACGCCTTTTTGCGATTGCCCGGTTTTTG']\n",
      "['ACGAACGCGGCACACCAGGGCGTCTCATCGTC' 'ATTTTCCCGTTGTACAATAATAATGTTCCGG']\n",
      "['GTATGGGAGCAATACCCCAACCTGATGATGTG' 'ATTACGCCTTTTTGCGATTGCCCGGTTTTTG']\n",
      "['ATATATCAGAGCAAAAAACAAAGCCACAGCCA' 'ATTACGCCTTTTTGCGATTGCCCGGTTTTTG']\n",
      "['TTTGGTATCTGCGCTCTGCTGAAGCCAGTTAC' 'ATTACGCCTTTTTGCGATTGCCCGGTTTTTG']\n",
      "['GAAATGCTGGTGAGCGTTAATGCCGCAAACAC' 'ATTACGCCTTTTTGCGATTGCCCGGTTTTTG']\n",
      "['CCTGCGTAGTTGATCACGATTTCCGGGATAAT' 'ATTACGCCTTTTTGCGATTGCCCGGTTTTTG']\n",
      "['ACGATGGCGATGCGTGAGAAAGGGGGTCGATA' 'AGTTCGCTGAGTAGCCTTTTCTCTGTGCCTA']\n",
      "['GAAATGCTGGTGAGCGTTAATGCCGCAAACAC' 'ATTACGCCTTTTTGCGATTGCCCGGTTTTTG']\n",
      "['GAAATGCTGGTGAGCGTTAATGCCGCAAACAC' 'ATTACGCCTTTTTGCGATTGCCCGGCTTTTG']\n",
      "['GTATGGGAGCAATACCCCAACCTGGTGATGTG' 'GCGGATCCACAGCTTGCCCTTGCGCTTCATTTC']\n",
      "['TCTTCGGGCGCGCGTTTTCGCAGACCAGCGAT' 'TGTGTCGGAATATGCGGGCTGATTTTCGTCT']\n",
      "['ACCGAGCGCCGCTGGGAGGCGTATCTTACGTT' 'ATTACGCCTTTTTGCGATTGCCCGGTTTTTG']\n",
      "['CGATTCCTCGTAGCTGCCACTCGACTGAAAGC' 'CTGCTGCTCGAGCTGGTGGAGTGCTGCTATA']\n",
      "['CGATGAATAAAGCCAAGAGTAGAGCGCATGAA' 'ATTACGCCTTTTTGCGATTGCCCGGTTTTTG']\n",
      "['GAAATGCTGGTGAGCGTTAATGCCGCAAACAC' 'ATTACGCCTTTTTGCGATTGCCCGGTTTTTG']\n",
      "['AAGCTGGCTGGCAATCTCTTTCGGGGTGAGTC' 'ATTACGCCTTTTTGCGATTGCCCGGTTTTTG']\n",
      "['CAGAACATACTTCAAAGCCCGAGGCGTACACG' 'ATTACGCCTTTTTGCGATTGCCCGGTTTTTG']\n",
      "['CAATCTGGGCGACCGGTCATCATCGCTTCGATG' 'TTTTTGTTAATTGCGTTTGCCACGGTTTGCA']\n",
      "['TAGTTAACTTTTAGACAGAATATCCGTGTACC' 'ATAACCCGTTTAACCAGGCGACGGGTTTCCA']\n",
      "['GAAATGCTGGTGAGCGTTAATGCCGCAAACAC' 'ATTACGCCTTTTTGCGATTGCCCGGTTTTTG']\n",
      "['GAAATGCTGGTGAGCGTTAATGCCGCAAACAC' 'ATTACGCCTTTTTGCGATTGCCCGGTTTTTG']\n",
      "['GAAATGCTGGTGAGCGTTAATGCCGCAAACAC' 'ATTACGCCTTTTTGCGATTGCCCGGTTTTTG']\n",
      "['ATAACCTGTTTAACCAGGCGACGGGTTTCCAT' 'ATTACGCCTTTTTGCGATTGCCCGGTTTTTG']\n",
      "['GAAATGCTGGTGAGCGTTAATGCCGCAAACAC' 'ATTACGCCTTTTTGCGATTGCCCGGTTTTTG']\n",
      "['TGGCTCTGCAACAGCAGCACCCATGACCACGT' 'ATTACGCCTTTTTGCGATTGCCCGGTTTTTG']\n",
      "['TGGCTCTGCAACAGCAGCACCCATGACCACGT' 'ATTACGCCTTTTTGCGATTGCCCGGTTTTTG']\n",
      "['GGGCGCACGGAATACAAAGCCGTGTATCTGCT' 'ATTACGCCTTTTTGCGATTGCCCGGTTTTTG']\n",
      "['AGCGTGTTCGGCATCACCTTTGGCTTCGGCTG' 'ATTACGCCTTTTTGCGATTGCCCGGTTTTTG']\n",
      "['AGTGCTGGACCATTTCAGATTCACAATAGATT' 'ATTACGCCTTTTTGCGATTGCCCGGTTTTTG']\n",
      "['GGGCGCACGGAATACAAAGCCGTGTATCTGCT' 'ATTACGCCTTTTTGCGATTGCCCGGTTTTTG']\n",
      "['GGCAACATAACGAACAAAATCAACGTCAACCT' 'ATTACGCCCTTTTGCGATTGCCCGGTTTTTG']\n",
      "['GCGGATCCACAGCTTGCCCTTGCGCTTCATTTCA' 'ATTACGCCTTTTTGCGATTGCCCGGTTTTAG']\n",
      "['TCTTCGGGCGCGCGTTTTCGCAGACCAGCGAT' 'GTTACGCTGCCTGAATATCGCAATTCCCCTG']\n",
      "['TCGGTTCAGGCGTTGCAAACCTGGCTACCGGG' 'ATTACGCCTTTTTGCGATTGCCCGGTTTTTG']\n",
      "['AAGCTGGCTGGCAATCTCTTTCGGGGTGAGTC' 'ATTACGCCTTTTTGCGATTGCCCGGTTTTTG']\n",
      "['GAAATGCTGGTGAGCGTTAATGCTGCAAACAC' 'ATTACGCCTTTTTGCGATTGCCCGGTTTTTG']\n",
      "['GGACTTAAAGATCGCATCACAGTACTGGAGGG' 'ATTACGCCTTTTTGCGATTGCCCGGTTTTTG']\n",
      "['GAAATGCTGGTGAGCGTTAATGCCGCAAACAC' 'ATTACGCCTTTTTGCGATTGCCCGGTTTTTG']\n",
      "['TGGCTCTGCAACAGCAGCACCCATGACCACGT' 'ATTACGCCTTTTTGCGATTGCCCGGTTTTTG']\n",
      "['GTAGTCCATCATTCCACCTATGTCTGAACTCC' 'ATTACGCCTTTTTGCGATTGCCCGGTTTTTG']\n",
      "['CACATATTCAAAGCCCGAGGCGTACACG' 'ATTACGCCTTTTTGCGATTGCCCGGTTTTTG']\n",
      "['TCGGTTCAGGCGTTGCAAACCTGGCTACCGGG' 'ATTACGCCTTTTTGCAATTGCCCGGTTTTTG']\n",
      "['GGAAACCGCCCCGGCGGTGGTTAGCTGTTTGC' 'ATTACGCCTTTTTGCGATTGCCCGGTTTTTG']\n",
      "['GAAATGCTGGTGAGCGTTAATGCCGCAAACAC' 'ATTACGCCTTTTTGCGATTGCCCGGTTTTTG']\n",
      "['CAGGGTTGCGCGATGCCGTGAAGGCAACAGAG' 'ATTACGCCTTTTTGCGATTGCCCGGTTTTTG']\n",
      "['ACGAACGCGGCACACCAGGGCGTCTCATCGTC' 'ATTACGCCTTTTTGCGATTGCCCGGTTTTTG']\n",
      "['CAATCTGGGCGACCGGTCATCATCGCTTCGATG' 'ATTACGCCTTTTTGCGATTGCCCGGTTTTTG']\n",
      "['TCCCCCATGTTGTGCAAAAAAGCGGTTAGCTC' 'ATTACGCCTTTTTGCGATTGCCCGGTTTTTG']\n",
      "['CAGAACATACTTCAAAGCCCGAGGCGTACACG' 'ATTACGCCTTTTTGCGATTGCCCGGTTTTTG']\n",
      "['ACGCGCGTACCGGATCGCGGACAACAAATTGC' 'CCCTCGTGCGCTCTCCTGTTCCGACCCTGCC']\n",
      "['AAGCTGGCTGGCAATCTCTTTCGGGGTGAGCC' 'ATTACGCCTTTTTGCGGTTGCCCGGTTCTTG']\n",
      "['CAAGTGATATCCATCATCGCATCCAGTGCGCC' 'ATTACGCCTTTTTGCGATTGCCCGGTTTTTG']\n",
      "['GAAATGCTGGTGAGCGTTAATGCCGCAAACAC' 'ATTACGCCTTTTTGCGATTGCCCGGTTTTTG']\n",
      "['AGTGCTGGACCATTTCAAATTCACAATAGATT' 'ATTACGCCTTTTTGCGATTGCCCGGTTTTTG']\n",
      "['CGGCAGTTCGCGCCGCGGACTCACGAGCAGGC' 'CTGAAACCAGTTGGCTCGTTGTTCTTCTTTG']\n",
      "['CAGAACATACTTCAAAGCCCGAGGCGTACACG' 'ATTACGCCTTTTTGCGATTGCCCGGTTTATG']\n",
      "['ATGAAAAGCCGGACTAATCCACATGGCGTAGG' 'ATTACGCCTTTCTGCGATTGCCCGGTTTTTG']\n",
      "['CGAGCAGTATACAGAACTCAAGAACGCGCCGT' 'ATTACGCCTTTTTGCGATTGCCCGGTTTTTG']\n",
      "['GAAATGCTGGTGAGCGTTAATGCCGCAAACAC' 'ATTACGCCTTTTTGCGATTGCCCGGTTTTTG']\n",
      "['CCGCCGTTGGCACCGTCAAACTCCGGTACTGT' 'ATTACGCCTTTTTGCGATTGCCCGGTTTTTG']\n",
      "['GGAATGATATTTCAATAAATAATTATAACAAT' 'ATTACGCCTTTTTGCGATTGCCCGGTTTTTG']\n",
      "['TGGTGTGATTCCAATTGCCGCACGGAACGCCG' 'ATTACGCCTTTTTGCGATTGCCCGGTTTTTG']\n",
      "['AGTATTAACTGCGGTGGCAGTGAGGCCAATAGCGGTTTATCCCCGCTGCGCAGGGAACA'\n",
      " 'ATTACGCCTTTTTGCGATTGCCCGGTTTTTG']\n",
      "['TGTGCTGGACCATTTCAAATTCACAATAGATT' 'ATTACGCCTTTTTGCGATTGCCCGGTTTTTG']\n",
      "['GCAGGCGGCGACGTGCAGGGTATGCGCGATTCG' 'TTTACGCCTTTTTGCGATTGCCCGGTTTTTG']\n",
      "['GAAATGCTGGTGAGCGTTAATGCCGCAAACAC' 'ATTACGCCTTTTTGCGATTGCCCGGTTTTTG']\n",
      "['GAAATGCTGGTGAGCGTTAATGCCGCAAACAC' 'ATTACGCCTTTTTGCGATTGCCCGGTTTTTG']\n",
      "['TCTTCGGGCGCGCGTTTTCGCAGACCAGCGAT' 'TTGATCGGCGAGACTCGCGGCCTGTTTTTCG']\n",
      "['TCCGTCCACCCTGATAGCCGCCCTTGTGATCC' 'ATTACGCCTTTTTGCGATTGCCCGGTTTTTG']\n",
      "['TCCGTCCACCCTGATAGCCGCCCTTGTGATCC' 'ATAACCTGTTTAACCAGGCGACGGGTTTCCA']\n",
      "['AAGCTGGCTGGCAATCTCTTTCGGGGTGAGTC' 'ATTACGCCTTTTTGCGATTGCCCGGTTTTTG']\n",
      "['CTGATTGTCAAAATCAAAAAACAGGCCGAGTC' 'ATTACGCCTTTTTGCGATTGCCCGGTTTTTG']\n",
      "['CTGTTTTCGCAAATCTATGGACTATTGCTATT' 'ATTACTCCTTTTTGCGATTGCCCGGTTTTTG']\n",
      "['GGCAACATAACGAACAAAATCAACGTCAACCT' 'ATTACGCCTTTTTGCGATTGCCCGGTTTTTG']\n",
      "['ACACGCCCTTATCAAATAGCTGTGATTTACCTA' 'ATTACGCCTTTTTGCGATTGCCCGGTTTTTG']\n",
      "['TGGCTCTGCAACAGCAGCACCCATGACCACGT' 'ATTACGCCTTTTTGCGATTGCCCGGTTTTTG']\n",
      "['GAAATGCTGGTGAGCGTTAATGCCGCAAACAC' 'ATTACGCCTTTTTGCGATTGCCCGGTTTTTG']\n",
      "['CTGTTTTCGCAAATCTATGGACTATTGCTATT' 'ATTACGCCTTTTTGCGATTGCCCGGTTTTTG']\n",
      "['CACACCGTCGCCGGTGCGCGATAACACGTAAA' 'ATTACGCCTTTTTGCGATTGCCCGGTTTTTG']\n",
      "['ACATCAAGCCCTCAGTATTGTGCTAACCAAGA' 'ATTACGCCTTTTTGCGATTGCCCGGTTTTTG']\n",
      "['CAGTAATTGCACCCTCAGCATCATTAACCATG' 'ATTACGCCTTTTTGCGATTGCCCGGTTTTCG']\n",
      "['GATCAGATAAATGGCGAGACGATCCTGTTGCAC' 'ATTACGCCTTTTTGCGATTGCCCGGTTTTTG']\n",
      "['CAGGTTCGTAAAGGTGAACACGGCACGACGGC' 'ATTACGCCTTTTTGCGATTGCCCGGTTTTTG']\n",
      "['TTTGGTATCTGCGCTCTGCTGAAGCCAGTTAC' 'ATTACGCCTTTTTGCGATCGCCCGGTTTTTG']\n",
      "['CGATTCCTCGTAGCTGCCACTCGGCTGAAAGC' 'AAAATTCATATTGATAAACACCGCGTTTGTA']\n",
      "['ACGCGCGTACCGGATCGCGGACAACAAATTGC' 'CTGAAACCAGTTGGCTCGTTGTTCTTCTTTG']\n",
      "['CAATCTGGGCGACCGTTCATCATCGCTTCGATG' 'ATTACGCCTTTTTGCAATTGCCCGGTTTTTG']\n",
      "['GAAATGCTGGTGAGCGTTAATGCCGCAAACAC' 'ATTACGCCTTTTTGCGATTGCCCGGTTTTTG']\n",
      "['AGTGCTGGACCATTTCAAATTCACAATAGATT' 'ATTACGCCTTTTTGCGATTGCCCGGTTTTTG']\n",
      "['ACACGCCCTTATCAAATAGCTGTGATTTACCTA' 'ATTACGCCTTTTTGCGATTGCCCGGTTTTTG']\n",
      "['GAAATGCTGGTGAGCGTTAATGCCGCAAACAC' 'ATTACGCCTTTTTGCGATTGCCCGGTTTTTG']\n",
      "['GTATGGGAGCAATACCCCAACCTGATGATGTG' 'TATACCGCCTTTTTGCGATTGCCCGGTTTTTG']\n",
      "['AAAGATTGAGGGGCCGGAAATGGCACTAACAC' 'ATTACGCCTTTTTGCGATTGCCCGGTTTTTG']\n",
      "['AGCTGGGCGAAATTTTGATTCATCGTGATGAC' 'ATTACGCCTTTTTGCGATTGCCCGGTTTTTG']\n",
      "['TAGTTTCCGTATCTCCGGATTTATAAAGCTGA' 'ATTACGCCTTTTTGCGATTGCCCGGTTTTTG']\n",
      "['GCGTCCACTTCGGGATTTGTGGCAGGGAGTTC' 'ATAACCTGTTTAACCAGGCGACGGGTTTCCA']\n",
      "['ACCGGAACGTATCAGAATATGATGATCTCCGG' 'ATTACGCCTTTTTGCGATTGCCCGGTTTTTG']\n",
      "['AAAACCAAACTTCTCCATAAATTCCATAGCCG' 'ATTACGCCTTTTTGCGATTGCCCGGTTTTTG']\n",
      "['GAAATGCTGGTGAGCGTTAATGCCGCAAACAC' 'ATTACGCCTTTTTGCGATTGCCCGGTTTTTG']\n",
      "['CAGTAATTGCACCCTCAGCATCATTAACCATG' 'ATTACGCCTTTTTGCGGTTGCCCGGTTTTG']\n",
      "['GTAACGTCTGCCTTTTCCTCGTCCGCCTTAAT' 'ATAACCTGTTTAACCAGGCGACGGGTTTCCA']\n",
      "['ATCATGATAACGCCGCTGTGATTCATCCCCGT' 'ATTACGCCTTTTTGCGATTGCCCGGTTTTTG']\n",
      "['CTATAGCGCCACGTTCCGAGCGCTGCGAGCTG' 'ATTACGCCTTTTTGCGATTGCCCGGTTTTTG']\n",
      "['GGGCGCACGGAATACAAAGCCGTGTATCTGCT' 'ATTACGCCTTTTTGCGATTGCCCGGTTTTTG']\n",
      "['GAAATGCTGGTGAGCGTTAATGCCGCAAACAC' 'ATTACGCCTTTTTGCGATTGCCCGGTTTTTG']\n",
      "['CAGAACATACTTCAAAGCCCGAGGCGTACACG' 'ATTACGCCTTTTTGCGATTGCCCGGTTTTTG']\n",
      "['GAAATGCTGGTGAGCGTTAATGCCGCAAACAC' 'ATAACCTGTTTAACCAGGCGACGGGTTTCCA']\n",
      "['CGAGCAGTATACAGAACTCAAGAACGCGCCGT' 'ATTACGCCTTTTTGCAATTGCCCGGTTTTTG']\n",
      "['GGGATCAGCACCGACAACCTAAAACCACTGTT' 'ATTACGCCTTTTTGCGATTGCCCGGTTTTTG']\n",
      "['AATGCCTCCAGCCTCATTTGAAACGCCGCCAG' 'ATTACGCCTTTTTGCGATTGCTCGGTTTTTG']\n",
      "['GCGTCGCCATTCTATTAGCTTTTCCCCATCAC' 'ATTACGCCTTTTTGCGATTGCCCGGTTTTTG']\n",
      "['CTGTTTTCGCAAATCTATGGACTATTGCTATT' 'CGCGCACGGCGTTTGCCCTCGTCGGTTATTG']\n",
      "['GAAATGCTGGTGAGCGTTAATGCCGCAAACAC' 'ATTACGCCTTTTTGCGATTGCCCGGTTTTTG']\n",
      "['GAAATGCTGGTGAGCGTTAATGCCGCAAACAC' 'ATTACGCCTTTTTGCGATTGCCCGGTTTTTG']\n",
      "['CGAGCAGTATACAGAACTCAAGAACGCGCCGT' 'ATTACGCCTTCTTGCGATTGCCCGGTTTTTG']\n",
      "['CTGTTTTCGCAAACCTATGGACTATTGCTATT' 'ATTACGCCTTTTTGCGATTGCCCGGTTTTTG']\n",
      "['GAAATGCTGGTGAGCGTTAATGCCGCAAACAC' 'ATTACGCCTTTTTGCGATTGCCCGGTTTTTG']\n",
      "['CCAACATTATCAATTACAACCGACAGGGAGCC' 'ATTACGCCTTTTTGCGATTGCCCGGTTTTTG']\n",
      "['TCAACATTATCAATTACAACCGACAGGGAGCC' 'ATTACGCCTTTTTGCGATTGCCCGGTTTTTG']\n",
      "['GCTGACCTGTCGAATCCGTATAGCCGCCGTTC' 'ATTACGCCTTTTTGCGATTGCCCGGTTTTTG']\n",
      "['GAAATGCTGGTGAGCGTTAATGCCGCAAACAC' 'ATTACGCCTTTTTGCGATTGCCCGGTTTTTC']\n",
      "['GAAATGCTGGTGAGCGTTAATGCCGCAAACAC' 'ATTACGCCTTTTTGCAATTGCCCGGTTTTTG']\n",
      "['GGGCGCACGGAATACAAAGCCGTGTATCTGCT' 'ATTACGCCTTTTTGCGATTGCCCGGTTTTTG']\n",
      "['GCGACCGCTCAGAAATTCCAGACCCGATCCAAA' 'ATTACGCCTTTTTGCGATTGCCCGGTTTTTG']\n",
      "['ATAACCTGTTTAACCAGGCGACGGGTTTCCAT' 'ATTACGCCTTTTTGCGATCGCCCGGTTTTTG']\n",
      "['GTAGTCCATCATTCCACCTATGTCTGAACTCC' 'ATTACGCCTTTTTGCGATTGCCCGGTTTTTG']\n",
      "['GGGCGCACGGAATACAAAGCCGTGTATCTGCT' 'ATTACGCCTTTTTGCGATTGCCCGGGTTTTG']\n",
      "['TGTTTCTGTCCCAACTGAACAGCGCCGATAGT' 'ATTACGCCTTTTTGCGATTGCCCGGTTTTTG']\n",
      "['GTAGTCCATCATTCCACCTATGTCTGAACTCC' 'ATTACGCCTTTTTGCGATTGCCCGGTTTTTG']\n",
      "['TTGAGAGCGAGGGGCGATTCCGCCAGGGCGTA' 'ATTACGCCTTTTTGCGATTGCCCGGTTTTTG']\n",
      "['CTGTTTTCGCAAATCTATGGACTATTGCTATT' 'ATTACGCCTTTTTGCGATTGCCCGGTTTTTG']\n",
      "['GAAATGCTGGTGAGCGTTAATGCCGCAAACAC' 'ATTACGCCTTTTTGCGATTGCCCGGTTTTTG']\n",
      "['ATAATGCTCATGAGCAGGCATAGGATTGACGA' 'ATTACGCCTTTTTGCGATTGCCCGGTTTTTG']\n",
      "['GGGCGCACGGAATACAAAGCCGTGTATCTGCT' 'ATTACGCCTTTTTGCGATTGCCCAATTTTTG']\n",
      "['ACCGAGCGCCGCTGGGAGGCGTATCTCACGTT' 'TTTTTGTTAATTGCGTTTGCCACGGTTTGCA']\n",
      "['TGCATATCAGATGGGCACTGCTGATTGGAGAA' 'ATTACGCCTTTTTGCGATTGCCCGGTTTTTG']\n",
      "['CGAGCAGTATACAGAACTCAAGAACGCGCCGT' 'ATTACGCCTTTTTGCGATTGCCCGGTTTTTG']\n",
      "['CCTGGTGTTGTCTGTTTCGTGACGCTCGGTAA' 'ATTACGCCTTTTTGCGATTGCCCGGTTTTTG']\n",
      "['GCGGATCCACAGCTTGCCCTTGCGCTTCATTTCA' 'ATAACCTGTTTAACCAGGCGACGGGTTTCCA']\n",
      "['CGTTCCTCGCATTATTTCCCTTTCTTCTTCGA' 'ATTACGCCTTTTTGCGATTGCCCGGTTTTTG']\n",
      "['GGGCGCACGGAATACAAAGCCGTGTATCTGCT' 'ATTACGCCTTTTTGCGATTGCCCGGTTTTTG']\n",
      "['GAAATGCTGGTGAGCGTTAATGCCGCAAACAC' 'ATTACGCCTTTTTGCGATTGCCCGGTTTTTG']\n",
      "['CTGTTTTCGCAAATCTATGGACTATTGCTATT' 'ATTACGCCTTTTTGCGATTGCCCGGTTTTTG']\n",
      "['GAAATGCTGGTGAGCGTTAATGCCGCAAACAC' 'ATTACGCCTTTTTGCGATTGCCCGGTTTTTG']\n",
      "['GCGACCGCTCAGAAATTCCAGACCCGATCCAAA' 'ATTACGCCTTTTTGCGATTGCCCGGTTTTTG']\n",
      "['GAAATGCTGGTGAGCGTTAATGCCGCAAACAC' 'ATTACGCCTTTTTGCGATTGCCCGGTTTTTG']\n",
      "['AATGGAGCGCACGCCATGACCATAACCATCCG' 'ATTACGCCTTTTTGCGATTGCCCGGTTTTTG']\n",
      "['CAAAATATCACGAGCTTCGTCAGGCCATGGAC' 'GGAAACCGCCCCGGCGGTGGTTAGCTGTTTG']\n",
      "['GAAATGCTGGTGAGCGTTAATGCCGCAAACAC' 'ATTACGCCTTTTTGCGATTGCCCGGTTTTTG']\n",
      "['CTGTTTTCGCAAATCTATGGACTATTGCTATT' 'ATTACGCCTTTTTGCGATTGCCCGGCTTTTG']\n",
      "['CAAGTGATATCCATCATCGCATCCAGTGCGCC' 'ATTACGCCTTTTTGCGATTGCCCGGTTTTTG']\n",
      "['GGCACGACATTCAGCAGTGCAGATAAATCGGC' 'TTGATCGGCGAGACTCGCGGCCTGTTTTTCG']\n",
      "['AGTGCTGGACCATTTCAAATTCACAATAGATT' 'ATTACGCCTTTTTGCGATTGCCCGGTTTTTG']\n",
      "['GTAGTCCATCATTCCACCTATGTCTGAACTCC' 'ATTACGCCTTTTTGCAATTGCCCGGTTTTTG']\n",
      "['GAAATGCTGGTGAGCGTTAATGCCGCAAACAC' 'ATTACGCCTTTTTGCGATTGCCCGGTTTTTG']\n",
      "['TTTGCCGCTGTCAGCATTGCTGGCGCGTAATA' 'ATTACGCCTTTTTGCGATTGCCCGGTTTTTG']\n",
      "['ACGCGCGTACCGGATCGCGGACAACAAATTGC' 'CTGAAACCAGTTGGCTCGTTGTTCTTCTTTG']\n",
      "['GAAATGCTGGTGAGCGTTAATGCCGCAAACAC' 'ATTACGCCTTTTTGCGATTGCCCGGTTTTTG']\n",
      "['ACGCGCGTACCGGATCGCGGACAACAAATTGC' 'CTGAAACCAGTTGGCTCGTTGTTCTTCTTTG']\n",
      "['ATAATGCTCATGAGCAGGCATAAGATTGACGA' 'ATTACGCCTTTTTGCGATTGCCCGGTTTTTG']\n",
      "['CTGTTTTCGCAAATCTATGGACTATTGCTATT' 'ATTACGCCTTTTTGCGATTGCCCGGTTTTTG']\n",
      "['GTAGCCCATCATTCCACCTATGTCTGAACTCC' 'ATAACCTGTTTAACCAGGCGACGGGTTTCCA']\n",
      "['GAAATGCTGGTGAGCGTTAATGCCGCAAACAC' 'ATTACGCCTTTTTGCGATTGCCCGGTTTTTG']\n",
      "['TTCGCCGCCATCATCCTGTGGTGCCAGTTGAC' 'ATTACGCCTTTTTGCGATTGCCCGGTTTTTG']\n",
      "['GAAATGCTGGTGAGCGTTAATGCCGCAAACAC' 'ATTACGCCTTTTTGCGATTGCCCGGTTTTTG']\n",
      "['GAAATGCTGGTGAGCGTTAATGCCGCAAACAC' 'ATTACGCCTTTTTGCGATTGCCCGGTTTTTG']\n",
      "['TCGGTTCAGGCGTTGCAAACCTGGCCACCGGG' 'ATTACGCCTTTTTGCGATTGCCCGGTTTTTG']\n",
      "['TCCGTCCACCCTGATAGCCGCCCTTGTGATCC' 'ATTACGCCTTTTTGCGATTGCCCGGTTTTTG']\n",
      "['CTGTTTTCGCGAATCTATGGACTATTGCTATT' 'ATTACGCCTTTTTGCGATTGCCCGGTTTTTG']\n",
      "['GAAATGCTGGTGAGCGTTAATGCCGCAAACAC' 'ATTACGCCTTTTTGCGATTGCCCGGTTTTTG']\n",
      "['GAAATGCTGGTGAGCGTTAATGCCGCAAACAC' 'ATTACGCCTTTTTGCGATTGCCCGGTTTTTG']\n",
      "['GAAATGCTGGTGAGCGTTAATGCCGCAAACAC' 'ATTACGCCTTTTTGCGATTGCCCGGTTTTTG']\n",
      "['GAATCTAATGCAACAGATGAATAAACACGTAA' 'ATTACGCCTTTTTGCGATTGCCCGGTTTTTG']\n",
      "['CAGAACATACTTCAAAGCCCGAGGCGTACACG' 'ATTACGCCTTTTTGCGATTGCCCGGTTTTTG']\n",
      "['GAAATGCTGGTGAGCGTTAATGCCGCAAACAC' 'ATTACGCCTTTTTGCGATTGCCCGGTTTTTG']\n",
      "['ACCGAGCGCCGCTGGGAGGCGTATCTCACGTT' 'ATTACGCCTTTTTGCGATTGCCCGGCCTTTG']\n",
      "['ACCGAGCGCCGCTGGGAGGCGTATCTCACGTT' 'ATTACGCCTTTTTGCGATTGCCCGGTTTTTG']\n",
      "['CAGAACATACTTCAAAGCCCGAGGCGTACACG' 'ATTACGCCTTTTTGCGATTGCCCGGTTTTTG']\n",
      "['GAAATGCTGGTGAGCGTTAATGCCGCAAACAC' 'ATTACGCCTTTTTGCGATTGCCCGGTTTTTG']\n",
      "['GTATGGGAGCAATGCCCCAACCTGATGATGTG' 'ATTACGCCTTTTTGCGATTGCCCGGTTTTTG']\n",
      "['GAAATGCTGGTGAGCGTTAATGCCGCAAACAC' 'ATTACGCCTTTTTGCGATTGCCCGGTTTTTG']\n",
      "['GTAGTCCATCATTCCACCTATGTCTGAACTCC' 'ATTACGCCTTTTTGCGATTGCCCGGTTTTTG']\n",
      "['ACGAACGCGGCACACCAGGGCGTCTCATCGTC' 'ATTACGCCTTTTTGCGATTGCCCGGTTTTTG']\n",
      "['TCATGCAGCCATCACCAACCCCAGCAACGC' 'ATTACGCCTTTTTGCGATTGCCCGGTTTTTG']\n",
      "['GGTTCAGGCGTTGCAAATCTGGCTACCGGG' 'ATTACGCCTTTTTGCGATTGCCCGGTTTTTG']\n",
      "['CAGAACATACTTCAAAGCCCGAGGCGTACACG' 'ATTACGCCTTTTTGCGATTGCCCGGTTTTTG']\n",
      "['CAATCTGGGCGACCGGTCATCATCGCTTCGATG' 'ATTACGCCTTTTTGCGATTGCCCGGTTTTTG']\n",
      "['CCTGCGTAGTTGATCACGATTTCCGGGATAAT' 'ATTACGCCTTTTTGCGATTGCCCGGTTTTTG']\n",
      "['CGAGCAGTATACAGAACTCAAGAACGCGCCGT' 'ATTACGCCTTTTTGCGATTGCCCGGTTTTTG']\n",
      "['GCGTCCACTTCGGGATTTGTGGCAGGGAGTTC' 'ATAACCTGTTTAACCAGGCGACGGGTTTCCA']\n",
      "['CGAGCAATATACAGAACTCAAGAACGCGCCGT' 'ATTACGCCTTTTTGCGATTGCCCGGTTTTTG']\n",
      "['GGAGTAGCCGTTGTGGGCGGTGGCGATGTTGTAGATCAGCTCCTGGATCAGAA'\n",
      " 'ATTACGCCTTTTTGCGATTGCCCGGTTTTTG']\n"
     ]
    }
   ],
   "source": [
    "for x in clusters[12]:\n",
    "    print pairs_array[x]"
   ]
  },
  {
   "cell_type": "code",
   "execution_count": null,
   "metadata": {
    "collapsed": true
   },
   "outputs": [],
   "source": []
  },
  {
   "cell_type": "code",
   "execution_count": null,
   "metadata": {
    "collapsed": true
   },
   "outputs": [],
   "source": []
  },
  {
   "cell_type": "code",
   "execution_count": null,
   "metadata": {
    "collapsed": true
   },
   "outputs": [],
   "source": []
  },
  {
   "cell_type": "code",
   "execution_count": null,
   "metadata": {
    "collapsed": true
   },
   "outputs": [],
   "source": []
  },
  {
   "cell_type": "code",
   "execution_count": null,
   "metadata": {
    "collapsed": true
   },
   "outputs": [],
   "source": []
  },
  {
   "cell_type": "code",
   "execution_count": null,
   "metadata": {
    "collapsed": true
   },
   "outputs": [],
   "source": []
  },
  {
   "cell_type": "markdown",
   "metadata": {},
   "source": [
    "# from another"
   ]
  },
  {
   "cell_type": "code",
   "execution_count": 255,
   "metadata": {
    "collapsed": true
   },
   "outputs": [],
   "source": [
    "import pandas as pd"
   ]
  },
  {
   "cell_type": "code",
   "execution_count": 262,
   "metadata": {
    "collapsed": false
   },
   "outputs": [
    {
     "data": {
      "text/plain": [
       "1505479080000"
      ]
     },
     "execution_count": 262,
     "metadata": {},
     "output_type": "execute_result"
    }
   ],
   "source": [
    "pd.to_datetime(\"2017-09-15 12:38:00\").value / 1000000"
   ]
  },
  {
   "cell_type": "code",
   "execution_count": 265,
   "metadata": {
    "collapsed": false
   },
   "outputs": [
    {
     "data": {
      "text/plain": [
       "1505724230732"
      ]
     },
     "execution_count": 265,
     "metadata": {},
     "output_type": "execute_result"
    }
   ],
   "source": [
    "pd.to_datetime(\"2017-09-18T08:43:50.732\").value / 1000000"
   ]
  },
  {
   "cell_type": "code",
   "execution_count": 266,
   "metadata": {
    "collapsed": false
   },
   "outputs": [
    {
     "data": {
      "text/plain": [
       "1504919043000"
      ]
     },
     "execution_count": 266,
     "metadata": {},
     "output_type": "execute_result"
    }
   ],
   "source": [
    "pd.to_datetime(\"2017-09-09T01:04:03\").value / 1000000"
   ]
  },
  {
   "cell_type": "code",
   "execution_count": 267,
   "metadata": {
    "collapsed": false
   },
   "outputs": [
    {
     "data": {
      "text/plain": [
       "1505376750377"
      ]
     },
     "execution_count": 267,
     "metadata": {},
     "output_type": "execute_result"
    }
   ],
   "source": [
    "pd.to_datetime(\"2017-09-14T08:12:30.377\").value / 1000000"
   ]
  },
  {
   "cell_type": "code",
   "execution_count": null,
   "metadata": {
    "collapsed": true
   },
   "outputs": [],
   "source": []
  }
 ],
 "metadata": {
  "kernelspec": {
   "display_name": "Python 2",
   "language": "python",
   "name": "python2"
  },
  "language_info": {
   "codemirror_mode": {
    "name": "ipython",
    "version": 2
   },
   "file_extension": ".py",
   "mimetype": "text/x-python",
   "name": "python",
   "nbconvert_exporter": "python",
   "pygments_lexer": "ipython2",
   "version": "2.7.13"
  }
 },
 "nbformat": 4,
 "nbformat_minor": 2
}
