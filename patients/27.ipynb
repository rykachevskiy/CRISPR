{
 "cells": [
  {
   "cell_type": "code",
   "execution_count": 2,
   "metadata": {
    "collapsed": true,
    "scrolled": false
   },
   "outputs": [],
   "source": [
    "import crispr_assembler as ca\n",
    "import pandas as pd\n",
    "import numpy as np\n",
    "import matplotlib.pyplot as plt\n",
    "import os\n",
    "import tqdm\n",
    "\n",
    "%load_ext autoreload\n",
    "%autoreload 2\n",
    "\n",
    "import pickle"
   ]
  },
  {
   "cell_type": "code",
   "execution_count": null,
   "metadata": {
    "collapsed": true
   },
   "outputs": [],
   "source": []
  },
  {
   "cell_type": "code",
   "execution_count": 3,
   "metadata": {
    "collapsed": true
   },
   "outputs": [],
   "source": [
    "def get_top_stats(graph, i, cut=10, axis=0):\n",
    "    return np.array(sorted(graph[i])[::-1][:cut]), np.argsort(graph[i])[::-1][:cut]"
   ]
  },
  {
   "cell_type": "code",
   "execution_count": 4,
   "metadata": {
    "collapsed": true
   },
   "outputs": [],
   "source": [
    "def process_path(path, cut = -1, save = 1):\n",
    "    pairs_path = path + \"/out/pairs/\"\n",
    "    files = sorted(os.listdir(pairs_path))\n",
    "    \n",
    "    print(pairs_path + files[0])\n",
    "    \n",
    "    read = ca.Read(pairs_path + files[0])\n",
    "    read.correct_errors(minimum_occurences=5)\n",
    "    gr = read.graph_from_pairs()[0]\n",
    "    \n",
    "    print('calc embs')\n",
    "    ec = ca.EmbeddingsCalculator()\n",
    "    ec.make_argsorts(gr[:cut, :cut])\n",
    "    embs = ec.fit_predict(gr[:cut, :cut], njobs=32)\n",
    "    \n",
    "    if save:\n",
    "        pickle.dump(read, open(path + \"/read\", 'wb'))\n",
    "        np.save(path + \"/graph\", gr)\n",
    "        np.save(path + \"/embs\", embs)\n",
    "        \n",
    "    return read, gr, embs"
   ]
  },
  {
   "cell_type": "code",
   "execution_count": 5,
   "metadata": {
    "collapsed": true
   },
   "outputs": [],
   "source": [
    "def load(path):\n",
    "    return pickle.load(open(path + \"/read\", 'rb')), np.load(path + \"/graph.npy\"), np.load(path + \"/embs.npy\", embs)"
   ]
  },
  {
   "cell_type": "code",
   "execution_count": null,
   "metadata": {
    "collapsed": true
   },
   "outputs": [],
   "source": []
  },
  {
   "cell_type": "code",
   "execution_count": 6,
   "metadata": {
    "collapsed": true
   },
   "outputs": [],
   "source": [
    "def unwrap_idx_to_spacer(idx_to_spacer):\n",
    "    values_as_list = []\n",
    "    for i in range(len(idx_to_spacer)):\n",
    "        values_as_list.append(idx_to_spacer[i])\n",
    "    return values_as_list"
   ]
  },
  {
   "cell_type": "code",
   "execution_count": 7,
   "metadata": {
    "collapsed": true
   },
   "outputs": [],
   "source": [
    "def continue_steps(reads, pointers):\n",
    "    return any([pointers[i] < len(reads[i]) for i in range(len(reads))])"
   ]
  },
  {
   "cell_type": "code",
   "execution_count": 8,
   "metadata": {
    "collapsed": true
   },
   "outputs": [],
   "source": [
    "def merge_reads(reads, t=1, v = 1):\n",
    "    spacers_lists = [unwrap_idx_to_spacer(x) for x in reads]#[unwrap_idx_to_spacer(x.index_to_cluster) for x in reads]\n",
    "    pointers = [0 for i in range(len(reads))]\n",
    "    merged_sp_to_idxes = {}\n",
    "    old_idx_to_new_idx = [{} for i in range(len(reads))]\n",
    "    \n",
    "    curr = 0\n",
    "    while continue_steps(spacers_lists, pointers):\n",
    "        for i in range(len(reads)):\n",
    "            if pointers[i] < len(reads[i]):\n",
    "                spacer = spacers_lists[i][pointers[i]]\n",
    "                \n",
    "                dist, closest = ca.find_closest(merged_sp_to_idxes, spacer)\n",
    "                if dist > t:\n",
    "                    merged_sp_to_idxes[spacer] = curr\n",
    "                    #new_sp_to_ids[i][spacer] = curr\n",
    "                    old_idx_to_new_idx[i][pointers[i]] = curr\n",
    "                    curr += 1\n",
    "                else:\n",
    "                    old_idx_to_new_idx[i][pointers[i]] = merged_sp_to_idxes[closest]\n",
    "                \n",
    "                pointers[i] += 1\n",
    "                \n",
    "                if curr % 100 == 0:\n",
    "                    print(curr)\n",
    "                \n",
    "\n",
    "                if v:\n",
    "                    print(i, pointers[i], spacer, dist, merged_sp_to_idxes)#, new_sp_to_ids[1])\n",
    "                    \n",
    "    return merged_sp_to_idxes,  old_idx_to_new_idx"
   ]
  },
  {
   "cell_type": "code",
   "execution_count": null,
   "metadata": {
    "collapsed": true
   },
   "outputs": [],
   "source": []
  },
  {
   "cell_type": "code",
   "execution_count": 9,
   "metadata": {
    "collapsed": true
   },
   "outputs": [],
   "source": [
    "def rearange(gr, order):\n",
    "    new_gr = np.zeros((max(order.values()) + 1, max(order.values()) + 1))\n",
    "\n",
    "    for i in tqdm.tqdm(range(len(order.keys()))):\n",
    "        for j in range(len(order.keys())):\n",
    "            new_gr[order[i], order[j]] = gr[i, j]\n",
    "\n",
    "    return new_gr"
   ]
  },
  {
   "cell_type": "code",
   "execution_count": null,
   "metadata": {
    "collapsed": true
   },
   "outputs": [],
   "source": []
  },
  {
   "cell_type": "code",
   "execution_count": null,
   "metadata": {
    "collapsed": true
   },
   "outputs": [],
   "source": []
  },
  {
   "cell_type": "code",
   "execution_count": 11,
   "metadata": {
    "collapsed": true
   },
   "outputs": [],
   "source": [
    "paths = [\n",
    "    '/home/rykachevskiy/CRISPR_research/data/patients/27',\n",
    "]\n",
    "\n"
   ]
  },
  {
   "cell_type": "code",
   "execution_count": null,
   "metadata": {
    "collapsed": true
   },
   "outputs": [],
   "source": []
  },
  {
   "cell_type": "code",
   "execution_count": 55,
   "metadata": {},
   "outputs": [
    {
     "name": "stdout",
     "output_type": "stream",
     "text": [
      "/home/rykachevskiy/CRISPR_research/data/patients/27/out/pairs/27_S1_L001_R1_001.fastq.gz_pairs.txt\n"
     ]
    },
    {
     "name": "stderr",
     "output_type": "stream",
     "text": [
      "100%|██████████| 477/477 [00:00<00:00, 2229.50it/s]\n"
     ]
    },
    {
     "name": "stdout",
     "output_type": "stream",
     "text": [
      "calc embs\n"
     ]
    }
   ],
   "source": [
    "res_all = [process_path(x) for x in paths]"
   ]
  },
  {
   "cell_type": "code",
   "execution_count": 56,
   "metadata": {
    "collapsed": true
   },
   "outputs": [],
   "source": [
    "reads = [x[0] for x in res_all]\n",
    "grs = [x[1] for x in res_all]\n",
    "embs = [x[2] for x in res_all]"
   ]
  },
  {
   "cell_type": "code",
   "execution_count": 57,
   "metadata": {
    "collapsed": true
   },
   "outputs": [],
   "source": [
    "gr = grs[0]"
   ]
  },
  {
   "cell_type": "code",
   "execution_count": 403,
   "metadata": {},
   "outputs": [
    {
     "data": {
      "text/plain": [
       "(346, 346)"
      ]
     },
     "execution_count": 403,
     "metadata": {},
     "output_type": "execute_result"
    }
   ],
   "source": [
    "gr.shape"
   ]
  },
  {
   "cell_type": "code",
   "execution_count": 407,
   "metadata": {
    "scrolled": false
   },
   "outputs": [
    {
     "data": {
      "image/png": "[encoded data removed]",
      "text/plain": [
       "<matplotlib.figure.Figure at 0x7f58f9ddc278>"
      ]
     },
     "metadata": {},
     "output_type": "display_data"
    }
   ],
   "source": [
    "cut = 70\n",
    "ca.plot_grs(#grs_m[0][:cut, :cut],\n",
    "            grs[0][:cut, :cut],\n",
    "            grs[0][:cut, :cut],\n",
    "            #preds[:cut, :cut],\n",
    "            #grs_m[2][:cut, :cut],\n",
    "            log = 1, \n",
    "            s = 20)\n",
    "plt.show()"
   ]
  },
  {
   "cell_type": "code",
   "execution_count": null,
   "metadata": {
    "collapsed": true
   },
   "outputs": [],
   "source": []
  },
  {
   "cell_type": "code",
   "execution_count": 340,
   "metadata": {
    "collapsed": true
   },
   "outputs": [],
   "source": [
    "gr_copy = np.copy(gr)"
   ]
  },
  {
   "cell_type": "code",
   "execution_count": 341,
   "metadata": {
    "collapsed": true
   },
   "outputs": [],
   "source": [
    "gr_copy[gr < 25] = 0 "
   ]
  },
  {
   "cell_type": "code",
   "execution_count": 24,
   "metadata": {},
   "outputs": [
    {
     "data": {
      "text/plain": [
       "(array([665,  48,  31,   1,   1,   1,   1,   1,   1,   1]),\n",
       " array([ 67,  19, 218,  49, 136,  66,  21, 224, 138,  40]))"
      ]
     },
     "execution_count": 24,
     "metadata": {},
     "output_type": "execute_result"
    }
   ],
   "source": [
    "get_top_stats(gr.T, 53)"
   ]
  },
  {
   "cell_type": "code",
   "execution_count": 63,
   "metadata": {
    "scrolled": true
   },
   "outputs": [
    {
     "data": {
      "image/png": "[encoded data removed]",
      "text/plain": [
       "<matplotlib.figure.Figure at 0x7f58ebacccf8>"
      ]
     },
     "metadata": {},
     "output_type": "display_data"
    }
   ],
   "source": [
    "ca.plot_gr(gr_copy[:20,:20], s = 8)\n",
    "plt.show()"
   ]
  },
  {
   "cell_type": "code",
   "execution_count": 366,
   "metadata": {
    "collapsed": true
   },
   "outputs": [],
   "source": [
    "def get_routes(graph, route, routes, vertex, verbose=0):\n",
    "    candidates = np.where(graph[vertex] > 0)[0]\n",
    "    #print(candidates)\n",
    "    if len(candidates) == 0:\n",
    "        #print(\"a\", routes)\n",
    "        if verbose: \n",
    "            print(vertex, 'no edges')\n",
    "        routes.append(route)\n",
    "    else:\n",
    "        is_final = 1\n",
    "        for candidate in candidates:\n",
    "            \n",
    "#             if (len(route) < 2 and (not candidate in route)) or ((not candidate in route) and \\\n",
    "#               (np.abs(gr[route[-1], candidate] - np.median(ca.get_weights(graph, [route])[0]) \\\n",
    "#                       / np.median(ca.get_weights(graph, [route])[0] < 0.5)))):\n",
    "            if not candidate in route:\n",
    "\n",
    "                if len(route) > 1:\n",
    "                    #m = np.median(ca.get_weights(graph, [route])[0])\n",
    "                    weights = ca.get_weights(graph, [route])[0]\n",
    "                    min_idx = np.argmin([abs(x -  gr[route[-1], candidate]) for x in weights])\n",
    "                    m = abs(weights[min_idx] - gr[route[-1], candidate])\n",
    "                    if verbose: \n",
    "                        print(route,\n",
    "                              candidate,\n",
    "                              ca.get_weights(graph, [route])[0],\n",
    "                              gr[route[-1],candidate],\n",
    "                              m,\n",
    "                              m / min(weights[min_idx], gr[route[-1], candidate]) )                 \n",
    "                if (len(route) <= 1) or m / min(weights[min_idx], gr[route[-1], candidate]) < 1.5:\n",
    "                    is_final = 0\n",
    "                    new_route = [x for x in route]\n",
    "                    new_route.append(candidate)\n",
    "                    #print('n', new_route)\n",
    "                    get_routes(graph, new_route, routes,candidate, verbose)\n",
    "        if is_final:\n",
    "            #print(\"a\", routes)\n",
    "            routes.append(route)"
   ]
  },
  {
   "cell_type": "code",
   "execution_count": 367,
   "metadata": {
    "collapsed": true
   },
   "outputs": [],
   "source": [
    "def restore_arrays_all(graph):\n",
    "    start_vertexes = np.arange(gr.shape[0])#np.where(graph.sum(0) == 0)[0]\n",
    "\n",
    "    answ = []\n",
    "\n",
    "    for vertex in start_vertexes:\n",
    "        routes = []\n",
    "        route = [vertex]\n",
    "        get_routes(graph, route, routes, vertex)\n",
    "\n",
    "        answ.extend(routes)\n",
    "\n",
    "    return answ"
   ]
  },
  {
   "cell_type": "code",
   "execution_count": 368,
   "metadata": {
    "scrolled": true
   },
   "outputs": [
    {
     "data": {
      "text/plain": [
       "(array([4045,    0,    0,    0,    0,    0,    0,    0,    0,    0]),\n",
       " array([  8, 345, 118, 110, 111, 112, 113, 114, 115, 116]))"
      ]
     },
     "execution_count": 368,
     "metadata": {},
     "output_type": "execute_result"
    }
   ],
   "source": [
    "get_top_stats(gr_copy.T, 1)"
   ]
  },
  {
   "cell_type": "code",
   "execution_count": 369,
   "metadata": {},
   "outputs": [
    {
     "data": {
      "text/plain": [
       "[[146, 63]]"
      ]
     },
     "execution_count": 369,
     "metadata": {},
     "output_type": "execute_result"
    }
   ],
   "source": [
    "routes[:2]"
   ]
  },
  {
   "cell_type": "code",
   "execution_count": 370,
   "metadata": {
    "collapsed": true
   },
   "outputs": [
    {
     "name": "stdout",
     "output_type": "stream",
     "text": [
      "[169, 110] 144 [220] 219 1 0.00456621004566\n",
      "[169, 110, 144] 197 [220, 219] 114 105 0.921052631579\n",
      "197 no edges\n",
      "[169, 110] 162 [220] 105 115 1.09523809524\n",
      "[169, 110, 162] 118 [220, 105] 131 26 0.247619047619\n",
      "[169, 110, 162, 118] 105 [220, 105, 131] 379 159 0.722727272727\n",
      "[169, 110, 162, 118, 105] 62 [220, 105, 131, 379] 219 1 0.00456621004566\n",
      "[169, 110, 162, 118, 105, 62] 13 [220, 105, 131, 379, 219] 57 48 0.842105263158\n",
      "[169, 110, 162, 118, 105, 62, 13] 12 [220, 105, 131, 379, 219, 57] 2722 2343 6.18205804749\n",
      "[169, 110, 162, 118, 105, 62, 13] 37 [220, 105, 131, 379, 219, 57] 29 28 0.965517241379\n",
      "[169, 110, 162, 118, 105, 62, 13, 37] 34 [220, 105, 131, 379, 219, 57, 29] 1184 805 2.12401055409\n",
      "[169, 110, 162, 118, 105, 62, 13, 37] 95 [220, 105, 131, 379, 219, 57, 29] 59 2 0.0350877192982\n",
      "[169, 110, 162, 118, 105, 62, 13, 37, 95] 40 [220, 105, 131, 379, 219, 57, 29, 59] 26 3 0.115384615385\n",
      "[169, 110, 162, 118, 105, 62, 13, 37, 95, 40] 46 [220, 105, 131, 379, 219, 57, 29, 59, 26] 923 544 1.43535620053\n",
      "[169, 110, 162, 118, 105, 62, 13, 37, 95, 40, 46] 111 [220, 105, 131, 379, 219, 57, 29, 59, 26, 923] 512 133 0.35092348285\n",
      "[169, 110, 162, 118, 105, 62, 13, 37, 95, 40, 46, 111] 164 [220, 105, 131, 379, 219, 57, 29, 59, 26, 923, 512] 55 2 0.0363636363636\n",
      "[169, 110, 162, 118, 105, 62, 13, 37, 95, 40, 46, 111, 164] 121 [220, 105, 131, 379, 219, 57, 29, 59, 26, 923, 512, 55] 190 29 0.152631578947\n",
      "[169, 110, 162, 118, 105, 62, 13, 37, 95, 40, 46, 111, 164, 121] 94 [220, 105, 131, 379, 219, 57, 29, 59, 26, 923, 512, 55, 190] 253 33 0.15\n",
      "[169, 110, 162, 118, 105, 62, 13, 37, 95] 100 [220, 105, 131, 379, 219, 57, 29, 59] 30 1 0.0344827586207\n",
      "[169, 110, 162, 118, 105, 62, 13, 37, 95, 100] 184 [220, 105, 131, 379, 219, 57, 29, 59, 30] 87 18 0.206896551724\n",
      "[169, 110, 162, 118, 105, 62, 13, 37, 95, 100, 184] 216 [220, 105, 131, 379, 219, 57, 29, 59, 30, 87] 64 5 0.0847457627119\n",
      "216 no edges\n",
      "[169, 110, 162, 118, 105, 62, 13, 37, 95] 109 [220, 105, 131, 379, 219, 57, 29, 59] 362 17 0.0469613259669\n",
      "[169, 110, 162, 118, 105, 62, 13, 37, 95, 109] 178 [220, 105, 131, 379, 219, 57, 29, 59, 362] 192 27 0.140625\n",
      "178 no edges\n",
      "[169, 110, 162, 118, 105, 62, 13] 203 [220, 105, 131, 379, 219, 57] 39 18 0.461538461538\n",
      "[169, 110, 162, 118, 105, 62, 13, 203] 205 [220, 105, 131, 379, 219, 57, 39] 51 6 0.117647058824\n",
      "[169, 110, 162, 118, 105, 62, 13, 203, 205] 152 [220, 105, 131, 379, 219, 57, 39, 51] 56 1 0.0178571428571\n",
      "[169, 110, 162, 118, 105, 62, 13, 203, 205, 152] 159 [220, 105, 131, 379, 219, 57, 39, 51, 56] 133 2 0.0152671755725\n",
      "[169, 110, 162, 118, 105, 62, 13, 203, 205, 152, 159] 88 [220, 105, 131, 379, 219, 57, 39, 51, 56, 133] 133 0 0.0\n",
      "88 no edges\n",
      "[169, 110, 162, 118, 105, 62, 13, 203, 205, 152] 228 [220, 105, 131, 379, 219, 57, 39, 51, 56] 56 0 0.0\n",
      "[169, 110, 162, 118, 105, 62, 13, 203, 205, 152, 228] 172 [220, 105, 131, 379, 219, 57, 39, 51, 56, 56] 38 1 0.0263157894737\n",
      "[169, 110, 162, 118, 105, 62, 13, 203, 205, 152, 228, 172] 161 [220, 105, 131, 379, 219, 57, 39, 51, 56, 56, 38] 161 30 0.229007633588\n",
      "[169, 110, 162, 118, 105, 62, 13, 203, 205, 152, 228, 172, 161] 189 [220, 105, 131, 379, 219, 57, 39, 51, 56, 56, 38, 161] 86 19 0.220930232558\n",
      "[169, 110, 162, 118, 105, 62, 13, 203, 205, 152, 228, 172, 161, 189] 201 [220, 105, 131, 379, 219, 57, 39, 51, 56, 56, 38, 161, 86] 64 7 0.122807017544\n",
      "[169, 110, 162, 118, 105, 62, 13, 203, 205, 152, 228, 172, 161, 189, 201] 253 [220, 105, 131, 379, 219, 57, 39, 51, 56, 56, 38, 161, 86, 64] 48 3 0.0625\n",
      "253 no edges\n",
      "[169, 110, 162, 118, 105, 62] 73 [220, 105, 131, 379, 219] 762 383 1.01055408971\n",
      "[169, 110, 162, 118, 105, 62, 73] 84 [220, 105, 131, 379, 219, 762] 311 68 0.218649517685\n",
      "[169, 110, 162, 118, 105, 62, 73, 84] 90 [220, 105, 131, 379, 219, 762, 311] 574 188 0.327526132404\n",
      "[169, 110, 162, 118, 105, 62, 73, 84, 90] 106 [220, 105, 131, 379, 219, 762, 311, 574] 283 28 0.0989399293286\n",
      "[169, 110, 162, 118, 105, 62, 73, 84, 90, 106] 130 [220, 105, 131, 379, 219, 762, 311, 574, 283] 321 10 0.032154340836\n",
      "[169, 110, 162, 118, 105, 62, 73, 84, 90, 106, 130] 214 [220, 105, 131, 379, 219, 762, 311, 574, 283, 321] 90 15 0.166666666667\n",
      "214 no edges\n",
      "[169, 110, 162, 118, 105, 62, 73, 84] 101 [220, 105, 131, 379, 219, 762, 311] 38 67 1.76315789474\n"
     ]
    },
    {
     "data": {
      "text/plain": [
       "[[169, 110, 144, 197],\n",
       " [169, 110, 162, 118, 105, 62, 13, 37, 95, 40, 46, 111, 164, 121, 94],\n",
       " [169, 110, 162, 118, 105, 62, 13, 37, 95, 100, 184, 216],\n",
       " [169, 110, 162, 118, 105, 62, 13, 37, 95, 109, 178],\n",
       " [169, 110, 162, 118, 105, 62, 13, 203, 205, 152, 159, 88],\n",
       " [169,\n",
       "  110,\n",
       "  162,\n",
       "  118,\n",
       "  105,\n",
       "  62,\n",
       "  13,\n",
       "  203,\n",
       "  205,\n",
       "  152,\n",
       "  228,\n",
       "  172,\n",
       "  161,\n",
       "  189,\n",
       "  201,\n",
       "  253],\n",
       " [169, 110, 162, 118, 105, 62, 73, 84, 90, 106, 130, 214]]"
      ]
     },
     "execution_count": 370,
     "metadata": {},
     "output_type": "execute_result"
    }
   ],
   "source": [
    "routes = []\n",
    "get_routes(gr_copy, [169], routes, 169, verbose=True)\n",
    "routes"
   ]
  },
  {
   "cell_type": "code",
   "execution_count": 371,
   "metadata": {
    "collapsed": true
   },
   "outputs": [],
   "source": [
    "gr_copy = np.copy(gr)"
   ]
  },
  {
   "cell_type": "code",
   "execution_count": 372,
   "metadata": {
    "collapsed": true
   },
   "outputs": [],
   "source": [
    "gr_copy[gr < 25] = 0 "
   ]
  },
  {
   "cell_type": "code",
   "execution_count": 373,
   "metadata": {
    "scrolled": true
   },
   "outputs": [
    {
     "data": {
      "text/plain": [
       "245"
      ]
     },
     "execution_count": 373,
     "metadata": {},
     "output_type": "execute_result"
    }
   ],
   "source": [
    "all_2 = sorted(restore_arrays_all(gr_copy), key = len)[::-1]\n",
    "len([x for x in all_2 if len(x) > 2])"
   ]
  },
  {
   "cell_type": "code",
   "execution_count": 374,
   "metadata": {
    "collapsed": true
   },
   "outputs": [],
   "source": [
    "f_all_2 =[]\n",
    "for a in all_2:\n",
    "    if not ca.a_in_any_b(a, f_all_2):\n",
    "        f_all_2.append(a)"
   ]
  },
  {
   "cell_type": "code",
   "execution_count": 375,
   "metadata": {
    "collapsed": true
   },
   "outputs": [],
   "source": [
    "for i in range(300):\n",
    "    if not i in ca.unwrap_nested(f_all_2):\n",
    "        print(i)"
   ]
  },
  {
   "cell_type": "code",
   "execution_count": 382,
   "metadata": {
    "scrolled": false
   },
   "outputs": [
    {
     "data": {
      "text/plain": [
       "[[169,\n",
       "  110,\n",
       "  162,\n",
       "  118,\n",
       "  105,\n",
       "  62,\n",
       "  13,\n",
       "  203,\n",
       "  205,\n",
       "  152,\n",
       "  228,\n",
       "  172,\n",
       "  161,\n",
       "  189,\n",
       "  201,\n",
       "  253],\n",
       " [164, 121, 94, 37, 34, 62, 13, 203, 205, 152, 228, 172, 161, 189, 201, 253],\n",
       " [169, 110, 162, 118, 105, 62, 13, 37, 95, 40, 46, 111, 164, 121, 94],\n",
       " [66, 133, 37, 95, 13, 203, 205, 152, 228, 172, 161, 189, 201, 253],\n",
       " [250, 182, 19, 13, 203, 205, 152, 228, 172, 161, 189, 201, 253],\n",
       " [218, 53, 19, 13, 203, 205, 152, 228, 172, 161, 189, 201, 253],\n",
       " [51, 160, 157, 209, 241, 176, 152, 228, 172, 161, 189, 201, 253],\n",
       " [169, 110, 162, 118, 105, 62, 73, 84, 90, 106, 130, 214],\n",
       " [169, 110, 162, 118, 105, 62, 13, 203, 205, 152, 159, 88],\n",
       " [169, 110, 162, 118, 105, 62, 13, 37, 95, 100, 184, 216],\n",
       " [164, 121, 94, 37, 34, 62, 73, 84, 90, 106, 130, 214],\n",
       " [164, 121, 94, 37, 34, 62, 13, 203, 205, 152, 159, 88],\n",
       " [80, 19, 13, 203, 205, 152, 228, 172, 161, 189, 201, 253],\n",
       " [169, 110, 162, 118, 105, 62, 13, 37, 95, 109, 178],\n",
       " [164, 121, 94, 37, 34, 62, 13, 12, 100, 184, 216],\n",
       " [250, 182, 19, 53, 13, 203, 205, 152, 228, 172],\n",
       " [250, 182, 19, 53, 13, 203, 205, 152, 159, 88],\n",
       " [250, 182, 19, 53, 13, 37, 95, 100, 184, 216],\n",
       " [164, 121, 94, 37, 34, 62, 13, 12, 114, 171],\n",
       " [164, 121, 94, 37, 34, 62, 13, 12, 101, 149],\n",
       " [148, 104, 85, 65, 80, 67, 53, 52, 60, 145],\n",
       " [66, 133, 37, 95, 13, 203, 205, 152, 159, 88],\n",
       " [250, 182, 19, 13, 203, 205, 152, 159, 88],\n",
       " [250, 182, 19, 13, 37, 95, 100, 184, 216],\n",
       " [218, 53, 19, 13, 203, 205, 152, 159, 88],\n",
       " [218, 53, 19, 13, 37, 95, 100, 184, 216],\n",
       " [164, 121, 94, 37, 34, 48, 74, 125, 165],\n",
       " [80, 19, 53, 13, 203, 205, 152, 228, 172],\n",
       " [80, 19, 53, 13, 203, 205, 152, 159, 88],\n",
       " [80, 19, 53, 13, 37, 95, 100, 184, 216],\n",
       " [51, 160, 157, 209, 241, 176, 152, 159, 88],\n",
       " [250, 182, 19, 53, 13, 37, 95, 40],\n",
       " [250, 182, 19, 53, 12, 100, 184, 216],\n",
       " [218, 53, 13, 203, 205, 152, 228, 172],\n",
       " [218, 53, 13, 203, 205, 152, 159, 88],\n",
       " [218, 53, 13, 37, 95, 100, 184, 216],\n",
       " [80, 19, 13, 203, 205, 152, 159, 88],\n",
       " [80, 19, 13, 37, 95, 100, 184, 216],\n",
       " [34, 62, 13, 37, 95, 100, 184, 216],\n",
       " [250, 182, 19, 13, 37, 95, 40],\n",
       " [250, 182, 19, 12, 100, 184, 216],\n",
       " [218, 53, 19, 13, 37, 95, 40],\n",
       " [218, 53, 19, 12, 100, 184, 216],\n",
       " [103, 13, 203, 205, 152, 228, 172],\n",
       " [103, 13, 203, 205, 152, 159, 88],\n",
       " [103, 13, 37, 95, 100, 184, 216],\n",
       " [80, 19, 53, 13, 37, 95, 40],\n",
       " [80, 19, 53, 12, 100, 184, 216],\n",
       " [66, 133, 37, 95, 100, 184, 216],\n",
       " [49, 13, 203, 205, 152, 228, 172],\n",
       " [49, 13, 203, 205, 152, 159, 88],\n",
       " [49, 13, 37, 95, 100, 184, 216],\n",
       " [31, 13, 203, 205, 152, 228, 172],\n",
       " [31, 13, 203, 205, 152, 159, 88],\n",
       " [31, 13, 37, 95, 100, 184, 216],\n",
       " [250, 182, 19, 53, 208, 245],\n",
       " [250, 182, 19, 53, 12, 114],\n",
       " [218, 53, 13, 37, 95, 40],\n",
       " [218, 53, 12, 100, 184, 216],\n",
       " [196, 135, 31, 134, 207, 269],\n",
       " [82, 19, 21, 36, 15, 33],\n",
       " [80, 19, 13, 37, 95, 40],\n",
       " [80, 19, 12, 100, 184, 216],\n",
       " [78, 56, 97, 79, 76, 149],\n",
       " [69, 25, 28, 32, 29, 59],\n",
       " [34, 62, 13, 37, 95, 40],\n",
       " [17, 14, 8, 1, 0, 4],\n",
       " [11, 2, 3, 6, 9, 18],\n",
       " [250, 182, 19, 53, 218],\n",
       " [250, 182, 19, 12, 114],\n",
       " [218, 53, 19, 12, 114],\n",
       " [191, 181, 200, 223, 151],\n",
       " [153, 91, 50, 27, 87],\n",
       " [137, 57, 40, 46, 111],\n",
       " [127, 12, 100, 184, 216],\n",
       " [122, 108, 89, 35, 51],\n",
       " [103, 13, 37, 95, 40],\n",
       " [80, 19, 53, 208, 245],\n",
       " [80, 19, 53, 12, 114],\n",
       " [66, 133, 37, 95, 40],\n",
       " [49, 13, 37, 95, 40],\n",
       " [31, 13, 37, 95, 40],\n",
       " [250, 182, 19, 173],\n",
       " [218, 53, 208, 245],\n",
       " [218, 53, 19, 173],\n",
       " [218, 53, 12, 114],\n",
       " [194, 177, 175, 195],\n",
       " [170, 136, 132, 154],\n",
       " [169, 110, 144, 197],\n",
       " [146, 63, 39, 77],\n",
       " [139, 103, 114, 171],\n",
       " [80, 19, 53, 218],\n",
       " [80, 19, 12, 114],\n",
       " [55, 22, 20, 43],\n",
       " [30, 16, 38, 83],\n",
       " [23, 5, 7, 31],\n",
       " [265, 208, 245],\n",
       " [249, 211, 187],\n",
       " [226, 199, 225],\n",
       " [196, 135, 70],\n",
       " [187, 95, 13],\n",
       " [165, 74, 40],\n",
       " [165, 74, 15],\n",
       " [128, 27, 91],\n",
       " [127, 12, 114],\n",
       " [126, 117, 138],\n",
       " [123, 155, 174],\n",
       " [119, 66, 141],\n",
       " [119, 27, 91],\n",
       " [102, 49, 92],\n",
       " [93, 54, 11],\n",
       " [84, 101, 149],\n",
       " [80, 19, 173],\n",
       " [76, 57, 5],\n",
       " [71, 45, 88],\n",
       " [61, 113, 5],\n",
       " [60, 180, 173],\n",
       " [58, 66, 141],\n",
       " [24, 10, 41],\n",
       " [277, 276],\n",
       " [273, 242],\n",
       " [271, 256],\n",
       " [268, 270],\n",
       " [264, 272],\n",
       " [262, 284],\n",
       " [259, 267],\n",
       " [257, 281],\n",
       " [255, 261],\n",
       " [254, 266],\n",
       " [252, 244],\n",
       " [251, 263],\n",
       " [248, 230],\n",
       " [247, 260],\n",
       " [246, 267],\n",
       " [240, 238],\n",
       " [239, 190],\n",
       " [237, 258],\n",
       " [236, 126],\n",
       " [234, 243],\n",
       " [232, 233],\n",
       " [231, 220],\n",
       " [229, 222],\n",
       " [224, 235],\n",
       " [221, 124],\n",
       " [217, 122],\n",
       " [213, 139],\n",
       " [212, 202],\n",
       " [210, 215],\n",
       " [206, 182],\n",
       " [198, 193],\n",
       " [192, 82],\n",
       " [190, 204],\n",
       " [188, 179],\n",
       " [185, 186],\n",
       " [183, 173],\n",
       " [183, 115],\n",
       " [180, 107],\n",
       " [168, 166],\n",
       " [167, 55],\n",
       " [165, 283],\n",
       " [158, 129],\n",
       " [156, 219],\n",
       " [154, 227],\n",
       " [151, 13],\n",
       " [150, 127],\n",
       " [147, 280],\n",
       " [145, 278],\n",
       " [143, 163],\n",
       " [142, 123],\n",
       " [138, 143],\n",
       " [133, 42],\n",
       " [129, 78],\n",
       " [128, 147],\n",
       " [124, 140],\n",
       " [120, 131],\n",
       " [115, 116],\n",
       " [107, 100],\n",
       " [98, 99],\n",
       " [92, 64],\n",
       " [89, 50],\n",
       " [86, 96],\n",
       " [75, 72],\n",
       " [72, 170],\n",
       " [70, 81],\n",
       " [68, 58],\n",
       " [66, 5],\n",
       " [64, 61],\n",
       " [59, 68],\n",
       " [51, 35],\n",
       " [44, 26],\n",
       " [43, 156],\n",
       " [42, 47],\n",
       " [41, 71],\n",
       " [26, 112],\n",
       " [18, 17],\n",
       " [7, 57],\n",
       " [7, 48],\n",
       " [4, 86],\n",
       " [345],\n",
       " [344],\n",
       " [343],\n",
       " [342],\n",
       " [341],\n",
       " [340],\n",
       " [339],\n",
       " [338],\n",
       " [337],\n",
       " [336],\n",
       " [335],\n",
       " [334],\n",
       " [333],\n",
       " [332],\n",
       " [331],\n",
       " [330],\n",
       " [329],\n",
       " [328],\n",
       " [327],\n",
       " [326],\n",
       " [325],\n",
       " [324],\n",
       " [323],\n",
       " [322],\n",
       " [321],\n",
       " [320],\n",
       " [319],\n",
       " [318],\n",
       " [317],\n",
       " [316],\n",
       " [315],\n",
       " [314],\n",
       " [313],\n",
       " [312],\n",
       " [311],\n",
       " [310],\n",
       " [309],\n",
       " [308],\n",
       " [307],\n",
       " [306],\n",
       " [305],\n",
       " [304],\n",
       " [303],\n",
       " [302],\n",
       " [301],\n",
       " [300],\n",
       " [299],\n",
       " [298],\n",
       " [297],\n",
       " [296],\n",
       " [295],\n",
       " [294],\n",
       " [293],\n",
       " [292],\n",
       " [291],\n",
       " [290],\n",
       " [289],\n",
       " [288],\n",
       " [287],\n",
       " [286],\n",
       " [285],\n",
       " [282],\n",
       " [279],\n",
       " [275],\n",
       " [274]]"
      ]
     },
     "execution_count": 382,
     "metadata": {},
     "output_type": "execute_result"
    }
   ],
   "source": [
    "f_all_2"
   ]
  },
  {
   "cell_type": "code",
   "execution_count": 376,
   "metadata": {
    "collapsed": true
   },
   "outputs": [],
   "source": [
    "pred_gr = ca.graph_from_arrays(f_all_2)[0]"
   ]
  },
  {
   "cell_type": "code",
   "execution_count": 377,
   "metadata": {},
   "outputs": [
    {
     "data": {
      "text/plain": [
       "(array([345,   0,   0,   0,   0,   0,   0,   0,   0,   0]),\n",
       " array([146, 345, 117, 110, 111, 112, 113, 114, 115, 116]))"
      ]
     },
     "execution_count": 377,
     "metadata": {},
     "output_type": "execute_result"
    }
   ],
   "source": [
    "get_top_stats(gr.T, 63)"
   ]
  },
  {
   "cell_type": "code",
   "execution_count": 383,
   "metadata": {},
   "outputs": [
    {
     "name": "stdout",
     "output_type": "stream",
     "text": [
      "[11, 2] 3 [3023] 4513 1490 0.492887859742\n",
      "[11, 2, 3] 6 [3023, 4513] 2619 404 0.154257350134\n",
      "[11, 2, 3, 6] 9 [3023, 4513, 2619] 2624 5 0.00190912562047\n",
      "[11, 2, 3, 6, 9] 18 [3023, 4513, 2619, 2624] 2280 339 0.148684210526\n",
      "[11, 2, 3, 6, 9, 18] 17 [3023, 4513, 2619, 2624, 2280] 457 1823 3.98905908096\n"
     ]
    }
   ],
   "source": [
    "routes = []\n",
    "get_routes(gr_copy, [11], routes, 11, 1)"
   ]
  },
  {
   "cell_type": "code",
   "execution_count": 380,
   "metadata": {
    "scrolled": true
   },
   "outputs": [
    {
     "data": {
      "text/plain": [
       "[[2313, 992, 4045, 7580, 6080]]"
      ]
     },
     "execution_count": 380,
     "metadata": {},
     "output_type": "execute_result"
    }
   ],
   "source": [
    "ca.get_weights(gr_copy, [[17, 14, 8, 1, 0, 4]])"
   ]
  },
  {
   "cell_type": "code",
   "execution_count": 386,
   "metadata": {},
   "outputs": [
    {
     "data": {
      "text/plain": [
       "(array([279,   1,   1,   0,   0,   0,   0,   0,   0,   0]),\n",
       " array([ 71,  88,  67, 108, 110, 111, 112, 113, 114, 115]))"
      ]
     },
     "execution_count": 386,
     "metadata": {},
     "output_type": "execute_result"
    }
   ],
   "source": [
    "get_top_stats(gr, 41)"
   ]
  },
  {
   "cell_type": "code",
   "execution_count": 388,
   "metadata": {},
   "outputs": [
    {
     "data": {
      "text/plain": [
       "[[190, 253, 563, 1184, 102, 57, 2722, 33, 193],\n",
       " [190, 253, 563, 1184, 102, 57, 2722, 43, 87, 64],\n",
       " [885, 397, 291, 721, 270],\n",
       " [291, 304, 675, 454, 486, 665, 510, 867, 321]]"
      ]
     },
     "execution_count": 388,
     "metadata": {},
     "output_type": "execute_result"
    }
   ],
   "source": [
    "ca.get_weights(gr, sorted([x for x in f_all_2 if len(x) > 2],\n",
    "       key = lambda x: np.mean(ca.get_weights(gr, [x])[0]))[::-1][16:20])"
   ]
  },
  {
   "cell_type": "code",
   "execution_count": 389,
   "metadata": {
    "scrolled": false
   },
   "outputs": [],
   "source": [
    "arrs_sorted = sorted([x for x in f_all_2 if len(x) > 2],\n",
    "       key = lambda x: np.mean(ca.get_weights(gr, [x])[0]))[::-1]"
   ]
  },
  {
   "cell_type": "code",
   "execution_count": 400,
   "metadata": {},
   "outputs": [
    {
     "data": {
      "text/plain": [
       "[[17, 14, 8, 1, 0, 4],\n",
       " [11, 2, 3, 6, 9, 18],\n",
       " [23, 5, 7, 31],\n",
       " [24, 10, 41],\n",
       " [30, 16, 38, 83],\n",
       " [82, 19, 21, 36, 15, 33],\n",
       " [55, 22, 20, 43],\n",
       " [69, 25, 28, 32, 29, 59],\n",
       " [71, 45, 88],\n",
       " [146, 63, 39, 77]]"
      ]
     },
     "execution_count": 400,
     "metadata": {},
     "output_type": "execute_result"
    }
   ],
   "source": [
    "arrs_sorted[:10]"
   ]
  },
  {
   "cell_type": "code",
   "execution_count": 390,
   "metadata": {
    "collapsed": true
   },
   "outputs": [],
   "source": [
    "r = reads[0]"
   ]
  },
  {
   "cell_type": "code",
   "execution_count": 401,
   "metadata": {
    "collapsed": true
   },
   "outputs": [],
   "source": [
    "ca.write_list_of_lists(\"./arrays_num_27p_cut25_range15.txt\",[[str(x) for x in y] for y in arrs_sorted])"
   ]
  },
  {
   "cell_type": "code",
   "execution_count": 399,
   "metadata": {},
   "outputs": [],
   "source": [
    "ca.write_list_of_lists(\"./weights_27p_cut25_range15.txt\", [[str(x) for x in y] for y in ca.get_weights(gr, arrs_sorted)])"
   ]
  },
  {
   "cell_type": "code",
   "execution_count": 402,
   "metadata": {
    "collapsed": true
   },
   "outputs": [],
   "source": [
    "ca.dict_to_csv(r.index_to_cluster, './idx_to_sp')"
   ]
  },
  {
   "cell_type": "code",
   "execution_count": 296,
   "metadata": {},
   "outputs": [
    {
     "data": {
      "text/plain": [
       "50"
      ]
     },
     "execution_count": 296,
     "metadata": {},
     "output_type": "execute_result"
    }
   ],
   "source": [
    "min(ca.unwrap_nested(ca.get_weights(gr_copy, all_2)))"
   ]
  },
  {
   "cell_type": "code",
   "execution_count": 297,
   "metadata": {
    "collapsed": true
   },
   "outputs": [],
   "source": [
    "weights = ca.get_weights(gr_copy, all_2)"
   ]
  },
  {
   "cell_type": "code",
   "execution_count": 298,
   "metadata": {
    "scrolled": true
   },
   "outputs": [
    {
     "data": {
      "text/plain": [
       "[[85, 65, 80, 67, 53, 52, 60, 145],\n",
       " [65, 80, 67, 53, 52, 60, 145],\n",
       " [82, 19, 21, 36, 15, 33],\n",
       " [80, 67, 53, 52, 60, 145],\n",
       " [69, 25, 28, 32, 29, 59],\n",
       " [11, 2, 3, 6, 9, 18],\n",
       " [137, 57, 40, 46, 111],\n",
       " [73, 84, 90, 106, 130],\n",
       " [67, 53, 52, 60, 145],\n",
       " [56, 97, 79, 76, 149]]"
      ]
     },
     "execution_count": 298,
     "metadata": {},
     "output_type": "execute_result"
    }
   ],
   "source": [
    "all_2[:10]"
   ]
  },
  {
   "cell_type": "code",
   "execution_count": 299,
   "metadata": {},
   "outputs": [
    {
     "data": {
      "text/plain": [
       "array([[ 0,  0,  0],\n",
       "       [65,  0, 48],\n",
       "       [29, 47,  0]])"
      ]
     },
     "execution_count": 299,
     "metadata": {},
     "output_type": "execute_result"
    }
   ],
   "source": [
    "gr[np.array([13,19,53])][:, np.array([13,19,53])]"
   ]
  },
  {
   "cell_type": "code",
   "execution_count": 290,
   "metadata": {},
   "outputs": [
    {
     "data": {
      "text/plain": [
       "[[102, 57, 39, 51, 56, 56, 38, 161, 86, 64, 48],\n",
       " [51, 26, 48, 29, 39, 51, 56, 56, 38],\n",
       " [51, 26, 48, 29, 29, 59, 30, 87, 64]]"
      ]
     },
     "execution_count": 290,
     "metadata": {},
     "output_type": "execute_result"
    }
   ],
   "source": [
    "weights[:3]"
   ]
  },
  {
   "cell_type": "code",
   "execution_count": 267,
   "metadata": {},
   "outputs": [
    {
     "data": {
      "image/png": "[encoded data removed]",
      "text/plain": [
       "<matplotlib.figure.Figure at 0x7f58fa10e8d0>"
      ]
     },
     "metadata": {},
     "output_type": "display_data"
    }
   ],
   "source": [
    "plt.hist(gr[gr < 100].flatten(), bins = 100, log = 2)\n",
    "plt.show()"
   ]
  },
  {
   "cell_type": "code",
   "execution_count": 264,
   "metadata": {},
   "outputs": [
    {
     "data": {
      "text/plain": [
       "20.085536923187668"
      ]
     },
     "execution_count": 264,
     "metadata": {},
     "output_type": "execute_result"
    }
   ],
   "source": [
    "np.exp(3)"
   ]
  },
  {
   "cell_type": "code",
   "execution_count": 249,
   "metadata": {},
   "outputs": [
    {
     "data": {
      "text/plain": [
       "25"
      ]
     },
     "execution_count": 249,
     "metadata": {},
     "output_type": "execute_result"
    }
   ],
   "source": [
    "gr[19, 173]"
   ]
  },
  {
   "cell_type": "code",
   "execution_count": 250,
   "metadata": {},
   "outputs": [
    {
     "data": {
      "text/plain": [
       "48"
      ]
     },
     "execution_count": 250,
     "metadata": {},
     "output_type": "execute_result"
    }
   ],
   "source": [
    "gr[19, 53]"
   ]
  },
  {
   "cell_type": "code",
   "execution_count": 251,
   "metadata": {},
   "outputs": [
    {
     "data": {
      "text/plain": [
       "16"
      ]
     },
     "execution_count": 251,
     "metadata": {},
     "output_type": "execute_result"
    }
   ],
   "source": [
    "gr[173, 13]"
   ]
  },
  {
   "cell_type": "code",
   "execution_count": 252,
   "metadata": {},
   "outputs": [
    {
     "data": {
      "text/plain": [
       "29"
      ]
     },
     "execution_count": 252,
     "metadata": {},
     "output_type": "execute_result"
    }
   ],
   "source": [
    "gr[53, 13]"
   ]
  },
  {
   "cell_type": "code",
   "execution_count": null,
   "metadata": {
    "collapsed": true
   },
   "outputs": [],
   "source": []
  },
  {
   "cell_type": "code",
   "execution_count": 245,
   "metadata": {},
   "outputs": [
    {
     "data": {
      "text/plain": [
       "[[51, 26, 25, 16, 29, 59, 30, 87, 64, 20, 131]]"
      ]
     },
     "execution_count": 245,
     "metadata": {},
     "output_type": "execute_result"
    }
   ],
   "source": [
    "ca.get_weights(gr_copy, all_2[:1])"
   ]
  },
  {
   "cell_type": "code",
   "execution_count": 409,
   "metadata": {
    "scrolled": false
   },
   "outputs": [
    {
     "data": {
      "image/png": "[encoded data removed]",
      "text/plain": [
       "<matplotlib.figure.Figure at 0x7f58f9ddc2e8>"
      ]
     },
     "metadata": {},
     "output_type": "display_data"
    }
   ],
   "source": [
    "cut = 70\n",
    "ca.plot_grs(#grs_m[0][:cut, :cut],\n",
    "            grs[0][:cut, :cut],\n",
    "            #grs[0][:cut, :cut],\n",
    "            gr_copy[:cut, :cut],\n",
    "            #grs_m[2][:cut, :cut],\n",
    "            log = 1, \n",
    "            s = 20)\n",
    "plt.show()"
   ]
  },
  {
   "cell_type": "code",
   "execution_count": 1,
   "metadata": {},
   "outputs": [
    {
     "ename": "NameError",
     "evalue": "name 'gr_copy' is not defined",
     "output_type": "error",
     "traceback": [
      "\u001b[0;31m---------------------------------------------------------------------------\u001b[0m",
      "\u001b[0;31mNameError\u001b[0m                                 Traceback (most recent call last)",
      "\u001b[0;32m<ipython-input-1-b5c9c83060b4>\u001b[0m in \u001b[0;36m<module>\u001b[0;34m()\u001b[0m\n\u001b[0;32m----> 1\u001b[0;31m \u001b[0mgr_copy\u001b[0m\u001b[0;34m\u001b[0m\u001b[0m\n\u001b[0m",
      "\u001b[0;31mNameError\u001b[0m: name 'gr_copy' is not defined"
     ]
    }
   ],
   "source": [
    "gr_copy"
   ]
  },
  {
   "cell_type": "code",
   "execution_count": 130,
   "metadata": {
    "collapsed": true
   },
   "outputs": [],
   "source": [
    "a_15_all = [x  for x in ca.restore_arrays_all((gr_copy > 0).astype(int)) if len(x) > 3]"
   ]
  },
  {
   "cell_type": "code",
   "execution_count": 134,
   "metadata": {},
   "outputs": [
    {
     "data": {
      "text/plain": [
       "17596"
      ]
     },
     "execution_count": 134,
     "metadata": {},
     "output_type": "execute_result"
    }
   ],
   "source": [
    "len(a_15_all)"
   ]
  },
  {
   "cell_type": "code",
   "execution_count": null,
   "metadata": {
    "collapsed": true
   },
   "outputs": [],
   "source": []
  },
  {
   "cell_type": "code",
   "execution_count": 131,
   "metadata": {
    "collapsed": true
   },
   "outputs": [],
   "source": [
    "w_15_all = ca.get_weights(gr, a_15_all)"
   ]
  },
  {
   "cell_type": "code",
   "execution_count": 132,
   "metadata": {
    "collapsed": true
   },
   "outputs": [],
   "source": [
    "def std_func(arr):\n",
    "    return np.std(np.array(arr) / max(arr))"
   ]
  },
  {
   "cell_type": "code",
   "execution_count": 133,
   "metadata": {
    "collapsed": true
   },
   "outputs": [],
   "source": [
    "stds = [std_func(x) for x in w_15_all]"
   ]
  },
  {
   "cell_type": "code",
   "execution_count": null,
   "metadata": {
    "collapsed": true
   },
   "outputs": [],
   "source": [
    "plt.hist(stds, bins = 100)\n",
    "plt.show()"
   ]
  },
  {
   "cell_type": "code",
   "execution_count": null,
   "metadata": {
    "collapsed": true
   },
   "outputs": [],
   "source": []
  },
  {
   "cell_type": "code",
   "execution_count": 127,
   "metadata": {},
   "outputs": [
    {
     "data": {
      "text/plain": [
       "(array([304,   1,   1,   0,   0,   0,   0,   0,   0,   0]),\n",
       " array([ 85, 133,  15, 117, 110, 111, 112, 113, 114, 115]))"
      ]
     },
     "execution_count": 127,
     "metadata": {},
     "output_type": "execute_result"
    }
   ],
   "source": [
    "get_top_stats(gr, 104)"
   ]
  },
  {
   "cell_type": "code",
   "execution_count": null,
   "metadata": {
    "collapsed": true
   },
   "outputs": [],
   "source": []
  },
  {
   "cell_type": "code",
   "execution_count": 104,
   "metadata": {
    "collapsed": true
   },
   "outputs": [],
   "source": [
    "embs_sq = embs[0].reshape(345, 345, 6)"
   ]
  },
  {
   "cell_type": "code",
   "execution_count": 103,
   "metadata": {},
   "outputs": [
    {
     "data": {
      "text/plain": [
       "array([ 0.99127907,  0.99127907,  0.01371497,  0.02761104,  3.17805383,\n",
       "        3.17805383])"
      ]
     },
     "execution_count": 103,
     "metadata": {},
     "output_type": "execute_result"
    }
   ],
   "source": [
    "embs_sq[7, 40]"
   ]
  },
  {
   "cell_type": "code",
   "execution_count": 105,
   "metadata": {},
   "outputs": [
    {
     "data": {
      "text/plain": [
       "array([ 0.99709302,  0.99709302,  0.05247466,  0.10891089,  4.48863637,\n",
       "        4.48863637])"
      ]
     },
     "execution_count": 105,
     "metadata": {},
     "output_type": "execute_result"
    }
   ],
   "source": [
    "embs_sq[7, 48]"
   ]
  },
  {
   "cell_type": "code",
   "execution_count": 106,
   "metadata": {},
   "outputs": [
    {
     "data": {
      "text/plain": [
       "array([ 1.        ,  1.        ,  0.91592129,  0.94348894,  7.33758774,\n",
       "        7.33758774])"
      ]
     },
     "execution_count": 106,
     "metadata": {},
     "output_type": "execute_result"
    }
   ],
   "source": [
    "embs_sq[7, 31]"
   ]
  },
  {
   "cell_type": "code",
   "execution_count": 92,
   "metadata": {},
   "outputs": [
    {
     "data": {
      "text/plain": [
       "(array([1536,   88,   25,   23,    1,    1,    1,    1,    1,    0]),\n",
       " array([ 31,  48,  57,  40,  85,  68,  41,  23, 119, 113]))"
      ]
     },
     "execution_count": 92,
     "metadata": {},
     "output_type": "execute_result"
    }
   ],
   "source": [
    "get_top_stats(gr, 7)"
   ]
  },
  {
   "cell_type": "code",
   "execution_count": null,
   "metadata": {
    "collapsed": true
   },
   "outputs": [],
   "source": []
  },
  {
   "cell_type": "code",
   "execution_count": null,
   "metadata": {
    "collapsed": true
   },
   "outputs": [],
   "source": []
  },
  {
   "cell_type": "code",
   "execution_count": null,
   "metadata": {
    "collapsed": true
   },
   "outputs": [],
   "source": []
  },
  {
   "cell_type": "code",
   "execution_count": 71,
   "metadata": {},
   "outputs": [
    {
     "data": {
      "text/plain": [
       "(array([600,  21,   1,   1,   1,   1,   1,   1,   1,   1]),\n",
       " array([ 74, 133, 329,   3,   8,   9, 202,  38, 140, 101]))"
      ]
     },
     "execution_count": 71,
     "metadata": {},
     "output_type": "execute_result"
    }
   ],
   "source": [
    "get_top_stats(gr, 48)"
   ]
  },
  {
   "cell_type": "code",
   "execution_count": 77,
   "metadata": {},
   "outputs": [
    {
     "data": {
      "text/plain": [
       "(array([242,  39,   1,   1,   1,   1,   1,   1,   0,   0]),\n",
       " array([ 42,  37,   1, 127,  91, 106,  60,  16, 345, 118]))"
      ]
     },
     "execution_count": 77,
     "metadata": {},
     "output_type": "execute_result"
    }
   ],
   "source": [
    "get_top_stats(gr, 133)"
   ]
  },
  {
   "cell_type": "code",
   "execution_count": 78,
   "metadata": {},
   "outputs": [
    {
     "data": {
      "text/plain": [
       "(array([1184,   59,   14,    4,    1,    1,    1,    1,    0,    0]),\n",
       " array([ 34,  95,  74,  12, 145, 155,   7, 119, 345, 112]))"
      ]
     },
     "execution_count": 78,
     "metadata": {},
     "output_type": "execute_result"
    }
   ],
   "source": [
    "get_top_stats(gr, 37)"
   ]
  },
  {
   "cell_type": "code",
   "execution_count": 79,
   "metadata": {},
   "outputs": [
    {
     "data": {
      "text/plain": [
       "(array([362, 130,  30,  26,   1,   1,   1,   0,   0,   0]),\n",
       " array([109,  13, 100,  40, 134,  60, 129,  94, 121, 114]))"
      ]
     },
     "execution_count": 79,
     "metadata": {},
     "output_type": "execute_result"
    }
   ],
   "source": [
    "get_top_stats(gr, 95)"
   ]
  },
  {
   "cell_type": "code",
   "execution_count": 80,
   "metadata": {},
   "outputs": [
    {
     "data": {
      "text/plain": [
       "(array([2722,   39,   29,   19,    6,    1,    1,    1,    1,    1]),\n",
       " array([ 12, 203,  37,  62, 105, 315,   6,  54,  16,  59]))"
      ]
     },
     "execution_count": 80,
     "metadata": {},
     "output_type": "execute_result"
    }
   ],
   "source": [
    "get_top_stats(gr, 13)"
   ]
  },
  {
   "cell_type": "code",
   "execution_count": 81,
   "metadata": {},
   "outputs": [
    {
     "data": {
      "text/plain": [
       "(array([51, 18,  1,  0,  0,  0,  0,  0,  0,  0]),\n",
       " array([205, 104, 184, 345, 117, 110, 111, 112, 113, 114]))"
      ]
     },
     "execution_count": 81,
     "metadata": {},
     "output_type": "execute_result"
    }
   ],
   "source": [
    "get_top_stats(gr, 203)"
   ]
  },
  {
   "cell_type": "code",
   "execution_count": 82,
   "metadata": {},
   "outputs": [
    {
     "data": {
      "text/plain": [
       "(array([304,   1,   1,   0,   0,   0,   0,   0,   0,   0]),\n",
       " array([ 85, 133,  15, 117, 110, 111, 112, 113, 114, 115]))"
      ]
     },
     "execution_count": 82,
     "metadata": {},
     "output_type": "execute_result"
    }
   ],
   "source": [
    "get_top_stats(gr, 104)"
   ]
  },
  {
   "cell_type": "code",
   "execution_count": null,
   "metadata": {
    "collapsed": true
   },
   "outputs": [],
   "source": []
  },
  {
   "cell_type": "code",
   "execution_count": null,
   "metadata": {
    "collapsed": true
   },
   "outputs": [],
   "source": []
  },
  {
   "cell_type": "code",
   "execution_count": null,
   "metadata": {
    "collapsed": true
   },
   "outputs": [],
   "source": []
  },
  {
   "cell_type": "code",
   "execution_count": 86,
   "metadata": {
    "collapsed": true
   },
   "outputs": [],
   "source": [
    "r=  reads[0]"
   ]
  },
  {
   "cell_type": "code",
   "execution_count": 91,
   "metadata": {
    "collapsed": true
   },
   "outputs": [],
   "source": [
    "ca.dict_to_csv(r.corrector.spacers_to_occurrences, \"./27_spacer_to_occurrences\")"
   ]
  },
  {
   "cell_type": "code",
   "execution_count": null,
   "metadata": {
    "collapsed": true
   },
   "outputs": [],
   "source": []
  },
  {
   "cell_type": "code",
   "execution_count": null,
   "metadata": {
    "collapsed": true
   },
   "outputs": [],
   "source": []
  },
  {
   "cell_type": "code",
   "execution_count": null,
   "metadata": {
    "collapsed": true
   },
   "outputs": [],
   "source": []
  },
  {
   "cell_type": "code",
   "execution_count": 73,
   "metadata": {},
   "outputs": [
    {
     "data": {
      "text/plain": [
       "(346, 346)"
      ]
     },
     "execution_count": 73,
     "metadata": {},
     "output_type": "execute_result"
    }
   ],
   "source": [
    "gr.shape"
   ]
  },
  {
   "cell_type": "code",
   "execution_count": 65,
   "metadata": {
    "collapsed": true
   },
   "outputs": [],
   "source": [
    "gr = grs[0]"
   ]
  },
  {
   "cell_type": "code",
   "execution_count": null,
   "metadata": {
    "collapsed": true
   },
   "outputs": [],
   "source": []
  },
  {
   "cell_type": "code",
   "execution_count": null,
   "metadata": {
    "collapsed": true
   },
   "outputs": [],
   "source": []
  },
  {
   "cell_type": "code",
   "execution_count": 30,
   "metadata": {
    "collapsed": true
   },
   "outputs": [],
   "source": [
    "gb = pickle.load(open('../article/gb_rep_to_rep', 'rb'))"
   ]
  },
  {
   "cell_type": "code",
   "execution_count": 31,
   "metadata": {
    "collapsed": true
   },
   "outputs": [],
   "source": [
    "preds = gb.predict(embs[0]).reshape(grs[0].shape[0] - 1, grs[0].shape[1] - 1)"
   ]
  },
  {
   "cell_type": "code",
   "execution_count": 35,
   "metadata": {},
   "outputs": [
    {
     "data": {
      "text/plain": [
       "array([1, 1, 1, 1, 1, 1, 1, 1, 1, 1, 1, 1, 1, 1, 1, 1, 1, 1, 1, 1, 1, 1, 1,\n",
       "       1, 1, 1, 1, 1, 1, 1, 1, 1, 1, 0, 1, 1, 1, 1, 1, 1, 1, 1, 1, 1, 1, 1,\n",
       "       1, 0, 1, 1, 1, 1, 1, 2, 1, 1, 1, 1, 1, 1, 1, 1, 1, 1, 1, 1, 1, 1, 1,\n",
       "       1, 1, 1, 1, 1, 1, 1, 1, 0, 1, 1, 1, 0, 1, 1, 1, 1, 1, 0, 0, 1, 1, 1,\n",
       "       1, 1, 1, 1, 1, 1, 1, 0, 1, 0, 1, 1, 1, 1, 1, 1, 1, 1, 2, 1, 0, 0, 1,\n",
       "       1, 1, 1, 1, 1, 1, 1, 1, 1, 1, 1, 1, 1, 1, 1, 1, 0, 1, 1, 1, 1, 1, 1,\n",
       "       1, 1, 0, 0, 1, 1, 1, 2, 1, 1, 1, 0, 1, 1, 2, 1, 1, 1, 1, 1, 1, 1, 1,\n",
       "       1, 1, 0, 1, 1, 0, 1, 1, 1, 1, 1, 1, 0, 1, 1, 1, 1, 1, 0, 1, 1, 0, 2,\n",
       "       1, 1, 1, 1, 1, 1, 1, 1, 1, 0, 1, 1, 1, 1, 1, 1, 1, 2, 1, 1, 1, 1, 1,\n",
       "       1, 1, 1, 1, 1, 1, 1, 1, 0, 1, 1, 1, 1, 1, 1, 1, 1, 1, 1, 1, 0, 1, 1,\n",
       "       1, 1, 1, 0, 1, 0, 1, 1, 0, 1, 1, 1, 2, 1, 1, 0, 1, 1, 1, 1, 1, 1, 1,\n",
       "       0, 1, 1, 0, 1, 1, 1, 1, 1, 1, 1, 1, 1, 1, 2, 1, 0, 0, 1, 0, 1, 1, 1,\n",
       "       1, 1, 0, 0, 0, 0, 1, 0, 0, 1, 1, 0, 1, 1, 1, 1, 1, 1, 0, 1, 0, 0, 1,\n",
       "       0, 1, 1, 0, 0, 0, 1, 1, 0, 1, 1, 1, 1, 0, 1, 0, 1, 0, 1, 1, 1, 0, 0,\n",
       "       0, 1, 1, 1, 1, 1, 1, 0, 1, 0, 1, 1, 1, 1, 0, 0, 0, 0, 1, 1, 1, 1, 1])"
      ]
     },
     "execution_count": 35,
     "metadata": {},
     "output_type": "execute_result"
    }
   ],
   "source": [
    "(preds > 0).sum(1)"
   ]
  },
  {
   "cell_type": "code",
   "execution_count": 32,
   "metadata": {
    "collapsed": true
   },
   "outputs": [],
   "source": [
    "a = [x for x in ca.restore_arrays_all(preds) if len(x) > 2]"
   ]
  },
  {
   "cell_type": "code",
   "execution_count": 33,
   "metadata": {
    "collapsed": true
   },
   "outputs": [],
   "source": [
    "w = ca.get_weights(grs[0], a)"
   ]
  },
  {
   "cell_type": "code",
   "execution_count": 36,
   "metadata": {
    "collapsed": true
   },
   "outputs": [],
   "source": [
    "a ,w = ca.restore_arrays_greedy(grs[0], 2)"
   ]
  },
  {
   "cell_type": "code",
   "execution_count": 40,
   "metadata": {},
   "outputs": [
    {
     "data": {
      "text/plain": [
       "[[93, 54, 11, 2, 3, 6, 9, 18, 17, 14, 8, 1, 0, 4, 86, 96, 302],\n",
       " [23, 5, 7, 31, 134, 207, 269],\n",
       " [213,\n",
       "  139,\n",
       "  103,\n",
       "  114,\n",
       "  171,\n",
       "  286,\n",
       "  150,\n",
       "  127,\n",
       "  191,\n",
       "  181,\n",
       "  200,\n",
       "  223,\n",
       "  151,\n",
       "  13,\n",
       "  12,\n",
       "  101],\n",
       " [24, 10, 41, 71, 45, 88],\n",
       " [30, 16, 38, 83, 167, 55, 22, 20, 43, 156, 219, 294],\n",
       " [192, 82, 19, 21, 36, 15, 33],\n",
       " [44, 26, 112],\n",
       " [133, 42, 47],\n",
       " [217, 122, 108, 89, 35, 51, 160, 157, 209, 241, 176, 152, 159],\n",
       " [137, 57, 40, 46, 111, 164, 121, 94, 37, 34, 48, 74, 125, 165, 283],\n",
       " [102, 49, 92, 64, 61, 113],\n",
       " [69, 25, 28, 32, 29, 59, 68, 58],\n",
       " [75, 72, 170, 136, 132, 154, 227],\n",
       " [146, 63, 39, 77],\n",
       " [196, 135, 70, 81],\n",
       " [153, 91, 50, 27, 87],\n",
       " [315, 158, 129, 78, 56, 97, 79, 76, 149],\n",
       " [115, 116, 148, 104, 85, 65, 80, 67, 53, 52, 60, 145, 278],\n",
       " [180, 107, 100, 184, 216, 162, 118, 105, 62, 73, 84, 90, 106, 130, 214],\n",
       " [169, 110, 144, 197, 249, 211, 187, 95, 109, 178],\n",
       " [221, 124, 140],\n",
       " [119, 66, 141],\n",
       " [236, 126, 117, 138, 143, 163],\n",
       " [226, 199, 225, 142, 123, 155, 174, 279],\n",
       " [128, 147, 280],\n",
       " [228, 172, 161, 189, 201, 253],\n",
       " [291,\n",
       "  237,\n",
       "  258,\n",
       "  274,\n",
       "  251,\n",
       "  263,\n",
       "  246,\n",
       "  267,\n",
       "  255,\n",
       "  261,\n",
       "  289,\n",
       "  194,\n",
       "  177,\n",
       "  175,\n",
       "  195,\n",
       "  239,\n",
       "  190,\n",
       "  204,\n",
       "  301],\n",
       " [212, 202, 297],\n",
       " [311, 275, 210, 215],\n",
       " [231, 220, 307],\n",
       " [327, 224, 235],\n",
       " [319, 229, 222, 296],\n",
       " [317, 203, 205],\n",
       " [265, 208, 245],\n",
       " [326, 248, 230, 254, 266, 308, 290, 259],\n",
       " [306, 234, 243, 336],\n",
       " [343, 271, 256],\n",
       " [252, 244, 323, 295, 282, 318],\n",
       " [293, 247, 260, 262, 284],\n",
       " [277, 276, 332],\n",
       " [341, 273, 242, 320],\n",
       " [330, 305, 292, 285, 304],\n",
       " [340, 309, 333]]"
      ]
     },
     "execution_count": 40,
     "metadata": {},
     "output_type": "execute_result"
    }
   ],
   "source": [
    "[x for x in a if len(x) > 2]"
   ]
  },
  {
   "cell_type": "code",
   "execution_count": 39,
   "metadata": {},
   "outputs": [
    {
     "data": {
      "image/png": "[encoded data removed]",
      "text/plain": [
       "<matplotlib.figure.Figure at 0x7fb5d4691748>"
      ]
     },
     "metadata": {},
     "output_type": "display_data"
    },
    {
     "data": {
      "image/png": "[encoded data removed]",
      "text/plain": [
       "<matplotlib.figure.Figure at 0x7fb5cfb62a20>"
      ]
     },
     "metadata": {},
     "output_type": "display_data"
    },
    {
     "data": {
      "image/png": "[encoded data removed]",
      "text/plain": [
       "<matplotlib.figure.Figure at 0x7fb5d42e4fd0>"
      ]
     },
     "metadata": {},
     "output_type": "display_data"
    },
    {
     "data": {
      "image/png": "[encoded data removed]",
      "text/plain": [
       "<matplotlib.figure.Figure at 0x7fb5cff1d4a8>"
      ]
     },
     "metadata": {},
     "output_type": "display_data"
    },
    {
     "data": {
      "image/png": "[encoded data removed]",
      "text/plain": [
       "<matplotlib.figure.Figure at 0x7fb5cfed4fd0>"
      ]
     },
     "metadata": {},
     "output_type": "display_data"
    },
    {
     "data": {
      "image/png": "[encoded data removed]",
      "text/plain": [
       "<matplotlib.figure.Figure at 0x7fb5d45ade48>"
      ]
     },
     "metadata": {},
     "output_type": "display_data"
    },
    {
     "data": {
      "image/png": "[encoded data removed]",
      "text/plain": [
       "<matplotlib.figure.Figure at 0x7fb5d4191c88>"
      ]
     },
     "metadata": {},
     "output_type": "display_data"
    },
    {
     "data": {
      "image/png": "[encoded data removed]",
      "text/plain": [
       "<matplotlib.figure.Figure at 0x7fb5d42916a0>"
      ]
     },
     "metadata": {},
     "output_type": "display_data"
    },
    {
     "data": {
      "image/png": "[encoded data removed]",
      "text/plain": [
       "<matplotlib.figure.Figure at 0x7fb5d45adfd0>"
      ]
     },
     "metadata": {},
     "output_type": "display_data"
    },
    {
     "data": {
      "image/png": "[encoded data removed]",
      "text/plain": [
       "<matplotlib.figure.Figure at 0x7fb5d4075400>"
      ]
     },
     "metadata": {},
     "output_type": "display_data"
    },
    {
     "data": {
      "image/png": "[encoded data removed]",
      "text/plain": [
       "<matplotlib.figure.Figure at 0x7fb5d4550ef0>"
      ]
     },
     "metadata": {},
     "output_type": "display_data"
    },
    {
     "data": {
      "image/png": "[encoded data removed]",
      "text/plain": [
       "<matplotlib.figure.Figure at 0x7fb5d456c518>"
      ]
     },
     "metadata": {},
     "output_type": "display_data"
    },
    {
     "data": {
      "image/png": "[encoded data removed]",
      "text/plain": [
       "<matplotlib.figure.Figure at 0x7fb5cfff1940>"
      ]
     },
     "metadata": {},
     "output_type": "display_data"
    },
    {
     "data": {
      "image/png": "[encoded data removed]",
      "text/plain": [
       "<matplotlib.figure.Figure at 0x7fb5d41d8588>"
      ]
     },
     "metadata": {},
     "output_type": "display_data"
    },
    {
     "data": {
      "image/png": "[encoded data removed]",
      "text/plain": [
       "<matplotlib.figure.Figure at 0x7fb5cfff1160>"
      ]
     },
     "metadata": {},
     "output_type": "display_data"
    },
    {
     "data": {
      "image/png": "[encoded data removed]",
      "text/plain": [
       "<matplotlib.figure.Figure at 0x7fb5cfbf0320>"
      ]
     },
     "metadata": {},
     "output_type": "display_data"
    },
    {
     "data": {
      "image/png": "[encoded data removed]",
      "text/plain": [
       "<matplotlib.figure.Figure at 0x7fb5cfbd96a0>"
      ]
     },
     "metadata": {},
     "output_type": "display_data"
    },
    {
     "data": {
      "image/png": "[encoded data removed]",
      "text/plain": [
       "<matplotlib.figure.Figure at 0x7fb5d4752e48>"
      ]
     },
     "metadata": {},
     "output_type": "display_data"
    },
    {
     "data": {
      "image/png": "[encoded data removed]",
      "text/plain": [
       "<matplotlib.figure.Figure at 0x7fb61537c3c8>"
      ]
     },
     "metadata": {},
     "output_type": "display_data"
    },
    {
     "data": {
      "image/png": "[encoded data removed]",
      "text/plain": [
       "<matplotlib.figure.Figure at 0x7fb6100db1d0>"
      ]
     },
     "metadata": {},
     "output_type": "display_data"
    },
    {
     "data": {
      "image/png": "[encoded data removed]",
      "text/plain": [
       "<matplotlib.figure.Figure at 0x7fb5ec168ac8>"
      ]
     },
     "metadata": {},
     "output_type": "display_data"
    },
    {
     "data": {
      "image/png": "[encoded data removed]",
      "text/plain": [
       "<matplotlib.figure.Figure at 0x7fb5ec1c6c18>"
      ]
     },
     "metadata": {},
     "output_type": "display_data"
    },
    {
     "data": {
      "image/png": "[encoded data removed]",
      "text/plain": [
       "<matplotlib.figure.Figure at 0x7fb5ec0df5c0>"
      ]
     },
     "metadata": {},
     "output_type": "display_data"
    },
    {
     "data": {
      "image/png": "[encoded data removed]",
      "text/plain": [
       "<matplotlib.figure.Figure at 0x7fb5cfe7d518>"
      ]
     },
     "metadata": {},
     "output_type": "display_data"
    },
    {
     "data": {
      "image/png": "[encoded data removed]",
      "text/plain": [
       "<matplotlib.figure.Figure at 0x7fb6113bdf98>"
      ]
     },
     "metadata": {},
     "output_type": "display_data"
    },
    {
     "data": {
      "image/png": "[encoded data removed]",
      "text/plain": [
       "<matplotlib.figure.Figure at 0x7fb5ec13e438>"
      ]
     },
     "metadata": {},
     "output_type": "display_data"
    },
    {
     "data": {
      "image/png": "[encoded data removed]",
      "text/plain": [
       "<matplotlib.figure.Figure at 0x7fb5ec1140f0>"
      ]
     },
     "metadata": {},
     "output_type": "display_data"
    },
    {
     "data": {
      "image/png": "[encoded data removed]",
      "text/plain": [
       "<matplotlib.figure.Figure at 0x7fb5d44572b0>"
      ]
     },
     "metadata": {},
     "output_type": "display_data"
    },
    {
     "data": {
      "image/png": "[encoded data removed]",
      "text/plain": [
       "<matplotlib.figure.Figure at 0x7fb603bf7d30>"
      ]
     },
     "metadata": {},
     "output_type": "display_data"
    },
    {
     "data": {
      "image/png": "[encoded data removed]",
      "text/plain": [
       "<matplotlib.figure.Figure at 0x7fb5cfe88fd0>"
      ]
     },
     "metadata": {},
     "output_type": "display_data"
    }
   ],
   "source": [
    "for we in [x for x in w if len(x) > 2]:\n",
    "    plt.bar(np.arange(len(we)), we)\n",
    "    plt.show()"
   ]
  },
  {
   "cell_type": "code",
   "execution_count": 162,
   "metadata": {},
   "outputs": [
    {
     "data": {
      "text/plain": [
       "array([[ 0.95690392,  0.04309608]])"
      ]
     },
     "execution_count": 162,
     "metadata": {},
     "output_type": "execute_result"
    }
   ],
   "source": [
    "gb.predict_proba([embs[0].reshape(274, 274, 6)[28,4]])"
   ]
  },
  {
   "cell_type": "code",
   "execution_count": 163,
   "metadata": {},
   "outputs": [
    {
     "data": {
      "text/plain": [
       "array([  9.96336996e-01,   9.41391941e-01,   1.62393162e-01,\n",
       "         1.54202005e-03,   4.74493213e+00,   4.74493213e+00])"
      ]
     },
     "execution_count": 163,
     "metadata": {},
     "output_type": "execute_result"
    }
   ],
   "source": [
    "embs[0].reshape(274, 274, 6)[28,4]"
   ]
  },
  {
   "cell_type": "code",
   "execution_count": 152,
   "metadata": {},
   "outputs": [
    {
     "data": {
      "text/plain": [
       "array([[  7.82389720e-09,   9.99999992e-01]])"
      ]
     },
     "execution_count": 152,
     "metadata": {},
     "output_type": "execute_result"
    }
   ],
   "source": [
    "gb.predict_proba([embs[0].reshape(274, 274, 6)[1,0]])"
   ]
  },
  {
   "cell_type": "code",
   "execution_count": 145,
   "metadata": {},
   "outputs": [
    {
     "data": {
      "text/plain": [
       "array([  1.        ,   1.        ,   0.93323107,   0.9282285 ,\n",
       "        11.42143498,  11.42143498])"
      ]
     },
     "execution_count": 145,
     "metadata": {},
     "output_type": "execute_result"
    }
   ],
   "source": [
    "embs[0].reshape(274, 274, 6)[1,0]"
   ]
  },
  {
   "cell_type": "code",
   "execution_count": 146,
   "metadata": {},
   "outputs": [
    {
     "data": {
      "text/plain": [
       "array([  6,   8,  13,   9,   7,   4,   3,   5,   2,   1,  10,  15,  11,\n",
       "        12,  17,  14,   0,  16,  25,  38,  26,  32,  36, 226,  31,  24,\n",
       "        23,  27,  30,  21,  28,  55,  46,  35,  44,  37,  29,  19,  43,\n",
       "        20,  34,  40,  18,  33, 109, 157,  22,  72,  56, 111, 108,  99,\n",
       "        77,  67, 134,  42,  48,  39, 156, 100,  90, 101,  82,  81,  45,\n",
       "        79,  41,  49, 179, 112,  71, 154, 210,  52, 130, 126, 178, 121,\n",
       "       110, 103, 176, 174, 116, 135, 172, 117, 105, 140, 141, 158, 118,\n",
       "       123, 147, 167,  53,  96, 192,  95,  68,  69, 209, 211,  76,  60,\n",
       "        63,  59,  58,  84, 215,  91,  57, 127, 125, 128, 122, 129, 120,\n",
       "       131,  51, 119,  61, 132,  64,  83,  54,  93,  47,  92,  88,  87,\n",
       "       104, 107,  66,  80,  78,  75,  70, 113, 114, 115,  97, 137, 133,\n",
       "       166, 169, 173, 175, 177, 181, 219, 186, 243, 190, 195, 236, 200,\n",
       "       201, 230, 229, 136, 206, 207, 225, 223, 213, 257, 220, 165, 149,\n",
       "       151, 138, 162, 142, 153, 148, 267, 235, 234, 233, 232, 231, 266,\n",
       "       228, 268, 237, 269, 227, 270, 271, 224, 272,  50, 222, 221, 265,\n",
       "       239, 238, 258, 256, 259, 255, 254, 253, 260, 252, 261, 251, 262,\n",
       "       250, 263, 248, 247, 246, 245, 244, 264, 242, 241, 240, 249, 205,\n",
       "       218, 161, 182,  94, 180,  98, 171, 102, 170, 168, 106, 164, 163,\n",
       "       160, 217, 159, 155, 152, 150, 146, 145, 124, 144, 143, 139, 273,\n",
       "       183, 184, 185,  89, 216, 214, 212, 208,  62,  65, 204, 203, 202,\n",
       "       199,  73,  74, 198, 197, 196, 194, 193, 191, 189, 188,  85,  86,\n",
       "       187, 274])"
      ]
     },
     "execution_count": 146,
     "metadata": {},
     "output_type": "execute_result"
    }
   ],
   "source": [
    "np.argsort(grs[0][0])[::-1]"
   ]
  },
  {
   "cell_type": "code",
   "execution_count": null,
   "metadata": {
    "collapsed": true
   },
   "outputs": [],
   "source": []
  },
  {
   "cell_type": "code",
   "execution_count": null,
   "metadata": {
    "collapsed": true
   },
   "outputs": [],
   "source": []
  },
  {
   "cell_type": "code",
   "execution_count": null,
   "metadata": {
    "collapsed": true
   },
   "outputs": [],
   "source": []
  },
  {
   "cell_type": "code",
   "execution_count": 139,
   "metadata": {},
   "outputs": [
    {
     "data": {
      "text/plain": [
       "array([82567, 91256, 70125, 79623, 66698, 41300, 13242, 65694, 62009,\n",
       "       44389, 26353, 20546, 21747, 31351, 11839,   399,   336,  7765,\n",
       "        2464,  2854,    10,   789,   369,   992,  1423,   438,   345,\n",
       "         400,   409,   342,   436,   489,   354,   557,   221,   455,\n",
       "         151,   252,   208,   458,   160,   444,   189,    84,    20,\n",
       "         223,    16,   106,   230,   215,   176,   147,   150,   191,\n",
       "         128,    16,   171,   144,   137,   150,   182,   154,   160,\n",
       "         112,   116,    82,   141,   154,   131,   115,    99,   154,\n",
       "         103,   103,    71,    81,   100,     2,    60,    61,     4,\n",
       "          63,    54,    28,    32,    46,    41,    43,    74,    50,\n",
       "          35,    52,    37,    23,    32,    35,    32,    58,    81,\n",
       "          40,    28,    28,    78,    44,    28,    23,    17,    30,\n",
       "          31,    44,    24,    49,    47,    37,    29,    33,    27,\n",
       "          22,    21,    41,    24,    26,    25,    31,    57,    34,\n",
       "          34,    31,    17,    22,    26,    18,    30,    25,    15,\n",
       "          12,    33,    28,    16,     1,     8,    38,    12,    14,\n",
       "          16,    23,    24,    24,     6,    24,     3,     5,    11,\n",
       "          20,     9,    19,    17,    10,    18,    37,    21,    14,\n",
       "          26,    13,     3,    39,     3,    27,    37,    14,    19,\n",
       "           9,    21,     3,     8,    31,    12,     9,    16,    10,\n",
       "          33,    13,     5,    22,    27,    10,    15,     9,     5,\n",
       "          15,     3,    23,    18,     2,    23,     9,     8,    10,\n",
       "          10,    10,     7,     2,    18,    16,     5,    21,    17,\n",
       "          26,    13,    18,    11,     3,    11,    14,    16,     2,\n",
       "          16,     4,    15,     2,     4,     8,     1,     6,     3,\n",
       "           8,     9,     5,     6,     2,    11,     8,     8,     1,\n",
       "           2,     2,     1,     7,     9,     7,     1,     6,     8,\n",
       "           5,     5,     5,     2,     0,     1,     1,     1,     0,\n",
       "           1,     0,     2,     3,     8,     4,     2,     3,     1,\n",
       "           4,     0,     6,     0,     7,     0,     1,     3,     0,\n",
       "           3,     5,     2,     0,     0])"
      ]
     },
     "execution_count": 139,
     "metadata": {},
     "output_type": "execute_result"
    }
   ],
   "source": [
    "grs[0].max(1)"
   ]
  },
  {
   "cell_type": "code",
   "execution_count": null,
   "metadata": {
    "collapsed": true
   },
   "outputs": [],
   "source": []
  },
  {
   "cell_type": "code",
   "execution_count": 118,
   "metadata": {},
   "outputs": [
    {
     "data": {
      "text/plain": [
       "array([   90,   407,   388,   364,   388,   465, 65322,   455,   734,   517])"
      ]
     },
     "execution_count": 118,
     "metadata": {},
     "output_type": "execute_result"
    }
   ],
   "source": [
    "grs_m[1][0].astype(int)[:10]"
   ]
  },
  {
   "cell_type": "code",
   "execution_count": 124,
   "metadata": {},
   "outputs": [
    {
     "data": {
      "text/plain": [
       "array([ 6,  3,  7,  6,  8, 10,  6,  3,  1,  2,  1,  1,  1,  2,  0,  2,  1,\n",
       "        2,  0,  0,  0,  0,  0,  0,  0,  0,  0,  0,  0,  0,  0,  0,  0,  1,\n",
       "        0,  0,  0,  0,  0,  0,  0,  1,  0,  0,  0,  0,  0,  0,  0,  0,  0,\n",
       "        1,  0,  0,  0,  0,  0,  0,  0,  0,  0,  0,  0,  0,  0,  0,  0,  0,\n",
       "        0,  0,  0,  0,  1,  0,  0,  0,  0,  0,  0,  0,  0,  0,  0,  0,  0,\n",
       "        0,  0,  0,  0,  0,  0,  0,  0,  0,  0,  0,  0,  0,  0,  0,  0,  0,\n",
       "        0,  0,  0,  0,  0,  0,  0,  0,  0,  0,  0,  0,  0,  0,  0,  0,  0,\n",
       "        0,  0,  0,  0,  0,  0,  0,  0,  0,  0,  0,  0,  0,  0,  0,  0,  0,\n",
       "        0,  0,  0,  0,  0,  0,  0,  0,  0,  0,  0,  0,  0,  0,  0,  0,  0,\n",
       "        0,  0,  0,  0,  0,  2,  0,  0,  0,  0,  0,  0,  0,  0,  0,  0,  0,\n",
       "        0,  0,  0,  0,  0,  0,  0,  0,  0,  0,  0,  0,  0,  0,  0,  0,  0,\n",
       "        0,  0,  0,  0,  0,  0,  0,  0,  0,  0,  0,  0,  0,  0,  0,  0,  0,\n",
       "        0,  0,  0,  0,  0,  0,  0,  0,  0,  0,  0,  0,  0,  0,  0,  0,  0,\n",
       "        0,  0,  0,  0,  0,  0,  0,  0,  0,  0,  0,  0,  0,  0,  0,  0,  0,\n",
       "        0,  0,  0,  0,  0,  0,  0,  0,  0,  0,  0,  0,  0,  0,  0,  0,  0,\n",
       "        0,  0,  0,  0,  0,  0,  0,  0,  0,  0,  0,  0,  0,  0,  0,  0,  0,\n",
       "        0,  0,  0,  0,  0,  0,  0,  0,  0,  0,  0,  0,  0,  0,  0,  0,  0,\n",
       "        0,  0,  0,  0,  0,  0,  0,  0,  0,  0,  0,  0,  0,  0,  0,  0,  0,\n",
       "        0,  0,  0,  0,  0,  0,  0,  0,  0,  0,  0,  0,  0,  0,  0,  0,  0,\n",
       "        0,  0,  0,  0,  0,  0,  0,  0,  0,  0,  0,  0,  0,  0,  0,  0,  0,\n",
       "        0,  0])"
      ]
     },
     "execution_count": 124,
     "metadata": {},
     "output_type": "execute_result"
    }
   ],
   "source": [
    "grs_m[0][20].astype(int)"
   ]
  },
  {
   "cell_type": "code",
   "execution_count": null,
   "metadata": {
    "collapsed": true
   },
   "outputs": [],
   "source": []
  },
  {
   "cell_type": "code",
   "execution_count": 126,
   "metadata": {
    "collapsed": true
   },
   "outputs": [],
   "source": [
    "filtered_medians = [np.median(y) for y in ca.get_weights(grs[0],[x for x in ca.restore_arrays_greedy(grs[0])[0] if len(x) > 2]) if np.median(y) > 5]"
   ]
  },
  {
   "cell_type": "code",
   "execution_count": 128,
   "metadata": {},
   "outputs": [
    {
     "data": {
      "text/plain": [
       "[[43,\n",
       "  33,\n",
       "  26,\n",
       "  32,\n",
       "  30,\n",
       "  27,\n",
       "  29,\n",
       "  37,\n",
       "  35,\n",
       "  42,\n",
       "  41,\n",
       "  36,\n",
       "  55,\n",
       "  17,\n",
       "  14,\n",
       "  15,\n",
       "  13,\n",
       "  9,\n",
       "  10,\n",
       "  7,\n",
       "  4,\n",
       "  3,\n",
       "  2,\n",
       "  5,\n",
       "  11,\n",
       "  12,\n",
       "  8,\n",
       "  1,\n",
       "  0,\n",
       "  6,\n",
       "  16,\n",
       "  242,\n",
       "  250],\n",
       " [227, 19, 18, 20],\n",
       " [112, 38, 24, 22, 34, 45, 28, 40, 31, 23, 21, 25, 44],\n",
       " [159, 52, 57, 39, 46, 267],\n",
       " [71, 47, 72, 70, 74, 76, 69, 60, 48, 51, 77],\n",
       " [64, 66, 59, 56, 58, 63, 62, 49, 54, 61, 53, 50, 65, 73, 68, 80],\n",
       " [98, 78, 81, 67],\n",
       " [236, 88, 75, 83, 99, 151, 258, 102, 79, 139],\n",
       " [165, 97, 85, 150],\n",
       " [205,\n",
       "  204,\n",
       "  214,\n",
       "  155,\n",
       "  130,\n",
       "  129,\n",
       "  152,\n",
       "  198,\n",
       "  186,\n",
       "  136,\n",
       "  118,\n",
       "  146,\n",
       "  91,\n",
       "  86,\n",
       "  82,\n",
       "  94,\n",
       "  148,\n",
       "  235,\n",
       "  229,\n",
       "  181,\n",
       "  170,\n",
       "  200,\n",
       "  216,\n",
       "  109,\n",
       "  110,\n",
       "  174,\n",
       "  211,\n",
       "  192,\n",
       "  103,\n",
       "  84,\n",
       "  163,\n",
       "  184,\n",
       "  154,\n",
       "  203,\n",
       "  162,\n",
       "  107,\n",
       "  128,\n",
       "  201],\n",
       " [167,\n",
       "  134,\n",
       "  189,\n",
       "  137,\n",
       "  89,\n",
       "  106,\n",
       "  171,\n",
       "  178,\n",
       "  149,\n",
       "  121,\n",
       "  133,\n",
       "  117,\n",
       "  92,\n",
       "  104,\n",
       "  135,\n",
       "  180,\n",
       "  122,\n",
       "  115,\n",
       "  101,\n",
       "  144,\n",
       "  141,\n",
       "  108,\n",
       "  164],\n",
       " [175, 100, 143, 111, 105, 126, 87, 93, 114, 96, 127, 138, 188],\n",
       " [156,\n",
       "  160,\n",
       "  119,\n",
       "  120,\n",
       "  185,\n",
       "  183,\n",
       "  116,\n",
       "  153,\n",
       "  179,\n",
       "  191,\n",
       "  142,\n",
       "  177,\n",
       "  215,\n",
       "  199,\n",
       "  145,\n",
       "  173,\n",
       "  206,\n",
       "  147,\n",
       "  193],\n",
       " [207,\n",
       "  113,\n",
       "  90,\n",
       "  140,\n",
       "  172,\n",
       "  169,\n",
       "  132,\n",
       "  166,\n",
       "  202,\n",
       "  196,\n",
       "  158,\n",
       "  95,\n",
       "  131,\n",
       "  187,\n",
       "  161,\n",
       "  190],\n",
       " [194, 125, 123, 176, 182, 223, 217],\n",
       " [209, 197, 208, 213, 233],\n",
       " [256, 218, 212],\n",
       " [230, 240],\n",
       " [220, 157, 195, 222],\n",
       " [243, 244, 238, 228, 225, 247],\n",
       " [272, 245, 232, 234],\n",
       " [265, 239, 264],\n",
       " [237, 246],\n",
       " [271, 241, 262],\n",
       " [261, 251]]"
      ]
     },
     "execution_count": 128,
     "metadata": {},
     "output_type": "execute_result"
    }
   ],
   "source": [
    "ca.restore_arrays_greedy(grs[0])[0]"
   ]
  },
  {
   "cell_type": "code",
   "execution_count": null,
   "metadata": {
    "collapsed": true
   },
   "outputs": [],
   "source": []
  },
  {
   "cell_type": "code",
   "execution_count": 107,
   "metadata": {},
   "outputs": [
    {
     "name": "stdout",
     "output_type": "stream",
     "text": [
      "0 -------------------\n",
      "[6080    3    2    2]\n",
      "[ 4  3  2 97]\n",
      "[  4 344 117 109]\n",
      "[1 0 0 0]\n",
      "1 -------------------\n",
      "[7580    2    2    2]\n",
      "[ 0 12 14 16]\n",
      "[  0 117 109 110]\n",
      "[1 0 0 0]\n",
      "2 -------------------\n",
      "[4513    2    2    1]\n",
      "[ 3 28  6 14]\n",
      "[  3 344 117 109]\n",
      "[1 0 0 0]\n",
      "3 -------------------\n",
      "[2619    2    2    2]\n",
      "[ 6  0 14  9]\n",
      "[  6 344 117 109]\n",
      "[1 0 0 0]\n",
      "4 -------------------\n",
      "[208   1   0   0]\n",
      "[ 86  73 108 110]\n",
      "[ 86 117 109 110]\n",
      "[1 0 0 0]\n",
      "5 -------------------\n",
      "[3553    1    1    1]\n",
      "[  7  90 129  36]\n",
      "[  7 344 117 109]\n",
      "[1 0 0 0]\n",
      "6 -------------------\n",
      "[2624    2    1    1]\n",
      "[  9  14 307 214]\n",
      "[  9 344 117 109]\n",
      "[1 0 0 0]\n",
      "7 -------------------\n",
      "[1536   88   25   23]\n",
      "[31 48 57 40]\n",
      "[ 31 344 110 111]\n",
      "[1 0 0 0]\n",
      "8 -------------------\n",
      "[4045    1    1    1]\n",
      "[ 1 14 47 60]\n",
      "[  1 344 117 109]\n",
      "[1 0 0 0]\n",
      "9 -------------------\n",
      "[2280    3    1    1]\n",
      "[18  1 84 15]\n",
      "[ 18 344 107 109]\n",
      "[1 0 0 0]\n",
      "10 -------------------\n",
      "[1437    2    1    1]\n",
      "[41  5  0  8]\n",
      "[ 41 118 110 111]\n",
      "[1 0 0 0]\n",
      "11 -------------------\n",
      "[3023    1    1    1]\n",
      "[  2  91 100 152]\n",
      "[  2 344 117 109]\n",
      "[1 0 0 0]\n",
      "12 -------------------\n",
      "[574  43  33  15]\n",
      "[101 100 114  57]\n",
      "[101 344 107 109]\n",
      "[1 0 0 0]\n",
      "13 -------------------\n",
      "[2722   39   29   19]\n",
      "[ 12 203  37  62]\n",
      "[ 12 344 107 109]\n",
      "[1 0 0 0]\n",
      "14 -------------------\n",
      "[992   1   1   1]\n",
      "[ 8 26 74 92]\n",
      "[  8 344 117 109]\n",
      "[1 0 0 0]\n",
      "15 -------------------\n",
      "[2003   20   13    4]\n",
      "[ 33  12  73 171]\n",
      "[ 33 344 118 110]\n",
      "[1 0 0 0]\n",
      "16 -------------------\n",
      "[916   1   1   1]\n",
      "[38 66 60 97]\n",
      "[ 38 344 118 110]\n",
      "[1 0 0 0]\n",
      "17 -------------------\n",
      "[2313    2    1    1]\n",
      "[ 14   0   9 130]\n",
      "[ 14 344 107 109]\n",
      "[1 0 0 0]\n",
      "18 -------------------\n",
      "[457   2   1   1]\n",
      "[17 14 46  1]\n",
      "[ 17 344 107 109]\n",
      "[1 0 0 0]\n",
      "19 -------------------\n",
      "[1591   65   50   48]\n",
      "[21 13 12 53]\n",
      "[ 21 344 117 109]\n",
      "[1 0 0 0]\n",
      "20 -------------------\n",
      "[1407    1    1    1]\n",
      "[ 43 165  73 112]\n",
      "[ 43 118 110 111]\n",
      "[1 0 0 0]\n",
      "21 -------------------\n",
      "[923   6   1   1]\n",
      "[ 36  57 129  42]\n",
      "[ 36 344 118 110]\n",
      "[1 0 0 0]\n",
      "22 -------------------\n",
      "[1283    1    1    1]\n",
      "[ 20 129  26 149]\n",
      "[ 20 117 109 110]\n",
      "[1 0 0 0]\n",
      "23 -------------------\n",
      "[2286    2    2    1]\n",
      "[ 5 90 22 61]\n",
      "[  5 344 117 109]\n",
      "[1 0 0 0]\n",
      "24 -------------------\n",
      "[2185    2    2    1]\n",
      "[ 10  28 262  27]\n",
      "[ 10 107 109 110]\n",
      "[1 0 0 0]\n",
      "25 -------------------\n",
      "[1034    1    1    1]\n",
      "[ 28  87 112   3]\n",
      "[ 28 344 117 110]\n",
      "[1 0 0 0]\n",
      "26 -------------------\n",
      "[516   1   1   1]\n",
      "[112  14   2 302]\n",
      "[112 344 117 109]\n",
      "[1 0 0 0]\n",
      "27 -------------------\n",
      "[912  52   5   3]\n",
      "[87 91 13 51]\n",
      "[ 87 344 117 109]\n",
      "[1 0 0 0]\n",
      "28 -------------------\n",
      "[999   1   1   1]\n",
      "[32  0 88 49]\n",
      "[ 32 118 110 111]\n",
      "[1 0 0 0]\n",
      "29 -------------------\n",
      "[1057    1    1    1]\n",
      "[59 43 62 48]\n",
      "[ 59 344 117 110]\n",
      "[1 0 0 0]\n",
      "30 -------------------\n",
      "[2017    1    1    1]\n",
      "[ 16  43  73 149]\n",
      "[ 16 344 107 109]\n",
      "[1 0 0 0]\n",
      "31 -------------------\n",
      "[315  28  21  13]\n",
      "[134  13   5 121]\n",
      "[134 344 117 109]\n",
      "[1 0 0 0]\n",
      "32 -------------------\n",
      "[970   1   1   1]\n",
      "[ 29  85 108  36]\n",
      "[ 29 344 117 110]\n",
      "[1 0 0 0]\n",
      "33 -------------------\n",
      "[1 0 0 0]\n",
      "[ 47 345 118 110]\n",
      "[344 117 109 110]\n",
      "[0 0 0 0]\n",
      "34 -------------------\n",
      "[707 102   1   1]\n",
      "[48 62 12 35]\n",
      "[ 48 344 118 110]\n",
      "[1 0 0 0]\n",
      "35 -------------------\n",
      "[1270   24    1    1]\n",
      "[ 51 157  28 138]\n",
      "[ 51 344 118 110]\n",
      "[1 0 0 0]\n",
      "36 -------------------\n",
      "[967   3   2   1]\n",
      "[ 15 192  21   3]\n",
      "[ 15 344 107 109]\n",
      "[1 0 0 0]\n",
      "37 -------------------\n",
      "[1184   59   14    4]\n",
      "[34 95 74 12]\n",
      "[ 34 344 118 110]\n",
      "[1 0 0 0]\n",
      "38 -------------------\n",
      "[927   1   1   0]\n",
      "[ 83  22   9 118]\n",
      "[ 83 344 117 109]\n",
      "[1 0 0 0]\n",
      "39 -------------------\n",
      "[1006    1    1    0]\n",
      "[ 77  18 102 345]\n",
      "[ 77 344 117 109]\n",
      "[1 0 0 0]\n",
      "40 -------------------\n",
      "[923   2   1   1]\n",
      "[ 46 121   3  41]\n",
      "[ 46 344 118 110]\n",
      "[1 0 0 0]\n",
      "41 -------------------\n",
      "[279   1   1   0]\n",
      "[ 71  88  67 108]\n",
      "[ 71 344 107 109]\n",
      "[1 0 0 0]\n",
      "42 -------------------\n",
      "[1489    1    1    1]\n",
      "[47  0 17 54]\n",
      "[ 47 344 118 110]\n",
      "[1 0 0 0]\n",
      "43 -------------------\n",
      "[214   1   1   1]\n",
      "[156 140   1 219]\n",
      "[156 344 106 108]\n",
      "[1 0 0 0]\n",
      "44 -------------------\n",
      "[1627    2    1    1]\n",
      "[ 26   4  14 130]\n",
      "[ 26 344 117 110]\n",
      "[1 0 0 0]\n",
      "45 -------------------\n",
      "[756   2   1   1]\n",
      "[ 88  10  28 123]\n",
      "[ 88 344 117 109]\n",
      "[1 0 0 0]\n",
      "46 -------------------\n",
      "[512  11   6   1]\n",
      "[111  62  95  18]\n",
      "[111 344 117 109]\n",
      "[1 0 0 0]\n",
      "47 -------------------\n",
      "[1 1 1 0]\n",
      "[332  83 164 345]\n",
      "[344 117 109 110]\n",
      "[0 0 0 0]\n",
      "48 -------------------\n",
      "[600  21   1   1]\n",
      "[ 74 133 329   3]\n",
      "[ 74 107 109 110]\n",
      "[1 0 0 0]\n",
      "49 -------------------\n",
      "[687  48  22  17]\n",
      "[ 92  13 181 161]\n",
      "[ 92 344 117 109]\n",
      "[1 0 0 0]\n",
      "50 -------------------\n",
      "[932   1   1   1]\n",
      "[27 10 26 40]\n",
      "[ 27 344 117 110]\n",
      "[1 0 0 0]\n",
      "51 -------------------\n",
      "[83 36  1  1]\n",
      "[160  35  12   9]\n",
      "[160 106 108 109]\n",
      "[1 0 0 0]\n",
      "52 -------------------\n",
      "[867   2   2   1]\n",
      "[ 60 257  18 149]\n",
      "[ 60 344 117 110]\n",
      "[1 0 0 0]\n",
      "53 -------------------\n",
      "[510  47  39  29]\n",
      "[ 52  19 218  13]\n",
      "[218  52 344 117]\n",
      "[1 1 0 0]\n",
      "54 -------------------\n",
      "[530   1   1   1]\n",
      "[ 11 171  96  37]\n",
      "[ 11 344 107 109]\n",
      "[1 0 0 0]\n",
      "55 -------------------\n",
      "[1075    1    1    1]\n",
      "[ 22  40  27 159]\n",
      "[ 22 117 109 110]\n",
      "[1 0 0 0]\n",
      "56 -------------------\n",
      "[397   1   1   1]\n",
      "[ 97   0   3 112]\n",
      "[ 97 344 107 109]\n",
      "[1 0 0 0]\n",
      "57 -------------------\n",
      "[726  71  15   1]\n",
      "[40  5 12 25]\n",
      "[ 40 344 118 110]\n",
      "[1 0 0 0]\n",
      "58 -------------------\n",
      "[300   1   0   0]\n",
      "[ 66  77 345 117]\n",
      "[ 66 344 107 109]\n",
      "[1 0 0 0]\n",
      "59 -------------------\n",
      "[178   1   1   0]\n",
      "[ 68  32  19 345]\n",
      "[ 68 344 107 109]\n",
      "[1 0 0 0]\n",
      "60 -------------------\n",
      "[321  32   4   1]\n",
      "[145 180 113 174]\n",
      "[145 344 116 109]\n",
      "[1 0 0 0]\n",
      "61 -------------------\n",
      "[234   1   1   1]\n",
      "[113  42   3  28]\n",
      "[113 344 117 109]\n",
      "[1 0 0 0]\n",
      "62 -------------------\n",
      "[762  57  10   2]\n",
      "[ 73  13 316 106]\n",
      "[ 73 344 107 109]\n",
      "[1 0 0 0]\n",
      "63 -------------------\n",
      "[846   2   1   1]\n",
      "[39 96 66  7]\n",
      "[ 39 344 118 110]\n",
      "[1 0 0 0]\n",
      "64 -------------------\n",
      "[1156    2    1    1]\n",
      "[ 61   1 173   9]\n",
      "[ 61 344 117 110]\n",
      "[1 0 0 0]\n",
      "65 -------------------\n",
      "[454  12   1   1]\n",
      "[ 80  15  81 117]\n",
      "[ 80 344 117 109]\n",
      "[1 0 0 0]\n",
      "66 -------------------\n",
      "[352  79  40  13]\n",
      "[141 133   5  19]\n",
      "[141 344 116 109]\n",
      "[1 0 0 0]\n",
      "67 -------------------\n",
      "[665   1   1   1]\n",
      "[ 53  15 193 112]\n",
      "[ 53 344 110 111]\n",
      "[1 0 0 0]\n",
      "68 -------------------\n",
      "[957   1   1   1]\n",
      "[ 58 108  47  10]\n",
      "[ 58 344 117 110]\n",
      "[1 0 0 0]\n",
      "69 -------------------\n",
      "[1142    1    1    0]\n",
      "[ 25   1  41 345]\n",
      "[ 25 344 117 110]\n",
      "[1 0 0 0]\n",
      "70 -------------------\n",
      "[981   1   1   1]\n",
      "[ 81  12  73 157]\n",
      "[ 81 344 117 109]\n",
      "[1 0 0 0]\n",
      "71 -------------------\n",
      "[812   1   1   1]\n",
      "[45 80 27 99]\n",
      "[ 45 344 118 110]\n",
      "[1 0 0 0]\n",
      "72 -------------------\n",
      "[41  1  1  0]\n",
      "[170   1 182 126]\n",
      "[170 117 109 110]\n",
      "[1 0 0 0]\n",
      "73 -------------------\n",
      "[311   7   1   1]\n",
      "[84 12 86 67]\n",
      "[ 84 117 109 110]\n",
      "[1 0 0 0]\n",
      "74 -------------------\n",
      "[244  56  56   7]\n",
      "[125  40  15 121]\n",
      "[125 344 117 109]\n",
      "[1 0 0 0]\n",
      "75 -------------------\n",
      "[1038    2    1    0]\n",
      "[ 72  12   9 345]\n",
      "[ 72 344 107 109]\n",
      "[1 0 0 0]\n",
      "76 -------------------\n",
      "[270  50   1   1]\n",
      "[149  57  67  18]\n",
      "[149 344 116 108]\n",
      "[1 0 0 0]\n",
      "77 -------------------\n",
      "[0 0 0 0]\n",
      "[345 118 110 111]\n",
      "[344 117 109 110]\n",
      "[0 0 0 0]\n",
      "78 -------------------\n",
      "[885   1   1   1]\n",
      "[56  1 46  4]\n",
      "[ 56 344 117 110]\n",
      "[1 0 0 0]\n",
      "79 -------------------\n",
      "[721   1   1   1]\n",
      "[76 44  4  6]\n",
      "[ 76 344 117 109]\n",
      "[1 0 0 0]\n",
      "80 -------------------\n",
      "[486  56   2   1]\n",
      "[ 67  19 191  84]\n",
      "[ 67 344 107 109]\n",
      "[1 0 0 0]\n",
      "81 -------------------\n",
      "[1 1 1 0]\n",
      "[135 157  12 345]\n",
      "[344 117 109 110]\n",
      "[0 0 0 0]\n",
      "82 -------------------\n",
      "[829  11   1   1]\n",
      "[ 19 265  47   6]\n",
      "[ 19 344 107 109]\n",
      "[1 0 0 0]\n",
      "83 -------------------\n",
      "[15  0  0  0]\n",
      "[167 345 117 109]\n",
      "[167 344 116 108]\n",
      "[1 0 0 0]\n",
      "84 -------------------\n",
      "[574  38   1   1]\n",
      "[ 90 101  11   3]\n",
      "[ 90 344 117 109]\n",
      "[1 0 0 0]\n",
      "85 -------------------\n",
      "[675   9   1   1]\n",
      "[ 65 149 159 210]\n",
      "[ 65 344 107 109]\n",
      "[1 0 0 0]\n",
      "86 -------------------\n",
      "[686   1   1   1]\n",
      "[96  0  6 84]\n",
      "[ 96 107 109 110]\n",
      "[1 0 0 0]\n",
      "87 -------------------\n",
      "[1 0 0 0]\n",
      "[104 345 108 110]\n",
      "[344 117 109 110]\n",
      "[0 0 0 0]\n",
      "88 -------------------\n",
      "[0 0 0 0]\n",
      "[345 118 110 111]\n",
      "[344 117 109 110]\n",
      "[0 0 0 0]\n",
      "89 -------------------\n",
      "[563  80   0   0]\n",
      "[ 35  50 345 119]\n",
      "[ 35 344 118 110]\n",
      "[1 0 0 0]\n",
      "90 -------------------\n",
      "[283   1   1   1]\n",
      "[106  22  21   4]\n",
      "[106 117 109 110]\n",
      "[1 0 0 0]\n",
      "91 -------------------\n",
      "[385   1   0   0]\n",
      "[ 50  47 345 118]\n",
      "[ 50 344 118 110]\n",
      "[1 0 0 0]\n",
      "92 -------------------\n",
      "[83  4  1  1]\n",
      "[ 64 105   1  84]\n",
      "[ 64 117 109 110]\n",
      "[1 0 0 0]\n",
      "93 -------------------\n",
      "[759   1   1   1]\n",
      "[ 54   1 302  61]\n",
      "[ 54 344 117 110]\n",
      "[1 0 0 0]\n",
      "94 -------------------\n",
      "[563   1   1   0]\n",
      "[ 37  54  51 119]\n",
      "[ 37 344 118 110]\n",
      "[1 0 0 0]\n",
      "95 -------------------\n",
      "[362 130  30  26]\n",
      "[109  13 100  40]\n",
      "[109 344 117 110]\n",
      "[1 0 0 0]\n",
      "96 -------------------\n",
      "[11  0  0  0]\n",
      "[302 117 109 110]\n",
      "[302 344 117 109]\n",
      "[1 0 0 0]\n",
      "97 -------------------\n",
      "[291   1   1   1]\n",
      "[79 15 43 51]\n",
      "[ 79 344 117 109]\n",
      "[1 0 0 0]\n",
      "98 -------------------\n",
      "[678   1   1   1]\n",
      "[ 99 172  10  65]\n",
      "[ 99 344 107 109]\n",
      "[1 0 0 0]\n",
      "99 -------------------\n",
      "[0 0 0 0]\n",
      "[345 118 110 111]\n",
      "[344 117 109 110]\n",
      "[0 0 0 0]\n"
     ]
    }
   ],
   "source": [
    "for i in range(100):\n",
    "    print(i, '-------------------')\n",
    "    print(get_top_stats(grs[0], i, cut = 4)[0])\n",
    "    print(get_top_stats(grs[0], i, cut = 4)[1])\n",
    "    print(get_top_stats(preds, i, cut = 4)[1])\n",
    "    print(get_top_stats(preds, i, cut = 4)[0])"
   ]
  },
  {
   "cell_type": "code",
   "execution_count": 127,
   "metadata": {},
   "outputs": [
    {
     "data": {
      "image/png": "[encoded data removed]",
      "text/plain": [
       "<matplotlib.figure.Figure at 0x7f3499dd0b70>"
      ]
     },
     "metadata": {},
     "output_type": "display_data"
    }
   ],
   "source": [
    "plt.hist([np.log10(filtered_medians)], bins = 100, log = 1)\n",
    "plt.show()"
   ]
  },
  {
   "cell_type": "markdown",
   "metadata": {},
   "source": [
    "### graphs"
   ]
  },
  {
   "cell_type": "code",
   "execution_count": 65,
   "metadata": {},
   "outputs": [
    {
     "data": {
      "text/plain": [
       "'/home/rykachevskiy/CRISPR_research/data/environmental/s3/out/pairs/SlO3_ATTCCT_L001_R1_001.fastq.gz_pairs.txt'"
      ]
     },
     "execution_count": 65,
     "metadata": {},
     "output_type": "execute_result"
    }
   ],
   "source": [
    "'/home/rykachevskiy/CRISPR_research/data/environmental/s3/out/pairs/SlO3_ATTCCT_L001_R1_001.fastq.gz_pairs.txt'"
   ]
  },
  {
   "cell_type": "code",
   "execution_count": 66,
   "metadata": {
    "collapsed": true
   },
   "outputs": [],
   "source": [
    "# reads =  [ca.Read(paths[0] + \"pairs/SlO2_ACTGAT_L001_R1_001.fastq.gz_pairs.txt\"),\n",
    "#           ca.Read(paths[1] + \"pairs/SlO3_ATTCCT_L001_R1_001.fastq.gz_pairs.txt\")]\n",
    "\n",
    "read = ca.Read(path)"
   ]
  },
  {
   "cell_type": "code",
   "execution_count": 67,
   "metadata": {},
   "outputs": [
    {
     "data": {
      "text/plain": [
       "740835"
      ]
     },
     "execution_count": 67,
     "metadata": {},
     "output_type": "execute_result"
    }
   ],
   "source": [
    "len(read.contigs)"
   ]
  },
  {
   "cell_type": "code",
   "execution_count": 68,
   "metadata": {},
   "outputs": [
    {
     "name": "stderr",
     "output_type": "stream",
     "text": [
      "100%|██████████| 1226/1226 [00:00<00:00, 4092.13it/s]\n"
     ]
    }
   ],
   "source": [
    "read.correct_errors(minimum_occurences=5)"
   ]
  },
  {
   "cell_type": "code",
   "execution_count": 69,
   "metadata": {
    "collapsed": true
   },
   "outputs": [],
   "source": [
    "gr = read.graph_from_pairs()[0]"
   ]
  },
  {
   "cell_type": "code",
   "execution_count": 70,
   "metadata": {},
   "outputs": [
    {
     "data": {
      "text/plain": [
       "(221, 221)"
      ]
     },
     "execution_count": 70,
     "metadata": {},
     "output_type": "execute_result"
    }
   ],
   "source": [
    "gr.shape"
   ]
  },
  {
   "cell_type": "code",
   "execution_count": 131,
   "metadata": {
    "scrolled": false
   },
   "outputs": [
    {
     "ename": "AttributeError",
     "evalue": "'AxesSubplot' object has no attribute 'flatten'",
     "output_type": "error",
     "traceback": [
      "\u001b[0;31m---------------------------------------------------------------------------\u001b[0m",
      "\u001b[0;31mAttributeError\u001b[0m                            Traceback (most recent call last)",
      "\u001b[0;32m<ipython-input-131-10d580bab375>\u001b[0m in \u001b[0;36m<module>\u001b[0;34m()\u001b[0m\n\u001b[0;32m----> 1\u001b[0;31m \u001b[0mca\u001b[0m\u001b[0;34m.\u001b[0m\u001b[0mplot_grs\u001b[0m\u001b[0;34m(\u001b[0m\u001b[0;34m[\u001b[0m\u001b[0mgr\u001b[0m\u001b[0;34m[\u001b[0m\u001b[0;34m:\u001b[0m\u001b[0;36m200\u001b[0m\u001b[0;34m,\u001b[0m \u001b[0;34m:\u001b[0m\u001b[0;36m200\u001b[0m\u001b[0;34m]\u001b[0m\u001b[0;34m]\u001b[0m\u001b[0;34m,\u001b[0m \u001b[0mlog\u001b[0m \u001b[0;34m=\u001b[0m\u001b[0;36m1\u001b[0m\u001b[0;34m)\u001b[0m\u001b[0;34m\u001b[0m\u001b[0m\n\u001b[0m\u001b[1;32m      2\u001b[0m \u001b[0mplt\u001b[0m\u001b[0;34m.\u001b[0m\u001b[0mshow\u001b[0m\u001b[0;34m(\u001b[0m\u001b[0;34m)\u001b[0m\u001b[0;34m\u001b[0m\u001b[0m\n",
      "\u001b[0;32m~/CRISPR_research/CRISPR_assembler/src/crispr_assembler/utils/plot_utils.py\u001b[0m in \u001b[0;36mplot_grs\u001b[0;34m(start, end, log, all_ticks, s, subplots_form, *gr)\u001b[0m\n\u001b[1;32m     10\u001b[0m     \u001b[0mf\u001b[0m\u001b[0;34m,\u001b[0m \u001b[0ma\u001b[0m \u001b[0;34m=\u001b[0m \u001b[0mplt\u001b[0m\u001b[0;34m.\u001b[0m\u001b[0msubplots\u001b[0m\u001b[0;34m(\u001b[0m\u001b[0;34m*\u001b[0m\u001b[0msubplots_form\u001b[0m\u001b[0;34m,\u001b[0m \u001b[0mfigsize\u001b[0m\u001b[0;34m=\u001b[0m\u001b[0;34m(\u001b[0m\u001b[0ms\u001b[0m\u001b[0;34m,\u001b[0m\u001b[0ms\u001b[0m\u001b[0;34m)\u001b[0m\u001b[0;34m)\u001b[0m\u001b[0;34m\u001b[0m\u001b[0m\n\u001b[1;32m     11\u001b[0m \u001b[0;34m\u001b[0m\u001b[0m\n\u001b[0;32m---> 12\u001b[0;31m     \u001b[0ma\u001b[0m \u001b[0;34m=\u001b[0m \u001b[0ma\u001b[0m\u001b[0;34m.\u001b[0m\u001b[0mflatten\u001b[0m\u001b[0;34m(\u001b[0m\u001b[0;34m)\u001b[0m\u001b[0;34m\u001b[0m\u001b[0m\n\u001b[0m\u001b[1;32m     13\u001b[0m     \u001b[0;32mif\u001b[0m \u001b[0mend\u001b[0m \u001b[0;34m==\u001b[0m \u001b[0;34m-\u001b[0m\u001b[0;36m1\u001b[0m\u001b[0;34m:\u001b[0m\u001b[0;34m\u001b[0m\u001b[0m\n\u001b[1;32m     14\u001b[0m         \u001b[0mend\u001b[0m \u001b[0;34m=\u001b[0m \u001b[0mgr\u001b[0m\u001b[0;34m[\u001b[0m\u001b[0;36m0\u001b[0m\u001b[0;34m]\u001b[0m\u001b[0;34m.\u001b[0m\u001b[0mshape\u001b[0m\u001b[0;34m[\u001b[0m\u001b[0;36m0\u001b[0m\u001b[0;34m]\u001b[0m\u001b[0;34m\u001b[0m\u001b[0m\n",
      "\u001b[0;31mAttributeError\u001b[0m: 'AxesSubplot' object has no attribute 'flatten'"
     ]
    }
   ],
   "source": [
    "ca.plot_grs(gr[:200, :200], log =1)\n",
    "plt.show()"
   ]
  },
  {
   "cell_type": "code",
   "execution_count": 10,
   "metadata": {
    "collapsed": true
   },
   "outputs": [],
   "source": [
    "grs = [x.graph_from_pairs()[0] for x in reads]"
   ]
  },
  {
   "cell_type": "code",
   "execution_count": 11,
   "metadata": {
    "collapsed": true,
    "scrolled": false
   },
   "outputs": [],
   "source": [
    "np.save(paths[0] + \"graph\", grs[0])\n",
    "np.save(paths[1] + \"graph\", grs[1])"
   ]
  },
  {
   "cell_type": "code",
   "execution_count": 18,
   "metadata": {},
   "outputs": [
    {
     "data": {
      "image/png": "[encoded data removed]",
      "text/plain": [
       "<matplotlib.figure.Figure at 0x7fcb687dbf60>"
      ]
     },
     "metadata": {},
     "output_type": "display_data"
    }
   ],
   "source": [
    "cut = 100\n",
    "ca.plot_grs(grs[0][:100, :100], grs[1][:100, :100], log = 1, s=20)\n",
    "plt.show()"
   ]
  },
  {
   "cell_type": "code",
   "execution_count": 17,
   "metadata": {},
   "outputs": [
    {
     "data": {
      "text/plain": [
       "[(2829, 2829), (3635, 3635)]"
      ]
     },
     "execution_count": 17,
     "metadata": {},
     "output_type": "execute_result"
    }
   ],
   "source": [
    "[x.shape for x in grs]"
   ]
  },
  {
   "cell_type": "markdown",
   "metadata": {},
   "source": [
    "## Merge reads"
   ]
  },
  {
   "cell_type": "code",
   "execution_count": null,
   "metadata": {
    "collapsed": true
   },
   "outputs": [],
   "source": []
  },
  {
   "cell_type": "code",
   "execution_count": 34,
   "metadata": {
    "collapsed": true
   },
   "outputs": [],
   "source": [
    "def unwrap_idx_to_spacer(idx_to_spacer):\n",
    "    values_as_list = []\n",
    "    for i in range(len(idx_to_spacer)):\n",
    "        values_as_list.append(idx_to_spacer[i])\n",
    "    return values_as_list"
   ]
  },
  {
   "cell_type": "code",
   "execution_count": 35,
   "metadata": {
    "collapsed": true
   },
   "outputs": [],
   "source": [
    "d1 = {1 : 'AAA', 2 : 'CCC'}\n",
    "d2 = {1 : 'AAB', 2: 'GGT', 3 : 'CCC'}"
   ]
  },
  {
   "cell_type": "code",
   "execution_count": null,
   "metadata": {
    "collapsed": true
   },
   "outputs": [],
   "source": []
  },
  {
   "cell_type": "code",
   "execution_count": 28,
   "metadata": {},
   "outputs": [
    {
     "ename": "SyntaxError",
     "evalue": "invalid syntax (<ipython-input-28-22cf7978d4c7>, line 7)",
     "output_type": "error",
     "traceback": [
      "\u001b[0;36m  File \u001b[0;32m\"<ipython-input-28-22cf7978d4c7>\"\u001b[0;36m, line \u001b[0;32m7\u001b[0m\n\u001b[0;31m    for i in range(len(reads))\u001b[0m\n\u001b[0m                              ^\u001b[0m\n\u001b[0;31mSyntaxError\u001b[0m\u001b[0;31m:\u001b[0m invalid syntax\n"
     ]
    }
   ],
   "source": [
    "def merge_reads(reads):\n",
    "    pointers = [0 for i in range(len(reads))]\n",
    "    merged_sp_to_idxes = [{} for i in range(len(reads))]\n",
    "    \n",
    "    curr = 0\n",
    "    while continue_steps(reads, pointers):\n",
    "        for i in range(len(reads)):\n",
    "            if pointer[i] < len(reads[i].spacer_to_index):\n",
    "                dist, closest = ca.find_closest(merged_sp_to_idxes, )\n",
    "    "
   ]
  },
  {
   "cell_type": "code",
   "execution_count": 20,
   "metadata": {
    "collapsed": true
   },
   "outputs": [],
   "source": [
    "r = reads[0]"
   ]
  },
  {
   "cell_type": "code",
   "execution_count": 25,
   "metadata": {},
   "outputs": [
    {
     "data": {
      "text/plain": [
       "OrderedDict([('ATTACGCCTTTTTGCGATTGCCCGGTTTTTGC', 3594),\n",
       "             ('TGGCTCTGCAACAGCAGCACCCATGACCACGT', 2411),\n",
       "             ('GAAATGCTGGTGAGCGTTAATGCCGCAAACAC', 2368),\n",
       "             ('GACAGAACGGCCTCAGTAGTCTCGTCAGGCTC', 1905),\n",
       "             ('CTGTTTTCGCAAATCTATGGACTATTGCTATT', 1833),\n",
       "             ('GTAGTCCATCATTCCACCTATGTCTGAACTCC', 1555),\n",
       "             ('TCGGTTCAGGCGTTGCAAACCTGGCTACCGGG', 1543),\n",
       "             ('CAATCTGGGCGACCGGTCATCATCGCTTCGATG', 1210),\n",
       "             ('GCAGGCGGCGACGCGCAGGGTATGCGCGATTCG', 934),\n",
       "             ('AAGCTGGCTGGCAATCTCTTTCGGGGTGAGTC', 884),\n",
       "             ('CCGGGGGATAATGTTTACGGTCATGCGCCCCC', 870),\n",
       "             ('TCAACATTATCAATTACAACCGACAGGGAGCC', 833),\n",
       "             ('TGGGCGGCTTGCCTTGCAGCCAGCTCCAGCAG', 831),\n",
       "             ('GCGACCGCTCAGAAATTCCAGACCCGATCCAAA', 823),\n",
       "             ('AGCGTGTTCGGCATCACCTTTGGCTTCGGCTG', 767),\n",
       "             ('TAGTTTCCGTATCTCCGGATTTATAAAGCTGA', 666),\n",
       "             ('CTGCTGCTCGAGCTGGTGGAGTGCTGCTATAG', 663),\n",
       "             ('CAGAACATACTTCAAAGCCCGAGGCGTACACG', 563),\n",
       "             ('TAGGCCTATAGAGACGAGCGTTCGTTAAAGCA', 523),\n",
       "             ('ATAGACCCCGAACAACAATACGCGCAAACCGA', 521),\n",
       "             ('AACGTCAGGTTGTCGCCGCTCTGCGTGGTCGC', 472),\n",
       "             ('GATCAGATAAATGGCGAGACGATCCTGTTGCAC', 454),\n",
       "             ('AGTGCTGGACCATTTCAAATTCACAATAGATT', 450),\n",
       "             ('GCGGGCGTTAACGCGGTGATACTGTTTGACGG', 380),\n",
       "             ('TACCGTACAGACTGCCGGATATTATTTTTTTG', 378),\n",
       "             ('GTATGGGAGCAATACCCCAACCTGATGATGTG', 373),\n",
       "             ('ACACGCCCTTATCAAATAGCTGTGATTTACCTA', 357),\n",
       "             ('GCCTGACATTGCAGACGTTACAAATTGAGAGG', 343),\n",
       "             ('GGTCAACTGCTCACGTTTCTCAATCTCACTAC', 332),\n",
       "             ('CAGTAATTGCACCCTCAGCATCATTAACCATG', 328),\n",
       "             ('ATAGCTGCGGCGGTAGGCGTCGAACCGTGGAC', 324),\n",
       "             ('CACACCGTCGCCGGTGCGCGATAACACGTAAA', 312),\n",
       "             ('CAAGTGATATCCATCATCGCATCCAGTGCGCC', 312),\n",
       "             ('TATACCGCCGTACATATTTCTCTGCCCAGTTA', 302),\n",
       "             ('TGCATGGCTTTGGCTTCCTCTTTGACGGACGC', 302),\n",
       "             ('GTCACCAACATTTTCGCCGTTCAGGCCCGCAG', 299),\n",
       "             ('GGCAGCGAGCGAAGCTAAAGACCACGCTATTA', 283),\n",
       "             ('GGCAACATAACGAACAAAATCAACGTCAACCT', 282),\n",
       "             ('TGCGTGAGCGTATCGCCGCGCGTCTGCGAAAG', 280),\n",
       "             ('ACGAACGCGGCACACCAGGGCGTCTCATCGTC', 265),\n",
       "             ('ATATATCAGAGCAAAAAACAAAGCCACAGCCA', 261),\n",
       "             ('CAGGTTCGTAAAGGTGAACACGGCACGACGGC', 259),\n",
       "             ('GGACTTAAAGATCGCATCACAGTACTGGAGGG', 256),\n",
       "             ('TCCGTCCACCCTGATAGCCGCCCTTGTGATCC', 253),\n",
       "             ('GCGTCGCCATTCTATTAGCTTTTCCTCATCAC', 252),\n",
       "             ('ACCCTCACTCAAAGCTGCTGCTGCGGCCTCTG', 248),\n",
       "             ('GAGGGTCTGGAAGCACTACCAGAAGCGGAGCA', 235),\n",
       "             ('TTTTACAGTGTCAACAATCGTTCCCTGATTGT', 232),\n",
       "             ('CGACCGCTCAGAGGATCCAGACCCGATCCAAA', 222),\n",
       "             ('CGATGAATAAAGCCAAGAGTAAAGCGCATGAA', 221),\n",
       "             ('CAACGAAATTGAGAGCAAAGGTCGCTACGCAG', 221),\n",
       "             ('CCGTAAGTGGTTTGAGCGATGATATTTGTGCT', 217),\n",
       "             ('TAAACCACCAGCCAGACCACCAATTACCACAC', 212),\n",
       "             ('TTCGCCGCCATCATCCTGTGGTGCCAGTTGAC', 211),\n",
       "             ('TCGCACCGCGTTAATCCGGCAGAAAAACAACA', 210),\n",
       "             ('TCGAACCTGTTTTTCTTAGTGCGCGCAACGTC', 210),\n",
       "             ('CAGGCGGCGACGCGCAGGGTATGCGCGATTCG', 204),\n",
       "             ('CGTCAAAACTGTACGAGCCGTCCATGCCCGTA', 198),\n",
       "             ('TGGCCTGACTTTATCAAGCAGTGCATACTGAC', 196),\n",
       "             ('CCAGAGCATAGCGTTATTGGTTCTTCCTAGTA', 191),\n",
       "             ('GAATGATCCCAAATTTGGGTTACAGAACCAGT', 191),\n",
       "             ('CGAGCAGTATACAGAACTCAAGAACGCGCCGT', 188),\n",
       "             ('GCGTCCACTTCGGGATTTGTGGCAGGGAGTTC', 182),\n",
       "             ('AGTGGCAGGCCGGTAATATGAAAACGACAGAG', 181),\n",
       "             ('ACGCGCGTACCGGATCGCGGACAACAAATTGC', 180),\n",
       "             ('GTAACGTGGCGACGACCGGCGATTGATTTCAG', 180),\n",
       "             ('ATTCATCAGTGTGATCCACTGCATGCTGGTGA', 178),\n",
       "             ('CAATCTGGGCGACCGTTCATCATCGCTTCGATG', 175),\n",
       "             ('TATTTCGCCTTCGGCACTGACGTCACCGTCAA', 172),\n",
       "             ('CATAAAGAAACTATTTTGCGTTTCGTTCAGGT', 171),\n",
       "             ('TAGATTGATACTAGTATGCCAGTCATTATGTA', 169),\n",
       "             ('CAGCGTCAGGCGTGAAATCTCACCGTCGTTGC', 168),\n",
       "             ('AAGACGACGTGATCCGCAAAGTCGAAGGCACG', 167),\n",
       "             ('ATCACGATAACGCTGCTGTGATTCGTCCCCGT', 166),\n",
       "             ('GATTGATACCTCGACGGGCTGGCCGTTCTTCA', 164),\n",
       "             ('GGAATGATATTTCAATAAATAATTATAACAAT', 162),\n",
       "             ('CCGACAATCTCCGCCTCCAGTCGGTCGACCTG', 160),\n",
       "             ('CCGCCGTTGGCACCGTCAAACTCCGGTACTGT', 160),\n",
       "             ('CCTGGTGTTGTCTGTTTCGTGACGCTCGGTAA', 154),\n",
       "             ('ATCAGTGATATCCAACATTGCGGAGCTAAACG', 153),\n",
       "             ('AAACTCTGGGCGCTCGAATGGCTGTCCTATTG', 152),\n",
       "             ('TGTGCCCGACTGCGTGCCGCGTCGAGCGCCTG', 149),\n",
       "             ('TATAGAGATCGTTTTTGGAATTTACAGCGAGG', 149),\n",
       "             ('TGAAGCATCAAACATTTGGTGGACCAAACGGA', 148),\n",
       "             ('TGTTTCTGTCCCAACTGAACAGCGCCGATAGT', 148),\n",
       "             ('CGGCATATCAGGAGTTGGAGCAACCAGCGAGA', 144),\n",
       "             ('GCACGCGGCGAACGGCGTCACGCTCGGGGTGAT', 142),\n",
       "             ('GTCGCCGGGTTGATTTTCCATGATGATTTTTA', 141),\n",
       "             ('ACATGAATGTCGGTTCAGACCGTGTTTTTACC', 139),\n",
       "             ('TGCTCAATAACGTCGTAAATAGCGTAAGCTGG', 137),\n",
       "             ('TACGGGTTGTACCATGCCACTGGCGTTTTGTG', 133),\n",
       "             ('GTGCCAGTTCTCTGGTTGACGATCGGGAATGC', 133),\n",
       "             ('CCGCCAAACAAGCAGCGCCGTGATGATGACAA', 132),\n",
       "             ('ATAACCTGTTTAACCAGGCGACGGGTTTCCAT', 129),\n",
       "             ('CGTCCGGATCGGTTTCGAGAATCTCTACGCTC', 124),\n",
       "             ('CAAGTGATGTCCATCATCGCATCCAGTGCGTC', 123),\n",
       "             ('AGCTCCTGGCTCAATATCTGGAAGAGGATCAC', 120),\n",
       "             ('TGACCTGAAGAAATAACATTGACTCCAAACTG', 118),\n",
       "             ('AGCTGGGCGAAATTTTGATTCATCGTGATGAC', 117),\n",
       "             ('CCTGCGTAGTTGATCACGATTTCCGGGATAAT', 116),\n",
       "             ('GAAGAGTTTTCCGGCTTTGTCCTGCTGGATGA', 113),\n",
       "             ('TGAATGATCGGAAAGACGCTGCAAAGGCAATG', 113),\n",
       "             ('TGGTGTGATTCCAATTGCCGCACGGAACGCCG', 113),\n",
       "             ('GTCAACCACAACCAGATTGATGTGCTTGGTCT', 112),\n",
       "             ('TTAATCAGGTCGTCGTACTCAGCGCCGCTGGC', 111),\n",
       "             ('CGTCCCCGGAGTTCTGTCCAGCAACGACAACG', 111),\n",
       "             ('ATCTTCTTGTTCAGGAACGTCAGTAGAGGTGT', 110),\n",
       "             ('TGCATATCAGATGGGCACTGCTGATTGGAGAA', 109),\n",
       "             ('CAATCTGGGCGACCGGTCATCATTGCTTCGATG', 107),\n",
       "             ('TGACGCCAGAGGCTGTTAATCCCGTCATTTTT', 104),\n",
       "             ('TTTGCCGCTGTCAGCATTGCTGGCGCGTAATA', 104),\n",
       "             ('GTCGCCTGCCGCCTCAATCTCACCACTCGGAG', 103),\n",
       "             ('TTATGAGCTTCAGTAAGCCAGCGTGGTTCGCT', 102),\n",
       "             ('GAGGCGCTCACCTATCTCCTGAATATCTGAGC', 102),\n",
       "             ('CTGAAACCAGTTGGCTCGTTGTTCTTCTTTGG', 101),\n",
       "             ('GGCGATACAAGCACCCGATTACCGGCAAATTT', 99),\n",
       "             ('ATCACGATAACGCCGCTGTGATTCATCCCCGT', 99),\n",
       "             ('TTGCTGAAAAAGAAGGCTCCGGCGTTATCAGT', 98),\n",
       "             ('AAGTAATCATGCCTTAATAGACCCCATCGTCA', 97),\n",
       "             ('CCAGTACACCCGACGTTGTACGCGGCGTCGGT', 97),\n",
       "             ('AGTTCGACCCTACTCAGGCCGGACTATGGCCA', 97),\n",
       "             ('GTTTTCTCTACATTTAGCTATAGACGTTAGTT', 94),\n",
       "             ('TTAGAGATGACGCGACAAGTCCACAAGCTGCG', 92),\n",
       "             ('CAATCTGGGCGACCGGTCATCATCGCTTCGATA', 92),\n",
       "             ('ATGGCGTGTCTCGATTGCGCGCTGCCGCACTG', 92),\n",
       "             ('ACGGATTGCGGTATATGCAGTGTCCAGATTCT', 90),\n",
       "             ('CGGGGGGATAATGTTTACGGTCATGCGCCCCC', 90),\n",
       "             ('GAGCGAAGGTGCAACATTATCACCATATTCGG', 88),\n",
       "             ('TGACTACTACCGCTGAAAGGCTGTCGCTACTGG', 88),\n",
       "             ('ACATCAAGCCCTCAGTATTGTGTTAACCAAGA', 87),\n",
       "             ('TCATTTCCCATGCAAAATGCTGCATTCCTGGC', 85),\n",
       "             ('TGAAGGTGCTGAAGAATATCGGATTCAGAACG', 85),\n",
       "             ('ATCTCGGGCTGAATGAGATCCCAACAATCACG', 84),\n",
       "             ('GGGGTTGTCGTTGTTTTGCCAGCGTCCTTCAT', 82),\n",
       "             ('GTTACGCTGCCTGAATATCGCAATTCCCCTGA', 80),\n",
       "             ('GAGGTGGCAATACGCGTAGATCATTTGGTCGT', 80),\n",
       "             ('TTTGGTATCTGCGCTCTGCTGAAGCCAGTTAC', 79),\n",
       "             ('GTCGCCTGTTCAACTTTAAACGGCTCAAACCA', 79),\n",
       "             ('AACTGGATTCTGCTCTAATTATTACATCATCG', 78),\n",
       "             ('CCGATCAGCACACCCGAACCGACACCGACGAC', 77),\n",
       "             ('ATTACGCCTTTTTGCGATTGCCCGGTTTTTCC', 77),\n",
       "             ('GCGCCTCGGTTGTTTAGCCATGCTCAGCCCCA', 77),\n",
       "             ('ATAATTTGACGATGAAGCAGCGCCCCACATTC', 76),\n",
       "             ('GAACCGCTTTTATTTTTAGACATAGAGCACCG', 75),\n",
       "             ('AAAACCAAACTTCTCCATAAATTCCATAGCCG', 75),\n",
       "             ('GCCGTTTTCATAGCCCTCGACTTTTAGAATTT', 75),\n",
       "             ('TCTTGCCGTGATGTGAAAGCTGAATTATCCCG', 74),\n",
       "             ('AGCATTAACCCCCACCAGCTCGACGTGTGTGG', 74),\n",
       "             ('GTTGTCGCGGTAGTATTTAGTCGAAAGCATGA', 74),\n",
       "             ('GGAATATCGTTGCGCTAAAAGAGATTCTGGGC', 74),\n",
       "             ('AATGCATCAGTTGAACACAAAAGTAGCTTTTC', 74),\n",
       "             ('TGTAAAAGTTGATTTTCATATTGCTCTAATTG', 73),\n",
       "             ('CTATAATTTGTTTTTGCACCACTGTACCTCGT', 73),\n",
       "             ('CCGGAGCTGGGATTGATAGCGCCTGAT', 72),\n",
       "             ('CGACTCAGTGGCAACACATCCACCCCACGATC', 72),\n",
       "             ('TAGTTAACTTTTAGACAGAATATCCGTGTACC', 71),\n",
       "             ('TGTGTCGGAATATGCGGGCTGATTTTCGTCTG', 71),\n",
       "             ('TCGTAACAAGGAGATTTAAGTGGAAGAGATGC', 70),\n",
       "             ('CGATTCCTCGTAGCTGCCACTCGACTGAAAGC', 69),\n",
       "             ('GCTGGTTTTGAATCGTCCCGCGCTCGAGACGC', 69),\n",
       "             ('TACTGCTCCGCTGGCGTTTCTCCCTCGCCCAG', 68),\n",
       "             ('GAGACTTTTCACACTGATAATGTTGTTATTTT', 68),\n",
       "             ('TTCTGTCACCTGACTATTTAACGCTATATTTC', 67),\n",
       "             ('ACTCACATTAATTGCGTTGCGCTCACTGCCCG', 67),\n",
       "             ('GATAAATCGCTCACGAAGAATAATTCTACCCC', 67),\n",
       "             ('CCGAACGGCTCGGCGCTCTCATACCCCCAAAT', 67),\n",
       "             ('TCGGTTCAGGCGTTGCAAACCTGGCTACCGGA', 67),\n",
       "             ('CTGCCGACTGACCGCCGACGCTTTCGCGTTAA', 67),\n",
       "             ('GATCCGGCTCACGATTTTGACGATGAGATCCC', 67),\n",
       "             ('TGGCGGTGTAAATTTTTACGTTTTTCATATCT', 66),\n",
       "             ('CCCTCACACCGATTCGCCAAACGGTGGAGAAG', 66),\n",
       "             ('TCTTCGGGCGCGCGTTTTCGCAGACCAGCGAT', 66),\n",
       "             ('TGCCAGTGACTACAGAAGCGTCTCTATCGGGG', 66),\n",
       "             ('ACACCCAAACACAAGCCCAAATCGCGACCGAA', 66),\n",
       "             ('CCTGGTCTTGTTGTCACGGTCGAGCACTTCGA', 65),\n",
       "             ('GGAAACCGCCCCGGCGGTGGTTAGCTGTTTGC', 64),\n",
       "             ('ACCGGAACGTATCAGAATATGATGATCTCCGG', 63),\n",
       "             ('CCTGGTGGAGATTGACGCGAAATATGAGAAAC', 63),\n",
       "             ('TACAGTTAAGCGTAAAGTAAGTGATACTGGTG', 62),\n",
       "             ('GTCGCGTTCGTTGCCGGTATAGACCAGCGTCA', 61),\n",
       "             ('GAACCTTCAATCTCCAAATGGGCAGACGGGAT', 61),\n",
       "             ('GTATATCACGCCGCAAACGGGATCAGCAGCAG', 60),\n",
       "             ('AGCCAGGCCCACGGCTGTCTTATTGAAATTGC', 60),\n",
       "             ('GGCTTTAACCACACGAGCAAGTCCTTCGCCGG', 59),\n",
       "             ('AGCAACGGCAGGATCCCCATCGGGTCGTCCGG', 59),\n",
       "             ('GGGCGGACTACGCGGGAGATAAACCAGTTTTG', 58),\n",
       "             ('CGGGGTACTCGAATGAAATCTATCGCAGAAAG', 58),\n",
       "             ('TAGTTTCCGTATATGCATATTTATAAAGCTGA', 58),\n",
       "             ('GCGATGGATCAGGGTATTACACTCGACGGCGG', 57),\n",
       "             ('CACGACGGGCAGGCGATCACCGGCATGACCCA', 56),\n",
       "             ('CACAGTTTTTGATATATCACCACGCTTTTTCT', 56),\n",
       "             ('CCAGGTTTGGAACTCGGGCCAGATGACCATGA', 56),\n",
       "             ('CAGGGTTGCGCGATGCCGTGAAGGCAACAGAG', 55),\n",
       "             ('AATGATAAATTATCCGTTACCGCAATAACAAT', 54),\n",
       "             ('CTGATTGTCAAAATCAAAAAACAGGCCGAGTC', 54),\n",
       "             ('ATTACGCCTTTTTGCGTTTGCCCGGTTTTTGC', 54),\n",
       "             ('ATTAAATTTTGCAGGTAGCTGTTATCCGTGTC', 54),\n",
       "             ('TCAATGCCATAATCAAAAGCGGCCAGAATTGC', 53),\n",
       "             ('GATGAGCAACACGCCCGCACTGGCGTAACTTA', 53),\n",
       "             ('ATTACGCCTTTTTCCGATTGCCCGGTTTTTGC', 52),\n",
       "             ('CTATAGCGCCACGTTCCGAGCGCTGCGAGCTG', 52),\n",
       "             ('CTGCCCAAAGACCTGTATTCCTCTGATGGTTC', 52),\n",
       "             ('CGTTGGCTGGAGATATGGGAGTACCTTTGGAA', 51),\n",
       "             ('ATCTTCATATTGCGTGACGCTGCCGATGAACG', 51),\n",
       "             ('AATCGAGGTCGGGCAGAACATCGCGTAGACCTGCACCTCGGGCAGCAGCTCCTGAACG',\n",
       "              51),\n",
       "             ('ATTTTCAATTTCTAATAATTCATCTCCTCAGC', 50),\n",
       "             ('GTTATCACCGAGTGCAGTAGCCCGCGCGCGCT', 50),\n",
       "             ('CCAACAGTAATTGCAAAATCCTGTTGTTTAAT', 50),\n",
       "             ('TGGCAAAACAAACATCGGGGTACGCGTGGTGC', 49),\n",
       "             ('TTTTTTAACTGGGCGCGCAGAGTGGCACGTTG', 49),\n",
       "             ('CCGCAAATGCCAAGACTCGCAAGCCAGCCCAG', 49),\n",
       "             ('ACTTCCTTCAGTCTTAACGATAATCCGCAACG', 48),\n",
       "             ('GCGGATCCACAGCTTGCCCTTGCGCTTCATTTCA', 48),\n",
       "             ('GGGAAGCCGTCAACCTCGGCGTGTTTGAGCAG', 47),\n",
       "             ('ACCGATAAACAACCGCATAGCCTCTTTCGTTT', 47),\n",
       "             ('GGGATCAGCACCGACAACCTAAAACCACTGTT', 47),\n",
       "             ('GAAATGCTGGTGAGCGTTAATGCCGCAAACCC', 47),\n",
       "             ('GAATTTTAAATTTATGTGTATGAATTGTGGCA', 47),\n",
       "             ('AATGTTTCCCGCACCCAAATGCGATCGCCAGG', 46),\n",
       "             ('TAAGCCGTGACGCGGGTCGCCGCTGGCGTCAA', 46),\n",
       "             ('ATTTCGCCTTTTTGCGATTGCCCGGTTTTTGC', 46),\n",
       "             ('CGAGCGTCGGCAGCATCGCAAAGCGCACCTGC', 46),\n",
       "             ('AGTTAACAACCCGCGCCGAACAAGCCCGACAA', 44),\n",
       "             ('TCGATAATGTATTTGCGGGCAGAAAGGGCGCG', 44),\n",
       "             ('CTGCTGCTCGAGCTGGTGGAGTGCTGCTATAA', 44),\n",
       "             ('TCGCCCCGAAGAACGTTTTCCAATGATGAGCA', 44),\n",
       "             ('TTCATACGCTGCGCCAGTTCGGTGATATCAGT', 44),\n",
       "             ('GTTACGTTCGGTAAATGGAAAGCGGCGAATAT', 44),\n",
       "             ('GCCGAGCATATCGAGCTCACGGGCGCGGGTTT', 43),\n",
       "             ('GTCACGATAACGCTGCTGTGATTCGTCCCCGT', 43),\n",
       "             ('ACTCTGGCGGCGGCGCAGGCGGATATCGCGAA', 43),\n",
       "             ('TTCGGGCAGCGGCCCGGCGCTGGCTGGCAGGC', 43),\n",
       "             ('CCAGATTCCGCTTTCTCTACCTTCTCTTTTTC', 42),\n",
       "             ('GCAAAATAGCGATGAGCTGGCTACGCCCACTGG', 42),\n",
       "             ('ATTTCGACGCGCTCTTTTTCGCTCGGTAAAAC', 42),\n",
       "             ('TTTTTGTTAATTGCGTTTGCCACGGTTTGCAA', 42),\n",
       "             ('CTGCTTTCGCAAATCTATGGACTATTGCTATT', 42),\n",
       "             ('ATTACGCCTTTTTGCGATTGCCCGGCTTTTGC', 42),\n",
       "             ('TCCGCATCGCTCATGCCGATAATCGGGCTCGG', 42),\n",
       "             ('CCCATTCCAATTGATACTCATACGTTGTT', 42),\n",
       "             ('TCGGCCAGCGTCCAGGCTGGCACCCGATATTC', 42),\n",
       "             ('CTGTTTTCGCAAATCTATGGGCTATTGCTATT', 42),\n",
       "             ('GCGGTCCTGGTAGGTTGCAGTGCGTCCCGAAAA', 41),\n",
       "             ('TCCCCCATGTTGTGCAAAAAAGCGGTTAGCTC', 41),\n",
       "             ('ACTGGATGGAGGCGGATAAAGTTGCAGGACCA', 41),\n",
       "             ('AAGCTGGCTGGCAATCTCTTTCGGGGGGAGTC', 40),\n",
       "             ('TCTTTATCAGCTAACCATTTCCAGAACTCGTC', 40),\n",
       "             ('ACCATGTACGGCAGCGGGGTTTCCACGGCCAA', 40),\n",
       "             ('ATCCATGCCGTCCTGAATATCGAAGCGATGCA', 40),\n",
       "             ('TGGCTCTGCAACAGCAGCACCCATGACCACGC', 40),\n",
       "             ('AACCCTTACGGTTATATGAAAGAAGATTTTTA', 40),\n",
       "             ('ATTACGCCTTTTTGCGATTGCCCGGTTTTTTC', 40),\n",
       "             ('GGCGAACAACCGACCCCTGTTGGACCCGACGA', 40),\n",
       "             ('TGAGCGTCGGCGGCTCGCTGGATTTGCGCGG', 40),\n",
       "             ('GCGACCGCTCAGAAATTCCAGACCCGATCCAAG', 39),\n",
       "             ('ATGAAACGCCGGACTAATCCACATGGCGTAGG', 39),\n",
       "             ('TAAAATTGGCATCATAGATGGTTTGATAGTCC', 39),\n",
       "             ('TAGTAACGCGGGTTCGCCCGTAAACCGCGAGA', 39),\n",
       "             ('AACTGAAGGGCCGCCGCTACCCGGTTAACACC', 38),\n",
       "             ('ACGGCCTGATTTAGAGTTAAACATGGTCACGC', 38),\n",
       "             ('CGTTTTTGCCGGGTTTATTTTAAAACCGGAGC', 38),\n",
       "             ('GATTGCACAGGGGGTGAGTATGGAACAGCTGA', 38),\n",
       "             ('GTCGACCATATGCCAAGACCAACTATCTGATT', 38),\n",
       "             ('ATTACGCCTTTTTGCGATTGCCCGGGTTTTGC', 37),\n",
       "             ('GGGCTTTCCGCCTACCTGCGACATCATGCGCT', 37),\n",
       "             ('GTCGGCAGAGAATCGTTCGATTGCCCCTACAT', 36),\n",
       "             ('CGCAAACTTGAAGGACGGATGACCGTATGAAC', 36),\n",
       "             ('TGGACCGATGGGGCCAACATCGCCGAACGTGG', 36),\n",
       "             ('TTTGCTACCCGCTCAAAACCGCCGATTCGCGT', 36),\n",
       "             ('TCCTCCGCAGCCTTGACCAGCGGATATGTTTT', 36),\n",
       "             ('GCCATAACCATGAGTGATAACACTGCGGCCAA', 35),\n",
       "             ('GCAGCTTAGCGACGAAATTAAAACCGAACTCAC', 35),\n",
       "             ('TGGCTCTGCAACAGCAGCCCCCATGACCACGT', 35),\n",
       "             ('ACACACCAGGACCGCGCCAACTTACCCCGCGT', 35),\n",
       "             ('GTAGTCCATCATTCCCCCTATGTCTGAACTCC', 35),\n",
       "             ('ATGACTACACGTACCCGATGCGCGGCGCGGGG', 34),\n",
       "             ('GTACATGATGTACAAGGGCGATCTGAGGGTGG', 34),\n",
       "             ('TGGCTCTGCAACAGCAGCACCCATGACCCCGT', 34),\n",
       "             ('ATATCCAGCCTGCGATAGAGATAGTTTTCCGG', 34),\n",
       "             ('TGTACGCGGCGAGTTTTAGCGACAGGTCATCC', 34),\n",
       "             ('ATTACCCCTTTTTGCGATTGCCCGGTTTTTGC', 34),\n",
       "             ('GCTCATGTCAAACGCCATCAGCGTTCCGGCAT', 33),\n",
       "             ('TGACCGATTTTATTGATCGCCCGATAGACCTG', 33),\n",
       "             ('CACAAACCGCCCATCTTCCCGATTACTGCAGC', 33),\n",
       "             ('CTGAGAATAGTGTATGCGGCGACCGAGTTGCT', 33),\n",
       "             ('GCCCGCCTCGTCGGTGTATTCCGCGAGATCGC', 33),\n",
       "             ('GCAGGCGGCGACGCGCGGGGTATGCGCGATTCG', 32),\n",
       "             ('GAACGCAATATCACGGCGTTCTGCGGCCTCGG', 32),\n",
       "             ('GGACCAAATACCCGTCCCTCAATCCACGCCGT', 32),\n",
       "             ('GTAGTCCATCGTTCCACCTATGTCTGAACTCC', 32),\n",
       "             ('CTTTTTTCGCAAATCTATGGACTATTGCTATT', 32),\n",
       "             ('CCCTCGTGCGCTCTCCTGTTCCGACCCTGCCG', 32),\n",
       "             ('CAGTTGTCTGATGTGTCGCTGGCCTGGCGGCA', 31),\n",
       "             ('CACCCTGAGCGTAAAAAAAATGCTGAGGCGAT', 31),\n",
       "             ('ATTACGCCTTTTTGCAATTGCCCGGTTTTTGC', 31),\n",
       "             ('TGTCACAGTGACCGGCGGGAACTTGAAAATCA', 31),\n",
       "             ('AATCGCCAGCCTCGGAAATATTCCATCCTCCG', 30),\n",
       "             ('TGGCCCTGCAACAGCAGCACCCATGACCACGT', 30),\n",
       "             ('CATGGCCTGCTCCGCCGGCACCGCCAGGGTGGCCACCTTCT', 30),\n",
       "             ('TGGCAGCCAGGCGTTCATCGGTGACGACGAGGC', 30),\n",
       "             ('GACAGAACGGCCTCATTAGTCTCGTCAGGCTC', 30),\n",
       "             ('ATCAACGTTATCGATTACAACTGACAGGGAGC', 30),\n",
       "             ('GATTCCGGCAAGGCGCTGGTCAGCACGGCTCT', 30),\n",
       "             ('CTAGGAGGCGTAATGAATACTACGTATCAAAA', 30),\n",
       "             ('GTCCTCTTTTTTCGACGTCAGGAAAATATCGG', 30),\n",
       "             ('ATGAAGTCCTTATAGTACATTTCAAATACTCC', 29),\n",
       "             ('GTAGTCGGTGGCCATGGGCTGCAGCTCCTGGG', 29),\n",
       "             ('CAAACAGGTCGACATGTTTGGCTAACAGCTAA', 29),\n",
       "             ('GTGGAAACCATCGCGAAGAGCTACTGGGAACG', 29),\n",
       "             ('TGTAATAGCCTGATCTCTGATCTCCCTCGCCT', 29),\n",
       "             ('ATAATGCTCATGAGCAGGCATAGGATTGACGA', 29),\n",
       "             ('GAGGTGGCAAAATATTGTCAGCGGGATTTTTT', 29),\n",
       "             ('AAAATTCATATTGATAAACACCGCGTTTGTAT', 29),\n",
       "             ('AGGAACTAAACAGCCTGACCGTTGAGGATCTG', 28),\n",
       "             ('GCAGGCGGCGACGTGCAGGGTATGCGCGATTCG', 28),\n",
       "             ('CAGCACGAAAAATTATTTACTGTCGTTGCTCA', 28),\n",
       "             ('AGAGTATGAGTATTCAACATTTCCGTGTCGCC', 28),\n",
       "             ('CAGCAGAGCGGATGAAAAAGCAGTAAATAACG', 28),\n",
       "             ('GATTTTTTTCGGTGACGGGCAACGGTCGAGAA', 28),\n",
       "             ('AAAGTGACGCGATAGACGCGCTGATTGACGCT', 28),\n",
       "             ('GAAATGCTGGTGAGCGTTAATGTCGCAAACAC', 28),\n",
       "             ('CTTTGCCTCGGTCATCGTAACCGTGATGCCCT', 27),\n",
       "             ('GTAGCCCATCATTCCACCTATGTCTGAACTCC', 27),\n",
       "             ('CCAGAAAGTGCCGGTAGTGCCTGATGAACGAC', 27),\n",
       "             ('GGTTTTACAAGCTTAAATGATTTTAAATTTTG', 27),\n",
       "             ('TACCGGTACCAGCTCAACCGCAACCCCATCAG', 27),\n",
       "             ('ATCCGCTCATGAGACAATAACCCTGATAAATG', 27),\n",
       "             ('CAATCTGGGCGACCGGCCATCATCGCTTCGATG', 26),\n",
       "             ('TTCGATGTAACCCACTCGTGCACCCAACTGAT', 26),\n",
       "             ('ATTACGCCTTTTTGGGATTGCCCGGTTTTTGC', 26),\n",
       "             ('TGGCTCCGCAACAGCAGCACCCATGACCACGT', 26),\n",
       "             ('TACCGTACAGACTGCCGGATATTATTTTTTG', 26),\n",
       "             ('GGCGGCTGGTTTCCTGTAATTCGTGAATCATA', 26),\n",
       "             ('CTGTTTTCGCAAATCTATGGCCTATTGCTATT', 26),\n",
       "             ('TTTTTTCTTCGGTGCCCAACCGCAGCCTAACG', 26),\n",
       "             ('CTCACCAGTTTTGGGGTCAATAACCGGGGGAT', 26),\n",
       "             ('GCAATCAGCTCCTCAATATATGTGGCCATTAG', 25),\n",
       "             ('ACGATGGGAAGGGCTTCTCACCGACTATGACCCTTCAAC', 25),\n",
       "             ('GGGCACTATGAACGGATCGGCGCTGATGCCGG', 25),\n",
       "             ('TCTTTTGATTTTGCTGCGATGTTATAACCAGA', 25),\n",
       "             ('AGCGTGTTCGGCGAATTCTTTGGCTTCGGCTG', 25),\n",
       "             ('ATTACGCCCTTTTGCGATTGCCCGGTTTTTGC', 25),\n",
       "             ('ATCGAATCGAAACCCCAGCCACAGAAATAATT', 25),\n",
       "             ('GGTAACTGTCAGACCAAGTTTACTCATATATA', 25),\n",
       "             ('TGGCTCTGCAACAGCAGCACCCATGGCCACGT', 25),\n",
       "             ('ATTACGCCTCTTTGCGATTGCCCGGTTTTTGC', 24),\n",
       "             ('GACTCAAAACGGCGCAGGTCAAAATCGTTCAA', 24),\n",
       "             ('AATGCCTCCAGCCTCATTTGAAACGCCGCCAG', 24),\n",
       "             ('CCGTTCATATTCGTTTCCTCGTGGCGCGATCT', 24),\n",
       "             ('GCTGACCTGTCGAATCCGTATAGCCGCCGTTC', 24),\n",
       "             ('CGTGGCAAGTGCGAAGCAGTCGCGGACTATGT', 24),\n",
       "             ('GTAGTCCATCATTCCACCTATGCCTGAACTCC', 24),\n",
       "             ('AGCACCACTGAAAATCTGTACGAAAGCAATAG', 24),\n",
       "             ('TTCCCATTTAGCGAGTTCTTTTGCCGCCAGCA', 24),\n",
       "             ('TAGGAGACGAGCGTTCGTTAAAGCA', 24),\n",
       "             ('GTCGACCATATGCCAAGACCAACTATCCGATT', 23),\n",
       "             ('ATTACGCCTTTTCGCGATTGCCCGGTTTTTGC', 23),\n",
       "             ('CCACCTGCCGCGACGGGTGCCAGCAGATCACG', 23),\n",
       "             ('CTCTACACCACCAACAGTCTGGGTTGCCACTT', 23),\n",
       "             ('TTGGTTGTTCGGCGTTTTGAAGAGAACAAAAA', 23),\n",
       "             ('CCCGAAAGAGATTGCCAGCCAGCTTAATTTGC', 23),\n",
       "             ('TTTTGCACAACATGGGGGATCATGTAACTCGC', 23),\n",
       "             ('GACAGAACGGCCTCAGTAGTCTCGTCAGGCCC', 23),\n",
       "             ('CAATCGGGGCGACCGGTCATCATTGCTTCGATG', 23),\n",
       "             ('TCCCCTGATTCTGTGGATAACCGTATTACCGC', 23),\n",
       "             ('AGCGTGTTCGGCATCCCCTTTGGCTTCGGCTG', 23),\n",
       "             ('CTTTCCACCCAGGCACTGATACTCCACATAAA', 23),\n",
       "             ('TCCCCCTTAATTGCTCTCAAAAGATTTGATCC', 23),\n",
       "             ('CATGTCGCGCAGGTTGCCCTGTGCATCCGCTG', 23),\n",
       "             ('TTTTGTGCCCTGGCGTTTTGCTGGCTCTCGCG', 23),\n",
       "             ('GCGATCGCGGTGGTTAATCTGCTGAAAATACC', 22),\n",
       "             ('TTCATGAAGCACGCTGGAATTTATATTTGCCC', 22),\n",
       "             ('TTACCAACTGGATAACGACGGGAAAGAGCTGT', 22),\n",
       "             ('GTTTTCATTTGCACGAGCTGCACCATAAGAAG', 22),\n",
       "             ('TGTAAAGGGTGGTCTGGAAGGGGATCGGCAAA', 22),\n",
       "             ('ATCACCGTCACAGGCCAGAACCGTCACCACCA', 22),\n",
       "             ('CTGTTTTCGCAAATCTATGGACTATTGCTTTT', 22),\n",
       "             ('GTCCTTGTGAACGCCAACAGTGATTGAGCTGT', 22),\n",
       "             ('ATTACGCCTTTTTTCGATTGCCCGGTTTTTGC', 22),\n",
       "             ('CGCGCACGGCGTTTGCCCTCGTCGGTTATTGG', 22),\n",
       "             ('GGATCTGCCAGCGCCTCTGCGGGGCGGTAAAC', 22),\n",
       "             ('GTCGCCAGCTCCAACTGGCGGCGGTCGCCCAC', 22),\n",
       "             ('TTTACGTCGAAGCGCCTTTTTCGCCTCCAGGT', 22),\n",
       "             ('GCGCAGCCCGATGCGGTTAGAGATATAGGCCTC', 21),\n",
       "             ('TTATAGAGTTGACTCAAATTCATTTTTATTCC', 21),\n",
       "             ('GAAATGCTGGTGAGCGTTAATGCCGCAAAAAC', 21),\n",
       "             ('CAAGTGATATCCATCATCGCATCCAGTGCGTC', 21),\n",
       "             ('CAACCCGGCGGCACGGTCAATCGTTGCGTCAG', 21),\n",
       "             ('GCTGAGGGGCCGAGAAGTTGCAGCGGCTGATT', 21),\n",
       "             ('CAGTGGCTGCTGCCAGTGGCGATAAGTCGTGT', 21),\n",
       "             ('GATGACGGTTGCGCCGTCCGCGCCGCGCGGCC', 21),\n",
       "             ('ATTACGCCTTTTTGCGGTTGCCCGGTTTTTGC', 21),\n",
       "             ('GACCCACTGCCGTTCCCTTACCCGCCATGTCG', 20),\n",
       "             ('TGGCTCTGCAACAGCAGCACCCATGACCACGG', 20),\n",
       "             ('ATTACGCCTTTTTGCGATTGCCCGGTCTTTGC', 20),\n",
       "             ('CCGGGGGATAGTGTTTACGGTCATGCGCCCCC', 20),\n",
       "             ('GTTGTTGTAATAAAGCCCCGGAGTTTTATATC', 20),\n",
       "             ('CCGTTAAAATATTCGCCCGTTGTGTAAGCGTA', 20),\n",
       "             ('AAGCTGGCTGGCAATCCCTTTCGGGGTGAGTC', 20),\n",
       "             ('ACTATGGCCCCGGCAAAAAACGCGCTGGTGGG', 20),\n",
       "             ('AAAATGCTGGTGAGCGTTAATGCCGCAAACAC', 20),\n",
       "             ('TGGCTCTGCAACAGCAGCACCCATGACAACGT', 20),\n",
       "             ('TCCCATTCACCAACAACAATATCGCCCTGCAA', 20),\n",
       "             ('ATCGTCCATATTAACAATCGTGGTGAGTTCAA', 20),\n",
       "             ('ATCCACATTTCCGCCGTTATGAATCGGTATTC', 19),\n",
       "             ('ATTACGCCTTCTTGCGATTGCCCGGTTTTTGC', 19),\n",
       "             ('GAGCCCTGCCAGAATGGGGCCTCTTTTGTACC', 19),\n",
       "             ('TAGTTTCCGTATCTCCGGATTTTTAAAGCTGA', 19),\n",
       "             ('GAAATGCTGGTGAGCGTTAATGCCGCAAACAA', 19),\n",
       "             ('AATACTGACGTGTTTCACGCTGCTGCCGTCTG', 19),\n",
       "             ('ATTACGCCTTTTTGCGATTGCCGGGTTTTTGC', 19),\n",
       "             ('CTAATTACCGAGCTAATGTCGTTACCGATGTG', 19),\n",
       "             ('TCGGAACCCTAAAGGGAGCCCCCGATTTAGAG', 19),\n",
       "             ('CTGCGCAGAGCTCTGACGAACGCTACAGGTTA', 19),\n",
       "             ('CTAATGATGCCACCCAGCGACAAAAACGCCGC', 19),\n",
       "             ('GACAGAACGGCCTCAGTAGTCCCGTCAGGCTC', 19),\n",
       "             ('ATTACGCCTTTCTGCGATTGCCCGGTTTTTGC', 19),\n",
       "             ('CGGTTTCTGTTGTTGCTGGCTCAGCCGGTGCG', 18),\n",
       "             ('TTTTAACCAATAGGCCGAAATCGGCAAAATCC', 18),\n",
       "             ('ATCACGATAACGCTGCTGTGATTCATCCCCGT', 18),\n",
       "             ('ACCGGACAAATCTTTTTTTTCCTGTTCCTGTT', 18),\n",
       "             ('GACAGAACGGCCTCAGTAGTCTCGCCAGGCTC', 18),\n",
       "             ('GGTAATTTCTCATCTAACAGCCTGTACGCCTC', 18),\n",
       "             ('ACTACGCCTTTTTGCGATTGCCCGGTTTTTGC', 18),\n",
       "             ('AGTGCTGGACCATTTTAAATTCACAATAGATT', 18),\n",
       "             ('GTAGTCCATCATTCCACCTATATCTGAACTCC', 18),\n",
       "             ('TCAGCCAGACGTGGCATTGCGGCTGCATCCGG', 18),\n",
       "             ('AATCACTGCGGGGGTATTTAGCGGAAACGGCT', 18),\n",
       "             ('AGCGCGTTCGGCATCACCTTTGGCTTCGGCTG', 18),\n",
       "             ('TAACGAACTGAATAAAATGTCAGAAAGTGACG', 18),\n",
       "             ('TGATTTGCTGAGGCGCGTTTCGTCTCCGAAAA', 17),\n",
       "             ('GAAATTTCCACCGTGGATATTTCGGTTATTGG', 17),\n",
       "             ('GAAAGAACGGCCTCAGTAGTCTCGTCAGGCTC', 17),\n",
       "             ('GTAGTCCACCATTCCACCTATGTCTGAACTCC', 17),\n",
       "             ('GGGCGAGACGGGAGGGACAAGGTGTGATTGAG', 17),\n",
       "             ('GCCGTGCTGGTAAAATTTTCCTCCACTGAGAT', 17),\n",
       "             ('ACGATGGCGATGCGTGAGAAAGGGGGTCGATA', 17),\n",
       "             ('CATCCGCACGCGAGCAGTACCGGCATTCCTGG', 17),\n",
       "             ('CGGCTCTGCAACAGCAGCACCCATGACCACGT', 17),\n",
       "             ('GCAGGCGGCGACGCGCAGGGGATGCGCGATTCG', 17),\n",
       "             ('TACGTGAAGAATATTTGCAACACCCGCAAGAA', 17),\n",
       "             ('TGGCTCTGCAAAAGCAGCACCCATGACCACGT', 17),\n",
       "             ('GGCAGAACGGCCTCAGTAGTCTCGTCAGGCTC', 17),\n",
       "             ('ACCGATTCAATATACAGAAAGTGAATTAGCGT', 17),\n",
       "             ('TTTTTTCTTCGGTGCCTAACCGCAGCCTAACG', 17),\n",
       "             ('ACTGTTTAAATTACCGTGCGTAAGCCGTCATT', 17),\n",
       "             ('CGTAGTCAGTGAGAGAAATATTAACAAGCCCC', 17),\n",
       "             ('AATTCTCTTACTGTCATGCCATCCGTAAGATG', 16),\n",
       "             ('CGTCCGGATCGGTTTCGAGAATCTCTACGCTT', 16),\n",
       "             ('TCGATCAGGCGGTTTTGTTCTTCCAGCGACGC', 16),\n",
       "             ('ATTTCCCCTTTTTGCGATTGCCCGGTTTTTGC', 16),\n",
       "             ('TAGGCCTATAGAGACGAGCGTTCGTTAAACA', 16),\n",
       "             ('GGTAAAGCCACACCATTTTTTATTGACCTCGC', 16),\n",
       "             ('ACCATTACTTCGGTAAAAGCGTGATCAAGAAT', 16),\n",
       "             ('GGCATCAAGCAGCGTTCCCGCCTCAATCTCGC', 16),\n",
       "             ('ATTACGCCTTTTTGCGATTGCCCGGTTCTTGC', 16),\n",
       "             ('TCTTTATCGTCAATGCGAAATTTTCCGCGACG', 16),\n",
       "             ('GCTGCAACCAGTGGAGTGAACATGAGCGTTCG', 16),\n",
       "             ('ATTAGGCCTTTTTGCGATTGCCCGGTTTTTGC', 16),\n",
       "             ('GTAGTCCGTCATTCCACCTATGTCTGAACTCC', 16),\n",
       "             ('TGCATGGCTTTGGCTTCCTCTTTGACGGACCC', 16),\n",
       "             ('TGCTGACCTGCGCAGAGGGCTTTGGCAATTCA', 16),\n",
       "             ('GTAGTCCATCATTCCACCTATGTCTGAATTCC', 16),\n",
       "             ('CCGGTTCAGGCGTTGCAAACCTGGCTACCGGG', 16),\n",
       "             ('TGGAACAACACTCAACCCTATCTCGGTCTATT', 16),\n",
       "             ('CGCCGCGGACTCACGAGCAGGCCATCACAGAC', 16),\n",
       "             ('ATCAGAGCAGTGGAAGCAGGCAAGAAGGGAGT', 16),\n",
       "             ('TACGGCAGGATCTCGGGCGCCTGCACGGTTAC', 16),\n",
       "             ('ACGTCAATGAGCACAGAGCGGATAACCTGCGC', 16),\n",
       "             ('CCAAGCTCTAATACGACTCACTATAGGGAAAG', 16),\n",
       "             ('AGCCGCCGAAGCCCGGCGCAGCCGGTACGGAT', 16),\n",
       "             ('TGGCTCTGCAACGGCAGCACCCATGACCACGT', 15),\n",
       "             ('TGGTTTGTTTGCCGGATCAAGAGCTACCAACT', 15),\n",
       "             ('TGGCTCTGCAACAGCAGCATCCATGACCACGT', 15),\n",
       "             ('CAACGTTGCGCAAACTATTAACTGGCGAACTA', 15),\n",
       "             ('TGGCTCTGCAGCAGCAGCACCCATGACCACGT', 15),\n",
       "             ('GCAGGCGGCGACGCGCAGGGTATGCGCGATTCC', 15),\n",
       "             ('ATTACGCCTTTTTGCGCTTGCCCGGTTTTTGC', 15),\n",
       "             ('CAAAATATTACGAGCTTCGTCAGGCCATGGAC', 15),\n",
       "             ('TCAGTTCAGGCGTTGCAAACCTGGCTACCGGG', 15),\n",
       "             ('TGGCTCTGCAACAGCAGCACCCATGACCACAT', 15),\n",
       "             ('ATTAAGCCTTTTTGCGATTGCCCGGTTTTTGC', 15),\n",
       "             ('CCCAGATGACAGCTTGCCTAAAACGAAAGCAG', 15),\n",
       "             ('GAAATGCTGGTGAGCGTTAATGCCGCCAACAC', 15),\n",
       "             ('CACATGAATGTCGGTTCAGACCGTGTTTTTACC', 15),\n",
       "             ('AAGCTGGCTGGCAATCTCTTTCGGGGTGAGCC', 15),\n",
       "             ('TATCGTCTTGAGTCCAACCCGGTAAGACACGA', 15),\n",
       "             ('TGGCTCTGCAACAGCAGAACCCATGACCACGT', 15),\n",
       "             ('TACCGGTGTGAATTACAGCACCACCGCCACCC', 15),\n",
       "             ('TCATCCATCATCTGCTGACCCCACCATCCACG', 15),\n",
       "             ('ATCATTCGCACACCCCCGCGTAAATGCTGGAA', 15),\n",
       "             ('ATTACGCCTTTTTGCGATCGCCCGGTTTTTGC', 15),\n",
       "             ('TATAATATGAATTAATTTTTGCGCATAACCTG', 15),\n",
       "             ('GCAGGCGGCGACGCGCAGGGAATGCGCGATTCG', 15),\n",
       "             ('ATTACGCCTTTTTGCGATTTCCCGGTTTTTGC', 15),\n",
       "             ('GTCGTGACTGGGAAAACCCTGGCGTTACCCAA', 15),\n",
       "             ('ATACGGCGCTGTCTTATGTTGACCAAACGGAA', 15),\n",
       "             ('GCATCCATGCCGACGCCTTTACGTGTGCGGGG', 15),\n",
       "             ('TCGGCTCAGGCGTTGCAAACCTGGCTACCGGG', 15),\n",
       "             ('CTGTTTTCGCAAATCCATGGACTATTGCTATT', 14),\n",
       "             ('GGTGAATACTGCGGCAGGCGCTGCGGGAATTG', 14),\n",
       "             ('GGCTGTAGCGTGCGAGGCTGTTTGGCGTTTTC', 14),\n",
       "             ('CCGGGGGATAATGTTTACGGTCATGGGCCCCC', 14),\n",
       "             ('CTGTTTCCGCAAATCTATGGACTATTGCTATT', 14),\n",
       "             ('GTAGTCCATCATTCCACCAATGTCTGAACTCC', 14),\n",
       "             ('TTTTTTTGTCGCATCCAGCCGTATTTTTTCGC', 14),\n",
       "             ('TGCATGGCTTTGGCCTCCTCTTTGACGGACGC', 14),\n",
       "             ('GACTCCACGCGGGCGCGGATTCTGGTGGGCAG', 14),\n",
       "             ('CTGTTTTCGCAAATCTATGGACTACTGCTATT', 14),\n",
       "             ('GGTGTTCCGTTAATATCGATGGCGACGTAACT', 14),\n",
       "             ('GAGATGATCAAAGCGGGCTTTTTTGTGGCCTG', 14),\n",
       "             ('AGTATGCGTTCAATCACTGTCAGGCCTACTTC', 14),\n",
       "             ('ACGGTCCATGGCACACAGGATCCAGACGTTAA', 14),\n",
       "             ('TGTTTTTCTGCCGGTTTAACACGGTGCGATAA', 14),\n",
       "             ('ACACGCCCTTATCAAATAGCCGTGATTTACCTA', 14),\n",
       "             ('GCGCAGCGAGCAAAATCTACTGGCCGGGCTAA', 14),\n",
       "             ('GCTACGTGGACCTATGGATATCTGCGCCCGTT', 14),\n",
       "             ('GCGATACGAAAACCGCCACTGACATCATTAAC', 14),\n",
       "             ('GAAATGCTGGTGAGGGTTAATGCCGCAAACAC', 14),\n",
       "             ('TCACGCTGCGCGTAACCACCACACCCGCCGCG', 14),\n",
       "             ('TAATTCGGGGTATTTGACCTCGAATTTCGGTA', 14),\n",
       "             ('TCGGTTCAGGCGTTGCAAACCTGGCTACCAGG', 14),\n",
       "             ('GCATAAATTAGTCAAACAGACACTGCCGGGGT', 14),\n",
       "             ('CTGCTGCTCGAGCTGGTGGAGTGCCGCTATAG', 14),\n",
       "             ('GACAGAACGGCCTCAGTAGCCTCGTCAGGCTC', 14),\n",
       "             ('TCCTCGTCGTACCCTGTTCCCCTGGTTACTGT', 14),\n",
       "             ('TCGGTTCAGGCGTTGCAAACCCGGCTACCGGG', 14),\n",
       "             ('TGGCTCTGCAACAGCAGCACCCATGACTACGT', 14),\n",
       "             ('CAGACATACTTCAAAGCCCGAGGCGTACACG', 13),\n",
       "             ('TCGCCCTTATTCCCTTTTTTGCGGCATTTTGC', 13),\n",
       "             ('GAAATGCTGGTGAGCGTTAATGCCGCAACCAC', 13),\n",
       "             ('TATGTAAAGCCAGGGCAGGCTGTGACGGTTGC', 13),\n",
       "             ('TTCAACAGTCGGTCAGCGGAAGCCTGGTCAAT', 13),\n",
       "             ('AACGTCAGGTTGTCGCCGCTCTGCGGGGTCGC', 13),\n",
       "             ('TTCATATCCTCTTTCCAGATTGCGTCGAATAT', 13),\n",
       "             ('TAGGCCTATAGAGACGAGCGTTCGTTAGAGCA', 13),\n",
       "             ('TCGGTTCAGGCGTTGCAAACCTGGCTACTGGG', 13),\n",
       "             ('ATTCCGCCTTTTTGCGATTGCCCGGTTTTTGC', 13),\n",
       "             ('AACCAAGGCCGGCGCAACGAAGCGCTCGACTG', 13),\n",
       "             ('ATAGGCCCCGAACAACAATACGCGCAAACCGA', 13),\n",
       "             ('TCATTAGAAGCCAATAATCAGCGCGTCGAGAA', 13),\n",
       "             ('GTAGTCCATCATTCCACCTATGTCTGAACCCC', 13),\n",
       "             ('GAATCTAATGCAACAGATGAATAAACACGTAA', 13),\n",
       "             ('ATTACGCCTTTTTGCGATTGCCCGGTTTCTGC', 13),\n",
       "             ('ACCGATTCAATATACAGAAAGTGAATTAGCG', 13),\n",
       "             ('AGGCTGGCTGGCAATCTCTTTCGGGGTGAGTC', 13),\n",
       "             ('TAAATCTGGCGTCGAGACATTCGAAATAGTGC', 13),\n",
       "             ('AATTAAAGCCGAGGGTGGCACCGCGCCTTATT', 13),\n",
       "             ('CGACACGGAAATGTTGAATACTCATACTCTTC', 13),\n",
       "             ('TTAGTTGTAACTCTGTGAATCTCGGGATCGTC', 13),\n",
       "             ('CAAGCGATATCCATCATCGCATCCAGTGCGCC', 13),\n",
       "             ('GTAGTCCATCATTCCACCTACGTCTGAACTCC', 13),\n",
       "             ('GCGACCGCTCGGAAATTCCAGACCCGATCCAAA', 13),\n",
       "             ('GTAGTCCATCATTCCACCTATGTCTGAGCTCC', 13),\n",
       "             ('ACCCCGGATAAAGGTTTACCAGTGTTACGGTC', 13),\n",
       "             ('TCGGGGGATAATGTTTACGGTCATGCGCCCCC', 13),\n",
       "             ('CCGCCGTTGGCACCGTCAAACTCCGGTACTGA', 12),\n",
       "             ('CTGTTTTCGCAAACCTATGGACTATTGCTATT', 12),\n",
       "             ('CTGAAAAGTGGATTTTACACGCTGCCAAAATT', 12),\n",
       "             ('TAGGCCTATAGAGACGAGCGTTCGTTAAAGCG', 12),\n",
       "             ('TAGTTTCCGTATCTCCGGACTTATAAAGCTGA', 12),\n",
       "             ('TTTACTACAATAGGTGGACACGCTACGGCGCA', 12),\n",
       "             ('AAAAAATGATGCTGTATTTCACTATTGGGTTC', 12),\n",
       "             ('ATTACGCCTTTTTGCGACTGCCCGGTTTTTGC', 12),\n",
       "             ('GCGGAAAACAGCCAAAATAACGCAATTACCGC', 12),\n",
       "             ('GATCGCCTGCTCCAACGTCAGTCCCTGCCCGT', 12),\n",
       "             ('TGAGATCCTTTTTTTCTGCGCGTAATCTGCTG', 12),\n",
       "             ('ATAGACCCCGAACAACAATACGCGCAAACTGA', 12),\n",
       "             ('ATTTTGATATTGTTTAATCATGTGAGAAAAAG', 12),\n",
       "             ('TAGGCCTATAGAGACAGCGTTCGTTAAAGCA', 12),\n",
       "             ('GTAGTCCATCATCCCACCTATGTCTGAACTCC', 12),\n",
       "             ('ACACGCCCTTACCAAATAGCTGTGATTTACCTA', 12),\n",
       "             ('GTAACGTCTGCCTTTTCCTCGTCCGCCTTAAT', 12),\n",
       "             ('GAGTCTATCAGCGACACTACCGGCAATAGCGA', 12),\n",
       "             ('GCGGTCGATTTTGCTGGCGTTGTTTCGGCTGG', 12),\n",
       "             ('GGATCTGCAGACGATGAATTACCGCTTGACTA', 12),\n",
       "             ('GGCCTATGCGTTTTTCTCTCTGTTAATGCGCCCC', 12),\n",
       "             ('ACATCGAACTGGATCTCAACAGCGGTAAGATC', 12),\n",
       "             ('CTGTTTTCGCAAATCTATGGACCATTGCTATT', 12),\n",
       "             ('GGGTTGTGCGCCCTGGTGGGCGAAAACGGTGG', 12),\n",
       "             ('GACAGAACGGCCCCAGTAGTCTCGTCAGGCTC', 12),\n",
       "             ('TAGCCGGGTCTGTATCGAATACCAGCCCCGCG', 12),\n",
       "             ('ACGTAACGAGGCACTGGACTGCCGAAACTACG', 12),\n",
       "             ('GAAACGTAAACAGGGTAAGATACAACTCTGCA', 12),\n",
       "             ('TCGGTCCAGGCGTTGCAAACCTGGCTACCGGG', 12),\n",
       "             ('TGAGACGCTCCCGGATGAGGTTATACTGTACG', 12),\n",
       "             ('CTTACGCCTTTTTGCGATTGCCCGGTTTTTGC', 12),\n",
       "             ('ATCTCCAGCGCCTTTTCGACGCAACGGTGCGC', 12),\n",
       "             ('CCTCCCTTATTTTTTCATCGTCCATGTTCATG', 12),\n",
       "             ('ATTACGCCTTTTTGCGATTGCCCGGTTTTTAC', 12),\n",
       "             ('CATAAAGAAACCATTTTGCGTTTCGTTCAGGT', 12),\n",
       "             ('ATTGGCGAGCTGTTGGAATACGACCCCGGCGAC', 12),\n",
       "             ('TAGTTTCCGTATCCCCGGATTTATAAAGCTGA', 12),\n",
       "             ('TAGGCCTATAGAGACGAGCGTTCGTTAAGCA', 11),\n",
       "             ('CAATCTGGGCGCCCGGTCATCATCGCTTCGATG', 11),\n",
       "             ('GAAATGCTGGTGAGTGTTAATGCCGCAAACAC', 11),\n",
       "             ('AGCGTTGCCGCCACGCCAGTTGTGCCGCTACC', 11),\n",
       "             ('AGTGCTGGACCATTTCAAATTCCCAATAGATT', 11),\n",
       "             ('GCGTCGCCATTCTATTAGCTTTTCCTCATCCC', 11),\n",
       "             ('AGAGCGAGGTATGTAGGCGGTGCTACAGAGTT', 11),\n",
       "             ('GACCTCGAGGAGGGCGCCGCCGGTGTCGGTGG', 11),\n",
       "             ('CCCGGGGATAATGTTTACGGTCATGCGCCCCC', 11),\n",
       "             ('ATTACGCCTTTTTGCGATTGCCCGGTTTTTGT', 11),\n",
       "             ('CGGATCTGGTCCAGCGTTAACCGGCGGCGGAT', 11),\n",
       "             ('CAGAACATTCTTCAAAGCCCGAGGCGTACACG', 11),\n",
       "             ('GACAGGACGGCCTCAGTAGTCTCGTCAGGCTC', 11),\n",
       "             ('GCACCTCGAAACGGTTTTAAAACACTACCGTTT', 11),\n",
       "             ('GTGGCAAGCCACGGCGGGCCTCACAGCTCCGG', 11),\n",
       "             ('TACGCGCAGAAAAAAAGGATCTCAAGAAGATC', 11),\n",
       "             ('CCGGGGGATAATGTTTACGGTCATGCGCCCC', 11),\n",
       "             ('GATAACGTTTAACGTTGGCGTGAGCGGGGAGG', 11),\n",
       "             ('CTGGTTTCGCAAATCTATGGACTATTGCTATT', 11),\n",
       "             ('CAATCTGGGCGACCGGTCATCATCGCTTCGATC', 11),\n",
       "             ('TCGAGCCTGTTTTTCTTAGTGCGCGCAACGTC', 11),\n",
       "             ('GAAATGCTGGTGGGCGTTAATGCCGCAAACAC', 11),\n",
       "             ('TGGCTCTGCAACAGCAGCACCCATGCCCACGT', 11),\n",
       "             ('GCAAAGTCCCGGGTATTATTGAGCTGGTTGAC', 11),\n",
       "             ('GAGGCTGGCCATATAGCAGCAGGCTACGGCAC', 11),\n",
       "             ('TCGGTTCAGGCGTTGCAAACCTGGCCACCGGG', 11),\n",
       "             ('GCCAGAACGGCCTCAGTAGTCTCGTCAGGCTC', 11),\n",
       "             ('GAAATGCTGGGGAGCGTTAATGCCGCAAACAC', 11),\n",
       "             ('CATAGGGTCGCCGGTTGCGGATCAATTTA', 11),\n",
       "             ('TAGTCTCCGTATCTCCGGATTTATAAAGCTGA', 11),\n",
       "             ('CGCGCCCACTTCCGTAAAATACAGATAATCCA', 11),\n",
       "             ('CAAACTGGATATCACTGAATGCAGCCGCGTGG', 11),\n",
       "             ('GTAGTCCATCATTCAACCTATGTCTGAACTCC', 11),\n",
       "             ('AGCGGGTTCGGCATCACCTTTGGCTTCGGCTG', 11),\n",
       "             ('TAGGCCTATAGAGACGGGCGTTCGTTAAAGCA', 11),\n",
       "             ('GACAGAGCGGCCTCAGTAGTCTCGTCAGGCTC', 11),\n",
       "             ('TTGAACGTTATAACTCCCCTACGATGTTGTCC', 11),\n",
       "             ('TTCCTCTGTTACGCGGGACGTTATTAAGCCTT', 11),\n",
       "             ('AACGTCAGGTTGTCGCCGCTCTGCGTGGTTGC', 11),\n",
       "             ('CAGAACATACTCAAAGCCCGAGGCGTACACG', 11),\n",
       "             ('TCAACATTATCAATTACAACCGCCAGGGAGCC', 11),\n",
       "             ('CTGTCTTCGCAAATCTATGGACTATTGCTATT', 11),\n",
       "             ('GACGCGAAGCTGATCTATCAGGGAGATATTGT', 11),\n",
       "             ('CTGCTGCTCGAGCTGGTGGAGGGCTGCTATAG', 11),\n",
       "             ('CTGTTTTCGCAAATCTATGGACTATTGCTATG', 10),\n",
       "             ('TTGATCGGCGAGACTCGCGGCCTGTTTTTCGT', 10),\n",
       "             ('CTGTTTTCCCAAATCTATGGACTATTGCTATT', 10),\n",
       "             ('CCAACATTATCAATTACAACCGACAGGGAGCC', 10),\n",
       "             ('AACGTCAGGTTGTCGCCGCCCTGCGTGGTCGC', 10),\n",
       "             ('GAGAGTGCTGACAGGTGTCTCGATTACCTGAT', 10),\n",
       "             ('GTAGTCCATCACTCCACCTATGTCTGAACTCC', 10),\n",
       "             ('ACATGAATGTCGGTTCAGACCGGGTTTTTACC', 10),\n",
       "             ('CTGTTTTCGCAAATCTATGGACAATTGCTATT', 10),\n",
       "             ('GAAATGCTGGCGAGCGTTAATGCCGCAAACAC', 10),\n",
       "             ('GAAATGCTGGTTAGCGTTAATGCCGCAAACAC', 10),\n",
       "             ('CTCATGATCGGCCCGGACAGAAGATGCTCACC', 10),\n",
       "             ('GCCGTCTGCCTCCAGCCCAGCCCTGGATATTT', 10),\n",
       "             ('GGCATAGCCAGGCTGAACCGGCGACGGCCTTA', 10),\n",
       "             ('GCGGGCGTTAACGCGGGGATACTGTTTGACGG', 10),\n",
       "             ('GTATGGGAGCAATTCCCCAACCTGATGATGTG', 10),\n",
       "             ('CTGCCGCCACGGCCGCATGCCTCGATCAGCGC', 10),\n",
       "             ('GTTCTTCTAGTGTAGCCGTAGTTAGGCCACCA', 10),\n",
       "             ('TCGGTTCAGGCGTTGCAAACCGGGCTACCGGG', 10),\n",
       "             ('CTGACGCTGGCTGAGAACGGTTTTTCTGTTCG', 10),\n",
       "             ('TCGGTTCAGGCGTTTCAAACCTGGCTACCGGG', 10),\n",
       "             ('GTCGTGTGAAGGGGTTAACGCGCTGACTGAGT', 10),\n",
       "             ('GGCAAAAAGGCGGCGCGTTTAAAAGAGGCATA', 10),\n",
       "             ('GCGACCGCTCAGAAATTCCAGACCCGATTCAAA', 10),\n",
       "             ('GAACTCAACAAGAAAACATTAGTCTAATATTA', 10),\n",
       "             ('TCGGTTCAGGGGTTGCAAACCTGGCTACCGGG', 10),\n",
       "             ('GACAAAACGGCCTCAGTAGTCTCGTCAGGCTC', 10),\n",
       "             ('TCAACATTAACAATTACAACCGACAGGGAGCC', 10),\n",
       "             ('AACGTCAGGTTGTCGCCGCTCTGCGTGGTAGC', 10),\n",
       "             ('ATTTCAGGCTCACGGGAATCATCCTCGACGTG', 10),\n",
       "             ('AAGTGGCAACCCAGACTGTTGGTGGTGTAGAG', 10),\n",
       "             ('TGGCTCTGCAACAGCAGCACCCATGACCGCGT', 10),\n",
       "             ('ATATCCTCCAGAACACGCGCCTCATTTCGACT', 10),\n",
       "             ('AAATATGGGGAGCGCCGTTAATGAAATCAAAA', 10),\n",
       "             ('GCTAACTGGCAAAGCTCCTCGTGTGTCAGTGC', 10),\n",
       "             ('GTTGGTACTCACAGCTACGTCTATAGGGTCGT', 10),\n",
       "             ('TGTTCGGCGGGGCGGTAGTACCACTGTTTTTT', 10),\n",
       "             ('TGGCTCTGCACCAGCAGCACCCATGACCACGT', 10),\n",
       "             ('CTGCTGCCCGAGCTGGTGGAGTGCTGCTATAG', 10),\n",
       "             ('TCAACATTACCAATTACAACCGACAGGGAGCC', 10),\n",
       "             ('GTAGAGGTCGTTGGGCGCCGCCACCTGCTGCAGCAGGCCG', 10),\n",
       "             ('CCGACCCTGCCGCTTACCGGATACCTGTCCGC', 10),\n",
       "             ('TGGCTCTGCAACAGCAGCACCCATAACCACGT', 10),\n",
       "             ('TCGAGCAAGAAGTTGCTCAAGATCCCGAGCAC', 10),\n",
       "             ('GTCCCCAACATTTTCGCCGTTCAGGCCCGCAG', 10),\n",
       "             ('ATTACGCCTTTTGCGATTGCCCGGTTTTTGC', 10),\n",
       "             ('TTCTGATCGGGGCTTTTCCCATTCGATGTCGA', 10),\n",
       "             ('GCAGTCCATCATTCCACCTATGTCTGAACTCC', 10),\n",
       "             ('TTGTCACGAACACATAGCAACTAGGTAACCAC', 10),\n",
       "             ('TCGGTTCAGGCGTTGCAGACCTGGCTACCGGG', 10),\n",
       "             ('TATCCACATATACCCGCAATCATATTCAAGAA', 10),\n",
       "             ('TGGCTCTGCAACAGCGGCACCCATGACCACGT', 10),\n",
       "             ('AGCGTGTTCGGCATCACCCTTGGCTTCGGCTG', 10),\n",
       "             ('TCGGTTCAGGCGTTGCAAACCTAGCTACCGGG', 9),\n",
       "             ('GGAGTAGCCGTTGTGGGCGGTGGCGATGTTGTAGATCAGCTCCTGGATCAGAA', 9),\n",
       "             ('GCTACATGGAGACGCATCATGACGTACAAAAA', 9),\n",
       "             ('ATAGACCCCGAGCAACAATACGCGCAAACCGA', 9),\n",
       "             ('TCACTGAGCCTCGCCCCTATGTGATGCAAATT', 9),\n",
       "             ('GTAGACCCCGAACAACAATACGCGCAAACCGA', 9),\n",
       "             ('TCGGTTCAGGCGTTGCGAACCTGGCTACCGGG', 9),\n",
       "             ('TGGCTCTGTAACAGCAGCACCCATGACCACGT', 9),\n",
       "             ('GGGGATAACGGTTATCCACTGGCCGCCGATCT', 9),\n",
       "             ('TAGGCCTATAGAGACGAGCGTTCGTTAAGGCA', 9),\n",
       "             ('GTAGTCCATTATTCCACCTATGTCTGAACTCC', 9),\n",
       "             ('CAGGCCTATAGAGACGAGCGTTCGTTAAAGCA', 9),\n",
       "             ('CAGAACATACTTCAAAGCCCGGGGCGTACACG', 9),\n",
       "             ('GAGGCAATTAGTAAAACTCCGGCAATTGCTGC', 9),\n",
       "             ('TGGGCGGCTTGCCTTGCAGCCAGCTCCGGCAG', 9),\n",
       "             ('CTGTTTTTGCAAATCTATGGACTATTGCTATT', 9),\n",
       "             ('CGATAACACAGGGCCGTCAATGCGGCCCTTTT', 9),\n",
       "             ('GCCAACAGTGAATCGCAGCAACCTCCCATCTGG', 9),\n",
       "             ('TGGGGTGATTCCAATTGCCGCACGGAACGCCG', 9),\n",
       "             ('AGTATTAACTGCGGTGGCAGTGAGGCCAATAG', 9),\n",
       "             ('GCCGGAATAGGCACAGATCGATTGCTACCGTT', 9),\n",
       "             ('GAAATGCTGGTAAGCGTTAATGCCGCAAACAC', 9),\n",
       "             ('GCATCTGGCGCATCTTCAGAATTCTCGAATAC', 9),\n",
       "             ('ATTACGCCTTTTTGCGATTGCCAGGTTTTTGC', 9),\n",
       "             ('ATTACGCCTTTTTCCGATTGCCCGGTTTTTCC', 9),\n",
       "             ('TATTTCTGTAATGCTCAAAGATATAGCCGGAT', 9),\n",
       "             ('CAAGTGATATCCATCATTGCATCCAGTGCGCC', 9),\n",
       "             ('TGGCTTTGCAACAGCAGCACCCATGACCACGT', 9),\n",
       "             ('CCGACCGCTGCGCCTTATCCGGTAACTATCGT', 9),\n",
       "             ('CGCTGCGGGCTTTGGCTTCCTAGACCTC', 9),\n",
       "             ('CAACAGCATCGTCAGTGCGATTCGTCTGCACACGG', 9),\n",
       "             ('AGGAAGTTCTTAAAGCCGGTACCGGCGATTTC', 9),\n",
       "             ('ATTACGCCTTTTTGCGATTGTCCGGTTTTTGC', 9),\n",
       "             ('ATTACGCCTTTTTGCGATTGCCCGGTTTTGC', 9),\n",
       "             ('TCGGTTCAGGCGCTGCAAACCTGGCTACCGGG', 9),\n",
       "             ('TAGTTTCCGTATCTCCGGATTTATAAAGCTG', 9),\n",
       "             ('ATAGACCCCGAACAACAATACGCGCAAACCGG', 9),\n",
       "             ('AATGGAGCGCACGCCATGACCATAACCATCCG', 9),\n",
       "             ('GTCTGCGAAAGCAGGACCTGCAGGCATGCAAG', 9),\n",
       "             ('TTTATACACGGATCCTGTGTGCCGTGGACCGC', 9),\n",
       "             ('GCGACCGCTCAGAAATTCCAGACCCGATCCGAA', 9),\n",
       "             ('TGGCTCTGCAACAGCAGCACCCATGACCACTT', 9),\n",
       "             ('TCGAACCTGCTTTTCTTAGTGCGCGCAACGTC', 9),\n",
       "             ('CCCTGAAGATGTGGAATACATCATTCCCGCTGTGAAAGACGTCGTCACCTACCTCCG', 9),\n",
       "             ('AACGTAAGGTTGTCGCCGCTCTGCGTGGTCGC', 9),\n",
       "             ('TTTACGCCTTTTTGCGATTGCCCGGTTTTTGC', 9),\n",
       "             ('CTGTTTTCGCAGATCTATGGACTATTGCTATT', 9),\n",
       "             ('GTCGCCGGGTTGATTCTCCATGATGATTTTTA', 9),\n",
       "             ('ATTACGCCTTTTTGCGATTGCCTGGTTTTTGC', 9),\n",
       "             ('TACCGTACAGACTGCCGGATTTTATTTTTTTG', 9),\n",
       "             ('CAATCTGGGCGACCGGTCATCATCGCTTCGATT', 9),\n",
       "             ('AACGGTACGCGCCTGCTCGTCAATCGCCCCCA', 9),\n",
       "             ('GAATCAATTATGTGTTGCATAGCGTCCGCGCT', 9),\n",
       "             ('TCGGTTCAAGCGTTGCAAACCTGGCTACCGGG', 9),\n",
       "             ('CCGCCGTTGGCACCGTCAAACTCCGGTACTGC', 9),\n",
       "             ('AATACGGGATAATACCGCGCCACATAGCAGAA', 9),\n",
       "             ('TCCAGTAGTGCATGAACACCTTCATAACATCG', 9),\n",
       "             ('AAAGATTGAGGGGCCGGAAATGGCACTAACAC', 9),\n",
       "             ('AGCCGCAAAGTGCTTGGGATCACCGGCAGGGC', 9),\n",
       "             ('ATTACGCCTTTTTGCGATTGCCCAGTTTTTGC', 8),\n",
       "             ('AGCGTGTTCGGCATCACCTTTGGCTTCGGCTC', 8),\n",
       "             ('ATAGCCACGGCGATCGGCGTCGAACCGTGGAT', 8),\n",
       "             ('GCAAGCTTTCCCTATAGTGAGTCGTATTAGAG', 8),\n",
       "             ('GACAGAACGGCCTCAGTAGTCTTGTCAGGCTC', 8),\n",
       "             ('TACCGTACAGACTGCCGGATATCATTTTTTTG', 8),\n",
       "             ('ATATGTTTCCGCCGCATCAATCAGCCATTCAA', 8),\n",
       "             ('CGTATTCGTCACACAGCCCCGTCCAGAAATGA', 8),\n",
       "             ('CCGGGGGATAATTTTTACGGTCATGCGCCCCC', 8),\n",
       "             ('GTTACGCCTTTTTGCGATTGCCCGGTTTTTGC', 8),\n",
       "             ('TTTTTGGCGGTCATTTTGATGGCTACTGCGTT', 8),\n",
       "             ('TGGCAAAACAAACATCGGGGTGCGCGTGGTGC', 8),\n",
       "             ('GCAGGCGGCGACGCGCAGGGTATGCGCGATTTG', 8),\n",
       "             ('ATTACGCCTTTTTGCGATTGCCCGGTTTTCGC', 8),\n",
       "             ('ATTTTGCTGGGAGTCATTCCCAGCTCCGTAAT', 8),\n",
       "             ('TGGCTCTGCAACAGCAGCACCCGTGACCACGT', 8),\n",
       "             ('TTGCGCTCGTATCTTTACCTATGCCATATTGT', 8),\n",
       "             ('TAGTTTCCGTATCTCCGGATTTAAAAAGCTGA', 8),\n",
       "             ('CTGTTTTCGCAAATTTATGGACTATTGCTATT', 8),\n",
       "             ('GACAGAACGGCCTCAGTAGTCTCGTCAGGCTT', 8),\n",
       "             ('GACAGAACGGCCTTAGTAGTCTCGTCAGGCTC', 8),\n",
       "             ('CTGTTTTCACAAATCTATGGACTATTGCTATT', 8),\n",
       "             ('GCTATCACCGAGTGCAGTAGCCCGCGCGCGCT', 8),\n",
       "             ('GTAGTCCATCATTCCACCTATGTCTGGACTCC', 8),\n",
       "             ('TGAAAGATGCCGTCAACACGTTCAGCAAGGAA', 8),\n",
       "             ('CTGTGAAACGAACGGCTCAATAGCGCGACCGG', 8),\n",
       "             ('TTTTACAGTGTCAACAATCGTTCCCTGATTGC', 8),\n",
       "             ('TCGGTTCAGGCGTCGCAAACCTGGCTACCGGG', 8),\n",
       "             ('GAAGTGCTGGTGAGCGTTAATGCCGCAAACAC', 8),\n",
       "             ('CACGATCAGGTTCAGGGTGACGGTGTAACCAC', 8),\n",
       "             ('ATTACGCCTTTTTGCGATTGCCCGGATTTTGC', 8),\n",
       "             ('GGGACCGCTCAGAAATTCCAGACCCGATCCAAA', 8),\n",
       "             ('GCGACCGCTCAAAAATTCCAGACCCGATCCAAA', 8),\n",
       "             ('AAGCTGGCTGGCAATCTCTTTCGGGGTAAGTC', 8),\n",
       "             ('CAATCTGGGCGACCGGTCATCATCGCTTTGATG', 8),\n",
       "             ('AAGCTGGCTGGCAATCTCCTTCGGGGTGAGTC', 8),\n",
       "             ('CTGTTTTCGCAAATCTATGGACTGTTGCTATT', 8),\n",
       "             ('CAGAACATACTTCAAAGCCCGAGCGTACACG', 8),\n",
       "             ('ATCATGATAACGCCGCTGTGATTCATCCCCGT', 8),\n",
       "             ('CTCGGTCGCCGCATACACTATTCTCAGAATGA', 8),\n",
       "             ('TGGTTATCGTTGGTAACATCCTCGCCGGTTTG', 8),\n",
       "             ('TCAACATTATCAACTACAACCGACAGGGAGCC', 8),\n",
       "             ('TGCAAAAGCTGCACATACAAGCTGCCATCGTC', 8),\n",
       "             ('ATAACGCCTTTTTGCGATTGCCCGGTTTTTGC', 8),\n",
       "             ('AGCGTGTTCGGCATCACCTTTGGCTTCGGTTG', 8),\n",
       "             ('TTGCTCTGCAACAGCAGCACCCATGACCACGT', 8),\n",
       "             ('GTAGTCCATCATTTCACCTATGTCTGAACTCC', 8),\n",
       "             ('TGGCTCTGCAACAGCAGCACCCACGACCACGT', 8),\n",
       "             ('GCGTCCACTTCGGGATTTGTGGCAGGGGGTTC', 8),\n",
       "             ('CTGTTTTCGCAAATCTATAGACTATTGCTATT', 8),\n",
       "             ('TTACCGAAGTAATGGTCGAAACACAGAATTTT', 8),\n",
       "             ('GGTCCGGTCAATTTCCGGCATGAACAGCGGTA', 8),\n",
       "             ('CTGTTTTCGCAAATCTGTGGACTATTGCTATT', 8),\n",
       "             ('TTGATCGCCTCAGCTACCAGTAGATTGACCAC', 8),\n",
       "             ('CCGGGGGAAAATGTTTACGGTCATGCGCCCCC', 8),\n",
       "             ('CAGTAATTGCCCCCTCAGCATCATTAACCATG', 8),\n",
       "             ('ATGCTTTTATTCGTCGCGTCTGGCTCAGATTG', 8),\n",
       "             ('ATGCTTTTATTCGTCGCGTCTGGCTCAGATAG', 8),\n",
       "             ('GGTGCTGGACCATTTCAAATTCACAATAGATT', 8),\n",
       "             ('ACATGAATGTCGGTTCAGACCGTGCTTTTACC', 8),\n",
       "             ('ATGCACATCTCTTCCGGCCGCTGGGTCTA', 8),\n",
       "             ('CTGTTTTCGCAAATCTTTGGACTATTGCTATT', 8),\n",
       "             ('GTCGCCGGGTTGATTTTCCATGATGACTTTTA', 8),\n",
       "             ('ATAAACCCCGAACAACAATACGCGCAAACCGA', 8),\n",
       "             ('GCAGGCGGCGACGCGCAGGGCATGCGCGATTCG', 8),\n",
       "             ('TAGGCCTATAGAGACGAGCGTTCGTTAAAGAA', 8),\n",
       "             ('CGCCGCGGACTCACGAGCGGGCCATCACAGAC', 8),\n",
       "             ('ATTACGCCTTTTTGCGATTCCCCGGTTTTTGC', 8),\n",
       "             ('TGGCTCTGCGACAGCAGCACCCATGACCACGT', 8),\n",
       "             ('CTGCTGCTCAAGCTGGTGGAGTGCTGCTATAG', 8),\n",
       "             ('CAATCTGGGCGACCGGTCACCATCGCTTCGATG', 8),\n",
       "             ('ATTACGCCTTTTTCGGATTGCCCGGTTTTTGC', 8),\n",
       "             ('ACTGATATTGATAAACGTCGACTCCCGTCGGG', 8),\n",
       "             ('GGCATAGCCAGGCTGATCCGGCGACGGCCTTA', 8),\n",
       "             ('TGAGGTATTCCGCCAGGGCGGACAATTTATCA', 8),\n",
       "             ('TGGCTCTGCAACAGCAGCACCCATGAACACGT', 8),\n",
       "             ('TCAACATTATCAGTTACAACCGACAGGGAGCC', 8),\n",
       "             ('CTCACCGGGCGCGGATACGGCGGAGTTCGTAG', 8),\n",
       "             ('ACCCACTCGTGCACCCAACTGATCTTCAGCAT', 8),\n",
       "             ('ATTGCGCCTTTTTGCGATTGCCCGGTTTTTGC', 8),\n",
       "             ('TGGCTCTGCAACAGCAGCACCCCTGACCACGT', 8),\n",
       "             ('TAGGCCTATAGAGACGAGCGTTCGTTAAAGCC', 8),\n",
       "             ('TGGCTCTGCAACAGCAGCACCTATGACCACGT', 8),\n",
       "             ('GTCATCGACTGCGGCAGTCCACTCATCAATTG', 8),\n",
       "             ('CCGGGGAATAATGTTTACGGTCATGCGCCCCC', 8),\n",
       "             ('GTAGTCCATCATTCCACCTATGTCTAAACTCC', 8),\n",
       "             ('GTAGACCATCATTCCACCTATGTCTGAACTCC', 8),\n",
       "             ('ATTACGCCTTTTTGCGTTTGCCCGGTTTTTCC', 8),\n",
       "             ('CTCAGCCTCAACTCCCAAACAGCCAATCTCTA', 7),\n",
       "             ('GTAGTCCATCATTCCACCTATGTCTGAACTTC', 7),\n",
       "             ('GTAGTCCATCATTCCACCTATTTCTGAACTCC', 7),\n",
       "             ('GGCTATGCCAGCAATATTCAGCGTTGTGAACG', 7),\n",
       "             ('GCGACCGCTCAGAAATTCCAGACCCGATCTAAA', 7),\n",
       "             ('GTTCGCACGGTCATCCGTCCTTCAAGTTTGCG', 7),\n",
       "             ('GCGACCGCCCAGAAATTCCAGACCCGATCCAAA', 7),\n",
       "             ('GAGCTGAAGATCAAGGGCGCAGAAGAACAC', 7),\n",
       "             ('GAAACGCTGGTGAGCGTTAATGCCGCAAACAC', 7),\n",
       "             ('GGGTTCCCGTTCACTGACGAAATTGAGTGCGA', 7),\n",
       "             ('AGTTCGCTGAGTAGCCTTTTTTCTGTGCCTAA', 7),\n",
       "             ('GGTGAACCCCATCACCAAGAACATGAAGCCGT', 7),\n",
       "             ('AAGCTGGCTGGCAATCTCTTTCGGGGTGAGAC', 7),\n",
       "             ('CAAGTGATGTCCATCATCGCATCCATTGCGTC', 7),\n",
       "             ('TCGATTCAGGCGTTGCAAACCTGGCTACCGGG', 7),\n",
       "             ('GCAGGCGGCGACGCGCAGGGTATACGCGATTCG', 7),\n",
       "             ('GAAATGCTGGTGAGCGTTAATGCTGCAAACAC', 7),\n",
       "             ('GGATTGCAGGCATCAGGTGATATCGCCAAAAC', 7),\n",
       "             ('TGGCAAAACAAACCTCGGGGTACGCGTGGTGC', 7),\n",
       "             ('CGTCCGGATCGGTTTCGAGAATCTCTACGCAT', 7),\n",
       "             ('CAATCTGGGCGACCGGTCATCATCGCTTCAATG', 7),\n",
       "             ('CCTCTGCCTGTAATTCAGCTTCACTGTCAGTG', 7),\n",
       "             ('TTCAAGTCGGCGCGCATCAAAATCATTTAATT', 7),\n",
       "             ('GCTGAGGCTGTCAGGAGCCAGTGCGGCAGAGG', 7),\n",
       "             ('GCTGATCTACATCGTCGGCCTGTTTCCCATGT', 7),\n",
       "             ('ATAGACCCCGAACAACAATACGCGCAAACCGC', 7),\n",
       "             ('ATCACTCTGACTATCGGCGGCGTGGATGTGGT', 7),\n",
       "             ('TCCGGGCCATCCATACACCTTCTTAACCCGGC', 7),\n",
       "             ('TACGCCAGCCACCTGCTTCGCCAGCCGTTCGG', 7),\n",
       "             ('GCAACGAGCCGTCCTACGTGGTCAATACCGCCGAGGTTCTGGGCGAAACCATGGGGAT', 7),\n",
       "             ('ACTACGCCTTTATGCGATTGCCCGGTTTTTGC', 7),\n",
       "             ('ATTACGCCTTTTTGCGATTGCCCGGTGTTTGC', 7),\n",
       "             ('CAATCTGGGCAACCGGTCATCATCGCTTCGATG', 7),\n",
       "             ('GAGTTCGAGCGCCGCATCCGGCGTGAGATCGC', 7),\n",
       "             ('CTGTTCTCGCAAATCTATGGACTATTGCTATT', 7),\n",
       "             ('GCAGGGTCGGAACAGGAGAGCGCACGAGGGAG', 7),\n",
       "             ('GTTTATTCGCACTCTGCCAGTTATCCGGGTTA', 7),\n",
       "             ('GGCGTCCCATTCGATCCGCTGGTTTTCGATGA', 7),\n",
       "             ('CCGGGTGATAATGTTTACGGTCATGCGCCCCC', 7),\n",
       "             ('ATAGACCCCGAACAGCAATACGCGCAAACCGA', 7),\n",
       "             ('ATTTGTCGCCGTATGAGTTTTACGCGCCGTCT', 7),\n",
       "             ('TGCTGGATGAGTTTATCGAACACAGAGCGGAG', 7),\n",
       "             ('CAATCTGGGCGACCGGTCATAATCGCTTCGATG', 7),\n",
       "             ('AAGCTGGCTGGCAATCTCTTTTGGGGTGAGTC', 7),\n",
       "             ('TACTCAATGGCAACCGTCACGGCCTGTCCTGG', 7),\n",
       "             ('ATGCAATGGGGAATAAGTGGCGGGTAAATCAA', 7),\n",
       "             ('GTAGTCCATCATTCCACCTATGTTTGAACTCC', 7),\n",
       "             ('GCGACCGCTCAGAAATTCCAGACCCGATCCAAC', 7),\n",
       "             ('TCAACATTTTCAATTACAACCGACAGGGAGCC', 7),\n",
       "             ('CCGGGGGATAATGTTTTCGGTCATGCGCCCCC', 7),\n",
       "             ('ATTACGCCTTTTTGCGATTGCTCGGTTTTTGC', 7),\n",
       "             ('TGCATGGCTTTGGCTTCCTCTTTGACGGACGT', 7),\n",
       "             ('GCCTGACATTGCAGACGTTACAAATTGAGAAG', 7),\n",
       "             ('CCGGGGGATAATGTTTACGGCCATGCGCCCCC', 7),\n",
       "             ('TGGTTGAGTACTCACCAGTCACAGAAAAGCAT', 7),\n",
       "             ('CTGTTTTCGCAAATCTATGGACTATTGCTACT', 7),\n",
       "             ('TTTGCCACCCGAGTCCATAAATTCTTGATATG', 7),\n",
       "             ('GGAATGCTGGTGAGCGTTAATGCCGCAAACAC', 7),\n",
       "             ('GGCATCGCATCCCGCTCAACAGCATTGGCCGC', 7),\n",
       "             ('CCAGGTTTGGAACTCGGGCCGGATGACCATGA', 7),\n",
       "             ('TACCAGACGCAGAGTGCCACACAGGTCTGGTA', 7),\n",
       "             ('AGCGTGTTCGGCATAACCTTTGGCTTCGGCTG', 7),\n",
       "             ('GACAACGATCGGAGGACCGAAGGAGCTAACCG', 7),\n",
       "             ('TTCCTGATCCATGATGGTGAACAATATTTAAC', 7),\n",
       "             ('GGCTATGCCAGCAATATTCAGCGTTGGGAACG', 7),\n",
       "             ('TCATCATTATCTGGATTATCTAATTCGTCAGC', 7),\n",
       "             ('TACCAAACCGGAATCGCTCCATATAACGGCGG', 7),\n",
       "             ('AGTGCTGGACCATTTCAAATTCACAATAGAAT', 7),\n",
       "             ('GACGGAACGGCCTCAGTAGTCTCGTCAGGCTC', 7),\n",
       "             ('GGCTATACCGATTACCCACCGTTGGACCGCTGAGTTCAATGCGGTGCCTGCC', 7),\n",
       "             ('CTTAAGGAATGCGCGAAGAGACAGAAACAAAC', 7),\n",
       "             ('GACAGAACGGCCTCAGCAGTCTCGTCAGGCTC', 7),\n",
       "             ('ACGGCAACGGATGCGACCGCCAGCGCGATCCC', 7),\n",
       "             ('GCGGGATCGTCACCCTCAGCAGCGAAAGACAG', 7),\n",
       "             ('CGGCGAAAGCGGATGCGTTCACCAATGGTCAT', 7),\n",
       "             ('TCGGTTAAGGCGTTGCAAACCTGGCTACCGGG', 7),\n",
       "             ('TTTACCCTCAGCGACGTAGTGTGCAAAATTCG', 7),\n",
       "             ('ATATATCAGAGCAAAAAACAGAGCCACAGCCA', 7),\n",
       "             ('CAGAACATACTTCAAAGCCCGAGGCGTACACC', 7),\n",
       "             ('GTAGTCCATCATTCCACCTATGGCTGAACTCC', 7),\n",
       "             ('ATAGACCCCAAACAACAATACGCGCAAACCGA', 7),\n",
       "             ('ATAGTCCATCATTCCACCTATGTCTGAACTCC', 7),\n",
       "             ('CAGCGCCAGGCGTGAAATCTCACCGTCGTTGC', 7),\n",
       "             ('GAGGGTCTGGAAGCCCTACCAGAAGCGGAGCA', 7),\n",
       "             ('GAAATGCCGGTGAGCGTTAATGCCGCAAACAC', 7),\n",
       "             ('TCGGTTCAGGCGTTGCAAACCTGGCTTCCGGG', 7),\n",
       "             ('CAGGTTCGTAAAGGTGAACCCGGCACGACGGC', 7),\n",
       "             ('GACAGAACGGCCTCAGGAGTCTCGTCAGGCTC', 7),\n",
       "             ('CCGGGGGATAATGTTCACGGTCATGCGCCCCC', 7),\n",
       "             ('AGCGTGTTCGGCATCACCTTTGGCTTCGGCCG', 7),\n",
       "             ('GCACGCGGCGAACGGCGTCACGCTCGGGGGGAT', 7),\n",
       "             ('CTGTTTTCGCGAATCTATGGACTATTGCTATT', 7),\n",
       "             ('TCTCGATGGCTGTAAGTATCCTATAGGTTAGA', 7),\n",
       "             ('GAAATGCTGGTGAGCGTTAATGCCGCAAGCAC', 7),\n",
       "             ('TTTATAGTCCTGTCGGGTTTCGCCACCTCTGA', 7),\n",
       "             ('GTATTCCATCATTCCACCTATGTCTGAACTCC', 7),\n",
       "             ('GTGGAGGCTGCCTGATGCGCGAATTTCAGCAA', 7),\n",
       "             ('GGTGTCGGTGACGGCGAGGCCGACCAGGTAGG', 7),\n",
       "             ('ATTACGCCTTTTTGCGATTACCCGGTTTTTGC', 7),\n",
       "             ('TTTTTTGCTGTTCTACTCATATCCTGAGATAA', 7),\n",
       "             ('CCCTCACGCCGATTCGCCAAACGGTGGAGAAG', 7),\n",
       "             ('CTGCTGCTCGAGCTGGTGGAGTGCTGCTATAC', 7),\n",
       "             ('GCAGGCGGCGACGCGCAGGGTATGCGCGGTTCG', 7),\n",
       "             ('TAAACCACCAGCCAGACCACCAATTACCGCAC', 7),\n",
       "             ('CGAACTGGACGAACGGAACGGCGAAG', 7),\n",
       "             ('TCGGTTCAGGCGTTGCAAGCCTGGCTACCGGG', 7),\n",
       "             ('CTGTTTTCGCAAATCTATGGACTTTTGCTATT', 7),\n",
       "             ('CCCGTCGTGTAGATAACTACGATACGGGAGGG', 7),\n",
       "             ('GTAGTCCATCATTCCACCCATGTCTGAACTCC', 7),\n",
       "             ('GAATGATCCCAAATTTGGGTTAAAGAACCAGT', 6),\n",
       "             ('TGGGCGGCTTGCCTTGCGGCCAGCTCCAGCAG', 6),\n",
       "             ('TGGCCCTGCAACAGCAGCCCCCATGACCACGT', 6),\n",
       "             ('CGCTCCGCGTCGCCAAATTCCACACTAAACGA', 6),\n",
       "             ('CCGGGGGATAATGTTTACGGTAATGCGCCCCC', 6),\n",
       "             ('GCCGAAGAAAGACAGCGTGAGATACACGAAGG', 6),\n",
       "             ('CCGGGGGCTAATGTTTACGGTCATGCGCCCCC', 6),\n",
       "             ('CTGTTTTCGCAAATCTATGGACTATTGTTATT', 6),\n",
       "             ('AAGCTGGCTGGCAATCTCTTTCGGGGCGAGTC', 6),\n",
       "             ('GACAGAACGGCCTCAGTAATCTCGTCAGGCTC', 6),\n",
       "             ('TGCACTCTTCAGGAATGACTCACCATCAGGGT', 6),\n",
       "             ('GGACTTCTTCGCCGATTCTCTTCGCGAGCT', 6),\n",
       "             ('GCGGGCGTTAACGGGGTGATACTGTTTGACGG', 6),\n",
       "             ('CTGTTTTCGCAAATCTATTGACTATTGCTATT', 6),\n",
       "             ('CCGGGGGATAATGTTTATGGTCATGCGCCCCC', 6),\n",
       "             ('TGAACACCCGCACTGCGGAGTACAAGAAAATC', 6),\n",
       "             ('GGCCCCGGAACATCTGCCGCAGTGCGATACCC', 6),\n",
       "             ('GACAGAACGGCCTCAGTAGTTTCGTCAGGCTC', 6),\n",
       "             ('TCCCAGGCGAAGTTTCAGCCACTCTGGAGTGC', 6),\n",
       "             ('ATCAGCGGATGAACATTAGGGTAAAAAACAGG', 6),\n",
       "             ('GCGACCGCTCAGAAACTCCAGACCCGATCCAAA', 6),\n",
       "             ('AGCGTGTTCGGCATCACCTCTGGCTTCGGCTG', 6),\n",
       "             ('AGCGTGTTCGGCACCACCTTTGGCTTCGGCTG', 6),\n",
       "             ('CAATCTGGGCGACCGGTCATCATCACTTCGATG', 6),\n",
       "             ('CCTGGGGTTGTCTGTTTCGTGACGCTCGGTAA', 6),\n",
       "             ('GAAATGCTGGTGAACGTTAATGCCGCAAACAC', 6),\n",
       "             ('ATTTCGCCTTTTTGCGATTTCCCGGTTTTTGC', 6),\n",
       "             ('AGTCATGAGCCACCATCGGTATTGTGGATATA', 6),\n",
       "             ('TTACTGCTTGGTATGCGGAATCACACCCTGAA', 6),\n",
       "             ('ATAGACCCCGAACAACAATACGCGCAAACCAA', 6),\n",
       "             ('AAGCTGGCTGGCAGTCTCTTTCGGGGTGAGTC', 6),\n",
       "             ('ATTACCCCTTTTTGCGATTGCCCGGTTTTTCC', 6),\n",
       "             ('TGGGCGGCTTGCCTTGCAGCCGGCTCCAGCAG', 6),\n",
       "             ('ATTACGCCTTTTTGCGATTGGCCGGTTTTTGC', 6),\n",
       "             ('TAGGCCTATAGAGACGTGCGTTCGTTAAAGCA', 6),\n",
       "             ('GACAGAACGGCCTCAGAAGTCTCGTCAGGCTC', 6),\n",
       "             ('GAAACTCTCTGAGAATCCGTCAGCAAAAATAC', 6),\n",
       "             ('AGCAGCGCGTAAACCAGATCGCCGATCGTGGC', 6),\n",
       "             ('GGCACGACATTCAGCAGTGCAGATAAATCGGC', 6),\n",
       "             ('GAAATGCTGGTGAGCGTTAATGCCGCAAACGC', 6),\n",
       "             ('AGCATTGGTAACTGTCAGACCAAGTTTACTCA', 6),\n",
       "             ('GAAATTCTGGTGAGCGTTAATGCCGCAAACAC', 6),\n",
       "             ('GAAGTCCATCATTCCACCTATGTCTGAACTCC', 6),\n",
       "             ('CAGGACGAAAGGCTGCAGAGCCTGCTGAATGA', 6),\n",
       "             ('TGGCTCTGCAACAGCCGCACCCATGACCACGT', 6),\n",
       "             ('TCAGCATTATCAATTACAACCGACAGGGAGCC', 6),\n",
       "             ('TGGCTCTGCAACAGCAGCCCCCATGACCCCGT', 6),\n",
       "             ('GGCGCCGTCACGCTCAACAAGAGCGACGTGGG', 6),\n",
       "             ('TAGTTTCCGTATCTCCGGATTTATAAAGCTGG', 6),\n",
       "             ('TAACCATGAGTGATAACACTGCGGCCAACTTA', 6),\n",
       "             ('GCAGGCGGCGACCCGCAGGGTATGCGCGATTCG', 6),\n",
       "             ('TAGTTTCCGTATCTCCGGATTTATAAAGCTAA', 6),\n",
       "             ('GCAGTGGTGAGGTCGGGAAGCGCGGTTGAGTC', 6),\n",
       "             ('GTAGTCCATCATTCCACCTATGTCCGAACTCC', 6),\n",
       "             ...])"
      ]
     },
     "execution_count": 25,
     "metadata": {},
     "output_type": "execute_result"
    }
   ],
   "source": [
    "r.corrector.spacers_to_occurrences"
   ]
  },
  {
   "cell_type": "code",
   "execution_count": 26,
   "metadata": {},
   "outputs": [
    {
     "data": {
      "text/plain": [
       "OrderedDict([('ATTACGCCTTTTTGCGATTGCCCGGTTTTTGC', 4581),\n",
       "             ('TGGCTCTGCAACAGCAGCACCCATGACCACGT', 2858),\n",
       "             ('GAAATGCTGGTGAGCGTTAATGCCGCAAACAC', 2849),\n",
       "             ('GACAGAACGGCCTCAGTAGTCTCGTCAGGCTC', 2166),\n",
       "             ('CTGTTTTCGCAAATCTATGGACTATTGCTATT', 2150),\n",
       "             ('GTAGTCCATCATTCCACCTATGTCTGAACTCC', 2001),\n",
       "             ('TCGGTTCAGGCGTTGCAAACCTGGCTACCGGG', 1850),\n",
       "             ('CAATCTGGGCGACCGGTCATCATCGCTTCGATG', 1488),\n",
       "             ('CCGGGGGATAATGTTTACGGTCATGCGCCCCC', 1254),\n",
       "             ('AAGCTGGCTGGCAATCTCTTTCGGGGTGAGTC', 1213),\n",
       "             ('GCAGGCGGCGACGCGCAGGGTATGCGCGATTCG', 1205),\n",
       "             ('TGGGCGGCTTGCCTTGCAGCCAGCTCCAGCAG', 1119),\n",
       "             ('TCAACATTATCAATTACAACCGACAGGGAGCC', 1072),\n",
       "             ('GCGACCGCTCAGAAATTCCAGACCCGATCCAAA', 1062),\n",
       "             ('AGCGTGTTCGGCATCACCTTTGGCTTCGGCTG', 1042),\n",
       "             ('TAGTTTCCGTATCTCCGGATTTATAAAGCTGA', 940),\n",
       "             ('GCGGGCGTTAACGCGGTGATACTGTTTGACGG', 717),\n",
       "             ('CAGAACATACTTCAAAGCCCGAGGCGTACACG', 693),\n",
       "             ('ATAGACCCCGAACAACAATACGCGCAAACCGA', 643),\n",
       "             ('CTGCTGCTCGAGCTGGTGGAGTGCTGCTATAG', 636),\n",
       "             ('TAGGCCTATAGAGACGAGCGTTCGTTAAAGCA', 614),\n",
       "             ('CACACCGTCGCCGGTGCGCGATAACACGTAAA', 581),\n",
       "             ('ATAGCTGCGGCGGTAGGCGTCGAACCGTGGAC', 573),\n",
       "             ('AGTGCTGGACCATTTCAAATTCACAATAGATT', 561),\n",
       "             ('GCCTGACATTGCAGACGTTACAAATTGAGAGG', 554),\n",
       "             ('GTCACCAACATTTTCGCCGTTCAGGCCCGCAG', 532),\n",
       "             ('AACGTCAGGTTGTCGCCGCTCTGCGTGGTCGC', 525),\n",
       "             ('GATCAGATAAATGGCGAGACGATCCTGTTGCAC', 497),\n",
       "             ('GCGTCGCCATTCTATTAGCTTTTCCTCATCAC', 494),\n",
       "             ('CAGGTTCGTAAAGGTGAACACGGCACGACGGC', 474),\n",
       "             ('TCCGTCCACCCTGATAGCCGCCCTTGTGATCC', 466),\n",
       "             ('GGACTTAAAGATCGCATCACAGTACTGGAGGG', 456),\n",
       "             ('GTATGGGAGCAATACCCCAACCTGATGATGTG', 436),\n",
       "             ('ACGAACGCGGCACACCAGGGCGTCTCATCGTC', 434),\n",
       "             ('TATACCGCCGTACATATTTCTCTGCCCAGTTA', 426),\n",
       "             ('TACCGTACAGACTGCCGGATATTATTTTTTTG', 419),\n",
       "             ('GGCAACATAACGAACAAAATCAACGTCAACCT', 391),\n",
       "             ('GGTCAACTGCTCACGTTTCTCAATCTCACTAC', 386),\n",
       "             ('TCGCACCGCGTTAATCCGGCAGAAAAACAACA', 385),\n",
       "             ('CAGTAATTGCACCCTCAGCATCATTAACCATG', 385),\n",
       "             ('GGCAGCGAGCGAAGCTAAAGACCACGCTATTA', 384),\n",
       "             ('TGCGTGAGCGTATCGCCGCGCGTCTGCGAAAG', 377),\n",
       "             ('CAAGTGATATCCATCATCGCATCCAGTGCGCC', 349),\n",
       "             ('TTCGCCGCCATCATCCTGTGGTGCCAGTTGAC', 345),\n",
       "             ('TGCATGGCTTTGGCTTCCTCTTTGACGGACGC', 340),\n",
       "             ('CGAGCAGTATACAGAACTCAAGAACGCGCCGT', 327),\n",
       "             ('ATATATCAGAGCAAAAAACAAAGCCACAGCCA', 326),\n",
       "             ('ACACGCCCTTATCAAATAGCTGTGATTTACCTA', 318),\n",
       "             ('AGTGGCAGGCCGGTAATATGAAAACGACAGAG', 312),\n",
       "             ('GAATGATCCCAAATTTGGGTTACAGAACCAGT', 311),\n",
       "             ('ATCACGATAACGCTGCTGTGATTCGTCCCCGT', 309),\n",
       "             ('GCGTCCACTTCGGGATTTGTGGCAGGGAGTTC', 295),\n",
       "             ('GAGGGTCTGGAAGCACTACCAGAAGCGGAGCA', 295),\n",
       "             ('TGGCCTGACTTTATCAAGCAGTGCATACTGAC', 286),\n",
       "             ('CGATGAATAAAGCCAAGAGTAAAGCGCATGAA', 286),\n",
       "             ('CAATCTGGGCGACCGTTCATCATCGCTTCGATG', 281),\n",
       "             ('ACCCTCACTCAAAGCTGCTGCTGCGGCCTCTG', 277),\n",
       "             ('ACGCGCGTACCGGATCGCGGACAACAAATTGC', 271),\n",
       "             ('CCAGAGCATAGCGTTATTGGTTCTTCCTAGTA', 266),\n",
       "             ('TAAACCACCAGCCAGACCACCAATTACCACAC', 248),\n",
       "             ('TGTGCCCGACTGCGTGCCGCGTCGAGCGCCTG', 247),\n",
       "             ('TCGAACCTGTTTTTCTTAGTGCGCGCAACGTC', 246),\n",
       "             ('CCGTAAGTGGTTTGAGCGATGATATTTGTGCT', 244),\n",
       "             ('AAACTCTGGGCGCTCGAATGGCTGTCCTATTG', 242),\n",
       "             ('TGTTTCTGTCCCAACTGAACAGCGCCGATAGT', 240),\n",
       "             ('GGAATGATATTTCAATAAATAATTATAACAAT', 237),\n",
       "             ('CGTCAAAACTGTACGAGCCGTCCATGCCCGTA', 237),\n",
       "             ('CGACCGCTCAGAGGATCCAGACCCGATCCAAA', 237),\n",
       "             ('TATTTCGCCTTCGGCACTGACGTCACCGTCAA', 237),\n",
       "             ('CAACGAAATTGAGAGCAAAGGTCGCTACGCAG', 231),\n",
       "             ('TTTTACAGTGTCAACAATCGTTCCCTGATTGT', 230),\n",
       "             ('CCGACAATCTCCGCCTCCAGTCGGTCGACCTG', 229),\n",
       "             ('ATTCATCAGTGTGATCCACTGCATGCTGGTGA', 224),\n",
       "             ('CAGGCGGCGACGCGCAGGGTATGCGCGATTCG', 222),\n",
       "             ('GATTGATACCTCGACGGGCTGGCCGTTCTTCA', 214),\n",
       "             ('ATCAGTGATATCCAACATTGCGGAGCTAAACG', 213),\n",
       "             ('GTAACGTGGCGACGACCGGCGATTGATTTCAG', 206),\n",
       "             ('TTAATCAGGTCGTCGTACTCAGCGCCGCTGGC', 203),\n",
       "             ('TAGATTGATACTAGTATGCCAGTCATTATGTA', 200),\n",
       "             ('ATAACCTGTTTAACCAGGCGACGGGTTTCCAT', 197),\n",
       "             ('TGAATGATCGGAAAGACGCTGCAAAGGCAATG', 191),\n",
       "             ('ATCTTCTTGTTCAGGAACGTCAGTAGAGGTGT', 191),\n",
       "             ('AAGACGACGTGATCCGCAAAGTCGAAGGCACG', 189),\n",
       "             ('GGCGATACAAGCACCCGATTACCGGCAAATTT', 188),\n",
       "             ('TTATGAGCTTCAGTAAGCCAGCGTGGTTCGCT', 183),\n",
       "             ('CCGCCAAACAAGCAGCGCCGTGATGATGACAA', 180),\n",
       "             ('CCTGGTGTTGTCTGTTTCGTGACGCTCGGTAA', 179),\n",
       "             ('CGGCATATCAGGAGTTGGAGCAACCAGCGAGA', 179),\n",
       "             ('TATAGAGATCGTTTTTGGAATTTACAGCGAGG', 175),\n",
       "             ('TGCTCAATAACGTCGTAAATAGCGTAAGCTGG', 172),\n",
       "             ('CAAGTGATGTCCATCATCGCATCCAGTGCGTC', 167),\n",
       "             ('ACATGAATGTCGGTTCAGACCGTGTTTTTACC', 166),\n",
       "             ('AGCTCCTGGCTCAATATCTGGAAGAGGATCAC', 166),\n",
       "             ('CAGCGTCAGGCGTGAAATCTCACCGTCGTTGC', 166),\n",
       "             ('TACGGGTTGTACCATGCCACTGGCGTTTTGTG', 166),\n",
       "             ('GCACGCGGCGAACGGCGTCACGCTCGGGGTGAT', 166),\n",
       "             ('TGCATATCAGATGGGCACTGCTGATTGGAGAA', 165),\n",
       "             ('TGGTGTGATTCCAATTGCCGCACGGAACGCCG', 162),\n",
       "             ('CATAAAGAAACTATTTTGCGTTTCGTTCAGGT', 161),\n",
       "             ('TCATTTCCCATGCAAAATGCTGCATTCCTGGC', 155),\n",
       "             ('AGCTGGGCGAAATTTTGATTCATCGTGATGAC', 154),\n",
       "             ('GAGGCGCTCACCTATCTCCTGAATATCTGAGC', 153),\n",
       "             ('CTGAAACCAGTTGGCTCGTTGTTCTTCTTTGG', 151),\n",
       "             ('GTGCCAGTTCTCTGGTTGACGATCGGGAATGC', 149),\n",
       "             ('TGACGCCAGAGGCTGTTAATCCCGTCATTTTT', 147),\n",
       "             ('GTTTTCTCTACATTTAGCTATAGACGTTAGTT', 146),\n",
       "             ('CGTCCCCGGAGTTCTGTCCAGCAACGACAACG', 146),\n",
       "             ('CGTCCGGATCGGTTTCGAGAATCTCTACGCTC', 145),\n",
       "             ('CCGCCGTTGGCACCGTCAAACTCCGGTACTGT', 144),\n",
       "             ('AAGTAATCATGCCTTAATAGACCCCATCGTCA', 142),\n",
       "             ('TTGCTGAAAAAGAAGGCTCCGGCGTTATCAGT', 141),\n",
       "             ('AGCATTAACCCCCACCAGCTCGACGTGTGTGG', 141),\n",
       "             ('GGAAACCGCCCCGGCGGTGGTTAGCTGTTTGC', 140),\n",
       "             ('TGACCTGAAGAAATAACATTGACTCCAAACTG', 138),\n",
       "             ('TGAAGCATCAAACATTTGGTGGACCAAACGGA', 135),\n",
       "             ('GTCGCCGGGTTGATTTTCCATGATGATTTTTA', 132),\n",
       "             ('CGATTCCTCGTAGCTGCCACTCGACTGAAAGC', 131),\n",
       "             ('GGGGTTGTCGTTGTTTTGCCAGCGTCCTTCAT', 130),\n",
       "             ('CAATCTGGGCGACCGGTCATCATCGCTTCGATA', 129),\n",
       "             ('GAAGAGTTTTCCGGCTTTGTCCTGCTGGATGA', 129),\n",
       "             ('GTCAACCACAACCAGATTGATGTGCTTGGTCT', 128),\n",
       "             ('TTAGAGATGACGCGACAAGTCCACAAGCTGCG', 123),\n",
       "             ('ACATCAAGCCCTCAGTATTGTGTTAACCAAGA', 120),\n",
       "             ('CCGATCAGCACACCCGAACCGACACCGACGAC', 120),\n",
       "             ('GTCGCCTGCCGCCTCAATCTCACCACTCGGAG', 119),\n",
       "             ('TTTGGTATCTGCGCTCTGCTGAAGCCAGTTAC', 118),\n",
       "             ('GCGCCTCGGTTGTTTAGCCATGCTCAGCCCCA', 117),\n",
       "             ('CGGGGGGATAATGTTTACGGTCATGCGCCCCC', 116),\n",
       "             ('GTCGCCTGTTCAACTTTAAACGGCTCAAACCA', 115),\n",
       "             ('CCGGAGCTGGGATTGATAGCGCCTGAT', 115),\n",
       "             ('TCTTCGGGCGCGCGTTTTCGCAGACCAGCGAT', 115),\n",
       "             ('GGAATATCGTTGCGCTAAAAGAGATTCTGGGC', 115),\n",
       "             ('TCTTGCCGTGATGTGAAAGCTGAATTATCCCG', 114),\n",
       "             ('GTATATCACGCCGCAAACGGGATCAGCAGCAG', 114),\n",
       "             ('TGTGTCGGAATATGCGGGCTGATTTTCGTCTG', 113),\n",
       "             ('GTTACGCTGCCTGAATATCGCAATTCCCCTGA', 113),\n",
       "             ('CAATCTGGGCGACCGGTCATCATTGCTTCGATG', 111),\n",
       "             ('AGTTAACAACCCGCGCCGAACAAGCCCGACAA', 110),\n",
       "             ('CCTGGTGGAGATTGACGCGAAATATGAGAAAC', 109),\n",
       "             ('ATTAAATTTTGCAGGTAGCTGTTATCCGTGTC', 109),\n",
       "             ('AAAACCAAACTTCTCCATAAATTCCATAGCCG', 108),\n",
       "             ('ATAATTTGACGATGAAGCAGCGCCCCACATTC', 107),\n",
       "             ('CTATAATTTGTTTTTGCACCACTGTACCTCGT', 106),\n",
       "             ('TTCTGTCACCTGACTATTTAACGCTATATTTC', 105),\n",
       "             ('CCAGTACACCCGACGTTGTACGCGGCGTCGGT', 104),\n",
       "             ('TGACTACTACCGCTGAAAGGCTGTCGCTACTGG', 104),\n",
       "             ('ATGGCGTGTCTCGATTGCGCGCTGCCGCACTG', 104),\n",
       "             ('CCTGCGTAGTTGATCACGATTTCCGGGATAAT', 104),\n",
       "             ('AGTTCGACCCTACTCAGGCCGGACTATGGCCA', 104),\n",
       "             ('TACTGCTCCGCTGGCGTTTCTCCCTCGCCCAG', 102),\n",
       "             ('AACTGGATTCTGCTCTAATTATTACATCATCG', 102),\n",
       "             ('AATCGAGGTCGGGCAGAACATCGCGTAGACCTGCACCTCGGGCAGCAGCTCCTGAACG',\n",
       "              101),\n",
       "             ('TTTGCCGCTGTCAGCATTGCTGGCGCGTAATA', 100),\n",
       "             ('ATTACGCCTTTTTGCGATTGCCCGGTTTTTCC', 100),\n",
       "             ('CTGCCGACTGACCGCCGACGCTTTCGCGTTAA', 100),\n",
       "             ('GGCTTTAACCACACGAGCAAGTCCTTCGCCGG', 100),\n",
       "             ('TAGTTAACTTTTAGACAGAATATCCGTGTACC', 99),\n",
       "             ('TGAAGGTGCTGAAGAATATCGGATTCAGAACG', 97),\n",
       "             ('TTCATACGCTGCGCCAGTTCGGTGATATCAGT', 97),\n",
       "             ('CAGGGTTGCGCGATGCCGTGAAGGCAACAGAG', 97),\n",
       "             ('AATGCATCAGTTGAACACAAAAGTAGCTTTTC', 94),\n",
       "             ('GCCGTTTTCATAGCCCTCGACTTTTAGAATTT', 94),\n",
       "             ('GAGCGAAGGTGCAACATTATCACCATATTCGG', 94),\n",
       "             ('TAGTTTCCGTATATGCATATTTATAAAGCTGA', 93),\n",
       "             ('ACGGATTGCGGTATATGCAGTGTCCAGATTCT', 88),\n",
       "             ('GCTGGTTTTGAATCGTCCCGCGCTCGAGACGC', 88),\n",
       "             ('CTGATTGTCAAAATCAAAAAACAGGCCGAGTC', 88),\n",
       "             ('GTCGCGTTCGTTGCCGGTATAGACCAGCGTCA', 87),\n",
       "             ('TGACCGATTTTATTGATCGCCCGATAGACCTG', 87),\n",
       "             ('CGACTCAGTGGCAACACATCCACCCCACGATC', 86),\n",
       "             ('ATTTCGCCTTTTTGCGATTGCCCGGTTTTTGC', 86),\n",
       "             ('CCAGGTTTGGAACTCGGGCCAGATGACCATGA', 85),\n",
       "             ('GGGCGGACTACGCGGGAGATAAACCAGTTTTG', 84),\n",
       "             ('GAGGTGGCAATACGCGTAGATCATTTGGTCGT', 84),\n",
       "             ('TGTAAAAGTTGATTTTCATATTGCTCTAATTG', 83),\n",
       "             ('ATCTCGGGCTGAATGAGATCCCAACAATCACG', 82),\n",
       "             ('ACACCCAAACACAAGCCCAAATCGCGACCGAA', 81),\n",
       "             ('ATGACTACACGTACCCGATGCGCGGCGCGGGG', 81),\n",
       "             ('GAGACTTTTCACACTGATAATGTTGTTATTTT', 81),\n",
       "             ('GAACCGCTTTTATTTTTAGACATAGAGCACCG', 79),\n",
       "             ('GGGATCAGCACCGACAACCTAAAACCACTGTT', 78),\n",
       "             ('GCCATAACCATGAGTGATAACACTGCGGCCAA', 77),\n",
       "             ('ACTCACATTAATTGCGTTGCGCTCACTGCCCG', 76),\n",
       "             ('TGGCGGTGTAAATTTTTACGTTTTTCATATCT', 75),\n",
       "             ('TCGTAACAAGGAGATTTAAGTGGAAGAGATGC', 74),\n",
       "             ('TCGGCCAGCGTCCAGGCTGGCACCCGATATTC', 74),\n",
       "             ('ATTACGCCTTTTTGCGTTTGCCCGGTTTTTGC', 72),\n",
       "             ('CACAGTTTTTGATATATCACCACGCTTTTTCT', 71),\n",
       "             ('CCTGGTCTTGTTGTCACGGTCGAGCACTTCGA', 71),\n",
       "             ('GTTGTCGCGGTAGTATTTAGTCGAAAGCATGA', 71),\n",
       "             ('CTATAGCGCCACGTTCCGAGCGCTGCGAGCTG', 71),\n",
       "             ('ACACACCAGGACCGCGCCAACTTACCCCGCGT', 70),\n",
       "             ('CATGGCCTGCTCCGCCGGCACCGCCAGGGTGGCCACCTTCT', 69),\n",
       "             ('TCAATGCCATAATCAAAAGCGGCCAGAATTGC', 69),\n",
       "             ('GATCCGGCTCACGATTTTGACGATGAGATCCC', 69),\n",
       "             ('TAGTAACGCGGGTTCGCCCGTAAACCGCGAGA', 65),\n",
       "             ('CCGCAAATGCCAAGACTCGCAAGCCAGCCCAG', 64),\n",
       "             ('CGAGCGTCGGCAGCATCGCAAAGCGCACCTGC', 63),\n",
       "             ('GATAAATCGCTCACGAAGAATAATTCTACCCC', 63),\n",
       "             ('AGCCAGGCCCACGGCTGTCTTATTGAAATTGC', 62),\n",
       "             ('CTGCCCAAAGACCTGTATTCCTCTGATGGTTC', 61),\n",
       "             ('TTTGCTACCCGCTCAAAACCGCCGATTCGCGT', 61),\n",
       "             ('ATCTTCATATTGCGTGACGCTGCCGATGAACG', 60),\n",
       "             ('GGGAAGCCGTCAACCTCGGCGTGTTTGAGCAG', 60),\n",
       "             ('CCGAACGGCTCGGCGCTCTCATACCCCCAAAT', 60),\n",
       "             ('GCGGTCCTGGTAGGTTGCAGTGCGTCCCGAAAA', 59),\n",
       "             ('TGAGCGTCGGCGGCTCGCTGGATTTGCGCGG', 59),\n",
       "             ('GCGGATCCACAGCTTGCCCTTGCGCTTCATTTCA', 59),\n",
       "             ('AGCAACGGCAGGATCCCCATCGGGTCGTCCGG', 59),\n",
       "             ('ATCACGATAACGCCGCTGTGATTCATCCCCGT', 57),\n",
       "             ('ATTACGCCTTTTTGCGATTGCCCGGCTTTTGC', 57),\n",
       "             ('ATGAAACGCCGGACTAATCCACATGGCGTAGG', 56),\n",
       "             ('GCGATGGATCAGGGTATTACACTCGACGGCGG', 56),\n",
       "             ('GTAGTCCATCATTCCACCTATGCCTGAACTCC', 55),\n",
       "             ('CCCTCACACCGATTCGCCAAACGGTGGAGAAG', 55),\n",
       "             ('GTTATCACCGAGTGCAGTAGCCCGCGCGCGCT', 54),\n",
       "             ('ACGGCCTGATTTAGAGTTAAACATGGTCACGC', 54),\n",
       "             ('GCCCGCCTCGTCGGTGTATTCCGCGAGATCGC', 54),\n",
       "             ('ATTACGCCTTTTTGCGATTGCCCGGTTTTTTC', 54),\n",
       "             ('TGGCAAAACAAACATCGGGGTACGCGTGGTGC', 54),\n",
       "             ('ACCATGTACGGCAGCGGGGTTTCCACGGCCAA', 54),\n",
       "             ('TACAGTTAAGCGTAAAGTAAGTGATACTGGTG', 53),\n",
       "             ('CCACCTGCCGCGACGGGTGCCAGCAGATCACG', 52),\n",
       "             ('ACCGATAAACAACCGCATAGCCTCTTTCGTTT', 52),\n",
       "             ('CCAGATTCCGCTTTCTCTACCTTCTCTTTTTC', 52),\n",
       "             ('TTTACGTCGAAGCGCCTTTTTCGCCTCCAGGT', 51),\n",
       "             ('ATTTTCAATTTCTAATAATTCATCTCCTCAGC', 51),\n",
       "             ('CACGACGGGCAGGCGATCACCGGCATGACCCA', 51),\n",
       "             ('AATGATAAATTATCCGTTACCGCAATAACAAT', 51),\n",
       "             ('CACAAACCGCCCATCTTCCCGATTACTGCAGC', 50),\n",
       "             ('CGGGGTACTCGAATGAAATCTATCGCAGAAAG', 50),\n",
       "             ('ATTACGCCTTTTTCCGATTGCCCGGTTTTTGC', 50),\n",
       "             ('TCCTCCGCAGCCTTGACCAGCGGATATGTTTT', 50),\n",
       "             ('ATTTCGACGCGCTCTTTTTCGCTCGGTAAAAC', 50),\n",
       "             ('TGGCTCTGCAACAGCAGCACCCATGACCACGC', 50),\n",
       "             ('TTTTTTAACTGGGCGCGCAGAGTGGCACGTTG', 50),\n",
       "             ('ATCCATGCCGTCCTGAATATCGAAGCGATGCA', 49),\n",
       "             ('ACCGGAACGTATCAGAATATGATGATCTCCGG', 49),\n",
       "             ('ATAATGCTCATGAGCAGGCATAGGATTGACGA', 49),\n",
       "             ('GTCACGATAACGCTGCTGTGATTCGTCCCCGT', 48),\n",
       "             ('TCGGTTCAGGCGTTGCAAACCTGGCTACCGGA', 48),\n",
       "             ('CTTTCCACCCAGGCACTGATACTCCACATAAA', 48),\n",
       "             ('GATGAGCAACACGCCCGCACTGGCGTAACTTA', 48),\n",
       "             ('AAGCTGGCTGGCAATCTCTTTCGGGGGGAGTC', 47),\n",
       "             ('TGTACGCGGCGAGTTTTAGCGACAGGTCATCC', 47),\n",
       "             ('CTGTTTTCGCAAATCTATGGGCTATTGCTATT', 47),\n",
       "             ('TCCCCCATGTTGTGCAAAAAAGCGGTTAGCTC', 47),\n",
       "             ('GCCGAGCATATCGAGCTCACGGGCGCGGGTTT', 47),\n",
       "             ('CGTTTTTGCCGGGTTTATTTTAAAACCGGAGC', 47),\n",
       "             ('GTAGTCGGTGGCCATGGGCTGCAGCTCCTGGG', 46),\n",
       "             ('GAACCTTCAATCTCCAAATGGGCAGACGGGAT', 46),\n",
       "             ('GATTTTTTTCGGTGACGGGCAACGGTCGAGAA', 46),\n",
       "             ('GTCGGCAGAGAATCGTTCGATTGCCCCTACAT', 45),\n",
       "             ('CCAGAAAGTGCCGGTAGTGCCTGATGAACGAC', 45),\n",
       "             ('CGTTGGCTGGAGATATGGGAGTACCTTTGGAA', 45),\n",
       "             ('ACGTCAATGAGCACAGAGCGGATAACCTGCGC', 45),\n",
       "             ('AATGTTTCCCGCACCCAAATGCGATCGCCAGG', 45),\n",
       "             ('TCTTTATCAGCTAACCATTTCCAGAACTCGTC', 44),\n",
       "             ('TAAGCCGTGACGCGGGTCGCCGCTGGCGTCAA', 44),\n",
       "             ('ACTGGATGGAGGCGGATAAAGTTGCAGGACCA', 44),\n",
       "             ('GGCGAACAACCGACCCCTGTTGGACCCGACGA', 43),\n",
       "             ('GACTCAAAACGGCGCAGGTCAAAATCGTTCAA', 43),\n",
       "             ('GTACATGATGTACAAGGGCGATCTGAGGGTGG', 43),\n",
       "             ('CAGCAGAGCGGATGAAAAAGCAGTAAATAACG', 43),\n",
       "             ('TCGATAATGTATTTGCGGGCAGAAAGGGCGCG', 43),\n",
       "             ('TCGCCCCGAAGAACGTTTTCCAATGATGAGCA', 43),\n",
       "             ('GCTGCAACCAGTGGAGTGAACATGAGCGTTCG', 43),\n",
       "             ('ATCCGCTCATGAGACAATAACCCTGATAAATG', 43),\n",
       "             ('GCAAAATAGCGATGAGCTGGCTACGCCCACTGG', 42),\n",
       "             ('TGGCAGCCAGGCGTTCATCGGTGACGACGAGGC', 42),\n",
       "             ('CCAACAGTAATTGCAAAATCCTGTTGTTTAAT', 42),\n",
       "             ('TGGCTCTGCAACAGCAGCACCCATGGCCACGT', 42),\n",
       "             ('TTCATGAAGCACGCTGGAATTTATATTTGCCC', 42),\n",
       "             ('TGGACCGATGGGGCCAACATCGCCGAACGTGG', 42),\n",
       "             ('TCCCCCTTAATTGCTCTCAAAAGATTTGATCC', 42),\n",
       "             ('TGCCAGTGACTACAGAAGCGTCTCTATCGGGG', 42),\n",
       "             ('AAAGTGACGCGATAGACGCGCTGATTGACGCT', 41),\n",
       "             ('ATCTCCAGCGCCTTTTCGACGCAACGGTGCGC', 41),\n",
       "             ('ATCCACATTTCCGCCGTTATGAATCGGTATTC', 41),\n",
       "             ('TTCGATGTAACCCACTCGTGCACCCAACTGAT', 41),\n",
       "             ('CGCAAACTTGAAGGACGGATGACCGTATGAAC', 41),\n",
       "             ('TGGCTCTGCAACAGCAGCCCCCATGACCACGT', 41),\n",
       "             ('GAATTTTAAATTTATGTGTATGAATTGTGGCA', 40),\n",
       "             ('GAAATGCTGGTGAGCGTTAATGCCGCAAACCC', 40),\n",
       "             ('GGACCAAATACCCGTCCCTCAATCCACGCCGT', 40),\n",
       "             ('GATTGCACAGGGGGTGAGTATGGAACAGCTGA', 40),\n",
       "             ('CCCATTCCAATTGATACTCATACGTTGTT', 40),\n",
       "             ('GTCGACCATATGCCAAGACCAACTATCTGATT', 39),\n",
       "             ('GTGGAAACCATCGCGAAGAGCTACTGGGAACG', 39),\n",
       "             ('ATTACGCCTTTTTGCGATTGCCCGGGTTTTGC', 39),\n",
       "             ('ATTACGCCTTTTTGCAATTGCCCGGTTTTTGC', 38),\n",
       "             ('ATCAACGTTATCGATTACAACTGACAGGGAGC', 38),\n",
       "             ('CACCCTGAGCGTAAAAAAAATGCTGAGGCGAT', 38),\n",
       "             ('TAAAATTGGCATCATAGATGGTTTGATAGTCC', 38),\n",
       "             ('GTCCTCTTTTTTCGACGTCAGGAAAATATCGG', 38),\n",
       "             ('CTAGGAGGCGTAATGAATACTACGTATCAAAA', 38),\n",
       "             ('CTCTACACCACCAACAGTCTGGGTTGCCACTT', 38),\n",
       "             ('TGGAACAACACTCAACCCTATCTCGGTCTATT', 38),\n",
       "             ('CCCTCGTGCGCTCTCCTGTTCCGACCCTGCCG', 37),\n",
       "             ('GATCGCCTGCTCCAACGTCAGTCCCTGCCCGT', 37),\n",
       "             ('TTCGGGCAGCGGCCCGGCGCTGGCTGGCAGGC', 37),\n",
       "             ('AACCCTTACGGTTATATGAAAGAAGATTTTTA', 37),\n",
       "             ('GCAGGCGGCGACGTGCAGGGTATGCGCGATTCG', 37),\n",
       "             ('GGCGGCTGGTTTCCTGTAATTCGTGAATCATA', 36),\n",
       "             ('GTCGCCAGCTCCAACTGGCGGCGGTCGCCCAC', 36),\n",
       "             ('GCAGGCGGCGACGCGCGGGGTATGCGCGATTCG', 36),\n",
       "             ('ATTACGCCTTTTTGCGATTGCCCGGTCTTTGC', 36),\n",
       "             ('CTGCTTTCGCAAATCTATGGACTATTGCTATT', 36),\n",
       "             ('CTAATTACCGAGCTAATGTCGTTACCGATGTG', 36),\n",
       "             ('GCAGCTTAGCGACGAAATTAAAACCGAACTCAC', 36),\n",
       "             ('TTTTTGTTAATTGCGTTTGCCACGGTTTGCAA', 36),\n",
       "             ('AGAGTATGAGTATTCAACATTTCCGTGTCGCC', 36),\n",
       "             ('TCCCATTCACCAACAACAATATCGCCCTGCAA', 36),\n",
       "             ('TCCGCATCGCTCATGCCGATAATCGGGCTCGG', 36),\n",
       "             ('TTTTGTGCCCTGGCGTTTTGCTGGCTCTCGCG', 35),\n",
       "             ('TGGCTCTGCAACAGCAGCACCCATGACCCCGT', 35),\n",
       "             ('CAACCCGGCGGCACGGTCAATCGTTGCGTCAG', 35),\n",
       "             ('CAAACAGGTCGACATGTTTGGCTAACAGCTAA', 35),\n",
       "             ('AATGCCTCCAGCCTCATTTGAAACGCCGCCAG', 35),\n",
       "             ('ATATCCAGCCTGCGATAGAGATAGTTTTCCGG', 35),\n",
       "             ('GTAGTCCATCGTTCCACCTATGTCTGAACTCC', 35),\n",
       "             ('TCAGCCAGACGTGGCATTGCGGCTGCATCCGG', 34),\n",
       "             ('AAAATTCATATTGATAAACACCGCGTTTGTAT', 34),\n",
       "             ('TGGCCCTGCAACAGCAGCACCCATGACCACGT', 34),\n",
       "             ('GCGACCGCTCAGAAATTCCAGACCCGATCCAAG', 34),\n",
       "             ('GTTACGTTCGGTAAATGGAAAGCGGCGAATAT', 34),\n",
       "             ('TTCCCATTTAGCGAGTTCTTTTGCCGCCAGCA', 34),\n",
       "             ('ATTACGCCTTTTTTCGATTGCCCGGTTTTTGC', 34),\n",
       "             ('GTAGTCCATCATTCCCCCTATGTCTGAACTCC', 34),\n",
       "             ('CTGTTTTCGCAAATCTATGGCCTATTGCTATT', 33),\n",
       "             ('ATTACGCCTTTTTGGGATTGCCCGGTTTTTGC', 33),\n",
       "             ('TGCTGACCTGCGCAGAGGGCTTTGGCAATTCA', 33),\n",
       "             ('CAGTTGTCTGATGTGTCGCTGGCCTGGCGGCA', 33),\n",
       "             ('TGTCACAGTGACCGGCGGGAACTTGAAAATCA', 33),\n",
       "             ('TACCGGTACCAGCTCAACCGCAACCCCATCAG', 33),\n",
       "             ('ATTACGCCTCTTTGCGATTGCCCGGTTTTTGC', 33),\n",
       "             ('ACTCTGGCGGCGGCGCAGGCGGATATCGCGAA', 32),\n",
       "             ('GGTTTTACAAGCTTAAATGATTTTAAATTTTG', 32),\n",
       "             ('CGGTTTCTGTTGTTGCTGGCTCAGCCGGTGCG', 32),\n",
       "             ('AGCGTGTTCGGCGAATTCTTTGGCTTCGGCTG', 32),\n",
       "             ('CCGTTAAAATATTCGCCCGTTGTGTAAGCGTA', 31),\n",
       "             ('CTGCTGCTCGAGCTGGTGGAGTGCTGCTATAA', 31),\n",
       "             ('GATTCCGGCAAGGCGCTGGTCAGCACGGCTCT', 31),\n",
       "             ('CTGTTTTCGCAAATCTATGGACTATTGCTATG', 31),\n",
       "             ('ATTACGCCTTTTTGCGATTGCCGGGTTTTTGC', 30),\n",
       "             ('CTAATGATGCCACCCAGCGACAAAAACGCCGC', 30),\n",
       "             ('CTTTTTTCGCAAATCTATGGACTATTGCTATT', 30),\n",
       "             ('AACTGAAGGGCCGCCGCTACCCGGTTAACACC', 30),\n",
       "             ('GGGCTTTCCGCCTACCTGCGACATCATGCGCT', 30),\n",
       "             ('AGGAACTAAACAGCCTGACCGTTGAGGATCTG', 30),\n",
       "             ('GGGCACTATGAACGGATCGGCGCTGATGCCGG', 30),\n",
       "             ('GCGCAGCCCGATGCGGTTAGAGATATAGGCCTC', 30),\n",
       "             ('TTACCAACTGGATAACGACGGGAAAGAGCTGT', 30),\n",
       "             ('ATCACCGTCACAGGCCAGAACCGTCACCACCA', 30),\n",
       "             ('GTCCTTGTGAACGCCAACAGTGATTGAGCTGT', 29),\n",
       "             ('TACCGTACAGACTGCCGGATATTATTTTTTG', 29),\n",
       "             ('TGTTTTTCTGCCGGTTTAACACGGTGCGATAA', 29),\n",
       "             ('TCACGCTGCGCGTAACCACCACACCCGCCGCG', 29),\n",
       "             ('GCAATCAGCTCCTCAATATATGTGGCCATTAG', 29),\n",
       "             ('ATTACGCCTTTTTGCGGTTGCCCGGTTTTTGC', 29),\n",
       "             ('ACGATGGGAAGGGCTTCTCACCGACTATGACCCTTCAAC', 29),\n",
       "             ('GGTAACTGTCAGACCAAGTTTACTCATATATA', 29),\n",
       "             ('GCGATCGCGGTGGTTAATCTGCTGAAAATACC', 28),\n",
       "             ('GTTTTCATTTGCACGAGCTGCACCATAAGAAG', 28),\n",
       "             ('AAAAAATGATGCTGTATTTCACTATTGGGTTC', 28),\n",
       "             ('GCTGACCTGTCGAATCCGTATAGCCGCCGTTC', 28),\n",
       "             ('TCAGTTCAGGCGTTGCAAACCTGGCTACCGGG', 28),\n",
       "             ('CAACGTTGCGCAAACTATTAACTGGCGAACTA', 28),\n",
       "             ('ACTTCCTTCAGTCTTAACGATAATCCGCAACG', 28),\n",
       "             ('TTGAACGTTATAACTCCCCTACGATGTTGTCC', 27),\n",
       "             ('CTGAGAATAGTGTATGCGGCGACCGAGTTGCT', 27),\n",
       "             ('ATCGAATCGAAACCCCAGCCACAGAAATAATT', 27),\n",
       "             ('CCAAGCTCTAATACGACTCACTATAGGGAAAG', 27),\n",
       "             ('TGGCTCCGCAACAGCAGCACCCATGACCACGT', 27),\n",
       "             ('CGTGGCAAGTGCGAAGCAGTCGCGGACTATGT', 27),\n",
       "             ('ATTACCCCTTTTTGCGATTGCCCGGTTTTTGC', 27),\n",
       "             ('ACTGTTTAAATTACCGTGCGTAAGCCGTCATT', 27),\n",
       "             ('GCTACGTGGACCTATGGATATCTGCGCCCGTT', 26),\n",
       "             ('TCTTTTGATTTTGCTGCGATGTTATAACCAGA', 26),\n",
       "             ('GAAATGCTGGTGAGCGTTAATGTCGCAAACAC', 26),\n",
       "             ('GAGGTGGCAAAATATTGTCAGCGGGATTTTTT', 26),\n",
       "             ('TGGCTCTGCAACGGCAGCACCCATGACCACGT', 26),\n",
       "             ('AGCACCACTGAAAATCTGTACGAAAGCAATAG', 26),\n",
       "             ('TTTTGCACAACATGGGGGATCATGTAACTCGC', 26),\n",
       "             ('TCGGTCCAGGCGTTGCAAACCTGGCTACCGGG', 25),\n",
       "             ('ATGAAGTCCTTATAGTACATTTCAAATACTCC', 25),\n",
       "             ('CTCACCAGTTTTGGGGTCAATAACCGGGGGAT', 25),\n",
       "             ('ATTACGCCCTTTTGCGATTGCCCGGTTTTTGC', 25),\n",
       "             ('GACCCACTGCCGTTCCCTTACCCGCCATGTCG', 25),\n",
       "             ('GGATCTGCCAGCGCCTCTGCGGGGCGGTAAAC', 25),\n",
       "             ('GATGACGGTTGCGCCGTCCGCGCCGCGCGGCC', 25),\n",
       "             ('TCCCCTGATTCTGTGGATAACCGTATTACCGC', 25),\n",
       "             ('CCGTTCATATTCGTTTCCTCGTGGCGCGATCT', 25),\n",
       "             ('GGTAAAGCCACACCATTTTTTATTGACCTCGC', 25),\n",
       "             ('CAATCGGGGCGACCGGTCATCATTGCTTCGATG', 25),\n",
       "             ('CAAGTGATATCCATCATCGCATCCAGTGCGTC', 25),\n",
       "             ('GAGCCCTGCCAGAATGGGGCCTCTTTTGTACC', 25),\n",
       "             ('AGCCGCCGAAGCCCGGCGCAGCCGGTACGGAT', 25),\n",
       "             ('TCGGTTCAGGGGTTGCAAACCTGGCTACCGGG', 25),\n",
       "             ('TCGGCTCAGGCGTTGCAAACCTGGCTACCGGG', 25),\n",
       "             ('TTTTTTTGTCGCATCCAGCCGTATTTTTTCGC', 25),\n",
       "             ('CGCGCACGGCGTTTGCCCTCGTCGGTTATTGG', 24),\n",
       "             ('TGTAATAGCCTGATCTCTGATCTCCCTCGCCT', 24),\n",
       "             ('GACTCCACGCGGGCGCGGATTCTGGTGGGCAG', 24),\n",
       "             ('TATCCACATATACCCGCAATCATATTCAAGAA', 24),\n",
       "             ('CAGTGGCTGCTGCCAGTGGCGATAAGTCGTGT', 24),\n",
       "             ('GCGGGCGTTAACGCGGGGATACTGTTTGACGG', 24),\n",
       "             ('TGGCTCTGCAACAGCAGCACCCATGACAACGT', 24),\n",
       "             ('CCCAGATGACAGCTTGCCTAAAACGAAAGCAG', 23),\n",
       "             ('AAGCTGGCTGGCAATCCCTTTCGGGGTGAGTC', 23),\n",
       "             ('ATACGGCGCTGTCTTATGTTGACCAAACGGAA', 23),\n",
       "             ('GTAGTCCACCATTCCACCTATGTCTGAACTCC', 23),\n",
       "             ('TGGCTCTGCAACAGCAGAACCCATGACCACGT', 23),\n",
       "             ('ATTACGCCTTTTCGCGATTGCCCGGTTTTTGC', 23),\n",
       "             ('ATTACGCCTTTTTGCGATTGCCCGGTTTTTGT', 23),\n",
       "             ('TGAGACGCTCCCGGATGAGGTTATACTGTACG', 23),\n",
       "             ('ATTACGCCTTTCTGCGATTGCCCGGTTTTTGC', 23),\n",
       "             ('TTATAGAGTTGACTCAAATTCATTTTTATTCC', 23),\n",
       "             ('GGAGTAGCCGTTGTGGGCGGTGGCGATGTTGTAGATCAGCTCCTGGATCAGAA', 23),\n",
       "             ('TTGGTTGTTCGGCGTTTTGAAGAGAACAAAAA', 23),\n",
       "             ('TGCTGGATGAGTTTATCGAACACAGAGCGGAG', 23),\n",
       "             ('TAGGAGACGAGCGTTCGTTAAAGCA', 23),\n",
       "             ('ATTACGCCTTTTTGCGATTTCCCGGTTTTTGC', 22),\n",
       "             ('CAAACTGGATATCACTGAATGCAGCCGCGTGG', 22),\n",
       "             ('ATTAGGCCTTTTTGCGATTGCCCGGTTTTTGC', 22),\n",
       "             ('AGCGTGTTCGGCATCCCCTTTGGCTTCGGCTG', 22),\n",
       "             ('GGGGATAACGGTTATCCACTGGCCGCCGATCT', 22),\n",
       "             ('AATACTGACGTGTTTCACGCTGCTGCCGTCTG', 22),\n",
       "             ('TCGGAACCCTAAAGGGAGCCCCCGATTTAGAG', 22),\n",
       "             ('ACATCGAACTGGATCTCAACAGCGGTAAGATC', 22),\n",
       "             ('CCACCGTTGGCACCGTCAAACTCCGGTACTGT', 22),\n",
       "             ('ATCAGAGCAGTGGAAGCAGGCAAGAAGGGAGT', 22),\n",
       "             ('TAGTTTCCGTATCTCCGGATTTTTAAAGCTGA', 22),\n",
       "             ('TAAATCTGGCGTCGAGACATTCGAAATAGTGC', 21),\n",
       "             ('GCTGAGGGGCCGAGAAGTTGCAGCGGCTGATT', 21),\n",
       "             ('ATCATTCGCACACCCCCGCGTAAATGCTGGAA', 21),\n",
       "             ('ACCGGACAAATCTTTTTTTTCCTGTTCCTGTT', 21),\n",
       "             ('TGGTTTGTTTGCCGGATCAAGAGCTACCAACT', 21),\n",
       "             ('TTTTAACCAATAGGCCGAAATCGGCAAAATCC', 21),\n",
       "             ('AAAATGCTGGTGAGCGTTAATGCCGCAAACAC', 21),\n",
       "             ('CATCGTGGTGTCACGCTCGTCGTTTGGTATGG', 21),\n",
       "             ('GGTGTTCCGTTAATATCGATGGCGACGTAACT', 21),\n",
       "             ('GACAGAACGGCCTCAGTAGCCTCGTCAGGCTC', 21),\n",
       "             ('TGCATGGCTTTGGCCTCCTCTTTGACGGACGC', 21),\n",
       "             ('GACAGAACGGCCTCAGTAGTCTCGTCAGGCCC', 21),\n",
       "             ('AATCGCCAGCCTCGGAAATATTCCATCCTCCG', 21),\n",
       "             ('CCCTGAAGATGTGGAATACATCATTCCCGCTGTGAAAGACGTCGTCACCTACCTCCG', 21),\n",
       "             ('CGTAGTCAGTGAGAGAAATATTAACAAGCCCC', 21),\n",
       "             ('GCTAACTGGCAAAGCTCCTCGTGTGTCAGTGC', 21),\n",
       "             ('AGCGGGTTCGGCATCACCTTTGGCTTCGGCTG', 20),\n",
       "             ('TGCAAAAGCTGCACATACAAGCTGCCATCGTC', 20),\n",
       "             ('TAACGAACTGAATAAAATGTCAGAAAGTGACG', 20),\n",
       "             ('GAACGCAATATCACGGCGTTCTGCGGCCTCGG', 20),\n",
       "             ('ATTACGCCTTTTTGCGATTGCCCGGTTTTCGC', 20),\n",
       "             ('GAAATTTCCACCGTGGATATTTCGGTTATTGG', 20),\n",
       "             ('CTGTTTTCGCAAATCTATGGACTACTGCTATT', 20),\n",
       "             ('ATTACGCCTTTTTGCGACTGCCCGGTTTTTGC', 20),\n",
       "             ('AAGCTGGCTGGCAATCTCTTTCGGGGCGAGTC', 20),\n",
       "             ('CAGCACGAAAAATTATTTACTGTCGTTGCTCA', 20),\n",
       "             ('GTTGTTGTAATAAAGCCCCGGAGTTTTATATC', 20),\n",
       "             ('CTGTTTTCGCAAATCTATGGACTATTGCTTTT', 20),\n",
       "             ('AATTGCGGATGCTCCCGGAATTGCGCGGGCAA', 20),\n",
       "             ('TCGGTTCAGGCGTTGCAAACCCGGCTACCGGG', 20),\n",
       "             ('GAGATGATCAAAGCGGGCTTTTTTGTGGCCTG', 20),\n",
       "             ('TGGTTGAGTACTCACCAGTCACAGAAAAGCAT', 20),\n",
       "             ('CAATCGGGGCGACCGGTCATCATCGCTTCGATG', 20),\n",
       "             ('GGATCTGCAGACGATGAATTACCGCTTGACTA', 20),\n",
       "             ('ATCACGATAACGCTGCTGTGATTCATCCCCGT', 19),\n",
       "             ('ATTACGCCTTTTTGCGATTGCCCGGTTTCTGC', 19),\n",
       "             ('GGGCGAGACGGGAGGGACAAGGTGTGATTGAG', 19),\n",
       "             ('AGTGCTGGACCATTTTAAATTCACAATAGATT', 19),\n",
       "             ('GAATCTAATGCAACAGATGAATAAACACGTAA', 19),\n",
       "             ('CCGGTTCAGGCGTTGCAAACCTGGCTACCGGG', 19),\n",
       "             ('ACATGAATGTCGGTTCAGACCGGGTTTTTACC', 19),\n",
       "             ('ACTATGGCCCCGGCAAAAAACGCGCTGGTGGG', 19),\n",
       "             ('ATTACGCCTTTTTGCGTTTGCCCGGTTTTTCC', 19),\n",
       "             ('TCGGTTCAGGCGTTGCAGACCTGGCTACCGGG', 19),\n",
       "             ('CGCCGCGGACTCACGAGCAGGCCATCACAGAC', 19),\n",
       "             ('GCGATACGAAAACCGCCACTGACATCATTAAC', 19),\n",
       "             ('GCTCATGTCAAACGCCATCAGCGTTCCGGCAT', 19),\n",
       "             ('GACAAAACGGCCTCAGTAGTCTCGTCAGGCTC', 19),\n",
       "             ('GCATCCATGCCGACGCCTTTACGTGTGCGGGG', 19),\n",
       "             ('TTGATCGGCGAGACTCGCGGCCTGTTTTTCGT', 19),\n",
       "             ('CCCGTTGAAAACACTCGCGGACGCAATATTTC', 19),\n",
       "             ('GAAATGCTGGTGAGCGTTAATGCCGCAAACAA', 19),\n",
       "             ('TCCTCGTCGTACCCTGTTCCCCTGGTTACTGT', 19),\n",
       "             ('TCGCCCTTATTCCCTTTTTTGCGGCATTTTGC', 18),\n",
       "             ('AGCGTTGCCGCCACGCCAGTTGTGCCGCTACC', 18),\n",
       "             ('ACGATGGCGATGCGTGAGAAAGGGGGTCGATA', 18),\n",
       "             ('ACTACGCCTTTTTGCGATTGCCCGGTTTTTGC', 18),\n",
       "             ('CCGGGGGATAATGTTTACGGCCATGCGCCCCC', 18),\n",
       "             ('GGTGAATACTGCGGCAGGCGCTGCGGGAATTG', 18),\n",
       "             ('GCGGTCGATTTTGCTGGCGTTGTTTCGGCTGG', 18),\n",
       "             ('CTGCGCAGAGCTCTGACGAACGCTACAGGTTA', 18),\n",
       "             ('GCGCAGCGAGCAAAATCTACTGGCCGGGCTAA', 18),\n",
       "             ('CCCGAAAGAGATTGCCAGCCAGCTTAATTTGC', 18),\n",
       "             ('TGGCTCTGCAACAGCAGCACCCATGCCCACGT', 18),\n",
       "             ('CGATAACACAGGGCCGTCAATGCGGCCCTTTT', 18),\n",
       "             ('GTAGTCCGTCATTCCACCTATGTCTGAACTCC', 18),\n",
       "             ('TAGGCCTATAGAGACGAGCGTTCGTTAAACA', 18),\n",
       "             ('CTGCTGCCCGAGCTGGTGGAGTGCTGCTATAG', 18),\n",
       "             ('AGCCGCAAAGTGCTTGGGATCACCGGCAGGGC', 18),\n",
       "             ('TCGGTTCAGGCGTTGCAAACCTGGCCACCGGG', 18),\n",
       "             ('ATTAAGCCTTTTTGCGATTGCCCGGTTTTTGC', 18),\n",
       "             ('GTCCCCAACATTTTCGCCGTTCAGGCCCGCAG', 18),\n",
       "             ('ACGTAACGAGGCACTGGACTGCCGAAACTACG', 18),\n",
       "             ('GCCGTGCTGGTAAAATTTTCCTCCACTGAGAT', 18),\n",
       "             ('AGCGCGTTCGGCATCACCTTTGGCTTCGGCTG', 17),\n",
       "             ('GAAATGCTGGTGAGCGTTAATGCCGCAACCAC', 17),\n",
       "             ('GTAGTCCATCATTCCACCTATGTCTGAATTCC', 17),\n",
       "             ('TTTTTTCTTCGGTGCCCAACCGCAGCCTAACG', 17),\n",
       "             ('GGCACGACATTCAGCAGTGCAGATAAATCGGC', 17),\n",
       "             ('GATAACGTTTAACGTTGGCGTGAGCGGGGAGG', 17),\n",
       "             ('CAATCTGGGCGACCGGCCATCATCGCTTCGATG', 17),\n",
       "             ('CTTTGCCTCGGTCATCGTAACCGTGATGCCCT', 17),\n",
       "             ('TACGTGAAGAATATTTGCAACACCCGCAAGAA', 17),\n",
       "             ('GCACCTCGAAACGGTTTTAAAACACTACCGTTT', 17),\n",
       "             ('GGTAATTTCTCATCTAACAGCCTGTACGCCTC', 17),\n",
       "             ('CTGAAAAGTGGATTTTACACGCTGCCAAAATT', 17),\n",
       "             ('ATTACGCCTTCTTGCGATTGCCCGGTTTTTGC', 17),\n",
       "             ('ACGGTCCATGGCACACAGGATCCAGACGTTAA', 17),\n",
       "             ('GGCAGAACGGCCTCAGTAGTCTCGTCAGGCTC', 17),\n",
       "             ('GTCGACCATATGCCAAGACCAACTATCCGATT', 17),\n",
       "             ('TCTTTATCGTCAATGCGAAATTTTCCGCGACG', 17),\n",
       "             ('AGTGCTGGACCATTTCAAATTCCCAATAGATT', 17),\n",
       "             ('CCGGGGGATAGTGTTTACGGTCATGCGCCCCC', 17),\n",
       "             ('CGCGCCCACTTCCGTAAAATACAGATAATCCA', 17),\n",
       "             ('TGGCTCTGCAGCAGCAGCACCCATGACCACGT', 17),\n",
       "             ('TATAATATGAATTAATTTTTGCGCATAACCTG', 17),\n",
       "             ('CTTAAGGAATGCGCGAAGAGACAGAAACAAAC', 17),\n",
       "             ('GCACGCGGCGAACGGCGTCACGCTCGGGGGGAT', 17),\n",
       "             ('ATTGCGCCTTTTTGCGATTGCCCGGTTTTTGC', 17),\n",
       "             ('TGATTTGCTGAGGCGCGTTTCGTCTCCGAAAA', 16),\n",
       "             ('GTAGAGGTCGTTGGGCGCCGCCACCTGCTGCAGCAGGCCG', 16),\n",
       "             ('GGCTGTAGCGTGCGAGGCTGTTTGGCGTTTTC', 16),\n",
       "             ('TAGGCCTATAGAGACGAGCGTTCGTTAAGCA', 16),\n",
       "             ('ATCCACATCTCCGCCGTTATGAATCGGTATAC', 16),\n",
       "             ('ATTACGCCTTTTTGCGATTCCCCGGTTTTTGC', 16),\n",
       "             ('GCAAAGTCCCGGGTATTATTGAGCTGGTTGAC', 16),\n",
       "             ('GAAATGCTGGTGAGCGTTAATGCCGCAAAAAC', 16),\n",
       "             ('TCGGTTCAGGCGTTGCAAGCCTGGCTACCGGG', 16),\n",
       "             ('GAAATGCTGGTGGGCGTTAATGCCGCAAACAC', 16),\n",
       "             ('CATCCGCACGCGAGCAGTACCGGCATTCCTGG', 16),\n",
       "             ('GACGCGAAGCTGATCTATCAGGGAGATATTGT', 16),\n",
       "             ('GACAGAACGGCCTCAGTAGTCCCGTCAGGCTC', 16),\n",
       "             ('GTGGCAAGCCACGGCGGGCCTCACAGCTCCGG', 16),\n",
       "             ('TGACTCAGTGGCAACACATCCACCCCACGATC', 16),\n",
       "             ('AAATATGGGGAGCGCCGTTAATGAAATCAAAA', 16),\n",
       "             ('GACCTCGAGGAGGGCGCCGCCGGTGTCGGTGG', 16),\n",
       "             ('GGCATAGCCAGGCTGATCCGGCGACGGCCTTA', 16),\n",
       "             ('TTCAACAGTCGGTCAGCGGAAGCCTGGTCAAT', 16),\n",
       "             ('ACCATTACTTCGGTAAAAGCGTGATCAAGAAT', 16),\n",
       "             ('CTGTCTTCGCAAATCTATGGACTATTGCTATT', 15),\n",
       "             ('CTGGTTTCGCAAATCTATGGACTATTGCTATT', 15),\n",
       "             ('GCAGGCGGCGACGCGCAGGGCATGCGCGATTCG', 15),\n",
       "             ('GGCAAAAAGGCGGCGCGTTTAAAAGAGGCATA', 15),\n",
       "             ('GTAGTCCATCATTCCACCTATGTCTGAGCTCC', 15),\n",
       "             ('ACCCACTCGTGCACCCAACTGATCTTCAGCAT', 15),\n",
       "             ('TGAGATCCTTTTTTTCTGCGCGTAATCTGCTG', 15),\n",
       "             ('TCATCCATCATCTGCTGACCCCACCATCCACG', 15),\n",
       "             ('TGGCTCTGCAACAGCAGCACCCATGACCACGG', 15),\n",
       "             ('ATTACGCCTTTTGCGATTGCCCGGTTTTTGC', 15),\n",
       "             ('ACCGATTCAATATACAGAAAGTGAATTAGCGT', 15),\n",
       "             ('AGTTCGCTGAGTAGCCTTTTTTCTGTGCCTAA', 15),\n",
       "             ('CGGCGAAAGCGGATGCGTTCACCAATGGTCAT', 15),\n",
       "             ('CAGGACGAAAGGCTGCAGAGCCTGCTGAATGA', 15),\n",
       "             ('AATTCTCTTACTGTCATGCCATCCGTAAGATG', 15),\n",
       "             ('TTTATACACGGATCCTGTGTGCCGTGGACCGC', 15),\n",
       "             ('GGGTTGTGCGCCCTGGTGGGCGAAAACGGTGG', 15),\n",
       "             ('TGGCTCTGCGACAGCAGCACCCATGACCACGT', 15),\n",
       "             ('GTCTGCGAAAGCAGGACCTGCAGGCATGCAAG', 15),\n",
       "             ('TGGGCGGCTTGCCTTGCAGCCAGCTCCAGCAC', 15),\n",
       "             ('TGTTCGGCGGGGCGGTAGTACCACTGTTTTTT', 15),\n",
       "             ('ATTACGCCTTTTTGCGATCGCCCGGTTTTTGC', 15),\n",
       "             ('TCGGTTCAGGCGTCGCAAACCTGGCTACCGGG', 15),\n",
       "             ('ATTACGCCTTTTTGCGATTGCCCGGTTTTTAC', 15),\n",
       "             ('TCATTAGAAGCCAATAATCAGCGCGTCGAGAA', 15),\n",
       "             ('GCGTCCACTTCGGGATTTGTGGCAGGGGGTTC', 15),\n",
       "             ('CTGTTTTCGCCAATCTATGGACTATTGCTATT', 15),\n",
       "             ('GAGCTGAAGATCAAGGGCGCAGAAGAACAC', 14),\n",
       "             ('ATTACGCCTTTTTGCGATTGCCCGGTTCTTGC', 14),\n",
       "             ('GAGTCTATCAGCGACACTACCGGCAATAGCGA', 14),\n",
       "             ('AATACGGGATAATACCGCGCCACATAGCAGAA', 14),\n",
       "             ('TAGTTTCCGTATCTCCGGACTTATAAAGCTGA', 14),\n",
       "             ('CTTACGCCTTTTTGCGATTGCCCGGTTTTTGC', 14),\n",
       "             ('GCGACCGCTCAGAAATTCCAGACCCGATTCAAA', 14),\n",
       "             ('TTTTTTGCTGTTCTACTCATATCCTGAGATAA', 14),\n",
       "             ('GCCATGGTTTACCCGTACGTTCCGAATACTGC', 14),\n",
       "             ('GACAGAACGGCCTCAGTAGTCTTGTCAGGCTC', 14),\n",
       "             ('TTGTCACGAACACATAGCAACTAGGTAACCAC', 14),\n",
       "             ('CAATCTGGGCGACCGGTCATCATCGCTTCGATC', 14),\n",
       "             ('AGGAAGTTCTTAAAGCCGGTACCGGCGATTTC', 14),\n",
       "             ('TAGCCGGGTCTGTATCGAATACCAGCCCCGCG', 14),\n",
       "             ('ATTACGCCTTTTTGCGATTGCCTGGTTTTTGC', 14),\n",
       "             ('ATTACGCCTTTTTGCGATTGCCCGGATTTTGC', 14),\n",
       "             ('TAATTCGGGGTATTTGACCTCGAATTTCGGTA', 14),\n",
       "             ('GTAGCCCATCATTCCACCTATGTCTGAACTCC', 14),\n",
       "             ('CTGTTTTCGCAAATCTTTGGACTATTGCTATT', 14),\n",
       "             ('CTCGGTCGCCGCATACACTATTCTCAGAATGA', 14),\n",
       "             ('TAACCATGAGTGATAACACTGCGGCCAACTTA', 14),\n",
       "             ('TGTAAAGGGTGGTCTGGAAGGGGATCGGCAAA', 14),\n",
       "             ('CAAAATATTACGAGCTTCGTCAGGCCATGGAC', 14),\n",
       "             ('TCGATCAGGCGGTTTTGTTCTTCCAGCGACGC', 14),\n",
       "             ('CAGGTTCGTAAAGGTGAACCCGGCACGACGGC', 14),\n",
       "             ('TGGCTCTGCACCAGCAGCACCCATGACCACGT', 14),\n",
       "             ('CCTCTGCCTGTAATTCAGCTTCACTGTCAGTG', 14),\n",
       "             ('CATGTCGCGCAGGTTGCCCTGTGCATCCGCTG', 14),\n",
       "             ('ATTTCCCCTTTTTGCGATTGCCCGGTTTTTGC', 14),\n",
       "             ('GAAAGAACGGCCTCAGTAGTCTCGTCAGGCTC', 14),\n",
       "             ('TGCTGTCTGGCATATTCGAGGATGTGCTCCAG', 14),\n",
       "             ('GTCGTGACTGGGAAAACCCTGGCGTTACCCAA', 14),\n",
       "             ('CACCCTGAGCGTAAAAAAATGCTGAGGCGAT', 14),\n",
       "             ('ATTACGCCTTTTTCCGATTGCCCGGTTTTTCC', 14),\n",
       "             ('GCGACCGCTCAGAAATTCCAGACCCGATCCGAA', 14),\n",
       "             ('GCATAAATTAGTCAAACAGACACTGCCGGGGT', 14),\n",
       "             ('GCAGGCGGCGACGCGCAGGGAATGCGCGATTCG', 14),\n",
       "             ('GTAGTCCATCATTCCACCTATGTCCGAACTCC', 14),\n",
       "             ('AGAGCGAGGTATGTAGGCGGTGCTACAGAGTT', 14),\n",
       "             ('TGGCTCTGCAACAGCAGCACCCCTGACCACGT', 14),\n",
       "             ('CAGAACATACTCAAAGCCCGAGGCGTACACG', 14),\n",
       "             ('TTCATATCCTCTTTCCAGATTGCGTCGAATAT', 14),\n",
       "             ('TAGTTTCCGTATCCCCGGATTTATAAAGCTGA', 14),\n",
       "             ('GCCAACAGTGAATCGCAGCAACCTCCCATCTGG', 13),\n",
       "             ('GAAATGCCGGTGAGCGTTAATGCCGCAAACAC', 13),\n",
       "             ('GAAATGCTGGCGAGCGTTAATGCCGCAAACAC', 13),\n",
       "             ('CGTCCGGATCGGTTTCGAGAATCTCTACGCTT', 13),\n",
       "             ('CCGTTTTCGCAAATCTATGGACTATTGCTATT', 13),\n",
       "             ('TGGCTCTGCAACAGCAGCACCCATGACCGCGT', 13),\n",
       "             ('TGGCTCTGCAACAGCAGCATCCATGACCACGT', 13),\n",
       "             ('GAACTCAACAAGAAAACATTAGTCTAATATTA', 13),\n",
       "             ('GCGGGCGGCGACGCGCAGGGTATGCGCGATTCG', 13),\n",
       "             ('GAAATGCTGGGGAGCGTTAATGCCGCAAACAC', 13),\n",
       "             ('GTAGTCCATCATTCCACCTATATCTGAACTCC', 13),\n",
       "             ('GTTATGCAGCCTGTTTGAGCAATGAAGAAAATT', 13),\n",
       "             ('GTAGTCCATCATTCCACCTATGTCTAAACTCC', 13),\n",
       "             ('ATTCCGCCTTTTTGCGATTGCCCGGTTTTTGC', 13),\n",
       "             ('GTAGTCCATCATTCCACCTATGTCTGAACCCC', 13),\n",
       "             ('TTTACTACAATAGGTGGACACGCTACGGCGCA', 13),\n",
       "             ('GTAGTCCATCATTCCACCTATGTCTGGACTCC', 13),\n",
       "             ('TAGTTTCCGTATCTCCGGATTTATAAAGCTGG', 13),\n",
       "             ('CAAACTATTAACTGGCGAACTACTTACTCTAG', 13),\n",
       "             ('CCGACCCTGCCGCTTACCGGATACCTGTCCGC', 13),\n",
       "             ('TCGGTTCAGGCGTTGCAAACCTGGCTTCCGGG', 13),\n",
       "             ('GGCATCGCATCCCGCTCAACAGCATTGGCCGC', 13),\n",
       "             ('GCGGAAAACAGCCAAAATAACGCAATTACCGC', 13),\n",
       "             ('ATCTTCTTGTTCAGGAACGTCAGTAGAGGGGT', 13),\n",
       "             ('GGCATAGCCAGGCTGAACCGGCGACGGCCTTA', 13),\n",
       "             ('GTTTTCTCATCACAGCATGGTAAGTAGAAACT', 13),\n",
       "             ('ATTACGCCTTTTTGTGATTGCCCGGTTTTTGC', 13),\n",
       "             ('TACCGGTGTGAATTACAGCACCACCGCCACCC', 13),\n",
       "             ('CACGATCAGGTTCAGGGTGACGGTGTAACCAC', 13),\n",
       "             ('GTCGTGTGAAGGGGTTAACGCGCTGACTGAGT', 13),\n",
       "             ('GACAGAACGGCCTCAGTAGTCTCGCCAGGCTC', 13),\n",
       "             ('AATGGAGCGCACGCCATGACCATAACCATCCG', 13),\n",
       "             ('TGGTCGAAATATAGACAGCATGTTCCGTACCA', 12),\n",
       "             ('GCTGATCTACATCGTCGGCCTGTTTCCCATGT', 12),\n",
       "             ('TCAACATTAACAATTACAACCGACAGGGAGCC', 12),\n",
       "             ('AGTATTAACTGCGGTGGCAGTGAGGCCAATAG', 12),\n",
       "             ('GACAGAACGGCCTCATTAGTCTCGTCAGGCTC', 12),\n",
       "             ('TGGGCGGCTTGCCTTGCAACCAGCTCCAGCAG', 12),\n",
       "             ('GCAGGCGGCGACGCGCAGGGTATGCGCGATTCC', 12),\n",
       "             ('TAGTTTCCGTATCTCCGGATTTATAAGGCTGA', 12),\n",
       "             ('AGGCTGGCTGGCAATCTCTTTCGGGGTGAGTC', 12),\n",
       "             ('ATTTTGATATTGTTTAATCATGTGAGAAAAAG', 12),\n",
       "             ('TCAACATTACCAATTACAACCGACAGGGAGCC', 12),\n",
       "             ('GAAATGCTGGTAAGCGTTAATGCCGCAAACAC', 12),\n",
       "             ('TAGGCCTATAGAGACGAGCGTTCGTTAAAGCG', 12),\n",
       "             ('GCGACCGCTCGGAAATTCCAGACCCGATCCAAA', 12),\n",
       "             ('TATCGTCTTGAGTCCAACCCGGTAAGACACGA', 12),\n",
       "             ('CGAACTGGACGAACGGAACGGCGAAG', 12),\n",
       "             ('TAGGCCTATAGAGACGAGCGTTCGTTAAAGCC', 12),\n",
       "             ('TAGGCCTATAGAGACAGCGTTCGTTAAAGCA', 12),\n",
       "             ('ATTGGCGAGCTGTTGGAATACGACCCCGGCGAC', 12),\n",
       "             ('TACGGCAGGATCTCGGGCGCCTGCACGGTTAC', 12),\n",
       "             ('GAGGCAATTAGTAAAACTCCGGCAATTGCTGC', 12),\n",
       "             ('GTTGGTACTCACAGCTACGTCTATAGGGTCGT', 12),\n",
       "             ('GACAGAACGGTCTCAGTAGTCTCGTCAGGCTC', 12),\n",
       "             ('CACAGAACGGTGCCGCCGAGAGTCATATCGTT', 12),\n",
       "             ('GACAGAACGGCCCCAGTAGTCTCGTCAGGCTC', 12),\n",
       "             ('ATTACGCCTTTTTGCGCTTGCCCGGTTTTTGC', 12),\n",
       "             ('ACGGCTGGCGCGCTCGCAAAATGGGAGCCGCG', 12),\n",
       "             ('TGGCTCTGCAAAAGCAGCACCCATGACCACGT', 12),\n",
       "             ('CCGGGTGATAATGTTTACGGTCATGCGCCCCC', 12),\n",
       "             ('CCCGGGGATAATGTTTACGGTCATGCGCCCCC', 12),\n",
       "             ('CCAACATTATCAATTACAACCGACAGGGAGCC', 12),\n",
       "             ('CAGAACATTCTTCAAAGCCCGAGGCGTACACG', 12),\n",
       "             ('TCGGTTCAAGCGTTGCAAACCTGGCTACCGGG', 12),\n",
       "             ('GTAGTCCATCATTCCACCTACGTCTGAACTCC', 12),\n",
       "             ('ATAGCTGCGGCGGTAGGCGTCGAACCGGGGAC', 12),\n",
       "             ('CAACCTGGGCGACCGGTCATCATCGCTTCGATG', 12),\n",
       "             ('GAAATGCTGGTGAGCGTTAATGCTGCAAACAC', 12),\n",
       "             ('CAAGCGATATCCATCATCGCATCCAGTGCGCC', 12),\n",
       "             ('GTAGTCCATCACTCCACCTATGTCTGAACTCC', 12),\n",
       "             ('CTGTTTTCGCAAATCTATGGACTATTGCCATT', 12),\n",
       "             ('CGGCTCTGCAACAGCAGCACCCATGACCACGT', 12),\n",
       "             ('CAGAACATACTTCAAAGCCCGAGGCGTACACC', 12),\n",
       "             ('AGTCATGAGCCACCATCGGTATTGTGGATATA', 12),\n",
       "             ('CCGGGGAATAATGTTTACGGTCATGCGCCCCC', 12),\n",
       "             ('CAGGTTCGTAAAGGGGAACACGGCACGACGGC', 12),\n",
       "             ('CCGGGGGATAATGTTTTCGGTCATGCGCCCCC', 12),\n",
       "             ('GAAATGCTGGTGAACGTTAATGCCGCAAACAC', 12),\n",
       "             ('TAGTCTCCGTATCTCCGGATTTATAAAGCTGA', 12),\n",
       "             ('TGGGTCTGCAACAGCAGCACCCATGACCACGT', 12),\n",
       "             ('CTGTTTTCGCAAATCTATGGACTATTGCTACT', 12),\n",
       "             ('GAAATGCTTGTGAGCGTTAATGCCGCAAACAC', 12),\n",
       "             ('AAAGATTGAGGGGCCGGAAATGGCACTAACAC', 12),\n",
       "             ('ATCACGCCTTTTTGCGATTGCCCGGTTTTTGC', 11),\n",
       "             ('CTGTTTTCGCAAATTTATGGACTATTGCTATT', 11),\n",
       "             ('TAGGCCTATAGAGACGAAGCGTTCGTTAAAGCA', 11),\n",
       "             ('GCGTAATAGCGAAGAGGCCCGCACCGATCGCC', 11),\n",
       "             ('CAGACATACTTCAAAGCCCGAGGCGTACACG', 11),\n",
       "             ('GGACTTAAAGATCGCATCCCAGTACTGGAGGG', 11),\n",
       "             ('ACCAGCAATATCAACCCCAAAAAAAGGGGCGT', 11),\n",
       "             ('GGCCTATGCGTTTTTCTCTCTGTTAATGCGCCCC', 11),\n",
       "             ('AACGGTACGCGCCTGCTCGTCAATCGCCCCCA', 11),\n",
       "             ('ACCGATTCAATATACAGAAAGTGAATTAGCG', 11),\n",
       "             ('CAATCTGGGCGACCGTTCATCATCGCTTCGATA', 11),\n",
       "             ('GTAGTCCATCATTCAACCTATGTCTGAACTCC', 11),\n",
       "             ('TTACCGAAGTAATGGTCGAAACACAGAATTTT', 11),\n",
       "             ('GTAATCCATCATTCCACCTATGTCTGAACTCC', 11),\n",
       "             ('CCGCCGTTGGCACCGTCAAACTCCGGTACTGA', 11),\n",
       "             ('ACCCCGGATAAAGGTTTACCAGTGTTACGGTC', 11),\n",
       "             ('CTGTTTTCGCGAATCTATGGACTATTGCTATT', 11),\n",
       "             ('ATTACGCCTTTTTACGATTGCCCGGTTTTTGC', 11),\n",
       "             ('GAGATGCTGGTGAGCGTTAATGCCGCAAACAC', 11),\n",
       "             ('GTAGACCCCGAACAACAATACGCGCAAACCGA', 11),\n",
       "             ('CTGTTTTCACAAATCTATGGACTATTGCTATT', 11),\n",
       "             ('ATTACGCCTTTTTGCGATTGCCCAGTTTTTGC', 11),\n",
       "             ('GCGGGGGTTAACGCGGTGATACTGTTTGACGG', 11),\n",
       "             ('TTTAGTGGTTCGTTTCTGGAATCCGATCAAGG', 11),\n",
       "             ('AGCAGCGCGTAAACCAGATCGCCGATCGTGGC', 11),\n",
       "             ('CCGACCGCTGCGCCTTATCCGGTAACTATCGT', 11),\n",
       "             ('CTGTTTTCGCAAATCTATGGACTTTTGCTATT', 11),\n",
       "             ('ATCGATAAATACGATAACTGAGCCTCCTGAAA', 11),\n",
       "             ('GACCTGACCAGCAACGAGCTTACCGGGGCGTA', 11),\n",
       "             ('GACAGAGCGGCCTCAGTAGTCTCGTCAGGCTC', 11),\n",
       "             ('ATTATGCCTTTTTGCGATTGCCCGGTTTTTGC', 11),\n",
       "             ('AATTGAGACGTTCCACGCAATTAAACAAGCCG', 11),\n",
       "             ('GAAATGCTGGTTAGCGTTAATGCCGCAAACAC', 11),\n",
       "             ('ATTACGCCTTTTTGCGATTGCCCGGTTTTTG', 11),\n",
       "             ('CCTCCCTTATTTTTTCATCGTCCATGTTCATG', 11),\n",
       "             ('AACATCAGGTTGTCGCCGCTCTGCGTGGTCGC', 11),\n",
       "             ('GTAGTCCATCATTCCACCTATGTTTGAACTCC', 11),\n",
       "             ('ATAACGCCTTTTTGCGATTGCCCGGTTTTTGC', 11),\n",
       "             ('AGCGTGTTCGGCATCACCCTTGGCTTCGGCTG', 11),\n",
       "             ('CTGTTTTCGCAAACCTATGGACTATTGCTATT', 11),\n",
       "             ('CACTCATGGTTATGGCAGCACTGCATAATTCT', 11),\n",
       "             ('CAATCCGGGCGACCGGTCATCATCGCTTCGATG', 11),\n",
       "             ('GAAACTCTCTGAGAATCCGTCAGCAAAAATAC', 11),\n",
       "             ('GAAATGCTGGTGAGGGTTAATGCCGCAAACAC', 11),\n",
       "             ('TGGCTCTGCAACAGCAGCACCCACGACCACGT', 11),\n",
       "             ('GTTTATTCGCACTCTGCCAGTTATCCGGGTTA', 11),\n",
       "             ('CTGTTTTCGCAAATCTATGGACTATTGTTATT', 11),\n",
       "             ('CCGGGAGATAATGTTTACGGTCATGCGCCCCC', 11),\n",
       "             ('CTGTCCCAGGCCGAGGCTGTATTTCAATCCTG', 11),\n",
       "             ('GTAGTCCATTATTCCACCTATGTCTGAACTCC', 11),\n",
       "             ('CAGAGTTGCGCGATGCCGTGAAGGCAACAGAG', 11),\n",
       "             ('GCTATCACCGAGTGCAGTAGCCCGCGCGCGCT', 11),\n",
       "             ('GGTGCTGGACCATTTCAAATTCACAATAGATT', 11),\n",
       "             ('CCGGGGGATAATGTTTACGGTCATGGGCCCCC', 11),\n",
       "             ('GACAACGATCGGAGGACCGAAGGAGCTAACCG', 11),\n",
       "             ('GAAGTGCTGGTGAGCGTTAATGCCGCAAACAC', 11),\n",
       "             ('AAGCTGGCTGGCAATCTCTTTTGGGGTGAGTC', 11),\n",
       "             ('CCTGGCGTTGTCTGTTTCGTGACGCTCGGTAA', 11),\n",
       "             ('GTAGTCCATCATTCCACCTATGTCTGAAATCC', 11),\n",
       "             ('TCGCACCGCGTTAATCCGGCAGAAAAAAAACA', 11),\n",
       "             ('GAAATGCTGGTGAGCGTTAATGCCCCAAACAC', 11),\n",
       "             ('CGTATTCGTCACACAGCCCCGTCCAGAAATGA', 11),\n",
       "             ('ATCGTCCATATTAACAATCGTGGTGAGTTCAA', 10),\n",
       "             ('TACGCCAGCCACCTGCTTCGCCAGCCGTTCGG', 10),\n",
       "             ('AATCACTGCGGGGGTATTTAGCGGAAACGGCT', 10),\n",
       "             ('ATATATCAGAGCAAAAAACAAAGCCCCAGCCA', 10),\n",
       "             ('TGGCTCTGCAACCGCAGCACCCATGACCACGT', 10),\n",
       "             ('GCAGGCGGCGACGCGCAGGGTACGCGCGATTCG', 10),\n",
       "             ('GGCGTCCCATTCGATCCGCTGGTTTTCGATGA', 10),\n",
       "             ('GTCATCGACTGCGGCAGTCCACTCATCAATTG', 10),\n",
       "             ('TTCCTGATCCATGATGGTGAACAATATTTAAC', 10),\n",
       "             ('TGGCTCTGCAACAGAAGCACCCATGACCACGT', 10),\n",
       "             ('TCAACATTATCAATTACAACCGCCAGGGAGCC', 10),\n",
       "             ('TCTCGATGGCTGTAAGTATCCTATAGGTTAGA', 10),\n",
       "             ('GCGTCGCCATTCTATTAGCTTTTCCTCATCCC', 10),\n",
       "             ('GCCTCACAATACTGGTACGGAATAATCAGCGT', 10),\n",
       "             ('ACGGCAACGGATGCGACCGCCAGCGCGATCCC', 10),\n",
       "             ('CAATCTGGGCGACCGGTCATCATCGCTTCGATT', 10),\n",
       "             ('AGTATGCGTTCAATCACTGTCAGGCCTACTTC', 10),\n",
       "             ('TCGGTTCAGGCGTTGCAAACCGGGCTACCGGG', 10),\n",
       "             ('CGATGACTCGAGTATGGATCCTCCGGAGATCCCGGGGC', 10),\n",
       "             ('TCGGTTTAGGCGTTGCAAACCTGGCTACCGGG', 10),\n",
       "             ('TAGGCCTATAGAGACGTGCGTTCGTTAAAGCA', 10),\n",
       "             ('CATAGGGTCGCCGGTTGCGGATCAATTTA', 10),\n",
       "             ('CAACTTCACCTTCTTGCGGCCAAGCAGCACCA', 10),\n",
       "             ('TCGGTTCGGGCGTTGCAAACCTGGCTACCGGG', 10),\n",
       "             ('TACCGTACAGACTGCCGGATATCATTTTTTTG', 10),\n",
       "             ('CAATCTGGGCGACCGGTCATCATCCCTTCGATG', 10),\n",
       "             ('CTGTTTTCGCAAATCTATGGACCATTGCTATT', 10),\n",
       "             ('ATATGTTTCCGCCGCATCAATCAGCCATTCAA', 10),\n",
       "             ('ATCACGATAACGCTGCTGGGATTCGTCCCCGT', 10),\n",
       "             ('CTGTTTTCGCAGATCTATGGACTATTGCTATT', 10),\n",
       "             ('TGAACACCCGCACTGCGGAGTACAAGAAAATC', 10),\n",
       "             ('GCAGGGTCGGAACAGGAGAGCGCACGAGGGAG', 10),\n",
       "             ('TTGCTCTGCAACAGCAGCACCCATGACCACGT', 10),\n",
       "             ('GAGGGTCTGGAAGCCCTACCAGAAGCGGAGCA', 10),\n",
       "             ('GAAATGCTGGTGAGCGTTAATGCCGCCAACAC', 10),\n",
       "             ('ACTGATATTGATAAACGTCGACTCCCGTCGGG', 10),\n",
       "             ('ATCACTCTGACTATCGGCGGCGTGGATGTGGT', 10),\n",
       "             ('TAGTTTCCGTATCTCCGGATTTAAAAAGCTGA', 10),\n",
       "             ('CAGTAATTGCCCCCTCAGCATCATTAACCATG', 10),\n",
       "             ('GAAATGCTGGTGAGTGTTAATGCCGCAAACAC', 10),\n",
       "             ('GAAACGTAAACAGGGTAAGATACAACTCTGCA', 10),\n",
       "             ('GGCATCAATGTGTTCATCCGCGGGTTGATCTT', 10),\n",
       "             ('CGCTCCGCGTCGCCAAATTCCACACTAAACGA', 10),\n",
       "             ('TGAAAGATGCCGTCAACACGTTCAGCAAGGAA', 10),\n",
       "             ('TACCGTACAGACTGCCGGATTTTATTTTTTTG', 10),\n",
       "             ('TGGCTCTGCAACAGCAGCACCCATGACTACGT', 10),\n",
       "             ('CAATCTGGGCGCCCGGTCATCATCGCTTCGATG', 10),\n",
       "             ('CCGGGGGATAATTTTTACGGTCATGCGCCCCC', 10),\n",
       "             ('GACAGAACGGCCTCAGAAGTCTCGTCAGGCTC', 10),\n",
       "             ('TGGCTCTGCAACAGCAGCGCCCATGACCACGT', 10),\n",
       "             ('TTGAGAGCGAGGGGCGATTCCGCCAGGGCGTA', 10),\n",
       "             ('GCTTCAGCAGAGCGCAGATACCAAATACTGTT', 10),\n",
       "             ('TCGGTTCCGGCGTTGCAAACCTGGCTACCGGG', 10),\n",
       "             ('GTTTTTCGCCCTTTGACGTTGGAGTCCACGTT', 10),\n",
       "             ('CGTCCGGATCGGTTTCGAGAGTCTCTACGCTC', 10),\n",
       "             ('ATGCACATCTCTTCCGGCCGCTGGGTCTA', 10),\n",
       "             ('GTCGCCGGGTTGATTTTCCATGATGACTTTTA', 10),\n",
       "             ('GAAATGCTGGTGAGCGTTAATGCCACAAACAC', 10),\n",
       "             ('CCGATCAGTACACCCGAACCGACACCGGCGAC', 10),\n",
       "             ('AACCAAGGCCGGCGCAACGAAGCGCTCGACTG', 10),\n",
       "             ('CTGTTCTCGCAAATCTATGGACTATTGCTATT', 10),\n",
       "             ('GTGTGGTGGTTACGCGCAGCGTGACCGCTACA', 10),\n",
       "             ('GCCGTCTGCCTCCAGCCCAGCCCTGGATATTT', 9),\n",
       "             ('AGCGTGTTCGGCACCACCTTTGGCTTCGGCTG', 9),\n",
       "             ('TCCAGTAGTGCATGAACACCTTCATAACATCG', 9),\n",
       "             ('CCGGGGGATAATGTTTACGGTCATGCCCCCCC', 9),\n",
       "             ('CAGAACTACTTCAAAGCCCGAGGCGTACACG', 9),\n",
       "             ('GTAGTCCATCATTCCACCTATGTCTGAACTCT', 9),\n",
       "             ('GGAGCGGGAAGGTCAGACCGTCAACAACGCAC', 9),\n",
       "             ('TGGCTCTGCAATAGCAGCACCCATGACCACGT', 9),\n",
       "             ('AACAGAACGGCCTCAGTAGTCTCGTCAGGCTC', 9),\n",
       "             ('TATGTAAAGCCAGGGCAGGCTGTGACGGTTGC', 9),\n",
       "             ('CGGAAGGGCCGAGCGCAGAAGTGGTCCTGCAA', 9),\n",
       "             ('TCGGTTCAGGCGGTGCAAACCTGGCTACCGGG', 9),\n",
       "             ('TCAACATTATCAATTACAACCGACAGGAAGCC', 9),\n",
       "             ('GTAACGTCTGCCTTTTCCTCGTCCGCCTTAAT', 9),\n",
       "             ('TACCAGACGCAGAGTGCCACACAGGTCTGGTA', 9),\n",
       "             ('CTCTCCGAACATCAACAGTTGATAGATGGGAC', 9),\n",
       "             ('GACAGAACGGCCTCGGTAGTCTCGTCAGGCTC', 9),\n",
       "             ('CAATCTGGGCGACCGGTCATAATCGCTTCGATG', 9),\n",
       "             ('ATTACGCCTTTTTGCGATTGCCCGGTTTTGC', 9),\n",
       "             ('AGTTCGCTGAGTAGCCTTTTCTCTGTGCCTAA', 9),\n",
       "             ('CGCTGCGGGCTTTGGCTTCCTAGACCTC', 9),\n",
       "             ('GACAGAACGGCCTCAGTAGTTTCGTCAGGCTC', 9),\n",
       "             ('CGTCCGGATCGGTTTCGAGAATCTCTACGCAT', 9),\n",
       "             ('TAGTTTCCGTACCTCCGGATTTATAAAGCTGA', 9),\n",
       "             ('CAATCTGGGCGACCGGTCATCATCGCCTCGATG', 9),\n",
       "             ('TGGCTCTGCAACAGCAGCACCCATAACCACGT', 9),\n",
       "             ('GCGACTGCTCAGAAATTCCAGACCCGATCCAAA', 9),\n",
       "             ('TGAGGTATTCCGCCAGGGCGGACAATTTATCA', 9),\n",
       "             ('ATTTCAGGCTCACGGGAATCATCCTCGACGTG', 9),\n",
       "             ('GCCAGAACGGCCTCAGTAGTCTCGTCAGGCTC', 9),\n",
       "             ('CTGTTTTCGCAAATCCATGGACTATTGCTATT', 9),\n",
       "             ('TGCATGGCTTTGGCTTCCTCTTTGACGGACCC', 9),\n",
       "             ('GAGAGTGCTGACAGGTGTCTCGATTACCTGAT', 9),\n",
       "             ('GTAGTCCATCATTCCACCTATGGCTGAACTCC', 9),\n",
       "             ('TATAGGGAAAGCTTGCATGCCTGCAGGTCCTG', 9),\n",
       "             ('TAGGCCTATAGAGACGAGCGCTCGTTAAAGCA', 9),\n",
       "             ('GACAGAACGGCCTCAGTAGTCTCGTCAGGCTT', 9),\n",
       "             ('TGGCTCTGCAACAGCAGCACCCATGACCACAT', 9),\n",
       "             ('GTCACCAACATTTTTGCCGTTCAGGCCCGCAG', 9),\n",
       "             ('ATGAAAACGCCCGGCGTAAATTTTCGCCTCGA', 9),\n",
       "             ('AGTGCAATAGCACGTAAATTACGTAAATTAGC', 9),\n",
       "             ('CTGACGCTGGCTGAGAACGGTTTTTCTGTTCG', 9),\n",
       "             ('ATAGTCCATCATTCCACCTATGTCTGAACTCC', 9),\n",
       "             ('GCATCTGGCGCATCTTCAGAATTCTCGAATAC', 9),\n",
       "             ('GCAGGCGGCGACCCGCAGGGTATGCGCGATTCG', 9),\n",
       "             ('TCGATGAGGGGCGTATCCCTGAAGGGTCCGTG', 9),\n",
       "             ('CACCCCGTCGCCGGTGCGCGATAACACGTAAA', 9),\n",
       "             ('ATTACGCCTTTTTGCGATTACCCGGTTTTTGC', 9),\n",
       "             ('GAGGCTGGCCATATAGCAGCAGGCTACGGCAC', 9),\n",
       "             ('ATATATCAGAGCAAAAAACAAGGCCACAGCCA', 9),\n",
       "             ('ATAGGCCCCGAACAACAATACGCGCAAACCGA', 9),\n",
       "             ('TCAACATTATCAATTACAACCGAAAGGGAGCC', 9),\n",
       "             ('CAATCTGGGTGACCGGTCATCATCGCTTCGATG', 9),\n",
       "             ('TGGCTCTGCAACAGCGGCACCCATGACCACGT', 9),\n",
       "             ('AATTAAAGCCGAGGGTGGCACCGCGCCTTATT', 9),\n",
       "             ('GTAGTCCATCATTCCACCTATGTCTGAACTCA', 9),\n",
       "             ('AGTATTCAACATTTCCGTGTCGCCCTTATTCC', 9),\n",
       "             ('GTGGGCGTTAACGCGGTGATACTGTTTGACGG', 9),\n",
       "             ('GACAGAACGACCTCAGTAGTCTCGTCAGGCTC', 9),\n",
       "             ('GAAATGCTGGTGAGCGTTAATGCCGCAAGCAC', 9),\n",
       "             ('GGTGAACCCCATCACCAAGAACATGAAGCCGT', 9),\n",
       "             ('GGTTGGCGAGTATATCGGTTCAGTACTTCTTG', 9),\n",
       "             ('TACGCGCAGAAAAAAAGGATCTCAAGAAGATC', 9),\n",
       "             ('TAGGCCTTGATACCATCGCTCGCACCTCGTCA', 9),\n",
       "             ('GAAATGCTGGTGAGCGTTAATGCCGCAAACCA', 9),\n",
       "             ('CTGCTGCTCGAGCTGGTGGAGTGCTGCTATAC', 9),\n",
       "             ('TCAACATTATCAATTACAACCGACAGGGGGCC', 9),\n",
       "             ('TCATCATTATCTGGATTATCTAATTCGTCAGC', 9),\n",
       "             ('GAAACGCTGGTGAGCGTTAATGCCGCAAACAC', 9),\n",
       "             ('TACGGGTTGTACCATGCCCCTGGCGTTTTGTG', 9),\n",
       "             ('GAGGGTCTGGAAGCACTACCAGAAGCGGAGCC', 9),\n",
       "             ('ATTACGCCTTTTTGCGATTGCCCGGTATTTGC', 9),\n",
       "             ('AGCGTGTTCGGCATCACCTTTGGCTTCGGCTA', 9),\n",
       "             ('TCATGCCTGGAAACAGCTTCACCCAGGGCCTG', 9),\n",
       "             ('CCCATTCCAATTGATACTCATACGTGTT', 9),\n",
       "             ('TCGAGCGGCATGTGCACGCGGCCGTCTACCAG', 9),\n",
       "             ('GGCTATGCCAGCAATATTCAGCGTTGTGAACG', 9),\n",
       "             ('TGCATGGCTCTGGCTTCCTCTTTGACGGACGC', 9),\n",
       "             ('TCGGTTCAGGCGCTGCAAACCTGGCTACCGGG', 9),\n",
       "             ('GGTTCAGGCGTTGCAAACCTGGCTACCGGG', 9),\n",
       "             ('GCGTCGCCCTTCTATTAGCTTTTCCTCATCAC', 8),\n",
       "             ('CTGCTGCTCGAGCTGGGGGAGTGCTGCTATAG', 8),\n",
       "             ('CCGGGGGATAATGTTTACTGTCATGCGCCCCC', 8),\n",
       "             ('GCCTGACATTGCAGACGTTACAAATTGAGAGA', 8),\n",
       "             ('CTGTTTTCGCAAATCTATGGACAATTGCTATT', 8),\n",
       "             ('TCGTCCCTGGGAGCGGCTTCAAACCACTCTCT', 8),\n",
       "             ('AAGCTGGCTGGCGATCTCTTTCGGGGTGAGTC', 8),\n",
       "             ('GCGACCGCTCAGAAATTCCAGACCCGACCCAAA', 8),\n",
       "             ('GAAATGCTGGTGAGCGTTAATGCCGTAAACAC', 8),\n",
       "             ('CAGAACATACTTCAAAGCCCGAGGCGTACCCG', 8),\n",
       "             ('TGCATGGCTTTGGCTTCCTCTTTGACGGACGT', 8),\n",
       "             ('TGGGAAAACATTTGGAACGGGATTGCTTCATT', 8),\n",
       "             ('ATGAGTAAACTTGGTCTGACAGTTACCAATGC', 8),\n",
       "             ('CAATCTGGGCGACCGGTCACCATCGCTTCGATG', 8),\n",
       "             ('GACAGAACGGCCTTAGTAGTCTCGTCAGGCTC', 8),\n",
       "             ('GGGGGCGTTAACGCGGTGATACTGTTTGACGG', 8),\n",
       "             ('TGGCTCTGCAACAGCAGCACCCATGACCACTT', 8),\n",
       "             ('GTAGTCCATCATTCCACCAATGTCTGAACTCC', 8),\n",
       "             ('AGAACATACTTCAAAGCCCGAGGCGTACACG', 8),\n",
       "             ('TCGAACCTGCTTTTCTTAGTGCGCGCAACGTC', 8),\n",
       "             ('TCGGTTCAGGCGTTGCAAACCTGGCTACCGGC', 8),\n",
       "             ('GACAGAACGGCCTCAGTAGTCTCGTCAGGTTC', 8),\n",
       "             ('GAAATGCTGGTGAGCGTTAATGCCGCAGACAC', 8),\n",
       "             ('TGCGTTGCTATGCAGATCGCGCAGCGTCCCGA', 8),\n",
       "             ('TAGTTTCCGTTTCTCCGGATTTATAAAGCTGA', 8),\n",
       "             ('GACAGAACGGCTTCAGTAGTCTCGTCAGGCTC', 8),\n",
       "             ('AAGCTGGCTGGCAATCTCTTTCGGGGTGAGCC', 8),\n",
       "             ('TCAACATTATCAGTTACAACCGACAGGGAGCC', 8),\n",
       "             ('GCAAGCTTTCCCTATAGTGAGTCGTATTAGAG', 8),\n",
       "             ('CTCACCGGGCGCGGATACGGCGGAGTTCGTAG', 8),\n",
       "             ('CGACACGGAAATGTTGAATACTCATACTCTTC', 8),\n",
       "             ('TTCTGATCGGGGCTTTTCCCATTCGATGTCGA', 8),\n",
       "             ('TCAACATTATCAACTACAACCGACAGGGAGCC', 8),\n",
       "             ('GCAGGCGGCGACGCGCAGGGTATGCGCAATTCG', 8),\n",
       "             ('GTCAACCCCAACCAGATTGATGTGCTTGGTCT', 8),\n",
       "             ('TGGCTCTGCAACAGCAGCACCCATGTCCACGT', 8),\n",
       "             ('AACGTCAGGTTGTCGCCGCTCTGCGGGGTCGC', 8),\n",
       "             ('CCGGGGGAAAATGTTTACGGTCATGCGCCCCC', 8),\n",
       "             ('CTGCTGCTCGAGCTGGTGGAGGGCTGCTATAG', 8),\n",
       "             ('AAGTGGCAACCCAGACTGTTGGTGGTGTAGAG', 8),\n",
       "             ('GCTGAGGCTGTCAGGAGCCAGTGCGGCAGAGG', 8),\n",
       "             ('CCCGTCGTGTAGATAACTACGATACGGGAGGG', 8),\n",
       "             ('GCAGGGGGCGACGCGCAGGGTATGCGCGATTCG', 8),\n",
       "             ('TTCGCCGCCATCATCCTGTGGGGCCAGTTGAC', 8),\n",
       "             ('ACACGCCCTTATCAAATAGCTGGGATTTACCTA', 8),\n",
       "             ('CAGCGCCAGGCGTGAAATCTCACCGTCGTTGC', 8),\n",
       "             ('GCGGGCGTTAACGGGGTGATACTGTTTGACGG', 8),\n",
       "             ('GTAGTCCATCATTGCACCTATGTCTGAACTGC', 8),\n",
       "             ('CTCAGCCTCAACTCCCAAACAGCCAATCTCTA', 8),\n",
       "             ('GCGTCGCCATTCTATTAGCCTTTCCTCATCAC', 8),\n",
       "             ('TCCGTCCACCCTGATAGCCGCCCTTGGGATCC', 8),\n",
       "             ('GCTGATCTACATCGTCGGCCTGTTTCCATGT', 8),\n",
       "             ('CGTGACCGCCTGTACACGCTGTAATGGCTCAC', 8),\n",
       "             ('AAGCTGGCTGGCAATCTCTTTCAGGGTGAGTC', 8),\n",
       "             ('GCAGACTATAACGAGGGTCGCACGCGGATCAT', 8),\n",
       "             ('CTGTTTTCGCAAATCTATGGACTATTGCTATC', 8),\n",
       "             ('TCAACATTATCAATTAAAACCGACAGGGAGCC', 8),\n",
       "             ('CAATCTGGGCGACCGGTAATCATCGCTTCGATG', 8),\n",
       "             ('TGGCCTGACTTTAACAAGCAGTGCATACTGAC', 8),\n",
       "             ('GTCGCCGGGTTGATTTTCCATGATGATTTTTC', 8),\n",
       "             ('CTGTTTTCGCAAATCTAAGGACTATTGCTATT', 8),\n",
       "             ('GGTCAACTGCTCACGTTTCTCAATCTCCCTAC', 8),\n",
       "             ('AGTGCTGGGCCATTTCAAATTCACAATAGATT', 8),\n",
       "             ('CCGGGGGATAATGTTTACGGTCCTGCGCCCCC', 8),\n",
       "             ('AACGTCAGGTTGTCGCCGCTCTGCGTGGTTGC', 8),\n",
       "             ('GAAATGCTGGTGAGCGTTAATGCCGCAAACAT', 8),\n",
       "             ('GAAATGCTGGTGAGCGTCAATGCCGCAAACAC', 8),\n",
       "             ('GCGCCTCGGTTGTTTAGCCATGCTCAGCCCCC', 8),\n",
       "             ('GACAGAACGGCCTCAGTAGGCTCGTCAGGCTC', 8),\n",
       "             ('CCGGGGGGTAATGTTTACGGTCATGCGCCCCC', 8),\n",
       "             ('ATTTGTCGCCGTATGAGTTTTACGCGCCGTCT', 8),\n",
       "             ('GGGACCGCTCAGAAATTCCAGACCCGATCCAAA', 8),\n",
       "             ('TAGGCTATAGAGACGAGCGTTCGTTAAAGCA', 8),\n",
       "             ('CCGGGGGATAATGTTTACGGGCATGCGCCCCC', 8),\n",
       "             ('AGGCTCGCTGACCGGCACCACGACAGGCACTGCAGGGGCAACGAC', 8),\n",
       "             ('GTAGTCCATCATTCCACCTATGACTGAACTCC', 8),\n",
       "             ('CCGGGGGATAATGTTTACGGTCATGCGCCCC', 8),\n",
       "             ('GCAGGCGGCGACGCGCAGGGTATACGCGATTCG', 8),\n",
       "             ('GCGACCGCTCAGAAATTCCGGACCCGATCCAAA', 8),\n",
       "             ('AAGCTGGCTGGCAATCTCTTTCGGGGTGGGTC', 8),\n",
       "             ('GGAATGCTGGTGAGCGTTAATGCCGCAAACAC', 8),\n",
       "             ('ATTTTCCCGTTGTACAATAATAATGTTCCGGG', 8),\n",
       "             ('TAGCTCTGCAACAGCAGCACCCATGACCACGT', 8),\n",
       "             ('ATAGACCCCGAACAACAATACGCGCAAACCGC', 8),\n",
       "             ('TCGAGCCTGTTTTTCTTAGTGCGCGCAACGTC', 8),\n",
       "             ('CTGTTTTCCCAAATCTATGGACTATTGCTATT', 8),\n",
       "             ('CAGCAATGGATCGCCGCGTTCGCAGAGGCGGG', 8),\n",
       "             ('TCGGTTCAGGCGTTGCAAACCTGGCTACCGAG', 8),\n",
       "             ('GACAGAACAGCCTCAGTAGTCTCGTCAGGCTC', 8),\n",
       "             ('CAATCTGGGCGACCGGTCATCACCGCTTCGATG', 8),\n",
       "             ...])"
      ]
     },
     "execution_count": 26,
     "metadata": {},
     "output_type": "execute_result"
    }
   ],
   "source": [
    "reads[1].corrector.spacers_to_occurrences"
   ]
  },
  {
   "cell_type": "code",
   "execution_count": 27,
   "metadata": {},
   "outputs": [
    {
     "data": {
      "text/plain": [
       "{'ATTACGCCTTTTTGCGATTGCCCGGTTTTTGC': 0,\n",
       " 'TGGCTCTGCAACAGCAGCACCCATGACCACGT': 1,\n",
       " 'GAAATGCTGGTGAGCGTTAATGCCGCAAACAC': 2,\n",
       " 'GACAGAACGGCCTCAGTAGTCTCGTCAGGCTC': 3,\n",
       " 'CTGTTTTCGCAAATCTATGGACTATTGCTATT': 4,\n",
       " 'GTAGTCCATCATTCCACCTATGTCTGAACTCC': 5,\n",
       " 'TCGGTTCAGGCGTTGCAAACCTGGCTACCGGG': 6,\n",
       " 'CAATCTGGGCGACCGGTCATCATCGCTTCGATG': 7,\n",
       " 'GCAGGCGGCGACGCGCAGGGTATGCGCGATTCG': 8,\n",
       " 'AAGCTGGCTGGCAATCTCTTTCGGGGTGAGTC': 9,\n",
       " 'CCGGGGGATAATGTTTACGGTCATGCGCCCCC': 10,\n",
       " 'TCAACATTATCAATTACAACCGACAGGGAGCC': 11,\n",
       " 'TGGGCGGCTTGCCTTGCAGCCAGCTCCAGCAG': 12,\n",
       " 'GCGACCGCTCAGAAATTCCAGACCCGATCCAAA': 13,\n",
       " 'AGCGTGTTCGGCATCACCTTTGGCTTCGGCTG': 14,\n",
       " 'TAGTTTCCGTATCTCCGGATTTATAAAGCTGA': 15,\n",
       " 'CTGCTGCTCGAGCTGGTGGAGTGCTGCTATAG': 16,\n",
       " 'CAGAACATACTTCAAAGCCCGAGGCGTACACG': 17,\n",
       " 'TAGGCCTATAGAGACGAGCGTTCGTTAAAGCA': 18,\n",
       " 'ATAGACCCCGAACAACAATACGCGCAAACCGA': 19,\n",
       " 'AACGTCAGGTTGTCGCCGCTCTGCGTGGTCGC': 20,\n",
       " 'GATCAGATAAATGGCGAGACGATCCTGTTGCAC': 21,\n",
       " 'AGTGCTGGACCATTTCAAATTCACAATAGATT': 22,\n",
       " 'GCGGGCGTTAACGCGGTGATACTGTTTGACGG': 23,\n",
       " 'TACCGTACAGACTGCCGGATATTATTTTTTTG': 24,\n",
       " 'GTATGGGAGCAATACCCCAACCTGATGATGTG': 25,\n",
       " 'ACACGCCCTTATCAAATAGCTGTGATTTACCTA': 26,\n",
       " 'GCCTGACATTGCAGACGTTACAAATTGAGAGG': 27,\n",
       " 'GGTCAACTGCTCACGTTTCTCAATCTCACTAC': 28,\n",
       " 'CAGTAATTGCACCCTCAGCATCATTAACCATG': 29,\n",
       " 'ATAGCTGCGGCGGTAGGCGTCGAACCGTGGAC': 30,\n",
       " 'CACACCGTCGCCGGTGCGCGATAACACGTAAA': 31,\n",
       " 'CAAGTGATATCCATCATCGCATCCAGTGCGCC': 32,\n",
       " 'TATACCGCCGTACATATTTCTCTGCCCAGTTA': 33,\n",
       " 'TGCATGGCTTTGGCTTCCTCTTTGACGGACGC': 34,\n",
       " 'GTCACCAACATTTTCGCCGTTCAGGCCCGCAG': 35,\n",
       " 'GGCAGCGAGCGAAGCTAAAGACCACGCTATTA': 36,\n",
       " 'GGCAACATAACGAACAAAATCAACGTCAACCT': 37,\n",
       " 'TGCGTGAGCGTATCGCCGCGCGTCTGCGAAAG': 38,\n",
       " 'ACGAACGCGGCACACCAGGGCGTCTCATCGTC': 39,\n",
       " 'ATATATCAGAGCAAAAAACAAAGCCACAGCCA': 40,\n",
       " 'CAGGTTCGTAAAGGTGAACACGGCACGACGGC': 41,\n",
       " 'GGACTTAAAGATCGCATCACAGTACTGGAGGG': 42,\n",
       " 'TCCGTCCACCCTGATAGCCGCCCTTGTGATCC': 43,\n",
       " 'GCGTCGCCATTCTATTAGCTTTTCCTCATCAC': 44,\n",
       " 'ACCCTCACTCAAAGCTGCTGCTGCGGCCTCTG': 45,\n",
       " 'GAGGGTCTGGAAGCACTACCAGAAGCGGAGCA': 46,\n",
       " 'TTTTACAGTGTCAACAATCGTTCCCTGATTGT': 47,\n",
       " 'CGACCGCTCAGAGGATCCAGACCCGATCCAAA': 13,\n",
       " 'CGATGAATAAAGCCAAGAGTAAAGCGCATGAA': 48,\n",
       " 'CAACGAAATTGAGAGCAAAGGTCGCTACGCAG': 49,\n",
       " 'CCGTAAGTGGTTTGAGCGATGATATTTGTGCT': 50,\n",
       " 'TAAACCACCAGCCAGACCACCAATTACCACAC': 51,\n",
       " 'TTCGCCGCCATCATCCTGTGGTGCCAGTTGAC': 52,\n",
       " 'TCGCACCGCGTTAATCCGGCAGAAAAACAACA': 53,\n",
       " 'TCGAACCTGTTTTTCTTAGTGCGCGCAACGTC': 54,\n",
       " 'CAGGCGGCGACGCGCAGGGTATGCGCGATTCG': 8,\n",
       " 'CGTCAAAACTGTACGAGCCGTCCATGCCCGTA': 55,\n",
       " 'TGGCCTGACTTTATCAAGCAGTGCATACTGAC': 56,\n",
       " 'CCAGAGCATAGCGTTATTGGTTCTTCCTAGTA': 57,\n",
       " 'GAATGATCCCAAATTTGGGTTACAGAACCAGT': 58,\n",
       " 'CGAGCAGTATACAGAACTCAAGAACGCGCCGT': 59,\n",
       " 'GCGTCCACTTCGGGATTTGTGGCAGGGAGTTC': 60,\n",
       " 'AGTGGCAGGCCGGTAATATGAAAACGACAGAG': 61,\n",
       " 'ACGCGCGTACCGGATCGCGGACAACAAATTGC': 62,\n",
       " 'GTAACGTGGCGACGACCGGCGATTGATTTCAG': 63,\n",
       " 'ATTCATCAGTGTGATCCACTGCATGCTGGTGA': 64,\n",
       " 'CAATCTGGGCGACCGTTCATCATCGCTTCGATG': 7,\n",
       " 'TATTTCGCCTTCGGCACTGACGTCACCGTCAA': 65,\n",
       " 'CATAAAGAAACTATTTTGCGTTTCGTTCAGGT': 66,\n",
       " 'TAGATTGATACTAGTATGCCAGTCATTATGTA': 67,\n",
       " 'CAGCGTCAGGCGTGAAATCTCACCGTCGTTGC': 68,\n",
       " 'AAGACGACGTGATCCGCAAAGTCGAAGGCACG': 69,\n",
       " 'ATCACGATAACGCTGCTGTGATTCGTCCCCGT': 70,\n",
       " 'GATTGATACCTCGACGGGCTGGCCGTTCTTCA': 71,\n",
       " 'GGAATGATATTTCAATAAATAATTATAACAAT': 72,\n",
       " 'CCGACAATCTCCGCCTCCAGTCGGTCGACCTG': 73,\n",
       " 'CCGCCGTTGGCACCGTCAAACTCCGGTACTGT': 74,\n",
       " 'CCTGGTGTTGTCTGTTTCGTGACGCTCGGTAA': 75,\n",
       " 'ATCAGTGATATCCAACATTGCGGAGCTAAACG': 76,\n",
       " 'AAACTCTGGGCGCTCGAATGGCTGTCCTATTG': 77,\n",
       " 'TGTGCCCGACTGCGTGCCGCGTCGAGCGCCTG': 78,\n",
       " 'TATAGAGATCGTTTTTGGAATTTACAGCGAGG': 79,\n",
       " 'TGAAGCATCAAACATTTGGTGGACCAAACGGA': 80,\n",
       " 'TGTTTCTGTCCCAACTGAACAGCGCCGATAGT': 81,\n",
       " 'CGGCATATCAGGAGTTGGAGCAACCAGCGAGA': 82,\n",
       " 'GCACGCGGCGAACGGCGTCACGCTCGGGGTGAT': 83,\n",
       " 'GTCGCCGGGTTGATTTTCCATGATGATTTTTA': 84,\n",
       " 'ACATGAATGTCGGTTCAGACCGTGTTTTTACC': 85,\n",
       " 'TGCTCAATAACGTCGTAAATAGCGTAAGCTGG': 86,\n",
       " 'TACGGGTTGTACCATGCCACTGGCGTTTTGTG': 87,\n",
       " 'GTGCCAGTTCTCTGGTTGACGATCGGGAATGC': 88,\n",
       " 'CCGCCAAACAAGCAGCGCCGTGATGATGACAA': 89,\n",
       " 'ATAACCTGTTTAACCAGGCGACGGGTTTCCAT': 90,\n",
       " 'CGTCCGGATCGGTTTCGAGAATCTCTACGCTC': 91,\n",
       " 'CAAGTGATGTCCATCATCGCATCCAGTGCGTC': 32,\n",
       " 'AGCTCCTGGCTCAATATCTGGAAGAGGATCAC': 92,\n",
       " 'TGACCTGAAGAAATAACATTGACTCCAAACTG': 93,\n",
       " 'AGCTGGGCGAAATTTTGATTCATCGTGATGAC': 94,\n",
       " 'CCTGCGTAGTTGATCACGATTTCCGGGATAAT': 95,\n",
       " 'GAAGAGTTTTCCGGCTTTGTCCTGCTGGATGA': 96,\n",
       " 'TGAATGATCGGAAAGACGCTGCAAAGGCAATG': 97,\n",
       " 'TGGTGTGATTCCAATTGCCGCACGGAACGCCG': 98,\n",
       " 'GTCAACCACAACCAGATTGATGTGCTTGGTCT': 99,\n",
       " 'TTAATCAGGTCGTCGTACTCAGCGCCGCTGGC': 100,\n",
       " 'CGTCCCCGGAGTTCTGTCCAGCAACGACAACG': 101,\n",
       " 'ATCTTCTTGTTCAGGAACGTCAGTAGAGGTGT': 102,\n",
       " 'TGCATATCAGATGGGCACTGCTGATTGGAGAA': 103,\n",
       " 'CAATCTGGGCGACCGGTCATCATTGCTTCGATG': 7,\n",
       " 'TGACGCCAGAGGCTGTTAATCCCGTCATTTTT': 104,\n",
       " 'TTTGCCGCTGTCAGCATTGCTGGCGCGTAATA': 105,\n",
       " 'GTCGCCTGCCGCCTCAATCTCACCACTCGGAG': 106,\n",
       " 'TTATGAGCTTCAGTAAGCCAGCGTGGTTCGCT': 107,\n",
       " 'GAGGCGCTCACCTATCTCCTGAATATCTGAGC': 108,\n",
       " 'CTGAAACCAGTTGGCTCGTTGTTCTTCTTTGG': 109,\n",
       " 'GGCGATACAAGCACCCGATTACCGGCAAATTT': 110,\n",
       " 'ATCACGATAACGCCGCTGTGATTCATCCCCGT': 70,\n",
       " 'TTGCTGAAAAAGAAGGCTCCGGCGTTATCAGT': 111,\n",
       " 'AAGTAATCATGCCTTAATAGACCCCATCGTCA': 112,\n",
       " 'CCAGTACACCCGACGTTGTACGCGGCGTCGGT': 113,\n",
       " 'AGTTCGACCCTACTCAGGCCGGACTATGGCCA': 114,\n",
       " 'GTTTTCTCTACATTTAGCTATAGACGTTAGTT': 115,\n",
       " 'TTAGAGATGACGCGACAAGTCCACAAGCTGCG': 116,\n",
       " 'CAATCTGGGCGACCGGTCATCATCGCTTCGATA': 7,\n",
       " 'ATGGCGTGTCTCGATTGCGCGCTGCCGCACTG': 117,\n",
       " 'ACGGATTGCGGTATATGCAGTGTCCAGATTCT': 118,\n",
       " 'CGGGGGGATAATGTTTACGGTCATGCGCCCCC': 10,\n",
       " 'GAGCGAAGGTGCAACATTATCACCATATTCGG': 119,\n",
       " 'TGACTACTACCGCTGAAAGGCTGTCGCTACTGG': 120,\n",
       " 'ACATCAAGCCCTCAGTATTGTGTTAACCAAGA': 121,\n",
       " 'TCATTTCCCATGCAAAATGCTGCATTCCTGGC': 122,\n",
       " 'TGAAGGTGCTGAAGAATATCGGATTCAGAACG': 123,\n",
       " 'ATCTCGGGCTGAATGAGATCCCAACAATCACG': 124,\n",
       " 'GGGGTTGTCGTTGTTTTGCCAGCGTCCTTCAT': 125,\n",
       " 'GTTACGCTGCCTGAATATCGCAATTCCCCTGA': 126,\n",
       " 'GAGGTGGCAATACGCGTAGATCATTTGGTCGT': 127,\n",
       " 'TTTGGTATCTGCGCTCTGCTGAAGCCAGTTAC': 128,\n",
       " 'GTCGCCTGTTCAACTTTAAACGGCTCAAACCA': 129,\n",
       " 'AACTGGATTCTGCTCTAATTATTACATCATCG': 130,\n",
       " 'CCGATCAGCACACCCGAACCGACACCGACGAC': 131,\n",
       " 'ATTACGCCTTTTTGCGATTGCCCGGTTTTTCC': 0,\n",
       " 'GCGCCTCGGTTGTTTAGCCATGCTCAGCCCCA': 132,\n",
       " 'ATAATTTGACGATGAAGCAGCGCCCCACATTC': 133,\n",
       " 'GAACCGCTTTTATTTTTAGACATAGAGCACCG': 134,\n",
       " 'AAAACCAAACTTCTCCATAAATTCCATAGCCG': 135,\n",
       " 'GCCGTTTTCATAGCCCTCGACTTTTAGAATTT': 136,\n",
       " 'TCTTGCCGTGATGTGAAAGCTGAATTATCCCG': 137,\n",
       " 'AGCATTAACCCCCACCAGCTCGACGTGTGTGG': 138,\n",
       " 'GTTGTCGCGGTAGTATTTAGTCGAAAGCATGA': 139,\n",
       " 'GGAATATCGTTGCGCTAAAAGAGATTCTGGGC': 140,\n",
       " 'AATGCATCAGTTGAACACAAAAGTAGCTTTTC': 141,\n",
       " 'TGTAAAAGTTGATTTTCATATTGCTCTAATTG': 142,\n",
       " 'CTATAATTTGTTTTTGCACCACTGTACCTCGT': 143,\n",
       " 'CCGGAGCTGGGATTGATAGCGCCTGAT': 144,\n",
       " 'CGACTCAGTGGCAACACATCCACCCCACGATC': 145,\n",
       " 'TAGTTAACTTTTAGACAGAATATCCGTGTACC': 146,\n",
       " 'TGTGTCGGAATATGCGGGCTGATTTTCGTCTG': 147,\n",
       " 'TCGTAACAAGGAGATTTAAGTGGAAGAGATGC': 148,\n",
       " 'CGATTCCTCGTAGCTGCCACTCGACTGAAAGC': 149,\n",
       " 'GCTGGTTTTGAATCGTCCCGCGCTCGAGACGC': 150,\n",
       " 'TACTGCTCCGCTGGCGTTTCTCCCTCGCCCAG': 151,\n",
       " 'GAGACTTTTCACACTGATAATGTTGTTATTTT': 152,\n",
       " 'TTCTGTCACCTGACTATTTAACGCTATATTTC': 153,\n",
       " 'ACTCACATTAATTGCGTTGCGCTCACTGCCCG': 154,\n",
       " 'GATAAATCGCTCACGAAGAATAATTCTACCCC': 155,\n",
       " 'CCGAACGGCTCGGCGCTCTCATACCCCCAAAT': 156,\n",
       " 'TCGGTTCAGGCGTTGCAAACCTGGCTACCGGA': 6,\n",
       " 'CTGCCGACTGACCGCCGACGCTTTCGCGTTAA': 157,\n",
       " 'GATCCGGCTCACGATTTTGACGATGAGATCCC': 158,\n",
       " 'TGGCGGTGTAAATTTTTACGTTTTTCATATCT': 159,\n",
       " 'CCCTCACACCGATTCGCCAAACGGTGGAGAAG': 160,\n",
       " 'TCTTCGGGCGCGCGTTTTCGCAGACCAGCGAT': 161,\n",
       " 'TGCCAGTGACTACAGAAGCGTCTCTATCGGGG': 162,\n",
       " 'ACACCCAAACACAAGCCCAAATCGCGACCGAA': 163,\n",
       " 'CCTGGTCTTGTTGTCACGGTCGAGCACTTCGA': 164,\n",
       " 'GGAAACCGCCCCGGCGGTGGTTAGCTGTTTGC': 165,\n",
       " 'ACCGGAACGTATCAGAATATGATGATCTCCGG': 166,\n",
       " 'CCTGGTGGAGATTGACGCGAAATATGAGAAAC': 167,\n",
       " 'TACAGTTAAGCGTAAAGTAAGTGATACTGGTG': 168,\n",
       " 'GTCGCGTTCGTTGCCGGTATAGACCAGCGTCA': 169,\n",
       " 'GAACCTTCAATCTCCAAATGGGCAGACGGGAT': 170,\n",
       " 'GTATATCACGCCGCAAACGGGATCAGCAGCAG': 171,\n",
       " 'AGCCAGGCCCACGGCTGTCTTATTGAAATTGC': 172,\n",
       " 'GGCTTTAACCACACGAGCAAGTCCTTCGCCGG': 173,\n",
       " 'AGCAACGGCAGGATCCCCATCGGGTCGTCCGG': 174,\n",
       " 'GGGCGGACTACGCGGGAGATAAACCAGTTTTG': 175,\n",
       " 'CGGGGTACTCGAATGAAATCTATCGCAGAAAG': 176,\n",
       " 'TAGTTTCCGTATATGCATATTTATAAAGCTGA': 15,\n",
       " 'GCGATGGATCAGGGTATTACACTCGACGGCGG': 177,\n",
       " 'CACGACGGGCAGGCGATCACCGGCATGACCCA': 178,\n",
       " 'CACAGTTTTTGATATATCACCACGCTTTTTCT': 179,\n",
       " 'CCAGGTTTGGAACTCGGGCCAGATGACCATGA': 180,\n",
       " 'CAGGGTTGCGCGATGCCGTGAAGGCAACAGAG': 181,\n",
       " 'AATGATAAATTATCCGTTACCGCAATAACAAT': 182,\n",
       " 'CTGATTGTCAAAATCAAAAAACAGGCCGAGTC': 183,\n",
       " 'ATTACGCCTTTTTGCGTTTGCCCGGTTTTTGC': 0,\n",
       " 'ATTAAATTTTGCAGGTAGCTGTTATCCGTGTC': 184,\n",
       " 'TCAATGCCATAATCAAAAGCGGCCAGAATTGC': 185,\n",
       " 'GATGAGCAACACGCCCGCACTGGCGTAACTTA': 186,\n",
       " 'ATTACGCCTTTTTCCGATTGCCCGGTTTTTGC': 0,\n",
       " 'CTATAGCGCCACGTTCCGAGCGCTGCGAGCTG': 187,\n",
       " 'CTGCCCAAAGACCTGTATTCCTCTGATGGTTC': 188,\n",
       " 'CGTTGGCTGGAGATATGGGAGTACCTTTGGAA': 189,\n",
       " 'ATCTTCATATTGCGTGACGCTGCCGATGAACG': 190,\n",
       " 'AATCGAGGTCGGGCAGAACATCGCGTAGACCTGCACCTCGGGCAGCAGCTCCTGAACG': 191,\n",
       " 'ATTTTCAATTTCTAATAATTCATCTCCTCAGC': 192,\n",
       " 'GTTATCACCGAGTGCAGTAGCCCGCGCGCGCT': 193,\n",
       " 'CCAACAGTAATTGCAAAATCCTGTTGTTTAAT': 194,\n",
       " 'TGGCAAAACAAACATCGGGGTACGCGTGGTGC': 195,\n",
       " 'TTTTTTAACTGGGCGCGCAGAGTGGCACGTTG': 196,\n",
       " 'CCGCAAATGCCAAGACTCGCAAGCCAGCCCAG': 197,\n",
       " 'ACTTCCTTCAGTCTTAACGATAATCCGCAACG': 198,\n",
       " 'GCGGATCCACAGCTTGCCCTTGCGCTTCATTTCA': 199,\n",
       " 'GGGAAGCCGTCAACCTCGGCGTGTTTGAGCAG': 200,\n",
       " 'ACCGATAAACAACCGCATAGCCTCTTTCGTTT': 201,\n",
       " 'GGGATCAGCACCGACAACCTAAAACCACTGTT': 202,\n",
       " 'GAAATGCTGGTGAGCGTTAATGCCGCAAACCC': 2,\n",
       " 'GAATTTTAAATTTATGTGTATGAATTGTGGCA': 203,\n",
       " 'AATGTTTCCCGCACCCAAATGCGATCGCCAGG': 204,\n",
       " 'TAAGCCGTGACGCGGGTCGCCGCTGGCGTCAA': 205,\n",
       " 'ATTTCGCCTTTTTGCGATTGCCCGGTTTTTGC': 0,\n",
       " 'CGAGCGTCGGCAGCATCGCAAAGCGCACCTGC': 206,\n",
       " 'AGTTAACAACCCGCGCCGAACAAGCCCGACAA': 207,\n",
       " 'TCGATAATGTATTTGCGGGCAGAAAGGGCGCG': 208,\n",
       " 'CTGCTGCTCGAGCTGGTGGAGTGCTGCTATAA': 16,\n",
       " 'TCGCCCCGAAGAACGTTTTCCAATGATGAGCA': 209,\n",
       " 'TTCATACGCTGCGCCAGTTCGGTGATATCAGT': 210,\n",
       " 'GTTACGTTCGGTAAATGGAAAGCGGCGAATAT': 211,\n",
       " 'GCCGAGCATATCGAGCTCACGGGCGCGGGTTT': 212,\n",
       " 'GTCACGATAACGCTGCTGTGATTCGTCCCCGT': 70,\n",
       " 'ACTCTGGCGGCGGCGCAGGCGGATATCGCGAA': 213,\n",
       " 'TTCGGGCAGCGGCCCGGCGCTGGCTGGCAGGC': 214,\n",
       " 'CCAGATTCCGCTTTCTCTACCTTCTCTTTTTC': 215,\n",
       " 'GCAAAATAGCGATGAGCTGGCTACGCCCACTGG': 216,\n",
       " 'ATTTCGACGCGCTCTTTTTCGCTCGGTAAAAC': 217,\n",
       " 'TTTTTGTTAATTGCGTTTGCCACGGTTTGCAA': 218,\n",
       " 'CTGCTTTCGCAAATCTATGGACTATTGCTATT': 4,\n",
       " 'ATTACGCCTTTTTGCGATTGCCCGGCTTTTGC': 0,\n",
       " 'TCCGCATCGCTCATGCCGATAATCGGGCTCGG': 219,\n",
       " 'CCCATTCCAATTGATACTCATACGTTGTT': 220,\n",
       " 'TCGGCCAGCGTCCAGGCTGGCACCCGATATTC': 221,\n",
       " 'CTGTTTTCGCAAATCTATGGGCTATTGCTATT': 4,\n",
       " 'GCGGTCCTGGTAGGTTGCAGTGCGTCCCGAAAA': 222,\n",
       " 'TCCCCCATGTTGTGCAAAAAAGCGGTTAGCTC': 223,\n",
       " 'ACTGGATGGAGGCGGATAAAGTTGCAGGACCA': 224,\n",
       " 'AAGCTGGCTGGCAATCTCTTTCGGGGGGAGTC': 9,\n",
       " 'TCTTTATCAGCTAACCATTTCCAGAACTCGTC': 225,\n",
       " 'ACCATGTACGGCAGCGGGGTTTCCACGGCCAA': 226,\n",
       " 'ATCCATGCCGTCCTGAATATCGAAGCGATGCA': 227,\n",
       " 'TGGCTCTGCAACAGCAGCACCCATGACCACGC': 1,\n",
       " 'AACCCTTACGGTTATATGAAAGAAGATTTTTA': 228,\n",
       " 'ATTACGCCTTTTTGCGATTGCCCGGTTTTTTC': 0,\n",
       " 'GGCGAACAACCGACCCCTGTTGGACCCGACGA': 229,\n",
       " 'TGAGCGTCGGCGGCTCGCTGGATTTGCGCGG': 230,\n",
       " 'GCGACCGCTCAGAAATTCCAGACCCGATCCAAG': 13,\n",
       " 'ATGAAACGCCGGACTAATCCACATGGCGTAGG': 231,\n",
       " 'TAAAATTGGCATCATAGATGGTTTGATAGTCC': 232,\n",
       " 'TAGTAACGCGGGTTCGCCCGTAAACCGCGAGA': 233,\n",
       " 'AACTGAAGGGCCGCCGCTACCCGGTTAACACC': 234,\n",
       " 'ACGGCCTGATTTAGAGTTAAACATGGTCACGC': 235,\n",
       " 'CGTTTTTGCCGGGTTTATTTTAAAACCGGAGC': 236,\n",
       " 'GATTGCACAGGGGGTGAGTATGGAACAGCTGA': 237,\n",
       " 'GTCGACCATATGCCAAGACCAACTATCTGATT': 238,\n",
       " 'ATTACGCCTTTTTGCGATTGCCCGGGTTTTGC': 0,\n",
       " 'GGGCTTTCCGCCTACCTGCGACATCATGCGCT': 239,\n",
       " 'GTCGGCAGAGAATCGTTCGATTGCCCCTACAT': 240,\n",
       " 'CGCAAACTTGAAGGACGGATGACCGTATGAAC': 241,\n",
       " 'TGGACCGATGGGGCCAACATCGCCGAACGTGG': 242,\n",
       " 'TTTGCTACCCGCTCAAAACCGCCGATTCGCGT': 243,\n",
       " 'TCCTCCGCAGCCTTGACCAGCGGATATGTTTT': 244,\n",
       " 'GCCATAACCATGAGTGATAACACTGCGGCCAA': 245,\n",
       " 'GCAGCTTAGCGACGAAATTAAAACCGAACTCAC': 246,\n",
       " 'TGGCTCTGCAACAGCAGCCCCCATGACCACGT': 1,\n",
       " 'ACACACCAGGACCGCGCCAACTTACCCCGCGT': 247,\n",
       " 'GTAGTCCATCATTCCCCCTATGTCTGAACTCC': 5,\n",
       " 'ATGACTACACGTACCCGATGCGCGGCGCGGGG': 248,\n",
       " 'GTACATGATGTACAAGGGCGATCTGAGGGTGG': 249,\n",
       " 'TGGCTCTGCAACAGCAGCACCCATGACCCCGT': 1,\n",
       " 'ATATCCAGCCTGCGATAGAGATAGTTTTCCGG': 250,\n",
       " 'TGTACGCGGCGAGTTTTAGCGACAGGTCATCC': 251,\n",
       " 'ATTACCCCTTTTTGCGATTGCCCGGTTTTTGC': 0,\n",
       " 'GCTCATGTCAAACGCCATCAGCGTTCCGGCAT': 252,\n",
       " 'TGACCGATTTTATTGATCGCCCGATAGACCTG': 253,\n",
       " 'CACAAACCGCCCATCTTCCCGATTACTGCAGC': 254,\n",
       " 'CTGAGAATAGTGTATGCGGCGACCGAGTTGCT': 255,\n",
       " 'GCCCGCCTCGTCGGTGTATTCCGCGAGATCGC': 256,\n",
       " 'GCAGGCGGCGACGCGCGGGGTATGCGCGATTCG': 8,\n",
       " 'GAACGCAATATCACGGCGTTCTGCGGCCTCGG': 257,\n",
       " 'GGACCAAATACCCGTCCCTCAATCCACGCCGT': 258,\n",
       " 'GTAGTCCATCGTTCCACCTATGTCTGAACTCC': 5,\n",
       " 'CTTTTTTCGCAAATCTATGGACTATTGCTATT': 4,\n",
       " 'CCCTCGTGCGCTCTCCTGTTCCGACCCTGCCG': 259,\n",
       " 'CAGTTGTCTGATGTGTCGCTGGCCTGGCGGCA': 260,\n",
       " 'CACCCTGAGCGTAAAAAAAATGCTGAGGCGAT': 261,\n",
       " 'ATTACGCCTTTTTGCAATTGCCCGGTTTTTGC': 0,\n",
       " 'TGTCACAGTGACCGGCGGGAACTTGAAAATCA': 262,\n",
       " 'AATCGCCAGCCTCGGAAATATTCCATCCTCCG': 263,\n",
       " 'TGGCCCTGCAACAGCAGCACCCATGACCACGT': 1,\n",
       " 'CATGGCCTGCTCCGCCGGCACCGCCAGGGTGGCCACCTTCT': 264,\n",
       " 'TGGCAGCCAGGCGTTCATCGGTGACGACGAGGC': 265,\n",
       " 'GACAGAACGGCCTCATTAGTCTCGTCAGGCTC': 3,\n",
       " 'ATCAACGTTATCGATTACAACTGACAGGGAGC': 11,\n",
       " 'GATTCCGGCAAGGCGCTGGTCAGCACGGCTCT': 266,\n",
       " 'CTAGGAGGCGTAATGAATACTACGTATCAAAA': 267,\n",
       " 'GTCCTCTTTTTTCGACGTCAGGAAAATATCGG': 268,\n",
       " 'ATGAAGTCCTTATAGTACATTTCAAATACTCC': 269,\n",
       " 'GTAGTCGGTGGCCATGGGCTGCAGCTCCTGGG': 270,\n",
       " 'CAAACAGGTCGACATGTTTGGCTAACAGCTAA': 271,\n",
       " 'GTGGAAACCATCGCGAAGAGCTACTGGGAACG': 272,\n",
       " 'TGTAATAGCCTGATCTCTGATCTCCCTCGCCT': 273,\n",
       " 'ATAATGCTCATGAGCAGGCATAGGATTGACGA': 274,\n",
       " 'GAGGTGGCAAAATATTGTCAGCGGGATTTTTT': 275,\n",
       " 'AAAATTCATATTGATAAACACCGCGTTTGTAT': 276,\n",
       " 'AGGAACTAAACAGCCTGACCGTTGAGGATCTG': 277,\n",
       " 'GCAGGCGGCGACGTGCAGGGTATGCGCGATTCG': 8,\n",
       " 'CAGCACGAAAAATTATTTACTGTCGTTGCTCA': 278,\n",
       " 'AGAGTATGAGTATTCAACATTTCCGTGTCGCC': 279,\n",
       " 'CAGCAGAGCGGATGAAAAAGCAGTAAATAACG': 280,\n",
       " 'GATTTTTTTCGGTGACGGGCAACGGTCGAGAA': 281,\n",
       " 'AAAGTGACGCGATAGACGCGCTGATTGACGCT': 282,\n",
       " 'GAAATGCTGGTGAGCGTTAATGTCGCAAACAC': 2,\n",
       " 'CTTTGCCTCGGTCATCGTAACCGTGATGCCCT': 283,\n",
       " 'GTAGCCCATCATTCCACCTATGTCTGAACTCC': 5,\n",
       " 'CCAGAAAGTGCCGGTAGTGCCTGATGAACGAC': 284,\n",
       " 'GGTTTTACAAGCTTAAATGATTTTAAATTTTG': 285,\n",
       " 'TACCGGTACCAGCTCAACCGCAACCCCATCAG': 286,\n",
       " 'ATCCGCTCATGAGACAATAACCCTGATAAATG': 287,\n",
       " 'CAATCTGGGCGACCGGCCATCATCGCTTCGATG': 7,\n",
       " 'TTCGATGTAACCCACTCGTGCACCCAACTGAT': 288,\n",
       " 'ATTACGCCTTTTTGGGATTGCCCGGTTTTTGC': 0,\n",
       " 'TGGCTCCGCAACAGCAGCACCCATGACCACGT': 1,\n",
       " 'TACCGTACAGACTGCCGGATATTATTTTTTG': 24,\n",
       " 'GGCGGCTGGTTTCCTGTAATTCGTGAATCATA': 289,\n",
       " 'CTGTTTTCGCAAATCTATGGCCTATTGCTATT': 4,\n",
       " 'TTTTTTCTTCGGTGCCCAACCGCAGCCTAACG': 290,\n",
       " 'CTCACCAGTTTTGGGGTCAATAACCGGGGGAT': 291,\n",
       " 'GCAATCAGCTCCTCAATATATGTGGCCATTAG': 292,\n",
       " 'ACGATGGGAAGGGCTTCTCACCGACTATGACCCTTCAAC': 293,\n",
       " 'GGGCACTATGAACGGATCGGCGCTGATGCCGG': 294,\n",
       " 'TCTTTTGATTTTGCTGCGATGTTATAACCAGA': 295,\n",
       " 'AGCGTGTTCGGCGAATTCTTTGGCTTCGGCTG': 14,\n",
       " 'ATTACGCCCTTTTGCGATTGCCCGGTTTTTGC': 0,\n",
       " 'ATCGAATCGAAACCCCAGCCACAGAAATAATT': 296,\n",
       " 'GGTAACTGTCAGACCAAGTTTACTCATATATA': 297,\n",
       " 'TGGCTCTGCAACAGCAGCACCCATGGCCACGT': 1,\n",
       " 'ATTACGCCTCTTTGCGATTGCCCGGTTTTTGC': 0,\n",
       " 'GACTCAAAACGGCGCAGGTCAAAATCGTTCAA': 298,\n",
       " 'AATGCCTCCAGCCTCATTTGAAACGCCGCCAG': 299,\n",
       " 'CCGTTCATATTCGTTTCCTCGTGGCGCGATCT': 300,\n",
       " 'GCTGACCTGTCGAATCCGTATAGCCGCCGTTC': 301,\n",
       " 'CGTGGCAAGTGCGAAGCAGTCGCGGACTATGT': 302,\n",
       " 'GTAGTCCATCATTCCACCTATGCCTGAACTCC': 5,\n",
       " 'AGCACCACTGAAAATCTGTACGAAAGCAATAG': 303,\n",
       " 'TTCCCATTTAGCGAGTTCTTTTGCCGCCAGCA': 304,\n",
       " 'TAGGAGACGAGCGTTCGTTAAAGCA': 305,\n",
       " 'GTCGACCATATGCCAAGACCAACTATCCGATT': 238,\n",
       " 'ATTACGCCTTTTCGCGATTGCCCGGTTTTTGC': 0,\n",
       " 'CCACCTGCCGCGACGGGTGCCAGCAGATCACG': 306,\n",
       " 'CTCTACACCACCAACAGTCTGGGTTGCCACTT': 307,\n",
       " 'TTGGTTGTTCGGCGTTTTGAAGAGAACAAAAA': 308,\n",
       " 'CCCGAAAGAGATTGCCAGCCAGCTTAATTTGC': 309,\n",
       " 'TTTTGCACAACATGGGGGATCATGTAACTCGC': 310,\n",
       " 'GACAGAACGGCCTCAGTAGTCTCGTCAGGCCC': 3,\n",
       " 'CAATCGGGGCGACCGGTCATCATTGCTTCGATG': 7,\n",
       " 'TCCCCTGATTCTGTGGATAACCGTATTACCGC': 311,\n",
       " 'AGCGTGTTCGGCATCCCCTTTGGCTTCGGCTG': 14,\n",
       " 'CTTTCCACCCAGGCACTGATACTCCACATAAA': 312,\n",
       " 'TCCCCCTTAATTGCTCTCAAAAGATTTGATCC': 313,\n",
       " 'CATGTCGCGCAGGTTGCCCTGTGCATCCGCTG': 314,\n",
       " 'TTTTGTGCCCTGGCGTTTTGCTGGCTCTCGCG': 315,\n",
       " 'GCGATCGCGGTGGTTAATCTGCTGAAAATACC': 316,\n",
       " 'TTCATGAAGCACGCTGGAATTTATATTTGCCC': 317,\n",
       " 'TTACCAACTGGATAACGACGGGAAAGAGCTGT': 318,\n",
       " 'GTTTTCATTTGCACGAGCTGCACCATAAGAAG': 319,\n",
       " 'TGTAAAGGGTGGTCTGGAAGGGGATCGGCAAA': 320,\n",
       " 'ATCACCGTCACAGGCCAGAACCGTCACCACCA': 321,\n",
       " 'CTGTTTTCGCAAATCTATGGACTATTGCTTTT': 4,\n",
       " 'GTCCTTGTGAACGCCAACAGTGATTGAGCTGT': 322,\n",
       " 'ATTACGCCTTTTTTCGATTGCCCGGTTTTTGC': 0,\n",
       " 'CGCGCACGGCGTTTGCCCTCGTCGGTTATTGG': 323,\n",
       " 'GGATCTGCCAGCGCCTCTGCGGGGCGGTAAAC': 324,\n",
       " 'GTCGCCAGCTCCAACTGGCGGCGGTCGCCCAC': 325,\n",
       " 'TTTACGTCGAAGCGCCTTTTTCGCCTCCAGGT': 326,\n",
       " 'GCGCAGCCCGATGCGGTTAGAGATATAGGCCTC': 327,\n",
       " 'TTATAGAGTTGACTCAAATTCATTTTTATTCC': 328,\n",
       " 'GAAATGCTGGTGAGCGTTAATGCCGCAAAAAC': 2,\n",
       " 'CAAGTGATATCCATCATCGCATCCAGTGCGTC': 32,\n",
       " 'CAACCCGGCGGCACGGTCAATCGTTGCGTCAG': 329,\n",
       " 'GCTGAGGGGCCGAGAAGTTGCAGCGGCTGATT': 330,\n",
       " 'CAGTGGCTGCTGCCAGTGGCGATAAGTCGTGT': 331,\n",
       " 'GATGACGGTTGCGCCGTCCGCGCCGCGCGGCC': 332,\n",
       " 'ATTACGCCTTTTTGCGGTTGCCCGGTTTTTGC': 0,\n",
       " 'GACCCACTGCCGTTCCCTTACCCGCCATGTCG': 333,\n",
       " 'TGGCTCTGCAACAGCAGCACCCATGACCACGG': 1,\n",
       " 'ATTACGCCTTTTTGCGATTGCCCGGTCTTTGC': 0,\n",
       " 'CCGGGGGATAGTGTTTACGGTCATGCGCCCCC': 10,\n",
       " 'GTTGTTGTAATAAAGCCCCGGAGTTTTATATC': 334,\n",
       " 'CCGTTAAAATATTCGCCCGTTGTGTAAGCGTA': 335,\n",
       " 'AAGCTGGCTGGCAATCCCTTTCGGGGTGAGTC': 9,\n",
       " 'ACTATGGCCCCGGCAAAAAACGCGCTGGTGGG': 336,\n",
       " 'AAAATGCTGGTGAGCGTTAATGCCGCAAACAC': 2,\n",
       " 'TGGCTCTGCAACAGCAGCACCCATGACAACGT': 1,\n",
       " 'TCCCATTCACCAACAACAATATCGCCCTGCAA': 337,\n",
       " 'ATCGTCCATATTAACAATCGTGGTGAGTTCAA': 338,\n",
       " 'ATCCACATTTCCGCCGTTATGAATCGGTATTC': 339,\n",
       " 'ATTACGCCTTCTTGCGATTGCCCGGTTTTTGC': 0,\n",
       " 'GAGCCCTGCCAGAATGGGGCCTCTTTTGTACC': 340,\n",
       " 'TAGTTTCCGTATCTCCGGATTTTTAAAGCTGA': 15,\n",
       " 'GAAATGCTGGTGAGCGTTAATGCCGCAAACAA': 2,\n",
       " 'AATACTGACGTGTTTCACGCTGCTGCCGTCTG': 341,\n",
       " 'ATTACGCCTTTTTGCGATTGCCGGGTTTTTGC': 0,\n",
       " 'CTAATTACCGAGCTAATGTCGTTACCGATGTG': 342,\n",
       " 'TCGGAACCCTAAAGGGAGCCCCCGATTTAGAG': 343,\n",
       " 'CTGCGCAGAGCTCTGACGAACGCTACAGGTTA': 344,\n",
       " 'CTAATGATGCCACCCAGCGACAAAAACGCCGC': 345,\n",
       " 'GACAGAACGGCCTCAGTAGTCCCGTCAGGCTC': 3,\n",
       " 'ATTACGCCTTTCTGCGATTGCCCGGTTTTTGC': 0,\n",
       " 'CGGTTTCTGTTGTTGCTGGCTCAGCCGGTGCG': 346,\n",
       " 'TTTTAACCAATAGGCCGAAATCGGCAAAATCC': 347,\n",
       " 'ATCACGATAACGCTGCTGTGATTCATCCCCGT': 70,\n",
       " 'ACCGGACAAATCTTTTTTTTCCTGTTCCTGTT': 348,\n",
       " 'GACAGAACGGCCTCAGTAGTCTCGCCAGGCTC': 3,\n",
       " 'GGTAATTTCTCATCTAACAGCCTGTACGCCTC': 349,\n",
       " 'ACTACGCCTTTTTGCGATTGCCCGGTTTTTGC': 0,\n",
       " 'AGTGCTGGACCATTTTAAATTCACAATAGATT': 22,\n",
       " 'GTAGTCCATCATTCCACCTATATCTGAACTCC': 5,\n",
       " 'TCAGCCAGACGTGGCATTGCGGCTGCATCCGG': 350,\n",
       " 'AATCACTGCGGGGGTATTTAGCGGAAACGGCT': 351,\n",
       " 'AGCGCGTTCGGCATCACCTTTGGCTTCGGCTG': 14,\n",
       " 'TAACGAACTGAATAAAATGTCAGAAAGTGACG': 352,\n",
       " 'TGATTTGCTGAGGCGCGTTTCGTCTCCGAAAA': 353,\n",
       " 'GAAATTTCCACCGTGGATATTTCGGTTATTGG': 354,\n",
       " 'GAAAGAACGGCCTCAGTAGTCTCGTCAGGCTC': 3,\n",
       " 'GTAGTCCACCATTCCACCTATGTCTGAACTCC': 5,\n",
       " 'GGGCGAGACGGGAGGGACAAGGTGTGATTGAG': 355,\n",
       " 'GCCGTGCTGGTAAAATTTTCCTCCACTGAGAT': 356,\n",
       " 'ACGATGGCGATGCGTGAGAAAGGGGGTCGATA': 357,\n",
       " 'CATCCGCACGCGAGCAGTACCGGCATTCCTGG': 358,\n",
       " 'CGGCTCTGCAACAGCAGCACCCATGACCACGT': 1,\n",
       " 'GCAGGCGGCGACGCGCAGGGGATGCGCGATTCG': 8,\n",
       " 'TACGTGAAGAATATTTGCAACACCCGCAAGAA': 359,\n",
       " 'TGGCTCTGCAAAAGCAGCACCCATGACCACGT': 1,\n",
       " 'GGCAGAACGGCCTCAGTAGTCTCGTCAGGCTC': 3,\n",
       " 'ACCGATTCAATATACAGAAAGTGAATTAGCGT': 360,\n",
       " 'TTTTTTCTTCGGTGCCTAACCGCAGCCTAACG': 290,\n",
       " 'ACTGTTTAAATTACCGTGCGTAAGCCGTCATT': 361,\n",
       " 'CGTAGTCAGTGAGAGAAATATTAACAAGCCCC': 362,\n",
       " 'AATTCTCTTACTGTCATGCCATCCGTAAGATG': 363,\n",
       " 'CGTCCGGATCGGTTTCGAGAATCTCTACGCTT': 91,\n",
       " 'TCGATCAGGCGGTTTTGTTCTTCCAGCGACGC': 364,\n",
       " 'ATTTCCCCTTTTTGCGATTGCCCGGTTTTTGC': 0,\n",
       " 'TAGGCCTATAGAGACGAGCGTTCGTTAAACA': 18,\n",
       " 'GGTAAAGCCACACCATTTTTTATTGACCTCGC': 365,\n",
       " 'ACCATTACTTCGGTAAAAGCGTGATCAAGAAT': 366,\n",
       " 'GGCATCAAGCAGCGTTCCCGCCTCAATCTCGC': 367,\n",
       " 'ATTACGCCTTTTTGCGATTGCCCGGTTCTTGC': 0,\n",
       " 'TCTTTATCGTCAATGCGAAATTTTCCGCGACG': 368,\n",
       " 'GCTGCAACCAGTGGAGTGAACATGAGCGTTCG': 369,\n",
       " 'ATTAGGCCTTTTTGCGATTGCCCGGTTTTTGC': 0,\n",
       " 'GTAGTCCGTCATTCCACCTATGTCTGAACTCC': 5,\n",
       " 'TGCATGGCTTTGGCTTCCTCTTTGACGGACCC': 34,\n",
       " 'TGCTGACCTGCGCAGAGGGCTTTGGCAATTCA': 370,\n",
       " 'GTAGTCCATCATTCCACCTATGTCTGAATTCC': 5,\n",
       " 'CCGGTTCAGGCGTTGCAAACCTGGCTACCGGG': 6,\n",
       " 'TGGAACAACACTCAACCCTATCTCGGTCTATT': 371,\n",
       " 'CGCCGCGGACTCACGAGCAGGCCATCACAGAC': 372,\n",
       " 'ATCAGAGCAGTGGAAGCAGGCAAGAAGGGAGT': 373,\n",
       " 'TACGGCAGGATCTCGGGCGCCTGCACGGTTAC': 374,\n",
       " 'ACGTCAATGAGCACAGAGCGGATAACCTGCGC': 375,\n",
       " 'CCAAGCTCTAATACGACTCACTATAGGGAAAG': 376,\n",
       " 'AGCCGCCGAAGCCCGGCGCAGCCGGTACGGAT': 377,\n",
       " 'TGGCTCTGCAACGGCAGCACCCATGACCACGT': 1,\n",
       " 'TGGTTTGTTTGCCGGATCAAGAGCTACCAACT': 378,\n",
       " 'TGGCTCTGCAACAGCAGCATCCATGACCACGT': 1,\n",
       " 'CAACGTTGCGCAAACTATTAACTGGCGAACTA': 379,\n",
       " 'TGGCTCTGCAGCAGCAGCACCCATGACCACGT': 1,\n",
       " 'GCAGGCGGCGACGCGCAGGGTATGCGCGATTCC': 8,\n",
       " 'ATTACGCCTTTTTGCGCTTGCCCGGTTTTTGC': 0,\n",
       " 'CAAAATATTACGAGCTTCGTCAGGCCATGGAC': 380,\n",
       " 'TCAGTTCAGGCGTTGCAAACCTGGCTACCGGG': 6,\n",
       " 'TGGCTCTGCAACAGCAGCACCCATGACCACAT': 1,\n",
       " 'ATTAAGCCTTTTTGCGATTGCCCGGTTTTTGC': 0,\n",
       " 'CCCAGATGACAGCTTGCCTAAAACGAAAGCAG': 381,\n",
       " 'GAAATGCTGGTGAGCGTTAATGCCGCCAACAC': 2,\n",
       " 'CACATGAATGTCGGTTCAGACCGTGTTTTTACC': 85,\n",
       " 'AAGCTGGCTGGCAATCTCTTTCGGGGTGAGCC': 9,\n",
       " 'TATCGTCTTGAGTCCAACCCGGTAAGACACGA': 382,\n",
       " 'TGGCTCTGCAACAGCAGAACCCATGACCACGT': 1,\n",
       " 'TACCGGTGTGAATTACAGCACCACCGCCACCC': 383,\n",
       " 'TCATCCATCATCTGCTGACCCCACCATCCACG': 384,\n",
       " 'ATCATTCGCACACCCCCGCGTAAATGCTGGAA': 385,\n",
       " 'ATTACGCCTTTTTGCGATCGCCCGGTTTTTGC': 0,\n",
       " 'TATAATATGAATTAATTTTTGCGCATAACCTG': 386,\n",
       " 'GCAGGCGGCGACGCGCAGGGAATGCGCGATTCG': 8,\n",
       " 'ATTACGCCTTTTTGCGATTTCCCGGTTTTTGC': 0,\n",
       " 'GTCGTGACTGGGAAAACCCTGGCGTTACCCAA': 387,\n",
       " 'ATACGGCGCTGTCTTATGTTGACCAAACGGAA': 388,\n",
       " 'GCATCCATGCCGACGCCTTTACGTGTGCGGGG': 389,\n",
       " 'TCGGCTCAGGCGTTGCAAACCTGGCTACCGGG': 6,\n",
       " 'CTGTTTTCGCAAATCCATGGACTATTGCTATT': 4,\n",
       " 'GGTGAATACTGCGGCAGGCGCTGCGGGAATTG': 390,\n",
       " 'GGCTGTAGCGTGCGAGGCTGTTTGGCGTTTTC': 391,\n",
       " 'CCGGGGGATAATGTTTACGGTCATGGGCCCCC': 10,\n",
       " 'CTGTTTCCGCAAATCTATGGACTATTGCTATT': 4,\n",
       " 'GTAGTCCATCATTCCACCAATGTCTGAACTCC': 5,\n",
       " 'TTTTTTTGTCGCATCCAGCCGTATTTTTTCGC': 392,\n",
       " 'TGCATGGCTTTGGCCTCCTCTTTGACGGACGC': 34,\n",
       " 'GACTCCACGCGGGCGCGGATTCTGGTGGGCAG': 393,\n",
       " 'CTGTTTTCGCAAATCTATGGACTACTGCTATT': 4,\n",
       " 'GGTGTTCCGTTAATATCGATGGCGACGTAACT': 394,\n",
       " 'GAGATGATCAAAGCGGGCTTTTTTGTGGCCTG': 395,\n",
       " 'AGTATGCGTTCAATCACTGTCAGGCCTACTTC': 396,\n",
       " 'ACGGTCCATGGCACACAGGATCCAGACGTTAA': 397,\n",
       " 'TGTTTTTCTGCCGGTTTAACACGGTGCGATAA': 398,\n",
       " 'ACACGCCCTTATCAAATAGCCGTGATTTACCTA': 26,\n",
       " 'GCGCAGCGAGCAAAATCTACTGGCCGGGCTAA': 399,\n",
       " 'GCTACGTGGACCTATGGATATCTGCGCCCGTT': 400,\n",
       " 'GCGATACGAAAACCGCCACTGACATCATTAAC': 401,\n",
       " 'GAAATGCTGGTGAGGGTTAATGCCGCAAACAC': 2,\n",
       " 'TCACGCTGCGCGTAACCACCACACCCGCCGCG': 402,\n",
       " 'TAATTCGGGGTATTTGACCTCGAATTTCGGTA': 403,\n",
       " 'TCGGTTCAGGCGTTGCAAACCTGGCTACCAGG': 6,\n",
       " 'GCATAAATTAGTCAAACAGACACTGCCGGGGT': 404,\n",
       " 'CTGCTGCTCGAGCTGGTGGAGTGCCGCTATAG': 16,\n",
       " 'GACAGAACGGCCTCAGTAGCCTCGTCAGGCTC': 3,\n",
       " 'TCCTCGTCGTACCCTGTTCCCCTGGTTACTGT': 405,\n",
       " 'TCGGTTCAGGCGTTGCAAACCCGGCTACCGGG': 6,\n",
       " 'TGGCTCTGCAACAGCAGCACCCATGACTACGT': 1,\n",
       " 'CAGACATACTTCAAAGCCCGAGGCGTACACG': 17,\n",
       " 'TCGCCCTTATTCCCTTTTTTGCGGCATTTTGC': 406,\n",
       " 'GAAATGCTGGTGAGCGTTAATGCCGCAACCAC': 2,\n",
       " 'TATGTAAAGCCAGGGCAGGCTGTGACGGTTGC': 407,\n",
       " 'TTCAACAGTCGGTCAGCGGAAGCCTGGTCAAT': 408,\n",
       " 'AACGTCAGGTTGTCGCCGCTCTGCGGGGTCGC': 20,\n",
       " 'TTCATATCCTCTTTCCAGATTGCGTCGAATAT': 409,\n",
       " 'TAGGCCTATAGAGACGAGCGTTCGTTAGAGCA': 18,\n",
       " 'TCGGTTCAGGCGTTGCAAACCTGGCTACTGGG': 6,\n",
       " 'ATTCCGCCTTTTTGCGATTGCCCGGTTTTTGC': 0,\n",
       " 'AACCAAGGCCGGCGCAACGAAGCGCTCGACTG': 410,\n",
       " 'ATAGGCCCCGAACAACAATACGCGCAAACCGA': 19,\n",
       " 'TCATTAGAAGCCAATAATCAGCGCGTCGAGAA': 411,\n",
       " 'GTAGTCCATCATTCCACCTATGTCTGAACCCC': 5,\n",
       " 'GAATCTAATGCAACAGATGAATAAACACGTAA': 412,\n",
       " 'ATTACGCCTTTTTGCGATTGCCCGGTTTCTGC': 0,\n",
       " 'ACCGATTCAATATACAGAAAGTGAATTAGCG': 360,\n",
       " 'AGGCTGGCTGGCAATCTCTTTCGGGGTGAGTC': 9,\n",
       " 'TAAATCTGGCGTCGAGACATTCGAAATAGTGC': 413,\n",
       " 'AATTAAAGCCGAGGGTGGCACCGCGCCTTATT': 414,\n",
       " 'CGACACGGAAATGTTGAATACTCATACTCTTC': 415,\n",
       " 'TTAGTTGTAACTCTGTGAATCTCGGGATCGTC': 416,\n",
       " 'CAAGCGATATCCATCATCGCATCCAGTGCGCC': 32,\n",
       " 'GTAGTCCATCATTCCACCTACGTCTGAACTCC': 5,\n",
       " 'GCGACCGCTCGGAAATTCCAGACCCGATCCAAA': 13,\n",
       " 'GTAGTCCATCATTCCACCTATGTCTGAGCTCC': 5,\n",
       " 'ACCCCGGATAAAGGTTTACCAGTGTTACGGTC': 417,\n",
       " 'TCGGGGGATAATGTTTACGGTCATGCGCCCCC': 10,\n",
       " 'CCGCCGTTGGCACCGTCAAACTCCGGTACTGA': 74,\n",
       " 'CTGTTTTCGCAAACCTATGGACTATTGCTATT': 4,\n",
       " 'CTGAAAAGTGGATTTTACACGCTGCCAAAATT': 418,\n",
       " 'TAGGCCTATAGAGACGAGCGTTCGTTAAAGCG': 18,\n",
       " 'TAGTTTCCGTATCTCCGGACTTATAAAGCTGA': 15,\n",
       " 'TTTACTACAATAGGTGGACACGCTACGGCGCA': 419,\n",
       " 'AAAAAATGATGCTGTATTTCACTATTGGGTTC': 420,\n",
       " 'ATTACGCCTTTTTGCGACTGCCCGGTTTTTGC': 0,\n",
       " 'GCGGAAAACAGCCAAAATAACGCAATTACCGC': 421,\n",
       " 'GATCGCCTGCTCCAACGTCAGTCCCTGCCCGT': 422,\n",
       " 'TGAGATCCTTTTTTTCTGCGCGTAATCTGCTG': 423,\n",
       " 'ATAGACCCCGAACAACAATACGCGCAAACTGA': 19,\n",
       " 'ATTTTGATATTGTTTAATCATGTGAGAAAAAG': 424,\n",
       " 'TAGGCCTATAGAGACAGCGTTCGTTAAAGCA': 18,\n",
       " 'GTAGTCCATCATCCCACCTATGTCTGAACTCC': 5,\n",
       " 'ACACGCCCTTACCAAATAGCTGTGATTTACCTA': 26,\n",
       " 'GTAACGTCTGCCTTTTCCTCGTCCGCCTTAAT': 425,\n",
       " 'GAGTCTATCAGCGACACTACCGGCAATAGCGA': 426,\n",
       " 'GCGGTCGATTTTGCTGGCGTTGTTTCGGCTGG': 427,\n",
       " 'GGATCTGCAGACGATGAATTACCGCTTGACTA': 428,\n",
       " 'GGCCTATGCGTTTTTCTCTCTGTTAATGCGCCCC': 429,\n",
       " 'ACATCGAACTGGATCTCAACAGCGGTAAGATC': 430,\n",
       " 'CTGTTTTCGCAAATCTATGGACCATTGCTATT': 4,\n",
       " 'GGGTTGTGCGCCCTGGTGGGCGAAAACGGTGG': 431,\n",
       " 'GACAGAACGGCCCCAGTAGTCTCGTCAGGCTC': 3,\n",
       " 'TAGCCGGGTCTGTATCGAATACCAGCCCCGCG': 432,\n",
       " 'ACGTAACGAGGCACTGGACTGCCGAAACTACG': 433,\n",
       " 'GAAACGTAAACAGGGTAAGATACAACTCTGCA': 434,\n",
       " 'TCGGTCCAGGCGTTGCAAACCTGGCTACCGGG': 6,\n",
       " 'TGAGACGCTCCCGGATGAGGTTATACTGTACG': 435,\n",
       " 'CTTACGCCTTTTTGCGATTGCCCGGTTTTTGC': 0,\n",
       " 'ATCTCCAGCGCCTTTTCGACGCAACGGTGCGC': 436,\n",
       " 'CCTCCCTTATTTTTTCATCGTCCATGTTCATG': 437,\n",
       " 'ATTACGCCTTTTTGCGATTGCCCGGTTTTTAC': 0,\n",
       " 'CATAAAGAAACCATTTTGCGTTTCGTTCAGGT': 66,\n",
       " 'ATTGGCGAGCTGTTGGAATACGACCCCGGCGAC': 438,\n",
       " 'TAGTTTCCGTATCCCCGGATTTATAAAGCTGA': 15,\n",
       " 'TAGGCCTATAGAGACGAGCGTTCGTTAAGCA': 18,\n",
       " 'CAATCTGGGCGCCCGGTCATCATCGCTTCGATG': 7,\n",
       " 'GAAATGCTGGTGAGTGTTAATGCCGCAAACAC': 2,\n",
       " 'AGCGTTGCCGCCACGCCAGTTGTGCCGCTACC': 439,\n",
       " 'AGTGCTGGACCATTTCAAATTCCCAATAGATT': 22,\n",
       " 'GCGTCGCCATTCTATTAGCTTTTCCTCATCCC': 44,\n",
       " 'AGAGCGAGGTATGTAGGCGGTGCTACAGAGTT': 440,\n",
       " 'GACCTCGAGGAGGGCGCCGCCGGTGTCGGTGG': 441,\n",
       " 'CCCGGGGATAATGTTTACGGTCATGCGCCCCC': 10,\n",
       " 'ATTACGCCTTTTTGCGATTGCCCGGTTTTTGT': 0,\n",
       " 'CGGATCTGGTCCAGCGTTAACCGGCGGCGGAT': 442,\n",
       " 'CAGAACATTCTTCAAAGCCCGAGGCGTACACG': 17,\n",
       " 'GACAGGACGGCCTCAGTAGTCTCGTCAGGCTC': 3,\n",
       " 'GCACCTCGAAACGGTTTTAAAACACTACCGTTT': 443,\n",
       " 'GTGGCAAGCCACGGCGGGCCTCACAGCTCCGG': 444,\n",
       " 'TACGCGCAGAAAAAAAGGATCTCAAGAAGATC': 445,\n",
       " 'CCGGGGGATAATGTTTACGGTCATGCGCCCC': 10,\n",
       " 'GATAACGTTTAACGTTGGCGTGAGCGGGGAGG': 446,\n",
       " 'CTGGTTTCGCAAATCTATGGACTATTGCTATT': 4,\n",
       " 'CAATCTGGGCGACCGGTCATCATCGCTTCGATC': 7,\n",
       " 'TCGAGCCTGTTTTTCTTAGTGCGCGCAACGTC': 54,\n",
       " 'GAAATGCTGGTGGGCGTTAATGCCGCAAACAC': 2,\n",
       " 'TGGCTCTGCAACAGCAGCACCCATGCCCACGT': 1,\n",
       " 'GCAAAGTCCCGGGTATTATTGAGCTGGTTGAC': 447,\n",
       " 'GAGGCTGGCCATATAGCAGCAGGCTACGGCAC': 448,\n",
       " 'TCGGTTCAGGCGTTGCAAACCTGGCCACCGGG': 6,\n",
       " 'GCCAGAACGGCCTCAGTAGTCTCGTCAGGCTC': 3,\n",
       " 'GAAATGCTGGGGAGCGTTAATGCCGCAAACAC': 2,\n",
       " 'CATAGGGTCGCCGGTTGCGGATCAATTTA': 449,\n",
       " 'TAGTCTCCGTATCTCCGGATTTATAAAGCTGA': 15,\n",
       " 'CGCGCCCACTTCCGTAAAATACAGATAATCCA': 450,\n",
       " 'CAAACTGGATATCACTGAATGCAGCCGCGTGG': 451,\n",
       " 'GTAGTCCATCATTCAACCTATGTCTGAACTCC': 5,\n",
       " 'AGCGGGTTCGGCATCACCTTTGGCTTCGGCTG': 14,\n",
       " 'TAGGCCTATAGAGACGGGCGTTCGTTAAAGCA': 18,\n",
       " 'GACAGAGCGGCCTCAGTAGTCTCGTCAGGCTC': 3,\n",
       " 'TTGAACGTTATAACTCCCCTACGATGTTGTCC': 452,\n",
       " 'TTCCTCTGTTACGCGGGACGTTATTAAGCCTT': 453,\n",
       " 'AACGTCAGGTTGTCGCCGCTCTGCGTGGTTGC': 20,\n",
       " 'CAGAACATACTCAAAGCCCGAGGCGTACACG': 17,\n",
       " 'TCAACATTATCAATTACAACCGCCAGGGAGCC': 11,\n",
       " 'CTGTCTTCGCAAATCTATGGACTATTGCTATT': 4,\n",
       " 'GACGCGAAGCTGATCTATCAGGGAGATATTGT': 454,\n",
       " 'CTGCTGCTCGAGCTGGTGGAGGGCTGCTATAG': 16,\n",
       " 'CTGTTTTCGCAAATCTATGGACTATTGCTATG': 4,\n",
       " 'TTGATCGGCGAGACTCGCGGCCTGTTTTTCGT': 455,\n",
       " 'CTGTTTTCCCAAATCTATGGACTATTGCTATT': 4,\n",
       " 'CCAACATTATCAATTACAACCGACAGGGAGCC': 11,\n",
       " 'AACGTCAGGTTGTCGCCGCCCTGCGTGGTCGC': 20,\n",
       " 'GAGAGTGCTGACAGGTGTCTCGATTACCTGAT': 456,\n",
       " 'GTAGTCCATCACTCCACCTATGTCTGAACTCC': 5,\n",
       " 'ACATGAATGTCGGTTCAGACCGGGTTTTTACC': 85,\n",
       " 'CTGTTTTCGCAAATCTATGGACAATTGCTATT': 4,\n",
       " 'GAAATGCTGGCGAGCGTTAATGCCGCAAACAC': 2,\n",
       " 'GAAATGCTGGTTAGCGTTAATGCCGCAAACAC': 2,\n",
       " 'CTCATGATCGGCCCGGACAGAAGATGCTCACC': 457,\n",
       " 'GCCGTCTGCCTCCAGCCCAGCCCTGGATATTT': 458,\n",
       " 'GGCATAGCCAGGCTGAACCGGCGACGGCCTTA': 459,\n",
       " 'GCGGGCGTTAACGCGGGGATACTGTTTGACGG': 23,\n",
       " 'GTATGGGAGCAATTCCCCAACCTGATGATGTG': 25,\n",
       " 'CTGCCGCCACGGCCGCATGCCTCGATCAGCGC': 460,\n",
       " 'GTTCTTCTAGTGTAGCCGTAGTTAGGCCACCA': 461,\n",
       " 'TCGGTTCAGGCGTTGCAAACCGGGCTACCGGG': 6,\n",
       " 'CTGACGCTGGCTGAGAACGGTTTTTCTGTTCG': 462,\n",
       " 'TCGGTTCAGGCGTTTCAAACCTGGCTACCGGG': 6,\n",
       " 'GTCGTGTGAAGGGGTTAACGCGCTGACTGAGT': 463,\n",
       " 'GGCAAAAAGGCGGCGCGTTTAAAAGAGGCATA': 464,\n",
       " 'GCGACCGCTCAGAAATTCCAGACCCGATTCAAA': 13,\n",
       " 'GAACTCAACAAGAAAACATTAGTCTAATATTA': 465,\n",
       " 'TCGGTTCAGGGGTTGCAAACCTGGCTACCGGG': 6,\n",
       " 'GACAAAACGGCCTCAGTAGTCTCGTCAGGCTC': 3,\n",
       " 'TCAACATTAACAATTACAACCGACAGGGAGCC': 11,\n",
       " 'AACGTCAGGTTGTCGCCGCTCTGCGTGGTAGC': 20,\n",
       " 'ATTTCAGGCTCACGGGAATCATCCTCGACGTG': 466,\n",
       " 'AAGTGGCAACCCAGACTGTTGGTGGTGTAGAG': 467,\n",
       " 'TGGCTCTGCAACAGCAGCACCCATGACCGCGT': 1,\n",
       " 'ATATCCTCCAGAACACGCGCCTCATTTCGACT': 468,\n",
       " 'AAATATGGGGAGCGCCGTTAATGAAATCAAAA': 469,\n",
       " 'GCTAACTGGCAAAGCTCCTCGTGTGTCAGTGC': 470,\n",
       " 'GTTGGTACTCACAGCTACGTCTATAGGGTCGT': 471,\n",
       " 'TGTTCGGCGGGGCGGTAGTACCACTGTTTTTT': 472,\n",
       " 'TGGCTCTGCACCAGCAGCACCCATGACCACGT': 1,\n",
       " 'CTGCTGCCCGAGCTGGTGGAGTGCTGCTATAG': 16,\n",
       " 'TCAACATTACCAATTACAACCGACAGGGAGCC': 11,\n",
       " 'GTAGAGGTCGTTGGGCGCCGCCACCTGCTGCAGCAGGCCG': 473,\n",
       " 'CCGACCCTGCCGCTTACCGGATACCTGTCCGC': 474,\n",
       " 'TGGCTCTGCAACAGCAGCACCCATAACCACGT': 1,\n",
       " 'TCGAGCAAGAAGTTGCTCAAGATCCCGAGCAC': 475,\n",
       " 'GTCCCCAACATTTTCGCCGTTCAGGCCCGCAG': 35,\n",
       " 'ATTACGCCTTTTGCGATTGCCCGGTTTTTGC': 0,\n",
       " 'TTCTGATCGGGGCTTTTCCCATTCGATGTCGA': 476,\n",
       " 'GCAGTCCATCATTCCACCTATGTCTGAACTCC': 5,\n",
       " 'TTGTCACGAACACATAGCAACTAGGTAACCAC': 477,\n",
       " 'TCGGTTCAGGCGTTGCAGACCTGGCTACCGGG': 6,\n",
       " 'TATCCACATATACCCGCAATCATATTCAAGAA': 478,\n",
       " 'TGGCTCTGCAACAGCGGCACCCATGACCACGT': 1,\n",
       " 'AGCGTGTTCGGCATCACCCTTGGCTTCGGCTG': 14,\n",
       " 'TCGGTTCAGGCGTTGCAAACCTAGCTACCGGG': 6,\n",
       " 'GGAGTAGCCGTTGTGGGCGGTGGCGATGTTGTAGATCAGCTCCTGGATCAGAA': 479,\n",
       " 'GCTACATGGAGACGCATCATGACGTACAAAAA': 480,\n",
       " 'ATAGACCCCGAGCAACAATACGCGCAAACCGA': 19,\n",
       " 'TCACTGAGCCTCGCCCCTATGTGATGCAAATT': 481,\n",
       " 'GTAGACCCCGAACAACAATACGCGCAAACCGA': 19,\n",
       " 'TCGGTTCAGGCGTTGCGAACCTGGCTACCGGG': 6,\n",
       " 'TGGCTCTGTAACAGCAGCACCCATGACCACGT': 1,\n",
       " 'GGGGATAACGGTTATCCACTGGCCGCCGATCT': 482,\n",
       " 'TAGGCCTATAGAGACGAGCGTTCGTTAAGGCA': 18,\n",
       " 'GTAGTCCATTATTCCACCTATGTCTGAACTCC': 5,\n",
       " 'CAGGCCTATAGAGACGAGCGTTCGTTAAAGCA': 18,\n",
       " 'CAGAACATACTTCAAAGCCCGGGGCGTACACG': 17,\n",
       " 'GAGGCAATTAGTAAAACTCCGGCAATTGCTGC': 483,\n",
       " 'TGGGCGGCTTGCCTTGCAGCCAGCTCCGGCAG': 12,\n",
       " 'CTGTTTTTGCAAATCTATGGACTATTGCTATT': 4,\n",
       " 'CGATAACACAGGGCCGTCAATGCGGCCCTTTT': 484,\n",
       " 'GCCAACAGTGAATCGCAGCAACCTCCCATCTGG': 485,\n",
       " 'TGGGGTGATTCCAATTGCCGCACGGAACGCCG': 98,\n",
       " 'AGTATTAACTGCGGTGGCAGTGAGGCCAATAG': 486,\n",
       " 'GCCGGAATAGGCACAGATCGATTGCTACCGTT': 487,\n",
       " 'GAAATGCTGGTAAGCGTTAATGCCGCAAACAC': 2,\n",
       " 'GCATCTGGCGCATCTTCAGAATTCTCGAATAC': 488,\n",
       " 'ATTACGCCTTTTTGCGATTGCCAGGTTTTTGC': 0,\n",
       " 'ATTACGCCTTTTTCCGATTGCCCGGTTTTTCC': 0,\n",
       " 'TATTTCTGTAATGCTCAAAGATATAGCCGGAT': 489,\n",
       " 'CAAGTGATATCCATCATTGCATCCAGTGCGCC': 32,\n",
       " 'TGGCTTTGCAACAGCAGCACCCATGACCACGT': 1,\n",
       " 'CCGACCGCTGCGCCTTATCCGGTAACTATCGT': 490,\n",
       " 'CGCTGCGGGCTTTGGCTTCCTAGACCTC': 491,\n",
       " 'CAACAGCATCGTCAGTGCGATTCGTCTGCACACGG': 492,\n",
       " 'AGGAAGTTCTTAAAGCCGGTACCGGCGATTTC': 493,\n",
       " 'ATTACGCCTTTTTGCGATTGTCCGGTTTTTGC': 0,\n",
       " 'ATTACGCCTTTTTGCGATTGCCCGGTTTTGC': 0,\n",
       " 'TCGGTTCAGGCGCTGCAAACCTGGCTACCGGG': 6,\n",
       " 'TAGTTTCCGTATCTCCGGATTTATAAAGCTG': 15,\n",
       " 'ATAGACCCCGAACAACAATACGCGCAAACCGG': 19,\n",
       " 'AATGGAGCGCACGCCATGACCATAACCATCCG': 494,\n",
       " 'GTCTGCGAAAGCAGGACCTGCAGGCATGCAAG': 495,\n",
       " 'TTTATACACGGATCCTGTGTGCCGTGGACCGC': 496,\n",
       " 'GCGACCGCTCAGAAATTCCAGACCCGATCCGAA': 13,\n",
       " 'TGGCTCTGCAACAGCAGCACCCATGACCACTT': 1,\n",
       " 'TCGAACCTGCTTTTCTTAGTGCGCGCAACGTC': 54,\n",
       " 'CCCTGAAGATGTGGAATACATCATTCCCGCTGTGAAAGACGTCGTCACCTACCTCCG': 497,\n",
       " 'AACGTAAGGTTGTCGCCGCTCTGCGTGGTCGC': 20,\n",
       " 'TTTACGCCTTTTTGCGATTGCCCGGTTTTTGC': 0,\n",
       " 'CTGTTTTCGCAGATCTATGGACTATTGCTATT': 4,\n",
       " 'GTCGCCGGGTTGATTCTCCATGATGATTTTTA': 84,\n",
       " 'ATTACGCCTTTTTGCGATTGCCTGGTTTTTGC': 0,\n",
       " 'TACCGTACAGACTGCCGGATTTTATTTTTTTG': 24,\n",
       " 'CAATCTGGGCGACCGGTCATCATCGCTTCGATT': 7,\n",
       " 'AACGGTACGCGCCTGCTCGTCAATCGCCCCCA': 498,\n",
       " 'GAATCAATTATGTGTTGCATAGCGTCCGCGCT': 499,\n",
       " 'TCGGTTCAAGCGTTGCAAACCTGGCTACCGGG': 6,\n",
       " 'CCGCCGTTGGCACCGTCAAACTCCGGTACTGC': 74,\n",
       " 'AATACGGGATAATACCGCGCCACATAGCAGAA': 500,\n",
       " 'TCCAGTAGTGCATGAACACCTTCATAACATCG': 501,\n",
       " 'AAAGATTGAGGGGCCGGAAATGGCACTAACAC': 502,\n",
       " 'AGCCGCAAAGTGCTTGGGATCACCGGCAGGGC': 503,\n",
       " 'ATTACGCCTTTTTGCGATTGCCCAGTTTTTGC': 0,\n",
       " 'AGCGTGTTCGGCATCACCTTTGGCTTCGGCTC': 14,\n",
       " 'ATAGCCACGGCGATCGGCGTCGAACCGTGGAT': 30,\n",
       " 'GCAAGCTTTCCCTATAGTGAGTCGTATTAGAG': 504,\n",
       " 'GACAGAACGGCCTCAGTAGTCTTGTCAGGCTC': 3,\n",
       " 'TACCGTACAGACTGCCGGATATCATTTTTTTG': 24,\n",
       " 'ATATGTTTCCGCCGCATCAATCAGCCATTCAA': 505,\n",
       " 'CGTATTCGTCACACAGCCCCGTCCAGAAATGA': 506,\n",
       " 'CCGGGGGATAATTTTTACGGTCATGCGCCCCC': 10,\n",
       " 'GTTACGCCTTTTTGCGATTGCCCGGTTTTTGC': 0,\n",
       " 'TTTTTGGCGGTCATTTTGATGGCTACTGCGTT': 507,\n",
       " 'TGGCAAAACAAACATCGGGGTGCGCGTGGTGC': 195,\n",
       " 'GCAGGCGGCGACGCGCAGGGTATGCGCGATTTG': 8,\n",
       " 'ATTACGCCTTTTTGCGATTGCCCGGTTTTCGC': 0,\n",
       " 'ATTTTGCTGGGAGTCATTCCCAGCTCCGTAAT': 508,\n",
       " 'TGGCTCTGCAACAGCAGCACCCGTGACCACGT': 1,\n",
       " 'TTGCGCTCGTATCTTTACCTATGCCATATTGT': 509,\n",
       " 'TAGTTTCCGTATCTCCGGATTTAAAAAGCTGA': 15,\n",
       " 'CTGTTTTCGCAAATTTATGGACTATTGCTATT': 4,\n",
       " 'GACAGAACGGCCTCAGTAGTCTCGTCAGGCTT': 3,\n",
       " 'GACAGAACGGCCTTAGTAGTCTCGTCAGGCTC': 3,\n",
       " 'CTGTTTTCACAAATCTATGGACTATTGCTATT': 4,\n",
       " 'GCTATCACCGAGTGCAGTAGCCCGCGCGCGCT': 193,\n",
       " 'GTAGTCCATCATTCCACCTATGTCTGGACTCC': 5,\n",
       " 'TGAAAGATGCCGTCAACACGTTCAGCAAGGAA': 510,\n",
       " 'CTGTGAAACGAACGGCTCAATAGCGCGACCGG': 511,\n",
       " 'TTTTACAGTGTCAACAATCGTTCCCTGATTGC': 47,\n",
       " 'TCGGTTCAGGCGTCGCAAACCTGGCTACCGGG': 6,\n",
       " 'GAAGTGCTGGTGAGCGTTAATGCCGCAAACAC': 2,\n",
       " 'CACGATCAGGTTCAGGGTGACGGTGTAACCAC': 512,\n",
       " 'ATTACGCCTTTTTGCGATTGCCCGGATTTTGC': 0,\n",
       " 'GGGACCGCTCAGAAATTCCAGACCCGATCCAAA': 13,\n",
       " 'GCGACCGCTCAAAAATTCCAGACCCGATCCAAA': 13,\n",
       " 'AAGCTGGCTGGCAATCTCTTTCGGGGTAAGTC': 9,\n",
       " 'CAATCTGGGCGACCGGTCATCATCGCTTTGATG': 7,\n",
       " 'AAGCTGGCTGGCAATCTCCTTCGGGGTGAGTC': 9,\n",
       " 'CTGTTTTCGCAAATCTATGGACTGTTGCTATT': 4,\n",
       " 'CAGAACATACTTCAAAGCCCGAGCGTACACG': 17,\n",
       " 'ATCATGATAACGCCGCTGTGATTCATCCCCGT': 70,\n",
       " 'CTCGGTCGCCGCATACACTATTCTCAGAATGA': 513,\n",
       " 'TGGTTATCGTTGGTAACATCCTCGCCGGTTTG': 514,\n",
       " 'TCAACATTATCAACTACAACCGACAGGGAGCC': 11,\n",
       " 'TGCAAAAGCTGCACATACAAGCTGCCATCGTC': 515,\n",
       " 'ATAACGCCTTTTTGCGATTGCCCGGTTTTTGC': 0,\n",
       " 'AGCGTGTTCGGCATCACCTTTGGCTTCGGTTG': 14,\n",
       " 'TTGCTCTGCAACAGCAGCACCCATGACCACGT': 1,\n",
       " 'GTAGTCCATCATTTCACCTATGTCTGAACTCC': 5,\n",
       " 'TGGCTCTGCAACAGCAGCACCCACGACCACGT': 1,\n",
       " 'GCGTCCACTTCGGGATTTGTGGCAGGGGGTTC': 60,\n",
       " 'CTGTTTTCGCAAATCTATAGACTATTGCTATT': 4,\n",
       " 'TTACCGAAGTAATGGTCGAAACACAGAATTTT': 516,\n",
       " 'GGTCCGGTCAATTTCCGGCATGAACAGCGGTA': 517,\n",
       " 'CTGTTTTCGCAAATCTGTGGACTATTGCTATT': 4,\n",
       " 'TTGATCGCCTCAGCTACCAGTAGATTGACCAC': 518,\n",
       " 'CCGGGGGAAAATGTTTACGGTCATGCGCCCCC': 10,\n",
       " 'CAGTAATTGCCCCCTCAGCATCATTAACCATG': 29,\n",
       " 'ATGCTTTTATTCGTCGCGTCTGGCTCAGATTG': 519,\n",
       " 'ATGCTTTTATTCGTCGCGTCTGGCTCAGATAG': 519,\n",
       " 'GGTGCTGGACCATTTCAAATTCACAATAGATT': 22,\n",
       " 'ACATGAATGTCGGTTCAGACCGTGCTTTTACC': 85,\n",
       " 'ATGCACATCTCTTCCGGCCGCTGGGTCTA': 520,\n",
       " 'CTGTTTTCGCAAATCTTTGGACTATTGCTATT': 4,\n",
       " 'GTCGCCGGGTTGATTTTCCATGATGACTTTTA': 84,\n",
       " 'ATAAACCCCGAACAACAATACGCGCAAACCGA': 19,\n",
       " 'GCAGGCGGCGACGCGCAGGGCATGCGCGATTCG': 8,\n",
       " 'TAGGCCTATAGAGACGAGCGTTCGTTAAAGAA': 18,\n",
       " 'CGCCGCGGACTCACGAGCGGGCCATCACAGAC': 372,\n",
       " 'ATTACGCCTTTTTGCGATTCCCCGGTTTTTGC': 0,\n",
       " 'TGGCTCTGCGACAGCAGCACCCATGACCACGT': 1,\n",
       " 'CTGCTGCTCAAGCTGGTGGAGTGCTGCTATAG': 16,\n",
       " 'CAATCTGGGCGACCGGTCACCATCGCTTCGATG': 7,\n",
       " 'ATTACGCCTTTTTCGGATTGCCCGGTTTTTGC': 0,\n",
       " 'ACTGATATTGATAAACGTCGACTCCCGTCGGG': 521,\n",
       " 'GGCATAGCCAGGCTGATCCGGCGACGGCCTTA': 459,\n",
       " 'TGAGGTATTCCGCCAGGGCGGACAATTTATCA': 522,\n",
       " 'TGGCTCTGCAACAGCAGCACCCATGAACACGT': 1,\n",
       " 'TCAACATTATCAGTTACAACCGACAGGGAGCC': 11,\n",
       " 'CTCACCGGGCGCGGATACGGCGGAGTTCGTAG': 523,\n",
       " 'ACCCACTCGTGCACCCAACTGATCTTCAGCAT': 524,\n",
       " 'ATTGCGCCTTTTTGCGATTGCCCGGTTTTTGC': 0,\n",
       " 'TGGCTCTGCAACAGCAGCACCCCTGACCACGT': 1,\n",
       " 'TAGGCCTATAGAGACGAGCGTTCGTTAAAGCC': 18,\n",
       " 'TGGCTCTGCAACAGCAGCACCTATGACCACGT': 1,\n",
       " 'GTCATCGACTGCGGCAGTCCACTCATCAATTG': 525,\n",
       " 'CCGGGGAATAATGTTTACGGTCATGCGCCCCC': 10,\n",
       " 'GTAGTCCATCATTCCACCTATGTCTAAACTCC': 5,\n",
       " 'GTAGACCATCATTCCACCTATGTCTGAACTCC': 5,\n",
       " 'ATTACGCCTTTTTGCGTTTGCCCGGTTTTTCC': 0,\n",
       " 'CTCAGCCTCAACTCCCAAACAGCCAATCTCTA': 526,\n",
       " 'GTAGTCCATCATTCCACCTATGTCTGAACTTC': 5,\n",
       " 'GTAGTCCATCATTCCACCTATTTCTGAACTCC': 5,\n",
       " 'GGCTATGCCAGCAATATTCAGCGTTGTGAACG': 527,\n",
       " 'GCGACCGCTCAGAAATTCCAGACCCGATCTAAA': 13,\n",
       " 'GTTCGCACGGTCATCCGTCCTTCAAGTTTGCG': 528,\n",
       " 'GCGACCGCCCAGAAATTCCAGACCCGATCCAAA': 13,\n",
       " 'GAGCTGAAGATCAAGGGCGCAGAAGAACAC': 529,\n",
       " 'GAAACGCTGGTGAGCGTTAATGCCGCAAACAC': 2,\n",
       " 'GGGTTCCCGTTCACTGACGAAATTGAGTGCGA': 530,\n",
       " 'AGTTCGCTGAGTAGCCTTTTTTCTGTGCCTAA': 531,\n",
       " 'GGTGAACCCCATCACCAAGAACATGAAGCCGT': 532,\n",
       " 'AAGCTGGCTGGCAATCTCTTTCGGGGTGAGAC': 9,\n",
       " 'CAAGTGATGTCCATCATCGCATCCATTGCGTC': 32,\n",
       " 'TCGATTCAGGCGTTGCAAACCTGGCTACCGGG': 6,\n",
       " 'GCAGGCGGCGACGCGCAGGGTATACGCGATTCG': 8,\n",
       " 'GAAATGCTGGTGAGCGTTAATGCTGCAAACAC': 2,\n",
       " 'GGATTGCAGGCATCAGGTGATATCGCCAAAAC': 533,\n",
       " 'TGGCAAAACAAACCTCGGGGTACGCGTGGTGC': 195,\n",
       " 'CGTCCGGATCGGTTTCGAGAATCTCTACGCAT': 91,\n",
       " 'CAATCTGGGCGACCGGTCATCATCGCTTCAATG': 7,\n",
       " 'CCTCTGCCTGTAATTCAGCTTCACTGTCAGTG': 534,\n",
       " 'TTCAAGTCGGCGCGCATCAAAATCATTTAATT': 535,\n",
       " 'GCTGAGGCTGTCAGGAGCCAGTGCGGCAGAGG': 536,\n",
       " 'GCTGATCTACATCGTCGGCCTGTTTCCCATGT': 537,\n",
       " 'ATAGACCCCGAACAACAATACGCGCAAACCGC': 19,\n",
       " 'ATCACTCTGACTATCGGCGGCGTGGATGTGGT': 538,\n",
       " 'TCCGGGCCATCCATACACCTTCTTAACCCGGC': 539,\n",
       " 'TACGCCAGCCACCTGCTTCGCCAGCCGTTCGG': 540,\n",
       " 'GCAACGAGCCGTCCTACGTGGTCAATACCGCCGAGGTTCTGGGCGAAACCATGGGGAT': 541,\n",
       " 'ACTACGCCTTTATGCGATTGCCCGGTTTTTGC': 0,\n",
       " 'ATTACGCCTTTTTGCGATTGCCCGGTGTTTGC': 0,\n",
       " 'CAATCTGGGCAACCGGTCATCATCGCTTCGATG': 7,\n",
       " 'GAGTTCGAGCGCCGCATCCGGCGTGAGATCGC': 542,\n",
       " 'CTGTTCTCGCAAATCTATGGACTATTGCTATT': 4,\n",
       " 'GCAGGGTCGGAACAGGAGAGCGCACGAGGGAG': 543,\n",
       " 'GTTTATTCGCACTCTGCCAGTTATCCGGGTTA': 544,\n",
       " 'GGCGTCCCATTCGATCCGCTGGTTTTCGATGA': 545,\n",
       " 'CCGGGTGATAATGTTTACGGTCATGCGCCCCC': 10,\n",
       " 'ATAGACCCCGAACAGCAATACGCGCAAACCGA': 19,\n",
       " 'ATTTGTCGCCGTATGAGTTTTACGCGCCGTCT': 546,\n",
       " 'TGCTGGATGAGTTTATCGAACACAGAGCGGAG': 547,\n",
       " 'CAATCTGGGCGACCGGTCATAATCGCTTCGATG': 7,\n",
       " 'AAGCTGGCTGGCAATCTCTTTTGGGGTGAGTC': 9,\n",
       " 'TACTCAATGGCAACCGTCACGGCCTGTCCTGG': 548,\n",
       " 'ATGCAATGGGGAATAAGTGGCGGGTAAATCAA': 549,\n",
       " 'GTAGTCCATCATTCCACCTATGTTTGAACTCC': 5,\n",
       " 'GCGACCGCTCAGAAATTCCAGACCCGATCCAAC': 13,\n",
       " 'TCAACATTTTCAATTACAACCGACAGGGAGCC': 11,\n",
       " 'CCGGGGGATAATGTTTTCGGTCATGCGCCCCC': 10,\n",
       " 'ATTACGCCTTTTTGCGATTGCTCGGTTTTTGC': 0,\n",
       " 'TGCATGGCTTTGGCTTCCTCTTTGACGGACGT': 34,\n",
       " 'GCCTGACATTGCAGACGTTACAAATTGAGAAG': 27,\n",
       " 'CCGGGGGATAATGTTTACGGCCATGCGCCCCC': 10,\n",
       " 'TGGTTGAGTACTCACCAGTCACAGAAAAGCAT': 550,\n",
       " 'CTGTTTTCGCAAATCTATGGACTATTGCTACT': 4,\n",
       " 'TTTGCCACCCGAGTCCATAAATTCTTGATATG': 551,\n",
       " 'GGAATGCTGGTGAGCGTTAATGCCGCAAACAC': 2,\n",
       " 'GGCATCGCATCCCGCTCAACAGCATTGGCCGC': 552,\n",
       " 'CCAGGTTTGGAACTCGGGCCGGATGACCATGA': 180,\n",
       " 'TACCAGACGCAGAGTGCCACACAGGTCTGGTA': 553,\n",
       " 'AGCGTGTTCGGCATAACCTTTGGCTTCGGCTG': 14,\n",
       " 'GACAACGATCGGAGGACCGAAGGAGCTAACCG': 554,\n",
       " 'TTCCTGATCCATGATGGTGAACAATATTTAAC': 555,\n",
       " 'GGCTATGCCAGCAATATTCAGCGTTGGGAACG': 527,\n",
       " 'TCATCATTATCTGGATTATCTAATTCGTCAGC': 556,\n",
       " 'TACCAAACCGGAATCGCTCCATATAACGGCGG': 557,\n",
       " 'AGTGCTGGACCATTTCAAATTCACAATAGAAT': 22,\n",
       " 'GACGGAACGGCCTCAGTAGTCTCGTCAGGCTC': 3,\n",
       " 'GGCTATACCGATTACCCACCGTTGGACCGCTGAGTTCAATGCGGTGCCTGCC': 558,\n",
       " 'CTTAAGGAATGCGCGAAGAGACAGAAACAAAC': 559,\n",
       " 'GACAGAACGGCCTCAGCAGTCTCGTCAGGCTC': 3,\n",
       " 'ACGGCAACGGATGCGACCGCCAGCGCGATCCC': 560,\n",
       " 'GCGGGATCGTCACCCTCAGCAGCGAAAGACAG': 561,\n",
       " 'CGGCGAAAGCGGATGCGTTCACCAATGGTCAT': 562,\n",
       " 'TCGGTTAAGGCGTTGCAAACCTGGCTACCGGG': 6,\n",
       " 'TTTACCCTCAGCGACGTAGTGTGCAAAATTCG': 563,\n",
       " 'ATATATCAGAGCAAAAAACAGAGCCACAGCCA': 40,\n",
       " 'CAGAACATACTTCAAAGCCCGAGGCGTACACC': 17,\n",
       " 'GTAGTCCATCATTCCACCTATGGCTGAACTCC': 5,\n",
       " 'ATAGACCCCAAACAACAATACGCGCAAACCGA': 19,\n",
       " 'ATAGTCCATCATTCCACCTATGTCTGAACTCC': 5,\n",
       " 'CAGCGCCAGGCGTGAAATCTCACCGTCGTTGC': 68,\n",
       " 'GAGGGTCTGGAAGCCCTACCAGAAGCGGAGCA': 46,\n",
       " 'GAAATGCCGGTGAGCGTTAATGCCGCAAACAC': 2,\n",
       " 'TCGGTTCAGGCGTTGCAAACCTGGCTTCCGGG': 6,\n",
       " 'CAGGTTCGTAAAGGTGAACCCGGCACGACGGC': 41,\n",
       " 'GACAGAACGGCCTCAGGAGTCTCGTCAGGCTC': 3,\n",
       " 'CCGGGGGATAATGTTCACGGTCATGCGCCCCC': 10,\n",
       " 'AGCGTGTTCGGCATCACCTTTGGCTTCGGCCG': 14,\n",
       " 'GCACGCGGCGAACGGCGTCACGCTCGGGGGGAT': 83,\n",
       " 'CTGTTTTCGCGAATCTATGGACTATTGCTATT': 4,\n",
       " 'TCTCGATGGCTGTAAGTATCCTATAGGTTAGA': 564,\n",
       " 'GAAATGCTGGTGAGCGTTAATGCCGCAAGCAC': 2,\n",
       " 'TTTATAGTCCTGTCGGGTTTCGCCACCTCTGA': 565,\n",
       " 'GTATTCCATCATTCCACCTATGTCTGAACTCC': 5,\n",
       " 'GTGGAGGCTGCCTGATGCGCGAATTTCAGCAA': 566,\n",
       " 'GGTGTCGGTGACGGCGAGGCCGACCAGGTAGG': 567,\n",
       " 'ATTACGCCTTTTTGCGATTACCCGGTTTTTGC': 0,\n",
       " 'TTTTTTGCTGTTCTACTCATATCCTGAGATAA': 568,\n",
       " 'CCCTCACGCCGATTCGCCAAACGGTGGAGAAG': 160,\n",
       " 'CTGCTGCTCGAGCTGGTGGAGTGCTGCTATAC': 16,\n",
       " 'GCAGGCGGCGACGCGCAGGGTATGCGCGGTTCG': 8,\n",
       " 'TAAACCACCAGCCAGACCACCAATTACCGCAC': 51,\n",
       " 'CGAACTGGACGAACGGAACGGCGAAG': 569,\n",
       " 'TCGGTTCAGGCGTTGCAAGCCTGGCTACCGGG': 6,\n",
       " 'CTGTTTTCGCAAATCTATGGACTTTTGCTATT': 4,\n",
       " 'CCCGTCGTGTAGATAACTACGATACGGGAGGG': 570,\n",
       " 'GTAGTCCATCATTCCACCCATGTCTGAACTCC': 5,\n",
       " 'GAATGATCCCAAATTTGGGTTAAAGAACCAGT': 58,\n",
       " 'TGGGCGGCTTGCCTTGCGGCCAGCTCCAGCAG': 12,\n",
       " 'TGGCCCTGCAACAGCAGCCCCCATGACCACGT': 1,\n",
       " 'CGCTCCGCGTCGCCAAATTCCACACTAAACGA': 571,\n",
       " 'CCGGGGGATAATGTTTACGGTAATGCGCCCCC': 10,\n",
       " 'GCCGAAGAAAGACAGCGTGAGATACACGAAGG': 572,\n",
       " 'CCGGGGGCTAATGTTTACGGTCATGCGCCCCC': 10,\n",
       " 'CTGTTTTCGCAAATCTATGGACTATTGTTATT': 4,\n",
       " 'AAGCTGGCTGGCAATCTCTTTCGGGGCGAGTC': 9,\n",
       " 'GACAGAACGGCCTCAGTAATCTCGTCAGGCTC': 3,\n",
       " 'TGCACTCTTCAGGAATGACTCACCATCAGGGT': 573,\n",
       " 'GGACTTCTTCGCCGATTCTCTTCGCGAGCT': 574,\n",
       " 'GCGGGCGTTAACGGGGTGATACTGTTTGACGG': 23,\n",
       " 'CTGTTTTCGCAAATCTATTGACTATTGCTATT': 4,\n",
       " 'CCGGGGGATAATGTTTATGGTCATGCGCCCCC': 10,\n",
       " 'TGAACACCCGCACTGCGGAGTACAAGAAAATC': 575,\n",
       " 'GGCCCCGGAACATCTGCCGCAGTGCGATACCC': 576,\n",
       " 'GACAGAACGGCCTCAGTAGTTTCGTCAGGCTC': 3,\n",
       " 'TCCCAGGCGAAGTTTCAGCCACTCTGGAGTGC': 577,\n",
       " 'ATCAGCGGATGAACATTAGGGTAAAAAACAGG': 578,\n",
       " 'GCGACCGCTCAGAAACTCCAGACCCGATCCAAA': 13,\n",
       " 'AGCGTGTTCGGCATCACCTCTGGCTTCGGCTG': 14,\n",
       " 'AGCGTGTTCGGCACCACCTTTGGCTTCGGCTG': 14,\n",
       " 'CAATCTGGGCGACCGGTCATCATCACTTCGATG': 7,\n",
       " 'CCTGGGGTTGTCTGTTTCGTGACGCTCGGTAA': 75,\n",
       " 'GAAATGCTGGTGAACGTTAATGCCGCAAACAC': 2,\n",
       " 'ATTTCGCCTTTTTGCGATTTCCCGGTTTTTGC': 0,\n",
       " 'AGTCATGAGCCACCATCGGTATTGTGGATATA': 579,\n",
       " 'TTACTGCTTGGTATGCGGAATCACACCCTGAA': 580,\n",
       " 'ATAGACCCCGAACAACAATACGCGCAAACCAA': 19,\n",
       " 'AAGCTGGCTGGCAGTCTCTTTCGGGGTGAGTC': 9,\n",
       " 'ATTACCCCTTTTTGCGATTGCCCGGTTTTTCC': 0,\n",
       " 'TGGGCGGCTTGCCTTGCAGCCGGCTCCAGCAG': 12,\n",
       " 'ATTACGCCTTTTTGCGATTGGCCGGTTTTTGC': 0,\n",
       " 'TAGGCCTATAGAGACGTGCGTTCGTTAAAGCA': 18,\n",
       " 'GACAGAACGGCCTCAGAAGTCTCGTCAGGCTC': 3,\n",
       " 'GAAACTCTCTGAGAATCCGTCAGCAAAAATAC': 581,\n",
       " 'AGCAGCGCGTAAACCAGATCGCCGATCGTGGC': 582,\n",
       " 'GGCACGACATTCAGCAGTGCAGATAAATCGGC': 583,\n",
       " 'GAAATGCTGGTGAGCGTTAATGCCGCAAACGC': 2,\n",
       " 'AGCATTGGTAACTGTCAGACCAAGTTTACTCA': 584,\n",
       " 'GAAATTCTGGTGAGCGTTAATGCCGCAAACAC': 2,\n",
       " 'GAAGTCCATCATTCCACCTATGTCTGAACTCC': 5,\n",
       " 'CAGGACGAAAGGCTGCAGAGCCTGCTGAATGA': 585,\n",
       " 'TGGCTCTGCAACAGCCGCACCCATGACCACGT': 1,\n",
       " 'TCAGCATTATCAATTACAACCGACAGGGAGCC': 11,\n",
       " 'TGGCTCTGCAACAGCAGCCCCCATGACCCCGT': 1,\n",
       " 'GGCGCCGTCACGCTCAACAAGAGCGACGTGGG': 586,\n",
       " 'TAGTTTCCGTATCTCCGGATTTATAAAGCTGG': 15,\n",
       " 'TAACCATGAGTGATAACACTGCGGCCAACTTA': 587,\n",
       " 'GCAGGCGGCGACCCGCAGGGTATGCGCGATTCG': 8,\n",
       " 'TAGTTTCCGTATCTCCGGATTTATAAAGCTAA': 15,\n",
       " 'GCAGTGGTGAGGTCGGGAAGCGCGGTTGAGTC': 588,\n",
       " 'GTAGTCCATCATTCCACCTATGTCCGAACTCC': 5,\n",
       " ...}"
      ]
     },
     "execution_count": 27,
     "metadata": {},
     "output_type": "execute_result"
    }
   ],
   "source": [
    "r.spacer_to_cluster_index"
   ]
  },
  {
   "cell_type": "code",
   "execution_count": null,
   "metadata": {
    "collapsed": true
   },
   "outputs": [],
   "source": []
  },
  {
   "cell_type": "markdown",
   "metadata": {},
   "source": [
    "### embs"
   ]
  },
  {
   "cell_type": "code",
   "execution_count": 40,
   "metadata": {
    "collapsed": true
   },
   "outputs": [],
   "source": [
    "ec =ca.EmbeddingsCalculator()\n",
    "ec.make_argsorts(gr[:cut, :cut])\n",
    "embs = ec.fit_predict(gr[:cut, :cut], njobs=32)"
   ]
  },
  {
   "cell_type": "code",
   "execution_count": 41,
   "metadata": {
    "collapsed": true
   },
   "outputs": [],
   "source": [
    "embs = ec.fit_predict(gr[:cut, :cut], njobs=32)"
   ]
  },
  {
   "cell_type": "code",
   "execution_count": 17,
   "metadata": {
    "collapsed": true
   },
   "outputs": [],
   "source": [
    "#embs = np.load(\"../../../Ecoli_env/m2/out/embs.npy\")\n",
    "np.save(\"/home/rykachevskiy/CRISPR_research/data/environmental/c2/out/embs\", embs)\n"
   ]
  },
  {
   "cell_type": "code",
   "execution_count": 15,
   "metadata": {},
   "outputs": [
    {
     "data": {
      "text/plain": [
       "'/home/rykachevskiy/CRISPR_research/data/environmental/c2/out/pairs/cat2_L001_R1_001.fastq.gz_pairs.txt'"
      ]
     },
     "execution_count": 15,
     "metadata": {},
     "output_type": "execute_result"
    }
   ],
   "source": [
    "path"
   ]
  },
  {
   "cell_type": "code",
   "execution_count": 42,
   "metadata": {
    "collapsed": true
   },
   "outputs": [],
   "source": [
    "gb = pickle.load(open(\"./gb_rep_to_rep\", 'rb'))"
   ]
  },
  {
   "cell_type": "code",
   "execution_count": 44,
   "metadata": {
    "collapsed": true
   },
   "outputs": [],
   "source": [
    "preds = gb.predict_proba(embs)[:,1].reshape(gr[:cut, :cut].shape)"
   ]
  },
  {
   "cell_type": "code",
   "execution_count": null,
   "metadata": {
    "collapsed": true
   },
   "outputs": [],
   "source": []
  },
  {
   "cell_type": "code",
   "execution_count": 45,
   "metadata": {
    "scrolled": false
   },
   "outputs": [
    {
     "data": {
      "image/png": "[encoded data removed]",
      "text/plain": [
       "<matplotlib.figure.Figure at 0x7f3564099f28>"
      ]
     },
     "metadata": {},
     "output_type": "display_data"
    }
   ],
   "source": [
    "cut = 100\n",
    "ca.plot_grs(gr[:cut,:cut], preds[:cut,:cut] > 0.5, log =1, s = 20)"
   ]
  },
  {
   "cell_type": "code",
   "execution_count": null,
   "metadata": {
    "collapsed": true
   },
   "outputs": [],
   "source": []
  },
  {
   "cell_type": "code",
   "execution_count": 62,
   "metadata": {},
   "outputs": [
    {
     "data": {
      "text/plain": [
       "(array([497]),)"
      ]
     },
     "execution_count": 62,
     "metadata": {},
     "output_type": "execute_result"
    }
   ],
   "source": [
    "np.where(gr.max(1) == 26)"
   ]
  },
  {
   "cell_type": "code",
   "execution_count": 64,
   "metadata": {},
   "outputs": [
    {
     "data": {
      "text/plain": [
       "array([94733,   101,   587,   458,   554,   482,   541,   211,   504,\n",
       "         266,   258,   164,   243,   447,    62,    53,    84,    63,\n",
       "          12,    13,     6,     1,     3,     3,     0,    12,    11,\n",
       "           2,     2,     4,     8,     2,     4,     5,     5,     5,\n",
       "           2,     8,     6,     4,     3,     4,    11,     4,     1,\n",
       "           4,     5,     0,     5,     3,     3,     1,     0,     3,\n",
       "           3,     5,     1,     1,     3,     1,     0,     0,     2,\n",
       "           0,     2,     0,     0,     1,     0,     1,     2,     0,\n",
       "           1,     0,     3,     0,     1,     0,     1,     1,     0,\n",
       "           0,     1,     0,     0,     0,     1,     0,    39,     0,\n",
       "           6,     2,     0,     0,     1,     1,     0,     1,     0,\n",
       "           0,     0,     0,     0,     0,     0,     0,     0,     1,\n",
       "           0,     0,     0,     0,     1,     0,     0,     0,     0,\n",
       "           0,     0,     0,     2,     0,     0,     0,     0,     1,\n",
       "           0,     0,     0,     0,     0,     0,     0,     0,     0,\n",
       "           1,     1,     0,     0,     0,     0,     1,     0,     0,\n",
       "           0,     0,     0,     0,     0,     1,     0,     0,     0,\n",
       "           0,     0,     0,     0,     0,     0,     0,     0,     0,\n",
       "           0,     0,     0,     0,     0,     0,     0,     0,     0,\n",
       "           0,     0,     0,     0,     0,     1,     0,     0,     0,\n",
       "           0,     0,     0,     0,     0,     0,     0,     0,     0,\n",
       "           0,     0,     0,     1,     0,     0,     0,     0,     0,\n",
       "           0,     0,     0,     0,     0,     0,     0,     0,     0,\n",
       "           0,     0,     0,     0,     0,     0,     0,     0,     0,\n",
       "           0,     0,     0,     0,     0,     0,     0,     0,     0,\n",
       "           0,     0,     0,     0,     0,     0,     0,     0,     0,\n",
       "           0,     0,     0,     0,     0,     0,     0,     0,     0,\n",
       "           0,     0,     0,     0,     0,     0,     0,     0,     0,\n",
       "           0,     0,     0,     0,     0,     2,     1,     0,     0,\n",
       "           0,     0,     0,     0,     0,     0,     0,     0,     4,\n",
       "           0,     0,     0,     0,     0,     0,     0,     0,     0,\n",
       "           0,     0,     0,     0,     0,     0,     0,     0,     0,\n",
       "           0,     0,     0,     0,     0,     0,     0,     0,     1,\n",
       "           0,     0,     0,     0,     0,     0,     0,     0,     0,\n",
       "           0,     0,     0,     0,     0,     0,     1,     0,     0,\n",
       "           3,     0,     0,     0,     0,     0,     0,     0,     0,\n",
       "           0,     0,     0,     0,     0,     0,     0,     0,     0,\n",
       "           0,     0,     0,     0,     0,     0,     0,     0,     0,\n",
       "           0,     0,     0,     0,     0,     0,     0,     1,     0,\n",
       "           0,     0,     0,     1,     0,     0,     0,     0,     0,\n",
       "           0,     0,     0,     2,     0,     0,     0,     0,     0,\n",
       "           0,     0,     0,     0,     0,     0,     0,     0,     0,\n",
       "           2,     0,     0,     0,     0,     0,     0,     0,     0,\n",
       "           0,     0,     0,     0,     0,     2,     0,     0,     0,\n",
       "           0,     0,     0,     0,     0,     0,     0,     0,     0,\n",
       "           0,     0,     0,     0,     0,     0,     0,     0,     0,\n",
       "           0,     0,     0,     0,     0,     0,     1,     0,     0,\n",
       "           0,     0,     0,     0,     0,     0,     0,     0,     0,\n",
       "           0,     0,     0,     0,     0,     0,     0,     0,     0,\n",
       "           0,     0,     0,     0,     0,     0,     0,     2,     0,\n",
       "           0,     0,     0,     0,     0,     0,     0,     0,     0,\n",
       "           0,     0,     0,     0,     0,     0,     0,     0,     0,\n",
       "           0,     0,     0,     0,     0,     0,     0,     0,     0,\n",
       "           0,     0,     0,     0,     1,     0,     0,     0,     0,\n",
       "           0,     0,     0,     0,     0,     0,     1,     0,     0,\n",
       "           0,     0,     0,     0,     0,     0,     0,     0,     0,\n",
       "           0,     0,     0,     1,     0,     0,     0,     0,     0,\n",
       "           0,     0,     1,     0,     0,     0,     0,     0,     0,\n",
       "           1,     0,     0,     0,     0,     0,     0,     0,     0,\n",
       "           0,     0,     0,     0,     0,     0,     0,     0,     0,\n",
       "           0,     0,     0,     0,     0,     0,     0,     0,     0,\n",
       "           0,     0,     0,     0,     0,     1,     0,     0,     0,\n",
       "           0,     0,     0,     0,     0,     0,     0,     0,     0,\n",
       "           0,     0,     0,     0,     0,     0,     0,     0,     0,\n",
       "           0,     0,     0,     0,     0,     0,     0,     0,     0,\n",
       "           0,     0,     0,     0,     0,     0,     0,     0,     0,\n",
       "           0,     0,     0,     0,     0,     0,     0,     0,     0,\n",
       "           0,     0,     0,     0,     0,     0,     0,     0,     0,\n",
       "           0,     0,     0,     0,     0,     0,     0,     0,     0,\n",
       "           0,     0,     0,     0,     0,     0,     0,     0,     0,\n",
       "           0,     0,     0,     0,     0,     0,     0,     0,     0,\n",
       "           0,     0,     0,     0,     0,     0,     0,     0,     0,\n",
       "           0,     0,     0,     0,     0,     0,     0,     0,     0,\n",
       "           0,     0,     0,     0,     0,     0,     0,     0,     0,\n",
       "           0,     0,     0,     0,     1,     0,     0,     0,     0,\n",
       "           0,     0,     0,     0,     0,     0,     0,     0,     0,\n",
       "           0,     0,     0,     0,     0,     0,     0,     0,     0,\n",
       "           0,     0,     0,     0,     0,     0,     0,     0,     0,\n",
       "           0,     1,     0,     0,     0,     0,     0,     0,     0,\n",
       "           0,     0,     0,     0,     0,     0,     0,     0,     0,\n",
       "           0,     0,     0,     0,     0,     0,     0,     0,     0,\n",
       "           0,     0,     0,     0,     0,     0,     0,     0,     0,\n",
       "           0,     0,     0,     0,     0,     0,     0,     0,     0,\n",
       "           0,     0,     0,     0,     0,     0,     0,     0,     0,\n",
       "           0,     0,     0,     0,     0,     0,     0,     0,     0,\n",
       "           0,     0,     0,     0,     0,     0,     0,     0,     0,\n",
       "           0,     0,     0,     0,     1,     0,     0,     0,     0,\n",
       "           0,     0,     0,     0,     0,     0,     0,     0,     0,\n",
       "           0,     0,     0,     0,     0,     0,     0,     0,     0,\n",
       "           0,     0,     0,     0,     0,     0,     0,     0,     0,\n",
       "           0,     0,     0,     0,     0,     0,     0,     0,     0,\n",
       "           0,     0,     0,     0,     0,     0,     0,     0,     0,\n",
       "           0,     0,     0,     0,     0,     0,     0,     0,     0,     0])"
      ]
     },
     "execution_count": 64,
     "metadata": {},
     "output_type": "execute_result"
    }
   ],
   "source": [
    "gr[1]"
   ]
  },
  {
   "cell_type": "code",
   "execution_count": null,
   "metadata": {
    "collapsed": true
   },
   "outputs": [],
   "source": []
  },
  {
   "cell_type": "code",
   "execution_count": 48,
   "metadata": {},
   "outputs": [
    {
     "data": {
      "image/png": "[encoded data removed]",
      "text/plain": [
       "<matplotlib.figure.Figure at 0x7f356fc6b2e8>"
      ]
     },
     "metadata": {},
     "output_type": "display_data"
    },
    {
     "data": {
      "image/png": "[encoded data removed]",
      "text/plain": [
       "<matplotlib.figure.Figure at 0x7f356fbfaf98>"
      ]
     },
     "metadata": {},
     "output_type": "display_data"
    }
   ],
   "source": [
    "plt.figure(figsize = (10, 6))\n",
    "plt.bar(np.arange(cut), gr[0][:cut] + 1)\n",
    "plt.show()"
   ]
  },
  {
   "cell_type": "code",
   "execution_count": 24,
   "metadata": {
    "scrolled": true
   },
   "outputs": [
    {
     "data": {
      "text/plain": [
       "array([   91,   409,   389,   367,   389,   468,   458, 65513,   738,\n",
       "         519,   250,   234,   185,   652,    96,   248,    59,   168,\n",
       "           4,     7,    16,     3,     7,    21,    10,    14,     6,\n",
       "          23,    26,    15,    11,    11,    11,     8,    26,    10,\n",
       "          11,    16,    19,    12,     7,    12,    10,     2,    10,\n",
       "           1,     2,     4,     3,     3,    12,     2,     0,     1,\n",
       "           3,     3,     1,     1,     0,     1,     0,     0,     0,\n",
       "           0,     0,     0,     0,     0,     0,     2,     0,     1,\n",
       "           0,     0,     1,     0,     1,     2,     0,     3,     0,\n",
       "           0,     1,     1,     2,     2,     2,     0,     1,     0,\n",
       "           0,     0,     0,     1,     0,     0,     3,     2,     0,\n",
       "           0,     0,     1,     1,     0,     2,     1,     0,     0,\n",
       "           0,     1,     1,     0,     0,     1,     0,     0,     0,\n",
       "           1,     0,     0,     0,     0,    17,     0,     1,     1,\n",
       "           0,     0,     0,     1,     0,     0,     0,     0,     0,\n",
       "           1,     0,     0,     0,     0,     0,     0,     0,     0,\n",
       "           1,     2,     2,     0,     0,     0,     0,     0,     0,\n",
       "           0,     0,     0,     0,     0,     1,     0,     0,     0,\n",
       "           0,     0,     0,     0,     0,     0,     0,     0,     0,\n",
       "           0,     0,     0,     0,     0,     4,     0,     0,     0,\n",
       "           0,     0,     0,     0,     1,     0,     0,     0,     0,\n",
       "           0,     0,     0,     0,     0,     0,     0,     0,     0,\n",
       "           0,     1,     0,     1,     0,     0,     0,     0,     0,\n",
       "           0,     0,     0,     1,     0,     0,     0,     0,     0,\n",
       "           1,     0,     0,     0,     0,     0,     0,     0,     0,\n",
       "           0,     0,     1,     0,     0,     0,     0,     0,     0,\n",
       "           0,     0,     0,     0,     0,     0,     0,     0,     0,\n",
       "           0,     0,     0,     0,     0,     0,     0,     0,     0,\n",
       "           0,     0,     1,     0,     0,     0,     0,     0,     0,\n",
       "           0,     0,     1,     0,     0,     0,     1,     0,     0,\n",
       "           0,     0,     0,     0,     0,     0,     0,     0,     0,\n",
       "           0,     0,     0,     0,     0,     0,     0,     0,     1,\n",
       "           0,     0,     0,     0,     2,     1,     0,     4,     0,\n",
       "           1,     0,     1,     0,     1,     0,     0,     0,     0,\n",
       "           0,     0,     0,     0,     0,     0,     0,     0,     0,\n",
       "           0,     1,     0,     0,     0,     0,     0,     0,     0,\n",
       "           0,     0,     0,     0,     1,     0,     0,     0,     0,\n",
       "           0,     0,     0,     3,     1,     0,     0,     0,     0,\n",
       "           0,     1,     0,     0,     0,     0,     0,     0,     0,\n",
       "           0,     0,     0,     0,     0,     0,     0,     0,     0,\n",
       "           1,     0,     0,     0,     0,     0,     0,     0,     0,\n",
       "           0,     0,     0,     0,     0,     0,     0,     0,     0,\n",
       "           0,     0,     0,     0,     0,     0,     0,     0,     0,\n",
       "           2,     0,     0,     0,     0,     0,     0,     0,     0,\n",
       "           0,     0,     0,     0,     0,     0,     0,     0,     0,\n",
       "           0,     0,     0,     0,     0,     0,     0,     0,     0,\n",
       "           0,     0,     0,     0,     0,     0,     0,     0,     0,\n",
       "           0,     0,     0,     1,     0,     0,     0,     0,     0,\n",
       "           0,     0,     0,     0,     0,     0,     0,     0,     0,\n",
       "           0,     2,     0,     0,     0,     0,     0,     0,     0,\n",
       "           0,     0,     0,     0,     0,     0,     0,     0,     1,\n",
       "           0,     0,     0,     0,     0,     0,     0,     0,     0,\n",
       "           0,     0,     0,     0,     0,     0,     0,     0,     0,\n",
       "           1,     0,     0,     0,     0,     0,     0,     0,     0,\n",
       "           0,     0,     1,     0,     0,     0,     0,     0,     0,\n",
       "           1,     0,     0,     0,     0,     0,     0,     0,     0,\n",
       "           0,     0,     0,     0,     0,     0,     0,     0,     0,\n",
       "           0,     0,     0,     0,     0,     0,     0,     0,     0,\n",
       "           0,     0,     0,     0,     0,     0,     0,     0,     0,\n",
       "           1,     0,     2,     0,     0,     0,     0,     0,     0,\n",
       "           0,     0,     0,     0,     0,     0,     0,     0,     0,\n",
       "           0,     0,     0,     0,     1,     0,     0,     0,     0,\n",
       "           1,     0,     0,     0,     0,     0,     0,     0,     0,\n",
       "           0,     0,     0,     0,     0,     0,     0,     0,     0,\n",
       "           0,     0,     0,     0,     0,     0,     0,     0,     0,\n",
       "           0,     0,     0,     0,     0,     0,     0,     0,     0,\n",
       "           0,     0,     0,     0,     0,     0,     0,     0,     0,\n",
       "           0,     0,     0,     0,     0,     0,     0,     0,     0,\n",
       "           0,     0,     1,     0,     0,     1,     0,     0,     1,\n",
       "           0,     0,     0,     0,     0,     0,     0,     0,     0,\n",
       "           0,     0,     0,     0,     0,     0,     0,     0,     0,\n",
       "           0,     0,     0,     0,     0,     0,     0,     0,     0,\n",
       "           0,     0,     0,     0,     0,     0,     0,     0,     0,\n",
       "           0,     0,     0,     0,     0,     0,     0,     0,     0,\n",
       "           0,     0,     0,     0,     1,     0,     0,     0,     0,\n",
       "           0,     0,     0,     0,     0,     0,     0,     0,     0,\n",
       "           1,     0,     0,     0,     0,     0,     0,     0,     0,\n",
       "           0,     0,     0,     0,     0,     0,     0,     1,     0,\n",
       "           0,     0,     0,     0,     0,     0,     0,     0,     0,\n",
       "           0,     0,     0,     0,     0,     0,     0,     0,     0,\n",
       "           0,     0,     0,     1,     0,     0,     0,     0,     0,\n",
       "           0,     0,     0,     0,     0,     0,     0,     0,     0,\n",
       "           0,     0,     0,     0,     0,     0,     0,     0,     0,\n",
       "           0,     0,     0,     0,     0,     0,     0,     0,     0,\n",
       "           0,     0,     0,     0,     0,     0,     0,     0,     0,\n",
       "           0,     0,     0,     0,     0,     0,     0,     0,     0,\n",
       "           0,     0,     0,     0,     0,     0,     0,     0,     0,\n",
       "           0,     0,     0,     0,     0,     0,     0,     0,     0,\n",
       "           0,     0,     0,     0,     0,     0,     0,     0,     0,\n",
       "           0,     0,     0,     0,     0,     0,     0,     0,     0,\n",
       "           0,     0,     0,     0,     1,     0,     0,     0,     0,\n",
       "           0,     0,     0,     0,     0,     0,     1,     0,     0,\n",
       "           0,     0,     0,     0,     0,     0,     0,     0,     0,\n",
       "           0,     0,     0,     0,     0,     0,     0,     0,     0,\n",
       "           0,     0,     0,     0,     0,     0,     0,     0,     0,\n",
       "           0,     0,     0,     0,     0,     0,     0,     0,     0,\n",
       "           0,     0,     0,     0,     0,     0,     0,     0,     0,\n",
       "           0,     0,     1,     0,     0,     0,     0,     0,     0,\n",
       "           0,     0,     0,     0,     0,     0,     0,     0,     0,\n",
       "           0,     0,     0,     0,     0,     0,     0,     0,     0,\n",
       "           0,     0,     0,     0,     0,     0,     0,     0,     0,\n",
       "           0,     0,     0,     0,     0,     0,     0,     0,     0,\n",
       "           0,     0,     1,     0,     0,     0,     0,     0,     0,\n",
       "           0,     0,     0,     0,     0,     0,     0,     0])"
      ]
     },
     "execution_count": 24,
     "metadata": {},
     "output_type": "execute_result"
    }
   ],
   "source": [
    "gr[0]"
   ]
  },
  {
   "cell_type": "code",
   "execution_count": null,
   "metadata": {
    "collapsed": true
   },
   "outputs": [],
   "source": []
  },
  {
   "cell_type": "code",
   "execution_count": 34,
   "metadata": {},
   "outputs": [
    {
     "data": {
      "image/png": "[encoded data removed]",
      "text/plain": [
       "<matplotlib.figure.Figure at 0x7fca36186be0>"
      ]
     },
     "metadata": {},
     "output_type": "display_data"
    }
   ],
   "source": [
    "cut = 60\n",
    "ca.plot_gr(gr[:cut,:cut], log = 1, s = 30, save_path=\"./slo\", all_ticks=0)\n",
    "plt.show()"
   ]
  },
  {
   "cell_type": "code",
   "execution_count": 35,
   "metadata": {},
   "outputs": [
    {
     "data": {
      "text/plain": [
       "(array([877, 292,  79,  25,  13,   8,   7,   7,   7,   6]),\n",
       " array([ 31,  25,  74,  53, 242,   2,   4,  20, 190,   5]))"
      ]
     },
     "execution_count": 35,
     "metadata": {},
     "output_type": "execute_result"
    }
   ],
   "source": [
    "get_top_stats(gr, 28)"
   ]
  },
  {
   "cell_type": "code",
   "execution_count": 37,
   "metadata": {},
   "outputs": [
    {
     "data": {
      "text/plain": [
       "(array([  9.99639410e-01,   2.77795110e-01,   6.13370253e-02,\n",
       "          2.40353250e-03,   1.60886381e-03,   1.60886381e-03,\n",
       "          2.82336667e-04,   1.58908208e-04,   1.58908208e-04,\n",
       "          1.58908208e-04]),\n",
       " array([ 31,  25,  74, 242, 493, 190,  53,   6,  18,  49]))"
      ]
     },
     "execution_count": 37,
     "metadata": {},
     "output_type": "execute_result"
    }
   ],
   "source": [
    "get_top_stats(preds, 28)"
   ]
  },
  {
   "cell_type": "code",
   "execution_count": 38,
   "metadata": {},
   "outputs": [
    {
     "data": {
      "text/plain": [
       "0.00028233666681546548"
      ]
     },
     "execution_count": 38,
     "metadata": {},
     "output_type": "execute_result"
    }
   ],
   "source": [
    "preds[28, 53]"
   ]
  },
  {
   "cell_type": "code",
   "execution_count": 40,
   "metadata": {
    "collapsed": true
   },
   "outputs": [],
   "source": [
    "embs_sq = embs.reshape(gr.shape[0], gr.shape[1], 6)"
   ]
  },
  {
   "cell_type": "code",
   "execution_count": 41,
   "metadata": {},
   "outputs": [
    {
     "data": {
      "text/plain": [
       "array([ 1.        ,  1.        ,  0.63781818,  0.95016251,  6.77764659,\n",
       "        6.77764659])"
      ]
     },
     "execution_count": 41,
     "metadata": {},
     "output_type": "execute_result"
    }
   ],
   "source": [
    "embs_sq[28][31]"
   ]
  },
  {
   "cell_type": "code",
   "execution_count": 42,
   "metadata": {},
   "outputs": [
    {
     "data": {
      "text/plain": [
       "array([ 0.99960815,  1.        ,  0.21236364,  0.64317181,  5.68017261,\n",
       "        5.68017261])"
      ]
     },
     "execution_count": 42,
     "metadata": {},
     "output_type": "execute_result"
    }
   ],
   "source": [
    "embs_sq[28][25]"
   ]
  },
  {
   "cell_type": "code",
   "execution_count": 50,
   "metadata": {},
   "outputs": [
    {
     "name": "stdout",
     "output_type": "stream",
     "text": [
      "0.999639409933 [ 1.          1.          0.63781818  0.95016251  6.77764659  6.77764659]\n",
      "0.277795109973 [ 0.99960815  1.          0.21236364  0.64317181  5.68017261  5.68017261]\n",
      "0.0613370252526 [ 0.9992163   1.          0.05745455  0.76699029  4.38202663  4.38202663]\n",
      "0.00240353249703 [ 0.9984326   1.          0.00945455  1.          2.63905733  2.63905733]\n",
      "0.00160886381019 [ 0.9960815   1.          0.00363636  0.83333333  1.79175947  1.79175947]\n",
      "0.00160886381019 [ 0.9968652   1.          0.00509091  0.77777778  2.07944154  2.07944154]\n",
      "0.000282336666815 [ 0.99882445  1.          0.01818182  0.3968254   3.25809654  3.25809654]\n",
      "0.000158908207799 [  9.92554859e-01   9.79623824e-01   1.45454545e-03   7.51314801e-04\n",
      "   1.09861229e+00   1.09861229e+00]\n",
      "0.000158908207799 [  9.86285266e-01   9.61990596e-01   7.27272727e-04   9.17431193e-04\n",
      "   6.93147181e-01   6.93147181e-01]\n",
      "0.000158908207799 [  9.90987461e-01   9.93730408e-01   7.27272727e-04   2.90697674e-03\n",
      "   6.93147181e-01   6.93147181e-01]\n"
     ]
    }
   ],
   "source": [
    "for v, i in zip(*get_top_stats(preds, 28)):\n",
    "    print(v, embs_sq[28][i])"
   ]
  },
  {
   "cell_type": "code",
   "execution_count": 23,
   "metadata": {},
   "outputs": [
    {
     "data": {
      "image/png": "[encoded data removed]",
      "text/plain": [
       "<matplotlib.figure.Figure at 0x7fca4dcd4710>"
      ]
     },
     "metadata": {},
     "output_type": "display_data"
    }
   ],
   "source": [
    "cut = 100\n",
    "ca.plot_grs(gr[:cut, :cut], preds[:cut, :cut], s = 20, log = 1)"
   ]
  },
  {
   "cell_type": "code",
   "execution_count": 12,
   "metadata": {},
   "outputs": [
    {
     "data": {
      "image/png": "[encoded data removed]",
      "text/plain": [
       "<matplotlib.figure.Figure at 0x7fcadb704a20>"
      ]
     },
     "metadata": {},
     "output_type": "display_data"
    }
   ],
   "source": [
    "cut = 100\n",
    "ca.plot_grs(gr[:cut, :cut], gr_restored[:cut, :cut], s = 20, log = 1)"
   ]
  },
  {
   "cell_type": "code",
   "execution_count": 10,
   "metadata": {
    "collapsed": true
   },
   "outputs": [],
   "source": [
    "def calc_noise_ratio(gr0, gr):\n",
    "    return 1 - gr[gr0>0].sum() / gr.sum(), ((gr > 0).sum() - (gr0 > 0).sum()) / gr.flatten().shape[0]"
   ]
  },
  {
   "cell_type": "code",
   "execution_count": 6,
   "metadata": {
    "collapsed": true
   },
   "outputs": [],
   "source": [
    "arrs, weights = ca.restore_arrays_greedy(gr, threashold=2)"
   ]
  },
  {
   "cell_type": "code",
   "execution_count": 7,
   "metadata": {
    "collapsed": true
   },
   "outputs": [],
   "source": [
    "gr_restored = ca.graph_from_arrays(arrs, gr.shape[0])[0]"
   ]
  },
  {
   "cell_type": "code",
   "execution_count": 13,
   "metadata": {},
   "outputs": [
    {
     "data": {
      "text/plain": [
       "46"
      ]
     },
     "execution_count": 13,
     "metadata": {},
     "output_type": "execute_result"
    }
   ],
   "source": [
    "len([x for x in arrs if len(x) > 3])"
   ]
  },
  {
   "cell_type": "code",
   "execution_count": 43,
   "metadata": {},
   "outputs": [
    {
     "data": {
      "text/plain": [
       "(0.15619127416362444, 0.020043999999999999)"
      ]
     },
     "execution_count": 43,
     "metadata": {},
     "output_type": "execute_result"
    }
   ],
   "source": [
    "calc_noise_ratio(gr_restored[:500, :500], gr[:500, :500])"
   ]
  },
  {
   "cell_type": "code",
   "execution_count": 44,
   "metadata": {},
   "outputs": [
    {
     "data": {
      "text/plain": [
       "(0.13019157400241677, 0.27779999999999999)"
      ]
     },
     "execution_count": 44,
     "metadata": {},
     "output_type": "execute_result"
    }
   ],
   "source": [
    "calc_noise_ratio(gr_restored[:100, :100], gr[:100,:100])"
   ]
  },
  {
   "cell_type": "code",
   "execution_count": null,
   "metadata": {
    "collapsed": true
   },
   "outputs": [],
   "source": []
  },
  {
   "cell_type": "code",
   "execution_count": null,
   "metadata": {
    "collapsed": true
   },
   "outputs": [],
   "source": []
  },
  {
   "cell_type": "code",
   "execution_count": null,
   "metadata": {
    "collapsed": true
   },
   "outputs": [],
   "source": []
  },
  {
   "cell_type": "markdown",
   "metadata": {},
   "source": [
    "# cut gr"
   ]
  },
  {
   "cell_type": "code",
   "execution_count": 24,
   "metadata": {
    "collapsed": true
   },
   "outputs": [],
   "source": [
    "ec =ca.EmbeddingsCalculator()\n",
    "ec.make_argsorts(gr[:100,:100])"
   ]
  },
  {
   "cell_type": "code",
   "execution_count": 25,
   "metadata": {},
   "outputs": [
    {
     "name": "stderr",
     "output_type": "stream",
     "text": [
      "Process ForkPoolWorker-32:\n",
      "Process ForkPoolWorker-26:\n",
      "Process ForkPoolWorker-30:\n",
      "Process ForkPoolWorker-31:\n",
      "Process ForkPoolWorker-28:\n",
      "Traceback (most recent call last):\n",
      "Process ForkPoolWorker-27:\n",
      "Traceback (most recent call last):\n",
      "Process ForkPoolWorker-29:\n",
      "Traceback (most recent call last):\n",
      "Process ForkPoolWorker-25:\n",
      "  File \"/home/anton/anaconda3/lib/python3.6/multiprocessing/process.py\", line 258, in _bootstrap\n",
      "    self.run()\n",
      "  File \"/home/anton/anaconda3/lib/python3.6/multiprocessing/process.py\", line 258, in _bootstrap\n",
      "    self.run()\n",
      "Traceback (most recent call last):\n",
      "Traceback (most recent call last):\n",
      "Traceback (most recent call last):\n",
      "  File \"/home/anton/anaconda3/lib/python3.6/multiprocessing/process.py\", line 93, in run\n",
      "    self._target(*self._args, **self._kwargs)\n",
      "Traceback (most recent call last):\n",
      "  File \"/home/anton/anaconda3/lib/python3.6/multiprocessing/process.py\", line 258, in _bootstrap\n",
      "    self.run()\n",
      "  File \"/home/anton/anaconda3/lib/python3.6/multiprocessing/process.py\", line 93, in run\n",
      "    self._target(*self._args, **self._kwargs)\n",
      "Traceback (most recent call last):\n",
      "  File \"/home/anton/anaconda3/lib/python3.6/multiprocessing/process.py\", line 258, in _bootstrap\n",
      "    self.run()\n",
      "  File \"/home/anton/anaconda3/lib/python3.6/multiprocessing/process.py\", line 258, in _bootstrap\n",
      "    self.run()\n",
      "  File \"/home/anton/anaconda3/lib/python3.6/multiprocessing/process.py\", line 258, in _bootstrap\n",
      "    self.run()\n",
      "  File \"/home/anton/anaconda3/lib/python3.6/multiprocessing/process.py\", line 258, in _bootstrap\n",
      "    self.run()\n",
      "  File \"/home/anton/anaconda3/lib/python3.6/multiprocessing/process.py\", line 258, in _bootstrap\n",
      "    self.run()\n",
      "  File \"/home/anton/anaconda3/lib/python3.6/multiprocessing/process.py\", line 93, in run\n",
      "    self._target(*self._args, **self._kwargs)\n",
      "  File \"/home/anton/anaconda3/lib/python3.6/multiprocessing/pool.py\", line 108, in worker\n",
      "    task = get()\n",
      "  File \"/home/anton/anaconda3/lib/python3.6/multiprocessing/process.py\", line 93, in run\n",
      "    self._target(*self._args, **self._kwargs)\n",
      "  File \"/home/anton/anaconda3/lib/python3.6/multiprocessing/process.py\", line 93, in run\n",
      "    self._target(*self._args, **self._kwargs)\n",
      "  File \"/home/anton/anaconda3/lib/python3.6/multiprocessing/queues.py\", line 334, in get\n",
      "    with self._rlock:\n",
      "  File \"/home/anton/anaconda3/lib/python3.6/multiprocessing/process.py\", line 93, in run\n",
      "    self._target(*self._args, **self._kwargs)\n",
      "  File \"/home/anton/anaconda3/lib/python3.6/multiprocessing/process.py\", line 93, in run\n",
      "    self._target(*self._args, **self._kwargs)\n",
      "  File \"/home/anton/anaconda3/lib/python3.6/multiprocessing/pool.py\", line 108, in worker\n",
      "    task = get()\n",
      "  File \"/home/anton/anaconda3/lib/python3.6/multiprocessing/pool.py\", line 108, in worker\n",
      "    task = get()\n",
      "  File \"/home/anton/anaconda3/lib/python3.6/multiprocessing/pool.py\", line 108, in worker\n",
      "    task = get()\n",
      "  File \"/home/anton/anaconda3/lib/python3.6/multiprocessing/pool.py\", line 108, in worker\n",
      "    task = get()\n",
      "  File \"/home/anton/anaconda3/lib/python3.6/multiprocessing/process.py\", line 93, in run\n",
      "    self._target(*self._args, **self._kwargs)\n",
      "  File \"/home/anton/anaconda3/lib/python3.6/multiprocessing/pool.py\", line 108, in worker\n",
      "    task = get()\n",
      "  File \"/home/anton/anaconda3/lib/python3.6/multiprocessing/pool.py\", line 108, in worker\n",
      "    task = get()\n",
      "  File \"/home/anton/anaconda3/lib/python3.6/multiprocessing/queues.py\", line 335, in get\n",
      "    res = self._reader.recv_bytes()\n",
      "  File \"/home/anton/anaconda3/lib/python3.6/multiprocessing/pool.py\", line 108, in worker\n",
      "    task = get()\n",
      "  File \"/home/anton/anaconda3/lib/python3.6/multiprocessing/queues.py\", line 334, in get\n",
      "    with self._rlock:\n",
      "  File \"/home/anton/anaconda3/lib/python3.6/multiprocessing/synchronize.py\", line 96, in __enter__\n",
      "    return self._semlock.__enter__()\n",
      "  File \"/home/anton/anaconda3/lib/python3.6/multiprocessing/synchronize.py\", line 96, in __enter__\n",
      "    return self._semlock.__enter__()\n",
      "  File \"/home/anton/anaconda3/lib/python3.6/multiprocessing/queues.py\", line 334, in get\n",
      "    with self._rlock:\n",
      "  File \"/home/anton/anaconda3/lib/python3.6/multiprocessing/queues.py\", line 334, in get\n",
      "    with self._rlock:\n",
      "KeyboardInterrupt\n",
      "  File \"/home/anton/anaconda3/lib/python3.6/multiprocessing/queues.py\", line 334, in get\n",
      "    with self._rlock:\n",
      "  File \"/home/anton/anaconda3/lib/python3.6/multiprocessing/synchronize.py\", line 96, in __enter__\n",
      "    return self._semlock.__enter__()\n",
      "  File \"/home/anton/anaconda3/lib/python3.6/multiprocessing/synchronize.py\", line 96, in __enter__\n",
      "    return self._semlock.__enter__()\n",
      "  File \"/home/anton/anaconda3/lib/python3.6/multiprocessing/queues.py\", line 334, in get\n",
      "    with self._rlock:\n",
      "KeyboardInterrupt\n",
      "  File \"/home/anton/anaconda3/lib/python3.6/multiprocessing/connection.py\", line 216, in recv_bytes\n",
      "    buf = self._recv_bytes(maxlength)\n",
      "KeyboardInterrupt\n",
      "  File \"/home/anton/anaconda3/lib/python3.6/multiprocessing/synchronize.py\", line 96, in __enter__\n",
      "    return self._semlock.__enter__()\n",
      "  File \"/home/anton/anaconda3/lib/python3.6/multiprocessing/synchronize.py\", line 96, in __enter__\n",
      "    return self._semlock.__enter__()\n",
      "  File \"/home/anton/anaconda3/lib/python3.6/multiprocessing/queues.py\", line 334, in get\n",
      "    with self._rlock:\n",
      "KeyboardInterrupt\n",
      "  File \"/home/anton/anaconda3/lib/python3.6/multiprocessing/connection.py\", line 407, in _recv_bytes\n",
      "    buf = self._recv(4)\n",
      "  File \"/home/anton/anaconda3/lib/python3.6/multiprocessing/synchronize.py\", line 96, in __enter__\n",
      "    return self._semlock.__enter__()\n",
      "KeyboardInterrupt\n",
      "KeyboardInterrupt\n",
      "  File \"/home/anton/anaconda3/lib/python3.6/multiprocessing/connection.py\", line 379, in _recv\n",
      "    chunk = read(handle, remaining)\n",
      "KeyboardInterrupt\n",
      "KeyboardInterrupt\n"
     ]
    }
   ],
   "source": [
    "embs2 = ec.build_embeddings(gr[:100,:100])"
   ]
  },
  {
   "cell_type": "code",
   "execution_count": 26,
   "metadata": {
    "collapsed": true
   },
   "outputs": [],
   "source": [
    "preds2 = gb.predict(embs2).reshape(gr[:100,:100].shape)"
   ]
  },
  {
   "cell_type": "code",
   "execution_count": 30,
   "metadata": {
    "collapsed": true
   },
   "outputs": [],
   "source": [
    "embs2_sq = embs2.reshape(100,100, -1)"
   ]
  },
  {
   "cell_type": "code",
   "execution_count": 51,
   "metadata": {
    "collapsed": true
   },
   "outputs": [],
   "source": [
    "embs_sq = embs.reshape(gr.shape[0], gr.shape[1], -1)"
   ]
  },
  {
   "cell_type": "code",
   "execution_count": 52,
   "metadata": {},
   "outputs": [
    {
     "data": {
      "text/plain": [
       "array([[0.61947113, 0.38052887]])"
      ]
     },
     "execution_count": 52,
     "metadata": {},
     "output_type": "execute_result"
    }
   ],
   "source": [
    "gb.predict_proba(embs_sq[2, 5].reshape(1,-1))"
   ]
  },
  {
   "cell_type": "code",
   "execution_count": 66,
   "metadata": {},
   "outputs": [
    {
     "data": {
      "text/plain": [
       "array([[0.99736337, 0.00263663]])"
      ]
     },
     "execution_count": 66,
     "metadata": {},
     "output_type": "execute_result"
    }
   ],
   "source": [
    "gb.predict_proba(embs2_sq[2, 5].reshape(1,-1))"
   ]
  },
  {
   "cell_type": "code",
   "execution_count": 54,
   "metadata": {},
   "outputs": [
    {
     "data": {
      "text/plain": [
       "array([1.        , 1.        , 0.28552368, 0.29215017, 6.06145692,\n",
       "       6.06145692])"
      ]
     },
     "execution_count": 54,
     "metadata": {},
     "output_type": "execute_result"
    }
   ],
   "source": [
    "embs_sq[2, 5]"
   ]
  },
  {
   "cell_type": "code",
   "execution_count": 55,
   "metadata": {},
   "outputs": [
    {
     "data": {
      "text/plain": [
       "array([[0.61947113, 0.38052887]])"
      ]
     },
     "execution_count": 55,
     "metadata": {},
     "output_type": "execute_result"
    }
   ],
   "source": [
    "gb.predict_proba([[1., 1., 0.28552368, 0.29215017, 6.06145692, 6.06145692]])"
   ]
  },
  {
   "cell_type": "code",
   "execution_count": 57,
   "metadata": {},
   "outputs": [
    {
     "data": {
      "text/plain": [
       "array([ 53,  98,   7,  54,  30, 428,  28,  12,  17,  19])"
      ]
     },
     "execution_count": 57,
     "metadata": {},
     "output_type": "execute_result"
    }
   ],
   "source": [
    "gr[2][:10]"
   ]
  },
  {
   "cell_type": "code",
   "execution_count": 72,
   "metadata": {},
   "outputs": [
    {
     "data": {
      "image/png": "[encoded data removed]",
      "text/plain": [
       "<matplotlib.figure.Figure at 0x7f772edbed30>"
      ]
     },
     "metadata": {},
     "output_type": "display_data"
    }
   ],
   "source": [
    "ca.plot_gr(gr[:100, :100], s = 20, all_ticks=1)"
   ]
  },
  {
   "cell_type": "code",
   "execution_count": null,
   "metadata": {
    "collapsed": true
   },
   "outputs": [],
   "source": [
    "2 5 1 "
   ]
  },
  {
   "cell_type": "code",
   "execution_count": 70,
   "metadata": {},
   "outputs": [
    {
     "data": {
      "text/plain": [
       "(array([428,  98,  54,  53,  30,  28,  24,  19,  18,  17]),\n",
       " array([ 5,  1,  3,  0,  4,  6, 13,  9, 12,  8]))"
      ]
     },
     "execution_count": 70,
     "metadata": {},
     "output_type": "execute_result"
    }
   ],
   "source": [
    "get_top_stats(gr, 2)"
   ]
  },
  {
   "cell_type": "code",
   "execution_count": 68,
   "metadata": {},
   "outputs": [
    {
     "data": {
      "text/plain": [
       "1758"
      ]
     },
     "execution_count": 68,
     "metadata": {},
     "output_type": "execute_result"
    }
   ],
   "source": [
    "gr[1].sum()"
   ]
  },
  {
   "cell_type": "code",
   "execution_count": 69,
   "metadata": {},
   "outputs": [
    {
     "data": {
      "text/plain": [
       "3733"
      ]
     },
     "execution_count": 69,
     "metadata": {},
     "output_type": "execute_result"
    }
   ],
   "source": [
    "gr[:, 1].sum()"
   ]
  },
  {
   "cell_type": "code",
   "execution_count": null,
   "metadata": {
    "collapsed": true
   },
   "outputs": [],
   "source": [
    "0"
   ]
  },
  {
   "cell_type": "code",
   "execution_count": null,
   "metadata": {
    "collapsed": true
   },
   "outputs": [],
   "source": []
  },
  {
   "cell_type": "code",
   "execution_count": 27,
   "metadata": {},
   "outputs": [
    {
     "data": {
      "text/plain": [
       "(2165, 2165)"
      ]
     },
     "execution_count": 27,
     "metadata": {},
     "output_type": "execute_result"
    }
   ],
   "source": [
    "gr.shape"
   ]
  },
  {
   "cell_type": "code",
   "execution_count": 6,
   "metadata": {
    "scrolled": true
   },
   "outputs": [
    {
     "ename": "NameError",
     "evalue": "name 'preds2' is not defined",
     "output_type": "error",
     "traceback": [
      "\u001b[0;31m---------------------------------------------------------------------------\u001b[0m",
      "\u001b[0;31mNameError\u001b[0m                                 Traceback (most recent call last)",
      "\u001b[0;32m<ipython-input-6-83e98d8810f0>\u001b[0m in \u001b[0;36m<module>\u001b[0;34m()\u001b[0m\n\u001b[1;32m      1\u001b[0m \u001b[0mcut\u001b[0m \u001b[0;34m=\u001b[0m \u001b[0;36m100\u001b[0m\u001b[0;34m\u001b[0m\u001b[0m\n\u001b[0;32m----> 2\u001b[0;31m \u001b[0mca\u001b[0m\u001b[0;34m.\u001b[0m\u001b[0mplot_grs\u001b[0m\u001b[0;34m(\u001b[0m\u001b[0mgr\u001b[0m\u001b[0;34m[\u001b[0m\u001b[0;34m:\u001b[0m\u001b[0mcut\u001b[0m\u001b[0;34m,\u001b[0m \u001b[0;34m:\u001b[0m\u001b[0mcut\u001b[0m\u001b[0;34m]\u001b[0m\u001b[0;34m,\u001b[0m \u001b[0mpreds2\u001b[0m\u001b[0;34m[\u001b[0m\u001b[0;34m:\u001b[0m\u001b[0mcut\u001b[0m\u001b[0;34m,\u001b[0m \u001b[0;34m:\u001b[0m\u001b[0mcut\u001b[0m\u001b[0;34m]\u001b[0m\u001b[0;34m,\u001b[0m \u001b[0ms\u001b[0m \u001b[0;34m=\u001b[0m \u001b[0;36m20\u001b[0m\u001b[0;34m,\u001b[0m \u001b[0mlog\u001b[0m \u001b[0;34m=\u001b[0m \u001b[0;36m1\u001b[0m\u001b[0;34m)\u001b[0m\u001b[0;34m\u001b[0m\u001b[0m\n\u001b[0m",
      "\u001b[0;31mNameError\u001b[0m: name 'preds2' is not defined"
     ]
    }
   ],
   "source": [
    "cut = 100\n",
    "ca.plot_grs(gr[:cut, :cut], preds2[:cut, :cut], s = 20, log = 1)"
   ]
  },
  {
   "cell_type": "code",
   "execution_count": null,
   "metadata": {
    "collapsed": true
   },
   "outputs": [],
   "source": []
  },
  {
   "cell_type": "code",
   "execution_count": null,
   "metadata": {
    "collapsed": true
   },
   "outputs": [],
   "source": []
  },
  {
   "cell_type": "code",
   "execution_count": null,
   "metadata": {
    "collapsed": true
   },
   "outputs": [],
   "source": []
  },
  {
   "cell_type": "code",
   "execution_count": 52,
   "metadata": {
    "collapsed": true
   },
   "outputs": [],
   "source": [
    "read =  ca.Read(\"../../data/SlO_10/SlO2_R1_pairs_10.txt\")"
   ]
  },
  {
   "cell_type": "code",
   "execution_count": 55,
   "metadata": {},
   "outputs": [
    {
     "name": "stderr",
     "output_type": "stream",
     "text": [
      "100%|██████████| 15890/15890 [00:44<00:00, 354.66it/s]\n"
     ]
    }
   ],
   "source": [
    "read.correct_errors()"
   ]
  },
  {
   "cell_type": "code",
   "execution_count": 56,
   "metadata": {
    "collapsed": true
   },
   "outputs": [],
   "source": [
    "gr2 = read.graph_from_pairs()[0]"
   ]
  },
  {
   "cell_type": "code",
   "execution_count": 69,
   "metadata": {},
   "outputs": [
    {
     "data": {
      "image/png": "[encoded data removed]",
      "text/plain": [
       "<matplotlib.figure.Figure at 0x7f0f2ca50f60>"
      ]
     },
     "metadata": {},
     "output_type": "display_data"
    }
   ],
   "source": [
    "ca.plot_grs(gr2[:100, :100], gr[:100, :100], log = 1, s = 20)"
   ]
  },
  {
   "cell_type": "code",
   "execution_count": 81,
   "metadata": {
    "collapsed": true
   },
   "outputs": [],
   "source": [
    "def calc_noise_ratio(gr0, gr):\n",
    "    return gr[gr0 > 0].sum() / (gr.sum() - gr[gr0 > 0].sum())"
   ]
  },
  {
   "cell_type": "code",
   "execution_count": 71,
   "metadata": {
    "collapsed": true
   },
   "outputs": [],
   "source": [
    "arrs, weights = ca.restore_arrays(gr)"
   ]
  },
  {
   "cell_type": "code",
   "execution_count": 72,
   "metadata": {
    "collapsed": true
   },
   "outputs": [],
   "source": [
    "restored_gr = ca.graph_from_arrays(arrs, gr.shape[0])[0]"
   ]
  },
  {
   "cell_type": "code",
   "execution_count": 73,
   "metadata": {},
   "outputs": [
    {
     "data": {
      "image/png": "[encoded data removed]",
      "text/plain": [
       "<matplotlib.figure.Figure at 0x7f0f2ca1cef0>"
      ]
     },
     "metadata": {},
     "output_type": "display_data"
    }
   ],
   "source": [
    "ca.plot_grs(gr[:100, :100], restored_gr[:100, :100], log = 1, s = 20)"
   ]
  },
  {
   "cell_type": "code",
   "execution_count": 79,
   "metadata": {},
   "outputs": [
    {
     "data": {
      "text/plain": [
       "array([[  15,  178, 1357,   73,   48,   48,   64,   18,   28,   22],\n",
       "       [ 105,   11,  102,   57,   32,   32,   39,   11,   11,   15],\n",
       "       [  53,   98,    7,   54,   30,  428,   28,   12,   17,   19],\n",
       "       [ 748,   96,   69,   11,   23,   37,   25,   17,   14,    8],\n",
       "       [ 200,  147,   60,  541,    1,   21,   80,   21,    9,   17],\n",
       "       [  47,  840,   22,   22,   25,    2,   26,   11,    7,    8],\n",
       "       [  77,   68,   77,   25,   23,   41,    7,    9,   10,   16],\n",
       "       [  29,   42,   35,   24,   17,   14,   28,    0,   13,    7],\n",
       "       [  33,   51,   23,   20,   16,   13,   14,  536,    1,   11],\n",
       "       [  38,   46,   34,   35,   18,   11,   19,    8,   11,    1]])"
      ]
     },
     "execution_count": 79,
     "metadata": {},
     "output_type": "execute_result"
    }
   ],
   "source": [
    "gr[:10, :10]"
   ]
  },
  {
   "cell_type": "code",
   "execution_count": 82,
   "metadata": {},
   "outputs": [
    {
     "data": {
      "text/plain": [
       "0.29165781710914457"
      ]
     },
     "execution_count": 82,
     "metadata": {},
     "output_type": "execute_result"
    }
   ],
   "source": [
    "calc_noise_ratio(restored_gr, gr)"
   ]
  },
  {
   "cell_type": "code",
   "execution_count": null,
   "metadata": {
    "collapsed": true
   },
   "outputs": [],
   "source": []
  },
  {
   "cell_type": "code",
   "execution_count": null,
   "metadata": {
    "collapsed": true
   },
   "outputs": [],
   "source": []
  },
  {
   "cell_type": "markdown",
   "metadata": {},
   "source": [
    "# PCA"
   ]
  },
  {
   "cell_type": "code",
   "execution_count": 52,
   "metadata": {
    "collapsed": true
   },
   "outputs": [],
   "source": [
    "from sklearn.decomposition import PCA"
   ]
  },
  {
   "cell_type": "code",
   "execution_count": 54,
   "metadata": {
    "collapsed": true
   },
   "outputs": [],
   "source": [
    "pca = PCA(2)"
   ]
  },
  {
   "cell_type": "code",
   "execution_count": 55,
   "metadata": {},
   "outputs": [
    {
     "data": {
      "text/plain": [
       "PCA(copy=True, iterated_power='auto', n_components=2, random_state=None,\n",
       "  svd_solver='auto', tol=0.0, whiten=False)"
      ]
     },
     "execution_count": 55,
     "metadata": {},
     "output_type": "execute_result"
    }
   ],
   "source": [
    "pca.fit(embs)"
   ]
  },
  {
   "cell_type": "code",
   "execution_count": 57,
   "metadata": {
    "collapsed": true
   },
   "outputs": [],
   "source": [
    "embs_2 =pca.transform(embs)"
   ]
  },
  {
   "cell_type": "code",
   "execution_count": 61,
   "metadata": {
    "collapsed": true
   },
   "outputs": [],
   "source": [
    "embs_2_cut =embs_2.reshape(gr.shape[0], gr.shape[1], 2)[:100, :100].reshape(10000, 2)"
   ]
  },
  {
   "cell_type": "code",
   "execution_count": 66,
   "metadata": {
    "collapsed": true
   },
   "outputs": [],
   "source": [
    "mask = (preds > 0.3)[:100, :100].reshape(10000)"
   ]
  },
  {
   "cell_type": "code",
   "execution_count": 68,
   "metadata": {},
   "outputs": [
    {
     "data": {
      "image/png": "[encoded data removed]",
      "text/plain": [
       "<matplotlib.figure.Figure at 0x7fca37f85198>"
      ]
     },
     "metadata": {},
     "output_type": "display_data"
    }
   ],
   "source": [
    "plt.scatter(embs_2_cut[mask, 0], embs_2_cut[mask, 1], label = 'all')\n",
    "plt.scatter(embs_2_cut[np.logical_not(mask), 0], embs_2_cut[np.logical_not(mask), 1])\n",
    "plt.legend()\n",
    "plt.show()"
   ]
  },
  {
   "cell_type": "code",
   "execution_count": null,
   "metadata": {
    "collapsed": true
   },
   "outputs": [],
   "source": []
  }
 ],
 "metadata": {
  "kernelspec": {
   "display_name": "Python 3",
   "language": "python",
   "name": "python3"
  },
  "language_info": {
   "codemirror_mode": {
    "name": "ipython",
    "version": 3
   },
   "file_extension": ".py",
   "mimetype": "text/x-python",
   "name": "python",
   "nbconvert_exporter": "python",
   "pygments_lexer": "ipython3",
   "version": "3.6.3"
  }
 },
 "nbformat": 4,
 "nbformat_minor": 2
}
