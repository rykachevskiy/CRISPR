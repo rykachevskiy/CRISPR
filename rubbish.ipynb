{
 "cells": [
  {
   "cell_type": "code",
   "execution_count": 13,
   "metadata": {
    "collapsed": true
   },
   "outputs": [],
   "source": [
    "import editdistance as ed\n",
    "import numpy as np"
   ]
  },
  {
   "cell_type": "code",
   "execution_count": 23,
   "metadata": {},
   "outputs": [
    {
     "data": {
      "text/plain": [
       "0.001652672593749935"
      ]
     },
     "execution_count": 23,
     "metadata": {},
     "output_type": "execute_result"
    }
   ],
   "source": [
    "(0.99779 ** 31) * 0.00177"
   ]
  },
  {
   "cell_type": "code",
   "execution_count": 11,
   "metadata": {},
   "outputs": [],
   "source": [
    "s = \"GACAGAACGGCCTCAGTAGTCTCGTCAGGCTC GACAGAACGGCCTCAGTAGTCTCGTCAGGCTC,\\\n",
    "ACACGCCCTTATCAAATAGCTGTGATTTACCT ACACGCCCTTATCAAATAGCTGTGATTTACCTA,\\\n",
    "ATAGACCCCGAACAACAATACGCGCAAACCGA ATAGACCCCGAACAACAATACGCGCAAACCGA,\\\n",
    "TACCGTACAGACTGCCGGATATTATTTTTTTG TACCGTACAGACTGCCGGATATTATTTTTTTG,\\\n",
    "TGCTGCTCGAGCTGGTGGAGTGCTGCTATAG CTGCTGCTCGAGCTGGTGGAGTGCTGCTATAG,\\\n",
    "AACGTCAGGTTGTCGCCGCTCTGCGTGGTCGC AACGTCAGGTTGTCGCCGCTCTGCGTGGTCGC,\\\n",
    "TGCATGGCTTTGGCTTCCTCTTTGACGGACGC TGCATGGCTTTGGCTTCCTCTTTGACGGACGC,\\\n",
    "ATATATCAGAGCAAAAAACAAAGCCACAGCCA ATATATCAGAGCAAAAAACAAAGCCACAGCCA,\\\n",
    "CATAAAGAAACTATTTTGCGTTTCGTTCAGGT CATAAAGAAACTATTTTGCGTTTCGTTCAGGT,\\\n",
    "TTTTACAGTGTCAACAATCGTTCCCTGATTGT TTTTACAGTGTCAACAATCGTTCCCTGATTGT,\\\n",
    "CCGCCGTTGGCACCGTCAAACTCCGGTACTGT CCGCCGTTGGCACCGTCAAACTCCGGTACTGT,\\\n",
    "TATAGAGATCGTTTTTGGAATTTACAGCGAGG TATAGAGATCGTTTTTGGAATTTACAGCGAGG,\\\n",
    "CCGTAAGTGGTTTGAGCGATGATATTTGTGCT CCGTAAGTGGTTTGAGCGATGATATTTGTGCT,\\\n",
    "AGTGCTGGACCATTTCAAATTCACAATAGATT AGTGCTGGACCATTTCAAATTCACAATAGATT,\\\n",
    "GGAATGATATTTCAATAAATAATTATAACAAT GGAATGATATTTCAATAAATAATTATAACAAT,\\\n",
    "CCCTCACACCGATTCGCCAAACGGTGGAGAAG CCCTCACACCGATTCGCCAAACGGTGGAGAAG,\\\n",
    "AGCTGGGCGAAATTTTGATTCATCGTGATGAC AGCTGGGCGAAATTTTGATTCATCGTGATGAC\"\n"
   ]
  },
  {
   "cell_type": "code",
   "execution_count": 15,
   "metadata": {},
   "outputs": [
    {
     "name": "stdout",
     "output_type": "stream",
     "text": [
      "['GACAGAACGGCCTCAGTAGTCTCGTCAGGCTC', 'GACAGAACGGCCTCAGTAGTCTCGTCAGGCTC']\n",
      "0\n",
      "['ACACGCCCTTATCAAATAGCTGTGATTTACCT', 'ACACGCCCTTATCAAATAGCTGTGATTTACCTA']\n",
      "1\n",
      "['ATAGACCCCGAACAACAATACGCGCAAACCGA', 'ATAGACCCCGAACAACAATACGCGCAAACCGA']\n",
      "0\n",
      "['TACCGTACAGACTGCCGGATATTATTTTTTTG', 'TACCGTACAGACTGCCGGATATTATTTTTTTG']\n",
      "0\n",
      "['TGCTGCTCGAGCTGGTGGAGTGCTGCTATAG', 'CTGCTGCTCGAGCTGGTGGAGTGCTGCTATAG']\n",
      "1\n",
      "['AACGTCAGGTTGTCGCCGCTCTGCGTGGTCGC', 'AACGTCAGGTTGTCGCCGCTCTGCGTGGTCGC']\n",
      "0\n",
      "['TGCATGGCTTTGGCTTCCTCTTTGACGGACGC', 'TGCATGGCTTTGGCTTCCTCTTTGACGGACGC']\n",
      "0\n",
      "['ATATATCAGAGCAAAAAACAAAGCCACAGCCA', 'ATATATCAGAGCAAAAAACAAAGCCACAGCCA']\n",
      "0\n",
      "['CATAAAGAAACTATTTTGCGTTTCGTTCAGGT', 'CATAAAGAAACTATTTTGCGTTTCGTTCAGGT']\n",
      "0\n",
      "['TTTTACAGTGTCAACAATCGTTCCCTGATTGT', 'TTTTACAGTGTCAACAATCGTTCCCTGATTGT']\n",
      "0\n",
      "['CCGCCGTTGGCACCGTCAAACTCCGGTACTGT', 'CCGCCGTTGGCACCGTCAAACTCCGGTACTGT']\n",
      "0\n",
      "['TATAGAGATCGTTTTTGGAATTTACAGCGAGG', 'TATAGAGATCGTTTTTGGAATTTACAGCGAGG']\n",
      "0\n",
      "['CCGTAAGTGGTTTGAGCGATGATATTTGTGCT', 'CCGTAAGTGGTTTGAGCGATGATATTTGTGCT']\n",
      "0\n",
      "['AGTGCTGGACCATTTCAAATTCACAATAGATT', 'AGTGCTGGACCATTTCAAATTCACAATAGATT']\n",
      "0\n",
      "['GGAATGATATTTCAATAAATAATTATAACAAT', 'GGAATGATATTTCAATAAATAATTATAACAAT']\n",
      "0\n",
      "['CCCTCACACCGATTCGCCAAACGGTGGAGAAG', 'CCCTCACACCGATTCGCCAAACGGTGGAGAAG']\n",
      "0\n",
      "['AGCTGGGCGAAATTTTGATTCATCGTGATGAC', 'AGCTGGGCGAAATTTTGATTCATCGTGATGAC']\n",
      "0\n"
     ]
    }
   ],
   "source": [
    "for l in s.split(\",\"):\n",
    "    print(l.split(\" \"))\n",
    "    print(ed.eval(l.split(\" \")[0], l.split(\" \")[1]))"
   ]
  },
  {
   "cell_type": "code",
   "execution_count": 19,
   "metadata": {
    "collapsed": true
   },
   "outputs": [],
   "source": [
    "K_1_res = \"TGCGTGAGCGTATCGCCGCGCGTCTGCGAAAG,\\\n",
    "AGCGTGTTCGGCATCACCTTTGGCTTCGGCTG,\\\n",
    "TCAACATTATCAATTACAACCGACAGGGAGCC,\\\n",
    "GCGACCGCTCAGAAATTCCAGACCCGATCCAA,\\\n",
    "GCAGGCGGCGACGCGCAGGGTATGCGCGATTC,\\\n",
    "TAGTTTCCGTATCTCCGGATTTATAAAGCTGA,\\\n",
    "AAGCTGGCTGGCAATCTCTTTCGGGGTGAGTC,\\\n",
    "TGGGCGGCTTGCCTTGCAGCCAGCTCCAGCAG,\\\n",
    "CCGGGGGATAATGTTTACGGTCATGCGCCCCC,\\\n",
    "GTAGTCCATCATTCCACCTATGTCTGAACTCC,\\\n",
    "TCGGTTCAGGCGTTGCAAACCTGGCTACCGGG,\\\n",
    "CAGCGTCAGGCGTGAAATCTCACCGTCGTTGC\".split(\",\")"
   ]
  },
  {
   "cell_type": "code",
   "execution_count": 16,
   "metadata": {
    "collapsed": true
   },
   "outputs": [],
   "source": [
    "K_1 = ['CAGCGTCAGGCGTGAAATCTCACCGTCGTTGC', 'TCGGTTCAGGCGTTGCAAACCTGGCTACCGGG', \n",
    "       'GTAGTCCATCATTCCACCTATGTCTGAACTCC', 'CCGGGGGATAATGTTTACGGTCATGCGCCCCC', \n",
    "       'TGGGCGGCTTGCCTTGCAGCCAGCTCCAGCAG', 'AAGCTGGCTGGCAATCTCTTTCGGGGTGAGTC',\n",
    "       'TAGTTTCCGTATCTCCGGATTTATAAAGCTGA', 'GCAGGCGGCGACGCGCAGGGTATGCGCGATTCG', \n",
    "       'GCGACCGCTCAGAAATTCCAGACCCGATCCAAA','TCAACATTATCAATTACAACCGACAGGGAGCC', \n",
    "       'AGCGTGTTCGGCATCACCTTTGGCTTCGGCTG', 'TGCGTGAGCGTATCGCCGCGCGTCTGCGAAAG']\n",
    "       \n",
    "K_2 = ['GACAGAACGGCCTCAGTAGTCTCGTCAGGCTC', 'CTGTTTTCGCAAATCTATGGACTATTGCTATT', \n",
    "       'GGGCGCACGGAATACAAAGCCGTGTATCTGCT', 'TGGCTCTGCAACAGCAGCACCCATGACCACGT', \n",
    "       'GAAATGCTGGTGAGCGTTAATGCCGCAAACAC', 'ATTACGCCTTTTTGCGATTGCCCGGTTTTTGC']"
   ]
  },
  {
   "cell_type": "code",
   "execution_count": 21,
   "metadata": {},
   "outputs": [
    {
     "data": {
      "text/plain": [
       "12"
      ]
     },
     "execution_count": 21,
     "metadata": {},
     "output_type": "execute_result"
    }
   ],
   "source": [
    "len(K_1_res)"
   ]
  },
  {
   "cell_type": "code",
   "execution_count": 22,
   "metadata": {},
   "outputs": [
    {
     "data": {
      "text/plain": [
       "12"
      ]
     },
     "execution_count": 22,
     "metadata": {},
     "output_type": "execute_result"
    }
   ],
   "source": [
    "&CTGTTTTCGCAAATCTATGGACTATTGCTATT\\\\\n",
    "&GGGCGCACGGAATACAAAGCCGTGTATCTGCT\\\\\n",
    "&TGGCTCTGCAACAGCAGCACCCATGACCACGT\\\\\n",
    "&GAAATGCTGGTGAGCGTTAATGCCGCAAACAC\\\\\n",
    "&ATTACGCCTTTTTGCGATTGCCCGGTTTTTGC"
   ]
  },
  {
   "cell_type": "code",
   "execution_count": null,
   "metadata": {
    "collapsed": true
   },
   "outputs": [],
   "source": [
    "GACAGAACGGCCTCAGTAGTCTCGTCAGGCTC\n",
    "CTGTTTTCGCAAATCTATGGACTATTGCTATT\n",
    "GGGCGCACGGAATACAAAGCCGTGTATCTGCT\n",
    "TGGCTCTGCAACAGCAGCACCCATGACCACGT\n",
    "GAAATGCTGGTGAGCGTTAATGCCGCAAACAC\n",
    "ATTACGCCTTTTTGCGATTGCCCGGTTTTTGC"
   ]
  }
 ],
 "metadata": {
  "kernelspec": {
   "display_name": "Python 3",
   "language": "python",
   "name": "python3"
  },
  "language_info": {
   "codemirror_mode": {
    "name": "ipython",
    "version": 3
   },
   "file_extension": ".py",
   "mimetype": "text/x-python",
   "name": "python",
   "nbconvert_exporter": "python",
   "pygments_lexer": "ipython3",
   "version": "3.6.3"
  }
 },
 "nbformat": 4,
 "nbformat_minor": 2
}
