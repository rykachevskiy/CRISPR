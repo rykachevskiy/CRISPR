{
 "cells": [
  {
   "cell_type": "code",
   "execution_count": 1,
   "metadata": {},
   "outputs": [],
   "source": [
    "import numpy as np"
   ]
  },
  {
   "cell_type": "code",
   "execution_count": 10,
   "metadata": {},
   "outputs": [],
   "source": [
    "with open(\"../data/answers/clostr_answer.txt\") as f:\n",
    "    s2 = [x[:-2] for x in f.readlines()]\n",
    "\n",
    "strain2 = [[y for y in x.split(\"\\t\")[:] if len(y) > 0] for x in s2]"
   ]
  },
  {
   "cell_type": "code",
   "execution_count": null,
   "metadata": {},
   "outputs": [],
   "source": []
  },
  {
   "cell_type": "code",
   "execution_count": null,
   "metadata": {},
   "outputs": [],
   "source": []
  },
  {
   "cell_type": "code",
   "execution_count": null,
   "metadata": {},
   "outputs": [],
   "source": []
  },
  {
   "cell_type": "code",
   "execution_count": 20,
   "metadata": {},
   "outputs": [],
   "source": [
    "with open(\"../data/answers/Clostridium_1_3_q_10\") as f:\n",
    "    s1 = [x[:-2] for x in f.readlines()][::2]\n",
    "\n",
    "strain1 = [[y[1:] for y in x.split(',')[:]] for x in s1]"
   ]
  },
  {
   "cell_type": "code",
   "execution_count": 21,
   "metadata": {
    "scrolled": false
   },
   "outputs": [
    {
     "data": {
      "text/plain": [
       "[['C_009089_9',\n",
       "  'CTAGAATTAGAACTCATTATTAAAACCATTCTTGCA',\n",
       "  'TAATCTGACACATACAAAGTTGAACCTAGTGGTACG',\n",
       "  'AAAAGCGTTCTTAAATCGTTACTTAACTCTTGCAAA',\n",
       "  'TGGTATATCATACTCGTGCATTGCCTGCTCCACATT',\n",
       "  'ATACAACCATATATTTACCAATTATGTACTTATGAA',\n",
       "  'TTTTTTAACTTTTCAGTTCTCACAGGCGTTTCATC',\n",
       "  'TTCATATTCCAAGCGTTTTGCTTACACTTAATAGAA',\n",
       "  'AAAATTAAATTTCATGCTCTTAGACATACATATGCA',\n",
       "  'TAGATTGCTTTCAAATTACCTCTTGTATAGCGTCT',\n",
       "  'TTGCTCCGCTATGCCTTGCGCTCTCTAATATCGCTT',\n",
       "  'TGAACTTTAATCGGTTTTATACAACAATATAACG',\n",
       "  'TCACACATGAGCAATATCGAAACAGGCAAATCTACA',\n",
       "  'TTCGTAAAATAACAATTATCTGGAATATGAGAAGTT',\n",
       "  'CACTCTTAAGTTGTGACCTATCTGATATATGATTAA',\n",
       "  'TCAATATCTATATTAAGTTTATTTTTAAAAACATC'],\n",
       " ['C_009089_3',\n",
       "  'GTAGAGTCTTTATATGGTAGAGGTGGAATATATAAG',\n",
       "  'AACTCTTCAATATCTCCTAATCGTTCAATATAATTC',\n",
       "  'ACTGTATGCCATCTAAATGCATCATACAAACTTATT',\n",
       "  'TATACTTCCTAATGCAATCAAATAAGTACCTAAAAT',\n",
       "  'TTCGCAACTTATGATGGTGAAATGATTACATTAACA',\n",
       "  'AATATAACAAAGTGGATGTTCTCTAAAAATAAAGA'],\n",
       " ['C_009089_7',\n",
       "  'TAAAACCACTCAATTCTTAAAAGATACTGCAATTAT',\n",
       "  'GGACATTTTAACCATAGACTATTTTACAAACAAACT',\n",
       "  'GGAGATTTAAAAGTTAACAACATAAAAATGATAGAT',\n",
       "  'TGGTGAACAATAAAACAATCATCTAAAGACGAAGAA',\n",
       "  'ATAATCCAGAAGATGATACACTTCTTGAACAATATA',\n",
       "  'CTATCAATATATATTTTATAAGCATAAGTTTTACGC',\n",
       "  'AACAACGTCATATATATCATCTTTAGTTGTAAGAGC',\n",
       "  'AGTTATGTCAAATTATTAGAAACTAAAAACCTAGTT',\n",
       "  'AATATCTAAAAAAAACGACTTATATCCCATTTCTAC',\n",
       "  'AATTTAGAAAAGGACTATTAGGAAGCAAAGAAAAAA',\n",
       "  'AAAGTAAATCCTAGAGCATAACCAATTTTCGTAGG',\n",
       "  'AGTATAATGTTGAAAAGTTAGAGAGTACAATCAAGA'],\n",
       " ['C_009089_4',\n",
       "  'GTTTGAGAACGCTGTATAAAGCTTGTAGCTAGTTCT',\n",
       "  'GTTGCATCATTAAATATTTTCCCTACAAACTCTTTT',\n",
       "  'AGTACATACAAAGAGTCTATAAAATTATCTATAAA'],\n",
       " ['C_009089_8',\n",
       "  'TATCTATTATTGGTATATTAAATGATTCTAATAATT',\n",
       "  'ATGTTCACATTGACAGCTCAAGATAAACATGGAATT',\n",
       "  'TTAAATCGTTTGATTGGAAGTATAAATTATAATGAC',\n",
       "  'GCTGAAAGTTTAAAAGTTTTAACTATAAATTCAGTT',\n",
       "  'TCTTTTTCTAATGCTTTTTTTACATATGGAGCTAAC',\n",
       "  'CCATCAGCCTTATCCTGTGCAAATAATAGTGCCAAG',\n",
       "  'AGGAGATAACTTCTATTAAAGATAACTTTGATGTGG',\n",
       "  'CTCAAAGTTGGACTAGCTTCATCTTTTAATTTTAC'],\n",
       " ['C_009089_6',\n",
       "  'AAGCTTTCATAGCATCCTCTTCTGAACATTCATCAC',\n",
       "  'TAGTAAGTTAACTCATACATACCACCTTCCCCATAA',\n",
       "  'TATTATAAATCTTTAAATAGCCTTCTAAGCGTCTAC',\n",
       "  'ACATTATCAACATCATCTAATTTTTTTGTCACTGTA',\n",
       "  'TAAGAATTAACTAATGTGAATTTTTTAGACATGTCA',\n",
       "  'ACAAACAAGTGTAGGATAAACTTTCCTTGCCCAGTA',\n",
       "  'TAACAAAATTTGCGAGTACACTTATTTCTAATATAT',\n",
       "  'ATAAGAGTGGTTTAAGAAAATAAGTTATTTTTCAAA',\n",
       "  'TGACTCGTGCTATTTTTTTTACACGCCTAAGAGGTA',\n",
       "  'CGAAAAATCTAGGAAAAACTATTGTAAAAGCGTTTA',\n",
       "  'TTTGATTACATGGGCAGTTTTTTATTATAGAGTGTT',\n",
       "  'AAAAATCTTATTAAAGATTATTCAAAGTCTTTTGAT',\n",
       "  'AACAAAAAAGATACATCTGTAACTAATTTTTATA'],\n",
       " ['C_009089_11',\n",
       "  'ACAATTATTAATTGTTTTATTAGTGAAATCACAGCA',\n",
       "  'ATATAAAATGGGATTAGTAAAAAACACAACAGGAAC',\n",
       "  'TTTCTTCGTCTTTAGATGATTGTTTTATTGTTCATC',\n",
       "  'ATTTTTATCACCTGAGATAGTAATAGTCGCTTTGTC',\n",
       "  'ATAATGTATTGAAAAATCAAATAGGCGTGCAACTTTT',\n",
       "  'GTATGCTTGTTTATTATATTTATTCAATAGTCATGAGA',\n",
       "  'CCACGCATTTTAGTTCAAATTCGAAGTTTTTGGCTG',\n",
       "  'CTATCCTTTCATTCATTTAAAATTTATTCCTTTCAAAT',\n",
       "  'ACGACGTTGAGATTGCGGAGCTTCTCAACCTTGTACGC',\n",
       "  'GTTCATCAGATGGATATGCAAATGGAGATATAAAGTT',\n",
       "  'TTTATATCAGTCTTTTTAGTCGCTGTCTGAATCTCCTC',\n",
       "  'ACTATCTAAAAGATGATAATAGCTACATTTTGTACGTT',\n",
       "  'TTGTAGATTTTGTAAGTAATGGTTTTTCGGAAAAAG',\n",
       "  'AAAATAAGCTATGAAGCTAAAGGAGAAATGAAAGGA'],\n",
       " ['C_009089_12',\n",
       "  'TTGTGTTTATTGTGATAGTGCCGAACAGGTGTTAATACG',\n",
       "  'TATACTTTAATACGTCAAATTAGACTTGACCTAAACAA',\n",
       "  'TTTTTCTGATGTTCCTAAGTCTGCTACTTCTATAGC',\n",
       "  'TTTTTGCTCTATATCGCGTTAGGCAAATACAAGGATA',\n",
       "  'AACAATAAAAGTCAATTAGAAATGTTTATGGAAAACA',\n",
       "  'TATTCCCGAAACTGAAAGAAATCAATGGACACCTT'],\n",
       " ['C_009089_15',\n",
       "  'CCTTTATAGATAATTTTATAGACTCTTTGTATGTACT',\n",
       "  'GAAAAGAGTTTGTAGGGAAAATATTTAATGATGCAAC',\n",
       "  'AAGAACTAGCTACAAGCTTTATACAGCGTTCTCAAA'],\n",
       " ['C_009089_16',\n",
       "  'CCTCTTTATTTTTAGAGAACATCCACTTTGTTATATT',\n",
       "  'CTGTTAATGTAATCATTTCACCATCATAAGTTGCGAA',\n",
       "  'GATTTTAGGTACTTATTTGATTGCATTAGGAAGTATA',\n",
       "  'AAATAAGTTTGTATGATGCATTTAGATGGCATACAGT',\n",
       "  'GAGAATTATATTGAACGATTAGGAGATATTGAAGAGTT',\n",
       "  'ACTTATATATTCCACCTCTACCATATAAAGACTCTA'],\n",
       " ['C_009089_17',\n",
       "  'GGATGTTTTAGTATATGCTATTGTTGATTCTACAA',\n",
       "  'AAGTTTCTAAATACTCGTTGATATTGCTAATATTCT',\n",
       "  'CTGACACTGTGTCTTGTGTGAGTCTTTTCTTTATCCT',\n",
       "  'CGGTCGTAACGTGTCAATCCTATTGGGTTTTAGATA',\n",
       "  'AAGAAAGAGCTATTGAAGCATTAAACAGAATACAGG',\n",
       "  'CGTCTACTGTTGCATCATTTAGTGACCTAGCACTTTG',\n",
       "  'ATTTATATAAGTATGCAGGTGAGGGGATTTTTTGATA',\n",
       "  'TATTAAAAAATTACTACCTTTAAGTTGACCTTTTAAA',\n",
       "  'AAATATTAGATAGAATAGGGATAAATGAAGAATATG',\n",
       "  'CAGAGATAGAAATTATTTTTATTATACGTTTTTTTGT',\n",
       "  'TAATTTGTTCTATTTTTTTATCTAGTAACTTAATTGG',\n",
       "  'AACTACATATAAATAAATTCAAAGCCATGAAATTCG',\n",
       "  'ACGGATACTTTCTTTTCTTGCATCAGCATTTTGTTTCA',\n",
       "  'TATAATATAATGTTTAGTATAACTAAATAATTTTGA',\n",
       "  'CTTATGGTACTCTTACAAGAGTAGAAGGTGTATACCT',\n",
       "  'AGAATAAGATAACAACAATAGAATATAAAAATATCGT',\n",
       "  'TATTAAAATCTGTGAAAAATGCTTGGATGCCAACTCG',\n",
       "  'GTTATTCAGATGCATATAAAAACGCAGGTCAAACCTT',\n",
       "  'AAATTGAAGTAATAAAGAAAATAAGCTATGAAGCTA']]"
      ]
     },
     "execution_count": 21,
     "metadata": {},
     "output_type": "execute_result"
    }
   ],
   "source": [
    "strain1"
   ]
  },
  {
   "cell_type": "code",
   "execution_count": 30,
   "metadata": {},
   "outputs": [],
   "source": [
    "def comp(s):\n",
    "    s_comp = ''\n",
    "    for c in s:\n",
    "        if c == 'A':\n",
    "            s_comp += 'T'\n",
    "        elif c == 'C':\n",
    "            s_comp += 'G'\n",
    "        elif c == 'G':\n",
    "            s_comp += 'C'\n",
    "        elif c == 'T':\n",
    "            s_comp += 'A'\n",
    "        else:\n",
    "            s_comp += c\n",
    "    return s_comp[::-1]"
   ]
  },
  {
   "cell_type": "code",
   "execution_count": 31,
   "metadata": {},
   "outputs": [
    {
     "data": {
      "text/plain": [
       "11"
      ]
     },
     "execution_count": 31,
     "metadata": {},
     "output_type": "execute_result"
    }
   ],
   "source": [
    "len(strain1)"
   ]
  },
  {
   "cell_type": "code",
   "execution_count": 32,
   "metadata": {},
   "outputs": [],
   "source": [
    "strain1_comp = strain1[:6] + [[comp(x) for x in y] for y in strain1[6:]]"
   ]
  },
  {
   "cell_type": "code",
   "execution_count": 33,
   "metadata": {},
   "outputs": [
    {
     "data": {
      "text/plain": [
       "[['C_009089_9',\n",
       "  'CTAGAATTAGAACTCATTATTAAAACCATTCTTGCA',\n",
       "  'TAATCTGACACATACAAAGTTGAACCTAGTGGTACG',\n",
       "  'AAAAGCGTTCTTAAATCGTTACTTAACTCTTGCAAA',\n",
       "  'TGGTATATCATACTCGTGCATTGCCTGCTCCACATT',\n",
       "  'ATACAACCATATATTTACCAATTATGTACTTATGAA',\n",
       "  'TTTTTTAACTTTTCAGTTCTCACAGGCGTTTCATC',\n",
       "  'TTCATATTCCAAGCGTTTTGCTTACACTTAATAGAA',\n",
       "  'AAAATTAAATTTCATGCTCTTAGACATACATATGCA',\n",
       "  'TAGATTGCTTTCAAATTACCTCTTGTATAGCGTCT',\n",
       "  'TTGCTCCGCTATGCCTTGCGCTCTCTAATATCGCTT',\n",
       "  'TGAACTTTAATCGGTTTTATACAACAATATAACG',\n",
       "  'TCACACATGAGCAATATCGAAACAGGCAAATCTACA',\n",
       "  'TTCGTAAAATAACAATTATCTGGAATATGAGAAGTT',\n",
       "  'CACTCTTAAGTTGTGACCTATCTGATATATGATTAA',\n",
       "  'TCAATATCTATATTAAGTTTATTTTTAAAAACATC'],\n",
       " ['C_009089_3',\n",
       "  'GTAGAGTCTTTATATGGTAGAGGTGGAATATATAAG',\n",
       "  'AACTCTTCAATATCTCCTAATCGTTCAATATAATTC',\n",
       "  'ACTGTATGCCATCTAAATGCATCATACAAACTTATT',\n",
       "  'TATACTTCCTAATGCAATCAAATAAGTACCTAAAAT',\n",
       "  'TTCGCAACTTATGATGGTGAAATGATTACATTAACA',\n",
       "  'AATATAACAAAGTGGATGTTCTCTAAAAATAAAGA'],\n",
       " ['C_009089_7',\n",
       "  'TAAAACCACTCAATTCTTAAAAGATACTGCAATTAT',\n",
       "  'GGACATTTTAACCATAGACTATTTTACAAACAAACT',\n",
       "  'GGAGATTTAAAAGTTAACAACATAAAAATGATAGAT',\n",
       "  'TGGTGAACAATAAAACAATCATCTAAAGACGAAGAA',\n",
       "  'ATAATCCAGAAGATGATACACTTCTTGAACAATATA',\n",
       "  'CTATCAATATATATTTTATAAGCATAAGTTTTACGC',\n",
       "  'AACAACGTCATATATATCATCTTTAGTTGTAAGAGC',\n",
       "  'AGTTATGTCAAATTATTAGAAACTAAAAACCTAGTT',\n",
       "  'AATATCTAAAAAAAACGACTTATATCCCATTTCTAC',\n",
       "  'AATTTAGAAAAGGACTATTAGGAAGCAAAGAAAAAA',\n",
       "  'AAAGTAAATCCTAGAGCATAACCAATTTTCGTAGG',\n",
       "  'AGTATAATGTTGAAAAGTTAGAGAGTACAATCAAGA'],\n",
       " ['C_009089_4',\n",
       "  'GTTTGAGAACGCTGTATAAAGCTTGTAGCTAGTTCT',\n",
       "  'GTTGCATCATTAAATATTTTCCCTACAAACTCTTTT',\n",
       "  'AGTACATACAAAGAGTCTATAAAATTATCTATAAA'],\n",
       " ['C_009089_8',\n",
       "  'TATCTATTATTGGTATATTAAATGATTCTAATAATT',\n",
       "  'ATGTTCACATTGACAGCTCAAGATAAACATGGAATT',\n",
       "  'TTAAATCGTTTGATTGGAAGTATAAATTATAATGAC',\n",
       "  'GCTGAAAGTTTAAAAGTTTTAACTATAAATTCAGTT',\n",
       "  'TCTTTTTCTAATGCTTTTTTTACATATGGAGCTAAC',\n",
       "  'CCATCAGCCTTATCCTGTGCAAATAATAGTGCCAAG',\n",
       "  'AGGAGATAACTTCTATTAAAGATAACTTTGATGTGG',\n",
       "  'CTCAAAGTTGGACTAGCTTCATCTTTTAATTTTAC'],\n",
       " ['C_009089_6',\n",
       "  'AAGCTTTCATAGCATCCTCTTCTGAACATTCATCAC',\n",
       "  'TAGTAAGTTAACTCATACATACCACCTTCCCCATAA',\n",
       "  'TATTATAAATCTTTAAATAGCCTTCTAAGCGTCTAC',\n",
       "  'ACATTATCAACATCATCTAATTTTTTTGTCACTGTA',\n",
       "  'TAAGAATTAACTAATGTGAATTTTTTAGACATGTCA',\n",
       "  'ACAAACAAGTGTAGGATAAACTTTCCTTGCCCAGTA',\n",
       "  'TAACAAAATTTGCGAGTACACTTATTTCTAATATAT',\n",
       "  'ATAAGAGTGGTTTAAGAAAATAAGTTATTTTTCAAA',\n",
       "  'TGACTCGTGCTATTTTTTTTACACGCCTAAGAGGTA',\n",
       "  'CGAAAAATCTAGGAAAAACTATTGTAAAAGCGTTTA',\n",
       "  'TTTGATTACATGGGCAGTTTTTTATTATAGAGTGTT',\n",
       "  'AAAAATCTTATTAAAGATTATTCAAAGTCTTTTGAT',\n",
       "  'AACAAAAAAGATACATCTGTAACTAATTTTTATA'],\n",
       " ['11_980900_G',\n",
       "  'TGCTGTGATTTCACTAATAAAACAATTAATAATTGT',\n",
       "  'GTTCCTGTTGTGTTTTTTACTAATCCCATTTTATAT',\n",
       "  'GATGAACAATAAAACAATCATCTAAAGACGAAGAAA',\n",
       "  'GACAAAGCGACTATTACTATCTCAGGTGATAAAAAT',\n",
       "  'AAAAGTTGCACGCCTATTTGATTTTTCAATACATTAT',\n",
       "  'TCTCATGACTATTGAATAAATATAATAAACAAGCATAC',\n",
       "  'CAGCCAAAAACTTCGAATTTGAACTAAAATGCGTGG',\n",
       "  'ATTTGAAAGGAATAAATTTTAAATGAATGAAAGGATAG',\n",
       "  'GCGTACAAGGTTGAGAAGCTCCGCAATCTCAACGTCGT',\n",
       "  'AACTTTATATCTCCATTTGCATATCCATCTGATGAAC',\n",
       "  'GAGGAGATTCAGACAGCGACTAAAAAGACTGATATAAA',\n",
       "  'AACGTACAAAATGTAGCTATTATCATCTTTTAGATAGT',\n",
       "  'CTTTTTCCGAAAAACCATTACTTACAAAATCTACAA',\n",
       "  'TCCTTTCATTTCTCCTTTAGCTTCATAGCTTATTTT'],\n",
       " ['21_980900_G',\n",
       "  'CGTATTAACACCTGTTCGGCACTATCACAATAAACACAA',\n",
       "  'TTGTTTAGGTCAAGTCTAATTTGACGTATTAAAGTATA',\n",
       "  'GCTATAGAAGTAGCAGACTTAGGAACATCAGAAAAA',\n",
       "  'TATCCTTGTATTTGCCTAACGCGATATAGAGCAAAAA',\n",
       "  'TGTTTTCCATAAACATTTCTAATTGACTTTTATTGTT',\n",
       "  'AAGGTGTCCATTGATTTCTTTCAGTTTCGGGAATA'],\n",
       " ['51_980900_G',\n",
       "  'AGTACATACAAAGAGTCTATAAAATTATCTATAAAGG',\n",
       "  'GTTGCATCATTAAATATTTTCCCTACAAACTCTTTTC',\n",
       "  'TTTGAGAACGCTGTATAAAGCTTGTAGCTAGTTCTT'],\n",
       " ['61_980900_G',\n",
       "  'AATATAACAAAGTGGATGTTCTCTAAAAATAAAGAGG',\n",
       "  'TTCGCAACTTATGATGGTGAAATGATTACATTAACAG',\n",
       "  'TATACTTCCTAATGCAATCAAATAAGTACCTAAAATC',\n",
       "  'ACTGTATGCCATCTAAATGCATCATACAAACTTATTT',\n",
       "  'AACTCTTCAATATCTCCTAATCGTTCAATATAATTCTC',\n",
       "  'TAGAGTCTTTATATGGTAGAGGTGGAATATATAAGT'],\n",
       " ['71_980900_G',\n",
       "  'TTGTAGAATCAACAATAGCATATACTAAAACATCC',\n",
       "  'AGAATATTAGCAATATCAACGAGTATTTAGAAACTT',\n",
       "  'AGGATAAAGAAAAGACTCACACAAGACACAGTGTCAG',\n",
       "  'TATCTAAAACCCAATAGGATTGACACGTTACGACCG',\n",
       "  'CCTGTATTCTGTTTAATGCTTCAATAGCTCTTTCTT',\n",
       "  'CAAAGTGCTAGGTCACTAAATGATGCAACAGTAGACG',\n",
       "  'TATCAAAAAATCCCCTCACCTGCATACTTATATAAAT',\n",
       "  'TTTAAAAGGTCAACTTAAAGGTAGTAATTTTTTAATA',\n",
       "  'CATATTCTTCATTTATCCCTATTCTATCTAATATTT',\n",
       "  'ACAAAAAAACGTATAATAAAAATAATTTCTATCTCTG',\n",
       "  'CCAATTAAGTTACTAGATAAAAAAATAGAACAAATTA',\n",
       "  'CGAATTTCATGGCTTTGAATTTATTTATATGTAGTT',\n",
       "  'TGAAACAAAATGCTGATGCAAGAAAAGAAAGTATCCGT',\n",
       "  'TCAAAATTATTTAGTTATACTAAACATTATATTATA',\n",
       "  'AGGTATACACCTTCTACTCTTGTAAGAGTACCATAAG',\n",
       "  'ACGATATTTTTATATTCTATTGTTGTTATCTTATTCT',\n",
       "  'CGAGTTGGCATCCAAGCATTTTTCACAGATTTTAATA',\n",
       "  'AAGGTTTGACCTGCGTTTTTATATGCATCTGAATAAC',\n",
       "  'TAGCTTCATAGCTTATTTTCTTTATTACTTCAATTT']]"
      ]
     },
     "execution_count": 33,
     "metadata": {},
     "output_type": "execute_result"
    }
   ],
   "source": [
    "strain1_comp"
   ]
  },
  {
   "cell_type": "code",
   "execution_count": 34,
   "metadata": {},
   "outputs": [],
   "source": [
    "strain1_comp_f = [x[1:] for x in strain1_comp]"
   ]
  },
  {
   "cell_type": "code",
   "execution_count": 36,
   "metadata": {},
   "outputs": [
    {
     "data": {
      "text/plain": [
       "11"
      ]
     },
     "execution_count": 36,
     "metadata": {},
     "output_type": "execute_result"
    }
   ],
   "source": [
    "len(strain1_comp_f)"
   ]
  },
  {
   "cell_type": "code",
   "execution_count": 58,
   "metadata": {},
   "outputs": [],
   "source": [
    "with open(\"../data/answers/Clo_009089.txt\", 'w') as f:\n",
    "    f.writelines([','.join(x)+\"\\n\" for x in strain1_comp_f])"
   ]
  },
  {
   "cell_type": "code",
   "execution_count": 41,
   "metadata": {},
   "outputs": [],
   "source": [
    "strain2_f = [x[1:] for x in strain2]"
   ]
  },
  {
   "cell_type": "code",
   "execution_count": 59,
   "metadata": {},
   "outputs": [],
   "source": [
    "with open(\"../data/answers/Clo_013316.txt\", 'w') as f:\n",
    "    f.writelines([','.join(x)+\"\\n\" for x in strain2_f])"
   ]
  },
  {
   "cell_type": "code",
   "execution_count": null,
   "metadata": {},
   "outputs": [],
   "source": []
  },
  {
   "cell_type": "code",
   "execution_count": null,
   "metadata": {},
   "outputs": [],
   "source": []
  },
  {
   "cell_type": "code",
   "execution_count": 62,
   "metadata": {},
   "outputs": [],
   "source": [
    "with open(\"../data/answers/Clo_009089.txt\") as f:\n",
    "    s2 = [x[:-2].split(\",\") for x in f.readlines()]"
   ]
  },
  {
   "cell_type": "code",
   "execution_count": null,
   "metadata": {},
   "outputs": [],
   "source": []
  },
  {
   "cell_type": "code",
   "execution_count": 70,
   "metadata": {},
   "outputs": [],
   "source": [
    "import networkx as nx\n",
    "import matplotlib.pyplot as plt"
   ]
  },
  {
   "cell_type": "code",
   "execution_count": 90,
   "metadata": {},
   "outputs": [],
   "source": [
    "G = nx.DiGraph()"
   ]
  },
  {
   "cell_type": "code",
   "execution_count": 94,
   "metadata": {},
   "outputs": [],
   "source": [
    "arrs = [[1,2,3,4], [8,12,16]]\n",
    "for arr in arrs:\n",
    "    G.add_path(arr)\n",
    "pos = prepare_pos(arrs)[0]"
   ]
  },
  {
   "cell_type": "code",
   "execution_count": 95,
   "metadata": {},
   "outputs": [
    {
     "data": {
      "text/plain": [
       "{1: (0, 0), 2: (1, 0), 3: (2, 0), 4: (3, 0), 8: (0, 1), 12: (1, 1), 16: (2, 1)}"
      ]
     },
     "execution_count": 95,
     "metadata": {},
     "output_type": "execute_result"
    }
   ],
   "source": [
    "pos"
   ]
  },
  {
   "cell_type": "code",
   "execution_count": 96,
   "metadata": {},
   "outputs": [
    {
     "data": {
      "image/png": "[encoded data removed]",
      "text/plain": [
       "<matplotlib.figure.Figure at 0x7f102c81d390>"
      ]
     },
     "metadata": {},
     "output_type": "display_data"
    }
   ],
   "source": [
    "#nx.draw_networkx(G,  alpha = 0.5, pos=pos)\n",
    "nx.draw_networkx(G, node_color='g', alpha = 0.5, pos=pos)"
   ]
  },
  {
   "cell_type": "code",
   "execution_count": null,
   "metadata": {},
   "outputs": [],
   "source": [
    "pos = dict(zip(np.arange(200), np.arange(200)))"
   ]
  },
  {
   "cell_type": "code",
   "execution_count": null,
   "metadata": {},
   "outputs": [],
   "source": []
  },
  {
   "cell_type": "code",
   "execution_count": 87,
   "metadata": {},
   "outputs": [],
   "source": [
    "def prepare_pos(arrs, start_x = 0, start_y = 0):\n",
    "    pos = {}\n",
    "    x, y = 0, 0\n",
    "    for arr in arrs:\n",
    "        for el in arr:\n",
    "            pos[el] = (x,y)\n",
    "            x += 1\n",
    "        y += 1\n",
    "        x = 0\n",
    "    return pos, x, y"
   ]
  },
  {
   "cell_type": "code",
   "execution_count": null,
   "metadata": {},
   "outputs": [],
   "source": []
  },
  {
   "cell_type": "code",
   "execution_count": 84,
   "metadata": {},
   "outputs": [],
   "source": [
    "G.add_edge(0, 1)\n",
    "G.add_edge(1, 2)\n",
    "G.add_edge(2, 3)\n",
    "pos = {0:(0,0), 1:(1,0), 2:(2,0), 3:(3,0)}"
   ]
  },
  {
   "cell_type": "code",
   "execution_count": null,
   "metadata": {},
   "outputs": [],
   "source": []
  },
  {
   "cell_type": "code",
   "execution_count": null,
   "metadata": {},
   "outputs": [],
   "source": []
  },
  {
   "cell_type": "code",
   "execution_count": 107,
   "metadata": {},
   "outputs": [],
   "source": [
    "import sys, os\n",
    "import numpy as np"
   ]
  },
  {
   "cell_type": "code",
   "execution_count": 108,
   "metadata": {},
   "outputs": [],
   "source": [
    "sys.path.append(\"/home/anton/BigMac/skoltech/CRISPR_research/notebooks/\")"
   ]
  },
  {
   "cell_type": "code",
   "execution_count": 109,
   "metadata": {
    "scrolled": true
   },
   "outputs": [],
   "source": [
    "import utils.plot_utils as pu\n",
    "import utils.hierarcical_utils as hu\n",
    "import utils.hamiltonian_utils as hamu"
   ]
  },
  {
   "cell_type": "code",
   "execution_count": 110,
   "metadata": {},
   "outputs": [],
   "source": [
    "from importlib import reload\n",
    "hu = reload(hu)\n",
    "hamu = reload(hamu)\n",
    "pu = reload(pu)"
   ]
  },
  {
   "cell_type": "code",
   "execution_count": 141,
   "metadata": {},
   "outputs": [],
   "source": [
    "import pickle\n",
    "import numpy as np\n",
    "import editdistance as ed"
   ]
  },
  {
   "cell_type": "code",
   "execution_count": 136,
   "metadata": {},
   "outputs": [],
   "source": [
    "def search_best_alignment(a, b, t = 2):\n",
    "    answ = ('', '')\n",
    "    indexes = (-1,-1,-1,-1)\n",
    "    b_index = -1\n",
    "    \n",
    "    for i, x in enumerate(b):\n",
    "        curr_answ, curr_indexes = best_alignment(a, x, t)\n",
    "        if len(curr_answ[0]) >= len(answ[0]) and len(curr_answ[1]) >= len(answ[1]):\n",
    "            answ = curr_answ\n",
    "            indexes = curr_indexes\n",
    "            b_index = i\n",
    "        curr_answ, curr_indexes = best_alignment(a[::-1], x, t)\n",
    "        if len(curr_answ[0]) >= len(answ[0]) and len(curr_answ[1]) >= len(answ[1]):\n",
    "            answ = curr_answ\n",
    "            indexes = curr_indexes\n",
    "            b_index = i\n",
    "        \n",
    "    return answ, b_index, indexes"
   ]
  },
  {
   "cell_type": "code",
   "execution_count": 139,
   "metadata": {},
   "outputs": [],
   "source": [
    "def best_alignment(a, b, t):\n",
    "    '''worst implementation of best alignment ever'''\n",
    "    answ = ('','')\n",
    "    i1a, i2a, j1a, j2a = -1,-1,-1,-1\n",
    "    for i1 in range(0, len(a)):\n",
    "        for i2 in range(i1 + 1, len(a) + 1):\n",
    "            check_a = a[i1:i2]\n",
    "            for j1 in range(0, len(b)):\n",
    "                for j2 in range(j1 + 1,  len(b) + 1):\n",
    "                    check_b = b[j1:j2]\n",
    "                    if ed.eval(check_a, check_b) <= t and len(check_a) >= len(answ[0]) and len(check_b) >= len(answ[1]):\n",
    "                        answ = (check_a, check_b)\n",
    "                        i1a, i2a, j1a, j2a = i1,i2,j1,j2\n",
    "    \n",
    "    return answ, (i1a,i2a,j1a,j2a)\n"
   ]
  },
  {
   "cell_type": "code",
   "execution_count": null,
   "metadata": {},
   "outputs": [],
   "source": []
  },
  {
   "cell_type": "code",
   "execution_count": 103,
   "metadata": {},
   "outputs": [],
   "source": [
    "answ_110 = pickle.load(open(\"../data/clostr_res/110_nd\", 'rb'))\n",
    "answ_13 = pickle.load(open(\"../data/clostr_res/13_nd\", 'rb'))"
   ]
  },
  {
   "cell_type": "code",
   "execution_count": 104,
   "metadata": {},
   "outputs": [],
   "source": [
    "gr110 = np.load(\"../data/clostr_res/110.npy\")\n",
    "gr13 = np.load(\"../data/clostr_res/13.npy\")"
   ]
  },
  {
   "cell_type": "code",
   "execution_count": 115,
   "metadata": {
    "scrolled": false
   },
   "outputs": [],
   "source": [
    "bars_110 = []\n",
    "bars_13 = []\n",
    "for item in answ_110.items():\n",
    "    if item[1] > 100:\n",
    "        bars_110.append(answ_110[item[0]])\n",
    "        bars_13.append(answ_13[hu.find_closest(answ_13, item[0])[1]])\n",
    "        #print(answ_110[item[0]], answ_13[hu.find_closest(answ_13, item[0])[1]])"
   ]
  },
  {
   "cell_type": "code",
   "execution_count": 123,
   "metadata": {},
   "outputs": [
    {
     "data": {
      "text/plain": [
       "<Container object of 100 artists>"
      ]
     },
     "execution_count": 123,
     "metadata": {},
     "output_type": "execute_result"
    },
    {
     "data": {
      "image/png": "[encoded data removed]",
      "text/plain": [
       "<matplotlib.figure.Figure at 0x7f102bedc6d8>"
      ]
     },
     "metadata": {},
     "output_type": "display_data"
    }
   ],
   "source": [
    "i,j = 0, 100\n",
    "plt.figure(figsize=(14, 6))\n",
    "plt.bar(np.arange(len(bars_110[i:j])), bars_110[i:j], alpha = 0.50)\n",
    "plt.bar(np.arange(len(bars_13[i:j])), bars_13[i:j], alpha = 0.50)"
   ]
  },
  {
   "cell_type": "code",
   "execution_count": 127,
   "metadata": {},
   "outputs": [],
   "source": [
    "arrays_110 = pickle.load(open(\"../data/clostr_res/arrays_110\", 'rb'))\n",
    "arrays_13 = pickle.load(open(\"../data/clostr_res/arrays_13\", 'rb'))"
   ]
  },
  {
   "cell_type": "code",
   "execution_count": 128,
   "metadata": {},
   "outputs": [],
   "source": [
    "n_to_cl_110 = pickle.load(open(\"../data/clostr_res/n_to_cl_13\", 'rb'))\n",
    "n_to_cl_13 = pickle.load(open(\"../data/clostr_res/n_to_cl_13\", 'rb'))"
   ]
  },
  {
   "cell_type": "code",
   "execution_count": 129,
   "metadata": {},
   "outputs": [],
   "source": [
    "cl_to_n_110 = pickle.load(open(\"../data/clostr_res/110_cl_to_n\", 'rb'))\n",
    "cl_to_n_13 = pickle.load(open(\"../data/clostr_res/13_cl_to_n\", 'rb'))"
   ]
  },
  {
   "cell_type": "code",
   "execution_count": 144,
   "metadata": {
    "scrolled": true
   },
   "outputs": [],
   "source": [
    "transfered = [cl_to_n_13[hu.find_closest(cl_to_n_13, n_to_cl_110[x])[1]] for x in arrays_110[0]]"
   ]
  },
  {
   "cell_type": "code",
   "execution_count": null,
   "metadata": {},
   "outputs": [],
   "source": []
  },
  {
   "cell_type": "code",
   "execution_count": null,
   "metadata": {},
   "outputs": [],
   "source": []
  },
  {
   "cell_type": "code",
   "execution_count": null,
   "metadata": {},
   "outputs": [],
   "source": []
  }
 ],
 "metadata": {
  "kernelspec": {
   "display_name": "Python 3",
   "language": "python",
   "name": "python3"
  },
  "language_info": {
   "codemirror_mode": {
    "name": "ipython",
    "version": 3
   },
   "file_extension": ".py",
   "mimetype": "text/x-python",
   "name": "python",
   "nbconvert_exporter": "python",
   "pygments_lexer": "ipython3",
   "version": "3.6.3"
  }
 },
 "nbformat": 4,
 "nbformat_minor": 2
}
