{
 "cells": [
  {
   "cell_type": "code",
   "execution_count": 1,
   "metadata": {},
   "outputs": [
    {
     "name": "stderr",
     "output_type": "stream",
     "text": [
      "/home/anton/anaconda3/lib/python3.6/site-packages/h5py/__init__.py:34: FutureWarning: Conversion of the second argument of issubdtype from `float` to `np.floating` is deprecated. In future, it will be treated as `np.float64 == np.dtype(float).type`.\n",
      "  from ._conv import register_converters as _register_converters\n"
     ]
    }
   ],
   "source": [
    "import tensorflow as tf\n",
    "\n",
    "import numpy as np\n",
    "import matplotlib.pyplot as plt\n",
    "\n",
    "from importlib import reload\n",
    "import os\n",
    "\n",
    "from IPython import display\n",
    "%matplotlib inline\n",
    "\n",
    "import pickle"
   ]
  },
  {
   "cell_type": "code",
   "execution_count": null,
   "metadata": {},
   "outputs": [],
   "source": []
  },
  {
   "cell_type": "code",
   "execution_count": 2,
   "metadata": {},
   "outputs": [],
   "source": [
    "from tqdm import tqdm, tqdm_notebook\n",
    "import time"
   ]
  },
  {
   "cell_type": "code",
   "execution_count": 3,
   "metadata": {
    "scrolled": true
   },
   "outputs": [
    {
     "name": "stderr",
     "output_type": "stream",
     "text": [
      "Using TensorFlow backend.\n"
     ]
    }
   ],
   "source": [
    "from keras.models import Model, load_model\n",
    "from keras.layers import Input\n",
    "from keras.layers.core import Lambda\n",
    "from keras.layers.convolutional import Conv2D, Conv2DTranspose\n",
    "from keras.layers.pooling import MaxPooling2D\n",
    "from keras.layers.merge import concatenate\n",
    "from keras.callbacks import EarlyStopping, ModelCheckpoint\n",
    "from keras import backend as K"
   ]
  },
  {
   "cell_type": "code",
   "execution_count": 4,
   "metadata": {},
   "outputs": [],
   "source": [
    "def plot_gr(gr, start=0, end=-1, log = False, all_ticks = False,  s=10):\n",
    "    plt.figure(figsize=(s,s))\n",
    "    if end == -1:\n",
    "        end = gr.shape[0]\n",
    "    if log:\n",
    "        plt.imshow(np.log(gr[start:end,start:end] + 1))\n",
    "    else:\n",
    "        plt.imshow(gr[start:end,start:end])\n",
    "    plt.colorbar()\n",
    "    if all_ticks: \n",
    "        plt.xticks(np.arange(start,end))\n",
    "        plt.yticks(np.arange(start,end))\n",
    "    plt.show()"
   ]
  },
  {
   "cell_type": "code",
   "execution_count": 5,
   "metadata": {},
   "outputs": [],
   "source": [
    "def plot_group(*args, s = 7):\n",
    "    n = len(args) // 2\n",
    "    \n",
    "    plt.figure(figsize=(s,s))\n",
    "    f, a = plt.subplots(1, n,figsize=(s,s))\n",
    "    #f.set_figsize((s,s))\n",
    "    for i in range(n):\n",
    "        im = args[2*i]\n",
    "        if args[2*i + 1]:\n",
    "            im = np.log(im + 1)\n",
    "        a[i].imshow(im)\n",
    "\n",
    "    plt.show()"
   ]
  },
  {
   "cell_type": "code",
   "execution_count": 6,
   "metadata": {},
   "outputs": [],
   "source": [
    "def normalize(X, axis = 1):\n",
    "    sums = X.sum(axis)\n",
    "    sums[sums == 0] = 1\n",
    "    D = np.diag(1 / np.sqrt(sums))\n",
    "    \n",
    "    return np.dot(np.dot(D, X), D)"
   ]
  },
  {
   "cell_type": "code",
   "execution_count": null,
   "metadata": {},
   "outputs": [],
   "source": []
  },
  {
   "cell_type": "code",
   "execution_count": 9,
   "metadata": {},
   "outputs": [],
   "source": [
    "def normalize_left(X, axis = 1):\n",
    "    sums = X.sum(axis)\n",
    "    sums[sums == 0] = 1\n",
    "    D = np.diag(1 / sums)\n",
    "    \n",
    "    return np.dot(D, X)"
   ]
  },
  {
   "cell_type": "code",
   "execution_count": 10,
   "metadata": {},
   "outputs": [],
   "source": [
    "def normalize_right(X, axis = 1):\n",
    "    sums = X.sum(axis)\n",
    "    sums[sums == 0] = 1\n",
    "    D = np.diag(1 / sums)\n",
    "    \n",
    "    return np.dot(X, D)"
   ]
  },
  {
   "cell_type": "code",
   "execution_count": 11,
   "metadata": {},
   "outputs": [],
   "source": [
    "def normalize_arr(X,normalizer, axis = 1):\n",
    "    X_n = np.zeros_like(X)\n",
    "    for i, x in enumerate(X):\n",
    "        X_n[i] = normalizer(x, axis)\n",
    "    return X_n"
   ]
  },
  {
   "cell_type": "code",
   "execution_count": 86,
   "metadata": {},
   "outputs": [],
   "source": [
    "#X = np.save(\"../../data/simulation/1000_35_like_true/populations\", synthetic_populations)\n",
    "y = np.load(\"../data/simulation/1000_35_like_true/populations_gr.npy\")[:, :32, :32]\n",
    "X = np.load(\"../data/simulation/1000_35_like_true/amp_gr.npy\")[:, :32, :32] \n",
    "#json.dump(params, open(\"../../data/simulation/1000_35_like_true/params.json\", 'w'))"
   ]
  },
  {
   "cell_type": "code",
   "execution_count": 200,
   "metadata": {},
   "outputs": [],
   "source": [
    "#X = np.save(\"../../data/simulation/1000_35_like_true/populations\", synthetic_populations)\n",
    "X = np.load(\"./X.npy\")[:, :32, :32]\n",
    "y = np.load(\"./Y.npy\")[:, :32, :32] \n",
    "#json.dump(params, open(\"../../data/simulation/1000_35_like_true/params.json\", 'w'))"
   ]
  },
  {
   "cell_type": "code",
   "execution_count": 201,
   "metadata": {},
   "outputs": [],
   "source": [
    "def process_x(X):\n",
    "    if len(X.shape) == 2:\n",
    "        X = np.expand_dims(X, 0)\n",
    "    \n",
    "    #X = np.log(X + 1) / np.log(X + 1).max()\n",
    "    X_list = []\n",
    "    for nrmlzr in [normalize, normalize_left, normalize_right]:\n",
    "        for i in [0, 1]:\n",
    "            X_list.append(np.expand_dims(normalize_arr(X, nrmlzr, i), 1))\n",
    "    X = np.expand_dims(X, 1)\n",
    "    X_list.append(np.log(X + 1) / np.log(X + 1).max())\n",
    "    #X_list.append(X)\n",
    "    \n",
    "    return np.transpose(np.concatenate(X_list, 1), [0,2,3,1])"
   ]
  },
  {
   "cell_type": "code",
   "execution_count": 199,
   "metadata": {},
   "outputs": [
    {
     "data": {
      "text/plain": [
       "21130.78714967024"
      ]
     },
     "execution_count": 199,
     "metadata": {},
     "output_type": "execute_result"
    }
   ],
   "source": [
    "350 ** 1.7"
   ]
  },
  {
   "cell_type": "code",
   "execution_count": 202,
   "metadata": {},
   "outputs": [],
   "source": [
    "X = X ** 1.7"
   ]
  },
  {
   "cell_type": "code",
   "execution_count": 203,
   "metadata": {},
   "outputs": [
    {
     "data": {
      "text/plain": [
       "21336.467960257043"
      ]
     },
     "execution_count": 203,
     "metadata": {},
     "output_type": "execute_result"
    }
   ],
   "source": [
    "X[0].max()"
   ]
  },
  {
   "cell_type": "code",
   "execution_count": 204,
   "metadata": {},
   "outputs": [],
   "source": [
    "X_p = process_x(X)"
   ]
  },
  {
   "cell_type": "code",
   "execution_count": 205,
   "metadata": {},
   "outputs": [
    {
     "data": {
      "text/plain": [
       "(1000, 32, 32, 7)"
      ]
     },
     "execution_count": 205,
     "metadata": {},
     "output_type": "execute_result"
    }
   ],
   "source": [
    "X_p.shape"
   ]
  },
  {
   "cell_type": "code",
   "execution_count": 206,
   "metadata": {},
   "outputs": [],
   "source": [
    "def norm(x):\n",
    "    maxes = x.max(2)\n",
    "    maxes[maxes == 0] = 1\n",
    "    #print(maxes.astype(int))\n",
    "    return x / maxes.reshape(x.shape[0], x.shape[1], 1)"
   ]
  },
  {
   "cell_type": "code",
   "execution_count": 207,
   "metadata": {},
   "outputs": [],
   "source": [
    "#X_n = normalize_arr(X)\n",
    "y_n = (y > 0).astype(int)"
   ]
  },
  {
   "cell_type": "code",
   "execution_count": 211,
   "metadata": {},
   "outputs": [
    {
     "data": {
      "image/png": "[encoded data removed]",
      "text/plain": [
       "<matplotlib.figure.Figure at 0x7fb177eab6d8>"
      ]
     },
     "metadata": {},
     "output_type": "display_data"
    }
   ],
   "source": [
    "plot_gr(X_p[0,:,:,6], log = 1)"
   ]
  },
  {
   "cell_type": "code",
   "execution_count": 96,
   "metadata": {},
   "outputs": [
    {
     "data": {
      "image/png": "[encoded data removed]",
      "text/plain": [
       "<matplotlib.figure.Figure at 0x7fb14a954a20>"
      ]
     },
     "metadata": {},
     "output_type": "display_data"
    }
   ],
   "source": [
    "plot_gr(y_n[0])"
   ]
  },
  {
   "cell_type": "code",
   "execution_count": 20,
   "metadata": {},
   "outputs": [],
   "source": [
    "def iterate_minibatches(x, y, batchsize, shuffle=True):\n",
    "    if shuffle:\n",
    "        indices = np.arange(x.shape[0])\n",
    "        np.random.shuffle(indices)\n",
    "    for start_idx in range(0, x.shape[0] - batchsize + 1, batchsize):\n",
    "        if shuffle:\n",
    "            excerpt = indices[start_idx:start_idx + batchsize]\n",
    "        else:\n",
    "            excerpt = slice(start_idx, start_idx + batchsize)\n",
    "        yield x[excerpt], y[excerpt]"
   ]
  },
  {
   "cell_type": "code",
   "execution_count": 21,
   "metadata": {},
   "outputs": [],
   "source": [
    "def get_Unet(name, shape):\n",
    "    with tf.variable_scope(name) as scope:\n",
    "        x = tf.placeholder(\"float\", shape=[None, None, None, shape])\n",
    "        c1 = Conv2D(8, (3, 3), activation='relu', padding='same') (x)\n",
    "        c1 = Conv2D(8, (3, 3), activation='relu', padding='same') (c1)\n",
    "        p1 = MaxPooling2D((2, 2)) (c1)\n",
    "\n",
    "        c2 = Conv2D(16, (3, 3), activation='relu', padding='same') (p1)\n",
    "        c2 = Conv2D(16, (3, 3), activation='relu', padding='same') (c2)\n",
    "        p2 = MaxPooling2D((2, 2)) (c2)\n",
    "\n",
    "        c3 = Conv2D(32, (3, 3), activation='relu', padding='same') (p2)\n",
    "        c3 = Conv2D(32, (3, 3), activation='relu', padding='same') (c3)\n",
    "        p3 = MaxPooling2D((2, 2)) (c3)\n",
    "\n",
    "        c4 = Conv2D(64, (3, 3), activation='relu', padding='same') (p3)\n",
    "        c4 = Conv2D(64, (3, 3), activation='relu', padding='same') (c4)\n",
    "        p4 = MaxPooling2D(pool_size=(2, 2)) (c4)\n",
    "\n",
    "        c5 = Conv2D(128, (3, 3), activation='relu', padding='same') (p4)\n",
    "        c5 = Conv2D(128, (3, 3), activation='relu', padding='same') (c5)\n",
    "\n",
    "        u6 = Conv2DTranspose(64, (2, 2), strides=(2, 2), padding='same') (c5)\n",
    "        u6 = concatenate([u6, c4])\n",
    "        c6 = Conv2D(64, (3, 3), activation='relu', padding='same') (u6)\n",
    "        c6 = Conv2D(64, (3, 3), activation='relu', padding='same') (c6)\n",
    "\n",
    "        u7 = Conv2DTranspose(32, (2, 2), strides=(2, 2), padding='same') (c6)\n",
    "        u7 = concatenate([u7, c3])\n",
    "        c7 = Conv2D(32, (3, 3), activation='relu', padding='same') (u7)\n",
    "        c7 = Conv2D(32, (3, 3), activation='relu', padding='same') (c7)\n",
    "\n",
    "        u8 = Conv2DTranspose(16, (2, 2), strides=(2, 2), padding='same') (c7)\n",
    "        u8 = concatenate([u8, c2])\n",
    "        c8 = Conv2D(16, (3, 3), activation='relu', padding='same') (u8)\n",
    "        c8 = Conv2D(16, (3, 3), activation='relu', padding='same') (c8)\n",
    "\n",
    "        u9 = Conv2DTranspose(8, (2, 2), strides=(2, 2), padding='same') (c8)\n",
    "        u9 = concatenate([u9, c1], axis=3)\n",
    "        c9 = Conv2D(8, (3, 3), activation='relu', padding='same') (u9)\n",
    "        c9 = Conv2D(8, (3, 3), activation='relu', padding='same') (c9)\n",
    "\n",
    "        out = Conv2D(1, (1, 1), activation='sigmoid') (c9)\n",
    "        \n",
    "        target = tf.placeholder(\"float\", shape=[None, None, None, 1])\n",
    "        loss_mask = tf.placeholder(\"float\", shape=[None, None, None, 1])\n",
    "        \n",
    "        loss = tf.reduce_mean(tf.losses.log_loss(target, out, weights = loss_mask))\n",
    "        \n",
    "        optimizer = tf.train.AdamOptimizer(learning_rate=0.001, beta2=0.98)\n",
    "        train_step = optimizer.minimize(loss)\n",
    "        \n",
    "    return Unet(scope, x, out, target, loss, loss_mask, train_step)"
   ]
  },
  {
   "cell_type": "code",
   "execution_count": 26,
   "metadata": {},
   "outputs": [],
   "source": [
    "class Unet:\n",
    "    def __init__(self, scope, x, out, target, loss, loss_mask, train_step):\n",
    "        self.scope = scope\n",
    "        self.x = x\n",
    "        self.out = out\n",
    "        self.target = target\n",
    "        self.loss = loss\n",
    "        self.loss_mask = loss_mask,\n",
    "        self.train_step = train_step"
   ]
  },
  {
   "cell_type": "code",
   "execution_count": 234,
   "metadata": {},
   "outputs": [],
   "source": [
    "tf.reset_default_graph()\n",
    "sess = tf.Session()"
   ]
  },
  {
   "cell_type": "code",
   "execution_count": 235,
   "metadata": {},
   "outputs": [],
   "source": [
    "Unets = []"
   ]
  },
  {
   "cell_type": "code",
   "execution_count": 296,
   "metadata": {},
   "outputs": [],
   "source": [
    "Unets.append(get_Unet(\"other_data_36\", 3))"
   ]
  },
  {
   "cell_type": "code",
   "execution_count": 297,
   "metadata": {
    "scrolled": true
   },
   "outputs": [],
   "source": [
    "uninitialized_vars = []\n",
    "for var in tf.all_variables():\n",
    "    try:\n",
    "        sess.run(var)\n",
    "    except tf.errors.FailedPreconditionError:\n",
    "        uninitialized_vars.append(var)\n",
    "\n",
    "init_new_vars_op = tf.initialize_variables(uninitialized_vars)\n",
    "sess.run(init_new_vars_op)"
   ]
  },
  {
   "cell_type": "code",
   "execution_count": 298,
   "metadata": {},
   "outputs": [],
   "source": [
    "train_loss = []\n",
    "val_scores = []\n",
    "val_loss = []"
   ]
  },
  {
   "cell_type": "code",
   "execution_count": 299,
   "metadata": {},
   "outputs": [],
   "source": [
    "epochs = 10\n",
    "l_r = 0.001"
   ]
  },
  {
   "cell_type": "code",
   "execution_count": 301,
   "metadata": {
    "scrolled": false
   },
   "outputs": [
    {
     "data": {
      "image/png": "[encoded data removed]",
      "text/plain": [
       "<matplotlib.figure.Figure at 0x7fb0ed87ccf8>"
      ]
     },
     "metadata": {},
     "output_type": "display_data"
    }
   ],
   "source": [
    "U_ind = 2\n",
    "s, e = 3, 6\n",
    "for epoch in range(epochs):\n",
    "    curr_loss = 0\n",
    "    for i, (batch_x, batch_y) in tqdm(enumerate(iterate_minibatches(X_p[:700], y_n[:700], 20))):\n",
    "        batch_w = np.expand_dims((batch_y > 0.).astype(float) * (batch_y == 0).sum() + (batch_y == 0).astype(float) * (batch_y != 0).sum(), 3)\n",
    "#         batch_x = np.expand_dims(batch_x, 3)\n",
    "        batch_y = np.expand_dims(batch_y, 3)\n",
    "        batch_loss = sess.run([Unets[U_ind].train_step,Unets[U_ind].loss], feed_dict={Unets[U_ind].x : batch_x[:,:,:,s:e],\n",
    "                                                            Unets[U_ind].target: batch_y,\n",
    "                                                            Unets[U_ind].loss_mask: batch_w,\n",
    "                                                            })\n",
    "        curr_loss += batch_loss[1]\n",
    "        #print(curr_loss)\n",
    "\n",
    "    train_loss.append(curr_loss / (i + 1)) \n",
    "    \n",
    "#     val_score = validate_simple(val_data, predict)            \n",
    "#     val_scores.append(val_score)\n",
    "    \n",
    "    \n",
    "    \n",
    "    curr_loss = 0\n",
    "    for i, (batch_x, batch_y) in tqdm(enumerate(iterate_minibatches(X_p[700:850], y_n[700:850], 20))):\n",
    "#         batch_x = np.expand_dims(batch_x, 3)\n",
    "        batch_w = np.expand_dims((batch_y > 0.).astype(float) * (batch_y == 0).sum() + (batch_y == 0).astype(float) * (batch_y != 0), 3)\n",
    "        batch_y = np.expand_dims(batch_y, 3)\n",
    "        batch_loss = sess.run([Unets[U_ind].loss], feed_dict={Unets[U_ind].x : batch_x[:,:,:,s:e],\n",
    "                                                 Unets[U_ind].target: batch_y,\n",
    "                                                 Unets[U_ind].loss_mask: batch_w,\n",
    "                                                 })\n",
    "        curr_loss += batch_loss[0]\n",
    "        #print(curr_loss)\n",
    "\n",
    "    val_loss.append(curr_loss / (i + 1))\n",
    "    \n",
    "    \n",
    "    #val_loss.append(sess.run(loss, feed_dict={x:X_n, target:val_y, loss_mask:val_mask}))\n",
    "   \n",
    "    display.clear_output(wait=True)\n",
    "    plt.figure(figsize = (8,6))\n",
    "    plt.plot(train_loss, label='train')\n",
    "    #plt.plot(val_scores, label='test')\n",
    "    plt.plot(val_loss, label='test')\n",
    "\n",
    "    plt.xlabel(\"epoch\")\n",
    "    plt.ylabel(\"Logloss\")\n",
    "    plt.legend()\n",
    "    plt.show()\n",
    "            "
   ]
  },
  {
   "cell_type": "code",
   "execution_count": 302,
   "metadata": {},
   "outputs": [],
   "source": [
    "pred = sess.run(Unets[U_ind].out, feed_dict={Unets[U_ind].x : X_p[850:,:,:,s:e]})[:,:,:,0]"
   ]
  },
  {
   "cell_type": "code",
   "execution_count": 303,
   "metadata": {},
   "outputs": [],
   "source": [
    "#plot_group(pred[1], 0, y[801], 0, X[801], 1, X_p_n_p[801][:,:,0], 0, s = 16)"
   ]
  },
  {
   "cell_type": "code",
   "execution_count": 304,
   "metadata": {},
   "outputs": [
    {
     "data": {
      "image/png": "[encoded data removed]",
      "text/plain": [
       "<matplotlib.figure.Figure at 0x7fb148f32198>"
      ]
     },
     "metadata": {},
     "output_type": "display_data"
    }
   ],
   "source": [
    "plot_gr(pred[1])"
   ]
  },
  {
   "cell_type": "code",
   "execution_count": 305,
   "metadata": {},
   "outputs": [
    {
     "data": {
      "image/png": "[encoded data removed]",
      "text/plain": [
       "<matplotlib.figure.Figure at 0x7fb0ed25b518>"
      ]
     },
     "metadata": {},
     "output_type": "display_data"
    }
   ],
   "source": [
    "plot_gr(y_n[851])"
   ]
  },
  {
   "cell_type": "code",
   "execution_count": 306,
   "metadata": {},
   "outputs": [],
   "source": [
    "from sklearn.metrics import roc_auc_score, f1_score,log_loss, accuracy_score, classification_report"
   ]
  },
  {
   "cell_type": "code",
   "execution_count": 307,
   "metadata": {},
   "outputs": [
    {
     "data": {
      "text/plain": [
       "144.0750247001648"
      ]
     },
     "execution_count": 307,
     "metadata": {},
     "output_type": "execute_result"
    }
   ],
   "source": [
    "log_loss(y_n[850:].reshape(150, -1), pred.reshape(150, -1))"
   ]
  },
  {
   "cell_type": "code",
   "execution_count": 308,
   "metadata": {},
   "outputs": [
    {
     "data": {
      "text/plain": [
       "0.8920863309352518"
      ]
     },
     "execution_count": 308,
     "metadata": {},
     "output_type": "execute_result"
    }
   ],
   "source": [
    "# default unet default loss\n",
    "f1_score(y_n[850:].flatten(), pred.flatten() > 0.5)"
   ]
  },
  {
   "cell_type": "code",
   "execution_count": 309,
   "metadata": {},
   "outputs": [
    {
     "name": "stdout",
     "output_type": "stream",
     "text": [
      "             precision    recall  f1-score   support\n",
      "\n",
      "          0       1.00      1.00      1.00    149160\n",
      "          1       0.95      0.84      0.89      4440\n",
      "\n",
      "avg / total       0.99      0.99      0.99    153600\n",
      "\n"
     ]
    }
   ],
   "source": [
    "# default unet default loss\n",
    "print(classification_report(y_n[850:].flatten(), pred.flatten() > 0.5))"
   ]
  },
  {
   "cell_type": "code",
   "execution_count": null,
   "metadata": {},
   "outputs": [],
   "source": []
  },
  {
   "cell_type": "code",
   "execution_count": 310,
   "metadata": {},
   "outputs": [],
   "source": [
    "gr = np.load(\"../data/graphs/ES3_22.npy\")[:32, :32]\n",
    "#gr = np.load(\"../data/graphs/SlO_22_cut_at_10.npy\")[:80, :80]"
   ]
  },
  {
   "cell_type": "code",
   "execution_count": 311,
   "metadata": {},
   "outputs": [],
   "source": [
    "gr_p = process_x(gr)"
   ]
  },
  {
   "cell_type": "code",
   "execution_count": 323,
   "metadata": {},
   "outputs": [],
   "source": [
    "es_pred = sess.run(Unets[U_ind].out, feed_dict={Unets[U_ind].x : gr_p[:,:,:,s:e]} )[0,:,:,0]"
   ]
  },
  {
   "cell_type": "code",
   "execution_count": 322,
   "metadata": {},
   "outputs": [],
   "source": [
    "es_pred1 = sess.run(Unets[1].out, feed_dict={Unets[1].x : gr_p[:,:,:,s:e]} )[0,:,:,0]"
   ]
  },
  {
   "cell_type": "code",
   "execution_count": 313,
   "metadata": {},
   "outputs": [
    {
     "data": {
      "text/plain": [
       "(32, 32)"
      ]
     },
     "execution_count": 313,
     "metadata": {},
     "output_type": "execute_result"
    }
   ],
   "source": [
    "es_pred.shape"
   ]
  },
  {
   "cell_type": "code",
   "execution_count": 324,
   "metadata": {},
   "outputs": [
    {
     "data": {
      "text/plain": [
       "6"
      ]
     },
     "execution_count": 324,
     "metadata": {},
     "output_type": "execute_result"
    }
   ],
   "source": [
    "(es_pred + es_pred1 > 0.5).sum()"
   ]
  },
  {
   "cell_type": "code",
   "execution_count": 315,
   "metadata": {},
   "outputs": [],
   "source": [
    "pp = [[1, 0, 3, 6, 8, 9, 10, 13, 14, 15, 17, 12, 16] for i in range(5)] + \\\n",
    "        [[4, 2, 5, 7, 11] for i in range(5)] + \\\n",
    "        [[4, 24, 19, 18, 25, 30, 27, 26, 28, 31, 32, 33, 34]] + \\\n",
    "        [[1, 20, 22, 23, 21, 29]]"
   ]
  },
  {
   "cell_type": "code",
   "execution_count": 316,
   "metadata": {},
   "outputs": [],
   "source": [
    "es_answ = np.zeros((35,35))\n",
    "\n",
    "for p in pp:\n",
    "    for a, b in zip(p, p[1:]):\n",
    "        es_answ[a][b] = 1"
   ]
  },
  {
   "cell_type": "code",
   "execution_count": 317,
   "metadata": {},
   "outputs": [
    {
     "data": {
      "text/plain": [
       "(array([ 0,  1,  1,  2,  3,  4,  4,  5,  6,  8,  9, 10, 11, 13, 14, 15, 17,\n",
       "        18, 19, 20, 21, 22, 23, 24, 25, 26, 27, 28, 30]),\n",
       " array([ 3,  0, 20,  5,  6,  2, 24,  7,  8,  9, 10, 13, 15, 14, 15, 17, 12,\n",
       "        25, 18, 22, 29, 23, 21, 19, 30, 28, 26, 31, 27]))"
      ]
     },
     "execution_count": 317,
     "metadata": {},
     "output_type": "execute_result"
    }
   ],
   "source": [
    "np.where((((es_pred > 0.5).astype(int)) != es_answ[:32,:32]))"
   ]
  },
  {
   "cell_type": "code",
   "execution_count": 318,
   "metadata": {},
   "outputs": [
    {
     "data": {
      "text/plain": [
       "0.0"
      ]
     },
     "execution_count": 318,
     "metadata": {},
     "output_type": "execute_result"
    }
   ],
   "source": [
    "es_pred[1, 20]"
   ]
  },
  {
   "cell_type": "code",
   "execution_count": 319,
   "metadata": {},
   "outputs": [
    {
     "data": {
      "text/plain": [
       "0.0"
      ]
     },
     "execution_count": 319,
     "metadata": {},
     "output_type": "execute_result"
    }
   ],
   "source": [
    "es_pred[4, 24]"
   ]
  },
  {
   "cell_type": "code",
   "execution_count": 325,
   "metadata": {},
   "outputs": [
    {
     "data": {
      "text/plain": [
       "<matplotlib.figure.Figure at 0x7fb0ed3687f0>"
      ]
     },
     "metadata": {},
     "output_type": "display_data"
    },
    {
     "data": {
      "image/png": "[encoded data removed]",
      "text/plain": [
       "<matplotlib.figure.Figure at 0x7fb0ecfedcc0>"
      ]
     },
     "metadata": {},
     "output_type": "display_data"
    }
   ],
   "source": [
    "plot_group(es_answ[:32,:32] ,0,es_pred + es_pred1 > 0.5 ,0, gr_p[0,:,:,4], 0, s = 14)"
   ]
  },
  {
   "cell_type": "code",
   "execution_count": null,
   "metadata": {},
   "outputs": [],
   "source": []
  },
  {
   "cell_type": "code",
   "execution_count": null,
   "metadata": {},
   "outputs": [],
   "source": []
  },
  {
   "cell_type": "code",
   "execution_count": 268,
   "metadata": {},
   "outputs": [],
   "source": [
    "import sys\n",
    "sys.path.append(\"./h_module/\")"
   ]
  },
  {
   "cell_type": "code",
   "execution_count": 269,
   "metadata": {},
   "outputs": [],
   "source": [
    "import h_module.hamiltonian_path as hp"
   ]
  },
  {
   "cell_type": "code",
   "execution_count": 280,
   "metadata": {},
   "outputs": [
    {
     "data": {
      "text/plain": [
       "25"
      ]
     },
     "execution_count": 280,
     "metadata": {},
     "output_type": "execute_result"
    }
   ],
   "source": [
    "c = {}\n",
    "hp.next_edge(gr, c)"
   ]
  },
  {
   "cell_type": "code",
   "execution_count": 281,
   "metadata": {},
   "outputs": [
    {
     "data": {
      "text/plain": [
       "{0: [74, 33, 77, 63, 37, 8, 7, 14, 15, 9, 16, 12, 11, 10, 13, 35, 56, 75, 44, 76, 53, 51, 70, 65, 61, 47, 34, 29, 22, 30, 20, 24, 43, 50, 79, 60, 67, 72, 54, 78, 52, 64, 73, 21, 62, 58, 19, 17, 18, 23, 57, 71, 42, 5, 3, 0, 2, 4, 1, 6, 32, 69, 28, 45, 68, 48, 36, 39, 46, 41, 59, 38, 26, 31, 27, 40, 66, 55, 49],\n",
       " 17: [25, 25]}"
      ]
     },
     "execution_count": 281,
     "metadata": {},
     "output_type": "execute_result"
    }
   ],
   "source": [
    "c"
   ]
  },
  {
   "cell_type": "code",
   "execution_count": 282,
   "metadata": {},
   "outputs": [
    {
     "data": {
      "text/plain": [
       "24"
      ]
     },
     "execution_count": 282,
     "metadata": {},
     "output_type": "execute_result"
    }
   ],
   "source": [
    "c1 = {}\n",
    "hp.next_edge((es_pred > 0.2).astype(int), c1)"
   ]
  },
  {
   "cell_type": "code",
   "execution_count": 287,
   "metadata": {},
   "outputs": [],
   "source": [
    "w1 = []\n",
    "for i, j in zip(c1[0].chain, c1[0].chain[1:]):\n",
    "    w1.append(gr[i][j])"
   ]
  },
  {
   "cell_type": "code",
   "execution_count": 289,
   "metadata": {},
   "outputs": [
    {
     "data": {
      "text/plain": [
       "7440.0"
      ]
     },
     "execution_count": 289,
     "metadata": {},
     "output_type": "execute_result"
    }
   ],
   "source": [
    "sum(w1)"
   ]
  },
  {
   "cell_type": "code",
   "execution_count": 290,
   "metadata": {},
   "outputs": [],
   "source": [
    "w = []\n",
    "for i, j in zip(c[0].chain, c[0].chain[1:]):\n",
    "    w.append(gr[i][j])"
   ]
  },
  {
   "cell_type": "code",
   "execution_count": 291,
   "metadata": {
    "scrolled": true
   },
   "outputs": [
    {
     "data": {
      "text/plain": [
       "8600.0"
      ]
     },
     "execution_count": 291,
     "metadata": {},
     "output_type": "execute_result"
    }
   ],
   "source": [
    "sum(w)"
   ]
  },
  {
   "cell_type": "code",
   "execution_count": 299,
   "metadata": {},
   "outputs": [
    {
     "data": {
      "text/plain": [
       "[54, 52, 64, 78, 62, 19, 75, 32, 18, 23]"
      ]
     },
     "execution_count": 299,
     "metadata": {},
     "output_type": "execute_result"
    }
   ],
   "source": [
    "c1[0].chain[:10]"
   ]
  },
  {
   "cell_type": "code",
   "execution_count": 294,
   "metadata": {},
   "outputs": [
    {
     "data": {
      "text/plain": [
       "[0.0, 78.0, 0.0, 0.0, 1.0, 3.0, 0.0, 5.0, 133.0, 108.0]"
      ]
     },
     "execution_count": 294,
     "metadata": {},
     "output_type": "execute_result"
    }
   ],
   "source": [
    "w1[:10]"
   ]
  },
  {
   "cell_type": "code",
   "execution_count": 300,
   "metadata": {},
   "outputs": [
    {
     "data": {
      "text/plain": [
       "[74, 33, 77, 63, 37, 8, 7, 14, 15, 9]"
      ]
     },
     "execution_count": 300,
     "metadata": {},
     "output_type": "execute_result"
    }
   ],
   "source": [
    "c[0].chain[:10]"
   ]
  },
  {
   "cell_type": "code",
   "execution_count": 295,
   "metadata": {},
   "outputs": [
    {
     "data": {
      "text/plain": [
       "[68.0, 99.0, 0.0, 1.0, 5.0, 540.0, 210.0, 278.0, 228.0, 204.0]"
      ]
     },
     "execution_count": 295,
     "metadata": {},
     "output_type": "execute_result"
    }
   ],
   "source": [
    "w[:10]"
   ]
  },
  {
   "cell_type": "code",
   "execution_count": null,
   "metadata": {},
   "outputs": [],
   "source": []
  }
 ],
 "metadata": {
  "kernelspec": {
   "display_name": "Python 3",
   "language": "python",
   "name": "python3"
  },
  "language_info": {
   "codemirror_mode": {
    "name": "ipython",
    "version": 3
   },
   "file_extension": ".py",
   "mimetype": "text/x-python",
   "name": "python",
   "nbconvert_exporter": "python",
   "pygments_lexer": "ipython3",
   "version": "3.6.3"
  }
 },
 "nbformat": 4,
 "nbformat_minor": 2
}
